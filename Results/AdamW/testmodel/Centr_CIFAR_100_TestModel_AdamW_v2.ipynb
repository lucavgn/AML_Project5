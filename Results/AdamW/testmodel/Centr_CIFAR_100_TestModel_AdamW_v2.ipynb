{
  "cells": [
    {
      "cell_type": "code",
      "execution_count": 7,
      "metadata": {
        "colab": {
          "base_uri": "https://localhost:8080/",
          "height": 1000
        },
        "id": "3sSBZt98ePGy",
        "outputId": "ad3757d2-c93e-484e-ee05-04ef9dc22c20"
      },
      "outputs": [
        {
          "output_type": "stream",
          "name": "stdout",
          "text": [
            "Files already downloaded and verified\n",
            "Files already downloaded and verified\n",
            "Files already downloaded and verified\n",
            "--- Train with AdamW ---\n",
            "Epoch 1/150, Train Acc: 9.64%, Test Acc: 15.39%\n",
            "Epoch 1/150, Train Loss: 3.9485, Test Loss: 3.5613\n",
            "Epoch 2/150, Train Acc: 17.43%, Test Acc: 21.65%\n",
            "Epoch 2/150, Train Loss: 3.4393, Test Loss: 3.2255\n",
            "Epoch 3/150, Train Acc: 22.38%, Test Acc: 25.24%\n",
            "Epoch 3/150, Train Loss: 3.1697, Test Loss: 3.0550\n",
            "Epoch 4/150, Train Acc: 25.85%, Test Acc: 28.63%\n",
            "Epoch 4/150, Train Loss: 2.9923, Test Loss: 2.8434\n",
            "Epoch 5/150, Train Acc: 28.75%, Test Acc: 31.75%\n",
            "Epoch 5/150, Train Loss: 2.8452, Test Loss: 2.7049\n",
            "Epoch 6/150, Train Acc: 30.94%, Test Acc: 33.35%\n",
            "Epoch 6/150, Train Loss: 2.7291, Test Loss: 2.6072\n",
            "Epoch 7/150, Train Acc: 32.84%, Test Acc: 36.05%\n",
            "Epoch 7/150, Train Loss: 2.6300, Test Loss: 2.4934\n",
            "Epoch 8/150, Train Acc: 34.49%, Test Acc: 37.14%\n",
            "Epoch 8/150, Train Loss: 2.5550, Test Loss: 2.4391\n",
            "Epoch 9/150, Train Acc: 35.55%, Test Acc: 37.26%\n",
            "Epoch 9/150, Train Loss: 2.4963, Test Loss: 2.4422\n",
            "Checkpoint saved at epoch 10: ./checkpoint_epoch_10.pth\n"
          ]
        },
        {
          "output_type": "display_data",
          "data": {
            "text/plain": [
              "<IPython.core.display.Javascript object>"
            ],
            "application/javascript": [
              "\n",
              "    async function download(id, filename, size) {\n",
              "      if (!google.colab.kernel.accessAllowed) {\n",
              "        return;\n",
              "      }\n",
              "      const div = document.createElement('div');\n",
              "      const label = document.createElement('label');\n",
              "      label.textContent = `Downloading \"${filename}\": `;\n",
              "      div.appendChild(label);\n",
              "      const progress = document.createElement('progress');\n",
              "      progress.max = size;\n",
              "      div.appendChild(progress);\n",
              "      document.body.appendChild(div);\n",
              "\n",
              "      const buffers = [];\n",
              "      let downloaded = 0;\n",
              "\n",
              "      const channel = await google.colab.kernel.comms.open(id);\n",
              "      // Send a message to notify the kernel that we're ready.\n",
              "      channel.send({})\n",
              "\n",
              "      for await (const message of channel.messages) {\n",
              "        // Send a message to notify the kernel that we're ready.\n",
              "        channel.send({})\n",
              "        if (message.buffers) {\n",
              "          for (const buffer of message.buffers) {\n",
              "            buffers.push(buffer);\n",
              "            downloaded += buffer.byteLength;\n",
              "            progress.value = downloaded;\n",
              "          }\n",
              "        }\n",
              "      }\n",
              "      const blob = new Blob(buffers, {type: 'application/binary'});\n",
              "      const a = document.createElement('a');\n",
              "      a.href = window.URL.createObjectURL(blob);\n",
              "      a.download = filename;\n",
              "      div.appendChild(a);\n",
              "      a.click();\n",
              "      div.remove();\n",
              "    }\n",
              "  "
            ]
          },
          "metadata": {}
        },
        {
          "output_type": "display_data",
          "data": {
            "text/plain": [
              "<IPython.core.display.Javascript object>"
            ],
            "application/javascript": [
              "download(\"download_d4034244-7290-4bdd-84f7-5d09655be0bb\", \"checkpoint_epoch_10.pth\", 9796718)"
            ]
          },
          "metadata": {}
        },
        {
          "output_type": "stream",
          "name": "stdout",
          "text": [
            "Epoch 10/150, Train Acc: 37.01%, Test Acc: 38.40%\n",
            "Epoch 10/150, Train Loss: 2.4338, Test Loss: 2.3918\n",
            "Epoch 11/150, Train Acc: 37.99%, Test Acc: 39.49%\n",
            "Epoch 11/150, Train Loss: 2.3888, Test Loss: 2.3364\n",
            "Epoch 12/150, Train Acc: 38.84%, Test Acc: 40.50%\n",
            "Epoch 12/150, Train Loss: 2.3428, Test Loss: 2.2801\n",
            "Epoch 13/150, Train Acc: 40.06%, Test Acc: 40.92%\n",
            "Epoch 13/150, Train Loss: 2.2972, Test Loss: 2.2808\n",
            "Epoch 14/150, Train Acc: 40.84%, Test Acc: 40.82%\n",
            "Epoch 14/150, Train Loss: 2.2587, Test Loss: 2.2800\n",
            "Epoch 15/150, Train Acc: 41.53%, Test Acc: 42.31%\n",
            "Epoch 15/150, Train Loss: 2.2258, Test Loss: 2.2227\n",
            "Epoch 16/150, Train Acc: 42.16%, Test Acc: 43.13%\n",
            "Epoch 16/150, Train Loss: 2.1918, Test Loss: 2.2047\n",
            "Epoch 17/150, Train Acc: 43.06%, Test Acc: 43.28%\n",
            "Epoch 17/150, Train Loss: 2.1602, Test Loss: 2.1917\n",
            "Epoch 18/150, Train Acc: 43.71%, Test Acc: 42.98%\n",
            "Epoch 18/150, Train Loss: 2.1266, Test Loss: 2.1951\n",
            "Epoch 19/150, Train Acc: 44.24%, Test Acc: 44.32%\n",
            "Epoch 19/150, Train Loss: 2.0992, Test Loss: 2.1331\n",
            "Checkpoint saved at epoch 20: ./checkpoint_epoch_20.pth\n"
          ]
        },
        {
          "output_type": "display_data",
          "data": {
            "text/plain": [
              "<IPython.core.display.Javascript object>"
            ],
            "application/javascript": [
              "\n",
              "    async function download(id, filename, size) {\n",
              "      if (!google.colab.kernel.accessAllowed) {\n",
              "        return;\n",
              "      }\n",
              "      const div = document.createElement('div');\n",
              "      const label = document.createElement('label');\n",
              "      label.textContent = `Downloading \"${filename}\": `;\n",
              "      div.appendChild(label);\n",
              "      const progress = document.createElement('progress');\n",
              "      progress.max = size;\n",
              "      div.appendChild(progress);\n",
              "      document.body.appendChild(div);\n",
              "\n",
              "      const buffers = [];\n",
              "      let downloaded = 0;\n",
              "\n",
              "      const channel = await google.colab.kernel.comms.open(id);\n",
              "      // Send a message to notify the kernel that we're ready.\n",
              "      channel.send({})\n",
              "\n",
              "      for await (const message of channel.messages) {\n",
              "        // Send a message to notify the kernel that we're ready.\n",
              "        channel.send({})\n",
              "        if (message.buffers) {\n",
              "          for (const buffer of message.buffers) {\n",
              "            buffers.push(buffer);\n",
              "            downloaded += buffer.byteLength;\n",
              "            progress.value = downloaded;\n",
              "          }\n",
              "        }\n",
              "      }\n",
              "      const blob = new Blob(buffers, {type: 'application/binary'});\n",
              "      const a = document.createElement('a');\n",
              "      a.href = window.URL.createObjectURL(blob);\n",
              "      a.download = filename;\n",
              "      div.appendChild(a);\n",
              "      a.click();\n",
              "      div.remove();\n",
              "    }\n",
              "  "
            ]
          },
          "metadata": {}
        },
        {
          "output_type": "display_data",
          "data": {
            "text/plain": [
              "<IPython.core.display.Javascript object>"
            ],
            "application/javascript": [
              "download(\"download_d323983f-d781-48f0-ae90-d350b9758a82\", \"checkpoint_epoch_20.pth\", 9796718)"
            ]
          },
          "metadata": {}
        },
        {
          "output_type": "stream",
          "name": "stdout",
          "text": [
            "Epoch 20/150, Train Acc: 44.77%, Test Acc: 42.76%\n",
            "Epoch 20/150, Train Loss: 2.0808, Test Loss: 2.1896\n",
            "Epoch 21/150, Train Acc: 45.38%, Test Acc: 44.44%\n",
            "Epoch 21/150, Train Loss: 2.0526, Test Loss: 2.1307\n",
            "Epoch 22/150, Train Acc: 45.82%, Test Acc: 45.39%\n",
            "Epoch 22/150, Train Loss: 2.0283, Test Loss: 2.1051\n",
            "Epoch 23/150, Train Acc: 46.35%, Test Acc: 45.36%\n",
            "Epoch 23/150, Train Loss: 2.0087, Test Loss: 2.0819\n",
            "Epoch 24/150, Train Acc: 46.71%, Test Acc: 45.28%\n",
            "Epoch 24/150, Train Loss: 1.9801, Test Loss: 2.0961\n",
            "Epoch 25/150, Train Acc: 47.38%, Test Acc: 46.41%\n",
            "Epoch 25/150, Train Loss: 1.9642, Test Loss: 2.0428\n",
            "Epoch 26/150, Train Acc: 47.57%, Test Acc: 45.28%\n",
            "Epoch 26/150, Train Loss: 1.9472, Test Loss: 2.0917\n",
            "Epoch 27/150, Train Acc: 48.09%, Test Acc: 45.49%\n",
            "Epoch 27/150, Train Loss: 1.9239, Test Loss: 2.0823\n",
            "Epoch 28/150, Train Acc: 48.41%, Test Acc: 46.35%\n",
            "Epoch 28/150, Train Loss: 1.9102, Test Loss: 2.0441\n",
            "Epoch 29/150, Train Acc: 48.96%, Test Acc: 46.60%\n",
            "Epoch 29/150, Train Loss: 1.8842, Test Loss: 2.0271\n",
            "Checkpoint saved at epoch 30: ./checkpoint_epoch_30.pth\n"
          ]
        },
        {
          "output_type": "display_data",
          "data": {
            "text/plain": [
              "<IPython.core.display.Javascript object>"
            ],
            "application/javascript": [
              "\n",
              "    async function download(id, filename, size) {\n",
              "      if (!google.colab.kernel.accessAllowed) {\n",
              "        return;\n",
              "      }\n",
              "      const div = document.createElement('div');\n",
              "      const label = document.createElement('label');\n",
              "      label.textContent = `Downloading \"${filename}\": `;\n",
              "      div.appendChild(label);\n",
              "      const progress = document.createElement('progress');\n",
              "      progress.max = size;\n",
              "      div.appendChild(progress);\n",
              "      document.body.appendChild(div);\n",
              "\n",
              "      const buffers = [];\n",
              "      let downloaded = 0;\n",
              "\n",
              "      const channel = await google.colab.kernel.comms.open(id);\n",
              "      // Send a message to notify the kernel that we're ready.\n",
              "      channel.send({})\n",
              "\n",
              "      for await (const message of channel.messages) {\n",
              "        // Send a message to notify the kernel that we're ready.\n",
              "        channel.send({})\n",
              "        if (message.buffers) {\n",
              "          for (const buffer of message.buffers) {\n",
              "            buffers.push(buffer);\n",
              "            downloaded += buffer.byteLength;\n",
              "            progress.value = downloaded;\n",
              "          }\n",
              "        }\n",
              "      }\n",
              "      const blob = new Blob(buffers, {type: 'application/binary'});\n",
              "      const a = document.createElement('a');\n",
              "      a.href = window.URL.createObjectURL(blob);\n",
              "      a.download = filename;\n",
              "      div.appendChild(a);\n",
              "      a.click();\n",
              "      div.remove();\n",
              "    }\n",
              "  "
            ]
          },
          "metadata": {}
        },
        {
          "output_type": "display_data",
          "data": {
            "text/plain": [
              "<IPython.core.display.Javascript object>"
            ],
            "application/javascript": [
              "download(\"download_31218fde-8fdb-4a58-b55a-b8c035f54615\", \"checkpoint_epoch_30.pth\", 9796718)"
            ]
          },
          "metadata": {}
        },
        {
          "output_type": "stream",
          "name": "stdout",
          "text": [
            "Epoch 30/150, Train Acc: 49.24%, Test Acc: 46.73%\n",
            "Epoch 30/150, Train Loss: 1.8731, Test Loss: 2.0332\n",
            "Epoch 31/150, Train Acc: 49.44%, Test Acc: 47.46%\n",
            "Epoch 31/150, Train Loss: 1.8565, Test Loss: 2.0194\n",
            "Epoch 32/150, Train Acc: 49.80%, Test Acc: 46.60%\n",
            "Epoch 32/150, Train Loss: 1.8413, Test Loss: 2.0305\n",
            "Epoch 33/150, Train Acc: 50.65%, Test Acc: 48.31%\n",
            "Epoch 33/150, Train Loss: 1.8196, Test Loss: 1.9848\n",
            "Epoch 34/150, Train Acc: 50.79%, Test Acc: 46.69%\n",
            "Epoch 34/150, Train Loss: 1.8067, Test Loss: 2.0085\n",
            "Epoch 35/150, Train Acc: 50.88%, Test Acc: 47.48%\n",
            "Epoch 35/150, Train Loss: 1.7961, Test Loss: 2.0095\n",
            "Epoch 36/150, Train Acc: 51.21%, Test Acc: 47.85%\n",
            "Epoch 36/150, Train Loss: 1.7826, Test Loss: 1.9843\n",
            "Epoch 37/150, Train Acc: 51.63%, Test Acc: 48.65%\n",
            "Epoch 37/150, Train Loss: 1.7698, Test Loss: 1.9612\n",
            "Epoch 38/150, Train Acc: 52.12%, Test Acc: 48.29%\n",
            "Epoch 38/150, Train Loss: 1.7557, Test Loss: 1.9765\n",
            "Epoch 39/150, Train Acc: 52.28%, Test Acc: 47.51%\n",
            "Epoch 39/150, Train Loss: 1.7400, Test Loss: 2.0277\n",
            "Checkpoint saved at epoch 40: ./checkpoint_epoch_40.pth\n"
          ]
        },
        {
          "output_type": "display_data",
          "data": {
            "text/plain": [
              "<IPython.core.display.Javascript object>"
            ],
            "application/javascript": [
              "\n",
              "    async function download(id, filename, size) {\n",
              "      if (!google.colab.kernel.accessAllowed) {\n",
              "        return;\n",
              "      }\n",
              "      const div = document.createElement('div');\n",
              "      const label = document.createElement('label');\n",
              "      label.textContent = `Downloading \"${filename}\": `;\n",
              "      div.appendChild(label);\n",
              "      const progress = document.createElement('progress');\n",
              "      progress.max = size;\n",
              "      div.appendChild(progress);\n",
              "      document.body.appendChild(div);\n",
              "\n",
              "      const buffers = [];\n",
              "      let downloaded = 0;\n",
              "\n",
              "      const channel = await google.colab.kernel.comms.open(id);\n",
              "      // Send a message to notify the kernel that we're ready.\n",
              "      channel.send({})\n",
              "\n",
              "      for await (const message of channel.messages) {\n",
              "        // Send a message to notify the kernel that we're ready.\n",
              "        channel.send({})\n",
              "        if (message.buffers) {\n",
              "          for (const buffer of message.buffers) {\n",
              "            buffers.push(buffer);\n",
              "            downloaded += buffer.byteLength;\n",
              "            progress.value = downloaded;\n",
              "          }\n",
              "        }\n",
              "      }\n",
              "      const blob = new Blob(buffers, {type: 'application/binary'});\n",
              "      const a = document.createElement('a');\n",
              "      a.href = window.URL.createObjectURL(blob);\n",
              "      a.download = filename;\n",
              "      div.appendChild(a);\n",
              "      a.click();\n",
              "      div.remove();\n",
              "    }\n",
              "  "
            ]
          },
          "metadata": {}
        },
        {
          "output_type": "display_data",
          "data": {
            "text/plain": [
              "<IPython.core.display.Javascript object>"
            ],
            "application/javascript": [
              "download(\"download_12308dd7-b90e-4fa8-b038-f3e00df150a1\", \"checkpoint_epoch_40.pth\", 9796718)"
            ]
          },
          "metadata": {}
        },
        {
          "output_type": "stream",
          "name": "stdout",
          "text": [
            "Epoch 40/150, Train Acc: 52.54%, Test Acc: 48.96%\n",
            "Epoch 40/150, Train Loss: 1.7299, Test Loss: 1.9503\n",
            "Epoch 41/150, Train Acc: 52.76%, Test Acc: 49.00%\n",
            "Epoch 41/150, Train Loss: 1.7184, Test Loss: 1.9552\n",
            "Epoch 42/150, Train Acc: 53.07%, Test Acc: 48.84%\n",
            "Epoch 42/150, Train Loss: 1.7084, Test Loss: 1.9493\n",
            "Epoch 43/150, Train Acc: 53.36%, Test Acc: 48.95%\n",
            "Epoch 43/150, Train Loss: 1.6973, Test Loss: 1.9205\n",
            "Epoch 44/150, Train Acc: 53.58%, Test Acc: 48.68%\n",
            "Epoch 44/150, Train Loss: 1.6823, Test Loss: 1.9429\n",
            "Epoch 45/150, Train Acc: 53.80%, Test Acc: 49.68%\n",
            "Epoch 45/150, Train Loss: 1.6685, Test Loss: 1.9268\n",
            "Epoch 46/150, Train Acc: 54.24%, Test Acc: 48.46%\n",
            "Epoch 46/150, Train Loss: 1.6610, Test Loss: 1.9521\n",
            "Epoch 47/150, Train Acc: 54.33%, Test Acc: 48.83%\n",
            "Epoch 47/150, Train Loss: 1.6506, Test Loss: 1.9545\n",
            "Epoch 48/150, Train Acc: 54.49%, Test Acc: 49.60%\n",
            "Epoch 48/150, Train Loss: 1.6472, Test Loss: 1.9186\n",
            "Epoch 49/150, Train Acc: 55.03%, Test Acc: 49.27%\n",
            "Epoch 49/150, Train Loss: 1.6316, Test Loss: 1.9288\n",
            "Checkpoint saved at epoch 50: ./checkpoint_epoch_50.pth\n"
          ]
        },
        {
          "output_type": "display_data",
          "data": {
            "text/plain": [
              "<IPython.core.display.Javascript object>"
            ],
            "application/javascript": [
              "\n",
              "    async function download(id, filename, size) {\n",
              "      if (!google.colab.kernel.accessAllowed) {\n",
              "        return;\n",
              "      }\n",
              "      const div = document.createElement('div');\n",
              "      const label = document.createElement('label');\n",
              "      label.textContent = `Downloading \"${filename}\": `;\n",
              "      div.appendChild(label);\n",
              "      const progress = document.createElement('progress');\n",
              "      progress.max = size;\n",
              "      div.appendChild(progress);\n",
              "      document.body.appendChild(div);\n",
              "\n",
              "      const buffers = [];\n",
              "      let downloaded = 0;\n",
              "\n",
              "      const channel = await google.colab.kernel.comms.open(id);\n",
              "      // Send a message to notify the kernel that we're ready.\n",
              "      channel.send({})\n",
              "\n",
              "      for await (const message of channel.messages) {\n",
              "        // Send a message to notify the kernel that we're ready.\n",
              "        channel.send({})\n",
              "        if (message.buffers) {\n",
              "          for (const buffer of message.buffers) {\n",
              "            buffers.push(buffer);\n",
              "            downloaded += buffer.byteLength;\n",
              "            progress.value = downloaded;\n",
              "          }\n",
              "        }\n",
              "      }\n",
              "      const blob = new Blob(buffers, {type: 'application/binary'});\n",
              "      const a = document.createElement('a');\n",
              "      a.href = window.URL.createObjectURL(blob);\n",
              "      a.download = filename;\n",
              "      div.appendChild(a);\n",
              "      a.click();\n",
              "      div.remove();\n",
              "    }\n",
              "  "
            ]
          },
          "metadata": {}
        },
        {
          "output_type": "display_data",
          "data": {
            "text/plain": [
              "<IPython.core.display.Javascript object>"
            ],
            "application/javascript": [
              "download(\"download_fcd1d946-f821-4089-b346-05020c80bd66\", \"checkpoint_epoch_50.pth\", 9796718)"
            ]
          },
          "metadata": {}
        },
        {
          "output_type": "stream",
          "name": "stdout",
          "text": [
            "Epoch 50/150, Train Acc: 55.26%, Test Acc: 49.90%\n",
            "Epoch 50/150, Train Loss: 1.6224, Test Loss: 1.9223\n",
            "Epoch 51/150, Train Acc: 55.08%, Test Acc: 50.04%\n",
            "Epoch 51/150, Train Loss: 1.6206, Test Loss: 1.9239\n",
            "Epoch 52/150, Train Acc: 55.50%, Test Acc: 49.23%\n",
            "Epoch 52/150, Train Loss: 1.6051, Test Loss: 1.9368\n",
            "Epoch 53/150, Train Acc: 55.62%, Test Acc: 49.22%\n",
            "Epoch 53/150, Train Loss: 1.6025, Test Loss: 1.9431\n",
            "Epoch 54/150, Train Acc: 55.56%, Test Acc: 50.33%\n",
            "Epoch 54/150, Train Loss: 1.5884, Test Loss: 1.8977\n",
            "Epoch 55/150, Train Acc: 56.08%, Test Acc: 50.33%\n",
            "Epoch 55/150, Train Loss: 1.5741, Test Loss: 1.8959\n",
            "Epoch 56/150, Train Acc: 56.57%, Test Acc: 50.51%\n",
            "Epoch 56/150, Train Loss: 1.5628, Test Loss: 1.8857\n",
            "Epoch 57/150, Train Acc: 56.66%, Test Acc: 50.09%\n",
            "Epoch 57/150, Train Loss: 1.5553, Test Loss: 1.9097\n",
            "Epoch 58/150, Train Acc: 56.71%, Test Acc: 50.06%\n",
            "Epoch 58/150, Train Loss: 1.5521, Test Loss: 1.8998\n",
            "Epoch 59/150, Train Acc: 56.88%, Test Acc: 50.95%\n",
            "Epoch 59/150, Train Loss: 1.5459, Test Loss: 1.8756\n",
            "Checkpoint saved at epoch 60: ./checkpoint_epoch_60.pth\n"
          ]
        },
        {
          "output_type": "display_data",
          "data": {
            "text/plain": [
              "<IPython.core.display.Javascript object>"
            ],
            "application/javascript": [
              "\n",
              "    async function download(id, filename, size) {\n",
              "      if (!google.colab.kernel.accessAllowed) {\n",
              "        return;\n",
              "      }\n",
              "      const div = document.createElement('div');\n",
              "      const label = document.createElement('label');\n",
              "      label.textContent = `Downloading \"${filename}\": `;\n",
              "      div.appendChild(label);\n",
              "      const progress = document.createElement('progress');\n",
              "      progress.max = size;\n",
              "      div.appendChild(progress);\n",
              "      document.body.appendChild(div);\n",
              "\n",
              "      const buffers = [];\n",
              "      let downloaded = 0;\n",
              "\n",
              "      const channel = await google.colab.kernel.comms.open(id);\n",
              "      // Send a message to notify the kernel that we're ready.\n",
              "      channel.send({})\n",
              "\n",
              "      for await (const message of channel.messages) {\n",
              "        // Send a message to notify the kernel that we're ready.\n",
              "        channel.send({})\n",
              "        if (message.buffers) {\n",
              "          for (const buffer of message.buffers) {\n",
              "            buffers.push(buffer);\n",
              "            downloaded += buffer.byteLength;\n",
              "            progress.value = downloaded;\n",
              "          }\n",
              "        }\n",
              "      }\n",
              "      const blob = new Blob(buffers, {type: 'application/binary'});\n",
              "      const a = document.createElement('a');\n",
              "      a.href = window.URL.createObjectURL(blob);\n",
              "      a.download = filename;\n",
              "      div.appendChild(a);\n",
              "      a.click();\n",
              "      div.remove();\n",
              "    }\n",
              "  "
            ]
          },
          "metadata": {}
        },
        {
          "output_type": "display_data",
          "data": {
            "text/plain": [
              "<IPython.core.display.Javascript object>"
            ],
            "application/javascript": [
              "download(\"download_7e70dbe0-c46c-4233-9cbd-8eb77fe0c7c5\", \"checkpoint_epoch_60.pth\", 9796718)"
            ]
          },
          "metadata": {}
        },
        {
          "output_type": "stream",
          "name": "stdout",
          "text": [
            "Epoch 60/150, Train Acc: 57.30%, Test Acc: 50.28%\n",
            "Epoch 60/150, Train Loss: 1.5304, Test Loss: 1.9058\n",
            "Epoch 61/150, Train Acc: 57.23%, Test Acc: 49.77%\n",
            "Epoch 61/150, Train Loss: 1.5298, Test Loss: 1.8987\n",
            "Epoch 62/150, Train Acc: 57.75%, Test Acc: 50.31%\n",
            "Epoch 62/150, Train Loss: 1.5178, Test Loss: 1.8919\n",
            "Epoch 63/150, Train Acc: 57.54%, Test Acc: 50.65%\n",
            "Epoch 63/150, Train Loss: 1.5145, Test Loss: 1.8670\n",
            "Epoch 64/150, Train Acc: 57.90%, Test Acc: 51.19%\n",
            "Epoch 64/150, Train Loss: 1.5033, Test Loss: 1.8714\n",
            "Epoch 65/150, Train Acc: 57.99%, Test Acc: 51.21%\n",
            "Epoch 65/150, Train Loss: 1.4942, Test Loss: 1.8872\n",
            "Epoch 66/150, Train Acc: 58.14%, Test Acc: 50.90%\n",
            "Epoch 66/150, Train Loss: 1.4897, Test Loss: 1.8737\n",
            "Epoch 67/150, Train Acc: 58.58%, Test Acc: 51.00%\n",
            "Epoch 67/150, Train Loss: 1.4774, Test Loss: 1.8744\n",
            "Epoch 68/150, Train Acc: 58.82%, Test Acc: 50.41%\n",
            "Epoch 68/150, Train Loss: 1.4751, Test Loss: 1.8835\n",
            "Epoch 69/150, Train Acc: 59.07%, Test Acc: 50.77%\n",
            "Epoch 69/150, Train Loss: 1.4601, Test Loss: 1.8712\n",
            "Checkpoint saved at epoch 70: ./checkpoint_epoch_70.pth\n"
          ]
        },
        {
          "output_type": "display_data",
          "data": {
            "text/plain": [
              "<IPython.core.display.Javascript object>"
            ],
            "application/javascript": [
              "\n",
              "    async function download(id, filename, size) {\n",
              "      if (!google.colab.kernel.accessAllowed) {\n",
              "        return;\n",
              "      }\n",
              "      const div = document.createElement('div');\n",
              "      const label = document.createElement('label');\n",
              "      label.textContent = `Downloading \"${filename}\": `;\n",
              "      div.appendChild(label);\n",
              "      const progress = document.createElement('progress');\n",
              "      progress.max = size;\n",
              "      div.appendChild(progress);\n",
              "      document.body.appendChild(div);\n",
              "\n",
              "      const buffers = [];\n",
              "      let downloaded = 0;\n",
              "\n",
              "      const channel = await google.colab.kernel.comms.open(id);\n",
              "      // Send a message to notify the kernel that we're ready.\n",
              "      channel.send({})\n",
              "\n",
              "      for await (const message of channel.messages) {\n",
              "        // Send a message to notify the kernel that we're ready.\n",
              "        channel.send({})\n",
              "        if (message.buffers) {\n",
              "          for (const buffer of message.buffers) {\n",
              "            buffers.push(buffer);\n",
              "            downloaded += buffer.byteLength;\n",
              "            progress.value = downloaded;\n",
              "          }\n",
              "        }\n",
              "      }\n",
              "      const blob = new Blob(buffers, {type: 'application/binary'});\n",
              "      const a = document.createElement('a');\n",
              "      a.href = window.URL.createObjectURL(blob);\n",
              "      a.download = filename;\n",
              "      div.appendChild(a);\n",
              "      a.click();\n",
              "      div.remove();\n",
              "    }\n",
              "  "
            ]
          },
          "metadata": {}
        },
        {
          "output_type": "display_data",
          "data": {
            "text/plain": [
              "<IPython.core.display.Javascript object>"
            ],
            "application/javascript": [
              "download(\"download_9737805b-bb05-463e-bddc-9862ae79aef3\", \"checkpoint_epoch_70.pth\", 9796718)"
            ]
          },
          "metadata": {}
        },
        {
          "output_type": "stream",
          "name": "stdout",
          "text": [
            "Epoch 70/150, Train Acc: 59.08%, Test Acc: 50.90%\n",
            "Epoch 70/150, Train Loss: 1.4585, Test Loss: 1.8677\n",
            "Epoch 71/150, Train Acc: 59.24%, Test Acc: 51.08%\n",
            "Epoch 71/150, Train Loss: 1.4547, Test Loss: 1.8727\n",
            "Epoch 72/150, Train Acc: 59.46%, Test Acc: 51.63%\n",
            "Epoch 72/150, Train Loss: 1.4409, Test Loss: 1.8495\n",
            "Epoch 73/150, Train Acc: 59.54%, Test Acc: 51.18%\n",
            "Epoch 73/150, Train Loss: 1.4412, Test Loss: 1.8721\n",
            "Epoch 74/150, Train Acc: 59.66%, Test Acc: 51.14%\n",
            "Epoch 74/150, Train Loss: 1.4345, Test Loss: 1.8695\n",
            "Epoch 75/150, Train Acc: 60.04%, Test Acc: 51.12%\n",
            "Epoch 75/150, Train Loss: 1.4231, Test Loss: 1.8717\n",
            "Epoch 76/150, Train Acc: 59.95%, Test Acc: 51.48%\n",
            "Epoch 76/150, Train Loss: 1.4207, Test Loss: 1.8494\n",
            "Epoch 77/150, Train Acc: 60.24%, Test Acc: 50.92%\n",
            "Epoch 77/150, Train Loss: 1.4134, Test Loss: 1.8712\n",
            "Epoch 78/150, Train Acc: 60.07%, Test Acc: 51.63%\n",
            "Epoch 78/150, Train Loss: 1.4073, Test Loss: 1.8525\n",
            "Epoch 79/150, Train Acc: 60.48%, Test Acc: 51.85%\n",
            "Epoch 79/150, Train Loss: 1.3969, Test Loss: 1.8526\n",
            "Checkpoint saved at epoch 80: ./checkpoint_epoch_80.pth\n"
          ]
        },
        {
          "output_type": "display_data",
          "data": {
            "text/plain": [
              "<IPython.core.display.Javascript object>"
            ],
            "application/javascript": [
              "\n",
              "    async function download(id, filename, size) {\n",
              "      if (!google.colab.kernel.accessAllowed) {\n",
              "        return;\n",
              "      }\n",
              "      const div = document.createElement('div');\n",
              "      const label = document.createElement('label');\n",
              "      label.textContent = `Downloading \"${filename}\": `;\n",
              "      div.appendChild(label);\n",
              "      const progress = document.createElement('progress');\n",
              "      progress.max = size;\n",
              "      div.appendChild(progress);\n",
              "      document.body.appendChild(div);\n",
              "\n",
              "      const buffers = [];\n",
              "      let downloaded = 0;\n",
              "\n",
              "      const channel = await google.colab.kernel.comms.open(id);\n",
              "      // Send a message to notify the kernel that we're ready.\n",
              "      channel.send({})\n",
              "\n",
              "      for await (const message of channel.messages) {\n",
              "        // Send a message to notify the kernel that we're ready.\n",
              "        channel.send({})\n",
              "        if (message.buffers) {\n",
              "          for (const buffer of message.buffers) {\n",
              "            buffers.push(buffer);\n",
              "            downloaded += buffer.byteLength;\n",
              "            progress.value = downloaded;\n",
              "          }\n",
              "        }\n",
              "      }\n",
              "      const blob = new Blob(buffers, {type: 'application/binary'});\n",
              "      const a = document.createElement('a');\n",
              "      a.href = window.URL.createObjectURL(blob);\n",
              "      a.download = filename;\n",
              "      div.appendChild(a);\n",
              "      a.click();\n",
              "      div.remove();\n",
              "    }\n",
              "  "
            ]
          },
          "metadata": {}
        },
        {
          "output_type": "display_data",
          "data": {
            "text/plain": [
              "<IPython.core.display.Javascript object>"
            ],
            "application/javascript": [
              "download(\"download_f43c22c8-9257-4839-bd60-89d382a99920\", \"checkpoint_epoch_80.pth\", 9796718)"
            ]
          },
          "metadata": {}
        },
        {
          "output_type": "stream",
          "name": "stdout",
          "text": [
            "Epoch 80/150, Train Acc: 60.73%, Test Acc: 51.56%\n",
            "Epoch 80/150, Train Loss: 1.3969, Test Loss: 1.8756\n",
            "Epoch 81/150, Train Acc: 60.82%, Test Acc: 51.59%\n",
            "Epoch 81/150, Train Loss: 1.3875, Test Loss: 1.8539\n",
            "Epoch 82/150, Train Acc: 61.02%, Test Acc: 51.67%\n",
            "Epoch 82/150, Train Loss: 1.3853, Test Loss: 1.8588\n",
            "Epoch 83/150, Train Acc: 61.21%, Test Acc: 51.87%\n",
            "Epoch 83/150, Train Loss: 1.3756, Test Loss: 1.8368\n",
            "Epoch 84/150, Train Acc: 61.43%, Test Acc: 51.81%\n",
            "Epoch 84/150, Train Loss: 1.3697, Test Loss: 1.8632\n",
            "Epoch 85/150, Train Acc: 61.54%, Test Acc: 51.46%\n",
            "Epoch 85/150, Train Loss: 1.3621, Test Loss: 1.8514\n",
            "Epoch 86/150, Train Acc: 61.64%, Test Acc: 52.05%\n",
            "Epoch 86/150, Train Loss: 1.3560, Test Loss: 1.8415\n",
            "Epoch 87/150, Train Acc: 61.76%, Test Acc: 51.76%\n",
            "Epoch 87/150, Train Loss: 1.3541, Test Loss: 1.8428\n",
            "Epoch 88/150, Train Acc: 61.79%, Test Acc: 51.85%\n",
            "Epoch 88/150, Train Loss: 1.3471, Test Loss: 1.8537\n",
            "Epoch 89/150, Train Acc: 62.20%, Test Acc: 51.26%\n",
            "Epoch 89/150, Train Loss: 1.3436, Test Loss: 1.8513\n",
            "Checkpoint saved at epoch 90: ./checkpoint_epoch_90.pth\n"
          ]
        },
        {
          "output_type": "display_data",
          "data": {
            "text/plain": [
              "<IPython.core.display.Javascript object>"
            ],
            "application/javascript": [
              "\n",
              "    async function download(id, filename, size) {\n",
              "      if (!google.colab.kernel.accessAllowed) {\n",
              "        return;\n",
              "      }\n",
              "      const div = document.createElement('div');\n",
              "      const label = document.createElement('label');\n",
              "      label.textContent = `Downloading \"${filename}\": `;\n",
              "      div.appendChild(label);\n",
              "      const progress = document.createElement('progress');\n",
              "      progress.max = size;\n",
              "      div.appendChild(progress);\n",
              "      document.body.appendChild(div);\n",
              "\n",
              "      const buffers = [];\n",
              "      let downloaded = 0;\n",
              "\n",
              "      const channel = await google.colab.kernel.comms.open(id);\n",
              "      // Send a message to notify the kernel that we're ready.\n",
              "      channel.send({})\n",
              "\n",
              "      for await (const message of channel.messages) {\n",
              "        // Send a message to notify the kernel that we're ready.\n",
              "        channel.send({})\n",
              "        if (message.buffers) {\n",
              "          for (const buffer of message.buffers) {\n",
              "            buffers.push(buffer);\n",
              "            downloaded += buffer.byteLength;\n",
              "            progress.value = downloaded;\n",
              "          }\n",
              "        }\n",
              "      }\n",
              "      const blob = new Blob(buffers, {type: 'application/binary'});\n",
              "      const a = document.createElement('a');\n",
              "      a.href = window.URL.createObjectURL(blob);\n",
              "      a.download = filename;\n",
              "      div.appendChild(a);\n",
              "      a.click();\n",
              "      div.remove();\n",
              "    }\n",
              "  "
            ]
          },
          "metadata": {}
        },
        {
          "output_type": "display_data",
          "data": {
            "text/plain": [
              "<IPython.core.display.Javascript object>"
            ],
            "application/javascript": [
              "download(\"download_fb7a9d1b-0169-432f-85d5-719bd7524306\", \"checkpoint_epoch_90.pth\", 9796718)"
            ]
          },
          "metadata": {}
        },
        {
          "output_type": "stream",
          "name": "stdout",
          "text": [
            "Epoch 90/150, Train Acc: 62.14%, Test Acc: 51.94%\n",
            "Epoch 90/150, Train Loss: 1.3365, Test Loss: 1.8473\n",
            "Epoch 91/150, Train Acc: 62.20%, Test Acc: 51.89%\n",
            "Epoch 91/150, Train Loss: 1.3358, Test Loss: 1.8465\n",
            "Epoch 92/150, Train Acc: 62.35%, Test Acc: 52.29%\n",
            "Epoch 92/150, Train Loss: 1.3274, Test Loss: 1.8362\n",
            "Epoch 93/150, Train Acc: 62.58%, Test Acc: 52.27%\n",
            "Epoch 93/150, Train Loss: 1.3211, Test Loss: 1.8428\n",
            "Epoch 94/150, Train Acc: 63.11%, Test Acc: 51.75%\n",
            "Epoch 94/150, Train Loss: 1.3055, Test Loss: 1.8416\n",
            "Epoch 95/150, Train Acc: 63.01%, Test Acc: 52.03%\n",
            "Epoch 95/150, Train Loss: 1.3059, Test Loss: 1.8392\n",
            "Epoch 96/150, Train Acc: 62.90%, Test Acc: 52.00%\n",
            "Epoch 96/150, Train Loss: 1.3054, Test Loss: 1.8417\n",
            "Epoch 97/150, Train Acc: 63.28%, Test Acc: 51.79%\n",
            "Epoch 97/150, Train Loss: 1.2988, Test Loss: 1.8562\n",
            "Epoch 98/150, Train Acc: 63.15%, Test Acc: 52.21%\n",
            "Epoch 98/150, Train Loss: 1.2972, Test Loss: 1.8394\n",
            "Epoch 99/150, Train Acc: 63.47%, Test Acc: 52.11%\n",
            "Epoch 99/150, Train Loss: 1.2841, Test Loss: 1.8373\n",
            "Checkpoint saved at epoch 100: ./checkpoint_epoch_100.pth\n"
          ]
        },
        {
          "output_type": "display_data",
          "data": {
            "text/plain": [
              "<IPython.core.display.Javascript object>"
            ],
            "application/javascript": [
              "\n",
              "    async function download(id, filename, size) {\n",
              "      if (!google.colab.kernel.accessAllowed) {\n",
              "        return;\n",
              "      }\n",
              "      const div = document.createElement('div');\n",
              "      const label = document.createElement('label');\n",
              "      label.textContent = `Downloading \"${filename}\": `;\n",
              "      div.appendChild(label);\n",
              "      const progress = document.createElement('progress');\n",
              "      progress.max = size;\n",
              "      div.appendChild(progress);\n",
              "      document.body.appendChild(div);\n",
              "\n",
              "      const buffers = [];\n",
              "      let downloaded = 0;\n",
              "\n",
              "      const channel = await google.colab.kernel.comms.open(id);\n",
              "      // Send a message to notify the kernel that we're ready.\n",
              "      channel.send({})\n",
              "\n",
              "      for await (const message of channel.messages) {\n",
              "        // Send a message to notify the kernel that we're ready.\n",
              "        channel.send({})\n",
              "        if (message.buffers) {\n",
              "          for (const buffer of message.buffers) {\n",
              "            buffers.push(buffer);\n",
              "            downloaded += buffer.byteLength;\n",
              "            progress.value = downloaded;\n",
              "          }\n",
              "        }\n",
              "      }\n",
              "      const blob = new Blob(buffers, {type: 'application/binary'});\n",
              "      const a = document.createElement('a');\n",
              "      a.href = window.URL.createObjectURL(blob);\n",
              "      a.download = filename;\n",
              "      div.appendChild(a);\n",
              "      a.click();\n",
              "      div.remove();\n",
              "    }\n",
              "  "
            ]
          },
          "metadata": {}
        },
        {
          "output_type": "display_data",
          "data": {
            "text/plain": [
              "<IPython.core.display.Javascript object>"
            ],
            "application/javascript": [
              "download(\"download_5797ce25-2afe-4693-823d-09e5477ef781\", \"checkpoint_epoch_100.pth\", 9796762)"
            ]
          },
          "metadata": {}
        },
        {
          "output_type": "stream",
          "name": "stdout",
          "text": [
            "Epoch 100/150, Train Acc: 63.88%, Test Acc: 52.17%\n",
            "Epoch 100/150, Train Loss: 1.2808, Test Loss: 1.8346\n",
            "Epoch 101/150, Train Acc: 63.78%, Test Acc: 51.95%\n",
            "Epoch 101/150, Train Loss: 1.2782, Test Loss: 1.8338\n",
            "Epoch 102/150, Train Acc: 64.11%, Test Acc: 52.07%\n",
            "Epoch 102/150, Train Loss: 1.2721, Test Loss: 1.8364\n",
            "Epoch 103/150, Train Acc: 64.15%, Test Acc: 52.22%\n",
            "Epoch 103/150, Train Loss: 1.2658, Test Loss: 1.8301\n",
            "Epoch 104/150, Train Acc: 64.15%, Test Acc: 52.01%\n",
            "Epoch 104/150, Train Loss: 1.2597, Test Loss: 1.8353\n",
            "Epoch 105/150, Train Acc: 64.28%, Test Acc: 52.19%\n",
            "Epoch 105/150, Train Loss: 1.2571, Test Loss: 1.8309\n",
            "Epoch 106/150, Train Acc: 64.29%, Test Acc: 51.88%\n",
            "Epoch 106/150, Train Loss: 1.2594, Test Loss: 1.8331\n",
            "Epoch 107/150, Train Acc: 64.44%, Test Acc: 52.26%\n",
            "Epoch 107/150, Train Loss: 1.2521, Test Loss: 1.8247\n",
            "Epoch 108/150, Train Acc: 64.72%, Test Acc: 52.17%\n",
            "Epoch 108/150, Train Loss: 1.2480, Test Loss: 1.8379\n",
            "Epoch 109/150, Train Acc: 64.49%, Test Acc: 51.97%\n",
            "Epoch 109/150, Train Loss: 1.2391, Test Loss: 1.8312\n",
            "Checkpoint saved at epoch 110: ./checkpoint_epoch_110.pth\n"
          ]
        },
        {
          "output_type": "display_data",
          "data": {
            "text/plain": [
              "<IPython.core.display.Javascript object>"
            ],
            "application/javascript": [
              "\n",
              "    async function download(id, filename, size) {\n",
              "      if (!google.colab.kernel.accessAllowed) {\n",
              "        return;\n",
              "      }\n",
              "      const div = document.createElement('div');\n",
              "      const label = document.createElement('label');\n",
              "      label.textContent = `Downloading \"${filename}\": `;\n",
              "      div.appendChild(label);\n",
              "      const progress = document.createElement('progress');\n",
              "      progress.max = size;\n",
              "      div.appendChild(progress);\n",
              "      document.body.appendChild(div);\n",
              "\n",
              "      const buffers = [];\n",
              "      let downloaded = 0;\n",
              "\n",
              "      const channel = await google.colab.kernel.comms.open(id);\n",
              "      // Send a message to notify the kernel that we're ready.\n",
              "      channel.send({})\n",
              "\n",
              "      for await (const message of channel.messages) {\n",
              "        // Send a message to notify the kernel that we're ready.\n",
              "        channel.send({})\n",
              "        if (message.buffers) {\n",
              "          for (const buffer of message.buffers) {\n",
              "            buffers.push(buffer);\n",
              "            downloaded += buffer.byteLength;\n",
              "            progress.value = downloaded;\n",
              "          }\n",
              "        }\n",
              "      }\n",
              "      const blob = new Blob(buffers, {type: 'application/binary'});\n",
              "      const a = document.createElement('a');\n",
              "      a.href = window.URL.createObjectURL(blob);\n",
              "      a.download = filename;\n",
              "      div.appendChild(a);\n",
              "      a.click();\n",
              "      div.remove();\n",
              "    }\n",
              "  "
            ]
          },
          "metadata": {}
        },
        {
          "output_type": "display_data",
          "data": {
            "text/plain": [
              "<IPython.core.display.Javascript object>"
            ],
            "application/javascript": [
              "download(\"download_4dafb125-6c2e-4816-9256-523c920d942e\", \"checkpoint_epoch_110.pth\", 9796762)"
            ]
          },
          "metadata": {}
        },
        {
          "output_type": "stream",
          "name": "stdout",
          "text": [
            "Epoch 110/150, Train Acc: 64.85%, Test Acc: 52.27%\n",
            "Epoch 110/150, Train Loss: 1.2403, Test Loss: 1.8280\n",
            "Epoch 111/150, Train Acc: 65.30%, Test Acc: 52.37%\n",
            "Epoch 111/150, Train Loss: 1.2250, Test Loss: 1.8272\n",
            "Epoch 112/150, Train Acc: 64.95%, Test Acc: 51.93%\n",
            "Epoch 112/150, Train Loss: 1.2353, Test Loss: 1.8356\n",
            "Epoch 113/150, Train Acc: 65.03%, Test Acc: 52.32%\n",
            "Epoch 113/150, Train Loss: 1.2305, Test Loss: 1.8274\n",
            "Epoch 114/150, Train Acc: 65.45%, Test Acc: 52.51%\n",
            "Epoch 114/150, Train Loss: 1.2210, Test Loss: 1.8273\n",
            "Epoch 115/150, Train Acc: 65.33%, Test Acc: 52.13%\n",
            "Epoch 115/150, Train Loss: 1.2242, Test Loss: 1.8236\n",
            "Epoch 116/150, Train Acc: 65.52%, Test Acc: 52.65%\n",
            "Epoch 116/150, Train Loss: 1.2147, Test Loss: 1.8297\n",
            "Epoch 117/150, Train Acc: 65.39%, Test Acc: 52.56%\n",
            "Epoch 117/150, Train Loss: 1.2185, Test Loss: 1.8277\n",
            "Epoch 118/150, Train Acc: 65.55%, Test Acc: 52.31%\n",
            "Epoch 118/150, Train Loss: 1.2070, Test Loss: 1.8238\n",
            "Epoch 119/150, Train Acc: 66.03%, Test Acc: 52.50%\n",
            "Epoch 119/150, Train Loss: 1.2053, Test Loss: 1.8284\n",
            "Checkpoint saved at epoch 120: ./checkpoint_epoch_120.pth\n"
          ]
        },
        {
          "output_type": "display_data",
          "data": {
            "text/plain": [
              "<IPython.core.display.Javascript object>"
            ],
            "application/javascript": [
              "\n",
              "    async function download(id, filename, size) {\n",
              "      if (!google.colab.kernel.accessAllowed) {\n",
              "        return;\n",
              "      }\n",
              "      const div = document.createElement('div');\n",
              "      const label = document.createElement('label');\n",
              "      label.textContent = `Downloading \"${filename}\": `;\n",
              "      div.appendChild(label);\n",
              "      const progress = document.createElement('progress');\n",
              "      progress.max = size;\n",
              "      div.appendChild(progress);\n",
              "      document.body.appendChild(div);\n",
              "\n",
              "      const buffers = [];\n",
              "      let downloaded = 0;\n",
              "\n",
              "      const channel = await google.colab.kernel.comms.open(id);\n",
              "      // Send a message to notify the kernel that we're ready.\n",
              "      channel.send({})\n",
              "\n",
              "      for await (const message of channel.messages) {\n",
              "        // Send a message to notify the kernel that we're ready.\n",
              "        channel.send({})\n",
              "        if (message.buffers) {\n",
              "          for (const buffer of message.buffers) {\n",
              "            buffers.push(buffer);\n",
              "            downloaded += buffer.byteLength;\n",
              "            progress.value = downloaded;\n",
              "          }\n",
              "        }\n",
              "      }\n",
              "      const blob = new Blob(buffers, {type: 'application/binary'});\n",
              "      const a = document.createElement('a');\n",
              "      a.href = window.URL.createObjectURL(blob);\n",
              "      a.download = filename;\n",
              "      div.appendChild(a);\n",
              "      a.click();\n",
              "      div.remove();\n",
              "    }\n",
              "  "
            ]
          },
          "metadata": {}
        },
        {
          "output_type": "display_data",
          "data": {
            "text/plain": [
              "<IPython.core.display.Javascript object>"
            ],
            "application/javascript": [
              "download(\"download_4864fd59-2dcd-4675-b74f-d5bd3004d64e\", \"checkpoint_epoch_120.pth\", 9796762)"
            ]
          },
          "metadata": {}
        },
        {
          "output_type": "stream",
          "name": "stdout",
          "text": [
            "Epoch 120/150, Train Acc: 65.92%, Test Acc: 52.43%\n",
            "Epoch 120/150, Train Loss: 1.1997, Test Loss: 1.8221\n",
            "Epoch 121/150, Train Acc: 66.13%, Test Acc: 52.48%\n",
            "Epoch 121/150, Train Loss: 1.1987, Test Loss: 1.8298\n",
            "Epoch 122/150, Train Acc: 66.22%, Test Acc: 52.42%\n",
            "Epoch 122/150, Train Loss: 1.1970, Test Loss: 1.8309\n",
            "Epoch 123/150, Train Acc: 66.14%, Test Acc: 52.76%\n",
            "Epoch 123/150, Train Loss: 1.1975, Test Loss: 1.8267\n",
            "Epoch 124/150, Train Acc: 66.43%, Test Acc: 52.71%\n",
            "Epoch 124/150, Train Loss: 1.1904, Test Loss: 1.8251\n",
            "Epoch 125/150, Train Acc: 66.64%, Test Acc: 52.59%\n",
            "Epoch 125/150, Train Loss: 1.1858, Test Loss: 1.8242\n",
            "Epoch 126/150, Train Acc: 66.18%, Test Acc: 52.82%\n",
            "Epoch 126/150, Train Loss: 1.1902, Test Loss: 1.8215\n",
            "Epoch 127/150, Train Acc: 66.44%, Test Acc: 52.59%\n",
            "Epoch 127/150, Train Loss: 1.1840, Test Loss: 1.8231\n",
            "Epoch 128/150, Train Acc: 66.47%, Test Acc: 52.94%\n",
            "Epoch 128/150, Train Loss: 1.1835, Test Loss: 1.8230\n",
            "Epoch 129/150, Train Acc: 66.29%, Test Acc: 52.66%\n",
            "Epoch 129/150, Train Loss: 1.1861, Test Loss: 1.8254\n",
            "Checkpoint saved at epoch 130: ./checkpoint_epoch_130.pth\n"
          ]
        },
        {
          "output_type": "display_data",
          "data": {
            "text/plain": [
              "<IPython.core.display.Javascript object>"
            ],
            "application/javascript": [
              "\n",
              "    async function download(id, filename, size) {\n",
              "      if (!google.colab.kernel.accessAllowed) {\n",
              "        return;\n",
              "      }\n",
              "      const div = document.createElement('div');\n",
              "      const label = document.createElement('label');\n",
              "      label.textContent = `Downloading \"${filename}\": `;\n",
              "      div.appendChild(label);\n",
              "      const progress = document.createElement('progress');\n",
              "      progress.max = size;\n",
              "      div.appendChild(progress);\n",
              "      document.body.appendChild(div);\n",
              "\n",
              "      const buffers = [];\n",
              "      let downloaded = 0;\n",
              "\n",
              "      const channel = await google.colab.kernel.comms.open(id);\n",
              "      // Send a message to notify the kernel that we're ready.\n",
              "      channel.send({})\n",
              "\n",
              "      for await (const message of channel.messages) {\n",
              "        // Send a message to notify the kernel that we're ready.\n",
              "        channel.send({})\n",
              "        if (message.buffers) {\n",
              "          for (const buffer of message.buffers) {\n",
              "            buffers.push(buffer);\n",
              "            downloaded += buffer.byteLength;\n",
              "            progress.value = downloaded;\n",
              "          }\n",
              "        }\n",
              "      }\n",
              "      const blob = new Blob(buffers, {type: 'application/binary'});\n",
              "      const a = document.createElement('a');\n",
              "      a.href = window.URL.createObjectURL(blob);\n",
              "      a.download = filename;\n",
              "      div.appendChild(a);\n",
              "      a.click();\n",
              "      div.remove();\n",
              "    }\n",
              "  "
            ]
          },
          "metadata": {}
        },
        {
          "output_type": "display_data",
          "data": {
            "text/plain": [
              "<IPython.core.display.Javascript object>"
            ],
            "application/javascript": [
              "download(\"download_76651ab5-b6e1-4bdc-9c23-50e77be670f0\", \"checkpoint_epoch_130.pth\", 9796762)"
            ]
          },
          "metadata": {}
        },
        {
          "output_type": "stream",
          "name": "stdout",
          "text": [
            "Epoch 130/150, Train Acc: 66.60%, Test Acc: 52.85%\n",
            "Epoch 130/150, Train Loss: 1.1765, Test Loss: 1.8185\n",
            "Epoch 131/150, Train Acc: 66.77%, Test Acc: 52.56%\n",
            "Epoch 131/150, Train Loss: 1.1738, Test Loss: 1.8206\n",
            "Epoch 132/150, Train Acc: 66.72%, Test Acc: 52.81%\n",
            "Epoch 132/150, Train Loss: 1.1760, Test Loss: 1.8202\n",
            "Epoch 133/150, Train Acc: 66.77%, Test Acc: 52.56%\n",
            "Epoch 133/150, Train Loss: 1.1709, Test Loss: 1.8215\n",
            "Epoch 134/150, Train Acc: 66.97%, Test Acc: 52.61%\n",
            "Epoch 134/150, Train Loss: 1.1659, Test Loss: 1.8191\n",
            "Epoch 135/150, Train Acc: 67.20%, Test Acc: 52.65%\n",
            "Epoch 135/150, Train Loss: 1.1626, Test Loss: 1.8199\n",
            "Epoch 136/150, Train Acc: 67.15%, Test Acc: 52.85%\n",
            "Epoch 136/150, Train Loss: 1.1657, Test Loss: 1.8191\n",
            "Epoch 137/150, Train Acc: 67.07%, Test Acc: 52.72%\n",
            "Epoch 137/150, Train Loss: 1.1637, Test Loss: 1.8179\n",
            "Epoch 138/150, Train Acc: 67.12%, Test Acc: 52.69%\n",
            "Epoch 138/150, Train Loss: 1.1634, Test Loss: 1.8194\n",
            "Epoch 139/150, Train Acc: 66.96%, Test Acc: 52.75%\n",
            "Epoch 139/150, Train Loss: 1.1681, Test Loss: 1.8191\n",
            "Checkpoint saved at epoch 140: ./checkpoint_epoch_140.pth\n"
          ]
        },
        {
          "output_type": "display_data",
          "data": {
            "text/plain": [
              "<IPython.core.display.Javascript object>"
            ],
            "application/javascript": [
              "\n",
              "    async function download(id, filename, size) {\n",
              "      if (!google.colab.kernel.accessAllowed) {\n",
              "        return;\n",
              "      }\n",
              "      const div = document.createElement('div');\n",
              "      const label = document.createElement('label');\n",
              "      label.textContent = `Downloading \"${filename}\": `;\n",
              "      div.appendChild(label);\n",
              "      const progress = document.createElement('progress');\n",
              "      progress.max = size;\n",
              "      div.appendChild(progress);\n",
              "      document.body.appendChild(div);\n",
              "\n",
              "      const buffers = [];\n",
              "      let downloaded = 0;\n",
              "\n",
              "      const channel = await google.colab.kernel.comms.open(id);\n",
              "      // Send a message to notify the kernel that we're ready.\n",
              "      channel.send({})\n",
              "\n",
              "      for await (const message of channel.messages) {\n",
              "        // Send a message to notify the kernel that we're ready.\n",
              "        channel.send({})\n",
              "        if (message.buffers) {\n",
              "          for (const buffer of message.buffers) {\n",
              "            buffers.push(buffer);\n",
              "            downloaded += buffer.byteLength;\n",
              "            progress.value = downloaded;\n",
              "          }\n",
              "        }\n",
              "      }\n",
              "      const blob = new Blob(buffers, {type: 'application/binary'});\n",
              "      const a = document.createElement('a');\n",
              "      a.href = window.URL.createObjectURL(blob);\n",
              "      a.download = filename;\n",
              "      div.appendChild(a);\n",
              "      a.click();\n",
              "      div.remove();\n",
              "    }\n",
              "  "
            ]
          },
          "metadata": {}
        },
        {
          "output_type": "display_data",
          "data": {
            "text/plain": [
              "<IPython.core.display.Javascript object>"
            ],
            "application/javascript": [
              "download(\"download_ba1c2bb7-839a-4398-9c6e-a9ea038501c1\", \"checkpoint_epoch_140.pth\", 9796762)"
            ]
          },
          "metadata": {}
        },
        {
          "output_type": "stream",
          "name": "stdout",
          "text": [
            "Epoch 140/150, Train Acc: 67.12%, Test Acc: 52.81%\n",
            "Epoch 140/150, Train Loss: 1.1623, Test Loss: 1.8178\n",
            "Epoch 141/150, Train Acc: 67.23%, Test Acc: 52.75%\n",
            "Epoch 141/150, Train Loss: 1.1587, Test Loss: 1.8175\n",
            "Epoch 142/150, Train Acc: 67.27%, Test Acc: 52.81%\n",
            "Epoch 142/150, Train Loss: 1.1597, Test Loss: 1.8182\n",
            "Epoch 143/150, Train Acc: 67.18%, Test Acc: 52.89%\n",
            "Epoch 143/150, Train Loss: 1.1622, Test Loss: 1.8178\n",
            "Epoch 144/150, Train Acc: 67.20%, Test Acc: 52.94%\n",
            "Epoch 144/150, Train Loss: 1.1600, Test Loss: 1.8167\n",
            "Epoch 145/150, Train Acc: 67.13%, Test Acc: 52.86%\n",
            "Epoch 145/150, Train Loss: 1.1568, Test Loss: 1.8171\n",
            "Epoch 146/150, Train Acc: 67.46%, Test Acc: 52.96%\n",
            "Epoch 146/150, Train Loss: 1.1591, Test Loss: 1.8171\n",
            "Epoch 147/150, Train Acc: 67.41%, Test Acc: 52.97%\n",
            "Epoch 147/150, Train Loss: 1.1572, Test Loss: 1.8173\n",
            "Epoch 148/150, Train Acc: 67.22%, Test Acc: 52.83%\n",
            "Epoch 148/150, Train Loss: 1.1604, Test Loss: 1.8172\n",
            "Epoch 149/150, Train Acc: 67.49%, Test Acc: 52.90%\n",
            "Epoch 149/150, Train Loss: 1.1527, Test Loss: 1.8173\n",
            "Checkpoint saved at epoch 150: ./checkpoint_epoch_150.pth\n"
          ]
        },
        {
          "output_type": "display_data",
          "data": {
            "text/plain": [
              "<IPython.core.display.Javascript object>"
            ],
            "application/javascript": [
              "\n",
              "    async function download(id, filename, size) {\n",
              "      if (!google.colab.kernel.accessAllowed) {\n",
              "        return;\n",
              "      }\n",
              "      const div = document.createElement('div');\n",
              "      const label = document.createElement('label');\n",
              "      label.textContent = `Downloading \"${filename}\": `;\n",
              "      div.appendChild(label);\n",
              "      const progress = document.createElement('progress');\n",
              "      progress.max = size;\n",
              "      div.appendChild(progress);\n",
              "      document.body.appendChild(div);\n",
              "\n",
              "      const buffers = [];\n",
              "      let downloaded = 0;\n",
              "\n",
              "      const channel = await google.colab.kernel.comms.open(id);\n",
              "      // Send a message to notify the kernel that we're ready.\n",
              "      channel.send({})\n",
              "\n",
              "      for await (const message of channel.messages) {\n",
              "        // Send a message to notify the kernel that we're ready.\n",
              "        channel.send({})\n",
              "        if (message.buffers) {\n",
              "          for (const buffer of message.buffers) {\n",
              "            buffers.push(buffer);\n",
              "            downloaded += buffer.byteLength;\n",
              "            progress.value = downloaded;\n",
              "          }\n",
              "        }\n",
              "      }\n",
              "      const blob = new Blob(buffers, {type: 'application/binary'});\n",
              "      const a = document.createElement('a');\n",
              "      a.href = window.URL.createObjectURL(blob);\n",
              "      a.download = filename;\n",
              "      div.appendChild(a);\n",
              "      a.click();\n",
              "      div.remove();\n",
              "    }\n",
              "  "
            ]
          },
          "metadata": {}
        },
        {
          "output_type": "display_data",
          "data": {
            "text/plain": [
              "<IPython.core.display.Javascript object>"
            ],
            "application/javascript": [
              "download(\"download_4f3fc002-698b-469c-a16b-655b86b81d84\", \"checkpoint_epoch_150.pth\", 9796762)"
            ]
          },
          "metadata": {}
        },
        {
          "output_type": "stream",
          "name": "stdout",
          "text": [
            "Epoch 150/150, Train Acc: 67.15%, Test Acc: 52.86%\n",
            "Epoch 150/150, Train Loss: 1.1563, Test Loss: 1.8173\n"
          ]
        },
        {
          "output_type": "display_data",
          "data": {
            "text/plain": [
              "<Figure size 600x400 with 1 Axes>"
            ],
            "image/png": "[encoded data removed]"
          },
          "metadata": {}
        },
        {
          "output_type": "display_data",
          "data": {
            "text/plain": [
              "<Figure size 600x400 with 1 Axes>"
            ],
            "image/png": "[encoded data removed]"
          },
          "metadata": {}
        },
        {
          "output_type": "display_data",
          "data": {
            "text/plain": [
              "<Figure size 600x400 with 1 Axes>"
            ],
            "image/png": "[encoded data removed]"
          },
          "metadata": {}
        },
        {
          "output_type": "display_data",
          "data": {
            "text/plain": [
              "<Figure size 600x400 with 1 Axes>"
            ],
            "image/png": "[encoded data removed]"
          },
          "metadata": {}
        }
      ],
      "source": [
        "import os\n",
        "import numpy as np\n",
        "import torch\n",
        "import torch.nn as nn\n",
        "import torch.optim as optim\n",
        "import torchvision\n",
        "import torchvision.transforms as transforms\n",
        "import matplotlib.pyplot as plt\n",
        "from torch.utils.data import random_split\n",
        "from google.colab import files\n",
        "\n",
        "# Training settings\n",
        "# betas, epochs and batch sized are fixed values\n",
        "epochs = 150\n",
        "batch_size = 64\n",
        "# weight decay and learning rate are adjustable\n",
        "weight_decay = 1e-1\n",
        "lr= 3e-4\n",
        "\n",
        "def compute_mean_std(dataset):\n",
        "    \"\"\"Compute the mean and std of CIFAR-100 dataset.\n",
        "\n",
        "    Args:\n",
        "        dataset: A dataset derived from `torch.utils.data.Dataset`,\n",
        "                 such as `cifar100_training_dataset` or `cifar100_test_dataset`.\n",
        "\n",
        "    Returns:\n",
        "        A tuple containing (mean, std) for the entire dataset.\n",
        "    \"\"\"\n",
        "\n",
        "    # Extract images and labels\n",
        "    data_r = np.stack([np.array(dataset[i][0])[:, :, 0] for i in range(len(dataset))])\n",
        "    data_g = np.stack([np.array(dataset[i][0])[:, :, 1] for i in range(len(dataset))])\n",
        "    data_b = np.stack([np.array(dataset[i][0])[:, :, 2] for i in range(len(dataset))])\n",
        "\n",
        "    # Compute mean and std\n",
        "    mean = np.mean(data_r), np.mean(data_g), np.mean(data_b)\n",
        "    std = np.std(data_r), np.std(data_g), np.std(data_b)\n",
        "\n",
        "    return mean, std\n",
        "\n",
        "\n",
        "# Define LeNet-5 architecture\n",
        "class LeNet5(nn.Module):\n",
        "    def __init__(self):\n",
        "        super(LeNet5, self).__init__()\n",
        "        self.conv1 = nn.Conv2d(3, 64, 5)\n",
        "        self.relu1 = nn.ReLU()\n",
        "        self.pool1 = nn.MaxPool2d(2, 2)\n",
        "        self.conv2 = nn.Conv2d(64, 64, 5)\n",
        "        self.relu2 = nn.ReLU()\n",
        "        self.pool2 = nn.MaxPool2d(2, 2)\n",
        "        self.fc1 = nn.Linear(64 * 5 * 5, 384)\n",
        "        self.relu3 = nn.ReLU()\n",
        "        self.fc2 = nn.Linear(384, 192)\n",
        "        self.relu4 = nn.ReLU()\n",
        "        self.fc3 = nn.Linear(192, 100)\n",
        "\n",
        "    def forward(self, x):\n",
        "        x = self.pool1(self.relu1(self.conv1(x)))\n",
        "        x = self.pool2(self.relu2(self.conv2(x)))\n",
        "        x = x.view(-1, 64 * 5 * 5)\n",
        "        x = self.relu3(self.fc1(x))\n",
        "        x = self.relu4(self.fc2(x))\n",
        "        x = self.fc3(x)\n",
        "        return x\n",
        "\n",
        "torch.manual_seed(42) # Set the seed for reproducibility\n",
        "torch.cuda.manual_seed_all(42) # Set the seed for reproducibility on GPU\n",
        "\n",
        "# use the same mean and std to add consistency to all datasets\n",
        "data = torchvision.datasets.CIFAR100(root='./data', train=True, download=True, transform=transforms.ToTensor())\n",
        "mean, std = compute_mean_std(data)\n",
        "\n",
        "# Load and split CIFAR-100 dataset\n",
        "train_transform = transforms.Compose([\n",
        "  transforms.RandomCrop(32, padding=4),\n",
        "  transforms.RandomHorizontalFlip(),\n",
        "  transforms.ToTensor(),\n",
        "  transforms.Normalize(mean, std)\n",
        "])\n",
        "\n",
        "\n",
        "test_transform = transforms.Compose([\n",
        "    transforms.ToTensor(),  # Convert to PyTorch tensor\n",
        "    transforms.Normalize(mean, std)\n",
        "])\n",
        "\n",
        "trainset = torchvision.datasets.CIFAR100(root='./data', train=True, download=True, transform=train_transform)\n",
        "trainloader = torch.utils.data.DataLoader(trainset, batch_size=batch_size, shuffle=True, num_workers=2)\n",
        "\n",
        "testset = torchvision.datasets.CIFAR100(root='./data', train=False, download=True, transform=test_transform)\n",
        "testloader = torch.utils.data.DataLoader(testset, batch_size=batch_size, shuffle=False, num_workers=2)\n",
        "\n",
        "# Device setup\n",
        "device = torch.device(\"cuda:0\" if torch.cuda.is_available() else \"cpu\")\n",
        "\n",
        "# Initialize model\n",
        "net_adamw = LeNet5().to(device)\n",
        "\n",
        "# Loss function\n",
        "criterion = nn.CrossEntropyLoss()\n",
        "\n",
        "# Optimizer and scheduler\n",
        "adamw_optimizer = optim.AdamW(net_adamw.parameters(), lr=lr, betas=(0.9, 0.999), weight_decay=weight_decay)\n",
        "scheduler_adamw = optim.lr_scheduler.CosineAnnealingLR(adamw_optimizer, T_max=150)\n",
        "'''\n",
        "# Load a checkpoint, if exists\n",
        "resume_training = True  # Put False if you want to start from scratch\n",
        "start_epoch = 0  # default starting epoch\n",
        "\n",
        "if resume_training and os.path.exists('checkpoint_epoch_30.pth'):\n",
        "    checkpoint = torch.load('checkpoint_epoch_30.pth', map_location=device)\n",
        "    net_adamw.load_state_dict(checkpoint['model_state_dict'])\n",
        "    adamw_optimizer.load_state_dict(checkpoint['optimizer_state_dict'])\n",
        "    start_epoch = checkpoint['epoch']\n",
        "    print(f\"Checkpoint caricato: riprendo da epoca {start_epoch}\")\n",
        "else:\n",
        "    print(\"Nessun checkpoint trovato, inizializzo da zero.\")\n",
        "'''\n",
        "\n",
        "# Training function\n",
        "def train_model(optimizer, scheduler, model, criterion, trainloader , testloader, device, epochs, save_checkpoint_interval=10):\n",
        "    train_losses, test_losses = [], []\n",
        "    train_accuracies, test_accuracies = [], []\n",
        "    for epoch in range(epochs):\n",
        "        model.train()\n",
        "        running_loss, correct_train, total_train = 0.0, 0, 0\n",
        "        for inputs, labels in trainloader:\n",
        "            inputs, labels = inputs.to(device), labels.to(device)\n",
        "            optimizer.zero_grad()\n",
        "            outputs = model(inputs)\n",
        "            loss = criterion(outputs, labels)\n",
        "            loss.backward()\n",
        "            optimizer.step()\n",
        "            running_loss += loss.item()\n",
        "            _, predicted = outputs.max(1)\n",
        "            total_train += labels.size(0)\n",
        "            correct_train += predicted.eq(labels).sum().item()\n",
        "        train_loss = running_loss / len(trainloader)\n",
        "        train_accuracy = 100. * correct_train / total_train\n",
        "        train_losses.append(train_loss)\n",
        "        train_accuracies.append(train_accuracy)\n",
        "\n",
        "        # Test\n",
        "        correct_test, total_test, test_loss = 0, 0, 0.0\n",
        "        with torch.no_grad():\n",
        "            for inputs, labels in testloader:\n",
        "                inputs, labels = inputs.to(device), labels.to(device)\n",
        "                outputs = model(inputs)\n",
        "                loss = criterion(outputs, labels)\n",
        "                test_loss += loss.item()\n",
        "                _, predicted = outputs.max(1)\n",
        "                total_test += labels.size(0)\n",
        "                correct_test += predicted.eq(labels).sum().item()\n",
        "        test_loss /= len(testloader)\n",
        "        test_losses.append(test_loss)\n",
        "        test_accuracy = 100. * correct_test / total_test\n",
        "        test_accuracies.append(test_accuracy)\n",
        "\n",
        "        scheduler.step()\n",
        "\n",
        "        # Checkpointing\n",
        "        if (epoch + 1) % save_checkpoint_interval == 0:\n",
        "            checkpoint_filename = f'checkpoint_epoch_{epoch + 1}.pth'\n",
        "            checkpoint = {\n",
        "                'epoch': epoch + 1,\n",
        "                'model_state_dict': model.state_dict(),\n",
        "                'optimizer_state_dict': optimizer.state_dict(),\n",
        "                'loss': loss.item(),\n",
        "            }\n",
        "            checkpoint_path = os.path.join('./', checkpoint_filename)\n",
        "            torch.save(checkpoint, checkpoint_path)\n",
        "            print(f'Checkpoint saved at epoch {epoch + 1}: {checkpoint_path}')\n",
        "\n",
        "            #Download the checkpoint\n",
        "            files.download(checkpoint_filename)\n",
        "\n",
        "        print(f'Epoch {epoch+1}/{epochs}, Train Acc: {train_accuracy:.2f}%, Test Acc: {test_accuracy:.2f}%')\n",
        "        print(f'Epoch {epoch+1}/{epochs}, Train Loss: {train_loss:.4f}, Test Loss: {test_loss:.4f}')\n",
        "\n",
        "    return train_losses, test_losses, train_accuracies, test_accuracies\n",
        "\n",
        "# Train model\n",
        "print(\"--- Train with AdamW ---\")\n",
        "adamw_train_loss, adamw_test_loss, adamw_train_acc, adamw_test_acc= train_model(adamw_optimizer, scheduler_adamw, net_adamw, criterion, trainloader, testloader, device, epochs)\n",
        "\n",
        "# Save model\n",
        "torch.save(net_adamw.state_dict(), 'net_adamw.pth')\n",
        "\n",
        "# Plot results\n",
        "# Plot Training Loss\n",
        "plt.figure(figsize=(6, 4))\n",
        "plt.plot(adamw_train_loss, label='Train Loss')\n",
        "plt.title('Training Loss')\n",
        "plt.xlabel('Epoch')\n",
        "plt.ylabel('Loss')\n",
        "plt.legend()\n",
        "plt.tight_layout()\n",
        "plt.savefig('train_loss.png')\n",
        "plt.show()\n",
        "\n",
        "# Plot Training Accuracy\n",
        "plt.figure(figsize=(6, 4))\n",
        "plt.plot(adamw_train_acc, label='Train Accuracy')\n",
        "plt.title('Training Accuracy')\n",
        "plt.xlabel('Epoch')\n",
        "plt.ylabel('Accuracy (%)')\n",
        "plt.legend()\n",
        "plt.tight_layout()\n",
        "plt.savefig('train_accuracy.png')\n",
        "plt.show()\n",
        "\n",
        "# Plot Test Loss\n",
        "plt.figure(figsize=(6, 4))\n",
        "plt.plot(adamw_test_loss, label='Test Loss')\n",
        "plt.title('Test Loss')\n",
        "plt.xlabel('Epoch')\n",
        "plt.ylabel('Loss')\n",
        "plt.legend()\n",
        "plt.tight_layout()\n",
        "plt.savefig('test_loss.png')\n",
        "plt.show()\n",
        "\n",
        "# Plot Test Accuracy\n",
        "plt.figure(figsize=(6, 4))\n",
        "plt.plot(adamw_test_acc, label='Test Accuracy')\n",
        "plt.title('Test Accuracy')\n",
        "plt.xlabel('Epoch')\n",
        "plt.ylabel('Accuracy (%)')\n",
        "plt.legend()\n",
        "plt.tight_layout()\n",
        "plt.savefig('test_accuracy.png')\n",
        "plt.show()\n",
        "\n",
        "\n",
        "\n",
        "\n",
        "\n"
      ]
    }
  ],
  "metadata": {
    "accelerator": "GPU",
    "colab": {
      "gpuType": "L4",
      "machine_shape": "hm",
      "provenance": []
    },
    "kernelspec": {
      "display_name": "Python 3",
      "name": "python3"
    },
    "language_info": {
      "name": "python"
    }
  },
  "nbformat": 4,
  "nbformat_minor": 0
}