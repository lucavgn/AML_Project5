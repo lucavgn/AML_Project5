{
  "cells": [
    {
      "cell_type": "code",
      "execution_count": 1,
      "metadata": {
        "colab": {
          "base_uri": "https://localhost:8080/",
          "height": 1000
        },
        "id": "3sSBZt98ePGy",
        "outputId": "78f4312f-e180-42d1-ca75-05e54301d6d5"
      },
      "outputs": [
        {
          "output_type": "stream",
          "name": "stdout",
          "text": [
            "Downloading https://www.cs.toronto.edu/~kriz/cifar-100-python.tar.gz to ./data/cifar-100-python.tar.gz\n"
          ]
        },
        {
          "output_type": "stream",
          "name": "stderr",
          "text": [
            "100%|██████████| 169M/169M [00:13<00:00, 13.0MB/s]\n"
          ]
        },
        {
          "output_type": "stream",
          "name": "stdout",
          "text": [
            "Extracting ./data/cifar-100-python.tar.gz to ./data\n",
            "Files already downloaded and verified\n",
            "Files already downloaded and verified\n",
            "--- Train with AdamW ---\n",
            "Epoch 1/150, Train Acc: 9.23%, Test Acc: 15.39%\n",
            "Epoch 1/150, Train Loss: 3.9549, Test Loss: 3.5544\n",
            "Epoch 2/150, Train Acc: 16.98%, Test Acc: 21.41%\n",
            "Epoch 2/150, Train Loss: 3.4567, Test Loss: 3.2297\n",
            "Epoch 3/150, Train Acc: 21.89%, Test Acc: 25.77%\n",
            "Epoch 3/150, Train Loss: 3.1826, Test Loss: 3.0167\n",
            "Epoch 4/150, Train Acc: 25.37%, Test Acc: 28.29%\n",
            "Epoch 4/150, Train Loss: 2.9966, Test Loss: 2.8460\n",
            "Epoch 5/150, Train Acc: 27.99%, Test Acc: 30.81%\n",
            "Epoch 5/150, Train Loss: 2.8472, Test Loss: 2.7192\n",
            "Epoch 6/150, Train Acc: 30.46%, Test Acc: 32.27%\n",
            "Epoch 6/150, Train Loss: 2.7333, Test Loss: 2.6447\n",
            "Epoch 7/150, Train Acc: 32.13%, Test Acc: 34.81%\n",
            "Epoch 7/150, Train Loss: 2.6462, Test Loss: 2.5285\n",
            "Epoch 8/150, Train Acc: 33.73%, Test Acc: 36.75%\n",
            "Epoch 8/150, Train Loss: 2.5747, Test Loss: 2.4500\n",
            "Epoch 9/150, Train Acc: 34.82%, Test Acc: 37.03%\n",
            "Epoch 9/150, Train Loss: 2.5223, Test Loss: 2.4471\n",
            "Checkpoint saved at epoch 10: ./checkpoint_epoch_10.pth\n"
          ]
        },
        {
          "output_type": "display_data",
          "data": {
            "text/plain": [
              "<IPython.core.display.Javascript object>"
            ],
            "application/javascript": [
              "\n",
              "    async function download(id, filename, size) {\n",
              "      if (!google.colab.kernel.accessAllowed) {\n",
              "        return;\n",
              "      }\n",
              "      const div = document.createElement('div');\n",
              "      const label = document.createElement('label');\n",
              "      label.textContent = `Downloading \"${filename}\": `;\n",
              "      div.appendChild(label);\n",
              "      const progress = document.createElement('progress');\n",
              "      progress.max = size;\n",
              "      div.appendChild(progress);\n",
              "      document.body.appendChild(div);\n",
              "\n",
              "      const buffers = [];\n",
              "      let downloaded = 0;\n",
              "\n",
              "      const channel = await google.colab.kernel.comms.open(id);\n",
              "      // Send a message to notify the kernel that we're ready.\n",
              "      channel.send({})\n",
              "\n",
              "      for await (const message of channel.messages) {\n",
              "        // Send a message to notify the kernel that we're ready.\n",
              "        channel.send({})\n",
              "        if (message.buffers) {\n",
              "          for (const buffer of message.buffers) {\n",
              "            buffers.push(buffer);\n",
              "            downloaded += buffer.byteLength;\n",
              "            progress.value = downloaded;\n",
              "          }\n",
              "        }\n",
              "      }\n",
              "      const blob = new Blob(buffers, {type: 'application/binary'});\n",
              "      const a = document.createElement('a');\n",
              "      a.href = window.URL.createObjectURL(blob);\n",
              "      a.download = filename;\n",
              "      div.appendChild(a);\n",
              "      a.click();\n",
              "      div.remove();\n",
              "    }\n",
              "  "
            ]
          },
          "metadata": {}
        },
        {
          "output_type": "display_data",
          "data": {
            "text/plain": [
              "<IPython.core.display.Javascript object>"
            ],
            "application/javascript": [
              "download(\"download_07a54245-1320-48c1-8c01-c2e7a293f380\", \"checkpoint_epoch_10.pth\", 9796718)"
            ]
          },
          "metadata": {}
        },
        {
          "output_type": "stream",
          "name": "stdout",
          "text": [
            "Epoch 10/150, Train Acc: 36.02%, Test Acc: 35.74%\n",
            "Epoch 10/150, Train Loss: 2.4678, Test Loss: 2.4977\n",
            "Epoch 11/150, Train Acc: 36.76%, Test Acc: 37.23%\n",
            "Epoch 11/150, Train Loss: 2.4314, Test Loss: 2.4211\n",
            "Epoch 12/150, Train Acc: 37.84%, Test Acc: 39.11%\n",
            "Epoch 12/150, Train Loss: 2.3860, Test Loss: 2.3564\n",
            "Epoch 13/150, Train Acc: 38.70%, Test Acc: 39.87%\n",
            "Epoch 13/150, Train Loss: 2.3509, Test Loss: 2.3339\n",
            "Epoch 14/150, Train Acc: 39.14%, Test Acc: 39.34%\n",
            "Epoch 14/150, Train Loss: 2.3199, Test Loss: 2.3435\n",
            "Epoch 15/150, Train Acc: 39.77%, Test Acc: 39.72%\n",
            "Epoch 15/150, Train Loss: 2.2948, Test Loss: 2.3112\n",
            "Epoch 16/150, Train Acc: 40.18%, Test Acc: 40.29%\n",
            "Epoch 16/150, Train Loss: 2.2645, Test Loss: 2.2937\n",
            "Epoch 17/150, Train Acc: 40.64%, Test Acc: 40.75%\n",
            "Epoch 17/150, Train Loss: 2.2474, Test Loss: 2.2791\n",
            "Epoch 18/150, Train Acc: 41.33%, Test Acc: 39.84%\n",
            "Epoch 18/150, Train Loss: 2.2127, Test Loss: 2.3046\n",
            "Epoch 19/150, Train Acc: 41.70%, Test Acc: 41.44%\n",
            "Epoch 19/150, Train Loss: 2.1911, Test Loss: 2.2365\n",
            "Checkpoint saved at epoch 20: ./checkpoint_epoch_20.pth\n"
          ]
        },
        {
          "output_type": "display_data",
          "data": {
            "text/plain": [
              "<IPython.core.display.Javascript object>"
            ],
            "application/javascript": [
              "\n",
              "    async function download(id, filename, size) {\n",
              "      if (!google.colab.kernel.accessAllowed) {\n",
              "        return;\n",
              "      }\n",
              "      const div = document.createElement('div');\n",
              "      const label = document.createElement('label');\n",
              "      label.textContent = `Downloading \"${filename}\": `;\n",
              "      div.appendChild(label);\n",
              "      const progress = document.createElement('progress');\n",
              "      progress.max = size;\n",
              "      div.appendChild(progress);\n",
              "      document.body.appendChild(div);\n",
              "\n",
              "      const buffers = [];\n",
              "      let downloaded = 0;\n",
              "\n",
              "      const channel = await google.colab.kernel.comms.open(id);\n",
              "      // Send a message to notify the kernel that we're ready.\n",
              "      channel.send({})\n",
              "\n",
              "      for await (const message of channel.messages) {\n",
              "        // Send a message to notify the kernel that we're ready.\n",
              "        channel.send({})\n",
              "        if (message.buffers) {\n",
              "          for (const buffer of message.buffers) {\n",
              "            buffers.push(buffer);\n",
              "            downloaded += buffer.byteLength;\n",
              "            progress.value = downloaded;\n",
              "          }\n",
              "        }\n",
              "      }\n",
              "      const blob = new Blob(buffers, {type: 'application/binary'});\n",
              "      const a = document.createElement('a');\n",
              "      a.href = window.URL.createObjectURL(blob);\n",
              "      a.download = filename;\n",
              "      div.appendChild(a);\n",
              "      a.click();\n",
              "      div.remove();\n",
              "    }\n",
              "  "
            ]
          },
          "metadata": {}
        },
        {
          "output_type": "display_data",
          "data": {
            "text/plain": [
              "<IPython.core.display.Javascript object>"
            ],
            "application/javascript": [
              "download(\"download_4b677bf4-a580-41c7-bfee-7eb00a69ca9d\", \"checkpoint_epoch_20.pth\", 9796718)"
            ]
          },
          "metadata": {}
        },
        {
          "output_type": "stream",
          "name": "stdout",
          "text": [
            "Epoch 20/150, Train Acc: 42.24%, Test Acc: 40.88%\n",
            "Epoch 20/150, Train Loss: 2.1700, Test Loss: 2.2567\n",
            "Epoch 21/150, Train Acc: 43.05%, Test Acc: 42.38%\n",
            "Epoch 21/150, Train Loss: 2.1501, Test Loss: 2.1880\n",
            "Epoch 22/150, Train Acc: 43.00%, Test Acc: 41.58%\n",
            "Epoch 22/150, Train Loss: 2.1350, Test Loss: 2.2162\n",
            "Epoch 23/150, Train Acc: 43.28%, Test Acc: 42.60%\n",
            "Epoch 23/150, Train Loss: 2.1209, Test Loss: 2.1832\n",
            "Epoch 24/150, Train Acc: 43.81%, Test Acc: 42.50%\n",
            "Epoch 24/150, Train Loss: 2.0946, Test Loss: 2.1846\n",
            "Epoch 25/150, Train Acc: 44.27%, Test Acc: 43.10%\n",
            "Epoch 25/150, Train Loss: 2.0872, Test Loss: 2.1755\n",
            "Epoch 26/150, Train Acc: 44.65%, Test Acc: 42.07%\n",
            "Epoch 26/150, Train Loss: 2.0691, Test Loss: 2.1926\n",
            "Epoch 27/150, Train Acc: 45.16%, Test Acc: 43.18%\n",
            "Epoch 27/150, Train Loss: 2.0529, Test Loss: 2.1502\n",
            "Epoch 28/150, Train Acc: 45.08%, Test Acc: 43.44%\n",
            "Epoch 28/150, Train Loss: 2.0401, Test Loss: 2.1419\n",
            "Epoch 29/150, Train Acc: 45.33%, Test Acc: 43.99%\n",
            "Epoch 29/150, Train Loss: 2.0216, Test Loss: 2.1209\n",
            "Checkpoint saved at epoch 30: ./checkpoint_epoch_30.pth\n"
          ]
        },
        {
          "output_type": "display_data",
          "data": {
            "text/plain": [
              "<IPython.core.display.Javascript object>"
            ],
            "application/javascript": [
              "\n",
              "    async function download(id, filename, size) {\n",
              "      if (!google.colab.kernel.accessAllowed) {\n",
              "        return;\n",
              "      }\n",
              "      const div = document.createElement('div');\n",
              "      const label = document.createElement('label');\n",
              "      label.textContent = `Downloading \"${filename}\": `;\n",
              "      div.appendChild(label);\n",
              "      const progress = document.createElement('progress');\n",
              "      progress.max = size;\n",
              "      div.appendChild(progress);\n",
              "      document.body.appendChild(div);\n",
              "\n",
              "      const buffers = [];\n",
              "      let downloaded = 0;\n",
              "\n",
              "      const channel = await google.colab.kernel.comms.open(id);\n",
              "      // Send a message to notify the kernel that we're ready.\n",
              "      channel.send({})\n",
              "\n",
              "      for await (const message of channel.messages) {\n",
              "        // Send a message to notify the kernel that we're ready.\n",
              "        channel.send({})\n",
              "        if (message.buffers) {\n",
              "          for (const buffer of message.buffers) {\n",
              "            buffers.push(buffer);\n",
              "            downloaded += buffer.byteLength;\n",
              "            progress.value = downloaded;\n",
              "          }\n",
              "        }\n",
              "      }\n",
              "      const blob = new Blob(buffers, {type: 'application/binary'});\n",
              "      const a = document.createElement('a');\n",
              "      a.href = window.URL.createObjectURL(blob);\n",
              "      a.download = filename;\n",
              "      div.appendChild(a);\n",
              "      a.click();\n",
              "      div.remove();\n",
              "    }\n",
              "  "
            ]
          },
          "metadata": {}
        },
        {
          "output_type": "display_data",
          "data": {
            "text/plain": [
              "<IPython.core.display.Javascript object>"
            ],
            "application/javascript": [
              "download(\"download_30db08dd-4896-464f-bdc6-ba634755d6a6\", \"checkpoint_epoch_30.pth\", 9796718)"
            ]
          },
          "metadata": {}
        },
        {
          "output_type": "stream",
          "name": "stdout",
          "text": [
            "Epoch 30/150, Train Acc: 45.81%, Test Acc: 44.09%\n",
            "Epoch 30/150, Train Loss: 2.0157, Test Loss: 2.1190\n",
            "Epoch 31/150, Train Acc: 45.76%, Test Acc: 44.41%\n",
            "Epoch 31/150, Train Loss: 1.9983, Test Loss: 2.1231\n",
            "Epoch 32/150, Train Acc: 46.09%, Test Acc: 43.69%\n",
            "Epoch 32/150, Train Loss: 1.9913, Test Loss: 2.1385\n",
            "Epoch 33/150, Train Acc: 46.32%, Test Acc: 44.98%\n",
            "Epoch 33/150, Train Loss: 1.9793, Test Loss: 2.0884\n",
            "Epoch 34/150, Train Acc: 46.82%, Test Acc: 44.92%\n",
            "Epoch 34/150, Train Loss: 1.9684, Test Loss: 2.0901\n",
            "Epoch 35/150, Train Acc: 47.23%, Test Acc: 44.40%\n",
            "Epoch 35/150, Train Loss: 1.9574, Test Loss: 2.1067\n",
            "Epoch 36/150, Train Acc: 47.18%, Test Acc: 44.58%\n",
            "Epoch 36/150, Train Loss: 1.9487, Test Loss: 2.1232\n",
            "Epoch 37/150, Train Acc: 47.29%, Test Acc: 44.80%\n",
            "Epoch 37/150, Train Loss: 1.9387, Test Loss: 2.0864\n",
            "Epoch 38/150, Train Acc: 47.79%, Test Acc: 45.12%\n",
            "Epoch 38/150, Train Loss: 1.9295, Test Loss: 2.0782\n",
            "Epoch 39/150, Train Acc: 48.10%, Test Acc: 44.59%\n",
            "Epoch 39/150, Train Loss: 1.9094, Test Loss: 2.1233\n",
            "Checkpoint saved at epoch 40: ./checkpoint_epoch_40.pth\n"
          ]
        },
        {
          "output_type": "display_data",
          "data": {
            "text/plain": [
              "<IPython.core.display.Javascript object>"
            ],
            "application/javascript": [
              "\n",
              "    async function download(id, filename, size) {\n",
              "      if (!google.colab.kernel.accessAllowed) {\n",
              "        return;\n",
              "      }\n",
              "      const div = document.createElement('div');\n",
              "      const label = document.createElement('label');\n",
              "      label.textContent = `Downloading \"${filename}\": `;\n",
              "      div.appendChild(label);\n",
              "      const progress = document.createElement('progress');\n",
              "      progress.max = size;\n",
              "      div.appendChild(progress);\n",
              "      document.body.appendChild(div);\n",
              "\n",
              "      const buffers = [];\n",
              "      let downloaded = 0;\n",
              "\n",
              "      const channel = await google.colab.kernel.comms.open(id);\n",
              "      // Send a message to notify the kernel that we're ready.\n",
              "      channel.send({})\n",
              "\n",
              "      for await (const message of channel.messages) {\n",
              "        // Send a message to notify the kernel that we're ready.\n",
              "        channel.send({})\n",
              "        if (message.buffers) {\n",
              "          for (const buffer of message.buffers) {\n",
              "            buffers.push(buffer);\n",
              "            downloaded += buffer.byteLength;\n",
              "            progress.value = downloaded;\n",
              "          }\n",
              "        }\n",
              "      }\n",
              "      const blob = new Blob(buffers, {type: 'application/binary'});\n",
              "      const a = document.createElement('a');\n",
              "      a.href = window.URL.createObjectURL(blob);\n",
              "      a.download = filename;\n",
              "      div.appendChild(a);\n",
              "      a.click();\n",
              "      div.remove();\n",
              "    }\n",
              "  "
            ]
          },
          "metadata": {}
        },
        {
          "output_type": "display_data",
          "data": {
            "text/plain": [
              "<IPython.core.display.Javascript object>"
            ],
            "application/javascript": [
              "download(\"download_0668f8bd-4773-44af-9794-da5355032ecc\", \"checkpoint_epoch_40.pth\", 9796718)"
            ]
          },
          "metadata": {}
        },
        {
          "output_type": "stream",
          "name": "stdout",
          "text": [
            "Epoch 40/150, Train Acc: 48.40%, Test Acc: 45.04%\n",
            "Epoch 40/150, Train Loss: 1.9056, Test Loss: 2.0879\n",
            "Epoch 41/150, Train Acc: 48.27%, Test Acc: 45.12%\n",
            "Epoch 41/150, Train Loss: 1.9003, Test Loss: 2.0993\n",
            "Epoch 42/150, Train Acc: 48.79%, Test Acc: 44.23%\n",
            "Epoch 42/150, Train Loss: 1.8893, Test Loss: 2.1124\n",
            "Epoch 43/150, Train Acc: 48.89%, Test Acc: 45.27%\n",
            "Epoch 43/150, Train Loss: 1.8799, Test Loss: 2.0672\n",
            "Epoch 44/150, Train Acc: 48.76%, Test Acc: 46.18%\n",
            "Epoch 44/150, Train Loss: 1.8739, Test Loss: 2.0432\n",
            "Epoch 45/150, Train Acc: 48.97%, Test Acc: 46.39%\n",
            "Epoch 45/150, Train Loss: 1.8617, Test Loss: 2.0234\n",
            "Epoch 46/150, Train Acc: 49.16%, Test Acc: 45.93%\n",
            "Epoch 46/150, Train Loss: 1.8610, Test Loss: 2.0319\n",
            "Epoch 47/150, Train Acc: 49.43%, Test Acc: 45.72%\n",
            "Epoch 47/150, Train Loss: 1.8433, Test Loss: 2.0612\n",
            "Epoch 48/150, Train Acc: 49.73%, Test Acc: 45.92%\n",
            "Epoch 48/150, Train Loss: 1.8375, Test Loss: 2.0645\n",
            "Epoch 49/150, Train Acc: 49.94%, Test Acc: 46.20%\n",
            "Epoch 49/150, Train Loss: 1.8330, Test Loss: 2.0341\n",
            "Checkpoint saved at epoch 50: ./checkpoint_epoch_50.pth\n"
          ]
        },
        {
          "output_type": "display_data",
          "data": {
            "text/plain": [
              "<IPython.core.display.Javascript object>"
            ],
            "application/javascript": [
              "\n",
              "    async function download(id, filename, size) {\n",
              "      if (!google.colab.kernel.accessAllowed) {\n",
              "        return;\n",
              "      }\n",
              "      const div = document.createElement('div');\n",
              "      const label = document.createElement('label');\n",
              "      label.textContent = `Downloading \"${filename}\": `;\n",
              "      div.appendChild(label);\n",
              "      const progress = document.createElement('progress');\n",
              "      progress.max = size;\n",
              "      div.appendChild(progress);\n",
              "      document.body.appendChild(div);\n",
              "\n",
              "      const buffers = [];\n",
              "      let downloaded = 0;\n",
              "\n",
              "      const channel = await google.colab.kernel.comms.open(id);\n",
              "      // Send a message to notify the kernel that we're ready.\n",
              "      channel.send({})\n",
              "\n",
              "      for await (const message of channel.messages) {\n",
              "        // Send a message to notify the kernel that we're ready.\n",
              "        channel.send({})\n",
              "        if (message.buffers) {\n",
              "          for (const buffer of message.buffers) {\n",
              "            buffers.push(buffer);\n",
              "            downloaded += buffer.byteLength;\n",
              "            progress.value = downloaded;\n",
              "          }\n",
              "        }\n",
              "      }\n",
              "      const blob = new Blob(buffers, {type: 'application/binary'});\n",
              "      const a = document.createElement('a');\n",
              "      a.href = window.URL.createObjectURL(blob);\n",
              "      a.download = filename;\n",
              "      div.appendChild(a);\n",
              "      a.click();\n",
              "      div.remove();\n",
              "    }\n",
              "  "
            ]
          },
          "metadata": {}
        },
        {
          "output_type": "display_data",
          "data": {
            "text/plain": [
              "<IPython.core.display.Javascript object>"
            ],
            "application/javascript": [
              "download(\"download_5b59c379-0f5b-4319-8a30-279884bdb781\", \"checkpoint_epoch_50.pth\", 9796718)"
            ]
          },
          "metadata": {}
        },
        {
          "output_type": "stream",
          "name": "stdout",
          "text": [
            "Epoch 50/150, Train Acc: 50.22%, Test Acc: 46.43%\n",
            "Epoch 50/150, Train Loss: 1.8208, Test Loss: 2.0186\n",
            "Epoch 51/150, Train Acc: 50.36%, Test Acc: 46.39%\n",
            "Epoch 51/150, Train Loss: 1.8205, Test Loss: 2.0413\n",
            "Epoch 52/150, Train Acc: 50.52%, Test Acc: 46.64%\n",
            "Epoch 52/150, Train Loss: 1.8114, Test Loss: 2.0321\n",
            "Epoch 53/150, Train Acc: 50.49%, Test Acc: 46.42%\n",
            "Epoch 53/150, Train Loss: 1.8024, Test Loss: 2.0371\n",
            "Epoch 54/150, Train Acc: 50.74%, Test Acc: 46.75%\n",
            "Epoch 54/150, Train Loss: 1.7929, Test Loss: 2.0221\n",
            "Epoch 55/150, Train Acc: 51.07%, Test Acc: 47.11%\n",
            "Epoch 55/150, Train Loss: 1.7823, Test Loss: 2.0032\n",
            "Epoch 56/150, Train Acc: 50.97%, Test Acc: 47.30%\n",
            "Epoch 56/150, Train Loss: 1.7827, Test Loss: 2.0132\n",
            "Epoch 57/150, Train Acc: 51.43%, Test Acc: 47.18%\n",
            "Epoch 57/150, Train Loss: 1.7670, Test Loss: 2.0036\n",
            "Epoch 58/150, Train Acc: 51.43%, Test Acc: 47.80%\n",
            "Epoch 58/150, Train Loss: 1.7693, Test Loss: 2.0001\n",
            "Epoch 59/150, Train Acc: 51.60%, Test Acc: 46.95%\n",
            "Epoch 59/150, Train Loss: 1.7601, Test Loss: 2.0183\n",
            "Checkpoint saved at epoch 60: ./checkpoint_epoch_60.pth\n"
          ]
        },
        {
          "output_type": "display_data",
          "data": {
            "text/plain": [
              "<IPython.core.display.Javascript object>"
            ],
            "application/javascript": [
              "\n",
              "    async function download(id, filename, size) {\n",
              "      if (!google.colab.kernel.accessAllowed) {\n",
              "        return;\n",
              "      }\n",
              "      const div = document.createElement('div');\n",
              "      const label = document.createElement('label');\n",
              "      label.textContent = `Downloading \"${filename}\": `;\n",
              "      div.appendChild(label);\n",
              "      const progress = document.createElement('progress');\n",
              "      progress.max = size;\n",
              "      div.appendChild(progress);\n",
              "      document.body.appendChild(div);\n",
              "\n",
              "      const buffers = [];\n",
              "      let downloaded = 0;\n",
              "\n",
              "      const channel = await google.colab.kernel.comms.open(id);\n",
              "      // Send a message to notify the kernel that we're ready.\n",
              "      channel.send({})\n",
              "\n",
              "      for await (const message of channel.messages) {\n",
              "        // Send a message to notify the kernel that we're ready.\n",
              "        channel.send({})\n",
              "        if (message.buffers) {\n",
              "          for (const buffer of message.buffers) {\n",
              "            buffers.push(buffer);\n",
              "            downloaded += buffer.byteLength;\n",
              "            progress.value = downloaded;\n",
              "          }\n",
              "        }\n",
              "      }\n",
              "      const blob = new Blob(buffers, {type: 'application/binary'});\n",
              "      const a = document.createElement('a');\n",
              "      a.href = window.URL.createObjectURL(blob);\n",
              "      a.download = filename;\n",
              "      div.appendChild(a);\n",
              "      a.click();\n",
              "      div.remove();\n",
              "    }\n",
              "  "
            ]
          },
          "metadata": {}
        },
        {
          "output_type": "display_data",
          "data": {
            "text/plain": [
              "<IPython.core.display.Javascript object>"
            ],
            "application/javascript": [
              "download(\"download_78d1547f-79a8-434d-844c-5d1be3ed1b66\", \"checkpoint_epoch_60.pth\", 9796718)"
            ]
          },
          "metadata": {}
        },
        {
          "output_type": "stream",
          "name": "stdout",
          "text": [
            "Epoch 60/150, Train Acc: 51.60%, Test Acc: 47.27%\n",
            "Epoch 60/150, Train Loss: 1.7533, Test Loss: 2.0064\n",
            "Epoch 61/150, Train Acc: 51.88%, Test Acc: 46.65%\n",
            "Epoch 61/150, Train Loss: 1.7422, Test Loss: 2.0182\n",
            "Epoch 62/150, Train Acc: 52.11%, Test Acc: 46.54%\n",
            "Epoch 62/150, Train Loss: 1.7403, Test Loss: 2.0421\n",
            "Epoch 63/150, Train Acc: 51.99%, Test Acc: 47.45%\n",
            "Epoch 63/150, Train Loss: 1.7342, Test Loss: 1.9968\n",
            "Epoch 64/150, Train Acc: 52.52%, Test Acc: 46.27%\n",
            "Epoch 64/150, Train Loss: 1.7184, Test Loss: 2.0375\n",
            "Epoch 65/150, Train Acc: 52.50%, Test Acc: 47.49%\n",
            "Epoch 65/150, Train Loss: 1.7198, Test Loss: 2.0019\n",
            "Epoch 66/150, Train Acc: 52.65%, Test Acc: 47.59%\n",
            "Epoch 66/150, Train Loss: 1.7158, Test Loss: 1.9766\n",
            "Epoch 67/150, Train Acc: 52.58%, Test Acc: 47.91%\n",
            "Epoch 67/150, Train Loss: 1.7023, Test Loss: 1.9719\n",
            "Epoch 68/150, Train Acc: 53.31%, Test Acc: 47.55%\n",
            "Epoch 68/150, Train Loss: 1.6935, Test Loss: 1.9835\n",
            "Epoch 69/150, Train Acc: 53.22%, Test Acc: 47.78%\n",
            "Epoch 69/150, Train Loss: 1.6904, Test Loss: 1.9810\n",
            "Checkpoint saved at epoch 70: ./checkpoint_epoch_70.pth\n"
          ]
        },
        {
          "output_type": "display_data",
          "data": {
            "text/plain": [
              "<IPython.core.display.Javascript object>"
            ],
            "application/javascript": [
              "\n",
              "    async function download(id, filename, size) {\n",
              "      if (!google.colab.kernel.accessAllowed) {\n",
              "        return;\n",
              "      }\n",
              "      const div = document.createElement('div');\n",
              "      const label = document.createElement('label');\n",
              "      label.textContent = `Downloading \"${filename}\": `;\n",
              "      div.appendChild(label);\n",
              "      const progress = document.createElement('progress');\n",
              "      progress.max = size;\n",
              "      div.appendChild(progress);\n",
              "      document.body.appendChild(div);\n",
              "\n",
              "      const buffers = [];\n",
              "      let downloaded = 0;\n",
              "\n",
              "      const channel = await google.colab.kernel.comms.open(id);\n",
              "      // Send a message to notify the kernel that we're ready.\n",
              "      channel.send({})\n",
              "\n",
              "      for await (const message of channel.messages) {\n",
              "        // Send a message to notify the kernel that we're ready.\n",
              "        channel.send({})\n",
              "        if (message.buffers) {\n",
              "          for (const buffer of message.buffers) {\n",
              "            buffers.push(buffer);\n",
              "            downloaded += buffer.byteLength;\n",
              "            progress.value = downloaded;\n",
              "          }\n",
              "        }\n",
              "      }\n",
              "      const blob = new Blob(buffers, {type: 'application/binary'});\n",
              "      const a = document.createElement('a');\n",
              "      a.href = window.URL.createObjectURL(blob);\n",
              "      a.download = filename;\n",
              "      div.appendChild(a);\n",
              "      a.click();\n",
              "      div.remove();\n",
              "    }\n",
              "  "
            ]
          },
          "metadata": {}
        },
        {
          "output_type": "display_data",
          "data": {
            "text/plain": [
              "<IPython.core.display.Javascript object>"
            ],
            "application/javascript": [
              "download(\"download_58cefeb9-b541-4c96-bf2c-35650710de6b\", \"checkpoint_epoch_70.pth\", 9796718)"
            ]
          },
          "metadata": {}
        },
        {
          "output_type": "stream",
          "name": "stdout",
          "text": [
            "Epoch 70/150, Train Acc: 53.46%, Test Acc: 48.05%\n",
            "Epoch 70/150, Train Loss: 1.6839, Test Loss: 1.9774\n",
            "Epoch 71/150, Train Acc: 53.80%, Test Acc: 48.19%\n",
            "Epoch 71/150, Train Loss: 1.6773, Test Loss: 1.9657\n",
            "Epoch 72/150, Train Acc: 53.66%, Test Acc: 47.98%\n",
            "Epoch 72/150, Train Loss: 1.6691, Test Loss: 1.9680\n",
            "Epoch 73/150, Train Acc: 53.66%, Test Acc: 48.73%\n",
            "Epoch 73/150, Train Loss: 1.6667, Test Loss: 1.9661\n",
            "Epoch 74/150, Train Acc: 53.82%, Test Acc: 48.71%\n",
            "Epoch 74/150, Train Loss: 1.6581, Test Loss: 1.9532\n",
            "Epoch 75/150, Train Acc: 54.31%, Test Acc: 47.88%\n",
            "Epoch 75/150, Train Loss: 1.6488, Test Loss: 1.9716\n",
            "Epoch 76/150, Train Acc: 54.46%, Test Acc: 48.42%\n",
            "Epoch 76/150, Train Loss: 1.6458, Test Loss: 1.9675\n",
            "Epoch 77/150, Train Acc: 54.49%, Test Acc: 48.26%\n",
            "Epoch 77/150, Train Loss: 1.6399, Test Loss: 1.9741\n",
            "Epoch 78/150, Train Acc: 54.51%, Test Acc: 48.34%\n",
            "Epoch 78/150, Train Loss: 1.6332, Test Loss: 1.9569\n",
            "Epoch 79/150, Train Acc: 54.85%, Test Acc: 48.35%\n",
            "Epoch 79/150, Train Loss: 1.6248, Test Loss: 1.9669\n",
            "Checkpoint saved at epoch 80: ./checkpoint_epoch_80.pth\n"
          ]
        },
        {
          "output_type": "display_data",
          "data": {
            "text/plain": [
              "<IPython.core.display.Javascript object>"
            ],
            "application/javascript": [
              "\n",
              "    async function download(id, filename, size) {\n",
              "      if (!google.colab.kernel.accessAllowed) {\n",
              "        return;\n",
              "      }\n",
              "      const div = document.createElement('div');\n",
              "      const label = document.createElement('label');\n",
              "      label.textContent = `Downloading \"${filename}\": `;\n",
              "      div.appendChild(label);\n",
              "      const progress = document.createElement('progress');\n",
              "      progress.max = size;\n",
              "      div.appendChild(progress);\n",
              "      document.body.appendChild(div);\n",
              "\n",
              "      const buffers = [];\n",
              "      let downloaded = 0;\n",
              "\n",
              "      const channel = await google.colab.kernel.comms.open(id);\n",
              "      // Send a message to notify the kernel that we're ready.\n",
              "      channel.send({})\n",
              "\n",
              "      for await (const message of channel.messages) {\n",
              "        // Send a message to notify the kernel that we're ready.\n",
              "        channel.send({})\n",
              "        if (message.buffers) {\n",
              "          for (const buffer of message.buffers) {\n",
              "            buffers.push(buffer);\n",
              "            downloaded += buffer.byteLength;\n",
              "            progress.value = downloaded;\n",
              "          }\n",
              "        }\n",
              "      }\n",
              "      const blob = new Blob(buffers, {type: 'application/binary'});\n",
              "      const a = document.createElement('a');\n",
              "      a.href = window.URL.createObjectURL(blob);\n",
              "      a.download = filename;\n",
              "      div.appendChild(a);\n",
              "      a.click();\n",
              "      div.remove();\n",
              "    }\n",
              "  "
            ]
          },
          "metadata": {}
        },
        {
          "output_type": "display_data",
          "data": {
            "text/plain": [
              "<IPython.core.display.Javascript object>"
            ],
            "application/javascript": [
              "download(\"download_eb0d0290-79f3-47d6-8fe8-d3c7832be334\", \"checkpoint_epoch_80.pth\", 9796718)"
            ]
          },
          "metadata": {}
        },
        {
          "output_type": "stream",
          "name": "stdout",
          "text": [
            "Epoch 80/150, Train Acc: 54.87%, Test Acc: 48.99%\n",
            "Epoch 80/150, Train Loss: 1.6224, Test Loss: 1.9395\n",
            "Epoch 81/150, Train Acc: 55.02%, Test Acc: 48.59%\n",
            "Epoch 81/150, Train Loss: 1.6179, Test Loss: 1.9462\n",
            "Epoch 82/150, Train Acc: 55.40%, Test Acc: 48.74%\n",
            "Epoch 82/150, Train Loss: 1.6101, Test Loss: 1.9607\n",
            "Epoch 83/150, Train Acc: 55.36%, Test Acc: 49.30%\n",
            "Epoch 83/150, Train Loss: 1.6091, Test Loss: 1.9339\n",
            "Epoch 84/150, Train Acc: 55.50%, Test Acc: 48.74%\n",
            "Epoch 84/150, Train Loss: 1.5959, Test Loss: 1.9515\n",
            "Epoch 85/150, Train Acc: 55.68%, Test Acc: 48.90%\n",
            "Epoch 85/150, Train Loss: 1.5849, Test Loss: 1.9526\n",
            "Epoch 86/150, Train Acc: 55.77%, Test Acc: 48.95%\n",
            "Epoch 86/150, Train Loss: 1.5847, Test Loss: 1.9573\n",
            "Epoch 87/150, Train Acc: 55.85%, Test Acc: 48.92%\n",
            "Epoch 87/150, Train Loss: 1.5856, Test Loss: 1.9371\n",
            "Epoch 88/150, Train Acc: 56.09%, Test Acc: 49.01%\n",
            "Epoch 88/150, Train Loss: 1.5730, Test Loss: 1.9438\n",
            "Epoch 89/150, Train Acc: 56.67%, Test Acc: 49.10%\n",
            "Epoch 89/150, Train Loss: 1.5649, Test Loss: 1.9465\n",
            "Checkpoint saved at epoch 90: ./checkpoint_epoch_90.pth\n"
          ]
        },
        {
          "output_type": "display_data",
          "data": {
            "text/plain": [
              "<IPython.core.display.Javascript object>"
            ],
            "application/javascript": [
              "\n",
              "    async function download(id, filename, size) {\n",
              "      if (!google.colab.kernel.accessAllowed) {\n",
              "        return;\n",
              "      }\n",
              "      const div = document.createElement('div');\n",
              "      const label = document.createElement('label');\n",
              "      label.textContent = `Downloading \"${filename}\": `;\n",
              "      div.appendChild(label);\n",
              "      const progress = document.createElement('progress');\n",
              "      progress.max = size;\n",
              "      div.appendChild(progress);\n",
              "      document.body.appendChild(div);\n",
              "\n",
              "      const buffers = [];\n",
              "      let downloaded = 0;\n",
              "\n",
              "      const channel = await google.colab.kernel.comms.open(id);\n",
              "      // Send a message to notify the kernel that we're ready.\n",
              "      channel.send({})\n",
              "\n",
              "      for await (const message of channel.messages) {\n",
              "        // Send a message to notify the kernel that we're ready.\n",
              "        channel.send({})\n",
              "        if (message.buffers) {\n",
              "          for (const buffer of message.buffers) {\n",
              "            buffers.push(buffer);\n",
              "            downloaded += buffer.byteLength;\n",
              "            progress.value = downloaded;\n",
              "          }\n",
              "        }\n",
              "      }\n",
              "      const blob = new Blob(buffers, {type: 'application/binary'});\n",
              "      const a = document.createElement('a');\n",
              "      a.href = window.URL.createObjectURL(blob);\n",
              "      a.download = filename;\n",
              "      div.appendChild(a);\n",
              "      a.click();\n",
              "      div.remove();\n",
              "    }\n",
              "  "
            ]
          },
          "metadata": {}
        },
        {
          "output_type": "display_data",
          "data": {
            "text/plain": [
              "<IPython.core.display.Javascript object>"
            ],
            "application/javascript": [
              "download(\"download_c68d2283-72cd-4713-afa7-dd983f4eff5b\", \"checkpoint_epoch_90.pth\", 9796718)"
            ]
          },
          "metadata": {}
        },
        {
          "output_type": "stream",
          "name": "stdout",
          "text": [
            "Epoch 90/150, Train Acc: 56.41%, Test Acc: 49.42%\n",
            "Epoch 90/150, Train Loss: 1.5599, Test Loss: 1.9489\n",
            "Epoch 91/150, Train Acc: 56.38%, Test Acc: 49.64%\n",
            "Epoch 91/150, Train Loss: 1.5614, Test Loss: 1.9207\n",
            "Epoch 92/150, Train Acc: 56.81%, Test Acc: 49.39%\n",
            "Epoch 92/150, Train Loss: 1.5522, Test Loss: 1.9186\n",
            "Epoch 93/150, Train Acc: 56.86%, Test Acc: 50.19%\n",
            "Epoch 93/150, Train Loss: 1.5443, Test Loss: 1.9147\n",
            "Epoch 94/150, Train Acc: 57.00%, Test Acc: 49.98%\n",
            "Epoch 94/150, Train Loss: 1.5421, Test Loss: 1.9246\n",
            "Epoch 95/150, Train Acc: 57.40%, Test Acc: 49.28%\n",
            "Epoch 95/150, Train Loss: 1.5339, Test Loss: 1.9417\n",
            "Epoch 96/150, Train Acc: 57.07%, Test Acc: 49.00%\n",
            "Epoch 96/150, Train Loss: 1.5306, Test Loss: 1.9470\n",
            "Epoch 97/150, Train Acc: 57.17%, Test Acc: 49.16%\n",
            "Epoch 97/150, Train Loss: 1.5263, Test Loss: 1.9333\n",
            "Epoch 98/150, Train Acc: 57.55%, Test Acc: 49.58%\n",
            "Epoch 98/150, Train Loss: 1.5209, Test Loss: 1.9252\n",
            "Epoch 99/150, Train Acc: 57.90%, Test Acc: 49.90%\n",
            "Epoch 99/150, Train Loss: 1.5109, Test Loss: 1.9232\n",
            "Checkpoint saved at epoch 100: ./checkpoint_epoch_100.pth\n"
          ]
        },
        {
          "output_type": "display_data",
          "data": {
            "text/plain": [
              "<IPython.core.display.Javascript object>"
            ],
            "application/javascript": [
              "\n",
              "    async function download(id, filename, size) {\n",
              "      if (!google.colab.kernel.accessAllowed) {\n",
              "        return;\n",
              "      }\n",
              "      const div = document.createElement('div');\n",
              "      const label = document.createElement('label');\n",
              "      label.textContent = `Downloading \"${filename}\": `;\n",
              "      div.appendChild(label);\n",
              "      const progress = document.createElement('progress');\n",
              "      progress.max = size;\n",
              "      div.appendChild(progress);\n",
              "      document.body.appendChild(div);\n",
              "\n",
              "      const buffers = [];\n",
              "      let downloaded = 0;\n",
              "\n",
              "      const channel = await google.colab.kernel.comms.open(id);\n",
              "      // Send a message to notify the kernel that we're ready.\n",
              "      channel.send({})\n",
              "\n",
              "      for await (const message of channel.messages) {\n",
              "        // Send a message to notify the kernel that we're ready.\n",
              "        channel.send({})\n",
              "        if (message.buffers) {\n",
              "          for (const buffer of message.buffers) {\n",
              "            buffers.push(buffer);\n",
              "            downloaded += buffer.byteLength;\n",
              "            progress.value = downloaded;\n",
              "          }\n",
              "        }\n",
              "      }\n",
              "      const blob = new Blob(buffers, {type: 'application/binary'});\n",
              "      const a = document.createElement('a');\n",
              "      a.href = window.URL.createObjectURL(blob);\n",
              "      a.download = filename;\n",
              "      div.appendChild(a);\n",
              "      a.click();\n",
              "      div.remove();\n",
              "    }\n",
              "  "
            ]
          },
          "metadata": {}
        },
        {
          "output_type": "display_data",
          "data": {
            "text/plain": [
              "<IPython.core.display.Javascript object>"
            ],
            "application/javascript": [
              "download(\"download_7fe8f89a-7850-4ac1-9d7f-8bcd5475875f\", \"checkpoint_epoch_100.pth\", 9796762)"
            ]
          },
          "metadata": {}
        },
        {
          "output_type": "stream",
          "name": "stdout",
          "text": [
            "Epoch 100/150, Train Acc: 57.82%, Test Acc: 50.27%\n",
            "Epoch 100/150, Train Loss: 1.5101, Test Loss: 1.9099\n",
            "Epoch 101/150, Train Acc: 58.06%, Test Acc: 50.03%\n",
            "Epoch 101/150, Train Loss: 1.5045, Test Loss: 1.9091\n",
            "Epoch 102/150, Train Acc: 58.12%, Test Acc: 49.51%\n",
            "Epoch 102/150, Train Loss: 1.4932, Test Loss: 1.9408\n",
            "Epoch 103/150, Train Acc: 58.17%, Test Acc: 49.78%\n",
            "Epoch 103/150, Train Loss: 1.4937, Test Loss: 1.9115\n",
            "Epoch 104/150, Train Acc: 58.53%, Test Acc: 50.03%\n",
            "Epoch 104/150, Train Loss: 1.4787, Test Loss: 1.9155\n",
            "Epoch 105/150, Train Acc: 58.54%, Test Acc: 50.12%\n",
            "Epoch 105/150, Train Loss: 1.4793, Test Loss: 1.9020\n",
            "Epoch 106/150, Train Acc: 58.71%, Test Acc: 50.70%\n",
            "Epoch 106/150, Train Loss: 1.4822, Test Loss: 1.9016\n",
            "Epoch 107/150, Train Acc: 58.68%, Test Acc: 50.60%\n",
            "Epoch 107/150, Train Loss: 1.4715, Test Loss: 1.8987\n",
            "Epoch 108/150, Train Acc: 58.78%, Test Acc: 50.36%\n",
            "Epoch 108/150, Train Loss: 1.4698, Test Loss: 1.8968\n",
            "Epoch 109/150, Train Acc: 58.99%, Test Acc: 50.38%\n",
            "Epoch 109/150, Train Loss: 1.4592, Test Loss: 1.8959\n",
            "Checkpoint saved at epoch 110: ./checkpoint_epoch_110.pth\n"
          ]
        },
        {
          "output_type": "display_data",
          "data": {
            "text/plain": [
              "<IPython.core.display.Javascript object>"
            ],
            "application/javascript": [
              "\n",
              "    async function download(id, filename, size) {\n",
              "      if (!google.colab.kernel.accessAllowed) {\n",
              "        return;\n",
              "      }\n",
              "      const div = document.createElement('div');\n",
              "      const label = document.createElement('label');\n",
              "      label.textContent = `Downloading \"${filename}\": `;\n",
              "      div.appendChild(label);\n",
              "      const progress = document.createElement('progress');\n",
              "      progress.max = size;\n",
              "      div.appendChild(progress);\n",
              "      document.body.appendChild(div);\n",
              "\n",
              "      const buffers = [];\n",
              "      let downloaded = 0;\n",
              "\n",
              "      const channel = await google.colab.kernel.comms.open(id);\n",
              "      // Send a message to notify the kernel that we're ready.\n",
              "      channel.send({})\n",
              "\n",
              "      for await (const message of channel.messages) {\n",
              "        // Send a message to notify the kernel that we're ready.\n",
              "        channel.send({})\n",
              "        if (message.buffers) {\n",
              "          for (const buffer of message.buffers) {\n",
              "            buffers.push(buffer);\n",
              "            downloaded += buffer.byteLength;\n",
              "            progress.value = downloaded;\n",
              "          }\n",
              "        }\n",
              "      }\n",
              "      const blob = new Blob(buffers, {type: 'application/binary'});\n",
              "      const a = document.createElement('a');\n",
              "      a.href = window.URL.createObjectURL(blob);\n",
              "      a.download = filename;\n",
              "      div.appendChild(a);\n",
              "      a.click();\n",
              "      div.remove();\n",
              "    }\n",
              "  "
            ]
          },
          "metadata": {}
        },
        {
          "output_type": "display_data",
          "data": {
            "text/plain": [
              "<IPython.core.display.Javascript object>"
            ],
            "application/javascript": [
              "download(\"download_8e50d275-cb4a-4861-9513-d1a297646029\", \"checkpoint_epoch_110.pth\", 9796762)"
            ]
          },
          "metadata": {}
        },
        {
          "output_type": "stream",
          "name": "stdout",
          "text": [
            "Epoch 110/150, Train Acc: 59.13%, Test Acc: 50.65%\n",
            "Epoch 110/150, Train Loss: 1.4609, Test Loss: 1.9027\n",
            "Epoch 111/150, Train Acc: 59.47%, Test Acc: 50.79%\n",
            "Epoch 111/150, Train Loss: 1.4479, Test Loss: 1.8960\n",
            "Epoch 112/150, Train Acc: 59.27%, Test Acc: 50.44%\n",
            "Epoch 112/150, Train Loss: 1.4516, Test Loss: 1.9048\n",
            "Epoch 113/150, Train Acc: 59.20%, Test Acc: 50.44%\n",
            "Epoch 113/150, Train Loss: 1.4478, Test Loss: 1.8908\n",
            "Epoch 114/150, Train Acc: 59.68%, Test Acc: 50.23%\n",
            "Epoch 114/150, Train Loss: 1.4419, Test Loss: 1.8991\n",
            "Epoch 115/150, Train Acc: 59.81%, Test Acc: 50.57%\n",
            "Epoch 115/150, Train Loss: 1.4375, Test Loss: 1.8875\n",
            "Epoch 116/150, Train Acc: 59.81%, Test Acc: 50.78%\n",
            "Epoch 116/150, Train Loss: 1.4292, Test Loss: 1.8971\n",
            "Epoch 117/150, Train Acc: 59.82%, Test Acc: 50.94%\n",
            "Epoch 117/150, Train Loss: 1.4330, Test Loss: 1.8826\n",
            "Epoch 118/150, Train Acc: 60.18%, Test Acc: 50.65%\n",
            "Epoch 118/150, Train Loss: 1.4212, Test Loss: 1.8914\n",
            "Epoch 119/150, Train Acc: 60.02%, Test Acc: 50.73%\n",
            "Epoch 119/150, Train Loss: 1.4267, Test Loss: 1.8937\n",
            "Checkpoint saved at epoch 120: ./checkpoint_epoch_120.pth\n"
          ]
        },
        {
          "output_type": "display_data",
          "data": {
            "text/plain": [
              "<IPython.core.display.Javascript object>"
            ],
            "application/javascript": [
              "\n",
              "    async function download(id, filename, size) {\n",
              "      if (!google.colab.kernel.accessAllowed) {\n",
              "        return;\n",
              "      }\n",
              "      const div = document.createElement('div');\n",
              "      const label = document.createElement('label');\n",
              "      label.textContent = `Downloading \"${filename}\": `;\n",
              "      div.appendChild(label);\n",
              "      const progress = document.createElement('progress');\n",
              "      progress.max = size;\n",
              "      div.appendChild(progress);\n",
              "      document.body.appendChild(div);\n",
              "\n",
              "      const buffers = [];\n",
              "      let downloaded = 0;\n",
              "\n",
              "      const channel = await google.colab.kernel.comms.open(id);\n",
              "      // Send a message to notify the kernel that we're ready.\n",
              "      channel.send({})\n",
              "\n",
              "      for await (const message of channel.messages) {\n",
              "        // Send a message to notify the kernel that we're ready.\n",
              "        channel.send({})\n",
              "        if (message.buffers) {\n",
              "          for (const buffer of message.buffers) {\n",
              "            buffers.push(buffer);\n",
              "            downloaded += buffer.byteLength;\n",
              "            progress.value = downloaded;\n",
              "          }\n",
              "        }\n",
              "      }\n",
              "      const blob = new Blob(buffers, {type: 'application/binary'});\n",
              "      const a = document.createElement('a');\n",
              "      a.href = window.URL.createObjectURL(blob);\n",
              "      a.download = filename;\n",
              "      div.appendChild(a);\n",
              "      a.click();\n",
              "      div.remove();\n",
              "    }\n",
              "  "
            ]
          },
          "metadata": {}
        },
        {
          "output_type": "display_data",
          "data": {
            "text/plain": [
              "<IPython.core.display.Javascript object>"
            ],
            "application/javascript": [
              "download(\"download_e56771ee-a48d-4a89-9e66-27ead8e8495c\", \"checkpoint_epoch_120.pth\", 9796762)"
            ]
          },
          "metadata": {}
        },
        {
          "output_type": "stream",
          "name": "stdout",
          "text": [
            "Epoch 120/150, Train Acc: 60.07%, Test Acc: 50.69%\n",
            "Epoch 120/150, Train Loss: 1.4196, Test Loss: 1.8918\n",
            "Epoch 121/150, Train Acc: 60.54%, Test Acc: 50.68%\n",
            "Epoch 121/150, Train Loss: 1.4117, Test Loss: 1.8915\n",
            "Epoch 122/150, Train Acc: 60.53%, Test Acc: 50.53%\n",
            "Epoch 122/150, Train Loss: 1.4094, Test Loss: 1.9017\n",
            "Epoch 123/150, Train Acc: 60.78%, Test Acc: 50.95%\n",
            "Epoch 123/150, Train Loss: 1.4067, Test Loss: 1.8865\n",
            "Epoch 124/150, Train Acc: 60.64%, Test Acc: 50.84%\n",
            "Epoch 124/150, Train Loss: 1.4039, Test Loss: 1.8881\n",
            "Epoch 125/150, Train Acc: 60.74%, Test Acc: 51.28%\n",
            "Epoch 125/150, Train Loss: 1.4015, Test Loss: 1.8814\n",
            "Epoch 126/150, Train Acc: 60.67%, Test Acc: 51.20%\n",
            "Epoch 126/150, Train Loss: 1.4035, Test Loss: 1.8784\n",
            "Epoch 127/150, Train Acc: 61.11%, Test Acc: 51.31%\n",
            "Epoch 127/150, Train Loss: 1.3925, Test Loss: 1.8849\n",
            "Epoch 128/150, Train Acc: 60.98%, Test Acc: 51.05%\n",
            "Epoch 128/150, Train Loss: 1.3920, Test Loss: 1.8838\n",
            "Epoch 129/150, Train Acc: 61.08%, Test Acc: 51.18%\n",
            "Epoch 129/150, Train Loss: 1.3946, Test Loss: 1.8802\n",
            "Checkpoint saved at epoch 130: ./checkpoint_epoch_130.pth\n"
          ]
        },
        {
          "output_type": "display_data",
          "data": {
            "text/plain": [
              "<IPython.core.display.Javascript object>"
            ],
            "application/javascript": [
              "\n",
              "    async function download(id, filename, size) {\n",
              "      if (!google.colab.kernel.accessAllowed) {\n",
              "        return;\n",
              "      }\n",
              "      const div = document.createElement('div');\n",
              "      const label = document.createElement('label');\n",
              "      label.textContent = `Downloading \"${filename}\": `;\n",
              "      div.appendChild(label);\n",
              "      const progress = document.createElement('progress');\n",
              "      progress.max = size;\n",
              "      div.appendChild(progress);\n",
              "      document.body.appendChild(div);\n",
              "\n",
              "      const buffers = [];\n",
              "      let downloaded = 0;\n",
              "\n",
              "      const channel = await google.colab.kernel.comms.open(id);\n",
              "      // Send a message to notify the kernel that we're ready.\n",
              "      channel.send({})\n",
              "\n",
              "      for await (const message of channel.messages) {\n",
              "        // Send a message to notify the kernel that we're ready.\n",
              "        channel.send({})\n",
              "        if (message.buffers) {\n",
              "          for (const buffer of message.buffers) {\n",
              "            buffers.push(buffer);\n",
              "            downloaded += buffer.byteLength;\n",
              "            progress.value = downloaded;\n",
              "          }\n",
              "        }\n",
              "      }\n",
              "      const blob = new Blob(buffers, {type: 'application/binary'});\n",
              "      const a = document.createElement('a');\n",
              "      a.href = window.URL.createObjectURL(blob);\n",
              "      a.download = filename;\n",
              "      div.appendChild(a);\n",
              "      a.click();\n",
              "      div.remove();\n",
              "    }\n",
              "  "
            ]
          },
          "metadata": {}
        },
        {
          "output_type": "display_data",
          "data": {
            "text/plain": [
              "<IPython.core.display.Javascript object>"
            ],
            "application/javascript": [
              "download(\"download_9752ccf1-8660-49d6-bbf9-c4a07d4690ce\", \"checkpoint_epoch_130.pth\", 9796762)"
            ]
          },
          "metadata": {}
        },
        {
          "output_type": "stream",
          "name": "stdout",
          "text": [
            "Epoch 130/150, Train Acc: 61.17%, Test Acc: 50.85%\n",
            "Epoch 130/150, Train Loss: 1.3896, Test Loss: 1.8818\n",
            "Epoch 131/150, Train Acc: 61.42%, Test Acc: 51.07%\n",
            "Epoch 131/150, Train Loss: 1.3816, Test Loss: 1.8812\n",
            "Epoch 132/150, Train Acc: 61.37%, Test Acc: 50.99%\n",
            "Epoch 132/150, Train Loss: 1.3859, Test Loss: 1.8806\n",
            "Epoch 133/150, Train Acc: 61.23%, Test Acc: 51.07%\n",
            "Epoch 133/150, Train Loss: 1.3823, Test Loss: 1.8826\n",
            "Epoch 134/150, Train Acc: 61.62%, Test Acc: 51.06%\n",
            "Epoch 134/150, Train Loss: 1.3752, Test Loss: 1.8772\n",
            "Epoch 135/150, Train Acc: 61.54%, Test Acc: 51.14%\n",
            "Epoch 135/150, Train Loss: 1.3659, Test Loss: 1.8800\n",
            "Epoch 136/150, Train Acc: 61.78%, Test Acc: 51.10%\n",
            "Epoch 136/150, Train Loss: 1.3710, Test Loss: 1.8802\n",
            "Epoch 137/150, Train Acc: 61.68%, Test Acc: 51.23%\n",
            "Epoch 137/150, Train Loss: 1.3750, Test Loss: 1.8764\n",
            "Epoch 138/150, Train Acc: 61.51%, Test Acc: 51.32%\n",
            "Epoch 138/150, Train Loss: 1.3752, Test Loss: 1.8775\n",
            "Epoch 139/150, Train Acc: 61.71%, Test Acc: 51.20%\n",
            "Epoch 139/150, Train Loss: 1.3741, Test Loss: 1.8751\n",
            "Checkpoint saved at epoch 140: ./checkpoint_epoch_140.pth\n"
          ]
        },
        {
          "output_type": "display_data",
          "data": {
            "text/plain": [
              "<IPython.core.display.Javascript object>"
            ],
            "application/javascript": [
              "\n",
              "    async function download(id, filename, size) {\n",
              "      if (!google.colab.kernel.accessAllowed) {\n",
              "        return;\n",
              "      }\n",
              "      const div = document.createElement('div');\n",
              "      const label = document.createElement('label');\n",
              "      label.textContent = `Downloading \"${filename}\": `;\n",
              "      div.appendChild(label);\n",
              "      const progress = document.createElement('progress');\n",
              "      progress.max = size;\n",
              "      div.appendChild(progress);\n",
              "      document.body.appendChild(div);\n",
              "\n",
              "      const buffers = [];\n",
              "      let downloaded = 0;\n",
              "\n",
              "      const channel = await google.colab.kernel.comms.open(id);\n",
              "      // Send a message to notify the kernel that we're ready.\n",
              "      channel.send({})\n",
              "\n",
              "      for await (const message of channel.messages) {\n",
              "        // Send a message to notify the kernel that we're ready.\n",
              "        channel.send({})\n",
              "        if (message.buffers) {\n",
              "          for (const buffer of message.buffers) {\n",
              "            buffers.push(buffer);\n",
              "            downloaded += buffer.byteLength;\n",
              "            progress.value = downloaded;\n",
              "          }\n",
              "        }\n",
              "      }\n",
              "      const blob = new Blob(buffers, {type: 'application/binary'});\n",
              "      const a = document.createElement('a');\n",
              "      a.href = window.URL.createObjectURL(blob);\n",
              "      a.download = filename;\n",
              "      div.appendChild(a);\n",
              "      a.click();\n",
              "      div.remove();\n",
              "    }\n",
              "  "
            ]
          },
          "metadata": {}
        },
        {
          "output_type": "display_data",
          "data": {
            "text/plain": [
              "<IPython.core.display.Javascript object>"
            ],
            "application/javascript": [
              "download(\"download_abbc1bdc-dd32-43d2-b739-49391b6f7907\", \"checkpoint_epoch_140.pth\", 9796762)"
            ]
          },
          "metadata": {}
        },
        {
          "output_type": "stream",
          "name": "stdout",
          "text": [
            "Epoch 140/150, Train Acc: 61.81%, Test Acc: 51.29%\n",
            "Epoch 140/150, Train Loss: 1.3661, Test Loss: 1.8764\n",
            "Epoch 141/150, Train Acc: 61.66%, Test Acc: 51.37%\n",
            "Epoch 141/150, Train Loss: 1.3718, Test Loss: 1.8754\n",
            "Epoch 142/150, Train Acc: 61.72%, Test Acc: 51.26%\n",
            "Epoch 142/150, Train Loss: 1.3662, Test Loss: 1.8761\n",
            "Epoch 143/150, Train Acc: 61.81%, Test Acc: 51.38%\n",
            "Epoch 143/150, Train Loss: 1.3645, Test Loss: 1.8760\n",
            "Epoch 144/150, Train Acc: 61.90%, Test Acc: 51.30%\n",
            "Epoch 144/150, Train Loss: 1.3642, Test Loss: 1.8753\n",
            "Epoch 145/150, Train Acc: 61.87%, Test Acc: 51.30%\n",
            "Epoch 145/150, Train Loss: 1.3649, Test Loss: 1.8769\n",
            "Epoch 146/150, Train Acc: 61.82%, Test Acc: 51.40%\n",
            "Epoch 146/150, Train Loss: 1.3663, Test Loss: 1.8753\n",
            "Epoch 147/150, Train Acc: 61.70%, Test Acc: 51.36%\n",
            "Epoch 147/150, Train Loss: 1.3646, Test Loss: 1.8758\n",
            "Epoch 148/150, Train Acc: 62.08%, Test Acc: 51.36%\n",
            "Epoch 148/150, Train Loss: 1.3630, Test Loss: 1.8757\n",
            "Epoch 149/150, Train Acc: 62.00%, Test Acc: 51.36%\n",
            "Epoch 149/150, Train Loss: 1.3574, Test Loss: 1.8758\n",
            "Checkpoint saved at epoch 150: ./checkpoint_epoch_150.pth\n"
          ]
        },
        {
          "output_type": "display_data",
          "data": {
            "text/plain": [
              "<IPython.core.display.Javascript object>"
            ],
            "application/javascript": [
              "\n",
              "    async function download(id, filename, size) {\n",
              "      if (!google.colab.kernel.accessAllowed) {\n",
              "        return;\n",
              "      }\n",
              "      const div = document.createElement('div');\n",
              "      const label = document.createElement('label');\n",
              "      label.textContent = `Downloading \"${filename}\": `;\n",
              "      div.appendChild(label);\n",
              "      const progress = document.createElement('progress');\n",
              "      progress.max = size;\n",
              "      div.appendChild(progress);\n",
              "      document.body.appendChild(div);\n",
              "\n",
              "      const buffers = [];\n",
              "      let downloaded = 0;\n",
              "\n",
              "      const channel = await google.colab.kernel.comms.open(id);\n",
              "      // Send a message to notify the kernel that we're ready.\n",
              "      channel.send({})\n",
              "\n",
              "      for await (const message of channel.messages) {\n",
              "        // Send a message to notify the kernel that we're ready.\n",
              "        channel.send({})\n",
              "        if (message.buffers) {\n",
              "          for (const buffer of message.buffers) {\n",
              "            buffers.push(buffer);\n",
              "            downloaded += buffer.byteLength;\n",
              "            progress.value = downloaded;\n",
              "          }\n",
              "        }\n",
              "      }\n",
              "      const blob = new Blob(buffers, {type: 'application/binary'});\n",
              "      const a = document.createElement('a');\n",
              "      a.href = window.URL.createObjectURL(blob);\n",
              "      a.download = filename;\n",
              "      div.appendChild(a);\n",
              "      a.click();\n",
              "      div.remove();\n",
              "    }\n",
              "  "
            ]
          },
          "metadata": {}
        },
        {
          "output_type": "display_data",
          "data": {
            "text/plain": [
              "<IPython.core.display.Javascript object>"
            ],
            "application/javascript": [
              "download(\"download_3b78c7e3-2aa4-4dc6-93d7-a3fb4b8c839a\", \"checkpoint_epoch_150.pth\", 9796762)"
            ]
          },
          "metadata": {}
        },
        {
          "output_type": "stream",
          "name": "stdout",
          "text": [
            "Epoch 150/150, Train Acc: 62.01%, Test Acc: 51.36%\n",
            "Epoch 150/150, Train Loss: 1.3577, Test Loss: 1.8758\n"
          ]
        },
        {
          "output_type": "display_data",
          "data": {
            "text/plain": [
              "<Figure size 600x400 with 1 Axes>"
            ],
            "image/png": "[encoded data removed]"
          },
          "metadata": {}
        },
        {
          "output_type": "display_data",
          "data": {
            "text/plain": [
              "<Figure size 600x400 with 1 Axes>"
            ],
            "image/png": "[encoded data removed]"
          },
          "metadata": {}
        },
        {
          "output_type": "display_data",
          "data": {
            "text/plain": [
              "<Figure size 600x400 with 1 Axes>"
            ],
            "image/png": "[encoded data removed]"
          },
          "metadata": {}
        },
        {
          "output_type": "display_data",
          "data": {
            "text/plain": [
              "<Figure size 600x400 with 1 Axes>"
            ],
            "image/png": "[encoded data removed]"
          },
          "metadata": {}
        }
      ],
      "source": [
        "import os\n",
        "import numpy as np\n",
        "import torch\n",
        "import torch.nn as nn\n",
        "import torch.optim as optim\n",
        "import torchvision\n",
        "import torchvision.transforms as transforms\n",
        "import matplotlib.pyplot as plt\n",
        "from torch.utils.data import random_split\n",
        "from google.colab import files\n",
        "\n",
        "# Training settings\n",
        "# betas, epochs and batch sized are fixed values\n",
        "epochs = 150\n",
        "batch_size = 64\n",
        "# weight decay and learning rate are adjustable\n",
        "weight_decay = 1e-1\n",
        "lr= 5e-4\n",
        "\n",
        "def compute_mean_std(dataset):\n",
        "    \"\"\"Compute the mean and std of CIFAR-100 dataset.\n",
        "\n",
        "    Args:\n",
        "        dataset: A dataset derived from `torch.utils.data.Dataset`,\n",
        "                 such as `cifar100_training_dataset` or `cifar100_test_dataset`.\n",
        "\n",
        "    Returns:\n",
        "        A tuple containing (mean, std) for the entire dataset.\n",
        "    \"\"\"\n",
        "\n",
        "    # Extract images and labels\n",
        "    data_r = np.stack([np.array(dataset[i][0])[:, :, 0] for i in range(len(dataset))])\n",
        "    data_g = np.stack([np.array(dataset[i][0])[:, :, 1] for i in range(len(dataset))])\n",
        "    data_b = np.stack([np.array(dataset[i][0])[:, :, 2] for i in range(len(dataset))])\n",
        "\n",
        "    # Compute mean and std\n",
        "    mean = np.mean(data_r), np.mean(data_g), np.mean(data_b)\n",
        "    std = np.std(data_r), np.std(data_g), np.std(data_b)\n",
        "\n",
        "    return mean, std\n",
        "\n",
        "\n",
        "# Define LeNet-5 architecture\n",
        "class LeNet5(nn.Module):\n",
        "    def __init__(self):\n",
        "        super(LeNet5, self).__init__()\n",
        "        self.conv1 = nn.Conv2d(3, 64, 5)\n",
        "        self.relu1 = nn.ReLU()\n",
        "        self.pool1 = nn.MaxPool2d(2, 2)\n",
        "        self.conv2 = nn.Conv2d(64, 64, 5)\n",
        "        self.relu2 = nn.ReLU()\n",
        "        self.pool2 = nn.MaxPool2d(2, 2)\n",
        "        self.fc1 = nn.Linear(64 * 5 * 5, 384)\n",
        "        self.relu3 = nn.ReLU()\n",
        "        self.fc2 = nn.Linear(384, 192)\n",
        "        self.relu4 = nn.ReLU()\n",
        "        self.fc3 = nn.Linear(192, 100)\n",
        "\n",
        "    def forward(self, x):\n",
        "        x = self.pool1(self.relu1(self.conv1(x)))\n",
        "        x = self.pool2(self.relu2(self.conv2(x)))\n",
        "        x = x.view(-1, 64 * 5 * 5)\n",
        "        x = self.relu3(self.fc1(x))\n",
        "        x = self.relu4(self.fc2(x))\n",
        "        x = self.fc3(x)\n",
        "        return x\n",
        "\n",
        "torch.manual_seed(42) # Set the seed for reproducibility\n",
        "torch.cuda.manual_seed_all(42) # Set the seed for reproducibility on GPU\n",
        "\n",
        "# use the same mean and std to add consistency to all datasets\n",
        "data = torchvision.datasets.CIFAR100(root='./data', train=True, download=True, transform=transforms.ToTensor())\n",
        "mean, std = compute_mean_std(data)\n",
        "\n",
        "# Load and split CIFAR-100 dataset\n",
        "train_transform = transforms.Compose([\n",
        "  transforms.RandomCrop(32, padding=4),\n",
        "  transforms.RandomHorizontalFlip(),\n",
        "  transforms.ToTensor(),\n",
        "  transforms.Normalize(mean, std)\n",
        "])\n",
        "\n",
        "\n",
        "test_transform = transforms.Compose([\n",
        "    transforms.ToTensor(),  # Convert to PyTorch tensor\n",
        "    transforms.Normalize(mean, std)\n",
        "])\n",
        "\n",
        "trainset = torchvision.datasets.CIFAR100(root='./data', train=True, download=True, transform=train_transform)\n",
        "trainloader = torch.utils.data.DataLoader(trainset, batch_size=batch_size, shuffle=True, num_workers=2)\n",
        "\n",
        "testset = torchvision.datasets.CIFAR100(root='./data', train=False, download=True, transform=test_transform)\n",
        "testloader = torch.utils.data.DataLoader(testset, batch_size=batch_size, shuffle=False, num_workers=2)\n",
        "\n",
        "# Device setup\n",
        "device = torch.device(\"cuda:0\" if torch.cuda.is_available() else \"cpu\")\n",
        "\n",
        "# Initialize model\n",
        "net_adamw = LeNet5().to(device)\n",
        "\n",
        "# Loss function\n",
        "criterion = nn.CrossEntropyLoss()\n",
        "\n",
        "# Optimizer and scheduler\n",
        "adamw_optimizer = optim.AdamW(net_adamw.parameters(), lr=lr, betas=(0.9, 0.999), weight_decay=weight_decay)\n",
        "scheduler_adamw = optim.lr_scheduler.CosineAnnealingLR(adamw_optimizer, T_max=150)\n",
        "'''\n",
        "# Load a checkpoint, if exists\n",
        "resume_training = True  # Put False if you want to start from scratch\n",
        "start_epoch = 0  # default starting epoch\n",
        "\n",
        "if resume_training and os.path.exists('checkpoint_epoch_30.pth'):\n",
        "    checkpoint = torch.load('checkpoint_epoch_30.pth', map_location=device)\n",
        "    net_adamw.load_state_dict(checkpoint['model_state_dict'])\n",
        "    adamw_optimizer.load_state_dict(checkpoint['optimizer_state_dict'])\n",
        "    start_epoch = checkpoint['epoch']\n",
        "    print(f\"Checkpoint caricato: riprendo da epoca {start_epoch}\")\n",
        "else:\n",
        "    print(\"Nessun checkpoint trovato, inizializzo da zero.\")\n",
        "'''\n",
        "\n",
        "# Training function\n",
        "def train_model(optimizer, scheduler, model, criterion, trainloader , testloader, device, epochs, save_checkpoint_interval=10):\n",
        "    train_losses, test_losses = [], []\n",
        "    train_accuracies, test_accuracies = [], []\n",
        "    for epoch in range(epochs):\n",
        "        model.train()\n",
        "        running_loss, correct_train, total_train = 0.0, 0, 0\n",
        "        for inputs, labels in trainloader:\n",
        "            inputs, labels = inputs.to(device), labels.to(device)\n",
        "            optimizer.zero_grad()\n",
        "            outputs = model(inputs)\n",
        "            loss = criterion(outputs, labels)\n",
        "            loss.backward()\n",
        "            optimizer.step()\n",
        "            running_loss += loss.item()\n",
        "            _, predicted = outputs.max(1)\n",
        "            total_train += labels.size(0)\n",
        "            correct_train += predicted.eq(labels).sum().item()\n",
        "        train_loss = running_loss / len(trainloader)\n",
        "        train_accuracy = 100. * correct_train / total_train\n",
        "        train_losses.append(train_loss)\n",
        "        train_accuracies.append(train_accuracy)\n",
        "\n",
        "        # Test\n",
        "        correct_test, total_test, test_loss = 0, 0, 0.0\n",
        "        with torch.no_grad():\n",
        "            for inputs, labels in testloader:\n",
        "                inputs, labels = inputs.to(device), labels.to(device)\n",
        "                outputs = model(inputs)\n",
        "                loss = criterion(outputs, labels)\n",
        "                test_loss += loss.item()\n",
        "                _, predicted = outputs.max(1)\n",
        "                total_test += labels.size(0)\n",
        "                correct_test += predicted.eq(labels).sum().item()\n",
        "        test_loss /= len(testloader)\n",
        "        test_losses.append(test_loss)\n",
        "        test_accuracy = 100. * correct_test / total_test\n",
        "        test_accuracies.append(test_accuracy)\n",
        "\n",
        "        scheduler.step()\n",
        "\n",
        "        # Checkpointing\n",
        "        if (epoch + 1) % save_checkpoint_interval == 0:\n",
        "            checkpoint_filename = f'checkpoint_epoch_{epoch + 1}.pth'\n",
        "            checkpoint = {\n",
        "                'epoch': epoch + 1,\n",
        "                'model_state_dict': model.state_dict(),\n",
        "                'optimizer_state_dict': optimizer.state_dict(),\n",
        "                'loss': loss.item(),\n",
        "            }\n",
        "            checkpoint_path = os.path.join('./', checkpoint_filename)\n",
        "            torch.save(checkpoint, checkpoint_path)\n",
        "            print(f'Checkpoint saved at epoch {epoch + 1}: {checkpoint_path}')\n",
        "\n",
        "            #Download the checkpoint\n",
        "            files.download(checkpoint_filename)\n",
        "\n",
        "        print(f'Epoch {epoch+1}/{epochs}, Train Acc: {train_accuracy:.2f}%, Test Acc: {test_accuracy:.2f}%')\n",
        "        print(f'Epoch {epoch+1}/{epochs}, Train Loss: {train_loss:.4f}, Test Loss: {test_loss:.4f}')\n",
        "\n",
        "    return train_losses, test_losses, train_accuracies, test_accuracies\n",
        "\n",
        "# Train model\n",
        "print(\"--- Train with AdamW ---\")\n",
        "adamw_train_loss, adamw_test_loss, adamw_train_acc, adamw_test_acc= train_model(adamw_optimizer, scheduler_adamw, net_adamw, criterion, trainloader, testloader, device, epochs)\n",
        "\n",
        "# Save model\n",
        "torch.save(net_adamw.state_dict(), 'net_adamw.pth')\n",
        "\n",
        "# Plot results\n",
        "# Plot Training Loss\n",
        "plt.figure(figsize=(6, 4))\n",
        "plt.plot(adamw_train_loss, label='Train Loss')\n",
        "plt.title('Training Loss')\n",
        "plt.xlabel('Epoch')\n",
        "plt.ylabel('Loss')\n",
        "plt.legend()\n",
        "plt.tight_layout()\n",
        "plt.savefig('train_loss.png')\n",
        "plt.show()\n",
        "\n",
        "# Plot Training Accuracy\n",
        "plt.figure(figsize=(6, 4))\n",
        "plt.plot(adamw_train_acc, label='Train Accuracy')\n",
        "plt.title('Training Accuracy')\n",
        "plt.xlabel('Epoch')\n",
        "plt.ylabel('Accuracy (%)')\n",
        "plt.legend()\n",
        "plt.tight_layout()\n",
        "plt.savefig('train_accuracy.png')\n",
        "plt.show()\n",
        "\n",
        "# Plot Test Loss\n",
        "plt.figure(figsize=(6, 4))\n",
        "plt.plot(adamw_test_loss, label='Test Loss')\n",
        "plt.title('Test Loss')\n",
        "plt.xlabel('Epoch')\n",
        "plt.ylabel('Loss')\n",
        "plt.legend()\n",
        "plt.tight_layout()\n",
        "plt.savefig('test_loss.png')\n",
        "plt.show()\n",
        "\n",
        "# Plot Test Accuracy\n",
        "plt.figure(figsize=(6, 4))\n",
        "plt.plot(adamw_test_acc, label='Test Accuracy')\n",
        "plt.title('Test Accuracy')\n",
        "plt.xlabel('Epoch')\n",
        "plt.ylabel('Accuracy (%)')\n",
        "plt.legend()\n",
        "plt.tight_layout()\n",
        "plt.savefig('test_accuracy.png')\n",
        "plt.show()\n",
        "\n",
        "\n",
        "\n",
        "\n",
        "\n"
      ]
    }
  ],
  "metadata": {
    "accelerator": "GPU",
    "colab": {
      "gpuType": "L4",
      "machine_shape": "hm",
      "provenance": []
    },
    "kernelspec": {
      "display_name": "Python 3",
      "name": "python3"
    },
    "language_info": {
      "name": "python"
    }
  },
  "nbformat": 4,
  "nbformat_minor": 0
}