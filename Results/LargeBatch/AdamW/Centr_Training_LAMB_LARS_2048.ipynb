{
  "cells": [
    {
      "cell_type": "code",
      "execution_count": 1,
      "metadata": {
        "colab": {
          "base_uri": "https://localhost:8080/"
        },
        "id": "LtOx0ESVnO0u",
        "outputId": "a7102fbe-17e7-4f01-8f98-ef5c09c650ce"
      },
      "outputs": [
        {
          "output_type": "stream",
          "name": "stdout",
          "text": [
            "Writing large_batch_training.py\n"
          ]
        }
      ],
      "source": [
        "%%writefile large_batch_training.py\n",
        "\n",
        "import os\n",
        "import numpy as np\n",
        "import torch\n",
        "import torch.nn as nn\n",
        "import torch.optim as optim\n",
        "import torchvision\n",
        "import torchvision.transforms as transforms\n",
        "import matplotlib.pyplot as plt\n",
        "import argparse\n",
        "from torch.utils.data import random_split\n",
        "from google.colab import files\n",
        "\n",
        "def compute_mean_std(dataset):\n",
        "    \"\"\"Compute the mean and std of CIFAR-100 dataset.\n",
        "\n",
        "    Args:\n",
        "        dataset: A dataset derived from `torch.utils.data.Dataset`,\n",
        "                 such as `cifar100_training_dataset` or `cifar100_test_dataset`.\n",
        "\n",
        "    Returns:\n",
        "        A tuple containing (mean, std) for the entire dataset.\n",
        "    \"\"\"\n",
        "\n",
        "    # Extract images and labels\n",
        "    data_r = np.stack([np.array(dataset[i][0])[:, :, 0] for i in range(len(dataset))])\n",
        "    data_g = np.stack([np.array(dataset[i][0])[:, :, 1] for i in range(len(dataset))])\n",
        "    data_b = np.stack([np.array(dataset[i][0])[:, :, 2] for i in range(len(dataset))])\n",
        "\n",
        "    # Compute mean and std\n",
        "    mean = np.mean(data_r), np.mean(data_g), np.mean(data_b)\n",
        "    std = np.std(data_r), np.std(data_g), np.std(data_b)\n",
        "\n",
        "    return mean, std\n",
        "\n",
        "# Define LeNet-5 architecture\n",
        "class LeNet5(nn.Module):\n",
        "    def __init__(self):\n",
        "        super(LeNet5, self).__init__()\n",
        "        self.conv1 = nn.Conv2d(3, 64, 5)\n",
        "        self.relu1 = nn.ReLU()\n",
        "        self.pool1 = nn.MaxPool2d(2, 2)\n",
        "        self.conv2 = nn.Conv2d(64, 64, 5)\n",
        "        self.relu2 = nn.ReLU()\n",
        "        self.pool2 = nn.MaxPool2d(2, 2)\n",
        "        self.fc1 = nn.Linear(64 * 5 * 5, 384)\n",
        "        self.relu3 = nn.ReLU()\n",
        "        self.fc2 = nn.Linear(384, 192)\n",
        "        self.relu4 = nn.ReLU()\n",
        "        self.fc3 = nn.Linear(192, 100)\n",
        "\n",
        "    def forward(self, x):\n",
        "        x = self.pool1(self.relu1(self.conv1(x)))\n",
        "        x = self.pool2(self.relu2(self.conv2(x)))\n",
        "        x = x.view(-1, 64 * 5 * 5)\n",
        "        x = self.relu3(self.fc1(x))\n",
        "        x = self.relu4(self.fc2(x))\n",
        "        x = self.fc3(x)\n",
        "        return x\n",
        "\n",
        "# Device setup\n",
        "device = torch.device(\"cuda:0\" if torch.cuda.is_available() else \"cpu\")\n",
        "\n",
        "# Initialize model\n",
        "net = LeNet5().to(device)\n",
        "\n",
        "# Optimizer Subclasses\n",
        "class LARS(optim.Optimizer):\n",
        "    def __init__(self, params, lr, momentum=0.9, weight_decay=0, trust_coefficient=0.001):\n",
        "        # Initialize the optimizer with the learning rate, momentum, weight decay, and trust coefficient\n",
        "        defaults = dict(lr=lr, momentum=momentum, weight_decay=weight_decay, trust_coefficient=trust_coefficient)\n",
        "        super(LARS, self).__init__(params, defaults)\n",
        "\n",
        "    def step(self, closure=None):\n",
        "        loss = None\n",
        "        if closure is not None:\n",
        "            # If a closure is provided, evaluate it (commonly used for re-evaluating loss)\n",
        "            loss = closure()\n",
        "        for group in self.param_groups:\n",
        "            for p in group['params']:\n",
        "                if p.grad is None:\n",
        "                   # Skip parameters that have no gradient\n",
        "                    continue\n",
        "                grad = p.grad.data # Get the gradient of the parameter\n",
        "                # Retrieve or initialize the optimizer's internal state\n",
        "                state = self.state[p]\n",
        "                if len(state) == 0:\n",
        "                    state['momentum_buffer'] = torch.clone(grad).detach()\n",
        "                # Apply weight decay directly to the gradient\n",
        "                if group['weight_decay'] != 0:\n",
        "                    grad.add_(p.data, alpha=group['weight_decay'])\n",
        "                # Compute the norms of the parameter and its gradient\n",
        "                param_norm = torch.norm(p.data)\n",
        "                grad_norm = torch.norm(grad)\n",
        "                # Compute local learning rate based on the trust coefficient and norms\n",
        "                if param_norm > 0 and grad_norm > 0:\n",
        "                    local_lr = group['trust_coefficient'] * param_norm / (grad_norm + 1e-8)\n",
        "                    grad = grad.mul(local_lr) # Scale the gradient with the local learning rate\n",
        "                # Update the momentum buffer\n",
        "                momentum_buffer = state['momentum_buffer']\n",
        "                momentum_buffer.mul_(group['momentum']).add_(grad) #Momentum update\n",
        "                state['momentum_buffer'] = momentum_buffer\n",
        "                # Update the parameter\n",
        "                p.data.add_(momentum_buffer, alpha=-group['lr']) # Gradient descent step with learning rate\n",
        "        return loss\n",
        "\n",
        "class LAMB(optim.Optimizer):\n",
        "    def __init__(self, params, lr, weight_decay=0, betas=(0.9, 0.999), eps=1e-8):\n",
        "        # Initialize the optimizer with learning rate, weight decay, betas for moment updates, and epsilon for stability\n",
        "        defaults = dict(lr=lr, weight_decay=weight_decay, betas=betas, eps=eps)\n",
        "        super(LAMB, self).__init__(params, defaults)\n",
        "\n",
        "    def step(self, closure=None):\n",
        "        loss = None\n",
        "        if closure is not None:\n",
        "            # If a closure is provided, evaluate it\n",
        "            loss = closure()\n",
        "        for group in self.param_groups:\n",
        "            for p in group['params']:\n",
        "                if p.grad is None:\n",
        "                    # Skip parameters that have no gradient\n",
        "                    continue\n",
        "                grad = p.grad.data # Get the gradient of the parameter\n",
        "                # Retrieve or initialize the optimizer's internal state\n",
        "                state = self.state[p]\n",
        "                # Initialize state\n",
        "                if len(state) == 0:\n",
        "                    # Initialize the state (step counter, first moment, second moment)\n",
        "                    state['step'] = 0\n",
        "                    state['exp_avg'] = torch.zeros_like(p.data) # First moment (mean of gradients)\n",
        "                    state['exp_avg_sq'] = torch.zeros_like(p.data) # Second moment (mean of squared gradients)\n",
        "                exp_avg = state['exp_avg']\n",
        "                exp_avg_sq = state['exp_avg_sq']\n",
        "                beta1, beta2 = group['betas']  # Coefficients for moment updates\n",
        "                state['step'] += 1 # Increment step count\n",
        "                step = state['step']\n",
        "                # Decay the first and second moment running average coefficients\n",
        "                # Update first and second moments\n",
        "                exp_avg.mul_(beta1).add_(grad, alpha=1 - beta1) # Exponential moving average of gradients\n",
        "                exp_avg_sq.mul_(beta2).addcmul_(grad, grad, value=1 - beta2) # Exponential moving average of squared gradients\n",
        "                # Correct bias in the first and second moments\n",
        "                bias_correction1 = 1 - beta1 ** step\n",
        "                bias_correction2 = 1 - beta2 ** step\n",
        "                corrected_exp_avg = exp_avg / bias_correction1\n",
        "                corrected_exp_avg_sq = exp_avg_sq / bias_correction2\n",
        "                # Compute the denominator for scaling the update\n",
        "                denom = corrected_exp_avg_sq.sqrt().add_(group['eps']) # Stability epsilon\n",
        "                # Compute the step update\n",
        "                update = corrected_exp_avg / denom\n",
        "                # Apply weight decay directly to the parameters\n",
        "                if group['weight_decay'] != 0:\n",
        "                    update.add_(p.data, alpha=group['weight_decay'])\n",
        "                # Compute the trust ratio (norm of parameters vs norm of update)\n",
        "                param_norm = torch.norm(p.data)\n",
        "                update_norm = torch.norm(update)\n",
        "                trust_ratio = 1.0  # Default trust ratio\n",
        "                if param_norm > 0 and update_norm > 0:\n",
        "                    trust_ratio = param_norm / update_norm\n",
        "                # Update the parameters\n",
        "                p.data.add_(update, alpha=-group['lr'] * trust_ratio)\n",
        "        return loss\n",
        "\n",
        "class SqrtLRScheduler(torch.optim.lr_scheduler._LRScheduler):\n",
        "    def __init__(self, optimizer, base_lr, batch_size, warmup_epochs, total_epochs, reference_batch_size, verbose=False):\n",
        "        \"\"\"\n",
        "        Args:\n",
        "            optimizer: PyTorch optimizer (e.g., Adam, LAMB, LARS).\n",
        "            base_lr: Base learning rate for the reference batch size.\n",
        "            batch_size: Current batch size.\n",
        "            warmup_epochs: Number of warmup epochs.\n",
        "            total_epochs: Total number of epochs.\n",
        "            reference_batch_size: Batch size for which the base_lr is defined.\n",
        "            verbose: Whether to print LR updates.\n",
        "        \"\"\"\n",
        "        self.base_lr = base_lr\n",
        "        self.batch_size = batch_size\n",
        "        self.scaled_lr = base_lr * (batch_size / reference_batch_size) ** 0.5\n",
        "        self.warmup_epochs = warmup_epochs\n",
        "        self.total_epochs = total_epochs\n",
        "        self.verbose = verbose\n",
        "        super(SqrtLRScheduler, self).__init__(optimizer)\n",
        "\n",
        "    def get_lr(self):\n",
        "        epoch = self.last_epoch\n",
        "        if epoch < self.warmup_epochs:\n",
        "            # Linear warmup scaling\n",
        "            warmup_factor = (epoch + 1) / self.warmup_epochs\n",
        "            return [warmup_factor * self.scaled_lr for _ in self.optimizer.param_groups]\n",
        "        else:\n",
        "            # polynomially decaying learning rate of ηt = η0×(1−t/T)\n",
        "            if epoch == self.warmup_epochs:\n",
        "                print(f\"Warmup phase completed at epoch {epoch}. Switching to constant learning rate.\")\n",
        "            return [self.scaled_lr * ( 1 - ( (epoch - self.warmup_epochs) / (self.total_epochs - self.warmup_epochs))) for _ in self.optimizer.param_groups]\n",
        "\n",
        "# Command-line arguments\n",
        "parser = argparse.ArgumentParser(description='Train with Large-Batch Optimizers')\n",
        "parser.add_argument('--optimizer', type=str, default='SGDM', choices=['SGDM', 'AdamW', 'LARS', 'LAMB'],\n",
        "                    help='Choose optimizer')\n",
        "parser.add_argument('--batch-size', type=int, default=128, help='Batch size')\n",
        "parser.add_argument('--momentum', type=float, default=0.9, help='Momentum for SGDM and LARS')\n",
        "parser.add_argument('--weight-decay', type=float, default=1e-5, help='Weight decay')\n",
        "parser.add_argument('--b1', type=float, default=0.9, help='Beta1 for AdamW')\n",
        "parser.add_argument('--b2', type=float, default=0.999, help='Beta2 for AdamW')\n",
        "parser.add_argument('--trust-coefficient', type=float, default=0.001, help='Trust coefficient for LARS')\n",
        "parser.add_argument('--epochs', type=int, default=150, help='Number of epochs')\n",
        "parser.add_argument('--warmup-epochs', type=int, default=5, help='Number of epochs')\n",
        "args = parser.parse_args()\n",
        "\n",
        "\n",
        "torch.manual_seed(42) # Set the seed for reproducibility\n",
        "torch.cuda.manual_seed_all(42) # Set the seed for reproducibility on GPU\n",
        "\n",
        "# use the same mean and std to add consistency to all datasets\n",
        "data = torchvision.datasets.CIFAR100(root='./data', train=True, download=True, transform=transforms.ToTensor())\n",
        "mean, std = compute_mean_std(data)\n",
        "\n",
        "# Load and split CIFAR-100 dataset\n",
        "train_transform = transforms.Compose([\n",
        "  transforms.RandomHorizontalFlip(),\n",
        "  # transforms.RandomRotation(15),\n",
        "  transforms.RandomCrop(32, padding=4),\n",
        "  # transforms.RandomAffine(degrees=0, translate=(0.1, 0.1)),\n",
        "  transforms.RandomPerspective(distortion_scale=0.2, p=0.5),\n",
        "  transforms.ColorJitter(brightness=0.3, contrast=0.3, saturation=0.3, hue=0.2),\n",
        "  transforms.ToTensor(),\n",
        "  transforms.Normalize(mean, std)\n",
        "])\n",
        "\n",
        "val_transform = transforms.Compose([\n",
        "    transforms.ToTensor(), # Convert into tensor\n",
        "    transforms.Normalize(mean, std)  # Normalization\n",
        "])\n",
        "\n",
        "test_transform = transforms.Compose([\n",
        "    transforms.CenterCrop(24),\n",
        "    transforms.Pad(4),\n",
        "    transforms.ToTensor(),  # Convert to PyTorch tensor\n",
        "    transforms.Normalize(mean, std)\n",
        "])\n",
        "\n",
        "trainset = torchvision.datasets.CIFAR100(root='./data', train=True, download=True, transform=train_transform)\n",
        "valset = torchvision.datasets.CIFAR100(root='./data', train=True, download=True, transform=val_transform)\n",
        "indices = torch.randperm(len(trainset))\n",
        "val_size = int(0.2*len(trainset))\n",
        "trainset = torch.utils.data.Subset(trainset, indices[:-val_size])\n",
        "valset = torch.utils.data.Subset(valset, indices[-val_size:])\n",
        "\n",
        "trainloader = torch.utils.data.DataLoader(trainset, batch_size=args.batch_size, shuffle=True, num_workers=2)\n",
        "valloader = torch.utils.data.DataLoader(valset, batch_size=args.batch_size, shuffle=False, num_workers=2)\n",
        "\n",
        "testset = torchvision.datasets.CIFAR100(root='./data', train=False, download=True, transform=test_transform)\n",
        "testloader = torch.utils.data.DataLoader(testset, batch_size=args.batch_size, shuffle=False, num_workers=2)\n",
        "\n",
        "\n",
        "# Fixed parameter from paper [18] to calculate the square root LR scaling value\n",
        "# base_lr = 5 / (2**3 * 10**3)\n",
        "# reference_batch_size = 512\n",
        "#scaled_lr = base_lr * (args.batch_size / reference_batch_size) ** 0.5\n",
        "\n",
        "# Mapping optimizers\n",
        "if args.optimizer == 'SGDM':\n",
        "    base_lr = 1e-2\n",
        "    reference_batch_size = 64\n",
        "    scaled_lr = base_lr * (args.batch_size / reference_batch_size) ** 0.5\n",
        "    optimizer = optim.SGD(net.parameters(), lr=scaled_lr, momentum=args.momentum, weight_decay=args.weight_decay)\n",
        "elif args.optimizer == 'AdamW':\n",
        "    base_lr = 5e-4\n",
        "    reference_batch_size = 64\n",
        "    scaled_lr = base_lr * (args.batch_size / reference_batch_size) ** 0.5\n",
        "    optimizer = optim.AdamW(net.parameters(), lr=scaled_lr, betas=(args.b1, args.b2), weight_decay=args.weight_decay)\n",
        "elif args.optimizer == 'LARS':\n",
        "    base_lr = 1e-2\n",
        "    reference_batch_size = 64\n",
        "    scaled_lr = base_lr * (args.batch_size / reference_batch_size) ** 0.5\n",
        "    optimizer = LARS(net.parameters(), lr=scaled_lr, momentum=args.momentum, weight_decay=args.weight_decay, trust_coefficient=args.trust_coefficient)\n",
        "elif args.optimizer == 'LAMB':\n",
        "    base_lr = 5e-4\n",
        "    reference_batch_size = 64\n",
        "    scaled_lr = base_lr * (args.batch_size / reference_batch_size) ** 0.5\n",
        "    optimizer = LAMB(net.parameters(), lr=scaled_lr, weight_decay=args.weight_decay)\n",
        "\n",
        "criterion = nn.CrossEntropyLoss()\n",
        "\n",
        "# scheduler should be e square root LR scaling rule and linear-epoch warmup scheduling to automatically adjust learning rate\n",
        "scheduler = SqrtLRScheduler(\n",
        "    optimizer = optimizer,\n",
        "    base_lr = base_lr,\n",
        "    batch_size = args.batch_size,\n",
        "    warmup_epochs = args.warmup_epochs,\n",
        "    total_epochs = args.epochs,\n",
        "    reference_batch_size = reference_batch_size,\n",
        "    verbose = True)\n",
        "\n",
        "# Training Function\n",
        "def train_model(optimizer, scheduler, model, criterion, trainloader, valloader , testloader, device, epochs, save_checkpoint_interval=10):\n",
        "    train_losses, val_losses, test_losses = [], [], []\n",
        "    train_accuracies, val_accuracies, test_accuracies = [], [], []\n",
        "    for epoch in range(epochs):\n",
        "        model.train()\n",
        "        running_loss, correct_train, total_train = 0.0, 0, 0\n",
        "        for inputs, labels in trainloader:\n",
        "            inputs, labels = inputs.to(device), labels.to(device)\n",
        "            optimizer.zero_grad()\n",
        "            outputs = model(inputs)\n",
        "            loss = criterion(outputs, labels)\n",
        "            loss.backward()\n",
        "            optimizer.step()\n",
        "            running_loss += loss.item()\n",
        "            _, predicted = outputs.max(1)\n",
        "            total_train += labels.size(0)\n",
        "            correct_train += predicted.eq(labels).sum().item()\n",
        "        train_loss = running_loss / len(trainloader)\n",
        "        train_accuracy = 100. * correct_train / total_train\n",
        "        train_losses.append(train_loss)\n",
        "        train_accuracies.append(train_accuracy)\n",
        "\n",
        "        # Validation\n",
        "        model.eval()\n",
        "        correct_val, total_val, val_loss = 0, 0, 0.0\n",
        "        with torch.no_grad():\n",
        "            for inputs, labels in valloader:\n",
        "                inputs, labels = inputs.to(device), labels.to(device)\n",
        "                outputs = model(inputs)\n",
        "                loss = criterion(outputs, labels)\n",
        "                val_loss += loss.item()\n",
        "                _, predicted = outputs.max(1)\n",
        "                total_val += labels.size(0)\n",
        "                correct_val += predicted.eq(labels).sum().item()\n",
        "        val_loss /= len(valloader)\n",
        "        val_losses.append(val_loss)\n",
        "        val_accuracy = 100. * correct_val / total_val\n",
        "        val_accuracies.append(val_accuracy)\n",
        "\n",
        "        '''\n",
        "        # Early Stopping\n",
        "        if val_loss < best_val_loss:\n",
        "          best_val_loss = val_loss\n",
        "          epochs_no_improve = 0\n",
        "        else:\n",
        "          epochs_no_improve += 1\n",
        "\n",
        "        if epochs_no_improve == patience:\n",
        "          print(\"Early stopping!\")\n",
        "          break\n",
        "        '''\n",
        "\n",
        "        # Test\n",
        "        correct_test, total_test, test_loss = 0, 0, 0.0\n",
        "        with torch.no_grad():\n",
        "            for inputs, labels in testloader:\n",
        "                inputs, labels = inputs.to(device), labels.to(device)\n",
        "                outputs = model(inputs)\n",
        "                loss = criterion(outputs, labels)\n",
        "                test_loss += loss.item()\n",
        "                _, predicted = outputs.max(1)\n",
        "                total_test += labels.size(0)\n",
        "                correct_test += predicted.eq(labels).sum().item()\n",
        "        test_loss /= len(testloader)\n",
        "        test_losses.append(test_loss)\n",
        "        test_accuracy = 100. * correct_test / total_test\n",
        "        test_accuracies.append(test_accuracy)\n",
        "\n",
        "        scheduler.step()\n",
        "\n",
        "        # Checkpointing\n",
        "        if (epoch + 1) % save_checkpoint_interval == 0:\n",
        "            checkpoint_filename = f'checkpoint_epoch_{epoch + 1}.pth'\n",
        "            checkpoint = {\n",
        "                'epoch': epoch + 1,\n",
        "                'model_state_dict': model.state_dict(),\n",
        "                'optimizer_state_dict': optimizer.state_dict(),\n",
        "                'scheduler_state_dict': scheduler.state_dict(),\n",
        "                'loss': loss.item(),\n",
        "            }\n",
        "            checkpoint_path = os.path.join('./', checkpoint_filename)\n",
        "            torch.save(checkpoint, checkpoint_path)\n",
        "            print(f'Checkpoint saved at epoch {epoch + 1}: {checkpoint_path}')\n",
        "\n",
        "            # Download the checkpoint\n",
        "            files.download(checkpoint_filename)\n",
        "\n",
        "        print(f'Epoch {epoch+1}/{epochs}, Train Acc: {train_accuracy:.2f}%, Val Acc: {val_accuracy:.2f}%, Test Acc: {test_accuracy:.2f}%')\n",
        "        print(f'Epoch {epoch+1}/{epochs}, Train Loss: {train_loss:.4f}, Val Loss: {val_loss:.4f}, Test Loss: {test_loss:.4f}')\n",
        "\n",
        "    return train_losses, val_losses, test_losses, train_accuracies, val_accuracies, test_accuracies\n",
        "\n",
        "# Train the model\n",
        "print(f\"--- Train with {args.optimizer} ---\")\n",
        "train_loss, val_loss, test_loss, train_acc, val_acc, test_acc = train_model(optimizer, scheduler, net, criterion, trainloader, valloader, testloader, device, args.epochs)\n",
        "\n",
        "# Save model\n",
        "torch.save(net.state_dict(), f'net_{args.optimizer}.pth')\n",
        "\n",
        "# Plot results\n",
        "# Plot Training Loss\n",
        "plt.figure(figsize=(6, 4))\n",
        "plt.plot(train_loss, label='Train Loss')\n",
        "plt.title('Training Loss')\n",
        "plt.xlabel('Epoch')\n",
        "plt.ylabel('Loss')\n",
        "plt.legend()\n",
        "plt.tight_layout()\n",
        "plt.savefig('train_loss.png')\n",
        "plt.show()\n",
        "\n",
        "# Plot Training Accuracy\n",
        "plt.figure(figsize=(6, 4))\n",
        "plt.plot(train_acc, label='Train Accuracy')\n",
        "plt.title('Training Accuracy')\n",
        "plt.xlabel('Epoch')\n",
        "plt.ylabel('Accuracy (%)')\n",
        "plt.legend()\n",
        "plt.tight_layout()\n",
        "plt.savefig('train_accuracy.png')\n",
        "plt.show()\n",
        "\n",
        "# Plot Validation Loss\n",
        "plt.figure(figsize=(6, 4))\n",
        "plt.plot(val_loss, label='Validation Loss')\n",
        "plt.title('Validation Loss')\n",
        "plt.xlabel('Epoch')\n",
        "plt.ylabel('Loss')\n",
        "plt.legend()\n",
        "plt.tight_layout()\n",
        "plt.savefig('val_loss.png')\n",
        "plt.show()\n",
        "\n",
        "# Plot Validation Accuracy\n",
        "plt.figure(figsize=(6, 4))\n",
        "plt.plot(val_acc, label='Validation Accuracy')\n",
        "plt.title('Validation Accuracy')\n",
        "plt.xlabel('Epoch')\n",
        "plt.ylabel('Accuracy (%)')\n",
        "plt.legend()\n",
        "plt.tight_layout()\n",
        "plt.savefig('val_accuracy.png')\n",
        "plt.show()\n",
        "\n",
        "# Plot Test Loss\n",
        "plt.figure(figsize=(6, 4))\n",
        "plt.plot(test_loss, label='Test Loss')\n",
        "plt.title('Test Loss')\n",
        "plt.xlabel('Epoch')\n",
        "plt.ylabel('Loss')\n",
        "plt.legend()\n",
        "plt.tight_layout()\n",
        "plt.savefig('test_loss.png')\n",
        "plt.show()\n",
        "\n",
        "# Plot Test Accuracy\n",
        "plt.figure(figsize=(6, 4))\n",
        "plt.plot(test_acc, label='Test Accuracy')\n",
        "plt.title('Test Accuracy')\n",
        "plt.xlabel('Epoch')\n",
        "plt.ylabel('Accuracy (%)')\n",
        "plt.legend()\n",
        "plt.tight_layout()\n",
        "plt.savefig('test_accuracy.png')\n",
        "plt.show()\n"
      ]
    },
    {
      "cell_type": "code",
      "execution_count": null,
      "metadata": {
        "colab": {
          "base_uri": "https://localhost:8080/",
          "height": 460
        },
        "id": "_hEcpkQqYJmP",
        "outputId": "054cca2f-8701-4830-ae1c-4f1fc306c8c1"
      },
      "outputs": [
        {
          "output_type": "stream",
          "name": "stdout",
          "text": [
            "Files already downloaded and verified\n",
            "Files already downloaded and verified\n",
            "Files already downloaded and verified\n",
            "Files already downloaded and verified\n",
            "--- Train with SGDM ---\n"
          ]
        },
        {
          "output_type": "error",
          "ename": "KeyboardInterrupt",
          "evalue": "",
          "traceback": [
            "\u001b[0;31m---------------------------------------------------------------------------\u001b[0m",
            "\u001b[0;31mKeyboardInterrupt\u001b[0m                         Traceback (most recent call last)",
            "\u001b[0;32m/content/large_batch_training.py\u001b[0m in \u001b[0;36m<module>\u001b[0;34m\u001b[0m\n\u001b[1;32m    385\u001b[0m \u001b[0;31m# Train the model\u001b[0m\u001b[0;34m\u001b[0m\u001b[0;34m\u001b[0m\u001b[0m\n\u001b[1;32m    386\u001b[0m \u001b[0mprint\u001b[0m\u001b[0;34m(\u001b[0m\u001b[0;34mf\"--- Train with {args.optimizer} ---\"\u001b[0m\u001b[0;34m)\u001b[0m\u001b[0;34m\u001b[0m\u001b[0;34m\u001b[0m\u001b[0m\n\u001b[0;32m--> 387\u001b[0;31m \u001b[0mtrain_loss\u001b[0m\u001b[0;34m,\u001b[0m \u001b[0mval_loss\u001b[0m\u001b[0;34m,\u001b[0m \u001b[0mtest_loss\u001b[0m\u001b[0;34m,\u001b[0m \u001b[0mtrain_acc\u001b[0m\u001b[0;34m,\u001b[0m \u001b[0mval_acc\u001b[0m\u001b[0;34m,\u001b[0m \u001b[0mtest_acc\u001b[0m \u001b[0;34m=\u001b[0m \u001b[0mtrain_model\u001b[0m\u001b[0;34m(\u001b[0m\u001b[0moptimizer\u001b[0m\u001b[0;34m,\u001b[0m \u001b[0mscheduler\u001b[0m\u001b[0;34m,\u001b[0m \u001b[0mnet\u001b[0m\u001b[0;34m,\u001b[0m \u001b[0mcriterion\u001b[0m\u001b[0;34m,\u001b[0m \u001b[0mtrainloader\u001b[0m\u001b[0;34m,\u001b[0m \u001b[0mvalloader\u001b[0m\u001b[0;34m,\u001b[0m \u001b[0mtestloader\u001b[0m\u001b[0;34m,\u001b[0m \u001b[0mdevice\u001b[0m\u001b[0;34m,\u001b[0m \u001b[0margs\u001b[0m\u001b[0;34m.\u001b[0m\u001b[0mepochs\u001b[0m\u001b[0;34m)\u001b[0m\u001b[0;34m\u001b[0m\u001b[0;34m\u001b[0m\u001b[0m\n\u001b[0m\u001b[1;32m    388\u001b[0m \u001b[0;34m\u001b[0m\u001b[0m\n\u001b[1;32m    389\u001b[0m \u001b[0;31m# Save model\u001b[0m\u001b[0;34m\u001b[0m\u001b[0;34m\u001b[0m\u001b[0m\n",
            "\u001b[0;32m/content/large_batch_training.py\u001b[0m in \u001b[0;36mtrain_model\u001b[0;34m(optimizer, scheduler, model, criterion, trainloader, valloader, testloader, device, epochs, save_checkpoint_interval)\u001b[0m\n\u001b[1;32m    297\u001b[0m         \u001b[0mmodel\u001b[0m\u001b[0;34m.\u001b[0m\u001b[0mtrain\u001b[0m\u001b[0;34m(\u001b[0m\u001b[0;34m)\u001b[0m\u001b[0;34m\u001b[0m\u001b[0;34m\u001b[0m\u001b[0m\n\u001b[1;32m    298\u001b[0m         \u001b[0mrunning_loss\u001b[0m\u001b[0;34m,\u001b[0m \u001b[0mcorrect_train\u001b[0m\u001b[0;34m,\u001b[0m \u001b[0mtotal_train\u001b[0m \u001b[0;34m=\u001b[0m \u001b[0;36m0.0\u001b[0m\u001b[0;34m,\u001b[0m \u001b[0;36m0\u001b[0m\u001b[0;34m,\u001b[0m \u001b[0;36m0\u001b[0m\u001b[0;34m\u001b[0m\u001b[0;34m\u001b[0m\u001b[0m\n\u001b[0;32m--> 299\u001b[0;31m         \u001b[0;32mfor\u001b[0m \u001b[0minputs\u001b[0m\u001b[0;34m,\u001b[0m \u001b[0mlabels\u001b[0m \u001b[0;32min\u001b[0m \u001b[0mtrainloader\u001b[0m\u001b[0;34m:\u001b[0m\u001b[0;34m\u001b[0m\u001b[0;34m\u001b[0m\u001b[0m\n\u001b[0m\u001b[1;32m    300\u001b[0m             \u001b[0minputs\u001b[0m\u001b[0;34m,\u001b[0m \u001b[0mlabels\u001b[0m \u001b[0;34m=\u001b[0m \u001b[0minputs\u001b[0m\u001b[0;34m.\u001b[0m\u001b[0mto\u001b[0m\u001b[0;34m(\u001b[0m\u001b[0mdevice\u001b[0m\u001b[0;34m)\u001b[0m\u001b[0;34m,\u001b[0m \u001b[0mlabels\u001b[0m\u001b[0;34m.\u001b[0m\u001b[0mto\u001b[0m\u001b[0;34m(\u001b[0m\u001b[0mdevice\u001b[0m\u001b[0;34m)\u001b[0m\u001b[0;34m\u001b[0m\u001b[0;34m\u001b[0m\u001b[0m\n\u001b[1;32m    301\u001b[0m             \u001b[0moptimizer\u001b[0m\u001b[0;34m.\u001b[0m\u001b[0mzero_grad\u001b[0m\u001b[0;34m(\u001b[0m\u001b[0;34m)\u001b[0m\u001b[0;34m\u001b[0m\u001b[0;34m\u001b[0m\u001b[0m\n",
            "\u001b[0;32m/usr/local/lib/python3.10/dist-packages/torch/utils/data/dataloader.py\u001b[0m in \u001b[0;36m__next__\u001b[0;34m(self)\u001b[0m\n\u001b[1;32m    699\u001b[0m                 \u001b[0;31m# TODO(https://github.com/pytorch/pytorch/issues/76750)\u001b[0m\u001b[0;34m\u001b[0m\u001b[0;34m\u001b[0m\u001b[0m\n\u001b[1;32m    700\u001b[0m                 \u001b[0mself\u001b[0m\u001b[0;34m.\u001b[0m\u001b[0m_reset\u001b[0m\u001b[0;34m(\u001b[0m\u001b[0;34m)\u001b[0m  \u001b[0;31m# type: ignore[call-arg]\u001b[0m\u001b[0;34m\u001b[0m\u001b[0;34m\u001b[0m\u001b[0m\n\u001b[0;32m--> 701\u001b[0;31m             \u001b[0mdata\u001b[0m \u001b[0;34m=\u001b[0m \u001b[0mself\u001b[0m\u001b[0;34m.\u001b[0m\u001b[0m_next_data\u001b[0m\u001b[0;34m(\u001b[0m\u001b[0;34m)\u001b[0m\u001b[0;34m\u001b[0m\u001b[0;34m\u001b[0m\u001b[0m\n\u001b[0m\u001b[1;32m    702\u001b[0m             \u001b[0mself\u001b[0m\u001b[0;34m.\u001b[0m\u001b[0m_num_yielded\u001b[0m \u001b[0;34m+=\u001b[0m \u001b[0;36m1\u001b[0m\u001b[0;34m\u001b[0m\u001b[0;34m\u001b[0m\u001b[0m\n\u001b[1;32m    703\u001b[0m             if (\n",
            "\u001b[0;32m/usr/local/lib/python3.10/dist-packages/torch/utils/data/dataloader.py\u001b[0m in \u001b[0;36m_next_data\u001b[0;34m(self)\u001b[0m\n\u001b[1;32m   1446\u001b[0m \u001b[0;34m\u001b[0m\u001b[0m\n\u001b[1;32m   1447\u001b[0m             \u001b[0;32massert\u001b[0m \u001b[0;32mnot\u001b[0m \u001b[0mself\u001b[0m\u001b[0;34m.\u001b[0m\u001b[0m_shutdown\u001b[0m \u001b[0;32mand\u001b[0m \u001b[0mself\u001b[0m\u001b[0;34m.\u001b[0m\u001b[0m_tasks_outstanding\u001b[0m \u001b[0;34m>\u001b[0m \u001b[0;36m0\u001b[0m\u001b[0;34m\u001b[0m\u001b[0;34m\u001b[0m\u001b[0m\n\u001b[0;32m-> 1448\u001b[0;31m             \u001b[0midx\u001b[0m\u001b[0;34m,\u001b[0m \u001b[0mdata\u001b[0m \u001b[0;34m=\u001b[0m \u001b[0mself\u001b[0m\u001b[0;34m.\u001b[0m\u001b[0m_get_data\u001b[0m\u001b[0;34m(\u001b[0m\u001b[0;34m)\u001b[0m\u001b[0;34m\u001b[0m\u001b[0;34m\u001b[0m\u001b[0m\n\u001b[0m\u001b[1;32m   1449\u001b[0m             \u001b[0mself\u001b[0m\u001b[0;34m.\u001b[0m\u001b[0m_tasks_outstanding\u001b[0m \u001b[0;34m-=\u001b[0m \u001b[0;36m1\u001b[0m\u001b[0;34m\u001b[0m\u001b[0;34m\u001b[0m\u001b[0m\n\u001b[1;32m   1450\u001b[0m             \u001b[0;32mif\u001b[0m \u001b[0mself\u001b[0m\u001b[0;34m.\u001b[0m\u001b[0m_dataset_kind\u001b[0m \u001b[0;34m==\u001b[0m \u001b[0m_DatasetKind\u001b[0m\u001b[0;34m.\u001b[0m\u001b[0mIterable\u001b[0m\u001b[0;34m:\u001b[0m\u001b[0;34m\u001b[0m\u001b[0;34m\u001b[0m\u001b[0m\n",
            "\u001b[0;32m/usr/local/lib/python3.10/dist-packages/torch/utils/data/dataloader.py\u001b[0m in \u001b[0;36m_get_data\u001b[0;34m(self)\u001b[0m\n\u001b[1;32m   1410\u001b[0m         \u001b[0;32melse\u001b[0m\u001b[0;34m:\u001b[0m\u001b[0;34m\u001b[0m\u001b[0;34m\u001b[0m\u001b[0m\n\u001b[1;32m   1411\u001b[0m             \u001b[0;32mwhile\u001b[0m \u001b[0;32mTrue\u001b[0m\u001b[0;34m:\u001b[0m\u001b[0;34m\u001b[0m\u001b[0;34m\u001b[0m\u001b[0m\n\u001b[0;32m-> 1412\u001b[0;31m                 \u001b[0msuccess\u001b[0m\u001b[0;34m,\u001b[0m \u001b[0mdata\u001b[0m \u001b[0;34m=\u001b[0m \u001b[0mself\u001b[0m\u001b[0;34m.\u001b[0m\u001b[0m_try_get_data\u001b[0m\u001b[0;34m(\u001b[0m\u001b[0;34m)\u001b[0m\u001b[0;34m\u001b[0m\u001b[0;34m\u001b[0m\u001b[0m\n\u001b[0m\u001b[1;32m   1413\u001b[0m                 \u001b[0;32mif\u001b[0m \u001b[0msuccess\u001b[0m\u001b[0;34m:\u001b[0m\u001b[0;34m\u001b[0m\u001b[0;34m\u001b[0m\u001b[0m\n\u001b[1;32m   1414\u001b[0m                     \u001b[0;32mreturn\u001b[0m \u001b[0mdata\u001b[0m\u001b[0;34m\u001b[0m\u001b[0;34m\u001b[0m\u001b[0m\n",
            "\u001b[0;32m/usr/local/lib/python3.10/dist-packages/torch/utils/data/dataloader.py\u001b[0m in \u001b[0;36m_try_get_data\u001b[0;34m(self, timeout)\u001b[0m\n\u001b[1;32m   1241\u001b[0m         \u001b[0;31m#   (bool: whether successfully get data, any: data if successful else None)\u001b[0m\u001b[0;34m\u001b[0m\u001b[0;34m\u001b[0m\u001b[0m\n\u001b[1;32m   1242\u001b[0m         \u001b[0;32mtry\u001b[0m\u001b[0;34m:\u001b[0m\u001b[0;34m\u001b[0m\u001b[0;34m\u001b[0m\u001b[0m\n\u001b[0;32m-> 1243\u001b[0;31m             \u001b[0mdata\u001b[0m \u001b[0;34m=\u001b[0m \u001b[0mself\u001b[0m\u001b[0;34m.\u001b[0m\u001b[0m_data_queue\u001b[0m\u001b[0;34m.\u001b[0m\u001b[0mget\u001b[0m\u001b[0;34m(\u001b[0m\u001b[0mtimeout\u001b[0m\u001b[0;34m=\u001b[0m\u001b[0mtimeout\u001b[0m\u001b[0;34m)\u001b[0m\u001b[0;34m\u001b[0m\u001b[0;34m\u001b[0m\u001b[0m\n\u001b[0m\u001b[1;32m   1244\u001b[0m             \u001b[0;32mreturn\u001b[0m \u001b[0;34m(\u001b[0m\u001b[0;32mTrue\u001b[0m\u001b[0;34m,\u001b[0m \u001b[0mdata\u001b[0m\u001b[0;34m)\u001b[0m\u001b[0;34m\u001b[0m\u001b[0;34m\u001b[0m\u001b[0m\n\u001b[1;32m   1245\u001b[0m         \u001b[0;32mexcept\u001b[0m \u001b[0mException\u001b[0m \u001b[0;32mas\u001b[0m \u001b[0me\u001b[0m\u001b[0;34m:\u001b[0m\u001b[0;34m\u001b[0m\u001b[0;34m\u001b[0m\u001b[0m\n",
            "\u001b[0;32m/usr/lib/python3.10/multiprocessing/queues.py\u001b[0m in \u001b[0;36mget\u001b[0;34m(self, block, timeout)\u001b[0m\n\u001b[1;32m    111\u001b[0m                 \u001b[0;32mif\u001b[0m \u001b[0mblock\u001b[0m\u001b[0;34m:\u001b[0m\u001b[0;34m\u001b[0m\u001b[0;34m\u001b[0m\u001b[0m\n\u001b[1;32m    112\u001b[0m                     \u001b[0mtimeout\u001b[0m \u001b[0;34m=\u001b[0m \u001b[0mdeadline\u001b[0m \u001b[0;34m-\u001b[0m \u001b[0mtime\u001b[0m\u001b[0;34m.\u001b[0m\u001b[0mmonotonic\u001b[0m\u001b[0;34m(\u001b[0m\u001b[0;34m)\u001b[0m\u001b[0;34m\u001b[0m\u001b[0;34m\u001b[0m\u001b[0m\n\u001b[0;32m--> 113\u001b[0;31m                     \u001b[0;32mif\u001b[0m \u001b[0;32mnot\u001b[0m \u001b[0mself\u001b[0m\u001b[0;34m.\u001b[0m\u001b[0m_poll\u001b[0m\u001b[0;34m(\u001b[0m\u001b[0mtimeout\u001b[0m\u001b[0;34m)\u001b[0m\u001b[0;34m:\u001b[0m\u001b[0;34m\u001b[0m\u001b[0;34m\u001b[0m\u001b[0m\n\u001b[0m\u001b[1;32m    114\u001b[0m                         \u001b[0;32mraise\u001b[0m \u001b[0mEmpty\u001b[0m\u001b[0;34m\u001b[0m\u001b[0;34m\u001b[0m\u001b[0m\n\u001b[1;32m    115\u001b[0m                 \u001b[0;32melif\u001b[0m \u001b[0;32mnot\u001b[0m \u001b[0mself\u001b[0m\u001b[0;34m.\u001b[0m\u001b[0m_poll\u001b[0m\u001b[0;34m(\u001b[0m\u001b[0;34m)\u001b[0m\u001b[0;34m:\u001b[0m\u001b[0;34m\u001b[0m\u001b[0;34m\u001b[0m\u001b[0m\n",
            "\u001b[0;32m/usr/lib/python3.10/multiprocessing/connection.py\u001b[0m in \u001b[0;36mpoll\u001b[0;34m(self, timeout)\u001b[0m\n\u001b[1;32m    255\u001b[0m         \u001b[0mself\u001b[0m\u001b[0;34m.\u001b[0m\u001b[0m_check_closed\u001b[0m\u001b[0;34m(\u001b[0m\u001b[0;34m)\u001b[0m\u001b[0;34m\u001b[0m\u001b[0;34m\u001b[0m\u001b[0m\n\u001b[1;32m    256\u001b[0m         \u001b[0mself\u001b[0m\u001b[0;34m.\u001b[0m\u001b[0m_check_readable\u001b[0m\u001b[0;34m(\u001b[0m\u001b[0;34m)\u001b[0m\u001b[0;34m\u001b[0m\u001b[0;34m\u001b[0m\u001b[0m\n\u001b[0;32m--> 257\u001b[0;31m         \u001b[0;32mreturn\u001b[0m \u001b[0mself\u001b[0m\u001b[0;34m.\u001b[0m\u001b[0m_poll\u001b[0m\u001b[0;34m(\u001b[0m\u001b[0mtimeout\u001b[0m\u001b[0;34m)\u001b[0m\u001b[0;34m\u001b[0m\u001b[0;34m\u001b[0m\u001b[0m\n\u001b[0m\u001b[1;32m    258\u001b[0m \u001b[0;34m\u001b[0m\u001b[0m\n\u001b[1;32m    259\u001b[0m     \u001b[0;32mdef\u001b[0m \u001b[0m__enter__\u001b[0m\u001b[0;34m(\u001b[0m\u001b[0mself\u001b[0m\u001b[0;34m)\u001b[0m\u001b[0;34m:\u001b[0m\u001b[0;34m\u001b[0m\u001b[0;34m\u001b[0m\u001b[0m\n",
            "\u001b[0;32m/usr/lib/python3.10/multiprocessing/connection.py\u001b[0m in \u001b[0;36m_poll\u001b[0;34m(self, timeout)\u001b[0m\n\u001b[1;32m    422\u001b[0m \u001b[0;34m\u001b[0m\u001b[0m\n\u001b[1;32m    423\u001b[0m     \u001b[0;32mdef\u001b[0m \u001b[0m_poll\u001b[0m\u001b[0;34m(\u001b[0m\u001b[0mself\u001b[0m\u001b[0;34m,\u001b[0m \u001b[0mtimeout\u001b[0m\u001b[0;34m)\u001b[0m\u001b[0;34m:\u001b[0m\u001b[0;34m\u001b[0m\u001b[0;34m\u001b[0m\u001b[0m\n\u001b[0;32m--> 424\u001b[0;31m         \u001b[0mr\u001b[0m \u001b[0;34m=\u001b[0m \u001b[0mwait\u001b[0m\u001b[0;34m(\u001b[0m\u001b[0;34m[\u001b[0m\u001b[0mself\u001b[0m\u001b[0;34m]\u001b[0m\u001b[0;34m,\u001b[0m \u001b[0mtimeout\u001b[0m\u001b[0;34m)\u001b[0m\u001b[0;34m\u001b[0m\u001b[0;34m\u001b[0m\u001b[0m\n\u001b[0m\u001b[1;32m    425\u001b[0m         \u001b[0;32mreturn\u001b[0m \u001b[0mbool\u001b[0m\u001b[0;34m(\u001b[0m\u001b[0mr\u001b[0m\u001b[0;34m)\u001b[0m\u001b[0;34m\u001b[0m\u001b[0;34m\u001b[0m\u001b[0m\n\u001b[1;32m    426\u001b[0m \u001b[0;34m\u001b[0m\u001b[0m\n",
            "\u001b[0;32m/usr/lib/python3.10/multiprocessing/connection.py\u001b[0m in \u001b[0;36mwait\u001b[0;34m(object_list, timeout)\u001b[0m\n\u001b[1;32m    929\u001b[0m \u001b[0;34m\u001b[0m\u001b[0m\n\u001b[1;32m    930\u001b[0m             \u001b[0;32mwhile\u001b[0m \u001b[0;32mTrue\u001b[0m\u001b[0;34m:\u001b[0m\u001b[0;34m\u001b[0m\u001b[0;34m\u001b[0m\u001b[0m\n\u001b[0;32m--> 931\u001b[0;31m                 \u001b[0mready\u001b[0m \u001b[0;34m=\u001b[0m \u001b[0mselector\u001b[0m\u001b[0;34m.\u001b[0m\u001b[0mselect\u001b[0m\u001b[0;34m(\u001b[0m\u001b[0mtimeout\u001b[0m\u001b[0;34m)\u001b[0m\u001b[0;34m\u001b[0m\u001b[0;34m\u001b[0m\u001b[0m\n\u001b[0m\u001b[1;32m    932\u001b[0m                 \u001b[0;32mif\u001b[0m \u001b[0mready\u001b[0m\u001b[0;34m:\u001b[0m\u001b[0;34m\u001b[0m\u001b[0;34m\u001b[0m\u001b[0m\n\u001b[1;32m    933\u001b[0m                     \u001b[0;32mreturn\u001b[0m \u001b[0;34m[\u001b[0m\u001b[0mkey\u001b[0m\u001b[0;34m.\u001b[0m\u001b[0mfileobj\u001b[0m \u001b[0;32mfor\u001b[0m \u001b[0;34m(\u001b[0m\u001b[0mkey\u001b[0m\u001b[0;34m,\u001b[0m \u001b[0mevents\u001b[0m\u001b[0;34m)\u001b[0m \u001b[0;32min\u001b[0m \u001b[0mready\u001b[0m\u001b[0;34m]\u001b[0m\u001b[0;34m\u001b[0m\u001b[0;34m\u001b[0m\u001b[0m\n",
            "\u001b[0;32m/usr/lib/python3.10/selectors.py\u001b[0m in \u001b[0;36mselect\u001b[0;34m(self, timeout)\u001b[0m\n\u001b[1;32m    414\u001b[0m         \u001b[0mready\u001b[0m \u001b[0;34m=\u001b[0m \u001b[0;34m[\u001b[0m\u001b[0;34m]\u001b[0m\u001b[0;34m\u001b[0m\u001b[0;34m\u001b[0m\u001b[0m\n\u001b[1;32m    415\u001b[0m         \u001b[0;32mtry\u001b[0m\u001b[0;34m:\u001b[0m\u001b[0;34m\u001b[0m\u001b[0;34m\u001b[0m\u001b[0m\n\u001b[0;32m--> 416\u001b[0;31m             \u001b[0mfd_event_list\u001b[0m \u001b[0;34m=\u001b[0m \u001b[0mself\u001b[0m\u001b[0;34m.\u001b[0m\u001b[0m_selector\u001b[0m\u001b[0;34m.\u001b[0m\u001b[0mpoll\u001b[0m\u001b[0;34m(\u001b[0m\u001b[0mtimeout\u001b[0m\u001b[0;34m)\u001b[0m\u001b[0;34m\u001b[0m\u001b[0;34m\u001b[0m\u001b[0m\n\u001b[0m\u001b[1;32m    417\u001b[0m         \u001b[0;32mexcept\u001b[0m \u001b[0mInterruptedError\u001b[0m\u001b[0;34m:\u001b[0m\u001b[0;34m\u001b[0m\u001b[0;34m\u001b[0m\u001b[0m\n\u001b[1;32m    418\u001b[0m             \u001b[0;32mreturn\u001b[0m \u001b[0mready\u001b[0m\u001b[0;34m\u001b[0m\u001b[0;34m\u001b[0m\u001b[0m\n",
            "\u001b[0;31mKeyboardInterrupt\u001b[0m: "
          ]
        }
      ],
      "source": [
        "%run large_batch_training.py --optimizer SGDM --batch-size 128 --weight-decay 4e-4"
      ]
    },
    {
      "cell_type": "markdown",
      "metadata": {
        "id": "_2t__56QmDKL"
      },
      "source": []
    },
    {
      "cell_type": "code",
      "execution_count": 2,
      "metadata": {
        "colab": {
          "base_uri": "https://localhost:8080/",
          "height": 1000
        },
        "id": "FqIzBQKfZFgB",
        "outputId": "d0364694-5302-4a83-aef4-fe3eedb823d2"
      },
      "outputs": [
        {
          "output_type": "stream",
          "name": "stdout",
          "text": [
            "Downloading https://www.cs.toronto.edu/~kriz/cifar-100-python.tar.gz to ./data/cifar-100-python.tar.gz\n"
          ]
        },
        {
          "output_type": "stream",
          "name": "stderr",
          "text": [
            "100%|██████████| 169M/169M [00:13<00:00, 12.8MB/s]\n"
          ]
        },
        {
          "output_type": "stream",
          "name": "stdout",
          "text": [
            "Extracting ./data/cifar-100-python.tar.gz to ./data\n",
            "Files already downloaded and verified\n",
            "Files already downloaded and verified\n",
            "Files already downloaded and verified\n",
            "--- Train with AdamW ---\n",
            "Epoch 1/150, Train Acc: 2.94%, Val Acc: 6.75%, Test Acc: 5.57%\n",
            "Epoch 1/150, Train Loss: 4.4780, Val Loss: 4.1882, Test Loss: 4.2248\n",
            "Epoch 2/150, Train Acc: 6.17%, Val Acc: 9.79%, Test Acc: 9.34%\n",
            "Epoch 2/150, Train Loss: 4.1989, Val Loss: 3.9476, Test Loss: 3.9927\n",
            "Epoch 3/150, Train Acc: 9.10%, Val Acc: 12.84%, Test Acc: 11.47%\n",
            "Epoch 3/150, Train Loss: 4.0075, Val Loss: 3.7446, Test Loss: 3.8407\n",
            "Epoch 4/150, Train Acc: 11.47%, Val Acc: 15.95%, Test Acc: 13.85%\n",
            "Epoch 4/150, Train Loss: 3.8254, Val Loss: 3.5716, Test Loss: 3.6846\n",
            "Warmup phase completed at epoch 5. Switching to constant learning rate.\n",
            "Epoch 5/150, Train Acc: 13.46%, Val Acc: 17.59%, Test Acc: 13.67%\n",
            "Epoch 5/150, Train Loss: 3.6895, Val Loss: 3.4738, Test Loss: 3.6674\n",
            "Epoch 6/150, Train Acc: 16.18%, Val Acc: 20.57%, Test Acc: 18.55%\n",
            "Epoch 6/150, Train Loss: 3.5494, Val Loss: 3.2949, Test Loss: 3.4179\n",
            "Epoch 7/150, Train Acc: 18.04%, Val Acc: 23.55%, Test Acc: 19.51%\n",
            "Epoch 7/150, Train Loss: 3.4222, Val Loss: 3.1692, Test Loss: 3.3620\n",
            "Epoch 8/150, Train Acc: 20.10%, Val Acc: 24.72%, Test Acc: 22.07%\n",
            "Epoch 8/150, Train Loss: 3.3165, Val Loss: 3.0543, Test Loss: 3.2432\n",
            "Epoch 9/150, Train Acc: 22.23%, Val Acc: 26.73%, Test Acc: 23.66%\n",
            "Epoch 9/150, Train Loss: 3.1991, Val Loss: 2.9708, Test Loss: 3.1426\n",
            "Checkpoint saved at epoch 10: ./checkpoint_epoch_10.pth\n"
          ]
        },
        {
          "output_type": "display_data",
          "data": {
            "text/plain": [
              "<IPython.core.display.Javascript object>"
            ],
            "application/javascript": [
              "\n",
              "    async function download(id, filename, size) {\n",
              "      if (!google.colab.kernel.accessAllowed) {\n",
              "        return;\n",
              "      }\n",
              "      const div = document.createElement('div');\n",
              "      const label = document.createElement('label');\n",
              "      label.textContent = `Downloading \"${filename}\": `;\n",
              "      div.appendChild(label);\n",
              "      const progress = document.createElement('progress');\n",
              "      progress.max = size;\n",
              "      div.appendChild(progress);\n",
              "      document.body.appendChild(div);\n",
              "\n",
              "      const buffers = [];\n",
              "      let downloaded = 0;\n",
              "\n",
              "      const channel = await google.colab.kernel.comms.open(id);\n",
              "      // Send a message to notify the kernel that we're ready.\n",
              "      channel.send({})\n",
              "\n",
              "      for await (const message of channel.messages) {\n",
              "        // Send a message to notify the kernel that we're ready.\n",
              "        channel.send({})\n",
              "        if (message.buffers) {\n",
              "          for (const buffer of message.buffers) {\n",
              "            buffers.push(buffer);\n",
              "            downloaded += buffer.byteLength;\n",
              "            progress.value = downloaded;\n",
              "          }\n",
              "        }\n",
              "      }\n",
              "      const blob = new Blob(buffers, {type: 'application/binary'});\n",
              "      const a = document.createElement('a');\n",
              "      a.href = window.URL.createObjectURL(blob);\n",
              "      a.download = filename;\n",
              "      div.appendChild(a);\n",
              "      a.click();\n",
              "      div.remove();\n",
              "    }\n",
              "  "
            ]
          },
          "metadata": {}
        },
        {
          "output_type": "display_data",
          "data": {
            "text/plain": [
              "<IPython.core.display.Javascript object>"
            ],
            "application/javascript": [
              "download(\"download_3e680e41-fb83-4070-bf3f-d103ec18656b\", \"checkpoint_epoch_10.pth\", 9797102)"
            ]
          },
          "metadata": {}
        },
        {
          "output_type": "stream",
          "name": "stdout",
          "text": [
            "Epoch 10/150, Train Acc: 23.18%, Val Acc: 27.79%, Test Acc: 24.40%\n",
            "Epoch 10/150, Train Loss: 3.1460, Val Loss: 2.9388, Test Loss: 3.0912\n",
            "Epoch 11/150, Train Acc: 25.21%, Val Acc: 28.87%, Test Acc: 25.06%\n",
            "Epoch 11/150, Train Loss: 3.0420, Val Loss: 2.8719, Test Loss: 3.0819\n",
            "Epoch 12/150, Train Acc: 26.16%, Val Acc: 29.62%, Test Acc: 25.43%\n",
            "Epoch 12/150, Train Loss: 2.9893, Val Loss: 2.8201, Test Loss: 3.0860\n",
            "Epoch 13/150, Train Acc: 27.39%, Val Acc: 31.43%, Test Acc: 27.12%\n",
            "Epoch 13/150, Train Loss: 2.9170, Val Loss: 2.7373, Test Loss: 2.9685\n",
            "Epoch 14/150, Train Acc: 29.02%, Val Acc: 32.67%, Test Acc: 28.11%\n",
            "Epoch 14/150, Train Loss: 2.8399, Val Loss: 2.6736, Test Loss: 2.9174\n",
            "Epoch 15/150, Train Acc: 29.39%, Val Acc: 33.15%, Test Acc: 29.07%\n",
            "Epoch 15/150, Train Loss: 2.8325, Val Loss: 2.6371, Test Loss: 2.8608\n",
            "Epoch 16/150, Train Acc: 31.09%, Val Acc: 32.67%, Test Acc: 27.36%\n",
            "Epoch 16/150, Train Loss: 2.7416, Val Loss: 2.6913, Test Loss: 2.9778\n",
            "Epoch 17/150, Train Acc: 29.60%, Val Acc: 34.72%, Test Acc: 30.02%\n",
            "Epoch 17/150, Train Loss: 2.8237, Val Loss: 2.5664, Test Loss: 2.7952\n",
            "Epoch 18/150, Train Acc: 32.27%, Val Acc: 36.94%, Test Acc: 30.96%\n",
            "Epoch 18/150, Train Loss: 2.6612, Val Loss: 2.4868, Test Loss: 2.7825\n",
            "Epoch 19/150, Train Acc: 33.36%, Val Acc: 35.94%, Test Acc: 31.55%\n",
            "Epoch 19/150, Train Loss: 2.6164, Val Loss: 2.5406, Test Loss: 2.7495\n",
            "Checkpoint saved at epoch 20: ./checkpoint_epoch_20.pth\n"
          ]
        },
        {
          "output_type": "display_data",
          "data": {
            "text/plain": [
              "<IPython.core.display.Javascript object>"
            ],
            "application/javascript": [
              "\n",
              "    async function download(id, filename, size) {\n",
              "      if (!google.colab.kernel.accessAllowed) {\n",
              "        return;\n",
              "      }\n",
              "      const div = document.createElement('div');\n",
              "      const label = document.createElement('label');\n",
              "      label.textContent = `Downloading \"${filename}\": `;\n",
              "      div.appendChild(label);\n",
              "      const progress = document.createElement('progress');\n",
              "      progress.max = size;\n",
              "      div.appendChild(progress);\n",
              "      document.body.appendChild(div);\n",
              "\n",
              "      const buffers = [];\n",
              "      let downloaded = 0;\n",
              "\n",
              "      const channel = await google.colab.kernel.comms.open(id);\n",
              "      // Send a message to notify the kernel that we're ready.\n",
              "      channel.send({})\n",
              "\n",
              "      for await (const message of channel.messages) {\n",
              "        // Send a message to notify the kernel that we're ready.\n",
              "        channel.send({})\n",
              "        if (message.buffers) {\n",
              "          for (const buffer of message.buffers) {\n",
              "            buffers.push(buffer);\n",
              "            downloaded += buffer.byteLength;\n",
              "            progress.value = downloaded;\n",
              "          }\n",
              "        }\n",
              "      }\n",
              "      const blob = new Blob(buffers, {type: 'application/binary'});\n",
              "      const a = document.createElement('a');\n",
              "      a.href = window.URL.createObjectURL(blob);\n",
              "      a.download = filename;\n",
              "      div.appendChild(a);\n",
              "      a.click();\n",
              "      div.remove();\n",
              "    }\n",
              "  "
            ]
          },
          "metadata": {}
        },
        {
          "output_type": "display_data",
          "data": {
            "text/plain": [
              "<IPython.core.display.Javascript object>"
            ],
            "application/javascript": [
              "download(\"download_5710e98a-91c9-4075-a5ae-62039c589ceb\", \"checkpoint_epoch_20.pth\", 9797102)"
            ]
          },
          "metadata": {}
        },
        {
          "output_type": "stream",
          "name": "stdout",
          "text": [
            "Epoch 20/150, Train Acc: 33.24%, Val Acc: 37.15%, Test Acc: 31.97%\n",
            "Epoch 20/150, Train Loss: 2.6233, Val Loss: 2.4741, Test Loss: 2.7217\n",
            "Epoch 21/150, Train Acc: 35.21%, Val Acc: 37.72%, Test Acc: 33.03%\n",
            "Epoch 21/150, Train Loss: 2.5468, Val Loss: 2.4464, Test Loss: 2.6701\n",
            "Epoch 22/150, Train Acc: 35.10%, Val Acc: 38.03%, Test Acc: 32.11%\n",
            "Epoch 22/150, Train Loss: 2.5296, Val Loss: 2.4309, Test Loss: 2.7138\n",
            "Epoch 23/150, Train Acc: 36.22%, Val Acc: 38.34%, Test Acc: 32.14%\n",
            "Epoch 23/150, Train Loss: 2.4964, Val Loss: 2.4030, Test Loss: 2.6835\n",
            "Epoch 24/150, Train Acc: 36.58%, Val Acc: 38.96%, Test Acc: 32.75%\n",
            "Epoch 24/150, Train Loss: 2.4708, Val Loss: 2.3984, Test Loss: 2.6980\n",
            "Epoch 25/150, Train Acc: 37.15%, Val Acc: 39.39%, Test Acc: 34.23%\n",
            "Epoch 25/150, Train Loss: 2.4278, Val Loss: 2.3659, Test Loss: 2.6300\n",
            "Epoch 26/150, Train Acc: 37.44%, Val Acc: 39.44%, Test Acc: 33.54%\n",
            "Epoch 26/150, Train Loss: 2.4174, Val Loss: 2.3676, Test Loss: 2.6773\n",
            "Epoch 27/150, Train Acc: 37.99%, Val Acc: 39.55%, Test Acc: 34.06%\n",
            "Epoch 27/150, Train Loss: 2.3870, Val Loss: 2.3320, Test Loss: 2.6109\n",
            "Epoch 28/150, Train Acc: 38.88%, Val Acc: 39.92%, Test Acc: 34.30%\n",
            "Epoch 28/150, Train Loss: 2.3602, Val Loss: 2.3477, Test Loss: 2.6255\n",
            "Epoch 29/150, Train Acc: 39.01%, Val Acc: 40.32%, Test Acc: 34.33%\n",
            "Epoch 29/150, Train Loss: 2.3468, Val Loss: 2.3248, Test Loss: 2.6118\n",
            "Checkpoint saved at epoch 30: ./checkpoint_epoch_30.pth\n"
          ]
        },
        {
          "output_type": "display_data",
          "data": {
            "text/plain": [
              "<IPython.core.display.Javascript object>"
            ],
            "application/javascript": [
              "\n",
              "    async function download(id, filename, size) {\n",
              "      if (!google.colab.kernel.accessAllowed) {\n",
              "        return;\n",
              "      }\n",
              "      const div = document.createElement('div');\n",
              "      const label = document.createElement('label');\n",
              "      label.textContent = `Downloading \"${filename}\": `;\n",
              "      div.appendChild(label);\n",
              "      const progress = document.createElement('progress');\n",
              "      progress.max = size;\n",
              "      div.appendChild(progress);\n",
              "      document.body.appendChild(div);\n",
              "\n",
              "      const buffers = [];\n",
              "      let downloaded = 0;\n",
              "\n",
              "      const channel = await google.colab.kernel.comms.open(id);\n",
              "      // Send a message to notify the kernel that we're ready.\n",
              "      channel.send({})\n",
              "\n",
              "      for await (const message of channel.messages) {\n",
              "        // Send a message to notify the kernel that we're ready.\n",
              "        channel.send({})\n",
              "        if (message.buffers) {\n",
              "          for (const buffer of message.buffers) {\n",
              "            buffers.push(buffer);\n",
              "            downloaded += buffer.byteLength;\n",
              "            progress.value = downloaded;\n",
              "          }\n",
              "        }\n",
              "      }\n",
              "      const blob = new Blob(buffers, {type: 'application/binary'});\n",
              "      const a = document.createElement('a');\n",
              "      a.href = window.URL.createObjectURL(blob);\n",
              "      a.download = filename;\n",
              "      div.appendChild(a);\n",
              "      a.click();\n",
              "      div.remove();\n",
              "    }\n",
              "  "
            ]
          },
          "metadata": {}
        },
        {
          "output_type": "display_data",
          "data": {
            "text/plain": [
              "<IPython.core.display.Javascript object>"
            ],
            "application/javascript": [
              "download(\"download_9dd20e5a-70ec-47e0-8f35-adb671861d5b\", \"checkpoint_epoch_30.pth\", 9797102)"
            ]
          },
          "metadata": {}
        },
        {
          "output_type": "stream",
          "name": "stdout",
          "text": [
            "Epoch 30/150, Train Acc: 39.84%, Val Acc: 40.90%, Test Acc: 35.73%\n",
            "Epoch 30/150, Train Loss: 2.3061, Val Loss: 2.3083, Test Loss: 2.5657\n",
            "Epoch 31/150, Train Acc: 40.31%, Val Acc: 41.51%, Test Acc: 34.97%\n",
            "Epoch 31/150, Train Loss: 2.2918, Val Loss: 2.2637, Test Loss: 2.6173\n",
            "Epoch 32/150, Train Acc: 40.76%, Val Acc: 41.11%, Test Acc: 36.31%\n",
            "Epoch 32/150, Train Loss: 2.2706, Val Loss: 2.2804, Test Loss: 2.5416\n",
            "Epoch 33/150, Train Acc: 40.74%, Val Acc: 41.28%, Test Acc: 35.65%\n",
            "Epoch 33/150, Train Loss: 2.2597, Val Loss: 2.2706, Test Loss: 2.5706\n",
            "Epoch 34/150, Train Acc: 41.52%, Val Acc: 41.66%, Test Acc: 36.60%\n",
            "Epoch 34/150, Train Loss: 2.2349, Val Loss: 2.2540, Test Loss: 2.5255\n",
            "Epoch 35/150, Train Acc: 41.74%, Val Acc: 41.54%, Test Acc: 36.59%\n",
            "Epoch 35/150, Train Loss: 2.2038, Val Loss: 2.2671, Test Loss: 2.5636\n",
            "Epoch 36/150, Train Acc: 41.90%, Val Acc: 42.36%, Test Acc: 36.67%\n",
            "Epoch 36/150, Train Loss: 2.2048, Val Loss: 2.2250, Test Loss: 2.5316\n",
            "Epoch 37/150, Train Acc: 42.93%, Val Acc: 42.54%, Test Acc: 36.14%\n",
            "Epoch 37/150, Train Loss: 2.1708, Val Loss: 2.2246, Test Loss: 2.5536\n",
            "Epoch 38/150, Train Acc: 43.29%, Val Acc: 43.15%, Test Acc: 37.64%\n",
            "Epoch 38/150, Train Loss: 2.1432, Val Loss: 2.1965, Test Loss: 2.4870\n",
            "Epoch 39/150, Train Acc: 44.01%, Val Acc: 43.18%, Test Acc: 37.69%\n",
            "Epoch 39/150, Train Loss: 2.1237, Val Loss: 2.2100, Test Loss: 2.5048\n",
            "Checkpoint saved at epoch 40: ./checkpoint_epoch_40.pth\n"
          ]
        },
        {
          "output_type": "display_data",
          "data": {
            "text/plain": [
              "<IPython.core.display.Javascript object>"
            ],
            "application/javascript": [
              "\n",
              "    async function download(id, filename, size) {\n",
              "      if (!google.colab.kernel.accessAllowed) {\n",
              "        return;\n",
              "      }\n",
              "      const div = document.createElement('div');\n",
              "      const label = document.createElement('label');\n",
              "      label.textContent = `Downloading \"${filename}\": `;\n",
              "      div.appendChild(label);\n",
              "      const progress = document.createElement('progress');\n",
              "      progress.max = size;\n",
              "      div.appendChild(progress);\n",
              "      document.body.appendChild(div);\n",
              "\n",
              "      const buffers = [];\n",
              "      let downloaded = 0;\n",
              "\n",
              "      const channel = await google.colab.kernel.comms.open(id);\n",
              "      // Send a message to notify the kernel that we're ready.\n",
              "      channel.send({})\n",
              "\n",
              "      for await (const message of channel.messages) {\n",
              "        // Send a message to notify the kernel that we're ready.\n",
              "        channel.send({})\n",
              "        if (message.buffers) {\n",
              "          for (const buffer of message.buffers) {\n",
              "            buffers.push(buffer);\n",
              "            downloaded += buffer.byteLength;\n",
              "            progress.value = downloaded;\n",
              "          }\n",
              "        }\n",
              "      }\n",
              "      const blob = new Blob(buffers, {type: 'application/binary'});\n",
              "      const a = document.createElement('a');\n",
              "      a.href = window.URL.createObjectURL(blob);\n",
              "      a.download = filename;\n",
              "      div.appendChild(a);\n",
              "      a.click();\n",
              "      div.remove();\n",
              "    }\n",
              "  "
            ]
          },
          "metadata": {}
        },
        {
          "output_type": "display_data",
          "data": {
            "text/plain": [
              "<IPython.core.display.Javascript object>"
            ],
            "application/javascript": [
              "download(\"download_5c011de1-49a0-4c89-972a-6c1c10b949ed\", \"checkpoint_epoch_40.pth\", 9797102)"
            ]
          },
          "metadata": {}
        },
        {
          "output_type": "stream",
          "name": "stdout",
          "text": [
            "Epoch 40/150, Train Acc: 43.40%, Val Acc: 42.74%, Test Acc: 37.65%\n",
            "Epoch 40/150, Train Loss: 2.1364, Val Loss: 2.2219, Test Loss: 2.4623\n",
            "Epoch 41/150, Train Acc: 44.13%, Val Acc: 42.65%, Test Acc: 36.81%\n",
            "Epoch 41/150, Train Loss: 2.1170, Val Loss: 2.2349, Test Loss: 2.5733\n",
            "Epoch 42/150, Train Acc: 44.19%, Val Acc: 42.88%, Test Acc: 37.15%\n",
            "Epoch 42/150, Train Loss: 2.1075, Val Loss: 2.2158, Test Loss: 2.5123\n",
            "Epoch 43/150, Train Acc: 44.69%, Val Acc: 43.72%, Test Acc: 37.99%\n",
            "Epoch 43/150, Train Loss: 2.0793, Val Loss: 2.1914, Test Loss: 2.4601\n",
            "Epoch 44/150, Train Acc: 45.45%, Val Acc: 43.73%, Test Acc: 38.21%\n",
            "Epoch 44/150, Train Loss: 2.0573, Val Loss: 2.1732, Test Loss: 2.4499\n",
            "Epoch 45/150, Train Acc: 45.12%, Val Acc: 43.07%, Test Acc: 37.03%\n",
            "Epoch 45/150, Train Loss: 2.0551, Val Loss: 2.2144, Test Loss: 2.5412\n",
            "Epoch 46/150, Train Acc: 45.59%, Val Acc: 43.97%, Test Acc: 38.14%\n",
            "Epoch 46/150, Train Loss: 2.0503, Val Loss: 2.1685, Test Loss: 2.4777\n",
            "Epoch 47/150, Train Acc: 46.16%, Val Acc: 43.59%, Test Acc: 37.72%\n",
            "Epoch 47/150, Train Loss: 2.0234, Val Loss: 2.1764, Test Loss: 2.4842\n",
            "Epoch 48/150, Train Acc: 45.78%, Val Acc: 44.30%, Test Acc: 39.14%\n",
            "Epoch 48/150, Train Loss: 2.0330, Val Loss: 2.1603, Test Loss: 2.4387\n",
            "Epoch 49/150, Train Acc: 45.69%, Val Acc: 44.85%, Test Acc: 38.72%\n",
            "Epoch 49/150, Train Loss: 2.0290, Val Loss: 2.1536, Test Loss: 2.4321\n",
            "Checkpoint saved at epoch 50: ./checkpoint_epoch_50.pth\n"
          ]
        },
        {
          "output_type": "display_data",
          "data": {
            "text/plain": [
              "<IPython.core.display.Javascript object>"
            ],
            "application/javascript": [
              "\n",
              "    async function download(id, filename, size) {\n",
              "      if (!google.colab.kernel.accessAllowed) {\n",
              "        return;\n",
              "      }\n",
              "      const div = document.createElement('div');\n",
              "      const label = document.createElement('label');\n",
              "      label.textContent = `Downloading \"${filename}\": `;\n",
              "      div.appendChild(label);\n",
              "      const progress = document.createElement('progress');\n",
              "      progress.max = size;\n",
              "      div.appendChild(progress);\n",
              "      document.body.appendChild(div);\n",
              "\n",
              "      const buffers = [];\n",
              "      let downloaded = 0;\n",
              "\n",
              "      const channel = await google.colab.kernel.comms.open(id);\n",
              "      // Send a message to notify the kernel that we're ready.\n",
              "      channel.send({})\n",
              "\n",
              "      for await (const message of channel.messages) {\n",
              "        // Send a message to notify the kernel that we're ready.\n",
              "        channel.send({})\n",
              "        if (message.buffers) {\n",
              "          for (const buffer of message.buffers) {\n",
              "            buffers.push(buffer);\n",
              "            downloaded += buffer.byteLength;\n",
              "            progress.value = downloaded;\n",
              "          }\n",
              "        }\n",
              "      }\n",
              "      const blob = new Blob(buffers, {type: 'application/binary'});\n",
              "      const a = document.createElement('a');\n",
              "      a.href = window.URL.createObjectURL(blob);\n",
              "      a.download = filename;\n",
              "      div.appendChild(a);\n",
              "      a.click();\n",
              "      div.remove();\n",
              "    }\n",
              "  "
            ]
          },
          "metadata": {}
        },
        {
          "output_type": "display_data",
          "data": {
            "text/plain": [
              "<IPython.core.display.Javascript object>"
            ],
            "application/javascript": [
              "download(\"download_4c1fa426-5763-4c0c-9353-89eef608c9d0\", \"checkpoint_epoch_50.pth\", 9797102)"
            ]
          },
          "metadata": {}
        },
        {
          "output_type": "stream",
          "name": "stdout",
          "text": [
            "Epoch 50/150, Train Acc: 46.57%, Val Acc: 44.57%, Test Acc: 38.36%\n",
            "Epoch 50/150, Train Loss: 2.0006, Val Loss: 2.1665, Test Loss: 2.4800\n",
            "Epoch 51/150, Train Acc: 46.31%, Val Acc: 44.31%, Test Acc: 38.14%\n",
            "Epoch 51/150, Train Loss: 2.0001, Val Loss: 2.1610, Test Loss: 2.4952\n",
            "Epoch 52/150, Train Acc: 46.82%, Val Acc: 44.09%, Test Acc: 39.23%\n",
            "Epoch 52/150, Train Loss: 1.9894, Val Loss: 2.1681, Test Loss: 2.4099\n",
            "Epoch 53/150, Train Acc: 47.55%, Val Acc: 44.96%, Test Acc: 39.08%\n",
            "Epoch 53/150, Train Loss: 1.9609, Val Loss: 2.1423, Test Loss: 2.4504\n",
            "Epoch 54/150, Train Acc: 47.73%, Val Acc: 45.22%, Test Acc: 38.41%\n",
            "Epoch 54/150, Train Loss: 1.9536, Val Loss: 2.1357, Test Loss: 2.4852\n",
            "Epoch 55/150, Train Acc: 47.40%, Val Acc: 44.80%, Test Acc: 39.16%\n",
            "Epoch 55/150, Train Loss: 1.9440, Val Loss: 2.1557, Test Loss: 2.4472\n",
            "Epoch 56/150, Train Acc: 48.23%, Val Acc: 45.32%, Test Acc: 38.82%\n",
            "Epoch 56/150, Train Loss: 1.9275, Val Loss: 2.1454, Test Loss: 2.4795\n",
            "Epoch 57/150, Train Acc: 48.08%, Val Acc: 45.56%, Test Acc: 39.98%\n",
            "Epoch 57/150, Train Loss: 1.9212, Val Loss: 2.1445, Test Loss: 2.4217\n",
            "Epoch 58/150, Train Acc: 48.84%, Val Acc: 45.21%, Test Acc: 39.55%\n",
            "Epoch 58/150, Train Loss: 1.8924, Val Loss: 2.1272, Test Loss: 2.4039\n",
            "Epoch 59/150, Train Acc: 49.12%, Val Acc: 45.48%, Test Acc: 39.33%\n",
            "Epoch 59/150, Train Loss: 1.8934, Val Loss: 2.1324, Test Loss: 2.4436\n",
            "Checkpoint saved at epoch 60: ./checkpoint_epoch_60.pth\n"
          ]
        },
        {
          "output_type": "display_data",
          "data": {
            "text/plain": [
              "<IPython.core.display.Javascript object>"
            ],
            "application/javascript": [
              "\n",
              "    async function download(id, filename, size) {\n",
              "      if (!google.colab.kernel.accessAllowed) {\n",
              "        return;\n",
              "      }\n",
              "      const div = document.createElement('div');\n",
              "      const label = document.createElement('label');\n",
              "      label.textContent = `Downloading \"${filename}\": `;\n",
              "      div.appendChild(label);\n",
              "      const progress = document.createElement('progress');\n",
              "      progress.max = size;\n",
              "      div.appendChild(progress);\n",
              "      document.body.appendChild(div);\n",
              "\n",
              "      const buffers = [];\n",
              "      let downloaded = 0;\n",
              "\n",
              "      const channel = await google.colab.kernel.comms.open(id);\n",
              "      // Send a message to notify the kernel that we're ready.\n",
              "      channel.send({})\n",
              "\n",
              "      for await (const message of channel.messages) {\n",
              "        // Send a message to notify the kernel that we're ready.\n",
              "        channel.send({})\n",
              "        if (message.buffers) {\n",
              "          for (const buffer of message.buffers) {\n",
              "            buffers.push(buffer);\n",
              "            downloaded += buffer.byteLength;\n",
              "            progress.value = downloaded;\n",
              "          }\n",
              "        }\n",
              "      }\n",
              "      const blob = new Blob(buffers, {type: 'application/binary'});\n",
              "      const a = document.createElement('a');\n",
              "      a.href = window.URL.createObjectURL(blob);\n",
              "      a.download = filename;\n",
              "      div.appendChild(a);\n",
              "      a.click();\n",
              "      div.remove();\n",
              "    }\n",
              "  "
            ]
          },
          "metadata": {}
        },
        {
          "output_type": "display_data",
          "data": {
            "text/plain": [
              "<IPython.core.display.Javascript object>"
            ],
            "application/javascript": [
              "download(\"download_b3178de3-fea5-4798-87d9-b33e0192df39\", \"checkpoint_epoch_60.pth\", 9797102)"
            ]
          },
          "metadata": {}
        },
        {
          "output_type": "stream",
          "name": "stdout",
          "text": [
            "Epoch 60/150, Train Acc: 48.66%, Val Acc: 45.27%, Test Acc: 39.20%\n",
            "Epoch 60/150, Train Loss: 1.8985, Val Loss: 2.1236, Test Loss: 2.4644\n",
            "Epoch 61/150, Train Acc: 49.32%, Val Acc: 45.80%, Test Acc: 39.67%\n",
            "Epoch 61/150, Train Loss: 1.8683, Val Loss: 2.1346, Test Loss: 2.4177\n",
            "Epoch 62/150, Train Acc: 49.52%, Val Acc: 45.29%, Test Acc: 39.78%\n",
            "Epoch 62/150, Train Loss: 1.8726, Val Loss: 2.1335, Test Loss: 2.4451\n",
            "Epoch 63/150, Train Acc: 49.77%, Val Acc: 45.15%, Test Acc: 39.41%\n",
            "Epoch 63/150, Train Loss: 1.8540, Val Loss: 2.1399, Test Loss: 2.5000\n",
            "Epoch 64/150, Train Acc: 49.82%, Val Acc: 45.80%, Test Acc: 40.38%\n",
            "Epoch 64/150, Train Loss: 1.8526, Val Loss: 2.1396, Test Loss: 2.4317\n",
            "Epoch 65/150, Train Acc: 49.76%, Val Acc: 45.80%, Test Acc: 40.77%\n",
            "Epoch 65/150, Train Loss: 1.8484, Val Loss: 2.1365, Test Loss: 2.4276\n",
            "Epoch 66/150, Train Acc: 50.17%, Val Acc: 46.56%, Test Acc: 41.15%\n",
            "Epoch 66/150, Train Loss: 1.8352, Val Loss: 2.1316, Test Loss: 2.3394\n",
            "Epoch 67/150, Train Acc: 50.23%, Val Acc: 45.94%, Test Acc: 40.02%\n",
            "Epoch 67/150, Train Loss: 1.8337, Val Loss: 2.1380, Test Loss: 2.4442\n",
            "Epoch 68/150, Train Acc: 50.91%, Val Acc: 45.94%, Test Acc: 39.81%\n",
            "Epoch 68/150, Train Loss: 1.8097, Val Loss: 2.1314, Test Loss: 2.4303\n",
            "Epoch 69/150, Train Acc: 50.66%, Val Acc: 46.01%, Test Acc: 40.08%\n",
            "Epoch 69/150, Train Loss: 1.8041, Val Loss: 2.1096, Test Loss: 2.4172\n",
            "Checkpoint saved at epoch 70: ./checkpoint_epoch_70.pth\n"
          ]
        },
        {
          "output_type": "display_data",
          "data": {
            "text/plain": [
              "<IPython.core.display.Javascript object>"
            ],
            "application/javascript": [
              "\n",
              "    async function download(id, filename, size) {\n",
              "      if (!google.colab.kernel.accessAllowed) {\n",
              "        return;\n",
              "      }\n",
              "      const div = document.createElement('div');\n",
              "      const label = document.createElement('label');\n",
              "      label.textContent = `Downloading \"${filename}\": `;\n",
              "      div.appendChild(label);\n",
              "      const progress = document.createElement('progress');\n",
              "      progress.max = size;\n",
              "      div.appendChild(progress);\n",
              "      document.body.appendChild(div);\n",
              "\n",
              "      const buffers = [];\n",
              "      let downloaded = 0;\n",
              "\n",
              "      const channel = await google.colab.kernel.comms.open(id);\n",
              "      // Send a message to notify the kernel that we're ready.\n",
              "      channel.send({})\n",
              "\n",
              "      for await (const message of channel.messages) {\n",
              "        // Send a message to notify the kernel that we're ready.\n",
              "        channel.send({})\n",
              "        if (message.buffers) {\n",
              "          for (const buffer of message.buffers) {\n",
              "            buffers.push(buffer);\n",
              "            downloaded += buffer.byteLength;\n",
              "            progress.value = downloaded;\n",
              "          }\n",
              "        }\n",
              "      }\n",
              "      const blob = new Blob(buffers, {type: 'application/binary'});\n",
              "      const a = document.createElement('a');\n",
              "      a.href = window.URL.createObjectURL(blob);\n",
              "      a.download = filename;\n",
              "      div.appendChild(a);\n",
              "      a.click();\n",
              "      div.remove();\n",
              "    }\n",
              "  "
            ]
          },
          "metadata": {}
        },
        {
          "output_type": "display_data",
          "data": {
            "text/plain": [
              "<IPython.core.display.Javascript object>"
            ],
            "application/javascript": [
              "download(\"download_7f51793f-dbcb-4e75-af65-da32f870cf93\", \"checkpoint_epoch_70.pth\", 9797102)"
            ]
          },
          "metadata": {}
        },
        {
          "output_type": "stream",
          "name": "stdout",
          "text": [
            "Epoch 70/150, Train Acc: 51.19%, Val Acc: 46.38%, Test Acc: 40.52%\n",
            "Epoch 70/150, Train Loss: 1.7885, Val Loss: 2.1156, Test Loss: 2.3873\n",
            "Epoch 71/150, Train Acc: 51.03%, Val Acc: 46.05%, Test Acc: 40.52%\n",
            "Epoch 71/150, Train Loss: 1.7957, Val Loss: 2.1087, Test Loss: 2.3801\n",
            "Epoch 72/150, Train Acc: 51.20%, Val Acc: 46.25%, Test Acc: 40.77%\n",
            "Epoch 72/150, Train Loss: 1.7842, Val Loss: 2.1194, Test Loss: 2.4226\n",
            "Epoch 73/150, Train Acc: 51.27%, Val Acc: 46.39%, Test Acc: 39.93%\n",
            "Epoch 73/150, Train Loss: 1.7854, Val Loss: 2.1099, Test Loss: 2.4360\n",
            "Epoch 74/150, Train Acc: 51.89%, Val Acc: 46.22%, Test Acc: 40.92%\n",
            "Epoch 74/150, Train Loss: 1.7697, Val Loss: 2.1151, Test Loss: 2.3843\n",
            "Epoch 75/150, Train Acc: 51.90%, Val Acc: 46.88%, Test Acc: 41.36%\n",
            "Epoch 75/150, Train Loss: 1.7698, Val Loss: 2.1106, Test Loss: 2.3519\n",
            "Epoch 76/150, Train Acc: 51.71%, Val Acc: 46.63%, Test Acc: 40.92%\n",
            "Epoch 76/150, Train Loss: 1.7742, Val Loss: 2.1151, Test Loss: 2.3895\n",
            "Epoch 77/150, Train Acc: 52.25%, Val Acc: 46.69%, Test Acc: 41.34%\n",
            "Epoch 77/150, Train Loss: 1.7442, Val Loss: 2.1020, Test Loss: 2.3388\n",
            "Epoch 78/150, Train Acc: 52.35%, Val Acc: 46.82%, Test Acc: 41.16%\n",
            "Epoch 78/150, Train Loss: 1.7464, Val Loss: 2.1088, Test Loss: 2.3766\n",
            "Epoch 79/150, Train Acc: 52.56%, Val Acc: 46.71%, Test Acc: 40.41%\n",
            "Epoch 79/150, Train Loss: 1.7335, Val Loss: 2.1099, Test Loss: 2.4211\n",
            "Checkpoint saved at epoch 80: ./checkpoint_epoch_80.pth\n"
          ]
        },
        {
          "output_type": "display_data",
          "data": {
            "text/plain": [
              "<IPython.core.display.Javascript object>"
            ],
            "application/javascript": [
              "\n",
              "    async function download(id, filename, size) {\n",
              "      if (!google.colab.kernel.accessAllowed) {\n",
              "        return;\n",
              "      }\n",
              "      const div = document.createElement('div');\n",
              "      const label = document.createElement('label');\n",
              "      label.textContent = `Downloading \"${filename}\": `;\n",
              "      div.appendChild(label);\n",
              "      const progress = document.createElement('progress');\n",
              "      progress.max = size;\n",
              "      div.appendChild(progress);\n",
              "      document.body.appendChild(div);\n",
              "\n",
              "      const buffers = [];\n",
              "      let downloaded = 0;\n",
              "\n",
              "      const channel = await google.colab.kernel.comms.open(id);\n",
              "      // Send a message to notify the kernel that we're ready.\n",
              "      channel.send({})\n",
              "\n",
              "      for await (const message of channel.messages) {\n",
              "        // Send a message to notify the kernel that we're ready.\n",
              "        channel.send({})\n",
              "        if (message.buffers) {\n",
              "          for (const buffer of message.buffers) {\n",
              "            buffers.push(buffer);\n",
              "            downloaded += buffer.byteLength;\n",
              "            progress.value = downloaded;\n",
              "          }\n",
              "        }\n",
              "      }\n",
              "      const blob = new Blob(buffers, {type: 'application/binary'});\n",
              "      const a = document.createElement('a');\n",
              "      a.href = window.URL.createObjectURL(blob);\n",
              "      a.download = filename;\n",
              "      div.appendChild(a);\n",
              "      a.click();\n",
              "      div.remove();\n",
              "    }\n",
              "  "
            ]
          },
          "metadata": {}
        },
        {
          "output_type": "display_data",
          "data": {
            "text/plain": [
              "<IPython.core.display.Javascript object>"
            ],
            "application/javascript": [
              "download(\"download_94827a09-6226-474a-82c2-7387fbfe7164\", \"checkpoint_epoch_80.pth\", 9797102)"
            ]
          },
          "metadata": {}
        },
        {
          "output_type": "stream",
          "name": "stdout",
          "text": [
            "Epoch 80/150, Train Acc: 52.73%, Val Acc: 47.07%, Test Acc: 40.58%\n",
            "Epoch 80/150, Train Loss: 1.7343, Val Loss: 2.1073, Test Loss: 2.4150\n",
            "Epoch 81/150, Train Acc: 52.85%, Val Acc: 47.33%, Test Acc: 40.77%\n",
            "Epoch 81/150, Train Loss: 1.7241, Val Loss: 2.0990, Test Loss: 2.3767\n",
            "Epoch 82/150, Train Acc: 53.49%, Val Acc: 46.53%, Test Acc: 40.04%\n",
            "Epoch 82/150, Train Loss: 1.6949, Val Loss: 2.1170, Test Loss: 2.4470\n",
            "Epoch 83/150, Train Acc: 53.29%, Val Acc: 46.74%, Test Acc: 40.50%\n",
            "Epoch 83/150, Train Loss: 1.7044, Val Loss: 2.1042, Test Loss: 2.4112\n",
            "Epoch 84/150, Train Acc: 53.32%, Val Acc: 47.21%, Test Acc: 41.15%\n",
            "Epoch 84/150, Train Loss: 1.6921, Val Loss: 2.1015, Test Loss: 2.3912\n",
            "Epoch 85/150, Train Acc: 53.29%, Val Acc: 47.24%, Test Acc: 41.20%\n",
            "Epoch 85/150, Train Loss: 1.6981, Val Loss: 2.1127, Test Loss: 2.4062\n",
            "Epoch 86/150, Train Acc: 53.26%, Val Acc: 46.97%, Test Acc: 41.19%\n",
            "Epoch 86/150, Train Loss: 1.7015, Val Loss: 2.0978, Test Loss: 2.4109\n",
            "Epoch 87/150, Train Acc: 53.76%, Val Acc: 47.25%, Test Acc: 41.49%\n",
            "Epoch 87/150, Train Loss: 1.6792, Val Loss: 2.0941, Test Loss: 2.3747\n",
            "Epoch 88/150, Train Acc: 54.42%, Val Acc: 46.80%, Test Acc: 40.78%\n",
            "Epoch 88/150, Train Loss: 1.6590, Val Loss: 2.1198, Test Loss: 2.4164\n",
            "Epoch 89/150, Train Acc: 54.40%, Val Acc: 46.98%, Test Acc: 40.64%\n",
            "Epoch 89/150, Train Loss: 1.6573, Val Loss: 2.1073, Test Loss: 2.4004\n",
            "Checkpoint saved at epoch 90: ./checkpoint_epoch_90.pth\n"
          ]
        },
        {
          "output_type": "display_data",
          "data": {
            "text/plain": [
              "<IPython.core.display.Javascript object>"
            ],
            "application/javascript": [
              "\n",
              "    async function download(id, filename, size) {\n",
              "      if (!google.colab.kernel.accessAllowed) {\n",
              "        return;\n",
              "      }\n",
              "      const div = document.createElement('div');\n",
              "      const label = document.createElement('label');\n",
              "      label.textContent = `Downloading \"${filename}\": `;\n",
              "      div.appendChild(label);\n",
              "      const progress = document.createElement('progress');\n",
              "      progress.max = size;\n",
              "      div.appendChild(progress);\n",
              "      document.body.appendChild(div);\n",
              "\n",
              "      const buffers = [];\n",
              "      let downloaded = 0;\n",
              "\n",
              "      const channel = await google.colab.kernel.comms.open(id);\n",
              "      // Send a message to notify the kernel that we're ready.\n",
              "      channel.send({})\n",
              "\n",
              "      for await (const message of channel.messages) {\n",
              "        // Send a message to notify the kernel that we're ready.\n",
              "        channel.send({})\n",
              "        if (message.buffers) {\n",
              "          for (const buffer of message.buffers) {\n",
              "            buffers.push(buffer);\n",
              "            downloaded += buffer.byteLength;\n",
              "            progress.value = downloaded;\n",
              "          }\n",
              "        }\n",
              "      }\n",
              "      const blob = new Blob(buffers, {type: 'application/binary'});\n",
              "      const a = document.createElement('a');\n",
              "      a.href = window.URL.createObjectURL(blob);\n",
              "      a.download = filename;\n",
              "      div.appendChild(a);\n",
              "      a.click();\n",
              "      div.remove();\n",
              "    }\n",
              "  "
            ]
          },
          "metadata": {}
        },
        {
          "output_type": "display_data",
          "data": {
            "text/plain": [
              "<IPython.core.display.Javascript object>"
            ],
            "application/javascript": [
              "download(\"download_562db468-6089-41d2-8fd9-e68110c4b396\", \"checkpoint_epoch_90.pth\", 9797102)"
            ]
          },
          "metadata": {}
        },
        {
          "output_type": "stream",
          "name": "stdout",
          "text": [
            "Epoch 90/150, Train Acc: 54.36%, Val Acc: 47.37%, Test Acc: 41.52%\n",
            "Epoch 90/150, Train Loss: 1.6584, Val Loss: 2.1009, Test Loss: 2.3675\n",
            "Epoch 91/150, Train Acc: 54.36%, Val Acc: 46.74%, Test Acc: 39.87%\n",
            "Epoch 91/150, Train Loss: 1.6663, Val Loss: 2.1159, Test Loss: 2.4559\n",
            "Epoch 92/150, Train Acc: 54.21%, Val Acc: 47.08%, Test Acc: 41.00%\n",
            "Epoch 92/150, Train Loss: 1.6665, Val Loss: 2.0926, Test Loss: 2.4022\n",
            "Epoch 93/150, Train Acc: 54.37%, Val Acc: 47.20%, Test Acc: 41.81%\n",
            "Epoch 93/150, Train Loss: 1.6548, Val Loss: 2.1094, Test Loss: 2.3514\n",
            "Epoch 94/150, Train Acc: 54.66%, Val Acc: 47.19%, Test Acc: 41.02%\n",
            "Epoch 94/150, Train Loss: 1.6430, Val Loss: 2.0932, Test Loss: 2.3792\n",
            "Epoch 95/150, Train Acc: 55.06%, Val Acc: 47.72%, Test Acc: 41.32%\n",
            "Epoch 95/150, Train Loss: 1.6259, Val Loss: 2.0995, Test Loss: 2.4054\n",
            "Epoch 96/150, Train Acc: 55.09%, Val Acc: 46.95%, Test Acc: 40.78%\n",
            "Epoch 96/150, Train Loss: 1.6255, Val Loss: 2.1174, Test Loss: 2.4105\n",
            "Epoch 97/150, Train Acc: 55.41%, Val Acc: 47.21%, Test Acc: 40.94%\n",
            "Epoch 97/150, Train Loss: 1.6140, Val Loss: 2.1171, Test Loss: 2.4317\n",
            "Epoch 98/150, Train Acc: 55.12%, Val Acc: 47.43%, Test Acc: 41.56%\n",
            "Epoch 98/150, Train Loss: 1.6225, Val Loss: 2.0977, Test Loss: 2.3794\n",
            "Epoch 99/150, Train Acc: 55.52%, Val Acc: 47.55%, Test Acc: 41.84%\n",
            "Epoch 99/150, Train Loss: 1.6070, Val Loss: 2.0911, Test Loss: 2.3547\n",
            "Checkpoint saved at epoch 100: ./checkpoint_epoch_100.pth\n"
          ]
        },
        {
          "output_type": "display_data",
          "data": {
            "text/plain": [
              "<IPython.core.display.Javascript object>"
            ],
            "application/javascript": [
              "\n",
              "    async function download(id, filename, size) {\n",
              "      if (!google.colab.kernel.accessAllowed) {\n",
              "        return;\n",
              "      }\n",
              "      const div = document.createElement('div');\n",
              "      const label = document.createElement('label');\n",
              "      label.textContent = `Downloading \"${filename}\": `;\n",
              "      div.appendChild(label);\n",
              "      const progress = document.createElement('progress');\n",
              "      progress.max = size;\n",
              "      div.appendChild(progress);\n",
              "      document.body.appendChild(div);\n",
              "\n",
              "      const buffers = [];\n",
              "      let downloaded = 0;\n",
              "\n",
              "      const channel = await google.colab.kernel.comms.open(id);\n",
              "      // Send a message to notify the kernel that we're ready.\n",
              "      channel.send({})\n",
              "\n",
              "      for await (const message of channel.messages) {\n",
              "        // Send a message to notify the kernel that we're ready.\n",
              "        channel.send({})\n",
              "        if (message.buffers) {\n",
              "          for (const buffer of message.buffers) {\n",
              "            buffers.push(buffer);\n",
              "            downloaded += buffer.byteLength;\n",
              "            progress.value = downloaded;\n",
              "          }\n",
              "        }\n",
              "      }\n",
              "      const blob = new Blob(buffers, {type: 'application/binary'});\n",
              "      const a = document.createElement('a');\n",
              "      a.href = window.URL.createObjectURL(blob);\n",
              "      a.download = filename;\n",
              "      div.appendChild(a);\n",
              "      a.click();\n",
              "      div.remove();\n",
              "    }\n",
              "  "
            ]
          },
          "metadata": {}
        },
        {
          "output_type": "display_data",
          "data": {
            "text/plain": [
              "<IPython.core.display.Javascript object>"
            ],
            "application/javascript": [
              "download(\"download_dcca125a-2a76-413c-b0e8-3db1fbbc52fd\", \"checkpoint_epoch_100.pth\", 9797146)"
            ]
          },
          "metadata": {}
        },
        {
          "output_type": "stream",
          "name": "stdout",
          "text": [
            "Epoch 100/150, Train Acc: 55.66%, Val Acc: 47.46%, Test Acc: 41.98%\n",
            "Epoch 100/150, Train Loss: 1.6005, Val Loss: 2.0904, Test Loss: 2.3789\n",
            "Epoch 101/150, Train Acc: 56.20%, Val Acc: 47.67%, Test Acc: 42.54%\n",
            "Epoch 101/150, Train Loss: 1.5810, Val Loss: 2.0909, Test Loss: 2.3524\n",
            "Epoch 102/150, Train Acc: 55.79%, Val Acc: 47.95%, Test Acc: 40.96%\n",
            "Epoch 102/150, Train Loss: 1.5958, Val Loss: 2.0978, Test Loss: 2.4325\n",
            "Epoch 103/150, Train Acc: 55.78%, Val Acc: 48.23%, Test Acc: 41.94%\n",
            "Epoch 103/150, Train Loss: 1.5915, Val Loss: 2.0914, Test Loss: 2.3791\n",
            "Epoch 104/150, Train Acc: 56.34%, Val Acc: 47.79%, Test Acc: 41.78%\n",
            "Epoch 104/150, Train Loss: 1.5817, Val Loss: 2.1020, Test Loss: 2.4071\n",
            "Epoch 105/150, Train Acc: 56.55%, Val Acc: 48.14%, Test Acc: 41.83%\n",
            "Epoch 105/150, Train Loss: 1.5682, Val Loss: 2.1063, Test Loss: 2.3920\n",
            "Epoch 106/150, Train Acc: 56.58%, Val Acc: 48.16%, Test Acc: 42.19%\n",
            "Epoch 106/150, Train Loss: 1.5647, Val Loss: 2.1022, Test Loss: 2.3943\n",
            "Epoch 107/150, Train Acc: 56.92%, Val Acc: 48.27%, Test Acc: 42.79%\n",
            "Epoch 107/150, Train Loss: 1.5674, Val Loss: 2.1039, Test Loss: 2.3552\n",
            "Epoch 108/150, Train Acc: 56.60%, Val Acc: 47.88%, Test Acc: 41.62%\n",
            "Epoch 108/150, Train Loss: 1.5587, Val Loss: 2.0854, Test Loss: 2.3753\n",
            "Epoch 109/150, Train Acc: 56.95%, Val Acc: 47.98%, Test Acc: 41.75%\n",
            "Epoch 109/150, Train Loss: 1.5553, Val Loss: 2.0834, Test Loss: 2.3765\n",
            "Checkpoint saved at epoch 110: ./checkpoint_epoch_110.pth\n"
          ]
        },
        {
          "output_type": "display_data",
          "data": {
            "text/plain": [
              "<IPython.core.display.Javascript object>"
            ],
            "application/javascript": [
              "\n",
              "    async function download(id, filename, size) {\n",
              "      if (!google.colab.kernel.accessAllowed) {\n",
              "        return;\n",
              "      }\n",
              "      const div = document.createElement('div');\n",
              "      const label = document.createElement('label');\n",
              "      label.textContent = `Downloading \"${filename}\": `;\n",
              "      div.appendChild(label);\n",
              "      const progress = document.createElement('progress');\n",
              "      progress.max = size;\n",
              "      div.appendChild(progress);\n",
              "      document.body.appendChild(div);\n",
              "\n",
              "      const buffers = [];\n",
              "      let downloaded = 0;\n",
              "\n",
              "      const channel = await google.colab.kernel.comms.open(id);\n",
              "      // Send a message to notify the kernel that we're ready.\n",
              "      channel.send({})\n",
              "\n",
              "      for await (const message of channel.messages) {\n",
              "        // Send a message to notify the kernel that we're ready.\n",
              "        channel.send({})\n",
              "        if (message.buffers) {\n",
              "          for (const buffer of message.buffers) {\n",
              "            buffers.push(buffer);\n",
              "            downloaded += buffer.byteLength;\n",
              "            progress.value = downloaded;\n",
              "          }\n",
              "        }\n",
              "      }\n",
              "      const blob = new Blob(buffers, {type: 'application/binary'});\n",
              "      const a = document.createElement('a');\n",
              "      a.href = window.URL.createObjectURL(blob);\n",
              "      a.download = filename;\n",
              "      div.appendChild(a);\n",
              "      a.click();\n",
              "      div.remove();\n",
              "    }\n",
              "  "
            ]
          },
          "metadata": {}
        },
        {
          "output_type": "display_data",
          "data": {
            "text/plain": [
              "<IPython.core.display.Javascript object>"
            ],
            "application/javascript": [
              "download(\"download_a620d416-8135-411f-a872-dcb8fb2bcd50\", \"checkpoint_epoch_110.pth\", 9797146)"
            ]
          },
          "metadata": {}
        },
        {
          "output_type": "stream",
          "name": "stdout",
          "text": [
            "Epoch 110/150, Train Acc: 56.67%, Val Acc: 47.99%, Test Acc: 41.79%\n",
            "Epoch 110/150, Train Loss: 1.5583, Val Loss: 2.0953, Test Loss: 2.3911\n",
            "Epoch 111/150, Train Acc: 57.12%, Val Acc: 47.60%, Test Acc: 42.12%\n",
            "Epoch 111/150, Train Loss: 1.5434, Val Loss: 2.1013, Test Loss: 2.3588\n",
            "Epoch 112/150, Train Acc: 57.03%, Val Acc: 47.98%, Test Acc: 42.19%\n",
            "Epoch 112/150, Train Loss: 1.5489, Val Loss: 2.0948, Test Loss: 2.3706\n",
            "Epoch 113/150, Train Acc: 57.52%, Val Acc: 47.79%, Test Acc: 41.58%\n",
            "Epoch 113/150, Train Loss: 1.5301, Val Loss: 2.0928, Test Loss: 2.3822\n",
            "Epoch 114/150, Train Acc: 57.45%, Val Acc: 48.37%, Test Acc: 42.71%\n",
            "Epoch 114/150, Train Loss: 1.5326, Val Loss: 2.0975, Test Loss: 2.3504\n",
            "Epoch 115/150, Train Acc: 57.87%, Val Acc: 48.16%, Test Acc: 41.84%\n",
            "Epoch 115/150, Train Loss: 1.5144, Val Loss: 2.1033, Test Loss: 2.4046\n",
            "Epoch 116/150, Train Acc: 57.59%, Val Acc: 47.94%, Test Acc: 41.07%\n",
            "Epoch 116/150, Train Loss: 1.5264, Val Loss: 2.0998, Test Loss: 2.4203\n",
            "Epoch 117/150, Train Acc: 57.56%, Val Acc: 48.64%, Test Acc: 42.06%\n",
            "Epoch 117/150, Train Loss: 1.5197, Val Loss: 2.1017, Test Loss: 2.4001\n",
            "Epoch 118/150, Train Acc: 57.56%, Val Acc: 48.52%, Test Acc: 42.46%\n",
            "Epoch 118/150, Train Loss: 1.5220, Val Loss: 2.0955, Test Loss: 2.3630\n",
            "Epoch 119/150, Train Acc: 58.05%, Val Acc: 48.77%, Test Acc: 42.34%\n",
            "Epoch 119/150, Train Loss: 1.4986, Val Loss: 2.0909, Test Loss: 2.3827\n",
            "Checkpoint saved at epoch 120: ./checkpoint_epoch_120.pth\n"
          ]
        },
        {
          "output_type": "display_data",
          "data": {
            "text/plain": [
              "<IPython.core.display.Javascript object>"
            ],
            "application/javascript": [
              "\n",
              "    async function download(id, filename, size) {\n",
              "      if (!google.colab.kernel.accessAllowed) {\n",
              "        return;\n",
              "      }\n",
              "      const div = document.createElement('div');\n",
              "      const label = document.createElement('label');\n",
              "      label.textContent = `Downloading \"${filename}\": `;\n",
              "      div.appendChild(label);\n",
              "      const progress = document.createElement('progress');\n",
              "      progress.max = size;\n",
              "      div.appendChild(progress);\n",
              "      document.body.appendChild(div);\n",
              "\n",
              "      const buffers = [];\n",
              "      let downloaded = 0;\n",
              "\n",
              "      const channel = await google.colab.kernel.comms.open(id);\n",
              "      // Send a message to notify the kernel that we're ready.\n",
              "      channel.send({})\n",
              "\n",
              "      for await (const message of channel.messages) {\n",
              "        // Send a message to notify the kernel that we're ready.\n",
              "        channel.send({})\n",
              "        if (message.buffers) {\n",
              "          for (const buffer of message.buffers) {\n",
              "            buffers.push(buffer);\n",
              "            downloaded += buffer.byteLength;\n",
              "            progress.value = downloaded;\n",
              "          }\n",
              "        }\n",
              "      }\n",
              "      const blob = new Blob(buffers, {type: 'application/binary'});\n",
              "      const a = document.createElement('a');\n",
              "      a.href = window.URL.createObjectURL(blob);\n",
              "      a.download = filename;\n",
              "      div.appendChild(a);\n",
              "      a.click();\n",
              "      div.remove();\n",
              "    }\n",
              "  "
            ]
          },
          "metadata": {}
        },
        {
          "output_type": "display_data",
          "data": {
            "text/plain": [
              "<IPython.core.display.Javascript object>"
            ],
            "application/javascript": [
              "download(\"download_e0246994-26f2-49f5-a08b-8476cda90665\", \"checkpoint_epoch_120.pth\", 9797146)"
            ]
          },
          "metadata": {}
        },
        {
          "output_type": "stream",
          "name": "stdout",
          "text": [
            "Epoch 120/150, Train Acc: 58.40%, Val Acc: 48.78%, Test Acc: 42.07%\n",
            "Epoch 120/150, Train Loss: 1.4904, Val Loss: 2.0827, Test Loss: 2.3679\n",
            "Epoch 121/150, Train Acc: 58.04%, Val Acc: 48.98%, Test Acc: 42.49%\n",
            "Epoch 121/150, Train Loss: 1.5001, Val Loss: 2.0939, Test Loss: 2.3822\n",
            "Epoch 122/150, Train Acc: 58.47%, Val Acc: 48.77%, Test Acc: 42.11%\n",
            "Epoch 122/150, Train Loss: 1.4923, Val Loss: 2.0961, Test Loss: 2.3996\n",
            "Epoch 123/150, Train Acc: 58.41%, Val Acc: 48.51%, Test Acc: 41.76%\n",
            "Epoch 123/150, Train Loss: 1.4889, Val Loss: 2.0873, Test Loss: 2.3788\n",
            "Epoch 124/150, Train Acc: 58.32%, Val Acc: 48.44%, Test Acc: 42.53%\n",
            "Epoch 124/150, Train Loss: 1.4901, Val Loss: 2.1027, Test Loss: 2.3636\n",
            "Epoch 125/150, Train Acc: 58.48%, Val Acc: 48.76%, Test Acc: 42.28%\n",
            "Epoch 125/150, Train Loss: 1.4895, Val Loss: 2.0878, Test Loss: 2.3641\n",
            "Epoch 126/150, Train Acc: 58.45%, Val Acc: 48.64%, Test Acc: 42.42%\n",
            "Epoch 126/150, Train Loss: 1.4794, Val Loss: 2.1007, Test Loss: 2.3812\n",
            "Epoch 127/150, Train Acc: 58.77%, Val Acc: 48.90%, Test Acc: 42.76%\n",
            "Epoch 127/150, Train Loss: 1.4759, Val Loss: 2.1081, Test Loss: 2.3660\n",
            "Epoch 128/150, Train Acc: 58.22%, Val Acc: 48.74%, Test Acc: 42.17%\n",
            "Epoch 128/150, Train Loss: 1.4769, Val Loss: 2.0963, Test Loss: 2.4008\n",
            "Epoch 129/150, Train Acc: 59.07%, Val Acc: 48.92%, Test Acc: 42.10%\n",
            "Epoch 129/150, Train Loss: 1.4679, Val Loss: 2.0898, Test Loss: 2.3781\n",
            "Checkpoint saved at epoch 130: ./checkpoint_epoch_130.pth\n"
          ]
        },
        {
          "output_type": "display_data",
          "data": {
            "text/plain": [
              "<IPython.core.display.Javascript object>"
            ],
            "application/javascript": [
              "\n",
              "    async function download(id, filename, size) {\n",
              "      if (!google.colab.kernel.accessAllowed) {\n",
              "        return;\n",
              "      }\n",
              "      const div = document.createElement('div');\n",
              "      const label = document.createElement('label');\n",
              "      label.textContent = `Downloading \"${filename}\": `;\n",
              "      div.appendChild(label);\n",
              "      const progress = document.createElement('progress');\n",
              "      progress.max = size;\n",
              "      div.appendChild(progress);\n",
              "      document.body.appendChild(div);\n",
              "\n",
              "      const buffers = [];\n",
              "      let downloaded = 0;\n",
              "\n",
              "      const channel = await google.colab.kernel.comms.open(id);\n",
              "      // Send a message to notify the kernel that we're ready.\n",
              "      channel.send({})\n",
              "\n",
              "      for await (const message of channel.messages) {\n",
              "        // Send a message to notify the kernel that we're ready.\n",
              "        channel.send({})\n",
              "        if (message.buffers) {\n",
              "          for (const buffer of message.buffers) {\n",
              "            buffers.push(buffer);\n",
              "            downloaded += buffer.byteLength;\n",
              "            progress.value = downloaded;\n",
              "          }\n",
              "        }\n",
              "      }\n",
              "      const blob = new Blob(buffers, {type: 'application/binary'});\n",
              "      const a = document.createElement('a');\n",
              "      a.href = window.URL.createObjectURL(blob);\n",
              "      a.download = filename;\n",
              "      div.appendChild(a);\n",
              "      a.click();\n",
              "      div.remove();\n",
              "    }\n",
              "  "
            ]
          },
          "metadata": {}
        },
        {
          "output_type": "display_data",
          "data": {
            "text/plain": [
              "<IPython.core.display.Javascript object>"
            ],
            "application/javascript": [
              "download(\"download_201d0fd4-fd7b-4ede-ac01-3cb13e5644ed\", \"checkpoint_epoch_130.pth\", 9797146)"
            ]
          },
          "metadata": {}
        },
        {
          "output_type": "stream",
          "name": "stdout",
          "text": [
            "Epoch 130/150, Train Acc: 58.97%, Val Acc: 48.82%, Test Acc: 42.54%\n",
            "Epoch 130/150, Train Loss: 1.4638, Val Loss: 2.0923, Test Loss: 2.3773\n",
            "Epoch 131/150, Train Acc: 59.05%, Val Acc: 48.83%, Test Acc: 42.33%\n",
            "Epoch 131/150, Train Loss: 1.4592, Val Loss: 2.0890, Test Loss: 2.3859\n",
            "Epoch 132/150, Train Acc: 59.52%, Val Acc: 48.61%, Test Acc: 42.70%\n",
            "Epoch 132/150, Train Loss: 1.4449, Val Loss: 2.0967, Test Loss: 2.3893\n",
            "Epoch 133/150, Train Acc: 59.72%, Val Acc: 49.09%, Test Acc: 42.20%\n",
            "Epoch 133/150, Train Loss: 1.4413, Val Loss: 2.0893, Test Loss: 2.3857\n",
            "Epoch 134/150, Train Acc: 59.27%, Val Acc: 48.98%, Test Acc: 42.31%\n",
            "Epoch 134/150, Train Loss: 1.4430, Val Loss: 2.0847, Test Loss: 2.3756\n",
            "Epoch 135/150, Train Acc: 59.54%, Val Acc: 48.78%, Test Acc: 42.46%\n",
            "Epoch 135/150, Train Loss: 1.4442, Val Loss: 2.0844, Test Loss: 2.3661\n",
            "Epoch 136/150, Train Acc: 59.61%, Val Acc: 48.98%, Test Acc: 43.00%\n",
            "Epoch 136/150, Train Loss: 1.4362, Val Loss: 2.0889, Test Loss: 2.3560\n",
            "Epoch 137/150, Train Acc: 59.49%, Val Acc: 48.97%, Test Acc: 42.15%\n",
            "Epoch 137/150, Train Loss: 1.4399, Val Loss: 2.0838, Test Loss: 2.3944\n",
            "Epoch 138/150, Train Acc: 59.42%, Val Acc: 49.26%, Test Acc: 42.61%\n",
            "Epoch 138/150, Train Loss: 1.4449, Val Loss: 2.0838, Test Loss: 2.3757\n",
            "Epoch 139/150, Train Acc: 60.16%, Val Acc: 49.20%, Test Acc: 42.95%\n",
            "Epoch 139/150, Train Loss: 1.4183, Val Loss: 2.0877, Test Loss: 2.3625\n",
            "Checkpoint saved at epoch 140: ./checkpoint_epoch_140.pth\n"
          ]
        },
        {
          "output_type": "display_data",
          "data": {
            "text/plain": [
              "<IPython.core.display.Javascript object>"
            ],
            "application/javascript": [
              "\n",
              "    async function download(id, filename, size) {\n",
              "      if (!google.colab.kernel.accessAllowed) {\n",
              "        return;\n",
              "      }\n",
              "      const div = document.createElement('div');\n",
              "      const label = document.createElement('label');\n",
              "      label.textContent = `Downloading \"${filename}\": `;\n",
              "      div.appendChild(label);\n",
              "      const progress = document.createElement('progress');\n",
              "      progress.max = size;\n",
              "      div.appendChild(progress);\n",
              "      document.body.appendChild(div);\n",
              "\n",
              "      const buffers = [];\n",
              "      let downloaded = 0;\n",
              "\n",
              "      const channel = await google.colab.kernel.comms.open(id);\n",
              "      // Send a message to notify the kernel that we're ready.\n",
              "      channel.send({})\n",
              "\n",
              "      for await (const message of channel.messages) {\n",
              "        // Send a message to notify the kernel that we're ready.\n",
              "        channel.send({})\n",
              "        if (message.buffers) {\n",
              "          for (const buffer of message.buffers) {\n",
              "            buffers.push(buffer);\n",
              "            downloaded += buffer.byteLength;\n",
              "            progress.value = downloaded;\n",
              "          }\n",
              "        }\n",
              "      }\n",
              "      const blob = new Blob(buffers, {type: 'application/binary'});\n",
              "      const a = document.createElement('a');\n",
              "      a.href = window.URL.createObjectURL(blob);\n",
              "      a.download = filename;\n",
              "      div.appendChild(a);\n",
              "      a.click();\n",
              "      div.remove();\n",
              "    }\n",
              "  "
            ]
          },
          "metadata": {}
        },
        {
          "output_type": "display_data",
          "data": {
            "text/plain": [
              "<IPython.core.display.Javascript object>"
            ],
            "application/javascript": [
              "download(\"download_c518652c-5ac8-4792-b677-4861d6023e84\", \"checkpoint_epoch_140.pth\", 9797146)"
            ]
          },
          "metadata": {}
        },
        {
          "output_type": "stream",
          "name": "stdout",
          "text": [
            "Epoch 140/150, Train Acc: 60.04%, Val Acc: 48.97%, Test Acc: 42.65%\n",
            "Epoch 140/150, Train Loss: 1.4216, Val Loss: 2.0853, Test Loss: 2.3651\n",
            "Epoch 141/150, Train Acc: 60.37%, Val Acc: 49.17%, Test Acc: 42.80%\n",
            "Epoch 141/150, Train Loss: 1.4235, Val Loss: 2.0919, Test Loss: 2.3586\n",
            "Epoch 142/150, Train Acc: 59.86%, Val Acc: 49.15%, Test Acc: 42.90%\n",
            "Epoch 142/150, Train Loss: 1.4229, Val Loss: 2.0871, Test Loss: 2.3691\n",
            "Epoch 143/150, Train Acc: 59.95%, Val Acc: 49.20%, Test Acc: 43.22%\n",
            "Epoch 143/150, Train Loss: 1.4180, Val Loss: 2.0795, Test Loss: 2.3491\n",
            "Epoch 144/150, Train Acc: 60.30%, Val Acc: 49.33%, Test Acc: 42.67%\n",
            "Epoch 144/150, Train Loss: 1.4159, Val Loss: 2.0795, Test Loss: 2.3659\n",
            "Epoch 145/150, Train Acc: 60.46%, Val Acc: 49.25%, Test Acc: 42.89%\n",
            "Epoch 145/150, Train Loss: 1.4046, Val Loss: 2.0799, Test Loss: 2.3545\n",
            "Epoch 146/150, Train Acc: 60.60%, Val Acc: 49.20%, Test Acc: 43.04%\n",
            "Epoch 146/150, Train Loss: 1.4076, Val Loss: 2.0820, Test Loss: 2.3752\n",
            "Epoch 147/150, Train Acc: 60.34%, Val Acc: 49.43%, Test Acc: 42.87%\n",
            "Epoch 147/150, Train Loss: 1.4029, Val Loss: 2.0792, Test Loss: 2.3727\n",
            "Epoch 148/150, Train Acc: 60.36%, Val Acc: 49.32%, Test Acc: 42.75%\n",
            "Epoch 148/150, Train Loss: 1.4074, Val Loss: 2.0781, Test Loss: 2.3648\n",
            "Epoch 149/150, Train Acc: 60.57%, Val Acc: 49.35%, Test Acc: 42.83%\n",
            "Epoch 149/150, Train Loss: 1.4045, Val Loss: 2.0797, Test Loss: 2.3707\n",
            "Checkpoint saved at epoch 150: ./checkpoint_epoch_150.pth\n"
          ]
        },
        {
          "output_type": "display_data",
          "data": {
            "text/plain": [
              "<IPython.core.display.Javascript object>"
            ],
            "application/javascript": [
              "\n",
              "    async function download(id, filename, size) {\n",
              "      if (!google.colab.kernel.accessAllowed) {\n",
              "        return;\n",
              "      }\n",
              "      const div = document.createElement('div');\n",
              "      const label = document.createElement('label');\n",
              "      label.textContent = `Downloading \"${filename}\": `;\n",
              "      div.appendChild(label);\n",
              "      const progress = document.createElement('progress');\n",
              "      progress.max = size;\n",
              "      div.appendChild(progress);\n",
              "      document.body.appendChild(div);\n",
              "\n",
              "      const buffers = [];\n",
              "      let downloaded = 0;\n",
              "\n",
              "      const channel = await google.colab.kernel.comms.open(id);\n",
              "      // Send a message to notify the kernel that we're ready.\n",
              "      channel.send({})\n",
              "\n",
              "      for await (const message of channel.messages) {\n",
              "        // Send a message to notify the kernel that we're ready.\n",
              "        channel.send({})\n",
              "        if (message.buffers) {\n",
              "          for (const buffer of message.buffers) {\n",
              "            buffers.push(buffer);\n",
              "            downloaded += buffer.byteLength;\n",
              "            progress.value = downloaded;\n",
              "          }\n",
              "        }\n",
              "      }\n",
              "      const blob = new Blob(buffers, {type: 'application/binary'});\n",
              "      const a = document.createElement('a');\n",
              "      a.href = window.URL.createObjectURL(blob);\n",
              "      a.download = filename;\n",
              "      div.appendChild(a);\n",
              "      a.click();\n",
              "      div.remove();\n",
              "    }\n",
              "  "
            ]
          },
          "metadata": {}
        },
        {
          "output_type": "display_data",
          "data": {
            "text/plain": [
              "<IPython.core.display.Javascript object>"
            ],
            "application/javascript": [
              "download(\"download_5b9c8933-2356-4915-bdc9-a87635d16c0c\", \"checkpoint_epoch_150.pth\", 9797146)"
            ]
          },
          "metadata": {}
        },
        {
          "output_type": "stream",
          "name": "stdout",
          "text": [
            "Epoch 150/150, Train Acc: 61.03%, Val Acc: 49.38%, Test Acc: 42.92%\n",
            "Epoch 150/150, Train Loss: 1.3897, Val Loss: 2.0785, Test Loss: 2.3642\n"
          ]
        },
        {
          "output_type": "display_data",
          "data": {
            "text/plain": [
              "<Figure size 600x400 with 1 Axes>"
            ],
            "image/png": "[encoded data removed]"
          },
          "metadata": {}
        },
        {
          "output_type": "display_data",
          "data": {
            "text/plain": [
              "<Figure size 600x400 with 1 Axes>"
            ],
            "image/png": "[encoded data removed]"
          },
          "metadata": {}
        },
        {
          "output_type": "display_data",
          "data": {
            "text/plain": [
              "<Figure size 600x400 with 1 Axes>"
            ],
            "image/png": "[encoded data removed]"
          },
          "metadata": {}
        },
        {
          "output_type": "display_data",
          "data": {
            "text/plain": [
              "<Figure size 600x400 with 1 Axes>"
            ],
            "image/png": "[encoded data removed]"
          },
          "metadata": {}
        },
        {
          "output_type": "display_data",
          "data": {
            "text/plain": [
              "<Figure size 600x400 with 1 Axes>"
            ],
            "image/png": "[encoded data removed]"
          },
          "metadata": {}
        },
        {
          "output_type": "display_data",
          "data": {
            "text/plain": [
              "<Figure size 600x400 with 1 Axes>"
            ],
            "image/png": "[encoded data removed]"
          },
          "metadata": {}
        },
        {
          "output_type": "display_data",
          "data": {
            "text/plain": [
              "<Figure size 640x480 with 0 Axes>"
            ]
          },
          "metadata": {}
        }
      ],
      "source": [
        "%run large_batch_training.py --optimizer AdamW --batch-size 2048 --weight-decay 1e-2"
      ]
    },
    {
      "cell_type": "code",
      "execution_count": null,
      "metadata": {
        "colab": {
          "base_uri": "https://localhost:8080/"
        },
        "id": "_Y8TL9oBZL18",
        "outputId": "54fc2f89-7e7d-461b-fce6-1f0da7310a06"
      },
      "outputs": [
        {
          "name": "stdout",
          "output_type": "stream",
          "text": [
            "Files already downloaded and verified\n",
            "Files already downloaded and verified\n",
            "--- Train with LARS ---\n"
          ]
        }
      ],
      "source": [
        "%run large_batch_training.py --optimizer LARS --batch-size 128 --weight-decay 4e-4"
      ]
    },
    {
      "cell_type": "code",
      "execution_count": null,
      "metadata": {
        "colab": {
          "base_uri": "https://localhost:8080/"
        },
        "id": "K_XY2BkhZOkY",
        "outputId": "544d096d-8fe3-4a77-f80b-1d489b5b49f3"
      },
      "outputs": [
        {
          "metadata": {
            "tags": null
          },
          "name": "stdout",
          "output_type": "stream",
          "text": [
            "Downloading https://www.cs.toronto.edu/~kriz/cifar-100-python.tar.gz to ./data/cifar-100-python.tar.gz\n"
          ]
        },
        {
          "metadata": {
            "tags": null
          },
          "name": "stderr",
          "output_type": "stream",
          "text": [
            "100%|██████████| 169M/169M [00:13<00:00, 12.9MB/s]\n"
          ]
        },
        {
          "metadata": {
            "tags": null
          },
          "name": "stdout",
          "output_type": "stream",
          "text": [
            "Extracting ./data/cifar-100-python.tar.gz to ./data\n",
            "Files already downloaded and verified\n",
            "Files already downloaded and verified\n",
            "Files already downloaded and verified\n",
            "--- Train with LAMB ---\n"
          ]
        },
        {
          "metadata": {
            "tags": null
          },
          "name": "stderr",
          "output_type": "stream",
          "text": [
            "/content/large_batch_training.py:160: UserWarning: This overload of add_ is deprecated:\n",
            "\tadd_(Number alpha, Tensor other)\n",
            "Consider using one of the following signatures instead:\n",
            "\tadd_(Tensor other, *, Number alpha = 1) (Triggered internally at ../torch/csrc/utils/python_arg_parser.cpp:1642.)\n",
            "  p.data.add_(-group['lr'] * trust_ratio, update)\n"
          ]
        },
        {
          "output_type": "stream",
          "name": "stdout",
          "text": [
            "Epoch 1/150, Train Acc: 1.37%, Val Acc: 2.22%, Test Acc: 1.85%\n",
            "Epoch 1/150, Train Loss: 4.6006, Val Loss: 4.5859, Test Loss: 4.5872\n",
            "Epoch 2/150, Train Acc: 2.80%, Val Acc: 4.85%, Test Acc: 3.54%\n",
            "Epoch 2/150, Train Loss: 4.5308, Val Loss: 4.3883, Test Loss: 4.4029\n",
            "Epoch 3/150, Train Acc: 5.07%, Val Acc: 7.16%, Test Acc: 6.44%\n",
            "Epoch 3/150, Train Loss: 4.3087, Val Loss: 4.1121, Test Loss: 4.1572\n",
            "Epoch 4/150, Train Acc: 6.55%, Val Acc: 8.58%, Test Acc: 8.44%\n",
            "Epoch 4/150, Train Loss: 4.1789, Val Loss: 4.0101, Test Loss: 4.0461\n",
            "Warmup phase completed at epoch 5. Switching to constant learning rate.\n",
            "Epoch 5/150, Train Acc: 7.71%, Val Acc: 10.98%, Test Acc: 10.01%\n",
            "Epoch 5/150, Train Loss: 4.1004, Val Loss: 3.9210, Test Loss: 3.9642\n"
          ]
        }
      ],
      "source": [
        "%run large_batch_training.py --optimizer LAMB --batch-size 128 --weight-decay 1e-2"
      ]
    }
  ],
  "metadata": {
    "accelerator": "GPU",
    "colab": {
      "gpuType": "T4",
      "provenance": []
    },
    "kernelspec": {
      "display_name": "Python 3",
      "name": "python3"
    },
    "language_info": {
      "name": "python"
    }
  },
  "nbformat": 4,
  "nbformat_minor": 0
}