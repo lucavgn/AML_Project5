{
  "cells": [
    {
      "cell_type": "code",
      "execution_count": 3,
      "metadata": {
        "colab": {
          "base_uri": "https://localhost:8080/"
        },
        "id": "LtOx0ESVnO0u",
        "outputId": "be5b0703-cc99-4eae-ce46-d1b91b832f48"
      },
      "outputs": [
        {
          "output_type": "stream",
          "name": "stdout",
          "text": [
            "Overwriting large_batch_training.py\n"
          ]
        }
      ],
      "source": [
        "%%writefile large_batch_training.py\n",
        "\n",
        "import os\n",
        "import numpy as np\n",
        "import torch\n",
        "import torch.nn as nn\n",
        "import torch.optim as optim\n",
        "import torchvision\n",
        "import torchvision.transforms as transforms\n",
        "import matplotlib.pyplot as plt\n",
        "import argparse\n",
        "from torch.utils.data import random_split\n",
        "from google.colab import files\n",
        "\n",
        "def compute_mean_std(dataset):\n",
        "    \"\"\"Compute the mean and std of CIFAR-100 dataset.\n",
        "\n",
        "    Args:\n",
        "        dataset: A dataset derived from `torch.utils.data.Dataset`,\n",
        "                 such as `cifar100_training_dataset` or `cifar100_test_dataset`.\n",
        "\n",
        "    Returns:\n",
        "        A tuple containing (mean, std) for the entire dataset.\n",
        "    \"\"\"\n",
        "\n",
        "    # Extract images and labels\n",
        "    data_r = np.stack([np.array(dataset[i][0])[:, :, 0] for i in range(len(dataset))])\n",
        "    data_g = np.stack([np.array(dataset[i][0])[:, :, 1] for i in range(len(dataset))])\n",
        "    data_b = np.stack([np.array(dataset[i][0])[:, :, 2] for i in range(len(dataset))])\n",
        "\n",
        "    # Compute mean and std\n",
        "    mean = np.mean(data_r), np.mean(data_g), np.mean(data_b)\n",
        "    std = np.std(data_r), np.std(data_g), np.std(data_b)\n",
        "\n",
        "    return mean, std\n",
        "\n",
        "# Define LeNet-5 architecture\n",
        "class LeNet5(nn.Module):\n",
        "    def __init__(self):\n",
        "        super(LeNet5, self).__init__()\n",
        "        self.conv1 = nn.Conv2d(3, 64, 5)\n",
        "        self.relu1 = nn.ReLU()\n",
        "        self.pool1 = nn.MaxPool2d(2, 2)\n",
        "        self.conv2 = nn.Conv2d(64, 64, 5)\n",
        "        self.relu2 = nn.ReLU()\n",
        "        self.pool2 = nn.MaxPool2d(2, 2)\n",
        "        self.fc1 = nn.Linear(64 * 5 * 5, 384)\n",
        "        self.relu3 = nn.ReLU()\n",
        "        self.fc2 = nn.Linear(384, 192)\n",
        "        self.relu4 = nn.ReLU()\n",
        "        self.fc3 = nn.Linear(192, 100)\n",
        "\n",
        "    def forward(self, x):\n",
        "        x = self.pool1(self.relu1(self.conv1(x)))\n",
        "        x = self.pool2(self.relu2(self.conv2(x)))\n",
        "        x = x.view(-1, 64 * 5 * 5)\n",
        "        x = self.relu3(self.fc1(x))\n",
        "        x = self.relu4(self.fc2(x))\n",
        "        x = self.fc3(x)\n",
        "        return x\n",
        "\n",
        "# Device setup\n",
        "device = torch.device(\"cuda:0\" if torch.cuda.is_available() else \"cpu\")\n",
        "\n",
        "# Initialize model\n",
        "net = LeNet5().to(device)\n",
        "\n",
        "# Optimizer Subclasses\n",
        "class LARS(optim.Optimizer):\n",
        "    def __init__(self, params, lr, momentum=0.9, weight_decay=0, trust_coefficient=0.001):\n",
        "        # Initialize the optimizer with the learning rate, momentum, weight decay, and trust coefficient\n",
        "        defaults = dict(lr=lr, momentum=momentum, weight_decay=weight_decay, trust_coefficient=trust_coefficient)\n",
        "        super(LARS, self).__init__(params, defaults)\n",
        "\n",
        "    def step(self, closure=None):\n",
        "        loss = None\n",
        "        if closure is not None:\n",
        "            # If a closure is provided, evaluate it (commonly used for re-evaluating loss)\n",
        "            loss = closure()\n",
        "        for group in self.param_groups:\n",
        "            for p in group['params']:\n",
        "                if p.grad is None:\n",
        "                   # Skip parameters that have no gradient\n",
        "                    continue\n",
        "                grad = p.grad.data # Get the gradient of the parameter\n",
        "                # Retrieve or initialize the optimizer's internal state\n",
        "                state = self.state[p]\n",
        "                if len(state) == 0:\n",
        "                    state['momentum_buffer'] = torch.clone(grad).detach()\n",
        "                # Apply weight decay directly to the gradient\n",
        "                if group['weight_decay'] != 0:\n",
        "                    grad.add_(p.data, alpha=group['weight_decay'])\n",
        "                # Compute the norms of the parameter and its gradient\n",
        "                param_norm = torch.norm(p.data)\n",
        "                grad_norm = torch.norm(grad)\n",
        "                # Compute local learning rate based on the trust coefficient and norms\n",
        "                if param_norm > 0 and grad_norm > 0:\n",
        "                    local_lr = group['trust_coefficient'] * param_norm / (grad_norm + 1e-8)\n",
        "                    grad = grad.mul(local_lr) # Scale the gradient with the local learning rate\n",
        "                # Update the momentum buffer\n",
        "                momentum_buffer = state['momentum_buffer']\n",
        "                momentum_buffer.mul_(group['momentum']).add_(grad) #Momentum update\n",
        "                state['momentum_buffer'] = momentum_buffer\n",
        "                # Update the parameter\n",
        "                p.data.add_(momentum_buffer, alpha=-group['lr']) # Gradient descent step with learning rate\n",
        "        return loss\n",
        "\n",
        "class LAMB(optim.Optimizer):\n",
        "    def __init__(self, params, lr, weight_decay=0, betas=(0.9, 0.999), eps=1e-8):\n",
        "        # Initialize the optimizer with learning rate, weight decay, betas for moment updates, and epsilon for stability\n",
        "        defaults = dict(lr=lr, weight_decay=weight_decay, betas=betas, eps=eps)\n",
        "        super(LAMB, self).__init__(params, defaults)\n",
        "\n",
        "    def step(self, closure=None):\n",
        "        loss = None\n",
        "        if closure is not None:\n",
        "            # If a closure is provided, evaluate it\n",
        "            loss = closure()\n",
        "        for group in self.param_groups:\n",
        "            for p in group['params']:\n",
        "                if p.grad is None:\n",
        "                    # Skip parameters that have no gradient\n",
        "                    continue\n",
        "                grad = p.grad.data # Get the gradient of the parameter\n",
        "                # Retrieve or initialize the optimizer's internal state\n",
        "                state = self.state[p]\n",
        "                # Initialize state\n",
        "                if len(state) == 0:\n",
        "                    # Initialize the state (step counter, first moment, second moment)\n",
        "                    state['step'] = 0\n",
        "                    state['exp_avg'] = torch.zeros_like(p.data) # First moment (mean of gradients)\n",
        "                    state['exp_avg_sq'] = torch.zeros_like(p.data) # Second moment (mean of squared gradients)\n",
        "                exp_avg = state['exp_avg']\n",
        "                exp_avg_sq = state['exp_avg_sq']\n",
        "                beta1, beta2 = group['betas']  # Coefficients for moment updates\n",
        "                state['step'] += 1 # Increment step count\n",
        "                step = state['step']\n",
        "                # Decay the first and second moment running average coefficients\n",
        "                # Update first and second moments\n",
        "                exp_avg.mul_(beta1).add_(grad, alpha=1 - beta1) # Exponential moving average of gradients\n",
        "                exp_avg_sq.mul_(beta2).addcmul_(grad, grad, value=1 - beta2) # Exponential moving average of squared gradients\n",
        "                # Correct bias in the first and second moments\n",
        "                bias_correction1 = 1 - beta1 ** step\n",
        "                bias_correction2 = 1 - beta2 ** step\n",
        "                corrected_exp_avg = exp_avg / bias_correction1\n",
        "                corrected_exp_avg_sq = exp_avg_sq / bias_correction2\n",
        "                # Compute the denominator for scaling the update\n",
        "                denom = corrected_exp_avg_sq.sqrt().add_(group['eps']) # Stability epsilon\n",
        "                # Compute the step update\n",
        "                update = corrected_exp_avg / denom\n",
        "                # Apply weight decay directly to the parameters\n",
        "                if group['weight_decay'] != 0:\n",
        "                    update.add_(p.data, alpha=group['weight_decay'])\n",
        "                # Compute the trust ratio (norm of parameters vs norm of update)\n",
        "                param_norm = torch.norm(p.data)\n",
        "                update_norm = torch.norm(update)\n",
        "                trust_ratio = 1.0  # Default trust ratio\n",
        "                if param_norm > 0 and update_norm > 0:\n",
        "                    trust_ratio = param_norm / update_norm\n",
        "                # Update the parameters\n",
        "                p.data.add_(update, alpha=-group['lr'] * trust_ratio)\n",
        "        return loss\n",
        "\n",
        "\n",
        "# Command-line arguments\n",
        "parser = argparse.ArgumentParser(description='Train with Large-Batch Optimizers')\n",
        "parser.add_argument('--optimizer', type=str, default='SGDM', choices=['SGDM', 'AdamW', 'LARS', 'LAMB'],\n",
        "                    help='Choose optimizer')\n",
        "parser.add_argument('--batch-size', type=int, default=128, help='Batch size')\n",
        "parser.add_argument('--momentum', type=float, default=0.9, help='Momentum for SGDM and LARS')\n",
        "parser.add_argument('--weight-decay', type=float, default=1e-5, help='Weight decay')\n",
        "parser.add_argument('--b1', type=float, default=0.9, help='Beta1 for AdamW')\n",
        "parser.add_argument('--b2', type=float, default=0.999, help='Beta2 for AdamW')\n",
        "parser.add_argument('--trust-coefficient', type=float, default=0.001, help='Trust coefficient for LARS')\n",
        "parser.add_argument('--epochs', type=int, default=150, help='Number of epochs')\n",
        "parser.add_argument('--warmup-epochs', type=int, default=5, help='Number of epochs')\n",
        "args = parser.parse_args()\n",
        "\n",
        "\n",
        "torch.manual_seed(42) # Set the seed for reproducibility\n",
        "torch.cuda.manual_seed_all(42) # Set the seed for reproducibility on GPU\n",
        "\n",
        "# use the same mean and std to add consistency to all datasets\n",
        "data = torchvision.datasets.CIFAR100(root='./data', train=True, download=True, transform=transforms.ToTensor())\n",
        "mean, std = compute_mean_std(data)\n",
        "\n",
        "# Load and split CIFAR-100 dataset\n",
        "train_transform = transforms.Compose([\n",
        "  transforms.RandomCrop(32, padding=4),\n",
        "  transforms.RandomHorizontalFlip(),\n",
        "  transforms.ToTensor(),\n",
        "  transforms.Normalize(mean, std)\n",
        "])\n",
        "\n",
        "test_transform = transforms.Compose([\n",
        "    transforms.ToTensor(),  # Convert to PyTorch tensor\n",
        "    transforms.Normalize(mean, std)\n",
        "])\n",
        "\n",
        "trainset = torchvision.datasets.CIFAR100(root='./data', train=True, download=True, transform=train_transform)\n",
        "trainloader = torch.utils.data.DataLoader(trainset, batch_size=args.batch_size, shuffle=True, num_workers=2)\n",
        "\n",
        "testset = torchvision.datasets.CIFAR100(root='./data', train=False, download=True, transform=test_transform)\n",
        "testloader = torch.utils.data.DataLoader(testset, batch_size=args.batch_size, shuffle=False, num_workers=2)\n",
        "\n",
        "\n",
        "# Fixed parameter from paper [18] to calculate the square root LR scaling value\n",
        "# base_lr = 5 / (2**3 * 10**3)\n",
        "# reference_batch_size = 512\n",
        "#scaled_lr = base_lr * (args.batch_size / reference_batch_size) ** 0.5\n",
        "\n",
        "# Mapping optimizers\n",
        "if args.optimizer == 'SGDM':\n",
        "    base_lr = 1e-2\n",
        "    reference_batch_size = 64\n",
        "    scaled_lr = base_lr * (args.batch_size / reference_batch_size) ** 0.5\n",
        "    optimizer = optim.SGD(net.parameters(), lr=scaled_lr, momentum=args.momentum, weight_decay=args.weight_decay)\n",
        "elif args.optimizer == 'AdamW':\n",
        "    base_lr = 1e-4\n",
        "    reference_batch_size = 64\n",
        "    scaled_lr = base_lr * (args.batch_size / reference_batch_size) ** 0.5\n",
        "    optimizer = optim.AdamW(net.parameters(), lr=scaled_lr, betas=(args.b1, args.b2), weight_decay=args.weight_decay)\n",
        "elif args.optimizer == 'LARS':\n",
        "    base_lr = 1e-2\n",
        "    reference_batch_size = 64\n",
        "    scaled_lr = base_lr * (args.batch_size / reference_batch_size) ** 0.5\n",
        "    optimizer = LARS(net.parameters(), lr=scaled_lr, momentum=args.momentum, weight_decay=args.weight_decay, trust_coefficient=args.trust_coefficient)\n",
        "elif args.optimizer == 'LAMB':\n",
        "    base_lr = 5e-4\n",
        "    reference_batch_size = 64\n",
        "    scaled_lr = base_lr * (args.batch_size / reference_batch_size) ** 0.5\n",
        "    optimizer = LAMB(net.parameters(), lr=scaled_lr, weight_decay=args.weight_decay)\n",
        "\n",
        "criterion = nn.CrossEntropyLoss()\n",
        "\n",
        "# Scheduler initialization\n",
        "scheduler = optim.lr_scheduler.CosineAnnealingLR(optimizer=optimizer, T_max=args.epochs - args.warmup_epochs)\n",
        "\n",
        "# Training Function\n",
        "def train_model(optimizer, scheduler, model, criterion, trainloader , testloader, device, epochs, save_checkpoint_interval=10):\n",
        "    train_losses, test_losses = [], []\n",
        "    train_accuracies, test_accuracies = [], []\n",
        "    for epoch in range(epochs):\n",
        "        model.train()\n",
        "        running_loss, correct_train, total_train = 0.0, 0, 0\n",
        "        for inputs, labels in trainloader:\n",
        "            inputs, labels = inputs.to(device), labels.to(device)\n",
        "            optimizer.zero_grad()\n",
        "            outputs = model(inputs)\n",
        "            loss = criterion(outputs, labels)\n",
        "            loss.backward()\n",
        "            optimizer.step()\n",
        "            running_loss += loss.item()\n",
        "            _, predicted = outputs.max(1)\n",
        "            total_train += labels.size(0)\n",
        "            correct_train += predicted.eq(labels).sum().item()\n",
        "        train_loss = running_loss / len(trainloader)\n",
        "        train_accuracy = 100. * correct_train / total_train\n",
        "        train_losses.append(train_loss)\n",
        "        train_accuracies.append(train_accuracy)\n",
        "\n",
        "        '''\n",
        "        # Early Stopping\n",
        "        if val_loss < best_val_loss:\n",
        "          best_val_loss = val_loss\n",
        "          epochs_no_improve = 0\n",
        "        else:\n",
        "          epochs_no_improve += 1\n",
        "\n",
        "        if epochs_no_improve == patience:\n",
        "          print(\"Early stopping!\")\n",
        "          break\n",
        "        '''\n",
        "\n",
        "        # Test\n",
        "        correct_test, total_test, test_loss = 0, 0, 0.0\n",
        "        with torch.no_grad():\n",
        "            for inputs, labels in testloader:\n",
        "                inputs, labels = inputs.to(device), labels.to(device)\n",
        "                outputs = model(inputs)\n",
        "                loss = criterion(outputs, labels)\n",
        "                test_loss += loss.item()\n",
        "                _, predicted = outputs.max(1)\n",
        "                total_test += labels.size(0)\n",
        "                correct_test += predicted.eq(labels).sum().item()\n",
        "        test_loss /= len(testloader)\n",
        "        test_losses.append(test_loss)\n",
        "        test_accuracy = 100. * correct_test / total_test\n",
        "        test_accuracies.append(test_accuracy)\n",
        "\n",
        "        if epoch >= args.warmup_epochs:\n",
        "            scheduler.step()  # Trigger cosine decay\n",
        "        else:\n",
        "            warmup_factor = (epoch + 1) / args.warmup_epochs\n",
        "            lr = warmup_factor * scaled_lr\n",
        "            for param_group in optimizer.param_groups:\n",
        "                param_group['lr'] = lr\n",
        "\n",
        "        # Checkpointing\n",
        "        if (epoch + 1) % save_checkpoint_interval == 0:\n",
        "            checkpoint_filename = f'checkpoint_epoch_{epoch + 1}.pth'\n",
        "            checkpoint = {\n",
        "                'epoch': epoch + 1,\n",
        "                'model_state_dict': model.state_dict(),\n",
        "                'optimizer_state_dict': optimizer.state_dict(),\n",
        "                'scheduler_state_dict': scheduler.state_dict(),\n",
        "                'loss': loss.item(),\n",
        "            }\n",
        "            checkpoint_path = os.path.join('./', checkpoint_filename)\n",
        "            torch.save(checkpoint, checkpoint_path)\n",
        "            print(f'Checkpoint saved at epoch {epoch + 1}: {checkpoint_path}')\n",
        "\n",
        "            # Download the checkpoint\n",
        "            files.download(checkpoint_filename)\n",
        "\n",
        "        print(f'Epoch {epoch+1}/{epochs}, Train Acc: {train_accuracy:.2f}%, Test Acc: {test_accuracy:.2f}%')\n",
        "        print(f'Epoch {epoch+1}/{epochs}, Train Loss: {train_loss:.4f}, Test Loss: {test_loss:.4f}')\n",
        "\n",
        "    return train_losses, test_losses, train_accuracies, test_accuracies\n",
        "\n",
        "# Train the model\n",
        "print(f\"--- Train with {args.optimizer} ---\")\n",
        "train_loss, test_loss, train_acc, test_acc = train_model(optimizer, scheduler, net, criterion, trainloader, testloader, device, args.epochs)\n",
        "\n",
        "# Save model\n",
        "torch.save(net.state_dict(), f'net_{args.optimizer}.pth')\n",
        "\n",
        "# Plot results\n",
        "# Plot Training Loss\n",
        "plt.figure(figsize=(6, 4))\n",
        "plt.plot(train_loss, label='Train Loss')\n",
        "plt.title('Training Loss')\n",
        "plt.xlabel('Epoch')\n",
        "plt.ylabel('Loss')\n",
        "plt.legend()\n",
        "plt.tight_layout()\n",
        "plt.savefig('train_loss.png')\n",
        "plt.show()\n",
        "\n",
        "# Plot Training Accuracy\n",
        "plt.figure(figsize=(6, 4))\n",
        "plt.plot(train_acc, label='Train Accuracy')\n",
        "plt.title('Training Accuracy')\n",
        "plt.xlabel('Epoch')\n",
        "plt.ylabel('Accuracy (%)')\n",
        "plt.legend()\n",
        "plt.tight_layout()\n",
        "plt.savefig('train_accuracy.png')\n",
        "plt.show()\n",
        "\n",
        "# Plot Test Loss\n",
        "plt.figure(figsize=(6, 4))\n",
        "plt.plot(test_loss, label='Test Loss')\n",
        "plt.title('Test Loss')\n",
        "plt.xlabel('Epoch')\n",
        "plt.ylabel('Loss')\n",
        "plt.legend()\n",
        "plt.tight_layout()\n",
        "plt.savefig('test_loss.png')\n",
        "plt.show()\n",
        "\n",
        "# Plot Test Accuracy\n",
        "plt.figure(figsize=(6, 4))\n",
        "plt.plot(test_acc, label='Test Accuracy')\n",
        "plt.title('Test Accuracy')\n",
        "plt.xlabel('Epoch')\n",
        "plt.ylabel('Accuracy (%)')\n",
        "plt.legend()\n",
        "plt.tight_layout()\n",
        "plt.savefig('test_accuracy.png')\n",
        "plt.show()\n"
      ]
    },
    {
      "cell_type": "code",
      "execution_count": null,
      "metadata": {
        "colab": {
          "base_uri": "https://localhost:8080/"
        },
        "id": "_hEcpkQqYJmP",
        "outputId": "c8eedbc5-9061-45df-d650-9e8a0ee8ae51"
      },
      "outputs": [
        {
          "output_type": "stream",
          "name": "stdout",
          "text": [
            "Downloading https://www.cs.toronto.edu/~kriz/cifar-100-python.tar.gz to ./data/cifar-100-python.tar.gz\n"
          ]
        },
        {
          "output_type": "stream",
          "name": "stderr",
          "text": [
            "100%|██████████| 169M/169M [00:04<00:00, 38.6MB/s]\n"
          ]
        },
        {
          "output_type": "stream",
          "name": "stdout",
          "text": [
            "Extracting ./data/cifar-100-python.tar.gz to ./data\n",
            "Files already downloaded and verified\n",
            "Files already downloaded and verified\n",
            "--- Train with SGDM ---\n",
            "Epoch 1/150, Train Acc: 5.64%, Test Acc: 11.74%\n",
            "Epoch 1/150, Train Loss: 4.2260, Test Loss: 3.8022\n"
          ]
        }
      ],
      "source": [
        "%run large_batch_training.py --optimizer SGDM --batch-size 128 --weight-decay 4e-4"
      ]
    },
    {
      "cell_type": "markdown",
      "metadata": {
        "id": "_2t__56QmDKL"
      },
      "source": []
    },
    {
      "cell_type": "code",
      "execution_count": 4,
      "metadata": {
        "colab": {
          "base_uri": "https://localhost:8080/",
          "height": 1000
        },
        "id": "FqIzBQKfZFgB",
        "outputId": "26c5ffa3-33d2-41e7-e0fe-015758a25a43"
      },
      "outputs": [
        {
          "output_type": "stream",
          "name": "stdout",
          "text": [
            "Files already downloaded and verified\n",
            "Files already downloaded and verified\n",
            "Files already downloaded and verified\n",
            "--- Train with AdamW ---\n",
            "Epoch 1/150, Train Acc: 6.07%, Test Acc: 10.52%\n",
            "Epoch 1/150, Train Loss: 4.2064, Test Loss: 3.9137\n",
            "Epoch 2/150, Train Acc: 11.46%, Test Acc: 12.62%\n",
            "Epoch 2/150, Train Loss: 3.8712, Test Loss: 3.8003\n",
            "Epoch 3/150, Train Acc: 12.58%, Test Acc: 14.61%\n",
            "Epoch 3/150, Train Loss: 3.7877, Test Loss: 3.7027\n",
            "Epoch 4/150, Train Acc: 14.29%, Test Acc: 16.62%\n",
            "Epoch 4/150, Train Loss: 3.6797, Test Loss: 3.5782\n",
            "Epoch 5/150, Train Acc: 16.16%, Test Acc: 17.93%\n",
            "Epoch 5/150, Train Loss: 3.5594, Test Loss: 3.4666\n",
            "Epoch 6/150, Train Acc: 18.36%, Test Acc: 19.43%\n",
            "Epoch 6/150, Train Loss: 3.4322, Test Loss: 3.3655\n",
            "Epoch 7/150, Train Acc: 20.41%, Test Acc: 23.53%\n",
            "Epoch 7/150, Train Loss: 3.3051, Test Loss: 3.2114\n",
            "Epoch 8/150, Train Acc: 22.45%, Test Acc: 24.14%\n",
            "Epoch 8/150, Train Loss: 3.2027, Test Loss: 3.1459\n",
            "Epoch 9/150, Train Acc: 24.02%, Test Acc: 26.11%\n",
            "Epoch 9/150, Train Loss: 3.1129, Test Loss: 3.0304\n",
            "Checkpoint saved at epoch 10: ./checkpoint_epoch_10.pth\n"
          ]
        },
        {
          "output_type": "display_data",
          "data": {
            "text/plain": [
              "<IPython.core.display.Javascript object>"
            ],
            "application/javascript": [
              "\n",
              "    async function download(id, filename, size) {\n",
              "      if (!google.colab.kernel.accessAllowed) {\n",
              "        return;\n",
              "      }\n",
              "      const div = document.createElement('div');\n",
              "      const label = document.createElement('label');\n",
              "      label.textContent = `Downloading \"${filename}\": `;\n",
              "      div.appendChild(label);\n",
              "      const progress = document.createElement('progress');\n",
              "      progress.max = size;\n",
              "      div.appendChild(progress);\n",
              "      document.body.appendChild(div);\n",
              "\n",
              "      const buffers = [];\n",
              "      let downloaded = 0;\n",
              "\n",
              "      const channel = await google.colab.kernel.comms.open(id);\n",
              "      // Send a message to notify the kernel that we're ready.\n",
              "      channel.send({})\n",
              "\n",
              "      for await (const message of channel.messages) {\n",
              "        // Send a message to notify the kernel that we're ready.\n",
              "        channel.send({})\n",
              "        if (message.buffers) {\n",
              "          for (const buffer of message.buffers) {\n",
              "            buffers.push(buffer);\n",
              "            downloaded += buffer.byteLength;\n",
              "            progress.value = downloaded;\n",
              "          }\n",
              "        }\n",
              "      }\n",
              "      const blob = new Blob(buffers, {type: 'application/binary'});\n",
              "      const a = document.createElement('a');\n",
              "      a.href = window.URL.createObjectURL(blob);\n",
              "      a.download = filename;\n",
              "      div.appendChild(a);\n",
              "      a.click();\n",
              "      div.remove();\n",
              "    }\n",
              "  "
            ]
          },
          "metadata": {}
        },
        {
          "output_type": "display_data",
          "data": {
            "text/plain": [
              "<IPython.core.display.Javascript object>"
            ],
            "application/javascript": [
              "download(\"download_9c6042f9-2968-4f49-9aa6-79c418295180\", \"checkpoint_epoch_10.pth\", 9796974)"
            ]
          },
          "metadata": {}
        },
        {
          "output_type": "stream",
          "name": "stdout",
          "text": [
            "Epoch 10/150, Train Acc: 25.29%, Test Acc: 27.62%\n",
            "Epoch 10/150, Train Loss: 3.0508, Test Loss: 2.9499\n",
            "Epoch 11/150, Train Acc: 26.53%, Test Acc: 28.19%\n",
            "Epoch 11/150, Train Loss: 2.9861, Test Loss: 2.9056\n",
            "Epoch 12/150, Train Acc: 27.57%, Test Acc: 29.85%\n",
            "Epoch 12/150, Train Loss: 2.9196, Test Loss: 2.8277\n",
            "Epoch 13/150, Train Acc: 29.09%, Test Acc: 31.32%\n",
            "Epoch 13/150, Train Loss: 2.8568, Test Loss: 2.7628\n",
            "Epoch 14/150, Train Acc: 30.01%, Test Acc: 32.50%\n",
            "Epoch 14/150, Train Loss: 2.8090, Test Loss: 2.7014\n",
            "Epoch 15/150, Train Acc: 30.88%, Test Acc: 32.82%\n",
            "Epoch 15/150, Train Loss: 2.7509, Test Loss: 2.6736\n",
            "Epoch 16/150, Train Acc: 31.88%, Test Acc: 33.65%\n",
            "Epoch 16/150, Train Loss: 2.7058, Test Loss: 2.6379\n",
            "Epoch 17/150, Train Acc: 32.67%, Test Acc: 34.86%\n",
            "Epoch 17/150, Train Loss: 2.6680, Test Loss: 2.5818\n",
            "Epoch 18/150, Train Acc: 33.36%, Test Acc: 35.69%\n",
            "Epoch 18/150, Train Loss: 2.6271, Test Loss: 2.5338\n",
            "Epoch 19/150, Train Acc: 34.21%, Test Acc: 36.80%\n",
            "Epoch 19/150, Train Loss: 2.5858, Test Loss: 2.4948\n",
            "Checkpoint saved at epoch 20: ./checkpoint_epoch_20.pth\n"
          ]
        },
        {
          "output_type": "display_data",
          "data": {
            "text/plain": [
              "<IPython.core.display.Javascript object>"
            ],
            "application/javascript": [
              "\n",
              "    async function download(id, filename, size) {\n",
              "      if (!google.colab.kernel.accessAllowed) {\n",
              "        return;\n",
              "      }\n",
              "      const div = document.createElement('div');\n",
              "      const label = document.createElement('label');\n",
              "      label.textContent = `Downloading \"${filename}\": `;\n",
              "      div.appendChild(label);\n",
              "      const progress = document.createElement('progress');\n",
              "      progress.max = size;\n",
              "      div.appendChild(progress);\n",
              "      document.body.appendChild(div);\n",
              "\n",
              "      const buffers = [];\n",
              "      let downloaded = 0;\n",
              "\n",
              "      const channel = await google.colab.kernel.comms.open(id);\n",
              "      // Send a message to notify the kernel that we're ready.\n",
              "      channel.send({})\n",
              "\n",
              "      for await (const message of channel.messages) {\n",
              "        // Send a message to notify the kernel that we're ready.\n",
              "        channel.send({})\n",
              "        if (message.buffers) {\n",
              "          for (const buffer of message.buffers) {\n",
              "            buffers.push(buffer);\n",
              "            downloaded += buffer.byteLength;\n",
              "            progress.value = downloaded;\n",
              "          }\n",
              "        }\n",
              "      }\n",
              "      const blob = new Blob(buffers, {type: 'application/binary'});\n",
              "      const a = document.createElement('a');\n",
              "      a.href = window.URL.createObjectURL(blob);\n",
              "      a.download = filename;\n",
              "      div.appendChild(a);\n",
              "      a.click();\n",
              "      div.remove();\n",
              "    }\n",
              "  "
            ]
          },
          "metadata": {}
        },
        {
          "output_type": "display_data",
          "data": {
            "text/plain": [
              "<IPython.core.display.Javascript object>"
            ],
            "application/javascript": [
              "download(\"download_73c70b9a-eb25-4b9c-9b36-ecc4d5e7e05d\", \"checkpoint_epoch_20.pth\", 9796974)"
            ]
          },
          "metadata": {}
        },
        {
          "output_type": "stream",
          "name": "stdout",
          "text": [
            "Epoch 20/150, Train Acc: 34.95%, Test Acc: 36.84%\n",
            "Epoch 20/150, Train Loss: 2.5511, Test Loss: 2.4881\n",
            "Epoch 21/150, Train Acc: 35.47%, Test Acc: 37.69%\n",
            "Epoch 21/150, Train Loss: 2.5170, Test Loss: 2.4441\n",
            "Epoch 22/150, Train Acc: 36.23%, Test Acc: 37.68%\n",
            "Epoch 22/150, Train Loss: 2.4960, Test Loss: 2.4425\n",
            "Epoch 23/150, Train Acc: 36.48%, Test Acc: 38.11%\n",
            "Epoch 23/150, Train Loss: 2.4738, Test Loss: 2.4373\n",
            "Epoch 24/150, Train Acc: 37.13%, Test Acc: 38.24%\n",
            "Epoch 24/150, Train Loss: 2.4412, Test Loss: 2.4083\n",
            "Epoch 25/150, Train Acc: 37.66%, Test Acc: 38.70%\n",
            "Epoch 25/150, Train Loss: 2.4270, Test Loss: 2.3893\n",
            "Epoch 26/150, Train Acc: 38.09%, Test Acc: 38.72%\n",
            "Epoch 26/150, Train Loss: 2.3952, Test Loss: 2.3689\n",
            "Epoch 27/150, Train Acc: 38.78%, Test Acc: 39.50%\n",
            "Epoch 27/150, Train Loss: 2.3727, Test Loss: 2.3611\n",
            "Epoch 28/150, Train Acc: 39.15%, Test Acc: 39.41%\n",
            "Epoch 28/150, Train Loss: 2.3489, Test Loss: 2.3258\n",
            "Epoch 29/150, Train Acc: 39.50%, Test Acc: 40.36%\n",
            "Epoch 29/150, Train Loss: 2.3366, Test Loss: 2.3209\n",
            "Checkpoint saved at epoch 30: ./checkpoint_epoch_30.pth\n"
          ]
        },
        {
          "output_type": "display_data",
          "data": {
            "text/plain": [
              "<IPython.core.display.Javascript object>"
            ],
            "application/javascript": [
              "\n",
              "    async function download(id, filename, size) {\n",
              "      if (!google.colab.kernel.accessAllowed) {\n",
              "        return;\n",
              "      }\n",
              "      const div = document.createElement('div');\n",
              "      const label = document.createElement('label');\n",
              "      label.textContent = `Downloading \"${filename}\": `;\n",
              "      div.appendChild(label);\n",
              "      const progress = document.createElement('progress');\n",
              "      progress.max = size;\n",
              "      div.appendChild(progress);\n",
              "      document.body.appendChild(div);\n",
              "\n",
              "      const buffers = [];\n",
              "      let downloaded = 0;\n",
              "\n",
              "      const channel = await google.colab.kernel.comms.open(id);\n",
              "      // Send a message to notify the kernel that we're ready.\n",
              "      channel.send({})\n",
              "\n",
              "      for await (const message of channel.messages) {\n",
              "        // Send a message to notify the kernel that we're ready.\n",
              "        channel.send({})\n",
              "        if (message.buffers) {\n",
              "          for (const buffer of message.buffers) {\n",
              "            buffers.push(buffer);\n",
              "            downloaded += buffer.byteLength;\n",
              "            progress.value = downloaded;\n",
              "          }\n",
              "        }\n",
              "      }\n",
              "      const blob = new Blob(buffers, {type: 'application/binary'});\n",
              "      const a = document.createElement('a');\n",
              "      a.href = window.URL.createObjectURL(blob);\n",
              "      a.download = filename;\n",
              "      div.appendChild(a);\n",
              "      a.click();\n",
              "      div.remove();\n",
              "    }\n",
              "  "
            ]
          },
          "metadata": {}
        },
        {
          "output_type": "display_data",
          "data": {
            "text/plain": [
              "<IPython.core.display.Javascript object>"
            ],
            "application/javascript": [
              "download(\"download_379e50bf-ae68-4cbe-be69-727775c3b7b6\", \"checkpoint_epoch_30.pth\", 9796974)"
            ]
          },
          "metadata": {}
        },
        {
          "output_type": "stream",
          "name": "stdout",
          "text": [
            "Epoch 30/150, Train Acc: 39.91%, Test Acc: 40.90%\n",
            "Epoch 30/150, Train Loss: 2.3120, Test Loss: 2.2864\n",
            "Epoch 31/150, Train Acc: 40.24%, Test Acc: 41.30%\n",
            "Epoch 31/150, Train Loss: 2.2932, Test Loss: 2.2838\n",
            "Epoch 32/150, Train Acc: 40.63%, Test Acc: 41.80%\n",
            "Epoch 32/150, Train Loss: 2.2734, Test Loss: 2.2544\n",
            "Epoch 33/150, Train Acc: 41.37%, Test Acc: 41.23%\n",
            "Epoch 33/150, Train Loss: 2.2494, Test Loss: 2.2645\n",
            "Epoch 34/150, Train Acc: 41.80%, Test Acc: 42.00%\n",
            "Epoch 34/150, Train Loss: 2.2396, Test Loss: 2.2394\n",
            "Epoch 35/150, Train Acc: 41.99%, Test Acc: 42.17%\n",
            "Epoch 35/150, Train Loss: 2.2253, Test Loss: 2.2282\n",
            "Epoch 36/150, Train Acc: 42.21%, Test Acc: 42.72%\n",
            "Epoch 36/150, Train Loss: 2.2113, Test Loss: 2.2200\n",
            "Epoch 37/150, Train Acc: 42.58%, Test Acc: 41.87%\n",
            "Epoch 37/150, Train Loss: 2.1960, Test Loss: 2.2266\n",
            "Epoch 38/150, Train Acc: 43.07%, Test Acc: 42.74%\n",
            "Epoch 38/150, Train Loss: 2.1727, Test Loss: 2.2057\n",
            "Epoch 39/150, Train Acc: 43.40%, Test Acc: 42.95%\n",
            "Epoch 39/150, Train Loss: 2.1610, Test Loss: 2.2089\n",
            "Checkpoint saved at epoch 40: ./checkpoint_epoch_40.pth\n"
          ]
        },
        {
          "output_type": "display_data",
          "data": {
            "text/plain": [
              "<IPython.core.display.Javascript object>"
            ],
            "application/javascript": [
              "\n",
              "    async function download(id, filename, size) {\n",
              "      if (!google.colab.kernel.accessAllowed) {\n",
              "        return;\n",
              "      }\n",
              "      const div = document.createElement('div');\n",
              "      const label = document.createElement('label');\n",
              "      label.textContent = `Downloading \"${filename}\": `;\n",
              "      div.appendChild(label);\n",
              "      const progress = document.createElement('progress');\n",
              "      progress.max = size;\n",
              "      div.appendChild(progress);\n",
              "      document.body.appendChild(div);\n",
              "\n",
              "      const buffers = [];\n",
              "      let downloaded = 0;\n",
              "\n",
              "      const channel = await google.colab.kernel.comms.open(id);\n",
              "      // Send a message to notify the kernel that we're ready.\n",
              "      channel.send({})\n",
              "\n",
              "      for await (const message of channel.messages) {\n",
              "        // Send a message to notify the kernel that we're ready.\n",
              "        channel.send({})\n",
              "        if (message.buffers) {\n",
              "          for (const buffer of message.buffers) {\n",
              "            buffers.push(buffer);\n",
              "            downloaded += buffer.byteLength;\n",
              "            progress.value = downloaded;\n",
              "          }\n",
              "        }\n",
              "      }\n",
              "      const blob = new Blob(buffers, {type: 'application/binary'});\n",
              "      const a = document.createElement('a');\n",
              "      a.href = window.URL.createObjectURL(blob);\n",
              "      a.download = filename;\n",
              "      div.appendChild(a);\n",
              "      a.click();\n",
              "      div.remove();\n",
              "    }\n",
              "  "
            ]
          },
          "metadata": {}
        },
        {
          "output_type": "display_data",
          "data": {
            "text/plain": [
              "<IPython.core.display.Javascript object>"
            ],
            "application/javascript": [
              "download(\"download_57ef8b98-5bd6-4fb7-9050-6ce8fcc5bfb4\", \"checkpoint_epoch_40.pth\", 9796974)"
            ]
          },
          "metadata": {}
        },
        {
          "output_type": "stream",
          "name": "stdout",
          "text": [
            "Epoch 40/150, Train Acc: 43.83%, Test Acc: 43.30%\n",
            "Epoch 40/150, Train Loss: 2.1420, Test Loss: 2.1812\n",
            "Epoch 41/150, Train Acc: 44.25%, Test Acc: 43.17%\n",
            "Epoch 41/150, Train Loss: 2.1291, Test Loss: 2.1792\n",
            "Epoch 42/150, Train Acc: 44.39%, Test Acc: 43.13%\n",
            "Epoch 42/150, Train Loss: 2.1159, Test Loss: 2.1824\n",
            "Epoch 43/150, Train Acc: 44.39%, Test Acc: 43.85%\n",
            "Epoch 43/150, Train Loss: 2.1121, Test Loss: 2.1584\n",
            "Epoch 44/150, Train Acc: 44.67%, Test Acc: 43.85%\n",
            "Epoch 44/150, Train Loss: 2.0952, Test Loss: 2.1604\n",
            "Epoch 45/150, Train Acc: 45.11%, Test Acc: 44.11%\n",
            "Epoch 45/150, Train Loss: 2.0763, Test Loss: 2.1419\n",
            "Epoch 46/150, Train Acc: 45.26%, Test Acc: 43.95%\n",
            "Epoch 46/150, Train Loss: 2.0648, Test Loss: 2.1573\n",
            "Epoch 47/150, Train Acc: 45.68%, Test Acc: 44.47%\n",
            "Epoch 47/150, Train Loss: 2.0548, Test Loss: 2.1405\n",
            "Epoch 48/150, Train Acc: 45.73%, Test Acc: 44.46%\n",
            "Epoch 48/150, Train Loss: 2.0517, Test Loss: 2.1307\n",
            "Epoch 49/150, Train Acc: 45.93%, Test Acc: 44.81%\n",
            "Epoch 49/150, Train Loss: 2.0344, Test Loss: 2.1066\n",
            "Checkpoint saved at epoch 50: ./checkpoint_epoch_50.pth\n"
          ]
        },
        {
          "output_type": "display_data",
          "data": {
            "text/plain": [
              "<IPython.core.display.Javascript object>"
            ],
            "application/javascript": [
              "\n",
              "    async function download(id, filename, size) {\n",
              "      if (!google.colab.kernel.accessAllowed) {\n",
              "        return;\n",
              "      }\n",
              "      const div = document.createElement('div');\n",
              "      const label = document.createElement('label');\n",
              "      label.textContent = `Downloading \"${filename}\": `;\n",
              "      div.appendChild(label);\n",
              "      const progress = document.createElement('progress');\n",
              "      progress.max = size;\n",
              "      div.appendChild(progress);\n",
              "      document.body.appendChild(div);\n",
              "\n",
              "      const buffers = [];\n",
              "      let downloaded = 0;\n",
              "\n",
              "      const channel = await google.colab.kernel.comms.open(id);\n",
              "      // Send a message to notify the kernel that we're ready.\n",
              "      channel.send({})\n",
              "\n",
              "      for await (const message of channel.messages) {\n",
              "        // Send a message to notify the kernel that we're ready.\n",
              "        channel.send({})\n",
              "        if (message.buffers) {\n",
              "          for (const buffer of message.buffers) {\n",
              "            buffers.push(buffer);\n",
              "            downloaded += buffer.byteLength;\n",
              "            progress.value = downloaded;\n",
              "          }\n",
              "        }\n",
              "      }\n",
              "      const blob = new Blob(buffers, {type: 'application/binary'});\n",
              "      const a = document.createElement('a');\n",
              "      a.href = window.URL.createObjectURL(blob);\n",
              "      a.download = filename;\n",
              "      div.appendChild(a);\n",
              "      a.click();\n",
              "      div.remove();\n",
              "    }\n",
              "  "
            ]
          },
          "metadata": {}
        },
        {
          "output_type": "display_data",
          "data": {
            "text/plain": [
              "<IPython.core.display.Javascript object>"
            ],
            "application/javascript": [
              "download(\"download_4ec69083-cbb0-4e7e-9ce0-222f685d92ce\", \"checkpoint_epoch_50.pth\", 9796974)"
            ]
          },
          "metadata": {}
        },
        {
          "output_type": "stream",
          "name": "stdout",
          "text": [
            "Epoch 50/150, Train Acc: 46.25%, Test Acc: 44.29%\n",
            "Epoch 50/150, Train Loss: 2.0262, Test Loss: 2.1217\n",
            "Epoch 51/150, Train Acc: 46.61%, Test Acc: 44.68%\n",
            "Epoch 51/150, Train Loss: 2.0149, Test Loss: 2.1185\n",
            "Epoch 52/150, Train Acc: 46.75%, Test Acc: 44.65%\n",
            "Epoch 52/150, Train Loss: 2.0061, Test Loss: 2.1265\n",
            "Epoch 53/150, Train Acc: 46.93%, Test Acc: 45.41%\n",
            "Epoch 53/150, Train Loss: 1.9908, Test Loss: 2.0986\n",
            "Epoch 54/150, Train Acc: 47.40%, Test Acc: 45.43%\n",
            "Epoch 54/150, Train Loss: 1.9840, Test Loss: 2.0953\n",
            "Epoch 55/150, Train Acc: 47.75%, Test Acc: 45.63%\n",
            "Epoch 55/150, Train Loss: 1.9747, Test Loss: 2.0818\n",
            "Epoch 56/150, Train Acc: 47.64%, Test Acc: 45.40%\n",
            "Epoch 56/150, Train Loss: 1.9633, Test Loss: 2.0808\n",
            "Epoch 57/150, Train Acc: 48.12%, Test Acc: 45.48%\n",
            "Epoch 57/150, Train Loss: 1.9503, Test Loss: 2.0807\n",
            "Epoch 58/150, Train Acc: 48.17%, Test Acc: 45.42%\n",
            "Epoch 58/150, Train Loss: 1.9462, Test Loss: 2.0886\n",
            "Epoch 59/150, Train Acc: 48.32%, Test Acc: 46.21%\n",
            "Epoch 59/150, Train Loss: 1.9337, Test Loss: 2.0710\n",
            "Checkpoint saved at epoch 60: ./checkpoint_epoch_60.pth\n"
          ]
        },
        {
          "output_type": "display_data",
          "data": {
            "text/plain": [
              "<IPython.core.display.Javascript object>"
            ],
            "application/javascript": [
              "\n",
              "    async function download(id, filename, size) {\n",
              "      if (!google.colab.kernel.accessAllowed) {\n",
              "        return;\n",
              "      }\n",
              "      const div = document.createElement('div');\n",
              "      const label = document.createElement('label');\n",
              "      label.textContent = `Downloading \"${filename}\": `;\n",
              "      div.appendChild(label);\n",
              "      const progress = document.createElement('progress');\n",
              "      progress.max = size;\n",
              "      div.appendChild(progress);\n",
              "      document.body.appendChild(div);\n",
              "\n",
              "      const buffers = [];\n",
              "      let downloaded = 0;\n",
              "\n",
              "      const channel = await google.colab.kernel.comms.open(id);\n",
              "      // Send a message to notify the kernel that we're ready.\n",
              "      channel.send({})\n",
              "\n",
              "      for await (const message of channel.messages) {\n",
              "        // Send a message to notify the kernel that we're ready.\n",
              "        channel.send({})\n",
              "        if (message.buffers) {\n",
              "          for (const buffer of message.buffers) {\n",
              "            buffers.push(buffer);\n",
              "            downloaded += buffer.byteLength;\n",
              "            progress.value = downloaded;\n",
              "          }\n",
              "        }\n",
              "      }\n",
              "      const blob = new Blob(buffers, {type: 'application/binary'});\n",
              "      const a = document.createElement('a');\n",
              "      a.href = window.URL.createObjectURL(blob);\n",
              "      a.download = filename;\n",
              "      div.appendChild(a);\n",
              "      a.click();\n",
              "      div.remove();\n",
              "    }\n",
              "  "
            ]
          },
          "metadata": {}
        },
        {
          "output_type": "display_data",
          "data": {
            "text/plain": [
              "<IPython.core.display.Javascript object>"
            ],
            "application/javascript": [
              "download(\"download_197bc184-6f1f-436e-afca-5218cb2d6d21\", \"checkpoint_epoch_60.pth\", 9796974)"
            ]
          },
          "metadata": {}
        },
        {
          "output_type": "stream",
          "name": "stdout",
          "text": [
            "Epoch 60/150, Train Acc: 48.72%, Test Acc: 45.77%\n",
            "Epoch 60/150, Train Loss: 1.9229, Test Loss: 2.0751\n",
            "Epoch 61/150, Train Acc: 48.84%, Test Acc: 46.02%\n",
            "Epoch 61/150, Train Loss: 1.9176, Test Loss: 2.0663\n",
            "Epoch 62/150, Train Acc: 49.27%, Test Acc: 46.47%\n",
            "Epoch 62/150, Train Loss: 1.9064, Test Loss: 2.0509\n",
            "Epoch 63/150, Train Acc: 49.03%, Test Acc: 46.27%\n",
            "Epoch 63/150, Train Loss: 1.9044, Test Loss: 2.0501\n",
            "Epoch 64/150, Train Acc: 49.31%, Test Acc: 46.41%\n",
            "Epoch 64/150, Train Loss: 1.8885, Test Loss: 2.0477\n",
            "Epoch 65/150, Train Acc: 49.74%, Test Acc: 46.56%\n",
            "Epoch 65/150, Train Loss: 1.8834, Test Loss: 2.0504\n",
            "Epoch 66/150, Train Acc: 50.13%, Test Acc: 46.43%\n",
            "Epoch 66/150, Train Loss: 1.8678, Test Loss: 2.0493\n",
            "Epoch 67/150, Train Acc: 49.75%, Test Acc: 46.62%\n",
            "Epoch 67/150, Train Loss: 1.8668, Test Loss: 2.0475\n",
            "Epoch 68/150, Train Acc: 50.09%, Test Acc: 46.73%\n",
            "Epoch 68/150, Train Loss: 1.8546, Test Loss: 2.0395\n",
            "Epoch 69/150, Train Acc: 50.36%, Test Acc: 47.01%\n",
            "Epoch 69/150, Train Loss: 1.8501, Test Loss: 2.0273\n",
            "Checkpoint saved at epoch 70: ./checkpoint_epoch_70.pth\n"
          ]
        },
        {
          "output_type": "display_data",
          "data": {
            "text/plain": [
              "<IPython.core.display.Javascript object>"
            ],
            "application/javascript": [
              "\n",
              "    async function download(id, filename, size) {\n",
              "      if (!google.colab.kernel.accessAllowed) {\n",
              "        return;\n",
              "      }\n",
              "      const div = document.createElement('div');\n",
              "      const label = document.createElement('label');\n",
              "      label.textContent = `Downloading \"${filename}\": `;\n",
              "      div.appendChild(label);\n",
              "      const progress = document.createElement('progress');\n",
              "      progress.max = size;\n",
              "      div.appendChild(progress);\n",
              "      document.body.appendChild(div);\n",
              "\n",
              "      const buffers = [];\n",
              "      let downloaded = 0;\n",
              "\n",
              "      const channel = await google.colab.kernel.comms.open(id);\n",
              "      // Send a message to notify the kernel that we're ready.\n",
              "      channel.send({})\n",
              "\n",
              "      for await (const message of channel.messages) {\n",
              "        // Send a message to notify the kernel that we're ready.\n",
              "        channel.send({})\n",
              "        if (message.buffers) {\n",
              "          for (const buffer of message.buffers) {\n",
              "            buffers.push(buffer);\n",
              "            downloaded += buffer.byteLength;\n",
              "            progress.value = downloaded;\n",
              "          }\n",
              "        }\n",
              "      }\n",
              "      const blob = new Blob(buffers, {type: 'application/binary'});\n",
              "      const a = document.createElement('a');\n",
              "      a.href = window.URL.createObjectURL(blob);\n",
              "      a.download = filename;\n",
              "      div.appendChild(a);\n",
              "      a.click();\n",
              "      div.remove();\n",
              "    }\n",
              "  "
            ]
          },
          "metadata": {}
        },
        {
          "output_type": "display_data",
          "data": {
            "text/plain": [
              "<IPython.core.display.Javascript object>"
            ],
            "application/javascript": [
              "download(\"download_e67b535b-61bf-4ae4-8b5c-73cc0b3a7bbe\", \"checkpoint_epoch_70.pth\", 9796974)"
            ]
          },
          "metadata": {}
        },
        {
          "output_type": "stream",
          "name": "stdout",
          "text": [
            "Epoch 70/150, Train Acc: 50.23%, Test Acc: 46.90%\n",
            "Epoch 70/150, Train Loss: 1.8474, Test Loss: 2.0321\n",
            "Epoch 71/150, Train Acc: 50.83%, Test Acc: 46.59%\n",
            "Epoch 71/150, Train Loss: 1.8359, Test Loss: 2.0344\n",
            "Epoch 72/150, Train Acc: 50.90%, Test Acc: 47.11%\n",
            "Epoch 72/150, Train Loss: 1.8331, Test Loss: 2.0243\n",
            "Epoch 73/150, Train Acc: 50.89%, Test Acc: 47.00%\n",
            "Epoch 73/150, Train Loss: 1.8239, Test Loss: 2.0399\n",
            "Epoch 74/150, Train Acc: 51.12%, Test Acc: 47.48%\n",
            "Epoch 74/150, Train Loss: 1.8170, Test Loss: 2.0209\n",
            "Epoch 75/150, Train Acc: 51.19%, Test Acc: 46.88%\n",
            "Epoch 75/150, Train Loss: 1.8095, Test Loss: 2.0302\n",
            "Epoch 76/150, Train Acc: 51.32%, Test Acc: 46.94%\n",
            "Epoch 76/150, Train Loss: 1.8007, Test Loss: 2.0227\n",
            "Epoch 77/150, Train Acc: 51.41%, Test Acc: 47.29%\n",
            "Epoch 77/150, Train Loss: 1.7981, Test Loss: 2.0162\n",
            "Epoch 78/150, Train Acc: 51.68%, Test Acc: 47.18%\n",
            "Epoch 78/150, Train Loss: 1.7909, Test Loss: 2.0097\n",
            "Epoch 79/150, Train Acc: 51.88%, Test Acc: 47.27%\n",
            "Epoch 79/150, Train Loss: 1.7805, Test Loss: 2.0081\n",
            "Checkpoint saved at epoch 80: ./checkpoint_epoch_80.pth\n"
          ]
        },
        {
          "output_type": "display_data",
          "data": {
            "text/plain": [
              "<IPython.core.display.Javascript object>"
            ],
            "application/javascript": [
              "\n",
              "    async function download(id, filename, size) {\n",
              "      if (!google.colab.kernel.accessAllowed) {\n",
              "        return;\n",
              "      }\n",
              "      const div = document.createElement('div');\n",
              "      const label = document.createElement('label');\n",
              "      label.textContent = `Downloading \"${filename}\": `;\n",
              "      div.appendChild(label);\n",
              "      const progress = document.createElement('progress');\n",
              "      progress.max = size;\n",
              "      div.appendChild(progress);\n",
              "      document.body.appendChild(div);\n",
              "\n",
              "      const buffers = [];\n",
              "      let downloaded = 0;\n",
              "\n",
              "      const channel = await google.colab.kernel.comms.open(id);\n",
              "      // Send a message to notify the kernel that we're ready.\n",
              "      channel.send({})\n",
              "\n",
              "      for await (const message of channel.messages) {\n",
              "        // Send a message to notify the kernel that we're ready.\n",
              "        channel.send({})\n",
              "        if (message.buffers) {\n",
              "          for (const buffer of message.buffers) {\n",
              "            buffers.push(buffer);\n",
              "            downloaded += buffer.byteLength;\n",
              "            progress.value = downloaded;\n",
              "          }\n",
              "        }\n",
              "      }\n",
              "      const blob = new Blob(buffers, {type: 'application/binary'});\n",
              "      const a = document.createElement('a');\n",
              "      a.href = window.URL.createObjectURL(blob);\n",
              "      a.download = filename;\n",
              "      div.appendChild(a);\n",
              "      a.click();\n",
              "      div.remove();\n",
              "    }\n",
              "  "
            ]
          },
          "metadata": {}
        },
        {
          "output_type": "display_data",
          "data": {
            "text/plain": [
              "<IPython.core.display.Javascript object>"
            ],
            "application/javascript": [
              "download(\"download_7decab15-c5d3-4149-a3c4-e875e3408498\", \"checkpoint_epoch_80.pth\", 9796974)"
            ]
          },
          "metadata": {}
        },
        {
          "output_type": "stream",
          "name": "stdout",
          "text": [
            "Epoch 80/150, Train Acc: 52.26%, Test Acc: 47.58%\n",
            "Epoch 80/150, Train Loss: 1.7688, Test Loss: 2.0148\n",
            "Epoch 81/150, Train Acc: 52.29%, Test Acc: 47.34%\n",
            "Epoch 81/150, Train Loss: 1.7710, Test Loss: 2.0133\n",
            "Epoch 82/150, Train Acc: 52.47%, Test Acc: 47.27%\n",
            "Epoch 82/150, Train Loss: 1.7596, Test Loss: 2.0113\n",
            "Epoch 83/150, Train Acc: 52.62%, Test Acc: 47.52%\n",
            "Epoch 83/150, Train Loss: 1.7618, Test Loss: 1.9994\n",
            "Epoch 84/150, Train Acc: 52.53%, Test Acc: 47.91%\n",
            "Epoch 84/150, Train Loss: 1.7561, Test Loss: 2.0023\n",
            "Epoch 85/150, Train Acc: 52.53%, Test Acc: 48.09%\n",
            "Epoch 85/150, Train Loss: 1.7496, Test Loss: 2.0037\n",
            "Epoch 86/150, Train Acc: 53.11%, Test Acc: 48.12%\n",
            "Epoch 86/150, Train Loss: 1.7408, Test Loss: 1.9956\n",
            "Epoch 87/150, Train Acc: 53.06%, Test Acc: 47.42%\n",
            "Epoch 87/150, Train Loss: 1.7409, Test Loss: 2.0007\n",
            "Epoch 88/150, Train Acc: 53.22%, Test Acc: 48.28%\n",
            "Epoch 88/150, Train Loss: 1.7352, Test Loss: 1.9935\n",
            "Epoch 89/150, Train Acc: 53.15%, Test Acc: 47.95%\n",
            "Epoch 89/150, Train Loss: 1.7265, Test Loss: 1.9920\n",
            "Checkpoint saved at epoch 90: ./checkpoint_epoch_90.pth\n"
          ]
        },
        {
          "output_type": "display_data",
          "data": {
            "text/plain": [
              "<IPython.core.display.Javascript object>"
            ],
            "application/javascript": [
              "\n",
              "    async function download(id, filename, size) {\n",
              "      if (!google.colab.kernel.accessAllowed) {\n",
              "        return;\n",
              "      }\n",
              "      const div = document.createElement('div');\n",
              "      const label = document.createElement('label');\n",
              "      label.textContent = `Downloading \"${filename}\": `;\n",
              "      div.appendChild(label);\n",
              "      const progress = document.createElement('progress');\n",
              "      progress.max = size;\n",
              "      div.appendChild(progress);\n",
              "      document.body.appendChild(div);\n",
              "\n",
              "      const buffers = [];\n",
              "      let downloaded = 0;\n",
              "\n",
              "      const channel = await google.colab.kernel.comms.open(id);\n",
              "      // Send a message to notify the kernel that we're ready.\n",
              "      channel.send({})\n",
              "\n",
              "      for await (const message of channel.messages) {\n",
              "        // Send a message to notify the kernel that we're ready.\n",
              "        channel.send({})\n",
              "        if (message.buffers) {\n",
              "          for (const buffer of message.buffers) {\n",
              "            buffers.push(buffer);\n",
              "            downloaded += buffer.byteLength;\n",
              "            progress.value = downloaded;\n",
              "          }\n",
              "        }\n",
              "      }\n",
              "      const blob = new Blob(buffers, {type: 'application/binary'});\n",
              "      const a = document.createElement('a');\n",
              "      a.href = window.URL.createObjectURL(blob);\n",
              "      a.download = filename;\n",
              "      div.appendChild(a);\n",
              "      a.click();\n",
              "      div.remove();\n",
              "    }\n",
              "  "
            ]
          },
          "metadata": {}
        },
        {
          "output_type": "display_data",
          "data": {
            "text/plain": [
              "<IPython.core.display.Javascript object>"
            ],
            "application/javascript": [
              "download(\"download_4feb507d-e91c-49c3-a13b-07cb010cae13\", \"checkpoint_epoch_90.pth\", 9796974)"
            ]
          },
          "metadata": {}
        },
        {
          "output_type": "stream",
          "name": "stdout",
          "text": [
            "Epoch 90/150, Train Acc: 53.27%, Test Acc: 47.98%\n",
            "Epoch 90/150, Train Loss: 1.7207, Test Loss: 2.0006\n",
            "Epoch 91/150, Train Acc: 53.39%, Test Acc: 48.22%\n",
            "Epoch 91/150, Train Loss: 1.7206, Test Loss: 1.9913\n",
            "Epoch 92/150, Train Acc: 53.44%, Test Acc: 48.22%\n",
            "Epoch 92/150, Train Loss: 1.7105, Test Loss: 1.9887\n",
            "Epoch 93/150, Train Acc: 53.86%, Test Acc: 47.91%\n",
            "Epoch 93/150, Train Loss: 1.7075, Test Loss: 1.9825\n",
            "Epoch 94/150, Train Acc: 53.77%, Test Acc: 48.30%\n",
            "Epoch 94/150, Train Loss: 1.7008, Test Loss: 1.9935\n",
            "Epoch 95/150, Train Acc: 53.84%, Test Acc: 48.20%\n",
            "Epoch 95/150, Train Loss: 1.7014, Test Loss: 1.9797\n",
            "Epoch 96/150, Train Acc: 54.04%, Test Acc: 47.94%\n",
            "Epoch 96/150, Train Loss: 1.6956, Test Loss: 1.9878\n",
            "Epoch 97/150, Train Acc: 54.12%, Test Acc: 48.28%\n",
            "Epoch 97/150, Train Loss: 1.6902, Test Loss: 1.9812\n",
            "Epoch 98/150, Train Acc: 54.00%, Test Acc: 48.35%\n",
            "Epoch 98/150, Train Loss: 1.6815, Test Loss: 1.9805\n",
            "Epoch 99/150, Train Acc: 54.51%, Test Acc: 48.59%\n",
            "Epoch 99/150, Train Loss: 1.6770, Test Loss: 1.9791\n",
            "Checkpoint saved at epoch 100: ./checkpoint_epoch_100.pth\n"
          ]
        },
        {
          "output_type": "display_data",
          "data": {
            "text/plain": [
              "<IPython.core.display.Javascript object>"
            ],
            "application/javascript": [
              "\n",
              "    async function download(id, filename, size) {\n",
              "      if (!google.colab.kernel.accessAllowed) {\n",
              "        return;\n",
              "      }\n",
              "      const div = document.createElement('div');\n",
              "      const label = document.createElement('label');\n",
              "      label.textContent = `Downloading \"${filename}\": `;\n",
              "      div.appendChild(label);\n",
              "      const progress = document.createElement('progress');\n",
              "      progress.max = size;\n",
              "      div.appendChild(progress);\n",
              "      document.body.appendChild(div);\n",
              "\n",
              "      const buffers = [];\n",
              "      let downloaded = 0;\n",
              "\n",
              "      const channel = await google.colab.kernel.comms.open(id);\n",
              "      // Send a message to notify the kernel that we're ready.\n",
              "      channel.send({})\n",
              "\n",
              "      for await (const message of channel.messages) {\n",
              "        // Send a message to notify the kernel that we're ready.\n",
              "        channel.send({})\n",
              "        if (message.buffers) {\n",
              "          for (const buffer of message.buffers) {\n",
              "            buffers.push(buffer);\n",
              "            downloaded += buffer.byteLength;\n",
              "            progress.value = downloaded;\n",
              "          }\n",
              "        }\n",
              "      }\n",
              "      const blob = new Blob(buffers, {type: 'application/binary'});\n",
              "      const a = document.createElement('a');\n",
              "      a.href = window.URL.createObjectURL(blob);\n",
              "      a.download = filename;\n",
              "      div.appendChild(a);\n",
              "      a.click();\n",
              "      div.remove();\n",
              "    }\n",
              "  "
            ]
          },
          "metadata": {}
        },
        {
          "output_type": "display_data",
          "data": {
            "text/plain": [
              "<IPython.core.display.Javascript object>"
            ],
            "application/javascript": [
              "download(\"download_aae9376c-5940-41fa-9ff2-38e7489904ef\", \"checkpoint_epoch_100.pth\", 9797018)"
            ]
          },
          "metadata": {}
        },
        {
          "output_type": "stream",
          "name": "stdout",
          "text": [
            "Epoch 100/150, Train Acc: 54.26%, Test Acc: 48.40%\n",
            "Epoch 100/150, Train Loss: 1.6788, Test Loss: 1.9757\n",
            "Epoch 101/150, Train Acc: 54.72%, Test Acc: 48.25%\n",
            "Epoch 101/150, Train Loss: 1.6746, Test Loss: 1.9877\n",
            "Epoch 102/150, Train Acc: 55.00%, Test Acc: 48.46%\n",
            "Epoch 102/150, Train Loss: 1.6651, Test Loss: 1.9738\n",
            "Epoch 103/150, Train Acc: 54.93%, Test Acc: 47.95%\n",
            "Epoch 103/150, Train Loss: 1.6604, Test Loss: 1.9821\n",
            "Epoch 104/150, Train Acc: 55.03%, Test Acc: 48.51%\n",
            "Epoch 104/150, Train Loss: 1.6567, Test Loss: 1.9713\n",
            "Epoch 105/150, Train Acc: 55.01%, Test Acc: 48.66%\n",
            "Epoch 105/150, Train Loss: 1.6580, Test Loss: 1.9727\n",
            "Epoch 106/150, Train Acc: 55.18%, Test Acc: 48.51%\n",
            "Epoch 106/150, Train Loss: 1.6569, Test Loss: 1.9702\n",
            "Epoch 107/150, Train Acc: 55.23%, Test Acc: 48.57%\n",
            "Epoch 107/150, Train Loss: 1.6490, Test Loss: 1.9796\n",
            "Epoch 108/150, Train Acc: 55.05%, Test Acc: 48.46%\n",
            "Epoch 108/150, Train Loss: 1.6493, Test Loss: 1.9723\n",
            "Epoch 109/150, Train Acc: 55.31%, Test Acc: 48.79%\n",
            "Epoch 109/150, Train Loss: 1.6474, Test Loss: 1.9743\n",
            "Checkpoint saved at epoch 110: ./checkpoint_epoch_110.pth\n"
          ]
        },
        {
          "output_type": "display_data",
          "data": {
            "text/plain": [
              "<IPython.core.display.Javascript object>"
            ],
            "application/javascript": [
              "\n",
              "    async function download(id, filename, size) {\n",
              "      if (!google.colab.kernel.accessAllowed) {\n",
              "        return;\n",
              "      }\n",
              "      const div = document.createElement('div');\n",
              "      const label = document.createElement('label');\n",
              "      label.textContent = `Downloading \"${filename}\": `;\n",
              "      div.appendChild(label);\n",
              "      const progress = document.createElement('progress');\n",
              "      progress.max = size;\n",
              "      div.appendChild(progress);\n",
              "      document.body.appendChild(div);\n",
              "\n",
              "      const buffers = [];\n",
              "      let downloaded = 0;\n",
              "\n",
              "      const channel = await google.colab.kernel.comms.open(id);\n",
              "      // Send a message to notify the kernel that we're ready.\n",
              "      channel.send({})\n",
              "\n",
              "      for await (const message of channel.messages) {\n",
              "        // Send a message to notify the kernel that we're ready.\n",
              "        channel.send({})\n",
              "        if (message.buffers) {\n",
              "          for (const buffer of message.buffers) {\n",
              "            buffers.push(buffer);\n",
              "            downloaded += buffer.byteLength;\n",
              "            progress.value = downloaded;\n",
              "          }\n",
              "        }\n",
              "      }\n",
              "      const blob = new Blob(buffers, {type: 'application/binary'});\n",
              "      const a = document.createElement('a');\n",
              "      a.href = window.URL.createObjectURL(blob);\n",
              "      a.download = filename;\n",
              "      div.appendChild(a);\n",
              "      a.click();\n",
              "      div.remove();\n",
              "    }\n",
              "  "
            ]
          },
          "metadata": {}
        },
        {
          "output_type": "display_data",
          "data": {
            "text/plain": [
              "<IPython.core.display.Javascript object>"
            ],
            "application/javascript": [
              "download(\"download_4aa3b7cd-0c65-4328-ae17-531c1ada2d09\", \"checkpoint_epoch_110.pth\", 9797018)"
            ]
          },
          "metadata": {}
        },
        {
          "output_type": "stream",
          "name": "stdout",
          "text": [
            "Epoch 110/150, Train Acc: 55.28%, Test Acc: 48.53%\n",
            "Epoch 110/150, Train Loss: 1.6413, Test Loss: 1.9693\n",
            "Epoch 111/150, Train Acc: 55.32%, Test Acc: 48.51%\n",
            "Epoch 111/150, Train Loss: 1.6416, Test Loss: 1.9679\n",
            "Epoch 112/150, Train Acc: 55.29%, Test Acc: 48.78%\n",
            "Epoch 112/150, Train Loss: 1.6420, Test Loss: 1.9685\n",
            "Epoch 113/150, Train Acc: 55.74%, Test Acc: 48.89%\n",
            "Epoch 113/150, Train Loss: 1.6337, Test Loss: 1.9684\n",
            "Epoch 114/150, Train Acc: 55.56%, Test Acc: 48.84%\n",
            "Epoch 114/150, Train Loss: 1.6313, Test Loss: 1.9646\n",
            "Epoch 115/150, Train Acc: 55.81%, Test Acc: 48.87%\n",
            "Epoch 115/150, Train Loss: 1.6285, Test Loss: 1.9660\n",
            "Epoch 116/150, Train Acc: 55.57%, Test Acc: 48.84%\n",
            "Epoch 116/150, Train Loss: 1.6288, Test Loss: 1.9671\n",
            "Epoch 117/150, Train Acc: 55.98%, Test Acc: 48.72%\n",
            "Epoch 117/150, Train Loss: 1.6227, Test Loss: 1.9579\n",
            "Epoch 118/150, Train Acc: 55.96%, Test Acc: 48.75%\n",
            "Epoch 118/150, Train Loss: 1.6169, Test Loss: 1.9639\n",
            "Epoch 119/150, Train Acc: 55.99%, Test Acc: 49.01%\n",
            "Epoch 119/150, Train Loss: 1.6203, Test Loss: 1.9658\n",
            "Checkpoint saved at epoch 120: ./checkpoint_epoch_120.pth\n"
          ]
        },
        {
          "output_type": "display_data",
          "data": {
            "text/plain": [
              "<IPython.core.display.Javascript object>"
            ],
            "application/javascript": [
              "\n",
              "    async function download(id, filename, size) {\n",
              "      if (!google.colab.kernel.accessAllowed) {\n",
              "        return;\n",
              "      }\n",
              "      const div = document.createElement('div');\n",
              "      const label = document.createElement('label');\n",
              "      label.textContent = `Downloading \"${filename}\": `;\n",
              "      div.appendChild(label);\n",
              "      const progress = document.createElement('progress');\n",
              "      progress.max = size;\n",
              "      div.appendChild(progress);\n",
              "      document.body.appendChild(div);\n",
              "\n",
              "      const buffers = [];\n",
              "      let downloaded = 0;\n",
              "\n",
              "      const channel = await google.colab.kernel.comms.open(id);\n",
              "      // Send a message to notify the kernel that we're ready.\n",
              "      channel.send({})\n",
              "\n",
              "      for await (const message of channel.messages) {\n",
              "        // Send a message to notify the kernel that we're ready.\n",
              "        channel.send({})\n",
              "        if (message.buffers) {\n",
              "          for (const buffer of message.buffers) {\n",
              "            buffers.push(buffer);\n",
              "            downloaded += buffer.byteLength;\n",
              "            progress.value = downloaded;\n",
              "          }\n",
              "        }\n",
              "      }\n",
              "      const blob = new Blob(buffers, {type: 'application/binary'});\n",
              "      const a = document.createElement('a');\n",
              "      a.href = window.URL.createObjectURL(blob);\n",
              "      a.download = filename;\n",
              "      div.appendChild(a);\n",
              "      a.click();\n",
              "      div.remove();\n",
              "    }\n",
              "  "
            ]
          },
          "metadata": {}
        },
        {
          "output_type": "display_data",
          "data": {
            "text/plain": [
              "<IPython.core.display.Javascript object>"
            ],
            "application/javascript": [
              "download(\"download_85d24db1-03ef-400e-9864-969267af7c98\", \"checkpoint_epoch_120.pth\", 9797018)"
            ]
          },
          "metadata": {}
        },
        {
          "output_type": "stream",
          "name": "stdout",
          "text": [
            "Epoch 120/150, Train Acc: 55.97%, Test Acc: 49.01%\n",
            "Epoch 120/150, Train Loss: 1.6216, Test Loss: 1.9647\n",
            "Epoch 121/150, Train Acc: 55.95%, Test Acc: 48.92%\n",
            "Epoch 121/150, Train Loss: 1.6154, Test Loss: 1.9619\n",
            "Epoch 122/150, Train Acc: 55.94%, Test Acc: 48.78%\n",
            "Epoch 122/150, Train Loss: 1.6167, Test Loss: 1.9594\n",
            "Epoch 123/150, Train Acc: 56.08%, Test Acc: 48.88%\n",
            "Epoch 123/150, Train Loss: 1.6084, Test Loss: 1.9586\n",
            "Epoch 124/150, Train Acc: 56.53%, Test Acc: 48.99%\n",
            "Epoch 124/150, Train Loss: 1.6002, Test Loss: 1.9612\n",
            "Epoch 125/150, Train Acc: 56.40%, Test Acc: 48.80%\n",
            "Epoch 125/150, Train Loss: 1.6086, Test Loss: 1.9589\n",
            "Epoch 126/150, Train Acc: 56.15%, Test Acc: 48.73%\n",
            "Epoch 126/150, Train Loss: 1.6070, Test Loss: 1.9603\n",
            "Epoch 127/150, Train Acc: 56.21%, Test Acc: 48.97%\n",
            "Epoch 127/150, Train Loss: 1.6030, Test Loss: 1.9585\n",
            "Epoch 128/150, Train Acc: 56.23%, Test Acc: 49.06%\n",
            "Epoch 128/150, Train Loss: 1.6070, Test Loss: 1.9637\n",
            "Epoch 129/150, Train Acc: 56.17%, Test Acc: 48.96%\n",
            "Epoch 129/150, Train Loss: 1.6031, Test Loss: 1.9577\n",
            "Checkpoint saved at epoch 130: ./checkpoint_epoch_130.pth\n"
          ]
        },
        {
          "output_type": "display_data",
          "data": {
            "text/plain": [
              "<IPython.core.display.Javascript object>"
            ],
            "application/javascript": [
              "\n",
              "    async function download(id, filename, size) {\n",
              "      if (!google.colab.kernel.accessAllowed) {\n",
              "        return;\n",
              "      }\n",
              "      const div = document.createElement('div');\n",
              "      const label = document.createElement('label');\n",
              "      label.textContent = `Downloading \"${filename}\": `;\n",
              "      div.appendChild(label);\n",
              "      const progress = document.createElement('progress');\n",
              "      progress.max = size;\n",
              "      div.appendChild(progress);\n",
              "      document.body.appendChild(div);\n",
              "\n",
              "      const buffers = [];\n",
              "      let downloaded = 0;\n",
              "\n",
              "      const channel = await google.colab.kernel.comms.open(id);\n",
              "      // Send a message to notify the kernel that we're ready.\n",
              "      channel.send({})\n",
              "\n",
              "      for await (const message of channel.messages) {\n",
              "        // Send a message to notify the kernel that we're ready.\n",
              "        channel.send({})\n",
              "        if (message.buffers) {\n",
              "          for (const buffer of message.buffers) {\n",
              "            buffers.push(buffer);\n",
              "            downloaded += buffer.byteLength;\n",
              "            progress.value = downloaded;\n",
              "          }\n",
              "        }\n",
              "      }\n",
              "      const blob = new Blob(buffers, {type: 'application/binary'});\n",
              "      const a = document.createElement('a');\n",
              "      a.href = window.URL.createObjectURL(blob);\n",
              "      a.download = filename;\n",
              "      div.appendChild(a);\n",
              "      a.click();\n",
              "      div.remove();\n",
              "    }\n",
              "  "
            ]
          },
          "metadata": {}
        },
        {
          "output_type": "display_data",
          "data": {
            "text/plain": [
              "<IPython.core.display.Javascript object>"
            ],
            "application/javascript": [
              "download(\"download_d789cc47-9179-4f4f-b95d-f156b6b3e6a1\", \"checkpoint_epoch_130.pth\", 9797018)"
            ]
          },
          "metadata": {}
        },
        {
          "output_type": "stream",
          "name": "stdout",
          "text": [
            "Epoch 130/150, Train Acc: 56.38%, Test Acc: 48.92%\n",
            "Epoch 130/150, Train Loss: 1.5945, Test Loss: 1.9586\n",
            "Epoch 131/150, Train Acc: 56.48%, Test Acc: 48.93%\n",
            "Epoch 131/150, Train Loss: 1.6021, Test Loss: 1.9572\n",
            "Epoch 132/150, Train Acc: 56.56%, Test Acc: 49.10%\n",
            "Epoch 132/150, Train Loss: 1.6003, Test Loss: 1.9555\n",
            "Epoch 133/150, Train Acc: 56.57%, Test Acc: 48.97%\n",
            "Epoch 133/150, Train Loss: 1.5970, Test Loss: 1.9574\n",
            "Epoch 134/150, Train Acc: 56.51%, Test Acc: 49.21%\n",
            "Epoch 134/150, Train Loss: 1.5942, Test Loss: 1.9577\n",
            "Epoch 135/150, Train Acc: 56.44%, Test Acc: 48.99%\n",
            "Epoch 135/150, Train Loss: 1.5966, Test Loss: 1.9566\n",
            "Epoch 136/150, Train Acc: 56.48%, Test Acc: 48.93%\n",
            "Epoch 136/150, Train Loss: 1.5968, Test Loss: 1.9560\n",
            "Epoch 137/150, Train Acc: 56.77%, Test Acc: 49.03%\n",
            "Epoch 137/150, Train Loss: 1.5905, Test Loss: 1.9567\n",
            "Epoch 138/150, Train Acc: 56.58%, Test Acc: 48.91%\n",
            "Epoch 138/150, Train Loss: 1.5946, Test Loss: 1.9552\n",
            "Epoch 139/150, Train Acc: 56.57%, Test Acc: 48.98%\n",
            "Epoch 139/150, Train Loss: 1.5909, Test Loss: 1.9560\n",
            "Checkpoint saved at epoch 140: ./checkpoint_epoch_140.pth\n"
          ]
        },
        {
          "output_type": "display_data",
          "data": {
            "text/plain": [
              "<IPython.core.display.Javascript object>"
            ],
            "application/javascript": [
              "\n",
              "    async function download(id, filename, size) {\n",
              "      if (!google.colab.kernel.accessAllowed) {\n",
              "        return;\n",
              "      }\n",
              "      const div = document.createElement('div');\n",
              "      const label = document.createElement('label');\n",
              "      label.textContent = `Downloading \"${filename}\": `;\n",
              "      div.appendChild(label);\n",
              "      const progress = document.createElement('progress');\n",
              "      progress.max = size;\n",
              "      div.appendChild(progress);\n",
              "      document.body.appendChild(div);\n",
              "\n",
              "      const buffers = [];\n",
              "      let downloaded = 0;\n",
              "\n",
              "      const channel = await google.colab.kernel.comms.open(id);\n",
              "      // Send a message to notify the kernel that we're ready.\n",
              "      channel.send({})\n",
              "\n",
              "      for await (const message of channel.messages) {\n",
              "        // Send a message to notify the kernel that we're ready.\n",
              "        channel.send({})\n",
              "        if (message.buffers) {\n",
              "          for (const buffer of message.buffers) {\n",
              "            buffers.push(buffer);\n",
              "            downloaded += buffer.byteLength;\n",
              "            progress.value = downloaded;\n",
              "          }\n",
              "        }\n",
              "      }\n",
              "      const blob = new Blob(buffers, {type: 'application/binary'});\n",
              "      const a = document.createElement('a');\n",
              "      a.href = window.URL.createObjectURL(blob);\n",
              "      a.download = filename;\n",
              "      div.appendChild(a);\n",
              "      a.click();\n",
              "      div.remove();\n",
              "    }\n",
              "  "
            ]
          },
          "metadata": {}
        },
        {
          "output_type": "display_data",
          "data": {
            "text/plain": [
              "<IPython.core.display.Javascript object>"
            ],
            "application/javascript": [
              "download(\"download_6bf807e4-db7c-4849-a01f-2f18d4ec16b4\", \"checkpoint_epoch_140.pth\", 9797018)"
            ]
          },
          "metadata": {}
        },
        {
          "output_type": "stream",
          "name": "stdout",
          "text": [
            "Epoch 140/150, Train Acc: 56.74%, Test Acc: 48.98%\n",
            "Epoch 140/150, Train Loss: 1.5915, Test Loss: 1.9554\n",
            "Epoch 141/150, Train Acc: 56.67%, Test Acc: 49.17%\n",
            "Epoch 141/150, Train Loss: 1.5903, Test Loss: 1.9553\n",
            "Epoch 142/150, Train Acc: 56.80%, Test Acc: 49.04%\n",
            "Epoch 142/150, Train Loss: 1.5890, Test Loss: 1.9552\n",
            "Epoch 143/150, Train Acc: 56.67%, Test Acc: 49.02%\n",
            "Epoch 143/150, Train Loss: 1.5871, Test Loss: 1.9553\n",
            "Epoch 144/150, Train Acc: 56.83%, Test Acc: 48.98%\n",
            "Epoch 144/150, Train Loss: 1.5905, Test Loss: 1.9551\n",
            "Epoch 145/150, Train Acc: 56.88%, Test Acc: 48.97%\n",
            "Epoch 145/150, Train Loss: 1.5853, Test Loss: 1.9551\n",
            "Epoch 146/150, Train Acc: 56.78%, Test Acc: 49.03%\n",
            "Epoch 146/150, Train Loss: 1.5874, Test Loss: 1.9549\n",
            "Epoch 147/150, Train Acc: 56.98%, Test Acc: 49.06%\n",
            "Epoch 147/150, Train Loss: 1.5836, Test Loss: 1.9551\n",
            "Epoch 148/150, Train Acc: 56.79%, Test Acc: 49.05%\n",
            "Epoch 148/150, Train Loss: 1.5913, Test Loss: 1.9550\n",
            "Epoch 149/150, Train Acc: 56.65%, Test Acc: 49.07%\n",
            "Epoch 149/150, Train Loss: 1.5846, Test Loss: 1.9551\n",
            "Checkpoint saved at epoch 150: ./checkpoint_epoch_150.pth\n"
          ]
        },
        {
          "output_type": "display_data",
          "data": {
            "text/plain": [
              "<IPython.core.display.Javascript object>"
            ],
            "application/javascript": [
              "\n",
              "    async function download(id, filename, size) {\n",
              "      if (!google.colab.kernel.accessAllowed) {\n",
              "        return;\n",
              "      }\n",
              "      const div = document.createElement('div');\n",
              "      const label = document.createElement('label');\n",
              "      label.textContent = `Downloading \"${filename}\": `;\n",
              "      div.appendChild(label);\n",
              "      const progress = document.createElement('progress');\n",
              "      progress.max = size;\n",
              "      div.appendChild(progress);\n",
              "      document.body.appendChild(div);\n",
              "\n",
              "      const buffers = [];\n",
              "      let downloaded = 0;\n",
              "\n",
              "      const channel = await google.colab.kernel.comms.open(id);\n",
              "      // Send a message to notify the kernel that we're ready.\n",
              "      channel.send({})\n",
              "\n",
              "      for await (const message of channel.messages) {\n",
              "        // Send a message to notify the kernel that we're ready.\n",
              "        channel.send({})\n",
              "        if (message.buffers) {\n",
              "          for (const buffer of message.buffers) {\n",
              "            buffers.push(buffer);\n",
              "            downloaded += buffer.byteLength;\n",
              "            progress.value = downloaded;\n",
              "          }\n",
              "        }\n",
              "      }\n",
              "      const blob = new Blob(buffers, {type: 'application/binary'});\n",
              "      const a = document.createElement('a');\n",
              "      a.href = window.URL.createObjectURL(blob);\n",
              "      a.download = filename;\n",
              "      div.appendChild(a);\n",
              "      a.click();\n",
              "      div.remove();\n",
              "    }\n",
              "  "
            ]
          },
          "metadata": {}
        },
        {
          "output_type": "display_data",
          "data": {
            "text/plain": [
              "<IPython.core.display.Javascript object>"
            ],
            "application/javascript": [
              "download(\"download_50198e18-f6f4-49c5-888c-30419f411c65\", \"checkpoint_epoch_150.pth\", 9797018)"
            ]
          },
          "metadata": {}
        },
        {
          "output_type": "stream",
          "name": "stdout",
          "text": [
            "Epoch 150/150, Train Acc: 56.81%, Test Acc: 49.05%\n",
            "Epoch 150/150, Train Loss: 1.5826, Test Loss: 1.9551\n"
          ]
        },
        {
          "output_type": "display_data",
          "data": {
            "text/plain": [
              "<Figure size 600x400 with 1 Axes>"
            ],
            "image/png": "[encoded data removed]"
          },
          "metadata": {}
        },
        {
          "output_type": "display_data",
          "data": {
            "text/plain": [
              "<Figure size 600x400 with 1 Axes>"
            ],
            "image/png": "[encoded data removed]"
          },
          "metadata": {}
        },
        {
          "output_type": "display_data",
          "data": {
            "text/plain": [
              "<Figure size 600x400 with 1 Axes>"
            ],
            "image/png": "[encoded data removed]"
          },
          "metadata": {}
        },
        {
          "output_type": "display_data",
          "data": {
            "text/plain": [
              "<Figure size 600x400 with 1 Axes>"
            ],
            "image/png": "[encoded data removed]"
          },
          "metadata": {}
        },
        {
          "output_type": "display_data",
          "data": {
            "text/plain": [
              "<Figure size 640x480 with 0 Axes>"
            ]
          },
          "metadata": {}
        }
      ],
      "source": [
        "%run large_batch_training.py --optimizer AdamW --batch-size 256 --weight-decay 1e-1"
      ]
    },
    {
      "cell_type": "code",
      "execution_count": null,
      "metadata": {
        "colab": {
          "base_uri": "https://localhost:8080/"
        },
        "id": "_Y8TL9oBZL18",
        "outputId": "54fc2f89-7e7d-461b-fce6-1f0da7310a06"
      },
      "outputs": [
        {
          "name": "stdout",
          "output_type": "stream",
          "text": [
            "Files already downloaded and verified\n",
            "Files already downloaded and verified\n",
            "--- Train with LARS ---\n"
          ]
        }
      ],
      "source": [
        "%run large_batch_training.py --optimizer LARS --batch-size 128 --weight-decay 4e-4"
      ]
    },
    {
      "cell_type": "code",
      "execution_count": null,
      "metadata": {
        "colab": {
          "base_uri": "https://localhost:8080/",
          "height": 436
        },
        "id": "K_XY2BkhZOkY",
        "outputId": "d4c6a687-f11c-439f-bbc4-b0d05ad58aca"
      },
      "outputs": [
        {
          "output_type": "stream",
          "name": "stdout",
          "text": [
            "Downloading https://www.cs.toronto.edu/~kriz/cifar-100-python.tar.gz to ./data/cifar-100-python.tar.gz\n"
          ]
        },
        {
          "output_type": "stream",
          "name": "stderr",
          "text": [
            "100%|██████████| 169M/169M [00:04<00:00, 40.2MB/s]\n"
          ]
        },
        {
          "output_type": "stream",
          "name": "stdout",
          "text": [
            "Extracting ./data/cifar-100-python.tar.gz to ./data\n",
            "Files already downloaded and verified\n",
            "Files already downloaded and verified\n",
            "--- Train with LAMB ---\n"
          ]
        },
        {
          "output_type": "error",
          "ename": "NameError",
          "evalue": "name 'val_accuracy' is not defined",
          "traceback": [
            "\u001b[0;31m---------------------------------------------------------------------------\u001b[0m",
            "\u001b[0;31mNameError\u001b[0m                                 Traceback (most recent call last)",
            "\u001b[0;32m/content/large_batch_training.py\u001b[0m in \u001b[0;36m<module>\u001b[0;34m\u001b[0m\n\u001b[1;32m    352\u001b[0m \u001b[0;31m# Train the model\u001b[0m\u001b[0;34m\u001b[0m\u001b[0;34m\u001b[0m\u001b[0m\n\u001b[1;32m    353\u001b[0m \u001b[0mprint\u001b[0m\u001b[0;34m(\u001b[0m\u001b[0;34mf\"--- Train with {args.optimizer} ---\"\u001b[0m\u001b[0;34m)\u001b[0m\u001b[0;34m\u001b[0m\u001b[0;34m\u001b[0m\u001b[0m\n\u001b[0;32m--> 354\u001b[0;31m \u001b[0mtrain_loss\u001b[0m\u001b[0;34m,\u001b[0m \u001b[0mtest_loss\u001b[0m\u001b[0;34m,\u001b[0m \u001b[0mtrain_acc\u001b[0m\u001b[0;34m,\u001b[0m \u001b[0mtest_acc\u001b[0m \u001b[0;34m=\u001b[0m \u001b[0mtrain_model\u001b[0m\u001b[0;34m(\u001b[0m\u001b[0moptimizer\u001b[0m\u001b[0;34m,\u001b[0m \u001b[0mscheduler\u001b[0m\u001b[0;34m,\u001b[0m \u001b[0mnet\u001b[0m\u001b[0;34m,\u001b[0m \u001b[0mcriterion\u001b[0m\u001b[0;34m,\u001b[0m \u001b[0mtrainloader\u001b[0m\u001b[0;34m,\u001b[0m \u001b[0mtestloader\u001b[0m\u001b[0;34m,\u001b[0m \u001b[0mdevice\u001b[0m\u001b[0;34m,\u001b[0m \u001b[0margs\u001b[0m\u001b[0;34m.\u001b[0m\u001b[0mepochs\u001b[0m\u001b[0;34m)\u001b[0m\u001b[0;34m\u001b[0m\u001b[0;34m\u001b[0m\u001b[0m\n\u001b[0m\u001b[1;32m    355\u001b[0m \u001b[0;34m\u001b[0m\u001b[0m\n\u001b[1;32m    356\u001b[0m \u001b[0;31m# Save model\u001b[0m\u001b[0;34m\u001b[0m\u001b[0;34m\u001b[0m\u001b[0m\n",
            "\u001b[0;32m/content/large_batch_training.py\u001b[0m in \u001b[0;36mtrain_model\u001b[0;34m(optimizer, scheduler, model, criterion, trainloader, testloader, device, epochs, save_checkpoint_interval)\u001b[0m\n\u001b[1;32m    345\u001b[0m             \u001b[0mfiles\u001b[0m\u001b[0;34m.\u001b[0m\u001b[0mdownload\u001b[0m\u001b[0;34m(\u001b[0m\u001b[0mcheckpoint_filename\u001b[0m\u001b[0;34m)\u001b[0m\u001b[0;34m\u001b[0m\u001b[0;34m\u001b[0m\u001b[0m\n\u001b[1;32m    346\u001b[0m \u001b[0;34m\u001b[0m\u001b[0m\n\u001b[0;32m--> 347\u001b[0;31m         \u001b[0mprint\u001b[0m\u001b[0;34m(\u001b[0m\u001b[0;34mf'Epoch {epoch+1}/{epochs}, Train Acc: {train_accuracy:.2f}%, Val Acc: {val_accuracy:.2f}%, Test Acc: {test_accuracy:.2f}%'\u001b[0m\u001b[0;34m)\u001b[0m\u001b[0;34m\u001b[0m\u001b[0;34m\u001b[0m\u001b[0m\n\u001b[0m\u001b[1;32m    348\u001b[0m         \u001b[0mprint\u001b[0m\u001b[0;34m(\u001b[0m\u001b[0;34mf'Epoch {epoch+1}/{epochs}, Train Loss: {train_loss:.4f}, Val Loss: {val_loss:.4f}, Test Loss: {test_loss:.4f}'\u001b[0m\u001b[0;34m)\u001b[0m\u001b[0;34m\u001b[0m\u001b[0;34m\u001b[0m\u001b[0m\n\u001b[1;32m    349\u001b[0m \u001b[0;34m\u001b[0m\u001b[0m\n",
            "\u001b[0;31mNameError\u001b[0m: name 'val_accuracy' is not defined"
          ]
        }
      ],
      "source": [
        "%run large_batch_training.py --optimizer LAMB --batch-size 128 --weight-decay 1e-1"
      ]
    }
  ],
  "metadata": {
    "accelerator": "GPU",
    "colab": {
      "gpuType": "T4",
      "provenance": [],
      "machine_shape": "hm"
    },
    "kernelspec": {
      "display_name": "Python 3",
      "name": "python3"
    },
    "language_info": {
      "name": "python"
    }
  },
  "nbformat": 4,
  "nbformat_minor": 0
}