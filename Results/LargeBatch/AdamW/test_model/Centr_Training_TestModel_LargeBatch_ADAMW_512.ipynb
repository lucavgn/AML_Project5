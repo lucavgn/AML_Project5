{
  "cells": [
    {
      "cell_type": "code",
      "execution_count": 3,
      "metadata": {
        "colab": {
          "base_uri": "https://localhost:8080/"
        },
        "id": "LtOx0ESVnO0u",
        "outputId": "bd306d04-f79c-4d07-a0f0-f6ed1bae49fb"
      },
      "outputs": [
        {
          "output_type": "stream",
          "name": "stdout",
          "text": [
            "Overwriting large_batch_training.py\n"
          ]
        }
      ],
      "source": [
        "%%writefile large_batch_training.py\n",
        "\n",
        "import os\n",
        "import numpy as np\n",
        "import torch\n",
        "import torch.nn as nn\n",
        "import torch.optim as optim\n",
        "import torchvision\n",
        "import torchvision.transforms as transforms\n",
        "import matplotlib.pyplot as plt\n",
        "import argparse\n",
        "from torch.utils.data import random_split\n",
        "from google.colab import files\n",
        "\n",
        "def compute_mean_std(dataset):\n",
        "    \"\"\"Compute the mean and std of CIFAR-100 dataset.\n",
        "\n",
        "    Args:\n",
        "        dataset: A dataset derived from `torch.utils.data.Dataset`,\n",
        "                 such as `cifar100_training_dataset` or `cifar100_test_dataset`.\n",
        "\n",
        "    Returns:\n",
        "        A tuple containing (mean, std) for the entire dataset.\n",
        "    \"\"\"\n",
        "\n",
        "    # Extract images and labels\n",
        "    data_r = np.stack([np.array(dataset[i][0])[:, :, 0] for i in range(len(dataset))])\n",
        "    data_g = np.stack([np.array(dataset[i][0])[:, :, 1] for i in range(len(dataset))])\n",
        "    data_b = np.stack([np.array(dataset[i][0])[:, :, 2] for i in range(len(dataset))])\n",
        "\n",
        "    # Compute mean and std\n",
        "    mean = np.mean(data_r), np.mean(data_g), np.mean(data_b)\n",
        "    std = np.std(data_r), np.std(data_g), np.std(data_b)\n",
        "\n",
        "    return mean, std\n",
        "\n",
        "# Define LeNet-5 architecture\n",
        "class LeNet5(nn.Module):\n",
        "    def __init__(self):\n",
        "        super(LeNet5, self).__init__()\n",
        "        self.conv1 = nn.Conv2d(3, 64, 5)\n",
        "        self.relu1 = nn.ReLU()\n",
        "        self.pool1 = nn.MaxPool2d(2, 2)\n",
        "        self.conv2 = nn.Conv2d(64, 64, 5)\n",
        "        self.relu2 = nn.ReLU()\n",
        "        self.pool2 = nn.MaxPool2d(2, 2)\n",
        "        self.fc1 = nn.Linear(64 * 5 * 5, 384)\n",
        "        self.relu3 = nn.ReLU()\n",
        "        self.fc2 = nn.Linear(384, 192)\n",
        "        self.relu4 = nn.ReLU()\n",
        "        self.fc3 = nn.Linear(192, 100)\n",
        "\n",
        "    def forward(self, x):\n",
        "        x = self.pool1(self.relu1(self.conv1(x)))\n",
        "        x = self.pool2(self.relu2(self.conv2(x)))\n",
        "        x = x.view(-1, 64 * 5 * 5)\n",
        "        x = self.relu3(self.fc1(x))\n",
        "        x = self.relu4(self.fc2(x))\n",
        "        x = self.fc3(x)\n",
        "        return x\n",
        "\n",
        "# Device setup\n",
        "device = torch.device(\"cuda:0\" if torch.cuda.is_available() else \"cpu\")\n",
        "\n",
        "# Initialize model\n",
        "net = LeNet5().to(device)\n",
        "\n",
        "# Optimizer Subclasses\n",
        "class LARS(optim.Optimizer):\n",
        "    def __init__(self, params, lr, momentum=0.9, weight_decay=0, trust_coefficient=0.001):\n",
        "        # Initialize the optimizer with the learning rate, momentum, weight decay, and trust coefficient\n",
        "        defaults = dict(lr=lr, momentum=momentum, weight_decay=weight_decay, trust_coefficient=trust_coefficient)\n",
        "        super(LARS, self).__init__(params, defaults)\n",
        "\n",
        "    def step(self, closure=None):\n",
        "        loss = None\n",
        "        if closure is not None:\n",
        "            # If a closure is provided, evaluate it (commonly used for re-evaluating loss)\n",
        "            loss = closure()\n",
        "        for group in self.param_groups:\n",
        "            for p in group['params']:\n",
        "                if p.grad is None:\n",
        "                   # Skip parameters that have no gradient\n",
        "                    continue\n",
        "                grad = p.grad.data # Get the gradient of the parameter\n",
        "                # Retrieve or initialize the optimizer's internal state\n",
        "                state = self.state[p]\n",
        "                if len(state) == 0:\n",
        "                    state['momentum_buffer'] = torch.clone(grad).detach()\n",
        "                # Apply weight decay directly to the gradient\n",
        "                if group['weight_decay'] != 0:\n",
        "                    grad.add_(p.data, alpha=group['weight_decay'])\n",
        "                # Compute the norms of the parameter and its gradient\n",
        "                param_norm = torch.norm(p.data)\n",
        "                grad_norm = torch.norm(grad)\n",
        "                # Compute local learning rate based on the trust coefficient and norms\n",
        "                if param_norm > 0 and grad_norm > 0:\n",
        "                    local_lr = group['trust_coefficient'] * param_norm / (grad_norm + 1e-8)\n",
        "                    grad = grad.mul(local_lr) # Scale the gradient with the local learning rate\n",
        "                # Update the momentum buffer\n",
        "                momentum_buffer = state['momentum_buffer']\n",
        "                momentum_buffer.mul_(group['momentum']).add_(grad) #Momentum update\n",
        "                state['momentum_buffer'] = momentum_buffer\n",
        "                # Update the parameter\n",
        "                p.data.add_(momentum_buffer, alpha=-group['lr']) # Gradient descent step with learning rate\n",
        "        return loss\n",
        "\n",
        "class LAMB(optim.Optimizer):\n",
        "    def __init__(self, params, lr, weight_decay=0, betas=(0.9, 0.999), eps=1e-8):\n",
        "        # Initialize the optimizer with learning rate, weight decay, betas for moment updates, and epsilon for stability\n",
        "        defaults = dict(lr=lr, weight_decay=weight_decay, betas=betas, eps=eps)\n",
        "        super(LAMB, self).__init__(params, defaults)\n",
        "\n",
        "    def step(self, closure=None):\n",
        "        loss = None\n",
        "        if closure is not None:\n",
        "            # If a closure is provided, evaluate it\n",
        "            loss = closure()\n",
        "        for group in self.param_groups:\n",
        "            for p in group['params']:\n",
        "                if p.grad is None:\n",
        "                    # Skip parameters that have no gradient\n",
        "                    continue\n",
        "                grad = p.grad.data # Get the gradient of the parameter\n",
        "                # Retrieve or initialize the optimizer's internal state\n",
        "                state = self.state[p]\n",
        "                # Initialize state\n",
        "                if len(state) == 0:\n",
        "                    # Initialize the state (step counter, first moment, second moment)\n",
        "                    state['step'] = 0\n",
        "                    state['exp_avg'] = torch.zeros_like(p.data) # First moment (mean of gradients)\n",
        "                    state['exp_avg_sq'] = torch.zeros_like(p.data) # Second moment (mean of squared gradients)\n",
        "                exp_avg = state['exp_avg']\n",
        "                exp_avg_sq = state['exp_avg_sq']\n",
        "                beta1, beta2 = group['betas']  # Coefficients for moment updates\n",
        "                state['step'] += 1 # Increment step count\n",
        "                step = state['step']\n",
        "                # Decay the first and second moment running average coefficients\n",
        "                # Update first and second moments\n",
        "                exp_avg.mul_(beta1).add_(grad, alpha=1 - beta1) # Exponential moving average of gradients\n",
        "                exp_avg_sq.mul_(beta2).addcmul_(grad, grad, value=1 - beta2) # Exponential moving average of squared gradients\n",
        "                # Correct bias in the first and second moments\n",
        "                bias_correction1 = 1 - beta1 ** step\n",
        "                bias_correction2 = 1 - beta2 ** step\n",
        "                corrected_exp_avg = exp_avg / bias_correction1\n",
        "                corrected_exp_avg_sq = exp_avg_sq / bias_correction2\n",
        "                # Compute the denominator for scaling the update\n",
        "                denom = corrected_exp_avg_sq.sqrt().add_(group['eps']) # Stability epsilon\n",
        "                # Compute the step update\n",
        "                update = corrected_exp_avg / denom\n",
        "                # Apply weight decay directly to the parameters\n",
        "                if group['weight_decay'] != 0:\n",
        "                    update.add_(p.data, alpha=group['weight_decay'])\n",
        "                # Compute the trust ratio (norm of parameters vs norm of update)\n",
        "                param_norm = torch.norm(p.data)\n",
        "                update_norm = torch.norm(update)\n",
        "                trust_ratio = 1.0  # Default trust ratio\n",
        "                if param_norm > 0 and update_norm > 0:\n",
        "                    trust_ratio = param_norm / update_norm\n",
        "                # Update the parameters\n",
        "                p.data.add_(update, alpha=-group['lr'] * trust_ratio)\n",
        "        return loss\n",
        "\n",
        "\n",
        "# Command-line arguments\n",
        "parser = argparse.ArgumentParser(description='Train with Large-Batch Optimizers')\n",
        "parser.add_argument('--optimizer', type=str, default='SGDM', choices=['SGDM', 'AdamW', 'LARS', 'LAMB'],\n",
        "                    help='Choose optimizer')\n",
        "parser.add_argument('--batch-size', type=int, default=128, help='Batch size')\n",
        "parser.add_argument('--momentum', type=float, default=0.9, help='Momentum for SGDM and LARS')\n",
        "parser.add_argument('--weight-decay', type=float, default=1e-5, help='Weight decay')\n",
        "parser.add_argument('--b1', type=float, default=0.9, help='Beta1 for AdamW')\n",
        "parser.add_argument('--b2', type=float, default=0.999, help='Beta2 for AdamW')\n",
        "parser.add_argument('--trust-coefficient', type=float, default=0.001, help='Trust coefficient for LARS')\n",
        "parser.add_argument('--epochs', type=int, default=150, help='Number of epochs')\n",
        "parser.add_argument('--warmup-epochs', type=int, default=5, help='Number of epochs')\n",
        "args = parser.parse_args()\n",
        "\n",
        "\n",
        "torch.manual_seed(42) # Set the seed for reproducibility\n",
        "torch.cuda.manual_seed_all(42) # Set the seed for reproducibility on GPU\n",
        "\n",
        "# use the same mean and std to add consistency to all datasets\n",
        "data = torchvision.datasets.CIFAR100(root='./data', train=True, download=True, transform=transforms.ToTensor())\n",
        "mean, std = compute_mean_std(data)\n",
        "\n",
        "# Load and split CIFAR-100 dataset\n",
        "train_transform = transforms.Compose([\n",
        "  transforms.RandomCrop(32, padding=4),\n",
        "  transforms.RandomHorizontalFlip(),\n",
        "  transforms.ToTensor(),\n",
        "  transforms.Normalize(mean, std)\n",
        "])\n",
        "\n",
        "test_transform = transforms.Compose([\n",
        "    transforms.ToTensor(),  # Convert to PyTorch tensor\n",
        "    transforms.Normalize(mean, std)\n",
        "])\n",
        "\n",
        "trainset = torchvision.datasets.CIFAR100(root='./data', train=True, download=True, transform=train_transform)\n",
        "trainloader = torch.utils.data.DataLoader(trainset, batch_size=args.batch_size, shuffle=True, num_workers=2)\n",
        "\n",
        "testset = torchvision.datasets.CIFAR100(root='./data', train=False, download=True, transform=test_transform)\n",
        "testloader = torch.utils.data.DataLoader(testset, batch_size=args.batch_size, shuffle=False, num_workers=2)\n",
        "\n",
        "\n",
        "# Fixed parameter from paper [18] to calculate the square root LR scaling value\n",
        "# base_lr = 5 / (2**3 * 10**3)\n",
        "# reference_batch_size = 512\n",
        "#scaled_lr = base_lr * (args.batch_size / reference_batch_size) ** 0.5\n",
        "\n",
        "# Mapping optimizers\n",
        "if args.optimizer == 'SGDM':\n",
        "    base_lr = 1e-2\n",
        "    reference_batch_size = 64\n",
        "    scaled_lr = base_lr * (args.batch_size / reference_batch_size) ** 0.5\n",
        "    optimizer = optim.SGD(net.parameters(), lr=scaled_lr, momentum=args.momentum, weight_decay=args.weight_decay)\n",
        "elif args.optimizer == 'AdamW':\n",
        "    base_lr = 1e-4\n",
        "    reference_batch_size = 64\n",
        "    scaled_lr = base_lr * (args.batch_size / reference_batch_size) ** 0.5\n",
        "    optimizer = optim.AdamW(net.parameters(), lr=scaled_lr, betas=(args.b1, args.b2), weight_decay=args.weight_decay)\n",
        "elif args.optimizer == 'LARS':\n",
        "    base_lr = 1e-2\n",
        "    reference_batch_size = 64\n",
        "    scaled_lr = base_lr * (args.batch_size / reference_batch_size) ** 0.5\n",
        "    optimizer = LARS(net.parameters(), lr=scaled_lr, momentum=args.momentum, weight_decay=args.weight_decay, trust_coefficient=args.trust_coefficient)\n",
        "elif args.optimizer == 'LAMB':\n",
        "    base_lr = 5e-4\n",
        "    reference_batch_size = 64\n",
        "    scaled_lr = base_lr * (args.batch_size / reference_batch_size) ** 0.5\n",
        "    optimizer = LAMB(net.parameters(), lr=scaled_lr, weight_decay=args.weight_decay)\n",
        "\n",
        "criterion = nn.CrossEntropyLoss()\n",
        "\n",
        "# Scheduler initialization\n",
        "scheduler = optim.lr_scheduler.CosineAnnealingLR(optimizer=optimizer, T_max=args.epochs - args.warmup_epochs)\n",
        "\n",
        "# Training Function\n",
        "def train_model(optimizer, scheduler, model, criterion, trainloader , testloader, device, epochs, save_checkpoint_interval=10):\n",
        "    train_losses, test_losses = [], []\n",
        "    train_accuracies, test_accuracies = [], []\n",
        "    for epoch in range(epochs):\n",
        "        model.train()\n",
        "        running_loss, correct_train, total_train = 0.0, 0, 0\n",
        "        for inputs, labels in trainloader:\n",
        "            inputs, labels = inputs.to(device), labels.to(device)\n",
        "            optimizer.zero_grad()\n",
        "            outputs = model(inputs)\n",
        "            loss = criterion(outputs, labels)\n",
        "            loss.backward()\n",
        "            optimizer.step()\n",
        "            running_loss += loss.item()\n",
        "            _, predicted = outputs.max(1)\n",
        "            total_train += labels.size(0)\n",
        "            correct_train += predicted.eq(labels).sum().item()\n",
        "        train_loss = running_loss / len(trainloader)\n",
        "        train_accuracy = 100. * correct_train / total_train\n",
        "        train_losses.append(train_loss)\n",
        "        train_accuracies.append(train_accuracy)\n",
        "\n",
        "        '''\n",
        "        # Early Stopping\n",
        "        if val_loss < best_val_loss:\n",
        "          best_val_loss = val_loss\n",
        "          epochs_no_improve = 0\n",
        "        else:\n",
        "          epochs_no_improve += 1\n",
        "\n",
        "        if epochs_no_improve == patience:\n",
        "          print(\"Early stopping!\")\n",
        "          break\n",
        "        '''\n",
        "\n",
        "        # Test\n",
        "        correct_test, total_test, test_loss = 0, 0, 0.0\n",
        "        with torch.no_grad():\n",
        "            for inputs, labels in testloader:\n",
        "                inputs, labels = inputs.to(device), labels.to(device)\n",
        "                outputs = model(inputs)\n",
        "                loss = criterion(outputs, labels)\n",
        "                test_loss += loss.item()\n",
        "                _, predicted = outputs.max(1)\n",
        "                total_test += labels.size(0)\n",
        "                correct_test += predicted.eq(labels).sum().item()\n",
        "        test_loss /= len(testloader)\n",
        "        test_losses.append(test_loss)\n",
        "        test_accuracy = 100. * correct_test / total_test\n",
        "        test_accuracies.append(test_accuracy)\n",
        "\n",
        "        if epoch >= args.warmup_epochs:\n",
        "            scheduler.step()  # Trigger cosine decay\n",
        "        else:\n",
        "            warmup_factor = (epoch + 1) / args.warmup_epochs\n",
        "            lr = warmup_factor * scaled_lr\n",
        "            for param_group in optimizer.param_groups:\n",
        "                param_group['lr'] = lr\n",
        "\n",
        "        # Checkpointing\n",
        "        if (epoch + 1) % save_checkpoint_interval == 0:\n",
        "            checkpoint_filename = f'checkpoint_epoch_{epoch + 1}.pth'\n",
        "            checkpoint = {\n",
        "                'epoch': epoch + 1,\n",
        "                'model_state_dict': model.state_dict(),\n",
        "                'optimizer_state_dict': optimizer.state_dict(),\n",
        "                'scheduler_state_dict': scheduler.state_dict(),\n",
        "                'loss': loss.item(),\n",
        "            }\n",
        "            checkpoint_path = os.path.join('./', checkpoint_filename)\n",
        "            torch.save(checkpoint, checkpoint_path)\n",
        "            print(f'Checkpoint saved at epoch {epoch + 1}: {checkpoint_path}')\n",
        "\n",
        "            # Download the checkpoint\n",
        "            files.download(checkpoint_filename)\n",
        "\n",
        "        print(f'Epoch {epoch+1}/{epochs}, Train Acc: {train_accuracy:.2f}%, Test Acc: {test_accuracy:.2f}%')\n",
        "        print(f'Epoch {epoch+1}/{epochs}, Train Loss: {train_loss:.4f}, Test Loss: {test_loss:.4f}')\n",
        "\n",
        "    return train_losses, test_losses, train_accuracies, test_accuracies\n",
        "\n",
        "# Train the model\n",
        "print(f\"--- Train with {args.optimizer} ---\")\n",
        "train_loss, test_loss, train_acc, test_acc = train_model(optimizer, scheduler, net, criterion, trainloader, testloader, device, args.epochs)\n",
        "\n",
        "# Save model\n",
        "torch.save(net.state_dict(), f'net_{args.optimizer}.pth')\n",
        "\n",
        "# Plot results\n",
        "# Plot Training Loss\n",
        "plt.figure(figsize=(6, 4))\n",
        "plt.plot(train_loss, label='Train Loss')\n",
        "plt.title('Training Loss')\n",
        "plt.xlabel('Epoch')\n",
        "plt.ylabel('Loss')\n",
        "plt.legend()\n",
        "plt.tight_layout()\n",
        "plt.savefig('train_loss.png')\n",
        "plt.show()\n",
        "\n",
        "# Plot Training Accuracy\n",
        "plt.figure(figsize=(6, 4))\n",
        "plt.plot(train_acc, label='Train Accuracy')\n",
        "plt.title('Training Accuracy')\n",
        "plt.xlabel('Epoch')\n",
        "plt.ylabel('Accuracy (%)')\n",
        "plt.legend()\n",
        "plt.tight_layout()\n",
        "plt.savefig('train_accuracy.png')\n",
        "plt.show()\n",
        "\n",
        "# Plot Test Loss\n",
        "plt.figure(figsize=(6, 4))\n",
        "plt.plot(test_loss, label='Test Loss')\n",
        "plt.title('Test Loss')\n",
        "plt.xlabel('Epoch')\n",
        "plt.ylabel('Loss')\n",
        "plt.legend()\n",
        "plt.tight_layout()\n",
        "plt.savefig('test_loss.png')\n",
        "plt.show()\n",
        "\n",
        "# Plot Test Accuracy\n",
        "plt.figure(figsize=(6, 4))\n",
        "plt.plot(test_acc, label='Test Accuracy')\n",
        "plt.title('Test Accuracy')\n",
        "plt.xlabel('Epoch')\n",
        "plt.ylabel('Accuracy (%)')\n",
        "plt.legend()\n",
        "plt.tight_layout()\n",
        "plt.savefig('test_accuracy.png')\n",
        "plt.show()\n"
      ]
    },
    {
      "cell_type": "code",
      "execution_count": null,
      "metadata": {
        "colab": {
          "base_uri": "https://localhost:8080/"
        },
        "id": "_hEcpkQqYJmP",
        "outputId": "c8eedbc5-9061-45df-d650-9e8a0ee8ae51"
      },
      "outputs": [
        {
          "output_type": "stream",
          "name": "stdout",
          "text": [
            "Downloading https://www.cs.toronto.edu/~kriz/cifar-100-python.tar.gz to ./data/cifar-100-python.tar.gz\n"
          ]
        },
        {
          "output_type": "stream",
          "name": "stderr",
          "text": [
            "100%|██████████| 169M/169M [00:04<00:00, 38.6MB/s]\n"
          ]
        },
        {
          "output_type": "stream",
          "name": "stdout",
          "text": [
            "Extracting ./data/cifar-100-python.tar.gz to ./data\n",
            "Files already downloaded and verified\n",
            "Files already downloaded and verified\n",
            "--- Train with SGDM ---\n",
            "Epoch 1/150, Train Acc: 5.64%, Test Acc: 11.74%\n",
            "Epoch 1/150, Train Loss: 4.2260, Test Loss: 3.8022\n"
          ]
        }
      ],
      "source": [
        "%run large_batch_training.py --optimizer SGDM --batch-size 128 --weight-decay 4e-4"
      ]
    },
    {
      "cell_type": "markdown",
      "metadata": {
        "id": "_2t__56QmDKL"
      },
      "source": []
    },
    {
      "cell_type": "code",
      "execution_count": 4,
      "metadata": {
        "colab": {
          "base_uri": "https://localhost:8080/",
          "height": 1000
        },
        "id": "FqIzBQKfZFgB",
        "outputId": "12dc314c-1a47-43cb-be3a-121d699d8dcc"
      },
      "outputs": [
        {
          "output_type": "stream",
          "name": "stdout",
          "text": [
            "Files already downloaded and verified\n",
            "Files already downloaded and verified\n",
            "Files already downloaded and verified\n",
            "--- Train with AdamW ---\n",
            "Epoch 1/150, Train Acc: 5.74%, Test Acc: 11.05%\n",
            "Epoch 1/150, Train Loss: 4.2388, Test Loss: 3.9294\n",
            "Epoch 2/150, Train Acc: 11.03%, Test Acc: 12.60%\n",
            "Epoch 2/150, Train Loss: 3.9002, Test Loss: 3.8160\n",
            "Epoch 3/150, Train Acc: 12.16%, Test Acc: 13.66%\n",
            "Epoch 3/150, Train Loss: 3.8204, Test Loss: 3.7243\n",
            "Epoch 4/150, Train Acc: 13.64%, Test Acc: 15.72%\n",
            "Epoch 4/150, Train Loss: 3.7181, Test Loss: 3.5941\n",
            "Epoch 5/150, Train Acc: 15.66%, Test Acc: 18.48%\n",
            "Epoch 5/150, Train Loss: 3.5921, Test Loss: 3.4762\n",
            "Epoch 6/150, Train Acc: 17.44%, Test Acc: 19.25%\n",
            "Epoch 6/150, Train Loss: 3.4792, Test Loss: 3.3749\n",
            "Epoch 7/150, Train Acc: 19.40%, Test Acc: 22.14%\n",
            "Epoch 7/150, Train Loss: 3.3585, Test Loss: 3.2480\n",
            "Epoch 8/150, Train Acc: 21.51%, Test Acc: 24.73%\n",
            "Epoch 8/150, Train Loss: 3.2557, Test Loss: 3.1310\n",
            "Epoch 9/150, Train Acc: 22.99%, Test Acc: 25.68%\n",
            "Epoch 9/150, Train Loss: 3.1677, Test Loss: 3.0646\n",
            "Checkpoint saved at epoch 10: ./checkpoint_epoch_10.pth\n"
          ]
        },
        {
          "output_type": "display_data",
          "data": {
            "text/plain": [
              "<IPython.core.display.Javascript object>"
            ],
            "application/javascript": [
              "\n",
              "    async function download(id, filename, size) {\n",
              "      if (!google.colab.kernel.accessAllowed) {\n",
              "        return;\n",
              "      }\n",
              "      const div = document.createElement('div');\n",
              "      const label = document.createElement('label');\n",
              "      label.textContent = `Downloading \"${filename}\": `;\n",
              "      div.appendChild(label);\n",
              "      const progress = document.createElement('progress');\n",
              "      progress.max = size;\n",
              "      div.appendChild(progress);\n",
              "      document.body.appendChild(div);\n",
              "\n",
              "      const buffers = [];\n",
              "      let downloaded = 0;\n",
              "\n",
              "      const channel = await google.colab.kernel.comms.open(id);\n",
              "      // Send a message to notify the kernel that we're ready.\n",
              "      channel.send({})\n",
              "\n",
              "      for await (const message of channel.messages) {\n",
              "        // Send a message to notify the kernel that we're ready.\n",
              "        channel.send({})\n",
              "        if (message.buffers) {\n",
              "          for (const buffer of message.buffers) {\n",
              "            buffers.push(buffer);\n",
              "            downloaded += buffer.byteLength;\n",
              "            progress.value = downloaded;\n",
              "          }\n",
              "        }\n",
              "      }\n",
              "      const blob = new Blob(buffers, {type: 'application/binary'});\n",
              "      const a = document.createElement('a');\n",
              "      a.href = window.URL.createObjectURL(blob);\n",
              "      a.download = filename;\n",
              "      div.appendChild(a);\n",
              "      a.click();\n",
              "      div.remove();\n",
              "    }\n",
              "  "
            ]
          },
          "metadata": {}
        },
        {
          "output_type": "display_data",
          "data": {
            "text/plain": [
              "<IPython.core.display.Javascript object>"
            ],
            "application/javascript": [
              "download(\"download_035e1b8c-162e-48d1-8aa6-5e528efb11d3\", \"checkpoint_epoch_10.pth\", 9796974)"
            ]
          },
          "metadata": {}
        },
        {
          "output_type": "stream",
          "name": "stdout",
          "text": [
            "Epoch 10/150, Train Acc: 23.98%, Test Acc: 26.64%\n",
            "Epoch 10/150, Train Loss: 3.1047, Test Loss: 2.9858\n",
            "Epoch 11/150, Train Acc: 25.48%, Test Acc: 28.48%\n",
            "Epoch 11/150, Train Loss: 3.0304, Test Loss: 2.9179\n",
            "Epoch 12/150, Train Acc: 26.66%, Test Acc: 29.27%\n",
            "Epoch 12/150, Train Loss: 2.9683, Test Loss: 2.8617\n",
            "Epoch 13/150, Train Acc: 27.93%, Test Acc: 30.44%\n",
            "Epoch 13/150, Train Loss: 2.9106, Test Loss: 2.8087\n",
            "Epoch 14/150, Train Acc: 28.76%, Test Acc: 30.77%\n",
            "Epoch 14/150, Train Loss: 2.8581, Test Loss: 2.7986\n",
            "Epoch 15/150, Train Acc: 29.95%, Test Acc: 31.67%\n",
            "Epoch 15/150, Train Loss: 2.8039, Test Loss: 2.7281\n",
            "Epoch 16/150, Train Acc: 30.69%, Test Acc: 33.57%\n",
            "Epoch 16/150, Train Loss: 2.7589, Test Loss: 2.6581\n",
            "Epoch 17/150, Train Acc: 31.44%, Test Acc: 34.12%\n",
            "Epoch 17/150, Train Loss: 2.7251, Test Loss: 2.6168\n",
            "Epoch 18/150, Train Acc: 32.32%, Test Acc: 34.22%\n",
            "Epoch 18/150, Train Loss: 2.6756, Test Loss: 2.5977\n",
            "Epoch 19/150, Train Acc: 33.44%, Test Acc: 34.76%\n",
            "Epoch 19/150, Train Loss: 2.6362, Test Loss: 2.5747\n",
            "Checkpoint saved at epoch 20: ./checkpoint_epoch_20.pth\n"
          ]
        },
        {
          "output_type": "display_data",
          "data": {
            "text/plain": [
              "<IPython.core.display.Javascript object>"
            ],
            "application/javascript": [
              "\n",
              "    async function download(id, filename, size) {\n",
              "      if (!google.colab.kernel.accessAllowed) {\n",
              "        return;\n",
              "      }\n",
              "      const div = document.createElement('div');\n",
              "      const label = document.createElement('label');\n",
              "      label.textContent = `Downloading \"${filename}\": `;\n",
              "      div.appendChild(label);\n",
              "      const progress = document.createElement('progress');\n",
              "      progress.max = size;\n",
              "      div.appendChild(progress);\n",
              "      document.body.appendChild(div);\n",
              "\n",
              "      const buffers = [];\n",
              "      let downloaded = 0;\n",
              "\n",
              "      const channel = await google.colab.kernel.comms.open(id);\n",
              "      // Send a message to notify the kernel that we're ready.\n",
              "      channel.send({})\n",
              "\n",
              "      for await (const message of channel.messages) {\n",
              "        // Send a message to notify the kernel that we're ready.\n",
              "        channel.send({})\n",
              "        if (message.buffers) {\n",
              "          for (const buffer of message.buffers) {\n",
              "            buffers.push(buffer);\n",
              "            downloaded += buffer.byteLength;\n",
              "            progress.value = downloaded;\n",
              "          }\n",
              "        }\n",
              "      }\n",
              "      const blob = new Blob(buffers, {type: 'application/binary'});\n",
              "      const a = document.createElement('a');\n",
              "      a.href = window.URL.createObjectURL(blob);\n",
              "      a.download = filename;\n",
              "      div.appendChild(a);\n",
              "      a.click();\n",
              "      div.remove();\n",
              "    }\n",
              "  "
            ]
          },
          "metadata": {}
        },
        {
          "output_type": "display_data",
          "data": {
            "text/plain": [
              "<IPython.core.display.Javascript object>"
            ],
            "application/javascript": [
              "download(\"download_f062b8bd-695c-4fe8-9c25-bdaf507d2d22\", \"checkpoint_epoch_20.pth\", 9796974)"
            ]
          },
          "metadata": {}
        },
        {
          "output_type": "stream",
          "name": "stdout",
          "text": [
            "Epoch 20/150, Train Acc: 33.65%, Test Acc: 35.46%\n",
            "Epoch 20/150, Train Loss: 2.6122, Test Loss: 2.5388\n",
            "Epoch 21/150, Train Acc: 34.53%, Test Acc: 36.87%\n",
            "Epoch 21/150, Train Loss: 2.5712, Test Loss: 2.4950\n",
            "Epoch 22/150, Train Acc: 35.13%, Test Acc: 36.64%\n",
            "Epoch 22/150, Train Loss: 2.5465, Test Loss: 2.4945\n",
            "Epoch 23/150, Train Acc: 35.39%, Test Acc: 37.21%\n",
            "Epoch 23/150, Train Loss: 2.5239, Test Loss: 2.4622\n",
            "Epoch 24/150, Train Acc: 35.95%, Test Acc: 37.26%\n",
            "Epoch 24/150, Train Loss: 2.4978, Test Loss: 2.4539\n",
            "Epoch 25/150, Train Acc: 36.58%, Test Acc: 36.80%\n",
            "Epoch 25/150, Train Loss: 2.4753, Test Loss: 2.4547\n",
            "Epoch 26/150, Train Acc: 37.19%, Test Acc: 37.70%\n",
            "Epoch 26/150, Train Loss: 2.4436, Test Loss: 2.4335\n",
            "Epoch 27/150, Train Acc: 37.42%, Test Acc: 38.22%\n",
            "Epoch 27/150, Train Loss: 2.4276, Test Loss: 2.3975\n",
            "Epoch 28/150, Train Acc: 38.12%, Test Acc: 38.67%\n",
            "Epoch 28/150, Train Loss: 2.4039, Test Loss: 2.3898\n",
            "Epoch 29/150, Train Acc: 38.19%, Test Acc: 39.09%\n",
            "Epoch 29/150, Train Loss: 2.3867, Test Loss: 2.3556\n",
            "Checkpoint saved at epoch 30: ./checkpoint_epoch_30.pth\n"
          ]
        },
        {
          "output_type": "display_data",
          "data": {
            "text/plain": [
              "<IPython.core.display.Javascript object>"
            ],
            "application/javascript": [
              "\n",
              "    async function download(id, filename, size) {\n",
              "      if (!google.colab.kernel.accessAllowed) {\n",
              "        return;\n",
              "      }\n",
              "      const div = document.createElement('div');\n",
              "      const label = document.createElement('label');\n",
              "      label.textContent = `Downloading \"${filename}\": `;\n",
              "      div.appendChild(label);\n",
              "      const progress = document.createElement('progress');\n",
              "      progress.max = size;\n",
              "      div.appendChild(progress);\n",
              "      document.body.appendChild(div);\n",
              "\n",
              "      const buffers = [];\n",
              "      let downloaded = 0;\n",
              "\n",
              "      const channel = await google.colab.kernel.comms.open(id);\n",
              "      // Send a message to notify the kernel that we're ready.\n",
              "      channel.send({})\n",
              "\n",
              "      for await (const message of channel.messages) {\n",
              "        // Send a message to notify the kernel that we're ready.\n",
              "        channel.send({})\n",
              "        if (message.buffers) {\n",
              "          for (const buffer of message.buffers) {\n",
              "            buffers.push(buffer);\n",
              "            downloaded += buffer.byteLength;\n",
              "            progress.value = downloaded;\n",
              "          }\n",
              "        }\n",
              "      }\n",
              "      const blob = new Blob(buffers, {type: 'application/binary'});\n",
              "      const a = document.createElement('a');\n",
              "      a.href = window.URL.createObjectURL(blob);\n",
              "      a.download = filename;\n",
              "      div.appendChild(a);\n",
              "      a.click();\n",
              "      div.remove();\n",
              "    }\n",
              "  "
            ]
          },
          "metadata": {}
        },
        {
          "output_type": "display_data",
          "data": {
            "text/plain": [
              "<IPython.core.display.Javascript object>"
            ],
            "application/javascript": [
              "download(\"download_c3053a8a-45b8-4543-a4bc-5b7524b1709a\", \"checkpoint_epoch_30.pth\", 9796974)"
            ]
          },
          "metadata": {}
        },
        {
          "output_type": "stream",
          "name": "stdout",
          "text": [
            "Epoch 30/150, Train Acc: 38.66%, Test Acc: 39.45%\n",
            "Epoch 30/150, Train Loss: 2.3663, Test Loss: 2.3463\n",
            "Epoch 31/150, Train Acc: 39.47%, Test Acc: 40.13%\n",
            "Epoch 31/150, Train Loss: 2.3399, Test Loss: 2.3299\n",
            "Epoch 32/150, Train Acc: 39.58%, Test Acc: 40.50%\n",
            "Epoch 32/150, Train Loss: 2.3281, Test Loss: 2.3121\n",
            "Epoch 33/150, Train Acc: 40.00%, Test Acc: 40.28%\n",
            "Epoch 33/150, Train Loss: 2.3054, Test Loss: 2.3198\n",
            "Epoch 34/150, Train Acc: 40.44%, Test Acc: 41.67%\n",
            "Epoch 34/150, Train Loss: 2.2894, Test Loss: 2.2716\n",
            "Epoch 35/150, Train Acc: 40.83%, Test Acc: 41.06%\n",
            "Epoch 35/150, Train Loss: 2.2689, Test Loss: 2.2724\n",
            "Epoch 36/150, Train Acc: 41.09%, Test Acc: 41.49%\n",
            "Epoch 36/150, Train Loss: 2.2599, Test Loss: 2.2620\n",
            "Epoch 37/150, Train Acc: 41.71%, Test Acc: 42.05%\n",
            "Epoch 37/150, Train Loss: 2.2345, Test Loss: 2.2476\n",
            "Epoch 38/150, Train Acc: 41.91%, Test Acc: 41.51%\n",
            "Epoch 38/150, Train Loss: 2.2194, Test Loss: 2.2586\n",
            "Epoch 39/150, Train Acc: 42.47%, Test Acc: 41.84%\n",
            "Epoch 39/150, Train Loss: 2.2038, Test Loss: 2.2532\n",
            "Checkpoint saved at epoch 40: ./checkpoint_epoch_40.pth\n"
          ]
        },
        {
          "output_type": "display_data",
          "data": {
            "text/plain": [
              "<IPython.core.display.Javascript object>"
            ],
            "application/javascript": [
              "\n",
              "    async function download(id, filename, size) {\n",
              "      if (!google.colab.kernel.accessAllowed) {\n",
              "        return;\n",
              "      }\n",
              "      const div = document.createElement('div');\n",
              "      const label = document.createElement('label');\n",
              "      label.textContent = `Downloading \"${filename}\": `;\n",
              "      div.appendChild(label);\n",
              "      const progress = document.createElement('progress');\n",
              "      progress.max = size;\n",
              "      div.appendChild(progress);\n",
              "      document.body.appendChild(div);\n",
              "\n",
              "      const buffers = [];\n",
              "      let downloaded = 0;\n",
              "\n",
              "      const channel = await google.colab.kernel.comms.open(id);\n",
              "      // Send a message to notify the kernel that we're ready.\n",
              "      channel.send({})\n",
              "\n",
              "      for await (const message of channel.messages) {\n",
              "        // Send a message to notify the kernel that we're ready.\n",
              "        channel.send({})\n",
              "        if (message.buffers) {\n",
              "          for (const buffer of message.buffers) {\n",
              "            buffers.push(buffer);\n",
              "            downloaded += buffer.byteLength;\n",
              "            progress.value = downloaded;\n",
              "          }\n",
              "        }\n",
              "      }\n",
              "      const blob = new Blob(buffers, {type: 'application/binary'});\n",
              "      const a = document.createElement('a');\n",
              "      a.href = window.URL.createObjectURL(blob);\n",
              "      a.download = filename;\n",
              "      div.appendChild(a);\n",
              "      a.click();\n",
              "      div.remove();\n",
              "    }\n",
              "  "
            ]
          },
          "metadata": {}
        },
        {
          "output_type": "display_data",
          "data": {
            "text/plain": [
              "<IPython.core.display.Javascript object>"
            ],
            "application/javascript": [
              "download(\"download_6f280f6d-5557-4756-91f6-045c153a454d\", \"checkpoint_epoch_40.pth\", 9796974)"
            ]
          },
          "metadata": {}
        },
        {
          "output_type": "stream",
          "name": "stdout",
          "text": [
            "Epoch 40/150, Train Acc: 42.81%, Test Acc: 42.54%\n",
            "Epoch 40/150, Train Loss: 2.1921, Test Loss: 2.2255\n",
            "Epoch 41/150, Train Acc: 42.83%, Test Acc: 41.18%\n",
            "Epoch 41/150, Train Loss: 2.1848, Test Loss: 2.2726\n",
            "Epoch 42/150, Train Acc: 43.16%, Test Acc: 42.22%\n",
            "Epoch 42/150, Train Loss: 2.1730, Test Loss: 2.2236\n",
            "Epoch 43/150, Train Acc: 43.18%, Test Acc: 42.78%\n",
            "Epoch 43/150, Train Loss: 2.1604, Test Loss: 2.2051\n",
            "Epoch 44/150, Train Acc: 43.81%, Test Acc: 43.19%\n",
            "Epoch 44/150, Train Loss: 2.1416, Test Loss: 2.1906\n",
            "Epoch 45/150, Train Acc: 44.26%, Test Acc: 43.17%\n",
            "Epoch 45/150, Train Loss: 2.1267, Test Loss: 2.1865\n",
            "Epoch 46/150, Train Acc: 44.32%, Test Acc: 43.51%\n",
            "Epoch 46/150, Train Loss: 2.1146, Test Loss: 2.1770\n",
            "Epoch 47/150, Train Acc: 44.50%, Test Acc: 43.63%\n",
            "Epoch 47/150, Train Loss: 2.1074, Test Loss: 2.1849\n",
            "Epoch 48/150, Train Acc: 44.58%, Test Acc: 44.19%\n",
            "Epoch 48/150, Train Loss: 2.0983, Test Loss: 2.1646\n",
            "Epoch 49/150, Train Acc: 45.12%, Test Acc: 43.90%\n",
            "Epoch 49/150, Train Loss: 2.0839, Test Loss: 2.1543\n",
            "Checkpoint saved at epoch 50: ./checkpoint_epoch_50.pth\n"
          ]
        },
        {
          "output_type": "display_data",
          "data": {
            "text/plain": [
              "<IPython.core.display.Javascript object>"
            ],
            "application/javascript": [
              "\n",
              "    async function download(id, filename, size) {\n",
              "      if (!google.colab.kernel.accessAllowed) {\n",
              "        return;\n",
              "      }\n",
              "      const div = document.createElement('div');\n",
              "      const label = document.createElement('label');\n",
              "      label.textContent = `Downloading \"${filename}\": `;\n",
              "      div.appendChild(label);\n",
              "      const progress = document.createElement('progress');\n",
              "      progress.max = size;\n",
              "      div.appendChild(progress);\n",
              "      document.body.appendChild(div);\n",
              "\n",
              "      const buffers = [];\n",
              "      let downloaded = 0;\n",
              "\n",
              "      const channel = await google.colab.kernel.comms.open(id);\n",
              "      // Send a message to notify the kernel that we're ready.\n",
              "      channel.send({})\n",
              "\n",
              "      for await (const message of channel.messages) {\n",
              "        // Send a message to notify the kernel that we're ready.\n",
              "        channel.send({})\n",
              "        if (message.buffers) {\n",
              "          for (const buffer of message.buffers) {\n",
              "            buffers.push(buffer);\n",
              "            downloaded += buffer.byteLength;\n",
              "            progress.value = downloaded;\n",
              "          }\n",
              "        }\n",
              "      }\n",
              "      const blob = new Blob(buffers, {type: 'application/binary'});\n",
              "      const a = document.createElement('a');\n",
              "      a.href = window.URL.createObjectURL(blob);\n",
              "      a.download = filename;\n",
              "      div.appendChild(a);\n",
              "      a.click();\n",
              "      div.remove();\n",
              "    }\n",
              "  "
            ]
          },
          "metadata": {}
        },
        {
          "output_type": "display_data",
          "data": {
            "text/plain": [
              "<IPython.core.display.Javascript object>"
            ],
            "application/javascript": [
              "download(\"download_afd8ef62-7ec4-473b-af3d-49a34820e41a\", \"checkpoint_epoch_50.pth\", 9796974)"
            ]
          },
          "metadata": {}
        },
        {
          "output_type": "stream",
          "name": "stdout",
          "text": [
            "Epoch 50/150, Train Acc: 45.71%, Test Acc: 43.88%\n",
            "Epoch 50/150, Train Loss: 2.0652, Test Loss: 2.1619\n",
            "Epoch 51/150, Train Acc: 45.79%, Test Acc: 44.13%\n",
            "Epoch 51/150, Train Loss: 2.0520, Test Loss: 2.1513\n",
            "Epoch 52/150, Train Acc: 45.96%, Test Acc: 44.19%\n",
            "Epoch 52/150, Train Loss: 2.0461, Test Loss: 2.1412\n",
            "Epoch 53/150, Train Acc: 45.97%, Test Acc: 44.16%\n",
            "Epoch 53/150, Train Loss: 2.0357, Test Loss: 2.1416\n",
            "Epoch 54/150, Train Acc: 46.31%, Test Acc: 44.71%\n",
            "Epoch 54/150, Train Loss: 2.0313, Test Loss: 2.1464\n",
            "Epoch 55/150, Train Acc: 46.49%, Test Acc: 44.39%\n",
            "Epoch 55/150, Train Loss: 2.0147, Test Loss: 2.1225\n",
            "Epoch 56/150, Train Acc: 46.80%, Test Acc: 44.32%\n",
            "Epoch 56/150, Train Loss: 2.0104, Test Loss: 2.1343\n",
            "Epoch 57/150, Train Acc: 47.02%, Test Acc: 44.45%\n",
            "Epoch 57/150, Train Loss: 1.9931, Test Loss: 2.1260\n",
            "Epoch 58/150, Train Acc: 47.35%, Test Acc: 45.18%\n",
            "Epoch 58/150, Train Loss: 1.9799, Test Loss: 2.1131\n",
            "Epoch 59/150, Train Acc: 47.36%, Test Acc: 44.49%\n",
            "Epoch 59/150, Train Loss: 1.9806, Test Loss: 2.1111\n",
            "Checkpoint saved at epoch 60: ./checkpoint_epoch_60.pth\n"
          ]
        },
        {
          "output_type": "display_data",
          "data": {
            "text/plain": [
              "<IPython.core.display.Javascript object>"
            ],
            "application/javascript": [
              "\n",
              "    async function download(id, filename, size) {\n",
              "      if (!google.colab.kernel.accessAllowed) {\n",
              "        return;\n",
              "      }\n",
              "      const div = document.createElement('div');\n",
              "      const label = document.createElement('label');\n",
              "      label.textContent = `Downloading \"${filename}\": `;\n",
              "      div.appendChild(label);\n",
              "      const progress = document.createElement('progress');\n",
              "      progress.max = size;\n",
              "      div.appendChild(progress);\n",
              "      document.body.appendChild(div);\n",
              "\n",
              "      const buffers = [];\n",
              "      let downloaded = 0;\n",
              "\n",
              "      const channel = await google.colab.kernel.comms.open(id);\n",
              "      // Send a message to notify the kernel that we're ready.\n",
              "      channel.send({})\n",
              "\n",
              "      for await (const message of channel.messages) {\n",
              "        // Send a message to notify the kernel that we're ready.\n",
              "        channel.send({})\n",
              "        if (message.buffers) {\n",
              "          for (const buffer of message.buffers) {\n",
              "            buffers.push(buffer);\n",
              "            downloaded += buffer.byteLength;\n",
              "            progress.value = downloaded;\n",
              "          }\n",
              "        }\n",
              "      }\n",
              "      const blob = new Blob(buffers, {type: 'application/binary'});\n",
              "      const a = document.createElement('a');\n",
              "      a.href = window.URL.createObjectURL(blob);\n",
              "      a.download = filename;\n",
              "      div.appendChild(a);\n",
              "      a.click();\n",
              "      div.remove();\n",
              "    }\n",
              "  "
            ]
          },
          "metadata": {}
        },
        {
          "output_type": "display_data",
          "data": {
            "text/plain": [
              "<IPython.core.display.Javascript object>"
            ],
            "application/javascript": [
              "download(\"download_9797ec69-fab6-4441-b7c6-56ae6343a4e5\", \"checkpoint_epoch_60.pth\", 9796974)"
            ]
          },
          "metadata": {}
        },
        {
          "output_type": "stream",
          "name": "stdout",
          "text": [
            "Epoch 60/150, Train Acc: 47.58%, Test Acc: 44.91%\n",
            "Epoch 60/150, Train Loss: 1.9687, Test Loss: 2.1155\n",
            "Epoch 61/150, Train Acc: 48.13%, Test Acc: 45.22%\n",
            "Epoch 61/150, Train Loss: 1.9593, Test Loss: 2.0987\n",
            "Epoch 62/150, Train Acc: 47.93%, Test Acc: 45.16%\n",
            "Epoch 62/150, Train Loss: 1.9481, Test Loss: 2.1066\n",
            "Epoch 63/150, Train Acc: 48.27%, Test Acc: 45.00%\n",
            "Epoch 63/150, Train Loss: 1.9424, Test Loss: 2.1038\n",
            "Epoch 64/150, Train Acc: 48.40%, Test Acc: 45.75%\n",
            "Epoch 64/150, Train Loss: 1.9372, Test Loss: 2.0960\n",
            "Epoch 65/150, Train Acc: 48.52%, Test Acc: 45.39%\n",
            "Epoch 65/150, Train Loss: 1.9275, Test Loss: 2.0910\n",
            "Epoch 66/150, Train Acc: 48.80%, Test Acc: 45.84%\n",
            "Epoch 66/150, Train Loss: 1.9183, Test Loss: 2.0843\n",
            "Epoch 67/150, Train Acc: 48.93%, Test Acc: 45.72%\n",
            "Epoch 67/150, Train Loss: 1.9126, Test Loss: 2.0830\n",
            "Epoch 68/150, Train Acc: 49.01%, Test Acc: 46.11%\n",
            "Epoch 68/150, Train Loss: 1.9073, Test Loss: 2.0917\n",
            "Epoch 69/150, Train Acc: 49.22%, Test Acc: 45.98%\n",
            "Epoch 69/150, Train Loss: 1.8947, Test Loss: 2.0734\n",
            "Checkpoint saved at epoch 70: ./checkpoint_epoch_70.pth\n"
          ]
        },
        {
          "output_type": "display_data",
          "data": {
            "text/plain": [
              "<IPython.core.display.Javascript object>"
            ],
            "application/javascript": [
              "\n",
              "    async function download(id, filename, size) {\n",
              "      if (!google.colab.kernel.accessAllowed) {\n",
              "        return;\n",
              "      }\n",
              "      const div = document.createElement('div');\n",
              "      const label = document.createElement('label');\n",
              "      label.textContent = `Downloading \"${filename}\": `;\n",
              "      div.appendChild(label);\n",
              "      const progress = document.createElement('progress');\n",
              "      progress.max = size;\n",
              "      div.appendChild(progress);\n",
              "      document.body.appendChild(div);\n",
              "\n",
              "      const buffers = [];\n",
              "      let downloaded = 0;\n",
              "\n",
              "      const channel = await google.colab.kernel.comms.open(id);\n",
              "      // Send a message to notify the kernel that we're ready.\n",
              "      channel.send({})\n",
              "\n",
              "      for await (const message of channel.messages) {\n",
              "        // Send a message to notify the kernel that we're ready.\n",
              "        channel.send({})\n",
              "        if (message.buffers) {\n",
              "          for (const buffer of message.buffers) {\n",
              "            buffers.push(buffer);\n",
              "            downloaded += buffer.byteLength;\n",
              "            progress.value = downloaded;\n",
              "          }\n",
              "        }\n",
              "      }\n",
              "      const blob = new Blob(buffers, {type: 'application/binary'});\n",
              "      const a = document.createElement('a');\n",
              "      a.href = window.URL.createObjectURL(blob);\n",
              "      a.download = filename;\n",
              "      div.appendChild(a);\n",
              "      a.click();\n",
              "      div.remove();\n",
              "    }\n",
              "  "
            ]
          },
          "metadata": {}
        },
        {
          "output_type": "display_data",
          "data": {
            "text/plain": [
              "<IPython.core.display.Javascript object>"
            ],
            "application/javascript": [
              "download(\"download_e9693170-56ee-40a4-b872-ceac536eeb4c\", \"checkpoint_epoch_70.pth\", 9796974)"
            ]
          },
          "metadata": {}
        },
        {
          "output_type": "stream",
          "name": "stdout",
          "text": [
            "Epoch 70/150, Train Acc: 49.40%, Test Acc: 46.39%\n",
            "Epoch 70/150, Train Loss: 1.8920, Test Loss: 2.0737\n",
            "Epoch 71/150, Train Acc: 49.56%, Test Acc: 45.88%\n",
            "Epoch 71/150, Train Loss: 1.8842, Test Loss: 2.0729\n",
            "Epoch 72/150, Train Acc: 49.90%, Test Acc: 46.55%\n",
            "Epoch 72/150, Train Loss: 1.8760, Test Loss: 2.0626\n",
            "Epoch 73/150, Train Acc: 50.14%, Test Acc: 46.20%\n",
            "Epoch 73/150, Train Loss: 1.8624, Test Loss: 2.0644\n",
            "Epoch 74/150, Train Acc: 50.12%, Test Acc: 46.26%\n",
            "Epoch 74/150, Train Loss: 1.8588, Test Loss: 2.0575\n",
            "Epoch 75/150, Train Acc: 50.09%, Test Acc: 46.31%\n",
            "Epoch 75/150, Train Loss: 1.8611, Test Loss: 2.0643\n",
            "Epoch 76/150, Train Acc: 50.11%, Test Acc: 46.53%\n",
            "Epoch 76/150, Train Loss: 1.8492, Test Loss: 2.0576\n",
            "Epoch 77/150, Train Acc: 50.66%, Test Acc: 46.51%\n",
            "Epoch 77/150, Train Loss: 1.8411, Test Loss: 2.0570\n",
            "Epoch 78/150, Train Acc: 50.53%, Test Acc: 46.44%\n",
            "Epoch 78/150, Train Loss: 1.8374, Test Loss: 2.0471\n",
            "Epoch 79/150, Train Acc: 50.64%, Test Acc: 46.97%\n",
            "Epoch 79/150, Train Loss: 1.8273, Test Loss: 2.0417\n",
            "Checkpoint saved at epoch 80: ./checkpoint_epoch_80.pth\n"
          ]
        },
        {
          "output_type": "display_data",
          "data": {
            "text/plain": [
              "<IPython.core.display.Javascript object>"
            ],
            "application/javascript": [
              "\n",
              "    async function download(id, filename, size) {\n",
              "      if (!google.colab.kernel.accessAllowed) {\n",
              "        return;\n",
              "      }\n",
              "      const div = document.createElement('div');\n",
              "      const label = document.createElement('label');\n",
              "      label.textContent = `Downloading \"${filename}\": `;\n",
              "      div.appendChild(label);\n",
              "      const progress = document.createElement('progress');\n",
              "      progress.max = size;\n",
              "      div.appendChild(progress);\n",
              "      document.body.appendChild(div);\n",
              "\n",
              "      const buffers = [];\n",
              "      let downloaded = 0;\n",
              "\n",
              "      const channel = await google.colab.kernel.comms.open(id);\n",
              "      // Send a message to notify the kernel that we're ready.\n",
              "      channel.send({})\n",
              "\n",
              "      for await (const message of channel.messages) {\n",
              "        // Send a message to notify the kernel that we're ready.\n",
              "        channel.send({})\n",
              "        if (message.buffers) {\n",
              "          for (const buffer of message.buffers) {\n",
              "            buffers.push(buffer);\n",
              "            downloaded += buffer.byteLength;\n",
              "            progress.value = downloaded;\n",
              "          }\n",
              "        }\n",
              "      }\n",
              "      const blob = new Blob(buffers, {type: 'application/binary'});\n",
              "      const a = document.createElement('a');\n",
              "      a.href = window.URL.createObjectURL(blob);\n",
              "      a.download = filename;\n",
              "      div.appendChild(a);\n",
              "      a.click();\n",
              "      div.remove();\n",
              "    }\n",
              "  "
            ]
          },
          "metadata": {}
        },
        {
          "output_type": "display_data",
          "data": {
            "text/plain": [
              "<IPython.core.display.Javascript object>"
            ],
            "application/javascript": [
              "download(\"download_604b77ce-8cde-439d-bfc1-b8c003c2f133\", \"checkpoint_epoch_80.pth\", 9796974)"
            ]
          },
          "metadata": {}
        },
        {
          "output_type": "stream",
          "name": "stdout",
          "text": [
            "Epoch 80/150, Train Acc: 51.07%, Test Acc: 47.08%\n",
            "Epoch 80/150, Train Loss: 1.8204, Test Loss: 2.0367\n",
            "Epoch 81/150, Train Acc: 50.75%, Test Acc: 46.71%\n",
            "Epoch 81/150, Train Loss: 1.8237, Test Loss: 2.0496\n",
            "Epoch 82/150, Train Acc: 51.09%, Test Acc: 46.73%\n",
            "Epoch 82/150, Train Loss: 1.8094, Test Loss: 2.0429\n",
            "Epoch 83/150, Train Acc: 51.54%, Test Acc: 47.34%\n",
            "Epoch 83/150, Train Loss: 1.8026, Test Loss: 2.0298\n",
            "Epoch 84/150, Train Acc: 51.68%, Test Acc: 46.59%\n",
            "Epoch 84/150, Train Loss: 1.7983, Test Loss: 2.0455\n",
            "Epoch 85/150, Train Acc: 51.59%, Test Acc: 47.00%\n",
            "Epoch 85/150, Train Loss: 1.7998, Test Loss: 2.0418\n",
            "Epoch 86/150, Train Acc: 51.59%, Test Acc: 47.23%\n",
            "Epoch 86/150, Train Loss: 1.7914, Test Loss: 2.0316\n",
            "Epoch 87/150, Train Acc: 51.91%, Test Acc: 47.04%\n",
            "Epoch 87/150, Train Loss: 1.7810, Test Loss: 2.0331\n",
            "Epoch 88/150, Train Acc: 52.07%, Test Acc: 47.25%\n",
            "Epoch 88/150, Train Loss: 1.7794, Test Loss: 2.0310\n",
            "Epoch 89/150, Train Acc: 52.19%, Test Acc: 47.28%\n",
            "Epoch 89/150, Train Loss: 1.7742, Test Loss: 2.0358\n",
            "Checkpoint saved at epoch 90: ./checkpoint_epoch_90.pth\n"
          ]
        },
        {
          "output_type": "display_data",
          "data": {
            "text/plain": [
              "<IPython.core.display.Javascript object>"
            ],
            "application/javascript": [
              "\n",
              "    async function download(id, filename, size) {\n",
              "      if (!google.colab.kernel.accessAllowed) {\n",
              "        return;\n",
              "      }\n",
              "      const div = document.createElement('div');\n",
              "      const label = document.createElement('label');\n",
              "      label.textContent = `Downloading \"${filename}\": `;\n",
              "      div.appendChild(label);\n",
              "      const progress = document.createElement('progress');\n",
              "      progress.max = size;\n",
              "      div.appendChild(progress);\n",
              "      document.body.appendChild(div);\n",
              "\n",
              "      const buffers = [];\n",
              "      let downloaded = 0;\n",
              "\n",
              "      const channel = await google.colab.kernel.comms.open(id);\n",
              "      // Send a message to notify the kernel that we're ready.\n",
              "      channel.send({})\n",
              "\n",
              "      for await (const message of channel.messages) {\n",
              "        // Send a message to notify the kernel that we're ready.\n",
              "        channel.send({})\n",
              "        if (message.buffers) {\n",
              "          for (const buffer of message.buffers) {\n",
              "            buffers.push(buffer);\n",
              "            downloaded += buffer.byteLength;\n",
              "            progress.value = downloaded;\n",
              "          }\n",
              "        }\n",
              "      }\n",
              "      const blob = new Blob(buffers, {type: 'application/binary'});\n",
              "      const a = document.createElement('a');\n",
              "      a.href = window.URL.createObjectURL(blob);\n",
              "      a.download = filename;\n",
              "      div.appendChild(a);\n",
              "      a.click();\n",
              "      div.remove();\n",
              "    }\n",
              "  "
            ]
          },
          "metadata": {}
        },
        {
          "output_type": "display_data",
          "data": {
            "text/plain": [
              "<IPython.core.display.Javascript object>"
            ],
            "application/javascript": [
              "download(\"download_62f269c2-16a7-499c-b016-ab4e543886bb\", \"checkpoint_epoch_90.pth\", 9796974)"
            ]
          },
          "metadata": {}
        },
        {
          "output_type": "stream",
          "name": "stdout",
          "text": [
            "Epoch 90/150, Train Acc: 52.40%, Test Acc: 47.23%\n",
            "Epoch 90/150, Train Loss: 1.7645, Test Loss: 2.0343\n",
            "Epoch 91/150, Train Acc: 52.29%, Test Acc: 47.23%\n",
            "Epoch 91/150, Train Loss: 1.7731, Test Loss: 2.0214\n",
            "Epoch 92/150, Train Acc: 52.51%, Test Acc: 47.55%\n",
            "Epoch 92/150, Train Loss: 1.7637, Test Loss: 2.0229\n",
            "Epoch 93/150, Train Acc: 52.51%, Test Acc: 47.17%\n",
            "Epoch 93/150, Train Loss: 1.7552, Test Loss: 2.0299\n",
            "Epoch 94/150, Train Acc: 52.59%, Test Acc: 47.78%\n",
            "Epoch 94/150, Train Loss: 1.7525, Test Loss: 2.0216\n",
            "Epoch 95/150, Train Acc: 52.85%, Test Acc: 47.85%\n",
            "Epoch 95/150, Train Loss: 1.7476, Test Loss: 2.0128\n",
            "Epoch 96/150, Train Acc: 52.84%, Test Acc: 47.76%\n",
            "Epoch 96/150, Train Loss: 1.7419, Test Loss: 2.0127\n",
            "Epoch 97/150, Train Acc: 53.11%, Test Acc: 47.87%\n",
            "Epoch 97/150, Train Loss: 1.7356, Test Loss: 2.0046\n",
            "Epoch 98/150, Train Acc: 53.09%, Test Acc: 48.05%\n",
            "Epoch 98/150, Train Loss: 1.7298, Test Loss: 2.0118\n",
            "Epoch 99/150, Train Acc: 53.24%, Test Acc: 48.09%\n",
            "Epoch 99/150, Train Loss: 1.7280, Test Loss: 2.0118\n",
            "Checkpoint saved at epoch 100: ./checkpoint_epoch_100.pth\n"
          ]
        },
        {
          "output_type": "display_data",
          "data": {
            "text/plain": [
              "<IPython.core.display.Javascript object>"
            ],
            "application/javascript": [
              "\n",
              "    async function download(id, filename, size) {\n",
              "      if (!google.colab.kernel.accessAllowed) {\n",
              "        return;\n",
              "      }\n",
              "      const div = document.createElement('div');\n",
              "      const label = document.createElement('label');\n",
              "      label.textContent = `Downloading \"${filename}\": `;\n",
              "      div.appendChild(label);\n",
              "      const progress = document.createElement('progress');\n",
              "      progress.max = size;\n",
              "      div.appendChild(progress);\n",
              "      document.body.appendChild(div);\n",
              "\n",
              "      const buffers = [];\n",
              "      let downloaded = 0;\n",
              "\n",
              "      const channel = await google.colab.kernel.comms.open(id);\n",
              "      // Send a message to notify the kernel that we're ready.\n",
              "      channel.send({})\n",
              "\n",
              "      for await (const message of channel.messages) {\n",
              "        // Send a message to notify the kernel that we're ready.\n",
              "        channel.send({})\n",
              "        if (message.buffers) {\n",
              "          for (const buffer of message.buffers) {\n",
              "            buffers.push(buffer);\n",
              "            downloaded += buffer.byteLength;\n",
              "            progress.value = downloaded;\n",
              "          }\n",
              "        }\n",
              "      }\n",
              "      const blob = new Blob(buffers, {type: 'application/binary'});\n",
              "      const a = document.createElement('a');\n",
              "      a.href = window.URL.createObjectURL(blob);\n",
              "      a.download = filename;\n",
              "      div.appendChild(a);\n",
              "      a.click();\n",
              "      div.remove();\n",
              "    }\n",
              "  "
            ]
          },
          "metadata": {}
        },
        {
          "output_type": "display_data",
          "data": {
            "text/plain": [
              "<IPython.core.display.Javascript object>"
            ],
            "application/javascript": [
              "download(\"download_025e0c70-00f7-4e74-9ef4-414b81aa74fa\", \"checkpoint_epoch_100.pth\", 9797018)"
            ]
          },
          "metadata": {}
        },
        {
          "output_type": "stream",
          "name": "stdout",
          "text": [
            "Epoch 100/150, Train Acc: 53.17%, Test Acc: 47.95%\n",
            "Epoch 100/150, Train Loss: 1.7245, Test Loss: 2.0058\n",
            "Epoch 101/150, Train Acc: 53.51%, Test Acc: 47.63%\n",
            "Epoch 101/150, Train Loss: 1.7219, Test Loss: 2.0170\n",
            "Epoch 102/150, Train Acc: 53.51%, Test Acc: 47.97%\n",
            "Epoch 102/150, Train Loss: 1.7183, Test Loss: 2.0055\n",
            "Epoch 103/150, Train Acc: 53.68%, Test Acc: 47.62%\n",
            "Epoch 103/150, Train Loss: 1.7103, Test Loss: 2.0140\n",
            "Epoch 104/150, Train Acc: 53.76%, Test Acc: 47.91%\n",
            "Epoch 104/150, Train Loss: 1.7087, Test Loss: 2.0025\n",
            "Epoch 105/150, Train Acc: 53.40%, Test Acc: 48.14%\n",
            "Epoch 105/150, Train Loss: 1.7165, Test Loss: 2.0009\n",
            "Epoch 106/150, Train Acc: 53.85%, Test Acc: 48.07%\n",
            "Epoch 106/150, Train Loss: 1.7028, Test Loss: 2.0031\n",
            "Epoch 107/150, Train Acc: 53.78%, Test Acc: 48.14%\n",
            "Epoch 107/150, Train Loss: 1.6995, Test Loss: 2.0004\n",
            "Epoch 108/150, Train Acc: 54.04%, Test Acc: 48.19%\n",
            "Epoch 108/150, Train Loss: 1.6974, Test Loss: 2.0012\n",
            "Epoch 109/150, Train Acc: 54.13%, Test Acc: 48.37%\n",
            "Epoch 109/150, Train Loss: 1.6977, Test Loss: 2.0017\n",
            "Checkpoint saved at epoch 110: ./checkpoint_epoch_110.pth\n"
          ]
        },
        {
          "output_type": "display_data",
          "data": {
            "text/plain": [
              "<IPython.core.display.Javascript object>"
            ],
            "application/javascript": [
              "\n",
              "    async function download(id, filename, size) {\n",
              "      if (!google.colab.kernel.accessAllowed) {\n",
              "        return;\n",
              "      }\n",
              "      const div = document.createElement('div');\n",
              "      const label = document.createElement('label');\n",
              "      label.textContent = `Downloading \"${filename}\": `;\n",
              "      div.appendChild(label);\n",
              "      const progress = document.createElement('progress');\n",
              "      progress.max = size;\n",
              "      div.appendChild(progress);\n",
              "      document.body.appendChild(div);\n",
              "\n",
              "      const buffers = [];\n",
              "      let downloaded = 0;\n",
              "\n",
              "      const channel = await google.colab.kernel.comms.open(id);\n",
              "      // Send a message to notify the kernel that we're ready.\n",
              "      channel.send({})\n",
              "\n",
              "      for await (const message of channel.messages) {\n",
              "        // Send a message to notify the kernel that we're ready.\n",
              "        channel.send({})\n",
              "        if (message.buffers) {\n",
              "          for (const buffer of message.buffers) {\n",
              "            buffers.push(buffer);\n",
              "            downloaded += buffer.byteLength;\n",
              "            progress.value = downloaded;\n",
              "          }\n",
              "        }\n",
              "      }\n",
              "      const blob = new Blob(buffers, {type: 'application/binary'});\n",
              "      const a = document.createElement('a');\n",
              "      a.href = window.URL.createObjectURL(blob);\n",
              "      a.download = filename;\n",
              "      div.appendChild(a);\n",
              "      a.click();\n",
              "      div.remove();\n",
              "    }\n",
              "  "
            ]
          },
          "metadata": {}
        },
        {
          "output_type": "display_data",
          "data": {
            "text/plain": [
              "<IPython.core.display.Javascript object>"
            ],
            "application/javascript": [
              "download(\"download_10224642-95b9-4a9b-a521-c029d79b7f25\", \"checkpoint_epoch_110.pth\", 9797018)"
            ]
          },
          "metadata": {}
        },
        {
          "output_type": "stream",
          "name": "stdout",
          "text": [
            "Epoch 110/150, Train Acc: 54.35%, Test Acc: 48.06%\n",
            "Epoch 110/150, Train Loss: 1.6898, Test Loss: 2.0020\n",
            "Epoch 111/150, Train Acc: 54.15%, Test Acc: 48.43%\n",
            "Epoch 111/150, Train Loss: 1.6898, Test Loss: 1.9990\n",
            "Epoch 112/150, Train Acc: 54.45%, Test Acc: 48.38%\n",
            "Epoch 112/150, Train Loss: 1.6887, Test Loss: 1.9962\n",
            "Epoch 113/150, Train Acc: 54.44%, Test Acc: 48.33%\n",
            "Epoch 113/150, Train Loss: 1.6820, Test Loss: 1.9948\n",
            "Epoch 114/150, Train Acc: 54.27%, Test Acc: 48.34%\n",
            "Epoch 114/150, Train Loss: 1.6831, Test Loss: 1.9931\n",
            "Epoch 115/150, Train Acc: 54.40%, Test Acc: 48.26%\n",
            "Epoch 115/150, Train Loss: 1.6814, Test Loss: 1.9889\n",
            "Epoch 116/150, Train Acc: 54.20%, Test Acc: 48.54%\n",
            "Epoch 116/150, Train Loss: 1.6809, Test Loss: 1.9907\n",
            "Epoch 117/150, Train Acc: 54.55%, Test Acc: 48.27%\n",
            "Epoch 117/150, Train Loss: 1.6778, Test Loss: 1.9913\n",
            "Epoch 118/150, Train Acc: 54.55%, Test Acc: 48.54%\n",
            "Epoch 118/150, Train Loss: 1.6737, Test Loss: 1.9903\n",
            "Epoch 119/150, Train Acc: 54.71%, Test Acc: 48.71%\n",
            "Epoch 119/150, Train Loss: 1.6753, Test Loss: 1.9874\n",
            "Checkpoint saved at epoch 120: ./checkpoint_epoch_120.pth\n"
          ]
        },
        {
          "output_type": "display_data",
          "data": {
            "text/plain": [
              "<IPython.core.display.Javascript object>"
            ],
            "application/javascript": [
              "\n",
              "    async function download(id, filename, size) {\n",
              "      if (!google.colab.kernel.accessAllowed) {\n",
              "        return;\n",
              "      }\n",
              "      const div = document.createElement('div');\n",
              "      const label = document.createElement('label');\n",
              "      label.textContent = `Downloading \"${filename}\": `;\n",
              "      div.appendChild(label);\n",
              "      const progress = document.createElement('progress');\n",
              "      progress.max = size;\n",
              "      div.appendChild(progress);\n",
              "      document.body.appendChild(div);\n",
              "\n",
              "      const buffers = [];\n",
              "      let downloaded = 0;\n",
              "\n",
              "      const channel = await google.colab.kernel.comms.open(id);\n",
              "      // Send a message to notify the kernel that we're ready.\n",
              "      channel.send({})\n",
              "\n",
              "      for await (const message of channel.messages) {\n",
              "        // Send a message to notify the kernel that we're ready.\n",
              "        channel.send({})\n",
              "        if (message.buffers) {\n",
              "          for (const buffer of message.buffers) {\n",
              "            buffers.push(buffer);\n",
              "            downloaded += buffer.byteLength;\n",
              "            progress.value = downloaded;\n",
              "          }\n",
              "        }\n",
              "      }\n",
              "      const blob = new Blob(buffers, {type: 'application/binary'});\n",
              "      const a = document.createElement('a');\n",
              "      a.href = window.URL.createObjectURL(blob);\n",
              "      a.download = filename;\n",
              "      div.appendChild(a);\n",
              "      a.click();\n",
              "      div.remove();\n",
              "    }\n",
              "  "
            ]
          },
          "metadata": {}
        },
        {
          "output_type": "display_data",
          "data": {
            "text/plain": [
              "<IPython.core.display.Javascript object>"
            ],
            "application/javascript": [
              "download(\"download_b19cf539-8bcb-44de-83d3-72fc6793be3a\", \"checkpoint_epoch_120.pth\", 9797018)"
            ]
          },
          "metadata": {}
        },
        {
          "output_type": "stream",
          "name": "stdout",
          "text": [
            "Epoch 120/150, Train Acc: 54.55%, Test Acc: 48.65%\n",
            "Epoch 120/150, Train Loss: 1.6691, Test Loss: 1.9947\n",
            "Epoch 121/150, Train Acc: 54.62%, Test Acc: 48.29%\n",
            "Epoch 121/150, Train Loss: 1.6693, Test Loss: 1.9898\n",
            "Epoch 122/150, Train Acc: 54.66%, Test Acc: 48.44%\n",
            "Epoch 122/150, Train Loss: 1.6679, Test Loss: 1.9895\n",
            "Epoch 123/150, Train Acc: 54.64%, Test Acc: 48.57%\n",
            "Epoch 123/150, Train Loss: 1.6643, Test Loss: 1.9896\n",
            "Epoch 124/150, Train Acc: 55.24%, Test Acc: 48.59%\n",
            "Epoch 124/150, Train Loss: 1.6552, Test Loss: 1.9884\n",
            "Epoch 125/150, Train Acc: 54.77%, Test Acc: 48.71%\n",
            "Epoch 125/150, Train Loss: 1.6630, Test Loss: 1.9876\n",
            "Epoch 126/150, Train Acc: 55.09%, Test Acc: 48.61%\n",
            "Epoch 126/150, Train Loss: 1.6569, Test Loss: 1.9879\n",
            "Epoch 127/150, Train Acc: 55.08%, Test Acc: 48.47%\n",
            "Epoch 127/150, Train Loss: 1.6611, Test Loss: 1.9876\n",
            "Epoch 128/150, Train Acc: 55.16%, Test Acc: 48.70%\n",
            "Epoch 128/150, Train Loss: 1.6551, Test Loss: 1.9911\n",
            "Epoch 129/150, Train Acc: 54.99%, Test Acc: 48.54%\n",
            "Epoch 129/150, Train Loss: 1.6528, Test Loss: 1.9865\n",
            "Checkpoint saved at epoch 130: ./checkpoint_epoch_130.pth\n"
          ]
        },
        {
          "output_type": "display_data",
          "data": {
            "text/plain": [
              "<IPython.core.display.Javascript object>"
            ],
            "application/javascript": [
              "\n",
              "    async function download(id, filename, size) {\n",
              "      if (!google.colab.kernel.accessAllowed) {\n",
              "        return;\n",
              "      }\n",
              "      const div = document.createElement('div');\n",
              "      const label = document.createElement('label');\n",
              "      label.textContent = `Downloading \"${filename}\": `;\n",
              "      div.appendChild(label);\n",
              "      const progress = document.createElement('progress');\n",
              "      progress.max = size;\n",
              "      div.appendChild(progress);\n",
              "      document.body.appendChild(div);\n",
              "\n",
              "      const buffers = [];\n",
              "      let downloaded = 0;\n",
              "\n",
              "      const channel = await google.colab.kernel.comms.open(id);\n",
              "      // Send a message to notify the kernel that we're ready.\n",
              "      channel.send({})\n",
              "\n",
              "      for await (const message of channel.messages) {\n",
              "        // Send a message to notify the kernel that we're ready.\n",
              "        channel.send({})\n",
              "        if (message.buffers) {\n",
              "          for (const buffer of message.buffers) {\n",
              "            buffers.push(buffer);\n",
              "            downloaded += buffer.byteLength;\n",
              "            progress.value = downloaded;\n",
              "          }\n",
              "        }\n",
              "      }\n",
              "      const blob = new Blob(buffers, {type: 'application/binary'});\n",
              "      const a = document.createElement('a');\n",
              "      a.href = window.URL.createObjectURL(blob);\n",
              "      a.download = filename;\n",
              "      div.appendChild(a);\n",
              "      a.click();\n",
              "      div.remove();\n",
              "    }\n",
              "  "
            ]
          },
          "metadata": {}
        },
        {
          "output_type": "display_data",
          "data": {
            "text/plain": [
              "<IPython.core.display.Javascript object>"
            ],
            "application/javascript": [
              "download(\"download_60c6651b-56c3-49d7-b3ac-5fad87b626a1\", \"checkpoint_epoch_130.pth\", 9797018)"
            ]
          },
          "metadata": {}
        },
        {
          "output_type": "stream",
          "name": "stdout",
          "text": [
            "Epoch 130/150, Train Acc: 55.16%, Test Acc: 48.72%\n",
            "Epoch 130/150, Train Loss: 1.6514, Test Loss: 1.9860\n",
            "Epoch 131/150, Train Acc: 55.16%, Test Acc: 48.67%\n",
            "Epoch 131/150, Train Loss: 1.6519, Test Loss: 1.9851\n",
            "Epoch 132/150, Train Acc: 54.93%, Test Acc: 48.77%\n",
            "Epoch 132/150, Train Loss: 1.6490, Test Loss: 1.9844\n",
            "Epoch 133/150, Train Acc: 55.05%, Test Acc: 48.69%\n",
            "Epoch 133/150, Train Loss: 1.6539, Test Loss: 1.9860\n",
            "Epoch 134/150, Train Acc: 55.04%, Test Acc: 48.85%\n",
            "Epoch 134/150, Train Loss: 1.6547, Test Loss: 1.9851\n",
            "Epoch 135/150, Train Acc: 55.11%, Test Acc: 48.95%\n",
            "Epoch 135/150, Train Loss: 1.6471, Test Loss: 1.9847\n",
            "Epoch 136/150, Train Acc: 55.58%, Test Acc: 48.68%\n",
            "Epoch 136/150, Train Loss: 1.6439, Test Loss: 1.9833\n",
            "Epoch 137/150, Train Acc: 55.29%, Test Acc: 48.74%\n",
            "Epoch 137/150, Train Loss: 1.6482, Test Loss: 1.9842\n",
            "Epoch 138/150, Train Acc: 55.34%, Test Acc: 48.74%\n",
            "Epoch 138/150, Train Loss: 1.6449, Test Loss: 1.9834\n",
            "Epoch 139/150, Train Acc: 55.45%, Test Acc: 48.77%\n",
            "Epoch 139/150, Train Loss: 1.6446, Test Loss: 1.9841\n",
            "Checkpoint saved at epoch 140: ./checkpoint_epoch_140.pth\n"
          ]
        },
        {
          "output_type": "display_data",
          "data": {
            "text/plain": [
              "<IPython.core.display.Javascript object>"
            ],
            "application/javascript": [
              "\n",
              "    async function download(id, filename, size) {\n",
              "      if (!google.colab.kernel.accessAllowed) {\n",
              "        return;\n",
              "      }\n",
              "      const div = document.createElement('div');\n",
              "      const label = document.createElement('label');\n",
              "      label.textContent = `Downloading \"${filename}\": `;\n",
              "      div.appendChild(label);\n",
              "      const progress = document.createElement('progress');\n",
              "      progress.max = size;\n",
              "      div.appendChild(progress);\n",
              "      document.body.appendChild(div);\n",
              "\n",
              "      const buffers = [];\n",
              "      let downloaded = 0;\n",
              "\n",
              "      const channel = await google.colab.kernel.comms.open(id);\n",
              "      // Send a message to notify the kernel that we're ready.\n",
              "      channel.send({})\n",
              "\n",
              "      for await (const message of channel.messages) {\n",
              "        // Send a message to notify the kernel that we're ready.\n",
              "        channel.send({})\n",
              "        if (message.buffers) {\n",
              "          for (const buffer of message.buffers) {\n",
              "            buffers.push(buffer);\n",
              "            downloaded += buffer.byteLength;\n",
              "            progress.value = downloaded;\n",
              "          }\n",
              "        }\n",
              "      }\n",
              "      const blob = new Blob(buffers, {type: 'application/binary'});\n",
              "      const a = document.createElement('a');\n",
              "      a.href = window.URL.createObjectURL(blob);\n",
              "      a.download = filename;\n",
              "      div.appendChild(a);\n",
              "      a.click();\n",
              "      div.remove();\n",
              "    }\n",
              "  "
            ]
          },
          "metadata": {}
        },
        {
          "output_type": "display_data",
          "data": {
            "text/plain": [
              "<IPython.core.display.Javascript object>"
            ],
            "application/javascript": [
              "download(\"download_d92425f3-075c-4baf-abf6-bc0a2f5eab83\", \"checkpoint_epoch_140.pth\", 9797018)"
            ]
          },
          "metadata": {}
        },
        {
          "output_type": "stream",
          "name": "stdout",
          "text": [
            "Epoch 140/150, Train Acc: 55.44%, Test Acc: 48.74%\n",
            "Epoch 140/150, Train Loss: 1.6440, Test Loss: 1.9836\n",
            "Epoch 141/150, Train Acc: 55.41%, Test Acc: 48.88%\n",
            "Epoch 141/150, Train Loss: 1.6394, Test Loss: 1.9822\n",
            "Epoch 142/150, Train Acc: 55.39%, Test Acc: 48.76%\n",
            "Epoch 142/150, Train Loss: 1.6436, Test Loss: 1.9831\n",
            "Epoch 143/150, Train Acc: 55.51%, Test Acc: 48.78%\n",
            "Epoch 143/150, Train Loss: 1.6419, Test Loss: 1.9825\n",
            "Epoch 144/150, Train Acc: 55.34%, Test Acc: 48.77%\n",
            "Epoch 144/150, Train Loss: 1.6418, Test Loss: 1.9827\n",
            "Epoch 145/150, Train Acc: 55.26%, Test Acc: 48.80%\n",
            "Epoch 145/150, Train Loss: 1.6482, Test Loss: 1.9827\n",
            "Epoch 146/150, Train Acc: 55.39%, Test Acc: 48.88%\n",
            "Epoch 146/150, Train Loss: 1.6434, Test Loss: 1.9825\n",
            "Epoch 147/150, Train Acc: 55.39%, Test Acc: 48.80%\n",
            "Epoch 147/150, Train Loss: 1.6422, Test Loss: 1.9826\n",
            "Epoch 148/150, Train Acc: 55.57%, Test Acc: 48.82%\n",
            "Epoch 148/150, Train Loss: 1.6423, Test Loss: 1.9824\n",
            "Epoch 149/150, Train Acc: 55.42%, Test Acc: 48.81%\n",
            "Epoch 149/150, Train Loss: 1.6379, Test Loss: 1.9825\n",
            "Checkpoint saved at epoch 150: ./checkpoint_epoch_150.pth\n"
          ]
        },
        {
          "output_type": "display_data",
          "data": {
            "text/plain": [
              "<IPython.core.display.Javascript object>"
            ],
            "application/javascript": [
              "\n",
              "    async function download(id, filename, size) {\n",
              "      if (!google.colab.kernel.accessAllowed) {\n",
              "        return;\n",
              "      }\n",
              "      const div = document.createElement('div');\n",
              "      const label = document.createElement('label');\n",
              "      label.textContent = `Downloading \"${filename}\": `;\n",
              "      div.appendChild(label);\n",
              "      const progress = document.createElement('progress');\n",
              "      progress.max = size;\n",
              "      div.appendChild(progress);\n",
              "      document.body.appendChild(div);\n",
              "\n",
              "      const buffers = [];\n",
              "      let downloaded = 0;\n",
              "\n",
              "      const channel = await google.colab.kernel.comms.open(id);\n",
              "      // Send a message to notify the kernel that we're ready.\n",
              "      channel.send({})\n",
              "\n",
              "      for await (const message of channel.messages) {\n",
              "        // Send a message to notify the kernel that we're ready.\n",
              "        channel.send({})\n",
              "        if (message.buffers) {\n",
              "          for (const buffer of message.buffers) {\n",
              "            buffers.push(buffer);\n",
              "            downloaded += buffer.byteLength;\n",
              "            progress.value = downloaded;\n",
              "          }\n",
              "        }\n",
              "      }\n",
              "      const blob = new Blob(buffers, {type: 'application/binary'});\n",
              "      const a = document.createElement('a');\n",
              "      a.href = window.URL.createObjectURL(blob);\n",
              "      a.download = filename;\n",
              "      div.appendChild(a);\n",
              "      a.click();\n",
              "      div.remove();\n",
              "    }\n",
              "  "
            ]
          },
          "metadata": {}
        },
        {
          "output_type": "display_data",
          "data": {
            "text/plain": [
              "<IPython.core.display.Javascript object>"
            ],
            "application/javascript": [
              "download(\"download_51701edb-9dbb-47cc-9651-e874dd331608\", \"checkpoint_epoch_150.pth\", 9797018)"
            ]
          },
          "metadata": {}
        },
        {
          "output_type": "stream",
          "name": "stdout",
          "text": [
            "Epoch 150/150, Train Acc: 55.59%, Test Acc: 48.82%\n",
            "Epoch 150/150, Train Loss: 1.6338, Test Loss: 1.9825\n"
          ]
        },
        {
          "output_type": "display_data",
          "data": {
            "text/plain": [
              "<Figure size 600x400 with 1 Axes>"
            ],
            "image/png": "[encoded data removed]"
          },
          "metadata": {}
        },
        {
          "output_type": "display_data",
          "data": {
            "text/plain": [
              "<Figure size 600x400 with 1 Axes>"
            ],
            "image/png": "[encoded data removed]"
          },
          "metadata": {}
        },
        {
          "output_type": "display_data",
          "data": {
            "text/plain": [
              "<Figure size 600x400 with 1 Axes>"
            ],
            "image/png": "[encoded data removed]"
          },
          "metadata": {}
        },
        {
          "output_type": "display_data",
          "data": {
            "text/plain": [
              "<Figure size 600x400 with 1 Axes>"
            ],
            "image/png": "[encoded data removed]"
          },
          "metadata": {}
        },
        {
          "output_type": "display_data",
          "data": {
            "text/plain": [
              "<Figure size 640x480 with 0 Axes>"
            ]
          },
          "metadata": {}
        }
      ],
      "source": [
        "%run large_batch_training.py --optimizer AdamW --batch-size 512 --weight-decay 1e-1"
      ]
    },
    {
      "cell_type": "code",
      "execution_count": null,
      "metadata": {
        "colab": {
          "base_uri": "https://localhost:8080/"
        },
        "id": "_Y8TL9oBZL18",
        "outputId": "54fc2f89-7e7d-461b-fce6-1f0da7310a06"
      },
      "outputs": [
        {
          "name": "stdout",
          "output_type": "stream",
          "text": [
            "Files already downloaded and verified\n",
            "Files already downloaded and verified\n",
            "--- Train with LARS ---\n"
          ]
        }
      ],
      "source": [
        "%run large_batch_training.py --optimizer LARS --batch-size 128 --weight-decay 4e-4"
      ]
    },
    {
      "cell_type": "code",
      "execution_count": null,
      "metadata": {
        "colab": {
          "base_uri": "https://localhost:8080/",
          "height": 436
        },
        "id": "K_XY2BkhZOkY",
        "outputId": "d4c6a687-f11c-439f-bbc4-b0d05ad58aca"
      },
      "outputs": [
        {
          "output_type": "stream",
          "name": "stdout",
          "text": [
            "Downloading https://www.cs.toronto.edu/~kriz/cifar-100-python.tar.gz to ./data/cifar-100-python.tar.gz\n"
          ]
        },
        {
          "output_type": "stream",
          "name": "stderr",
          "text": [
            "100%|██████████| 169M/169M [00:04<00:00, 40.2MB/s]\n"
          ]
        },
        {
          "output_type": "stream",
          "name": "stdout",
          "text": [
            "Extracting ./data/cifar-100-python.tar.gz to ./data\n",
            "Files already downloaded and verified\n",
            "Files already downloaded and verified\n",
            "--- Train with LAMB ---\n"
          ]
        },
        {
          "output_type": "error",
          "ename": "NameError",
          "evalue": "name 'val_accuracy' is not defined",
          "traceback": [
            "\u001b[0;31m---------------------------------------------------------------------------\u001b[0m",
            "\u001b[0;31mNameError\u001b[0m                                 Traceback (most recent call last)",
            "\u001b[0;32m/content/large_batch_training.py\u001b[0m in \u001b[0;36m<module>\u001b[0;34m\u001b[0m\n\u001b[1;32m    352\u001b[0m \u001b[0;31m# Train the model\u001b[0m\u001b[0;34m\u001b[0m\u001b[0;34m\u001b[0m\u001b[0m\n\u001b[1;32m    353\u001b[0m \u001b[0mprint\u001b[0m\u001b[0;34m(\u001b[0m\u001b[0;34mf\"--- Train with {args.optimizer} ---\"\u001b[0m\u001b[0;34m)\u001b[0m\u001b[0;34m\u001b[0m\u001b[0;34m\u001b[0m\u001b[0m\n\u001b[0;32m--> 354\u001b[0;31m \u001b[0mtrain_loss\u001b[0m\u001b[0;34m,\u001b[0m \u001b[0mtest_loss\u001b[0m\u001b[0;34m,\u001b[0m \u001b[0mtrain_acc\u001b[0m\u001b[0;34m,\u001b[0m \u001b[0mtest_acc\u001b[0m \u001b[0;34m=\u001b[0m \u001b[0mtrain_model\u001b[0m\u001b[0;34m(\u001b[0m\u001b[0moptimizer\u001b[0m\u001b[0;34m,\u001b[0m \u001b[0mscheduler\u001b[0m\u001b[0;34m,\u001b[0m \u001b[0mnet\u001b[0m\u001b[0;34m,\u001b[0m \u001b[0mcriterion\u001b[0m\u001b[0;34m,\u001b[0m \u001b[0mtrainloader\u001b[0m\u001b[0;34m,\u001b[0m \u001b[0mtestloader\u001b[0m\u001b[0;34m,\u001b[0m \u001b[0mdevice\u001b[0m\u001b[0;34m,\u001b[0m \u001b[0margs\u001b[0m\u001b[0;34m.\u001b[0m\u001b[0mepochs\u001b[0m\u001b[0;34m)\u001b[0m\u001b[0;34m\u001b[0m\u001b[0;34m\u001b[0m\u001b[0m\n\u001b[0m\u001b[1;32m    355\u001b[0m \u001b[0;34m\u001b[0m\u001b[0m\n\u001b[1;32m    356\u001b[0m \u001b[0;31m# Save model\u001b[0m\u001b[0;34m\u001b[0m\u001b[0;34m\u001b[0m\u001b[0m\n",
            "\u001b[0;32m/content/large_batch_training.py\u001b[0m in \u001b[0;36mtrain_model\u001b[0;34m(optimizer, scheduler, model, criterion, trainloader, testloader, device, epochs, save_checkpoint_interval)\u001b[0m\n\u001b[1;32m    345\u001b[0m             \u001b[0mfiles\u001b[0m\u001b[0;34m.\u001b[0m\u001b[0mdownload\u001b[0m\u001b[0;34m(\u001b[0m\u001b[0mcheckpoint_filename\u001b[0m\u001b[0;34m)\u001b[0m\u001b[0;34m\u001b[0m\u001b[0;34m\u001b[0m\u001b[0m\n\u001b[1;32m    346\u001b[0m \u001b[0;34m\u001b[0m\u001b[0m\n\u001b[0;32m--> 347\u001b[0;31m         \u001b[0mprint\u001b[0m\u001b[0;34m(\u001b[0m\u001b[0;34mf'Epoch {epoch+1}/{epochs}, Train Acc: {train_accuracy:.2f}%, Val Acc: {val_accuracy:.2f}%, Test Acc: {test_accuracy:.2f}%'\u001b[0m\u001b[0;34m)\u001b[0m\u001b[0;34m\u001b[0m\u001b[0;34m\u001b[0m\u001b[0m\n\u001b[0m\u001b[1;32m    348\u001b[0m         \u001b[0mprint\u001b[0m\u001b[0;34m(\u001b[0m\u001b[0;34mf'Epoch {epoch+1}/{epochs}, Train Loss: {train_loss:.4f}, Val Loss: {val_loss:.4f}, Test Loss: {test_loss:.4f}'\u001b[0m\u001b[0;34m)\u001b[0m\u001b[0;34m\u001b[0m\u001b[0;34m\u001b[0m\u001b[0m\n\u001b[1;32m    349\u001b[0m \u001b[0;34m\u001b[0m\u001b[0m\n",
            "\u001b[0;31mNameError\u001b[0m: name 'val_accuracy' is not defined"
          ]
        }
      ],
      "source": [
        "%run large_batch_training.py --optimizer LAMB --batch-size 128 --weight-decay 1e-1"
      ]
    }
  ],
  "metadata": {
    "accelerator": "GPU",
    "colab": {
      "gpuType": "T4",
      "provenance": [],
      "machine_shape": "hm"
    },
    "kernelspec": {
      "display_name": "Python 3",
      "name": "python3"
    },
    "language_info": {
      "name": "python"
    }
  },
  "nbformat": 4,
  "nbformat_minor": 0
}