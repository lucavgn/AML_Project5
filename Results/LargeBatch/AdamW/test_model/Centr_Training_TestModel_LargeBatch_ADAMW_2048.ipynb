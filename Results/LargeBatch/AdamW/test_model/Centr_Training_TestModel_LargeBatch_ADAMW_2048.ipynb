{
  "cells": [
    {
      "cell_type": "code",
      "execution_count": 1,
      "metadata": {
        "colab": {
          "base_uri": "https://localhost:8080/"
        },
        "id": "LtOx0ESVnO0u",
        "outputId": "64e86f90-2001-454f-800e-0175c67ea25c"
      },
      "outputs": [
        {
          "output_type": "stream",
          "name": "stdout",
          "text": [
            "Writing large_batch_training.py\n"
          ]
        }
      ],
      "source": [
        "%%writefile large_batch_training.py\n",
        "\n",
        "import os\n",
        "import numpy as np\n",
        "import torch\n",
        "import torch.nn as nn\n",
        "import torch.optim as optim\n",
        "import torchvision\n",
        "import torchvision.transforms as transforms\n",
        "import matplotlib.pyplot as plt\n",
        "import argparse\n",
        "from torch.utils.data import random_split\n",
        "from google.colab import files\n",
        "\n",
        "def compute_mean_std(dataset):\n",
        "    \"\"\"Compute the mean and std of CIFAR-100 dataset.\n",
        "\n",
        "    Args:\n",
        "        dataset: A dataset derived from `torch.utils.data.Dataset`,\n",
        "                 such as `cifar100_training_dataset` or `cifar100_test_dataset`.\n",
        "\n",
        "    Returns:\n",
        "        A tuple containing (mean, std) for the entire dataset.\n",
        "    \"\"\"\n",
        "\n",
        "    # Extract images and labels\n",
        "    data_r = np.stack([np.array(dataset[i][0])[:, :, 0] for i in range(len(dataset))])\n",
        "    data_g = np.stack([np.array(dataset[i][0])[:, :, 1] for i in range(len(dataset))])\n",
        "    data_b = np.stack([np.array(dataset[i][0])[:, :, 2] for i in range(len(dataset))])\n",
        "\n",
        "    # Compute mean and std\n",
        "    mean = np.mean(data_r), np.mean(data_g), np.mean(data_b)\n",
        "    std = np.std(data_r), np.std(data_g), np.std(data_b)\n",
        "\n",
        "    return mean, std\n",
        "\n",
        "# Define LeNet-5 architecture\n",
        "class LeNet5(nn.Module):\n",
        "    def __init__(self):\n",
        "        super(LeNet5, self).__init__()\n",
        "        self.conv1 = nn.Conv2d(3, 64, 5)\n",
        "        self.relu1 = nn.ReLU()\n",
        "        self.pool1 = nn.MaxPool2d(2, 2)\n",
        "        self.conv2 = nn.Conv2d(64, 64, 5)\n",
        "        self.relu2 = nn.ReLU()\n",
        "        self.pool2 = nn.MaxPool2d(2, 2)\n",
        "        self.fc1 = nn.Linear(64 * 5 * 5, 384)\n",
        "        self.relu3 = nn.ReLU()\n",
        "        self.fc2 = nn.Linear(384, 192)\n",
        "        self.relu4 = nn.ReLU()\n",
        "        self.fc3 = nn.Linear(192, 100)\n",
        "\n",
        "    def forward(self, x):\n",
        "        x = self.pool1(self.relu1(self.conv1(x)))\n",
        "        x = self.pool2(self.relu2(self.conv2(x)))\n",
        "        x = x.view(-1, 64 * 5 * 5)\n",
        "        x = self.relu3(self.fc1(x))\n",
        "        x = self.relu4(self.fc2(x))\n",
        "        x = self.fc3(x)\n",
        "        return x\n",
        "\n",
        "# Device setup\n",
        "device = torch.device(\"cuda:0\" if torch.cuda.is_available() else \"cpu\")\n",
        "\n",
        "# Initialize model\n",
        "net = LeNet5().to(device)\n",
        "\n",
        "# Optimizer Subclasses\n",
        "class LARS(optim.Optimizer):\n",
        "    def __init__(self, params, lr, momentum=0.9, weight_decay=0, trust_coefficient=0.001):\n",
        "        # Initialize the optimizer with the learning rate, momentum, weight decay, and trust coefficient\n",
        "        defaults = dict(lr=lr, momentum=momentum, weight_decay=weight_decay, trust_coefficient=trust_coefficient)\n",
        "        super(LARS, self).__init__(params, defaults)\n",
        "\n",
        "    def step(self, closure=None):\n",
        "        loss = None\n",
        "        if closure is not None:\n",
        "            # If a closure is provided, evaluate it (commonly used for re-evaluating loss)\n",
        "            loss = closure()\n",
        "        for group in self.param_groups:\n",
        "            for p in group['params']:\n",
        "                if p.grad is None:\n",
        "                   # Skip parameters that have no gradient\n",
        "                    continue\n",
        "                grad = p.grad.data # Get the gradient of the parameter\n",
        "                # Retrieve or initialize the optimizer's internal state\n",
        "                state = self.state[p]\n",
        "                if len(state) == 0:\n",
        "                    state['momentum_buffer'] = torch.clone(grad).detach()\n",
        "                # Apply weight decay directly to the gradient\n",
        "                if group['weight_decay'] != 0:\n",
        "                    grad.add_(p.data, alpha=group['weight_decay'])\n",
        "                # Compute the norms of the parameter and its gradient\n",
        "                param_norm = torch.norm(p.data)\n",
        "                grad_norm = torch.norm(grad)\n",
        "                # Compute local learning rate based on the trust coefficient and norms\n",
        "                if param_norm > 0 and grad_norm > 0:\n",
        "                    local_lr = group['trust_coefficient'] * param_norm / (grad_norm + 1e-8)\n",
        "                    grad = grad.mul(local_lr) # Scale the gradient with the local learning rate\n",
        "                # Update the momentum buffer\n",
        "                momentum_buffer = state['momentum_buffer']\n",
        "                momentum_buffer.mul_(group['momentum']).add_(grad) #Momentum update\n",
        "                state['momentum_buffer'] = momentum_buffer\n",
        "                # Update the parameter\n",
        "                p.data.add_(momentum_buffer, alpha=-group['lr']) # Gradient descent step with learning rate\n",
        "        return loss\n",
        "\n",
        "class LAMB(optim.Optimizer):\n",
        "    def __init__(self, params, lr, weight_decay=0, betas=(0.9, 0.999), eps=1e-8):\n",
        "        # Initialize the optimizer with learning rate, weight decay, betas for moment updates, and epsilon for stability\n",
        "        defaults = dict(lr=lr, weight_decay=weight_decay, betas=betas, eps=eps)\n",
        "        super(LAMB, self).__init__(params, defaults)\n",
        "\n",
        "    def step(self, closure=None):\n",
        "        loss = None\n",
        "        if closure is not None:\n",
        "            # If a closure is provided, evaluate it\n",
        "            loss = closure()\n",
        "        for group in self.param_groups:\n",
        "            for p in group['params']:\n",
        "                if p.grad is None:\n",
        "                    # Skip parameters that have no gradient\n",
        "                    continue\n",
        "                grad = p.grad.data # Get the gradient of the parameter\n",
        "                # Retrieve or initialize the optimizer's internal state\n",
        "                state = self.state[p]\n",
        "                # Initialize state\n",
        "                if len(state) == 0:\n",
        "                    # Initialize the state (step counter, first moment, second moment)\n",
        "                    state['step'] = 0\n",
        "                    state['exp_avg'] = torch.zeros_like(p.data) # First moment (mean of gradients)\n",
        "                    state['exp_avg_sq'] = torch.zeros_like(p.data) # Second moment (mean of squared gradients)\n",
        "                exp_avg = state['exp_avg']\n",
        "                exp_avg_sq = state['exp_avg_sq']\n",
        "                beta1, beta2 = group['betas']  # Coefficients for moment updates\n",
        "                state['step'] += 1 # Increment step count\n",
        "                step = state['step']\n",
        "                # Decay the first and second moment running average coefficients\n",
        "                # Update first and second moments\n",
        "                exp_avg.mul_(beta1).add_(grad, alpha=1 - beta1) # Exponential moving average of gradients\n",
        "                exp_avg_sq.mul_(beta2).addcmul_(grad, grad, value=1 - beta2) # Exponential moving average of squared gradients\n",
        "                # Correct bias in the first and second moments\n",
        "                bias_correction1 = 1 - beta1 ** step\n",
        "                bias_correction2 = 1 - beta2 ** step\n",
        "                corrected_exp_avg = exp_avg / bias_correction1\n",
        "                corrected_exp_avg_sq = exp_avg_sq / bias_correction2\n",
        "                # Compute the denominator for scaling the update\n",
        "                denom = corrected_exp_avg_sq.sqrt().add_(group['eps']) # Stability epsilon\n",
        "                # Compute the step update\n",
        "                update = corrected_exp_avg / denom\n",
        "                # Apply weight decay directly to the parameters\n",
        "                if group['weight_decay'] != 0:\n",
        "                    update.add_(p.data, alpha=group['weight_decay'])\n",
        "                # Compute the trust ratio (norm of parameters vs norm of update)\n",
        "                param_norm = torch.norm(p.data)\n",
        "                update_norm = torch.norm(update)\n",
        "                trust_ratio = 1.0  # Default trust ratio\n",
        "                if param_norm > 0 and update_norm > 0:\n",
        "                    trust_ratio = param_norm / update_norm\n",
        "                # Update the parameters\n",
        "                p.data.add_(update, alpha=-group['lr'] * trust_ratio)\n",
        "        return loss\n",
        "\n",
        "\n",
        "# Command-line arguments\n",
        "parser = argparse.ArgumentParser(description='Train with Large-Batch Optimizers')\n",
        "parser.add_argument('--optimizer', type=str, default='SGDM', choices=['SGDM', 'AdamW', 'LARS', 'LAMB'],\n",
        "                    help='Choose optimizer')\n",
        "parser.add_argument('--batch-size', type=int, default=128, help='Batch size')\n",
        "parser.add_argument('--momentum', type=float, default=0.9, help='Momentum for SGDM and LARS')\n",
        "parser.add_argument('--weight-decay', type=float, default=1e-5, help='Weight decay')\n",
        "parser.add_argument('--b1', type=float, default=0.9, help='Beta1 for AdamW')\n",
        "parser.add_argument('--b2', type=float, default=0.999, help='Beta2 for AdamW')\n",
        "parser.add_argument('--trust-coefficient', type=float, default=0.001, help='Trust coefficient for LARS')\n",
        "parser.add_argument('--epochs', type=int, default=150, help='Number of epochs')\n",
        "parser.add_argument('--warmup-epochs', type=int, default=5, help='Number of epochs')\n",
        "args = parser.parse_args()\n",
        "\n",
        "\n",
        "torch.manual_seed(42) # Set the seed for reproducibility\n",
        "torch.cuda.manual_seed_all(42) # Set the seed for reproducibility on GPU\n",
        "\n",
        "# use the same mean and std to add consistency to all datasets\n",
        "data = torchvision.datasets.CIFAR100(root='./data', train=True, download=True, transform=transforms.ToTensor())\n",
        "mean, std = compute_mean_std(data)\n",
        "\n",
        "# Load and split CIFAR-100 dataset\n",
        "train_transform = transforms.Compose([\n",
        "  transforms.RandomCrop(32, padding=4),\n",
        "  transforms.RandomHorizontalFlip(),\n",
        "  transforms.ToTensor(),\n",
        "  transforms.Normalize(mean, std)\n",
        "])\n",
        "\n",
        "test_transform = transforms.Compose([\n",
        "    transforms.ToTensor(),  # Convert to PyTorch tensor\n",
        "    transforms.Normalize(mean, std)\n",
        "])\n",
        "\n",
        "trainset = torchvision.datasets.CIFAR100(root='./data', train=True, download=True, transform=train_transform)\n",
        "trainloader = torch.utils.data.DataLoader(trainset, batch_size=args.batch_size, shuffle=True, num_workers=2)\n",
        "\n",
        "testset = torchvision.datasets.CIFAR100(root='./data', train=False, download=True, transform=test_transform)\n",
        "testloader = torch.utils.data.DataLoader(testset, batch_size=args.batch_size, shuffle=False, num_workers=2)\n",
        "\n",
        "\n",
        "# Fixed parameter from paper [18] to calculate the square root LR scaling value\n",
        "# base_lr = 5 / (2**3 * 10**3)\n",
        "# reference_batch_size = 512\n",
        "#scaled_lr = base_lr * (args.batch_size / reference_batch_size) ** 0.5\n",
        "\n",
        "# Mapping optimizers\n",
        "if args.optimizer == 'SGDM':\n",
        "    base_lr = 1e-2\n",
        "    reference_batch_size = 64\n",
        "    scaled_lr = base_lr * (args.batch_size / reference_batch_size) ** 0.5\n",
        "    optimizer = optim.SGD(net.parameters(), lr=scaled_lr, momentum=args.momentum, weight_decay=args.weight_decay)\n",
        "elif args.optimizer == 'AdamW':\n",
        "    base_lr = 1e-4\n",
        "    reference_batch_size = 64\n",
        "    scaled_lr = base_lr * (args.batch_size / reference_batch_size) ** 0.5\n",
        "    optimizer = optim.AdamW(net.parameters(), lr=scaled_lr, betas=(args.b1, args.b2), weight_decay=args.weight_decay)\n",
        "elif args.optimizer == 'LARS':\n",
        "    base_lr = 1e-2\n",
        "    reference_batch_size = 64\n",
        "    scaled_lr = base_lr * (args.batch_size / reference_batch_size) ** 0.5\n",
        "    optimizer = LARS(net.parameters(), lr=scaled_lr, momentum=args.momentum, weight_decay=args.weight_decay, trust_coefficient=args.trust_coefficient)\n",
        "elif args.optimizer == 'LAMB':\n",
        "    base_lr = 5e-4\n",
        "    reference_batch_size = 64\n",
        "    scaled_lr = base_lr * (args.batch_size / reference_batch_size) ** 0.5\n",
        "    optimizer = LAMB(net.parameters(), lr=scaled_lr, weight_decay=args.weight_decay)\n",
        "\n",
        "criterion = nn.CrossEntropyLoss()\n",
        "\n",
        "# Scheduler initialization\n",
        "scheduler = optim.lr_scheduler.CosineAnnealingLR(optimizer=optimizer, T_max=args.epochs - args.warmup_epochs)\n",
        "\n",
        "# Training Function\n",
        "def train_model(optimizer, scheduler, model, criterion, trainloader , testloader, device, epochs, save_checkpoint_interval=10):\n",
        "    train_losses, test_losses = [], []\n",
        "    train_accuracies, test_accuracies = [], []\n",
        "    for epoch in range(epochs):\n",
        "        model.train()\n",
        "        running_loss, correct_train, total_train = 0.0, 0, 0\n",
        "        for inputs, labels in trainloader:\n",
        "            inputs, labels = inputs.to(device), labels.to(device)\n",
        "            optimizer.zero_grad()\n",
        "            outputs = model(inputs)\n",
        "            loss = criterion(outputs, labels)\n",
        "            loss.backward()\n",
        "            optimizer.step()\n",
        "            running_loss += loss.item()\n",
        "            _, predicted = outputs.max(1)\n",
        "            total_train += labels.size(0)\n",
        "            correct_train += predicted.eq(labels).sum().item()\n",
        "        train_loss = running_loss / len(trainloader)\n",
        "        train_accuracy = 100. * correct_train / total_train\n",
        "        train_losses.append(train_loss)\n",
        "        train_accuracies.append(train_accuracy)\n",
        "\n",
        "        '''\n",
        "        # Early Stopping\n",
        "        if val_loss < best_val_loss:\n",
        "          best_val_loss = val_loss\n",
        "          epochs_no_improve = 0\n",
        "        else:\n",
        "          epochs_no_improve += 1\n",
        "\n",
        "        if epochs_no_improve == patience:\n",
        "          print(\"Early stopping!\")\n",
        "          break\n",
        "        '''\n",
        "\n",
        "        # Test\n",
        "        correct_test, total_test, test_loss = 0, 0, 0.0\n",
        "        with torch.no_grad():\n",
        "            for inputs, labels in testloader:\n",
        "                inputs, labels = inputs.to(device), labels.to(device)\n",
        "                outputs = model(inputs)\n",
        "                loss = criterion(outputs, labels)\n",
        "                test_loss += loss.item()\n",
        "                _, predicted = outputs.max(1)\n",
        "                total_test += labels.size(0)\n",
        "                correct_test += predicted.eq(labels).sum().item()\n",
        "        test_loss /= len(testloader)\n",
        "        test_losses.append(test_loss)\n",
        "        test_accuracy = 100. * correct_test / total_test\n",
        "        test_accuracies.append(test_accuracy)\n",
        "\n",
        "        if epoch >= args.warmup_epochs:\n",
        "            scheduler.step()  # Trigger cosine decay\n",
        "        else:\n",
        "            warmup_factor = (epoch + 1) / args.warmup_epochs\n",
        "            lr = warmup_factor * scaled_lr\n",
        "            for param_group in optimizer.param_groups:\n",
        "                param_group['lr'] = lr\n",
        "\n",
        "        # Checkpointing\n",
        "        if (epoch + 1) % save_checkpoint_interval == 0:\n",
        "            checkpoint_filename = f'checkpoint_epoch_{epoch + 1}.pth'\n",
        "            checkpoint = {\n",
        "                'epoch': epoch + 1,\n",
        "                'model_state_dict': model.state_dict(),\n",
        "                'optimizer_state_dict': optimizer.state_dict(),\n",
        "                'scheduler_state_dict': scheduler.state_dict(),\n",
        "                'loss': loss.item(),\n",
        "            }\n",
        "            checkpoint_path = os.path.join('./', checkpoint_filename)\n",
        "            torch.save(checkpoint, checkpoint_path)\n",
        "            print(f'Checkpoint saved at epoch {epoch + 1}: {checkpoint_path}')\n",
        "\n",
        "            # Download the checkpoint\n",
        "            files.download(checkpoint_filename)\n",
        "\n",
        "        print(f'Epoch {epoch+1}/{epochs}, Train Acc: {train_accuracy:.2f}%, Test Acc: {test_accuracy:.2f}%')\n",
        "        print(f'Epoch {epoch+1}/{epochs}, Train Loss: {train_loss:.4f}, Test Loss: {test_loss:.4f}')\n",
        "\n",
        "    return train_losses, test_losses, train_accuracies, test_accuracies\n",
        "\n",
        "# Train the model\n",
        "print(f\"--- Train with {args.optimizer} ---\")\n",
        "train_loss, test_loss, train_acc, test_acc = train_model(optimizer, scheduler, net, criterion, trainloader, testloader, device, args.epochs)\n",
        "\n",
        "# Save model\n",
        "torch.save(net.state_dict(), f'net_{args.optimizer}.pth')\n",
        "\n",
        "# Plot results\n",
        "# Plot Training Loss\n",
        "plt.figure(figsize=(6, 4))\n",
        "plt.plot(train_loss, label='Train Loss')\n",
        "plt.title('Training Loss')\n",
        "plt.xlabel('Epoch')\n",
        "plt.ylabel('Loss')\n",
        "plt.legend()\n",
        "plt.tight_layout()\n",
        "plt.savefig('train_loss.png')\n",
        "plt.show()\n",
        "\n",
        "# Plot Training Accuracy\n",
        "plt.figure(figsize=(6, 4))\n",
        "plt.plot(train_acc, label='Train Accuracy')\n",
        "plt.title('Training Accuracy')\n",
        "plt.xlabel('Epoch')\n",
        "plt.ylabel('Accuracy (%)')\n",
        "plt.legend()\n",
        "plt.tight_layout()\n",
        "plt.savefig('train_accuracy.png')\n",
        "plt.show()\n",
        "\n",
        "# Plot Test Loss\n",
        "plt.figure(figsize=(6, 4))\n",
        "plt.plot(test_loss, label='Test Loss')\n",
        "plt.title('Test Loss')\n",
        "plt.xlabel('Epoch')\n",
        "plt.ylabel('Loss')\n",
        "plt.legend()\n",
        "plt.tight_layout()\n",
        "plt.savefig('test_loss.png')\n",
        "plt.show()\n",
        "\n",
        "# Plot Test Accuracy\n",
        "plt.figure(figsize=(6, 4))\n",
        "plt.plot(test_acc, label='Test Accuracy')\n",
        "plt.title('Test Accuracy')\n",
        "plt.xlabel('Epoch')\n",
        "plt.ylabel('Accuracy (%)')\n",
        "plt.legend()\n",
        "plt.tight_layout()\n",
        "plt.savefig('test_accuracy.png')\n",
        "plt.show()\n"
      ]
    },
    {
      "cell_type": "code",
      "execution_count": null,
      "metadata": {
        "colab": {
          "base_uri": "https://localhost:8080/"
        },
        "id": "_hEcpkQqYJmP",
        "outputId": "c8eedbc5-9061-45df-d650-9e8a0ee8ae51"
      },
      "outputs": [
        {
          "output_type": "stream",
          "name": "stdout",
          "text": [
            "Downloading https://www.cs.toronto.edu/~kriz/cifar-100-python.tar.gz to ./data/cifar-100-python.tar.gz\n"
          ]
        },
        {
          "output_type": "stream",
          "name": "stderr",
          "text": [
            "100%|██████████| 169M/169M [00:04<00:00, 38.6MB/s]\n"
          ]
        },
        {
          "output_type": "stream",
          "name": "stdout",
          "text": [
            "Extracting ./data/cifar-100-python.tar.gz to ./data\n",
            "Files already downloaded and verified\n",
            "Files already downloaded and verified\n",
            "--- Train with SGDM ---\n",
            "Epoch 1/150, Train Acc: 5.64%, Test Acc: 11.74%\n",
            "Epoch 1/150, Train Loss: 4.2260, Test Loss: 3.8022\n"
          ]
        }
      ],
      "source": [
        "%run large_batch_training.py --optimizer SGDM --batch-size 128 --weight-decay 4e-4"
      ]
    },
    {
      "cell_type": "markdown",
      "metadata": {
        "id": "_2t__56QmDKL"
      },
      "source": []
    },
    {
      "cell_type": "code",
      "execution_count": 2,
      "metadata": {
        "colab": {
          "base_uri": "https://localhost:8080/",
          "height": 1000
        },
        "id": "FqIzBQKfZFgB",
        "outputId": "6afd9b22-c0f8-4255-bbbd-370074b592a8"
      },
      "outputs": [
        {
          "output_type": "stream",
          "name": "stdout",
          "text": [
            "Downloading https://www.cs.toronto.edu/~kriz/cifar-100-python.tar.gz to ./data/cifar-100-python.tar.gz\n"
          ]
        },
        {
          "output_type": "stream",
          "name": "stderr",
          "text": [
            "100%|██████████| 169M/169M [00:44<00:00, 3.77MB/s]\n"
          ]
        },
        {
          "output_type": "stream",
          "name": "stdout",
          "text": [
            "Extracting ./data/cifar-100-python.tar.gz to ./data\n",
            "Files already downloaded and verified\n",
            "Files already downloaded and verified\n",
            "--- Train with AdamW ---\n",
            "Epoch 1/150, Train Acc: 4.29%, Test Acc: 7.83%\n",
            "Epoch 1/150, Train Loss: 4.3627, Test Loss: 4.0815\n",
            "Epoch 2/150, Train Acc: 8.37%, Test Acc: 10.05%\n",
            "Epoch 2/150, Train Loss: 4.0567, Test Loss: 3.9713\n",
            "Epoch 3/150, Train Acc: 9.87%, Test Acc: 11.63%\n",
            "Epoch 3/150, Train Loss: 3.9510, Test Loss: 3.8360\n",
            "Epoch 4/150, Train Acc: 11.80%, Test Acc: 14.43%\n",
            "Epoch 4/150, Train Loss: 3.8373, Test Loss: 3.7051\n",
            "Epoch 5/150, Train Acc: 13.99%, Test Acc: 16.16%\n",
            "Epoch 5/150, Train Loss: 3.7108, Test Loss: 3.5989\n",
            "Epoch 6/150, Train Acc: 15.93%, Test Acc: 18.73%\n",
            "Epoch 6/150, Train Loss: 3.5801, Test Loss: 3.4484\n",
            "Epoch 7/150, Train Acc: 17.88%, Test Acc: 20.45%\n",
            "Epoch 7/150, Train Loss: 3.4586, Test Loss: 3.3645\n",
            "Epoch 8/150, Train Acc: 19.91%, Test Acc: 22.30%\n",
            "Epoch 8/150, Train Loss: 3.3569, Test Loss: 3.2494\n",
            "Epoch 9/150, Train Acc: 21.21%, Test Acc: 24.16%\n",
            "Epoch 9/150, Train Loss: 3.2647, Test Loss: 3.1625\n",
            "Checkpoint saved at epoch 10: ./checkpoint_epoch_10.pth\n"
          ]
        },
        {
          "output_type": "display_data",
          "data": {
            "text/plain": [
              "<IPython.core.display.Javascript object>"
            ],
            "application/javascript": [
              "\n",
              "    async function download(id, filename, size) {\n",
              "      if (!google.colab.kernel.accessAllowed) {\n",
              "        return;\n",
              "      }\n",
              "      const div = document.createElement('div');\n",
              "      const label = document.createElement('label');\n",
              "      label.textContent = `Downloading \"${filename}\": `;\n",
              "      div.appendChild(label);\n",
              "      const progress = document.createElement('progress');\n",
              "      progress.max = size;\n",
              "      div.appendChild(progress);\n",
              "      document.body.appendChild(div);\n",
              "\n",
              "      const buffers = [];\n",
              "      let downloaded = 0;\n",
              "\n",
              "      const channel = await google.colab.kernel.comms.open(id);\n",
              "      // Send a message to notify the kernel that we're ready.\n",
              "      channel.send({})\n",
              "\n",
              "      for await (const message of channel.messages) {\n",
              "        // Send a message to notify the kernel that we're ready.\n",
              "        channel.send({})\n",
              "        if (message.buffers) {\n",
              "          for (const buffer of message.buffers) {\n",
              "            buffers.push(buffer);\n",
              "            downloaded += buffer.byteLength;\n",
              "            progress.value = downloaded;\n",
              "          }\n",
              "        }\n",
              "      }\n",
              "      const blob = new Blob(buffers, {type: 'application/binary'});\n",
              "      const a = document.createElement('a');\n",
              "      a.href = window.URL.createObjectURL(blob);\n",
              "      a.download = filename;\n",
              "      div.appendChild(a);\n",
              "      a.click();\n",
              "      div.remove();\n",
              "    }\n",
              "  "
            ]
          },
          "metadata": {}
        },
        {
          "output_type": "display_data",
          "data": {
            "text/plain": [
              "<IPython.core.display.Javascript object>"
            ],
            "application/javascript": [
              "download(\"download_ee596012-fb6f-43d2-9cb7-cbd85805879a\", \"checkpoint_epoch_10.pth\", 9796974)"
            ]
          },
          "metadata": {}
        },
        {
          "output_type": "stream",
          "name": "stdout",
          "text": [
            "Epoch 10/150, Train Acc: 22.77%, Test Acc: 25.33%\n",
            "Epoch 10/150, Train Loss: 3.1857, Test Loss: 3.0864\n",
            "Epoch 11/150, Train Acc: 23.86%, Test Acc: 26.02%\n",
            "Epoch 11/150, Train Loss: 3.1193, Test Loss: 3.0532\n",
            "Epoch 12/150, Train Acc: 25.17%, Test Acc: 27.56%\n",
            "Epoch 12/150, Train Loss: 3.0542, Test Loss: 2.9621\n",
            "Epoch 13/150, Train Acc: 26.07%, Test Acc: 28.63%\n",
            "Epoch 13/150, Train Loss: 3.0055, Test Loss: 2.9038\n",
            "Epoch 14/150, Train Acc: 27.35%, Test Acc: 29.33%\n",
            "Epoch 14/150, Train Loss: 2.9443, Test Loss: 2.8627\n",
            "Epoch 15/150, Train Acc: 28.26%, Test Acc: 29.71%\n",
            "Epoch 15/150, Train Loss: 2.8927, Test Loss: 2.8374\n",
            "Epoch 16/150, Train Acc: 29.03%, Test Acc: 31.26%\n",
            "Epoch 16/150, Train Loss: 2.8495, Test Loss: 2.7670\n",
            "Epoch 17/150, Train Acc: 29.81%, Test Acc: 31.92%\n",
            "Epoch 17/150, Train Loss: 2.8095, Test Loss: 2.7232\n",
            "Epoch 18/150, Train Acc: 30.76%, Test Acc: 33.05%\n",
            "Epoch 18/150, Train Loss: 2.7681, Test Loss: 2.6758\n",
            "Epoch 19/150, Train Acc: 31.30%, Test Acc: 33.67%\n",
            "Epoch 19/150, Train Loss: 2.7343, Test Loss: 2.6387\n",
            "Checkpoint saved at epoch 20: ./checkpoint_epoch_20.pth\n"
          ]
        },
        {
          "output_type": "display_data",
          "data": {
            "text/plain": [
              "<IPython.core.display.Javascript object>"
            ],
            "application/javascript": [
              "\n",
              "    async function download(id, filename, size) {\n",
              "      if (!google.colab.kernel.accessAllowed) {\n",
              "        return;\n",
              "      }\n",
              "      const div = document.createElement('div');\n",
              "      const label = document.createElement('label');\n",
              "      label.textContent = `Downloading \"${filename}\": `;\n",
              "      div.appendChild(label);\n",
              "      const progress = document.createElement('progress');\n",
              "      progress.max = size;\n",
              "      div.appendChild(progress);\n",
              "      document.body.appendChild(div);\n",
              "\n",
              "      const buffers = [];\n",
              "      let downloaded = 0;\n",
              "\n",
              "      const channel = await google.colab.kernel.comms.open(id);\n",
              "      // Send a message to notify the kernel that we're ready.\n",
              "      channel.send({})\n",
              "\n",
              "      for await (const message of channel.messages) {\n",
              "        // Send a message to notify the kernel that we're ready.\n",
              "        channel.send({})\n",
              "        if (message.buffers) {\n",
              "          for (const buffer of message.buffers) {\n",
              "            buffers.push(buffer);\n",
              "            downloaded += buffer.byteLength;\n",
              "            progress.value = downloaded;\n",
              "          }\n",
              "        }\n",
              "      }\n",
              "      const blob = new Blob(buffers, {type: 'application/binary'});\n",
              "      const a = document.createElement('a');\n",
              "      a.href = window.URL.createObjectURL(blob);\n",
              "      a.download = filename;\n",
              "      div.appendChild(a);\n",
              "      a.click();\n",
              "      div.remove();\n",
              "    }\n",
              "  "
            ]
          },
          "metadata": {}
        },
        {
          "output_type": "display_data",
          "data": {
            "text/plain": [
              "<IPython.core.display.Javascript object>"
            ],
            "application/javascript": [
              "download(\"download_ed735663-71a2-4814-a5f4-1ac278a24d78\", \"checkpoint_epoch_20.pth\", 9796974)"
            ]
          },
          "metadata": {}
        },
        {
          "output_type": "stream",
          "name": "stdout",
          "text": [
            "Epoch 20/150, Train Acc: 31.87%, Test Acc: 33.93%\n",
            "Epoch 20/150, Train Loss: 2.7015, Test Loss: 2.6348\n",
            "Epoch 21/150, Train Acc: 32.64%, Test Acc: 34.06%\n",
            "Epoch 21/150, Train Loss: 2.6678, Test Loss: 2.6192\n",
            "Epoch 22/150, Train Acc: 33.20%, Test Acc: 34.85%\n",
            "Epoch 22/150, Train Loss: 2.6358, Test Loss: 2.5780\n",
            "Epoch 23/150, Train Acc: 33.81%, Test Acc: 35.64%\n",
            "Epoch 23/150, Train Loss: 2.6110, Test Loss: 2.5573\n",
            "Epoch 24/150, Train Acc: 34.24%, Test Acc: 35.81%\n",
            "Epoch 24/150, Train Loss: 2.5856, Test Loss: 2.5379\n",
            "Epoch 25/150, Train Acc: 34.47%, Test Acc: 36.23%\n",
            "Epoch 25/150, Train Loss: 2.5675, Test Loss: 2.5300\n",
            "Epoch 26/150, Train Acc: 35.17%, Test Acc: 36.10%\n",
            "Epoch 26/150, Train Loss: 2.5427, Test Loss: 2.5098\n",
            "Epoch 27/150, Train Acc: 35.87%, Test Acc: 36.82%\n",
            "Epoch 27/150, Train Loss: 2.5052, Test Loss: 2.4880\n",
            "Epoch 28/150, Train Acc: 36.11%, Test Acc: 37.10%\n",
            "Epoch 28/150, Train Loss: 2.4977, Test Loss: 2.4699\n",
            "Epoch 29/150, Train Acc: 36.54%, Test Acc: 38.06%\n",
            "Epoch 29/150, Train Loss: 2.4770, Test Loss: 2.4393\n",
            "Checkpoint saved at epoch 30: ./checkpoint_epoch_30.pth\n"
          ]
        },
        {
          "output_type": "display_data",
          "data": {
            "text/plain": [
              "<IPython.core.display.Javascript object>"
            ],
            "application/javascript": [
              "\n",
              "    async function download(id, filename, size) {\n",
              "      if (!google.colab.kernel.accessAllowed) {\n",
              "        return;\n",
              "      }\n",
              "      const div = document.createElement('div');\n",
              "      const label = document.createElement('label');\n",
              "      label.textContent = `Downloading \"${filename}\": `;\n",
              "      div.appendChild(label);\n",
              "      const progress = document.createElement('progress');\n",
              "      progress.max = size;\n",
              "      div.appendChild(progress);\n",
              "      document.body.appendChild(div);\n",
              "\n",
              "      const buffers = [];\n",
              "      let downloaded = 0;\n",
              "\n",
              "      const channel = await google.colab.kernel.comms.open(id);\n",
              "      // Send a message to notify the kernel that we're ready.\n",
              "      channel.send({})\n",
              "\n",
              "      for await (const message of channel.messages) {\n",
              "        // Send a message to notify the kernel that we're ready.\n",
              "        channel.send({})\n",
              "        if (message.buffers) {\n",
              "          for (const buffer of message.buffers) {\n",
              "            buffers.push(buffer);\n",
              "            downloaded += buffer.byteLength;\n",
              "            progress.value = downloaded;\n",
              "          }\n",
              "        }\n",
              "      }\n",
              "      const blob = new Blob(buffers, {type: 'application/binary'});\n",
              "      const a = document.createElement('a');\n",
              "      a.href = window.URL.createObjectURL(blob);\n",
              "      a.download = filename;\n",
              "      div.appendChild(a);\n",
              "      a.click();\n",
              "      div.remove();\n",
              "    }\n",
              "  "
            ]
          },
          "metadata": {}
        },
        {
          "output_type": "display_data",
          "data": {
            "text/plain": [
              "<IPython.core.display.Javascript object>"
            ],
            "application/javascript": [
              "download(\"download_e3883c8e-4f4d-4646-acaf-a434e3028931\", \"checkpoint_epoch_30.pth\", 9796974)"
            ]
          },
          "metadata": {}
        },
        {
          "output_type": "stream",
          "name": "stdout",
          "text": [
            "Epoch 30/150, Train Acc: 37.09%, Test Acc: 37.58%\n",
            "Epoch 30/150, Train Loss: 2.4541, Test Loss: 2.4450\n",
            "Epoch 31/150, Train Acc: 37.41%, Test Acc: 38.72%\n",
            "Epoch 31/150, Train Loss: 2.4368, Test Loss: 2.4043\n",
            "Epoch 32/150, Train Acc: 37.87%, Test Acc: 38.32%\n",
            "Epoch 32/150, Train Loss: 2.4215, Test Loss: 2.4098\n",
            "Epoch 33/150, Train Acc: 38.05%, Test Acc: 38.69%\n",
            "Epoch 33/150, Train Loss: 2.4012, Test Loss: 2.3903\n",
            "Epoch 34/150, Train Acc: 38.25%, Test Acc: 39.12%\n",
            "Epoch 34/150, Train Loss: 2.3963, Test Loss: 2.3771\n",
            "Epoch 35/150, Train Acc: 38.70%, Test Acc: 39.13%\n",
            "Epoch 35/150, Train Loss: 2.3741, Test Loss: 2.3772\n",
            "Epoch 36/150, Train Acc: 39.13%, Test Acc: 38.67%\n",
            "Epoch 36/150, Train Loss: 2.3599, Test Loss: 2.3975\n",
            "Epoch 37/150, Train Acc: 39.42%, Test Acc: 39.49%\n",
            "Epoch 37/150, Train Loss: 2.3446, Test Loss: 2.3481\n",
            "Epoch 38/150, Train Acc: 39.65%, Test Acc: 39.86%\n",
            "Epoch 38/150, Train Loss: 2.3384, Test Loss: 2.3574\n",
            "Epoch 39/150, Train Acc: 39.70%, Test Acc: 40.32%\n",
            "Epoch 39/150, Train Loss: 2.3206, Test Loss: 2.3356\n",
            "Checkpoint saved at epoch 40: ./checkpoint_epoch_40.pth\n"
          ]
        },
        {
          "output_type": "display_data",
          "data": {
            "text/plain": [
              "<IPython.core.display.Javascript object>"
            ],
            "application/javascript": [
              "\n",
              "    async function download(id, filename, size) {\n",
              "      if (!google.colab.kernel.accessAllowed) {\n",
              "        return;\n",
              "      }\n",
              "      const div = document.createElement('div');\n",
              "      const label = document.createElement('label');\n",
              "      label.textContent = `Downloading \"${filename}\": `;\n",
              "      div.appendChild(label);\n",
              "      const progress = document.createElement('progress');\n",
              "      progress.max = size;\n",
              "      div.appendChild(progress);\n",
              "      document.body.appendChild(div);\n",
              "\n",
              "      const buffers = [];\n",
              "      let downloaded = 0;\n",
              "\n",
              "      const channel = await google.colab.kernel.comms.open(id);\n",
              "      // Send a message to notify the kernel that we're ready.\n",
              "      channel.send({})\n",
              "\n",
              "      for await (const message of channel.messages) {\n",
              "        // Send a message to notify the kernel that we're ready.\n",
              "        channel.send({})\n",
              "        if (message.buffers) {\n",
              "          for (const buffer of message.buffers) {\n",
              "            buffers.push(buffer);\n",
              "            downloaded += buffer.byteLength;\n",
              "            progress.value = downloaded;\n",
              "          }\n",
              "        }\n",
              "      }\n",
              "      const blob = new Blob(buffers, {type: 'application/binary'});\n",
              "      const a = document.createElement('a');\n",
              "      a.href = window.URL.createObjectURL(blob);\n",
              "      a.download = filename;\n",
              "      div.appendChild(a);\n",
              "      a.click();\n",
              "      div.remove();\n",
              "    }\n",
              "  "
            ]
          },
          "metadata": {}
        },
        {
          "output_type": "display_data",
          "data": {
            "text/plain": [
              "<IPython.core.display.Javascript object>"
            ],
            "application/javascript": [
              "download(\"download_61c800d9-532b-458b-8075-c824e07301a9\", \"checkpoint_epoch_40.pth\", 9796974)"
            ]
          },
          "metadata": {}
        },
        {
          "output_type": "stream",
          "name": "stdout",
          "text": [
            "Epoch 40/150, Train Acc: 40.05%, Test Acc: 40.39%\n",
            "Epoch 40/150, Train Loss: 2.3114, Test Loss: 2.3136\n",
            "Epoch 41/150, Train Acc: 40.89%, Test Acc: 40.01%\n",
            "Epoch 41/150, Train Loss: 2.2799, Test Loss: 2.3410\n",
            "Epoch 42/150, Train Acc: 40.97%, Test Acc: 40.43%\n",
            "Epoch 42/150, Train Loss: 2.2756, Test Loss: 2.3187\n",
            "Epoch 43/150, Train Acc: 41.42%, Test Acc: 40.95%\n",
            "Epoch 43/150, Train Loss: 2.2550, Test Loss: 2.2867\n",
            "Epoch 44/150, Train Acc: 41.85%, Test Acc: 41.65%\n",
            "Epoch 44/150, Train Loss: 2.2372, Test Loss: 2.2818\n",
            "Epoch 45/150, Train Acc: 41.97%, Test Acc: 40.64%\n",
            "Epoch 45/150, Train Loss: 2.2372, Test Loss: 2.3104\n",
            "Epoch 46/150, Train Acc: 41.73%, Test Acc: 41.19%\n",
            "Epoch 46/150, Train Loss: 2.2321, Test Loss: 2.2846\n",
            "Epoch 47/150, Train Acc: 42.36%, Test Acc: 40.84%\n",
            "Epoch 47/150, Train Loss: 2.2160, Test Loss: 2.2850\n",
            "Epoch 48/150, Train Acc: 42.17%, Test Acc: 42.05%\n",
            "Epoch 48/150, Train Loss: 2.2115, Test Loss: 2.2497\n",
            "Epoch 49/150, Train Acc: 42.64%, Test Acc: 42.85%\n",
            "Epoch 49/150, Train Loss: 2.1886, Test Loss: 2.2434\n",
            "Checkpoint saved at epoch 50: ./checkpoint_epoch_50.pth\n"
          ]
        },
        {
          "output_type": "display_data",
          "data": {
            "text/plain": [
              "<IPython.core.display.Javascript object>"
            ],
            "application/javascript": [
              "\n",
              "    async function download(id, filename, size) {\n",
              "      if (!google.colab.kernel.accessAllowed) {\n",
              "        return;\n",
              "      }\n",
              "      const div = document.createElement('div');\n",
              "      const label = document.createElement('label');\n",
              "      label.textContent = `Downloading \"${filename}\": `;\n",
              "      div.appendChild(label);\n",
              "      const progress = document.createElement('progress');\n",
              "      progress.max = size;\n",
              "      div.appendChild(progress);\n",
              "      document.body.appendChild(div);\n",
              "\n",
              "      const buffers = [];\n",
              "      let downloaded = 0;\n",
              "\n",
              "      const channel = await google.colab.kernel.comms.open(id);\n",
              "      // Send a message to notify the kernel that we're ready.\n",
              "      channel.send({})\n",
              "\n",
              "      for await (const message of channel.messages) {\n",
              "        // Send a message to notify the kernel that we're ready.\n",
              "        channel.send({})\n",
              "        if (message.buffers) {\n",
              "          for (const buffer of message.buffers) {\n",
              "            buffers.push(buffer);\n",
              "            downloaded += buffer.byteLength;\n",
              "            progress.value = downloaded;\n",
              "          }\n",
              "        }\n",
              "      }\n",
              "      const blob = new Blob(buffers, {type: 'application/binary'});\n",
              "      const a = document.createElement('a');\n",
              "      a.href = window.URL.createObjectURL(blob);\n",
              "      a.download = filename;\n",
              "      div.appendChild(a);\n",
              "      a.click();\n",
              "      div.remove();\n",
              "    }\n",
              "  "
            ]
          },
          "metadata": {}
        },
        {
          "output_type": "display_data",
          "data": {
            "text/plain": [
              "<IPython.core.display.Javascript object>"
            ],
            "application/javascript": [
              "download(\"download_322d0ecd-6858-42b9-b640-893a08c97a4a\", \"checkpoint_epoch_50.pth\", 9796974)"
            ]
          },
          "metadata": {}
        },
        {
          "output_type": "stream",
          "name": "stdout",
          "text": [
            "Epoch 50/150, Train Acc: 42.96%, Test Acc: 42.03%\n",
            "Epoch 50/150, Train Loss: 2.1815, Test Loss: 2.2495\n",
            "Epoch 51/150, Train Acc: 43.45%, Test Acc: 42.67%\n",
            "Epoch 51/150, Train Loss: 2.1588, Test Loss: 2.2268\n",
            "Epoch 52/150, Train Acc: 43.42%, Test Acc: 42.14%\n",
            "Epoch 52/150, Train Loss: 2.1642, Test Loss: 2.2464\n",
            "Epoch 53/150, Train Acc: 43.70%, Test Acc: 42.88%\n",
            "Epoch 53/150, Train Loss: 2.1463, Test Loss: 2.2203\n",
            "Epoch 54/150, Train Acc: 44.03%, Test Acc: 42.47%\n",
            "Epoch 54/150, Train Loss: 2.1390, Test Loss: 2.2336\n",
            "Epoch 55/150, Train Acc: 43.82%, Test Acc: 42.32%\n",
            "Epoch 55/150, Train Loss: 2.1412, Test Loss: 2.2350\n",
            "Epoch 56/150, Train Acc: 44.38%, Test Acc: 43.43%\n",
            "Epoch 56/150, Train Loss: 2.1253, Test Loss: 2.1996\n",
            "Epoch 57/150, Train Acc: 44.44%, Test Acc: 42.82%\n",
            "Epoch 57/150, Train Loss: 2.1174, Test Loss: 2.2244\n",
            "Epoch 58/150, Train Acc: 44.34%, Test Acc: 42.68%\n",
            "Epoch 58/150, Train Loss: 2.1144, Test Loss: 2.2483\n",
            "Epoch 59/150, Train Acc: 44.78%, Test Acc: 43.47%\n",
            "Epoch 59/150, Train Loss: 2.0989, Test Loss: 2.2046\n",
            "Checkpoint saved at epoch 60: ./checkpoint_epoch_60.pth\n"
          ]
        },
        {
          "output_type": "display_data",
          "data": {
            "text/plain": [
              "<IPython.core.display.Javascript object>"
            ],
            "application/javascript": [
              "\n",
              "    async function download(id, filename, size) {\n",
              "      if (!google.colab.kernel.accessAllowed) {\n",
              "        return;\n",
              "      }\n",
              "      const div = document.createElement('div');\n",
              "      const label = document.createElement('label');\n",
              "      label.textContent = `Downloading \"${filename}\": `;\n",
              "      div.appendChild(label);\n",
              "      const progress = document.createElement('progress');\n",
              "      progress.max = size;\n",
              "      div.appendChild(progress);\n",
              "      document.body.appendChild(div);\n",
              "\n",
              "      const buffers = [];\n",
              "      let downloaded = 0;\n",
              "\n",
              "      const channel = await google.colab.kernel.comms.open(id);\n",
              "      // Send a message to notify the kernel that we're ready.\n",
              "      channel.send({})\n",
              "\n",
              "      for await (const message of channel.messages) {\n",
              "        // Send a message to notify the kernel that we're ready.\n",
              "        channel.send({})\n",
              "        if (message.buffers) {\n",
              "          for (const buffer of message.buffers) {\n",
              "            buffers.push(buffer);\n",
              "            downloaded += buffer.byteLength;\n",
              "            progress.value = downloaded;\n",
              "          }\n",
              "        }\n",
              "      }\n",
              "      const blob = new Blob(buffers, {type: 'application/binary'});\n",
              "      const a = document.createElement('a');\n",
              "      a.href = window.URL.createObjectURL(blob);\n",
              "      a.download = filename;\n",
              "      div.appendChild(a);\n",
              "      a.click();\n",
              "      div.remove();\n",
              "    }\n",
              "  "
            ]
          },
          "metadata": {}
        },
        {
          "output_type": "display_data",
          "data": {
            "text/plain": [
              "<IPython.core.display.Javascript object>"
            ],
            "application/javascript": [
              "download(\"download_43b78496-d2d7-4cc0-aa06-e2cfdb3b6239\", \"checkpoint_epoch_60.pth\", 9796974)"
            ]
          },
          "metadata": {}
        },
        {
          "output_type": "stream",
          "name": "stdout",
          "text": [
            "Epoch 60/150, Train Acc: 44.91%, Test Acc: 43.04%\n",
            "Epoch 60/150, Train Loss: 2.0951, Test Loss: 2.2016\n",
            "Epoch 61/150, Train Acc: 45.54%, Test Acc: 43.56%\n",
            "Epoch 61/150, Train Loss: 2.0697, Test Loss: 2.1969\n",
            "Epoch 62/150, Train Acc: 45.43%, Test Acc: 43.76%\n",
            "Epoch 62/150, Train Loss: 2.0690, Test Loss: 2.2048\n",
            "Epoch 63/150, Train Acc: 45.28%, Test Acc: 43.50%\n",
            "Epoch 63/150, Train Loss: 2.0715, Test Loss: 2.1904\n",
            "Epoch 64/150, Train Acc: 45.90%, Test Acc: 43.65%\n",
            "Epoch 64/150, Train Loss: 2.0535, Test Loss: 2.1854\n",
            "Epoch 65/150, Train Acc: 45.83%, Test Acc: 44.04%\n",
            "Epoch 65/150, Train Loss: 2.0518, Test Loss: 2.1685\n",
            "Epoch 66/150, Train Acc: 46.04%, Test Acc: 44.08%\n",
            "Epoch 66/150, Train Loss: 2.0390, Test Loss: 2.1777\n",
            "Epoch 67/150, Train Acc: 46.19%, Test Acc: 43.97%\n",
            "Epoch 67/150, Train Loss: 2.0353, Test Loss: 2.1693\n",
            "Epoch 68/150, Train Acc: 46.42%, Test Acc: 44.67%\n",
            "Epoch 68/150, Train Loss: 2.0187, Test Loss: 2.1511\n",
            "Epoch 69/150, Train Acc: 46.86%, Test Acc: 44.21%\n",
            "Epoch 69/150, Train Loss: 2.0118, Test Loss: 2.1613\n",
            "Checkpoint saved at epoch 70: ./checkpoint_epoch_70.pth\n"
          ]
        },
        {
          "output_type": "display_data",
          "data": {
            "text/plain": [
              "<IPython.core.display.Javascript object>"
            ],
            "application/javascript": [
              "\n",
              "    async function download(id, filename, size) {\n",
              "      if (!google.colab.kernel.accessAllowed) {\n",
              "        return;\n",
              "      }\n",
              "      const div = document.createElement('div');\n",
              "      const label = document.createElement('label');\n",
              "      label.textContent = `Downloading \"${filename}\": `;\n",
              "      div.appendChild(label);\n",
              "      const progress = document.createElement('progress');\n",
              "      progress.max = size;\n",
              "      div.appendChild(progress);\n",
              "      document.body.appendChild(div);\n",
              "\n",
              "      const buffers = [];\n",
              "      let downloaded = 0;\n",
              "\n",
              "      const channel = await google.colab.kernel.comms.open(id);\n",
              "      // Send a message to notify the kernel that we're ready.\n",
              "      channel.send({})\n",
              "\n",
              "      for await (const message of channel.messages) {\n",
              "        // Send a message to notify the kernel that we're ready.\n",
              "        channel.send({})\n",
              "        if (message.buffers) {\n",
              "          for (const buffer of message.buffers) {\n",
              "            buffers.push(buffer);\n",
              "            downloaded += buffer.byteLength;\n",
              "            progress.value = downloaded;\n",
              "          }\n",
              "        }\n",
              "      }\n",
              "      const blob = new Blob(buffers, {type: 'application/binary'});\n",
              "      const a = document.createElement('a');\n",
              "      a.href = window.URL.createObjectURL(blob);\n",
              "      a.download = filename;\n",
              "      div.appendChild(a);\n",
              "      a.click();\n",
              "      div.remove();\n",
              "    }\n",
              "  "
            ]
          },
          "metadata": {}
        },
        {
          "output_type": "display_data",
          "data": {
            "text/plain": [
              "<IPython.core.display.Javascript object>"
            ],
            "application/javascript": [
              "download(\"download_60ecfc57-b506-4900-8256-4b9a3c527d78\", \"checkpoint_epoch_70.pth\", 9796974)"
            ]
          },
          "metadata": {}
        },
        {
          "output_type": "stream",
          "name": "stdout",
          "text": [
            "Epoch 70/150, Train Acc: 46.59%, Test Acc: 43.91%\n",
            "Epoch 70/150, Train Loss: 2.0162, Test Loss: 2.1703\n",
            "Epoch 71/150, Train Acc: 46.90%, Test Acc: 44.61%\n",
            "Epoch 71/150, Train Loss: 2.0040, Test Loss: 2.1524\n",
            "Epoch 72/150, Train Acc: 47.17%, Test Acc: 44.74%\n",
            "Epoch 72/150, Train Loss: 1.9967, Test Loss: 2.1398\n",
            "Epoch 73/150, Train Acc: 47.46%, Test Acc: 44.85%\n",
            "Epoch 73/150, Train Loss: 1.9835, Test Loss: 2.1485\n",
            "Epoch 74/150, Train Acc: 47.65%, Test Acc: 44.83%\n",
            "Epoch 74/150, Train Loss: 1.9789, Test Loss: 2.1419\n",
            "Epoch 75/150, Train Acc: 47.74%, Test Acc: 44.52%\n",
            "Epoch 75/150, Train Loss: 1.9703, Test Loss: 2.1414\n",
            "Epoch 76/150, Train Acc: 47.58%, Test Acc: 45.04%\n",
            "Epoch 76/150, Train Loss: 1.9764, Test Loss: 2.1438\n",
            "Epoch 77/150, Train Acc: 47.70%, Test Acc: 44.64%\n",
            "Epoch 77/150, Train Loss: 1.9669, Test Loss: 2.1347\n",
            "Epoch 78/150, Train Acc: 48.01%, Test Acc: 45.15%\n",
            "Epoch 78/150, Train Loss: 1.9586, Test Loss: 2.1315\n",
            "Epoch 79/150, Train Acc: 48.10%, Test Acc: 45.32%\n",
            "Epoch 79/150, Train Loss: 1.9568, Test Loss: 2.1330\n",
            "Checkpoint saved at epoch 80: ./checkpoint_epoch_80.pth\n"
          ]
        },
        {
          "output_type": "display_data",
          "data": {
            "text/plain": [
              "<IPython.core.display.Javascript object>"
            ],
            "application/javascript": [
              "\n",
              "    async function download(id, filename, size) {\n",
              "      if (!google.colab.kernel.accessAllowed) {\n",
              "        return;\n",
              "      }\n",
              "      const div = document.createElement('div');\n",
              "      const label = document.createElement('label');\n",
              "      label.textContent = `Downloading \"${filename}\": `;\n",
              "      div.appendChild(label);\n",
              "      const progress = document.createElement('progress');\n",
              "      progress.max = size;\n",
              "      div.appendChild(progress);\n",
              "      document.body.appendChild(div);\n",
              "\n",
              "      const buffers = [];\n",
              "      let downloaded = 0;\n",
              "\n",
              "      const channel = await google.colab.kernel.comms.open(id);\n",
              "      // Send a message to notify the kernel that we're ready.\n",
              "      channel.send({})\n",
              "\n",
              "      for await (const message of channel.messages) {\n",
              "        // Send a message to notify the kernel that we're ready.\n",
              "        channel.send({})\n",
              "        if (message.buffers) {\n",
              "          for (const buffer of message.buffers) {\n",
              "            buffers.push(buffer);\n",
              "            downloaded += buffer.byteLength;\n",
              "            progress.value = downloaded;\n",
              "          }\n",
              "        }\n",
              "      }\n",
              "      const blob = new Blob(buffers, {type: 'application/binary'});\n",
              "      const a = document.createElement('a');\n",
              "      a.href = window.URL.createObjectURL(blob);\n",
              "      a.download = filename;\n",
              "      div.appendChild(a);\n",
              "      a.click();\n",
              "      div.remove();\n",
              "    }\n",
              "  "
            ]
          },
          "metadata": {}
        },
        {
          "output_type": "display_data",
          "data": {
            "text/plain": [
              "<IPython.core.display.Javascript object>"
            ],
            "application/javascript": [
              "download(\"download_fd7c0f55-3002-4cd6-9630-dbdf0212c4f6\", \"checkpoint_epoch_80.pth\", 9796974)"
            ]
          },
          "metadata": {}
        },
        {
          "output_type": "stream",
          "name": "stdout",
          "text": [
            "Epoch 80/150, Train Acc: 48.43%, Test Acc: 45.06%\n",
            "Epoch 80/150, Train Loss: 1.9381, Test Loss: 2.1306\n",
            "Epoch 81/150, Train Acc: 48.54%, Test Acc: 44.84%\n",
            "Epoch 81/150, Train Loss: 1.9404, Test Loss: 2.1394\n",
            "Epoch 82/150, Train Acc: 48.23%, Test Acc: 44.98%\n",
            "Epoch 82/150, Train Loss: 1.9397, Test Loss: 2.1292\n",
            "Epoch 83/150, Train Acc: 48.35%, Test Acc: 44.94%\n",
            "Epoch 83/150, Train Loss: 1.9344, Test Loss: 2.1262\n",
            "Epoch 84/150, Train Acc: 48.72%, Test Acc: 45.44%\n",
            "Epoch 84/150, Train Loss: 1.9279, Test Loss: 2.1228\n",
            "Epoch 85/150, Train Acc: 48.69%, Test Acc: 45.74%\n",
            "Epoch 85/150, Train Loss: 1.9172, Test Loss: 2.1089\n",
            "Epoch 86/150, Train Acc: 49.02%, Test Acc: 45.26%\n",
            "Epoch 86/150, Train Loss: 1.9138, Test Loss: 2.1216\n",
            "Epoch 87/150, Train Acc: 49.13%, Test Acc: 44.87%\n",
            "Epoch 87/150, Train Loss: 1.9104, Test Loss: 2.1198\n",
            "Epoch 88/150, Train Acc: 49.12%, Test Acc: 45.34%\n",
            "Epoch 88/150, Train Loss: 1.9072, Test Loss: 2.1266\n",
            "Epoch 89/150, Train Acc: 48.97%, Test Acc: 45.71%\n",
            "Epoch 89/150, Train Loss: 1.9085, Test Loss: 2.1109\n",
            "Checkpoint saved at epoch 90: ./checkpoint_epoch_90.pth\n"
          ]
        },
        {
          "output_type": "display_data",
          "data": {
            "text/plain": [
              "<IPython.core.display.Javascript object>"
            ],
            "application/javascript": [
              "\n",
              "    async function download(id, filename, size) {\n",
              "      if (!google.colab.kernel.accessAllowed) {\n",
              "        return;\n",
              "      }\n",
              "      const div = document.createElement('div');\n",
              "      const label = document.createElement('label');\n",
              "      label.textContent = `Downloading \"${filename}\": `;\n",
              "      div.appendChild(label);\n",
              "      const progress = document.createElement('progress');\n",
              "      progress.max = size;\n",
              "      div.appendChild(progress);\n",
              "      document.body.appendChild(div);\n",
              "\n",
              "      const buffers = [];\n",
              "      let downloaded = 0;\n",
              "\n",
              "      const channel = await google.colab.kernel.comms.open(id);\n",
              "      // Send a message to notify the kernel that we're ready.\n",
              "      channel.send({})\n",
              "\n",
              "      for await (const message of channel.messages) {\n",
              "        // Send a message to notify the kernel that we're ready.\n",
              "        channel.send({})\n",
              "        if (message.buffers) {\n",
              "          for (const buffer of message.buffers) {\n",
              "            buffers.push(buffer);\n",
              "            downloaded += buffer.byteLength;\n",
              "            progress.value = downloaded;\n",
              "          }\n",
              "        }\n",
              "      }\n",
              "      const blob = new Blob(buffers, {type: 'application/binary'});\n",
              "      const a = document.createElement('a');\n",
              "      a.href = window.URL.createObjectURL(blob);\n",
              "      a.download = filename;\n",
              "      div.appendChild(a);\n",
              "      a.click();\n",
              "      div.remove();\n",
              "    }\n",
              "  "
            ]
          },
          "metadata": {}
        },
        {
          "output_type": "display_data",
          "data": {
            "text/plain": [
              "<IPython.core.display.Javascript object>"
            ],
            "application/javascript": [
              "download(\"download_3fd8309b-e09a-4103-9cfa-5d08428f8398\", \"checkpoint_epoch_90.pth\", 9796974)"
            ]
          },
          "metadata": {}
        },
        {
          "output_type": "stream",
          "name": "stdout",
          "text": [
            "Epoch 90/150, Train Acc: 49.38%, Test Acc: 45.45%\n",
            "Epoch 90/150, Train Loss: 1.8968, Test Loss: 2.1133\n",
            "Epoch 91/150, Train Acc: 49.15%, Test Acc: 45.68%\n",
            "Epoch 91/150, Train Loss: 1.8965, Test Loss: 2.1043\n",
            "Epoch 92/150, Train Acc: 49.90%, Test Acc: 45.69%\n",
            "Epoch 92/150, Train Loss: 1.8820, Test Loss: 2.1049\n",
            "Epoch 93/150, Train Acc: 49.83%, Test Acc: 45.80%\n",
            "Epoch 93/150, Train Loss: 1.8800, Test Loss: 2.1014\n",
            "Epoch 94/150, Train Acc: 49.82%, Test Acc: 45.81%\n",
            "Epoch 94/150, Train Loss: 1.8816, Test Loss: 2.0975\n",
            "Epoch 95/150, Train Acc: 49.75%, Test Acc: 45.46%\n",
            "Epoch 95/150, Train Loss: 1.8740, Test Loss: 2.1018\n",
            "Epoch 96/150, Train Acc: 50.14%, Test Acc: 45.38%\n",
            "Epoch 96/150, Train Loss: 1.8659, Test Loss: 2.1020\n",
            "Epoch 97/150, Train Acc: 50.03%, Test Acc: 45.77%\n",
            "Epoch 97/150, Train Loss: 1.8659, Test Loss: 2.0980\n",
            "Epoch 98/150, Train Acc: 50.26%, Test Acc: 45.99%\n",
            "Epoch 98/150, Train Loss: 1.8668, Test Loss: 2.0965\n",
            "Epoch 99/150, Train Acc: 50.44%, Test Acc: 45.92%\n",
            "Epoch 99/150, Train Loss: 1.8569, Test Loss: 2.0977\n",
            "Checkpoint saved at epoch 100: ./checkpoint_epoch_100.pth\n"
          ]
        },
        {
          "output_type": "display_data",
          "data": {
            "text/plain": [
              "<IPython.core.display.Javascript object>"
            ],
            "application/javascript": [
              "\n",
              "    async function download(id, filename, size) {\n",
              "      if (!google.colab.kernel.accessAllowed) {\n",
              "        return;\n",
              "      }\n",
              "      const div = document.createElement('div');\n",
              "      const label = document.createElement('label');\n",
              "      label.textContent = `Downloading \"${filename}\": `;\n",
              "      div.appendChild(label);\n",
              "      const progress = document.createElement('progress');\n",
              "      progress.max = size;\n",
              "      div.appendChild(progress);\n",
              "      document.body.appendChild(div);\n",
              "\n",
              "      const buffers = [];\n",
              "      let downloaded = 0;\n",
              "\n",
              "      const channel = await google.colab.kernel.comms.open(id);\n",
              "      // Send a message to notify the kernel that we're ready.\n",
              "      channel.send({})\n",
              "\n",
              "      for await (const message of channel.messages) {\n",
              "        // Send a message to notify the kernel that we're ready.\n",
              "        channel.send({})\n",
              "        if (message.buffers) {\n",
              "          for (const buffer of message.buffers) {\n",
              "            buffers.push(buffer);\n",
              "            downloaded += buffer.byteLength;\n",
              "            progress.value = downloaded;\n",
              "          }\n",
              "        }\n",
              "      }\n",
              "      const blob = new Blob(buffers, {type: 'application/binary'});\n",
              "      const a = document.createElement('a');\n",
              "      a.href = window.URL.createObjectURL(blob);\n",
              "      a.download = filename;\n",
              "      div.appendChild(a);\n",
              "      a.click();\n",
              "      div.remove();\n",
              "    }\n",
              "  "
            ]
          },
          "metadata": {}
        },
        {
          "output_type": "display_data",
          "data": {
            "text/plain": [
              "<IPython.core.display.Javascript object>"
            ],
            "application/javascript": [
              "download(\"download_68111ff7-8371-4825-b067-605f6d96dfbf\", \"checkpoint_epoch_100.pth\", 9797018)"
            ]
          },
          "metadata": {}
        },
        {
          "output_type": "stream",
          "name": "stdout",
          "text": [
            "Epoch 100/150, Train Acc: 50.43%, Test Acc: 46.20%\n",
            "Epoch 100/150, Train Loss: 1.8574, Test Loss: 2.0944\n",
            "Epoch 101/150, Train Acc: 50.48%, Test Acc: 45.93%\n",
            "Epoch 101/150, Train Loss: 1.8538, Test Loss: 2.0932\n",
            "Epoch 102/150, Train Acc: 50.17%, Test Acc: 46.00%\n",
            "Epoch 102/150, Train Loss: 1.8548, Test Loss: 2.0942\n",
            "Epoch 103/150, Train Acc: 50.47%, Test Acc: 45.87%\n",
            "Epoch 103/150, Train Loss: 1.8442, Test Loss: 2.0931\n",
            "Epoch 104/150, Train Acc: 50.55%, Test Acc: 46.02%\n",
            "Epoch 104/150, Train Loss: 1.8448, Test Loss: 2.0873\n",
            "Epoch 105/150, Train Acc: 50.77%, Test Acc: 46.14%\n",
            "Epoch 105/150, Train Loss: 1.8404, Test Loss: 2.0844\n",
            "Epoch 106/150, Train Acc: 50.71%, Test Acc: 46.11%\n",
            "Epoch 106/150, Train Loss: 1.8345, Test Loss: 2.0906\n",
            "Epoch 107/150, Train Acc: 51.02%, Test Acc: 46.21%\n",
            "Epoch 107/150, Train Loss: 1.8368, Test Loss: 2.0895\n",
            "Epoch 108/150, Train Acc: 51.11%, Test Acc: 46.24%\n",
            "Epoch 108/150, Train Loss: 1.8296, Test Loss: 2.0812\n",
            "Epoch 109/150, Train Acc: 51.14%, Test Acc: 46.28%\n",
            "Epoch 109/150, Train Loss: 1.8253, Test Loss: 2.0802\n",
            "Checkpoint saved at epoch 110: ./checkpoint_epoch_110.pth\n"
          ]
        },
        {
          "output_type": "display_data",
          "data": {
            "text/plain": [
              "<IPython.core.display.Javascript object>"
            ],
            "application/javascript": [
              "\n",
              "    async function download(id, filename, size) {\n",
              "      if (!google.colab.kernel.accessAllowed) {\n",
              "        return;\n",
              "      }\n",
              "      const div = document.createElement('div');\n",
              "      const label = document.createElement('label');\n",
              "      label.textContent = `Downloading \"${filename}\": `;\n",
              "      div.appendChild(label);\n",
              "      const progress = document.createElement('progress');\n",
              "      progress.max = size;\n",
              "      div.appendChild(progress);\n",
              "      document.body.appendChild(div);\n",
              "\n",
              "      const buffers = [];\n",
              "      let downloaded = 0;\n",
              "\n",
              "      const channel = await google.colab.kernel.comms.open(id);\n",
              "      // Send a message to notify the kernel that we're ready.\n",
              "      channel.send({})\n",
              "\n",
              "      for await (const message of channel.messages) {\n",
              "        // Send a message to notify the kernel that we're ready.\n",
              "        channel.send({})\n",
              "        if (message.buffers) {\n",
              "          for (const buffer of message.buffers) {\n",
              "            buffers.push(buffer);\n",
              "            downloaded += buffer.byteLength;\n",
              "            progress.value = downloaded;\n",
              "          }\n",
              "        }\n",
              "      }\n",
              "      const blob = new Blob(buffers, {type: 'application/binary'});\n",
              "      const a = document.createElement('a');\n",
              "      a.href = window.URL.createObjectURL(blob);\n",
              "      a.download = filename;\n",
              "      div.appendChild(a);\n",
              "      a.click();\n",
              "      div.remove();\n",
              "    }\n",
              "  "
            ]
          },
          "metadata": {}
        },
        {
          "output_type": "display_data",
          "data": {
            "text/plain": [
              "<IPython.core.display.Javascript object>"
            ],
            "application/javascript": [
              "download(\"download_b72a9def-1134-4320-9301-6287fd9222f8\", \"checkpoint_epoch_110.pth\", 9797018)"
            ]
          },
          "metadata": {}
        },
        {
          "output_type": "stream",
          "name": "stdout",
          "text": [
            "Epoch 110/150, Train Acc: 51.10%, Test Acc: 46.26%\n",
            "Epoch 110/150, Train Loss: 1.8218, Test Loss: 2.0834\n",
            "Epoch 111/150, Train Acc: 51.20%, Test Acc: 46.59%\n",
            "Epoch 111/150, Train Loss: 1.8179, Test Loss: 2.0816\n",
            "Epoch 112/150, Train Acc: 51.31%, Test Acc: 46.31%\n",
            "Epoch 112/150, Train Loss: 1.8177, Test Loss: 2.0804\n",
            "Epoch 113/150, Train Acc: 51.41%, Test Acc: 46.35%\n",
            "Epoch 113/150, Train Loss: 1.8150, Test Loss: 2.0790\n",
            "Epoch 114/150, Train Acc: 51.54%, Test Acc: 46.43%\n",
            "Epoch 114/150, Train Loss: 1.8127, Test Loss: 2.0799\n",
            "Epoch 115/150, Train Acc: 51.45%, Test Acc: 46.58%\n",
            "Epoch 115/150, Train Loss: 1.8058, Test Loss: 2.0777\n",
            "Epoch 116/150, Train Acc: 51.64%, Test Acc: 46.47%\n",
            "Epoch 116/150, Train Loss: 1.8073, Test Loss: 2.0764\n",
            "Epoch 117/150, Train Acc: 51.65%, Test Acc: 46.66%\n",
            "Epoch 117/150, Train Loss: 1.8065, Test Loss: 2.0759\n",
            "Epoch 118/150, Train Acc: 51.80%, Test Acc: 46.70%\n",
            "Epoch 118/150, Train Loss: 1.8080, Test Loss: 2.0700\n",
            "Epoch 119/150, Train Acc: 51.49%, Test Acc: 46.26%\n",
            "Epoch 119/150, Train Loss: 1.7979, Test Loss: 2.0760\n",
            "Checkpoint saved at epoch 120: ./checkpoint_epoch_120.pth\n"
          ]
        },
        {
          "output_type": "display_data",
          "data": {
            "text/plain": [
              "<IPython.core.display.Javascript object>"
            ],
            "application/javascript": [
              "\n",
              "    async function download(id, filename, size) {\n",
              "      if (!google.colab.kernel.accessAllowed) {\n",
              "        return;\n",
              "      }\n",
              "      const div = document.createElement('div');\n",
              "      const label = document.createElement('label');\n",
              "      label.textContent = `Downloading \"${filename}\": `;\n",
              "      div.appendChild(label);\n",
              "      const progress = document.createElement('progress');\n",
              "      progress.max = size;\n",
              "      div.appendChild(progress);\n",
              "      document.body.appendChild(div);\n",
              "\n",
              "      const buffers = [];\n",
              "      let downloaded = 0;\n",
              "\n",
              "      const channel = await google.colab.kernel.comms.open(id);\n",
              "      // Send a message to notify the kernel that we're ready.\n",
              "      channel.send({})\n",
              "\n",
              "      for await (const message of channel.messages) {\n",
              "        // Send a message to notify the kernel that we're ready.\n",
              "        channel.send({})\n",
              "        if (message.buffers) {\n",
              "          for (const buffer of message.buffers) {\n",
              "            buffers.push(buffer);\n",
              "            downloaded += buffer.byteLength;\n",
              "            progress.value = downloaded;\n",
              "          }\n",
              "        }\n",
              "      }\n",
              "      const blob = new Blob(buffers, {type: 'application/binary'});\n",
              "      const a = document.createElement('a');\n",
              "      a.href = window.URL.createObjectURL(blob);\n",
              "      a.download = filename;\n",
              "      div.appendChild(a);\n",
              "      a.click();\n",
              "      div.remove();\n",
              "    }\n",
              "  "
            ]
          },
          "metadata": {}
        },
        {
          "output_type": "display_data",
          "data": {
            "text/plain": [
              "<IPython.core.display.Javascript object>"
            ],
            "application/javascript": [
              "download(\"download_47c14d5a-5485-428e-a39c-50b4775f8eaa\", \"checkpoint_epoch_120.pth\", 9797018)"
            ]
          },
          "metadata": {}
        },
        {
          "output_type": "stream",
          "name": "stdout",
          "text": [
            "Epoch 120/150, Train Acc: 51.52%, Test Acc: 46.49%\n",
            "Epoch 120/150, Train Loss: 1.7968, Test Loss: 2.0751\n",
            "Epoch 121/150, Train Acc: 51.82%, Test Acc: 46.63%\n",
            "Epoch 121/150, Train Loss: 1.7987, Test Loss: 2.0722\n",
            "Epoch 122/150, Train Acc: 51.67%, Test Acc: 46.45%\n",
            "Epoch 122/150, Train Loss: 1.7950, Test Loss: 2.0717\n",
            "Epoch 123/150, Train Acc: 51.65%, Test Acc: 46.79%\n",
            "Epoch 123/150, Train Loss: 1.7985, Test Loss: 2.0711\n",
            "Epoch 124/150, Train Acc: 51.92%, Test Acc: 46.68%\n",
            "Epoch 124/150, Train Loss: 1.7921, Test Loss: 2.0712\n",
            "Epoch 125/150, Train Acc: 52.17%, Test Acc: 46.78%\n",
            "Epoch 125/150, Train Loss: 1.7893, Test Loss: 2.0713\n",
            "Epoch 126/150, Train Acc: 52.16%, Test Acc: 46.61%\n",
            "Epoch 126/150, Train Loss: 1.7901, Test Loss: 2.0702\n",
            "Epoch 127/150, Train Acc: 52.22%, Test Acc: 46.77%\n",
            "Epoch 127/150, Train Loss: 1.7841, Test Loss: 2.0705\n",
            "Epoch 128/150, Train Acc: 52.06%, Test Acc: 46.73%\n",
            "Epoch 128/150, Train Loss: 1.7899, Test Loss: 2.0671\n",
            "Epoch 129/150, Train Acc: 51.92%, Test Acc: 46.72%\n",
            "Epoch 129/150, Train Loss: 1.7889, Test Loss: 2.0687\n",
            "Checkpoint saved at epoch 130: ./checkpoint_epoch_130.pth\n"
          ]
        },
        {
          "output_type": "display_data",
          "data": {
            "text/plain": [
              "<IPython.core.display.Javascript object>"
            ],
            "application/javascript": [
              "\n",
              "    async function download(id, filename, size) {\n",
              "      if (!google.colab.kernel.accessAllowed) {\n",
              "        return;\n",
              "      }\n",
              "      const div = document.createElement('div');\n",
              "      const label = document.createElement('label');\n",
              "      label.textContent = `Downloading \"${filename}\": `;\n",
              "      div.appendChild(label);\n",
              "      const progress = document.createElement('progress');\n",
              "      progress.max = size;\n",
              "      div.appendChild(progress);\n",
              "      document.body.appendChild(div);\n",
              "\n",
              "      const buffers = [];\n",
              "      let downloaded = 0;\n",
              "\n",
              "      const channel = await google.colab.kernel.comms.open(id);\n",
              "      // Send a message to notify the kernel that we're ready.\n",
              "      channel.send({})\n",
              "\n",
              "      for await (const message of channel.messages) {\n",
              "        // Send a message to notify the kernel that we're ready.\n",
              "        channel.send({})\n",
              "        if (message.buffers) {\n",
              "          for (const buffer of message.buffers) {\n",
              "            buffers.push(buffer);\n",
              "            downloaded += buffer.byteLength;\n",
              "            progress.value = downloaded;\n",
              "          }\n",
              "        }\n",
              "      }\n",
              "      const blob = new Blob(buffers, {type: 'application/binary'});\n",
              "      const a = document.createElement('a');\n",
              "      a.href = window.URL.createObjectURL(blob);\n",
              "      a.download = filename;\n",
              "      div.appendChild(a);\n",
              "      a.click();\n",
              "      div.remove();\n",
              "    }\n",
              "  "
            ]
          },
          "metadata": {}
        },
        {
          "output_type": "display_data",
          "data": {
            "text/plain": [
              "<IPython.core.display.Javascript object>"
            ],
            "application/javascript": [
              "download(\"download_dc46a546-3797-4a8b-80e0-0db19353669f\", \"checkpoint_epoch_130.pth\", 9797018)"
            ]
          },
          "metadata": {}
        },
        {
          "output_type": "stream",
          "name": "stdout",
          "text": [
            "Epoch 130/150, Train Acc: 52.12%, Test Acc: 46.68%\n",
            "Epoch 130/150, Train Loss: 1.7832, Test Loss: 2.0676\n",
            "Epoch 131/150, Train Acc: 51.77%, Test Acc: 46.64%\n",
            "Epoch 131/150, Train Loss: 1.7933, Test Loss: 2.0661\n",
            "Epoch 132/150, Train Acc: 51.99%, Test Acc: 46.60%\n",
            "Epoch 132/150, Train Loss: 1.7825, Test Loss: 2.0681\n",
            "Epoch 133/150, Train Acc: 52.00%, Test Acc: 46.72%\n",
            "Epoch 133/150, Train Loss: 1.7851, Test Loss: 2.0639\n",
            "Epoch 134/150, Train Acc: 52.02%, Test Acc: 46.59%\n",
            "Epoch 134/150, Train Loss: 1.7926, Test Loss: 2.0663\n",
            "Epoch 135/150, Train Acc: 52.15%, Test Acc: 46.69%\n",
            "Epoch 135/150, Train Loss: 1.7782, Test Loss: 2.0659\n",
            "Epoch 136/150, Train Acc: 52.01%, Test Acc: 46.65%\n",
            "Epoch 136/150, Train Loss: 1.7812, Test Loss: 2.0681\n",
            "Epoch 137/150, Train Acc: 52.10%, Test Acc: 46.72%\n",
            "Epoch 137/150, Train Loss: 1.7831, Test Loss: 2.0658\n",
            "Epoch 138/150, Train Acc: 52.14%, Test Acc: 46.63%\n",
            "Epoch 138/150, Train Loss: 1.7788, Test Loss: 2.0646\n",
            "Epoch 139/150, Train Acc: 52.23%, Test Acc: 46.67%\n",
            "Epoch 139/150, Train Loss: 1.7785, Test Loss: 2.0650\n",
            "Checkpoint saved at epoch 140: ./checkpoint_epoch_140.pth\n"
          ]
        },
        {
          "output_type": "display_data",
          "data": {
            "text/plain": [
              "<IPython.core.display.Javascript object>"
            ],
            "application/javascript": [
              "\n",
              "    async function download(id, filename, size) {\n",
              "      if (!google.colab.kernel.accessAllowed) {\n",
              "        return;\n",
              "      }\n",
              "      const div = document.createElement('div');\n",
              "      const label = document.createElement('label');\n",
              "      label.textContent = `Downloading \"${filename}\": `;\n",
              "      div.appendChild(label);\n",
              "      const progress = document.createElement('progress');\n",
              "      progress.max = size;\n",
              "      div.appendChild(progress);\n",
              "      document.body.appendChild(div);\n",
              "\n",
              "      const buffers = [];\n",
              "      let downloaded = 0;\n",
              "\n",
              "      const channel = await google.colab.kernel.comms.open(id);\n",
              "      // Send a message to notify the kernel that we're ready.\n",
              "      channel.send({})\n",
              "\n",
              "      for await (const message of channel.messages) {\n",
              "        // Send a message to notify the kernel that we're ready.\n",
              "        channel.send({})\n",
              "        if (message.buffers) {\n",
              "          for (const buffer of message.buffers) {\n",
              "            buffers.push(buffer);\n",
              "            downloaded += buffer.byteLength;\n",
              "            progress.value = downloaded;\n",
              "          }\n",
              "        }\n",
              "      }\n",
              "      const blob = new Blob(buffers, {type: 'application/binary'});\n",
              "      const a = document.createElement('a');\n",
              "      a.href = window.URL.createObjectURL(blob);\n",
              "      a.download = filename;\n",
              "      div.appendChild(a);\n",
              "      a.click();\n",
              "      div.remove();\n",
              "    }\n",
              "  "
            ]
          },
          "metadata": {}
        },
        {
          "output_type": "display_data",
          "data": {
            "text/plain": [
              "<IPython.core.display.Javascript object>"
            ],
            "application/javascript": [
              "download(\"download_8abdf8eb-26ac-434c-906f-3ab9adfb3941\", \"checkpoint_epoch_140.pth\", 9797018)"
            ]
          },
          "metadata": {}
        },
        {
          "output_type": "stream",
          "name": "stdout",
          "text": [
            "Epoch 140/150, Train Acc: 52.10%, Test Acc: 46.73%\n",
            "Epoch 140/150, Train Loss: 1.7882, Test Loss: 2.0664\n",
            "Epoch 141/150, Train Acc: 52.53%, Test Acc: 46.71%\n",
            "Epoch 141/150, Train Loss: 1.7736, Test Loss: 2.0656\n",
            "Epoch 142/150, Train Acc: 52.14%, Test Acc: 46.68%\n",
            "Epoch 142/150, Train Loss: 1.7840, Test Loss: 2.0660\n",
            "Epoch 143/150, Train Acc: 52.33%, Test Acc: 46.73%\n",
            "Epoch 143/150, Train Loss: 1.7723, Test Loss: 2.0653\n",
            "Epoch 144/150, Train Acc: 52.40%, Test Acc: 46.76%\n",
            "Epoch 144/150, Train Loss: 1.7781, Test Loss: 2.0650\n",
            "Epoch 145/150, Train Acc: 52.17%, Test Acc: 46.70%\n",
            "Epoch 145/150, Train Loss: 1.7802, Test Loss: 2.0654\n",
            "Epoch 146/150, Train Acc: 52.09%, Test Acc: 46.72%\n",
            "Epoch 146/150, Train Loss: 1.7747, Test Loss: 2.0652\n",
            "Epoch 147/150, Train Acc: 52.27%, Test Acc: 46.68%\n",
            "Epoch 147/150, Train Loss: 1.7711, Test Loss: 2.0655\n",
            "Epoch 148/150, Train Acc: 52.10%, Test Acc: 46.70%\n",
            "Epoch 148/150, Train Loss: 1.7820, Test Loss: 2.0653\n",
            "Epoch 149/150, Train Acc: 52.25%, Test Acc: 46.69%\n",
            "Epoch 149/150, Train Loss: 1.7761, Test Loss: 2.0653\n",
            "Checkpoint saved at epoch 150: ./checkpoint_epoch_150.pth\n"
          ]
        },
        {
          "output_type": "display_data",
          "data": {
            "text/plain": [
              "<IPython.core.display.Javascript object>"
            ],
            "application/javascript": [
              "\n",
              "    async function download(id, filename, size) {\n",
              "      if (!google.colab.kernel.accessAllowed) {\n",
              "        return;\n",
              "      }\n",
              "      const div = document.createElement('div');\n",
              "      const label = document.createElement('label');\n",
              "      label.textContent = `Downloading \"${filename}\": `;\n",
              "      div.appendChild(label);\n",
              "      const progress = document.createElement('progress');\n",
              "      progress.max = size;\n",
              "      div.appendChild(progress);\n",
              "      document.body.appendChild(div);\n",
              "\n",
              "      const buffers = [];\n",
              "      let downloaded = 0;\n",
              "\n",
              "      const channel = await google.colab.kernel.comms.open(id);\n",
              "      // Send a message to notify the kernel that we're ready.\n",
              "      channel.send({})\n",
              "\n",
              "      for await (const message of channel.messages) {\n",
              "        // Send a message to notify the kernel that we're ready.\n",
              "        channel.send({})\n",
              "        if (message.buffers) {\n",
              "          for (const buffer of message.buffers) {\n",
              "            buffers.push(buffer);\n",
              "            downloaded += buffer.byteLength;\n",
              "            progress.value = downloaded;\n",
              "          }\n",
              "        }\n",
              "      }\n",
              "      const blob = new Blob(buffers, {type: 'application/binary'});\n",
              "      const a = document.createElement('a');\n",
              "      a.href = window.URL.createObjectURL(blob);\n",
              "      a.download = filename;\n",
              "      div.appendChild(a);\n",
              "      a.click();\n",
              "      div.remove();\n",
              "    }\n",
              "  "
            ]
          },
          "metadata": {}
        },
        {
          "output_type": "display_data",
          "data": {
            "text/plain": [
              "<IPython.core.display.Javascript object>"
            ],
            "application/javascript": [
              "download(\"download_386e22c1-8de1-4bc8-a537-cbe045b535c1\", \"checkpoint_epoch_150.pth\", 9797018)"
            ]
          },
          "metadata": {}
        },
        {
          "output_type": "stream",
          "name": "stdout",
          "text": [
            "Epoch 150/150, Train Acc: 52.43%, Test Acc: 46.69%\n",
            "Epoch 150/150, Train Loss: 1.7760, Test Loss: 2.0653\n"
          ]
        },
        {
          "output_type": "display_data",
          "data": {
            "text/plain": [
              "<Figure size 600x400 with 1 Axes>"
            ],
            "image/png": "[encoded data removed]"
          },
          "metadata": {}
        },
        {
          "output_type": "display_data",
          "data": {
            "text/plain": [
              "<Figure size 600x400 with 1 Axes>"
            ],
            "image/png": "[encoded data removed]"
          },
          "metadata": {}
        },
        {
          "output_type": "display_data",
          "data": {
            "text/plain": [
              "<Figure size 600x400 with 1 Axes>"
            ],
            "image/png": "[encoded data removed]"
          },
          "metadata": {}
        },
        {
          "output_type": "display_data",
          "data": {
            "text/plain": [
              "<Figure size 600x400 with 1 Axes>"
            ],
            "image/png": "[encoded data removed]"
          },
          "metadata": {}
        },
        {
          "output_type": "display_data",
          "data": {
            "text/plain": [
              "<Figure size 640x480 with 0 Axes>"
            ]
          },
          "metadata": {}
        }
      ],
      "source": [
        "%run large_batch_training.py --optimizer AdamW --batch-size 2048 --weight-decay 1e-1"
      ]
    },
    {
      "cell_type": "code",
      "execution_count": null,
      "metadata": {
        "colab": {
          "base_uri": "https://localhost:8080/"
        },
        "id": "_Y8TL9oBZL18",
        "outputId": "54fc2f89-7e7d-461b-fce6-1f0da7310a06"
      },
      "outputs": [
        {
          "name": "stdout",
          "output_type": "stream",
          "text": [
            "Files already downloaded and verified\n",
            "Files already downloaded and verified\n",
            "--- Train with LARS ---\n"
          ]
        }
      ],
      "source": [
        "%run large_batch_training.py --optimizer LARS --batch-size 128 --weight-decay 4e-4"
      ]
    },
    {
      "cell_type": "code",
      "execution_count": null,
      "metadata": {
        "colab": {
          "base_uri": "https://localhost:8080/",
          "height": 436
        },
        "id": "K_XY2BkhZOkY",
        "outputId": "d4c6a687-f11c-439f-bbc4-b0d05ad58aca"
      },
      "outputs": [
        {
          "output_type": "stream",
          "name": "stdout",
          "text": [
            "Downloading https://www.cs.toronto.edu/~kriz/cifar-100-python.tar.gz to ./data/cifar-100-python.tar.gz\n"
          ]
        },
        {
          "output_type": "stream",
          "name": "stderr",
          "text": [
            "100%|██████████| 169M/169M [00:04<00:00, 40.2MB/s]\n"
          ]
        },
        {
          "output_type": "stream",
          "name": "stdout",
          "text": [
            "Extracting ./data/cifar-100-python.tar.gz to ./data\n",
            "Files already downloaded and verified\n",
            "Files already downloaded and verified\n",
            "--- Train with LAMB ---\n"
          ]
        },
        {
          "output_type": "error",
          "ename": "NameError",
          "evalue": "name 'val_accuracy' is not defined",
          "traceback": [
            "\u001b[0;31m---------------------------------------------------------------------------\u001b[0m",
            "\u001b[0;31mNameError\u001b[0m                                 Traceback (most recent call last)",
            "\u001b[0;32m/content/large_batch_training.py\u001b[0m in \u001b[0;36m<module>\u001b[0;34m\u001b[0m\n\u001b[1;32m    352\u001b[0m \u001b[0;31m# Train the model\u001b[0m\u001b[0;34m\u001b[0m\u001b[0;34m\u001b[0m\u001b[0m\n\u001b[1;32m    353\u001b[0m \u001b[0mprint\u001b[0m\u001b[0;34m(\u001b[0m\u001b[0;34mf\"--- Train with {args.optimizer} ---\"\u001b[0m\u001b[0;34m)\u001b[0m\u001b[0;34m\u001b[0m\u001b[0;34m\u001b[0m\u001b[0m\n\u001b[0;32m--> 354\u001b[0;31m \u001b[0mtrain_loss\u001b[0m\u001b[0;34m,\u001b[0m \u001b[0mtest_loss\u001b[0m\u001b[0;34m,\u001b[0m \u001b[0mtrain_acc\u001b[0m\u001b[0;34m,\u001b[0m \u001b[0mtest_acc\u001b[0m \u001b[0;34m=\u001b[0m \u001b[0mtrain_model\u001b[0m\u001b[0;34m(\u001b[0m\u001b[0moptimizer\u001b[0m\u001b[0;34m,\u001b[0m \u001b[0mscheduler\u001b[0m\u001b[0;34m,\u001b[0m \u001b[0mnet\u001b[0m\u001b[0;34m,\u001b[0m \u001b[0mcriterion\u001b[0m\u001b[0;34m,\u001b[0m \u001b[0mtrainloader\u001b[0m\u001b[0;34m,\u001b[0m \u001b[0mtestloader\u001b[0m\u001b[0;34m,\u001b[0m \u001b[0mdevice\u001b[0m\u001b[0;34m,\u001b[0m \u001b[0margs\u001b[0m\u001b[0;34m.\u001b[0m\u001b[0mepochs\u001b[0m\u001b[0;34m)\u001b[0m\u001b[0;34m\u001b[0m\u001b[0;34m\u001b[0m\u001b[0m\n\u001b[0m\u001b[1;32m    355\u001b[0m \u001b[0;34m\u001b[0m\u001b[0m\n\u001b[1;32m    356\u001b[0m \u001b[0;31m# Save model\u001b[0m\u001b[0;34m\u001b[0m\u001b[0;34m\u001b[0m\u001b[0m\n",
            "\u001b[0;32m/content/large_batch_training.py\u001b[0m in \u001b[0;36mtrain_model\u001b[0;34m(optimizer, scheduler, model, criterion, trainloader, testloader, device, epochs, save_checkpoint_interval)\u001b[0m\n\u001b[1;32m    345\u001b[0m             \u001b[0mfiles\u001b[0m\u001b[0;34m.\u001b[0m\u001b[0mdownload\u001b[0m\u001b[0;34m(\u001b[0m\u001b[0mcheckpoint_filename\u001b[0m\u001b[0;34m)\u001b[0m\u001b[0;34m\u001b[0m\u001b[0;34m\u001b[0m\u001b[0m\n\u001b[1;32m    346\u001b[0m \u001b[0;34m\u001b[0m\u001b[0m\n\u001b[0;32m--> 347\u001b[0;31m         \u001b[0mprint\u001b[0m\u001b[0;34m(\u001b[0m\u001b[0;34mf'Epoch {epoch+1}/{epochs}, Train Acc: {train_accuracy:.2f}%, Val Acc: {val_accuracy:.2f}%, Test Acc: {test_accuracy:.2f}%'\u001b[0m\u001b[0;34m)\u001b[0m\u001b[0;34m\u001b[0m\u001b[0;34m\u001b[0m\u001b[0m\n\u001b[0m\u001b[1;32m    348\u001b[0m         \u001b[0mprint\u001b[0m\u001b[0;34m(\u001b[0m\u001b[0;34mf'Epoch {epoch+1}/{epochs}, Train Loss: {train_loss:.4f}, Val Loss: {val_loss:.4f}, Test Loss: {test_loss:.4f}'\u001b[0m\u001b[0;34m)\u001b[0m\u001b[0;34m\u001b[0m\u001b[0;34m\u001b[0m\u001b[0m\n\u001b[1;32m    349\u001b[0m \u001b[0;34m\u001b[0m\u001b[0m\n",
            "\u001b[0;31mNameError\u001b[0m: name 'val_accuracy' is not defined"
          ]
        }
      ],
      "source": [
        "%run large_batch_training.py --optimizer LAMB --batch-size 128 --weight-decay 1e-1"
      ]
    }
  ],
  "metadata": {
    "accelerator": "GPU",
    "colab": {
      "gpuType": "T4",
      "provenance": [],
      "machine_shape": "hm"
    },
    "kernelspec": {
      "display_name": "Python 3",
      "name": "python3"
    },
    "language_info": {
      "name": "python"
    }
  },
  "nbformat": 4,
  "nbformat_minor": 0
}