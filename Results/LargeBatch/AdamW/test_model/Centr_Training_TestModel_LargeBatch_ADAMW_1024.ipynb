{
  "cells": [
    {
      "cell_type": "code",
      "execution_count": 7,
      "metadata": {
        "colab": {
          "base_uri": "https://localhost:8080/"
        },
        "id": "LtOx0ESVnO0u",
        "outputId": "3baa0138-3e2b-4ddb-e870-3d17a273ae9a"
      },
      "outputs": [
        {
          "output_type": "stream",
          "name": "stdout",
          "text": [
            "Overwriting large_batch_training.py\n"
          ]
        }
      ],
      "source": [
        "%%writefile large_batch_training.py\n",
        "\n",
        "import os\n",
        "import numpy as np\n",
        "import torch\n",
        "import torch.nn as nn\n",
        "import torch.optim as optim\n",
        "import torchvision\n",
        "import torchvision.transforms as transforms\n",
        "import matplotlib.pyplot as plt\n",
        "import argparse\n",
        "from torch.utils.data import random_split\n",
        "from google.colab import files\n",
        "\n",
        "def compute_mean_std(dataset):\n",
        "    \"\"\"Compute the mean and std of CIFAR-100 dataset.\n",
        "\n",
        "    Args:\n",
        "        dataset: A dataset derived from `torch.utils.data.Dataset`,\n",
        "                 such as `cifar100_training_dataset` or `cifar100_test_dataset`.\n",
        "\n",
        "    Returns:\n",
        "        A tuple containing (mean, std) for the entire dataset.\n",
        "    \"\"\"\n",
        "\n",
        "    # Extract images and labels\n",
        "    data_r = np.stack([np.array(dataset[i][0])[:, :, 0] for i in range(len(dataset))])\n",
        "    data_g = np.stack([np.array(dataset[i][0])[:, :, 1] for i in range(len(dataset))])\n",
        "    data_b = np.stack([np.array(dataset[i][0])[:, :, 2] for i in range(len(dataset))])\n",
        "\n",
        "    # Compute mean and std\n",
        "    mean = np.mean(data_r), np.mean(data_g), np.mean(data_b)\n",
        "    std = np.std(data_r), np.std(data_g), np.std(data_b)\n",
        "\n",
        "    return mean, std\n",
        "\n",
        "# Define LeNet-5 architecture\n",
        "class LeNet5(nn.Module):\n",
        "    def __init__(self):\n",
        "        super(LeNet5, self).__init__()\n",
        "        self.conv1 = nn.Conv2d(3, 64, 5)\n",
        "        self.relu1 = nn.ReLU()\n",
        "        self.pool1 = nn.MaxPool2d(2, 2)\n",
        "        self.conv2 = nn.Conv2d(64, 64, 5)\n",
        "        self.relu2 = nn.ReLU()\n",
        "        self.pool2 = nn.MaxPool2d(2, 2)\n",
        "        self.fc1 = nn.Linear(64 * 5 * 5, 384)\n",
        "        self.relu3 = nn.ReLU()\n",
        "        self.fc2 = nn.Linear(384, 192)\n",
        "        self.relu4 = nn.ReLU()\n",
        "        self.fc3 = nn.Linear(192, 100)\n",
        "\n",
        "    def forward(self, x):\n",
        "        x = self.pool1(self.relu1(self.conv1(x)))\n",
        "        x = self.pool2(self.relu2(self.conv2(x)))\n",
        "        x = x.view(-1, 64 * 5 * 5)\n",
        "        x = self.relu3(self.fc1(x))\n",
        "        x = self.relu4(self.fc2(x))\n",
        "        x = self.fc3(x)\n",
        "        return x\n",
        "\n",
        "# Device setup\n",
        "device = torch.device(\"cuda:0\" if torch.cuda.is_available() else \"cpu\")\n",
        "\n",
        "# Initialize model\n",
        "net = LeNet5().to(device)\n",
        "\n",
        "# Optimizer Subclasses\n",
        "class LARS(optim.Optimizer):\n",
        "    def __init__(self, params, lr, momentum=0.9, weight_decay=0, trust_coefficient=0.001):\n",
        "        # Initialize the optimizer with the learning rate, momentum, weight decay, and trust coefficient\n",
        "        defaults = dict(lr=lr, momentum=momentum, weight_decay=weight_decay, trust_coefficient=trust_coefficient)\n",
        "        super(LARS, self).__init__(params, defaults)\n",
        "\n",
        "    def step(self, closure=None):\n",
        "        loss = None\n",
        "        if closure is not None:\n",
        "            # If a closure is provided, evaluate it (commonly used for re-evaluating loss)\n",
        "            loss = closure()\n",
        "        for group in self.param_groups:\n",
        "            for p in group['params']:\n",
        "                if p.grad is None:\n",
        "                   # Skip parameters that have no gradient\n",
        "                    continue\n",
        "                grad = p.grad.data # Get the gradient of the parameter\n",
        "                # Retrieve or initialize the optimizer's internal state\n",
        "                state = self.state[p]\n",
        "                if len(state) == 0:\n",
        "                    state['momentum_buffer'] = torch.clone(grad).detach()\n",
        "                # Apply weight decay directly to the gradient\n",
        "                if group['weight_decay'] != 0:\n",
        "                    grad.add_(p.data, alpha=group['weight_decay'])\n",
        "                # Compute the norms of the parameter and its gradient\n",
        "                param_norm = torch.norm(p.data)\n",
        "                grad_norm = torch.norm(grad)\n",
        "                # Compute local learning rate based on the trust coefficient and norms\n",
        "                if param_norm > 0 and grad_norm > 0:\n",
        "                    local_lr = group['trust_coefficient'] * param_norm / (grad_norm + 1e-8)\n",
        "                    grad = grad.mul(local_lr) # Scale the gradient with the local learning rate\n",
        "                # Update the momentum buffer\n",
        "                momentum_buffer = state['momentum_buffer']\n",
        "                momentum_buffer.mul_(group['momentum']).add_(grad) #Momentum update\n",
        "                state['momentum_buffer'] = momentum_buffer\n",
        "                # Update the parameter\n",
        "                p.data.add_(momentum_buffer, alpha=-group['lr']) # Gradient descent step with learning rate\n",
        "        return loss\n",
        "\n",
        "class LAMB(optim.Optimizer):\n",
        "    def __init__(self, params, lr, weight_decay=0, betas=(0.9, 0.999), eps=1e-8):\n",
        "        # Initialize the optimizer with learning rate, weight decay, betas for moment updates, and epsilon for stability\n",
        "        defaults = dict(lr=lr, weight_decay=weight_decay, betas=betas, eps=eps)\n",
        "        super(LAMB, self).__init__(params, defaults)\n",
        "\n",
        "    def step(self, closure=None):\n",
        "        loss = None\n",
        "        if closure is not None:\n",
        "            # If a closure is provided, evaluate it\n",
        "            loss = closure()\n",
        "        for group in self.param_groups:\n",
        "            for p in group['params']:\n",
        "                if p.grad is None:\n",
        "                    # Skip parameters that have no gradient\n",
        "                    continue\n",
        "                grad = p.grad.data # Get the gradient of the parameter\n",
        "                # Retrieve or initialize the optimizer's internal state\n",
        "                state = self.state[p]\n",
        "                # Initialize state\n",
        "                if len(state) == 0:\n",
        "                    # Initialize the state (step counter, first moment, second moment)\n",
        "                    state['step'] = 0\n",
        "                    state['exp_avg'] = torch.zeros_like(p.data) # First moment (mean of gradients)\n",
        "                    state['exp_avg_sq'] = torch.zeros_like(p.data) # Second moment (mean of squared gradients)\n",
        "                exp_avg = state['exp_avg']\n",
        "                exp_avg_sq = state['exp_avg_sq']\n",
        "                beta1, beta2 = group['betas']  # Coefficients for moment updates\n",
        "                state['step'] += 1 # Increment step count\n",
        "                step = state['step']\n",
        "                # Decay the first and second moment running average coefficients\n",
        "                # Update first and second moments\n",
        "                exp_avg.mul_(beta1).add_(grad, alpha=1 - beta1) # Exponential moving average of gradients\n",
        "                exp_avg_sq.mul_(beta2).addcmul_(grad, grad, value=1 - beta2) # Exponential moving average of squared gradients\n",
        "                # Correct bias in the first and second moments\n",
        "                bias_correction1 = 1 - beta1 ** step\n",
        "                bias_correction2 = 1 - beta2 ** step\n",
        "                corrected_exp_avg = exp_avg / bias_correction1\n",
        "                corrected_exp_avg_sq = exp_avg_sq / bias_correction2\n",
        "                # Compute the denominator for scaling the update\n",
        "                denom = corrected_exp_avg_sq.sqrt().add_(group['eps']) # Stability epsilon\n",
        "                # Compute the step update\n",
        "                update = corrected_exp_avg / denom\n",
        "                # Apply weight decay directly to the parameters\n",
        "                if group['weight_decay'] != 0:\n",
        "                    update.add_(p.data, alpha=group['weight_decay'])\n",
        "                # Compute the trust ratio (norm of parameters vs norm of update)\n",
        "                param_norm = torch.norm(p.data)\n",
        "                update_norm = torch.norm(update)\n",
        "                trust_ratio = 1.0  # Default trust ratio\n",
        "                if param_norm > 0 and update_norm > 0:\n",
        "                    trust_ratio = param_norm / update_norm\n",
        "                # Update the parameters\n",
        "                p.data.add_(update, alpha=-group['lr'] * trust_ratio)\n",
        "        return loss\n",
        "\n",
        "\n",
        "# Command-line arguments\n",
        "parser = argparse.ArgumentParser(description='Train with Large-Batch Optimizers')\n",
        "parser.add_argument('--optimizer', type=str, default='SGDM', choices=['SGDM', 'AdamW', 'LARS', 'LAMB'],\n",
        "                    help='Choose optimizer')\n",
        "parser.add_argument('--batch-size', type=int, default=128, help='Batch size')\n",
        "parser.add_argument('--momentum', type=float, default=0.9, help='Momentum for SGDM and LARS')\n",
        "parser.add_argument('--weight-decay', type=float, default=1e-5, help='Weight decay')\n",
        "parser.add_argument('--b1', type=float, default=0.9, help='Beta1 for AdamW')\n",
        "parser.add_argument('--b2', type=float, default=0.999, help='Beta2 for AdamW')\n",
        "parser.add_argument('--trust-coefficient', type=float, default=0.001, help='Trust coefficient for LARS')\n",
        "parser.add_argument('--epochs', type=int, default=150, help='Number of epochs')\n",
        "parser.add_argument('--warmup-epochs', type=int, default=5, help='Number of epochs')\n",
        "args = parser.parse_args()\n",
        "\n",
        "\n",
        "torch.manual_seed(42) # Set the seed for reproducibility\n",
        "torch.cuda.manual_seed_all(42) # Set the seed for reproducibility on GPU\n",
        "\n",
        "# use the same mean and std to add consistency to all datasets\n",
        "data = torchvision.datasets.CIFAR100(root='./data', train=True, download=True, transform=transforms.ToTensor())\n",
        "mean, std = compute_mean_std(data)\n",
        "\n",
        "# Load and split CIFAR-100 dataset\n",
        "train_transform = transforms.Compose([\n",
        "  transforms.RandomCrop(32, padding=4),\n",
        "  transforms.RandomHorizontalFlip(),\n",
        "  transforms.ToTensor(),\n",
        "  transforms.Normalize(mean, std)\n",
        "])\n",
        "\n",
        "test_transform = transforms.Compose([\n",
        "    transforms.ToTensor(),  # Convert to PyTorch tensor\n",
        "    transforms.Normalize(mean, std)\n",
        "])\n",
        "\n",
        "trainset = torchvision.datasets.CIFAR100(root='./data', train=True, download=True, transform=train_transform)\n",
        "trainloader = torch.utils.data.DataLoader(trainset, batch_size=args.batch_size, shuffle=True, num_workers=2)\n",
        "\n",
        "testset = torchvision.datasets.CIFAR100(root='./data', train=False, download=True, transform=test_transform)\n",
        "testloader = torch.utils.data.DataLoader(testset, batch_size=args.batch_size, shuffle=False, num_workers=2)\n",
        "\n",
        "\n",
        "# Fixed parameter from paper [18] to calculate the square root LR scaling value\n",
        "# base_lr = 5 / (2**3 * 10**3)\n",
        "# reference_batch_size = 512\n",
        "#scaled_lr = base_lr * (args.batch_size / reference_batch_size) ** 0.5\n",
        "\n",
        "# Mapping optimizers\n",
        "if args.optimizer == 'SGDM':\n",
        "    base_lr = 1e-2\n",
        "    reference_batch_size = 64\n",
        "    scaled_lr = base_lr * (args.batch_size / reference_batch_size) ** 0.5\n",
        "    optimizer = optim.SGD(net.parameters(), lr=scaled_lr, momentum=args.momentum, weight_decay=args.weight_decay)\n",
        "elif args.optimizer == 'AdamW':\n",
        "    base_lr = 1e-4\n",
        "    reference_batch_size = 64\n",
        "    scaled_lr = base_lr * (args.batch_size / reference_batch_size) ** 0.5\n",
        "    optimizer = optim.AdamW(net.parameters(), lr=scaled_lr, betas=(args.b1, args.b2), weight_decay=args.weight_decay)\n",
        "elif args.optimizer == 'LARS':\n",
        "    base_lr = 1e-2\n",
        "    reference_batch_size = 64\n",
        "    scaled_lr = base_lr * (args.batch_size / reference_batch_size) ** 0.5\n",
        "    optimizer = LARS(net.parameters(), lr=scaled_lr, momentum=args.momentum, weight_decay=args.weight_decay, trust_coefficient=args.trust_coefficient)\n",
        "elif args.optimizer == 'LAMB':\n",
        "    base_lr = 5e-4\n",
        "    reference_batch_size = 64\n",
        "    scaled_lr = base_lr * (args.batch_size / reference_batch_size) ** 0.5\n",
        "    optimizer = LAMB(net.parameters(), lr=scaled_lr, weight_decay=args.weight_decay)\n",
        "\n",
        "criterion = nn.CrossEntropyLoss()\n",
        "\n",
        "# Scheduler initialization\n",
        "scheduler = optim.lr_scheduler.CosineAnnealingLR(optimizer=optimizer, T_max=args.epochs - args.warmup_epochs)\n",
        "\n",
        "# Training Function\n",
        "def train_model(optimizer, scheduler, model, criterion, trainloader , testloader, device, epochs, save_checkpoint_interval=10):\n",
        "    train_losses, test_losses = [], []\n",
        "    train_accuracies, test_accuracies = [], []\n",
        "    for epoch in range(epochs):\n",
        "        model.train()\n",
        "        running_loss, correct_train, total_train = 0.0, 0, 0\n",
        "        for inputs, labels in trainloader:\n",
        "            inputs, labels = inputs.to(device), labels.to(device)\n",
        "            optimizer.zero_grad()\n",
        "            outputs = model(inputs)\n",
        "            loss = criterion(outputs, labels)\n",
        "            loss.backward()\n",
        "            optimizer.step()\n",
        "            running_loss += loss.item()\n",
        "            _, predicted = outputs.max(1)\n",
        "            total_train += labels.size(0)\n",
        "            correct_train += predicted.eq(labels).sum().item()\n",
        "        train_loss = running_loss / len(trainloader)\n",
        "        train_accuracy = 100. * correct_train / total_train\n",
        "        train_losses.append(train_loss)\n",
        "        train_accuracies.append(train_accuracy)\n",
        "\n",
        "        '''\n",
        "        # Early Stopping\n",
        "        if val_loss < best_val_loss:\n",
        "          best_val_loss = val_loss\n",
        "          epochs_no_improve = 0\n",
        "        else:\n",
        "          epochs_no_improve += 1\n",
        "\n",
        "        if epochs_no_improve == patience:\n",
        "          print(\"Early stopping!\")\n",
        "          break\n",
        "        '''\n",
        "\n",
        "        # Test\n",
        "        correct_test, total_test, test_loss = 0, 0, 0.0\n",
        "        with torch.no_grad():\n",
        "            for inputs, labels in testloader:\n",
        "                inputs, labels = inputs.to(device), labels.to(device)\n",
        "                outputs = model(inputs)\n",
        "                loss = criterion(outputs, labels)\n",
        "                test_loss += loss.item()\n",
        "                _, predicted = outputs.max(1)\n",
        "                total_test += labels.size(0)\n",
        "                correct_test += predicted.eq(labels).sum().item()\n",
        "        test_loss /= len(testloader)\n",
        "        test_losses.append(test_loss)\n",
        "        test_accuracy = 100. * correct_test / total_test\n",
        "        test_accuracies.append(test_accuracy)\n",
        "\n",
        "        if epoch >= args.warmup_epochs:\n",
        "            scheduler.step()  # Trigger cosine decay\n",
        "        else:\n",
        "            warmup_factor = (epoch + 1) / args.warmup_epochs\n",
        "            lr = warmup_factor * scaled_lr\n",
        "            for param_group in optimizer.param_groups:\n",
        "                param_group['lr'] = lr\n",
        "\n",
        "        # Checkpointing\n",
        "        if (epoch + 1) % save_checkpoint_interval == 0:\n",
        "            checkpoint_filename = f'checkpoint_epoch_{epoch + 1}.pth'\n",
        "            checkpoint = {\n",
        "                'epoch': epoch + 1,\n",
        "                'model_state_dict': model.state_dict(),\n",
        "                'optimizer_state_dict': optimizer.state_dict(),\n",
        "                'scheduler_state_dict': scheduler.state_dict(),\n",
        "                'loss': loss.item(),\n",
        "            }\n",
        "            checkpoint_path = os.path.join('./', checkpoint_filename)\n",
        "            torch.save(checkpoint, checkpoint_path)\n",
        "            print(f'Checkpoint saved at epoch {epoch + 1}: {checkpoint_path}')\n",
        "\n",
        "            # Download the checkpoint\n",
        "            files.download(checkpoint_filename)\n",
        "\n",
        "        print(f'Epoch {epoch+1}/{epochs}, Train Acc: {train_accuracy:.2f}%, Test Acc: {test_accuracy:.2f}%')\n",
        "        print(f'Epoch {epoch+1}/{epochs}, Train Loss: {train_loss:.4f}, Test Loss: {test_loss:.4f}')\n",
        "\n",
        "    return train_losses, test_losses, train_accuracies, test_accuracies\n",
        "\n",
        "# Train the model\n",
        "print(f\"--- Train with {args.optimizer} ---\")\n",
        "train_loss, test_loss, train_acc, test_acc = train_model(optimizer, scheduler, net, criterion, trainloader, testloader, device, args.epochs)\n",
        "\n",
        "# Save model\n",
        "torch.save(net.state_dict(), f'net_{args.optimizer}.pth')\n",
        "\n",
        "# Plot results\n",
        "# Plot Training Loss\n",
        "plt.figure(figsize=(6, 4))\n",
        "plt.plot(train_loss, label='Train Loss')\n",
        "plt.title('Training Loss')\n",
        "plt.xlabel('Epoch')\n",
        "plt.ylabel('Loss')\n",
        "plt.legend()\n",
        "plt.tight_layout()\n",
        "plt.savefig('train_loss.png')\n",
        "plt.show()\n",
        "\n",
        "# Plot Training Accuracy\n",
        "plt.figure(figsize=(6, 4))\n",
        "plt.plot(train_acc, label='Train Accuracy')\n",
        "plt.title('Training Accuracy')\n",
        "plt.xlabel('Epoch')\n",
        "plt.ylabel('Accuracy (%)')\n",
        "plt.legend()\n",
        "plt.tight_layout()\n",
        "plt.savefig('train_accuracy.png')\n",
        "plt.show()\n",
        "\n",
        "# Plot Test Loss\n",
        "plt.figure(figsize=(6, 4))\n",
        "plt.plot(test_loss, label='Test Loss')\n",
        "plt.title('Test Loss')\n",
        "plt.xlabel('Epoch')\n",
        "plt.ylabel('Loss')\n",
        "plt.legend()\n",
        "plt.tight_layout()\n",
        "plt.savefig('test_loss.png')\n",
        "plt.show()\n",
        "\n",
        "# Plot Test Accuracy\n",
        "plt.figure(figsize=(6, 4))\n",
        "plt.plot(test_acc, label='Test Accuracy')\n",
        "plt.title('Test Accuracy')\n",
        "plt.xlabel('Epoch')\n",
        "plt.ylabel('Accuracy (%)')\n",
        "plt.legend()\n",
        "plt.tight_layout()\n",
        "plt.savefig('test_accuracy.png')\n",
        "plt.show()\n"
      ]
    },
    {
      "cell_type": "code",
      "execution_count": null,
      "metadata": {
        "colab": {
          "base_uri": "https://localhost:8080/"
        },
        "id": "_hEcpkQqYJmP",
        "outputId": "c8eedbc5-9061-45df-d650-9e8a0ee8ae51"
      },
      "outputs": [
        {
          "output_type": "stream",
          "name": "stdout",
          "text": [
            "Downloading https://www.cs.toronto.edu/~kriz/cifar-100-python.tar.gz to ./data/cifar-100-python.tar.gz\n"
          ]
        },
        {
          "output_type": "stream",
          "name": "stderr",
          "text": [
            "100%|██████████| 169M/169M [00:04<00:00, 38.6MB/s]\n"
          ]
        },
        {
          "output_type": "stream",
          "name": "stdout",
          "text": [
            "Extracting ./data/cifar-100-python.tar.gz to ./data\n",
            "Files already downloaded and verified\n",
            "Files already downloaded and verified\n",
            "--- Train with SGDM ---\n",
            "Epoch 1/150, Train Acc: 5.64%, Test Acc: 11.74%\n",
            "Epoch 1/150, Train Loss: 4.2260, Test Loss: 3.8022\n"
          ]
        }
      ],
      "source": [
        "%run large_batch_training.py --optimizer SGDM --batch-size 128 --weight-decay 4e-4"
      ]
    },
    {
      "cell_type": "markdown",
      "metadata": {
        "id": "_2t__56QmDKL"
      },
      "source": []
    },
    {
      "cell_type": "code",
      "execution_count": 8,
      "metadata": {
        "colab": {
          "base_uri": "https://localhost:8080/",
          "height": 1000
        },
        "id": "FqIzBQKfZFgB",
        "outputId": "77d3a7bb-a4d6-41e4-9439-69e9b6a3211f"
      },
      "outputs": [
        {
          "output_type": "stream",
          "name": "stdout",
          "text": [
            "Files already downloaded and verified\n",
            "Files already downloaded and verified\n",
            "Files already downloaded and verified\n",
            "--- Train with AdamW ---\n",
            "Epoch 1/150, Train Acc: 5.37%, Test Acc: 9.05%\n",
            "Epoch 1/150, Train Loss: 4.2824, Test Loss: 4.0026\n",
            "Epoch 2/150, Train Acc: 9.90%, Test Acc: 11.45%\n",
            "Epoch 2/150, Train Loss: 3.9685, Test Loss: 3.8904\n",
            "Epoch 3/150, Train Acc: 11.35%, Test Acc: 13.48%\n",
            "Epoch 3/150, Train Loss: 3.8701, Test Loss: 3.7756\n",
            "Epoch 4/150, Train Acc: 13.03%, Test Acc: 15.74%\n",
            "Epoch 4/150, Train Loss: 3.7630, Test Loss: 3.6378\n",
            "Epoch 5/150, Train Acc: 14.71%, Test Acc: 16.85%\n",
            "Epoch 5/150, Train Loss: 3.6389, Test Loss: 3.5417\n",
            "Epoch 6/150, Train Acc: 17.06%, Test Acc: 19.31%\n",
            "Epoch 6/150, Train Loss: 3.5149, Test Loss: 3.3993\n",
            "Epoch 7/150, Train Acc: 19.09%, Test Acc: 21.96%\n",
            "Epoch 7/150, Train Loss: 3.3918, Test Loss: 3.2784\n",
            "Epoch 8/150, Train Acc: 20.53%, Test Acc: 22.45%\n",
            "Epoch 8/150, Train Loss: 3.3069, Test Loss: 3.2085\n",
            "Epoch 9/150, Train Acc: 22.05%, Test Acc: 23.99%\n",
            "Epoch 9/150, Train Loss: 3.2237, Test Loss: 3.1185\n",
            "Checkpoint saved at epoch 10: ./checkpoint_epoch_10.pth\n"
          ]
        },
        {
          "output_type": "display_data",
          "data": {
            "text/plain": [
              "<IPython.core.display.Javascript object>"
            ],
            "application/javascript": [
              "\n",
              "    async function download(id, filename, size) {\n",
              "      if (!google.colab.kernel.accessAllowed) {\n",
              "        return;\n",
              "      }\n",
              "      const div = document.createElement('div');\n",
              "      const label = document.createElement('label');\n",
              "      label.textContent = `Downloading \"${filename}\": `;\n",
              "      div.appendChild(label);\n",
              "      const progress = document.createElement('progress');\n",
              "      progress.max = size;\n",
              "      div.appendChild(progress);\n",
              "      document.body.appendChild(div);\n",
              "\n",
              "      const buffers = [];\n",
              "      let downloaded = 0;\n",
              "\n",
              "      const channel = await google.colab.kernel.comms.open(id);\n",
              "      // Send a message to notify the kernel that we're ready.\n",
              "      channel.send({})\n",
              "\n",
              "      for await (const message of channel.messages) {\n",
              "        // Send a message to notify the kernel that we're ready.\n",
              "        channel.send({})\n",
              "        if (message.buffers) {\n",
              "          for (const buffer of message.buffers) {\n",
              "            buffers.push(buffer);\n",
              "            downloaded += buffer.byteLength;\n",
              "            progress.value = downloaded;\n",
              "          }\n",
              "        }\n",
              "      }\n",
              "      const blob = new Blob(buffers, {type: 'application/binary'});\n",
              "      const a = document.createElement('a');\n",
              "      a.href = window.URL.createObjectURL(blob);\n",
              "      a.download = filename;\n",
              "      div.appendChild(a);\n",
              "      a.click();\n",
              "      div.remove();\n",
              "    }\n",
              "  "
            ]
          },
          "metadata": {}
        },
        {
          "output_type": "display_data",
          "data": {
            "text/plain": [
              "<IPython.core.display.Javascript object>"
            ],
            "application/javascript": [
              "download(\"download_4770b7e3-38ca-4eff-9df4-76fa328d7760\", \"checkpoint_epoch_10.pth\", 9796974)"
            ]
          },
          "metadata": {}
        },
        {
          "output_type": "stream",
          "name": "stdout",
          "text": [
            "Epoch 10/150, Train Acc: 23.34%, Test Acc: 25.69%\n",
            "Epoch 10/150, Train Loss: 3.1469, Test Loss: 3.0392\n",
            "Epoch 11/150, Train Acc: 24.46%, Test Acc: 27.11%\n",
            "Epoch 11/150, Train Loss: 3.0923, Test Loss: 2.9918\n",
            "Epoch 12/150, Train Acc: 25.72%, Test Acc: 28.51%\n",
            "Epoch 12/150, Train Loss: 3.0275, Test Loss: 2.9232\n",
            "Epoch 13/150, Train Acc: 26.48%, Test Acc: 29.14%\n",
            "Epoch 13/150, Train Loss: 2.9783, Test Loss: 2.8851\n",
            "Epoch 14/150, Train Acc: 27.56%, Test Acc: 29.82%\n",
            "Epoch 14/150, Train Loss: 2.9270, Test Loss: 2.8478\n",
            "Epoch 15/150, Train Acc: 28.26%, Test Acc: 30.76%\n",
            "Epoch 15/150, Train Loss: 2.8837, Test Loss: 2.7907\n",
            "Epoch 16/150, Train Acc: 29.62%, Test Acc: 31.81%\n",
            "Epoch 16/150, Train Loss: 2.8290, Test Loss: 2.7459\n",
            "Epoch 17/150, Train Acc: 30.25%, Test Acc: 32.79%\n",
            "Epoch 17/150, Train Loss: 2.7927, Test Loss: 2.6915\n",
            "Epoch 18/150, Train Acc: 30.89%, Test Acc: 32.94%\n",
            "Epoch 18/150, Train Loss: 2.7596, Test Loss: 2.6759\n",
            "Epoch 19/150, Train Acc: 31.77%, Test Acc: 33.89%\n",
            "Epoch 19/150, Train Loss: 2.7112, Test Loss: 2.6429\n",
            "Checkpoint saved at epoch 20: ./checkpoint_epoch_20.pth\n"
          ]
        },
        {
          "output_type": "display_data",
          "data": {
            "text/plain": [
              "<IPython.core.display.Javascript object>"
            ],
            "application/javascript": [
              "\n",
              "    async function download(id, filename, size) {\n",
              "      if (!google.colab.kernel.accessAllowed) {\n",
              "        return;\n",
              "      }\n",
              "      const div = document.createElement('div');\n",
              "      const label = document.createElement('label');\n",
              "      label.textContent = `Downloading \"${filename}\": `;\n",
              "      div.appendChild(label);\n",
              "      const progress = document.createElement('progress');\n",
              "      progress.max = size;\n",
              "      div.appendChild(progress);\n",
              "      document.body.appendChild(div);\n",
              "\n",
              "      const buffers = [];\n",
              "      let downloaded = 0;\n",
              "\n",
              "      const channel = await google.colab.kernel.comms.open(id);\n",
              "      // Send a message to notify the kernel that we're ready.\n",
              "      channel.send({})\n",
              "\n",
              "      for await (const message of channel.messages) {\n",
              "        // Send a message to notify the kernel that we're ready.\n",
              "        channel.send({})\n",
              "        if (message.buffers) {\n",
              "          for (const buffer of message.buffers) {\n",
              "            buffers.push(buffer);\n",
              "            downloaded += buffer.byteLength;\n",
              "            progress.value = downloaded;\n",
              "          }\n",
              "        }\n",
              "      }\n",
              "      const blob = new Blob(buffers, {type: 'application/binary'});\n",
              "      const a = document.createElement('a');\n",
              "      a.href = window.URL.createObjectURL(blob);\n",
              "      a.download = filename;\n",
              "      div.appendChild(a);\n",
              "      a.click();\n",
              "      div.remove();\n",
              "    }\n",
              "  "
            ]
          },
          "metadata": {}
        },
        {
          "output_type": "display_data",
          "data": {
            "text/plain": [
              "<IPython.core.display.Javascript object>"
            ],
            "application/javascript": [
              "download(\"download_8c132c8a-ed16-4957-8a62-799a655bdf84\", \"checkpoint_epoch_20.pth\", 9796974)"
            ]
          },
          "metadata": {}
        },
        {
          "output_type": "stream",
          "name": "stdout",
          "text": [
            "Epoch 20/150, Train Acc: 32.01%, Test Acc: 34.15%\n",
            "Epoch 20/150, Train Loss: 2.6936, Test Loss: 2.6104\n",
            "Epoch 21/150, Train Acc: 32.87%, Test Acc: 34.64%\n",
            "Epoch 21/150, Train Loss: 2.6574, Test Loss: 2.5723\n",
            "Epoch 22/150, Train Acc: 33.49%, Test Acc: 35.42%\n",
            "Epoch 22/150, Train Loss: 2.6288, Test Loss: 2.5463\n",
            "Epoch 23/150, Train Acc: 33.97%, Test Acc: 36.42%\n",
            "Epoch 23/150, Train Loss: 2.6009, Test Loss: 2.5079\n",
            "Epoch 24/150, Train Acc: 34.78%, Test Acc: 35.93%\n",
            "Epoch 24/150, Train Loss: 2.5594, Test Loss: 2.5004\n",
            "Epoch 25/150, Train Acc: 34.99%, Test Acc: 36.81%\n",
            "Epoch 25/150, Train Loss: 2.5484, Test Loss: 2.4761\n",
            "Epoch 26/150, Train Acc: 36.05%, Test Acc: 37.60%\n",
            "Epoch 26/150, Train Loss: 2.5101, Test Loss: 2.4607\n",
            "Epoch 27/150, Train Acc: 36.10%, Test Acc: 36.70%\n",
            "Epoch 27/150, Train Loss: 2.4975, Test Loss: 2.4842\n",
            "Epoch 28/150, Train Acc: 36.31%, Test Acc: 37.48%\n",
            "Epoch 28/150, Train Loss: 2.4834, Test Loss: 2.4713\n",
            "Epoch 29/150, Train Acc: 37.03%, Test Acc: 38.76%\n",
            "Epoch 29/150, Train Loss: 2.4617, Test Loss: 2.3919\n",
            "Checkpoint saved at epoch 30: ./checkpoint_epoch_30.pth\n"
          ]
        },
        {
          "output_type": "display_data",
          "data": {
            "text/plain": [
              "<IPython.core.display.Javascript object>"
            ],
            "application/javascript": [
              "\n",
              "    async function download(id, filename, size) {\n",
              "      if (!google.colab.kernel.accessAllowed) {\n",
              "        return;\n",
              "      }\n",
              "      const div = document.createElement('div');\n",
              "      const label = document.createElement('label');\n",
              "      label.textContent = `Downloading \"${filename}\": `;\n",
              "      div.appendChild(label);\n",
              "      const progress = document.createElement('progress');\n",
              "      progress.max = size;\n",
              "      div.appendChild(progress);\n",
              "      document.body.appendChild(div);\n",
              "\n",
              "      const buffers = [];\n",
              "      let downloaded = 0;\n",
              "\n",
              "      const channel = await google.colab.kernel.comms.open(id);\n",
              "      // Send a message to notify the kernel that we're ready.\n",
              "      channel.send({})\n",
              "\n",
              "      for await (const message of channel.messages) {\n",
              "        // Send a message to notify the kernel that we're ready.\n",
              "        channel.send({})\n",
              "        if (message.buffers) {\n",
              "          for (const buffer of message.buffers) {\n",
              "            buffers.push(buffer);\n",
              "            downloaded += buffer.byteLength;\n",
              "            progress.value = downloaded;\n",
              "          }\n",
              "        }\n",
              "      }\n",
              "      const blob = new Blob(buffers, {type: 'application/binary'});\n",
              "      const a = document.createElement('a');\n",
              "      a.href = window.URL.createObjectURL(blob);\n",
              "      a.download = filename;\n",
              "      div.appendChild(a);\n",
              "      a.click();\n",
              "      div.remove();\n",
              "    }\n",
              "  "
            ]
          },
          "metadata": {}
        },
        {
          "output_type": "display_data",
          "data": {
            "text/plain": [
              "<IPython.core.display.Javascript object>"
            ],
            "application/javascript": [
              "download(\"download_9a0367b6-adf7-4867-b73e-b3e1869ceda1\", \"checkpoint_epoch_30.pth\", 9796974)"
            ]
          },
          "metadata": {}
        },
        {
          "output_type": "stream",
          "name": "stdout",
          "text": [
            "Epoch 30/150, Train Acc: 37.67%, Test Acc: 38.39%\n",
            "Epoch 30/150, Train Loss: 2.4331, Test Loss: 2.3865\n",
            "Epoch 31/150, Train Acc: 37.82%, Test Acc: 39.38%\n",
            "Epoch 31/150, Train Loss: 2.4150, Test Loss: 2.3614\n",
            "Epoch 32/150, Train Acc: 38.46%, Test Acc: 38.50%\n",
            "Epoch 32/150, Train Loss: 2.3971, Test Loss: 2.3807\n",
            "Epoch 33/150, Train Acc: 38.41%, Test Acc: 38.98%\n",
            "Epoch 33/150, Train Loss: 2.3860, Test Loss: 2.3605\n",
            "Epoch 34/150, Train Acc: 38.86%, Test Acc: 39.87%\n",
            "Epoch 34/150, Train Loss: 2.3702, Test Loss: 2.3339\n",
            "Epoch 35/150, Train Acc: 39.64%, Test Acc: 40.39%\n",
            "Epoch 35/150, Train Loss: 2.3412, Test Loss: 2.3186\n",
            "Epoch 36/150, Train Acc: 39.53%, Test Acc: 40.04%\n",
            "Epoch 36/150, Train Loss: 2.3344, Test Loss: 2.3220\n",
            "Epoch 37/150, Train Acc: 40.16%, Test Acc: 40.45%\n",
            "Epoch 37/150, Train Loss: 2.3127, Test Loss: 2.3070\n",
            "Epoch 38/150, Train Acc: 40.54%, Test Acc: 41.00%\n",
            "Epoch 38/150, Train Loss: 2.2979, Test Loss: 2.2892\n",
            "Epoch 39/150, Train Acc: 40.73%, Test Acc: 41.13%\n",
            "Epoch 39/150, Train Loss: 2.2898, Test Loss: 2.2948\n",
            "Checkpoint saved at epoch 40: ./checkpoint_epoch_40.pth\n"
          ]
        },
        {
          "output_type": "display_data",
          "data": {
            "text/plain": [
              "<IPython.core.display.Javascript object>"
            ],
            "application/javascript": [
              "\n",
              "    async function download(id, filename, size) {\n",
              "      if (!google.colab.kernel.accessAllowed) {\n",
              "        return;\n",
              "      }\n",
              "      const div = document.createElement('div');\n",
              "      const label = document.createElement('label');\n",
              "      label.textContent = `Downloading \"${filename}\": `;\n",
              "      div.appendChild(label);\n",
              "      const progress = document.createElement('progress');\n",
              "      progress.max = size;\n",
              "      div.appendChild(progress);\n",
              "      document.body.appendChild(div);\n",
              "\n",
              "      const buffers = [];\n",
              "      let downloaded = 0;\n",
              "\n",
              "      const channel = await google.colab.kernel.comms.open(id);\n",
              "      // Send a message to notify the kernel that we're ready.\n",
              "      channel.send({})\n",
              "\n",
              "      for await (const message of channel.messages) {\n",
              "        // Send a message to notify the kernel that we're ready.\n",
              "        channel.send({})\n",
              "        if (message.buffers) {\n",
              "          for (const buffer of message.buffers) {\n",
              "            buffers.push(buffer);\n",
              "            downloaded += buffer.byteLength;\n",
              "            progress.value = downloaded;\n",
              "          }\n",
              "        }\n",
              "      }\n",
              "      const blob = new Blob(buffers, {type: 'application/binary'});\n",
              "      const a = document.createElement('a');\n",
              "      a.href = window.URL.createObjectURL(blob);\n",
              "      a.download = filename;\n",
              "      div.appendChild(a);\n",
              "      a.click();\n",
              "      div.remove();\n",
              "    }\n",
              "  "
            ]
          },
          "metadata": {}
        },
        {
          "output_type": "display_data",
          "data": {
            "text/plain": [
              "<IPython.core.display.Javascript object>"
            ],
            "application/javascript": [
              "download(\"download_d63cacd4-db3f-4a5e-ab02-6fee56143bb7\", \"checkpoint_epoch_40.pth\", 9796974)"
            ]
          },
          "metadata": {}
        },
        {
          "output_type": "stream",
          "name": "stdout",
          "text": [
            "Epoch 40/150, Train Acc: 41.15%, Test Acc: 40.88%\n",
            "Epoch 40/150, Train Loss: 2.2743, Test Loss: 2.2769\n",
            "Epoch 41/150, Train Acc: 41.35%, Test Acc: 41.07%\n",
            "Epoch 41/150, Train Loss: 2.2563, Test Loss: 2.2703\n",
            "Epoch 42/150, Train Acc: 41.80%, Test Acc: 41.60%\n",
            "Epoch 42/150, Train Loss: 2.2350, Test Loss: 2.2866\n",
            "Epoch 43/150, Train Acc: 41.60%, Test Acc: 41.60%\n",
            "Epoch 43/150, Train Loss: 2.2395, Test Loss: 2.2539\n",
            "Epoch 44/150, Train Acc: 42.35%, Test Acc: 41.60%\n",
            "Epoch 44/150, Train Loss: 2.2128, Test Loss: 2.2552\n",
            "Epoch 45/150, Train Acc: 42.56%, Test Acc: 42.11%\n",
            "Epoch 45/150, Train Loss: 2.2111, Test Loss: 2.2506\n",
            "Epoch 46/150, Train Acc: 42.84%, Test Acc: 42.24%\n",
            "Epoch 46/150, Train Loss: 2.1872, Test Loss: 2.2420\n",
            "Epoch 47/150, Train Acc: 42.91%, Test Acc: 42.48%\n",
            "Epoch 47/150, Train Loss: 2.1776, Test Loss: 2.2122\n",
            "Epoch 48/150, Train Acc: 43.32%, Test Acc: 43.08%\n",
            "Epoch 48/150, Train Loss: 2.1704, Test Loss: 2.2133\n",
            "Epoch 49/150, Train Acc: 43.55%, Test Acc: 43.13%\n",
            "Epoch 49/150, Train Loss: 2.1549, Test Loss: 2.2023\n",
            "Checkpoint saved at epoch 50: ./checkpoint_epoch_50.pth\n"
          ]
        },
        {
          "output_type": "display_data",
          "data": {
            "text/plain": [
              "<IPython.core.display.Javascript object>"
            ],
            "application/javascript": [
              "\n",
              "    async function download(id, filename, size) {\n",
              "      if (!google.colab.kernel.accessAllowed) {\n",
              "        return;\n",
              "      }\n",
              "      const div = document.createElement('div');\n",
              "      const label = document.createElement('label');\n",
              "      label.textContent = `Downloading \"${filename}\": `;\n",
              "      div.appendChild(label);\n",
              "      const progress = document.createElement('progress');\n",
              "      progress.max = size;\n",
              "      div.appendChild(progress);\n",
              "      document.body.appendChild(div);\n",
              "\n",
              "      const buffers = [];\n",
              "      let downloaded = 0;\n",
              "\n",
              "      const channel = await google.colab.kernel.comms.open(id);\n",
              "      // Send a message to notify the kernel that we're ready.\n",
              "      channel.send({})\n",
              "\n",
              "      for await (const message of channel.messages) {\n",
              "        // Send a message to notify the kernel that we're ready.\n",
              "        channel.send({})\n",
              "        if (message.buffers) {\n",
              "          for (const buffer of message.buffers) {\n",
              "            buffers.push(buffer);\n",
              "            downloaded += buffer.byteLength;\n",
              "            progress.value = downloaded;\n",
              "          }\n",
              "        }\n",
              "      }\n",
              "      const blob = new Blob(buffers, {type: 'application/binary'});\n",
              "      const a = document.createElement('a');\n",
              "      a.href = window.URL.createObjectURL(blob);\n",
              "      a.download = filename;\n",
              "      div.appendChild(a);\n",
              "      a.click();\n",
              "      div.remove();\n",
              "    }\n",
              "  "
            ]
          },
          "metadata": {}
        },
        {
          "output_type": "display_data",
          "data": {
            "text/plain": [
              "<IPython.core.display.Javascript object>"
            ],
            "application/javascript": [
              "download(\"download_e63c4e8a-1e04-4548-9628-8405aa28884e\", \"checkpoint_epoch_50.pth\", 9796974)"
            ]
          },
          "metadata": {}
        },
        {
          "output_type": "stream",
          "name": "stdout",
          "text": [
            "Epoch 50/150, Train Acc: 43.68%, Test Acc: 43.31%\n",
            "Epoch 50/150, Train Loss: 2.1484, Test Loss: 2.2051\n",
            "Epoch 51/150, Train Acc: 43.75%, Test Acc: 43.48%\n",
            "Epoch 51/150, Train Loss: 2.1376, Test Loss: 2.1799\n",
            "Epoch 52/150, Train Acc: 44.31%, Test Acc: 43.00%\n",
            "Epoch 52/150, Train Loss: 2.1228, Test Loss: 2.1918\n",
            "Epoch 53/150, Train Acc: 44.43%, Test Acc: 43.66%\n",
            "Epoch 53/150, Train Loss: 2.1078, Test Loss: 2.1815\n",
            "Epoch 54/150, Train Acc: 44.61%, Test Acc: 43.64%\n",
            "Epoch 54/150, Train Loss: 2.1049, Test Loss: 2.1798\n",
            "Epoch 55/150, Train Acc: 45.03%, Test Acc: 43.58%\n",
            "Epoch 55/150, Train Loss: 2.0926, Test Loss: 2.1795\n",
            "Epoch 56/150, Train Acc: 44.82%, Test Acc: 43.87%\n",
            "Epoch 56/150, Train Loss: 2.0862, Test Loss: 2.1597\n",
            "Epoch 57/150, Train Acc: 45.27%, Test Acc: 44.21%\n",
            "Epoch 57/150, Train Loss: 2.0742, Test Loss: 2.1676\n",
            "Epoch 58/150, Train Acc: 45.66%, Test Acc: 44.25%\n",
            "Epoch 58/150, Train Loss: 2.0636, Test Loss: 2.1521\n",
            "Epoch 59/150, Train Acc: 45.93%, Test Acc: 44.76%\n",
            "Epoch 59/150, Train Loss: 2.0549, Test Loss: 2.1386\n",
            "Checkpoint saved at epoch 60: ./checkpoint_epoch_60.pth\n"
          ]
        },
        {
          "output_type": "display_data",
          "data": {
            "text/plain": [
              "<IPython.core.display.Javascript object>"
            ],
            "application/javascript": [
              "\n",
              "    async function download(id, filename, size) {\n",
              "      if (!google.colab.kernel.accessAllowed) {\n",
              "        return;\n",
              "      }\n",
              "      const div = document.createElement('div');\n",
              "      const label = document.createElement('label');\n",
              "      label.textContent = `Downloading \"${filename}\": `;\n",
              "      div.appendChild(label);\n",
              "      const progress = document.createElement('progress');\n",
              "      progress.max = size;\n",
              "      div.appendChild(progress);\n",
              "      document.body.appendChild(div);\n",
              "\n",
              "      const buffers = [];\n",
              "      let downloaded = 0;\n",
              "\n",
              "      const channel = await google.colab.kernel.comms.open(id);\n",
              "      // Send a message to notify the kernel that we're ready.\n",
              "      channel.send({})\n",
              "\n",
              "      for await (const message of channel.messages) {\n",
              "        // Send a message to notify the kernel that we're ready.\n",
              "        channel.send({})\n",
              "        if (message.buffers) {\n",
              "          for (const buffer of message.buffers) {\n",
              "            buffers.push(buffer);\n",
              "            downloaded += buffer.byteLength;\n",
              "            progress.value = downloaded;\n",
              "          }\n",
              "        }\n",
              "      }\n",
              "      const blob = new Blob(buffers, {type: 'application/binary'});\n",
              "      const a = document.createElement('a');\n",
              "      a.href = window.URL.createObjectURL(blob);\n",
              "      a.download = filename;\n",
              "      div.appendChild(a);\n",
              "      a.click();\n",
              "      div.remove();\n",
              "    }\n",
              "  "
            ]
          },
          "metadata": {}
        },
        {
          "output_type": "display_data",
          "data": {
            "text/plain": [
              "<IPython.core.display.Javascript object>"
            ],
            "application/javascript": [
              "download(\"download_156b2b1b-2143-4498-91b6-59228285d939\", \"checkpoint_epoch_60.pth\", 9796974)"
            ]
          },
          "metadata": {}
        },
        {
          "output_type": "stream",
          "name": "stdout",
          "text": [
            "Epoch 60/150, Train Acc: 46.06%, Test Acc: 44.58%\n",
            "Epoch 60/150, Train Loss: 2.0499, Test Loss: 2.1376\n",
            "Epoch 61/150, Train Acc: 46.11%, Test Acc: 44.36%\n",
            "Epoch 61/150, Train Loss: 2.0443, Test Loss: 2.1527\n",
            "Epoch 62/150, Train Acc: 46.36%, Test Acc: 44.84%\n",
            "Epoch 62/150, Train Loss: 2.0288, Test Loss: 2.1368\n",
            "Epoch 63/150, Train Acc: 46.56%, Test Acc: 44.85%\n",
            "Epoch 63/150, Train Loss: 2.0239, Test Loss: 2.1219\n",
            "Epoch 64/150, Train Acc: 46.70%, Test Acc: 45.14%\n",
            "Epoch 64/150, Train Loss: 2.0130, Test Loss: 2.1260\n",
            "Epoch 65/150, Train Acc: 46.80%, Test Acc: 44.98%\n",
            "Epoch 65/150, Train Loss: 2.0081, Test Loss: 2.1086\n",
            "Epoch 66/150, Train Acc: 47.24%, Test Acc: 44.43%\n",
            "Epoch 66/150, Train Loss: 1.9954, Test Loss: 2.1307\n",
            "Epoch 67/150, Train Acc: 47.39%, Test Acc: 45.25%\n",
            "Epoch 67/150, Train Loss: 1.9866, Test Loss: 2.1067\n",
            "Epoch 68/150, Train Acc: 47.63%, Test Acc: 44.75%\n",
            "Epoch 68/150, Train Loss: 1.9752, Test Loss: 2.1153\n",
            "Epoch 69/150, Train Acc: 47.64%, Test Acc: 45.08%\n",
            "Epoch 69/150, Train Loss: 1.9684, Test Loss: 2.1116\n",
            "Checkpoint saved at epoch 70: ./checkpoint_epoch_70.pth\n"
          ]
        },
        {
          "output_type": "display_data",
          "data": {
            "text/plain": [
              "<IPython.core.display.Javascript object>"
            ],
            "application/javascript": [
              "\n",
              "    async function download(id, filename, size) {\n",
              "      if (!google.colab.kernel.accessAllowed) {\n",
              "        return;\n",
              "      }\n",
              "      const div = document.createElement('div');\n",
              "      const label = document.createElement('label');\n",
              "      label.textContent = `Downloading \"${filename}\": `;\n",
              "      div.appendChild(label);\n",
              "      const progress = document.createElement('progress');\n",
              "      progress.max = size;\n",
              "      div.appendChild(progress);\n",
              "      document.body.appendChild(div);\n",
              "\n",
              "      const buffers = [];\n",
              "      let downloaded = 0;\n",
              "\n",
              "      const channel = await google.colab.kernel.comms.open(id);\n",
              "      // Send a message to notify the kernel that we're ready.\n",
              "      channel.send({})\n",
              "\n",
              "      for await (const message of channel.messages) {\n",
              "        // Send a message to notify the kernel that we're ready.\n",
              "        channel.send({})\n",
              "        if (message.buffers) {\n",
              "          for (const buffer of message.buffers) {\n",
              "            buffers.push(buffer);\n",
              "            downloaded += buffer.byteLength;\n",
              "            progress.value = downloaded;\n",
              "          }\n",
              "        }\n",
              "      }\n",
              "      const blob = new Blob(buffers, {type: 'application/binary'});\n",
              "      const a = document.createElement('a');\n",
              "      a.href = window.URL.createObjectURL(blob);\n",
              "      a.download = filename;\n",
              "      div.appendChild(a);\n",
              "      a.click();\n",
              "      div.remove();\n",
              "    }\n",
              "  "
            ]
          },
          "metadata": {}
        },
        {
          "output_type": "display_data",
          "data": {
            "text/plain": [
              "<IPython.core.display.Javascript object>"
            ],
            "application/javascript": [
              "download(\"download_9dad9b8d-97dc-4c7f-a302-a3df0839f5ff\", \"checkpoint_epoch_70.pth\", 9796974)"
            ]
          },
          "metadata": {}
        },
        {
          "output_type": "stream",
          "name": "stdout",
          "text": [
            "Epoch 70/150, Train Acc: 47.35%, Test Acc: 45.41%\n",
            "Epoch 70/150, Train Loss: 1.9758, Test Loss: 2.0978\n",
            "Epoch 71/150, Train Acc: 48.20%, Test Acc: 45.95%\n",
            "Epoch 71/150, Train Loss: 1.9533, Test Loss: 2.0909\n",
            "Epoch 72/150, Train Acc: 48.43%, Test Acc: 45.51%\n",
            "Epoch 72/150, Train Loss: 1.9468, Test Loss: 2.1009\n",
            "Epoch 73/150, Train Acc: 48.18%, Test Acc: 45.80%\n",
            "Epoch 73/150, Train Loss: 1.9458, Test Loss: 2.0844\n",
            "Epoch 74/150, Train Acc: 48.69%, Test Acc: 45.70%\n",
            "Epoch 74/150, Train Loss: 1.9327, Test Loss: 2.0847\n",
            "Epoch 75/150, Train Acc: 48.64%, Test Acc: 45.95%\n",
            "Epoch 75/150, Train Loss: 1.9339, Test Loss: 2.0812\n",
            "Epoch 76/150, Train Acc: 48.65%, Test Acc: 46.20%\n",
            "Epoch 76/150, Train Loss: 1.9215, Test Loss: 2.0795\n",
            "Epoch 77/150, Train Acc: 48.91%, Test Acc: 45.96%\n",
            "Epoch 77/150, Train Loss: 1.9177, Test Loss: 2.0820\n",
            "Epoch 78/150, Train Acc: 49.09%, Test Acc: 46.68%\n",
            "Epoch 78/150, Train Loss: 1.9149, Test Loss: 2.0774\n",
            "Epoch 79/150, Train Acc: 49.09%, Test Acc: 46.06%\n",
            "Epoch 79/150, Train Loss: 1.9073, Test Loss: 2.0741\n",
            "Checkpoint saved at epoch 80: ./checkpoint_epoch_80.pth\n"
          ]
        },
        {
          "output_type": "display_data",
          "data": {
            "text/plain": [
              "<IPython.core.display.Javascript object>"
            ],
            "application/javascript": [
              "\n",
              "    async function download(id, filename, size) {\n",
              "      if (!google.colab.kernel.accessAllowed) {\n",
              "        return;\n",
              "      }\n",
              "      const div = document.createElement('div');\n",
              "      const label = document.createElement('label');\n",
              "      label.textContent = `Downloading \"${filename}\": `;\n",
              "      div.appendChild(label);\n",
              "      const progress = document.createElement('progress');\n",
              "      progress.max = size;\n",
              "      div.appendChild(progress);\n",
              "      document.body.appendChild(div);\n",
              "\n",
              "      const buffers = [];\n",
              "      let downloaded = 0;\n",
              "\n",
              "      const channel = await google.colab.kernel.comms.open(id);\n",
              "      // Send a message to notify the kernel that we're ready.\n",
              "      channel.send({})\n",
              "\n",
              "      for await (const message of channel.messages) {\n",
              "        // Send a message to notify the kernel that we're ready.\n",
              "        channel.send({})\n",
              "        if (message.buffers) {\n",
              "          for (const buffer of message.buffers) {\n",
              "            buffers.push(buffer);\n",
              "            downloaded += buffer.byteLength;\n",
              "            progress.value = downloaded;\n",
              "          }\n",
              "        }\n",
              "      }\n",
              "      const blob = new Blob(buffers, {type: 'application/binary'});\n",
              "      const a = document.createElement('a');\n",
              "      a.href = window.URL.createObjectURL(blob);\n",
              "      a.download = filename;\n",
              "      div.appendChild(a);\n",
              "      a.click();\n",
              "      div.remove();\n",
              "    }\n",
              "  "
            ]
          },
          "metadata": {}
        },
        {
          "output_type": "display_data",
          "data": {
            "text/plain": [
              "<IPython.core.display.Javascript object>"
            ],
            "application/javascript": [
              "download(\"download_7e0bca67-d53a-4d31-954c-79883b4a1392\", \"checkpoint_epoch_80.pth\", 9796974)"
            ]
          },
          "metadata": {}
        },
        {
          "output_type": "stream",
          "name": "stdout",
          "text": [
            "Epoch 80/150, Train Acc: 49.41%, Test Acc: 46.31%\n",
            "Epoch 80/150, Train Loss: 1.8935, Test Loss: 2.0682\n",
            "Epoch 81/150, Train Acc: 49.40%, Test Acc: 46.06%\n",
            "Epoch 81/150, Train Loss: 1.8976, Test Loss: 2.0688\n",
            "Epoch 82/150, Train Acc: 49.74%, Test Acc: 45.83%\n",
            "Epoch 82/150, Train Loss: 1.8849, Test Loss: 2.0748\n",
            "Epoch 83/150, Train Acc: 49.82%, Test Acc: 46.35%\n",
            "Epoch 83/150, Train Loss: 1.8766, Test Loss: 2.0644\n",
            "Epoch 84/150, Train Acc: 49.66%, Test Acc: 46.87%\n",
            "Epoch 84/150, Train Loss: 1.8822, Test Loss: 2.0560\n",
            "Epoch 85/150, Train Acc: 49.62%, Test Acc: 46.36%\n",
            "Epoch 85/150, Train Loss: 1.8789, Test Loss: 2.0584\n",
            "Epoch 86/150, Train Acc: 49.98%, Test Acc: 46.61%\n",
            "Epoch 86/150, Train Loss: 1.8671, Test Loss: 2.0605\n",
            "Epoch 87/150, Train Acc: 50.14%, Test Acc: 46.23%\n",
            "Epoch 87/150, Train Loss: 1.8641, Test Loss: 2.0640\n",
            "Epoch 88/150, Train Acc: 50.37%, Test Acc: 46.35%\n",
            "Epoch 88/150, Train Loss: 1.8566, Test Loss: 2.0664\n",
            "Epoch 89/150, Train Acc: 50.17%, Test Acc: 46.64%\n",
            "Epoch 89/150, Train Loss: 1.8515, Test Loss: 2.0526\n",
            "Checkpoint saved at epoch 90: ./checkpoint_epoch_90.pth\n"
          ]
        },
        {
          "output_type": "display_data",
          "data": {
            "text/plain": [
              "<IPython.core.display.Javascript object>"
            ],
            "application/javascript": [
              "\n",
              "    async function download(id, filename, size) {\n",
              "      if (!google.colab.kernel.accessAllowed) {\n",
              "        return;\n",
              "      }\n",
              "      const div = document.createElement('div');\n",
              "      const label = document.createElement('label');\n",
              "      label.textContent = `Downloading \"${filename}\": `;\n",
              "      div.appendChild(label);\n",
              "      const progress = document.createElement('progress');\n",
              "      progress.max = size;\n",
              "      div.appendChild(progress);\n",
              "      document.body.appendChild(div);\n",
              "\n",
              "      const buffers = [];\n",
              "      let downloaded = 0;\n",
              "\n",
              "      const channel = await google.colab.kernel.comms.open(id);\n",
              "      // Send a message to notify the kernel that we're ready.\n",
              "      channel.send({})\n",
              "\n",
              "      for await (const message of channel.messages) {\n",
              "        // Send a message to notify the kernel that we're ready.\n",
              "        channel.send({})\n",
              "        if (message.buffers) {\n",
              "          for (const buffer of message.buffers) {\n",
              "            buffers.push(buffer);\n",
              "            downloaded += buffer.byteLength;\n",
              "            progress.value = downloaded;\n",
              "          }\n",
              "        }\n",
              "      }\n",
              "      const blob = new Blob(buffers, {type: 'application/binary'});\n",
              "      const a = document.createElement('a');\n",
              "      a.href = window.URL.createObjectURL(blob);\n",
              "      a.download = filename;\n",
              "      div.appendChild(a);\n",
              "      a.click();\n",
              "      div.remove();\n",
              "    }\n",
              "  "
            ]
          },
          "metadata": {}
        },
        {
          "output_type": "display_data",
          "data": {
            "text/plain": [
              "<IPython.core.display.Javascript object>"
            ],
            "application/javascript": [
              "download(\"download_8ded29f3-c9ad-464e-a86a-56272028a7d0\", \"checkpoint_epoch_90.pth\", 9796974)"
            ]
          },
          "metadata": {}
        },
        {
          "output_type": "stream",
          "name": "stdout",
          "text": [
            "Epoch 90/150, Train Acc: 50.44%, Test Acc: 46.33%\n",
            "Epoch 90/150, Train Loss: 1.8453, Test Loss: 2.0634\n",
            "Epoch 91/150, Train Acc: 50.67%, Test Acc: 47.08%\n",
            "Epoch 91/150, Train Loss: 1.8476, Test Loss: 2.0391\n",
            "Epoch 92/150, Train Acc: 50.44%, Test Acc: 46.96%\n",
            "Epoch 92/150, Train Loss: 1.8429, Test Loss: 2.0388\n",
            "Epoch 93/150, Train Acc: 50.79%, Test Acc: 46.94%\n",
            "Epoch 93/150, Train Loss: 1.8332, Test Loss: 2.0385\n",
            "Epoch 94/150, Train Acc: 50.88%, Test Acc: 46.93%\n",
            "Epoch 94/150, Train Loss: 1.8303, Test Loss: 2.0410\n",
            "Epoch 95/150, Train Acc: 50.89%, Test Acc: 47.09%\n",
            "Epoch 95/150, Train Loss: 1.8293, Test Loss: 2.0403\n",
            "Epoch 96/150, Train Acc: 51.29%, Test Acc: 46.64%\n",
            "Epoch 96/150, Train Loss: 1.8183, Test Loss: 2.0428\n",
            "Epoch 97/150, Train Acc: 51.12%, Test Acc: 46.91%\n",
            "Epoch 97/150, Train Loss: 1.8119, Test Loss: 2.0362\n",
            "Epoch 98/150, Train Acc: 51.26%, Test Acc: 47.23%\n",
            "Epoch 98/150, Train Loss: 1.8155, Test Loss: 2.0333\n",
            "Epoch 99/150, Train Acc: 51.45%, Test Acc: 47.13%\n",
            "Epoch 99/150, Train Loss: 1.8099, Test Loss: 2.0359\n",
            "Checkpoint saved at epoch 100: ./checkpoint_epoch_100.pth\n"
          ]
        },
        {
          "output_type": "display_data",
          "data": {
            "text/plain": [
              "<IPython.core.display.Javascript object>"
            ],
            "application/javascript": [
              "\n",
              "    async function download(id, filename, size) {\n",
              "      if (!google.colab.kernel.accessAllowed) {\n",
              "        return;\n",
              "      }\n",
              "      const div = document.createElement('div');\n",
              "      const label = document.createElement('label');\n",
              "      label.textContent = `Downloading \"${filename}\": `;\n",
              "      div.appendChild(label);\n",
              "      const progress = document.createElement('progress');\n",
              "      progress.max = size;\n",
              "      div.appendChild(progress);\n",
              "      document.body.appendChild(div);\n",
              "\n",
              "      const buffers = [];\n",
              "      let downloaded = 0;\n",
              "\n",
              "      const channel = await google.colab.kernel.comms.open(id);\n",
              "      // Send a message to notify the kernel that we're ready.\n",
              "      channel.send({})\n",
              "\n",
              "      for await (const message of channel.messages) {\n",
              "        // Send a message to notify the kernel that we're ready.\n",
              "        channel.send({})\n",
              "        if (message.buffers) {\n",
              "          for (const buffer of message.buffers) {\n",
              "            buffers.push(buffer);\n",
              "            downloaded += buffer.byteLength;\n",
              "            progress.value = downloaded;\n",
              "          }\n",
              "        }\n",
              "      }\n",
              "      const blob = new Blob(buffers, {type: 'application/binary'});\n",
              "      const a = document.createElement('a');\n",
              "      a.href = window.URL.createObjectURL(blob);\n",
              "      a.download = filename;\n",
              "      div.appendChild(a);\n",
              "      a.click();\n",
              "      div.remove();\n",
              "    }\n",
              "  "
            ]
          },
          "metadata": {}
        },
        {
          "output_type": "display_data",
          "data": {
            "text/plain": [
              "<IPython.core.display.Javascript object>"
            ],
            "application/javascript": [
              "download(\"download_c752e6ab-376a-4dcb-8b43-e0785be016f3\", \"checkpoint_epoch_100.pth\", 9797018)"
            ]
          },
          "metadata": {}
        },
        {
          "output_type": "stream",
          "name": "stdout",
          "text": [
            "Epoch 100/150, Train Acc: 51.22%, Test Acc: 46.87%\n",
            "Epoch 100/150, Train Loss: 1.8095, Test Loss: 2.0269\n",
            "Epoch 101/150, Train Acc: 51.49%, Test Acc: 47.23%\n",
            "Epoch 101/150, Train Loss: 1.8009, Test Loss: 2.0248\n",
            "Epoch 102/150, Train Acc: 51.81%, Test Acc: 47.36%\n",
            "Epoch 102/150, Train Loss: 1.7937, Test Loss: 2.0208\n",
            "Epoch 103/150, Train Acc: 52.00%, Test Acc: 47.47%\n",
            "Epoch 103/150, Train Loss: 1.7885, Test Loss: 2.0212\n",
            "Epoch 104/150, Train Acc: 51.79%, Test Acc: 47.37%\n",
            "Epoch 104/150, Train Loss: 1.7918, Test Loss: 2.0218\n",
            "Epoch 105/150, Train Acc: 51.98%, Test Acc: 47.15%\n",
            "Epoch 105/150, Train Loss: 1.7869, Test Loss: 2.0230\n",
            "Epoch 106/150, Train Acc: 52.12%, Test Acc: 47.36%\n",
            "Epoch 106/150, Train Loss: 1.7826, Test Loss: 2.0233\n",
            "Epoch 107/150, Train Acc: 52.35%, Test Acc: 47.50%\n",
            "Epoch 107/150, Train Loss: 1.7806, Test Loss: 2.0243\n",
            "Epoch 108/150, Train Acc: 52.14%, Test Acc: 47.63%\n",
            "Epoch 108/150, Train Loss: 1.7801, Test Loss: 2.0211\n",
            "Epoch 109/150, Train Acc: 52.12%, Test Acc: 47.71%\n",
            "Epoch 109/150, Train Loss: 1.7769, Test Loss: 2.0190\n",
            "Checkpoint saved at epoch 110: ./checkpoint_epoch_110.pth\n"
          ]
        },
        {
          "output_type": "display_data",
          "data": {
            "text/plain": [
              "<IPython.core.display.Javascript object>"
            ],
            "application/javascript": [
              "\n",
              "    async function download(id, filename, size) {\n",
              "      if (!google.colab.kernel.accessAllowed) {\n",
              "        return;\n",
              "      }\n",
              "      const div = document.createElement('div');\n",
              "      const label = document.createElement('label');\n",
              "      label.textContent = `Downloading \"${filename}\": `;\n",
              "      div.appendChild(label);\n",
              "      const progress = document.createElement('progress');\n",
              "      progress.max = size;\n",
              "      div.appendChild(progress);\n",
              "      document.body.appendChild(div);\n",
              "\n",
              "      const buffers = [];\n",
              "      let downloaded = 0;\n",
              "\n",
              "      const channel = await google.colab.kernel.comms.open(id);\n",
              "      // Send a message to notify the kernel that we're ready.\n",
              "      channel.send({})\n",
              "\n",
              "      for await (const message of channel.messages) {\n",
              "        // Send a message to notify the kernel that we're ready.\n",
              "        channel.send({})\n",
              "        if (message.buffers) {\n",
              "          for (const buffer of message.buffers) {\n",
              "            buffers.push(buffer);\n",
              "            downloaded += buffer.byteLength;\n",
              "            progress.value = downloaded;\n",
              "          }\n",
              "        }\n",
              "      }\n",
              "      const blob = new Blob(buffers, {type: 'application/binary'});\n",
              "      const a = document.createElement('a');\n",
              "      a.href = window.URL.createObjectURL(blob);\n",
              "      a.download = filename;\n",
              "      div.appendChild(a);\n",
              "      a.click();\n",
              "      div.remove();\n",
              "    }\n",
              "  "
            ]
          },
          "metadata": {}
        },
        {
          "output_type": "display_data",
          "data": {
            "text/plain": [
              "<IPython.core.display.Javascript object>"
            ],
            "application/javascript": [
              "download(\"download_0a8b6ed1-b340-4e9b-bd11-c04a6a51aa8d\", \"checkpoint_epoch_110.pth\", 9797018)"
            ]
          },
          "metadata": {}
        },
        {
          "output_type": "stream",
          "name": "stdout",
          "text": [
            "Epoch 110/150, Train Acc: 52.25%, Test Acc: 47.65%\n",
            "Epoch 110/150, Train Loss: 1.7716, Test Loss: 2.0105\n",
            "Epoch 111/150, Train Acc: 52.33%, Test Acc: 47.50%\n",
            "Epoch 111/150, Train Loss: 1.7690, Test Loss: 2.0143\n",
            "Epoch 112/150, Train Acc: 52.66%, Test Acc: 47.55%\n",
            "Epoch 112/150, Train Loss: 1.7601, Test Loss: 2.0163\n",
            "Epoch 113/150, Train Acc: 52.50%, Test Acc: 47.81%\n",
            "Epoch 113/150, Train Loss: 1.7649, Test Loss: 2.0133\n",
            "Epoch 114/150, Train Acc: 52.95%, Test Acc: 47.84%\n",
            "Epoch 114/150, Train Loss: 1.7564, Test Loss: 2.0133\n",
            "Epoch 115/150, Train Acc: 52.69%, Test Acc: 47.68%\n",
            "Epoch 115/150, Train Loss: 1.7572, Test Loss: 2.0128\n",
            "Epoch 116/150, Train Acc: 52.57%, Test Acc: 47.69%\n",
            "Epoch 116/150, Train Loss: 1.7549, Test Loss: 2.0145\n",
            "Epoch 117/150, Train Acc: 52.65%, Test Acc: 47.81%\n",
            "Epoch 117/150, Train Loss: 1.7529, Test Loss: 2.0085\n",
            "Epoch 118/150, Train Acc: 52.74%, Test Acc: 47.86%\n",
            "Epoch 118/150, Train Loss: 1.7566, Test Loss: 2.0120\n",
            "Epoch 119/150, Train Acc: 52.95%, Test Acc: 47.66%\n",
            "Epoch 119/150, Train Loss: 1.7512, Test Loss: 2.0072\n",
            "Checkpoint saved at epoch 120: ./checkpoint_epoch_120.pth\n"
          ]
        },
        {
          "output_type": "display_data",
          "data": {
            "text/plain": [
              "<IPython.core.display.Javascript object>"
            ],
            "application/javascript": [
              "\n",
              "    async function download(id, filename, size) {\n",
              "      if (!google.colab.kernel.accessAllowed) {\n",
              "        return;\n",
              "      }\n",
              "      const div = document.createElement('div');\n",
              "      const label = document.createElement('label');\n",
              "      label.textContent = `Downloading \"${filename}\": `;\n",
              "      div.appendChild(label);\n",
              "      const progress = document.createElement('progress');\n",
              "      progress.max = size;\n",
              "      div.appendChild(progress);\n",
              "      document.body.appendChild(div);\n",
              "\n",
              "      const buffers = [];\n",
              "      let downloaded = 0;\n",
              "\n",
              "      const channel = await google.colab.kernel.comms.open(id);\n",
              "      // Send a message to notify the kernel that we're ready.\n",
              "      channel.send({})\n",
              "\n",
              "      for await (const message of channel.messages) {\n",
              "        // Send a message to notify the kernel that we're ready.\n",
              "        channel.send({})\n",
              "        if (message.buffers) {\n",
              "          for (const buffer of message.buffers) {\n",
              "            buffers.push(buffer);\n",
              "            downloaded += buffer.byteLength;\n",
              "            progress.value = downloaded;\n",
              "          }\n",
              "        }\n",
              "      }\n",
              "      const blob = new Blob(buffers, {type: 'application/binary'});\n",
              "      const a = document.createElement('a');\n",
              "      a.href = window.URL.createObjectURL(blob);\n",
              "      a.download = filename;\n",
              "      div.appendChild(a);\n",
              "      a.click();\n",
              "      div.remove();\n",
              "    }\n",
              "  "
            ]
          },
          "metadata": {}
        },
        {
          "output_type": "display_data",
          "data": {
            "text/plain": [
              "<IPython.core.display.Javascript object>"
            ],
            "application/javascript": [
              "download(\"download_54f73d92-fff1-4cc2-9a3d-eaf336186ea3\", \"checkpoint_epoch_120.pth\", 9797018)"
            ]
          },
          "metadata": {}
        },
        {
          "output_type": "stream",
          "name": "stdout",
          "text": [
            "Epoch 120/150, Train Acc: 53.01%, Test Acc: 47.73%\n",
            "Epoch 120/150, Train Loss: 1.7434, Test Loss: 2.0115\n",
            "Epoch 121/150, Train Acc: 53.04%, Test Acc: 47.84%\n",
            "Epoch 121/150, Train Loss: 1.7415, Test Loss: 2.0104\n",
            "Epoch 122/150, Train Acc: 52.95%, Test Acc: 48.06%\n",
            "Epoch 122/150, Train Loss: 1.7465, Test Loss: 2.0042\n",
            "Epoch 123/150, Train Acc: 53.10%, Test Acc: 47.97%\n",
            "Epoch 123/150, Train Loss: 1.7446, Test Loss: 2.0039\n",
            "Epoch 124/150, Train Acc: 53.36%, Test Acc: 47.93%\n",
            "Epoch 124/150, Train Loss: 1.7357, Test Loss: 2.0042\n",
            "Epoch 125/150, Train Acc: 53.30%, Test Acc: 48.04%\n",
            "Epoch 125/150, Train Loss: 1.7384, Test Loss: 2.0053\n",
            "Epoch 126/150, Train Acc: 53.36%, Test Acc: 47.81%\n",
            "Epoch 126/150, Train Loss: 1.7358, Test Loss: 2.0064\n",
            "Epoch 127/150, Train Acc: 53.16%, Test Acc: 47.91%\n",
            "Epoch 127/150, Train Loss: 1.7371, Test Loss: 2.0055\n",
            "Epoch 128/150, Train Acc: 53.52%, Test Acc: 47.96%\n",
            "Epoch 128/150, Train Loss: 1.7319, Test Loss: 2.0067\n",
            "Epoch 129/150, Train Acc: 53.38%, Test Acc: 48.09%\n",
            "Epoch 129/150, Train Loss: 1.7316, Test Loss: 2.0036\n",
            "Checkpoint saved at epoch 130: ./checkpoint_epoch_130.pth\n"
          ]
        },
        {
          "output_type": "display_data",
          "data": {
            "text/plain": [
              "<IPython.core.display.Javascript object>"
            ],
            "application/javascript": [
              "\n",
              "    async function download(id, filename, size) {\n",
              "      if (!google.colab.kernel.accessAllowed) {\n",
              "        return;\n",
              "      }\n",
              "      const div = document.createElement('div');\n",
              "      const label = document.createElement('label');\n",
              "      label.textContent = `Downloading \"${filename}\": `;\n",
              "      div.appendChild(label);\n",
              "      const progress = document.createElement('progress');\n",
              "      progress.max = size;\n",
              "      div.appendChild(progress);\n",
              "      document.body.appendChild(div);\n",
              "\n",
              "      const buffers = [];\n",
              "      let downloaded = 0;\n",
              "\n",
              "      const channel = await google.colab.kernel.comms.open(id);\n",
              "      // Send a message to notify the kernel that we're ready.\n",
              "      channel.send({})\n",
              "\n",
              "      for await (const message of channel.messages) {\n",
              "        // Send a message to notify the kernel that we're ready.\n",
              "        channel.send({})\n",
              "        if (message.buffers) {\n",
              "          for (const buffer of message.buffers) {\n",
              "            buffers.push(buffer);\n",
              "            downloaded += buffer.byteLength;\n",
              "            progress.value = downloaded;\n",
              "          }\n",
              "        }\n",
              "      }\n",
              "      const blob = new Blob(buffers, {type: 'application/binary'});\n",
              "      const a = document.createElement('a');\n",
              "      a.href = window.URL.createObjectURL(blob);\n",
              "      a.download = filename;\n",
              "      div.appendChild(a);\n",
              "      a.click();\n",
              "      div.remove();\n",
              "    }\n",
              "  "
            ]
          },
          "metadata": {}
        },
        {
          "output_type": "display_data",
          "data": {
            "text/plain": [
              "<IPython.core.display.Javascript object>"
            ],
            "application/javascript": [
              "download(\"download_2c0464fd-b010-4080-8813-172a15bc4680\", \"checkpoint_epoch_130.pth\", 9797018)"
            ]
          },
          "metadata": {}
        },
        {
          "output_type": "stream",
          "name": "stdout",
          "text": [
            "Epoch 130/150, Train Acc: 53.49%, Test Acc: 47.82%\n",
            "Epoch 130/150, Train Loss: 1.7284, Test Loss: 2.0044\n",
            "Epoch 131/150, Train Acc: 53.27%, Test Acc: 47.98%\n",
            "Epoch 131/150, Train Loss: 1.7391, Test Loss: 2.0049\n",
            "Epoch 132/150, Train Acc: 53.38%, Test Acc: 47.98%\n",
            "Epoch 132/150, Train Loss: 1.7250, Test Loss: 2.0027\n",
            "Epoch 133/150, Train Acc: 53.61%, Test Acc: 48.00%\n",
            "Epoch 133/150, Train Loss: 1.7275, Test Loss: 2.0023\n",
            "Epoch 134/150, Train Acc: 53.50%, Test Acc: 48.11%\n",
            "Epoch 134/150, Train Loss: 1.7298, Test Loss: 2.0013\n",
            "Epoch 135/150, Train Acc: 53.47%, Test Acc: 47.87%\n",
            "Epoch 135/150, Train Loss: 1.7271, Test Loss: 2.0030\n",
            "Epoch 136/150, Train Acc: 53.58%, Test Acc: 47.97%\n",
            "Epoch 136/150, Train Loss: 1.7227, Test Loss: 2.0032\n",
            "Epoch 137/150, Train Acc: 53.48%, Test Acc: 47.97%\n",
            "Epoch 137/150, Train Loss: 1.7297, Test Loss: 2.0025\n",
            "Epoch 138/150, Train Acc: 53.54%, Test Acc: 47.95%\n",
            "Epoch 138/150, Train Loss: 1.7223, Test Loss: 2.0009\n",
            "Epoch 139/150, Train Acc: 53.51%, Test Acc: 48.01%\n",
            "Epoch 139/150, Train Loss: 1.7252, Test Loss: 2.0014\n",
            "Checkpoint saved at epoch 140: ./checkpoint_epoch_140.pth\n"
          ]
        },
        {
          "output_type": "display_data",
          "data": {
            "text/plain": [
              "<IPython.core.display.Javascript object>"
            ],
            "application/javascript": [
              "\n",
              "    async function download(id, filename, size) {\n",
              "      if (!google.colab.kernel.accessAllowed) {\n",
              "        return;\n",
              "      }\n",
              "      const div = document.createElement('div');\n",
              "      const label = document.createElement('label');\n",
              "      label.textContent = `Downloading \"${filename}\": `;\n",
              "      div.appendChild(label);\n",
              "      const progress = document.createElement('progress');\n",
              "      progress.max = size;\n",
              "      div.appendChild(progress);\n",
              "      document.body.appendChild(div);\n",
              "\n",
              "      const buffers = [];\n",
              "      let downloaded = 0;\n",
              "\n",
              "      const channel = await google.colab.kernel.comms.open(id);\n",
              "      // Send a message to notify the kernel that we're ready.\n",
              "      channel.send({})\n",
              "\n",
              "      for await (const message of channel.messages) {\n",
              "        // Send a message to notify the kernel that we're ready.\n",
              "        channel.send({})\n",
              "        if (message.buffers) {\n",
              "          for (const buffer of message.buffers) {\n",
              "            buffers.push(buffer);\n",
              "            downloaded += buffer.byteLength;\n",
              "            progress.value = downloaded;\n",
              "          }\n",
              "        }\n",
              "      }\n",
              "      const blob = new Blob(buffers, {type: 'application/binary'});\n",
              "      const a = document.createElement('a');\n",
              "      a.href = window.URL.createObjectURL(blob);\n",
              "      a.download = filename;\n",
              "      div.appendChild(a);\n",
              "      a.click();\n",
              "      div.remove();\n",
              "    }\n",
              "  "
            ]
          },
          "metadata": {}
        },
        {
          "output_type": "display_data",
          "data": {
            "text/plain": [
              "<IPython.core.display.Javascript object>"
            ],
            "application/javascript": [
              "download(\"download_2ba687e5-8ebf-4225-ad35-f4ed6ac3711f\", \"checkpoint_epoch_140.pth\", 9797018)"
            ]
          },
          "metadata": {}
        },
        {
          "output_type": "stream",
          "name": "stdout",
          "text": [
            "Epoch 140/150, Train Acc: 53.34%, Test Acc: 48.01%\n",
            "Epoch 140/150, Train Loss: 1.7284, Test Loss: 2.0023\n",
            "Epoch 141/150, Train Acc: 53.49%, Test Acc: 47.96%\n",
            "Epoch 141/150, Train Loss: 1.7196, Test Loss: 2.0014\n",
            "Epoch 142/150, Train Acc: 53.59%, Test Acc: 47.98%\n",
            "Epoch 142/150, Train Loss: 1.7240, Test Loss: 2.0019\n",
            "Epoch 143/150, Train Acc: 53.38%, Test Acc: 48.03%\n",
            "Epoch 143/150, Train Loss: 1.7242, Test Loss: 2.0015\n",
            "Epoch 144/150, Train Acc: 53.65%, Test Acc: 47.97%\n",
            "Epoch 144/150, Train Loss: 1.7223, Test Loss: 2.0007\n",
            "Epoch 145/150, Train Acc: 53.64%, Test Acc: 48.00%\n",
            "Epoch 145/150, Train Loss: 1.7225, Test Loss: 2.0008\n",
            "Epoch 146/150, Train Acc: 53.74%, Test Acc: 48.01%\n",
            "Epoch 146/150, Train Loss: 1.7205, Test Loss: 2.0007\n",
            "Epoch 147/150, Train Acc: 53.62%, Test Acc: 48.01%\n",
            "Epoch 147/150, Train Loss: 1.7217, Test Loss: 2.0007\n",
            "Epoch 148/150, Train Acc: 53.63%, Test Acc: 48.00%\n",
            "Epoch 148/150, Train Loss: 1.7237, Test Loss: 2.0007\n",
            "Epoch 149/150, Train Acc: 53.61%, Test Acc: 47.99%\n",
            "Epoch 149/150, Train Loss: 1.7222, Test Loss: 2.0007\n",
            "Checkpoint saved at epoch 150: ./checkpoint_epoch_150.pth\n"
          ]
        },
        {
          "output_type": "display_data",
          "data": {
            "text/plain": [
              "<IPython.core.display.Javascript object>"
            ],
            "application/javascript": [
              "\n",
              "    async function download(id, filename, size) {\n",
              "      if (!google.colab.kernel.accessAllowed) {\n",
              "        return;\n",
              "      }\n",
              "      const div = document.createElement('div');\n",
              "      const label = document.createElement('label');\n",
              "      label.textContent = `Downloading \"${filename}\": `;\n",
              "      div.appendChild(label);\n",
              "      const progress = document.createElement('progress');\n",
              "      progress.max = size;\n",
              "      div.appendChild(progress);\n",
              "      document.body.appendChild(div);\n",
              "\n",
              "      const buffers = [];\n",
              "      let downloaded = 0;\n",
              "\n",
              "      const channel = await google.colab.kernel.comms.open(id);\n",
              "      // Send a message to notify the kernel that we're ready.\n",
              "      channel.send({})\n",
              "\n",
              "      for await (const message of channel.messages) {\n",
              "        // Send a message to notify the kernel that we're ready.\n",
              "        channel.send({})\n",
              "        if (message.buffers) {\n",
              "          for (const buffer of message.buffers) {\n",
              "            buffers.push(buffer);\n",
              "            downloaded += buffer.byteLength;\n",
              "            progress.value = downloaded;\n",
              "          }\n",
              "        }\n",
              "      }\n",
              "      const blob = new Blob(buffers, {type: 'application/binary'});\n",
              "      const a = document.createElement('a');\n",
              "      a.href = window.URL.createObjectURL(blob);\n",
              "      a.download = filename;\n",
              "      div.appendChild(a);\n",
              "      a.click();\n",
              "      div.remove();\n",
              "    }\n",
              "  "
            ]
          },
          "metadata": {}
        },
        {
          "output_type": "display_data",
          "data": {
            "text/plain": [
              "<IPython.core.display.Javascript object>"
            ],
            "application/javascript": [
              "download(\"download_69c13d7b-2101-41a8-93b3-a258066b5247\", \"checkpoint_epoch_150.pth\", 9797018)"
            ]
          },
          "metadata": {}
        },
        {
          "output_type": "stream",
          "name": "stdout",
          "text": [
            "Epoch 150/150, Train Acc: 53.87%, Test Acc: 47.99%\n",
            "Epoch 150/150, Train Loss: 1.7178, Test Loss: 2.0007\n"
          ]
        },
        {
          "output_type": "display_data",
          "data": {
            "text/plain": [
              "<Figure size 600x400 with 1 Axes>"
            ],
            "image/png": "[encoded data removed]"
          },
          "metadata": {}
        },
        {
          "output_type": "display_data",
          "data": {
            "text/plain": [
              "<Figure size 600x400 with 1 Axes>"
            ],
            "image/png": "[encoded data removed]"
          },
          "metadata": {}
        },
        {
          "output_type": "display_data",
          "data": {
            "text/plain": [
              "<Figure size 600x400 with 1 Axes>"
            ],
            "image/png": "[encoded data removed]"
          },
          "metadata": {}
        },
        {
          "output_type": "display_data",
          "data": {
            "text/plain": [
              "<Figure size 600x400 with 1 Axes>"
            ],
            "image/png": "[encoded data removed]"
          },
          "metadata": {}
        },
        {
          "output_type": "display_data",
          "data": {
            "text/plain": [
              "<Figure size 640x480 with 0 Axes>"
            ]
          },
          "metadata": {}
        }
      ],
      "source": [
        "%run large_batch_training.py --optimizer AdamW --batch-size 1024 --weight-decay 1e-1"
      ]
    },
    {
      "cell_type": "code",
      "execution_count": null,
      "metadata": {
        "colab": {
          "base_uri": "https://localhost:8080/"
        },
        "id": "_Y8TL9oBZL18",
        "outputId": "54fc2f89-7e7d-461b-fce6-1f0da7310a06"
      },
      "outputs": [
        {
          "name": "stdout",
          "output_type": "stream",
          "text": [
            "Files already downloaded and verified\n",
            "Files already downloaded and verified\n",
            "--- Train with LARS ---\n"
          ]
        }
      ],
      "source": [
        "%run large_batch_training.py --optimizer LARS --batch-size 128 --weight-decay 4e-4"
      ]
    },
    {
      "cell_type": "code",
      "execution_count": null,
      "metadata": {
        "colab": {
          "base_uri": "https://localhost:8080/",
          "height": 436
        },
        "id": "K_XY2BkhZOkY",
        "outputId": "d4c6a687-f11c-439f-bbc4-b0d05ad58aca"
      },
      "outputs": [
        {
          "output_type": "stream",
          "name": "stdout",
          "text": [
            "Downloading https://www.cs.toronto.edu/~kriz/cifar-100-python.tar.gz to ./data/cifar-100-python.tar.gz\n"
          ]
        },
        {
          "output_type": "stream",
          "name": "stderr",
          "text": [
            "100%|██████████| 169M/169M [00:04<00:00, 40.2MB/s]\n"
          ]
        },
        {
          "output_type": "stream",
          "name": "stdout",
          "text": [
            "Extracting ./data/cifar-100-python.tar.gz to ./data\n",
            "Files already downloaded and verified\n",
            "Files already downloaded and verified\n",
            "--- Train with LAMB ---\n"
          ]
        },
        {
          "output_type": "error",
          "ename": "NameError",
          "evalue": "name 'val_accuracy' is not defined",
          "traceback": [
            "\u001b[0;31m---------------------------------------------------------------------------\u001b[0m",
            "\u001b[0;31mNameError\u001b[0m                                 Traceback (most recent call last)",
            "\u001b[0;32m/content/large_batch_training.py\u001b[0m in \u001b[0;36m<module>\u001b[0;34m\u001b[0m\n\u001b[1;32m    352\u001b[0m \u001b[0;31m# Train the model\u001b[0m\u001b[0;34m\u001b[0m\u001b[0;34m\u001b[0m\u001b[0m\n\u001b[1;32m    353\u001b[0m \u001b[0mprint\u001b[0m\u001b[0;34m(\u001b[0m\u001b[0;34mf\"--- Train with {args.optimizer} ---\"\u001b[0m\u001b[0;34m)\u001b[0m\u001b[0;34m\u001b[0m\u001b[0;34m\u001b[0m\u001b[0m\n\u001b[0;32m--> 354\u001b[0;31m \u001b[0mtrain_loss\u001b[0m\u001b[0;34m,\u001b[0m \u001b[0mtest_loss\u001b[0m\u001b[0;34m,\u001b[0m \u001b[0mtrain_acc\u001b[0m\u001b[0;34m,\u001b[0m \u001b[0mtest_acc\u001b[0m \u001b[0;34m=\u001b[0m \u001b[0mtrain_model\u001b[0m\u001b[0;34m(\u001b[0m\u001b[0moptimizer\u001b[0m\u001b[0;34m,\u001b[0m \u001b[0mscheduler\u001b[0m\u001b[0;34m,\u001b[0m \u001b[0mnet\u001b[0m\u001b[0;34m,\u001b[0m \u001b[0mcriterion\u001b[0m\u001b[0;34m,\u001b[0m \u001b[0mtrainloader\u001b[0m\u001b[0;34m,\u001b[0m \u001b[0mtestloader\u001b[0m\u001b[0;34m,\u001b[0m \u001b[0mdevice\u001b[0m\u001b[0;34m,\u001b[0m \u001b[0margs\u001b[0m\u001b[0;34m.\u001b[0m\u001b[0mepochs\u001b[0m\u001b[0;34m)\u001b[0m\u001b[0;34m\u001b[0m\u001b[0;34m\u001b[0m\u001b[0m\n\u001b[0m\u001b[1;32m    355\u001b[0m \u001b[0;34m\u001b[0m\u001b[0m\n\u001b[1;32m    356\u001b[0m \u001b[0;31m# Save model\u001b[0m\u001b[0;34m\u001b[0m\u001b[0;34m\u001b[0m\u001b[0m\n",
            "\u001b[0;32m/content/large_batch_training.py\u001b[0m in \u001b[0;36mtrain_model\u001b[0;34m(optimizer, scheduler, model, criterion, trainloader, testloader, device, epochs, save_checkpoint_interval)\u001b[0m\n\u001b[1;32m    345\u001b[0m             \u001b[0mfiles\u001b[0m\u001b[0;34m.\u001b[0m\u001b[0mdownload\u001b[0m\u001b[0;34m(\u001b[0m\u001b[0mcheckpoint_filename\u001b[0m\u001b[0;34m)\u001b[0m\u001b[0;34m\u001b[0m\u001b[0;34m\u001b[0m\u001b[0m\n\u001b[1;32m    346\u001b[0m \u001b[0;34m\u001b[0m\u001b[0m\n\u001b[0;32m--> 347\u001b[0;31m         \u001b[0mprint\u001b[0m\u001b[0;34m(\u001b[0m\u001b[0;34mf'Epoch {epoch+1}/{epochs}, Train Acc: {train_accuracy:.2f}%, Val Acc: {val_accuracy:.2f}%, Test Acc: {test_accuracy:.2f}%'\u001b[0m\u001b[0;34m)\u001b[0m\u001b[0;34m\u001b[0m\u001b[0;34m\u001b[0m\u001b[0m\n\u001b[0m\u001b[1;32m    348\u001b[0m         \u001b[0mprint\u001b[0m\u001b[0;34m(\u001b[0m\u001b[0;34mf'Epoch {epoch+1}/{epochs}, Train Loss: {train_loss:.4f}, Val Loss: {val_loss:.4f}, Test Loss: {test_loss:.4f}'\u001b[0m\u001b[0;34m)\u001b[0m\u001b[0;34m\u001b[0m\u001b[0;34m\u001b[0m\u001b[0m\n\u001b[1;32m    349\u001b[0m \u001b[0;34m\u001b[0m\u001b[0m\n",
            "\u001b[0;31mNameError\u001b[0m: name 'val_accuracy' is not defined"
          ]
        }
      ],
      "source": [
        "%run large_batch_training.py --optimizer LAMB --batch-size 128 --weight-decay 1e-1"
      ]
    }
  ],
  "metadata": {
    "accelerator": "GPU",
    "colab": {
      "gpuType": "T4",
      "provenance": [],
      "machine_shape": "hm"
    },
    "kernelspec": {
      "display_name": "Python 3",
      "name": "python3"
    },
    "language_info": {
      "name": "python"
    }
  },
  "nbformat": 4,
  "nbformat_minor": 0
}