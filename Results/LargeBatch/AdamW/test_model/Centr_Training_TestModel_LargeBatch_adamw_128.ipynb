{
  "cells": [
    {
      "cell_type": "code",
      "execution_count": 2,
      "metadata": {
        "colab": {
          "base_uri": "https://localhost:8080/"
        },
        "id": "LtOx0ESVnO0u",
        "outputId": "227a88d1-3a71-4798-9eb9-7619e42df905"
      },
      "outputs": [
        {
          "output_type": "stream",
          "name": "stdout",
          "text": [
            "Overwriting large_batch_training.py\n"
          ]
        }
      ],
      "source": [
        "%%writefile large_batch_training.py\n",
        "\n",
        "import os\n",
        "import numpy as np\n",
        "import torch\n",
        "import torch.nn as nn\n",
        "import torch.optim as optim\n",
        "import torchvision\n",
        "import torchvision.transforms as transforms\n",
        "import matplotlib.pyplot as plt\n",
        "import argparse\n",
        "from torch.utils.data import random_split\n",
        "from google.colab import files\n",
        "\n",
        "def compute_mean_std(dataset):\n",
        "    \"\"\"Compute the mean and std of CIFAR-100 dataset.\n",
        "\n",
        "    Args:\n",
        "        dataset: A dataset derived from `torch.utils.data.Dataset`,\n",
        "                 such as `cifar100_training_dataset` or `cifar100_test_dataset`.\n",
        "\n",
        "    Returns:\n",
        "        A tuple containing (mean, std) for the entire dataset.\n",
        "    \"\"\"\n",
        "\n",
        "    # Extract images and labels\n",
        "    data_r = np.stack([np.array(dataset[i][0])[:, :, 0] for i in range(len(dataset))])\n",
        "    data_g = np.stack([np.array(dataset[i][0])[:, :, 1] for i in range(len(dataset))])\n",
        "    data_b = np.stack([np.array(dataset[i][0])[:, :, 2] for i in range(len(dataset))])\n",
        "\n",
        "    # Compute mean and std\n",
        "    mean = np.mean(data_r), np.mean(data_g), np.mean(data_b)\n",
        "    std = np.std(data_r), np.std(data_g), np.std(data_b)\n",
        "\n",
        "    return mean, std\n",
        "\n",
        "# Define LeNet-5 architecture\n",
        "class LeNet5(nn.Module):\n",
        "    def __init__(self):\n",
        "        super(LeNet5, self).__init__()\n",
        "        self.conv1 = nn.Conv2d(3, 64, 5)\n",
        "        self.relu1 = nn.ReLU()\n",
        "        self.pool1 = nn.MaxPool2d(2, 2)\n",
        "        self.conv2 = nn.Conv2d(64, 64, 5)\n",
        "        self.relu2 = nn.ReLU()\n",
        "        self.pool2 = nn.MaxPool2d(2, 2)\n",
        "        self.fc1 = nn.Linear(64 * 5 * 5, 384)\n",
        "        self.relu3 = nn.ReLU()\n",
        "        self.fc2 = nn.Linear(384, 192)\n",
        "        self.relu4 = nn.ReLU()\n",
        "        self.fc3 = nn.Linear(192, 100)\n",
        "\n",
        "    def forward(self, x):\n",
        "        x = self.pool1(self.relu1(self.conv1(x)))\n",
        "        x = self.pool2(self.relu2(self.conv2(x)))\n",
        "        x = x.view(-1, 64 * 5 * 5)\n",
        "        x = self.relu3(self.fc1(x))\n",
        "        x = self.relu4(self.fc2(x))\n",
        "        x = self.fc3(x)\n",
        "        return x\n",
        "\n",
        "# Device setup\n",
        "device = torch.device(\"cuda:0\" if torch.cuda.is_available() else \"cpu\")\n",
        "\n",
        "# Initialize model\n",
        "net = LeNet5().to(device)\n",
        "\n",
        "# Optimizer Subclasses\n",
        "class LARS(optim.Optimizer):\n",
        "    def __init__(self, params, lr, momentum=0.9, weight_decay=0, trust_coefficient=0.001):\n",
        "        # Initialize the optimizer with the learning rate, momentum, weight decay, and trust coefficient\n",
        "        defaults = dict(lr=lr, momentum=momentum, weight_decay=weight_decay, trust_coefficient=trust_coefficient)\n",
        "        super(LARS, self).__init__(params, defaults)\n",
        "\n",
        "    def step(self, closure=None):\n",
        "        loss = None\n",
        "        if closure is not None:\n",
        "            # If a closure is provided, evaluate it (commonly used for re-evaluating loss)\n",
        "            loss = closure()\n",
        "        for group in self.param_groups:\n",
        "            for p in group['params']:\n",
        "                if p.grad is None:\n",
        "                   # Skip parameters that have no gradient\n",
        "                    continue\n",
        "                grad = p.grad.data # Get the gradient of the parameter\n",
        "                # Retrieve or initialize the optimizer's internal state\n",
        "                state = self.state[p]\n",
        "                if len(state) == 0:\n",
        "                    state['momentum_buffer'] = torch.clone(grad).detach()\n",
        "                # Apply weight decay directly to the gradient\n",
        "                if group['weight_decay'] != 0:\n",
        "                    grad.add_(p.data, alpha=group['weight_decay'])\n",
        "                # Compute the norms of the parameter and its gradient\n",
        "                param_norm = torch.norm(p.data)\n",
        "                grad_norm = torch.norm(grad)\n",
        "                # Compute local learning rate based on the trust coefficient and norms\n",
        "                if param_norm > 0 and grad_norm > 0:\n",
        "                    local_lr = group['trust_coefficient'] * param_norm / (grad_norm + 1e-8)\n",
        "                    grad = grad.mul(local_lr) # Scale the gradient with the local learning rate\n",
        "                # Update the momentum buffer\n",
        "                momentum_buffer = state['momentum_buffer']\n",
        "                momentum_buffer.mul_(group['momentum']).add_(grad) #Momentum update\n",
        "                state['momentum_buffer'] = momentum_buffer\n",
        "                # Update the parameter\n",
        "                p.data.add_(momentum_buffer, alpha=-group['lr']) # Gradient descent step with learning rate\n",
        "        return loss\n",
        "\n",
        "class LAMB(optim.Optimizer):\n",
        "    def __init__(self, params, lr, weight_decay=0, betas=(0.9, 0.999), eps=1e-8):\n",
        "        # Initialize the optimizer with learning rate, weight decay, betas for moment updates, and epsilon for stability\n",
        "        defaults = dict(lr=lr, weight_decay=weight_decay, betas=betas, eps=eps)\n",
        "        super(LAMB, self).__init__(params, defaults)\n",
        "\n",
        "    def step(self, closure=None):\n",
        "        loss = None\n",
        "        if closure is not None:\n",
        "            # If a closure is provided, evaluate it\n",
        "            loss = closure()\n",
        "        for group in self.param_groups:\n",
        "            for p in group['params']:\n",
        "                if p.grad is None:\n",
        "                    # Skip parameters that have no gradient\n",
        "                    continue\n",
        "                grad = p.grad.data # Get the gradient of the parameter\n",
        "                # Retrieve or initialize the optimizer's internal state\n",
        "                state = self.state[p]\n",
        "                # Initialize state\n",
        "                if len(state) == 0:\n",
        "                    # Initialize the state (step counter, first moment, second moment)\n",
        "                    state['step'] = 0\n",
        "                    state['exp_avg'] = torch.zeros_like(p.data) # First moment (mean of gradients)\n",
        "                    state['exp_avg_sq'] = torch.zeros_like(p.data) # Second moment (mean of squared gradients)\n",
        "                exp_avg = state['exp_avg']\n",
        "                exp_avg_sq = state['exp_avg_sq']\n",
        "                beta1, beta2 = group['betas']  # Coefficients for moment updates\n",
        "                state['step'] += 1 # Increment step count\n",
        "                step = state['step']\n",
        "                # Decay the first and second moment running average coefficients\n",
        "                # Update first and second moments\n",
        "                exp_avg.mul_(beta1).add_(grad, alpha=1 - beta1) # Exponential moving average of gradients\n",
        "                exp_avg_sq.mul_(beta2).addcmul_(grad, grad, value=1 - beta2) # Exponential moving average of squared gradients\n",
        "                # Correct bias in the first and second moments\n",
        "                bias_correction1 = 1 - beta1 ** step\n",
        "                bias_correction2 = 1 - beta2 ** step\n",
        "                corrected_exp_avg = exp_avg / bias_correction1\n",
        "                corrected_exp_avg_sq = exp_avg_sq / bias_correction2\n",
        "                # Compute the denominator for scaling the update\n",
        "                denom = corrected_exp_avg_sq.sqrt().add_(group['eps']) # Stability epsilon\n",
        "                # Compute the step update\n",
        "                update = corrected_exp_avg / denom\n",
        "                # Apply weight decay directly to the parameters\n",
        "                if group['weight_decay'] != 0:\n",
        "                    update.add_(p.data, alpha=group['weight_decay'])\n",
        "                # Compute the trust ratio (norm of parameters vs norm of update)\n",
        "                param_norm = torch.norm(p.data)\n",
        "                update_norm = torch.norm(update)\n",
        "                trust_ratio = 1.0  # Default trust ratio\n",
        "                if param_norm > 0 and update_norm > 0:\n",
        "                    trust_ratio = param_norm / update_norm\n",
        "                # Update the parameters\n",
        "                p.data.add_(update, alpha=-group['lr'] * trust_ratio)\n",
        "        return loss\n",
        "\n",
        "class SqrtLRScheduler(torch.optim.lr_scheduler._LRScheduler):\n",
        "    def __init__(self, optimizer, base_lr, batch_size, warmup_epochs, total_epochs, reference_batch_size, verbose=False):\n",
        "        \"\"\"\n",
        "        Args:\n",
        "            optimizer: PyTorch optimizer (e.g., Adam, LAMB, LARS).\n",
        "            base_lr: Base learning rate for the reference batch size.\n",
        "            batch_size: Current batch size.\n",
        "            warmup_epochs: Number of warmup epochs.\n",
        "            total_epochs: Total number of epochs.\n",
        "            reference_batch_size: Batch size for which the base_lr is defined.\n",
        "            verbose: Whether to print LR updates.\n",
        "        \"\"\"\n",
        "        self.base_lr = base_lr\n",
        "        self.batch_size = batch_size\n",
        "        self.scaled_lr = base_lr * (batch_size / reference_batch_size) ** 0.5\n",
        "        self.warmup_epochs = warmup_epochs\n",
        "        self.total_epochs = total_epochs\n",
        "        self.verbose = verbose\n",
        "        super(SqrtLRScheduler, self).__init__(optimizer)\n",
        "\n",
        "    def get_lr(self):\n",
        "        epoch = self.last_epoch\n",
        "        if epoch < self.warmup_epochs:\n",
        "            # Linear warmup scaling\n",
        "            warmup_factor = (epoch + 1) / self.warmup_epochs\n",
        "            return [warmup_factor * self.scaled_lr for _ in self.optimizer.param_groups]\n",
        "        else:\n",
        "            # polynomially decaying learning rate of ηt = η0×(1−t/T)\n",
        "            if epoch == self.warmup_epochs:\n",
        "                print(f\"Warmup phase completed at epoch {epoch}. Switching to constant learning rate.\")\n",
        "            return [self.scaled_lr * ( 1 - ( (epoch - self.warmup_epochs) / (self.total_epochs - self.warmup_epochs))) for _ in self.optimizer.param_groups]\n",
        "\n",
        "# Command-line arguments\n",
        "parser = argparse.ArgumentParser(description='Train with Large-Batch Optimizers')\n",
        "parser.add_argument('--optimizer', type=str, default='SGDM', choices=['SGDM', 'AdamW', 'LARS', 'LAMB'],\n",
        "                    help='Choose optimizer')\n",
        "parser.add_argument('--batch-size', type=int, default=128, help='Batch size')\n",
        "parser.add_argument('--momentum', type=float, default=0.9, help='Momentum for SGDM and LARS')\n",
        "parser.add_argument('--weight-decay', type=float, default=1e-5, help='Weight decay')\n",
        "parser.add_argument('--b1', type=float, default=0.9, help='Beta1 for AdamW')\n",
        "parser.add_argument('--b2', type=float, default=0.999, help='Beta2 for AdamW')\n",
        "parser.add_argument('--trust-coefficient', type=float, default=0.001, help='Trust coefficient for LARS')\n",
        "parser.add_argument('--epochs', type=int, default=150, help='Number of epochs')\n",
        "parser.add_argument('--warmup-epochs', type=int, default=5, help='Number of epochs')\n",
        "args = parser.parse_args()\n",
        "\n",
        "\n",
        "torch.manual_seed(42) # Set the seed for reproducibility\n",
        "torch.cuda.manual_seed_all(42) # Set the seed for reproducibility on GPU\n",
        "\n",
        "# use the same mean and std to add consistency to all datasets\n",
        "data = torchvision.datasets.CIFAR100(root='./data', train=True, download=True, transform=transforms.ToTensor())\n",
        "mean, std = compute_mean_std(data)\n",
        "\n",
        "# Load and split CIFAR-100 dataset\n",
        "train_transform = transforms.Compose([\n",
        "  transforms.RandomCrop(32, padding=4),\n",
        "  transforms.RandomHorizontalFlip(),\n",
        "  transforms.ToTensor(),\n",
        "  transforms.Normalize(mean, std)\n",
        "])\n",
        "\n",
        "test_transform = transforms.Compose([\n",
        "    transforms.ToTensor(),  # Convert to PyTorch tensor\n",
        "    transforms.Normalize(mean, std)\n",
        "])\n",
        "\n",
        "trainset = torchvision.datasets.CIFAR100(root='./data', train=True, download=True, transform=train_transform)\n",
        "trainloader = torch.utils.data.DataLoader(trainset, batch_size=args.batch_size, shuffle=True, num_workers=2)\n",
        "\n",
        "testset = torchvision.datasets.CIFAR100(root='./data', train=False, download=True, transform=test_transform)\n",
        "testloader = torch.utils.data.DataLoader(testset, batch_size=args.batch_size, shuffle=False, num_workers=2)\n",
        "\n",
        "\n",
        "# Fixed parameter from paper [18] to calculate the square root LR scaling value\n",
        "# base_lr = 5 / (2**3 * 10**3)\n",
        "# reference_batch_size = 512\n",
        "#scaled_lr = base_lr * (args.batch_size / reference_batch_size) ** 0.5\n",
        "\n",
        "# Mapping optimizers\n",
        "if args.optimizer == 'SGDM':\n",
        "    base_lr = 1e-2\n",
        "    reference_batch_size = 64\n",
        "    scaled_lr = base_lr * (args.batch_size / reference_batch_size) ** 0.5\n",
        "    optimizer = optim.SGD(net.parameters(), lr=scaled_lr, momentum=args.momentum, weight_decay=args.weight_decay)\n",
        "elif args.optimizer == 'AdamW':\n",
        "    base_lr = 1e-4\n",
        "    reference_batch_size = 64\n",
        "    scaled_lr = base_lr * (args.batch_size / reference_batch_size) ** 0.5\n",
        "    optimizer = optim.AdamW(net.parameters(), lr=scaled_lr, betas=(args.b1, args.b2), weight_decay=args.weight_decay)\n",
        "elif args.optimizer == 'LARS':\n",
        "    base_lr = 5e-1\n",
        "    reference_batch_size = 64\n",
        "    scaled_lr = base_lr * (args.batch_size / reference_batch_size) ** 0.5\n",
        "    optimizer = LARS(net.parameters(), lr=scaled_lr, momentum=args.momentum, weight_decay=args.weight_decay, trust_coefficient=args.trust_coefficient)\n",
        "elif args.optimizer == 'LAMB':\n",
        "    base_lr = 5e-4\n",
        "    reference_batch_size = 64\n",
        "    scaled_lr = base_lr * (args.batch_size / reference_batch_size) ** 0.5\n",
        "    optimizer = LAMB(net.parameters(), lr=scaled_lr, weight_decay=args.weight_decay)\n",
        "\n",
        "criterion = nn.CrossEntropyLoss()\n",
        "\n",
        "# scheduler should be e square root LR scaling rule and linear-epoch warmup scheduling to automatically adjust learning rate\n",
        "scheduler = SqrtLRScheduler(\n",
        "    optimizer = optimizer,\n",
        "    base_lr = base_lr,\n",
        "    batch_size = args.batch_size,\n",
        "    warmup_epochs = args.warmup_epochs,\n",
        "    total_epochs = args.epochs,\n",
        "    reference_batch_size = reference_batch_size,\n",
        "    verbose = True)\n",
        "\n",
        "# Training Function\n",
        "def train_model(optimizer, scheduler, model, criterion, trainloader , testloader, device, epochs, save_checkpoint_interval=10):\n",
        "    train_losses, test_losses = [], []\n",
        "    train_accuracies, test_accuracies = [], []\n",
        "    for epoch in range(epochs):\n",
        "        model.train()\n",
        "        running_loss, correct_train, total_train = 0.0, 0, 0\n",
        "        for inputs, labels in trainloader:\n",
        "            inputs, labels = inputs.to(device), labels.to(device)\n",
        "            optimizer.zero_grad()\n",
        "            outputs = model(inputs)\n",
        "            loss = criterion(outputs, labels)\n",
        "            loss.backward()\n",
        "            optimizer.step()\n",
        "            running_loss += loss.item()\n",
        "            _, predicted = outputs.max(1)\n",
        "            total_train += labels.size(0)\n",
        "            correct_train += predicted.eq(labels).sum().item()\n",
        "        train_loss = running_loss / len(trainloader)\n",
        "        train_accuracy = 100. * correct_train / total_train\n",
        "        train_losses.append(train_loss)\n",
        "        train_accuracies.append(train_accuracy)\n",
        "\n",
        "        '''\n",
        "        # Early Stopping\n",
        "        if val_loss < best_val_loss:\n",
        "          best_val_loss = val_loss\n",
        "          epochs_no_improve = 0\n",
        "        else:\n",
        "          epochs_no_improve += 1\n",
        "\n",
        "        if epochs_no_improve == patience:\n",
        "          print(\"Early stopping!\")\n",
        "          break\n",
        "        '''\n",
        "\n",
        "        # Test\n",
        "        correct_test, total_test, test_loss = 0, 0, 0.0\n",
        "        with torch.no_grad():\n",
        "            for inputs, labels in testloader:\n",
        "                inputs, labels = inputs.to(device), labels.to(device)\n",
        "                outputs = model(inputs)\n",
        "                loss = criterion(outputs, labels)\n",
        "                test_loss += loss.item()\n",
        "                _, predicted = outputs.max(1)\n",
        "                total_test += labels.size(0)\n",
        "                correct_test += predicted.eq(labels).sum().item()\n",
        "        test_loss /= len(testloader)\n",
        "        test_losses.append(test_loss)\n",
        "        test_accuracy = 100. * correct_test / total_test\n",
        "        test_accuracies.append(test_accuracy)\n",
        "\n",
        "        scheduler.step()\n",
        "\n",
        "        # Checkpointing\n",
        "        if (epoch + 1) % save_checkpoint_interval == 0:\n",
        "            checkpoint_filename = f'checkpoint_epoch_{epoch + 1}.pth'\n",
        "            checkpoint = {\n",
        "                'epoch': epoch + 1,\n",
        "                'model_state_dict': model.state_dict(),\n",
        "                'optimizer_state_dict': optimizer.state_dict(),\n",
        "                'scheduler_state_dict': scheduler.state_dict(),\n",
        "                'loss': loss.item(),\n",
        "            }\n",
        "            checkpoint_path = os.path.join('./', checkpoint_filename)\n",
        "            torch.save(checkpoint, checkpoint_path)\n",
        "            print(f'Checkpoint saved at epoch {epoch + 1}: {checkpoint_path}')\n",
        "\n",
        "            # Download the checkpoint\n",
        "            files.download(checkpoint_filename)\n",
        "\n",
        "        print(f'Epoch {epoch+1}/{epochs}, Train Acc: {train_accuracy:.2f}%, Test Acc: {test_accuracy:.2f}%')\n",
        "        print(f'Epoch {epoch+1}/{epochs}, Train Loss: {train_loss:.4f}, Test Loss: {test_loss:.4f}')\n",
        "\n",
        "    return train_losses, test_losses, train_accuracies, test_accuracies\n",
        "\n",
        "# Train the model\n",
        "print(f\"--- Train with {args.optimizer} ---\")\n",
        "train_loss, test_loss, train_acc, test_acc = train_model(optimizer, scheduler, net, criterion, trainloader, testloader, device, args.epochs)\n",
        "\n",
        "# Save model\n",
        "torch.save(net.state_dict(), f'net_{args.optimizer}.pth')\n",
        "\n",
        "# Plot results\n",
        "# Plot Training Loss\n",
        "plt.figure(figsize=(6, 4))\n",
        "plt.plot(train_loss, label='Train Loss')\n",
        "plt.title('Training Loss')\n",
        "plt.xlabel('Epoch')\n",
        "plt.ylabel('Loss')\n",
        "plt.legend()\n",
        "plt.tight_layout()\n",
        "plt.savefig('train_loss.png')\n",
        "plt.show()\n",
        "\n",
        "# Plot Training Accuracy\n",
        "plt.figure(figsize=(6, 4))\n",
        "plt.plot(train_acc, label='Train Accuracy')\n",
        "plt.title('Training Accuracy')\n",
        "plt.xlabel('Epoch')\n",
        "plt.ylabel('Accuracy (%)')\n",
        "plt.legend()\n",
        "plt.tight_layout()\n",
        "plt.savefig('train_accuracy.png')\n",
        "plt.show()\n",
        "\n",
        "# Plot Test Loss\n",
        "plt.figure(figsize=(6, 4))\n",
        "plt.plot(test_loss, label='Test Loss')\n",
        "plt.title('Test Loss')\n",
        "plt.xlabel('Epoch')\n",
        "plt.ylabel('Loss')\n",
        "plt.legend()\n",
        "plt.tight_layout()\n",
        "plt.savefig('test_loss.png')\n",
        "plt.show()\n",
        "\n",
        "# Plot Test Accuracy\n",
        "plt.figure(figsize=(6, 4))\n",
        "plt.plot(test_acc, label='Test Accuracy')\n",
        "plt.title('Test Accuracy')\n",
        "plt.xlabel('Epoch')\n",
        "plt.ylabel('Accuracy (%)')\n",
        "plt.legend()\n",
        "plt.tight_layout()\n",
        "plt.savefig('test_accuracy.png')\n",
        "plt.show()\n"
      ]
    },
    {
      "cell_type": "code",
      "execution_count": null,
      "metadata": {
        "colab": {
          "base_uri": "https://localhost:8080/",
          "height": 460
        },
        "id": "_hEcpkQqYJmP",
        "outputId": "054cca2f-8701-4830-ae1c-4f1fc306c8c1"
      },
      "outputs": [
        {
          "name": "stdout",
          "output_type": "stream",
          "text": [
            "Files already downloaded and verified\n",
            "Files already downloaded and verified\n",
            "Files already downloaded and verified\n",
            "Files already downloaded and verified\n",
            "--- Train with SGDM ---\n"
          ]
        },
        {
          "ename": "KeyboardInterrupt",
          "evalue": "",
          "output_type": "error",
          "traceback": [
            "\u001b[0;31m---------------------------------------------------------------------------\u001b[0m",
            "\u001b[0;31mKeyboardInterrupt\u001b[0m                         Traceback (most recent call last)",
            "\u001b[0;32m/content/large_batch_training.py\u001b[0m in \u001b[0;36m<module>\u001b[0;34m\u001b[0m\n\u001b[1;32m    385\u001b[0m \u001b[0;31m# Train the model\u001b[0m\u001b[0;34m\u001b[0m\u001b[0;34m\u001b[0m\u001b[0m\n\u001b[1;32m    386\u001b[0m \u001b[0mprint\u001b[0m\u001b[0;34m(\u001b[0m\u001b[0;34mf\"--- Train with {args.optimizer} ---\"\u001b[0m\u001b[0;34m)\u001b[0m\u001b[0;34m\u001b[0m\u001b[0;34m\u001b[0m\u001b[0m\n\u001b[0;32m--> 387\u001b[0;31m \u001b[0mtrain_loss\u001b[0m\u001b[0;34m,\u001b[0m \u001b[0mval_loss\u001b[0m\u001b[0;34m,\u001b[0m \u001b[0mtest_loss\u001b[0m\u001b[0;34m,\u001b[0m \u001b[0mtrain_acc\u001b[0m\u001b[0;34m,\u001b[0m \u001b[0mval_acc\u001b[0m\u001b[0;34m,\u001b[0m \u001b[0mtest_acc\u001b[0m \u001b[0;34m=\u001b[0m \u001b[0mtrain_model\u001b[0m\u001b[0;34m(\u001b[0m\u001b[0moptimizer\u001b[0m\u001b[0;34m,\u001b[0m \u001b[0mscheduler\u001b[0m\u001b[0;34m,\u001b[0m \u001b[0mnet\u001b[0m\u001b[0;34m,\u001b[0m \u001b[0mcriterion\u001b[0m\u001b[0;34m,\u001b[0m \u001b[0mtrainloader\u001b[0m\u001b[0;34m,\u001b[0m \u001b[0mvalloader\u001b[0m\u001b[0;34m,\u001b[0m \u001b[0mtestloader\u001b[0m\u001b[0;34m,\u001b[0m \u001b[0mdevice\u001b[0m\u001b[0;34m,\u001b[0m \u001b[0margs\u001b[0m\u001b[0;34m.\u001b[0m\u001b[0mepochs\u001b[0m\u001b[0;34m)\u001b[0m\u001b[0;34m\u001b[0m\u001b[0;34m\u001b[0m\u001b[0m\n\u001b[0m\u001b[1;32m    388\u001b[0m \u001b[0;34m\u001b[0m\u001b[0m\n\u001b[1;32m    389\u001b[0m \u001b[0;31m# Save model\u001b[0m\u001b[0;34m\u001b[0m\u001b[0;34m\u001b[0m\u001b[0m\n",
            "\u001b[0;32m/content/large_batch_training.py\u001b[0m in \u001b[0;36mtrain_model\u001b[0;34m(optimizer, scheduler, model, criterion, trainloader, valloader, testloader, device, epochs, save_checkpoint_interval)\u001b[0m\n\u001b[1;32m    297\u001b[0m         \u001b[0mmodel\u001b[0m\u001b[0;34m.\u001b[0m\u001b[0mtrain\u001b[0m\u001b[0;34m(\u001b[0m\u001b[0;34m)\u001b[0m\u001b[0;34m\u001b[0m\u001b[0;34m\u001b[0m\u001b[0m\n\u001b[1;32m    298\u001b[0m         \u001b[0mrunning_loss\u001b[0m\u001b[0;34m,\u001b[0m \u001b[0mcorrect_train\u001b[0m\u001b[0;34m,\u001b[0m \u001b[0mtotal_train\u001b[0m \u001b[0;34m=\u001b[0m \u001b[0;36m0.0\u001b[0m\u001b[0;34m,\u001b[0m \u001b[0;36m0\u001b[0m\u001b[0;34m,\u001b[0m \u001b[0;36m0\u001b[0m\u001b[0;34m\u001b[0m\u001b[0;34m\u001b[0m\u001b[0m\n\u001b[0;32m--> 299\u001b[0;31m         \u001b[0;32mfor\u001b[0m \u001b[0minputs\u001b[0m\u001b[0;34m,\u001b[0m \u001b[0mlabels\u001b[0m \u001b[0;32min\u001b[0m \u001b[0mtrainloader\u001b[0m\u001b[0;34m:\u001b[0m\u001b[0;34m\u001b[0m\u001b[0;34m\u001b[0m\u001b[0m\n\u001b[0m\u001b[1;32m    300\u001b[0m             \u001b[0minputs\u001b[0m\u001b[0;34m,\u001b[0m \u001b[0mlabels\u001b[0m \u001b[0;34m=\u001b[0m \u001b[0minputs\u001b[0m\u001b[0;34m.\u001b[0m\u001b[0mto\u001b[0m\u001b[0;34m(\u001b[0m\u001b[0mdevice\u001b[0m\u001b[0;34m)\u001b[0m\u001b[0;34m,\u001b[0m \u001b[0mlabels\u001b[0m\u001b[0;34m.\u001b[0m\u001b[0mto\u001b[0m\u001b[0;34m(\u001b[0m\u001b[0mdevice\u001b[0m\u001b[0;34m)\u001b[0m\u001b[0;34m\u001b[0m\u001b[0;34m\u001b[0m\u001b[0m\n\u001b[1;32m    301\u001b[0m             \u001b[0moptimizer\u001b[0m\u001b[0;34m.\u001b[0m\u001b[0mzero_grad\u001b[0m\u001b[0;34m(\u001b[0m\u001b[0;34m)\u001b[0m\u001b[0;34m\u001b[0m\u001b[0;34m\u001b[0m\u001b[0m\n",
            "\u001b[0;32m/usr/local/lib/python3.10/dist-packages/torch/utils/data/dataloader.py\u001b[0m in \u001b[0;36m__next__\u001b[0;34m(self)\u001b[0m\n\u001b[1;32m    699\u001b[0m                 \u001b[0;31m# TODO(https://github.com/pytorch/pytorch/issues/76750)\u001b[0m\u001b[0;34m\u001b[0m\u001b[0;34m\u001b[0m\u001b[0m\n\u001b[1;32m    700\u001b[0m                 \u001b[0mself\u001b[0m\u001b[0;34m.\u001b[0m\u001b[0m_reset\u001b[0m\u001b[0;34m(\u001b[0m\u001b[0;34m)\u001b[0m  \u001b[0;31m# type: ignore[call-arg]\u001b[0m\u001b[0;34m\u001b[0m\u001b[0;34m\u001b[0m\u001b[0m\n\u001b[0;32m--> 701\u001b[0;31m             \u001b[0mdata\u001b[0m \u001b[0;34m=\u001b[0m \u001b[0mself\u001b[0m\u001b[0;34m.\u001b[0m\u001b[0m_next_data\u001b[0m\u001b[0;34m(\u001b[0m\u001b[0;34m)\u001b[0m\u001b[0;34m\u001b[0m\u001b[0;34m\u001b[0m\u001b[0m\n\u001b[0m\u001b[1;32m    702\u001b[0m             \u001b[0mself\u001b[0m\u001b[0;34m.\u001b[0m\u001b[0m_num_yielded\u001b[0m \u001b[0;34m+=\u001b[0m \u001b[0;36m1\u001b[0m\u001b[0;34m\u001b[0m\u001b[0;34m\u001b[0m\u001b[0m\n\u001b[1;32m    703\u001b[0m             if (\n",
            "\u001b[0;32m/usr/local/lib/python3.10/dist-packages/torch/utils/data/dataloader.py\u001b[0m in \u001b[0;36m_next_data\u001b[0;34m(self)\u001b[0m\n\u001b[1;32m   1446\u001b[0m \u001b[0;34m\u001b[0m\u001b[0m\n\u001b[1;32m   1447\u001b[0m             \u001b[0;32massert\u001b[0m \u001b[0;32mnot\u001b[0m \u001b[0mself\u001b[0m\u001b[0;34m.\u001b[0m\u001b[0m_shutdown\u001b[0m \u001b[0;32mand\u001b[0m \u001b[0mself\u001b[0m\u001b[0;34m.\u001b[0m\u001b[0m_tasks_outstanding\u001b[0m \u001b[0;34m>\u001b[0m \u001b[0;36m0\u001b[0m\u001b[0;34m\u001b[0m\u001b[0;34m\u001b[0m\u001b[0m\n\u001b[0;32m-> 1448\u001b[0;31m             \u001b[0midx\u001b[0m\u001b[0;34m,\u001b[0m \u001b[0mdata\u001b[0m \u001b[0;34m=\u001b[0m \u001b[0mself\u001b[0m\u001b[0;34m.\u001b[0m\u001b[0m_get_data\u001b[0m\u001b[0;34m(\u001b[0m\u001b[0;34m)\u001b[0m\u001b[0;34m\u001b[0m\u001b[0;34m\u001b[0m\u001b[0m\n\u001b[0m\u001b[1;32m   1449\u001b[0m             \u001b[0mself\u001b[0m\u001b[0;34m.\u001b[0m\u001b[0m_tasks_outstanding\u001b[0m \u001b[0;34m-=\u001b[0m \u001b[0;36m1\u001b[0m\u001b[0;34m\u001b[0m\u001b[0;34m\u001b[0m\u001b[0m\n\u001b[1;32m   1450\u001b[0m             \u001b[0;32mif\u001b[0m \u001b[0mself\u001b[0m\u001b[0;34m.\u001b[0m\u001b[0m_dataset_kind\u001b[0m \u001b[0;34m==\u001b[0m \u001b[0m_DatasetKind\u001b[0m\u001b[0;34m.\u001b[0m\u001b[0mIterable\u001b[0m\u001b[0;34m:\u001b[0m\u001b[0;34m\u001b[0m\u001b[0;34m\u001b[0m\u001b[0m\n",
            "\u001b[0;32m/usr/local/lib/python3.10/dist-packages/torch/utils/data/dataloader.py\u001b[0m in \u001b[0;36m_get_data\u001b[0;34m(self)\u001b[0m\n\u001b[1;32m   1410\u001b[0m         \u001b[0;32melse\u001b[0m\u001b[0;34m:\u001b[0m\u001b[0;34m\u001b[0m\u001b[0;34m\u001b[0m\u001b[0m\n\u001b[1;32m   1411\u001b[0m             \u001b[0;32mwhile\u001b[0m \u001b[0;32mTrue\u001b[0m\u001b[0;34m:\u001b[0m\u001b[0;34m\u001b[0m\u001b[0;34m\u001b[0m\u001b[0m\n\u001b[0;32m-> 1412\u001b[0;31m                 \u001b[0msuccess\u001b[0m\u001b[0;34m,\u001b[0m \u001b[0mdata\u001b[0m \u001b[0;34m=\u001b[0m \u001b[0mself\u001b[0m\u001b[0;34m.\u001b[0m\u001b[0m_try_get_data\u001b[0m\u001b[0;34m(\u001b[0m\u001b[0;34m)\u001b[0m\u001b[0;34m\u001b[0m\u001b[0;34m\u001b[0m\u001b[0m\n\u001b[0m\u001b[1;32m   1413\u001b[0m                 \u001b[0;32mif\u001b[0m \u001b[0msuccess\u001b[0m\u001b[0;34m:\u001b[0m\u001b[0;34m\u001b[0m\u001b[0;34m\u001b[0m\u001b[0m\n\u001b[1;32m   1414\u001b[0m                     \u001b[0;32mreturn\u001b[0m \u001b[0mdata\u001b[0m\u001b[0;34m\u001b[0m\u001b[0;34m\u001b[0m\u001b[0m\n",
            "\u001b[0;32m/usr/local/lib/python3.10/dist-packages/torch/utils/data/dataloader.py\u001b[0m in \u001b[0;36m_try_get_data\u001b[0;34m(self, timeout)\u001b[0m\n\u001b[1;32m   1241\u001b[0m         \u001b[0;31m#   (bool: whether successfully get data, any: data if successful else None)\u001b[0m\u001b[0;34m\u001b[0m\u001b[0;34m\u001b[0m\u001b[0m\n\u001b[1;32m   1242\u001b[0m         \u001b[0;32mtry\u001b[0m\u001b[0;34m:\u001b[0m\u001b[0;34m\u001b[0m\u001b[0;34m\u001b[0m\u001b[0m\n\u001b[0;32m-> 1243\u001b[0;31m             \u001b[0mdata\u001b[0m \u001b[0;34m=\u001b[0m \u001b[0mself\u001b[0m\u001b[0;34m.\u001b[0m\u001b[0m_data_queue\u001b[0m\u001b[0;34m.\u001b[0m\u001b[0mget\u001b[0m\u001b[0;34m(\u001b[0m\u001b[0mtimeout\u001b[0m\u001b[0;34m=\u001b[0m\u001b[0mtimeout\u001b[0m\u001b[0;34m)\u001b[0m\u001b[0;34m\u001b[0m\u001b[0;34m\u001b[0m\u001b[0m\n\u001b[0m\u001b[1;32m   1244\u001b[0m             \u001b[0;32mreturn\u001b[0m \u001b[0;34m(\u001b[0m\u001b[0;32mTrue\u001b[0m\u001b[0;34m,\u001b[0m \u001b[0mdata\u001b[0m\u001b[0;34m)\u001b[0m\u001b[0;34m\u001b[0m\u001b[0;34m\u001b[0m\u001b[0m\n\u001b[1;32m   1245\u001b[0m         \u001b[0;32mexcept\u001b[0m \u001b[0mException\u001b[0m \u001b[0;32mas\u001b[0m \u001b[0me\u001b[0m\u001b[0;34m:\u001b[0m\u001b[0;34m\u001b[0m\u001b[0;34m\u001b[0m\u001b[0m\n",
            "\u001b[0;32m/usr/lib/python3.10/multiprocessing/queues.py\u001b[0m in \u001b[0;36mget\u001b[0;34m(self, block, timeout)\u001b[0m\n\u001b[1;32m    111\u001b[0m                 \u001b[0;32mif\u001b[0m \u001b[0mblock\u001b[0m\u001b[0;34m:\u001b[0m\u001b[0;34m\u001b[0m\u001b[0;34m\u001b[0m\u001b[0m\n\u001b[1;32m    112\u001b[0m                     \u001b[0mtimeout\u001b[0m \u001b[0;34m=\u001b[0m \u001b[0mdeadline\u001b[0m \u001b[0;34m-\u001b[0m \u001b[0mtime\u001b[0m\u001b[0;34m.\u001b[0m\u001b[0mmonotonic\u001b[0m\u001b[0;34m(\u001b[0m\u001b[0;34m)\u001b[0m\u001b[0;34m\u001b[0m\u001b[0;34m\u001b[0m\u001b[0m\n\u001b[0;32m--> 113\u001b[0;31m                     \u001b[0;32mif\u001b[0m \u001b[0;32mnot\u001b[0m \u001b[0mself\u001b[0m\u001b[0;34m.\u001b[0m\u001b[0m_poll\u001b[0m\u001b[0;34m(\u001b[0m\u001b[0mtimeout\u001b[0m\u001b[0;34m)\u001b[0m\u001b[0;34m:\u001b[0m\u001b[0;34m\u001b[0m\u001b[0;34m\u001b[0m\u001b[0m\n\u001b[0m\u001b[1;32m    114\u001b[0m                         \u001b[0;32mraise\u001b[0m \u001b[0mEmpty\u001b[0m\u001b[0;34m\u001b[0m\u001b[0;34m\u001b[0m\u001b[0m\n\u001b[1;32m    115\u001b[0m                 \u001b[0;32melif\u001b[0m \u001b[0;32mnot\u001b[0m \u001b[0mself\u001b[0m\u001b[0;34m.\u001b[0m\u001b[0m_poll\u001b[0m\u001b[0;34m(\u001b[0m\u001b[0;34m)\u001b[0m\u001b[0;34m:\u001b[0m\u001b[0;34m\u001b[0m\u001b[0;34m\u001b[0m\u001b[0m\n",
            "\u001b[0;32m/usr/lib/python3.10/multiprocessing/connection.py\u001b[0m in \u001b[0;36mpoll\u001b[0;34m(self, timeout)\u001b[0m\n\u001b[1;32m    255\u001b[0m         \u001b[0mself\u001b[0m\u001b[0;34m.\u001b[0m\u001b[0m_check_closed\u001b[0m\u001b[0;34m(\u001b[0m\u001b[0;34m)\u001b[0m\u001b[0;34m\u001b[0m\u001b[0;34m\u001b[0m\u001b[0m\n\u001b[1;32m    256\u001b[0m         \u001b[0mself\u001b[0m\u001b[0;34m.\u001b[0m\u001b[0m_check_readable\u001b[0m\u001b[0;34m(\u001b[0m\u001b[0;34m)\u001b[0m\u001b[0;34m\u001b[0m\u001b[0;34m\u001b[0m\u001b[0m\n\u001b[0;32m--> 257\u001b[0;31m         \u001b[0;32mreturn\u001b[0m \u001b[0mself\u001b[0m\u001b[0;34m.\u001b[0m\u001b[0m_poll\u001b[0m\u001b[0;34m(\u001b[0m\u001b[0mtimeout\u001b[0m\u001b[0;34m)\u001b[0m\u001b[0;34m\u001b[0m\u001b[0;34m\u001b[0m\u001b[0m\n\u001b[0m\u001b[1;32m    258\u001b[0m \u001b[0;34m\u001b[0m\u001b[0m\n\u001b[1;32m    259\u001b[0m     \u001b[0;32mdef\u001b[0m \u001b[0m__enter__\u001b[0m\u001b[0;34m(\u001b[0m\u001b[0mself\u001b[0m\u001b[0;34m)\u001b[0m\u001b[0;34m:\u001b[0m\u001b[0;34m\u001b[0m\u001b[0;34m\u001b[0m\u001b[0m\n",
            "\u001b[0;32m/usr/lib/python3.10/multiprocessing/connection.py\u001b[0m in \u001b[0;36m_poll\u001b[0;34m(self, timeout)\u001b[0m\n\u001b[1;32m    422\u001b[0m \u001b[0;34m\u001b[0m\u001b[0m\n\u001b[1;32m    423\u001b[0m     \u001b[0;32mdef\u001b[0m \u001b[0m_poll\u001b[0m\u001b[0;34m(\u001b[0m\u001b[0mself\u001b[0m\u001b[0;34m,\u001b[0m \u001b[0mtimeout\u001b[0m\u001b[0;34m)\u001b[0m\u001b[0;34m:\u001b[0m\u001b[0;34m\u001b[0m\u001b[0;34m\u001b[0m\u001b[0m\n\u001b[0;32m--> 424\u001b[0;31m         \u001b[0mr\u001b[0m \u001b[0;34m=\u001b[0m \u001b[0mwait\u001b[0m\u001b[0;34m(\u001b[0m\u001b[0;34m[\u001b[0m\u001b[0mself\u001b[0m\u001b[0;34m]\u001b[0m\u001b[0;34m,\u001b[0m \u001b[0mtimeout\u001b[0m\u001b[0;34m)\u001b[0m\u001b[0;34m\u001b[0m\u001b[0;34m\u001b[0m\u001b[0m\n\u001b[0m\u001b[1;32m    425\u001b[0m         \u001b[0;32mreturn\u001b[0m \u001b[0mbool\u001b[0m\u001b[0;34m(\u001b[0m\u001b[0mr\u001b[0m\u001b[0;34m)\u001b[0m\u001b[0;34m\u001b[0m\u001b[0;34m\u001b[0m\u001b[0m\n\u001b[1;32m    426\u001b[0m \u001b[0;34m\u001b[0m\u001b[0m\n",
            "\u001b[0;32m/usr/lib/python3.10/multiprocessing/connection.py\u001b[0m in \u001b[0;36mwait\u001b[0;34m(object_list, timeout)\u001b[0m\n\u001b[1;32m    929\u001b[0m \u001b[0;34m\u001b[0m\u001b[0m\n\u001b[1;32m    930\u001b[0m             \u001b[0;32mwhile\u001b[0m \u001b[0;32mTrue\u001b[0m\u001b[0;34m:\u001b[0m\u001b[0;34m\u001b[0m\u001b[0;34m\u001b[0m\u001b[0m\n\u001b[0;32m--> 931\u001b[0;31m                 \u001b[0mready\u001b[0m \u001b[0;34m=\u001b[0m \u001b[0mselector\u001b[0m\u001b[0;34m.\u001b[0m\u001b[0mselect\u001b[0m\u001b[0;34m(\u001b[0m\u001b[0mtimeout\u001b[0m\u001b[0;34m)\u001b[0m\u001b[0;34m\u001b[0m\u001b[0;34m\u001b[0m\u001b[0m\n\u001b[0m\u001b[1;32m    932\u001b[0m                 \u001b[0;32mif\u001b[0m \u001b[0mready\u001b[0m\u001b[0;34m:\u001b[0m\u001b[0;34m\u001b[0m\u001b[0;34m\u001b[0m\u001b[0m\n\u001b[1;32m    933\u001b[0m                     \u001b[0;32mreturn\u001b[0m \u001b[0;34m[\u001b[0m\u001b[0mkey\u001b[0m\u001b[0;34m.\u001b[0m\u001b[0mfileobj\u001b[0m \u001b[0;32mfor\u001b[0m \u001b[0;34m(\u001b[0m\u001b[0mkey\u001b[0m\u001b[0;34m,\u001b[0m \u001b[0mevents\u001b[0m\u001b[0;34m)\u001b[0m \u001b[0;32min\u001b[0m \u001b[0mready\u001b[0m\u001b[0;34m]\u001b[0m\u001b[0;34m\u001b[0m\u001b[0;34m\u001b[0m\u001b[0m\n",
            "\u001b[0;32m/usr/lib/python3.10/selectors.py\u001b[0m in \u001b[0;36mselect\u001b[0;34m(self, timeout)\u001b[0m\n\u001b[1;32m    414\u001b[0m         \u001b[0mready\u001b[0m \u001b[0;34m=\u001b[0m \u001b[0;34m[\u001b[0m\u001b[0;34m]\u001b[0m\u001b[0;34m\u001b[0m\u001b[0;34m\u001b[0m\u001b[0m\n\u001b[1;32m    415\u001b[0m         \u001b[0;32mtry\u001b[0m\u001b[0;34m:\u001b[0m\u001b[0;34m\u001b[0m\u001b[0;34m\u001b[0m\u001b[0m\n\u001b[0;32m--> 416\u001b[0;31m             \u001b[0mfd_event_list\u001b[0m \u001b[0;34m=\u001b[0m \u001b[0mself\u001b[0m\u001b[0;34m.\u001b[0m\u001b[0m_selector\u001b[0m\u001b[0;34m.\u001b[0m\u001b[0mpoll\u001b[0m\u001b[0;34m(\u001b[0m\u001b[0mtimeout\u001b[0m\u001b[0;34m)\u001b[0m\u001b[0;34m\u001b[0m\u001b[0;34m\u001b[0m\u001b[0m\n\u001b[0m\u001b[1;32m    417\u001b[0m         \u001b[0;32mexcept\u001b[0m \u001b[0mInterruptedError\u001b[0m\u001b[0;34m:\u001b[0m\u001b[0;34m\u001b[0m\u001b[0;34m\u001b[0m\u001b[0m\n\u001b[1;32m    418\u001b[0m             \u001b[0;32mreturn\u001b[0m \u001b[0mready\u001b[0m\u001b[0;34m\u001b[0m\u001b[0;34m\u001b[0m\u001b[0m\n",
            "\u001b[0;31mKeyboardInterrupt\u001b[0m: "
          ]
        }
      ],
      "source": [
        "%run large_batch_training.py --optimizer SGDM --batch-size 128 --weight-decay 4e-4"
      ]
    },
    {
      "cell_type": "markdown",
      "metadata": {
        "id": "_2t__56QmDKL"
      },
      "source": []
    },
    {
      "cell_type": "code",
      "execution_count": 3,
      "metadata": {
        "colab": {
          "base_uri": "https://localhost:8080/",
          "height": 1000
        },
        "id": "FqIzBQKfZFgB",
        "outputId": "ce2ca86c-6342-40cd-c217-053f7e9ce3bc"
      },
      "outputs": [
        {
          "output_type": "stream",
          "name": "stdout",
          "text": [
            "Downloading https://www.cs.toronto.edu/~kriz/cifar-100-python.tar.gz to ./data/cifar-100-python.tar.gz\n"
          ]
        },
        {
          "output_type": "stream",
          "name": "stderr",
          "text": [
            "100%|██████████| 169M/169M [00:12<00:00, 13.1MB/s]\n"
          ]
        },
        {
          "output_type": "stream",
          "name": "stdout",
          "text": [
            "Extracting ./data/cifar-100-python.tar.gz to ./data\n",
            "Files already downloaded and verified\n",
            "Files already downloaded and verified\n",
            "--- Train with AdamW ---\n",
            "Epoch 1/150, Train Acc: 4.04%, Test Acc: 7.88%\n",
            "Epoch 1/150, Train Loss: 4.3981, Test Loss: 4.1263\n",
            "Epoch 2/150, Train Acc: 8.71%, Test Acc: 11.70%\n",
            "Epoch 2/150, Train Loss: 4.0376, Test Loss: 3.8900\n",
            "Epoch 3/150, Train Acc: 12.09%, Test Acc: 15.28%\n",
            "Epoch 3/150, Train Loss: 3.8255, Test Loss: 3.6489\n",
            "Epoch 4/150, Train Acc: 15.06%, Test Acc: 17.53%\n",
            "Epoch 4/150, Train Loss: 3.6376, Test Loss: 3.4839\n",
            "Warmup phase completed at epoch 5. Switching to constant learning rate.\n",
            "Epoch 5/150, Train Acc: 17.70%, Test Acc: 20.79%\n",
            "Epoch 5/150, Train Loss: 3.4723, Test Loss: 3.3196\n",
            "Epoch 6/150, Train Acc: 20.06%, Test Acc: 23.02%\n",
            "Epoch 6/150, Train Loss: 3.3162, Test Loss: 3.1749\n",
            "Epoch 7/150, Train Acc: 22.44%, Test Acc: 26.26%\n",
            "Epoch 7/150, Train Loss: 3.1929, Test Loss: 3.0436\n",
            "Epoch 8/150, Train Acc: 24.55%, Test Acc: 27.13%\n",
            "Epoch 8/150, Train Loss: 3.0927, Test Loss: 2.9558\n",
            "Epoch 9/150, Train Acc: 25.93%, Test Acc: 28.70%\n",
            "Epoch 9/150, Train Loss: 3.0109, Test Loss: 2.8977\n",
            "Checkpoint saved at epoch 10: ./checkpoint_epoch_10.pth\n"
          ]
        },
        {
          "output_type": "display_data",
          "data": {
            "text/plain": [
              "<IPython.core.display.Javascript object>"
            ],
            "application/javascript": [
              "\n",
              "    async function download(id, filename, size) {\n",
              "      if (!google.colab.kernel.accessAllowed) {\n",
              "        return;\n",
              "      }\n",
              "      const div = document.createElement('div');\n",
              "      const label = document.createElement('label');\n",
              "      label.textContent = `Downloading \"${filename}\": `;\n",
              "      div.appendChild(label);\n",
              "      const progress = document.createElement('progress');\n",
              "      progress.max = size;\n",
              "      div.appendChild(progress);\n",
              "      document.body.appendChild(div);\n",
              "\n",
              "      const buffers = [];\n",
              "      let downloaded = 0;\n",
              "\n",
              "      const channel = await google.colab.kernel.comms.open(id);\n",
              "      // Send a message to notify the kernel that we're ready.\n",
              "      channel.send({})\n",
              "\n",
              "      for await (const message of channel.messages) {\n",
              "        // Send a message to notify the kernel that we're ready.\n",
              "        channel.send({})\n",
              "        if (message.buffers) {\n",
              "          for (const buffer of message.buffers) {\n",
              "            buffers.push(buffer);\n",
              "            downloaded += buffer.byteLength;\n",
              "            progress.value = downloaded;\n",
              "          }\n",
              "        }\n",
              "      }\n",
              "      const blob = new Blob(buffers, {type: 'application/binary'});\n",
              "      const a = document.createElement('a');\n",
              "      a.href = window.URL.createObjectURL(blob);\n",
              "      a.download = filename;\n",
              "      div.appendChild(a);\n",
              "      a.click();\n",
              "      div.remove();\n",
              "    }\n",
              "  "
            ]
          },
          "metadata": {}
        },
        {
          "output_type": "display_data",
          "data": {
            "text/plain": [
              "<IPython.core.display.Javascript object>"
            ],
            "application/javascript": [
              "download(\"download_98a585df-8a33-4e27-86f0-0483b09a5bae\", \"checkpoint_epoch_10.pth\", 9797038)"
            ]
          },
          "metadata": {}
        },
        {
          "output_type": "stream",
          "name": "stdout",
          "text": [
            "Epoch 10/150, Train Acc: 27.12%, Test Acc: 30.47%\n",
            "Epoch 10/150, Train Loss: 2.9393, Test Loss: 2.8085\n",
            "Epoch 11/150, Train Acc: 28.55%, Test Acc: 30.89%\n",
            "Epoch 11/150, Train Loss: 2.8731, Test Loss: 2.7787\n",
            "Epoch 12/150, Train Acc: 30.04%, Test Acc: 32.15%\n",
            "Epoch 12/150, Train Loss: 2.8070, Test Loss: 2.7040\n",
            "Epoch 13/150, Train Acc: 31.13%, Test Acc: 33.80%\n",
            "Epoch 13/150, Train Loss: 2.7450, Test Loss: 2.6271\n",
            "Epoch 14/150, Train Acc: 32.10%, Test Acc: 34.17%\n",
            "Epoch 14/150, Train Loss: 2.6968, Test Loss: 2.6021\n",
            "Epoch 15/150, Train Acc: 33.15%, Test Acc: 35.00%\n",
            "Epoch 15/150, Train Loss: 2.6387, Test Loss: 2.5580\n",
            "Epoch 16/150, Train Acc: 33.92%, Test Acc: 36.04%\n",
            "Epoch 16/150, Train Loss: 2.6031, Test Loss: 2.5253\n",
            "Epoch 17/150, Train Acc: 34.95%, Test Acc: 37.09%\n",
            "Epoch 17/150, Train Loss: 2.5634, Test Loss: 2.4801\n",
            "Epoch 18/150, Train Acc: 35.77%, Test Acc: 37.47%\n",
            "Epoch 18/150, Train Loss: 2.5247, Test Loss: 2.4535\n",
            "Epoch 19/150, Train Acc: 36.46%, Test Acc: 38.18%\n",
            "Epoch 19/150, Train Loss: 2.4879, Test Loss: 2.4305\n",
            "Checkpoint saved at epoch 20: ./checkpoint_epoch_20.pth\n"
          ]
        },
        {
          "output_type": "display_data",
          "data": {
            "text/plain": [
              "<IPython.core.display.Javascript object>"
            ],
            "application/javascript": [
              "\n",
              "    async function download(id, filename, size) {\n",
              "      if (!google.colab.kernel.accessAllowed) {\n",
              "        return;\n",
              "      }\n",
              "      const div = document.createElement('div');\n",
              "      const label = document.createElement('label');\n",
              "      label.textContent = `Downloading \"${filename}\": `;\n",
              "      div.appendChild(label);\n",
              "      const progress = document.createElement('progress');\n",
              "      progress.max = size;\n",
              "      div.appendChild(progress);\n",
              "      document.body.appendChild(div);\n",
              "\n",
              "      const buffers = [];\n",
              "      let downloaded = 0;\n",
              "\n",
              "      const channel = await google.colab.kernel.comms.open(id);\n",
              "      // Send a message to notify the kernel that we're ready.\n",
              "      channel.send({})\n",
              "\n",
              "      for await (const message of channel.messages) {\n",
              "        // Send a message to notify the kernel that we're ready.\n",
              "        channel.send({})\n",
              "        if (message.buffers) {\n",
              "          for (const buffer of message.buffers) {\n",
              "            buffers.push(buffer);\n",
              "            downloaded += buffer.byteLength;\n",
              "            progress.value = downloaded;\n",
              "          }\n",
              "        }\n",
              "      }\n",
              "      const blob = new Blob(buffers, {type: 'application/binary'});\n",
              "      const a = document.createElement('a');\n",
              "      a.href = window.URL.createObjectURL(blob);\n",
              "      a.download = filename;\n",
              "      div.appendChild(a);\n",
              "      a.click();\n",
              "      div.remove();\n",
              "    }\n",
              "  "
            ]
          },
          "metadata": {}
        },
        {
          "output_type": "display_data",
          "data": {
            "text/plain": [
              "<IPython.core.display.Javascript object>"
            ],
            "application/javascript": [
              "download(\"download_de72c39b-6c0e-45b8-9fea-bf3d39755ba0\", \"checkpoint_epoch_20.pth\", 9797038)"
            ]
          },
          "metadata": {}
        },
        {
          "output_type": "stream",
          "name": "stdout",
          "text": [
            "Epoch 20/150, Train Acc: 36.79%, Test Acc: 38.74%\n",
            "Epoch 20/150, Train Loss: 2.4670, Test Loss: 2.3955\n",
            "Epoch 21/150, Train Acc: 37.55%, Test Acc: 38.81%\n",
            "Epoch 21/150, Train Loss: 2.4313, Test Loss: 2.3859\n",
            "Epoch 22/150, Train Acc: 37.88%, Test Acc: 39.59%\n",
            "Epoch 22/150, Train Loss: 2.4058, Test Loss: 2.3439\n",
            "Epoch 23/150, Train Acc: 38.53%, Test Acc: 39.56%\n",
            "Epoch 23/150, Train Loss: 2.3774, Test Loss: 2.3457\n",
            "Epoch 24/150, Train Acc: 39.11%, Test Acc: 40.15%\n",
            "Epoch 24/150, Train Loss: 2.3497, Test Loss: 2.3180\n",
            "Epoch 25/150, Train Acc: 39.88%, Test Acc: 40.07%\n",
            "Epoch 25/150, Train Loss: 2.3322, Test Loss: 2.3286\n",
            "Epoch 26/150, Train Acc: 40.30%, Test Acc: 40.88%\n",
            "Epoch 26/150, Train Loss: 2.3023, Test Loss: 2.2865\n",
            "Epoch 27/150, Train Acc: 40.78%, Test Acc: 41.24%\n",
            "Epoch 27/150, Train Loss: 2.2816, Test Loss: 2.2903\n",
            "Epoch 28/150, Train Acc: 41.36%, Test Acc: 41.57%\n",
            "Epoch 28/150, Train Loss: 2.2577, Test Loss: 2.2559\n",
            "Epoch 29/150, Train Acc: 41.92%, Test Acc: 41.86%\n",
            "Epoch 29/150, Train Loss: 2.2433, Test Loss: 2.2481\n",
            "Checkpoint saved at epoch 30: ./checkpoint_epoch_30.pth\n"
          ]
        },
        {
          "output_type": "display_data",
          "data": {
            "text/plain": [
              "<IPython.core.display.Javascript object>"
            ],
            "application/javascript": [
              "\n",
              "    async function download(id, filename, size) {\n",
              "      if (!google.colab.kernel.accessAllowed) {\n",
              "        return;\n",
              "      }\n",
              "      const div = document.createElement('div');\n",
              "      const label = document.createElement('label');\n",
              "      label.textContent = `Downloading \"${filename}\": `;\n",
              "      div.appendChild(label);\n",
              "      const progress = document.createElement('progress');\n",
              "      progress.max = size;\n",
              "      div.appendChild(progress);\n",
              "      document.body.appendChild(div);\n",
              "\n",
              "      const buffers = [];\n",
              "      let downloaded = 0;\n",
              "\n",
              "      const channel = await google.colab.kernel.comms.open(id);\n",
              "      // Send a message to notify the kernel that we're ready.\n",
              "      channel.send({})\n",
              "\n",
              "      for await (const message of channel.messages) {\n",
              "        // Send a message to notify the kernel that we're ready.\n",
              "        channel.send({})\n",
              "        if (message.buffers) {\n",
              "          for (const buffer of message.buffers) {\n",
              "            buffers.push(buffer);\n",
              "            downloaded += buffer.byteLength;\n",
              "            progress.value = downloaded;\n",
              "          }\n",
              "        }\n",
              "      }\n",
              "      const blob = new Blob(buffers, {type: 'application/binary'});\n",
              "      const a = document.createElement('a');\n",
              "      a.href = window.URL.createObjectURL(blob);\n",
              "      a.download = filename;\n",
              "      div.appendChild(a);\n",
              "      a.click();\n",
              "      div.remove();\n",
              "    }\n",
              "  "
            ]
          },
          "metadata": {}
        },
        {
          "output_type": "display_data",
          "data": {
            "text/plain": [
              "<IPython.core.display.Javascript object>"
            ],
            "application/javascript": [
              "download(\"download_b3b47487-c7c5-49bd-bd2d-21f8087fc034\", \"checkpoint_epoch_30.pth\", 9797038)"
            ]
          },
          "metadata": {}
        },
        {
          "output_type": "stream",
          "name": "stdout",
          "text": [
            "Epoch 30/150, Train Acc: 41.80%, Test Acc: 41.88%\n",
            "Epoch 30/150, Train Loss: 2.2274, Test Loss: 2.2301\n",
            "Epoch 31/150, Train Acc: 42.40%, Test Acc: 42.74%\n",
            "Epoch 31/150, Train Loss: 2.2049, Test Loss: 2.2181\n",
            "Epoch 32/150, Train Acc: 43.00%, Test Acc: 42.74%\n",
            "Epoch 32/150, Train Loss: 2.1831, Test Loss: 2.1922\n",
            "Epoch 33/150, Train Acc: 43.20%, Test Acc: 42.31%\n",
            "Epoch 33/150, Train Loss: 2.1615, Test Loss: 2.2170\n",
            "Epoch 34/150, Train Acc: 43.82%, Test Acc: 43.60%\n",
            "Epoch 34/150, Train Loss: 2.1479, Test Loss: 2.1667\n",
            "Epoch 35/150, Train Acc: 43.92%, Test Acc: 43.50%\n",
            "Epoch 35/150, Train Loss: 2.1372, Test Loss: 2.1724\n",
            "Epoch 36/150, Train Acc: 44.37%, Test Acc: 43.47%\n",
            "Epoch 36/150, Train Loss: 2.1216, Test Loss: 2.1675\n",
            "Epoch 37/150, Train Acc: 44.85%, Test Acc: 43.85%\n",
            "Epoch 37/150, Train Loss: 2.0979, Test Loss: 2.1622\n",
            "Epoch 38/150, Train Acc: 44.85%, Test Acc: 43.83%\n",
            "Epoch 38/150, Train Loss: 2.0921, Test Loss: 2.1585\n",
            "Epoch 39/150, Train Acc: 45.50%, Test Acc: 43.78%\n",
            "Epoch 39/150, Train Loss: 2.0719, Test Loss: 2.1510\n",
            "Checkpoint saved at epoch 40: ./checkpoint_epoch_40.pth\n"
          ]
        },
        {
          "output_type": "display_data",
          "data": {
            "text/plain": [
              "<IPython.core.display.Javascript object>"
            ],
            "application/javascript": [
              "\n",
              "    async function download(id, filename, size) {\n",
              "      if (!google.colab.kernel.accessAllowed) {\n",
              "        return;\n",
              "      }\n",
              "      const div = document.createElement('div');\n",
              "      const label = document.createElement('label');\n",
              "      label.textContent = `Downloading \"${filename}\": `;\n",
              "      div.appendChild(label);\n",
              "      const progress = document.createElement('progress');\n",
              "      progress.max = size;\n",
              "      div.appendChild(progress);\n",
              "      document.body.appendChild(div);\n",
              "\n",
              "      const buffers = [];\n",
              "      let downloaded = 0;\n",
              "\n",
              "      const channel = await google.colab.kernel.comms.open(id);\n",
              "      // Send a message to notify the kernel that we're ready.\n",
              "      channel.send({})\n",
              "\n",
              "      for await (const message of channel.messages) {\n",
              "        // Send a message to notify the kernel that we're ready.\n",
              "        channel.send({})\n",
              "        if (message.buffers) {\n",
              "          for (const buffer of message.buffers) {\n",
              "            buffers.push(buffer);\n",
              "            downloaded += buffer.byteLength;\n",
              "            progress.value = downloaded;\n",
              "          }\n",
              "        }\n",
              "      }\n",
              "      const blob = new Blob(buffers, {type: 'application/binary'});\n",
              "      const a = document.createElement('a');\n",
              "      a.href = window.URL.createObjectURL(blob);\n",
              "      a.download = filename;\n",
              "      div.appendChild(a);\n",
              "      a.click();\n",
              "      div.remove();\n",
              "    }\n",
              "  "
            ]
          },
          "metadata": {}
        },
        {
          "output_type": "display_data",
          "data": {
            "text/plain": [
              "<IPython.core.display.Javascript object>"
            ],
            "application/javascript": [
              "download(\"download_84a5da94-a914-468a-8786-cf59fe07fdb0\", \"checkpoint_epoch_40.pth\", 9797038)"
            ]
          },
          "metadata": {}
        },
        {
          "output_type": "stream",
          "name": "stdout",
          "text": [
            "Epoch 40/150, Train Acc: 45.69%, Test Acc: 44.79%\n",
            "Epoch 40/150, Train Loss: 2.0625, Test Loss: 2.1340\n",
            "Epoch 41/150, Train Acc: 46.03%, Test Acc: 44.44%\n",
            "Epoch 41/150, Train Loss: 2.0408, Test Loss: 2.1465\n",
            "Epoch 42/150, Train Acc: 46.23%, Test Acc: 45.48%\n",
            "Epoch 42/150, Train Loss: 2.0298, Test Loss: 2.1183\n",
            "Epoch 43/150, Train Acc: 46.39%, Test Acc: 44.88%\n",
            "Epoch 43/150, Train Loss: 2.0205, Test Loss: 2.1059\n",
            "Epoch 44/150, Train Acc: 46.78%, Test Acc: 45.44%\n",
            "Epoch 44/150, Train Loss: 2.0036, Test Loss: 2.1108\n",
            "Epoch 45/150, Train Acc: 47.16%, Test Acc: 45.27%\n",
            "Epoch 45/150, Train Loss: 1.9884, Test Loss: 2.1087\n",
            "Epoch 46/150, Train Acc: 47.40%, Test Acc: 44.80%\n",
            "Epoch 46/150, Train Loss: 1.9755, Test Loss: 2.1130\n",
            "Epoch 47/150, Train Acc: 47.54%, Test Acc: 45.50%\n",
            "Epoch 47/150, Train Loss: 1.9681, Test Loss: 2.0889\n",
            "Epoch 48/150, Train Acc: 47.90%, Test Acc: 45.91%\n",
            "Epoch 48/150, Train Loss: 1.9643, Test Loss: 2.0944\n",
            "Epoch 49/150, Train Acc: 48.03%, Test Acc: 46.05%\n",
            "Epoch 49/150, Train Loss: 1.9519, Test Loss: 2.0668\n",
            "Checkpoint saved at epoch 50: ./checkpoint_epoch_50.pth\n"
          ]
        },
        {
          "output_type": "display_data",
          "data": {
            "text/plain": [
              "<IPython.core.display.Javascript object>"
            ],
            "application/javascript": [
              "\n",
              "    async function download(id, filename, size) {\n",
              "      if (!google.colab.kernel.accessAllowed) {\n",
              "        return;\n",
              "      }\n",
              "      const div = document.createElement('div');\n",
              "      const label = document.createElement('label');\n",
              "      label.textContent = `Downloading \"${filename}\": `;\n",
              "      div.appendChild(label);\n",
              "      const progress = document.createElement('progress');\n",
              "      progress.max = size;\n",
              "      div.appendChild(progress);\n",
              "      document.body.appendChild(div);\n",
              "\n",
              "      const buffers = [];\n",
              "      let downloaded = 0;\n",
              "\n",
              "      const channel = await google.colab.kernel.comms.open(id);\n",
              "      // Send a message to notify the kernel that we're ready.\n",
              "      channel.send({})\n",
              "\n",
              "      for await (const message of channel.messages) {\n",
              "        // Send a message to notify the kernel that we're ready.\n",
              "        channel.send({})\n",
              "        if (message.buffers) {\n",
              "          for (const buffer of message.buffers) {\n",
              "            buffers.push(buffer);\n",
              "            downloaded += buffer.byteLength;\n",
              "            progress.value = downloaded;\n",
              "          }\n",
              "        }\n",
              "      }\n",
              "      const blob = new Blob(buffers, {type: 'application/binary'});\n",
              "      const a = document.createElement('a');\n",
              "      a.href = window.URL.createObjectURL(blob);\n",
              "      a.download = filename;\n",
              "      div.appendChild(a);\n",
              "      a.click();\n",
              "      div.remove();\n",
              "    }\n",
              "  "
            ]
          },
          "metadata": {}
        },
        {
          "output_type": "display_data",
          "data": {
            "text/plain": [
              "<IPython.core.display.Javascript object>"
            ],
            "application/javascript": [
              "download(\"download_91f3e3bb-fe7b-4252-9290-8e4703b70384\", \"checkpoint_epoch_50.pth\", 9797038)"
            ]
          },
          "metadata": {}
        },
        {
          "output_type": "stream",
          "name": "stdout",
          "text": [
            "Epoch 50/150, Train Acc: 48.38%, Test Acc: 46.28%\n",
            "Epoch 50/150, Train Loss: 1.9347, Test Loss: 2.0718\n",
            "Epoch 51/150, Train Acc: 48.64%, Test Acc: 45.82%\n",
            "Epoch 51/150, Train Loss: 1.9234, Test Loss: 2.0667\n",
            "Epoch 52/150, Train Acc: 48.90%, Test Acc: 46.64%\n",
            "Epoch 52/150, Train Loss: 1.9167, Test Loss: 2.0618\n",
            "Epoch 53/150, Train Acc: 49.20%, Test Acc: 47.02%\n",
            "Epoch 53/150, Train Loss: 1.9033, Test Loss: 2.0490\n",
            "Epoch 54/150, Train Acc: 49.67%, Test Acc: 46.91%\n",
            "Epoch 54/150, Train Loss: 1.8915, Test Loss: 2.0323\n",
            "Epoch 55/150, Train Acc: 49.66%, Test Acc: 47.04%\n",
            "Epoch 55/150, Train Loss: 1.8827, Test Loss: 2.0357\n",
            "Epoch 56/150, Train Acc: 49.77%, Test Acc: 46.51%\n",
            "Epoch 56/150, Train Loss: 1.8725, Test Loss: 2.0385\n",
            "Epoch 57/150, Train Acc: 50.02%, Test Acc: 46.98%\n",
            "Epoch 57/150, Train Loss: 1.8645, Test Loss: 2.0317\n",
            "Epoch 58/150, Train Acc: 50.41%, Test Acc: 47.15%\n",
            "Epoch 58/150, Train Loss: 1.8512, Test Loss: 2.0332\n",
            "Epoch 59/150, Train Acc: 50.48%, Test Acc: 47.04%\n",
            "Epoch 59/150, Train Loss: 1.8405, Test Loss: 2.0298\n",
            "Checkpoint saved at epoch 60: ./checkpoint_epoch_60.pth\n"
          ]
        },
        {
          "output_type": "display_data",
          "data": {
            "text/plain": [
              "<IPython.core.display.Javascript object>"
            ],
            "application/javascript": [
              "\n",
              "    async function download(id, filename, size) {\n",
              "      if (!google.colab.kernel.accessAllowed) {\n",
              "        return;\n",
              "      }\n",
              "      const div = document.createElement('div');\n",
              "      const label = document.createElement('label');\n",
              "      label.textContent = `Downloading \"${filename}\": `;\n",
              "      div.appendChild(label);\n",
              "      const progress = document.createElement('progress');\n",
              "      progress.max = size;\n",
              "      div.appendChild(progress);\n",
              "      document.body.appendChild(div);\n",
              "\n",
              "      const buffers = [];\n",
              "      let downloaded = 0;\n",
              "\n",
              "      const channel = await google.colab.kernel.comms.open(id);\n",
              "      // Send a message to notify the kernel that we're ready.\n",
              "      channel.send({})\n",
              "\n",
              "      for await (const message of channel.messages) {\n",
              "        // Send a message to notify the kernel that we're ready.\n",
              "        channel.send({})\n",
              "        if (message.buffers) {\n",
              "          for (const buffer of message.buffers) {\n",
              "            buffers.push(buffer);\n",
              "            downloaded += buffer.byteLength;\n",
              "            progress.value = downloaded;\n",
              "          }\n",
              "        }\n",
              "      }\n",
              "      const blob = new Blob(buffers, {type: 'application/binary'});\n",
              "      const a = document.createElement('a');\n",
              "      a.href = window.URL.createObjectURL(blob);\n",
              "      a.download = filename;\n",
              "      div.appendChild(a);\n",
              "      a.click();\n",
              "      div.remove();\n",
              "    }\n",
              "  "
            ]
          },
          "metadata": {}
        },
        {
          "output_type": "display_data",
          "data": {
            "text/plain": [
              "<IPython.core.display.Javascript object>"
            ],
            "application/javascript": [
              "download(\"download_26de2349-0cd3-4746-a5de-10e9d7589359\", \"checkpoint_epoch_60.pth\", 9797038)"
            ]
          },
          "metadata": {}
        },
        {
          "output_type": "stream",
          "name": "stdout",
          "text": [
            "Epoch 60/150, Train Acc: 50.91%, Test Acc: 47.38%\n",
            "Epoch 60/150, Train Loss: 1.8312, Test Loss: 2.0300\n",
            "Epoch 61/150, Train Acc: 50.89%, Test Acc: 46.96%\n",
            "Epoch 61/150, Train Loss: 1.8226, Test Loss: 2.0254\n",
            "Epoch 62/150, Train Acc: 51.10%, Test Acc: 47.95%\n",
            "Epoch 62/150, Train Loss: 1.8151, Test Loss: 2.0168\n",
            "Epoch 63/150, Train Acc: 51.17%, Test Acc: 47.48%\n",
            "Epoch 63/150, Train Loss: 1.8127, Test Loss: 2.0191\n",
            "Epoch 64/150, Train Acc: 51.48%, Test Acc: 47.87%\n",
            "Epoch 64/150, Train Loss: 1.7992, Test Loss: 2.0090\n",
            "Epoch 65/150, Train Acc: 51.66%, Test Acc: 47.36%\n",
            "Epoch 65/150, Train Loss: 1.7908, Test Loss: 2.0184\n",
            "Epoch 66/150, Train Acc: 52.01%, Test Acc: 47.86%\n",
            "Epoch 66/150, Train Loss: 1.7808, Test Loss: 2.0137\n",
            "Epoch 67/150, Train Acc: 51.91%, Test Acc: 47.57%\n",
            "Epoch 67/150, Train Loss: 1.7788, Test Loss: 2.0154\n",
            "Epoch 68/150, Train Acc: 52.29%, Test Acc: 47.81%\n",
            "Epoch 68/150, Train Loss: 1.7679, Test Loss: 2.0078\n",
            "Epoch 69/150, Train Acc: 52.47%, Test Acc: 48.59%\n",
            "Epoch 69/150, Train Loss: 1.7605, Test Loss: 1.9981\n",
            "Checkpoint saved at epoch 70: ./checkpoint_epoch_70.pth\n"
          ]
        },
        {
          "output_type": "display_data",
          "data": {
            "text/plain": [
              "<IPython.core.display.Javascript object>"
            ],
            "application/javascript": [
              "\n",
              "    async function download(id, filename, size) {\n",
              "      if (!google.colab.kernel.accessAllowed) {\n",
              "        return;\n",
              "      }\n",
              "      const div = document.createElement('div');\n",
              "      const label = document.createElement('label');\n",
              "      label.textContent = `Downloading \"${filename}\": `;\n",
              "      div.appendChild(label);\n",
              "      const progress = document.createElement('progress');\n",
              "      progress.max = size;\n",
              "      div.appendChild(progress);\n",
              "      document.body.appendChild(div);\n",
              "\n",
              "      const buffers = [];\n",
              "      let downloaded = 0;\n",
              "\n",
              "      const channel = await google.colab.kernel.comms.open(id);\n",
              "      // Send a message to notify the kernel that we're ready.\n",
              "      channel.send({})\n",
              "\n",
              "      for await (const message of channel.messages) {\n",
              "        // Send a message to notify the kernel that we're ready.\n",
              "        channel.send({})\n",
              "        if (message.buffers) {\n",
              "          for (const buffer of message.buffers) {\n",
              "            buffers.push(buffer);\n",
              "            downloaded += buffer.byteLength;\n",
              "            progress.value = downloaded;\n",
              "          }\n",
              "        }\n",
              "      }\n",
              "      const blob = new Blob(buffers, {type: 'application/binary'});\n",
              "      const a = document.createElement('a');\n",
              "      a.href = window.URL.createObjectURL(blob);\n",
              "      a.download = filename;\n",
              "      div.appendChild(a);\n",
              "      a.click();\n",
              "      div.remove();\n",
              "    }\n",
              "  "
            ]
          },
          "metadata": {}
        },
        {
          "output_type": "display_data",
          "data": {
            "text/plain": [
              "<IPython.core.display.Javascript object>"
            ],
            "application/javascript": [
              "download(\"download_9fd4a9c0-1a70-48cb-a12c-fd9c09cd680d\", \"checkpoint_epoch_70.pth\", 9797038)"
            ]
          },
          "metadata": {}
        },
        {
          "output_type": "stream",
          "name": "stdout",
          "text": [
            "Epoch 70/150, Train Acc: 52.79%, Test Acc: 48.21%\n",
            "Epoch 70/150, Train Loss: 1.7515, Test Loss: 2.0074\n",
            "Epoch 71/150, Train Acc: 52.66%, Test Acc: 47.89%\n",
            "Epoch 71/150, Train Loss: 1.7487, Test Loss: 2.0024\n",
            "Epoch 72/150, Train Acc: 52.94%, Test Acc: 47.99%\n",
            "Epoch 72/150, Train Loss: 1.7418, Test Loss: 2.0004\n",
            "Epoch 73/150, Train Acc: 53.27%, Test Acc: 48.49%\n",
            "Epoch 73/150, Train Loss: 1.7335, Test Loss: 1.9938\n",
            "Epoch 74/150, Train Acc: 53.30%, Test Acc: 48.06%\n",
            "Epoch 74/150, Train Loss: 1.7221, Test Loss: 2.0017\n",
            "Epoch 75/150, Train Acc: 53.48%, Test Acc: 47.87%\n",
            "Epoch 75/150, Train Loss: 1.7191, Test Loss: 2.0103\n",
            "Epoch 76/150, Train Acc: 53.60%, Test Acc: 48.23%\n",
            "Epoch 76/150, Train Loss: 1.7117, Test Loss: 1.9966\n",
            "Epoch 77/150, Train Acc: 53.73%, Test Acc: 48.05%\n",
            "Epoch 77/150, Train Loss: 1.7109, Test Loss: 2.0011\n",
            "Epoch 78/150, Train Acc: 53.62%, Test Acc: 48.32%\n",
            "Epoch 78/150, Train Loss: 1.7021, Test Loss: 1.9874\n",
            "Epoch 79/150, Train Acc: 53.96%, Test Acc: 48.95%\n",
            "Epoch 79/150, Train Loss: 1.6910, Test Loss: 1.9822\n",
            "Checkpoint saved at epoch 80: ./checkpoint_epoch_80.pth\n"
          ]
        },
        {
          "output_type": "display_data",
          "data": {
            "text/plain": [
              "<IPython.core.display.Javascript object>"
            ],
            "application/javascript": [
              "\n",
              "    async function download(id, filename, size) {\n",
              "      if (!google.colab.kernel.accessAllowed) {\n",
              "        return;\n",
              "      }\n",
              "      const div = document.createElement('div');\n",
              "      const label = document.createElement('label');\n",
              "      label.textContent = `Downloading \"${filename}\": `;\n",
              "      div.appendChild(label);\n",
              "      const progress = document.createElement('progress');\n",
              "      progress.max = size;\n",
              "      div.appendChild(progress);\n",
              "      document.body.appendChild(div);\n",
              "\n",
              "      const buffers = [];\n",
              "      let downloaded = 0;\n",
              "\n",
              "      const channel = await google.colab.kernel.comms.open(id);\n",
              "      // Send a message to notify the kernel that we're ready.\n",
              "      channel.send({})\n",
              "\n",
              "      for await (const message of channel.messages) {\n",
              "        // Send a message to notify the kernel that we're ready.\n",
              "        channel.send({})\n",
              "        if (message.buffers) {\n",
              "          for (const buffer of message.buffers) {\n",
              "            buffers.push(buffer);\n",
              "            downloaded += buffer.byteLength;\n",
              "            progress.value = downloaded;\n",
              "          }\n",
              "        }\n",
              "      }\n",
              "      const blob = new Blob(buffers, {type: 'application/binary'});\n",
              "      const a = document.createElement('a');\n",
              "      a.href = window.URL.createObjectURL(blob);\n",
              "      a.download = filename;\n",
              "      div.appendChild(a);\n",
              "      a.click();\n",
              "      div.remove();\n",
              "    }\n",
              "  "
            ]
          },
          "metadata": {}
        },
        {
          "output_type": "display_data",
          "data": {
            "text/plain": [
              "<IPython.core.display.Javascript object>"
            ],
            "application/javascript": [
              "download(\"download_77220911-e392-4f97-9c11-ed3ea17c1eb9\", \"checkpoint_epoch_80.pth\", 9797038)"
            ]
          },
          "metadata": {}
        },
        {
          "output_type": "stream",
          "name": "stdout",
          "text": [
            "Epoch 80/150, Train Acc: 54.21%, Test Acc: 48.53%\n",
            "Epoch 80/150, Train Loss: 1.6858, Test Loss: 1.9903\n",
            "Epoch 81/150, Train Acc: 54.18%, Test Acc: 48.43%\n",
            "Epoch 81/150, Train Loss: 1.6860, Test Loss: 1.9904\n",
            "Epoch 82/150, Train Acc: 54.64%, Test Acc: 48.18%\n",
            "Epoch 82/150, Train Loss: 1.6678, Test Loss: 1.9883\n",
            "Epoch 83/150, Train Acc: 54.67%, Test Acc: 48.76%\n",
            "Epoch 83/150, Train Loss: 1.6697, Test Loss: 1.9866\n",
            "Epoch 84/150, Train Acc: 54.59%, Test Acc: 48.57%\n",
            "Epoch 84/150, Train Loss: 1.6657, Test Loss: 1.9919\n",
            "Epoch 85/150, Train Acc: 54.68%, Test Acc: 48.53%\n",
            "Epoch 85/150, Train Loss: 1.6628, Test Loss: 1.9834\n",
            "Epoch 86/150, Train Acc: 54.98%, Test Acc: 49.01%\n",
            "Epoch 86/150, Train Loss: 1.6547, Test Loss: 1.9824\n",
            "Epoch 87/150, Train Acc: 55.28%, Test Acc: 48.87%\n",
            "Epoch 87/150, Train Loss: 1.6412, Test Loss: 1.9813\n",
            "Epoch 88/150, Train Acc: 55.16%, Test Acc: 48.61%\n",
            "Epoch 88/150, Train Loss: 1.6421, Test Loss: 1.9883\n",
            "Epoch 89/150, Train Acc: 55.44%, Test Acc: 49.11%\n",
            "Epoch 89/150, Train Loss: 1.6360, Test Loss: 1.9731\n",
            "Checkpoint saved at epoch 90: ./checkpoint_epoch_90.pth\n"
          ]
        },
        {
          "output_type": "display_data",
          "data": {
            "text/plain": [
              "<IPython.core.display.Javascript object>"
            ],
            "application/javascript": [
              "\n",
              "    async function download(id, filename, size) {\n",
              "      if (!google.colab.kernel.accessAllowed) {\n",
              "        return;\n",
              "      }\n",
              "      const div = document.createElement('div');\n",
              "      const label = document.createElement('label');\n",
              "      label.textContent = `Downloading \"${filename}\": `;\n",
              "      div.appendChild(label);\n",
              "      const progress = document.createElement('progress');\n",
              "      progress.max = size;\n",
              "      div.appendChild(progress);\n",
              "      document.body.appendChild(div);\n",
              "\n",
              "      const buffers = [];\n",
              "      let downloaded = 0;\n",
              "\n",
              "      const channel = await google.colab.kernel.comms.open(id);\n",
              "      // Send a message to notify the kernel that we're ready.\n",
              "      channel.send({})\n",
              "\n",
              "      for await (const message of channel.messages) {\n",
              "        // Send a message to notify the kernel that we're ready.\n",
              "        channel.send({})\n",
              "        if (message.buffers) {\n",
              "          for (const buffer of message.buffers) {\n",
              "            buffers.push(buffer);\n",
              "            downloaded += buffer.byteLength;\n",
              "            progress.value = downloaded;\n",
              "          }\n",
              "        }\n",
              "      }\n",
              "      const blob = new Blob(buffers, {type: 'application/binary'});\n",
              "      const a = document.createElement('a');\n",
              "      a.href = window.URL.createObjectURL(blob);\n",
              "      a.download = filename;\n",
              "      div.appendChild(a);\n",
              "      a.click();\n",
              "      div.remove();\n",
              "    }\n",
              "  "
            ]
          },
          "metadata": {}
        },
        {
          "output_type": "display_data",
          "data": {
            "text/plain": [
              "<IPython.core.display.Javascript object>"
            ],
            "application/javascript": [
              "download(\"download_f6e0da94-0cf5-43bc-82c7-d0d1195a7230\", \"checkpoint_epoch_90.pth\", 9797038)"
            ]
          },
          "metadata": {}
        },
        {
          "output_type": "stream",
          "name": "stdout",
          "text": [
            "Epoch 90/150, Train Acc: 55.88%, Test Acc: 48.95%\n",
            "Epoch 90/150, Train Loss: 1.6278, Test Loss: 1.9771\n",
            "Epoch 91/150, Train Acc: 55.78%, Test Acc: 48.82%\n",
            "Epoch 91/150, Train Loss: 1.6221, Test Loss: 1.9753\n",
            "Epoch 92/150, Train Acc: 55.85%, Test Acc: 49.17%\n",
            "Epoch 92/150, Train Loss: 1.6150, Test Loss: 1.9789\n",
            "Epoch 93/150, Train Acc: 55.93%, Test Acc: 49.12%\n",
            "Epoch 93/150, Train Loss: 1.6148, Test Loss: 1.9661\n",
            "Epoch 94/150, Train Acc: 55.97%, Test Acc: 49.05%\n",
            "Epoch 94/150, Train Loss: 1.6114, Test Loss: 1.9743\n",
            "Epoch 95/150, Train Acc: 56.09%, Test Acc: 48.79%\n",
            "Epoch 95/150, Train Loss: 1.6043, Test Loss: 1.9663\n",
            "Epoch 96/150, Train Acc: 56.37%, Test Acc: 49.23%\n",
            "Epoch 96/150, Train Loss: 1.6001, Test Loss: 1.9817\n",
            "Epoch 97/150, Train Acc: 56.51%, Test Acc: 49.15%\n",
            "Epoch 97/150, Train Loss: 1.6002, Test Loss: 1.9652\n",
            "Epoch 98/150, Train Acc: 56.40%, Test Acc: 49.03%\n",
            "Epoch 98/150, Train Loss: 1.5892, Test Loss: 1.9700\n",
            "Epoch 99/150, Train Acc: 56.64%, Test Acc: 49.06%\n",
            "Epoch 99/150, Train Loss: 1.5832, Test Loss: 1.9595\n",
            "Checkpoint saved at epoch 100: ./checkpoint_epoch_100.pth\n"
          ]
        },
        {
          "output_type": "display_data",
          "data": {
            "text/plain": [
              "<IPython.core.display.Javascript object>"
            ],
            "application/javascript": [
              "\n",
              "    async function download(id, filename, size) {\n",
              "      if (!google.colab.kernel.accessAllowed) {\n",
              "        return;\n",
              "      }\n",
              "      const div = document.createElement('div');\n",
              "      const label = document.createElement('label');\n",
              "      label.textContent = `Downloading \"${filename}\": `;\n",
              "      div.appendChild(label);\n",
              "      const progress = document.createElement('progress');\n",
              "      progress.max = size;\n",
              "      div.appendChild(progress);\n",
              "      document.body.appendChild(div);\n",
              "\n",
              "      const buffers = [];\n",
              "      let downloaded = 0;\n",
              "\n",
              "      const channel = await google.colab.kernel.comms.open(id);\n",
              "      // Send a message to notify the kernel that we're ready.\n",
              "      channel.send({})\n",
              "\n",
              "      for await (const message of channel.messages) {\n",
              "        // Send a message to notify the kernel that we're ready.\n",
              "        channel.send({})\n",
              "        if (message.buffers) {\n",
              "          for (const buffer of message.buffers) {\n",
              "            buffers.push(buffer);\n",
              "            downloaded += buffer.byteLength;\n",
              "            progress.value = downloaded;\n",
              "          }\n",
              "        }\n",
              "      }\n",
              "      const blob = new Blob(buffers, {type: 'application/binary'});\n",
              "      const a = document.createElement('a');\n",
              "      a.href = window.URL.createObjectURL(blob);\n",
              "      a.download = filename;\n",
              "      div.appendChild(a);\n",
              "      a.click();\n",
              "      div.remove();\n",
              "    }\n",
              "  "
            ]
          },
          "metadata": {}
        },
        {
          "output_type": "display_data",
          "data": {
            "text/plain": [
              "<IPython.core.display.Javascript object>"
            ],
            "application/javascript": [
              "download(\"download_dd388571-412d-41ff-a06a-dd0e5cc4066e\", \"checkpoint_epoch_100.pth\", 9797146)"
            ]
          },
          "metadata": {}
        },
        {
          "output_type": "stream",
          "name": "stdout",
          "text": [
            "Epoch 100/150, Train Acc: 56.53%, Test Acc: 49.54%\n",
            "Epoch 100/150, Train Loss: 1.5818, Test Loss: 1.9564\n",
            "Epoch 101/150, Train Acc: 56.70%, Test Acc: 49.21%\n",
            "Epoch 101/150, Train Loss: 1.5787, Test Loss: 1.9717\n",
            "Epoch 102/150, Train Acc: 57.14%, Test Acc: 49.63%\n",
            "Epoch 102/150, Train Loss: 1.5739, Test Loss: 1.9620\n",
            "Epoch 103/150, Train Acc: 57.07%, Test Acc: 49.65%\n",
            "Epoch 103/150, Train Loss: 1.5650, Test Loss: 1.9571\n",
            "Epoch 104/150, Train Acc: 57.13%, Test Acc: 49.07%\n",
            "Epoch 104/150, Train Loss: 1.5657, Test Loss: 1.9640\n",
            "Epoch 105/150, Train Acc: 57.36%, Test Acc: 49.47%\n",
            "Epoch 105/150, Train Loss: 1.5686, Test Loss: 1.9600\n",
            "Epoch 106/150, Train Acc: 57.56%, Test Acc: 49.65%\n",
            "Epoch 106/150, Train Loss: 1.5540, Test Loss: 1.9526\n",
            "Epoch 107/150, Train Acc: 57.57%, Test Acc: 49.40%\n",
            "Epoch 107/150, Train Loss: 1.5544, Test Loss: 1.9556\n",
            "Epoch 108/150, Train Acc: 57.83%, Test Acc: 49.39%\n",
            "Epoch 108/150, Train Loss: 1.5453, Test Loss: 1.9564\n",
            "Epoch 109/150, Train Acc: 57.48%, Test Acc: 49.33%\n",
            "Epoch 109/150, Train Loss: 1.5434, Test Loss: 1.9609\n",
            "Checkpoint saved at epoch 110: ./checkpoint_epoch_110.pth\n"
          ]
        },
        {
          "output_type": "display_data",
          "data": {
            "text/plain": [
              "<IPython.core.display.Javascript object>"
            ],
            "application/javascript": [
              "\n",
              "    async function download(id, filename, size) {\n",
              "      if (!google.colab.kernel.accessAllowed) {\n",
              "        return;\n",
              "      }\n",
              "      const div = document.createElement('div');\n",
              "      const label = document.createElement('label');\n",
              "      label.textContent = `Downloading \"${filename}\": `;\n",
              "      div.appendChild(label);\n",
              "      const progress = document.createElement('progress');\n",
              "      progress.max = size;\n",
              "      div.appendChild(progress);\n",
              "      document.body.appendChild(div);\n",
              "\n",
              "      const buffers = [];\n",
              "      let downloaded = 0;\n",
              "\n",
              "      const channel = await google.colab.kernel.comms.open(id);\n",
              "      // Send a message to notify the kernel that we're ready.\n",
              "      channel.send({})\n",
              "\n",
              "      for await (const message of channel.messages) {\n",
              "        // Send a message to notify the kernel that we're ready.\n",
              "        channel.send({})\n",
              "        if (message.buffers) {\n",
              "          for (const buffer of message.buffers) {\n",
              "            buffers.push(buffer);\n",
              "            downloaded += buffer.byteLength;\n",
              "            progress.value = downloaded;\n",
              "          }\n",
              "        }\n",
              "      }\n",
              "      const blob = new Blob(buffers, {type: 'application/binary'});\n",
              "      const a = document.createElement('a');\n",
              "      a.href = window.URL.createObjectURL(blob);\n",
              "      a.download = filename;\n",
              "      div.appendChild(a);\n",
              "      a.click();\n",
              "      div.remove();\n",
              "    }\n",
              "  "
            ]
          },
          "metadata": {}
        },
        {
          "output_type": "display_data",
          "data": {
            "text/plain": [
              "<IPython.core.display.Javascript object>"
            ],
            "application/javascript": [
              "download(\"download_af6a997e-4568-432b-9dfc-f3a8b03c1126\", \"checkpoint_epoch_110.pth\", 9797146)"
            ]
          },
          "metadata": {}
        },
        {
          "output_type": "stream",
          "name": "stdout",
          "text": [
            "Epoch 110/150, Train Acc: 57.77%, Test Acc: 49.32%\n",
            "Epoch 110/150, Train Loss: 1.5394, Test Loss: 1.9666\n",
            "Epoch 111/150, Train Acc: 57.84%, Test Acc: 49.77%\n",
            "Epoch 111/150, Train Loss: 1.5392, Test Loss: 1.9568\n",
            "Epoch 112/150, Train Acc: 58.09%, Test Acc: 49.66%\n",
            "Epoch 112/150, Train Loss: 1.5304, Test Loss: 1.9598\n",
            "Epoch 113/150, Train Acc: 58.02%, Test Acc: 49.70%\n",
            "Epoch 113/150, Train Loss: 1.5297, Test Loss: 1.9553\n",
            "Epoch 114/150, Train Acc: 58.08%, Test Acc: 49.30%\n",
            "Epoch 114/150, Train Loss: 1.5257, Test Loss: 1.9548\n",
            "Epoch 115/150, Train Acc: 58.19%, Test Acc: 49.60%\n",
            "Epoch 115/150, Train Loss: 1.5218, Test Loss: 1.9508\n",
            "Epoch 116/150, Train Acc: 58.17%, Test Acc: 49.63%\n",
            "Epoch 116/150, Train Loss: 1.5200, Test Loss: 1.9492\n",
            "Epoch 117/150, Train Acc: 58.35%, Test Acc: 49.75%\n",
            "Epoch 117/150, Train Loss: 1.5106, Test Loss: 1.9496\n",
            "Epoch 118/150, Train Acc: 58.57%, Test Acc: 49.62%\n",
            "Epoch 118/150, Train Loss: 1.5113, Test Loss: 1.9512\n",
            "Epoch 119/150, Train Acc: 58.69%, Test Acc: 49.95%\n",
            "Epoch 119/150, Train Loss: 1.5078, Test Loss: 1.9527\n",
            "Checkpoint saved at epoch 120: ./checkpoint_epoch_120.pth\n"
          ]
        },
        {
          "output_type": "display_data",
          "data": {
            "text/plain": [
              "<IPython.core.display.Javascript object>"
            ],
            "application/javascript": [
              "\n",
              "    async function download(id, filename, size) {\n",
              "      if (!google.colab.kernel.accessAllowed) {\n",
              "        return;\n",
              "      }\n",
              "      const div = document.createElement('div');\n",
              "      const label = document.createElement('label');\n",
              "      label.textContent = `Downloading \"${filename}\": `;\n",
              "      div.appendChild(label);\n",
              "      const progress = document.createElement('progress');\n",
              "      progress.max = size;\n",
              "      div.appendChild(progress);\n",
              "      document.body.appendChild(div);\n",
              "\n",
              "      const buffers = [];\n",
              "      let downloaded = 0;\n",
              "\n",
              "      const channel = await google.colab.kernel.comms.open(id);\n",
              "      // Send a message to notify the kernel that we're ready.\n",
              "      channel.send({})\n",
              "\n",
              "      for await (const message of channel.messages) {\n",
              "        // Send a message to notify the kernel that we're ready.\n",
              "        channel.send({})\n",
              "        if (message.buffers) {\n",
              "          for (const buffer of message.buffers) {\n",
              "            buffers.push(buffer);\n",
              "            downloaded += buffer.byteLength;\n",
              "            progress.value = downloaded;\n",
              "          }\n",
              "        }\n",
              "      }\n",
              "      const blob = new Blob(buffers, {type: 'application/binary'});\n",
              "      const a = document.createElement('a');\n",
              "      a.href = window.URL.createObjectURL(blob);\n",
              "      a.download = filename;\n",
              "      div.appendChild(a);\n",
              "      a.click();\n",
              "      div.remove();\n",
              "    }\n",
              "  "
            ]
          },
          "metadata": {}
        },
        {
          "output_type": "display_data",
          "data": {
            "text/plain": [
              "<IPython.core.display.Javascript object>"
            ],
            "application/javascript": [
              "download(\"download_088cc961-5735-48be-9c5b-2dc79bbe83fe\", \"checkpoint_epoch_120.pth\", 9797146)"
            ]
          },
          "metadata": {}
        },
        {
          "output_type": "stream",
          "name": "stdout",
          "text": [
            "Epoch 120/150, Train Acc: 58.63%, Test Acc: 49.92%\n",
            "Epoch 120/150, Train Loss: 1.5055, Test Loss: 1.9474\n",
            "Epoch 121/150, Train Acc: 58.78%, Test Acc: 49.78%\n",
            "Epoch 121/150, Train Loss: 1.4973, Test Loss: 1.9477\n",
            "Epoch 122/150, Train Acc: 59.12%, Test Acc: 49.78%\n",
            "Epoch 122/150, Train Loss: 1.4962, Test Loss: 1.9493\n",
            "Epoch 123/150, Train Acc: 58.96%, Test Acc: 49.86%\n",
            "Epoch 123/150, Train Loss: 1.4965, Test Loss: 1.9506\n",
            "Epoch 124/150, Train Acc: 59.10%, Test Acc: 49.83%\n",
            "Epoch 124/150, Train Loss: 1.4867, Test Loss: 1.9524\n",
            "Epoch 125/150, Train Acc: 59.31%, Test Acc: 49.77%\n",
            "Epoch 125/150, Train Loss: 1.4844, Test Loss: 1.9532\n",
            "Epoch 126/150, Train Acc: 59.04%, Test Acc: 49.88%\n",
            "Epoch 126/150, Train Loss: 1.4916, Test Loss: 1.9521\n",
            "Epoch 127/150, Train Acc: 59.31%, Test Acc: 49.77%\n",
            "Epoch 127/150, Train Loss: 1.4799, Test Loss: 1.9506\n",
            "Epoch 128/150, Train Acc: 59.55%, Test Acc: 49.91%\n",
            "Epoch 128/150, Train Loss: 1.4824, Test Loss: 1.9518\n",
            "Epoch 129/150, Train Acc: 59.09%, Test Acc: 50.10%\n",
            "Epoch 129/150, Train Loss: 1.4802, Test Loss: 1.9452\n",
            "Checkpoint saved at epoch 130: ./checkpoint_epoch_130.pth\n"
          ]
        },
        {
          "output_type": "display_data",
          "data": {
            "text/plain": [
              "<IPython.core.display.Javascript object>"
            ],
            "application/javascript": [
              "\n",
              "    async function download(id, filename, size) {\n",
              "      if (!google.colab.kernel.accessAllowed) {\n",
              "        return;\n",
              "      }\n",
              "      const div = document.createElement('div');\n",
              "      const label = document.createElement('label');\n",
              "      label.textContent = `Downloading \"${filename}\": `;\n",
              "      div.appendChild(label);\n",
              "      const progress = document.createElement('progress');\n",
              "      progress.max = size;\n",
              "      div.appendChild(progress);\n",
              "      document.body.appendChild(div);\n",
              "\n",
              "      const buffers = [];\n",
              "      let downloaded = 0;\n",
              "\n",
              "      const channel = await google.colab.kernel.comms.open(id);\n",
              "      // Send a message to notify the kernel that we're ready.\n",
              "      channel.send({})\n",
              "\n",
              "      for await (const message of channel.messages) {\n",
              "        // Send a message to notify the kernel that we're ready.\n",
              "        channel.send({})\n",
              "        if (message.buffers) {\n",
              "          for (const buffer of message.buffers) {\n",
              "            buffers.push(buffer);\n",
              "            downloaded += buffer.byteLength;\n",
              "            progress.value = downloaded;\n",
              "          }\n",
              "        }\n",
              "      }\n",
              "      const blob = new Blob(buffers, {type: 'application/binary'});\n",
              "      const a = document.createElement('a');\n",
              "      a.href = window.URL.createObjectURL(blob);\n",
              "      a.download = filename;\n",
              "      div.appendChild(a);\n",
              "      a.click();\n",
              "      div.remove();\n",
              "    }\n",
              "  "
            ]
          },
          "metadata": {}
        },
        {
          "output_type": "display_data",
          "data": {
            "text/plain": [
              "<IPython.core.display.Javascript object>"
            ],
            "application/javascript": [
              "download(\"download_e3c00038-163c-49bb-be98-6b875f214d15\", \"checkpoint_epoch_130.pth\", 9797146)"
            ]
          },
          "metadata": {}
        },
        {
          "output_type": "stream",
          "name": "stdout",
          "text": [
            "Epoch 130/150, Train Acc: 59.31%, Test Acc: 50.39%\n",
            "Epoch 130/150, Train Loss: 1.4748, Test Loss: 1.9467\n",
            "Epoch 131/150, Train Acc: 59.71%, Test Acc: 50.27%\n",
            "Epoch 131/150, Train Loss: 1.4736, Test Loss: 1.9467\n",
            "Epoch 132/150, Train Acc: 59.93%, Test Acc: 50.06%\n",
            "Epoch 132/150, Train Loss: 1.4659, Test Loss: 1.9420\n",
            "Epoch 133/150, Train Acc: 59.55%, Test Acc: 50.26%\n",
            "Epoch 133/150, Train Loss: 1.4676, Test Loss: 1.9424\n",
            "Epoch 134/150, Train Acc: 59.85%, Test Acc: 50.19%\n",
            "Epoch 134/150, Train Loss: 1.4683, Test Loss: 1.9431\n",
            "Epoch 135/150, Train Acc: 59.53%, Test Acc: 49.91%\n",
            "Epoch 135/150, Train Loss: 1.4722, Test Loss: 1.9457\n",
            "Epoch 136/150, Train Acc: 59.72%, Test Acc: 50.23%\n",
            "Epoch 136/150, Train Loss: 1.4612, Test Loss: 1.9423\n",
            "Epoch 137/150, Train Acc: 59.61%, Test Acc: 50.20%\n",
            "Epoch 137/150, Train Loss: 1.4607, Test Loss: 1.9486\n",
            "Epoch 138/150, Train Acc: 59.82%, Test Acc: 50.26%\n",
            "Epoch 138/150, Train Loss: 1.4593, Test Loss: 1.9419\n",
            "Epoch 139/150, Train Acc: 60.28%, Test Acc: 50.11%\n",
            "Epoch 139/150, Train Loss: 1.4485, Test Loss: 1.9421\n",
            "Checkpoint saved at epoch 140: ./checkpoint_epoch_140.pth\n"
          ]
        },
        {
          "output_type": "display_data",
          "data": {
            "text/plain": [
              "<IPython.core.display.Javascript object>"
            ],
            "application/javascript": [
              "\n",
              "    async function download(id, filename, size) {\n",
              "      if (!google.colab.kernel.accessAllowed) {\n",
              "        return;\n",
              "      }\n",
              "      const div = document.createElement('div');\n",
              "      const label = document.createElement('label');\n",
              "      label.textContent = `Downloading \"${filename}\": `;\n",
              "      div.appendChild(label);\n",
              "      const progress = document.createElement('progress');\n",
              "      progress.max = size;\n",
              "      div.appendChild(progress);\n",
              "      document.body.appendChild(div);\n",
              "\n",
              "      const buffers = [];\n",
              "      let downloaded = 0;\n",
              "\n",
              "      const channel = await google.colab.kernel.comms.open(id);\n",
              "      // Send a message to notify the kernel that we're ready.\n",
              "      channel.send({})\n",
              "\n",
              "      for await (const message of channel.messages) {\n",
              "        // Send a message to notify the kernel that we're ready.\n",
              "        channel.send({})\n",
              "        if (message.buffers) {\n",
              "          for (const buffer of message.buffers) {\n",
              "            buffers.push(buffer);\n",
              "            downloaded += buffer.byteLength;\n",
              "            progress.value = downloaded;\n",
              "          }\n",
              "        }\n",
              "      }\n",
              "      const blob = new Blob(buffers, {type: 'application/binary'});\n",
              "      const a = document.createElement('a');\n",
              "      a.href = window.URL.createObjectURL(blob);\n",
              "      a.download = filename;\n",
              "      div.appendChild(a);\n",
              "      a.click();\n",
              "      div.remove();\n",
              "    }\n",
              "  "
            ]
          },
          "metadata": {}
        },
        {
          "output_type": "display_data",
          "data": {
            "text/plain": [
              "<IPython.core.display.Javascript object>"
            ],
            "application/javascript": [
              "download(\"download_31380292-7324-4319-bc88-2d66c021d651\", \"checkpoint_epoch_140.pth\", 9797146)"
            ]
          },
          "metadata": {}
        },
        {
          "output_type": "stream",
          "name": "stdout",
          "text": [
            "Epoch 140/150, Train Acc: 59.82%, Test Acc: 50.29%\n",
            "Epoch 140/150, Train Loss: 1.4567, Test Loss: 1.9418\n",
            "Epoch 141/150, Train Acc: 60.02%, Test Acc: 50.31%\n",
            "Epoch 141/150, Train Loss: 1.4517, Test Loss: 1.9409\n",
            "Epoch 142/150, Train Acc: 60.28%, Test Acc: 50.42%\n",
            "Epoch 142/150, Train Loss: 1.4473, Test Loss: 1.9391\n",
            "Epoch 143/150, Train Acc: 60.18%, Test Acc: 50.36%\n",
            "Epoch 143/150, Train Loss: 1.4465, Test Loss: 1.9383\n",
            "Epoch 144/150, Train Acc: 60.29%, Test Acc: 50.42%\n",
            "Epoch 144/150, Train Loss: 1.4471, Test Loss: 1.9400\n",
            "Epoch 145/150, Train Acc: 60.44%, Test Acc: 50.38%\n",
            "Epoch 145/150, Train Loss: 1.4389, Test Loss: 1.9383\n",
            "Epoch 146/150, Train Acc: 60.40%, Test Acc: 50.32%\n",
            "Epoch 146/150, Train Loss: 1.4402, Test Loss: 1.9382\n",
            "Epoch 147/150, Train Acc: 60.54%, Test Acc: 50.44%\n",
            "Epoch 147/150, Train Loss: 1.4365, Test Loss: 1.9367\n",
            "Epoch 148/150, Train Acc: 60.25%, Test Acc: 50.31%\n",
            "Epoch 148/150, Train Loss: 1.4422, Test Loss: 1.9384\n",
            "Epoch 149/150, Train Acc: 60.57%, Test Acc: 50.32%\n",
            "Epoch 149/150, Train Loss: 1.4315, Test Loss: 1.9373\n",
            "Checkpoint saved at epoch 150: ./checkpoint_epoch_150.pth\n"
          ]
        },
        {
          "output_type": "display_data",
          "data": {
            "text/plain": [
              "<IPython.core.display.Javascript object>"
            ],
            "application/javascript": [
              "\n",
              "    async function download(id, filename, size) {\n",
              "      if (!google.colab.kernel.accessAllowed) {\n",
              "        return;\n",
              "      }\n",
              "      const div = document.createElement('div');\n",
              "      const label = document.createElement('label');\n",
              "      label.textContent = `Downloading \"${filename}\": `;\n",
              "      div.appendChild(label);\n",
              "      const progress = document.createElement('progress');\n",
              "      progress.max = size;\n",
              "      div.appendChild(progress);\n",
              "      document.body.appendChild(div);\n",
              "\n",
              "      const buffers = [];\n",
              "      let downloaded = 0;\n",
              "\n",
              "      const channel = await google.colab.kernel.comms.open(id);\n",
              "      // Send a message to notify the kernel that we're ready.\n",
              "      channel.send({})\n",
              "\n",
              "      for await (const message of channel.messages) {\n",
              "        // Send a message to notify the kernel that we're ready.\n",
              "        channel.send({})\n",
              "        if (message.buffers) {\n",
              "          for (const buffer of message.buffers) {\n",
              "            buffers.push(buffer);\n",
              "            downloaded += buffer.byteLength;\n",
              "            progress.value = downloaded;\n",
              "          }\n",
              "        }\n",
              "      }\n",
              "      const blob = new Blob(buffers, {type: 'application/binary'});\n",
              "      const a = document.createElement('a');\n",
              "      a.href = window.URL.createObjectURL(blob);\n",
              "      a.download = filename;\n",
              "      div.appendChild(a);\n",
              "      a.click();\n",
              "      div.remove();\n",
              "    }\n",
              "  "
            ]
          },
          "metadata": {}
        },
        {
          "output_type": "display_data",
          "data": {
            "text/plain": [
              "<IPython.core.display.Javascript object>"
            ],
            "application/javascript": [
              "download(\"download_3d072886-1726-43ac-a8d0-4160bf8ed7ab\", \"checkpoint_epoch_150.pth\", 9797146)"
            ]
          },
          "metadata": {}
        },
        {
          "output_type": "stream",
          "name": "stdout",
          "text": [
            "Epoch 150/150, Train Acc: 60.53%, Test Acc: 50.40%\n",
            "Epoch 150/150, Train Loss: 1.4376, Test Loss: 1.9373\n"
          ]
        },
        {
          "output_type": "display_data",
          "data": {
            "text/plain": [
              "<Figure size 600x400 with 1 Axes>"
            ],
            "image/png": "[encoded data removed]"
          },
          "metadata": {}
        },
        {
          "output_type": "display_data",
          "data": {
            "text/plain": [
              "<Figure size 600x400 with 1 Axes>"
            ],
            "image/png": "[encoded data removed]"
          },
          "metadata": {}
        },
        {
          "output_type": "display_data",
          "data": {
            "text/plain": [
              "<Figure size 600x400 with 1 Axes>"
            ],
            "image/png": "[encoded data removed]"
          },
          "metadata": {}
        },
        {
          "output_type": "display_data",
          "data": {
            "text/plain": [
              "<Figure size 600x400 with 1 Axes>"
            ],
            "image/png": "[encoded data removed]"
          },
          "metadata": {}
        },
        {
          "output_type": "display_data",
          "data": {
            "text/plain": [
              "<Figure size 640x480 with 0 Axes>"
            ]
          },
          "metadata": {}
        }
      ],
      "source": [
        "%run large_batch_training.py --optimizer AdamW --batch-size 128 --weight-decay 1e-1"
      ]
    },
    {
      "cell_type": "code",
      "execution_count": null,
      "metadata": {
        "colab": {
          "base_uri": "https://localhost:8080/"
        },
        "id": "_Y8TL9oBZL18",
        "outputId": "54fc2f89-7e7d-461b-fce6-1f0da7310a06"
      },
      "outputs": [
        {
          "name": "stdout",
          "output_type": "stream",
          "text": [
            "Files already downloaded and verified\n",
            "Files already downloaded and verified\n",
            "--- Train with LARS ---\n"
          ]
        }
      ],
      "source": [
        "%run large_batch_training.py --optimizer LARS --batch-size 128 --weight-decay 4e-4"
      ]
    },
    {
      "cell_type": "code",
      "execution_count": null,
      "metadata": {
        "colab": {
          "base_uri": "https://localhost:8080/",
          "height": 436
        },
        "id": "K_XY2BkhZOkY",
        "outputId": "d4c6a687-f11c-439f-bbc4-b0d05ad58aca"
      },
      "outputs": [
        {
          "output_type": "stream",
          "name": "stdout",
          "text": [
            "Downloading https://www.cs.toronto.edu/~kriz/cifar-100-python.tar.gz to ./data/cifar-100-python.tar.gz\n"
          ]
        },
        {
          "output_type": "stream",
          "name": "stderr",
          "text": [
            "100%|██████████| 169M/169M [00:04<00:00, 40.2MB/s]\n"
          ]
        },
        {
          "output_type": "stream",
          "name": "stdout",
          "text": [
            "Extracting ./data/cifar-100-python.tar.gz to ./data\n",
            "Files already downloaded and verified\n",
            "Files already downloaded and verified\n",
            "--- Train with LAMB ---\n"
          ]
        },
        {
          "output_type": "error",
          "ename": "NameError",
          "evalue": "name 'val_accuracy' is not defined",
          "traceback": [
            "\u001b[0;31m---------------------------------------------------------------------------\u001b[0m",
            "\u001b[0;31mNameError\u001b[0m                                 Traceback (most recent call last)",
            "\u001b[0;32m/content/large_batch_training.py\u001b[0m in \u001b[0;36m<module>\u001b[0;34m\u001b[0m\n\u001b[1;32m    352\u001b[0m \u001b[0;31m# Train the model\u001b[0m\u001b[0;34m\u001b[0m\u001b[0;34m\u001b[0m\u001b[0m\n\u001b[1;32m    353\u001b[0m \u001b[0mprint\u001b[0m\u001b[0;34m(\u001b[0m\u001b[0;34mf\"--- Train with {args.optimizer} ---\"\u001b[0m\u001b[0;34m)\u001b[0m\u001b[0;34m\u001b[0m\u001b[0;34m\u001b[0m\u001b[0m\n\u001b[0;32m--> 354\u001b[0;31m \u001b[0mtrain_loss\u001b[0m\u001b[0;34m,\u001b[0m \u001b[0mtest_loss\u001b[0m\u001b[0;34m,\u001b[0m \u001b[0mtrain_acc\u001b[0m\u001b[0;34m,\u001b[0m \u001b[0mtest_acc\u001b[0m \u001b[0;34m=\u001b[0m \u001b[0mtrain_model\u001b[0m\u001b[0;34m(\u001b[0m\u001b[0moptimizer\u001b[0m\u001b[0;34m,\u001b[0m \u001b[0mscheduler\u001b[0m\u001b[0;34m,\u001b[0m \u001b[0mnet\u001b[0m\u001b[0;34m,\u001b[0m \u001b[0mcriterion\u001b[0m\u001b[0;34m,\u001b[0m \u001b[0mtrainloader\u001b[0m\u001b[0;34m,\u001b[0m \u001b[0mtestloader\u001b[0m\u001b[0;34m,\u001b[0m \u001b[0mdevice\u001b[0m\u001b[0;34m,\u001b[0m \u001b[0margs\u001b[0m\u001b[0;34m.\u001b[0m\u001b[0mepochs\u001b[0m\u001b[0;34m)\u001b[0m\u001b[0;34m\u001b[0m\u001b[0;34m\u001b[0m\u001b[0m\n\u001b[0m\u001b[1;32m    355\u001b[0m \u001b[0;34m\u001b[0m\u001b[0m\n\u001b[1;32m    356\u001b[0m \u001b[0;31m# Save model\u001b[0m\u001b[0;34m\u001b[0m\u001b[0;34m\u001b[0m\u001b[0m\n",
            "\u001b[0;32m/content/large_batch_training.py\u001b[0m in \u001b[0;36mtrain_model\u001b[0;34m(optimizer, scheduler, model, criterion, trainloader, testloader, device, epochs, save_checkpoint_interval)\u001b[0m\n\u001b[1;32m    345\u001b[0m             \u001b[0mfiles\u001b[0m\u001b[0;34m.\u001b[0m\u001b[0mdownload\u001b[0m\u001b[0;34m(\u001b[0m\u001b[0mcheckpoint_filename\u001b[0m\u001b[0;34m)\u001b[0m\u001b[0;34m\u001b[0m\u001b[0;34m\u001b[0m\u001b[0m\n\u001b[1;32m    346\u001b[0m \u001b[0;34m\u001b[0m\u001b[0m\n\u001b[0;32m--> 347\u001b[0;31m         \u001b[0mprint\u001b[0m\u001b[0;34m(\u001b[0m\u001b[0;34mf'Epoch {epoch+1}/{epochs}, Train Acc: {train_accuracy:.2f}%, Val Acc: {val_accuracy:.2f}%, Test Acc: {test_accuracy:.2f}%'\u001b[0m\u001b[0;34m)\u001b[0m\u001b[0;34m\u001b[0m\u001b[0;34m\u001b[0m\u001b[0m\n\u001b[0m\u001b[1;32m    348\u001b[0m         \u001b[0mprint\u001b[0m\u001b[0;34m(\u001b[0m\u001b[0;34mf'Epoch {epoch+1}/{epochs}, Train Loss: {train_loss:.4f}, Val Loss: {val_loss:.4f}, Test Loss: {test_loss:.4f}'\u001b[0m\u001b[0;34m)\u001b[0m\u001b[0;34m\u001b[0m\u001b[0;34m\u001b[0m\u001b[0m\n\u001b[1;32m    349\u001b[0m \u001b[0;34m\u001b[0m\u001b[0m\n",
            "\u001b[0;31mNameError\u001b[0m: name 'val_accuracy' is not defined"
          ]
        }
      ],
      "source": [
        "%run large_batch_training.py --optimizer LAMB --batch-size 128 --weight-decay 1e-1"
      ]
    }
  ],
  "metadata": {
    "accelerator": "GPU",
    "colab": {
      "gpuType": "L4",
      "provenance": [],
      "machine_shape": "hm"
    },
    "kernelspec": {
      "display_name": "Python 3",
      "name": "python3"
    },
    "language_info": {
      "name": "python"
    }
  },
  "nbformat": 4,
  "nbformat_minor": 0
}