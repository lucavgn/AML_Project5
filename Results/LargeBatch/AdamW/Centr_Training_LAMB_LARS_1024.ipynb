{
  "cells": [
    {
      "cell_type": "code",
      "execution_count": 1,
      "metadata": {
        "colab": {
          "base_uri": "https://localhost:8080/"
        },
        "id": "LtOx0ESVnO0u",
        "outputId": "1a6e3113-bddb-4e96-b940-2279b2fa3995"
      },
      "outputs": [
        {
          "output_type": "stream",
          "name": "stdout",
          "text": [
            "Writing large_batch_training.py\n"
          ]
        }
      ],
      "source": [
        "%%writefile large_batch_training.py\n",
        "\n",
        "import os\n",
        "import numpy as np\n",
        "import torch\n",
        "import torch.nn as nn\n",
        "import torch.optim as optim\n",
        "import torchvision\n",
        "import torchvision.transforms as transforms\n",
        "import matplotlib.pyplot as plt\n",
        "import argparse\n",
        "from torch.utils.data import random_split\n",
        "from google.colab import files\n",
        "\n",
        "def compute_mean_std(dataset):\n",
        "    \"\"\"Compute the mean and std of CIFAR-100 dataset.\n",
        "\n",
        "    Args:\n",
        "        dataset: A dataset derived from `torch.utils.data.Dataset`,\n",
        "                 such as `cifar100_training_dataset` or `cifar100_test_dataset`.\n",
        "\n",
        "    Returns:\n",
        "        A tuple containing (mean, std) for the entire dataset.\n",
        "    \"\"\"\n",
        "\n",
        "    # Extract images and labels\n",
        "    data_r = np.stack([np.array(dataset[i][0])[:, :, 0] for i in range(len(dataset))])\n",
        "    data_g = np.stack([np.array(dataset[i][0])[:, :, 1] for i in range(len(dataset))])\n",
        "    data_b = np.stack([np.array(dataset[i][0])[:, :, 2] for i in range(len(dataset))])\n",
        "\n",
        "    # Compute mean and std\n",
        "    mean = np.mean(data_r), np.mean(data_g), np.mean(data_b)\n",
        "    std = np.std(data_r), np.std(data_g), np.std(data_b)\n",
        "\n",
        "    return mean, std\n",
        "\n",
        "# Define LeNet-5 architecture\n",
        "class LeNet5(nn.Module):\n",
        "    def __init__(self):\n",
        "        super(LeNet5, self).__init__()\n",
        "        self.conv1 = nn.Conv2d(3, 64, 5)\n",
        "        self.relu1 = nn.ReLU()\n",
        "        self.pool1 = nn.MaxPool2d(2, 2)\n",
        "        self.conv2 = nn.Conv2d(64, 64, 5)\n",
        "        self.relu2 = nn.ReLU()\n",
        "        self.pool2 = nn.MaxPool2d(2, 2)\n",
        "        self.fc1 = nn.Linear(64 * 5 * 5, 384)\n",
        "        self.relu3 = nn.ReLU()\n",
        "        self.fc2 = nn.Linear(384, 192)\n",
        "        self.relu4 = nn.ReLU()\n",
        "        self.fc3 = nn.Linear(192, 100)\n",
        "\n",
        "    def forward(self, x):\n",
        "        x = self.pool1(self.relu1(self.conv1(x)))\n",
        "        x = self.pool2(self.relu2(self.conv2(x)))\n",
        "        x = x.view(-1, 64 * 5 * 5)\n",
        "        x = self.relu3(self.fc1(x))\n",
        "        x = self.relu4(self.fc2(x))\n",
        "        x = self.fc3(x)\n",
        "        return x\n",
        "\n",
        "# Device setup\n",
        "device = torch.device(\"cuda:0\" if torch.cuda.is_available() else \"cpu\")\n",
        "\n",
        "# Initialize model\n",
        "net = LeNet5().to(device)\n",
        "\n",
        "# Optimizer Subclasses\n",
        "class LARS(optim.Optimizer):\n",
        "    def __init__(self, params, lr, momentum=0.9, weight_decay=0, trust_coefficient=0.001):\n",
        "        # Initialize the optimizer with the learning rate, momentum, weight decay, and trust coefficient\n",
        "        defaults = dict(lr=lr, momentum=momentum, weight_decay=weight_decay, trust_coefficient=trust_coefficient)\n",
        "        super(LARS, self).__init__(params, defaults)\n",
        "\n",
        "    def step(self, closure=None):\n",
        "        loss = None\n",
        "        if closure is not None:\n",
        "            # If a closure is provided, evaluate it (commonly used for re-evaluating loss)\n",
        "            loss = closure()\n",
        "        for group in self.param_groups:\n",
        "            for p in group['params']:\n",
        "                if p.grad is None:\n",
        "                   # Skip parameters that have no gradient\n",
        "                    continue\n",
        "                grad = p.grad.data # Get the gradient of the parameter\n",
        "                # Retrieve or initialize the optimizer's internal state\n",
        "                state = self.state[p]\n",
        "                if len(state) == 0:\n",
        "                    state['momentum_buffer'] = torch.clone(grad).detach()\n",
        "                # Apply weight decay directly to the gradient\n",
        "                if group['weight_decay'] != 0:\n",
        "                    grad.add_(p.data, alpha=group['weight_decay'])\n",
        "                # Compute the norms of the parameter and its gradient\n",
        "                param_norm = torch.norm(p.data)\n",
        "                grad_norm = torch.norm(grad)\n",
        "                # Compute local learning rate based on the trust coefficient and norms\n",
        "                if param_norm > 0 and grad_norm > 0:\n",
        "                    local_lr = group['trust_coefficient'] * param_norm / (grad_norm + 1e-8)\n",
        "                    grad = grad.mul(local_lr) # Scale the gradient with the local learning rate\n",
        "                # Update the momentum buffer\n",
        "                momentum_buffer = state['momentum_buffer']\n",
        "                momentum_buffer.mul_(group['momentum']).add_(grad) #Momentum update\n",
        "                state['momentum_buffer'] = momentum_buffer\n",
        "                # Update the parameter\n",
        "                p.data.add_(-group['lr'], momentum_buffer) # Gradient descent step with learning rate\n",
        "        return loss\n",
        "\n",
        "class LAMB(optim.Optimizer):\n",
        "    def __init__(self, params, lr, weight_decay=0, betas=(0.9, 0.999), eps=1e-8):\n",
        "        # Initialize the optimizer with learning rate, weight decay, betas for moment updates, and epsilon for stability\n",
        "        defaults = dict(lr=lr, weight_decay=weight_decay, betas=betas, eps=eps)\n",
        "        super(LAMB, self).__init__(params, defaults)\n",
        "\n",
        "    def step(self, closure=None):\n",
        "        loss = None\n",
        "        if closure is not None:\n",
        "            # If a closure is provided, evaluate it\n",
        "            loss = closure()\n",
        "        for group in self.param_groups:\n",
        "            for p in group['params']:\n",
        "                if p.grad is None:\n",
        "                    # Skip parameters that have no gradient\n",
        "                    continue\n",
        "                grad = p.grad.data # Get the gradient of the parameter\n",
        "                # Retrieve or initialize the optimizer's internal state\n",
        "                state = self.state[p]\n",
        "                # Initialize state\n",
        "                if len(state) == 0:\n",
        "                    # Initialize the state (step counter, first moment, second moment)\n",
        "                    state['step'] = 0\n",
        "                    state['exp_avg'] = torch.zeros_like(p.data) # First moment (mean of gradients)\n",
        "                    state['exp_avg_sq'] = torch.zeros_like(p.data) # Second moment (mean of squared gradients)\n",
        "                exp_avg = state['exp_avg']\n",
        "                exp_avg_sq = state['exp_avg_sq']\n",
        "                beta1, beta2 = group['betas']  # Coefficients for moment updates\n",
        "                state['step'] += 1 # Increment step count\n",
        "                step = state['step']\n",
        "                # Decay the first and second moment running average coefficients\n",
        "                # Update first and second moments\n",
        "                exp_avg.mul_(beta1).add_(grad, alpha=1 - beta1) # Exponential moving average of gradients\n",
        "                exp_avg_sq.mul_(beta2).addcmul_(grad, grad, value=1 - beta2) # Exponential moving average of squared gradients\n",
        "                # Correct bias in the first and second moments\n",
        "                bias_correction1 = 1 - beta1 ** step\n",
        "                bias_correction2 = 1 - beta2 ** step\n",
        "                corrected_exp_avg = exp_avg / bias_correction1\n",
        "                corrected_exp_avg_sq = exp_avg_sq / bias_correction2\n",
        "                # Compute the denominator for scaling the update\n",
        "                denom = corrected_exp_avg_sq.sqrt().add_(group['eps']) # Stability epsilon\n",
        "                # Compute the step update\n",
        "                update = corrected_exp_avg / denom\n",
        "                # Apply weight decay directly to the parameters\n",
        "                if group['weight_decay'] != 0:\n",
        "                    update.add_(p.data, alpha=group['weight_decay'])\n",
        "                # Compute the trust ratio (norm of parameters vs norm of update)\n",
        "                param_norm = torch.norm(p.data)\n",
        "                update_norm = torch.norm(update)\n",
        "                trust_ratio = 1.0  # Default trust ratio\n",
        "                if param_norm > 0 and update_norm > 0:\n",
        "                    trust_ratio = param_norm / update_norm\n",
        "                # Update the parameters\n",
        "                p.data.add_(-group['lr'] * trust_ratio, update)\n",
        "        return loss\n",
        "\n",
        "class SqrtLRScheduler(torch.optim.lr_scheduler._LRScheduler):\n",
        "    def __init__(self, optimizer, base_lr, batch_size, warmup_epochs, total_epochs, reference_batch_size, verbose=False):\n",
        "        \"\"\"\n",
        "        Args:\n",
        "            optimizer: PyTorch optimizer (e.g., Adam, LAMB, LARS).\n",
        "            base_lr: Base learning rate for the reference batch size.\n",
        "            batch_size: Current batch size.\n",
        "            warmup_epochs: Number of warmup epochs.\n",
        "            total_epochs: Total number of epochs.\n",
        "            reference_batch_size: Batch size for which the base_lr is defined.\n",
        "            verbose: Whether to print LR updates.\n",
        "        \"\"\"\n",
        "        self.base_lr = base_lr\n",
        "        self.batch_size = batch_size\n",
        "        self.scaled_lr = base_lr * (batch_size / reference_batch_size) ** 0.5\n",
        "        self.warmup_epochs = warmup_epochs\n",
        "        self.total_epochs = total_epochs\n",
        "        self.verbose = verbose\n",
        "        super(SqrtLRScheduler, self).__init__(optimizer)\n",
        "\n",
        "    def get_lr(self):\n",
        "        epoch = self.last_epoch\n",
        "        if epoch < self.warmup_epochs:\n",
        "            # Linear warmup scaling\n",
        "            warmup_factor = (epoch + 1) / self.warmup_epochs\n",
        "            return [warmup_factor * self.scaled_lr for _ in self.optimizer.param_groups]\n",
        "        else:\n",
        "            # polynomially decaying learning rate of ηt = η0×(1−t/T)\n",
        "            if epoch == self.warmup_epochs:\n",
        "                print(f\"Warmup phase completed at epoch {epoch}. Switching to constant learning rate.\")\n",
        "            return [self.scaled_lr * ( 1 - ( (epoch - self.warmup_epochs) / (self.total_epochs - self.warmup_epochs))) for _ in self.optimizer.param_groups]\n",
        "\n",
        "# Command-line arguments\n",
        "parser = argparse.ArgumentParser(description='Train with Large-Batch Optimizers')\n",
        "parser.add_argument('--optimizer', type=str, default='SGDM', choices=['SGDM', 'AdamW', 'LARS', 'LAMB'],\n",
        "                    help='Choose optimizer')\n",
        "parser.add_argument('--batch-size', type=int, default=128, help='Batch size')\n",
        "parser.add_argument('--momentum', type=float, default=0.9, help='Momentum for SGDM and LARS')\n",
        "parser.add_argument('--weight-decay', type=float, default=1e-5, help='Weight decay')\n",
        "parser.add_argument('--b1', type=float, default=0.9, help='Beta1 for AdamW')\n",
        "parser.add_argument('--b2', type=float, default=0.999, help='Beta2 for AdamW')\n",
        "parser.add_argument('--trust-coefficient', type=float, default=0.001, help='Trust coefficient for LARS')\n",
        "parser.add_argument('--epochs', type=int, default=150, help='Number of epochs')\n",
        "parser.add_argument('--warmup-epochs', type=int, default=5, help='Number of epochs')\n",
        "args = parser.parse_args()\n",
        "\n",
        "\n",
        "torch.manual_seed(42) # Set the seed for reproducibility\n",
        "torch.cuda.manual_seed_all(42) # Set the seed for reproducibility on GPU\n",
        "\n",
        "# use the same mean and std to add consistency to all datasets\n",
        "data = torchvision.datasets.CIFAR100(root='./data', train=True, download=True, transform=transforms.ToTensor())\n",
        "mean, std = compute_mean_std(data)\n",
        "\n",
        "# Load and split CIFAR-100 dataset\n",
        "train_transform = transforms.Compose([\n",
        "  transforms.RandomHorizontalFlip(),\n",
        "  # transforms.RandomRotation(15),\n",
        "  transforms.RandomCrop(32, padding=4),\n",
        "  # transforms.RandomAffine(degrees=0, translate=(0.1, 0.1)),\n",
        "  transforms.RandomPerspective(distortion_scale=0.2, p=0.5),\n",
        "  transforms.ColorJitter(brightness=0.3, contrast=0.3, saturation=0.3, hue=0.2),\n",
        "  transforms.ToTensor(),\n",
        "  transforms.Normalize(mean, std)\n",
        "])\n",
        "\n",
        "val_transform = transforms.Compose([\n",
        "    transforms.ToTensor(), # Convert into tensor\n",
        "    transforms.Normalize(mean, std)  # Normalization\n",
        "])\n",
        "\n",
        "test_transform = transforms.Compose([\n",
        "    transforms.CenterCrop(24),\n",
        "    transforms.Pad(4),\n",
        "    transforms.ToTensor(),  # Convert to PyTorch tensor\n",
        "    transforms.Normalize(mean, std)\n",
        "])\n",
        "\n",
        "trainset = torchvision.datasets.CIFAR100(root='./data', train=True, download=True, transform=train_transform)\n",
        "valset = torchvision.datasets.CIFAR100(root='./data', train=True, download=True, transform=val_transform)\n",
        "indices = torch.randperm(len(trainset))\n",
        "val_size = int(0.2*len(trainset))\n",
        "trainset = torch.utils.data.Subset(trainset, indices[:-val_size])\n",
        "valset = torch.utils.data.Subset(valset, indices[-val_size:])\n",
        "\n",
        "trainloader = torch.utils.data.DataLoader(trainset, batch_size=args.batch_size, shuffle=True, num_workers=2)\n",
        "valloader = torch.utils.data.DataLoader(valset, batch_size=args.batch_size, shuffle=False, num_workers=2)\n",
        "\n",
        "testset = torchvision.datasets.CIFAR100(root='./data', train=False, download=True, transform=test_transform)\n",
        "testloader = torch.utils.data.DataLoader(testset, batch_size=args.batch_size, shuffle=False, num_workers=2)\n",
        "\n",
        "\n",
        "# Fixed parameter from paper [18] to calculate the square root LR scaling value\n",
        "# base_lr = 5 / (2**3 * 10**3)\n",
        "# reference_batch_size = 512\n",
        "#scaled_lr = base_lr * (args.batch_size / reference_batch_size) ** 0.5\n",
        "\n",
        "# Mapping optimizers\n",
        "if args.optimizer == 'SGDM':\n",
        "    base_lr = 1e-2\n",
        "    reference_batch_size = 64\n",
        "    scaled_lr = base_lr * (args.batch_size / reference_batch_size) ** 0.5\n",
        "    optimizer = optim.SGD(net.parameters(), lr=scaled_lr, momentum=args.momentum, weight_decay=args.weight_decay)\n",
        "elif args.optimizer == 'AdamW':\n",
        "    base_lr = 5e-4\n",
        "    reference_batch_size = 64\n",
        "    scaled_lr = base_lr * (args.batch_size / reference_batch_size) ** 0.5\n",
        "    optimizer = optim.AdamW(net.parameters(), lr=scaled_lr, betas=(args.b1, args.b2), weight_decay=args.weight_decay)\n",
        "elif args.optimizer == 'LARS':\n",
        "    base_lr = 5 / (2**3 * 10**3) # to define\n",
        "    reference_batch_size = 512\n",
        "    scaled_lr = base_lr * (args.batch_size / reference_batch_size) ** 0.5\n",
        "    optimizer = LARS(net.parameters(), lr=scaled_lr, momentum=args.momentum, weight_decay=args.weight_decay, trust_coefficient=args.trust_coefficient)\n",
        "elif args.optimizer == 'LAMB':\n",
        "    base_lr = 5 / (2**3 * 10**3) # to define\n",
        "    reference_batch_size = 512\n",
        "    scaled_lr = base_lr * (args.batch_size / reference_batch_size) ** 0.5\n",
        "    optimizer = LAMB(net.parameters(), lr=scaled_lr, weight_decay=args.weight_decay)\n",
        "\n",
        "criterion = nn.CrossEntropyLoss()\n",
        "\n",
        "# scheduler should be e square root LR scaling rule and linear-epoch warmup scheduling to automatically adjust learning rate\n",
        "scheduler = SqrtLRScheduler(\n",
        "    optimizer = optimizer,\n",
        "    base_lr = base_lr,\n",
        "    batch_size = args.batch_size,\n",
        "    warmup_epochs = args.warmup_epochs,\n",
        "    total_epochs = args.epochs,\n",
        "    reference_batch_size = reference_batch_size,\n",
        "    verbose = True)\n",
        "\n",
        "# Training Function\n",
        "def train_model(optimizer, scheduler, model, criterion, trainloader, valloader , testloader, device, epochs, save_checkpoint_interval=10):\n",
        "    train_losses, val_losses, test_losses = [], [], []\n",
        "    train_accuracies, val_accuracies, test_accuracies = [], [], []\n",
        "    for epoch in range(epochs):\n",
        "        model.train()\n",
        "        running_loss, correct_train, total_train = 0.0, 0, 0\n",
        "        for inputs, labels in trainloader:\n",
        "            inputs, labels = inputs.to(device), labels.to(device)\n",
        "            optimizer.zero_grad()\n",
        "            outputs = model(inputs)\n",
        "            loss = criterion(outputs, labels)\n",
        "            loss.backward()\n",
        "            optimizer.step()\n",
        "            running_loss += loss.item()\n",
        "            _, predicted = outputs.max(1)\n",
        "            total_train += labels.size(0)\n",
        "            correct_train += predicted.eq(labels).sum().item()\n",
        "        train_loss = running_loss / len(trainloader)\n",
        "        train_accuracy = 100. * correct_train / total_train\n",
        "        train_losses.append(train_loss)\n",
        "        train_accuracies.append(train_accuracy)\n",
        "\n",
        "        # Validation\n",
        "        model.eval()\n",
        "        correct_val, total_val, val_loss = 0, 0, 0.0\n",
        "        with torch.no_grad():\n",
        "            for inputs, labels in valloader:\n",
        "                inputs, labels = inputs.to(device), labels.to(device)\n",
        "                outputs = model(inputs)\n",
        "                loss = criterion(outputs, labels)\n",
        "                val_loss += loss.item()\n",
        "                _, predicted = outputs.max(1)\n",
        "                total_val += labels.size(0)\n",
        "                correct_val += predicted.eq(labels).sum().item()\n",
        "        val_loss /= len(valloader)\n",
        "        val_losses.append(val_loss)\n",
        "        val_accuracy = 100. * correct_val / total_val\n",
        "        val_accuracies.append(val_accuracy)\n",
        "\n",
        "        '''\n",
        "        # Early Stopping\n",
        "        if val_loss < best_val_loss:\n",
        "          best_val_loss = val_loss\n",
        "          epochs_no_improve = 0\n",
        "        else:\n",
        "          epochs_no_improve += 1\n",
        "\n",
        "        if epochs_no_improve == patience:\n",
        "          print(\"Early stopping!\")\n",
        "          break\n",
        "        '''\n",
        "\n",
        "        # Test\n",
        "        correct_test, total_test, test_loss = 0, 0, 0.0\n",
        "        with torch.no_grad():\n",
        "            for inputs, labels in testloader:\n",
        "                inputs, labels = inputs.to(device), labels.to(device)\n",
        "                outputs = model(inputs)\n",
        "                loss = criterion(outputs, labels)\n",
        "                test_loss += loss.item()\n",
        "                _, predicted = outputs.max(1)\n",
        "                total_test += labels.size(0)\n",
        "                correct_test += predicted.eq(labels).sum().item()\n",
        "        test_loss /= len(testloader)\n",
        "        test_losses.append(test_loss)\n",
        "        test_accuracy = 100. * correct_test / total_test\n",
        "        test_accuracies.append(test_accuracy)\n",
        "\n",
        "        scheduler.step()\n",
        "\n",
        "        # Checkpointing\n",
        "        if (epoch + 1) % save_checkpoint_interval == 0:\n",
        "            checkpoint_filename = f'checkpoint_epoch_{epoch + 1}.pth'\n",
        "            checkpoint = {\n",
        "                'epoch': epoch + 1,\n",
        "                'model_state_dict': model.state_dict(),\n",
        "                'optimizer_state_dict': optimizer.state_dict(),\n",
        "                'scheduler_state_dict': scheduler.state_dict(),\n",
        "                'loss': loss.item(),\n",
        "            }\n",
        "            checkpoint_path = os.path.join('./', checkpoint_filename)\n",
        "            torch.save(checkpoint, checkpoint_path)\n",
        "            print(f'Checkpoint saved at epoch {epoch + 1}: {checkpoint_path}')\n",
        "\n",
        "            # Download the checkpoint\n",
        "            files.download(checkpoint_filename)\n",
        "\n",
        "        print(f'Epoch {epoch+1}/{epochs}, Train Acc: {train_accuracy:.2f}%, Val Acc: {val_accuracy:.2f}%, Test Acc: {test_accuracy:.2f}%')\n",
        "        print(f'Epoch {epoch+1}/{epochs}, Train Loss: {train_loss:.4f}, Val Loss: {val_loss:.4f}, Test Loss: {test_loss:.4f}')\n",
        "\n",
        "    return train_losses, val_losses, test_losses, train_accuracies, val_accuracies, test_accuracies\n",
        "\n",
        "# Train the model\n",
        "print(f\"--- Train with {args.optimizer} ---\")\n",
        "train_loss, val_loss, test_loss, train_acc, val_acc, test_acc = train_model(optimizer, scheduler, net, criterion, trainloader, valloader, testloader, device, args.epochs)\n",
        "\n",
        "# Save model\n",
        "torch.save(net.state_dict(), f'net_{args.optimizer}.pth')\n",
        "\n",
        "# Plot results\n",
        "# Plot Training Loss\n",
        "plt.figure(figsize=(6, 4))\n",
        "plt.plot(train_loss, label='Train Loss')\n",
        "plt.title('Training Loss')\n",
        "plt.xlabel('Epoch')\n",
        "plt.ylabel('Loss')\n",
        "plt.legend()\n",
        "plt.tight_layout()\n",
        "plt.savefig('train_loss.png')\n",
        "plt.show()\n",
        "\n",
        "# Plot Training Accuracy\n",
        "plt.figure(figsize=(6, 4))\n",
        "plt.plot(train_acc, label='Train Accuracy')\n",
        "plt.title('Training Accuracy')\n",
        "plt.xlabel('Epoch')\n",
        "plt.ylabel('Accuracy (%)')\n",
        "plt.legend()\n",
        "plt.tight_layout()\n",
        "plt.savefig('train_accuracy.png')\n",
        "plt.show()\n",
        "\n",
        "# Plot Validation Loss\n",
        "plt.figure(figsize=(6, 4))\n",
        "plt.plot(val_loss, label='Validation Loss')\n",
        "plt.title('Validation Loss')\n",
        "plt.xlabel('Epoch')\n",
        "plt.ylabel('Loss')\n",
        "plt.legend()\n",
        "plt.tight_layout()\n",
        "plt.savefig('val_loss.png')\n",
        "plt.show()\n",
        "\n",
        "# Plot Validation Accuracy\n",
        "plt.figure(figsize=(6, 4))\n",
        "plt.plot(val_acc, label='Validation Accuracy')\n",
        "plt.title('Validation Accuracy')\n",
        "plt.xlabel('Epoch')\n",
        "plt.ylabel('Accuracy (%)')\n",
        "plt.legend()\n",
        "plt.tight_layout()\n",
        "plt.savefig('val_accuracy.png')\n",
        "plt.show()\n",
        "\n",
        "# Plot Test Loss\n",
        "plt.figure(figsize=(6, 4))\n",
        "plt.plot(test_loss, label='Test Loss')\n",
        "plt.title('Test Loss')\n",
        "plt.xlabel('Epoch')\n",
        "plt.ylabel('Loss')\n",
        "plt.legend()\n",
        "plt.tight_layout()\n",
        "plt.savefig('test_loss.png')\n",
        "plt.show()\n",
        "\n",
        "# Plot Test Accuracy\n",
        "plt.figure(figsize=(6, 4))\n",
        "plt.plot(test_acc, label='Test Accuracy')\n",
        "plt.title('Test Accuracy')\n",
        "plt.xlabel('Epoch')\n",
        "plt.ylabel('Accuracy (%)')\n",
        "plt.legend()\n",
        "plt.tight_layout()\n",
        "plt.savefig('test_accuracy.png')\n",
        "plt.show()\n"
      ]
    },
    {
      "cell_type": "code",
      "execution_count": null,
      "metadata": {
        "colab": {
          "base_uri": "https://localhost:8080/",
          "height": 460
        },
        "id": "_hEcpkQqYJmP",
        "outputId": "054cca2f-8701-4830-ae1c-4f1fc306c8c1"
      },
      "outputs": [
        {
          "output_type": "stream",
          "name": "stdout",
          "text": [
            "Files already downloaded and verified\n",
            "Files already downloaded and verified\n",
            "Files already downloaded and verified\n",
            "Files already downloaded and verified\n",
            "--- Train with SGDM ---\n"
          ]
        },
        {
          "output_type": "error",
          "ename": "KeyboardInterrupt",
          "evalue": "",
          "traceback": [
            "\u001b[0;31m---------------------------------------------------------------------------\u001b[0m",
            "\u001b[0;31mKeyboardInterrupt\u001b[0m                         Traceback (most recent call last)",
            "\u001b[0;32m/content/large_batch_training.py\u001b[0m in \u001b[0;36m<module>\u001b[0;34m\u001b[0m\n\u001b[1;32m    385\u001b[0m \u001b[0;31m# Train the model\u001b[0m\u001b[0;34m\u001b[0m\u001b[0;34m\u001b[0m\u001b[0m\n\u001b[1;32m    386\u001b[0m \u001b[0mprint\u001b[0m\u001b[0;34m(\u001b[0m\u001b[0;34mf\"--- Train with {args.optimizer} ---\"\u001b[0m\u001b[0;34m)\u001b[0m\u001b[0;34m\u001b[0m\u001b[0;34m\u001b[0m\u001b[0m\n\u001b[0;32m--> 387\u001b[0;31m \u001b[0mtrain_loss\u001b[0m\u001b[0;34m,\u001b[0m \u001b[0mval_loss\u001b[0m\u001b[0;34m,\u001b[0m \u001b[0mtest_loss\u001b[0m\u001b[0;34m,\u001b[0m \u001b[0mtrain_acc\u001b[0m\u001b[0;34m,\u001b[0m \u001b[0mval_acc\u001b[0m\u001b[0;34m,\u001b[0m \u001b[0mtest_acc\u001b[0m \u001b[0;34m=\u001b[0m \u001b[0mtrain_model\u001b[0m\u001b[0;34m(\u001b[0m\u001b[0moptimizer\u001b[0m\u001b[0;34m,\u001b[0m \u001b[0mscheduler\u001b[0m\u001b[0;34m,\u001b[0m \u001b[0mnet\u001b[0m\u001b[0;34m,\u001b[0m \u001b[0mcriterion\u001b[0m\u001b[0;34m,\u001b[0m \u001b[0mtrainloader\u001b[0m\u001b[0;34m,\u001b[0m \u001b[0mvalloader\u001b[0m\u001b[0;34m,\u001b[0m \u001b[0mtestloader\u001b[0m\u001b[0;34m,\u001b[0m \u001b[0mdevice\u001b[0m\u001b[0;34m,\u001b[0m \u001b[0margs\u001b[0m\u001b[0;34m.\u001b[0m\u001b[0mepochs\u001b[0m\u001b[0;34m)\u001b[0m\u001b[0;34m\u001b[0m\u001b[0;34m\u001b[0m\u001b[0m\n\u001b[0m\u001b[1;32m    388\u001b[0m \u001b[0;34m\u001b[0m\u001b[0m\n\u001b[1;32m    389\u001b[0m \u001b[0;31m# Save model\u001b[0m\u001b[0;34m\u001b[0m\u001b[0;34m\u001b[0m\u001b[0m\n",
            "\u001b[0;32m/content/large_batch_training.py\u001b[0m in \u001b[0;36mtrain_model\u001b[0;34m(optimizer, scheduler, model, criterion, trainloader, valloader, testloader, device, epochs, save_checkpoint_interval)\u001b[0m\n\u001b[1;32m    297\u001b[0m         \u001b[0mmodel\u001b[0m\u001b[0;34m.\u001b[0m\u001b[0mtrain\u001b[0m\u001b[0;34m(\u001b[0m\u001b[0;34m)\u001b[0m\u001b[0;34m\u001b[0m\u001b[0;34m\u001b[0m\u001b[0m\n\u001b[1;32m    298\u001b[0m         \u001b[0mrunning_loss\u001b[0m\u001b[0;34m,\u001b[0m \u001b[0mcorrect_train\u001b[0m\u001b[0;34m,\u001b[0m \u001b[0mtotal_train\u001b[0m \u001b[0;34m=\u001b[0m \u001b[0;36m0.0\u001b[0m\u001b[0;34m,\u001b[0m \u001b[0;36m0\u001b[0m\u001b[0;34m,\u001b[0m \u001b[0;36m0\u001b[0m\u001b[0;34m\u001b[0m\u001b[0;34m\u001b[0m\u001b[0m\n\u001b[0;32m--> 299\u001b[0;31m         \u001b[0;32mfor\u001b[0m \u001b[0minputs\u001b[0m\u001b[0;34m,\u001b[0m \u001b[0mlabels\u001b[0m \u001b[0;32min\u001b[0m \u001b[0mtrainloader\u001b[0m\u001b[0;34m:\u001b[0m\u001b[0;34m\u001b[0m\u001b[0;34m\u001b[0m\u001b[0m\n\u001b[0m\u001b[1;32m    300\u001b[0m             \u001b[0minputs\u001b[0m\u001b[0;34m,\u001b[0m \u001b[0mlabels\u001b[0m \u001b[0;34m=\u001b[0m \u001b[0minputs\u001b[0m\u001b[0;34m.\u001b[0m\u001b[0mto\u001b[0m\u001b[0;34m(\u001b[0m\u001b[0mdevice\u001b[0m\u001b[0;34m)\u001b[0m\u001b[0;34m,\u001b[0m \u001b[0mlabels\u001b[0m\u001b[0;34m.\u001b[0m\u001b[0mto\u001b[0m\u001b[0;34m(\u001b[0m\u001b[0mdevice\u001b[0m\u001b[0;34m)\u001b[0m\u001b[0;34m\u001b[0m\u001b[0;34m\u001b[0m\u001b[0m\n\u001b[1;32m    301\u001b[0m             \u001b[0moptimizer\u001b[0m\u001b[0;34m.\u001b[0m\u001b[0mzero_grad\u001b[0m\u001b[0;34m(\u001b[0m\u001b[0;34m)\u001b[0m\u001b[0;34m\u001b[0m\u001b[0;34m\u001b[0m\u001b[0m\n",
            "\u001b[0;32m/usr/local/lib/python3.10/dist-packages/torch/utils/data/dataloader.py\u001b[0m in \u001b[0;36m__next__\u001b[0;34m(self)\u001b[0m\n\u001b[1;32m    699\u001b[0m                 \u001b[0;31m# TODO(https://github.com/pytorch/pytorch/issues/76750)\u001b[0m\u001b[0;34m\u001b[0m\u001b[0;34m\u001b[0m\u001b[0m\n\u001b[1;32m    700\u001b[0m                 \u001b[0mself\u001b[0m\u001b[0;34m.\u001b[0m\u001b[0m_reset\u001b[0m\u001b[0;34m(\u001b[0m\u001b[0;34m)\u001b[0m  \u001b[0;31m# type: ignore[call-arg]\u001b[0m\u001b[0;34m\u001b[0m\u001b[0;34m\u001b[0m\u001b[0m\n\u001b[0;32m--> 701\u001b[0;31m             \u001b[0mdata\u001b[0m \u001b[0;34m=\u001b[0m \u001b[0mself\u001b[0m\u001b[0;34m.\u001b[0m\u001b[0m_next_data\u001b[0m\u001b[0;34m(\u001b[0m\u001b[0;34m)\u001b[0m\u001b[0;34m\u001b[0m\u001b[0;34m\u001b[0m\u001b[0m\n\u001b[0m\u001b[1;32m    702\u001b[0m             \u001b[0mself\u001b[0m\u001b[0;34m.\u001b[0m\u001b[0m_num_yielded\u001b[0m \u001b[0;34m+=\u001b[0m \u001b[0;36m1\u001b[0m\u001b[0;34m\u001b[0m\u001b[0;34m\u001b[0m\u001b[0m\n\u001b[1;32m    703\u001b[0m             if (\n",
            "\u001b[0;32m/usr/local/lib/python3.10/dist-packages/torch/utils/data/dataloader.py\u001b[0m in \u001b[0;36m_next_data\u001b[0;34m(self)\u001b[0m\n\u001b[1;32m   1446\u001b[0m \u001b[0;34m\u001b[0m\u001b[0m\n\u001b[1;32m   1447\u001b[0m             \u001b[0;32massert\u001b[0m \u001b[0;32mnot\u001b[0m \u001b[0mself\u001b[0m\u001b[0;34m.\u001b[0m\u001b[0m_shutdown\u001b[0m \u001b[0;32mand\u001b[0m \u001b[0mself\u001b[0m\u001b[0;34m.\u001b[0m\u001b[0m_tasks_outstanding\u001b[0m \u001b[0;34m>\u001b[0m \u001b[0;36m0\u001b[0m\u001b[0;34m\u001b[0m\u001b[0;34m\u001b[0m\u001b[0m\n\u001b[0;32m-> 1448\u001b[0;31m             \u001b[0midx\u001b[0m\u001b[0;34m,\u001b[0m \u001b[0mdata\u001b[0m \u001b[0;34m=\u001b[0m \u001b[0mself\u001b[0m\u001b[0;34m.\u001b[0m\u001b[0m_get_data\u001b[0m\u001b[0;34m(\u001b[0m\u001b[0;34m)\u001b[0m\u001b[0;34m\u001b[0m\u001b[0;34m\u001b[0m\u001b[0m\n\u001b[0m\u001b[1;32m   1449\u001b[0m             \u001b[0mself\u001b[0m\u001b[0;34m.\u001b[0m\u001b[0m_tasks_outstanding\u001b[0m \u001b[0;34m-=\u001b[0m \u001b[0;36m1\u001b[0m\u001b[0;34m\u001b[0m\u001b[0;34m\u001b[0m\u001b[0m\n\u001b[1;32m   1450\u001b[0m             \u001b[0;32mif\u001b[0m \u001b[0mself\u001b[0m\u001b[0;34m.\u001b[0m\u001b[0m_dataset_kind\u001b[0m \u001b[0;34m==\u001b[0m \u001b[0m_DatasetKind\u001b[0m\u001b[0;34m.\u001b[0m\u001b[0mIterable\u001b[0m\u001b[0;34m:\u001b[0m\u001b[0;34m\u001b[0m\u001b[0;34m\u001b[0m\u001b[0m\n",
            "\u001b[0;32m/usr/local/lib/python3.10/dist-packages/torch/utils/data/dataloader.py\u001b[0m in \u001b[0;36m_get_data\u001b[0;34m(self)\u001b[0m\n\u001b[1;32m   1410\u001b[0m         \u001b[0;32melse\u001b[0m\u001b[0;34m:\u001b[0m\u001b[0;34m\u001b[0m\u001b[0;34m\u001b[0m\u001b[0m\n\u001b[1;32m   1411\u001b[0m             \u001b[0;32mwhile\u001b[0m \u001b[0;32mTrue\u001b[0m\u001b[0;34m:\u001b[0m\u001b[0;34m\u001b[0m\u001b[0;34m\u001b[0m\u001b[0m\n\u001b[0;32m-> 1412\u001b[0;31m                 \u001b[0msuccess\u001b[0m\u001b[0;34m,\u001b[0m \u001b[0mdata\u001b[0m \u001b[0;34m=\u001b[0m \u001b[0mself\u001b[0m\u001b[0;34m.\u001b[0m\u001b[0m_try_get_data\u001b[0m\u001b[0;34m(\u001b[0m\u001b[0;34m)\u001b[0m\u001b[0;34m\u001b[0m\u001b[0;34m\u001b[0m\u001b[0m\n\u001b[0m\u001b[1;32m   1413\u001b[0m                 \u001b[0;32mif\u001b[0m \u001b[0msuccess\u001b[0m\u001b[0;34m:\u001b[0m\u001b[0;34m\u001b[0m\u001b[0;34m\u001b[0m\u001b[0m\n\u001b[1;32m   1414\u001b[0m                     \u001b[0;32mreturn\u001b[0m \u001b[0mdata\u001b[0m\u001b[0;34m\u001b[0m\u001b[0;34m\u001b[0m\u001b[0m\n",
            "\u001b[0;32m/usr/local/lib/python3.10/dist-packages/torch/utils/data/dataloader.py\u001b[0m in \u001b[0;36m_try_get_data\u001b[0;34m(self, timeout)\u001b[0m\n\u001b[1;32m   1241\u001b[0m         \u001b[0;31m#   (bool: whether successfully get data, any: data if successful else None)\u001b[0m\u001b[0;34m\u001b[0m\u001b[0;34m\u001b[0m\u001b[0m\n\u001b[1;32m   1242\u001b[0m         \u001b[0;32mtry\u001b[0m\u001b[0;34m:\u001b[0m\u001b[0;34m\u001b[0m\u001b[0;34m\u001b[0m\u001b[0m\n\u001b[0;32m-> 1243\u001b[0;31m             \u001b[0mdata\u001b[0m \u001b[0;34m=\u001b[0m \u001b[0mself\u001b[0m\u001b[0;34m.\u001b[0m\u001b[0m_data_queue\u001b[0m\u001b[0;34m.\u001b[0m\u001b[0mget\u001b[0m\u001b[0;34m(\u001b[0m\u001b[0mtimeout\u001b[0m\u001b[0;34m=\u001b[0m\u001b[0mtimeout\u001b[0m\u001b[0;34m)\u001b[0m\u001b[0;34m\u001b[0m\u001b[0;34m\u001b[0m\u001b[0m\n\u001b[0m\u001b[1;32m   1244\u001b[0m             \u001b[0;32mreturn\u001b[0m \u001b[0;34m(\u001b[0m\u001b[0;32mTrue\u001b[0m\u001b[0;34m,\u001b[0m \u001b[0mdata\u001b[0m\u001b[0;34m)\u001b[0m\u001b[0;34m\u001b[0m\u001b[0;34m\u001b[0m\u001b[0m\n\u001b[1;32m   1245\u001b[0m         \u001b[0;32mexcept\u001b[0m \u001b[0mException\u001b[0m \u001b[0;32mas\u001b[0m \u001b[0me\u001b[0m\u001b[0;34m:\u001b[0m\u001b[0;34m\u001b[0m\u001b[0;34m\u001b[0m\u001b[0m\n",
            "\u001b[0;32m/usr/lib/python3.10/multiprocessing/queues.py\u001b[0m in \u001b[0;36mget\u001b[0;34m(self, block, timeout)\u001b[0m\n\u001b[1;32m    111\u001b[0m                 \u001b[0;32mif\u001b[0m \u001b[0mblock\u001b[0m\u001b[0;34m:\u001b[0m\u001b[0;34m\u001b[0m\u001b[0;34m\u001b[0m\u001b[0m\n\u001b[1;32m    112\u001b[0m                     \u001b[0mtimeout\u001b[0m \u001b[0;34m=\u001b[0m \u001b[0mdeadline\u001b[0m \u001b[0;34m-\u001b[0m \u001b[0mtime\u001b[0m\u001b[0;34m.\u001b[0m\u001b[0mmonotonic\u001b[0m\u001b[0;34m(\u001b[0m\u001b[0;34m)\u001b[0m\u001b[0;34m\u001b[0m\u001b[0;34m\u001b[0m\u001b[0m\n\u001b[0;32m--> 113\u001b[0;31m                     \u001b[0;32mif\u001b[0m \u001b[0;32mnot\u001b[0m \u001b[0mself\u001b[0m\u001b[0;34m.\u001b[0m\u001b[0m_poll\u001b[0m\u001b[0;34m(\u001b[0m\u001b[0mtimeout\u001b[0m\u001b[0;34m)\u001b[0m\u001b[0;34m:\u001b[0m\u001b[0;34m\u001b[0m\u001b[0;34m\u001b[0m\u001b[0m\n\u001b[0m\u001b[1;32m    114\u001b[0m                         \u001b[0;32mraise\u001b[0m \u001b[0mEmpty\u001b[0m\u001b[0;34m\u001b[0m\u001b[0;34m\u001b[0m\u001b[0m\n\u001b[1;32m    115\u001b[0m                 \u001b[0;32melif\u001b[0m \u001b[0;32mnot\u001b[0m \u001b[0mself\u001b[0m\u001b[0;34m.\u001b[0m\u001b[0m_poll\u001b[0m\u001b[0;34m(\u001b[0m\u001b[0;34m)\u001b[0m\u001b[0;34m:\u001b[0m\u001b[0;34m\u001b[0m\u001b[0;34m\u001b[0m\u001b[0m\n",
            "\u001b[0;32m/usr/lib/python3.10/multiprocessing/connection.py\u001b[0m in \u001b[0;36mpoll\u001b[0;34m(self, timeout)\u001b[0m\n\u001b[1;32m    255\u001b[0m         \u001b[0mself\u001b[0m\u001b[0;34m.\u001b[0m\u001b[0m_check_closed\u001b[0m\u001b[0;34m(\u001b[0m\u001b[0;34m)\u001b[0m\u001b[0;34m\u001b[0m\u001b[0;34m\u001b[0m\u001b[0m\n\u001b[1;32m    256\u001b[0m         \u001b[0mself\u001b[0m\u001b[0;34m.\u001b[0m\u001b[0m_check_readable\u001b[0m\u001b[0;34m(\u001b[0m\u001b[0;34m)\u001b[0m\u001b[0;34m\u001b[0m\u001b[0;34m\u001b[0m\u001b[0m\n\u001b[0;32m--> 257\u001b[0;31m         \u001b[0;32mreturn\u001b[0m \u001b[0mself\u001b[0m\u001b[0;34m.\u001b[0m\u001b[0m_poll\u001b[0m\u001b[0;34m(\u001b[0m\u001b[0mtimeout\u001b[0m\u001b[0;34m)\u001b[0m\u001b[0;34m\u001b[0m\u001b[0;34m\u001b[0m\u001b[0m\n\u001b[0m\u001b[1;32m    258\u001b[0m \u001b[0;34m\u001b[0m\u001b[0m\n\u001b[1;32m    259\u001b[0m     \u001b[0;32mdef\u001b[0m \u001b[0m__enter__\u001b[0m\u001b[0;34m(\u001b[0m\u001b[0mself\u001b[0m\u001b[0;34m)\u001b[0m\u001b[0;34m:\u001b[0m\u001b[0;34m\u001b[0m\u001b[0;34m\u001b[0m\u001b[0m\n",
            "\u001b[0;32m/usr/lib/python3.10/multiprocessing/connection.py\u001b[0m in \u001b[0;36m_poll\u001b[0;34m(self, timeout)\u001b[0m\n\u001b[1;32m    422\u001b[0m \u001b[0;34m\u001b[0m\u001b[0m\n\u001b[1;32m    423\u001b[0m     \u001b[0;32mdef\u001b[0m \u001b[0m_poll\u001b[0m\u001b[0;34m(\u001b[0m\u001b[0mself\u001b[0m\u001b[0;34m,\u001b[0m \u001b[0mtimeout\u001b[0m\u001b[0;34m)\u001b[0m\u001b[0;34m:\u001b[0m\u001b[0;34m\u001b[0m\u001b[0;34m\u001b[0m\u001b[0m\n\u001b[0;32m--> 424\u001b[0;31m         \u001b[0mr\u001b[0m \u001b[0;34m=\u001b[0m \u001b[0mwait\u001b[0m\u001b[0;34m(\u001b[0m\u001b[0;34m[\u001b[0m\u001b[0mself\u001b[0m\u001b[0;34m]\u001b[0m\u001b[0;34m,\u001b[0m \u001b[0mtimeout\u001b[0m\u001b[0;34m)\u001b[0m\u001b[0;34m\u001b[0m\u001b[0;34m\u001b[0m\u001b[0m\n\u001b[0m\u001b[1;32m    425\u001b[0m         \u001b[0;32mreturn\u001b[0m \u001b[0mbool\u001b[0m\u001b[0;34m(\u001b[0m\u001b[0mr\u001b[0m\u001b[0;34m)\u001b[0m\u001b[0;34m\u001b[0m\u001b[0;34m\u001b[0m\u001b[0m\n\u001b[1;32m    426\u001b[0m \u001b[0;34m\u001b[0m\u001b[0m\n",
            "\u001b[0;32m/usr/lib/python3.10/multiprocessing/connection.py\u001b[0m in \u001b[0;36mwait\u001b[0;34m(object_list, timeout)\u001b[0m\n\u001b[1;32m    929\u001b[0m \u001b[0;34m\u001b[0m\u001b[0m\n\u001b[1;32m    930\u001b[0m             \u001b[0;32mwhile\u001b[0m \u001b[0;32mTrue\u001b[0m\u001b[0;34m:\u001b[0m\u001b[0;34m\u001b[0m\u001b[0;34m\u001b[0m\u001b[0m\n\u001b[0;32m--> 931\u001b[0;31m                 \u001b[0mready\u001b[0m \u001b[0;34m=\u001b[0m \u001b[0mselector\u001b[0m\u001b[0;34m.\u001b[0m\u001b[0mselect\u001b[0m\u001b[0;34m(\u001b[0m\u001b[0mtimeout\u001b[0m\u001b[0;34m)\u001b[0m\u001b[0;34m\u001b[0m\u001b[0;34m\u001b[0m\u001b[0m\n\u001b[0m\u001b[1;32m    932\u001b[0m                 \u001b[0;32mif\u001b[0m \u001b[0mready\u001b[0m\u001b[0;34m:\u001b[0m\u001b[0;34m\u001b[0m\u001b[0;34m\u001b[0m\u001b[0m\n\u001b[1;32m    933\u001b[0m                     \u001b[0;32mreturn\u001b[0m \u001b[0;34m[\u001b[0m\u001b[0mkey\u001b[0m\u001b[0;34m.\u001b[0m\u001b[0mfileobj\u001b[0m \u001b[0;32mfor\u001b[0m \u001b[0;34m(\u001b[0m\u001b[0mkey\u001b[0m\u001b[0;34m,\u001b[0m \u001b[0mevents\u001b[0m\u001b[0;34m)\u001b[0m \u001b[0;32min\u001b[0m \u001b[0mready\u001b[0m\u001b[0;34m]\u001b[0m\u001b[0;34m\u001b[0m\u001b[0;34m\u001b[0m\u001b[0m\n",
            "\u001b[0;32m/usr/lib/python3.10/selectors.py\u001b[0m in \u001b[0;36mselect\u001b[0;34m(self, timeout)\u001b[0m\n\u001b[1;32m    414\u001b[0m         \u001b[0mready\u001b[0m \u001b[0;34m=\u001b[0m \u001b[0;34m[\u001b[0m\u001b[0;34m]\u001b[0m\u001b[0;34m\u001b[0m\u001b[0;34m\u001b[0m\u001b[0m\n\u001b[1;32m    415\u001b[0m         \u001b[0;32mtry\u001b[0m\u001b[0;34m:\u001b[0m\u001b[0;34m\u001b[0m\u001b[0;34m\u001b[0m\u001b[0m\n\u001b[0;32m--> 416\u001b[0;31m             \u001b[0mfd_event_list\u001b[0m \u001b[0;34m=\u001b[0m \u001b[0mself\u001b[0m\u001b[0;34m.\u001b[0m\u001b[0m_selector\u001b[0m\u001b[0;34m.\u001b[0m\u001b[0mpoll\u001b[0m\u001b[0;34m(\u001b[0m\u001b[0mtimeout\u001b[0m\u001b[0;34m)\u001b[0m\u001b[0;34m\u001b[0m\u001b[0;34m\u001b[0m\u001b[0m\n\u001b[0m\u001b[1;32m    417\u001b[0m         \u001b[0;32mexcept\u001b[0m \u001b[0mInterruptedError\u001b[0m\u001b[0;34m:\u001b[0m\u001b[0;34m\u001b[0m\u001b[0;34m\u001b[0m\u001b[0m\n\u001b[1;32m    418\u001b[0m             \u001b[0;32mreturn\u001b[0m \u001b[0mready\u001b[0m\u001b[0;34m\u001b[0m\u001b[0;34m\u001b[0m\u001b[0m\n",
            "\u001b[0;31mKeyboardInterrupt\u001b[0m: "
          ]
        }
      ],
      "source": [
        "%run large_batch_training.py --optimizer SGDM --batch-size 128 --weight-decay 4e-4"
      ]
    },
    {
      "cell_type": "markdown",
      "metadata": {
        "id": "_2t__56QmDKL"
      },
      "source": []
    },
    {
      "cell_type": "code",
      "execution_count": 2,
      "metadata": {
        "colab": {
          "base_uri": "https://localhost:8080/",
          "height": 1000
        },
        "id": "FqIzBQKfZFgB",
        "outputId": "ce620890-131b-4b7a-875f-ea50a718b043"
      },
      "outputs": [
        {
          "output_type": "stream",
          "name": "stdout",
          "text": [
            "Downloading https://www.cs.toronto.edu/~kriz/cifar-100-python.tar.gz to ./data/cifar-100-python.tar.gz\n"
          ]
        },
        {
          "output_type": "stream",
          "name": "stderr",
          "text": [
            "100%|██████████| 169M/169M [00:12<00:00, 13.2MB/s]\n"
          ]
        },
        {
          "output_type": "stream",
          "name": "stdout",
          "text": [
            "Extracting ./data/cifar-100-python.tar.gz to ./data\n",
            "Files already downloaded and verified\n",
            "Files already downloaded and verified\n",
            "Files already downloaded and verified\n",
            "--- Train with AdamW ---\n",
            "Epoch 1/150, Train Acc: 3.35%, Val Acc: 7.22%, Test Acc: 5.89%\n",
            "Epoch 1/150, Train Loss: 4.4323, Val Loss: 4.1276, Test Loss: 4.1515\n",
            "Epoch 2/150, Train Acc: 7.51%, Val Acc: 11.72%, Test Acc: 10.62%\n",
            "Epoch 2/150, Train Loss: 4.1268, Val Loss: 3.8674, Test Loss: 3.9243\n",
            "Epoch 3/150, Train Acc: 10.70%, Val Acc: 13.86%, Test Acc: 12.53%\n",
            "Epoch 3/150, Train Loss: 3.9042, Val Loss: 3.7104, Test Loss: 3.7681\n",
            "Epoch 4/150, Train Acc: 13.30%, Val Acc: 17.39%, Test Acc: 15.34%\n",
            "Epoch 4/150, Train Loss: 3.7246, Val Loss: 3.4986, Test Loss: 3.5817\n",
            "Warmup phase completed at epoch 5. Switching to constant learning rate.\n",
            "Epoch 5/150, Train Acc: 15.39%, Val Acc: 19.12%, Test Acc: 16.38%\n",
            "Epoch 5/150, Train Loss: 3.5732, Val Loss: 3.3942, Test Loss: 3.5413\n",
            "Epoch 6/150, Train Acc: 17.87%, Val Acc: 19.77%, Test Acc: 17.87%\n",
            "Epoch 6/150, Train Loss: 3.4408, Val Loss: 3.3550, Test Loss: 3.4460\n",
            "Epoch 7/150, Train Acc: 20.07%, Val Acc: 23.67%, Test Acc: 19.43%\n",
            "Epoch 7/150, Train Loss: 3.3083, Val Loss: 3.1144, Test Loss: 3.3525\n",
            "Epoch 8/150, Train Acc: 21.75%, Val Acc: 24.87%, Test Acc: 22.36%\n",
            "Epoch 8/150, Train Loss: 3.2085, Val Loss: 3.0459, Test Loss: 3.1796\n",
            "Epoch 9/150, Train Acc: 23.62%, Val Acc: 26.90%, Test Acc: 23.64%\n",
            "Epoch 9/150, Train Loss: 3.1044, Val Loss: 2.9727, Test Loss: 3.1448\n",
            "Checkpoint saved at epoch 10: ./checkpoint_epoch_10.pth\n"
          ]
        },
        {
          "output_type": "display_data",
          "data": {
            "text/plain": [
              "<IPython.core.display.Javascript object>"
            ],
            "application/javascript": [
              "\n",
              "    async function download(id, filename, size) {\n",
              "      if (!google.colab.kernel.accessAllowed) {\n",
              "        return;\n",
              "      }\n",
              "      const div = document.createElement('div');\n",
              "      const label = document.createElement('label');\n",
              "      label.textContent = `Downloading \"${filename}\": `;\n",
              "      div.appendChild(label);\n",
              "      const progress = document.createElement('progress');\n",
              "      progress.max = size;\n",
              "      div.appendChild(progress);\n",
              "      document.body.appendChild(div);\n",
              "\n",
              "      const buffers = [];\n",
              "      let downloaded = 0;\n",
              "\n",
              "      const channel = await google.colab.kernel.comms.open(id);\n",
              "      // Send a message to notify the kernel that we're ready.\n",
              "      channel.send({})\n",
              "\n",
              "      for await (const message of channel.messages) {\n",
              "        // Send a message to notify the kernel that we're ready.\n",
              "        channel.send({})\n",
              "        if (message.buffers) {\n",
              "          for (const buffer of message.buffers) {\n",
              "            buffers.push(buffer);\n",
              "            downloaded += buffer.byteLength;\n",
              "            progress.value = downloaded;\n",
              "          }\n",
              "        }\n",
              "      }\n",
              "      const blob = new Blob(buffers, {type: 'application/binary'});\n",
              "      const a = document.createElement('a');\n",
              "      a.href = window.URL.createObjectURL(blob);\n",
              "      a.download = filename;\n",
              "      div.appendChild(a);\n",
              "      a.click();\n",
              "      div.remove();\n",
              "    }\n",
              "  "
            ]
          },
          "metadata": {}
        },
        {
          "output_type": "display_data",
          "data": {
            "text/plain": [
              "<IPython.core.display.Javascript object>"
            ],
            "application/javascript": [
              "download(\"download_aadad986-435a-4dd7-99d2-6018eb3bed28\", \"checkpoint_epoch_10.pth\", 9797102)"
            ]
          },
          "metadata": {}
        },
        {
          "output_type": "stream",
          "name": "stdout",
          "text": [
            "Epoch 10/150, Train Acc: 25.12%, Val Acc: 28.28%, Test Acc: 23.14%\n",
            "Epoch 10/150, Train Loss: 3.0352, Val Loss: 2.9376, Test Loss: 3.2221\n",
            "Epoch 11/150, Train Acc: 26.83%, Val Acc: 29.63%, Test Acc: 24.79%\n",
            "Epoch 11/150, Train Loss: 2.9465, Val Loss: 2.8108, Test Loss: 3.1307\n",
            "Epoch 12/150, Train Acc: 27.89%, Val Acc: 31.95%, Test Acc: 27.91%\n",
            "Epoch 12/150, Train Loss: 2.8845, Val Loss: 2.7048, Test Loss: 2.9345\n",
            "Epoch 13/150, Train Acc: 29.30%, Val Acc: 33.13%, Test Acc: 26.48%\n",
            "Epoch 13/150, Train Loss: 2.8179, Val Loss: 2.6583, Test Loss: 2.9723\n",
            "Epoch 14/150, Train Acc: 29.78%, Val Acc: 34.16%, Test Acc: 30.00%\n",
            "Epoch 14/150, Train Loss: 2.7914, Val Loss: 2.6051, Test Loss: 2.7902\n",
            "Epoch 15/150, Train Acc: 30.79%, Val Acc: 34.11%, Test Acc: 29.38%\n",
            "Epoch 15/150, Train Loss: 2.7490, Val Loss: 2.5917, Test Loss: 2.8620\n",
            "Epoch 16/150, Train Acc: 31.94%, Val Acc: 34.61%, Test Acc: 30.72%\n",
            "Epoch 16/150, Train Loss: 2.7000, Val Loss: 2.5823, Test Loss: 2.7822\n",
            "Epoch 17/150, Train Acc: 32.36%, Val Acc: 35.12%, Test Acc: 29.16%\n",
            "Epoch 17/150, Train Loss: 2.6614, Val Loss: 2.5724, Test Loss: 2.9350\n",
            "Epoch 18/150, Train Acc: 33.15%, Val Acc: 36.35%, Test Acc: 31.95%\n",
            "Epoch 18/150, Train Loss: 2.6139, Val Loss: 2.4989, Test Loss: 2.7287\n",
            "Epoch 19/150, Train Acc: 33.95%, Val Acc: 37.39%, Test Acc: 32.57%\n",
            "Epoch 19/150, Train Loss: 2.5939, Val Loss: 2.4554, Test Loss: 2.7050\n",
            "Checkpoint saved at epoch 20: ./checkpoint_epoch_20.pth\n"
          ]
        },
        {
          "output_type": "display_data",
          "data": {
            "text/plain": [
              "<IPython.core.display.Javascript object>"
            ],
            "application/javascript": [
              "\n",
              "    async function download(id, filename, size) {\n",
              "      if (!google.colab.kernel.accessAllowed) {\n",
              "        return;\n",
              "      }\n",
              "      const div = document.createElement('div');\n",
              "      const label = document.createElement('label');\n",
              "      label.textContent = `Downloading \"${filename}\": `;\n",
              "      div.appendChild(label);\n",
              "      const progress = document.createElement('progress');\n",
              "      progress.max = size;\n",
              "      div.appendChild(progress);\n",
              "      document.body.appendChild(div);\n",
              "\n",
              "      const buffers = [];\n",
              "      let downloaded = 0;\n",
              "\n",
              "      const channel = await google.colab.kernel.comms.open(id);\n",
              "      // Send a message to notify the kernel that we're ready.\n",
              "      channel.send({})\n",
              "\n",
              "      for await (const message of channel.messages) {\n",
              "        // Send a message to notify the kernel that we're ready.\n",
              "        channel.send({})\n",
              "        if (message.buffers) {\n",
              "          for (const buffer of message.buffers) {\n",
              "            buffers.push(buffer);\n",
              "            downloaded += buffer.byteLength;\n",
              "            progress.value = downloaded;\n",
              "          }\n",
              "        }\n",
              "      }\n",
              "      const blob = new Blob(buffers, {type: 'application/binary'});\n",
              "      const a = document.createElement('a');\n",
              "      a.href = window.URL.createObjectURL(blob);\n",
              "      a.download = filename;\n",
              "      div.appendChild(a);\n",
              "      a.click();\n",
              "      div.remove();\n",
              "    }\n",
              "  "
            ]
          },
          "metadata": {}
        },
        {
          "output_type": "display_data",
          "data": {
            "text/plain": [
              "<IPython.core.display.Javascript object>"
            ],
            "application/javascript": [
              "download(\"download_6441744b-f910-4128-a64c-fd3df0d643cf\", \"checkpoint_epoch_20.pth\", 9797102)"
            ]
          },
          "metadata": {}
        },
        {
          "output_type": "stream",
          "name": "stdout",
          "text": [
            "Epoch 20/150, Train Acc: 34.31%, Val Acc: 35.77%, Test Acc: 32.61%\n",
            "Epoch 20/150, Train Loss: 2.5719, Val Loss: 2.4964, Test Loss: 2.7242\n",
            "Epoch 21/150, Train Acc: 35.30%, Val Acc: 38.13%, Test Acc: 33.91%\n",
            "Epoch 21/150, Train Loss: 2.5136, Val Loss: 2.4219, Test Loss: 2.6349\n",
            "Epoch 22/150, Train Acc: 35.81%, Val Acc: 38.01%, Test Acc: 33.79%\n",
            "Epoch 22/150, Train Loss: 2.4850, Val Loss: 2.4226, Test Loss: 2.6316\n",
            "Epoch 23/150, Train Acc: 36.32%, Val Acc: 37.77%, Test Acc: 33.72%\n",
            "Epoch 23/150, Train Loss: 2.4695, Val Loss: 2.4398, Test Loss: 2.6220\n",
            "Epoch 24/150, Train Acc: 37.59%, Val Acc: 38.97%, Test Acc: 33.26%\n",
            "Epoch 24/150, Train Loss: 2.4211, Val Loss: 2.3788, Test Loss: 2.6763\n",
            "Epoch 25/150, Train Acc: 38.10%, Val Acc: 37.88%, Test Acc: 32.02%\n",
            "Epoch 25/150, Train Loss: 2.3974, Val Loss: 2.4637, Test Loss: 2.7474\n",
            "Epoch 26/150, Train Acc: 37.41%, Val Acc: 39.98%, Test Acc: 33.56%\n",
            "Epoch 26/150, Train Loss: 2.4345, Val Loss: 2.3574, Test Loss: 2.6843\n",
            "Epoch 27/150, Train Acc: 39.11%, Val Acc: 39.73%, Test Acc: 35.66%\n",
            "Epoch 27/150, Train Loss: 2.3604, Val Loss: 2.3609, Test Loss: 2.5464\n",
            "Epoch 28/150, Train Acc: 39.24%, Val Acc: 38.86%, Test Acc: 31.78%\n",
            "Epoch 28/150, Train Loss: 2.3439, Val Loss: 2.4131, Test Loss: 2.8598\n",
            "Epoch 29/150, Train Acc: 38.59%, Val Acc: 40.81%, Test Acc: 36.72%\n",
            "Epoch 29/150, Train Loss: 2.3698, Val Loss: 2.2973, Test Loss: 2.5138\n",
            "Checkpoint saved at epoch 30: ./checkpoint_epoch_30.pth\n"
          ]
        },
        {
          "output_type": "display_data",
          "data": {
            "text/plain": [
              "<IPython.core.display.Javascript object>"
            ],
            "application/javascript": [
              "\n",
              "    async function download(id, filename, size) {\n",
              "      if (!google.colab.kernel.accessAllowed) {\n",
              "        return;\n",
              "      }\n",
              "      const div = document.createElement('div');\n",
              "      const label = document.createElement('label');\n",
              "      label.textContent = `Downloading \"${filename}\": `;\n",
              "      div.appendChild(label);\n",
              "      const progress = document.createElement('progress');\n",
              "      progress.max = size;\n",
              "      div.appendChild(progress);\n",
              "      document.body.appendChild(div);\n",
              "\n",
              "      const buffers = [];\n",
              "      let downloaded = 0;\n",
              "\n",
              "      const channel = await google.colab.kernel.comms.open(id);\n",
              "      // Send a message to notify the kernel that we're ready.\n",
              "      channel.send({})\n",
              "\n",
              "      for await (const message of channel.messages) {\n",
              "        // Send a message to notify the kernel that we're ready.\n",
              "        channel.send({})\n",
              "        if (message.buffers) {\n",
              "          for (const buffer of message.buffers) {\n",
              "            buffers.push(buffer);\n",
              "            downloaded += buffer.byteLength;\n",
              "            progress.value = downloaded;\n",
              "          }\n",
              "        }\n",
              "      }\n",
              "      const blob = new Blob(buffers, {type: 'application/binary'});\n",
              "      const a = document.createElement('a');\n",
              "      a.href = window.URL.createObjectURL(blob);\n",
              "      a.download = filename;\n",
              "      div.appendChild(a);\n",
              "      a.click();\n",
              "      div.remove();\n",
              "    }\n",
              "  "
            ]
          },
          "metadata": {}
        },
        {
          "output_type": "display_data",
          "data": {
            "text/plain": [
              "<IPython.core.display.Javascript object>"
            ],
            "application/javascript": [
              "download(\"download_e47025ae-fd21-436a-a6fd-8b6914ebe531\", \"checkpoint_epoch_30.pth\", 9797102)"
            ]
          },
          "metadata": {}
        },
        {
          "output_type": "stream",
          "name": "stdout",
          "text": [
            "Epoch 30/150, Train Acc: 40.44%, Val Acc: 40.98%, Test Acc: 37.00%\n",
            "Epoch 30/150, Train Loss: 2.2923, Val Loss: 2.2969, Test Loss: 2.5003\n",
            "Epoch 31/150, Train Acc: 40.66%, Val Acc: 40.00%, Test Acc: 35.80%\n",
            "Epoch 31/150, Train Loss: 2.2594, Val Loss: 2.3622, Test Loss: 2.5540\n",
            "Epoch 32/150, Train Acc: 40.76%, Val Acc: 41.28%, Test Acc: 36.65%\n",
            "Epoch 32/150, Train Loss: 2.2591, Val Loss: 2.2904, Test Loss: 2.5235\n",
            "Epoch 33/150, Train Acc: 41.12%, Val Acc: 41.82%, Test Acc: 36.04%\n",
            "Epoch 33/150, Train Loss: 2.2452, Val Loss: 2.2660, Test Loss: 2.5559\n",
            "Epoch 34/150, Train Acc: 41.84%, Val Acc: 41.28%, Test Acc: 36.02%\n",
            "Epoch 34/150, Train Loss: 2.2205, Val Loss: 2.2806, Test Loss: 2.5224\n",
            "Epoch 35/150, Train Acc: 42.03%, Val Acc: 42.25%, Test Acc: 36.98%\n",
            "Epoch 35/150, Train Loss: 2.1960, Val Loss: 2.2745, Test Loss: 2.5491\n",
            "Epoch 36/150, Train Acc: 42.71%, Val Acc: 42.78%, Test Acc: 38.56%\n",
            "Epoch 36/150, Train Loss: 2.1711, Val Loss: 2.2330, Test Loss: 2.4405\n",
            "Epoch 37/150, Train Acc: 42.69%, Val Acc: 42.84%, Test Acc: 38.16%\n",
            "Epoch 37/150, Train Loss: 2.1730, Val Loss: 2.2231, Test Loss: 2.4640\n",
            "Epoch 38/150, Train Acc: 43.47%, Val Acc: 41.96%, Test Acc: 37.24%\n",
            "Epoch 38/150, Train Loss: 2.1473, Val Loss: 2.2551, Test Loss: 2.5143\n",
            "Epoch 39/150, Train Acc: 43.61%, Val Acc: 42.78%, Test Acc: 38.94%\n",
            "Epoch 39/150, Train Loss: 2.1352, Val Loss: 2.2483, Test Loss: 2.4166\n",
            "Checkpoint saved at epoch 40: ./checkpoint_epoch_40.pth\n"
          ]
        },
        {
          "output_type": "display_data",
          "data": {
            "text/plain": [
              "<IPython.core.display.Javascript object>"
            ],
            "application/javascript": [
              "\n",
              "    async function download(id, filename, size) {\n",
              "      if (!google.colab.kernel.accessAllowed) {\n",
              "        return;\n",
              "      }\n",
              "      const div = document.createElement('div');\n",
              "      const label = document.createElement('label');\n",
              "      label.textContent = `Downloading \"${filename}\": `;\n",
              "      div.appendChild(label);\n",
              "      const progress = document.createElement('progress');\n",
              "      progress.max = size;\n",
              "      div.appendChild(progress);\n",
              "      document.body.appendChild(div);\n",
              "\n",
              "      const buffers = [];\n",
              "      let downloaded = 0;\n",
              "\n",
              "      const channel = await google.colab.kernel.comms.open(id);\n",
              "      // Send a message to notify the kernel that we're ready.\n",
              "      channel.send({})\n",
              "\n",
              "      for await (const message of channel.messages) {\n",
              "        // Send a message to notify the kernel that we're ready.\n",
              "        channel.send({})\n",
              "        if (message.buffers) {\n",
              "          for (const buffer of message.buffers) {\n",
              "            buffers.push(buffer);\n",
              "            downloaded += buffer.byteLength;\n",
              "            progress.value = downloaded;\n",
              "          }\n",
              "        }\n",
              "      }\n",
              "      const blob = new Blob(buffers, {type: 'application/binary'});\n",
              "      const a = document.createElement('a');\n",
              "      a.href = window.URL.createObjectURL(blob);\n",
              "      a.download = filename;\n",
              "      div.appendChild(a);\n",
              "      a.click();\n",
              "      div.remove();\n",
              "    }\n",
              "  "
            ]
          },
          "metadata": {}
        },
        {
          "output_type": "display_data",
          "data": {
            "text/plain": [
              "<IPython.core.display.Javascript object>"
            ],
            "application/javascript": [
              "download(\"download_6c4251ab-ee72-44ba-abb9-ff43d00e7d94\", \"checkpoint_epoch_40.pth\", 9797102)"
            ]
          },
          "metadata": {}
        },
        {
          "output_type": "stream",
          "name": "stdout",
          "text": [
            "Epoch 40/150, Train Acc: 43.59%, Val Acc: 42.48%, Test Acc: 36.34%\n",
            "Epoch 40/150, Train Loss: 2.1258, Val Loss: 2.2404, Test Loss: 2.5826\n",
            "Epoch 41/150, Train Acc: 43.91%, Val Acc: 42.30%, Test Acc: 37.36%\n",
            "Epoch 41/150, Train Loss: 2.1198, Val Loss: 2.2766, Test Loss: 2.5304\n",
            "Epoch 42/150, Train Acc: 44.16%, Val Acc: 43.50%, Test Acc: 38.26%\n",
            "Epoch 42/150, Train Loss: 2.1026, Val Loss: 2.2337, Test Loss: 2.4660\n",
            "Epoch 43/150, Train Acc: 44.96%, Val Acc: 42.64%, Test Acc: 34.45%\n",
            "Epoch 43/150, Train Loss: 2.0656, Val Loss: 2.2862, Test Loss: 2.7418\n",
            "Epoch 44/150, Train Acc: 44.33%, Val Acc: 43.42%, Test Acc: 38.50%\n",
            "Epoch 44/150, Train Loss: 2.0911, Val Loss: 2.2091, Test Loss: 2.4458\n",
            "Epoch 45/150, Train Acc: 45.15%, Val Acc: 43.56%, Test Acc: 38.49%\n",
            "Epoch 45/150, Train Loss: 2.0687, Val Loss: 2.2410, Test Loss: 2.5048\n",
            "Epoch 46/150, Train Acc: 45.45%, Val Acc: 43.91%, Test Acc: 38.18%\n",
            "Epoch 46/150, Train Loss: 2.0474, Val Loss: 2.1680, Test Loss: 2.4791\n",
            "Epoch 47/150, Train Acc: 45.96%, Val Acc: 44.25%, Test Acc: 37.84%\n",
            "Epoch 47/150, Train Loss: 2.0280, Val Loss: 2.2020, Test Loss: 2.5017\n",
            "Epoch 48/150, Train Acc: 45.56%, Val Acc: 44.54%, Test Acc: 38.83%\n",
            "Epoch 48/150, Train Loss: 2.0520, Val Loss: 2.2191, Test Loss: 2.4703\n",
            "Epoch 49/150, Train Acc: 46.44%, Val Acc: 43.42%, Test Acc: 36.14%\n",
            "Epoch 49/150, Train Loss: 2.0082, Val Loss: 2.2433, Test Loss: 2.6148\n",
            "Checkpoint saved at epoch 50: ./checkpoint_epoch_50.pth\n"
          ]
        },
        {
          "output_type": "display_data",
          "data": {
            "text/plain": [
              "<IPython.core.display.Javascript object>"
            ],
            "application/javascript": [
              "\n",
              "    async function download(id, filename, size) {\n",
              "      if (!google.colab.kernel.accessAllowed) {\n",
              "        return;\n",
              "      }\n",
              "      const div = document.createElement('div');\n",
              "      const label = document.createElement('label');\n",
              "      label.textContent = `Downloading \"${filename}\": `;\n",
              "      div.appendChild(label);\n",
              "      const progress = document.createElement('progress');\n",
              "      progress.max = size;\n",
              "      div.appendChild(progress);\n",
              "      document.body.appendChild(div);\n",
              "\n",
              "      const buffers = [];\n",
              "      let downloaded = 0;\n",
              "\n",
              "      const channel = await google.colab.kernel.comms.open(id);\n",
              "      // Send a message to notify the kernel that we're ready.\n",
              "      channel.send({})\n",
              "\n",
              "      for await (const message of channel.messages) {\n",
              "        // Send a message to notify the kernel that we're ready.\n",
              "        channel.send({})\n",
              "        if (message.buffers) {\n",
              "          for (const buffer of message.buffers) {\n",
              "            buffers.push(buffer);\n",
              "            downloaded += buffer.byteLength;\n",
              "            progress.value = downloaded;\n",
              "          }\n",
              "        }\n",
              "      }\n",
              "      const blob = new Blob(buffers, {type: 'application/binary'});\n",
              "      const a = document.createElement('a');\n",
              "      a.href = window.URL.createObjectURL(blob);\n",
              "      a.download = filename;\n",
              "      div.appendChild(a);\n",
              "      a.click();\n",
              "      div.remove();\n",
              "    }\n",
              "  "
            ]
          },
          "metadata": {}
        },
        {
          "output_type": "display_data",
          "data": {
            "text/plain": [
              "<IPython.core.display.Javascript object>"
            ],
            "application/javascript": [
              "download(\"download_ccf026b7-3485-4f2f-8404-6499bced5492\", \"checkpoint_epoch_50.pth\", 9797102)"
            ]
          },
          "metadata": {}
        },
        {
          "output_type": "stream",
          "name": "stdout",
          "text": [
            "Epoch 50/150, Train Acc: 46.59%, Val Acc: 44.79%, Test Acc: 38.31%\n",
            "Epoch 50/150, Train Loss: 2.0052, Val Loss: 2.1975, Test Loss: 2.5166\n",
            "Epoch 51/150, Train Acc: 46.99%, Val Acc: 44.64%, Test Acc: 37.62%\n",
            "Epoch 51/150, Train Loss: 1.9754, Val Loss: 2.1780, Test Loss: 2.5653\n",
            "Epoch 52/150, Train Acc: 46.86%, Val Acc: 44.48%, Test Acc: 36.31%\n",
            "Epoch 52/150, Train Loss: 1.9702, Val Loss: 2.1932, Test Loss: 2.5908\n",
            "Epoch 53/150, Train Acc: 47.46%, Val Acc: 44.56%, Test Acc: 37.71%\n",
            "Epoch 53/150, Train Loss: 1.9494, Val Loss: 2.1608, Test Loss: 2.4779\n",
            "Epoch 54/150, Train Acc: 47.59%, Val Acc: 45.47%, Test Acc: 39.63%\n",
            "Epoch 54/150, Train Loss: 1.9638, Val Loss: 2.1439, Test Loss: 2.4068\n",
            "Epoch 55/150, Train Acc: 48.03%, Val Acc: 45.56%, Test Acc: 39.30%\n",
            "Epoch 55/150, Train Loss: 1.9298, Val Loss: 2.1319, Test Loss: 2.4368\n",
            "Epoch 56/150, Train Acc: 48.24%, Val Acc: 44.62%, Test Acc: 39.21%\n",
            "Epoch 56/150, Train Loss: 1.9173, Val Loss: 2.1780, Test Loss: 2.4672\n",
            "Epoch 57/150, Train Acc: 48.36%, Val Acc: 45.58%, Test Acc: 39.58%\n",
            "Epoch 57/150, Train Loss: 1.9217, Val Loss: 2.1360, Test Loss: 2.4296\n",
            "Epoch 58/150, Train Acc: 48.53%, Val Acc: 46.05%, Test Acc: 40.70%\n",
            "Epoch 58/150, Train Loss: 1.8947, Val Loss: 2.1506, Test Loss: 2.3755\n",
            "Epoch 59/150, Train Acc: 48.61%, Val Acc: 45.47%, Test Acc: 39.76%\n",
            "Epoch 59/150, Train Loss: 1.8998, Val Loss: 2.1524, Test Loss: 2.4008\n",
            "Checkpoint saved at epoch 60: ./checkpoint_epoch_60.pth\n"
          ]
        },
        {
          "output_type": "display_data",
          "data": {
            "text/plain": [
              "<IPython.core.display.Javascript object>"
            ],
            "application/javascript": [
              "\n",
              "    async function download(id, filename, size) {\n",
              "      if (!google.colab.kernel.accessAllowed) {\n",
              "        return;\n",
              "      }\n",
              "      const div = document.createElement('div');\n",
              "      const label = document.createElement('label');\n",
              "      label.textContent = `Downloading \"${filename}\": `;\n",
              "      div.appendChild(label);\n",
              "      const progress = document.createElement('progress');\n",
              "      progress.max = size;\n",
              "      div.appendChild(progress);\n",
              "      document.body.appendChild(div);\n",
              "\n",
              "      const buffers = [];\n",
              "      let downloaded = 0;\n",
              "\n",
              "      const channel = await google.colab.kernel.comms.open(id);\n",
              "      // Send a message to notify the kernel that we're ready.\n",
              "      channel.send({})\n",
              "\n",
              "      for await (const message of channel.messages) {\n",
              "        // Send a message to notify the kernel that we're ready.\n",
              "        channel.send({})\n",
              "        if (message.buffers) {\n",
              "          for (const buffer of message.buffers) {\n",
              "            buffers.push(buffer);\n",
              "            downloaded += buffer.byteLength;\n",
              "            progress.value = downloaded;\n",
              "          }\n",
              "        }\n",
              "      }\n",
              "      const blob = new Blob(buffers, {type: 'application/binary'});\n",
              "      const a = document.createElement('a');\n",
              "      a.href = window.URL.createObjectURL(blob);\n",
              "      a.download = filename;\n",
              "      div.appendChild(a);\n",
              "      a.click();\n",
              "      div.remove();\n",
              "    }\n",
              "  "
            ]
          },
          "metadata": {}
        },
        {
          "output_type": "display_data",
          "data": {
            "text/plain": [
              "<IPython.core.display.Javascript object>"
            ],
            "application/javascript": [
              "download(\"download_1ac91184-94c8-409b-807e-ebcb2a1de39c\", \"checkpoint_epoch_60.pth\", 9797102)"
            ]
          },
          "metadata": {}
        },
        {
          "output_type": "stream",
          "name": "stdout",
          "text": [
            "Epoch 60/150, Train Acc: 48.68%, Val Acc: 45.60%, Test Acc: 40.00%\n",
            "Epoch 60/150, Train Loss: 1.8880, Val Loss: 2.1384, Test Loss: 2.4080\n",
            "Epoch 61/150, Train Acc: 49.37%, Val Acc: 45.92%, Test Acc: 39.84%\n",
            "Epoch 61/150, Train Loss: 1.8872, Val Loss: 2.1237, Test Loss: 2.4442\n",
            "Epoch 62/150, Train Acc: 49.91%, Val Acc: 46.24%, Test Acc: 40.31%\n",
            "Epoch 62/150, Train Loss: 1.8507, Val Loss: 2.1087, Test Loss: 2.4166\n",
            "Epoch 63/150, Train Acc: 49.92%, Val Acc: 46.58%, Test Acc: 40.08%\n",
            "Epoch 63/150, Train Loss: 1.8542, Val Loss: 2.0965, Test Loss: 2.4220\n",
            "Epoch 64/150, Train Acc: 49.92%, Val Acc: 45.82%, Test Acc: 40.62%\n",
            "Epoch 64/150, Train Loss: 1.8453, Val Loss: 2.1458, Test Loss: 2.3816\n",
            "Epoch 65/150, Train Acc: 50.15%, Val Acc: 46.05%, Test Acc: 39.70%\n",
            "Epoch 65/150, Train Loss: 1.8330, Val Loss: 2.1697, Test Loss: 2.4441\n",
            "Epoch 66/150, Train Acc: 49.76%, Val Acc: 46.74%, Test Acc: 41.64%\n",
            "Epoch 66/150, Train Loss: 1.8373, Val Loss: 2.1243, Test Loss: 2.3504\n",
            "Epoch 67/150, Train Acc: 50.65%, Val Acc: 46.08%, Test Acc: 41.13%\n",
            "Epoch 67/150, Train Loss: 1.8146, Val Loss: 2.1249, Test Loss: 2.3972\n",
            "Epoch 68/150, Train Acc: 51.08%, Val Acc: 46.33%, Test Acc: 40.95%\n",
            "Epoch 68/150, Train Loss: 1.8036, Val Loss: 2.1041, Test Loss: 2.3719\n",
            "Epoch 69/150, Train Acc: 51.52%, Val Acc: 46.77%, Test Acc: 40.92%\n",
            "Epoch 69/150, Train Loss: 1.7962, Val Loss: 2.0955, Test Loss: 2.3915\n",
            "Checkpoint saved at epoch 70: ./checkpoint_epoch_70.pth\n"
          ]
        },
        {
          "output_type": "display_data",
          "data": {
            "text/plain": [
              "<IPython.core.display.Javascript object>"
            ],
            "application/javascript": [
              "\n",
              "    async function download(id, filename, size) {\n",
              "      if (!google.colab.kernel.accessAllowed) {\n",
              "        return;\n",
              "      }\n",
              "      const div = document.createElement('div');\n",
              "      const label = document.createElement('label');\n",
              "      label.textContent = `Downloading \"${filename}\": `;\n",
              "      div.appendChild(label);\n",
              "      const progress = document.createElement('progress');\n",
              "      progress.max = size;\n",
              "      div.appendChild(progress);\n",
              "      document.body.appendChild(div);\n",
              "\n",
              "      const buffers = [];\n",
              "      let downloaded = 0;\n",
              "\n",
              "      const channel = await google.colab.kernel.comms.open(id);\n",
              "      // Send a message to notify the kernel that we're ready.\n",
              "      channel.send({})\n",
              "\n",
              "      for await (const message of channel.messages) {\n",
              "        // Send a message to notify the kernel that we're ready.\n",
              "        channel.send({})\n",
              "        if (message.buffers) {\n",
              "          for (const buffer of message.buffers) {\n",
              "            buffers.push(buffer);\n",
              "            downloaded += buffer.byteLength;\n",
              "            progress.value = downloaded;\n",
              "          }\n",
              "        }\n",
              "      }\n",
              "      const blob = new Blob(buffers, {type: 'application/binary'});\n",
              "      const a = document.createElement('a');\n",
              "      a.href = window.URL.createObjectURL(blob);\n",
              "      a.download = filename;\n",
              "      div.appendChild(a);\n",
              "      a.click();\n",
              "      div.remove();\n",
              "    }\n",
              "  "
            ]
          },
          "metadata": {}
        },
        {
          "output_type": "display_data",
          "data": {
            "text/plain": [
              "<IPython.core.display.Javascript object>"
            ],
            "application/javascript": [
              "download(\"download_1e1d5092-b985-4529-8515-f5cc61129364\", \"checkpoint_epoch_70.pth\", 9797102)"
            ]
          },
          "metadata": {}
        },
        {
          "output_type": "stream",
          "name": "stdout",
          "text": [
            "Epoch 70/150, Train Acc: 51.10%, Val Acc: 47.40%, Test Acc: 41.40%\n",
            "Epoch 70/150, Train Loss: 1.7994, Val Loss: 2.1063, Test Loss: 2.3898\n",
            "Epoch 71/150, Train Acc: 51.35%, Val Acc: 46.07%, Test Acc: 40.99%\n",
            "Epoch 71/150, Train Loss: 1.7944, Val Loss: 2.1145, Test Loss: 2.3634\n",
            "Epoch 72/150, Train Acc: 51.26%, Val Acc: 46.84%, Test Acc: 41.12%\n",
            "Epoch 72/150, Train Loss: 1.7834, Val Loss: 2.0919, Test Loss: 2.3994\n",
            "Epoch 73/150, Train Acc: 51.75%, Val Acc: 46.52%, Test Acc: 40.90%\n",
            "Epoch 73/150, Train Loss: 1.7730, Val Loss: 2.1229, Test Loss: 2.4282\n",
            "Epoch 74/150, Train Acc: 51.87%, Val Acc: 47.12%, Test Acc: 41.82%\n",
            "Epoch 74/150, Train Loss: 1.7628, Val Loss: 2.1025, Test Loss: 2.3412\n",
            "Epoch 75/150, Train Acc: 52.31%, Val Acc: 47.15%, Test Acc: 40.69%\n",
            "Epoch 75/150, Train Loss: 1.7436, Val Loss: 2.0929, Test Loss: 2.3927\n",
            "Epoch 76/150, Train Acc: 52.51%, Val Acc: 46.27%, Test Acc: 40.84%\n",
            "Epoch 76/150, Train Loss: 1.7354, Val Loss: 2.1389, Test Loss: 2.3877\n",
            "Epoch 77/150, Train Acc: 52.03%, Val Acc: 47.23%, Test Acc: 42.29%\n",
            "Epoch 77/150, Train Loss: 1.7609, Val Loss: 2.0915, Test Loss: 2.3076\n",
            "Epoch 78/150, Train Acc: 52.36%, Val Acc: 47.18%, Test Acc: 41.29%\n",
            "Epoch 78/150, Train Loss: 1.7438, Val Loss: 2.0841, Test Loss: 2.3837\n",
            "Epoch 79/150, Train Acc: 52.48%, Val Acc: 47.04%, Test Acc: 40.96%\n",
            "Epoch 79/150, Train Loss: 1.7521, Val Loss: 2.1124, Test Loss: 2.3971\n",
            "Checkpoint saved at epoch 80: ./checkpoint_epoch_80.pth\n"
          ]
        },
        {
          "output_type": "display_data",
          "data": {
            "text/plain": [
              "<IPython.core.display.Javascript object>"
            ],
            "application/javascript": [
              "\n",
              "    async function download(id, filename, size) {\n",
              "      if (!google.colab.kernel.accessAllowed) {\n",
              "        return;\n",
              "      }\n",
              "      const div = document.createElement('div');\n",
              "      const label = document.createElement('label');\n",
              "      label.textContent = `Downloading \"${filename}\": `;\n",
              "      div.appendChild(label);\n",
              "      const progress = document.createElement('progress');\n",
              "      progress.max = size;\n",
              "      div.appendChild(progress);\n",
              "      document.body.appendChild(div);\n",
              "\n",
              "      const buffers = [];\n",
              "      let downloaded = 0;\n",
              "\n",
              "      const channel = await google.colab.kernel.comms.open(id);\n",
              "      // Send a message to notify the kernel that we're ready.\n",
              "      channel.send({})\n",
              "\n",
              "      for await (const message of channel.messages) {\n",
              "        // Send a message to notify the kernel that we're ready.\n",
              "        channel.send({})\n",
              "        if (message.buffers) {\n",
              "          for (const buffer of message.buffers) {\n",
              "            buffers.push(buffer);\n",
              "            downloaded += buffer.byteLength;\n",
              "            progress.value = downloaded;\n",
              "          }\n",
              "        }\n",
              "      }\n",
              "      const blob = new Blob(buffers, {type: 'application/binary'});\n",
              "      const a = document.createElement('a');\n",
              "      a.href = window.URL.createObjectURL(blob);\n",
              "      a.download = filename;\n",
              "      div.appendChild(a);\n",
              "      a.click();\n",
              "      div.remove();\n",
              "    }\n",
              "  "
            ]
          },
          "metadata": {}
        },
        {
          "output_type": "display_data",
          "data": {
            "text/plain": [
              "<IPython.core.display.Javascript object>"
            ],
            "application/javascript": [
              "download(\"download_caf7a528-82f3-47bb-9c8b-40af2eb998f1\", \"checkpoint_epoch_80.pth\", 9797102)"
            ]
          },
          "metadata": {}
        },
        {
          "output_type": "stream",
          "name": "stdout",
          "text": [
            "Epoch 80/150, Train Acc: 52.07%, Val Acc: 47.56%, Test Acc: 41.09%\n",
            "Epoch 80/150, Train Loss: 1.7479, Val Loss: 2.0868, Test Loss: 2.3801\n",
            "Epoch 81/150, Train Acc: 52.67%, Val Acc: 48.03%, Test Acc: 41.19%\n",
            "Epoch 81/150, Train Loss: 1.7310, Val Loss: 2.0885, Test Loss: 2.3947\n",
            "Epoch 82/150, Train Acc: 52.81%, Val Acc: 46.91%, Test Acc: 39.83%\n",
            "Epoch 82/150, Train Loss: 1.7162, Val Loss: 2.1370, Test Loss: 2.5013\n",
            "Epoch 83/150, Train Acc: 53.34%, Val Acc: 48.03%, Test Acc: 41.98%\n",
            "Epoch 83/150, Train Loss: 1.7066, Val Loss: 2.0909, Test Loss: 2.3553\n",
            "Epoch 84/150, Train Acc: 53.09%, Val Acc: 47.32%, Test Acc: 40.90%\n",
            "Epoch 84/150, Train Loss: 1.6987, Val Loss: 2.1126, Test Loss: 2.4191\n",
            "Epoch 85/150, Train Acc: 53.55%, Val Acc: 47.19%, Test Acc: 41.23%\n",
            "Epoch 85/150, Train Loss: 1.6948, Val Loss: 2.0996, Test Loss: 2.3616\n",
            "Epoch 86/150, Train Acc: 53.67%, Val Acc: 47.62%, Test Acc: 41.76%\n",
            "Epoch 86/150, Train Loss: 1.6770, Val Loss: 2.0945, Test Loss: 2.3867\n",
            "Epoch 87/150, Train Acc: 53.52%, Val Acc: 47.84%, Test Acc: 42.30%\n",
            "Epoch 87/150, Train Loss: 1.6790, Val Loss: 2.0942, Test Loss: 2.3668\n",
            "Epoch 88/150, Train Acc: 54.24%, Val Acc: 47.56%, Test Acc: 42.07%\n",
            "Epoch 88/150, Train Loss: 1.6678, Val Loss: 2.1085, Test Loss: 2.3588\n",
            "Epoch 89/150, Train Acc: 54.31%, Val Acc: 47.75%, Test Acc: 41.40%\n",
            "Epoch 89/150, Train Loss: 1.6607, Val Loss: 2.1038, Test Loss: 2.4113\n",
            "Checkpoint saved at epoch 90: ./checkpoint_epoch_90.pth\n"
          ]
        },
        {
          "output_type": "display_data",
          "data": {
            "text/plain": [
              "<IPython.core.display.Javascript object>"
            ],
            "application/javascript": [
              "\n",
              "    async function download(id, filename, size) {\n",
              "      if (!google.colab.kernel.accessAllowed) {\n",
              "        return;\n",
              "      }\n",
              "      const div = document.createElement('div');\n",
              "      const label = document.createElement('label');\n",
              "      label.textContent = `Downloading \"${filename}\": `;\n",
              "      div.appendChild(label);\n",
              "      const progress = document.createElement('progress');\n",
              "      progress.max = size;\n",
              "      div.appendChild(progress);\n",
              "      document.body.appendChild(div);\n",
              "\n",
              "      const buffers = [];\n",
              "      let downloaded = 0;\n",
              "\n",
              "      const channel = await google.colab.kernel.comms.open(id);\n",
              "      // Send a message to notify the kernel that we're ready.\n",
              "      channel.send({})\n",
              "\n",
              "      for await (const message of channel.messages) {\n",
              "        // Send a message to notify the kernel that we're ready.\n",
              "        channel.send({})\n",
              "        if (message.buffers) {\n",
              "          for (const buffer of message.buffers) {\n",
              "            buffers.push(buffer);\n",
              "            downloaded += buffer.byteLength;\n",
              "            progress.value = downloaded;\n",
              "          }\n",
              "        }\n",
              "      }\n",
              "      const blob = new Blob(buffers, {type: 'application/binary'});\n",
              "      const a = document.createElement('a');\n",
              "      a.href = window.URL.createObjectURL(blob);\n",
              "      a.download = filename;\n",
              "      div.appendChild(a);\n",
              "      a.click();\n",
              "      div.remove();\n",
              "    }\n",
              "  "
            ]
          },
          "metadata": {}
        },
        {
          "output_type": "display_data",
          "data": {
            "text/plain": [
              "<IPython.core.display.Javascript object>"
            ],
            "application/javascript": [
              "download(\"download_18da36b2-0bc9-4784-b94b-369264ffb6a6\", \"checkpoint_epoch_90.pth\", 9797102)"
            ]
          },
          "metadata": {}
        },
        {
          "output_type": "stream",
          "name": "stdout",
          "text": [
            "Epoch 90/150, Train Acc: 54.52%, Val Acc: 47.95%, Test Acc: 42.41%\n",
            "Epoch 90/150, Train Loss: 1.6436, Val Loss: 2.0832, Test Loss: 2.3592\n",
            "Epoch 91/150, Train Acc: 54.83%, Val Acc: 46.96%, Test Acc: 41.51%\n",
            "Epoch 91/150, Train Loss: 1.6304, Val Loss: 2.1144, Test Loss: 2.3703\n",
            "Epoch 92/150, Train Acc: 54.83%, Val Acc: 47.63%, Test Acc: 41.96%\n",
            "Epoch 92/150, Train Loss: 1.6346, Val Loss: 2.1050, Test Loss: 2.3892\n",
            "Epoch 93/150, Train Acc: 54.61%, Val Acc: 48.09%, Test Acc: 41.63%\n",
            "Epoch 93/150, Train Loss: 1.6475, Val Loss: 2.0928, Test Loss: 2.3931\n",
            "Epoch 94/150, Train Acc: 54.99%, Val Acc: 48.04%, Test Acc: 41.97%\n",
            "Epoch 94/150, Train Loss: 1.6299, Val Loss: 2.0911, Test Loss: 2.3931\n",
            "Epoch 95/150, Train Acc: 55.19%, Val Acc: 47.42%, Test Acc: 40.64%\n",
            "Epoch 95/150, Train Loss: 1.6190, Val Loss: 2.1132, Test Loss: 2.4437\n",
            "Epoch 96/150, Train Acc: 55.60%, Val Acc: 48.02%, Test Acc: 41.95%\n",
            "Epoch 96/150, Train Loss: 1.6071, Val Loss: 2.0920, Test Loss: 2.3838\n",
            "Epoch 97/150, Train Acc: 55.37%, Val Acc: 48.19%, Test Acc: 42.20%\n",
            "Epoch 97/150, Train Loss: 1.6067, Val Loss: 2.0842, Test Loss: 2.3874\n",
            "Epoch 98/150, Train Acc: 55.61%, Val Acc: 48.09%, Test Acc: 42.75%\n",
            "Epoch 98/150, Train Loss: 1.6072, Val Loss: 2.0826, Test Loss: 2.3610\n",
            "Epoch 99/150, Train Acc: 55.78%, Val Acc: 47.60%, Test Acc: 42.15%\n",
            "Epoch 99/150, Train Loss: 1.5956, Val Loss: 2.0926, Test Loss: 2.3634\n",
            "Checkpoint saved at epoch 100: ./checkpoint_epoch_100.pth\n"
          ]
        },
        {
          "output_type": "display_data",
          "data": {
            "text/plain": [
              "<IPython.core.display.Javascript object>"
            ],
            "application/javascript": [
              "\n",
              "    async function download(id, filename, size) {\n",
              "      if (!google.colab.kernel.accessAllowed) {\n",
              "        return;\n",
              "      }\n",
              "      const div = document.createElement('div');\n",
              "      const label = document.createElement('label');\n",
              "      label.textContent = `Downloading \"${filename}\": `;\n",
              "      div.appendChild(label);\n",
              "      const progress = document.createElement('progress');\n",
              "      progress.max = size;\n",
              "      div.appendChild(progress);\n",
              "      document.body.appendChild(div);\n",
              "\n",
              "      const buffers = [];\n",
              "      let downloaded = 0;\n",
              "\n",
              "      const channel = await google.colab.kernel.comms.open(id);\n",
              "      // Send a message to notify the kernel that we're ready.\n",
              "      channel.send({})\n",
              "\n",
              "      for await (const message of channel.messages) {\n",
              "        // Send a message to notify the kernel that we're ready.\n",
              "        channel.send({})\n",
              "        if (message.buffers) {\n",
              "          for (const buffer of message.buffers) {\n",
              "            buffers.push(buffer);\n",
              "            downloaded += buffer.byteLength;\n",
              "            progress.value = downloaded;\n",
              "          }\n",
              "        }\n",
              "      }\n",
              "      const blob = new Blob(buffers, {type: 'application/binary'});\n",
              "      const a = document.createElement('a');\n",
              "      a.href = window.URL.createObjectURL(blob);\n",
              "      a.download = filename;\n",
              "      div.appendChild(a);\n",
              "      a.click();\n",
              "      div.remove();\n",
              "    }\n",
              "  "
            ]
          },
          "metadata": {}
        },
        {
          "output_type": "display_data",
          "data": {
            "text/plain": [
              "<IPython.core.display.Javascript object>"
            ],
            "application/javascript": [
              "download(\"download_fcd65500-c2ed-4308-98db-8ed6492427dc\", \"checkpoint_epoch_100.pth\", 9797146)"
            ]
          },
          "metadata": {}
        },
        {
          "output_type": "stream",
          "name": "stdout",
          "text": [
            "Epoch 100/150, Train Acc: 56.01%, Val Acc: 48.18%, Test Acc: 42.26%\n",
            "Epoch 100/150, Train Loss: 1.5938, Val Loss: 2.1189, Test Loss: 2.4045\n",
            "Epoch 101/150, Train Acc: 55.74%, Val Acc: 48.43%, Test Acc: 42.30%\n",
            "Epoch 101/150, Train Loss: 1.5956, Val Loss: 2.0736, Test Loss: 2.3591\n",
            "Epoch 102/150, Train Acc: 56.11%, Val Acc: 48.52%, Test Acc: 42.21%\n",
            "Epoch 102/150, Train Loss: 1.5822, Val Loss: 2.0786, Test Loss: 2.3661\n",
            "Epoch 103/150, Train Acc: 56.89%, Val Acc: 48.33%, Test Acc: 42.62%\n",
            "Epoch 103/150, Train Loss: 1.5569, Val Loss: 2.0866, Test Loss: 2.3627\n",
            "Epoch 104/150, Train Acc: 56.37%, Val Acc: 47.79%, Test Acc: 41.83%\n",
            "Epoch 104/150, Train Loss: 1.5545, Val Loss: 2.1411, Test Loss: 2.4247\n",
            "Epoch 105/150, Train Acc: 56.59%, Val Acc: 48.64%, Test Acc: 42.55%\n",
            "Epoch 105/150, Train Loss: 1.5559, Val Loss: 2.0808, Test Loss: 2.3631\n",
            "Epoch 106/150, Train Acc: 57.00%, Val Acc: 49.07%, Test Acc: 43.45%\n",
            "Epoch 106/150, Train Loss: 1.5523, Val Loss: 2.0741, Test Loss: 2.3231\n",
            "Epoch 107/150, Train Acc: 57.20%, Val Acc: 48.50%, Test Acc: 42.23%\n",
            "Epoch 107/150, Train Loss: 1.5448, Val Loss: 2.0757, Test Loss: 2.4015\n",
            "Epoch 108/150, Train Acc: 56.68%, Val Acc: 48.70%, Test Acc: 42.45%\n",
            "Epoch 108/150, Train Loss: 1.5485, Val Loss: 2.1002, Test Loss: 2.3940\n",
            "Epoch 109/150, Train Acc: 57.04%, Val Acc: 48.71%, Test Acc: 42.42%\n",
            "Epoch 109/150, Train Loss: 1.5567, Val Loss: 2.0810, Test Loss: 2.3874\n",
            "Checkpoint saved at epoch 110: ./checkpoint_epoch_110.pth\n"
          ]
        },
        {
          "output_type": "display_data",
          "data": {
            "text/plain": [
              "<IPython.core.display.Javascript object>"
            ],
            "application/javascript": [
              "\n",
              "    async function download(id, filename, size) {\n",
              "      if (!google.colab.kernel.accessAllowed) {\n",
              "        return;\n",
              "      }\n",
              "      const div = document.createElement('div');\n",
              "      const label = document.createElement('label');\n",
              "      label.textContent = `Downloading \"${filename}\": `;\n",
              "      div.appendChild(label);\n",
              "      const progress = document.createElement('progress');\n",
              "      progress.max = size;\n",
              "      div.appendChild(progress);\n",
              "      document.body.appendChild(div);\n",
              "\n",
              "      const buffers = [];\n",
              "      let downloaded = 0;\n",
              "\n",
              "      const channel = await google.colab.kernel.comms.open(id);\n",
              "      // Send a message to notify the kernel that we're ready.\n",
              "      channel.send({})\n",
              "\n",
              "      for await (const message of channel.messages) {\n",
              "        // Send a message to notify the kernel that we're ready.\n",
              "        channel.send({})\n",
              "        if (message.buffers) {\n",
              "          for (const buffer of message.buffers) {\n",
              "            buffers.push(buffer);\n",
              "            downloaded += buffer.byteLength;\n",
              "            progress.value = downloaded;\n",
              "          }\n",
              "        }\n",
              "      }\n",
              "      const blob = new Blob(buffers, {type: 'application/binary'});\n",
              "      const a = document.createElement('a');\n",
              "      a.href = window.URL.createObjectURL(blob);\n",
              "      a.download = filename;\n",
              "      div.appendChild(a);\n",
              "      a.click();\n",
              "      div.remove();\n",
              "    }\n",
              "  "
            ]
          },
          "metadata": {}
        },
        {
          "output_type": "display_data",
          "data": {
            "text/plain": [
              "<IPython.core.display.Javascript object>"
            ],
            "application/javascript": [
              "download(\"download_58296299-37f0-4f0e-be15-330538394899\", \"checkpoint_epoch_110.pth\", 9797146)"
            ]
          },
          "metadata": {}
        },
        {
          "output_type": "stream",
          "name": "stdout",
          "text": [
            "Epoch 110/150, Train Acc: 57.11%, Val Acc: 48.84%, Test Acc: 43.16%\n",
            "Epoch 110/150, Train Loss: 1.5517, Val Loss: 2.0935, Test Loss: 2.3642\n",
            "Epoch 111/150, Train Acc: 57.18%, Val Acc: 48.99%, Test Acc: 43.32%\n",
            "Epoch 111/150, Train Loss: 1.5381, Val Loss: 2.0748, Test Loss: 2.3418\n",
            "Epoch 112/150, Train Acc: 57.81%, Val Acc: 48.47%, Test Acc: 42.25%\n",
            "Epoch 112/150, Train Loss: 1.5188, Val Loss: 2.1050, Test Loss: 2.3913\n",
            "Epoch 113/150, Train Acc: 57.30%, Val Acc: 48.96%, Test Acc: 42.58%\n",
            "Epoch 113/150, Train Loss: 1.5318, Val Loss: 2.0775, Test Loss: 2.3813\n",
            "Epoch 114/150, Train Acc: 57.96%, Val Acc: 49.30%, Test Acc: 43.23%\n",
            "Epoch 114/150, Train Loss: 1.5137, Val Loss: 2.0680, Test Loss: 2.3295\n",
            "Epoch 115/150, Train Acc: 58.12%, Val Acc: 48.63%, Test Acc: 43.00%\n",
            "Epoch 115/150, Train Loss: 1.4985, Val Loss: 2.0828, Test Loss: 2.3581\n",
            "Epoch 116/150, Train Acc: 58.30%, Val Acc: 48.34%, Test Acc: 43.11%\n",
            "Epoch 116/150, Train Loss: 1.5037, Val Loss: 2.1025, Test Loss: 2.3634\n",
            "Epoch 117/150, Train Acc: 58.08%, Val Acc: 49.64%, Test Acc: 43.41%\n",
            "Epoch 117/150, Train Loss: 1.5047, Val Loss: 2.0770, Test Loss: 2.3668\n",
            "Epoch 118/150, Train Acc: 58.27%, Val Acc: 48.78%, Test Acc: 43.23%\n",
            "Epoch 118/150, Train Loss: 1.5025, Val Loss: 2.0773, Test Loss: 2.3571\n",
            "Epoch 119/150, Train Acc: 58.30%, Val Acc: 49.21%, Test Acc: 42.88%\n",
            "Epoch 119/150, Train Loss: 1.4900, Val Loss: 2.0780, Test Loss: 2.3780\n",
            "Checkpoint saved at epoch 120: ./checkpoint_epoch_120.pth\n"
          ]
        },
        {
          "output_type": "display_data",
          "data": {
            "text/plain": [
              "<IPython.core.display.Javascript object>"
            ],
            "application/javascript": [
              "\n",
              "    async function download(id, filename, size) {\n",
              "      if (!google.colab.kernel.accessAllowed) {\n",
              "        return;\n",
              "      }\n",
              "      const div = document.createElement('div');\n",
              "      const label = document.createElement('label');\n",
              "      label.textContent = `Downloading \"${filename}\": `;\n",
              "      div.appendChild(label);\n",
              "      const progress = document.createElement('progress');\n",
              "      progress.max = size;\n",
              "      div.appendChild(progress);\n",
              "      document.body.appendChild(div);\n",
              "\n",
              "      const buffers = [];\n",
              "      let downloaded = 0;\n",
              "\n",
              "      const channel = await google.colab.kernel.comms.open(id);\n",
              "      // Send a message to notify the kernel that we're ready.\n",
              "      channel.send({})\n",
              "\n",
              "      for await (const message of channel.messages) {\n",
              "        // Send a message to notify the kernel that we're ready.\n",
              "        channel.send({})\n",
              "        if (message.buffers) {\n",
              "          for (const buffer of message.buffers) {\n",
              "            buffers.push(buffer);\n",
              "            downloaded += buffer.byteLength;\n",
              "            progress.value = downloaded;\n",
              "          }\n",
              "        }\n",
              "      }\n",
              "      const blob = new Blob(buffers, {type: 'application/binary'});\n",
              "      const a = document.createElement('a');\n",
              "      a.href = window.URL.createObjectURL(blob);\n",
              "      a.download = filename;\n",
              "      div.appendChild(a);\n",
              "      a.click();\n",
              "      div.remove();\n",
              "    }\n",
              "  "
            ]
          },
          "metadata": {}
        },
        {
          "output_type": "display_data",
          "data": {
            "text/plain": [
              "<IPython.core.display.Javascript object>"
            ],
            "application/javascript": [
              "download(\"download_fa90e3bd-54fe-4e4f-b777-66d0b2b9223e\", \"checkpoint_epoch_120.pth\", 9797146)"
            ]
          },
          "metadata": {}
        },
        {
          "output_type": "stream",
          "name": "stdout",
          "text": [
            "Epoch 120/150, Train Acc: 58.59%, Val Acc: 49.37%, Test Acc: 43.90%\n",
            "Epoch 120/150, Train Loss: 1.4865, Val Loss: 2.1007, Test Loss: 2.3399\n",
            "Epoch 121/150, Train Acc: 58.84%, Val Acc: 49.46%, Test Acc: 42.89%\n",
            "Epoch 121/150, Train Loss: 1.4755, Val Loss: 2.0742, Test Loss: 2.3635\n",
            "Epoch 122/150, Train Acc: 58.49%, Val Acc: 49.33%, Test Acc: 43.39%\n",
            "Epoch 122/150, Train Loss: 1.4612, Val Loss: 2.0799, Test Loss: 2.3362\n",
            "Epoch 123/150, Train Acc: 59.02%, Val Acc: 49.54%, Test Acc: 43.42%\n",
            "Epoch 123/150, Train Loss: 1.4618, Val Loss: 2.0664, Test Loss: 2.3751\n",
            "Epoch 124/150, Train Acc: 58.90%, Val Acc: 49.65%, Test Acc: 43.26%\n",
            "Epoch 124/150, Train Loss: 1.4514, Val Loss: 2.0841, Test Loss: 2.3916\n",
            "Epoch 125/150, Train Acc: 59.28%, Val Acc: 49.95%, Test Acc: 43.92%\n",
            "Epoch 125/150, Train Loss: 1.4452, Val Loss: 2.0649, Test Loss: 2.3303\n",
            "Epoch 126/150, Train Acc: 59.58%, Val Acc: 49.15%, Test Acc: 43.87%\n",
            "Epoch 126/150, Train Loss: 1.4499, Val Loss: 2.0614, Test Loss: 2.3327\n",
            "Epoch 127/150, Train Acc: 59.77%, Val Acc: 49.57%, Test Acc: 42.89%\n",
            "Epoch 127/150, Train Loss: 1.4369, Val Loss: 2.0864, Test Loss: 2.3825\n",
            "Epoch 128/150, Train Acc: 60.07%, Val Acc: 49.25%, Test Acc: 43.25%\n",
            "Epoch 128/150, Train Loss: 1.4301, Val Loss: 2.0888, Test Loss: 2.3641\n",
            "Epoch 129/150, Train Acc: 59.44%, Val Acc: 49.32%, Test Acc: 43.29%\n",
            "Epoch 129/150, Train Loss: 1.4434, Val Loss: 2.0630, Test Loss: 2.3708\n",
            "Checkpoint saved at epoch 130: ./checkpoint_epoch_130.pth\n"
          ]
        },
        {
          "output_type": "display_data",
          "data": {
            "text/plain": [
              "<IPython.core.display.Javascript object>"
            ],
            "application/javascript": [
              "\n",
              "    async function download(id, filename, size) {\n",
              "      if (!google.colab.kernel.accessAllowed) {\n",
              "        return;\n",
              "      }\n",
              "      const div = document.createElement('div');\n",
              "      const label = document.createElement('label');\n",
              "      label.textContent = `Downloading \"${filename}\": `;\n",
              "      div.appendChild(label);\n",
              "      const progress = document.createElement('progress');\n",
              "      progress.max = size;\n",
              "      div.appendChild(progress);\n",
              "      document.body.appendChild(div);\n",
              "\n",
              "      const buffers = [];\n",
              "      let downloaded = 0;\n",
              "\n",
              "      const channel = await google.colab.kernel.comms.open(id);\n",
              "      // Send a message to notify the kernel that we're ready.\n",
              "      channel.send({})\n",
              "\n",
              "      for await (const message of channel.messages) {\n",
              "        // Send a message to notify the kernel that we're ready.\n",
              "        channel.send({})\n",
              "        if (message.buffers) {\n",
              "          for (const buffer of message.buffers) {\n",
              "            buffers.push(buffer);\n",
              "            downloaded += buffer.byteLength;\n",
              "            progress.value = downloaded;\n",
              "          }\n",
              "        }\n",
              "      }\n",
              "      const blob = new Blob(buffers, {type: 'application/binary'});\n",
              "      const a = document.createElement('a');\n",
              "      a.href = window.URL.createObjectURL(blob);\n",
              "      a.download = filename;\n",
              "      div.appendChild(a);\n",
              "      a.click();\n",
              "      div.remove();\n",
              "    }\n",
              "  "
            ]
          },
          "metadata": {}
        },
        {
          "output_type": "display_data",
          "data": {
            "text/plain": [
              "<IPython.core.display.Javascript object>"
            ],
            "application/javascript": [
              "download(\"download_def62e59-c6e5-454d-b37d-f50c126920de\", \"checkpoint_epoch_130.pth\", 9797146)"
            ]
          },
          "metadata": {}
        },
        {
          "output_type": "stream",
          "name": "stdout",
          "text": [
            "Epoch 130/150, Train Acc: 59.55%, Val Acc: 49.51%, Test Acc: 44.12%\n",
            "Epoch 130/150, Train Loss: 1.4366, Val Loss: 2.0705, Test Loss: 2.3468\n",
            "Epoch 131/150, Train Acc: 59.76%, Val Acc: 49.65%, Test Acc: 43.77%\n",
            "Epoch 131/150, Train Loss: 1.4369, Val Loss: 2.0727, Test Loss: 2.3472\n",
            "Epoch 132/150, Train Acc: 59.82%, Val Acc: 49.96%, Test Acc: 43.70%\n",
            "Epoch 132/150, Train Loss: 1.4244, Val Loss: 2.0813, Test Loss: 2.3662\n",
            "Epoch 133/150, Train Acc: 60.20%, Val Acc: 49.70%, Test Acc: 43.30%\n",
            "Epoch 133/150, Train Loss: 1.4205, Val Loss: 2.0909, Test Loss: 2.3787\n",
            "Epoch 134/150, Train Acc: 60.01%, Val Acc: 49.89%, Test Acc: 43.35%\n",
            "Epoch 134/150, Train Loss: 1.4175, Val Loss: 2.0774, Test Loss: 2.3575\n",
            "Epoch 135/150, Train Acc: 60.08%, Val Acc: 49.99%, Test Acc: 43.72%\n",
            "Epoch 135/150, Train Loss: 1.4072, Val Loss: 2.0756, Test Loss: 2.3488\n",
            "Epoch 136/150, Train Acc: 60.81%, Val Acc: 49.57%, Test Acc: 43.95%\n",
            "Epoch 136/150, Train Loss: 1.3991, Val Loss: 2.0780, Test Loss: 2.3298\n",
            "Epoch 137/150, Train Acc: 60.49%, Val Acc: 49.89%, Test Acc: 43.43%\n",
            "Epoch 137/150, Train Loss: 1.3953, Val Loss: 2.0827, Test Loss: 2.3713\n",
            "Epoch 138/150, Train Acc: 60.42%, Val Acc: 49.90%, Test Acc: 43.68%\n",
            "Epoch 138/150, Train Loss: 1.4027, Val Loss: 2.0848, Test Loss: 2.3702\n",
            "Epoch 139/150, Train Acc: 60.69%, Val Acc: 50.13%, Test Acc: 43.42%\n",
            "Epoch 139/150, Train Loss: 1.3893, Val Loss: 2.0644, Test Loss: 2.3633\n",
            "Checkpoint saved at epoch 140: ./checkpoint_epoch_140.pth\n"
          ]
        },
        {
          "output_type": "display_data",
          "data": {
            "text/plain": [
              "<IPython.core.display.Javascript object>"
            ],
            "application/javascript": [
              "\n",
              "    async function download(id, filename, size) {\n",
              "      if (!google.colab.kernel.accessAllowed) {\n",
              "        return;\n",
              "      }\n",
              "      const div = document.createElement('div');\n",
              "      const label = document.createElement('label');\n",
              "      label.textContent = `Downloading \"${filename}\": `;\n",
              "      div.appendChild(label);\n",
              "      const progress = document.createElement('progress');\n",
              "      progress.max = size;\n",
              "      div.appendChild(progress);\n",
              "      document.body.appendChild(div);\n",
              "\n",
              "      const buffers = [];\n",
              "      let downloaded = 0;\n",
              "\n",
              "      const channel = await google.colab.kernel.comms.open(id);\n",
              "      // Send a message to notify the kernel that we're ready.\n",
              "      channel.send({})\n",
              "\n",
              "      for await (const message of channel.messages) {\n",
              "        // Send a message to notify the kernel that we're ready.\n",
              "        channel.send({})\n",
              "        if (message.buffers) {\n",
              "          for (const buffer of message.buffers) {\n",
              "            buffers.push(buffer);\n",
              "            downloaded += buffer.byteLength;\n",
              "            progress.value = downloaded;\n",
              "          }\n",
              "        }\n",
              "      }\n",
              "      const blob = new Blob(buffers, {type: 'application/binary'});\n",
              "      const a = document.createElement('a');\n",
              "      a.href = window.URL.createObjectURL(blob);\n",
              "      a.download = filename;\n",
              "      div.appendChild(a);\n",
              "      a.click();\n",
              "      div.remove();\n",
              "    }\n",
              "  "
            ]
          },
          "metadata": {}
        },
        {
          "output_type": "display_data",
          "data": {
            "text/plain": [
              "<IPython.core.display.Javascript object>"
            ],
            "application/javascript": [
              "download(\"download_6e9c01b1-c416-4eed-a00a-a38b30f58d14\", \"checkpoint_epoch_140.pth\", 9797146)"
            ]
          },
          "metadata": {}
        },
        {
          "output_type": "stream",
          "name": "stdout",
          "text": [
            "Epoch 140/150, Train Acc: 60.74%, Val Acc: 50.37%, Test Acc: 43.67%\n",
            "Epoch 140/150, Train Loss: 1.3952, Val Loss: 2.0733, Test Loss: 2.3715\n",
            "Epoch 141/150, Train Acc: 61.07%, Val Acc: 49.84%, Test Acc: 44.02%\n",
            "Epoch 141/150, Train Loss: 1.3889, Val Loss: 2.0705, Test Loss: 2.3328\n",
            "Epoch 142/150, Train Acc: 60.90%, Val Acc: 50.24%, Test Acc: 43.86%\n",
            "Epoch 142/150, Train Loss: 1.3838, Val Loss: 2.0741, Test Loss: 2.3635\n",
            "Epoch 143/150, Train Acc: 60.87%, Val Acc: 50.12%, Test Acc: 43.92%\n",
            "Epoch 143/150, Train Loss: 1.3967, Val Loss: 2.0690, Test Loss: 2.3480\n",
            "Epoch 144/150, Train Acc: 60.93%, Val Acc: 50.46%, Test Acc: 43.74%\n",
            "Epoch 144/150, Train Loss: 1.3787, Val Loss: 2.0654, Test Loss: 2.3462\n",
            "Epoch 145/150, Train Acc: 61.18%, Val Acc: 50.34%, Test Acc: 43.85%\n",
            "Epoch 145/150, Train Loss: 1.3813, Val Loss: 2.0732, Test Loss: 2.3625\n",
            "Epoch 146/150, Train Acc: 61.08%, Val Acc: 50.33%, Test Acc: 43.78%\n",
            "Epoch 146/150, Train Loss: 1.3815, Val Loss: 2.0664, Test Loss: 2.3568\n",
            "Epoch 147/150, Train Acc: 61.36%, Val Acc: 50.35%, Test Acc: 43.95%\n",
            "Epoch 147/150, Train Loss: 1.3692, Val Loss: 2.0669, Test Loss: 2.3440\n",
            "Epoch 148/150, Train Acc: 61.65%, Val Acc: 50.26%, Test Acc: 43.88%\n",
            "Epoch 148/150, Train Loss: 1.3654, Val Loss: 2.0643, Test Loss: 2.3432\n",
            "Epoch 149/150, Train Acc: 61.38%, Val Acc: 50.32%, Test Acc: 43.99%\n",
            "Epoch 149/150, Train Loss: 1.3625, Val Loss: 2.0630, Test Loss: 2.3470\n",
            "Checkpoint saved at epoch 150: ./checkpoint_epoch_150.pth\n"
          ]
        },
        {
          "output_type": "display_data",
          "data": {
            "text/plain": [
              "<IPython.core.display.Javascript object>"
            ],
            "application/javascript": [
              "\n",
              "    async function download(id, filename, size) {\n",
              "      if (!google.colab.kernel.accessAllowed) {\n",
              "        return;\n",
              "      }\n",
              "      const div = document.createElement('div');\n",
              "      const label = document.createElement('label');\n",
              "      label.textContent = `Downloading \"${filename}\": `;\n",
              "      div.appendChild(label);\n",
              "      const progress = document.createElement('progress');\n",
              "      progress.max = size;\n",
              "      div.appendChild(progress);\n",
              "      document.body.appendChild(div);\n",
              "\n",
              "      const buffers = [];\n",
              "      let downloaded = 0;\n",
              "\n",
              "      const channel = await google.colab.kernel.comms.open(id);\n",
              "      // Send a message to notify the kernel that we're ready.\n",
              "      channel.send({})\n",
              "\n",
              "      for await (const message of channel.messages) {\n",
              "        // Send a message to notify the kernel that we're ready.\n",
              "        channel.send({})\n",
              "        if (message.buffers) {\n",
              "          for (const buffer of message.buffers) {\n",
              "            buffers.push(buffer);\n",
              "            downloaded += buffer.byteLength;\n",
              "            progress.value = downloaded;\n",
              "          }\n",
              "        }\n",
              "      }\n",
              "      const blob = new Blob(buffers, {type: 'application/binary'});\n",
              "      const a = document.createElement('a');\n",
              "      a.href = window.URL.createObjectURL(blob);\n",
              "      a.download = filename;\n",
              "      div.appendChild(a);\n",
              "      a.click();\n",
              "      div.remove();\n",
              "    }\n",
              "  "
            ]
          },
          "metadata": {}
        },
        {
          "output_type": "display_data",
          "data": {
            "text/plain": [
              "<IPython.core.display.Javascript object>"
            ],
            "application/javascript": [
              "download(\"download_32fdb28c-5144-41bc-b9a2-820d4781bfcc\", \"checkpoint_epoch_150.pth\", 9797146)"
            ]
          },
          "metadata": {}
        },
        {
          "output_type": "stream",
          "name": "stdout",
          "text": [
            "Epoch 150/150, Train Acc: 61.58%, Val Acc: 50.32%, Test Acc: 43.88%\n",
            "Epoch 150/150, Train Loss: 1.3534, Val Loss: 2.0608, Test Loss: 2.3448\n"
          ]
        },
        {
          "output_type": "display_data",
          "data": {
            "text/plain": [
              "<Figure size 600x400 with 1 Axes>"
            ],
            "image/png": "[encoded data removed]"
          },
          "metadata": {}
        },
        {
          "output_type": "display_data",
          "data": {
            "text/plain": [
              "<Figure size 600x400 with 1 Axes>"
            ],
            "image/png": "[encoded data removed]"
          },
          "metadata": {}
        },
        {
          "output_type": "display_data",
          "data": {
            "text/plain": [
              "<Figure size 600x400 with 1 Axes>"
            ],
            "image/png": "[encoded data removed]"
          },
          "metadata": {}
        },
        {
          "output_type": "display_data",
          "data": {
            "text/plain": [
              "<Figure size 600x400 with 1 Axes>"
            ],
            "image/png": "[encoded data removed]"
          },
          "metadata": {}
        },
        {
          "output_type": "display_data",
          "data": {
            "text/plain": [
              "<Figure size 600x400 with 1 Axes>"
            ],
            "image/png": "[encoded data removed]"
          },
          "metadata": {}
        },
        {
          "output_type": "display_data",
          "data": {
            "text/plain": [
              "<Figure size 600x400 with 1 Axes>"
            ],
            "image/png": "[encoded data removed]"
          },
          "metadata": {}
        },
        {
          "output_type": "display_data",
          "data": {
            "text/plain": [
              "<Figure size 640x480 with 0 Axes>"
            ]
          },
          "metadata": {}
        }
      ],
      "source": [
        "%run large_batch_training.py --optimizer AdamW --batch-size 1024 --weight-decay 1e-2"
      ]
    },
    {
      "cell_type": "code",
      "execution_count": null,
      "metadata": {
        "colab": {
          "base_uri": "https://localhost:8080/"
        },
        "id": "_Y8TL9oBZL18",
        "outputId": "54fc2f89-7e7d-461b-fce6-1f0da7310a06"
      },
      "outputs": [
        {
          "name": "stdout",
          "output_type": "stream",
          "text": [
            "Files already downloaded and verified\n",
            "Files already downloaded and verified\n",
            "--- Train with LARS ---\n"
          ]
        }
      ],
      "source": [
        "%run large_batch_training.py --optimizer LARS --batch-size 128 --weight-decay 4e-4"
      ]
    },
    {
      "cell_type": "code",
      "execution_count": null,
      "metadata": {
        "colab": {
          "base_uri": "https://localhost:8080/"
        },
        "id": "K_XY2BkhZOkY",
        "outputId": "8791a547-f93d-4be4-f71d-620d1887000a"
      },
      "outputs": [
        {
          "name": "stdout",
          "output_type": "stream",
          "text": [
            "Files already downloaded and verified\n",
            "Files already downloaded and verified\n",
            "--- Train with LAMB ---\n"
          ]
        }
      ],
      "source": [
        "%run large_batch_training.py --optimizer LAMB --batch-size 128 --weight-decay 1e-2"
      ]
    }
  ],
  "metadata": {
    "accelerator": "GPU",
    "colab": {
      "gpuType": "T4",
      "provenance": []
    },
    "kernelspec": {
      "display_name": "Python 3",
      "name": "python3"
    },
    "language_info": {
      "name": "python"
    }
  },
  "nbformat": 4,
  "nbformat_minor": 0
}