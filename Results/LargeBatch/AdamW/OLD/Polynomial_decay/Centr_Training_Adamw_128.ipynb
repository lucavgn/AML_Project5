{
  "cells": [
    {
      "cell_type": "code",
      "execution_count": 7,
      "metadata": {
        "colab": {
          "base_uri": "https://localhost:8080/"
        },
        "id": "LtOx0ESVnO0u",
        "outputId": "0834cc42-fd7e-4863-e6b8-19cfb974883a"
      },
      "outputs": [
        {
          "output_type": "stream",
          "name": "stdout",
          "text": [
            "Overwriting large_batch_training.py\n"
          ]
        }
      ],
      "source": [
        "%%writefile large_batch_training.py\n",
        "\n",
        "import os\n",
        "import numpy as np\n",
        "import torch\n",
        "import torch.nn as nn\n",
        "import torch.optim as optim\n",
        "import torchvision\n",
        "import torchvision.transforms as transforms\n",
        "import matplotlib.pyplot as plt\n",
        "import argparse\n",
        "from torch.utils.data import random_split\n",
        "from google.colab import files\n",
        "\n",
        "def compute_mean_std(dataset):\n",
        "    \"\"\"Compute the mean and std of CIFAR-100 dataset.\n",
        "\n",
        "    Args:\n",
        "        dataset: A dataset derived from `torch.utils.data.Dataset`,\n",
        "                 such as `cifar100_training_dataset` or `cifar100_test_dataset`.\n",
        "\n",
        "    Returns:\n",
        "        A tuple containing (mean, std) for the entire dataset.\n",
        "    \"\"\"\n",
        "\n",
        "    # Extract images and labels\n",
        "    data_r = np.stack([np.array(dataset[i][0])[:, :, 0] for i in range(len(dataset))])\n",
        "    data_g = np.stack([np.array(dataset[i][0])[:, :, 1] for i in range(len(dataset))])\n",
        "    data_b = np.stack([np.array(dataset[i][0])[:, :, 2] for i in range(len(dataset))])\n",
        "\n",
        "    # Compute mean and std\n",
        "    mean = np.mean(data_r), np.mean(data_g), np.mean(data_b)\n",
        "    std = np.std(data_r), np.std(data_g), np.std(data_b)\n",
        "\n",
        "    return mean, std\n",
        "\n",
        "# Define LeNet-5 architecture\n",
        "class LeNet5(nn.Module):\n",
        "    def __init__(self):\n",
        "        super(LeNet5, self).__init__()\n",
        "        self.conv1 = nn.Conv2d(3, 64, 5)\n",
        "        self.relu1 = nn.ReLU()\n",
        "        self.pool1 = nn.MaxPool2d(2, 2)\n",
        "        self.conv2 = nn.Conv2d(64, 64, 5)\n",
        "        self.relu2 = nn.ReLU()\n",
        "        self.pool2 = nn.MaxPool2d(2, 2)\n",
        "        self.fc1 = nn.Linear(64 * 5 * 5, 384)\n",
        "        self.relu3 = nn.ReLU()\n",
        "        self.fc2 = nn.Linear(384, 192)\n",
        "        self.relu4 = nn.ReLU()\n",
        "        self.fc3 = nn.Linear(192, 100)\n",
        "\n",
        "    def forward(self, x):\n",
        "        x = self.pool1(self.relu1(self.conv1(x)))\n",
        "        x = self.pool2(self.relu2(self.conv2(x)))\n",
        "        x = x.view(-1, 64 * 5 * 5)\n",
        "        x = self.relu3(self.fc1(x))\n",
        "        x = self.relu4(self.fc2(x))\n",
        "        x = self.fc3(x)\n",
        "        return x\n",
        "\n",
        "# Device setup\n",
        "device = torch.device(\"cuda:0\" if torch.cuda.is_available() else \"cpu\")\n",
        "\n",
        "# Initialize model\n",
        "net = LeNet5().to(device)\n",
        "\n",
        "# Optimizer Subclasses\n",
        "class LARS(optim.Optimizer):\n",
        "    def __init__(self, params, lr, momentum=0.9, weight_decay=0, trust_coefficient=0.001):\n",
        "        # Initialize the optimizer with the learning rate, momentum, weight decay, and trust coefficient\n",
        "        defaults = dict(lr=lr, momentum=momentum, weight_decay=weight_decay, trust_coefficient=trust_coefficient)\n",
        "        super(LARS, self).__init__(params, defaults)\n",
        "\n",
        "    def step(self, closure=None):\n",
        "        loss = None\n",
        "        if closure is not None:\n",
        "            # If a closure is provided, evaluate it (commonly used for re-evaluating loss)\n",
        "            loss = closure()\n",
        "        for group in self.param_groups:\n",
        "            for p in group['params']:\n",
        "                if p.grad is None:\n",
        "                   # Skip parameters that have no gradient\n",
        "                    continue\n",
        "                grad = p.grad.data # Get the gradient of the parameter\n",
        "                # Retrieve or initialize the optimizer's internal state\n",
        "                state = self.state[p]\n",
        "                if len(state) == 0:\n",
        "                    state['momentum_buffer'] = torch.clone(grad).detach()\n",
        "                # Apply weight decay directly to the gradient\n",
        "                if group['weight_decay'] != 0:\n",
        "                    grad.add_(p.data, alpha=group['weight_decay'])\n",
        "                # Compute the norms of the parameter and its gradient\n",
        "                param_norm = torch.norm(p.data)\n",
        "                grad_norm = torch.norm(grad)\n",
        "                # Compute local learning rate based on the trust coefficient and norms\n",
        "                if param_norm > 0 and grad_norm > 0:\n",
        "                    local_lr = group['trust_coefficient'] * param_norm / (grad_norm + 1e-8)\n",
        "                    grad = grad.mul(local_lr) # Scale the gradient with the local learning rate\n",
        "                # Update the momentum buffer\n",
        "                momentum_buffer = state['momentum_buffer']\n",
        "                momentum_buffer.mul_(group['momentum']).add_(grad) #Momentum update\n",
        "                state['momentum_buffer'] = momentum_buffer\n",
        "                # Update the parameter\n",
        "                p.data.add_(-group['lr'], momentum_buffer) # Gradient descent step with learning rate\n",
        "        return loss\n",
        "\n",
        "class LAMB(optim.Optimizer):\n",
        "    def __init__(self, params, lr, weight_decay=0, betas=(0.9, 0.999), eps=1e-8):\n",
        "        # Initialize the optimizer with learning rate, weight decay, betas for moment updates, and epsilon for stability\n",
        "        defaults = dict(lr=lr, weight_decay=weight_decay, betas=betas, eps=eps)\n",
        "        super(LAMB, self).__init__(params, defaults)\n",
        "\n",
        "    def step(self, closure=None):\n",
        "        loss = None\n",
        "        if closure is not None:\n",
        "            # If a closure is provided, evaluate it\n",
        "            loss = closure()\n",
        "        for group in self.param_groups:\n",
        "            for p in group['params']:\n",
        "                if p.grad is None:\n",
        "                    # Skip parameters that have no gradient\n",
        "                    continue\n",
        "                grad = p.grad.data # Get the gradient of the parameter\n",
        "                # Retrieve or initialize the optimizer's internal state\n",
        "                state = self.state[p]\n",
        "                # Initialize state\n",
        "                if len(state) == 0:\n",
        "                    # Initialize the state (step counter, first moment, second moment)\n",
        "                    state['step'] = 0\n",
        "                    state['exp_avg'] = torch.zeros_like(p.data) # First moment (mean of gradients)\n",
        "                    state['exp_avg_sq'] = torch.zeros_like(p.data) # Second moment (mean of squared gradients)\n",
        "                exp_avg = state['exp_avg']\n",
        "                exp_avg_sq = state['exp_avg_sq']\n",
        "                beta1, beta2 = group['betas']  # Coefficients for moment updates\n",
        "                state['step'] += 1 # Increment step count\n",
        "                step = state['step']\n",
        "                # Decay the first and second moment running average coefficients\n",
        "                # Update first and second moments\n",
        "                exp_avg.mul_(beta1).add_(grad, alpha=1 - beta1) # Exponential moving average of gradients\n",
        "                exp_avg_sq.mul_(beta2).addcmul_(grad, grad, value=1 - beta2) # Exponential moving average of squared gradients\n",
        "                # Correct bias in the first and second moments\n",
        "                bias_correction1 = 1 - beta1 ** step\n",
        "                bias_correction2 = 1 - beta2 ** step\n",
        "                corrected_exp_avg = exp_avg / bias_correction1\n",
        "                corrected_exp_avg_sq = exp_avg_sq / bias_correction2\n",
        "                # Compute the denominator for scaling the update\n",
        "                denom = corrected_exp_avg_sq.sqrt().add_(group['eps']) # Stability epsilon\n",
        "                # Compute the step update\n",
        "                update = corrected_exp_avg / denom\n",
        "                # Apply weight decay directly to the parameters\n",
        "                if group['weight_decay'] != 0:\n",
        "                    update.add_(p.data, alpha=group['weight_decay'])\n",
        "                # Compute the trust ratio (norm of parameters vs norm of update)\n",
        "                param_norm = torch.norm(p.data)\n",
        "                update_norm = torch.norm(update)\n",
        "                trust_ratio = 1.0  # Default trust ratio\n",
        "                if param_norm > 0 and update_norm > 0:\n",
        "                    trust_ratio = param_norm / update_norm\n",
        "                # Update the parameters\n",
        "                p.data.add_(-group['lr'] * trust_ratio, update)\n",
        "        return loss\n",
        "\n",
        "class SqrtLRScheduler(torch.optim.lr_scheduler._LRScheduler):\n",
        "    def __init__(self, optimizer, base_lr, batch_size, warmup_epochs, total_epochs, reference_batch_size, verbose=False):\n",
        "        \"\"\"\n",
        "        Args:\n",
        "            optimizer: PyTorch optimizer (e.g., Adam, LAMB, LARS).\n",
        "            base_lr: Base learning rate for the reference batch size.\n",
        "            batch_size: Current batch size.\n",
        "            warmup_epochs: Number of warmup epochs.\n",
        "            total_epochs: Total number of epochs.\n",
        "            reference_batch_size: Batch size for which the base_lr is defined.\n",
        "            verbose: Whether to print LR updates.\n",
        "        \"\"\"\n",
        "        self.base_lr = base_lr\n",
        "        self.batch_size = batch_size\n",
        "        self.scaled_lr = base_lr * (batch_size / reference_batch_size) ** 0.5\n",
        "        self.warmup_epochs = warmup_epochs\n",
        "        self.total_epochs = total_epochs\n",
        "        self.verbose = verbose\n",
        "        super(SqrtLRScheduler, self).__init__(optimizer)\n",
        "\n",
        "    def get_lr(self):\n",
        "        epoch = self.last_epoch\n",
        "        if epoch < self.warmup_epochs:\n",
        "            # Linear warmup scaling\n",
        "            warmup_factor = (epoch + 1) / self.warmup_epochs\n",
        "            return [warmup_factor * self.scaled_lr for _ in self.optimizer.param_groups]\n",
        "        else:\n",
        "            # polynomially decaying learning rate of ηt = η0×(1−t/T)\n",
        "            if epoch == self.warmup_epochs:\n",
        "                print(f\"Warmup phase completed at epoch {epoch}. Switching to constant learning rate.\")\n",
        "            return [self.scaled_lr * ( 1 - ( (epoch - self.warmup_epochs) / (self.total_epochs - self.warmup_epochs))) for _ in self.optimizer.param_groups]\n",
        "\n",
        "# Command-line arguments\n",
        "parser = argparse.ArgumentParser(description='Train with Large-Batch Optimizers')\n",
        "parser.add_argument('--optimizer', type=str, default='SGDM', choices=['SGDM', 'AdamW', 'LARS', 'LAMB'],\n",
        "                    help='Choose optimizer')\n",
        "parser.add_argument('--batch-size', type=int, default=128, help='Batch size')\n",
        "parser.add_argument('--momentum', type=float, default=0.9, help='Momentum for SGDM and LARS')\n",
        "parser.add_argument('--weight-decay', type=float, default=1e-5, help='Weight decay')\n",
        "parser.add_argument('--b1', type=float, default=0.9, help='Beta1 for AdamW')\n",
        "parser.add_argument('--b2', type=float, default=0.999, help='Beta2 for AdamW')\n",
        "parser.add_argument('--trust-coefficient', type=float, default=0.001, help='Trust coefficient for LARS')\n",
        "parser.add_argument('--epochs', type=int, default=150, help='Number of epochs')\n",
        "parser.add_argument('--warmup-epochs', type=int, default=5, help='Number of epochs')\n",
        "args = parser.parse_args()\n",
        "\n",
        "\n",
        "torch.manual_seed(42) # Set the seed for reproducibility\n",
        "torch.cuda.manual_seed_all(42) # Set the seed for reproducibility on GPU\n",
        "\n",
        "# use the same mean and std to add consistency to all datasets\n",
        "data = torchvision.datasets.CIFAR100(root='./data', train=True, download=True, transform=transforms.ToTensor())\n",
        "mean, std = compute_mean_std(data)\n",
        "\n",
        "# Load and split CIFAR-100 dataset\n",
        "train_transform = transforms.Compose([\n",
        "  transforms.RandomHorizontalFlip(),\n",
        "  # transforms.RandomRotation(15),\n",
        "  transforms.RandomCrop(32, padding=4),\n",
        "  # transforms.RandomAffine(degrees=0, translate=(0.1, 0.1)),\n",
        "  transforms.RandomPerspective(distortion_scale=0.2, p=0.5),\n",
        "  transforms.ColorJitter(brightness=0.3, contrast=0.3, saturation=0.3, hue=0.2),\n",
        "  transforms.ToTensor(),\n",
        "  transforms.Normalize(mean, std)\n",
        "])\n",
        "\n",
        "val_transform = transforms.Compose([\n",
        "    transforms.ToTensor(), # Convert into tensor\n",
        "    transforms.Normalize(mean, std)  # Normalization\n",
        "])\n",
        "\n",
        "test_transform = transforms.Compose([\n",
        "    transforms.CenterCrop(24),\n",
        "    transforms.Pad(4),\n",
        "    transforms.ToTensor(),  # Convert to PyTorch tensor\n",
        "    transforms.Normalize(mean, std)\n",
        "])\n",
        "\n",
        "trainset = torchvision.datasets.CIFAR100(root='./data', train=True, download=True, transform=train_transform)\n",
        "valset = torchvision.datasets.CIFAR100(root='./data', train=True, download=True, transform=val_transform)\n",
        "indices = torch.randperm(len(trainset))\n",
        "val_size = int(0.2*len(trainset))\n",
        "trainset = torch.utils.data.Subset(trainset, indices[:-val_size])\n",
        "valset = torch.utils.data.Subset(valset, indices[-val_size:])\n",
        "\n",
        "trainloader = torch.utils.data.DataLoader(trainset, batch_size=args.batch_size, shuffle=True, num_workers=2)\n",
        "valloader = torch.utils.data.DataLoader(valset, batch_size=args.batch_size, shuffle=False, num_workers=2)\n",
        "\n",
        "testset = torchvision.datasets.CIFAR100(root='./data', train=False, download=True, transform=test_transform)\n",
        "testloader = torch.utils.data.DataLoader(testset, batch_size=args.batch_size, shuffle=False, num_workers=2)\n",
        "\n",
        "\n",
        "# Fixed parameter from paper [18] to calculate the square root LR scaling value\n",
        "# base_lr = 5 / (2**3 * 10**3)\n",
        "# reference_batch_size = 512\n",
        "#scaled_lr = base_lr * (args.batch_size / reference_batch_size) ** 0.5\n",
        "\n",
        "# Mapping optimizers\n",
        "if args.optimizer == 'SGDM':\n",
        "    base_lr = 1e-2\n",
        "    reference_batch_size = 64\n",
        "    scaled_lr = base_lr * (args.batch_size / reference_batch_size) ** 0.5\n",
        "    optimizer = optim.SGD(net.parameters(), lr=scaled_lr, momentum=args.momentum, weight_decay=args.weight_decay)\n",
        "elif args.optimizer == 'AdamW':\n",
        "    base_lr = 5e-4\n",
        "    reference_batch_size = 64\n",
        "    scaled_lr = base_lr * (args.batch_size / reference_batch_size) ** 0.5\n",
        "    optimizer = optim.AdamW(net.parameters(), lr=scaled_lr, betas=(args.b1, args.b2), weight_decay=args.weight_decay)\n",
        "elif args.optimizer == 'LARS':\n",
        "    base_lr = 5 / (2**3 * 10**3) # to define\n",
        "    reference_batch_size = 512\n",
        "    scaled_lr = base_lr * (args.batch_size / reference_batch_size) ** 0.5\n",
        "    optimizer = LARS(net.parameters(), lr=scaled_lr, momentum=args.momentum, weight_decay=args.weight_decay, trust_coefficient=args.trust_coefficient)\n",
        "elif args.optimizer == 'LAMB':\n",
        "    base_lr = 5 / (2**3 * 10**3) # to define\n",
        "    reference_batch_size = 512\n",
        "    scaled_lr = base_lr * (args.batch_size / reference_batch_size) ** 0.5\n",
        "    optimizer = LAMB(net.parameters(), lr=scaled_lr, weight_decay=args.weight_decay)\n",
        "\n",
        "criterion = nn.CrossEntropyLoss()\n",
        "\n",
        "# scheduler should be e square root LR scaling rule and linear-epoch warmup scheduling to automatically adjust learning rate\n",
        "scheduler = SqrtLRScheduler(\n",
        "    optimizer = optimizer,\n",
        "    base_lr = base_lr,\n",
        "    batch_size = args.batch_size,\n",
        "    warmup_epochs = args.warmup_epochs,\n",
        "    total_epochs = args.epochs,\n",
        "    reference_batch_size = reference_batch_size,\n",
        "    verbose = True)\n",
        "\n",
        "# Training Function\n",
        "def train_model(optimizer, scheduler, model, criterion, trainloader, valloader , testloader, device, epochs, save_checkpoint_interval=10):\n",
        "    train_losses, val_losses, test_losses = [], [], []\n",
        "    train_accuracies, val_accuracies, test_accuracies = [], [], []\n",
        "    for epoch in range(epochs):\n",
        "        model.train()\n",
        "        running_loss, correct_train, total_train = 0.0, 0, 0\n",
        "        for inputs, labels in trainloader:\n",
        "            inputs, labels = inputs.to(device), labels.to(device)\n",
        "            optimizer.zero_grad()\n",
        "            outputs = model(inputs)\n",
        "            loss = criterion(outputs, labels)\n",
        "            loss.backward()\n",
        "            optimizer.step()\n",
        "            running_loss += loss.item()\n",
        "            _, predicted = outputs.max(1)\n",
        "            total_train += labels.size(0)\n",
        "            correct_train += predicted.eq(labels).sum().item()\n",
        "        train_loss = running_loss / len(trainloader)\n",
        "        train_accuracy = 100. * correct_train / total_train\n",
        "        train_losses.append(train_loss)\n",
        "        train_accuracies.append(train_accuracy)\n",
        "\n",
        "        # Validation\n",
        "        model.eval()\n",
        "        correct_val, total_val, val_loss = 0, 0, 0.0\n",
        "        with torch.no_grad():\n",
        "            for inputs, labels in valloader:\n",
        "                inputs, labels = inputs.to(device), labels.to(device)\n",
        "                outputs = model(inputs)\n",
        "                loss = criterion(outputs, labels)\n",
        "                val_loss += loss.item()\n",
        "                _, predicted = outputs.max(1)\n",
        "                total_val += labels.size(0)\n",
        "                correct_val += predicted.eq(labels).sum().item()\n",
        "        val_loss /= len(valloader)\n",
        "        val_losses.append(val_loss)\n",
        "        val_accuracy = 100. * correct_val / total_val\n",
        "        val_accuracies.append(val_accuracy)\n",
        "\n",
        "        '''\n",
        "        # Early Stopping\n",
        "        if val_loss < best_val_loss:\n",
        "          best_val_loss = val_loss\n",
        "          epochs_no_improve = 0\n",
        "        else:\n",
        "          epochs_no_improve += 1\n",
        "\n",
        "        if epochs_no_improve == patience:\n",
        "          print(\"Early stopping!\")\n",
        "          break\n",
        "        '''\n",
        "\n",
        "        # Test\n",
        "        correct_test, total_test, test_loss = 0, 0, 0.0\n",
        "        with torch.no_grad():\n",
        "            for inputs, labels in testloader:\n",
        "                inputs, labels = inputs.to(device), labels.to(device)\n",
        "                outputs = model(inputs)\n",
        "                loss = criterion(outputs, labels)\n",
        "                test_loss += loss.item()\n",
        "                _, predicted = outputs.max(1)\n",
        "                total_test += labels.size(0)\n",
        "                correct_test += predicted.eq(labels).sum().item()\n",
        "        test_loss /= len(testloader)\n",
        "        test_losses.append(test_loss)\n",
        "        test_accuracy = 100. * correct_test / total_test\n",
        "        test_accuracies.append(test_accuracy)\n",
        "\n",
        "        scheduler.step()\n",
        "\n",
        "        # Checkpointing\n",
        "        if (epoch + 1) % save_checkpoint_interval == 0:\n",
        "            checkpoint_filename = f'checkpoint_epoch_{epoch + 1}.pth'\n",
        "            checkpoint = {\n",
        "                'epoch': epoch + 1,\n",
        "                'model_state_dict': model.state_dict(),\n",
        "                'optimizer_state_dict': optimizer.state_dict(),\n",
        "                'scheduler_state_dict': scheduler.state_dict(),\n",
        "                'loss': loss.item(),\n",
        "            }\n",
        "            checkpoint_path = os.path.join('./', checkpoint_filename)\n",
        "            torch.save(checkpoint, checkpoint_path)\n",
        "            print(f'Checkpoint saved at epoch {epoch + 1}: {checkpoint_path}')\n",
        "\n",
        "            # Download the checkpoint\n",
        "            files.download(checkpoint_filename)\n",
        "\n",
        "        print(f'Epoch {epoch+1}/{epochs}, Train Acc: {train_accuracy:.2f}%, Val Acc: {val_accuracy:.2f}%, Test Acc: {test_accuracy:.2f}%')\n",
        "        print(f'Epoch {epoch+1}/{epochs}, Train Loss: {train_loss:.4f}, Val Loss: {val_loss:.4f}, Test Loss: {test_loss:.4f}')\n",
        "\n",
        "    return train_losses, val_losses, test_losses, train_accuracies, val_accuracies, test_accuracies\n",
        "\n",
        "# Train the model\n",
        "print(f\"--- Train with {args.optimizer} ---\")\n",
        "train_loss, val_loss, test_loss, train_acc, val_acc, test_acc = train_model(optimizer, scheduler, net, criterion, trainloader, valloader, testloader, device, args.epochs)\n",
        "\n",
        "# Save model\n",
        "torch.save(net.state_dict(), f'net_{args.optimizer}.pth')\n",
        "\n",
        "# Plot results\n",
        "# Plot Training Loss\n",
        "plt.figure(figsize=(6, 4))\n",
        "plt.plot(train_loss, label='Train Loss')\n",
        "plt.title('Training Loss')\n",
        "plt.xlabel('Epoch')\n",
        "plt.ylabel('Loss')\n",
        "plt.legend()\n",
        "plt.tight_layout()\n",
        "plt.savefig('train_loss.png')\n",
        "plt.show()\n",
        "\n",
        "# Plot Training Accuracy\n",
        "plt.figure(figsize=(6, 4))\n",
        "plt.plot(train_acc, label='Train Accuracy')\n",
        "plt.title('Training Accuracy')\n",
        "plt.xlabel('Epoch')\n",
        "plt.ylabel('Accuracy (%)')\n",
        "plt.legend()\n",
        "plt.tight_layout()\n",
        "plt.savefig('train_accuracy.png')\n",
        "plt.show()\n",
        "\n",
        "# Plot Validation Loss\n",
        "plt.figure(figsize=(6, 4))\n",
        "plt.plot(val_loss, label='Validation Loss')\n",
        "plt.title('Validation Loss')\n",
        "plt.xlabel('Epoch')\n",
        "plt.ylabel('Loss')\n",
        "plt.legend()\n",
        "plt.tight_layout()\n",
        "plt.savefig('val_loss.png')\n",
        "plt.show()\n",
        "\n",
        "# Plot Validation Accuracy\n",
        "plt.figure(figsize=(6, 4))\n",
        "plt.plot(val_acc, label='Validation Accuracy')\n",
        "plt.title('Validation Accuracy')\n",
        "plt.xlabel('Epoch')\n",
        "plt.ylabel('Accuracy (%)')\n",
        "plt.legend()\n",
        "plt.tight_layout()\n",
        "plt.savefig('val_accuracy.png')\n",
        "plt.show()\n",
        "\n",
        "# Plot Test Loss\n",
        "plt.figure(figsize=(6, 4))\n",
        "plt.plot(test_loss, label='Test Loss')\n",
        "plt.title('Test Loss')\n",
        "plt.xlabel('Epoch')\n",
        "plt.ylabel('Loss')\n",
        "plt.legend()\n",
        "plt.tight_layout()\n",
        "plt.savefig('test_loss.png')\n",
        "plt.show()\n",
        "\n",
        "# Plot Test Accuracy\n",
        "plt.figure(figsize=(6, 4))\n",
        "plt.plot(test_acc, label='Test Accuracy')\n",
        "plt.title('Test Accuracy')\n",
        "plt.xlabel('Epoch')\n",
        "plt.ylabel('Accuracy (%)')\n",
        "plt.legend()\n",
        "plt.tight_layout()\n",
        "plt.savefig('test_accuracy.png')\n",
        "plt.show()\n"
      ]
    },
    {
      "cell_type": "code",
      "execution_count": null,
      "metadata": {
        "colab": {
          "base_uri": "https://localhost:8080/",
          "height": 460
        },
        "id": "_hEcpkQqYJmP",
        "outputId": "054cca2f-8701-4830-ae1c-4f1fc306c8c1"
      },
      "outputs": [
        {
          "output_type": "stream",
          "name": "stdout",
          "text": [
            "Files already downloaded and verified\n",
            "Files already downloaded and verified\n",
            "Files already downloaded and verified\n",
            "Files already downloaded and verified\n",
            "--- Train with SGDM ---\n"
          ]
        },
        {
          "output_type": "error",
          "ename": "KeyboardInterrupt",
          "evalue": "",
          "traceback": [
            "\u001b[0;31m---------------------------------------------------------------------------\u001b[0m",
            "\u001b[0;31mKeyboardInterrupt\u001b[0m                         Traceback (most recent call last)",
            "\u001b[0;32m/content/large_batch_training.py\u001b[0m in \u001b[0;36m<module>\u001b[0;34m\u001b[0m\n\u001b[1;32m    385\u001b[0m \u001b[0;31m# Train the model\u001b[0m\u001b[0;34m\u001b[0m\u001b[0;34m\u001b[0m\u001b[0m\n\u001b[1;32m    386\u001b[0m \u001b[0mprint\u001b[0m\u001b[0;34m(\u001b[0m\u001b[0;34mf\"--- Train with {args.optimizer} ---\"\u001b[0m\u001b[0;34m)\u001b[0m\u001b[0;34m\u001b[0m\u001b[0;34m\u001b[0m\u001b[0m\n\u001b[0;32m--> 387\u001b[0;31m \u001b[0mtrain_loss\u001b[0m\u001b[0;34m,\u001b[0m \u001b[0mval_loss\u001b[0m\u001b[0;34m,\u001b[0m \u001b[0mtest_loss\u001b[0m\u001b[0;34m,\u001b[0m \u001b[0mtrain_acc\u001b[0m\u001b[0;34m,\u001b[0m \u001b[0mval_acc\u001b[0m\u001b[0;34m,\u001b[0m \u001b[0mtest_acc\u001b[0m \u001b[0;34m=\u001b[0m \u001b[0mtrain_model\u001b[0m\u001b[0;34m(\u001b[0m\u001b[0moptimizer\u001b[0m\u001b[0;34m,\u001b[0m \u001b[0mscheduler\u001b[0m\u001b[0;34m,\u001b[0m \u001b[0mnet\u001b[0m\u001b[0;34m,\u001b[0m \u001b[0mcriterion\u001b[0m\u001b[0;34m,\u001b[0m \u001b[0mtrainloader\u001b[0m\u001b[0;34m,\u001b[0m \u001b[0mvalloader\u001b[0m\u001b[0;34m,\u001b[0m \u001b[0mtestloader\u001b[0m\u001b[0;34m,\u001b[0m \u001b[0mdevice\u001b[0m\u001b[0;34m,\u001b[0m \u001b[0margs\u001b[0m\u001b[0;34m.\u001b[0m\u001b[0mepochs\u001b[0m\u001b[0;34m)\u001b[0m\u001b[0;34m\u001b[0m\u001b[0;34m\u001b[0m\u001b[0m\n\u001b[0m\u001b[1;32m    388\u001b[0m \u001b[0;34m\u001b[0m\u001b[0m\n\u001b[1;32m    389\u001b[0m \u001b[0;31m# Save model\u001b[0m\u001b[0;34m\u001b[0m\u001b[0;34m\u001b[0m\u001b[0m\n",
            "\u001b[0;32m/content/large_batch_training.py\u001b[0m in \u001b[0;36mtrain_model\u001b[0;34m(optimizer, scheduler, model, criterion, trainloader, valloader, testloader, device, epochs, save_checkpoint_interval)\u001b[0m\n\u001b[1;32m    297\u001b[0m         \u001b[0mmodel\u001b[0m\u001b[0;34m.\u001b[0m\u001b[0mtrain\u001b[0m\u001b[0;34m(\u001b[0m\u001b[0;34m)\u001b[0m\u001b[0;34m\u001b[0m\u001b[0;34m\u001b[0m\u001b[0m\n\u001b[1;32m    298\u001b[0m         \u001b[0mrunning_loss\u001b[0m\u001b[0;34m,\u001b[0m \u001b[0mcorrect_train\u001b[0m\u001b[0;34m,\u001b[0m \u001b[0mtotal_train\u001b[0m \u001b[0;34m=\u001b[0m \u001b[0;36m0.0\u001b[0m\u001b[0;34m,\u001b[0m \u001b[0;36m0\u001b[0m\u001b[0;34m,\u001b[0m \u001b[0;36m0\u001b[0m\u001b[0;34m\u001b[0m\u001b[0;34m\u001b[0m\u001b[0m\n\u001b[0;32m--> 299\u001b[0;31m         \u001b[0;32mfor\u001b[0m \u001b[0minputs\u001b[0m\u001b[0;34m,\u001b[0m \u001b[0mlabels\u001b[0m \u001b[0;32min\u001b[0m \u001b[0mtrainloader\u001b[0m\u001b[0;34m:\u001b[0m\u001b[0;34m\u001b[0m\u001b[0;34m\u001b[0m\u001b[0m\n\u001b[0m\u001b[1;32m    300\u001b[0m             \u001b[0minputs\u001b[0m\u001b[0;34m,\u001b[0m \u001b[0mlabels\u001b[0m \u001b[0;34m=\u001b[0m \u001b[0minputs\u001b[0m\u001b[0;34m.\u001b[0m\u001b[0mto\u001b[0m\u001b[0;34m(\u001b[0m\u001b[0mdevice\u001b[0m\u001b[0;34m)\u001b[0m\u001b[0;34m,\u001b[0m \u001b[0mlabels\u001b[0m\u001b[0;34m.\u001b[0m\u001b[0mto\u001b[0m\u001b[0;34m(\u001b[0m\u001b[0mdevice\u001b[0m\u001b[0;34m)\u001b[0m\u001b[0;34m\u001b[0m\u001b[0;34m\u001b[0m\u001b[0m\n\u001b[1;32m    301\u001b[0m             \u001b[0moptimizer\u001b[0m\u001b[0;34m.\u001b[0m\u001b[0mzero_grad\u001b[0m\u001b[0;34m(\u001b[0m\u001b[0;34m)\u001b[0m\u001b[0;34m\u001b[0m\u001b[0;34m\u001b[0m\u001b[0m\n",
            "\u001b[0;32m/usr/local/lib/python3.10/dist-packages/torch/utils/data/dataloader.py\u001b[0m in \u001b[0;36m__next__\u001b[0;34m(self)\u001b[0m\n\u001b[1;32m    699\u001b[0m                 \u001b[0;31m# TODO(https://github.com/pytorch/pytorch/issues/76750)\u001b[0m\u001b[0;34m\u001b[0m\u001b[0;34m\u001b[0m\u001b[0m\n\u001b[1;32m    700\u001b[0m                 \u001b[0mself\u001b[0m\u001b[0;34m.\u001b[0m\u001b[0m_reset\u001b[0m\u001b[0;34m(\u001b[0m\u001b[0;34m)\u001b[0m  \u001b[0;31m# type: ignore[call-arg]\u001b[0m\u001b[0;34m\u001b[0m\u001b[0;34m\u001b[0m\u001b[0m\n\u001b[0;32m--> 701\u001b[0;31m             \u001b[0mdata\u001b[0m \u001b[0;34m=\u001b[0m \u001b[0mself\u001b[0m\u001b[0;34m.\u001b[0m\u001b[0m_next_data\u001b[0m\u001b[0;34m(\u001b[0m\u001b[0;34m)\u001b[0m\u001b[0;34m\u001b[0m\u001b[0;34m\u001b[0m\u001b[0m\n\u001b[0m\u001b[1;32m    702\u001b[0m             \u001b[0mself\u001b[0m\u001b[0;34m.\u001b[0m\u001b[0m_num_yielded\u001b[0m \u001b[0;34m+=\u001b[0m \u001b[0;36m1\u001b[0m\u001b[0;34m\u001b[0m\u001b[0;34m\u001b[0m\u001b[0m\n\u001b[1;32m    703\u001b[0m             if (\n",
            "\u001b[0;32m/usr/local/lib/python3.10/dist-packages/torch/utils/data/dataloader.py\u001b[0m in \u001b[0;36m_next_data\u001b[0;34m(self)\u001b[0m\n\u001b[1;32m   1446\u001b[0m \u001b[0;34m\u001b[0m\u001b[0m\n\u001b[1;32m   1447\u001b[0m             \u001b[0;32massert\u001b[0m \u001b[0;32mnot\u001b[0m \u001b[0mself\u001b[0m\u001b[0;34m.\u001b[0m\u001b[0m_shutdown\u001b[0m \u001b[0;32mand\u001b[0m \u001b[0mself\u001b[0m\u001b[0;34m.\u001b[0m\u001b[0m_tasks_outstanding\u001b[0m \u001b[0;34m>\u001b[0m \u001b[0;36m0\u001b[0m\u001b[0;34m\u001b[0m\u001b[0;34m\u001b[0m\u001b[0m\n\u001b[0;32m-> 1448\u001b[0;31m             \u001b[0midx\u001b[0m\u001b[0;34m,\u001b[0m \u001b[0mdata\u001b[0m \u001b[0;34m=\u001b[0m \u001b[0mself\u001b[0m\u001b[0;34m.\u001b[0m\u001b[0m_get_data\u001b[0m\u001b[0;34m(\u001b[0m\u001b[0;34m)\u001b[0m\u001b[0;34m\u001b[0m\u001b[0;34m\u001b[0m\u001b[0m\n\u001b[0m\u001b[1;32m   1449\u001b[0m             \u001b[0mself\u001b[0m\u001b[0;34m.\u001b[0m\u001b[0m_tasks_outstanding\u001b[0m \u001b[0;34m-=\u001b[0m \u001b[0;36m1\u001b[0m\u001b[0;34m\u001b[0m\u001b[0;34m\u001b[0m\u001b[0m\n\u001b[1;32m   1450\u001b[0m             \u001b[0;32mif\u001b[0m \u001b[0mself\u001b[0m\u001b[0;34m.\u001b[0m\u001b[0m_dataset_kind\u001b[0m \u001b[0;34m==\u001b[0m \u001b[0m_DatasetKind\u001b[0m\u001b[0;34m.\u001b[0m\u001b[0mIterable\u001b[0m\u001b[0;34m:\u001b[0m\u001b[0;34m\u001b[0m\u001b[0;34m\u001b[0m\u001b[0m\n",
            "\u001b[0;32m/usr/local/lib/python3.10/dist-packages/torch/utils/data/dataloader.py\u001b[0m in \u001b[0;36m_get_data\u001b[0;34m(self)\u001b[0m\n\u001b[1;32m   1410\u001b[0m         \u001b[0;32melse\u001b[0m\u001b[0;34m:\u001b[0m\u001b[0;34m\u001b[0m\u001b[0;34m\u001b[0m\u001b[0m\n\u001b[1;32m   1411\u001b[0m             \u001b[0;32mwhile\u001b[0m \u001b[0;32mTrue\u001b[0m\u001b[0;34m:\u001b[0m\u001b[0;34m\u001b[0m\u001b[0;34m\u001b[0m\u001b[0m\n\u001b[0;32m-> 1412\u001b[0;31m                 \u001b[0msuccess\u001b[0m\u001b[0;34m,\u001b[0m \u001b[0mdata\u001b[0m \u001b[0;34m=\u001b[0m \u001b[0mself\u001b[0m\u001b[0;34m.\u001b[0m\u001b[0m_try_get_data\u001b[0m\u001b[0;34m(\u001b[0m\u001b[0;34m)\u001b[0m\u001b[0;34m\u001b[0m\u001b[0;34m\u001b[0m\u001b[0m\n\u001b[0m\u001b[1;32m   1413\u001b[0m                 \u001b[0;32mif\u001b[0m \u001b[0msuccess\u001b[0m\u001b[0;34m:\u001b[0m\u001b[0;34m\u001b[0m\u001b[0;34m\u001b[0m\u001b[0m\n\u001b[1;32m   1414\u001b[0m                     \u001b[0;32mreturn\u001b[0m \u001b[0mdata\u001b[0m\u001b[0;34m\u001b[0m\u001b[0;34m\u001b[0m\u001b[0m\n",
            "\u001b[0;32m/usr/local/lib/python3.10/dist-packages/torch/utils/data/dataloader.py\u001b[0m in \u001b[0;36m_try_get_data\u001b[0;34m(self, timeout)\u001b[0m\n\u001b[1;32m   1241\u001b[0m         \u001b[0;31m#   (bool: whether successfully get data, any: data if successful else None)\u001b[0m\u001b[0;34m\u001b[0m\u001b[0;34m\u001b[0m\u001b[0m\n\u001b[1;32m   1242\u001b[0m         \u001b[0;32mtry\u001b[0m\u001b[0;34m:\u001b[0m\u001b[0;34m\u001b[0m\u001b[0;34m\u001b[0m\u001b[0m\n\u001b[0;32m-> 1243\u001b[0;31m             \u001b[0mdata\u001b[0m \u001b[0;34m=\u001b[0m \u001b[0mself\u001b[0m\u001b[0;34m.\u001b[0m\u001b[0m_data_queue\u001b[0m\u001b[0;34m.\u001b[0m\u001b[0mget\u001b[0m\u001b[0;34m(\u001b[0m\u001b[0mtimeout\u001b[0m\u001b[0;34m=\u001b[0m\u001b[0mtimeout\u001b[0m\u001b[0;34m)\u001b[0m\u001b[0;34m\u001b[0m\u001b[0;34m\u001b[0m\u001b[0m\n\u001b[0m\u001b[1;32m   1244\u001b[0m             \u001b[0;32mreturn\u001b[0m \u001b[0;34m(\u001b[0m\u001b[0;32mTrue\u001b[0m\u001b[0;34m,\u001b[0m \u001b[0mdata\u001b[0m\u001b[0;34m)\u001b[0m\u001b[0;34m\u001b[0m\u001b[0;34m\u001b[0m\u001b[0m\n\u001b[1;32m   1245\u001b[0m         \u001b[0;32mexcept\u001b[0m \u001b[0mException\u001b[0m \u001b[0;32mas\u001b[0m \u001b[0me\u001b[0m\u001b[0;34m:\u001b[0m\u001b[0;34m\u001b[0m\u001b[0;34m\u001b[0m\u001b[0m\n",
            "\u001b[0;32m/usr/lib/python3.10/multiprocessing/queues.py\u001b[0m in \u001b[0;36mget\u001b[0;34m(self, block, timeout)\u001b[0m\n\u001b[1;32m    111\u001b[0m                 \u001b[0;32mif\u001b[0m \u001b[0mblock\u001b[0m\u001b[0;34m:\u001b[0m\u001b[0;34m\u001b[0m\u001b[0;34m\u001b[0m\u001b[0m\n\u001b[1;32m    112\u001b[0m                     \u001b[0mtimeout\u001b[0m \u001b[0;34m=\u001b[0m \u001b[0mdeadline\u001b[0m \u001b[0;34m-\u001b[0m \u001b[0mtime\u001b[0m\u001b[0;34m.\u001b[0m\u001b[0mmonotonic\u001b[0m\u001b[0;34m(\u001b[0m\u001b[0;34m)\u001b[0m\u001b[0;34m\u001b[0m\u001b[0;34m\u001b[0m\u001b[0m\n\u001b[0;32m--> 113\u001b[0;31m                     \u001b[0;32mif\u001b[0m \u001b[0;32mnot\u001b[0m \u001b[0mself\u001b[0m\u001b[0;34m.\u001b[0m\u001b[0m_poll\u001b[0m\u001b[0;34m(\u001b[0m\u001b[0mtimeout\u001b[0m\u001b[0;34m)\u001b[0m\u001b[0;34m:\u001b[0m\u001b[0;34m\u001b[0m\u001b[0;34m\u001b[0m\u001b[0m\n\u001b[0m\u001b[1;32m    114\u001b[0m                         \u001b[0;32mraise\u001b[0m \u001b[0mEmpty\u001b[0m\u001b[0;34m\u001b[0m\u001b[0;34m\u001b[0m\u001b[0m\n\u001b[1;32m    115\u001b[0m                 \u001b[0;32melif\u001b[0m \u001b[0;32mnot\u001b[0m \u001b[0mself\u001b[0m\u001b[0;34m.\u001b[0m\u001b[0m_poll\u001b[0m\u001b[0;34m(\u001b[0m\u001b[0;34m)\u001b[0m\u001b[0;34m:\u001b[0m\u001b[0;34m\u001b[0m\u001b[0;34m\u001b[0m\u001b[0m\n",
            "\u001b[0;32m/usr/lib/python3.10/multiprocessing/connection.py\u001b[0m in \u001b[0;36mpoll\u001b[0;34m(self, timeout)\u001b[0m\n\u001b[1;32m    255\u001b[0m         \u001b[0mself\u001b[0m\u001b[0;34m.\u001b[0m\u001b[0m_check_closed\u001b[0m\u001b[0;34m(\u001b[0m\u001b[0;34m)\u001b[0m\u001b[0;34m\u001b[0m\u001b[0;34m\u001b[0m\u001b[0m\n\u001b[1;32m    256\u001b[0m         \u001b[0mself\u001b[0m\u001b[0;34m.\u001b[0m\u001b[0m_check_readable\u001b[0m\u001b[0;34m(\u001b[0m\u001b[0;34m)\u001b[0m\u001b[0;34m\u001b[0m\u001b[0;34m\u001b[0m\u001b[0m\n\u001b[0;32m--> 257\u001b[0;31m         \u001b[0;32mreturn\u001b[0m \u001b[0mself\u001b[0m\u001b[0;34m.\u001b[0m\u001b[0m_poll\u001b[0m\u001b[0;34m(\u001b[0m\u001b[0mtimeout\u001b[0m\u001b[0;34m)\u001b[0m\u001b[0;34m\u001b[0m\u001b[0;34m\u001b[0m\u001b[0m\n\u001b[0m\u001b[1;32m    258\u001b[0m \u001b[0;34m\u001b[0m\u001b[0m\n\u001b[1;32m    259\u001b[0m     \u001b[0;32mdef\u001b[0m \u001b[0m__enter__\u001b[0m\u001b[0;34m(\u001b[0m\u001b[0mself\u001b[0m\u001b[0;34m)\u001b[0m\u001b[0;34m:\u001b[0m\u001b[0;34m\u001b[0m\u001b[0;34m\u001b[0m\u001b[0m\n",
            "\u001b[0;32m/usr/lib/python3.10/multiprocessing/connection.py\u001b[0m in \u001b[0;36m_poll\u001b[0;34m(self, timeout)\u001b[0m\n\u001b[1;32m    422\u001b[0m \u001b[0;34m\u001b[0m\u001b[0m\n\u001b[1;32m    423\u001b[0m     \u001b[0;32mdef\u001b[0m \u001b[0m_poll\u001b[0m\u001b[0;34m(\u001b[0m\u001b[0mself\u001b[0m\u001b[0;34m,\u001b[0m \u001b[0mtimeout\u001b[0m\u001b[0;34m)\u001b[0m\u001b[0;34m:\u001b[0m\u001b[0;34m\u001b[0m\u001b[0;34m\u001b[0m\u001b[0m\n\u001b[0;32m--> 424\u001b[0;31m         \u001b[0mr\u001b[0m \u001b[0;34m=\u001b[0m \u001b[0mwait\u001b[0m\u001b[0;34m(\u001b[0m\u001b[0;34m[\u001b[0m\u001b[0mself\u001b[0m\u001b[0;34m]\u001b[0m\u001b[0;34m,\u001b[0m \u001b[0mtimeout\u001b[0m\u001b[0;34m)\u001b[0m\u001b[0;34m\u001b[0m\u001b[0;34m\u001b[0m\u001b[0m\n\u001b[0m\u001b[1;32m    425\u001b[0m         \u001b[0;32mreturn\u001b[0m \u001b[0mbool\u001b[0m\u001b[0;34m(\u001b[0m\u001b[0mr\u001b[0m\u001b[0;34m)\u001b[0m\u001b[0;34m\u001b[0m\u001b[0;34m\u001b[0m\u001b[0m\n\u001b[1;32m    426\u001b[0m \u001b[0;34m\u001b[0m\u001b[0m\n",
            "\u001b[0;32m/usr/lib/python3.10/multiprocessing/connection.py\u001b[0m in \u001b[0;36mwait\u001b[0;34m(object_list, timeout)\u001b[0m\n\u001b[1;32m    929\u001b[0m \u001b[0;34m\u001b[0m\u001b[0m\n\u001b[1;32m    930\u001b[0m             \u001b[0;32mwhile\u001b[0m \u001b[0;32mTrue\u001b[0m\u001b[0;34m:\u001b[0m\u001b[0;34m\u001b[0m\u001b[0;34m\u001b[0m\u001b[0m\n\u001b[0;32m--> 931\u001b[0;31m                 \u001b[0mready\u001b[0m \u001b[0;34m=\u001b[0m \u001b[0mselector\u001b[0m\u001b[0;34m.\u001b[0m\u001b[0mselect\u001b[0m\u001b[0;34m(\u001b[0m\u001b[0mtimeout\u001b[0m\u001b[0;34m)\u001b[0m\u001b[0;34m\u001b[0m\u001b[0;34m\u001b[0m\u001b[0m\n\u001b[0m\u001b[1;32m    932\u001b[0m                 \u001b[0;32mif\u001b[0m \u001b[0mready\u001b[0m\u001b[0;34m:\u001b[0m\u001b[0;34m\u001b[0m\u001b[0;34m\u001b[0m\u001b[0m\n\u001b[1;32m    933\u001b[0m                     \u001b[0;32mreturn\u001b[0m \u001b[0;34m[\u001b[0m\u001b[0mkey\u001b[0m\u001b[0;34m.\u001b[0m\u001b[0mfileobj\u001b[0m \u001b[0;32mfor\u001b[0m \u001b[0;34m(\u001b[0m\u001b[0mkey\u001b[0m\u001b[0;34m,\u001b[0m \u001b[0mevents\u001b[0m\u001b[0;34m)\u001b[0m \u001b[0;32min\u001b[0m \u001b[0mready\u001b[0m\u001b[0;34m]\u001b[0m\u001b[0;34m\u001b[0m\u001b[0;34m\u001b[0m\u001b[0m\n",
            "\u001b[0;32m/usr/lib/python3.10/selectors.py\u001b[0m in \u001b[0;36mselect\u001b[0;34m(self, timeout)\u001b[0m\n\u001b[1;32m    414\u001b[0m         \u001b[0mready\u001b[0m \u001b[0;34m=\u001b[0m \u001b[0;34m[\u001b[0m\u001b[0;34m]\u001b[0m\u001b[0;34m\u001b[0m\u001b[0;34m\u001b[0m\u001b[0m\n\u001b[1;32m    415\u001b[0m         \u001b[0;32mtry\u001b[0m\u001b[0;34m:\u001b[0m\u001b[0;34m\u001b[0m\u001b[0;34m\u001b[0m\u001b[0m\n\u001b[0;32m--> 416\u001b[0;31m             \u001b[0mfd_event_list\u001b[0m \u001b[0;34m=\u001b[0m \u001b[0mself\u001b[0m\u001b[0;34m.\u001b[0m\u001b[0m_selector\u001b[0m\u001b[0;34m.\u001b[0m\u001b[0mpoll\u001b[0m\u001b[0;34m(\u001b[0m\u001b[0mtimeout\u001b[0m\u001b[0;34m)\u001b[0m\u001b[0;34m\u001b[0m\u001b[0;34m\u001b[0m\u001b[0m\n\u001b[0m\u001b[1;32m    417\u001b[0m         \u001b[0;32mexcept\u001b[0m \u001b[0mInterruptedError\u001b[0m\u001b[0;34m:\u001b[0m\u001b[0;34m\u001b[0m\u001b[0;34m\u001b[0m\u001b[0m\n\u001b[1;32m    418\u001b[0m             \u001b[0;32mreturn\u001b[0m \u001b[0mready\u001b[0m\u001b[0;34m\u001b[0m\u001b[0;34m\u001b[0m\u001b[0m\n",
            "\u001b[0;31mKeyboardInterrupt\u001b[0m: "
          ]
        }
      ],
      "source": [
        "%run large_batch_training.py --optimizer SGDM --batch-size 128 --weight-decay 4e-4"
      ]
    },
    {
      "cell_type": "markdown",
      "metadata": {
        "id": "_2t__56QmDKL"
      },
      "source": []
    },
    {
      "cell_type": "code",
      "execution_count": 8,
      "metadata": {
        "colab": {
          "base_uri": "https://localhost:8080/",
          "height": 1000
        },
        "id": "FqIzBQKfZFgB",
        "outputId": "beff2b9d-73ac-4a8d-ed6e-51a1140977bb"
      },
      "outputs": [
        {
          "output_type": "stream",
          "name": "stdout",
          "text": [
            "Files already downloaded and verified\n",
            "Files already downloaded and verified\n",
            "Files already downloaded and verified\n",
            "Files already downloaded and verified\n",
            "--- Train with AdamW ---\n",
            "Epoch 1/150, Train Acc: 4.87%, Val Acc: 9.80%, Test Acc: 8.39%\n",
            "Epoch 1/150, Train Loss: 4.3212, Val Loss: 3.9879, Test Loss: 4.0404\n",
            "Epoch 2/150, Train Acc: 9.41%, Val Acc: 15.22%, Test Acc: 11.92%\n",
            "Epoch 2/150, Train Loss: 3.9914, Val Loss: 3.6744, Test Loss: 3.7825\n",
            "Epoch 3/150, Train Acc: 12.98%, Val Acc: 17.24%, Test Acc: 15.59%\n",
            "Epoch 3/150, Train Loss: 3.7560, Val Loss: 3.5160, Test Loss: 3.5760\n",
            "Epoch 4/150, Train Acc: 15.65%, Val Acc: 20.73%, Test Acc: 17.77%\n",
            "Epoch 4/150, Train Loss: 3.5568, Val Loss: 3.2779, Test Loss: 3.4679\n",
            "Warmup phase completed at epoch 5. Switching to constant learning rate.\n",
            "Epoch 5/150, Train Acc: 18.95%, Val Acc: 24.62%, Test Acc: 20.84%\n",
            "Epoch 5/150, Train Loss: 3.3880, Val Loss: 3.0955, Test Loss: 3.2968\n",
            "Epoch 6/150, Train Acc: 21.89%, Val Acc: 28.51%, Test Acc: 24.31%\n",
            "Epoch 6/150, Train Loss: 3.2196, Val Loss: 2.9010, Test Loss: 3.0826\n",
            "Epoch 7/150, Train Acc: 24.31%, Val Acc: 31.07%, Test Acc: 25.22%\n",
            "Epoch 7/150, Train Loss: 3.0664, Val Loss: 2.7776, Test Loss: 3.0396\n",
            "Epoch 8/150, Train Acc: 27.02%, Val Acc: 31.75%, Test Acc: 28.49%\n",
            "Epoch 8/150, Train Loss: 2.9424, Val Loss: 2.6967, Test Loss: 2.8897\n",
            "Epoch 9/150, Train Acc: 28.84%, Val Acc: 33.08%, Test Acc: 29.12%\n",
            "Epoch 9/150, Train Loss: 2.8463, Val Loss: 2.6316, Test Loss: 2.8749\n",
            "Checkpoint saved at epoch 10: ./checkpoint_epoch_10.pth\n"
          ]
        },
        {
          "output_type": "display_data",
          "data": {
            "text/plain": [
              "<IPython.core.display.Javascript object>"
            ],
            "application/javascript": [
              "\n",
              "    async function download(id, filename, size) {\n",
              "      if (!google.colab.kernel.accessAllowed) {\n",
              "        return;\n",
              "      }\n",
              "      const div = document.createElement('div');\n",
              "      const label = document.createElement('label');\n",
              "      label.textContent = `Downloading \"${filename}\": `;\n",
              "      div.appendChild(label);\n",
              "      const progress = document.createElement('progress');\n",
              "      progress.max = size;\n",
              "      div.appendChild(progress);\n",
              "      document.body.appendChild(div);\n",
              "\n",
              "      const buffers = [];\n",
              "      let downloaded = 0;\n",
              "\n",
              "      const channel = await google.colab.kernel.comms.open(id);\n",
              "      // Send a message to notify the kernel that we're ready.\n",
              "      channel.send({})\n",
              "\n",
              "      for await (const message of channel.messages) {\n",
              "        // Send a message to notify the kernel that we're ready.\n",
              "        channel.send({})\n",
              "        if (message.buffers) {\n",
              "          for (const buffer of message.buffers) {\n",
              "            buffers.push(buffer);\n",
              "            downloaded += buffer.byteLength;\n",
              "            progress.value = downloaded;\n",
              "          }\n",
              "        }\n",
              "      }\n",
              "      const blob = new Blob(buffers, {type: 'application/binary'});\n",
              "      const a = document.createElement('a');\n",
              "      a.href = window.URL.createObjectURL(blob);\n",
              "      a.download = filename;\n",
              "      div.appendChild(a);\n",
              "      a.click();\n",
              "      div.remove();\n",
              "    }\n",
              "  "
            ]
          },
          "metadata": {}
        },
        {
          "output_type": "display_data",
          "data": {
            "text/plain": [
              "<IPython.core.display.Javascript object>"
            ],
            "application/javascript": [
              "download(\"download_b5633168-007a-46e4-80d9-1a422d227c93\", \"checkpoint_epoch_10.pth\", 9797038)"
            ]
          },
          "metadata": {}
        },
        {
          "output_type": "stream",
          "name": "stdout",
          "text": [
            "Epoch 10/150, Train Acc: 30.49%, Val Acc: 34.86%, Test Acc: 29.61%\n",
            "Epoch 10/150, Train Loss: 2.7663, Val Loss: 2.5491, Test Loss: 2.8303\n",
            "Epoch 11/150, Train Acc: 31.64%, Val Acc: 35.59%, Test Acc: 31.23%\n",
            "Epoch 11/150, Train Loss: 2.6980, Val Loss: 2.5210, Test Loss: 2.7530\n",
            "Epoch 12/150, Train Acc: 33.05%, Val Acc: 37.56%, Test Acc: 32.23%\n",
            "Epoch 12/150, Train Loss: 2.6291, Val Loss: 2.4403, Test Loss: 2.7221\n",
            "Epoch 13/150, Train Acc: 34.26%, Val Acc: 37.84%, Test Acc: 33.64%\n",
            "Epoch 13/150, Train Loss: 2.5798, Val Loss: 2.4105, Test Loss: 2.6375\n",
            "Epoch 14/150, Train Acc: 35.31%, Val Acc: 39.21%, Test Acc: 33.37%\n",
            "Epoch 14/150, Train Loss: 2.5236, Val Loss: 2.3681, Test Loss: 2.6560\n",
            "Epoch 15/150, Train Acc: 36.30%, Val Acc: 39.32%, Test Acc: 34.41%\n",
            "Epoch 15/150, Train Loss: 2.4799, Val Loss: 2.3510, Test Loss: 2.6350\n",
            "Epoch 16/150, Train Acc: 37.18%, Val Acc: 38.97%, Test Acc: 34.78%\n",
            "Epoch 16/150, Train Loss: 2.4287, Val Loss: 2.3194, Test Loss: 2.5979\n",
            "Epoch 17/150, Train Acc: 38.17%, Val Acc: 41.10%, Test Acc: 36.00%\n",
            "Epoch 17/150, Train Loss: 2.3856, Val Loss: 2.2895, Test Loss: 2.5512\n",
            "Epoch 18/150, Train Acc: 38.92%, Val Acc: 41.28%, Test Acc: 35.94%\n",
            "Epoch 18/150, Train Loss: 2.3570, Val Loss: 2.2541, Test Loss: 2.5340\n",
            "Epoch 19/150, Train Acc: 39.73%, Val Acc: 41.66%, Test Acc: 36.93%\n",
            "Epoch 19/150, Train Loss: 2.3158, Val Loss: 2.2613, Test Loss: 2.4969\n",
            "Checkpoint saved at epoch 20: ./checkpoint_epoch_20.pth\n"
          ]
        },
        {
          "output_type": "display_data",
          "data": {
            "text/plain": [
              "<IPython.core.display.Javascript object>"
            ],
            "application/javascript": [
              "\n",
              "    async function download(id, filename, size) {\n",
              "      if (!google.colab.kernel.accessAllowed) {\n",
              "        return;\n",
              "      }\n",
              "      const div = document.createElement('div');\n",
              "      const label = document.createElement('label');\n",
              "      label.textContent = `Downloading \"${filename}\": `;\n",
              "      div.appendChild(label);\n",
              "      const progress = document.createElement('progress');\n",
              "      progress.max = size;\n",
              "      div.appendChild(progress);\n",
              "      document.body.appendChild(div);\n",
              "\n",
              "      const buffers = [];\n",
              "      let downloaded = 0;\n",
              "\n",
              "      const channel = await google.colab.kernel.comms.open(id);\n",
              "      // Send a message to notify the kernel that we're ready.\n",
              "      channel.send({})\n",
              "\n",
              "      for await (const message of channel.messages) {\n",
              "        // Send a message to notify the kernel that we're ready.\n",
              "        channel.send({})\n",
              "        if (message.buffers) {\n",
              "          for (const buffer of message.buffers) {\n",
              "            buffers.push(buffer);\n",
              "            downloaded += buffer.byteLength;\n",
              "            progress.value = downloaded;\n",
              "          }\n",
              "        }\n",
              "      }\n",
              "      const blob = new Blob(buffers, {type: 'application/binary'});\n",
              "      const a = document.createElement('a');\n",
              "      a.href = window.URL.createObjectURL(blob);\n",
              "      a.download = filename;\n",
              "      div.appendChild(a);\n",
              "      a.click();\n",
              "      div.remove();\n",
              "    }\n",
              "  "
            ]
          },
          "metadata": {}
        },
        {
          "output_type": "display_data",
          "data": {
            "text/plain": [
              "<IPython.core.display.Javascript object>"
            ],
            "application/javascript": [
              "download(\"download_9d65d48b-8bea-4b47-9594-0ec9fba35f42\", \"checkpoint_epoch_20.pth\", 9797038)"
            ]
          },
          "metadata": {}
        },
        {
          "output_type": "stream",
          "name": "stdout",
          "text": [
            "Epoch 20/150, Train Acc: 39.91%, Val Acc: 41.67%, Test Acc: 37.26%\n",
            "Epoch 20/150, Train Loss: 2.2855, Val Loss: 2.2380, Test Loss: 2.4939\n",
            "Epoch 21/150, Train Acc: 40.68%, Val Acc: 42.36%, Test Acc: 36.84%\n",
            "Epoch 21/150, Train Loss: 2.2685, Val Loss: 2.2208, Test Loss: 2.5108\n",
            "Epoch 22/150, Train Acc: 41.50%, Val Acc: 42.61%, Test Acc: 36.35%\n",
            "Epoch 22/150, Train Loss: 2.2283, Val Loss: 2.2171, Test Loss: 2.5470\n",
            "Epoch 23/150, Train Acc: 42.46%, Val Acc: 42.92%, Test Acc: 37.31%\n",
            "Epoch 23/150, Train Loss: 2.1851, Val Loss: 2.2035, Test Loss: 2.4958\n",
            "Epoch 24/150, Train Acc: 42.35%, Val Acc: 43.90%, Test Acc: 37.21%\n",
            "Epoch 24/150, Train Loss: 2.1823, Val Loss: 2.1652, Test Loss: 2.5048\n",
            "Epoch 25/150, Train Acc: 42.98%, Val Acc: 44.44%, Test Acc: 38.08%\n",
            "Epoch 25/150, Train Loss: 2.1440, Val Loss: 2.1436, Test Loss: 2.4509\n",
            "Epoch 26/150, Train Acc: 43.51%, Val Acc: 43.98%, Test Acc: 37.57%\n",
            "Epoch 26/150, Train Loss: 2.1356, Val Loss: 2.1578, Test Loss: 2.4746\n",
            "Epoch 27/150, Train Acc: 44.13%, Val Acc: 44.47%, Test Acc: 38.61%\n",
            "Epoch 27/150, Train Loss: 2.1100, Val Loss: 2.1379, Test Loss: 2.4495\n",
            "Epoch 28/150, Train Acc: 44.39%, Val Acc: 45.03%, Test Acc: 38.23%\n",
            "Epoch 28/150, Train Loss: 2.0860, Val Loss: 2.1127, Test Loss: 2.4531\n",
            "Epoch 29/150, Train Acc: 45.18%, Val Acc: 45.30%, Test Acc: 38.59%\n",
            "Epoch 29/150, Train Loss: 2.0634, Val Loss: 2.1144, Test Loss: 2.4623\n",
            "Checkpoint saved at epoch 30: ./checkpoint_epoch_30.pth\n"
          ]
        },
        {
          "output_type": "display_data",
          "data": {
            "text/plain": [
              "<IPython.core.display.Javascript object>"
            ],
            "application/javascript": [
              "\n",
              "    async function download(id, filename, size) {\n",
              "      if (!google.colab.kernel.accessAllowed) {\n",
              "        return;\n",
              "      }\n",
              "      const div = document.createElement('div');\n",
              "      const label = document.createElement('label');\n",
              "      label.textContent = `Downloading \"${filename}\": `;\n",
              "      div.appendChild(label);\n",
              "      const progress = document.createElement('progress');\n",
              "      progress.max = size;\n",
              "      div.appendChild(progress);\n",
              "      document.body.appendChild(div);\n",
              "\n",
              "      const buffers = [];\n",
              "      let downloaded = 0;\n",
              "\n",
              "      const channel = await google.colab.kernel.comms.open(id);\n",
              "      // Send a message to notify the kernel that we're ready.\n",
              "      channel.send({})\n",
              "\n",
              "      for await (const message of channel.messages) {\n",
              "        // Send a message to notify the kernel that we're ready.\n",
              "        channel.send({})\n",
              "        if (message.buffers) {\n",
              "          for (const buffer of message.buffers) {\n",
              "            buffers.push(buffer);\n",
              "            downloaded += buffer.byteLength;\n",
              "            progress.value = downloaded;\n",
              "          }\n",
              "        }\n",
              "      }\n",
              "      const blob = new Blob(buffers, {type: 'application/binary'});\n",
              "      const a = document.createElement('a');\n",
              "      a.href = window.URL.createObjectURL(blob);\n",
              "      a.download = filename;\n",
              "      div.appendChild(a);\n",
              "      a.click();\n",
              "      div.remove();\n",
              "    }\n",
              "  "
            ]
          },
          "metadata": {}
        },
        {
          "output_type": "display_data",
          "data": {
            "text/plain": [
              "<IPython.core.display.Javascript object>"
            ],
            "application/javascript": [
              "download(\"download_5cc4f4e5-074f-43c4-9266-65ca03e036b6\", \"checkpoint_epoch_30.pth\", 9797038)"
            ]
          },
          "metadata": {}
        },
        {
          "output_type": "stream",
          "name": "stdout",
          "text": [
            "Epoch 30/150, Train Acc: 45.47%, Val Acc: 45.04%, Test Acc: 39.16%\n",
            "Epoch 30/150, Train Loss: 2.0443, Val Loss: 2.1457, Test Loss: 2.4743\n",
            "Epoch 31/150, Train Acc: 46.02%, Val Acc: 44.69%, Test Acc: 39.37%\n",
            "Epoch 31/150, Train Loss: 2.0200, Val Loss: 2.1352, Test Loss: 2.4168\n",
            "Epoch 32/150, Train Acc: 46.08%, Val Acc: 44.87%, Test Acc: 39.26%\n",
            "Epoch 32/150, Train Loss: 2.0171, Val Loss: 2.1314, Test Loss: 2.4363\n",
            "Epoch 33/150, Train Acc: 46.74%, Val Acc: 45.23%, Test Acc: 37.83%\n",
            "Epoch 33/150, Train Loss: 1.9908, Val Loss: 2.1329, Test Loss: 2.5232\n",
            "Epoch 34/150, Train Acc: 47.09%, Val Acc: 45.03%, Test Acc: 39.73%\n",
            "Epoch 34/150, Train Loss: 1.9754, Val Loss: 2.1290, Test Loss: 2.4500\n",
            "Epoch 35/150, Train Acc: 47.37%, Val Acc: 46.14%, Test Acc: 39.97%\n",
            "Epoch 35/150, Train Loss: 1.9638, Val Loss: 2.0844, Test Loss: 2.4090\n",
            "Epoch 36/150, Train Acc: 47.89%, Val Acc: 45.07%, Test Acc: 40.16%\n",
            "Epoch 36/150, Train Loss: 1.9389, Val Loss: 2.1167, Test Loss: 2.3725\n",
            "Epoch 37/150, Train Acc: 48.22%, Val Acc: 46.13%, Test Acc: 39.92%\n",
            "Epoch 37/150, Train Loss: 1.9273, Val Loss: 2.0883, Test Loss: 2.4004\n",
            "Epoch 38/150, Train Acc: 48.46%, Val Acc: 46.72%, Test Acc: 40.04%\n",
            "Epoch 38/150, Train Loss: 1.9131, Val Loss: 2.0856, Test Loss: 2.4119\n",
            "Epoch 39/150, Train Acc: 48.75%, Val Acc: 46.04%, Test Acc: 38.96%\n",
            "Epoch 39/150, Train Loss: 1.9052, Val Loss: 2.0938, Test Loss: 2.4278\n",
            "Checkpoint saved at epoch 40: ./checkpoint_epoch_40.pth\n"
          ]
        },
        {
          "output_type": "display_data",
          "data": {
            "text/plain": [
              "<IPython.core.display.Javascript object>"
            ],
            "application/javascript": [
              "\n",
              "    async function download(id, filename, size) {\n",
              "      if (!google.colab.kernel.accessAllowed) {\n",
              "        return;\n",
              "      }\n",
              "      const div = document.createElement('div');\n",
              "      const label = document.createElement('label');\n",
              "      label.textContent = `Downloading \"${filename}\": `;\n",
              "      div.appendChild(label);\n",
              "      const progress = document.createElement('progress');\n",
              "      progress.max = size;\n",
              "      div.appendChild(progress);\n",
              "      document.body.appendChild(div);\n",
              "\n",
              "      const buffers = [];\n",
              "      let downloaded = 0;\n",
              "\n",
              "      const channel = await google.colab.kernel.comms.open(id);\n",
              "      // Send a message to notify the kernel that we're ready.\n",
              "      channel.send({})\n",
              "\n",
              "      for await (const message of channel.messages) {\n",
              "        // Send a message to notify the kernel that we're ready.\n",
              "        channel.send({})\n",
              "        if (message.buffers) {\n",
              "          for (const buffer of message.buffers) {\n",
              "            buffers.push(buffer);\n",
              "            downloaded += buffer.byteLength;\n",
              "            progress.value = downloaded;\n",
              "          }\n",
              "        }\n",
              "      }\n",
              "      const blob = new Blob(buffers, {type: 'application/binary'});\n",
              "      const a = document.createElement('a');\n",
              "      a.href = window.URL.createObjectURL(blob);\n",
              "      a.download = filename;\n",
              "      div.appendChild(a);\n",
              "      a.click();\n",
              "      div.remove();\n",
              "    }\n",
              "  "
            ]
          },
          "metadata": {}
        },
        {
          "output_type": "display_data",
          "data": {
            "text/plain": [
              "<IPython.core.display.Javascript object>"
            ],
            "application/javascript": [
              "download(\"download_82450b1b-681b-452e-b899-a0edb6b1154d\", \"checkpoint_epoch_40.pth\", 9797038)"
            ]
          },
          "metadata": {}
        },
        {
          "output_type": "stream",
          "name": "stdout",
          "text": [
            "Epoch 40/150, Train Acc: 48.80%, Val Acc: 46.06%, Test Acc: 40.41%\n",
            "Epoch 40/150, Train Loss: 1.8904, Val Loss: 2.0707, Test Loss: 2.3591\n",
            "Epoch 41/150, Train Acc: 49.19%, Val Acc: 45.82%, Test Acc: 39.30%\n",
            "Epoch 41/150, Train Loss: 1.8667, Val Loss: 2.0976, Test Loss: 2.4270\n",
            "Epoch 42/150, Train Acc: 49.63%, Val Acc: 46.63%, Test Acc: 39.59%\n",
            "Epoch 42/150, Train Loss: 1.8594, Val Loss: 2.0988, Test Loss: 2.4237\n",
            "Epoch 43/150, Train Acc: 49.84%, Val Acc: 46.84%, Test Acc: 40.79%\n",
            "Epoch 43/150, Train Loss: 1.8418, Val Loss: 2.0835, Test Loss: 2.3878\n",
            "Epoch 44/150, Train Acc: 50.16%, Val Acc: 46.85%, Test Acc: 40.02%\n",
            "Epoch 44/150, Train Loss: 1.8261, Val Loss: 2.0765, Test Loss: 2.3994\n",
            "Epoch 45/150, Train Acc: 50.47%, Val Acc: 46.73%, Test Acc: 40.09%\n",
            "Epoch 45/150, Train Loss: 1.8135, Val Loss: 2.0919, Test Loss: 2.4153\n",
            "Epoch 46/150, Train Acc: 50.65%, Val Acc: 46.68%, Test Acc: 38.95%\n",
            "Epoch 46/150, Train Loss: 1.8079, Val Loss: 2.0928, Test Loss: 2.4852\n",
            "Epoch 47/150, Train Acc: 50.77%, Val Acc: 47.26%, Test Acc: 41.03%\n",
            "Epoch 47/150, Train Loss: 1.8022, Val Loss: 2.0508, Test Loss: 2.3283\n",
            "Epoch 48/150, Train Acc: 51.28%, Val Acc: 46.70%, Test Acc: 39.96%\n",
            "Epoch 48/150, Train Loss: 1.7834, Val Loss: 2.0852, Test Loss: 2.4314\n",
            "Epoch 49/150, Train Acc: 51.47%, Val Acc: 47.31%, Test Acc: 41.09%\n",
            "Epoch 49/150, Train Loss: 1.7647, Val Loss: 2.0860, Test Loss: 2.3907\n",
            "Checkpoint saved at epoch 50: ./checkpoint_epoch_50.pth\n"
          ]
        },
        {
          "output_type": "display_data",
          "data": {
            "text/plain": [
              "<IPython.core.display.Javascript object>"
            ],
            "application/javascript": [
              "\n",
              "    async function download(id, filename, size) {\n",
              "      if (!google.colab.kernel.accessAllowed) {\n",
              "        return;\n",
              "      }\n",
              "      const div = document.createElement('div');\n",
              "      const label = document.createElement('label');\n",
              "      label.textContent = `Downloading \"${filename}\": `;\n",
              "      div.appendChild(label);\n",
              "      const progress = document.createElement('progress');\n",
              "      progress.max = size;\n",
              "      div.appendChild(progress);\n",
              "      document.body.appendChild(div);\n",
              "\n",
              "      const buffers = [];\n",
              "      let downloaded = 0;\n",
              "\n",
              "      const channel = await google.colab.kernel.comms.open(id);\n",
              "      // Send a message to notify the kernel that we're ready.\n",
              "      channel.send({})\n",
              "\n",
              "      for await (const message of channel.messages) {\n",
              "        // Send a message to notify the kernel that we're ready.\n",
              "        channel.send({})\n",
              "        if (message.buffers) {\n",
              "          for (const buffer of message.buffers) {\n",
              "            buffers.push(buffer);\n",
              "            downloaded += buffer.byteLength;\n",
              "            progress.value = downloaded;\n",
              "          }\n",
              "        }\n",
              "      }\n",
              "      const blob = new Blob(buffers, {type: 'application/binary'});\n",
              "      const a = document.createElement('a');\n",
              "      a.href = window.URL.createObjectURL(blob);\n",
              "      a.download = filename;\n",
              "      div.appendChild(a);\n",
              "      a.click();\n",
              "      div.remove();\n",
              "    }\n",
              "  "
            ]
          },
          "metadata": {}
        },
        {
          "output_type": "display_data",
          "data": {
            "text/plain": [
              "<IPython.core.display.Javascript object>"
            ],
            "application/javascript": [
              "download(\"download_e062078f-3636-4e9e-89f8-c0da68a02dbf\", \"checkpoint_epoch_50.pth\", 9797038)"
            ]
          },
          "metadata": {}
        },
        {
          "output_type": "stream",
          "name": "stdout",
          "text": [
            "Epoch 50/150, Train Acc: 51.91%, Val Acc: 47.16%, Test Acc: 40.36%\n",
            "Epoch 50/150, Train Loss: 1.7538, Val Loss: 2.0764, Test Loss: 2.4094\n",
            "Epoch 51/150, Train Acc: 51.96%, Val Acc: 46.98%, Test Acc: 40.48%\n",
            "Epoch 51/150, Train Loss: 1.7540, Val Loss: 2.0792, Test Loss: 2.3643\n",
            "Epoch 52/150, Train Acc: 52.28%, Val Acc: 47.58%, Test Acc: 40.74%\n",
            "Epoch 52/150, Train Loss: 1.7488, Val Loss: 2.0693, Test Loss: 2.3924\n",
            "Epoch 53/150, Train Acc: 52.96%, Val Acc: 47.96%, Test Acc: 41.80%\n",
            "Epoch 53/150, Train Loss: 1.7301, Val Loss: 2.0380, Test Loss: 2.3359\n",
            "Epoch 54/150, Train Acc: 52.96%, Val Acc: 47.50%, Test Acc: 41.50%\n",
            "Epoch 54/150, Train Loss: 1.7155, Val Loss: 2.0616, Test Loss: 2.3557\n",
            "Epoch 55/150, Train Acc: 53.03%, Val Acc: 47.31%, Test Acc: 40.48%\n",
            "Epoch 55/150, Train Loss: 1.7158, Val Loss: 2.0746, Test Loss: 2.3920\n",
            "Epoch 56/150, Train Acc: 53.50%, Val Acc: 47.89%, Test Acc: 41.82%\n",
            "Epoch 56/150, Train Loss: 1.6923, Val Loss: 2.0697, Test Loss: 2.3782\n",
            "Epoch 57/150, Train Acc: 52.93%, Val Acc: 47.51%, Test Acc: 41.72%\n",
            "Epoch 57/150, Train Loss: 1.6994, Val Loss: 2.0536, Test Loss: 2.3199\n",
            "Epoch 58/150, Train Acc: 53.80%, Val Acc: 47.84%, Test Acc: 41.74%\n",
            "Epoch 58/150, Train Loss: 1.6823, Val Loss: 2.0587, Test Loss: 2.3479\n",
            "Epoch 59/150, Train Acc: 54.03%, Val Acc: 47.92%, Test Acc: 41.58%\n",
            "Epoch 59/150, Train Loss: 1.6677, Val Loss: 2.0838, Test Loss: 2.4062\n",
            "Checkpoint saved at epoch 60: ./checkpoint_epoch_60.pth\n"
          ]
        },
        {
          "output_type": "display_data",
          "data": {
            "text/plain": [
              "<IPython.core.display.Javascript object>"
            ],
            "application/javascript": [
              "\n",
              "    async function download(id, filename, size) {\n",
              "      if (!google.colab.kernel.accessAllowed) {\n",
              "        return;\n",
              "      }\n",
              "      const div = document.createElement('div');\n",
              "      const label = document.createElement('label');\n",
              "      label.textContent = `Downloading \"${filename}\": `;\n",
              "      div.appendChild(label);\n",
              "      const progress = document.createElement('progress');\n",
              "      progress.max = size;\n",
              "      div.appendChild(progress);\n",
              "      document.body.appendChild(div);\n",
              "\n",
              "      const buffers = [];\n",
              "      let downloaded = 0;\n",
              "\n",
              "      const channel = await google.colab.kernel.comms.open(id);\n",
              "      // Send a message to notify the kernel that we're ready.\n",
              "      channel.send({})\n",
              "\n",
              "      for await (const message of channel.messages) {\n",
              "        // Send a message to notify the kernel that we're ready.\n",
              "        channel.send({})\n",
              "        if (message.buffers) {\n",
              "          for (const buffer of message.buffers) {\n",
              "            buffers.push(buffer);\n",
              "            downloaded += buffer.byteLength;\n",
              "            progress.value = downloaded;\n",
              "          }\n",
              "        }\n",
              "      }\n",
              "      const blob = new Blob(buffers, {type: 'application/binary'});\n",
              "      const a = document.createElement('a');\n",
              "      a.href = window.URL.createObjectURL(blob);\n",
              "      a.download = filename;\n",
              "      div.appendChild(a);\n",
              "      a.click();\n",
              "      div.remove();\n",
              "    }\n",
              "  "
            ]
          },
          "metadata": {}
        },
        {
          "output_type": "display_data",
          "data": {
            "text/plain": [
              "<IPython.core.display.Javascript object>"
            ],
            "application/javascript": [
              "download(\"download_f17892da-450c-45e2-b290-9432b02d6495\", \"checkpoint_epoch_60.pth\", 9797038)"
            ]
          },
          "metadata": {}
        },
        {
          "output_type": "stream",
          "name": "stdout",
          "text": [
            "Epoch 60/150, Train Acc: 54.24%, Val Acc: 47.38%, Test Acc: 41.05%\n",
            "Epoch 60/150, Train Loss: 1.6631, Val Loss: 2.0792, Test Loss: 2.4219\n",
            "Epoch 61/150, Train Acc: 54.30%, Val Acc: 48.19%, Test Acc: 42.23%\n",
            "Epoch 61/150, Train Loss: 1.6509, Val Loss: 2.0594, Test Loss: 2.3444\n",
            "Epoch 62/150, Train Acc: 54.73%, Val Acc: 47.61%, Test Acc: 40.86%\n",
            "Epoch 62/150, Train Loss: 1.6442, Val Loss: 2.0679, Test Loss: 2.4117\n",
            "Epoch 63/150, Train Acc: 54.87%, Val Acc: 48.06%, Test Acc: 41.44%\n",
            "Epoch 63/150, Train Loss: 1.6357, Val Loss: 2.0519, Test Loss: 2.3642\n",
            "Epoch 64/150, Train Acc: 54.48%, Val Acc: 48.25%, Test Acc: 42.08%\n",
            "Epoch 64/150, Train Loss: 1.6343, Val Loss: 2.0576, Test Loss: 2.3719\n",
            "Epoch 65/150, Train Acc: 55.32%, Val Acc: 47.76%, Test Acc: 42.77%\n",
            "Epoch 65/150, Train Loss: 1.6110, Val Loss: 2.0949, Test Loss: 2.3359\n",
            "Epoch 66/150, Train Acc: 55.18%, Val Acc: 47.84%, Test Acc: 42.46%\n",
            "Epoch 66/150, Train Loss: 1.6095, Val Loss: 2.0703, Test Loss: 2.3135\n",
            "Epoch 67/150, Train Acc: 55.33%, Val Acc: 47.92%, Test Acc: 42.58%\n",
            "Epoch 67/150, Train Loss: 1.6074, Val Loss: 2.0948, Test Loss: 2.3340\n",
            "Epoch 68/150, Train Acc: 55.93%, Val Acc: 48.28%, Test Acc: 42.85%\n",
            "Epoch 68/150, Train Loss: 1.5925, Val Loss: 2.0560, Test Loss: 2.3354\n",
            "Epoch 69/150, Train Acc: 55.81%, Val Acc: 47.72%, Test Acc: 41.65%\n",
            "Epoch 69/150, Train Loss: 1.5825, Val Loss: 2.0751, Test Loss: 2.3772\n",
            "Checkpoint saved at epoch 70: ./checkpoint_epoch_70.pth\n"
          ]
        },
        {
          "output_type": "display_data",
          "data": {
            "text/plain": [
              "<IPython.core.display.Javascript object>"
            ],
            "application/javascript": [
              "\n",
              "    async function download(id, filename, size) {\n",
              "      if (!google.colab.kernel.accessAllowed) {\n",
              "        return;\n",
              "      }\n",
              "      const div = document.createElement('div');\n",
              "      const label = document.createElement('label');\n",
              "      label.textContent = `Downloading \"${filename}\": `;\n",
              "      div.appendChild(label);\n",
              "      const progress = document.createElement('progress');\n",
              "      progress.max = size;\n",
              "      div.appendChild(progress);\n",
              "      document.body.appendChild(div);\n",
              "\n",
              "      const buffers = [];\n",
              "      let downloaded = 0;\n",
              "\n",
              "      const channel = await google.colab.kernel.comms.open(id);\n",
              "      // Send a message to notify the kernel that we're ready.\n",
              "      channel.send({})\n",
              "\n",
              "      for await (const message of channel.messages) {\n",
              "        // Send a message to notify the kernel that we're ready.\n",
              "        channel.send({})\n",
              "        if (message.buffers) {\n",
              "          for (const buffer of message.buffers) {\n",
              "            buffers.push(buffer);\n",
              "            downloaded += buffer.byteLength;\n",
              "            progress.value = downloaded;\n",
              "          }\n",
              "        }\n",
              "      }\n",
              "      const blob = new Blob(buffers, {type: 'application/binary'});\n",
              "      const a = document.createElement('a');\n",
              "      a.href = window.URL.createObjectURL(blob);\n",
              "      a.download = filename;\n",
              "      div.appendChild(a);\n",
              "      a.click();\n",
              "      div.remove();\n",
              "    }\n",
              "  "
            ]
          },
          "metadata": {}
        },
        {
          "output_type": "display_data",
          "data": {
            "text/plain": [
              "<IPython.core.display.Javascript object>"
            ],
            "application/javascript": [
              "download(\"download_c6bd85d6-d29a-4084-b84c-8a12dae3c4f7\", \"checkpoint_epoch_70.pth\", 9797038)"
            ]
          },
          "metadata": {}
        },
        {
          "output_type": "stream",
          "name": "stdout",
          "text": [
            "Epoch 70/150, Train Acc: 55.88%, Val Acc: 48.72%, Test Acc: 42.41%\n",
            "Epoch 70/150, Train Loss: 1.5748, Val Loss: 2.0545, Test Loss: 2.3611\n",
            "Epoch 71/150, Train Acc: 56.32%, Val Acc: 48.90%, Test Acc: 42.33%\n",
            "Epoch 71/150, Train Loss: 1.5773, Val Loss: 2.0436, Test Loss: 2.3774\n",
            "Epoch 72/150, Train Acc: 56.57%, Val Acc: 47.96%, Test Acc: 42.46%\n",
            "Epoch 72/150, Train Loss: 1.5602, Val Loss: 2.1092, Test Loss: 2.3807\n",
            "Epoch 73/150, Train Acc: 56.22%, Val Acc: 48.20%, Test Acc: 42.21%\n",
            "Epoch 73/150, Train Loss: 1.5654, Val Loss: 2.0638, Test Loss: 2.3617\n",
            "Epoch 74/150, Train Acc: 56.64%, Val Acc: 48.46%, Test Acc: 42.20%\n",
            "Epoch 74/150, Train Loss: 1.5482, Val Loss: 2.0656, Test Loss: 2.3808\n",
            "Epoch 75/150, Train Acc: 57.31%, Val Acc: 48.67%, Test Acc: 42.51%\n",
            "Epoch 75/150, Train Loss: 1.5337, Val Loss: 2.0618, Test Loss: 2.3538\n",
            "Epoch 76/150, Train Acc: 57.47%, Val Acc: 48.55%, Test Acc: 42.82%\n",
            "Epoch 76/150, Train Loss: 1.5244, Val Loss: 2.0935, Test Loss: 2.3273\n",
            "Epoch 77/150, Train Acc: 57.45%, Val Acc: 48.29%, Test Acc: 42.43%\n",
            "Epoch 77/150, Train Loss: 1.5216, Val Loss: 2.1188, Test Loss: 2.3941\n",
            "Epoch 78/150, Train Acc: 57.41%, Val Acc: 48.74%, Test Acc: 43.19%\n",
            "Epoch 78/150, Train Loss: 1.5333, Val Loss: 2.0581, Test Loss: 2.3092\n",
            "Epoch 79/150, Train Acc: 57.57%, Val Acc: 48.85%, Test Acc: 42.38%\n",
            "Epoch 79/150, Train Loss: 1.5120, Val Loss: 2.0843, Test Loss: 2.3851\n",
            "Checkpoint saved at epoch 80: ./checkpoint_epoch_80.pth\n"
          ]
        },
        {
          "output_type": "display_data",
          "data": {
            "text/plain": [
              "<IPython.core.display.Javascript object>"
            ],
            "application/javascript": [
              "\n",
              "    async function download(id, filename, size) {\n",
              "      if (!google.colab.kernel.accessAllowed) {\n",
              "        return;\n",
              "      }\n",
              "      const div = document.createElement('div');\n",
              "      const label = document.createElement('label');\n",
              "      label.textContent = `Downloading \"${filename}\": `;\n",
              "      div.appendChild(label);\n",
              "      const progress = document.createElement('progress');\n",
              "      progress.max = size;\n",
              "      div.appendChild(progress);\n",
              "      document.body.appendChild(div);\n",
              "\n",
              "      const buffers = [];\n",
              "      let downloaded = 0;\n",
              "\n",
              "      const channel = await google.colab.kernel.comms.open(id);\n",
              "      // Send a message to notify the kernel that we're ready.\n",
              "      channel.send({})\n",
              "\n",
              "      for await (const message of channel.messages) {\n",
              "        // Send a message to notify the kernel that we're ready.\n",
              "        channel.send({})\n",
              "        if (message.buffers) {\n",
              "          for (const buffer of message.buffers) {\n",
              "            buffers.push(buffer);\n",
              "            downloaded += buffer.byteLength;\n",
              "            progress.value = downloaded;\n",
              "          }\n",
              "        }\n",
              "      }\n",
              "      const blob = new Blob(buffers, {type: 'application/binary'});\n",
              "      const a = document.createElement('a');\n",
              "      a.href = window.URL.createObjectURL(blob);\n",
              "      a.download = filename;\n",
              "      div.appendChild(a);\n",
              "      a.click();\n",
              "      div.remove();\n",
              "    }\n",
              "  "
            ]
          },
          "metadata": {}
        },
        {
          "output_type": "display_data",
          "data": {
            "text/plain": [
              "<IPython.core.display.Javascript object>"
            ],
            "application/javascript": [
              "download(\"download_c1f81d45-510c-4f4d-a35f-39335599f9e5\", \"checkpoint_epoch_80.pth\", 9797038)"
            ]
          },
          "metadata": {}
        },
        {
          "output_type": "stream",
          "name": "stdout",
          "text": [
            "Epoch 80/150, Train Acc: 58.19%, Val Acc: 49.19%, Test Acc: 42.93%\n",
            "Epoch 80/150, Train Loss: 1.4982, Val Loss: 2.0835, Test Loss: 2.3501\n",
            "Epoch 81/150, Train Acc: 58.33%, Val Acc: 49.42%, Test Acc: 42.50%\n",
            "Epoch 81/150, Train Loss: 1.4918, Val Loss: 2.0557, Test Loss: 2.3563\n",
            "Epoch 82/150, Train Acc: 58.20%, Val Acc: 48.56%, Test Acc: 42.50%\n",
            "Epoch 82/150, Train Loss: 1.4837, Val Loss: 2.0788, Test Loss: 2.3661\n",
            "Epoch 83/150, Train Acc: 58.62%, Val Acc: 49.03%, Test Acc: 42.86%\n",
            "Epoch 83/150, Train Loss: 1.4785, Val Loss: 2.0634, Test Loss: 2.3281\n",
            "Epoch 84/150, Train Acc: 58.43%, Val Acc: 48.57%, Test Acc: 42.47%\n",
            "Epoch 84/150, Train Loss: 1.4752, Val Loss: 2.0668, Test Loss: 2.3684\n",
            "Epoch 85/150, Train Acc: 58.76%, Val Acc: 48.90%, Test Acc: 42.88%\n",
            "Epoch 85/150, Train Loss: 1.4675, Val Loss: 2.0785, Test Loss: 2.3675\n",
            "Epoch 86/150, Train Acc: 58.73%, Val Acc: 48.86%, Test Acc: 43.04%\n",
            "Epoch 86/150, Train Loss: 1.4637, Val Loss: 2.0714, Test Loss: 2.3506\n",
            "Epoch 87/150, Train Acc: 58.94%, Val Acc: 49.18%, Test Acc: 43.11%\n",
            "Epoch 87/150, Train Loss: 1.4633, Val Loss: 2.0690, Test Loss: 2.3493\n",
            "Epoch 88/150, Train Acc: 58.97%, Val Acc: 48.82%, Test Acc: 42.71%\n",
            "Epoch 88/150, Train Loss: 1.4514, Val Loss: 2.0612, Test Loss: 2.3852\n",
            "Epoch 89/150, Train Acc: 59.25%, Val Acc: 49.24%, Test Acc: 43.00%\n",
            "Epoch 89/150, Train Loss: 1.4448, Val Loss: 2.0563, Test Loss: 2.3345\n",
            "Checkpoint saved at epoch 90: ./checkpoint_epoch_90.pth\n"
          ]
        },
        {
          "output_type": "display_data",
          "data": {
            "text/plain": [
              "<IPython.core.display.Javascript object>"
            ],
            "application/javascript": [
              "\n",
              "    async function download(id, filename, size) {\n",
              "      if (!google.colab.kernel.accessAllowed) {\n",
              "        return;\n",
              "      }\n",
              "      const div = document.createElement('div');\n",
              "      const label = document.createElement('label');\n",
              "      label.textContent = `Downloading \"${filename}\": `;\n",
              "      div.appendChild(label);\n",
              "      const progress = document.createElement('progress');\n",
              "      progress.max = size;\n",
              "      div.appendChild(progress);\n",
              "      document.body.appendChild(div);\n",
              "\n",
              "      const buffers = [];\n",
              "      let downloaded = 0;\n",
              "\n",
              "      const channel = await google.colab.kernel.comms.open(id);\n",
              "      // Send a message to notify the kernel that we're ready.\n",
              "      channel.send({})\n",
              "\n",
              "      for await (const message of channel.messages) {\n",
              "        // Send a message to notify the kernel that we're ready.\n",
              "        channel.send({})\n",
              "        if (message.buffers) {\n",
              "          for (const buffer of message.buffers) {\n",
              "            buffers.push(buffer);\n",
              "            downloaded += buffer.byteLength;\n",
              "            progress.value = downloaded;\n",
              "          }\n",
              "        }\n",
              "      }\n",
              "      const blob = new Blob(buffers, {type: 'application/binary'});\n",
              "      const a = document.createElement('a');\n",
              "      a.href = window.URL.createObjectURL(blob);\n",
              "      a.download = filename;\n",
              "      div.appendChild(a);\n",
              "      a.click();\n",
              "      div.remove();\n",
              "    }\n",
              "  "
            ]
          },
          "metadata": {}
        },
        {
          "output_type": "display_data",
          "data": {
            "text/plain": [
              "<IPython.core.display.Javascript object>"
            ],
            "application/javascript": [
              "download(\"download_8e329d2c-1e76-4345-a314-6f435d1129b9\", \"checkpoint_epoch_90.pth\", 9797038)"
            ]
          },
          "metadata": {}
        },
        {
          "output_type": "stream",
          "name": "stdout",
          "text": [
            "Epoch 90/150, Train Acc: 59.60%, Val Acc: 49.15%, Test Acc: 43.06%\n",
            "Epoch 90/150, Train Loss: 1.4401, Val Loss: 2.0800, Test Loss: 2.3567\n",
            "Epoch 91/150, Train Acc: 59.64%, Val Acc: 48.84%, Test Acc: 42.84%\n",
            "Epoch 91/150, Train Loss: 1.4258, Val Loss: 2.0893, Test Loss: 2.3401\n",
            "Epoch 92/150, Train Acc: 59.47%, Val Acc: 48.98%, Test Acc: 42.50%\n",
            "Epoch 92/150, Train Loss: 1.4324, Val Loss: 2.0851, Test Loss: 2.3600\n",
            "Epoch 93/150, Train Acc: 59.83%, Val Acc: 49.18%, Test Acc: 42.95%\n",
            "Epoch 93/150, Train Loss: 1.4229, Val Loss: 2.0790, Test Loss: 2.3573\n",
            "Epoch 94/150, Train Acc: 59.77%, Val Acc: 49.19%, Test Acc: 43.16%\n",
            "Epoch 94/150, Train Loss: 1.4170, Val Loss: 2.0933, Test Loss: 2.3214\n",
            "Epoch 95/150, Train Acc: 60.04%, Val Acc: 49.14%, Test Acc: 42.73%\n",
            "Epoch 95/150, Train Loss: 1.4139, Val Loss: 2.0950, Test Loss: 2.3518\n",
            "Epoch 96/150, Train Acc: 60.17%, Val Acc: 49.74%, Test Acc: 43.16%\n",
            "Epoch 96/150, Train Loss: 1.4126, Val Loss: 2.0640, Test Loss: 2.3413\n",
            "Epoch 97/150, Train Acc: 60.44%, Val Acc: 49.30%, Test Acc: 42.98%\n",
            "Epoch 97/150, Train Loss: 1.4008, Val Loss: 2.0734, Test Loss: 2.3406\n",
            "Epoch 98/150, Train Acc: 60.23%, Val Acc: 49.05%, Test Acc: 43.48%\n",
            "Epoch 98/150, Train Loss: 1.3897, Val Loss: 2.0840, Test Loss: 2.3466\n",
            "Epoch 99/150, Train Acc: 60.84%, Val Acc: 49.72%, Test Acc: 42.56%\n",
            "Epoch 99/150, Train Loss: 1.3877, Val Loss: 2.0829, Test Loss: 2.3792\n",
            "Checkpoint saved at epoch 100: ./checkpoint_epoch_100.pth\n"
          ]
        },
        {
          "output_type": "display_data",
          "data": {
            "text/plain": [
              "<IPython.core.display.Javascript object>"
            ],
            "application/javascript": [
              "\n",
              "    async function download(id, filename, size) {\n",
              "      if (!google.colab.kernel.accessAllowed) {\n",
              "        return;\n",
              "      }\n",
              "      const div = document.createElement('div');\n",
              "      const label = document.createElement('label');\n",
              "      label.textContent = `Downloading \"${filename}\": `;\n",
              "      div.appendChild(label);\n",
              "      const progress = document.createElement('progress');\n",
              "      progress.max = size;\n",
              "      div.appendChild(progress);\n",
              "      document.body.appendChild(div);\n",
              "\n",
              "      const buffers = [];\n",
              "      let downloaded = 0;\n",
              "\n",
              "      const channel = await google.colab.kernel.comms.open(id);\n",
              "      // Send a message to notify the kernel that we're ready.\n",
              "      channel.send({})\n",
              "\n",
              "      for await (const message of channel.messages) {\n",
              "        // Send a message to notify the kernel that we're ready.\n",
              "        channel.send({})\n",
              "        if (message.buffers) {\n",
              "          for (const buffer of message.buffers) {\n",
              "            buffers.push(buffer);\n",
              "            downloaded += buffer.byteLength;\n",
              "            progress.value = downloaded;\n",
              "          }\n",
              "        }\n",
              "      }\n",
              "      const blob = new Blob(buffers, {type: 'application/binary'});\n",
              "      const a = document.createElement('a');\n",
              "      a.href = window.URL.createObjectURL(blob);\n",
              "      a.download = filename;\n",
              "      div.appendChild(a);\n",
              "      a.click();\n",
              "      div.remove();\n",
              "    }\n",
              "  "
            ]
          },
          "metadata": {}
        },
        {
          "output_type": "display_data",
          "data": {
            "text/plain": [
              "<IPython.core.display.Javascript object>"
            ],
            "application/javascript": [
              "download(\"download_424b015b-2b97-430b-bf03-47c076019f5c\", \"checkpoint_epoch_100.pth\", 9797146)"
            ]
          },
          "metadata": {}
        },
        {
          "output_type": "stream",
          "name": "stdout",
          "text": [
            "Epoch 100/150, Train Acc: 60.88%, Val Acc: 49.51%, Test Acc: 43.96%\n",
            "Epoch 100/150, Train Loss: 1.3710, Val Loss: 2.0854, Test Loss: 2.3200\n",
            "Epoch 101/150, Train Acc: 61.37%, Val Acc: 49.20%, Test Acc: 43.98%\n",
            "Epoch 101/150, Train Loss: 1.3629, Val Loss: 2.1073, Test Loss: 2.3484\n",
            "Epoch 102/150, Train Acc: 61.16%, Val Acc: 49.71%, Test Acc: 43.70%\n",
            "Epoch 102/150, Train Loss: 1.3688, Val Loss: 2.0788, Test Loss: 2.3218\n",
            "Epoch 103/150, Train Acc: 61.69%, Val Acc: 49.83%, Test Acc: 42.96%\n",
            "Epoch 103/150, Train Loss: 1.3573, Val Loss: 2.0864, Test Loss: 2.3595\n",
            "Epoch 104/150, Train Acc: 61.24%, Val Acc: 49.80%, Test Acc: 43.90%\n",
            "Epoch 104/150, Train Loss: 1.3594, Val Loss: 2.0780, Test Loss: 2.3410\n",
            "Epoch 105/150, Train Acc: 61.88%, Val Acc: 49.63%, Test Acc: 44.07%\n",
            "Epoch 105/150, Train Loss: 1.3375, Val Loss: 2.0929, Test Loss: 2.3664\n",
            "Epoch 106/150, Train Acc: 61.86%, Val Acc: 49.83%, Test Acc: 43.76%\n",
            "Epoch 106/150, Train Loss: 1.3393, Val Loss: 2.0999, Test Loss: 2.3637\n",
            "Epoch 107/150, Train Acc: 61.96%, Val Acc: 49.74%, Test Acc: 43.02%\n",
            "Epoch 107/150, Train Loss: 1.3419, Val Loss: 2.0740, Test Loss: 2.3642\n",
            "Epoch 108/150, Train Acc: 62.49%, Val Acc: 49.92%, Test Acc: 43.26%\n",
            "Epoch 108/150, Train Loss: 1.3240, Val Loss: 2.0711, Test Loss: 2.3605\n",
            "Epoch 109/150, Train Acc: 62.15%, Val Acc: 49.81%, Test Acc: 42.82%\n",
            "Epoch 109/150, Train Loss: 1.3269, Val Loss: 2.0682, Test Loss: 2.3829\n",
            "Checkpoint saved at epoch 110: ./checkpoint_epoch_110.pth\n"
          ]
        },
        {
          "output_type": "display_data",
          "data": {
            "text/plain": [
              "<IPython.core.display.Javascript object>"
            ],
            "application/javascript": [
              "\n",
              "    async function download(id, filename, size) {\n",
              "      if (!google.colab.kernel.accessAllowed) {\n",
              "        return;\n",
              "      }\n",
              "      const div = document.createElement('div');\n",
              "      const label = document.createElement('label');\n",
              "      label.textContent = `Downloading \"${filename}\": `;\n",
              "      div.appendChild(label);\n",
              "      const progress = document.createElement('progress');\n",
              "      progress.max = size;\n",
              "      div.appendChild(progress);\n",
              "      document.body.appendChild(div);\n",
              "\n",
              "      const buffers = [];\n",
              "      let downloaded = 0;\n",
              "\n",
              "      const channel = await google.colab.kernel.comms.open(id);\n",
              "      // Send a message to notify the kernel that we're ready.\n",
              "      channel.send({})\n",
              "\n",
              "      for await (const message of channel.messages) {\n",
              "        // Send a message to notify the kernel that we're ready.\n",
              "        channel.send({})\n",
              "        if (message.buffers) {\n",
              "          for (const buffer of message.buffers) {\n",
              "            buffers.push(buffer);\n",
              "            downloaded += buffer.byteLength;\n",
              "            progress.value = downloaded;\n",
              "          }\n",
              "        }\n",
              "      }\n",
              "      const blob = new Blob(buffers, {type: 'application/binary'});\n",
              "      const a = document.createElement('a');\n",
              "      a.href = window.URL.createObjectURL(blob);\n",
              "      a.download = filename;\n",
              "      div.appendChild(a);\n",
              "      a.click();\n",
              "      div.remove();\n",
              "    }\n",
              "  "
            ]
          },
          "metadata": {}
        },
        {
          "output_type": "display_data",
          "data": {
            "text/plain": [
              "<IPython.core.display.Javascript object>"
            ],
            "application/javascript": [
              "download(\"download_d801399c-b2e3-4ae0-8340-59e8fd626299\", \"checkpoint_epoch_110.pth\", 9797146)"
            ]
          },
          "metadata": {}
        },
        {
          "output_type": "stream",
          "name": "stdout",
          "text": [
            "Epoch 110/150, Train Acc: 62.26%, Val Acc: 49.37%, Test Acc: 43.59%\n",
            "Epoch 110/150, Train Loss: 1.3214, Val Loss: 2.1007, Test Loss: 2.3692\n",
            "Epoch 111/150, Train Acc: 62.44%, Val Acc: 49.45%, Test Acc: 43.94%\n",
            "Epoch 111/150, Train Loss: 1.3182, Val Loss: 2.0946, Test Loss: 2.3386\n",
            "Epoch 112/150, Train Acc: 62.72%, Val Acc: 49.94%, Test Acc: 44.07%\n",
            "Epoch 112/150, Train Loss: 1.3032, Val Loss: 2.1010, Test Loss: 2.3536\n",
            "Epoch 113/150, Train Acc: 63.01%, Val Acc: 49.79%, Test Acc: 43.85%\n",
            "Epoch 113/150, Train Loss: 1.2982, Val Loss: 2.1014, Test Loss: 2.3500\n",
            "Epoch 114/150, Train Acc: 62.96%, Val Acc: 49.61%, Test Acc: 43.44%\n",
            "Epoch 114/150, Train Loss: 1.2986, Val Loss: 2.0955, Test Loss: 2.3499\n",
            "Epoch 115/150, Train Acc: 63.08%, Val Acc: 50.18%, Test Acc: 44.10%\n",
            "Epoch 115/150, Train Loss: 1.2929, Val Loss: 2.1031, Test Loss: 2.3235\n",
            "Epoch 116/150, Train Acc: 63.26%, Val Acc: 50.16%, Test Acc: 43.81%\n",
            "Epoch 116/150, Train Loss: 1.2828, Val Loss: 2.0825, Test Loss: 2.3484\n",
            "Epoch 117/150, Train Acc: 63.37%, Val Acc: 50.19%, Test Acc: 43.60%\n",
            "Epoch 117/150, Train Loss: 1.2785, Val Loss: 2.0906, Test Loss: 2.3466\n",
            "Epoch 118/150, Train Acc: 63.32%, Val Acc: 49.95%, Test Acc: 44.58%\n",
            "Epoch 118/150, Train Loss: 1.2846, Val Loss: 2.1002, Test Loss: 2.3372\n",
            "Epoch 119/150, Train Acc: 63.69%, Val Acc: 50.31%, Test Acc: 43.23%\n",
            "Epoch 119/150, Train Loss: 1.2757, Val Loss: 2.0817, Test Loss: 2.3799\n",
            "Checkpoint saved at epoch 120: ./checkpoint_epoch_120.pth\n"
          ]
        },
        {
          "output_type": "display_data",
          "data": {
            "text/plain": [
              "<IPython.core.display.Javascript object>"
            ],
            "application/javascript": [
              "\n",
              "    async function download(id, filename, size) {\n",
              "      if (!google.colab.kernel.accessAllowed) {\n",
              "        return;\n",
              "      }\n",
              "      const div = document.createElement('div');\n",
              "      const label = document.createElement('label');\n",
              "      label.textContent = `Downloading \"${filename}\": `;\n",
              "      div.appendChild(label);\n",
              "      const progress = document.createElement('progress');\n",
              "      progress.max = size;\n",
              "      div.appendChild(progress);\n",
              "      document.body.appendChild(div);\n",
              "\n",
              "      const buffers = [];\n",
              "      let downloaded = 0;\n",
              "\n",
              "      const channel = await google.colab.kernel.comms.open(id);\n",
              "      // Send a message to notify the kernel that we're ready.\n",
              "      channel.send({})\n",
              "\n",
              "      for await (const message of channel.messages) {\n",
              "        // Send a message to notify the kernel that we're ready.\n",
              "        channel.send({})\n",
              "        if (message.buffers) {\n",
              "          for (const buffer of message.buffers) {\n",
              "            buffers.push(buffer);\n",
              "            downloaded += buffer.byteLength;\n",
              "            progress.value = downloaded;\n",
              "          }\n",
              "        }\n",
              "      }\n",
              "      const blob = new Blob(buffers, {type: 'application/binary'});\n",
              "      const a = document.createElement('a');\n",
              "      a.href = window.URL.createObjectURL(blob);\n",
              "      a.download = filename;\n",
              "      div.appendChild(a);\n",
              "      a.click();\n",
              "      div.remove();\n",
              "    }\n",
              "  "
            ]
          },
          "metadata": {}
        },
        {
          "output_type": "display_data",
          "data": {
            "text/plain": [
              "<IPython.core.display.Javascript object>"
            ],
            "application/javascript": [
              "download(\"download_bc797817-e79f-4adb-96ae-2957a8c6b793\", \"checkpoint_epoch_120.pth\", 9797146)"
            ]
          },
          "metadata": {}
        },
        {
          "output_type": "stream",
          "name": "stdout",
          "text": [
            "Epoch 120/150, Train Acc: 63.87%, Val Acc: 50.19%, Test Acc: 43.92%\n",
            "Epoch 120/150, Train Loss: 1.2603, Val Loss: 2.0657, Test Loss: 2.3309\n",
            "Epoch 121/150, Train Acc: 64.05%, Val Acc: 50.04%, Test Acc: 44.51%\n",
            "Epoch 121/150, Train Loss: 1.2574, Val Loss: 2.0926, Test Loss: 2.3323\n",
            "Epoch 122/150, Train Acc: 63.93%, Val Acc: 50.44%, Test Acc: 43.66%\n",
            "Epoch 122/150, Train Loss: 1.2592, Val Loss: 2.0921, Test Loss: 2.3507\n",
            "Epoch 123/150, Train Acc: 64.14%, Val Acc: 50.40%, Test Acc: 44.06%\n",
            "Epoch 123/150, Train Loss: 1.2555, Val Loss: 2.0828, Test Loss: 2.3550\n",
            "Epoch 124/150, Train Acc: 64.20%, Val Acc: 50.26%, Test Acc: 43.96%\n",
            "Epoch 124/150, Train Loss: 1.2502, Val Loss: 2.0943, Test Loss: 2.3490\n",
            "Epoch 125/150, Train Acc: 64.01%, Val Acc: 50.80%, Test Acc: 44.00%\n",
            "Epoch 125/150, Train Loss: 1.2467, Val Loss: 2.0980, Test Loss: 2.3785\n",
            "Epoch 126/150, Train Acc: 64.75%, Val Acc: 50.57%, Test Acc: 43.87%\n",
            "Epoch 126/150, Train Loss: 1.2374, Val Loss: 2.0877, Test Loss: 2.3619\n",
            "Epoch 127/150, Train Acc: 64.28%, Val Acc: 50.37%, Test Acc: 44.21%\n",
            "Epoch 127/150, Train Loss: 1.2391, Val Loss: 2.0873, Test Loss: 2.3538\n",
            "Epoch 128/150, Train Acc: 64.74%, Val Acc: 50.00%, Test Acc: 43.70%\n",
            "Epoch 128/150, Train Loss: 1.2325, Val Loss: 2.0880, Test Loss: 2.3724\n",
            "Epoch 129/150, Train Acc: 64.49%, Val Acc: 50.32%, Test Acc: 43.74%\n",
            "Epoch 129/150, Train Loss: 1.2372, Val Loss: 2.0962, Test Loss: 2.3583\n",
            "Checkpoint saved at epoch 130: ./checkpoint_epoch_130.pth\n"
          ]
        },
        {
          "output_type": "display_data",
          "data": {
            "text/plain": [
              "<IPython.core.display.Javascript object>"
            ],
            "application/javascript": [
              "\n",
              "    async function download(id, filename, size) {\n",
              "      if (!google.colab.kernel.accessAllowed) {\n",
              "        return;\n",
              "      }\n",
              "      const div = document.createElement('div');\n",
              "      const label = document.createElement('label');\n",
              "      label.textContent = `Downloading \"${filename}\": `;\n",
              "      div.appendChild(label);\n",
              "      const progress = document.createElement('progress');\n",
              "      progress.max = size;\n",
              "      div.appendChild(progress);\n",
              "      document.body.appendChild(div);\n",
              "\n",
              "      const buffers = [];\n",
              "      let downloaded = 0;\n",
              "\n",
              "      const channel = await google.colab.kernel.comms.open(id);\n",
              "      // Send a message to notify the kernel that we're ready.\n",
              "      channel.send({})\n",
              "\n",
              "      for await (const message of channel.messages) {\n",
              "        // Send a message to notify the kernel that we're ready.\n",
              "        channel.send({})\n",
              "        if (message.buffers) {\n",
              "          for (const buffer of message.buffers) {\n",
              "            buffers.push(buffer);\n",
              "            downloaded += buffer.byteLength;\n",
              "            progress.value = downloaded;\n",
              "          }\n",
              "        }\n",
              "      }\n",
              "      const blob = new Blob(buffers, {type: 'application/binary'});\n",
              "      const a = document.createElement('a');\n",
              "      a.href = window.URL.createObjectURL(blob);\n",
              "      a.download = filename;\n",
              "      div.appendChild(a);\n",
              "      a.click();\n",
              "      div.remove();\n",
              "    }\n",
              "  "
            ]
          },
          "metadata": {}
        },
        {
          "output_type": "display_data",
          "data": {
            "text/plain": [
              "<IPython.core.display.Javascript object>"
            ],
            "application/javascript": [
              "download(\"download_91275961-c5e4-42f2-9dbe-71d92e360306\", \"checkpoint_epoch_130.pth\", 9797146)"
            ]
          },
          "metadata": {}
        },
        {
          "output_type": "stream",
          "name": "stdout",
          "text": [
            "Epoch 130/150, Train Acc: 64.96%, Val Acc: 50.44%, Test Acc: 43.90%\n",
            "Epoch 130/150, Train Loss: 1.2206, Val Loss: 2.0794, Test Loss: 2.3443\n",
            "Epoch 131/150, Train Acc: 65.13%, Val Acc: 50.64%, Test Acc: 44.44%\n",
            "Epoch 131/150, Train Loss: 1.2206, Val Loss: 2.0963, Test Loss: 2.3418\n",
            "Epoch 132/150, Train Acc: 65.24%, Val Acc: 50.74%, Test Acc: 44.59%\n",
            "Epoch 132/150, Train Loss: 1.2177, Val Loss: 2.0845, Test Loss: 2.3494\n",
            "Epoch 133/150, Train Acc: 65.25%, Val Acc: 50.46%, Test Acc: 44.72%\n",
            "Epoch 133/150, Train Loss: 1.2027, Val Loss: 2.1149, Test Loss: 2.3437\n",
            "Epoch 134/150, Train Acc: 65.59%, Val Acc: 50.37%, Test Acc: 43.88%\n",
            "Epoch 134/150, Train Loss: 1.2002, Val Loss: 2.0899, Test Loss: 2.3687\n",
            "Epoch 135/150, Train Acc: 65.46%, Val Acc: 50.62%, Test Acc: 44.60%\n",
            "Epoch 135/150, Train Loss: 1.2009, Val Loss: 2.0924, Test Loss: 2.3451\n",
            "Epoch 136/150, Train Acc: 65.70%, Val Acc: 50.57%, Test Acc: 44.78%\n",
            "Epoch 136/150, Train Loss: 1.1885, Val Loss: 2.0905, Test Loss: 2.3250\n",
            "Epoch 137/150, Train Acc: 65.55%, Val Acc: 50.63%, Test Acc: 44.01%\n",
            "Epoch 137/150, Train Loss: 1.1910, Val Loss: 2.0881, Test Loss: 2.3426\n",
            "Epoch 138/150, Train Acc: 66.14%, Val Acc: 50.66%, Test Acc: 44.35%\n",
            "Epoch 138/150, Train Loss: 1.1808, Val Loss: 2.1091, Test Loss: 2.3689\n",
            "Epoch 139/150, Train Acc: 66.08%, Val Acc: 50.67%, Test Acc: 44.88%\n",
            "Epoch 139/150, Train Loss: 1.1770, Val Loss: 2.0941, Test Loss: 2.3363\n",
            "Checkpoint saved at epoch 140: ./checkpoint_epoch_140.pth\n"
          ]
        },
        {
          "output_type": "display_data",
          "data": {
            "text/plain": [
              "<IPython.core.display.Javascript object>"
            ],
            "application/javascript": [
              "\n",
              "    async function download(id, filename, size) {\n",
              "      if (!google.colab.kernel.accessAllowed) {\n",
              "        return;\n",
              "      }\n",
              "      const div = document.createElement('div');\n",
              "      const label = document.createElement('label');\n",
              "      label.textContent = `Downloading \"${filename}\": `;\n",
              "      div.appendChild(label);\n",
              "      const progress = document.createElement('progress');\n",
              "      progress.max = size;\n",
              "      div.appendChild(progress);\n",
              "      document.body.appendChild(div);\n",
              "\n",
              "      const buffers = [];\n",
              "      let downloaded = 0;\n",
              "\n",
              "      const channel = await google.colab.kernel.comms.open(id);\n",
              "      // Send a message to notify the kernel that we're ready.\n",
              "      channel.send({})\n",
              "\n",
              "      for await (const message of channel.messages) {\n",
              "        // Send a message to notify the kernel that we're ready.\n",
              "        channel.send({})\n",
              "        if (message.buffers) {\n",
              "          for (const buffer of message.buffers) {\n",
              "            buffers.push(buffer);\n",
              "            downloaded += buffer.byteLength;\n",
              "            progress.value = downloaded;\n",
              "          }\n",
              "        }\n",
              "      }\n",
              "      const blob = new Blob(buffers, {type: 'application/binary'});\n",
              "      const a = document.createElement('a');\n",
              "      a.href = window.URL.createObjectURL(blob);\n",
              "      a.download = filename;\n",
              "      div.appendChild(a);\n",
              "      a.click();\n",
              "      div.remove();\n",
              "    }\n",
              "  "
            ]
          },
          "metadata": {}
        },
        {
          "output_type": "display_data",
          "data": {
            "text/plain": [
              "<IPython.core.display.Javascript object>"
            ],
            "application/javascript": [
              "download(\"download_b818b6c2-bf87-43c2-9513-282eb94d7213\", \"checkpoint_epoch_140.pth\", 9797146)"
            ]
          },
          "metadata": {}
        },
        {
          "output_type": "stream",
          "name": "stdout",
          "text": [
            "Epoch 140/150, Train Acc: 65.87%, Val Acc: 50.76%, Test Acc: 44.01%\n",
            "Epoch 140/150, Train Loss: 1.1856, Val Loss: 2.0756, Test Loss: 2.3541\n",
            "Epoch 141/150, Train Acc: 66.05%, Val Acc: 50.64%, Test Acc: 44.17%\n",
            "Epoch 141/150, Train Loss: 1.1757, Val Loss: 2.0898, Test Loss: 2.3468\n",
            "Epoch 142/150, Train Acc: 66.30%, Val Acc: 50.59%, Test Acc: 44.74%\n",
            "Epoch 142/150, Train Loss: 1.1701, Val Loss: 2.0907, Test Loss: 2.3386\n",
            "Epoch 143/150, Train Acc: 66.12%, Val Acc: 50.70%, Test Acc: 44.85%\n",
            "Epoch 143/150, Train Loss: 1.1774, Val Loss: 2.0879, Test Loss: 2.3297\n",
            "Epoch 144/150, Train Acc: 66.19%, Val Acc: 50.65%, Test Acc: 44.30%\n",
            "Epoch 144/150, Train Loss: 1.1727, Val Loss: 2.0795, Test Loss: 2.3467\n",
            "Epoch 145/150, Train Acc: 66.32%, Val Acc: 50.82%, Test Acc: 44.69%\n",
            "Epoch 145/150, Train Loss: 1.1711, Val Loss: 2.0860, Test Loss: 2.3518\n",
            "Epoch 146/150, Train Acc: 66.53%, Val Acc: 50.57%, Test Acc: 44.69%\n",
            "Epoch 146/150, Train Loss: 1.1627, Val Loss: 2.0907, Test Loss: 2.3441\n",
            "Epoch 147/150, Train Acc: 67.06%, Val Acc: 50.93%, Test Acc: 44.73%\n",
            "Epoch 147/150, Train Loss: 1.1470, Val Loss: 2.0845, Test Loss: 2.3360\n",
            "Epoch 148/150, Train Acc: 66.87%, Val Acc: 50.99%, Test Acc: 44.72%\n",
            "Epoch 148/150, Train Loss: 1.1482, Val Loss: 2.0863, Test Loss: 2.3493\n",
            "Epoch 149/150, Train Acc: 66.47%, Val Acc: 50.97%, Test Acc: 44.71%\n",
            "Epoch 149/150, Train Loss: 1.1626, Val Loss: 2.0860, Test Loss: 2.3483\n",
            "Checkpoint saved at epoch 150: ./checkpoint_epoch_150.pth\n"
          ]
        },
        {
          "output_type": "display_data",
          "data": {
            "text/plain": [
              "<IPython.core.display.Javascript object>"
            ],
            "application/javascript": [
              "\n",
              "    async function download(id, filename, size) {\n",
              "      if (!google.colab.kernel.accessAllowed) {\n",
              "        return;\n",
              "      }\n",
              "      const div = document.createElement('div');\n",
              "      const label = document.createElement('label');\n",
              "      label.textContent = `Downloading \"${filename}\": `;\n",
              "      div.appendChild(label);\n",
              "      const progress = document.createElement('progress');\n",
              "      progress.max = size;\n",
              "      div.appendChild(progress);\n",
              "      document.body.appendChild(div);\n",
              "\n",
              "      const buffers = [];\n",
              "      let downloaded = 0;\n",
              "\n",
              "      const channel = await google.colab.kernel.comms.open(id);\n",
              "      // Send a message to notify the kernel that we're ready.\n",
              "      channel.send({})\n",
              "\n",
              "      for await (const message of channel.messages) {\n",
              "        // Send a message to notify the kernel that we're ready.\n",
              "        channel.send({})\n",
              "        if (message.buffers) {\n",
              "          for (const buffer of message.buffers) {\n",
              "            buffers.push(buffer);\n",
              "            downloaded += buffer.byteLength;\n",
              "            progress.value = downloaded;\n",
              "          }\n",
              "        }\n",
              "      }\n",
              "      const blob = new Blob(buffers, {type: 'application/binary'});\n",
              "      const a = document.createElement('a');\n",
              "      a.href = window.URL.createObjectURL(blob);\n",
              "      a.download = filename;\n",
              "      div.appendChild(a);\n",
              "      a.click();\n",
              "      div.remove();\n",
              "    }\n",
              "  "
            ]
          },
          "metadata": {}
        },
        {
          "output_type": "display_data",
          "data": {
            "text/plain": [
              "<IPython.core.display.Javascript object>"
            ],
            "application/javascript": [
              "download(\"download_762ac6b1-1866-4e8e-942d-3b13c8b3e6f7\", \"checkpoint_epoch_150.pth\", 9797146)"
            ]
          },
          "metadata": {}
        },
        {
          "output_type": "stream",
          "name": "stdout",
          "text": [
            "Epoch 150/150, Train Acc: 66.60%, Val Acc: 51.07%, Test Acc: 44.84%\n",
            "Epoch 150/150, Train Loss: 1.1479, Val Loss: 2.0814, Test Loss: 2.3380\n"
          ]
        },
        {
          "output_type": "display_data",
          "data": {
            "text/plain": [
              "<Figure size 600x400 with 1 Axes>"
            ],
            "image/png": "[encoded data removed]"
          },
          "metadata": {}
        },
        {
          "output_type": "display_data",
          "data": {
            "text/plain": [
              "<Figure size 600x400 with 1 Axes>"
            ],
            "image/png": "[encoded data removed]"
          },
          "metadata": {}
        },
        {
          "output_type": "display_data",
          "data": {
            "text/plain": [
              "<Figure size 600x400 with 1 Axes>"
            ],
            "image/png": "[encoded data removed]"
          },
          "metadata": {}
        },
        {
          "output_type": "display_data",
          "data": {
            "text/plain": [
              "<Figure size 600x400 with 1 Axes>"
            ],
            "image/png": "[encoded data removed]"
          },
          "metadata": {}
        },
        {
          "output_type": "display_data",
          "data": {
            "text/plain": [
              "<Figure size 600x400 with 1 Axes>"
            ],
            "image/png": "[encoded data removed]"
          },
          "metadata": {}
        },
        {
          "output_type": "display_data",
          "data": {
            "text/plain": [
              "<Figure size 600x400 with 1 Axes>"
            ],
            "image/png": "[encoded data removed]"
          },
          "metadata": {}
        },
        {
          "output_type": "display_data",
          "data": {
            "text/plain": [
              "<Figure size 640x480 with 0 Axes>"
            ]
          },
          "metadata": {}
        }
      ],
      "source": [
        "%run large_batch_training.py --optimizer AdamW --batch-size 128 --weight-decay 1e-2"
      ]
    },
    {
      "cell_type": "code",
      "execution_count": null,
      "metadata": {
        "colab": {
          "base_uri": "https://localhost:8080/"
        },
        "id": "_Y8TL9oBZL18",
        "outputId": "54fc2f89-7e7d-461b-fce6-1f0da7310a06"
      },
      "outputs": [
        {
          "name": "stdout",
          "output_type": "stream",
          "text": [
            "Files already downloaded and verified\n",
            "Files already downloaded and verified\n",
            "--- Train with LARS ---\n"
          ]
        }
      ],
      "source": [
        "%run large_batch_training.py --optimizer LARS --batch-size 128 --weight-decay 4e-4"
      ]
    },
    {
      "cell_type": "code",
      "execution_count": null,
      "metadata": {
        "colab": {
          "base_uri": "https://localhost:8080/"
        },
        "id": "K_XY2BkhZOkY",
        "outputId": "8791a547-f93d-4be4-f71d-620d1887000a"
      },
      "outputs": [
        {
          "name": "stdout",
          "output_type": "stream",
          "text": [
            "Files already downloaded and verified\n",
            "Files already downloaded and verified\n",
            "--- Train with LAMB ---\n"
          ]
        }
      ],
      "source": [
        "%run large_batch_training.py --optimizer LAMB --batch-size 128 --weight-decay 1e-2"
      ]
    }
  ],
  "metadata": {
    "accelerator": "GPU",
    "colab": {
      "gpuType": "T4",
      "provenance": []
    },
    "kernelspec": {
      "display_name": "Python 3",
      "name": "python3"
    },
    "language_info": {
      "name": "python"
    }
  },
  "nbformat": 4,
  "nbformat_minor": 0
}