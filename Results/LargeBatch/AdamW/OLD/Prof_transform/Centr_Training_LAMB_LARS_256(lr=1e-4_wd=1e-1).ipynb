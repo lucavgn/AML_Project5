{
  "cells": [
    {
      "cell_type": "code",
      "execution_count": 1,
      "metadata": {
        "colab": {
          "base_uri": "https://localhost:8080/"
        },
        "id": "LtOx0ESVnO0u",
        "outputId": "1307aaea-b767-4c5c-f6de-750ea6c1ba62"
      },
      "outputs": [
        {
          "output_type": "stream",
          "name": "stdout",
          "text": [
            "Writing large_batch_training.py\n"
          ]
        }
      ],
      "source": [
        "%%writefile large_batch_training.py\n",
        "\n",
        "import os\n",
        "import numpy as np\n",
        "import torch\n",
        "import torch.nn as nn\n",
        "import torch.optim as optim\n",
        "import torchvision\n",
        "import torchvision.transforms as transforms\n",
        "import matplotlib.pyplot as plt\n",
        "import argparse\n",
        "from torch.utils.data import random_split\n",
        "from google.colab import files\n",
        "\n",
        "def compute_mean_std(dataset):\n",
        "    \"\"\"Compute the mean and std of CIFAR-100 dataset.\n",
        "\n",
        "    Args:\n",
        "        dataset: A dataset derived from `torch.utils.data.Dataset`,\n",
        "                 such as `cifar100_training_dataset` or `cifar100_test_dataset`.\n",
        "\n",
        "    Returns:\n",
        "        A tuple containing (mean, std) for the entire dataset.\n",
        "    \"\"\"\n",
        "\n",
        "    # Extract images and labels\n",
        "    data_r = np.stack([np.array(dataset[i][0])[:, :, 0] for i in range(len(dataset))])\n",
        "    data_g = np.stack([np.array(dataset[i][0])[:, :, 1] for i in range(len(dataset))])\n",
        "    data_b = np.stack([np.array(dataset[i][0])[:, :, 2] for i in range(len(dataset))])\n",
        "\n",
        "    # Compute mean and std\n",
        "    mean = np.mean(data_r), np.mean(data_g), np.mean(data_b)\n",
        "    std = np.std(data_r), np.std(data_g), np.std(data_b)\n",
        "\n",
        "    return mean, std\n",
        "\n",
        "# Define LeNet-5 architecture\n",
        "class LeNet5(nn.Module):\n",
        "    def __init__(self):\n",
        "        super(LeNet5, self).__init__()\n",
        "        self.conv1 = nn.Conv2d(3, 64, 5)\n",
        "        self.relu1 = nn.ReLU()\n",
        "        self.pool1 = nn.MaxPool2d(2, 2)\n",
        "        self.conv2 = nn.Conv2d(64, 64, 5)\n",
        "        self.relu2 = nn.ReLU()\n",
        "        self.pool2 = nn.MaxPool2d(2, 2)\n",
        "        self.fc1 = nn.Linear(64 * 5 * 5, 384)\n",
        "        self.relu3 = nn.ReLU()\n",
        "        self.fc2 = nn.Linear(384, 192)\n",
        "        self.relu4 = nn.ReLU()\n",
        "        self.fc3 = nn.Linear(192, 100)\n",
        "\n",
        "    def forward(self, x):\n",
        "        x = self.pool1(self.relu1(self.conv1(x)))\n",
        "        x = self.pool2(self.relu2(self.conv2(x)))\n",
        "        x = x.view(-1, 64 * 5 * 5)\n",
        "        x = self.relu3(self.fc1(x))\n",
        "        x = self.relu4(self.fc2(x))\n",
        "        x = self.fc3(x)\n",
        "        return x\n",
        "\n",
        "# Device setup\n",
        "device = torch.device(\"cuda:0\" if torch.cuda.is_available() else \"cpu\")\n",
        "\n",
        "# Initialize model\n",
        "net = LeNet5().to(device)\n",
        "\n",
        "# Optimizer Subclasses\n",
        "class LARS(optim.Optimizer):\n",
        "    def __init__(self, params, lr, momentum=0.9, weight_decay=0, trust_coefficient=0.001):\n",
        "        # Initialize the optimizer with the learning rate, momentum, weight decay, and trust coefficient\n",
        "        defaults = dict(lr=lr, momentum=momentum, weight_decay=weight_decay, trust_coefficient=trust_coefficient)\n",
        "        super(LARS, self).__init__(params, defaults)\n",
        "\n",
        "    def step(self, closure=None):\n",
        "        loss = None\n",
        "        if closure is not None:\n",
        "            # If a closure is provided, evaluate it (commonly used for re-evaluating loss)\n",
        "            loss = closure()\n",
        "        for group in self.param_groups:\n",
        "            for p in group['params']:\n",
        "                if p.grad is None:\n",
        "                   # Skip parameters that have no gradient\n",
        "                    continue\n",
        "                grad = p.grad.data # Get the gradient of the parameter\n",
        "                # Retrieve or initialize the optimizer's internal state\n",
        "                state = self.state[p]\n",
        "                if len(state) == 0:\n",
        "                    state['momentum_buffer'] = torch.clone(grad).detach()\n",
        "                # Apply weight decay directly to the gradient\n",
        "                if group['weight_decay'] != 0:\n",
        "                    grad.add_(p.data, alpha=group['weight_decay'])\n",
        "                # Compute the norms of the parameter and its gradient\n",
        "                param_norm = torch.norm(p.data)\n",
        "                grad_norm = torch.norm(grad)\n",
        "                # Compute local learning rate based on the trust coefficient and norms\n",
        "                if param_norm > 0 and grad_norm > 0:\n",
        "                    local_lr = group['trust_coefficient'] * param_norm / (grad_norm + 1e-8)\n",
        "                    grad = grad.mul(local_lr) # Scale the gradient with the local learning rate\n",
        "                # Update the momentum buffer\n",
        "                momentum_buffer = state['momentum_buffer']\n",
        "                momentum_buffer.mul_(group['momentum']).add_(grad) #Momentum update\n",
        "                state['momentum_buffer'] = momentum_buffer\n",
        "                # Update the parameter\n",
        "                p.data.add_(momentum_buffer, alpha=-group['lr']) # Gradient descent step with learning rate\n",
        "        return loss\n",
        "\n",
        "class LAMB(optim.Optimizer):\n",
        "    def __init__(self, params, lr, weight_decay=0, betas=(0.9, 0.999), eps=1e-8):\n",
        "        # Initialize the optimizer with learning rate, weight decay, betas for moment updates, and epsilon for stability\n",
        "        defaults = dict(lr=lr, weight_decay=weight_decay, betas=betas, eps=eps)\n",
        "        super(LAMB, self).__init__(params, defaults)\n",
        "\n",
        "    def step(self, closure=None):\n",
        "        loss = None\n",
        "        if closure is not None:\n",
        "            # If a closure is provided, evaluate it\n",
        "            loss = closure()\n",
        "        for group in self.param_groups:\n",
        "            for p in group['params']:\n",
        "                if p.grad is None:\n",
        "                    # Skip parameters that have no gradient\n",
        "                    continue\n",
        "                grad = p.grad.data # Get the gradient of the parameter\n",
        "                # Retrieve or initialize the optimizer's internal state\n",
        "                state = self.state[p]\n",
        "                # Initialize state\n",
        "                if len(state) == 0:\n",
        "                    # Initialize the state (step counter, first moment, second moment)\n",
        "                    state['step'] = 0\n",
        "                    state['exp_avg'] = torch.zeros_like(p.data) # First moment (mean of gradients)\n",
        "                    state['exp_avg_sq'] = torch.zeros_like(p.data) # Second moment (mean of squared gradients)\n",
        "                exp_avg = state['exp_avg']\n",
        "                exp_avg_sq = state['exp_avg_sq']\n",
        "                beta1, beta2 = group['betas']  # Coefficients for moment updates\n",
        "                state['step'] += 1 # Increment step count\n",
        "                step = state['step']\n",
        "                # Decay the first and second moment running average coefficients\n",
        "                # Update first and second moments\n",
        "                exp_avg.mul_(beta1).add_(grad, alpha=1 - beta1) # Exponential moving average of gradients\n",
        "                exp_avg_sq.mul_(beta2).addcmul_(grad, grad, value=1 - beta2) # Exponential moving average of squared gradients\n",
        "                # Correct bias in the first and second moments\n",
        "                bias_correction1 = 1 - beta1 ** step\n",
        "                bias_correction2 = 1 - beta2 ** step\n",
        "                corrected_exp_avg = exp_avg / bias_correction1\n",
        "                corrected_exp_avg_sq = exp_avg_sq / bias_correction2\n",
        "                # Compute the denominator for scaling the update\n",
        "                denom = corrected_exp_avg_sq.sqrt().add_(group['eps']) # Stability epsilon\n",
        "                # Compute the step update\n",
        "                update = corrected_exp_avg / denom\n",
        "                # Apply weight decay directly to the parameters\n",
        "                if group['weight_decay'] != 0:\n",
        "                    update.add_(p.data, alpha=group['weight_decay'])\n",
        "                # Compute the trust ratio (norm of parameters vs norm of update)\n",
        "                param_norm = torch.norm(p.data)\n",
        "                update_norm = torch.norm(update)\n",
        "                trust_ratio = 1.0  # Default trust ratio\n",
        "                if param_norm > 0 and update_norm > 0:\n",
        "                    trust_ratio = param_norm / update_norm\n",
        "                # Update the parameters\n",
        "                p.data.add_(update, alpha=-group['lr'] * trust_ratio)\n",
        "        return loss\n",
        "\n",
        "class SqrtLRScheduler(torch.optim.lr_scheduler._LRScheduler):\n",
        "    def __init__(self, optimizer, base_lr, batch_size, warmup_epochs, total_epochs, reference_batch_size, verbose=False):\n",
        "        \"\"\"\n",
        "        Args:\n",
        "            optimizer: PyTorch optimizer (e.g., Adam, LAMB, LARS).\n",
        "            base_lr: Base learning rate for the reference batch size.\n",
        "            batch_size: Current batch size.\n",
        "            warmup_epochs: Number of warmup epochs.\n",
        "            total_epochs: Total number of epochs.\n",
        "            reference_batch_size: Batch size for which the base_lr is defined.\n",
        "            verbose: Whether to print LR updates.\n",
        "        \"\"\"\n",
        "        self.base_lr = base_lr\n",
        "        self.batch_size = batch_size\n",
        "        self.scaled_lr = base_lr * (batch_size / reference_batch_size) ** 0.5\n",
        "        self.warmup_epochs = warmup_epochs\n",
        "        self.total_epochs = total_epochs\n",
        "        self.verbose = verbose\n",
        "        super(SqrtLRScheduler, self).__init__(optimizer)\n",
        "\n",
        "    def get_lr(self):\n",
        "        epoch = self.last_epoch\n",
        "        if epoch < self.warmup_epochs:\n",
        "            # Linear warmup scaling\n",
        "            warmup_factor = (epoch + 1) / self.warmup_epochs\n",
        "            return [warmup_factor * self.scaled_lr for _ in self.optimizer.param_groups]\n",
        "        else:\n",
        "            # polynomially decaying learning rate of ηt = η0×(1−t/T)\n",
        "            if epoch == self.warmup_epochs:\n",
        "                print(f\"Warmup phase completed at epoch {epoch}. Switching to constant learning rate.\")\n",
        "            return [self.scaled_lr * ( 1 - ( (epoch - self.warmup_epochs) / (self.total_epochs - self.warmup_epochs))) for _ in self.optimizer.param_groups]\n",
        "\n",
        "# Command-line arguments\n",
        "parser = argparse.ArgumentParser(description='Train with Large-Batch Optimizers')\n",
        "parser.add_argument('--optimizer', type=str, default='SGDM', choices=['SGDM', 'AdamW', 'LARS', 'LAMB'],\n",
        "                    help='Choose optimizer')\n",
        "parser.add_argument('--batch-size', type=int, default=128, help='Batch size')\n",
        "parser.add_argument('--momentum', type=float, default=0.9, help='Momentum for SGDM and LARS')\n",
        "parser.add_argument('--weight-decay', type=float, default=1e-5, help='Weight decay')\n",
        "parser.add_argument('--b1', type=float, default=0.9, help='Beta1 for AdamW')\n",
        "parser.add_argument('--b2', type=float, default=0.999, help='Beta2 for AdamW')\n",
        "parser.add_argument('--trust-coefficient', type=float, default=0.001, help='Trust coefficient for LARS')\n",
        "parser.add_argument('--epochs', type=int, default=150, help='Number of epochs')\n",
        "parser.add_argument('--warmup-epochs', type=int, default=5, help='Number of epochs')\n",
        "args = parser.parse_args()\n",
        "\n",
        "\n",
        "torch.manual_seed(42) # Set the seed for reproducibility\n",
        "torch.cuda.manual_seed_all(42) # Set the seed for reproducibility on GPU\n",
        "\n",
        "# use the same mean and std to add consistency to all datasets\n",
        "data = torchvision.datasets.CIFAR100(root='./data', train=True, download=True, transform=transforms.ToTensor())\n",
        "mean, std = compute_mean_std(data)\n",
        "\n",
        "# Load and split CIFAR-100 dataset\n",
        "train_transform = transforms.Compose([\n",
        "  transforms.RandomCrop(32, padding=4),\n",
        "  transforms.RandomHorizontalFlip(),\n",
        "  transforms.ToTensor(),\n",
        "  transforms.Normalize(mean, std)\n",
        "])\n",
        "\n",
        "val_transform = transforms.Compose([\n",
        "    transforms.ToTensor(), # Convert into tensor\n",
        "    transforms.Normalize(mean, std)  # Normalization\n",
        "])\n",
        "\n",
        "test_transform = transforms.Compose([\n",
        "    transforms.ToTensor(),  # Convert to PyTorch tensor\n",
        "    transforms.Normalize(mean, std)\n",
        "])\n",
        "\n",
        "trainset = torchvision.datasets.CIFAR100(root='./data', train=True, download=True, transform=train_transform)\n",
        "valset = torchvision.datasets.CIFAR100(root='./data', train=True, download=True, transform=val_transform)\n",
        "indices = torch.randperm(len(trainset))\n",
        "val_size = int(0.2*len(trainset))\n",
        "trainset = torch.utils.data.Subset(trainset, indices[:-val_size])\n",
        "valset = torch.utils.data.Subset(valset, indices[-val_size:])\n",
        "\n",
        "trainloader = torch.utils.data.DataLoader(trainset, batch_size=args.batch_size, shuffle=True, num_workers=2)\n",
        "valloader = torch.utils.data.DataLoader(valset, batch_size=args.batch_size, shuffle=False, num_workers=2)\n",
        "\n",
        "testset = torchvision.datasets.CIFAR100(root='./data', train=False, download=True, transform=test_transform)\n",
        "testloader = torch.utils.data.DataLoader(testset, batch_size=args.batch_size, shuffle=False, num_workers=2)\n",
        "\n",
        "\n",
        "# Fixed parameter from paper [18] to calculate the square root LR scaling value\n",
        "# base_lr = 5 / (2**3 * 10**3)\n",
        "# reference_batch_size = 512\n",
        "#scaled_lr = base_lr * (args.batch_size / reference_batch_size) ** 0.5\n",
        "\n",
        "# Mapping optimizers\n",
        "if args.optimizer == 'SGDM':\n",
        "    base_lr = 1e-2\n",
        "    reference_batch_size = 64\n",
        "    scaled_lr = base_lr * (args.batch_size / reference_batch_size) ** 0.5\n",
        "    optimizer = optim.SGD(net.parameters(), lr=scaled_lr, momentum=args.momentum, weight_decay=args.weight_decay)\n",
        "elif args.optimizer == 'AdamW':\n",
        "    base_lr = 1e-4\n",
        "    reference_batch_size = 64\n",
        "    scaled_lr = base_lr * (args.batch_size / reference_batch_size) ** 0.5\n",
        "    optimizer = optim.AdamW(net.parameters(), lr=scaled_lr, betas=(args.b1, args.b2), weight_decay=args.weight_decay)\n",
        "elif args.optimizer == 'LARS':\n",
        "    base_lr = 5e-1\n",
        "    reference_batch_size = 64\n",
        "    scaled_lr = base_lr * (args.batch_size / reference_batch_size) ** 0.5\n",
        "    optimizer = LARS(net.parameters(), lr=scaled_lr, momentum=args.momentum, weight_decay=args.weight_decay, trust_coefficient=args.trust_coefficient)\n",
        "elif args.optimizer == 'LAMB':\n",
        "    base_lr = 5e-4\n",
        "    reference_batch_size = 64\n",
        "    scaled_lr = base_lr * (args.batch_size / reference_batch_size) ** 0.5\n",
        "    optimizer = LAMB(net.parameters(), lr=scaled_lr, weight_decay=args.weight_decay)\n",
        "\n",
        "criterion = nn.CrossEntropyLoss()\n",
        "\n",
        "# scheduler should be e square root LR scaling rule and linear-epoch warmup scheduling to automatically adjust learning rate\n",
        "scheduler = SqrtLRScheduler(\n",
        "    optimizer = optimizer,\n",
        "    base_lr = base_lr,\n",
        "    batch_size = args.batch_size,\n",
        "    warmup_epochs = args.warmup_epochs,\n",
        "    total_epochs = args.epochs,\n",
        "    reference_batch_size = reference_batch_size,\n",
        "    verbose = True)\n",
        "\n",
        "# Training Function\n",
        "def train_model(optimizer, scheduler, model, criterion, trainloader, valloader , testloader, device, epochs, save_checkpoint_interval=10):\n",
        "    train_losses, val_losses, test_losses = [], [], []\n",
        "    train_accuracies, val_accuracies, test_accuracies = [], [], []\n",
        "    for epoch in range(epochs):\n",
        "        model.train()\n",
        "        running_loss, correct_train, total_train = 0.0, 0, 0\n",
        "        for inputs, labels in trainloader:\n",
        "            inputs, labels = inputs.to(device), labels.to(device)\n",
        "            optimizer.zero_grad()\n",
        "            outputs = model(inputs)\n",
        "            loss = criterion(outputs, labels)\n",
        "            loss.backward()\n",
        "            optimizer.step()\n",
        "            running_loss += loss.item()\n",
        "            _, predicted = outputs.max(1)\n",
        "            total_train += labels.size(0)\n",
        "            correct_train += predicted.eq(labels).sum().item()\n",
        "        train_loss = running_loss / len(trainloader)\n",
        "        train_accuracy = 100. * correct_train / total_train\n",
        "        train_losses.append(train_loss)\n",
        "        train_accuracies.append(train_accuracy)\n",
        "\n",
        "        # Validation\n",
        "        model.eval()\n",
        "        correct_val, total_val, val_loss = 0, 0, 0.0\n",
        "        with torch.no_grad():\n",
        "            for inputs, labels in valloader:\n",
        "                inputs, labels = inputs.to(device), labels.to(device)\n",
        "                outputs = model(inputs)\n",
        "                loss = criterion(outputs, labels)\n",
        "                val_loss += loss.item()\n",
        "                _, predicted = outputs.max(1)\n",
        "                total_val += labels.size(0)\n",
        "                correct_val += predicted.eq(labels).sum().item()\n",
        "        val_loss /= len(valloader)\n",
        "        val_losses.append(val_loss)\n",
        "        val_accuracy = 100. * correct_val / total_val\n",
        "        val_accuracies.append(val_accuracy)\n",
        "\n",
        "        '''\n",
        "        # Early Stopping\n",
        "        if val_loss < best_val_loss:\n",
        "          best_val_loss = val_loss\n",
        "          epochs_no_improve = 0\n",
        "        else:\n",
        "          epochs_no_improve += 1\n",
        "\n",
        "        if epochs_no_improve == patience:\n",
        "          print(\"Early stopping!\")\n",
        "          break\n",
        "        '''\n",
        "\n",
        "        # Test\n",
        "        correct_test, total_test, test_loss = 0, 0, 0.0\n",
        "        with torch.no_grad():\n",
        "            for inputs, labels in testloader:\n",
        "                inputs, labels = inputs.to(device), labels.to(device)\n",
        "                outputs = model(inputs)\n",
        "                loss = criterion(outputs, labels)\n",
        "                test_loss += loss.item()\n",
        "                _, predicted = outputs.max(1)\n",
        "                total_test += labels.size(0)\n",
        "                correct_test += predicted.eq(labels).sum().item()\n",
        "        test_loss /= len(testloader)\n",
        "        test_losses.append(test_loss)\n",
        "        test_accuracy = 100. * correct_test / total_test\n",
        "        test_accuracies.append(test_accuracy)\n",
        "\n",
        "        scheduler.step()\n",
        "\n",
        "        # Checkpointing\n",
        "        if (epoch + 1) % save_checkpoint_interval == 0:\n",
        "            checkpoint_filename = f'checkpoint_epoch_{epoch + 1}.pth'\n",
        "            checkpoint = {\n",
        "                'epoch': epoch + 1,\n",
        "                'model_state_dict': model.state_dict(),\n",
        "                'optimizer_state_dict': optimizer.state_dict(),\n",
        "                'scheduler_state_dict': scheduler.state_dict(),\n",
        "                'loss': loss.item(),\n",
        "            }\n",
        "            checkpoint_path = os.path.join('./', checkpoint_filename)\n",
        "            torch.save(checkpoint, checkpoint_path)\n",
        "            print(f'Checkpoint saved at epoch {epoch + 1}: {checkpoint_path}')\n",
        "\n",
        "            # Download the checkpoint\n",
        "            files.download(checkpoint_filename)\n",
        "\n",
        "        print(f'Epoch {epoch+1}/{epochs}, Train Acc: {train_accuracy:.2f}%, Val Acc: {val_accuracy:.2f}%, Test Acc: {test_accuracy:.2f}%')\n",
        "        print(f'Epoch {epoch+1}/{epochs}, Train Loss: {train_loss:.4f}, Val Loss: {val_loss:.4f}, Test Loss: {test_loss:.4f}')\n",
        "\n",
        "    return train_losses, val_losses, test_losses, train_accuracies, val_accuracies, test_accuracies\n",
        "\n",
        "# Train the model\n",
        "print(f\"--- Train with {args.optimizer} ---\")\n",
        "train_loss, val_loss, test_loss, train_acc, val_acc, test_acc = train_model(optimizer, scheduler, net, criterion, trainloader, valloader, testloader, device, args.epochs)\n",
        "\n",
        "# Save model\n",
        "torch.save(net.state_dict(), f'net_{args.optimizer}.pth')\n",
        "\n",
        "# Plot results\n",
        "# Plot Training Loss\n",
        "plt.figure(figsize=(6, 4))\n",
        "plt.plot(train_loss, label='Train Loss')\n",
        "plt.title('Training Loss')\n",
        "plt.xlabel('Epoch')\n",
        "plt.ylabel('Loss')\n",
        "plt.legend()\n",
        "plt.tight_layout()\n",
        "plt.savefig('train_loss.png')\n",
        "plt.show()\n",
        "\n",
        "# Plot Training Accuracy\n",
        "plt.figure(figsize=(6, 4))\n",
        "plt.plot(train_acc, label='Train Accuracy')\n",
        "plt.title('Training Accuracy')\n",
        "plt.xlabel('Epoch')\n",
        "plt.ylabel('Accuracy (%)')\n",
        "plt.legend()\n",
        "plt.tight_layout()\n",
        "plt.savefig('train_accuracy.png')\n",
        "plt.show()\n",
        "\n",
        "# Plot Validation Loss\n",
        "plt.figure(figsize=(6, 4))\n",
        "plt.plot(val_loss, label='Validation Loss')\n",
        "plt.title('Validation Loss')\n",
        "plt.xlabel('Epoch')\n",
        "plt.ylabel('Loss')\n",
        "plt.legend()\n",
        "plt.tight_layout()\n",
        "plt.savefig('val_loss.png')\n",
        "plt.show()\n",
        "\n",
        "# Plot Validation Accuracy\n",
        "plt.figure(figsize=(6, 4))\n",
        "plt.plot(val_acc, label='Validation Accuracy')\n",
        "plt.title('Validation Accuracy')\n",
        "plt.xlabel('Epoch')\n",
        "plt.ylabel('Accuracy (%)')\n",
        "plt.legend()\n",
        "plt.tight_layout()\n",
        "plt.savefig('val_accuracy.png')\n",
        "plt.show()\n",
        "\n",
        "# Plot Test Loss\n",
        "plt.figure(figsize=(6, 4))\n",
        "plt.plot(test_loss, label='Test Loss')\n",
        "plt.title('Test Loss')\n",
        "plt.xlabel('Epoch')\n",
        "plt.ylabel('Loss')\n",
        "plt.legend()\n",
        "plt.tight_layout()\n",
        "plt.savefig('test_loss.png')\n",
        "plt.show()\n",
        "\n",
        "# Plot Test Accuracy\n",
        "plt.figure(figsize=(6, 4))\n",
        "plt.plot(test_acc, label='Test Accuracy')\n",
        "plt.title('Test Accuracy')\n",
        "plt.xlabel('Epoch')\n",
        "plt.ylabel('Accuracy (%)')\n",
        "plt.legend()\n",
        "plt.tight_layout()\n",
        "plt.savefig('test_accuracy.png')\n",
        "plt.show()\n"
      ]
    },
    {
      "cell_type": "code",
      "execution_count": null,
      "metadata": {
        "colab": {
          "base_uri": "https://localhost:8080/",
          "height": 460
        },
        "id": "_hEcpkQqYJmP",
        "outputId": "054cca2f-8701-4830-ae1c-4f1fc306c8c1"
      },
      "outputs": [
        {
          "name": "stdout",
          "output_type": "stream",
          "text": [
            "Files already downloaded and verified\n",
            "Files already downloaded and verified\n",
            "Files already downloaded and verified\n",
            "Files already downloaded and verified\n",
            "--- Train with SGDM ---\n"
          ]
        },
        {
          "ename": "KeyboardInterrupt",
          "evalue": "",
          "output_type": "error",
          "traceback": [
            "\u001b[0;31m---------------------------------------------------------------------------\u001b[0m",
            "\u001b[0;31mKeyboardInterrupt\u001b[0m                         Traceback (most recent call last)",
            "\u001b[0;32m/content/large_batch_training.py\u001b[0m in \u001b[0;36m<module>\u001b[0;34m\u001b[0m\n\u001b[1;32m    385\u001b[0m \u001b[0;31m# Train the model\u001b[0m\u001b[0;34m\u001b[0m\u001b[0;34m\u001b[0m\u001b[0m\n\u001b[1;32m    386\u001b[0m \u001b[0mprint\u001b[0m\u001b[0;34m(\u001b[0m\u001b[0;34mf\"--- Train with {args.optimizer} ---\"\u001b[0m\u001b[0;34m)\u001b[0m\u001b[0;34m\u001b[0m\u001b[0;34m\u001b[0m\u001b[0m\n\u001b[0;32m--> 387\u001b[0;31m \u001b[0mtrain_loss\u001b[0m\u001b[0;34m,\u001b[0m \u001b[0mval_loss\u001b[0m\u001b[0;34m,\u001b[0m \u001b[0mtest_loss\u001b[0m\u001b[0;34m,\u001b[0m \u001b[0mtrain_acc\u001b[0m\u001b[0;34m,\u001b[0m \u001b[0mval_acc\u001b[0m\u001b[0;34m,\u001b[0m \u001b[0mtest_acc\u001b[0m \u001b[0;34m=\u001b[0m \u001b[0mtrain_model\u001b[0m\u001b[0;34m(\u001b[0m\u001b[0moptimizer\u001b[0m\u001b[0;34m,\u001b[0m \u001b[0mscheduler\u001b[0m\u001b[0;34m,\u001b[0m \u001b[0mnet\u001b[0m\u001b[0;34m,\u001b[0m \u001b[0mcriterion\u001b[0m\u001b[0;34m,\u001b[0m \u001b[0mtrainloader\u001b[0m\u001b[0;34m,\u001b[0m \u001b[0mvalloader\u001b[0m\u001b[0;34m,\u001b[0m \u001b[0mtestloader\u001b[0m\u001b[0;34m,\u001b[0m \u001b[0mdevice\u001b[0m\u001b[0;34m,\u001b[0m \u001b[0margs\u001b[0m\u001b[0;34m.\u001b[0m\u001b[0mepochs\u001b[0m\u001b[0;34m)\u001b[0m\u001b[0;34m\u001b[0m\u001b[0;34m\u001b[0m\u001b[0m\n\u001b[0m\u001b[1;32m    388\u001b[0m \u001b[0;34m\u001b[0m\u001b[0m\n\u001b[1;32m    389\u001b[0m \u001b[0;31m# Save model\u001b[0m\u001b[0;34m\u001b[0m\u001b[0;34m\u001b[0m\u001b[0m\n",
            "\u001b[0;32m/content/large_batch_training.py\u001b[0m in \u001b[0;36mtrain_model\u001b[0;34m(optimizer, scheduler, model, criterion, trainloader, valloader, testloader, device, epochs, save_checkpoint_interval)\u001b[0m\n\u001b[1;32m    297\u001b[0m         \u001b[0mmodel\u001b[0m\u001b[0;34m.\u001b[0m\u001b[0mtrain\u001b[0m\u001b[0;34m(\u001b[0m\u001b[0;34m)\u001b[0m\u001b[0;34m\u001b[0m\u001b[0;34m\u001b[0m\u001b[0m\n\u001b[1;32m    298\u001b[0m         \u001b[0mrunning_loss\u001b[0m\u001b[0;34m,\u001b[0m \u001b[0mcorrect_train\u001b[0m\u001b[0;34m,\u001b[0m \u001b[0mtotal_train\u001b[0m \u001b[0;34m=\u001b[0m \u001b[0;36m0.0\u001b[0m\u001b[0;34m,\u001b[0m \u001b[0;36m0\u001b[0m\u001b[0;34m,\u001b[0m \u001b[0;36m0\u001b[0m\u001b[0;34m\u001b[0m\u001b[0;34m\u001b[0m\u001b[0m\n\u001b[0;32m--> 299\u001b[0;31m         \u001b[0;32mfor\u001b[0m \u001b[0minputs\u001b[0m\u001b[0;34m,\u001b[0m \u001b[0mlabels\u001b[0m \u001b[0;32min\u001b[0m \u001b[0mtrainloader\u001b[0m\u001b[0;34m:\u001b[0m\u001b[0;34m\u001b[0m\u001b[0;34m\u001b[0m\u001b[0m\n\u001b[0m\u001b[1;32m    300\u001b[0m             \u001b[0minputs\u001b[0m\u001b[0;34m,\u001b[0m \u001b[0mlabels\u001b[0m \u001b[0;34m=\u001b[0m \u001b[0minputs\u001b[0m\u001b[0;34m.\u001b[0m\u001b[0mto\u001b[0m\u001b[0;34m(\u001b[0m\u001b[0mdevice\u001b[0m\u001b[0;34m)\u001b[0m\u001b[0;34m,\u001b[0m \u001b[0mlabels\u001b[0m\u001b[0;34m.\u001b[0m\u001b[0mto\u001b[0m\u001b[0;34m(\u001b[0m\u001b[0mdevice\u001b[0m\u001b[0;34m)\u001b[0m\u001b[0;34m\u001b[0m\u001b[0;34m\u001b[0m\u001b[0m\n\u001b[1;32m    301\u001b[0m             \u001b[0moptimizer\u001b[0m\u001b[0;34m.\u001b[0m\u001b[0mzero_grad\u001b[0m\u001b[0;34m(\u001b[0m\u001b[0;34m)\u001b[0m\u001b[0;34m\u001b[0m\u001b[0;34m\u001b[0m\u001b[0m\n",
            "\u001b[0;32m/usr/local/lib/python3.10/dist-packages/torch/utils/data/dataloader.py\u001b[0m in \u001b[0;36m__next__\u001b[0;34m(self)\u001b[0m\n\u001b[1;32m    699\u001b[0m                 \u001b[0;31m# TODO(https://github.com/pytorch/pytorch/issues/76750)\u001b[0m\u001b[0;34m\u001b[0m\u001b[0;34m\u001b[0m\u001b[0m\n\u001b[1;32m    700\u001b[0m                 \u001b[0mself\u001b[0m\u001b[0;34m.\u001b[0m\u001b[0m_reset\u001b[0m\u001b[0;34m(\u001b[0m\u001b[0;34m)\u001b[0m  \u001b[0;31m# type: ignore[call-arg]\u001b[0m\u001b[0;34m\u001b[0m\u001b[0;34m\u001b[0m\u001b[0m\n\u001b[0;32m--> 701\u001b[0;31m             \u001b[0mdata\u001b[0m \u001b[0;34m=\u001b[0m \u001b[0mself\u001b[0m\u001b[0;34m.\u001b[0m\u001b[0m_next_data\u001b[0m\u001b[0;34m(\u001b[0m\u001b[0;34m)\u001b[0m\u001b[0;34m\u001b[0m\u001b[0;34m\u001b[0m\u001b[0m\n\u001b[0m\u001b[1;32m    702\u001b[0m             \u001b[0mself\u001b[0m\u001b[0;34m.\u001b[0m\u001b[0m_num_yielded\u001b[0m \u001b[0;34m+=\u001b[0m \u001b[0;36m1\u001b[0m\u001b[0;34m\u001b[0m\u001b[0;34m\u001b[0m\u001b[0m\n\u001b[1;32m    703\u001b[0m             if (\n",
            "\u001b[0;32m/usr/local/lib/python3.10/dist-packages/torch/utils/data/dataloader.py\u001b[0m in \u001b[0;36m_next_data\u001b[0;34m(self)\u001b[0m\n\u001b[1;32m   1446\u001b[0m \u001b[0;34m\u001b[0m\u001b[0m\n\u001b[1;32m   1447\u001b[0m             \u001b[0;32massert\u001b[0m \u001b[0;32mnot\u001b[0m \u001b[0mself\u001b[0m\u001b[0;34m.\u001b[0m\u001b[0m_shutdown\u001b[0m \u001b[0;32mand\u001b[0m \u001b[0mself\u001b[0m\u001b[0;34m.\u001b[0m\u001b[0m_tasks_outstanding\u001b[0m \u001b[0;34m>\u001b[0m \u001b[0;36m0\u001b[0m\u001b[0;34m\u001b[0m\u001b[0;34m\u001b[0m\u001b[0m\n\u001b[0;32m-> 1448\u001b[0;31m             \u001b[0midx\u001b[0m\u001b[0;34m,\u001b[0m \u001b[0mdata\u001b[0m \u001b[0;34m=\u001b[0m \u001b[0mself\u001b[0m\u001b[0;34m.\u001b[0m\u001b[0m_get_data\u001b[0m\u001b[0;34m(\u001b[0m\u001b[0;34m)\u001b[0m\u001b[0;34m\u001b[0m\u001b[0;34m\u001b[0m\u001b[0m\n\u001b[0m\u001b[1;32m   1449\u001b[0m             \u001b[0mself\u001b[0m\u001b[0;34m.\u001b[0m\u001b[0m_tasks_outstanding\u001b[0m \u001b[0;34m-=\u001b[0m \u001b[0;36m1\u001b[0m\u001b[0;34m\u001b[0m\u001b[0;34m\u001b[0m\u001b[0m\n\u001b[1;32m   1450\u001b[0m             \u001b[0;32mif\u001b[0m \u001b[0mself\u001b[0m\u001b[0;34m.\u001b[0m\u001b[0m_dataset_kind\u001b[0m \u001b[0;34m==\u001b[0m \u001b[0m_DatasetKind\u001b[0m\u001b[0;34m.\u001b[0m\u001b[0mIterable\u001b[0m\u001b[0;34m:\u001b[0m\u001b[0;34m\u001b[0m\u001b[0;34m\u001b[0m\u001b[0m\n",
            "\u001b[0;32m/usr/local/lib/python3.10/dist-packages/torch/utils/data/dataloader.py\u001b[0m in \u001b[0;36m_get_data\u001b[0;34m(self)\u001b[0m\n\u001b[1;32m   1410\u001b[0m         \u001b[0;32melse\u001b[0m\u001b[0;34m:\u001b[0m\u001b[0;34m\u001b[0m\u001b[0;34m\u001b[0m\u001b[0m\n\u001b[1;32m   1411\u001b[0m             \u001b[0;32mwhile\u001b[0m \u001b[0;32mTrue\u001b[0m\u001b[0;34m:\u001b[0m\u001b[0;34m\u001b[0m\u001b[0;34m\u001b[0m\u001b[0m\n\u001b[0;32m-> 1412\u001b[0;31m                 \u001b[0msuccess\u001b[0m\u001b[0;34m,\u001b[0m \u001b[0mdata\u001b[0m \u001b[0;34m=\u001b[0m \u001b[0mself\u001b[0m\u001b[0;34m.\u001b[0m\u001b[0m_try_get_data\u001b[0m\u001b[0;34m(\u001b[0m\u001b[0;34m)\u001b[0m\u001b[0;34m\u001b[0m\u001b[0;34m\u001b[0m\u001b[0m\n\u001b[0m\u001b[1;32m   1413\u001b[0m                 \u001b[0;32mif\u001b[0m \u001b[0msuccess\u001b[0m\u001b[0;34m:\u001b[0m\u001b[0;34m\u001b[0m\u001b[0;34m\u001b[0m\u001b[0m\n\u001b[1;32m   1414\u001b[0m                     \u001b[0;32mreturn\u001b[0m \u001b[0mdata\u001b[0m\u001b[0;34m\u001b[0m\u001b[0;34m\u001b[0m\u001b[0m\n",
            "\u001b[0;32m/usr/local/lib/python3.10/dist-packages/torch/utils/data/dataloader.py\u001b[0m in \u001b[0;36m_try_get_data\u001b[0;34m(self, timeout)\u001b[0m\n\u001b[1;32m   1241\u001b[0m         \u001b[0;31m#   (bool: whether successfully get data, any: data if successful else None)\u001b[0m\u001b[0;34m\u001b[0m\u001b[0;34m\u001b[0m\u001b[0m\n\u001b[1;32m   1242\u001b[0m         \u001b[0;32mtry\u001b[0m\u001b[0;34m:\u001b[0m\u001b[0;34m\u001b[0m\u001b[0;34m\u001b[0m\u001b[0m\n\u001b[0;32m-> 1243\u001b[0;31m             \u001b[0mdata\u001b[0m \u001b[0;34m=\u001b[0m \u001b[0mself\u001b[0m\u001b[0;34m.\u001b[0m\u001b[0m_data_queue\u001b[0m\u001b[0;34m.\u001b[0m\u001b[0mget\u001b[0m\u001b[0;34m(\u001b[0m\u001b[0mtimeout\u001b[0m\u001b[0;34m=\u001b[0m\u001b[0mtimeout\u001b[0m\u001b[0;34m)\u001b[0m\u001b[0;34m\u001b[0m\u001b[0;34m\u001b[0m\u001b[0m\n\u001b[0m\u001b[1;32m   1244\u001b[0m             \u001b[0;32mreturn\u001b[0m \u001b[0;34m(\u001b[0m\u001b[0;32mTrue\u001b[0m\u001b[0;34m,\u001b[0m \u001b[0mdata\u001b[0m\u001b[0;34m)\u001b[0m\u001b[0;34m\u001b[0m\u001b[0;34m\u001b[0m\u001b[0m\n\u001b[1;32m   1245\u001b[0m         \u001b[0;32mexcept\u001b[0m \u001b[0mException\u001b[0m \u001b[0;32mas\u001b[0m \u001b[0me\u001b[0m\u001b[0;34m:\u001b[0m\u001b[0;34m\u001b[0m\u001b[0;34m\u001b[0m\u001b[0m\n",
            "\u001b[0;32m/usr/lib/python3.10/multiprocessing/queues.py\u001b[0m in \u001b[0;36mget\u001b[0;34m(self, block, timeout)\u001b[0m\n\u001b[1;32m    111\u001b[0m                 \u001b[0;32mif\u001b[0m \u001b[0mblock\u001b[0m\u001b[0;34m:\u001b[0m\u001b[0;34m\u001b[0m\u001b[0;34m\u001b[0m\u001b[0m\n\u001b[1;32m    112\u001b[0m                     \u001b[0mtimeout\u001b[0m \u001b[0;34m=\u001b[0m \u001b[0mdeadline\u001b[0m \u001b[0;34m-\u001b[0m \u001b[0mtime\u001b[0m\u001b[0;34m.\u001b[0m\u001b[0mmonotonic\u001b[0m\u001b[0;34m(\u001b[0m\u001b[0;34m)\u001b[0m\u001b[0;34m\u001b[0m\u001b[0;34m\u001b[0m\u001b[0m\n\u001b[0;32m--> 113\u001b[0;31m                     \u001b[0;32mif\u001b[0m \u001b[0;32mnot\u001b[0m \u001b[0mself\u001b[0m\u001b[0;34m.\u001b[0m\u001b[0m_poll\u001b[0m\u001b[0;34m(\u001b[0m\u001b[0mtimeout\u001b[0m\u001b[0;34m)\u001b[0m\u001b[0;34m:\u001b[0m\u001b[0;34m\u001b[0m\u001b[0;34m\u001b[0m\u001b[0m\n\u001b[0m\u001b[1;32m    114\u001b[0m                         \u001b[0;32mraise\u001b[0m \u001b[0mEmpty\u001b[0m\u001b[0;34m\u001b[0m\u001b[0;34m\u001b[0m\u001b[0m\n\u001b[1;32m    115\u001b[0m                 \u001b[0;32melif\u001b[0m \u001b[0;32mnot\u001b[0m \u001b[0mself\u001b[0m\u001b[0;34m.\u001b[0m\u001b[0m_poll\u001b[0m\u001b[0;34m(\u001b[0m\u001b[0;34m)\u001b[0m\u001b[0;34m:\u001b[0m\u001b[0;34m\u001b[0m\u001b[0;34m\u001b[0m\u001b[0m\n",
            "\u001b[0;32m/usr/lib/python3.10/multiprocessing/connection.py\u001b[0m in \u001b[0;36mpoll\u001b[0;34m(self, timeout)\u001b[0m\n\u001b[1;32m    255\u001b[0m         \u001b[0mself\u001b[0m\u001b[0;34m.\u001b[0m\u001b[0m_check_closed\u001b[0m\u001b[0;34m(\u001b[0m\u001b[0;34m)\u001b[0m\u001b[0;34m\u001b[0m\u001b[0;34m\u001b[0m\u001b[0m\n\u001b[1;32m    256\u001b[0m         \u001b[0mself\u001b[0m\u001b[0;34m.\u001b[0m\u001b[0m_check_readable\u001b[0m\u001b[0;34m(\u001b[0m\u001b[0;34m)\u001b[0m\u001b[0;34m\u001b[0m\u001b[0;34m\u001b[0m\u001b[0m\n\u001b[0;32m--> 257\u001b[0;31m         \u001b[0;32mreturn\u001b[0m \u001b[0mself\u001b[0m\u001b[0;34m.\u001b[0m\u001b[0m_poll\u001b[0m\u001b[0;34m(\u001b[0m\u001b[0mtimeout\u001b[0m\u001b[0;34m)\u001b[0m\u001b[0;34m\u001b[0m\u001b[0;34m\u001b[0m\u001b[0m\n\u001b[0m\u001b[1;32m    258\u001b[0m \u001b[0;34m\u001b[0m\u001b[0m\n\u001b[1;32m    259\u001b[0m     \u001b[0;32mdef\u001b[0m \u001b[0m__enter__\u001b[0m\u001b[0;34m(\u001b[0m\u001b[0mself\u001b[0m\u001b[0;34m)\u001b[0m\u001b[0;34m:\u001b[0m\u001b[0;34m\u001b[0m\u001b[0;34m\u001b[0m\u001b[0m\n",
            "\u001b[0;32m/usr/lib/python3.10/multiprocessing/connection.py\u001b[0m in \u001b[0;36m_poll\u001b[0;34m(self, timeout)\u001b[0m\n\u001b[1;32m    422\u001b[0m \u001b[0;34m\u001b[0m\u001b[0m\n\u001b[1;32m    423\u001b[0m     \u001b[0;32mdef\u001b[0m \u001b[0m_poll\u001b[0m\u001b[0;34m(\u001b[0m\u001b[0mself\u001b[0m\u001b[0;34m,\u001b[0m \u001b[0mtimeout\u001b[0m\u001b[0;34m)\u001b[0m\u001b[0;34m:\u001b[0m\u001b[0;34m\u001b[0m\u001b[0;34m\u001b[0m\u001b[0m\n\u001b[0;32m--> 424\u001b[0;31m         \u001b[0mr\u001b[0m \u001b[0;34m=\u001b[0m \u001b[0mwait\u001b[0m\u001b[0;34m(\u001b[0m\u001b[0;34m[\u001b[0m\u001b[0mself\u001b[0m\u001b[0;34m]\u001b[0m\u001b[0;34m,\u001b[0m \u001b[0mtimeout\u001b[0m\u001b[0;34m)\u001b[0m\u001b[0;34m\u001b[0m\u001b[0;34m\u001b[0m\u001b[0m\n\u001b[0m\u001b[1;32m    425\u001b[0m         \u001b[0;32mreturn\u001b[0m \u001b[0mbool\u001b[0m\u001b[0;34m(\u001b[0m\u001b[0mr\u001b[0m\u001b[0;34m)\u001b[0m\u001b[0;34m\u001b[0m\u001b[0;34m\u001b[0m\u001b[0m\n\u001b[1;32m    426\u001b[0m \u001b[0;34m\u001b[0m\u001b[0m\n",
            "\u001b[0;32m/usr/lib/python3.10/multiprocessing/connection.py\u001b[0m in \u001b[0;36mwait\u001b[0;34m(object_list, timeout)\u001b[0m\n\u001b[1;32m    929\u001b[0m \u001b[0;34m\u001b[0m\u001b[0m\n\u001b[1;32m    930\u001b[0m             \u001b[0;32mwhile\u001b[0m \u001b[0;32mTrue\u001b[0m\u001b[0;34m:\u001b[0m\u001b[0;34m\u001b[0m\u001b[0;34m\u001b[0m\u001b[0m\n\u001b[0;32m--> 931\u001b[0;31m                 \u001b[0mready\u001b[0m \u001b[0;34m=\u001b[0m \u001b[0mselector\u001b[0m\u001b[0;34m.\u001b[0m\u001b[0mselect\u001b[0m\u001b[0;34m(\u001b[0m\u001b[0mtimeout\u001b[0m\u001b[0;34m)\u001b[0m\u001b[0;34m\u001b[0m\u001b[0;34m\u001b[0m\u001b[0m\n\u001b[0m\u001b[1;32m    932\u001b[0m                 \u001b[0;32mif\u001b[0m \u001b[0mready\u001b[0m\u001b[0;34m:\u001b[0m\u001b[0;34m\u001b[0m\u001b[0;34m\u001b[0m\u001b[0m\n\u001b[1;32m    933\u001b[0m                     \u001b[0;32mreturn\u001b[0m \u001b[0;34m[\u001b[0m\u001b[0mkey\u001b[0m\u001b[0;34m.\u001b[0m\u001b[0mfileobj\u001b[0m \u001b[0;32mfor\u001b[0m \u001b[0;34m(\u001b[0m\u001b[0mkey\u001b[0m\u001b[0;34m,\u001b[0m \u001b[0mevents\u001b[0m\u001b[0;34m)\u001b[0m \u001b[0;32min\u001b[0m \u001b[0mready\u001b[0m\u001b[0;34m]\u001b[0m\u001b[0;34m\u001b[0m\u001b[0;34m\u001b[0m\u001b[0m\n",
            "\u001b[0;32m/usr/lib/python3.10/selectors.py\u001b[0m in \u001b[0;36mselect\u001b[0;34m(self, timeout)\u001b[0m\n\u001b[1;32m    414\u001b[0m         \u001b[0mready\u001b[0m \u001b[0;34m=\u001b[0m \u001b[0;34m[\u001b[0m\u001b[0;34m]\u001b[0m\u001b[0;34m\u001b[0m\u001b[0;34m\u001b[0m\u001b[0m\n\u001b[1;32m    415\u001b[0m         \u001b[0;32mtry\u001b[0m\u001b[0;34m:\u001b[0m\u001b[0;34m\u001b[0m\u001b[0;34m\u001b[0m\u001b[0m\n\u001b[0;32m--> 416\u001b[0;31m             \u001b[0mfd_event_list\u001b[0m \u001b[0;34m=\u001b[0m \u001b[0mself\u001b[0m\u001b[0;34m.\u001b[0m\u001b[0m_selector\u001b[0m\u001b[0;34m.\u001b[0m\u001b[0mpoll\u001b[0m\u001b[0;34m(\u001b[0m\u001b[0mtimeout\u001b[0m\u001b[0;34m)\u001b[0m\u001b[0;34m\u001b[0m\u001b[0;34m\u001b[0m\u001b[0m\n\u001b[0m\u001b[1;32m    417\u001b[0m         \u001b[0;32mexcept\u001b[0m \u001b[0mInterruptedError\u001b[0m\u001b[0;34m:\u001b[0m\u001b[0;34m\u001b[0m\u001b[0;34m\u001b[0m\u001b[0m\n\u001b[1;32m    418\u001b[0m             \u001b[0;32mreturn\u001b[0m \u001b[0mready\u001b[0m\u001b[0;34m\u001b[0m\u001b[0;34m\u001b[0m\u001b[0m\n",
            "\u001b[0;31mKeyboardInterrupt\u001b[0m: "
          ]
        }
      ],
      "source": [
        "%run large_batch_training.py --optimizer SGDM --batch-size 128 --weight-decay 4e-4"
      ]
    },
    {
      "cell_type": "markdown",
      "metadata": {
        "id": "_2t__56QmDKL"
      },
      "source": []
    },
    {
      "cell_type": "code",
      "execution_count": 2,
      "metadata": {
        "colab": {
          "base_uri": "https://localhost:8080/",
          "height": 1000
        },
        "id": "FqIzBQKfZFgB",
        "outputId": "40924783-7d17-488e-f7f2-b1a7ea63e9c2"
      },
      "outputs": [
        {
          "output_type": "stream",
          "name": "stdout",
          "text": [
            "Downloading https://www.cs.toronto.edu/~kriz/cifar-100-python.tar.gz to ./data/cifar-100-python.tar.gz\n"
          ]
        },
        {
          "output_type": "stream",
          "name": "stderr",
          "text": [
            "100%|██████████| 169M/169M [00:04<00:00, 40.5MB/s]\n"
          ]
        },
        {
          "output_type": "stream",
          "name": "stdout",
          "text": [
            "Extracting ./data/cifar-100-python.tar.gz to ./data\n",
            "Files already downloaded and verified\n",
            "Files already downloaded and verified\n",
            "Files already downloaded and verified\n",
            "--- Train with AdamW ---\n",
            "Epoch 1/150, Train Acc: 2.48%, Val Acc: 5.76%, Test Acc: 5.29%\n",
            "Epoch 1/150, Train Loss: 4.5226, Val Loss: 4.2995, Test Loss: 4.3118\n",
            "Epoch 2/150, Train Acc: 7.10%, Val Acc: 10.21%, Test Acc: 9.83%\n",
            "Epoch 2/150, Train Loss: 4.1340, Val Loss: 3.9693, Test Loss: 3.9771\n",
            "Epoch 3/150, Train Acc: 10.24%, Val Acc: 13.69%, Test Acc: 13.47%\n",
            "Epoch 3/150, Train Loss: 3.9336, Val Loss: 3.7751, Test Loss: 3.7830\n",
            "Epoch 4/150, Train Acc: 12.96%, Val Acc: 16.01%, Test Acc: 15.93%\n",
            "Epoch 4/150, Train Loss: 3.7642, Val Loss: 3.6039, Test Loss: 3.6124\n",
            "Warmup phase completed at epoch 5. Switching to constant learning rate.\n",
            "Epoch 5/150, Train Acc: 15.41%, Val Acc: 18.77%, Test Acc: 18.69%\n",
            "Epoch 5/150, Train Loss: 3.6019, Val Loss: 3.4589, Test Loss: 3.4682\n",
            "Epoch 6/150, Train Acc: 17.59%, Val Acc: 19.78%, Test Acc: 19.37%\n",
            "Epoch 6/150, Train Loss: 3.4655, Val Loss: 3.3686, Test Loss: 3.3796\n",
            "Epoch 7/150, Train Acc: 19.80%, Val Acc: 22.67%, Test Acc: 22.61%\n",
            "Epoch 7/150, Train Loss: 3.3397, Val Loss: 3.2166, Test Loss: 3.2308\n",
            "Epoch 8/150, Train Acc: 21.41%, Val Acc: 23.88%, Test Acc: 24.17%\n",
            "Epoch 8/150, Train Loss: 3.2510, Val Loss: 3.1430, Test Loss: 3.1524\n",
            "Epoch 9/150, Train Acc: 23.09%, Val Acc: 24.96%, Test Acc: 25.08%\n",
            "Epoch 9/150, Train Loss: 3.1601, Val Loss: 3.1003, Test Loss: 3.0965\n",
            "Checkpoint saved at epoch 10: ./checkpoint_epoch_10.pth\n"
          ]
        },
        {
          "output_type": "display_data",
          "data": {
            "text/plain": [
              "<IPython.core.display.Javascript object>"
            ],
            "application/javascript": [
              "\n",
              "    async function download(id, filename, size) {\n",
              "      if (!google.colab.kernel.accessAllowed) {\n",
              "        return;\n",
              "      }\n",
              "      const div = document.createElement('div');\n",
              "      const label = document.createElement('label');\n",
              "      label.textContent = `Downloading \"${filename}\": `;\n",
              "      div.appendChild(label);\n",
              "      const progress = document.createElement('progress');\n",
              "      progress.max = size;\n",
              "      div.appendChild(progress);\n",
              "      document.body.appendChild(div);\n",
              "\n",
              "      const buffers = [];\n",
              "      let downloaded = 0;\n",
              "\n",
              "      const channel = await google.colab.kernel.comms.open(id);\n",
              "      // Send a message to notify the kernel that we're ready.\n",
              "      channel.send({})\n",
              "\n",
              "      for await (const message of channel.messages) {\n",
              "        // Send a message to notify the kernel that we're ready.\n",
              "        channel.send({})\n",
              "        if (message.buffers) {\n",
              "          for (const buffer of message.buffers) {\n",
              "            buffers.push(buffer);\n",
              "            downloaded += buffer.byteLength;\n",
              "            progress.value = downloaded;\n",
              "          }\n",
              "        }\n",
              "      }\n",
              "      const blob = new Blob(buffers, {type: 'application/binary'});\n",
              "      const a = document.createElement('a');\n",
              "      a.href = window.URL.createObjectURL(blob);\n",
              "      a.download = filename;\n",
              "      div.appendChild(a);\n",
              "      a.click();\n",
              "      div.remove();\n",
              "    }\n",
              "  "
            ]
          },
          "metadata": {}
        },
        {
          "output_type": "display_data",
          "data": {
            "text/plain": [
              "<IPython.core.display.Javascript object>"
            ],
            "application/javascript": [
              "download(\"download_57af1e3f-28c2-450c-947b-a482b8d31de3\", \"checkpoint_epoch_10.pth\", 9797102)"
            ]
          },
          "metadata": {}
        },
        {
          "output_type": "stream",
          "name": "stdout",
          "text": [
            "Epoch 10/150, Train Acc: 24.33%, Val Acc: 27.24%, Test Acc: 26.65%\n",
            "Epoch 10/150, Train Loss: 3.0843, Val Loss: 2.9979, Test Loss: 3.0018\n",
            "Epoch 11/150, Train Acc: 25.64%, Val Acc: 27.72%, Test Acc: 27.87%\n",
            "Epoch 11/150, Train Loss: 3.0272, Val Loss: 2.9477, Test Loss: 2.9418\n",
            "Epoch 12/150, Train Acc: 26.77%, Val Acc: 28.95%, Test Acc: 29.18%\n",
            "Epoch 12/150, Train Loss: 2.9623, Val Loss: 2.8837, Test Loss: 2.8810\n",
            "Epoch 13/150, Train Acc: 27.69%, Val Acc: 29.88%, Test Acc: 29.74%\n",
            "Epoch 13/150, Train Loss: 2.9159, Val Loss: 2.8476, Test Loss: 2.8351\n",
            "Epoch 14/150, Train Acc: 28.97%, Val Acc: 29.80%, Test Acc: 30.09%\n",
            "Epoch 14/150, Train Loss: 2.8650, Val Loss: 2.8289, Test Loss: 2.8227\n",
            "Epoch 15/150, Train Acc: 29.66%, Val Acc: 31.89%, Test Acc: 31.57%\n",
            "Epoch 15/150, Train Loss: 2.8224, Val Loss: 2.7691, Test Loss: 2.7641\n",
            "Epoch 16/150, Train Acc: 30.29%, Val Acc: 32.92%, Test Acc: 33.18%\n",
            "Epoch 16/150, Train Loss: 2.7729, Val Loss: 2.7024, Test Loss: 2.6883\n",
            "Epoch 17/150, Train Acc: 31.42%, Val Acc: 32.64%, Test Acc: 33.10%\n",
            "Epoch 17/150, Train Loss: 2.7292, Val Loss: 2.6987, Test Loss: 2.6781\n",
            "Epoch 18/150, Train Acc: 32.22%, Val Acc: 33.57%, Test Acc: 34.54%\n",
            "Epoch 18/150, Train Loss: 2.6842, Val Loss: 2.6398, Test Loss: 2.6132\n",
            "Epoch 19/150, Train Acc: 33.24%, Val Acc: 33.74%, Test Acc: 34.32%\n",
            "Epoch 19/150, Train Loss: 2.6409, Val Loss: 2.6227, Test Loss: 2.5958\n",
            "Checkpoint saved at epoch 20: ./checkpoint_epoch_20.pth\n"
          ]
        },
        {
          "output_type": "display_data",
          "data": {
            "text/plain": [
              "<IPython.core.display.Javascript object>"
            ],
            "application/javascript": [
              "\n",
              "    async function download(id, filename, size) {\n",
              "      if (!google.colab.kernel.accessAllowed) {\n",
              "        return;\n",
              "      }\n",
              "      const div = document.createElement('div');\n",
              "      const label = document.createElement('label');\n",
              "      label.textContent = `Downloading \"${filename}\": `;\n",
              "      div.appendChild(label);\n",
              "      const progress = document.createElement('progress');\n",
              "      progress.max = size;\n",
              "      div.appendChild(progress);\n",
              "      document.body.appendChild(div);\n",
              "\n",
              "      const buffers = [];\n",
              "      let downloaded = 0;\n",
              "\n",
              "      const channel = await google.colab.kernel.comms.open(id);\n",
              "      // Send a message to notify the kernel that we're ready.\n",
              "      channel.send({})\n",
              "\n",
              "      for await (const message of channel.messages) {\n",
              "        // Send a message to notify the kernel that we're ready.\n",
              "        channel.send({})\n",
              "        if (message.buffers) {\n",
              "          for (const buffer of message.buffers) {\n",
              "            buffers.push(buffer);\n",
              "            downloaded += buffer.byteLength;\n",
              "            progress.value = downloaded;\n",
              "          }\n",
              "        }\n",
              "      }\n",
              "      const blob = new Blob(buffers, {type: 'application/binary'});\n",
              "      const a = document.createElement('a');\n",
              "      a.href = window.URL.createObjectURL(blob);\n",
              "      a.download = filename;\n",
              "      div.appendChild(a);\n",
              "      a.click();\n",
              "      div.remove();\n",
              "    }\n",
              "  "
            ]
          },
          "metadata": {}
        },
        {
          "output_type": "display_data",
          "data": {
            "text/plain": [
              "<IPython.core.display.Javascript object>"
            ],
            "application/javascript": [
              "download(\"download_a6fda647-863c-45b5-974c-53b9dfb28119\", \"checkpoint_epoch_20.pth\", 9797102)"
            ]
          },
          "metadata": {}
        },
        {
          "output_type": "stream",
          "name": "stdout",
          "text": [
            "Epoch 20/150, Train Acc: 33.87%, Val Acc: 34.77%, Test Acc: 35.82%\n",
            "Epoch 20/150, Train Loss: 2.6046, Val Loss: 2.5765, Test Loss: 2.5454\n",
            "Epoch 21/150, Train Acc: 34.57%, Val Acc: 34.53%, Test Acc: 35.00%\n",
            "Epoch 21/150, Train Loss: 2.5723, Val Loss: 2.6044, Test Loss: 2.5838\n",
            "Epoch 22/150, Train Acc: 35.27%, Val Acc: 35.98%, Test Acc: 36.72%\n",
            "Epoch 22/150, Train Loss: 2.5385, Val Loss: 2.5169, Test Loss: 2.4876\n",
            "Epoch 23/150, Train Acc: 35.91%, Val Acc: 36.33%, Test Acc: 36.34%\n",
            "Epoch 23/150, Train Loss: 2.5172, Val Loss: 2.5126, Test Loss: 2.4832\n",
            "Epoch 24/150, Train Acc: 36.23%, Val Acc: 36.82%, Test Acc: 37.55%\n",
            "Epoch 24/150, Train Loss: 2.4823, Val Loss: 2.4966, Test Loss: 2.4600\n",
            "Epoch 25/150, Train Acc: 37.34%, Val Acc: 36.91%, Test Acc: 37.36%\n",
            "Epoch 25/150, Train Loss: 2.4492, Val Loss: 2.4800, Test Loss: 2.4434\n",
            "Epoch 26/150, Train Acc: 37.48%, Val Acc: 37.03%, Test Acc: 37.91%\n",
            "Epoch 26/150, Train Loss: 2.4322, Val Loss: 2.4531, Test Loss: 2.4289\n",
            "Epoch 27/150, Train Acc: 38.09%, Val Acc: 37.52%, Test Acc: 37.91%\n",
            "Epoch 27/150, Train Loss: 2.4044, Val Loss: 2.4641, Test Loss: 2.4412\n",
            "Epoch 28/150, Train Acc: 38.68%, Val Acc: 38.60%, Test Acc: 38.97%\n",
            "Epoch 28/150, Train Loss: 2.3774, Val Loss: 2.4151, Test Loss: 2.3814\n",
            "Epoch 29/150, Train Acc: 39.24%, Val Acc: 38.95%, Test Acc: 39.21%\n",
            "Epoch 29/150, Train Loss: 2.3526, Val Loss: 2.3983, Test Loss: 2.3768\n",
            "Checkpoint saved at epoch 30: ./checkpoint_epoch_30.pth\n"
          ]
        },
        {
          "output_type": "display_data",
          "data": {
            "text/plain": [
              "<IPython.core.display.Javascript object>"
            ],
            "application/javascript": [
              "\n",
              "    async function download(id, filename, size) {\n",
              "      if (!google.colab.kernel.accessAllowed) {\n",
              "        return;\n",
              "      }\n",
              "      const div = document.createElement('div');\n",
              "      const label = document.createElement('label');\n",
              "      label.textContent = `Downloading \"${filename}\": `;\n",
              "      div.appendChild(label);\n",
              "      const progress = document.createElement('progress');\n",
              "      progress.max = size;\n",
              "      div.appendChild(progress);\n",
              "      document.body.appendChild(div);\n",
              "\n",
              "      const buffers = [];\n",
              "      let downloaded = 0;\n",
              "\n",
              "      const channel = await google.colab.kernel.comms.open(id);\n",
              "      // Send a message to notify the kernel that we're ready.\n",
              "      channel.send({})\n",
              "\n",
              "      for await (const message of channel.messages) {\n",
              "        // Send a message to notify the kernel that we're ready.\n",
              "        channel.send({})\n",
              "        if (message.buffers) {\n",
              "          for (const buffer of message.buffers) {\n",
              "            buffers.push(buffer);\n",
              "            downloaded += buffer.byteLength;\n",
              "            progress.value = downloaded;\n",
              "          }\n",
              "        }\n",
              "      }\n",
              "      const blob = new Blob(buffers, {type: 'application/binary'});\n",
              "      const a = document.createElement('a');\n",
              "      a.href = window.URL.createObjectURL(blob);\n",
              "      a.download = filename;\n",
              "      div.appendChild(a);\n",
              "      a.click();\n",
              "      div.remove();\n",
              "    }\n",
              "  "
            ]
          },
          "metadata": {}
        },
        {
          "output_type": "display_data",
          "data": {
            "text/plain": [
              "<IPython.core.display.Javascript object>"
            ],
            "application/javascript": [
              "download(\"download_f379f6d6-c4f6-4a47-a908-fab0bdf8c661\", \"checkpoint_epoch_30.pth\", 9797102)"
            ]
          },
          "metadata": {}
        },
        {
          "output_type": "stream",
          "name": "stdout",
          "text": [
            "Epoch 30/150, Train Acc: 39.31%, Val Acc: 39.16%, Test Acc: 39.23%\n",
            "Epoch 30/150, Train Loss: 2.3417, Val Loss: 2.3732, Test Loss: 2.3497\n",
            "Epoch 31/150, Train Acc: 39.96%, Val Acc: 39.67%, Test Acc: 39.67%\n",
            "Epoch 31/150, Train Loss: 2.3160, Val Loss: 2.3685, Test Loss: 2.3456\n",
            "Epoch 32/150, Train Acc: 40.37%, Val Acc: 39.05%, Test Acc: 39.94%\n",
            "Epoch 32/150, Train Loss: 2.2929, Val Loss: 2.3733, Test Loss: 2.3359\n",
            "Epoch 33/150, Train Acc: 40.85%, Val Acc: 39.72%, Test Acc: 40.54%\n",
            "Epoch 33/150, Train Loss: 2.2817, Val Loss: 2.3464, Test Loss: 2.3189\n",
            "Epoch 34/150, Train Acc: 41.44%, Val Acc: 39.73%, Test Acc: 40.44%\n",
            "Epoch 34/150, Train Loss: 2.2598, Val Loss: 2.3343, Test Loss: 2.2962\n",
            "Epoch 35/150, Train Acc: 41.56%, Val Acc: 39.66%, Test Acc: 40.53%\n",
            "Epoch 35/150, Train Loss: 2.2462, Val Loss: 2.3575, Test Loss: 2.3217\n",
            "Epoch 36/150, Train Acc: 42.06%, Val Acc: 40.90%, Test Acc: 41.29%\n",
            "Epoch 36/150, Train Loss: 2.2287, Val Loss: 2.3190, Test Loss: 2.2882\n",
            "Epoch 37/150, Train Acc: 42.23%, Val Acc: 40.00%, Test Acc: 40.43%\n",
            "Epoch 37/150, Train Loss: 2.2092, Val Loss: 2.3374, Test Loss: 2.3047\n",
            "Epoch 38/150, Train Acc: 42.67%, Val Acc: 39.95%, Test Acc: 41.02%\n",
            "Epoch 38/150, Train Loss: 2.2018, Val Loss: 2.3231, Test Loss: 2.2790\n",
            "Epoch 39/150, Train Acc: 42.78%, Val Acc: 41.07%, Test Acc: 41.64%\n",
            "Epoch 39/150, Train Loss: 2.1746, Val Loss: 2.2895, Test Loss: 2.2524\n",
            "Checkpoint saved at epoch 40: ./checkpoint_epoch_40.pth\n"
          ]
        },
        {
          "output_type": "display_data",
          "data": {
            "text/plain": [
              "<IPython.core.display.Javascript object>"
            ],
            "application/javascript": [
              "\n",
              "    async function download(id, filename, size) {\n",
              "      if (!google.colab.kernel.accessAllowed) {\n",
              "        return;\n",
              "      }\n",
              "      const div = document.createElement('div');\n",
              "      const label = document.createElement('label');\n",
              "      label.textContent = `Downloading \"${filename}\": `;\n",
              "      div.appendChild(label);\n",
              "      const progress = document.createElement('progress');\n",
              "      progress.max = size;\n",
              "      div.appendChild(progress);\n",
              "      document.body.appendChild(div);\n",
              "\n",
              "      const buffers = [];\n",
              "      let downloaded = 0;\n",
              "\n",
              "      const channel = await google.colab.kernel.comms.open(id);\n",
              "      // Send a message to notify the kernel that we're ready.\n",
              "      channel.send({})\n",
              "\n",
              "      for await (const message of channel.messages) {\n",
              "        // Send a message to notify the kernel that we're ready.\n",
              "        channel.send({})\n",
              "        if (message.buffers) {\n",
              "          for (const buffer of message.buffers) {\n",
              "            buffers.push(buffer);\n",
              "            downloaded += buffer.byteLength;\n",
              "            progress.value = downloaded;\n",
              "          }\n",
              "        }\n",
              "      }\n",
              "      const blob = new Blob(buffers, {type: 'application/binary'});\n",
              "      const a = document.createElement('a');\n",
              "      a.href = window.URL.createObjectURL(blob);\n",
              "      a.download = filename;\n",
              "      div.appendChild(a);\n",
              "      a.click();\n",
              "      div.remove();\n",
              "    }\n",
              "  "
            ]
          },
          "metadata": {}
        },
        {
          "output_type": "display_data",
          "data": {
            "text/plain": [
              "<IPython.core.display.Javascript object>"
            ],
            "application/javascript": [
              "download(\"download_1ff68237-aae7-4c86-ba74-17ea907bb707\", \"checkpoint_epoch_40.pth\", 9797102)"
            ]
          },
          "metadata": {}
        },
        {
          "output_type": "stream",
          "name": "stdout",
          "text": [
            "Epoch 40/150, Train Acc: 43.21%, Val Acc: 40.54%, Test Acc: 41.58%\n",
            "Epoch 40/150, Train Loss: 2.1661, Val Loss: 2.3111, Test Loss: 2.2766\n",
            "Epoch 41/150, Train Acc: 43.44%, Val Acc: 40.93%, Test Acc: 42.28%\n",
            "Epoch 41/150, Train Loss: 2.1504, Val Loss: 2.2682, Test Loss: 2.2246\n",
            "Epoch 42/150, Train Acc: 43.84%, Val Acc: 40.93%, Test Acc: 41.85%\n",
            "Epoch 42/150, Train Loss: 2.1344, Val Loss: 2.2955, Test Loss: 2.2532\n",
            "Epoch 43/150, Train Acc: 44.35%, Val Acc: 41.44%, Test Acc: 42.59%\n",
            "Epoch 43/150, Train Loss: 2.1205, Val Loss: 2.2557, Test Loss: 2.2199\n",
            "Epoch 44/150, Train Acc: 44.41%, Val Acc: 41.92%, Test Acc: 42.41%\n",
            "Epoch 44/150, Train Loss: 2.1093, Val Loss: 2.2622, Test Loss: 2.2132\n",
            "Epoch 45/150, Train Acc: 45.01%, Val Acc: 41.88%, Test Acc: 42.53%\n",
            "Epoch 45/150, Train Loss: 2.0905, Val Loss: 2.2589, Test Loss: 2.2171\n",
            "Epoch 46/150, Train Acc: 45.39%, Val Acc: 42.20%, Test Acc: 42.64%\n",
            "Epoch 46/150, Train Loss: 2.0789, Val Loss: 2.2523, Test Loss: 2.2131\n",
            "Epoch 47/150, Train Acc: 45.65%, Val Acc: 41.92%, Test Acc: 42.95%\n",
            "Epoch 47/150, Train Loss: 2.0565, Val Loss: 2.2491, Test Loss: 2.2036\n",
            "Epoch 48/150, Train Acc: 45.79%, Val Acc: 42.30%, Test Acc: 43.32%\n",
            "Epoch 48/150, Train Loss: 2.0488, Val Loss: 2.2308, Test Loss: 2.1841\n",
            "Epoch 49/150, Train Acc: 45.93%, Val Acc: 42.62%, Test Acc: 43.28%\n",
            "Epoch 49/150, Train Loss: 2.0391, Val Loss: 2.2199, Test Loss: 2.1766\n",
            "Checkpoint saved at epoch 50: ./checkpoint_epoch_50.pth\n"
          ]
        },
        {
          "output_type": "display_data",
          "data": {
            "text/plain": [
              "<IPython.core.display.Javascript object>"
            ],
            "application/javascript": [
              "\n",
              "    async function download(id, filename, size) {\n",
              "      if (!google.colab.kernel.accessAllowed) {\n",
              "        return;\n",
              "      }\n",
              "      const div = document.createElement('div');\n",
              "      const label = document.createElement('label');\n",
              "      label.textContent = `Downloading \"${filename}\": `;\n",
              "      div.appendChild(label);\n",
              "      const progress = document.createElement('progress');\n",
              "      progress.max = size;\n",
              "      div.appendChild(progress);\n",
              "      document.body.appendChild(div);\n",
              "\n",
              "      const buffers = [];\n",
              "      let downloaded = 0;\n",
              "\n",
              "      const channel = await google.colab.kernel.comms.open(id);\n",
              "      // Send a message to notify the kernel that we're ready.\n",
              "      channel.send({})\n",
              "\n",
              "      for await (const message of channel.messages) {\n",
              "        // Send a message to notify the kernel that we're ready.\n",
              "        channel.send({})\n",
              "        if (message.buffers) {\n",
              "          for (const buffer of message.buffers) {\n",
              "            buffers.push(buffer);\n",
              "            downloaded += buffer.byteLength;\n",
              "            progress.value = downloaded;\n",
              "          }\n",
              "        }\n",
              "      }\n",
              "      const blob = new Blob(buffers, {type: 'application/binary'});\n",
              "      const a = document.createElement('a');\n",
              "      a.href = window.URL.createObjectURL(blob);\n",
              "      a.download = filename;\n",
              "      div.appendChild(a);\n",
              "      a.click();\n",
              "      div.remove();\n",
              "    }\n",
              "  "
            ]
          },
          "metadata": {}
        },
        {
          "output_type": "display_data",
          "data": {
            "text/plain": [
              "<IPython.core.display.Javascript object>"
            ],
            "application/javascript": [
              "download(\"download_08a909f6-28d0-412e-a32e-e463d8b35452\", \"checkpoint_epoch_50.pth\", 9797102)"
            ]
          },
          "metadata": {}
        },
        {
          "output_type": "stream",
          "name": "stdout",
          "text": [
            "Epoch 50/150, Train Acc: 46.25%, Val Acc: 42.40%, Test Acc: 43.65%\n",
            "Epoch 50/150, Train Loss: 2.0297, Val Loss: 2.2202, Test Loss: 2.1822\n",
            "Epoch 51/150, Train Acc: 46.31%, Val Acc: 42.14%, Test Acc: 43.15%\n",
            "Epoch 51/150, Train Loss: 2.0172, Val Loss: 2.2302, Test Loss: 2.1816\n",
            "Epoch 52/150, Train Acc: 46.70%, Val Acc: 42.49%, Test Acc: 43.60%\n",
            "Epoch 52/150, Train Loss: 2.0066, Val Loss: 2.2158, Test Loss: 2.1707\n",
            "Epoch 53/150, Train Acc: 46.60%, Val Acc: 42.86%, Test Acc: 43.27%\n",
            "Epoch 53/150, Train Loss: 1.9984, Val Loss: 2.2060, Test Loss: 2.1748\n",
            "Epoch 54/150, Train Acc: 47.35%, Val Acc: 42.43%, Test Acc: 43.55%\n",
            "Epoch 54/150, Train Loss: 1.9841, Val Loss: 2.2150, Test Loss: 2.1775\n",
            "Epoch 55/150, Train Acc: 47.38%, Val Acc: 43.06%, Test Acc: 43.84%\n",
            "Epoch 55/150, Train Loss: 1.9701, Val Loss: 2.2003, Test Loss: 2.1558\n",
            "Epoch 56/150, Train Acc: 47.72%, Val Acc: 42.98%, Test Acc: 43.77%\n",
            "Epoch 56/150, Train Loss: 1.9680, Val Loss: 2.1946, Test Loss: 2.1560\n",
            "Epoch 57/150, Train Acc: 48.01%, Val Acc: 43.35%, Test Acc: 44.19%\n",
            "Epoch 57/150, Train Loss: 1.9512, Val Loss: 2.1977, Test Loss: 2.1515\n",
            "Epoch 58/150, Train Acc: 47.94%, Val Acc: 43.39%, Test Acc: 44.31%\n",
            "Epoch 58/150, Train Loss: 1.9466, Val Loss: 2.1858, Test Loss: 2.1415\n",
            "Epoch 59/150, Train Acc: 48.28%, Val Acc: 43.29%, Test Acc: 44.54%\n",
            "Epoch 59/150, Train Loss: 1.9359, Val Loss: 2.1876, Test Loss: 2.1382\n",
            "Checkpoint saved at epoch 60: ./checkpoint_epoch_60.pth\n"
          ]
        },
        {
          "output_type": "display_data",
          "data": {
            "text/plain": [
              "<IPython.core.display.Javascript object>"
            ],
            "application/javascript": [
              "\n",
              "    async function download(id, filename, size) {\n",
              "      if (!google.colab.kernel.accessAllowed) {\n",
              "        return;\n",
              "      }\n",
              "      const div = document.createElement('div');\n",
              "      const label = document.createElement('label');\n",
              "      label.textContent = `Downloading \"${filename}\": `;\n",
              "      div.appendChild(label);\n",
              "      const progress = document.createElement('progress');\n",
              "      progress.max = size;\n",
              "      div.appendChild(progress);\n",
              "      document.body.appendChild(div);\n",
              "\n",
              "      const buffers = [];\n",
              "      let downloaded = 0;\n",
              "\n",
              "      const channel = await google.colab.kernel.comms.open(id);\n",
              "      // Send a message to notify the kernel that we're ready.\n",
              "      channel.send({})\n",
              "\n",
              "      for await (const message of channel.messages) {\n",
              "        // Send a message to notify the kernel that we're ready.\n",
              "        channel.send({})\n",
              "        if (message.buffers) {\n",
              "          for (const buffer of message.buffers) {\n",
              "            buffers.push(buffer);\n",
              "            downloaded += buffer.byteLength;\n",
              "            progress.value = downloaded;\n",
              "          }\n",
              "        }\n",
              "      }\n",
              "      const blob = new Blob(buffers, {type: 'application/binary'});\n",
              "      const a = document.createElement('a');\n",
              "      a.href = window.URL.createObjectURL(blob);\n",
              "      a.download = filename;\n",
              "      div.appendChild(a);\n",
              "      a.click();\n",
              "      div.remove();\n",
              "    }\n",
              "  "
            ]
          },
          "metadata": {}
        },
        {
          "output_type": "display_data",
          "data": {
            "text/plain": [
              "<IPython.core.display.Javascript object>"
            ],
            "application/javascript": [
              "download(\"download_8e537240-af77-4823-a646-edb55e6c196b\", \"checkpoint_epoch_60.pth\", 9797102)"
            ]
          },
          "metadata": {}
        },
        {
          "output_type": "stream",
          "name": "stdout",
          "text": [
            "Epoch 60/150, Train Acc: 48.78%, Val Acc: 43.59%, Test Acc: 44.81%\n",
            "Epoch 60/150, Train Loss: 1.9268, Val Loss: 2.1791, Test Loss: 2.1334\n",
            "Epoch 61/150, Train Acc: 48.81%, Val Acc: 43.27%, Test Acc: 44.17%\n",
            "Epoch 61/150, Train Loss: 1.9197, Val Loss: 2.1924, Test Loss: 2.1556\n",
            "Epoch 62/150, Train Acc: 49.18%, Val Acc: 43.72%, Test Acc: 44.51%\n",
            "Epoch 62/150, Train Loss: 1.9015, Val Loss: 2.1817, Test Loss: 2.1381\n",
            "Epoch 63/150, Train Acc: 49.35%, Val Acc: 43.17%, Test Acc: 44.70%\n",
            "Epoch 63/150, Train Loss: 1.8990, Val Loss: 2.1922, Test Loss: 2.1441\n",
            "Epoch 64/150, Train Acc: 49.09%, Val Acc: 43.57%, Test Acc: 44.63%\n",
            "Epoch 64/150, Train Loss: 1.8922, Val Loss: 2.1832, Test Loss: 2.1332\n",
            "Epoch 65/150, Train Acc: 49.51%, Val Acc: 43.62%, Test Acc: 44.29%\n",
            "Epoch 65/150, Train Loss: 1.8844, Val Loss: 2.1831, Test Loss: 2.1411\n",
            "Epoch 66/150, Train Acc: 49.65%, Val Acc: 44.21%, Test Acc: 45.07%\n",
            "Epoch 66/150, Train Loss: 1.8799, Val Loss: 2.1622, Test Loss: 2.1259\n",
            "Epoch 67/150, Train Acc: 49.93%, Val Acc: 43.58%, Test Acc: 45.00%\n",
            "Epoch 67/150, Train Loss: 1.8652, Val Loss: 2.1700, Test Loss: 2.1279\n",
            "Epoch 68/150, Train Acc: 49.95%, Val Acc: 43.91%, Test Acc: 45.61%\n",
            "Epoch 68/150, Train Loss: 1.8608, Val Loss: 2.1508, Test Loss: 2.1145\n",
            "Epoch 69/150, Train Acc: 50.35%, Val Acc: 44.47%, Test Acc: 45.23%\n",
            "Epoch 69/150, Train Loss: 1.8454, Val Loss: 2.1494, Test Loss: 2.1059\n",
            "Checkpoint saved at epoch 70: ./checkpoint_epoch_70.pth\n"
          ]
        },
        {
          "output_type": "display_data",
          "data": {
            "text/plain": [
              "<IPython.core.display.Javascript object>"
            ],
            "application/javascript": [
              "\n",
              "    async function download(id, filename, size) {\n",
              "      if (!google.colab.kernel.accessAllowed) {\n",
              "        return;\n",
              "      }\n",
              "      const div = document.createElement('div');\n",
              "      const label = document.createElement('label');\n",
              "      label.textContent = `Downloading \"${filename}\": `;\n",
              "      div.appendChild(label);\n",
              "      const progress = document.createElement('progress');\n",
              "      progress.max = size;\n",
              "      div.appendChild(progress);\n",
              "      document.body.appendChild(div);\n",
              "\n",
              "      const buffers = [];\n",
              "      let downloaded = 0;\n",
              "\n",
              "      const channel = await google.colab.kernel.comms.open(id);\n",
              "      // Send a message to notify the kernel that we're ready.\n",
              "      channel.send({})\n",
              "\n",
              "      for await (const message of channel.messages) {\n",
              "        // Send a message to notify the kernel that we're ready.\n",
              "        channel.send({})\n",
              "        if (message.buffers) {\n",
              "          for (const buffer of message.buffers) {\n",
              "            buffers.push(buffer);\n",
              "            downloaded += buffer.byteLength;\n",
              "            progress.value = downloaded;\n",
              "          }\n",
              "        }\n",
              "      }\n",
              "      const blob = new Blob(buffers, {type: 'application/binary'});\n",
              "      const a = document.createElement('a');\n",
              "      a.href = window.URL.createObjectURL(blob);\n",
              "      a.download = filename;\n",
              "      div.appendChild(a);\n",
              "      a.click();\n",
              "      div.remove();\n",
              "    }\n",
              "  "
            ]
          },
          "metadata": {}
        },
        {
          "output_type": "display_data",
          "data": {
            "text/plain": [
              "<IPython.core.display.Javascript object>"
            ],
            "application/javascript": [
              "download(\"download_96befd1d-b993-4f1e-a0c7-529f0b046b0a\", \"checkpoint_epoch_70.pth\", 9797102)"
            ]
          },
          "metadata": {}
        },
        {
          "output_type": "stream",
          "name": "stdout",
          "text": [
            "Epoch 70/150, Train Acc: 50.62%, Val Acc: 44.04%, Test Acc: 45.24%\n",
            "Epoch 70/150, Train Loss: 1.8423, Val Loss: 2.1663, Test Loss: 2.1212\n",
            "Epoch 71/150, Train Acc: 50.73%, Val Acc: 43.76%, Test Acc: 45.22%\n",
            "Epoch 71/150, Train Loss: 1.8302, Val Loss: 2.1512, Test Loss: 2.1111\n",
            "Epoch 72/150, Train Acc: 50.83%, Val Acc: 44.36%, Test Acc: 45.45%\n",
            "Epoch 72/150, Train Loss: 1.8289, Val Loss: 2.1629, Test Loss: 2.1062\n",
            "Epoch 73/150, Train Acc: 50.72%, Val Acc: 43.91%, Test Acc: 45.77%\n",
            "Epoch 73/150, Train Loss: 1.8177, Val Loss: 2.1577, Test Loss: 2.0969\n",
            "Epoch 74/150, Train Acc: 51.23%, Val Acc: 44.48%, Test Acc: 45.20%\n",
            "Epoch 74/150, Train Loss: 1.8151, Val Loss: 2.1554, Test Loss: 2.1114\n",
            "Epoch 75/150, Train Acc: 51.24%, Val Acc: 44.07%, Test Acc: 44.93%\n",
            "Epoch 75/150, Train Loss: 1.8082, Val Loss: 2.1589, Test Loss: 2.1185\n",
            "Epoch 76/150, Train Acc: 51.73%, Val Acc: 44.44%, Test Acc: 45.56%\n",
            "Epoch 76/150, Train Loss: 1.7879, Val Loss: 2.1674, Test Loss: 2.1141\n",
            "Epoch 77/150, Train Acc: 51.73%, Val Acc: 44.52%, Test Acc: 45.56%\n",
            "Epoch 77/150, Train Loss: 1.7831, Val Loss: 2.1540, Test Loss: 2.1027\n",
            "Epoch 78/150, Train Acc: 51.68%, Val Acc: 44.67%, Test Acc: 45.43%\n",
            "Epoch 78/150, Train Loss: 1.7852, Val Loss: 2.1460, Test Loss: 2.0954\n",
            "Epoch 79/150, Train Acc: 52.17%, Val Acc: 44.76%, Test Acc: 45.77%\n",
            "Epoch 79/150, Train Loss: 1.7738, Val Loss: 2.1540, Test Loss: 2.1058\n",
            "Checkpoint saved at epoch 80: ./checkpoint_epoch_80.pth\n"
          ]
        },
        {
          "output_type": "display_data",
          "data": {
            "text/plain": [
              "<IPython.core.display.Javascript object>"
            ],
            "application/javascript": [
              "\n",
              "    async function download(id, filename, size) {\n",
              "      if (!google.colab.kernel.accessAllowed) {\n",
              "        return;\n",
              "      }\n",
              "      const div = document.createElement('div');\n",
              "      const label = document.createElement('label');\n",
              "      label.textContent = `Downloading \"${filename}\": `;\n",
              "      div.appendChild(label);\n",
              "      const progress = document.createElement('progress');\n",
              "      progress.max = size;\n",
              "      div.appendChild(progress);\n",
              "      document.body.appendChild(div);\n",
              "\n",
              "      const buffers = [];\n",
              "      let downloaded = 0;\n",
              "\n",
              "      const channel = await google.colab.kernel.comms.open(id);\n",
              "      // Send a message to notify the kernel that we're ready.\n",
              "      channel.send({})\n",
              "\n",
              "      for await (const message of channel.messages) {\n",
              "        // Send a message to notify the kernel that we're ready.\n",
              "        channel.send({})\n",
              "        if (message.buffers) {\n",
              "          for (const buffer of message.buffers) {\n",
              "            buffers.push(buffer);\n",
              "            downloaded += buffer.byteLength;\n",
              "            progress.value = downloaded;\n",
              "          }\n",
              "        }\n",
              "      }\n",
              "      const blob = new Blob(buffers, {type: 'application/binary'});\n",
              "      const a = document.createElement('a');\n",
              "      a.href = window.URL.createObjectURL(blob);\n",
              "      a.download = filename;\n",
              "      div.appendChild(a);\n",
              "      a.click();\n",
              "      div.remove();\n",
              "    }\n",
              "  "
            ]
          },
          "metadata": {}
        },
        {
          "output_type": "display_data",
          "data": {
            "text/plain": [
              "<IPython.core.display.Javascript object>"
            ],
            "application/javascript": [
              "download(\"download_6db5a55b-a15e-4aed-bf39-88178ddbff02\", \"checkpoint_epoch_80.pth\", 9797102)"
            ]
          },
          "metadata": {}
        },
        {
          "output_type": "stream",
          "name": "stdout",
          "text": [
            "Epoch 80/150, Train Acc: 52.08%, Val Acc: 45.01%, Test Acc: 45.98%\n",
            "Epoch 80/150, Train Loss: 1.7721, Val Loss: 2.1390, Test Loss: 2.0906\n",
            "Epoch 81/150, Train Acc: 52.02%, Val Acc: 44.61%, Test Acc: 45.62%\n",
            "Epoch 81/150, Train Loss: 1.7671, Val Loss: 2.1414, Test Loss: 2.1029\n",
            "Epoch 82/150, Train Acc: 52.62%, Val Acc: 44.39%, Test Acc: 45.72%\n",
            "Epoch 82/150, Train Loss: 1.7574, Val Loss: 2.1560, Test Loss: 2.0998\n",
            "Epoch 83/150, Train Acc: 52.67%, Val Acc: 45.05%, Test Acc: 46.53%\n",
            "Epoch 83/150, Train Loss: 1.7501, Val Loss: 2.1362, Test Loss: 2.0914\n",
            "Epoch 84/150, Train Acc: 52.77%, Val Acc: 45.34%, Test Acc: 46.28%\n",
            "Epoch 84/150, Train Loss: 1.7373, Val Loss: 2.1344, Test Loss: 2.0851\n",
            "Epoch 85/150, Train Acc: 52.91%, Val Acc: 45.30%, Test Acc: 46.89%\n",
            "Epoch 85/150, Train Loss: 1.7290, Val Loss: 2.1281, Test Loss: 2.0753\n",
            "Epoch 86/150, Train Acc: 53.05%, Val Acc: 45.60%, Test Acc: 46.79%\n",
            "Epoch 86/150, Train Loss: 1.7306, Val Loss: 2.1227, Test Loss: 2.0762\n",
            "Epoch 87/150, Train Acc: 53.25%, Val Acc: 45.32%, Test Acc: 46.21%\n",
            "Epoch 87/150, Train Loss: 1.7242, Val Loss: 2.1329, Test Loss: 2.0858\n",
            "Epoch 88/150, Train Acc: 53.48%, Val Acc: 44.85%, Test Acc: 46.04%\n",
            "Epoch 88/150, Train Loss: 1.7185, Val Loss: 2.1387, Test Loss: 2.0918\n",
            "Epoch 89/150, Train Acc: 53.63%, Val Acc: 45.02%, Test Acc: 46.66%\n",
            "Epoch 89/150, Train Loss: 1.7118, Val Loss: 2.1280, Test Loss: 2.0779\n",
            "Checkpoint saved at epoch 90: ./checkpoint_epoch_90.pth\n"
          ]
        },
        {
          "output_type": "display_data",
          "data": {
            "text/plain": [
              "<IPython.core.display.Javascript object>"
            ],
            "application/javascript": [
              "\n",
              "    async function download(id, filename, size) {\n",
              "      if (!google.colab.kernel.accessAllowed) {\n",
              "        return;\n",
              "      }\n",
              "      const div = document.createElement('div');\n",
              "      const label = document.createElement('label');\n",
              "      label.textContent = `Downloading \"${filename}\": `;\n",
              "      div.appendChild(label);\n",
              "      const progress = document.createElement('progress');\n",
              "      progress.max = size;\n",
              "      div.appendChild(progress);\n",
              "      document.body.appendChild(div);\n",
              "\n",
              "      const buffers = [];\n",
              "      let downloaded = 0;\n",
              "\n",
              "      const channel = await google.colab.kernel.comms.open(id);\n",
              "      // Send a message to notify the kernel that we're ready.\n",
              "      channel.send({})\n",
              "\n",
              "      for await (const message of channel.messages) {\n",
              "        // Send a message to notify the kernel that we're ready.\n",
              "        channel.send({})\n",
              "        if (message.buffers) {\n",
              "          for (const buffer of message.buffers) {\n",
              "            buffers.push(buffer);\n",
              "            downloaded += buffer.byteLength;\n",
              "            progress.value = downloaded;\n",
              "          }\n",
              "        }\n",
              "      }\n",
              "      const blob = new Blob(buffers, {type: 'application/binary'});\n",
              "      const a = document.createElement('a');\n",
              "      a.href = window.URL.createObjectURL(blob);\n",
              "      a.download = filename;\n",
              "      div.appendChild(a);\n",
              "      a.click();\n",
              "      div.remove();\n",
              "    }\n",
              "  "
            ]
          },
          "metadata": {}
        },
        {
          "output_type": "display_data",
          "data": {
            "text/plain": [
              "<IPython.core.display.Javascript object>"
            ],
            "application/javascript": [
              "download(\"download_d4def4d4-879c-4eea-957c-8fd7ded3395c\", \"checkpoint_epoch_90.pth\", 9797102)"
            ]
          },
          "metadata": {}
        },
        {
          "output_type": "stream",
          "name": "stdout",
          "text": [
            "Epoch 90/150, Train Acc: 53.66%, Val Acc: 45.22%, Test Acc: 46.95%\n",
            "Epoch 90/150, Train Loss: 1.7117, Val Loss: 2.1112, Test Loss: 2.0692\n",
            "Epoch 91/150, Train Acc: 53.66%, Val Acc: 45.20%, Test Acc: 46.67%\n",
            "Epoch 91/150, Train Loss: 1.7058, Val Loss: 2.1284, Test Loss: 2.0846\n",
            "Epoch 92/150, Train Acc: 54.11%, Val Acc: 45.57%, Test Acc: 46.76%\n",
            "Epoch 92/150, Train Loss: 1.6900, Val Loss: 2.1265, Test Loss: 2.0725\n",
            "Epoch 93/150, Train Acc: 54.05%, Val Acc: 45.30%, Test Acc: 46.83%\n",
            "Epoch 93/150, Train Loss: 1.6924, Val Loss: 2.1217, Test Loss: 2.0656\n",
            "Epoch 94/150, Train Acc: 54.38%, Val Acc: 45.20%, Test Acc: 46.67%\n",
            "Epoch 94/150, Train Loss: 1.6829, Val Loss: 2.1192, Test Loss: 2.0762\n",
            "Epoch 95/150, Train Acc: 54.58%, Val Acc: 45.67%, Test Acc: 46.64%\n",
            "Epoch 95/150, Train Loss: 1.6766, Val Loss: 2.1188, Test Loss: 2.0674\n",
            "Epoch 96/150, Train Acc: 54.67%, Val Acc: 45.38%, Test Acc: 46.60%\n",
            "Epoch 96/150, Train Loss: 1.6744, Val Loss: 2.1244, Test Loss: 2.0763\n",
            "Epoch 97/150, Train Acc: 54.61%, Val Acc: 45.16%, Test Acc: 46.87%\n",
            "Epoch 97/150, Train Loss: 1.6699, Val Loss: 2.1318, Test Loss: 2.0839\n",
            "Epoch 98/150, Train Acc: 54.69%, Val Acc: 45.23%, Test Acc: 46.89%\n",
            "Epoch 98/150, Train Loss: 1.6616, Val Loss: 2.1202, Test Loss: 2.0739\n",
            "Epoch 99/150, Train Acc: 55.20%, Val Acc: 45.46%, Test Acc: 47.11%\n",
            "Epoch 99/150, Train Loss: 1.6539, Val Loss: 2.1124, Test Loss: 2.0642\n",
            "Checkpoint saved at epoch 100: ./checkpoint_epoch_100.pth\n"
          ]
        },
        {
          "output_type": "display_data",
          "data": {
            "text/plain": [
              "<IPython.core.display.Javascript object>"
            ],
            "application/javascript": [
              "\n",
              "    async function download(id, filename, size) {\n",
              "      if (!google.colab.kernel.accessAllowed) {\n",
              "        return;\n",
              "      }\n",
              "      const div = document.createElement('div');\n",
              "      const label = document.createElement('label');\n",
              "      label.textContent = `Downloading \"${filename}\": `;\n",
              "      div.appendChild(label);\n",
              "      const progress = document.createElement('progress');\n",
              "      progress.max = size;\n",
              "      div.appendChild(progress);\n",
              "      document.body.appendChild(div);\n",
              "\n",
              "      const buffers = [];\n",
              "      let downloaded = 0;\n",
              "\n",
              "      const channel = await google.colab.kernel.comms.open(id);\n",
              "      // Send a message to notify the kernel that we're ready.\n",
              "      channel.send({})\n",
              "\n",
              "      for await (const message of channel.messages) {\n",
              "        // Send a message to notify the kernel that we're ready.\n",
              "        channel.send({})\n",
              "        if (message.buffers) {\n",
              "          for (const buffer of message.buffers) {\n",
              "            buffers.push(buffer);\n",
              "            downloaded += buffer.byteLength;\n",
              "            progress.value = downloaded;\n",
              "          }\n",
              "        }\n",
              "      }\n",
              "      const blob = new Blob(buffers, {type: 'application/binary'});\n",
              "      const a = document.createElement('a');\n",
              "      a.href = window.URL.createObjectURL(blob);\n",
              "      a.download = filename;\n",
              "      div.appendChild(a);\n",
              "      a.click();\n",
              "      div.remove();\n",
              "    }\n",
              "  "
            ]
          },
          "metadata": {}
        },
        {
          "output_type": "display_data",
          "data": {
            "text/plain": [
              "<IPython.core.display.Javascript object>"
            ],
            "application/javascript": [
              "download(\"download_d272b5d0-ca71-4aa3-b076-821290b62a6b\", \"checkpoint_epoch_100.pth\", 9797146)"
            ]
          },
          "metadata": {}
        },
        {
          "output_type": "stream",
          "name": "stdout",
          "text": [
            "Epoch 100/150, Train Acc: 55.06%, Val Acc: 45.77%, Test Acc: 46.81%\n",
            "Epoch 100/150, Train Loss: 1.6581, Val Loss: 2.1152, Test Loss: 2.0641\n",
            "Epoch 101/150, Train Acc: 55.10%, Val Acc: 46.13%, Test Acc: 47.30%\n",
            "Epoch 101/150, Train Loss: 1.6547, Val Loss: 2.1055, Test Loss: 2.0612\n",
            "Epoch 102/150, Train Acc: 55.34%, Val Acc: 45.71%, Test Acc: 47.18%\n",
            "Epoch 102/150, Train Loss: 1.6475, Val Loss: 2.1123, Test Loss: 2.0639\n",
            "Epoch 103/150, Train Acc: 55.20%, Val Acc: 45.95%, Test Acc: 47.08%\n",
            "Epoch 103/150, Train Loss: 1.6476, Val Loss: 2.1192, Test Loss: 2.0663\n",
            "Epoch 104/150, Train Acc: 55.17%, Val Acc: 45.80%, Test Acc: 46.60%\n",
            "Epoch 104/150, Train Loss: 1.6394, Val Loss: 2.1237, Test Loss: 2.0759\n",
            "Epoch 105/150, Train Acc: 55.70%, Val Acc: 45.88%, Test Acc: 47.02%\n",
            "Epoch 105/150, Train Loss: 1.6341, Val Loss: 2.1200, Test Loss: 2.0706\n",
            "Epoch 106/150, Train Acc: 55.51%, Val Acc: 45.87%, Test Acc: 47.12%\n",
            "Epoch 106/150, Train Loss: 1.6321, Val Loss: 2.1157, Test Loss: 2.0646\n",
            "Epoch 107/150, Train Acc: 55.73%, Val Acc: 45.89%, Test Acc: 47.14%\n",
            "Epoch 107/150, Train Loss: 1.6258, Val Loss: 2.1116, Test Loss: 2.0694\n",
            "Epoch 108/150, Train Acc: 55.83%, Val Acc: 45.79%, Test Acc: 47.33%\n",
            "Epoch 108/150, Train Loss: 1.6202, Val Loss: 2.1047, Test Loss: 2.0608\n",
            "Epoch 109/150, Train Acc: 56.13%, Val Acc: 45.85%, Test Acc: 47.53%\n",
            "Epoch 109/150, Train Loss: 1.6155, Val Loss: 2.1116, Test Loss: 2.0586\n",
            "Checkpoint saved at epoch 110: ./checkpoint_epoch_110.pth\n"
          ]
        },
        {
          "output_type": "display_data",
          "data": {
            "text/plain": [
              "<IPython.core.display.Javascript object>"
            ],
            "application/javascript": [
              "\n",
              "    async function download(id, filename, size) {\n",
              "      if (!google.colab.kernel.accessAllowed) {\n",
              "        return;\n",
              "      }\n",
              "      const div = document.createElement('div');\n",
              "      const label = document.createElement('label');\n",
              "      label.textContent = `Downloading \"${filename}\": `;\n",
              "      div.appendChild(label);\n",
              "      const progress = document.createElement('progress');\n",
              "      progress.max = size;\n",
              "      div.appendChild(progress);\n",
              "      document.body.appendChild(div);\n",
              "\n",
              "      const buffers = [];\n",
              "      let downloaded = 0;\n",
              "\n",
              "      const channel = await google.colab.kernel.comms.open(id);\n",
              "      // Send a message to notify the kernel that we're ready.\n",
              "      channel.send({})\n",
              "\n",
              "      for await (const message of channel.messages) {\n",
              "        // Send a message to notify the kernel that we're ready.\n",
              "        channel.send({})\n",
              "        if (message.buffers) {\n",
              "          for (const buffer of message.buffers) {\n",
              "            buffers.push(buffer);\n",
              "            downloaded += buffer.byteLength;\n",
              "            progress.value = downloaded;\n",
              "          }\n",
              "        }\n",
              "      }\n",
              "      const blob = new Blob(buffers, {type: 'application/binary'});\n",
              "      const a = document.createElement('a');\n",
              "      a.href = window.URL.createObjectURL(blob);\n",
              "      a.download = filename;\n",
              "      div.appendChild(a);\n",
              "      a.click();\n",
              "      div.remove();\n",
              "    }\n",
              "  "
            ]
          },
          "metadata": {}
        },
        {
          "output_type": "display_data",
          "data": {
            "text/plain": [
              "<IPython.core.display.Javascript object>"
            ],
            "application/javascript": [
              "download(\"download_633f3b13-4157-4f0e-b6ef-e1f95d814112\", \"checkpoint_epoch_110.pth\", 9797146)"
            ]
          },
          "metadata": {}
        },
        {
          "output_type": "stream",
          "name": "stdout",
          "text": [
            "Epoch 110/150, Train Acc: 55.88%, Val Acc: 45.56%, Test Acc: 47.16%\n",
            "Epoch 110/150, Train Loss: 1.6133, Val Loss: 2.1241, Test Loss: 2.0764\n",
            "Epoch 111/150, Train Acc: 55.98%, Val Acc: 45.58%, Test Acc: 47.21%\n",
            "Epoch 111/150, Train Loss: 1.6155, Val Loss: 2.1211, Test Loss: 2.0723\n",
            "Epoch 112/150, Train Acc: 56.35%, Val Acc: 45.84%, Test Acc: 47.41%\n",
            "Epoch 112/150, Train Loss: 1.5984, Val Loss: 2.1045, Test Loss: 2.0614\n",
            "Epoch 113/150, Train Acc: 56.74%, Val Acc: 45.91%, Test Acc: 47.52%\n",
            "Epoch 113/150, Train Loss: 1.5978, Val Loss: 2.1110, Test Loss: 2.0619\n",
            "Epoch 114/150, Train Acc: 56.71%, Val Acc: 45.87%, Test Acc: 47.51%\n",
            "Epoch 114/150, Train Loss: 1.5901, Val Loss: 2.1115, Test Loss: 2.0676\n",
            "Epoch 115/150, Train Acc: 56.49%, Val Acc: 46.22%, Test Acc: 47.64%\n",
            "Epoch 115/150, Train Loss: 1.5968, Val Loss: 2.1048, Test Loss: 2.0567\n",
            "Epoch 116/150, Train Acc: 56.51%, Val Acc: 46.12%, Test Acc: 47.61%\n",
            "Epoch 116/150, Train Loss: 1.5822, Val Loss: 2.1061, Test Loss: 2.0572\n",
            "Epoch 117/150, Train Acc: 56.43%, Val Acc: 45.91%, Test Acc: 47.72%\n",
            "Epoch 117/150, Train Loss: 1.5891, Val Loss: 2.1103, Test Loss: 2.0651\n",
            "Epoch 118/150, Train Acc: 56.55%, Val Acc: 45.99%, Test Acc: 47.90%\n",
            "Epoch 118/150, Train Loss: 1.5864, Val Loss: 2.1049, Test Loss: 2.0615\n",
            "Epoch 119/150, Train Acc: 56.84%, Val Acc: 46.14%, Test Acc: 47.60%\n",
            "Epoch 119/150, Train Loss: 1.5735, Val Loss: 2.1003, Test Loss: 2.0597\n",
            "Checkpoint saved at epoch 120: ./checkpoint_epoch_120.pth\n"
          ]
        },
        {
          "output_type": "display_data",
          "data": {
            "text/plain": [
              "<IPython.core.display.Javascript object>"
            ],
            "application/javascript": [
              "\n",
              "    async function download(id, filename, size) {\n",
              "      if (!google.colab.kernel.accessAllowed) {\n",
              "        return;\n",
              "      }\n",
              "      const div = document.createElement('div');\n",
              "      const label = document.createElement('label');\n",
              "      label.textContent = `Downloading \"${filename}\": `;\n",
              "      div.appendChild(label);\n",
              "      const progress = document.createElement('progress');\n",
              "      progress.max = size;\n",
              "      div.appendChild(progress);\n",
              "      document.body.appendChild(div);\n",
              "\n",
              "      const buffers = [];\n",
              "      let downloaded = 0;\n",
              "\n",
              "      const channel = await google.colab.kernel.comms.open(id);\n",
              "      // Send a message to notify the kernel that we're ready.\n",
              "      channel.send({})\n",
              "\n",
              "      for await (const message of channel.messages) {\n",
              "        // Send a message to notify the kernel that we're ready.\n",
              "        channel.send({})\n",
              "        if (message.buffers) {\n",
              "          for (const buffer of message.buffers) {\n",
              "            buffers.push(buffer);\n",
              "            downloaded += buffer.byteLength;\n",
              "            progress.value = downloaded;\n",
              "          }\n",
              "        }\n",
              "      }\n",
              "      const blob = new Blob(buffers, {type: 'application/binary'});\n",
              "      const a = document.createElement('a');\n",
              "      a.href = window.URL.createObjectURL(blob);\n",
              "      a.download = filename;\n",
              "      div.appendChild(a);\n",
              "      a.click();\n",
              "      div.remove();\n",
              "    }\n",
              "  "
            ]
          },
          "metadata": {}
        },
        {
          "output_type": "display_data",
          "data": {
            "text/plain": [
              "<IPython.core.display.Javascript object>"
            ],
            "application/javascript": [
              "download(\"download_219fc10c-79e2-4c08-bfe5-5a39c841e377\", \"checkpoint_epoch_120.pth\", 9797146)"
            ]
          },
          "metadata": {}
        },
        {
          "output_type": "stream",
          "name": "stdout",
          "text": [
            "Epoch 120/150, Train Acc: 56.99%, Val Acc: 46.22%, Test Acc: 47.76%\n",
            "Epoch 120/150, Train Loss: 1.5755, Val Loss: 2.1008, Test Loss: 2.0598\n",
            "Epoch 121/150, Train Acc: 57.26%, Val Acc: 46.49%, Test Acc: 47.76%\n",
            "Epoch 121/150, Train Loss: 1.5685, Val Loss: 2.1037, Test Loss: 2.0614\n",
            "Epoch 122/150, Train Acc: 57.07%, Val Acc: 46.28%, Test Acc: 47.77%\n",
            "Epoch 122/150, Train Loss: 1.5673, Val Loss: 2.1002, Test Loss: 2.0550\n",
            "Epoch 123/150, Train Acc: 56.99%, Val Acc: 46.25%, Test Acc: 47.64%\n",
            "Epoch 123/150, Train Loss: 1.5696, Val Loss: 2.1082, Test Loss: 2.0648\n",
            "Epoch 124/150, Train Acc: 57.13%, Val Acc: 46.58%, Test Acc: 47.78%\n",
            "Epoch 124/150, Train Loss: 1.5605, Val Loss: 2.1000, Test Loss: 2.0588\n",
            "Epoch 125/150, Train Acc: 57.47%, Val Acc: 46.13%, Test Acc: 47.68%\n",
            "Epoch 125/150, Train Loss: 1.5593, Val Loss: 2.1093, Test Loss: 2.0659\n",
            "Epoch 126/150, Train Acc: 57.55%, Val Acc: 46.09%, Test Acc: 48.00%\n",
            "Epoch 126/150, Train Loss: 1.5512, Val Loss: 2.1048, Test Loss: 2.0631\n",
            "Epoch 127/150, Train Acc: 57.63%, Val Acc: 46.41%, Test Acc: 47.56%\n",
            "Epoch 127/150, Train Loss: 1.5528, Val Loss: 2.1012, Test Loss: 2.0600\n",
            "Epoch 128/150, Train Acc: 57.75%, Val Acc: 46.38%, Test Acc: 47.87%\n",
            "Epoch 128/150, Train Loss: 1.5543, Val Loss: 2.1029, Test Loss: 2.0547\n",
            "Epoch 129/150, Train Acc: 57.74%, Val Acc: 46.25%, Test Acc: 47.74%\n",
            "Epoch 129/150, Train Loss: 1.5502, Val Loss: 2.1044, Test Loss: 2.0628\n",
            "Checkpoint saved at epoch 130: ./checkpoint_epoch_130.pth\n"
          ]
        },
        {
          "output_type": "display_data",
          "data": {
            "text/plain": [
              "<IPython.core.display.Javascript object>"
            ],
            "application/javascript": [
              "\n",
              "    async function download(id, filename, size) {\n",
              "      if (!google.colab.kernel.accessAllowed) {\n",
              "        return;\n",
              "      }\n",
              "      const div = document.createElement('div');\n",
              "      const label = document.createElement('label');\n",
              "      label.textContent = `Downloading \"${filename}\": `;\n",
              "      div.appendChild(label);\n",
              "      const progress = document.createElement('progress');\n",
              "      progress.max = size;\n",
              "      div.appendChild(progress);\n",
              "      document.body.appendChild(div);\n",
              "\n",
              "      const buffers = [];\n",
              "      let downloaded = 0;\n",
              "\n",
              "      const channel = await google.colab.kernel.comms.open(id);\n",
              "      // Send a message to notify the kernel that we're ready.\n",
              "      channel.send({})\n",
              "\n",
              "      for await (const message of channel.messages) {\n",
              "        // Send a message to notify the kernel that we're ready.\n",
              "        channel.send({})\n",
              "        if (message.buffers) {\n",
              "          for (const buffer of message.buffers) {\n",
              "            buffers.push(buffer);\n",
              "            downloaded += buffer.byteLength;\n",
              "            progress.value = downloaded;\n",
              "          }\n",
              "        }\n",
              "      }\n",
              "      const blob = new Blob(buffers, {type: 'application/binary'});\n",
              "      const a = document.createElement('a');\n",
              "      a.href = window.URL.createObjectURL(blob);\n",
              "      a.download = filename;\n",
              "      div.appendChild(a);\n",
              "      a.click();\n",
              "      div.remove();\n",
              "    }\n",
              "  "
            ]
          },
          "metadata": {}
        },
        {
          "output_type": "display_data",
          "data": {
            "text/plain": [
              "<IPython.core.display.Javascript object>"
            ],
            "application/javascript": [
              "download(\"download_aef7f6be-26b3-44a1-bfc5-25b7f8abfbc4\", \"checkpoint_epoch_130.pth\", 9797146)"
            ]
          },
          "metadata": {}
        },
        {
          "output_type": "stream",
          "name": "stdout",
          "text": [
            "Epoch 130/150, Train Acc: 57.62%, Val Acc: 46.31%, Test Acc: 47.90%\n",
            "Epoch 130/150, Train Loss: 1.5490, Val Loss: 2.1057, Test Loss: 2.0596\n",
            "Epoch 131/150, Train Acc: 58.21%, Val Acc: 46.78%, Test Acc: 48.01%\n",
            "Epoch 131/150, Train Loss: 1.5367, Val Loss: 2.0962, Test Loss: 2.0592\n",
            "Epoch 132/150, Train Acc: 57.96%, Val Acc: 46.34%, Test Acc: 47.83%\n",
            "Epoch 132/150, Train Loss: 1.5395, Val Loss: 2.0971, Test Loss: 2.0538\n",
            "Epoch 133/150, Train Acc: 57.88%, Val Acc: 46.29%, Test Acc: 47.74%\n",
            "Epoch 133/150, Train Loss: 1.5339, Val Loss: 2.1062, Test Loss: 2.0608\n",
            "Epoch 134/150, Train Acc: 58.14%, Val Acc: 46.68%, Test Acc: 48.07%\n",
            "Epoch 134/150, Train Loss: 1.5312, Val Loss: 2.0923, Test Loss: 2.0496\n",
            "Epoch 135/150, Train Acc: 58.34%, Val Acc: 46.25%, Test Acc: 47.99%\n",
            "Epoch 135/150, Train Loss: 1.5305, Val Loss: 2.0967, Test Loss: 2.0535\n",
            "Epoch 136/150, Train Acc: 57.90%, Val Acc: 46.59%, Test Acc: 48.14%\n",
            "Epoch 136/150, Train Loss: 1.5333, Val Loss: 2.0971, Test Loss: 2.0553\n",
            "Epoch 137/150, Train Acc: 58.11%, Val Acc: 46.57%, Test Acc: 47.93%\n",
            "Epoch 137/150, Train Loss: 1.5256, Val Loss: 2.0942, Test Loss: 2.0551\n",
            "Epoch 138/150, Train Acc: 58.30%, Val Acc: 46.72%, Test Acc: 48.10%\n",
            "Epoch 138/150, Train Loss: 1.5242, Val Loss: 2.0954, Test Loss: 2.0547\n",
            "Epoch 139/150, Train Acc: 58.38%, Val Acc: 46.82%, Test Acc: 48.04%\n",
            "Epoch 139/150, Train Loss: 1.5185, Val Loss: 2.0976, Test Loss: 2.0555\n",
            "Checkpoint saved at epoch 140: ./checkpoint_epoch_140.pth\n"
          ]
        },
        {
          "output_type": "display_data",
          "data": {
            "text/plain": [
              "<IPython.core.display.Javascript object>"
            ],
            "application/javascript": [
              "\n",
              "    async function download(id, filename, size) {\n",
              "      if (!google.colab.kernel.accessAllowed) {\n",
              "        return;\n",
              "      }\n",
              "      const div = document.createElement('div');\n",
              "      const label = document.createElement('label');\n",
              "      label.textContent = `Downloading \"${filename}\": `;\n",
              "      div.appendChild(label);\n",
              "      const progress = document.createElement('progress');\n",
              "      progress.max = size;\n",
              "      div.appendChild(progress);\n",
              "      document.body.appendChild(div);\n",
              "\n",
              "      const buffers = [];\n",
              "      let downloaded = 0;\n",
              "\n",
              "      const channel = await google.colab.kernel.comms.open(id);\n",
              "      // Send a message to notify the kernel that we're ready.\n",
              "      channel.send({})\n",
              "\n",
              "      for await (const message of channel.messages) {\n",
              "        // Send a message to notify the kernel that we're ready.\n",
              "        channel.send({})\n",
              "        if (message.buffers) {\n",
              "          for (const buffer of message.buffers) {\n",
              "            buffers.push(buffer);\n",
              "            downloaded += buffer.byteLength;\n",
              "            progress.value = downloaded;\n",
              "          }\n",
              "        }\n",
              "      }\n",
              "      const blob = new Blob(buffers, {type: 'application/binary'});\n",
              "      const a = document.createElement('a');\n",
              "      a.href = window.URL.createObjectURL(blob);\n",
              "      a.download = filename;\n",
              "      div.appendChild(a);\n",
              "      a.click();\n",
              "      div.remove();\n",
              "    }\n",
              "  "
            ]
          },
          "metadata": {}
        },
        {
          "output_type": "display_data",
          "data": {
            "text/plain": [
              "<IPython.core.display.Javascript object>"
            ],
            "application/javascript": [
              "download(\"download_832ddc66-9900-4ded-acba-9845c23d9852\", \"checkpoint_epoch_140.pth\", 9797146)"
            ]
          },
          "metadata": {}
        },
        {
          "output_type": "stream",
          "name": "stdout",
          "text": [
            "Epoch 140/150, Train Acc: 58.26%, Val Acc: 46.77%, Test Acc: 48.19%\n",
            "Epoch 140/150, Train Loss: 1.5191, Val Loss: 2.0959, Test Loss: 2.0543\n",
            "Epoch 141/150, Train Acc: 58.40%, Val Acc: 46.33%, Test Acc: 48.23%\n",
            "Epoch 141/150, Train Loss: 1.5206, Val Loss: 2.1001, Test Loss: 2.0559\n",
            "Epoch 142/150, Train Acc: 58.50%, Val Acc: 46.57%, Test Acc: 48.05%\n",
            "Epoch 142/150, Train Loss: 1.5179, Val Loss: 2.0958, Test Loss: 2.0544\n",
            "Epoch 143/150, Train Acc: 58.69%, Val Acc: 46.74%, Test Acc: 48.21%\n",
            "Epoch 143/150, Train Loss: 1.5134, Val Loss: 2.0911, Test Loss: 2.0502\n",
            "Epoch 144/150, Train Acc: 58.64%, Val Acc: 46.85%, Test Acc: 48.05%\n",
            "Epoch 144/150, Train Loss: 1.5120, Val Loss: 2.0907, Test Loss: 2.0500\n",
            "Epoch 145/150, Train Acc: 58.43%, Val Acc: 46.84%, Test Acc: 48.25%\n",
            "Epoch 145/150, Train Loss: 1.5083, Val Loss: 2.0944, Test Loss: 2.0535\n",
            "Epoch 146/150, Train Acc: 58.26%, Val Acc: 46.62%, Test Acc: 48.26%\n",
            "Epoch 146/150, Train Loss: 1.5198, Val Loss: 2.0962, Test Loss: 2.0532\n",
            "Epoch 147/150, Train Acc: 58.88%, Val Acc: 46.76%, Test Acc: 48.23%\n",
            "Epoch 147/150, Train Loss: 1.5042, Val Loss: 2.0933, Test Loss: 2.0509\n",
            "Epoch 148/150, Train Acc: 59.02%, Val Acc: 46.79%, Test Acc: 48.22%\n",
            "Epoch 148/150, Train Loss: 1.5024, Val Loss: 2.0947, Test Loss: 2.0525\n",
            "Epoch 149/150, Train Acc: 58.90%, Val Acc: 46.90%, Test Acc: 48.31%\n",
            "Epoch 149/150, Train Loss: 1.5075, Val Loss: 2.0926, Test Loss: 2.0508\n",
            "Checkpoint saved at epoch 150: ./checkpoint_epoch_150.pth\n"
          ]
        },
        {
          "output_type": "display_data",
          "data": {
            "text/plain": [
              "<IPython.core.display.Javascript object>"
            ],
            "application/javascript": [
              "\n",
              "    async function download(id, filename, size) {\n",
              "      if (!google.colab.kernel.accessAllowed) {\n",
              "        return;\n",
              "      }\n",
              "      const div = document.createElement('div');\n",
              "      const label = document.createElement('label');\n",
              "      label.textContent = `Downloading \"${filename}\": `;\n",
              "      div.appendChild(label);\n",
              "      const progress = document.createElement('progress');\n",
              "      progress.max = size;\n",
              "      div.appendChild(progress);\n",
              "      document.body.appendChild(div);\n",
              "\n",
              "      const buffers = [];\n",
              "      let downloaded = 0;\n",
              "\n",
              "      const channel = await google.colab.kernel.comms.open(id);\n",
              "      // Send a message to notify the kernel that we're ready.\n",
              "      channel.send({})\n",
              "\n",
              "      for await (const message of channel.messages) {\n",
              "        // Send a message to notify the kernel that we're ready.\n",
              "        channel.send({})\n",
              "        if (message.buffers) {\n",
              "          for (const buffer of message.buffers) {\n",
              "            buffers.push(buffer);\n",
              "            downloaded += buffer.byteLength;\n",
              "            progress.value = downloaded;\n",
              "          }\n",
              "        }\n",
              "      }\n",
              "      const blob = new Blob(buffers, {type: 'application/binary'});\n",
              "      const a = document.createElement('a');\n",
              "      a.href = window.URL.createObjectURL(blob);\n",
              "      a.download = filename;\n",
              "      div.appendChild(a);\n",
              "      a.click();\n",
              "      div.remove();\n",
              "    }\n",
              "  "
            ]
          },
          "metadata": {}
        },
        {
          "output_type": "display_data",
          "data": {
            "text/plain": [
              "<IPython.core.display.Javascript object>"
            ],
            "application/javascript": [
              "download(\"download_343bf08b-7f6d-4a33-96ae-3f547b321595\", \"checkpoint_epoch_150.pth\", 9797146)"
            ]
          },
          "metadata": {}
        },
        {
          "output_type": "stream",
          "name": "stdout",
          "text": [
            "Epoch 150/150, Train Acc: 58.99%, Val Acc: 46.78%, Test Acc: 48.30%\n",
            "Epoch 150/150, Train Loss: 1.5055, Val Loss: 2.0921, Test Loss: 2.0505\n"
          ]
        },
        {
          "output_type": "display_data",
          "data": {
            "text/plain": [
              "<Figure size 600x400 with 1 Axes>"
            ],
            "image/png": "[encoded data removed]"
          },
          "metadata": {}
        },
        {
          "output_type": "display_data",
          "data": {
            "text/plain": [
              "<Figure size 600x400 with 1 Axes>"
            ],
            "image/png": "[encoded data removed]"
          },
          "metadata": {}
        },
        {
          "output_type": "display_data",
          "data": {
            "text/plain": [
              "<Figure size 600x400 with 1 Axes>"
            ],
            "image/png": "[encoded data removed]"
          },
          "metadata": {}
        },
        {
          "output_type": "display_data",
          "data": {
            "text/plain": [
              "<Figure size 600x400 with 1 Axes>"
            ],
            "image/png": "[encoded data removed]"
          },
          "metadata": {}
        },
        {
          "output_type": "display_data",
          "data": {
            "text/plain": [
              "<Figure size 600x400 with 1 Axes>"
            ],
            "image/png": "[encoded data removed]"
          },
          "metadata": {}
        },
        {
          "output_type": "display_data",
          "data": {
            "text/plain": [
              "<Figure size 600x400 with 1 Axes>"
            ],
            "image/png": "[encoded data removed]"
          },
          "metadata": {}
        },
        {
          "output_type": "display_data",
          "data": {
            "text/plain": [
              "<Figure size 640x480 with 0 Axes>"
            ]
          },
          "metadata": {}
        }
      ],
      "source": [
        "%run large_batch_training.py --optimizer AdamW --batch-size 256 --weight-decay 1e-1"
      ]
    },
    {
      "cell_type": "code",
      "execution_count": null,
      "metadata": {
        "colab": {
          "base_uri": "https://localhost:8080/"
        },
        "id": "_Y8TL9oBZL18",
        "outputId": "54fc2f89-7e7d-461b-fce6-1f0da7310a06"
      },
      "outputs": [
        {
          "name": "stdout",
          "output_type": "stream",
          "text": [
            "Files already downloaded and verified\n",
            "Files already downloaded and verified\n",
            "--- Train with LARS ---\n"
          ]
        }
      ],
      "source": [
        "%run large_batch_training.py --optimizer LARS --batch-size 128 --weight-decay 4e-4"
      ]
    },
    {
      "cell_type": "code",
      "execution_count": null,
      "metadata": {
        "colab": {
          "base_uri": "https://localhost:8080/"
        },
        "id": "K_XY2BkhZOkY",
        "outputId": "544d096d-8fe3-4a77-f80b-1d489b5b49f3"
      },
      "outputs": [
        {
          "name": "stdout",
          "output_type": "stream",
          "text": [
            "Downloading https://www.cs.toronto.edu/~kriz/cifar-100-python.tar.gz to ./data/cifar-100-python.tar.gz\n"
          ]
        },
        {
          "name": "stderr",
          "output_type": "stream",
          "text": [
            "100%|██████████| 169M/169M [00:13<00:00, 12.9MB/s]\n"
          ]
        },
        {
          "name": "stdout",
          "output_type": "stream",
          "text": [
            "Extracting ./data/cifar-100-python.tar.gz to ./data\n",
            "Files already downloaded and verified\n",
            "Files already downloaded and verified\n",
            "Files already downloaded and verified\n",
            "--- Train with LAMB ---\n"
          ]
        },
        {
          "name": "stderr",
          "output_type": "stream",
          "text": [
            "/content/large_batch_training.py:160: UserWarning: This overload of add_ is deprecated:\n",
            "\tadd_(Number alpha, Tensor other)\n",
            "Consider using one of the following signatures instead:\n",
            "\tadd_(Tensor other, *, Number alpha = 1) (Triggered internally at ../torch/csrc/utils/python_arg_parser.cpp:1642.)\n",
            "  p.data.add_(-group['lr'] * trust_ratio, update)\n"
          ]
        },
        {
          "name": "stdout",
          "output_type": "stream",
          "text": [
            "Epoch 1/150, Train Acc: 1.37%, Val Acc: 2.22%, Test Acc: 1.85%\n",
            "Epoch 1/150, Train Loss: 4.6006, Val Loss: 4.5859, Test Loss: 4.5872\n",
            "Epoch 2/150, Train Acc: 2.80%, Val Acc: 4.85%, Test Acc: 3.54%\n",
            "Epoch 2/150, Train Loss: 4.5308, Val Loss: 4.3883, Test Loss: 4.4029\n",
            "Epoch 3/150, Train Acc: 5.07%, Val Acc: 7.16%, Test Acc: 6.44%\n",
            "Epoch 3/150, Train Loss: 4.3087, Val Loss: 4.1121, Test Loss: 4.1572\n",
            "Epoch 4/150, Train Acc: 6.55%, Val Acc: 8.58%, Test Acc: 8.44%\n",
            "Epoch 4/150, Train Loss: 4.1789, Val Loss: 4.0101, Test Loss: 4.0461\n",
            "Warmup phase completed at epoch 5. Switching to constant learning rate.\n",
            "Epoch 5/150, Train Acc: 7.71%, Val Acc: 10.98%, Test Acc: 10.01%\n",
            "Epoch 5/150, Train Loss: 4.1004, Val Loss: 3.9210, Test Loss: 3.9642\n"
          ]
        }
      ],
      "source": [
        "%run large_batch_training.py --optimizer LAMB --batch-size 128 --weight-decay 1e-2"
      ]
    }
  ],
  "metadata": {
    "accelerator": "GPU",
    "colab": {
      "gpuType": "T4",
      "provenance": []
    },
    "kernelspec": {
      "display_name": "Python 3",
      "name": "python3"
    },
    "language_info": {
      "name": "python"
    }
  },
  "nbformat": 4,
  "nbformat_minor": 0
}