{
  "cells": [
    {
      "cell_type": "code",
      "execution_count": 5,
      "metadata": {
        "colab": {
          "base_uri": "https://localhost:8080/"
        },
        "id": "LtOx0ESVnO0u",
        "outputId": "e06a8e8f-f518-4505-dacc-5424c4baca0d"
      },
      "outputs": [
        {
          "output_type": "stream",
          "name": "stdout",
          "text": [
            "Overwriting large_batch_training.py\n"
          ]
        }
      ],
      "source": [
        "%%writefile large_batch_training.py\n",
        "\n",
        "import os\n",
        "import numpy as np\n",
        "import torch\n",
        "import torch.nn as nn\n",
        "import torch.optim as optim\n",
        "import torchvision\n",
        "import torchvision.transforms as transforms\n",
        "import matplotlib.pyplot as plt\n",
        "import argparse\n",
        "from torch.utils.data import random_split\n",
        "from google.colab import files\n",
        "\n",
        "def compute_mean_std(dataset):\n",
        "    \"\"\"Compute the mean and std of CIFAR-100 dataset.\n",
        "\n",
        "    Args:\n",
        "        dataset: A dataset derived from `torch.utils.data.Dataset`,\n",
        "                 such as `cifar100_training_dataset` or `cifar100_test_dataset`.\n",
        "\n",
        "    Returns:\n",
        "        A tuple containing (mean, std) for the entire dataset.\n",
        "    \"\"\"\n",
        "\n",
        "    # Extract images and labels\n",
        "    data_r = np.stack([np.array(dataset[i][0])[:, :, 0] for i in range(len(dataset))])\n",
        "    data_g = np.stack([np.array(dataset[i][0])[:, :, 1] for i in range(len(dataset))])\n",
        "    data_b = np.stack([np.array(dataset[i][0])[:, :, 2] for i in range(len(dataset))])\n",
        "\n",
        "    # Compute mean and std\n",
        "    mean = np.mean(data_r), np.mean(data_g), np.mean(data_b)\n",
        "    std = np.std(data_r), np.std(data_g), np.std(data_b)\n",
        "\n",
        "    return mean, std\n",
        "\n",
        "# Define LeNet-5 architecture\n",
        "class LeNet5(nn.Module):\n",
        "    def __init__(self):\n",
        "        super(LeNet5, self).__init__()\n",
        "        self.conv1 = nn.Conv2d(3, 64, 5)\n",
        "        self.relu1 = nn.ReLU()\n",
        "        self.pool1 = nn.MaxPool2d(2, 2)\n",
        "        self.conv2 = nn.Conv2d(64, 64, 5)\n",
        "        self.relu2 = nn.ReLU()\n",
        "        self.pool2 = nn.MaxPool2d(2, 2)\n",
        "        self.fc1 = nn.Linear(64 * 5 * 5, 384)\n",
        "        self.relu3 = nn.ReLU()\n",
        "        self.fc2 = nn.Linear(384, 192)\n",
        "        self.relu4 = nn.ReLU()\n",
        "        self.fc3 = nn.Linear(192, 100)\n",
        "\n",
        "    def forward(self, x):\n",
        "        x = self.pool1(self.relu1(self.conv1(x)))\n",
        "        x = self.pool2(self.relu2(self.conv2(x)))\n",
        "        x = x.view(-1, 64 * 5 * 5)\n",
        "        x = self.relu3(self.fc1(x))\n",
        "        x = self.relu4(self.fc2(x))\n",
        "        x = self.fc3(x)\n",
        "        return x\n",
        "\n",
        "# Device setup\n",
        "device = torch.device(\"cuda:0\" if torch.cuda.is_available() else \"cpu\")\n",
        "\n",
        "# Initialize model\n",
        "net = LeNet5().to(device)\n",
        "\n",
        "# Optimizer Subclasses\n",
        "class LARS(optim.Optimizer):\n",
        "    def __init__(self, params, lr, momentum=0.9, weight_decay=0, trust_coefficient=0.001):\n",
        "        # Initialize the optimizer with the learning rate, momentum, weight decay, and trust coefficient\n",
        "        defaults = dict(lr=lr, momentum=momentum, weight_decay=weight_decay, trust_coefficient=trust_coefficient)\n",
        "        super(LARS, self).__init__(params, defaults)\n",
        "\n",
        "    def step(self, closure=None):\n",
        "        loss = None\n",
        "        if closure is not None:\n",
        "            # If a closure is provided, evaluate it (commonly used for re-evaluating loss)\n",
        "            loss = closure()\n",
        "        for group in self.param_groups:\n",
        "            for p in group['params']:\n",
        "                if p.grad is None:\n",
        "                   # Skip parameters that have no gradient\n",
        "                    continue\n",
        "                grad = p.grad.data # Get the gradient of the parameter\n",
        "                # Retrieve or initialize the optimizer's internal state\n",
        "                state = self.state[p]\n",
        "                if len(state) == 0:\n",
        "                    state['momentum_buffer'] = torch.clone(grad).detach()\n",
        "                # Apply weight decay directly to the gradient\n",
        "                if group['weight_decay'] != 0:\n",
        "                    grad.add_(p.data, alpha=group['weight_decay'])\n",
        "                # Compute the norms of the parameter and its gradient\n",
        "                param_norm = torch.norm(p.data)\n",
        "                grad_norm = torch.norm(grad)\n",
        "                # Compute local learning rate based on the trust coefficient and norms\n",
        "                if param_norm > 0 and grad_norm > 0:\n",
        "                    local_lr = group['trust_coefficient'] * param_norm / (grad_norm + 1e-8)\n",
        "                    grad = grad.mul(local_lr) # Scale the gradient with the local learning rate\n",
        "                # Update the momentum buffer\n",
        "                momentum_buffer = state['momentum_buffer']\n",
        "                momentum_buffer.mul_(group['momentum']).add_(grad) #Momentum update\n",
        "                state['momentum_buffer'] = momentum_buffer\n",
        "                # Update the parameter\n",
        "                p.data.add_(momentum_buffer, alpha=-group['lr']) # Gradient descent step with learning rate\n",
        "        return loss\n",
        "\n",
        "class LAMB(optim.Optimizer):\n",
        "    def __init__(self, params, lr, weight_decay=0, betas=(0.9, 0.999), eps=1e-8):\n",
        "        # Initialize the optimizer with learning rate, weight decay, betas for moment updates, and epsilon for stability\n",
        "        defaults = dict(lr=lr, weight_decay=weight_decay, betas=betas, eps=eps)\n",
        "        super(LAMB, self).__init__(params, defaults)\n",
        "\n",
        "    def step(self, closure=None):\n",
        "        loss = None\n",
        "        if closure is not None:\n",
        "            # If a closure is provided, evaluate it\n",
        "            loss = closure()\n",
        "        for group in self.param_groups:\n",
        "            for p in group['params']:\n",
        "                if p.grad is None:\n",
        "                    # Skip parameters that have no gradient\n",
        "                    continue\n",
        "                grad = p.grad.data # Get the gradient of the parameter\n",
        "                # Retrieve or initialize the optimizer's internal state\n",
        "                state = self.state[p]\n",
        "                # Initialize state\n",
        "                if len(state) == 0:\n",
        "                    # Initialize the state (step counter, first moment, second moment)\n",
        "                    state['step'] = 0\n",
        "                    state['exp_avg'] = torch.zeros_like(p.data) # First moment (mean of gradients)\n",
        "                    state['exp_avg_sq'] = torch.zeros_like(p.data) # Second moment (mean of squared gradients)\n",
        "                exp_avg = state['exp_avg']\n",
        "                exp_avg_sq = state['exp_avg_sq']\n",
        "                beta1, beta2 = group['betas']  # Coefficients for moment updates\n",
        "                state['step'] += 1 # Increment step count\n",
        "                step = state['step']\n",
        "                # Decay the first and second moment running average coefficients\n",
        "                # Update first and second moments\n",
        "                exp_avg.mul_(beta1).add_(grad, alpha=1 - beta1) # Exponential moving average of gradients\n",
        "                exp_avg_sq.mul_(beta2).addcmul_(grad, grad, value=1 - beta2) # Exponential moving average of squared gradients\n",
        "                # Correct bias in the first and second moments\n",
        "                bias_correction1 = 1 - beta1 ** step\n",
        "                bias_correction2 = 1 - beta2 ** step\n",
        "                corrected_exp_avg = exp_avg / bias_correction1\n",
        "                corrected_exp_avg_sq = exp_avg_sq / bias_correction2\n",
        "                # Compute the denominator for scaling the update\n",
        "                denom = corrected_exp_avg_sq.sqrt().add_(group['eps']) # Stability epsilon\n",
        "                # Compute the step update\n",
        "                update = corrected_exp_avg / denom\n",
        "                # Apply weight decay directly to the parameters\n",
        "                if group['weight_decay'] != 0:\n",
        "                    update.add_(p.data, alpha=group['weight_decay'])\n",
        "                # Compute the trust ratio (norm of parameters vs norm of update)\n",
        "                param_norm = torch.norm(p.data)\n",
        "                update_norm = torch.norm(update)\n",
        "                trust_ratio = 1.0  # Default trust ratio\n",
        "                if param_norm > 0 and update_norm > 0:\n",
        "                    trust_ratio = param_norm / update_norm\n",
        "                # Update the parameters\n",
        "                p.data.add_(update, alpha=-group['lr'] * trust_ratio)\n",
        "        return loss\n",
        "\n",
        "class SqrtLRScheduler(torch.optim.lr_scheduler._LRScheduler):\n",
        "    def __init__(self, optimizer, base_lr, batch_size, warmup_epochs, total_epochs, reference_batch_size, verbose=False):\n",
        "        \"\"\"\n",
        "        Args:\n",
        "            optimizer: PyTorch optimizer (e.g., Adam, LAMB, LARS).\n",
        "            base_lr: Base learning rate for the reference batch size.\n",
        "            batch_size: Current batch size.\n",
        "            warmup_epochs: Number of warmup epochs.\n",
        "            total_epochs: Total number of epochs.\n",
        "            reference_batch_size: Batch size for which the base_lr is defined.\n",
        "            verbose: Whether to print LR updates.\n",
        "        \"\"\"\n",
        "        self.base_lr = base_lr\n",
        "        self.batch_size = batch_size\n",
        "        self.scaled_lr = base_lr * (batch_size / reference_batch_size) ** 0.5\n",
        "        self.warmup_epochs = warmup_epochs\n",
        "        self.total_epochs = total_epochs\n",
        "        self.verbose = verbose\n",
        "        super(SqrtLRScheduler, self).__init__(optimizer)\n",
        "\n",
        "    def get_lr(self):\n",
        "        epoch = self.last_epoch\n",
        "        if epoch < self.warmup_epochs:\n",
        "            # Linear warmup scaling\n",
        "            warmup_factor = (epoch + 1) / self.warmup_epochs\n",
        "            return [warmup_factor * self.scaled_lr for _ in self.optimizer.param_groups]\n",
        "        else:\n",
        "            # polynomially decaying learning rate of ηt = η0×(1−t/T)\n",
        "            if epoch == self.warmup_epochs:\n",
        "                print(f\"Warmup phase completed at epoch {epoch}. Switching to constant learning rate.\")\n",
        "            return [self.scaled_lr * ( 1 - ( (epoch - self.warmup_epochs) / (self.total_epochs - self.warmup_epochs))) for _ in self.optimizer.param_groups]\n",
        "\n",
        "# Command-line arguments\n",
        "parser = argparse.ArgumentParser(description='Train with Large-Batch Optimizers')\n",
        "parser.add_argument('--optimizer', type=str, default='SGDM', choices=['SGDM', 'AdamW', 'LARS', 'LAMB'],\n",
        "                    help='Choose optimizer')\n",
        "parser.add_argument('--batch-size', type=int, default=128, help='Batch size')\n",
        "parser.add_argument('--momentum', type=float, default=0.9, help='Momentum for SGDM and LARS')\n",
        "parser.add_argument('--weight-decay', type=float, default=1e-5, help='Weight decay')\n",
        "parser.add_argument('--b1', type=float, default=0.9, help='Beta1 for AdamW')\n",
        "parser.add_argument('--b2', type=float, default=0.999, help='Beta2 for AdamW')\n",
        "parser.add_argument('--trust-coefficient', type=float, default=0.001, help='Trust coefficient for LARS')\n",
        "parser.add_argument('--epochs', type=int, default=150, help='Number of epochs')\n",
        "parser.add_argument('--warmup-epochs', type=int, default=5, help='Number of epochs')\n",
        "args = parser.parse_args()\n",
        "\n",
        "\n",
        "torch.manual_seed(42) # Set the seed for reproducibility\n",
        "torch.cuda.manual_seed_all(42) # Set the seed for reproducibility on GPU\n",
        "\n",
        "# use the same mean and std to add consistency to all datasets\n",
        "data = torchvision.datasets.CIFAR100(root='./data', train=True, download=True, transform=transforms.ToTensor())\n",
        "mean, std = compute_mean_std(data)\n",
        "\n",
        "# Load and split CIFAR-100 dataset\n",
        "train_transform = transforms.Compose([\n",
        "  transforms.RandomCrop(32, padding=4),\n",
        "  transforms.RandomHorizontalFlip(),\n",
        "  transforms.ToTensor(),\n",
        "  transforms.Normalize(mean, std)\n",
        "])\n",
        "\n",
        "val_transform = transforms.Compose([\n",
        "    transforms.ToTensor(), # Convert into tensor\n",
        "    transforms.Normalize(mean, std)  # Normalization\n",
        "])\n",
        "\n",
        "test_transform = transforms.Compose([\n",
        "    transforms.ToTensor(),  # Convert to PyTorch tensor\n",
        "    transforms.Normalize(mean, std)\n",
        "])\n",
        "\n",
        "trainset = torchvision.datasets.CIFAR100(root='./data', train=True, download=True, transform=train_transform)\n",
        "valset = torchvision.datasets.CIFAR100(root='./data', train=True, download=True, transform=val_transform)\n",
        "indices = torch.randperm(len(trainset))\n",
        "val_size = int(0.2*len(trainset))\n",
        "trainset = torch.utils.data.Subset(trainset, indices[:-val_size])\n",
        "valset = torch.utils.data.Subset(valset, indices[-val_size:])\n",
        "\n",
        "trainloader = torch.utils.data.DataLoader(trainset, batch_size=args.batch_size, shuffle=True, num_workers=2)\n",
        "valloader = torch.utils.data.DataLoader(valset, batch_size=args.batch_size, shuffle=False, num_workers=2)\n",
        "\n",
        "testset = torchvision.datasets.CIFAR100(root='./data', train=False, download=True, transform=test_transform)\n",
        "testloader = torch.utils.data.DataLoader(testset, batch_size=args.batch_size, shuffle=False, num_workers=2)\n",
        "\n",
        "\n",
        "# Fixed parameter from paper [18] to calculate the square root LR scaling value\n",
        "# base_lr = 5 / (2**3 * 10**3)\n",
        "# reference_batch_size = 512\n",
        "#scaled_lr = base_lr * (args.batch_size / reference_batch_size) ** 0.5\n",
        "\n",
        "# Mapping optimizers\n",
        "if args.optimizer == 'SGDM':\n",
        "    base_lr = 1e-2\n",
        "    reference_batch_size = 64\n",
        "    scaled_lr = base_lr * (args.batch_size / reference_batch_size) ** 0.5\n",
        "    optimizer = optim.SGD(net.parameters(), lr=scaled_lr, momentum=args.momentum, weight_decay=args.weight_decay)\n",
        "elif args.optimizer == 'AdamW':\n",
        "    base_lr = 1e-4\n",
        "    reference_batch_size = 64\n",
        "    scaled_lr = base_lr * (args.batch_size / reference_batch_size) ** 0.5\n",
        "    optimizer = optim.AdamW(net.parameters(), lr=scaled_lr, betas=(args.b1, args.b2), weight_decay=args.weight_decay)\n",
        "elif args.optimizer == 'LARS':\n",
        "    base_lr = 5e-1\n",
        "    reference_batch_size = 64\n",
        "    scaled_lr = base_lr * (args.batch_size / reference_batch_size) ** 0.5\n",
        "    optimizer = LARS(net.parameters(), lr=scaled_lr, momentum=args.momentum, weight_decay=args.weight_decay, trust_coefficient=args.trust_coefficient)\n",
        "elif args.optimizer == 'LAMB':\n",
        "    base_lr = 5e-4\n",
        "    reference_batch_size = 64\n",
        "    scaled_lr = base_lr * (args.batch_size / reference_batch_size) ** 0.5\n",
        "    optimizer = LAMB(net.parameters(), lr=scaled_lr, weight_decay=args.weight_decay)\n",
        "\n",
        "criterion = nn.CrossEntropyLoss()\n",
        "\n",
        "# scheduler should be e square root LR scaling rule and linear-epoch warmup scheduling to automatically adjust learning rate\n",
        "scheduler = SqrtLRScheduler(\n",
        "    optimizer = optimizer,\n",
        "    base_lr = base_lr,\n",
        "    batch_size = args.batch_size,\n",
        "    warmup_epochs = args.warmup_epochs,\n",
        "    total_epochs = args.epochs,\n",
        "    reference_batch_size = reference_batch_size,\n",
        "    verbose = True)\n",
        "\n",
        "# Training Function\n",
        "def train_model(optimizer, scheduler, model, criterion, trainloader, valloader , testloader, device, epochs, save_checkpoint_interval=10):\n",
        "    train_losses, val_losses, test_losses = [], [], []\n",
        "    train_accuracies, val_accuracies, test_accuracies = [], [], []\n",
        "    for epoch in range(epochs):\n",
        "        model.train()\n",
        "        running_loss, correct_train, total_train = 0.0, 0, 0\n",
        "        for inputs, labels in trainloader:\n",
        "            inputs, labels = inputs.to(device), labels.to(device)\n",
        "            optimizer.zero_grad()\n",
        "            outputs = model(inputs)\n",
        "            loss = criterion(outputs, labels)\n",
        "            loss.backward()\n",
        "            optimizer.step()\n",
        "            running_loss += loss.item()\n",
        "            _, predicted = outputs.max(1)\n",
        "            total_train += labels.size(0)\n",
        "            correct_train += predicted.eq(labels).sum().item()\n",
        "        train_loss = running_loss / len(trainloader)\n",
        "        train_accuracy = 100. * correct_train / total_train\n",
        "        train_losses.append(train_loss)\n",
        "        train_accuracies.append(train_accuracy)\n",
        "\n",
        "        # Validation\n",
        "        model.eval()\n",
        "        correct_val, total_val, val_loss = 0, 0, 0.0\n",
        "        with torch.no_grad():\n",
        "            for inputs, labels in valloader:\n",
        "                inputs, labels = inputs.to(device), labels.to(device)\n",
        "                outputs = model(inputs)\n",
        "                loss = criterion(outputs, labels)\n",
        "                val_loss += loss.item()\n",
        "                _, predicted = outputs.max(1)\n",
        "                total_val += labels.size(0)\n",
        "                correct_val += predicted.eq(labels).sum().item()\n",
        "        val_loss /= len(valloader)\n",
        "        val_losses.append(val_loss)\n",
        "        val_accuracy = 100. * correct_val / total_val\n",
        "        val_accuracies.append(val_accuracy)\n",
        "\n",
        "        '''\n",
        "        # Early Stopping\n",
        "        if val_loss < best_val_loss:\n",
        "          best_val_loss = val_loss\n",
        "          epochs_no_improve = 0\n",
        "        else:\n",
        "          epochs_no_improve += 1\n",
        "\n",
        "        if epochs_no_improve == patience:\n",
        "          print(\"Early stopping!\")\n",
        "          break\n",
        "        '''\n",
        "\n",
        "        # Test\n",
        "        correct_test, total_test, test_loss = 0, 0, 0.0\n",
        "        with torch.no_grad():\n",
        "            for inputs, labels in testloader:\n",
        "                inputs, labels = inputs.to(device), labels.to(device)\n",
        "                outputs = model(inputs)\n",
        "                loss = criterion(outputs, labels)\n",
        "                test_loss += loss.item()\n",
        "                _, predicted = outputs.max(1)\n",
        "                total_test += labels.size(0)\n",
        "                correct_test += predicted.eq(labels).sum().item()\n",
        "        test_loss /= len(testloader)\n",
        "        test_losses.append(test_loss)\n",
        "        test_accuracy = 100. * correct_test / total_test\n",
        "        test_accuracies.append(test_accuracy)\n",
        "\n",
        "        scheduler.step()\n",
        "\n",
        "        # Checkpointing\n",
        "        if (epoch + 1) % save_checkpoint_interval == 0:\n",
        "            checkpoint_filename = f'checkpoint_epoch_{epoch + 1}.pth'\n",
        "            checkpoint = {\n",
        "                'epoch': epoch + 1,\n",
        "                'model_state_dict': model.state_dict(),\n",
        "                'optimizer_state_dict': optimizer.state_dict(),\n",
        "                'scheduler_state_dict': scheduler.state_dict(),\n",
        "                'loss': loss.item(),\n",
        "            }\n",
        "            checkpoint_path = os.path.join('./', checkpoint_filename)\n",
        "            torch.save(checkpoint, checkpoint_path)\n",
        "            print(f'Checkpoint saved at epoch {epoch + 1}: {checkpoint_path}')\n",
        "\n",
        "            # Download the checkpoint\n",
        "            files.download(checkpoint_filename)\n",
        "\n",
        "        print(f'Epoch {epoch+1}/{epochs}, Train Acc: {train_accuracy:.2f}%, Val Acc: {val_accuracy:.2f}%, Test Acc: {test_accuracy:.2f}%')\n",
        "        print(f'Epoch {epoch+1}/{epochs}, Train Loss: {train_loss:.4f}, Val Loss: {val_loss:.4f}, Test Loss: {test_loss:.4f}')\n",
        "\n",
        "    return train_losses, val_losses, test_losses, train_accuracies, val_accuracies, test_accuracies\n",
        "\n",
        "# Train the model\n",
        "print(f\"--- Train with {args.optimizer} ---\")\n",
        "train_loss, val_loss, test_loss, train_acc, val_acc, test_acc = train_model(optimizer, scheduler, net, criterion, trainloader, valloader, testloader, device, args.epochs)\n",
        "\n",
        "# Save model\n",
        "torch.save(net.state_dict(), f'net_{args.optimizer}.pth')\n",
        "\n",
        "# Plot results\n",
        "# Plot Training Loss\n",
        "plt.figure(figsize=(6, 4))\n",
        "plt.plot(train_loss, label='Train Loss')\n",
        "plt.title('Training Loss')\n",
        "plt.xlabel('Epoch')\n",
        "plt.ylabel('Loss')\n",
        "plt.legend()\n",
        "plt.tight_layout()\n",
        "plt.savefig('train_loss.png')\n",
        "plt.show()\n",
        "\n",
        "# Plot Training Accuracy\n",
        "plt.figure(figsize=(6, 4))\n",
        "plt.plot(train_acc, label='Train Accuracy')\n",
        "plt.title('Training Accuracy')\n",
        "plt.xlabel('Epoch')\n",
        "plt.ylabel('Accuracy (%)')\n",
        "plt.legend()\n",
        "plt.tight_layout()\n",
        "plt.savefig('train_accuracy.png')\n",
        "plt.show()\n",
        "\n",
        "# Plot Validation Loss\n",
        "plt.figure(figsize=(6, 4))\n",
        "plt.plot(val_loss, label='Validation Loss')\n",
        "plt.title('Validation Loss')\n",
        "plt.xlabel('Epoch')\n",
        "plt.ylabel('Loss')\n",
        "plt.legend()\n",
        "plt.tight_layout()\n",
        "plt.savefig('val_loss.png')\n",
        "plt.show()\n",
        "\n",
        "# Plot Validation Accuracy\n",
        "plt.figure(figsize=(6, 4))\n",
        "plt.plot(val_acc, label='Validation Accuracy')\n",
        "plt.title('Validation Accuracy')\n",
        "plt.xlabel('Epoch')\n",
        "plt.ylabel('Accuracy (%)')\n",
        "plt.legend()\n",
        "plt.tight_layout()\n",
        "plt.savefig('val_accuracy.png')\n",
        "plt.show()\n",
        "\n",
        "# Plot Test Loss\n",
        "plt.figure(figsize=(6, 4))\n",
        "plt.plot(test_loss, label='Test Loss')\n",
        "plt.title('Test Loss')\n",
        "plt.xlabel('Epoch')\n",
        "plt.ylabel('Loss')\n",
        "plt.legend()\n",
        "plt.tight_layout()\n",
        "plt.savefig('test_loss.png')\n",
        "plt.show()\n",
        "\n",
        "# Plot Test Accuracy\n",
        "plt.figure(figsize=(6, 4))\n",
        "plt.plot(test_acc, label='Test Accuracy')\n",
        "plt.title('Test Accuracy')\n",
        "plt.xlabel('Epoch')\n",
        "plt.ylabel('Accuracy (%)')\n",
        "plt.legend()\n",
        "plt.tight_layout()\n",
        "plt.savefig('test_accuracy.png')\n",
        "plt.show()\n"
      ]
    },
    {
      "cell_type": "code",
      "execution_count": null,
      "metadata": {
        "colab": {
          "base_uri": "https://localhost:8080/",
          "height": 460
        },
        "id": "_hEcpkQqYJmP",
        "outputId": "054cca2f-8701-4830-ae1c-4f1fc306c8c1"
      },
      "outputs": [
        {
          "name": "stdout",
          "output_type": "stream",
          "text": [
            "Files already downloaded and verified\n",
            "Files already downloaded and verified\n",
            "Files already downloaded and verified\n",
            "Files already downloaded and verified\n",
            "--- Train with SGDM ---\n"
          ]
        },
        {
          "ename": "KeyboardInterrupt",
          "evalue": "",
          "output_type": "error",
          "traceback": [
            "\u001b[0;31m---------------------------------------------------------------------------\u001b[0m",
            "\u001b[0;31mKeyboardInterrupt\u001b[0m                         Traceback (most recent call last)",
            "\u001b[0;32m/content/large_batch_training.py\u001b[0m in \u001b[0;36m<module>\u001b[0;34m\u001b[0m\n\u001b[1;32m    385\u001b[0m \u001b[0;31m# Train the model\u001b[0m\u001b[0;34m\u001b[0m\u001b[0;34m\u001b[0m\u001b[0m\n\u001b[1;32m    386\u001b[0m \u001b[0mprint\u001b[0m\u001b[0;34m(\u001b[0m\u001b[0;34mf\"--- Train with {args.optimizer} ---\"\u001b[0m\u001b[0;34m)\u001b[0m\u001b[0;34m\u001b[0m\u001b[0;34m\u001b[0m\u001b[0m\n\u001b[0;32m--> 387\u001b[0;31m \u001b[0mtrain_loss\u001b[0m\u001b[0;34m,\u001b[0m \u001b[0mval_loss\u001b[0m\u001b[0;34m,\u001b[0m \u001b[0mtest_loss\u001b[0m\u001b[0;34m,\u001b[0m \u001b[0mtrain_acc\u001b[0m\u001b[0;34m,\u001b[0m \u001b[0mval_acc\u001b[0m\u001b[0;34m,\u001b[0m \u001b[0mtest_acc\u001b[0m \u001b[0;34m=\u001b[0m \u001b[0mtrain_model\u001b[0m\u001b[0;34m(\u001b[0m\u001b[0moptimizer\u001b[0m\u001b[0;34m,\u001b[0m \u001b[0mscheduler\u001b[0m\u001b[0;34m,\u001b[0m \u001b[0mnet\u001b[0m\u001b[0;34m,\u001b[0m \u001b[0mcriterion\u001b[0m\u001b[0;34m,\u001b[0m \u001b[0mtrainloader\u001b[0m\u001b[0;34m,\u001b[0m \u001b[0mvalloader\u001b[0m\u001b[0;34m,\u001b[0m \u001b[0mtestloader\u001b[0m\u001b[0;34m,\u001b[0m \u001b[0mdevice\u001b[0m\u001b[0;34m,\u001b[0m \u001b[0margs\u001b[0m\u001b[0;34m.\u001b[0m\u001b[0mepochs\u001b[0m\u001b[0;34m)\u001b[0m\u001b[0;34m\u001b[0m\u001b[0;34m\u001b[0m\u001b[0m\n\u001b[0m\u001b[1;32m    388\u001b[0m \u001b[0;34m\u001b[0m\u001b[0m\n\u001b[1;32m    389\u001b[0m \u001b[0;31m# Save model\u001b[0m\u001b[0;34m\u001b[0m\u001b[0;34m\u001b[0m\u001b[0m\n",
            "\u001b[0;32m/content/large_batch_training.py\u001b[0m in \u001b[0;36mtrain_model\u001b[0;34m(optimizer, scheduler, model, criterion, trainloader, valloader, testloader, device, epochs, save_checkpoint_interval)\u001b[0m\n\u001b[1;32m    297\u001b[0m         \u001b[0mmodel\u001b[0m\u001b[0;34m.\u001b[0m\u001b[0mtrain\u001b[0m\u001b[0;34m(\u001b[0m\u001b[0;34m)\u001b[0m\u001b[0;34m\u001b[0m\u001b[0;34m\u001b[0m\u001b[0m\n\u001b[1;32m    298\u001b[0m         \u001b[0mrunning_loss\u001b[0m\u001b[0;34m,\u001b[0m \u001b[0mcorrect_train\u001b[0m\u001b[0;34m,\u001b[0m \u001b[0mtotal_train\u001b[0m \u001b[0;34m=\u001b[0m \u001b[0;36m0.0\u001b[0m\u001b[0;34m,\u001b[0m \u001b[0;36m0\u001b[0m\u001b[0;34m,\u001b[0m \u001b[0;36m0\u001b[0m\u001b[0;34m\u001b[0m\u001b[0;34m\u001b[0m\u001b[0m\n\u001b[0;32m--> 299\u001b[0;31m         \u001b[0;32mfor\u001b[0m \u001b[0minputs\u001b[0m\u001b[0;34m,\u001b[0m \u001b[0mlabels\u001b[0m \u001b[0;32min\u001b[0m \u001b[0mtrainloader\u001b[0m\u001b[0;34m:\u001b[0m\u001b[0;34m\u001b[0m\u001b[0;34m\u001b[0m\u001b[0m\n\u001b[0m\u001b[1;32m    300\u001b[0m             \u001b[0minputs\u001b[0m\u001b[0;34m,\u001b[0m \u001b[0mlabels\u001b[0m \u001b[0;34m=\u001b[0m \u001b[0minputs\u001b[0m\u001b[0;34m.\u001b[0m\u001b[0mto\u001b[0m\u001b[0;34m(\u001b[0m\u001b[0mdevice\u001b[0m\u001b[0;34m)\u001b[0m\u001b[0;34m,\u001b[0m \u001b[0mlabels\u001b[0m\u001b[0;34m.\u001b[0m\u001b[0mto\u001b[0m\u001b[0;34m(\u001b[0m\u001b[0mdevice\u001b[0m\u001b[0;34m)\u001b[0m\u001b[0;34m\u001b[0m\u001b[0;34m\u001b[0m\u001b[0m\n\u001b[1;32m    301\u001b[0m             \u001b[0moptimizer\u001b[0m\u001b[0;34m.\u001b[0m\u001b[0mzero_grad\u001b[0m\u001b[0;34m(\u001b[0m\u001b[0;34m)\u001b[0m\u001b[0;34m\u001b[0m\u001b[0;34m\u001b[0m\u001b[0m\n",
            "\u001b[0;32m/usr/local/lib/python3.10/dist-packages/torch/utils/data/dataloader.py\u001b[0m in \u001b[0;36m__next__\u001b[0;34m(self)\u001b[0m\n\u001b[1;32m    699\u001b[0m                 \u001b[0;31m# TODO(https://github.com/pytorch/pytorch/issues/76750)\u001b[0m\u001b[0;34m\u001b[0m\u001b[0;34m\u001b[0m\u001b[0m\n\u001b[1;32m    700\u001b[0m                 \u001b[0mself\u001b[0m\u001b[0;34m.\u001b[0m\u001b[0m_reset\u001b[0m\u001b[0;34m(\u001b[0m\u001b[0;34m)\u001b[0m  \u001b[0;31m# type: ignore[call-arg]\u001b[0m\u001b[0;34m\u001b[0m\u001b[0;34m\u001b[0m\u001b[0m\n\u001b[0;32m--> 701\u001b[0;31m             \u001b[0mdata\u001b[0m \u001b[0;34m=\u001b[0m \u001b[0mself\u001b[0m\u001b[0;34m.\u001b[0m\u001b[0m_next_data\u001b[0m\u001b[0;34m(\u001b[0m\u001b[0;34m)\u001b[0m\u001b[0;34m\u001b[0m\u001b[0;34m\u001b[0m\u001b[0m\n\u001b[0m\u001b[1;32m    702\u001b[0m             \u001b[0mself\u001b[0m\u001b[0;34m.\u001b[0m\u001b[0m_num_yielded\u001b[0m \u001b[0;34m+=\u001b[0m \u001b[0;36m1\u001b[0m\u001b[0;34m\u001b[0m\u001b[0;34m\u001b[0m\u001b[0m\n\u001b[1;32m    703\u001b[0m             if (\n",
            "\u001b[0;32m/usr/local/lib/python3.10/dist-packages/torch/utils/data/dataloader.py\u001b[0m in \u001b[0;36m_next_data\u001b[0;34m(self)\u001b[0m\n\u001b[1;32m   1446\u001b[0m \u001b[0;34m\u001b[0m\u001b[0m\n\u001b[1;32m   1447\u001b[0m             \u001b[0;32massert\u001b[0m \u001b[0;32mnot\u001b[0m \u001b[0mself\u001b[0m\u001b[0;34m.\u001b[0m\u001b[0m_shutdown\u001b[0m \u001b[0;32mand\u001b[0m \u001b[0mself\u001b[0m\u001b[0;34m.\u001b[0m\u001b[0m_tasks_outstanding\u001b[0m \u001b[0;34m>\u001b[0m \u001b[0;36m0\u001b[0m\u001b[0;34m\u001b[0m\u001b[0;34m\u001b[0m\u001b[0m\n\u001b[0;32m-> 1448\u001b[0;31m             \u001b[0midx\u001b[0m\u001b[0;34m,\u001b[0m \u001b[0mdata\u001b[0m \u001b[0;34m=\u001b[0m \u001b[0mself\u001b[0m\u001b[0;34m.\u001b[0m\u001b[0m_get_data\u001b[0m\u001b[0;34m(\u001b[0m\u001b[0;34m)\u001b[0m\u001b[0;34m\u001b[0m\u001b[0;34m\u001b[0m\u001b[0m\n\u001b[0m\u001b[1;32m   1449\u001b[0m             \u001b[0mself\u001b[0m\u001b[0;34m.\u001b[0m\u001b[0m_tasks_outstanding\u001b[0m \u001b[0;34m-=\u001b[0m \u001b[0;36m1\u001b[0m\u001b[0;34m\u001b[0m\u001b[0;34m\u001b[0m\u001b[0m\n\u001b[1;32m   1450\u001b[0m             \u001b[0;32mif\u001b[0m \u001b[0mself\u001b[0m\u001b[0;34m.\u001b[0m\u001b[0m_dataset_kind\u001b[0m \u001b[0;34m==\u001b[0m \u001b[0m_DatasetKind\u001b[0m\u001b[0;34m.\u001b[0m\u001b[0mIterable\u001b[0m\u001b[0;34m:\u001b[0m\u001b[0;34m\u001b[0m\u001b[0;34m\u001b[0m\u001b[0m\n",
            "\u001b[0;32m/usr/local/lib/python3.10/dist-packages/torch/utils/data/dataloader.py\u001b[0m in \u001b[0;36m_get_data\u001b[0;34m(self)\u001b[0m\n\u001b[1;32m   1410\u001b[0m         \u001b[0;32melse\u001b[0m\u001b[0;34m:\u001b[0m\u001b[0;34m\u001b[0m\u001b[0;34m\u001b[0m\u001b[0m\n\u001b[1;32m   1411\u001b[0m             \u001b[0;32mwhile\u001b[0m \u001b[0;32mTrue\u001b[0m\u001b[0;34m:\u001b[0m\u001b[0;34m\u001b[0m\u001b[0;34m\u001b[0m\u001b[0m\n\u001b[0;32m-> 1412\u001b[0;31m                 \u001b[0msuccess\u001b[0m\u001b[0;34m,\u001b[0m \u001b[0mdata\u001b[0m \u001b[0;34m=\u001b[0m \u001b[0mself\u001b[0m\u001b[0;34m.\u001b[0m\u001b[0m_try_get_data\u001b[0m\u001b[0;34m(\u001b[0m\u001b[0;34m)\u001b[0m\u001b[0;34m\u001b[0m\u001b[0;34m\u001b[0m\u001b[0m\n\u001b[0m\u001b[1;32m   1413\u001b[0m                 \u001b[0;32mif\u001b[0m \u001b[0msuccess\u001b[0m\u001b[0;34m:\u001b[0m\u001b[0;34m\u001b[0m\u001b[0;34m\u001b[0m\u001b[0m\n\u001b[1;32m   1414\u001b[0m                     \u001b[0;32mreturn\u001b[0m \u001b[0mdata\u001b[0m\u001b[0;34m\u001b[0m\u001b[0;34m\u001b[0m\u001b[0m\n",
            "\u001b[0;32m/usr/local/lib/python3.10/dist-packages/torch/utils/data/dataloader.py\u001b[0m in \u001b[0;36m_try_get_data\u001b[0;34m(self, timeout)\u001b[0m\n\u001b[1;32m   1241\u001b[0m         \u001b[0;31m#   (bool: whether successfully get data, any: data if successful else None)\u001b[0m\u001b[0;34m\u001b[0m\u001b[0;34m\u001b[0m\u001b[0m\n\u001b[1;32m   1242\u001b[0m         \u001b[0;32mtry\u001b[0m\u001b[0;34m:\u001b[0m\u001b[0;34m\u001b[0m\u001b[0;34m\u001b[0m\u001b[0m\n\u001b[0;32m-> 1243\u001b[0;31m             \u001b[0mdata\u001b[0m \u001b[0;34m=\u001b[0m \u001b[0mself\u001b[0m\u001b[0;34m.\u001b[0m\u001b[0m_data_queue\u001b[0m\u001b[0;34m.\u001b[0m\u001b[0mget\u001b[0m\u001b[0;34m(\u001b[0m\u001b[0mtimeout\u001b[0m\u001b[0;34m=\u001b[0m\u001b[0mtimeout\u001b[0m\u001b[0;34m)\u001b[0m\u001b[0;34m\u001b[0m\u001b[0;34m\u001b[0m\u001b[0m\n\u001b[0m\u001b[1;32m   1244\u001b[0m             \u001b[0;32mreturn\u001b[0m \u001b[0;34m(\u001b[0m\u001b[0;32mTrue\u001b[0m\u001b[0;34m,\u001b[0m \u001b[0mdata\u001b[0m\u001b[0;34m)\u001b[0m\u001b[0;34m\u001b[0m\u001b[0;34m\u001b[0m\u001b[0m\n\u001b[1;32m   1245\u001b[0m         \u001b[0;32mexcept\u001b[0m \u001b[0mException\u001b[0m \u001b[0;32mas\u001b[0m \u001b[0me\u001b[0m\u001b[0;34m:\u001b[0m\u001b[0;34m\u001b[0m\u001b[0;34m\u001b[0m\u001b[0m\n",
            "\u001b[0;32m/usr/lib/python3.10/multiprocessing/queues.py\u001b[0m in \u001b[0;36mget\u001b[0;34m(self, block, timeout)\u001b[0m\n\u001b[1;32m    111\u001b[0m                 \u001b[0;32mif\u001b[0m \u001b[0mblock\u001b[0m\u001b[0;34m:\u001b[0m\u001b[0;34m\u001b[0m\u001b[0;34m\u001b[0m\u001b[0m\n\u001b[1;32m    112\u001b[0m                     \u001b[0mtimeout\u001b[0m \u001b[0;34m=\u001b[0m \u001b[0mdeadline\u001b[0m \u001b[0;34m-\u001b[0m \u001b[0mtime\u001b[0m\u001b[0;34m.\u001b[0m\u001b[0mmonotonic\u001b[0m\u001b[0;34m(\u001b[0m\u001b[0;34m)\u001b[0m\u001b[0;34m\u001b[0m\u001b[0;34m\u001b[0m\u001b[0m\n\u001b[0;32m--> 113\u001b[0;31m                     \u001b[0;32mif\u001b[0m \u001b[0;32mnot\u001b[0m \u001b[0mself\u001b[0m\u001b[0;34m.\u001b[0m\u001b[0m_poll\u001b[0m\u001b[0;34m(\u001b[0m\u001b[0mtimeout\u001b[0m\u001b[0;34m)\u001b[0m\u001b[0;34m:\u001b[0m\u001b[0;34m\u001b[0m\u001b[0;34m\u001b[0m\u001b[0m\n\u001b[0m\u001b[1;32m    114\u001b[0m                         \u001b[0;32mraise\u001b[0m \u001b[0mEmpty\u001b[0m\u001b[0;34m\u001b[0m\u001b[0;34m\u001b[0m\u001b[0m\n\u001b[1;32m    115\u001b[0m                 \u001b[0;32melif\u001b[0m \u001b[0;32mnot\u001b[0m \u001b[0mself\u001b[0m\u001b[0;34m.\u001b[0m\u001b[0m_poll\u001b[0m\u001b[0;34m(\u001b[0m\u001b[0;34m)\u001b[0m\u001b[0;34m:\u001b[0m\u001b[0;34m\u001b[0m\u001b[0;34m\u001b[0m\u001b[0m\n",
            "\u001b[0;32m/usr/lib/python3.10/multiprocessing/connection.py\u001b[0m in \u001b[0;36mpoll\u001b[0;34m(self, timeout)\u001b[0m\n\u001b[1;32m    255\u001b[0m         \u001b[0mself\u001b[0m\u001b[0;34m.\u001b[0m\u001b[0m_check_closed\u001b[0m\u001b[0;34m(\u001b[0m\u001b[0;34m)\u001b[0m\u001b[0;34m\u001b[0m\u001b[0;34m\u001b[0m\u001b[0m\n\u001b[1;32m    256\u001b[0m         \u001b[0mself\u001b[0m\u001b[0;34m.\u001b[0m\u001b[0m_check_readable\u001b[0m\u001b[0;34m(\u001b[0m\u001b[0;34m)\u001b[0m\u001b[0;34m\u001b[0m\u001b[0;34m\u001b[0m\u001b[0m\n\u001b[0;32m--> 257\u001b[0;31m         \u001b[0;32mreturn\u001b[0m \u001b[0mself\u001b[0m\u001b[0;34m.\u001b[0m\u001b[0m_poll\u001b[0m\u001b[0;34m(\u001b[0m\u001b[0mtimeout\u001b[0m\u001b[0;34m)\u001b[0m\u001b[0;34m\u001b[0m\u001b[0;34m\u001b[0m\u001b[0m\n\u001b[0m\u001b[1;32m    258\u001b[0m \u001b[0;34m\u001b[0m\u001b[0m\n\u001b[1;32m    259\u001b[0m     \u001b[0;32mdef\u001b[0m \u001b[0m__enter__\u001b[0m\u001b[0;34m(\u001b[0m\u001b[0mself\u001b[0m\u001b[0;34m)\u001b[0m\u001b[0;34m:\u001b[0m\u001b[0;34m\u001b[0m\u001b[0;34m\u001b[0m\u001b[0m\n",
            "\u001b[0;32m/usr/lib/python3.10/multiprocessing/connection.py\u001b[0m in \u001b[0;36m_poll\u001b[0;34m(self, timeout)\u001b[0m\n\u001b[1;32m    422\u001b[0m \u001b[0;34m\u001b[0m\u001b[0m\n\u001b[1;32m    423\u001b[0m     \u001b[0;32mdef\u001b[0m \u001b[0m_poll\u001b[0m\u001b[0;34m(\u001b[0m\u001b[0mself\u001b[0m\u001b[0;34m,\u001b[0m \u001b[0mtimeout\u001b[0m\u001b[0;34m)\u001b[0m\u001b[0;34m:\u001b[0m\u001b[0;34m\u001b[0m\u001b[0;34m\u001b[0m\u001b[0m\n\u001b[0;32m--> 424\u001b[0;31m         \u001b[0mr\u001b[0m \u001b[0;34m=\u001b[0m \u001b[0mwait\u001b[0m\u001b[0;34m(\u001b[0m\u001b[0;34m[\u001b[0m\u001b[0mself\u001b[0m\u001b[0;34m]\u001b[0m\u001b[0;34m,\u001b[0m \u001b[0mtimeout\u001b[0m\u001b[0;34m)\u001b[0m\u001b[0;34m\u001b[0m\u001b[0;34m\u001b[0m\u001b[0m\n\u001b[0m\u001b[1;32m    425\u001b[0m         \u001b[0;32mreturn\u001b[0m \u001b[0mbool\u001b[0m\u001b[0;34m(\u001b[0m\u001b[0mr\u001b[0m\u001b[0;34m)\u001b[0m\u001b[0;34m\u001b[0m\u001b[0;34m\u001b[0m\u001b[0m\n\u001b[1;32m    426\u001b[0m \u001b[0;34m\u001b[0m\u001b[0m\n",
            "\u001b[0;32m/usr/lib/python3.10/multiprocessing/connection.py\u001b[0m in \u001b[0;36mwait\u001b[0;34m(object_list, timeout)\u001b[0m\n\u001b[1;32m    929\u001b[0m \u001b[0;34m\u001b[0m\u001b[0m\n\u001b[1;32m    930\u001b[0m             \u001b[0;32mwhile\u001b[0m \u001b[0;32mTrue\u001b[0m\u001b[0;34m:\u001b[0m\u001b[0;34m\u001b[0m\u001b[0;34m\u001b[0m\u001b[0m\n\u001b[0;32m--> 931\u001b[0;31m                 \u001b[0mready\u001b[0m \u001b[0;34m=\u001b[0m \u001b[0mselector\u001b[0m\u001b[0;34m.\u001b[0m\u001b[0mselect\u001b[0m\u001b[0;34m(\u001b[0m\u001b[0mtimeout\u001b[0m\u001b[0;34m)\u001b[0m\u001b[0;34m\u001b[0m\u001b[0;34m\u001b[0m\u001b[0m\n\u001b[0m\u001b[1;32m    932\u001b[0m                 \u001b[0;32mif\u001b[0m \u001b[0mready\u001b[0m\u001b[0;34m:\u001b[0m\u001b[0;34m\u001b[0m\u001b[0;34m\u001b[0m\u001b[0m\n\u001b[1;32m    933\u001b[0m                     \u001b[0;32mreturn\u001b[0m \u001b[0;34m[\u001b[0m\u001b[0mkey\u001b[0m\u001b[0;34m.\u001b[0m\u001b[0mfileobj\u001b[0m \u001b[0;32mfor\u001b[0m \u001b[0;34m(\u001b[0m\u001b[0mkey\u001b[0m\u001b[0;34m,\u001b[0m \u001b[0mevents\u001b[0m\u001b[0;34m)\u001b[0m \u001b[0;32min\u001b[0m \u001b[0mready\u001b[0m\u001b[0;34m]\u001b[0m\u001b[0;34m\u001b[0m\u001b[0;34m\u001b[0m\u001b[0m\n",
            "\u001b[0;32m/usr/lib/python3.10/selectors.py\u001b[0m in \u001b[0;36mselect\u001b[0;34m(self, timeout)\u001b[0m\n\u001b[1;32m    414\u001b[0m         \u001b[0mready\u001b[0m \u001b[0;34m=\u001b[0m \u001b[0;34m[\u001b[0m\u001b[0;34m]\u001b[0m\u001b[0;34m\u001b[0m\u001b[0;34m\u001b[0m\u001b[0m\n\u001b[1;32m    415\u001b[0m         \u001b[0;32mtry\u001b[0m\u001b[0;34m:\u001b[0m\u001b[0;34m\u001b[0m\u001b[0;34m\u001b[0m\u001b[0m\n\u001b[0;32m--> 416\u001b[0;31m             \u001b[0mfd_event_list\u001b[0m \u001b[0;34m=\u001b[0m \u001b[0mself\u001b[0m\u001b[0;34m.\u001b[0m\u001b[0m_selector\u001b[0m\u001b[0;34m.\u001b[0m\u001b[0mpoll\u001b[0m\u001b[0;34m(\u001b[0m\u001b[0mtimeout\u001b[0m\u001b[0;34m)\u001b[0m\u001b[0;34m\u001b[0m\u001b[0;34m\u001b[0m\u001b[0m\n\u001b[0m\u001b[1;32m    417\u001b[0m         \u001b[0;32mexcept\u001b[0m \u001b[0mInterruptedError\u001b[0m\u001b[0;34m:\u001b[0m\u001b[0;34m\u001b[0m\u001b[0;34m\u001b[0m\u001b[0m\n\u001b[1;32m    418\u001b[0m             \u001b[0;32mreturn\u001b[0m \u001b[0mready\u001b[0m\u001b[0;34m\u001b[0m\u001b[0;34m\u001b[0m\u001b[0m\n",
            "\u001b[0;31mKeyboardInterrupt\u001b[0m: "
          ]
        }
      ],
      "source": [
        "%run large_batch_training.py --optimizer SGDM --batch-size 128 --weight-decay 4e-4"
      ]
    },
    {
      "cell_type": "markdown",
      "metadata": {
        "id": "_2t__56QmDKL"
      },
      "source": []
    },
    {
      "cell_type": "code",
      "execution_count": 6,
      "metadata": {
        "colab": {
          "base_uri": "https://localhost:8080/",
          "height": 1000
        },
        "id": "FqIzBQKfZFgB",
        "outputId": "1965283b-34ec-46ec-cad2-fd4b13e16777"
      },
      "outputs": [
        {
          "output_type": "stream",
          "name": "stdout",
          "text": [
            "Files already downloaded and verified\n",
            "Files already downloaded and verified\n",
            "Files already downloaded and verified\n",
            "Files already downloaded and verified\n",
            "--- Train with AdamW ---\n",
            "Epoch 1/150, Train Acc: 2.07%, Val Acc: 2.96%, Test Acc: 2.94%\n",
            "Epoch 1/150, Train Loss: 4.5654, Val Loss: 4.4600, Test Loss: 4.4645\n",
            "Epoch 2/150, Train Acc: 5.13%, Val Acc: 7.84%, Test Acc: 7.64%\n",
            "Epoch 2/150, Train Loss: 4.2599, Val Loss: 4.0729, Test Loss: 4.0840\n",
            "Epoch 3/150, Train Acc: 8.44%, Val Acc: 10.54%, Test Acc: 10.20%\n",
            "Epoch 3/150, Train Loss: 4.0309, Val Loss: 3.8977, Test Loss: 3.9080\n",
            "Epoch 4/150, Train Acc: 10.99%, Val Acc: 12.49%, Test Acc: 12.61%\n",
            "Epoch 4/150, Train Loss: 3.8775, Val Loss: 3.7439, Test Loss: 3.7580\n",
            "Warmup phase completed at epoch 5. Switching to constant learning rate.\n",
            "Epoch 5/150, Train Acc: 13.44%, Val Acc: 15.60%, Test Acc: 15.80%\n",
            "Epoch 5/150, Train Loss: 3.7506, Val Loss: 3.6069, Test Loss: 3.6231\n",
            "Epoch 6/150, Train Acc: 15.48%, Val Acc: 17.77%, Test Acc: 17.44%\n",
            "Epoch 6/150, Train Loss: 3.6122, Val Loss: 3.4922, Test Loss: 3.4989\n",
            "Epoch 7/150, Train Acc: 17.07%, Val Acc: 20.11%, Test Acc: 18.85%\n",
            "Epoch 7/150, Train Loss: 3.4867, Val Loss: 3.3825, Test Loss: 3.4038\n",
            "Epoch 8/150, Train Acc: 18.75%, Val Acc: 21.40%, Test Acc: 20.56%\n",
            "Epoch 8/150, Train Loss: 3.3992, Val Loss: 3.3025, Test Loss: 3.3200\n",
            "Epoch 9/150, Train Acc: 20.38%, Val Acc: 20.61%, Test Acc: 21.28%\n",
            "Epoch 9/150, Train Loss: 3.3142, Val Loss: 3.2807, Test Loss: 3.2908\n",
            "Checkpoint saved at epoch 10: ./checkpoint_epoch_10.pth\n"
          ]
        },
        {
          "output_type": "display_data",
          "data": {
            "text/plain": [
              "<IPython.core.display.Javascript object>"
            ],
            "application/javascript": [
              "\n",
              "    async function download(id, filename, size) {\n",
              "      if (!google.colab.kernel.accessAllowed) {\n",
              "        return;\n",
              "      }\n",
              "      const div = document.createElement('div');\n",
              "      const label = document.createElement('label');\n",
              "      label.textContent = `Downloading \"${filename}\": `;\n",
              "      div.appendChild(label);\n",
              "      const progress = document.createElement('progress');\n",
              "      progress.max = size;\n",
              "      div.appendChild(progress);\n",
              "      document.body.appendChild(div);\n",
              "\n",
              "      const buffers = [];\n",
              "      let downloaded = 0;\n",
              "\n",
              "      const channel = await google.colab.kernel.comms.open(id);\n",
              "      // Send a message to notify the kernel that we're ready.\n",
              "      channel.send({})\n",
              "\n",
              "      for await (const message of channel.messages) {\n",
              "        // Send a message to notify the kernel that we're ready.\n",
              "        channel.send({})\n",
              "        if (message.buffers) {\n",
              "          for (const buffer of message.buffers) {\n",
              "            buffers.push(buffer);\n",
              "            downloaded += buffer.byteLength;\n",
              "            progress.value = downloaded;\n",
              "          }\n",
              "        }\n",
              "      }\n",
              "      const blob = new Blob(buffers, {type: 'application/binary'});\n",
              "      const a = document.createElement('a');\n",
              "      a.href = window.URL.createObjectURL(blob);\n",
              "      a.download = filename;\n",
              "      div.appendChild(a);\n",
              "      a.click();\n",
              "      div.remove();\n",
              "    }\n",
              "  "
            ]
          },
          "metadata": {}
        },
        {
          "output_type": "display_data",
          "data": {
            "text/plain": [
              "<IPython.core.display.Javascript object>"
            ],
            "application/javascript": [
              "download(\"download_14dd61c3-ca5f-4d82-a2fb-8b9e661e0d34\", \"checkpoint_epoch_10.pth\", 9797102)"
            ]
          },
          "metadata": {}
        },
        {
          "output_type": "stream",
          "name": "stdout",
          "text": [
            "Epoch 10/150, Train Acc: 21.39%, Val Acc: 22.68%, Test Acc: 21.83%\n",
            "Epoch 10/150, Train Loss: 3.2492, Val Loss: 3.2214, Test Loss: 3.2352\n",
            "Epoch 11/150, Train Acc: 22.54%, Val Acc: 24.07%, Test Acc: 23.74%\n",
            "Epoch 11/150, Train Loss: 3.1855, Val Loss: 3.1264, Test Loss: 3.1295\n",
            "Epoch 12/150, Train Acc: 23.55%, Val Acc: 24.98%, Test Acc: 24.90%\n",
            "Epoch 12/150, Train Loss: 3.1096, Val Loss: 3.0666, Test Loss: 3.0795\n",
            "Epoch 13/150, Train Acc: 24.68%, Val Acc: 25.79%, Test Acc: 25.16%\n",
            "Epoch 13/150, Train Loss: 3.0816, Val Loss: 3.0548, Test Loss: 3.0701\n",
            "Epoch 14/150, Train Acc: 25.54%, Val Acc: 27.27%, Test Acc: 27.45%\n",
            "Epoch 14/150, Train Loss: 3.0249, Val Loss: 2.9690, Test Loss: 2.9778\n",
            "Epoch 15/150, Train Acc: 26.60%, Val Acc: 27.96%, Test Acc: 27.36%\n",
            "Epoch 15/150, Train Loss: 2.9851, Val Loss: 2.9525, Test Loss: 2.9642\n",
            "Epoch 16/150, Train Acc: 27.25%, Val Acc: 28.69%, Test Acc: 28.74%\n",
            "Epoch 16/150, Train Loss: 2.9399, Val Loss: 2.8942, Test Loss: 2.9071\n",
            "Epoch 17/150, Train Acc: 28.01%, Val Acc: 29.44%, Test Acc: 29.26%\n",
            "Epoch 17/150, Train Loss: 2.8880, Val Loss: 2.8554, Test Loss: 2.8597\n",
            "Epoch 18/150, Train Acc: 29.31%, Val Acc: 29.66%, Test Acc: 29.38%\n",
            "Epoch 18/150, Train Loss: 2.8433, Val Loss: 2.8391, Test Loss: 2.8411\n",
            "Epoch 19/150, Train Acc: 29.62%, Val Acc: 30.38%, Test Acc: 30.94%\n",
            "Epoch 19/150, Train Loss: 2.8206, Val Loss: 2.7887, Test Loss: 2.7954\n",
            "Checkpoint saved at epoch 20: ./checkpoint_epoch_20.pth\n"
          ]
        },
        {
          "output_type": "display_data",
          "data": {
            "text/plain": [
              "<IPython.core.display.Javascript object>"
            ],
            "application/javascript": [
              "\n",
              "    async function download(id, filename, size) {\n",
              "      if (!google.colab.kernel.accessAllowed) {\n",
              "        return;\n",
              "      }\n",
              "      const div = document.createElement('div');\n",
              "      const label = document.createElement('label');\n",
              "      label.textContent = `Downloading \"${filename}\": `;\n",
              "      div.appendChild(label);\n",
              "      const progress = document.createElement('progress');\n",
              "      progress.max = size;\n",
              "      div.appendChild(progress);\n",
              "      document.body.appendChild(div);\n",
              "\n",
              "      const buffers = [];\n",
              "      let downloaded = 0;\n",
              "\n",
              "      const channel = await google.colab.kernel.comms.open(id);\n",
              "      // Send a message to notify the kernel that we're ready.\n",
              "      channel.send({})\n",
              "\n",
              "      for await (const message of channel.messages) {\n",
              "        // Send a message to notify the kernel that we're ready.\n",
              "        channel.send({})\n",
              "        if (message.buffers) {\n",
              "          for (const buffer of message.buffers) {\n",
              "            buffers.push(buffer);\n",
              "            downloaded += buffer.byteLength;\n",
              "            progress.value = downloaded;\n",
              "          }\n",
              "        }\n",
              "      }\n",
              "      const blob = new Blob(buffers, {type: 'application/binary'});\n",
              "      const a = document.createElement('a');\n",
              "      a.href = window.URL.createObjectURL(blob);\n",
              "      a.download = filename;\n",
              "      div.appendChild(a);\n",
              "      a.click();\n",
              "      div.remove();\n",
              "    }\n",
              "  "
            ]
          },
          "metadata": {}
        },
        {
          "output_type": "display_data",
          "data": {
            "text/plain": [
              "<IPython.core.display.Javascript object>"
            ],
            "application/javascript": [
              "download(\"download_04be1704-9a65-4189-9491-c8ab79b7d6fb\", \"checkpoint_epoch_20.pth\", 9797102)"
            ]
          },
          "metadata": {}
        },
        {
          "output_type": "stream",
          "name": "stdout",
          "text": [
            "Epoch 20/150, Train Acc: 30.30%, Val Acc: 31.67%, Test Acc: 31.93%\n",
            "Epoch 20/150, Train Loss: 2.7748, Val Loss: 2.7273, Test Loss: 2.7220\n",
            "Epoch 21/150, Train Acc: 31.38%, Val Acc: 32.68%, Test Acc: 32.72%\n",
            "Epoch 21/150, Train Loss: 2.7297, Val Loss: 2.6892, Test Loss: 2.6933\n",
            "Epoch 22/150, Train Acc: 31.75%, Val Acc: 33.60%, Test Acc: 33.29%\n",
            "Epoch 22/150, Train Loss: 2.7082, Val Loss: 2.6587, Test Loss: 2.6513\n",
            "Epoch 23/150, Train Acc: 32.09%, Val Acc: 34.25%, Test Acc: 34.30%\n",
            "Epoch 23/150, Train Loss: 2.6820, Val Loss: 2.6346, Test Loss: 2.6312\n",
            "Epoch 24/150, Train Acc: 33.62%, Val Acc: 33.88%, Test Acc: 34.02%\n",
            "Epoch 24/150, Train Loss: 2.6229, Val Loss: 2.6347, Test Loss: 2.6268\n",
            "Epoch 25/150, Train Acc: 33.60%, Val Acc: 33.71%, Test Acc: 34.21%\n",
            "Epoch 25/150, Train Loss: 2.6225, Val Loss: 2.6288, Test Loss: 2.6258\n",
            "Epoch 26/150, Train Acc: 33.88%, Val Acc: 34.03%, Test Acc: 34.77%\n",
            "Epoch 26/150, Train Loss: 2.5998, Val Loss: 2.6148, Test Loss: 2.5892\n",
            "Epoch 27/150, Train Acc: 34.61%, Val Acc: 35.26%, Test Acc: 35.46%\n",
            "Epoch 27/150, Train Loss: 2.5648, Val Loss: 2.5668, Test Loss: 2.5542\n",
            "Epoch 28/150, Train Acc: 35.29%, Val Acc: 35.48%, Test Acc: 36.07%\n",
            "Epoch 28/150, Train Loss: 2.5370, Val Loss: 2.5490, Test Loss: 2.5393\n",
            "Epoch 29/150, Train Acc: 35.31%, Val Acc: 35.50%, Test Acc: 35.73%\n",
            "Epoch 29/150, Train Loss: 2.5305, Val Loss: 2.5507, Test Loss: 2.5476\n",
            "Checkpoint saved at epoch 30: ./checkpoint_epoch_30.pth\n"
          ]
        },
        {
          "output_type": "display_data",
          "data": {
            "text/plain": [
              "<IPython.core.display.Javascript object>"
            ],
            "application/javascript": [
              "\n",
              "    async function download(id, filename, size) {\n",
              "      if (!google.colab.kernel.accessAllowed) {\n",
              "        return;\n",
              "      }\n",
              "      const div = document.createElement('div');\n",
              "      const label = document.createElement('label');\n",
              "      label.textContent = `Downloading \"${filename}\": `;\n",
              "      div.appendChild(label);\n",
              "      const progress = document.createElement('progress');\n",
              "      progress.max = size;\n",
              "      div.appendChild(progress);\n",
              "      document.body.appendChild(div);\n",
              "\n",
              "      const buffers = [];\n",
              "      let downloaded = 0;\n",
              "\n",
              "      const channel = await google.colab.kernel.comms.open(id);\n",
              "      // Send a message to notify the kernel that we're ready.\n",
              "      channel.send({})\n",
              "\n",
              "      for await (const message of channel.messages) {\n",
              "        // Send a message to notify the kernel that we're ready.\n",
              "        channel.send({})\n",
              "        if (message.buffers) {\n",
              "          for (const buffer of message.buffers) {\n",
              "            buffers.push(buffer);\n",
              "            downloaded += buffer.byteLength;\n",
              "            progress.value = downloaded;\n",
              "          }\n",
              "        }\n",
              "      }\n",
              "      const blob = new Blob(buffers, {type: 'application/binary'});\n",
              "      const a = document.createElement('a');\n",
              "      a.href = window.URL.createObjectURL(blob);\n",
              "      a.download = filename;\n",
              "      div.appendChild(a);\n",
              "      a.click();\n",
              "      div.remove();\n",
              "    }\n",
              "  "
            ]
          },
          "metadata": {}
        },
        {
          "output_type": "display_data",
          "data": {
            "text/plain": [
              "<IPython.core.display.Javascript object>"
            ],
            "application/javascript": [
              "download(\"download_5deffa07-4a1b-4762-947e-3360c76ec6b2\", \"checkpoint_epoch_30.pth\", 9797102)"
            ]
          },
          "metadata": {}
        },
        {
          "output_type": "stream",
          "name": "stdout",
          "text": [
            "Epoch 30/150, Train Acc: 35.79%, Val Acc: 36.76%, Test Acc: 36.70%\n",
            "Epoch 30/150, Train Loss: 2.5090, Val Loss: 2.5155, Test Loss: 2.4975\n",
            "Epoch 31/150, Train Acc: 36.62%, Val Acc: 37.60%, Test Acc: 37.22%\n",
            "Epoch 31/150, Train Loss: 2.4713, Val Loss: 2.4824, Test Loss: 2.4780\n",
            "Epoch 32/150, Train Acc: 37.11%, Val Acc: 36.34%, Test Acc: 36.58%\n",
            "Epoch 32/150, Train Loss: 2.4536, Val Loss: 2.5158, Test Loss: 2.5114\n",
            "Epoch 33/150, Train Acc: 36.94%, Val Acc: 36.64%, Test Acc: 36.28%\n",
            "Epoch 33/150, Train Loss: 2.4605, Val Loss: 2.5192, Test Loss: 2.4991\n",
            "Epoch 34/150, Train Acc: 37.34%, Val Acc: 37.58%, Test Acc: 37.80%\n",
            "Epoch 34/150, Train Loss: 2.4278, Val Loss: 2.4674, Test Loss: 2.4573\n",
            "Epoch 35/150, Train Acc: 38.13%, Val Acc: 38.04%, Test Acc: 37.69%\n",
            "Epoch 35/150, Train Loss: 2.4079, Val Loss: 2.4525, Test Loss: 2.4488\n",
            "Epoch 36/150, Train Acc: 38.12%, Val Acc: 38.59%, Test Acc: 38.66%\n",
            "Epoch 36/150, Train Loss: 2.4034, Val Loss: 2.4327, Test Loss: 2.4122\n",
            "Epoch 37/150, Train Acc: 38.59%, Val Acc: 37.75%, Test Acc: 38.06%\n",
            "Epoch 37/150, Train Loss: 2.3727, Val Loss: 2.4418, Test Loss: 2.4239\n",
            "Epoch 38/150, Train Acc: 38.98%, Val Acc: 38.49%, Test Acc: 38.90%\n",
            "Epoch 38/150, Train Loss: 2.3660, Val Loss: 2.4294, Test Loss: 2.4132\n",
            "Epoch 39/150, Train Acc: 39.34%, Val Acc: 38.74%, Test Acc: 38.82%\n",
            "Epoch 39/150, Train Loss: 2.3364, Val Loss: 2.4103, Test Loss: 2.3877\n",
            "Checkpoint saved at epoch 40: ./checkpoint_epoch_40.pth\n"
          ]
        },
        {
          "output_type": "display_data",
          "data": {
            "text/plain": [
              "<IPython.core.display.Javascript object>"
            ],
            "application/javascript": [
              "\n",
              "    async function download(id, filename, size) {\n",
              "      if (!google.colab.kernel.accessAllowed) {\n",
              "        return;\n",
              "      }\n",
              "      const div = document.createElement('div');\n",
              "      const label = document.createElement('label');\n",
              "      label.textContent = `Downloading \"${filename}\": `;\n",
              "      div.appendChild(label);\n",
              "      const progress = document.createElement('progress');\n",
              "      progress.max = size;\n",
              "      div.appendChild(progress);\n",
              "      document.body.appendChild(div);\n",
              "\n",
              "      const buffers = [];\n",
              "      let downloaded = 0;\n",
              "\n",
              "      const channel = await google.colab.kernel.comms.open(id);\n",
              "      // Send a message to notify the kernel that we're ready.\n",
              "      channel.send({})\n",
              "\n",
              "      for await (const message of channel.messages) {\n",
              "        // Send a message to notify the kernel that we're ready.\n",
              "        channel.send({})\n",
              "        if (message.buffers) {\n",
              "          for (const buffer of message.buffers) {\n",
              "            buffers.push(buffer);\n",
              "            downloaded += buffer.byteLength;\n",
              "            progress.value = downloaded;\n",
              "          }\n",
              "        }\n",
              "      }\n",
              "      const blob = new Blob(buffers, {type: 'application/binary'});\n",
              "      const a = document.createElement('a');\n",
              "      a.href = window.URL.createObjectURL(blob);\n",
              "      a.download = filename;\n",
              "      div.appendChild(a);\n",
              "      a.click();\n",
              "      div.remove();\n",
              "    }\n",
              "  "
            ]
          },
          "metadata": {}
        },
        {
          "output_type": "display_data",
          "data": {
            "text/plain": [
              "<IPython.core.display.Javascript object>"
            ],
            "application/javascript": [
              "download(\"download_b9786916-ab4f-4cf3-a9a9-792c077c6f38\", \"checkpoint_epoch_40.pth\", 9797102)"
            ]
          },
          "metadata": {}
        },
        {
          "output_type": "stream",
          "name": "stdout",
          "text": [
            "Epoch 40/150, Train Acc: 39.58%, Val Acc: 38.81%, Test Acc: 38.99%\n",
            "Epoch 40/150, Train Loss: 2.3396, Val Loss: 2.4033, Test Loss: 2.3811\n",
            "Epoch 41/150, Train Acc: 39.89%, Val Acc: 38.68%, Test Acc: 38.90%\n",
            "Epoch 41/150, Train Loss: 2.3212, Val Loss: 2.3903, Test Loss: 2.3694\n",
            "Epoch 42/150, Train Acc: 40.11%, Val Acc: 38.44%, Test Acc: 38.53%\n",
            "Epoch 42/150, Train Loss: 2.3033, Val Loss: 2.4186, Test Loss: 2.3969\n",
            "Epoch 43/150, Train Acc: 40.46%, Val Acc: 38.20%, Test Acc: 38.84%\n",
            "Epoch 43/150, Train Loss: 2.2908, Val Loss: 2.4173, Test Loss: 2.3998\n",
            "Epoch 44/150, Train Acc: 40.62%, Val Acc: 40.33%, Test Acc: 40.50%\n",
            "Epoch 44/150, Train Loss: 2.2799, Val Loss: 2.3485, Test Loss: 2.3276\n",
            "Epoch 45/150, Train Acc: 41.38%, Val Acc: 39.81%, Test Acc: 39.55%\n",
            "Epoch 45/150, Train Loss: 2.2600, Val Loss: 2.3691, Test Loss: 2.3463\n",
            "Epoch 46/150, Train Acc: 41.45%, Val Acc: 40.14%, Test Acc: 40.51%\n",
            "Epoch 46/150, Train Loss: 2.2496, Val Loss: 2.3457, Test Loss: 2.3312\n",
            "Epoch 47/150, Train Acc: 41.49%, Val Acc: 39.43%, Test Acc: 40.11%\n",
            "Epoch 47/150, Train Loss: 2.2306, Val Loss: 2.3793, Test Loss: 2.3573\n",
            "Epoch 48/150, Train Acc: 41.62%, Val Acc: 39.89%, Test Acc: 39.97%\n",
            "Epoch 48/150, Train Loss: 2.2404, Val Loss: 2.3709, Test Loss: 2.3527\n",
            "Epoch 49/150, Train Acc: 42.23%, Val Acc: 40.55%, Test Acc: 40.73%\n",
            "Epoch 49/150, Train Loss: 2.2070, Val Loss: 2.3247, Test Loss: 2.3000\n",
            "Checkpoint saved at epoch 50: ./checkpoint_epoch_50.pth\n"
          ]
        },
        {
          "output_type": "display_data",
          "data": {
            "text/plain": [
              "<IPython.core.display.Javascript object>"
            ],
            "application/javascript": [
              "\n",
              "    async function download(id, filename, size) {\n",
              "      if (!google.colab.kernel.accessAllowed) {\n",
              "        return;\n",
              "      }\n",
              "      const div = document.createElement('div');\n",
              "      const label = document.createElement('label');\n",
              "      label.textContent = `Downloading \"${filename}\": `;\n",
              "      div.appendChild(label);\n",
              "      const progress = document.createElement('progress');\n",
              "      progress.max = size;\n",
              "      div.appendChild(progress);\n",
              "      document.body.appendChild(div);\n",
              "\n",
              "      const buffers = [];\n",
              "      let downloaded = 0;\n",
              "\n",
              "      const channel = await google.colab.kernel.comms.open(id);\n",
              "      // Send a message to notify the kernel that we're ready.\n",
              "      channel.send({})\n",
              "\n",
              "      for await (const message of channel.messages) {\n",
              "        // Send a message to notify the kernel that we're ready.\n",
              "        channel.send({})\n",
              "        if (message.buffers) {\n",
              "          for (const buffer of message.buffers) {\n",
              "            buffers.push(buffer);\n",
              "            downloaded += buffer.byteLength;\n",
              "            progress.value = downloaded;\n",
              "          }\n",
              "        }\n",
              "      }\n",
              "      const blob = new Blob(buffers, {type: 'application/binary'});\n",
              "      const a = document.createElement('a');\n",
              "      a.href = window.URL.createObjectURL(blob);\n",
              "      a.download = filename;\n",
              "      div.appendChild(a);\n",
              "      a.click();\n",
              "      div.remove();\n",
              "    }\n",
              "  "
            ]
          },
          "metadata": {}
        },
        {
          "output_type": "display_data",
          "data": {
            "text/plain": [
              "<IPython.core.display.Javascript object>"
            ],
            "application/javascript": [
              "download(\"download_e13c1a7b-40cb-4c0a-b2c4-07cd261c7229\", \"checkpoint_epoch_50.pth\", 9797102)"
            ]
          },
          "metadata": {}
        },
        {
          "output_type": "stream",
          "name": "stdout",
          "text": [
            "Epoch 50/150, Train Acc: 42.21%, Val Acc: 40.28%, Test Acc: 40.35%\n",
            "Epoch 50/150, Train Loss: 2.2044, Val Loss: 2.3522, Test Loss: 2.3255\n",
            "Epoch 51/150, Train Acc: 42.59%, Val Acc: 40.20%, Test Acc: 40.68%\n",
            "Epoch 51/150, Train Loss: 2.1961, Val Loss: 2.3303, Test Loss: 2.2953\n",
            "Epoch 52/150, Train Acc: 42.69%, Val Acc: 40.96%, Test Acc: 41.11%\n",
            "Epoch 52/150, Train Loss: 2.1708, Val Loss: 2.3251, Test Loss: 2.2994\n",
            "Epoch 53/150, Train Acc: 42.99%, Val Acc: 39.99%, Test Acc: 40.47%\n",
            "Epoch 53/150, Train Loss: 2.1638, Val Loss: 2.3321, Test Loss: 2.3084\n",
            "Epoch 54/150, Train Acc: 43.42%, Val Acc: 40.92%, Test Acc: 41.15%\n",
            "Epoch 54/150, Train Loss: 2.1631, Val Loss: 2.3023, Test Loss: 2.2780\n",
            "Epoch 55/150, Train Acc: 44.17%, Val Acc: 41.34%, Test Acc: 41.55%\n",
            "Epoch 55/150, Train Loss: 2.1335, Val Loss: 2.2980, Test Loss: 2.2714\n",
            "Epoch 56/150, Train Acc: 43.82%, Val Acc: 41.64%, Test Acc: 41.59%\n",
            "Epoch 56/150, Train Loss: 2.1377, Val Loss: 2.2927, Test Loss: 2.2623\n",
            "Epoch 57/150, Train Acc: 44.17%, Val Acc: 41.86%, Test Acc: 41.69%\n",
            "Epoch 57/150, Train Loss: 2.1330, Val Loss: 2.2783, Test Loss: 2.2587\n",
            "Epoch 58/150, Train Acc: 44.36%, Val Acc: 40.90%, Test Acc: 41.26%\n",
            "Epoch 58/150, Train Loss: 2.1166, Val Loss: 2.3070, Test Loss: 2.2844\n",
            "Epoch 59/150, Train Acc: 44.46%, Val Acc: 41.28%, Test Acc: 41.77%\n",
            "Epoch 59/150, Train Loss: 2.0984, Val Loss: 2.2900, Test Loss: 2.2616\n",
            "Checkpoint saved at epoch 60: ./checkpoint_epoch_60.pth\n"
          ]
        },
        {
          "output_type": "display_data",
          "data": {
            "text/plain": [
              "<IPython.core.display.Javascript object>"
            ],
            "application/javascript": [
              "\n",
              "    async function download(id, filename, size) {\n",
              "      if (!google.colab.kernel.accessAllowed) {\n",
              "        return;\n",
              "      }\n",
              "      const div = document.createElement('div');\n",
              "      const label = document.createElement('label');\n",
              "      label.textContent = `Downloading \"${filename}\": `;\n",
              "      div.appendChild(label);\n",
              "      const progress = document.createElement('progress');\n",
              "      progress.max = size;\n",
              "      div.appendChild(progress);\n",
              "      document.body.appendChild(div);\n",
              "\n",
              "      const buffers = [];\n",
              "      let downloaded = 0;\n",
              "\n",
              "      const channel = await google.colab.kernel.comms.open(id);\n",
              "      // Send a message to notify the kernel that we're ready.\n",
              "      channel.send({})\n",
              "\n",
              "      for await (const message of channel.messages) {\n",
              "        // Send a message to notify the kernel that we're ready.\n",
              "        channel.send({})\n",
              "        if (message.buffers) {\n",
              "          for (const buffer of message.buffers) {\n",
              "            buffers.push(buffer);\n",
              "            downloaded += buffer.byteLength;\n",
              "            progress.value = downloaded;\n",
              "          }\n",
              "        }\n",
              "      }\n",
              "      const blob = new Blob(buffers, {type: 'application/binary'});\n",
              "      const a = document.createElement('a');\n",
              "      a.href = window.URL.createObjectURL(blob);\n",
              "      a.download = filename;\n",
              "      div.appendChild(a);\n",
              "      a.click();\n",
              "      div.remove();\n",
              "    }\n",
              "  "
            ]
          },
          "metadata": {}
        },
        {
          "output_type": "display_data",
          "data": {
            "text/plain": [
              "<IPython.core.display.Javascript object>"
            ],
            "application/javascript": [
              "download(\"download_f93300b9-0e7b-44e3-8fa1-ca5ec6ac9f91\", \"checkpoint_epoch_60.pth\", 9797102)"
            ]
          },
          "metadata": {}
        },
        {
          "output_type": "stream",
          "name": "stdout",
          "text": [
            "Epoch 60/150, Train Acc: 44.60%, Val Acc: 41.32%, Test Acc: 41.28%\n",
            "Epoch 60/150, Train Loss: 2.1093, Val Loss: 2.2945, Test Loss: 2.2686\n",
            "Epoch 61/150, Train Acc: 44.38%, Val Acc: 41.75%, Test Acc: 42.02%\n",
            "Epoch 61/150, Train Loss: 2.1072, Val Loss: 2.2720, Test Loss: 2.2459\n",
            "Epoch 62/150, Train Acc: 45.17%, Val Acc: 41.02%, Test Acc: 41.39%\n",
            "Epoch 62/150, Train Loss: 2.0794, Val Loss: 2.2964, Test Loss: 2.2641\n",
            "Epoch 63/150, Train Acc: 45.36%, Val Acc: 41.73%, Test Acc: 42.53%\n",
            "Epoch 63/150, Train Loss: 2.0672, Val Loss: 2.2593, Test Loss: 2.2358\n",
            "Epoch 64/150, Train Acc: 45.34%, Val Acc: 42.28%, Test Acc: 42.11%\n",
            "Epoch 64/150, Train Loss: 2.0639, Val Loss: 2.2607, Test Loss: 2.2400\n",
            "Epoch 65/150, Train Acc: 45.90%, Val Acc: 41.99%, Test Acc: 42.06%\n",
            "Epoch 65/150, Train Loss: 2.0476, Val Loss: 2.2732, Test Loss: 2.2452\n",
            "Epoch 66/150, Train Acc: 46.19%, Val Acc: 41.98%, Test Acc: 42.90%\n",
            "Epoch 66/150, Train Loss: 2.0344, Val Loss: 2.2467, Test Loss: 2.2198\n",
            "Epoch 67/150, Train Acc: 46.00%, Val Acc: 42.63%, Test Acc: 42.42%\n",
            "Epoch 67/150, Train Loss: 2.0303, Val Loss: 2.2450, Test Loss: 2.2239\n",
            "Epoch 68/150, Train Acc: 46.44%, Val Acc: 42.33%, Test Acc: 42.57%\n",
            "Epoch 68/150, Train Loss: 2.0189, Val Loss: 2.2481, Test Loss: 2.2173\n",
            "Epoch 69/150, Train Acc: 46.45%, Val Acc: 42.44%, Test Acc: 42.70%\n",
            "Epoch 69/150, Train Loss: 2.0254, Val Loss: 2.2416, Test Loss: 2.2182\n",
            "Checkpoint saved at epoch 70: ./checkpoint_epoch_70.pth\n"
          ]
        },
        {
          "output_type": "display_data",
          "data": {
            "text/plain": [
              "<IPython.core.display.Javascript object>"
            ],
            "application/javascript": [
              "\n",
              "    async function download(id, filename, size) {\n",
              "      if (!google.colab.kernel.accessAllowed) {\n",
              "        return;\n",
              "      }\n",
              "      const div = document.createElement('div');\n",
              "      const label = document.createElement('label');\n",
              "      label.textContent = `Downloading \"${filename}\": `;\n",
              "      div.appendChild(label);\n",
              "      const progress = document.createElement('progress');\n",
              "      progress.max = size;\n",
              "      div.appendChild(progress);\n",
              "      document.body.appendChild(div);\n",
              "\n",
              "      const buffers = [];\n",
              "      let downloaded = 0;\n",
              "\n",
              "      const channel = await google.colab.kernel.comms.open(id);\n",
              "      // Send a message to notify the kernel that we're ready.\n",
              "      channel.send({})\n",
              "\n",
              "      for await (const message of channel.messages) {\n",
              "        // Send a message to notify the kernel that we're ready.\n",
              "        channel.send({})\n",
              "        if (message.buffers) {\n",
              "          for (const buffer of message.buffers) {\n",
              "            buffers.push(buffer);\n",
              "            downloaded += buffer.byteLength;\n",
              "            progress.value = downloaded;\n",
              "          }\n",
              "        }\n",
              "      }\n",
              "      const blob = new Blob(buffers, {type: 'application/binary'});\n",
              "      const a = document.createElement('a');\n",
              "      a.href = window.URL.createObjectURL(blob);\n",
              "      a.download = filename;\n",
              "      div.appendChild(a);\n",
              "      a.click();\n",
              "      div.remove();\n",
              "    }\n",
              "  "
            ]
          },
          "metadata": {}
        },
        {
          "output_type": "display_data",
          "data": {
            "text/plain": [
              "<IPython.core.display.Javascript object>"
            ],
            "application/javascript": [
              "download(\"download_52fb3574-3597-42e8-985d-49bb2920a637\", \"checkpoint_epoch_70.pth\", 9797102)"
            ]
          },
          "metadata": {}
        },
        {
          "output_type": "stream",
          "name": "stdout",
          "text": [
            "Epoch 70/150, Train Acc: 46.66%, Val Acc: 42.33%, Test Acc: 42.85%\n",
            "Epoch 70/150, Train Loss: 2.0201, Val Loss: 2.2445, Test Loss: 2.2103\n",
            "Epoch 71/150, Train Acc: 46.72%, Val Acc: 42.54%, Test Acc: 43.22%\n",
            "Epoch 71/150, Train Loss: 2.0081, Val Loss: 2.2401, Test Loss: 2.2149\n",
            "Epoch 72/150, Train Acc: 47.08%, Val Acc: 42.36%, Test Acc: 43.13%\n",
            "Epoch 72/150, Train Loss: 1.9953, Val Loss: 2.2515, Test Loss: 2.2174\n",
            "Epoch 73/150, Train Acc: 47.20%, Val Acc: 43.27%, Test Acc: 43.28%\n",
            "Epoch 73/150, Train Loss: 1.9872, Val Loss: 2.2199, Test Loss: 2.1951\n",
            "Epoch 74/150, Train Acc: 47.87%, Val Acc: 42.93%, Test Acc: 43.10%\n",
            "Epoch 74/150, Train Loss: 1.9717, Val Loss: 2.2255, Test Loss: 2.2086\n",
            "Epoch 75/150, Train Acc: 47.18%, Val Acc: 42.24%, Test Acc: 43.16%\n",
            "Epoch 75/150, Train Loss: 1.9831, Val Loss: 2.2499, Test Loss: 2.2306\n",
            "Epoch 76/150, Train Acc: 47.62%, Val Acc: 42.39%, Test Acc: 42.61%\n",
            "Epoch 76/150, Train Loss: 1.9611, Val Loss: 2.2490, Test Loss: 2.2233\n",
            "Epoch 77/150, Train Acc: 47.82%, Val Acc: 42.96%, Test Acc: 43.28%\n",
            "Epoch 77/150, Train Loss: 1.9621, Val Loss: 2.2145, Test Loss: 2.1986\n",
            "Epoch 78/150, Train Acc: 47.91%, Val Acc: 42.85%, Test Acc: 43.83%\n",
            "Epoch 78/150, Train Loss: 1.9611, Val Loss: 2.2206, Test Loss: 2.1927\n",
            "Epoch 79/150, Train Acc: 48.46%, Val Acc: 43.02%, Test Acc: 43.71%\n",
            "Epoch 79/150, Train Loss: 1.9414, Val Loss: 2.2131, Test Loss: 2.1882\n",
            "Checkpoint saved at epoch 80: ./checkpoint_epoch_80.pth\n"
          ]
        },
        {
          "output_type": "display_data",
          "data": {
            "text/plain": [
              "<IPython.core.display.Javascript object>"
            ],
            "application/javascript": [
              "\n",
              "    async function download(id, filename, size) {\n",
              "      if (!google.colab.kernel.accessAllowed) {\n",
              "        return;\n",
              "      }\n",
              "      const div = document.createElement('div');\n",
              "      const label = document.createElement('label');\n",
              "      label.textContent = `Downloading \"${filename}\": `;\n",
              "      div.appendChild(label);\n",
              "      const progress = document.createElement('progress');\n",
              "      progress.max = size;\n",
              "      div.appendChild(progress);\n",
              "      document.body.appendChild(div);\n",
              "\n",
              "      const buffers = [];\n",
              "      let downloaded = 0;\n",
              "\n",
              "      const channel = await google.colab.kernel.comms.open(id);\n",
              "      // Send a message to notify the kernel that we're ready.\n",
              "      channel.send({})\n",
              "\n",
              "      for await (const message of channel.messages) {\n",
              "        // Send a message to notify the kernel that we're ready.\n",
              "        channel.send({})\n",
              "        if (message.buffers) {\n",
              "          for (const buffer of message.buffers) {\n",
              "            buffers.push(buffer);\n",
              "            downloaded += buffer.byteLength;\n",
              "            progress.value = downloaded;\n",
              "          }\n",
              "        }\n",
              "      }\n",
              "      const blob = new Blob(buffers, {type: 'application/binary'});\n",
              "      const a = document.createElement('a');\n",
              "      a.href = window.URL.createObjectURL(blob);\n",
              "      a.download = filename;\n",
              "      div.appendChild(a);\n",
              "      a.click();\n",
              "      div.remove();\n",
              "    }\n",
              "  "
            ]
          },
          "metadata": {}
        },
        {
          "output_type": "display_data",
          "data": {
            "text/plain": [
              "<IPython.core.display.Javascript object>"
            ],
            "application/javascript": [
              "download(\"download_b7d9c24d-daa1-4363-978a-2fc9ef34da86\", \"checkpoint_epoch_80.pth\", 9797102)"
            ]
          },
          "metadata": {}
        },
        {
          "output_type": "stream",
          "name": "stdout",
          "text": [
            "Epoch 80/150, Train Acc: 48.44%, Val Acc: 42.99%, Test Acc: 43.72%\n",
            "Epoch 80/150, Train Loss: 1.9423, Val Loss: 2.2119, Test Loss: 2.1897\n",
            "Epoch 81/150, Train Acc: 48.53%, Val Acc: 43.02%, Test Acc: 43.44%\n",
            "Epoch 81/150, Train Loss: 1.9413, Val Loss: 2.2279, Test Loss: 2.2032\n",
            "Epoch 82/150, Train Acc: 48.44%, Val Acc: 42.29%, Test Acc: 43.21%\n",
            "Epoch 82/150, Train Loss: 1.9282, Val Loss: 2.2363, Test Loss: 2.2027\n",
            "Epoch 83/150, Train Acc: 48.73%, Val Acc: 43.30%, Test Acc: 44.21%\n",
            "Epoch 83/150, Train Loss: 1.9212, Val Loss: 2.1914, Test Loss: 2.1666\n",
            "Epoch 84/150, Train Acc: 48.72%, Val Acc: 42.82%, Test Acc: 43.95%\n",
            "Epoch 84/150, Train Loss: 1.9133, Val Loss: 2.2163, Test Loss: 2.1815\n",
            "Epoch 85/150, Train Acc: 48.91%, Val Acc: 43.29%, Test Acc: 44.15%\n",
            "Epoch 85/150, Train Loss: 1.9192, Val Loss: 2.2003, Test Loss: 2.1725\n",
            "Epoch 86/150, Train Acc: 48.79%, Val Acc: 43.32%, Test Acc: 44.58%\n",
            "Epoch 86/150, Train Loss: 1.9041, Val Loss: 2.1988, Test Loss: 2.1707\n",
            "Epoch 87/150, Train Acc: 49.23%, Val Acc: 43.68%, Test Acc: 44.67%\n",
            "Epoch 87/150, Train Loss: 1.8926, Val Loss: 2.1990, Test Loss: 2.1676\n",
            "Epoch 88/150, Train Acc: 49.55%, Val Acc: 43.51%, Test Acc: 44.65%\n",
            "Epoch 88/150, Train Loss: 1.8876, Val Loss: 2.1937, Test Loss: 2.1683\n",
            "Epoch 89/150, Train Acc: 49.40%, Val Acc: 42.91%, Test Acc: 43.91%\n",
            "Epoch 89/150, Train Loss: 1.8835, Val Loss: 2.2104, Test Loss: 2.1762\n",
            "Checkpoint saved at epoch 90: ./checkpoint_epoch_90.pth\n"
          ]
        },
        {
          "output_type": "display_data",
          "data": {
            "text/plain": [
              "<IPython.core.display.Javascript object>"
            ],
            "application/javascript": [
              "\n",
              "    async function download(id, filename, size) {\n",
              "      if (!google.colab.kernel.accessAllowed) {\n",
              "        return;\n",
              "      }\n",
              "      const div = document.createElement('div');\n",
              "      const label = document.createElement('label');\n",
              "      label.textContent = `Downloading \"${filename}\": `;\n",
              "      div.appendChild(label);\n",
              "      const progress = document.createElement('progress');\n",
              "      progress.max = size;\n",
              "      div.appendChild(progress);\n",
              "      document.body.appendChild(div);\n",
              "\n",
              "      const buffers = [];\n",
              "      let downloaded = 0;\n",
              "\n",
              "      const channel = await google.colab.kernel.comms.open(id);\n",
              "      // Send a message to notify the kernel that we're ready.\n",
              "      channel.send({})\n",
              "\n",
              "      for await (const message of channel.messages) {\n",
              "        // Send a message to notify the kernel that we're ready.\n",
              "        channel.send({})\n",
              "        if (message.buffers) {\n",
              "          for (const buffer of message.buffers) {\n",
              "            buffers.push(buffer);\n",
              "            downloaded += buffer.byteLength;\n",
              "            progress.value = downloaded;\n",
              "          }\n",
              "        }\n",
              "      }\n",
              "      const blob = new Blob(buffers, {type: 'application/binary'});\n",
              "      const a = document.createElement('a');\n",
              "      a.href = window.URL.createObjectURL(blob);\n",
              "      a.download = filename;\n",
              "      div.appendChild(a);\n",
              "      a.click();\n",
              "      div.remove();\n",
              "    }\n",
              "  "
            ]
          },
          "metadata": {}
        },
        {
          "output_type": "display_data",
          "data": {
            "text/plain": [
              "<IPython.core.display.Javascript object>"
            ],
            "application/javascript": [
              "download(\"download_2e23431d-979a-46a1-b914-c862660b6e48\", \"checkpoint_epoch_90.pth\", 9797102)"
            ]
          },
          "metadata": {}
        },
        {
          "output_type": "stream",
          "name": "stdout",
          "text": [
            "Epoch 90/150, Train Acc: 50.21%, Val Acc: 43.34%, Test Acc: 44.63%\n",
            "Epoch 90/150, Train Loss: 1.8635, Val Loss: 2.1866, Test Loss: 2.1610\n",
            "Epoch 91/150, Train Acc: 50.08%, Val Acc: 42.80%, Test Acc: 44.05%\n",
            "Epoch 91/150, Train Loss: 1.8652, Val Loss: 2.2113, Test Loss: 2.1765\n",
            "Epoch 92/150, Train Acc: 49.85%, Val Acc: 43.84%, Test Acc: 44.34%\n",
            "Epoch 92/150, Train Loss: 1.8706, Val Loss: 2.1849, Test Loss: 2.1569\n",
            "Epoch 93/150, Train Acc: 50.01%, Val Acc: 43.91%, Test Acc: 45.03%\n",
            "Epoch 93/150, Train Loss: 1.8723, Val Loss: 2.1850, Test Loss: 2.1540\n",
            "Epoch 94/150, Train Acc: 50.22%, Val Acc: 43.22%, Test Acc: 44.20%\n",
            "Epoch 94/150, Train Loss: 1.8553, Val Loss: 2.2149, Test Loss: 2.1813\n",
            "Epoch 95/150, Train Acc: 50.22%, Val Acc: 43.28%, Test Acc: 44.53%\n",
            "Epoch 95/150, Train Loss: 1.8553, Val Loss: 2.1951, Test Loss: 2.1582\n",
            "Epoch 96/150, Train Acc: 50.69%, Val Acc: 43.61%, Test Acc: 44.56%\n",
            "Epoch 96/150, Train Loss: 1.8471, Val Loss: 2.1845, Test Loss: 2.1530\n",
            "Epoch 97/150, Train Acc: 50.87%, Val Acc: 43.77%, Test Acc: 44.87%\n",
            "Epoch 97/150, Train Loss: 1.8368, Val Loss: 2.1896, Test Loss: 2.1572\n",
            "Epoch 98/150, Train Acc: 50.72%, Val Acc: 43.62%, Test Acc: 45.03%\n",
            "Epoch 98/150, Train Loss: 1.8290, Val Loss: 2.1883, Test Loss: 2.1565\n",
            "Epoch 99/150, Train Acc: 50.84%, Val Acc: 43.60%, Test Acc: 44.84%\n",
            "Epoch 99/150, Train Loss: 1.8223, Val Loss: 2.1988, Test Loss: 2.1604\n",
            "Checkpoint saved at epoch 100: ./checkpoint_epoch_100.pth\n"
          ]
        },
        {
          "output_type": "display_data",
          "data": {
            "text/plain": [
              "<IPython.core.display.Javascript object>"
            ],
            "application/javascript": [
              "\n",
              "    async function download(id, filename, size) {\n",
              "      if (!google.colab.kernel.accessAllowed) {\n",
              "        return;\n",
              "      }\n",
              "      const div = document.createElement('div');\n",
              "      const label = document.createElement('label');\n",
              "      label.textContent = `Downloading \"${filename}\": `;\n",
              "      div.appendChild(label);\n",
              "      const progress = document.createElement('progress');\n",
              "      progress.max = size;\n",
              "      div.appendChild(progress);\n",
              "      document.body.appendChild(div);\n",
              "\n",
              "      const buffers = [];\n",
              "      let downloaded = 0;\n",
              "\n",
              "      const channel = await google.colab.kernel.comms.open(id);\n",
              "      // Send a message to notify the kernel that we're ready.\n",
              "      channel.send({})\n",
              "\n",
              "      for await (const message of channel.messages) {\n",
              "        // Send a message to notify the kernel that we're ready.\n",
              "        channel.send({})\n",
              "        if (message.buffers) {\n",
              "          for (const buffer of message.buffers) {\n",
              "            buffers.push(buffer);\n",
              "            downloaded += buffer.byteLength;\n",
              "            progress.value = downloaded;\n",
              "          }\n",
              "        }\n",
              "      }\n",
              "      const blob = new Blob(buffers, {type: 'application/binary'});\n",
              "      const a = document.createElement('a');\n",
              "      a.href = window.URL.createObjectURL(blob);\n",
              "      a.download = filename;\n",
              "      div.appendChild(a);\n",
              "      a.click();\n",
              "      div.remove();\n",
              "    }\n",
              "  "
            ]
          },
          "metadata": {}
        },
        {
          "output_type": "display_data",
          "data": {
            "text/plain": [
              "<IPython.core.display.Javascript object>"
            ],
            "application/javascript": [
              "download(\"download_1ed07742-4fe9-4158-b9f6-1438e3341596\", \"checkpoint_epoch_100.pth\", 9797146)"
            ]
          },
          "metadata": {}
        },
        {
          "output_type": "stream",
          "name": "stdout",
          "text": [
            "Epoch 100/150, Train Acc: 50.80%, Val Acc: 43.26%, Test Acc: 45.02%\n",
            "Epoch 100/150, Train Loss: 1.8366, Val Loss: 2.1781, Test Loss: 2.1420\n",
            "Epoch 101/150, Train Acc: 51.19%, Val Acc: 44.07%, Test Acc: 45.47%\n",
            "Epoch 101/150, Train Loss: 1.8173, Val Loss: 2.1670, Test Loss: 2.1398\n",
            "Epoch 102/150, Train Acc: 51.61%, Val Acc: 44.18%, Test Acc: 45.12%\n",
            "Epoch 102/150, Train Loss: 1.8114, Val Loss: 2.1785, Test Loss: 2.1458\n",
            "Epoch 103/150, Train Acc: 51.31%, Val Acc: 44.19%, Test Acc: 45.20%\n",
            "Epoch 103/150, Train Loss: 1.8195, Val Loss: 2.1781, Test Loss: 2.1425\n",
            "Epoch 104/150, Train Acc: 51.52%, Val Acc: 43.93%, Test Acc: 45.08%\n",
            "Epoch 104/150, Train Loss: 1.8008, Val Loss: 2.1743, Test Loss: 2.1456\n",
            "Epoch 105/150, Train Acc: 51.38%, Val Acc: 44.04%, Test Acc: 45.10%\n",
            "Epoch 105/150, Train Loss: 1.7995, Val Loss: 2.1750, Test Loss: 2.1381\n",
            "Epoch 106/150, Train Acc: 51.76%, Val Acc: 43.82%, Test Acc: 44.81%\n",
            "Epoch 106/150, Train Loss: 1.7877, Val Loss: 2.1840, Test Loss: 2.1546\n",
            "Epoch 107/150, Train Acc: 51.59%, Val Acc: 44.04%, Test Acc: 44.82%\n",
            "Epoch 107/150, Train Loss: 1.7970, Val Loss: 2.1777, Test Loss: 2.1476\n",
            "Epoch 108/150, Train Acc: 51.74%, Val Acc: 44.22%, Test Acc: 45.39%\n",
            "Epoch 108/150, Train Loss: 1.7914, Val Loss: 2.1728, Test Loss: 2.1415\n",
            "Epoch 109/150, Train Acc: 51.63%, Val Acc: 44.03%, Test Acc: 45.16%\n",
            "Epoch 109/150, Train Loss: 1.7916, Val Loss: 2.1776, Test Loss: 2.1396\n",
            "Checkpoint saved at epoch 110: ./checkpoint_epoch_110.pth\n"
          ]
        },
        {
          "output_type": "display_data",
          "data": {
            "text/plain": [
              "<IPython.core.display.Javascript object>"
            ],
            "application/javascript": [
              "\n",
              "    async function download(id, filename, size) {\n",
              "      if (!google.colab.kernel.accessAllowed) {\n",
              "        return;\n",
              "      }\n",
              "      const div = document.createElement('div');\n",
              "      const label = document.createElement('label');\n",
              "      label.textContent = `Downloading \"${filename}\": `;\n",
              "      div.appendChild(label);\n",
              "      const progress = document.createElement('progress');\n",
              "      progress.max = size;\n",
              "      div.appendChild(progress);\n",
              "      document.body.appendChild(div);\n",
              "\n",
              "      const buffers = [];\n",
              "      let downloaded = 0;\n",
              "\n",
              "      const channel = await google.colab.kernel.comms.open(id);\n",
              "      // Send a message to notify the kernel that we're ready.\n",
              "      channel.send({})\n",
              "\n",
              "      for await (const message of channel.messages) {\n",
              "        // Send a message to notify the kernel that we're ready.\n",
              "        channel.send({})\n",
              "        if (message.buffers) {\n",
              "          for (const buffer of message.buffers) {\n",
              "            buffers.push(buffer);\n",
              "            downloaded += buffer.byteLength;\n",
              "            progress.value = downloaded;\n",
              "          }\n",
              "        }\n",
              "      }\n",
              "      const blob = new Blob(buffers, {type: 'application/binary'});\n",
              "      const a = document.createElement('a');\n",
              "      a.href = window.URL.createObjectURL(blob);\n",
              "      a.download = filename;\n",
              "      div.appendChild(a);\n",
              "      a.click();\n",
              "      div.remove();\n",
              "    }\n",
              "  "
            ]
          },
          "metadata": {}
        },
        {
          "output_type": "display_data",
          "data": {
            "text/plain": [
              "<IPython.core.display.Javascript object>"
            ],
            "application/javascript": [
              "download(\"download_5d9f33ef-3907-4a4a-93b6-e312f770337c\", \"checkpoint_epoch_110.pth\", 9797146)"
            ]
          },
          "metadata": {}
        },
        {
          "output_type": "stream",
          "name": "stdout",
          "text": [
            "Epoch 110/150, Train Acc: 51.94%, Val Acc: 44.27%, Test Acc: 45.57%\n",
            "Epoch 110/150, Train Loss: 1.7876, Val Loss: 2.1793, Test Loss: 2.1362\n",
            "Epoch 111/150, Train Acc: 52.33%, Val Acc: 44.39%, Test Acc: 45.46%\n",
            "Epoch 111/150, Train Loss: 1.7784, Val Loss: 2.1720, Test Loss: 2.1393\n",
            "Epoch 112/150, Train Acc: 52.42%, Val Acc: 44.55%, Test Acc: 45.50%\n",
            "Epoch 112/150, Train Loss: 1.7712, Val Loss: 2.1687, Test Loss: 2.1390\n",
            "Epoch 113/150, Train Acc: 52.36%, Val Acc: 44.18%, Test Acc: 45.20%\n",
            "Epoch 113/150, Train Loss: 1.7769, Val Loss: 2.1701, Test Loss: 2.1422\n",
            "Epoch 114/150, Train Acc: 52.12%, Val Acc: 44.34%, Test Acc: 45.52%\n",
            "Epoch 114/150, Train Loss: 1.7669, Val Loss: 2.1660, Test Loss: 2.1353\n",
            "Epoch 115/150, Train Acc: 52.55%, Val Acc: 44.19%, Test Acc: 45.23%\n",
            "Epoch 115/150, Train Loss: 1.7613, Val Loss: 2.1657, Test Loss: 2.1374\n",
            "Epoch 116/150, Train Acc: 52.68%, Val Acc: 44.23%, Test Acc: 45.16%\n",
            "Epoch 116/150, Train Loss: 1.7590, Val Loss: 2.1632, Test Loss: 2.1350\n",
            "Epoch 117/150, Train Acc: 52.88%, Val Acc: 44.44%, Test Acc: 45.43%\n",
            "Epoch 117/150, Train Loss: 1.7483, Val Loss: 2.1625, Test Loss: 2.1276\n",
            "Epoch 118/150, Train Acc: 52.48%, Val Acc: 44.57%, Test Acc: 45.55%\n",
            "Epoch 118/150, Train Loss: 1.7544, Val Loss: 2.1630, Test Loss: 2.1304\n",
            "Epoch 119/150, Train Acc: 52.89%, Val Acc: 44.23%, Test Acc: 45.61%\n",
            "Epoch 119/150, Train Loss: 1.7472, Val Loss: 2.1654, Test Loss: 2.1283\n",
            "Checkpoint saved at epoch 120: ./checkpoint_epoch_120.pth\n"
          ]
        },
        {
          "output_type": "display_data",
          "data": {
            "text/plain": [
              "<IPython.core.display.Javascript object>"
            ],
            "application/javascript": [
              "\n",
              "    async function download(id, filename, size) {\n",
              "      if (!google.colab.kernel.accessAllowed) {\n",
              "        return;\n",
              "      }\n",
              "      const div = document.createElement('div');\n",
              "      const label = document.createElement('label');\n",
              "      label.textContent = `Downloading \"${filename}\": `;\n",
              "      div.appendChild(label);\n",
              "      const progress = document.createElement('progress');\n",
              "      progress.max = size;\n",
              "      div.appendChild(progress);\n",
              "      document.body.appendChild(div);\n",
              "\n",
              "      const buffers = [];\n",
              "      let downloaded = 0;\n",
              "\n",
              "      const channel = await google.colab.kernel.comms.open(id);\n",
              "      // Send a message to notify the kernel that we're ready.\n",
              "      channel.send({})\n",
              "\n",
              "      for await (const message of channel.messages) {\n",
              "        // Send a message to notify the kernel that we're ready.\n",
              "        channel.send({})\n",
              "        if (message.buffers) {\n",
              "          for (const buffer of message.buffers) {\n",
              "            buffers.push(buffer);\n",
              "            downloaded += buffer.byteLength;\n",
              "            progress.value = downloaded;\n",
              "          }\n",
              "        }\n",
              "      }\n",
              "      const blob = new Blob(buffers, {type: 'application/binary'});\n",
              "      const a = document.createElement('a');\n",
              "      a.href = window.URL.createObjectURL(blob);\n",
              "      a.download = filename;\n",
              "      div.appendChild(a);\n",
              "      a.click();\n",
              "      div.remove();\n",
              "    }\n",
              "  "
            ]
          },
          "metadata": {}
        },
        {
          "output_type": "display_data",
          "data": {
            "text/plain": [
              "<IPython.core.display.Javascript object>"
            ],
            "application/javascript": [
              "download(\"download_a7fbe12d-6402-47ac-8970-38026ae7355a\", \"checkpoint_epoch_120.pth\", 9797146)"
            ]
          },
          "metadata": {}
        },
        {
          "output_type": "stream",
          "name": "stdout",
          "text": [
            "Epoch 120/150, Train Acc: 52.92%, Val Acc: 44.34%, Test Acc: 45.77%\n",
            "Epoch 120/150, Train Loss: 1.7500, Val Loss: 2.1564, Test Loss: 2.1243\n",
            "Epoch 121/150, Train Acc: 53.20%, Val Acc: 44.33%, Test Acc: 45.64%\n",
            "Epoch 121/150, Train Loss: 1.7389, Val Loss: 2.1611, Test Loss: 2.1270\n",
            "Epoch 122/150, Train Acc: 53.03%, Val Acc: 44.20%, Test Acc: 45.80%\n",
            "Epoch 122/150, Train Loss: 1.7382, Val Loss: 2.1698, Test Loss: 2.1354\n",
            "Epoch 123/150, Train Acc: 53.17%, Val Acc: 44.83%, Test Acc: 46.11%\n",
            "Epoch 123/150, Train Loss: 1.7389, Val Loss: 2.1534, Test Loss: 2.1214\n",
            "Epoch 124/150, Train Acc: 53.24%, Val Acc: 44.65%, Test Acc: 45.60%\n",
            "Epoch 124/150, Train Loss: 1.7292, Val Loss: 2.1629, Test Loss: 2.1264\n",
            "Epoch 125/150, Train Acc: 53.55%, Val Acc: 44.60%, Test Acc: 45.77%\n",
            "Epoch 125/150, Train Loss: 1.7252, Val Loss: 2.1581, Test Loss: 2.1257\n",
            "Epoch 126/150, Train Acc: 53.40%, Val Acc: 44.58%, Test Acc: 45.88%\n",
            "Epoch 126/150, Train Loss: 1.7296, Val Loss: 2.1556, Test Loss: 2.1195\n",
            "Epoch 127/150, Train Acc: 53.39%, Val Acc: 44.74%, Test Acc: 45.58%\n",
            "Epoch 127/150, Train Loss: 1.7355, Val Loss: 2.1524, Test Loss: 2.1224\n",
            "Epoch 128/150, Train Acc: 53.33%, Val Acc: 44.69%, Test Acc: 46.05%\n",
            "Epoch 128/150, Train Loss: 1.7227, Val Loss: 2.1547, Test Loss: 2.1190\n",
            "Epoch 129/150, Train Acc: 53.86%, Val Acc: 44.72%, Test Acc: 45.95%\n",
            "Epoch 129/150, Train Loss: 1.7217, Val Loss: 2.1555, Test Loss: 2.1226\n",
            "Checkpoint saved at epoch 130: ./checkpoint_epoch_130.pth\n"
          ]
        },
        {
          "output_type": "display_data",
          "data": {
            "text/plain": [
              "<IPython.core.display.Javascript object>"
            ],
            "application/javascript": [
              "\n",
              "    async function download(id, filename, size) {\n",
              "      if (!google.colab.kernel.accessAllowed) {\n",
              "        return;\n",
              "      }\n",
              "      const div = document.createElement('div');\n",
              "      const label = document.createElement('label');\n",
              "      label.textContent = `Downloading \"${filename}\": `;\n",
              "      div.appendChild(label);\n",
              "      const progress = document.createElement('progress');\n",
              "      progress.max = size;\n",
              "      div.appendChild(progress);\n",
              "      document.body.appendChild(div);\n",
              "\n",
              "      const buffers = [];\n",
              "      let downloaded = 0;\n",
              "\n",
              "      const channel = await google.colab.kernel.comms.open(id);\n",
              "      // Send a message to notify the kernel that we're ready.\n",
              "      channel.send({})\n",
              "\n",
              "      for await (const message of channel.messages) {\n",
              "        // Send a message to notify the kernel that we're ready.\n",
              "        channel.send({})\n",
              "        if (message.buffers) {\n",
              "          for (const buffer of message.buffers) {\n",
              "            buffers.push(buffer);\n",
              "            downloaded += buffer.byteLength;\n",
              "            progress.value = downloaded;\n",
              "          }\n",
              "        }\n",
              "      }\n",
              "      const blob = new Blob(buffers, {type: 'application/binary'});\n",
              "      const a = document.createElement('a');\n",
              "      a.href = window.URL.createObjectURL(blob);\n",
              "      a.download = filename;\n",
              "      div.appendChild(a);\n",
              "      a.click();\n",
              "      div.remove();\n",
              "    }\n",
              "  "
            ]
          },
          "metadata": {}
        },
        {
          "output_type": "display_data",
          "data": {
            "text/plain": [
              "<IPython.core.display.Javascript object>"
            ],
            "application/javascript": [
              "download(\"download_1c2dcdeb-5771-4df8-bdcc-8165e1a41ffc\", \"checkpoint_epoch_130.pth\", 9797146)"
            ]
          },
          "metadata": {}
        },
        {
          "output_type": "stream",
          "name": "stdout",
          "text": [
            "Epoch 130/150, Train Acc: 53.73%, Val Acc: 44.72%, Test Acc: 46.04%\n",
            "Epoch 130/150, Train Loss: 1.7178, Val Loss: 2.1542, Test Loss: 2.1181\n",
            "Epoch 131/150, Train Acc: 53.97%, Val Acc: 44.72%, Test Acc: 45.98%\n",
            "Epoch 131/150, Train Loss: 1.7084, Val Loss: 2.1564, Test Loss: 2.1188\n",
            "Epoch 132/150, Train Acc: 53.83%, Val Acc: 44.80%, Test Acc: 45.97%\n",
            "Epoch 132/150, Train Loss: 1.7073, Val Loss: 2.1541, Test Loss: 2.1168\n",
            "Epoch 133/150, Train Acc: 53.97%, Val Acc: 44.89%, Test Acc: 46.10%\n",
            "Epoch 133/150, Train Loss: 1.7155, Val Loss: 2.1578, Test Loss: 2.1201\n",
            "Epoch 134/150, Train Acc: 53.81%, Val Acc: 44.92%, Test Acc: 45.92%\n",
            "Epoch 134/150, Train Loss: 1.7070, Val Loss: 2.1478, Test Loss: 2.1132\n",
            "Epoch 135/150, Train Acc: 54.24%, Val Acc: 45.07%, Test Acc: 45.90%\n",
            "Epoch 135/150, Train Loss: 1.7046, Val Loss: 2.1501, Test Loss: 2.1182\n",
            "Epoch 136/150, Train Acc: 54.13%, Val Acc: 44.84%, Test Acc: 45.89%\n",
            "Epoch 136/150, Train Loss: 1.7024, Val Loss: 2.1487, Test Loss: 2.1180\n",
            "Epoch 137/150, Train Acc: 54.38%, Val Acc: 44.90%, Test Acc: 46.14%\n",
            "Epoch 137/150, Train Loss: 1.6938, Val Loss: 2.1505, Test Loss: 2.1147\n",
            "Epoch 138/150, Train Acc: 54.14%, Val Acc: 44.80%, Test Acc: 46.33%\n",
            "Epoch 138/150, Train Loss: 1.6922, Val Loss: 2.1498, Test Loss: 2.1142\n",
            "Epoch 139/150, Train Acc: 54.34%, Val Acc: 44.94%, Test Acc: 46.19%\n",
            "Epoch 139/150, Train Loss: 1.6894, Val Loss: 2.1484, Test Loss: 2.1097\n",
            "Checkpoint saved at epoch 140: ./checkpoint_epoch_140.pth\n"
          ]
        },
        {
          "output_type": "display_data",
          "data": {
            "text/plain": [
              "<IPython.core.display.Javascript object>"
            ],
            "application/javascript": [
              "\n",
              "    async function download(id, filename, size) {\n",
              "      if (!google.colab.kernel.accessAllowed) {\n",
              "        return;\n",
              "      }\n",
              "      const div = document.createElement('div');\n",
              "      const label = document.createElement('label');\n",
              "      label.textContent = `Downloading \"${filename}\": `;\n",
              "      div.appendChild(label);\n",
              "      const progress = document.createElement('progress');\n",
              "      progress.max = size;\n",
              "      div.appendChild(progress);\n",
              "      document.body.appendChild(div);\n",
              "\n",
              "      const buffers = [];\n",
              "      let downloaded = 0;\n",
              "\n",
              "      const channel = await google.colab.kernel.comms.open(id);\n",
              "      // Send a message to notify the kernel that we're ready.\n",
              "      channel.send({})\n",
              "\n",
              "      for await (const message of channel.messages) {\n",
              "        // Send a message to notify the kernel that we're ready.\n",
              "        channel.send({})\n",
              "        if (message.buffers) {\n",
              "          for (const buffer of message.buffers) {\n",
              "            buffers.push(buffer);\n",
              "            downloaded += buffer.byteLength;\n",
              "            progress.value = downloaded;\n",
              "          }\n",
              "        }\n",
              "      }\n",
              "      const blob = new Blob(buffers, {type: 'application/binary'});\n",
              "      const a = document.createElement('a');\n",
              "      a.href = window.URL.createObjectURL(blob);\n",
              "      a.download = filename;\n",
              "      div.appendChild(a);\n",
              "      a.click();\n",
              "      div.remove();\n",
              "    }\n",
              "  "
            ]
          },
          "metadata": {}
        },
        {
          "output_type": "display_data",
          "data": {
            "text/plain": [
              "<IPython.core.display.Javascript object>"
            ],
            "application/javascript": [
              "download(\"download_8a366fec-90df-40f8-9f88-fd37b7a27508\", \"checkpoint_epoch_140.pth\", 9797146)"
            ]
          },
          "metadata": {}
        },
        {
          "output_type": "stream",
          "name": "stdout",
          "text": [
            "Epoch 140/150, Train Acc: 54.48%, Val Acc: 44.78%, Test Acc: 46.03%\n",
            "Epoch 140/150, Train Loss: 1.6965, Val Loss: 2.1469, Test Loss: 2.1116\n",
            "Epoch 141/150, Train Acc: 54.27%, Val Acc: 44.99%, Test Acc: 46.19%\n",
            "Epoch 141/150, Train Loss: 1.6889, Val Loss: 2.1453, Test Loss: 2.1128\n",
            "Epoch 142/150, Train Acc: 54.24%, Val Acc: 44.91%, Test Acc: 46.23%\n",
            "Epoch 142/150, Train Loss: 1.6863, Val Loss: 2.1505, Test Loss: 2.1137\n",
            "Epoch 143/150, Train Acc: 54.47%, Val Acc: 44.84%, Test Acc: 46.20%\n",
            "Epoch 143/150, Train Loss: 1.6932, Val Loss: 2.1468, Test Loss: 2.1113\n",
            "Epoch 144/150, Train Acc: 54.42%, Val Acc: 44.95%, Test Acc: 46.09%\n",
            "Epoch 144/150, Train Loss: 1.6810, Val Loss: 2.1480, Test Loss: 2.1124\n",
            "Epoch 145/150, Train Acc: 54.56%, Val Acc: 45.11%, Test Acc: 46.29%\n",
            "Epoch 145/150, Train Loss: 1.6776, Val Loss: 2.1497, Test Loss: 2.1159\n",
            "Epoch 146/150, Train Acc: 55.02%, Val Acc: 44.97%, Test Acc: 46.14%\n",
            "Epoch 146/150, Train Loss: 1.6788, Val Loss: 2.1456, Test Loss: 2.1125\n",
            "Epoch 147/150, Train Acc: 54.30%, Val Acc: 45.25%, Test Acc: 46.21%\n",
            "Epoch 147/150, Train Loss: 1.6791, Val Loss: 2.1461, Test Loss: 2.1124\n",
            "Epoch 148/150, Train Acc: 55.06%, Val Acc: 44.95%, Test Acc: 46.28%\n",
            "Epoch 148/150, Train Loss: 1.6717, Val Loss: 2.1474, Test Loss: 2.1124\n",
            "Epoch 149/150, Train Acc: 54.62%, Val Acc: 44.94%, Test Acc: 46.27%\n",
            "Epoch 149/150, Train Loss: 1.6771, Val Loss: 2.1466, Test Loss: 2.1111\n",
            "Checkpoint saved at epoch 150: ./checkpoint_epoch_150.pth\n"
          ]
        },
        {
          "output_type": "display_data",
          "data": {
            "text/plain": [
              "<IPython.core.display.Javascript object>"
            ],
            "application/javascript": [
              "\n",
              "    async function download(id, filename, size) {\n",
              "      if (!google.colab.kernel.accessAllowed) {\n",
              "        return;\n",
              "      }\n",
              "      const div = document.createElement('div');\n",
              "      const label = document.createElement('label');\n",
              "      label.textContent = `Downloading \"${filename}\": `;\n",
              "      div.appendChild(label);\n",
              "      const progress = document.createElement('progress');\n",
              "      progress.max = size;\n",
              "      div.appendChild(progress);\n",
              "      document.body.appendChild(div);\n",
              "\n",
              "      const buffers = [];\n",
              "      let downloaded = 0;\n",
              "\n",
              "      const channel = await google.colab.kernel.comms.open(id);\n",
              "      // Send a message to notify the kernel that we're ready.\n",
              "      channel.send({})\n",
              "\n",
              "      for await (const message of channel.messages) {\n",
              "        // Send a message to notify the kernel that we're ready.\n",
              "        channel.send({})\n",
              "        if (message.buffers) {\n",
              "          for (const buffer of message.buffers) {\n",
              "            buffers.push(buffer);\n",
              "            downloaded += buffer.byteLength;\n",
              "            progress.value = downloaded;\n",
              "          }\n",
              "        }\n",
              "      }\n",
              "      const blob = new Blob(buffers, {type: 'application/binary'});\n",
              "      const a = document.createElement('a');\n",
              "      a.href = window.URL.createObjectURL(blob);\n",
              "      a.download = filename;\n",
              "      div.appendChild(a);\n",
              "      a.click();\n",
              "      div.remove();\n",
              "    }\n",
              "  "
            ]
          },
          "metadata": {}
        },
        {
          "output_type": "display_data",
          "data": {
            "text/plain": [
              "<IPython.core.display.Javascript object>"
            ],
            "application/javascript": [
              "download(\"download_84f8b2cb-74a7-4a3b-ab42-3f6fe8eecf7d\", \"checkpoint_epoch_150.pth\", 9797146)"
            ]
          },
          "metadata": {}
        },
        {
          "output_type": "stream",
          "name": "stdout",
          "text": [
            "Epoch 150/150, Train Acc: 54.78%, Val Acc: 44.97%, Test Acc: 46.27%\n",
            "Epoch 150/150, Train Loss: 1.6592, Val Loss: 2.1455, Test Loss: 2.1110\n"
          ]
        },
        {
          "output_type": "display_data",
          "data": {
            "text/plain": [
              "<Figure size 600x400 with 1 Axes>"
            ],
            "image/png": "[encoded data removed]"
          },
          "metadata": {}
        },
        {
          "output_type": "display_data",
          "data": {
            "text/plain": [
              "<Figure size 600x400 with 1 Axes>"
            ],
            "image/png": "[encoded data removed]"
          },
          "metadata": {}
        },
        {
          "output_type": "display_data",
          "data": {
            "text/plain": [
              "<Figure size 600x400 with 1 Axes>"
            ],
            "image/png": "[encoded data removed]"
          },
          "metadata": {}
        },
        {
          "output_type": "display_data",
          "data": {
            "text/plain": [
              "<Figure size 600x400 with 1 Axes>"
            ],
            "image/png": "[encoded data removed]"
          },
          "metadata": {}
        },
        {
          "output_type": "display_data",
          "data": {
            "text/plain": [
              "<Figure size 600x400 with 1 Axes>"
            ],
            "image/png": "[encoded data removed]"
          },
          "metadata": {}
        },
        {
          "output_type": "display_data",
          "data": {
            "text/plain": [
              "<Figure size 600x400 with 1 Axes>"
            ],
            "image/png": "[encoded data removed]"
          },
          "metadata": {}
        },
        {
          "output_type": "display_data",
          "data": {
            "text/plain": [
              "<Figure size 640x480 with 0 Axes>"
            ]
          },
          "metadata": {}
        }
      ],
      "source": [
        "%run large_batch_training.py --optimizer AdamW --batch-size 1024 --weight-decay 1e-1"
      ]
    },
    {
      "cell_type": "code",
      "execution_count": null,
      "metadata": {
        "colab": {
          "base_uri": "https://localhost:8080/"
        },
        "id": "_Y8TL9oBZL18",
        "outputId": "54fc2f89-7e7d-461b-fce6-1f0da7310a06"
      },
      "outputs": [
        {
          "name": "stdout",
          "output_type": "stream",
          "text": [
            "Files already downloaded and verified\n",
            "Files already downloaded and verified\n",
            "--- Train with LARS ---\n"
          ]
        }
      ],
      "source": [
        "%run large_batch_training.py --optimizer LARS --batch-size 128 --weight-decay 4e-4"
      ]
    },
    {
      "cell_type": "code",
      "execution_count": null,
      "metadata": {
        "colab": {
          "base_uri": "https://localhost:8080/"
        },
        "id": "K_XY2BkhZOkY",
        "outputId": "544d096d-8fe3-4a77-f80b-1d489b5b49f3"
      },
      "outputs": [
        {
          "name": "stdout",
          "output_type": "stream",
          "text": [
            "Downloading https://www.cs.toronto.edu/~kriz/cifar-100-python.tar.gz to ./data/cifar-100-python.tar.gz\n"
          ]
        },
        {
          "name": "stderr",
          "output_type": "stream",
          "text": [
            "100%|██████████| 169M/169M [00:13<00:00, 12.9MB/s]\n"
          ]
        },
        {
          "name": "stdout",
          "output_type": "stream",
          "text": [
            "Extracting ./data/cifar-100-python.tar.gz to ./data\n",
            "Files already downloaded and verified\n",
            "Files already downloaded and verified\n",
            "Files already downloaded and verified\n",
            "--- Train with LAMB ---\n"
          ]
        },
        {
          "name": "stderr",
          "output_type": "stream",
          "text": [
            "/content/large_batch_training.py:160: UserWarning: This overload of add_ is deprecated:\n",
            "\tadd_(Number alpha, Tensor other)\n",
            "Consider using one of the following signatures instead:\n",
            "\tadd_(Tensor other, *, Number alpha = 1) (Triggered internally at ../torch/csrc/utils/python_arg_parser.cpp:1642.)\n",
            "  p.data.add_(-group['lr'] * trust_ratio, update)\n"
          ]
        },
        {
          "name": "stdout",
          "output_type": "stream",
          "text": [
            "Epoch 1/150, Train Acc: 1.37%, Val Acc: 2.22%, Test Acc: 1.85%\n",
            "Epoch 1/150, Train Loss: 4.6006, Val Loss: 4.5859, Test Loss: 4.5872\n",
            "Epoch 2/150, Train Acc: 2.80%, Val Acc: 4.85%, Test Acc: 3.54%\n",
            "Epoch 2/150, Train Loss: 4.5308, Val Loss: 4.3883, Test Loss: 4.4029\n",
            "Epoch 3/150, Train Acc: 5.07%, Val Acc: 7.16%, Test Acc: 6.44%\n",
            "Epoch 3/150, Train Loss: 4.3087, Val Loss: 4.1121, Test Loss: 4.1572\n",
            "Epoch 4/150, Train Acc: 6.55%, Val Acc: 8.58%, Test Acc: 8.44%\n",
            "Epoch 4/150, Train Loss: 4.1789, Val Loss: 4.0101, Test Loss: 4.0461\n",
            "Warmup phase completed at epoch 5. Switching to constant learning rate.\n",
            "Epoch 5/150, Train Acc: 7.71%, Val Acc: 10.98%, Test Acc: 10.01%\n",
            "Epoch 5/150, Train Loss: 4.1004, Val Loss: 3.9210, Test Loss: 3.9642\n"
          ]
        }
      ],
      "source": [
        "%run large_batch_training.py --optimizer LAMB --batch-size 128 --weight-decay 1e-2"
      ]
    }
  ],
  "metadata": {
    "accelerator": "GPU",
    "colab": {
      "gpuType": "T4",
      "provenance": []
    },
    "kernelspec": {
      "display_name": "Python 3",
      "name": "python3"
    },
    "language_info": {
      "name": "python"
    }
  },
  "nbformat": 4,
  "nbformat_minor": 0
}