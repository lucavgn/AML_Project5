{
  "cells": [
    {
      "cell_type": "code",
      "execution_count": 1,
      "metadata": {
        "colab": {
          "base_uri": "https://localhost:8080/"
        },
        "id": "LtOx0ESVnO0u",
        "outputId": "212e2e62-0b5c-4693-ff5a-2a2cb97d1dc3"
      },
      "outputs": [
        {
          "output_type": "stream",
          "name": "stdout",
          "text": [
            "Writing large_batch_training.py\n"
          ]
        }
      ],
      "source": [
        "%%writefile large_batch_training.py\n",
        "\n",
        "import os\n",
        "import numpy as np\n",
        "import torch\n",
        "import torch.nn as nn\n",
        "import torch.optim as optim\n",
        "import torchvision\n",
        "import torchvision.transforms as transforms\n",
        "import matplotlib.pyplot as plt\n",
        "import argparse\n",
        "from torch.utils.data import random_split\n",
        "from google.colab import files\n",
        "\n",
        "def compute_mean_std(dataset):\n",
        "    \"\"\"Compute the mean and std of CIFAR-100 dataset.\n",
        "\n",
        "    Args:\n",
        "        dataset: A dataset derived from `torch.utils.data.Dataset`,\n",
        "                 such as `cifar100_training_dataset` or `cifar100_test_dataset`.\n",
        "\n",
        "    Returns:\n",
        "        A tuple containing (mean, std) for the entire dataset.\n",
        "    \"\"\"\n",
        "\n",
        "    # Extract images and labels\n",
        "    data_r = np.stack([np.array(dataset[i][0])[:, :, 0] for i in range(len(dataset))])\n",
        "    data_g = np.stack([np.array(dataset[i][0])[:, :, 1] for i in range(len(dataset))])\n",
        "    data_b = np.stack([np.array(dataset[i][0])[:, :, 2] for i in range(len(dataset))])\n",
        "\n",
        "    # Compute mean and std\n",
        "    mean = np.mean(data_r), np.mean(data_g), np.mean(data_b)\n",
        "    std = np.std(data_r), np.std(data_g), np.std(data_b)\n",
        "\n",
        "    return mean, std\n",
        "\n",
        "# Define LeNet-5 architecture\n",
        "class LeNet5(nn.Module):\n",
        "    def __init__(self):\n",
        "        super(LeNet5, self).__init__()\n",
        "        self.conv1 = nn.Conv2d(3, 64, 5)\n",
        "        self.relu1 = nn.ReLU()\n",
        "        self.pool1 = nn.MaxPool2d(2, 2)\n",
        "        self.conv2 = nn.Conv2d(64, 64, 5)\n",
        "        self.relu2 = nn.ReLU()\n",
        "        self.pool2 = nn.MaxPool2d(2, 2)\n",
        "        self.fc1 = nn.Linear(64 * 5 * 5, 384)\n",
        "        self.relu3 = nn.ReLU()\n",
        "        self.fc2 = nn.Linear(384, 192)\n",
        "        self.relu4 = nn.ReLU()\n",
        "        self.fc3 = nn.Linear(192, 100)\n",
        "\n",
        "    def forward(self, x):\n",
        "        x = self.pool1(self.relu1(self.conv1(x)))\n",
        "        x = self.pool2(self.relu2(self.conv2(x)))\n",
        "        x = x.view(-1, 64 * 5 * 5)\n",
        "        x = self.relu3(self.fc1(x))\n",
        "        x = self.relu4(self.fc2(x))\n",
        "        x = self.fc3(x)\n",
        "        return x\n",
        "\n",
        "# Device setup\n",
        "device = torch.device(\"cuda:0\" if torch.cuda.is_available() else \"cpu\")\n",
        "\n",
        "# Initialize model\n",
        "net = LeNet5().to(device)\n",
        "\n",
        "# Optimizer Subclasses\n",
        "class LARS(optim.Optimizer):\n",
        "    def __init__(self, params, lr, momentum=0.9, weight_decay=0, trust_coefficient=0.001):\n",
        "        # Initialize the optimizer with the learning rate, momentum, weight decay, and trust coefficient\n",
        "        defaults = dict(lr=lr, momentum=momentum, weight_decay=weight_decay, trust_coefficient=trust_coefficient)\n",
        "        super(LARS, self).__init__(params, defaults)\n",
        "\n",
        "    def step(self, closure=None):\n",
        "        loss = None\n",
        "        if closure is not None:\n",
        "            # If a closure is provided, evaluate it (commonly used for re-evaluating loss)\n",
        "            loss = closure()\n",
        "        for group in self.param_groups:\n",
        "            for p in group['params']:\n",
        "                if p.grad is None:\n",
        "                   # Skip parameters that have no gradient\n",
        "                    continue\n",
        "                grad = p.grad.data # Get the gradient of the parameter\n",
        "                # Retrieve or initialize the optimizer's internal state\n",
        "                state = self.state[p]\n",
        "                if len(state) == 0:\n",
        "                    state['momentum_buffer'] = torch.clone(grad).detach()\n",
        "                # Apply weight decay directly to the gradient\n",
        "                if group['weight_decay'] != 0:\n",
        "                    grad.add_(p.data, alpha=group['weight_decay'])\n",
        "                # Compute the norms of the parameter and its gradient\n",
        "                param_norm = torch.norm(p.data)\n",
        "                grad_norm = torch.norm(grad)\n",
        "                # Compute local learning rate based on the trust coefficient and norms\n",
        "                if param_norm > 0 and grad_norm > 0:\n",
        "                    local_lr = group['trust_coefficient'] * param_norm / (grad_norm + 1e-8)\n",
        "                    grad = grad.mul(local_lr) # Scale the gradient with the local learning rate\n",
        "                # Update the momentum buffer\n",
        "                momentum_buffer = state['momentum_buffer']\n",
        "                momentum_buffer.mul_(group['momentum']).add_(grad) #Momentum update\n",
        "                state['momentum_buffer'] = momentum_buffer\n",
        "                # Update the parameter\n",
        "                p.data.add_(momentum_buffer, alpha=-group['lr']) # Gradient descent step with learning rate\n",
        "        return loss\n",
        "\n",
        "class LAMB(optim.Optimizer):\n",
        "    def __init__(self, params, lr, weight_decay=0, betas=(0.9, 0.999), eps=1e-8):\n",
        "        # Initialize the optimizer with learning rate, weight decay, betas for moment updates, and epsilon for stability\n",
        "        defaults = dict(lr=lr, weight_decay=weight_decay, betas=betas, eps=eps)\n",
        "        super(LAMB, self).__init__(params, defaults)\n",
        "\n",
        "    def step(self, closure=None):\n",
        "        loss = None\n",
        "        if closure is not None:\n",
        "            # If a closure is provided, evaluate it\n",
        "            loss = closure()\n",
        "        for group in self.param_groups:\n",
        "            for p in group['params']:\n",
        "                if p.grad is None:\n",
        "                    # Skip parameters that have no gradient\n",
        "                    continue\n",
        "                grad = p.grad.data # Get the gradient of the parameter\n",
        "                # Retrieve or initialize the optimizer's internal state\n",
        "                state = self.state[p]\n",
        "                # Initialize state\n",
        "                if len(state) == 0:\n",
        "                    # Initialize the state (step counter, first moment, second moment)\n",
        "                    state['step'] = 0\n",
        "                    state['exp_avg'] = torch.zeros_like(p.data) # First moment (mean of gradients)\n",
        "                    state['exp_avg_sq'] = torch.zeros_like(p.data) # Second moment (mean of squared gradients)\n",
        "                exp_avg = state['exp_avg']\n",
        "                exp_avg_sq = state['exp_avg_sq']\n",
        "                beta1, beta2 = group['betas']  # Coefficients for moment updates\n",
        "                state['step'] += 1 # Increment step count\n",
        "                step = state['step']\n",
        "                # Decay the first and second moment running average coefficients\n",
        "                # Update first and second moments\n",
        "                exp_avg.mul_(beta1).add_(grad, alpha=1 - beta1) # Exponential moving average of gradients\n",
        "                exp_avg_sq.mul_(beta2).addcmul_(grad, grad, value=1 - beta2) # Exponential moving average of squared gradients\n",
        "                # Correct bias in the first and second moments\n",
        "                bias_correction1 = 1 - beta1 ** step\n",
        "                bias_correction2 = 1 - beta2 ** step\n",
        "                corrected_exp_avg = exp_avg / bias_correction1\n",
        "                corrected_exp_avg_sq = exp_avg_sq / bias_correction2\n",
        "                # Compute the denominator for scaling the update\n",
        "                denom = corrected_exp_avg_sq.sqrt().add_(group['eps']) # Stability epsilon\n",
        "                # Compute the step update\n",
        "                update = corrected_exp_avg / denom\n",
        "                # Apply weight decay directly to the parameters\n",
        "                if group['weight_decay'] != 0:\n",
        "                    update.add_(p.data, alpha=group['weight_decay'])\n",
        "                # Compute the trust ratio (norm of parameters vs norm of update)\n",
        "                param_norm = torch.norm(p.data)\n",
        "                update_norm = torch.norm(update)\n",
        "                trust_ratio = 1.0  # Default trust ratio\n",
        "                if param_norm > 0 and update_norm > 0:\n",
        "                    trust_ratio = param_norm / update_norm\n",
        "                # Update the parameters\n",
        "                p.data.add_(update, alpha=-group['lr'] * trust_ratio)\n",
        "        return loss\n",
        "\n",
        "class SqrtLRScheduler(torch.optim.lr_scheduler._LRScheduler):\n",
        "    def __init__(self, optimizer, base_lr, batch_size, warmup_epochs, total_epochs, reference_batch_size, verbose=False):\n",
        "        \"\"\"\n",
        "        Args:\n",
        "            optimizer: PyTorch optimizer (e.g., Adam, LAMB, LARS).\n",
        "            base_lr: Base learning rate for the reference batch size.\n",
        "            batch_size: Current batch size.\n",
        "            warmup_epochs: Number of warmup epochs.\n",
        "            total_epochs: Total number of epochs.\n",
        "            reference_batch_size: Batch size for which the base_lr is defined.\n",
        "            verbose: Whether to print LR updates.\n",
        "        \"\"\"\n",
        "        self.base_lr = base_lr\n",
        "        self.batch_size = batch_size\n",
        "        self.scaled_lr = base_lr * (batch_size / reference_batch_size) ** 0.5\n",
        "        self.warmup_epochs = warmup_epochs\n",
        "        self.total_epochs = total_epochs\n",
        "        self.verbose = verbose\n",
        "        super(SqrtLRScheduler, self).__init__(optimizer)\n",
        "\n",
        "    def get_lr(self):\n",
        "        epoch = self.last_epoch\n",
        "        if epoch < self.warmup_epochs:\n",
        "            # Linear warmup scaling\n",
        "            warmup_factor = (epoch + 1) / self.warmup_epochs\n",
        "            return [warmup_factor * self.scaled_lr for _ in self.optimizer.param_groups]\n",
        "        else:\n",
        "            # polynomially decaying learning rate of ηt = η0×(1−t/T)\n",
        "            if epoch == self.warmup_epochs:\n",
        "                print(f\"Warmup phase completed at epoch {epoch}. Switching to constant learning rate.\")\n",
        "            return [self.scaled_lr * ( 1 - ( (epoch - self.warmup_epochs) / (self.total_epochs - self.warmup_epochs))) for _ in self.optimizer.param_groups]\n",
        "\n",
        "# Command-line arguments\n",
        "parser = argparse.ArgumentParser(description='Train with Large-Batch Optimizers')\n",
        "parser.add_argument('--optimizer', type=str, default='SGDM', choices=['SGDM', 'AdamW', 'LARS', 'LAMB'],\n",
        "                    help='Choose optimizer')\n",
        "parser.add_argument('--batch-size', type=int, default=128, help='Batch size')\n",
        "parser.add_argument('--momentum', type=float, default=0.9, help='Momentum for SGDM and LARS')\n",
        "parser.add_argument('--weight-decay', type=float, default=1e-5, help='Weight decay')\n",
        "parser.add_argument('--b1', type=float, default=0.9, help='Beta1 for AdamW')\n",
        "parser.add_argument('--b2', type=float, default=0.999, help='Beta2 for AdamW')\n",
        "parser.add_argument('--trust-coefficient', type=float, default=0.001, help='Trust coefficient for LARS')\n",
        "parser.add_argument('--epochs', type=int, default=150, help='Number of epochs')\n",
        "parser.add_argument('--warmup-epochs', type=int, default=5, help='Number of epochs')\n",
        "args = parser.parse_args()\n",
        "\n",
        "\n",
        "torch.manual_seed(42) # Set the seed for reproducibility\n",
        "torch.cuda.manual_seed_all(42) # Set the seed for reproducibility on GPU\n",
        "\n",
        "# use the same mean and std to add consistency to all datasets\n",
        "data = torchvision.datasets.CIFAR100(root='./data', train=True, download=True, transform=transforms.ToTensor())\n",
        "mean, std = compute_mean_std(data)\n",
        "\n",
        "# Load and split CIFAR-100 dataset\n",
        "train_transform = transforms.Compose([\n",
        "  transforms.RandomHorizontalFlip(),\n",
        "  # transforms.RandomRotation(15),\n",
        "  transforms.RandomCrop(32, padding=4),\n",
        "  # transforms.RandomAffine(degrees=0, translate=(0.1, 0.1)),\n",
        "  transforms.RandomPerspective(distortion_scale=0.2, p=0.5),\n",
        "  transforms.ColorJitter(brightness=0.3, contrast=0.3, saturation=0.3, hue=0.2),\n",
        "  transforms.ToTensor(),\n",
        "  transforms.Normalize(mean, std)\n",
        "])\n",
        "\n",
        "val_transform = transforms.Compose([\n",
        "    transforms.ToTensor(), # Convert into tensor\n",
        "    transforms.Normalize(mean, std)  # Normalization\n",
        "])\n",
        "\n",
        "test_transform = transforms.Compose([\n",
        "    transforms.CenterCrop(24),\n",
        "    transforms.Pad(4),\n",
        "    transforms.ToTensor(),  # Convert to PyTorch tensor\n",
        "    transforms.Normalize(mean, std)\n",
        "])\n",
        "\n",
        "trainset = torchvision.datasets.CIFAR100(root='./data', train=True, download=True, transform=train_transform)\n",
        "valset = torchvision.datasets.CIFAR100(root='./data', train=True, download=True, transform=val_transform)\n",
        "indices = torch.randperm(len(trainset))\n",
        "val_size = int(0.2*len(trainset))\n",
        "trainset = torch.utils.data.Subset(trainset, indices[:-val_size])\n",
        "valset = torch.utils.data.Subset(valset, indices[-val_size:])\n",
        "\n",
        "trainloader = torch.utils.data.DataLoader(trainset, batch_size=args.batch_size, shuffle=True, num_workers=2)\n",
        "valloader = torch.utils.data.DataLoader(valset, batch_size=args.batch_size, shuffle=False, num_workers=2)\n",
        "\n",
        "testset = torchvision.datasets.CIFAR100(root='./data', train=False, download=True, transform=test_transform)\n",
        "testloader = torch.utils.data.DataLoader(testset, batch_size=args.batch_size, shuffle=False, num_workers=2)\n",
        "\n",
        "\n",
        "# Fixed parameter from paper [18] to calculate the square root LR scaling value\n",
        "# base_lr = 5 / (2**3 * 10**3)\n",
        "# reference_batch_size = 512\n",
        "#scaled_lr = base_lr * (args.batch_size / reference_batch_size) ** 0.5\n",
        "\n",
        "# Mapping optimizers\n",
        "if args.optimizer == 'SGDM':\n",
        "    base_lr = 1e-2\n",
        "    reference_batch_size = 64\n",
        "    scaled_lr = base_lr * (args.batch_size / reference_batch_size) ** 0.5\n",
        "    optimizer = optim.SGD(net.parameters(), lr=scaled_lr, momentum=args.momentum, weight_decay=args.weight_decay)\n",
        "elif args.optimizer == 'AdamW':\n",
        "    base_lr = 5e-4\n",
        "    reference_batch_size = 64\n",
        "    scaled_lr = base_lr * (args.batch_size / reference_batch_size) ** 0.5\n",
        "    optimizer = optim.AdamW(net.parameters(), lr=scaled_lr, betas=(args.b1, args.b2), weight_decay=args.weight_decay)\n",
        "elif args.optimizer == 'LARS':\n",
        "    base_lr = 1e-2\n",
        "    reference_batch_size = 64\n",
        "    scaled_lr = base_lr * (args.batch_size / reference_batch_size) ** 0.5\n",
        "    optimizer = LARS(net.parameters(), lr=scaled_lr, momentum=args.momentum, weight_decay=args.weight_decay, trust_coefficient=args.trust_coefficient)\n",
        "elif args.optimizer == 'LAMB':\n",
        "    base_lr = 5e-4\n",
        "    reference_batch_size = 64\n",
        "    scaled_lr = base_lr * (args.batch_size / reference_batch_size) ** 0.5\n",
        "    optimizer = LAMB(net.parameters(), lr=scaled_lr, weight_decay=args.weight_decay)\n",
        "\n",
        "criterion = nn.CrossEntropyLoss()\n",
        "\n",
        "# scheduler should be e square root LR scaling rule and linear-epoch warmup scheduling to automatically adjust learning rate\n",
        "scheduler = SqrtLRScheduler(\n",
        "    optimizer = optimizer,\n",
        "    base_lr = base_lr,\n",
        "    batch_size = args.batch_size,\n",
        "    warmup_epochs = args.warmup_epochs,\n",
        "    total_epochs = args.epochs,\n",
        "    reference_batch_size = reference_batch_size,\n",
        "    verbose = True)\n",
        "\n",
        "# Training Function\n",
        "def train_model(optimizer, scheduler, model, criterion, trainloader, valloader , testloader, device, epochs, save_checkpoint_interval=10):\n",
        "    train_losses, val_losses, test_losses = [], [], []\n",
        "    train_accuracies, val_accuracies, test_accuracies = [], [], []\n",
        "    for epoch in range(epochs):\n",
        "        model.train()\n",
        "        running_loss, correct_train, total_train = 0.0, 0, 0\n",
        "        for inputs, labels in trainloader:\n",
        "            inputs, labels = inputs.to(device), labels.to(device)\n",
        "            optimizer.zero_grad()\n",
        "            outputs = model(inputs)\n",
        "            loss = criterion(outputs, labels)\n",
        "            loss.backward()\n",
        "            optimizer.step()\n",
        "            running_loss += loss.item()\n",
        "            _, predicted = outputs.max(1)\n",
        "            total_train += labels.size(0)\n",
        "            correct_train += predicted.eq(labels).sum().item()\n",
        "        train_loss = running_loss / len(trainloader)\n",
        "        train_accuracy = 100. * correct_train / total_train\n",
        "        train_losses.append(train_loss)\n",
        "        train_accuracies.append(train_accuracy)\n",
        "\n",
        "        # Validation\n",
        "        model.eval()\n",
        "        correct_val, total_val, val_loss = 0, 0, 0.0\n",
        "        with torch.no_grad():\n",
        "            for inputs, labels in valloader:\n",
        "                inputs, labels = inputs.to(device), labels.to(device)\n",
        "                outputs = model(inputs)\n",
        "                loss = criterion(outputs, labels)\n",
        "                val_loss += loss.item()\n",
        "                _, predicted = outputs.max(1)\n",
        "                total_val += labels.size(0)\n",
        "                correct_val += predicted.eq(labels).sum().item()\n",
        "        val_loss /= len(valloader)\n",
        "        val_losses.append(val_loss)\n",
        "        val_accuracy = 100. * correct_val / total_val\n",
        "        val_accuracies.append(val_accuracy)\n",
        "\n",
        "        '''\n",
        "        # Early Stopping\n",
        "        if val_loss < best_val_loss:\n",
        "          best_val_loss = val_loss\n",
        "          epochs_no_improve = 0\n",
        "        else:\n",
        "          epochs_no_improve += 1\n",
        "\n",
        "        if epochs_no_improve == patience:\n",
        "          print(\"Early stopping!\")\n",
        "          break\n",
        "        '''\n",
        "\n",
        "        # Test\n",
        "        correct_test, total_test, test_loss = 0, 0, 0.0\n",
        "        with torch.no_grad():\n",
        "            for inputs, labels in testloader:\n",
        "                inputs, labels = inputs.to(device), labels.to(device)\n",
        "                outputs = model(inputs)\n",
        "                loss = criterion(outputs, labels)\n",
        "                test_loss += loss.item()\n",
        "                _, predicted = outputs.max(1)\n",
        "                total_test += labels.size(0)\n",
        "                correct_test += predicted.eq(labels).sum().item()\n",
        "        test_loss /= len(testloader)\n",
        "        test_losses.append(test_loss)\n",
        "        test_accuracy = 100. * correct_test / total_test\n",
        "        test_accuracies.append(test_accuracy)\n",
        "\n",
        "        scheduler.step()\n",
        "\n",
        "        # Checkpointing\n",
        "        if (epoch + 1) % save_checkpoint_interval == 0:\n",
        "            checkpoint_filename = f'checkpoint_epoch_{epoch + 1}.pth'\n",
        "            checkpoint = {\n",
        "                'epoch': epoch + 1,\n",
        "                'model_state_dict': model.state_dict(),\n",
        "                'optimizer_state_dict': optimizer.state_dict(),\n",
        "                'scheduler_state_dict': scheduler.state_dict(),\n",
        "                'loss': loss.item(),\n",
        "            }\n",
        "            checkpoint_path = os.path.join('./', checkpoint_filename)\n",
        "            torch.save(checkpoint, checkpoint_path)\n",
        "            print(f'Checkpoint saved at epoch {epoch + 1}: {checkpoint_path}')\n",
        "\n",
        "            # Download the checkpoint\n",
        "            files.download(checkpoint_filename)\n",
        "\n",
        "        print(f'Epoch {epoch+1}/{epochs}, Train Acc: {train_accuracy:.2f}%, Val Acc: {val_accuracy:.2f}%, Test Acc: {test_accuracy:.2f}%')\n",
        "        print(f'Epoch {epoch+1}/{epochs}, Train Loss: {train_loss:.4f}, Val Loss: {val_loss:.4f}, Test Loss: {test_loss:.4f}')\n",
        "\n",
        "    return train_losses, val_losses, test_losses, train_accuracies, val_accuracies, test_accuracies\n",
        "\n",
        "# Train the model\n",
        "print(f\"--- Train with {args.optimizer} ---\")\n",
        "train_loss, val_loss, test_loss, train_acc, val_acc, test_acc = train_model(optimizer, scheduler, net, criterion, trainloader, valloader, testloader, device, args.epochs)\n",
        "\n",
        "# Save model\n",
        "torch.save(net.state_dict(), f'net_{args.optimizer}.pth')\n",
        "\n",
        "# Plot results\n",
        "# Plot Training Loss\n",
        "plt.figure(figsize=(6, 4))\n",
        "plt.plot(train_loss, label='Train Loss')\n",
        "plt.title('Training Loss')\n",
        "plt.xlabel('Epoch')\n",
        "plt.ylabel('Loss')\n",
        "plt.legend()\n",
        "plt.tight_layout()\n",
        "plt.savefig('train_loss.png')\n",
        "plt.show()\n",
        "\n",
        "# Plot Training Accuracy\n",
        "plt.figure(figsize=(6, 4))\n",
        "plt.plot(train_acc, label='Train Accuracy')\n",
        "plt.title('Training Accuracy')\n",
        "plt.xlabel('Epoch')\n",
        "plt.ylabel('Accuracy (%)')\n",
        "plt.legend()\n",
        "plt.tight_layout()\n",
        "plt.savefig('train_accuracy.png')\n",
        "plt.show()\n",
        "\n",
        "# Plot Validation Loss\n",
        "plt.figure(figsize=(6, 4))\n",
        "plt.plot(val_loss, label='Validation Loss')\n",
        "plt.title('Validation Loss')\n",
        "plt.xlabel('Epoch')\n",
        "plt.ylabel('Loss')\n",
        "plt.legend()\n",
        "plt.tight_layout()\n",
        "plt.savefig('val_loss.png')\n",
        "plt.show()\n",
        "\n",
        "# Plot Validation Accuracy\n",
        "plt.figure(figsize=(6, 4))\n",
        "plt.plot(val_acc, label='Validation Accuracy')\n",
        "plt.title('Validation Accuracy')\n",
        "plt.xlabel('Epoch')\n",
        "plt.ylabel('Accuracy (%)')\n",
        "plt.legend()\n",
        "plt.tight_layout()\n",
        "plt.savefig('val_accuracy.png')\n",
        "plt.show()\n",
        "\n",
        "# Plot Test Loss\n",
        "plt.figure(figsize=(6, 4))\n",
        "plt.plot(test_loss, label='Test Loss')\n",
        "plt.title('Test Loss')\n",
        "plt.xlabel('Epoch')\n",
        "plt.ylabel('Loss')\n",
        "plt.legend()\n",
        "plt.tight_layout()\n",
        "plt.savefig('test_loss.png')\n",
        "plt.show()\n",
        "\n",
        "# Plot Test Accuracy\n",
        "plt.figure(figsize=(6, 4))\n",
        "plt.plot(test_acc, label='Test Accuracy')\n",
        "plt.title('Test Accuracy')\n",
        "plt.xlabel('Epoch')\n",
        "plt.ylabel('Accuracy (%)')\n",
        "plt.legend()\n",
        "plt.tight_layout()\n",
        "plt.savefig('test_accuracy.png')\n",
        "plt.show()\n"
      ]
    },
    {
      "cell_type": "code",
      "execution_count": null,
      "metadata": {
        "colab": {
          "base_uri": "https://localhost:8080/",
          "height": 460
        },
        "id": "_hEcpkQqYJmP",
        "outputId": "054cca2f-8701-4830-ae1c-4f1fc306c8c1"
      },
      "outputs": [
        {
          "output_type": "stream",
          "name": "stdout",
          "text": [
            "Files already downloaded and verified\n",
            "Files already downloaded and verified\n",
            "Files already downloaded and verified\n",
            "Files already downloaded and verified\n",
            "--- Train with SGDM ---\n"
          ]
        },
        {
          "output_type": "error",
          "ename": "KeyboardInterrupt",
          "evalue": "",
          "traceback": [
            "\u001b[0;31m---------------------------------------------------------------------------\u001b[0m",
            "\u001b[0;31mKeyboardInterrupt\u001b[0m                         Traceback (most recent call last)",
            "\u001b[0;32m/content/large_batch_training.py\u001b[0m in \u001b[0;36m<module>\u001b[0;34m\u001b[0m\n\u001b[1;32m    385\u001b[0m \u001b[0;31m# Train the model\u001b[0m\u001b[0;34m\u001b[0m\u001b[0;34m\u001b[0m\u001b[0m\n\u001b[1;32m    386\u001b[0m \u001b[0mprint\u001b[0m\u001b[0;34m(\u001b[0m\u001b[0;34mf\"--- Train with {args.optimizer} ---\"\u001b[0m\u001b[0;34m)\u001b[0m\u001b[0;34m\u001b[0m\u001b[0;34m\u001b[0m\u001b[0m\n\u001b[0;32m--> 387\u001b[0;31m \u001b[0mtrain_loss\u001b[0m\u001b[0;34m,\u001b[0m \u001b[0mval_loss\u001b[0m\u001b[0;34m,\u001b[0m \u001b[0mtest_loss\u001b[0m\u001b[0;34m,\u001b[0m \u001b[0mtrain_acc\u001b[0m\u001b[0;34m,\u001b[0m \u001b[0mval_acc\u001b[0m\u001b[0;34m,\u001b[0m \u001b[0mtest_acc\u001b[0m \u001b[0;34m=\u001b[0m \u001b[0mtrain_model\u001b[0m\u001b[0;34m(\u001b[0m\u001b[0moptimizer\u001b[0m\u001b[0;34m,\u001b[0m \u001b[0mscheduler\u001b[0m\u001b[0;34m,\u001b[0m \u001b[0mnet\u001b[0m\u001b[0;34m,\u001b[0m \u001b[0mcriterion\u001b[0m\u001b[0;34m,\u001b[0m \u001b[0mtrainloader\u001b[0m\u001b[0;34m,\u001b[0m \u001b[0mvalloader\u001b[0m\u001b[0;34m,\u001b[0m \u001b[0mtestloader\u001b[0m\u001b[0;34m,\u001b[0m \u001b[0mdevice\u001b[0m\u001b[0;34m,\u001b[0m \u001b[0margs\u001b[0m\u001b[0;34m.\u001b[0m\u001b[0mepochs\u001b[0m\u001b[0;34m)\u001b[0m\u001b[0;34m\u001b[0m\u001b[0;34m\u001b[0m\u001b[0m\n\u001b[0m\u001b[1;32m    388\u001b[0m \u001b[0;34m\u001b[0m\u001b[0m\n\u001b[1;32m    389\u001b[0m \u001b[0;31m# Save model\u001b[0m\u001b[0;34m\u001b[0m\u001b[0;34m\u001b[0m\u001b[0m\n",
            "\u001b[0;32m/content/large_batch_training.py\u001b[0m in \u001b[0;36mtrain_model\u001b[0;34m(optimizer, scheduler, model, criterion, trainloader, valloader, testloader, device, epochs, save_checkpoint_interval)\u001b[0m\n\u001b[1;32m    297\u001b[0m         \u001b[0mmodel\u001b[0m\u001b[0;34m.\u001b[0m\u001b[0mtrain\u001b[0m\u001b[0;34m(\u001b[0m\u001b[0;34m)\u001b[0m\u001b[0;34m\u001b[0m\u001b[0;34m\u001b[0m\u001b[0m\n\u001b[1;32m    298\u001b[0m         \u001b[0mrunning_loss\u001b[0m\u001b[0;34m,\u001b[0m \u001b[0mcorrect_train\u001b[0m\u001b[0;34m,\u001b[0m \u001b[0mtotal_train\u001b[0m \u001b[0;34m=\u001b[0m \u001b[0;36m0.0\u001b[0m\u001b[0;34m,\u001b[0m \u001b[0;36m0\u001b[0m\u001b[0;34m,\u001b[0m \u001b[0;36m0\u001b[0m\u001b[0;34m\u001b[0m\u001b[0;34m\u001b[0m\u001b[0m\n\u001b[0;32m--> 299\u001b[0;31m         \u001b[0;32mfor\u001b[0m \u001b[0minputs\u001b[0m\u001b[0;34m,\u001b[0m \u001b[0mlabels\u001b[0m \u001b[0;32min\u001b[0m \u001b[0mtrainloader\u001b[0m\u001b[0;34m:\u001b[0m\u001b[0;34m\u001b[0m\u001b[0;34m\u001b[0m\u001b[0m\n\u001b[0m\u001b[1;32m    300\u001b[0m             \u001b[0minputs\u001b[0m\u001b[0;34m,\u001b[0m \u001b[0mlabels\u001b[0m \u001b[0;34m=\u001b[0m \u001b[0minputs\u001b[0m\u001b[0;34m.\u001b[0m\u001b[0mto\u001b[0m\u001b[0;34m(\u001b[0m\u001b[0mdevice\u001b[0m\u001b[0;34m)\u001b[0m\u001b[0;34m,\u001b[0m \u001b[0mlabels\u001b[0m\u001b[0;34m.\u001b[0m\u001b[0mto\u001b[0m\u001b[0;34m(\u001b[0m\u001b[0mdevice\u001b[0m\u001b[0;34m)\u001b[0m\u001b[0;34m\u001b[0m\u001b[0;34m\u001b[0m\u001b[0m\n\u001b[1;32m    301\u001b[0m             \u001b[0moptimizer\u001b[0m\u001b[0;34m.\u001b[0m\u001b[0mzero_grad\u001b[0m\u001b[0;34m(\u001b[0m\u001b[0;34m)\u001b[0m\u001b[0;34m\u001b[0m\u001b[0;34m\u001b[0m\u001b[0m\n",
            "\u001b[0;32m/usr/local/lib/python3.10/dist-packages/torch/utils/data/dataloader.py\u001b[0m in \u001b[0;36m__next__\u001b[0;34m(self)\u001b[0m\n\u001b[1;32m    699\u001b[0m                 \u001b[0;31m# TODO(https://github.com/pytorch/pytorch/issues/76750)\u001b[0m\u001b[0;34m\u001b[0m\u001b[0;34m\u001b[0m\u001b[0m\n\u001b[1;32m    700\u001b[0m                 \u001b[0mself\u001b[0m\u001b[0;34m.\u001b[0m\u001b[0m_reset\u001b[0m\u001b[0;34m(\u001b[0m\u001b[0;34m)\u001b[0m  \u001b[0;31m# type: ignore[call-arg]\u001b[0m\u001b[0;34m\u001b[0m\u001b[0;34m\u001b[0m\u001b[0m\n\u001b[0;32m--> 701\u001b[0;31m             \u001b[0mdata\u001b[0m \u001b[0;34m=\u001b[0m \u001b[0mself\u001b[0m\u001b[0;34m.\u001b[0m\u001b[0m_next_data\u001b[0m\u001b[0;34m(\u001b[0m\u001b[0;34m)\u001b[0m\u001b[0;34m\u001b[0m\u001b[0;34m\u001b[0m\u001b[0m\n\u001b[0m\u001b[1;32m    702\u001b[0m             \u001b[0mself\u001b[0m\u001b[0;34m.\u001b[0m\u001b[0m_num_yielded\u001b[0m \u001b[0;34m+=\u001b[0m \u001b[0;36m1\u001b[0m\u001b[0;34m\u001b[0m\u001b[0;34m\u001b[0m\u001b[0m\n\u001b[1;32m    703\u001b[0m             if (\n",
            "\u001b[0;32m/usr/local/lib/python3.10/dist-packages/torch/utils/data/dataloader.py\u001b[0m in \u001b[0;36m_next_data\u001b[0;34m(self)\u001b[0m\n\u001b[1;32m   1446\u001b[0m \u001b[0;34m\u001b[0m\u001b[0m\n\u001b[1;32m   1447\u001b[0m             \u001b[0;32massert\u001b[0m \u001b[0;32mnot\u001b[0m \u001b[0mself\u001b[0m\u001b[0;34m.\u001b[0m\u001b[0m_shutdown\u001b[0m \u001b[0;32mand\u001b[0m \u001b[0mself\u001b[0m\u001b[0;34m.\u001b[0m\u001b[0m_tasks_outstanding\u001b[0m \u001b[0;34m>\u001b[0m \u001b[0;36m0\u001b[0m\u001b[0;34m\u001b[0m\u001b[0;34m\u001b[0m\u001b[0m\n\u001b[0;32m-> 1448\u001b[0;31m             \u001b[0midx\u001b[0m\u001b[0;34m,\u001b[0m \u001b[0mdata\u001b[0m \u001b[0;34m=\u001b[0m \u001b[0mself\u001b[0m\u001b[0;34m.\u001b[0m\u001b[0m_get_data\u001b[0m\u001b[0;34m(\u001b[0m\u001b[0;34m)\u001b[0m\u001b[0;34m\u001b[0m\u001b[0;34m\u001b[0m\u001b[0m\n\u001b[0m\u001b[1;32m   1449\u001b[0m             \u001b[0mself\u001b[0m\u001b[0;34m.\u001b[0m\u001b[0m_tasks_outstanding\u001b[0m \u001b[0;34m-=\u001b[0m \u001b[0;36m1\u001b[0m\u001b[0;34m\u001b[0m\u001b[0;34m\u001b[0m\u001b[0m\n\u001b[1;32m   1450\u001b[0m             \u001b[0;32mif\u001b[0m \u001b[0mself\u001b[0m\u001b[0;34m.\u001b[0m\u001b[0m_dataset_kind\u001b[0m \u001b[0;34m==\u001b[0m \u001b[0m_DatasetKind\u001b[0m\u001b[0;34m.\u001b[0m\u001b[0mIterable\u001b[0m\u001b[0;34m:\u001b[0m\u001b[0;34m\u001b[0m\u001b[0;34m\u001b[0m\u001b[0m\n",
            "\u001b[0;32m/usr/local/lib/python3.10/dist-packages/torch/utils/data/dataloader.py\u001b[0m in \u001b[0;36m_get_data\u001b[0;34m(self)\u001b[0m\n\u001b[1;32m   1410\u001b[0m         \u001b[0;32melse\u001b[0m\u001b[0;34m:\u001b[0m\u001b[0;34m\u001b[0m\u001b[0;34m\u001b[0m\u001b[0m\n\u001b[1;32m   1411\u001b[0m             \u001b[0;32mwhile\u001b[0m \u001b[0;32mTrue\u001b[0m\u001b[0;34m:\u001b[0m\u001b[0;34m\u001b[0m\u001b[0;34m\u001b[0m\u001b[0m\n\u001b[0;32m-> 1412\u001b[0;31m                 \u001b[0msuccess\u001b[0m\u001b[0;34m,\u001b[0m \u001b[0mdata\u001b[0m \u001b[0;34m=\u001b[0m \u001b[0mself\u001b[0m\u001b[0;34m.\u001b[0m\u001b[0m_try_get_data\u001b[0m\u001b[0;34m(\u001b[0m\u001b[0;34m)\u001b[0m\u001b[0;34m\u001b[0m\u001b[0;34m\u001b[0m\u001b[0m\n\u001b[0m\u001b[1;32m   1413\u001b[0m                 \u001b[0;32mif\u001b[0m \u001b[0msuccess\u001b[0m\u001b[0;34m:\u001b[0m\u001b[0;34m\u001b[0m\u001b[0;34m\u001b[0m\u001b[0m\n\u001b[1;32m   1414\u001b[0m                     \u001b[0;32mreturn\u001b[0m \u001b[0mdata\u001b[0m\u001b[0;34m\u001b[0m\u001b[0;34m\u001b[0m\u001b[0m\n",
            "\u001b[0;32m/usr/local/lib/python3.10/dist-packages/torch/utils/data/dataloader.py\u001b[0m in \u001b[0;36m_try_get_data\u001b[0;34m(self, timeout)\u001b[0m\n\u001b[1;32m   1241\u001b[0m         \u001b[0;31m#   (bool: whether successfully get data, any: data if successful else None)\u001b[0m\u001b[0;34m\u001b[0m\u001b[0;34m\u001b[0m\u001b[0m\n\u001b[1;32m   1242\u001b[0m         \u001b[0;32mtry\u001b[0m\u001b[0;34m:\u001b[0m\u001b[0;34m\u001b[0m\u001b[0;34m\u001b[0m\u001b[0m\n\u001b[0;32m-> 1243\u001b[0;31m             \u001b[0mdata\u001b[0m \u001b[0;34m=\u001b[0m \u001b[0mself\u001b[0m\u001b[0;34m.\u001b[0m\u001b[0m_data_queue\u001b[0m\u001b[0;34m.\u001b[0m\u001b[0mget\u001b[0m\u001b[0;34m(\u001b[0m\u001b[0mtimeout\u001b[0m\u001b[0;34m=\u001b[0m\u001b[0mtimeout\u001b[0m\u001b[0;34m)\u001b[0m\u001b[0;34m\u001b[0m\u001b[0;34m\u001b[0m\u001b[0m\n\u001b[0m\u001b[1;32m   1244\u001b[0m             \u001b[0;32mreturn\u001b[0m \u001b[0;34m(\u001b[0m\u001b[0;32mTrue\u001b[0m\u001b[0;34m,\u001b[0m \u001b[0mdata\u001b[0m\u001b[0;34m)\u001b[0m\u001b[0;34m\u001b[0m\u001b[0;34m\u001b[0m\u001b[0m\n\u001b[1;32m   1245\u001b[0m         \u001b[0;32mexcept\u001b[0m \u001b[0mException\u001b[0m \u001b[0;32mas\u001b[0m \u001b[0me\u001b[0m\u001b[0;34m:\u001b[0m\u001b[0;34m\u001b[0m\u001b[0;34m\u001b[0m\u001b[0m\n",
            "\u001b[0;32m/usr/lib/python3.10/multiprocessing/queues.py\u001b[0m in \u001b[0;36mget\u001b[0;34m(self, block, timeout)\u001b[0m\n\u001b[1;32m    111\u001b[0m                 \u001b[0;32mif\u001b[0m \u001b[0mblock\u001b[0m\u001b[0;34m:\u001b[0m\u001b[0;34m\u001b[0m\u001b[0;34m\u001b[0m\u001b[0m\n\u001b[1;32m    112\u001b[0m                     \u001b[0mtimeout\u001b[0m \u001b[0;34m=\u001b[0m \u001b[0mdeadline\u001b[0m \u001b[0;34m-\u001b[0m \u001b[0mtime\u001b[0m\u001b[0;34m.\u001b[0m\u001b[0mmonotonic\u001b[0m\u001b[0;34m(\u001b[0m\u001b[0;34m)\u001b[0m\u001b[0;34m\u001b[0m\u001b[0;34m\u001b[0m\u001b[0m\n\u001b[0;32m--> 113\u001b[0;31m                     \u001b[0;32mif\u001b[0m \u001b[0;32mnot\u001b[0m \u001b[0mself\u001b[0m\u001b[0;34m.\u001b[0m\u001b[0m_poll\u001b[0m\u001b[0;34m(\u001b[0m\u001b[0mtimeout\u001b[0m\u001b[0;34m)\u001b[0m\u001b[0;34m:\u001b[0m\u001b[0;34m\u001b[0m\u001b[0;34m\u001b[0m\u001b[0m\n\u001b[0m\u001b[1;32m    114\u001b[0m                         \u001b[0;32mraise\u001b[0m \u001b[0mEmpty\u001b[0m\u001b[0;34m\u001b[0m\u001b[0;34m\u001b[0m\u001b[0m\n\u001b[1;32m    115\u001b[0m                 \u001b[0;32melif\u001b[0m \u001b[0;32mnot\u001b[0m \u001b[0mself\u001b[0m\u001b[0;34m.\u001b[0m\u001b[0m_poll\u001b[0m\u001b[0;34m(\u001b[0m\u001b[0;34m)\u001b[0m\u001b[0;34m:\u001b[0m\u001b[0;34m\u001b[0m\u001b[0;34m\u001b[0m\u001b[0m\n",
            "\u001b[0;32m/usr/lib/python3.10/multiprocessing/connection.py\u001b[0m in \u001b[0;36mpoll\u001b[0;34m(self, timeout)\u001b[0m\n\u001b[1;32m    255\u001b[0m         \u001b[0mself\u001b[0m\u001b[0;34m.\u001b[0m\u001b[0m_check_closed\u001b[0m\u001b[0;34m(\u001b[0m\u001b[0;34m)\u001b[0m\u001b[0;34m\u001b[0m\u001b[0;34m\u001b[0m\u001b[0m\n\u001b[1;32m    256\u001b[0m         \u001b[0mself\u001b[0m\u001b[0;34m.\u001b[0m\u001b[0m_check_readable\u001b[0m\u001b[0;34m(\u001b[0m\u001b[0;34m)\u001b[0m\u001b[0;34m\u001b[0m\u001b[0;34m\u001b[0m\u001b[0m\n\u001b[0;32m--> 257\u001b[0;31m         \u001b[0;32mreturn\u001b[0m \u001b[0mself\u001b[0m\u001b[0;34m.\u001b[0m\u001b[0m_poll\u001b[0m\u001b[0;34m(\u001b[0m\u001b[0mtimeout\u001b[0m\u001b[0;34m)\u001b[0m\u001b[0;34m\u001b[0m\u001b[0;34m\u001b[0m\u001b[0m\n\u001b[0m\u001b[1;32m    258\u001b[0m \u001b[0;34m\u001b[0m\u001b[0m\n\u001b[1;32m    259\u001b[0m     \u001b[0;32mdef\u001b[0m \u001b[0m__enter__\u001b[0m\u001b[0;34m(\u001b[0m\u001b[0mself\u001b[0m\u001b[0;34m)\u001b[0m\u001b[0;34m:\u001b[0m\u001b[0;34m\u001b[0m\u001b[0;34m\u001b[0m\u001b[0m\n",
            "\u001b[0;32m/usr/lib/python3.10/multiprocessing/connection.py\u001b[0m in \u001b[0;36m_poll\u001b[0;34m(self, timeout)\u001b[0m\n\u001b[1;32m    422\u001b[0m \u001b[0;34m\u001b[0m\u001b[0m\n\u001b[1;32m    423\u001b[0m     \u001b[0;32mdef\u001b[0m \u001b[0m_poll\u001b[0m\u001b[0;34m(\u001b[0m\u001b[0mself\u001b[0m\u001b[0;34m,\u001b[0m \u001b[0mtimeout\u001b[0m\u001b[0;34m)\u001b[0m\u001b[0;34m:\u001b[0m\u001b[0;34m\u001b[0m\u001b[0;34m\u001b[0m\u001b[0m\n\u001b[0;32m--> 424\u001b[0;31m         \u001b[0mr\u001b[0m \u001b[0;34m=\u001b[0m \u001b[0mwait\u001b[0m\u001b[0;34m(\u001b[0m\u001b[0;34m[\u001b[0m\u001b[0mself\u001b[0m\u001b[0;34m]\u001b[0m\u001b[0;34m,\u001b[0m \u001b[0mtimeout\u001b[0m\u001b[0;34m)\u001b[0m\u001b[0;34m\u001b[0m\u001b[0;34m\u001b[0m\u001b[0m\n\u001b[0m\u001b[1;32m    425\u001b[0m         \u001b[0;32mreturn\u001b[0m \u001b[0mbool\u001b[0m\u001b[0;34m(\u001b[0m\u001b[0mr\u001b[0m\u001b[0;34m)\u001b[0m\u001b[0;34m\u001b[0m\u001b[0;34m\u001b[0m\u001b[0m\n\u001b[1;32m    426\u001b[0m \u001b[0;34m\u001b[0m\u001b[0m\n",
            "\u001b[0;32m/usr/lib/python3.10/multiprocessing/connection.py\u001b[0m in \u001b[0;36mwait\u001b[0;34m(object_list, timeout)\u001b[0m\n\u001b[1;32m    929\u001b[0m \u001b[0;34m\u001b[0m\u001b[0m\n\u001b[1;32m    930\u001b[0m             \u001b[0;32mwhile\u001b[0m \u001b[0;32mTrue\u001b[0m\u001b[0;34m:\u001b[0m\u001b[0;34m\u001b[0m\u001b[0;34m\u001b[0m\u001b[0m\n\u001b[0;32m--> 931\u001b[0;31m                 \u001b[0mready\u001b[0m \u001b[0;34m=\u001b[0m \u001b[0mselector\u001b[0m\u001b[0;34m.\u001b[0m\u001b[0mselect\u001b[0m\u001b[0;34m(\u001b[0m\u001b[0mtimeout\u001b[0m\u001b[0;34m)\u001b[0m\u001b[0;34m\u001b[0m\u001b[0;34m\u001b[0m\u001b[0m\n\u001b[0m\u001b[1;32m    932\u001b[0m                 \u001b[0;32mif\u001b[0m \u001b[0mready\u001b[0m\u001b[0;34m:\u001b[0m\u001b[0;34m\u001b[0m\u001b[0;34m\u001b[0m\u001b[0m\n\u001b[1;32m    933\u001b[0m                     \u001b[0;32mreturn\u001b[0m \u001b[0;34m[\u001b[0m\u001b[0mkey\u001b[0m\u001b[0;34m.\u001b[0m\u001b[0mfileobj\u001b[0m \u001b[0;32mfor\u001b[0m \u001b[0;34m(\u001b[0m\u001b[0mkey\u001b[0m\u001b[0;34m,\u001b[0m \u001b[0mevents\u001b[0m\u001b[0;34m)\u001b[0m \u001b[0;32min\u001b[0m \u001b[0mready\u001b[0m\u001b[0;34m]\u001b[0m\u001b[0;34m\u001b[0m\u001b[0;34m\u001b[0m\u001b[0m\n",
            "\u001b[0;32m/usr/lib/python3.10/selectors.py\u001b[0m in \u001b[0;36mselect\u001b[0;34m(self, timeout)\u001b[0m\n\u001b[1;32m    414\u001b[0m         \u001b[0mready\u001b[0m \u001b[0;34m=\u001b[0m \u001b[0;34m[\u001b[0m\u001b[0;34m]\u001b[0m\u001b[0;34m\u001b[0m\u001b[0;34m\u001b[0m\u001b[0m\n\u001b[1;32m    415\u001b[0m         \u001b[0;32mtry\u001b[0m\u001b[0;34m:\u001b[0m\u001b[0;34m\u001b[0m\u001b[0;34m\u001b[0m\u001b[0m\n\u001b[0;32m--> 416\u001b[0;31m             \u001b[0mfd_event_list\u001b[0m \u001b[0;34m=\u001b[0m \u001b[0mself\u001b[0m\u001b[0;34m.\u001b[0m\u001b[0m_selector\u001b[0m\u001b[0;34m.\u001b[0m\u001b[0mpoll\u001b[0m\u001b[0;34m(\u001b[0m\u001b[0mtimeout\u001b[0m\u001b[0;34m)\u001b[0m\u001b[0;34m\u001b[0m\u001b[0;34m\u001b[0m\u001b[0m\n\u001b[0m\u001b[1;32m    417\u001b[0m         \u001b[0;32mexcept\u001b[0m \u001b[0mInterruptedError\u001b[0m\u001b[0;34m:\u001b[0m\u001b[0;34m\u001b[0m\u001b[0;34m\u001b[0m\u001b[0m\n\u001b[1;32m    418\u001b[0m             \u001b[0;32mreturn\u001b[0m \u001b[0mready\u001b[0m\u001b[0;34m\u001b[0m\u001b[0;34m\u001b[0m\u001b[0m\n",
            "\u001b[0;31mKeyboardInterrupt\u001b[0m: "
          ]
        }
      ],
      "source": [
        "%run large_batch_training.py --optimizer SGDM --batch-size 128 --weight-decay 4e-4"
      ]
    },
    {
      "cell_type": "markdown",
      "metadata": {
        "id": "_2t__56QmDKL"
      },
      "source": []
    },
    {
      "cell_type": "code",
      "execution_count": null,
      "metadata": {
        "colab": {
          "base_uri": "https://localhost:8080/"
        },
        "id": "FqIzBQKfZFgB",
        "outputId": "beff2b9d-73ac-4a8d-ed6e-51a1140977bb"
      },
      "outputs": [
        {
          "output_type": "stream",
          "name": "stdout",
          "text": [
            "Files already downloaded and verified\n",
            "Files already downloaded and verified\n",
            "Files already downloaded and verified\n",
            "Files already downloaded and verified\n",
            "--- Train with AdamW ---\n"
          ]
        }
      ],
      "source": [
        "%run large_batch_training.py --optimizer AdamW --batch-size 128 --weight-decay 1e-2"
      ]
    },
    {
      "cell_type": "code",
      "execution_count": null,
      "metadata": {
        "colab": {
          "base_uri": "https://localhost:8080/"
        },
        "id": "_Y8TL9oBZL18",
        "outputId": "54fc2f89-7e7d-461b-fce6-1f0da7310a06"
      },
      "outputs": [
        {
          "name": "stdout",
          "output_type": "stream",
          "text": [
            "Files already downloaded and verified\n",
            "Files already downloaded and verified\n",
            "--- Train with LARS ---\n"
          ]
        }
      ],
      "source": [
        "%run large_batch_training.py --optimizer LARS --batch-size 128 --weight-decay 4e-4"
      ]
    },
    {
      "cell_type": "code",
      "execution_count": 2,
      "metadata": {
        "colab": {
          "base_uri": "https://localhost:8080/",
          "height": 1000
        },
        "id": "K_XY2BkhZOkY",
        "outputId": "9d573b09-f0e2-4e8d-8efb-52b81df97212"
      },
      "outputs": [
        {
          "output_type": "stream",
          "name": "stdout",
          "text": [
            "Downloading https://www.cs.toronto.edu/~kriz/cifar-100-python.tar.gz to ./data/cifar-100-python.tar.gz\n"
          ]
        },
        {
          "output_type": "stream",
          "name": "stderr",
          "text": [
            "100%|██████████| 169M/169M [00:05<00:00, 29.1MB/s]\n"
          ]
        },
        {
          "output_type": "stream",
          "name": "stdout",
          "text": [
            "Extracting ./data/cifar-100-python.tar.gz to ./data\n",
            "Files already downloaded and verified\n",
            "Files already downloaded and verified\n",
            "Files already downloaded and verified\n",
            "--- Train with LAMB ---\n",
            "Epoch 1/150, Train Acc: 1.03%, Val Acc: 1.15%, Test Acc: 1.00%\n",
            "Epoch 1/150, Train Loss: 4.6055, Val Loss: 4.6042, Test Loss: 4.6036\n",
            "Epoch 2/150, Train Acc: 1.15%, Val Acc: 1.47%, Test Acc: 1.29%\n",
            "Epoch 2/150, Train Loss: 4.6023, Val Loss: 4.5984, Test Loss: 4.5978\n",
            "Epoch 3/150, Train Acc: 1.45%, Val Acc: 1.91%, Test Acc: 1.58%\n",
            "Epoch 3/150, Train Loss: 4.5944, Val Loss: 4.5840, Test Loss: 4.5829\n",
            "Epoch 4/150, Train Acc: 2.12%, Val Acc: 3.79%, Test Acc: 3.49%\n",
            "Epoch 4/150, Train Loss: 4.5757, Val Loss: 4.5473, Test Loss: 4.5460\n",
            "Warmup phase completed at epoch 5. Switching to constant learning rate.\n",
            "Epoch 5/150, Train Acc: 3.21%, Val Acc: 4.18%, Test Acc: 4.19%\n",
            "Epoch 5/150, Train Loss: 4.5350, Val Loss: 4.4700, Test Loss: 4.4704\n",
            "Epoch 6/150, Train Acc: 3.63%, Val Acc: 5.21%, Test Acc: 5.22%\n",
            "Epoch 6/150, Train Loss: 4.4718, Val Loss: 4.3633, Test Loss: 4.3726\n",
            "Epoch 7/150, Train Acc: 4.92%, Val Acc: 6.84%, Test Acc: 6.39%\n",
            "Epoch 7/150, Train Loss: 4.3823, Val Loss: 4.2410, Test Loss: 4.2556\n",
            "Epoch 8/150, Train Acc: 5.65%, Val Acc: 7.79%, Test Acc: 7.09%\n",
            "Epoch 8/150, Train Loss: 4.2866, Val Loss: 4.1456, Test Loss: 4.1678\n",
            "Epoch 9/150, Train Acc: 6.48%, Val Acc: 8.43%, Test Acc: 7.23%\n",
            "Epoch 9/150, Train Loss: 4.2236, Val Loss: 4.0875, Test Loss: 4.1454\n",
            "Checkpoint saved at epoch 10: ./checkpoint_epoch_10.pth\n"
          ]
        },
        {
          "output_type": "display_data",
          "data": {
            "text/plain": [
              "<IPython.core.display.Javascript object>"
            ],
            "application/javascript": [
              "\n",
              "    async function download(id, filename, size) {\n",
              "      if (!google.colab.kernel.accessAllowed) {\n",
              "        return;\n",
              "      }\n",
              "      const div = document.createElement('div');\n",
              "      const label = document.createElement('label');\n",
              "      label.textContent = `Downloading \"${filename}\": `;\n",
              "      div.appendChild(label);\n",
              "      const progress = document.createElement('progress');\n",
              "      progress.max = size;\n",
              "      div.appendChild(progress);\n",
              "      document.body.appendChild(div);\n",
              "\n",
              "      const buffers = [];\n",
              "      let downloaded = 0;\n",
              "\n",
              "      const channel = await google.colab.kernel.comms.open(id);\n",
              "      // Send a message to notify the kernel that we're ready.\n",
              "      channel.send({})\n",
              "\n",
              "      for await (const message of channel.messages) {\n",
              "        // Send a message to notify the kernel that we're ready.\n",
              "        channel.send({})\n",
              "        if (message.buffers) {\n",
              "          for (const buffer of message.buffers) {\n",
              "            buffers.push(buffer);\n",
              "            downloaded += buffer.byteLength;\n",
              "            progress.value = downloaded;\n",
              "          }\n",
              "        }\n",
              "      }\n",
              "      const blob = new Blob(buffers, {type: 'application/binary'});\n",
              "      const a = document.createElement('a');\n",
              "      a.href = window.URL.createObjectURL(blob);\n",
              "      a.download = filename;\n",
              "      div.appendChild(a);\n",
              "      a.click();\n",
              "      div.remove();\n",
              "    }\n",
              "  "
            ]
          },
          "metadata": {}
        },
        {
          "output_type": "display_data",
          "data": {
            "text/plain": [
              "<IPython.core.display.Javascript object>"
            ],
            "application/javascript": [
              "download(\"download_44f02300-a1d9-48a9-b5ee-303d95777eac\", \"checkpoint_epoch_10.pth\", 9794388)"
            ]
          },
          "metadata": {}
        },
        {
          "output_type": "stream",
          "name": "stdout",
          "text": [
            "Epoch 10/150, Train Acc: 6.92%, Val Acc: 8.47%, Test Acc: 7.25%\n",
            "Epoch 10/150, Train Loss: 4.1904, Val Loss: 4.0505, Test Loss: 4.1178\n",
            "Epoch 11/150, Train Acc: 7.00%, Val Acc: 9.34%, Test Acc: 8.08%\n",
            "Epoch 11/150, Train Loss: 4.1536, Val Loss: 4.0108, Test Loss: 4.0681\n",
            "Epoch 12/150, Train Acc: 7.50%, Val Acc: 9.64%, Test Acc: 9.39%\n",
            "Epoch 12/150, Train Loss: 4.1259, Val Loss: 3.9791, Test Loss: 4.0184\n",
            "Epoch 13/150, Train Acc: 7.99%, Val Acc: 10.13%, Test Acc: 10.12%\n",
            "Epoch 13/150, Train Loss: 4.0885, Val Loss: 3.9358, Test Loss: 3.9627\n",
            "Epoch 14/150, Train Acc: 8.46%, Val Acc: 11.22%, Test Acc: 10.96%\n",
            "Epoch 14/150, Train Loss: 4.0531, Val Loss: 3.8964, Test Loss: 3.9411\n",
            "Epoch 15/150, Train Acc: 9.10%, Val Acc: 11.59%, Test Acc: 11.29%\n",
            "Epoch 15/150, Train Loss: 4.0226, Val Loss: 3.8635, Test Loss: 3.9022\n",
            "Epoch 16/150, Train Acc: 9.71%, Val Acc: 12.35%, Test Acc: 11.51%\n",
            "Epoch 16/150, Train Loss: 3.9867, Val Loss: 3.8142, Test Loss: 3.8899\n",
            "Epoch 17/150, Train Acc: 10.20%, Val Acc: 12.87%, Test Acc: 11.60%\n",
            "Epoch 17/150, Train Loss: 3.9506, Val Loss: 3.7838, Test Loss: 3.8495\n",
            "Epoch 18/150, Train Acc: 10.35%, Val Acc: 13.23%, Test Acc: 12.95%\n",
            "Epoch 18/150, Train Loss: 3.9200, Val Loss: 3.7389, Test Loss: 3.8072\n",
            "Epoch 19/150, Train Acc: 11.29%, Val Acc: 14.16%, Test Acc: 12.61%\n",
            "Epoch 19/150, Train Loss: 3.8846, Val Loss: 3.7059, Test Loss: 3.7883\n",
            "Checkpoint saved at epoch 20: ./checkpoint_epoch_20.pth\n"
          ]
        },
        {
          "output_type": "display_data",
          "data": {
            "text/plain": [
              "<IPython.core.display.Javascript object>"
            ],
            "application/javascript": [
              "\n",
              "    async function download(id, filename, size) {\n",
              "      if (!google.colab.kernel.accessAllowed) {\n",
              "        return;\n",
              "      }\n",
              "      const div = document.createElement('div');\n",
              "      const label = document.createElement('label');\n",
              "      label.textContent = `Downloading \"${filename}\": `;\n",
              "      div.appendChild(label);\n",
              "      const progress = document.createElement('progress');\n",
              "      progress.max = size;\n",
              "      div.appendChild(progress);\n",
              "      document.body.appendChild(div);\n",
              "\n",
              "      const buffers = [];\n",
              "      let downloaded = 0;\n",
              "\n",
              "      const channel = await google.colab.kernel.comms.open(id);\n",
              "      // Send a message to notify the kernel that we're ready.\n",
              "      channel.send({})\n",
              "\n",
              "      for await (const message of channel.messages) {\n",
              "        // Send a message to notify the kernel that we're ready.\n",
              "        channel.send({})\n",
              "        if (message.buffers) {\n",
              "          for (const buffer of message.buffers) {\n",
              "            buffers.push(buffer);\n",
              "            downloaded += buffer.byteLength;\n",
              "            progress.value = downloaded;\n",
              "          }\n",
              "        }\n",
              "      }\n",
              "      const blob = new Blob(buffers, {type: 'application/binary'});\n",
              "      const a = document.createElement('a');\n",
              "      a.href = window.URL.createObjectURL(blob);\n",
              "      a.download = filename;\n",
              "      div.appendChild(a);\n",
              "      a.click();\n",
              "      div.remove();\n",
              "    }\n",
              "  "
            ]
          },
          "metadata": {}
        },
        {
          "output_type": "display_data",
          "data": {
            "text/plain": [
              "<IPython.core.display.Javascript object>"
            ],
            "application/javascript": [
              "download(\"download_89e31122-d1d9-49e9-8f52-e2cbea4e8fd2\", \"checkpoint_epoch_20.pth\", 9794388)"
            ]
          },
          "metadata": {}
        },
        {
          "output_type": "stream",
          "name": "stdout",
          "text": [
            "Epoch 20/150, Train Acc: 11.59%, Val Acc: 14.47%, Test Acc: 13.97%\n",
            "Epoch 20/150, Train Loss: 3.8491, Val Loss: 3.6822, Test Loss: 3.7415\n",
            "Epoch 21/150, Train Acc: 12.23%, Val Acc: 15.02%, Test Acc: 13.41%\n",
            "Epoch 21/150, Train Loss: 3.8152, Val Loss: 3.6357, Test Loss: 3.7371\n",
            "Epoch 22/150, Train Acc: 12.69%, Val Acc: 15.80%, Test Acc: 14.01%\n",
            "Epoch 22/150, Train Loss: 3.7865, Val Loss: 3.6127, Test Loss: 3.6935\n",
            "Epoch 23/150, Train Acc: 12.99%, Val Acc: 15.54%, Test Acc: 14.99%\n",
            "Epoch 23/150, Train Loss: 3.7557, Val Loss: 3.6197, Test Loss: 3.6583\n",
            "Epoch 24/150, Train Acc: 13.28%, Val Acc: 16.87%, Test Acc: 14.46%\n",
            "Epoch 24/150, Train Loss: 3.7382, Val Loss: 3.5596, Test Loss: 3.6663\n",
            "Epoch 25/150, Train Acc: 13.96%, Val Acc: 17.62%, Test Acc: 15.11%\n",
            "Epoch 25/150, Train Loss: 3.7089, Val Loss: 3.5316, Test Loss: 3.6275\n",
            "Epoch 26/150, Train Acc: 14.28%, Val Acc: 17.24%, Test Acc: 16.34%\n",
            "Epoch 26/150, Train Loss: 3.6893, Val Loss: 3.5243, Test Loss: 3.5801\n",
            "Epoch 27/150, Train Acc: 14.79%, Val Acc: 17.82%, Test Acc: 16.17%\n",
            "Epoch 27/150, Train Loss: 3.6543, Val Loss: 3.4823, Test Loss: 3.5855\n",
            "Epoch 28/150, Train Acc: 15.10%, Val Acc: 17.58%, Test Acc: 16.59%\n",
            "Epoch 28/150, Train Loss: 3.6390, Val Loss: 3.4897, Test Loss: 3.5498\n",
            "Epoch 29/150, Train Acc: 15.20%, Val Acc: 18.49%, Test Acc: 15.09%\n",
            "Epoch 29/150, Train Loss: 3.6201, Val Loss: 3.4630, Test Loss: 3.6150\n",
            "Checkpoint saved at epoch 30: ./checkpoint_epoch_30.pth\n"
          ]
        },
        {
          "output_type": "display_data",
          "data": {
            "text/plain": [
              "<IPython.core.display.Javascript object>"
            ],
            "application/javascript": [
              "\n",
              "    async function download(id, filename, size) {\n",
              "      if (!google.colab.kernel.accessAllowed) {\n",
              "        return;\n",
              "      }\n",
              "      const div = document.createElement('div');\n",
              "      const label = document.createElement('label');\n",
              "      label.textContent = `Downloading \"${filename}\": `;\n",
              "      div.appendChild(label);\n",
              "      const progress = document.createElement('progress');\n",
              "      progress.max = size;\n",
              "      div.appendChild(progress);\n",
              "      document.body.appendChild(div);\n",
              "\n",
              "      const buffers = [];\n",
              "      let downloaded = 0;\n",
              "\n",
              "      const channel = await google.colab.kernel.comms.open(id);\n",
              "      // Send a message to notify the kernel that we're ready.\n",
              "      channel.send({})\n",
              "\n",
              "      for await (const message of channel.messages) {\n",
              "        // Send a message to notify the kernel that we're ready.\n",
              "        channel.send({})\n",
              "        if (message.buffers) {\n",
              "          for (const buffer of message.buffers) {\n",
              "            buffers.push(buffer);\n",
              "            downloaded += buffer.byteLength;\n",
              "            progress.value = downloaded;\n",
              "          }\n",
              "        }\n",
              "      }\n",
              "      const blob = new Blob(buffers, {type: 'application/binary'});\n",
              "      const a = document.createElement('a');\n",
              "      a.href = window.URL.createObjectURL(blob);\n",
              "      a.download = filename;\n",
              "      div.appendChild(a);\n",
              "      a.click();\n",
              "      div.remove();\n",
              "    }\n",
              "  "
            ]
          },
          "metadata": {}
        },
        {
          "output_type": "display_data",
          "data": {
            "text/plain": [
              "<IPython.core.display.Javascript object>"
            ],
            "application/javascript": [
              "download(\"download_f14bbbb2-bc3c-4c24-83c4-f241cbf48d5d\", \"checkpoint_epoch_30.pth\", 9794388)"
            ]
          },
          "metadata": {}
        },
        {
          "output_type": "stream",
          "name": "stdout",
          "text": [
            "Epoch 30/150, Train Acc: 15.75%, Val Acc: 18.11%, Test Acc: 15.93%\n",
            "Epoch 30/150, Train Loss: 3.6017, Val Loss: 3.4626, Test Loss: 3.5627\n",
            "Epoch 31/150, Train Acc: 15.73%, Val Acc: 19.16%, Test Acc: 16.72%\n",
            "Epoch 31/150, Train Loss: 3.5919, Val Loss: 3.4249, Test Loss: 3.5525\n",
            "Epoch 32/150, Train Acc: 16.45%, Val Acc: 18.54%, Test Acc: 17.85%\n",
            "Epoch 32/150, Train Loss: 3.5692, Val Loss: 3.4387, Test Loss: 3.4720\n",
            "Epoch 33/150, Train Acc: 16.89%, Val Acc: 19.52%, Test Acc: 16.58%\n",
            "Epoch 33/150, Train Loss: 3.5411, Val Loss: 3.3796, Test Loss: 3.5304\n",
            "Epoch 34/150, Train Acc: 17.16%, Val Acc: 20.73%, Test Acc: 18.36%\n",
            "Epoch 34/150, Train Loss: 3.5228, Val Loss: 3.3642, Test Loss: 3.4601\n",
            "Epoch 35/150, Train Acc: 17.32%, Val Acc: 20.06%, Test Acc: 19.27%\n",
            "Epoch 35/150, Train Loss: 3.5093, Val Loss: 3.3436, Test Loss: 3.4168\n",
            "Epoch 36/150, Train Acc: 17.71%, Val Acc: 20.53%, Test Acc: 18.33%\n",
            "Epoch 36/150, Train Loss: 3.4847, Val Loss: 3.3276, Test Loss: 3.4391\n",
            "Epoch 37/150, Train Acc: 17.75%, Val Acc: 21.61%, Test Acc: 18.33%\n",
            "Epoch 37/150, Train Loss: 3.4682, Val Loss: 3.2915, Test Loss: 3.4290\n",
            "Epoch 38/150, Train Acc: 18.46%, Val Acc: 22.04%, Test Acc: 19.88%\n",
            "Epoch 38/150, Train Loss: 3.4473, Val Loss: 3.2800, Test Loss: 3.3690\n",
            "Epoch 39/150, Train Acc: 18.64%, Val Acc: 22.09%, Test Acc: 19.99%\n",
            "Epoch 39/150, Train Loss: 3.4341, Val Loss: 3.2897, Test Loss: 3.3708\n",
            "Checkpoint saved at epoch 40: ./checkpoint_epoch_40.pth\n"
          ]
        },
        {
          "output_type": "display_data",
          "data": {
            "text/plain": [
              "<IPython.core.display.Javascript object>"
            ],
            "application/javascript": [
              "\n",
              "    async function download(id, filename, size) {\n",
              "      if (!google.colab.kernel.accessAllowed) {\n",
              "        return;\n",
              "      }\n",
              "      const div = document.createElement('div');\n",
              "      const label = document.createElement('label');\n",
              "      label.textContent = `Downloading \"${filename}\": `;\n",
              "      div.appendChild(label);\n",
              "      const progress = document.createElement('progress');\n",
              "      progress.max = size;\n",
              "      div.appendChild(progress);\n",
              "      document.body.appendChild(div);\n",
              "\n",
              "      const buffers = [];\n",
              "      let downloaded = 0;\n",
              "\n",
              "      const channel = await google.colab.kernel.comms.open(id);\n",
              "      // Send a message to notify the kernel that we're ready.\n",
              "      channel.send({})\n",
              "\n",
              "      for await (const message of channel.messages) {\n",
              "        // Send a message to notify the kernel that we're ready.\n",
              "        channel.send({})\n",
              "        if (message.buffers) {\n",
              "          for (const buffer of message.buffers) {\n",
              "            buffers.push(buffer);\n",
              "            downloaded += buffer.byteLength;\n",
              "            progress.value = downloaded;\n",
              "          }\n",
              "        }\n",
              "      }\n",
              "      const blob = new Blob(buffers, {type: 'application/binary'});\n",
              "      const a = document.createElement('a');\n",
              "      a.href = window.URL.createObjectURL(blob);\n",
              "      a.download = filename;\n",
              "      div.appendChild(a);\n",
              "      a.click();\n",
              "      div.remove();\n",
              "    }\n",
              "  "
            ]
          },
          "metadata": {}
        },
        {
          "output_type": "display_data",
          "data": {
            "text/plain": [
              "<IPython.core.display.Javascript object>"
            ],
            "application/javascript": [
              "download(\"download_1ccb54b7-d39d-4360-a0ad-f15cf46e9711\", \"checkpoint_epoch_40.pth\", 9794388)"
            ]
          },
          "metadata": {}
        },
        {
          "output_type": "stream",
          "name": "stdout",
          "text": [
            "Epoch 40/150, Train Acc: 18.69%, Val Acc: 22.36%, Test Acc: 20.28%\n",
            "Epoch 40/150, Train Loss: 3.4249, Val Loss: 3.2556, Test Loss: 3.3457\n",
            "Epoch 41/150, Train Acc: 19.27%, Val Acc: 23.18%, Test Acc: 18.61%\n",
            "Epoch 41/150, Train Loss: 3.4017, Val Loss: 3.2322, Test Loss: 3.4178\n",
            "Epoch 42/150, Train Acc: 19.34%, Val Acc: 22.96%, Test Acc: 20.58%\n",
            "Epoch 42/150, Train Loss: 3.3942, Val Loss: 3.2474, Test Loss: 3.3247\n",
            "Epoch 43/150, Train Acc: 19.52%, Val Acc: 22.20%, Test Acc: 21.30%\n",
            "Epoch 43/150, Train Loss: 3.3814, Val Loss: 3.2508, Test Loss: 3.2986\n",
            "Epoch 44/150, Train Acc: 19.96%, Val Acc: 23.21%, Test Acc: 21.52%\n",
            "Epoch 44/150, Train Loss: 3.3610, Val Loss: 3.2044, Test Loss: 3.2808\n",
            "Epoch 45/150, Train Acc: 20.31%, Val Acc: 23.57%, Test Acc: 20.37%\n",
            "Epoch 45/150, Train Loss: 3.3439, Val Loss: 3.1745, Test Loss: 3.3281\n",
            "Epoch 46/150, Train Acc: 20.51%, Val Acc: 23.62%, Test Acc: 21.73%\n",
            "Epoch 46/150, Train Loss: 3.3339, Val Loss: 3.1853, Test Loss: 3.2592\n",
            "Epoch 47/150, Train Acc: 20.71%, Val Acc: 24.49%, Test Acc: 21.19%\n",
            "Epoch 47/150, Train Loss: 3.3138, Val Loss: 3.1577, Test Loss: 3.2748\n",
            "Epoch 48/150, Train Acc: 21.23%, Val Acc: 24.03%, Test Acc: 21.69%\n",
            "Epoch 48/150, Train Loss: 3.2984, Val Loss: 3.1505, Test Loss: 3.2631\n",
            "Epoch 49/150, Train Acc: 21.37%, Val Acc: 24.35%, Test Acc: 21.72%\n",
            "Epoch 49/150, Train Loss: 3.2843, Val Loss: 3.1393, Test Loss: 3.2355\n",
            "Checkpoint saved at epoch 50: ./checkpoint_epoch_50.pth\n"
          ]
        },
        {
          "output_type": "display_data",
          "data": {
            "text/plain": [
              "<IPython.core.display.Javascript object>"
            ],
            "application/javascript": [
              "\n",
              "    async function download(id, filename, size) {\n",
              "      if (!google.colab.kernel.accessAllowed) {\n",
              "        return;\n",
              "      }\n",
              "      const div = document.createElement('div');\n",
              "      const label = document.createElement('label');\n",
              "      label.textContent = `Downloading \"${filename}\": `;\n",
              "      div.appendChild(label);\n",
              "      const progress = document.createElement('progress');\n",
              "      progress.max = size;\n",
              "      div.appendChild(progress);\n",
              "      document.body.appendChild(div);\n",
              "\n",
              "      const buffers = [];\n",
              "      let downloaded = 0;\n",
              "\n",
              "      const channel = await google.colab.kernel.comms.open(id);\n",
              "      // Send a message to notify the kernel that we're ready.\n",
              "      channel.send({})\n",
              "\n",
              "      for await (const message of channel.messages) {\n",
              "        // Send a message to notify the kernel that we're ready.\n",
              "        channel.send({})\n",
              "        if (message.buffers) {\n",
              "          for (const buffer of message.buffers) {\n",
              "            buffers.push(buffer);\n",
              "            downloaded += buffer.byteLength;\n",
              "            progress.value = downloaded;\n",
              "          }\n",
              "        }\n",
              "      }\n",
              "      const blob = new Blob(buffers, {type: 'application/binary'});\n",
              "      const a = document.createElement('a');\n",
              "      a.href = window.URL.createObjectURL(blob);\n",
              "      a.download = filename;\n",
              "      div.appendChild(a);\n",
              "      a.click();\n",
              "      div.remove();\n",
              "    }\n",
              "  "
            ]
          },
          "metadata": {}
        },
        {
          "output_type": "display_data",
          "data": {
            "text/plain": [
              "<IPython.core.display.Javascript object>"
            ],
            "application/javascript": [
              "download(\"download_0ee4aa12-ae43-4134-a0cc-9372fe58f164\", \"checkpoint_epoch_50.pth\", 9794388)"
            ]
          },
          "metadata": {}
        },
        {
          "output_type": "stream",
          "name": "stdout",
          "text": [
            "Epoch 50/150, Train Acc: 21.47%, Val Acc: 24.38%, Test Acc: 21.44%\n",
            "Epoch 50/150, Train Loss: 3.2800, Val Loss: 3.1341, Test Loss: 3.2605\n",
            "Epoch 51/150, Train Acc: 21.46%, Val Acc: 25.01%, Test Acc: 23.02%\n",
            "Epoch 51/150, Train Loss: 3.2708, Val Loss: 3.1040, Test Loss: 3.1806\n",
            "Epoch 52/150, Train Acc: 22.18%, Val Acc: 25.77%, Test Acc: 22.67%\n",
            "Epoch 52/150, Train Loss: 3.2421, Val Loss: 3.0781, Test Loss: 3.2036\n",
            "Epoch 53/150, Train Acc: 22.23%, Val Acc: 25.41%, Test Acc: 22.86%\n",
            "Epoch 53/150, Train Loss: 3.2218, Val Loss: 3.0671, Test Loss: 3.1881\n",
            "Epoch 54/150, Train Acc: 22.77%, Val Acc: 26.11%, Test Acc: 22.05%\n",
            "Epoch 54/150, Train Loss: 3.2096, Val Loss: 3.0596, Test Loss: 3.2157\n",
            "Epoch 55/150, Train Acc: 23.25%, Val Acc: 26.56%, Test Acc: 24.02%\n",
            "Epoch 55/150, Train Loss: 3.1928, Val Loss: 3.0300, Test Loss: 3.1340\n",
            "Epoch 56/150, Train Acc: 23.27%, Val Acc: 27.25%, Test Acc: 23.34%\n",
            "Epoch 56/150, Train Loss: 3.1899, Val Loss: 3.0049, Test Loss: 3.1557\n",
            "Epoch 57/150, Train Acc: 23.46%, Val Acc: 26.59%, Test Acc: 23.42%\n",
            "Epoch 57/150, Train Loss: 3.1785, Val Loss: 3.0106, Test Loss: 3.1216\n",
            "Epoch 58/150, Train Acc: 23.66%, Val Acc: 27.59%, Test Acc: 22.37%\n",
            "Epoch 58/150, Train Loss: 3.1655, Val Loss: 2.9957, Test Loss: 3.2105\n",
            "Epoch 59/150, Train Acc: 23.56%, Val Acc: 27.38%, Test Acc: 24.21%\n",
            "Epoch 59/150, Train Loss: 3.1473, Val Loss: 2.9902, Test Loss: 3.1009\n",
            "Checkpoint saved at epoch 60: ./checkpoint_epoch_60.pth\n"
          ]
        },
        {
          "output_type": "display_data",
          "data": {
            "text/plain": [
              "<IPython.core.display.Javascript object>"
            ],
            "application/javascript": [
              "\n",
              "    async function download(id, filename, size) {\n",
              "      if (!google.colab.kernel.accessAllowed) {\n",
              "        return;\n",
              "      }\n",
              "      const div = document.createElement('div');\n",
              "      const label = document.createElement('label');\n",
              "      label.textContent = `Downloading \"${filename}\": `;\n",
              "      div.appendChild(label);\n",
              "      const progress = document.createElement('progress');\n",
              "      progress.max = size;\n",
              "      div.appendChild(progress);\n",
              "      document.body.appendChild(div);\n",
              "\n",
              "      const buffers = [];\n",
              "      let downloaded = 0;\n",
              "\n",
              "      const channel = await google.colab.kernel.comms.open(id);\n",
              "      // Send a message to notify the kernel that we're ready.\n",
              "      channel.send({})\n",
              "\n",
              "      for await (const message of channel.messages) {\n",
              "        // Send a message to notify the kernel that we're ready.\n",
              "        channel.send({})\n",
              "        if (message.buffers) {\n",
              "          for (const buffer of message.buffers) {\n",
              "            buffers.push(buffer);\n",
              "            downloaded += buffer.byteLength;\n",
              "            progress.value = downloaded;\n",
              "          }\n",
              "        }\n",
              "      }\n",
              "      const blob = new Blob(buffers, {type: 'application/binary'});\n",
              "      const a = document.createElement('a');\n",
              "      a.href = window.URL.createObjectURL(blob);\n",
              "      a.download = filename;\n",
              "      div.appendChild(a);\n",
              "      a.click();\n",
              "      div.remove();\n",
              "    }\n",
              "  "
            ]
          },
          "metadata": {}
        },
        {
          "output_type": "display_data",
          "data": {
            "text/plain": [
              "<IPython.core.display.Javascript object>"
            ],
            "application/javascript": [
              "download(\"download_1d9a9474-b1e9-49bf-81db-4db2f974ed48\", \"checkpoint_epoch_60.pth\", 9794388)"
            ]
          },
          "metadata": {}
        },
        {
          "output_type": "stream",
          "name": "stdout",
          "text": [
            "Epoch 60/150, Train Acc: 24.34%, Val Acc: 27.60%, Test Acc: 24.57%\n",
            "Epoch 60/150, Train Loss: 3.1403, Val Loss: 2.9833, Test Loss: 3.0767\n",
            "Epoch 61/150, Train Acc: 24.24%, Val Acc: 27.66%, Test Acc: 24.46%\n",
            "Epoch 61/150, Train Loss: 3.1161, Val Loss: 2.9576, Test Loss: 3.1022\n",
            "Epoch 62/150, Train Acc: 24.42%, Val Acc: 28.17%, Test Acc: 25.20%\n",
            "Epoch 62/150, Train Loss: 3.1045, Val Loss: 2.9425, Test Loss: 3.0461\n",
            "Epoch 63/150, Train Acc: 24.87%, Val Acc: 28.11%, Test Acc: 23.98%\n",
            "Epoch 63/150, Train Loss: 3.0988, Val Loss: 2.9265, Test Loss: 3.0958\n",
            "Epoch 64/150, Train Acc: 25.41%, Val Acc: 28.03%, Test Acc: 24.60%\n",
            "Epoch 64/150, Train Loss: 3.0797, Val Loss: 2.9179, Test Loss: 3.0946\n",
            "Epoch 65/150, Train Acc: 25.44%, Val Acc: 28.16%, Test Acc: 24.09%\n",
            "Epoch 65/150, Train Loss: 3.0688, Val Loss: 2.9339, Test Loss: 3.0920\n",
            "Epoch 66/150, Train Acc: 25.26%, Val Acc: 28.46%, Test Acc: 25.52%\n",
            "Epoch 66/150, Train Loss: 3.0687, Val Loss: 2.8986, Test Loss: 3.0526\n",
            "Epoch 67/150, Train Acc: 25.31%, Val Acc: 29.28%, Test Acc: 24.99%\n",
            "Epoch 67/150, Train Loss: 3.0636, Val Loss: 2.8806, Test Loss: 3.0413\n",
            "Epoch 68/150, Train Acc: 25.75%, Val Acc: 28.42%, Test Acc: 24.24%\n",
            "Epoch 68/150, Train Loss: 3.0531, Val Loss: 2.9375, Test Loss: 3.0852\n",
            "Epoch 69/150, Train Acc: 26.08%, Val Acc: 29.38%, Test Acc: 24.59%\n",
            "Epoch 69/150, Train Loss: 3.0380, Val Loss: 2.8714, Test Loss: 3.0734\n",
            "Checkpoint saved at epoch 70: ./checkpoint_epoch_70.pth\n"
          ]
        },
        {
          "output_type": "display_data",
          "data": {
            "text/plain": [
              "<IPython.core.display.Javascript object>"
            ],
            "application/javascript": [
              "\n",
              "    async function download(id, filename, size) {\n",
              "      if (!google.colab.kernel.accessAllowed) {\n",
              "        return;\n",
              "      }\n",
              "      const div = document.createElement('div');\n",
              "      const label = document.createElement('label');\n",
              "      label.textContent = `Downloading \"${filename}\": `;\n",
              "      div.appendChild(label);\n",
              "      const progress = document.createElement('progress');\n",
              "      progress.max = size;\n",
              "      div.appendChild(progress);\n",
              "      document.body.appendChild(div);\n",
              "\n",
              "      const buffers = [];\n",
              "      let downloaded = 0;\n",
              "\n",
              "      const channel = await google.colab.kernel.comms.open(id);\n",
              "      // Send a message to notify the kernel that we're ready.\n",
              "      channel.send({})\n",
              "\n",
              "      for await (const message of channel.messages) {\n",
              "        // Send a message to notify the kernel that we're ready.\n",
              "        channel.send({})\n",
              "        if (message.buffers) {\n",
              "          for (const buffer of message.buffers) {\n",
              "            buffers.push(buffer);\n",
              "            downloaded += buffer.byteLength;\n",
              "            progress.value = downloaded;\n",
              "          }\n",
              "        }\n",
              "      }\n",
              "      const blob = new Blob(buffers, {type: 'application/binary'});\n",
              "      const a = document.createElement('a');\n",
              "      a.href = window.URL.createObjectURL(blob);\n",
              "      a.download = filename;\n",
              "      div.appendChild(a);\n",
              "      a.click();\n",
              "      div.remove();\n",
              "    }\n",
              "  "
            ]
          },
          "metadata": {}
        },
        {
          "output_type": "display_data",
          "data": {
            "text/plain": [
              "<IPython.core.display.Javascript object>"
            ],
            "application/javascript": [
              "download(\"download_11f2c956-1b77-471f-995b-bbaa459014e7\", \"checkpoint_epoch_70.pth\", 9794388)"
            ]
          },
          "metadata": {}
        },
        {
          "output_type": "stream",
          "name": "stdout",
          "text": [
            "Epoch 70/150, Train Acc: 26.37%, Val Acc: 29.18%, Test Acc: 25.94%\n",
            "Epoch 70/150, Train Loss: 3.0170, Val Loss: 2.8753, Test Loss: 3.0302\n",
            "Epoch 71/150, Train Acc: 26.41%, Val Acc: 29.65%, Test Acc: 25.82%\n",
            "Epoch 71/150, Train Loss: 3.0073, Val Loss: 2.8491, Test Loss: 3.0214\n",
            "Epoch 72/150, Train Acc: 26.97%, Val Acc: 30.59%, Test Acc: 26.02%\n",
            "Epoch 72/150, Train Loss: 2.9873, Val Loss: 2.8200, Test Loss: 3.0083\n",
            "Epoch 73/150, Train Acc: 27.23%, Val Acc: 29.98%, Test Acc: 27.44%\n",
            "Epoch 73/150, Train Loss: 2.9753, Val Loss: 2.8205, Test Loss: 2.9401\n",
            "Epoch 74/150, Train Acc: 27.20%, Val Acc: 30.54%, Test Acc: 26.10%\n",
            "Epoch 74/150, Train Loss: 2.9611, Val Loss: 2.8257, Test Loss: 2.9860\n",
            "Epoch 75/150, Train Acc: 27.41%, Val Acc: 30.92%, Test Acc: 27.48%\n",
            "Epoch 75/150, Train Loss: 2.9537, Val Loss: 2.7949, Test Loss: 2.9178\n",
            "Epoch 76/150, Train Acc: 27.78%, Val Acc: 31.12%, Test Acc: 26.43%\n",
            "Epoch 76/150, Train Loss: 2.9397, Val Loss: 2.7955, Test Loss: 2.9827\n",
            "Epoch 77/150, Train Acc: 27.79%, Val Acc: 31.38%, Test Acc: 26.46%\n",
            "Epoch 77/150, Train Loss: 2.9348, Val Loss: 2.7772, Test Loss: 2.9715\n",
            "Epoch 78/150, Train Acc: 28.18%, Val Acc: 30.71%, Test Acc: 27.39%\n",
            "Epoch 78/150, Train Loss: 2.9297, Val Loss: 2.7992, Test Loss: 2.9281\n",
            "Epoch 79/150, Train Acc: 27.97%, Val Acc: 30.82%, Test Acc: 27.02%\n",
            "Epoch 79/150, Train Loss: 2.9244, Val Loss: 2.7927, Test Loss: 2.9380\n",
            "Checkpoint saved at epoch 80: ./checkpoint_epoch_80.pth\n"
          ]
        },
        {
          "output_type": "display_data",
          "data": {
            "text/plain": [
              "<IPython.core.display.Javascript object>"
            ],
            "application/javascript": [
              "\n",
              "    async function download(id, filename, size) {\n",
              "      if (!google.colab.kernel.accessAllowed) {\n",
              "        return;\n",
              "      }\n",
              "      const div = document.createElement('div');\n",
              "      const label = document.createElement('label');\n",
              "      label.textContent = `Downloading \"${filename}\": `;\n",
              "      div.appendChild(label);\n",
              "      const progress = document.createElement('progress');\n",
              "      progress.max = size;\n",
              "      div.appendChild(progress);\n",
              "      document.body.appendChild(div);\n",
              "\n",
              "      const buffers = [];\n",
              "      let downloaded = 0;\n",
              "\n",
              "      const channel = await google.colab.kernel.comms.open(id);\n",
              "      // Send a message to notify the kernel that we're ready.\n",
              "      channel.send({})\n",
              "\n",
              "      for await (const message of channel.messages) {\n",
              "        // Send a message to notify the kernel that we're ready.\n",
              "        channel.send({})\n",
              "        if (message.buffers) {\n",
              "          for (const buffer of message.buffers) {\n",
              "            buffers.push(buffer);\n",
              "            downloaded += buffer.byteLength;\n",
              "            progress.value = downloaded;\n",
              "          }\n",
              "        }\n",
              "      }\n",
              "      const blob = new Blob(buffers, {type: 'application/binary'});\n",
              "      const a = document.createElement('a');\n",
              "      a.href = window.URL.createObjectURL(blob);\n",
              "      a.download = filename;\n",
              "      div.appendChild(a);\n",
              "      a.click();\n",
              "      div.remove();\n",
              "    }\n",
              "  "
            ]
          },
          "metadata": {}
        },
        {
          "output_type": "display_data",
          "data": {
            "text/plain": [
              "<IPython.core.display.Javascript object>"
            ],
            "application/javascript": [
              "download(\"download_b27e8bee-ae74-4ee3-b2b0-2744be97b8db\", \"checkpoint_epoch_80.pth\", 9794388)"
            ]
          },
          "metadata": {}
        },
        {
          "output_type": "stream",
          "name": "stdout",
          "text": [
            "Epoch 80/150, Train Acc: 28.31%, Val Acc: 30.52%, Test Acc: 26.74%\n",
            "Epoch 80/150, Train Loss: 2.9120, Val Loss: 2.7980, Test Loss: 2.9697\n",
            "Epoch 81/150, Train Acc: 27.68%, Val Acc: 31.16%, Test Acc: 28.78%\n",
            "Epoch 81/150, Train Loss: 2.9576, Val Loss: 2.7717, Test Loss: 2.8687\n",
            "Epoch 82/150, Train Acc: 28.25%, Val Acc: 31.77%, Test Acc: 26.26%\n",
            "Epoch 82/150, Train Loss: 2.9174, Val Loss: 2.7642, Test Loss: 2.9849\n",
            "Epoch 83/150, Train Acc: 28.23%, Val Acc: 31.45%, Test Acc: 25.71%\n",
            "Epoch 83/150, Train Loss: 2.9119, Val Loss: 2.7851, Test Loss: 3.0254\n",
            "Epoch 84/150, Train Acc: 28.54%, Val Acc: 32.91%, Test Acc: 27.24%\n",
            "Epoch 84/150, Train Loss: 2.8983, Val Loss: 2.7246, Test Loss: 2.9260\n",
            "Epoch 85/150, Train Acc: 28.80%, Val Acc: 31.98%, Test Acc: 29.17%\n",
            "Epoch 85/150, Train Loss: 2.8833, Val Loss: 2.7316, Test Loss: 2.8414\n",
            "Epoch 86/150, Train Acc: 28.84%, Val Acc: 32.51%, Test Acc: 28.61%\n",
            "Epoch 86/150, Train Loss: 2.8782, Val Loss: 2.7194, Test Loss: 2.8723\n",
            "Epoch 87/150, Train Acc: 29.62%, Val Acc: 32.47%, Test Acc: 27.03%\n",
            "Epoch 87/150, Train Loss: 2.8543, Val Loss: 2.7233, Test Loss: 2.9415\n",
            "Epoch 88/150, Train Acc: 29.63%, Val Acc: 32.79%, Test Acc: 28.47%\n",
            "Epoch 88/150, Train Loss: 2.8529, Val Loss: 2.7076, Test Loss: 2.8642\n",
            "Epoch 89/150, Train Acc: 29.70%, Val Acc: 32.32%, Test Acc: 29.63%\n",
            "Epoch 89/150, Train Loss: 2.8357, Val Loss: 2.7125, Test Loss: 2.8328\n",
            "Checkpoint saved at epoch 90: ./checkpoint_epoch_90.pth\n"
          ]
        },
        {
          "output_type": "display_data",
          "data": {
            "text/plain": [
              "<IPython.core.display.Javascript object>"
            ],
            "application/javascript": [
              "\n",
              "    async function download(id, filename, size) {\n",
              "      if (!google.colab.kernel.accessAllowed) {\n",
              "        return;\n",
              "      }\n",
              "      const div = document.createElement('div');\n",
              "      const label = document.createElement('label');\n",
              "      label.textContent = `Downloading \"${filename}\": `;\n",
              "      div.appendChild(label);\n",
              "      const progress = document.createElement('progress');\n",
              "      progress.max = size;\n",
              "      div.appendChild(progress);\n",
              "      document.body.appendChild(div);\n",
              "\n",
              "      const buffers = [];\n",
              "      let downloaded = 0;\n",
              "\n",
              "      const channel = await google.colab.kernel.comms.open(id);\n",
              "      // Send a message to notify the kernel that we're ready.\n",
              "      channel.send({})\n",
              "\n",
              "      for await (const message of channel.messages) {\n",
              "        // Send a message to notify the kernel that we're ready.\n",
              "        channel.send({})\n",
              "        if (message.buffers) {\n",
              "          for (const buffer of message.buffers) {\n",
              "            buffers.push(buffer);\n",
              "            downloaded += buffer.byteLength;\n",
              "            progress.value = downloaded;\n",
              "          }\n",
              "        }\n",
              "      }\n",
              "      const blob = new Blob(buffers, {type: 'application/binary'});\n",
              "      const a = document.createElement('a');\n",
              "      a.href = window.URL.createObjectURL(blob);\n",
              "      a.download = filename;\n",
              "      div.appendChild(a);\n",
              "      a.click();\n",
              "      div.remove();\n",
              "    }\n",
              "  "
            ]
          },
          "metadata": {}
        },
        {
          "output_type": "display_data",
          "data": {
            "text/plain": [
              "<IPython.core.display.Javascript object>"
            ],
            "application/javascript": [
              "download(\"download_972387f4-816d-4020-8174-c063075fdf2b\", \"checkpoint_epoch_90.pth\", 9794388)"
            ]
          },
          "metadata": {}
        },
        {
          "output_type": "stream",
          "name": "stdout",
          "text": [
            "Epoch 90/150, Train Acc: 29.65%, Val Acc: 33.11%, Test Acc: 28.57%\n",
            "Epoch 90/150, Train Loss: 2.8369, Val Loss: 2.6986, Test Loss: 2.8644\n",
            "Epoch 91/150, Train Acc: 29.93%, Val Acc: 32.70%, Test Acc: 28.45%\n",
            "Epoch 91/150, Train Loss: 2.8220, Val Loss: 2.6949, Test Loss: 2.8811\n",
            "Epoch 92/150, Train Acc: 30.13%, Val Acc: 32.98%, Test Acc: 29.68%\n",
            "Epoch 92/150, Train Loss: 2.8185, Val Loss: 2.6742, Test Loss: 2.8282\n",
            "Epoch 93/150, Train Acc: 30.35%, Val Acc: 33.74%, Test Acc: 28.87%\n",
            "Epoch 93/150, Train Loss: 2.8160, Val Loss: 2.6634, Test Loss: 2.8494\n",
            "Epoch 94/150, Train Acc: 30.33%, Val Acc: 33.44%, Test Acc: 28.97%\n",
            "Epoch 94/150, Train Loss: 2.8039, Val Loss: 2.6514, Test Loss: 2.8602\n",
            "Epoch 95/150, Train Acc: 30.85%, Val Acc: 34.17%, Test Acc: 29.17%\n",
            "Epoch 95/150, Train Loss: 2.7911, Val Loss: 2.6331, Test Loss: 2.8460\n",
            "Epoch 96/150, Train Acc: 30.43%, Val Acc: 33.90%, Test Acc: 28.26%\n",
            "Epoch 96/150, Train Loss: 2.7911, Val Loss: 2.6597, Test Loss: 2.8983\n",
            "Epoch 97/150, Train Acc: 30.88%, Val Acc: 34.29%, Test Acc: 29.79%\n",
            "Epoch 97/150, Train Loss: 2.7898, Val Loss: 2.6302, Test Loss: 2.8133\n",
            "Epoch 98/150, Train Acc: 31.05%, Val Acc: 33.79%, Test Acc: 29.06%\n",
            "Epoch 98/150, Train Loss: 2.7780, Val Loss: 2.6364, Test Loss: 2.8537\n",
            "Epoch 99/150, Train Acc: 31.02%, Val Acc: 34.38%, Test Acc: 29.39%\n",
            "Epoch 99/150, Train Loss: 2.7848, Val Loss: 2.6285, Test Loss: 2.8069\n",
            "Checkpoint saved at epoch 100: ./checkpoint_epoch_100.pth\n"
          ]
        },
        {
          "output_type": "display_data",
          "data": {
            "text/plain": [
              "<IPython.core.display.Javascript object>"
            ],
            "application/javascript": [
              "\n",
              "    async function download(id, filename, size) {\n",
              "      if (!google.colab.kernel.accessAllowed) {\n",
              "        return;\n",
              "      }\n",
              "      const div = document.createElement('div');\n",
              "      const label = document.createElement('label');\n",
              "      label.textContent = `Downloading \"${filename}\": `;\n",
              "      div.appendChild(label);\n",
              "      const progress = document.createElement('progress');\n",
              "      progress.max = size;\n",
              "      div.appendChild(progress);\n",
              "      document.body.appendChild(div);\n",
              "\n",
              "      const buffers = [];\n",
              "      let downloaded = 0;\n",
              "\n",
              "      const channel = await google.colab.kernel.comms.open(id);\n",
              "      // Send a message to notify the kernel that we're ready.\n",
              "      channel.send({})\n",
              "\n",
              "      for await (const message of channel.messages) {\n",
              "        // Send a message to notify the kernel that we're ready.\n",
              "        channel.send({})\n",
              "        if (message.buffers) {\n",
              "          for (const buffer of message.buffers) {\n",
              "            buffers.push(buffer);\n",
              "            downloaded += buffer.byteLength;\n",
              "            progress.value = downloaded;\n",
              "          }\n",
              "        }\n",
              "      }\n",
              "      const blob = new Blob(buffers, {type: 'application/binary'});\n",
              "      const a = document.createElement('a');\n",
              "      a.href = window.URL.createObjectURL(blob);\n",
              "      a.download = filename;\n",
              "      div.appendChild(a);\n",
              "      a.click();\n",
              "      div.remove();\n",
              "    }\n",
              "  "
            ]
          },
          "metadata": {}
        },
        {
          "output_type": "display_data",
          "data": {
            "text/plain": [
              "<IPython.core.display.Javascript object>"
            ],
            "application/javascript": [
              "download(\"download_536dc763-7a86-48e2-af05-5497fab98d4b\", \"checkpoint_epoch_100.pth\", 9794422)"
            ]
          },
          "metadata": {}
        },
        {
          "output_type": "stream",
          "name": "stdout",
          "text": [
            "Epoch 100/150, Train Acc: 31.34%, Val Acc: 33.97%, Test Acc: 29.93%\n",
            "Epoch 100/150, Train Loss: 2.7655, Val Loss: 2.6361, Test Loss: 2.8054\n",
            "Epoch 101/150, Train Acc: 31.08%, Val Acc: 34.30%, Test Acc: 29.75%\n",
            "Epoch 101/150, Train Loss: 2.7629, Val Loss: 2.6294, Test Loss: 2.7986\n",
            "Epoch 102/150, Train Acc: 31.15%, Val Acc: 34.44%, Test Acc: 29.77%\n",
            "Epoch 102/150, Train Loss: 2.7703, Val Loss: 2.6149, Test Loss: 2.8040\n",
            "Epoch 103/150, Train Acc: 31.32%, Val Acc: 34.41%, Test Acc: 29.15%\n",
            "Epoch 103/150, Train Loss: 2.7534, Val Loss: 2.6103, Test Loss: 2.8398\n",
            "Epoch 104/150, Train Acc: 31.75%, Val Acc: 34.67%, Test Acc: 29.33%\n",
            "Epoch 104/150, Train Loss: 2.7389, Val Loss: 2.6211, Test Loss: 2.8113\n",
            "Epoch 105/150, Train Acc: 31.46%, Val Acc: 34.73%, Test Acc: 29.35%\n",
            "Epoch 105/150, Train Loss: 2.7510, Val Loss: 2.6058, Test Loss: 2.8224\n",
            "Epoch 106/150, Train Acc: 31.83%, Val Acc: 34.66%, Test Acc: 30.16%\n",
            "Epoch 106/150, Train Loss: 2.7379, Val Loss: 2.5978, Test Loss: 2.7954\n",
            "Epoch 107/150, Train Acc: 32.21%, Val Acc: 34.86%, Test Acc: 30.02%\n",
            "Epoch 107/150, Train Loss: 2.7218, Val Loss: 2.6018, Test Loss: 2.7903\n",
            "Epoch 108/150, Train Acc: 32.44%, Val Acc: 34.99%, Test Acc: 29.98%\n",
            "Epoch 108/150, Train Loss: 2.7100, Val Loss: 2.5885, Test Loss: 2.7984\n",
            "Epoch 109/150, Train Acc: 32.15%, Val Acc: 35.11%, Test Acc: 30.02%\n",
            "Epoch 109/150, Train Loss: 2.7164, Val Loss: 2.5742, Test Loss: 2.7975\n",
            "Checkpoint saved at epoch 110: ./checkpoint_epoch_110.pth\n"
          ]
        },
        {
          "output_type": "display_data",
          "data": {
            "text/plain": [
              "<IPython.core.display.Javascript object>"
            ],
            "application/javascript": [
              "\n",
              "    async function download(id, filename, size) {\n",
              "      if (!google.colab.kernel.accessAllowed) {\n",
              "        return;\n",
              "      }\n",
              "      const div = document.createElement('div');\n",
              "      const label = document.createElement('label');\n",
              "      label.textContent = `Downloading \"${filename}\": `;\n",
              "      div.appendChild(label);\n",
              "      const progress = document.createElement('progress');\n",
              "      progress.max = size;\n",
              "      div.appendChild(progress);\n",
              "      document.body.appendChild(div);\n",
              "\n",
              "      const buffers = [];\n",
              "      let downloaded = 0;\n",
              "\n",
              "      const channel = await google.colab.kernel.comms.open(id);\n",
              "      // Send a message to notify the kernel that we're ready.\n",
              "      channel.send({})\n",
              "\n",
              "      for await (const message of channel.messages) {\n",
              "        // Send a message to notify the kernel that we're ready.\n",
              "        channel.send({})\n",
              "        if (message.buffers) {\n",
              "          for (const buffer of message.buffers) {\n",
              "            buffers.push(buffer);\n",
              "            downloaded += buffer.byteLength;\n",
              "            progress.value = downloaded;\n",
              "          }\n",
              "        }\n",
              "      }\n",
              "      const blob = new Blob(buffers, {type: 'application/binary'});\n",
              "      const a = document.createElement('a');\n",
              "      a.href = window.URL.createObjectURL(blob);\n",
              "      a.download = filename;\n",
              "      div.appendChild(a);\n",
              "      a.click();\n",
              "      div.remove();\n",
              "    }\n",
              "  "
            ]
          },
          "metadata": {}
        },
        {
          "output_type": "display_data",
          "data": {
            "text/plain": [
              "<IPython.core.display.Javascript object>"
            ],
            "application/javascript": [
              "download(\"download_461d42af-c1d2-4d20-885e-ce19a5690224\", \"checkpoint_epoch_110.pth\", 9794422)"
            ]
          },
          "metadata": {}
        },
        {
          "output_type": "stream",
          "name": "stdout",
          "text": [
            "Epoch 110/150, Train Acc: 32.46%, Val Acc: 34.87%, Test Acc: 30.07%\n",
            "Epoch 110/150, Train Loss: 2.7156, Val Loss: 2.5985, Test Loss: 2.7764\n",
            "Epoch 111/150, Train Acc: 32.50%, Val Acc: 35.10%, Test Acc: 29.72%\n",
            "Epoch 111/150, Train Loss: 2.7078, Val Loss: 2.5859, Test Loss: 2.8171\n",
            "Epoch 112/150, Train Acc: 32.62%, Val Acc: 35.06%, Test Acc: 29.49%\n",
            "Epoch 112/150, Train Loss: 2.7002, Val Loss: 2.5821, Test Loss: 2.8290\n",
            "Epoch 113/150, Train Acc: 32.67%, Val Acc: 35.28%, Test Acc: 30.31%\n",
            "Epoch 113/150, Train Loss: 2.6898, Val Loss: 2.5805, Test Loss: 2.7672\n",
            "Epoch 114/150, Train Acc: 32.69%, Val Acc: 35.20%, Test Acc: 30.50%\n",
            "Epoch 114/150, Train Loss: 2.6882, Val Loss: 2.5564, Test Loss: 2.7647\n",
            "Epoch 115/150, Train Acc: 32.85%, Val Acc: 35.08%, Test Acc: 30.13%\n",
            "Epoch 115/150, Train Loss: 2.6848, Val Loss: 2.5688, Test Loss: 2.8092\n",
            "Epoch 116/150, Train Acc: 32.79%, Val Acc: 35.69%, Test Acc: 31.01%\n",
            "Epoch 116/150, Train Loss: 2.6937, Val Loss: 2.5655, Test Loss: 2.7472\n",
            "Epoch 117/150, Train Acc: 33.15%, Val Acc: 35.55%, Test Acc: 30.39%\n",
            "Epoch 117/150, Train Loss: 2.6747, Val Loss: 2.5545, Test Loss: 2.7507\n",
            "Epoch 118/150, Train Acc: 33.17%, Val Acc: 35.41%, Test Acc: 31.13%\n",
            "Epoch 118/150, Train Loss: 2.6723, Val Loss: 2.5610, Test Loss: 2.7521\n",
            "Epoch 119/150, Train Acc: 32.88%, Val Acc: 35.56%, Test Acc: 31.23%\n",
            "Epoch 119/150, Train Loss: 2.6743, Val Loss: 2.5548, Test Loss: 2.7274\n",
            "Checkpoint saved at epoch 120: ./checkpoint_epoch_120.pth\n"
          ]
        },
        {
          "output_type": "display_data",
          "data": {
            "text/plain": [
              "<IPython.core.display.Javascript object>"
            ],
            "application/javascript": [
              "\n",
              "    async function download(id, filename, size) {\n",
              "      if (!google.colab.kernel.accessAllowed) {\n",
              "        return;\n",
              "      }\n",
              "      const div = document.createElement('div');\n",
              "      const label = document.createElement('label');\n",
              "      label.textContent = `Downloading \"${filename}\": `;\n",
              "      div.appendChild(label);\n",
              "      const progress = document.createElement('progress');\n",
              "      progress.max = size;\n",
              "      div.appendChild(progress);\n",
              "      document.body.appendChild(div);\n",
              "\n",
              "      const buffers = [];\n",
              "      let downloaded = 0;\n",
              "\n",
              "      const channel = await google.colab.kernel.comms.open(id);\n",
              "      // Send a message to notify the kernel that we're ready.\n",
              "      channel.send({})\n",
              "\n",
              "      for await (const message of channel.messages) {\n",
              "        // Send a message to notify the kernel that we're ready.\n",
              "        channel.send({})\n",
              "        if (message.buffers) {\n",
              "          for (const buffer of message.buffers) {\n",
              "            buffers.push(buffer);\n",
              "            downloaded += buffer.byteLength;\n",
              "            progress.value = downloaded;\n",
              "          }\n",
              "        }\n",
              "      }\n",
              "      const blob = new Blob(buffers, {type: 'application/binary'});\n",
              "      const a = document.createElement('a');\n",
              "      a.href = window.URL.createObjectURL(blob);\n",
              "      a.download = filename;\n",
              "      div.appendChild(a);\n",
              "      a.click();\n",
              "      div.remove();\n",
              "    }\n",
              "  "
            ]
          },
          "metadata": {}
        },
        {
          "output_type": "display_data",
          "data": {
            "text/plain": [
              "<IPython.core.display.Javascript object>"
            ],
            "application/javascript": [
              "download(\"download_40096901-549d-4d87-bb9e-6fe948e6a947\", \"checkpoint_epoch_120.pth\", 9794422)"
            ]
          },
          "metadata": {}
        },
        {
          "output_type": "stream",
          "name": "stdout",
          "text": [
            "Epoch 120/150, Train Acc: 32.99%, Val Acc: 35.68%, Test Acc: 31.63%\n",
            "Epoch 120/150, Train Loss: 2.6698, Val Loss: 2.5450, Test Loss: 2.7249\n",
            "Epoch 121/150, Train Acc: 33.11%, Val Acc: 35.88%, Test Acc: 31.35%\n",
            "Epoch 121/150, Train Loss: 2.6666, Val Loss: 2.5403, Test Loss: 2.7371\n",
            "Epoch 122/150, Train Acc: 33.20%, Val Acc: 35.68%, Test Acc: 31.66%\n",
            "Epoch 122/150, Train Loss: 2.6604, Val Loss: 2.5404, Test Loss: 2.7254\n",
            "Epoch 123/150, Train Acc: 33.38%, Val Acc: 35.95%, Test Acc: 30.72%\n",
            "Epoch 123/150, Train Loss: 2.6538, Val Loss: 2.5382, Test Loss: 2.7649\n",
            "Epoch 124/150, Train Acc: 33.51%, Val Acc: 36.31%, Test Acc: 30.63%\n",
            "Epoch 124/150, Train Loss: 2.6457, Val Loss: 2.5257, Test Loss: 2.7759\n",
            "Epoch 125/150, Train Acc: 33.44%, Val Acc: 36.41%, Test Acc: 30.99%\n",
            "Epoch 125/150, Train Loss: 2.6442, Val Loss: 2.5309, Test Loss: 2.7501\n",
            "Epoch 126/150, Train Acc: 33.86%, Val Acc: 36.36%, Test Acc: 31.59%\n",
            "Epoch 126/150, Train Loss: 2.6414, Val Loss: 2.5257, Test Loss: 2.7244\n",
            "Epoch 127/150, Train Acc: 33.73%, Val Acc: 36.22%, Test Acc: 31.13%\n",
            "Epoch 127/150, Train Loss: 2.6352, Val Loss: 2.5264, Test Loss: 2.7383\n",
            "Epoch 128/150, Train Acc: 34.23%, Val Acc: 36.28%, Test Acc: 31.57%\n",
            "Epoch 128/150, Train Loss: 2.6272, Val Loss: 2.5162, Test Loss: 2.7178\n",
            "Epoch 129/150, Train Acc: 34.29%, Val Acc: 36.46%, Test Acc: 31.96%\n",
            "Epoch 129/150, Train Loss: 2.6236, Val Loss: 2.5200, Test Loss: 2.7005\n",
            "Checkpoint saved at epoch 130: ./checkpoint_epoch_130.pth\n"
          ]
        },
        {
          "output_type": "display_data",
          "data": {
            "text/plain": [
              "<IPython.core.display.Javascript object>"
            ],
            "application/javascript": [
              "\n",
              "    async function download(id, filename, size) {\n",
              "      if (!google.colab.kernel.accessAllowed) {\n",
              "        return;\n",
              "      }\n",
              "      const div = document.createElement('div');\n",
              "      const label = document.createElement('label');\n",
              "      label.textContent = `Downloading \"${filename}\": `;\n",
              "      div.appendChild(label);\n",
              "      const progress = document.createElement('progress');\n",
              "      progress.max = size;\n",
              "      div.appendChild(progress);\n",
              "      document.body.appendChild(div);\n",
              "\n",
              "      const buffers = [];\n",
              "      let downloaded = 0;\n",
              "\n",
              "      const channel = await google.colab.kernel.comms.open(id);\n",
              "      // Send a message to notify the kernel that we're ready.\n",
              "      channel.send({})\n",
              "\n",
              "      for await (const message of channel.messages) {\n",
              "        // Send a message to notify the kernel that we're ready.\n",
              "        channel.send({})\n",
              "        if (message.buffers) {\n",
              "          for (const buffer of message.buffers) {\n",
              "            buffers.push(buffer);\n",
              "            downloaded += buffer.byteLength;\n",
              "            progress.value = downloaded;\n",
              "          }\n",
              "        }\n",
              "      }\n",
              "      const blob = new Blob(buffers, {type: 'application/binary'});\n",
              "      const a = document.createElement('a');\n",
              "      a.href = window.URL.createObjectURL(blob);\n",
              "      a.download = filename;\n",
              "      div.appendChild(a);\n",
              "      a.click();\n",
              "      div.remove();\n",
              "    }\n",
              "  "
            ]
          },
          "metadata": {}
        },
        {
          "output_type": "display_data",
          "data": {
            "text/plain": [
              "<IPython.core.display.Javascript object>"
            ],
            "application/javascript": [
              "download(\"download_a84f12c4-4888-4e79-bc09-a02f1844fbc4\", \"checkpoint_epoch_130.pth\", 9794422)"
            ]
          },
          "metadata": {}
        },
        {
          "output_type": "stream",
          "name": "stdout",
          "text": [
            "Epoch 130/150, Train Acc: 33.88%, Val Acc: 36.23%, Test Acc: 31.71%\n",
            "Epoch 130/150, Train Loss: 2.6282, Val Loss: 2.5191, Test Loss: 2.7084\n",
            "Epoch 131/150, Train Acc: 34.30%, Val Acc: 36.35%, Test Acc: 31.85%\n",
            "Epoch 131/150, Train Loss: 2.6265, Val Loss: 2.5145, Test Loss: 2.6976\n",
            "Epoch 132/150, Train Acc: 34.22%, Val Acc: 36.35%, Test Acc: 31.97%\n",
            "Epoch 132/150, Train Loss: 2.6200, Val Loss: 2.5127, Test Loss: 2.6979\n",
            "Epoch 133/150, Train Acc: 34.16%, Val Acc: 36.69%, Test Acc: 31.90%\n",
            "Epoch 133/150, Train Loss: 2.6128, Val Loss: 2.5053, Test Loss: 2.7018\n",
            "Epoch 134/150, Train Acc: 34.51%, Val Acc: 36.78%, Test Acc: 31.89%\n",
            "Epoch 134/150, Train Loss: 2.6218, Val Loss: 2.5053, Test Loss: 2.7087\n",
            "Epoch 135/150, Train Acc: 34.56%, Val Acc: 36.81%, Test Acc: 31.53%\n",
            "Epoch 135/150, Train Loss: 2.6076, Val Loss: 2.5056, Test Loss: 2.7176\n",
            "Epoch 136/150, Train Acc: 34.62%, Val Acc: 36.90%, Test Acc: 31.36%\n",
            "Epoch 136/150, Train Loss: 2.6024, Val Loss: 2.5068, Test Loss: 2.7224\n",
            "Epoch 137/150, Train Acc: 34.32%, Val Acc: 37.02%, Test Acc: 31.62%\n",
            "Epoch 137/150, Train Loss: 2.6140, Val Loss: 2.5004, Test Loss: 2.7204\n",
            "Epoch 138/150, Train Acc: 34.52%, Val Acc: 36.79%, Test Acc: 32.35%\n",
            "Epoch 138/150, Train Loss: 2.6073, Val Loss: 2.5051, Test Loss: 2.6953\n",
            "Epoch 139/150, Train Acc: 34.48%, Val Acc: 36.86%, Test Acc: 31.94%\n",
            "Epoch 139/150, Train Loss: 2.6080, Val Loss: 2.4951, Test Loss: 2.7106\n",
            "Checkpoint saved at epoch 140: ./checkpoint_epoch_140.pth\n"
          ]
        },
        {
          "output_type": "display_data",
          "data": {
            "text/plain": [
              "<IPython.core.display.Javascript object>"
            ],
            "application/javascript": [
              "\n",
              "    async function download(id, filename, size) {\n",
              "      if (!google.colab.kernel.accessAllowed) {\n",
              "        return;\n",
              "      }\n",
              "      const div = document.createElement('div');\n",
              "      const label = document.createElement('label');\n",
              "      label.textContent = `Downloading \"${filename}\": `;\n",
              "      div.appendChild(label);\n",
              "      const progress = document.createElement('progress');\n",
              "      progress.max = size;\n",
              "      div.appendChild(progress);\n",
              "      document.body.appendChild(div);\n",
              "\n",
              "      const buffers = [];\n",
              "      let downloaded = 0;\n",
              "\n",
              "      const channel = await google.colab.kernel.comms.open(id);\n",
              "      // Send a message to notify the kernel that we're ready.\n",
              "      channel.send({})\n",
              "\n",
              "      for await (const message of channel.messages) {\n",
              "        // Send a message to notify the kernel that we're ready.\n",
              "        channel.send({})\n",
              "        if (message.buffers) {\n",
              "          for (const buffer of message.buffers) {\n",
              "            buffers.push(buffer);\n",
              "            downloaded += buffer.byteLength;\n",
              "            progress.value = downloaded;\n",
              "          }\n",
              "        }\n",
              "      }\n",
              "      const blob = new Blob(buffers, {type: 'application/binary'});\n",
              "      const a = document.createElement('a');\n",
              "      a.href = window.URL.createObjectURL(blob);\n",
              "      a.download = filename;\n",
              "      div.appendChild(a);\n",
              "      a.click();\n",
              "      div.remove();\n",
              "    }\n",
              "  "
            ]
          },
          "metadata": {}
        },
        {
          "output_type": "display_data",
          "data": {
            "text/plain": [
              "<IPython.core.display.Javascript object>"
            ],
            "application/javascript": [
              "download(\"download_a96b288f-abb4-4c5f-ad21-09721eb39a29\", \"checkpoint_epoch_140.pth\", 9794422)"
            ]
          },
          "metadata": {}
        },
        {
          "output_type": "stream",
          "name": "stdout",
          "text": [
            "Epoch 140/150, Train Acc: 34.50%, Val Acc: 37.13%, Test Acc: 32.20%\n",
            "Epoch 140/150, Train Loss: 2.6005, Val Loss: 2.5011, Test Loss: 2.6988\n",
            "Epoch 141/150, Train Acc: 34.62%, Val Acc: 37.00%, Test Acc: 32.25%\n",
            "Epoch 141/150, Train Loss: 2.6027, Val Loss: 2.4987, Test Loss: 2.6934\n",
            "Epoch 142/150, Train Acc: 34.84%, Val Acc: 37.01%, Test Acc: 32.03%\n",
            "Epoch 142/150, Train Loss: 2.6014, Val Loss: 2.4947, Test Loss: 2.6924\n",
            "Epoch 143/150, Train Acc: 34.84%, Val Acc: 37.32%, Test Acc: 32.03%\n",
            "Epoch 143/150, Train Loss: 2.5939, Val Loss: 2.4921, Test Loss: 2.7060\n",
            "Epoch 144/150, Train Acc: 34.55%, Val Acc: 37.29%, Test Acc: 32.14%\n",
            "Epoch 144/150, Train Loss: 2.5928, Val Loss: 2.4905, Test Loss: 2.7025\n",
            "Epoch 145/150, Train Acc: 34.87%, Val Acc: 37.07%, Test Acc: 32.46%\n",
            "Epoch 145/150, Train Loss: 2.5988, Val Loss: 2.4922, Test Loss: 2.6936\n",
            "Epoch 146/150, Train Acc: 34.96%, Val Acc: 37.32%, Test Acc: 32.26%\n",
            "Epoch 146/150, Train Loss: 2.5847, Val Loss: 2.4896, Test Loss: 2.6984\n",
            "Epoch 147/150, Train Acc: 34.82%, Val Acc: 37.09%, Test Acc: 32.30%\n",
            "Epoch 147/150, Train Loss: 2.5856, Val Loss: 2.4906, Test Loss: 2.6943\n",
            "Epoch 148/150, Train Acc: 34.68%, Val Acc: 37.01%, Test Acc: 32.29%\n",
            "Epoch 148/150, Train Loss: 2.5889, Val Loss: 2.4904, Test Loss: 2.6966\n",
            "Epoch 149/150, Train Acc: 34.82%, Val Acc: 37.30%, Test Acc: 32.44%\n",
            "Epoch 149/150, Train Loss: 2.5914, Val Loss: 2.4898, Test Loss: 2.6920\n",
            "Checkpoint saved at epoch 150: ./checkpoint_epoch_150.pth\n"
          ]
        },
        {
          "output_type": "display_data",
          "data": {
            "text/plain": [
              "<IPython.core.display.Javascript object>"
            ],
            "application/javascript": [
              "\n",
              "    async function download(id, filename, size) {\n",
              "      if (!google.colab.kernel.accessAllowed) {\n",
              "        return;\n",
              "      }\n",
              "      const div = document.createElement('div');\n",
              "      const label = document.createElement('label');\n",
              "      label.textContent = `Downloading \"${filename}\": `;\n",
              "      div.appendChild(label);\n",
              "      const progress = document.createElement('progress');\n",
              "      progress.max = size;\n",
              "      div.appendChild(progress);\n",
              "      document.body.appendChild(div);\n",
              "\n",
              "      const buffers = [];\n",
              "      let downloaded = 0;\n",
              "\n",
              "      const channel = await google.colab.kernel.comms.open(id);\n",
              "      // Send a message to notify the kernel that we're ready.\n",
              "      channel.send({})\n",
              "\n",
              "      for await (const message of channel.messages) {\n",
              "        // Send a message to notify the kernel that we're ready.\n",
              "        channel.send({})\n",
              "        if (message.buffers) {\n",
              "          for (const buffer of message.buffers) {\n",
              "            buffers.push(buffer);\n",
              "            downloaded += buffer.byteLength;\n",
              "            progress.value = downloaded;\n",
              "          }\n",
              "        }\n",
              "      }\n",
              "      const blob = new Blob(buffers, {type: 'application/binary'});\n",
              "      const a = document.createElement('a');\n",
              "      a.href = window.URL.createObjectURL(blob);\n",
              "      a.download = filename;\n",
              "      div.appendChild(a);\n",
              "      a.click();\n",
              "      div.remove();\n",
              "    }\n",
              "  "
            ]
          },
          "metadata": {}
        },
        {
          "output_type": "display_data",
          "data": {
            "text/plain": [
              "<IPython.core.display.Javascript object>"
            ],
            "application/javascript": [
              "download(\"download_529259f8-5914-4ec4-985a-97c79af67cde\", \"checkpoint_epoch_150.pth\", 9794422)"
            ]
          },
          "metadata": {}
        },
        {
          "output_type": "stream",
          "name": "stdout",
          "text": [
            "Epoch 150/150, Train Acc: 34.90%, Val Acc: 37.33%, Test Acc: 32.35%\n",
            "Epoch 150/150, Train Loss: 2.5909, Val Loss: 2.4894, Test Loss: 2.6938\n"
          ]
        },
        {
          "output_type": "display_data",
          "data": {
            "text/plain": [
              "<Figure size 600x400 with 1 Axes>"
            ],
            "image/png": "[encoded data removed]"
          },
          "metadata": {}
        },
        {
          "output_type": "display_data",
          "data": {
            "text/plain": [
              "<Figure size 600x400 with 1 Axes>"
            ],
            "image/png": "[encoded data removed]"
          },
          "metadata": {}
        },
        {
          "output_type": "display_data",
          "data": {
            "text/plain": [
              "<Figure size 600x400 with 1 Axes>"
            ],
            "image/png": "[encoded data removed]"
          },
          "metadata": {}
        },
        {
          "output_type": "display_data",
          "data": {
            "text/plain": [
              "<Figure size 600x400 with 1 Axes>"
            ],
            "image/png": "[encoded data removed]"
          },
          "metadata": {}
        },
        {
          "output_type": "display_data",
          "data": {
            "text/plain": [
              "<Figure size 600x400 with 1 Axes>"
            ],
            "image/png": "[encoded data removed]"
          },
          "metadata": {}
        },
        {
          "output_type": "display_data",
          "data": {
            "text/plain": [
              "<Figure size 600x400 with 1 Axes>"
            ],
            "image/png": "[encoded data removed]"
          },
          "metadata": {}
        },
        {
          "output_type": "display_data",
          "data": {
            "text/plain": [
              "<Figure size 640x480 with 0 Axes>"
            ]
          },
          "metadata": {}
        }
      ],
      "source": [
        "%run large_batch_training.py --optimizer LAMB --batch-size 8192 --weight-decay 1e-2"
      ]
    }
  ],
  "metadata": {
    "accelerator": "GPU",
    "colab": {
      "gpuType": "T4",
      "provenance": []
    },
    "kernelspec": {
      "display_name": "Python 3",
      "name": "python3"
    },
    "language_info": {
      "name": "python"
    }
  },
  "nbformat": 4,
  "nbformat_minor": 0
}