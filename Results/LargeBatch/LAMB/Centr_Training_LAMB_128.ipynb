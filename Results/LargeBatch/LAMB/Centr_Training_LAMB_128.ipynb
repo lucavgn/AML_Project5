{
  "cells": [
    {
      "cell_type": "code",
      "execution_count": 6,
      "metadata": {
        "colab": {
          "base_uri": "https://localhost:8080/"
        },
        "id": "LtOx0ESVnO0u",
        "outputId": "9a579880-a623-4bad-992a-41e7ff4ccc71"
      },
      "outputs": [
        {
          "output_type": "stream",
          "name": "stdout",
          "text": [
            "Overwriting large_batch_training.py\n"
          ]
        }
      ],
      "source": [
        "%%writefile large_batch_training.py\n",
        "\n",
        "import os\n",
        "import numpy as np\n",
        "import torch\n",
        "import torch.nn as nn\n",
        "import torch.optim as optim\n",
        "import torchvision\n",
        "import torchvision.transforms as transforms\n",
        "import matplotlib.pyplot as plt\n",
        "import argparse\n",
        "from torch.utils.data import random_split\n",
        "from google.colab import files\n",
        "\n",
        "def compute_mean_std(dataset):\n",
        "    \"\"\"Compute the mean and std of CIFAR-100 dataset.\n",
        "\n",
        "    Args:\n",
        "        dataset: A dataset derived from `torch.utils.data.Dataset`,\n",
        "                 such as `cifar100_training_dataset` or `cifar100_test_dataset`.\n",
        "\n",
        "    Returns:\n",
        "        A tuple containing (mean, std) for the entire dataset.\n",
        "    \"\"\"\n",
        "\n",
        "    # Extract images and labels\n",
        "    data_r = np.stack([np.array(dataset[i][0])[:, :, 0] for i in range(len(dataset))])\n",
        "    data_g = np.stack([np.array(dataset[i][0])[:, :, 1] for i in range(len(dataset))])\n",
        "    data_b = np.stack([np.array(dataset[i][0])[:, :, 2] for i in range(len(dataset))])\n",
        "\n",
        "    # Compute mean and std\n",
        "    mean = np.mean(data_r), np.mean(data_g), np.mean(data_b)\n",
        "    std = np.std(data_r), np.std(data_g), np.std(data_b)\n",
        "\n",
        "    return mean, std\n",
        "\n",
        "# Define LeNet-5 architecture\n",
        "class LeNet5(nn.Module):\n",
        "    def __init__(self):\n",
        "        super(LeNet5, self).__init__()\n",
        "        self.conv1 = nn.Conv2d(3, 64, 5)\n",
        "        self.relu1 = nn.ReLU()\n",
        "        self.pool1 = nn.MaxPool2d(2, 2)\n",
        "        self.conv2 = nn.Conv2d(64, 64, 5)\n",
        "        self.relu2 = nn.ReLU()\n",
        "        self.pool2 = nn.MaxPool2d(2, 2)\n",
        "        self.fc1 = nn.Linear(64 * 5 * 5, 384)\n",
        "        self.relu3 = nn.ReLU()\n",
        "        self.fc2 = nn.Linear(384, 192)\n",
        "        self.relu4 = nn.ReLU()\n",
        "        self.fc3 = nn.Linear(192, 100)\n",
        "\n",
        "    def forward(self, x):\n",
        "        x = self.pool1(self.relu1(self.conv1(x)))\n",
        "        x = self.pool2(self.relu2(self.conv2(x)))\n",
        "        x = x.view(-1, 64 * 5 * 5)\n",
        "        x = self.relu3(self.fc1(x))\n",
        "        x = self.relu4(self.fc2(x))\n",
        "        x = self.fc3(x)\n",
        "        return x\n",
        "\n",
        "# Device setup\n",
        "device = torch.device(\"cuda:0\" if torch.cuda.is_available() else \"cpu\")\n",
        "\n",
        "# Initialize model\n",
        "net = LeNet5().to(device)\n",
        "\n",
        "# Optimizer Subclasses\n",
        "class LARS(optim.Optimizer):\n",
        "    def __init__(self, params, lr, momentum=0.9, weight_decay=0, trust_coefficient=0.001):\n",
        "        # Initialize the optimizer with the learning rate, momentum, weight decay, and trust coefficient\n",
        "        defaults = dict(lr=lr, momentum=momentum, weight_decay=weight_decay, trust_coefficient=trust_coefficient)\n",
        "        super(LARS, self).__init__(params, defaults)\n",
        "\n",
        "    def step(self, closure=None):\n",
        "        loss = None\n",
        "        if closure is not None:\n",
        "            # If a closure is provided, evaluate it (commonly used for re-evaluating loss)\n",
        "            loss = closure()\n",
        "        for group in self.param_groups:\n",
        "            for p in group['params']:\n",
        "                if p.grad is None:\n",
        "                   # Skip parameters that have no gradient\n",
        "                    continue\n",
        "                grad = p.grad.data # Get the gradient of the parameter\n",
        "                # Retrieve or initialize the optimizer's internal state\n",
        "                state = self.state[p]\n",
        "                if len(state) == 0:\n",
        "                    state['momentum_buffer'] = torch.clone(grad).detach()\n",
        "                # Apply weight decay directly to the gradient\n",
        "                if group['weight_decay'] != 0:\n",
        "                    grad.add_(p.data, alpha=group['weight_decay'])\n",
        "                # Compute the norms of the parameter and its gradient\n",
        "                param_norm = torch.norm(p.data)\n",
        "                grad_norm = torch.norm(grad)\n",
        "                # Compute local learning rate based on the trust coefficient and norms\n",
        "                if param_norm > 0 and grad_norm > 0:\n",
        "                    local_lr = group['trust_coefficient'] * param_norm / (grad_norm + 1e-8)\n",
        "                    grad = grad.mul(local_lr) # Scale the gradient with the local learning rate\n",
        "                # Update the momentum buffer\n",
        "                momentum_buffer = state['momentum_buffer']\n",
        "                momentum_buffer.mul_(group['momentum']).add_(grad) #Momentum update\n",
        "                state['momentum_buffer'] = momentum_buffer\n",
        "                # Update the parameter\n",
        "                p.data.add_(momentum_buffer, alpha=-group['lr']) # Gradient descent step with learning rate\n",
        "        return loss\n",
        "\n",
        "class LAMB(optim.Optimizer):\n",
        "    def __init__(self, params, lr, weight_decay=0, betas=(0.9, 0.999), eps=1e-8):\n",
        "        # Initialize the optimizer with learning rate, weight decay, betas for moment updates, and epsilon for stability\n",
        "        defaults = dict(lr=lr, weight_decay=weight_decay, betas=betas, eps=eps)\n",
        "        super(LAMB, self).__init__(params, defaults)\n",
        "\n",
        "    def step(self, closure=None):\n",
        "        loss = None\n",
        "        if closure is not None:\n",
        "            # If a closure is provided, evaluate it\n",
        "            loss = closure()\n",
        "        for group in self.param_groups:\n",
        "            for p in group['params']:\n",
        "                if p.grad is None:\n",
        "                    # Skip parameters that have no gradient\n",
        "                    continue\n",
        "                grad = p.grad.data # Get the gradient of the parameter\n",
        "                # Retrieve or initialize the optimizer's internal state\n",
        "                state = self.state[p]\n",
        "                # Initialize state\n",
        "                if len(state) == 0:\n",
        "                    # Initialize the state (step counter, first moment, second moment)\n",
        "                    state['step'] = 0\n",
        "                    state['exp_avg'] = torch.zeros_like(p.data) # First moment (mean of gradients)\n",
        "                    state['exp_avg_sq'] = torch.zeros_like(p.data) # Second moment (mean of squared gradients)\n",
        "                exp_avg = state['exp_avg']\n",
        "                exp_avg_sq = state['exp_avg_sq']\n",
        "                beta1, beta2 = group['betas']  # Coefficients for moment updates\n",
        "                state['step'] += 1 # Increment step count\n",
        "                step = state['step']\n",
        "                # Decay the first and second moment running average coefficients\n",
        "                # Update first and second moments\n",
        "                exp_avg.mul_(beta1).add_(grad, alpha=1 - beta1) # Exponential moving average of gradients\n",
        "                exp_avg_sq.mul_(beta2).addcmul_(grad, grad, value=1 - beta2) # Exponential moving average of squared gradients\n",
        "                # Correct bias in the first and second moments\n",
        "                bias_correction1 = 1 - beta1 ** step\n",
        "                bias_correction2 = 1 - beta2 ** step\n",
        "                corrected_exp_avg = exp_avg / bias_correction1\n",
        "                corrected_exp_avg_sq = exp_avg_sq / bias_correction2\n",
        "                # Compute the denominator for scaling the update\n",
        "                denom = corrected_exp_avg_sq.sqrt().add_(group['eps']) # Stability epsilon\n",
        "                # Compute the step update\n",
        "                update = corrected_exp_avg / denom\n",
        "                # Apply weight decay directly to the parameters\n",
        "                if group['weight_decay'] != 0:\n",
        "                    update.add_(p.data, alpha=group['weight_decay'])\n",
        "                # Compute the trust ratio (norm of parameters vs norm of update)\n",
        "                param_norm = torch.norm(p.data)\n",
        "                update_norm = torch.norm(update)\n",
        "                trust_ratio = 1.0  # Default trust ratio\n",
        "                if param_norm > 0 and update_norm > 0:\n",
        "                    trust_ratio = param_norm / update_norm\n",
        "                # Update the parameters\n",
        "                p.data.add_(update, alpha=-group['lr'] * trust_ratio)\n",
        "        return loss\n",
        "\n",
        "class SqrtLRScheduler(torch.optim.lr_scheduler._LRScheduler):\n",
        "    def __init__(self, optimizer, base_lr, batch_size, warmup_epochs, total_epochs, reference_batch_size, verbose=False):\n",
        "        \"\"\"\n",
        "        Args:\n",
        "            optimizer: PyTorch optimizer (e.g., Adam, LAMB, LARS).\n",
        "            base_lr: Base learning rate for the reference batch size.\n",
        "            batch_size: Current batch size.\n",
        "            warmup_epochs: Number of warmup epochs.\n",
        "            total_epochs: Total number of epochs.\n",
        "            reference_batch_size: Batch size for which the base_lr is defined.\n",
        "            verbose: Whether to print LR updates.\n",
        "        \"\"\"\n",
        "        self.base_lr = base_lr\n",
        "        self.batch_size = batch_size\n",
        "        self.scaled_lr = base_lr * (batch_size / reference_batch_size) ** 0.5\n",
        "        self.warmup_epochs = warmup_epochs\n",
        "        self.total_epochs = total_epochs\n",
        "        self.verbose = verbose\n",
        "        super(SqrtLRScheduler, self).__init__(optimizer)\n",
        "\n",
        "    def get_lr(self):\n",
        "        epoch = self.last_epoch\n",
        "        if epoch < self.warmup_epochs:\n",
        "            # Linear warmup scaling\n",
        "            warmup_factor = (epoch + 1) / self.warmup_epochs\n",
        "            return [warmup_factor * self.scaled_lr for _ in self.optimizer.param_groups]\n",
        "        else:\n",
        "            # polynomially decaying learning rate of ηt = η0×(1−t/T)\n",
        "            if epoch == self.warmup_epochs:\n",
        "                print(f\"Warmup phase completed at epoch {epoch}. Switching to constant learning rate.\")\n",
        "            return [self.scaled_lr * ( 1 - ( (epoch - self.warmup_epochs) / (self.total_epochs - self.warmup_epochs))) for _ in self.optimizer.param_groups]\n",
        "\n",
        "# Command-line arguments\n",
        "parser = argparse.ArgumentParser(description='Train with Large-Batch Optimizers')\n",
        "parser.add_argument('--optimizer', type=str, default='SGDM', choices=['SGDM', 'AdamW', 'LARS', 'LAMB'],\n",
        "                    help='Choose optimizer')\n",
        "parser.add_argument('--batch-size', type=int, default=128, help='Batch size')\n",
        "parser.add_argument('--momentum', type=float, default=0.9, help='Momentum for SGDM and LARS')\n",
        "parser.add_argument('--weight-decay', type=float, default=1e-5, help='Weight decay')\n",
        "parser.add_argument('--b1', type=float, default=0.9, help='Beta1 for AdamW')\n",
        "parser.add_argument('--b2', type=float, default=0.999, help='Beta2 for AdamW')\n",
        "parser.add_argument('--trust-coefficient', type=float, default=0.001, help='Trust coefficient for LARS')\n",
        "parser.add_argument('--epochs', type=int, default=150, help='Number of epochs')\n",
        "parser.add_argument('--warmup-epochs', type=int, default=5, help='Number of epochs')\n",
        "args = parser.parse_args()\n",
        "\n",
        "\n",
        "torch.manual_seed(42) # Set the seed for reproducibility\n",
        "torch.cuda.manual_seed_all(42) # Set the seed for reproducibility on GPU\n",
        "\n",
        "# use the same mean and std to add consistency to all datasets\n",
        "data = torchvision.datasets.CIFAR100(root='./data', train=True, download=True, transform=transforms.ToTensor())\n",
        "mean, std = compute_mean_std(data)\n",
        "\n",
        "# Load and split CIFAR-100 dataset\n",
        "train_transform = transforms.Compose([\n",
        "  transforms.RandomHorizontalFlip(),\n",
        "  # transforms.RandomRotation(15),\n",
        "  transforms.RandomCrop(32, padding=4),\n",
        "  # transforms.RandomAffine(degrees=0, translate=(0.1, 0.1)),\n",
        "  transforms.RandomPerspective(distortion_scale=0.2, p=0.5),\n",
        "  transforms.ColorJitter(brightness=0.3, contrast=0.3, saturation=0.3, hue=0.2),\n",
        "  transforms.ToTensor(),\n",
        "  transforms.Normalize(mean, std)\n",
        "])\n",
        "\n",
        "val_transform = transforms.Compose([\n",
        "    transforms.ToTensor(), # Convert into tensor\n",
        "    transforms.Normalize(mean, std)  # Normalization\n",
        "])\n",
        "\n",
        "test_transform = transforms.Compose([\n",
        "    transforms.CenterCrop(24),\n",
        "    transforms.Pad(4),\n",
        "    transforms.ToTensor(),  # Convert to PyTorch tensor\n",
        "    transforms.Normalize(mean, std)\n",
        "])\n",
        "\n",
        "trainset = torchvision.datasets.CIFAR100(root='./data', train=True, download=True, transform=train_transform)\n",
        "valset = torchvision.datasets.CIFAR100(root='./data', train=True, download=True, transform=val_transform)\n",
        "indices = torch.randperm(len(trainset))\n",
        "val_size = int(0.2*len(trainset))\n",
        "trainset = torch.utils.data.Subset(trainset, indices[:-val_size])\n",
        "valset = torch.utils.data.Subset(valset, indices[-val_size:])\n",
        "\n",
        "trainloader = torch.utils.data.DataLoader(trainset, batch_size=args.batch_size, shuffle=True, num_workers=2)\n",
        "valloader = torch.utils.data.DataLoader(valset, batch_size=args.batch_size, shuffle=False, num_workers=2)\n",
        "\n",
        "testset = torchvision.datasets.CIFAR100(root='./data', train=False, download=True, transform=test_transform)\n",
        "testloader = torch.utils.data.DataLoader(testset, batch_size=args.batch_size, shuffle=False, num_workers=2)\n",
        "\n",
        "\n",
        "# Fixed parameter from paper [18] to calculate the square root LR scaling value\n",
        "# base_lr = 5 / (2**3 * 10**3)\n",
        "# reference_batch_size = 512\n",
        "#scaled_lr = base_lr * (args.batch_size / reference_batch_size) ** 0.5\n",
        "\n",
        "# Mapping optimizers\n",
        "if args.optimizer == 'SGDM':\n",
        "    base_lr = 1e-2\n",
        "    reference_batch_size = 64\n",
        "    scaled_lr = base_lr * (args.batch_size / reference_batch_size) ** 0.5\n",
        "    optimizer = optim.SGD(net.parameters(), lr=scaled_lr, momentum=args.momentum, weight_decay=args.weight_decay)\n",
        "elif args.optimizer == 'AdamW':\n",
        "    base_lr = 5e-4\n",
        "    reference_batch_size = 64\n",
        "    scaled_lr = base_lr * (args.batch_size / reference_batch_size) ** 0.5\n",
        "    optimizer = optim.AdamW(net.parameters(), lr=scaled_lr, betas=(args.b1, args.b2), weight_decay=args.weight_decay)\n",
        "elif args.optimizer == 'LARS':\n",
        "    base_lr = 1e-2\n",
        "    reference_batch_size = 64\n",
        "    scaled_lr = base_lr * (args.batch_size / reference_batch_size) ** 0.5\n",
        "    optimizer = LARS(net.parameters(), lr=scaled_lr, momentum=args.momentum, weight_decay=args.weight_decay, trust_coefficient=args.trust_coefficient)\n",
        "elif args.optimizer == 'LAMB':\n",
        "    base_lr = 5e-4\n",
        "    reference_batch_size = 64\n",
        "    scaled_lr = base_lr * (args.batch_size / reference_batch_size) ** 0.5\n",
        "    optimizer = LAMB(net.parameters(), lr=scaled_lr, weight_decay=args.weight_decay)\n",
        "\n",
        "criterion = nn.CrossEntropyLoss()\n",
        "\n",
        "# scheduler should be e square root LR scaling rule and linear-epoch warmup scheduling to automatically adjust learning rate\n",
        "scheduler = SqrtLRScheduler(\n",
        "    optimizer = optimizer,\n",
        "    base_lr = base_lr,\n",
        "    batch_size = args.batch_size,\n",
        "    warmup_epochs = args.warmup_epochs,\n",
        "    total_epochs = args.epochs,\n",
        "    reference_batch_size = reference_batch_size,\n",
        "    verbose = True)\n",
        "\n",
        "# Training Function\n",
        "def train_model(optimizer, scheduler, model, criterion, trainloader, valloader , testloader, device, epochs, save_checkpoint_interval=10):\n",
        "    train_losses, val_losses, test_losses = [], [], []\n",
        "    train_accuracies, val_accuracies, test_accuracies = [], [], []\n",
        "    for epoch in range(epochs):\n",
        "        model.train()\n",
        "        running_loss, correct_train, total_train = 0.0, 0, 0\n",
        "        for inputs, labels in trainloader:\n",
        "            inputs, labels = inputs.to(device), labels.to(device)\n",
        "            optimizer.zero_grad()\n",
        "            outputs = model(inputs)\n",
        "            loss = criterion(outputs, labels)\n",
        "            loss.backward()\n",
        "            optimizer.step()\n",
        "            running_loss += loss.item()\n",
        "            _, predicted = outputs.max(1)\n",
        "            total_train += labels.size(0)\n",
        "            correct_train += predicted.eq(labels).sum().item()\n",
        "        train_loss = running_loss / len(trainloader)\n",
        "        train_accuracy = 100. * correct_train / total_train\n",
        "        train_losses.append(train_loss)\n",
        "        train_accuracies.append(train_accuracy)\n",
        "\n",
        "        # Validation\n",
        "        model.eval()\n",
        "        correct_val, total_val, val_loss = 0, 0, 0.0\n",
        "        with torch.no_grad():\n",
        "            for inputs, labels in valloader:\n",
        "                inputs, labels = inputs.to(device), labels.to(device)\n",
        "                outputs = model(inputs)\n",
        "                loss = criterion(outputs, labels)\n",
        "                val_loss += loss.item()\n",
        "                _, predicted = outputs.max(1)\n",
        "                total_val += labels.size(0)\n",
        "                correct_val += predicted.eq(labels).sum().item()\n",
        "        val_loss /= len(valloader)\n",
        "        val_losses.append(val_loss)\n",
        "        val_accuracy = 100. * correct_val / total_val\n",
        "        val_accuracies.append(val_accuracy)\n",
        "\n",
        "        '''\n",
        "        # Early Stopping\n",
        "        if val_loss < best_val_loss:\n",
        "          best_val_loss = val_loss\n",
        "          epochs_no_improve = 0\n",
        "        else:\n",
        "          epochs_no_improve += 1\n",
        "\n",
        "        if epochs_no_improve == patience:\n",
        "          print(\"Early stopping!\")\n",
        "          break\n",
        "        '''\n",
        "\n",
        "        # Test\n",
        "        correct_test, total_test, test_loss = 0, 0, 0.0\n",
        "        with torch.no_grad():\n",
        "            for inputs, labels in testloader:\n",
        "                inputs, labels = inputs.to(device), labels.to(device)\n",
        "                outputs = model(inputs)\n",
        "                loss = criterion(outputs, labels)\n",
        "                test_loss += loss.item()\n",
        "                _, predicted = outputs.max(1)\n",
        "                total_test += labels.size(0)\n",
        "                correct_test += predicted.eq(labels).sum().item()\n",
        "        test_loss /= len(testloader)\n",
        "        test_losses.append(test_loss)\n",
        "        test_accuracy = 100. * correct_test / total_test\n",
        "        test_accuracies.append(test_accuracy)\n",
        "\n",
        "        scheduler.step()\n",
        "\n",
        "        # Checkpointing\n",
        "        if (epoch + 1) % save_checkpoint_interval == 0:\n",
        "            checkpoint_filename = f'checkpoint_epoch_{epoch + 1}.pth'\n",
        "            checkpoint = {\n",
        "                'epoch': epoch + 1,\n",
        "                'model_state_dict': model.state_dict(),\n",
        "                'optimizer_state_dict': optimizer.state_dict(),\n",
        "                'scheduler_state_dict': scheduler.state_dict(),\n",
        "                'loss': loss.item(),\n",
        "            }\n",
        "            checkpoint_path = os.path.join('./', checkpoint_filename)\n",
        "            torch.save(checkpoint, checkpoint_path)\n",
        "            print(f'Checkpoint saved at epoch {epoch + 1}: {checkpoint_path}')\n",
        "\n",
        "            # Download the checkpoint\n",
        "            files.download(checkpoint_filename)\n",
        "\n",
        "        print(f'Epoch {epoch+1}/{epochs}, Train Acc: {train_accuracy:.2f}%, Val Acc: {val_accuracy:.2f}%, Test Acc: {test_accuracy:.2f}%')\n",
        "        print(f'Epoch {epoch+1}/{epochs}, Train Loss: {train_loss:.4f}, Val Loss: {val_loss:.4f}, Test Loss: {test_loss:.4f}')\n",
        "\n",
        "    return train_losses, val_losses, test_losses, train_accuracies, val_accuracies, test_accuracies\n",
        "\n",
        "# Train the model\n",
        "print(f\"--- Train with {args.optimizer} ---\")\n",
        "train_loss, val_loss, test_loss, train_acc, val_acc, test_acc = train_model(optimizer, scheduler, net, criterion, trainloader, valloader, testloader, device, args.epochs)\n",
        "\n",
        "# Save model\n",
        "torch.save(net.state_dict(), f'net_{args.optimizer}.pth')\n",
        "\n",
        "# Plot results\n",
        "# Plot Training Loss\n",
        "plt.figure(figsize=(6, 4))\n",
        "plt.plot(train_loss, label='Train Loss')\n",
        "plt.title('Training Loss')\n",
        "plt.xlabel('Epoch')\n",
        "plt.ylabel('Loss')\n",
        "plt.legend()\n",
        "plt.tight_layout()\n",
        "plt.savefig('train_loss.png')\n",
        "plt.show()\n",
        "\n",
        "# Plot Training Accuracy\n",
        "plt.figure(figsize=(6, 4))\n",
        "plt.plot(train_acc, label='Train Accuracy')\n",
        "plt.title('Training Accuracy')\n",
        "plt.xlabel('Epoch')\n",
        "plt.ylabel('Accuracy (%)')\n",
        "plt.legend()\n",
        "plt.tight_layout()\n",
        "plt.savefig('train_accuracy.png')\n",
        "plt.show()\n",
        "\n",
        "# Plot Validation Loss\n",
        "plt.figure(figsize=(6, 4))\n",
        "plt.plot(val_loss, label='Validation Loss')\n",
        "plt.title('Validation Loss')\n",
        "plt.xlabel('Epoch')\n",
        "plt.ylabel('Loss')\n",
        "plt.legend()\n",
        "plt.tight_layout()\n",
        "plt.savefig('val_loss.png')\n",
        "plt.show()\n",
        "\n",
        "# Plot Validation Accuracy\n",
        "plt.figure(figsize=(6, 4))\n",
        "plt.plot(val_acc, label='Validation Accuracy')\n",
        "plt.title('Validation Accuracy')\n",
        "plt.xlabel('Epoch')\n",
        "plt.ylabel('Accuracy (%)')\n",
        "plt.legend()\n",
        "plt.tight_layout()\n",
        "plt.savefig('val_accuracy.png')\n",
        "plt.show()\n",
        "\n",
        "# Plot Test Loss\n",
        "plt.figure(figsize=(6, 4))\n",
        "plt.plot(test_loss, label='Test Loss')\n",
        "plt.title('Test Loss')\n",
        "plt.xlabel('Epoch')\n",
        "plt.ylabel('Loss')\n",
        "plt.legend()\n",
        "plt.tight_layout()\n",
        "plt.savefig('test_loss.png')\n",
        "plt.show()\n",
        "\n",
        "# Plot Test Accuracy\n",
        "plt.figure(figsize=(6, 4))\n",
        "plt.plot(test_acc, label='Test Accuracy')\n",
        "plt.title('Test Accuracy')\n",
        "plt.xlabel('Epoch')\n",
        "plt.ylabel('Accuracy (%)')\n",
        "plt.legend()\n",
        "plt.tight_layout()\n",
        "plt.savefig('test_accuracy.png')\n",
        "plt.show()\n"
      ]
    },
    {
      "cell_type": "code",
      "execution_count": 5,
      "metadata": {
        "colab": {
          "base_uri": "https://localhost:8080/",
          "height": 373
        },
        "id": "_hEcpkQqYJmP",
        "outputId": "d223d8c2-4805-43d8-a6f3-81ab7d56f400"
      },
      "outputs": [
        {
          "output_type": "stream",
          "name": "stdout",
          "text": [
            "Files already downloaded and verified\n"
          ]
        },
        {
          "output_type": "error",
          "ename": "KeyboardInterrupt",
          "evalue": "",
          "traceback": [
            "\u001b[0;31m---------------------------------------------------------------------------\u001b[0m",
            "\u001b[0;31mKeyboardInterrupt\u001b[0m                         Traceback (most recent call last)",
            "\u001b[0;32m/content/large_batch_training.py\u001b[0m in \u001b[0;36m<module>\u001b[0;34m\u001b[0m\n\u001b[1;32m    212\u001b[0m \u001b[0;34m\u001b[0m\u001b[0m\n\u001b[1;32m    213\u001b[0m \u001b[0;31m# use the same mean and std to add consistency to all datasets\u001b[0m\u001b[0;34m\u001b[0m\u001b[0;34m\u001b[0m\u001b[0m\n\u001b[0;32m--> 214\u001b[0;31m \u001b[0mdata\u001b[0m \u001b[0;34m=\u001b[0m \u001b[0mtorchvision\u001b[0m\u001b[0;34m.\u001b[0m\u001b[0mdatasets\u001b[0m\u001b[0;34m.\u001b[0m\u001b[0mCIFAR100\u001b[0m\u001b[0;34m(\u001b[0m\u001b[0mroot\u001b[0m\u001b[0;34m=\u001b[0m\u001b[0;34m'./data'\u001b[0m\u001b[0;34m,\u001b[0m \u001b[0mtrain\u001b[0m\u001b[0;34m=\u001b[0m\u001b[0;32mTrue\u001b[0m\u001b[0;34m,\u001b[0m \u001b[0mdownload\u001b[0m\u001b[0;34m=\u001b[0m\u001b[0;32mTrue\u001b[0m\u001b[0;34m,\u001b[0m \u001b[0mtransform\u001b[0m\u001b[0;34m=\u001b[0m\u001b[0mtransforms\u001b[0m\u001b[0;34m.\u001b[0m\u001b[0mToTensor\u001b[0m\u001b[0;34m(\u001b[0m\u001b[0;34m)\u001b[0m\u001b[0;34m)\u001b[0m\u001b[0;34m\u001b[0m\u001b[0;34m\u001b[0m\u001b[0m\n\u001b[0m\u001b[1;32m    215\u001b[0m \u001b[0mmean\u001b[0m\u001b[0;34m,\u001b[0m \u001b[0mstd\u001b[0m \u001b[0;34m=\u001b[0m \u001b[0mcompute_mean_std\u001b[0m\u001b[0;34m(\u001b[0m\u001b[0mdata\u001b[0m\u001b[0;34m)\u001b[0m\u001b[0;34m\u001b[0m\u001b[0;34m\u001b[0m\u001b[0m\n\u001b[1;32m    216\u001b[0m \u001b[0;34m\u001b[0m\u001b[0m\n",
            "\u001b[0;32m/usr/local/lib/python3.10/dist-packages/torchvision/datasets/cifar.py\u001b[0m in \u001b[0;36m__init__\u001b[0;34m(self, root, train, transform, target_transform, download)\u001b[0m\n\u001b[1;32m     66\u001b[0m             \u001b[0mself\u001b[0m\u001b[0;34m.\u001b[0m\u001b[0mdownload\u001b[0m\u001b[0;34m(\u001b[0m\u001b[0;34m)\u001b[0m\u001b[0;34m\u001b[0m\u001b[0;34m\u001b[0m\u001b[0m\n\u001b[1;32m     67\u001b[0m \u001b[0;34m\u001b[0m\u001b[0m\n\u001b[0;32m---> 68\u001b[0;31m         \u001b[0;32mif\u001b[0m \u001b[0;32mnot\u001b[0m \u001b[0mself\u001b[0m\u001b[0;34m.\u001b[0m\u001b[0m_check_integrity\u001b[0m\u001b[0;34m(\u001b[0m\u001b[0;34m)\u001b[0m\u001b[0;34m:\u001b[0m\u001b[0;34m\u001b[0m\u001b[0;34m\u001b[0m\u001b[0m\n\u001b[0m\u001b[1;32m     69\u001b[0m             \u001b[0;32mraise\u001b[0m \u001b[0mRuntimeError\u001b[0m\u001b[0;34m(\u001b[0m\u001b[0;34m\"Dataset not found or corrupted. You can use download=True to download it\"\u001b[0m\u001b[0;34m)\u001b[0m\u001b[0;34m\u001b[0m\u001b[0;34m\u001b[0m\u001b[0m\n\u001b[1;32m     70\u001b[0m \u001b[0;34m\u001b[0m\u001b[0m\n",
            "\u001b[0;32m/usr/local/lib/python3.10/dist-packages/torchvision/datasets/cifar.py\u001b[0m in \u001b[0;36m_check_integrity\u001b[0;34m(self)\u001b[0m\n\u001b[1;32m    130\u001b[0m         \u001b[0;32mfor\u001b[0m \u001b[0mfilename\u001b[0m\u001b[0;34m,\u001b[0m \u001b[0mmd5\u001b[0m \u001b[0;32min\u001b[0m \u001b[0mself\u001b[0m\u001b[0;34m.\u001b[0m\u001b[0mtrain_list\u001b[0m \u001b[0;34m+\u001b[0m \u001b[0mself\u001b[0m\u001b[0;34m.\u001b[0m\u001b[0mtest_list\u001b[0m\u001b[0;34m:\u001b[0m\u001b[0;34m\u001b[0m\u001b[0;34m\u001b[0m\u001b[0m\n\u001b[1;32m    131\u001b[0m             \u001b[0mfpath\u001b[0m \u001b[0;34m=\u001b[0m \u001b[0mos\u001b[0m\u001b[0;34m.\u001b[0m\u001b[0mpath\u001b[0m\u001b[0;34m.\u001b[0m\u001b[0mjoin\u001b[0m\u001b[0;34m(\u001b[0m\u001b[0mself\u001b[0m\u001b[0;34m.\u001b[0m\u001b[0mroot\u001b[0m\u001b[0;34m,\u001b[0m \u001b[0mself\u001b[0m\u001b[0;34m.\u001b[0m\u001b[0mbase_folder\u001b[0m\u001b[0;34m,\u001b[0m \u001b[0mfilename\u001b[0m\u001b[0;34m)\u001b[0m\u001b[0;34m\u001b[0m\u001b[0;34m\u001b[0m\u001b[0m\n\u001b[0;32m--> 132\u001b[0;31m             \u001b[0;32mif\u001b[0m \u001b[0;32mnot\u001b[0m \u001b[0mcheck_integrity\u001b[0m\u001b[0;34m(\u001b[0m\u001b[0mfpath\u001b[0m\u001b[0;34m,\u001b[0m \u001b[0mmd5\u001b[0m\u001b[0;34m)\u001b[0m\u001b[0;34m:\u001b[0m\u001b[0;34m\u001b[0m\u001b[0;34m\u001b[0m\u001b[0m\n\u001b[0m\u001b[1;32m    133\u001b[0m                 \u001b[0;32mreturn\u001b[0m \u001b[0;32mFalse\u001b[0m\u001b[0;34m\u001b[0m\u001b[0;34m\u001b[0m\u001b[0m\n\u001b[1;32m    134\u001b[0m         \u001b[0;32mreturn\u001b[0m \u001b[0;32mTrue\u001b[0m\u001b[0;34m\u001b[0m\u001b[0;34m\u001b[0m\u001b[0m\n",
            "\u001b[0;32m/usr/local/lib/python3.10/dist-packages/torchvision/datasets/utils.py\u001b[0m in \u001b[0;36mcheck_integrity\u001b[0;34m(fpath, md5)\u001b[0m\n\u001b[1;32m     56\u001b[0m     \u001b[0;32mif\u001b[0m \u001b[0mmd5\u001b[0m \u001b[0;32mis\u001b[0m \u001b[0;32mNone\u001b[0m\u001b[0;34m:\u001b[0m\u001b[0;34m\u001b[0m\u001b[0;34m\u001b[0m\u001b[0m\n\u001b[1;32m     57\u001b[0m         \u001b[0;32mreturn\u001b[0m \u001b[0;32mTrue\u001b[0m\u001b[0;34m\u001b[0m\u001b[0;34m\u001b[0m\u001b[0m\n\u001b[0;32m---> 58\u001b[0;31m     \u001b[0;32mreturn\u001b[0m \u001b[0mcheck_md5\u001b[0m\u001b[0;34m(\u001b[0m\u001b[0mfpath\u001b[0m\u001b[0;34m,\u001b[0m \u001b[0mmd5\u001b[0m\u001b[0;34m)\u001b[0m\u001b[0;34m\u001b[0m\u001b[0;34m\u001b[0m\u001b[0m\n\u001b[0m\u001b[1;32m     59\u001b[0m \u001b[0;34m\u001b[0m\u001b[0m\n\u001b[1;32m     60\u001b[0m \u001b[0;34m\u001b[0m\u001b[0m\n",
            "\u001b[0;32m/usr/local/lib/python3.10/dist-packages/torchvision/datasets/utils.py\u001b[0m in \u001b[0;36mcheck_md5\u001b[0;34m(fpath, md5, **kwargs)\u001b[0m\n\u001b[1;32m     48\u001b[0m \u001b[0;34m\u001b[0m\u001b[0m\n\u001b[1;32m     49\u001b[0m \u001b[0;32mdef\u001b[0m \u001b[0mcheck_md5\u001b[0m\u001b[0;34m(\u001b[0m\u001b[0mfpath\u001b[0m\u001b[0;34m:\u001b[0m \u001b[0mUnion\u001b[0m\u001b[0;34m[\u001b[0m\u001b[0mstr\u001b[0m\u001b[0;34m,\u001b[0m \u001b[0mpathlib\u001b[0m\u001b[0;34m.\u001b[0m\u001b[0mPath\u001b[0m\u001b[0;34m]\u001b[0m\u001b[0;34m,\u001b[0m \u001b[0mmd5\u001b[0m\u001b[0;34m:\u001b[0m \u001b[0mstr\u001b[0m\u001b[0;34m,\u001b[0m \u001b[0;34m**\u001b[0m\u001b[0mkwargs\u001b[0m\u001b[0;34m:\u001b[0m \u001b[0mAny\u001b[0m\u001b[0;34m)\u001b[0m \u001b[0;34m->\u001b[0m \u001b[0mbool\u001b[0m\u001b[0;34m:\u001b[0m\u001b[0;34m\u001b[0m\u001b[0;34m\u001b[0m\u001b[0m\n\u001b[0;32m---> 50\u001b[0;31m     \u001b[0;32mreturn\u001b[0m \u001b[0mmd5\u001b[0m \u001b[0;34m==\u001b[0m \u001b[0mcalculate_md5\u001b[0m\u001b[0;34m(\u001b[0m\u001b[0mfpath\u001b[0m\u001b[0;34m,\u001b[0m \u001b[0;34m**\u001b[0m\u001b[0mkwargs\u001b[0m\u001b[0;34m)\u001b[0m\u001b[0;34m\u001b[0m\u001b[0;34m\u001b[0m\u001b[0m\n\u001b[0m\u001b[1;32m     51\u001b[0m \u001b[0;34m\u001b[0m\u001b[0m\n\u001b[1;32m     52\u001b[0m \u001b[0;34m\u001b[0m\u001b[0m\n",
            "\u001b[0;32m/usr/local/lib/python3.10/dist-packages/torchvision/datasets/utils.py\u001b[0m in \u001b[0;36mcalculate_md5\u001b[0;34m(fpath, chunk_size)\u001b[0m\n\u001b[1;32m     43\u001b[0m     \u001b[0;32mwith\u001b[0m \u001b[0mopen\u001b[0m\u001b[0;34m(\u001b[0m\u001b[0mfpath\u001b[0m\u001b[0;34m,\u001b[0m \u001b[0;34m\"rb\"\u001b[0m\u001b[0;34m)\u001b[0m \u001b[0;32mas\u001b[0m \u001b[0mf\u001b[0m\u001b[0;34m:\u001b[0m\u001b[0;34m\u001b[0m\u001b[0;34m\u001b[0m\u001b[0m\n\u001b[1;32m     44\u001b[0m         \u001b[0;32mwhile\u001b[0m \u001b[0mchunk\u001b[0m \u001b[0;34m:=\u001b[0m \u001b[0mf\u001b[0m\u001b[0;34m.\u001b[0m\u001b[0mread\u001b[0m\u001b[0;34m(\u001b[0m\u001b[0mchunk_size\u001b[0m\u001b[0;34m)\u001b[0m\u001b[0;34m:\u001b[0m\u001b[0;34m\u001b[0m\u001b[0;34m\u001b[0m\u001b[0m\n\u001b[0;32m---> 45\u001b[0;31m             \u001b[0mmd5\u001b[0m\u001b[0;34m.\u001b[0m\u001b[0mupdate\u001b[0m\u001b[0;34m(\u001b[0m\u001b[0mchunk\u001b[0m\u001b[0;34m)\u001b[0m\u001b[0;34m\u001b[0m\u001b[0;34m\u001b[0m\u001b[0m\n\u001b[0m\u001b[1;32m     46\u001b[0m     \u001b[0;32mreturn\u001b[0m \u001b[0mmd5\u001b[0m\u001b[0;34m.\u001b[0m\u001b[0mhexdigest\u001b[0m\u001b[0;34m(\u001b[0m\u001b[0;34m)\u001b[0m\u001b[0;34m\u001b[0m\u001b[0;34m\u001b[0m\u001b[0m\n\u001b[1;32m     47\u001b[0m \u001b[0;34m\u001b[0m\u001b[0m\n",
            "\u001b[0;31mKeyboardInterrupt\u001b[0m: "
          ]
        }
      ],
      "source": [
        "%run large_batch_training.py --optimizer SGDM --batch-size 128 --weight-decay 4e-4"
      ]
    },
    {
      "cell_type": "markdown",
      "metadata": {
        "id": "_2t__56QmDKL"
      },
      "source": []
    },
    {
      "cell_type": "code",
      "execution_count": null,
      "metadata": {
        "colab": {
          "base_uri": "https://localhost:8080/"
        },
        "id": "FqIzBQKfZFgB",
        "outputId": "beff2b9d-73ac-4a8d-ed6e-51a1140977bb"
      },
      "outputs": [
        {
          "output_type": "stream",
          "name": "stdout",
          "text": [
            "Files already downloaded and verified\n",
            "Files already downloaded and verified\n",
            "Files already downloaded and verified\n",
            "Files already downloaded and verified\n",
            "--- Train with AdamW ---\n"
          ]
        }
      ],
      "source": [
        "%run large_batch_training.py --optimizer AdamW --batch-size 128 --weight-decay 1e-2"
      ]
    },
    {
      "cell_type": "code",
      "execution_count": null,
      "metadata": {
        "colab": {
          "base_uri": "https://localhost:8080/"
        },
        "id": "_Y8TL9oBZL18",
        "outputId": "54fc2f89-7e7d-461b-fce6-1f0da7310a06"
      },
      "outputs": [
        {
          "name": "stdout",
          "output_type": "stream",
          "text": [
            "Files already downloaded and verified\n",
            "Files already downloaded and verified\n",
            "--- Train with LARS ---\n"
          ]
        }
      ],
      "source": [
        "%run large_batch_training.py --optimizer LARS --batch-size 128 --weight-decay 4e-4"
      ]
    },
    {
      "cell_type": "code",
      "execution_count": 7,
      "metadata": {
        "colab": {
          "base_uri": "https://localhost:8080/",
          "height": 1000
        },
        "id": "K_XY2BkhZOkY",
        "outputId": "cc91ab8d-701b-4ca7-8b1a-103096ea0f78"
      },
      "outputs": [
        {
          "metadata": {
            "tags": null
          },
          "name": "stdout",
          "output_type": "stream",
          "text": [
            "Files already downloaded and verified\n",
            "Files already downloaded and verified\n",
            "Files already downloaded and verified\n",
            "Files already downloaded and verified\n",
            "--- Train with LAMB ---\n",
            "Epoch 1/150, Train Acc: 1.44%, Val Acc: 2.46%, Test Acc: 1.67%\n",
            "Epoch 1/150, Train Loss: 4.6007, Val Loss: 4.5890, Test Loss: 4.5894\n",
            "Epoch 2/150, Train Acc: 2.54%, Val Acc: 4.17%, Test Acc: 4.22%\n",
            "Epoch 2/150, Train Loss: 4.5474, Val Loss: 4.4527, Test Loss: 4.4648\n",
            "Epoch 3/150, Train Acc: 4.74%, Val Acc: 7.13%, Test Acc: 6.14%\n",
            "Epoch 3/150, Train Loss: 4.3695, Val Loss: 4.1440, Test Loss: 4.1930\n",
            "Epoch 4/150, Train Acc: 6.40%, Val Acc: 8.56%, Test Acc: 8.39%\n",
            "Epoch 4/150, Train Loss: 4.1892, Val Loss: 4.0072, Test Loss: 4.0532\n",
            "Warmup phase completed at epoch 5. Switching to constant learning rate.\n",
            "Epoch 5/150, Train Acc: 7.63%, Val Acc: 10.91%, Test Acc: 10.10%\n",
            "Epoch 5/150, Train Loss: 4.1006, Val Loss: 3.9171, Test Loss: 3.9611\n",
            "Epoch 6/150, Train Acc: 8.99%, Val Acc: 12.79%, Test Acc: 11.43%\n",
            "Epoch 6/150, Train Loss: 4.0091, Val Loss: 3.8053, Test Loss: 3.8707\n",
            "Epoch 7/150, Train Acc: 10.74%, Val Acc: 14.48%, Test Acc: 12.60%\n",
            "Epoch 7/150, Train Loss: 3.9089, Val Loss: 3.6971, Test Loss: 3.7919\n",
            "Epoch 8/150, Train Acc: 11.86%, Val Acc: 16.17%, Test Acc: 13.59%\n",
            "Epoch 8/150, Train Loss: 3.8194, Val Loss: 3.6082, Test Loss: 3.7277\n",
            "Epoch 9/150, Train Acc: 13.16%, Val Acc: 16.36%, Test Acc: 14.49%\n",
            "Epoch 9/150, Train Loss: 3.7516, Val Loss: 3.5541, Test Loss: 3.6614\n",
            "Checkpoint saved at epoch 10: ./checkpoint_epoch_10.pth\n"
          ]
        },
        {
          "data": {
            "application/javascript": [
              "\n",
              "    async function download(id, filename, size) {\n",
              "      if (!google.colab.kernel.accessAllowed) {\n",
              "        return;\n",
              "      }\n",
              "      const div = document.createElement('div');\n",
              "      const label = document.createElement('label');\n",
              "      label.textContent = `Downloading \"${filename}\": `;\n",
              "      div.appendChild(label);\n",
              "      const progress = document.createElement('progress');\n",
              "      progress.max = size;\n",
              "      div.appendChild(progress);\n",
              "      document.body.appendChild(div);\n",
              "\n",
              "      const buffers = [];\n",
              "      let downloaded = 0;\n",
              "\n",
              "      const channel = await google.colab.kernel.comms.open(id);\n",
              "      // Send a message to notify the kernel that we're ready.\n",
              "      channel.send({})\n",
              "\n",
              "      for await (const message of channel.messages) {\n",
              "        // Send a message to notify the kernel that we're ready.\n",
              "        channel.send({})\n",
              "        if (message.buffers) {\n",
              "          for (const buffer of message.buffers) {\n",
              "            buffers.push(buffer);\n",
              "            downloaded += buffer.byteLength;\n",
              "            progress.value = downloaded;\n",
              "          }\n",
              "        }\n",
              "      }\n",
              "      const blob = new Blob(buffers, {type: 'application/binary'});\n",
              "      const a = document.createElement('a');\n",
              "      a.href = window.URL.createObjectURL(blob);\n",
              "      a.download = filename;\n",
              "      div.appendChild(a);\n",
              "      a.click();\n",
              "      div.remove();\n",
              "    }\n",
              "  "
            ],
            "text/plain": [
              "<IPython.core.display.Javascript object>"
            ]
          },
          "metadata": {},
          "output_type": "display_data"
        },
        {
          "data": {
            "application/javascript": [
              "download(\"download_93896dee-c066-4e12-bbee-a4811a514d29\", \"checkpoint_epoch_10.pth\", 9794388)"
            ],
            "text/plain": [
              "<IPython.core.display.Javascript object>"
            ]
          },
          "metadata": {},
          "output_type": "display_data"
        },
        {
          "metadata": {
            "tags": null
          },
          "name": "stdout",
          "output_type": "stream",
          "text": [
            "Epoch 10/150, Train Acc: 13.95%, Val Acc: 17.74%, Test Acc: 15.16%\n",
            "Epoch 10/150, Train Loss: 3.6957, Val Loss: 3.4976, Test Loss: 3.5979\n",
            "Epoch 11/150, Train Acc: 15.14%, Val Acc: 18.08%, Test Acc: 16.43%\n",
            "Epoch 11/150, Train Loss: 3.6467, Val Loss: 3.4812, Test Loss: 3.5527\n",
            "Epoch 12/150, Train Acc: 15.88%, Val Acc: 18.99%, Test Acc: 15.98%\n",
            "Epoch 12/150, Train Loss: 3.6011, Val Loss: 3.4256, Test Loss: 3.5640\n",
            "Epoch 13/150, Train Acc: 16.46%, Val Acc: 20.30%, Test Acc: 18.10%\n",
            "Epoch 13/150, Train Loss: 3.5598, Val Loss: 3.3688, Test Loss: 3.4933\n",
            "Epoch 14/150, Train Acc: 17.08%, Val Acc: 20.18%, Test Acc: 18.73%\n",
            "Epoch 14/150, Train Loss: 3.5207, Val Loss: 3.3519, Test Loss: 3.4346\n",
            "Epoch 15/150, Train Acc: 17.67%, Val Acc: 21.99%, Test Acc: 19.82%\n",
            "Epoch 15/150, Train Loss: 3.4887, Val Loss: 3.2957, Test Loss: 3.3931\n",
            "Epoch 16/150, Train Acc: 18.46%, Val Acc: 22.94%, Test Acc: 18.70%\n",
            "Epoch 16/150, Train Loss: 3.4498, Val Loss: 3.2492, Test Loss: 3.4145\n",
            "Epoch 17/150, Train Acc: 19.23%, Val Acc: 22.73%, Test Acc: 19.78%\n",
            "Epoch 17/150, Train Loss: 3.4079, Val Loss: 3.2212, Test Loss: 3.3584\n",
            "Epoch 18/150, Train Acc: 19.72%, Val Acc: 22.62%, Test Acc: 21.30%\n",
            "Epoch 18/150, Train Loss: 3.3824, Val Loss: 3.2032, Test Loss: 3.3235\n",
            "Epoch 19/150, Train Acc: 20.35%, Val Acc: 23.59%, Test Acc: 21.54%\n",
            "Epoch 19/150, Train Loss: 3.3523, Val Loss: 3.1842, Test Loss: 3.2849\n",
            "Checkpoint saved at epoch 20: ./checkpoint_epoch_20.pth\n"
          ]
        },
        {
          "data": {
            "application/javascript": [
              "\n",
              "    async function download(id, filename, size) {\n",
              "      if (!google.colab.kernel.accessAllowed) {\n",
              "        return;\n",
              "      }\n",
              "      const div = document.createElement('div');\n",
              "      const label = document.createElement('label');\n",
              "      label.textContent = `Downloading \"${filename}\": `;\n",
              "      div.appendChild(label);\n",
              "      const progress = document.createElement('progress');\n",
              "      progress.max = size;\n",
              "      div.appendChild(progress);\n",
              "      document.body.appendChild(div);\n",
              "\n",
              "      const buffers = [];\n",
              "      let downloaded = 0;\n",
              "\n",
              "      const channel = await google.colab.kernel.comms.open(id);\n",
              "      // Send a message to notify the kernel that we're ready.\n",
              "      channel.send({})\n",
              "\n",
              "      for await (const message of channel.messages) {\n",
              "        // Send a message to notify the kernel that we're ready.\n",
              "        channel.send({})\n",
              "        if (message.buffers) {\n",
              "          for (const buffer of message.buffers) {\n",
              "            buffers.push(buffer);\n",
              "            downloaded += buffer.byteLength;\n",
              "            progress.value = downloaded;\n",
              "          }\n",
              "        }\n",
              "      }\n",
              "      const blob = new Blob(buffers, {type: 'application/binary'});\n",
              "      const a = document.createElement('a');\n",
              "      a.href = window.URL.createObjectURL(blob);\n",
              "      a.download = filename;\n",
              "      div.appendChild(a);\n",
              "      a.click();\n",
              "      div.remove();\n",
              "    }\n",
              "  "
            ],
            "text/plain": [
              "<IPython.core.display.Javascript object>"
            ]
          },
          "metadata": {},
          "output_type": "display_data"
        },
        {
          "data": {
            "application/javascript": [
              "download(\"download_b3d7166d-5b37-4228-aaad-b4c0cbb09b70\", \"checkpoint_epoch_20.pth\", 9794388)"
            ],
            "text/plain": [
              "<IPython.core.display.Javascript object>"
            ]
          },
          "metadata": {},
          "output_type": "display_data"
        },
        {
          "output_type": "stream",
          "name": "stdout",
          "text": [
            "Epoch 20/150, Train Acc: 20.76%, Val Acc: 24.50%, Test Acc: 21.67%\n",
            "Epoch 20/150, Train Loss: 3.3190, Val Loss: 3.1527, Test Loss: 3.2704\n",
            "Epoch 21/150, Train Acc: 21.29%, Val Acc: 25.01%, Test Acc: 22.76%\n",
            "Epoch 21/150, Train Loss: 3.2888, Val Loss: 3.1069, Test Loss: 3.2418\n",
            "Epoch 22/150, Train Acc: 21.81%, Val Acc: 25.51%, Test Acc: 22.48%\n",
            "Epoch 22/150, Train Loss: 3.2665, Val Loss: 3.0815, Test Loss: 3.2224\n",
            "Epoch 23/150, Train Acc: 22.32%, Val Acc: 26.07%, Test Acc: 22.89%\n",
            "Epoch 23/150, Train Loss: 3.2285, Val Loss: 3.0528, Test Loss: 3.1953\n",
            "Epoch 24/150, Train Acc: 22.93%, Val Acc: 26.83%, Test Acc: 24.39%\n",
            "Epoch 24/150, Train Loss: 3.1939, Val Loss: 3.0152, Test Loss: 3.1529\n",
            "Epoch 25/150, Train Acc: 23.50%, Val Acc: 27.78%, Test Acc: 24.37%\n",
            "Epoch 25/150, Train Loss: 3.1721, Val Loss: 2.9750, Test Loss: 3.1378\n",
            "Epoch 26/150, Train Acc: 23.83%, Val Acc: 27.25%, Test Acc: 24.52%\n",
            "Epoch 26/150, Train Loss: 3.1465, Val Loss: 2.9747, Test Loss: 3.1326\n",
            "Epoch 27/150, Train Acc: 24.50%, Val Acc: 28.84%, Test Acc: 24.74%\n",
            "Epoch 27/150, Train Loss: 3.1109, Val Loss: 2.9161, Test Loss: 3.0838\n",
            "Epoch 28/150, Train Acc: 24.95%, Val Acc: 28.97%, Test Acc: 25.92%\n",
            "Epoch 28/150, Train Loss: 3.0884, Val Loss: 2.8980, Test Loss: 3.0612\n",
            "Epoch 29/150, Train Acc: 25.57%, Val Acc: 29.68%, Test Acc: 26.07%\n",
            "Epoch 29/150, Train Loss: 3.0574, Val Loss: 2.8682, Test Loss: 3.0586\n",
            "Checkpoint saved at epoch 30: ./checkpoint_epoch_30.pth\n"
          ]
        },
        {
          "output_type": "display_data",
          "data": {
            "text/plain": [
              "<IPython.core.display.Javascript object>"
            ],
            "application/javascript": [
              "\n",
              "    async function download(id, filename, size) {\n",
              "      if (!google.colab.kernel.accessAllowed) {\n",
              "        return;\n",
              "      }\n",
              "      const div = document.createElement('div');\n",
              "      const label = document.createElement('label');\n",
              "      label.textContent = `Downloading \"${filename}\": `;\n",
              "      div.appendChild(label);\n",
              "      const progress = document.createElement('progress');\n",
              "      progress.max = size;\n",
              "      div.appendChild(progress);\n",
              "      document.body.appendChild(div);\n",
              "\n",
              "      const buffers = [];\n",
              "      let downloaded = 0;\n",
              "\n",
              "      const channel = await google.colab.kernel.comms.open(id);\n",
              "      // Send a message to notify the kernel that we're ready.\n",
              "      channel.send({})\n",
              "\n",
              "      for await (const message of channel.messages) {\n",
              "        // Send a message to notify the kernel that we're ready.\n",
              "        channel.send({})\n",
              "        if (message.buffers) {\n",
              "          for (const buffer of message.buffers) {\n",
              "            buffers.push(buffer);\n",
              "            downloaded += buffer.byteLength;\n",
              "            progress.value = downloaded;\n",
              "          }\n",
              "        }\n",
              "      }\n",
              "      const blob = new Blob(buffers, {type: 'application/binary'});\n",
              "      const a = document.createElement('a');\n",
              "      a.href = window.URL.createObjectURL(blob);\n",
              "      a.download = filename;\n",
              "      div.appendChild(a);\n",
              "      a.click();\n",
              "      div.remove();\n",
              "    }\n",
              "  "
            ]
          },
          "metadata": {}
        },
        {
          "output_type": "display_data",
          "data": {
            "text/plain": [
              "<IPython.core.display.Javascript object>"
            ],
            "application/javascript": [
              "download(\"download_bd6f529a-335e-4840-9f0c-9797e4fb30a7\", \"checkpoint_epoch_30.pth\", 9794388)"
            ]
          },
          "metadata": {}
        },
        {
          "output_type": "stream",
          "name": "stdout",
          "text": [
            "Epoch 30/150, Train Acc: 25.79%, Val Acc: 29.94%, Test Acc: 26.73%\n",
            "Epoch 30/150, Train Loss: 3.0349, Val Loss: 2.8432, Test Loss: 3.0253\n",
            "Epoch 31/150, Train Acc: 26.48%, Val Acc: 30.26%, Test Acc: 27.45%\n",
            "Epoch 31/150, Train Loss: 3.0034, Val Loss: 2.8294, Test Loss: 2.9825\n",
            "Epoch 32/150, Train Acc: 26.77%, Val Acc: 30.66%, Test Acc: 27.70%\n",
            "Epoch 32/150, Train Loss: 2.9897, Val Loss: 2.8068, Test Loss: 2.9501\n",
            "Epoch 33/150, Train Acc: 27.30%, Val Acc: 31.01%, Test Acc: 26.64%\n",
            "Epoch 33/150, Train Loss: 2.9543, Val Loss: 2.7830, Test Loss: 3.0015\n",
            "Epoch 34/150, Train Acc: 27.39%, Val Acc: 32.05%, Test Acc: 28.28%\n",
            "Epoch 34/150, Train Loss: 2.9407, Val Loss: 2.7447, Test Loss: 2.9317\n",
            "Epoch 35/150, Train Acc: 28.09%, Val Acc: 31.90%, Test Acc: 27.87%\n",
            "Epoch 35/150, Train Loss: 2.9166, Val Loss: 2.7472, Test Loss: 2.9439\n",
            "Epoch 36/150, Train Acc: 28.37%, Val Acc: 32.83%, Test Acc: 28.57%\n",
            "Epoch 36/150, Train Loss: 2.9021, Val Loss: 2.7069, Test Loss: 2.9089\n",
            "Epoch 37/150, Train Acc: 28.80%, Val Acc: 33.05%, Test Acc: 28.72%\n",
            "Epoch 37/150, Train Loss: 2.8828, Val Loss: 2.6926, Test Loss: 2.8981\n",
            "Epoch 38/150, Train Acc: 29.07%, Val Acc: 33.15%, Test Acc: 28.88%\n",
            "Epoch 38/150, Train Loss: 2.8632, Val Loss: 2.6809, Test Loss: 2.8799\n",
            "Epoch 39/150, Train Acc: 29.38%, Val Acc: 33.64%, Test Acc: 29.45%\n",
            "Epoch 39/150, Train Loss: 2.8421, Val Loss: 2.6590, Test Loss: 2.8483\n",
            "Checkpoint saved at epoch 40: ./checkpoint_epoch_40.pth\n"
          ]
        },
        {
          "output_type": "display_data",
          "data": {
            "text/plain": [
              "<IPython.core.display.Javascript object>"
            ],
            "application/javascript": [
              "\n",
              "    async function download(id, filename, size) {\n",
              "      if (!google.colab.kernel.accessAllowed) {\n",
              "        return;\n",
              "      }\n",
              "      const div = document.createElement('div');\n",
              "      const label = document.createElement('label');\n",
              "      label.textContent = `Downloading \"${filename}\": `;\n",
              "      div.appendChild(label);\n",
              "      const progress = document.createElement('progress');\n",
              "      progress.max = size;\n",
              "      div.appendChild(progress);\n",
              "      document.body.appendChild(div);\n",
              "\n",
              "      const buffers = [];\n",
              "      let downloaded = 0;\n",
              "\n",
              "      const channel = await google.colab.kernel.comms.open(id);\n",
              "      // Send a message to notify the kernel that we're ready.\n",
              "      channel.send({})\n",
              "\n",
              "      for await (const message of channel.messages) {\n",
              "        // Send a message to notify the kernel that we're ready.\n",
              "        channel.send({})\n",
              "        if (message.buffers) {\n",
              "          for (const buffer of message.buffers) {\n",
              "            buffers.push(buffer);\n",
              "            downloaded += buffer.byteLength;\n",
              "            progress.value = downloaded;\n",
              "          }\n",
              "        }\n",
              "      }\n",
              "      const blob = new Blob(buffers, {type: 'application/binary'});\n",
              "      const a = document.createElement('a');\n",
              "      a.href = window.URL.createObjectURL(blob);\n",
              "      a.download = filename;\n",
              "      div.appendChild(a);\n",
              "      a.click();\n",
              "      div.remove();\n",
              "    }\n",
              "  "
            ]
          },
          "metadata": {}
        },
        {
          "output_type": "display_data",
          "data": {
            "text/plain": [
              "<IPython.core.display.Javascript object>"
            ],
            "application/javascript": [
              "download(\"download_200b15c5-5e42-4db9-9209-0dfe9136078c\", \"checkpoint_epoch_40.pth\", 9794388)"
            ]
          },
          "metadata": {}
        },
        {
          "output_type": "stream",
          "name": "stdout",
          "text": [
            "Epoch 40/150, Train Acc: 29.72%, Val Acc: 34.03%, Test Acc: 29.32%\n",
            "Epoch 40/150, Train Loss: 2.8377, Val Loss: 2.6634, Test Loss: 2.8785\n",
            "Epoch 41/150, Train Acc: 30.29%, Val Acc: 34.05%, Test Acc: 29.44%\n",
            "Epoch 41/150, Train Loss: 2.8139, Val Loss: 2.6301, Test Loss: 2.8484\n",
            "Epoch 42/150, Train Acc: 30.49%, Val Acc: 33.72%, Test Acc: 29.72%\n",
            "Epoch 42/150, Train Loss: 2.8002, Val Loss: 2.6345, Test Loss: 2.8514\n",
            "Epoch 43/150, Train Acc: 30.69%, Val Acc: 34.39%, Test Acc: 30.10%\n",
            "Epoch 43/150, Train Loss: 2.7873, Val Loss: 2.6018, Test Loss: 2.8113\n",
            "Epoch 44/150, Train Acc: 31.37%, Val Acc: 34.80%, Test Acc: 30.25%\n",
            "Epoch 44/150, Train Loss: 2.7644, Val Loss: 2.6063, Test Loss: 2.8136\n",
            "Epoch 45/150, Train Acc: 31.71%, Val Acc: 35.08%, Test Acc: 30.26%\n",
            "Epoch 45/150, Train Loss: 2.7507, Val Loss: 2.5837, Test Loss: 2.8036\n",
            "Epoch 46/150, Train Acc: 31.39%, Val Acc: 34.97%, Test Acc: 30.50%\n",
            "Epoch 46/150, Train Loss: 2.7487, Val Loss: 2.5858, Test Loss: 2.8178\n",
            "Epoch 47/150, Train Acc: 31.73%, Val Acc: 35.56%, Test Acc: 30.38%\n",
            "Epoch 47/150, Train Loss: 2.7244, Val Loss: 2.5678, Test Loss: 2.8012\n",
            "Epoch 48/150, Train Acc: 32.20%, Val Acc: 35.79%, Test Acc: 30.89%\n",
            "Epoch 48/150, Train Loss: 2.7092, Val Loss: 2.5457, Test Loss: 2.7775\n",
            "Epoch 49/150, Train Acc: 32.51%, Val Acc: 35.76%, Test Acc: 31.32%\n",
            "Epoch 49/150, Train Loss: 2.7039, Val Loss: 2.5405, Test Loss: 2.7637\n",
            "Checkpoint saved at epoch 50: ./checkpoint_epoch_50.pth\n"
          ]
        },
        {
          "output_type": "display_data",
          "data": {
            "text/plain": [
              "<IPython.core.display.Javascript object>"
            ],
            "application/javascript": [
              "\n",
              "    async function download(id, filename, size) {\n",
              "      if (!google.colab.kernel.accessAllowed) {\n",
              "        return;\n",
              "      }\n",
              "      const div = document.createElement('div');\n",
              "      const label = document.createElement('label');\n",
              "      label.textContent = `Downloading \"${filename}\": `;\n",
              "      div.appendChild(label);\n",
              "      const progress = document.createElement('progress');\n",
              "      progress.max = size;\n",
              "      div.appendChild(progress);\n",
              "      document.body.appendChild(div);\n",
              "\n",
              "      const buffers = [];\n",
              "      let downloaded = 0;\n",
              "\n",
              "      const channel = await google.colab.kernel.comms.open(id);\n",
              "      // Send a message to notify the kernel that we're ready.\n",
              "      channel.send({})\n",
              "\n",
              "      for await (const message of channel.messages) {\n",
              "        // Send a message to notify the kernel that we're ready.\n",
              "        channel.send({})\n",
              "        if (message.buffers) {\n",
              "          for (const buffer of message.buffers) {\n",
              "            buffers.push(buffer);\n",
              "            downloaded += buffer.byteLength;\n",
              "            progress.value = downloaded;\n",
              "          }\n",
              "        }\n",
              "      }\n",
              "      const blob = new Blob(buffers, {type: 'application/binary'});\n",
              "      const a = document.createElement('a');\n",
              "      a.href = window.URL.createObjectURL(blob);\n",
              "      a.download = filename;\n",
              "      div.appendChild(a);\n",
              "      a.click();\n",
              "      div.remove();\n",
              "    }\n",
              "  "
            ]
          },
          "metadata": {}
        },
        {
          "output_type": "display_data",
          "data": {
            "text/plain": [
              "<IPython.core.display.Javascript object>"
            ],
            "application/javascript": [
              "download(\"download_bbada50a-48f2-470a-bcbb-56c77be8e0a1\", \"checkpoint_epoch_50.pth\", 9794388)"
            ]
          },
          "metadata": {}
        },
        {
          "output_type": "stream",
          "name": "stdout",
          "text": [
            "Epoch 50/150, Train Acc: 32.88%, Val Acc: 36.15%, Test Acc: 31.20%\n",
            "Epoch 50/150, Train Loss: 2.6881, Val Loss: 2.5217, Test Loss: 2.7674\n",
            "Epoch 51/150, Train Acc: 32.91%, Val Acc: 35.81%, Test Acc: 30.70%\n",
            "Epoch 51/150, Train Loss: 2.6811, Val Loss: 2.5454, Test Loss: 2.7954\n",
            "Epoch 52/150, Train Acc: 33.03%, Val Acc: 36.28%, Test Acc: 31.64%\n",
            "Epoch 52/150, Train Loss: 2.6669, Val Loss: 2.5238, Test Loss: 2.7296\n",
            "Epoch 53/150, Train Acc: 33.45%, Val Acc: 36.88%, Test Acc: 31.95%\n",
            "Epoch 53/150, Train Loss: 2.6501, Val Loss: 2.4894, Test Loss: 2.7202\n",
            "Epoch 54/150, Train Acc: 33.77%, Val Acc: 36.87%, Test Acc: 30.87%\n",
            "Epoch 54/150, Train Loss: 2.6385, Val Loss: 2.5017, Test Loss: 2.7778\n",
            "Epoch 55/150, Train Acc: 33.74%, Val Acc: 37.04%, Test Acc: 31.41%\n",
            "Epoch 55/150, Train Loss: 2.6354, Val Loss: 2.4878, Test Loss: 2.7407\n",
            "Epoch 56/150, Train Acc: 34.21%, Val Acc: 37.58%, Test Acc: 32.49%\n",
            "Epoch 56/150, Train Loss: 2.6098, Val Loss: 2.4625, Test Loss: 2.7137\n",
            "Epoch 57/150, Train Acc: 34.30%, Val Acc: 37.04%, Test Acc: 31.98%\n",
            "Epoch 57/150, Train Loss: 2.6137, Val Loss: 2.4793, Test Loss: 2.7200\n",
            "Epoch 58/150, Train Acc: 34.66%, Val Acc: 37.90%, Test Acc: 32.69%\n",
            "Epoch 58/150, Train Loss: 2.5870, Val Loss: 2.4546, Test Loss: 2.7003\n",
            "Epoch 59/150, Train Acc: 34.89%, Val Acc: 37.55%, Test Acc: 32.83%\n",
            "Epoch 59/150, Train Loss: 2.5817, Val Loss: 2.4473, Test Loss: 2.6914\n",
            "Checkpoint saved at epoch 60: ./checkpoint_epoch_60.pth\n"
          ]
        },
        {
          "output_type": "display_data",
          "data": {
            "text/plain": [
              "<IPython.core.display.Javascript object>"
            ],
            "application/javascript": [
              "\n",
              "    async function download(id, filename, size) {\n",
              "      if (!google.colab.kernel.accessAllowed) {\n",
              "        return;\n",
              "      }\n",
              "      const div = document.createElement('div');\n",
              "      const label = document.createElement('label');\n",
              "      label.textContent = `Downloading \"${filename}\": `;\n",
              "      div.appendChild(label);\n",
              "      const progress = document.createElement('progress');\n",
              "      progress.max = size;\n",
              "      div.appendChild(progress);\n",
              "      document.body.appendChild(div);\n",
              "\n",
              "      const buffers = [];\n",
              "      let downloaded = 0;\n",
              "\n",
              "      const channel = await google.colab.kernel.comms.open(id);\n",
              "      // Send a message to notify the kernel that we're ready.\n",
              "      channel.send({})\n",
              "\n",
              "      for await (const message of channel.messages) {\n",
              "        // Send a message to notify the kernel that we're ready.\n",
              "        channel.send({})\n",
              "        if (message.buffers) {\n",
              "          for (const buffer of message.buffers) {\n",
              "            buffers.push(buffer);\n",
              "            downloaded += buffer.byteLength;\n",
              "            progress.value = downloaded;\n",
              "          }\n",
              "        }\n",
              "      }\n",
              "      const blob = new Blob(buffers, {type: 'application/binary'});\n",
              "      const a = document.createElement('a');\n",
              "      a.href = window.URL.createObjectURL(blob);\n",
              "      a.download = filename;\n",
              "      div.appendChild(a);\n",
              "      a.click();\n",
              "      div.remove();\n",
              "    }\n",
              "  "
            ]
          },
          "metadata": {}
        },
        {
          "output_type": "display_data",
          "data": {
            "text/plain": [
              "<IPython.core.display.Javascript object>"
            ],
            "application/javascript": [
              "download(\"download_5abe12dd-64ea-41e9-be12-dd66797b09f7\", \"checkpoint_epoch_60.pth\", 9794388)"
            ]
          },
          "metadata": {}
        },
        {
          "output_type": "stream",
          "name": "stdout",
          "text": [
            "Epoch 60/150, Train Acc: 34.55%, Val Acc: 37.72%, Test Acc: 32.25%\n",
            "Epoch 60/150, Train Loss: 2.5746, Val Loss: 2.4491, Test Loss: 2.7009\n",
            "Epoch 61/150, Train Acc: 35.09%, Val Acc: 37.54%, Test Acc: 33.26%\n",
            "Epoch 61/150, Train Loss: 2.5633, Val Loss: 2.4447, Test Loss: 2.6899\n",
            "Epoch 62/150, Train Acc: 35.37%, Val Acc: 38.33%, Test Acc: 33.28%\n",
            "Epoch 62/150, Train Loss: 2.5538, Val Loss: 2.4235, Test Loss: 2.6617\n",
            "Epoch 63/150, Train Acc: 35.54%, Val Acc: 38.13%, Test Acc: 32.89%\n",
            "Epoch 63/150, Train Loss: 2.5464, Val Loss: 2.4362, Test Loss: 2.6744\n",
            "Epoch 64/150, Train Acc: 35.29%, Val Acc: 38.25%, Test Acc: 32.84%\n",
            "Epoch 64/150, Train Loss: 2.5460, Val Loss: 2.4241, Test Loss: 2.6692\n",
            "Epoch 65/150, Train Acc: 35.63%, Val Acc: 38.84%, Test Acc: 33.56%\n",
            "Epoch 65/150, Train Loss: 2.5323, Val Loss: 2.4179, Test Loss: 2.6540\n",
            "Epoch 66/150, Train Acc: 35.90%, Val Acc: 38.97%, Test Acc: 33.99%\n",
            "Epoch 66/150, Train Loss: 2.5195, Val Loss: 2.4031, Test Loss: 2.6236\n",
            "Epoch 67/150, Train Acc: 36.20%, Val Acc: 38.73%, Test Acc: 33.81%\n",
            "Epoch 67/150, Train Loss: 2.5130, Val Loss: 2.4062, Test Loss: 2.6304\n",
            "Epoch 68/150, Train Acc: 36.37%, Val Acc: 38.78%, Test Acc: 33.35%\n",
            "Epoch 68/150, Train Loss: 2.5079, Val Loss: 2.3934, Test Loss: 2.6543\n",
            "Epoch 69/150, Train Acc: 36.65%, Val Acc: 38.90%, Test Acc: 33.96%\n",
            "Epoch 69/150, Train Loss: 2.4873, Val Loss: 2.3830, Test Loss: 2.6285\n",
            "Checkpoint saved at epoch 70: ./checkpoint_epoch_70.pth\n"
          ]
        },
        {
          "output_type": "display_data",
          "data": {
            "text/plain": [
              "<IPython.core.display.Javascript object>"
            ],
            "application/javascript": [
              "\n",
              "    async function download(id, filename, size) {\n",
              "      if (!google.colab.kernel.accessAllowed) {\n",
              "        return;\n",
              "      }\n",
              "      const div = document.createElement('div');\n",
              "      const label = document.createElement('label');\n",
              "      label.textContent = `Downloading \"${filename}\": `;\n",
              "      div.appendChild(label);\n",
              "      const progress = document.createElement('progress');\n",
              "      progress.max = size;\n",
              "      div.appendChild(progress);\n",
              "      document.body.appendChild(div);\n",
              "\n",
              "      const buffers = [];\n",
              "      let downloaded = 0;\n",
              "\n",
              "      const channel = await google.colab.kernel.comms.open(id);\n",
              "      // Send a message to notify the kernel that we're ready.\n",
              "      channel.send({})\n",
              "\n",
              "      for await (const message of channel.messages) {\n",
              "        // Send a message to notify the kernel that we're ready.\n",
              "        channel.send({})\n",
              "        if (message.buffers) {\n",
              "          for (const buffer of message.buffers) {\n",
              "            buffers.push(buffer);\n",
              "            downloaded += buffer.byteLength;\n",
              "            progress.value = downloaded;\n",
              "          }\n",
              "        }\n",
              "      }\n",
              "      const blob = new Blob(buffers, {type: 'application/binary'});\n",
              "      const a = document.createElement('a');\n",
              "      a.href = window.URL.createObjectURL(blob);\n",
              "      a.download = filename;\n",
              "      div.appendChild(a);\n",
              "      a.click();\n",
              "      div.remove();\n",
              "    }\n",
              "  "
            ]
          },
          "metadata": {}
        },
        {
          "output_type": "display_data",
          "data": {
            "text/plain": [
              "<IPython.core.display.Javascript object>"
            ],
            "application/javascript": [
              "download(\"download_70d4fc09-3c08-48d5-acc9-4cd4b9cb8384\", \"checkpoint_epoch_70.pth\", 9794388)"
            ]
          },
          "metadata": {}
        },
        {
          "output_type": "stream",
          "name": "stdout",
          "text": [
            "Epoch 70/150, Train Acc: 36.78%, Val Acc: 38.76%, Test Acc: 32.94%\n",
            "Epoch 70/150, Train Loss: 2.4836, Val Loss: 2.4005, Test Loss: 2.6810\n",
            "Epoch 71/150, Train Acc: 36.94%, Val Acc: 39.41%, Test Acc: 33.42%\n",
            "Epoch 71/150, Train Loss: 2.4813, Val Loss: 2.3737, Test Loss: 2.6352\n",
            "Epoch 72/150, Train Acc: 37.13%, Val Acc: 39.23%, Test Acc: 34.29%\n",
            "Epoch 72/150, Train Loss: 2.4619, Val Loss: 2.3670, Test Loss: 2.6102\n",
            "Epoch 73/150, Train Acc: 36.92%, Val Acc: 38.90%, Test Acc: 33.71%\n",
            "Epoch 73/150, Train Loss: 2.4650, Val Loss: 2.3776, Test Loss: 2.6463\n",
            "Epoch 74/150, Train Acc: 37.66%, Val Acc: 39.63%, Test Acc: 34.20%\n",
            "Epoch 74/150, Train Loss: 2.4478, Val Loss: 2.3552, Test Loss: 2.6189\n",
            "Epoch 75/150, Train Acc: 37.72%, Val Acc: 39.60%, Test Acc: 34.12%\n",
            "Epoch 75/150, Train Loss: 2.4468, Val Loss: 2.3555, Test Loss: 2.6243\n",
            "Epoch 76/150, Train Acc: 37.89%, Val Acc: 39.52%, Test Acc: 34.38%\n",
            "Epoch 76/150, Train Loss: 2.4383, Val Loss: 2.3614, Test Loss: 2.6160\n",
            "Epoch 77/150, Train Acc: 38.11%, Val Acc: 38.93%, Test Acc: 33.63%\n",
            "Epoch 77/150, Train Loss: 2.4210, Val Loss: 2.3546, Test Loss: 2.6285\n",
            "Epoch 78/150, Train Acc: 37.71%, Val Acc: 39.65%, Test Acc: 34.63%\n",
            "Epoch 78/150, Train Loss: 2.4278, Val Loss: 2.3365, Test Loss: 2.5954\n",
            "Epoch 79/150, Train Acc: 37.89%, Val Acc: 40.29%, Test Acc: 34.39%\n",
            "Epoch 79/150, Train Loss: 2.4222, Val Loss: 2.3415, Test Loss: 2.6225\n",
            "Checkpoint saved at epoch 80: ./checkpoint_epoch_80.pth\n"
          ]
        },
        {
          "output_type": "display_data",
          "data": {
            "text/plain": [
              "<IPython.core.display.Javascript object>"
            ],
            "application/javascript": [
              "\n",
              "    async function download(id, filename, size) {\n",
              "      if (!google.colab.kernel.accessAllowed) {\n",
              "        return;\n",
              "      }\n",
              "      const div = document.createElement('div');\n",
              "      const label = document.createElement('label');\n",
              "      label.textContent = `Downloading \"${filename}\": `;\n",
              "      div.appendChild(label);\n",
              "      const progress = document.createElement('progress');\n",
              "      progress.max = size;\n",
              "      div.appendChild(progress);\n",
              "      document.body.appendChild(div);\n",
              "\n",
              "      const buffers = [];\n",
              "      let downloaded = 0;\n",
              "\n",
              "      const channel = await google.colab.kernel.comms.open(id);\n",
              "      // Send a message to notify the kernel that we're ready.\n",
              "      channel.send({})\n",
              "\n",
              "      for await (const message of channel.messages) {\n",
              "        // Send a message to notify the kernel that we're ready.\n",
              "        channel.send({})\n",
              "        if (message.buffers) {\n",
              "          for (const buffer of message.buffers) {\n",
              "            buffers.push(buffer);\n",
              "            downloaded += buffer.byteLength;\n",
              "            progress.value = downloaded;\n",
              "          }\n",
              "        }\n",
              "      }\n",
              "      const blob = new Blob(buffers, {type: 'application/binary'});\n",
              "      const a = document.createElement('a');\n",
              "      a.href = window.URL.createObjectURL(blob);\n",
              "      a.download = filename;\n",
              "      div.appendChild(a);\n",
              "      a.click();\n",
              "      div.remove();\n",
              "    }\n",
              "  "
            ]
          },
          "metadata": {}
        },
        {
          "output_type": "display_data",
          "data": {
            "text/plain": [
              "<IPython.core.display.Javascript object>"
            ],
            "application/javascript": [
              "download(\"download_30ea3d83-f912-44f2-86cf-362aee7cda4d\", \"checkpoint_epoch_80.pth\", 9794388)"
            ]
          },
          "metadata": {}
        },
        {
          "output_type": "stream",
          "name": "stdout",
          "text": [
            "Epoch 80/150, Train Acc: 38.27%, Val Acc: 40.20%, Test Acc: 34.74%\n",
            "Epoch 80/150, Train Loss: 2.4100, Val Loss: 2.3366, Test Loss: 2.6001\n",
            "Epoch 81/150, Train Acc: 38.31%, Val Acc: 39.89%, Test Acc: 34.34%\n",
            "Epoch 81/150, Train Loss: 2.4035, Val Loss: 2.3374, Test Loss: 2.6209\n",
            "Epoch 82/150, Train Acc: 38.59%, Val Acc: 40.29%, Test Acc: 33.63%\n",
            "Epoch 82/150, Train Loss: 2.3879, Val Loss: 2.3443, Test Loss: 2.6493\n",
            "Epoch 83/150, Train Acc: 38.91%, Val Acc: 40.82%, Test Acc: 34.56%\n",
            "Epoch 83/150, Train Loss: 2.3869, Val Loss: 2.3195, Test Loss: 2.6091\n",
            "Epoch 84/150, Train Acc: 38.91%, Val Acc: 40.33%, Test Acc: 33.99%\n",
            "Epoch 84/150, Train Loss: 2.3804, Val Loss: 2.3238, Test Loss: 2.6366\n",
            "Epoch 85/150, Train Acc: 38.87%, Val Acc: 40.66%, Test Acc: 35.41%\n",
            "Epoch 85/150, Train Loss: 2.3756, Val Loss: 2.3103, Test Loss: 2.5681\n",
            "Epoch 86/150, Train Acc: 39.22%, Val Acc: 40.52%, Test Acc: 35.24%\n",
            "Epoch 86/150, Train Loss: 2.3581, Val Loss: 2.3191, Test Loss: 2.5773\n",
            "Epoch 87/150, Train Acc: 39.20%, Val Acc: 40.36%, Test Acc: 35.69%\n",
            "Epoch 87/150, Train Loss: 2.3642, Val Loss: 2.3155, Test Loss: 2.5574\n",
            "Epoch 88/150, Train Acc: 39.26%, Val Acc: 40.88%, Test Acc: 34.75%\n",
            "Epoch 88/150, Train Loss: 2.3600, Val Loss: 2.3113, Test Loss: 2.5954\n",
            "Epoch 89/150, Train Acc: 39.51%, Val Acc: 40.40%, Test Acc: 34.96%\n",
            "Epoch 89/150, Train Loss: 2.3482, Val Loss: 2.3109, Test Loss: 2.5795\n",
            "Checkpoint saved at epoch 90: ./checkpoint_epoch_90.pth\n"
          ]
        },
        {
          "output_type": "display_data",
          "data": {
            "text/plain": [
              "<IPython.core.display.Javascript object>"
            ],
            "application/javascript": [
              "\n",
              "    async function download(id, filename, size) {\n",
              "      if (!google.colab.kernel.accessAllowed) {\n",
              "        return;\n",
              "      }\n",
              "      const div = document.createElement('div');\n",
              "      const label = document.createElement('label');\n",
              "      label.textContent = `Downloading \"${filename}\": `;\n",
              "      div.appendChild(label);\n",
              "      const progress = document.createElement('progress');\n",
              "      progress.max = size;\n",
              "      div.appendChild(progress);\n",
              "      document.body.appendChild(div);\n",
              "\n",
              "      const buffers = [];\n",
              "      let downloaded = 0;\n",
              "\n",
              "      const channel = await google.colab.kernel.comms.open(id);\n",
              "      // Send a message to notify the kernel that we're ready.\n",
              "      channel.send({})\n",
              "\n",
              "      for await (const message of channel.messages) {\n",
              "        // Send a message to notify the kernel that we're ready.\n",
              "        channel.send({})\n",
              "        if (message.buffers) {\n",
              "          for (const buffer of message.buffers) {\n",
              "            buffers.push(buffer);\n",
              "            downloaded += buffer.byteLength;\n",
              "            progress.value = downloaded;\n",
              "          }\n",
              "        }\n",
              "      }\n",
              "      const blob = new Blob(buffers, {type: 'application/binary'});\n",
              "      const a = document.createElement('a');\n",
              "      a.href = window.URL.createObjectURL(blob);\n",
              "      a.download = filename;\n",
              "      div.appendChild(a);\n",
              "      a.click();\n",
              "      div.remove();\n",
              "    }\n",
              "  "
            ]
          },
          "metadata": {}
        },
        {
          "output_type": "display_data",
          "data": {
            "text/plain": [
              "<IPython.core.display.Javascript object>"
            ],
            "application/javascript": [
              "download(\"download_f4f95dad-4769-4837-ba08-4a3d0d83bf17\", \"checkpoint_epoch_90.pth\", 9794388)"
            ]
          },
          "metadata": {}
        },
        {
          "output_type": "stream",
          "name": "stdout",
          "text": [
            "Epoch 90/150, Train Acc: 39.52%, Val Acc: 41.28%, Test Acc: 35.29%\n",
            "Epoch 90/150, Train Loss: 2.3487, Val Loss: 2.2832, Test Loss: 2.5595\n",
            "Epoch 91/150, Train Acc: 39.63%, Val Acc: 40.68%, Test Acc: 34.99%\n",
            "Epoch 91/150, Train Loss: 2.3388, Val Loss: 2.3058, Test Loss: 2.5921\n",
            "Epoch 92/150, Train Acc: 39.50%, Val Acc: 41.12%, Test Acc: 35.70%\n",
            "Epoch 92/150, Train Loss: 2.3380, Val Loss: 2.2949, Test Loss: 2.5519\n",
            "Epoch 93/150, Train Acc: 39.99%, Val Acc: 41.13%, Test Acc: 35.56%\n",
            "Epoch 93/150, Train Loss: 2.3321, Val Loss: 2.2879, Test Loss: 2.5565\n",
            "Epoch 94/150, Train Acc: 39.99%, Val Acc: 41.18%, Test Acc: 35.20%\n",
            "Epoch 94/150, Train Loss: 2.3241, Val Loss: 2.2970, Test Loss: 2.5568\n",
            "Epoch 95/150, Train Acc: 40.48%, Val Acc: 41.18%, Test Acc: 35.49%\n",
            "Epoch 95/150, Train Loss: 2.3119, Val Loss: 2.2762, Test Loss: 2.5532\n",
            "Epoch 96/150, Train Acc: 40.19%, Val Acc: 41.32%, Test Acc: 35.65%\n",
            "Epoch 96/150, Train Loss: 2.3184, Val Loss: 2.2764, Test Loss: 2.5501\n",
            "Epoch 97/150, Train Acc: 40.54%, Val Acc: 41.53%, Test Acc: 35.71%\n",
            "Epoch 97/150, Train Loss: 2.3053, Val Loss: 2.2797, Test Loss: 2.5785\n",
            "Epoch 98/150, Train Acc: 40.40%, Val Acc: 41.40%, Test Acc: 35.67%\n",
            "Epoch 98/150, Train Loss: 2.3026, Val Loss: 2.2739, Test Loss: 2.5417\n",
            "Epoch 99/150, Train Acc: 40.58%, Val Acc: 41.41%, Test Acc: 35.26%\n",
            "Epoch 99/150, Train Loss: 2.3044, Val Loss: 2.2700, Test Loss: 2.5677\n",
            "Checkpoint saved at epoch 100: ./checkpoint_epoch_100.pth\n"
          ]
        },
        {
          "output_type": "display_data",
          "data": {
            "text/plain": [
              "<IPython.core.display.Javascript object>"
            ],
            "application/javascript": [
              "\n",
              "    async function download(id, filename, size) {\n",
              "      if (!google.colab.kernel.accessAllowed) {\n",
              "        return;\n",
              "      }\n",
              "      const div = document.createElement('div');\n",
              "      const label = document.createElement('label');\n",
              "      label.textContent = `Downloading \"${filename}\": `;\n",
              "      div.appendChild(label);\n",
              "      const progress = document.createElement('progress');\n",
              "      progress.max = size;\n",
              "      div.appendChild(progress);\n",
              "      document.body.appendChild(div);\n",
              "\n",
              "      const buffers = [];\n",
              "      let downloaded = 0;\n",
              "\n",
              "      const channel = await google.colab.kernel.comms.open(id);\n",
              "      // Send a message to notify the kernel that we're ready.\n",
              "      channel.send({})\n",
              "\n",
              "      for await (const message of channel.messages) {\n",
              "        // Send a message to notify the kernel that we're ready.\n",
              "        channel.send({})\n",
              "        if (message.buffers) {\n",
              "          for (const buffer of message.buffers) {\n",
              "            buffers.push(buffer);\n",
              "            downloaded += buffer.byteLength;\n",
              "            progress.value = downloaded;\n",
              "          }\n",
              "        }\n",
              "      }\n",
              "      const blob = new Blob(buffers, {type: 'application/binary'});\n",
              "      const a = document.createElement('a');\n",
              "      a.href = window.URL.createObjectURL(blob);\n",
              "      a.download = filename;\n",
              "      div.appendChild(a);\n",
              "      a.click();\n",
              "      div.remove();\n",
              "    }\n",
              "  "
            ]
          },
          "metadata": {}
        },
        {
          "output_type": "display_data",
          "data": {
            "text/plain": [
              "<IPython.core.display.Javascript object>"
            ],
            "application/javascript": [
              "download(\"download_221a5371-5d1e-4b57-b4bf-6f21d561881d\", \"checkpoint_epoch_100.pth\", 9794422)"
            ]
          },
          "metadata": {}
        },
        {
          "output_type": "stream",
          "name": "stdout",
          "text": [
            "Epoch 100/150, Train Acc: 40.98%, Val Acc: 41.93%, Test Acc: 35.41%\n",
            "Epoch 100/150, Train Loss: 2.2762, Val Loss: 2.2677, Test Loss: 2.5488\n",
            "Epoch 101/150, Train Acc: 40.73%, Val Acc: 41.47%, Test Acc: 35.98%\n",
            "Epoch 101/150, Train Loss: 2.2775, Val Loss: 2.2664, Test Loss: 2.5415\n",
            "Epoch 102/150, Train Acc: 40.92%, Val Acc: 41.40%, Test Acc: 36.14%\n",
            "Epoch 102/150, Train Loss: 2.2808, Val Loss: 2.2596, Test Loss: 2.5234\n",
            "Epoch 103/150, Train Acc: 40.90%, Val Acc: 41.40%, Test Acc: 36.08%\n",
            "Epoch 103/150, Train Loss: 2.2776, Val Loss: 2.2721, Test Loss: 2.5180\n",
            "Epoch 104/150, Train Acc: 40.54%, Val Acc: 41.78%, Test Acc: 35.79%\n",
            "Epoch 104/150, Train Loss: 2.2891, Val Loss: 2.2563, Test Loss: 2.5309\n",
            "Epoch 105/150, Train Acc: 41.51%, Val Acc: 41.81%, Test Acc: 36.23%\n",
            "Epoch 105/150, Train Loss: 2.2614, Val Loss: 2.2548, Test Loss: 2.5285\n",
            "Epoch 106/150, Train Acc: 41.70%, Val Acc: 42.02%, Test Acc: 35.97%\n",
            "Epoch 106/150, Train Loss: 2.2636, Val Loss: 2.2524, Test Loss: 2.5344\n",
            "Epoch 107/150, Train Acc: 41.80%, Val Acc: 41.70%, Test Acc: 36.31%\n",
            "Epoch 107/150, Train Loss: 2.2515, Val Loss: 2.2592, Test Loss: 2.5277\n",
            "Epoch 108/150, Train Acc: 41.43%, Val Acc: 41.92%, Test Acc: 35.84%\n",
            "Epoch 108/150, Train Loss: 2.2519, Val Loss: 2.2513, Test Loss: 2.5298\n",
            "Epoch 109/150, Train Acc: 41.43%, Val Acc: 42.19%, Test Acc: 35.91%\n",
            "Epoch 109/150, Train Loss: 2.2543, Val Loss: 2.2416, Test Loss: 2.5338\n",
            "Checkpoint saved at epoch 110: ./checkpoint_epoch_110.pth\n"
          ]
        },
        {
          "output_type": "display_data",
          "data": {
            "text/plain": [
              "<IPython.core.display.Javascript object>"
            ],
            "application/javascript": [
              "\n",
              "    async function download(id, filename, size) {\n",
              "      if (!google.colab.kernel.accessAllowed) {\n",
              "        return;\n",
              "      }\n",
              "      const div = document.createElement('div');\n",
              "      const label = document.createElement('label');\n",
              "      label.textContent = `Downloading \"${filename}\": `;\n",
              "      div.appendChild(label);\n",
              "      const progress = document.createElement('progress');\n",
              "      progress.max = size;\n",
              "      div.appendChild(progress);\n",
              "      document.body.appendChild(div);\n",
              "\n",
              "      const buffers = [];\n",
              "      let downloaded = 0;\n",
              "\n",
              "      const channel = await google.colab.kernel.comms.open(id);\n",
              "      // Send a message to notify the kernel that we're ready.\n",
              "      channel.send({})\n",
              "\n",
              "      for await (const message of channel.messages) {\n",
              "        // Send a message to notify the kernel that we're ready.\n",
              "        channel.send({})\n",
              "        if (message.buffers) {\n",
              "          for (const buffer of message.buffers) {\n",
              "            buffers.push(buffer);\n",
              "            downloaded += buffer.byteLength;\n",
              "            progress.value = downloaded;\n",
              "          }\n",
              "        }\n",
              "      }\n",
              "      const blob = new Blob(buffers, {type: 'application/binary'});\n",
              "      const a = document.createElement('a');\n",
              "      a.href = window.URL.createObjectURL(blob);\n",
              "      a.download = filename;\n",
              "      div.appendChild(a);\n",
              "      a.click();\n",
              "      div.remove();\n",
              "    }\n",
              "  "
            ]
          },
          "metadata": {}
        },
        {
          "output_type": "display_data",
          "data": {
            "text/plain": [
              "<IPython.core.display.Javascript object>"
            ],
            "application/javascript": [
              "download(\"download_c7d25878-9d13-454a-8697-a587bfadb8e1\", \"checkpoint_epoch_110.pth\", 9794422)"
            ]
          },
          "metadata": {}
        },
        {
          "output_type": "stream",
          "name": "stdout",
          "text": [
            "Epoch 110/150, Train Acc: 41.56%, Val Acc: 42.13%, Test Acc: 36.47%\n",
            "Epoch 110/150, Train Loss: 2.2468, Val Loss: 2.2478, Test Loss: 2.5166\n",
            "Epoch 111/150, Train Acc: 41.83%, Val Acc: 42.11%, Test Acc: 36.26%\n",
            "Epoch 111/150, Train Loss: 2.2419, Val Loss: 2.2426, Test Loss: 2.5237\n",
            "Epoch 112/150, Train Acc: 41.79%, Val Acc: 42.25%, Test Acc: 35.90%\n",
            "Epoch 112/150, Train Loss: 2.2388, Val Loss: 2.2406, Test Loss: 2.5291\n",
            "Epoch 113/150, Train Acc: 42.13%, Val Acc: 41.91%, Test Acc: 36.00%\n",
            "Epoch 113/150, Train Loss: 2.2400, Val Loss: 2.2420, Test Loss: 2.5226\n",
            "Epoch 114/150, Train Acc: 42.30%, Val Acc: 42.55%, Test Acc: 36.24%\n",
            "Epoch 114/150, Train Loss: 2.2297, Val Loss: 2.2333, Test Loss: 2.5192\n",
            "Epoch 115/150, Train Acc: 42.35%, Val Acc: 42.05%, Test Acc: 36.04%\n",
            "Epoch 115/150, Train Loss: 2.2286, Val Loss: 2.2356, Test Loss: 2.5241\n",
            "Epoch 116/150, Train Acc: 42.33%, Val Acc: 42.34%, Test Acc: 36.51%\n",
            "Epoch 116/150, Train Loss: 2.2159, Val Loss: 2.2359, Test Loss: 2.4977\n",
            "Epoch 117/150, Train Acc: 42.30%, Val Acc: 42.41%, Test Acc: 36.61%\n",
            "Epoch 117/150, Train Loss: 2.2228, Val Loss: 2.2332, Test Loss: 2.5134\n",
            "Epoch 118/150, Train Acc: 42.22%, Val Acc: 42.28%, Test Acc: 36.62%\n",
            "Epoch 118/150, Train Loss: 2.2096, Val Loss: 2.2286, Test Loss: 2.5101\n",
            "Epoch 119/150, Train Acc: 42.42%, Val Acc: 42.32%, Test Acc: 36.72%\n",
            "Epoch 119/150, Train Loss: 2.2136, Val Loss: 2.2244, Test Loss: 2.5016\n",
            "Checkpoint saved at epoch 120: ./checkpoint_epoch_120.pth\n"
          ]
        },
        {
          "output_type": "display_data",
          "data": {
            "text/plain": [
              "<IPython.core.display.Javascript object>"
            ],
            "application/javascript": [
              "\n",
              "    async function download(id, filename, size) {\n",
              "      if (!google.colab.kernel.accessAllowed) {\n",
              "        return;\n",
              "      }\n",
              "      const div = document.createElement('div');\n",
              "      const label = document.createElement('label');\n",
              "      label.textContent = `Downloading \"${filename}\": `;\n",
              "      div.appendChild(label);\n",
              "      const progress = document.createElement('progress');\n",
              "      progress.max = size;\n",
              "      div.appendChild(progress);\n",
              "      document.body.appendChild(div);\n",
              "\n",
              "      const buffers = [];\n",
              "      let downloaded = 0;\n",
              "\n",
              "      const channel = await google.colab.kernel.comms.open(id);\n",
              "      // Send a message to notify the kernel that we're ready.\n",
              "      channel.send({})\n",
              "\n",
              "      for await (const message of channel.messages) {\n",
              "        // Send a message to notify the kernel that we're ready.\n",
              "        channel.send({})\n",
              "        if (message.buffers) {\n",
              "          for (const buffer of message.buffers) {\n",
              "            buffers.push(buffer);\n",
              "            downloaded += buffer.byteLength;\n",
              "            progress.value = downloaded;\n",
              "          }\n",
              "        }\n",
              "      }\n",
              "      const blob = new Blob(buffers, {type: 'application/binary'});\n",
              "      const a = document.createElement('a');\n",
              "      a.href = window.URL.createObjectURL(blob);\n",
              "      a.download = filename;\n",
              "      div.appendChild(a);\n",
              "      a.click();\n",
              "      div.remove();\n",
              "    }\n",
              "  "
            ]
          },
          "metadata": {}
        },
        {
          "output_type": "display_data",
          "data": {
            "text/plain": [
              "<IPython.core.display.Javascript object>"
            ],
            "application/javascript": [
              "download(\"download_21718de3-c9da-4990-8690-9e429953332a\", \"checkpoint_epoch_120.pth\", 9794422)"
            ]
          },
          "metadata": {}
        },
        {
          "output_type": "stream",
          "name": "stdout",
          "text": [
            "Epoch 120/150, Train Acc: 42.62%, Val Acc: 42.36%, Test Acc: 36.55%\n",
            "Epoch 120/150, Train Loss: 2.2063, Val Loss: 2.2272, Test Loss: 2.4933\n",
            "Epoch 121/150, Train Acc: 42.66%, Val Acc: 42.33%, Test Acc: 36.74%\n",
            "Epoch 121/150, Train Loss: 2.2047, Val Loss: 2.2301, Test Loss: 2.4923\n",
            "Epoch 122/150, Train Acc: 42.34%, Val Acc: 42.88%, Test Acc: 36.36%\n",
            "Epoch 122/150, Train Loss: 2.2058, Val Loss: 2.2216, Test Loss: 2.5055\n",
            "Epoch 123/150, Train Acc: 42.53%, Val Acc: 42.72%, Test Acc: 36.78%\n",
            "Epoch 123/150, Train Loss: 2.2041, Val Loss: 2.2167, Test Loss: 2.4897\n",
            "Epoch 124/150, Train Acc: 42.97%, Val Acc: 42.82%, Test Acc: 36.84%\n",
            "Epoch 124/150, Train Loss: 2.1953, Val Loss: 2.2168, Test Loss: 2.4947\n",
            "Epoch 125/150, Train Acc: 42.88%, Val Acc: 42.80%, Test Acc: 36.04%\n",
            "Epoch 125/150, Train Loss: 2.1955, Val Loss: 2.2080, Test Loss: 2.5135\n",
            "Epoch 126/150, Train Acc: 42.62%, Val Acc: 42.93%, Test Acc: 36.81%\n",
            "Epoch 126/150, Train Loss: 2.1891, Val Loss: 2.2110, Test Loss: 2.4879\n",
            "Epoch 127/150, Train Acc: 43.18%, Val Acc: 42.66%, Test Acc: 36.93%\n",
            "Epoch 127/150, Train Loss: 2.1826, Val Loss: 2.2140, Test Loss: 2.4924\n",
            "Epoch 128/150, Train Acc: 43.09%, Val Acc: 42.69%, Test Acc: 36.31%\n",
            "Epoch 128/150, Train Loss: 2.1830, Val Loss: 2.2112, Test Loss: 2.5178\n",
            "Epoch 129/150, Train Acc: 42.95%, Val Acc: 42.86%, Test Acc: 37.18%\n",
            "Epoch 129/150, Train Loss: 2.1866, Val Loss: 2.2125, Test Loss: 2.4865\n",
            "Checkpoint saved at epoch 130: ./checkpoint_epoch_130.pth\n"
          ]
        },
        {
          "output_type": "display_data",
          "data": {
            "text/plain": [
              "<IPython.core.display.Javascript object>"
            ],
            "application/javascript": [
              "\n",
              "    async function download(id, filename, size) {\n",
              "      if (!google.colab.kernel.accessAllowed) {\n",
              "        return;\n",
              "      }\n",
              "      const div = document.createElement('div');\n",
              "      const label = document.createElement('label');\n",
              "      label.textContent = `Downloading \"${filename}\": `;\n",
              "      div.appendChild(label);\n",
              "      const progress = document.createElement('progress');\n",
              "      progress.max = size;\n",
              "      div.appendChild(progress);\n",
              "      document.body.appendChild(div);\n",
              "\n",
              "      const buffers = [];\n",
              "      let downloaded = 0;\n",
              "\n",
              "      const channel = await google.colab.kernel.comms.open(id);\n",
              "      // Send a message to notify the kernel that we're ready.\n",
              "      channel.send({})\n",
              "\n",
              "      for await (const message of channel.messages) {\n",
              "        // Send a message to notify the kernel that we're ready.\n",
              "        channel.send({})\n",
              "        if (message.buffers) {\n",
              "          for (const buffer of message.buffers) {\n",
              "            buffers.push(buffer);\n",
              "            downloaded += buffer.byteLength;\n",
              "            progress.value = downloaded;\n",
              "          }\n",
              "        }\n",
              "      }\n",
              "      const blob = new Blob(buffers, {type: 'application/binary'});\n",
              "      const a = document.createElement('a');\n",
              "      a.href = window.URL.createObjectURL(blob);\n",
              "      a.download = filename;\n",
              "      div.appendChild(a);\n",
              "      a.click();\n",
              "      div.remove();\n",
              "    }\n",
              "  "
            ]
          },
          "metadata": {}
        },
        {
          "output_type": "display_data",
          "data": {
            "text/plain": [
              "<IPython.core.display.Javascript object>"
            ],
            "application/javascript": [
              "download(\"download_c490ebf3-1031-4a09-9922-78885b92410e\", \"checkpoint_epoch_130.pth\", 9794422)"
            ]
          },
          "metadata": {}
        },
        {
          "output_type": "stream",
          "name": "stdout",
          "text": [
            "Epoch 130/150, Train Acc: 43.34%, Val Acc: 42.70%, Test Acc: 36.84%\n",
            "Epoch 130/150, Train Loss: 2.1761, Val Loss: 2.2116, Test Loss: 2.4928\n",
            "Epoch 131/150, Train Acc: 43.05%, Val Acc: 42.94%, Test Acc: 36.91%\n",
            "Epoch 131/150, Train Loss: 2.1782, Val Loss: 2.2102, Test Loss: 2.4952\n",
            "Epoch 132/150, Train Acc: 43.38%, Val Acc: 42.92%, Test Acc: 36.55%\n",
            "Epoch 132/150, Train Loss: 2.1696, Val Loss: 2.2064, Test Loss: 2.5020\n",
            "Epoch 133/150, Train Acc: 43.46%, Val Acc: 43.28%, Test Acc: 36.79%\n",
            "Epoch 133/150, Train Loss: 2.1658, Val Loss: 2.2086, Test Loss: 2.4855\n",
            "Epoch 134/150, Train Acc: 43.41%, Val Acc: 43.13%, Test Acc: 36.73%\n",
            "Epoch 134/150, Train Loss: 2.1715, Val Loss: 2.2040, Test Loss: 2.5028\n",
            "Epoch 135/150, Train Acc: 43.46%, Val Acc: 43.00%, Test Acc: 37.06%\n",
            "Epoch 135/150, Train Loss: 2.1764, Val Loss: 2.2052, Test Loss: 2.4812\n",
            "Epoch 136/150, Train Acc: 43.52%, Val Acc: 43.07%, Test Acc: 37.14%\n",
            "Epoch 136/150, Train Loss: 2.1668, Val Loss: 2.2038, Test Loss: 2.4807\n",
            "Epoch 137/150, Train Acc: 43.48%, Val Acc: 42.99%, Test Acc: 37.00%\n",
            "Epoch 137/150, Train Loss: 2.1572, Val Loss: 2.2068, Test Loss: 2.4884\n",
            "Epoch 138/150, Train Acc: 43.69%, Val Acc: 42.97%, Test Acc: 37.03%\n",
            "Epoch 138/150, Train Loss: 2.1599, Val Loss: 2.2063, Test Loss: 2.4839\n",
            "Epoch 139/150, Train Acc: 43.38%, Val Acc: 43.07%, Test Acc: 37.03%\n",
            "Epoch 139/150, Train Loss: 2.1626, Val Loss: 2.2039, Test Loss: 2.4855\n",
            "Checkpoint saved at epoch 140: ./checkpoint_epoch_140.pth\n"
          ]
        },
        {
          "output_type": "display_data",
          "data": {
            "text/plain": [
              "<IPython.core.display.Javascript object>"
            ],
            "application/javascript": [
              "\n",
              "    async function download(id, filename, size) {\n",
              "      if (!google.colab.kernel.accessAllowed) {\n",
              "        return;\n",
              "      }\n",
              "      const div = document.createElement('div');\n",
              "      const label = document.createElement('label');\n",
              "      label.textContent = `Downloading \"${filename}\": `;\n",
              "      div.appendChild(label);\n",
              "      const progress = document.createElement('progress');\n",
              "      progress.max = size;\n",
              "      div.appendChild(progress);\n",
              "      document.body.appendChild(div);\n",
              "\n",
              "      const buffers = [];\n",
              "      let downloaded = 0;\n",
              "\n",
              "      const channel = await google.colab.kernel.comms.open(id);\n",
              "      // Send a message to notify the kernel that we're ready.\n",
              "      channel.send({})\n",
              "\n",
              "      for await (const message of channel.messages) {\n",
              "        // Send a message to notify the kernel that we're ready.\n",
              "        channel.send({})\n",
              "        if (message.buffers) {\n",
              "          for (const buffer of message.buffers) {\n",
              "            buffers.push(buffer);\n",
              "            downloaded += buffer.byteLength;\n",
              "            progress.value = downloaded;\n",
              "          }\n",
              "        }\n",
              "      }\n",
              "      const blob = new Blob(buffers, {type: 'application/binary'});\n",
              "      const a = document.createElement('a');\n",
              "      a.href = window.URL.createObjectURL(blob);\n",
              "      a.download = filename;\n",
              "      div.appendChild(a);\n",
              "      a.click();\n",
              "      div.remove();\n",
              "    }\n",
              "  "
            ]
          },
          "metadata": {}
        },
        {
          "output_type": "display_data",
          "data": {
            "text/plain": [
              "<IPython.core.display.Javascript object>"
            ],
            "application/javascript": [
              "download(\"download_6cdb48f9-d0c5-47e3-9ac3-69a3add82821\", \"checkpoint_epoch_140.pth\", 9794422)"
            ]
          },
          "metadata": {}
        },
        {
          "output_type": "stream",
          "name": "stdout",
          "text": [
            "Epoch 140/150, Train Acc: 43.76%, Val Acc: 43.32%, Test Acc: 36.73%\n",
            "Epoch 140/150, Train Loss: 2.1617, Val Loss: 2.2012, Test Loss: 2.4987\n",
            "Epoch 141/150, Train Acc: 43.88%, Val Acc: 43.02%, Test Acc: 36.94%\n",
            "Epoch 141/150, Train Loss: 2.1565, Val Loss: 2.2033, Test Loss: 2.4829\n",
            "Epoch 142/150, Train Acc: 43.80%, Val Acc: 43.33%, Test Acc: 37.03%\n",
            "Epoch 142/150, Train Loss: 2.1549, Val Loss: 2.1987, Test Loss: 2.4894\n",
            "Epoch 143/150, Train Acc: 44.05%, Val Acc: 43.01%, Test Acc: 37.06%\n",
            "Epoch 143/150, Train Loss: 2.1516, Val Loss: 2.2023, Test Loss: 2.4905\n",
            "Epoch 144/150, Train Acc: 43.66%, Val Acc: 43.15%, Test Acc: 37.00%\n",
            "Epoch 144/150, Train Loss: 2.1575, Val Loss: 2.2033, Test Loss: 2.4950\n",
            "Epoch 145/150, Train Acc: 43.37%, Val Acc: 43.17%, Test Acc: 36.87%\n",
            "Epoch 145/150, Train Loss: 2.1562, Val Loss: 2.1994, Test Loss: 2.4858\n",
            "Epoch 146/150, Train Acc: 44.12%, Val Acc: 43.03%, Test Acc: 37.00%\n",
            "Epoch 146/150, Train Loss: 2.1467, Val Loss: 2.2005, Test Loss: 2.4818\n",
            "Epoch 147/150, Train Acc: 44.30%, Val Acc: 43.16%, Test Acc: 37.19%\n",
            "Epoch 147/150, Train Loss: 2.1379, Val Loss: 2.2009, Test Loss: 2.4819\n",
            "Epoch 148/150, Train Acc: 43.55%, Val Acc: 43.27%, Test Acc: 37.00%\n",
            "Epoch 148/150, Train Loss: 2.1538, Val Loss: 2.1980, Test Loss: 2.4838\n",
            "Epoch 149/150, Train Acc: 44.12%, Val Acc: 43.26%, Test Acc: 36.98%\n",
            "Epoch 149/150, Train Loss: 2.1417, Val Loss: 2.1985, Test Loss: 2.4807\n",
            "Checkpoint saved at epoch 150: ./checkpoint_epoch_150.pth\n"
          ]
        },
        {
          "output_type": "display_data",
          "data": {
            "text/plain": [
              "<IPython.core.display.Javascript object>"
            ],
            "application/javascript": [
              "\n",
              "    async function download(id, filename, size) {\n",
              "      if (!google.colab.kernel.accessAllowed) {\n",
              "        return;\n",
              "      }\n",
              "      const div = document.createElement('div');\n",
              "      const label = document.createElement('label');\n",
              "      label.textContent = `Downloading \"${filename}\": `;\n",
              "      div.appendChild(label);\n",
              "      const progress = document.createElement('progress');\n",
              "      progress.max = size;\n",
              "      div.appendChild(progress);\n",
              "      document.body.appendChild(div);\n",
              "\n",
              "      const buffers = [];\n",
              "      let downloaded = 0;\n",
              "\n",
              "      const channel = await google.colab.kernel.comms.open(id);\n",
              "      // Send a message to notify the kernel that we're ready.\n",
              "      channel.send({})\n",
              "\n",
              "      for await (const message of channel.messages) {\n",
              "        // Send a message to notify the kernel that we're ready.\n",
              "        channel.send({})\n",
              "        if (message.buffers) {\n",
              "          for (const buffer of message.buffers) {\n",
              "            buffers.push(buffer);\n",
              "            downloaded += buffer.byteLength;\n",
              "            progress.value = downloaded;\n",
              "          }\n",
              "        }\n",
              "      }\n",
              "      const blob = new Blob(buffers, {type: 'application/binary'});\n",
              "      const a = document.createElement('a');\n",
              "      a.href = window.URL.createObjectURL(blob);\n",
              "      a.download = filename;\n",
              "      div.appendChild(a);\n",
              "      a.click();\n",
              "      div.remove();\n",
              "    }\n",
              "  "
            ]
          },
          "metadata": {}
        },
        {
          "output_type": "display_data",
          "data": {
            "text/plain": [
              "<IPython.core.display.Javascript object>"
            ],
            "application/javascript": [
              "download(\"download_68ee2764-bea6-4a36-a87f-812b36021b89\", \"checkpoint_epoch_150.pth\", 9794422)"
            ]
          },
          "metadata": {}
        },
        {
          "output_type": "stream",
          "name": "stdout",
          "text": [
            "Epoch 150/150, Train Acc: 43.98%, Val Acc: 43.35%, Test Acc: 37.15%\n",
            "Epoch 150/150, Train Loss: 2.1378, Val Loss: 2.1973, Test Loss: 2.4791\n"
          ]
        },
        {
          "output_type": "display_data",
          "data": {
            "text/plain": [
              "<Figure size 600x400 with 1 Axes>"
            ],
            "image/png": "[encoded data removed]"
          },
          "metadata": {}
        },
        {
          "output_type": "display_data",
          "data": {
            "text/plain": [
              "<Figure size 600x400 with 1 Axes>"
            ],
            "image/png": "[encoded data removed]"
          },
          "metadata": {}
        },
        {
          "output_type": "display_data",
          "data": {
            "text/plain": [
              "<Figure size 600x400 with 1 Axes>"
            ],
            "image/png": "[encoded data removed]"
          },
          "metadata": {}
        },
        {
          "output_type": "display_data",
          "data": {
            "text/plain": [
              "<Figure size 600x400 with 1 Axes>"
            ],
            "image/png": "[encoded data removed]"
          },
          "metadata": {}
        },
        {
          "output_type": "display_data",
          "data": {
            "text/plain": [
              "<Figure size 600x400 with 1 Axes>"
            ],
            "image/png": "[encoded data removed]"
          },
          "metadata": {}
        },
        {
          "output_type": "display_data",
          "data": {
            "text/plain": [
              "<Figure size 600x400 with 1 Axes>"
            ],
            "image/png": "[encoded data removed]"
          },
          "metadata": {}
        },
        {
          "output_type": "display_data",
          "data": {
            "text/plain": [
              "<Figure size 640x480 with 0 Axes>"
            ]
          },
          "metadata": {}
        }
      ],
      "source": [
        "%run large_batch_training.py --optimizer LAMB --batch-size 128 --weight-decay 1e-2"
      ]
    }
  ],
  "metadata": {
    "accelerator": "GPU",
    "colab": {
      "gpuType": "T4",
      "provenance": []
    },
    "kernelspec": {
      "display_name": "Python 3",
      "name": "python3"
    },
    "language_info": {
      "name": "python"
    }
  },
  "nbformat": 4,
  "nbformat_minor": 0
}