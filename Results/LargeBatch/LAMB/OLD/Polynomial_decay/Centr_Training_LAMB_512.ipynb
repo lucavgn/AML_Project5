{
  "cells": [
    {
      "cell_type": "code",
      "execution_count": 1,
      "metadata": {
        "colab": {
          "base_uri": "https://localhost:8080/"
        },
        "id": "LtOx0ESVnO0u",
        "outputId": "9d144cbd-a4fd-419d-ae98-ea1b3da2fe7a"
      },
      "outputs": [
        {
          "output_type": "stream",
          "name": "stdout",
          "text": [
            "Writing large_batch_training.py\n"
          ]
        }
      ],
      "source": [
        "%%writefile large_batch_training.py\n",
        "\n",
        "import os\n",
        "import numpy as np\n",
        "import torch\n",
        "import torch.nn as nn\n",
        "import torch.optim as optim\n",
        "import torchvision\n",
        "import torchvision.transforms as transforms\n",
        "import matplotlib.pyplot as plt\n",
        "import argparse\n",
        "from torch.utils.data import random_split\n",
        "from google.colab import files\n",
        "\n",
        "def compute_mean_std(dataset):\n",
        "    \"\"\"Compute the mean and std of CIFAR-100 dataset.\n",
        "\n",
        "    Args:\n",
        "        dataset: A dataset derived from `torch.utils.data.Dataset`,\n",
        "                 such as `cifar100_training_dataset` or `cifar100_test_dataset`.\n",
        "\n",
        "    Returns:\n",
        "        A tuple containing (mean, std) for the entire dataset.\n",
        "    \"\"\"\n",
        "\n",
        "    # Extract images and labels\n",
        "    data_r = np.stack([np.array(dataset[i][0])[:, :, 0] for i in range(len(dataset))])\n",
        "    data_g = np.stack([np.array(dataset[i][0])[:, :, 1] for i in range(len(dataset))])\n",
        "    data_b = np.stack([np.array(dataset[i][0])[:, :, 2] for i in range(len(dataset))])\n",
        "\n",
        "    # Compute mean and std\n",
        "    mean = np.mean(data_r), np.mean(data_g), np.mean(data_b)\n",
        "    std = np.std(data_r), np.std(data_g), np.std(data_b)\n",
        "\n",
        "    return mean, std\n",
        "\n",
        "# Define LeNet-5 architecture\n",
        "class LeNet5(nn.Module):\n",
        "    def __init__(self):\n",
        "        super(LeNet5, self).__init__()\n",
        "        self.conv1 = nn.Conv2d(3, 64, 5)\n",
        "        self.relu1 = nn.ReLU()\n",
        "        self.pool1 = nn.MaxPool2d(2, 2)\n",
        "        self.conv2 = nn.Conv2d(64, 64, 5)\n",
        "        self.relu2 = nn.ReLU()\n",
        "        self.pool2 = nn.MaxPool2d(2, 2)\n",
        "        self.fc1 = nn.Linear(64 * 5 * 5, 384)\n",
        "        self.relu3 = nn.ReLU()\n",
        "        self.fc2 = nn.Linear(384, 192)\n",
        "        self.relu4 = nn.ReLU()\n",
        "        self.fc3 = nn.Linear(192, 100)\n",
        "\n",
        "    def forward(self, x):\n",
        "        x = self.pool1(self.relu1(self.conv1(x)))\n",
        "        x = self.pool2(self.relu2(self.conv2(x)))\n",
        "        x = x.view(-1, 64 * 5 * 5)\n",
        "        x = self.relu3(self.fc1(x))\n",
        "        x = self.relu4(self.fc2(x))\n",
        "        x = self.fc3(x)\n",
        "        return x\n",
        "\n",
        "# Device setup\n",
        "device = torch.device(\"cuda:0\" if torch.cuda.is_available() else \"cpu\")\n",
        "\n",
        "# Initialize model\n",
        "net = LeNet5().to(device)\n",
        "\n",
        "# Optimizer Subclasses\n",
        "class LARS(optim.Optimizer):\n",
        "    def __init__(self, params, lr, momentum=0.9, weight_decay=0, trust_coefficient=0.001):\n",
        "        # Initialize the optimizer with the learning rate, momentum, weight decay, and trust coefficient\n",
        "        defaults = dict(lr=lr, momentum=momentum, weight_decay=weight_decay, trust_coefficient=trust_coefficient)\n",
        "        super(LARS, self).__init__(params, defaults)\n",
        "\n",
        "    def step(self, closure=None):\n",
        "        loss = None\n",
        "        if closure is not None:\n",
        "            # If a closure is provided, evaluate it (commonly used for re-evaluating loss)\n",
        "            loss = closure()\n",
        "        for group in self.param_groups:\n",
        "            for p in group['params']:\n",
        "                if p.grad is None:\n",
        "                   # Skip parameters that have no gradient\n",
        "                    continue\n",
        "                grad = p.grad.data # Get the gradient of the parameter\n",
        "                # Retrieve or initialize the optimizer's internal state\n",
        "                state = self.state[p]\n",
        "                if len(state) == 0:\n",
        "                    state['momentum_buffer'] = torch.clone(grad).detach()\n",
        "                # Apply weight decay directly to the gradient\n",
        "                if group['weight_decay'] != 0:\n",
        "                    grad.add_(p.data, alpha=group['weight_decay'])\n",
        "                # Compute the norms of the parameter and its gradient\n",
        "                param_norm = torch.norm(p.data)\n",
        "                grad_norm = torch.norm(grad)\n",
        "                # Compute local learning rate based on the trust coefficient and norms\n",
        "                if param_norm > 0 and grad_norm > 0:\n",
        "                    local_lr = group['trust_coefficient'] * param_norm / (grad_norm + 1e-8)\n",
        "                    grad = grad.mul(local_lr) # Scale the gradient with the local learning rate\n",
        "                # Update the momentum buffer\n",
        "                momentum_buffer = state['momentum_buffer']\n",
        "                momentum_buffer.mul_(group['momentum']).add_(grad) #Momentum update\n",
        "                state['momentum_buffer'] = momentum_buffer\n",
        "                # Update the parameter\n",
        "                p.data.add_(momentum_buffer, alpha=-group['lr']) # Gradient descent step with learning rate\n",
        "        return loss\n",
        "\n",
        "class LAMB(optim.Optimizer):\n",
        "    def __init__(self, params, lr, weight_decay=0, betas=(0.9, 0.999), eps=1e-8):\n",
        "        # Initialize the optimizer with learning rate, weight decay, betas for moment updates, and epsilon for stability\n",
        "        defaults = dict(lr=lr, weight_decay=weight_decay, betas=betas, eps=eps)\n",
        "        super(LAMB, self).__init__(params, defaults)\n",
        "\n",
        "    def step(self, closure=None):\n",
        "        loss = None\n",
        "        if closure is not None:\n",
        "            # If a closure is provided, evaluate it\n",
        "            loss = closure()\n",
        "        for group in self.param_groups:\n",
        "            for p in group['params']:\n",
        "                if p.grad is None:\n",
        "                    # Skip parameters that have no gradient\n",
        "                    continue\n",
        "                grad = p.grad.data # Get the gradient of the parameter\n",
        "                # Retrieve or initialize the optimizer's internal state\n",
        "                state = self.state[p]\n",
        "                # Initialize state\n",
        "                if len(state) == 0:\n",
        "                    # Initialize the state (step counter, first moment, second moment)\n",
        "                    state['step'] = 0\n",
        "                    state['exp_avg'] = torch.zeros_like(p.data) # First moment (mean of gradients)\n",
        "                    state['exp_avg_sq'] = torch.zeros_like(p.data) # Second moment (mean of squared gradients)\n",
        "                exp_avg = state['exp_avg']\n",
        "                exp_avg_sq = state['exp_avg_sq']\n",
        "                beta1, beta2 = group['betas']  # Coefficients for moment updates\n",
        "                state['step'] += 1 # Increment step count\n",
        "                step = state['step']\n",
        "                # Decay the first and second moment running average coefficients\n",
        "                # Update first and second moments\n",
        "                exp_avg.mul_(beta1).add_(grad, alpha=1 - beta1) # Exponential moving average of gradients\n",
        "                exp_avg_sq.mul_(beta2).addcmul_(grad, grad, value=1 - beta2) # Exponential moving average of squared gradients\n",
        "                # Correct bias in the first and second moments\n",
        "                bias_correction1 = 1 - beta1 ** step\n",
        "                bias_correction2 = 1 - beta2 ** step\n",
        "                corrected_exp_avg = exp_avg / bias_correction1\n",
        "                corrected_exp_avg_sq = exp_avg_sq / bias_correction2\n",
        "                # Compute the denominator for scaling the update\n",
        "                denom = corrected_exp_avg_sq.sqrt().add_(group['eps']) # Stability epsilon\n",
        "                # Compute the step update\n",
        "                update = corrected_exp_avg / denom\n",
        "                # Apply weight decay directly to the parameters\n",
        "                if group['weight_decay'] != 0:\n",
        "                    update.add_(p.data, alpha=group['weight_decay'])\n",
        "                # Compute the trust ratio (norm of parameters vs norm of update)\n",
        "                param_norm = torch.norm(p.data)\n",
        "                update_norm = torch.norm(update)\n",
        "                trust_ratio = 1.0  # Default trust ratio\n",
        "                if param_norm > 0 and update_norm > 0:\n",
        "                    trust_ratio = param_norm / update_norm\n",
        "                # Update the parameters\n",
        "                p.data.add_(update, alpha=-group['lr'] * trust_ratio)\n",
        "        return loss\n",
        "\n",
        "class SqrtLRScheduler(torch.optim.lr_scheduler._LRScheduler):\n",
        "    def __init__(self, optimizer, base_lr, batch_size, warmup_epochs, total_epochs, reference_batch_size, verbose=False):\n",
        "        \"\"\"\n",
        "        Args:\n",
        "            optimizer: PyTorch optimizer (e.g., Adam, LAMB, LARS).\n",
        "            base_lr: Base learning rate for the reference batch size.\n",
        "            batch_size: Current batch size.\n",
        "            warmup_epochs: Number of warmup epochs.\n",
        "            total_epochs: Total number of epochs.\n",
        "            reference_batch_size: Batch size for which the base_lr is defined.\n",
        "            verbose: Whether to print LR updates.\n",
        "        \"\"\"\n",
        "        self.base_lr = base_lr\n",
        "        self.batch_size = batch_size\n",
        "        self.scaled_lr = base_lr * (batch_size / reference_batch_size) ** 0.5\n",
        "        self.warmup_epochs = warmup_epochs\n",
        "        self.total_epochs = total_epochs\n",
        "        self.verbose = verbose\n",
        "        super(SqrtLRScheduler, self).__init__(optimizer)\n",
        "\n",
        "    def get_lr(self):\n",
        "        epoch = self.last_epoch\n",
        "        if epoch < self.warmup_epochs:\n",
        "            # Linear warmup scaling\n",
        "            warmup_factor = (epoch + 1) / self.warmup_epochs\n",
        "            return [warmup_factor * self.scaled_lr for _ in self.optimizer.param_groups]\n",
        "        else:\n",
        "            # polynomially decaying learning rate of ηt = η0×(1−t/T)\n",
        "            if epoch == self.warmup_epochs:\n",
        "                print(f\"Warmup phase completed at epoch {epoch}. Switching to constant learning rate.\")\n",
        "            return [self.scaled_lr * ( 1 - ( (epoch - self.warmup_epochs) / (self.total_epochs - self.warmup_epochs))) for _ in self.optimizer.param_groups]\n",
        "\n",
        "# Command-line arguments\n",
        "parser = argparse.ArgumentParser(description='Train with Large-Batch Optimizers')\n",
        "parser.add_argument('--optimizer', type=str, default='SGDM', choices=['SGDM', 'AdamW', 'LARS', 'LAMB'],\n",
        "                    help='Choose optimizer')\n",
        "parser.add_argument('--batch-size', type=int, default=128, help='Batch size')\n",
        "parser.add_argument('--momentum', type=float, default=0.9, help='Momentum for SGDM and LARS')\n",
        "parser.add_argument('--weight-decay', type=float, default=1e-5, help='Weight decay')\n",
        "parser.add_argument('--b1', type=float, default=0.9, help='Beta1 for AdamW')\n",
        "parser.add_argument('--b2', type=float, default=0.999, help='Beta2 for AdamW')\n",
        "parser.add_argument('--trust-coefficient', type=float, default=0.001, help='Trust coefficient for LARS')\n",
        "parser.add_argument('--epochs', type=int, default=150, help='Number of epochs')\n",
        "parser.add_argument('--warmup-epochs', type=int, default=5, help='Number of epochs')\n",
        "args = parser.parse_args()\n",
        "\n",
        "\n",
        "torch.manual_seed(42) # Set the seed for reproducibility\n",
        "torch.cuda.manual_seed_all(42) # Set the seed for reproducibility on GPU\n",
        "\n",
        "# use the same mean and std to add consistency to all datasets\n",
        "data = torchvision.datasets.CIFAR100(root='./data', train=True, download=True, transform=transforms.ToTensor())\n",
        "mean, std = compute_mean_std(data)\n",
        "\n",
        "# Load and split CIFAR-100 dataset\n",
        "train_transform = transforms.Compose([\n",
        "  transforms.RandomHorizontalFlip(),\n",
        "  # transforms.RandomRotation(15),\n",
        "  transforms.RandomCrop(32, padding=4),\n",
        "  # transforms.RandomAffine(degrees=0, translate=(0.1, 0.1)),\n",
        "  transforms.RandomPerspective(distortion_scale=0.2, p=0.5),\n",
        "  transforms.ColorJitter(brightness=0.3, contrast=0.3, saturation=0.3, hue=0.2),\n",
        "  transforms.ToTensor(),\n",
        "  transforms.Normalize(mean, std)\n",
        "])\n",
        "\n",
        "val_transform = transforms.Compose([\n",
        "    transforms.ToTensor(), # Convert into tensor\n",
        "    transforms.Normalize(mean, std)  # Normalization\n",
        "])\n",
        "\n",
        "test_transform = transforms.Compose([\n",
        "    transforms.CenterCrop(24),\n",
        "    transforms.Pad(4),\n",
        "    transforms.ToTensor(),  # Convert to PyTorch tensor\n",
        "    transforms.Normalize(mean, std)\n",
        "])\n",
        "\n",
        "trainset = torchvision.datasets.CIFAR100(root='./data', train=True, download=True, transform=train_transform)\n",
        "valset = torchvision.datasets.CIFAR100(root='./data', train=True, download=True, transform=val_transform)\n",
        "indices = torch.randperm(len(trainset))\n",
        "val_size = int(0.2*len(trainset))\n",
        "trainset = torch.utils.data.Subset(trainset, indices[:-val_size])\n",
        "valset = torch.utils.data.Subset(valset, indices[-val_size:])\n",
        "\n",
        "trainloader = torch.utils.data.DataLoader(trainset, batch_size=args.batch_size, shuffle=True, num_workers=2)\n",
        "valloader = torch.utils.data.DataLoader(valset, batch_size=args.batch_size, shuffle=False, num_workers=2)\n",
        "\n",
        "testset = torchvision.datasets.CIFAR100(root='./data', train=False, download=True, transform=test_transform)\n",
        "testloader = torch.utils.data.DataLoader(testset, batch_size=args.batch_size, shuffle=False, num_workers=2)\n",
        "\n",
        "\n",
        "# Fixed parameter from paper [18] to calculate the square root LR scaling value\n",
        "# base_lr = 5 / (2**3 * 10**3)\n",
        "# reference_batch_size = 512\n",
        "#scaled_lr = base_lr * (args.batch_size / reference_batch_size) ** 0.5\n",
        "\n",
        "# Mapping optimizers\n",
        "if args.optimizer == 'SGDM':\n",
        "    base_lr = 1e-2\n",
        "    reference_batch_size = 64\n",
        "    scaled_lr = base_lr * (args.batch_size / reference_batch_size) ** 0.5\n",
        "    optimizer = optim.SGD(net.parameters(), lr=scaled_lr, momentum=args.momentum, weight_decay=args.weight_decay)\n",
        "elif args.optimizer == 'AdamW':\n",
        "    base_lr = 5e-4\n",
        "    reference_batch_size = 64\n",
        "    scaled_lr = base_lr * (args.batch_size / reference_batch_size) ** 0.5\n",
        "    optimizer = optim.AdamW(net.parameters(), lr=scaled_lr, betas=(args.b1, args.b2), weight_decay=args.weight_decay)\n",
        "elif args.optimizer == 'LARS':\n",
        "    base_lr = 1e-2\n",
        "    reference_batch_size = 64\n",
        "    scaled_lr = base_lr * (args.batch_size / reference_batch_size) ** 0.5\n",
        "    optimizer = LARS(net.parameters(), lr=scaled_lr, momentum=args.momentum, weight_decay=args.weight_decay, trust_coefficient=args.trust_coefficient)\n",
        "elif args.optimizer == 'LAMB':\n",
        "    base_lr = 5e-4\n",
        "    reference_batch_size = 64\n",
        "    scaled_lr = base_lr * (args.batch_size / reference_batch_size) ** 0.5\n",
        "    optimizer = LAMB(net.parameters(), lr=scaled_lr, weight_decay=args.weight_decay)\n",
        "\n",
        "criterion = nn.CrossEntropyLoss()\n",
        "\n",
        "# scheduler should be e square root LR scaling rule and linear-epoch warmup scheduling to automatically adjust learning rate\n",
        "scheduler = SqrtLRScheduler(\n",
        "    optimizer = optimizer,\n",
        "    base_lr = base_lr,\n",
        "    batch_size = args.batch_size,\n",
        "    warmup_epochs = args.warmup_epochs,\n",
        "    total_epochs = args.epochs,\n",
        "    reference_batch_size = reference_batch_size,\n",
        "    verbose = True)\n",
        "\n",
        "# Training Function\n",
        "def train_model(optimizer, scheduler, model, criterion, trainloader, valloader , testloader, device, epochs, save_checkpoint_interval=10):\n",
        "    train_losses, val_losses, test_losses = [], [], []\n",
        "    train_accuracies, val_accuracies, test_accuracies = [], [], []\n",
        "    for epoch in range(epochs):\n",
        "        model.train()\n",
        "        running_loss, correct_train, total_train = 0.0, 0, 0\n",
        "        for inputs, labels in trainloader:\n",
        "            inputs, labels = inputs.to(device), labels.to(device)\n",
        "            optimizer.zero_grad()\n",
        "            outputs = model(inputs)\n",
        "            loss = criterion(outputs, labels)\n",
        "            loss.backward()\n",
        "            optimizer.step()\n",
        "            running_loss += loss.item()\n",
        "            _, predicted = outputs.max(1)\n",
        "            total_train += labels.size(0)\n",
        "            correct_train += predicted.eq(labels).sum().item()\n",
        "        train_loss = running_loss / len(trainloader)\n",
        "        train_accuracy = 100. * correct_train / total_train\n",
        "        train_losses.append(train_loss)\n",
        "        train_accuracies.append(train_accuracy)\n",
        "\n",
        "        # Validation\n",
        "        model.eval()\n",
        "        correct_val, total_val, val_loss = 0, 0, 0.0\n",
        "        with torch.no_grad():\n",
        "            for inputs, labels in valloader:\n",
        "                inputs, labels = inputs.to(device), labels.to(device)\n",
        "                outputs = model(inputs)\n",
        "                loss = criterion(outputs, labels)\n",
        "                val_loss += loss.item()\n",
        "                _, predicted = outputs.max(1)\n",
        "                total_val += labels.size(0)\n",
        "                correct_val += predicted.eq(labels).sum().item()\n",
        "        val_loss /= len(valloader)\n",
        "        val_losses.append(val_loss)\n",
        "        val_accuracy = 100. * correct_val / total_val\n",
        "        val_accuracies.append(val_accuracy)\n",
        "\n",
        "        '''\n",
        "        # Early Stopping\n",
        "        if val_loss < best_val_loss:\n",
        "          best_val_loss = val_loss\n",
        "          epochs_no_improve = 0\n",
        "        else:\n",
        "          epochs_no_improve += 1\n",
        "\n",
        "        if epochs_no_improve == patience:\n",
        "          print(\"Early stopping!\")\n",
        "          break\n",
        "        '''\n",
        "\n",
        "        # Test\n",
        "        correct_test, total_test, test_loss = 0, 0, 0.0\n",
        "        with torch.no_grad():\n",
        "            for inputs, labels in testloader:\n",
        "                inputs, labels = inputs.to(device), labels.to(device)\n",
        "                outputs = model(inputs)\n",
        "                loss = criterion(outputs, labels)\n",
        "                test_loss += loss.item()\n",
        "                _, predicted = outputs.max(1)\n",
        "                total_test += labels.size(0)\n",
        "                correct_test += predicted.eq(labels).sum().item()\n",
        "        test_loss /= len(testloader)\n",
        "        test_losses.append(test_loss)\n",
        "        test_accuracy = 100. * correct_test / total_test\n",
        "        test_accuracies.append(test_accuracy)\n",
        "\n",
        "        scheduler.step()\n",
        "\n",
        "        # Checkpointing\n",
        "        if (epoch + 1) % save_checkpoint_interval == 0:\n",
        "            checkpoint_filename = f'checkpoint_epoch_{epoch + 1}.pth'\n",
        "            checkpoint = {\n",
        "                'epoch': epoch + 1,\n",
        "                'model_state_dict': model.state_dict(),\n",
        "                'optimizer_state_dict': optimizer.state_dict(),\n",
        "                'scheduler_state_dict': scheduler.state_dict(),\n",
        "                'loss': loss.item(),\n",
        "            }\n",
        "            checkpoint_path = os.path.join('./', checkpoint_filename)\n",
        "            torch.save(checkpoint, checkpoint_path)\n",
        "            print(f'Checkpoint saved at epoch {epoch + 1}: {checkpoint_path}')\n",
        "\n",
        "            # Download the checkpoint\n",
        "            files.download(checkpoint_filename)\n",
        "\n",
        "        print(f'Epoch {epoch+1}/{epochs}, Train Acc: {train_accuracy:.2f}%, Val Acc: {val_accuracy:.2f}%, Test Acc: {test_accuracy:.2f}%')\n",
        "        print(f'Epoch {epoch+1}/{epochs}, Train Loss: {train_loss:.4f}, Val Loss: {val_loss:.4f}, Test Loss: {test_loss:.4f}')\n",
        "\n",
        "    return train_losses, val_losses, test_losses, train_accuracies, val_accuracies, test_accuracies\n",
        "\n",
        "# Train the model\n",
        "print(f\"--- Train with {args.optimizer} ---\")\n",
        "train_loss, val_loss, test_loss, train_acc, val_acc, test_acc = train_model(optimizer, scheduler, net, criterion, trainloader, valloader, testloader, device, args.epochs)\n",
        "\n",
        "# Save model\n",
        "torch.save(net.state_dict(), f'net_{args.optimizer}.pth')\n",
        "\n",
        "# Plot results\n",
        "# Plot Training Loss\n",
        "plt.figure(figsize=(6, 4))\n",
        "plt.plot(train_loss, label='Train Loss')\n",
        "plt.title('Training Loss')\n",
        "plt.xlabel('Epoch')\n",
        "plt.ylabel('Loss')\n",
        "plt.legend()\n",
        "plt.tight_layout()\n",
        "plt.savefig('train_loss.png')\n",
        "plt.show()\n",
        "\n",
        "# Plot Training Accuracy\n",
        "plt.figure(figsize=(6, 4))\n",
        "plt.plot(train_acc, label='Train Accuracy')\n",
        "plt.title('Training Accuracy')\n",
        "plt.xlabel('Epoch')\n",
        "plt.ylabel('Accuracy (%)')\n",
        "plt.legend()\n",
        "plt.tight_layout()\n",
        "plt.savefig('train_accuracy.png')\n",
        "plt.show()\n",
        "\n",
        "# Plot Validation Loss\n",
        "plt.figure(figsize=(6, 4))\n",
        "plt.plot(val_loss, label='Validation Loss')\n",
        "plt.title('Validation Loss')\n",
        "plt.xlabel('Epoch')\n",
        "plt.ylabel('Loss')\n",
        "plt.legend()\n",
        "plt.tight_layout()\n",
        "plt.savefig('val_loss.png')\n",
        "plt.show()\n",
        "\n",
        "# Plot Validation Accuracy\n",
        "plt.figure(figsize=(6, 4))\n",
        "plt.plot(val_acc, label='Validation Accuracy')\n",
        "plt.title('Validation Accuracy')\n",
        "plt.xlabel('Epoch')\n",
        "plt.ylabel('Accuracy (%)')\n",
        "plt.legend()\n",
        "plt.tight_layout()\n",
        "plt.savefig('val_accuracy.png')\n",
        "plt.show()\n",
        "\n",
        "# Plot Test Loss\n",
        "plt.figure(figsize=(6, 4))\n",
        "plt.plot(test_loss, label='Test Loss')\n",
        "plt.title('Test Loss')\n",
        "plt.xlabel('Epoch')\n",
        "plt.ylabel('Loss')\n",
        "plt.legend()\n",
        "plt.tight_layout()\n",
        "plt.savefig('test_loss.png')\n",
        "plt.show()\n",
        "\n",
        "# Plot Test Accuracy\n",
        "plt.figure(figsize=(6, 4))\n",
        "plt.plot(test_acc, label='Test Accuracy')\n",
        "plt.title('Test Accuracy')\n",
        "plt.xlabel('Epoch')\n",
        "plt.ylabel('Accuracy (%)')\n",
        "plt.legend()\n",
        "plt.tight_layout()\n",
        "plt.savefig('test_accuracy.png')\n",
        "plt.show()\n"
      ]
    },
    {
      "cell_type": "code",
      "execution_count": null,
      "metadata": {
        "colab": {
          "base_uri": "https://localhost:8080/",
          "height": 460
        },
        "id": "_hEcpkQqYJmP",
        "outputId": "054cca2f-8701-4830-ae1c-4f1fc306c8c1"
      },
      "outputs": [
        {
          "output_type": "stream",
          "name": "stdout",
          "text": [
            "Files already downloaded and verified\n",
            "Files already downloaded and verified\n",
            "Files already downloaded and verified\n",
            "Files already downloaded and verified\n",
            "--- Train with SGDM ---\n"
          ]
        },
        {
          "output_type": "error",
          "ename": "KeyboardInterrupt",
          "evalue": "",
          "traceback": [
            "\u001b[0;31m---------------------------------------------------------------------------\u001b[0m",
            "\u001b[0;31mKeyboardInterrupt\u001b[0m                         Traceback (most recent call last)",
            "\u001b[0;32m/content/large_batch_training.py\u001b[0m in \u001b[0;36m<module>\u001b[0;34m\u001b[0m\n\u001b[1;32m    385\u001b[0m \u001b[0;31m# Train the model\u001b[0m\u001b[0;34m\u001b[0m\u001b[0;34m\u001b[0m\u001b[0m\n\u001b[1;32m    386\u001b[0m \u001b[0mprint\u001b[0m\u001b[0;34m(\u001b[0m\u001b[0;34mf\"--- Train with {args.optimizer} ---\"\u001b[0m\u001b[0;34m)\u001b[0m\u001b[0;34m\u001b[0m\u001b[0;34m\u001b[0m\u001b[0m\n\u001b[0;32m--> 387\u001b[0;31m \u001b[0mtrain_loss\u001b[0m\u001b[0;34m,\u001b[0m \u001b[0mval_loss\u001b[0m\u001b[0;34m,\u001b[0m \u001b[0mtest_loss\u001b[0m\u001b[0;34m,\u001b[0m \u001b[0mtrain_acc\u001b[0m\u001b[0;34m,\u001b[0m \u001b[0mval_acc\u001b[0m\u001b[0;34m,\u001b[0m \u001b[0mtest_acc\u001b[0m \u001b[0;34m=\u001b[0m \u001b[0mtrain_model\u001b[0m\u001b[0;34m(\u001b[0m\u001b[0moptimizer\u001b[0m\u001b[0;34m,\u001b[0m \u001b[0mscheduler\u001b[0m\u001b[0;34m,\u001b[0m \u001b[0mnet\u001b[0m\u001b[0;34m,\u001b[0m \u001b[0mcriterion\u001b[0m\u001b[0;34m,\u001b[0m \u001b[0mtrainloader\u001b[0m\u001b[0;34m,\u001b[0m \u001b[0mvalloader\u001b[0m\u001b[0;34m,\u001b[0m \u001b[0mtestloader\u001b[0m\u001b[0;34m,\u001b[0m \u001b[0mdevice\u001b[0m\u001b[0;34m,\u001b[0m \u001b[0margs\u001b[0m\u001b[0;34m.\u001b[0m\u001b[0mepochs\u001b[0m\u001b[0;34m)\u001b[0m\u001b[0;34m\u001b[0m\u001b[0;34m\u001b[0m\u001b[0m\n\u001b[0m\u001b[1;32m    388\u001b[0m \u001b[0;34m\u001b[0m\u001b[0m\n\u001b[1;32m    389\u001b[0m \u001b[0;31m# Save model\u001b[0m\u001b[0;34m\u001b[0m\u001b[0;34m\u001b[0m\u001b[0m\n",
            "\u001b[0;32m/content/large_batch_training.py\u001b[0m in \u001b[0;36mtrain_model\u001b[0;34m(optimizer, scheduler, model, criterion, trainloader, valloader, testloader, device, epochs, save_checkpoint_interval)\u001b[0m\n\u001b[1;32m    297\u001b[0m         \u001b[0mmodel\u001b[0m\u001b[0;34m.\u001b[0m\u001b[0mtrain\u001b[0m\u001b[0;34m(\u001b[0m\u001b[0;34m)\u001b[0m\u001b[0;34m\u001b[0m\u001b[0;34m\u001b[0m\u001b[0m\n\u001b[1;32m    298\u001b[0m         \u001b[0mrunning_loss\u001b[0m\u001b[0;34m,\u001b[0m \u001b[0mcorrect_train\u001b[0m\u001b[0;34m,\u001b[0m \u001b[0mtotal_train\u001b[0m \u001b[0;34m=\u001b[0m \u001b[0;36m0.0\u001b[0m\u001b[0;34m,\u001b[0m \u001b[0;36m0\u001b[0m\u001b[0;34m,\u001b[0m \u001b[0;36m0\u001b[0m\u001b[0;34m\u001b[0m\u001b[0;34m\u001b[0m\u001b[0m\n\u001b[0;32m--> 299\u001b[0;31m         \u001b[0;32mfor\u001b[0m \u001b[0minputs\u001b[0m\u001b[0;34m,\u001b[0m \u001b[0mlabels\u001b[0m \u001b[0;32min\u001b[0m \u001b[0mtrainloader\u001b[0m\u001b[0;34m:\u001b[0m\u001b[0;34m\u001b[0m\u001b[0;34m\u001b[0m\u001b[0m\n\u001b[0m\u001b[1;32m    300\u001b[0m             \u001b[0minputs\u001b[0m\u001b[0;34m,\u001b[0m \u001b[0mlabels\u001b[0m \u001b[0;34m=\u001b[0m \u001b[0minputs\u001b[0m\u001b[0;34m.\u001b[0m\u001b[0mto\u001b[0m\u001b[0;34m(\u001b[0m\u001b[0mdevice\u001b[0m\u001b[0;34m)\u001b[0m\u001b[0;34m,\u001b[0m \u001b[0mlabels\u001b[0m\u001b[0;34m.\u001b[0m\u001b[0mto\u001b[0m\u001b[0;34m(\u001b[0m\u001b[0mdevice\u001b[0m\u001b[0;34m)\u001b[0m\u001b[0;34m\u001b[0m\u001b[0;34m\u001b[0m\u001b[0m\n\u001b[1;32m    301\u001b[0m             \u001b[0moptimizer\u001b[0m\u001b[0;34m.\u001b[0m\u001b[0mzero_grad\u001b[0m\u001b[0;34m(\u001b[0m\u001b[0;34m)\u001b[0m\u001b[0;34m\u001b[0m\u001b[0;34m\u001b[0m\u001b[0m\n",
            "\u001b[0;32m/usr/local/lib/python3.10/dist-packages/torch/utils/data/dataloader.py\u001b[0m in \u001b[0;36m__next__\u001b[0;34m(self)\u001b[0m\n\u001b[1;32m    699\u001b[0m                 \u001b[0;31m# TODO(https://github.com/pytorch/pytorch/issues/76750)\u001b[0m\u001b[0;34m\u001b[0m\u001b[0;34m\u001b[0m\u001b[0m\n\u001b[1;32m    700\u001b[0m                 \u001b[0mself\u001b[0m\u001b[0;34m.\u001b[0m\u001b[0m_reset\u001b[0m\u001b[0;34m(\u001b[0m\u001b[0;34m)\u001b[0m  \u001b[0;31m# type: ignore[call-arg]\u001b[0m\u001b[0;34m\u001b[0m\u001b[0;34m\u001b[0m\u001b[0m\n\u001b[0;32m--> 701\u001b[0;31m             \u001b[0mdata\u001b[0m \u001b[0;34m=\u001b[0m \u001b[0mself\u001b[0m\u001b[0;34m.\u001b[0m\u001b[0m_next_data\u001b[0m\u001b[0;34m(\u001b[0m\u001b[0;34m)\u001b[0m\u001b[0;34m\u001b[0m\u001b[0;34m\u001b[0m\u001b[0m\n\u001b[0m\u001b[1;32m    702\u001b[0m             \u001b[0mself\u001b[0m\u001b[0;34m.\u001b[0m\u001b[0m_num_yielded\u001b[0m \u001b[0;34m+=\u001b[0m \u001b[0;36m1\u001b[0m\u001b[0;34m\u001b[0m\u001b[0;34m\u001b[0m\u001b[0m\n\u001b[1;32m    703\u001b[0m             if (\n",
            "\u001b[0;32m/usr/local/lib/python3.10/dist-packages/torch/utils/data/dataloader.py\u001b[0m in \u001b[0;36m_next_data\u001b[0;34m(self)\u001b[0m\n\u001b[1;32m   1446\u001b[0m \u001b[0;34m\u001b[0m\u001b[0m\n\u001b[1;32m   1447\u001b[0m             \u001b[0;32massert\u001b[0m \u001b[0;32mnot\u001b[0m \u001b[0mself\u001b[0m\u001b[0;34m.\u001b[0m\u001b[0m_shutdown\u001b[0m \u001b[0;32mand\u001b[0m \u001b[0mself\u001b[0m\u001b[0;34m.\u001b[0m\u001b[0m_tasks_outstanding\u001b[0m \u001b[0;34m>\u001b[0m \u001b[0;36m0\u001b[0m\u001b[0;34m\u001b[0m\u001b[0;34m\u001b[0m\u001b[0m\n\u001b[0;32m-> 1448\u001b[0;31m             \u001b[0midx\u001b[0m\u001b[0;34m,\u001b[0m \u001b[0mdata\u001b[0m \u001b[0;34m=\u001b[0m \u001b[0mself\u001b[0m\u001b[0;34m.\u001b[0m\u001b[0m_get_data\u001b[0m\u001b[0;34m(\u001b[0m\u001b[0;34m)\u001b[0m\u001b[0;34m\u001b[0m\u001b[0;34m\u001b[0m\u001b[0m\n\u001b[0m\u001b[1;32m   1449\u001b[0m             \u001b[0mself\u001b[0m\u001b[0;34m.\u001b[0m\u001b[0m_tasks_outstanding\u001b[0m \u001b[0;34m-=\u001b[0m \u001b[0;36m1\u001b[0m\u001b[0;34m\u001b[0m\u001b[0;34m\u001b[0m\u001b[0m\n\u001b[1;32m   1450\u001b[0m             \u001b[0;32mif\u001b[0m \u001b[0mself\u001b[0m\u001b[0;34m.\u001b[0m\u001b[0m_dataset_kind\u001b[0m \u001b[0;34m==\u001b[0m \u001b[0m_DatasetKind\u001b[0m\u001b[0;34m.\u001b[0m\u001b[0mIterable\u001b[0m\u001b[0;34m:\u001b[0m\u001b[0;34m\u001b[0m\u001b[0;34m\u001b[0m\u001b[0m\n",
            "\u001b[0;32m/usr/local/lib/python3.10/dist-packages/torch/utils/data/dataloader.py\u001b[0m in \u001b[0;36m_get_data\u001b[0;34m(self)\u001b[0m\n\u001b[1;32m   1410\u001b[0m         \u001b[0;32melse\u001b[0m\u001b[0;34m:\u001b[0m\u001b[0;34m\u001b[0m\u001b[0;34m\u001b[0m\u001b[0m\n\u001b[1;32m   1411\u001b[0m             \u001b[0;32mwhile\u001b[0m \u001b[0;32mTrue\u001b[0m\u001b[0;34m:\u001b[0m\u001b[0;34m\u001b[0m\u001b[0;34m\u001b[0m\u001b[0m\n\u001b[0;32m-> 1412\u001b[0;31m                 \u001b[0msuccess\u001b[0m\u001b[0;34m,\u001b[0m \u001b[0mdata\u001b[0m \u001b[0;34m=\u001b[0m \u001b[0mself\u001b[0m\u001b[0;34m.\u001b[0m\u001b[0m_try_get_data\u001b[0m\u001b[0;34m(\u001b[0m\u001b[0;34m)\u001b[0m\u001b[0;34m\u001b[0m\u001b[0;34m\u001b[0m\u001b[0m\n\u001b[0m\u001b[1;32m   1413\u001b[0m                 \u001b[0;32mif\u001b[0m \u001b[0msuccess\u001b[0m\u001b[0;34m:\u001b[0m\u001b[0;34m\u001b[0m\u001b[0;34m\u001b[0m\u001b[0m\n\u001b[1;32m   1414\u001b[0m                     \u001b[0;32mreturn\u001b[0m \u001b[0mdata\u001b[0m\u001b[0;34m\u001b[0m\u001b[0;34m\u001b[0m\u001b[0m\n",
            "\u001b[0;32m/usr/local/lib/python3.10/dist-packages/torch/utils/data/dataloader.py\u001b[0m in \u001b[0;36m_try_get_data\u001b[0;34m(self, timeout)\u001b[0m\n\u001b[1;32m   1241\u001b[0m         \u001b[0;31m#   (bool: whether successfully get data, any: data if successful else None)\u001b[0m\u001b[0;34m\u001b[0m\u001b[0;34m\u001b[0m\u001b[0m\n\u001b[1;32m   1242\u001b[0m         \u001b[0;32mtry\u001b[0m\u001b[0;34m:\u001b[0m\u001b[0;34m\u001b[0m\u001b[0;34m\u001b[0m\u001b[0m\n\u001b[0;32m-> 1243\u001b[0;31m             \u001b[0mdata\u001b[0m \u001b[0;34m=\u001b[0m \u001b[0mself\u001b[0m\u001b[0;34m.\u001b[0m\u001b[0m_data_queue\u001b[0m\u001b[0;34m.\u001b[0m\u001b[0mget\u001b[0m\u001b[0;34m(\u001b[0m\u001b[0mtimeout\u001b[0m\u001b[0;34m=\u001b[0m\u001b[0mtimeout\u001b[0m\u001b[0;34m)\u001b[0m\u001b[0;34m\u001b[0m\u001b[0;34m\u001b[0m\u001b[0m\n\u001b[0m\u001b[1;32m   1244\u001b[0m             \u001b[0;32mreturn\u001b[0m \u001b[0;34m(\u001b[0m\u001b[0;32mTrue\u001b[0m\u001b[0;34m,\u001b[0m \u001b[0mdata\u001b[0m\u001b[0;34m)\u001b[0m\u001b[0;34m\u001b[0m\u001b[0;34m\u001b[0m\u001b[0m\n\u001b[1;32m   1245\u001b[0m         \u001b[0;32mexcept\u001b[0m \u001b[0mException\u001b[0m \u001b[0;32mas\u001b[0m \u001b[0me\u001b[0m\u001b[0;34m:\u001b[0m\u001b[0;34m\u001b[0m\u001b[0;34m\u001b[0m\u001b[0m\n",
            "\u001b[0;32m/usr/lib/python3.10/multiprocessing/queues.py\u001b[0m in \u001b[0;36mget\u001b[0;34m(self, block, timeout)\u001b[0m\n\u001b[1;32m    111\u001b[0m                 \u001b[0;32mif\u001b[0m \u001b[0mblock\u001b[0m\u001b[0;34m:\u001b[0m\u001b[0;34m\u001b[0m\u001b[0;34m\u001b[0m\u001b[0m\n\u001b[1;32m    112\u001b[0m                     \u001b[0mtimeout\u001b[0m \u001b[0;34m=\u001b[0m \u001b[0mdeadline\u001b[0m \u001b[0;34m-\u001b[0m \u001b[0mtime\u001b[0m\u001b[0;34m.\u001b[0m\u001b[0mmonotonic\u001b[0m\u001b[0;34m(\u001b[0m\u001b[0;34m)\u001b[0m\u001b[0;34m\u001b[0m\u001b[0;34m\u001b[0m\u001b[0m\n\u001b[0;32m--> 113\u001b[0;31m                     \u001b[0;32mif\u001b[0m \u001b[0;32mnot\u001b[0m \u001b[0mself\u001b[0m\u001b[0;34m.\u001b[0m\u001b[0m_poll\u001b[0m\u001b[0;34m(\u001b[0m\u001b[0mtimeout\u001b[0m\u001b[0;34m)\u001b[0m\u001b[0;34m:\u001b[0m\u001b[0;34m\u001b[0m\u001b[0;34m\u001b[0m\u001b[0m\n\u001b[0m\u001b[1;32m    114\u001b[0m                         \u001b[0;32mraise\u001b[0m \u001b[0mEmpty\u001b[0m\u001b[0;34m\u001b[0m\u001b[0;34m\u001b[0m\u001b[0m\n\u001b[1;32m    115\u001b[0m                 \u001b[0;32melif\u001b[0m \u001b[0;32mnot\u001b[0m \u001b[0mself\u001b[0m\u001b[0;34m.\u001b[0m\u001b[0m_poll\u001b[0m\u001b[0;34m(\u001b[0m\u001b[0;34m)\u001b[0m\u001b[0;34m:\u001b[0m\u001b[0;34m\u001b[0m\u001b[0;34m\u001b[0m\u001b[0m\n",
            "\u001b[0;32m/usr/lib/python3.10/multiprocessing/connection.py\u001b[0m in \u001b[0;36mpoll\u001b[0;34m(self, timeout)\u001b[0m\n\u001b[1;32m    255\u001b[0m         \u001b[0mself\u001b[0m\u001b[0;34m.\u001b[0m\u001b[0m_check_closed\u001b[0m\u001b[0;34m(\u001b[0m\u001b[0;34m)\u001b[0m\u001b[0;34m\u001b[0m\u001b[0;34m\u001b[0m\u001b[0m\n\u001b[1;32m    256\u001b[0m         \u001b[0mself\u001b[0m\u001b[0;34m.\u001b[0m\u001b[0m_check_readable\u001b[0m\u001b[0;34m(\u001b[0m\u001b[0;34m)\u001b[0m\u001b[0;34m\u001b[0m\u001b[0;34m\u001b[0m\u001b[0m\n\u001b[0;32m--> 257\u001b[0;31m         \u001b[0;32mreturn\u001b[0m \u001b[0mself\u001b[0m\u001b[0;34m.\u001b[0m\u001b[0m_poll\u001b[0m\u001b[0;34m(\u001b[0m\u001b[0mtimeout\u001b[0m\u001b[0;34m)\u001b[0m\u001b[0;34m\u001b[0m\u001b[0;34m\u001b[0m\u001b[0m\n\u001b[0m\u001b[1;32m    258\u001b[0m \u001b[0;34m\u001b[0m\u001b[0m\n\u001b[1;32m    259\u001b[0m     \u001b[0;32mdef\u001b[0m \u001b[0m__enter__\u001b[0m\u001b[0;34m(\u001b[0m\u001b[0mself\u001b[0m\u001b[0;34m)\u001b[0m\u001b[0;34m:\u001b[0m\u001b[0;34m\u001b[0m\u001b[0;34m\u001b[0m\u001b[0m\n",
            "\u001b[0;32m/usr/lib/python3.10/multiprocessing/connection.py\u001b[0m in \u001b[0;36m_poll\u001b[0;34m(self, timeout)\u001b[0m\n\u001b[1;32m    422\u001b[0m \u001b[0;34m\u001b[0m\u001b[0m\n\u001b[1;32m    423\u001b[0m     \u001b[0;32mdef\u001b[0m \u001b[0m_poll\u001b[0m\u001b[0;34m(\u001b[0m\u001b[0mself\u001b[0m\u001b[0;34m,\u001b[0m \u001b[0mtimeout\u001b[0m\u001b[0;34m)\u001b[0m\u001b[0;34m:\u001b[0m\u001b[0;34m\u001b[0m\u001b[0;34m\u001b[0m\u001b[0m\n\u001b[0;32m--> 424\u001b[0;31m         \u001b[0mr\u001b[0m \u001b[0;34m=\u001b[0m \u001b[0mwait\u001b[0m\u001b[0;34m(\u001b[0m\u001b[0;34m[\u001b[0m\u001b[0mself\u001b[0m\u001b[0;34m]\u001b[0m\u001b[0;34m,\u001b[0m \u001b[0mtimeout\u001b[0m\u001b[0;34m)\u001b[0m\u001b[0;34m\u001b[0m\u001b[0;34m\u001b[0m\u001b[0m\n\u001b[0m\u001b[1;32m    425\u001b[0m         \u001b[0;32mreturn\u001b[0m \u001b[0mbool\u001b[0m\u001b[0;34m(\u001b[0m\u001b[0mr\u001b[0m\u001b[0;34m)\u001b[0m\u001b[0;34m\u001b[0m\u001b[0;34m\u001b[0m\u001b[0m\n\u001b[1;32m    426\u001b[0m \u001b[0;34m\u001b[0m\u001b[0m\n",
            "\u001b[0;32m/usr/lib/python3.10/multiprocessing/connection.py\u001b[0m in \u001b[0;36mwait\u001b[0;34m(object_list, timeout)\u001b[0m\n\u001b[1;32m    929\u001b[0m \u001b[0;34m\u001b[0m\u001b[0m\n\u001b[1;32m    930\u001b[0m             \u001b[0;32mwhile\u001b[0m \u001b[0;32mTrue\u001b[0m\u001b[0;34m:\u001b[0m\u001b[0;34m\u001b[0m\u001b[0;34m\u001b[0m\u001b[0m\n\u001b[0;32m--> 931\u001b[0;31m                 \u001b[0mready\u001b[0m \u001b[0;34m=\u001b[0m \u001b[0mselector\u001b[0m\u001b[0;34m.\u001b[0m\u001b[0mselect\u001b[0m\u001b[0;34m(\u001b[0m\u001b[0mtimeout\u001b[0m\u001b[0;34m)\u001b[0m\u001b[0;34m\u001b[0m\u001b[0;34m\u001b[0m\u001b[0m\n\u001b[0m\u001b[1;32m    932\u001b[0m                 \u001b[0;32mif\u001b[0m \u001b[0mready\u001b[0m\u001b[0;34m:\u001b[0m\u001b[0;34m\u001b[0m\u001b[0;34m\u001b[0m\u001b[0m\n\u001b[1;32m    933\u001b[0m                     \u001b[0;32mreturn\u001b[0m \u001b[0;34m[\u001b[0m\u001b[0mkey\u001b[0m\u001b[0;34m.\u001b[0m\u001b[0mfileobj\u001b[0m \u001b[0;32mfor\u001b[0m \u001b[0;34m(\u001b[0m\u001b[0mkey\u001b[0m\u001b[0;34m,\u001b[0m \u001b[0mevents\u001b[0m\u001b[0;34m)\u001b[0m \u001b[0;32min\u001b[0m \u001b[0mready\u001b[0m\u001b[0;34m]\u001b[0m\u001b[0;34m\u001b[0m\u001b[0;34m\u001b[0m\u001b[0m\n",
            "\u001b[0;32m/usr/lib/python3.10/selectors.py\u001b[0m in \u001b[0;36mselect\u001b[0;34m(self, timeout)\u001b[0m\n\u001b[1;32m    414\u001b[0m         \u001b[0mready\u001b[0m \u001b[0;34m=\u001b[0m \u001b[0;34m[\u001b[0m\u001b[0;34m]\u001b[0m\u001b[0;34m\u001b[0m\u001b[0;34m\u001b[0m\u001b[0m\n\u001b[1;32m    415\u001b[0m         \u001b[0;32mtry\u001b[0m\u001b[0;34m:\u001b[0m\u001b[0;34m\u001b[0m\u001b[0;34m\u001b[0m\u001b[0m\n\u001b[0;32m--> 416\u001b[0;31m             \u001b[0mfd_event_list\u001b[0m \u001b[0;34m=\u001b[0m \u001b[0mself\u001b[0m\u001b[0;34m.\u001b[0m\u001b[0m_selector\u001b[0m\u001b[0;34m.\u001b[0m\u001b[0mpoll\u001b[0m\u001b[0;34m(\u001b[0m\u001b[0mtimeout\u001b[0m\u001b[0;34m)\u001b[0m\u001b[0;34m\u001b[0m\u001b[0;34m\u001b[0m\u001b[0m\n\u001b[0m\u001b[1;32m    417\u001b[0m         \u001b[0;32mexcept\u001b[0m \u001b[0mInterruptedError\u001b[0m\u001b[0;34m:\u001b[0m\u001b[0;34m\u001b[0m\u001b[0;34m\u001b[0m\u001b[0m\n\u001b[1;32m    418\u001b[0m             \u001b[0;32mreturn\u001b[0m \u001b[0mready\u001b[0m\u001b[0;34m\u001b[0m\u001b[0;34m\u001b[0m\u001b[0m\n",
            "\u001b[0;31mKeyboardInterrupt\u001b[0m: "
          ]
        }
      ],
      "source": [
        "%run large_batch_training.py --optimizer SGDM --batch-size 128 --weight-decay 4e-4"
      ]
    },
    {
      "cell_type": "markdown",
      "metadata": {
        "id": "_2t__56QmDKL"
      },
      "source": []
    },
    {
      "cell_type": "code",
      "execution_count": null,
      "metadata": {
        "colab": {
          "base_uri": "https://localhost:8080/"
        },
        "id": "FqIzBQKfZFgB",
        "outputId": "beff2b9d-73ac-4a8d-ed6e-51a1140977bb"
      },
      "outputs": [
        {
          "output_type": "stream",
          "name": "stdout",
          "text": [
            "Files already downloaded and verified\n",
            "Files already downloaded and verified\n",
            "Files already downloaded and verified\n",
            "Files already downloaded and verified\n",
            "--- Train with AdamW ---\n"
          ]
        }
      ],
      "source": [
        "%run large_batch_training.py --optimizer AdamW --batch-size 128 --weight-decay 1e-2"
      ]
    },
    {
      "cell_type": "code",
      "execution_count": null,
      "metadata": {
        "colab": {
          "base_uri": "https://localhost:8080/"
        },
        "id": "_Y8TL9oBZL18",
        "outputId": "54fc2f89-7e7d-461b-fce6-1f0da7310a06"
      },
      "outputs": [
        {
          "name": "stdout",
          "output_type": "stream",
          "text": [
            "Files already downloaded and verified\n",
            "Files already downloaded and verified\n",
            "--- Train with LARS ---\n"
          ]
        }
      ],
      "source": [
        "%run large_batch_training.py --optimizer LARS --batch-size 128 --weight-decay 4e-4"
      ]
    },
    {
      "cell_type": "code",
      "execution_count": 2,
      "metadata": {
        "colab": {
          "base_uri": "https://localhost:8080/",
          "height": 1000
        },
        "id": "K_XY2BkhZOkY",
        "outputId": "2efd4da0-4efe-40dd-e272-bab4bec5aebb"
      },
      "outputs": [
        {
          "output_type": "stream",
          "name": "stdout",
          "text": [
            "Downloading https://www.cs.toronto.edu/~kriz/cifar-100-python.tar.gz to ./data/cifar-100-python.tar.gz\n"
          ]
        },
        {
          "output_type": "stream",
          "name": "stderr",
          "text": [
            "100%|██████████| 169M/169M [00:13<00:00, 12.9MB/s]\n"
          ]
        },
        {
          "output_type": "stream",
          "name": "stdout",
          "text": [
            "Extracting ./data/cifar-100-python.tar.gz to ./data\n",
            "Files already downloaded and verified\n",
            "Files already downloaded and verified\n",
            "Files already downloaded and verified\n",
            "--- Train with LAMB ---\n",
            "Epoch 1/150, Train Acc: 1.40%, Val Acc: 2.30%, Test Acc: 1.65%\n",
            "Epoch 1/150, Train Loss: 4.6018, Val Loss: 4.5919, Test Loss: 4.5935\n",
            "Epoch 2/150, Train Acc: 1.85%, Val Acc: 3.27%, Test Acc: 2.90%\n",
            "Epoch 2/150, Train Loss: 4.5699, Val Loss: 4.5123, Test Loss: 4.5170\n",
            "Epoch 3/150, Train Acc: 3.53%, Val Acc: 5.68%, Test Acc: 5.29%\n",
            "Epoch 3/150, Train Loss: 4.4485, Val Loss: 4.2706, Test Loss: 4.2939\n",
            "Epoch 4/150, Train Acc: 5.44%, Val Acc: 7.43%, Test Acc: 6.84%\n",
            "Epoch 4/150, Train Loss: 4.2585, Val Loss: 4.0834, Test Loss: 4.1157\n",
            "Warmup phase completed at epoch 5. Switching to constant learning rate.\n",
            "Epoch 5/150, Train Acc: 6.88%, Val Acc: 9.70%, Test Acc: 8.60%\n",
            "Epoch 5/150, Train Loss: 4.1553, Val Loss: 3.9843, Test Loss: 4.0367\n",
            "Epoch 6/150, Train Acc: 8.22%, Val Acc: 10.79%, Test Acc: 10.85%\n",
            "Epoch 6/150, Train Loss: 4.0669, Val Loss: 3.8812, Test Loss: 3.9189\n",
            "Epoch 7/150, Train Acc: 9.57%, Val Acc: 12.23%, Test Acc: 11.90%\n",
            "Epoch 7/150, Train Loss: 3.9762, Val Loss: 3.7901, Test Loss: 3.8506\n",
            "Epoch 8/150, Train Acc: 10.82%, Val Acc: 13.99%, Test Acc: 12.65%\n",
            "Epoch 8/150, Train Loss: 3.9056, Val Loss: 3.6989, Test Loss: 3.7811\n",
            "Epoch 9/150, Train Acc: 11.97%, Val Acc: 15.34%, Test Acc: 14.02%\n",
            "Epoch 9/150, Train Loss: 3.8246, Val Loss: 3.6178, Test Loss: 3.7056\n",
            "Checkpoint saved at epoch 10: ./checkpoint_epoch_10.pth\n"
          ]
        },
        {
          "output_type": "display_data",
          "data": {
            "text/plain": [
              "<IPython.core.display.Javascript object>"
            ],
            "application/javascript": [
              "\n",
              "    async function download(id, filename, size) {\n",
              "      if (!google.colab.kernel.accessAllowed) {\n",
              "        return;\n",
              "      }\n",
              "      const div = document.createElement('div');\n",
              "      const label = document.createElement('label');\n",
              "      label.textContent = `Downloading \"${filename}\": `;\n",
              "      div.appendChild(label);\n",
              "      const progress = document.createElement('progress');\n",
              "      progress.max = size;\n",
              "      div.appendChild(progress);\n",
              "      document.body.appendChild(div);\n",
              "\n",
              "      const buffers = [];\n",
              "      let downloaded = 0;\n",
              "\n",
              "      const channel = await google.colab.kernel.comms.open(id);\n",
              "      // Send a message to notify the kernel that we're ready.\n",
              "      channel.send({})\n",
              "\n",
              "      for await (const message of channel.messages) {\n",
              "        // Send a message to notify the kernel that we're ready.\n",
              "        channel.send({})\n",
              "        if (message.buffers) {\n",
              "          for (const buffer of message.buffers) {\n",
              "            buffers.push(buffer);\n",
              "            downloaded += buffer.byteLength;\n",
              "            progress.value = downloaded;\n",
              "          }\n",
              "        }\n",
              "      }\n",
              "      const blob = new Blob(buffers, {type: 'application/binary'});\n",
              "      const a = document.createElement('a');\n",
              "      a.href = window.URL.createObjectURL(blob);\n",
              "      a.download = filename;\n",
              "      div.appendChild(a);\n",
              "      a.click();\n",
              "      div.remove();\n",
              "    }\n",
              "  "
            ]
          },
          "metadata": {}
        },
        {
          "output_type": "display_data",
          "data": {
            "text/plain": [
              "<IPython.core.display.Javascript object>"
            ],
            "application/javascript": [
              "download(\"download_c29b9094-5734-431e-a1b8-26f3545bf23a\", \"checkpoint_epoch_10.pth\", 9794388)"
            ]
          },
          "metadata": {}
        },
        {
          "output_type": "stream",
          "name": "stdout",
          "text": [
            "Epoch 10/150, Train Acc: 13.06%, Val Acc: 16.48%, Test Acc: 14.46%\n",
            "Epoch 10/150, Train Loss: 3.7603, Val Loss: 3.5553, Test Loss: 3.6595\n",
            "Epoch 11/150, Train Acc: 14.07%, Val Acc: 17.73%, Test Acc: 15.52%\n",
            "Epoch 11/150, Train Loss: 3.7013, Val Loss: 3.4958, Test Loss: 3.6013\n",
            "Epoch 12/150, Train Acc: 14.95%, Val Acc: 18.09%, Test Acc: 16.08%\n",
            "Epoch 12/150, Train Loss: 3.6444, Val Loss: 3.4486, Test Loss: 3.5651\n",
            "Epoch 13/150, Train Acc: 15.79%, Val Acc: 19.97%, Test Acc: 16.68%\n",
            "Epoch 13/150, Train Loss: 3.5977, Val Loss: 3.3879, Test Loss: 3.5361\n",
            "Epoch 14/150, Train Acc: 16.49%, Val Acc: 19.53%, Test Acc: 17.95%\n",
            "Epoch 14/150, Train Loss: 3.5591, Val Loss: 3.3707, Test Loss: 3.4766\n",
            "Epoch 15/150, Train Acc: 17.03%, Val Acc: 20.78%, Test Acc: 17.61%\n",
            "Epoch 15/150, Train Loss: 3.5196, Val Loss: 3.3271, Test Loss: 3.4620\n",
            "Epoch 16/150, Train Acc: 17.54%, Val Acc: 21.34%, Test Acc: 17.71%\n",
            "Epoch 16/150, Train Loss: 3.4912, Val Loss: 3.2910, Test Loss: 3.4417\n",
            "Epoch 17/150, Train Acc: 18.70%, Val Acc: 21.05%, Test Acc: 18.57%\n",
            "Epoch 17/150, Train Loss: 3.4421, Val Loss: 3.2858, Test Loss: 3.4259\n",
            "Epoch 18/150, Train Acc: 18.95%, Val Acc: 22.70%, Test Acc: 19.81%\n",
            "Epoch 18/150, Train Loss: 3.4144, Val Loss: 3.2182, Test Loss: 3.3755\n",
            "Epoch 19/150, Train Acc: 19.70%, Val Acc: 22.41%, Test Acc: 19.68%\n",
            "Epoch 19/150, Train Loss: 3.3887, Val Loss: 3.2282, Test Loss: 3.3516\n",
            "Checkpoint saved at epoch 20: ./checkpoint_epoch_20.pth\n"
          ]
        },
        {
          "output_type": "display_data",
          "data": {
            "text/plain": [
              "<IPython.core.display.Javascript object>"
            ],
            "application/javascript": [
              "\n",
              "    async function download(id, filename, size) {\n",
              "      if (!google.colab.kernel.accessAllowed) {\n",
              "        return;\n",
              "      }\n",
              "      const div = document.createElement('div');\n",
              "      const label = document.createElement('label');\n",
              "      label.textContent = `Downloading \"${filename}\": `;\n",
              "      div.appendChild(label);\n",
              "      const progress = document.createElement('progress');\n",
              "      progress.max = size;\n",
              "      div.appendChild(progress);\n",
              "      document.body.appendChild(div);\n",
              "\n",
              "      const buffers = [];\n",
              "      let downloaded = 0;\n",
              "\n",
              "      const channel = await google.colab.kernel.comms.open(id);\n",
              "      // Send a message to notify the kernel that we're ready.\n",
              "      channel.send({})\n",
              "\n",
              "      for await (const message of channel.messages) {\n",
              "        // Send a message to notify the kernel that we're ready.\n",
              "        channel.send({})\n",
              "        if (message.buffers) {\n",
              "          for (const buffer of message.buffers) {\n",
              "            buffers.push(buffer);\n",
              "            downloaded += buffer.byteLength;\n",
              "            progress.value = downloaded;\n",
              "          }\n",
              "        }\n",
              "      }\n",
              "      const blob = new Blob(buffers, {type: 'application/binary'});\n",
              "      const a = document.createElement('a');\n",
              "      a.href = window.URL.createObjectURL(blob);\n",
              "      a.download = filename;\n",
              "      div.appendChild(a);\n",
              "      a.click();\n",
              "      div.remove();\n",
              "    }\n",
              "  "
            ]
          },
          "metadata": {}
        },
        {
          "output_type": "display_data",
          "data": {
            "text/plain": [
              "<IPython.core.display.Javascript object>"
            ],
            "application/javascript": [
              "download(\"download_53e4a512-b9df-46af-8bca-da99db6f8c7e\", \"checkpoint_epoch_20.pth\", 9794388)"
            ]
          },
          "metadata": {}
        },
        {
          "output_type": "stream",
          "name": "stdout",
          "text": [
            "Epoch 20/150, Train Acc: 19.67%, Val Acc: 24.25%, Test Acc: 19.93%\n",
            "Epoch 20/150, Train Loss: 3.3653, Val Loss: 3.1645, Test Loss: 3.3292\n",
            "Epoch 21/150, Train Acc: 20.47%, Val Acc: 24.04%, Test Acc: 21.12%\n",
            "Epoch 21/150, Train Loss: 3.3254, Val Loss: 3.1469, Test Loss: 3.2998\n",
            "Epoch 22/150, Train Acc: 21.08%, Val Acc: 24.52%, Test Acc: 21.29%\n",
            "Epoch 22/150, Train Loss: 3.3001, Val Loss: 3.1331, Test Loss: 3.2732\n",
            "Epoch 23/150, Train Acc: 21.45%, Val Acc: 25.12%, Test Acc: 20.64%\n",
            "Epoch 23/150, Train Loss: 3.2760, Val Loss: 3.0995, Test Loss: 3.3045\n",
            "Epoch 24/150, Train Acc: 22.37%, Val Acc: 25.95%, Test Acc: 22.28%\n",
            "Epoch 24/150, Train Loss: 3.2437, Val Loss: 3.0629, Test Loss: 3.2242\n",
            "Epoch 25/150, Train Acc: 22.61%, Val Acc: 26.30%, Test Acc: 22.67%\n",
            "Epoch 25/150, Train Loss: 3.2118, Val Loss: 3.0423, Test Loss: 3.2076\n",
            "Epoch 26/150, Train Acc: 23.09%, Val Acc: 26.76%, Test Acc: 23.21%\n",
            "Epoch 26/150, Train Loss: 3.2010, Val Loss: 3.0192, Test Loss: 3.1778\n",
            "Epoch 27/150, Train Acc: 23.76%, Val Acc: 27.08%, Test Acc: 23.65%\n",
            "Epoch 27/150, Train Loss: 3.1593, Val Loss: 2.9914, Test Loss: 3.1520\n",
            "Epoch 28/150, Train Acc: 23.91%, Val Acc: 27.76%, Test Acc: 23.54%\n",
            "Epoch 28/150, Train Loss: 3.1468, Val Loss: 2.9670, Test Loss: 3.1508\n",
            "Epoch 29/150, Train Acc: 24.68%, Val Acc: 27.86%, Test Acc: 24.44%\n",
            "Epoch 29/150, Train Loss: 3.1124, Val Loss: 2.9540, Test Loss: 3.1174\n",
            "Checkpoint saved at epoch 30: ./checkpoint_epoch_30.pth\n"
          ]
        },
        {
          "output_type": "display_data",
          "data": {
            "text/plain": [
              "<IPython.core.display.Javascript object>"
            ],
            "application/javascript": [
              "\n",
              "    async function download(id, filename, size) {\n",
              "      if (!google.colab.kernel.accessAllowed) {\n",
              "        return;\n",
              "      }\n",
              "      const div = document.createElement('div');\n",
              "      const label = document.createElement('label');\n",
              "      label.textContent = `Downloading \"${filename}\": `;\n",
              "      div.appendChild(label);\n",
              "      const progress = document.createElement('progress');\n",
              "      progress.max = size;\n",
              "      div.appendChild(progress);\n",
              "      document.body.appendChild(div);\n",
              "\n",
              "      const buffers = [];\n",
              "      let downloaded = 0;\n",
              "\n",
              "      const channel = await google.colab.kernel.comms.open(id);\n",
              "      // Send a message to notify the kernel that we're ready.\n",
              "      channel.send({})\n",
              "\n",
              "      for await (const message of channel.messages) {\n",
              "        // Send a message to notify the kernel that we're ready.\n",
              "        channel.send({})\n",
              "        if (message.buffers) {\n",
              "          for (const buffer of message.buffers) {\n",
              "            buffers.push(buffer);\n",
              "            downloaded += buffer.byteLength;\n",
              "            progress.value = downloaded;\n",
              "          }\n",
              "        }\n",
              "      }\n",
              "      const blob = new Blob(buffers, {type: 'application/binary'});\n",
              "      const a = document.createElement('a');\n",
              "      a.href = window.URL.createObjectURL(blob);\n",
              "      a.download = filename;\n",
              "      div.appendChild(a);\n",
              "      a.click();\n",
              "      div.remove();\n",
              "    }\n",
              "  "
            ]
          },
          "metadata": {}
        },
        {
          "output_type": "display_data",
          "data": {
            "text/plain": [
              "<IPython.core.display.Javascript object>"
            ],
            "application/javascript": [
              "download(\"download_d92fe9ac-ac90-4327-b50b-5f9d34687a3c\", \"checkpoint_epoch_30.pth\", 9794388)"
            ]
          },
          "metadata": {}
        },
        {
          "output_type": "stream",
          "name": "stdout",
          "text": [
            "Epoch 30/150, Train Acc: 24.75%, Val Acc: 28.14%, Test Acc: 25.03%\n",
            "Epoch 30/150, Train Loss: 3.0912, Val Loss: 2.9276, Test Loss: 3.1028\n",
            "Epoch 31/150, Train Acc: 25.36%, Val Acc: 29.60%, Test Acc: 24.26%\n",
            "Epoch 31/150, Train Loss: 3.0646, Val Loss: 2.8855, Test Loss: 3.1260\n",
            "Epoch 32/150, Train Acc: 25.93%, Val Acc: 29.24%, Test Acc: 25.46%\n",
            "Epoch 32/150, Train Loss: 3.0441, Val Loss: 2.8970, Test Loss: 3.0727\n",
            "Epoch 33/150, Train Acc: 26.27%, Val Acc: 29.81%, Test Acc: 24.60%\n",
            "Epoch 33/150, Train Loss: 3.0289, Val Loss: 2.8575, Test Loss: 3.0928\n",
            "Epoch 34/150, Train Acc: 26.55%, Val Acc: 30.54%, Test Acc: 26.40%\n",
            "Epoch 34/150, Train Loss: 2.9996, Val Loss: 2.8193, Test Loss: 3.0129\n",
            "Epoch 35/150, Train Acc: 26.98%, Val Acc: 30.79%, Test Acc: 26.25%\n",
            "Epoch 35/150, Train Loss: 2.9779, Val Loss: 2.8067, Test Loss: 3.0071\n",
            "Epoch 36/150, Train Acc: 27.16%, Val Acc: 30.82%, Test Acc: 27.42%\n",
            "Epoch 36/150, Train Loss: 2.9592, Val Loss: 2.8025, Test Loss: 2.9528\n",
            "Epoch 37/150, Train Acc: 27.84%, Val Acc: 31.89%, Test Acc: 26.86%\n",
            "Epoch 37/150, Train Loss: 2.9372, Val Loss: 2.7647, Test Loss: 2.9901\n",
            "Epoch 38/150, Train Acc: 28.17%, Val Acc: 31.95%, Test Acc: 27.95%\n",
            "Epoch 38/150, Train Loss: 2.9203, Val Loss: 2.7518, Test Loss: 2.9393\n",
            "Epoch 39/150, Train Acc: 28.64%, Val Acc: 32.47%, Test Acc: 28.21%\n",
            "Epoch 39/150, Train Loss: 2.8953, Val Loss: 2.7317, Test Loss: 2.9292\n",
            "Checkpoint saved at epoch 40: ./checkpoint_epoch_40.pth\n"
          ]
        },
        {
          "output_type": "display_data",
          "data": {
            "text/plain": [
              "<IPython.core.display.Javascript object>"
            ],
            "application/javascript": [
              "\n",
              "    async function download(id, filename, size) {\n",
              "      if (!google.colab.kernel.accessAllowed) {\n",
              "        return;\n",
              "      }\n",
              "      const div = document.createElement('div');\n",
              "      const label = document.createElement('label');\n",
              "      label.textContent = `Downloading \"${filename}\": `;\n",
              "      div.appendChild(label);\n",
              "      const progress = document.createElement('progress');\n",
              "      progress.max = size;\n",
              "      div.appendChild(progress);\n",
              "      document.body.appendChild(div);\n",
              "\n",
              "      const buffers = [];\n",
              "      let downloaded = 0;\n",
              "\n",
              "      const channel = await google.colab.kernel.comms.open(id);\n",
              "      // Send a message to notify the kernel that we're ready.\n",
              "      channel.send({})\n",
              "\n",
              "      for await (const message of channel.messages) {\n",
              "        // Send a message to notify the kernel that we're ready.\n",
              "        channel.send({})\n",
              "        if (message.buffers) {\n",
              "          for (const buffer of message.buffers) {\n",
              "            buffers.push(buffer);\n",
              "            downloaded += buffer.byteLength;\n",
              "            progress.value = downloaded;\n",
              "          }\n",
              "        }\n",
              "      }\n",
              "      const blob = new Blob(buffers, {type: 'application/binary'});\n",
              "      const a = document.createElement('a');\n",
              "      a.href = window.URL.createObjectURL(blob);\n",
              "      a.download = filename;\n",
              "      div.appendChild(a);\n",
              "      a.click();\n",
              "      div.remove();\n",
              "    }\n",
              "  "
            ]
          },
          "metadata": {}
        },
        {
          "output_type": "display_data",
          "data": {
            "text/plain": [
              "<IPython.core.display.Javascript object>"
            ],
            "application/javascript": [
              "download(\"download_713e9203-912c-40df-85b6-9cb85b748b73\", \"checkpoint_epoch_40.pth\", 9794388)"
            ]
          },
          "metadata": {}
        },
        {
          "output_type": "stream",
          "name": "stdout",
          "text": [
            "Epoch 40/150, Train Acc: 28.61%, Val Acc: 33.04%, Test Acc: 27.84%\n",
            "Epoch 40/150, Train Loss: 2.8881, Val Loss: 2.7091, Test Loss: 2.9493\n",
            "Epoch 41/150, Train Acc: 29.37%, Val Acc: 32.66%, Test Acc: 28.47%\n",
            "Epoch 41/150, Train Loss: 2.8574, Val Loss: 2.7084, Test Loss: 2.9138\n",
            "Epoch 42/150, Train Acc: 29.57%, Val Acc: 32.92%, Test Acc: 28.36%\n",
            "Epoch 42/150, Train Loss: 2.8416, Val Loss: 2.7132, Test Loss: 2.9106\n",
            "Epoch 43/150, Train Acc: 30.19%, Val Acc: 33.64%, Test Acc: 28.28%\n",
            "Epoch 43/150, Train Loss: 2.8236, Val Loss: 2.6681, Test Loss: 2.9090\n",
            "Epoch 44/150, Train Acc: 29.97%, Val Acc: 34.06%, Test Acc: 28.73%\n",
            "Epoch 44/150, Train Loss: 2.8161, Val Loss: 2.6533, Test Loss: 2.9000\n",
            "Epoch 45/150, Train Acc: 30.57%, Val Acc: 34.18%, Test Acc: 29.62%\n",
            "Epoch 45/150, Train Loss: 2.8000, Val Loss: 2.6446, Test Loss: 2.8483\n",
            "Epoch 46/150, Train Acc: 31.00%, Val Acc: 34.73%, Test Acc: 29.66%\n",
            "Epoch 46/150, Train Loss: 2.7778, Val Loss: 2.6256, Test Loss: 2.8454\n",
            "Epoch 47/150, Train Acc: 31.11%, Val Acc: 34.33%, Test Acc: 28.86%\n",
            "Epoch 47/150, Train Loss: 2.7710, Val Loss: 2.6215, Test Loss: 2.8562\n",
            "Epoch 48/150, Train Acc: 31.05%, Val Acc: 34.76%, Test Acc: 30.10%\n",
            "Epoch 48/150, Train Loss: 2.7571, Val Loss: 2.5984, Test Loss: 2.8148\n",
            "Epoch 49/150, Train Acc: 31.31%, Val Acc: 34.74%, Test Acc: 29.01%\n",
            "Epoch 49/150, Train Loss: 2.7441, Val Loss: 2.6206, Test Loss: 2.8609\n",
            "Checkpoint saved at epoch 50: ./checkpoint_epoch_50.pth\n"
          ]
        },
        {
          "output_type": "display_data",
          "data": {
            "text/plain": [
              "<IPython.core.display.Javascript object>"
            ],
            "application/javascript": [
              "\n",
              "    async function download(id, filename, size) {\n",
              "      if (!google.colab.kernel.accessAllowed) {\n",
              "        return;\n",
              "      }\n",
              "      const div = document.createElement('div');\n",
              "      const label = document.createElement('label');\n",
              "      label.textContent = `Downloading \"${filename}\": `;\n",
              "      div.appendChild(label);\n",
              "      const progress = document.createElement('progress');\n",
              "      progress.max = size;\n",
              "      div.appendChild(progress);\n",
              "      document.body.appendChild(div);\n",
              "\n",
              "      const buffers = [];\n",
              "      let downloaded = 0;\n",
              "\n",
              "      const channel = await google.colab.kernel.comms.open(id);\n",
              "      // Send a message to notify the kernel that we're ready.\n",
              "      channel.send({})\n",
              "\n",
              "      for await (const message of channel.messages) {\n",
              "        // Send a message to notify the kernel that we're ready.\n",
              "        channel.send({})\n",
              "        if (message.buffers) {\n",
              "          for (const buffer of message.buffers) {\n",
              "            buffers.push(buffer);\n",
              "            downloaded += buffer.byteLength;\n",
              "            progress.value = downloaded;\n",
              "          }\n",
              "        }\n",
              "      }\n",
              "      const blob = new Blob(buffers, {type: 'application/binary'});\n",
              "      const a = document.createElement('a');\n",
              "      a.href = window.URL.createObjectURL(blob);\n",
              "      a.download = filename;\n",
              "      div.appendChild(a);\n",
              "      a.click();\n",
              "      div.remove();\n",
              "    }\n",
              "  "
            ]
          },
          "metadata": {}
        },
        {
          "output_type": "display_data",
          "data": {
            "text/plain": [
              "<IPython.core.display.Javascript object>"
            ],
            "application/javascript": [
              "download(\"download_3e279754-c2e0-4e8a-aee7-d65972089e3f\", \"checkpoint_epoch_50.pth\", 9794388)"
            ]
          },
          "metadata": {}
        },
        {
          "output_type": "stream",
          "name": "stdout",
          "text": [
            "Epoch 50/150, Train Acc: 31.81%, Val Acc: 35.54%, Test Acc: 29.48%\n",
            "Epoch 50/150, Train Loss: 2.7217, Val Loss: 2.5791, Test Loss: 2.8579\n",
            "Epoch 51/150, Train Acc: 32.23%, Val Acc: 35.83%, Test Acc: 30.03%\n",
            "Epoch 51/150, Train Loss: 2.7141, Val Loss: 2.5713, Test Loss: 2.8328\n",
            "Epoch 52/150, Train Acc: 32.62%, Val Acc: 35.74%, Test Acc: 31.45%\n",
            "Epoch 52/150, Train Loss: 2.7018, Val Loss: 2.5580, Test Loss: 2.7821\n",
            "Epoch 53/150, Train Acc: 32.50%, Val Acc: 36.22%, Test Acc: 30.67%\n",
            "Epoch 53/150, Train Loss: 2.6848, Val Loss: 2.5421, Test Loss: 2.7984\n",
            "Epoch 54/150, Train Acc: 32.98%, Val Acc: 36.29%, Test Acc: 31.20%\n",
            "Epoch 54/150, Train Loss: 2.6816, Val Loss: 2.5420, Test Loss: 2.7821\n",
            "Epoch 55/150, Train Acc: 33.27%, Val Acc: 36.18%, Test Acc: 30.60%\n",
            "Epoch 55/150, Train Loss: 2.6662, Val Loss: 2.5307, Test Loss: 2.7920\n",
            "Epoch 56/150, Train Acc: 33.33%, Val Acc: 36.64%, Test Acc: 31.71%\n",
            "Epoch 56/150, Train Loss: 2.6496, Val Loss: 2.5184, Test Loss: 2.7688\n",
            "Epoch 57/150, Train Acc: 33.58%, Val Acc: 36.84%, Test Acc: 31.76%\n",
            "Epoch 57/150, Train Loss: 2.6411, Val Loss: 2.5114, Test Loss: 2.7557\n",
            "Epoch 58/150, Train Acc: 34.20%, Val Acc: 36.82%, Test Acc: 31.67%\n",
            "Epoch 58/150, Train Loss: 2.6187, Val Loss: 2.5015, Test Loss: 2.7497\n",
            "Epoch 59/150, Train Acc: 34.01%, Val Acc: 37.46%, Test Acc: 31.83%\n",
            "Epoch 59/150, Train Loss: 2.6184, Val Loss: 2.4851, Test Loss: 2.7358\n",
            "Checkpoint saved at epoch 60: ./checkpoint_epoch_60.pth\n"
          ]
        },
        {
          "output_type": "display_data",
          "data": {
            "text/plain": [
              "<IPython.core.display.Javascript object>"
            ],
            "application/javascript": [
              "\n",
              "    async function download(id, filename, size) {\n",
              "      if (!google.colab.kernel.accessAllowed) {\n",
              "        return;\n",
              "      }\n",
              "      const div = document.createElement('div');\n",
              "      const label = document.createElement('label');\n",
              "      label.textContent = `Downloading \"${filename}\": `;\n",
              "      div.appendChild(label);\n",
              "      const progress = document.createElement('progress');\n",
              "      progress.max = size;\n",
              "      div.appendChild(progress);\n",
              "      document.body.appendChild(div);\n",
              "\n",
              "      const buffers = [];\n",
              "      let downloaded = 0;\n",
              "\n",
              "      const channel = await google.colab.kernel.comms.open(id);\n",
              "      // Send a message to notify the kernel that we're ready.\n",
              "      channel.send({})\n",
              "\n",
              "      for await (const message of channel.messages) {\n",
              "        // Send a message to notify the kernel that we're ready.\n",
              "        channel.send({})\n",
              "        if (message.buffers) {\n",
              "          for (const buffer of message.buffers) {\n",
              "            buffers.push(buffer);\n",
              "            downloaded += buffer.byteLength;\n",
              "            progress.value = downloaded;\n",
              "          }\n",
              "        }\n",
              "      }\n",
              "      const blob = new Blob(buffers, {type: 'application/binary'});\n",
              "      const a = document.createElement('a');\n",
              "      a.href = window.URL.createObjectURL(blob);\n",
              "      a.download = filename;\n",
              "      div.appendChild(a);\n",
              "      a.click();\n",
              "      div.remove();\n",
              "    }\n",
              "  "
            ]
          },
          "metadata": {}
        },
        {
          "output_type": "display_data",
          "data": {
            "text/plain": [
              "<IPython.core.display.Javascript object>"
            ],
            "application/javascript": [
              "download(\"download_f30274f0-0788-4596-94a6-63c40d1855fb\", \"checkpoint_epoch_60.pth\", 9794388)"
            ]
          },
          "metadata": {}
        },
        {
          "output_type": "stream",
          "name": "stdout",
          "text": [
            "Epoch 60/150, Train Acc: 34.36%, Val Acc: 37.41%, Test Acc: 31.93%\n",
            "Epoch 60/150, Train Loss: 2.6137, Val Loss: 2.4958, Test Loss: 2.7615\n",
            "Epoch 61/150, Train Acc: 34.37%, Val Acc: 37.28%, Test Acc: 32.31%\n",
            "Epoch 61/150, Train Loss: 2.6018, Val Loss: 2.4866, Test Loss: 2.7186\n",
            "Epoch 62/150, Train Acc: 34.72%, Val Acc: 37.83%, Test Acc: 31.93%\n",
            "Epoch 62/150, Train Loss: 2.5871, Val Loss: 2.4723, Test Loss: 2.7554\n",
            "Epoch 63/150, Train Acc: 34.77%, Val Acc: 37.97%, Test Acc: 33.10%\n",
            "Epoch 63/150, Train Loss: 2.5867, Val Loss: 2.4562, Test Loss: 2.7037\n",
            "Epoch 64/150, Train Acc: 34.94%, Val Acc: 37.66%, Test Acc: 33.36%\n",
            "Epoch 64/150, Train Loss: 2.5705, Val Loss: 2.4703, Test Loss: 2.6708\n",
            "Epoch 65/150, Train Acc: 35.22%, Val Acc: 37.51%, Test Acc: 33.49%\n",
            "Epoch 65/150, Train Loss: 2.5631, Val Loss: 2.4677, Test Loss: 2.6727\n",
            "Epoch 66/150, Train Acc: 35.15%, Val Acc: 38.28%, Test Acc: 34.09%\n",
            "Epoch 66/150, Train Loss: 2.5490, Val Loss: 2.4464, Test Loss: 2.6576\n",
            "Epoch 67/150, Train Acc: 35.69%, Val Acc: 38.08%, Test Acc: 32.78%\n",
            "Epoch 67/150, Train Loss: 2.5335, Val Loss: 2.4472, Test Loss: 2.7165\n",
            "Epoch 68/150, Train Acc: 35.90%, Val Acc: 37.89%, Test Acc: 33.56%\n",
            "Epoch 68/150, Train Loss: 2.5317, Val Loss: 2.4323, Test Loss: 2.6651\n",
            "Epoch 69/150, Train Acc: 35.71%, Val Acc: 38.52%, Test Acc: 33.94%\n",
            "Epoch 69/150, Train Loss: 2.5279, Val Loss: 2.4150, Test Loss: 2.6386\n",
            "Checkpoint saved at epoch 70: ./checkpoint_epoch_70.pth\n"
          ]
        },
        {
          "output_type": "display_data",
          "data": {
            "text/plain": [
              "<IPython.core.display.Javascript object>"
            ],
            "application/javascript": [
              "\n",
              "    async function download(id, filename, size) {\n",
              "      if (!google.colab.kernel.accessAllowed) {\n",
              "        return;\n",
              "      }\n",
              "      const div = document.createElement('div');\n",
              "      const label = document.createElement('label');\n",
              "      label.textContent = `Downloading \"${filename}\": `;\n",
              "      div.appendChild(label);\n",
              "      const progress = document.createElement('progress');\n",
              "      progress.max = size;\n",
              "      div.appendChild(progress);\n",
              "      document.body.appendChild(div);\n",
              "\n",
              "      const buffers = [];\n",
              "      let downloaded = 0;\n",
              "\n",
              "      const channel = await google.colab.kernel.comms.open(id);\n",
              "      // Send a message to notify the kernel that we're ready.\n",
              "      channel.send({})\n",
              "\n",
              "      for await (const message of channel.messages) {\n",
              "        // Send a message to notify the kernel that we're ready.\n",
              "        channel.send({})\n",
              "        if (message.buffers) {\n",
              "          for (const buffer of message.buffers) {\n",
              "            buffers.push(buffer);\n",
              "            downloaded += buffer.byteLength;\n",
              "            progress.value = downloaded;\n",
              "          }\n",
              "        }\n",
              "      }\n",
              "      const blob = new Blob(buffers, {type: 'application/binary'});\n",
              "      const a = document.createElement('a');\n",
              "      a.href = window.URL.createObjectURL(blob);\n",
              "      a.download = filename;\n",
              "      div.appendChild(a);\n",
              "      a.click();\n",
              "      div.remove();\n",
              "    }\n",
              "  "
            ]
          },
          "metadata": {}
        },
        {
          "output_type": "display_data",
          "data": {
            "text/plain": [
              "<IPython.core.display.Javascript object>"
            ],
            "application/javascript": [
              "download(\"download_adc730d7-2a72-4d41-a2f1-85ed99a96210\", \"checkpoint_epoch_70.pth\", 9794388)"
            ]
          },
          "metadata": {}
        },
        {
          "output_type": "stream",
          "name": "stdout",
          "text": [
            "Epoch 70/150, Train Acc: 35.91%, Val Acc: 38.82%, Test Acc: 34.22%\n",
            "Epoch 70/150, Train Loss: 2.5194, Val Loss: 2.4200, Test Loss: 2.6640\n",
            "Epoch 71/150, Train Acc: 36.09%, Val Acc: 38.55%, Test Acc: 33.47%\n",
            "Epoch 71/150, Train Loss: 2.5120, Val Loss: 2.4196, Test Loss: 2.6753\n",
            "Epoch 72/150, Train Acc: 36.20%, Val Acc: 38.78%, Test Acc: 33.73%\n",
            "Epoch 72/150, Train Loss: 2.5015, Val Loss: 2.4081, Test Loss: 2.6496\n",
            "Epoch 73/150, Train Acc: 36.85%, Val Acc: 38.29%, Test Acc: 34.25%\n",
            "Epoch 73/150, Train Loss: 2.4907, Val Loss: 2.4096, Test Loss: 2.6323\n",
            "Epoch 74/150, Train Acc: 36.74%, Val Acc: 38.83%, Test Acc: 33.52%\n",
            "Epoch 74/150, Train Loss: 2.4888, Val Loss: 2.3938, Test Loss: 2.6570\n",
            "Epoch 75/150, Train Acc: 37.55%, Val Acc: 39.14%, Test Acc: 33.96%\n",
            "Epoch 75/150, Train Loss: 2.4689, Val Loss: 2.4008, Test Loss: 2.6614\n",
            "Epoch 76/150, Train Acc: 37.27%, Val Acc: 39.26%, Test Acc: 33.95%\n",
            "Epoch 76/150, Train Loss: 2.4617, Val Loss: 2.3906, Test Loss: 2.6310\n",
            "Epoch 77/150, Train Acc: 37.48%, Val Acc: 39.09%, Test Acc: 34.19%\n",
            "Epoch 77/150, Train Loss: 2.4549, Val Loss: 2.3997, Test Loss: 2.6273\n",
            "Epoch 78/150, Train Acc: 37.17%, Val Acc: 39.67%, Test Acc: 34.84%\n",
            "Epoch 78/150, Train Loss: 2.4557, Val Loss: 2.3772, Test Loss: 2.6114\n",
            "Epoch 79/150, Train Acc: 37.35%, Val Acc: 39.57%, Test Acc: 34.72%\n",
            "Epoch 79/150, Train Loss: 2.4534, Val Loss: 2.3653, Test Loss: 2.6019\n",
            "Checkpoint saved at epoch 80: ./checkpoint_epoch_80.pth\n"
          ]
        },
        {
          "output_type": "display_data",
          "data": {
            "text/plain": [
              "<IPython.core.display.Javascript object>"
            ],
            "application/javascript": [
              "\n",
              "    async function download(id, filename, size) {\n",
              "      if (!google.colab.kernel.accessAllowed) {\n",
              "        return;\n",
              "      }\n",
              "      const div = document.createElement('div');\n",
              "      const label = document.createElement('label');\n",
              "      label.textContent = `Downloading \"${filename}\": `;\n",
              "      div.appendChild(label);\n",
              "      const progress = document.createElement('progress');\n",
              "      progress.max = size;\n",
              "      div.appendChild(progress);\n",
              "      document.body.appendChild(div);\n",
              "\n",
              "      const buffers = [];\n",
              "      let downloaded = 0;\n",
              "\n",
              "      const channel = await google.colab.kernel.comms.open(id);\n",
              "      // Send a message to notify the kernel that we're ready.\n",
              "      channel.send({})\n",
              "\n",
              "      for await (const message of channel.messages) {\n",
              "        // Send a message to notify the kernel that we're ready.\n",
              "        channel.send({})\n",
              "        if (message.buffers) {\n",
              "          for (const buffer of message.buffers) {\n",
              "            buffers.push(buffer);\n",
              "            downloaded += buffer.byteLength;\n",
              "            progress.value = downloaded;\n",
              "          }\n",
              "        }\n",
              "      }\n",
              "      const blob = new Blob(buffers, {type: 'application/binary'});\n",
              "      const a = document.createElement('a');\n",
              "      a.href = window.URL.createObjectURL(blob);\n",
              "      a.download = filename;\n",
              "      div.appendChild(a);\n",
              "      a.click();\n",
              "      div.remove();\n",
              "    }\n",
              "  "
            ]
          },
          "metadata": {}
        },
        {
          "output_type": "display_data",
          "data": {
            "text/plain": [
              "<IPython.core.display.Javascript object>"
            ],
            "application/javascript": [
              "download(\"download_28f6e13f-5a3f-437d-9676-a2ec83201627\", \"checkpoint_epoch_80.pth\", 9794388)"
            ]
          },
          "metadata": {}
        },
        {
          "output_type": "stream",
          "name": "stdout",
          "text": [
            "Epoch 80/150, Train Acc: 37.73%, Val Acc: 39.83%, Test Acc: 34.94%\n",
            "Epoch 80/150, Train Loss: 2.4449, Val Loss: 2.3744, Test Loss: 2.6018\n",
            "Epoch 81/150, Train Acc: 37.74%, Val Acc: 39.33%, Test Acc: 34.30%\n",
            "Epoch 81/150, Train Loss: 2.4396, Val Loss: 2.3718, Test Loss: 2.6270\n",
            "Epoch 82/150, Train Acc: 37.95%, Val Acc: 39.65%, Test Acc: 34.05%\n",
            "Epoch 82/150, Train Loss: 2.4273, Val Loss: 2.3673, Test Loss: 2.6507\n",
            "Epoch 83/150, Train Acc: 38.05%, Val Acc: 39.39%, Test Acc: 34.52%\n",
            "Epoch 83/150, Train Loss: 2.4258, Val Loss: 2.3585, Test Loss: 2.6276\n",
            "Epoch 84/150, Train Acc: 38.23%, Val Acc: 39.75%, Test Acc: 35.08%\n",
            "Epoch 84/150, Train Loss: 2.4138, Val Loss: 2.3585, Test Loss: 2.5905\n",
            "Epoch 85/150, Train Acc: 38.33%, Val Acc: 40.05%, Test Acc: 34.91%\n",
            "Epoch 85/150, Train Loss: 2.4079, Val Loss: 2.3487, Test Loss: 2.5863\n",
            "Epoch 86/150, Train Acc: 38.29%, Val Acc: 40.40%, Test Acc: 35.06%\n",
            "Epoch 86/150, Train Loss: 2.3985, Val Loss: 2.3447, Test Loss: 2.5752\n",
            "Epoch 87/150, Train Acc: 38.70%, Val Acc: 39.95%, Test Acc: 35.13%\n",
            "Epoch 87/150, Train Loss: 2.3913, Val Loss: 2.3459, Test Loss: 2.5979\n",
            "Epoch 88/150, Train Acc: 38.80%, Val Acc: 39.85%, Test Acc: 34.87%\n",
            "Epoch 88/150, Train Loss: 2.3894, Val Loss: 2.3507, Test Loss: 2.6046\n",
            "Epoch 89/150, Train Acc: 39.22%, Val Acc: 40.18%, Test Acc: 35.36%\n",
            "Epoch 89/150, Train Loss: 2.3744, Val Loss: 2.3307, Test Loss: 2.5812\n",
            "Checkpoint saved at epoch 90: ./checkpoint_epoch_90.pth\n"
          ]
        },
        {
          "output_type": "display_data",
          "data": {
            "text/plain": [
              "<IPython.core.display.Javascript object>"
            ],
            "application/javascript": [
              "\n",
              "    async function download(id, filename, size) {\n",
              "      if (!google.colab.kernel.accessAllowed) {\n",
              "        return;\n",
              "      }\n",
              "      const div = document.createElement('div');\n",
              "      const label = document.createElement('label');\n",
              "      label.textContent = `Downloading \"${filename}\": `;\n",
              "      div.appendChild(label);\n",
              "      const progress = document.createElement('progress');\n",
              "      progress.max = size;\n",
              "      div.appendChild(progress);\n",
              "      document.body.appendChild(div);\n",
              "\n",
              "      const buffers = [];\n",
              "      let downloaded = 0;\n",
              "\n",
              "      const channel = await google.colab.kernel.comms.open(id);\n",
              "      // Send a message to notify the kernel that we're ready.\n",
              "      channel.send({})\n",
              "\n",
              "      for await (const message of channel.messages) {\n",
              "        // Send a message to notify the kernel that we're ready.\n",
              "        channel.send({})\n",
              "        if (message.buffers) {\n",
              "          for (const buffer of message.buffers) {\n",
              "            buffers.push(buffer);\n",
              "            downloaded += buffer.byteLength;\n",
              "            progress.value = downloaded;\n",
              "          }\n",
              "        }\n",
              "      }\n",
              "      const blob = new Blob(buffers, {type: 'application/binary'});\n",
              "      const a = document.createElement('a');\n",
              "      a.href = window.URL.createObjectURL(blob);\n",
              "      a.download = filename;\n",
              "      div.appendChild(a);\n",
              "      a.click();\n",
              "      div.remove();\n",
              "    }\n",
              "  "
            ]
          },
          "metadata": {}
        },
        {
          "output_type": "display_data",
          "data": {
            "text/plain": [
              "<IPython.core.display.Javascript object>"
            ],
            "application/javascript": [
              "download(\"download_6ce6422a-6069-413d-9a49-5336938e7eb8\", \"checkpoint_epoch_90.pth\", 9794388)"
            ]
          },
          "metadata": {}
        },
        {
          "output_type": "stream",
          "name": "stdout",
          "text": [
            "Epoch 90/150, Train Acc: 38.87%, Val Acc: 40.94%, Test Acc: 35.25%\n",
            "Epoch 90/150, Train Loss: 2.3696, Val Loss: 2.3208, Test Loss: 2.5681\n",
            "Epoch 91/150, Train Acc: 39.10%, Val Acc: 40.20%, Test Acc: 35.08%\n",
            "Epoch 91/150, Train Loss: 2.3625, Val Loss: 2.3497, Test Loss: 2.5746\n",
            "Epoch 92/150, Train Acc: 39.00%, Val Acc: 40.12%, Test Acc: 34.62%\n",
            "Epoch 92/150, Train Loss: 2.3695, Val Loss: 2.3342, Test Loss: 2.5910\n",
            "Epoch 93/150, Train Acc: 39.18%, Val Acc: 40.42%, Test Acc: 35.68%\n",
            "Epoch 93/150, Train Loss: 2.3595, Val Loss: 2.3232, Test Loss: 2.5707\n",
            "Epoch 94/150, Train Acc: 39.53%, Val Acc: 40.83%, Test Acc: 35.58%\n",
            "Epoch 94/150, Train Loss: 2.3520, Val Loss: 2.3130, Test Loss: 2.5665\n",
            "Epoch 95/150, Train Acc: 39.52%, Val Acc: 41.00%, Test Acc: 35.05%\n",
            "Epoch 95/150, Train Loss: 2.3439, Val Loss: 2.3126, Test Loss: 2.5824\n",
            "Epoch 96/150, Train Acc: 39.60%, Val Acc: 41.02%, Test Acc: 35.28%\n",
            "Epoch 96/150, Train Loss: 2.3451, Val Loss: 2.3037, Test Loss: 2.5627\n",
            "Epoch 97/150, Train Acc: 39.48%, Val Acc: 40.85%, Test Acc: 35.98%\n",
            "Epoch 97/150, Train Loss: 2.3419, Val Loss: 2.3229, Test Loss: 2.5444\n",
            "Epoch 98/150, Train Acc: 39.80%, Val Acc: 40.71%, Test Acc: 35.31%\n",
            "Epoch 98/150, Train Loss: 2.3338, Val Loss: 2.3088, Test Loss: 2.5572\n",
            "Epoch 99/150, Train Acc: 39.84%, Val Acc: 41.11%, Test Acc: 35.05%\n",
            "Epoch 99/150, Train Loss: 2.3282, Val Loss: 2.3052, Test Loss: 2.5841\n",
            "Checkpoint saved at epoch 100: ./checkpoint_epoch_100.pth\n"
          ]
        },
        {
          "output_type": "display_data",
          "data": {
            "text/plain": [
              "<IPython.core.display.Javascript object>"
            ],
            "application/javascript": [
              "\n",
              "    async function download(id, filename, size) {\n",
              "      if (!google.colab.kernel.accessAllowed) {\n",
              "        return;\n",
              "      }\n",
              "      const div = document.createElement('div');\n",
              "      const label = document.createElement('label');\n",
              "      label.textContent = `Downloading \"${filename}\": `;\n",
              "      div.appendChild(label);\n",
              "      const progress = document.createElement('progress');\n",
              "      progress.max = size;\n",
              "      div.appendChild(progress);\n",
              "      document.body.appendChild(div);\n",
              "\n",
              "      const buffers = [];\n",
              "      let downloaded = 0;\n",
              "\n",
              "      const channel = await google.colab.kernel.comms.open(id);\n",
              "      // Send a message to notify the kernel that we're ready.\n",
              "      channel.send({})\n",
              "\n",
              "      for await (const message of channel.messages) {\n",
              "        // Send a message to notify the kernel that we're ready.\n",
              "        channel.send({})\n",
              "        if (message.buffers) {\n",
              "          for (const buffer of message.buffers) {\n",
              "            buffers.push(buffer);\n",
              "            downloaded += buffer.byteLength;\n",
              "            progress.value = downloaded;\n",
              "          }\n",
              "        }\n",
              "      }\n",
              "      const blob = new Blob(buffers, {type: 'application/binary'});\n",
              "      const a = document.createElement('a');\n",
              "      a.href = window.URL.createObjectURL(blob);\n",
              "      a.download = filename;\n",
              "      div.appendChild(a);\n",
              "      a.click();\n",
              "      div.remove();\n",
              "    }\n",
              "  "
            ]
          },
          "metadata": {}
        },
        {
          "output_type": "display_data",
          "data": {
            "text/plain": [
              "<IPython.core.display.Javascript object>"
            ],
            "application/javascript": [
              "download(\"download_ea6be7d1-9724-4edf-b872-5cda22463927\", \"checkpoint_epoch_100.pth\", 9794422)"
            ]
          },
          "metadata": {}
        },
        {
          "output_type": "stream",
          "name": "stdout",
          "text": [
            "Epoch 100/150, Train Acc: 40.22%, Val Acc: 41.13%, Test Acc: 36.00%\n",
            "Epoch 100/150, Train Loss: 2.3233, Val Loss: 2.2983, Test Loss: 2.5427\n",
            "Epoch 101/150, Train Acc: 40.37%, Val Acc: 41.67%, Test Acc: 35.99%\n",
            "Epoch 101/150, Train Loss: 2.3122, Val Loss: 2.2912, Test Loss: 2.5427\n",
            "Epoch 102/150, Train Acc: 40.50%, Val Acc: 41.43%, Test Acc: 35.91%\n",
            "Epoch 102/150, Train Loss: 2.3046, Val Loss: 2.2898, Test Loss: 2.5388\n",
            "Epoch 103/150, Train Acc: 40.33%, Val Acc: 41.29%, Test Acc: 35.37%\n",
            "Epoch 103/150, Train Loss: 2.3060, Val Loss: 2.2889, Test Loss: 2.5511\n",
            "Epoch 104/150, Train Acc: 40.47%, Val Acc: 41.37%, Test Acc: 35.81%\n",
            "Epoch 104/150, Train Loss: 2.2981, Val Loss: 2.2919, Test Loss: 2.5365\n",
            "Epoch 105/150, Train Acc: 40.97%, Val Acc: 41.44%, Test Acc: 35.89%\n",
            "Epoch 105/150, Train Loss: 2.2856, Val Loss: 2.2928, Test Loss: 2.5426\n",
            "Epoch 106/150, Train Acc: 40.75%, Val Acc: 41.35%, Test Acc: 36.30%\n",
            "Epoch 106/150, Train Loss: 2.2895, Val Loss: 2.2948, Test Loss: 2.5366\n",
            "Epoch 107/150, Train Acc: 41.04%, Val Acc: 41.44%, Test Acc: 36.35%\n",
            "Epoch 107/150, Train Loss: 2.2843, Val Loss: 2.2830, Test Loss: 2.5296\n",
            "Epoch 108/150, Train Acc: 40.83%, Val Acc: 41.18%, Test Acc: 36.48%\n",
            "Epoch 108/150, Train Loss: 2.2787, Val Loss: 2.2883, Test Loss: 2.5239\n",
            "Epoch 109/150, Train Acc: 41.02%, Val Acc: 41.84%, Test Acc: 36.31%\n",
            "Epoch 109/150, Train Loss: 2.2825, Val Loss: 2.2781, Test Loss: 2.5269\n",
            "Checkpoint saved at epoch 110: ./checkpoint_epoch_110.pth\n"
          ]
        },
        {
          "output_type": "display_data",
          "data": {
            "text/plain": [
              "<IPython.core.display.Javascript object>"
            ],
            "application/javascript": [
              "\n",
              "    async function download(id, filename, size) {\n",
              "      if (!google.colab.kernel.accessAllowed) {\n",
              "        return;\n",
              "      }\n",
              "      const div = document.createElement('div');\n",
              "      const label = document.createElement('label');\n",
              "      label.textContent = `Downloading \"${filename}\": `;\n",
              "      div.appendChild(label);\n",
              "      const progress = document.createElement('progress');\n",
              "      progress.max = size;\n",
              "      div.appendChild(progress);\n",
              "      document.body.appendChild(div);\n",
              "\n",
              "      const buffers = [];\n",
              "      let downloaded = 0;\n",
              "\n",
              "      const channel = await google.colab.kernel.comms.open(id);\n",
              "      // Send a message to notify the kernel that we're ready.\n",
              "      channel.send({})\n",
              "\n",
              "      for await (const message of channel.messages) {\n",
              "        // Send a message to notify the kernel that we're ready.\n",
              "        channel.send({})\n",
              "        if (message.buffers) {\n",
              "          for (const buffer of message.buffers) {\n",
              "            buffers.push(buffer);\n",
              "            downloaded += buffer.byteLength;\n",
              "            progress.value = downloaded;\n",
              "          }\n",
              "        }\n",
              "      }\n",
              "      const blob = new Blob(buffers, {type: 'application/binary'});\n",
              "      const a = document.createElement('a');\n",
              "      a.href = window.URL.createObjectURL(blob);\n",
              "      a.download = filename;\n",
              "      div.appendChild(a);\n",
              "      a.click();\n",
              "      div.remove();\n",
              "    }\n",
              "  "
            ]
          },
          "metadata": {}
        },
        {
          "output_type": "display_data",
          "data": {
            "text/plain": [
              "<IPython.core.display.Javascript object>"
            ],
            "application/javascript": [
              "download(\"download_e73fa1a7-051c-4ebf-9151-b14d40995623\", \"checkpoint_epoch_110.pth\", 9794422)"
            ]
          },
          "metadata": {}
        },
        {
          "output_type": "stream",
          "name": "stdout",
          "text": [
            "Epoch 110/150, Train Acc: 40.79%, Val Acc: 41.74%, Test Acc: 36.31%\n",
            "Epoch 110/150, Train Loss: 2.2820, Val Loss: 2.2745, Test Loss: 2.5362\n",
            "Epoch 111/150, Train Acc: 41.33%, Val Acc: 41.55%, Test Acc: 36.82%\n",
            "Epoch 111/150, Train Loss: 2.2683, Val Loss: 2.2805, Test Loss: 2.5036\n",
            "Epoch 112/150, Train Acc: 41.12%, Val Acc: 41.79%, Test Acc: 36.03%\n",
            "Epoch 112/150, Train Loss: 2.2741, Val Loss: 2.2738, Test Loss: 2.5383\n",
            "Epoch 113/150, Train Acc: 41.12%, Val Acc: 41.83%, Test Acc: 36.57%\n",
            "Epoch 113/150, Train Loss: 2.2721, Val Loss: 2.2694, Test Loss: 2.5168\n",
            "Epoch 114/150, Train Acc: 41.26%, Val Acc: 41.82%, Test Acc: 36.37%\n",
            "Epoch 114/150, Train Loss: 2.2629, Val Loss: 2.2678, Test Loss: 2.5204\n",
            "Epoch 115/150, Train Acc: 41.63%, Val Acc: 41.45%, Test Acc: 36.56%\n",
            "Epoch 115/150, Train Loss: 2.2581, Val Loss: 2.2778, Test Loss: 2.5074\n",
            "Epoch 116/150, Train Acc: 41.62%, Val Acc: 41.93%, Test Acc: 36.37%\n",
            "Epoch 116/150, Train Loss: 2.2452, Val Loss: 2.2636, Test Loss: 2.5235\n",
            "Epoch 117/150, Train Acc: 41.74%, Val Acc: 41.94%, Test Acc: 36.52%\n",
            "Epoch 117/150, Train Loss: 2.2474, Val Loss: 2.2598, Test Loss: 2.5190\n",
            "Epoch 118/150, Train Acc: 41.72%, Val Acc: 42.35%, Test Acc: 36.50%\n",
            "Epoch 118/150, Train Loss: 2.2399, Val Loss: 2.2539, Test Loss: 2.5206\n",
            "Epoch 119/150, Train Acc: 41.87%, Val Acc: 42.54%, Test Acc: 36.90%\n",
            "Epoch 119/150, Train Loss: 2.2386, Val Loss: 2.2528, Test Loss: 2.4998\n",
            "Checkpoint saved at epoch 120: ./checkpoint_epoch_120.pth\n"
          ]
        },
        {
          "output_type": "display_data",
          "data": {
            "text/plain": [
              "<IPython.core.display.Javascript object>"
            ],
            "application/javascript": [
              "\n",
              "    async function download(id, filename, size) {\n",
              "      if (!google.colab.kernel.accessAllowed) {\n",
              "        return;\n",
              "      }\n",
              "      const div = document.createElement('div');\n",
              "      const label = document.createElement('label');\n",
              "      label.textContent = `Downloading \"${filename}\": `;\n",
              "      div.appendChild(label);\n",
              "      const progress = document.createElement('progress');\n",
              "      progress.max = size;\n",
              "      div.appendChild(progress);\n",
              "      document.body.appendChild(div);\n",
              "\n",
              "      const buffers = [];\n",
              "      let downloaded = 0;\n",
              "\n",
              "      const channel = await google.colab.kernel.comms.open(id);\n",
              "      // Send a message to notify the kernel that we're ready.\n",
              "      channel.send({})\n",
              "\n",
              "      for await (const message of channel.messages) {\n",
              "        // Send a message to notify the kernel that we're ready.\n",
              "        channel.send({})\n",
              "        if (message.buffers) {\n",
              "          for (const buffer of message.buffers) {\n",
              "            buffers.push(buffer);\n",
              "            downloaded += buffer.byteLength;\n",
              "            progress.value = downloaded;\n",
              "          }\n",
              "        }\n",
              "      }\n",
              "      const blob = new Blob(buffers, {type: 'application/binary'});\n",
              "      const a = document.createElement('a');\n",
              "      a.href = window.URL.createObjectURL(blob);\n",
              "      a.download = filename;\n",
              "      div.appendChild(a);\n",
              "      a.click();\n",
              "      div.remove();\n",
              "    }\n",
              "  "
            ]
          },
          "metadata": {}
        },
        {
          "output_type": "display_data",
          "data": {
            "text/plain": [
              "<IPython.core.display.Javascript object>"
            ],
            "application/javascript": [
              "download(\"download_6d7ff24a-3b9a-4fad-b9c9-19b8d71a8fd2\", \"checkpoint_epoch_120.pth\", 9794422)"
            ]
          },
          "metadata": {}
        },
        {
          "output_type": "stream",
          "name": "stdout",
          "text": [
            "Epoch 120/150, Train Acc: 41.99%, Val Acc: 42.15%, Test Acc: 36.65%\n",
            "Epoch 120/150, Train Loss: 2.2316, Val Loss: 2.2526, Test Loss: 2.5096\n",
            "Epoch 121/150, Train Acc: 42.04%, Val Acc: 42.04%, Test Acc: 36.54%\n",
            "Epoch 121/150, Train Loss: 2.2308, Val Loss: 2.2584, Test Loss: 2.5094\n",
            "Epoch 122/150, Train Acc: 41.90%, Val Acc: 42.40%, Test Acc: 36.82%\n",
            "Epoch 122/150, Train Loss: 2.2279, Val Loss: 2.2553, Test Loss: 2.4900\n",
            "Epoch 123/150, Train Acc: 42.29%, Val Acc: 42.53%, Test Acc: 36.89%\n",
            "Epoch 123/150, Train Loss: 2.2247, Val Loss: 2.2491, Test Loss: 2.4985\n",
            "Epoch 124/150, Train Acc: 41.94%, Val Acc: 42.46%, Test Acc: 36.86%\n",
            "Epoch 124/150, Train Loss: 2.2185, Val Loss: 2.2534, Test Loss: 2.4893\n",
            "Epoch 125/150, Train Acc: 42.20%, Val Acc: 42.16%, Test Acc: 37.06%\n",
            "Epoch 125/150, Train Loss: 2.2218, Val Loss: 2.2494, Test Loss: 2.4964\n",
            "Epoch 126/150, Train Acc: 42.05%, Val Acc: 42.53%, Test Acc: 36.55%\n",
            "Epoch 126/150, Train Loss: 2.2225, Val Loss: 2.2485, Test Loss: 2.5124\n",
            "Epoch 127/150, Train Acc: 42.24%, Val Acc: 42.15%, Test Acc: 37.11%\n",
            "Epoch 127/150, Train Loss: 2.2182, Val Loss: 2.2518, Test Loss: 2.4854\n",
            "Epoch 128/150, Train Acc: 42.81%, Val Acc: 42.54%, Test Acc: 36.58%\n",
            "Epoch 128/150, Train Loss: 2.2070, Val Loss: 2.2445, Test Loss: 2.5130\n",
            "Epoch 129/150, Train Acc: 42.51%, Val Acc: 42.25%, Test Acc: 36.93%\n",
            "Epoch 129/150, Train Loss: 2.2139, Val Loss: 2.2467, Test Loss: 2.4927\n",
            "Checkpoint saved at epoch 130: ./checkpoint_epoch_130.pth\n"
          ]
        },
        {
          "output_type": "display_data",
          "data": {
            "text/plain": [
              "<IPython.core.display.Javascript object>"
            ],
            "application/javascript": [
              "\n",
              "    async function download(id, filename, size) {\n",
              "      if (!google.colab.kernel.accessAllowed) {\n",
              "        return;\n",
              "      }\n",
              "      const div = document.createElement('div');\n",
              "      const label = document.createElement('label');\n",
              "      label.textContent = `Downloading \"${filename}\": `;\n",
              "      div.appendChild(label);\n",
              "      const progress = document.createElement('progress');\n",
              "      progress.max = size;\n",
              "      div.appendChild(progress);\n",
              "      document.body.appendChild(div);\n",
              "\n",
              "      const buffers = [];\n",
              "      let downloaded = 0;\n",
              "\n",
              "      const channel = await google.colab.kernel.comms.open(id);\n",
              "      // Send a message to notify the kernel that we're ready.\n",
              "      channel.send({})\n",
              "\n",
              "      for await (const message of channel.messages) {\n",
              "        // Send a message to notify the kernel that we're ready.\n",
              "        channel.send({})\n",
              "        if (message.buffers) {\n",
              "          for (const buffer of message.buffers) {\n",
              "            buffers.push(buffer);\n",
              "            downloaded += buffer.byteLength;\n",
              "            progress.value = downloaded;\n",
              "          }\n",
              "        }\n",
              "      }\n",
              "      const blob = new Blob(buffers, {type: 'application/binary'});\n",
              "      const a = document.createElement('a');\n",
              "      a.href = window.URL.createObjectURL(blob);\n",
              "      a.download = filename;\n",
              "      div.appendChild(a);\n",
              "      a.click();\n",
              "      div.remove();\n",
              "    }\n",
              "  "
            ]
          },
          "metadata": {}
        },
        {
          "output_type": "display_data",
          "data": {
            "text/plain": [
              "<IPython.core.display.Javascript object>"
            ],
            "application/javascript": [
              "download(\"download_290ca42f-b42f-4263-a00c-3d4e583913da\", \"checkpoint_epoch_130.pth\", 9794422)"
            ]
          },
          "metadata": {}
        },
        {
          "output_type": "stream",
          "name": "stdout",
          "text": [
            "Epoch 130/150, Train Acc: 42.68%, Val Acc: 42.31%, Test Acc: 37.18%\n",
            "Epoch 130/150, Train Loss: 2.1965, Val Loss: 2.2464, Test Loss: 2.4828\n",
            "Epoch 131/150, Train Acc: 42.57%, Val Acc: 42.70%, Test Acc: 36.95%\n",
            "Epoch 131/150, Train Loss: 2.2130, Val Loss: 2.2387, Test Loss: 2.4992\n",
            "Epoch 132/150, Train Acc: 42.44%, Val Acc: 42.64%, Test Acc: 36.83%\n",
            "Epoch 132/150, Train Loss: 2.2077, Val Loss: 2.2396, Test Loss: 2.4948\n",
            "Epoch 133/150, Train Acc: 43.00%, Val Acc: 42.53%, Test Acc: 37.30%\n",
            "Epoch 133/150, Train Loss: 2.1954, Val Loss: 2.2430, Test Loss: 2.4784\n",
            "Epoch 134/150, Train Acc: 42.84%, Val Acc: 42.72%, Test Acc: 36.92%\n",
            "Epoch 134/150, Train Loss: 2.2013, Val Loss: 2.2324, Test Loss: 2.4936\n",
            "Epoch 135/150, Train Acc: 43.10%, Val Acc: 42.42%, Test Acc: 37.21%\n",
            "Epoch 135/150, Train Loss: 2.1998, Val Loss: 2.2370, Test Loss: 2.4738\n",
            "Epoch 136/150, Train Acc: 43.02%, Val Acc: 42.60%, Test Acc: 37.21%\n",
            "Epoch 136/150, Train Loss: 2.1980, Val Loss: 2.2371, Test Loss: 2.4846\n",
            "Epoch 137/150, Train Acc: 43.15%, Val Acc: 42.58%, Test Acc: 37.26%\n",
            "Epoch 137/150, Train Loss: 2.1929, Val Loss: 2.2365, Test Loss: 2.4804\n",
            "Epoch 138/150, Train Acc: 43.11%, Val Acc: 42.37%, Test Acc: 37.02%\n",
            "Epoch 138/150, Train Loss: 2.1899, Val Loss: 2.2404, Test Loss: 2.4792\n",
            "Epoch 139/150, Train Acc: 42.80%, Val Acc: 42.72%, Test Acc: 37.12%\n",
            "Epoch 139/150, Train Loss: 2.1885, Val Loss: 2.2318, Test Loss: 2.4765\n",
            "Checkpoint saved at epoch 140: ./checkpoint_epoch_140.pth\n"
          ]
        },
        {
          "output_type": "display_data",
          "data": {
            "text/plain": [
              "<IPython.core.display.Javascript object>"
            ],
            "application/javascript": [
              "\n",
              "    async function download(id, filename, size) {\n",
              "      if (!google.colab.kernel.accessAllowed) {\n",
              "        return;\n",
              "      }\n",
              "      const div = document.createElement('div');\n",
              "      const label = document.createElement('label');\n",
              "      label.textContent = `Downloading \"${filename}\": `;\n",
              "      div.appendChild(label);\n",
              "      const progress = document.createElement('progress');\n",
              "      progress.max = size;\n",
              "      div.appendChild(progress);\n",
              "      document.body.appendChild(div);\n",
              "\n",
              "      const buffers = [];\n",
              "      let downloaded = 0;\n",
              "\n",
              "      const channel = await google.colab.kernel.comms.open(id);\n",
              "      // Send a message to notify the kernel that we're ready.\n",
              "      channel.send({})\n",
              "\n",
              "      for await (const message of channel.messages) {\n",
              "        // Send a message to notify the kernel that we're ready.\n",
              "        channel.send({})\n",
              "        if (message.buffers) {\n",
              "          for (const buffer of message.buffers) {\n",
              "            buffers.push(buffer);\n",
              "            downloaded += buffer.byteLength;\n",
              "            progress.value = downloaded;\n",
              "          }\n",
              "        }\n",
              "      }\n",
              "      const blob = new Blob(buffers, {type: 'application/binary'});\n",
              "      const a = document.createElement('a');\n",
              "      a.href = window.URL.createObjectURL(blob);\n",
              "      a.download = filename;\n",
              "      div.appendChild(a);\n",
              "      a.click();\n",
              "      div.remove();\n",
              "    }\n",
              "  "
            ]
          },
          "metadata": {}
        },
        {
          "output_type": "display_data",
          "data": {
            "text/plain": [
              "<IPython.core.display.Javascript object>"
            ],
            "application/javascript": [
              "download(\"download_43f92317-95f9-403a-b874-fe889a8bb866\", \"checkpoint_epoch_140.pth\", 9794422)"
            ]
          },
          "metadata": {}
        },
        {
          "output_type": "stream",
          "name": "stdout",
          "text": [
            "Epoch 140/150, Train Acc: 43.01%, Val Acc: 42.49%, Test Acc: 36.95%\n",
            "Epoch 140/150, Train Loss: 2.1937, Val Loss: 2.2331, Test Loss: 2.4925\n",
            "Epoch 141/150, Train Acc: 43.30%, Val Acc: 42.62%, Test Acc: 37.21%\n",
            "Epoch 141/150, Train Loss: 2.1819, Val Loss: 2.2351, Test Loss: 2.4719\n",
            "Epoch 142/150, Train Acc: 43.05%, Val Acc: 42.83%, Test Acc: 37.28%\n",
            "Epoch 142/150, Train Loss: 2.1846, Val Loss: 2.2297, Test Loss: 2.4758\n",
            "Epoch 143/150, Train Acc: 43.32%, Val Acc: 42.79%, Test Acc: 37.32%\n",
            "Epoch 143/150, Train Loss: 2.1803, Val Loss: 2.2319, Test Loss: 2.4702\n",
            "Epoch 144/150, Train Acc: 43.25%, Val Acc: 42.95%, Test Acc: 37.41%\n",
            "Epoch 144/150, Train Loss: 2.1785, Val Loss: 2.2283, Test Loss: 2.4735\n",
            "Epoch 145/150, Train Acc: 43.26%, Val Acc: 42.92%, Test Acc: 37.43%\n",
            "Epoch 145/150, Train Loss: 2.1708, Val Loss: 2.2293, Test Loss: 2.4722\n",
            "Epoch 146/150, Train Acc: 43.41%, Val Acc: 43.04%, Test Acc: 37.37%\n",
            "Epoch 146/150, Train Loss: 2.1739, Val Loss: 2.2266, Test Loss: 2.4765\n",
            "Epoch 147/150, Train Acc: 43.43%, Val Acc: 42.77%, Test Acc: 37.60%\n",
            "Epoch 147/150, Train Loss: 2.1644, Val Loss: 2.2293, Test Loss: 2.4687\n",
            "Epoch 148/150, Train Acc: 43.34%, Val Acc: 42.71%, Test Acc: 37.32%\n",
            "Epoch 148/150, Train Loss: 2.1726, Val Loss: 2.2277, Test Loss: 2.4769\n",
            "Epoch 149/150, Train Acc: 43.10%, Val Acc: 42.81%, Test Acc: 37.23%\n",
            "Epoch 149/150, Train Loss: 2.1781, Val Loss: 2.2266, Test Loss: 2.4759\n",
            "Checkpoint saved at epoch 150: ./checkpoint_epoch_150.pth\n"
          ]
        },
        {
          "output_type": "display_data",
          "data": {
            "text/plain": [
              "<IPython.core.display.Javascript object>"
            ],
            "application/javascript": [
              "\n",
              "    async function download(id, filename, size) {\n",
              "      if (!google.colab.kernel.accessAllowed) {\n",
              "        return;\n",
              "      }\n",
              "      const div = document.createElement('div');\n",
              "      const label = document.createElement('label');\n",
              "      label.textContent = `Downloading \"${filename}\": `;\n",
              "      div.appendChild(label);\n",
              "      const progress = document.createElement('progress');\n",
              "      progress.max = size;\n",
              "      div.appendChild(progress);\n",
              "      document.body.appendChild(div);\n",
              "\n",
              "      const buffers = [];\n",
              "      let downloaded = 0;\n",
              "\n",
              "      const channel = await google.colab.kernel.comms.open(id);\n",
              "      // Send a message to notify the kernel that we're ready.\n",
              "      channel.send({})\n",
              "\n",
              "      for await (const message of channel.messages) {\n",
              "        // Send a message to notify the kernel that we're ready.\n",
              "        channel.send({})\n",
              "        if (message.buffers) {\n",
              "          for (const buffer of message.buffers) {\n",
              "            buffers.push(buffer);\n",
              "            downloaded += buffer.byteLength;\n",
              "            progress.value = downloaded;\n",
              "          }\n",
              "        }\n",
              "      }\n",
              "      const blob = new Blob(buffers, {type: 'application/binary'});\n",
              "      const a = document.createElement('a');\n",
              "      a.href = window.URL.createObjectURL(blob);\n",
              "      a.download = filename;\n",
              "      div.appendChild(a);\n",
              "      a.click();\n",
              "      div.remove();\n",
              "    }\n",
              "  "
            ]
          },
          "metadata": {}
        },
        {
          "output_type": "display_data",
          "data": {
            "text/plain": [
              "<IPython.core.display.Javascript object>"
            ],
            "application/javascript": [
              "download(\"download_6ffa369c-4b90-41ab-ac47-9c7ac1f32dad\", \"checkpoint_epoch_150.pth\", 9794422)"
            ]
          },
          "metadata": {}
        },
        {
          "output_type": "stream",
          "name": "stdout",
          "text": [
            "Epoch 150/150, Train Acc: 43.61%, Val Acc: 42.96%, Test Acc: 37.46%\n",
            "Epoch 150/150, Train Loss: 2.1651, Val Loss: 2.2256, Test Loss: 2.4741\n"
          ]
        },
        {
          "output_type": "display_data",
          "data": {
            "text/plain": [
              "<Figure size 600x400 with 1 Axes>"
            ],
            "image/png": "[encoded data removed]"
          },
          "metadata": {}
        },
        {
          "output_type": "display_data",
          "data": {
            "text/plain": [
              "<Figure size 600x400 with 1 Axes>"
            ],
            "image/png": "[encoded data removed]"
          },
          "metadata": {}
        },
        {
          "output_type": "display_data",
          "data": {
            "text/plain": [
              "<Figure size 600x400 with 1 Axes>"
            ],
            "image/png": "[encoded data removed]"
          },
          "metadata": {}
        },
        {
          "output_type": "display_data",
          "data": {
            "text/plain": [
              "<Figure size 600x400 with 1 Axes>"
            ],
            "image/png": "[encoded data removed]"
          },
          "metadata": {}
        },
        {
          "output_type": "display_data",
          "data": {
            "text/plain": [
              "<Figure size 600x400 with 1 Axes>"
            ],
            "image/png": "[encoded data removed]"
          },
          "metadata": {}
        },
        {
          "output_type": "display_data",
          "data": {
            "text/plain": [
              "<Figure size 600x400 with 1 Axes>"
            ],
            "image/png": "[encoded data removed]"
          },
          "metadata": {}
        },
        {
          "output_type": "display_data",
          "data": {
            "text/plain": [
              "<Figure size 640x480 with 0 Axes>"
            ]
          },
          "metadata": {}
        }
      ],
      "source": [
        "%run large_batch_training.py --optimizer LAMB --batch-size 512 --weight-decay 1e-2"
      ]
    }
  ],
  "metadata": {
    "accelerator": "GPU",
    "colab": {
      "gpuType": "T4",
      "provenance": []
    },
    "kernelspec": {
      "display_name": "Python 3",
      "name": "python3"
    },
    "language_info": {
      "name": "python"
    }
  },
  "nbformat": 4,
  "nbformat_minor": 0
}