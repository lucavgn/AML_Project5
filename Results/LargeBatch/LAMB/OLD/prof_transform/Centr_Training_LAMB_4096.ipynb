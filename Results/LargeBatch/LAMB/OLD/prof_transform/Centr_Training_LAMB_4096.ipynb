{
  "cells": [
    {
      "cell_type": "code",
      "execution_count": 2,
      "metadata": {
        "colab": {
          "base_uri": "https://localhost:8080/"
        },
        "id": "LtOx0ESVnO0u",
        "outputId": "2493b164-34ff-41b4-8792-4b5e6bd7d81a"
      },
      "outputs": [
        {
          "output_type": "stream",
          "name": "stdout",
          "text": [
            "Writing large_batch_training.py\n"
          ]
        }
      ],
      "source": [
        "%%writefile large_batch_training.py\n",
        "\n",
        "import os\n",
        "import numpy as np\n",
        "import torch\n",
        "import torch.nn as nn\n",
        "import torch.optim as optim\n",
        "import torchvision\n",
        "import torchvision.transforms as transforms\n",
        "import matplotlib.pyplot as plt\n",
        "import argparse\n",
        "from torch.utils.data import random_split\n",
        "from google.colab import files\n",
        "\n",
        "def compute_mean_std(dataset):\n",
        "    \"\"\"Compute the mean and std of CIFAR-100 dataset.\n",
        "\n",
        "    Args:\n",
        "        dataset: A dataset derived from `torch.utils.data.Dataset`,\n",
        "                 such as `cifar100_training_dataset` or `cifar100_test_dataset`.\n",
        "\n",
        "    Returns:\n",
        "        A tuple containing (mean, std) for the entire dataset.\n",
        "    \"\"\"\n",
        "\n",
        "    # Extract images and labels\n",
        "    data_r = np.stack([np.array(dataset[i][0])[:, :, 0] for i in range(len(dataset))])\n",
        "    data_g = np.stack([np.array(dataset[i][0])[:, :, 1] for i in range(len(dataset))])\n",
        "    data_b = np.stack([np.array(dataset[i][0])[:, :, 2] for i in range(len(dataset))])\n",
        "\n",
        "    # Compute mean and std\n",
        "    mean = np.mean(data_r), np.mean(data_g), np.mean(data_b)\n",
        "    std = np.std(data_r), np.std(data_g), np.std(data_b)\n",
        "\n",
        "    return mean, std\n",
        "\n",
        "# Define LeNet-5 architecture\n",
        "class LeNet5(nn.Module):\n",
        "    def __init__(self):\n",
        "        super(LeNet5, self).__init__()\n",
        "        self.conv1 = nn.Conv2d(3, 64, 5)\n",
        "        self.relu1 = nn.ReLU()\n",
        "        self.pool1 = nn.MaxPool2d(2, 2)\n",
        "        self.conv2 = nn.Conv2d(64, 64, 5)\n",
        "        self.relu2 = nn.ReLU()\n",
        "        self.pool2 = nn.MaxPool2d(2, 2)\n",
        "        self.fc1 = nn.Linear(64 * 5 * 5, 384)\n",
        "        self.relu3 = nn.ReLU()\n",
        "        self.fc2 = nn.Linear(384, 192)\n",
        "        self.relu4 = nn.ReLU()\n",
        "        self.fc3 = nn.Linear(192, 100)\n",
        "\n",
        "    def forward(self, x):\n",
        "        x = self.pool1(self.relu1(self.conv1(x)))\n",
        "        x = self.pool2(self.relu2(self.conv2(x)))\n",
        "        x = x.view(-1, 64 * 5 * 5)\n",
        "        x = self.relu3(self.fc1(x))\n",
        "        x = self.relu4(self.fc2(x))\n",
        "        x = self.fc3(x)\n",
        "        return x\n",
        "\n",
        "# Device setup\n",
        "device = torch.device(\"cuda:0\" if torch.cuda.is_available() else \"cpu\")\n",
        "\n",
        "# Initialize model\n",
        "net = LeNet5().to(device)\n",
        "\n",
        "# Optimizer Subclasses\n",
        "class LARS(optim.Optimizer):\n",
        "    def __init__(self, params, lr, momentum=0.9, weight_decay=0, trust_coefficient=0.001):\n",
        "        # Initialize the optimizer with the learning rate, momentum, weight decay, and trust coefficient\n",
        "        defaults = dict(lr=lr, momentum=momentum, weight_decay=weight_decay, trust_coefficient=trust_coefficient)\n",
        "        super(LARS, self).__init__(params, defaults)\n",
        "\n",
        "    def step(self, closure=None):\n",
        "        loss = None\n",
        "        if closure is not None:\n",
        "            # If a closure is provided, evaluate it (commonly used for re-evaluating loss)\n",
        "            loss = closure()\n",
        "        for group in self.param_groups:\n",
        "            for p in group['params']:\n",
        "                if p.grad is None:\n",
        "                   # Skip parameters that have no gradient\n",
        "                    continue\n",
        "                grad = p.grad.data # Get the gradient of the parameter\n",
        "                # Retrieve or initialize the optimizer's internal state\n",
        "                state = self.state[p]\n",
        "                if len(state) == 0:\n",
        "                    state['momentum_buffer'] = torch.clone(grad).detach()\n",
        "                # Apply weight decay directly to the gradient\n",
        "                if group['weight_decay'] != 0:\n",
        "                    grad.add_(p.data, alpha=group['weight_decay'])\n",
        "                # Compute the norms of the parameter and its gradient\n",
        "                param_norm = torch.norm(p.data)\n",
        "                grad_norm = torch.norm(grad)\n",
        "                # Compute local learning rate based on the trust coefficient and norms\n",
        "                if param_norm > 0 and grad_norm > 0:\n",
        "                    local_lr = group['trust_coefficient'] * param_norm / (grad_norm + 1e-8)\n",
        "                    grad = grad.mul(local_lr) # Scale the gradient with the local learning rate\n",
        "                # Update the momentum buffer\n",
        "                momentum_buffer = state['momentum_buffer']\n",
        "                momentum_buffer.mul_(group['momentum']).add_(grad) #Momentum update\n",
        "                state['momentum_buffer'] = momentum_buffer\n",
        "                # Update the parameter\n",
        "                p.data.add_(momentum_buffer, alpha=-group['lr']) # Gradient descent step with learning rate\n",
        "        return loss\n",
        "\n",
        "class LAMB(optim.Optimizer):\n",
        "    def __init__(self, params, lr, weight_decay=0, betas=(0.9, 0.999), eps=1e-8):\n",
        "        # Initialize the optimizer with learning rate, weight decay, betas for moment updates, and epsilon for stability\n",
        "        defaults = dict(lr=lr, weight_decay=weight_decay, betas=betas, eps=eps)\n",
        "        super(LAMB, self).__init__(params, defaults)\n",
        "\n",
        "    def step(self, closure=None):\n",
        "        loss = None\n",
        "        if closure is not None:\n",
        "            # If a closure is provided, evaluate it\n",
        "            loss = closure()\n",
        "        for group in self.param_groups:\n",
        "            for p in group['params']:\n",
        "                if p.grad is None:\n",
        "                    # Skip parameters that have no gradient\n",
        "                    continue\n",
        "                grad = p.grad.data # Get the gradient of the parameter\n",
        "                # Retrieve or initialize the optimizer's internal state\n",
        "                state = self.state[p]\n",
        "                # Initialize state\n",
        "                if len(state) == 0:\n",
        "                    # Initialize the state (step counter, first moment, second moment)\n",
        "                    state['step'] = 0\n",
        "                    state['exp_avg'] = torch.zeros_like(p.data) # First moment (mean of gradients)\n",
        "                    state['exp_avg_sq'] = torch.zeros_like(p.data) # Second moment (mean of squared gradients)\n",
        "                exp_avg = state['exp_avg']\n",
        "                exp_avg_sq = state['exp_avg_sq']\n",
        "                beta1, beta2 = group['betas']  # Coefficients for moment updates\n",
        "                state['step'] += 1 # Increment step count\n",
        "                step = state['step']\n",
        "                # Decay the first and second moment running average coefficients\n",
        "                # Update first and second moments\n",
        "                exp_avg.mul_(beta1).add_(grad, alpha=1 - beta1) # Exponential moving average of gradients\n",
        "                exp_avg_sq.mul_(beta2).addcmul_(grad, grad, value=1 - beta2) # Exponential moving average of squared gradients\n",
        "                # Correct bias in the first and second moments\n",
        "                bias_correction1 = 1 - beta1 ** step\n",
        "                bias_correction2 = 1 - beta2 ** step\n",
        "                corrected_exp_avg = exp_avg / bias_correction1\n",
        "                corrected_exp_avg_sq = exp_avg_sq / bias_correction2\n",
        "                # Compute the denominator for scaling the update\n",
        "                denom = corrected_exp_avg_sq.sqrt().add_(group['eps']) # Stability epsilon\n",
        "                # Compute the step update\n",
        "                update = corrected_exp_avg / denom\n",
        "                # Apply weight decay directly to the parameters\n",
        "                if group['weight_decay'] != 0:\n",
        "                    update.add_(p.data, alpha=group['weight_decay'])\n",
        "                # Compute the trust ratio (norm of parameters vs norm of update)\n",
        "                param_norm = torch.norm(p.data)\n",
        "                update_norm = torch.norm(update)\n",
        "                trust_ratio = 1.0  # Default trust ratio\n",
        "                if param_norm > 0 and update_norm > 0:\n",
        "                    trust_ratio = param_norm / update_norm\n",
        "                # Update the parameters\n",
        "                p.data.add_(update, alpha=-group['lr'] * trust_ratio)\n",
        "        return loss\n",
        "\n",
        "class SqrtLRScheduler(torch.optim.lr_scheduler._LRScheduler):\n",
        "    def __init__(self, optimizer, base_lr, batch_size, warmup_epochs, total_epochs, reference_batch_size, verbose=False):\n",
        "        \"\"\"\n",
        "        Args:\n",
        "            optimizer: PyTorch optimizer (e.g., Adam, LAMB, LARS).\n",
        "            base_lr: Base learning rate for the reference batch size.\n",
        "            batch_size: Current batch size.\n",
        "            warmup_epochs: Number of warmup epochs.\n",
        "            total_epochs: Total number of epochs.\n",
        "            reference_batch_size: Batch size for which the base_lr is defined.\n",
        "            verbose: Whether to print LR updates.\n",
        "        \"\"\"\n",
        "        self.base_lr = base_lr\n",
        "        self.batch_size = batch_size\n",
        "        self.scaled_lr = base_lr * (batch_size / reference_batch_size) ** 0.5\n",
        "        self.warmup_epochs = warmup_epochs\n",
        "        self.total_epochs = total_epochs\n",
        "        self.verbose = verbose\n",
        "        super(SqrtLRScheduler, self).__init__(optimizer)\n",
        "\n",
        "    def get_lr(self):\n",
        "        epoch = self.last_epoch\n",
        "        if epoch < self.warmup_epochs:\n",
        "            # Linear warmup scaling\n",
        "            warmup_factor = (epoch + 1) / self.warmup_epochs\n",
        "            return [warmup_factor * self.scaled_lr for _ in self.optimizer.param_groups]\n",
        "        else:\n",
        "            # polynomially decaying learning rate of ηt = η0×(1−t/T)\n",
        "            if epoch == self.warmup_epochs:\n",
        "                print(f\"Warmup phase completed at epoch {epoch}. Switching to constant learning rate.\")\n",
        "            return [self.scaled_lr * ( 1 - ( (epoch - self.warmup_epochs) / (self.total_epochs - self.warmup_epochs))) for _ in self.optimizer.param_groups]\n",
        "\n",
        "# Command-line arguments\n",
        "parser = argparse.ArgumentParser(description='Train with Large-Batch Optimizers')\n",
        "parser.add_argument('--optimizer', type=str, default='SGDM', choices=['SGDM', 'AdamW', 'LARS', 'LAMB'],\n",
        "                    help='Choose optimizer')\n",
        "parser.add_argument('--batch-size', type=int, default=128, help='Batch size')\n",
        "parser.add_argument('--momentum', type=float, default=0.9, help='Momentum for SGDM and LARS')\n",
        "parser.add_argument('--weight-decay', type=float, default=1e-5, help='Weight decay')\n",
        "parser.add_argument('--b1', type=float, default=0.9, help='Beta1 for AdamW')\n",
        "parser.add_argument('--b2', type=float, default=0.999, help='Beta2 for AdamW')\n",
        "parser.add_argument('--trust-coefficient', type=float, default=0.001, help='Trust coefficient for LARS')\n",
        "parser.add_argument('--epochs', type=int, default=150, help='Number of epochs')\n",
        "parser.add_argument('--warmup-epochs', type=int, default=5, help='Number of epochs')\n",
        "args = parser.parse_args()\n",
        "\n",
        "\n",
        "torch.manual_seed(42) # Set the seed for reproducibility\n",
        "torch.cuda.manual_seed_all(42) # Set the seed for reproducibility on GPU\n",
        "\n",
        "# use the same mean and std to add consistency to all datasets\n",
        "data = torchvision.datasets.CIFAR100(root='./data', train=True, download=True, transform=transforms.ToTensor())\n",
        "mean, std = compute_mean_std(data)\n",
        "\n",
        "# Load and split CIFAR-100 dataset\n",
        "train_transform = transforms.Compose([\n",
        "  transforms.RandomCrop(32, padding=4),\n",
        "  transforms.RandomHorizontalFlip(),\n",
        "  transforms.ToTensor(),\n",
        "  transforms.Normalize(mean, std)\n",
        "])\n",
        "\n",
        "val_transform = transforms.Compose([\n",
        "    transforms.ToTensor(), # Convert into tensor\n",
        "    transforms.Normalize(mean, std)  # Normalization\n",
        "])\n",
        "\n",
        "test_transform = transforms.Compose([\n",
        "    transforms.ToTensor(),  # Convert to PyTorch tensor\n",
        "    transforms.Normalize(mean, std)\n",
        "])\n",
        "\n",
        "trainset = torchvision.datasets.CIFAR100(root='./data', train=True, download=True, transform=train_transform)\n",
        "valset = torchvision.datasets.CIFAR100(root='./data', train=True, download=True, transform=val_transform)\n",
        "indices = torch.randperm(len(trainset))\n",
        "val_size = int(0.2*len(trainset))\n",
        "trainset = torch.utils.data.Subset(trainset, indices[:-val_size])\n",
        "valset = torch.utils.data.Subset(valset, indices[-val_size:])\n",
        "\n",
        "trainloader = torch.utils.data.DataLoader(trainset, batch_size=args.batch_size, shuffle=True, num_workers=2)\n",
        "valloader = torch.utils.data.DataLoader(valset, batch_size=args.batch_size, shuffle=False, num_workers=2)\n",
        "\n",
        "testset = torchvision.datasets.CIFAR100(root='./data', train=False, download=True, transform=test_transform)\n",
        "testloader = torch.utils.data.DataLoader(testset, batch_size=args.batch_size, shuffle=False, num_workers=2)\n",
        "\n",
        "\n",
        "# Fixed parameter from paper [18] to calculate the square root LR scaling value\n",
        "# base_lr = 5 / (2**3 * 10**3)\n",
        "# reference_batch_size = 512\n",
        "#scaled_lr = base_lr * (args.batch_size / reference_batch_size) ** 0.5\n",
        "\n",
        "# Mapping optimizers\n",
        "if args.optimizer == 'SGDM':\n",
        "    base_lr = 1e-2\n",
        "    reference_batch_size = 64\n",
        "    scaled_lr = base_lr * (args.batch_size / reference_batch_size) ** 0.5\n",
        "    optimizer = optim.SGD(net.parameters(), lr=scaled_lr, momentum=args.momentum, weight_decay=args.weight_decay)\n",
        "elif args.optimizer == 'AdamW':\n",
        "    base_lr = 5e-4\n",
        "    reference_batch_size = 64\n",
        "    scaled_lr = base_lr * (args.batch_size / reference_batch_size) ** 0.5\n",
        "    optimizer = optim.AdamW(net.parameters(), lr=scaled_lr, betas=(args.b1, args.b2), weight_decay=args.weight_decay)\n",
        "elif args.optimizer == 'LARS':\n",
        "    base_lr = 5e-1\n",
        "    reference_batch_size = 64\n",
        "    scaled_lr = base_lr * (args.batch_size / reference_batch_size) ** 0.5\n",
        "    optimizer = LARS(net.parameters(), lr=scaled_lr, momentum=args.momentum, weight_decay=args.weight_decay, trust_coefficient=args.trust_coefficient)\n",
        "elif args.optimizer == 'LAMB':\n",
        "    base_lr = 5e-4\n",
        "    reference_batch_size = 64\n",
        "    scaled_lr = base_lr * (args.batch_size / reference_batch_size) ** 0.5\n",
        "    optimizer = LAMB(net.parameters(), lr=scaled_lr, weight_decay=args.weight_decay)\n",
        "\n",
        "criterion = nn.CrossEntropyLoss()\n",
        "\n",
        "# scheduler should be e square root LR scaling rule and linear-epoch warmup scheduling to automatically adjust learning rate\n",
        "scheduler = SqrtLRScheduler(\n",
        "    optimizer = optimizer,\n",
        "    base_lr = base_lr,\n",
        "    batch_size = args.batch_size,\n",
        "    warmup_epochs = args.warmup_epochs,\n",
        "    total_epochs = args.epochs,\n",
        "    reference_batch_size = reference_batch_size,\n",
        "    verbose = True)\n",
        "\n",
        "# Training Function\n",
        "def train_model(optimizer, scheduler, model, criterion, trainloader, valloader , testloader, device, epochs, save_checkpoint_interval=10):\n",
        "    train_losses, val_losses, test_losses = [], [], []\n",
        "    train_accuracies, val_accuracies, test_accuracies = [], [], []\n",
        "    for epoch in range(epochs):\n",
        "        model.train()\n",
        "        running_loss, correct_train, total_train = 0.0, 0, 0\n",
        "        for inputs, labels in trainloader:\n",
        "            inputs, labels = inputs.to(device), labels.to(device)\n",
        "            optimizer.zero_grad()\n",
        "            outputs = model(inputs)\n",
        "            loss = criterion(outputs, labels)\n",
        "            loss.backward()\n",
        "            optimizer.step()\n",
        "            running_loss += loss.item()\n",
        "            _, predicted = outputs.max(1)\n",
        "            total_train += labels.size(0)\n",
        "            correct_train += predicted.eq(labels).sum().item()\n",
        "        train_loss = running_loss / len(trainloader)\n",
        "        train_accuracy = 100. * correct_train / total_train\n",
        "        train_losses.append(train_loss)\n",
        "        train_accuracies.append(train_accuracy)\n",
        "\n",
        "        # Validation\n",
        "        model.eval()\n",
        "        correct_val, total_val, val_loss = 0, 0, 0.0\n",
        "        with torch.no_grad():\n",
        "            for inputs, labels in valloader:\n",
        "                inputs, labels = inputs.to(device), labels.to(device)\n",
        "                outputs = model(inputs)\n",
        "                loss = criterion(outputs, labels)\n",
        "                val_loss += loss.item()\n",
        "                _, predicted = outputs.max(1)\n",
        "                total_val += labels.size(0)\n",
        "                correct_val += predicted.eq(labels).sum().item()\n",
        "        val_loss /= len(valloader)\n",
        "        val_losses.append(val_loss)\n",
        "        val_accuracy = 100. * correct_val / total_val\n",
        "        val_accuracies.append(val_accuracy)\n",
        "\n",
        "        '''\n",
        "        # Early Stopping\n",
        "        if val_loss < best_val_loss:\n",
        "          best_val_loss = val_loss\n",
        "          epochs_no_improve = 0\n",
        "        else:\n",
        "          epochs_no_improve += 1\n",
        "\n",
        "        if epochs_no_improve == patience:\n",
        "          print(\"Early stopping!\")\n",
        "          break\n",
        "        '''\n",
        "\n",
        "        # Test\n",
        "        correct_test, total_test, test_loss = 0, 0, 0.0\n",
        "        with torch.no_grad():\n",
        "            for inputs, labels in testloader:\n",
        "                inputs, labels = inputs.to(device), labels.to(device)\n",
        "                outputs = model(inputs)\n",
        "                loss = criterion(outputs, labels)\n",
        "                test_loss += loss.item()\n",
        "                _, predicted = outputs.max(1)\n",
        "                total_test += labels.size(0)\n",
        "                correct_test += predicted.eq(labels).sum().item()\n",
        "        test_loss /= len(testloader)\n",
        "        test_losses.append(test_loss)\n",
        "        test_accuracy = 100. * correct_test / total_test\n",
        "        test_accuracies.append(test_accuracy)\n",
        "\n",
        "        scheduler.step()\n",
        "\n",
        "        # Checkpointing\n",
        "        if (epoch + 1) % save_checkpoint_interval == 0:\n",
        "            checkpoint_filename = f'checkpoint_epoch_{epoch + 1}.pth'\n",
        "            checkpoint = {\n",
        "                'epoch': epoch + 1,\n",
        "                'model_state_dict': model.state_dict(),\n",
        "                'optimizer_state_dict': optimizer.state_dict(),\n",
        "                'scheduler_state_dict': scheduler.state_dict(),\n",
        "                'loss': loss.item(),\n",
        "            }\n",
        "            checkpoint_path = os.path.join('./', checkpoint_filename)\n",
        "            torch.save(checkpoint, checkpoint_path)\n",
        "            print(f'Checkpoint saved at epoch {epoch + 1}: {checkpoint_path}')\n",
        "\n",
        "            # Download the checkpoint\n",
        "            files.download(checkpoint_filename)\n",
        "\n",
        "        print(f'Epoch {epoch+1}/{epochs}, Train Acc: {train_accuracy:.2f}%, Val Acc: {val_accuracy:.2f}%, Test Acc: {test_accuracy:.2f}%')\n",
        "        print(f'Epoch {epoch+1}/{epochs}, Train Loss: {train_loss:.4f}, Val Loss: {val_loss:.4f}, Test Loss: {test_loss:.4f}')\n",
        "\n",
        "    return train_losses, val_losses, test_losses, train_accuracies, val_accuracies, test_accuracies\n",
        "\n",
        "# Train the model\n",
        "print(f\"--- Train with {args.optimizer} ---\")\n",
        "train_loss, val_loss, test_loss, train_acc, val_acc, test_acc = train_model(optimizer, scheduler, net, criterion, trainloader, valloader, testloader, device, args.epochs)\n",
        "\n",
        "# Save model\n",
        "torch.save(net.state_dict(), f'net_{args.optimizer}.pth')\n",
        "\n",
        "# Plot results\n",
        "# Plot Training Loss\n",
        "plt.figure(figsize=(6, 4))\n",
        "plt.plot(train_loss, label='Train Loss')\n",
        "plt.title('Training Loss')\n",
        "plt.xlabel('Epoch')\n",
        "plt.ylabel('Loss')\n",
        "plt.legend()\n",
        "plt.tight_layout()\n",
        "plt.savefig('train_loss.png')\n",
        "plt.show()\n",
        "\n",
        "# Plot Training Accuracy\n",
        "plt.figure(figsize=(6, 4))\n",
        "plt.plot(train_acc, label='Train Accuracy')\n",
        "plt.title('Training Accuracy')\n",
        "plt.xlabel('Epoch')\n",
        "plt.ylabel('Accuracy (%)')\n",
        "plt.legend()\n",
        "plt.tight_layout()\n",
        "plt.savefig('train_accuracy.png')\n",
        "plt.show()\n",
        "\n",
        "# Plot Validation Loss\n",
        "plt.figure(figsize=(6, 4))\n",
        "plt.plot(val_loss, label='Validation Loss')\n",
        "plt.title('Validation Loss')\n",
        "plt.xlabel('Epoch')\n",
        "plt.ylabel('Loss')\n",
        "plt.legend()\n",
        "plt.tight_layout()\n",
        "plt.savefig('val_loss.png')\n",
        "plt.show()\n",
        "\n",
        "# Plot Validation Accuracy\n",
        "plt.figure(figsize=(6, 4))\n",
        "plt.plot(val_acc, label='Validation Accuracy')\n",
        "plt.title('Validation Accuracy')\n",
        "plt.xlabel('Epoch')\n",
        "plt.ylabel('Accuracy (%)')\n",
        "plt.legend()\n",
        "plt.tight_layout()\n",
        "plt.savefig('val_accuracy.png')\n",
        "plt.show()\n",
        "\n",
        "# Plot Test Loss\n",
        "plt.figure(figsize=(6, 4))\n",
        "plt.plot(test_loss, label='Test Loss')\n",
        "plt.title('Test Loss')\n",
        "plt.xlabel('Epoch')\n",
        "plt.ylabel('Loss')\n",
        "plt.legend()\n",
        "plt.tight_layout()\n",
        "plt.savefig('test_loss.png')\n",
        "plt.show()\n",
        "\n",
        "# Plot Test Accuracy\n",
        "plt.figure(figsize=(6, 4))\n",
        "plt.plot(test_acc, label='Test Accuracy')\n",
        "plt.title('Test Accuracy')\n",
        "plt.xlabel('Epoch')\n",
        "plt.ylabel('Accuracy (%)')\n",
        "plt.legend()\n",
        "plt.tight_layout()\n",
        "plt.savefig('test_accuracy.png')\n",
        "plt.show()\n"
      ]
    },
    {
      "cell_type": "code",
      "execution_count": null,
      "metadata": {
        "colab": {
          "base_uri": "https://localhost:8080/",
          "height": 460
        },
        "id": "_hEcpkQqYJmP",
        "outputId": "054cca2f-8701-4830-ae1c-4f1fc306c8c1"
      },
      "outputs": [
        {
          "name": "stdout",
          "output_type": "stream",
          "text": [
            "Files already downloaded and verified\n",
            "Files already downloaded and verified\n",
            "Files already downloaded and verified\n",
            "Files already downloaded and verified\n",
            "--- Train with SGDM ---\n"
          ]
        },
        {
          "ename": "KeyboardInterrupt",
          "evalue": "",
          "output_type": "error",
          "traceback": [
            "\u001b[0;31m---------------------------------------------------------------------------\u001b[0m",
            "\u001b[0;31mKeyboardInterrupt\u001b[0m                         Traceback (most recent call last)",
            "\u001b[0;32m/content/large_batch_training.py\u001b[0m in \u001b[0;36m<module>\u001b[0;34m\u001b[0m\n\u001b[1;32m    385\u001b[0m \u001b[0;31m# Train the model\u001b[0m\u001b[0;34m\u001b[0m\u001b[0;34m\u001b[0m\u001b[0m\n\u001b[1;32m    386\u001b[0m \u001b[0mprint\u001b[0m\u001b[0;34m(\u001b[0m\u001b[0;34mf\"--- Train with {args.optimizer} ---\"\u001b[0m\u001b[0;34m)\u001b[0m\u001b[0;34m\u001b[0m\u001b[0;34m\u001b[0m\u001b[0m\n\u001b[0;32m--> 387\u001b[0;31m \u001b[0mtrain_loss\u001b[0m\u001b[0;34m,\u001b[0m \u001b[0mval_loss\u001b[0m\u001b[0;34m,\u001b[0m \u001b[0mtest_loss\u001b[0m\u001b[0;34m,\u001b[0m \u001b[0mtrain_acc\u001b[0m\u001b[0;34m,\u001b[0m \u001b[0mval_acc\u001b[0m\u001b[0;34m,\u001b[0m \u001b[0mtest_acc\u001b[0m \u001b[0;34m=\u001b[0m \u001b[0mtrain_model\u001b[0m\u001b[0;34m(\u001b[0m\u001b[0moptimizer\u001b[0m\u001b[0;34m,\u001b[0m \u001b[0mscheduler\u001b[0m\u001b[0;34m,\u001b[0m \u001b[0mnet\u001b[0m\u001b[0;34m,\u001b[0m \u001b[0mcriterion\u001b[0m\u001b[0;34m,\u001b[0m \u001b[0mtrainloader\u001b[0m\u001b[0;34m,\u001b[0m \u001b[0mvalloader\u001b[0m\u001b[0;34m,\u001b[0m \u001b[0mtestloader\u001b[0m\u001b[0;34m,\u001b[0m \u001b[0mdevice\u001b[0m\u001b[0;34m,\u001b[0m \u001b[0margs\u001b[0m\u001b[0;34m.\u001b[0m\u001b[0mepochs\u001b[0m\u001b[0;34m)\u001b[0m\u001b[0;34m\u001b[0m\u001b[0;34m\u001b[0m\u001b[0m\n\u001b[0m\u001b[1;32m    388\u001b[0m \u001b[0;34m\u001b[0m\u001b[0m\n\u001b[1;32m    389\u001b[0m \u001b[0;31m# Save model\u001b[0m\u001b[0;34m\u001b[0m\u001b[0;34m\u001b[0m\u001b[0m\n",
            "\u001b[0;32m/content/large_batch_training.py\u001b[0m in \u001b[0;36mtrain_model\u001b[0;34m(optimizer, scheduler, model, criterion, trainloader, valloader, testloader, device, epochs, save_checkpoint_interval)\u001b[0m\n\u001b[1;32m    297\u001b[0m         \u001b[0mmodel\u001b[0m\u001b[0;34m.\u001b[0m\u001b[0mtrain\u001b[0m\u001b[0;34m(\u001b[0m\u001b[0;34m)\u001b[0m\u001b[0;34m\u001b[0m\u001b[0;34m\u001b[0m\u001b[0m\n\u001b[1;32m    298\u001b[0m         \u001b[0mrunning_loss\u001b[0m\u001b[0;34m,\u001b[0m \u001b[0mcorrect_train\u001b[0m\u001b[0;34m,\u001b[0m \u001b[0mtotal_train\u001b[0m \u001b[0;34m=\u001b[0m \u001b[0;36m0.0\u001b[0m\u001b[0;34m,\u001b[0m \u001b[0;36m0\u001b[0m\u001b[0;34m,\u001b[0m \u001b[0;36m0\u001b[0m\u001b[0;34m\u001b[0m\u001b[0;34m\u001b[0m\u001b[0m\n\u001b[0;32m--> 299\u001b[0;31m         \u001b[0;32mfor\u001b[0m \u001b[0minputs\u001b[0m\u001b[0;34m,\u001b[0m \u001b[0mlabels\u001b[0m \u001b[0;32min\u001b[0m \u001b[0mtrainloader\u001b[0m\u001b[0;34m:\u001b[0m\u001b[0;34m\u001b[0m\u001b[0;34m\u001b[0m\u001b[0m\n\u001b[0m\u001b[1;32m    300\u001b[0m             \u001b[0minputs\u001b[0m\u001b[0;34m,\u001b[0m \u001b[0mlabels\u001b[0m \u001b[0;34m=\u001b[0m \u001b[0minputs\u001b[0m\u001b[0;34m.\u001b[0m\u001b[0mto\u001b[0m\u001b[0;34m(\u001b[0m\u001b[0mdevice\u001b[0m\u001b[0;34m)\u001b[0m\u001b[0;34m,\u001b[0m \u001b[0mlabels\u001b[0m\u001b[0;34m.\u001b[0m\u001b[0mto\u001b[0m\u001b[0;34m(\u001b[0m\u001b[0mdevice\u001b[0m\u001b[0;34m)\u001b[0m\u001b[0;34m\u001b[0m\u001b[0;34m\u001b[0m\u001b[0m\n\u001b[1;32m    301\u001b[0m             \u001b[0moptimizer\u001b[0m\u001b[0;34m.\u001b[0m\u001b[0mzero_grad\u001b[0m\u001b[0;34m(\u001b[0m\u001b[0;34m)\u001b[0m\u001b[0;34m\u001b[0m\u001b[0;34m\u001b[0m\u001b[0m\n",
            "\u001b[0;32m/usr/local/lib/python3.10/dist-packages/torch/utils/data/dataloader.py\u001b[0m in \u001b[0;36m__next__\u001b[0;34m(self)\u001b[0m\n\u001b[1;32m    699\u001b[0m                 \u001b[0;31m# TODO(https://github.com/pytorch/pytorch/issues/76750)\u001b[0m\u001b[0;34m\u001b[0m\u001b[0;34m\u001b[0m\u001b[0m\n\u001b[1;32m    700\u001b[0m                 \u001b[0mself\u001b[0m\u001b[0;34m.\u001b[0m\u001b[0m_reset\u001b[0m\u001b[0;34m(\u001b[0m\u001b[0;34m)\u001b[0m  \u001b[0;31m# type: ignore[call-arg]\u001b[0m\u001b[0;34m\u001b[0m\u001b[0;34m\u001b[0m\u001b[0m\n\u001b[0;32m--> 701\u001b[0;31m             \u001b[0mdata\u001b[0m \u001b[0;34m=\u001b[0m \u001b[0mself\u001b[0m\u001b[0;34m.\u001b[0m\u001b[0m_next_data\u001b[0m\u001b[0;34m(\u001b[0m\u001b[0;34m)\u001b[0m\u001b[0;34m\u001b[0m\u001b[0;34m\u001b[0m\u001b[0m\n\u001b[0m\u001b[1;32m    702\u001b[0m             \u001b[0mself\u001b[0m\u001b[0;34m.\u001b[0m\u001b[0m_num_yielded\u001b[0m \u001b[0;34m+=\u001b[0m \u001b[0;36m1\u001b[0m\u001b[0;34m\u001b[0m\u001b[0;34m\u001b[0m\u001b[0m\n\u001b[1;32m    703\u001b[0m             if (\n",
            "\u001b[0;32m/usr/local/lib/python3.10/dist-packages/torch/utils/data/dataloader.py\u001b[0m in \u001b[0;36m_next_data\u001b[0;34m(self)\u001b[0m\n\u001b[1;32m   1446\u001b[0m \u001b[0;34m\u001b[0m\u001b[0m\n\u001b[1;32m   1447\u001b[0m             \u001b[0;32massert\u001b[0m \u001b[0;32mnot\u001b[0m \u001b[0mself\u001b[0m\u001b[0;34m.\u001b[0m\u001b[0m_shutdown\u001b[0m \u001b[0;32mand\u001b[0m \u001b[0mself\u001b[0m\u001b[0;34m.\u001b[0m\u001b[0m_tasks_outstanding\u001b[0m \u001b[0;34m>\u001b[0m \u001b[0;36m0\u001b[0m\u001b[0;34m\u001b[0m\u001b[0;34m\u001b[0m\u001b[0m\n\u001b[0;32m-> 1448\u001b[0;31m             \u001b[0midx\u001b[0m\u001b[0;34m,\u001b[0m \u001b[0mdata\u001b[0m \u001b[0;34m=\u001b[0m \u001b[0mself\u001b[0m\u001b[0;34m.\u001b[0m\u001b[0m_get_data\u001b[0m\u001b[0;34m(\u001b[0m\u001b[0;34m)\u001b[0m\u001b[0;34m\u001b[0m\u001b[0;34m\u001b[0m\u001b[0m\n\u001b[0m\u001b[1;32m   1449\u001b[0m             \u001b[0mself\u001b[0m\u001b[0;34m.\u001b[0m\u001b[0m_tasks_outstanding\u001b[0m \u001b[0;34m-=\u001b[0m \u001b[0;36m1\u001b[0m\u001b[0;34m\u001b[0m\u001b[0;34m\u001b[0m\u001b[0m\n\u001b[1;32m   1450\u001b[0m             \u001b[0;32mif\u001b[0m \u001b[0mself\u001b[0m\u001b[0;34m.\u001b[0m\u001b[0m_dataset_kind\u001b[0m \u001b[0;34m==\u001b[0m \u001b[0m_DatasetKind\u001b[0m\u001b[0;34m.\u001b[0m\u001b[0mIterable\u001b[0m\u001b[0;34m:\u001b[0m\u001b[0;34m\u001b[0m\u001b[0;34m\u001b[0m\u001b[0m\n",
            "\u001b[0;32m/usr/local/lib/python3.10/dist-packages/torch/utils/data/dataloader.py\u001b[0m in \u001b[0;36m_get_data\u001b[0;34m(self)\u001b[0m\n\u001b[1;32m   1410\u001b[0m         \u001b[0;32melse\u001b[0m\u001b[0;34m:\u001b[0m\u001b[0;34m\u001b[0m\u001b[0;34m\u001b[0m\u001b[0m\n\u001b[1;32m   1411\u001b[0m             \u001b[0;32mwhile\u001b[0m \u001b[0;32mTrue\u001b[0m\u001b[0;34m:\u001b[0m\u001b[0;34m\u001b[0m\u001b[0;34m\u001b[0m\u001b[0m\n\u001b[0;32m-> 1412\u001b[0;31m                 \u001b[0msuccess\u001b[0m\u001b[0;34m,\u001b[0m \u001b[0mdata\u001b[0m \u001b[0;34m=\u001b[0m \u001b[0mself\u001b[0m\u001b[0;34m.\u001b[0m\u001b[0m_try_get_data\u001b[0m\u001b[0;34m(\u001b[0m\u001b[0;34m)\u001b[0m\u001b[0;34m\u001b[0m\u001b[0;34m\u001b[0m\u001b[0m\n\u001b[0m\u001b[1;32m   1413\u001b[0m                 \u001b[0;32mif\u001b[0m \u001b[0msuccess\u001b[0m\u001b[0;34m:\u001b[0m\u001b[0;34m\u001b[0m\u001b[0;34m\u001b[0m\u001b[0m\n\u001b[1;32m   1414\u001b[0m                     \u001b[0;32mreturn\u001b[0m \u001b[0mdata\u001b[0m\u001b[0;34m\u001b[0m\u001b[0;34m\u001b[0m\u001b[0m\n",
            "\u001b[0;32m/usr/local/lib/python3.10/dist-packages/torch/utils/data/dataloader.py\u001b[0m in \u001b[0;36m_try_get_data\u001b[0;34m(self, timeout)\u001b[0m\n\u001b[1;32m   1241\u001b[0m         \u001b[0;31m#   (bool: whether successfully get data, any: data if successful else None)\u001b[0m\u001b[0;34m\u001b[0m\u001b[0;34m\u001b[0m\u001b[0m\n\u001b[1;32m   1242\u001b[0m         \u001b[0;32mtry\u001b[0m\u001b[0;34m:\u001b[0m\u001b[0;34m\u001b[0m\u001b[0;34m\u001b[0m\u001b[0m\n\u001b[0;32m-> 1243\u001b[0;31m             \u001b[0mdata\u001b[0m \u001b[0;34m=\u001b[0m \u001b[0mself\u001b[0m\u001b[0;34m.\u001b[0m\u001b[0m_data_queue\u001b[0m\u001b[0;34m.\u001b[0m\u001b[0mget\u001b[0m\u001b[0;34m(\u001b[0m\u001b[0mtimeout\u001b[0m\u001b[0;34m=\u001b[0m\u001b[0mtimeout\u001b[0m\u001b[0;34m)\u001b[0m\u001b[0;34m\u001b[0m\u001b[0;34m\u001b[0m\u001b[0m\n\u001b[0m\u001b[1;32m   1244\u001b[0m             \u001b[0;32mreturn\u001b[0m \u001b[0;34m(\u001b[0m\u001b[0;32mTrue\u001b[0m\u001b[0;34m,\u001b[0m \u001b[0mdata\u001b[0m\u001b[0;34m)\u001b[0m\u001b[0;34m\u001b[0m\u001b[0;34m\u001b[0m\u001b[0m\n\u001b[1;32m   1245\u001b[0m         \u001b[0;32mexcept\u001b[0m \u001b[0mException\u001b[0m \u001b[0;32mas\u001b[0m \u001b[0me\u001b[0m\u001b[0;34m:\u001b[0m\u001b[0;34m\u001b[0m\u001b[0;34m\u001b[0m\u001b[0m\n",
            "\u001b[0;32m/usr/lib/python3.10/multiprocessing/queues.py\u001b[0m in \u001b[0;36mget\u001b[0;34m(self, block, timeout)\u001b[0m\n\u001b[1;32m    111\u001b[0m                 \u001b[0;32mif\u001b[0m \u001b[0mblock\u001b[0m\u001b[0;34m:\u001b[0m\u001b[0;34m\u001b[0m\u001b[0;34m\u001b[0m\u001b[0m\n\u001b[1;32m    112\u001b[0m                     \u001b[0mtimeout\u001b[0m \u001b[0;34m=\u001b[0m \u001b[0mdeadline\u001b[0m \u001b[0;34m-\u001b[0m \u001b[0mtime\u001b[0m\u001b[0;34m.\u001b[0m\u001b[0mmonotonic\u001b[0m\u001b[0;34m(\u001b[0m\u001b[0;34m)\u001b[0m\u001b[0;34m\u001b[0m\u001b[0;34m\u001b[0m\u001b[0m\n\u001b[0;32m--> 113\u001b[0;31m                     \u001b[0;32mif\u001b[0m \u001b[0;32mnot\u001b[0m \u001b[0mself\u001b[0m\u001b[0;34m.\u001b[0m\u001b[0m_poll\u001b[0m\u001b[0;34m(\u001b[0m\u001b[0mtimeout\u001b[0m\u001b[0;34m)\u001b[0m\u001b[0;34m:\u001b[0m\u001b[0;34m\u001b[0m\u001b[0;34m\u001b[0m\u001b[0m\n\u001b[0m\u001b[1;32m    114\u001b[0m                         \u001b[0;32mraise\u001b[0m \u001b[0mEmpty\u001b[0m\u001b[0;34m\u001b[0m\u001b[0;34m\u001b[0m\u001b[0m\n\u001b[1;32m    115\u001b[0m                 \u001b[0;32melif\u001b[0m \u001b[0;32mnot\u001b[0m \u001b[0mself\u001b[0m\u001b[0;34m.\u001b[0m\u001b[0m_poll\u001b[0m\u001b[0;34m(\u001b[0m\u001b[0;34m)\u001b[0m\u001b[0;34m:\u001b[0m\u001b[0;34m\u001b[0m\u001b[0;34m\u001b[0m\u001b[0m\n",
            "\u001b[0;32m/usr/lib/python3.10/multiprocessing/connection.py\u001b[0m in \u001b[0;36mpoll\u001b[0;34m(self, timeout)\u001b[0m\n\u001b[1;32m    255\u001b[0m         \u001b[0mself\u001b[0m\u001b[0;34m.\u001b[0m\u001b[0m_check_closed\u001b[0m\u001b[0;34m(\u001b[0m\u001b[0;34m)\u001b[0m\u001b[0;34m\u001b[0m\u001b[0;34m\u001b[0m\u001b[0m\n\u001b[1;32m    256\u001b[0m         \u001b[0mself\u001b[0m\u001b[0;34m.\u001b[0m\u001b[0m_check_readable\u001b[0m\u001b[0;34m(\u001b[0m\u001b[0;34m)\u001b[0m\u001b[0;34m\u001b[0m\u001b[0;34m\u001b[0m\u001b[0m\n\u001b[0;32m--> 257\u001b[0;31m         \u001b[0;32mreturn\u001b[0m \u001b[0mself\u001b[0m\u001b[0;34m.\u001b[0m\u001b[0m_poll\u001b[0m\u001b[0;34m(\u001b[0m\u001b[0mtimeout\u001b[0m\u001b[0;34m)\u001b[0m\u001b[0;34m\u001b[0m\u001b[0;34m\u001b[0m\u001b[0m\n\u001b[0m\u001b[1;32m    258\u001b[0m \u001b[0;34m\u001b[0m\u001b[0m\n\u001b[1;32m    259\u001b[0m     \u001b[0;32mdef\u001b[0m \u001b[0m__enter__\u001b[0m\u001b[0;34m(\u001b[0m\u001b[0mself\u001b[0m\u001b[0;34m)\u001b[0m\u001b[0;34m:\u001b[0m\u001b[0;34m\u001b[0m\u001b[0;34m\u001b[0m\u001b[0m\n",
            "\u001b[0;32m/usr/lib/python3.10/multiprocessing/connection.py\u001b[0m in \u001b[0;36m_poll\u001b[0;34m(self, timeout)\u001b[0m\n\u001b[1;32m    422\u001b[0m \u001b[0;34m\u001b[0m\u001b[0m\n\u001b[1;32m    423\u001b[0m     \u001b[0;32mdef\u001b[0m \u001b[0m_poll\u001b[0m\u001b[0;34m(\u001b[0m\u001b[0mself\u001b[0m\u001b[0;34m,\u001b[0m \u001b[0mtimeout\u001b[0m\u001b[0;34m)\u001b[0m\u001b[0;34m:\u001b[0m\u001b[0;34m\u001b[0m\u001b[0;34m\u001b[0m\u001b[0m\n\u001b[0;32m--> 424\u001b[0;31m         \u001b[0mr\u001b[0m \u001b[0;34m=\u001b[0m \u001b[0mwait\u001b[0m\u001b[0;34m(\u001b[0m\u001b[0;34m[\u001b[0m\u001b[0mself\u001b[0m\u001b[0;34m]\u001b[0m\u001b[0;34m,\u001b[0m \u001b[0mtimeout\u001b[0m\u001b[0;34m)\u001b[0m\u001b[0;34m\u001b[0m\u001b[0;34m\u001b[0m\u001b[0m\n\u001b[0m\u001b[1;32m    425\u001b[0m         \u001b[0;32mreturn\u001b[0m \u001b[0mbool\u001b[0m\u001b[0;34m(\u001b[0m\u001b[0mr\u001b[0m\u001b[0;34m)\u001b[0m\u001b[0;34m\u001b[0m\u001b[0;34m\u001b[0m\u001b[0m\n\u001b[1;32m    426\u001b[0m \u001b[0;34m\u001b[0m\u001b[0m\n",
            "\u001b[0;32m/usr/lib/python3.10/multiprocessing/connection.py\u001b[0m in \u001b[0;36mwait\u001b[0;34m(object_list, timeout)\u001b[0m\n\u001b[1;32m    929\u001b[0m \u001b[0;34m\u001b[0m\u001b[0m\n\u001b[1;32m    930\u001b[0m             \u001b[0;32mwhile\u001b[0m \u001b[0;32mTrue\u001b[0m\u001b[0;34m:\u001b[0m\u001b[0;34m\u001b[0m\u001b[0;34m\u001b[0m\u001b[0m\n\u001b[0;32m--> 931\u001b[0;31m                 \u001b[0mready\u001b[0m \u001b[0;34m=\u001b[0m \u001b[0mselector\u001b[0m\u001b[0;34m.\u001b[0m\u001b[0mselect\u001b[0m\u001b[0;34m(\u001b[0m\u001b[0mtimeout\u001b[0m\u001b[0;34m)\u001b[0m\u001b[0;34m\u001b[0m\u001b[0;34m\u001b[0m\u001b[0m\n\u001b[0m\u001b[1;32m    932\u001b[0m                 \u001b[0;32mif\u001b[0m \u001b[0mready\u001b[0m\u001b[0;34m:\u001b[0m\u001b[0;34m\u001b[0m\u001b[0;34m\u001b[0m\u001b[0m\n\u001b[1;32m    933\u001b[0m                     \u001b[0;32mreturn\u001b[0m \u001b[0;34m[\u001b[0m\u001b[0mkey\u001b[0m\u001b[0;34m.\u001b[0m\u001b[0mfileobj\u001b[0m \u001b[0;32mfor\u001b[0m \u001b[0;34m(\u001b[0m\u001b[0mkey\u001b[0m\u001b[0;34m,\u001b[0m \u001b[0mevents\u001b[0m\u001b[0;34m)\u001b[0m \u001b[0;32min\u001b[0m \u001b[0mready\u001b[0m\u001b[0;34m]\u001b[0m\u001b[0;34m\u001b[0m\u001b[0;34m\u001b[0m\u001b[0m\n",
            "\u001b[0;32m/usr/lib/python3.10/selectors.py\u001b[0m in \u001b[0;36mselect\u001b[0;34m(self, timeout)\u001b[0m\n\u001b[1;32m    414\u001b[0m         \u001b[0mready\u001b[0m \u001b[0;34m=\u001b[0m \u001b[0;34m[\u001b[0m\u001b[0;34m]\u001b[0m\u001b[0;34m\u001b[0m\u001b[0;34m\u001b[0m\u001b[0m\n\u001b[1;32m    415\u001b[0m         \u001b[0;32mtry\u001b[0m\u001b[0;34m:\u001b[0m\u001b[0;34m\u001b[0m\u001b[0;34m\u001b[0m\u001b[0m\n\u001b[0;32m--> 416\u001b[0;31m             \u001b[0mfd_event_list\u001b[0m \u001b[0;34m=\u001b[0m \u001b[0mself\u001b[0m\u001b[0;34m.\u001b[0m\u001b[0m_selector\u001b[0m\u001b[0;34m.\u001b[0m\u001b[0mpoll\u001b[0m\u001b[0;34m(\u001b[0m\u001b[0mtimeout\u001b[0m\u001b[0;34m)\u001b[0m\u001b[0;34m\u001b[0m\u001b[0;34m\u001b[0m\u001b[0m\n\u001b[0m\u001b[1;32m    417\u001b[0m         \u001b[0;32mexcept\u001b[0m \u001b[0mInterruptedError\u001b[0m\u001b[0;34m:\u001b[0m\u001b[0;34m\u001b[0m\u001b[0;34m\u001b[0m\u001b[0m\n\u001b[1;32m    418\u001b[0m             \u001b[0;32mreturn\u001b[0m \u001b[0mready\u001b[0m\u001b[0;34m\u001b[0m\u001b[0;34m\u001b[0m\u001b[0m\n",
            "\u001b[0;31mKeyboardInterrupt\u001b[0m: "
          ]
        }
      ],
      "source": [
        "%run large_batch_training.py --optimizer SGDM --batch-size 128 --weight-decay 4e-4"
      ]
    },
    {
      "cell_type": "markdown",
      "metadata": {
        "id": "_2t__56QmDKL"
      },
      "source": []
    },
    {
      "cell_type": "code",
      "execution_count": null,
      "metadata": {
        "colab": {
          "base_uri": "https://localhost:8080/"
        },
        "id": "FqIzBQKfZFgB",
        "outputId": "beff2b9d-73ac-4a8d-ed6e-51a1140977bb"
      },
      "outputs": [
        {
          "name": "stdout",
          "output_type": "stream",
          "text": [
            "Files already downloaded and verified\n",
            "Files already downloaded and verified\n",
            "Files already downloaded and verified\n",
            "Files already downloaded and verified\n",
            "--- Train with AdamW ---\n"
          ]
        }
      ],
      "source": [
        "%run large_batch_training.py --optimizer AdamW --batch-size 128 --weight-decay 1e-2"
      ]
    },
    {
      "cell_type": "code",
      "execution_count": null,
      "metadata": {
        "colab": {
          "base_uri": "https://localhost:8080/"
        },
        "id": "_Y8TL9oBZL18",
        "outputId": "54fc2f89-7e7d-461b-fce6-1f0da7310a06"
      },
      "outputs": [
        {
          "name": "stdout",
          "output_type": "stream",
          "text": [
            "Files already downloaded and verified\n",
            "Files already downloaded and verified\n",
            "--- Train with LARS ---\n"
          ]
        }
      ],
      "source": [
        "%run large_batch_training.py --optimizer LARS --batch-size 128 --weight-decay 4e-4"
      ]
    },
    {
      "cell_type": "code",
      "execution_count": 3,
      "metadata": {
        "colab": {
          "base_uri": "https://localhost:8080/",
          "height": 1000
        },
        "id": "K_XY2BkhZOkY",
        "outputId": "03fb2754-3cff-4cb4-fcff-02ec557dbed4"
      },
      "outputs": [
        {
          "output_type": "stream",
          "name": "stdout",
          "text": [
            "Downloading https://www.cs.toronto.edu/~kriz/cifar-100-python.tar.gz to ./data/cifar-100-python.tar.gz\n"
          ]
        },
        {
          "output_type": "stream",
          "name": "stderr",
          "text": [
            "100%|██████████| 169M/169M [00:04<00:00, 40.2MB/s]\n"
          ]
        },
        {
          "output_type": "stream",
          "name": "stdout",
          "text": [
            "Extracting ./data/cifar-100-python.tar.gz to ./data\n",
            "Files already downloaded and verified\n",
            "Files already downloaded and verified\n",
            "Files already downloaded and verified\n",
            "--- Train with LAMB ---\n",
            "Epoch 1/150, Train Acc: 1.03%, Val Acc: 0.89%, Test Acc: 1.01%\n",
            "Epoch 1/150, Train Loss: 4.6054, Val Loss: 4.6032, Test Loss: 4.6031\n",
            "Epoch 2/150, Train Acc: 1.40%, Val Acc: 2.31%, Test Acc: 2.39%\n",
            "Epoch 2/150, Train Loss: 4.5992, Val Loss: 4.5924, Test Loss: 4.5926\n",
            "Epoch 3/150, Train Acc: 2.81%, Val Acc: 3.15%, Test Acc: 3.21%\n",
            "Epoch 3/150, Train Loss: 4.5808, Val Loss: 4.5589, Test Loss: 4.5594\n",
            "Epoch 4/150, Train Acc: 3.19%, Val Acc: 3.62%, Test Acc: 3.90%\n",
            "Epoch 4/150, Train Loss: 4.5264, Val Loss: 4.4673, Test Loss: 4.4688\n",
            "Warmup phase completed at epoch 5. Switching to constant learning rate.\n",
            "Epoch 5/150, Train Acc: 4.10%, Val Acc: 5.38%, Test Acc: 5.55%\n",
            "Epoch 5/150, Train Loss: 4.4072, Val Loss: 4.3000, Test Loss: 4.3034\n",
            "Epoch 6/150, Train Acc: 5.88%, Val Acc: 7.29%, Test Acc: 6.93%\n",
            "Epoch 6/150, Train Loss: 4.2491, Val Loss: 4.1397, Test Loss: 4.1484\n",
            "Epoch 7/150, Train Acc: 7.32%, Val Acc: 8.91%, Test Acc: 8.16%\n",
            "Epoch 7/150, Train Loss: 4.1286, Val Loss: 4.0365, Test Loss: 4.0531\n",
            "Epoch 8/150, Train Acc: 8.33%, Val Acc: 9.79%, Test Acc: 9.36%\n",
            "Epoch 8/150, Train Loss: 4.0503, Val Loss: 3.9737, Test Loss: 3.9858\n",
            "Epoch 9/150, Train Acc: 9.23%, Val Acc: 11.66%, Test Acc: 10.98%\n",
            "Epoch 9/150, Train Loss: 3.9826, Val Loss: 3.8922, Test Loss: 3.9039\n",
            "Checkpoint saved at epoch 10: ./checkpoint_epoch_10.pth\n"
          ]
        },
        {
          "output_type": "display_data",
          "data": {
            "text/plain": [
              "<IPython.core.display.Javascript object>"
            ],
            "application/javascript": [
              "\n",
              "    async function download(id, filename, size) {\n",
              "      if (!google.colab.kernel.accessAllowed) {\n",
              "        return;\n",
              "      }\n",
              "      const div = document.createElement('div');\n",
              "      const label = document.createElement('label');\n",
              "      label.textContent = `Downloading \"${filename}\": `;\n",
              "      div.appendChild(label);\n",
              "      const progress = document.createElement('progress');\n",
              "      progress.max = size;\n",
              "      div.appendChild(progress);\n",
              "      document.body.appendChild(div);\n",
              "\n",
              "      const buffers = [];\n",
              "      let downloaded = 0;\n",
              "\n",
              "      const channel = await google.colab.kernel.comms.open(id);\n",
              "      // Send a message to notify the kernel that we're ready.\n",
              "      channel.send({})\n",
              "\n",
              "      for await (const message of channel.messages) {\n",
              "        // Send a message to notify the kernel that we're ready.\n",
              "        channel.send({})\n",
              "        if (message.buffers) {\n",
              "          for (const buffer of message.buffers) {\n",
              "            buffers.push(buffer);\n",
              "            downloaded += buffer.byteLength;\n",
              "            progress.value = downloaded;\n",
              "          }\n",
              "        }\n",
              "      }\n",
              "      const blob = new Blob(buffers, {type: 'application/binary'});\n",
              "      const a = document.createElement('a');\n",
              "      a.href = window.URL.createObjectURL(blob);\n",
              "      a.download = filename;\n",
              "      div.appendChild(a);\n",
              "      a.click();\n",
              "      div.remove();\n",
              "    }\n",
              "  "
            ]
          },
          "metadata": {}
        },
        {
          "output_type": "display_data",
          "data": {
            "text/plain": [
              "<IPython.core.display.Javascript object>"
            ],
            "application/javascript": [
              "download(\"download_6a139da6-3a8b-4a43-81c2-7016b8ea74ba\", \"checkpoint_epoch_10.pth\", 9794388)"
            ]
          },
          "metadata": {}
        },
        {
          "output_type": "stream",
          "name": "stdout",
          "text": [
            "Epoch 10/150, Train Acc: 10.35%, Val Acc: 12.67%, Test Acc: 12.66%\n",
            "Epoch 10/150, Train Loss: 3.9080, Val Loss: 3.8171, Test Loss: 3.8331\n",
            "Epoch 11/150, Train Acc: 11.43%, Val Acc: 13.71%, Test Acc: 12.85%\n",
            "Epoch 11/150, Train Loss: 3.8501, Val Loss: 3.7458, Test Loss: 3.7620\n",
            "Epoch 12/150, Train Acc: 12.45%, Val Acc: 14.06%, Test Acc: 13.83%\n",
            "Epoch 12/150, Train Loss: 3.7848, Val Loss: 3.6902, Test Loss: 3.7033\n",
            "Epoch 13/150, Train Acc: 13.71%, Val Acc: 15.12%, Test Acc: 15.11%\n",
            "Epoch 13/150, Train Loss: 3.7209, Val Loss: 3.6307, Test Loss: 3.6491\n",
            "Epoch 14/150, Train Acc: 14.08%, Val Acc: 16.08%, Test Acc: 16.21%\n",
            "Epoch 14/150, Train Loss: 3.6763, Val Loss: 3.5798, Test Loss: 3.5992\n",
            "Epoch 15/150, Train Acc: 14.86%, Val Acc: 17.06%, Test Acc: 16.72%\n",
            "Epoch 15/150, Train Loss: 3.6263, Val Loss: 3.5291, Test Loss: 3.5412\n",
            "Epoch 16/150, Train Acc: 16.01%, Val Acc: 17.83%, Test Acc: 17.89%\n",
            "Epoch 16/150, Train Loss: 3.5754, Val Loss: 3.4756, Test Loss: 3.4906\n",
            "Epoch 17/150, Train Acc: 16.77%, Val Acc: 18.18%, Test Acc: 18.36%\n",
            "Epoch 17/150, Train Loss: 3.5218, Val Loss: 3.4387, Test Loss: 3.4546\n",
            "Epoch 18/150, Train Acc: 17.52%, Val Acc: 19.18%, Test Acc: 18.71%\n",
            "Epoch 18/150, Train Loss: 3.4767, Val Loss: 3.3956, Test Loss: 3.4120\n",
            "Epoch 19/150, Train Acc: 18.23%, Val Acc: 19.50%, Test Acc: 19.61%\n",
            "Epoch 19/150, Train Loss: 3.4396, Val Loss: 3.3585, Test Loss: 3.3742\n",
            "Checkpoint saved at epoch 20: ./checkpoint_epoch_20.pth\n"
          ]
        },
        {
          "output_type": "display_data",
          "data": {
            "text/plain": [
              "<IPython.core.display.Javascript object>"
            ],
            "application/javascript": [
              "\n",
              "    async function download(id, filename, size) {\n",
              "      if (!google.colab.kernel.accessAllowed) {\n",
              "        return;\n",
              "      }\n",
              "      const div = document.createElement('div');\n",
              "      const label = document.createElement('label');\n",
              "      label.textContent = `Downloading \"${filename}\": `;\n",
              "      div.appendChild(label);\n",
              "      const progress = document.createElement('progress');\n",
              "      progress.max = size;\n",
              "      div.appendChild(progress);\n",
              "      document.body.appendChild(div);\n",
              "\n",
              "      const buffers = [];\n",
              "      let downloaded = 0;\n",
              "\n",
              "      const channel = await google.colab.kernel.comms.open(id);\n",
              "      // Send a message to notify the kernel that we're ready.\n",
              "      channel.send({})\n",
              "\n",
              "      for await (const message of channel.messages) {\n",
              "        // Send a message to notify the kernel that we're ready.\n",
              "        channel.send({})\n",
              "        if (message.buffers) {\n",
              "          for (const buffer of message.buffers) {\n",
              "            buffers.push(buffer);\n",
              "            downloaded += buffer.byteLength;\n",
              "            progress.value = downloaded;\n",
              "          }\n",
              "        }\n",
              "      }\n",
              "      const blob = new Blob(buffers, {type: 'application/binary'});\n",
              "      const a = document.createElement('a');\n",
              "      a.href = window.URL.createObjectURL(blob);\n",
              "      a.download = filename;\n",
              "      div.appendChild(a);\n",
              "      a.click();\n",
              "      div.remove();\n",
              "    }\n",
              "  "
            ]
          },
          "metadata": {}
        },
        {
          "output_type": "display_data",
          "data": {
            "text/plain": [
              "<IPython.core.display.Javascript object>"
            ],
            "application/javascript": [
              "download(\"download_476e5a16-0374-4e10-938b-6742240007de\", \"checkpoint_epoch_20.pth\", 9794388)"
            ]
          },
          "metadata": {}
        },
        {
          "output_type": "stream",
          "name": "stdout",
          "text": [
            "Epoch 20/150, Train Acc: 19.14%, Val Acc: 21.10%, Test Acc: 20.68%\n",
            "Epoch 20/150, Train Loss: 3.3881, Val Loss: 3.2993, Test Loss: 3.3131\n",
            "Epoch 21/150, Train Acc: 20.05%, Val Acc: 21.19%, Test Acc: 20.63%\n",
            "Epoch 21/150, Train Loss: 3.3500, Val Loss: 3.2927, Test Loss: 3.3025\n",
            "Epoch 22/150, Train Acc: 20.55%, Val Acc: 22.01%, Test Acc: 21.62%\n",
            "Epoch 22/150, Train Loss: 3.3124, Val Loss: 3.2437, Test Loss: 3.2567\n",
            "Epoch 23/150, Train Acc: 21.14%, Val Acc: 22.42%, Test Acc: 21.82%\n",
            "Epoch 23/150, Train Loss: 3.2815, Val Loss: 3.2273, Test Loss: 3.2444\n",
            "Epoch 24/150, Train Acc: 21.40%, Val Acc: 23.10%, Test Acc: 22.72%\n",
            "Epoch 24/150, Train Loss: 3.2542, Val Loss: 3.1909, Test Loss: 3.2065\n",
            "Epoch 25/150, Train Acc: 22.36%, Val Acc: 23.47%, Test Acc: 23.19%\n",
            "Epoch 25/150, Train Loss: 3.2100, Val Loss: 3.1572, Test Loss: 3.1680\n",
            "Epoch 26/150, Train Acc: 22.88%, Val Acc: 24.16%, Test Acc: 23.67%\n",
            "Epoch 26/150, Train Loss: 3.1778, Val Loss: 3.1336, Test Loss: 3.1420\n",
            "Epoch 27/150, Train Acc: 23.39%, Val Acc: 25.12%, Test Acc: 24.99%\n",
            "Epoch 27/150, Train Loss: 3.1540, Val Loss: 3.0748, Test Loss: 3.0813\n",
            "Epoch 28/150, Train Acc: 23.68%, Val Acc: 23.74%, Test Acc: 23.36%\n",
            "Epoch 28/150, Train Loss: 3.1365, Val Loss: 3.1530, Test Loss: 3.1650\n",
            "Epoch 29/150, Train Acc: 24.21%, Val Acc: 25.36%, Test Acc: 24.89%\n",
            "Epoch 29/150, Train Loss: 3.1064, Val Loss: 3.0538, Test Loss: 3.0703\n",
            "Checkpoint saved at epoch 30: ./checkpoint_epoch_30.pth\n"
          ]
        },
        {
          "output_type": "display_data",
          "data": {
            "text/plain": [
              "<IPython.core.display.Javascript object>"
            ],
            "application/javascript": [
              "\n",
              "    async function download(id, filename, size) {\n",
              "      if (!google.colab.kernel.accessAllowed) {\n",
              "        return;\n",
              "      }\n",
              "      const div = document.createElement('div');\n",
              "      const label = document.createElement('label');\n",
              "      label.textContent = `Downloading \"${filename}\": `;\n",
              "      div.appendChild(label);\n",
              "      const progress = document.createElement('progress');\n",
              "      progress.max = size;\n",
              "      div.appendChild(progress);\n",
              "      document.body.appendChild(div);\n",
              "\n",
              "      const buffers = [];\n",
              "      let downloaded = 0;\n",
              "\n",
              "      const channel = await google.colab.kernel.comms.open(id);\n",
              "      // Send a message to notify the kernel that we're ready.\n",
              "      channel.send({})\n",
              "\n",
              "      for await (const message of channel.messages) {\n",
              "        // Send a message to notify the kernel that we're ready.\n",
              "        channel.send({})\n",
              "        if (message.buffers) {\n",
              "          for (const buffer of message.buffers) {\n",
              "            buffers.push(buffer);\n",
              "            downloaded += buffer.byteLength;\n",
              "            progress.value = downloaded;\n",
              "          }\n",
              "        }\n",
              "      }\n",
              "      const blob = new Blob(buffers, {type: 'application/binary'});\n",
              "      const a = document.createElement('a');\n",
              "      a.href = window.URL.createObjectURL(blob);\n",
              "      a.download = filename;\n",
              "      div.appendChild(a);\n",
              "      a.click();\n",
              "      div.remove();\n",
              "    }\n",
              "  "
            ]
          },
          "metadata": {}
        },
        {
          "output_type": "display_data",
          "data": {
            "text/plain": [
              "<IPython.core.display.Javascript object>"
            ],
            "application/javascript": [
              "download(\"download_b71ceb7c-1161-4040-a634-4ef6617da188\", \"checkpoint_epoch_30.pth\", 9794388)"
            ]
          },
          "metadata": {}
        },
        {
          "output_type": "stream",
          "name": "stdout",
          "text": [
            "Epoch 30/150, Train Acc: 24.88%, Val Acc: 25.94%, Test Acc: 25.71%\n",
            "Epoch 30/150, Train Loss: 3.0751, Val Loss: 3.0211, Test Loss: 3.0320\n",
            "Epoch 31/150, Train Acc: 25.54%, Val Acc: 26.66%, Test Acc: 26.66%\n",
            "Epoch 31/150, Train Loss: 3.0406, Val Loss: 3.0009, Test Loss: 3.0105\n",
            "Epoch 32/150, Train Acc: 25.87%, Val Acc: 27.04%, Test Acc: 26.65%\n",
            "Epoch 32/150, Train Loss: 3.0178, Val Loss: 2.9803, Test Loss: 2.9913\n",
            "Epoch 33/150, Train Acc: 26.46%, Val Acc: 27.17%, Test Acc: 26.57%\n",
            "Epoch 33/150, Train Loss: 2.9985, Val Loss: 2.9667, Test Loss: 2.9822\n",
            "Epoch 34/150, Train Acc: 26.81%, Val Acc: 28.32%, Test Acc: 27.81%\n",
            "Epoch 34/150, Train Loss: 2.9744, Val Loss: 2.9239, Test Loss: 2.9376\n",
            "Epoch 35/150, Train Acc: 27.27%, Val Acc: 27.70%, Test Acc: 27.58%\n",
            "Epoch 35/150, Train Loss: 2.9537, Val Loss: 2.9401, Test Loss: 2.9424\n",
            "Epoch 36/150, Train Acc: 27.70%, Val Acc: 28.38%, Test Acc: 28.15%\n",
            "Epoch 36/150, Train Loss: 2.9262, Val Loss: 2.9009, Test Loss: 2.9093\n",
            "Epoch 37/150, Train Acc: 28.02%, Val Acc: 29.34%, Test Acc: 29.48%\n",
            "Epoch 37/150, Train Loss: 2.9085, Val Loss: 2.8657, Test Loss: 2.8586\n",
            "Epoch 38/150, Train Acc: 28.51%, Val Acc: 29.87%, Test Acc: 29.60%\n",
            "Epoch 38/150, Train Loss: 2.8827, Val Loss: 2.8288, Test Loss: 2.8297\n",
            "Epoch 39/150, Train Acc: 29.06%, Val Acc: 29.35%, Test Acc: 28.90%\n",
            "Epoch 39/150, Train Loss: 2.8630, Val Loss: 2.8568, Test Loss: 2.8618\n",
            "Checkpoint saved at epoch 40: ./checkpoint_epoch_40.pth\n"
          ]
        },
        {
          "output_type": "display_data",
          "data": {
            "text/plain": [
              "<IPython.core.display.Javascript object>"
            ],
            "application/javascript": [
              "\n",
              "    async function download(id, filename, size) {\n",
              "      if (!google.colab.kernel.accessAllowed) {\n",
              "        return;\n",
              "      }\n",
              "      const div = document.createElement('div');\n",
              "      const label = document.createElement('label');\n",
              "      label.textContent = `Downloading \"${filename}\": `;\n",
              "      div.appendChild(label);\n",
              "      const progress = document.createElement('progress');\n",
              "      progress.max = size;\n",
              "      div.appendChild(progress);\n",
              "      document.body.appendChild(div);\n",
              "\n",
              "      const buffers = [];\n",
              "      let downloaded = 0;\n",
              "\n",
              "      const channel = await google.colab.kernel.comms.open(id);\n",
              "      // Send a message to notify the kernel that we're ready.\n",
              "      channel.send({})\n",
              "\n",
              "      for await (const message of channel.messages) {\n",
              "        // Send a message to notify the kernel that we're ready.\n",
              "        channel.send({})\n",
              "        if (message.buffers) {\n",
              "          for (const buffer of message.buffers) {\n",
              "            buffers.push(buffer);\n",
              "            downloaded += buffer.byteLength;\n",
              "            progress.value = downloaded;\n",
              "          }\n",
              "        }\n",
              "      }\n",
              "      const blob = new Blob(buffers, {type: 'application/binary'});\n",
              "      const a = document.createElement('a');\n",
              "      a.href = window.URL.createObjectURL(blob);\n",
              "      a.download = filename;\n",
              "      div.appendChild(a);\n",
              "      a.click();\n",
              "      div.remove();\n",
              "    }\n",
              "  "
            ]
          },
          "metadata": {}
        },
        {
          "output_type": "display_data",
          "data": {
            "text/plain": [
              "<IPython.core.display.Javascript object>"
            ],
            "application/javascript": [
              "download(\"download_994fb54e-78e0-4cd5-95d6-1dd542bdc140\", \"checkpoint_epoch_40.pth\", 9794388)"
            ]
          },
          "metadata": {}
        },
        {
          "output_type": "stream",
          "name": "stdout",
          "text": [
            "Epoch 40/150, Train Acc: 29.11%, Val Acc: 30.88%, Test Acc: 30.48%\n",
            "Epoch 40/150, Train Loss: 2.8446, Val Loss: 2.7901, Test Loss: 2.7946\n",
            "Epoch 41/150, Train Acc: 29.76%, Val Acc: 30.81%, Test Acc: 30.86%\n",
            "Epoch 41/150, Train Loss: 2.8265, Val Loss: 2.7745, Test Loss: 2.7747\n",
            "Epoch 42/150, Train Acc: 29.60%, Val Acc: 30.74%, Test Acc: 30.39%\n",
            "Epoch 42/150, Train Loss: 2.8177, Val Loss: 2.7924, Test Loss: 2.8019\n",
            "Epoch 43/150, Train Acc: 30.50%, Val Acc: 31.86%, Test Acc: 31.27%\n",
            "Epoch 43/150, Train Loss: 2.7941, Val Loss: 2.7381, Test Loss: 2.7458\n",
            "Epoch 44/150, Train Acc: 30.43%, Val Acc: 32.07%, Test Acc: 31.46%\n",
            "Epoch 44/150, Train Loss: 2.7674, Val Loss: 2.7250, Test Loss: 2.7304\n",
            "Epoch 45/150, Train Acc: 31.14%, Val Acc: 32.15%, Test Acc: 31.76%\n",
            "Epoch 45/150, Train Loss: 2.7534, Val Loss: 2.7135, Test Loss: 2.7124\n",
            "Epoch 46/150, Train Acc: 31.30%, Val Acc: 32.64%, Test Acc: 32.40%\n",
            "Epoch 46/150, Train Loss: 2.7457, Val Loss: 2.6871, Test Loss: 2.6783\n",
            "Epoch 47/150, Train Acc: 31.81%, Val Acc: 33.36%, Test Acc: 32.91%\n",
            "Epoch 47/150, Train Loss: 2.7127, Val Loss: 2.6681, Test Loss: 2.6578\n",
            "Epoch 48/150, Train Acc: 32.54%, Val Acc: 33.03%, Test Acc: 33.01%\n",
            "Epoch 48/150, Train Loss: 2.6872, Val Loss: 2.6733, Test Loss: 2.6607\n",
            "Epoch 49/150, Train Acc: 32.66%, Val Acc: 33.46%, Test Acc: 32.99%\n",
            "Epoch 49/150, Train Loss: 2.6745, Val Loss: 2.6410, Test Loss: 2.6397\n",
            "Checkpoint saved at epoch 50: ./checkpoint_epoch_50.pth\n"
          ]
        },
        {
          "output_type": "display_data",
          "data": {
            "text/plain": [
              "<IPython.core.display.Javascript object>"
            ],
            "application/javascript": [
              "\n",
              "    async function download(id, filename, size) {\n",
              "      if (!google.colab.kernel.accessAllowed) {\n",
              "        return;\n",
              "      }\n",
              "      const div = document.createElement('div');\n",
              "      const label = document.createElement('label');\n",
              "      label.textContent = `Downloading \"${filename}\": `;\n",
              "      div.appendChild(label);\n",
              "      const progress = document.createElement('progress');\n",
              "      progress.max = size;\n",
              "      div.appendChild(progress);\n",
              "      document.body.appendChild(div);\n",
              "\n",
              "      const buffers = [];\n",
              "      let downloaded = 0;\n",
              "\n",
              "      const channel = await google.colab.kernel.comms.open(id);\n",
              "      // Send a message to notify the kernel that we're ready.\n",
              "      channel.send({})\n",
              "\n",
              "      for await (const message of channel.messages) {\n",
              "        // Send a message to notify the kernel that we're ready.\n",
              "        channel.send({})\n",
              "        if (message.buffers) {\n",
              "          for (const buffer of message.buffers) {\n",
              "            buffers.push(buffer);\n",
              "            downloaded += buffer.byteLength;\n",
              "            progress.value = downloaded;\n",
              "          }\n",
              "        }\n",
              "      }\n",
              "      const blob = new Blob(buffers, {type: 'application/binary'});\n",
              "      const a = document.createElement('a');\n",
              "      a.href = window.URL.createObjectURL(blob);\n",
              "      a.download = filename;\n",
              "      div.appendChild(a);\n",
              "      a.click();\n",
              "      div.remove();\n",
              "    }\n",
              "  "
            ]
          },
          "metadata": {}
        },
        {
          "output_type": "display_data",
          "data": {
            "text/plain": [
              "<IPython.core.display.Javascript object>"
            ],
            "application/javascript": [
              "download(\"download_82c5fb71-f250-410b-9ffb-951b4c6c2a80\", \"checkpoint_epoch_50.pth\", 9794388)"
            ]
          },
          "metadata": {}
        },
        {
          "output_type": "stream",
          "name": "stdout",
          "text": [
            "Epoch 50/150, Train Acc: 32.84%, Val Acc: 33.79%, Test Acc: 33.09%\n",
            "Epoch 50/150, Train Loss: 2.6748, Val Loss: 2.6348, Test Loss: 2.6276\n",
            "Epoch 51/150, Train Acc: 33.11%, Val Acc: 34.09%, Test Acc: 33.62%\n",
            "Epoch 51/150, Train Loss: 2.6417, Val Loss: 2.6201, Test Loss: 2.6135\n",
            "Epoch 52/150, Train Acc: 33.42%, Val Acc: 33.80%, Test Acc: 33.65%\n",
            "Epoch 52/150, Train Loss: 2.6327, Val Loss: 2.6334, Test Loss: 2.6299\n",
            "Epoch 53/150, Train Acc: 33.67%, Val Acc: 33.86%, Test Acc: 34.19%\n",
            "Epoch 53/150, Train Loss: 2.6085, Val Loss: 2.6128, Test Loss: 2.6008\n",
            "Epoch 54/150, Train Acc: 34.63%, Val Acc: 34.50%, Test Acc: 34.11%\n",
            "Epoch 54/150, Train Loss: 2.5857, Val Loss: 2.5962, Test Loss: 2.5949\n",
            "Epoch 55/150, Train Acc: 34.95%, Val Acc: 34.94%, Test Acc: 35.01%\n",
            "Epoch 55/150, Train Loss: 2.5704, Val Loss: 2.5742, Test Loss: 2.5663\n",
            "Epoch 56/150, Train Acc: 34.82%, Val Acc: 35.34%, Test Acc: 35.15%\n",
            "Epoch 56/150, Train Loss: 2.5646, Val Loss: 2.5639, Test Loss: 2.5492\n",
            "Epoch 57/150, Train Acc: 35.22%, Val Acc: 35.51%, Test Acc: 35.56%\n",
            "Epoch 57/150, Train Loss: 2.5541, Val Loss: 2.5527, Test Loss: 2.5381\n",
            "Epoch 58/150, Train Acc: 35.23%, Val Acc: 35.55%, Test Acc: 35.67%\n",
            "Epoch 58/150, Train Loss: 2.5479, Val Loss: 2.5460, Test Loss: 2.5370\n",
            "Epoch 59/150, Train Acc: 35.27%, Val Acc: 34.68%, Test Acc: 34.37%\n",
            "Epoch 59/150, Train Loss: 2.5290, Val Loss: 2.5742, Test Loss: 2.5695\n",
            "Checkpoint saved at epoch 60: ./checkpoint_epoch_60.pth\n"
          ]
        },
        {
          "output_type": "display_data",
          "data": {
            "text/plain": [
              "<IPython.core.display.Javascript object>"
            ],
            "application/javascript": [
              "\n",
              "    async function download(id, filename, size) {\n",
              "      if (!google.colab.kernel.accessAllowed) {\n",
              "        return;\n",
              "      }\n",
              "      const div = document.createElement('div');\n",
              "      const label = document.createElement('label');\n",
              "      label.textContent = `Downloading \"${filename}\": `;\n",
              "      div.appendChild(label);\n",
              "      const progress = document.createElement('progress');\n",
              "      progress.max = size;\n",
              "      div.appendChild(progress);\n",
              "      document.body.appendChild(div);\n",
              "\n",
              "      const buffers = [];\n",
              "      let downloaded = 0;\n",
              "\n",
              "      const channel = await google.colab.kernel.comms.open(id);\n",
              "      // Send a message to notify the kernel that we're ready.\n",
              "      channel.send({})\n",
              "\n",
              "      for await (const message of channel.messages) {\n",
              "        // Send a message to notify the kernel that we're ready.\n",
              "        channel.send({})\n",
              "        if (message.buffers) {\n",
              "          for (const buffer of message.buffers) {\n",
              "            buffers.push(buffer);\n",
              "            downloaded += buffer.byteLength;\n",
              "            progress.value = downloaded;\n",
              "          }\n",
              "        }\n",
              "      }\n",
              "      const blob = new Blob(buffers, {type: 'application/binary'});\n",
              "      const a = document.createElement('a');\n",
              "      a.href = window.URL.createObjectURL(blob);\n",
              "      a.download = filename;\n",
              "      div.appendChild(a);\n",
              "      a.click();\n",
              "      div.remove();\n",
              "    }\n",
              "  "
            ]
          },
          "metadata": {}
        },
        {
          "output_type": "display_data",
          "data": {
            "text/plain": [
              "<IPython.core.display.Javascript object>"
            ],
            "application/javascript": [
              "download(\"download_46c860d4-3e0c-4761-b45b-bf44acdec789\", \"checkpoint_epoch_60.pth\", 9794388)"
            ]
          },
          "metadata": {}
        },
        {
          "output_type": "stream",
          "name": "stdout",
          "text": [
            "Epoch 60/150, Train Acc: 35.60%, Val Acc: 35.92%, Test Acc: 35.78%\n",
            "Epoch 60/150, Train Loss: 2.5333, Val Loss: 2.5274, Test Loss: 2.5185\n",
            "Epoch 61/150, Train Acc: 36.03%, Val Acc: 36.11%, Test Acc: 35.88%\n",
            "Epoch 61/150, Train Loss: 2.5024, Val Loss: 2.5239, Test Loss: 2.5160\n",
            "Epoch 62/150, Train Acc: 36.49%, Val Acc: 36.56%, Test Acc: 36.35%\n",
            "Epoch 62/150, Train Loss: 2.4887, Val Loss: 2.4986, Test Loss: 2.4926\n",
            "Epoch 63/150, Train Acc: 36.98%, Val Acc: 36.41%, Test Acc: 36.19%\n",
            "Epoch 63/150, Train Loss: 2.4718, Val Loss: 2.5092, Test Loss: 2.5001\n",
            "Epoch 64/150, Train Acc: 36.81%, Val Acc: 36.32%, Test Acc: 36.69%\n",
            "Epoch 64/150, Train Loss: 2.4767, Val Loss: 2.5017, Test Loss: 2.4928\n",
            "Epoch 65/150, Train Acc: 37.21%, Val Acc: 36.75%, Test Acc: 36.82%\n",
            "Epoch 65/150, Train Loss: 2.4528, Val Loss: 2.4733, Test Loss: 2.4643\n",
            "Epoch 66/150, Train Acc: 37.18%, Val Acc: 35.67%, Test Acc: 36.04%\n",
            "Epoch 66/150, Train Loss: 2.4546, Val Loss: 2.5167, Test Loss: 2.5100\n",
            "Epoch 67/150, Train Acc: 37.15%, Val Acc: 37.16%, Test Acc: 36.90%\n",
            "Epoch 67/150, Train Loss: 2.4491, Val Loss: 2.4696, Test Loss: 2.4592\n",
            "Epoch 68/150, Train Acc: 37.58%, Val Acc: 36.89%, Test Acc: 37.16%\n",
            "Epoch 68/150, Train Loss: 2.4311, Val Loss: 2.4707, Test Loss: 2.4620\n",
            "Epoch 69/150, Train Acc: 37.83%, Val Acc: 36.93%, Test Acc: 37.48%\n",
            "Epoch 69/150, Train Loss: 2.4175, Val Loss: 2.4655, Test Loss: 2.4580\n",
            "Checkpoint saved at epoch 70: ./checkpoint_epoch_70.pth\n"
          ]
        },
        {
          "output_type": "display_data",
          "data": {
            "text/plain": [
              "<IPython.core.display.Javascript object>"
            ],
            "application/javascript": [
              "\n",
              "    async function download(id, filename, size) {\n",
              "      if (!google.colab.kernel.accessAllowed) {\n",
              "        return;\n",
              "      }\n",
              "      const div = document.createElement('div');\n",
              "      const label = document.createElement('label');\n",
              "      label.textContent = `Downloading \"${filename}\": `;\n",
              "      div.appendChild(label);\n",
              "      const progress = document.createElement('progress');\n",
              "      progress.max = size;\n",
              "      div.appendChild(progress);\n",
              "      document.body.appendChild(div);\n",
              "\n",
              "      const buffers = [];\n",
              "      let downloaded = 0;\n",
              "\n",
              "      const channel = await google.colab.kernel.comms.open(id);\n",
              "      // Send a message to notify the kernel that we're ready.\n",
              "      channel.send({})\n",
              "\n",
              "      for await (const message of channel.messages) {\n",
              "        // Send a message to notify the kernel that we're ready.\n",
              "        channel.send({})\n",
              "        if (message.buffers) {\n",
              "          for (const buffer of message.buffers) {\n",
              "            buffers.push(buffer);\n",
              "            downloaded += buffer.byteLength;\n",
              "            progress.value = downloaded;\n",
              "          }\n",
              "        }\n",
              "      }\n",
              "      const blob = new Blob(buffers, {type: 'application/binary'});\n",
              "      const a = document.createElement('a');\n",
              "      a.href = window.URL.createObjectURL(blob);\n",
              "      a.download = filename;\n",
              "      div.appendChild(a);\n",
              "      a.click();\n",
              "      div.remove();\n",
              "    }\n",
              "  "
            ]
          },
          "metadata": {}
        },
        {
          "output_type": "display_data",
          "data": {
            "text/plain": [
              "<IPython.core.display.Javascript object>"
            ],
            "application/javascript": [
              "download(\"download_78e6d862-996a-43d7-95fd-6d7bacb61a19\", \"checkpoint_epoch_70.pth\", 9794388)"
            ]
          },
          "metadata": {}
        },
        {
          "output_type": "stream",
          "name": "stdout",
          "text": [
            "Epoch 70/150, Train Acc: 38.38%, Val Acc: 37.17%, Test Acc: 37.21%\n",
            "Epoch 70/150, Train Loss: 2.4076, Val Loss: 2.4582, Test Loss: 2.4443\n",
            "Epoch 71/150, Train Acc: 38.39%, Val Acc: 37.48%, Test Acc: 37.61%\n",
            "Epoch 71/150, Train Loss: 2.3960, Val Loss: 2.4415, Test Loss: 2.4252\n",
            "Epoch 72/150, Train Acc: 38.57%, Val Acc: 37.87%, Test Acc: 37.69%\n",
            "Epoch 72/150, Train Loss: 2.3835, Val Loss: 2.4337, Test Loss: 2.4181\n",
            "Epoch 73/150, Train Acc: 38.88%, Val Acc: 37.95%, Test Acc: 38.05%\n",
            "Epoch 73/150, Train Loss: 2.3730, Val Loss: 2.4324, Test Loss: 2.4205\n",
            "Epoch 74/150, Train Acc: 39.27%, Val Acc: 38.18%, Test Acc: 38.56%\n",
            "Epoch 74/150, Train Loss: 2.3633, Val Loss: 2.4116, Test Loss: 2.3938\n",
            "Epoch 75/150, Train Acc: 39.04%, Val Acc: 37.81%, Test Acc: 38.34%\n",
            "Epoch 75/150, Train Loss: 2.3564, Val Loss: 2.4260, Test Loss: 2.4103\n",
            "Epoch 76/150, Train Acc: 38.85%, Val Acc: 37.71%, Test Acc: 38.30%\n",
            "Epoch 76/150, Train Loss: 2.3526, Val Loss: 2.4427, Test Loss: 2.4223\n",
            "Epoch 77/150, Train Acc: 39.65%, Val Acc: 37.98%, Test Acc: 38.43%\n",
            "Epoch 77/150, Train Loss: 2.3442, Val Loss: 2.4183, Test Loss: 2.4029\n",
            "Epoch 78/150, Train Acc: 39.87%, Val Acc: 38.11%, Test Acc: 38.41%\n",
            "Epoch 78/150, Train Loss: 2.3286, Val Loss: 2.4134, Test Loss: 2.3968\n",
            "Epoch 79/150, Train Acc: 40.00%, Val Acc: 38.68%, Test Acc: 39.50%\n",
            "Epoch 79/150, Train Loss: 2.3202, Val Loss: 2.3863, Test Loss: 2.3705\n",
            "Checkpoint saved at epoch 80: ./checkpoint_epoch_80.pth\n"
          ]
        },
        {
          "output_type": "display_data",
          "data": {
            "text/plain": [
              "<IPython.core.display.Javascript object>"
            ],
            "application/javascript": [
              "\n",
              "    async function download(id, filename, size) {\n",
              "      if (!google.colab.kernel.accessAllowed) {\n",
              "        return;\n",
              "      }\n",
              "      const div = document.createElement('div');\n",
              "      const label = document.createElement('label');\n",
              "      label.textContent = `Downloading \"${filename}\": `;\n",
              "      div.appendChild(label);\n",
              "      const progress = document.createElement('progress');\n",
              "      progress.max = size;\n",
              "      div.appendChild(progress);\n",
              "      document.body.appendChild(div);\n",
              "\n",
              "      const buffers = [];\n",
              "      let downloaded = 0;\n",
              "\n",
              "      const channel = await google.colab.kernel.comms.open(id);\n",
              "      // Send a message to notify the kernel that we're ready.\n",
              "      channel.send({})\n",
              "\n",
              "      for await (const message of channel.messages) {\n",
              "        // Send a message to notify the kernel that we're ready.\n",
              "        channel.send({})\n",
              "        if (message.buffers) {\n",
              "          for (const buffer of message.buffers) {\n",
              "            buffers.push(buffer);\n",
              "            downloaded += buffer.byteLength;\n",
              "            progress.value = downloaded;\n",
              "          }\n",
              "        }\n",
              "      }\n",
              "      const blob = new Blob(buffers, {type: 'application/binary'});\n",
              "      const a = document.createElement('a');\n",
              "      a.href = window.URL.createObjectURL(blob);\n",
              "      a.download = filename;\n",
              "      div.appendChild(a);\n",
              "      a.click();\n",
              "      div.remove();\n",
              "    }\n",
              "  "
            ]
          },
          "metadata": {}
        },
        {
          "output_type": "display_data",
          "data": {
            "text/plain": [
              "<IPython.core.display.Javascript object>"
            ],
            "application/javascript": [
              "download(\"download_9f5be65b-f252-4e93-8ed4-bef9f6dbf07f\", \"checkpoint_epoch_80.pth\", 9794388)"
            ]
          },
          "metadata": {}
        },
        {
          "output_type": "stream",
          "name": "stdout",
          "text": [
            "Epoch 80/150, Train Acc: 40.18%, Val Acc: 38.20%, Test Acc: 39.01%\n",
            "Epoch 80/150, Train Loss: 2.3218, Val Loss: 2.3912, Test Loss: 2.3758\n",
            "Epoch 81/150, Train Acc: 40.13%, Val Acc: 38.94%, Test Acc: 39.50%\n",
            "Epoch 81/150, Train Loss: 2.3121, Val Loss: 2.3802, Test Loss: 2.3699\n",
            "Epoch 82/150, Train Acc: 40.54%, Val Acc: 38.09%, Test Acc: 38.60%\n",
            "Epoch 82/150, Train Loss: 2.3013, Val Loss: 2.4145, Test Loss: 2.3926\n",
            "Epoch 83/150, Train Acc: 40.84%, Val Acc: 39.27%, Test Acc: 39.82%\n",
            "Epoch 83/150, Train Loss: 2.2859, Val Loss: 2.3692, Test Loss: 2.3454\n",
            "Epoch 84/150, Train Acc: 41.08%, Val Acc: 39.47%, Test Acc: 39.76%\n",
            "Epoch 84/150, Train Loss: 2.2804, Val Loss: 2.3679, Test Loss: 2.3415\n",
            "Epoch 85/150, Train Acc: 41.08%, Val Acc: 38.85%, Test Acc: 39.73%\n",
            "Epoch 85/150, Train Loss: 2.2758, Val Loss: 2.3740, Test Loss: 2.3493\n",
            "Epoch 86/150, Train Acc: 41.30%, Val Acc: 39.44%, Test Acc: 39.71%\n",
            "Epoch 86/150, Train Loss: 2.2673, Val Loss: 2.3661, Test Loss: 2.3437\n",
            "Epoch 87/150, Train Acc: 41.40%, Val Acc: 39.32%, Test Acc: 39.97%\n",
            "Epoch 87/150, Train Loss: 2.2609, Val Loss: 2.3515, Test Loss: 2.3272\n",
            "Epoch 88/150, Train Acc: 41.57%, Val Acc: 39.47%, Test Acc: 39.62%\n",
            "Epoch 88/150, Train Loss: 2.2531, Val Loss: 2.3547, Test Loss: 2.3303\n",
            "Epoch 89/150, Train Acc: 41.57%, Val Acc: 39.72%, Test Acc: 40.31%\n",
            "Epoch 89/150, Train Loss: 2.2554, Val Loss: 2.3478, Test Loss: 2.3261\n",
            "Checkpoint saved at epoch 90: ./checkpoint_epoch_90.pth\n"
          ]
        },
        {
          "output_type": "display_data",
          "data": {
            "text/plain": [
              "<IPython.core.display.Javascript object>"
            ],
            "application/javascript": [
              "\n",
              "    async function download(id, filename, size) {\n",
              "      if (!google.colab.kernel.accessAllowed) {\n",
              "        return;\n",
              "      }\n",
              "      const div = document.createElement('div');\n",
              "      const label = document.createElement('label');\n",
              "      label.textContent = `Downloading \"${filename}\": `;\n",
              "      div.appendChild(label);\n",
              "      const progress = document.createElement('progress');\n",
              "      progress.max = size;\n",
              "      div.appendChild(progress);\n",
              "      document.body.appendChild(div);\n",
              "\n",
              "      const buffers = [];\n",
              "      let downloaded = 0;\n",
              "\n",
              "      const channel = await google.colab.kernel.comms.open(id);\n",
              "      // Send a message to notify the kernel that we're ready.\n",
              "      channel.send({})\n",
              "\n",
              "      for await (const message of channel.messages) {\n",
              "        // Send a message to notify the kernel that we're ready.\n",
              "        channel.send({})\n",
              "        if (message.buffers) {\n",
              "          for (const buffer of message.buffers) {\n",
              "            buffers.push(buffer);\n",
              "            downloaded += buffer.byteLength;\n",
              "            progress.value = downloaded;\n",
              "          }\n",
              "        }\n",
              "      }\n",
              "      const blob = new Blob(buffers, {type: 'application/binary'});\n",
              "      const a = document.createElement('a');\n",
              "      a.href = window.URL.createObjectURL(blob);\n",
              "      a.download = filename;\n",
              "      div.appendChild(a);\n",
              "      a.click();\n",
              "      div.remove();\n",
              "    }\n",
              "  "
            ]
          },
          "metadata": {}
        },
        {
          "output_type": "display_data",
          "data": {
            "text/plain": [
              "<IPython.core.display.Javascript object>"
            ],
            "application/javascript": [
              "download(\"download_723d572d-9dbc-4be1-b614-acb1888e09cd\", \"checkpoint_epoch_90.pth\", 9794388)"
            ]
          },
          "metadata": {}
        },
        {
          "output_type": "stream",
          "name": "stdout",
          "text": [
            "Epoch 90/150, Train Acc: 42.00%, Val Acc: 40.06%, Test Acc: 40.46%\n",
            "Epoch 90/150, Train Loss: 2.2411, Val Loss: 2.3309, Test Loss: 2.3109\n",
            "Epoch 91/150, Train Acc: 42.09%, Val Acc: 39.03%, Test Acc: 39.78%\n",
            "Epoch 91/150, Train Loss: 2.2261, Val Loss: 2.3660, Test Loss: 2.3457\n",
            "Epoch 92/150, Train Acc: 42.13%, Val Acc: 39.16%, Test Acc: 40.37%\n",
            "Epoch 92/150, Train Loss: 2.2248, Val Loss: 2.3479, Test Loss: 2.3184\n",
            "Epoch 93/150, Train Acc: 42.44%, Val Acc: 39.76%, Test Acc: 40.50%\n",
            "Epoch 93/150, Train Loss: 2.2158, Val Loss: 2.3283, Test Loss: 2.3096\n",
            "Epoch 94/150, Train Acc: 42.59%, Val Acc: 39.86%, Test Acc: 39.83%\n",
            "Epoch 94/150, Train Loss: 2.2113, Val Loss: 2.3421, Test Loss: 2.3232\n",
            "Epoch 95/150, Train Acc: 42.71%, Val Acc: 40.06%, Test Acc: 40.32%\n",
            "Epoch 95/150, Train Loss: 2.2015, Val Loss: 2.3348, Test Loss: 2.3114\n",
            "Epoch 96/150, Train Acc: 42.45%, Val Acc: 40.09%, Test Acc: 40.80%\n",
            "Epoch 96/150, Train Loss: 2.2006, Val Loss: 2.3118, Test Loss: 2.2905\n",
            "Epoch 97/150, Train Acc: 43.23%, Val Acc: 40.39%, Test Acc: 41.08%\n",
            "Epoch 97/150, Train Loss: 2.1843, Val Loss: 2.3089, Test Loss: 2.2865\n",
            "Epoch 98/150, Train Acc: 42.84%, Val Acc: 40.01%, Test Acc: 40.95%\n",
            "Epoch 98/150, Train Loss: 2.1843, Val Loss: 2.3238, Test Loss: 2.2959\n",
            "Epoch 99/150, Train Acc: 43.08%, Val Acc: 40.62%, Test Acc: 40.93%\n",
            "Epoch 99/150, Train Loss: 2.1808, Val Loss: 2.3079, Test Loss: 2.2885\n",
            "Checkpoint saved at epoch 100: ./checkpoint_epoch_100.pth\n"
          ]
        },
        {
          "output_type": "display_data",
          "data": {
            "text/plain": [
              "<IPython.core.display.Javascript object>"
            ],
            "application/javascript": [
              "\n",
              "    async function download(id, filename, size) {\n",
              "      if (!google.colab.kernel.accessAllowed) {\n",
              "        return;\n",
              "      }\n",
              "      const div = document.createElement('div');\n",
              "      const label = document.createElement('label');\n",
              "      label.textContent = `Downloading \"${filename}\": `;\n",
              "      div.appendChild(label);\n",
              "      const progress = document.createElement('progress');\n",
              "      progress.max = size;\n",
              "      div.appendChild(progress);\n",
              "      document.body.appendChild(div);\n",
              "\n",
              "      const buffers = [];\n",
              "      let downloaded = 0;\n",
              "\n",
              "      const channel = await google.colab.kernel.comms.open(id);\n",
              "      // Send a message to notify the kernel that we're ready.\n",
              "      channel.send({})\n",
              "\n",
              "      for await (const message of channel.messages) {\n",
              "        // Send a message to notify the kernel that we're ready.\n",
              "        channel.send({})\n",
              "        if (message.buffers) {\n",
              "          for (const buffer of message.buffers) {\n",
              "            buffers.push(buffer);\n",
              "            downloaded += buffer.byteLength;\n",
              "            progress.value = downloaded;\n",
              "          }\n",
              "        }\n",
              "      }\n",
              "      const blob = new Blob(buffers, {type: 'application/binary'});\n",
              "      const a = document.createElement('a');\n",
              "      a.href = window.URL.createObjectURL(blob);\n",
              "      a.download = filename;\n",
              "      div.appendChild(a);\n",
              "      a.click();\n",
              "      div.remove();\n",
              "    }\n",
              "  "
            ]
          },
          "metadata": {}
        },
        {
          "output_type": "display_data",
          "data": {
            "text/plain": [
              "<IPython.core.display.Javascript object>"
            ],
            "application/javascript": [
              "download(\"download_2bf6213d-d82b-4b55-8dd2-fd60da6c189e\", \"checkpoint_epoch_100.pth\", 9794422)"
            ]
          },
          "metadata": {}
        },
        {
          "output_type": "stream",
          "name": "stdout",
          "text": [
            "Epoch 100/150, Train Acc: 43.47%, Val Acc: 40.41%, Test Acc: 41.00%\n",
            "Epoch 100/150, Train Loss: 2.1618, Val Loss: 2.3069, Test Loss: 2.2850\n",
            "Epoch 101/150, Train Acc: 43.43%, Val Acc: 40.52%, Test Acc: 41.25%\n",
            "Epoch 101/150, Train Loss: 2.1665, Val Loss: 2.3052, Test Loss: 2.2834\n",
            "Epoch 102/150, Train Acc: 43.51%, Val Acc: 40.55%, Test Acc: 41.35%\n",
            "Epoch 102/150, Train Loss: 2.1641, Val Loss: 2.3007, Test Loss: 2.2785\n",
            "Epoch 103/150, Train Acc: 43.53%, Val Acc: 40.81%, Test Acc: 41.44%\n",
            "Epoch 103/150, Train Loss: 2.1577, Val Loss: 2.2980, Test Loss: 2.2707\n",
            "Epoch 104/150, Train Acc: 43.83%, Val Acc: 40.28%, Test Acc: 40.77%\n",
            "Epoch 104/150, Train Loss: 2.1432, Val Loss: 2.3090, Test Loss: 2.2840\n",
            "Epoch 105/150, Train Acc: 43.79%, Val Acc: 41.14%, Test Acc: 41.67%\n",
            "Epoch 105/150, Train Loss: 2.1485, Val Loss: 2.2844, Test Loss: 2.2531\n",
            "Epoch 106/150, Train Acc: 43.96%, Val Acc: 41.26%, Test Acc: 41.79%\n",
            "Epoch 106/150, Train Loss: 2.1412, Val Loss: 2.2830, Test Loss: 2.2590\n",
            "Epoch 107/150, Train Acc: 44.17%, Val Acc: 40.81%, Test Acc: 41.56%\n",
            "Epoch 107/150, Train Loss: 2.1348, Val Loss: 2.2861, Test Loss: 2.2572\n",
            "Epoch 108/150, Train Acc: 44.40%, Val Acc: 41.22%, Test Acc: 41.52%\n",
            "Epoch 108/150, Train Loss: 2.1183, Val Loss: 2.2886, Test Loss: 2.2655\n",
            "Epoch 109/150, Train Acc: 44.47%, Val Acc: 40.85%, Test Acc: 42.00%\n",
            "Epoch 109/150, Train Loss: 2.1305, Val Loss: 2.2827, Test Loss: 2.2576\n",
            "Checkpoint saved at epoch 110: ./checkpoint_epoch_110.pth\n"
          ]
        },
        {
          "output_type": "display_data",
          "data": {
            "text/plain": [
              "<IPython.core.display.Javascript object>"
            ],
            "application/javascript": [
              "\n",
              "    async function download(id, filename, size) {\n",
              "      if (!google.colab.kernel.accessAllowed) {\n",
              "        return;\n",
              "      }\n",
              "      const div = document.createElement('div');\n",
              "      const label = document.createElement('label');\n",
              "      label.textContent = `Downloading \"${filename}\": `;\n",
              "      div.appendChild(label);\n",
              "      const progress = document.createElement('progress');\n",
              "      progress.max = size;\n",
              "      div.appendChild(progress);\n",
              "      document.body.appendChild(div);\n",
              "\n",
              "      const buffers = [];\n",
              "      let downloaded = 0;\n",
              "\n",
              "      const channel = await google.colab.kernel.comms.open(id);\n",
              "      // Send a message to notify the kernel that we're ready.\n",
              "      channel.send({})\n",
              "\n",
              "      for await (const message of channel.messages) {\n",
              "        // Send a message to notify the kernel that we're ready.\n",
              "        channel.send({})\n",
              "        if (message.buffers) {\n",
              "          for (const buffer of message.buffers) {\n",
              "            buffers.push(buffer);\n",
              "            downloaded += buffer.byteLength;\n",
              "            progress.value = downloaded;\n",
              "          }\n",
              "        }\n",
              "      }\n",
              "      const blob = new Blob(buffers, {type: 'application/binary'});\n",
              "      const a = document.createElement('a');\n",
              "      a.href = window.URL.createObjectURL(blob);\n",
              "      a.download = filename;\n",
              "      div.appendChild(a);\n",
              "      a.click();\n",
              "      div.remove();\n",
              "    }\n",
              "  "
            ]
          },
          "metadata": {}
        },
        {
          "output_type": "display_data",
          "data": {
            "text/plain": [
              "<IPython.core.display.Javascript object>"
            ],
            "application/javascript": [
              "download(\"download_c827a4b3-b229-40db-a2af-2fed6c033ef3\", \"checkpoint_epoch_110.pth\", 9794422)"
            ]
          },
          "metadata": {}
        },
        {
          "output_type": "stream",
          "name": "stdout",
          "text": [
            "Epoch 110/150, Train Acc: 44.41%, Val Acc: 41.06%, Test Acc: 41.62%\n",
            "Epoch 110/150, Train Loss: 2.1222, Val Loss: 2.2807, Test Loss: 2.2504\n",
            "Epoch 111/150, Train Acc: 44.88%, Val Acc: 41.20%, Test Acc: 41.92%\n",
            "Epoch 111/150, Train Loss: 2.1111, Val Loss: 2.2823, Test Loss: 2.2550\n",
            "Epoch 112/150, Train Acc: 44.80%, Val Acc: 41.48%, Test Acc: 41.90%\n",
            "Epoch 112/150, Train Loss: 2.1104, Val Loss: 2.2785, Test Loss: 2.2474\n",
            "Epoch 113/150, Train Acc: 44.63%, Val Acc: 41.69%, Test Acc: 41.96%\n",
            "Epoch 113/150, Train Loss: 2.1094, Val Loss: 2.2702, Test Loss: 2.2469\n",
            "Epoch 114/150, Train Acc: 45.15%, Val Acc: 41.33%, Test Acc: 41.81%\n",
            "Epoch 114/150, Train Loss: 2.0977, Val Loss: 2.2763, Test Loss: 2.2504\n",
            "Epoch 115/150, Train Acc: 44.94%, Val Acc: 41.10%, Test Acc: 41.64%\n",
            "Epoch 115/150, Train Loss: 2.0942, Val Loss: 2.2768, Test Loss: 2.2512\n",
            "Epoch 116/150, Train Acc: 45.35%, Val Acc: 41.07%, Test Acc: 42.34%\n",
            "Epoch 116/150, Train Loss: 2.0895, Val Loss: 2.2679, Test Loss: 2.2439\n",
            "Epoch 117/150, Train Acc: 45.52%, Val Acc: 41.79%, Test Acc: 42.35%\n",
            "Epoch 117/150, Train Loss: 2.0808, Val Loss: 2.2598, Test Loss: 2.2330\n",
            "Epoch 118/150, Train Acc: 45.15%, Val Acc: 41.32%, Test Acc: 42.27%\n",
            "Epoch 118/150, Train Loss: 2.0790, Val Loss: 2.2634, Test Loss: 2.2338\n",
            "Epoch 119/150, Train Acc: 45.51%, Val Acc: 41.50%, Test Acc: 42.34%\n",
            "Epoch 119/150, Train Loss: 2.0721, Val Loss: 2.2742, Test Loss: 2.2427\n",
            "Checkpoint saved at epoch 120: ./checkpoint_epoch_120.pth\n"
          ]
        },
        {
          "output_type": "display_data",
          "data": {
            "text/plain": [
              "<IPython.core.display.Javascript object>"
            ],
            "application/javascript": [
              "\n",
              "    async function download(id, filename, size) {\n",
              "      if (!google.colab.kernel.accessAllowed) {\n",
              "        return;\n",
              "      }\n",
              "      const div = document.createElement('div');\n",
              "      const label = document.createElement('label');\n",
              "      label.textContent = `Downloading \"${filename}\": `;\n",
              "      div.appendChild(label);\n",
              "      const progress = document.createElement('progress');\n",
              "      progress.max = size;\n",
              "      div.appendChild(progress);\n",
              "      document.body.appendChild(div);\n",
              "\n",
              "      const buffers = [];\n",
              "      let downloaded = 0;\n",
              "\n",
              "      const channel = await google.colab.kernel.comms.open(id);\n",
              "      // Send a message to notify the kernel that we're ready.\n",
              "      channel.send({})\n",
              "\n",
              "      for await (const message of channel.messages) {\n",
              "        // Send a message to notify the kernel that we're ready.\n",
              "        channel.send({})\n",
              "        if (message.buffers) {\n",
              "          for (const buffer of message.buffers) {\n",
              "            buffers.push(buffer);\n",
              "            downloaded += buffer.byteLength;\n",
              "            progress.value = downloaded;\n",
              "          }\n",
              "        }\n",
              "      }\n",
              "      const blob = new Blob(buffers, {type: 'application/binary'});\n",
              "      const a = document.createElement('a');\n",
              "      a.href = window.URL.createObjectURL(blob);\n",
              "      a.download = filename;\n",
              "      div.appendChild(a);\n",
              "      a.click();\n",
              "      div.remove();\n",
              "    }\n",
              "  "
            ]
          },
          "metadata": {}
        },
        {
          "output_type": "display_data",
          "data": {
            "text/plain": [
              "<IPython.core.display.Javascript object>"
            ],
            "application/javascript": [
              "download(\"download_c4e80edb-8b80-4136-90d5-280868ba1c8a\", \"checkpoint_epoch_120.pth\", 9794422)"
            ]
          },
          "metadata": {}
        },
        {
          "output_type": "stream",
          "name": "stdout",
          "text": [
            "Epoch 120/150, Train Acc: 45.34%, Val Acc: 41.66%, Test Acc: 42.23%\n",
            "Epoch 120/150, Train Loss: 2.0748, Val Loss: 2.2618, Test Loss: 2.2345\n",
            "Epoch 121/150, Train Acc: 45.46%, Val Acc: 41.55%, Test Acc: 42.37%\n",
            "Epoch 121/150, Train Loss: 2.0680, Val Loss: 2.2591, Test Loss: 2.2292\n",
            "Epoch 122/150, Train Acc: 45.66%, Val Acc: 41.55%, Test Acc: 42.13%\n",
            "Epoch 122/150, Train Loss: 2.0712, Val Loss: 2.2596, Test Loss: 2.2338\n",
            "Epoch 123/150, Train Acc: 45.63%, Val Acc: 41.17%, Test Acc: 42.01%\n",
            "Epoch 123/150, Train Loss: 2.0662, Val Loss: 2.2732, Test Loss: 2.2463\n",
            "Epoch 124/150, Train Acc: 45.96%, Val Acc: 41.76%, Test Acc: 42.85%\n",
            "Epoch 124/150, Train Loss: 2.0614, Val Loss: 2.2480, Test Loss: 2.2219\n",
            "Epoch 125/150, Train Acc: 46.19%, Val Acc: 41.33%, Test Acc: 42.85%\n",
            "Epoch 125/150, Train Loss: 2.0550, Val Loss: 2.2547, Test Loss: 2.2248\n",
            "Epoch 126/150, Train Acc: 46.09%, Val Acc: 41.62%, Test Acc: 42.30%\n",
            "Epoch 126/150, Train Loss: 2.0537, Val Loss: 2.2566, Test Loss: 2.2288\n",
            "Epoch 127/150, Train Acc: 46.41%, Val Acc: 41.60%, Test Acc: 42.82%\n",
            "Epoch 127/150, Train Loss: 2.0447, Val Loss: 2.2535, Test Loss: 2.2216\n",
            "Epoch 128/150, Train Acc: 45.91%, Val Acc: 41.86%, Test Acc: 42.71%\n",
            "Epoch 128/150, Train Loss: 2.0482, Val Loss: 2.2440, Test Loss: 2.2166\n",
            "Epoch 129/150, Train Acc: 46.37%, Val Acc: 42.08%, Test Acc: 42.72%\n",
            "Epoch 129/150, Train Loss: 2.0436, Val Loss: 2.2450, Test Loss: 2.2173\n",
            "Checkpoint saved at epoch 130: ./checkpoint_epoch_130.pth\n"
          ]
        },
        {
          "output_type": "display_data",
          "data": {
            "text/plain": [
              "<IPython.core.display.Javascript object>"
            ],
            "application/javascript": [
              "\n",
              "    async function download(id, filename, size) {\n",
              "      if (!google.colab.kernel.accessAllowed) {\n",
              "        return;\n",
              "      }\n",
              "      const div = document.createElement('div');\n",
              "      const label = document.createElement('label');\n",
              "      label.textContent = `Downloading \"${filename}\": `;\n",
              "      div.appendChild(label);\n",
              "      const progress = document.createElement('progress');\n",
              "      progress.max = size;\n",
              "      div.appendChild(progress);\n",
              "      document.body.appendChild(div);\n",
              "\n",
              "      const buffers = [];\n",
              "      let downloaded = 0;\n",
              "\n",
              "      const channel = await google.colab.kernel.comms.open(id);\n",
              "      // Send a message to notify the kernel that we're ready.\n",
              "      channel.send({})\n",
              "\n",
              "      for await (const message of channel.messages) {\n",
              "        // Send a message to notify the kernel that we're ready.\n",
              "        channel.send({})\n",
              "        if (message.buffers) {\n",
              "          for (const buffer of message.buffers) {\n",
              "            buffers.push(buffer);\n",
              "            downloaded += buffer.byteLength;\n",
              "            progress.value = downloaded;\n",
              "          }\n",
              "        }\n",
              "      }\n",
              "      const blob = new Blob(buffers, {type: 'application/binary'});\n",
              "      const a = document.createElement('a');\n",
              "      a.href = window.URL.createObjectURL(blob);\n",
              "      a.download = filename;\n",
              "      div.appendChild(a);\n",
              "      a.click();\n",
              "      div.remove();\n",
              "    }\n",
              "  "
            ]
          },
          "metadata": {}
        },
        {
          "output_type": "display_data",
          "data": {
            "text/plain": [
              "<IPython.core.display.Javascript object>"
            ],
            "application/javascript": [
              "download(\"download_c8978f3f-6008-48e3-aea1-f200d9e5b494\", \"checkpoint_epoch_130.pth\", 9794422)"
            ]
          },
          "metadata": {}
        },
        {
          "output_type": "stream",
          "name": "stdout",
          "text": [
            "Epoch 130/150, Train Acc: 46.52%, Val Acc: 41.83%, Test Acc: 42.93%\n",
            "Epoch 130/150, Train Loss: 2.0406, Val Loss: 2.2486, Test Loss: 2.2172\n",
            "Epoch 131/150, Train Acc: 46.21%, Val Acc: 41.87%, Test Acc: 42.89%\n",
            "Epoch 131/150, Train Loss: 2.0431, Val Loss: 2.2456, Test Loss: 2.2143\n",
            "Epoch 132/150, Train Acc: 46.46%, Val Acc: 41.89%, Test Acc: 43.16%\n",
            "Epoch 132/150, Train Loss: 2.0316, Val Loss: 2.2431, Test Loss: 2.2133\n",
            "Epoch 133/150, Train Acc: 46.84%, Val Acc: 42.01%, Test Acc: 42.94%\n",
            "Epoch 133/150, Train Loss: 2.0267, Val Loss: 2.2445, Test Loss: 2.2137\n",
            "Epoch 134/150, Train Acc: 46.75%, Val Acc: 42.23%, Test Acc: 43.20%\n",
            "Epoch 134/150, Train Loss: 2.0252, Val Loss: 2.2355, Test Loss: 2.2052\n",
            "Epoch 135/150, Train Acc: 46.70%, Val Acc: 42.03%, Test Acc: 43.30%\n",
            "Epoch 135/150, Train Loss: 2.0234, Val Loss: 2.2430, Test Loss: 2.2108\n",
            "Epoch 136/150, Train Acc: 46.92%, Val Acc: 41.85%, Test Acc: 43.14%\n",
            "Epoch 136/150, Train Loss: 2.0196, Val Loss: 2.2416, Test Loss: 2.2106\n",
            "Epoch 137/150, Train Acc: 46.59%, Val Acc: 42.28%, Test Acc: 43.19%\n",
            "Epoch 137/150, Train Loss: 2.0223, Val Loss: 2.2321, Test Loss: 2.2041\n",
            "Epoch 138/150, Train Acc: 47.16%, Val Acc: 42.09%, Test Acc: 43.30%\n",
            "Epoch 138/150, Train Loss: 2.0089, Val Loss: 2.2372, Test Loss: 2.2049\n",
            "Epoch 139/150, Train Acc: 46.79%, Val Acc: 42.31%, Test Acc: 43.19%\n",
            "Epoch 139/150, Train Loss: 2.0132, Val Loss: 2.2323, Test Loss: 2.2024\n",
            "Checkpoint saved at epoch 140: ./checkpoint_epoch_140.pth\n"
          ]
        },
        {
          "output_type": "display_data",
          "data": {
            "text/plain": [
              "<IPython.core.display.Javascript object>"
            ],
            "application/javascript": [
              "\n",
              "    async function download(id, filename, size) {\n",
              "      if (!google.colab.kernel.accessAllowed) {\n",
              "        return;\n",
              "      }\n",
              "      const div = document.createElement('div');\n",
              "      const label = document.createElement('label');\n",
              "      label.textContent = `Downloading \"${filename}\": `;\n",
              "      div.appendChild(label);\n",
              "      const progress = document.createElement('progress');\n",
              "      progress.max = size;\n",
              "      div.appendChild(progress);\n",
              "      document.body.appendChild(div);\n",
              "\n",
              "      const buffers = [];\n",
              "      let downloaded = 0;\n",
              "\n",
              "      const channel = await google.colab.kernel.comms.open(id);\n",
              "      // Send a message to notify the kernel that we're ready.\n",
              "      channel.send({})\n",
              "\n",
              "      for await (const message of channel.messages) {\n",
              "        // Send a message to notify the kernel that we're ready.\n",
              "        channel.send({})\n",
              "        if (message.buffers) {\n",
              "          for (const buffer of message.buffers) {\n",
              "            buffers.push(buffer);\n",
              "            downloaded += buffer.byteLength;\n",
              "            progress.value = downloaded;\n",
              "          }\n",
              "        }\n",
              "      }\n",
              "      const blob = new Blob(buffers, {type: 'application/binary'});\n",
              "      const a = document.createElement('a');\n",
              "      a.href = window.URL.createObjectURL(blob);\n",
              "      a.download = filename;\n",
              "      div.appendChild(a);\n",
              "      a.click();\n",
              "      div.remove();\n",
              "    }\n",
              "  "
            ]
          },
          "metadata": {}
        },
        {
          "output_type": "display_data",
          "data": {
            "text/plain": [
              "<IPython.core.display.Javascript object>"
            ],
            "application/javascript": [
              "download(\"download_dfd3bf20-5b85-43fb-9719-38aadcaceb2e\", \"checkpoint_epoch_140.pth\", 9794422)"
            ]
          },
          "metadata": {}
        },
        {
          "output_type": "stream",
          "name": "stdout",
          "text": [
            "Epoch 140/150, Train Acc: 47.06%, Val Acc: 42.15%, Test Acc: 43.20%\n",
            "Epoch 140/150, Train Loss: 2.0124, Val Loss: 2.2338, Test Loss: 2.2047\n",
            "Epoch 141/150, Train Acc: 47.16%, Val Acc: 42.23%, Test Acc: 43.16%\n",
            "Epoch 141/150, Train Loss: 2.0093, Val Loss: 2.2320, Test Loss: 2.2038\n",
            "Epoch 142/150, Train Acc: 46.86%, Val Acc: 42.26%, Test Acc: 43.31%\n",
            "Epoch 142/150, Train Loss: 2.0099, Val Loss: 2.2296, Test Loss: 2.2000\n",
            "Epoch 143/150, Train Acc: 47.20%, Val Acc: 42.27%, Test Acc: 43.12%\n",
            "Epoch 143/150, Train Loss: 2.0087, Val Loss: 2.2331, Test Loss: 2.2025\n",
            "Epoch 144/150, Train Acc: 47.18%, Val Acc: 42.24%, Test Acc: 43.30%\n",
            "Epoch 144/150, Train Loss: 2.0043, Val Loss: 2.2332, Test Loss: 2.2018\n",
            "Epoch 145/150, Train Acc: 47.16%, Val Acc: 42.43%, Test Acc: 43.07%\n",
            "Epoch 145/150, Train Loss: 2.0065, Val Loss: 2.2320, Test Loss: 2.2001\n",
            "Epoch 146/150, Train Acc: 47.31%, Val Acc: 42.31%, Test Acc: 43.35%\n",
            "Epoch 146/150, Train Loss: 2.0077, Val Loss: 2.2283, Test Loss: 2.1978\n",
            "Epoch 147/150, Train Acc: 47.31%, Val Acc: 42.27%, Test Acc: 43.04%\n",
            "Epoch 147/150, Train Loss: 2.0054, Val Loss: 2.2320, Test Loss: 2.2013\n",
            "Epoch 148/150, Train Acc: 47.50%, Val Acc: 42.22%, Test Acc: 43.24%\n",
            "Epoch 148/150, Train Loss: 1.9981, Val Loss: 2.2295, Test Loss: 2.1984\n",
            "Epoch 149/150, Train Acc: 47.34%, Val Acc: 42.41%, Test Acc: 43.34%\n",
            "Epoch 149/150, Train Loss: 2.0008, Val Loss: 2.2299, Test Loss: 2.1980\n",
            "Checkpoint saved at epoch 150: ./checkpoint_epoch_150.pth\n"
          ]
        },
        {
          "output_type": "display_data",
          "data": {
            "text/plain": [
              "<IPython.core.display.Javascript object>"
            ],
            "application/javascript": [
              "\n",
              "    async function download(id, filename, size) {\n",
              "      if (!google.colab.kernel.accessAllowed) {\n",
              "        return;\n",
              "      }\n",
              "      const div = document.createElement('div');\n",
              "      const label = document.createElement('label');\n",
              "      label.textContent = `Downloading \"${filename}\": `;\n",
              "      div.appendChild(label);\n",
              "      const progress = document.createElement('progress');\n",
              "      progress.max = size;\n",
              "      div.appendChild(progress);\n",
              "      document.body.appendChild(div);\n",
              "\n",
              "      const buffers = [];\n",
              "      let downloaded = 0;\n",
              "\n",
              "      const channel = await google.colab.kernel.comms.open(id);\n",
              "      // Send a message to notify the kernel that we're ready.\n",
              "      channel.send({})\n",
              "\n",
              "      for await (const message of channel.messages) {\n",
              "        // Send a message to notify the kernel that we're ready.\n",
              "        channel.send({})\n",
              "        if (message.buffers) {\n",
              "          for (const buffer of message.buffers) {\n",
              "            buffers.push(buffer);\n",
              "            downloaded += buffer.byteLength;\n",
              "            progress.value = downloaded;\n",
              "          }\n",
              "        }\n",
              "      }\n",
              "      const blob = new Blob(buffers, {type: 'application/binary'});\n",
              "      const a = document.createElement('a');\n",
              "      a.href = window.URL.createObjectURL(blob);\n",
              "      a.download = filename;\n",
              "      div.appendChild(a);\n",
              "      a.click();\n",
              "      div.remove();\n",
              "    }\n",
              "  "
            ]
          },
          "metadata": {}
        },
        {
          "output_type": "display_data",
          "data": {
            "text/plain": [
              "<IPython.core.display.Javascript object>"
            ],
            "application/javascript": [
              "download(\"download_426558e8-7612-4fff-8cf0-e83e82adb63b\", \"checkpoint_epoch_150.pth\", 9794422)"
            ]
          },
          "metadata": {}
        },
        {
          "output_type": "stream",
          "name": "stdout",
          "text": [
            "Epoch 150/150, Train Acc: 47.37%, Val Acc: 42.41%, Test Acc: 43.29%\n",
            "Epoch 150/150, Train Loss: 1.9877, Val Loss: 2.2287, Test Loss: 2.1972\n"
          ]
        },
        {
          "output_type": "display_data",
          "data": {
            "text/plain": [
              "<Figure size 600x400 with 1 Axes>"
            ],
            "image/png": "[encoded data removed]"
          },
          "metadata": {}
        },
        {
          "output_type": "display_data",
          "data": {
            "text/plain": [
              "<Figure size 600x400 with 1 Axes>"
            ],
            "image/png": "[encoded data removed]"
          },
          "metadata": {}
        },
        {
          "output_type": "display_data",
          "data": {
            "text/plain": [
              "<Figure size 600x400 with 1 Axes>"
            ],
            "image/png": "[encoded data removed]"
          },
          "metadata": {}
        },
        {
          "output_type": "display_data",
          "data": {
            "text/plain": [
              "<Figure size 600x400 with 1 Axes>"
            ],
            "image/png": "[encoded data removed]"
          },
          "metadata": {}
        },
        {
          "output_type": "display_data",
          "data": {
            "text/plain": [
              "<Figure size 600x400 with 1 Axes>"
            ],
            "image/png": "[encoded data removed]"
          },
          "metadata": {}
        },
        {
          "output_type": "display_data",
          "data": {
            "text/plain": [
              "<Figure size 600x400 with 1 Axes>"
            ],
            "image/png": "[encoded data removed]"
          },
          "metadata": {}
        },
        {
          "output_type": "display_data",
          "data": {
            "text/plain": [
              "<Figure size 640x480 with 0 Axes>"
            ]
          },
          "metadata": {}
        }
      ],
      "source": [
        "%run large_batch_training.py --optimizer LAMB --batch-size 4096 --weight-decay 1e-1"
      ]
    }
  ],
  "metadata": {
    "accelerator": "GPU",
    "colab": {
      "gpuType": "L4",
      "provenance": [],
      "machine_shape": "hm"
    },
    "kernelspec": {
      "display_name": "Python 3",
      "name": "python3"
    },
    "language_info": {
      "name": "python"
    }
  },
  "nbformat": 4,
  "nbformat_minor": 0
}