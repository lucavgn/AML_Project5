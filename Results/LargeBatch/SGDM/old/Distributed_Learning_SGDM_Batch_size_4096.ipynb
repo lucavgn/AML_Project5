{
  "cells": [
    {
      "cell_type": "code",
      "execution_count": 2,
      "metadata": {
        "colab": {
          "base_uri": "https://localhost:8080/"
        },
        "id": "HYgTLKybTSpQ",
        "outputId": "0706f041-77e0-408a-da03-413b102bb042"
      },
      "outputs": [
        {
          "output_type": "stream",
          "name": "stdout",
          "text": [
            "Writing large_batch_training.py\n"
          ]
        }
      ],
      "source": [
        "%%writefile large_batch_training.py\n",
        "\n",
        "import os\n",
        "import numpy as np\n",
        "import torch\n",
        "import torch.nn as nn\n",
        "import torch.optim as optim\n",
        "import torchvision\n",
        "import torchvision.transforms as transforms\n",
        "import matplotlib.pyplot as plt\n",
        "import argparse\n",
        "from torch.utils.data import random_split\n",
        "from google.colab import files\n",
        "\n",
        "def compute_mean_std(dataset):\n",
        "    \"\"\"Compute the mean and std of CIFAR-100 dataset.\n",
        "\n",
        "    Args:\n",
        "        dataset: A dataset derived from `torch.utils.data.Dataset`,\n",
        "                 such as `cifar100_training_dataset` or `cifar100_test_dataset`.\n",
        "\n",
        "    Returns:\n",
        "        A tuple containing (mean, std) for the entire dataset.\n",
        "    \"\"\"\n",
        "\n",
        "    # Extract images and labels\n",
        "    data_r = np.stack([np.array(dataset[i][0])[:, :, 0] for i in range(len(dataset))])\n",
        "    data_g = np.stack([np.array(dataset[i][0])[:, :, 1] for i in range(len(dataset))])\n",
        "    data_b = np.stack([np.array(dataset[i][0])[:, :, 2] for i in range(len(dataset))])\n",
        "\n",
        "    # Compute mean and std\n",
        "    mean = np.mean(data_r), np.mean(data_g), np.mean(data_b)\n",
        "    std = np.std(data_r), np.std(data_g), np.std(data_b)\n",
        "\n",
        "    return mean, std\n",
        "\n",
        "# Define LeNet-5 architecture\n",
        "class LeNet5(nn.Module):\n",
        "    def __init__(self):\n",
        "        super(LeNet5, self).__init__()\n",
        "        self.conv1 = nn.Conv2d(3, 64, 5)\n",
        "        self.relu1 = nn.ReLU()\n",
        "        self.pool1 = nn.MaxPool2d(2, 2)\n",
        "        self.conv2 = nn.Conv2d(64, 64, 5)\n",
        "        self.relu2 = nn.ReLU()\n",
        "        self.pool2 = nn.MaxPool2d(2, 2)\n",
        "        self.fc1 = nn.Linear(64 * 5 * 5, 384)\n",
        "        self.relu3 = nn.ReLU()\n",
        "        self.fc2 = nn.Linear(384, 192)\n",
        "        self.relu4 = nn.ReLU()\n",
        "        self.fc3 = nn.Linear(192, 100)\n",
        "\n",
        "    def forward(self, x):\n",
        "        x = self.pool1(self.relu1(self.conv1(x)))\n",
        "        x = self.pool2(self.relu2(self.conv2(x)))\n",
        "        x = x.view(-1, 64 * 5 * 5)\n",
        "        x = self.relu3(self.fc1(x))\n",
        "        x = self.relu4(self.fc2(x))\n",
        "        x = self.fc3(x)\n",
        "        return x\n",
        "\n",
        "# Device setup\n",
        "device = torch.device(\"cuda:0\" if torch.cuda.is_available() else \"cpu\")\n",
        "\n",
        "# Initialize model\n",
        "net = LeNet5().to(device)\n",
        "\n",
        "# Optimizer Subclasses\n",
        "class LARS(optim.Optimizer):\n",
        "    def __init__(self, params, lr, momentum=0.9, weight_decay=0, trust_coefficient=0.001):\n",
        "        # Initialize the optimizer with the learning rate, momentum, weight decay, and trust coefficient\n",
        "        defaults = dict(lr=lr, momentum=momentum, weight_decay=weight_decay, trust_coefficient=trust_coefficient)\n",
        "        super(LARS, self).__init__(params, defaults)\n",
        "\n",
        "    def step(self, closure=None):\n",
        "        loss = None\n",
        "        if closure is not None:\n",
        "            # If a closure is provided, evaluate it (commonly used for re-evaluating loss)\n",
        "            loss = closure()\n",
        "        for group in self.param_groups:\n",
        "            for p in group['params']:\n",
        "                if p.grad is None:\n",
        "                   # Skip parameters that have no gradient\n",
        "                    continue\n",
        "                grad = p.grad.data # Get the gradient of the parameter\n",
        "                # Retrieve or initialize the optimizer's internal state\n",
        "                state = self.state[p]\n",
        "                if len(state) == 0:\n",
        "                    state['momentum_buffer'] = torch.clone(grad).detach()\n",
        "                # Apply weight decay directly to the gradient\n",
        "                if group['weight_decay'] != 0:\n",
        "                    grad.add_(p.data, alpha=group['weight_decay'])\n",
        "                # Compute the norms of the parameter and its gradient\n",
        "                param_norm = torch.norm(p.data)\n",
        "                grad_norm = torch.norm(grad)\n",
        "                # Compute local learning rate based on the trust coefficient and norms\n",
        "                if param_norm > 0 and grad_norm > 0:\n",
        "                    local_lr = group['trust_coefficient'] * param_norm / (grad_norm + 1e-8)\n",
        "                    grad = grad.mul(local_lr) # Scale the gradient with the local learning rate\n",
        "                # Update the momentum buffer\n",
        "                momentum_buffer = state['momentum_buffer']\n",
        "                momentum_buffer.mul_(group['momentum']).add_(grad) #Momentum update\n",
        "                state['momentum_buffer'] = momentum_buffer\n",
        "                # Update the parameter\n",
        "                p.data.add_(-group['lr'], momentum_buffer) # Gradient descent step with learning rate\n",
        "        return loss\n",
        "\n",
        "class LAMB(optim.Optimizer):\n",
        "    def __init__(self, params, lr, weight_decay=0, betas=(0.9, 0.999), eps=1e-8):\n",
        "        # Initialize the optimizer with learning rate, weight decay, betas for moment updates, and epsilon for stability\n",
        "        defaults = dict(lr=lr, weight_decay=weight_decay, betas=betas, eps=eps)\n",
        "        super(LAMB, self).__init__(params, defaults)\n",
        "\n",
        "    def step(self, closure=None):\n",
        "        loss = None\n",
        "        if closure is not None:\n",
        "            # If a closure is provided, evaluate it\n",
        "            loss = closure()\n",
        "        for group in self.param_groups:\n",
        "            for p in group['params']:\n",
        "                if p.grad is None:\n",
        "                    # Skip parameters that have no gradient\n",
        "                    continue\n",
        "                grad = p.grad.data # Get the gradient of the parameter\n",
        "                # Retrieve or initialize the optimizer's internal state\n",
        "                state = self.state[p]\n",
        "                # Initialize state\n",
        "                if len(state) == 0:\n",
        "                    # Initialize the state (step counter, first moment, second moment)\n",
        "                    state['step'] = 0\n",
        "                    state['exp_avg'] = torch.zeros_like(p.data) # First moment (mean of gradients)\n",
        "                    state['exp_avg_sq'] = torch.zeros_like(p.data) # Second moment (mean of squared gradients)\n",
        "                exp_avg = state['exp_avg']\n",
        "                exp_avg_sq = state['exp_avg_sq']\n",
        "                beta1, beta2 = group['betas']  # Coefficients for moment updates\n",
        "                state['step'] += 1 # Increment step count\n",
        "                step = state['step']\n",
        "                # Decay the first and second moment running average coefficients\n",
        "                # Update first and second moments\n",
        "                exp_avg.mul_(beta1).add_(grad, alpha=1 - beta1) # Exponential moving average of gradients\n",
        "                exp_avg_sq.mul_(beta2).addcmul_(grad, grad, value=1 - beta2) # Exponential moving average of squared gradients\n",
        "                # Correct bias in the first and second moments\n",
        "                bias_correction1 = 1 - beta1 ** step\n",
        "                bias_correction2 = 1 - beta2 ** step\n",
        "                corrected_exp_avg = exp_avg / bias_correction1\n",
        "                corrected_exp_avg_sq = exp_avg_sq / bias_correction2\n",
        "                # Compute the denominator for scaling the update\n",
        "                denom = corrected_exp_avg_sq.sqrt().add_(group['eps']) # Stability epsilon\n",
        "                # Compute the step update\n",
        "                update = corrected_exp_avg / denom\n",
        "                # Apply weight decay directly to the parameters\n",
        "                if group['weight_decay'] != 0:\n",
        "                    update.add_(p.data, alpha=group['weight_decay'])\n",
        "                # Compute the trust ratio (norm of parameters vs norm of update)\n",
        "                param_norm = torch.norm(p.data)\n",
        "                update_norm = torch.norm(update)\n",
        "                trust_ratio = 1.0  # Default trust ratio\n",
        "                if param_norm > 0 and update_norm > 0:\n",
        "                    trust_ratio = param_norm / update_norm\n",
        "                # Update the parameters\n",
        "                p.data.add_(-group['lr'] * trust_ratio, update)\n",
        "        return loss\n",
        "\n",
        "class SqrtLRScheduler(torch.optim.lr_scheduler._LRScheduler):\n",
        "    def __init__(self, optimizer, base_lr, batch_size, warmup_epochs, total_epochs, reference_batch_size, verbose=False):\n",
        "        \"\"\"\n",
        "        Args:\n",
        "            optimizer: PyTorch optimizer (e.g., Adam, LAMB, LARS).\n",
        "            base_lr: Base learning rate for the reference batch size.\n",
        "            batch_size: Current batch size.\n",
        "            warmup_epochs: Number of warmup epochs.\n",
        "            total_epochs: Total number of epochs.\n",
        "            reference_batch_size: Batch size for which the base_lr is defined.\n",
        "            verbose: Whether to print LR updates.\n",
        "        \"\"\"\n",
        "        self.base_lr = base_lr\n",
        "        self.batch_size = batch_size\n",
        "        self.scaled_lr = base_lr * (batch_size / reference_batch_size) ** 0.5\n",
        "        self.warmup_epochs = warmup_epochs\n",
        "        self.total_epochs = total_epochs\n",
        "        self.verbose = verbose\n",
        "        super(SqrtLRScheduler, self).__init__(optimizer)\n",
        "\n",
        "    def get_lr(self):\n",
        "        epoch = self.last_epoch\n",
        "        if epoch < self.warmup_epochs:\n",
        "            # Linear warmup scaling\n",
        "            warmup_factor = (epoch + 1) / self.warmup_epochs\n",
        "            return [warmup_factor * self.scaled_lr for _ in self.optimizer.param_groups]\n",
        "        else:\n",
        "            # Constant LR after warmup\n",
        "            if epoch == self.warmup_epochs:\n",
        "                print(f\"Warmup phase completed at epoch {epoch}. Switching to constant learning rate.\")\n",
        "            return [self.scaled_lr for _ in self.optimizer.param_groups]\n",
        "\n",
        "# Command-line arguments\n",
        "parser = argparse.ArgumentParser(description='Train with Large-Batch Optimizers')\n",
        "parser.add_argument('--optimizer', type=str, default='SGDM', choices=['SGDM', 'AdamW', 'LARS', 'LAMB'],\n",
        "                    help='Choose optimizer')\n",
        "parser.add_argument('--batch-size', type=int, default=128, help='Batch size')\n",
        "parser.add_argument('--momentum', type=float, default=0.9, help='Momentum for SGDM and LARS')\n",
        "parser.add_argument('--weight-decay', type=float, default=1e-5, help='Weight decay')\n",
        "parser.add_argument('--b1', type=float, default=0.9, help='Beta1 for AdamW')\n",
        "parser.add_argument('--b2', type=float, default=0.999, help='Beta2 for AdamW')\n",
        "parser.add_argument('--trust-coefficient', type=float, default=0.001, help='Trust coefficient for LARS')\n",
        "parser.add_argument('--epochs', type=int, default=150, help='Number of epochs')\n",
        "parser.add_argument('--warmup-epochs', type=int, default=5, help='Number of epochs')\n",
        "args = parser.parse_args()\n",
        "\n",
        "\n",
        "torch.manual_seed(42) # Set the seed for reproducibility\n",
        "torch.cuda.manual_seed_all(42) # Set the seed for reproducibility on GPU\n",
        "\n",
        "# use the same mean and std to add consistency to all datasets\n",
        "data = torchvision.datasets.CIFAR100(root='./data', train=True, download=True, transform=transforms.ToTensor())\n",
        "mean, std = compute_mean_std(data)\n",
        "\n",
        "# Load and split CIFAR-100 dataset\n",
        "train_transform = transforms.Compose([\n",
        "  transforms.RandomHorizontalFlip(),\n",
        "  # transforms.RandomRotation(15),\n",
        "  transforms.RandomCrop(32, padding=4),\n",
        "  # transforms.RandomAffine(degrees=0, translate=(0.1, 0.1)),\n",
        "  transforms.RandomPerspective(distortion_scale=0.2, p=0.5),\n",
        "  transforms.ColorJitter(brightness=0.3, contrast=0.3, saturation=0.3, hue=0.2),\n",
        "  transforms.ToTensor(),\n",
        "  transforms.Normalize(mean, std)\n",
        "])\n",
        "\n",
        "val_transform = transforms.Compose([\n",
        "    transforms.ToTensor(), # Convert into tensor\n",
        "    transforms.Normalize(mean, std)  # Normalization\n",
        "])\n",
        "\n",
        "test_transform = transforms.Compose([\n",
        "    transforms.CenterCrop(24),\n",
        "    transforms.Pad(4),\n",
        "    transforms.ToTensor(),  # Convert to PyTorch tensor\n",
        "    transforms.Normalize(mean, std)\n",
        "])\n",
        "\n",
        "trainset = torchvision.datasets.CIFAR100(root='./data', train=True, download=True, transform=train_transform)\n",
        "valset = torchvision.datasets.CIFAR100(root='./data', train=True, download=True, transform=val_transform)\n",
        "indices = torch.randperm(len(trainset))\n",
        "val_size = int(0.2*len(trainset))\n",
        "trainset = torch.utils.data.Subset(trainset, indices[:-val_size])\n",
        "valset = torch.utils.data.Subset(valset, indices[-val_size:])\n",
        "\n",
        "trainloader = torch.utils.data.DataLoader(trainset, batch_size=args.batch_size, shuffle=True, num_workers=2)\n",
        "valloader = torch.utils.data.DataLoader(valset, batch_size=args.batch_size, shuffle=False, num_workers=2)\n",
        "\n",
        "testset = torchvision.datasets.CIFAR100(root='./data', train=False, download=True, transform=test_transform)\n",
        "testloader = torch.utils.data.DataLoader(testset, batch_size=args.batch_size, shuffle=False, num_workers=2)\n",
        "\n",
        "\n",
        "# Fixed parameter from paper [18] to calculate the square root LR scaling value\n",
        "# base_lr = 5 / (2**3 * 10**3)\n",
        "# reference_batch_size = 512\n",
        "#scaled_lr = base_lr * (args.batch_size / reference_batch_size) ** 0.5\n",
        "\n",
        "# Mapping optimizers\n",
        "if args.optimizer == 'SGDM':\n",
        "    base_lr = 1e-2\n",
        "    reference_batch_size = 64\n",
        "    scaled_lr = base_lr * (args.batch_size / reference_batch_size) ** 0.5\n",
        "    optimizer = optim.SGD(net.parameters(), lr=scaled_lr, momentum=args.momentum, weight_decay=args.weight_decay)\n",
        "elif args.optimizer == 'AdamW':\n",
        "    base_lr = 5e-4\n",
        "    reference_batch_size = 64\n",
        "    scaled_lr = base_lr * (args.batch_size / reference_batch_size) ** 0.5\n",
        "    optimizer = optim.AdamW(net.parameters(), lr=scaled_lr, betas=(args.b1, args.b2), weight_decay=args.weight_decay)\n",
        "elif args.optimizer == 'LARS':\n",
        "    base_lr = 5 / (2**3 * 10**3) # to define\n",
        "    reference_batch_size = 512\n",
        "    scaled_lr = base_lr * (args.batch_size / reference_batch_size) ** 0.5\n",
        "    optimizer = LARS(net.parameters(), lr=scaled_lr, momentum=args.momentum, weight_decay=args.weight_decay, trust_coefficient=args.trust_coefficient)\n",
        "elif args.optimizer == 'LAMB':\n",
        "    base_lr = 5 / (2**3 * 10**3) # to define\n",
        "    reference_batch_size = 512\n",
        "    scaled_lr = base_lr * (args.batch_size / reference_batch_size) ** 0.5\n",
        "    optimizer = LAMB(net.parameters(), lr=scaled_lr, weight_decay=args.weight_decay)\n",
        "\n",
        "criterion = nn.CrossEntropyLoss()\n",
        "\n",
        "# scheduler should be e square root LR scaling rule and linear-epoch warmup scheduling to automatically adjust learning rate\n",
        "scheduler = SqrtLRScheduler(\n",
        "    optimizer = optimizer,\n",
        "    base_lr = base_lr,\n",
        "    batch_size = args.batch_size,\n",
        "    warmup_epochs = args.warmup_epochs,\n",
        "    total_epochs = args.epochs,\n",
        "    reference_batch_size = reference_batch_size,\n",
        "    verbose = True)\n",
        "\n",
        "# Training Function\n",
        "def train_model(optimizer, scheduler, model, criterion, trainloader, valloader , testloader, device, epochs, save_checkpoint_interval=10):\n",
        "    train_losses, val_losses, test_losses = [], [], []\n",
        "    train_accuracies, val_accuracies, test_accuracies = [], [], []\n",
        "    for epoch in range(epochs):\n",
        "        model.train()\n",
        "        running_loss, correct_train, total_train = 0.0, 0, 0\n",
        "        for inputs, labels in trainloader:\n",
        "            inputs, labels = inputs.to(device), labels.to(device)\n",
        "            optimizer.zero_grad()\n",
        "            outputs = model(inputs)\n",
        "            loss = criterion(outputs, labels)\n",
        "            loss.backward()\n",
        "            optimizer.step()\n",
        "            running_loss += loss.item()\n",
        "            _, predicted = outputs.max(1)\n",
        "            total_train += labels.size(0)\n",
        "            correct_train += predicted.eq(labels).sum().item()\n",
        "        train_loss = running_loss / len(trainloader)\n",
        "        train_accuracy = 100. * correct_train / total_train\n",
        "        train_losses.append(train_loss)\n",
        "        train_accuracies.append(train_accuracy)\n",
        "\n",
        "        # Validation\n",
        "        model.eval()\n",
        "        correct_val, total_val, val_loss = 0, 0, 0.0\n",
        "        with torch.no_grad():\n",
        "            for inputs, labels in valloader:\n",
        "                inputs, labels = inputs.to(device), labels.to(device)\n",
        "                outputs = model(inputs)\n",
        "                loss = criterion(outputs, labels)\n",
        "                val_loss += loss.item()\n",
        "                _, predicted = outputs.max(1)\n",
        "                total_val += labels.size(0)\n",
        "                correct_val += predicted.eq(labels).sum().item()\n",
        "        val_loss /= len(valloader)\n",
        "        val_losses.append(val_loss)\n",
        "        val_accuracy = 100. * correct_val / total_val\n",
        "        val_accuracies.append(val_accuracy)\n",
        "\n",
        "        '''\n",
        "        # Early Stopping\n",
        "        if val_loss < best_val_loss:\n",
        "          best_val_loss = val_loss\n",
        "          epochs_no_improve = 0\n",
        "        else:\n",
        "          epochs_no_improve += 1\n",
        "\n",
        "        if epochs_no_improve == patience:\n",
        "          print(\"Early stopping!\")\n",
        "          break\n",
        "        '''\n",
        "\n",
        "        # Test\n",
        "        correct_test, total_test, test_loss = 0, 0, 0.0\n",
        "        with torch.no_grad():\n",
        "            for inputs, labels in testloader:\n",
        "                inputs, labels = inputs.to(device), labels.to(device)\n",
        "                outputs = model(inputs)\n",
        "                loss = criterion(outputs, labels)\n",
        "                test_loss += loss.item()\n",
        "                _, predicted = outputs.max(1)\n",
        "                total_test += labels.size(0)\n",
        "                correct_test += predicted.eq(labels).sum().item()\n",
        "        test_loss /= len(testloader)\n",
        "        test_losses.append(test_loss)\n",
        "        test_accuracy = 100. * correct_test / total_test\n",
        "        test_accuracies.append(test_accuracy)\n",
        "\n",
        "        scheduler.step()\n",
        "\n",
        "        # Checkpointing\n",
        "        if (epoch + 1) % save_checkpoint_interval == 0:\n",
        "            checkpoint_filename = f'checkpoint_epoch_{epoch + 1}.pth'\n",
        "            checkpoint = {\n",
        "                'epoch': epoch + 1,\n",
        "                'model_state_dict': model.state_dict(),\n",
        "                'optimizer_state_dict': optimizer.state_dict(),\n",
        "                'scheduler_state_dict': scheduler.state_dict(),\n",
        "                'loss': loss.item(),\n",
        "            }\n",
        "            checkpoint_path = os.path.join('./', checkpoint_filename)\n",
        "            torch.save(checkpoint, checkpoint_path)\n",
        "            print(f'Checkpoint saved at epoch {epoch + 1}: {checkpoint_path}')\n",
        "\n",
        "            # Download the checkpoint\n",
        "            files.download(checkpoint_filename)\n",
        "\n",
        "        print(f'Epoch {epoch+1}/{epochs}, Train Acc: {train_accuracy:.2f}%, Val Acc: {val_accuracy:.2f}%, Test Acc: {test_accuracy:.2f}%')\n",
        "        print(f'Epoch {epoch+1}/{epochs}, Train Loss: {train_loss:.4f}, Val Loss: {val_loss:.4f}, Test Loss: {test_loss:.4f}')\n",
        "\n",
        "    return train_losses, val_losses, test_losses, train_accuracies, val_accuracies, test_accuracies\n",
        "\n",
        "# Train the model\n",
        "print(f\"--- Train with {args.optimizer} ---\")\n",
        "train_loss, val_loss, test_loss, train_acc, val_acc, test_acc = train_model(optimizer, scheduler, net, criterion, trainloader, valloader, testloader, device, args.epochs)\n",
        "\n",
        "# Save model\n",
        "torch.save(net.state_dict(), f'net_{args.optimizer}.pth')\n",
        "\n",
        "# Plot results\n",
        "# Plot Training Loss\n",
        "plt.figure(figsize=(6, 4))\n",
        "plt.plot(train_loss, label='Train Loss')\n",
        "plt.title('Training Loss')\n",
        "plt.xlabel('Epoch')\n",
        "plt.ylabel('Loss')\n",
        "plt.legend()\n",
        "plt.tight_layout()\n",
        "plt.savefig('train_loss.png')\n",
        "plt.show()\n",
        "\n",
        "# Plot Training Accuracy\n",
        "plt.figure(figsize=(6, 4))\n",
        "plt.plot(train_acc, label='Train Accuracy')\n",
        "plt.title('Training Accuracy')\n",
        "plt.xlabel('Epoch')\n",
        "plt.ylabel('Accuracy (%)')\n",
        "plt.legend()\n",
        "plt.tight_layout()\n",
        "plt.savefig('train_accuracy.png')\n",
        "plt.show()\n",
        "\n",
        "# Plot Validation Loss\n",
        "plt.figure(figsize=(6, 4))\n",
        "plt.plot(val_loss, label='Validation Loss')\n",
        "plt.title('Validation Loss')\n",
        "plt.xlabel('Epoch')\n",
        "plt.ylabel('Loss')\n",
        "plt.legend()\n",
        "plt.tight_layout()\n",
        "plt.savefig('val_loss.png')\n",
        "plt.show()\n",
        "\n",
        "# Plot Validation Accuracy\n",
        "plt.figure(figsize=(6, 4))\n",
        "plt.plot(val_acc, label='Validation Accuracy')\n",
        "plt.title('Validation Accuracy')\n",
        "plt.xlabel('Epoch')\n",
        "plt.ylabel('Accuracy (%)')\n",
        "plt.legend()\n",
        "plt.tight_layout()\n",
        "plt.savefig('val_accuracy.png')\n",
        "plt.show()\n",
        "\n",
        "# Plot Test Loss\n",
        "plt.figure(figsize=(6, 4))\n",
        "plt.plot(test_loss, label='Test Loss')\n",
        "plt.title('Test Loss')\n",
        "plt.xlabel('Epoch')\n",
        "plt.ylabel('Loss')\n",
        "plt.legend()\n",
        "plt.tight_layout()\n",
        "plt.savefig('test_loss.png')\n",
        "plt.show()\n",
        "\n",
        "# Plot Test Accuracy\n",
        "plt.figure(figsize=(6, 4))\n",
        "plt.plot(test_acc, label='Test Accuracy')\n",
        "plt.title('Test Accuracy')\n",
        "plt.xlabel('Epoch')\n",
        "plt.ylabel('Accuracy (%)')\n",
        "plt.legend()\n",
        "plt.tight_layout()\n",
        "plt.savefig('test_accuracy.png')\n",
        "plt.show()"
      ]
    },
    {
      "cell_type": "code",
      "execution_count": 3,
      "metadata": {
        "id": "h1E7a47hjITS",
        "colab": {
          "base_uri": "https://localhost:8080/",
          "height": 1000
        },
        "outputId": "8aa700dd-5448-4c8e-a03f-6586229b144e"
      },
      "outputs": [
        {
          "metadata": {
            "tags": null
          },
          "name": "stdout",
          "output_type": "stream",
          "text": [
            "Downloading https://www.cs.toronto.edu/~kriz/cifar-100-python.tar.gz to ./data/cifar-100-python.tar.gz\n"
          ]
        },
        {
          "metadata": {
            "tags": null
          },
          "name": "stderr",
          "output_type": "stream",
          "text": [
            "100%|██████████| 169M/169M [00:03<00:00, 48.1MB/s]\n"
          ]
        },
        {
          "metadata": {
            "tags": null
          },
          "name": "stdout",
          "output_type": "stream",
          "text": [
            "Extracting ./data/cifar-100-python.tar.gz to ./data\n",
            "Files already downloaded and verified\n",
            "Files already downloaded and verified\n",
            "Files already downloaded and verified\n",
            "--- Train with SGDM ---\n",
            "Epoch 1/150, Train Acc: 0.98%, Val Acc: 0.91%, Test Acc: 1.04%\n",
            "Epoch 1/150, Train Loss: 4.6060, Val Loss: 4.6057, Test Loss: 4.6056\n",
            "Epoch 2/150, Train Acc: 1.02%, Val Acc: 0.92%, Test Acc: 1.08%\n",
            "Epoch 2/150, Train Loss: 4.6047, Val Loss: 4.6033, Test Loss: 4.6032\n",
            "Epoch 3/150, Train Acc: 1.05%, Val Acc: 1.05%, Test Acc: 1.05%\n",
            "Epoch 3/150, Train Loss: 4.6013, Val Loss: 4.5978, Test Loss: 4.5976\n",
            "Epoch 4/150, Train Acc: 1.35%, Val Acc: 2.29%, Test Acc: 2.17%\n",
            "Epoch 4/150, Train Loss: 4.5922, Val Loss: 4.5777, Test Loss: 4.5786\n",
            "Warmup phase completed at epoch 5. Switching to constant learning rate.\n",
            "Epoch 5/150, Train Acc: 2.26%, Val Acc: 3.81%, Test Acc: 3.86%\n",
            "Epoch 5/150, Train Loss: 4.5555, Val Loss: 4.4753, Test Loss: 4.4783\n",
            "Epoch 6/150, Train Acc: 4.10%, Val Acc: 6.81%, Test Acc: 5.71%\n",
            "Epoch 6/150, Train Loss: 4.4066, Val Loss: 4.2007, Test Loss: 4.2433\n",
            "Epoch 7/150, Train Acc: 5.39%, Val Acc: 7.57%, Test Acc: 5.62%\n",
            "Epoch 7/150, Train Loss: 4.2593, Val Loss: 4.0964, Test Loss: 4.1620\n",
            "Epoch 8/150, Train Acc: 6.30%, Val Acc: 8.64%, Test Acc: 7.62%\n",
            "Epoch 8/150, Train Loss: 4.1799, Val Loss: 4.0342, Test Loss: 4.0820\n",
            "Epoch 9/150, Train Acc: 7.17%, Val Acc: 9.87%, Test Acc: 8.68%\n",
            "Epoch 9/150, Train Loss: 4.1075, Val Loss: 3.9351, Test Loss: 4.0149\n",
            "Checkpoint saved at epoch 10: ./checkpoint_epoch_10.pth\n"
          ]
        },
        {
          "data": {
            "application/javascript": [
              "\n",
              "    async function download(id, filename, size) {\n",
              "      if (!google.colab.kernel.accessAllowed) {\n",
              "        return;\n",
              "      }\n",
              "      const div = document.createElement('div');\n",
              "      const label = document.createElement('label');\n",
              "      label.textContent = `Downloading \"${filename}\": `;\n",
              "      div.appendChild(label);\n",
              "      const progress = document.createElement('progress');\n",
              "      progress.max = size;\n",
              "      div.appendChild(progress);\n",
              "      document.body.appendChild(div);\n",
              "\n",
              "      const buffers = [];\n",
              "      let downloaded = 0;\n",
              "\n",
              "      const channel = await google.colab.kernel.comms.open(id);\n",
              "      // Send a message to notify the kernel that we're ready.\n",
              "      channel.send({})\n",
              "\n",
              "      for await (const message of channel.messages) {\n",
              "        // Send a message to notify the kernel that we're ready.\n",
              "        channel.send({})\n",
              "        if (message.buffers) {\n",
              "          for (const buffer of message.buffers) {\n",
              "            buffers.push(buffer);\n",
              "            downloaded += buffer.byteLength;\n",
              "            progress.value = downloaded;\n",
              "          }\n",
              "        }\n",
              "      }\n",
              "      const blob = new Blob(buffers, {type: 'application/binary'});\n",
              "      const a = document.createElement('a');\n",
              "      a.href = window.URL.createObjectURL(blob);\n",
              "      a.download = filename;\n",
              "      div.appendChild(a);\n",
              "      a.click();\n",
              "      div.remove();\n",
              "    }\n",
              "  "
            ],
            "text/plain": [
              "<IPython.core.display.Javascript object>"
            ]
          },
          "metadata": {},
          "output_type": "display_data"
        },
        {
          "data": {
            "application/javascript": [
              "download(\"download_5ec5b959-368d-4c6a-87fe-d9736c892315\", \"checkpoint_epoch_10.pth\", 6530170)"
            ],
            "text/plain": [
              "<IPython.core.display.Javascript object>"
            ]
          },
          "metadata": {},
          "output_type": "display_data"
        },
        {
          "metadata": {
            "tags": null
          },
          "name": "stdout",
          "output_type": "stream",
          "text": [
            "Epoch 10/150, Train Acc: 8.46%, Val Acc: 11.53%, Test Acc: 10.96%\n",
            "Epoch 10/150, Train Loss: 4.0471, Val Loss: 3.8575, Test Loss: 3.8996\n",
            "Epoch 11/150, Train Acc: 9.32%, Val Acc: 11.46%, Test Acc: 11.62%\n",
            "Epoch 11/150, Train Loss: 3.9796, Val Loss: 3.8052, Test Loss: 3.8328\n",
            "Epoch 12/150, Train Acc: 10.28%, Val Acc: 12.34%, Test Acc: 13.01%\n",
            "Epoch 12/150, Train Loss: 3.9227, Val Loss: 3.7427, Test Loss: 3.7717\n",
            "Epoch 13/150, Train Acc: 11.52%, Val Acc: 14.06%, Test Acc: 13.42%\n",
            "Epoch 13/150, Train Loss: 3.8539, Val Loss: 3.6681, Test Loss: 3.7190\n",
            "Epoch 14/150, Train Acc: 12.75%, Val Acc: 15.53%, Test Acc: 13.92%\n",
            "Epoch 14/150, Train Loss: 3.7833, Val Loss: 3.6083, Test Loss: 3.7024\n",
            "Epoch 15/150, Train Acc: 12.68%, Val Acc: 15.94%, Test Acc: 15.24%\n",
            "Epoch 15/150, Train Loss: 3.7665, Val Loss: 3.5758, Test Loss: 3.6295\n",
            "Epoch 16/150, Train Acc: 14.07%, Val Acc: 17.20%, Test Acc: 15.90%\n",
            "Epoch 16/150, Train Loss: 3.7001, Val Loss: 3.5155, Test Loss: 3.5627\n",
            "Epoch 17/150, Train Acc: 14.95%, Val Acc: 18.42%, Test Acc: 15.68%\n",
            "Epoch 17/150, Train Loss: 3.6417, Val Loss: 3.4383, Test Loss: 3.5645\n",
            "Epoch 18/150, Train Acc: 15.71%, Val Acc: 19.23%, Test Acc: 15.97%\n",
            "Epoch 18/150, Train Loss: 3.5909, Val Loss: 3.4130, Test Loss: 3.5812\n",
            "Epoch 19/150, Train Acc: 16.54%, Val Acc: 19.09%, Test Acc: 16.90%\n",
            "Epoch 19/150, Train Loss: 3.5448, Val Loss: 3.3818, Test Loss: 3.5057\n",
            "Checkpoint saved at epoch 20: ./checkpoint_epoch_20.pth\n"
          ]
        },
        {
          "data": {
            "application/javascript": [
              "\n",
              "    async function download(id, filename, size) {\n",
              "      if (!google.colab.kernel.accessAllowed) {\n",
              "        return;\n",
              "      }\n",
              "      const div = document.createElement('div');\n",
              "      const label = document.createElement('label');\n",
              "      label.textContent = `Downloading \"${filename}\": `;\n",
              "      div.appendChild(label);\n",
              "      const progress = document.createElement('progress');\n",
              "      progress.max = size;\n",
              "      div.appendChild(progress);\n",
              "      document.body.appendChild(div);\n",
              "\n",
              "      const buffers = [];\n",
              "      let downloaded = 0;\n",
              "\n",
              "      const channel = await google.colab.kernel.comms.open(id);\n",
              "      // Send a message to notify the kernel that we're ready.\n",
              "      channel.send({})\n",
              "\n",
              "      for await (const message of channel.messages) {\n",
              "        // Send a message to notify the kernel that we're ready.\n",
              "        channel.send({})\n",
              "        if (message.buffers) {\n",
              "          for (const buffer of message.buffers) {\n",
              "            buffers.push(buffer);\n",
              "            downloaded += buffer.byteLength;\n",
              "            progress.value = downloaded;\n",
              "          }\n",
              "        }\n",
              "      }\n",
              "      const blob = new Blob(buffers, {type: 'application/binary'});\n",
              "      const a = document.createElement('a');\n",
              "      a.href = window.URL.createObjectURL(blob);\n",
              "      a.download = filename;\n",
              "      div.appendChild(a);\n",
              "      a.click();\n",
              "      div.remove();\n",
              "    }\n",
              "  "
            ],
            "text/plain": [
              "<IPython.core.display.Javascript object>"
            ]
          },
          "metadata": {},
          "output_type": "display_data"
        },
        {
          "data": {
            "application/javascript": [
              "download(\"download_986d4391-2bf0-4c08-a92a-a51acef33f2c\", \"checkpoint_epoch_20.pth\", 6530170)"
            ],
            "text/plain": [
              "<IPython.core.display.Javascript object>"
            ]
          },
          "metadata": {},
          "output_type": "display_data"
        },
        {
          "metadata": {
            "tags": null
          },
          "name": "stdout",
          "output_type": "stream",
          "text": [
            "Epoch 20/150, Train Acc: 16.96%, Val Acc: 21.30%, Test Acc: 17.81%\n",
            "Epoch 20/150, Train Loss: 3.5070, Val Loss: 3.3022, Test Loss: 3.4498\n",
            "Epoch 21/150, Train Acc: 16.82%, Val Acc: 20.37%, Test Acc: 19.05%\n",
            "Epoch 21/150, Train Loss: 3.5076, Val Loss: 3.3207, Test Loss: 3.3880\n",
            "Epoch 22/150, Train Acc: 18.21%, Val Acc: 21.82%, Test Acc: 18.93%\n",
            "Epoch 22/150, Train Loss: 3.4298, Val Loss: 3.2528, Test Loss: 3.3723\n",
            "Epoch 23/150, Train Acc: 18.28%, Val Acc: 20.88%, Test Acc: 17.57%\n",
            "Epoch 23/150, Train Loss: 3.4462, Val Loss: 3.2988, Test Loss: 3.4520\n",
            "Epoch 24/150, Train Acc: 18.66%, Val Acc: 23.19%, Test Acc: 20.29%\n",
            "Epoch 24/150, Train Loss: 3.4117, Val Loss: 3.2134, Test Loss: 3.3001\n",
            "Epoch 25/150, Train Acc: 20.06%, Val Acc: 23.81%, Test Acc: 21.69%\n",
            "Epoch 25/150, Train Loss: 3.3391, Val Loss: 3.1341, Test Loss: 3.2675\n",
            "Epoch 26/150, Train Acc: 20.43%, Val Acc: 23.76%, Test Acc: 20.42%\n",
            "Epoch 26/150, Train Loss: 3.3282, Val Loss: 3.1629, Test Loss: 3.3124\n",
            "Epoch 27/150, Train Acc: 20.82%, Val Acc: 25.39%, Test Acc: 21.45%\n",
            "Epoch 27/150, Train Loss: 3.2928, Val Loss: 3.0563, Test Loss: 3.2425\n",
            "Epoch 28/150, Train Acc: 21.51%, Val Acc: 24.73%, Test Acc: 20.82%\n",
            "Epoch 28/150, Train Loss: 3.2687, Val Loss: 3.1118, Test Loss: 3.2722\n",
            "Epoch 29/150, Train Acc: 21.55%, Val Acc: 25.36%, Test Acc: 21.34%\n",
            "Epoch 29/150, Train Loss: 3.2325, Val Loss: 3.1046, Test Loss: 3.2800\n",
            "Checkpoint saved at epoch 30: ./checkpoint_epoch_30.pth\n"
          ]
        },
        {
          "data": {
            "application/javascript": [
              "\n",
              "    async function download(id, filename, size) {\n",
              "      if (!google.colab.kernel.accessAllowed) {\n",
              "        return;\n",
              "      }\n",
              "      const div = document.createElement('div');\n",
              "      const label = document.createElement('label');\n",
              "      label.textContent = `Downloading \"${filename}\": `;\n",
              "      div.appendChild(label);\n",
              "      const progress = document.createElement('progress');\n",
              "      progress.max = size;\n",
              "      div.appendChild(progress);\n",
              "      document.body.appendChild(div);\n",
              "\n",
              "      const buffers = [];\n",
              "      let downloaded = 0;\n",
              "\n",
              "      const channel = await google.colab.kernel.comms.open(id);\n",
              "      // Send a message to notify the kernel that we're ready.\n",
              "      channel.send({})\n",
              "\n",
              "      for await (const message of channel.messages) {\n",
              "        // Send a message to notify the kernel that we're ready.\n",
              "        channel.send({})\n",
              "        if (message.buffers) {\n",
              "          for (const buffer of message.buffers) {\n",
              "            buffers.push(buffer);\n",
              "            downloaded += buffer.byteLength;\n",
              "            progress.value = downloaded;\n",
              "          }\n",
              "        }\n",
              "      }\n",
              "      const blob = new Blob(buffers, {type: 'application/binary'});\n",
              "      const a = document.createElement('a');\n",
              "      a.href = window.URL.createObjectURL(blob);\n",
              "      a.download = filename;\n",
              "      div.appendChild(a);\n",
              "      a.click();\n",
              "      div.remove();\n",
              "    }\n",
              "  "
            ],
            "text/plain": [
              "<IPython.core.display.Javascript object>"
            ]
          },
          "metadata": {},
          "output_type": "display_data"
        },
        {
          "data": {
            "application/javascript": [
              "download(\"download_bd9d3747-d2f2-4f43-bdef-81b62ca03e97\", \"checkpoint_epoch_30.pth\", 6530170)"
            ],
            "text/plain": [
              "<IPython.core.display.Javascript object>"
            ]
          },
          "metadata": {},
          "output_type": "display_data"
        },
        {
          "metadata": {
            "tags": null
          },
          "name": "stdout",
          "output_type": "stream",
          "text": [
            "Epoch 30/150, Train Acc: 22.57%, Val Acc: 25.16%, Test Acc: 22.54%\n",
            "Epoch 30/150, Train Loss: 3.1971, Val Loss: 3.0806, Test Loss: 3.2049\n",
            "Epoch 31/150, Train Acc: 22.74%, Val Acc: 26.07%, Test Acc: 21.77%\n",
            "Epoch 31/150, Train Loss: 3.1819, Val Loss: 3.0360, Test Loss: 3.2212\n",
            "Epoch 32/150, Train Acc: 23.91%, Val Acc: 28.18%, Test Acc: 24.29%\n",
            "Epoch 32/150, Train Loss: 3.1196, Val Loss: 2.9271, Test Loss: 3.0745\n",
            "Epoch 33/150, Train Acc: 25.35%, Val Acc: 29.07%, Test Acc: 24.81%\n",
            "Epoch 33/150, Train Loss: 3.0514, Val Loss: 2.8486, Test Loss: 3.0741\n",
            "Epoch 34/150, Train Acc: 25.37%, Val Acc: 29.02%, Test Acc: 26.16%\n",
            "Epoch 34/150, Train Loss: 3.0514, Val Loss: 2.8664, Test Loss: 3.0411\n",
            "Epoch 35/150, Train Acc: 25.73%, Val Acc: 29.16%, Test Acc: 25.83%\n",
            "Epoch 35/150, Train Loss: 3.0285, Val Loss: 2.8422, Test Loss: 3.0182\n",
            "Epoch 36/150, Train Acc: 26.41%, Val Acc: 30.09%, Test Acc: 27.07%\n",
            "Epoch 36/150, Train Loss: 2.9780, Val Loss: 2.7813, Test Loss: 2.9492\n",
            "Epoch 37/150, Train Acc: 26.25%, Val Acc: 31.11%, Test Acc: 26.08%\n",
            "Epoch 37/150, Train Loss: 2.9882, Val Loss: 2.7669, Test Loss: 2.9947\n",
            "Epoch 38/150, Train Acc: 27.11%, Val Acc: 31.16%, Test Acc: 24.99%\n",
            "Epoch 38/150, Train Loss: 2.9626, Val Loss: 2.7812, Test Loss: 3.0797\n",
            "Epoch 39/150, Train Acc: 27.50%, Val Acc: 31.79%, Test Acc: 27.09%\n",
            "Epoch 39/150, Train Loss: 2.9238, Val Loss: 2.7526, Test Loss: 2.9519\n",
            "Checkpoint saved at epoch 40: ./checkpoint_epoch_40.pth\n"
          ]
        },
        {
          "data": {
            "application/javascript": [
              "\n",
              "    async function download(id, filename, size) {\n",
              "      if (!google.colab.kernel.accessAllowed) {\n",
              "        return;\n",
              "      }\n",
              "      const div = document.createElement('div');\n",
              "      const label = document.createElement('label');\n",
              "      label.textContent = `Downloading \"${filename}\": `;\n",
              "      div.appendChild(label);\n",
              "      const progress = document.createElement('progress');\n",
              "      progress.max = size;\n",
              "      div.appendChild(progress);\n",
              "      document.body.appendChild(div);\n",
              "\n",
              "      const buffers = [];\n",
              "      let downloaded = 0;\n",
              "\n",
              "      const channel = await google.colab.kernel.comms.open(id);\n",
              "      // Send a message to notify the kernel that we're ready.\n",
              "      channel.send({})\n",
              "\n",
              "      for await (const message of channel.messages) {\n",
              "        // Send a message to notify the kernel that we're ready.\n",
              "        channel.send({})\n",
              "        if (message.buffers) {\n",
              "          for (const buffer of message.buffers) {\n",
              "            buffers.push(buffer);\n",
              "            downloaded += buffer.byteLength;\n",
              "            progress.value = downloaded;\n",
              "          }\n",
              "        }\n",
              "      }\n",
              "      const blob = new Blob(buffers, {type: 'application/binary'});\n",
              "      const a = document.createElement('a');\n",
              "      a.href = window.URL.createObjectURL(blob);\n",
              "      a.download = filename;\n",
              "      div.appendChild(a);\n",
              "      a.click();\n",
              "      div.remove();\n",
              "    }\n",
              "  "
            ],
            "text/plain": [
              "<IPython.core.display.Javascript object>"
            ]
          },
          "metadata": {},
          "output_type": "display_data"
        },
        {
          "data": {
            "application/javascript": [
              "download(\"download_ea99b55f-bec5-4112-8389-268cd73a4954\", \"checkpoint_epoch_40.pth\", 6530170)"
            ],
            "text/plain": [
              "<IPython.core.display.Javascript object>"
            ]
          },
          "metadata": {},
          "output_type": "display_data"
        },
        {
          "metadata": {
            "tags": null
          },
          "name": "stdout",
          "output_type": "stream",
          "text": [
            "Epoch 40/150, Train Acc: 28.35%, Val Acc: 31.12%, Test Acc: 27.07%\n",
            "Epoch 40/150, Train Loss: 2.8956, Val Loss: 2.7499, Test Loss: 2.9596\n",
            "Epoch 41/150, Train Acc: 29.02%, Val Acc: 26.17%, Test Acc: 19.59%\n",
            "Epoch 41/150, Train Loss: 2.8456, Val Loss: 3.1232, Test Loss: 3.5997\n",
            "Epoch 42/150, Train Acc: 22.90%, Val Acc: 28.26%, Test Acc: 23.68%\n",
            "Epoch 42/150, Train Loss: 3.2210, Val Loss: 2.9092, Test Loss: 3.1505\n",
            "Epoch 43/150, Train Acc: 27.18%, Val Acc: 32.57%, Test Acc: 27.62%\n",
            "Epoch 43/150, Train Loss: 2.9516, Val Loss: 2.6879, Test Loss: 2.9630\n",
            "Epoch 44/150, Train Acc: 29.22%, Val Acc: 31.86%, Test Acc: 28.17%\n",
            "Epoch 44/150, Train Loss: 2.8545, Val Loss: 2.7286, Test Loss: 2.9360\n",
            "Epoch 45/150, Train Acc: 29.66%, Val Acc: 33.96%, Test Acc: 28.97%\n",
            "Epoch 45/150, Train Loss: 2.8203, Val Loss: 2.6181, Test Loss: 2.8887\n",
            "Epoch 46/150, Train Acc: 31.26%, Val Acc: 32.54%, Test Acc: 29.34%\n",
            "Epoch 46/150, Train Loss: 2.7355, Val Loss: 2.6770, Test Loss: 2.8743\n",
            "Epoch 47/150, Train Acc: 31.16%, Val Acc: 34.71%, Test Acc: 29.87%\n",
            "Epoch 47/150, Train Loss: 2.7497, Val Loss: 2.5973, Test Loss: 2.8434\n",
            "Epoch 48/150, Train Acc: 32.44%, Val Acc: 35.46%, Test Acc: 31.17%\n",
            "Epoch 48/150, Train Loss: 2.6762, Val Loss: 2.5571, Test Loss: 2.8048\n",
            "Epoch 49/150, Train Acc: 31.24%, Val Acc: 32.80%, Test Acc: 27.08%\n",
            "Epoch 49/150, Train Loss: 2.7654, Val Loss: 2.6872, Test Loss: 2.9772\n",
            "Checkpoint saved at epoch 50: ./checkpoint_epoch_50.pth\n"
          ]
        },
        {
          "data": {
            "application/javascript": [
              "\n",
              "    async function download(id, filename, size) {\n",
              "      if (!google.colab.kernel.accessAllowed) {\n",
              "        return;\n",
              "      }\n",
              "      const div = document.createElement('div');\n",
              "      const label = document.createElement('label');\n",
              "      label.textContent = `Downloading \"${filename}\": `;\n",
              "      div.appendChild(label);\n",
              "      const progress = document.createElement('progress');\n",
              "      progress.max = size;\n",
              "      div.appendChild(progress);\n",
              "      document.body.appendChild(div);\n",
              "\n",
              "      const buffers = [];\n",
              "      let downloaded = 0;\n",
              "\n",
              "      const channel = await google.colab.kernel.comms.open(id);\n",
              "      // Send a message to notify the kernel that we're ready.\n",
              "      channel.send({})\n",
              "\n",
              "      for await (const message of channel.messages) {\n",
              "        // Send a message to notify the kernel that we're ready.\n",
              "        channel.send({})\n",
              "        if (message.buffers) {\n",
              "          for (const buffer of message.buffers) {\n",
              "            buffers.push(buffer);\n",
              "            downloaded += buffer.byteLength;\n",
              "            progress.value = downloaded;\n",
              "          }\n",
              "        }\n",
              "      }\n",
              "      const blob = new Blob(buffers, {type: 'application/binary'});\n",
              "      const a = document.createElement('a');\n",
              "      a.href = window.URL.createObjectURL(blob);\n",
              "      a.download = filename;\n",
              "      div.appendChild(a);\n",
              "      a.click();\n",
              "      div.remove();\n",
              "    }\n",
              "  "
            ],
            "text/plain": [
              "<IPython.core.display.Javascript object>"
            ]
          },
          "metadata": {},
          "output_type": "display_data"
        },
        {
          "data": {
            "application/javascript": [
              "download(\"download_000236bb-0f8f-4c78-91f7-207dcc0dba81\", \"checkpoint_epoch_50.pth\", 6530170)"
            ],
            "text/plain": [
              "<IPython.core.display.Javascript object>"
            ]
          },
          "metadata": {},
          "output_type": "display_data"
        },
        {
          "metadata": {
            "tags": null
          },
          "name": "stdout",
          "output_type": "stream",
          "text": [
            "Epoch 50/150, Train Acc: 30.88%, Val Acc: 34.72%, Test Acc: 30.28%\n",
            "Epoch 50/150, Train Loss: 2.7528, Val Loss: 2.5729, Test Loss: 2.8154\n",
            "Epoch 51/150, Train Acc: 32.35%, Val Acc: 35.67%, Test Acc: 32.22%\n",
            "Epoch 51/150, Train Loss: 2.6733, Val Loss: 2.5134, Test Loss: 2.7236\n",
            "Epoch 52/150, Train Acc: 33.87%, Val Acc: 36.27%, Test Acc: 31.58%\n",
            "Epoch 52/150, Train Loss: 2.6111, Val Loss: 2.5039, Test Loss: 2.7821\n",
            "Epoch 53/150, Train Acc: 34.83%, Val Acc: 36.74%, Test Acc: 31.59%\n",
            "Epoch 53/150, Train Loss: 2.5653, Val Loss: 2.4902, Test Loss: 2.7605\n",
            "Epoch 54/150, Train Acc: 34.13%, Val Acc: 36.72%, Test Acc: 30.59%\n",
            "Epoch 54/150, Train Loss: 2.5940, Val Loss: 2.4843, Test Loss: 2.8133\n",
            "Epoch 55/150, Train Acc: 34.99%, Val Acc: 36.67%, Test Acc: 32.45%\n",
            "Epoch 55/150, Train Loss: 2.5470, Val Loss: 2.4751, Test Loss: 2.6937\n",
            "Epoch 56/150, Train Acc: 35.28%, Val Acc: 36.67%, Test Acc: 31.93%\n",
            "Epoch 56/150, Train Loss: 2.5163, Val Loss: 2.4775, Test Loss: 2.7417\n",
            "Epoch 57/150, Train Acc: 25.55%, Val Acc: 28.32%, Test Acc: 23.91%\n",
            "Epoch 57/150, Train Loss: 3.0892, Val Loss: 2.9430, Test Loss: 3.1239\n",
            "Epoch 58/150, Train Acc: 28.21%, Val Acc: 32.58%, Test Acc: 28.68%\n",
            "Epoch 58/150, Train Loss: 2.9001, Val Loss: 2.6930, Test Loss: 2.9016\n",
            "Epoch 59/150, Train Acc: 32.56%, Val Acc: 35.45%, Test Acc: 29.54%\n",
            "Epoch 59/150, Train Loss: 2.6809, Val Loss: 2.5743, Test Loss: 2.8239\n",
            "Checkpoint saved at epoch 60: ./checkpoint_epoch_60.pth\n"
          ]
        },
        {
          "data": {
            "application/javascript": [
              "\n",
              "    async function download(id, filename, size) {\n",
              "      if (!google.colab.kernel.accessAllowed) {\n",
              "        return;\n",
              "      }\n",
              "      const div = document.createElement('div');\n",
              "      const label = document.createElement('label');\n",
              "      label.textContent = `Downloading \"${filename}\": `;\n",
              "      div.appendChild(label);\n",
              "      const progress = document.createElement('progress');\n",
              "      progress.max = size;\n",
              "      div.appendChild(progress);\n",
              "      document.body.appendChild(div);\n",
              "\n",
              "      const buffers = [];\n",
              "      let downloaded = 0;\n",
              "\n",
              "      const channel = await google.colab.kernel.comms.open(id);\n",
              "      // Send a message to notify the kernel that we're ready.\n",
              "      channel.send({})\n",
              "\n",
              "      for await (const message of channel.messages) {\n",
              "        // Send a message to notify the kernel that we're ready.\n",
              "        channel.send({})\n",
              "        if (message.buffers) {\n",
              "          for (const buffer of message.buffers) {\n",
              "            buffers.push(buffer);\n",
              "            downloaded += buffer.byteLength;\n",
              "            progress.value = downloaded;\n",
              "          }\n",
              "        }\n",
              "      }\n",
              "      const blob = new Blob(buffers, {type: 'application/binary'});\n",
              "      const a = document.createElement('a');\n",
              "      a.href = window.URL.createObjectURL(blob);\n",
              "      a.download = filename;\n",
              "      div.appendChild(a);\n",
              "      a.click();\n",
              "      div.remove();\n",
              "    }\n",
              "  "
            ],
            "text/plain": [
              "<IPython.core.display.Javascript object>"
            ]
          },
          "metadata": {},
          "output_type": "display_data"
        },
        {
          "data": {
            "application/javascript": [
              "download(\"download_478c5ca1-99ef-42d9-bda6-32ecb4f06cdd\", \"checkpoint_epoch_60.pth\", 6530170)"
            ],
            "text/plain": [
              "<IPython.core.display.Javascript object>"
            ]
          },
          "metadata": {},
          "output_type": "display_data"
        },
        {
          "metadata": {
            "tags": null
          },
          "name": "stdout",
          "output_type": "stream",
          "text": [
            "Epoch 60/150, Train Acc: 34.73%, Val Acc: 37.15%, Test Acc: 32.03%\n",
            "Epoch 60/150, Train Loss: 2.5698, Val Loss: 2.4801, Test Loss: 2.7378\n",
            "Epoch 61/150, Train Acc: 35.39%, Val Acc: 36.43%, Test Acc: 31.84%\n",
            "Epoch 61/150, Train Loss: 2.5389, Val Loss: 2.5129, Test Loss: 2.7498\n",
            "Epoch 62/150, Train Acc: 35.35%, Val Acc: 37.80%, Test Acc: 31.44%\n",
            "Epoch 62/150, Train Loss: 2.5441, Val Loss: 2.4595, Test Loss: 2.8134\n",
            "Epoch 63/150, Train Acc: 35.56%, Val Acc: 37.85%, Test Acc: 32.36%\n",
            "Epoch 63/150, Train Loss: 2.5375, Val Loss: 2.4366, Test Loss: 2.7047\n",
            "Epoch 64/150, Train Acc: 37.30%, Val Acc: 38.64%, Test Acc: 33.33%\n",
            "Epoch 64/150, Train Loss: 2.4447, Val Loss: 2.3789, Test Loss: 2.6846\n",
            "Epoch 65/150, Train Acc: 36.89%, Val Acc: 38.71%, Test Acc: 33.47%\n",
            "Epoch 65/150, Train Loss: 2.4666, Val Loss: 2.3678, Test Loss: 2.6445\n",
            "Epoch 66/150, Train Acc: 37.60%, Val Acc: 38.59%, Test Acc: 33.31%\n",
            "Epoch 66/150, Train Loss: 2.4228, Val Loss: 2.3931, Test Loss: 2.6513\n",
            "Epoch 67/150, Train Acc: 37.73%, Val Acc: 38.82%, Test Acc: 34.12%\n",
            "Epoch 67/150, Train Loss: 2.4153, Val Loss: 2.3950, Test Loss: 2.6183\n",
            "Epoch 68/150, Train Acc: 38.44%, Val Acc: 39.74%, Test Acc: 34.15%\n",
            "Epoch 68/150, Train Loss: 2.3941, Val Loss: 2.3569, Test Loss: 2.5953\n",
            "Epoch 69/150, Train Acc: 35.99%, Val Acc: 37.58%, Test Acc: 32.33%\n",
            "Epoch 69/150, Train Loss: 2.4996, Val Loss: 2.4702, Test Loss: 2.7451\n",
            "Checkpoint saved at epoch 70: ./checkpoint_epoch_70.pth\n"
          ]
        },
        {
          "data": {
            "application/javascript": [
              "\n",
              "    async function download(id, filename, size) {\n",
              "      if (!google.colab.kernel.accessAllowed) {\n",
              "        return;\n",
              "      }\n",
              "      const div = document.createElement('div');\n",
              "      const label = document.createElement('label');\n",
              "      label.textContent = `Downloading \"${filename}\": `;\n",
              "      div.appendChild(label);\n",
              "      const progress = document.createElement('progress');\n",
              "      progress.max = size;\n",
              "      div.appendChild(progress);\n",
              "      document.body.appendChild(div);\n",
              "\n",
              "      const buffers = [];\n",
              "      let downloaded = 0;\n",
              "\n",
              "      const channel = await google.colab.kernel.comms.open(id);\n",
              "      // Send a message to notify the kernel that we're ready.\n",
              "      channel.send({})\n",
              "\n",
              "      for await (const message of channel.messages) {\n",
              "        // Send a message to notify the kernel that we're ready.\n",
              "        channel.send({})\n",
              "        if (message.buffers) {\n",
              "          for (const buffer of message.buffers) {\n",
              "            buffers.push(buffer);\n",
              "            downloaded += buffer.byteLength;\n",
              "            progress.value = downloaded;\n",
              "          }\n",
              "        }\n",
              "      }\n",
              "      const blob = new Blob(buffers, {type: 'application/binary'});\n",
              "      const a = document.createElement('a');\n",
              "      a.href = window.URL.createObjectURL(blob);\n",
              "      a.download = filename;\n",
              "      div.appendChild(a);\n",
              "      a.click();\n",
              "      div.remove();\n",
              "    }\n",
              "  "
            ],
            "text/plain": [
              "<IPython.core.display.Javascript object>"
            ]
          },
          "metadata": {},
          "output_type": "display_data"
        },
        {
          "data": {
            "application/javascript": [
              "download(\"download_1bf82f46-1e04-4e96-92d2-b46a95b3f9bb\", \"checkpoint_epoch_70.pth\", 6530170)"
            ],
            "text/plain": [
              "<IPython.core.display.Javascript object>"
            ]
          },
          "metadata": {},
          "output_type": "display_data"
        },
        {
          "metadata": {
            "tags": null
          },
          "name": "stdout",
          "output_type": "stream",
          "text": [
            "Epoch 70/150, Train Acc: 37.38%, Val Acc: 40.05%, Test Acc: 34.13%\n",
            "Epoch 70/150, Train Loss: 2.4440, Val Loss: 2.3479, Test Loss: 2.6175\n",
            "Epoch 71/150, Train Acc: 39.38%, Val Acc: 40.67%, Test Acc: 34.98%\n",
            "Epoch 71/150, Train Loss: 2.3523, Val Loss: 2.3317, Test Loss: 2.6000\n",
            "Epoch 72/150, Train Acc: 40.04%, Val Acc: 40.97%, Test Acc: 35.86%\n",
            "Epoch 72/150, Train Loss: 2.3206, Val Loss: 2.3041, Test Loss: 2.5671\n",
            "Epoch 73/150, Train Acc: 40.23%, Val Acc: 41.28%, Test Acc: 34.94%\n",
            "Epoch 73/150, Train Loss: 2.2947, Val Loss: 2.2934, Test Loss: 2.6187\n",
            "Epoch 74/150, Train Acc: 39.93%, Val Acc: 39.11%, Test Acc: 33.91%\n",
            "Epoch 74/150, Train Loss: 2.3114, Val Loss: 2.3501, Test Loss: 2.6584\n",
            "Epoch 75/150, Train Acc: 39.92%, Val Acc: 40.91%, Test Acc: 35.73%\n",
            "Epoch 75/150, Train Loss: 2.3152, Val Loss: 2.2690, Test Loss: 2.5246\n",
            "Epoch 76/150, Train Acc: 41.19%, Val Acc: 41.02%, Test Acc: 35.71%\n",
            "Epoch 76/150, Train Loss: 2.2515, Val Loss: 2.2810, Test Loss: 2.5660\n",
            "Epoch 77/150, Train Acc: 40.62%, Val Acc: 40.97%, Test Acc: 36.38%\n",
            "Epoch 77/150, Train Loss: 2.2800, Val Loss: 2.3069, Test Loss: 2.5339\n",
            "Epoch 78/150, Train Acc: 40.62%, Val Acc: 40.52%, Test Acc: 36.49%\n",
            "Epoch 78/150, Train Loss: 2.2853, Val Loss: 2.3033, Test Loss: 2.5174\n",
            "Epoch 79/150, Train Acc: 41.29%, Val Acc: 42.20%, Test Acc: 37.06%\n",
            "Epoch 79/150, Train Loss: 2.2398, Val Loss: 2.2460, Test Loss: 2.5274\n",
            "Checkpoint saved at epoch 80: ./checkpoint_epoch_80.pth\n"
          ]
        },
        {
          "data": {
            "application/javascript": [
              "\n",
              "    async function download(id, filename, size) {\n",
              "      if (!google.colab.kernel.accessAllowed) {\n",
              "        return;\n",
              "      }\n",
              "      const div = document.createElement('div');\n",
              "      const label = document.createElement('label');\n",
              "      label.textContent = `Downloading \"${filename}\": `;\n",
              "      div.appendChild(label);\n",
              "      const progress = document.createElement('progress');\n",
              "      progress.max = size;\n",
              "      div.appendChild(progress);\n",
              "      document.body.appendChild(div);\n",
              "\n",
              "      const buffers = [];\n",
              "      let downloaded = 0;\n",
              "\n",
              "      const channel = await google.colab.kernel.comms.open(id);\n",
              "      // Send a message to notify the kernel that we're ready.\n",
              "      channel.send({})\n",
              "\n",
              "      for await (const message of channel.messages) {\n",
              "        // Send a message to notify the kernel that we're ready.\n",
              "        channel.send({})\n",
              "        if (message.buffers) {\n",
              "          for (const buffer of message.buffers) {\n",
              "            buffers.push(buffer);\n",
              "            downloaded += buffer.byteLength;\n",
              "            progress.value = downloaded;\n",
              "          }\n",
              "        }\n",
              "      }\n",
              "      const blob = new Blob(buffers, {type: 'application/binary'});\n",
              "      const a = document.createElement('a');\n",
              "      a.href = window.URL.createObjectURL(blob);\n",
              "      a.download = filename;\n",
              "      div.appendChild(a);\n",
              "      a.click();\n",
              "      div.remove();\n",
              "    }\n",
              "  "
            ],
            "text/plain": [
              "<IPython.core.display.Javascript object>"
            ]
          },
          "metadata": {},
          "output_type": "display_data"
        },
        {
          "data": {
            "application/javascript": [
              "download(\"download_36690f57-cf95-45af-a9f2-adbcf074b378\", \"checkpoint_epoch_80.pth\", 6530170)"
            ],
            "text/plain": [
              "<IPython.core.display.Javascript object>"
            ]
          },
          "metadata": {},
          "output_type": "display_data"
        },
        {
          "metadata": {
            "tags": null
          },
          "name": "stdout",
          "output_type": "stream",
          "text": [
            "Epoch 80/150, Train Acc: 42.57%, Val Acc: 41.66%, Test Acc: 36.15%\n",
            "Epoch 80/150, Train Loss: 2.1964, Val Loss: 2.2644, Test Loss: 2.5230\n",
            "Epoch 81/150, Train Acc: 41.78%, Val Acc: 40.24%, Test Acc: 34.61%\n",
            "Epoch 81/150, Train Loss: 2.2319, Val Loss: 2.3461, Test Loss: 2.6249\n",
            "Epoch 82/150, Train Acc: 41.52%, Val Acc: 42.13%, Test Acc: 36.10%\n",
            "Epoch 82/150, Train Loss: 2.2363, Val Loss: 2.2574, Test Loss: 2.5605\n",
            "Epoch 83/150, Train Acc: 42.74%, Val Acc: 42.11%, Test Acc: 35.59%\n",
            "Epoch 83/150, Train Loss: 2.1844, Val Loss: 2.2526, Test Loss: 2.5869\n",
            "Epoch 84/150, Train Acc: 42.20%, Val Acc: 41.44%, Test Acc: 36.93%\n",
            "Epoch 84/150, Train Loss: 2.2074, Val Loss: 2.2742, Test Loss: 2.5010\n",
            "Epoch 85/150, Train Acc: 43.10%, Val Acc: 42.94%, Test Acc: 35.85%\n",
            "Epoch 85/150, Train Loss: 2.1678, Val Loss: 2.2199, Test Loss: 2.5447\n",
            "Epoch 86/150, Train Acc: 43.65%, Val Acc: 43.74%, Test Acc: 37.07%\n",
            "Epoch 86/150, Train Loss: 2.1396, Val Loss: 2.1998, Test Loss: 2.5119\n",
            "Epoch 87/150, Train Acc: 42.93%, Val Acc: 41.95%, Test Acc: 35.18%\n",
            "Epoch 87/150, Train Loss: 2.1705, Val Loss: 2.2655, Test Loss: 2.5808\n",
            "Epoch 88/150, Train Acc: 43.51%, Val Acc: 42.45%, Test Acc: 36.89%\n",
            "Epoch 88/150, Train Loss: 2.1283, Val Loss: 2.2260, Test Loss: 2.5192\n",
            "Epoch 89/150, Train Acc: 44.37%, Val Acc: 42.81%, Test Acc: 37.90%\n",
            "Epoch 89/150, Train Loss: 2.1087, Val Loss: 2.2375, Test Loss: 2.5223\n",
            "Checkpoint saved at epoch 90: ./checkpoint_epoch_90.pth\n"
          ]
        },
        {
          "data": {
            "application/javascript": [
              "\n",
              "    async function download(id, filename, size) {\n",
              "      if (!google.colab.kernel.accessAllowed) {\n",
              "        return;\n",
              "      }\n",
              "      const div = document.createElement('div');\n",
              "      const label = document.createElement('label');\n",
              "      label.textContent = `Downloading \"${filename}\": `;\n",
              "      div.appendChild(label);\n",
              "      const progress = document.createElement('progress');\n",
              "      progress.max = size;\n",
              "      div.appendChild(progress);\n",
              "      document.body.appendChild(div);\n",
              "\n",
              "      const buffers = [];\n",
              "      let downloaded = 0;\n",
              "\n",
              "      const channel = await google.colab.kernel.comms.open(id);\n",
              "      // Send a message to notify the kernel that we're ready.\n",
              "      channel.send({})\n",
              "\n",
              "      for await (const message of channel.messages) {\n",
              "        // Send a message to notify the kernel that we're ready.\n",
              "        channel.send({})\n",
              "        if (message.buffers) {\n",
              "          for (const buffer of message.buffers) {\n",
              "            buffers.push(buffer);\n",
              "            downloaded += buffer.byteLength;\n",
              "            progress.value = downloaded;\n",
              "          }\n",
              "        }\n",
              "      }\n",
              "      const blob = new Blob(buffers, {type: 'application/binary'});\n",
              "      const a = document.createElement('a');\n",
              "      a.href = window.URL.createObjectURL(blob);\n",
              "      a.download = filename;\n",
              "      div.appendChild(a);\n",
              "      a.click();\n",
              "      div.remove();\n",
              "    }\n",
              "  "
            ],
            "text/plain": [
              "<IPython.core.display.Javascript object>"
            ]
          },
          "metadata": {},
          "output_type": "display_data"
        },
        {
          "data": {
            "application/javascript": [
              "download(\"download_1cbc4726-eff4-41f8-a9e5-3271bb237ce3\", \"checkpoint_epoch_90.pth\", 6530170)"
            ],
            "text/plain": [
              "<IPython.core.display.Javascript object>"
            ]
          },
          "metadata": {},
          "output_type": "display_data"
        },
        {
          "metadata": {
            "tags": null
          },
          "name": "stdout",
          "output_type": "stream",
          "text": [
            "Epoch 90/150, Train Acc: 44.54%, Val Acc: 43.35%, Test Acc: 38.84%\n",
            "Epoch 90/150, Train Loss: 2.0965, Val Loss: 2.1987, Test Loss: 2.4012\n",
            "Epoch 91/150, Train Acc: 45.40%, Val Acc: 43.22%, Test Acc: 36.78%\n",
            "Epoch 91/150, Train Loss: 2.0639, Val Loss: 2.2308, Test Loss: 2.5245\n",
            "Epoch 92/150, Train Acc: 44.84%, Val Acc: 43.38%, Test Acc: 37.78%\n",
            "Epoch 92/150, Train Loss: 2.0848, Val Loss: 2.2077, Test Loss: 2.5017\n",
            "Epoch 93/150, Train Acc: 42.52%, Val Acc: 43.07%, Test Acc: 36.79%\n",
            "Epoch 93/150, Train Loss: 2.1897, Val Loss: 2.2219, Test Loss: 2.5231\n",
            "Epoch 94/150, Train Acc: 44.29%, Val Acc: 43.75%, Test Acc: 38.66%\n",
            "Epoch 94/150, Train Loss: 2.1002, Val Loss: 2.1774, Test Loss: 2.4598\n",
            "Epoch 95/150, Train Acc: 45.95%, Val Acc: 43.06%, Test Acc: 37.76%\n",
            "Epoch 95/150, Train Loss: 2.0540, Val Loss: 2.2065, Test Loss: 2.4416\n",
            "Epoch 96/150, Train Acc: 46.27%, Val Acc: 44.17%, Test Acc: 38.27%\n",
            "Epoch 96/150, Train Loss: 2.0255, Val Loss: 2.1394, Test Loss: 2.4432\n",
            "Epoch 97/150, Train Acc: 45.92%, Val Acc: 44.35%, Test Acc: 37.36%\n",
            "Epoch 97/150, Train Loss: 2.0307, Val Loss: 2.1839, Test Loss: 2.5027\n",
            "Epoch 98/150, Train Acc: 45.60%, Val Acc: 43.49%, Test Acc: 38.07%\n",
            "Epoch 98/150, Train Loss: 2.0412, Val Loss: 2.1928, Test Loss: 2.4726\n",
            "Epoch 99/150, Train Acc: 45.73%, Val Acc: 45.00%, Test Acc: 37.98%\n",
            "Epoch 99/150, Train Loss: 2.0433, Val Loss: 2.1378, Test Loss: 2.4802\n",
            "Checkpoint saved at epoch 100: ./checkpoint_epoch_100.pth\n"
          ]
        },
        {
          "data": {
            "application/javascript": [
              "\n",
              "    async function download(id, filename, size) {\n",
              "      if (!google.colab.kernel.accessAllowed) {\n",
              "        return;\n",
              "      }\n",
              "      const div = document.createElement('div');\n",
              "      const label = document.createElement('label');\n",
              "      label.textContent = `Downloading \"${filename}\": `;\n",
              "      div.appendChild(label);\n",
              "      const progress = document.createElement('progress');\n",
              "      progress.max = size;\n",
              "      div.appendChild(progress);\n",
              "      document.body.appendChild(div);\n",
              "\n",
              "      const buffers = [];\n",
              "      let downloaded = 0;\n",
              "\n",
              "      const channel = await google.colab.kernel.comms.open(id);\n",
              "      // Send a message to notify the kernel that we're ready.\n",
              "      channel.send({})\n",
              "\n",
              "      for await (const message of channel.messages) {\n",
              "        // Send a message to notify the kernel that we're ready.\n",
              "        channel.send({})\n",
              "        if (message.buffers) {\n",
              "          for (const buffer of message.buffers) {\n",
              "            buffers.push(buffer);\n",
              "            downloaded += buffer.byteLength;\n",
              "            progress.value = downloaded;\n",
              "          }\n",
              "        }\n",
              "      }\n",
              "      const blob = new Blob(buffers, {type: 'application/binary'});\n",
              "      const a = document.createElement('a');\n",
              "      a.href = window.URL.createObjectURL(blob);\n",
              "      a.download = filename;\n",
              "      div.appendChild(a);\n",
              "      a.click();\n",
              "      div.remove();\n",
              "    }\n",
              "  "
            ],
            "text/plain": [
              "<IPython.core.display.Javascript object>"
            ]
          },
          "metadata": {},
          "output_type": "display_data"
        },
        {
          "data": {
            "application/javascript": [
              "download(\"download_6a866c5f-2aa1-48f8-ba75-199ed54f5d63\", \"checkpoint_epoch_100.pth\", 6530194)"
            ],
            "text/plain": [
              "<IPython.core.display.Javascript object>"
            ]
          },
          "metadata": {},
          "output_type": "display_data"
        },
        {
          "metadata": {
            "tags": null
          },
          "name": "stdout",
          "output_type": "stream",
          "text": [
            "Epoch 100/150, Train Acc: 47.12%, Val Acc: 44.80%, Test Acc: 39.02%\n",
            "Epoch 100/150, Train Loss: 1.9704, Val Loss: 2.1577, Test Loss: 2.4195\n",
            "Epoch 101/150, Train Acc: 47.04%, Val Acc: 43.58%, Test Acc: 38.16%\n",
            "Epoch 101/150, Train Loss: 1.9875, Val Loss: 2.1892, Test Loss: 2.4777\n",
            "Epoch 102/150, Train Acc: 46.53%, Val Acc: 42.14%, Test Acc: 35.99%\n",
            "Epoch 102/150, Train Loss: 2.0186, Val Loss: 2.2850, Test Loss: 2.6183\n",
            "Epoch 103/150, Train Acc: 45.22%, Val Acc: 43.82%, Test Acc: 38.02%\n",
            "Epoch 103/150, Train Loss: 2.0490, Val Loss: 2.1627, Test Loss: 2.4826\n",
            "Epoch 104/150, Train Acc: 47.19%, Val Acc: 44.60%, Test Acc: 38.71%\n",
            "Epoch 104/150, Train Loss: 1.9826, Val Loss: 2.1576, Test Loss: 2.4702\n",
            "Epoch 105/150, Train Acc: 47.98%, Val Acc: 44.40%, Test Acc: 38.73%\n",
            "Epoch 105/150, Train Loss: 1.9403, Val Loss: 2.1547, Test Loss: 2.4685\n",
            "Epoch 106/150, Train Acc: 47.68%, Val Acc: 44.40%, Test Acc: 39.53%\n",
            "Epoch 106/150, Train Loss: 1.9536, Val Loss: 2.1521, Test Loss: 2.4231\n",
            "Epoch 107/150, Train Acc: 47.79%, Val Acc: 44.56%, Test Acc: 38.72%\n",
            "Epoch 107/150, Train Loss: 1.9403, Val Loss: 2.1467, Test Loss: 2.4620\n",
            "Epoch 108/150, Train Acc: 47.95%, Val Acc: 43.81%, Test Acc: 37.12%\n",
            "Epoch 108/150, Train Loss: 1.9397, Val Loss: 2.1926, Test Loss: 2.5497\n",
            "Epoch 109/150, Train Acc: 47.72%, Val Acc: 45.01%, Test Acc: 39.51%\n",
            "Epoch 109/150, Train Loss: 1.9546, Val Loss: 2.1575, Test Loss: 2.4110\n",
            "Checkpoint saved at epoch 110: ./checkpoint_epoch_110.pth\n"
          ]
        },
        {
          "data": {
            "application/javascript": [
              "\n",
              "    async function download(id, filename, size) {\n",
              "      if (!google.colab.kernel.accessAllowed) {\n",
              "        return;\n",
              "      }\n",
              "      const div = document.createElement('div');\n",
              "      const label = document.createElement('label');\n",
              "      label.textContent = `Downloading \"${filename}\": `;\n",
              "      div.appendChild(label);\n",
              "      const progress = document.createElement('progress');\n",
              "      progress.max = size;\n",
              "      div.appendChild(progress);\n",
              "      document.body.appendChild(div);\n",
              "\n",
              "      const buffers = [];\n",
              "      let downloaded = 0;\n",
              "\n",
              "      const channel = await google.colab.kernel.comms.open(id);\n",
              "      // Send a message to notify the kernel that we're ready.\n",
              "      channel.send({})\n",
              "\n",
              "      for await (const message of channel.messages) {\n",
              "        // Send a message to notify the kernel that we're ready.\n",
              "        channel.send({})\n",
              "        if (message.buffers) {\n",
              "          for (const buffer of message.buffers) {\n",
              "            buffers.push(buffer);\n",
              "            downloaded += buffer.byteLength;\n",
              "            progress.value = downloaded;\n",
              "          }\n",
              "        }\n",
              "      }\n",
              "      const blob = new Blob(buffers, {type: 'application/binary'});\n",
              "      const a = document.createElement('a');\n",
              "      a.href = window.URL.createObjectURL(blob);\n",
              "      a.download = filename;\n",
              "      div.appendChild(a);\n",
              "      a.click();\n",
              "      div.remove();\n",
              "    }\n",
              "  "
            ],
            "text/plain": [
              "<IPython.core.display.Javascript object>"
            ]
          },
          "metadata": {},
          "output_type": "display_data"
        },
        {
          "data": {
            "application/javascript": [
              "download(\"download_67e3d066-068c-40c7-b119-1eb9319b8a25\", \"checkpoint_epoch_110.pth\", 6530194)"
            ],
            "text/plain": [
              "<IPython.core.display.Javascript object>"
            ]
          },
          "metadata": {},
          "output_type": "display_data"
        },
        {
          "output_type": "stream",
          "name": "stdout",
          "text": [
            "Epoch 110/150, Train Acc: 48.66%, Val Acc: 45.28%, Test Acc: 39.07%\n",
            "Epoch 110/150, Train Loss: 1.9190, Val Loss: 2.1364, Test Loss: 2.4571\n",
            "Epoch 111/150, Train Acc: 48.63%, Val Acc: 43.19%, Test Acc: 37.15%\n",
            "Epoch 111/150, Train Loss: 1.9151, Val Loss: 2.2246, Test Loss: 2.5341\n",
            "Epoch 112/150, Train Acc: 47.03%, Val Acc: 44.93%, Test Acc: 39.21%\n",
            "Epoch 112/150, Train Loss: 1.9583, Val Loss: 2.1427, Test Loss: 2.4252\n",
            "Epoch 113/150, Train Acc: 48.85%, Val Acc: 44.88%, Test Acc: 40.34%\n",
            "Epoch 113/150, Train Loss: 1.9077, Val Loss: 2.1664, Test Loss: 2.3985\n",
            "Epoch 114/150, Train Acc: 47.45%, Val Acc: 44.13%, Test Acc: 38.32%\n",
            "Epoch 114/150, Train Loss: 1.9786, Val Loss: 2.1984, Test Loss: 2.5205\n",
            "Epoch 115/150, Train Acc: 48.70%, Val Acc: 44.98%, Test Acc: 39.35%\n",
            "Epoch 115/150, Train Loss: 1.9159, Val Loss: 2.1577, Test Loss: 2.4817\n",
            "Epoch 116/150, Train Acc: 49.43%, Val Acc: 45.03%, Test Acc: 39.60%\n",
            "Epoch 116/150, Train Loss: 1.8904, Val Loss: 2.1400, Test Loss: 2.4106\n",
            "Epoch 117/150, Train Acc: 49.65%, Val Acc: 45.93%, Test Acc: 38.58%\n",
            "Epoch 117/150, Train Loss: 1.8709, Val Loss: 2.1278, Test Loss: 2.4777\n",
            "Epoch 118/150, Train Acc: 50.29%, Val Acc: 46.22%, Test Acc: 39.63%\n",
            "Epoch 118/150, Train Loss: 1.8415, Val Loss: 2.1046, Test Loss: 2.4448\n",
            "Epoch 119/150, Train Acc: 49.80%, Val Acc: 45.52%, Test Acc: 38.40%\n",
            "Epoch 119/150, Train Loss: 1.8514, Val Loss: 2.1239, Test Loss: 2.4935\n",
            "Checkpoint saved at epoch 120: ./checkpoint_epoch_120.pth\n"
          ]
        },
        {
          "output_type": "display_data",
          "data": {
            "text/plain": [
              "<IPython.core.display.Javascript object>"
            ],
            "application/javascript": [
              "\n",
              "    async function download(id, filename, size) {\n",
              "      if (!google.colab.kernel.accessAllowed) {\n",
              "        return;\n",
              "      }\n",
              "      const div = document.createElement('div');\n",
              "      const label = document.createElement('label');\n",
              "      label.textContent = `Downloading \"${filename}\": `;\n",
              "      div.appendChild(label);\n",
              "      const progress = document.createElement('progress');\n",
              "      progress.max = size;\n",
              "      div.appendChild(progress);\n",
              "      document.body.appendChild(div);\n",
              "\n",
              "      const buffers = [];\n",
              "      let downloaded = 0;\n",
              "\n",
              "      const channel = await google.colab.kernel.comms.open(id);\n",
              "      // Send a message to notify the kernel that we're ready.\n",
              "      channel.send({})\n",
              "\n",
              "      for await (const message of channel.messages) {\n",
              "        // Send a message to notify the kernel that we're ready.\n",
              "        channel.send({})\n",
              "        if (message.buffers) {\n",
              "          for (const buffer of message.buffers) {\n",
              "            buffers.push(buffer);\n",
              "            downloaded += buffer.byteLength;\n",
              "            progress.value = downloaded;\n",
              "          }\n",
              "        }\n",
              "      }\n",
              "      const blob = new Blob(buffers, {type: 'application/binary'});\n",
              "      const a = document.createElement('a');\n",
              "      a.href = window.URL.createObjectURL(blob);\n",
              "      a.download = filename;\n",
              "      div.appendChild(a);\n",
              "      a.click();\n",
              "      div.remove();\n",
              "    }\n",
              "  "
            ]
          },
          "metadata": {}
        },
        {
          "output_type": "display_data",
          "data": {
            "text/plain": [
              "<IPython.core.display.Javascript object>"
            ],
            "application/javascript": [
              "download(\"download_31d9bc9a-e0ce-4142-94a8-12326b8f1297\", \"checkpoint_epoch_120.pth\", 6530194)"
            ]
          },
          "metadata": {}
        },
        {
          "output_type": "stream",
          "name": "stdout",
          "text": [
            "Epoch 120/150, Train Acc: 49.52%, Val Acc: 44.50%, Test Acc: 38.45%\n",
            "Epoch 120/150, Train Loss: 1.8679, Val Loss: 2.2051, Test Loss: 2.5206\n",
            "Epoch 121/150, Train Acc: 50.55%, Val Acc: 45.53%, Test Acc: 39.91%\n",
            "Epoch 121/150, Train Loss: 1.8305, Val Loss: 2.1416, Test Loss: 2.4330\n",
            "Epoch 122/150, Train Acc: 49.81%, Val Acc: 45.24%, Test Acc: 38.23%\n",
            "Epoch 122/150, Train Loss: 1.8549, Val Loss: 2.1554, Test Loss: 2.4905\n",
            "Epoch 123/150, Train Acc: 50.16%, Val Acc: 45.94%, Test Acc: 38.60%\n",
            "Epoch 123/150, Train Loss: 1.8309, Val Loss: 2.1194, Test Loss: 2.4888\n",
            "Epoch 124/150, Train Acc: 49.94%, Val Acc: 45.80%, Test Acc: 37.85%\n",
            "Epoch 124/150, Train Loss: 1.8616, Val Loss: 2.1423, Test Loss: 2.5194\n",
            "Epoch 125/150, Train Acc: 50.50%, Val Acc: 46.14%, Test Acc: 39.43%\n",
            "Epoch 125/150, Train Loss: 1.8215, Val Loss: 2.1107, Test Loss: 2.4568\n",
            "Epoch 126/150, Train Acc: 50.75%, Val Acc: 46.57%, Test Acc: 39.48%\n",
            "Epoch 126/150, Train Loss: 1.8214, Val Loss: 2.1107, Test Loss: 2.4602\n",
            "Epoch 127/150, Train Acc: 51.73%, Val Acc: 46.10%, Test Acc: 40.91%\n",
            "Epoch 127/150, Train Loss: 1.7811, Val Loss: 2.1210, Test Loss: 2.3778\n",
            "Epoch 128/150, Train Acc: 50.42%, Val Acc: 46.75%, Test Acc: 38.42%\n",
            "Epoch 128/150, Train Loss: 1.8326, Val Loss: 2.1119, Test Loss: 2.5013\n",
            "Epoch 129/150, Train Acc: 51.41%, Val Acc: 46.47%, Test Acc: 39.70%\n",
            "Epoch 129/150, Train Loss: 1.7903, Val Loss: 2.1199, Test Loss: 2.4180\n",
            "Checkpoint saved at epoch 130: ./checkpoint_epoch_130.pth\n"
          ]
        },
        {
          "output_type": "display_data",
          "data": {
            "text/plain": [
              "<IPython.core.display.Javascript object>"
            ],
            "application/javascript": [
              "\n",
              "    async function download(id, filename, size) {\n",
              "      if (!google.colab.kernel.accessAllowed) {\n",
              "        return;\n",
              "      }\n",
              "      const div = document.createElement('div');\n",
              "      const label = document.createElement('label');\n",
              "      label.textContent = `Downloading \"${filename}\": `;\n",
              "      div.appendChild(label);\n",
              "      const progress = document.createElement('progress');\n",
              "      progress.max = size;\n",
              "      div.appendChild(progress);\n",
              "      document.body.appendChild(div);\n",
              "\n",
              "      const buffers = [];\n",
              "      let downloaded = 0;\n",
              "\n",
              "      const channel = await google.colab.kernel.comms.open(id);\n",
              "      // Send a message to notify the kernel that we're ready.\n",
              "      channel.send({})\n",
              "\n",
              "      for await (const message of channel.messages) {\n",
              "        // Send a message to notify the kernel that we're ready.\n",
              "        channel.send({})\n",
              "        if (message.buffers) {\n",
              "          for (const buffer of message.buffers) {\n",
              "            buffers.push(buffer);\n",
              "            downloaded += buffer.byteLength;\n",
              "            progress.value = downloaded;\n",
              "          }\n",
              "        }\n",
              "      }\n",
              "      const blob = new Blob(buffers, {type: 'application/binary'});\n",
              "      const a = document.createElement('a');\n",
              "      a.href = window.URL.createObjectURL(blob);\n",
              "      a.download = filename;\n",
              "      div.appendChild(a);\n",
              "      a.click();\n",
              "      div.remove();\n",
              "    }\n",
              "  "
            ]
          },
          "metadata": {}
        },
        {
          "output_type": "display_data",
          "data": {
            "text/plain": [
              "<IPython.core.display.Javascript object>"
            ],
            "application/javascript": [
              "download(\"download_104ee7a4-206e-45d2-8c78-0391f02cc515\", \"checkpoint_epoch_130.pth\", 6530194)"
            ]
          },
          "metadata": {}
        },
        {
          "output_type": "stream",
          "name": "stdout",
          "text": [
            "Epoch 130/150, Train Acc: 50.19%, Val Acc: 45.69%, Test Acc: 39.75%\n",
            "Epoch 130/150, Train Loss: 1.8453, Val Loss: 2.1832, Test Loss: 2.4848\n",
            "Epoch 131/150, Train Acc: 51.27%, Val Acc: 46.12%, Test Acc: 38.44%\n",
            "Epoch 131/150, Train Loss: 1.7957, Val Loss: 2.1405, Test Loss: 2.5300\n",
            "Epoch 132/150, Train Acc: 52.27%, Val Acc: 47.19%, Test Acc: 40.30%\n",
            "Epoch 132/150, Train Loss: 1.7490, Val Loss: 2.0918, Test Loss: 2.3868\n",
            "Epoch 133/150, Train Acc: 52.74%, Val Acc: 44.45%, Test Acc: 38.77%\n",
            "Epoch 133/150, Train Loss: 1.7363, Val Loss: 2.2122, Test Loss: 2.4725\n",
            "Epoch 134/150, Train Acc: 51.30%, Val Acc: 47.21%, Test Acc: 40.29%\n",
            "Epoch 134/150, Train Loss: 1.7992, Val Loss: 2.0955, Test Loss: 2.3914\n",
            "Epoch 135/150, Train Acc: 52.66%, Val Acc: 46.13%, Test Acc: 40.68%\n",
            "Epoch 135/150, Train Loss: 1.7360, Val Loss: 2.1269, Test Loss: 2.3855\n",
            "Epoch 136/150, Train Acc: 52.95%, Val Acc: 47.19%, Test Acc: 40.98%\n",
            "Epoch 136/150, Train Loss: 1.7258, Val Loss: 2.1097, Test Loss: 2.3914\n",
            "Epoch 137/150, Train Acc: 51.93%, Val Acc: 45.86%, Test Acc: 40.70%\n",
            "Epoch 137/150, Train Loss: 1.7599, Val Loss: 2.1443, Test Loss: 2.3866\n",
            "Epoch 138/150, Train Acc: 51.05%, Val Acc: 45.92%, Test Acc: 39.96%\n",
            "Epoch 138/150, Train Loss: 1.7982, Val Loss: 2.1489, Test Loss: 2.4255\n",
            "Epoch 139/150, Train Acc: 52.74%, Val Acc: 46.36%, Test Acc: 41.53%\n",
            "Epoch 139/150, Train Loss: 1.7248, Val Loss: 2.1101, Test Loss: 2.3626\n",
            "Checkpoint saved at epoch 140: ./checkpoint_epoch_140.pth\n"
          ]
        },
        {
          "output_type": "display_data",
          "data": {
            "text/plain": [
              "<IPython.core.display.Javascript object>"
            ],
            "application/javascript": [
              "\n",
              "    async function download(id, filename, size) {\n",
              "      if (!google.colab.kernel.accessAllowed) {\n",
              "        return;\n",
              "      }\n",
              "      const div = document.createElement('div');\n",
              "      const label = document.createElement('label');\n",
              "      label.textContent = `Downloading \"${filename}\": `;\n",
              "      div.appendChild(label);\n",
              "      const progress = document.createElement('progress');\n",
              "      progress.max = size;\n",
              "      div.appendChild(progress);\n",
              "      document.body.appendChild(div);\n",
              "\n",
              "      const buffers = [];\n",
              "      let downloaded = 0;\n",
              "\n",
              "      const channel = await google.colab.kernel.comms.open(id);\n",
              "      // Send a message to notify the kernel that we're ready.\n",
              "      channel.send({})\n",
              "\n",
              "      for await (const message of channel.messages) {\n",
              "        // Send a message to notify the kernel that we're ready.\n",
              "        channel.send({})\n",
              "        if (message.buffers) {\n",
              "          for (const buffer of message.buffers) {\n",
              "            buffers.push(buffer);\n",
              "            downloaded += buffer.byteLength;\n",
              "            progress.value = downloaded;\n",
              "          }\n",
              "        }\n",
              "      }\n",
              "      const blob = new Blob(buffers, {type: 'application/binary'});\n",
              "      const a = document.createElement('a');\n",
              "      a.href = window.URL.createObjectURL(blob);\n",
              "      a.download = filename;\n",
              "      div.appendChild(a);\n",
              "      a.click();\n",
              "      div.remove();\n",
              "    }\n",
              "  "
            ]
          },
          "metadata": {}
        },
        {
          "output_type": "display_data",
          "data": {
            "text/plain": [
              "<IPython.core.display.Javascript object>"
            ],
            "application/javascript": [
              "download(\"download_43a6b7bf-f13f-4ee2-9919-4a5d903d2968\", \"checkpoint_epoch_140.pth\", 6530194)"
            ]
          },
          "metadata": {}
        },
        {
          "output_type": "stream",
          "name": "stdout",
          "text": [
            "Epoch 140/150, Train Acc: 53.61%, Val Acc: 47.14%, Test Acc: 40.06%\n",
            "Epoch 140/150, Train Loss: 1.6866, Val Loss: 2.1078, Test Loss: 2.4396\n",
            "Epoch 141/150, Train Acc: 53.42%, Val Acc: 46.70%, Test Acc: 40.74%\n",
            "Epoch 141/150, Train Loss: 1.7003, Val Loss: 2.1346, Test Loss: 2.3809\n",
            "Epoch 142/150, Train Acc: 52.02%, Val Acc: 44.48%, Test Acc: 39.80%\n",
            "Epoch 142/150, Train Loss: 1.7606, Val Loss: 2.2229, Test Loss: 2.4494\n",
            "Epoch 143/150, Train Acc: 52.35%, Val Acc: 46.30%, Test Acc: 39.32%\n",
            "Epoch 143/150, Train Loss: 1.7395, Val Loss: 2.1435, Test Loss: 2.5033\n",
            "Epoch 144/150, Train Acc: 53.00%, Val Acc: 46.98%, Test Acc: 40.27%\n",
            "Epoch 144/150, Train Loss: 1.7203, Val Loss: 2.1093, Test Loss: 2.4261\n",
            "Epoch 145/150, Train Acc: 54.41%, Val Acc: 47.71%, Test Acc: 40.99%\n",
            "Epoch 145/150, Train Loss: 1.6667, Val Loss: 2.1147, Test Loss: 2.4202\n",
            "Epoch 146/150, Train Acc: 54.83%, Val Acc: 47.29%, Test Acc: 40.77%\n",
            "Epoch 146/150, Train Loss: 1.6527, Val Loss: 2.0943, Test Loss: 2.4017\n",
            "Epoch 147/150, Train Acc: 54.97%, Val Acc: 47.30%, Test Acc: 40.63%\n",
            "Epoch 147/150, Train Loss: 1.6368, Val Loss: 2.1304, Test Loss: 2.4292\n",
            "Epoch 148/150, Train Acc: 53.63%, Val Acc: 47.31%, Test Acc: 40.81%\n",
            "Epoch 148/150, Train Loss: 1.6903, Val Loss: 2.1265, Test Loss: 2.4280\n",
            "Epoch 149/150, Train Acc: 54.26%, Val Acc: 46.42%, Test Acc: 41.92%\n",
            "Epoch 149/150, Train Loss: 1.6637, Val Loss: 2.1541, Test Loss: 2.3929\n",
            "Checkpoint saved at epoch 150: ./checkpoint_epoch_150.pth\n"
          ]
        },
        {
          "output_type": "display_data",
          "data": {
            "text/plain": [
              "<IPython.core.display.Javascript object>"
            ],
            "application/javascript": [
              "\n",
              "    async function download(id, filename, size) {\n",
              "      if (!google.colab.kernel.accessAllowed) {\n",
              "        return;\n",
              "      }\n",
              "      const div = document.createElement('div');\n",
              "      const label = document.createElement('label');\n",
              "      label.textContent = `Downloading \"${filename}\": `;\n",
              "      div.appendChild(label);\n",
              "      const progress = document.createElement('progress');\n",
              "      progress.max = size;\n",
              "      div.appendChild(progress);\n",
              "      document.body.appendChild(div);\n",
              "\n",
              "      const buffers = [];\n",
              "      let downloaded = 0;\n",
              "\n",
              "      const channel = await google.colab.kernel.comms.open(id);\n",
              "      // Send a message to notify the kernel that we're ready.\n",
              "      channel.send({})\n",
              "\n",
              "      for await (const message of channel.messages) {\n",
              "        // Send a message to notify the kernel that we're ready.\n",
              "        channel.send({})\n",
              "        if (message.buffers) {\n",
              "          for (const buffer of message.buffers) {\n",
              "            buffers.push(buffer);\n",
              "            downloaded += buffer.byteLength;\n",
              "            progress.value = downloaded;\n",
              "          }\n",
              "        }\n",
              "      }\n",
              "      const blob = new Blob(buffers, {type: 'application/binary'});\n",
              "      const a = document.createElement('a');\n",
              "      a.href = window.URL.createObjectURL(blob);\n",
              "      a.download = filename;\n",
              "      div.appendChild(a);\n",
              "      a.click();\n",
              "      div.remove();\n",
              "    }\n",
              "  "
            ]
          },
          "metadata": {}
        },
        {
          "output_type": "display_data",
          "data": {
            "text/plain": [
              "<IPython.core.display.Javascript object>"
            ],
            "application/javascript": [
              "download(\"download_b6bf2d87-1d8d-4f00-a5ff-0c5bcc9683fa\", \"checkpoint_epoch_150.pth\", 6530194)"
            ]
          },
          "metadata": {}
        },
        {
          "output_type": "stream",
          "name": "stdout",
          "text": [
            "Epoch 150/150, Train Acc: 54.69%, Val Acc: 47.38%, Test Acc: 42.33%\n",
            "Epoch 150/150, Train Loss: 1.6378, Val Loss: 2.0630, Test Loss: 2.3373\n"
          ]
        },
        {
          "output_type": "display_data",
          "data": {
            "text/plain": [
              "<Figure size 600x400 with 1 Axes>"
            ],
            "image/png": "[encoded data removed]"
          },
          "metadata": {}
        },
        {
          "output_type": "display_data",
          "data": {
            "text/plain": [
              "<Figure size 600x400 with 1 Axes>"
            ],
            "image/png": "[encoded data removed]"
          },
          "metadata": {}
        },
        {
          "output_type": "display_data",
          "data": {
            "text/plain": [
              "<Figure size 600x400 with 1 Axes>"
            ],
            "image/png": "[encoded data removed]"
          },
          "metadata": {}
        },
        {
          "output_type": "display_data",
          "data": {
            "text/plain": [
              "<Figure size 600x400 with 1 Axes>"
            ],
            "image/png": "[encoded data removed]"
          },
          "metadata": {}
        },
        {
          "output_type": "display_data",
          "data": {
            "text/plain": [
              "<Figure size 600x400 with 1 Axes>"
            ],
            "image/png": "[encoded data removed]"
          },
          "metadata": {}
        },
        {
          "output_type": "display_data",
          "data": {
            "text/plain": [
              "<Figure size 600x400 with 1 Axes>"
            ],
            "image/png": "[encoded data removed]"
          },
          "metadata": {}
        },
        {
          "output_type": "display_data",
          "data": {
            "text/plain": [
              "<Figure size 640x480 with 0 Axes>"
            ]
          },
          "metadata": {}
        }
      ],
      "source": [
        "%run large_batch_training.py --optimizer SGDM --batch-size 4096 --momentum 0.9 --weight-decay 4e-4 --epochs 150 --warmup-epochs 5\n",
        "\n"
      ]
    },
    {
      "cell_type": "code",
      "source": [
        "# %run large_batch_training.py --optimizer AdamW --batch-size 1024 --weight-decay 1e-2"
      ],
      "metadata": {
        "id": "gkg4K2YwjNpk"
      },
      "execution_count": 1,
      "outputs": []
    }
  ],
  "metadata": {
    "accelerator": "GPU",
    "colab": {
      "gpuType": "T4",
      "provenance": []
    },
    "kernelspec": {
      "display_name": "Python 3",
      "name": "python3"
    },
    "language_info": {
      "name": "python"
    }
  },
  "nbformat": 4,
  "nbformat_minor": 0
}