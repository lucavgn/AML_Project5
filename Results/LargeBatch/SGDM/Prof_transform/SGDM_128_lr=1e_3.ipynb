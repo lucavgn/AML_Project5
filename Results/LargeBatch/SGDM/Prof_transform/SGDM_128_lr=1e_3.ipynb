{
  "nbformat": 4,
  "nbformat_minor": 0,
  "metadata": {
    "colab": {
      "provenance": [],
      "gpuType": "T4"
    },
    "kernelspec": {
      "name": "python3",
      "display_name": "Python 3"
    },
    "language_info": {
      "name": "python"
    },
    "accelerator": "GPU"
  },
  "cells": [
    {
      "cell_type": "code",
      "execution_count": 5,
      "metadata": {
        "colab": {
          "base_uri": "https://localhost:8080/"
        },
        "id": "hZzQjEFPe-KB",
        "outputId": "c598a325-a9cb-4204-806b-3442da77e3c4"
      },
      "outputs": [
        {
          "output_type": "stream",
          "name": "stdout",
          "text": [
            "Overwriting large_batch_training.py\n"
          ]
        }
      ],
      "source": [
        "%%writefile large_batch_training.py\n",
        "\n",
        "import os\n",
        "import numpy as np\n",
        "import torch\n",
        "import torch.nn as nn\n",
        "import torch.optim as optim\n",
        "import torchvision\n",
        "import torchvision.transforms as transforms\n",
        "import matplotlib.pyplot as plt\n",
        "import argparse\n",
        "from torch.utils.data import random_split\n",
        "from google.colab import files\n",
        "\n",
        "def compute_mean_std(dataset):\n",
        "    \"\"\"Compute the mean and std of CIFAR-100 dataset.\n",
        "\n",
        "    Args:\n",
        "        dataset: A dataset derived from `torch.utils.data.Dataset`,\n",
        "                 such as `cifar100_training_dataset` or `cifar100_test_dataset`.\n",
        "\n",
        "    Returns:\n",
        "        A tuple containing (mean, std) for the entire dataset.\n",
        "    \"\"\"\n",
        "\n",
        "    # Extract images and labels\n",
        "    data_r = np.stack([np.array(dataset[i][0])[:, :, 0] for i in range(len(dataset))])\n",
        "    data_g = np.stack([np.array(dataset[i][0])[:, :, 1] for i in range(len(dataset))])\n",
        "    data_b = np.stack([np.array(dataset[i][0])[:, :, 2] for i in range(len(dataset))])\n",
        "\n",
        "    # Compute mean and std\n",
        "    mean = np.mean(data_r), np.mean(data_g), np.mean(data_b)\n",
        "    std = np.std(data_r), np.std(data_g), np.std(data_b)\n",
        "\n",
        "    return mean, std\n",
        "\n",
        "# Define LeNet-5 architecture\n",
        "class LeNet5(nn.Module):\n",
        "    def __init__(self):\n",
        "        super(LeNet5, self).__init__()\n",
        "        self.conv1 = nn.Conv2d(3, 64, 5)\n",
        "        self.relu1 = nn.ReLU()\n",
        "        self.pool1 = nn.MaxPool2d(2, 2)\n",
        "        self.conv2 = nn.Conv2d(64, 64, 5)\n",
        "        self.relu2 = nn.ReLU()\n",
        "        self.pool2 = nn.MaxPool2d(2, 2)\n",
        "        self.fc1 = nn.Linear(64 * 5 * 5, 384)\n",
        "        self.relu3 = nn.ReLU()\n",
        "        self.fc2 = nn.Linear(384, 192)\n",
        "        self.relu4 = nn.ReLU()\n",
        "        self.fc3 = nn.Linear(192, 100)\n",
        "\n",
        "    def forward(self, x):\n",
        "        x = self.pool1(self.relu1(self.conv1(x)))\n",
        "        x = self.pool2(self.relu2(self.conv2(x)))\n",
        "        x = x.view(-1, 64 * 5 * 5)\n",
        "        x = self.relu3(self.fc1(x))\n",
        "        x = self.relu4(self.fc2(x))\n",
        "        x = self.fc3(x)\n",
        "        return x\n",
        "\n",
        "# Device setup\n",
        "device = torch.device(\"cuda:0\" if torch.cuda.is_available() else \"cpu\")\n",
        "\n",
        "# Initialize model\n",
        "net = LeNet5().to(device)\n",
        "\n",
        "# Optimizer Subclasses\n",
        "class LARS(optim.Optimizer):\n",
        "    def __init__(self, params, lr, momentum=0.9, weight_decay=0, trust_coefficient=0.001):\n",
        "        # Initialize the optimizer with the learning rate, momentum, weight decay, and trust coefficient\n",
        "        defaults = dict(lr=lr, momentum=momentum, weight_decay=weight_decay, trust_coefficient=trust_coefficient)\n",
        "        super(LARS, self).__init__(params, defaults)\n",
        "\n",
        "    def step(self, closure=None):\n",
        "        loss = None\n",
        "        if closure is not None:\n",
        "            # If a closure is provided, evaluate it (commonly used for re-evaluating loss)\n",
        "            loss = closure()\n",
        "        for group in self.param_groups:\n",
        "            for p in group['params']:\n",
        "                if p.grad is None:\n",
        "                   # Skip parameters that have no gradient\n",
        "                    continue\n",
        "                grad = p.grad.data # Get the gradient of the parameter\n",
        "                # Retrieve or initialize the optimizer's internal state\n",
        "                state = self.state[p]\n",
        "                if len(state) == 0:\n",
        "                    state['momentum_buffer'] = torch.clone(grad).detach()\n",
        "                # Apply weight decay directly to the gradient\n",
        "                if group['weight_decay'] != 0:\n",
        "                    grad.add_(p.data, alpha=group['weight_decay'])\n",
        "                # Compute the norms of the parameter and its gradient\n",
        "                param_norm = torch.norm(p.data)\n",
        "                grad_norm = torch.norm(grad)\n",
        "                # Compute local learning rate based on the trust coefficient and norms\n",
        "                if param_norm > 0 and grad_norm > 0:\n",
        "                    local_lr = group['trust_coefficient'] * param_norm / (grad_norm + 1e-8)\n",
        "                    grad = grad.mul(local_lr) # Scale the gradient with the local learning rate\n",
        "                # Update the momentum buffer\n",
        "                momentum_buffer = state['momentum_buffer']\n",
        "                momentum_buffer.mul_(group['momentum']).add_(grad) #Momentum update\n",
        "                state['momentum_buffer'] = momentum_buffer\n",
        "                # Update the parameter\n",
        "                p.data.add_(momentum_buffer, alpha=-group['lr']) # Gradient descent step with learning rate\n",
        "        return loss\n",
        "\n",
        "class LAMB(optim.Optimizer):\n",
        "    def __init__(self, params, lr, weight_decay=0, betas=(0.9, 0.999), eps=1e-8):\n",
        "        # Initialize the optimizer with learning rate, weight decay, betas for moment updates, and epsilon for stability\n",
        "        defaults = dict(lr=lr, weight_decay=weight_decay, betas=betas, eps=eps)\n",
        "        super(LAMB, self).__init__(params, defaults)\n",
        "\n",
        "    def step(self, closure=None):\n",
        "        loss = None\n",
        "        if closure is not None:\n",
        "            # If a closure is provided, evaluate it\n",
        "            loss = closure()\n",
        "        for group in self.param_groups:\n",
        "            for p in group['params']:\n",
        "                if p.grad is None:\n",
        "                    # Skip parameters that have no gradient\n",
        "                    continue\n",
        "                grad = p.grad.data # Get the gradient of the parameter\n",
        "                # Retrieve or initialize the optimizer's internal state\n",
        "                state = self.state[p]\n",
        "                # Initialize state\n",
        "                if len(state) == 0:\n",
        "                    # Initialize the state (step counter, first moment, second moment)\n",
        "                    state['step'] = 0\n",
        "                    state['exp_avg'] = torch.zeros_like(p.data) # First moment (mean of gradients)\n",
        "                    state['exp_avg_sq'] = torch.zeros_like(p.data) # Second moment (mean of squared gradients)\n",
        "                exp_avg = state['exp_avg']\n",
        "                exp_avg_sq = state['exp_avg_sq']\n",
        "                beta1, beta2 = group['betas']  # Coefficients for moment updates\n",
        "                state['step'] += 1 # Increment step count\n",
        "                step = state['step']\n",
        "                # Decay the first and second moment running average coefficients\n",
        "                # Update first and second moments\n",
        "                exp_avg.mul_(beta1).add_(grad, alpha=1 - beta1) # Exponential moving average of gradients\n",
        "                exp_avg_sq.mul_(beta2).addcmul_(grad, grad, value=1 - beta2) # Exponential moving average of squared gradients\n",
        "                # Correct bias in the first and second moments\n",
        "                bias_correction1 = 1 - beta1 ** step\n",
        "                bias_correction2 = 1 - beta2 ** step\n",
        "                corrected_exp_avg = exp_avg / bias_correction1\n",
        "                corrected_exp_avg_sq = exp_avg_sq / bias_correction2\n",
        "                # Compute the denominator for scaling the update\n",
        "                denom = corrected_exp_avg_sq.sqrt().add_(group['eps']) # Stability epsilon\n",
        "                # Compute the step update\n",
        "                update = corrected_exp_avg / denom\n",
        "                # Apply weight decay directly to the parameters\n",
        "                if group['weight_decay'] != 0:\n",
        "                    update.add_(p.data, alpha=group['weight_decay'])\n",
        "                # Compute the trust ratio (norm of parameters vs norm of update)\n",
        "                param_norm = torch.norm(p.data)\n",
        "                update_norm = torch.norm(update)\n",
        "                trust_ratio = 1.0  # Default trust ratio\n",
        "                if param_norm > 0 and update_norm > 0:\n",
        "                    trust_ratio = param_norm / update_norm\n",
        "                # Update the parameters\n",
        "                p.data.add_(update, alpha=-group['lr'] * trust_ratio)\n",
        "        return loss\n",
        "\n",
        "class SqrtLRScheduler(torch.optim.lr_scheduler._LRScheduler):\n",
        "    def __init__(self, optimizer, base_lr, batch_size, warmup_epochs, total_epochs, reference_batch_size, verbose=False):\n",
        "        \"\"\"\n",
        "        Args:\n",
        "            optimizer: PyTorch optimizer (e.g., Adam, LAMB, LARS).\n",
        "            base_lr: Base learning rate for the reference batch size.\n",
        "            batch_size: Current batch size.\n",
        "            warmup_epochs: Number of warmup epochs.\n",
        "            total_epochs: Total number of epochs.\n",
        "            reference_batch_size: Batch size for which the base_lr is defined.\n",
        "            verbose: Whether to print LR updates.\n",
        "        \"\"\"\n",
        "        self.base_lr = base_lr\n",
        "        self.batch_size = batch_size\n",
        "        self.scaled_lr = base_lr * (batch_size / reference_batch_size) ** 0.5\n",
        "        self.warmup_epochs = warmup_epochs\n",
        "        self.total_epochs = total_epochs\n",
        "        self.verbose = verbose\n",
        "        super(SqrtLRScheduler, self).__init__(optimizer)\n",
        "\n",
        "    def get_lr(self):\n",
        "        epoch = self.last_epoch\n",
        "        if epoch < self.warmup_epochs:\n",
        "            # Linear warmup scaling\n",
        "            warmup_factor = (epoch + 1) / self.warmup_epochs\n",
        "            return [warmup_factor * self.scaled_lr for _ in self.optimizer.param_groups]\n",
        "        else:\n",
        "            # polynomially decaying learning rate of ηt = η0×(1−t/T)\n",
        "            if epoch == self.warmup_epochs:\n",
        "                print(f\"Warmup phase completed at epoch {epoch}. Switching to constant learning rate.\")\n",
        "            return [self.scaled_lr * ( 1 - ( (epoch - self.warmup_epochs) / (self.total_epochs - self.warmup_epochs))) for _ in self.optimizer.param_groups]\n",
        "\n",
        "# Command-line arguments\n",
        "parser = argparse.ArgumentParser(description='Train with Large-Batch Optimizers')\n",
        "parser.add_argument('--optimizer', type=str, default='SGDM', choices=['SGDM', 'AdamW', 'LARS', 'LAMB'],\n",
        "                    help='Choose optimizer')\n",
        "parser.add_argument('--batch-size', type=int, default=128, help='Batch size')\n",
        "parser.add_argument('--momentum', type=float, default=0.9, help='Momentum for SGDM and LARS')\n",
        "parser.add_argument('--weight-decay', type=float, default=1e-5, help='Weight decay')\n",
        "parser.add_argument('--b1', type=float, default=0.9, help='Beta1 for AdamW')\n",
        "parser.add_argument('--b2', type=float, default=0.999, help='Beta2 for AdamW')\n",
        "parser.add_argument('--trust-coefficient', type=float, default=0.001, help='Trust coefficient for LARS')\n",
        "parser.add_argument('--epochs', type=int, default=150, help='Number of epochs')\n",
        "parser.add_argument('--warmup-epochs', type=int, default=5, help='Number of epochs')\n",
        "args = parser.parse_args()\n",
        "\n",
        "\n",
        "torch.manual_seed(42) # Set the seed for reproducibility\n",
        "torch.cuda.manual_seed_all(42) # Set the seed for reproducibility on GPU\n",
        "\n",
        "# use the same mean and std to add consistency to all datasets\n",
        "data = torchvision.datasets.CIFAR100(root='./data', train=True, download=True, transform=transforms.ToTensor())\n",
        "mean, std = compute_mean_std(data)\n",
        "\n",
        "# Load and split CIFAR-100 dataset\n",
        "train_transform = transforms.Compose([\n",
        "  transforms.RandomCrop(32, padding=4),\n",
        "  transforms.RandomHorizontalFlip(),\n",
        "  transforms.ToTensor(),\n",
        "  transforms.Normalize(mean, std)\n",
        "])\n",
        "\n",
        "val_transform = transforms.Compose([\n",
        "    transforms.ToTensor(), # Convert into tensor\n",
        "    transforms.Normalize(mean, std)  # Normalization\n",
        "])\n",
        "\n",
        "test_transform = transforms.Compose([\n",
        "    transforms.ToTensor(),  # Convert to PyTorch tensor\n",
        "    transforms.Normalize(mean, std)\n",
        "])\n",
        "\n",
        "trainset = torchvision.datasets.CIFAR100(root='./data', train=True, download=True, transform=train_transform)\n",
        "valset = torchvision.datasets.CIFAR100(root='./data', train=True, download=True, transform=val_transform)\n",
        "indices = torch.randperm(len(trainset))\n",
        "val_size = int(0.2*len(trainset))\n",
        "trainset = torch.utils.data.Subset(trainset, indices[:-val_size])\n",
        "valset = torch.utils.data.Subset(valset, indices[-val_size:])\n",
        "\n",
        "trainloader = torch.utils.data.DataLoader(trainset, batch_size=args.batch_size, shuffle=True, num_workers=2)\n",
        "valloader = torch.utils.data.DataLoader(valset, batch_size=args.batch_size, shuffle=False, num_workers=2)\n",
        "\n",
        "testset = torchvision.datasets.CIFAR100(root='./data', train=False, download=True, transform=test_transform)\n",
        "testloader = torch.utils.data.DataLoader(testset, batch_size=args.batch_size, shuffle=False, num_workers=2)\n",
        "\n",
        "\n",
        "# Fixed parameter from paper [18] to calculate the square root LR scaling value\n",
        "# base_lr = 5 / (2**3 * 10**3)\n",
        "# reference_batch_size = 512\n",
        "#scaled_lr = base_lr * (args.batch_size / reference_batch_size) ** 0.5\n",
        "\n",
        "# Mapping optimizers\n",
        "if args.optimizer == 'SGDM':\n",
        "    base_lr = 1e-3\n",
        "    reference_batch_size = 64\n",
        "    scaled_lr = base_lr * (args.batch_size / reference_batch_size) ** 0.5\n",
        "    optimizer = optim.SGD(net.parameters(), lr=scaled_lr, momentum=args.momentum, weight_decay=args.weight_decay)\n",
        "elif args.optimizer == 'AdamW':\n",
        "    base_lr = 5e-4\n",
        "    reference_batch_size = 64\n",
        "    scaled_lr = base_lr * (args.batch_size / reference_batch_size) ** 0.5\n",
        "    optimizer = optim.AdamW(net.parameters(), lr=scaled_lr, betas=(args.b1, args.b2), weight_decay=args.weight_decay)\n",
        "elif args.optimizer == 'LARS':\n",
        "    base_lr = 5e-1\n",
        "    reference_batch_size = 64\n",
        "    scaled_lr = base_lr * (args.batch_size / reference_batch_size) ** 0.5\n",
        "    optimizer = LARS(net.parameters(), lr=scaled_lr, momentum=args.momentum, weight_decay=args.weight_decay, trust_coefficient=args.trust_coefficient)\n",
        "elif args.optimizer == 'LAMB':\n",
        "    base_lr = 5e-4\n",
        "    reference_batch_size = 64\n",
        "    scaled_lr = base_lr * (args.batch_size / reference_batch_size) ** 0.5\n",
        "    optimizer = LAMB(net.parameters(), lr=scaled_lr, weight_decay=args.weight_decay)\n",
        "\n",
        "criterion = nn.CrossEntropyLoss()\n",
        "\n",
        "# scheduler should be e square root LR scaling rule and linear-epoch warmup scheduling to automatically adjust learning rate\n",
        "scheduler = SqrtLRScheduler(\n",
        "    optimizer = optimizer,\n",
        "    base_lr = base_lr,\n",
        "    batch_size = args.batch_size,\n",
        "    warmup_epochs = args.warmup_epochs,\n",
        "    total_epochs = args.epochs,\n",
        "    reference_batch_size = reference_batch_size,\n",
        "    verbose = True)\n",
        "\n",
        "# Training Function\n",
        "def train_model(optimizer, scheduler, model, criterion, trainloader, valloader , testloader, device, epochs, save_checkpoint_interval=10):\n",
        "    train_losses, val_losses, test_losses = [], [], []\n",
        "    train_accuracies, val_accuracies, test_accuracies = [], [], []\n",
        "    for epoch in range(epochs):\n",
        "        model.train()\n",
        "        running_loss, correct_train, total_train = 0.0, 0, 0\n",
        "        for inputs, labels in trainloader:\n",
        "            inputs, labels = inputs.to(device), labels.to(device)\n",
        "            optimizer.zero_grad()\n",
        "            outputs = model(inputs)\n",
        "            loss = criterion(outputs, labels)\n",
        "            loss.backward()\n",
        "            optimizer.step()\n",
        "            running_loss += loss.item()\n",
        "            _, predicted = outputs.max(1)\n",
        "            total_train += labels.size(0)\n",
        "            correct_train += predicted.eq(labels).sum().item()\n",
        "        train_loss = running_loss / len(trainloader)\n",
        "        train_accuracy = 100. * correct_train / total_train\n",
        "        train_losses.append(train_loss)\n",
        "        train_accuracies.append(train_accuracy)\n",
        "\n",
        "        # Validation\n",
        "        model.eval()\n",
        "        correct_val, total_val, val_loss = 0, 0, 0.0\n",
        "        with torch.no_grad():\n",
        "            for inputs, labels in valloader:\n",
        "                inputs, labels = inputs.to(device), labels.to(device)\n",
        "                outputs = model(inputs)\n",
        "                loss = criterion(outputs, labels)\n",
        "                val_loss += loss.item()\n",
        "                _, predicted = outputs.max(1)\n",
        "                total_val += labels.size(0)\n",
        "                correct_val += predicted.eq(labels).sum().item()\n",
        "        val_loss /= len(valloader)\n",
        "        val_losses.append(val_loss)\n",
        "        val_accuracy = 100. * correct_val / total_val\n",
        "        val_accuracies.append(val_accuracy)\n",
        "\n",
        "        '''\n",
        "        # Early Stopping\n",
        "        if val_loss < best_val_loss:\n",
        "          best_val_loss = val_loss\n",
        "          epochs_no_improve = 0\n",
        "        else:\n",
        "          epochs_no_improve += 1\n",
        "\n",
        "        if epochs_no_improve == patience:\n",
        "          print(\"Early stopping!\")\n",
        "          break\n",
        "        '''\n",
        "\n",
        "        # Test\n",
        "        correct_test, total_test, test_loss = 0, 0, 0.0\n",
        "        with torch.no_grad():\n",
        "            for inputs, labels in testloader:\n",
        "                inputs, labels = inputs.to(device), labels.to(device)\n",
        "                outputs = model(inputs)\n",
        "                loss = criterion(outputs, labels)\n",
        "                test_loss += loss.item()\n",
        "                _, predicted = outputs.max(1)\n",
        "                total_test += labels.size(0)\n",
        "                correct_test += predicted.eq(labels).sum().item()\n",
        "        test_loss /= len(testloader)\n",
        "        test_losses.append(test_loss)\n",
        "        test_accuracy = 100. * correct_test / total_test\n",
        "        test_accuracies.append(test_accuracy)\n",
        "\n",
        "        scheduler.step()\n",
        "\n",
        "        # Checkpointing\n",
        "        if (epoch + 1) % save_checkpoint_interval == 0:\n",
        "            checkpoint_filename = f'checkpoint_epoch_{epoch + 1}.pth'\n",
        "            checkpoint = {\n",
        "                'epoch': epoch + 1,\n",
        "                'model_state_dict': model.state_dict(),\n",
        "                'optimizer_state_dict': optimizer.state_dict(),\n",
        "                'scheduler_state_dict': scheduler.state_dict(),\n",
        "                'loss': loss.item(),\n",
        "            }\n",
        "            checkpoint_path = os.path.join('./', checkpoint_filename)\n",
        "            torch.save(checkpoint, checkpoint_path)\n",
        "            print(f'Checkpoint saved at epoch {epoch + 1}: {checkpoint_path}')\n",
        "\n",
        "            # Download the checkpoint\n",
        "            files.download(checkpoint_filename)\n",
        "\n",
        "        print(f'Epoch {epoch+1}/{epochs}, Train Acc: {train_accuracy:.2f}%, Val Acc: {val_accuracy:.2f}%, Test Acc: {test_accuracy:.2f}%')\n",
        "        print(f'Epoch {epoch+1}/{epochs}, Train Loss: {train_loss:.4f}, Val Loss: {val_loss:.4f}, Test Loss: {test_loss:.4f}')\n",
        "\n",
        "    return train_losses, val_losses, test_losses, train_accuracies, val_accuracies, test_accuracies\n",
        "\n",
        "# Train the model\n",
        "print(f\"--- Train with {args.optimizer} ---\")\n",
        "train_loss, val_loss, test_loss, train_acc, val_acc, test_acc = train_model(optimizer, scheduler, net, criterion, trainloader, valloader, testloader, device, args.epochs)\n",
        "\n",
        "# Save model\n",
        "torch.save(net.state_dict(), f'net_{args.optimizer}.pth')\n",
        "\n",
        "# Plot results\n",
        "# Plot Training Loss\n",
        "plt.figure(figsize=(6, 4))\n",
        "plt.plot(train_loss, label='Train Loss')\n",
        "plt.title('Training Loss')\n",
        "plt.xlabel('Epoch')\n",
        "plt.ylabel('Loss')\n",
        "plt.legend()\n",
        "plt.tight_layout()\n",
        "plt.savefig('train_loss.png')\n",
        "plt.show()\n",
        "\n",
        "# Plot Training Accuracy\n",
        "plt.figure(figsize=(6, 4))\n",
        "plt.plot(train_acc, label='Train Accuracy')\n",
        "plt.title('Training Accuracy')\n",
        "plt.xlabel('Epoch')\n",
        "plt.ylabel('Accuracy (%)')\n",
        "plt.legend()\n",
        "plt.tight_layout()\n",
        "plt.savefig('train_accuracy.png')\n",
        "plt.show()\n",
        "\n",
        "# Plot Validation Loss\n",
        "plt.figure(figsize=(6, 4))\n",
        "plt.plot(val_loss, label='Validation Loss')\n",
        "plt.title('Validation Loss')\n",
        "plt.xlabel('Epoch')\n",
        "plt.ylabel('Loss')\n",
        "plt.legend()\n",
        "plt.tight_layout()\n",
        "plt.savefig('val_loss.png')\n",
        "plt.show()\n",
        "\n",
        "# Plot Validation Accuracy\n",
        "plt.figure(figsize=(6, 4))\n",
        "plt.plot(val_acc, label='Validation Accuracy')\n",
        "plt.title('Validation Accuracy')\n",
        "plt.xlabel('Epoch')\n",
        "plt.ylabel('Accuracy (%)')\n",
        "plt.legend()\n",
        "plt.tight_layout()\n",
        "plt.savefig('val_accuracy.png')\n",
        "plt.show()\n",
        "\n",
        "# Plot Test Loss\n",
        "plt.figure(figsize=(6, 4))\n",
        "plt.plot(test_loss, label='Test Loss')\n",
        "plt.title('Test Loss')\n",
        "plt.xlabel('Epoch')\n",
        "plt.ylabel('Loss')\n",
        "plt.legend()\n",
        "plt.tight_layout()\n",
        "plt.savefig('test_loss.png')\n",
        "plt.show()\n",
        "\n",
        "# Plot Test Accuracy\n",
        "plt.figure(figsize=(6, 4))\n",
        "plt.plot(test_acc, label='Test Accuracy')\n",
        "plt.title('Test Accuracy')\n",
        "plt.xlabel('Epoch')\n",
        "plt.ylabel('Accuracy (%)')\n",
        "plt.legend()\n",
        "plt.tight_layout()\n",
        "plt.savefig('test_accuracy.png')\n",
        "plt.show()"
      ]
    },
    {
      "cell_type": "code",
      "source": [
        "%run large_batch_training.py --optimizer SGDM --batch-size 128 --weight-decay 4e-4"
      ],
      "metadata": {
        "colab": {
          "base_uri": "https://localhost:8080/",
          "height": 1000
        },
        "id": "Nbav9UMyfSCi",
        "outputId": "bcc2dce9-8f79-40cd-b954-7467bed60142"
      },
      "execution_count": 6,
      "outputs": [
        {
          "metadata": {
            "tags": null
          },
          "name": "stdout",
          "output_type": "stream",
          "text": [
            "Files already downloaded and verified\n",
            "Files already downloaded and verified\n",
            "Files already downloaded and verified\n",
            "Files already downloaded and verified\n",
            "--- Train with SGDM ---\n",
            "Epoch 1/150, Train Acc: 0.94%, Val Acc: 0.87%, Test Acc: 0.92%\n",
            "Epoch 1/150, Train Loss: 4.6060, Val Loss: 4.6055, Test Loss: 4.6053\n",
            "Epoch 2/150, Train Acc: 1.06%, Val Acc: 1.22%, Test Acc: 1.09%\n",
            "Epoch 2/150, Train Loss: 4.6028, Val Loss: 4.6011, Test Loss: 4.6009\n",
            "Epoch 3/150, Train Acc: 1.58%, Val Acc: 2.36%, Test Acc: 2.24%\n",
            "Epoch 3/150, Train Loss: 4.5952, Val Loss: 4.5877, Test Loss: 4.5880\n",
            "Epoch 4/150, Train Acc: 3.17%, Val Acc: 3.39%, Test Acc: 3.53%\n",
            "Epoch 4/150, Train Loss: 4.5560, Val Loss: 4.4955, Test Loss: 4.4995\n",
            "Warmup phase completed at epoch 5. Switching to constant learning rate.\n",
            "Epoch 5/150, Train Acc: 4.64%, Val Acc: 7.02%, Test Acc: 6.80%\n",
            "Epoch 5/150, Train Loss: 4.3352, Val Loss: 4.1448, Test Loss: 4.1483\n",
            "Epoch 6/150, Train Acc: 7.14%, Val Acc: 8.74%, Test Acc: 8.56%\n",
            "Epoch 6/150, Train Loss: 4.1040, Val Loss: 4.0173, Test Loss: 4.0196\n",
            "Epoch 7/150, Train Acc: 8.70%, Val Acc: 10.21%, Test Acc: 9.73%\n",
            "Epoch 7/150, Train Loss: 4.0123, Val Loss: 3.9295, Test Loss: 3.9401\n",
            "Epoch 8/150, Train Acc: 9.81%, Val Acc: 12.05%, Test Acc: 11.56%\n",
            "Epoch 8/150, Train Loss: 3.9354, Val Loss: 3.8362, Test Loss: 3.8421\n",
            "Epoch 9/150, Train Acc: 11.04%, Val Acc: 13.58%, Test Acc: 12.85%\n",
            "Epoch 9/150, Train Loss: 3.8504, Val Loss: 3.7406, Test Loss: 3.7430\n",
            "Checkpoint saved at epoch 10: ./checkpoint_epoch_10.pth\n"
          ]
        },
        {
          "data": {
            "application/javascript": [
              "\n",
              "    async function download(id, filename, size) {\n",
              "      if (!google.colab.kernel.accessAllowed) {\n",
              "        return;\n",
              "      }\n",
              "      const div = document.createElement('div');\n",
              "      const label = document.createElement('label');\n",
              "      label.textContent = `Downloading \"${filename}\": `;\n",
              "      div.appendChild(label);\n",
              "      const progress = document.createElement('progress');\n",
              "      progress.max = size;\n",
              "      div.appendChild(progress);\n",
              "      document.body.appendChild(div);\n",
              "\n",
              "      const buffers = [];\n",
              "      let downloaded = 0;\n",
              "\n",
              "      const channel = await google.colab.kernel.comms.open(id);\n",
              "      // Send a message to notify the kernel that we're ready.\n",
              "      channel.send({})\n",
              "\n",
              "      for await (const message of channel.messages) {\n",
              "        // Send a message to notify the kernel that we're ready.\n",
              "        channel.send({})\n",
              "        if (message.buffers) {\n",
              "          for (const buffer of message.buffers) {\n",
              "            buffers.push(buffer);\n",
              "            downloaded += buffer.byteLength;\n",
              "            progress.value = downloaded;\n",
              "          }\n",
              "        }\n",
              "      }\n",
              "      const blob = new Blob(buffers, {type: 'application/binary'});\n",
              "      const a = document.createElement('a');\n",
              "      a.href = window.URL.createObjectURL(blob);\n",
              "      a.download = filename;\n",
              "      div.appendChild(a);\n",
              "      a.click();\n",
              "      div.remove();\n",
              "    }\n",
              "  "
            ],
            "text/plain": [
              "<IPython.core.display.Javascript object>"
            ]
          },
          "metadata": {},
          "output_type": "display_data"
        },
        {
          "data": {
            "application/javascript": [
              "download(\"download_767e5ab1-2bf4-4b90-9a9c-3fe69709efee\", \"checkpoint_epoch_10.pth\", 6530170)"
            ],
            "text/plain": [
              "<IPython.core.display.Javascript object>"
            ]
          },
          "metadata": {},
          "output_type": "display_data"
        },
        {
          "metadata": {
            "tags": null
          },
          "name": "stdout",
          "output_type": "stream",
          "text": [
            "Epoch 10/150, Train Acc: 12.53%, Val Acc: 14.24%, Test Acc: 14.41%\n",
            "Epoch 10/150, Train Loss: 3.7704, Val Loss: 3.6875, Test Loss: 3.6936\n",
            "Epoch 11/150, Train Acc: 13.36%, Val Acc: 14.89%, Test Acc: 14.96%\n",
            "Epoch 11/150, Train Loss: 3.7030, Val Loss: 3.6325, Test Loss: 3.6360\n",
            "Epoch 12/150, Train Acc: 14.91%, Val Acc: 17.10%, Test Acc: 17.08%\n",
            "Epoch 12/150, Train Loss: 3.6308, Val Loss: 3.5370, Test Loss: 3.5563\n",
            "Epoch 13/150, Train Acc: 16.04%, Val Acc: 17.30%, Test Acc: 17.36%\n",
            "Epoch 13/150, Train Loss: 3.5717, Val Loss: 3.4826, Test Loss: 3.4981\n",
            "Epoch 14/150, Train Acc: 17.12%, Val Acc: 18.64%, Test Acc: 18.25%\n",
            "Epoch 14/150, Train Loss: 3.5073, Val Loss: 3.4191, Test Loss: 3.4364\n",
            "Epoch 15/150, Train Acc: 17.86%, Val Acc: 20.05%, Test Acc: 19.87%\n",
            "Epoch 15/150, Train Loss: 3.4485, Val Loss: 3.3577, Test Loss: 3.3712\n",
            "Epoch 16/150, Train Acc: 19.00%, Val Acc: 21.58%, Test Acc: 21.48%\n",
            "Epoch 16/150, Train Loss: 3.3940, Val Loss: 3.2803, Test Loss: 3.3034\n",
            "Epoch 17/150, Train Acc: 20.02%, Val Acc: 21.12%, Test Acc: 20.80%\n",
            "Epoch 17/150, Train Loss: 3.3339, Val Loss: 3.2773, Test Loss: 3.2865\n",
            "Epoch 18/150, Train Acc: 20.67%, Val Acc: 22.31%, Test Acc: 21.95%\n",
            "Epoch 18/150, Train Loss: 3.2903, Val Loss: 3.2222, Test Loss: 3.2334\n",
            "Epoch 19/150, Train Acc: 21.55%, Val Acc: 23.41%, Test Acc: 23.59%\n",
            "Epoch 19/150, Train Loss: 3.2331, Val Loss: 3.1521, Test Loss: 3.1632\n",
            "Checkpoint saved at epoch 20: ./checkpoint_epoch_20.pth\n"
          ]
        },
        {
          "data": {
            "application/javascript": [
              "\n",
              "    async function download(id, filename, size) {\n",
              "      if (!google.colab.kernel.accessAllowed) {\n",
              "        return;\n",
              "      }\n",
              "      const div = document.createElement('div');\n",
              "      const label = document.createElement('label');\n",
              "      label.textContent = `Downloading \"${filename}\": `;\n",
              "      div.appendChild(label);\n",
              "      const progress = document.createElement('progress');\n",
              "      progress.max = size;\n",
              "      div.appendChild(progress);\n",
              "      document.body.appendChild(div);\n",
              "\n",
              "      const buffers = [];\n",
              "      let downloaded = 0;\n",
              "\n",
              "      const channel = await google.colab.kernel.comms.open(id);\n",
              "      // Send a message to notify the kernel that we're ready.\n",
              "      channel.send({})\n",
              "\n",
              "      for await (const message of channel.messages) {\n",
              "        // Send a message to notify the kernel that we're ready.\n",
              "        channel.send({})\n",
              "        if (message.buffers) {\n",
              "          for (const buffer of message.buffers) {\n",
              "            buffers.push(buffer);\n",
              "            downloaded += buffer.byteLength;\n",
              "            progress.value = downloaded;\n",
              "          }\n",
              "        }\n",
              "      }\n",
              "      const blob = new Blob(buffers, {type: 'application/binary'});\n",
              "      const a = document.createElement('a');\n",
              "      a.href = window.URL.createObjectURL(blob);\n",
              "      a.download = filename;\n",
              "      div.appendChild(a);\n",
              "      a.click();\n",
              "      div.remove();\n",
              "    }\n",
              "  "
            ],
            "text/plain": [
              "<IPython.core.display.Javascript object>"
            ]
          },
          "metadata": {},
          "output_type": "display_data"
        },
        {
          "data": {
            "application/javascript": [
              "download(\"download_4c43ced8-7de9-440d-9ce6-1b5c59ae1597\", \"checkpoint_epoch_20.pth\", 6530170)"
            ],
            "text/plain": [
              "<IPython.core.display.Javascript object>"
            ]
          },
          "metadata": {},
          "output_type": "display_data"
        },
        {
          "metadata": {
            "tags": null
          },
          "name": "stdout",
          "output_type": "stream",
          "text": [
            "Epoch 20/150, Train Acc: 22.29%, Val Acc: 24.65%, Test Acc: 23.96%\n",
            "Epoch 20/150, Train Loss: 3.1953, Val Loss: 3.1183, Test Loss: 3.1286\n",
            "Epoch 21/150, Train Acc: 23.04%, Val Acc: 24.53%, Test Acc: 23.95%\n",
            "Epoch 21/150, Train Loss: 3.1530, Val Loss: 3.0974, Test Loss: 3.1064\n",
            "Epoch 22/150, Train Acc: 23.72%, Val Acc: 26.59%, Test Acc: 26.31%\n",
            "Epoch 22/150, Train Loss: 3.1137, Val Loss: 3.0189, Test Loss: 3.0217\n",
            "Epoch 23/150, Train Acc: 24.45%, Val Acc: 26.09%, Test Acc: 25.54%\n",
            "Epoch 23/150, Train Loss: 3.0788, Val Loss: 3.0135, Test Loss: 3.0274\n",
            "Epoch 24/150, Train Acc: 25.29%, Val Acc: 27.61%, Test Acc: 27.35%\n",
            "Epoch 24/150, Train Loss: 3.0412, Val Loss: 2.9603, Test Loss: 2.9637\n",
            "Epoch 25/150, Train Acc: 25.70%, Val Acc: 27.59%, Test Acc: 27.48%\n",
            "Epoch 25/150, Train Loss: 3.0123, Val Loss: 2.9422, Test Loss: 2.9397\n",
            "Epoch 26/150, Train Acc: 26.36%, Val Acc: 27.57%, Test Acc: 28.22%\n",
            "Epoch 26/150, Train Loss: 2.9827, Val Loss: 2.9247, Test Loss: 2.9249\n",
            "Epoch 27/150, Train Acc: 27.17%, Val Acc: 28.59%, Test Acc: 28.80%\n",
            "Epoch 27/150, Train Loss: 2.9488, Val Loss: 2.8810, Test Loss: 2.8868\n",
            "Epoch 28/150, Train Acc: 27.41%, Val Acc: 28.73%, Test Acc: 28.65%\n",
            "Epoch 28/150, Train Loss: 2.9218, Val Loss: 2.8749, Test Loss: 2.8727\n",
            "Epoch 29/150, Train Acc: 27.98%, Val Acc: 30.42%, Test Acc: 30.13%\n",
            "Epoch 29/150, Train Loss: 2.9022, Val Loss: 2.8209, Test Loss: 2.8232\n",
            "Checkpoint saved at epoch 30: ./checkpoint_epoch_30.pth\n"
          ]
        },
        {
          "data": {
            "application/javascript": [
              "\n",
              "    async function download(id, filename, size) {\n",
              "      if (!google.colab.kernel.accessAllowed) {\n",
              "        return;\n",
              "      }\n",
              "      const div = document.createElement('div');\n",
              "      const label = document.createElement('label');\n",
              "      label.textContent = `Downloading \"${filename}\": `;\n",
              "      div.appendChild(label);\n",
              "      const progress = document.createElement('progress');\n",
              "      progress.max = size;\n",
              "      div.appendChild(progress);\n",
              "      document.body.appendChild(div);\n",
              "\n",
              "      const buffers = [];\n",
              "      let downloaded = 0;\n",
              "\n",
              "      const channel = await google.colab.kernel.comms.open(id);\n",
              "      // Send a message to notify the kernel that we're ready.\n",
              "      channel.send({})\n",
              "\n",
              "      for await (const message of channel.messages) {\n",
              "        // Send a message to notify the kernel that we're ready.\n",
              "        channel.send({})\n",
              "        if (message.buffers) {\n",
              "          for (const buffer of message.buffers) {\n",
              "            buffers.push(buffer);\n",
              "            downloaded += buffer.byteLength;\n",
              "            progress.value = downloaded;\n",
              "          }\n",
              "        }\n",
              "      }\n",
              "      const blob = new Blob(buffers, {type: 'application/binary'});\n",
              "      const a = document.createElement('a');\n",
              "      a.href = window.URL.createObjectURL(blob);\n",
              "      a.download = filename;\n",
              "      div.appendChild(a);\n",
              "      a.click();\n",
              "      div.remove();\n",
              "    }\n",
              "  "
            ],
            "text/plain": [
              "<IPython.core.display.Javascript object>"
            ]
          },
          "metadata": {},
          "output_type": "display_data"
        },
        {
          "data": {
            "application/javascript": [
              "download(\"download_6e35cdb7-5ce9-4075-84e4-96d0d80382f7\", \"checkpoint_epoch_30.pth\", 6530170)"
            ],
            "text/plain": [
              "<IPython.core.display.Javascript object>"
            ]
          },
          "metadata": {},
          "output_type": "display_data"
        },
        {
          "metadata": {
            "tags": null
          },
          "name": "stdout",
          "output_type": "stream",
          "text": [
            "Epoch 30/150, Train Acc: 28.26%, Val Acc: 30.45%, Test Acc: 30.66%\n",
            "Epoch 30/150, Train Loss: 2.8728, Val Loss: 2.7912, Test Loss: 2.7959\n",
            "Epoch 31/150, Train Acc: 28.82%, Val Acc: 31.07%, Test Acc: 30.93%\n",
            "Epoch 31/150, Train Loss: 2.8421, Val Loss: 2.7750, Test Loss: 2.7800\n",
            "Epoch 32/150, Train Acc: 29.44%, Val Acc: 30.33%, Test Acc: 30.42%\n",
            "Epoch 32/150, Train Loss: 2.8153, Val Loss: 2.7979, Test Loss: 2.8053\n",
            "Epoch 33/150, Train Acc: 30.04%, Val Acc: 32.32%, Test Acc: 31.80%\n",
            "Epoch 33/150, Train Loss: 2.7869, Val Loss: 2.7348, Test Loss: 2.7347\n",
            "Epoch 34/150, Train Acc: 30.66%, Val Acc: 32.38%, Test Acc: 32.11%\n",
            "Epoch 34/150, Train Loss: 2.7595, Val Loss: 2.7259, Test Loss: 2.7221\n",
            "Epoch 35/150, Train Acc: 30.86%, Val Acc: 32.38%, Test Acc: 31.78%\n",
            "Epoch 35/150, Train Loss: 2.7419, Val Loss: 2.7329, Test Loss: 2.7211\n",
            "Epoch 36/150, Train Acc: 31.33%, Val Acc: 32.80%, Test Acc: 32.40%\n",
            "Epoch 36/150, Train Loss: 2.7166, Val Loss: 2.7025, Test Loss: 2.7000\n",
            "Epoch 37/150, Train Acc: 32.09%, Val Acc: 33.35%, Test Acc: 33.15%\n",
            "Epoch 37/150, Train Loss: 2.6875, Val Loss: 2.6658, Test Loss: 2.6606\n",
            "Epoch 38/150, Train Acc: 32.45%, Val Acc: 33.20%, Test Acc: 33.93%\n",
            "Epoch 38/150, Train Loss: 2.6696, Val Loss: 2.6439, Test Loss: 2.6280\n",
            "Epoch 39/150, Train Acc: 32.63%, Val Acc: 33.37%, Test Acc: 33.23%\n",
            "Epoch 39/150, Train Loss: 2.6491, Val Loss: 2.6581, Test Loss: 2.6488\n",
            "Checkpoint saved at epoch 40: ./checkpoint_epoch_40.pth\n"
          ]
        },
        {
          "data": {
            "application/javascript": [
              "\n",
              "    async function download(id, filename, size) {\n",
              "      if (!google.colab.kernel.accessAllowed) {\n",
              "        return;\n",
              "      }\n",
              "      const div = document.createElement('div');\n",
              "      const label = document.createElement('label');\n",
              "      label.textContent = `Downloading \"${filename}\": `;\n",
              "      div.appendChild(label);\n",
              "      const progress = document.createElement('progress');\n",
              "      progress.max = size;\n",
              "      div.appendChild(progress);\n",
              "      document.body.appendChild(div);\n",
              "\n",
              "      const buffers = [];\n",
              "      let downloaded = 0;\n",
              "\n",
              "      const channel = await google.colab.kernel.comms.open(id);\n",
              "      // Send a message to notify the kernel that we're ready.\n",
              "      channel.send({})\n",
              "\n",
              "      for await (const message of channel.messages) {\n",
              "        // Send a message to notify the kernel that we're ready.\n",
              "        channel.send({})\n",
              "        if (message.buffers) {\n",
              "          for (const buffer of message.buffers) {\n",
              "            buffers.push(buffer);\n",
              "            downloaded += buffer.byteLength;\n",
              "            progress.value = downloaded;\n",
              "          }\n",
              "        }\n",
              "      }\n",
              "      const blob = new Blob(buffers, {type: 'application/binary'});\n",
              "      const a = document.createElement('a');\n",
              "      a.href = window.URL.createObjectURL(blob);\n",
              "      a.download = filename;\n",
              "      div.appendChild(a);\n",
              "      a.click();\n",
              "      div.remove();\n",
              "    }\n",
              "  "
            ],
            "text/plain": [
              "<IPython.core.display.Javascript object>"
            ]
          },
          "metadata": {},
          "output_type": "display_data"
        },
        {
          "data": {
            "application/javascript": [
              "download(\"download_12252ce0-b64e-4013-a938-242b0d95bf5d\", \"checkpoint_epoch_40.pth\", 6530170)"
            ],
            "text/plain": [
              "<IPython.core.display.Javascript object>"
            ]
          },
          "metadata": {},
          "output_type": "display_data"
        },
        {
          "metadata": {
            "tags": null
          },
          "name": "stdout",
          "output_type": "stream",
          "text": [
            "Epoch 40/150, Train Acc: 33.38%, Val Acc: 33.69%, Test Acc: 33.91%\n",
            "Epoch 40/150, Train Loss: 2.6245, Val Loss: 2.6149, Test Loss: 2.6109\n",
            "Epoch 41/150, Train Acc: 33.98%, Val Acc: 34.71%, Test Acc: 35.03%\n",
            "Epoch 41/150, Train Loss: 2.6027, Val Loss: 2.5983, Test Loss: 2.5735\n",
            "Epoch 42/150, Train Acc: 34.21%, Val Acc: 34.07%, Test Acc: 34.60%\n",
            "Epoch 42/150, Train Loss: 2.5809, Val Loss: 2.5977, Test Loss: 2.5791\n",
            "Epoch 43/150, Train Acc: 34.70%, Val Acc: 34.80%, Test Acc: 35.47%\n",
            "Epoch 43/150, Train Loss: 2.5552, Val Loss: 2.5667, Test Loss: 2.5482\n",
            "Epoch 44/150, Train Acc: 35.27%, Val Acc: 35.05%, Test Acc: 35.48%\n",
            "Epoch 44/150, Train Loss: 2.5360, Val Loss: 2.5593, Test Loss: 2.5437\n",
            "Epoch 45/150, Train Acc: 35.53%, Val Acc: 35.50%, Test Acc: 35.88%\n",
            "Epoch 45/150, Train Loss: 2.5113, Val Loss: 2.5490, Test Loss: 2.5219\n",
            "Epoch 46/150, Train Acc: 36.01%, Val Acc: 36.93%, Test Acc: 36.48%\n",
            "Epoch 46/150, Train Loss: 2.4891, Val Loss: 2.5021, Test Loss: 2.4852\n",
            "Epoch 47/150, Train Acc: 36.57%, Val Acc: 36.56%, Test Acc: 36.66%\n",
            "Epoch 47/150, Train Loss: 2.4712, Val Loss: 2.4923, Test Loss: 2.4793\n",
            "Epoch 48/150, Train Acc: 36.85%, Val Acc: 36.78%, Test Acc: 37.05%\n",
            "Epoch 48/150, Train Loss: 2.4468, Val Loss: 2.5005, Test Loss: 2.4662\n",
            "Epoch 49/150, Train Acc: 37.28%, Val Acc: 36.89%, Test Acc: 37.38%\n",
            "Epoch 49/150, Train Loss: 2.4356, Val Loss: 2.4774, Test Loss: 2.4470\n",
            "Checkpoint saved at epoch 50: ./checkpoint_epoch_50.pth\n"
          ]
        },
        {
          "data": {
            "application/javascript": [
              "\n",
              "    async function download(id, filename, size) {\n",
              "      if (!google.colab.kernel.accessAllowed) {\n",
              "        return;\n",
              "      }\n",
              "      const div = document.createElement('div');\n",
              "      const label = document.createElement('label');\n",
              "      label.textContent = `Downloading \"${filename}\": `;\n",
              "      div.appendChild(label);\n",
              "      const progress = document.createElement('progress');\n",
              "      progress.max = size;\n",
              "      div.appendChild(progress);\n",
              "      document.body.appendChild(div);\n",
              "\n",
              "      const buffers = [];\n",
              "      let downloaded = 0;\n",
              "\n",
              "      const channel = await google.colab.kernel.comms.open(id);\n",
              "      // Send a message to notify the kernel that we're ready.\n",
              "      channel.send({})\n",
              "\n",
              "      for await (const message of channel.messages) {\n",
              "        // Send a message to notify the kernel that we're ready.\n",
              "        channel.send({})\n",
              "        if (message.buffers) {\n",
              "          for (const buffer of message.buffers) {\n",
              "            buffers.push(buffer);\n",
              "            downloaded += buffer.byteLength;\n",
              "            progress.value = downloaded;\n",
              "          }\n",
              "        }\n",
              "      }\n",
              "      const blob = new Blob(buffers, {type: 'application/binary'});\n",
              "      const a = document.createElement('a');\n",
              "      a.href = window.URL.createObjectURL(blob);\n",
              "      a.download = filename;\n",
              "      div.appendChild(a);\n",
              "      a.click();\n",
              "      div.remove();\n",
              "    }\n",
              "  "
            ],
            "text/plain": [
              "<IPython.core.display.Javascript object>"
            ]
          },
          "metadata": {},
          "output_type": "display_data"
        },
        {
          "data": {
            "application/javascript": [
              "download(\"download_390f275a-9a43-46bd-85c1-cbf66274a52a\", \"checkpoint_epoch_50.pth\", 6530170)"
            ],
            "text/plain": [
              "<IPython.core.display.Javascript object>"
            ]
          },
          "metadata": {},
          "output_type": "display_data"
        },
        {
          "metadata": {
            "tags": null
          },
          "name": "stdout",
          "output_type": "stream",
          "text": [
            "Epoch 50/150, Train Acc: 37.84%, Val Acc: 37.38%, Test Acc: 38.02%\n",
            "Epoch 50/150, Train Loss: 2.4162, Val Loss: 2.4520, Test Loss: 2.4246\n",
            "Epoch 51/150, Train Acc: 37.92%, Val Acc: 36.42%, Test Acc: 36.87%\n",
            "Epoch 51/150, Train Loss: 2.3946, Val Loss: 2.4894, Test Loss: 2.4518\n",
            "Epoch 52/150, Train Acc: 38.10%, Val Acc: 37.71%, Test Acc: 38.38%\n",
            "Epoch 52/150, Train Loss: 2.3848, Val Loss: 2.4512, Test Loss: 2.4182\n",
            "Epoch 53/150, Train Acc: 38.57%, Val Acc: 37.76%, Test Acc: 38.17%\n",
            "Epoch 53/150, Train Loss: 2.3695, Val Loss: 2.4318, Test Loss: 2.4071\n",
            "Epoch 54/150, Train Acc: 39.19%, Val Acc: 37.75%, Test Acc: 38.61%\n",
            "Epoch 54/150, Train Loss: 2.3512, Val Loss: 2.4255, Test Loss: 2.3877\n",
            "Epoch 55/150, Train Acc: 39.24%, Val Acc: 38.16%, Test Acc: 38.99%\n",
            "Epoch 55/150, Train Loss: 2.3368, Val Loss: 2.4336, Test Loss: 2.3946\n",
            "Epoch 56/150, Train Acc: 39.47%, Val Acc: 38.44%, Test Acc: 39.21%\n",
            "Epoch 56/150, Train Loss: 2.3283, Val Loss: 2.3980, Test Loss: 2.3626\n",
            "Epoch 57/150, Train Acc: 39.99%, Val Acc: 39.22%, Test Acc: 39.19%\n",
            "Epoch 57/150, Train Loss: 2.3038, Val Loss: 2.4004, Test Loss: 2.3643\n",
            "Epoch 58/150, Train Acc: 40.19%, Val Acc: 39.20%, Test Acc: 39.32%\n",
            "Epoch 58/150, Train Loss: 2.2957, Val Loss: 2.3851, Test Loss: 2.3546\n",
            "Epoch 59/150, Train Acc: 40.56%, Val Acc: 39.63%, Test Acc: 39.70%\n",
            "Epoch 59/150, Train Loss: 2.2750, Val Loss: 2.3763, Test Loss: 2.3427\n",
            "Checkpoint saved at epoch 60: ./checkpoint_epoch_60.pth\n"
          ]
        },
        {
          "data": {
            "application/javascript": [
              "\n",
              "    async function download(id, filename, size) {\n",
              "      if (!google.colab.kernel.accessAllowed) {\n",
              "        return;\n",
              "      }\n",
              "      const div = document.createElement('div');\n",
              "      const label = document.createElement('label');\n",
              "      label.textContent = `Downloading \"${filename}\": `;\n",
              "      div.appendChild(label);\n",
              "      const progress = document.createElement('progress');\n",
              "      progress.max = size;\n",
              "      div.appendChild(progress);\n",
              "      document.body.appendChild(div);\n",
              "\n",
              "      const buffers = [];\n",
              "      let downloaded = 0;\n",
              "\n",
              "      const channel = await google.colab.kernel.comms.open(id);\n",
              "      // Send a message to notify the kernel that we're ready.\n",
              "      channel.send({})\n",
              "\n",
              "      for await (const message of channel.messages) {\n",
              "        // Send a message to notify the kernel that we're ready.\n",
              "        channel.send({})\n",
              "        if (message.buffers) {\n",
              "          for (const buffer of message.buffers) {\n",
              "            buffers.push(buffer);\n",
              "            downloaded += buffer.byteLength;\n",
              "            progress.value = downloaded;\n",
              "          }\n",
              "        }\n",
              "      }\n",
              "      const blob = new Blob(buffers, {type: 'application/binary'});\n",
              "      const a = document.createElement('a');\n",
              "      a.href = window.URL.createObjectURL(blob);\n",
              "      a.download = filename;\n",
              "      div.appendChild(a);\n",
              "      a.click();\n",
              "      div.remove();\n",
              "    }\n",
              "  "
            ],
            "text/plain": [
              "<IPython.core.display.Javascript object>"
            ]
          },
          "metadata": {},
          "output_type": "display_data"
        },
        {
          "data": {
            "application/javascript": [
              "download(\"download_7999e82e-4e61-4176-b375-69341c2a6c2e\", \"checkpoint_epoch_60.pth\", 6530170)"
            ],
            "text/plain": [
              "<IPython.core.display.Javascript object>"
            ]
          },
          "metadata": {},
          "output_type": "display_data"
        },
        {
          "metadata": {
            "tags": null
          },
          "name": "stdout",
          "output_type": "stream",
          "text": [
            "Epoch 60/150, Train Acc: 40.68%, Val Acc: 39.54%, Test Acc: 39.91%\n",
            "Epoch 60/150, Train Loss: 2.2654, Val Loss: 2.3668, Test Loss: 2.3349\n",
            "Epoch 61/150, Train Acc: 41.05%, Val Acc: 39.69%, Test Acc: 40.46%\n",
            "Epoch 61/150, Train Loss: 2.2492, Val Loss: 2.3547, Test Loss: 2.3197\n",
            "Epoch 62/150, Train Acc: 41.35%, Val Acc: 39.28%, Test Acc: 39.89%\n",
            "Epoch 62/150, Train Loss: 2.2340, Val Loss: 2.3753, Test Loss: 2.3517\n",
            "Epoch 63/150, Train Acc: 41.83%, Val Acc: 39.73%, Test Acc: 40.01%\n",
            "Epoch 63/150, Train Loss: 2.2183, Val Loss: 2.3690, Test Loss: 2.3355\n",
            "Epoch 64/150, Train Acc: 42.28%, Val Acc: 40.07%, Test Acc: 40.37%\n",
            "Epoch 64/150, Train Loss: 2.2033, Val Loss: 2.3589, Test Loss: 2.3189\n",
            "Epoch 65/150, Train Acc: 42.09%, Val Acc: 40.25%, Test Acc: 40.38%\n",
            "Epoch 65/150, Train Loss: 2.2022, Val Loss: 2.3594, Test Loss: 2.3207\n",
            "Epoch 66/150, Train Acc: 42.69%, Val Acc: 40.46%, Test Acc: 40.95%\n",
            "Epoch 66/150, Train Loss: 2.1813, Val Loss: 2.3155, Test Loss: 2.2793\n",
            "Epoch 67/150, Train Acc: 42.71%, Val Acc: 39.95%, Test Acc: 40.83%\n",
            "Epoch 67/150, Train Loss: 2.1762, Val Loss: 2.3348, Test Loss: 2.2944\n",
            "Epoch 68/150, Train Acc: 43.35%, Val Acc: 40.74%, Test Acc: 41.45%\n",
            "Epoch 68/150, Train Loss: 2.1616, Val Loss: 2.3095, Test Loss: 2.2743\n",
            "Epoch 69/150, Train Acc: 43.22%, Val Acc: 41.35%, Test Acc: 41.77%\n",
            "Epoch 69/150, Train Loss: 2.1518, Val Loss: 2.2844, Test Loss: 2.2545\n",
            "Checkpoint saved at epoch 70: ./checkpoint_epoch_70.pth\n"
          ]
        },
        {
          "data": {
            "application/javascript": [
              "\n",
              "    async function download(id, filename, size) {\n",
              "      if (!google.colab.kernel.accessAllowed) {\n",
              "        return;\n",
              "      }\n",
              "      const div = document.createElement('div');\n",
              "      const label = document.createElement('label');\n",
              "      label.textContent = `Downloading \"${filename}\": `;\n",
              "      div.appendChild(label);\n",
              "      const progress = document.createElement('progress');\n",
              "      progress.max = size;\n",
              "      div.appendChild(progress);\n",
              "      document.body.appendChild(div);\n",
              "\n",
              "      const buffers = [];\n",
              "      let downloaded = 0;\n",
              "\n",
              "      const channel = await google.colab.kernel.comms.open(id);\n",
              "      // Send a message to notify the kernel that we're ready.\n",
              "      channel.send({})\n",
              "\n",
              "      for await (const message of channel.messages) {\n",
              "        // Send a message to notify the kernel that we're ready.\n",
              "        channel.send({})\n",
              "        if (message.buffers) {\n",
              "          for (const buffer of message.buffers) {\n",
              "            buffers.push(buffer);\n",
              "            downloaded += buffer.byteLength;\n",
              "            progress.value = downloaded;\n",
              "          }\n",
              "        }\n",
              "      }\n",
              "      const blob = new Blob(buffers, {type: 'application/binary'});\n",
              "      const a = document.createElement('a');\n",
              "      a.href = window.URL.createObjectURL(blob);\n",
              "      a.download = filename;\n",
              "      div.appendChild(a);\n",
              "      a.click();\n",
              "      div.remove();\n",
              "    }\n",
              "  "
            ],
            "text/plain": [
              "<IPython.core.display.Javascript object>"
            ]
          },
          "metadata": {},
          "output_type": "display_data"
        },
        {
          "data": {
            "application/javascript": [
              "download(\"download_ca41912c-7801-406b-a0a9-995bd50bab7f\", \"checkpoint_epoch_70.pth\", 6530170)"
            ],
            "text/plain": [
              "<IPython.core.display.Javascript object>"
            ]
          },
          "metadata": {},
          "output_type": "display_data"
        },
        {
          "metadata": {
            "tags": null
          },
          "name": "stdout",
          "output_type": "stream",
          "text": [
            "Epoch 70/150, Train Acc: 43.79%, Val Acc: 40.81%, Test Acc: 41.85%\n",
            "Epoch 70/150, Train Loss: 2.1309, Val Loss: 2.3036, Test Loss: 2.2683\n",
            "Epoch 71/150, Train Acc: 43.70%, Val Acc: 41.05%, Test Acc: 41.76%\n",
            "Epoch 71/150, Train Loss: 2.1250, Val Loss: 2.2895, Test Loss: 2.2528\n",
            "Epoch 72/150, Train Acc: 43.93%, Val Acc: 41.21%, Test Acc: 41.68%\n",
            "Epoch 72/150, Train Loss: 2.1181, Val Loss: 2.3010, Test Loss: 2.2525\n",
            "Epoch 73/150, Train Acc: 44.22%, Val Acc: 41.44%, Test Acc: 42.35%\n",
            "Epoch 73/150, Train Loss: 2.1043, Val Loss: 2.2845, Test Loss: 2.2389\n",
            "Epoch 74/150, Train Acc: 44.53%, Val Acc: 40.87%, Test Acc: 41.72%\n",
            "Epoch 74/150, Train Loss: 2.0926, Val Loss: 2.3023, Test Loss: 2.2698\n",
            "Epoch 75/150, Train Acc: 45.06%, Val Acc: 41.32%, Test Acc: 42.21%\n",
            "Epoch 75/150, Train Loss: 2.0774, Val Loss: 2.2832, Test Loss: 2.2465\n",
            "Epoch 76/150, Train Acc: 45.16%, Val Acc: 41.34%, Test Acc: 41.89%\n",
            "Epoch 76/150, Train Loss: 2.0688, Val Loss: 2.2864, Test Loss: 2.2494\n",
            "Epoch 77/150, Train Acc: 45.34%, Val Acc: 42.00%, Test Acc: 42.86%\n",
            "Epoch 77/150, Train Loss: 2.0595, Val Loss: 2.2542, Test Loss: 2.2179\n",
            "Epoch 78/150, Train Acc: 45.44%, Val Acc: 42.17%, Test Acc: 43.07%\n",
            "Epoch 78/150, Train Loss: 2.0474, Val Loss: 2.2544, Test Loss: 2.2177\n",
            "Epoch 79/150, Train Acc: 45.83%, Val Acc: 41.83%, Test Acc: 42.40%\n",
            "Epoch 79/150, Train Loss: 2.0367, Val Loss: 2.2585, Test Loss: 2.2195\n",
            "Checkpoint saved at epoch 80: ./checkpoint_epoch_80.pth\n"
          ]
        },
        {
          "data": {
            "application/javascript": [
              "\n",
              "    async function download(id, filename, size) {\n",
              "      if (!google.colab.kernel.accessAllowed) {\n",
              "        return;\n",
              "      }\n",
              "      const div = document.createElement('div');\n",
              "      const label = document.createElement('label');\n",
              "      label.textContent = `Downloading \"${filename}\": `;\n",
              "      div.appendChild(label);\n",
              "      const progress = document.createElement('progress');\n",
              "      progress.max = size;\n",
              "      div.appendChild(progress);\n",
              "      document.body.appendChild(div);\n",
              "\n",
              "      const buffers = [];\n",
              "      let downloaded = 0;\n",
              "\n",
              "      const channel = await google.colab.kernel.comms.open(id);\n",
              "      // Send a message to notify the kernel that we're ready.\n",
              "      channel.send({})\n",
              "\n",
              "      for await (const message of channel.messages) {\n",
              "        // Send a message to notify the kernel that we're ready.\n",
              "        channel.send({})\n",
              "        if (message.buffers) {\n",
              "          for (const buffer of message.buffers) {\n",
              "            buffers.push(buffer);\n",
              "            downloaded += buffer.byteLength;\n",
              "            progress.value = downloaded;\n",
              "          }\n",
              "        }\n",
              "      }\n",
              "      const blob = new Blob(buffers, {type: 'application/binary'});\n",
              "      const a = document.createElement('a');\n",
              "      a.href = window.URL.createObjectURL(blob);\n",
              "      a.download = filename;\n",
              "      div.appendChild(a);\n",
              "      a.click();\n",
              "      div.remove();\n",
              "    }\n",
              "  "
            ],
            "text/plain": [
              "<IPython.core.display.Javascript object>"
            ]
          },
          "metadata": {},
          "output_type": "display_data"
        },
        {
          "data": {
            "application/javascript": [
              "download(\"download_67cb8836-c1b7-443a-85b6-a663f7aa5fa4\", \"checkpoint_epoch_80.pth\", 6530170)"
            ],
            "text/plain": [
              "<IPython.core.display.Javascript object>"
            ]
          },
          "metadata": {},
          "output_type": "display_data"
        },
        {
          "output_type": "stream",
          "name": "stdout",
          "text": [
            "Epoch 80/150, Train Acc: 46.30%, Val Acc: 41.99%, Test Acc: 42.82%\n",
            "Epoch 80/150, Train Loss: 2.0223, Val Loss: 2.2619, Test Loss: 2.2145\n",
            "Epoch 81/150, Train Acc: 46.34%, Val Acc: 42.15%, Test Acc: 42.92%\n",
            "Epoch 81/150, Train Loss: 2.0179, Val Loss: 2.2459, Test Loss: 2.2076\n",
            "Epoch 82/150, Train Acc: 46.57%, Val Acc: 41.79%, Test Acc: 42.32%\n",
            "Epoch 82/150, Train Loss: 2.0139, Val Loss: 2.2962, Test Loss: 2.2454\n",
            "Epoch 83/150, Train Acc: 46.54%, Val Acc: 42.40%, Test Acc: 43.31%\n",
            "Epoch 83/150, Train Loss: 1.9977, Val Loss: 2.2511, Test Loss: 2.2067\n",
            "Epoch 84/150, Train Acc: 46.82%, Val Acc: 42.48%, Test Acc: 43.29%\n",
            "Epoch 84/150, Train Loss: 1.9973, Val Loss: 2.2391, Test Loss: 2.1992\n",
            "Epoch 85/150, Train Acc: 46.86%, Val Acc: 42.43%, Test Acc: 43.56%\n",
            "Epoch 85/150, Train Loss: 1.9808, Val Loss: 2.2319, Test Loss: 2.1946\n",
            "Epoch 86/150, Train Acc: 47.38%, Val Acc: 42.70%, Test Acc: 44.04%\n",
            "Epoch 86/150, Train Loss: 1.9757, Val Loss: 2.2339, Test Loss: 2.1895\n",
            "Epoch 87/150, Train Acc: 47.55%, Val Acc: 42.92%, Test Acc: 43.54%\n",
            "Epoch 87/150, Train Loss: 1.9624, Val Loss: 2.2251, Test Loss: 2.1857\n",
            "Epoch 88/150, Train Acc: 48.08%, Val Acc: 42.48%, Test Acc: 43.79%\n",
            "Epoch 88/150, Train Loss: 1.9558, Val Loss: 2.2370, Test Loss: 2.1890\n",
            "Epoch 89/150, Train Acc: 47.84%, Val Acc: 42.96%, Test Acc: 43.64%\n",
            "Epoch 89/150, Train Loss: 1.9506, Val Loss: 2.2185, Test Loss: 2.1827\n",
            "Checkpoint saved at epoch 90: ./checkpoint_epoch_90.pth\n"
          ]
        },
        {
          "output_type": "display_data",
          "data": {
            "text/plain": [
              "<IPython.core.display.Javascript object>"
            ],
            "application/javascript": [
              "\n",
              "    async function download(id, filename, size) {\n",
              "      if (!google.colab.kernel.accessAllowed) {\n",
              "        return;\n",
              "      }\n",
              "      const div = document.createElement('div');\n",
              "      const label = document.createElement('label');\n",
              "      label.textContent = `Downloading \"${filename}\": `;\n",
              "      div.appendChild(label);\n",
              "      const progress = document.createElement('progress');\n",
              "      progress.max = size;\n",
              "      div.appendChild(progress);\n",
              "      document.body.appendChild(div);\n",
              "\n",
              "      const buffers = [];\n",
              "      let downloaded = 0;\n",
              "\n",
              "      const channel = await google.colab.kernel.comms.open(id);\n",
              "      // Send a message to notify the kernel that we're ready.\n",
              "      channel.send({})\n",
              "\n",
              "      for await (const message of channel.messages) {\n",
              "        // Send a message to notify the kernel that we're ready.\n",
              "        channel.send({})\n",
              "        if (message.buffers) {\n",
              "          for (const buffer of message.buffers) {\n",
              "            buffers.push(buffer);\n",
              "            downloaded += buffer.byteLength;\n",
              "            progress.value = downloaded;\n",
              "          }\n",
              "        }\n",
              "      }\n",
              "      const blob = new Blob(buffers, {type: 'application/binary'});\n",
              "      const a = document.createElement('a');\n",
              "      a.href = window.URL.createObjectURL(blob);\n",
              "      a.download = filename;\n",
              "      div.appendChild(a);\n",
              "      a.click();\n",
              "      div.remove();\n",
              "    }\n",
              "  "
            ]
          },
          "metadata": {}
        },
        {
          "output_type": "display_data",
          "data": {
            "text/plain": [
              "<IPython.core.display.Javascript object>"
            ],
            "application/javascript": [
              "download(\"download_27a6bc91-2f6b-496b-81cf-4c31a3a39831\", \"checkpoint_epoch_90.pth\", 6530170)"
            ]
          },
          "metadata": {}
        },
        {
          "output_type": "stream",
          "name": "stdout",
          "text": [
            "Epoch 90/150, Train Acc: 48.12%, Val Acc: 43.17%, Test Acc: 43.67%\n",
            "Epoch 90/150, Train Loss: 1.9363, Val Loss: 2.2146, Test Loss: 2.1747\n",
            "Epoch 91/150, Train Acc: 48.24%, Val Acc: 43.17%, Test Acc: 44.39%\n",
            "Epoch 91/150, Train Loss: 1.9268, Val Loss: 2.2183, Test Loss: 2.1763\n",
            "Epoch 92/150, Train Acc: 48.55%, Val Acc: 43.37%, Test Acc: 43.91%\n",
            "Epoch 92/150, Train Loss: 1.9151, Val Loss: 2.2139, Test Loss: 2.1602\n",
            "Epoch 93/150, Train Acc: 48.69%, Val Acc: 43.40%, Test Acc: 44.48%\n",
            "Epoch 93/150, Train Loss: 1.9104, Val Loss: 2.2051, Test Loss: 2.1644\n",
            "Epoch 94/150, Train Acc: 48.98%, Val Acc: 43.14%, Test Acc: 43.96%\n",
            "Epoch 94/150, Train Loss: 1.9020, Val Loss: 2.2190, Test Loss: 2.1752\n",
            "Epoch 95/150, Train Acc: 48.91%, Val Acc: 43.81%, Test Acc: 44.95%\n",
            "Epoch 95/150, Train Loss: 1.9019, Val Loss: 2.1967, Test Loss: 2.1531\n",
            "Epoch 96/150, Train Acc: 48.97%, Val Acc: 43.72%, Test Acc: 44.56%\n",
            "Epoch 96/150, Train Loss: 1.8951, Val Loss: 2.1904, Test Loss: 2.1511\n",
            "Epoch 97/150, Train Acc: 49.60%, Val Acc: 44.02%, Test Acc: 44.87%\n",
            "Epoch 97/150, Train Loss: 1.8791, Val Loss: 2.1811, Test Loss: 2.1445\n",
            "Epoch 98/150, Train Acc: 49.63%, Val Acc: 43.98%, Test Acc: 44.20%\n",
            "Epoch 98/150, Train Loss: 1.8732, Val Loss: 2.1958, Test Loss: 2.1575\n",
            "Epoch 99/150, Train Acc: 49.70%, Val Acc: 43.69%, Test Acc: 44.57%\n",
            "Epoch 99/150, Train Loss: 1.8652, Val Loss: 2.1874, Test Loss: 2.1450\n",
            "Checkpoint saved at epoch 100: ./checkpoint_epoch_100.pth\n"
          ]
        },
        {
          "output_type": "display_data",
          "data": {
            "text/plain": [
              "<IPython.core.display.Javascript object>"
            ],
            "application/javascript": [
              "\n",
              "    async function download(id, filename, size) {\n",
              "      if (!google.colab.kernel.accessAllowed) {\n",
              "        return;\n",
              "      }\n",
              "      const div = document.createElement('div');\n",
              "      const label = document.createElement('label');\n",
              "      label.textContent = `Downloading \"${filename}\": `;\n",
              "      div.appendChild(label);\n",
              "      const progress = document.createElement('progress');\n",
              "      progress.max = size;\n",
              "      div.appendChild(progress);\n",
              "      document.body.appendChild(div);\n",
              "\n",
              "      const buffers = [];\n",
              "      let downloaded = 0;\n",
              "\n",
              "      const channel = await google.colab.kernel.comms.open(id);\n",
              "      // Send a message to notify the kernel that we're ready.\n",
              "      channel.send({})\n",
              "\n",
              "      for await (const message of channel.messages) {\n",
              "        // Send a message to notify the kernel that we're ready.\n",
              "        channel.send({})\n",
              "        if (message.buffers) {\n",
              "          for (const buffer of message.buffers) {\n",
              "            buffers.push(buffer);\n",
              "            downloaded += buffer.byteLength;\n",
              "            progress.value = downloaded;\n",
              "          }\n",
              "        }\n",
              "      }\n",
              "      const blob = new Blob(buffers, {type: 'application/binary'});\n",
              "      const a = document.createElement('a');\n",
              "      a.href = window.URL.createObjectURL(blob);\n",
              "      a.download = filename;\n",
              "      div.appendChild(a);\n",
              "      a.click();\n",
              "      div.remove();\n",
              "    }\n",
              "  "
            ]
          },
          "metadata": {}
        },
        {
          "output_type": "display_data",
          "data": {
            "text/plain": [
              "<IPython.core.display.Javascript object>"
            ],
            "application/javascript": [
              "download(\"download_d0c71dee-3483-48ec-8da8-4c6ff8864122\", \"checkpoint_epoch_100.pth\", 6530194)"
            ]
          },
          "metadata": {}
        },
        {
          "output_type": "stream",
          "name": "stdout",
          "text": [
            "Epoch 100/150, Train Acc: 49.91%, Val Acc: 44.08%, Test Acc: 44.94%\n",
            "Epoch 100/150, Train Loss: 1.8630, Val Loss: 2.2023, Test Loss: 2.1613\n",
            "Epoch 101/150, Train Acc: 50.11%, Val Acc: 44.54%, Test Acc: 45.04%\n",
            "Epoch 101/150, Train Loss: 1.8520, Val Loss: 2.1700, Test Loss: 2.1335\n",
            "Epoch 102/150, Train Acc: 50.31%, Val Acc: 44.07%, Test Acc: 44.78%\n",
            "Epoch 102/150, Train Loss: 1.8426, Val Loss: 2.1951, Test Loss: 2.1524\n",
            "Epoch 103/150, Train Acc: 50.52%, Val Acc: 43.92%, Test Acc: 44.87%\n",
            "Epoch 103/150, Train Loss: 1.8386, Val Loss: 2.1996, Test Loss: 2.1483\n",
            "Epoch 104/150, Train Acc: 50.69%, Val Acc: 44.29%, Test Acc: 44.96%\n",
            "Epoch 104/150, Train Loss: 1.8351, Val Loss: 2.1760, Test Loss: 2.1340\n",
            "Epoch 105/150, Train Acc: 50.71%, Val Acc: 44.03%, Test Acc: 45.40%\n",
            "Epoch 105/150, Train Loss: 1.8268, Val Loss: 2.1706, Test Loss: 2.1320\n",
            "Epoch 106/150, Train Acc: 50.91%, Val Acc: 44.71%, Test Acc: 45.34%\n",
            "Epoch 106/150, Train Loss: 1.8192, Val Loss: 2.1699, Test Loss: 2.1262\n",
            "Epoch 107/150, Train Acc: 50.85%, Val Acc: 44.02%, Test Acc: 44.81%\n",
            "Epoch 107/150, Train Loss: 1.8161, Val Loss: 2.1891, Test Loss: 2.1453\n",
            "Epoch 108/150, Train Acc: 51.12%, Val Acc: 44.42%, Test Acc: 45.17%\n",
            "Epoch 108/150, Train Loss: 1.8063, Val Loss: 2.1710, Test Loss: 2.1283\n",
            "Epoch 109/150, Train Acc: 51.27%, Val Acc: 44.43%, Test Acc: 45.60%\n",
            "Epoch 109/150, Train Loss: 1.7973, Val Loss: 2.1736, Test Loss: 2.1238\n",
            "Checkpoint saved at epoch 110: ./checkpoint_epoch_110.pth\n"
          ]
        },
        {
          "output_type": "display_data",
          "data": {
            "text/plain": [
              "<IPython.core.display.Javascript object>"
            ],
            "application/javascript": [
              "\n",
              "    async function download(id, filename, size) {\n",
              "      if (!google.colab.kernel.accessAllowed) {\n",
              "        return;\n",
              "      }\n",
              "      const div = document.createElement('div');\n",
              "      const label = document.createElement('label');\n",
              "      label.textContent = `Downloading \"${filename}\": `;\n",
              "      div.appendChild(label);\n",
              "      const progress = document.createElement('progress');\n",
              "      progress.max = size;\n",
              "      div.appendChild(progress);\n",
              "      document.body.appendChild(div);\n",
              "\n",
              "      const buffers = [];\n",
              "      let downloaded = 0;\n",
              "\n",
              "      const channel = await google.colab.kernel.comms.open(id);\n",
              "      // Send a message to notify the kernel that we're ready.\n",
              "      channel.send({})\n",
              "\n",
              "      for await (const message of channel.messages) {\n",
              "        // Send a message to notify the kernel that we're ready.\n",
              "        channel.send({})\n",
              "        if (message.buffers) {\n",
              "          for (const buffer of message.buffers) {\n",
              "            buffers.push(buffer);\n",
              "            downloaded += buffer.byteLength;\n",
              "            progress.value = downloaded;\n",
              "          }\n",
              "        }\n",
              "      }\n",
              "      const blob = new Blob(buffers, {type: 'application/binary'});\n",
              "      const a = document.createElement('a');\n",
              "      a.href = window.URL.createObjectURL(blob);\n",
              "      a.download = filename;\n",
              "      div.appendChild(a);\n",
              "      a.click();\n",
              "      div.remove();\n",
              "    }\n",
              "  "
            ]
          },
          "metadata": {}
        },
        {
          "output_type": "display_data",
          "data": {
            "text/plain": [
              "<IPython.core.display.Javascript object>"
            ],
            "application/javascript": [
              "download(\"download_926702fe-78ed-45dc-8690-9d0e3ffa2bb6\", \"checkpoint_epoch_110.pth\", 6530194)"
            ]
          },
          "metadata": {}
        },
        {
          "output_type": "stream",
          "name": "stdout",
          "text": [
            "Epoch 110/150, Train Acc: 51.53%, Val Acc: 44.26%, Test Acc: 45.39%\n",
            "Epoch 110/150, Train Loss: 1.7912, Val Loss: 2.1769, Test Loss: 2.1308\n",
            "Epoch 111/150, Train Acc: 51.71%, Val Acc: 44.70%, Test Acc: 45.64%\n",
            "Epoch 111/150, Train Loss: 1.7903, Val Loss: 2.1676, Test Loss: 2.1195\n",
            "Epoch 112/150, Train Acc: 51.71%, Val Acc: 44.49%, Test Acc: 45.16%\n",
            "Epoch 112/150, Train Loss: 1.7788, Val Loss: 2.1748, Test Loss: 2.1337\n",
            "Epoch 113/150, Train Acc: 52.17%, Val Acc: 44.40%, Test Acc: 45.48%\n",
            "Epoch 113/150, Train Loss: 1.7700, Val Loss: 2.1742, Test Loss: 2.1279\n",
            "Epoch 114/150, Train Acc: 52.24%, Val Acc: 44.64%, Test Acc: 45.20%\n",
            "Epoch 114/150, Train Loss: 1.7623, Val Loss: 2.1730, Test Loss: 2.1285\n",
            "Epoch 115/150, Train Acc: 52.27%, Val Acc: 44.68%, Test Acc: 45.67%\n",
            "Epoch 115/150, Train Loss: 1.7612, Val Loss: 2.1653, Test Loss: 2.1214\n",
            "Epoch 116/150, Train Acc: 52.39%, Val Acc: 44.77%, Test Acc: 45.20%\n",
            "Epoch 116/150, Train Loss: 1.7567, Val Loss: 2.1712, Test Loss: 2.1224\n",
            "Epoch 117/150, Train Acc: 52.40%, Val Acc: 44.66%, Test Acc: 45.53%\n",
            "Epoch 117/150, Train Loss: 1.7579, Val Loss: 2.1588, Test Loss: 2.1187\n",
            "Epoch 118/150, Train Acc: 52.74%, Val Acc: 45.16%, Test Acc: 45.53%\n",
            "Epoch 118/150, Train Loss: 1.7494, Val Loss: 2.1567, Test Loss: 2.1143\n",
            "Epoch 119/150, Train Acc: 53.02%, Val Acc: 45.05%, Test Acc: 45.64%\n",
            "Epoch 119/150, Train Loss: 1.7385, Val Loss: 2.1609, Test Loss: 2.1178\n",
            "Checkpoint saved at epoch 120: ./checkpoint_epoch_120.pth\n"
          ]
        },
        {
          "output_type": "display_data",
          "data": {
            "text/plain": [
              "<IPython.core.display.Javascript object>"
            ],
            "application/javascript": [
              "\n",
              "    async function download(id, filename, size) {\n",
              "      if (!google.colab.kernel.accessAllowed) {\n",
              "        return;\n",
              "      }\n",
              "      const div = document.createElement('div');\n",
              "      const label = document.createElement('label');\n",
              "      label.textContent = `Downloading \"${filename}\": `;\n",
              "      div.appendChild(label);\n",
              "      const progress = document.createElement('progress');\n",
              "      progress.max = size;\n",
              "      div.appendChild(progress);\n",
              "      document.body.appendChild(div);\n",
              "\n",
              "      const buffers = [];\n",
              "      let downloaded = 0;\n",
              "\n",
              "      const channel = await google.colab.kernel.comms.open(id);\n",
              "      // Send a message to notify the kernel that we're ready.\n",
              "      channel.send({})\n",
              "\n",
              "      for await (const message of channel.messages) {\n",
              "        // Send a message to notify the kernel that we're ready.\n",
              "        channel.send({})\n",
              "        if (message.buffers) {\n",
              "          for (const buffer of message.buffers) {\n",
              "            buffers.push(buffer);\n",
              "            downloaded += buffer.byteLength;\n",
              "            progress.value = downloaded;\n",
              "          }\n",
              "        }\n",
              "      }\n",
              "      const blob = new Blob(buffers, {type: 'application/binary'});\n",
              "      const a = document.createElement('a');\n",
              "      a.href = window.URL.createObjectURL(blob);\n",
              "      a.download = filename;\n",
              "      div.appendChild(a);\n",
              "      a.click();\n",
              "      div.remove();\n",
              "    }\n",
              "  "
            ]
          },
          "metadata": {}
        },
        {
          "output_type": "display_data",
          "data": {
            "text/plain": [
              "<IPython.core.display.Javascript object>"
            ],
            "application/javascript": [
              "download(\"download_2d8650c9-d741-465f-b817-3c752588ca9b\", \"checkpoint_epoch_120.pth\", 6530194)"
            ]
          },
          "metadata": {}
        },
        {
          "output_type": "stream",
          "name": "stdout",
          "text": [
            "Epoch 120/150, Train Acc: 52.91%, Val Acc: 45.27%, Test Acc: 45.89%\n",
            "Epoch 120/150, Train Loss: 1.7379, Val Loss: 2.1513, Test Loss: 2.1106\n",
            "Epoch 121/150, Train Acc: 52.94%, Val Acc: 44.96%, Test Acc: 45.87%\n",
            "Epoch 121/150, Train Loss: 1.7311, Val Loss: 2.1574, Test Loss: 2.1147\n",
            "Epoch 122/150, Train Acc: 53.45%, Val Acc: 45.34%, Test Acc: 45.92%\n",
            "Epoch 122/150, Train Loss: 1.7199, Val Loss: 2.1500, Test Loss: 2.1086\n",
            "Epoch 123/150, Train Acc: 53.11%, Val Acc: 45.06%, Test Acc: 46.45%\n",
            "Epoch 123/150, Train Loss: 1.7250, Val Loss: 2.1531, Test Loss: 2.1093\n",
            "Epoch 124/150, Train Acc: 53.48%, Val Acc: 45.10%, Test Acc: 46.35%\n",
            "Epoch 124/150, Train Loss: 1.7123, Val Loss: 2.1506, Test Loss: 2.1065\n",
            "Epoch 125/150, Train Acc: 53.34%, Val Acc: 45.26%, Test Acc: 45.93%\n",
            "Epoch 125/150, Train Loss: 1.7061, Val Loss: 2.1585, Test Loss: 2.1084\n",
            "Epoch 126/150, Train Acc: 53.68%, Val Acc: 45.15%, Test Acc: 46.19%\n",
            "Epoch 126/150, Train Loss: 1.6966, Val Loss: 2.1556, Test Loss: 2.1072\n",
            "Epoch 127/150, Train Acc: 53.56%, Val Acc: 45.33%, Test Acc: 46.14%\n",
            "Epoch 127/150, Train Loss: 1.6979, Val Loss: 2.1550, Test Loss: 2.1127\n",
            "Epoch 128/150, Train Acc: 54.01%, Val Acc: 45.16%, Test Acc: 45.98%\n",
            "Epoch 128/150, Train Loss: 1.6958, Val Loss: 2.1535, Test Loss: 2.1055\n",
            "Epoch 129/150, Train Acc: 54.05%, Val Acc: 45.48%, Test Acc: 46.22%\n",
            "Epoch 129/150, Train Loss: 1.6869, Val Loss: 2.1520, Test Loss: 2.1104\n",
            "Checkpoint saved at epoch 130: ./checkpoint_epoch_130.pth\n"
          ]
        },
        {
          "output_type": "display_data",
          "data": {
            "text/plain": [
              "<IPython.core.display.Javascript object>"
            ],
            "application/javascript": [
              "\n",
              "    async function download(id, filename, size) {\n",
              "      if (!google.colab.kernel.accessAllowed) {\n",
              "        return;\n",
              "      }\n",
              "      const div = document.createElement('div');\n",
              "      const label = document.createElement('label');\n",
              "      label.textContent = `Downloading \"${filename}\": `;\n",
              "      div.appendChild(label);\n",
              "      const progress = document.createElement('progress');\n",
              "      progress.max = size;\n",
              "      div.appendChild(progress);\n",
              "      document.body.appendChild(div);\n",
              "\n",
              "      const buffers = [];\n",
              "      let downloaded = 0;\n",
              "\n",
              "      const channel = await google.colab.kernel.comms.open(id);\n",
              "      // Send a message to notify the kernel that we're ready.\n",
              "      channel.send({})\n",
              "\n",
              "      for await (const message of channel.messages) {\n",
              "        // Send a message to notify the kernel that we're ready.\n",
              "        channel.send({})\n",
              "        if (message.buffers) {\n",
              "          for (const buffer of message.buffers) {\n",
              "            buffers.push(buffer);\n",
              "            downloaded += buffer.byteLength;\n",
              "            progress.value = downloaded;\n",
              "          }\n",
              "        }\n",
              "      }\n",
              "      const blob = new Blob(buffers, {type: 'application/binary'});\n",
              "      const a = document.createElement('a');\n",
              "      a.href = window.URL.createObjectURL(blob);\n",
              "      a.download = filename;\n",
              "      div.appendChild(a);\n",
              "      a.click();\n",
              "      div.remove();\n",
              "    }\n",
              "  "
            ]
          },
          "metadata": {}
        },
        {
          "output_type": "display_data",
          "data": {
            "text/plain": [
              "<IPython.core.display.Javascript object>"
            ],
            "application/javascript": [
              "download(\"download_8e089c08-2168-47da-b4e9-8d24d3382de3\", \"checkpoint_epoch_130.pth\", 6530194)"
            ]
          },
          "metadata": {}
        },
        {
          "output_type": "stream",
          "name": "stdout",
          "text": [
            "Epoch 130/150, Train Acc: 53.94%, Val Acc: 45.64%, Test Acc: 46.14%\n",
            "Epoch 130/150, Train Loss: 1.6890, Val Loss: 2.1501, Test Loss: 2.1024\n",
            "Epoch 131/150, Train Acc: 54.16%, Val Acc: 45.26%, Test Acc: 46.35%\n",
            "Epoch 131/150, Train Loss: 1.6804, Val Loss: 2.1504, Test Loss: 2.1040\n",
            "Epoch 132/150, Train Acc: 54.51%, Val Acc: 45.47%, Test Acc: 46.54%\n",
            "Epoch 132/150, Train Loss: 1.6742, Val Loss: 2.1449, Test Loss: 2.0982\n",
            "Epoch 133/150, Train Acc: 54.48%, Val Acc: 45.47%, Test Acc: 46.44%\n",
            "Epoch 133/150, Train Loss: 1.6731, Val Loss: 2.1461, Test Loss: 2.0967\n",
            "Epoch 134/150, Train Acc: 54.32%, Val Acc: 45.64%, Test Acc: 46.54%\n",
            "Epoch 134/150, Train Loss: 1.6663, Val Loss: 2.1432, Test Loss: 2.0979\n",
            "Epoch 135/150, Train Acc: 54.85%, Val Acc: 45.56%, Test Acc: 46.59%\n",
            "Epoch 135/150, Train Loss: 1.6620, Val Loss: 2.1417, Test Loss: 2.0990\n",
            "Epoch 136/150, Train Acc: 54.73%, Val Acc: 45.64%, Test Acc: 46.60%\n",
            "Epoch 136/150, Train Loss: 1.6637, Val Loss: 2.1427, Test Loss: 2.0954\n",
            "Epoch 137/150, Train Acc: 55.06%, Val Acc: 45.85%, Test Acc: 46.53%\n",
            "Epoch 137/150, Train Loss: 1.6574, Val Loss: 2.1430, Test Loss: 2.0966\n",
            "Epoch 138/150, Train Acc: 55.00%, Val Acc: 46.06%, Test Acc: 46.64%\n",
            "Epoch 138/150, Train Loss: 1.6549, Val Loss: 2.1408, Test Loss: 2.0955\n",
            "Epoch 139/150, Train Acc: 54.79%, Val Acc: 46.01%, Test Acc: 46.52%\n",
            "Epoch 139/150, Train Loss: 1.6534, Val Loss: 2.1404, Test Loss: 2.0967\n",
            "Checkpoint saved at epoch 140: ./checkpoint_epoch_140.pth\n"
          ]
        },
        {
          "output_type": "display_data",
          "data": {
            "text/plain": [
              "<IPython.core.display.Javascript object>"
            ],
            "application/javascript": [
              "\n",
              "    async function download(id, filename, size) {\n",
              "      if (!google.colab.kernel.accessAllowed) {\n",
              "        return;\n",
              "      }\n",
              "      const div = document.createElement('div');\n",
              "      const label = document.createElement('label');\n",
              "      label.textContent = `Downloading \"${filename}\": `;\n",
              "      div.appendChild(label);\n",
              "      const progress = document.createElement('progress');\n",
              "      progress.max = size;\n",
              "      div.appendChild(progress);\n",
              "      document.body.appendChild(div);\n",
              "\n",
              "      const buffers = [];\n",
              "      let downloaded = 0;\n",
              "\n",
              "      const channel = await google.colab.kernel.comms.open(id);\n",
              "      // Send a message to notify the kernel that we're ready.\n",
              "      channel.send({})\n",
              "\n",
              "      for await (const message of channel.messages) {\n",
              "        // Send a message to notify the kernel that we're ready.\n",
              "        channel.send({})\n",
              "        if (message.buffers) {\n",
              "          for (const buffer of message.buffers) {\n",
              "            buffers.push(buffer);\n",
              "            downloaded += buffer.byteLength;\n",
              "            progress.value = downloaded;\n",
              "          }\n",
              "        }\n",
              "      }\n",
              "      const blob = new Blob(buffers, {type: 'application/binary'});\n",
              "      const a = document.createElement('a');\n",
              "      a.href = window.URL.createObjectURL(blob);\n",
              "      a.download = filename;\n",
              "      div.appendChild(a);\n",
              "      a.click();\n",
              "      div.remove();\n",
              "    }\n",
              "  "
            ]
          },
          "metadata": {}
        },
        {
          "output_type": "display_data",
          "data": {
            "text/plain": [
              "<IPython.core.display.Javascript object>"
            ],
            "application/javascript": [
              "download(\"download_1f25273b-5bbc-48ad-be37-85a902dac2fb\", \"checkpoint_epoch_140.pth\", 6530194)"
            ]
          },
          "metadata": {}
        },
        {
          "output_type": "stream",
          "name": "stdout",
          "text": [
            "Epoch 140/150, Train Acc: 55.20%, Val Acc: 45.85%, Test Acc: 46.67%\n",
            "Epoch 140/150, Train Loss: 1.6445, Val Loss: 2.1396, Test Loss: 2.0938\n",
            "Epoch 141/150, Train Acc: 55.15%, Val Acc: 45.55%, Test Acc: 46.40%\n",
            "Epoch 141/150, Train Loss: 1.6428, Val Loss: 2.1493, Test Loss: 2.1014\n",
            "Epoch 142/150, Train Acc: 55.68%, Val Acc: 45.91%, Test Acc: 46.63%\n",
            "Epoch 142/150, Train Loss: 1.6331, Val Loss: 2.1388, Test Loss: 2.0925\n",
            "Epoch 143/150, Train Acc: 55.55%, Val Acc: 45.78%, Test Acc: 46.67%\n",
            "Epoch 143/150, Train Loss: 1.6317, Val Loss: 2.1376, Test Loss: 2.0949\n",
            "Epoch 144/150, Train Acc: 55.53%, Val Acc: 45.73%, Test Acc: 46.64%\n",
            "Epoch 144/150, Train Loss: 1.6353, Val Loss: 2.1375, Test Loss: 2.0897\n",
            "Epoch 145/150, Train Acc: 55.55%, Val Acc: 45.88%, Test Acc: 46.74%\n",
            "Epoch 145/150, Train Loss: 1.6299, Val Loss: 2.1413, Test Loss: 2.0953\n",
            "Epoch 146/150, Train Acc: 55.68%, Val Acc: 46.00%, Test Acc: 46.89%\n",
            "Epoch 146/150, Train Loss: 1.6242, Val Loss: 2.1363, Test Loss: 2.0892\n",
            "Epoch 147/150, Train Acc: 55.80%, Val Acc: 45.99%, Test Acc: 46.82%\n",
            "Epoch 147/150, Train Loss: 1.6263, Val Loss: 2.1372, Test Loss: 2.0900\n",
            "Epoch 148/150, Train Acc: 55.90%, Val Acc: 45.96%, Test Acc: 46.80%\n",
            "Epoch 148/150, Train Loss: 1.6225, Val Loss: 2.1370, Test Loss: 2.0902\n",
            "Epoch 149/150, Train Acc: 56.09%, Val Acc: 45.97%, Test Acc: 46.89%\n",
            "Epoch 149/150, Train Loss: 1.6154, Val Loss: 2.1382, Test Loss: 2.0896\n",
            "Checkpoint saved at epoch 150: ./checkpoint_epoch_150.pth\n"
          ]
        },
        {
          "output_type": "display_data",
          "data": {
            "text/plain": [
              "<IPython.core.display.Javascript object>"
            ],
            "application/javascript": [
              "\n",
              "    async function download(id, filename, size) {\n",
              "      if (!google.colab.kernel.accessAllowed) {\n",
              "        return;\n",
              "      }\n",
              "      const div = document.createElement('div');\n",
              "      const label = document.createElement('label');\n",
              "      label.textContent = `Downloading \"${filename}\": `;\n",
              "      div.appendChild(label);\n",
              "      const progress = document.createElement('progress');\n",
              "      progress.max = size;\n",
              "      div.appendChild(progress);\n",
              "      document.body.appendChild(div);\n",
              "\n",
              "      const buffers = [];\n",
              "      let downloaded = 0;\n",
              "\n",
              "      const channel = await google.colab.kernel.comms.open(id);\n",
              "      // Send a message to notify the kernel that we're ready.\n",
              "      channel.send({})\n",
              "\n",
              "      for await (const message of channel.messages) {\n",
              "        // Send a message to notify the kernel that we're ready.\n",
              "        channel.send({})\n",
              "        if (message.buffers) {\n",
              "          for (const buffer of message.buffers) {\n",
              "            buffers.push(buffer);\n",
              "            downloaded += buffer.byteLength;\n",
              "            progress.value = downloaded;\n",
              "          }\n",
              "        }\n",
              "      }\n",
              "      const blob = new Blob(buffers, {type: 'application/binary'});\n",
              "      const a = document.createElement('a');\n",
              "      a.href = window.URL.createObjectURL(blob);\n",
              "      a.download = filename;\n",
              "      div.appendChild(a);\n",
              "      a.click();\n",
              "      div.remove();\n",
              "    }\n",
              "  "
            ]
          },
          "metadata": {}
        },
        {
          "output_type": "display_data",
          "data": {
            "text/plain": [
              "<IPython.core.display.Javascript object>"
            ],
            "application/javascript": [
              "download(\"download_b09f3341-0d90-41a9-a589-23d76acbe814\", \"checkpoint_epoch_150.pth\", 6530194)"
            ]
          },
          "metadata": {}
        },
        {
          "output_type": "stream",
          "name": "stdout",
          "text": [
            "Epoch 150/150, Train Acc: 55.73%, Val Acc: 46.05%, Test Acc: 46.84%\n",
            "Epoch 150/150, Train Loss: 1.6177, Val Loss: 2.1334, Test Loss: 2.0874\n"
          ]
        },
        {
          "output_type": "display_data",
          "data": {
            "text/plain": [
              "<Figure size 600x400 with 1 Axes>"
            ],
            "image/png": "[encoded data removed]"
          },
          "metadata": {}
        },
        {
          "output_type": "display_data",
          "data": {
            "text/plain": [
              "<Figure size 600x400 with 1 Axes>"
            ],
            "image/png": "[encoded data removed]"
          },
          "metadata": {}
        },
        {
          "output_type": "display_data",
          "data": {
            "text/plain": [
              "<Figure size 600x400 with 1 Axes>"
            ],
            "image/png": "[encoded data removed]"
          },
          "metadata": {}
        },
        {
          "output_type": "display_data",
          "data": {
            "text/plain": [
              "<Figure size 600x400 with 1 Axes>"
            ],
            "image/png": "[encoded data removed]"
          },
          "metadata": {}
        },
        {
          "output_type": "display_data",
          "data": {
            "text/plain": [
              "<Figure size 600x400 with 1 Axes>"
            ],
            "image/png": "[encoded data removed]"
          },
          "metadata": {}
        },
        {
          "output_type": "display_data",
          "data": {
            "text/plain": [
              "<Figure size 600x400 with 1 Axes>"
            ],
            "image/png": "[encoded data removed]"
          },
          "metadata": {}
        },
        {
          "output_type": "display_data",
          "data": {
            "text/plain": [
              "<Figure size 640x480 with 0 Axes>"
            ]
          },
          "metadata": {}
        }
      ]
    }
  ]
}