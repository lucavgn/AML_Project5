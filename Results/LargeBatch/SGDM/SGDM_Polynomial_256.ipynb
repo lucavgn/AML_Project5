{
  "nbformat": 4,
  "nbformat_minor": 0,
  "metadata": {
    "colab": {
      "provenance": [],
      "gpuType": "T4"
    },
    "kernelspec": {
      "name": "python3",
      "display_name": "Python 3"
    },
    "language_info": {
      "name": "python"
    },
    "accelerator": "GPU"
  },
  "cells": [
    {
      "cell_type": "code",
      "execution_count": 1,
      "metadata": {
        "colab": {
          "base_uri": "https://localhost:8080/"
        },
        "id": "OfQGCtv5hXiw",
        "outputId": "be4c8ce5-dc2d-4041-c8fb-f567dab878f1"
      },
      "outputs": [
        {
          "output_type": "stream",
          "name": "stdout",
          "text": [
            "Writing large_batch_training.py\n"
          ]
        }
      ],
      "source": [
        "%%writefile large_batch_training.py\n",
        "\n",
        "import os\n",
        "import numpy as np\n",
        "import torch\n",
        "import torch.nn as nn\n",
        "import torch.optim as optim\n",
        "import torchvision\n",
        "import torchvision.transforms as transforms\n",
        "import matplotlib.pyplot as plt\n",
        "import argparse\n",
        "from torch.utils.data import random_split\n",
        "from google.colab import files\n",
        "\n",
        "def compute_mean_std(dataset):\n",
        "    \"\"\"Compute the mean and std of CIFAR-100 dataset.\n",
        "\n",
        "    Args:\n",
        "        dataset: A dataset derived from `torch.utils.data.Dataset`,\n",
        "                 such as `cifar100_training_dataset` or `cifar100_test_dataset`.\n",
        "\n",
        "    Returns:\n",
        "        A tuple containing (mean, std) for the entire dataset.\n",
        "    \"\"\"\n",
        "\n",
        "    # Extract images and labels\n",
        "    data_r = np.stack([np.array(dataset[i][0])[:, :, 0] for i in range(len(dataset))])\n",
        "    data_g = np.stack([np.array(dataset[i][0])[:, :, 1] for i in range(len(dataset))])\n",
        "    data_b = np.stack([np.array(dataset[i][0])[:, :, 2] for i in range(len(dataset))])\n",
        "\n",
        "    # Compute mean and std\n",
        "    mean = np.mean(data_r), np.mean(data_g), np.mean(data_b)\n",
        "    std = np.std(data_r), np.std(data_g), np.std(data_b)\n",
        "\n",
        "    return mean, std\n",
        "\n",
        "# Define LeNet-5 architecture\n",
        "class LeNet5(nn.Module):\n",
        "    def __init__(self):\n",
        "        super(LeNet5, self).__init__()\n",
        "        self.conv1 = nn.Conv2d(3, 64, 5)\n",
        "        self.relu1 = nn.ReLU()\n",
        "        self.pool1 = nn.MaxPool2d(2, 2)\n",
        "        self.conv2 = nn.Conv2d(64, 64, 5)\n",
        "        self.relu2 = nn.ReLU()\n",
        "        self.pool2 = nn.MaxPool2d(2, 2)\n",
        "        self.fc1 = nn.Linear(64 * 5 * 5, 384)\n",
        "        self.relu3 = nn.ReLU()\n",
        "        self.fc2 = nn.Linear(384, 192)\n",
        "        self.relu4 = nn.ReLU()\n",
        "        self.fc3 = nn.Linear(192, 100)\n",
        "\n",
        "    def forward(self, x):\n",
        "        x = self.pool1(self.relu1(self.conv1(x)))\n",
        "        x = self.pool2(self.relu2(self.conv2(x)))\n",
        "        x = x.view(-1, 64 * 5 * 5)\n",
        "        x = self.relu3(self.fc1(x))\n",
        "        x = self.relu4(self.fc2(x))\n",
        "        x = self.fc3(x)\n",
        "        return x\n",
        "\n",
        "# Device setup\n",
        "device = torch.device(\"cuda:0\" if torch.cuda.is_available() else \"cpu\")\n",
        "\n",
        "# Initialize model\n",
        "net = LeNet5().to(device)\n",
        "\n",
        "# Optimizer Subclasses\n",
        "class LARS(optim.Optimizer):\n",
        "    def __init__(self, params, lr, momentum=0.9, weight_decay=0, trust_coefficient=0.001):\n",
        "        # Initialize the optimizer with the learning rate, momentum, weight decay, and trust coefficient\n",
        "        defaults = dict(lr=lr, momentum=momentum, weight_decay=weight_decay, trust_coefficient=trust_coefficient)\n",
        "        super(LARS, self).__init__(params, defaults)\n",
        "\n",
        "    def step(self, closure=None):\n",
        "        loss = None\n",
        "        if closure is not None:\n",
        "            # If a closure is provided, evaluate it (commonly used for re-evaluating loss)\n",
        "            loss = closure()\n",
        "        for group in self.param_groups:\n",
        "            for p in group['params']:\n",
        "                if p.grad is None:\n",
        "                   # Skip parameters that have no gradient\n",
        "                    continue\n",
        "                grad = p.grad.data # Get the gradient of the parameter\n",
        "                # Retrieve or initialize the optimizer's internal state\n",
        "                state = self.state[p]\n",
        "                if len(state) == 0:\n",
        "                    state['momentum_buffer'] = torch.clone(grad).detach()\n",
        "                # Apply weight decay directly to the gradient\n",
        "                if group['weight_decay'] != 0:\n",
        "                    grad.add_(p.data, alpha=group['weight_decay'])\n",
        "                # Compute the norms of the parameter and its gradient\n",
        "                param_norm = torch.norm(p.data)\n",
        "                grad_norm = torch.norm(grad)\n",
        "                # Compute local learning rate based on the trust coefficient and norms\n",
        "                if param_norm > 0 and grad_norm > 0:\n",
        "                    local_lr = group['trust_coefficient'] * param_norm / (grad_norm + 1e-8)\n",
        "                    grad = grad.mul(local_lr) # Scale the gradient with the local learning rate\n",
        "                # Update the momentum buffer\n",
        "                momentum_buffer = state['momentum_buffer']\n",
        "                momentum_buffer.mul_(group['momentum']).add_(grad) #Momentum update\n",
        "                state['momentum_buffer'] = momentum_buffer\n",
        "                # Update the parameter\n",
        "                p.data.add_(-group['lr'], momentum_buffer) # Gradient descent step with learning rate\n",
        "        return loss\n",
        "\n",
        "class LAMB(optim.Optimizer):\n",
        "    def __init__(self, params, lr, weight_decay=0, betas=(0.9, 0.999), eps=1e-8):\n",
        "        # Initialize the optimizer with learning rate, weight decay, betas for moment updates, and epsilon for stability\n",
        "        defaults = dict(lr=lr, weight_decay=weight_decay, betas=betas, eps=eps)\n",
        "        super(LAMB, self).__init__(params, defaults)\n",
        "\n",
        "    def step(self, closure=None):\n",
        "        loss = None\n",
        "        if closure is not None:\n",
        "            # If a closure is provided, evaluate it\n",
        "            loss = closure()\n",
        "        for group in self.param_groups:\n",
        "            for p in group['params']:\n",
        "                if p.grad is None:\n",
        "                    # Skip parameters that have no gradient\n",
        "                    continue\n",
        "                grad = p.grad.data # Get the gradient of the parameter\n",
        "                # Retrieve or initialize the optimizer's internal state\n",
        "                state = self.state[p]\n",
        "                # Initialize state\n",
        "                if len(state) == 0:\n",
        "                    # Initialize the state (step counter, first moment, second moment)\n",
        "                    state['step'] = 0\n",
        "                    state['exp_avg'] = torch.zeros_like(p.data) # First moment (mean of gradients)\n",
        "                    state['exp_avg_sq'] = torch.zeros_like(p.data) # Second moment (mean of squared gradients)\n",
        "                exp_avg = state['exp_avg']\n",
        "                exp_avg_sq = state['exp_avg_sq']\n",
        "                beta1, beta2 = group['betas']  # Coefficients for moment updates\n",
        "                state['step'] += 1 # Increment step count\n",
        "                step = state['step']\n",
        "                # Decay the first and second moment running average coefficients\n",
        "                # Update first and second moments\n",
        "                exp_avg.mul_(beta1).add_(grad, alpha=1 - beta1) # Exponential moving average of gradients\n",
        "                exp_avg_sq.mul_(beta2).addcmul_(grad, grad, value=1 - beta2) # Exponential moving average of squared gradients\n",
        "                # Correct bias in the first and second moments\n",
        "                bias_correction1 = 1 - beta1 ** step\n",
        "                bias_correction2 = 1 - beta2 ** step\n",
        "                corrected_exp_avg = exp_avg / bias_correction1\n",
        "                corrected_exp_avg_sq = exp_avg_sq / bias_correction2\n",
        "                # Compute the denominator for scaling the update\n",
        "                denom = corrected_exp_avg_sq.sqrt().add_(group['eps']) # Stability epsilon\n",
        "                # Compute the step update\n",
        "                update = corrected_exp_avg / denom\n",
        "                # Apply weight decay directly to the parameters\n",
        "                if group['weight_decay'] != 0:\n",
        "                    update.add_(p.data, alpha=group['weight_decay'])\n",
        "                # Compute the trust ratio (norm of parameters vs norm of update)\n",
        "                param_norm = torch.norm(p.data)\n",
        "                update_norm = torch.norm(update)\n",
        "                trust_ratio = 1.0  # Default trust ratio\n",
        "                if param_norm > 0 and update_norm > 0:\n",
        "                    trust_ratio = param_norm / update_norm\n",
        "                # Update the parameters\n",
        "                p.data.add_(-group['lr'] * trust_ratio, update)\n",
        "        return loss\n",
        "\n",
        "class SqrtLRScheduler(torch.optim.lr_scheduler._LRScheduler):\n",
        "    def __init__(self, optimizer, base_lr, batch_size, warmup_epochs, total_epochs, reference_batch_size, verbose=False):\n",
        "        \"\"\"\n",
        "        Args:\n",
        "            optimizer: PyTorch optimizer (e.g., Adam, LAMB, LARS).\n",
        "            base_lr: Base learning rate for the reference batch size.\n",
        "            batch_size: Current batch size.\n",
        "            warmup_epochs: Number of warmup epochs.\n",
        "            total_epochs: Total number of epochs.\n",
        "            reference_batch_size: Batch size for which the base_lr is defined.\n",
        "            verbose: Whether to print LR updates.\n",
        "        \"\"\"\n",
        "        self.base_lr = base_lr\n",
        "        self.batch_size = batch_size\n",
        "        self.scaled_lr = base_lr * (batch_size / reference_batch_size) ** 0.5\n",
        "        self.warmup_epochs = warmup_epochs\n",
        "        self.total_epochs = total_epochs\n",
        "        self.verbose = verbose\n",
        "        super(SqrtLRScheduler, self).__init__(optimizer)\n",
        "\n",
        "    def get_lr(self):\n",
        "        epoch = self.last_epoch\n",
        "        if epoch < self.warmup_epochs:\n",
        "            # Linear warmup scaling\n",
        "            warmup_factor = (epoch + 1) / self.warmup_epochs\n",
        "            return [warmup_factor * self.scaled_lr for _ in self.optimizer.param_groups]\n",
        "        else:\n",
        "            # polynomially decaying learning rate of ηt = η0×(1−t/T)\n",
        "            if epoch == self.warmup_epochs:\n",
        "                print(f\"Warmup phase completed at epoch {epoch}. Switching to constant learning rate.\")\n",
        "            return [self.scaled_lr * ( 1 - ( (epoch - self.warmup_epochs) / (self.total_epochs - self.warmup_epochs))) for _ in self.optimizer.param_groups]\n",
        "\n",
        "# Command-line arguments\n",
        "parser = argparse.ArgumentParser(description='Train with Large-Batch Optimizers')\n",
        "parser.add_argument('--optimizer', type=str, default='SGDM', choices=['SGDM', 'AdamW', 'LARS', 'LAMB'],\n",
        "                    help='Choose optimizer')\n",
        "parser.add_argument('--batch-size', type=int, default=128, help='Batch size')\n",
        "parser.add_argument('--momentum', type=float, default=0.9, help='Momentum for SGDM and LARS')\n",
        "parser.add_argument('--weight-decay', type=float, default=1e-5, help='Weight decay')\n",
        "parser.add_argument('--b1', type=float, default=0.9, help='Beta1 for AdamW')\n",
        "parser.add_argument('--b2', type=float, default=0.999, help='Beta2 for AdamW')\n",
        "parser.add_argument('--trust-coefficient', type=float, default=0.001, help='Trust coefficient for LARS')\n",
        "parser.add_argument('--epochs', type=int, default=150, help='Number of epochs')\n",
        "parser.add_argument('--warmup-epochs', type=int, default=5, help='Number of epochs')\n",
        "args = parser.parse_args()\n",
        "\n",
        "\n",
        "torch.manual_seed(42) # Set the seed for reproducibility\n",
        "torch.cuda.manual_seed_all(42) # Set the seed for reproducibility on GPU\n",
        "\n",
        "# use the same mean and std to add consistency to all datasets\n",
        "data = torchvision.datasets.CIFAR100(root='./data', train=True, download=True, transform=transforms.ToTensor())\n",
        "mean, std = compute_mean_std(data)\n",
        "\n",
        "# Load and split CIFAR-100 dataset\n",
        "train_transform = transforms.Compose([\n",
        "  transforms.RandomHorizontalFlip(),\n",
        "  # transforms.RandomRotation(15),\n",
        "  transforms.RandomCrop(32, padding=4),\n",
        "  # transforms.RandomAffine(degrees=0, translate=(0.1, 0.1)),\n",
        "  transforms.RandomPerspective(distortion_scale=0.2, p=0.5),\n",
        "  transforms.ColorJitter(brightness=0.3, contrast=0.3, saturation=0.3, hue=0.2),\n",
        "  transforms.ToTensor(),\n",
        "  transforms.Normalize(mean, std)\n",
        "])\n",
        "\n",
        "val_transform = transforms.Compose([\n",
        "    transforms.ToTensor(), # Convert into tensor\n",
        "    transforms.Normalize(mean, std)  # Normalization\n",
        "])\n",
        "\n",
        "test_transform = transforms.Compose([\n",
        "    transforms.CenterCrop(24),\n",
        "    transforms.Pad(4),\n",
        "    transforms.ToTensor(),  # Convert to PyTorch tensor\n",
        "    transforms.Normalize(mean, std)\n",
        "])\n",
        "\n",
        "trainset = torchvision.datasets.CIFAR100(root='./data', train=True, download=True, transform=train_transform)\n",
        "valset = torchvision.datasets.CIFAR100(root='./data', train=True, download=True, transform=val_transform)\n",
        "indices = torch.randperm(len(trainset))\n",
        "val_size = int(0.2*len(trainset))\n",
        "trainset = torch.utils.data.Subset(trainset, indices[:-val_size])\n",
        "valset = torch.utils.data.Subset(valset, indices[-val_size:])\n",
        "\n",
        "trainloader = torch.utils.data.DataLoader(trainset, batch_size=args.batch_size, shuffle=True, num_workers=2)\n",
        "valloader = torch.utils.data.DataLoader(valset, batch_size=args.batch_size, shuffle=False, num_workers=2)\n",
        "\n",
        "testset = torchvision.datasets.CIFAR100(root='./data', train=False, download=True, transform=test_transform)\n",
        "testloader = torch.utils.data.DataLoader(testset, batch_size=args.batch_size, shuffle=False, num_workers=2)\n",
        "\n",
        "\n",
        "# Fixed parameter from paper [18] to calculate the square root LR scaling value\n",
        "# base_lr = 5 / (2**3 * 10**3)\n",
        "# reference_batch_size = 512\n",
        "#scaled_lr = base_lr * (args.batch_size / reference_batch_size) ** 0.5\n",
        "\n",
        "# Mapping optimizers\n",
        "if args.optimizer == 'SGDM':\n",
        "    base_lr = 1e-2\n",
        "    reference_batch_size = 64\n",
        "    scaled_lr = base_lr * (args.batch_size / reference_batch_size) ** 0.5\n",
        "    optimizer = optim.SGD(net.parameters(), lr=scaled_lr, momentum=args.momentum, weight_decay=args.weight_decay)\n",
        "elif args.optimizer == 'AdamW':\n",
        "    base_lr = 5e-4\n",
        "    reference_batch_size = 64\n",
        "    scaled_lr = base_lr * (args.batch_size / reference_batch_size) ** 0.5\n",
        "    optimizer = optim.AdamW(net.parameters(), lr=scaled_lr, betas=(args.b1, args.b2), weight_decay=args.weight_decay)\n",
        "elif args.optimizer == 'LARS':\n",
        "    base_lr = 5 / (2**3 * 10**3) # to define\n",
        "    reference_batch_size = 512\n",
        "    scaled_lr = base_lr * (args.batch_size / reference_batch_size) ** 0.5\n",
        "    optimizer = LARS(net.parameters(), lr=scaled_lr, momentum=args.momentum, weight_decay=args.weight_decay, trust_coefficient=args.trust_coefficient)\n",
        "elif args.optimizer == 'LAMB':\n",
        "    base_lr = 5 / (2**3 * 10**3) # to define\n",
        "    reference_batch_size = 512\n",
        "    scaled_lr = base_lr * (args.batch_size / reference_batch_size) ** 0.5\n",
        "    optimizer = LAMB(net.parameters(), lr=scaled_lr, weight_decay=args.weight_decay)\n",
        "\n",
        "criterion = nn.CrossEntropyLoss()\n",
        "\n",
        "# scheduler should be e square root LR scaling rule and linear-epoch warmup scheduling to automatically adjust learning rate\n",
        "scheduler = SqrtLRScheduler(\n",
        "    optimizer = optimizer,\n",
        "    base_lr = base_lr,\n",
        "    batch_size = args.batch_size,\n",
        "    warmup_epochs = args.warmup_epochs,\n",
        "    total_epochs = args.epochs,\n",
        "    reference_batch_size = reference_batch_size,\n",
        "    verbose = True)\n",
        "\n",
        "# Training Function\n",
        "def train_model(optimizer, scheduler, model, criterion, trainloader, valloader , testloader, device, epochs, save_checkpoint_interval=10):\n",
        "    train_losses, val_losses, test_losses = [], [], []\n",
        "    train_accuracies, val_accuracies, test_accuracies = [], [], []\n",
        "    for epoch in range(epochs):\n",
        "        model.train()\n",
        "        running_loss, correct_train, total_train = 0.0, 0, 0\n",
        "        for inputs, labels in trainloader:\n",
        "            inputs, labels = inputs.to(device), labels.to(device)\n",
        "            optimizer.zero_grad()\n",
        "            outputs = model(inputs)\n",
        "            loss = criterion(outputs, labels)\n",
        "            loss.backward()\n",
        "            optimizer.step()\n",
        "            running_loss += loss.item()\n",
        "            _, predicted = outputs.max(1)\n",
        "            total_train += labels.size(0)\n",
        "            correct_train += predicted.eq(labels).sum().item()\n",
        "        train_loss = running_loss / len(trainloader)\n",
        "        train_accuracy = 100. * correct_train / total_train\n",
        "        train_losses.append(train_loss)\n",
        "        train_accuracies.append(train_accuracy)\n",
        "\n",
        "        # Validation\n",
        "        model.eval()\n",
        "        correct_val, total_val, val_loss = 0, 0, 0.0\n",
        "        with torch.no_grad():\n",
        "            for inputs, labels in valloader:\n",
        "                inputs, labels = inputs.to(device), labels.to(device)\n",
        "                outputs = model(inputs)\n",
        "                loss = criterion(outputs, labels)\n",
        "                val_loss += loss.item()\n",
        "                _, predicted = outputs.max(1)\n",
        "                total_val += labels.size(0)\n",
        "                correct_val += predicted.eq(labels).sum().item()\n",
        "        val_loss /= len(valloader)\n",
        "        val_losses.append(val_loss)\n",
        "        val_accuracy = 100. * correct_val / total_val\n",
        "        val_accuracies.append(val_accuracy)\n",
        "\n",
        "        '''\n",
        "        # Early Stopping\n",
        "        if val_loss < best_val_loss:\n",
        "          best_val_loss = val_loss\n",
        "          epochs_no_improve = 0\n",
        "        else:\n",
        "          epochs_no_improve += 1\n",
        "\n",
        "        if epochs_no_improve == patience:\n",
        "          print(\"Early stopping!\")\n",
        "          break\n",
        "        '''\n",
        "\n",
        "        # Test\n",
        "        correct_test, total_test, test_loss = 0, 0, 0.0\n",
        "        with torch.no_grad():\n",
        "            for inputs, labels in testloader:\n",
        "                inputs, labels = inputs.to(device), labels.to(device)\n",
        "                outputs = model(inputs)\n",
        "                loss = criterion(outputs, labels)\n",
        "                test_loss += loss.item()\n",
        "                _, predicted = outputs.max(1)\n",
        "                total_test += labels.size(0)\n",
        "                correct_test += predicted.eq(labels).sum().item()\n",
        "        test_loss /= len(testloader)\n",
        "        test_losses.append(test_loss)\n",
        "        test_accuracy = 100. * correct_test / total_test\n",
        "        test_accuracies.append(test_accuracy)\n",
        "\n",
        "        scheduler.step()\n",
        "\n",
        "        # Checkpointing\n",
        "        if (epoch + 1) % save_checkpoint_interval == 0:\n",
        "            checkpoint_filename = f'checkpoint_epoch_{epoch + 1}.pth'\n",
        "            checkpoint = {\n",
        "                'epoch': epoch + 1,\n",
        "                'model_state_dict': model.state_dict(),\n",
        "                'optimizer_state_dict': optimizer.state_dict(),\n",
        "                'scheduler_state_dict': scheduler.state_dict(),\n",
        "                'loss': loss.item(),\n",
        "            }\n",
        "            checkpoint_path = os.path.join('./', checkpoint_filename)\n",
        "            torch.save(checkpoint, checkpoint_path)\n",
        "            print(f'Checkpoint saved at epoch {epoch + 1}: {checkpoint_path}')\n",
        "\n",
        "            # Download the checkpoint\n",
        "            files.download(checkpoint_filename)\n",
        "\n",
        "        print(f'Epoch {epoch+1}/{epochs}, Train Acc: {train_accuracy:.2f}%, Val Acc: {val_accuracy:.2f}%, Test Acc: {test_accuracy:.2f}%')\n",
        "        print(f'Epoch {epoch+1}/{epochs}, Train Loss: {train_loss:.4f}, Val Loss: {val_loss:.4f}, Test Loss: {test_loss:.4f}')\n",
        "\n",
        "    return train_losses, val_losses, test_losses, train_accuracies, val_accuracies, test_accuracies\n",
        "\n",
        "# Train the model\n",
        "print(f\"--- Train with {args.optimizer} ---\")\n",
        "train_loss, val_loss, test_loss, train_acc, val_acc, test_acc = train_model(optimizer, scheduler, net, criterion, trainloader, valloader, testloader, device, args.epochs)\n",
        "\n",
        "# Save model\n",
        "torch.save(net.state_dict(), f'net_{args.optimizer}.pth')\n",
        "\n",
        "# Plot results\n",
        "# Plot Training Loss\n",
        "plt.figure(figsize=(6, 4))\n",
        "plt.plot(train_loss, label='Train Loss')\n",
        "plt.title('Training Loss')\n",
        "plt.xlabel('Epoch')\n",
        "plt.ylabel('Loss')\n",
        "plt.legend()\n",
        "plt.tight_layout()\n",
        "plt.savefig('train_loss.png')\n",
        "plt.show()\n",
        "\n",
        "# Plot Training Accuracy\n",
        "plt.figure(figsize=(6, 4))\n",
        "plt.plot(train_acc, label='Train Accuracy')\n",
        "plt.title('Training Accuracy')\n",
        "plt.xlabel('Epoch')\n",
        "plt.ylabel('Accuracy (%)')\n",
        "plt.legend()\n",
        "plt.tight_layout()\n",
        "plt.savefig('train_accuracy.png')\n",
        "plt.show()\n",
        "\n",
        "# Plot Validation Loss\n",
        "plt.figure(figsize=(6, 4))\n",
        "plt.plot(val_loss, label='Validation Loss')\n",
        "plt.title('Validation Loss')\n",
        "plt.xlabel('Epoch')\n",
        "plt.ylabel('Loss')\n",
        "plt.legend()\n",
        "plt.tight_layout()\n",
        "plt.savefig('val_loss.png')\n",
        "plt.show()\n",
        "\n",
        "# Plot Validation Accuracy\n",
        "plt.figure(figsize=(6, 4))\n",
        "plt.plot(val_acc, label='Validation Accuracy')\n",
        "plt.title('Validation Accuracy')\n",
        "plt.xlabel('Epoch')\n",
        "plt.ylabel('Accuracy (%)')\n",
        "plt.legend()\n",
        "plt.tight_layout()\n",
        "plt.savefig('val_accuracy.png')\n",
        "plt.show()\n",
        "\n",
        "# Plot Test Loss\n",
        "plt.figure(figsize=(6, 4))\n",
        "plt.plot(test_loss, label='Test Loss')\n",
        "plt.title('Test Loss')\n",
        "plt.xlabel('Epoch')\n",
        "plt.ylabel('Loss')\n",
        "plt.legend()\n",
        "plt.tight_layout()\n",
        "plt.savefig('test_loss.png')\n",
        "plt.show()\n",
        "\n",
        "# Plot Test Accuracy\n",
        "plt.figure(figsize=(6, 4))\n",
        "plt.plot(test_acc, label='Test Accuracy')\n",
        "plt.title('Test Accuracy')\n",
        "plt.xlabel('Epoch')\n",
        "plt.ylabel('Accuracy (%)')\n",
        "plt.legend()\n",
        "plt.tight_layout()\n",
        "plt.savefig('test_accuracy.png')\n",
        "plt.show()"
      ]
    },
    {
      "cell_type": "code",
      "source": [
        "%run large_batch_training.py --optimizer SGDM --batch-size 256 --momentum 0.9 --weight-decay 4e-4 --epochs 150 --warmup-epochs 5\n",
        "\n"
      ],
      "metadata": {
        "colab": {
          "base_uri": "https://localhost:8080/",
          "height": 1000
        },
        "id": "WQMa40BkVRyA",
        "outputId": "8e3e0049-c5d6-4845-879e-b81d648517b5"
      },
      "execution_count": 2,
      "outputs": [
        {
          "metadata": {
            "tags": null
          },
          "name": "stdout",
          "output_type": "stream",
          "text": [
            "Downloading https://www.cs.toronto.edu/~kriz/cifar-100-python.tar.gz to ./data/cifar-100-python.tar.gz\n"
          ]
        },
        {
          "metadata": {
            "tags": null
          },
          "name": "stderr",
          "output_type": "stream",
          "text": [
            "100%|██████████| 169M/169M [00:18<00:00, 9.09MB/s]\n"
          ]
        },
        {
          "metadata": {
            "tags": null
          },
          "name": "stdout",
          "output_type": "stream",
          "text": [
            "Extracting ./data/cifar-100-python.tar.gz to ./data\n",
            "Files already downloaded and verified\n",
            "Files already downloaded and verified\n",
            "Files already downloaded and verified\n",
            "--- Train with SGDM ---\n",
            "Epoch 1/150, Train Acc: 1.19%, Val Acc: 1.75%, Test Acc: 1.47%\n",
            "Epoch 1/150, Train Loss: 4.6036, Val Loss: 4.5996, Test Loss: 4.5983\n",
            "Epoch 2/150, Train Acc: 2.46%, Val Acc: 4.37%, Test Acc: 4.33%\n",
            "Epoch 2/150, Train Loss: 4.5426, Val Loss: 4.2915, Test Loss: 4.3177\n",
            "Epoch 3/150, Train Acc: 5.88%, Val Acc: 8.80%, Test Acc: 8.79%\n",
            "Epoch 3/150, Train Loss: 4.2128, Val Loss: 3.9897, Test Loss: 4.0155\n",
            "Epoch 4/150, Train Acc: 8.67%, Val Acc: 11.33%, Test Acc: 10.91%\n",
            "Epoch 4/150, Train Loss: 4.0135, Val Loss: 3.8097, Test Loss: 3.8654\n",
            "Warmup phase completed at epoch 5. Switching to constant learning rate.\n",
            "Epoch 5/150, Train Acc: 11.08%, Val Acc: 15.21%, Test Acc: 13.84%\n",
            "Epoch 5/150, Train Loss: 3.8375, Val Loss: 3.6048, Test Loss: 3.6785\n",
            "Epoch 6/150, Train Acc: 13.89%, Val Acc: 17.63%, Test Acc: 15.65%\n",
            "Epoch 6/150, Train Loss: 3.6732, Val Loss: 3.4736, Test Loss: 3.5338\n",
            "Epoch 7/150, Train Acc: 16.54%, Val Acc: 21.34%, Test Acc: 17.08%\n",
            "Epoch 7/150, Train Loss: 3.5062, Val Loss: 3.2569, Test Loss: 3.4507\n",
            "Epoch 8/150, Train Acc: 18.84%, Val Acc: 23.72%, Test Acc: 20.72%\n",
            "Epoch 8/150, Train Loss: 3.3714, Val Loss: 3.1304, Test Loss: 3.2533\n",
            "Epoch 9/150, Train Acc: 21.14%, Val Acc: 26.25%, Test Acc: 23.40%\n",
            "Epoch 9/150, Train Loss: 3.2415, Val Loss: 3.0018, Test Loss: 3.1804\n",
            "Checkpoint saved at epoch 10: ./checkpoint_epoch_10.pth\n"
          ]
        },
        {
          "data": {
            "application/javascript": [
              "\n",
              "    async function download(id, filename, size) {\n",
              "      if (!google.colab.kernel.accessAllowed) {\n",
              "        return;\n",
              "      }\n",
              "      const div = document.createElement('div');\n",
              "      const label = document.createElement('label');\n",
              "      label.textContent = `Downloading \"${filename}\": `;\n",
              "      div.appendChild(label);\n",
              "      const progress = document.createElement('progress');\n",
              "      progress.max = size;\n",
              "      div.appendChild(progress);\n",
              "      document.body.appendChild(div);\n",
              "\n",
              "      const buffers = [];\n",
              "      let downloaded = 0;\n",
              "\n",
              "      const channel = await google.colab.kernel.comms.open(id);\n",
              "      // Send a message to notify the kernel that we're ready.\n",
              "      channel.send({})\n",
              "\n",
              "      for await (const message of channel.messages) {\n",
              "        // Send a message to notify the kernel that we're ready.\n",
              "        channel.send({})\n",
              "        if (message.buffers) {\n",
              "          for (const buffer of message.buffers) {\n",
              "            buffers.push(buffer);\n",
              "            downloaded += buffer.byteLength;\n",
              "            progress.value = downloaded;\n",
              "          }\n",
              "        }\n",
              "      }\n",
              "      const blob = new Blob(buffers, {type: 'application/binary'});\n",
              "      const a = document.createElement('a');\n",
              "      a.href = window.URL.createObjectURL(blob);\n",
              "      a.download = filename;\n",
              "      div.appendChild(a);\n",
              "      a.click();\n",
              "      div.remove();\n",
              "    }\n",
              "  "
            ],
            "text/plain": [
              "<IPython.core.display.Javascript object>"
            ]
          },
          "metadata": {},
          "output_type": "display_data"
        },
        {
          "data": {
            "application/javascript": [
              "download(\"download_ca35ece6-e98e-463a-8139-94d60ed5afe3\", \"checkpoint_epoch_10.pth\", 6530170)"
            ],
            "text/plain": [
              "<IPython.core.display.Javascript object>"
            ]
          },
          "metadata": {},
          "output_type": "display_data"
        },
        {
          "metadata": {
            "tags": null
          },
          "name": "stdout",
          "output_type": "stream",
          "text": [
            "Epoch 10/150, Train Acc: 23.21%, Val Acc: 28.28%, Test Acc: 23.05%\n",
            "Epoch 10/150, Train Loss: 3.1384, Val Loss: 2.9186, Test Loss: 3.1855\n",
            "Epoch 11/150, Train Acc: 24.79%, Val Acc: 28.09%, Test Acc: 24.47%\n",
            "Epoch 11/150, Train Loss: 3.0458, Val Loss: 2.8719, Test Loss: 3.0731\n",
            "Epoch 12/150, Train Acc: 26.64%, Val Acc: 30.97%, Test Acc: 27.38%\n",
            "Epoch 12/150, Train Loss: 2.9542, Val Loss: 2.7473, Test Loss: 2.9428\n",
            "Epoch 13/150, Train Acc: 28.19%, Val Acc: 30.92%, Test Acc: 26.30%\n",
            "Epoch 13/150, Train Loss: 2.8831, Val Loss: 2.7245, Test Loss: 3.0033\n",
            "Epoch 14/150, Train Acc: 29.22%, Val Acc: 32.27%, Test Acc: 28.38%\n",
            "Epoch 14/150, Train Loss: 2.8153, Val Loss: 2.6737, Test Loss: 2.8695\n",
            "Epoch 15/150, Train Acc: 30.68%, Val Acc: 33.74%, Test Acc: 29.86%\n",
            "Epoch 15/150, Train Loss: 2.7692, Val Loss: 2.6184, Test Loss: 2.8487\n",
            "Epoch 16/150, Train Acc: 31.61%, Val Acc: 35.28%, Test Acc: 31.61%\n",
            "Epoch 16/150, Train Loss: 2.7083, Val Loss: 2.5241, Test Loss: 2.7226\n",
            "Epoch 17/150, Train Acc: 32.73%, Val Acc: 37.42%, Test Acc: 32.11%\n",
            "Epoch 17/150, Train Loss: 2.6607, Val Loss: 2.4518, Test Loss: 2.7458\n",
            "Epoch 18/150, Train Acc: 33.44%, Val Acc: 37.67%, Test Acc: 33.05%\n",
            "Epoch 18/150, Train Loss: 2.6017, Val Loss: 2.4349, Test Loss: 2.6776\n",
            "Epoch 19/150, Train Acc: 34.38%, Val Acc: 37.88%, Test Acc: 33.51%\n",
            "Epoch 19/150, Train Loss: 2.5729, Val Loss: 2.4158, Test Loss: 2.6457\n",
            "Checkpoint saved at epoch 20: ./checkpoint_epoch_20.pth\n"
          ]
        },
        {
          "data": {
            "application/javascript": [
              "\n",
              "    async function download(id, filename, size) {\n",
              "      if (!google.colab.kernel.accessAllowed) {\n",
              "        return;\n",
              "      }\n",
              "      const div = document.createElement('div');\n",
              "      const label = document.createElement('label');\n",
              "      label.textContent = `Downloading \"${filename}\": `;\n",
              "      div.appendChild(label);\n",
              "      const progress = document.createElement('progress');\n",
              "      progress.max = size;\n",
              "      div.appendChild(progress);\n",
              "      document.body.appendChild(div);\n",
              "\n",
              "      const buffers = [];\n",
              "      let downloaded = 0;\n",
              "\n",
              "      const channel = await google.colab.kernel.comms.open(id);\n",
              "      // Send a message to notify the kernel that we're ready.\n",
              "      channel.send({})\n",
              "\n",
              "      for await (const message of channel.messages) {\n",
              "        // Send a message to notify the kernel that we're ready.\n",
              "        channel.send({})\n",
              "        if (message.buffers) {\n",
              "          for (const buffer of message.buffers) {\n",
              "            buffers.push(buffer);\n",
              "            downloaded += buffer.byteLength;\n",
              "            progress.value = downloaded;\n",
              "          }\n",
              "        }\n",
              "      }\n",
              "      const blob = new Blob(buffers, {type: 'application/binary'});\n",
              "      const a = document.createElement('a');\n",
              "      a.href = window.URL.createObjectURL(blob);\n",
              "      a.download = filename;\n",
              "      div.appendChild(a);\n",
              "      a.click();\n",
              "      div.remove();\n",
              "    }\n",
              "  "
            ],
            "text/plain": [
              "<IPython.core.display.Javascript object>"
            ]
          },
          "metadata": {},
          "output_type": "display_data"
        },
        {
          "data": {
            "application/javascript": [
              "download(\"download_331ae00c-3e0f-4f73-a176-fcdf0f360e8d\", \"checkpoint_epoch_20.pth\", 6530170)"
            ],
            "text/plain": [
              "<IPython.core.display.Javascript object>"
            ]
          },
          "metadata": {},
          "output_type": "display_data"
        },
        {
          "metadata": {
            "tags": null
          },
          "name": "stdout",
          "output_type": "stream",
          "text": [
            "Epoch 20/150, Train Acc: 35.28%, Val Acc: 38.51%, Test Acc: 32.18%\n",
            "Epoch 20/150, Train Loss: 2.5229, Val Loss: 2.4032, Test Loss: 2.7139\n",
            "Epoch 21/150, Train Acc: 36.36%, Val Acc: 38.02%, Test Acc: 32.12%\n",
            "Epoch 21/150, Train Loss: 2.4776, Val Loss: 2.4270, Test Loss: 2.6996\n",
            "Epoch 22/150, Train Acc: 36.87%, Val Acc: 40.10%, Test Acc: 33.23%\n",
            "Epoch 22/150, Train Loss: 2.4379, Val Loss: 2.3303, Test Loss: 2.6570\n",
            "Epoch 23/150, Train Acc: 37.55%, Val Acc: 40.36%, Test Acc: 35.18%\n",
            "Epoch 23/150, Train Loss: 2.4077, Val Loss: 2.3155, Test Loss: 2.5518\n",
            "Epoch 24/150, Train Acc: 38.19%, Val Acc: 41.38%, Test Acc: 35.19%\n",
            "Epoch 24/150, Train Loss: 2.3885, Val Loss: 2.2865, Test Loss: 2.5818\n",
            "Epoch 25/150, Train Acc: 39.06%, Val Acc: 40.59%, Test Acc: 35.48%\n",
            "Epoch 25/150, Train Loss: 2.3466, Val Loss: 2.3018, Test Loss: 2.5414\n",
            "Epoch 26/150, Train Acc: 39.16%, Val Acc: 40.03%, Test Acc: 33.81%\n",
            "Epoch 26/150, Train Loss: 2.3332, Val Loss: 2.3119, Test Loss: 2.6414\n",
            "Epoch 27/150, Train Acc: 39.65%, Val Acc: 41.69%, Test Acc: 35.52%\n",
            "Epoch 27/150, Train Loss: 2.3031, Val Loss: 2.2641, Test Loss: 2.5491\n",
            "Epoch 28/150, Train Acc: 40.78%, Val Acc: 41.16%, Test Acc: 34.27%\n",
            "Epoch 28/150, Train Loss: 2.2733, Val Loss: 2.2631, Test Loss: 2.6320\n",
            "Epoch 29/150, Train Acc: 41.00%, Val Acc: 42.72%, Test Acc: 36.65%\n",
            "Epoch 29/150, Train Loss: 2.2547, Val Loss: 2.2115, Test Loss: 2.5145\n",
            "Checkpoint saved at epoch 30: ./checkpoint_epoch_30.pth\n"
          ]
        },
        {
          "data": {
            "application/javascript": [
              "\n",
              "    async function download(id, filename, size) {\n",
              "      if (!google.colab.kernel.accessAllowed) {\n",
              "        return;\n",
              "      }\n",
              "      const div = document.createElement('div');\n",
              "      const label = document.createElement('label');\n",
              "      label.textContent = `Downloading \"${filename}\": `;\n",
              "      div.appendChild(label);\n",
              "      const progress = document.createElement('progress');\n",
              "      progress.max = size;\n",
              "      div.appendChild(progress);\n",
              "      document.body.appendChild(div);\n",
              "\n",
              "      const buffers = [];\n",
              "      let downloaded = 0;\n",
              "\n",
              "      const channel = await google.colab.kernel.comms.open(id);\n",
              "      // Send a message to notify the kernel that we're ready.\n",
              "      channel.send({})\n",
              "\n",
              "      for await (const message of channel.messages) {\n",
              "        // Send a message to notify the kernel that we're ready.\n",
              "        channel.send({})\n",
              "        if (message.buffers) {\n",
              "          for (const buffer of message.buffers) {\n",
              "            buffers.push(buffer);\n",
              "            downloaded += buffer.byteLength;\n",
              "            progress.value = downloaded;\n",
              "          }\n",
              "        }\n",
              "      }\n",
              "      const blob = new Blob(buffers, {type: 'application/binary'});\n",
              "      const a = document.createElement('a');\n",
              "      a.href = window.URL.createObjectURL(blob);\n",
              "      a.download = filename;\n",
              "      div.appendChild(a);\n",
              "      a.click();\n",
              "      div.remove();\n",
              "    }\n",
              "  "
            ],
            "text/plain": [
              "<IPython.core.display.Javascript object>"
            ]
          },
          "metadata": {},
          "output_type": "display_data"
        },
        {
          "data": {
            "application/javascript": [
              "download(\"download_9f25e01f-bd7a-4fe9-97b1-c6612631f952\", \"checkpoint_epoch_30.pth\", 6530170)"
            ],
            "text/plain": [
              "<IPython.core.display.Javascript object>"
            ]
          },
          "metadata": {},
          "output_type": "display_data"
        },
        {
          "metadata": {
            "tags": null
          },
          "name": "stdout",
          "output_type": "stream",
          "text": [
            "Epoch 30/150, Train Acc: 41.46%, Val Acc: 42.12%, Test Acc: 34.86%\n",
            "Epoch 30/150, Train Loss: 2.2263, Val Loss: 2.2685, Test Loss: 2.6408\n",
            "Epoch 31/150, Train Acc: 42.18%, Val Acc: 43.59%, Test Acc: 37.80%\n",
            "Epoch 31/150, Train Loss: 2.1981, Val Loss: 2.1680, Test Loss: 2.5020\n",
            "Epoch 32/150, Train Acc: 42.48%, Val Acc: 43.12%, Test Acc: 38.94%\n",
            "Epoch 32/150, Train Loss: 2.1933, Val Loss: 2.1877, Test Loss: 2.4181\n",
            "Epoch 33/150, Train Acc: 43.14%, Val Acc: 43.70%, Test Acc: 36.62%\n",
            "Epoch 33/150, Train Loss: 2.1527, Val Loss: 2.1720, Test Loss: 2.5657\n",
            "Epoch 34/150, Train Acc: 43.13%, Val Acc: 43.81%, Test Acc: 36.94%\n",
            "Epoch 34/150, Train Loss: 2.1410, Val Loss: 2.1732, Test Loss: 2.5330\n",
            "Epoch 35/150, Train Acc: 43.53%, Val Acc: 44.44%, Test Acc: 38.44%\n",
            "Epoch 35/150, Train Loss: 2.1290, Val Loss: 2.1702, Test Loss: 2.4517\n",
            "Epoch 36/150, Train Acc: 44.24%, Val Acc: 44.27%, Test Acc: 38.03%\n",
            "Epoch 36/150, Train Loss: 2.0968, Val Loss: 2.1677, Test Loss: 2.4931\n",
            "Epoch 37/150, Train Acc: 44.82%, Val Acc: 44.52%, Test Acc: 38.40%\n",
            "Epoch 37/150, Train Loss: 2.0748, Val Loss: 2.1855, Test Loss: 2.4791\n",
            "Epoch 38/150, Train Acc: 45.62%, Val Acc: 44.09%, Test Acc: 37.84%\n",
            "Epoch 38/150, Train Loss: 2.0515, Val Loss: 2.1583, Test Loss: 2.4884\n",
            "Epoch 39/150, Train Acc: 45.61%, Val Acc: 44.00%, Test Acc: 38.82%\n",
            "Epoch 39/150, Train Loss: 2.0397, Val Loss: 2.1580, Test Loss: 2.4208\n",
            "Checkpoint saved at epoch 40: ./checkpoint_epoch_40.pth\n"
          ]
        },
        {
          "data": {
            "application/javascript": [
              "\n",
              "    async function download(id, filename, size) {\n",
              "      if (!google.colab.kernel.accessAllowed) {\n",
              "        return;\n",
              "      }\n",
              "      const div = document.createElement('div');\n",
              "      const label = document.createElement('label');\n",
              "      label.textContent = `Downloading \"${filename}\": `;\n",
              "      div.appendChild(label);\n",
              "      const progress = document.createElement('progress');\n",
              "      progress.max = size;\n",
              "      div.appendChild(progress);\n",
              "      document.body.appendChild(div);\n",
              "\n",
              "      const buffers = [];\n",
              "      let downloaded = 0;\n",
              "\n",
              "      const channel = await google.colab.kernel.comms.open(id);\n",
              "      // Send a message to notify the kernel that we're ready.\n",
              "      channel.send({})\n",
              "\n",
              "      for await (const message of channel.messages) {\n",
              "        // Send a message to notify the kernel that we're ready.\n",
              "        channel.send({})\n",
              "        if (message.buffers) {\n",
              "          for (const buffer of message.buffers) {\n",
              "            buffers.push(buffer);\n",
              "            downloaded += buffer.byteLength;\n",
              "            progress.value = downloaded;\n",
              "          }\n",
              "        }\n",
              "      }\n",
              "      const blob = new Blob(buffers, {type: 'application/binary'});\n",
              "      const a = document.createElement('a');\n",
              "      a.href = window.URL.createObjectURL(blob);\n",
              "      a.download = filename;\n",
              "      div.appendChild(a);\n",
              "      a.click();\n",
              "      div.remove();\n",
              "    }\n",
              "  "
            ],
            "text/plain": [
              "<IPython.core.display.Javascript object>"
            ]
          },
          "metadata": {},
          "output_type": "display_data"
        },
        {
          "data": {
            "application/javascript": [
              "download(\"download_6ae48c28-a646-4af6-9fd8-69bbc268c838\", \"checkpoint_epoch_40.pth\", 6530170)"
            ],
            "text/plain": [
              "<IPython.core.display.Javascript object>"
            ]
          },
          "metadata": {},
          "output_type": "display_data"
        },
        {
          "metadata": {
            "tags": null
          },
          "name": "stdout",
          "output_type": "stream",
          "text": [
            "Epoch 40/150, Train Acc: 45.49%, Val Acc: 43.99%, Test Acc: 37.46%\n",
            "Epoch 40/150, Train Loss: 2.0362, Val Loss: 2.1577, Test Loss: 2.5006\n",
            "Epoch 41/150, Train Acc: 45.91%, Val Acc: 44.47%, Test Acc: 38.71%\n",
            "Epoch 41/150, Train Loss: 2.0241, Val Loss: 2.1432, Test Loss: 2.4646\n",
            "Epoch 42/150, Train Acc: 46.91%, Val Acc: 44.55%, Test Acc: 38.73%\n",
            "Epoch 42/150, Train Loss: 1.9788, Val Loss: 2.1478, Test Loss: 2.4437\n",
            "Epoch 43/150, Train Acc: 47.12%, Val Acc: 44.62%, Test Acc: 39.06%\n",
            "Epoch 43/150, Train Loss: 1.9798, Val Loss: 2.1549, Test Loss: 2.4430\n",
            "Epoch 44/150, Train Acc: 46.93%, Val Acc: 45.09%, Test Acc: 39.02%\n",
            "Epoch 44/150, Train Loss: 1.9813, Val Loss: 2.1511, Test Loss: 2.4557\n",
            "Epoch 45/150, Train Acc: 47.60%, Val Acc: 45.96%, Test Acc: 38.19%\n",
            "Epoch 45/150, Train Loss: 1.9518, Val Loss: 2.1382, Test Loss: 2.5517\n",
            "Epoch 46/150, Train Acc: 48.36%, Val Acc: 45.35%, Test Acc: 40.53%\n",
            "Epoch 46/150, Train Loss: 1.9121, Val Loss: 2.1274, Test Loss: 2.3733\n",
            "Epoch 47/150, Train Acc: 48.57%, Val Acc: 46.14%, Test Acc: 39.86%\n",
            "Epoch 47/150, Train Loss: 1.9120, Val Loss: 2.0928, Test Loss: 2.4110\n",
            "Epoch 48/150, Train Acc: 48.80%, Val Acc: 45.78%, Test Acc: 39.85%\n",
            "Epoch 48/150, Train Loss: 1.8981, Val Loss: 2.1201, Test Loss: 2.4022\n",
            "Epoch 49/150, Train Acc: 49.25%, Val Acc: 46.82%, Test Acc: 41.56%\n",
            "Epoch 49/150, Train Loss: 1.8876, Val Loss: 2.0838, Test Loss: 2.3598\n",
            "Checkpoint saved at epoch 50: ./checkpoint_epoch_50.pth\n"
          ]
        },
        {
          "data": {
            "application/javascript": [
              "\n",
              "    async function download(id, filename, size) {\n",
              "      if (!google.colab.kernel.accessAllowed) {\n",
              "        return;\n",
              "      }\n",
              "      const div = document.createElement('div');\n",
              "      const label = document.createElement('label');\n",
              "      label.textContent = `Downloading \"${filename}\": `;\n",
              "      div.appendChild(label);\n",
              "      const progress = document.createElement('progress');\n",
              "      progress.max = size;\n",
              "      div.appendChild(progress);\n",
              "      document.body.appendChild(div);\n",
              "\n",
              "      const buffers = [];\n",
              "      let downloaded = 0;\n",
              "\n",
              "      const channel = await google.colab.kernel.comms.open(id);\n",
              "      // Send a message to notify the kernel that we're ready.\n",
              "      channel.send({})\n",
              "\n",
              "      for await (const message of channel.messages) {\n",
              "        // Send a message to notify the kernel that we're ready.\n",
              "        channel.send({})\n",
              "        if (message.buffers) {\n",
              "          for (const buffer of message.buffers) {\n",
              "            buffers.push(buffer);\n",
              "            downloaded += buffer.byteLength;\n",
              "            progress.value = downloaded;\n",
              "          }\n",
              "        }\n",
              "      }\n",
              "      const blob = new Blob(buffers, {type: 'application/binary'});\n",
              "      const a = document.createElement('a');\n",
              "      a.href = window.URL.createObjectURL(blob);\n",
              "      a.download = filename;\n",
              "      div.appendChild(a);\n",
              "      a.click();\n",
              "      div.remove();\n",
              "    }\n",
              "  "
            ],
            "text/plain": [
              "<IPython.core.display.Javascript object>"
            ]
          },
          "metadata": {},
          "output_type": "display_data"
        },
        {
          "data": {
            "application/javascript": [
              "download(\"download_6d9e46b2-4ccb-4ed5-ac0b-1f7e6ee9e596\", \"checkpoint_epoch_50.pth\", 6530170)"
            ],
            "text/plain": [
              "<IPython.core.display.Javascript object>"
            ]
          },
          "metadata": {},
          "output_type": "display_data"
        },
        {
          "metadata": {
            "tags": null
          },
          "name": "stdout",
          "output_type": "stream",
          "text": [
            "Epoch 50/150, Train Acc: 49.10%, Val Acc: 46.23%, Test Acc: 40.71%\n",
            "Epoch 50/150, Train Loss: 1.8783, Val Loss: 2.0751, Test Loss: 2.3586\n",
            "Epoch 51/150, Train Acc: 49.64%, Val Acc: 45.39%, Test Acc: 39.48%\n",
            "Epoch 51/150, Train Loss: 1.8686, Val Loss: 2.1169, Test Loss: 2.4211\n",
            "Epoch 52/150, Train Acc: 50.30%, Val Acc: 46.81%, Test Acc: 41.97%\n",
            "Epoch 52/150, Train Loss: 1.8387, Val Loss: 2.0744, Test Loss: 2.3271\n",
            "Epoch 53/150, Train Acc: 50.33%, Val Acc: 46.79%, Test Acc: 40.11%\n",
            "Epoch 53/150, Train Loss: 1.8286, Val Loss: 2.0715, Test Loss: 2.4037\n",
            "Epoch 54/150, Train Acc: 50.87%, Val Acc: 46.61%, Test Acc: 41.14%\n",
            "Epoch 54/150, Train Loss: 1.8075, Val Loss: 2.0755, Test Loss: 2.3751\n",
            "Epoch 55/150, Train Acc: 50.91%, Val Acc: 46.38%, Test Acc: 39.36%\n",
            "Epoch 55/150, Train Loss: 1.8104, Val Loss: 2.0930, Test Loss: 2.4146\n",
            "Epoch 56/150, Train Acc: 51.38%, Val Acc: 47.66%, Test Acc: 42.46%\n",
            "Epoch 56/150, Train Loss: 1.7789, Val Loss: 2.0601, Test Loss: 2.3174\n",
            "Epoch 57/150, Train Acc: 51.84%, Val Acc: 47.52%, Test Acc: 41.59%\n",
            "Epoch 57/150, Train Loss: 1.7661, Val Loss: 2.0704, Test Loss: 2.3566\n",
            "Epoch 58/150, Train Acc: 51.97%, Val Acc: 47.20%, Test Acc: 41.90%\n",
            "Epoch 58/150, Train Loss: 1.7573, Val Loss: 2.0774, Test Loss: 2.3230\n",
            "Epoch 59/150, Train Acc: 51.80%, Val Acc: 46.77%, Test Acc: 41.47%\n",
            "Epoch 59/150, Train Loss: 1.7583, Val Loss: 2.0897, Test Loss: 2.3676\n",
            "Checkpoint saved at epoch 60: ./checkpoint_epoch_60.pth\n"
          ]
        },
        {
          "data": {
            "application/javascript": [
              "\n",
              "    async function download(id, filename, size) {\n",
              "      if (!google.colab.kernel.accessAllowed) {\n",
              "        return;\n",
              "      }\n",
              "      const div = document.createElement('div');\n",
              "      const label = document.createElement('label');\n",
              "      label.textContent = `Downloading \"${filename}\": `;\n",
              "      div.appendChild(label);\n",
              "      const progress = document.createElement('progress');\n",
              "      progress.max = size;\n",
              "      div.appendChild(progress);\n",
              "      document.body.appendChild(div);\n",
              "\n",
              "      const buffers = [];\n",
              "      let downloaded = 0;\n",
              "\n",
              "      const channel = await google.colab.kernel.comms.open(id);\n",
              "      // Send a message to notify the kernel that we're ready.\n",
              "      channel.send({})\n",
              "\n",
              "      for await (const message of channel.messages) {\n",
              "        // Send a message to notify the kernel that we're ready.\n",
              "        channel.send({})\n",
              "        if (message.buffers) {\n",
              "          for (const buffer of message.buffers) {\n",
              "            buffers.push(buffer);\n",
              "            downloaded += buffer.byteLength;\n",
              "            progress.value = downloaded;\n",
              "          }\n",
              "        }\n",
              "      }\n",
              "      const blob = new Blob(buffers, {type: 'application/binary'});\n",
              "      const a = document.createElement('a');\n",
              "      a.href = window.URL.createObjectURL(blob);\n",
              "      a.download = filename;\n",
              "      div.appendChild(a);\n",
              "      a.click();\n",
              "      div.remove();\n",
              "    }\n",
              "  "
            ],
            "text/plain": [
              "<IPython.core.display.Javascript object>"
            ]
          },
          "metadata": {},
          "output_type": "display_data"
        },
        {
          "data": {
            "application/javascript": [
              "download(\"download_92e43447-1849-47eb-837d-2b005eb8b638\", \"checkpoint_epoch_60.pth\", 6530170)"
            ],
            "text/plain": [
              "<IPython.core.display.Javascript object>"
            ]
          },
          "metadata": {},
          "output_type": "display_data"
        },
        {
          "metadata": {
            "tags": null
          },
          "name": "stdout",
          "output_type": "stream",
          "text": [
            "Epoch 60/150, Train Acc: 52.03%, Val Acc: 47.53%, Test Acc: 41.14%\n",
            "Epoch 60/150, Train Loss: 1.7507, Val Loss: 2.0452, Test Loss: 2.3549\n",
            "Epoch 61/150, Train Acc: 52.34%, Val Acc: 47.45%, Test Acc: 40.77%\n",
            "Epoch 61/150, Train Loss: 1.7308, Val Loss: 2.0580, Test Loss: 2.3644\n",
            "Epoch 62/150, Train Acc: 52.90%, Val Acc: 47.46%, Test Acc: 41.36%\n",
            "Epoch 62/150, Train Loss: 1.7221, Val Loss: 2.0633, Test Loss: 2.3418\n",
            "Epoch 63/150, Train Acc: 52.85%, Val Acc: 47.55%, Test Acc: 40.42%\n",
            "Epoch 63/150, Train Loss: 1.7165, Val Loss: 2.0597, Test Loss: 2.3702\n",
            "Epoch 64/150, Train Acc: 53.14%, Val Acc: 47.61%, Test Acc: 41.46%\n",
            "Epoch 64/150, Train Loss: 1.6994, Val Loss: 2.0561, Test Loss: 2.3427\n",
            "Epoch 65/150, Train Acc: 53.13%, Val Acc: 47.61%, Test Acc: 42.48%\n",
            "Epoch 65/150, Train Loss: 1.6991, Val Loss: 2.0369, Test Loss: 2.2829\n",
            "Epoch 66/150, Train Acc: 53.65%, Val Acc: 47.53%, Test Acc: 41.55%\n",
            "Epoch 66/150, Train Loss: 1.6833, Val Loss: 2.0715, Test Loss: 2.3683\n",
            "Epoch 67/150, Train Acc: 53.98%, Val Acc: 48.07%, Test Acc: 42.07%\n",
            "Epoch 67/150, Train Loss: 1.6689, Val Loss: 2.0670, Test Loss: 2.3495\n",
            "Epoch 68/150, Train Acc: 54.73%, Val Acc: 46.77%, Test Acc: 42.06%\n",
            "Epoch 68/150, Train Loss: 1.6479, Val Loss: 2.0679, Test Loss: 2.2976\n",
            "Epoch 69/150, Train Acc: 54.61%, Val Acc: 48.37%, Test Acc: 42.02%\n",
            "Epoch 69/150, Train Loss: 1.6500, Val Loss: 2.0366, Test Loss: 2.3330\n",
            "Checkpoint saved at epoch 70: ./checkpoint_epoch_70.pth\n"
          ]
        },
        {
          "data": {
            "application/javascript": [
              "\n",
              "    async function download(id, filename, size) {\n",
              "      if (!google.colab.kernel.accessAllowed) {\n",
              "        return;\n",
              "      }\n",
              "      const div = document.createElement('div');\n",
              "      const label = document.createElement('label');\n",
              "      label.textContent = `Downloading \"${filename}\": `;\n",
              "      div.appendChild(label);\n",
              "      const progress = document.createElement('progress');\n",
              "      progress.max = size;\n",
              "      div.appendChild(progress);\n",
              "      document.body.appendChild(div);\n",
              "\n",
              "      const buffers = [];\n",
              "      let downloaded = 0;\n",
              "\n",
              "      const channel = await google.colab.kernel.comms.open(id);\n",
              "      // Send a message to notify the kernel that we're ready.\n",
              "      channel.send({})\n",
              "\n",
              "      for await (const message of channel.messages) {\n",
              "        // Send a message to notify the kernel that we're ready.\n",
              "        channel.send({})\n",
              "        if (message.buffers) {\n",
              "          for (const buffer of message.buffers) {\n",
              "            buffers.push(buffer);\n",
              "            downloaded += buffer.byteLength;\n",
              "            progress.value = downloaded;\n",
              "          }\n",
              "        }\n",
              "      }\n",
              "      const blob = new Blob(buffers, {type: 'application/binary'});\n",
              "      const a = document.createElement('a');\n",
              "      a.href = window.URL.createObjectURL(blob);\n",
              "      a.download = filename;\n",
              "      div.appendChild(a);\n",
              "      a.click();\n",
              "      div.remove();\n",
              "    }\n",
              "  "
            ],
            "text/plain": [
              "<IPython.core.display.Javascript object>"
            ]
          },
          "metadata": {},
          "output_type": "display_data"
        },
        {
          "data": {
            "application/javascript": [
              "download(\"download_3048f452-a10d-44b7-b109-460751d547e6\", \"checkpoint_epoch_70.pth\", 6530170)"
            ],
            "text/plain": [
              "<IPython.core.display.Javascript object>"
            ]
          },
          "metadata": {},
          "output_type": "display_data"
        },
        {
          "metadata": {
            "tags": null
          },
          "name": "stdout",
          "output_type": "stream",
          "text": [
            "Epoch 70/150, Train Acc: 55.02%, Val Acc: 48.31%, Test Acc: 40.91%\n",
            "Epoch 70/150, Train Loss: 1.6338, Val Loss: 2.0585, Test Loss: 2.4398\n",
            "Epoch 71/150, Train Acc: 54.93%, Val Acc: 47.51%, Test Acc: 41.89%\n",
            "Epoch 71/150, Train Loss: 1.6212, Val Loss: 2.0481, Test Loss: 2.3503\n",
            "Epoch 72/150, Train Acc: 54.80%, Val Acc: 48.63%, Test Acc: 42.73%\n",
            "Epoch 72/150, Train Loss: 1.6306, Val Loss: 2.0551, Test Loss: 2.3346\n",
            "Epoch 73/150, Train Acc: 55.22%, Val Acc: 48.42%, Test Acc: 41.73%\n",
            "Epoch 73/150, Train Loss: 1.6160, Val Loss: 2.0334, Test Loss: 2.3861\n",
            "Epoch 74/150, Train Acc: 55.77%, Val Acc: 48.42%, Test Acc: 41.46%\n",
            "Epoch 74/150, Train Loss: 1.5912, Val Loss: 2.0522, Test Loss: 2.3901\n",
            "Epoch 75/150, Train Acc: 56.20%, Val Acc: 48.41%, Test Acc: 42.13%\n",
            "Epoch 75/150, Train Loss: 1.5804, Val Loss: 2.0496, Test Loss: 2.3611\n",
            "Epoch 76/150, Train Acc: 56.21%, Val Acc: 48.56%, Test Acc: 42.93%\n",
            "Epoch 76/150, Train Loss: 1.5799, Val Loss: 2.0526, Test Loss: 2.3003\n",
            "Epoch 77/150, Train Acc: 56.59%, Val Acc: 49.21%, Test Acc: 42.62%\n",
            "Epoch 77/150, Train Loss: 1.5640, Val Loss: 2.0239, Test Loss: 2.3246\n",
            "Epoch 78/150, Train Acc: 56.83%, Val Acc: 47.95%, Test Acc: 42.40%\n",
            "Epoch 78/150, Train Loss: 1.5497, Val Loss: 2.0761, Test Loss: 2.3264\n",
            "Epoch 79/150, Train Acc: 56.89%, Val Acc: 49.02%, Test Acc: 42.88%\n",
            "Epoch 79/150, Train Loss: 1.5557, Val Loss: 2.0532, Test Loss: 2.4013\n",
            "Checkpoint saved at epoch 80: ./checkpoint_epoch_80.pth\n"
          ]
        },
        {
          "data": {
            "application/javascript": [
              "\n",
              "    async function download(id, filename, size) {\n",
              "      if (!google.colab.kernel.accessAllowed) {\n",
              "        return;\n",
              "      }\n",
              "      const div = document.createElement('div');\n",
              "      const label = document.createElement('label');\n",
              "      label.textContent = `Downloading \"${filename}\": `;\n",
              "      div.appendChild(label);\n",
              "      const progress = document.createElement('progress');\n",
              "      progress.max = size;\n",
              "      div.appendChild(progress);\n",
              "      document.body.appendChild(div);\n",
              "\n",
              "      const buffers = [];\n",
              "      let downloaded = 0;\n",
              "\n",
              "      const channel = await google.colab.kernel.comms.open(id);\n",
              "      // Send a message to notify the kernel that we're ready.\n",
              "      channel.send({})\n",
              "\n",
              "      for await (const message of channel.messages) {\n",
              "        // Send a message to notify the kernel that we're ready.\n",
              "        channel.send({})\n",
              "        if (message.buffers) {\n",
              "          for (const buffer of message.buffers) {\n",
              "            buffers.push(buffer);\n",
              "            downloaded += buffer.byteLength;\n",
              "            progress.value = downloaded;\n",
              "          }\n",
              "        }\n",
              "      }\n",
              "      const blob = new Blob(buffers, {type: 'application/binary'});\n",
              "      const a = document.createElement('a');\n",
              "      a.href = window.URL.createObjectURL(blob);\n",
              "      a.download = filename;\n",
              "      div.appendChild(a);\n",
              "      a.click();\n",
              "      div.remove();\n",
              "    }\n",
              "  "
            ],
            "text/plain": [
              "<IPython.core.display.Javascript object>"
            ]
          },
          "metadata": {},
          "output_type": "display_data"
        },
        {
          "data": {
            "application/javascript": [
              "download(\"download_3a858b8a-559d-4e3e-be2c-f784e939fdc4\", \"checkpoint_epoch_80.pth\", 6530170)"
            ],
            "text/plain": [
              "<IPython.core.display.Javascript object>"
            ]
          },
          "metadata": {},
          "output_type": "display_data"
        },
        {
          "metadata": {
            "tags": null
          },
          "name": "stdout",
          "output_type": "stream",
          "text": [
            "Epoch 80/150, Train Acc: 57.37%, Val Acc: 48.74%, Test Acc: 43.07%\n",
            "Epoch 80/150, Train Loss: 1.5385, Val Loss: 2.0538, Test Loss: 2.3010\n",
            "Epoch 81/150, Train Acc: 57.53%, Val Acc: 48.68%, Test Acc: 43.23%\n",
            "Epoch 81/150, Train Loss: 1.5280, Val Loss: 2.0595, Test Loss: 2.3089\n",
            "Epoch 82/150, Train Acc: 57.76%, Val Acc: 48.38%, Test Acc: 43.35%\n",
            "Epoch 82/150, Train Loss: 1.5119, Val Loss: 2.0567, Test Loss: 2.2878\n",
            "Epoch 83/150, Train Acc: 57.80%, Val Acc: 49.21%, Test Acc: 43.10%\n",
            "Epoch 83/150, Train Loss: 1.5092, Val Loss: 2.0495, Test Loss: 2.3357\n",
            "Epoch 84/150, Train Acc: 58.34%, Val Acc: 47.81%, Test Acc: 41.40%\n",
            "Epoch 84/150, Train Loss: 1.4931, Val Loss: 2.0721, Test Loss: 2.3786\n",
            "Epoch 85/150, Train Acc: 58.15%, Val Acc: 48.99%, Test Acc: 43.21%\n",
            "Epoch 85/150, Train Loss: 1.4990, Val Loss: 2.0182, Test Loss: 2.2823\n",
            "Epoch 86/150, Train Acc: 58.66%, Val Acc: 49.31%, Test Acc: 43.33%\n",
            "Epoch 86/150, Train Loss: 1.4620, Val Loss: 2.0092, Test Loss: 2.3080\n",
            "Epoch 87/150, Train Acc: 58.99%, Val Acc: 49.09%, Test Acc: 43.80%\n",
            "Epoch 87/150, Train Loss: 1.4634, Val Loss: 2.0374, Test Loss: 2.2517\n",
            "Epoch 88/150, Train Acc: 58.62%, Val Acc: 49.43%, Test Acc: 43.18%\n",
            "Epoch 88/150, Train Loss: 1.4636, Val Loss: 2.0272, Test Loss: 2.3036\n",
            "Epoch 89/150, Train Acc: 59.46%, Val Acc: 49.55%, Test Acc: 42.49%\n",
            "Epoch 89/150, Train Loss: 1.4509, Val Loss: 2.0554, Test Loss: 2.3729\n",
            "Checkpoint saved at epoch 90: ./checkpoint_epoch_90.pth\n"
          ]
        },
        {
          "data": {
            "application/javascript": [
              "\n",
              "    async function download(id, filename, size) {\n",
              "      if (!google.colab.kernel.accessAllowed) {\n",
              "        return;\n",
              "      }\n",
              "      const div = document.createElement('div');\n",
              "      const label = document.createElement('label');\n",
              "      label.textContent = `Downloading \"${filename}\": `;\n",
              "      div.appendChild(label);\n",
              "      const progress = document.createElement('progress');\n",
              "      progress.max = size;\n",
              "      div.appendChild(progress);\n",
              "      document.body.appendChild(div);\n",
              "\n",
              "      const buffers = [];\n",
              "      let downloaded = 0;\n",
              "\n",
              "      const channel = await google.colab.kernel.comms.open(id);\n",
              "      // Send a message to notify the kernel that we're ready.\n",
              "      channel.send({})\n",
              "\n",
              "      for await (const message of channel.messages) {\n",
              "        // Send a message to notify the kernel that we're ready.\n",
              "        channel.send({})\n",
              "        if (message.buffers) {\n",
              "          for (const buffer of message.buffers) {\n",
              "            buffers.push(buffer);\n",
              "            downloaded += buffer.byteLength;\n",
              "            progress.value = downloaded;\n",
              "          }\n",
              "        }\n",
              "      }\n",
              "      const blob = new Blob(buffers, {type: 'application/binary'});\n",
              "      const a = document.createElement('a');\n",
              "      a.href = window.URL.createObjectURL(blob);\n",
              "      a.download = filename;\n",
              "      div.appendChild(a);\n",
              "      a.click();\n",
              "      div.remove();\n",
              "    }\n",
              "  "
            ],
            "text/plain": [
              "<IPython.core.display.Javascript object>"
            ]
          },
          "metadata": {},
          "output_type": "display_data"
        },
        {
          "data": {
            "application/javascript": [
              "download(\"download_7cdefd90-e4ba-4bac-b4bd-72419ba774c6\", \"checkpoint_epoch_90.pth\", 6530170)"
            ],
            "text/plain": [
              "<IPython.core.display.Javascript object>"
            ]
          },
          "metadata": {},
          "output_type": "display_data"
        },
        {
          "metadata": {
            "tags": null
          },
          "name": "stdout",
          "output_type": "stream",
          "text": [
            "Epoch 90/150, Train Acc: 59.42%, Val Acc: 49.32%, Test Acc: 43.61%\n",
            "Epoch 90/150, Train Loss: 1.4373, Val Loss: 2.0691, Test Loss: 2.3578\n",
            "Epoch 91/150, Train Acc: 59.74%, Val Acc: 49.14%, Test Acc: 43.09%\n",
            "Epoch 91/150, Train Loss: 1.4330, Val Loss: 2.0387, Test Loss: 2.2953\n",
            "Epoch 92/150, Train Acc: 59.91%, Val Acc: 49.56%, Test Acc: 43.82%\n",
            "Epoch 92/150, Train Loss: 1.4230, Val Loss: 2.0579, Test Loss: 2.3413\n",
            "Epoch 93/150, Train Acc: 60.05%, Val Acc: 49.92%, Test Acc: 43.92%\n",
            "Epoch 93/150, Train Loss: 1.4177, Val Loss: 2.0341, Test Loss: 2.3017\n",
            "Epoch 94/150, Train Acc: 60.46%, Val Acc: 48.90%, Test Acc: 43.78%\n",
            "Epoch 94/150, Train Loss: 1.4082, Val Loss: 2.0542, Test Loss: 2.3137\n",
            "Epoch 95/150, Train Acc: 60.61%, Val Acc: 49.06%, Test Acc: 43.19%\n",
            "Epoch 95/150, Train Loss: 1.3968, Val Loss: 2.0352, Test Loss: 2.3212\n",
            "Epoch 96/150, Train Acc: 60.33%, Val Acc: 49.47%, Test Acc: 42.71%\n",
            "Epoch 96/150, Train Loss: 1.3984, Val Loss: 2.0156, Test Loss: 2.3384\n",
            "Epoch 97/150, Train Acc: 60.73%, Val Acc: 49.60%, Test Acc: 43.75%\n",
            "Epoch 97/150, Train Loss: 1.3841, Val Loss: 2.0338, Test Loss: 2.3232\n",
            "Epoch 98/150, Train Acc: 61.43%, Val Acc: 48.79%, Test Acc: 42.19%\n",
            "Epoch 98/150, Train Loss: 1.3612, Val Loss: 2.0493, Test Loss: 2.3871\n",
            "Epoch 99/150, Train Acc: 61.33%, Val Acc: 49.20%, Test Acc: 43.25%\n",
            "Epoch 99/150, Train Loss: 1.3719, Val Loss: 2.0453, Test Loss: 2.3402\n",
            "Checkpoint saved at epoch 100: ./checkpoint_epoch_100.pth\n"
          ]
        },
        {
          "data": {
            "application/javascript": [
              "\n",
              "    async function download(id, filename, size) {\n",
              "      if (!google.colab.kernel.accessAllowed) {\n",
              "        return;\n",
              "      }\n",
              "      const div = document.createElement('div');\n",
              "      const label = document.createElement('label');\n",
              "      label.textContent = `Downloading \"${filename}\": `;\n",
              "      div.appendChild(label);\n",
              "      const progress = document.createElement('progress');\n",
              "      progress.max = size;\n",
              "      div.appendChild(progress);\n",
              "      document.body.appendChild(div);\n",
              "\n",
              "      const buffers = [];\n",
              "      let downloaded = 0;\n",
              "\n",
              "      const channel = await google.colab.kernel.comms.open(id);\n",
              "      // Send a message to notify the kernel that we're ready.\n",
              "      channel.send({})\n",
              "\n",
              "      for await (const message of channel.messages) {\n",
              "        // Send a message to notify the kernel that we're ready.\n",
              "        channel.send({})\n",
              "        if (message.buffers) {\n",
              "          for (const buffer of message.buffers) {\n",
              "            buffers.push(buffer);\n",
              "            downloaded += buffer.byteLength;\n",
              "            progress.value = downloaded;\n",
              "          }\n",
              "        }\n",
              "      }\n",
              "      const blob = new Blob(buffers, {type: 'application/binary'});\n",
              "      const a = document.createElement('a');\n",
              "      a.href = window.URL.createObjectURL(blob);\n",
              "      a.download = filename;\n",
              "      div.appendChild(a);\n",
              "      a.click();\n",
              "      div.remove();\n",
              "    }\n",
              "  "
            ],
            "text/plain": [
              "<IPython.core.display.Javascript object>"
            ]
          },
          "metadata": {},
          "output_type": "display_data"
        },
        {
          "data": {
            "application/javascript": [
              "download(\"download_59a8f8a8-959f-48d0-bfa9-39acde8b1e7d\", \"checkpoint_epoch_100.pth\", 6530194)"
            ],
            "text/plain": [
              "<IPython.core.display.Javascript object>"
            ]
          },
          "metadata": {},
          "output_type": "display_data"
        },
        {
          "metadata": {
            "tags": null
          },
          "name": "stdout",
          "output_type": "stream",
          "text": [
            "Epoch 100/150, Train Acc: 61.77%, Val Acc: 49.93%, Test Acc: 43.13%\n",
            "Epoch 100/150, Train Loss: 1.3573, Val Loss: 2.0177, Test Loss: 2.3201\n",
            "Epoch 101/150, Train Acc: 61.78%, Val Acc: 49.26%, Test Acc: 42.86%\n",
            "Epoch 101/150, Train Loss: 1.3454, Val Loss: 2.0805, Test Loss: 2.3574\n",
            "Epoch 102/150, Train Acc: 61.96%, Val Acc: 49.85%, Test Acc: 44.54%\n",
            "Epoch 102/150, Train Loss: 1.3444, Val Loss: 2.0080, Test Loss: 2.2480\n",
            "Epoch 103/150, Train Acc: 61.84%, Val Acc: 50.22%, Test Acc: 44.37%\n",
            "Epoch 103/150, Train Loss: 1.3449, Val Loss: 2.0456, Test Loss: 2.2962\n",
            "Epoch 104/150, Train Acc: 62.21%, Val Acc: 50.26%, Test Acc: 44.19%\n",
            "Epoch 104/150, Train Loss: 1.3245, Val Loss: 2.0324, Test Loss: 2.3203\n",
            "Epoch 105/150, Train Acc: 62.67%, Val Acc: 49.39%, Test Acc: 44.35%\n",
            "Epoch 105/150, Train Loss: 1.3057, Val Loss: 2.0223, Test Loss: 2.2695\n",
            "Epoch 106/150, Train Acc: 62.88%, Val Acc: 49.12%, Test Acc: 43.93%\n",
            "Epoch 106/150, Train Loss: 1.3034, Val Loss: 2.0730, Test Loss: 2.3192\n",
            "Epoch 107/150, Train Acc: 62.82%, Val Acc: 50.44%, Test Acc: 43.59%\n",
            "Epoch 107/150, Train Loss: 1.3062, Val Loss: 2.0403, Test Loss: 2.3522\n",
            "Epoch 108/150, Train Acc: 63.24%, Val Acc: 50.55%, Test Acc: 44.85%\n",
            "Epoch 108/150, Train Loss: 1.2893, Val Loss: 2.0228, Test Loss: 2.2767\n",
            "Epoch 109/150, Train Acc: 63.63%, Val Acc: 50.15%, Test Acc: 43.99%\n",
            "Epoch 109/150, Train Loss: 1.2841, Val Loss: 2.0496, Test Loss: 2.3430\n",
            "Checkpoint saved at epoch 110: ./checkpoint_epoch_110.pth\n"
          ]
        },
        {
          "data": {
            "application/javascript": [
              "\n",
              "    async function download(id, filename, size) {\n",
              "      if (!google.colab.kernel.accessAllowed) {\n",
              "        return;\n",
              "      }\n",
              "      const div = document.createElement('div');\n",
              "      const label = document.createElement('label');\n",
              "      label.textContent = `Downloading \"${filename}\": `;\n",
              "      div.appendChild(label);\n",
              "      const progress = document.createElement('progress');\n",
              "      progress.max = size;\n",
              "      div.appendChild(progress);\n",
              "      document.body.appendChild(div);\n",
              "\n",
              "      const buffers = [];\n",
              "      let downloaded = 0;\n",
              "\n",
              "      const channel = await google.colab.kernel.comms.open(id);\n",
              "      // Send a message to notify the kernel that we're ready.\n",
              "      channel.send({})\n",
              "\n",
              "      for await (const message of channel.messages) {\n",
              "        // Send a message to notify the kernel that we're ready.\n",
              "        channel.send({})\n",
              "        if (message.buffers) {\n",
              "          for (const buffer of message.buffers) {\n",
              "            buffers.push(buffer);\n",
              "            downloaded += buffer.byteLength;\n",
              "            progress.value = downloaded;\n",
              "          }\n",
              "        }\n",
              "      }\n",
              "      const blob = new Blob(buffers, {type: 'application/binary'});\n",
              "      const a = document.createElement('a');\n",
              "      a.href = window.URL.createObjectURL(blob);\n",
              "      a.download = filename;\n",
              "      div.appendChild(a);\n",
              "      a.click();\n",
              "      div.remove();\n",
              "    }\n",
              "  "
            ],
            "text/plain": [
              "<IPython.core.display.Javascript object>"
            ]
          },
          "metadata": {},
          "output_type": "display_data"
        },
        {
          "data": {
            "application/javascript": [
              "download(\"download_7a527370-3cc8-4f97-8e2f-5b8e0b58d5ad\", \"checkpoint_epoch_110.pth\", 6530194)"
            ],
            "text/plain": [
              "<IPython.core.display.Javascript object>"
            ]
          },
          "metadata": {},
          "output_type": "display_data"
        },
        {
          "metadata": {
            "tags": null
          },
          "name": "stdout",
          "output_type": "stream",
          "text": [
            "Epoch 110/150, Train Acc: 63.37%, Val Acc: 50.07%, Test Acc: 43.62%\n",
            "Epoch 110/150, Train Loss: 1.2749, Val Loss: 2.0590, Test Loss: 2.3557\n",
            "Epoch 111/150, Train Acc: 63.93%, Val Acc: 50.42%, Test Acc: 44.62%\n",
            "Epoch 111/150, Train Loss: 1.2600, Val Loss: 2.0486, Test Loss: 2.3184\n",
            "Epoch 112/150, Train Acc: 63.98%, Val Acc: 50.44%, Test Acc: 45.16%\n",
            "Epoch 112/150, Train Loss: 1.2547, Val Loss: 2.0335, Test Loss: 2.2679\n",
            "Epoch 113/150, Train Acc: 64.32%, Val Acc: 50.41%, Test Acc: 44.59%\n",
            "Epoch 113/150, Train Loss: 1.2450, Val Loss: 2.0436, Test Loss: 2.3131\n",
            "Epoch 114/150, Train Acc: 64.31%, Val Acc: 50.91%, Test Acc: 43.99%\n",
            "Epoch 114/150, Train Loss: 1.2472, Val Loss: 2.0478, Test Loss: 2.3471\n",
            "Epoch 115/150, Train Acc: 65.01%, Val Acc: 50.66%, Test Acc: 44.59%\n",
            "Epoch 115/150, Train Loss: 1.2251, Val Loss: 2.0613, Test Loss: 2.3248\n",
            "Epoch 116/150, Train Acc: 65.02%, Val Acc: 50.46%, Test Acc: 44.34%\n",
            "Epoch 116/150, Train Loss: 1.2242, Val Loss: 2.0391, Test Loss: 2.3056\n",
            "Epoch 117/150, Train Acc: 65.32%, Val Acc: 51.18%, Test Acc: 44.82%\n",
            "Epoch 117/150, Train Loss: 1.2075, Val Loss: 2.0316, Test Loss: 2.3245\n",
            "Epoch 118/150, Train Acc: 65.40%, Val Acc: 51.05%, Test Acc: 45.20%\n",
            "Epoch 118/150, Train Loss: 1.2070, Val Loss: 2.0368, Test Loss: 2.3061\n",
            "Epoch 119/150, Train Acc: 65.75%, Val Acc: 50.51%, Test Acc: 45.03%\n",
            "Epoch 119/150, Train Loss: 1.1962, Val Loss: 2.0547, Test Loss: 2.3119\n",
            "Checkpoint saved at epoch 120: ./checkpoint_epoch_120.pth\n"
          ]
        },
        {
          "data": {
            "application/javascript": [
              "\n",
              "    async function download(id, filename, size) {\n",
              "      if (!google.colab.kernel.accessAllowed) {\n",
              "        return;\n",
              "      }\n",
              "      const div = document.createElement('div');\n",
              "      const label = document.createElement('label');\n",
              "      label.textContent = `Downloading \"${filename}\": `;\n",
              "      div.appendChild(label);\n",
              "      const progress = document.createElement('progress');\n",
              "      progress.max = size;\n",
              "      div.appendChild(progress);\n",
              "      document.body.appendChild(div);\n",
              "\n",
              "      const buffers = [];\n",
              "      let downloaded = 0;\n",
              "\n",
              "      const channel = await google.colab.kernel.comms.open(id);\n",
              "      // Send a message to notify the kernel that we're ready.\n",
              "      channel.send({})\n",
              "\n",
              "      for await (const message of channel.messages) {\n",
              "        // Send a message to notify the kernel that we're ready.\n",
              "        channel.send({})\n",
              "        if (message.buffers) {\n",
              "          for (const buffer of message.buffers) {\n",
              "            buffers.push(buffer);\n",
              "            downloaded += buffer.byteLength;\n",
              "            progress.value = downloaded;\n",
              "          }\n",
              "        }\n",
              "      }\n",
              "      const blob = new Blob(buffers, {type: 'application/binary'});\n",
              "      const a = document.createElement('a');\n",
              "      a.href = window.URL.createObjectURL(blob);\n",
              "      a.download = filename;\n",
              "      div.appendChild(a);\n",
              "      a.click();\n",
              "      div.remove();\n",
              "    }\n",
              "  "
            ],
            "text/plain": [
              "<IPython.core.display.Javascript object>"
            ]
          },
          "metadata": {},
          "output_type": "display_data"
        },
        {
          "data": {
            "application/javascript": [
              "download(\"download_099f97d0-5b18-4beb-b86f-31d88fafb446\", \"checkpoint_epoch_120.pth\", 6530194)"
            ],
            "text/plain": [
              "<IPython.core.display.Javascript object>"
            ]
          },
          "metadata": {},
          "output_type": "display_data"
        },
        {
          "metadata": {
            "tags": null
          },
          "name": "stdout",
          "output_type": "stream",
          "text": [
            "Epoch 120/150, Train Acc: 66.04%, Val Acc: 50.97%, Test Acc: 45.26%\n",
            "Epoch 120/150, Train Loss: 1.1826, Val Loss: 2.0499, Test Loss: 2.2726\n",
            "Epoch 121/150, Train Acc: 66.37%, Val Acc: 50.72%, Test Acc: 45.34%\n",
            "Epoch 121/150, Train Loss: 1.1748, Val Loss: 2.0306, Test Loss: 2.2933\n",
            "Epoch 122/150, Train Acc: 66.47%, Val Acc: 51.16%, Test Acc: 45.11%\n",
            "Epoch 122/150, Train Loss: 1.1716, Val Loss: 2.0202, Test Loss: 2.3304\n",
            "Epoch 123/150, Train Acc: 66.21%, Val Acc: 50.78%, Test Acc: 44.88%\n",
            "Epoch 123/150, Train Loss: 1.1784, Val Loss: 2.0293, Test Loss: 2.3166\n",
            "Epoch 124/150, Train Acc: 66.61%, Val Acc: 51.06%, Test Acc: 44.80%\n",
            "Epoch 124/150, Train Loss: 1.1604, Val Loss: 2.0598, Test Loss: 2.3433\n",
            "Epoch 125/150, Train Acc: 66.78%, Val Acc: 51.16%, Test Acc: 45.08%\n",
            "Epoch 125/150, Train Loss: 1.1461, Val Loss: 2.0669, Test Loss: 2.3638\n",
            "Epoch 126/150, Train Acc: 67.35%, Val Acc: 51.35%, Test Acc: 45.33%\n",
            "Epoch 126/150, Train Loss: 1.1376, Val Loss: 2.0369, Test Loss: 2.3145\n",
            "Epoch 127/150, Train Acc: 67.38%, Val Acc: 50.94%, Test Acc: 45.80%\n",
            "Epoch 127/150, Train Loss: 1.1325, Val Loss: 2.0574, Test Loss: 2.2881\n",
            "Epoch 128/150, Train Acc: 67.63%, Val Acc: 51.41%, Test Acc: 44.12%\n",
            "Epoch 128/150, Train Loss: 1.1308, Val Loss: 2.0467, Test Loss: 2.3811\n",
            "Epoch 129/150, Train Acc: 67.75%, Val Acc: 51.46%, Test Acc: 45.05%\n",
            "Epoch 129/150, Train Loss: 1.1165, Val Loss: 2.0681, Test Loss: 2.3433\n",
            "Checkpoint saved at epoch 130: ./checkpoint_epoch_130.pth\n"
          ]
        },
        {
          "data": {
            "application/javascript": [
              "\n",
              "    async function download(id, filename, size) {\n",
              "      if (!google.colab.kernel.accessAllowed) {\n",
              "        return;\n",
              "      }\n",
              "      const div = document.createElement('div');\n",
              "      const label = document.createElement('label');\n",
              "      label.textContent = `Downloading \"${filename}\": `;\n",
              "      div.appendChild(label);\n",
              "      const progress = document.createElement('progress');\n",
              "      progress.max = size;\n",
              "      div.appendChild(progress);\n",
              "      document.body.appendChild(div);\n",
              "\n",
              "      const buffers = [];\n",
              "      let downloaded = 0;\n",
              "\n",
              "      const channel = await google.colab.kernel.comms.open(id);\n",
              "      // Send a message to notify the kernel that we're ready.\n",
              "      channel.send({})\n",
              "\n",
              "      for await (const message of channel.messages) {\n",
              "        // Send a message to notify the kernel that we're ready.\n",
              "        channel.send({})\n",
              "        if (message.buffers) {\n",
              "          for (const buffer of message.buffers) {\n",
              "            buffers.push(buffer);\n",
              "            downloaded += buffer.byteLength;\n",
              "            progress.value = downloaded;\n",
              "          }\n",
              "        }\n",
              "      }\n",
              "      const blob = new Blob(buffers, {type: 'application/binary'});\n",
              "      const a = document.createElement('a');\n",
              "      a.href = window.URL.createObjectURL(blob);\n",
              "      a.download = filename;\n",
              "      div.appendChild(a);\n",
              "      a.click();\n",
              "      div.remove();\n",
              "    }\n",
              "  "
            ],
            "text/plain": [
              "<IPython.core.display.Javascript object>"
            ]
          },
          "metadata": {},
          "output_type": "display_data"
        },
        {
          "data": {
            "application/javascript": [
              "download(\"download_2b9c3105-fa90-44a7-b4bd-9805b4b3d1ba\", \"checkpoint_epoch_130.pth\", 6530194)"
            ],
            "text/plain": [
              "<IPython.core.display.Javascript object>"
            ]
          },
          "metadata": {},
          "output_type": "display_data"
        },
        {
          "output_type": "stream",
          "name": "stdout",
          "text": [
            "Epoch 130/150, Train Acc: 67.92%, Val Acc: 51.14%, Test Acc: 45.46%\n",
            "Epoch 130/150, Train Loss: 1.0961, Val Loss: 2.0588, Test Loss: 2.3184\n",
            "Epoch 131/150, Train Acc: 67.96%, Val Acc: 51.51%, Test Acc: 46.03%\n",
            "Epoch 131/150, Train Loss: 1.1056, Val Loss: 2.0580, Test Loss: 2.3033\n",
            "Epoch 132/150, Train Acc: 68.26%, Val Acc: 51.35%, Test Acc: 45.66%\n",
            "Epoch 132/150, Train Loss: 1.1006, Val Loss: 2.0505, Test Loss: 2.2958\n",
            "Epoch 133/150, Train Acc: 68.72%, Val Acc: 51.78%, Test Acc: 45.96%\n",
            "Epoch 133/150, Train Loss: 1.0845, Val Loss: 2.0316, Test Loss: 2.3011\n",
            "Epoch 134/150, Train Acc: 68.88%, Val Acc: 51.33%, Test Acc: 45.86%\n",
            "Epoch 134/150, Train Loss: 1.0772, Val Loss: 2.0413, Test Loss: 2.3075\n",
            "Epoch 135/150, Train Acc: 68.96%, Val Acc: 51.68%, Test Acc: 45.77%\n",
            "Epoch 135/150, Train Loss: 1.0677, Val Loss: 2.0424, Test Loss: 2.3425\n",
            "Epoch 136/150, Train Acc: 69.11%, Val Acc: 51.40%, Test Acc: 45.43%\n",
            "Epoch 136/150, Train Loss: 1.0612, Val Loss: 2.0726, Test Loss: 2.3033\n",
            "Epoch 137/150, Train Acc: 69.14%, Val Acc: 51.82%, Test Acc: 45.66%\n",
            "Epoch 137/150, Train Loss: 1.0582, Val Loss: 2.0437, Test Loss: 2.3430\n",
            "Epoch 138/150, Train Acc: 69.73%, Val Acc: 51.43%, Test Acc: 46.27%\n",
            "Epoch 138/150, Train Loss: 1.0416, Val Loss: 2.0652, Test Loss: 2.3061\n",
            "Epoch 139/150, Train Acc: 69.74%, Val Acc: 51.54%, Test Acc: 45.47%\n",
            "Epoch 139/150, Train Loss: 1.0425, Val Loss: 2.0426, Test Loss: 2.3404\n",
            "Checkpoint saved at epoch 140: ./checkpoint_epoch_140.pth\n"
          ]
        },
        {
          "output_type": "display_data",
          "data": {
            "text/plain": [
              "<IPython.core.display.Javascript object>"
            ],
            "application/javascript": [
              "\n",
              "    async function download(id, filename, size) {\n",
              "      if (!google.colab.kernel.accessAllowed) {\n",
              "        return;\n",
              "      }\n",
              "      const div = document.createElement('div');\n",
              "      const label = document.createElement('label');\n",
              "      label.textContent = `Downloading \"${filename}\": `;\n",
              "      div.appendChild(label);\n",
              "      const progress = document.createElement('progress');\n",
              "      progress.max = size;\n",
              "      div.appendChild(progress);\n",
              "      document.body.appendChild(div);\n",
              "\n",
              "      const buffers = [];\n",
              "      let downloaded = 0;\n",
              "\n",
              "      const channel = await google.colab.kernel.comms.open(id);\n",
              "      // Send a message to notify the kernel that we're ready.\n",
              "      channel.send({})\n",
              "\n",
              "      for await (const message of channel.messages) {\n",
              "        // Send a message to notify the kernel that we're ready.\n",
              "        channel.send({})\n",
              "        if (message.buffers) {\n",
              "          for (const buffer of message.buffers) {\n",
              "            buffers.push(buffer);\n",
              "            downloaded += buffer.byteLength;\n",
              "            progress.value = downloaded;\n",
              "          }\n",
              "        }\n",
              "      }\n",
              "      const blob = new Blob(buffers, {type: 'application/binary'});\n",
              "      const a = document.createElement('a');\n",
              "      a.href = window.URL.createObjectURL(blob);\n",
              "      a.download = filename;\n",
              "      div.appendChild(a);\n",
              "      a.click();\n",
              "      div.remove();\n",
              "    }\n",
              "  "
            ]
          },
          "metadata": {}
        },
        {
          "output_type": "display_data",
          "data": {
            "text/plain": [
              "<IPython.core.display.Javascript object>"
            ],
            "application/javascript": [
              "download(\"download_6f1a21d2-676a-45a0-b66d-3164b112a0c9\", \"checkpoint_epoch_140.pth\", 6530194)"
            ]
          },
          "metadata": {}
        },
        {
          "output_type": "stream",
          "name": "stdout",
          "text": [
            "Epoch 140/150, Train Acc: 70.25%, Val Acc: 51.58%, Test Acc: 45.68%\n",
            "Epoch 140/150, Train Loss: 1.0298, Val Loss: 2.0376, Test Loss: 2.3245\n",
            "Epoch 141/150, Train Acc: 70.17%, Val Acc: 51.35%, Test Acc: 46.26%\n",
            "Epoch 141/150, Train Loss: 1.0353, Val Loss: 2.0476, Test Loss: 2.3067\n",
            "Epoch 142/150, Train Acc: 70.39%, Val Acc: 51.80%, Test Acc: 45.86%\n",
            "Epoch 142/150, Train Loss: 1.0275, Val Loss: 2.0311, Test Loss: 2.3030\n",
            "Epoch 143/150, Train Acc: 70.64%, Val Acc: 51.60%, Test Acc: 46.65%\n",
            "Epoch 143/150, Train Loss: 1.0150, Val Loss: 2.0526, Test Loss: 2.3010\n",
            "Epoch 144/150, Train Acc: 71.12%, Val Acc: 52.06%, Test Acc: 46.00%\n",
            "Epoch 144/150, Train Loss: 0.9998, Val Loss: 2.0418, Test Loss: 2.3208\n",
            "Epoch 145/150, Train Acc: 70.68%, Val Acc: 51.94%, Test Acc: 46.40%\n",
            "Epoch 145/150, Train Loss: 1.0023, Val Loss: 2.0531, Test Loss: 2.3213\n",
            "Epoch 146/150, Train Acc: 71.22%, Val Acc: 52.01%, Test Acc: 46.29%\n",
            "Epoch 146/150, Train Loss: 0.9951, Val Loss: 2.0429, Test Loss: 2.3083\n",
            "Epoch 147/150, Train Acc: 71.56%, Val Acc: 51.98%, Test Acc: 46.66%\n",
            "Epoch 147/150, Train Loss: 0.9841, Val Loss: 2.0442, Test Loss: 2.3098\n",
            "Epoch 148/150, Train Acc: 71.55%, Val Acc: 52.11%, Test Acc: 46.50%\n",
            "Epoch 148/150, Train Loss: 0.9809, Val Loss: 2.0338, Test Loss: 2.3092\n",
            "Epoch 149/150, Train Acc: 71.47%, Val Acc: 51.91%, Test Acc: 46.71%\n",
            "Epoch 149/150, Train Loss: 0.9768, Val Loss: 2.0378, Test Loss: 2.2935\n",
            "Checkpoint saved at epoch 150: ./checkpoint_epoch_150.pth\n"
          ]
        },
        {
          "output_type": "display_data",
          "data": {
            "text/plain": [
              "<IPython.core.display.Javascript object>"
            ],
            "application/javascript": [
              "\n",
              "    async function download(id, filename, size) {\n",
              "      if (!google.colab.kernel.accessAllowed) {\n",
              "        return;\n",
              "      }\n",
              "      const div = document.createElement('div');\n",
              "      const label = document.createElement('label');\n",
              "      label.textContent = `Downloading \"${filename}\": `;\n",
              "      div.appendChild(label);\n",
              "      const progress = document.createElement('progress');\n",
              "      progress.max = size;\n",
              "      div.appendChild(progress);\n",
              "      document.body.appendChild(div);\n",
              "\n",
              "      const buffers = [];\n",
              "      let downloaded = 0;\n",
              "\n",
              "      const channel = await google.colab.kernel.comms.open(id);\n",
              "      // Send a message to notify the kernel that we're ready.\n",
              "      channel.send({})\n",
              "\n",
              "      for await (const message of channel.messages) {\n",
              "        // Send a message to notify the kernel that we're ready.\n",
              "        channel.send({})\n",
              "        if (message.buffers) {\n",
              "          for (const buffer of message.buffers) {\n",
              "            buffers.push(buffer);\n",
              "            downloaded += buffer.byteLength;\n",
              "            progress.value = downloaded;\n",
              "          }\n",
              "        }\n",
              "      }\n",
              "      const blob = new Blob(buffers, {type: 'application/binary'});\n",
              "      const a = document.createElement('a');\n",
              "      a.href = window.URL.createObjectURL(blob);\n",
              "      a.download = filename;\n",
              "      div.appendChild(a);\n",
              "      a.click();\n",
              "      div.remove();\n",
              "    }\n",
              "  "
            ]
          },
          "metadata": {}
        },
        {
          "output_type": "display_data",
          "data": {
            "text/plain": [
              "<IPython.core.display.Javascript object>"
            ],
            "application/javascript": [
              "download(\"download_bb7e07d9-b3b4-42df-83f4-60cbdaad53f7\", \"checkpoint_epoch_150.pth\", 6530194)"
            ]
          },
          "metadata": {}
        },
        {
          "output_type": "stream",
          "name": "stdout",
          "text": [
            "Epoch 150/150, Train Acc: 71.98%, Val Acc: 52.23%, Test Acc: 46.71%\n",
            "Epoch 150/150, Train Loss: 0.9646, Val Loss: 2.0335, Test Loss: 2.2982\n"
          ]
        },
        {
          "output_type": "display_data",
          "data": {
            "text/plain": [
              "<Figure size 600x400 with 1 Axes>"
            ],
            "image/png": "[encoded data removed]"
          },
          "metadata": {}
        },
        {
          "output_type": "display_data",
          "data": {
            "text/plain": [
              "<Figure size 600x400 with 1 Axes>"
            ],
            "image/png": "[encoded data removed]"
          },
          "metadata": {}
        },
        {
          "output_type": "display_data",
          "data": {
            "text/plain": [
              "<Figure size 600x400 with 1 Axes>"
            ],
            "image/png": "[encoded data removed]"
          },
          "metadata": {}
        },
        {
          "output_type": "display_data",
          "data": {
            "text/plain": [
              "<Figure size 600x400 with 1 Axes>"
            ],
            "image/png": "[encoded data removed]"
          },
          "metadata": {}
        },
        {
          "output_type": "display_data",
          "data": {
            "text/plain": [
              "<Figure size 600x400 with 1 Axes>"
            ],
            "image/png": "[encoded data removed]"
          },
          "metadata": {}
        },
        {
          "output_type": "display_data",
          "data": {
            "text/plain": [
              "<Figure size 600x400 with 1 Axes>"
            ],
            "image/png": "[encoded data removed]"
          },
          "metadata": {}
        },
        {
          "output_type": "display_data",
          "data": {
            "text/plain": [
              "<Figure size 640x480 with 0 Axes>"
            ]
          },
          "metadata": {}
        }
      ]
    }
  ]
}