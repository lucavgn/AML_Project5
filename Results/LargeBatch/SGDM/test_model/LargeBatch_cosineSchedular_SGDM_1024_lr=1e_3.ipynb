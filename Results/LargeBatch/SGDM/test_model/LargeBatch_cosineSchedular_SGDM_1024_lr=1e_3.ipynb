{
  "nbformat": 4,
  "nbformat_minor": 0,
  "metadata": {
    "colab": {
      "provenance": [],
      "gpuType": "T4"
    },
    "kernelspec": {
      "name": "python3",
      "display_name": "Python 3"
    },
    "language_info": {
      "name": "python"
    },
    "accelerator": "GPU"
  },
  "cells": [
    {
      "cell_type": "code",
      "execution_count": 5,
      "metadata": {
        "colab": {
          "base_uri": "https://localhost:8080/"
        },
        "id": "hZzQjEFPe-KB",
        "outputId": "0f117f9e-5fed-48cc-e9f9-42bd70485804"
      },
      "outputs": [
        {
          "output_type": "stream",
          "name": "stdout",
          "text": [
            "Overwriting large_batch_training.py\n"
          ]
        }
      ],
      "source": [
        "%%writefile large_batch_training.py\n",
        "\n",
        "import os\n",
        "import numpy as np\n",
        "import torch\n",
        "import torch.nn as nn\n",
        "import torch.optim as optim\n",
        "import torchvision\n",
        "import torchvision.transforms as transforms\n",
        "import matplotlib.pyplot as plt\n",
        "import argparse\n",
        "from torch.utils.data import random_split\n",
        "from google.colab import files\n",
        "\n",
        "def compute_mean_std(dataset):\n",
        "    \"\"\"Compute the mean and std of CIFAR-100 dataset.\n",
        "\n",
        "    Args:\n",
        "        dataset: A dataset derived from `torch.utils.data.Dataset`,\n",
        "                 such as `cifar100_training_dataset` or `cifar100_test_dataset`.\n",
        "\n",
        "    Returns:\n",
        "        A tuple containing (mean, std) for the entire dataset.\n",
        "    \"\"\"\n",
        "\n",
        "    # Extract images and labels\n",
        "    data_r = np.stack([np.array(dataset[i][0])[:, :, 0] for i in range(len(dataset))])\n",
        "    data_g = np.stack([np.array(dataset[i][0])[:, :, 1] for i in range(len(dataset))])\n",
        "    data_b = np.stack([np.array(dataset[i][0])[:, :, 2] for i in range(len(dataset))])\n",
        "\n",
        "    # Compute mean and std\n",
        "    mean = np.mean(data_r), np.mean(data_g), np.mean(data_b)\n",
        "    std = np.std(data_r), np.std(data_g), np.std(data_b)\n",
        "\n",
        "    return mean, std\n",
        "\n",
        "# Define LeNet-5 architecture\n",
        "class LeNet5(nn.Module):\n",
        "    def __init__(self):\n",
        "        super(LeNet5, self).__init__()\n",
        "        self.conv1 = nn.Conv2d(3, 64, 5)\n",
        "        self.relu1 = nn.ReLU()\n",
        "        self.pool1 = nn.MaxPool2d(2, 2)\n",
        "        self.conv2 = nn.Conv2d(64, 64, 5)\n",
        "        self.relu2 = nn.ReLU()\n",
        "        self.pool2 = nn.MaxPool2d(2, 2)\n",
        "        self.fc1 = nn.Linear(64 * 5 * 5, 384)\n",
        "        self.relu3 = nn.ReLU()\n",
        "        self.fc2 = nn.Linear(384, 192)\n",
        "        self.relu4 = nn.ReLU()\n",
        "        self.fc3 = nn.Linear(192, 100)\n",
        "\n",
        "    def forward(self, x):\n",
        "        x = self.pool1(self.relu1(self.conv1(x)))\n",
        "        x = self.pool2(self.relu2(self.conv2(x)))\n",
        "        x = x.view(-1, 64 * 5 * 5)\n",
        "        x = self.relu3(self.fc1(x))\n",
        "        x = self.relu4(self.fc2(x))\n",
        "        x = self.fc3(x)\n",
        "        return x\n",
        "\n",
        "# Device setup\n",
        "device = torch.device(\"cuda:0\" if torch.cuda.is_available() else \"cpu\")\n",
        "\n",
        "# Initialize model\n",
        "net = LeNet5().to(device)\n",
        "\n",
        "# Optimizer Subclasses\n",
        "class LARS(optim.Optimizer):\n",
        "    def __init__(self, params, lr, momentum=0.9, weight_decay=0, trust_coefficient=0.001):\n",
        "        # Initialize the optimizer with the learning rate, momentum, weight decay, and trust coefficient\n",
        "        defaults = dict(lr=lr, momentum=momentum, weight_decay=weight_decay, trust_coefficient=trust_coefficient)\n",
        "        super(LARS, self).__init__(params, defaults)\n",
        "\n",
        "    def step(self, closure=None):\n",
        "        loss = None\n",
        "        if closure is not None:\n",
        "            # If a closure is provided, evaluate it (commonly used for re-evaluating loss)\n",
        "            loss = closure()\n",
        "        for group in self.param_groups:\n",
        "            for p in group['params']:\n",
        "                if p.grad is None:\n",
        "                   # Skip parameters that have no gradient\n",
        "                    continue\n",
        "                grad = p.grad.data # Get the gradient of the parameter\n",
        "                # Retrieve or initialize the optimizer's internal state\n",
        "                state = self.state[p]\n",
        "                if len(state) == 0:\n",
        "                    state['momentum_buffer'] = torch.clone(grad).detach()\n",
        "                # Apply weight decay directly to the gradient\n",
        "                if group['weight_decay'] != 0:\n",
        "                    grad.add_(p.data, alpha=group['weight_decay'])\n",
        "                # Compute the norms of the parameter and its gradient\n",
        "                param_norm = torch.norm(p.data)\n",
        "                grad_norm = torch.norm(grad)\n",
        "                # Compute local learning rate based on the trust coefficient and norms\n",
        "                if param_norm > 0 and grad_norm > 0:\n",
        "                    local_lr = group['trust_coefficient'] * param_norm / (grad_norm + 1e-8)\n",
        "                    grad = grad.mul(local_lr) # Scale the gradient with the local learning rate\n",
        "                # Update the momentum buffer\n",
        "                momentum_buffer = state['momentum_buffer']\n",
        "                momentum_buffer.mul_(group['momentum']).add_(grad) #Momentum update\n",
        "                state['momentum_buffer'] = momentum_buffer\n",
        "                # Update the parameter\n",
        "                p.data.add_(momentum_buffer, alpha=-group['lr']) # Gradient descent step with learning rate\n",
        "        return loss\n",
        "\n",
        "class LAMB(optim.Optimizer):\n",
        "    def __init__(self, params, lr, weight_decay=0, betas=(0.9, 0.999), eps=1e-8):\n",
        "        # Initialize the optimizer with learning rate, weight decay, betas for moment updates, and epsilon for stability\n",
        "        defaults = dict(lr=lr, weight_decay=weight_decay, betas=betas, eps=eps)\n",
        "        super(LAMB, self).__init__(params, defaults)\n",
        "\n",
        "    def step(self, closure=None):\n",
        "        loss = None\n",
        "        if closure is not None:\n",
        "            # If a closure is provided, evaluate it\n",
        "            loss = closure()\n",
        "        for group in self.param_groups:\n",
        "            for p in group['params']:\n",
        "                if p.grad is None:\n",
        "                    # Skip parameters that have no gradient\n",
        "                    continue\n",
        "                grad = p.grad.data # Get the gradient of the parameter\n",
        "                # Retrieve or initialize the optimizer's internal state\n",
        "                state = self.state[p]\n",
        "                # Initialize state\n",
        "                if len(state) == 0:\n",
        "                    # Initialize the state (step counter, first moment, second moment)\n",
        "                    state['step'] = 0\n",
        "                    state['exp_avg'] = torch.zeros_like(p.data) # First moment (mean of gradients)\n",
        "                    state['exp_avg_sq'] = torch.zeros_like(p.data) # Second moment (mean of squared gradients)\n",
        "                exp_avg = state['exp_avg']\n",
        "                exp_avg_sq = state['exp_avg_sq']\n",
        "                beta1, beta2 = group['betas']  # Coefficients for moment updates\n",
        "                state['step'] += 1 # Increment step count\n",
        "                step = state['step']\n",
        "                # Decay the first and second moment running average coefficients\n",
        "                # Update first and second moments\n",
        "                exp_avg.mul_(beta1).add_(grad, alpha=1 - beta1) # Exponential moving average of gradients\n",
        "                exp_avg_sq.mul_(beta2).addcmul_(grad, grad, value=1 - beta2) # Exponential moving average of squared gradients\n",
        "                # Correct bias in the first and second moments\n",
        "                bias_correction1 = 1 - beta1 ** step\n",
        "                bias_correction2 = 1 - beta2 ** step\n",
        "                corrected_exp_avg = exp_avg / bias_correction1\n",
        "                corrected_exp_avg_sq = exp_avg_sq / bias_correction2\n",
        "                # Compute the denominator for scaling the update\n",
        "                denom = corrected_exp_avg_sq.sqrt().add_(group['eps']) # Stability epsilon\n",
        "                # Compute the step update\n",
        "                update = corrected_exp_avg / denom\n",
        "                # Apply weight decay directly to the parameters\n",
        "                if group['weight_decay'] != 0:\n",
        "                    update.add_(p.data, alpha=group['weight_decay'])\n",
        "                # Compute the trust ratio (norm of parameters vs norm of update)\n",
        "                param_norm = torch.norm(p.data)\n",
        "                update_norm = torch.norm(update)\n",
        "                trust_ratio = 1.0  # Default trust ratio\n",
        "                if param_norm > 0 and update_norm > 0:\n",
        "                    trust_ratio = param_norm / update_norm\n",
        "                # Update the parameters\n",
        "                p.data.add_(update, alpha=-group['lr'] * trust_ratio)\n",
        "        return loss\n",
        "\n",
        "\n",
        "# Command-line arguments\n",
        "parser = argparse.ArgumentParser(description='Train with Large-Batch Optimizers')\n",
        "parser.add_argument('--optimizer', type=str, default='SGDM', choices=['SGDM', 'AdamW', 'LARS', 'LAMB'],\n",
        "                    help='Choose optimizer')\n",
        "parser.add_argument('--batch-size', type=int, default=128, help='Batch size')\n",
        "parser.add_argument('--momentum', type=float, default=0.9, help='Momentum for SGDM and LARS')\n",
        "parser.add_argument('--weight-decay', type=float, default=1e-5, help='Weight decay')\n",
        "parser.add_argument('--b1', type=float, default=0.9, help='Beta1 for AdamW')\n",
        "parser.add_argument('--b2', type=float, default=0.999, help='Beta2 for AdamW')\n",
        "parser.add_argument('--trust-coefficient', type=float, default=0.001, help='Trust coefficient for LARS')\n",
        "parser.add_argument('--epochs', type=int, default=150, help='Number of epochs')\n",
        "parser.add_argument('--warmup-epochs', type=int, default=5, help='Number of epochs')\n",
        "args = parser.parse_args()\n",
        "\n",
        "\n",
        "torch.manual_seed(42) # Set the seed for reproducibility\n",
        "torch.cuda.manual_seed_all(42) # Set the seed for reproducibility on GPU\n",
        "\n",
        "# use the same mean and std to add consistency to all datasets\n",
        "data = torchvision.datasets.CIFAR100(root='./data', train=True, download=True, transform=transforms.ToTensor())\n",
        "mean, std = compute_mean_std(data)\n",
        "\n",
        "# Load and split CIFAR-100 dataset\n",
        "train_transform = transforms.Compose([\n",
        "  transforms.RandomCrop(32, padding=4),\n",
        "  transforms.RandomHorizontalFlip(),\n",
        "  transforms.ToTensor(),\n",
        "  transforms.Normalize(mean, std)\n",
        "])\n",
        "\n",
        "test_transform = transforms.Compose([\n",
        "    transforms.ToTensor(),  # Convert to PyTorch tensor\n",
        "    transforms.Normalize(mean, std)\n",
        "])\n",
        "\n",
        "trainset = torchvision.datasets.CIFAR100(root='./data', train=True, download=True, transform=train_transform)\n",
        "trainloader = torch.utils.data.DataLoader(trainset, batch_size=args.batch_size, shuffle=True, num_workers=2)\n",
        "\n",
        "testset = torchvision.datasets.CIFAR100(root='./data', train=False, download=True, transform=test_transform)\n",
        "testloader = torch.utils.data.DataLoader(testset, batch_size=args.batch_size, shuffle=False, num_workers=2)\n",
        "\n",
        "\n",
        "# Fixed parameter from paper [18] to calculate the square root LR scaling value\n",
        "# base_lr = 5 / (2**3 * 10**3)\n",
        "# reference_batch_size = 512\n",
        "#scaled_lr = base_lr * (args.batch_size / reference_batch_size) ** 0.5\n",
        "\n",
        "# Mapping optimizers\n",
        "if args.optimizer == 'SGDM':\n",
        "    base_lr = 1e-3\n",
        "    reference_batch_size = 64\n",
        "    scaled_lr = base_lr * (args.batch_size / reference_batch_size) ** 0.5\n",
        "    optimizer = optim.SGD(net.parameters(), lr=scaled_lr, momentum=args.momentum, weight_decay=args.weight_decay)\n",
        "elif args.optimizer == 'AdamW':\n",
        "    base_lr = 5e-4\n",
        "    reference_batch_size = 64\n",
        "    scaled_lr = base_lr * (args.batch_size / reference_batch_size) ** 0.5\n",
        "    optimizer = optim.AdamW(net.parameters(), lr=scaled_lr, betas=(args.b1, args.b2), weight_decay=args.weight_decay)\n",
        "elif args.optimizer == 'LARS':\n",
        "    base_lr = 1e-2\n",
        "    reference_batch_size = 64\n",
        "    scaled_lr = base_lr * (args.batch_size / reference_batch_size) ** 0.5\n",
        "    optimizer = LARS(net.parameters(), lr=scaled_lr, momentum=args.momentum, weight_decay=args.weight_decay, trust_coefficient=args.trust_coefficient)\n",
        "elif args.optimizer == 'LAMB':\n",
        "    base_lr = 5e-4\n",
        "    reference_batch_size = 64\n",
        "    scaled_lr = base_lr * (args.batch_size / reference_batch_size) ** 0.5\n",
        "    optimizer = LAMB(net.parameters(), lr=scaled_lr, weight_decay=args.weight_decay)\n",
        "\n",
        "criterion = nn.CrossEntropyLoss()\n",
        "\n",
        "# Scheduler initialization\n",
        "scheduler = optim.lr_scheduler.CosineAnnealingLR(optimizer=optimizer, T_max=args.epochs - args.warmup_epochs)\n",
        "\n",
        "# Training Function\n",
        "def train_model(optimizer, scheduler, model, criterion, trainloader , testloader, device, epochs, save_checkpoint_interval=10):\n",
        "    train_losses, test_losses = [], []\n",
        "    train_accuracies, test_accuracies = [], []\n",
        "    for epoch in range(epochs):\n",
        "        model.train()\n",
        "        running_loss, correct_train, total_train = 0.0, 0, 0\n",
        "        for inputs, labels in trainloader:\n",
        "            inputs, labels = inputs.to(device), labels.to(device)\n",
        "            optimizer.zero_grad()\n",
        "            outputs = model(inputs)\n",
        "            loss = criterion(outputs, labels)\n",
        "            loss.backward()\n",
        "            optimizer.step()\n",
        "            running_loss += loss.item()\n",
        "            _, predicted = outputs.max(1)\n",
        "            total_train += labels.size(0)\n",
        "            correct_train += predicted.eq(labels).sum().item()\n",
        "        train_loss = running_loss / len(trainloader)\n",
        "        train_accuracy = 100. * correct_train / total_train\n",
        "        train_losses.append(train_loss)\n",
        "        train_accuracies.append(train_accuracy)\n",
        "\n",
        "        '''\n",
        "        # Early Stopping\n",
        "        if val_loss < best_val_loss:\n",
        "          best_val_loss = val_loss\n",
        "          epochs_no_improve = 0\n",
        "        else:\n",
        "          epochs_no_improve += 1\n",
        "\n",
        "        if epochs_no_improve == patience:\n",
        "          print(\"Early stopping!\")\n",
        "          break\n",
        "        '''\n",
        "\n",
        "        # Test\n",
        "        correct_test, total_test, test_loss = 0, 0, 0.0\n",
        "        with torch.no_grad():\n",
        "            for inputs, labels in testloader:\n",
        "                inputs, labels = inputs.to(device), labels.to(device)\n",
        "                outputs = model(inputs)\n",
        "                loss = criterion(outputs, labels)\n",
        "                test_loss += loss.item()\n",
        "                _, predicted = outputs.max(1)\n",
        "                total_test += labels.size(0)\n",
        "                correct_test += predicted.eq(labels).sum().item()\n",
        "        test_loss /= len(testloader)\n",
        "        test_losses.append(test_loss)\n",
        "        test_accuracy = 100. * correct_test / total_test\n",
        "        test_accuracies.append(test_accuracy)\n",
        "\n",
        "        if epoch >= args.warmup_epochs:\n",
        "            scheduler.step()  # Trigger cosine decay\n",
        "        else:\n",
        "            warmup_factor = (epoch + 1) / args.warmup_epochs\n",
        "            lr = warmup_factor * scaled_lr\n",
        "            for param_group in optimizer.param_groups:\n",
        "                param_group['lr'] = lr\n",
        "\n",
        "        # Checkpointing\n",
        "        if (epoch + 1) % save_checkpoint_interval == 0:\n",
        "            checkpoint_filename = f'checkpoint_epoch_{epoch + 1}.pth'\n",
        "            checkpoint = {\n",
        "                'epoch': epoch + 1,\n",
        "                'model_state_dict': model.state_dict(),\n",
        "                'optimizer_state_dict': optimizer.state_dict(),\n",
        "                'scheduler_state_dict': scheduler.state_dict(),\n",
        "                'loss': loss.item(),\n",
        "            }\n",
        "            checkpoint_path = os.path.join('./', checkpoint_filename)\n",
        "            torch.save(checkpoint, checkpoint_path)\n",
        "            print(f'Checkpoint saved at epoch {epoch + 1}: {checkpoint_path}')\n",
        "\n",
        "            # Download the checkpoint\n",
        "            files.download(checkpoint_filename)\n",
        "\n",
        "        print(f'Epoch {epoch+1}/{epochs}, Train Acc: {train_accuracy:.2f}%, Test Acc: {test_accuracy:.2f}%')\n",
        "        print(f'Epoch {epoch+1}/{epochs}, Train Loss: {train_loss:.4f}, Test Loss: {test_loss:.4f}')\n",
        "\n",
        "    return train_losses, test_losses, train_accuracies, test_accuracies\n",
        "\n",
        "# Train the model\n",
        "print(f\"--- Train with {args.optimizer} ---\")\n",
        "train_loss, test_loss, train_acc, test_acc = train_model(optimizer, scheduler, net, criterion, trainloader, testloader, device, args.epochs)\n",
        "\n",
        "# Save model\n",
        "torch.save(net.state_dict(), f'net_{args.optimizer}.pth')\n",
        "\n",
        "# Plot results\n",
        "# Plot Training Loss\n",
        "plt.figure(figsize=(6, 4))\n",
        "plt.plot(train_loss, label='Train Loss')\n",
        "plt.title('Training Loss')\n",
        "plt.xlabel('Epoch')\n",
        "plt.ylabel('Loss')\n",
        "plt.legend()\n",
        "plt.tight_layout()\n",
        "plt.savefig('train_loss.png')\n",
        "plt.show()\n",
        "\n",
        "# Plot Training Accuracy\n",
        "plt.figure(figsize=(6, 4))\n",
        "plt.plot(train_acc, label='Train Accuracy')\n",
        "plt.title('Training Accuracy')\n",
        "plt.xlabel('Epoch')\n",
        "plt.ylabel('Accuracy (%)')\n",
        "plt.legend()\n",
        "plt.tight_layout()\n",
        "plt.savefig('train_accuracy.png')\n",
        "plt.show()\n",
        "\n",
        "# Plot Test Loss\n",
        "plt.figure(figsize=(6, 4))\n",
        "plt.plot(test_loss, label='Test Loss')\n",
        "plt.title('Test Loss')\n",
        "plt.xlabel('Epoch')\n",
        "plt.ylabel('Loss')\n",
        "plt.legend()\n",
        "plt.tight_layout()\n",
        "plt.savefig('test_loss.png')\n",
        "plt.show()\n",
        "\n",
        "# Plot Test Accuracy\n",
        "plt.figure(figsize=(6, 4))\n",
        "plt.plot(test_acc, label='Test Accuracy')\n",
        "plt.title('Test Accuracy')\n",
        "plt.xlabel('Epoch')\n",
        "plt.ylabel('Accuracy (%)')\n",
        "plt.legend()\n",
        "plt.tight_layout()\n",
        "plt.savefig('test_accuracy.png')\n",
        "plt.show()"
      ]
    },
    {
      "cell_type": "code",
      "source": [
        "%run large_batch_training.py --optimizer SGDM --batch-size 1024 --weight-decay 4e-4"
      ],
      "metadata": {
        "colab": {
          "base_uri": "https://localhost:8080/",
          "height": 1000
        },
        "id": "Nbav9UMyfSCi",
        "outputId": "1d520019-ca9b-4f94-ca9d-e4effc37d30c"
      },
      "execution_count": 6,
      "outputs": [
        {
          "output_type": "stream",
          "name": "stdout",
          "text": [
            "Files already downloaded and verified\n",
            "Files already downloaded and verified\n",
            "Files already downloaded and verified\n",
            "--- Train with SGDM ---\n",
            "Epoch 1/150, Train Acc: 0.88%, Test Acc: 1.00%\n",
            "Epoch 1/150, Train Loss: 4.6052, Test Loss: 4.6034\n",
            "Epoch 2/150, Train Acc: 1.00%, Test Acc: 1.02%\n",
            "Epoch 2/150, Train Loss: 4.6030, Test Loss: 4.6025\n",
            "Epoch 3/150, Train Acc: 0.93%, Test Acc: 1.09%\n",
            "Epoch 3/150, Train Loss: 4.6017, Test Loss: 4.6005\n",
            "Epoch 4/150, Train Acc: 1.14%, Test Acc: 1.37%\n",
            "Epoch 4/150, Train Loss: 4.5987, Test Loss: 4.5963\n",
            "Epoch 5/150, Train Acc: 1.58%, Test Acc: 2.07%\n",
            "Epoch 5/150, Train Loss: 4.5921, Test Loss: 4.5859\n",
            "Epoch 6/150, Train Acc: 2.06%, Test Acc: 2.35%\n",
            "Epoch 6/150, Train Loss: 4.5742, Test Loss: 4.5559\n",
            "Epoch 7/150, Train Acc: 2.28%, Test Acc: 2.93%\n",
            "Epoch 7/150, Train Loss: 4.5301, Test Loss: 4.4943\n",
            "Epoch 8/150, Train Acc: 3.32%, Test Acc: 3.75%\n",
            "Epoch 8/150, Train Loss: 4.4561, Test Loss: 4.3887\n",
            "Epoch 9/150, Train Acc: 5.10%, Test Acc: 6.62%\n",
            "Epoch 9/150, Train Loss: 4.3217, Test Loss: 4.2080\n",
            "Checkpoint saved at epoch 10: ./checkpoint_epoch_10.pth\n"
          ]
        },
        {
          "output_type": "display_data",
          "data": {
            "text/plain": [
              "<IPython.core.display.Javascript object>"
            ],
            "application/javascript": [
              "\n",
              "    async function download(id, filename, size) {\n",
              "      if (!google.colab.kernel.accessAllowed) {\n",
              "        return;\n",
              "      }\n",
              "      const div = document.createElement('div');\n",
              "      const label = document.createElement('label');\n",
              "      label.textContent = `Downloading \"${filename}\": `;\n",
              "      div.appendChild(label);\n",
              "      const progress = document.createElement('progress');\n",
              "      progress.max = size;\n",
              "      div.appendChild(progress);\n",
              "      document.body.appendChild(div);\n",
              "\n",
              "      const buffers = [];\n",
              "      let downloaded = 0;\n",
              "\n",
              "      const channel = await google.colab.kernel.comms.open(id);\n",
              "      // Send a message to notify the kernel that we're ready.\n",
              "      channel.send({})\n",
              "\n",
              "      for await (const message of channel.messages) {\n",
              "        // Send a message to notify the kernel that we're ready.\n",
              "        channel.send({})\n",
              "        if (message.buffers) {\n",
              "          for (const buffer of message.buffers) {\n",
              "            buffers.push(buffer);\n",
              "            downloaded += buffer.byteLength;\n",
              "            progress.value = downloaded;\n",
              "          }\n",
              "        }\n",
              "      }\n",
              "      const blob = new Blob(buffers, {type: 'application/binary'});\n",
              "      const a = document.createElement('a');\n",
              "      a.href = window.URL.createObjectURL(blob);\n",
              "      a.download = filename;\n",
              "      div.appendChild(a);\n",
              "      a.click();\n",
              "      div.remove();\n",
              "    }\n",
              "  "
            ]
          },
          "metadata": {}
        },
        {
          "output_type": "display_data",
          "data": {
            "text/plain": [
              "<IPython.core.display.Javascript object>"
            ],
            "application/javascript": [
              "download(\"download_3da61f38-e418-4259-ad74-25a514a11b35\", \"checkpoint_epoch_10.pth\", 6530106)"
            ]
          },
          "metadata": {}
        },
        {
          "output_type": "stream",
          "name": "stdout",
          "text": [
            "Epoch 10/150, Train Acc: 6.97%, Test Acc: 8.06%\n",
            "Epoch 10/150, Train Loss: 4.1642, Test Loss: 4.0731\n",
            "Epoch 11/150, Train Acc: 7.72%, Test Acc: 8.42%\n",
            "Epoch 11/150, Train Loss: 4.0832, Test Loss: 4.0252\n",
            "Epoch 12/150, Train Acc: 8.56%, Test Acc: 9.69%\n",
            "Epoch 12/150, Train Loss: 4.0315, Test Loss: 3.9698\n",
            "Epoch 13/150, Train Acc: 9.37%, Test Acc: 10.12%\n",
            "Epoch 13/150, Train Loss: 3.9907, Test Loss: 3.9279\n",
            "Epoch 14/150, Train Acc: 9.95%, Test Acc: 11.02%\n",
            "Epoch 14/150, Train Loss: 3.9504, Test Loss: 3.8796\n",
            "Epoch 15/150, Train Acc: 10.76%, Test Acc: 11.74%\n",
            "Epoch 15/150, Train Loss: 3.9010, Test Loss: 3.8361\n",
            "Epoch 16/150, Train Acc: 11.40%, Test Acc: 12.89%\n",
            "Epoch 16/150, Train Loss: 3.8588, Test Loss: 3.7801\n",
            "Epoch 17/150, Train Acc: 12.11%, Test Acc: 13.23%\n",
            "Epoch 17/150, Train Loss: 3.8114, Test Loss: 3.7464\n",
            "Epoch 18/150, Train Acc: 12.90%, Test Acc: 14.19%\n",
            "Epoch 18/150, Train Loss: 3.7726, Test Loss: 3.7009\n",
            "Epoch 19/150, Train Acc: 13.45%, Test Acc: 14.64%\n",
            "Epoch 19/150, Train Loss: 3.7331, Test Loss: 3.6695\n",
            "Checkpoint saved at epoch 20: ./checkpoint_epoch_20.pth\n"
          ]
        },
        {
          "output_type": "display_data",
          "data": {
            "text/plain": [
              "<IPython.core.display.Javascript object>"
            ],
            "application/javascript": [
              "\n",
              "    async function download(id, filename, size) {\n",
              "      if (!google.colab.kernel.accessAllowed) {\n",
              "        return;\n",
              "      }\n",
              "      const div = document.createElement('div');\n",
              "      const label = document.createElement('label');\n",
              "      label.textContent = `Downloading \"${filename}\": `;\n",
              "      div.appendChild(label);\n",
              "      const progress = document.createElement('progress');\n",
              "      progress.max = size;\n",
              "      div.appendChild(progress);\n",
              "      document.body.appendChild(div);\n",
              "\n",
              "      const buffers = [];\n",
              "      let downloaded = 0;\n",
              "\n",
              "      const channel = await google.colab.kernel.comms.open(id);\n",
              "      // Send a message to notify the kernel that we're ready.\n",
              "      channel.send({})\n",
              "\n",
              "      for await (const message of channel.messages) {\n",
              "        // Send a message to notify the kernel that we're ready.\n",
              "        channel.send({})\n",
              "        if (message.buffers) {\n",
              "          for (const buffer of message.buffers) {\n",
              "            buffers.push(buffer);\n",
              "            downloaded += buffer.byteLength;\n",
              "            progress.value = downloaded;\n",
              "          }\n",
              "        }\n",
              "      }\n",
              "      const blob = new Blob(buffers, {type: 'application/binary'});\n",
              "      const a = document.createElement('a');\n",
              "      a.href = window.URL.createObjectURL(blob);\n",
              "      a.download = filename;\n",
              "      div.appendChild(a);\n",
              "      a.click();\n",
              "      div.remove();\n",
              "    }\n",
              "  "
            ]
          },
          "metadata": {}
        },
        {
          "output_type": "display_data",
          "data": {
            "text/plain": [
              "<IPython.core.display.Javascript object>"
            ],
            "application/javascript": [
              "download(\"download_3b3b0535-8bcb-4a39-8ada-c73fd6e17a20\", \"checkpoint_epoch_20.pth\", 6530106)"
            ]
          },
          "metadata": {}
        },
        {
          "output_type": "stream",
          "name": "stdout",
          "text": [
            "Epoch 20/150, Train Acc: 13.73%, Test Acc: 15.49%\n",
            "Epoch 20/150, Train Loss: 3.7034, Test Loss: 3.6307\n",
            "Epoch 21/150, Train Acc: 14.35%, Test Acc: 15.16%\n",
            "Epoch 21/150, Train Loss: 3.6730, Test Loss: 3.6103\n",
            "Epoch 22/150, Train Acc: 15.10%, Test Acc: 16.53%\n",
            "Epoch 22/150, Train Loss: 3.6385, Test Loss: 3.5734\n",
            "Epoch 23/150, Train Acc: 15.56%, Test Acc: 16.83%\n",
            "Epoch 23/150, Train Loss: 3.6076, Test Loss: 3.5366\n",
            "Epoch 24/150, Train Acc: 16.14%, Test Acc: 18.00%\n",
            "Epoch 24/150, Train Loss: 3.5665, Test Loss: 3.5020\n",
            "Epoch 25/150, Train Acc: 16.45%, Test Acc: 17.93%\n",
            "Epoch 25/150, Train Loss: 3.5427, Test Loss: 3.4698\n",
            "Epoch 26/150, Train Acc: 17.41%, Test Acc: 18.08%\n",
            "Epoch 26/150, Train Loss: 3.5020, Test Loss: 3.4533\n",
            "Epoch 27/150, Train Acc: 17.94%, Test Acc: 18.40%\n",
            "Epoch 27/150, Train Loss: 3.4711, Test Loss: 3.4330\n",
            "Epoch 28/150, Train Acc: 18.19%, Test Acc: 19.60%\n",
            "Epoch 28/150, Train Loss: 3.4481, Test Loss: 3.3898\n",
            "Epoch 29/150, Train Acc: 18.79%, Test Acc: 19.04%\n",
            "Epoch 29/150, Train Loss: 3.4145, Test Loss: 3.3866\n",
            "Checkpoint saved at epoch 30: ./checkpoint_epoch_30.pth\n"
          ]
        },
        {
          "output_type": "display_data",
          "data": {
            "text/plain": [
              "<IPython.core.display.Javascript object>"
            ],
            "application/javascript": [
              "\n",
              "    async function download(id, filename, size) {\n",
              "      if (!google.colab.kernel.accessAllowed) {\n",
              "        return;\n",
              "      }\n",
              "      const div = document.createElement('div');\n",
              "      const label = document.createElement('label');\n",
              "      label.textContent = `Downloading \"${filename}\": `;\n",
              "      div.appendChild(label);\n",
              "      const progress = document.createElement('progress');\n",
              "      progress.max = size;\n",
              "      div.appendChild(progress);\n",
              "      document.body.appendChild(div);\n",
              "\n",
              "      const buffers = [];\n",
              "      let downloaded = 0;\n",
              "\n",
              "      const channel = await google.colab.kernel.comms.open(id);\n",
              "      // Send a message to notify the kernel that we're ready.\n",
              "      channel.send({})\n",
              "\n",
              "      for await (const message of channel.messages) {\n",
              "        // Send a message to notify the kernel that we're ready.\n",
              "        channel.send({})\n",
              "        if (message.buffers) {\n",
              "          for (const buffer of message.buffers) {\n",
              "            buffers.push(buffer);\n",
              "            downloaded += buffer.byteLength;\n",
              "            progress.value = downloaded;\n",
              "          }\n",
              "        }\n",
              "      }\n",
              "      const blob = new Blob(buffers, {type: 'application/binary'});\n",
              "      const a = document.createElement('a');\n",
              "      a.href = window.URL.createObjectURL(blob);\n",
              "      a.download = filename;\n",
              "      div.appendChild(a);\n",
              "      a.click();\n",
              "      div.remove();\n",
              "    }\n",
              "  "
            ]
          },
          "metadata": {}
        },
        {
          "output_type": "display_data",
          "data": {
            "text/plain": [
              "<IPython.core.display.Javascript object>"
            ],
            "application/javascript": [
              "download(\"download_362341be-a75a-4f4c-9638-70519764e9a5\", \"checkpoint_epoch_30.pth\", 6530106)"
            ]
          },
          "metadata": {}
        },
        {
          "output_type": "stream",
          "name": "stdout",
          "text": [
            "Epoch 30/150, Train Acc: 19.33%, Test Acc: 19.96%\n",
            "Epoch 30/150, Train Loss: 3.3859, Test Loss: 3.3583\n",
            "Epoch 31/150, Train Acc: 19.81%, Test Acc: 21.15%\n",
            "Epoch 31/150, Train Loss: 3.3623, Test Loss: 3.3060\n",
            "Epoch 32/150, Train Acc: 20.13%, Test Acc: 21.19%\n",
            "Epoch 32/150, Train Loss: 3.3397, Test Loss: 3.2943\n",
            "Epoch 33/150, Train Acc: 20.61%, Test Acc: 21.41%\n",
            "Epoch 33/150, Train Loss: 3.3121, Test Loss: 3.2813\n",
            "Epoch 34/150, Train Acc: 21.08%, Test Acc: 22.29%\n",
            "Epoch 34/150, Train Loss: 3.2885, Test Loss: 3.2369\n",
            "Epoch 35/150, Train Acc: 21.48%, Test Acc: 22.37%\n",
            "Epoch 35/150, Train Loss: 3.2673, Test Loss: 3.2336\n",
            "Epoch 36/150, Train Acc: 21.98%, Test Acc: 23.27%\n",
            "Epoch 36/150, Train Loss: 3.2468, Test Loss: 3.1895\n",
            "Epoch 37/150, Train Acc: 22.33%, Test Acc: 22.33%\n",
            "Epoch 37/150, Train Loss: 3.2184, Test Loss: 3.2103\n",
            "Epoch 38/150, Train Acc: 23.01%, Test Acc: 23.23%\n",
            "Epoch 38/150, Train Loss: 3.1928, Test Loss: 3.1825\n",
            "Epoch 39/150, Train Acc: 23.30%, Test Acc: 23.80%\n",
            "Epoch 39/150, Train Loss: 3.1776, Test Loss: 3.1647\n",
            "Checkpoint saved at epoch 40: ./checkpoint_epoch_40.pth\n"
          ]
        },
        {
          "output_type": "display_data",
          "data": {
            "text/plain": [
              "<IPython.core.display.Javascript object>"
            ],
            "application/javascript": [
              "\n",
              "    async function download(id, filename, size) {\n",
              "      if (!google.colab.kernel.accessAllowed) {\n",
              "        return;\n",
              "      }\n",
              "      const div = document.createElement('div');\n",
              "      const label = document.createElement('label');\n",
              "      label.textContent = `Downloading \"${filename}\": `;\n",
              "      div.appendChild(label);\n",
              "      const progress = document.createElement('progress');\n",
              "      progress.max = size;\n",
              "      div.appendChild(progress);\n",
              "      document.body.appendChild(div);\n",
              "\n",
              "      const buffers = [];\n",
              "      let downloaded = 0;\n",
              "\n",
              "      const channel = await google.colab.kernel.comms.open(id);\n",
              "      // Send a message to notify the kernel that we're ready.\n",
              "      channel.send({})\n",
              "\n",
              "      for await (const message of channel.messages) {\n",
              "        // Send a message to notify the kernel that we're ready.\n",
              "        channel.send({})\n",
              "        if (message.buffers) {\n",
              "          for (const buffer of message.buffers) {\n",
              "            buffers.push(buffer);\n",
              "            downloaded += buffer.byteLength;\n",
              "            progress.value = downloaded;\n",
              "          }\n",
              "        }\n",
              "      }\n",
              "      const blob = new Blob(buffers, {type: 'application/binary'});\n",
              "      const a = document.createElement('a');\n",
              "      a.href = window.URL.createObjectURL(blob);\n",
              "      a.download = filename;\n",
              "      div.appendChild(a);\n",
              "      a.click();\n",
              "      div.remove();\n",
              "    }\n",
              "  "
            ]
          },
          "metadata": {}
        },
        {
          "output_type": "display_data",
          "data": {
            "text/plain": [
              "<IPython.core.display.Javascript object>"
            ],
            "application/javascript": [
              "download(\"download_04c3462d-2206-4d07-9965-02e0b480b3be\", \"checkpoint_epoch_40.pth\", 6530106)"
            ]
          },
          "metadata": {}
        },
        {
          "output_type": "stream",
          "name": "stdout",
          "text": [
            "Epoch 40/150, Train Acc: 23.49%, Test Acc: 24.10%\n",
            "Epoch 40/150, Train Loss: 3.1619, Test Loss: 3.1379\n",
            "Epoch 41/150, Train Acc: 23.94%, Test Acc: 24.65%\n",
            "Epoch 41/150, Train Loss: 3.1373, Test Loss: 3.1371\n",
            "Epoch 42/150, Train Acc: 24.13%, Test Acc: 24.59%\n",
            "Epoch 42/150, Train Loss: 3.1193, Test Loss: 3.1192\n",
            "Epoch 43/150, Train Acc: 24.46%, Test Acc: 25.54%\n",
            "Epoch 43/150, Train Loss: 3.0995, Test Loss: 3.0661\n",
            "Epoch 44/150, Train Acc: 25.05%, Test Acc: 26.20%\n",
            "Epoch 44/150, Train Loss: 3.0696, Test Loss: 3.0383\n",
            "Epoch 45/150, Train Acc: 25.31%, Test Acc: 26.21%\n",
            "Epoch 45/150, Train Loss: 3.0557, Test Loss: 3.0398\n",
            "Epoch 46/150, Train Acc: 25.63%, Test Acc: 27.54%\n",
            "Epoch 46/150, Train Loss: 3.0416, Test Loss: 2.9884\n",
            "Epoch 47/150, Train Acc: 25.78%, Test Acc: 26.90%\n",
            "Epoch 47/150, Train Loss: 3.0250, Test Loss: 2.9832\n",
            "Epoch 48/150, Train Acc: 25.96%, Test Acc: 26.58%\n",
            "Epoch 48/150, Train Loss: 3.0118, Test Loss: 3.0015\n",
            "Epoch 49/150, Train Acc: 26.55%, Test Acc: 28.75%\n",
            "Epoch 49/150, Train Loss: 2.9923, Test Loss: 2.9334\n",
            "Checkpoint saved at epoch 50: ./checkpoint_epoch_50.pth\n"
          ]
        },
        {
          "output_type": "display_data",
          "data": {
            "text/plain": [
              "<IPython.core.display.Javascript object>"
            ],
            "application/javascript": [
              "\n",
              "    async function download(id, filename, size) {\n",
              "      if (!google.colab.kernel.accessAllowed) {\n",
              "        return;\n",
              "      }\n",
              "      const div = document.createElement('div');\n",
              "      const label = document.createElement('label');\n",
              "      label.textContent = `Downloading \"${filename}\": `;\n",
              "      div.appendChild(label);\n",
              "      const progress = document.createElement('progress');\n",
              "      progress.max = size;\n",
              "      div.appendChild(progress);\n",
              "      document.body.appendChild(div);\n",
              "\n",
              "      const buffers = [];\n",
              "      let downloaded = 0;\n",
              "\n",
              "      const channel = await google.colab.kernel.comms.open(id);\n",
              "      // Send a message to notify the kernel that we're ready.\n",
              "      channel.send({})\n",
              "\n",
              "      for await (const message of channel.messages) {\n",
              "        // Send a message to notify the kernel that we're ready.\n",
              "        channel.send({})\n",
              "        if (message.buffers) {\n",
              "          for (const buffer of message.buffers) {\n",
              "            buffers.push(buffer);\n",
              "            downloaded += buffer.byteLength;\n",
              "            progress.value = downloaded;\n",
              "          }\n",
              "        }\n",
              "      }\n",
              "      const blob = new Blob(buffers, {type: 'application/binary'});\n",
              "      const a = document.createElement('a');\n",
              "      a.href = window.URL.createObjectURL(blob);\n",
              "      a.download = filename;\n",
              "      div.appendChild(a);\n",
              "      a.click();\n",
              "      div.remove();\n",
              "    }\n",
              "  "
            ]
          },
          "metadata": {}
        },
        {
          "output_type": "display_data",
          "data": {
            "text/plain": [
              "<IPython.core.display.Javascript object>"
            ],
            "application/javascript": [
              "download(\"download_d0c62a51-96cd-4b0b-8a21-e20f8c4b46ad\", \"checkpoint_epoch_50.pth\", 6530106)"
            ]
          },
          "metadata": {}
        },
        {
          "output_type": "stream",
          "name": "stdout",
          "text": [
            "Epoch 50/150, Train Acc: 27.15%, Test Acc: 28.09%\n",
            "Epoch 50/150, Train Loss: 2.9681, Test Loss: 2.9303\n",
            "Epoch 51/150, Train Acc: 27.30%, Test Acc: 28.69%\n",
            "Epoch 51/150, Train Loss: 2.9618, Test Loss: 2.9138\n",
            "Epoch 52/150, Train Acc: 27.52%, Test Acc: 28.97%\n",
            "Epoch 52/150, Train Loss: 2.9432, Test Loss: 2.8905\n",
            "Epoch 53/150, Train Acc: 27.43%, Test Acc: 28.20%\n",
            "Epoch 53/150, Train Loss: 2.9345, Test Loss: 2.9350\n",
            "Epoch 54/150, Train Acc: 27.88%, Test Acc: 28.32%\n",
            "Epoch 54/150, Train Loss: 2.9251, Test Loss: 2.9067\n",
            "Epoch 55/150, Train Acc: 28.20%, Test Acc: 29.59%\n",
            "Epoch 55/150, Train Loss: 2.9146, Test Loss: 2.8666\n",
            "Epoch 56/150, Train Acc: 28.58%, Test Acc: 30.29%\n",
            "Epoch 56/150, Train Loss: 2.8945, Test Loss: 2.8344\n",
            "Epoch 57/150, Train Acc: 29.02%, Test Acc: 29.95%\n",
            "Epoch 57/150, Train Loss: 2.8758, Test Loss: 2.8324\n",
            "Epoch 58/150, Train Acc: 29.34%, Test Acc: 29.80%\n",
            "Epoch 58/150, Train Loss: 2.8626, Test Loss: 2.8297\n",
            "Epoch 59/150, Train Acc: 29.26%, Test Acc: 30.40%\n",
            "Epoch 59/150, Train Loss: 2.8519, Test Loss: 2.8333\n",
            "Checkpoint saved at epoch 60: ./checkpoint_epoch_60.pth\n"
          ]
        },
        {
          "output_type": "display_data",
          "data": {
            "text/plain": [
              "<IPython.core.display.Javascript object>"
            ],
            "application/javascript": [
              "\n",
              "    async function download(id, filename, size) {\n",
              "      if (!google.colab.kernel.accessAllowed) {\n",
              "        return;\n",
              "      }\n",
              "      const div = document.createElement('div');\n",
              "      const label = document.createElement('label');\n",
              "      label.textContent = `Downloading \"${filename}\": `;\n",
              "      div.appendChild(label);\n",
              "      const progress = document.createElement('progress');\n",
              "      progress.max = size;\n",
              "      div.appendChild(progress);\n",
              "      document.body.appendChild(div);\n",
              "\n",
              "      const buffers = [];\n",
              "      let downloaded = 0;\n",
              "\n",
              "      const channel = await google.colab.kernel.comms.open(id);\n",
              "      // Send a message to notify the kernel that we're ready.\n",
              "      channel.send({})\n",
              "\n",
              "      for await (const message of channel.messages) {\n",
              "        // Send a message to notify the kernel that we're ready.\n",
              "        channel.send({})\n",
              "        if (message.buffers) {\n",
              "          for (const buffer of message.buffers) {\n",
              "            buffers.push(buffer);\n",
              "            downloaded += buffer.byteLength;\n",
              "            progress.value = downloaded;\n",
              "          }\n",
              "        }\n",
              "      }\n",
              "      const blob = new Blob(buffers, {type: 'application/binary'});\n",
              "      const a = document.createElement('a');\n",
              "      a.href = window.URL.createObjectURL(blob);\n",
              "      a.download = filename;\n",
              "      div.appendChild(a);\n",
              "      a.click();\n",
              "      div.remove();\n",
              "    }\n",
              "  "
            ]
          },
          "metadata": {}
        },
        {
          "output_type": "display_data",
          "data": {
            "text/plain": [
              "<IPython.core.display.Javascript object>"
            ],
            "application/javascript": [
              "download(\"download_55f017bc-7d0d-4ca7-ab00-77670c01261b\", \"checkpoint_epoch_60.pth\", 6530106)"
            ]
          },
          "metadata": {}
        },
        {
          "output_type": "stream",
          "name": "stdout",
          "text": [
            "Epoch 60/150, Train Acc: 29.65%, Test Acc: 30.68%\n",
            "Epoch 60/150, Train Loss: 2.8432, Test Loss: 2.8070\n",
            "Epoch 61/150, Train Acc: 29.56%, Test Acc: 31.00%\n",
            "Epoch 61/150, Train Loss: 2.8353, Test Loss: 2.7965\n",
            "Epoch 62/150, Train Acc: 30.09%, Test Acc: 31.06%\n",
            "Epoch 62/150, Train Loss: 2.8130, Test Loss: 2.7984\n",
            "Epoch 63/150, Train Acc: 30.13%, Test Acc: 31.28%\n",
            "Epoch 63/150, Train Loss: 2.8124, Test Loss: 2.7780\n",
            "Epoch 64/150, Train Acc: 30.50%, Test Acc: 31.93%\n",
            "Epoch 64/150, Train Loss: 2.7907, Test Loss: 2.7589\n",
            "Epoch 65/150, Train Acc: 30.65%, Test Acc: 30.79%\n",
            "Epoch 65/150, Train Loss: 2.7819, Test Loss: 2.7813\n",
            "Epoch 66/150, Train Acc: 30.84%, Test Acc: 31.53%\n",
            "Epoch 66/150, Train Loss: 2.7682, Test Loss: 2.7808\n",
            "Epoch 67/150, Train Acc: 30.96%, Test Acc: 31.99%\n",
            "Epoch 67/150, Train Loss: 2.7601, Test Loss: 2.7459\n",
            "Epoch 68/150, Train Acc: 31.33%, Test Acc: 32.72%\n",
            "Epoch 68/150, Train Loss: 2.7501, Test Loss: 2.7212\n",
            "Epoch 69/150, Train Acc: 31.45%, Test Acc: 32.15%\n",
            "Epoch 69/150, Train Loss: 2.7415, Test Loss: 2.7509\n",
            "Checkpoint saved at epoch 70: ./checkpoint_epoch_70.pth\n"
          ]
        },
        {
          "output_type": "display_data",
          "data": {
            "text/plain": [
              "<IPython.core.display.Javascript object>"
            ],
            "application/javascript": [
              "\n",
              "    async function download(id, filename, size) {\n",
              "      if (!google.colab.kernel.accessAllowed) {\n",
              "        return;\n",
              "      }\n",
              "      const div = document.createElement('div');\n",
              "      const label = document.createElement('label');\n",
              "      label.textContent = `Downloading \"${filename}\": `;\n",
              "      div.appendChild(label);\n",
              "      const progress = document.createElement('progress');\n",
              "      progress.max = size;\n",
              "      div.appendChild(progress);\n",
              "      document.body.appendChild(div);\n",
              "\n",
              "      const buffers = [];\n",
              "      let downloaded = 0;\n",
              "\n",
              "      const channel = await google.colab.kernel.comms.open(id);\n",
              "      // Send a message to notify the kernel that we're ready.\n",
              "      channel.send({})\n",
              "\n",
              "      for await (const message of channel.messages) {\n",
              "        // Send a message to notify the kernel that we're ready.\n",
              "        channel.send({})\n",
              "        if (message.buffers) {\n",
              "          for (const buffer of message.buffers) {\n",
              "            buffers.push(buffer);\n",
              "            downloaded += buffer.byteLength;\n",
              "            progress.value = downloaded;\n",
              "          }\n",
              "        }\n",
              "      }\n",
              "      const blob = new Blob(buffers, {type: 'application/binary'});\n",
              "      const a = document.createElement('a');\n",
              "      a.href = window.URL.createObjectURL(blob);\n",
              "      a.download = filename;\n",
              "      div.appendChild(a);\n",
              "      a.click();\n",
              "      div.remove();\n",
              "    }\n",
              "  "
            ]
          },
          "metadata": {}
        },
        {
          "output_type": "display_data",
          "data": {
            "text/plain": [
              "<IPython.core.display.Javascript object>"
            ],
            "application/javascript": [
              "download(\"download_c3482d58-6237-4186-885c-7a8a60cc5b6a\", \"checkpoint_epoch_70.pth\", 6530106)"
            ]
          },
          "metadata": {}
        },
        {
          "output_type": "stream",
          "name": "stdout",
          "text": [
            "Epoch 70/150, Train Acc: 31.54%, Test Acc: 32.96%\n",
            "Epoch 70/150, Train Loss: 2.7416, Test Loss: 2.7137\n",
            "Epoch 71/150, Train Acc: 32.13%, Test Acc: 33.20%\n",
            "Epoch 71/150, Train Loss: 2.7128, Test Loss: 2.6876\n",
            "Epoch 72/150, Train Acc: 32.22%, Test Acc: 33.70%\n",
            "Epoch 72/150, Train Loss: 2.7120, Test Loss: 2.6848\n",
            "Epoch 73/150, Train Acc: 32.44%, Test Acc: 33.30%\n",
            "Epoch 73/150, Train Loss: 2.6960, Test Loss: 2.6719\n",
            "Epoch 74/150, Train Acc: 32.42%, Test Acc: 34.42%\n",
            "Epoch 74/150, Train Loss: 2.6855, Test Loss: 2.6473\n",
            "Epoch 75/150, Train Acc: 33.05%, Test Acc: 33.91%\n",
            "Epoch 75/150, Train Loss: 2.6776, Test Loss: 2.6491\n",
            "Epoch 76/150, Train Acc: 33.03%, Test Acc: 34.39%\n",
            "Epoch 76/150, Train Loss: 2.6606, Test Loss: 2.6277\n",
            "Epoch 77/150, Train Acc: 33.25%, Test Acc: 34.56%\n",
            "Epoch 77/150, Train Loss: 2.6540, Test Loss: 2.6257\n",
            "Epoch 78/150, Train Acc: 33.29%, Test Acc: 34.24%\n",
            "Epoch 78/150, Train Loss: 2.6491, Test Loss: 2.6464\n",
            "Epoch 79/150, Train Acc: 33.54%, Test Acc: 34.40%\n",
            "Epoch 79/150, Train Loss: 2.6417, Test Loss: 2.6229\n",
            "Checkpoint saved at epoch 80: ./checkpoint_epoch_80.pth\n"
          ]
        },
        {
          "output_type": "display_data",
          "data": {
            "text/plain": [
              "<IPython.core.display.Javascript object>"
            ],
            "application/javascript": [
              "\n",
              "    async function download(id, filename, size) {\n",
              "      if (!google.colab.kernel.accessAllowed) {\n",
              "        return;\n",
              "      }\n",
              "      const div = document.createElement('div');\n",
              "      const label = document.createElement('label');\n",
              "      label.textContent = `Downloading \"${filename}\": `;\n",
              "      div.appendChild(label);\n",
              "      const progress = document.createElement('progress');\n",
              "      progress.max = size;\n",
              "      div.appendChild(progress);\n",
              "      document.body.appendChild(div);\n",
              "\n",
              "      const buffers = [];\n",
              "      let downloaded = 0;\n",
              "\n",
              "      const channel = await google.colab.kernel.comms.open(id);\n",
              "      // Send a message to notify the kernel that we're ready.\n",
              "      channel.send({})\n",
              "\n",
              "      for await (const message of channel.messages) {\n",
              "        // Send a message to notify the kernel that we're ready.\n",
              "        channel.send({})\n",
              "        if (message.buffers) {\n",
              "          for (const buffer of message.buffers) {\n",
              "            buffers.push(buffer);\n",
              "            downloaded += buffer.byteLength;\n",
              "            progress.value = downloaded;\n",
              "          }\n",
              "        }\n",
              "      }\n",
              "      const blob = new Blob(buffers, {type: 'application/binary'});\n",
              "      const a = document.createElement('a');\n",
              "      a.href = window.URL.createObjectURL(blob);\n",
              "      a.download = filename;\n",
              "      div.appendChild(a);\n",
              "      a.click();\n",
              "      div.remove();\n",
              "    }\n",
              "  "
            ]
          },
          "metadata": {}
        },
        {
          "output_type": "display_data",
          "data": {
            "text/plain": [
              "<IPython.core.display.Javascript object>"
            ],
            "application/javascript": [
              "download(\"download_7234c1cb-7db0-4d42-ac1a-c2f4df5161ae\", \"checkpoint_epoch_80.pth\", 6530106)"
            ]
          },
          "metadata": {}
        },
        {
          "output_type": "stream",
          "name": "stdout",
          "text": [
            "Epoch 80/150, Train Acc: 33.67%, Test Acc: 34.73%\n",
            "Epoch 80/150, Train Loss: 2.6275, Test Loss: 2.6089\n",
            "Epoch 81/150, Train Acc: 33.84%, Test Acc: 35.05%\n",
            "Epoch 81/150, Train Loss: 2.6194, Test Loss: 2.5994\n",
            "Epoch 82/150, Train Acc: 34.18%, Test Acc: 34.73%\n",
            "Epoch 82/150, Train Loss: 2.6080, Test Loss: 2.6107\n",
            "Epoch 83/150, Train Acc: 34.38%, Test Acc: 35.61%\n",
            "Epoch 83/150, Train Loss: 2.5963, Test Loss: 2.5740\n",
            "Epoch 84/150, Train Acc: 34.35%, Test Acc: 35.13%\n",
            "Epoch 84/150, Train Loss: 2.5980, Test Loss: 2.5871\n",
            "Epoch 85/150, Train Acc: 34.56%, Test Acc: 35.26%\n",
            "Epoch 85/150, Train Loss: 2.5886, Test Loss: 2.5786\n",
            "Epoch 86/150, Train Acc: 34.89%, Test Acc: 35.71%\n",
            "Epoch 86/150, Train Loss: 2.5761, Test Loss: 2.5605\n",
            "Epoch 87/150, Train Acc: 35.09%, Test Acc: 35.63%\n",
            "Epoch 87/150, Train Loss: 2.5698, Test Loss: 2.5486\n",
            "Epoch 88/150, Train Acc: 35.10%, Test Acc: 35.68%\n",
            "Epoch 88/150, Train Loss: 2.5624, Test Loss: 2.5582\n",
            "Epoch 89/150, Train Acc: 35.21%, Test Acc: 36.17%\n",
            "Epoch 89/150, Train Loss: 2.5568, Test Loss: 2.5449\n",
            "Checkpoint saved at epoch 90: ./checkpoint_epoch_90.pth\n"
          ]
        },
        {
          "output_type": "display_data",
          "data": {
            "text/plain": [
              "<IPython.core.display.Javascript object>"
            ],
            "application/javascript": [
              "\n",
              "    async function download(id, filename, size) {\n",
              "      if (!google.colab.kernel.accessAllowed) {\n",
              "        return;\n",
              "      }\n",
              "      const div = document.createElement('div');\n",
              "      const label = document.createElement('label');\n",
              "      label.textContent = `Downloading \"${filename}\": `;\n",
              "      div.appendChild(label);\n",
              "      const progress = document.createElement('progress');\n",
              "      progress.max = size;\n",
              "      div.appendChild(progress);\n",
              "      document.body.appendChild(div);\n",
              "\n",
              "      const buffers = [];\n",
              "      let downloaded = 0;\n",
              "\n",
              "      const channel = await google.colab.kernel.comms.open(id);\n",
              "      // Send a message to notify the kernel that we're ready.\n",
              "      channel.send({})\n",
              "\n",
              "      for await (const message of channel.messages) {\n",
              "        // Send a message to notify the kernel that we're ready.\n",
              "        channel.send({})\n",
              "        if (message.buffers) {\n",
              "          for (const buffer of message.buffers) {\n",
              "            buffers.push(buffer);\n",
              "            downloaded += buffer.byteLength;\n",
              "            progress.value = downloaded;\n",
              "          }\n",
              "        }\n",
              "      }\n",
              "      const blob = new Blob(buffers, {type: 'application/binary'});\n",
              "      const a = document.createElement('a');\n",
              "      a.href = window.URL.createObjectURL(blob);\n",
              "      a.download = filename;\n",
              "      div.appendChild(a);\n",
              "      a.click();\n",
              "      div.remove();\n",
              "    }\n",
              "  "
            ]
          },
          "metadata": {}
        },
        {
          "output_type": "display_data",
          "data": {
            "text/plain": [
              "<IPython.core.display.Javascript object>"
            ],
            "application/javascript": [
              "download(\"download_045fff79-9a53-4edd-9a46-a3a9a395e9d7\", \"checkpoint_epoch_90.pth\", 6530106)"
            ]
          },
          "metadata": {}
        },
        {
          "output_type": "stream",
          "name": "stdout",
          "text": [
            "Epoch 90/150, Train Acc: 35.60%, Test Acc: 35.74%\n",
            "Epoch 90/150, Train Loss: 2.5458, Test Loss: 2.5474\n",
            "Epoch 91/150, Train Acc: 35.57%, Test Acc: 36.18%\n",
            "Epoch 91/150, Train Loss: 2.5403, Test Loss: 2.5234\n",
            "Epoch 92/150, Train Acc: 35.74%, Test Acc: 36.42%\n",
            "Epoch 92/150, Train Loss: 2.5348, Test Loss: 2.5187\n",
            "Epoch 93/150, Train Acc: 35.76%, Test Acc: 36.79%\n",
            "Epoch 93/150, Train Loss: 2.5276, Test Loss: 2.5241\n",
            "Epoch 94/150, Train Acc: 36.08%, Test Acc: 36.94%\n",
            "Epoch 94/150, Train Loss: 2.5185, Test Loss: 2.5146\n",
            "Epoch 95/150, Train Acc: 35.99%, Test Acc: 36.77%\n",
            "Epoch 95/150, Train Loss: 2.5186, Test Loss: 2.5143\n",
            "Epoch 96/150, Train Acc: 35.86%, Test Acc: 36.80%\n",
            "Epoch 96/150, Train Loss: 2.5146, Test Loss: 2.5108\n",
            "Epoch 97/150, Train Acc: 36.13%, Test Acc: 36.67%\n",
            "Epoch 97/150, Train Loss: 2.5077, Test Loss: 2.5054\n",
            "Epoch 98/150, Train Acc: 36.49%, Test Acc: 36.70%\n",
            "Epoch 98/150, Train Loss: 2.5013, Test Loss: 2.5012\n",
            "Epoch 99/150, Train Acc: 36.64%, Test Acc: 37.07%\n",
            "Epoch 99/150, Train Loss: 2.4904, Test Loss: 2.4872\n",
            "Checkpoint saved at epoch 100: ./checkpoint_epoch_100.pth\n"
          ]
        },
        {
          "output_type": "display_data",
          "data": {
            "text/plain": [
              "<IPython.core.display.Javascript object>"
            ],
            "application/javascript": [
              "\n",
              "    async function download(id, filename, size) {\n",
              "      if (!google.colab.kernel.accessAllowed) {\n",
              "        return;\n",
              "      }\n",
              "      const div = document.createElement('div');\n",
              "      const label = document.createElement('label');\n",
              "      label.textContent = `Downloading \"${filename}\": `;\n",
              "      div.appendChild(label);\n",
              "      const progress = document.createElement('progress');\n",
              "      progress.max = size;\n",
              "      div.appendChild(progress);\n",
              "      document.body.appendChild(div);\n",
              "\n",
              "      const buffers = [];\n",
              "      let downloaded = 0;\n",
              "\n",
              "      const channel = await google.colab.kernel.comms.open(id);\n",
              "      // Send a message to notify the kernel that we're ready.\n",
              "      channel.send({})\n",
              "\n",
              "      for await (const message of channel.messages) {\n",
              "        // Send a message to notify the kernel that we're ready.\n",
              "        channel.send({})\n",
              "        if (message.buffers) {\n",
              "          for (const buffer of message.buffers) {\n",
              "            buffers.push(buffer);\n",
              "            downloaded += buffer.byteLength;\n",
              "            progress.value = downloaded;\n",
              "          }\n",
              "        }\n",
              "      }\n",
              "      const blob = new Blob(buffers, {type: 'application/binary'});\n",
              "      const a = document.createElement('a');\n",
              "      a.href = window.URL.createObjectURL(blob);\n",
              "      a.download = filename;\n",
              "      div.appendChild(a);\n",
              "      a.click();\n",
              "      div.remove();\n",
              "    }\n",
              "  "
            ]
          },
          "metadata": {}
        },
        {
          "output_type": "display_data",
          "data": {
            "text/plain": [
              "<IPython.core.display.Javascript object>"
            ],
            "application/javascript": [
              "download(\"download_764456c8-5b1f-4836-95d1-7a219835105b\", \"checkpoint_epoch_100.pth\", 6530130)"
            ]
          },
          "metadata": {}
        },
        {
          "output_type": "stream",
          "name": "stdout",
          "text": [
            "Epoch 100/150, Train Acc: 36.68%, Test Acc: 36.89%\n",
            "Epoch 100/150, Train Loss: 2.4865, Test Loss: 2.4894\n",
            "Epoch 101/150, Train Acc: 36.94%, Test Acc: 37.05%\n",
            "Epoch 101/150, Train Loss: 2.4816, Test Loss: 2.4888\n",
            "Epoch 102/150, Train Acc: 36.81%, Test Acc: 37.38%\n",
            "Epoch 102/150, Train Loss: 2.4802, Test Loss: 2.4756\n",
            "Epoch 103/150, Train Acc: 36.91%, Test Acc: 37.31%\n",
            "Epoch 103/150, Train Loss: 2.4761, Test Loss: 2.4820\n",
            "Epoch 104/150, Train Acc: 37.04%, Test Acc: 37.34%\n",
            "Epoch 104/150, Train Loss: 2.4655, Test Loss: 2.4773\n",
            "Epoch 105/150, Train Acc: 37.20%, Test Acc: 37.76%\n",
            "Epoch 105/150, Train Loss: 2.4651, Test Loss: 2.4622\n",
            "Epoch 106/150, Train Acc: 37.19%, Test Acc: 37.62%\n",
            "Epoch 106/150, Train Loss: 2.4647, Test Loss: 2.4699\n",
            "Epoch 107/150, Train Acc: 37.18%, Test Acc: 37.66%\n",
            "Epoch 107/150, Train Loss: 2.4613, Test Loss: 2.4711\n",
            "Epoch 108/150, Train Acc: 37.36%, Test Acc: 37.76%\n",
            "Epoch 108/150, Train Loss: 2.4535, Test Loss: 2.4599\n",
            "Epoch 109/150, Train Acc: 37.39%, Test Acc: 37.44%\n",
            "Epoch 109/150, Train Loss: 2.4535, Test Loss: 2.4659\n",
            "Checkpoint saved at epoch 110: ./checkpoint_epoch_110.pth\n"
          ]
        },
        {
          "output_type": "display_data",
          "data": {
            "text/plain": [
              "<IPython.core.display.Javascript object>"
            ],
            "application/javascript": [
              "\n",
              "    async function download(id, filename, size) {\n",
              "      if (!google.colab.kernel.accessAllowed) {\n",
              "        return;\n",
              "      }\n",
              "      const div = document.createElement('div');\n",
              "      const label = document.createElement('label');\n",
              "      label.textContent = `Downloading \"${filename}\": `;\n",
              "      div.appendChild(label);\n",
              "      const progress = document.createElement('progress');\n",
              "      progress.max = size;\n",
              "      div.appendChild(progress);\n",
              "      document.body.appendChild(div);\n",
              "\n",
              "      const buffers = [];\n",
              "      let downloaded = 0;\n",
              "\n",
              "      const channel = await google.colab.kernel.comms.open(id);\n",
              "      // Send a message to notify the kernel that we're ready.\n",
              "      channel.send({})\n",
              "\n",
              "      for await (const message of channel.messages) {\n",
              "        // Send a message to notify the kernel that we're ready.\n",
              "        channel.send({})\n",
              "        if (message.buffers) {\n",
              "          for (const buffer of message.buffers) {\n",
              "            buffers.push(buffer);\n",
              "            downloaded += buffer.byteLength;\n",
              "            progress.value = downloaded;\n",
              "          }\n",
              "        }\n",
              "      }\n",
              "      const blob = new Blob(buffers, {type: 'application/binary'});\n",
              "      const a = document.createElement('a');\n",
              "      a.href = window.URL.createObjectURL(blob);\n",
              "      a.download = filename;\n",
              "      div.appendChild(a);\n",
              "      a.click();\n",
              "      div.remove();\n",
              "    }\n",
              "  "
            ]
          },
          "metadata": {}
        },
        {
          "output_type": "display_data",
          "data": {
            "text/plain": [
              "<IPython.core.display.Javascript object>"
            ],
            "application/javascript": [
              "download(\"download_73d765ac-dadf-47e9-b9d5-e27381678561\", \"checkpoint_epoch_110.pth\", 6530130)"
            ]
          },
          "metadata": {}
        },
        {
          "output_type": "stream",
          "name": "stdout",
          "text": [
            "Epoch 110/150, Train Acc: 37.53%, Test Acc: 38.17%\n",
            "Epoch 110/150, Train Loss: 2.4446, Test Loss: 2.4501\n",
            "Epoch 111/150, Train Acc: 37.66%, Test Acc: 37.87%\n",
            "Epoch 111/150, Train Loss: 2.4432, Test Loss: 2.4589\n",
            "Epoch 112/150, Train Acc: 37.64%, Test Acc: 37.96%\n",
            "Epoch 112/150, Train Loss: 2.4374, Test Loss: 2.4554\n",
            "Epoch 113/150, Train Acc: 37.64%, Test Acc: 37.94%\n",
            "Epoch 113/150, Train Loss: 2.4362, Test Loss: 2.4513\n",
            "Epoch 114/150, Train Acc: 37.97%, Test Acc: 38.15%\n",
            "Epoch 114/150, Train Loss: 2.4253, Test Loss: 2.4476\n",
            "Epoch 115/150, Train Acc: 37.72%, Test Acc: 38.28%\n",
            "Epoch 115/150, Train Loss: 2.4308, Test Loss: 2.4446\n",
            "Epoch 116/150, Train Acc: 38.08%, Test Acc: 38.32%\n",
            "Epoch 116/150, Train Loss: 2.4250, Test Loss: 2.4482\n",
            "Epoch 117/150, Train Acc: 38.03%, Test Acc: 38.21%\n",
            "Epoch 117/150, Train Loss: 2.4273, Test Loss: 2.4395\n",
            "Epoch 118/150, Train Acc: 38.18%, Test Acc: 38.18%\n",
            "Epoch 118/150, Train Loss: 2.4246, Test Loss: 2.4403\n",
            "Epoch 119/150, Train Acc: 38.16%, Test Acc: 38.43%\n",
            "Epoch 119/150, Train Loss: 2.4193, Test Loss: 2.4352\n",
            "Checkpoint saved at epoch 120: ./checkpoint_epoch_120.pth\n"
          ]
        },
        {
          "output_type": "display_data",
          "data": {
            "text/plain": [
              "<IPython.core.display.Javascript object>"
            ],
            "application/javascript": [
              "\n",
              "    async function download(id, filename, size) {\n",
              "      if (!google.colab.kernel.accessAllowed) {\n",
              "        return;\n",
              "      }\n",
              "      const div = document.createElement('div');\n",
              "      const label = document.createElement('label');\n",
              "      label.textContent = `Downloading \"${filename}\": `;\n",
              "      div.appendChild(label);\n",
              "      const progress = document.createElement('progress');\n",
              "      progress.max = size;\n",
              "      div.appendChild(progress);\n",
              "      document.body.appendChild(div);\n",
              "\n",
              "      const buffers = [];\n",
              "      let downloaded = 0;\n",
              "\n",
              "      const channel = await google.colab.kernel.comms.open(id);\n",
              "      // Send a message to notify the kernel that we're ready.\n",
              "      channel.send({})\n",
              "\n",
              "      for await (const message of channel.messages) {\n",
              "        // Send a message to notify the kernel that we're ready.\n",
              "        channel.send({})\n",
              "        if (message.buffers) {\n",
              "          for (const buffer of message.buffers) {\n",
              "            buffers.push(buffer);\n",
              "            downloaded += buffer.byteLength;\n",
              "            progress.value = downloaded;\n",
              "          }\n",
              "        }\n",
              "      }\n",
              "      const blob = new Blob(buffers, {type: 'application/binary'});\n",
              "      const a = document.createElement('a');\n",
              "      a.href = window.URL.createObjectURL(blob);\n",
              "      a.download = filename;\n",
              "      div.appendChild(a);\n",
              "      a.click();\n",
              "      div.remove();\n",
              "    }\n",
              "  "
            ]
          },
          "metadata": {}
        },
        {
          "output_type": "display_data",
          "data": {
            "text/plain": [
              "<IPython.core.display.Javascript object>"
            ],
            "application/javascript": [
              "download(\"download_f3c8316b-31d7-4230-8653-98916be0a024\", \"checkpoint_epoch_120.pth\", 6530130)"
            ]
          },
          "metadata": {}
        },
        {
          "output_type": "stream",
          "name": "stdout",
          "text": [
            "Epoch 120/150, Train Acc: 38.23%, Test Acc: 38.36%\n",
            "Epoch 120/150, Train Loss: 2.4134, Test Loss: 2.4335\n",
            "Epoch 121/150, Train Acc: 38.34%, Test Acc: 38.37%\n",
            "Epoch 121/150, Train Loss: 2.4116, Test Loss: 2.4330\n",
            "Epoch 122/150, Train Acc: 38.39%, Test Acc: 38.25%\n",
            "Epoch 122/150, Train Loss: 2.4144, Test Loss: 2.4327\n",
            "Epoch 123/150, Train Acc: 38.30%, Test Acc: 38.53%\n",
            "Epoch 123/150, Train Loss: 2.4102, Test Loss: 2.4325\n",
            "Epoch 124/150, Train Acc: 38.50%, Test Acc: 38.75%\n",
            "Epoch 124/150, Train Loss: 2.4064, Test Loss: 2.4246\n",
            "Epoch 125/150, Train Acc: 38.44%, Test Acc: 38.65%\n",
            "Epoch 125/150, Train Loss: 2.4060, Test Loss: 2.4304\n",
            "Epoch 126/150, Train Acc: 38.59%, Test Acc: 38.24%\n",
            "Epoch 126/150, Train Loss: 2.4059, Test Loss: 2.4273\n",
            "Epoch 127/150, Train Acc: 38.50%, Test Acc: 38.49%\n",
            "Epoch 127/150, Train Loss: 2.4044, Test Loss: 2.4294\n",
            "Epoch 128/150, Train Acc: 38.64%, Test Acc: 38.46%\n",
            "Epoch 128/150, Train Loss: 2.4031, Test Loss: 2.4298\n",
            "Epoch 129/150, Train Acc: 38.52%, Test Acc: 38.57%\n",
            "Epoch 129/150, Train Loss: 2.4031, Test Loss: 2.4201\n",
            "Checkpoint saved at epoch 130: ./checkpoint_epoch_130.pth\n"
          ]
        },
        {
          "output_type": "display_data",
          "data": {
            "text/plain": [
              "<IPython.core.display.Javascript object>"
            ],
            "application/javascript": [
              "\n",
              "    async function download(id, filename, size) {\n",
              "      if (!google.colab.kernel.accessAllowed) {\n",
              "        return;\n",
              "      }\n",
              "      const div = document.createElement('div');\n",
              "      const label = document.createElement('label');\n",
              "      label.textContent = `Downloading \"${filename}\": `;\n",
              "      div.appendChild(label);\n",
              "      const progress = document.createElement('progress');\n",
              "      progress.max = size;\n",
              "      div.appendChild(progress);\n",
              "      document.body.appendChild(div);\n",
              "\n",
              "      const buffers = [];\n",
              "      let downloaded = 0;\n",
              "\n",
              "      const channel = await google.colab.kernel.comms.open(id);\n",
              "      // Send a message to notify the kernel that we're ready.\n",
              "      channel.send({})\n",
              "\n",
              "      for await (const message of channel.messages) {\n",
              "        // Send a message to notify the kernel that we're ready.\n",
              "        channel.send({})\n",
              "        if (message.buffers) {\n",
              "          for (const buffer of message.buffers) {\n",
              "            buffers.push(buffer);\n",
              "            downloaded += buffer.byteLength;\n",
              "            progress.value = downloaded;\n",
              "          }\n",
              "        }\n",
              "      }\n",
              "      const blob = new Blob(buffers, {type: 'application/binary'});\n",
              "      const a = document.createElement('a');\n",
              "      a.href = window.URL.createObjectURL(blob);\n",
              "      a.download = filename;\n",
              "      div.appendChild(a);\n",
              "      a.click();\n",
              "      div.remove();\n",
              "    }\n",
              "  "
            ]
          },
          "metadata": {}
        },
        {
          "output_type": "display_data",
          "data": {
            "text/plain": [
              "<IPython.core.display.Javascript object>"
            ],
            "application/javascript": [
              "download(\"download_ebaa5037-cd2a-4314-8331-02eb5a88134b\", \"checkpoint_epoch_130.pth\", 6530130)"
            ]
          },
          "metadata": {}
        },
        {
          "output_type": "stream",
          "name": "stdout",
          "text": [
            "Epoch 130/150, Train Acc: 38.74%, Test Acc: 38.70%\n",
            "Epoch 130/150, Train Loss: 2.3962, Test Loss: 2.4245\n",
            "Epoch 131/150, Train Acc: 38.52%, Test Acc: 38.72%\n",
            "Epoch 131/150, Train Loss: 2.4049, Test Loss: 2.4234\n",
            "Epoch 132/150, Train Acc: 38.53%, Test Acc: 38.41%\n",
            "Epoch 132/150, Train Loss: 2.3952, Test Loss: 2.4221\n",
            "Epoch 133/150, Train Acc: 38.91%, Test Acc: 38.44%\n",
            "Epoch 133/150, Train Loss: 2.3910, Test Loss: 2.4266\n",
            "Epoch 134/150, Train Acc: 38.68%, Test Acc: 38.37%\n",
            "Epoch 134/150, Train Loss: 2.3939, Test Loss: 2.4208\n",
            "Epoch 135/150, Train Acc: 38.71%, Test Acc: 38.49%\n",
            "Epoch 135/150, Train Loss: 2.3940, Test Loss: 2.4259\n",
            "Epoch 136/150, Train Acc: 38.97%, Test Acc: 38.57%\n",
            "Epoch 136/150, Train Loss: 2.3905, Test Loss: 2.4193\n",
            "Epoch 137/150, Train Acc: 38.74%, Test Acc: 38.60%\n",
            "Epoch 137/150, Train Loss: 2.3958, Test Loss: 2.4210\n",
            "Epoch 138/150, Train Acc: 38.93%, Test Acc: 38.55%\n",
            "Epoch 138/150, Train Loss: 2.3883, Test Loss: 2.4189\n",
            "Epoch 139/150, Train Acc: 39.00%, Test Acc: 38.49%\n",
            "Epoch 139/150, Train Loss: 2.3877, Test Loss: 2.4205\n",
            "Checkpoint saved at epoch 140: ./checkpoint_epoch_140.pth\n"
          ]
        },
        {
          "output_type": "display_data",
          "data": {
            "text/plain": [
              "<IPython.core.display.Javascript object>"
            ],
            "application/javascript": [
              "\n",
              "    async function download(id, filename, size) {\n",
              "      if (!google.colab.kernel.accessAllowed) {\n",
              "        return;\n",
              "      }\n",
              "      const div = document.createElement('div');\n",
              "      const label = document.createElement('label');\n",
              "      label.textContent = `Downloading \"${filename}\": `;\n",
              "      div.appendChild(label);\n",
              "      const progress = document.createElement('progress');\n",
              "      progress.max = size;\n",
              "      div.appendChild(progress);\n",
              "      document.body.appendChild(div);\n",
              "\n",
              "      const buffers = [];\n",
              "      let downloaded = 0;\n",
              "\n",
              "      const channel = await google.colab.kernel.comms.open(id);\n",
              "      // Send a message to notify the kernel that we're ready.\n",
              "      channel.send({})\n",
              "\n",
              "      for await (const message of channel.messages) {\n",
              "        // Send a message to notify the kernel that we're ready.\n",
              "        channel.send({})\n",
              "        if (message.buffers) {\n",
              "          for (const buffer of message.buffers) {\n",
              "            buffers.push(buffer);\n",
              "            downloaded += buffer.byteLength;\n",
              "            progress.value = downloaded;\n",
              "          }\n",
              "        }\n",
              "      }\n",
              "      const blob = new Blob(buffers, {type: 'application/binary'});\n",
              "      const a = document.createElement('a');\n",
              "      a.href = window.URL.createObjectURL(blob);\n",
              "      a.download = filename;\n",
              "      div.appendChild(a);\n",
              "      a.click();\n",
              "      div.remove();\n",
              "    }\n",
              "  "
            ]
          },
          "metadata": {}
        },
        {
          "output_type": "display_data",
          "data": {
            "text/plain": [
              "<IPython.core.display.Javascript object>"
            ],
            "application/javascript": [
              "download(\"download_d2ece5c1-9345-4034-93c1-63c3fc1baf81\", \"checkpoint_epoch_140.pth\", 6530130)"
            ]
          },
          "metadata": {}
        },
        {
          "output_type": "stream",
          "name": "stdout",
          "text": [
            "Epoch 140/150, Train Acc: 38.83%, Test Acc: 38.65%\n",
            "Epoch 140/150, Train Loss: 2.3942, Test Loss: 2.4184\n",
            "Epoch 141/150, Train Acc: 38.96%, Test Acc: 38.67%\n",
            "Epoch 141/150, Train Loss: 2.3861, Test Loss: 2.4189\n",
            "Epoch 142/150, Train Acc: 38.83%, Test Acc: 38.49%\n",
            "Epoch 142/150, Train Loss: 2.3897, Test Loss: 2.4187\n",
            "Epoch 143/150, Train Acc: 38.57%, Test Acc: 38.56%\n",
            "Epoch 143/150, Train Loss: 2.3900, Test Loss: 2.4179\n",
            "Epoch 144/150, Train Acc: 38.78%, Test Acc: 38.62%\n",
            "Epoch 144/150, Train Loss: 2.3910, Test Loss: 2.4187\n",
            "Epoch 145/150, Train Acc: 38.83%, Test Acc: 38.56%\n",
            "Epoch 145/150, Train Loss: 2.3916, Test Loss: 2.4178\n",
            "Epoch 146/150, Train Acc: 38.98%, Test Acc: 38.62%\n",
            "Epoch 146/150, Train Loss: 2.3879, Test Loss: 2.4178\n",
            "Epoch 147/150, Train Acc: 38.98%, Test Acc: 38.63%\n",
            "Epoch 147/150, Train Loss: 2.3881, Test Loss: 2.4182\n",
            "Epoch 148/150, Train Acc: 38.75%, Test Acc: 38.62%\n",
            "Epoch 148/150, Train Loss: 2.3909, Test Loss: 2.4179\n",
            "Epoch 149/150, Train Acc: 38.82%, Test Acc: 38.61%\n",
            "Epoch 149/150, Train Loss: 2.3879, Test Loss: 2.4181\n",
            "Checkpoint saved at epoch 150: ./checkpoint_epoch_150.pth\n"
          ]
        },
        {
          "output_type": "display_data",
          "data": {
            "text/plain": [
              "<IPython.core.display.Javascript object>"
            ],
            "application/javascript": [
              "\n",
              "    async function download(id, filename, size) {\n",
              "      if (!google.colab.kernel.accessAllowed) {\n",
              "        return;\n",
              "      }\n",
              "      const div = document.createElement('div');\n",
              "      const label = document.createElement('label');\n",
              "      label.textContent = `Downloading \"${filename}\": `;\n",
              "      div.appendChild(label);\n",
              "      const progress = document.createElement('progress');\n",
              "      progress.max = size;\n",
              "      div.appendChild(progress);\n",
              "      document.body.appendChild(div);\n",
              "\n",
              "      const buffers = [];\n",
              "      let downloaded = 0;\n",
              "\n",
              "      const channel = await google.colab.kernel.comms.open(id);\n",
              "      // Send a message to notify the kernel that we're ready.\n",
              "      channel.send({})\n",
              "\n",
              "      for await (const message of channel.messages) {\n",
              "        // Send a message to notify the kernel that we're ready.\n",
              "        channel.send({})\n",
              "        if (message.buffers) {\n",
              "          for (const buffer of message.buffers) {\n",
              "            buffers.push(buffer);\n",
              "            downloaded += buffer.byteLength;\n",
              "            progress.value = downloaded;\n",
              "          }\n",
              "        }\n",
              "      }\n",
              "      const blob = new Blob(buffers, {type: 'application/binary'});\n",
              "      const a = document.createElement('a');\n",
              "      a.href = window.URL.createObjectURL(blob);\n",
              "      a.download = filename;\n",
              "      div.appendChild(a);\n",
              "      a.click();\n",
              "      div.remove();\n",
              "    }\n",
              "  "
            ]
          },
          "metadata": {}
        },
        {
          "output_type": "display_data",
          "data": {
            "text/plain": [
              "<IPython.core.display.Javascript object>"
            ],
            "application/javascript": [
              "download(\"download_635f4f7e-68c2-4cf7-ae0f-d1e8b89e2f22\", \"checkpoint_epoch_150.pth\", 6530130)"
            ]
          },
          "metadata": {}
        },
        {
          "output_type": "stream",
          "name": "stdout",
          "text": [
            "Epoch 150/150, Train Acc: 39.02%, Test Acc: 38.61%\n",
            "Epoch 150/150, Train Loss: 2.3853, Test Loss: 2.4180\n"
          ]
        },
        {
          "output_type": "display_data",
          "data": {
            "text/plain": [
              "<Figure size 600x400 with 1 Axes>"
            ],
            "image/png": "[encoded data removed]"
          },
          "metadata": {}
        },
        {
          "output_type": "display_data",
          "data": {
            "text/plain": [
              "<Figure size 600x400 with 1 Axes>"
            ],
            "image/png": "[encoded data removed]"
          },
          "metadata": {}
        },
        {
          "output_type": "display_data",
          "data": {
            "text/plain": [
              "<Figure size 600x400 with 1 Axes>"
            ],
            "image/png": "[encoded data removed]"
          },
          "metadata": {}
        },
        {
          "output_type": "display_data",
          "data": {
            "text/plain": [
              "<Figure size 600x400 with 1 Axes>"
            ],
            "image/png": "[encoded data removed]"
          },
          "metadata": {}
        },
        {
          "output_type": "display_data",
          "data": {
            "text/plain": [
              "<Figure size 640x480 with 0 Axes>"
            ]
          },
          "metadata": {}
        }
      ]
    }
  ]
}