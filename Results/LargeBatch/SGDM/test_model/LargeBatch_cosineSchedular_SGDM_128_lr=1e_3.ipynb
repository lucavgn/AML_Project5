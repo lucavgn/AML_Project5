{
  "nbformat": 4,
  "nbformat_minor": 0,
  "metadata": {
    "colab": {
      "provenance": [],
      "gpuType": "T4"
    },
    "kernelspec": {
      "name": "python3",
      "display_name": "Python 3"
    },
    "language_info": {
      "name": "python"
    },
    "accelerator": "GPU"
  },
  "cells": [
    {
      "cell_type": "code",
      "execution_count": 3,
      "metadata": {
        "colab": {
          "base_uri": "https://localhost:8080/"
        },
        "id": "hZzQjEFPe-KB",
        "outputId": "d4a95e04-4be4-4285-a288-ba83b474850a"
      },
      "outputs": [
        {
          "output_type": "stream",
          "name": "stdout",
          "text": [
            "Overwriting large_batch_training.py\n"
          ]
        }
      ],
      "source": [
        "%%writefile large_batch_training.py\n",
        "\n",
        "import os\n",
        "import numpy as np\n",
        "import torch\n",
        "import torch.nn as nn\n",
        "import torch.optim as optim\n",
        "import torchvision\n",
        "import torchvision.transforms as transforms\n",
        "import matplotlib.pyplot as plt\n",
        "import argparse\n",
        "from torch.utils.data import random_split\n",
        "from google.colab import files\n",
        "\n",
        "def compute_mean_std(dataset):\n",
        "    \"\"\"Compute the mean and std of CIFAR-100 dataset.\n",
        "\n",
        "    Args:\n",
        "        dataset: A dataset derived from `torch.utils.data.Dataset`,\n",
        "                 such as `cifar100_training_dataset` or `cifar100_test_dataset`.\n",
        "\n",
        "    Returns:\n",
        "        A tuple containing (mean, std) for the entire dataset.\n",
        "    \"\"\"\n",
        "\n",
        "    # Extract images and labels\n",
        "    data_r = np.stack([np.array(dataset[i][0])[:, :, 0] for i in range(len(dataset))])\n",
        "    data_g = np.stack([np.array(dataset[i][0])[:, :, 1] for i in range(len(dataset))])\n",
        "    data_b = np.stack([np.array(dataset[i][0])[:, :, 2] for i in range(len(dataset))])\n",
        "\n",
        "    # Compute mean and std\n",
        "    mean = np.mean(data_r), np.mean(data_g), np.mean(data_b)\n",
        "    std = np.std(data_r), np.std(data_g), np.std(data_b)\n",
        "\n",
        "    return mean, std\n",
        "\n",
        "# Define LeNet-5 architecture\n",
        "class LeNet5(nn.Module):\n",
        "    def __init__(self):\n",
        "        super(LeNet5, self).__init__()\n",
        "        self.conv1 = nn.Conv2d(3, 64, 5)\n",
        "        self.relu1 = nn.ReLU()\n",
        "        self.pool1 = nn.MaxPool2d(2, 2)\n",
        "        self.conv2 = nn.Conv2d(64, 64, 5)\n",
        "        self.relu2 = nn.ReLU()\n",
        "        self.pool2 = nn.MaxPool2d(2, 2)\n",
        "        self.fc1 = nn.Linear(64 * 5 * 5, 384)\n",
        "        self.relu3 = nn.ReLU()\n",
        "        self.fc2 = nn.Linear(384, 192)\n",
        "        self.relu4 = nn.ReLU()\n",
        "        self.fc3 = nn.Linear(192, 100)\n",
        "\n",
        "    def forward(self, x):\n",
        "        x = self.pool1(self.relu1(self.conv1(x)))\n",
        "        x = self.pool2(self.relu2(self.conv2(x)))\n",
        "        x = x.view(-1, 64 * 5 * 5)\n",
        "        x = self.relu3(self.fc1(x))\n",
        "        x = self.relu4(self.fc2(x))\n",
        "        x = self.fc3(x)\n",
        "        return x\n",
        "\n",
        "# Device setup\n",
        "device = torch.device(\"cuda:0\" if torch.cuda.is_available() else \"cpu\")\n",
        "\n",
        "# Initialize model\n",
        "net = LeNet5().to(device)\n",
        "\n",
        "# Optimizer Subclasses\n",
        "class LARS(optim.Optimizer):\n",
        "    def __init__(self, params, lr, momentum=0.9, weight_decay=0, trust_coefficient=0.001):\n",
        "        # Initialize the optimizer with the learning rate, momentum, weight decay, and trust coefficient\n",
        "        defaults = dict(lr=lr, momentum=momentum, weight_decay=weight_decay, trust_coefficient=trust_coefficient)\n",
        "        super(LARS, self).__init__(params, defaults)\n",
        "\n",
        "    def step(self, closure=None):\n",
        "        loss = None\n",
        "        if closure is not None:\n",
        "            # If a closure is provided, evaluate it (commonly used for re-evaluating loss)\n",
        "            loss = closure()\n",
        "        for group in self.param_groups:\n",
        "            for p in group['params']:\n",
        "                if p.grad is None:\n",
        "                   # Skip parameters that have no gradient\n",
        "                    continue\n",
        "                grad = p.grad.data # Get the gradient of the parameter\n",
        "                # Retrieve or initialize the optimizer's internal state\n",
        "                state = self.state[p]\n",
        "                if len(state) == 0:\n",
        "                    state['momentum_buffer'] = torch.clone(grad).detach()\n",
        "                # Apply weight decay directly to the gradient\n",
        "                if group['weight_decay'] != 0:\n",
        "                    grad.add_(p.data, alpha=group['weight_decay'])\n",
        "                # Compute the norms of the parameter and its gradient\n",
        "                param_norm = torch.norm(p.data)\n",
        "                grad_norm = torch.norm(grad)\n",
        "                # Compute local learning rate based on the trust coefficient and norms\n",
        "                if param_norm > 0 and grad_norm > 0:\n",
        "                    local_lr = group['trust_coefficient'] * param_norm / (grad_norm + 1e-8)\n",
        "                    grad = grad.mul(local_lr) # Scale the gradient with the local learning rate\n",
        "                # Update the momentum buffer\n",
        "                momentum_buffer = state['momentum_buffer']\n",
        "                momentum_buffer.mul_(group['momentum']).add_(grad) #Momentum update\n",
        "                state['momentum_buffer'] = momentum_buffer\n",
        "                # Update the parameter\n",
        "                p.data.add_(momentum_buffer, alpha=-group['lr']) # Gradient descent step with learning rate\n",
        "        return loss\n",
        "\n",
        "class LAMB(optim.Optimizer):\n",
        "    def __init__(self, params, lr, weight_decay=0, betas=(0.9, 0.999), eps=1e-8):\n",
        "        # Initialize the optimizer with learning rate, weight decay, betas for moment updates, and epsilon for stability\n",
        "        defaults = dict(lr=lr, weight_decay=weight_decay, betas=betas, eps=eps)\n",
        "        super(LAMB, self).__init__(params, defaults)\n",
        "\n",
        "    def step(self, closure=None):\n",
        "        loss = None\n",
        "        if closure is not None:\n",
        "            # If a closure is provided, evaluate it\n",
        "            loss = closure()\n",
        "        for group in self.param_groups:\n",
        "            for p in group['params']:\n",
        "                if p.grad is None:\n",
        "                    # Skip parameters that have no gradient\n",
        "                    continue\n",
        "                grad = p.grad.data # Get the gradient of the parameter\n",
        "                # Retrieve or initialize the optimizer's internal state\n",
        "                state = self.state[p]\n",
        "                # Initialize state\n",
        "                if len(state) == 0:\n",
        "                    # Initialize the state (step counter, first moment, second moment)\n",
        "                    state['step'] = 0\n",
        "                    state['exp_avg'] = torch.zeros_like(p.data) # First moment (mean of gradients)\n",
        "                    state['exp_avg_sq'] = torch.zeros_like(p.data) # Second moment (mean of squared gradients)\n",
        "                exp_avg = state['exp_avg']\n",
        "                exp_avg_sq = state['exp_avg_sq']\n",
        "                beta1, beta2 = group['betas']  # Coefficients for moment updates\n",
        "                state['step'] += 1 # Increment step count\n",
        "                step = state['step']\n",
        "                # Decay the first and second moment running average coefficients\n",
        "                # Update first and second moments\n",
        "                exp_avg.mul_(beta1).add_(grad, alpha=1 - beta1) # Exponential moving average of gradients\n",
        "                exp_avg_sq.mul_(beta2).addcmul_(grad, grad, value=1 - beta2) # Exponential moving average of squared gradients\n",
        "                # Correct bias in the first and second moments\n",
        "                bias_correction1 = 1 - beta1 ** step\n",
        "                bias_correction2 = 1 - beta2 ** step\n",
        "                corrected_exp_avg = exp_avg / bias_correction1\n",
        "                corrected_exp_avg_sq = exp_avg_sq / bias_correction2\n",
        "                # Compute the denominator for scaling the update\n",
        "                denom = corrected_exp_avg_sq.sqrt().add_(group['eps']) # Stability epsilon\n",
        "                # Compute the step update\n",
        "                update = corrected_exp_avg / denom\n",
        "                # Apply weight decay directly to the parameters\n",
        "                if group['weight_decay'] != 0:\n",
        "                    update.add_(p.data, alpha=group['weight_decay'])\n",
        "                # Compute the trust ratio (norm of parameters vs norm of update)\n",
        "                param_norm = torch.norm(p.data)\n",
        "                update_norm = torch.norm(update)\n",
        "                trust_ratio = 1.0  # Default trust ratio\n",
        "                if param_norm > 0 and update_norm > 0:\n",
        "                    trust_ratio = param_norm / update_norm\n",
        "                # Update the parameters\n",
        "                p.data.add_(update, alpha=-group['lr'] * trust_ratio)\n",
        "        return loss\n",
        "\n",
        "\n",
        "# Command-line arguments\n",
        "parser = argparse.ArgumentParser(description='Train with Large-Batch Optimizers')\n",
        "parser.add_argument('--optimizer', type=str, default='SGDM', choices=['SGDM', 'AdamW', 'LARS', 'LAMB'],\n",
        "                    help='Choose optimizer')\n",
        "parser.add_argument('--batch-size', type=int, default=128, help='Batch size')\n",
        "parser.add_argument('--momentum', type=float, default=0.9, help='Momentum for SGDM and LARS')\n",
        "parser.add_argument('--weight-decay', type=float, default=1e-5, help='Weight decay')\n",
        "parser.add_argument('--b1', type=float, default=0.9, help='Beta1 for AdamW')\n",
        "parser.add_argument('--b2', type=float, default=0.999, help='Beta2 for AdamW')\n",
        "parser.add_argument('--trust-coefficient', type=float, default=0.001, help='Trust coefficient for LARS')\n",
        "parser.add_argument('--epochs', type=int, default=150, help='Number of epochs')\n",
        "parser.add_argument('--warmup-epochs', type=int, default=5, help='Number of epochs')\n",
        "args = parser.parse_args()\n",
        "\n",
        "\n",
        "torch.manual_seed(42) # Set the seed for reproducibility\n",
        "torch.cuda.manual_seed_all(42) # Set the seed for reproducibility on GPU\n",
        "\n",
        "# use the same mean and std to add consistency to all datasets\n",
        "data = torchvision.datasets.CIFAR100(root='./data', train=True, download=True, transform=transforms.ToTensor())\n",
        "mean, std = compute_mean_std(data)\n",
        "\n",
        "# Load and split CIFAR-100 dataset\n",
        "train_transform = transforms.Compose([\n",
        "  transforms.RandomCrop(32, padding=4),\n",
        "  transforms.RandomHorizontalFlip(),\n",
        "  transforms.ToTensor(),\n",
        "  transforms.Normalize(mean, std)\n",
        "])\n",
        "\n",
        "test_transform = transforms.Compose([\n",
        "    transforms.ToTensor(),  # Convert to PyTorch tensor\n",
        "    transforms.Normalize(mean, std)\n",
        "])\n",
        "\n",
        "trainset = torchvision.datasets.CIFAR100(root='./data', train=True, download=True, transform=train_transform)\n",
        "trainloader = torch.utils.data.DataLoader(trainset, batch_size=args.batch_size, shuffle=True, num_workers=2)\n",
        "\n",
        "testset = torchvision.datasets.CIFAR100(root='./data', train=False, download=True, transform=test_transform)\n",
        "testloader = torch.utils.data.DataLoader(testset, batch_size=args.batch_size, shuffle=False, num_workers=2)\n",
        "\n",
        "\n",
        "# Fixed parameter from paper [18] to calculate the square root LR scaling value\n",
        "# base_lr = 5 / (2**3 * 10**3)\n",
        "# reference_batch_size = 512\n",
        "#scaled_lr = base_lr * (args.batch_size / reference_batch_size) ** 0.5\n",
        "\n",
        "# Mapping optimizers\n",
        "if args.optimizer == 'SGDM':\n",
        "    base_lr = 1e-3\n",
        "    reference_batch_size = 64\n",
        "    scaled_lr = base_lr * (args.batch_size / reference_batch_size) ** 0.5\n",
        "    optimizer = optim.SGD(net.parameters(), lr=scaled_lr, momentum=args.momentum, weight_decay=args.weight_decay)\n",
        "elif args.optimizer == 'AdamW':\n",
        "    base_lr = 5e-4\n",
        "    reference_batch_size = 64\n",
        "    scaled_lr = base_lr * (args.batch_size / reference_batch_size) ** 0.5\n",
        "    optimizer = optim.AdamW(net.parameters(), lr=scaled_lr, betas=(args.b1, args.b2), weight_decay=args.weight_decay)\n",
        "elif args.optimizer == 'LARS':\n",
        "    base_lr = 1e-2\n",
        "    reference_batch_size = 64\n",
        "    scaled_lr = base_lr * (args.batch_size / reference_batch_size) ** 0.5\n",
        "    optimizer = LARS(net.parameters(), lr=scaled_lr, momentum=args.momentum, weight_decay=args.weight_decay, trust_coefficient=args.trust_coefficient)\n",
        "elif args.optimizer == 'LAMB':\n",
        "    base_lr = 5e-4\n",
        "    reference_batch_size = 64\n",
        "    scaled_lr = base_lr * (args.batch_size / reference_batch_size) ** 0.5\n",
        "    optimizer = LAMB(net.parameters(), lr=scaled_lr, weight_decay=args.weight_decay)\n",
        "\n",
        "criterion = nn.CrossEntropyLoss()\n",
        "\n",
        "# Scheduler initialization\n",
        "scheduler = optim.lr_scheduler.CosineAnnealingLR(optimizer=optimizer, T_max=args.epochs - args.warmup_epochs)\n",
        "\n",
        "# Training Function\n",
        "def train_model(optimizer, scheduler, model, criterion, trainloader , testloader, device, epochs, save_checkpoint_interval=10):\n",
        "    train_losses, test_losses = [], []\n",
        "    train_accuracies, test_accuracies = [], []\n",
        "    for epoch in range(epochs):\n",
        "        model.train()\n",
        "        running_loss, correct_train, total_train = 0.0, 0, 0\n",
        "        for inputs, labels in trainloader:\n",
        "            inputs, labels = inputs.to(device), labels.to(device)\n",
        "            optimizer.zero_grad()\n",
        "            outputs = model(inputs)\n",
        "            loss = criterion(outputs, labels)\n",
        "            loss.backward()\n",
        "            optimizer.step()\n",
        "            running_loss += loss.item()\n",
        "            _, predicted = outputs.max(1)\n",
        "            total_train += labels.size(0)\n",
        "            correct_train += predicted.eq(labels).sum().item()\n",
        "        train_loss = running_loss / len(trainloader)\n",
        "        train_accuracy = 100. * correct_train / total_train\n",
        "        train_losses.append(train_loss)\n",
        "        train_accuracies.append(train_accuracy)\n",
        "\n",
        "        '''\n",
        "        # Early Stopping\n",
        "        if val_loss < best_val_loss:\n",
        "          best_val_loss = val_loss\n",
        "          epochs_no_improve = 0\n",
        "        else:\n",
        "          epochs_no_improve += 1\n",
        "\n",
        "        if epochs_no_improve == patience:\n",
        "          print(\"Early stopping!\")\n",
        "          break\n",
        "        '''\n",
        "\n",
        "        # Test\n",
        "        correct_test, total_test, test_loss = 0, 0, 0.0\n",
        "        with torch.no_grad():\n",
        "            for inputs, labels in testloader:\n",
        "                inputs, labels = inputs.to(device), labels.to(device)\n",
        "                outputs = model(inputs)\n",
        "                loss = criterion(outputs, labels)\n",
        "                test_loss += loss.item()\n",
        "                _, predicted = outputs.max(1)\n",
        "                total_test += labels.size(0)\n",
        "                correct_test += predicted.eq(labels).sum().item()\n",
        "        test_loss /= len(testloader)\n",
        "        test_losses.append(test_loss)\n",
        "        test_accuracy = 100. * correct_test / total_test\n",
        "        test_accuracies.append(test_accuracy)\n",
        "\n",
        "        if epoch >= args.warmup_epochs:\n",
        "            scheduler.step()  # Trigger cosine decay\n",
        "        else:\n",
        "            warmup_factor = (epoch + 1) / args.warmup_epochs\n",
        "            lr = warmup_factor * scaled_lr\n",
        "            for param_group in optimizer.param_groups:\n",
        "                param_group['lr'] = lr\n",
        "\n",
        "        # Checkpointing\n",
        "        if (epoch + 1) % save_checkpoint_interval == 0:\n",
        "            checkpoint_filename = f'checkpoint_epoch_{epoch + 1}.pth'\n",
        "            checkpoint = {\n",
        "                'epoch': epoch + 1,\n",
        "                'model_state_dict': model.state_dict(),\n",
        "                'optimizer_state_dict': optimizer.state_dict(),\n",
        "                'scheduler_state_dict': scheduler.state_dict(),\n",
        "                'loss': loss.item(),\n",
        "            }\n",
        "            checkpoint_path = os.path.join('./', checkpoint_filename)\n",
        "            torch.save(checkpoint, checkpoint_path)\n",
        "            print(f'Checkpoint saved at epoch {epoch + 1}: {checkpoint_path}')\n",
        "\n",
        "            # Download the checkpoint\n",
        "            files.download(checkpoint_filename)\n",
        "\n",
        "        print(f'Epoch {epoch+1}/{epochs}, Train Acc: {train_accuracy:.2f}%, Test Acc: {test_accuracy:.2f}%')\n",
        "        print(f'Epoch {epoch+1}/{epochs}, Train Loss: {train_loss:.4f}, Test Loss: {test_loss:.4f}')\n",
        "\n",
        "    return train_losses, test_losses, train_accuracies, test_accuracies\n",
        "\n",
        "# Train the model\n",
        "print(f\"--- Train with {args.optimizer} ---\")\n",
        "train_loss, test_loss, train_acc, test_acc = train_model(optimizer, scheduler, net, criterion, trainloader, testloader, device, args.epochs)\n",
        "\n",
        "# Save model\n",
        "torch.save(net.state_dict(), f'net_{args.optimizer}.pth')\n",
        "\n",
        "# Plot results\n",
        "# Plot Training Loss\n",
        "plt.figure(figsize=(6, 4))\n",
        "plt.plot(train_loss, label='Train Loss')\n",
        "plt.title('Training Loss')\n",
        "plt.xlabel('Epoch')\n",
        "plt.ylabel('Loss')\n",
        "plt.legend()\n",
        "plt.tight_layout()\n",
        "plt.savefig('train_loss.png')\n",
        "plt.show()\n",
        "\n",
        "# Plot Training Accuracy\n",
        "plt.figure(figsize=(6, 4))\n",
        "plt.plot(train_acc, label='Train Accuracy')\n",
        "plt.title('Training Accuracy')\n",
        "plt.xlabel('Epoch')\n",
        "plt.ylabel('Accuracy (%)')\n",
        "plt.legend()\n",
        "plt.tight_layout()\n",
        "plt.savefig('train_accuracy.png')\n",
        "plt.show()\n",
        "\n",
        "# Plot Test Loss\n",
        "plt.figure(figsize=(6, 4))\n",
        "plt.plot(test_loss, label='Test Loss')\n",
        "plt.title('Test Loss')\n",
        "plt.xlabel('Epoch')\n",
        "plt.ylabel('Loss')\n",
        "plt.legend()\n",
        "plt.tight_layout()\n",
        "plt.savefig('test_loss.png')\n",
        "plt.show()\n",
        "\n",
        "# Plot Test Accuracy\n",
        "plt.figure(figsize=(6, 4))\n",
        "plt.plot(test_acc, label='Test Accuracy')\n",
        "plt.title('Test Accuracy')\n",
        "plt.xlabel('Epoch')\n",
        "plt.ylabel('Accuracy (%)')\n",
        "plt.legend()\n",
        "plt.tight_layout()\n",
        "plt.savefig('test_accuracy.png')\n",
        "plt.show()"
      ]
    },
    {
      "cell_type": "code",
      "source": [
        "%run large_batch_training.py --optimizer SGDM --batch-size 128 --weight-decay 4e-4"
      ],
      "metadata": {
        "colab": {
          "base_uri": "https://localhost:8080/",
          "height": 1000
        },
        "id": "Nbav9UMyfSCi",
        "outputId": "9a0220c2-bf62-4060-e8b0-b7d56e46a8ab"
      },
      "execution_count": 4,
      "outputs": [
        {
          "output_type": "stream",
          "name": "stdout",
          "text": [
            "Files already downloaded and verified\n",
            "Files already downloaded and verified\n",
            "Files already downloaded and verified\n",
            "--- Train with SGDM ---\n",
            "Epoch 1/150, Train Acc: 1.11%, Test Acc: 1.99%\n",
            "Epoch 1/150, Train Loss: 4.5998, Test Loss: 4.5862\n",
            "Epoch 2/150, Train Acc: 2.08%, Test Acc: 2.38%\n",
            "Epoch 2/150, Train Loss: 4.5795, Test Loss: 4.5711\n",
            "Epoch 3/150, Train Acc: 2.23%, Test Acc: 2.61%\n",
            "Epoch 3/150, Train Loss: 4.5447, Test Loss: 4.5079\n",
            "Epoch 4/150, Train Acc: 3.90%, Test Acc: 5.63%\n",
            "Epoch 4/150, Train Loss: 4.4244, Test Loss: 4.2768\n",
            "Epoch 5/150, Train Acc: 6.69%, Test Acc: 8.06%\n",
            "Epoch 5/150, Train Loss: 4.1646, Test Loss: 4.0497\n",
            "Epoch 6/150, Train Acc: 8.30%, Test Acc: 10.08%\n",
            "Epoch 6/150, Train Loss: 4.0270, Test Loss: 3.9313\n",
            "Epoch 7/150, Train Acc: 10.40%, Test Acc: 12.60%\n",
            "Epoch 7/150, Train Loss: 3.9064, Test Loss: 3.7975\n",
            "Epoch 8/150, Train Acc: 12.20%, Test Acc: 14.23%\n",
            "Epoch 8/150, Train Loss: 3.7984, Test Loss: 3.6910\n",
            "Epoch 9/150, Train Acc: 13.72%, Test Acc: 15.98%\n",
            "Epoch 9/150, Train Loss: 3.7025, Test Loss: 3.5932\n",
            "Checkpoint saved at epoch 10: ./checkpoint_epoch_10.pth\n"
          ]
        },
        {
          "output_type": "display_data",
          "data": {
            "text/plain": [
              "<IPython.core.display.Javascript object>"
            ],
            "application/javascript": [
              "\n",
              "    async function download(id, filename, size) {\n",
              "      if (!google.colab.kernel.accessAllowed) {\n",
              "        return;\n",
              "      }\n",
              "      const div = document.createElement('div');\n",
              "      const label = document.createElement('label');\n",
              "      label.textContent = `Downloading \"${filename}\": `;\n",
              "      div.appendChild(label);\n",
              "      const progress = document.createElement('progress');\n",
              "      progress.max = size;\n",
              "      div.appendChild(progress);\n",
              "      document.body.appendChild(div);\n",
              "\n",
              "      const buffers = [];\n",
              "      let downloaded = 0;\n",
              "\n",
              "      const channel = await google.colab.kernel.comms.open(id);\n",
              "      // Send a message to notify the kernel that we're ready.\n",
              "      channel.send({})\n",
              "\n",
              "      for await (const message of channel.messages) {\n",
              "        // Send a message to notify the kernel that we're ready.\n",
              "        channel.send({})\n",
              "        if (message.buffers) {\n",
              "          for (const buffer of message.buffers) {\n",
              "            buffers.push(buffer);\n",
              "            downloaded += buffer.byteLength;\n",
              "            progress.value = downloaded;\n",
              "          }\n",
              "        }\n",
              "      }\n",
              "      const blob = new Blob(buffers, {type: 'application/binary'});\n",
              "      const a = document.createElement('a');\n",
              "      a.href = window.URL.createObjectURL(blob);\n",
              "      a.download = filename;\n",
              "      div.appendChild(a);\n",
              "      a.click();\n",
              "      div.remove();\n",
              "    }\n",
              "  "
            ]
          },
          "metadata": {}
        },
        {
          "output_type": "display_data",
          "data": {
            "text/plain": [
              "<IPython.core.display.Javascript object>"
            ],
            "application/javascript": [
              "download(\"download_86b670bb-f865-4967-99cf-5a89a40a4cf7\", \"checkpoint_epoch_10.pth\", 6530106)"
            ]
          },
          "metadata": {}
        },
        {
          "output_type": "stream",
          "name": "stdout",
          "text": [
            "Epoch 10/150, Train Acc: 15.26%, Test Acc: 17.42%\n",
            "Epoch 10/150, Train Loss: 3.6141, Test Loss: 3.5176\n",
            "Epoch 11/150, Train Acc: 16.60%, Test Acc: 18.18%\n",
            "Epoch 11/150, Train Loss: 3.5322, Test Loss: 3.4678\n",
            "Epoch 12/150, Train Acc: 17.78%, Test Acc: 19.50%\n",
            "Epoch 12/150, Train Loss: 3.4579, Test Loss: 3.3693\n",
            "Epoch 13/150, Train Acc: 18.92%, Test Acc: 20.47%\n",
            "Epoch 13/150, Train Loss: 3.3856, Test Loss: 3.3253\n",
            "Epoch 14/150, Train Acc: 20.18%, Test Acc: 21.70%\n",
            "Epoch 14/150, Train Loss: 3.3236, Test Loss: 3.2584\n",
            "Epoch 15/150, Train Acc: 21.24%, Test Acc: 21.27%\n",
            "Epoch 15/150, Train Loss: 3.2608, Test Loss: 3.2392\n",
            "Epoch 16/150, Train Acc: 22.53%, Test Acc: 24.60%\n",
            "Epoch 16/150, Train Loss: 3.1999, Test Loss: 3.1085\n",
            "Epoch 17/150, Train Acc: 23.24%, Test Acc: 25.73%\n",
            "Epoch 17/150, Train Loss: 3.1475, Test Loss: 3.0752\n",
            "Epoch 18/150, Train Acc: 24.50%, Test Acc: 26.79%\n",
            "Epoch 18/150, Train Loss: 3.0965, Test Loss: 2.9981\n",
            "Epoch 19/150, Train Acc: 25.28%, Test Acc: 27.99%\n",
            "Epoch 19/150, Train Loss: 3.0459, Test Loss: 2.9417\n",
            "Checkpoint saved at epoch 20: ./checkpoint_epoch_20.pth\n"
          ]
        },
        {
          "output_type": "display_data",
          "data": {
            "text/plain": [
              "<IPython.core.display.Javascript object>"
            ],
            "application/javascript": [
              "\n",
              "    async function download(id, filename, size) {\n",
              "      if (!google.colab.kernel.accessAllowed) {\n",
              "        return;\n",
              "      }\n",
              "      const div = document.createElement('div');\n",
              "      const label = document.createElement('label');\n",
              "      label.textContent = `Downloading \"${filename}\": `;\n",
              "      div.appendChild(label);\n",
              "      const progress = document.createElement('progress');\n",
              "      progress.max = size;\n",
              "      div.appendChild(progress);\n",
              "      document.body.appendChild(div);\n",
              "\n",
              "      const buffers = [];\n",
              "      let downloaded = 0;\n",
              "\n",
              "      const channel = await google.colab.kernel.comms.open(id);\n",
              "      // Send a message to notify the kernel that we're ready.\n",
              "      channel.send({})\n",
              "\n",
              "      for await (const message of channel.messages) {\n",
              "        // Send a message to notify the kernel that we're ready.\n",
              "        channel.send({})\n",
              "        if (message.buffers) {\n",
              "          for (const buffer of message.buffers) {\n",
              "            buffers.push(buffer);\n",
              "            downloaded += buffer.byteLength;\n",
              "            progress.value = downloaded;\n",
              "          }\n",
              "        }\n",
              "      }\n",
              "      const blob = new Blob(buffers, {type: 'application/binary'});\n",
              "      const a = document.createElement('a');\n",
              "      a.href = window.URL.createObjectURL(blob);\n",
              "      a.download = filename;\n",
              "      div.appendChild(a);\n",
              "      a.click();\n",
              "      div.remove();\n",
              "    }\n",
              "  "
            ]
          },
          "metadata": {}
        },
        {
          "output_type": "display_data",
          "data": {
            "text/plain": [
              "<IPython.core.display.Javascript object>"
            ],
            "application/javascript": [
              "download(\"download_8c515d8d-39a9-428b-9243-8bcd39646739\", \"checkpoint_epoch_20.pth\", 6530106)"
            ]
          },
          "metadata": {}
        },
        {
          "output_type": "stream",
          "name": "stdout",
          "text": [
            "Epoch 20/150, Train Acc: 25.95%, Test Acc: 28.57%\n",
            "Epoch 20/150, Train Loss: 3.0031, Test Loss: 2.9035\n",
            "Epoch 21/150, Train Acc: 26.82%, Test Acc: 28.48%\n",
            "Epoch 21/150, Train Loss: 2.9596, Test Loss: 2.9093\n",
            "Epoch 22/150, Train Acc: 27.37%, Test Acc: 29.72%\n",
            "Epoch 22/150, Train Loss: 2.9222, Test Loss: 2.8259\n",
            "Epoch 23/150, Train Acc: 28.08%, Test Acc: 30.03%\n",
            "Epoch 23/150, Train Loss: 2.8799, Test Loss: 2.8114\n",
            "Epoch 24/150, Train Acc: 29.29%, Test Acc: 31.02%\n",
            "Epoch 24/150, Train Loss: 2.8368, Test Loss: 2.7688\n",
            "Epoch 25/150, Train Acc: 29.66%, Test Acc: 31.23%\n",
            "Epoch 25/150, Train Loss: 2.8099, Test Loss: 2.7563\n",
            "Epoch 26/150, Train Acc: 30.74%, Test Acc: 32.84%\n",
            "Epoch 26/150, Train Loss: 2.7653, Test Loss: 2.6935\n",
            "Epoch 27/150, Train Acc: 31.56%, Test Acc: 33.34%\n",
            "Epoch 27/150, Train Loss: 2.7293, Test Loss: 2.6573\n",
            "Epoch 28/150, Train Acc: 31.97%, Test Acc: 33.97%\n",
            "Epoch 28/150, Train Loss: 2.6890, Test Loss: 2.6249\n",
            "Epoch 29/150, Train Acc: 32.88%, Test Acc: 33.72%\n",
            "Epoch 29/150, Train Loss: 2.6593, Test Loss: 2.6200\n",
            "Checkpoint saved at epoch 30: ./checkpoint_epoch_30.pth\n"
          ]
        },
        {
          "output_type": "display_data",
          "data": {
            "text/plain": [
              "<IPython.core.display.Javascript object>"
            ],
            "application/javascript": [
              "\n",
              "    async function download(id, filename, size) {\n",
              "      if (!google.colab.kernel.accessAllowed) {\n",
              "        return;\n",
              "      }\n",
              "      const div = document.createElement('div');\n",
              "      const label = document.createElement('label');\n",
              "      label.textContent = `Downloading \"${filename}\": `;\n",
              "      div.appendChild(label);\n",
              "      const progress = document.createElement('progress');\n",
              "      progress.max = size;\n",
              "      div.appendChild(progress);\n",
              "      document.body.appendChild(div);\n",
              "\n",
              "      const buffers = [];\n",
              "      let downloaded = 0;\n",
              "\n",
              "      const channel = await google.colab.kernel.comms.open(id);\n",
              "      // Send a message to notify the kernel that we're ready.\n",
              "      channel.send({})\n",
              "\n",
              "      for await (const message of channel.messages) {\n",
              "        // Send a message to notify the kernel that we're ready.\n",
              "        channel.send({})\n",
              "        if (message.buffers) {\n",
              "          for (const buffer of message.buffers) {\n",
              "            buffers.push(buffer);\n",
              "            downloaded += buffer.byteLength;\n",
              "            progress.value = downloaded;\n",
              "          }\n",
              "        }\n",
              "      }\n",
              "      const blob = new Blob(buffers, {type: 'application/binary'});\n",
              "      const a = document.createElement('a');\n",
              "      a.href = window.URL.createObjectURL(blob);\n",
              "      a.download = filename;\n",
              "      div.appendChild(a);\n",
              "      a.click();\n",
              "      div.remove();\n",
              "    }\n",
              "  "
            ]
          },
          "metadata": {}
        },
        {
          "output_type": "display_data",
          "data": {
            "text/plain": [
              "<IPython.core.display.Javascript object>"
            ],
            "application/javascript": [
              "download(\"download_2b96f8ff-9f1e-4e37-a0d0-8c00be00244a\", \"checkpoint_epoch_30.pth\", 6530106)"
            ]
          },
          "metadata": {}
        },
        {
          "output_type": "stream",
          "name": "stdout",
          "text": [
            "Epoch 30/150, Train Acc: 33.13%, Test Acc: 35.39%\n",
            "Epoch 30/150, Train Loss: 2.6266, Test Loss: 2.5563\n",
            "Epoch 31/150, Train Acc: 34.00%, Test Acc: 35.56%\n",
            "Epoch 31/150, Train Loss: 2.5912, Test Loss: 2.5358\n",
            "Epoch 32/150, Train Acc: 34.52%, Test Acc: 36.65%\n",
            "Epoch 32/150, Train Loss: 2.5590, Test Loss: 2.4920\n",
            "Epoch 33/150, Train Acc: 35.50%, Test Acc: 36.68%\n",
            "Epoch 33/150, Train Loss: 2.5242, Test Loss: 2.4891\n",
            "Epoch 34/150, Train Acc: 35.68%, Test Acc: 37.47%\n",
            "Epoch 34/150, Train Loss: 2.5078, Test Loss: 2.4466\n",
            "Epoch 35/150, Train Acc: 36.35%, Test Acc: 36.74%\n",
            "Epoch 35/150, Train Loss: 2.4787, Test Loss: 2.4705\n",
            "Epoch 36/150, Train Acc: 37.02%, Test Acc: 37.23%\n",
            "Epoch 36/150, Train Loss: 2.4546, Test Loss: 2.4462\n",
            "Epoch 37/150, Train Acc: 37.39%, Test Acc: 37.95%\n",
            "Epoch 37/150, Train Loss: 2.4311, Test Loss: 2.4125\n",
            "Epoch 38/150, Train Acc: 37.63%, Test Acc: 38.48%\n",
            "Epoch 38/150, Train Loss: 2.4103, Test Loss: 2.3925\n",
            "Epoch 39/150, Train Acc: 38.16%, Test Acc: 38.93%\n",
            "Epoch 39/150, Train Loss: 2.3841, Test Loss: 2.3719\n",
            "Checkpoint saved at epoch 40: ./checkpoint_epoch_40.pth\n"
          ]
        },
        {
          "output_type": "display_data",
          "data": {
            "text/plain": [
              "<IPython.core.display.Javascript object>"
            ],
            "application/javascript": [
              "\n",
              "    async function download(id, filename, size) {\n",
              "      if (!google.colab.kernel.accessAllowed) {\n",
              "        return;\n",
              "      }\n",
              "      const div = document.createElement('div');\n",
              "      const label = document.createElement('label');\n",
              "      label.textContent = `Downloading \"${filename}\": `;\n",
              "      div.appendChild(label);\n",
              "      const progress = document.createElement('progress');\n",
              "      progress.max = size;\n",
              "      div.appendChild(progress);\n",
              "      document.body.appendChild(div);\n",
              "\n",
              "      const buffers = [];\n",
              "      let downloaded = 0;\n",
              "\n",
              "      const channel = await google.colab.kernel.comms.open(id);\n",
              "      // Send a message to notify the kernel that we're ready.\n",
              "      channel.send({})\n",
              "\n",
              "      for await (const message of channel.messages) {\n",
              "        // Send a message to notify the kernel that we're ready.\n",
              "        channel.send({})\n",
              "        if (message.buffers) {\n",
              "          for (const buffer of message.buffers) {\n",
              "            buffers.push(buffer);\n",
              "            downloaded += buffer.byteLength;\n",
              "            progress.value = downloaded;\n",
              "          }\n",
              "        }\n",
              "      }\n",
              "      const blob = new Blob(buffers, {type: 'application/binary'});\n",
              "      const a = document.createElement('a');\n",
              "      a.href = window.URL.createObjectURL(blob);\n",
              "      a.download = filename;\n",
              "      div.appendChild(a);\n",
              "      a.click();\n",
              "      div.remove();\n",
              "    }\n",
              "  "
            ]
          },
          "metadata": {}
        },
        {
          "output_type": "display_data",
          "data": {
            "text/plain": [
              "<IPython.core.display.Javascript object>"
            ],
            "application/javascript": [
              "download(\"download_b0789158-798b-46ef-8e96-faac5e89b1ce\", \"checkpoint_epoch_40.pth\", 6530106)"
            ]
          },
          "metadata": {}
        },
        {
          "output_type": "stream",
          "name": "stdout",
          "text": [
            "Epoch 40/150, Train Acc: 38.80%, Test Acc: 38.99%\n",
            "Epoch 40/150, Train Loss: 2.3632, Test Loss: 2.3606\n",
            "Epoch 41/150, Train Acc: 39.36%, Test Acc: 39.48%\n",
            "Epoch 41/150, Train Loss: 2.3378, Test Loss: 2.3477\n",
            "Epoch 42/150, Train Acc: 39.63%, Test Acc: 40.30%\n",
            "Epoch 42/150, Train Loss: 2.3191, Test Loss: 2.3370\n",
            "Epoch 43/150, Train Acc: 40.17%, Test Acc: 40.82%\n",
            "Epoch 43/150, Train Loss: 2.3008, Test Loss: 2.2955\n",
            "Epoch 44/150, Train Acc: 40.76%, Test Acc: 40.72%\n",
            "Epoch 44/150, Train Loss: 2.2724, Test Loss: 2.2844\n",
            "Epoch 45/150, Train Acc: 40.75%, Test Acc: 41.22%\n",
            "Epoch 45/150, Train Loss: 2.2588, Test Loss: 2.2676\n",
            "Epoch 46/150, Train Acc: 41.21%, Test Acc: 40.71%\n",
            "Epoch 46/150, Train Loss: 2.2439, Test Loss: 2.2933\n",
            "Epoch 47/150, Train Acc: 41.57%, Test Acc: 41.30%\n",
            "Epoch 47/150, Train Loss: 2.2293, Test Loss: 2.2566\n",
            "Epoch 48/150, Train Acc: 41.90%, Test Acc: 41.32%\n",
            "Epoch 48/150, Train Loss: 2.2088, Test Loss: 2.2689\n",
            "Epoch 49/150, Train Acc: 42.04%, Test Acc: 42.03%\n",
            "Epoch 49/150, Train Loss: 2.1984, Test Loss: 2.2179\n",
            "Checkpoint saved at epoch 50: ./checkpoint_epoch_50.pth\n"
          ]
        },
        {
          "output_type": "display_data",
          "data": {
            "text/plain": [
              "<IPython.core.display.Javascript object>"
            ],
            "application/javascript": [
              "\n",
              "    async function download(id, filename, size) {\n",
              "      if (!google.colab.kernel.accessAllowed) {\n",
              "        return;\n",
              "      }\n",
              "      const div = document.createElement('div');\n",
              "      const label = document.createElement('label');\n",
              "      label.textContent = `Downloading \"${filename}\": `;\n",
              "      div.appendChild(label);\n",
              "      const progress = document.createElement('progress');\n",
              "      progress.max = size;\n",
              "      div.appendChild(progress);\n",
              "      document.body.appendChild(div);\n",
              "\n",
              "      const buffers = [];\n",
              "      let downloaded = 0;\n",
              "\n",
              "      const channel = await google.colab.kernel.comms.open(id);\n",
              "      // Send a message to notify the kernel that we're ready.\n",
              "      channel.send({})\n",
              "\n",
              "      for await (const message of channel.messages) {\n",
              "        // Send a message to notify the kernel that we're ready.\n",
              "        channel.send({})\n",
              "        if (message.buffers) {\n",
              "          for (const buffer of message.buffers) {\n",
              "            buffers.push(buffer);\n",
              "            downloaded += buffer.byteLength;\n",
              "            progress.value = downloaded;\n",
              "          }\n",
              "        }\n",
              "      }\n",
              "      const blob = new Blob(buffers, {type: 'application/binary'});\n",
              "      const a = document.createElement('a');\n",
              "      a.href = window.URL.createObjectURL(blob);\n",
              "      a.download = filename;\n",
              "      div.appendChild(a);\n",
              "      a.click();\n",
              "      div.remove();\n",
              "    }\n",
              "  "
            ]
          },
          "metadata": {}
        },
        {
          "output_type": "display_data",
          "data": {
            "text/plain": [
              "<IPython.core.display.Javascript object>"
            ],
            "application/javascript": [
              "download(\"download_d97b266b-b0fe-4078-adbf-f4bfae82bf50\", \"checkpoint_epoch_50.pth\", 6530106)"
            ]
          },
          "metadata": {}
        },
        {
          "output_type": "stream",
          "name": "stdout",
          "text": [
            "Epoch 50/150, Train Acc: 42.80%, Test Acc: 42.06%\n",
            "Epoch 50/150, Train Loss: 2.1788, Test Loss: 2.2260\n",
            "Epoch 51/150, Train Acc: 43.17%, Test Acc: 40.88%\n",
            "Epoch 51/150, Train Loss: 2.1616, Test Loss: 2.2635\n",
            "Epoch 52/150, Train Acc: 43.46%, Test Acc: 42.09%\n",
            "Epoch 52/150, Train Loss: 2.1475, Test Loss: 2.2217\n",
            "Epoch 53/150, Train Acc: 43.65%, Test Acc: 42.57%\n",
            "Epoch 53/150, Train Loss: 2.1310, Test Loss: 2.2019\n",
            "Epoch 54/150, Train Acc: 43.79%, Test Acc: 42.58%\n",
            "Epoch 54/150, Train Loss: 2.1191, Test Loss: 2.1880\n",
            "Epoch 55/150, Train Acc: 44.40%, Test Acc: 43.42%\n",
            "Epoch 55/150, Train Loss: 2.0989, Test Loss: 2.1850\n",
            "Epoch 56/150, Train Acc: 44.82%, Test Acc: 43.72%\n",
            "Epoch 56/150, Train Loss: 2.0872, Test Loss: 2.1740\n",
            "Epoch 57/150, Train Acc: 45.24%, Test Acc: 43.77%\n",
            "Epoch 57/150, Train Loss: 2.0696, Test Loss: 2.1717\n",
            "Epoch 58/150, Train Acc: 45.26%, Test Acc: 43.72%\n",
            "Epoch 58/150, Train Loss: 2.0602, Test Loss: 2.1585\n",
            "Epoch 59/150, Train Acc: 45.95%, Test Acc: 44.16%\n",
            "Epoch 59/150, Train Loss: 2.0413, Test Loss: 2.1468\n",
            "Checkpoint saved at epoch 60: ./checkpoint_epoch_60.pth\n"
          ]
        },
        {
          "output_type": "display_data",
          "data": {
            "text/plain": [
              "<IPython.core.display.Javascript object>"
            ],
            "application/javascript": [
              "\n",
              "    async function download(id, filename, size) {\n",
              "      if (!google.colab.kernel.accessAllowed) {\n",
              "        return;\n",
              "      }\n",
              "      const div = document.createElement('div');\n",
              "      const label = document.createElement('label');\n",
              "      label.textContent = `Downloading \"${filename}\": `;\n",
              "      div.appendChild(label);\n",
              "      const progress = document.createElement('progress');\n",
              "      progress.max = size;\n",
              "      div.appendChild(progress);\n",
              "      document.body.appendChild(div);\n",
              "\n",
              "      const buffers = [];\n",
              "      let downloaded = 0;\n",
              "\n",
              "      const channel = await google.colab.kernel.comms.open(id);\n",
              "      // Send a message to notify the kernel that we're ready.\n",
              "      channel.send({})\n",
              "\n",
              "      for await (const message of channel.messages) {\n",
              "        // Send a message to notify the kernel that we're ready.\n",
              "        channel.send({})\n",
              "        if (message.buffers) {\n",
              "          for (const buffer of message.buffers) {\n",
              "            buffers.push(buffer);\n",
              "            downloaded += buffer.byteLength;\n",
              "            progress.value = downloaded;\n",
              "          }\n",
              "        }\n",
              "      }\n",
              "      const blob = new Blob(buffers, {type: 'application/binary'});\n",
              "      const a = document.createElement('a');\n",
              "      a.href = window.URL.createObjectURL(blob);\n",
              "      a.download = filename;\n",
              "      div.appendChild(a);\n",
              "      a.click();\n",
              "      div.remove();\n",
              "    }\n",
              "  "
            ]
          },
          "metadata": {}
        },
        {
          "output_type": "display_data",
          "data": {
            "text/plain": [
              "<IPython.core.display.Javascript object>"
            ],
            "application/javascript": [
              "download(\"download_1c5c9122-60c2-45fd-b9fe-a71d5c637e0c\", \"checkpoint_epoch_60.pth\", 6530106)"
            ]
          },
          "metadata": {}
        },
        {
          "output_type": "stream",
          "name": "stdout",
          "text": [
            "Epoch 60/150, Train Acc: 46.02%, Test Acc: 44.21%\n",
            "Epoch 60/150, Train Loss: 2.0323, Test Loss: 2.1627\n",
            "Epoch 61/150, Train Acc: 46.28%, Test Acc: 44.39%\n",
            "Epoch 61/150, Train Loss: 2.0191, Test Loss: 2.1403\n",
            "Epoch 62/150, Train Acc: 46.55%, Test Acc: 44.61%\n",
            "Epoch 62/150, Train Loss: 2.0041, Test Loss: 2.1386\n",
            "Epoch 63/150, Train Acc: 47.02%, Test Acc: 44.31%\n",
            "Epoch 63/150, Train Loss: 1.9933, Test Loss: 2.1460\n",
            "Epoch 64/150, Train Acc: 47.03%, Test Acc: 44.13%\n",
            "Epoch 64/150, Train Loss: 1.9748, Test Loss: 2.1378\n",
            "Epoch 65/150, Train Acc: 47.55%, Test Acc: 44.74%\n",
            "Epoch 65/150, Train Loss: 1.9587, Test Loss: 2.1215\n",
            "Epoch 66/150, Train Acc: 47.92%, Test Acc: 45.13%\n",
            "Epoch 66/150, Train Loss: 1.9495, Test Loss: 2.1148\n",
            "Epoch 67/150, Train Acc: 47.96%, Test Acc: 45.64%\n",
            "Epoch 67/150, Train Loss: 1.9463, Test Loss: 2.0907\n",
            "Epoch 68/150, Train Acc: 48.46%, Test Acc: 45.21%\n",
            "Epoch 68/150, Train Loss: 1.9280, Test Loss: 2.0938\n",
            "Epoch 69/150, Train Acc: 48.61%, Test Acc: 45.80%\n",
            "Epoch 69/150, Train Loss: 1.9209, Test Loss: 2.0870\n",
            "Checkpoint saved at epoch 70: ./checkpoint_epoch_70.pth\n"
          ]
        },
        {
          "output_type": "display_data",
          "data": {
            "text/plain": [
              "<IPython.core.display.Javascript object>"
            ],
            "application/javascript": [
              "\n",
              "    async function download(id, filename, size) {\n",
              "      if (!google.colab.kernel.accessAllowed) {\n",
              "        return;\n",
              "      }\n",
              "      const div = document.createElement('div');\n",
              "      const label = document.createElement('label');\n",
              "      label.textContent = `Downloading \"${filename}\": `;\n",
              "      div.appendChild(label);\n",
              "      const progress = document.createElement('progress');\n",
              "      progress.max = size;\n",
              "      div.appendChild(progress);\n",
              "      document.body.appendChild(div);\n",
              "\n",
              "      const buffers = [];\n",
              "      let downloaded = 0;\n",
              "\n",
              "      const channel = await google.colab.kernel.comms.open(id);\n",
              "      // Send a message to notify the kernel that we're ready.\n",
              "      channel.send({})\n",
              "\n",
              "      for await (const message of channel.messages) {\n",
              "        // Send a message to notify the kernel that we're ready.\n",
              "        channel.send({})\n",
              "        if (message.buffers) {\n",
              "          for (const buffer of message.buffers) {\n",
              "            buffers.push(buffer);\n",
              "            downloaded += buffer.byteLength;\n",
              "            progress.value = downloaded;\n",
              "          }\n",
              "        }\n",
              "      }\n",
              "      const blob = new Blob(buffers, {type: 'application/binary'});\n",
              "      const a = document.createElement('a');\n",
              "      a.href = window.URL.createObjectURL(blob);\n",
              "      a.download = filename;\n",
              "      div.appendChild(a);\n",
              "      a.click();\n",
              "      div.remove();\n",
              "    }\n",
              "  "
            ]
          },
          "metadata": {}
        },
        {
          "output_type": "display_data",
          "data": {
            "text/plain": [
              "<IPython.core.display.Javascript object>"
            ],
            "application/javascript": [
              "download(\"download_2a1e7593-f332-4aa6-9e6d-f7f732687de2\", \"checkpoint_epoch_70.pth\", 6530106)"
            ]
          },
          "metadata": {}
        },
        {
          "output_type": "stream",
          "name": "stdout",
          "text": [
            "Epoch 70/150, Train Acc: 48.89%, Test Acc: 45.65%\n",
            "Epoch 70/150, Train Loss: 1.9022, Test Loss: 2.0880\n",
            "Epoch 71/150, Train Acc: 49.11%, Test Acc: 45.33%\n",
            "Epoch 71/150, Train Loss: 1.8942, Test Loss: 2.0931\n",
            "Epoch 72/150, Train Acc: 49.19%, Test Acc: 45.47%\n",
            "Epoch 72/150, Train Loss: 1.8830, Test Loss: 2.0910\n",
            "Epoch 73/150, Train Acc: 49.73%, Test Acc: 45.96%\n",
            "Epoch 73/150, Train Loss: 1.8730, Test Loss: 2.0758\n",
            "Epoch 74/150, Train Acc: 49.48%, Test Acc: 46.32%\n",
            "Epoch 74/150, Train Loss: 1.8713, Test Loss: 2.0916\n",
            "Epoch 75/150, Train Acc: 49.90%, Test Acc: 45.98%\n",
            "Epoch 75/150, Train Loss: 1.8550, Test Loss: 2.0723\n",
            "Epoch 76/150, Train Acc: 50.36%, Test Acc: 46.37%\n",
            "Epoch 76/150, Train Loss: 1.8410, Test Loss: 2.0606\n",
            "Epoch 77/150, Train Acc: 50.45%, Test Acc: 46.31%\n",
            "Epoch 77/150, Train Loss: 1.8364, Test Loss: 2.0658\n",
            "Epoch 78/150, Train Acc: 50.67%, Test Acc: 47.02%\n",
            "Epoch 78/150, Train Loss: 1.8288, Test Loss: 2.0554\n",
            "Epoch 79/150, Train Acc: 50.90%, Test Acc: 46.98%\n",
            "Epoch 79/150, Train Loss: 1.8098, Test Loss: 2.0542\n",
            "Checkpoint saved at epoch 80: ./checkpoint_epoch_80.pth\n"
          ]
        },
        {
          "output_type": "display_data",
          "data": {
            "text/plain": [
              "<IPython.core.display.Javascript object>"
            ],
            "application/javascript": [
              "\n",
              "    async function download(id, filename, size) {\n",
              "      if (!google.colab.kernel.accessAllowed) {\n",
              "        return;\n",
              "      }\n",
              "      const div = document.createElement('div');\n",
              "      const label = document.createElement('label');\n",
              "      label.textContent = `Downloading \"${filename}\": `;\n",
              "      div.appendChild(label);\n",
              "      const progress = document.createElement('progress');\n",
              "      progress.max = size;\n",
              "      div.appendChild(progress);\n",
              "      document.body.appendChild(div);\n",
              "\n",
              "      const buffers = [];\n",
              "      let downloaded = 0;\n",
              "\n",
              "      const channel = await google.colab.kernel.comms.open(id);\n",
              "      // Send a message to notify the kernel that we're ready.\n",
              "      channel.send({})\n",
              "\n",
              "      for await (const message of channel.messages) {\n",
              "        // Send a message to notify the kernel that we're ready.\n",
              "        channel.send({})\n",
              "        if (message.buffers) {\n",
              "          for (const buffer of message.buffers) {\n",
              "            buffers.push(buffer);\n",
              "            downloaded += buffer.byteLength;\n",
              "            progress.value = downloaded;\n",
              "          }\n",
              "        }\n",
              "      }\n",
              "      const blob = new Blob(buffers, {type: 'application/binary'});\n",
              "      const a = document.createElement('a');\n",
              "      a.href = window.URL.createObjectURL(blob);\n",
              "      a.download = filename;\n",
              "      div.appendChild(a);\n",
              "      a.click();\n",
              "      div.remove();\n",
              "    }\n",
              "  "
            ]
          },
          "metadata": {}
        },
        {
          "output_type": "display_data",
          "data": {
            "text/plain": [
              "<IPython.core.display.Javascript object>"
            ],
            "application/javascript": [
              "download(\"download_4538d48f-3b3d-4069-9636-caf720eb2c08\", \"checkpoint_epoch_80.pth\", 6530106)"
            ]
          },
          "metadata": {}
        },
        {
          "output_type": "stream",
          "name": "stdout",
          "text": [
            "Epoch 80/150, Train Acc: 51.01%, Test Acc: 46.56%\n",
            "Epoch 80/150, Train Loss: 1.8058, Test Loss: 2.0454\n",
            "Epoch 81/150, Train Acc: 50.80%, Test Acc: 47.05%\n",
            "Epoch 81/150, Train Loss: 1.8055, Test Loss: 2.0416\n",
            "Epoch 82/150, Train Acc: 51.60%, Test Acc: 46.75%\n",
            "Epoch 82/150, Train Loss: 1.7819, Test Loss: 2.0473\n",
            "Epoch 83/150, Train Acc: 52.07%, Test Acc: 46.52%\n",
            "Epoch 83/150, Train Loss: 1.7735, Test Loss: 2.0408\n",
            "Epoch 84/150, Train Acc: 51.71%, Test Acc: 46.73%\n",
            "Epoch 84/150, Train Loss: 1.7712, Test Loss: 2.0550\n",
            "Epoch 85/150, Train Acc: 51.92%, Test Acc: 46.89%\n",
            "Epoch 85/150, Train Loss: 1.7654, Test Loss: 2.0467\n",
            "Epoch 86/150, Train Acc: 52.10%, Test Acc: 47.25%\n",
            "Epoch 86/150, Train Loss: 1.7563, Test Loss: 2.0409\n",
            "Epoch 87/150, Train Acc: 52.69%, Test Acc: 47.49%\n",
            "Epoch 87/150, Train Loss: 1.7394, Test Loss: 2.0296\n",
            "Epoch 88/150, Train Acc: 52.96%, Test Acc: 46.89%\n",
            "Epoch 88/150, Train Loss: 1.7345, Test Loss: 2.0309\n",
            "Epoch 89/150, Train Acc: 52.94%, Test Acc: 47.25%\n",
            "Epoch 89/150, Train Loss: 1.7275, Test Loss: 2.0334\n",
            "Checkpoint saved at epoch 90: ./checkpoint_epoch_90.pth\n"
          ]
        },
        {
          "output_type": "display_data",
          "data": {
            "text/plain": [
              "<IPython.core.display.Javascript object>"
            ],
            "application/javascript": [
              "\n",
              "    async function download(id, filename, size) {\n",
              "      if (!google.colab.kernel.accessAllowed) {\n",
              "        return;\n",
              "      }\n",
              "      const div = document.createElement('div');\n",
              "      const label = document.createElement('label');\n",
              "      label.textContent = `Downloading \"${filename}\": `;\n",
              "      div.appendChild(label);\n",
              "      const progress = document.createElement('progress');\n",
              "      progress.max = size;\n",
              "      div.appendChild(progress);\n",
              "      document.body.appendChild(div);\n",
              "\n",
              "      const buffers = [];\n",
              "      let downloaded = 0;\n",
              "\n",
              "      const channel = await google.colab.kernel.comms.open(id);\n",
              "      // Send a message to notify the kernel that we're ready.\n",
              "      channel.send({})\n",
              "\n",
              "      for await (const message of channel.messages) {\n",
              "        // Send a message to notify the kernel that we're ready.\n",
              "        channel.send({})\n",
              "        if (message.buffers) {\n",
              "          for (const buffer of message.buffers) {\n",
              "            buffers.push(buffer);\n",
              "            downloaded += buffer.byteLength;\n",
              "            progress.value = downloaded;\n",
              "          }\n",
              "        }\n",
              "      }\n",
              "      const blob = new Blob(buffers, {type: 'application/binary'});\n",
              "      const a = document.createElement('a');\n",
              "      a.href = window.URL.createObjectURL(blob);\n",
              "      a.download = filename;\n",
              "      div.appendChild(a);\n",
              "      a.click();\n",
              "      div.remove();\n",
              "    }\n",
              "  "
            ]
          },
          "metadata": {}
        },
        {
          "output_type": "display_data",
          "data": {
            "text/plain": [
              "<IPython.core.display.Javascript object>"
            ],
            "application/javascript": [
              "download(\"download_1375b4e8-04c7-4672-b42e-21bea9277bd6\", \"checkpoint_epoch_90.pth\", 6530106)"
            ]
          },
          "metadata": {}
        },
        {
          "output_type": "stream",
          "name": "stdout",
          "text": [
            "Epoch 90/150, Train Acc: 53.28%, Test Acc: 47.43%\n",
            "Epoch 90/150, Train Loss: 1.7183, Test Loss: 2.0262\n",
            "Epoch 91/150, Train Acc: 53.16%, Test Acc: 47.70%\n",
            "Epoch 91/150, Train Loss: 1.7127, Test Loss: 2.0270\n",
            "Epoch 92/150, Train Acc: 53.54%, Test Acc: 47.71%\n",
            "Epoch 92/150, Train Loss: 1.6993, Test Loss: 2.0149\n",
            "Epoch 93/150, Train Acc: 53.61%, Test Acc: 47.44%\n",
            "Epoch 93/150, Train Loss: 1.6946, Test Loss: 2.0210\n",
            "Epoch 94/150, Train Acc: 53.79%, Test Acc: 47.39%\n",
            "Epoch 94/150, Train Loss: 1.6884, Test Loss: 2.0234\n",
            "Epoch 95/150, Train Acc: 54.20%, Test Acc: 47.90%\n",
            "Epoch 95/150, Train Loss: 1.6800, Test Loss: 2.0129\n",
            "Epoch 96/150, Train Acc: 54.15%, Test Acc: 47.60%\n",
            "Epoch 96/150, Train Loss: 1.6760, Test Loss: 2.0245\n",
            "Epoch 97/150, Train Acc: 54.23%, Test Acc: 48.20%\n",
            "Epoch 97/150, Train Loss: 1.6742, Test Loss: 2.0133\n",
            "Epoch 98/150, Train Acc: 54.60%, Test Acc: 48.17%\n",
            "Epoch 98/150, Train Loss: 1.6613, Test Loss: 2.0130\n",
            "Epoch 99/150, Train Acc: 54.70%, Test Acc: 48.19%\n",
            "Epoch 99/150, Train Loss: 1.6526, Test Loss: 2.0109\n",
            "Checkpoint saved at epoch 100: ./checkpoint_epoch_100.pth\n"
          ]
        },
        {
          "output_type": "display_data",
          "data": {
            "text/plain": [
              "<IPython.core.display.Javascript object>"
            ],
            "application/javascript": [
              "\n",
              "    async function download(id, filename, size) {\n",
              "      if (!google.colab.kernel.accessAllowed) {\n",
              "        return;\n",
              "      }\n",
              "      const div = document.createElement('div');\n",
              "      const label = document.createElement('label');\n",
              "      label.textContent = `Downloading \"${filename}\": `;\n",
              "      div.appendChild(label);\n",
              "      const progress = document.createElement('progress');\n",
              "      progress.max = size;\n",
              "      div.appendChild(progress);\n",
              "      document.body.appendChild(div);\n",
              "\n",
              "      const buffers = [];\n",
              "      let downloaded = 0;\n",
              "\n",
              "      const channel = await google.colab.kernel.comms.open(id);\n",
              "      // Send a message to notify the kernel that we're ready.\n",
              "      channel.send({})\n",
              "\n",
              "      for await (const message of channel.messages) {\n",
              "        // Send a message to notify the kernel that we're ready.\n",
              "        channel.send({})\n",
              "        if (message.buffers) {\n",
              "          for (const buffer of message.buffers) {\n",
              "            buffers.push(buffer);\n",
              "            downloaded += buffer.byteLength;\n",
              "            progress.value = downloaded;\n",
              "          }\n",
              "        }\n",
              "      }\n",
              "      const blob = new Blob(buffers, {type: 'application/binary'});\n",
              "      const a = document.createElement('a');\n",
              "      a.href = window.URL.createObjectURL(blob);\n",
              "      a.download = filename;\n",
              "      div.appendChild(a);\n",
              "      a.click();\n",
              "      div.remove();\n",
              "    }\n",
              "  "
            ]
          },
          "metadata": {}
        },
        {
          "output_type": "display_data",
          "data": {
            "text/plain": [
              "<IPython.core.display.Javascript object>"
            ],
            "application/javascript": [
              "download(\"download_6742bc4c-04c1-42c9-9123-051bee27f1d9\", \"checkpoint_epoch_100.pth\", 6530130)"
            ]
          },
          "metadata": {}
        },
        {
          "output_type": "stream",
          "name": "stdout",
          "text": [
            "Epoch 100/150, Train Acc: 54.80%, Test Acc: 47.95%\n",
            "Epoch 100/150, Train Loss: 1.6485, Test Loss: 2.0084\n",
            "Epoch 101/150, Train Acc: 54.98%, Test Acc: 48.44%\n",
            "Epoch 101/150, Train Loss: 1.6446, Test Loss: 2.0085\n",
            "Epoch 102/150, Train Acc: 54.90%, Test Acc: 48.06%\n",
            "Epoch 102/150, Train Loss: 1.6418, Test Loss: 2.0039\n",
            "Epoch 103/150, Train Acc: 55.37%, Test Acc: 48.03%\n",
            "Epoch 103/150, Train Loss: 1.6261, Test Loss: 2.0070\n",
            "Epoch 104/150, Train Acc: 55.47%, Test Acc: 47.91%\n",
            "Epoch 104/150, Train Loss: 1.6258, Test Loss: 2.0046\n",
            "Epoch 105/150, Train Acc: 55.73%, Test Acc: 48.29%\n",
            "Epoch 105/150, Train Loss: 1.6195, Test Loss: 1.9972\n",
            "Epoch 106/150, Train Acc: 55.56%, Test Acc: 47.99%\n",
            "Epoch 106/150, Train Loss: 1.6165, Test Loss: 1.9940\n",
            "Epoch 107/150, Train Acc: 56.06%, Test Acc: 48.61%\n",
            "Epoch 107/150, Train Loss: 1.6048, Test Loss: 1.9836\n",
            "Epoch 108/150, Train Acc: 55.98%, Test Acc: 48.62%\n",
            "Epoch 108/150, Train Loss: 1.6032, Test Loss: 1.9950\n",
            "Epoch 109/150, Train Acc: 56.01%, Test Acc: 48.52%\n",
            "Epoch 109/150, Train Loss: 1.5954, Test Loss: 1.9951\n",
            "Checkpoint saved at epoch 110: ./checkpoint_epoch_110.pth\n"
          ]
        },
        {
          "output_type": "display_data",
          "data": {
            "text/plain": [
              "<IPython.core.display.Javascript object>"
            ],
            "application/javascript": [
              "\n",
              "    async function download(id, filename, size) {\n",
              "      if (!google.colab.kernel.accessAllowed) {\n",
              "        return;\n",
              "      }\n",
              "      const div = document.createElement('div');\n",
              "      const label = document.createElement('label');\n",
              "      label.textContent = `Downloading \"${filename}\": `;\n",
              "      div.appendChild(label);\n",
              "      const progress = document.createElement('progress');\n",
              "      progress.max = size;\n",
              "      div.appendChild(progress);\n",
              "      document.body.appendChild(div);\n",
              "\n",
              "      const buffers = [];\n",
              "      let downloaded = 0;\n",
              "\n",
              "      const channel = await google.colab.kernel.comms.open(id);\n",
              "      // Send a message to notify the kernel that we're ready.\n",
              "      channel.send({})\n",
              "\n",
              "      for await (const message of channel.messages) {\n",
              "        // Send a message to notify the kernel that we're ready.\n",
              "        channel.send({})\n",
              "        if (message.buffers) {\n",
              "          for (const buffer of message.buffers) {\n",
              "            buffers.push(buffer);\n",
              "            downloaded += buffer.byteLength;\n",
              "            progress.value = downloaded;\n",
              "          }\n",
              "        }\n",
              "      }\n",
              "      const blob = new Blob(buffers, {type: 'application/binary'});\n",
              "      const a = document.createElement('a');\n",
              "      a.href = window.URL.createObjectURL(blob);\n",
              "      a.download = filename;\n",
              "      div.appendChild(a);\n",
              "      a.click();\n",
              "      div.remove();\n",
              "    }\n",
              "  "
            ]
          },
          "metadata": {}
        },
        {
          "output_type": "display_data",
          "data": {
            "text/plain": [
              "<IPython.core.display.Javascript object>"
            ],
            "application/javascript": [
              "download(\"download_a54e5d63-1d6a-4dfe-800e-f8cd6b844228\", \"checkpoint_epoch_110.pth\", 6530130)"
            ]
          },
          "metadata": {}
        },
        {
          "output_type": "stream",
          "name": "stdout",
          "text": [
            "Epoch 110/150, Train Acc: 56.27%, Test Acc: 48.14%\n",
            "Epoch 110/150, Train Loss: 1.5933, Test Loss: 1.9944\n",
            "Epoch 111/150, Train Acc: 56.51%, Test Acc: 48.40%\n",
            "Epoch 111/150, Train Loss: 1.5823, Test Loss: 1.9929\n",
            "Epoch 112/150, Train Acc: 56.66%, Test Acc: 48.29%\n",
            "Epoch 112/150, Train Loss: 1.5803, Test Loss: 1.9985\n",
            "Epoch 113/150, Train Acc: 56.68%, Test Acc: 48.34%\n",
            "Epoch 113/150, Train Loss: 1.5754, Test Loss: 1.9939\n",
            "Epoch 114/150, Train Acc: 56.60%, Test Acc: 48.59%\n",
            "Epoch 114/150, Train Loss: 1.5738, Test Loss: 1.9923\n",
            "Epoch 115/150, Train Acc: 56.99%, Test Acc: 48.53%\n",
            "Epoch 115/150, Train Loss: 1.5672, Test Loss: 1.9843\n",
            "Epoch 116/150, Train Acc: 56.94%, Test Acc: 48.42%\n",
            "Epoch 116/150, Train Loss: 1.5618, Test Loss: 1.9850\n",
            "Epoch 117/150, Train Acc: 57.37%, Test Acc: 48.73%\n",
            "Epoch 117/150, Train Loss: 1.5551, Test Loss: 1.9854\n",
            "Epoch 118/150, Train Acc: 57.25%, Test Acc: 48.65%\n",
            "Epoch 118/150, Train Loss: 1.5561, Test Loss: 1.9862\n",
            "Epoch 119/150, Train Acc: 57.25%, Test Acc: 48.76%\n",
            "Epoch 119/150, Train Loss: 1.5503, Test Loss: 1.9846\n",
            "Checkpoint saved at epoch 120: ./checkpoint_epoch_120.pth\n"
          ]
        },
        {
          "output_type": "display_data",
          "data": {
            "text/plain": [
              "<IPython.core.display.Javascript object>"
            ],
            "application/javascript": [
              "\n",
              "    async function download(id, filename, size) {\n",
              "      if (!google.colab.kernel.accessAllowed) {\n",
              "        return;\n",
              "      }\n",
              "      const div = document.createElement('div');\n",
              "      const label = document.createElement('label');\n",
              "      label.textContent = `Downloading \"${filename}\": `;\n",
              "      div.appendChild(label);\n",
              "      const progress = document.createElement('progress');\n",
              "      progress.max = size;\n",
              "      div.appendChild(progress);\n",
              "      document.body.appendChild(div);\n",
              "\n",
              "      const buffers = [];\n",
              "      let downloaded = 0;\n",
              "\n",
              "      const channel = await google.colab.kernel.comms.open(id);\n",
              "      // Send a message to notify the kernel that we're ready.\n",
              "      channel.send({})\n",
              "\n",
              "      for await (const message of channel.messages) {\n",
              "        // Send a message to notify the kernel that we're ready.\n",
              "        channel.send({})\n",
              "        if (message.buffers) {\n",
              "          for (const buffer of message.buffers) {\n",
              "            buffers.push(buffer);\n",
              "            downloaded += buffer.byteLength;\n",
              "            progress.value = downloaded;\n",
              "          }\n",
              "        }\n",
              "      }\n",
              "      const blob = new Blob(buffers, {type: 'application/binary'});\n",
              "      const a = document.createElement('a');\n",
              "      a.href = window.URL.createObjectURL(blob);\n",
              "      a.download = filename;\n",
              "      div.appendChild(a);\n",
              "      a.click();\n",
              "      div.remove();\n",
              "    }\n",
              "  "
            ]
          },
          "metadata": {}
        },
        {
          "output_type": "display_data",
          "data": {
            "text/plain": [
              "<IPython.core.display.Javascript object>"
            ],
            "application/javascript": [
              "download(\"download_7d0b6bd2-bb2c-48c4-bff1-7828a97c49b8\", \"checkpoint_epoch_120.pth\", 6530130)"
            ]
          },
          "metadata": {}
        },
        {
          "output_type": "stream",
          "name": "stdout",
          "text": [
            "Epoch 120/150, Train Acc: 57.57%, Test Acc: 48.75%\n",
            "Epoch 120/150, Train Loss: 1.5466, Test Loss: 1.9859\n",
            "Epoch 121/150, Train Acc: 57.67%, Test Acc: 48.88%\n",
            "Epoch 121/150, Train Loss: 1.5401, Test Loss: 1.9829\n",
            "Epoch 122/150, Train Acc: 57.49%, Test Acc: 48.94%\n",
            "Epoch 122/150, Train Loss: 1.5379, Test Loss: 1.9829\n",
            "Epoch 123/150, Train Acc: 57.55%, Test Acc: 48.87%\n",
            "Epoch 123/150, Train Loss: 1.5397, Test Loss: 1.9867\n",
            "Epoch 124/150, Train Acc: 57.77%, Test Acc: 49.15%\n",
            "Epoch 124/150, Train Loss: 1.5296, Test Loss: 1.9809\n",
            "Epoch 125/150, Train Acc: 58.06%, Test Acc: 48.80%\n",
            "Epoch 125/150, Train Loss: 1.5282, Test Loss: 1.9822\n",
            "Epoch 126/150, Train Acc: 57.90%, Test Acc: 48.82%\n",
            "Epoch 126/150, Train Loss: 1.5256, Test Loss: 1.9820\n",
            "Epoch 127/150, Train Acc: 58.10%, Test Acc: 48.94%\n",
            "Epoch 127/150, Train Loss: 1.5287, Test Loss: 1.9773\n",
            "Epoch 128/150, Train Acc: 58.23%, Test Acc: 49.10%\n",
            "Epoch 128/150, Train Loss: 1.5220, Test Loss: 1.9816\n",
            "Epoch 129/150, Train Acc: 58.05%, Test Acc: 49.16%\n",
            "Epoch 129/150, Train Loss: 1.5233, Test Loss: 1.9790\n",
            "Checkpoint saved at epoch 130: ./checkpoint_epoch_130.pth\n"
          ]
        },
        {
          "output_type": "display_data",
          "data": {
            "text/plain": [
              "<IPython.core.display.Javascript object>"
            ],
            "application/javascript": [
              "\n",
              "    async function download(id, filename, size) {\n",
              "      if (!google.colab.kernel.accessAllowed) {\n",
              "        return;\n",
              "      }\n",
              "      const div = document.createElement('div');\n",
              "      const label = document.createElement('label');\n",
              "      label.textContent = `Downloading \"${filename}\": `;\n",
              "      div.appendChild(label);\n",
              "      const progress = document.createElement('progress');\n",
              "      progress.max = size;\n",
              "      div.appendChild(progress);\n",
              "      document.body.appendChild(div);\n",
              "\n",
              "      const buffers = [];\n",
              "      let downloaded = 0;\n",
              "\n",
              "      const channel = await google.colab.kernel.comms.open(id);\n",
              "      // Send a message to notify the kernel that we're ready.\n",
              "      channel.send({})\n",
              "\n",
              "      for await (const message of channel.messages) {\n",
              "        // Send a message to notify the kernel that we're ready.\n",
              "        channel.send({})\n",
              "        if (message.buffers) {\n",
              "          for (const buffer of message.buffers) {\n",
              "            buffers.push(buffer);\n",
              "            downloaded += buffer.byteLength;\n",
              "            progress.value = downloaded;\n",
              "          }\n",
              "        }\n",
              "      }\n",
              "      const blob = new Blob(buffers, {type: 'application/binary'});\n",
              "      const a = document.createElement('a');\n",
              "      a.href = window.URL.createObjectURL(blob);\n",
              "      a.download = filename;\n",
              "      div.appendChild(a);\n",
              "      a.click();\n",
              "      div.remove();\n",
              "    }\n",
              "  "
            ]
          },
          "metadata": {}
        },
        {
          "output_type": "display_data",
          "data": {
            "text/plain": [
              "<IPython.core.display.Javascript object>"
            ],
            "application/javascript": [
              "download(\"download_b31eca29-e424-489b-946e-35b3fb4eabb0\", \"checkpoint_epoch_130.pth\", 6530130)"
            ]
          },
          "metadata": {}
        },
        {
          "output_type": "stream",
          "name": "stdout",
          "text": [
            "Epoch 130/150, Train Acc: 58.30%, Test Acc: 49.04%\n",
            "Epoch 130/150, Train Loss: 1.5175, Test Loss: 1.9819\n",
            "Epoch 131/150, Train Acc: 58.20%, Test Acc: 49.02%\n",
            "Epoch 131/150, Train Loss: 1.5191, Test Loss: 1.9767\n",
            "Epoch 132/150, Train Acc: 58.37%, Test Acc: 49.27%\n",
            "Epoch 132/150, Train Loss: 1.5136, Test Loss: 1.9739\n",
            "Epoch 133/150, Train Acc: 58.42%, Test Acc: 49.14%\n",
            "Epoch 133/150, Train Loss: 1.5079, Test Loss: 1.9775\n",
            "Epoch 134/150, Train Acc: 58.29%, Test Acc: 49.27%\n",
            "Epoch 134/150, Train Loss: 1.5154, Test Loss: 1.9757\n",
            "Epoch 135/150, Train Acc: 58.47%, Test Acc: 49.15%\n",
            "Epoch 135/150, Train Loss: 1.5092, Test Loss: 1.9786\n",
            "Epoch 136/150, Train Acc: 58.30%, Test Acc: 49.12%\n",
            "Epoch 136/150, Train Loss: 1.5077, Test Loss: 1.9742\n",
            "Epoch 137/150, Train Acc: 58.40%, Test Acc: 49.20%\n",
            "Epoch 137/150, Train Loss: 1.5086, Test Loss: 1.9769\n",
            "Epoch 138/150, Train Acc: 58.57%, Test Acc: 49.15%\n",
            "Epoch 138/150, Train Loss: 1.5051, Test Loss: 1.9738\n",
            "Epoch 139/150, Train Acc: 58.67%, Test Acc: 49.28%\n",
            "Epoch 139/150, Train Loss: 1.4965, Test Loss: 1.9755\n",
            "Checkpoint saved at epoch 140: ./checkpoint_epoch_140.pth\n"
          ]
        },
        {
          "output_type": "display_data",
          "data": {
            "text/plain": [
              "<IPython.core.display.Javascript object>"
            ],
            "application/javascript": [
              "\n",
              "    async function download(id, filename, size) {\n",
              "      if (!google.colab.kernel.accessAllowed) {\n",
              "        return;\n",
              "      }\n",
              "      const div = document.createElement('div');\n",
              "      const label = document.createElement('label');\n",
              "      label.textContent = `Downloading \"${filename}\": `;\n",
              "      div.appendChild(label);\n",
              "      const progress = document.createElement('progress');\n",
              "      progress.max = size;\n",
              "      div.appendChild(progress);\n",
              "      document.body.appendChild(div);\n",
              "\n",
              "      const buffers = [];\n",
              "      let downloaded = 0;\n",
              "\n",
              "      const channel = await google.colab.kernel.comms.open(id);\n",
              "      // Send a message to notify the kernel that we're ready.\n",
              "      channel.send({})\n",
              "\n",
              "      for await (const message of channel.messages) {\n",
              "        // Send a message to notify the kernel that we're ready.\n",
              "        channel.send({})\n",
              "        if (message.buffers) {\n",
              "          for (const buffer of message.buffers) {\n",
              "            buffers.push(buffer);\n",
              "            downloaded += buffer.byteLength;\n",
              "            progress.value = downloaded;\n",
              "          }\n",
              "        }\n",
              "      }\n",
              "      const blob = new Blob(buffers, {type: 'application/binary'});\n",
              "      const a = document.createElement('a');\n",
              "      a.href = window.URL.createObjectURL(blob);\n",
              "      a.download = filename;\n",
              "      div.appendChild(a);\n",
              "      a.click();\n",
              "      div.remove();\n",
              "    }\n",
              "  "
            ]
          },
          "metadata": {}
        },
        {
          "output_type": "display_data",
          "data": {
            "text/plain": [
              "<IPython.core.display.Javascript object>"
            ],
            "application/javascript": [
              "download(\"download_37e0a019-b479-41c4-808e-19098fd60599\", \"checkpoint_epoch_140.pth\", 6530130)"
            ]
          },
          "metadata": {}
        },
        {
          "output_type": "stream",
          "name": "stdout",
          "text": [
            "Epoch 140/150, Train Acc: 58.57%, Test Acc: 49.19%\n",
            "Epoch 140/150, Train Loss: 1.5002, Test Loss: 1.9737\n",
            "Epoch 141/150, Train Acc: 58.66%, Test Acc: 49.27%\n",
            "Epoch 141/150, Train Loss: 1.5050, Test Loss: 1.9748\n",
            "Epoch 142/150, Train Acc: 58.81%, Test Acc: 49.17%\n",
            "Epoch 142/150, Train Loss: 1.5020, Test Loss: 1.9741\n",
            "Epoch 143/150, Train Acc: 58.70%, Test Acc: 49.20%\n",
            "Epoch 143/150, Train Loss: 1.4965, Test Loss: 1.9741\n",
            "Epoch 144/150, Train Acc: 58.74%, Test Acc: 49.27%\n",
            "Epoch 144/150, Train Loss: 1.5004, Test Loss: 1.9752\n",
            "Epoch 145/150, Train Acc: 58.71%, Test Acc: 49.20%\n",
            "Epoch 145/150, Train Loss: 1.4969, Test Loss: 1.9746\n",
            "Epoch 146/150, Train Acc: 58.93%, Test Acc: 49.30%\n",
            "Epoch 146/150, Train Loss: 1.4953, Test Loss: 1.9742\n",
            "Epoch 147/150, Train Acc: 58.93%, Test Acc: 49.29%\n",
            "Epoch 147/150, Train Loss: 1.4932, Test Loss: 1.9741\n",
            "Epoch 148/150, Train Acc: 58.69%, Test Acc: 49.26%\n",
            "Epoch 148/150, Train Loss: 1.5030, Test Loss: 1.9742\n",
            "Epoch 149/150, Train Acc: 58.86%, Test Acc: 49.25%\n",
            "Epoch 149/150, Train Loss: 1.4882, Test Loss: 1.9742\n",
            "Checkpoint saved at epoch 150: ./checkpoint_epoch_150.pth\n"
          ]
        },
        {
          "output_type": "display_data",
          "data": {
            "text/plain": [
              "<IPython.core.display.Javascript object>"
            ],
            "application/javascript": [
              "\n",
              "    async function download(id, filename, size) {\n",
              "      if (!google.colab.kernel.accessAllowed) {\n",
              "        return;\n",
              "      }\n",
              "      const div = document.createElement('div');\n",
              "      const label = document.createElement('label');\n",
              "      label.textContent = `Downloading \"${filename}\": `;\n",
              "      div.appendChild(label);\n",
              "      const progress = document.createElement('progress');\n",
              "      progress.max = size;\n",
              "      div.appendChild(progress);\n",
              "      document.body.appendChild(div);\n",
              "\n",
              "      const buffers = [];\n",
              "      let downloaded = 0;\n",
              "\n",
              "      const channel = await google.colab.kernel.comms.open(id);\n",
              "      // Send a message to notify the kernel that we're ready.\n",
              "      channel.send({})\n",
              "\n",
              "      for await (const message of channel.messages) {\n",
              "        // Send a message to notify the kernel that we're ready.\n",
              "        channel.send({})\n",
              "        if (message.buffers) {\n",
              "          for (const buffer of message.buffers) {\n",
              "            buffers.push(buffer);\n",
              "            downloaded += buffer.byteLength;\n",
              "            progress.value = downloaded;\n",
              "          }\n",
              "        }\n",
              "      }\n",
              "      const blob = new Blob(buffers, {type: 'application/binary'});\n",
              "      const a = document.createElement('a');\n",
              "      a.href = window.URL.createObjectURL(blob);\n",
              "      a.download = filename;\n",
              "      div.appendChild(a);\n",
              "      a.click();\n",
              "      div.remove();\n",
              "    }\n",
              "  "
            ]
          },
          "metadata": {}
        },
        {
          "output_type": "display_data",
          "data": {
            "text/plain": [
              "<IPython.core.display.Javascript object>"
            ],
            "application/javascript": [
              "download(\"download_e24a37bd-3e7c-4a93-8f3c-5cf347a9430f\", \"checkpoint_epoch_150.pth\", 6530130)"
            ]
          },
          "metadata": {}
        },
        {
          "output_type": "stream",
          "name": "stdout",
          "text": [
            "Epoch 150/150, Train Acc: 58.78%, Test Acc: 49.27%\n",
            "Epoch 150/150, Train Loss: 1.4952, Test Loss: 1.9742\n"
          ]
        },
        {
          "output_type": "display_data",
          "data": {
            "text/plain": [
              "<Figure size 600x400 with 1 Axes>"
            ],
            "image/png": "[encoded data removed]"
          },
          "metadata": {}
        },
        {
          "output_type": "display_data",
          "data": {
            "text/plain": [
              "<Figure size 600x400 with 1 Axes>"
            ],
            "image/png": "[encoded data removed]"
          },
          "metadata": {}
        },
        {
          "output_type": "display_data",
          "data": {
            "text/plain": [
              "<Figure size 600x400 with 1 Axes>"
            ],
            "image/png": "[encoded data removed]"
          },
          "metadata": {}
        },
        {
          "output_type": "display_data",
          "data": {
            "text/plain": [
              "<Figure size 600x400 with 1 Axes>"
            ],
            "image/png": "[encoded data removed]"
          },
          "metadata": {}
        },
        {
          "output_type": "display_data",
          "data": {
            "text/plain": [
              "<Figure size 640x480 with 0 Axes>"
            ]
          },
          "metadata": {}
        }
      ]
    }
  ]
}