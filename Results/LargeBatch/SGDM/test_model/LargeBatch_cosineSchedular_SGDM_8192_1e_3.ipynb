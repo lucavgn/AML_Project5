{
  "nbformat": 4,
  "nbformat_minor": 0,
  "metadata": {
    "colab": {
      "provenance": [],
      "gpuType": "T4"
    },
    "kernelspec": {
      "name": "python3",
      "display_name": "Python 3"
    },
    "language_info": {
      "name": "python"
    },
    "accelerator": "GPU"
  },
  "cells": [
    {
      "cell_type": "code",
      "execution_count": null,
      "metadata": {
        "colab": {
          "base_uri": "https://localhost:8080/"
        },
        "id": "OfQGCtv5hXiw",
        "outputId": "4913568e-0103-451a-cb1d-5c8ff5905d75"
      },
      "outputs": [
        {
          "output_type": "stream",
          "name": "stdout",
          "text": [
            "Writing large_batch_training.py\n"
          ]
        }
      ],
      "source": [
        "%%writefile large_batch_training.py\n",
        "\n",
        "import os\n",
        "import numpy as np\n",
        "import torch\n",
        "import torch.nn as nn\n",
        "import torch.optim as optim\n",
        "import torchvision\n",
        "import torchvision.transforms as transforms\n",
        "import matplotlib.pyplot as plt\n",
        "import argparse\n",
        "from torch.utils.data import random_split\n",
        "from google.colab import files\n",
        "\n",
        "def compute_mean_std(dataset):\n",
        "    \"\"\"Compute the mean and std of CIFAR-100 dataset.\n",
        "\n",
        "    Args:\n",
        "        dataset: A dataset derived from `torch.utils.data.Dataset`,\n",
        "                 such as `cifar100_training_dataset` or `cifar100_test_dataset`.\n",
        "\n",
        "    Returns:\n",
        "        A tuple containing (mean, std) for the entire dataset.\n",
        "    \"\"\"\n",
        "\n",
        "    # Extract images and labels\n",
        "    data_r = np.stack([np.array(dataset[i][0])[:, :, 0] for i in range(len(dataset))])\n",
        "    data_g = np.stack([np.array(dataset[i][0])[:, :, 1] for i in range(len(dataset))])\n",
        "    data_b = np.stack([np.array(dataset[i][0])[:, :, 2] for i in range(len(dataset))])\n",
        "\n",
        "    # Compute mean and std\n",
        "    mean = np.mean(data_r), np.mean(data_g), np.mean(data_b)\n",
        "    std = np.std(data_r), np.std(data_g), np.std(data_b)\n",
        "\n",
        "    return mean, std\n",
        "\n",
        "# Define LeNet-5 architecture\n",
        "class LeNet5(nn.Module):\n",
        "    def __init__(self):\n",
        "        super(LeNet5, self).__init__()\n",
        "        self.conv1 = nn.Conv2d(3, 64, 5)\n",
        "        self.relu1 = nn.ReLU()\n",
        "        self.pool1 = nn.MaxPool2d(2, 2)\n",
        "        self.conv2 = nn.Conv2d(64, 64, 5)\n",
        "        self.relu2 = nn.ReLU()\n",
        "        self.pool2 = nn.MaxPool2d(2, 2)\n",
        "        self.fc1 = nn.Linear(64 * 5 * 5, 384)\n",
        "        self.relu3 = nn.ReLU()\n",
        "        self.fc2 = nn.Linear(384, 192)\n",
        "        self.relu4 = nn.ReLU()\n",
        "        self.fc3 = nn.Linear(192, 100)\n",
        "\n",
        "    def forward(self, x):\n",
        "        x = self.pool1(self.relu1(self.conv1(x)))\n",
        "        x = self.pool2(self.relu2(self.conv2(x)))\n",
        "        x = x.view(-1, 64 * 5 * 5)\n",
        "        x = self.relu3(self.fc1(x))\n",
        "        x = self.relu4(self.fc2(x))\n",
        "        x = self.fc3(x)\n",
        "        return x\n",
        "\n",
        "# Device setup\n",
        "device = torch.device(\"cuda:0\" if torch.cuda.is_available() else \"cpu\")\n",
        "\n",
        "# Initialize model\n",
        "net = LeNet5().to(device)\n",
        "\n",
        "# Optimizer Subclasses\n",
        "class LARS(optim.Optimizer):\n",
        "    def __init__(self, params, lr, momentum=0.9, weight_decay=0, trust_coefficient=0.001):\n",
        "        # Initialize the optimizer with the learning rate, momentum, weight decay, and trust coefficient\n",
        "        defaults = dict(lr=lr, momentum=momentum, weight_decay=weight_decay, trust_coefficient=trust_coefficient)\n",
        "        super(LARS, self).__init__(params, defaults)\n",
        "\n",
        "    def step(self, closure=None):\n",
        "        loss = None\n",
        "        if closure is not None:\n",
        "            # If a closure is provided, evaluate it (commonly used for re-evaluating loss)\n",
        "            loss = closure()\n",
        "        for group in self.param_groups:\n",
        "            for p in group['params']:\n",
        "                if p.grad is None:\n",
        "                   # Skip parameters that have no gradient\n",
        "                    continue\n",
        "                grad = p.grad.data # Get the gradient of the parameter\n",
        "                # Retrieve or initialize the optimizer's internal state\n",
        "                state = self.state[p]\n",
        "                if len(state) == 0:\n",
        "                    state['momentum_buffer'] = torch.clone(grad).detach()\n",
        "                # Apply weight decay directly to the gradient\n",
        "                if group['weight_decay'] != 0:\n",
        "                    grad.add_(p.data, alpha=group['weight_decay'])\n",
        "                # Compute the norms of the parameter and its gradient\n",
        "                param_norm = torch.norm(p.data)\n",
        "                grad_norm = torch.norm(grad)\n",
        "                # Compute local learning rate based on the trust coefficient and norms\n",
        "                if param_norm > 0 and grad_norm > 0:\n",
        "                    local_lr = group['trust_coefficient'] * param_norm / (grad_norm + 1e-8)\n",
        "                    grad = grad.mul(local_lr) # Scale the gradient with the local learning rate\n",
        "                # Update the momentum buffer\n",
        "                momentum_buffer = state['momentum_buffer']\n",
        "                momentum_buffer.mul_(group['momentum']).add_(grad) #Momentum update\n",
        "                state['momentum_buffer'] = momentum_buffer\n",
        "                # Update the parameter\n",
        "                p.data.add_(momentum_buffer, alpha=-group['lr']) # Gradient descent step with learning rate\n",
        "        return loss\n",
        "\n",
        "class LAMB(optim.Optimizer):\n",
        "    def __init__(self, params, lr, weight_decay=0, betas=(0.9, 0.999), eps=1e-8):\n",
        "        # Initialize the optimizer with learning rate, weight decay, betas for moment updates, and epsilon for stability\n",
        "        defaults = dict(lr=lr, weight_decay=weight_decay, betas=betas, eps=eps)\n",
        "        super(LAMB, self).__init__(params, defaults)\n",
        "\n",
        "    def step(self, closure=None):\n",
        "        loss = None\n",
        "        if closure is not None:\n",
        "            # If a closure is provided, evaluate it\n",
        "            loss = closure()\n",
        "        for group in self.param_groups:\n",
        "            for p in group['params']:\n",
        "                if p.grad is None:\n",
        "                    # Skip parameters that have no gradient\n",
        "                    continue\n",
        "                grad = p.grad.data # Get the gradient of the parameter\n",
        "                # Retrieve or initialize the optimizer's internal state\n",
        "                state = self.state[p]\n",
        "                # Initialize state\n",
        "                if len(state) == 0:\n",
        "                    # Initialize the state (step counter, first moment, second moment)\n",
        "                    state['step'] = 0\n",
        "                    state['exp_avg'] = torch.zeros_like(p.data) # First moment (mean of gradients)\n",
        "                    state['exp_avg_sq'] = torch.zeros_like(p.data) # Second moment (mean of squared gradients)\n",
        "                exp_avg = state['exp_avg']\n",
        "                exp_avg_sq = state['exp_avg_sq']\n",
        "                beta1, beta2 = group['betas']  # Coefficients for moment updates\n",
        "                state['step'] += 1 # Increment step count\n",
        "                step = state['step']\n",
        "                # Decay the first and second moment running average coefficients\n",
        "                # Update first and second moments\n",
        "                exp_avg.mul_(beta1).add_(grad, alpha=1 - beta1) # Exponential moving average of gradients\n",
        "                exp_avg_sq.mul_(beta2).addcmul_(grad, grad, value=1 - beta2) # Exponential moving average of squared gradients\n",
        "                # Correct bias in the first and second moments\n",
        "                bias_correction1 = 1 - beta1 ** step\n",
        "                bias_correction2 = 1 - beta2 ** step\n",
        "                corrected_exp_avg = exp_avg / bias_correction1\n",
        "                corrected_exp_avg_sq = exp_avg_sq / bias_correction2\n",
        "                # Compute the denominator for scaling the update\n",
        "                denom = corrected_exp_avg_sq.sqrt().add_(group['eps']) # Stability epsilon\n",
        "                # Compute the step update\n",
        "                update = corrected_exp_avg / denom\n",
        "                # Apply weight decay directly to the parameters\n",
        "                if group['weight_decay'] != 0:\n",
        "                    update.add_(p.data, alpha=group['weight_decay'])\n",
        "                # Compute the trust ratio (norm of parameters vs norm of update)\n",
        "                param_norm = torch.norm(p.data)\n",
        "                update_norm = torch.norm(update)\n",
        "                trust_ratio = 1.0  # Default trust ratio\n",
        "                if param_norm > 0 and update_norm > 0:\n",
        "                    trust_ratio = param_norm / update_norm\n",
        "                # Update the parameters\n",
        "                p.data.add_(update, alpha=-group['lr'] * trust_ratio)\n",
        "        return loss\n",
        "\n",
        "\n",
        "# Command-line arguments\n",
        "parser = argparse.ArgumentParser(description='Train with Large-Batch Optimizers')\n",
        "parser.add_argument('--optimizer', type=str, default='SGDM', choices=['SGDM', 'AdamW', 'LARS', 'LAMB'],\n",
        "                    help='Choose optimizer')\n",
        "parser.add_argument('--batch-size', type=int, default=128, help='Batch size')\n",
        "parser.add_argument('--momentum', type=float, default=0.9, help='Momentum for SGDM and LARS')\n",
        "parser.add_argument('--weight-decay', type=float, default=1e-5, help='Weight decay')\n",
        "parser.add_argument('--b1', type=float, default=0.9, help='Beta1 for AdamW')\n",
        "parser.add_argument('--b2', type=float, default=0.999, help='Beta2 for AdamW')\n",
        "parser.add_argument('--trust-coefficient', type=float, default=0.001, help='Trust coefficient for LARS')\n",
        "parser.add_argument('--epochs', type=int, default=150, help='Number of epochs')\n",
        "parser.add_argument('--warmup-epochs', type=int, default=5, help='Number of epochs')\n",
        "args = parser.parse_args()\n",
        "\n",
        "\n",
        "torch.manual_seed(42) # Set the seed for reproducibility\n",
        "torch.cuda.manual_seed_all(42) # Set the seed for reproducibility on GPU\n",
        "\n",
        "# use the same mean and std to add consistency to all datasets\n",
        "data = torchvision.datasets.CIFAR100(root='./data', train=True, download=True, transform=transforms.ToTensor())\n",
        "mean, std = compute_mean_std(data)\n",
        "\n",
        "# Load and split CIFAR-100 dataset\n",
        "train_transform = transforms.Compose([\n",
        "  transforms.RandomCrop(32, padding=4),\n",
        "  transforms.RandomHorizontalFlip(),\n",
        "  transforms.ToTensor(),\n",
        "  transforms.Normalize(mean, std)\n",
        "])\n",
        "\n",
        "test_transform = transforms.Compose([\n",
        "    transforms.ToTensor(),  # Convert to PyTorch tensor\n",
        "    transforms.Normalize(mean, std)\n",
        "])\n",
        "\n",
        "trainset = torchvision.datasets.CIFAR100(root='./data', train=True, download=True, transform=train_transform)\n",
        "trainloader = torch.utils.data.DataLoader(trainset, batch_size=args.batch_size, shuffle=True, num_workers=2)\n",
        "\n",
        "testset = torchvision.datasets.CIFAR100(root='./data', train=False, download=True, transform=test_transform)\n",
        "testloader = torch.utils.data.DataLoader(testset, batch_size=args.batch_size, shuffle=False, num_workers=2)\n",
        "\n",
        "\n",
        "# Fixed parameter from paper [18] to calculate the square root LR scaling value\n",
        "# base_lr = 5 / (2**3 * 10**3)\n",
        "# reference_batch_size = 512\n",
        "#scaled_lr = base_lr * (args.batch_size / reference_batch_size) ** 0.5\n",
        "\n",
        "# Mapping optimizers\n",
        "if args.optimizer == 'SGDM':\n",
        "    base_lr = 1e-3\n",
        "    reference_batch_size = 64\n",
        "    scaled_lr = base_lr * (args.batch_size / reference_batch_size) ** 0.5\n",
        "    optimizer = optim.SGD(net.parameters(), lr=scaled_lr, momentum=args.momentum, weight_decay=args.weight_decay)\n",
        "elif args.optimizer == 'AdamW':\n",
        "    base_lr = 5e-4\n",
        "    reference_batch_size = 64\n",
        "    scaled_lr = base_lr * (args.batch_size / reference_batch_size) ** 0.5\n",
        "    optimizer = optim.AdamW(net.parameters(), lr=scaled_lr, betas=(args.b1, args.b2), weight_decay=args.weight_decay)\n",
        "elif args.optimizer == 'LARS':\n",
        "    base_lr = 1e-2\n",
        "    reference_batch_size = 64\n",
        "    scaled_lr = base_lr * (args.batch_size / reference_batch_size) ** 0.5\n",
        "    optimizer = LARS(net.parameters(), lr=scaled_lr, momentum=args.momentum, weight_decay=args.weight_decay, trust_coefficient=args.trust_coefficient)\n",
        "elif args.optimizer == 'LAMB':\n",
        "    base_lr = 5e-4\n",
        "    reference_batch_size = 64\n",
        "    scaled_lr = base_lr * (args.batch_size / reference_batch_size) ** 0.5\n",
        "    optimizer = LAMB(net.parameters(), lr=scaled_lr, weight_decay=args.weight_decay)\n",
        "\n",
        "criterion = nn.CrossEntropyLoss()\n",
        "\n",
        "# Scheduler initialization\n",
        "scheduler = optim.lr_scheduler.CosineAnnealingLR(optimizer=optimizer, T_max=args.epochs - args.warmup_epochs)\n",
        "\n",
        "# Training Function\n",
        "def train_model(optimizer, scheduler, model, criterion, trainloader , testloader, device, epochs, save_checkpoint_interval=10):\n",
        "    train_losses, test_losses = [], []\n",
        "    train_accuracies, test_accuracies = [], []\n",
        "    for epoch in range(epochs):\n",
        "        model.train()\n",
        "        running_loss, correct_train, total_train = 0.0, 0, 0\n",
        "        for inputs, labels in trainloader:\n",
        "            inputs, labels = inputs.to(device), labels.to(device)\n",
        "            optimizer.zero_grad()\n",
        "            outputs = model(inputs)\n",
        "            loss = criterion(outputs, labels)\n",
        "            loss.backward()\n",
        "            optimizer.step()\n",
        "            running_loss += loss.item()\n",
        "            _, predicted = outputs.max(1)\n",
        "            total_train += labels.size(0)\n",
        "            correct_train += predicted.eq(labels).sum().item()\n",
        "        train_loss = running_loss / len(trainloader)\n",
        "        train_accuracy = 100. * correct_train / total_train\n",
        "        train_losses.append(train_loss)\n",
        "        train_accuracies.append(train_accuracy)\n",
        "\n",
        "        '''\n",
        "        # Early Stopping\n",
        "        if val_loss < best_val_loss:\n",
        "          best_val_loss = val_loss\n",
        "          epochs_no_improve = 0\n",
        "        else:\n",
        "          epochs_no_improve += 1\n",
        "\n",
        "        if epochs_no_improve == patience:\n",
        "          print(\"Early stopping!\")\n",
        "          break\n",
        "        '''\n",
        "\n",
        "        # Test\n",
        "        correct_test, total_test, test_loss = 0, 0, 0.0\n",
        "        with torch.no_grad():\n",
        "            for inputs, labels in testloader:\n",
        "                inputs, labels = inputs.to(device), labels.to(device)\n",
        "                outputs = model(inputs)\n",
        "                loss = criterion(outputs, labels)\n",
        "                test_loss += loss.item()\n",
        "                _, predicted = outputs.max(1)\n",
        "                total_test += labels.size(0)\n",
        "                correct_test += predicted.eq(labels).sum().item()\n",
        "        test_loss /= len(testloader)\n",
        "        test_losses.append(test_loss)\n",
        "        test_accuracy = 100. * correct_test / total_test\n",
        "        test_accuracies.append(test_accuracy)\n",
        "\n",
        "        if epoch >= args.warmup_epochs:\n",
        "            scheduler.step()  # Trigger cosine decay\n",
        "        else:\n",
        "            warmup_factor = (epoch + 1) / args.warmup_epochs\n",
        "            lr = warmup_factor * scaled_lr\n",
        "            for param_group in optimizer.param_groups:\n",
        "                param_group['lr'] = lr\n",
        "\n",
        "        # Checkpointing\n",
        "        if (epoch + 1) % save_checkpoint_interval == 0:\n",
        "            checkpoint_filename = f'checkpoint_epoch_{epoch + 1}.pth'\n",
        "            checkpoint = {\n",
        "                'epoch': epoch + 1,\n",
        "                'model_state_dict': model.state_dict(),\n",
        "                'optimizer_state_dict': optimizer.state_dict(),\n",
        "                'scheduler_state_dict': scheduler.state_dict(),\n",
        "                'loss': loss.item(),\n",
        "            }\n",
        "            checkpoint_path = os.path.join('./', checkpoint_filename)\n",
        "            torch.save(checkpoint, checkpoint_path)\n",
        "            print(f'Checkpoint saved at epoch {epoch + 1}: {checkpoint_path}')\n",
        "\n",
        "            # Download the checkpoint\n",
        "            files.download(checkpoint_filename)\n",
        "\n",
        "        print(f'Epoch {epoch+1}/{epochs}, Train Acc: {train_accuracy:.2f}%, Test Acc: {test_accuracy:.2f}%')\n",
        "        print(f'Epoch {epoch+1}/{epochs}, Train Loss: {train_loss:.4f}, Test Loss: {test_loss:.4f}')\n",
        "\n",
        "    return train_losses, test_losses, train_accuracies, test_accuracies\n",
        "\n",
        "# Train the model\n",
        "print(f\"--- Train with {args.optimizer} ---\")\n",
        "train_loss, test_loss, train_acc, test_acc = train_model(optimizer, scheduler, net, criterion, trainloader, testloader, device, args.epochs)\n",
        "\n",
        "# Save model\n",
        "torch.save(net.state_dict(), f'net_{args.optimizer}.pth')\n",
        "\n",
        "# Plot results\n",
        "# Plot Training Loss\n",
        "plt.figure(figsize=(6, 4))\n",
        "plt.plot(train_loss, label='Train Loss')\n",
        "plt.title('Training Loss')\n",
        "plt.xlabel('Epoch')\n",
        "plt.ylabel('Loss')\n",
        "plt.legend()\n",
        "plt.tight_layout()\n",
        "plt.savefig('train_loss.png')\n",
        "plt.show()\n",
        "\n",
        "# Plot Training Accuracy\n",
        "plt.figure(figsize=(6, 4))\n",
        "plt.plot(train_acc, label='Train Accuracy')\n",
        "plt.title('Training Accuracy')\n",
        "plt.xlabel('Epoch')\n",
        "plt.ylabel('Accuracy (%)')\n",
        "plt.legend()\n",
        "plt.tight_layout()\n",
        "plt.savefig('train_accuracy.png')\n",
        "plt.show()\n",
        "\n",
        "# Plot Test Loss\n",
        "plt.figure(figsize=(6, 4))\n",
        "plt.plot(test_loss, label='Test Loss')\n",
        "plt.title('Test Loss')\n",
        "plt.xlabel('Epoch')\n",
        "plt.ylabel('Loss')\n",
        "plt.legend()\n",
        "plt.tight_layout()\n",
        "plt.savefig('test_loss.png')\n",
        "plt.show()\n",
        "\n",
        "# Plot Test Accuracy\n",
        "plt.figure(figsize=(6, 4))\n",
        "plt.plot(test_acc, label='Test Accuracy')\n",
        "plt.title('Test Accuracy')\n",
        "plt.xlabel('Epoch')\n",
        "plt.ylabel('Accuracy (%)')\n",
        "plt.legend()\n",
        "plt.tight_layout()\n",
        "plt.savefig('test_accuracy.png')\n",
        "plt.show()"
      ]
    },
    {
      "cell_type": "code",
      "source": [
        "%run large_batch_training.py --optimizer SGDM --batch-size 8192 --weight-decay 4e-4"
      ],
      "metadata": {
        "colab": {
          "base_uri": "https://localhost:8080/",
          "height": 1000
        },
        "id": "WQMa40BkVRyA",
        "outputId": "140eb594-84fa-4794-c9ce-86fb4f092500"
      },
      "execution_count": null,
      "outputs": [
        {
          "output_type": "stream",
          "name": "stdout",
          "text": [
            "Downloading https://www.cs.toronto.edu/~kriz/cifar-100-python.tar.gz to ./data/cifar-100-python.tar.gz\n"
          ]
        },
        {
          "output_type": "stream",
          "name": "stderr",
          "text": [
            "100%|██████████| 169M/169M [00:13<00:00, 12.6MB/s]\n"
          ]
        },
        {
          "output_type": "stream",
          "name": "stdout",
          "text": [
            "Extracting ./data/cifar-100-python.tar.gz to ./data\n",
            "Files already downloaded and verified\n",
            "Files already downloaded and verified\n",
            "--- Train with SGDM ---\n",
            "Epoch 1/150, Train Acc: 1.15%, Test Acc: 1.17%\n",
            "Epoch 1/150, Train Loss: 4.6058, Test Loss: 4.6053\n",
            "Epoch 2/150, Train Acc: 1.14%, Test Acc: 1.18%\n",
            "Epoch 2/150, Train Loss: 4.6053, Test Loss: 4.6051\n",
            "Epoch 3/150, Train Acc: 1.17%, Test Acc: 1.19%\n",
            "Epoch 3/150, Train Loss: 4.6050, Test Loss: 4.6047\n",
            "Epoch 4/150, Train Acc: 1.23%, Test Acc: 1.25%\n",
            "Epoch 4/150, Train Loss: 4.6046, Test Loss: 4.6040\n",
            "Epoch 5/150, Train Acc: 1.26%, Test Acc: 1.32%\n",
            "Epoch 5/150, Train Loss: 4.6041, Test Loss: 4.6030\n",
            "Epoch 6/150, Train Acc: 1.28%, Test Acc: 1.36%\n",
            "Epoch 6/150, Train Loss: 4.6025, Test Loss: 4.6016\n",
            "Epoch 7/150, Train Acc: 1.31%, Test Acc: 1.36%\n",
            "Epoch 7/150, Train Loss: 4.6012, Test Loss: 4.6000\n",
            "Epoch 8/150, Train Acc: 1.35%, Test Acc: 1.29%\n",
            "Epoch 8/150, Train Loss: 4.5998, Test Loss: 4.5980\n",
            "Epoch 9/150, Train Acc: 1.32%, Test Acc: 1.31%\n",
            "Epoch 9/150, Train Loss: 4.5978, Test Loss: 4.5955\n",
            "Checkpoint saved at epoch 10: ./checkpoint_epoch_10.pth\n"
          ]
        },
        {
          "output_type": "display_data",
          "data": {
            "text/plain": [
              "<IPython.core.display.Javascript object>"
            ],
            "application/javascript": [
              "\n",
              "    async function download(id, filename, size) {\n",
              "      if (!google.colab.kernel.accessAllowed) {\n",
              "        return;\n",
              "      }\n",
              "      const div = document.createElement('div');\n",
              "      const label = document.createElement('label');\n",
              "      label.textContent = `Downloading \"${filename}\": `;\n",
              "      div.appendChild(label);\n",
              "      const progress = document.createElement('progress');\n",
              "      progress.max = size;\n",
              "      div.appendChild(progress);\n",
              "      document.body.appendChild(div);\n",
              "\n",
              "      const buffers = [];\n",
              "      let downloaded = 0;\n",
              "\n",
              "      const channel = await google.colab.kernel.comms.open(id);\n",
              "      // Send a message to notify the kernel that we're ready.\n",
              "      channel.send({})\n",
              "\n",
              "      for await (const message of channel.messages) {\n",
              "        // Send a message to notify the kernel that we're ready.\n",
              "        channel.send({})\n",
              "        if (message.buffers) {\n",
              "          for (const buffer of message.buffers) {\n",
              "            buffers.push(buffer);\n",
              "            downloaded += buffer.byteLength;\n",
              "            progress.value = downloaded;\n",
              "          }\n",
              "        }\n",
              "      }\n",
              "      const blob = new Blob(buffers, {type: 'application/binary'});\n",
              "      const a = document.createElement('a');\n",
              "      a.href = window.URL.createObjectURL(blob);\n",
              "      a.download = filename;\n",
              "      div.appendChild(a);\n",
              "      a.click();\n",
              "      div.remove();\n",
              "    }\n",
              "  "
            ]
          },
          "metadata": {}
        },
        {
          "output_type": "display_data",
          "data": {
            "text/plain": [
              "<IPython.core.display.Javascript object>"
            ],
            "application/javascript": [
              "download(\"download_af01a769-d385-4edf-9a8d-fea4f07c1e0c\", \"checkpoint_epoch_10.pth\", 6530106)"
            ]
          },
          "metadata": {}
        },
        {
          "output_type": "stream",
          "name": "stdout",
          "text": [
            "Epoch 10/150, Train Acc: 1.33%, Test Acc: 1.34%\n",
            "Epoch 10/150, Train Loss: 4.5949, Test Loss: 4.5922\n",
            "Epoch 11/150, Train Acc: 1.38%, Test Acc: 1.41%\n",
            "Epoch 11/150, Train Loss: 4.5920, Test Loss: 4.5880\n",
            "Epoch 12/150, Train Acc: 1.39%, Test Acc: 1.39%\n",
            "Epoch 12/150, Train Loss: 4.5875, Test Loss: 4.5823\n",
            "Epoch 13/150, Train Acc: 1.49%, Test Acc: 1.45%\n",
            "Epoch 13/150, Train Loss: 4.5802, Test Loss: 4.5745\n",
            "Epoch 14/150, Train Acc: 1.56%, Test Acc: 1.49%\n",
            "Epoch 14/150, Train Loss: 4.5713, Test Loss: 4.5635\n",
            "Epoch 15/150, Train Acc: 1.69%, Test Acc: 1.62%\n",
            "Epoch 15/150, Train Loss: 4.5599, Test Loss: 4.5483\n",
            "Epoch 16/150, Train Acc: 1.81%, Test Acc: 1.78%\n",
            "Epoch 16/150, Train Loss: 4.5418, Test Loss: 4.5269\n",
            "Epoch 17/150, Train Acc: 1.92%, Test Acc: 2.13%\n",
            "Epoch 17/150, Train Loss: 4.5187, Test Loss: 4.4979\n",
            "Epoch 18/150, Train Acc: 2.47%, Test Acc: 2.87%\n",
            "Epoch 18/150, Train Loss: 4.4900, Test Loss: 4.4598\n",
            "Epoch 19/150, Train Acc: 3.23%, Test Acc: 3.44%\n",
            "Epoch 19/150, Train Loss: 4.4502, Test Loss: 4.4143\n",
            "Checkpoint saved at epoch 20: ./checkpoint_epoch_20.pth\n"
          ]
        },
        {
          "output_type": "display_data",
          "data": {
            "text/plain": [
              "<IPython.core.display.Javascript object>"
            ],
            "application/javascript": [
              "\n",
              "    async function download(id, filename, size) {\n",
              "      if (!google.colab.kernel.accessAllowed) {\n",
              "        return;\n",
              "      }\n",
              "      const div = document.createElement('div');\n",
              "      const label = document.createElement('label');\n",
              "      label.textContent = `Downloading \"${filename}\": `;\n",
              "      div.appendChild(label);\n",
              "      const progress = document.createElement('progress');\n",
              "      progress.max = size;\n",
              "      div.appendChild(progress);\n",
              "      document.body.appendChild(div);\n",
              "\n",
              "      const buffers = [];\n",
              "      let downloaded = 0;\n",
              "\n",
              "      const channel = await google.colab.kernel.comms.open(id);\n",
              "      // Send a message to notify the kernel that we're ready.\n",
              "      channel.send({})\n",
              "\n",
              "      for await (const message of channel.messages) {\n",
              "        // Send a message to notify the kernel that we're ready.\n",
              "        channel.send({})\n",
              "        if (message.buffers) {\n",
              "          for (const buffer of message.buffers) {\n",
              "            buffers.push(buffer);\n",
              "            downloaded += buffer.byteLength;\n",
              "            progress.value = downloaded;\n",
              "          }\n",
              "        }\n",
              "      }\n",
              "      const blob = new Blob(buffers, {type: 'application/binary'});\n",
              "      const a = document.createElement('a');\n",
              "      a.href = window.URL.createObjectURL(blob);\n",
              "      a.download = filename;\n",
              "      div.appendChild(a);\n",
              "      a.click();\n",
              "      div.remove();\n",
              "    }\n",
              "  "
            ]
          },
          "metadata": {}
        },
        {
          "output_type": "display_data",
          "data": {
            "text/plain": [
              "<IPython.core.display.Javascript object>"
            ],
            "application/javascript": [
              "download(\"download_28e9d4cb-71f4-4119-befd-543ddafe6ac5\", \"checkpoint_epoch_20.pth\", 6530106)"
            ]
          },
          "metadata": {}
        },
        {
          "output_type": "stream",
          "name": "stdout",
          "text": [
            "Epoch 20/150, Train Acc: 3.89%, Test Acc: 4.00%\n",
            "Epoch 20/150, Train Loss: 4.4055, Test Loss: 4.3662\n",
            "Epoch 21/150, Train Acc: 4.20%, Test Acc: 4.37%\n",
            "Epoch 21/150, Train Loss: 4.3581, Test Loss: 4.3160\n",
            "Epoch 22/150, Train Acc: 4.87%, Test Acc: 5.36%\n",
            "Epoch 22/150, Train Loss: 4.3054, Test Loss: 4.2619\n",
            "Epoch 23/150, Train Acc: 5.57%, Test Acc: 6.50%\n",
            "Epoch 23/150, Train Loss: 4.2554, Test Loss: 4.2103\n",
            "Epoch 24/150, Train Acc: 6.53%, Test Acc: 6.75%\n",
            "Epoch 24/150, Train Loss: 4.2121, Test Loss: 4.1624\n",
            "Epoch 25/150, Train Acc: 6.81%, Test Acc: 7.31%\n",
            "Epoch 25/150, Train Loss: 4.1615, Test Loss: 4.1262\n",
            "Epoch 26/150, Train Acc: 7.22%, Test Acc: 7.85%\n",
            "Epoch 26/150, Train Loss: 4.1359, Test Loss: 4.0927\n",
            "Epoch 27/150, Train Acc: 7.40%, Test Acc: 8.24%\n",
            "Epoch 27/150, Train Loss: 4.1008, Test Loss: 4.0725\n",
            "Epoch 28/150, Train Acc: 7.86%, Test Acc: 8.42%\n",
            "Epoch 28/150, Train Loss: 4.0917, Test Loss: 4.0482\n",
            "Epoch 29/150, Train Acc: 8.09%, Test Acc: 9.01%\n",
            "Epoch 29/150, Train Loss: 4.0618, Test Loss: 4.0245\n",
            "Checkpoint saved at epoch 30: ./checkpoint_epoch_30.pth\n"
          ]
        },
        {
          "output_type": "display_data",
          "data": {
            "text/plain": [
              "<IPython.core.display.Javascript object>"
            ],
            "application/javascript": [
              "\n",
              "    async function download(id, filename, size) {\n",
              "      if (!google.colab.kernel.accessAllowed) {\n",
              "        return;\n",
              "      }\n",
              "      const div = document.createElement('div');\n",
              "      const label = document.createElement('label');\n",
              "      label.textContent = `Downloading \"${filename}\": `;\n",
              "      div.appendChild(label);\n",
              "      const progress = document.createElement('progress');\n",
              "      progress.max = size;\n",
              "      div.appendChild(progress);\n",
              "      document.body.appendChild(div);\n",
              "\n",
              "      const buffers = [];\n",
              "      let downloaded = 0;\n",
              "\n",
              "      const channel = await google.colab.kernel.comms.open(id);\n",
              "      // Send a message to notify the kernel that we're ready.\n",
              "      channel.send({})\n",
              "\n",
              "      for await (const message of channel.messages) {\n",
              "        // Send a message to notify the kernel that we're ready.\n",
              "        channel.send({})\n",
              "        if (message.buffers) {\n",
              "          for (const buffer of message.buffers) {\n",
              "            buffers.push(buffer);\n",
              "            downloaded += buffer.byteLength;\n",
              "            progress.value = downloaded;\n",
              "          }\n",
              "        }\n",
              "      }\n",
              "      const blob = new Blob(buffers, {type: 'application/binary'});\n",
              "      const a = document.createElement('a');\n",
              "      a.href = window.URL.createObjectURL(blob);\n",
              "      a.download = filename;\n",
              "      div.appendChild(a);\n",
              "      a.click();\n",
              "      div.remove();\n",
              "    }\n",
              "  "
            ]
          },
          "metadata": {}
        },
        {
          "output_type": "display_data",
          "data": {
            "text/plain": [
              "<IPython.core.display.Javascript object>"
            ],
            "application/javascript": [
              "download(\"download_3922f709-3aa8-408b-a6dc-45a27d7201a8\", \"checkpoint_epoch_30.pth\", 6530106)"
            ]
          },
          "metadata": {}
        },
        {
          "output_type": "stream",
          "name": "stdout",
          "text": [
            "Epoch 30/150, Train Acc: 8.33%, Test Acc: 8.83%\n",
            "Epoch 30/150, Train Loss: 4.0557, Test Loss: 4.0124\n",
            "Epoch 31/150, Train Acc: 8.69%, Test Acc: 9.31%\n",
            "Epoch 31/150, Train Loss: 4.0301, Test Loss: 3.9899\n",
            "Epoch 32/150, Train Acc: 9.10%, Test Acc: 9.63%\n",
            "Epoch 32/150, Train Loss: 4.0084, Test Loss: 3.9669\n",
            "Epoch 33/150, Train Acc: 9.14%, Test Acc: 10.08%\n",
            "Epoch 33/150, Train Loss: 3.9995, Test Loss: 3.9542\n",
            "Epoch 34/150, Train Acc: 9.55%, Test Acc: 10.16%\n",
            "Epoch 34/150, Train Loss: 3.9818, Test Loss: 3.9330\n",
            "Epoch 35/150, Train Acc: 9.72%, Test Acc: 10.47%\n",
            "Epoch 35/150, Train Loss: 3.9738, Test Loss: 3.9146\n",
            "Epoch 36/150, Train Acc: 10.06%, Test Acc: 10.62%\n",
            "Epoch 36/150, Train Loss: 3.9543, Test Loss: 3.9029\n",
            "Epoch 37/150, Train Acc: 10.22%, Test Acc: 10.92%\n",
            "Epoch 37/150, Train Loss: 3.9363, Test Loss: 3.8863\n",
            "Epoch 38/150, Train Acc: 10.55%, Test Acc: 11.23%\n",
            "Epoch 38/150, Train Loss: 3.9177, Test Loss: 3.8669\n",
            "Epoch 39/150, Train Acc: 10.91%, Test Acc: 11.49%\n",
            "Epoch 39/150, Train Loss: 3.8933, Test Loss: 3.8467\n",
            "Checkpoint saved at epoch 40: ./checkpoint_epoch_40.pth\n"
          ]
        },
        {
          "output_type": "display_data",
          "data": {
            "text/plain": [
              "<IPython.core.display.Javascript object>"
            ],
            "application/javascript": [
              "\n",
              "    async function download(id, filename, size) {\n",
              "      if (!google.colab.kernel.accessAllowed) {\n",
              "        return;\n",
              "      }\n",
              "      const div = document.createElement('div');\n",
              "      const label = document.createElement('label');\n",
              "      label.textContent = `Downloading \"${filename}\": `;\n",
              "      div.appendChild(label);\n",
              "      const progress = document.createElement('progress');\n",
              "      progress.max = size;\n",
              "      div.appendChild(progress);\n",
              "      document.body.appendChild(div);\n",
              "\n",
              "      const buffers = [];\n",
              "      let downloaded = 0;\n",
              "\n",
              "      const channel = await google.colab.kernel.comms.open(id);\n",
              "      // Send a message to notify the kernel that we're ready.\n",
              "      channel.send({})\n",
              "\n",
              "      for await (const message of channel.messages) {\n",
              "        // Send a message to notify the kernel that we're ready.\n",
              "        channel.send({})\n",
              "        if (message.buffers) {\n",
              "          for (const buffer of message.buffers) {\n",
              "            buffers.push(buffer);\n",
              "            downloaded += buffer.byteLength;\n",
              "            progress.value = downloaded;\n",
              "          }\n",
              "        }\n",
              "      }\n",
              "      const blob = new Blob(buffers, {type: 'application/binary'});\n",
              "      const a = document.createElement('a');\n",
              "      a.href = window.URL.createObjectURL(blob);\n",
              "      a.download = filename;\n",
              "      div.appendChild(a);\n",
              "      a.click();\n",
              "      div.remove();\n",
              "    }\n",
              "  "
            ]
          },
          "metadata": {}
        },
        {
          "output_type": "display_data",
          "data": {
            "text/plain": [
              "<IPython.core.display.Javascript object>"
            ],
            "application/javascript": [
              "download(\"download_2d83d662-38ed-4dcd-9661-ace7da398cc2\", \"checkpoint_epoch_40.pth\", 6530106)"
            ]
          },
          "metadata": {}
        },
        {
          "output_type": "stream",
          "name": "stdout",
          "text": [
            "Epoch 40/150, Train Acc: 11.15%, Test Acc: 11.95%\n",
            "Epoch 40/150, Train Loss: 3.8820, Test Loss: 3.8326\n",
            "Epoch 41/150, Train Acc: 11.59%, Test Acc: 12.16%\n",
            "Epoch 41/150, Train Loss: 3.8653, Test Loss: 3.8123\n",
            "Epoch 42/150, Train Acc: 11.79%, Test Acc: 12.55%\n",
            "Epoch 42/150, Train Loss: 3.8523, Test Loss: 3.7827\n",
            "Epoch 43/150, Train Acc: 12.18%, Test Acc: 13.09%\n",
            "Epoch 43/150, Train Loss: 3.8374, Test Loss: 3.7740\n",
            "Epoch 44/150, Train Acc: 12.35%, Test Acc: 13.30%\n",
            "Epoch 44/150, Train Loss: 3.8145, Test Loss: 3.7464\n",
            "Epoch 45/150, Train Acc: 12.51%, Test Acc: 13.58%\n",
            "Epoch 45/150, Train Loss: 3.8117, Test Loss: 3.7430\n",
            "Epoch 46/150, Train Acc: 12.80%, Test Acc: 13.76%\n",
            "Epoch 46/150, Train Loss: 3.8024, Test Loss: 3.7244\n",
            "Epoch 47/150, Train Acc: 13.07%, Test Acc: 14.06%\n",
            "Epoch 47/150, Train Loss: 3.7705, Test Loss: 3.7118\n",
            "Epoch 48/150, Train Acc: 13.17%, Test Acc: 13.82%\n",
            "Epoch 48/150, Train Loss: 3.7573, Test Loss: 3.7092\n",
            "Epoch 49/150, Train Acc: 13.52%, Test Acc: 14.56%\n",
            "Epoch 49/150, Train Loss: 3.7606, Test Loss: 3.6867\n",
            "Checkpoint saved at epoch 50: ./checkpoint_epoch_50.pth\n"
          ]
        },
        {
          "output_type": "display_data",
          "data": {
            "text/plain": [
              "<IPython.core.display.Javascript object>"
            ],
            "application/javascript": [
              "\n",
              "    async function download(id, filename, size) {\n",
              "      if (!google.colab.kernel.accessAllowed) {\n",
              "        return;\n",
              "      }\n",
              "      const div = document.createElement('div');\n",
              "      const label = document.createElement('label');\n",
              "      label.textContent = `Downloading \"${filename}\": `;\n",
              "      div.appendChild(label);\n",
              "      const progress = document.createElement('progress');\n",
              "      progress.max = size;\n",
              "      div.appendChild(progress);\n",
              "      document.body.appendChild(div);\n",
              "\n",
              "      const buffers = [];\n",
              "      let downloaded = 0;\n",
              "\n",
              "      const channel = await google.colab.kernel.comms.open(id);\n",
              "      // Send a message to notify the kernel that we're ready.\n",
              "      channel.send({})\n",
              "\n",
              "      for await (const message of channel.messages) {\n",
              "        // Send a message to notify the kernel that we're ready.\n",
              "        channel.send({})\n",
              "        if (message.buffers) {\n",
              "          for (const buffer of message.buffers) {\n",
              "            buffers.push(buffer);\n",
              "            downloaded += buffer.byteLength;\n",
              "            progress.value = downloaded;\n",
              "          }\n",
              "        }\n",
              "      }\n",
              "      const blob = new Blob(buffers, {type: 'application/binary'});\n",
              "      const a = document.createElement('a');\n",
              "      a.href = window.URL.createObjectURL(blob);\n",
              "      a.download = filename;\n",
              "      div.appendChild(a);\n",
              "      a.click();\n",
              "      div.remove();\n",
              "    }\n",
              "  "
            ]
          },
          "metadata": {}
        },
        {
          "output_type": "display_data",
          "data": {
            "text/plain": [
              "<IPython.core.display.Javascript object>"
            ],
            "application/javascript": [
              "download(\"download_077bd77c-3e8c-4c31-af8f-4edba42eada9\", \"checkpoint_epoch_50.pth\", 6530106)"
            ]
          },
          "metadata": {}
        },
        {
          "output_type": "stream",
          "name": "stdout",
          "text": [
            "Epoch 50/150, Train Acc: 13.40%, Test Acc: 14.83%\n",
            "Epoch 50/150, Train Loss: 3.7471, Test Loss: 3.6656\n",
            "Epoch 51/150, Train Acc: 13.82%, Test Acc: 14.64%\n",
            "Epoch 51/150, Train Loss: 3.7185, Test Loss: 3.6612\n",
            "Epoch 52/150, Train Acc: 13.46%, Test Acc: 15.12%\n",
            "Epoch 52/150, Train Loss: 3.7230, Test Loss: 3.6557\n",
            "Epoch 53/150, Train Acc: 13.88%, Test Acc: 15.17%\n",
            "Epoch 53/150, Train Loss: 3.7163, Test Loss: 3.6438\n",
            "Epoch 54/150, Train Acc: 14.25%, Test Acc: 15.80%\n",
            "Epoch 54/150, Train Loss: 3.7023, Test Loss: 3.6315\n",
            "Epoch 55/150, Train Acc: 14.37%, Test Acc: 15.12%\n",
            "Epoch 55/150, Train Loss: 3.6899, Test Loss: 3.6306\n",
            "Epoch 56/150, Train Acc: 14.56%, Test Acc: 15.70%\n",
            "Epoch 56/150, Train Loss: 3.6874, Test Loss: 3.6127\n",
            "Epoch 57/150, Train Acc: 14.76%, Test Acc: 16.17%\n",
            "Epoch 57/150, Train Loss: 3.6631, Test Loss: 3.5994\n",
            "Epoch 58/150, Train Acc: 14.98%, Test Acc: 16.02%\n",
            "Epoch 58/150, Train Loss: 3.6504, Test Loss: 3.5925\n",
            "Epoch 59/150, Train Acc: 14.90%, Test Acc: 16.09%\n",
            "Epoch 59/150, Train Loss: 3.6582, Test Loss: 3.5853\n",
            "Checkpoint saved at epoch 60: ./checkpoint_epoch_60.pth\n"
          ]
        },
        {
          "output_type": "display_data",
          "data": {
            "text/plain": [
              "<IPython.core.display.Javascript object>"
            ],
            "application/javascript": [
              "\n",
              "    async function download(id, filename, size) {\n",
              "      if (!google.colab.kernel.accessAllowed) {\n",
              "        return;\n",
              "      }\n",
              "      const div = document.createElement('div');\n",
              "      const label = document.createElement('label');\n",
              "      label.textContent = `Downloading \"${filename}\": `;\n",
              "      div.appendChild(label);\n",
              "      const progress = document.createElement('progress');\n",
              "      progress.max = size;\n",
              "      div.appendChild(progress);\n",
              "      document.body.appendChild(div);\n",
              "\n",
              "      const buffers = [];\n",
              "      let downloaded = 0;\n",
              "\n",
              "      const channel = await google.colab.kernel.comms.open(id);\n",
              "      // Send a message to notify the kernel that we're ready.\n",
              "      channel.send({})\n",
              "\n",
              "      for await (const message of channel.messages) {\n",
              "        // Send a message to notify the kernel that we're ready.\n",
              "        channel.send({})\n",
              "        if (message.buffers) {\n",
              "          for (const buffer of message.buffers) {\n",
              "            buffers.push(buffer);\n",
              "            downloaded += buffer.byteLength;\n",
              "            progress.value = downloaded;\n",
              "          }\n",
              "        }\n",
              "      }\n",
              "      const blob = new Blob(buffers, {type: 'application/binary'});\n",
              "      const a = document.createElement('a');\n",
              "      a.href = window.URL.createObjectURL(blob);\n",
              "      a.download = filename;\n",
              "      div.appendChild(a);\n",
              "      a.click();\n",
              "      div.remove();\n",
              "    }\n",
              "  "
            ]
          },
          "metadata": {}
        },
        {
          "output_type": "display_data",
          "data": {
            "text/plain": [
              "<IPython.core.display.Javascript object>"
            ],
            "application/javascript": [
              "download(\"download_bfd244c2-8e25-4b90-81fb-c3070f77cff9\", \"checkpoint_epoch_60.pth\", 6530106)"
            ]
          },
          "metadata": {}
        },
        {
          "output_type": "stream",
          "name": "stdout",
          "text": [
            "Epoch 60/150, Train Acc: 15.12%, Test Acc: 16.54%\n",
            "Epoch 60/150, Train Loss: 3.6385, Test Loss: 3.5763\n",
            "Epoch 61/150, Train Acc: 15.13%, Test Acc: 16.81%\n",
            "Epoch 61/150, Train Loss: 3.6466, Test Loss: 3.5646\n",
            "Epoch 62/150, Train Acc: 15.29%, Test Acc: 16.83%\n",
            "Epoch 62/150, Train Loss: 3.6277, Test Loss: 3.5543\n",
            "Epoch 63/150, Train Acc: 15.79%, Test Acc: 16.84%\n",
            "Epoch 63/150, Train Loss: 3.6119, Test Loss: 3.5455\n",
            "Epoch 64/150, Train Acc: 15.89%, Test Acc: 16.93%\n",
            "Epoch 64/150, Train Loss: 3.5974, Test Loss: 3.5422\n",
            "Epoch 65/150, Train Acc: 15.78%, Test Acc: 16.29%\n",
            "Epoch 65/150, Train Loss: 3.5974, Test Loss: 3.5511\n",
            "Epoch 66/150, Train Acc: 15.55%, Test Acc: 16.96%\n",
            "Epoch 66/150, Train Loss: 3.6026, Test Loss: 3.5373\n",
            "Epoch 67/150, Train Acc: 15.92%, Test Acc: 16.97%\n",
            "Epoch 67/150, Train Loss: 3.5908, Test Loss: 3.5351\n",
            "Epoch 68/150, Train Acc: 16.30%, Test Acc: 17.73%\n",
            "Epoch 68/150, Train Loss: 3.5878, Test Loss: 3.5165\n",
            "Epoch 69/150, Train Acc: 16.30%, Test Acc: 17.79%\n",
            "Epoch 69/150, Train Loss: 3.5802, Test Loss: 3.5030\n",
            "Checkpoint saved at epoch 70: ./checkpoint_epoch_70.pth\n"
          ]
        },
        {
          "output_type": "display_data",
          "data": {
            "text/plain": [
              "<IPython.core.display.Javascript object>"
            ],
            "application/javascript": [
              "\n",
              "    async function download(id, filename, size) {\n",
              "      if (!google.colab.kernel.accessAllowed) {\n",
              "        return;\n",
              "      }\n",
              "      const div = document.createElement('div');\n",
              "      const label = document.createElement('label');\n",
              "      label.textContent = `Downloading \"${filename}\": `;\n",
              "      div.appendChild(label);\n",
              "      const progress = document.createElement('progress');\n",
              "      progress.max = size;\n",
              "      div.appendChild(progress);\n",
              "      document.body.appendChild(div);\n",
              "\n",
              "      const buffers = [];\n",
              "      let downloaded = 0;\n",
              "\n",
              "      const channel = await google.colab.kernel.comms.open(id);\n",
              "      // Send a message to notify the kernel that we're ready.\n",
              "      channel.send({})\n",
              "\n",
              "      for await (const message of channel.messages) {\n",
              "        // Send a message to notify the kernel that we're ready.\n",
              "        channel.send({})\n",
              "        if (message.buffers) {\n",
              "          for (const buffer of message.buffers) {\n",
              "            buffers.push(buffer);\n",
              "            downloaded += buffer.byteLength;\n",
              "            progress.value = downloaded;\n",
              "          }\n",
              "        }\n",
              "      }\n",
              "      const blob = new Blob(buffers, {type: 'application/binary'});\n",
              "      const a = document.createElement('a');\n",
              "      a.href = window.URL.createObjectURL(blob);\n",
              "      a.download = filename;\n",
              "      div.appendChild(a);\n",
              "      a.click();\n",
              "      div.remove();\n",
              "    }\n",
              "  "
            ]
          },
          "metadata": {}
        },
        {
          "output_type": "display_data",
          "data": {
            "text/plain": [
              "<IPython.core.display.Javascript object>"
            ],
            "application/javascript": [
              "download(\"download_ddd25593-6248-4e89-b934-8216f7cf6ef6\", \"checkpoint_epoch_70.pth\", 6530106)"
            ]
          },
          "metadata": {}
        },
        {
          "output_type": "stream",
          "name": "stdout",
          "text": [
            "Epoch 70/150, Train Acc: 16.49%, Test Acc: 17.89%\n",
            "Epoch 70/150, Train Loss: 3.5573, Test Loss: 3.4951\n",
            "Epoch 71/150, Train Acc: 16.76%, Test Acc: 17.47%\n",
            "Epoch 71/150, Train Loss: 3.5598, Test Loss: 3.4947\n",
            "Epoch 72/150, Train Acc: 16.94%, Test Acc: 17.68%\n",
            "Epoch 72/150, Train Loss: 3.5516, Test Loss: 3.4850\n",
            "Epoch 73/150, Train Acc: 16.88%, Test Acc: 17.69%\n",
            "Epoch 73/150, Train Loss: 3.5511, Test Loss: 3.4851\n",
            "Epoch 74/150, Train Acc: 16.70%, Test Acc: 18.10%\n",
            "Epoch 74/150, Train Loss: 3.5374, Test Loss: 3.4722\n",
            "Epoch 75/150, Train Acc: 16.81%, Test Acc: 18.30%\n",
            "Epoch 75/150, Train Loss: 3.5314, Test Loss: 3.4681\n",
            "Epoch 76/150, Train Acc: 17.06%, Test Acc: 18.61%\n",
            "Epoch 76/150, Train Loss: 3.5312, Test Loss: 3.4533\n",
            "Epoch 77/150, Train Acc: 17.24%, Test Acc: 18.79%\n",
            "Epoch 77/150, Train Loss: 3.5158, Test Loss: 3.4457\n",
            "Epoch 78/150, Train Acc: 17.40%, Test Acc: 18.15%\n",
            "Epoch 78/150, Train Loss: 3.5154, Test Loss: 3.4524\n",
            "Epoch 79/150, Train Acc: 17.37%, Test Acc: 18.55%\n",
            "Epoch 79/150, Train Loss: 3.5144, Test Loss: 3.4416\n",
            "Checkpoint saved at epoch 80: ./checkpoint_epoch_80.pth\n"
          ]
        },
        {
          "output_type": "display_data",
          "data": {
            "text/plain": [
              "<IPython.core.display.Javascript object>"
            ],
            "application/javascript": [
              "\n",
              "    async function download(id, filename, size) {\n",
              "      if (!google.colab.kernel.accessAllowed) {\n",
              "        return;\n",
              "      }\n",
              "      const div = document.createElement('div');\n",
              "      const label = document.createElement('label');\n",
              "      label.textContent = `Downloading \"${filename}\": `;\n",
              "      div.appendChild(label);\n",
              "      const progress = document.createElement('progress');\n",
              "      progress.max = size;\n",
              "      div.appendChild(progress);\n",
              "      document.body.appendChild(div);\n",
              "\n",
              "      const buffers = [];\n",
              "      let downloaded = 0;\n",
              "\n",
              "      const channel = await google.colab.kernel.comms.open(id);\n",
              "      // Send a message to notify the kernel that we're ready.\n",
              "      channel.send({})\n",
              "\n",
              "      for await (const message of channel.messages) {\n",
              "        // Send a message to notify the kernel that we're ready.\n",
              "        channel.send({})\n",
              "        if (message.buffers) {\n",
              "          for (const buffer of message.buffers) {\n",
              "            buffers.push(buffer);\n",
              "            downloaded += buffer.byteLength;\n",
              "            progress.value = downloaded;\n",
              "          }\n",
              "        }\n",
              "      }\n",
              "      const blob = new Blob(buffers, {type: 'application/binary'});\n",
              "      const a = document.createElement('a');\n",
              "      a.href = window.URL.createObjectURL(blob);\n",
              "      a.download = filename;\n",
              "      div.appendChild(a);\n",
              "      a.click();\n",
              "      div.remove();\n",
              "    }\n",
              "  "
            ]
          },
          "metadata": {}
        },
        {
          "output_type": "display_data",
          "data": {
            "text/plain": [
              "<IPython.core.display.Javascript object>"
            ],
            "application/javascript": [
              "download(\"download_86c93c4c-a0a8-4e6b-81f9-a32ba0c7ecdd\", \"checkpoint_epoch_80.pth\", 6530106)"
            ]
          },
          "metadata": {}
        },
        {
          "output_type": "stream",
          "name": "stdout",
          "text": [
            "Epoch 80/150, Train Acc: 17.69%, Test Acc: 18.54%\n",
            "Epoch 80/150, Train Loss: 3.4941, Test Loss: 3.4334\n",
            "Epoch 81/150, Train Acc: 17.54%, Test Acc: 19.03%\n",
            "Epoch 81/150, Train Loss: 3.4950, Test Loss: 3.4293\n",
            "Epoch 82/150, Train Acc: 17.80%, Test Acc: 18.84%\n",
            "Epoch 82/150, Train Loss: 3.4828, Test Loss: 3.4185\n",
            "Epoch 83/150, Train Acc: 17.90%, Test Acc: 19.23%\n",
            "Epoch 83/150, Train Loss: 3.4750, Test Loss: 3.4110\n",
            "Epoch 84/150, Train Acc: 18.11%, Test Acc: 19.46%\n",
            "Epoch 84/150, Train Loss: 3.4752, Test Loss: 3.4057\n",
            "Epoch 85/150, Train Acc: 18.00%, Test Acc: 19.38%\n",
            "Epoch 85/150, Train Loss: 3.4618, Test Loss: 3.4040\n",
            "Epoch 86/150, Train Acc: 18.26%, Test Acc: 19.48%\n",
            "Epoch 86/150, Train Loss: 3.4578, Test Loss: 3.4007\n",
            "Epoch 87/150, Train Acc: 18.19%, Test Acc: 19.69%\n",
            "Epoch 87/150, Train Loss: 3.4545, Test Loss: 3.4026\n",
            "Epoch 88/150, Train Acc: 18.30%, Test Acc: 19.88%\n",
            "Epoch 88/150, Train Loss: 3.4518, Test Loss: 3.3940\n",
            "Epoch 89/150, Train Acc: 18.42%, Test Acc: 19.22%\n",
            "Epoch 89/150, Train Loss: 3.4536, Test Loss: 3.4124\n",
            "Checkpoint saved at epoch 90: ./checkpoint_epoch_90.pth\n"
          ]
        },
        {
          "output_type": "display_data",
          "data": {
            "text/plain": [
              "<IPython.core.display.Javascript object>"
            ],
            "application/javascript": [
              "\n",
              "    async function download(id, filename, size) {\n",
              "      if (!google.colab.kernel.accessAllowed) {\n",
              "        return;\n",
              "      }\n",
              "      const div = document.createElement('div');\n",
              "      const label = document.createElement('label');\n",
              "      label.textContent = `Downloading \"${filename}\": `;\n",
              "      div.appendChild(label);\n",
              "      const progress = document.createElement('progress');\n",
              "      progress.max = size;\n",
              "      div.appendChild(progress);\n",
              "      document.body.appendChild(div);\n",
              "\n",
              "      const buffers = [];\n",
              "      let downloaded = 0;\n",
              "\n",
              "      const channel = await google.colab.kernel.comms.open(id);\n",
              "      // Send a message to notify the kernel that we're ready.\n",
              "      channel.send({})\n",
              "\n",
              "      for await (const message of channel.messages) {\n",
              "        // Send a message to notify the kernel that we're ready.\n",
              "        channel.send({})\n",
              "        if (message.buffers) {\n",
              "          for (const buffer of message.buffers) {\n",
              "            buffers.push(buffer);\n",
              "            downloaded += buffer.byteLength;\n",
              "            progress.value = downloaded;\n",
              "          }\n",
              "        }\n",
              "      }\n",
              "      const blob = new Blob(buffers, {type: 'application/binary'});\n",
              "      const a = document.createElement('a');\n",
              "      a.href = window.URL.createObjectURL(blob);\n",
              "      a.download = filename;\n",
              "      div.appendChild(a);\n",
              "      a.click();\n",
              "      div.remove();\n",
              "    }\n",
              "  "
            ]
          },
          "metadata": {}
        },
        {
          "output_type": "display_data",
          "data": {
            "text/plain": [
              "<IPython.core.display.Javascript object>"
            ],
            "application/javascript": [
              "download(\"download_640df97e-2371-4b00-af09-5ce8b8e8c36d\", \"checkpoint_epoch_90.pth\", 6530106)"
            ]
          },
          "metadata": {}
        },
        {
          "output_type": "stream",
          "name": "stdout",
          "text": [
            "Epoch 90/150, Train Acc: 18.51%, Test Acc: 19.48%\n",
            "Epoch 90/150, Train Loss: 3.4523, Test Loss: 3.3877\n",
            "Epoch 91/150, Train Acc: 18.65%, Test Acc: 20.01%\n",
            "Epoch 91/150, Train Loss: 3.4342, Test Loss: 3.3774\n",
            "Epoch 92/150, Train Acc: 18.81%, Test Acc: 19.85%\n",
            "Epoch 92/150, Train Loss: 3.4217, Test Loss: 3.3893\n",
            "Epoch 93/150, Train Acc: 18.90%, Test Acc: 19.88%\n",
            "Epoch 93/150, Train Loss: 3.4227, Test Loss: 3.3807\n",
            "Epoch 94/150, Train Acc: 18.75%, Test Acc: 20.42%\n",
            "Epoch 94/150, Train Loss: 3.4212, Test Loss: 3.3626\n",
            "Epoch 95/150, Train Acc: 19.09%, Test Acc: 20.45%\n",
            "Epoch 95/150, Train Loss: 3.4186, Test Loss: 3.3523\n",
            "Epoch 96/150, Train Acc: 19.03%, Test Acc: 20.51%\n",
            "Epoch 96/150, Train Loss: 3.4151, Test Loss: 3.3576\n",
            "Epoch 97/150, Train Acc: 18.99%, Test Acc: 20.18%\n",
            "Epoch 97/150, Train Loss: 3.4138, Test Loss: 3.3533\n",
            "Epoch 98/150, Train Acc: 19.24%, Test Acc: 20.77%\n",
            "Epoch 98/150, Train Loss: 3.4025, Test Loss: 3.3517\n",
            "Epoch 99/150, Train Acc: 19.31%, Test Acc: 20.45%\n",
            "Epoch 99/150, Train Loss: 3.4135, Test Loss: 3.3565\n",
            "Checkpoint saved at epoch 100: ./checkpoint_epoch_100.pth\n"
          ]
        },
        {
          "output_type": "display_data",
          "data": {
            "text/plain": [
              "<IPython.core.display.Javascript object>"
            ],
            "application/javascript": [
              "\n",
              "    async function download(id, filename, size) {\n",
              "      if (!google.colab.kernel.accessAllowed) {\n",
              "        return;\n",
              "      }\n",
              "      const div = document.createElement('div');\n",
              "      const label = document.createElement('label');\n",
              "      label.textContent = `Downloading \"${filename}\": `;\n",
              "      div.appendChild(label);\n",
              "      const progress = document.createElement('progress');\n",
              "      progress.max = size;\n",
              "      div.appendChild(progress);\n",
              "      document.body.appendChild(div);\n",
              "\n",
              "      const buffers = [];\n",
              "      let downloaded = 0;\n",
              "\n",
              "      const channel = await google.colab.kernel.comms.open(id);\n",
              "      // Send a message to notify the kernel that we're ready.\n",
              "      channel.send({})\n",
              "\n",
              "      for await (const message of channel.messages) {\n",
              "        // Send a message to notify the kernel that we're ready.\n",
              "        channel.send({})\n",
              "        if (message.buffers) {\n",
              "          for (const buffer of message.buffers) {\n",
              "            buffers.push(buffer);\n",
              "            downloaded += buffer.byteLength;\n",
              "            progress.value = downloaded;\n",
              "          }\n",
              "        }\n",
              "      }\n",
              "      const blob = new Blob(buffers, {type: 'application/binary'});\n",
              "      const a = document.createElement('a');\n",
              "      a.href = window.URL.createObjectURL(blob);\n",
              "      a.download = filename;\n",
              "      div.appendChild(a);\n",
              "      a.click();\n",
              "      div.remove();\n",
              "    }\n",
              "  "
            ]
          },
          "metadata": {}
        },
        {
          "output_type": "display_data",
          "data": {
            "text/plain": [
              "<IPython.core.display.Javascript object>"
            ],
            "application/javascript": [
              "download(\"download_c1803a4c-67e5-4c70-9413-5a9c1b251373\", \"checkpoint_epoch_100.pth\", 6530130)"
            ]
          },
          "metadata": {}
        },
        {
          "output_type": "stream",
          "name": "stdout",
          "text": [
            "Epoch 100/150, Train Acc: 19.17%, Test Acc: 20.37%\n",
            "Epoch 100/150, Train Loss: 3.3967, Test Loss: 3.3525\n",
            "Epoch 101/150, Train Acc: 19.46%, Test Acc: 20.41%\n",
            "Epoch 101/150, Train Loss: 3.3934, Test Loss: 3.3441\n",
            "Epoch 102/150, Train Acc: 19.39%, Test Acc: 20.95%\n",
            "Epoch 102/150, Train Loss: 3.3946, Test Loss: 3.3323\n",
            "Epoch 103/150, Train Acc: 19.49%, Test Acc: 20.94%\n",
            "Epoch 103/150, Train Loss: 3.3939, Test Loss: 3.3340\n",
            "Epoch 104/150, Train Acc: 19.59%, Test Acc: 20.76%\n",
            "Epoch 104/150, Train Loss: 3.3880, Test Loss: 3.3271\n",
            "Epoch 105/150, Train Acc: 19.69%, Test Acc: 21.00%\n",
            "Epoch 105/150, Train Loss: 3.3897, Test Loss: 3.3192\n",
            "Epoch 106/150, Train Acc: 19.69%, Test Acc: 21.03%\n",
            "Epoch 106/150, Train Loss: 3.3922, Test Loss: 3.3252\n",
            "Epoch 107/150, Train Acc: 19.80%, Test Acc: 21.28%\n",
            "Epoch 107/150, Train Loss: 3.3711, Test Loss: 3.3175\n",
            "Epoch 108/150, Train Acc: 19.78%, Test Acc: 21.05%\n",
            "Epoch 108/150, Train Loss: 3.3701, Test Loss: 3.3212\n",
            "Epoch 109/150, Train Acc: 20.05%, Test Acc: 21.16%\n",
            "Epoch 109/150, Train Loss: 3.3615, Test Loss: 3.3162\n",
            "Checkpoint saved at epoch 110: ./checkpoint_epoch_110.pth\n"
          ]
        },
        {
          "output_type": "display_data",
          "data": {
            "text/plain": [
              "<IPython.core.display.Javascript object>"
            ],
            "application/javascript": [
              "\n",
              "    async function download(id, filename, size) {\n",
              "      if (!google.colab.kernel.accessAllowed) {\n",
              "        return;\n",
              "      }\n",
              "      const div = document.createElement('div');\n",
              "      const label = document.createElement('label');\n",
              "      label.textContent = `Downloading \"${filename}\": `;\n",
              "      div.appendChild(label);\n",
              "      const progress = document.createElement('progress');\n",
              "      progress.max = size;\n",
              "      div.appendChild(progress);\n",
              "      document.body.appendChild(div);\n",
              "\n",
              "      const buffers = [];\n",
              "      let downloaded = 0;\n",
              "\n",
              "      const channel = await google.colab.kernel.comms.open(id);\n",
              "      // Send a message to notify the kernel that we're ready.\n",
              "      channel.send({})\n",
              "\n",
              "      for await (const message of channel.messages) {\n",
              "        // Send a message to notify the kernel that we're ready.\n",
              "        channel.send({})\n",
              "        if (message.buffers) {\n",
              "          for (const buffer of message.buffers) {\n",
              "            buffers.push(buffer);\n",
              "            downloaded += buffer.byteLength;\n",
              "            progress.value = downloaded;\n",
              "          }\n",
              "        }\n",
              "      }\n",
              "      const blob = new Blob(buffers, {type: 'application/binary'});\n",
              "      const a = document.createElement('a');\n",
              "      a.href = window.URL.createObjectURL(blob);\n",
              "      a.download = filename;\n",
              "      div.appendChild(a);\n",
              "      a.click();\n",
              "      div.remove();\n",
              "    }\n",
              "  "
            ]
          },
          "metadata": {}
        },
        {
          "output_type": "display_data",
          "data": {
            "text/plain": [
              "<IPython.core.display.Javascript object>"
            ],
            "application/javascript": [
              "download(\"download_77e0a2a4-2d0b-4736-917b-a37669206962\", \"checkpoint_epoch_110.pth\", 6530130)"
            ]
          },
          "metadata": {}
        },
        {
          "output_type": "stream",
          "name": "stdout",
          "text": [
            "Epoch 110/150, Train Acc: 19.88%, Test Acc: 21.47%\n",
            "Epoch 110/150, Train Loss: 3.3608, Test Loss: 3.3080\n",
            "Epoch 111/150, Train Acc: 19.92%, Test Acc: 21.05%\n",
            "Epoch 111/150, Train Loss: 3.3639, Test Loss: 3.3122\n",
            "Epoch 112/150, Train Acc: 19.91%, Test Acc: 21.16%\n",
            "Epoch 112/150, Train Loss: 3.3547, Test Loss: 3.3068\n",
            "Epoch 113/150, Train Acc: 19.95%, Test Acc: 21.34%\n",
            "Epoch 113/150, Train Loss: 3.3700, Test Loss: 3.3053\n",
            "Epoch 114/150, Train Acc: 20.28%, Test Acc: 21.13%\n",
            "Epoch 114/150, Train Loss: 3.3597, Test Loss: 3.3104\n",
            "Epoch 115/150, Train Acc: 20.21%, Test Acc: 21.52%\n",
            "Epoch 115/150, Train Loss: 3.3526, Test Loss: 3.2994\n",
            "Epoch 116/150, Train Acc: 20.30%, Test Acc: 21.17%\n",
            "Epoch 116/150, Train Loss: 3.3544, Test Loss: 3.3033\n",
            "Epoch 117/150, Train Acc: 20.10%, Test Acc: 21.36%\n",
            "Epoch 117/150, Train Loss: 3.3663, Test Loss: 3.3046\n",
            "Epoch 118/150, Train Acc: 20.18%, Test Acc: 21.44%\n",
            "Epoch 118/150, Train Loss: 3.3513, Test Loss: 3.2983\n",
            "Epoch 119/150, Train Acc: 20.40%, Test Acc: 21.65%\n",
            "Epoch 119/150, Train Loss: 3.3705, Test Loss: 3.2963\n",
            "Checkpoint saved at epoch 120: ./checkpoint_epoch_120.pth\n"
          ]
        },
        {
          "output_type": "display_data",
          "data": {
            "text/plain": [
              "<IPython.core.display.Javascript object>"
            ],
            "application/javascript": [
              "\n",
              "    async function download(id, filename, size) {\n",
              "      if (!google.colab.kernel.accessAllowed) {\n",
              "        return;\n",
              "      }\n",
              "      const div = document.createElement('div');\n",
              "      const label = document.createElement('label');\n",
              "      label.textContent = `Downloading \"${filename}\": `;\n",
              "      div.appendChild(label);\n",
              "      const progress = document.createElement('progress');\n",
              "      progress.max = size;\n",
              "      div.appendChild(progress);\n",
              "      document.body.appendChild(div);\n",
              "\n",
              "      const buffers = [];\n",
              "      let downloaded = 0;\n",
              "\n",
              "      const channel = await google.colab.kernel.comms.open(id);\n",
              "      // Send a message to notify the kernel that we're ready.\n",
              "      channel.send({})\n",
              "\n",
              "      for await (const message of channel.messages) {\n",
              "        // Send a message to notify the kernel that we're ready.\n",
              "        channel.send({})\n",
              "        if (message.buffers) {\n",
              "          for (const buffer of message.buffers) {\n",
              "            buffers.push(buffer);\n",
              "            downloaded += buffer.byteLength;\n",
              "            progress.value = downloaded;\n",
              "          }\n",
              "        }\n",
              "      }\n",
              "      const blob = new Blob(buffers, {type: 'application/binary'});\n",
              "      const a = document.createElement('a');\n",
              "      a.href = window.URL.createObjectURL(blob);\n",
              "      a.download = filename;\n",
              "      div.appendChild(a);\n",
              "      a.click();\n",
              "      div.remove();\n",
              "    }\n",
              "  "
            ]
          },
          "metadata": {}
        },
        {
          "output_type": "display_data",
          "data": {
            "text/plain": [
              "<IPython.core.display.Javascript object>"
            ],
            "application/javascript": [
              "download(\"download_20a8f836-e7c0-41fc-b8a2-d6ef043ed6c1\", \"checkpoint_epoch_120.pth\", 6530130)"
            ]
          },
          "metadata": {}
        },
        {
          "output_type": "stream",
          "name": "stdout",
          "text": [
            "Epoch 120/150, Train Acc: 20.19%, Test Acc: 21.43%\n",
            "Epoch 120/150, Train Loss: 3.3421, Test Loss: 3.2984\n",
            "Epoch 121/150, Train Acc: 20.25%, Test Acc: 21.72%\n",
            "Epoch 121/150, Train Loss: 3.3569, Test Loss: 3.2908\n",
            "Epoch 122/150, Train Acc: 20.40%, Test Acc: 21.43%\n",
            "Epoch 122/150, Train Loss: 3.3392, Test Loss: 3.2996\n",
            "Epoch 123/150, Train Acc: 20.47%, Test Acc: 21.69%\n",
            "Epoch 123/150, Train Loss: 3.3516, Test Loss: 3.2877\n",
            "Epoch 124/150, Train Acc: 20.62%, Test Acc: 21.63%\n",
            "Epoch 124/150, Train Loss: 3.3347, Test Loss: 3.2896\n",
            "Epoch 125/150, Train Acc: 20.51%, Test Acc: 21.71%\n",
            "Epoch 125/150, Train Loss: 3.3397, Test Loss: 3.2895\n",
            "Epoch 126/150, Train Acc: 20.40%, Test Acc: 21.55%\n",
            "Epoch 126/150, Train Loss: 3.3289, Test Loss: 3.2870\n",
            "Epoch 127/150, Train Acc: 20.39%, Test Acc: 21.50%\n",
            "Epoch 127/150, Train Loss: 3.3442, Test Loss: 3.2912\n",
            "Epoch 128/150, Train Acc: 20.78%, Test Acc: 21.87%\n",
            "Epoch 128/150, Train Loss: 3.3386, Test Loss: 3.2848\n",
            "Epoch 129/150, Train Acc: 20.56%, Test Acc: 21.56%\n",
            "Epoch 129/150, Train Loss: 3.3388, Test Loss: 3.2894\n",
            "Checkpoint saved at epoch 130: ./checkpoint_epoch_130.pth\n"
          ]
        },
        {
          "output_type": "display_data",
          "data": {
            "text/plain": [
              "<IPython.core.display.Javascript object>"
            ],
            "application/javascript": [
              "\n",
              "    async function download(id, filename, size) {\n",
              "      if (!google.colab.kernel.accessAllowed) {\n",
              "        return;\n",
              "      }\n",
              "      const div = document.createElement('div');\n",
              "      const label = document.createElement('label');\n",
              "      label.textContent = `Downloading \"${filename}\": `;\n",
              "      div.appendChild(label);\n",
              "      const progress = document.createElement('progress');\n",
              "      progress.max = size;\n",
              "      div.appendChild(progress);\n",
              "      document.body.appendChild(div);\n",
              "\n",
              "      const buffers = [];\n",
              "      let downloaded = 0;\n",
              "\n",
              "      const channel = await google.colab.kernel.comms.open(id);\n",
              "      // Send a message to notify the kernel that we're ready.\n",
              "      channel.send({})\n",
              "\n",
              "      for await (const message of channel.messages) {\n",
              "        // Send a message to notify the kernel that we're ready.\n",
              "        channel.send({})\n",
              "        if (message.buffers) {\n",
              "          for (const buffer of message.buffers) {\n",
              "            buffers.push(buffer);\n",
              "            downloaded += buffer.byteLength;\n",
              "            progress.value = downloaded;\n",
              "          }\n",
              "        }\n",
              "      }\n",
              "      const blob = new Blob(buffers, {type: 'application/binary'});\n",
              "      const a = document.createElement('a');\n",
              "      a.href = window.URL.createObjectURL(blob);\n",
              "      a.download = filename;\n",
              "      div.appendChild(a);\n",
              "      a.click();\n",
              "      div.remove();\n",
              "    }\n",
              "  "
            ]
          },
          "metadata": {}
        },
        {
          "output_type": "display_data",
          "data": {
            "text/plain": [
              "<IPython.core.display.Javascript object>"
            ],
            "application/javascript": [
              "download(\"download_40c5d7ae-7f4d-4269-85d0-3c62081b3d62\", \"checkpoint_epoch_130.pth\", 6530130)"
            ]
          },
          "metadata": {}
        },
        {
          "output_type": "stream",
          "name": "stdout",
          "text": [
            "Epoch 130/150, Train Acc: 20.45%, Test Acc: 21.38%\n",
            "Epoch 130/150, Train Loss: 3.3299, Test Loss: 3.2857\n",
            "Epoch 131/150, Train Acc: 20.59%, Test Acc: 21.45%\n",
            "Epoch 131/150, Train Loss: 3.3372, Test Loss: 3.2851\n",
            "Epoch 132/150, Train Acc: 20.63%, Test Acc: 21.57%\n",
            "Epoch 132/150, Train Loss: 3.3337, Test Loss: 3.2866\n",
            "Epoch 133/150, Train Acc: 20.55%, Test Acc: 21.76%\n",
            "Epoch 133/150, Train Loss: 3.3272, Test Loss: 3.2839\n",
            "Epoch 134/150, Train Acc: 20.49%, Test Acc: 21.84%\n",
            "Epoch 134/150, Train Loss: 3.3323, Test Loss: 3.2822\n",
            "Epoch 135/150, Train Acc: 20.50%, Test Acc: 21.61%\n",
            "Epoch 135/150, Train Loss: 3.3267, Test Loss: 3.2861\n",
            "Epoch 136/150, Train Acc: 20.63%, Test Acc: 21.62%\n",
            "Epoch 136/150, Train Loss: 3.3254, Test Loss: 3.2826\n",
            "Epoch 137/150, Train Acc: 20.68%, Test Acc: 21.76%\n",
            "Epoch 137/150, Train Loss: 3.3373, Test Loss: 3.2807\n",
            "Epoch 138/150, Train Acc: 20.56%, Test Acc: 21.70%\n",
            "Epoch 138/150, Train Loss: 3.3304, Test Loss: 3.2828\n",
            "Epoch 139/150, Train Acc: 20.78%, Test Acc: 21.70%\n",
            "Epoch 139/150, Train Loss: 3.3247, Test Loss: 3.2816\n",
            "Checkpoint saved at epoch 140: ./checkpoint_epoch_140.pth\n"
          ]
        },
        {
          "output_type": "display_data",
          "data": {
            "text/plain": [
              "<IPython.core.display.Javascript object>"
            ],
            "application/javascript": [
              "\n",
              "    async function download(id, filename, size) {\n",
              "      if (!google.colab.kernel.accessAllowed) {\n",
              "        return;\n",
              "      }\n",
              "      const div = document.createElement('div');\n",
              "      const label = document.createElement('label');\n",
              "      label.textContent = `Downloading \"${filename}\": `;\n",
              "      div.appendChild(label);\n",
              "      const progress = document.createElement('progress');\n",
              "      progress.max = size;\n",
              "      div.appendChild(progress);\n",
              "      document.body.appendChild(div);\n",
              "\n",
              "      const buffers = [];\n",
              "      let downloaded = 0;\n",
              "\n",
              "      const channel = await google.colab.kernel.comms.open(id);\n",
              "      // Send a message to notify the kernel that we're ready.\n",
              "      channel.send({})\n",
              "\n",
              "      for await (const message of channel.messages) {\n",
              "        // Send a message to notify the kernel that we're ready.\n",
              "        channel.send({})\n",
              "        if (message.buffers) {\n",
              "          for (const buffer of message.buffers) {\n",
              "            buffers.push(buffer);\n",
              "            downloaded += buffer.byteLength;\n",
              "            progress.value = downloaded;\n",
              "          }\n",
              "        }\n",
              "      }\n",
              "      const blob = new Blob(buffers, {type: 'application/binary'});\n",
              "      const a = document.createElement('a');\n",
              "      a.href = window.URL.createObjectURL(blob);\n",
              "      a.download = filename;\n",
              "      div.appendChild(a);\n",
              "      a.click();\n",
              "      div.remove();\n",
              "    }\n",
              "  "
            ]
          },
          "metadata": {}
        },
        {
          "output_type": "display_data",
          "data": {
            "text/plain": [
              "<IPython.core.display.Javascript object>"
            ],
            "application/javascript": [
              "download(\"download_901bfb27-2a3b-44ac-93f7-e9ec5139a168\", \"checkpoint_epoch_140.pth\", 6530130)"
            ]
          },
          "metadata": {}
        },
        {
          "output_type": "stream",
          "name": "stdout",
          "text": [
            "Epoch 140/150, Train Acc: 20.61%, Test Acc: 21.68%\n",
            "Epoch 140/150, Train Loss: 3.3347, Test Loss: 3.2816\n",
            "Epoch 141/150, Train Acc: 20.61%, Test Acc: 21.64%\n",
            "Epoch 141/150, Train Loss: 3.3320, Test Loss: 3.2818\n",
            "Epoch 142/150, Train Acc: 20.70%, Test Acc: 21.76%\n",
            "Epoch 142/150, Train Loss: 3.3331, Test Loss: 3.2806\n",
            "Epoch 143/150, Train Acc: 20.65%, Test Acc: 21.79%\n",
            "Epoch 143/150, Train Loss: 3.3264, Test Loss: 3.2799\n",
            "Epoch 144/150, Train Acc: 20.41%, Test Acc: 21.78%\n",
            "Epoch 144/150, Train Loss: 3.3235, Test Loss: 3.2798\n",
            "Epoch 145/150, Train Acc: 20.77%, Test Acc: 21.78%\n",
            "Epoch 145/150, Train Loss: 3.3338, Test Loss: 3.2801\n",
            "Epoch 146/150, Train Acc: 20.68%, Test Acc: 21.77%\n",
            "Epoch 146/150, Train Loss: 3.3270, Test Loss: 3.2806\n",
            "Epoch 147/150, Train Acc: 20.90%, Test Acc: 21.74%\n",
            "Epoch 147/150, Train Loss: 3.3235, Test Loss: 3.2810\n",
            "Epoch 148/150, Train Acc: 20.64%, Test Acc: 21.72%\n",
            "Epoch 148/150, Train Loss: 3.3289, Test Loss: 3.2811\n",
            "Epoch 149/150, Train Acc: 20.60%, Test Acc: 21.74%\n",
            "Epoch 149/150, Train Loss: 3.3256, Test Loss: 3.2810\n",
            "Checkpoint saved at epoch 150: ./checkpoint_epoch_150.pth\n"
          ]
        },
        {
          "output_type": "display_data",
          "data": {
            "text/plain": [
              "<IPython.core.display.Javascript object>"
            ],
            "application/javascript": [
              "\n",
              "    async function download(id, filename, size) {\n",
              "      if (!google.colab.kernel.accessAllowed) {\n",
              "        return;\n",
              "      }\n",
              "      const div = document.createElement('div');\n",
              "      const label = document.createElement('label');\n",
              "      label.textContent = `Downloading \"${filename}\": `;\n",
              "      div.appendChild(label);\n",
              "      const progress = document.createElement('progress');\n",
              "      progress.max = size;\n",
              "      div.appendChild(progress);\n",
              "      document.body.appendChild(div);\n",
              "\n",
              "      const buffers = [];\n",
              "      let downloaded = 0;\n",
              "\n",
              "      const channel = await google.colab.kernel.comms.open(id);\n",
              "      // Send a message to notify the kernel that we're ready.\n",
              "      channel.send({})\n",
              "\n",
              "      for await (const message of channel.messages) {\n",
              "        // Send a message to notify the kernel that we're ready.\n",
              "        channel.send({})\n",
              "        if (message.buffers) {\n",
              "          for (const buffer of message.buffers) {\n",
              "            buffers.push(buffer);\n",
              "            downloaded += buffer.byteLength;\n",
              "            progress.value = downloaded;\n",
              "          }\n",
              "        }\n",
              "      }\n",
              "      const blob = new Blob(buffers, {type: 'application/binary'});\n",
              "      const a = document.createElement('a');\n",
              "      a.href = window.URL.createObjectURL(blob);\n",
              "      a.download = filename;\n",
              "      div.appendChild(a);\n",
              "      a.click();\n",
              "      div.remove();\n",
              "    }\n",
              "  "
            ]
          },
          "metadata": {}
        },
        {
          "output_type": "display_data",
          "data": {
            "text/plain": [
              "<IPython.core.display.Javascript object>"
            ],
            "application/javascript": [
              "download(\"download_63e8b12d-9c3d-463f-b7a3-e7f205e69d9a\", \"checkpoint_epoch_150.pth\", 6530130)"
            ]
          },
          "metadata": {}
        },
        {
          "output_type": "stream",
          "name": "stdout",
          "text": [
            "Epoch 150/150, Train Acc: 20.54%, Test Acc: 21.74%\n",
            "Epoch 150/150, Train Loss: 3.3317, Test Loss: 3.2810\n"
          ]
        },
        {
          "output_type": "display_data",
          "data": {
            "text/plain": [
              "<Figure size 600x400 with 1 Axes>"
            ],
            "image/png": "[encoded data removed]"
          },
          "metadata": {}
        },
        {
          "output_type": "display_data",
          "data": {
            "text/plain": [
              "<Figure size 600x400 with 1 Axes>"
            ],
            "image/png": "[encoded data removed]"
          },
          "metadata": {}
        },
        {
          "output_type": "display_data",
          "data": {
            "text/plain": [
              "<Figure size 600x400 with 1 Axes>"
            ],
            "image/png": "[encoded data removed]"
          },
          "metadata": {}
        },
        {
          "output_type": "display_data",
          "data": {
            "text/plain": [
              "<Figure size 600x400 with 1 Axes>"
            ],
            "image/png": "[encoded data removed]"
          },
          "metadata": {}
        },
        {
          "output_type": "display_data",
          "data": {
            "text/plain": [
              "<Figure size 640x480 with 0 Axes>"
            ]
          },
          "metadata": {}
        }
      ]
    }
  ]
}