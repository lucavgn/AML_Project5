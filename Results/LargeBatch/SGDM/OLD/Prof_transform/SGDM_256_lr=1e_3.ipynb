{
  "nbformat": 4,
  "nbformat_minor": 0,
  "metadata": {
    "colab": {
      "provenance": [],
      "gpuType": "T4"
    },
    "kernelspec": {
      "name": "python3",
      "display_name": "Python 3"
    },
    "language_info": {
      "name": "python"
    },
    "accelerator": "GPU"
  },
  "cells": [
    {
      "cell_type": "code",
      "execution_count": 5,
      "metadata": {
        "id": "xncextBYcE-3",
        "colab": {
          "base_uri": "https://localhost:8080/"
        },
        "outputId": "4f543f8f-6147-474c-95f3-e6e5515ea980"
      },
      "outputs": [
        {
          "output_type": "stream",
          "name": "stdout",
          "text": [
            "Overwriting large_batch_training.py\n"
          ]
        }
      ],
      "source": [
        "%%writefile large_batch_training.py\n",
        "\n",
        "import os\n",
        "import numpy as np\n",
        "import torch\n",
        "import torch.nn as nn\n",
        "import torch.optim as optim\n",
        "import torchvision\n",
        "import torchvision.transforms as transforms\n",
        "import matplotlib.pyplot as plt\n",
        "import argparse\n",
        "from torch.utils.data import random_split\n",
        "from google.colab import files\n",
        "\n",
        "def compute_mean_std(dataset):\n",
        "    \"\"\"Compute the mean and std of CIFAR-100 dataset.\n",
        "\n",
        "    Args:\n",
        "        dataset: A dataset derived from `torch.utils.data.Dataset`,\n",
        "                 such as `cifar100_training_dataset` or `cifar100_test_dataset`.\n",
        "\n",
        "    Returns:\n",
        "        A tuple containing (mean, std) for the entire dataset.\n",
        "    \"\"\"\n",
        "\n",
        "    # Extract images and labels\n",
        "    data_r = np.stack([np.array(dataset[i][0])[:, :, 0] for i in range(len(dataset))])\n",
        "    data_g = np.stack([np.array(dataset[i][0])[:, :, 1] for i in range(len(dataset))])\n",
        "    data_b = np.stack([np.array(dataset[i][0])[:, :, 2] for i in range(len(dataset))])\n",
        "\n",
        "    # Compute mean and std\n",
        "    mean = np.mean(data_r), np.mean(data_g), np.mean(data_b)\n",
        "    std = np.std(data_r), np.std(data_g), np.std(data_b)\n",
        "\n",
        "    return mean, std\n",
        "\n",
        "# Define LeNet-5 architecture\n",
        "class LeNet5(nn.Module):\n",
        "    def __init__(self):\n",
        "        super(LeNet5, self).__init__()\n",
        "        self.conv1 = nn.Conv2d(3, 64, 5)\n",
        "        self.relu1 = nn.ReLU()\n",
        "        self.pool1 = nn.MaxPool2d(2, 2)\n",
        "        self.conv2 = nn.Conv2d(64, 64, 5)\n",
        "        self.relu2 = nn.ReLU()\n",
        "        self.pool2 = nn.MaxPool2d(2, 2)\n",
        "        self.fc1 = nn.Linear(64 * 5 * 5, 384)\n",
        "        self.relu3 = nn.ReLU()\n",
        "        self.fc2 = nn.Linear(384, 192)\n",
        "        self.relu4 = nn.ReLU()\n",
        "        self.fc3 = nn.Linear(192, 100)\n",
        "\n",
        "    def forward(self, x):\n",
        "        x = self.pool1(self.relu1(self.conv1(x)))\n",
        "        x = self.pool2(self.relu2(self.conv2(x)))\n",
        "        x = x.view(-1, 64 * 5 * 5)\n",
        "        x = self.relu3(self.fc1(x))\n",
        "        x = self.relu4(self.fc2(x))\n",
        "        x = self.fc3(x)\n",
        "        return x\n",
        "\n",
        "# Device setup\n",
        "device = torch.device(\"cuda:0\" if torch.cuda.is_available() else \"cpu\")\n",
        "\n",
        "# Initialize model\n",
        "net = LeNet5().to(device)\n",
        "\n",
        "# Optimizer Subclasses\n",
        "class LARS(optim.Optimizer):\n",
        "    def __init__(self, params, lr, momentum=0.9, weight_decay=0, trust_coefficient=0.001):\n",
        "        # Initialize the optimizer with the learning rate, momentum, weight decay, and trust coefficient\n",
        "        defaults = dict(lr=lr, momentum=momentum, weight_decay=weight_decay, trust_coefficient=trust_coefficient)\n",
        "        super(LARS, self).__init__(params, defaults)\n",
        "\n",
        "    def step(self, closure=None):\n",
        "        loss = None\n",
        "        if closure is not None:\n",
        "            # If a closure is provided, evaluate it (commonly used for re-evaluating loss)\n",
        "            loss = closure()\n",
        "        for group in self.param_groups:\n",
        "            for p in group['params']:\n",
        "                if p.grad is None:\n",
        "                   # Skip parameters that have no gradient\n",
        "                    continue\n",
        "                grad = p.grad.data # Get the gradient of the parameter\n",
        "                # Retrieve or initialize the optimizer's internal state\n",
        "                state = self.state[p]\n",
        "                if len(state) == 0:\n",
        "                    state['momentum_buffer'] = torch.clone(grad).detach()\n",
        "                # Apply weight decay directly to the gradient\n",
        "                if group['weight_decay'] != 0:\n",
        "                    grad.add_(p.data, alpha=group['weight_decay'])\n",
        "                # Compute the norms of the parameter and its gradient\n",
        "                param_norm = torch.norm(p.data)\n",
        "                grad_norm = torch.norm(grad)\n",
        "                # Compute local learning rate based on the trust coefficient and norms\n",
        "                if param_norm > 0 and grad_norm > 0:\n",
        "                    local_lr = group['trust_coefficient'] * param_norm / (grad_norm + 1e-8)\n",
        "                    grad = grad.mul(local_lr) # Scale the gradient with the local learning rate\n",
        "                # Update the momentum buffer\n",
        "                momentum_buffer = state['momentum_buffer']\n",
        "                momentum_buffer.mul_(group['momentum']).add_(grad) #Momentum update\n",
        "                state['momentum_buffer'] = momentum_buffer\n",
        "                # Update the parameter\n",
        "                p.data.add_(momentum_buffer, alpha=-group['lr']) # Gradient descent step with learning rate\n",
        "        return loss\n",
        "\n",
        "class LAMB(optim.Optimizer):\n",
        "    def __init__(self, params, lr, weight_decay=0, betas=(0.9, 0.999), eps=1e-8):\n",
        "        # Initialize the optimizer with learning rate, weight decay, betas for moment updates, and epsilon for stability\n",
        "        defaults = dict(lr=lr, weight_decay=weight_decay, betas=betas, eps=eps)\n",
        "        super(LAMB, self).__init__(params, defaults)\n",
        "\n",
        "    def step(self, closure=None):\n",
        "        loss = None\n",
        "        if closure is not None:\n",
        "            # If a closure is provided, evaluate it\n",
        "            loss = closure()\n",
        "        for group in self.param_groups:\n",
        "            for p in group['params']:\n",
        "                if p.grad is None:\n",
        "                    # Skip parameters that have no gradient\n",
        "                    continue\n",
        "                grad = p.grad.data # Get the gradient of the parameter\n",
        "                # Retrieve or initialize the optimizer's internal state\n",
        "                state = self.state[p]\n",
        "                # Initialize state\n",
        "                if len(state) == 0:\n",
        "                    # Initialize the state (step counter, first moment, second moment)\n",
        "                    state['step'] = 0\n",
        "                    state['exp_avg'] = torch.zeros_like(p.data) # First moment (mean of gradients)\n",
        "                    state['exp_avg_sq'] = torch.zeros_like(p.data) # Second moment (mean of squared gradients)\n",
        "                exp_avg = state['exp_avg']\n",
        "                exp_avg_sq = state['exp_avg_sq']\n",
        "                beta1, beta2 = group['betas']  # Coefficients for moment updates\n",
        "                state['step'] += 1 # Increment step count\n",
        "                step = state['step']\n",
        "                # Decay the first and second moment running average coefficients\n",
        "                # Update first and second moments\n",
        "                exp_avg.mul_(beta1).add_(grad, alpha=1 - beta1) # Exponential moving average of gradients\n",
        "                exp_avg_sq.mul_(beta2).addcmul_(grad, grad, value=1 - beta2) # Exponential moving average of squared gradients\n",
        "                # Correct bias in the first and second moments\n",
        "                bias_correction1 = 1 - beta1 ** step\n",
        "                bias_correction2 = 1 - beta2 ** step\n",
        "                corrected_exp_avg = exp_avg / bias_correction1\n",
        "                corrected_exp_avg_sq = exp_avg_sq / bias_correction2\n",
        "                # Compute the denominator for scaling the update\n",
        "                denom = corrected_exp_avg_sq.sqrt().add_(group['eps']) # Stability epsilon\n",
        "                # Compute the step update\n",
        "                update = corrected_exp_avg / denom\n",
        "                # Apply weight decay directly to the parameters\n",
        "                if group['weight_decay'] != 0:\n",
        "                    update.add_(p.data, alpha=group['weight_decay'])\n",
        "                # Compute the trust ratio (norm of parameters vs norm of update)\n",
        "                param_norm = torch.norm(p.data)\n",
        "                update_norm = torch.norm(update)\n",
        "                trust_ratio = 1.0  # Default trust ratio\n",
        "                if param_norm > 0 and update_norm > 0:\n",
        "                    trust_ratio = param_norm / update_norm\n",
        "                # Update the parameters\n",
        "                p.data.add_(update, alpha=-group['lr'] * trust_ratio)\n",
        "        return loss\n",
        "\n",
        "class SqrtLRScheduler(torch.optim.lr_scheduler._LRScheduler):\n",
        "    def __init__(self, optimizer, base_lr, batch_size, warmup_epochs, total_epochs, reference_batch_size, verbose=False):\n",
        "        \"\"\"\n",
        "        Args:\n",
        "            optimizer: PyTorch optimizer (e.g., Adam, LAMB, LARS).\n",
        "            base_lr: Base learning rate for the reference batch size.\n",
        "            batch_size: Current batch size.\n",
        "            warmup_epochs: Number of warmup epochs.\n",
        "            total_epochs: Total number of epochs.\n",
        "            reference_batch_size: Batch size for which the base_lr is defined.\n",
        "            verbose: Whether to print LR updates.\n",
        "        \"\"\"\n",
        "        self.base_lr = base_lr\n",
        "        self.batch_size = batch_size\n",
        "        self.scaled_lr = base_lr * (batch_size / reference_batch_size) ** 0.5\n",
        "        self.warmup_epochs = warmup_epochs\n",
        "        self.total_epochs = total_epochs\n",
        "        self.verbose = verbose\n",
        "        super(SqrtLRScheduler, self).__init__(optimizer)\n",
        "\n",
        "    def get_lr(self):\n",
        "        epoch = self.last_epoch\n",
        "        if epoch < self.warmup_epochs:\n",
        "            # Linear warmup scaling\n",
        "            warmup_factor = (epoch + 1) / self.warmup_epochs\n",
        "            return [warmup_factor * self.scaled_lr for _ in self.optimizer.param_groups]\n",
        "        else:\n",
        "            # polynomially decaying learning rate of ηt = η0×(1−t/T)\n",
        "            if epoch == self.warmup_epochs:\n",
        "                print(f\"Warmup phase completed at epoch {epoch}. Switching to constant learning rate.\")\n",
        "            return [self.scaled_lr * ( 1 - ( (epoch - self.warmup_epochs) / (self.total_epochs - self.warmup_epochs))) for _ in self.optimizer.param_groups]\n",
        "\n",
        "# Command-line arguments\n",
        "parser = argparse.ArgumentParser(description='Train with Large-Batch Optimizers')\n",
        "parser.add_argument('--optimizer', type=str, default='SGDM', choices=['SGDM', 'AdamW', 'LARS', 'LAMB'],\n",
        "                    help='Choose optimizer')\n",
        "parser.add_argument('--batch-size', type=int, default=128, help='Batch size')\n",
        "parser.add_argument('--momentum', type=float, default=0.9, help='Momentum for SGDM and LARS')\n",
        "parser.add_argument('--weight-decay', type=float, default=1e-5, help='Weight decay')\n",
        "parser.add_argument('--b1', type=float, default=0.9, help='Beta1 for AdamW')\n",
        "parser.add_argument('--b2', type=float, default=0.999, help='Beta2 for AdamW')\n",
        "parser.add_argument('--trust-coefficient', type=float, default=0.001, help='Trust coefficient for LARS')\n",
        "parser.add_argument('--epochs', type=int, default=150, help='Number of epochs')\n",
        "parser.add_argument('--warmup-epochs', type=int, default=5, help='Number of epochs')\n",
        "args = parser.parse_args()\n",
        "\n",
        "\n",
        "torch.manual_seed(42) # Set the seed for reproducibility\n",
        "torch.cuda.manual_seed_all(42) # Set the seed for reproducibility on GPU\n",
        "\n",
        "# use the same mean and std to add consistency to all datasets\n",
        "data = torchvision.datasets.CIFAR100(root='./data', train=True, download=True, transform=transforms.ToTensor())\n",
        "mean, std = compute_mean_std(data)\n",
        "\n",
        "# Load and split CIFAR-100 dataset\n",
        "train_transform = transforms.Compose([\n",
        "  transforms.RandomCrop(32, padding=4),\n",
        "  transforms.RandomHorizontalFlip(),\n",
        "  transforms.ToTensor(),\n",
        "  transforms.Normalize(mean, std)\n",
        "])\n",
        "\n",
        "val_transform = transforms.Compose([\n",
        "    transforms.ToTensor(), # Convert into tensor\n",
        "    transforms.Normalize(mean, std)  # Normalization\n",
        "])\n",
        "\n",
        "test_transform = transforms.Compose([\n",
        "    transforms.ToTensor(),  # Convert to PyTorch tensor\n",
        "    transforms.Normalize(mean, std)\n",
        "])\n",
        "\n",
        "trainset = torchvision.datasets.CIFAR100(root='./data', train=True, download=True, transform=train_transform)\n",
        "valset = torchvision.datasets.CIFAR100(root='./data', train=True, download=True, transform=val_transform)\n",
        "indices = torch.randperm(len(trainset))\n",
        "val_size = int(0.2*len(trainset))\n",
        "trainset = torch.utils.data.Subset(trainset, indices[:-val_size])\n",
        "valset = torch.utils.data.Subset(valset, indices[-val_size:])\n",
        "\n",
        "trainloader = torch.utils.data.DataLoader(trainset, batch_size=args.batch_size, shuffle=True, num_workers=2)\n",
        "valloader = torch.utils.data.DataLoader(valset, batch_size=args.batch_size, shuffle=False, num_workers=2)\n",
        "\n",
        "testset = torchvision.datasets.CIFAR100(root='./data', train=False, download=True, transform=test_transform)\n",
        "testloader = torch.utils.data.DataLoader(testset, batch_size=args.batch_size, shuffle=False, num_workers=2)\n",
        "\n",
        "\n",
        "# Fixed parameter from paper [18] to calculate the square root LR scaling value\n",
        "# base_lr = 5 / (2**3 * 10**3)\n",
        "# reference_batch_size = 512\n",
        "#scaled_lr = base_lr * (args.batch_size / reference_batch_size) ** 0.5\n",
        "\n",
        "# Mapping optimizers\n",
        "if args.optimizer == 'SGDM':\n",
        "    base_lr = 1e-3\n",
        "    reference_batch_size = 64\n",
        "    scaled_lr = base_lr * (args.batch_size / reference_batch_size) ** 0.5\n",
        "    optimizer = optim.SGD(net.parameters(), lr=scaled_lr, momentum=args.momentum, weight_decay=args.weight_decay)\n",
        "elif args.optimizer == 'AdamW':\n",
        "    base_lr = 5e-4\n",
        "    reference_batch_size = 64\n",
        "    scaled_lr = base_lr * (args.batch_size / reference_batch_size) ** 0.5\n",
        "    optimizer = optim.AdamW(net.parameters(), lr=scaled_lr, betas=(args.b1, args.b2), weight_decay=args.weight_decay)\n",
        "elif args.optimizer == 'LARS':\n",
        "    base_lr = 5e-1\n",
        "    reference_batch_size = 64\n",
        "    scaled_lr = base_lr * (args.batch_size / reference_batch_size) ** 0.5\n",
        "    optimizer = LARS(net.parameters(), lr=scaled_lr, momentum=args.momentum, weight_decay=args.weight_decay, trust_coefficient=args.trust_coefficient)\n",
        "elif args.optimizer == 'LAMB':\n",
        "    base_lr = 5e-4\n",
        "    reference_batch_size = 64\n",
        "    scaled_lr = base_lr * (args.batch_size / reference_batch_size) ** 0.5\n",
        "    optimizer = LAMB(net.parameters(), lr=scaled_lr, weight_decay=args.weight_decay)\n",
        "\n",
        "criterion = nn.CrossEntropyLoss()\n",
        "\n",
        "# scheduler should be e square root LR scaling rule and linear-epoch warmup scheduling to automatically adjust learning rate\n",
        "scheduler = SqrtLRScheduler(\n",
        "    optimizer = optimizer,\n",
        "    base_lr = base_lr,\n",
        "    batch_size = args.batch_size,\n",
        "    warmup_epochs = args.warmup_epochs,\n",
        "    total_epochs = args.epochs,\n",
        "    reference_batch_size = reference_batch_size,\n",
        "    verbose = True)\n",
        "\n",
        "# Training Function\n",
        "def train_model(optimizer, scheduler, model, criterion, trainloader, valloader , testloader, device, epochs, save_checkpoint_interval=10):\n",
        "    train_losses, val_losses, test_losses = [], [], []\n",
        "    train_accuracies, val_accuracies, test_accuracies = [], [], []\n",
        "    for epoch in range(epochs):\n",
        "        model.train()\n",
        "        running_loss, correct_train, total_train = 0.0, 0, 0\n",
        "        for inputs, labels in trainloader:\n",
        "            inputs, labels = inputs.to(device), labels.to(device)\n",
        "            optimizer.zero_grad()\n",
        "            outputs = model(inputs)\n",
        "            loss = criterion(outputs, labels)\n",
        "            loss.backward()\n",
        "            optimizer.step()\n",
        "            running_loss += loss.item()\n",
        "            _, predicted = outputs.max(1)\n",
        "            total_train += labels.size(0)\n",
        "            correct_train += predicted.eq(labels).sum().item()\n",
        "        train_loss = running_loss / len(trainloader)\n",
        "        train_accuracy = 100. * correct_train / total_train\n",
        "        train_losses.append(train_loss)\n",
        "        train_accuracies.append(train_accuracy)\n",
        "\n",
        "        # Validation\n",
        "        model.eval()\n",
        "        correct_val, total_val, val_loss = 0, 0, 0.0\n",
        "        with torch.no_grad():\n",
        "            for inputs, labels in valloader:\n",
        "                inputs, labels = inputs.to(device), labels.to(device)\n",
        "                outputs = model(inputs)\n",
        "                loss = criterion(outputs, labels)\n",
        "                val_loss += loss.item()\n",
        "                _, predicted = outputs.max(1)\n",
        "                total_val += labels.size(0)\n",
        "                correct_val += predicted.eq(labels).sum().item()\n",
        "        val_loss /= len(valloader)\n",
        "        val_losses.append(val_loss)\n",
        "        val_accuracy = 100. * correct_val / total_val\n",
        "        val_accuracies.append(val_accuracy)\n",
        "\n",
        "        '''\n",
        "        # Early Stopping\n",
        "        if val_loss < best_val_loss:\n",
        "          best_val_loss = val_loss\n",
        "          epochs_no_improve = 0\n",
        "        else:\n",
        "          epochs_no_improve += 1\n",
        "\n",
        "        if epochs_no_improve == patience:\n",
        "          print(\"Early stopping!\")\n",
        "          break\n",
        "        '''\n",
        "\n",
        "        # Test\n",
        "        correct_test, total_test, test_loss = 0, 0, 0.0\n",
        "        with torch.no_grad():\n",
        "            for inputs, labels in testloader:\n",
        "                inputs, labels = inputs.to(device), labels.to(device)\n",
        "                outputs = model(inputs)\n",
        "                loss = criterion(outputs, labels)\n",
        "                test_loss += loss.item()\n",
        "                _, predicted = outputs.max(1)\n",
        "                total_test += labels.size(0)\n",
        "                correct_test += predicted.eq(labels).sum().item()\n",
        "        test_loss /= len(testloader)\n",
        "        test_losses.append(test_loss)\n",
        "        test_accuracy = 100. * correct_test / total_test\n",
        "        test_accuracies.append(test_accuracy)\n",
        "\n",
        "        scheduler.step()\n",
        "\n",
        "        # Checkpointing\n",
        "        if (epoch + 1) % save_checkpoint_interval == 0:\n",
        "            checkpoint_filename = f'checkpoint_epoch_{epoch + 1}.pth'\n",
        "            checkpoint = {\n",
        "                'epoch': epoch + 1,\n",
        "                'model_state_dict': model.state_dict(),\n",
        "                'optimizer_state_dict': optimizer.state_dict(),\n",
        "                'scheduler_state_dict': scheduler.state_dict(),\n",
        "                'loss': loss.item(),\n",
        "            }\n",
        "            checkpoint_path = os.path.join('./', checkpoint_filename)\n",
        "            torch.save(checkpoint, checkpoint_path)\n",
        "            print(f'Checkpoint saved at epoch {epoch + 1}: {checkpoint_path}')\n",
        "\n",
        "            # Download the checkpoint\n",
        "            files.download(checkpoint_filename)\n",
        "\n",
        "        print(f'Epoch {epoch+1}/{epochs}, Train Acc: {train_accuracy:.2f}%, Val Acc: {val_accuracy:.2f}%, Test Acc: {test_accuracy:.2f}%')\n",
        "        print(f'Epoch {epoch+1}/{epochs}, Train Loss: {train_loss:.4f}, Val Loss: {val_loss:.4f}, Test Loss: {test_loss:.4f}')\n",
        "\n",
        "    return train_losses, val_losses, test_losses, train_accuracies, val_accuracies, test_accuracies\n",
        "\n",
        "# Train the model\n",
        "print(f\"--- Train with {args.optimizer} ---\")\n",
        "train_loss, val_loss, test_loss, train_acc, val_acc, test_acc = train_model(optimizer, scheduler, net, criterion, trainloader, valloader, testloader, device, args.epochs)\n",
        "\n",
        "# Save model\n",
        "torch.save(net.state_dict(), f'net_{args.optimizer}.pth')\n",
        "\n",
        "# Plot results\n",
        "# Plot Training Loss\n",
        "plt.figure(figsize=(6, 4))\n",
        "plt.plot(train_loss, label='Train Loss')\n",
        "plt.title('Training Loss')\n",
        "plt.xlabel('Epoch')\n",
        "plt.ylabel('Loss')\n",
        "plt.legend()\n",
        "plt.tight_layout()\n",
        "plt.savefig('train_loss.png')\n",
        "plt.show()\n",
        "\n",
        "# Plot Training Accuracy\n",
        "plt.figure(figsize=(6, 4))\n",
        "plt.plot(train_acc, label='Train Accuracy')\n",
        "plt.title('Training Accuracy')\n",
        "plt.xlabel('Epoch')\n",
        "plt.ylabel('Accuracy (%)')\n",
        "plt.legend()\n",
        "plt.tight_layout()\n",
        "plt.savefig('train_accuracy.png')\n",
        "plt.show()\n",
        "\n",
        "# Plot Validation Loss\n",
        "plt.figure(figsize=(6, 4))\n",
        "plt.plot(val_loss, label='Validation Loss')\n",
        "plt.title('Validation Loss')\n",
        "plt.xlabel('Epoch')\n",
        "plt.ylabel('Loss')\n",
        "plt.legend()\n",
        "plt.tight_layout()\n",
        "plt.savefig('val_loss.png')\n",
        "plt.show()\n",
        "\n",
        "# Plot Validation Accuracy\n",
        "plt.figure(figsize=(6, 4))\n",
        "plt.plot(val_acc, label='Validation Accuracy')\n",
        "plt.title('Validation Accuracy')\n",
        "plt.xlabel('Epoch')\n",
        "plt.ylabel('Accuracy (%)')\n",
        "plt.legend()\n",
        "plt.tight_layout()\n",
        "plt.savefig('val_accuracy.png')\n",
        "plt.show()\n",
        "\n",
        "# Plot Test Loss\n",
        "plt.figure(figsize=(6, 4))\n",
        "plt.plot(test_loss, label='Test Loss')\n",
        "plt.title('Test Loss')\n",
        "plt.xlabel('Epoch')\n",
        "plt.ylabel('Loss')\n",
        "plt.legend()\n",
        "plt.tight_layout()\n",
        "plt.savefig('test_loss.png')\n",
        "plt.show()\n",
        "\n",
        "# Plot Test Accuracy\n",
        "plt.figure(figsize=(6, 4))\n",
        "plt.plot(test_acc, label='Test Accuracy')\n",
        "plt.title('Test Accuracy')\n",
        "plt.xlabel('Epoch')\n",
        "plt.ylabel('Accuracy (%)')\n",
        "plt.legend()\n",
        "plt.tight_layout()\n",
        "plt.savefig('test_accuracy.png')\n",
        "plt.show()"
      ]
    },
    {
      "cell_type": "code",
      "source": [
        "%run large_batch_training.py --optimizer SGDM --batch-size 256 --weight-decay 4e-4"
      ],
      "metadata": {
        "colab": {
          "base_uri": "https://localhost:8080/",
          "height": 1000
        },
        "id": "iVAZQV3c8LF4",
        "outputId": "21667a5f-405b-4d53-a61f-f84c1ee0219b"
      },
      "execution_count": 6,
      "outputs": [
        {
          "metadata": {
            "tags": null
          },
          "name": "stdout",
          "output_type": "stream",
          "text": [
            "Files already downloaded and verified\n",
            "Files already downloaded and verified\n",
            "Files already downloaded and verified\n",
            "Files already downloaded and verified\n",
            "--- Train with SGDM ---\n",
            "Epoch 1/150, Train Acc: 0.72%, Val Acc: 0.67%, Test Acc: 0.78%\n",
            "Epoch 1/150, Train Loss: 4.6063, Val Loss: 4.6062, Test Loss: 4.6064\n",
            "Epoch 2/150, Train Acc: 0.67%, Val Acc: 0.82%, Test Acc: 0.86%\n",
            "Epoch 2/150, Train Loss: 4.6043, Val Loss: 4.6032, Test Loss: 4.6034\n",
            "Epoch 3/150, Train Acc: 1.17%, Val Acc: 1.80%, Test Acc: 1.89%\n",
            "Epoch 3/150, Train Loss: 4.5999, Val Loss: 4.5970, Test Loss: 4.5969\n",
            "Epoch 4/150, Train Acc: 2.23%, Val Acc: 2.18%, Test Acc: 2.38%\n",
            "Epoch 4/150, Train Loss: 4.5877, Val Loss: 4.5752, Test Loss: 4.5750\n",
            "Warmup phase completed at epoch 5. Switching to constant learning rate.\n",
            "Epoch 5/150, Train Acc: 2.45%, Val Acc: 3.24%, Test Acc: 3.49%\n",
            "Epoch 5/150, Train Loss: 4.5368, Val Loss: 4.4759, Test Loss: 4.4760\n",
            "Epoch 6/150, Train Acc: 4.38%, Val Acc: 6.45%, Test Acc: 6.22%\n",
            "Epoch 6/150, Train Loss: 4.3821, Val Loss: 4.2301, Test Loss: 4.2307\n",
            "Epoch 7/150, Train Acc: 6.82%, Val Acc: 8.49%, Test Acc: 7.67%\n",
            "Epoch 7/150, Train Loss: 4.1501, Val Loss: 4.0549, Test Loss: 4.0606\n",
            "Epoch 8/150, Train Acc: 8.10%, Val Acc: 10.21%, Test Acc: 9.66%\n",
            "Epoch 8/150, Train Loss: 4.0497, Val Loss: 3.9736, Test Loss: 3.9782\n",
            "Epoch 9/150, Train Acc: 9.13%, Val Acc: 11.12%, Test Acc: 10.80%\n",
            "Epoch 9/150, Train Loss: 3.9856, Val Loss: 3.9080, Test Loss: 3.9095\n",
            "Checkpoint saved at epoch 10: ./checkpoint_epoch_10.pth\n"
          ]
        },
        {
          "data": {
            "application/javascript": [
              "\n",
              "    async function download(id, filename, size) {\n",
              "      if (!google.colab.kernel.accessAllowed) {\n",
              "        return;\n",
              "      }\n",
              "      const div = document.createElement('div');\n",
              "      const label = document.createElement('label');\n",
              "      label.textContent = `Downloading \"${filename}\": `;\n",
              "      div.appendChild(label);\n",
              "      const progress = document.createElement('progress');\n",
              "      progress.max = size;\n",
              "      div.appendChild(progress);\n",
              "      document.body.appendChild(div);\n",
              "\n",
              "      const buffers = [];\n",
              "      let downloaded = 0;\n",
              "\n",
              "      const channel = await google.colab.kernel.comms.open(id);\n",
              "      // Send a message to notify the kernel that we're ready.\n",
              "      channel.send({})\n",
              "\n",
              "      for await (const message of channel.messages) {\n",
              "        // Send a message to notify the kernel that we're ready.\n",
              "        channel.send({})\n",
              "        if (message.buffers) {\n",
              "          for (const buffer of message.buffers) {\n",
              "            buffers.push(buffer);\n",
              "            downloaded += buffer.byteLength;\n",
              "            progress.value = downloaded;\n",
              "          }\n",
              "        }\n",
              "      }\n",
              "      const blob = new Blob(buffers, {type: 'application/binary'});\n",
              "      const a = document.createElement('a');\n",
              "      a.href = window.URL.createObjectURL(blob);\n",
              "      a.download = filename;\n",
              "      div.appendChild(a);\n",
              "      a.click();\n",
              "      div.remove();\n",
              "    }\n",
              "  "
            ],
            "text/plain": [
              "<IPython.core.display.Javascript object>"
            ]
          },
          "metadata": {},
          "output_type": "display_data"
        },
        {
          "data": {
            "application/javascript": [
              "download(\"download_75b6149d-852a-4d8f-9d56-b2dd02cececb\", \"checkpoint_epoch_10.pth\", 6530170)"
            ],
            "text/plain": [
              "<IPython.core.display.Javascript object>"
            ]
          },
          "metadata": {},
          "output_type": "display_data"
        },
        {
          "metadata": {
            "tags": null
          },
          "name": "stdout",
          "output_type": "stream",
          "text": [
            "Epoch 10/150, Train Acc: 9.93%, Val Acc: 11.96%, Test Acc: 11.51%\n",
            "Epoch 10/150, Train Loss: 3.9292, Val Loss: 3.8501, Test Loss: 3.8613\n",
            "Epoch 11/150, Train Acc: 10.79%, Val Acc: 13.08%, Test Acc: 12.30%\n",
            "Epoch 11/150, Train Loss: 3.8655, Val Loss: 3.7809, Test Loss: 3.7882\n",
            "Epoch 12/150, Train Acc: 12.06%, Val Acc: 14.20%, Test Acc: 14.39%\n",
            "Epoch 12/150, Train Loss: 3.7994, Val Loss: 3.7100, Test Loss: 3.7176\n",
            "Epoch 13/150, Train Acc: 13.12%, Val Acc: 14.76%, Test Acc: 14.92%\n",
            "Epoch 13/150, Train Loss: 3.7428, Val Loss: 3.6637, Test Loss: 3.6776\n",
            "Epoch 14/150, Train Acc: 13.94%, Val Acc: 15.39%, Test Acc: 15.12%\n",
            "Epoch 14/150, Train Loss: 3.6932, Val Loss: 3.6166, Test Loss: 3.6236\n",
            "Epoch 15/150, Train Acc: 14.73%, Val Acc: 16.45%, Test Acc: 16.31%\n",
            "Epoch 15/150, Train Loss: 3.6494, Val Loss: 3.5720, Test Loss: 3.5839\n",
            "Epoch 16/150, Train Acc: 15.68%, Val Acc: 17.02%, Test Acc: 16.88%\n",
            "Epoch 16/150, Train Loss: 3.5994, Val Loss: 3.5156, Test Loss: 3.5375\n",
            "Epoch 17/150, Train Acc: 16.45%, Val Acc: 18.06%, Test Acc: 17.90%\n",
            "Epoch 17/150, Train Loss: 3.5448, Val Loss: 3.4617, Test Loss: 3.4775\n",
            "Epoch 18/150, Train Acc: 17.07%, Val Acc: 18.39%, Test Acc: 18.63%\n",
            "Epoch 18/150, Train Loss: 3.5016, Val Loss: 3.4342, Test Loss: 3.4412\n",
            "Epoch 19/150, Train Acc: 17.86%, Val Acc: 19.19%, Test Acc: 19.37%\n",
            "Epoch 19/150, Train Loss: 3.4572, Val Loss: 3.3973, Test Loss: 3.4143\n",
            "Checkpoint saved at epoch 20: ./checkpoint_epoch_20.pth\n"
          ]
        },
        {
          "data": {
            "application/javascript": [
              "\n",
              "    async function download(id, filename, size) {\n",
              "      if (!google.colab.kernel.accessAllowed) {\n",
              "        return;\n",
              "      }\n",
              "      const div = document.createElement('div');\n",
              "      const label = document.createElement('label');\n",
              "      label.textContent = `Downloading \"${filename}\": `;\n",
              "      div.appendChild(label);\n",
              "      const progress = document.createElement('progress');\n",
              "      progress.max = size;\n",
              "      div.appendChild(progress);\n",
              "      document.body.appendChild(div);\n",
              "\n",
              "      const buffers = [];\n",
              "      let downloaded = 0;\n",
              "\n",
              "      const channel = await google.colab.kernel.comms.open(id);\n",
              "      // Send a message to notify the kernel that we're ready.\n",
              "      channel.send({})\n",
              "\n",
              "      for await (const message of channel.messages) {\n",
              "        // Send a message to notify the kernel that we're ready.\n",
              "        channel.send({})\n",
              "        if (message.buffers) {\n",
              "          for (const buffer of message.buffers) {\n",
              "            buffers.push(buffer);\n",
              "            downloaded += buffer.byteLength;\n",
              "            progress.value = downloaded;\n",
              "          }\n",
              "        }\n",
              "      }\n",
              "      const blob = new Blob(buffers, {type: 'application/binary'});\n",
              "      const a = document.createElement('a');\n",
              "      a.href = window.URL.createObjectURL(blob);\n",
              "      a.download = filename;\n",
              "      div.appendChild(a);\n",
              "      a.click();\n",
              "      div.remove();\n",
              "    }\n",
              "  "
            ],
            "text/plain": [
              "<IPython.core.display.Javascript object>"
            ]
          },
          "metadata": {},
          "output_type": "display_data"
        },
        {
          "data": {
            "application/javascript": [
              "download(\"download_cbab9735-b5dc-415d-97e0-2977c1384bb5\", \"checkpoint_epoch_20.pth\", 6530170)"
            ],
            "text/plain": [
              "<IPython.core.display.Javascript object>"
            ]
          },
          "metadata": {},
          "output_type": "display_data"
        },
        {
          "metadata": {
            "tags": null
          },
          "name": "stdout",
          "output_type": "stream",
          "text": [
            "Epoch 20/150, Train Acc: 18.55%, Val Acc: 19.75%, Test Acc: 19.62%\n",
            "Epoch 20/150, Train Loss: 3.4124, Val Loss: 3.3439, Test Loss: 3.3664\n",
            "Epoch 21/150, Train Acc: 19.39%, Val Acc: 20.80%, Test Acc: 20.44%\n",
            "Epoch 21/150, Train Loss: 3.3720, Val Loss: 3.3141, Test Loss: 3.3456\n",
            "Epoch 22/150, Train Acc: 20.05%, Val Acc: 21.73%, Test Acc: 21.61%\n",
            "Epoch 22/150, Train Loss: 3.3339, Val Loss: 3.2584, Test Loss: 3.2773\n",
            "Epoch 23/150, Train Acc: 20.71%, Val Acc: 21.55%, Test Acc: 21.48%\n",
            "Epoch 23/150, Train Loss: 3.3015, Val Loss: 3.2531, Test Loss: 3.2787\n",
            "Epoch 24/150, Train Acc: 21.35%, Val Acc: 22.86%, Test Acc: 23.10%\n",
            "Epoch 24/150, Train Loss: 3.2590, Val Loss: 3.1965, Test Loss: 3.2191\n",
            "Epoch 25/150, Train Acc: 22.00%, Val Acc: 23.75%, Test Acc: 23.62%\n",
            "Epoch 25/150, Train Loss: 3.2242, Val Loss: 3.1555, Test Loss: 3.1855\n",
            "Epoch 26/150, Train Acc: 22.59%, Val Acc: 23.78%, Test Acc: 23.32%\n",
            "Epoch 26/150, Train Loss: 3.1987, Val Loss: 3.1656, Test Loss: 3.1908\n",
            "Epoch 27/150, Train Acc: 23.04%, Val Acc: 24.53%, Test Acc: 23.77%\n",
            "Epoch 27/150, Train Loss: 3.1703, Val Loss: 3.1410, Test Loss: 3.1712\n",
            "Epoch 28/150, Train Acc: 23.36%, Val Acc: 25.23%, Test Acc: 24.74%\n",
            "Epoch 28/150, Train Loss: 3.1376, Val Loss: 3.0839, Test Loss: 3.1072\n",
            "Epoch 29/150, Train Acc: 23.81%, Val Acc: 25.37%, Test Acc: 25.16%\n",
            "Epoch 29/150, Train Loss: 3.1176, Val Loss: 3.0603, Test Loss: 3.0813\n",
            "Checkpoint saved at epoch 30: ./checkpoint_epoch_30.pth\n"
          ]
        },
        {
          "data": {
            "application/javascript": [
              "\n",
              "    async function download(id, filename, size) {\n",
              "      if (!google.colab.kernel.accessAllowed) {\n",
              "        return;\n",
              "      }\n",
              "      const div = document.createElement('div');\n",
              "      const label = document.createElement('label');\n",
              "      label.textContent = `Downloading \"${filename}\": `;\n",
              "      div.appendChild(label);\n",
              "      const progress = document.createElement('progress');\n",
              "      progress.max = size;\n",
              "      div.appendChild(progress);\n",
              "      document.body.appendChild(div);\n",
              "\n",
              "      const buffers = [];\n",
              "      let downloaded = 0;\n",
              "\n",
              "      const channel = await google.colab.kernel.comms.open(id);\n",
              "      // Send a message to notify the kernel that we're ready.\n",
              "      channel.send({})\n",
              "\n",
              "      for await (const message of channel.messages) {\n",
              "        // Send a message to notify the kernel that we're ready.\n",
              "        channel.send({})\n",
              "        if (message.buffers) {\n",
              "          for (const buffer of message.buffers) {\n",
              "            buffers.push(buffer);\n",
              "            downloaded += buffer.byteLength;\n",
              "            progress.value = downloaded;\n",
              "          }\n",
              "        }\n",
              "      }\n",
              "      const blob = new Blob(buffers, {type: 'application/binary'});\n",
              "      const a = document.createElement('a');\n",
              "      a.href = window.URL.createObjectURL(blob);\n",
              "      a.download = filename;\n",
              "      div.appendChild(a);\n",
              "      a.click();\n",
              "      div.remove();\n",
              "    }\n",
              "  "
            ],
            "text/plain": [
              "<IPython.core.display.Javascript object>"
            ]
          },
          "metadata": {},
          "output_type": "display_data"
        },
        {
          "data": {
            "application/javascript": [
              "download(\"download_03eca27a-0eb7-491e-97d0-1bc27f4fb5e6\", \"checkpoint_epoch_30.pth\", 6530170)"
            ],
            "text/plain": [
              "<IPython.core.display.Javascript object>"
            ]
          },
          "metadata": {},
          "output_type": "display_data"
        },
        {
          "metadata": {
            "tags": null
          },
          "name": "stdout",
          "output_type": "stream",
          "text": [
            "Epoch 30/150, Train Acc: 23.98%, Val Acc: 25.94%, Test Acc: 25.70%\n",
            "Epoch 30/150, Train Loss: 3.0959, Val Loss: 3.0465, Test Loss: 3.0638\n",
            "Epoch 31/150, Train Acc: 24.95%, Val Acc: 26.54%, Test Acc: 26.33%\n",
            "Epoch 31/150, Train Loss: 3.0671, Val Loss: 3.0131, Test Loss: 3.0353\n",
            "Epoch 32/150, Train Acc: 25.36%, Val Acc: 26.53%, Test Acc: 26.16%\n",
            "Epoch 32/150, Train Loss: 3.0437, Val Loss: 3.0097, Test Loss: 3.0292\n",
            "Epoch 33/150, Train Acc: 25.73%, Val Acc: 27.54%, Test Acc: 26.87%\n",
            "Epoch 33/150, Train Loss: 3.0165, Val Loss: 2.9819, Test Loss: 2.9965\n",
            "Epoch 34/150, Train Acc: 26.37%, Val Acc: 27.62%, Test Acc: 27.23%\n",
            "Epoch 34/150, Train Loss: 2.9947, Val Loss: 2.9576, Test Loss: 2.9703\n",
            "Epoch 35/150, Train Acc: 26.48%, Val Acc: 27.46%, Test Acc: 27.27%\n",
            "Epoch 35/150, Train Loss: 2.9725, Val Loss: 2.9460, Test Loss: 2.9519\n",
            "Epoch 36/150, Train Acc: 26.61%, Val Acc: 28.50%, Test Acc: 27.87%\n",
            "Epoch 36/150, Train Loss: 2.9591, Val Loss: 2.9258, Test Loss: 2.9359\n",
            "Epoch 37/150, Train Acc: 27.61%, Val Acc: 28.25%, Test Acc: 28.42%\n",
            "Epoch 37/150, Train Loss: 2.9191, Val Loss: 2.9168, Test Loss: 2.9261\n",
            "Epoch 38/150, Train Acc: 27.80%, Val Acc: 27.96%, Test Acc: 27.77%\n",
            "Epoch 38/150, Train Loss: 2.9051, Val Loss: 2.9155, Test Loss: 2.9291\n",
            "Epoch 39/150, Train Acc: 28.25%, Val Acc: 29.40%, Test Acc: 29.57%\n",
            "Epoch 39/150, Train Loss: 2.8859, Val Loss: 2.8476, Test Loss: 2.8595\n",
            "Checkpoint saved at epoch 40: ./checkpoint_epoch_40.pth\n"
          ]
        },
        {
          "data": {
            "application/javascript": [
              "\n",
              "    async function download(id, filename, size) {\n",
              "      if (!google.colab.kernel.accessAllowed) {\n",
              "        return;\n",
              "      }\n",
              "      const div = document.createElement('div');\n",
              "      const label = document.createElement('label');\n",
              "      label.textContent = `Downloading \"${filename}\": `;\n",
              "      div.appendChild(label);\n",
              "      const progress = document.createElement('progress');\n",
              "      progress.max = size;\n",
              "      div.appendChild(progress);\n",
              "      document.body.appendChild(div);\n",
              "\n",
              "      const buffers = [];\n",
              "      let downloaded = 0;\n",
              "\n",
              "      const channel = await google.colab.kernel.comms.open(id);\n",
              "      // Send a message to notify the kernel that we're ready.\n",
              "      channel.send({})\n",
              "\n",
              "      for await (const message of channel.messages) {\n",
              "        // Send a message to notify the kernel that we're ready.\n",
              "        channel.send({})\n",
              "        if (message.buffers) {\n",
              "          for (const buffer of message.buffers) {\n",
              "            buffers.push(buffer);\n",
              "            downloaded += buffer.byteLength;\n",
              "            progress.value = downloaded;\n",
              "          }\n",
              "        }\n",
              "      }\n",
              "      const blob = new Blob(buffers, {type: 'application/binary'});\n",
              "      const a = document.createElement('a');\n",
              "      a.href = window.URL.createObjectURL(blob);\n",
              "      a.download = filename;\n",
              "      div.appendChild(a);\n",
              "      a.click();\n",
              "      div.remove();\n",
              "    }\n",
              "  "
            ],
            "text/plain": [
              "<IPython.core.display.Javascript object>"
            ]
          },
          "metadata": {},
          "output_type": "display_data"
        },
        {
          "data": {
            "application/javascript": [
              "download(\"download_97e13d12-6551-4e30-ae3b-75a5eea0aa52\", \"checkpoint_epoch_40.pth\", 6530170)"
            ],
            "text/plain": [
              "<IPython.core.display.Javascript object>"
            ]
          },
          "metadata": {},
          "output_type": "display_data"
        },
        {
          "metadata": {
            "tags": null
          },
          "name": "stdout",
          "output_type": "stream",
          "text": [
            "Epoch 40/150, Train Acc: 28.61%, Val Acc: 29.45%, Test Acc: 29.36%\n",
            "Epoch 40/150, Train Loss: 2.8714, Val Loss: 2.8600, Test Loss: 2.8682\n",
            "Epoch 41/150, Train Acc: 29.10%, Val Acc: 29.65%, Test Acc: 30.33%\n",
            "Epoch 41/150, Train Loss: 2.8468, Val Loss: 2.8219, Test Loss: 2.8206\n",
            "Epoch 42/150, Train Acc: 29.37%, Val Acc: 29.81%, Test Acc: 29.69%\n",
            "Epoch 42/150, Train Loss: 2.8297, Val Loss: 2.8301, Test Loss: 2.8279\n",
            "Epoch 43/150, Train Acc: 30.03%, Val Acc: 30.60%, Test Acc: 30.95%\n",
            "Epoch 43/150, Train Loss: 2.8040, Val Loss: 2.7999, Test Loss: 2.8082\n",
            "Epoch 44/150, Train Acc: 30.32%, Val Acc: 31.48%, Test Acc: 31.05%\n",
            "Epoch 44/150, Train Loss: 2.7963, Val Loss: 2.7668, Test Loss: 2.7695\n",
            "Epoch 45/150, Train Acc: 30.21%, Val Acc: 31.32%, Test Acc: 31.21%\n",
            "Epoch 45/150, Train Loss: 2.7754, Val Loss: 2.7563, Test Loss: 2.7615\n",
            "Epoch 46/150, Train Acc: 30.71%, Val Acc: 31.30%, Test Acc: 31.47%\n",
            "Epoch 46/150, Train Loss: 2.7571, Val Loss: 2.7571, Test Loss: 2.7555\n",
            "Epoch 47/150, Train Acc: 31.15%, Val Acc: 31.67%, Test Acc: 31.84%\n",
            "Epoch 47/150, Train Loss: 2.7381, Val Loss: 2.7349, Test Loss: 2.7361\n",
            "Epoch 48/150, Train Acc: 31.32%, Val Acc: 32.07%, Test Acc: 32.41%\n",
            "Epoch 48/150, Train Loss: 2.7243, Val Loss: 2.7277, Test Loss: 2.7204\n",
            "Epoch 49/150, Train Acc: 32.11%, Val Acc: 32.49%, Test Acc: 32.57%\n",
            "Epoch 49/150, Train Loss: 2.7000, Val Loss: 2.7098, Test Loss: 2.7016\n",
            "Checkpoint saved at epoch 50: ./checkpoint_epoch_50.pth\n"
          ]
        },
        {
          "data": {
            "application/javascript": [
              "\n",
              "    async function download(id, filename, size) {\n",
              "      if (!google.colab.kernel.accessAllowed) {\n",
              "        return;\n",
              "      }\n",
              "      const div = document.createElement('div');\n",
              "      const label = document.createElement('label');\n",
              "      label.textContent = `Downloading \"${filename}\": `;\n",
              "      div.appendChild(label);\n",
              "      const progress = document.createElement('progress');\n",
              "      progress.max = size;\n",
              "      div.appendChild(progress);\n",
              "      document.body.appendChild(div);\n",
              "\n",
              "      const buffers = [];\n",
              "      let downloaded = 0;\n",
              "\n",
              "      const channel = await google.colab.kernel.comms.open(id);\n",
              "      // Send a message to notify the kernel that we're ready.\n",
              "      channel.send({})\n",
              "\n",
              "      for await (const message of channel.messages) {\n",
              "        // Send a message to notify the kernel that we're ready.\n",
              "        channel.send({})\n",
              "        if (message.buffers) {\n",
              "          for (const buffer of message.buffers) {\n",
              "            buffers.push(buffer);\n",
              "            downloaded += buffer.byteLength;\n",
              "            progress.value = downloaded;\n",
              "          }\n",
              "        }\n",
              "      }\n",
              "      const blob = new Blob(buffers, {type: 'application/binary'});\n",
              "      const a = document.createElement('a');\n",
              "      a.href = window.URL.createObjectURL(blob);\n",
              "      a.download = filename;\n",
              "      div.appendChild(a);\n",
              "      a.click();\n",
              "      div.remove();\n",
              "    }\n",
              "  "
            ],
            "text/plain": [
              "<IPython.core.display.Javascript object>"
            ]
          },
          "metadata": {},
          "output_type": "display_data"
        },
        {
          "data": {
            "application/javascript": [
              "download(\"download_f2a853dd-1af4-4bae-944e-d78d24ef7443\", \"checkpoint_epoch_50.pth\", 6530170)"
            ],
            "text/plain": [
              "<IPython.core.display.Javascript object>"
            ]
          },
          "metadata": {},
          "output_type": "display_data"
        },
        {
          "metadata": {
            "tags": null
          },
          "name": "stdout",
          "output_type": "stream",
          "text": [
            "Epoch 50/150, Train Acc: 32.29%, Val Acc: 32.75%, Test Acc: 32.69%\n",
            "Epoch 50/150, Train Loss: 2.6892, Val Loss: 2.7022, Test Loss: 2.7013\n",
            "Epoch 51/150, Train Acc: 32.72%, Val Acc: 32.19%, Test Acc: 32.93%\n",
            "Epoch 51/150, Train Loss: 2.6692, Val Loss: 2.7019, Test Loss: 2.6898\n",
            "Epoch 52/150, Train Acc: 32.90%, Val Acc: 32.98%, Test Acc: 33.60%\n",
            "Epoch 52/150, Train Loss: 2.6547, Val Loss: 2.6778, Test Loss: 2.6691\n",
            "Epoch 53/150, Train Acc: 33.06%, Val Acc: 33.46%, Test Acc: 33.56%\n",
            "Epoch 53/150, Train Loss: 2.6424, Val Loss: 2.6545, Test Loss: 2.6546\n",
            "Epoch 54/150, Train Acc: 33.60%, Val Acc: 33.53%, Test Acc: 34.35%\n",
            "Epoch 54/150, Train Loss: 2.6271, Val Loss: 2.6538, Test Loss: 2.6470\n",
            "Epoch 55/150, Train Acc: 34.11%, Val Acc: 34.45%, Test Acc: 34.80%\n",
            "Epoch 55/150, Train Loss: 2.5970, Val Loss: 2.6231, Test Loss: 2.6066\n",
            "Epoch 56/150, Train Acc: 33.99%, Val Acc: 34.39%, Test Acc: 34.63%\n",
            "Epoch 56/150, Train Loss: 2.5863, Val Loss: 2.6179, Test Loss: 2.6011\n",
            "Epoch 57/150, Train Acc: 34.86%, Val Acc: 34.26%, Test Acc: 34.62%\n",
            "Epoch 57/150, Train Loss: 2.5627, Val Loss: 2.6008, Test Loss: 2.5848\n",
            "Epoch 58/150, Train Acc: 34.85%, Val Acc: 34.77%, Test Acc: 35.58%\n",
            "Epoch 58/150, Train Loss: 2.5539, Val Loss: 2.5762, Test Loss: 2.5575\n",
            "Epoch 59/150, Train Acc: 35.26%, Val Acc: 34.52%, Test Acc: 35.68%\n",
            "Epoch 59/150, Train Loss: 2.5327, Val Loss: 2.5761, Test Loss: 2.5511\n",
            "Checkpoint saved at epoch 60: ./checkpoint_epoch_60.pth\n"
          ]
        },
        {
          "data": {
            "application/javascript": [
              "\n",
              "    async function download(id, filename, size) {\n",
              "      if (!google.colab.kernel.accessAllowed) {\n",
              "        return;\n",
              "      }\n",
              "      const div = document.createElement('div');\n",
              "      const label = document.createElement('label');\n",
              "      label.textContent = `Downloading \"${filename}\": `;\n",
              "      div.appendChild(label);\n",
              "      const progress = document.createElement('progress');\n",
              "      progress.max = size;\n",
              "      div.appendChild(progress);\n",
              "      document.body.appendChild(div);\n",
              "\n",
              "      const buffers = [];\n",
              "      let downloaded = 0;\n",
              "\n",
              "      const channel = await google.colab.kernel.comms.open(id);\n",
              "      // Send a message to notify the kernel that we're ready.\n",
              "      channel.send({})\n",
              "\n",
              "      for await (const message of channel.messages) {\n",
              "        // Send a message to notify the kernel that we're ready.\n",
              "        channel.send({})\n",
              "        if (message.buffers) {\n",
              "          for (const buffer of message.buffers) {\n",
              "            buffers.push(buffer);\n",
              "            downloaded += buffer.byteLength;\n",
              "            progress.value = downloaded;\n",
              "          }\n",
              "        }\n",
              "      }\n",
              "      const blob = new Blob(buffers, {type: 'application/binary'});\n",
              "      const a = document.createElement('a');\n",
              "      a.href = window.URL.createObjectURL(blob);\n",
              "      a.download = filename;\n",
              "      div.appendChild(a);\n",
              "      a.click();\n",
              "      div.remove();\n",
              "    }\n",
              "  "
            ],
            "text/plain": [
              "<IPython.core.display.Javascript object>"
            ]
          },
          "metadata": {},
          "output_type": "display_data"
        },
        {
          "data": {
            "application/javascript": [
              "download(\"download_ec35f9b8-4771-4a85-b78c-88251be41558\", \"checkpoint_epoch_60.pth\", 6530170)"
            ],
            "text/plain": [
              "<IPython.core.display.Javascript object>"
            ]
          },
          "metadata": {},
          "output_type": "display_data"
        },
        {
          "metadata": {
            "tags": null
          },
          "name": "stdout",
          "output_type": "stream",
          "text": [
            "Epoch 60/150, Train Acc: 35.68%, Val Acc: 35.15%, Test Acc: 35.64%\n",
            "Epoch 60/150, Train Loss: 2.5177, Val Loss: 2.5686, Test Loss: 2.5420\n",
            "Epoch 61/150, Train Acc: 35.91%, Val Acc: 35.01%, Test Acc: 35.69%\n",
            "Epoch 61/150, Train Loss: 2.5014, Val Loss: 2.5790, Test Loss: 2.5527\n",
            "Epoch 62/150, Train Acc: 36.31%, Val Acc: 36.05%, Test Acc: 35.94%\n",
            "Epoch 62/150, Train Loss: 2.4832, Val Loss: 2.5386, Test Loss: 2.5245\n",
            "Epoch 63/150, Train Acc: 36.77%, Val Acc: 35.38%, Test Acc: 35.86%\n",
            "Epoch 63/150, Train Loss: 2.4736, Val Loss: 2.5851, Test Loss: 2.5604\n",
            "Epoch 64/150, Train Acc: 36.35%, Val Acc: 35.90%, Test Acc: 36.65%\n",
            "Epoch 64/150, Train Loss: 2.4706, Val Loss: 2.5423, Test Loss: 2.5141\n",
            "Epoch 65/150, Train Acc: 36.90%, Val Acc: 36.23%, Test Acc: 36.82%\n",
            "Epoch 65/150, Train Loss: 2.4510, Val Loss: 2.5220, Test Loss: 2.4986\n",
            "Epoch 66/150, Train Acc: 37.29%, Val Acc: 36.20%, Test Acc: 36.73%\n",
            "Epoch 66/150, Train Loss: 2.4326, Val Loss: 2.5095, Test Loss: 2.4938\n",
            "Epoch 67/150, Train Acc: 37.59%, Val Acc: 36.14%, Test Acc: 36.48%\n",
            "Epoch 67/150, Train Loss: 2.4212, Val Loss: 2.5098, Test Loss: 2.4943\n",
            "Epoch 68/150, Train Acc: 37.96%, Val Acc: 36.63%, Test Acc: 36.96%\n",
            "Epoch 68/150, Train Loss: 2.4124, Val Loss: 2.4970, Test Loss: 2.4749\n",
            "Epoch 69/150, Train Acc: 38.12%, Val Acc: 37.09%, Test Acc: 37.74%\n",
            "Epoch 69/150, Train Loss: 2.3946, Val Loss: 2.4648, Test Loss: 2.4526\n",
            "Checkpoint saved at epoch 70: ./checkpoint_epoch_70.pth\n"
          ]
        },
        {
          "data": {
            "application/javascript": [
              "\n",
              "    async function download(id, filename, size) {\n",
              "      if (!google.colab.kernel.accessAllowed) {\n",
              "        return;\n",
              "      }\n",
              "      const div = document.createElement('div');\n",
              "      const label = document.createElement('label');\n",
              "      label.textContent = `Downloading \"${filename}\": `;\n",
              "      div.appendChild(label);\n",
              "      const progress = document.createElement('progress');\n",
              "      progress.max = size;\n",
              "      div.appendChild(progress);\n",
              "      document.body.appendChild(div);\n",
              "\n",
              "      const buffers = [];\n",
              "      let downloaded = 0;\n",
              "\n",
              "      const channel = await google.colab.kernel.comms.open(id);\n",
              "      // Send a message to notify the kernel that we're ready.\n",
              "      channel.send({})\n",
              "\n",
              "      for await (const message of channel.messages) {\n",
              "        // Send a message to notify the kernel that we're ready.\n",
              "        channel.send({})\n",
              "        if (message.buffers) {\n",
              "          for (const buffer of message.buffers) {\n",
              "            buffers.push(buffer);\n",
              "            downloaded += buffer.byteLength;\n",
              "            progress.value = downloaded;\n",
              "          }\n",
              "        }\n",
              "      }\n",
              "      const blob = new Blob(buffers, {type: 'application/binary'});\n",
              "      const a = document.createElement('a');\n",
              "      a.href = window.URL.createObjectURL(blob);\n",
              "      a.download = filename;\n",
              "      div.appendChild(a);\n",
              "      a.click();\n",
              "      div.remove();\n",
              "    }\n",
              "  "
            ],
            "text/plain": [
              "<IPython.core.display.Javascript object>"
            ]
          },
          "metadata": {},
          "output_type": "display_data"
        },
        {
          "data": {
            "application/javascript": [
              "download(\"download_05e06c23-033a-4ba6-b42e-c2ea12a51928\", \"checkpoint_epoch_70.pth\", 6530170)"
            ],
            "text/plain": [
              "<IPython.core.display.Javascript object>"
            ]
          },
          "metadata": {},
          "output_type": "display_data"
        },
        {
          "metadata": {
            "tags": null
          },
          "name": "stdout",
          "output_type": "stream",
          "text": [
            "Epoch 70/150, Train Acc: 38.47%, Val Acc: 36.81%, Test Acc: 37.26%\n",
            "Epoch 70/150, Train Loss: 2.3844, Val Loss: 2.4889, Test Loss: 2.4577\n",
            "Epoch 71/150, Train Acc: 38.56%, Val Acc: 37.35%, Test Acc: 37.68%\n",
            "Epoch 71/150, Train Loss: 2.3699, Val Loss: 2.4590, Test Loss: 2.4438\n",
            "Epoch 72/150, Train Acc: 38.93%, Val Acc: 37.42%, Test Acc: 38.06%\n",
            "Epoch 72/150, Train Loss: 2.3676, Val Loss: 2.4558, Test Loss: 2.4302\n",
            "Epoch 73/150, Train Acc: 39.20%, Val Acc: 37.91%, Test Acc: 38.40%\n",
            "Epoch 73/150, Train Loss: 2.3577, Val Loss: 2.4479, Test Loss: 2.4288\n",
            "Epoch 74/150, Train Acc: 39.22%, Val Acc: 37.79%, Test Acc: 38.08%\n",
            "Epoch 74/150, Train Loss: 2.3416, Val Loss: 2.4487, Test Loss: 2.4292\n",
            "Epoch 75/150, Train Acc: 39.51%, Val Acc: 38.03%, Test Acc: 38.61%\n",
            "Epoch 75/150, Train Loss: 2.3283, Val Loss: 2.4349, Test Loss: 2.4254\n",
            "Epoch 76/150, Train Acc: 39.63%, Val Acc: 38.65%, Test Acc: 38.50%\n",
            "Epoch 76/150, Train Loss: 2.3203, Val Loss: 2.4317, Test Loss: 2.4139\n",
            "Epoch 77/150, Train Acc: 40.12%, Val Acc: 38.43%, Test Acc: 39.18%\n",
            "Epoch 77/150, Train Loss: 2.3061, Val Loss: 2.4068, Test Loss: 2.3933\n",
            "Epoch 78/150, Train Acc: 40.34%, Val Acc: 37.96%, Test Acc: 39.34%\n",
            "Epoch 78/150, Train Loss: 2.3009, Val Loss: 2.4251, Test Loss: 2.3977\n",
            "Epoch 79/150, Train Acc: 40.54%, Val Acc: 38.29%, Test Acc: 39.19%\n",
            "Epoch 79/150, Train Loss: 2.2859, Val Loss: 2.4209, Test Loss: 2.3944\n",
            "Checkpoint saved at epoch 80: ./checkpoint_epoch_80.pth\n"
          ]
        },
        {
          "data": {
            "application/javascript": [
              "\n",
              "    async function download(id, filename, size) {\n",
              "      if (!google.colab.kernel.accessAllowed) {\n",
              "        return;\n",
              "      }\n",
              "      const div = document.createElement('div');\n",
              "      const label = document.createElement('label');\n",
              "      label.textContent = `Downloading \"${filename}\": `;\n",
              "      div.appendChild(label);\n",
              "      const progress = document.createElement('progress');\n",
              "      progress.max = size;\n",
              "      div.appendChild(progress);\n",
              "      document.body.appendChild(div);\n",
              "\n",
              "      const buffers = [];\n",
              "      let downloaded = 0;\n",
              "\n",
              "      const channel = await google.colab.kernel.comms.open(id);\n",
              "      // Send a message to notify the kernel that we're ready.\n",
              "      channel.send({})\n",
              "\n",
              "      for await (const message of channel.messages) {\n",
              "        // Send a message to notify the kernel that we're ready.\n",
              "        channel.send({})\n",
              "        if (message.buffers) {\n",
              "          for (const buffer of message.buffers) {\n",
              "            buffers.push(buffer);\n",
              "            downloaded += buffer.byteLength;\n",
              "            progress.value = downloaded;\n",
              "          }\n",
              "        }\n",
              "      }\n",
              "      const blob = new Blob(buffers, {type: 'application/binary'});\n",
              "      const a = document.createElement('a');\n",
              "      a.href = window.URL.createObjectURL(blob);\n",
              "      a.download = filename;\n",
              "      div.appendChild(a);\n",
              "      a.click();\n",
              "      div.remove();\n",
              "    }\n",
              "  "
            ],
            "text/plain": [
              "<IPython.core.display.Javascript object>"
            ]
          },
          "metadata": {},
          "output_type": "display_data"
        },
        {
          "data": {
            "application/javascript": [
              "download(\"download_048d3a39-990d-4dbd-a247-4f8dedfc9c0d\", \"checkpoint_epoch_80.pth\", 6530170)"
            ],
            "text/plain": [
              "<IPython.core.display.Javascript object>"
            ]
          },
          "metadata": {},
          "output_type": "display_data"
        },
        {
          "output_type": "stream",
          "name": "stdout",
          "text": [
            "Epoch 80/150, Train Acc: 40.57%, Val Acc: 38.76%, Test Acc: 39.48%\n",
            "Epoch 80/150, Train Loss: 2.2761, Val Loss: 2.4124, Test Loss: 2.3836\n",
            "Epoch 81/150, Train Acc: 40.84%, Val Acc: 38.68%, Test Acc: 38.97%\n",
            "Epoch 81/150, Train Loss: 2.2721, Val Loss: 2.4110, Test Loss: 2.3969\n",
            "Epoch 82/150, Train Acc: 41.01%, Val Acc: 38.29%, Test Acc: 39.41%\n",
            "Epoch 82/150, Train Loss: 2.2648, Val Loss: 2.4175, Test Loss: 2.3923\n",
            "Epoch 83/150, Train Acc: 41.21%, Val Acc: 39.83%, Test Acc: 40.20%\n",
            "Epoch 83/150, Train Loss: 2.2513, Val Loss: 2.3545, Test Loss: 2.3316\n",
            "Epoch 84/150, Train Acc: 41.36%, Val Acc: 39.00%, Test Acc: 39.52%\n",
            "Epoch 84/150, Train Loss: 2.2444, Val Loss: 2.3966, Test Loss: 2.3795\n",
            "Epoch 85/150, Train Acc: 41.85%, Val Acc: 39.29%, Test Acc: 39.99%\n",
            "Epoch 85/150, Train Loss: 2.2340, Val Loss: 2.3673, Test Loss: 2.3447\n",
            "Epoch 86/150, Train Acc: 42.04%, Val Acc: 40.14%, Test Acc: 40.16%\n",
            "Epoch 86/150, Train Loss: 2.2206, Val Loss: 2.3650, Test Loss: 2.3409\n",
            "Epoch 87/150, Train Acc: 41.63%, Val Acc: 39.38%, Test Acc: 40.34%\n",
            "Epoch 87/150, Train Loss: 2.2231, Val Loss: 2.3723, Test Loss: 2.3479\n",
            "Epoch 88/150, Train Acc: 42.16%, Val Acc: 39.77%, Test Acc: 40.57%\n",
            "Epoch 88/150, Train Loss: 2.2081, Val Loss: 2.3618, Test Loss: 2.3361\n",
            "Epoch 89/150, Train Acc: 42.33%, Val Acc: 40.39%, Test Acc: 41.08%\n",
            "Epoch 89/150, Train Loss: 2.2080, Val Loss: 2.3404, Test Loss: 2.3199\n",
            "Checkpoint saved at epoch 90: ./checkpoint_epoch_90.pth\n"
          ]
        },
        {
          "output_type": "display_data",
          "data": {
            "text/plain": [
              "<IPython.core.display.Javascript object>"
            ],
            "application/javascript": [
              "\n",
              "    async function download(id, filename, size) {\n",
              "      if (!google.colab.kernel.accessAllowed) {\n",
              "        return;\n",
              "      }\n",
              "      const div = document.createElement('div');\n",
              "      const label = document.createElement('label');\n",
              "      label.textContent = `Downloading \"${filename}\": `;\n",
              "      div.appendChild(label);\n",
              "      const progress = document.createElement('progress');\n",
              "      progress.max = size;\n",
              "      div.appendChild(progress);\n",
              "      document.body.appendChild(div);\n",
              "\n",
              "      const buffers = [];\n",
              "      let downloaded = 0;\n",
              "\n",
              "      const channel = await google.colab.kernel.comms.open(id);\n",
              "      // Send a message to notify the kernel that we're ready.\n",
              "      channel.send({})\n",
              "\n",
              "      for await (const message of channel.messages) {\n",
              "        // Send a message to notify the kernel that we're ready.\n",
              "        channel.send({})\n",
              "        if (message.buffers) {\n",
              "          for (const buffer of message.buffers) {\n",
              "            buffers.push(buffer);\n",
              "            downloaded += buffer.byteLength;\n",
              "            progress.value = downloaded;\n",
              "          }\n",
              "        }\n",
              "      }\n",
              "      const blob = new Blob(buffers, {type: 'application/binary'});\n",
              "      const a = document.createElement('a');\n",
              "      a.href = window.URL.createObjectURL(blob);\n",
              "      a.download = filename;\n",
              "      div.appendChild(a);\n",
              "      a.click();\n",
              "      div.remove();\n",
              "    }\n",
              "  "
            ]
          },
          "metadata": {}
        },
        {
          "output_type": "display_data",
          "data": {
            "text/plain": [
              "<IPython.core.display.Javascript object>"
            ],
            "application/javascript": [
              "download(\"download_bbcb3e4e-9b52-4e06-bc62-7a6be88b0dfb\", \"checkpoint_epoch_90.pth\", 6530170)"
            ]
          },
          "metadata": {}
        },
        {
          "output_type": "stream",
          "name": "stdout",
          "text": [
            "Epoch 90/150, Train Acc: 42.53%, Val Acc: 40.25%, Test Acc: 40.64%\n",
            "Epoch 90/150, Train Loss: 2.1972, Val Loss: 2.3369, Test Loss: 2.3125\n",
            "Epoch 91/150, Train Acc: 42.70%, Val Acc: 40.19%, Test Acc: 40.63%\n",
            "Epoch 91/150, Train Loss: 2.1844, Val Loss: 2.3568, Test Loss: 2.3393\n",
            "Epoch 92/150, Train Acc: 43.01%, Val Acc: 40.83%, Test Acc: 40.91%\n",
            "Epoch 92/150, Train Loss: 2.1683, Val Loss: 2.3292, Test Loss: 2.2980\n",
            "Epoch 93/150, Train Acc: 43.33%, Val Acc: 40.51%, Test Acc: 41.21%\n",
            "Epoch 93/150, Train Loss: 2.1691, Val Loss: 2.3271, Test Loss: 2.2970\n",
            "Epoch 94/150, Train Acc: 43.22%, Val Acc: 40.75%, Test Acc: 41.26%\n",
            "Epoch 94/150, Train Loss: 2.1633, Val Loss: 2.3234, Test Loss: 2.2957\n",
            "Epoch 95/150, Train Acc: 43.26%, Val Acc: 40.81%, Test Acc: 41.15%\n",
            "Epoch 95/150, Train Loss: 2.1517, Val Loss: 2.3177, Test Loss: 2.2875\n",
            "Epoch 96/150, Train Acc: 43.40%, Val Acc: 41.14%, Test Acc: 41.23%\n",
            "Epoch 96/150, Train Loss: 2.1447, Val Loss: 2.3233, Test Loss: 2.2933\n",
            "Epoch 97/150, Train Acc: 43.81%, Val Acc: 40.67%, Test Acc: 41.49%\n",
            "Epoch 97/150, Train Loss: 2.1410, Val Loss: 2.3183, Test Loss: 2.2943\n",
            "Epoch 98/150, Train Acc: 43.77%, Val Acc: 40.80%, Test Acc: 41.36%\n",
            "Epoch 98/150, Train Loss: 2.1305, Val Loss: 2.3152, Test Loss: 2.2945\n",
            "Epoch 99/150, Train Acc: 43.90%, Val Acc: 40.62%, Test Acc: 41.39%\n",
            "Epoch 99/150, Train Loss: 2.1235, Val Loss: 2.3110, Test Loss: 2.2908\n",
            "Checkpoint saved at epoch 100: ./checkpoint_epoch_100.pth\n"
          ]
        },
        {
          "output_type": "display_data",
          "data": {
            "text/plain": [
              "<IPython.core.display.Javascript object>"
            ],
            "application/javascript": [
              "\n",
              "    async function download(id, filename, size) {\n",
              "      if (!google.colab.kernel.accessAllowed) {\n",
              "        return;\n",
              "      }\n",
              "      const div = document.createElement('div');\n",
              "      const label = document.createElement('label');\n",
              "      label.textContent = `Downloading \"${filename}\": `;\n",
              "      div.appendChild(label);\n",
              "      const progress = document.createElement('progress');\n",
              "      progress.max = size;\n",
              "      div.appendChild(progress);\n",
              "      document.body.appendChild(div);\n",
              "\n",
              "      const buffers = [];\n",
              "      let downloaded = 0;\n",
              "\n",
              "      const channel = await google.colab.kernel.comms.open(id);\n",
              "      // Send a message to notify the kernel that we're ready.\n",
              "      channel.send({})\n",
              "\n",
              "      for await (const message of channel.messages) {\n",
              "        // Send a message to notify the kernel that we're ready.\n",
              "        channel.send({})\n",
              "        if (message.buffers) {\n",
              "          for (const buffer of message.buffers) {\n",
              "            buffers.push(buffer);\n",
              "            downloaded += buffer.byteLength;\n",
              "            progress.value = downloaded;\n",
              "          }\n",
              "        }\n",
              "      }\n",
              "      const blob = new Blob(buffers, {type: 'application/binary'});\n",
              "      const a = document.createElement('a');\n",
              "      a.href = window.URL.createObjectURL(blob);\n",
              "      a.download = filename;\n",
              "      div.appendChild(a);\n",
              "      a.click();\n",
              "      div.remove();\n",
              "    }\n",
              "  "
            ]
          },
          "metadata": {}
        },
        {
          "output_type": "display_data",
          "data": {
            "text/plain": [
              "<IPython.core.display.Javascript object>"
            ],
            "application/javascript": [
              "download(\"download_a08042eb-153f-4a8e-aa34-f0e3d9cd227d\", \"checkpoint_epoch_100.pth\", 6530194)"
            ]
          },
          "metadata": {}
        },
        {
          "output_type": "stream",
          "name": "stdout",
          "text": [
            "Epoch 100/150, Train Acc: 44.08%, Val Acc: 41.03%, Test Acc: 41.18%\n",
            "Epoch 100/150, Train Loss: 2.1235, Val Loss: 2.2983, Test Loss: 2.2767\n",
            "Epoch 101/150, Train Acc: 44.20%, Val Acc: 41.94%, Test Acc: 41.95%\n",
            "Epoch 101/150, Train Loss: 2.1170, Val Loss: 2.2894, Test Loss: 2.2706\n",
            "Epoch 102/150, Train Acc: 44.61%, Val Acc: 41.27%, Test Acc: 41.65%\n",
            "Epoch 102/150, Train Loss: 2.1076, Val Loss: 2.3081, Test Loss: 2.2899\n",
            "Epoch 103/150, Train Acc: 44.54%, Val Acc: 41.20%, Test Acc: 41.59%\n",
            "Epoch 103/150, Train Loss: 2.1074, Val Loss: 2.3065, Test Loss: 2.2789\n",
            "Epoch 104/150, Train Acc: 44.61%, Val Acc: 41.09%, Test Acc: 41.81%\n",
            "Epoch 104/150, Train Loss: 2.0971, Val Loss: 2.2934, Test Loss: 2.2672\n",
            "Epoch 105/150, Train Acc: 45.04%, Val Acc: 41.47%, Test Acc: 42.03%\n",
            "Epoch 105/150, Train Loss: 2.0914, Val Loss: 2.2843, Test Loss: 2.2576\n",
            "Epoch 106/150, Train Acc: 45.13%, Val Acc: 41.59%, Test Acc: 42.38%\n",
            "Epoch 106/150, Train Loss: 2.0837, Val Loss: 2.2841, Test Loss: 2.2581\n",
            "Epoch 107/150, Train Acc: 45.04%, Val Acc: 41.55%, Test Acc: 41.76%\n",
            "Epoch 107/150, Train Loss: 2.0792, Val Loss: 2.2815, Test Loss: 2.2551\n",
            "Epoch 108/150, Train Acc: 45.27%, Val Acc: 41.70%, Test Acc: 42.36%\n",
            "Epoch 108/150, Train Loss: 2.0724, Val Loss: 2.2780, Test Loss: 2.2516\n",
            "Epoch 109/150, Train Acc: 45.48%, Val Acc: 41.57%, Test Acc: 42.15%\n",
            "Epoch 109/150, Train Loss: 2.0675, Val Loss: 2.2942, Test Loss: 2.2592\n",
            "Checkpoint saved at epoch 110: ./checkpoint_epoch_110.pth\n"
          ]
        },
        {
          "output_type": "display_data",
          "data": {
            "text/plain": [
              "<IPython.core.display.Javascript object>"
            ],
            "application/javascript": [
              "\n",
              "    async function download(id, filename, size) {\n",
              "      if (!google.colab.kernel.accessAllowed) {\n",
              "        return;\n",
              "      }\n",
              "      const div = document.createElement('div');\n",
              "      const label = document.createElement('label');\n",
              "      label.textContent = `Downloading \"${filename}\": `;\n",
              "      div.appendChild(label);\n",
              "      const progress = document.createElement('progress');\n",
              "      progress.max = size;\n",
              "      div.appendChild(progress);\n",
              "      document.body.appendChild(div);\n",
              "\n",
              "      const buffers = [];\n",
              "      let downloaded = 0;\n",
              "\n",
              "      const channel = await google.colab.kernel.comms.open(id);\n",
              "      // Send a message to notify the kernel that we're ready.\n",
              "      channel.send({})\n",
              "\n",
              "      for await (const message of channel.messages) {\n",
              "        // Send a message to notify the kernel that we're ready.\n",
              "        channel.send({})\n",
              "        if (message.buffers) {\n",
              "          for (const buffer of message.buffers) {\n",
              "            buffers.push(buffer);\n",
              "            downloaded += buffer.byteLength;\n",
              "            progress.value = downloaded;\n",
              "          }\n",
              "        }\n",
              "      }\n",
              "      const blob = new Blob(buffers, {type: 'application/binary'});\n",
              "      const a = document.createElement('a');\n",
              "      a.href = window.URL.createObjectURL(blob);\n",
              "      a.download = filename;\n",
              "      div.appendChild(a);\n",
              "      a.click();\n",
              "      div.remove();\n",
              "    }\n",
              "  "
            ]
          },
          "metadata": {}
        },
        {
          "output_type": "display_data",
          "data": {
            "text/plain": [
              "<IPython.core.display.Javascript object>"
            ],
            "application/javascript": [
              "download(\"download_b21838f1-adbb-48cf-8f15-f735d1132d4e\", \"checkpoint_epoch_110.pth\", 6530194)"
            ]
          },
          "metadata": {}
        },
        {
          "output_type": "stream",
          "name": "stdout",
          "text": [
            "Epoch 110/150, Train Acc: 45.37%, Val Acc: 41.82%, Test Acc: 42.23%\n",
            "Epoch 110/150, Train Loss: 2.0566, Val Loss: 2.2793, Test Loss: 2.2514\n",
            "Epoch 111/150, Train Acc: 45.56%, Val Acc: 41.57%, Test Acc: 42.81%\n",
            "Epoch 111/150, Train Loss: 2.0613, Val Loss: 2.2821, Test Loss: 2.2515\n",
            "Epoch 112/150, Train Acc: 46.02%, Val Acc: 41.57%, Test Acc: 42.49%\n",
            "Epoch 112/150, Train Loss: 2.0431, Val Loss: 2.2733, Test Loss: 2.2446\n",
            "Epoch 113/150, Train Acc: 46.09%, Val Acc: 41.65%, Test Acc: 42.30%\n",
            "Epoch 113/150, Train Loss: 2.0427, Val Loss: 2.2737, Test Loss: 2.2516\n",
            "Epoch 114/150, Train Acc: 46.35%, Val Acc: 42.03%, Test Acc: 42.46%\n",
            "Epoch 114/150, Train Loss: 2.0380, Val Loss: 2.2745, Test Loss: 2.2466\n",
            "Epoch 115/150, Train Acc: 45.98%, Val Acc: 42.47%, Test Acc: 42.72%\n",
            "Epoch 115/150, Train Loss: 2.0368, Val Loss: 2.2723, Test Loss: 2.2444\n",
            "Epoch 116/150, Train Acc: 46.39%, Val Acc: 41.99%, Test Acc: 42.06%\n",
            "Epoch 116/150, Train Loss: 2.0227, Val Loss: 2.2715, Test Loss: 2.2468\n",
            "Epoch 117/150, Train Acc: 46.12%, Val Acc: 41.84%, Test Acc: 42.45%\n",
            "Epoch 117/150, Train Loss: 2.0238, Val Loss: 2.2652, Test Loss: 2.2381\n",
            "Epoch 118/150, Train Acc: 46.47%, Val Acc: 41.91%, Test Acc: 42.62%\n",
            "Epoch 118/150, Train Loss: 2.0229, Val Loss: 2.2716, Test Loss: 2.2446\n",
            "Epoch 119/150, Train Acc: 46.75%, Val Acc: 42.02%, Test Acc: 43.03%\n",
            "Epoch 119/150, Train Loss: 2.0089, Val Loss: 2.2614, Test Loss: 2.2335\n",
            "Checkpoint saved at epoch 120: ./checkpoint_epoch_120.pth\n"
          ]
        },
        {
          "output_type": "display_data",
          "data": {
            "text/plain": [
              "<IPython.core.display.Javascript object>"
            ],
            "application/javascript": [
              "\n",
              "    async function download(id, filename, size) {\n",
              "      if (!google.colab.kernel.accessAllowed) {\n",
              "        return;\n",
              "      }\n",
              "      const div = document.createElement('div');\n",
              "      const label = document.createElement('label');\n",
              "      label.textContent = `Downloading \"${filename}\": `;\n",
              "      div.appendChild(label);\n",
              "      const progress = document.createElement('progress');\n",
              "      progress.max = size;\n",
              "      div.appendChild(progress);\n",
              "      document.body.appendChild(div);\n",
              "\n",
              "      const buffers = [];\n",
              "      let downloaded = 0;\n",
              "\n",
              "      const channel = await google.colab.kernel.comms.open(id);\n",
              "      // Send a message to notify the kernel that we're ready.\n",
              "      channel.send({})\n",
              "\n",
              "      for await (const message of channel.messages) {\n",
              "        // Send a message to notify the kernel that we're ready.\n",
              "        channel.send({})\n",
              "        if (message.buffers) {\n",
              "          for (const buffer of message.buffers) {\n",
              "            buffers.push(buffer);\n",
              "            downloaded += buffer.byteLength;\n",
              "            progress.value = downloaded;\n",
              "          }\n",
              "        }\n",
              "      }\n",
              "      const blob = new Blob(buffers, {type: 'application/binary'});\n",
              "      const a = document.createElement('a');\n",
              "      a.href = window.URL.createObjectURL(blob);\n",
              "      a.download = filename;\n",
              "      div.appendChild(a);\n",
              "      a.click();\n",
              "      div.remove();\n",
              "    }\n",
              "  "
            ]
          },
          "metadata": {}
        },
        {
          "output_type": "display_data",
          "data": {
            "text/plain": [
              "<IPython.core.display.Javascript object>"
            ],
            "application/javascript": [
              "download(\"download_c8f9db13-9a23-4f30-9021-2291f9bb9d43\", \"checkpoint_epoch_120.pth\", 6530194)"
            ]
          },
          "metadata": {}
        },
        {
          "output_type": "stream",
          "name": "stdout",
          "text": [
            "Epoch 120/150, Train Acc: 46.74%, Val Acc: 42.35%, Test Acc: 42.66%\n",
            "Epoch 120/150, Train Loss: 2.0095, Val Loss: 2.2637, Test Loss: 2.2383\n",
            "Epoch 121/150, Train Acc: 46.59%, Val Acc: 42.12%, Test Acc: 42.50%\n",
            "Epoch 121/150, Train Loss: 2.0086, Val Loss: 2.2593, Test Loss: 2.2343\n",
            "Epoch 122/150, Train Acc: 47.12%, Val Acc: 42.69%, Test Acc: 43.27%\n",
            "Epoch 122/150, Train Loss: 1.9980, Val Loss: 2.2525, Test Loss: 2.2269\n",
            "Epoch 123/150, Train Acc: 47.13%, Val Acc: 42.22%, Test Acc: 42.73%\n",
            "Epoch 123/150, Train Loss: 2.0010, Val Loss: 2.2625, Test Loss: 2.2359\n",
            "Epoch 124/150, Train Acc: 47.34%, Val Acc: 42.35%, Test Acc: 42.84%\n",
            "Epoch 124/150, Train Loss: 1.9831, Val Loss: 2.2500, Test Loss: 2.2260\n",
            "Epoch 125/150, Train Acc: 47.39%, Val Acc: 42.34%, Test Acc: 42.95%\n",
            "Epoch 125/150, Train Loss: 1.9864, Val Loss: 2.2489, Test Loss: 2.2220\n",
            "Epoch 126/150, Train Acc: 47.28%, Val Acc: 42.39%, Test Acc: 42.74%\n",
            "Epoch 126/150, Train Loss: 1.9834, Val Loss: 2.2473, Test Loss: 2.2211\n",
            "Epoch 127/150, Train Acc: 47.57%, Val Acc: 42.91%, Test Acc: 43.26%\n",
            "Epoch 127/150, Train Loss: 1.9770, Val Loss: 2.2481, Test Loss: 2.2197\n",
            "Epoch 128/150, Train Acc: 47.70%, Val Acc: 42.37%, Test Acc: 42.77%\n",
            "Epoch 128/150, Train Loss: 1.9766, Val Loss: 2.2635, Test Loss: 2.2256\n",
            "Epoch 129/150, Train Acc: 47.51%, Val Acc: 42.33%, Test Acc: 43.07%\n",
            "Epoch 129/150, Train Loss: 1.9763, Val Loss: 2.2572, Test Loss: 2.2295\n",
            "Checkpoint saved at epoch 130: ./checkpoint_epoch_130.pth\n"
          ]
        },
        {
          "output_type": "display_data",
          "data": {
            "text/plain": [
              "<IPython.core.display.Javascript object>"
            ],
            "application/javascript": [
              "\n",
              "    async function download(id, filename, size) {\n",
              "      if (!google.colab.kernel.accessAllowed) {\n",
              "        return;\n",
              "      }\n",
              "      const div = document.createElement('div');\n",
              "      const label = document.createElement('label');\n",
              "      label.textContent = `Downloading \"${filename}\": `;\n",
              "      div.appendChild(label);\n",
              "      const progress = document.createElement('progress');\n",
              "      progress.max = size;\n",
              "      div.appendChild(progress);\n",
              "      document.body.appendChild(div);\n",
              "\n",
              "      const buffers = [];\n",
              "      let downloaded = 0;\n",
              "\n",
              "      const channel = await google.colab.kernel.comms.open(id);\n",
              "      // Send a message to notify the kernel that we're ready.\n",
              "      channel.send({})\n",
              "\n",
              "      for await (const message of channel.messages) {\n",
              "        // Send a message to notify the kernel that we're ready.\n",
              "        channel.send({})\n",
              "        if (message.buffers) {\n",
              "          for (const buffer of message.buffers) {\n",
              "            buffers.push(buffer);\n",
              "            downloaded += buffer.byteLength;\n",
              "            progress.value = downloaded;\n",
              "          }\n",
              "        }\n",
              "      }\n",
              "      const blob = new Blob(buffers, {type: 'application/binary'});\n",
              "      const a = document.createElement('a');\n",
              "      a.href = window.URL.createObjectURL(blob);\n",
              "      a.download = filename;\n",
              "      div.appendChild(a);\n",
              "      a.click();\n",
              "      div.remove();\n",
              "    }\n",
              "  "
            ]
          },
          "metadata": {}
        },
        {
          "output_type": "display_data",
          "data": {
            "text/plain": [
              "<IPython.core.display.Javascript object>"
            ],
            "application/javascript": [
              "download(\"download_9c4d6793-95db-4575-b22b-9f770c2fb900\", \"checkpoint_epoch_130.pth\", 6530194)"
            ]
          },
          "metadata": {}
        },
        {
          "output_type": "stream",
          "name": "stdout",
          "text": [
            "Epoch 130/150, Train Acc: 47.61%, Val Acc: 42.86%, Test Acc: 43.41%\n",
            "Epoch 130/150, Train Loss: 1.9738, Val Loss: 2.2468, Test Loss: 2.2150\n",
            "Epoch 131/150, Train Acc: 47.88%, Val Acc: 42.96%, Test Acc: 43.37%\n",
            "Epoch 131/150, Train Loss: 1.9606, Val Loss: 2.2398, Test Loss: 2.2123\n",
            "Epoch 132/150, Train Acc: 47.91%, Val Acc: 42.56%, Test Acc: 43.16%\n",
            "Epoch 132/150, Train Loss: 1.9609, Val Loss: 2.2403, Test Loss: 2.2124\n",
            "Epoch 133/150, Train Acc: 47.99%, Val Acc: 42.78%, Test Acc: 43.51%\n",
            "Epoch 133/150, Train Loss: 1.9552, Val Loss: 2.2407, Test Loss: 2.2105\n",
            "Epoch 134/150, Train Acc: 47.90%, Val Acc: 42.89%, Test Acc: 43.40%\n",
            "Epoch 134/150, Train Loss: 1.9546, Val Loss: 2.2398, Test Loss: 2.2151\n",
            "Epoch 135/150, Train Acc: 48.47%, Val Acc: 42.53%, Test Acc: 43.45%\n",
            "Epoch 135/150, Train Loss: 1.9447, Val Loss: 2.2353, Test Loss: 2.2113\n",
            "Epoch 136/150, Train Acc: 48.19%, Val Acc: 42.82%, Test Acc: 43.15%\n",
            "Epoch 136/150, Train Loss: 1.9479, Val Loss: 2.2385, Test Loss: 2.2087\n",
            "Epoch 137/150, Train Acc: 48.03%, Val Acc: 42.87%, Test Acc: 43.44%\n",
            "Epoch 137/150, Train Loss: 1.9446, Val Loss: 2.2371, Test Loss: 2.2085\n",
            "Epoch 138/150, Train Acc: 48.22%, Val Acc: 42.86%, Test Acc: 43.45%\n",
            "Epoch 138/150, Train Loss: 1.9401, Val Loss: 2.2379, Test Loss: 2.2082\n",
            "Epoch 139/150, Train Acc: 48.45%, Val Acc: 42.68%, Test Acc: 43.37%\n",
            "Epoch 139/150, Train Loss: 1.9332, Val Loss: 2.2363, Test Loss: 2.2081\n",
            "Checkpoint saved at epoch 140: ./checkpoint_epoch_140.pth\n"
          ]
        },
        {
          "output_type": "display_data",
          "data": {
            "text/plain": [
              "<IPython.core.display.Javascript object>"
            ],
            "application/javascript": [
              "\n",
              "    async function download(id, filename, size) {\n",
              "      if (!google.colab.kernel.accessAllowed) {\n",
              "        return;\n",
              "      }\n",
              "      const div = document.createElement('div');\n",
              "      const label = document.createElement('label');\n",
              "      label.textContent = `Downloading \"${filename}\": `;\n",
              "      div.appendChild(label);\n",
              "      const progress = document.createElement('progress');\n",
              "      progress.max = size;\n",
              "      div.appendChild(progress);\n",
              "      document.body.appendChild(div);\n",
              "\n",
              "      const buffers = [];\n",
              "      let downloaded = 0;\n",
              "\n",
              "      const channel = await google.colab.kernel.comms.open(id);\n",
              "      // Send a message to notify the kernel that we're ready.\n",
              "      channel.send({})\n",
              "\n",
              "      for await (const message of channel.messages) {\n",
              "        // Send a message to notify the kernel that we're ready.\n",
              "        channel.send({})\n",
              "        if (message.buffers) {\n",
              "          for (const buffer of message.buffers) {\n",
              "            buffers.push(buffer);\n",
              "            downloaded += buffer.byteLength;\n",
              "            progress.value = downloaded;\n",
              "          }\n",
              "        }\n",
              "      }\n",
              "      const blob = new Blob(buffers, {type: 'application/binary'});\n",
              "      const a = document.createElement('a');\n",
              "      a.href = window.URL.createObjectURL(blob);\n",
              "      a.download = filename;\n",
              "      div.appendChild(a);\n",
              "      a.click();\n",
              "      div.remove();\n",
              "    }\n",
              "  "
            ]
          },
          "metadata": {}
        },
        {
          "output_type": "display_data",
          "data": {
            "text/plain": [
              "<IPython.core.display.Javascript object>"
            ],
            "application/javascript": [
              "download(\"download_58491cec-e2fb-44a3-8193-245ffb3142af\", \"checkpoint_epoch_140.pth\", 6530194)"
            ]
          },
          "metadata": {}
        },
        {
          "output_type": "stream",
          "name": "stdout",
          "text": [
            "Epoch 140/150, Train Acc: 48.44%, Val Acc: 43.02%, Test Acc: 43.57%\n",
            "Epoch 140/150, Train Loss: 1.9375, Val Loss: 2.2333, Test Loss: 2.2053\n",
            "Epoch 141/150, Train Acc: 48.70%, Val Acc: 43.14%, Test Acc: 43.44%\n",
            "Epoch 141/150, Train Loss: 1.9321, Val Loss: 2.2393, Test Loss: 2.2105\n",
            "Epoch 142/150, Train Acc: 48.63%, Val Acc: 42.99%, Test Acc: 43.23%\n",
            "Epoch 142/150, Train Loss: 1.9300, Val Loss: 2.2332, Test Loss: 2.2040\n",
            "Epoch 143/150, Train Acc: 48.78%, Val Acc: 43.22%, Test Acc: 43.46%\n",
            "Epoch 143/150, Train Loss: 1.9269, Val Loss: 2.2348, Test Loss: 2.2049\n",
            "Epoch 144/150, Train Acc: 48.66%, Val Acc: 43.13%, Test Acc: 43.51%\n",
            "Epoch 144/150, Train Loss: 1.9243, Val Loss: 2.2309, Test Loss: 2.1998\n",
            "Epoch 145/150, Train Acc: 48.94%, Val Acc: 43.06%, Test Acc: 43.49%\n",
            "Epoch 145/150, Train Loss: 1.9217, Val Loss: 2.2334, Test Loss: 2.2036\n",
            "Epoch 146/150, Train Acc: 48.99%, Val Acc: 43.06%, Test Acc: 43.61%\n",
            "Epoch 146/150, Train Loss: 1.9212, Val Loss: 2.2319, Test Loss: 2.2000\n",
            "Epoch 147/150, Train Acc: 48.92%, Val Acc: 43.04%, Test Acc: 43.75%\n",
            "Epoch 147/150, Train Loss: 1.9150, Val Loss: 2.2298, Test Loss: 2.1991\n",
            "Epoch 148/150, Train Acc: 48.99%, Val Acc: 43.20%, Test Acc: 43.65%\n",
            "Epoch 148/150, Train Loss: 1.9154, Val Loss: 2.2328, Test Loss: 2.2012\n",
            "Epoch 149/150, Train Acc: 49.18%, Val Acc: 43.29%, Test Acc: 43.77%\n",
            "Epoch 149/150, Train Loss: 1.9144, Val Loss: 2.2282, Test Loss: 2.1975\n",
            "Checkpoint saved at epoch 150: ./checkpoint_epoch_150.pth\n"
          ]
        },
        {
          "output_type": "display_data",
          "data": {
            "text/plain": [
              "<IPython.core.display.Javascript object>"
            ],
            "application/javascript": [
              "\n",
              "    async function download(id, filename, size) {\n",
              "      if (!google.colab.kernel.accessAllowed) {\n",
              "        return;\n",
              "      }\n",
              "      const div = document.createElement('div');\n",
              "      const label = document.createElement('label');\n",
              "      label.textContent = `Downloading \"${filename}\": `;\n",
              "      div.appendChild(label);\n",
              "      const progress = document.createElement('progress');\n",
              "      progress.max = size;\n",
              "      div.appendChild(progress);\n",
              "      document.body.appendChild(div);\n",
              "\n",
              "      const buffers = [];\n",
              "      let downloaded = 0;\n",
              "\n",
              "      const channel = await google.colab.kernel.comms.open(id);\n",
              "      // Send a message to notify the kernel that we're ready.\n",
              "      channel.send({})\n",
              "\n",
              "      for await (const message of channel.messages) {\n",
              "        // Send a message to notify the kernel that we're ready.\n",
              "        channel.send({})\n",
              "        if (message.buffers) {\n",
              "          for (const buffer of message.buffers) {\n",
              "            buffers.push(buffer);\n",
              "            downloaded += buffer.byteLength;\n",
              "            progress.value = downloaded;\n",
              "          }\n",
              "        }\n",
              "      }\n",
              "      const blob = new Blob(buffers, {type: 'application/binary'});\n",
              "      const a = document.createElement('a');\n",
              "      a.href = window.URL.createObjectURL(blob);\n",
              "      a.download = filename;\n",
              "      div.appendChild(a);\n",
              "      a.click();\n",
              "      div.remove();\n",
              "    }\n",
              "  "
            ]
          },
          "metadata": {}
        },
        {
          "output_type": "display_data",
          "data": {
            "text/plain": [
              "<IPython.core.display.Javascript object>"
            ],
            "application/javascript": [
              "download(\"download_fee67f6e-9f0a-43e2-a942-290378b25ed3\", \"checkpoint_epoch_150.pth\", 6530194)"
            ]
          },
          "metadata": {}
        },
        {
          "output_type": "stream",
          "name": "stdout",
          "text": [
            "Epoch 150/150, Train Acc: 49.22%, Val Acc: 43.26%, Test Acc: 43.75%\n",
            "Epoch 150/150, Train Loss: 1.9119, Val Loss: 2.2283, Test Loss: 2.1974\n"
          ]
        },
        {
          "output_type": "display_data",
          "data": {
            "text/plain": [
              "<Figure size 600x400 with 1 Axes>"
            ],
            "image/png": "[encoded data removed]"
          },
          "metadata": {}
        },
        {
          "output_type": "display_data",
          "data": {
            "text/plain": [
              "<Figure size 600x400 with 1 Axes>"
            ],
            "image/png": "[encoded data removed]"
          },
          "metadata": {}
        },
        {
          "output_type": "display_data",
          "data": {
            "text/plain": [
              "<Figure size 600x400 with 1 Axes>"
            ],
            "image/png": "[encoded data removed]"
          },
          "metadata": {}
        },
        {
          "output_type": "display_data",
          "data": {
            "text/plain": [
              "<Figure size 600x400 with 1 Axes>"
            ],
            "image/png": "[encoded data removed]"
          },
          "metadata": {}
        },
        {
          "output_type": "display_data",
          "data": {
            "text/plain": [
              "<Figure size 600x400 with 1 Axes>"
            ],
            "image/png": "[encoded data removed]"
          },
          "metadata": {}
        },
        {
          "output_type": "display_data",
          "data": {
            "text/plain": [
              "<Figure size 600x400 with 1 Axes>"
            ],
            "image/png": "[encoded data removed]"
          },
          "metadata": {}
        },
        {
          "output_type": "display_data",
          "data": {
            "text/plain": [
              "<Figure size 640x480 with 0 Axes>"
            ]
          },
          "metadata": {}
        }
      ]
    }
  ]
}