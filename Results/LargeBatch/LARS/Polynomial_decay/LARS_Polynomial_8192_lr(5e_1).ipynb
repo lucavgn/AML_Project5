{
  "cells": [
    {
      "cell_type": "code",
      "execution_count": 1,
      "metadata": {
        "colab": {
          "base_uri": "https://localhost:8080/"
        },
        "id": "HYgTLKybTSpQ",
        "outputId": "728861b7-0099-442e-836d-5d3cc20597d9"
      },
      "outputs": [
        {
          "output_type": "stream",
          "name": "stdout",
          "text": [
            "Writing large_batch_training.py\n"
          ]
        }
      ],
      "source": [
        "%%writefile large_batch_training.py\n",
        "\n",
        "import os\n",
        "import numpy as np\n",
        "import torch\n",
        "import torch.nn as nn\n",
        "import torch.optim as optim\n",
        "import torchvision\n",
        "import torchvision.transforms as transforms\n",
        "import matplotlib.pyplot as plt\n",
        "import argparse\n",
        "from torch.utils.data import random_split\n",
        "from google.colab import files\n",
        "\n",
        "def compute_mean_std(dataset):\n",
        "    \"\"\"Compute the mean and std of CIFAR-100 dataset.\n",
        "\n",
        "    Args:\n",
        "        dataset: A dataset derived from `torch.utils.data.Dataset`,\n",
        "                 such as `cifar100_training_dataset` or `cifar100_test_dataset`.\n",
        "\n",
        "    Returns:\n",
        "        A tuple containing (mean, std) for the entire dataset.\n",
        "    \"\"\"\n",
        "\n",
        "    # Extract images and labels\n",
        "    data_r = np.stack([np.array(dataset[i][0])[:, :, 0] for i in range(len(dataset))])\n",
        "    data_g = np.stack([np.array(dataset[i][0])[:, :, 1] for i in range(len(dataset))])\n",
        "    data_b = np.stack([np.array(dataset[i][0])[:, :, 2] for i in range(len(dataset))])\n",
        "\n",
        "    # Compute mean and std\n",
        "    mean = np.mean(data_r), np.mean(data_g), np.mean(data_b)\n",
        "    std = np.std(data_r), np.std(data_g), np.std(data_b)\n",
        "\n",
        "    return mean, std\n",
        "\n",
        "# Define LeNet-5 architecture\n",
        "class LeNet5(nn.Module):\n",
        "    def __init__(self):\n",
        "        super(LeNet5, self).__init__()\n",
        "        self.conv1 = nn.Conv2d(3, 64, 5)\n",
        "        self.relu1 = nn.ReLU()\n",
        "        self.pool1 = nn.MaxPool2d(2, 2)\n",
        "        self.conv2 = nn.Conv2d(64, 64, 5)\n",
        "        self.relu2 = nn.ReLU()\n",
        "        self.pool2 = nn.MaxPool2d(2, 2)\n",
        "        self.fc1 = nn.Linear(64 * 5 * 5, 384)\n",
        "        self.relu3 = nn.ReLU()\n",
        "        self.fc2 = nn.Linear(384, 192)\n",
        "        self.relu4 = nn.ReLU()\n",
        "        self.fc3 = nn.Linear(192, 100)\n",
        "\n",
        "    def forward(self, x):\n",
        "        x = self.pool1(self.relu1(self.conv1(x)))\n",
        "        x = self.pool2(self.relu2(self.conv2(x)))\n",
        "        x = x.view(-1, 64 * 5 * 5)\n",
        "        x = self.relu3(self.fc1(x))\n",
        "        x = self.relu4(self.fc2(x))\n",
        "        x = self.fc3(x)\n",
        "        return x\n",
        "\n",
        "# Device setup\n",
        "device = torch.device(\"cuda:0\" if torch.cuda.is_available() else \"cpu\")\n",
        "\n",
        "# Initialize model\n",
        "net = LeNet5().to(device)\n",
        "\n",
        "# Optimizer Subclasses\n",
        "class LARS(optim.Optimizer):\n",
        "    def __init__(self, params, lr, momentum=0.9, weight_decay=0, trust_coefficient=0.001):\n",
        "        # Initialize the optimizer with the learning rate, momentum, weight decay, and trust coefficient\n",
        "        defaults = dict(lr=lr, momentum=momentum, weight_decay=weight_decay, trust_coefficient=trust_coefficient)\n",
        "        super(LARS, self).__init__(params, defaults)\n",
        "\n",
        "    def step(self, closure=None):\n",
        "        loss = None\n",
        "        if closure is not None:\n",
        "            # If a closure is provided, evaluate it (commonly used for re-evaluating loss)\n",
        "            loss = closure()\n",
        "        for group in self.param_groups:\n",
        "            for p in group['params']:\n",
        "                if p.grad is None:\n",
        "                   # Skip parameters that have no gradient\n",
        "                    continue\n",
        "                grad = p.grad.data # Get the gradient of the parameter\n",
        "                # Retrieve or initialize the optimizer's internal state\n",
        "                state = self.state[p]\n",
        "                if len(state) == 0:\n",
        "                    state['momentum_buffer'] = torch.clone(grad).detach()\n",
        "                # Apply weight decay directly to the gradient\n",
        "                if group['weight_decay'] != 0:\n",
        "                    grad.add_(p.data, alpha=group['weight_decay'])\n",
        "                # Compute the norms of the parameter and its gradient\n",
        "                param_norm = torch.norm(p.data)\n",
        "                grad_norm = torch.norm(grad)\n",
        "                # Compute local learning rate based on the trust coefficient and norms\n",
        "                if param_norm > 0 and grad_norm > 0:\n",
        "                    local_lr = group['trust_coefficient'] * param_norm / (grad_norm + 1e-8)\n",
        "                    grad = grad.mul(local_lr) # Scale the gradient with the local learning rate\n",
        "                # Update the momentum buffer\n",
        "                momentum_buffer = state['momentum_buffer']\n",
        "                momentum_buffer.mul_(group['momentum']).add_(grad) #Momentum update\n",
        "                state['momentum_buffer'] = momentum_buffer\n",
        "                # Update the parameter\n",
        "                p.data.add_(momentum_buffer, alpha=-group['lr']) # Gradient descent step with learning rate\n",
        "        return loss\n",
        "\n",
        "class LAMB(optim.Optimizer):\n",
        "    def __init__(self, params, lr, weight_decay=0, betas=(0.9, 0.999), eps=1e-8):\n",
        "        # Initialize the optimizer with learning rate, weight decay, betas for moment updates, and epsilon for stability\n",
        "        defaults = dict(lr=lr, weight_decay=weight_decay, betas=betas, eps=eps)\n",
        "        super(LAMB, self).__init__(params, defaults)\n",
        "\n",
        "    def step(self, closure=None):\n",
        "        loss = None\n",
        "        if closure is not None:\n",
        "            # If a closure is provided, evaluate it\n",
        "            loss = closure()\n",
        "        for group in self.param_groups:\n",
        "            for p in group['params']:\n",
        "                if p.grad is None:\n",
        "                    # Skip parameters that have no gradient\n",
        "                    continue\n",
        "                grad = p.grad.data # Get the gradient of the parameter\n",
        "                # Retrieve or initialize the optimizer's internal state\n",
        "                state = self.state[p]\n",
        "                # Initialize state\n",
        "                if len(state) == 0:\n",
        "                    # Initialize the state (step counter, first moment, second moment)\n",
        "                    state['step'] = 0\n",
        "                    state['exp_avg'] = torch.zeros_like(p.data) # First moment (mean of gradients)\n",
        "                    state['exp_avg_sq'] = torch.zeros_like(p.data) # Second moment (mean of squared gradients)\n",
        "                exp_avg = state['exp_avg']\n",
        "                exp_avg_sq = state['exp_avg_sq']\n",
        "                beta1, beta2 = group['betas']  # Coefficients for moment updates\n",
        "                state['step'] += 1 # Increment step count\n",
        "                step = state['step']\n",
        "                # Decay the first and second moment running average coefficients\n",
        "                # Update first and second moments\n",
        "                exp_avg.mul_(beta1).add_(grad, alpha=1 - beta1) # Exponential moving average of gradients\n",
        "                exp_avg_sq.mul_(beta2).addcmul_(grad, grad, value=1 - beta2) # Exponential moving average of squared gradients\n",
        "                # Correct bias in the first and second moments\n",
        "                bias_correction1 = 1 - beta1 ** step\n",
        "                bias_correction2 = 1 - beta2 ** step\n",
        "                corrected_exp_avg = exp_avg / bias_correction1\n",
        "                corrected_exp_avg_sq = exp_avg_sq / bias_correction2\n",
        "                # Compute the denominator for scaling the update\n",
        "                denom = corrected_exp_avg_sq.sqrt().add_(group['eps']) # Stability epsilon\n",
        "                # Compute the step update\n",
        "                update = corrected_exp_avg / denom\n",
        "                # Apply weight decay directly to the parameters\n",
        "                if group['weight_decay'] != 0:\n",
        "                    update.add_(p.data, alpha=group['weight_decay'])\n",
        "                # Compute the trust ratio (norm of parameters vs norm of update)\n",
        "                param_norm = torch.norm(p.data)\n",
        "                update_norm = torch.norm(update)\n",
        "                trust_ratio = 1.0  # Default trust ratio\n",
        "                if param_norm > 0 and update_norm > 0:\n",
        "                    trust_ratio = param_norm / update_norm\n",
        "                # Update the parameters\n",
        "                p.data.add_(update, alpha=-group['lr'] * trust_ratio)\n",
        "        return loss\n",
        "\n",
        "class SqrtLRScheduler(torch.optim.lr_scheduler._LRScheduler):\n",
        "    def __init__(self, optimizer, base_lr, batch_size, warmup_epochs, total_epochs, reference_batch_size, verbose=False):\n",
        "        \"\"\"\n",
        "        Args:\n",
        "            optimizer: PyTorch optimizer (e.g., Adam, LAMB, LARS).\n",
        "            base_lr: Base learning rate for the reference batch size.\n",
        "            batch_size: Current batch size.\n",
        "            warmup_epochs: Number of warmup epochs.\n",
        "            total_epochs: Total number of epochs.\n",
        "            reference_batch_size: Batch size for which the base_lr is defined.\n",
        "            verbose: Whether to print LR updates.\n",
        "        \"\"\"\n",
        "        self.base_lr = base_lr\n",
        "        self.batch_size = batch_size\n",
        "        self.scaled_lr = base_lr * (batch_size / reference_batch_size) ** 0.5\n",
        "        self.warmup_epochs = warmup_epochs\n",
        "        self.total_epochs = total_epochs\n",
        "        self.verbose = verbose\n",
        "        super(SqrtLRScheduler, self).__init__(optimizer)\n",
        "\n",
        "    def get_lr(self):\n",
        "        epoch = self.last_epoch\n",
        "        if epoch < self.warmup_epochs:\n",
        "            # Linear warmup scaling\n",
        "            warmup_factor = (epoch + 1) / self.warmup_epochs\n",
        "            return [warmup_factor * self.scaled_lr for _ in self.optimizer.param_groups]\n",
        "        else:\n",
        "            # polynomially decaying learning rate of ηt = η0×(1−t/T)\n",
        "            if epoch == self.warmup_epochs:\n",
        "                print(f\"Warmup phase completed at epoch {epoch}. Switching to constant learning rate.\")\n",
        "            return [self.scaled_lr * ( 1 - ( (epoch - self.warmup_epochs) / (self.total_epochs - self.warmup_epochs))) for _ in self.optimizer.param_groups]\n",
        "\n",
        "# Command-line arguments\n",
        "parser = argparse.ArgumentParser(description='Train with Large-Batch Optimizers')\n",
        "parser.add_argument('--optimizer', type=str, default='SGDM', choices=['SGDM', 'AdamW', 'LARS', 'LAMB'],\n",
        "                    help='Choose optimizer')\n",
        "parser.add_argument('--batch-size', type=int, default=128, help='Batch size')\n",
        "parser.add_argument('--momentum', type=float, default=0.9, help='Momentum for SGDM and LARS')\n",
        "parser.add_argument('--weight-decay', type=float, default=1e-5, help='Weight decay')\n",
        "parser.add_argument('--b1', type=float, default=0.9, help='Beta1 for AdamW')\n",
        "parser.add_argument('--b2', type=float, default=0.999, help='Beta2 for AdamW')\n",
        "parser.add_argument('--trust-coefficient', type=float, default=0.001, help='Trust coefficient for LARS')\n",
        "parser.add_argument('--epochs', type=int, default=150, help='Number of epochs')\n",
        "parser.add_argument('--warmup-epochs', type=int, default=5, help='Number of epochs')\n",
        "args = parser.parse_args()\n",
        "\n",
        "\n",
        "torch.manual_seed(42) # Set the seed for reproducibility\n",
        "torch.cuda.manual_seed_all(42) # Set the seed for reproducibility on GPU\n",
        "\n",
        "# use the same mean and std to add consistency to all datasets\n",
        "data = torchvision.datasets.CIFAR100(root='./data', train=True, download=True, transform=transforms.ToTensor())\n",
        "mean, std = compute_mean_std(data)\n",
        "\n",
        "# Load and split CIFAR-100 dataset\n",
        "train_transform = transforms.Compose([\n",
        "  transforms.RandomHorizontalFlip(),\n",
        "  # transforms.RandomRotation(15),\n",
        "  transforms.RandomCrop(32, padding=4),\n",
        "  # transforms.RandomAffine(degrees=0, translate=(0.1, 0.1)),\n",
        "  transforms.RandomPerspective(distortion_scale=0.2, p=0.5),\n",
        "  transforms.ColorJitter(brightness=0.3, contrast=0.3, saturation=0.3, hue=0.2),\n",
        "  transforms.ToTensor(),\n",
        "  transforms.Normalize(mean, std)\n",
        "])\n",
        "\n",
        "val_transform = transforms.Compose([\n",
        "    transforms.ToTensor(), # Convert into tensor\n",
        "    transforms.Normalize(mean, std)  # Normalization\n",
        "])\n",
        "\n",
        "test_transform = transforms.Compose([\n",
        "    transforms.CenterCrop(24),\n",
        "    transforms.Pad(4),\n",
        "    transforms.ToTensor(),  # Convert to PyTorch tensor\n",
        "    transforms.Normalize(mean, std)\n",
        "])\n",
        "\n",
        "trainset = torchvision.datasets.CIFAR100(root='./data', train=True, download=True, transform=train_transform)\n",
        "valset = torchvision.datasets.CIFAR100(root='./data', train=True, download=True, transform=val_transform)\n",
        "indices = torch.randperm(len(trainset))\n",
        "val_size = int(0.2*len(trainset))\n",
        "trainset = torch.utils.data.Subset(trainset, indices[:-val_size])\n",
        "valset = torch.utils.data.Subset(valset, indices[-val_size:])\n",
        "\n",
        "trainloader = torch.utils.data.DataLoader(trainset, batch_size=args.batch_size, shuffle=True, num_workers=2)\n",
        "valloader = torch.utils.data.DataLoader(valset, batch_size=args.batch_size, shuffle=False, num_workers=2)\n",
        "\n",
        "testset = torchvision.datasets.CIFAR100(root='./data', train=False, download=True, transform=test_transform)\n",
        "testloader = torch.utils.data.DataLoader(testset, batch_size=args.batch_size, shuffle=False, num_workers=2)\n",
        "\n",
        "\n",
        "# Fixed parameter from paper [18] to calculate the square root LR scaling value\n",
        "# base_lr = 5 / (2**3 * 10**3)\n",
        "# reference_batch_size = 512\n",
        "#scaled_lr = base_lr * (args.batch_size / reference_batch_size) ** 0.5\n",
        "\n",
        "# Mapping optimizers\n",
        "if args.optimizer == 'SGDM':\n",
        "    base_lr = 1e-2\n",
        "    reference_batch_size = 64\n",
        "    scaled_lr = base_lr * (args.batch_size / reference_batch_size) ** 0.5\n",
        "    optimizer = optim.SGD(net.parameters(), lr=scaled_lr, momentum=args.momentum, weight_decay=args.weight_decay)\n",
        "elif args.optimizer == 'AdamW':\n",
        "    base_lr = 5e-4\n",
        "    reference_batch_size = 64\n",
        "    scaled_lr = base_lr * (args.batch_size / reference_batch_size) ** 0.5\n",
        "    optimizer = optim.AdamW(net.parameters(), lr=scaled_lr, betas=(args.b1, args.b2), weight_decay=args.weight_decay)\n",
        "elif args.optimizer == 'LARS':\n",
        "    base_lr = 5e-1\n",
        "    reference_batch_size = 64\n",
        "    scaled_lr = base_lr * (args.batch_size / reference_batch_size) ** 0.5\n",
        "    optimizer = LARS(net.parameters(), lr=scaled_lr, momentum=args.momentum, weight_decay=args.weight_decay, trust_coefficient=args.trust_coefficient)\n",
        "elif args.optimizer == 'LAMB':\n",
        "    base_lr = 5e-4\n",
        "    reference_batch_size = 64\n",
        "    scaled_lr = base_lr * (args.batch_size / reference_batch_size) ** 0.5\n",
        "    optimizer = LAMB(net.parameters(), lr=scaled_lr, weight_decay=args.weight_decay)\n",
        "\n",
        "criterion = nn.CrossEntropyLoss()\n",
        "\n",
        "# scheduler should be e square root LR scaling rule and linear-epoch warmup scheduling to automatically adjust learning rate\n",
        "scheduler = SqrtLRScheduler(\n",
        "    optimizer = optimizer,\n",
        "    base_lr = base_lr,\n",
        "    batch_size = args.batch_size,\n",
        "    warmup_epochs = args.warmup_epochs,\n",
        "    total_epochs = args.epochs,\n",
        "    reference_batch_size = reference_batch_size,\n",
        "    verbose = True)\n",
        "\n",
        "# Training Function\n",
        "def train_model(optimizer, scheduler, model, criterion, trainloader, valloader , testloader, device, epochs, save_checkpoint_interval=10):\n",
        "    train_losses, val_losses, test_losses = [], [], []\n",
        "    train_accuracies, val_accuracies, test_accuracies = [], [], []\n",
        "    for epoch in range(epochs):\n",
        "        model.train()\n",
        "        running_loss, correct_train, total_train = 0.0, 0, 0\n",
        "        for inputs, labels in trainloader:\n",
        "            inputs, labels = inputs.to(device), labels.to(device)\n",
        "            optimizer.zero_grad()\n",
        "            outputs = model(inputs)\n",
        "            loss = criterion(outputs, labels)\n",
        "            loss.backward()\n",
        "            optimizer.step()\n",
        "            running_loss += loss.item()\n",
        "            _, predicted = outputs.max(1)\n",
        "            total_train += labels.size(0)\n",
        "            correct_train += predicted.eq(labels).sum().item()\n",
        "        train_loss = running_loss / len(trainloader)\n",
        "        train_accuracy = 100. * correct_train / total_train\n",
        "        train_losses.append(train_loss)\n",
        "        train_accuracies.append(train_accuracy)\n",
        "\n",
        "        # Validation\n",
        "        model.eval()\n",
        "        correct_val, total_val, val_loss = 0, 0, 0.0\n",
        "        with torch.no_grad():\n",
        "            for inputs, labels in valloader:\n",
        "                inputs, labels = inputs.to(device), labels.to(device)\n",
        "                outputs = model(inputs)\n",
        "                loss = criterion(outputs, labels)\n",
        "                val_loss += loss.item()\n",
        "                _, predicted = outputs.max(1)\n",
        "                total_val += labels.size(0)\n",
        "                correct_val += predicted.eq(labels).sum().item()\n",
        "        val_loss /= len(valloader)\n",
        "        val_losses.append(val_loss)\n",
        "        val_accuracy = 100. * correct_val / total_val\n",
        "        val_accuracies.append(val_accuracy)\n",
        "\n",
        "        '''\n",
        "        # Early Stopping\n",
        "        if val_loss < best_val_loss:\n",
        "          best_val_loss = val_loss\n",
        "          epochs_no_improve = 0\n",
        "        else:\n",
        "          epochs_no_improve += 1\n",
        "\n",
        "        if epochs_no_improve == patience:\n",
        "          print(\"Early stopping!\")\n",
        "          break\n",
        "        '''\n",
        "\n",
        "        # Test\n",
        "        correct_test, total_test, test_loss = 0, 0, 0.0\n",
        "        with torch.no_grad():\n",
        "            for inputs, labels in testloader:\n",
        "                inputs, labels = inputs.to(device), labels.to(device)\n",
        "                outputs = model(inputs)\n",
        "                loss = criterion(outputs, labels)\n",
        "                test_loss += loss.item()\n",
        "                _, predicted = outputs.max(1)\n",
        "                total_test += labels.size(0)\n",
        "                correct_test += predicted.eq(labels).sum().item()\n",
        "        test_loss /= len(testloader)\n",
        "        test_losses.append(test_loss)\n",
        "        test_accuracy = 100. * correct_test / total_test\n",
        "        test_accuracies.append(test_accuracy)\n",
        "\n",
        "        scheduler.step()\n",
        "\n",
        "        # Checkpointing\n",
        "        if (epoch + 1) % save_checkpoint_interval == 0:\n",
        "            checkpoint_filename = f'checkpoint_epoch_{epoch + 1}.pth'\n",
        "            checkpoint = {\n",
        "                'epoch': epoch + 1,\n",
        "                'model_state_dict': model.state_dict(),\n",
        "                'optimizer_state_dict': optimizer.state_dict(),\n",
        "                'scheduler_state_dict': scheduler.state_dict(),\n",
        "                'loss': loss.item(),\n",
        "            }\n",
        "            checkpoint_path = os.path.join('./', checkpoint_filename)\n",
        "            torch.save(checkpoint, checkpoint_path)\n",
        "            print(f'Checkpoint saved at epoch {epoch + 1}: {checkpoint_path}')\n",
        "\n",
        "            # Download the checkpoint\n",
        "            files.download(checkpoint_filename)\n",
        "\n",
        "        print(f'Epoch {epoch+1}/{epochs}, Train Acc: {train_accuracy:.2f}%, Val Acc: {val_accuracy:.2f}%, Test Acc: {test_accuracy:.2f}%')\n",
        "        print(f'Epoch {epoch+1}/{epochs}, Train Loss: {train_loss:.4f}, Val Loss: {val_loss:.4f}, Test Loss: {test_loss:.4f}')\n",
        "\n",
        "    return train_losses, val_losses, test_losses, train_accuracies, val_accuracies, test_accuracies\n",
        "\n",
        "# Train the model\n",
        "print(f\"--- Train with {args.optimizer} ---\")\n",
        "train_loss, val_loss, test_loss, train_acc, val_acc, test_acc = train_model(optimizer, scheduler, net, criterion, trainloader, valloader, testloader, device, args.epochs)\n",
        "\n",
        "# Save model\n",
        "torch.save(net.state_dict(), f'net_{args.optimizer}.pth')\n",
        "\n",
        "# Plot results\n",
        "# Plot Training Loss\n",
        "plt.figure(figsize=(6, 4))\n",
        "plt.plot(train_loss, label='Train Loss')\n",
        "plt.title('Training Loss')\n",
        "plt.xlabel('Epoch')\n",
        "plt.ylabel('Loss')\n",
        "plt.legend()\n",
        "plt.tight_layout()\n",
        "plt.savefig('train_loss.png')\n",
        "plt.show()\n",
        "\n",
        "# Plot Training Accuracy\n",
        "plt.figure(figsize=(6, 4))\n",
        "plt.plot(train_acc, label='Train Accuracy')\n",
        "plt.title('Training Accuracy')\n",
        "plt.xlabel('Epoch')\n",
        "plt.ylabel('Accuracy (%)')\n",
        "plt.legend()\n",
        "plt.tight_layout()\n",
        "plt.savefig('train_accuracy.png')\n",
        "plt.show()\n",
        "\n",
        "# Plot Validation Loss\n",
        "plt.figure(figsize=(6, 4))\n",
        "plt.plot(val_loss, label='Validation Loss')\n",
        "plt.title('Validation Loss')\n",
        "plt.xlabel('Epoch')\n",
        "plt.ylabel('Loss')\n",
        "plt.legend()\n",
        "plt.tight_layout()\n",
        "plt.savefig('val_loss.png')\n",
        "plt.show()\n",
        "\n",
        "# Plot Validation Accuracy\n",
        "plt.figure(figsize=(6, 4))\n",
        "plt.plot(val_acc, label='Validation Accuracy')\n",
        "plt.title('Validation Accuracy')\n",
        "plt.xlabel('Epoch')\n",
        "plt.ylabel('Accuracy (%)')\n",
        "plt.legend()\n",
        "plt.tight_layout()\n",
        "plt.savefig('val_accuracy.png')\n",
        "plt.show()\n",
        "\n",
        "# Plot Test Loss\n",
        "plt.figure(figsize=(6, 4))\n",
        "plt.plot(test_loss, label='Test Loss')\n",
        "plt.title('Test Loss')\n",
        "plt.xlabel('Epoch')\n",
        "plt.ylabel('Loss')\n",
        "plt.legend()\n",
        "plt.tight_layout()\n",
        "plt.savefig('test_loss.png')\n",
        "plt.show()\n",
        "\n",
        "# Plot Test Accuracy\n",
        "plt.figure(figsize=(6, 4))\n",
        "plt.plot(test_acc, label='Test Accuracy')\n",
        "plt.title('Test Accuracy')\n",
        "plt.xlabel('Epoch')\n",
        "plt.ylabel('Accuracy (%)')\n",
        "plt.legend()\n",
        "plt.tight_layout()\n",
        "plt.savefig('test_accuracy.png')\n",
        "plt.show()"
      ]
    },
    {
      "cell_type": "code",
      "execution_count": 3,
      "metadata": {
        "id": "h1E7a47hjITS",
        "colab": {
          "base_uri": "https://localhost:8080/",
          "height": 1000
        },
        "outputId": "5a721d9e-7882-4c52-f661-e174b19b8a00"
      },
      "outputs": [
        {
          "metadata": {
            "tags": null
          },
          "name": "stdout",
          "output_type": "stream",
          "text": [
            "Files already downloaded and verified\n",
            "Files already downloaded and verified\n",
            "Files already downloaded and verified\n",
            "Files already downloaded and verified\n",
            "--- Train with LARS ---\n",
            "Epoch 1/150, Train Acc: 1.47%, Val Acc: 2.31%, Test Acc: 2.39%\n",
            "Epoch 1/150, Train Loss: 4.6025, Val Loss: 4.5917, Test Loss: 4.5931\n",
            "Epoch 2/150, Train Acc: 2.15%, Val Acc: 2.72%, Test Acc: 2.69%\n",
            "Epoch 2/150, Train Loss: 4.5714, Val Loss: 4.4997, Test Loss: 4.5071\n",
            "Epoch 3/150, Train Acc: 2.94%, Val Acc: 3.41%, Test Acc: 3.12%\n",
            "Epoch 3/150, Train Loss: 4.5058, Val Loss: 4.3923, Test Loss: 4.4161\n",
            "Epoch 4/150, Train Acc: 3.76%, Val Acc: 6.20%, Test Acc: 5.45%\n",
            "Epoch 4/150, Train Loss: 4.3962, Val Loss: 4.2130, Test Loss: 4.2573\n",
            "Warmup phase completed at epoch 5. Switching to constant learning rate.\n",
            "Epoch 5/150, Train Acc: 5.21%, Val Acc: 6.14%, Test Acc: 5.82%\n",
            "Epoch 5/150, Train Loss: 4.2768, Val Loss: 4.1294, Test Loss: 4.1749\n",
            "Epoch 6/150, Train Acc: 5.77%, Val Acc: 8.01%, Test Acc: 7.14%\n",
            "Epoch 6/150, Train Loss: 4.2065, Val Loss: 4.0320, Test Loss: 4.1076\n",
            "Epoch 7/150, Train Acc: 6.43%, Val Acc: 8.48%, Test Acc: 7.97%\n",
            "Epoch 7/150, Train Loss: 4.1556, Val Loss: 4.0152, Test Loss: 4.0664\n",
            "Epoch 8/150, Train Acc: 7.13%, Val Acc: 9.24%, Test Acc: 9.04%\n",
            "Epoch 8/150, Train Loss: 4.1208, Val Loss: 3.9644, Test Loss: 4.0172\n",
            "Epoch 9/150, Train Acc: 8.07%, Val Acc: 9.62%, Test Acc: 9.23%\n",
            "Epoch 9/150, Train Loss: 4.0647, Val Loss: 3.9043, Test Loss: 3.9714\n",
            "Checkpoint saved at epoch 10: ./checkpoint_epoch_10.pth\n"
          ]
        },
        {
          "data": {
            "application/javascript": [
              "\n",
              "    async function download(id, filename, size) {\n",
              "      if (!google.colab.kernel.accessAllowed) {\n",
              "        return;\n",
              "      }\n",
              "      const div = document.createElement('div');\n",
              "      const label = document.createElement('label');\n",
              "      label.textContent = `Downloading \"${filename}\": `;\n",
              "      div.appendChild(label);\n",
              "      const progress = document.createElement('progress');\n",
              "      progress.max = size;\n",
              "      div.appendChild(progress);\n",
              "      document.body.appendChild(div);\n",
              "\n",
              "      const buffers = [];\n",
              "      let downloaded = 0;\n",
              "\n",
              "      const channel = await google.colab.kernel.comms.open(id);\n",
              "      // Send a message to notify the kernel that we're ready.\n",
              "      channel.send({})\n",
              "\n",
              "      for await (const message of channel.messages) {\n",
              "        // Send a message to notify the kernel that we're ready.\n",
              "        channel.send({})\n",
              "        if (message.buffers) {\n",
              "          for (const buffer of message.buffers) {\n",
              "            buffers.push(buffer);\n",
              "            downloaded += buffer.byteLength;\n",
              "            progress.value = downloaded;\n",
              "          }\n",
              "        }\n",
              "      }\n",
              "      const blob = new Blob(buffers, {type: 'application/binary'});\n",
              "      const a = document.createElement('a');\n",
              "      a.href = window.URL.createObjectURL(blob);\n",
              "      a.download = filename;\n",
              "      div.appendChild(a);\n",
              "      a.click();\n",
              "      div.remove();\n",
              "    }\n",
              "  "
            ],
            "text/plain": [
              "<IPython.core.display.Javascript object>"
            ]
          },
          "metadata": {},
          "output_type": "display_data"
        },
        {
          "data": {
            "application/javascript": [
              "download(\"download_46cf508e-2542-4ba0-b3e7-8f7a3b9c37ca\", \"checkpoint_epoch_10.pth\", 6530106)"
            ],
            "text/plain": [
              "<IPython.core.display.Javascript object>"
            ]
          },
          "metadata": {},
          "output_type": "display_data"
        },
        {
          "metadata": {
            "tags": null
          },
          "name": "stdout",
          "output_type": "stream",
          "text": [
            "Epoch 10/150, Train Acc: 8.29%, Val Acc: 10.71%, Test Acc: 9.87%\n",
            "Epoch 10/150, Train Loss: 4.0264, Val Loss: 3.8831, Test Loss: 3.9413\n",
            "Epoch 11/150, Train Acc: 9.12%, Val Acc: 11.62%, Test Acc: 10.88%\n",
            "Epoch 11/150, Train Loss: 3.9822, Val Loss: 3.8320, Test Loss: 3.8810\n",
            "Epoch 12/150, Train Acc: 9.76%, Val Acc: 12.01%, Test Acc: 12.30%\n",
            "Epoch 12/150, Train Loss: 3.9421, Val Loss: 3.7795, Test Loss: 3.8123\n",
            "Epoch 13/150, Train Acc: 10.54%, Val Acc: 13.01%, Test Acc: 11.75%\n",
            "Epoch 13/150, Train Loss: 3.8987, Val Loss: 3.7376, Test Loss: 3.8194\n",
            "Epoch 14/150, Train Acc: 11.09%, Val Acc: 14.52%, Test Acc: 12.88%\n",
            "Epoch 14/150, Train Loss: 3.8704, Val Loss: 3.6775, Test Loss: 3.7769\n",
            "Epoch 15/150, Train Acc: 11.77%, Val Acc: 14.74%, Test Acc: 13.88%\n",
            "Epoch 15/150, Train Loss: 3.8264, Val Loss: 3.6388, Test Loss: 3.7194\n",
            "Epoch 16/150, Train Acc: 12.64%, Val Acc: 15.93%, Test Acc: 13.68%\n",
            "Epoch 16/150, Train Loss: 3.7834, Val Loss: 3.5895, Test Loss: 3.7107\n",
            "Epoch 17/150, Train Acc: 13.19%, Val Acc: 16.67%, Test Acc: 14.31%\n",
            "Epoch 17/150, Train Loss: 3.7407, Val Loss: 3.5622, Test Loss: 3.6736\n",
            "Epoch 18/150, Train Acc: 13.42%, Val Acc: 15.98%, Test Acc: 14.75%\n",
            "Epoch 18/150, Train Loss: 3.7127, Val Loss: 3.5492, Test Loss: 3.6460\n",
            "Epoch 19/150, Train Acc: 13.93%, Val Acc: 15.84%, Test Acc: 15.10%\n",
            "Epoch 19/150, Train Loss: 3.6897, Val Loss: 3.5767, Test Loss: 3.5899\n",
            "Checkpoint saved at epoch 20: ./checkpoint_epoch_20.pth\n"
          ]
        },
        {
          "data": {
            "application/javascript": [
              "\n",
              "    async function download(id, filename, size) {\n",
              "      if (!google.colab.kernel.accessAllowed) {\n",
              "        return;\n",
              "      }\n",
              "      const div = document.createElement('div');\n",
              "      const label = document.createElement('label');\n",
              "      label.textContent = `Downloading \"${filename}\": `;\n",
              "      div.appendChild(label);\n",
              "      const progress = document.createElement('progress');\n",
              "      progress.max = size;\n",
              "      div.appendChild(progress);\n",
              "      document.body.appendChild(div);\n",
              "\n",
              "      const buffers = [];\n",
              "      let downloaded = 0;\n",
              "\n",
              "      const channel = await google.colab.kernel.comms.open(id);\n",
              "      // Send a message to notify the kernel that we're ready.\n",
              "      channel.send({})\n",
              "\n",
              "      for await (const message of channel.messages) {\n",
              "        // Send a message to notify the kernel that we're ready.\n",
              "        channel.send({})\n",
              "        if (message.buffers) {\n",
              "          for (const buffer of message.buffers) {\n",
              "            buffers.push(buffer);\n",
              "            downloaded += buffer.byteLength;\n",
              "            progress.value = downloaded;\n",
              "          }\n",
              "        }\n",
              "      }\n",
              "      const blob = new Blob(buffers, {type: 'application/binary'});\n",
              "      const a = document.createElement('a');\n",
              "      a.href = window.URL.createObjectURL(blob);\n",
              "      a.download = filename;\n",
              "      div.appendChild(a);\n",
              "      a.click();\n",
              "      div.remove();\n",
              "    }\n",
              "  "
            ],
            "text/plain": [
              "<IPython.core.display.Javascript object>"
            ]
          },
          "metadata": {},
          "output_type": "display_data"
        },
        {
          "data": {
            "application/javascript": [
              "download(\"download_a3e43652-cee8-4c77-ae2a-e1116876c0a3\", \"checkpoint_epoch_20.pth\", 6530106)"
            ],
            "text/plain": [
              "<IPython.core.display.Javascript object>"
            ]
          },
          "metadata": {},
          "output_type": "display_data"
        },
        {
          "metadata": {
            "tags": null
          },
          "name": "stdout",
          "output_type": "stream",
          "text": [
            "Epoch 20/150, Train Acc: 14.16%, Val Acc: 17.67%, Test Acc: 15.02%\n",
            "Epoch 20/150, Train Loss: 3.6663, Val Loss: 3.4910, Test Loss: 3.5933\n",
            "Epoch 21/150, Train Acc: 14.44%, Val Acc: 17.73%, Test Acc: 16.11%\n",
            "Epoch 21/150, Train Loss: 3.6628, Val Loss: 3.4875, Test Loss: 3.5694\n",
            "Epoch 22/150, Train Acc: 14.78%, Val Acc: 17.62%, Test Acc: 15.66%\n",
            "Epoch 22/150, Train Loss: 3.6434, Val Loss: 3.4699, Test Loss: 3.5581\n",
            "Epoch 23/150, Train Acc: 15.06%, Val Acc: 17.92%, Test Acc: 15.97%\n",
            "Epoch 23/150, Train Loss: 3.6300, Val Loss: 3.4602, Test Loss: 3.5556\n",
            "Epoch 24/150, Train Acc: 15.02%, Val Acc: 18.30%, Test Acc: 15.32%\n",
            "Epoch 24/150, Train Loss: 3.6102, Val Loss: 3.4587, Test Loss: 3.5852\n",
            "Epoch 25/150, Train Acc: 15.72%, Val Acc: 19.29%, Test Acc: 16.06%\n",
            "Epoch 25/150, Train Loss: 3.5812, Val Loss: 3.4002, Test Loss: 3.5362\n",
            "Epoch 26/150, Train Acc: 16.16%, Val Acc: 19.22%, Test Acc: 16.21%\n",
            "Epoch 26/150, Train Loss: 3.5598, Val Loss: 3.3984, Test Loss: 3.5297\n",
            "Epoch 27/150, Train Acc: 16.51%, Val Acc: 18.76%, Test Acc: 15.31%\n",
            "Epoch 27/150, Train Loss: 3.5417, Val Loss: 3.4157, Test Loss: 3.5730\n",
            "Epoch 28/150, Train Acc: 16.02%, Val Acc: 19.74%, Test Acc: 16.41%\n",
            "Epoch 28/150, Train Loss: 3.5569, Val Loss: 3.3678, Test Loss: 3.5231\n",
            "Epoch 29/150, Train Acc: 16.57%, Val Acc: 20.24%, Test Acc: 17.17%\n",
            "Epoch 29/150, Train Loss: 3.5290, Val Loss: 3.3525, Test Loss: 3.4915\n",
            "Checkpoint saved at epoch 30: ./checkpoint_epoch_30.pth\n"
          ]
        },
        {
          "data": {
            "application/javascript": [
              "\n",
              "    async function download(id, filename, size) {\n",
              "      if (!google.colab.kernel.accessAllowed) {\n",
              "        return;\n",
              "      }\n",
              "      const div = document.createElement('div');\n",
              "      const label = document.createElement('label');\n",
              "      label.textContent = `Downloading \"${filename}\": `;\n",
              "      div.appendChild(label);\n",
              "      const progress = document.createElement('progress');\n",
              "      progress.max = size;\n",
              "      div.appendChild(progress);\n",
              "      document.body.appendChild(div);\n",
              "\n",
              "      const buffers = [];\n",
              "      let downloaded = 0;\n",
              "\n",
              "      const channel = await google.colab.kernel.comms.open(id);\n",
              "      // Send a message to notify the kernel that we're ready.\n",
              "      channel.send({})\n",
              "\n",
              "      for await (const message of channel.messages) {\n",
              "        // Send a message to notify the kernel that we're ready.\n",
              "        channel.send({})\n",
              "        if (message.buffers) {\n",
              "          for (const buffer of message.buffers) {\n",
              "            buffers.push(buffer);\n",
              "            downloaded += buffer.byteLength;\n",
              "            progress.value = downloaded;\n",
              "          }\n",
              "        }\n",
              "      }\n",
              "      const blob = new Blob(buffers, {type: 'application/binary'});\n",
              "      const a = document.createElement('a');\n",
              "      a.href = window.URL.createObjectURL(blob);\n",
              "      a.download = filename;\n",
              "      div.appendChild(a);\n",
              "      a.click();\n",
              "      div.remove();\n",
              "    }\n",
              "  "
            ],
            "text/plain": [
              "<IPython.core.display.Javascript object>"
            ]
          },
          "metadata": {},
          "output_type": "display_data"
        },
        {
          "data": {
            "application/javascript": [
              "download(\"download_3e5a84ed-6107-4f33-a20b-6ae790ab0e2a\", \"checkpoint_epoch_30.pth\", 6530106)"
            ],
            "text/plain": [
              "<IPython.core.display.Javascript object>"
            ]
          },
          "metadata": {},
          "output_type": "display_data"
        },
        {
          "metadata": {
            "tags": null
          },
          "name": "stdout",
          "output_type": "stream",
          "text": [
            "Epoch 30/150, Train Acc: 17.28%, Val Acc: 19.98%, Test Acc: 17.78%\n",
            "Epoch 30/150, Train Loss: 3.5082, Val Loss: 3.3783, Test Loss: 3.4435\n",
            "Epoch 31/150, Train Acc: 16.87%, Val Acc: 20.43%, Test Acc: 18.06%\n",
            "Epoch 31/150, Train Loss: 3.5083, Val Loss: 3.3440, Test Loss: 3.4369\n",
            "Epoch 32/150, Train Acc: 17.84%, Val Acc: 20.73%, Test Acc: 17.92%\n",
            "Epoch 32/150, Train Loss: 3.4803, Val Loss: 3.3395, Test Loss: 3.4360\n",
            "Epoch 33/150, Train Acc: 17.88%, Val Acc: 20.47%, Test Acc: 18.65%\n",
            "Epoch 33/150, Train Loss: 3.4739, Val Loss: 3.3472, Test Loss: 3.3974\n",
            "Epoch 34/150, Train Acc: 17.74%, Val Acc: 20.56%, Test Acc: 17.99%\n",
            "Epoch 34/150, Train Loss: 3.4683, Val Loss: 3.3361, Test Loss: 3.4038\n",
            "Epoch 35/150, Train Acc: 17.97%, Val Acc: 21.47%, Test Acc: 18.88%\n",
            "Epoch 35/150, Train Loss: 3.4568, Val Loss: 3.2989, Test Loss: 3.3821\n",
            "Epoch 36/150, Train Acc: 17.56%, Val Acc: 21.80%, Test Acc: 19.06%\n",
            "Epoch 36/150, Train Loss: 3.4657, Val Loss: 3.2807, Test Loss: 3.3770\n",
            "Epoch 37/150, Train Acc: 17.88%, Val Acc: 21.56%, Test Acc: 18.78%\n",
            "Epoch 37/150, Train Loss: 3.4574, Val Loss: 3.2819, Test Loss: 3.4135\n",
            "Epoch 38/150, Train Acc: 18.61%, Val Acc: 21.85%, Test Acc: 18.91%\n",
            "Epoch 38/150, Train Loss: 3.4259, Val Loss: 3.2765, Test Loss: 3.4043\n",
            "Epoch 39/150, Train Acc: 18.60%, Val Acc: 22.97%, Test Acc: 19.72%\n",
            "Epoch 39/150, Train Loss: 3.4180, Val Loss: 3.2294, Test Loss: 3.3449\n",
            "Checkpoint saved at epoch 40: ./checkpoint_epoch_40.pth\n"
          ]
        },
        {
          "data": {
            "application/javascript": [
              "\n",
              "    async function download(id, filename, size) {\n",
              "      if (!google.colab.kernel.accessAllowed) {\n",
              "        return;\n",
              "      }\n",
              "      const div = document.createElement('div');\n",
              "      const label = document.createElement('label');\n",
              "      label.textContent = `Downloading \"${filename}\": `;\n",
              "      div.appendChild(label);\n",
              "      const progress = document.createElement('progress');\n",
              "      progress.max = size;\n",
              "      div.appendChild(progress);\n",
              "      document.body.appendChild(div);\n",
              "\n",
              "      const buffers = [];\n",
              "      let downloaded = 0;\n",
              "\n",
              "      const channel = await google.colab.kernel.comms.open(id);\n",
              "      // Send a message to notify the kernel that we're ready.\n",
              "      channel.send({})\n",
              "\n",
              "      for await (const message of channel.messages) {\n",
              "        // Send a message to notify the kernel that we're ready.\n",
              "        channel.send({})\n",
              "        if (message.buffers) {\n",
              "          for (const buffer of message.buffers) {\n",
              "            buffers.push(buffer);\n",
              "            downloaded += buffer.byteLength;\n",
              "            progress.value = downloaded;\n",
              "          }\n",
              "        }\n",
              "      }\n",
              "      const blob = new Blob(buffers, {type: 'application/binary'});\n",
              "      const a = document.createElement('a');\n",
              "      a.href = window.URL.createObjectURL(blob);\n",
              "      a.download = filename;\n",
              "      div.appendChild(a);\n",
              "      a.click();\n",
              "      div.remove();\n",
              "    }\n",
              "  "
            ],
            "text/plain": [
              "<IPython.core.display.Javascript object>"
            ]
          },
          "metadata": {},
          "output_type": "display_data"
        },
        {
          "data": {
            "application/javascript": [
              "download(\"download_bd563775-3a42-4303-8028-498f7d5713af\", \"checkpoint_epoch_40.pth\", 6530106)"
            ],
            "text/plain": [
              "<IPython.core.display.Javascript object>"
            ]
          },
          "metadata": {},
          "output_type": "display_data"
        },
        {
          "metadata": {
            "tags": null
          },
          "name": "stdout",
          "output_type": "stream",
          "text": [
            "Epoch 40/150, Train Acc: 19.00%, Val Acc: 22.96%, Test Acc: 20.01%\n",
            "Epoch 40/150, Train Loss: 3.4070, Val Loss: 3.2442, Test Loss: 3.3275\n",
            "Epoch 41/150, Train Acc: 19.38%, Val Acc: 22.76%, Test Acc: 19.57%\n",
            "Epoch 41/150, Train Loss: 3.3880, Val Loss: 3.2152, Test Loss: 3.3524\n",
            "Epoch 42/150, Train Acc: 19.78%, Val Acc: 22.93%, Test Acc: 19.86%\n",
            "Epoch 42/150, Train Loss: 3.3616, Val Loss: 3.2178, Test Loss: 3.3393\n",
            "Epoch 43/150, Train Acc: 19.77%, Val Acc: 22.04%, Test Acc: 20.75%\n",
            "Epoch 43/150, Train Loss: 3.3606, Val Loss: 3.2500, Test Loss: 3.2895\n",
            "Epoch 44/150, Train Acc: 19.70%, Val Acc: 23.48%, Test Acc: 21.89%\n",
            "Epoch 44/150, Train Loss: 3.3519, Val Loss: 3.2024, Test Loss: 3.2432\n",
            "Epoch 45/150, Train Acc: 20.23%, Val Acc: 23.13%, Test Acc: 21.12%\n",
            "Epoch 45/150, Train Loss: 3.3379, Val Loss: 3.1930, Test Loss: 3.2757\n",
            "Epoch 46/150, Train Acc: 20.39%, Val Acc: 23.11%, Test Acc: 20.55%\n",
            "Epoch 46/150, Train Loss: 3.3162, Val Loss: 3.1861, Test Loss: 3.3088\n",
            "Epoch 47/150, Train Acc: 20.79%, Val Acc: 24.05%, Test Acc: 20.92%\n",
            "Epoch 47/150, Train Loss: 3.3006, Val Loss: 3.1676, Test Loss: 3.3006\n",
            "Epoch 48/150, Train Acc: 20.78%, Val Acc: 25.08%, Test Acc: 21.67%\n",
            "Epoch 48/150, Train Loss: 3.2968, Val Loss: 3.1427, Test Loss: 3.2342\n",
            "Epoch 49/150, Train Acc: 21.47%, Val Acc: 24.77%, Test Acc: 21.99%\n",
            "Epoch 49/150, Train Loss: 3.2666, Val Loss: 3.1149, Test Loss: 3.2374\n",
            "Checkpoint saved at epoch 50: ./checkpoint_epoch_50.pth\n"
          ]
        },
        {
          "data": {
            "application/javascript": [
              "\n",
              "    async function download(id, filename, size) {\n",
              "      if (!google.colab.kernel.accessAllowed) {\n",
              "        return;\n",
              "      }\n",
              "      const div = document.createElement('div');\n",
              "      const label = document.createElement('label');\n",
              "      label.textContent = `Downloading \"${filename}\": `;\n",
              "      div.appendChild(label);\n",
              "      const progress = document.createElement('progress');\n",
              "      progress.max = size;\n",
              "      div.appendChild(progress);\n",
              "      document.body.appendChild(div);\n",
              "\n",
              "      const buffers = [];\n",
              "      let downloaded = 0;\n",
              "\n",
              "      const channel = await google.colab.kernel.comms.open(id);\n",
              "      // Send a message to notify the kernel that we're ready.\n",
              "      channel.send({})\n",
              "\n",
              "      for await (const message of channel.messages) {\n",
              "        // Send a message to notify the kernel that we're ready.\n",
              "        channel.send({})\n",
              "        if (message.buffers) {\n",
              "          for (const buffer of message.buffers) {\n",
              "            buffers.push(buffer);\n",
              "            downloaded += buffer.byteLength;\n",
              "            progress.value = downloaded;\n",
              "          }\n",
              "        }\n",
              "      }\n",
              "      const blob = new Blob(buffers, {type: 'application/binary'});\n",
              "      const a = document.createElement('a');\n",
              "      a.href = window.URL.createObjectURL(blob);\n",
              "      a.download = filename;\n",
              "      div.appendChild(a);\n",
              "      a.click();\n",
              "      div.remove();\n",
              "    }\n",
              "  "
            ],
            "text/plain": [
              "<IPython.core.display.Javascript object>"
            ]
          },
          "metadata": {},
          "output_type": "display_data"
        },
        {
          "data": {
            "application/javascript": [
              "download(\"download_228135ff-fe8a-4e46-b762-9bf847ed5bb9\", \"checkpoint_epoch_50.pth\", 6530106)"
            ],
            "text/plain": [
              "<IPython.core.display.Javascript object>"
            ]
          },
          "metadata": {},
          "output_type": "display_data"
        },
        {
          "metadata": {
            "tags": null
          },
          "name": "stdout",
          "output_type": "stream",
          "text": [
            "Epoch 50/150, Train Acc: 21.61%, Val Acc: 24.77%, Test Acc: 21.71%\n",
            "Epoch 50/150, Train Loss: 3.2555, Val Loss: 3.1180, Test Loss: 3.2325\n",
            "Epoch 51/150, Train Acc: 21.84%, Val Acc: 25.02%, Test Acc: 22.31%\n",
            "Epoch 51/150, Train Loss: 3.2471, Val Loss: 3.0945, Test Loss: 3.2056\n",
            "Epoch 52/150, Train Acc: 21.98%, Val Acc: 24.41%, Test Acc: 22.83%\n",
            "Epoch 52/150, Train Loss: 3.2376, Val Loss: 3.1174, Test Loss: 3.1775\n",
            "Epoch 53/150, Train Acc: 21.82%, Val Acc: 25.22%, Test Acc: 22.38%\n",
            "Epoch 53/150, Train Loss: 3.2306, Val Loss: 3.0846, Test Loss: 3.2011\n",
            "Epoch 54/150, Train Acc: 22.25%, Val Acc: 25.77%, Test Acc: 22.32%\n",
            "Epoch 54/150, Train Loss: 3.2190, Val Loss: 3.0537, Test Loss: 3.2093\n",
            "Epoch 55/150, Train Acc: 22.55%, Val Acc: 25.68%, Test Acc: 22.10%\n",
            "Epoch 55/150, Train Loss: 3.2101, Val Loss: 3.0720, Test Loss: 3.2348\n",
            "Epoch 56/150, Train Acc: 22.40%, Val Acc: 24.95%, Test Acc: 22.64%\n",
            "Epoch 56/150, Train Loss: 3.2199, Val Loss: 3.0851, Test Loss: 3.1991\n",
            "Epoch 57/150, Train Acc: 22.10%, Val Acc: 25.64%, Test Acc: 22.21%\n",
            "Epoch 57/150, Train Loss: 3.2280, Val Loss: 3.0810, Test Loss: 3.1995\n",
            "Epoch 58/150, Train Acc: 22.68%, Val Acc: 26.42%, Test Acc: 23.70%\n",
            "Epoch 58/150, Train Loss: 3.2011, Val Loss: 3.0480, Test Loss: 3.1419\n",
            "Epoch 59/150, Train Acc: 22.24%, Val Acc: 24.99%, Test Acc: 22.06%\n",
            "Epoch 59/150, Train Loss: 3.2171, Val Loss: 3.1028, Test Loss: 3.2512\n",
            "Checkpoint saved at epoch 60: ./checkpoint_epoch_60.pth\n"
          ]
        },
        {
          "data": {
            "application/javascript": [
              "\n",
              "    async function download(id, filename, size) {\n",
              "      if (!google.colab.kernel.accessAllowed) {\n",
              "        return;\n",
              "      }\n",
              "      const div = document.createElement('div');\n",
              "      const label = document.createElement('label');\n",
              "      label.textContent = `Downloading \"${filename}\": `;\n",
              "      div.appendChild(label);\n",
              "      const progress = document.createElement('progress');\n",
              "      progress.max = size;\n",
              "      div.appendChild(progress);\n",
              "      document.body.appendChild(div);\n",
              "\n",
              "      const buffers = [];\n",
              "      let downloaded = 0;\n",
              "\n",
              "      const channel = await google.colab.kernel.comms.open(id);\n",
              "      // Send a message to notify the kernel that we're ready.\n",
              "      channel.send({})\n",
              "\n",
              "      for await (const message of channel.messages) {\n",
              "        // Send a message to notify the kernel that we're ready.\n",
              "        channel.send({})\n",
              "        if (message.buffers) {\n",
              "          for (const buffer of message.buffers) {\n",
              "            buffers.push(buffer);\n",
              "            downloaded += buffer.byteLength;\n",
              "            progress.value = downloaded;\n",
              "          }\n",
              "        }\n",
              "      }\n",
              "      const blob = new Blob(buffers, {type: 'application/binary'});\n",
              "      const a = document.createElement('a');\n",
              "      a.href = window.URL.createObjectURL(blob);\n",
              "      a.download = filename;\n",
              "      div.appendChild(a);\n",
              "      a.click();\n",
              "      div.remove();\n",
              "    }\n",
              "  "
            ],
            "text/plain": [
              "<IPython.core.display.Javascript object>"
            ]
          },
          "metadata": {},
          "output_type": "display_data"
        },
        {
          "data": {
            "application/javascript": [
              "download(\"download_a49f72b0-377c-47d7-afa4-b4d1e7119c61\", \"checkpoint_epoch_60.pth\", 6530106)"
            ],
            "text/plain": [
              "<IPython.core.display.Javascript object>"
            ]
          },
          "metadata": {},
          "output_type": "display_data"
        },
        {
          "metadata": {
            "tags": null
          },
          "name": "stdout",
          "output_type": "stream",
          "text": [
            "Epoch 60/150, Train Acc: 22.45%, Val Acc: 26.06%, Test Acc: 21.80%\n",
            "Epoch 60/150, Train Loss: 3.2142, Val Loss: 3.0707, Test Loss: 3.2174\n",
            "Epoch 61/150, Train Acc: 22.77%, Val Acc: 25.77%, Test Acc: 23.10%\n",
            "Epoch 61/150, Train Loss: 3.1906, Val Loss: 3.0577, Test Loss: 3.1558\n",
            "Epoch 62/150, Train Acc: 23.27%, Val Acc: 26.71%, Test Acc: 23.77%\n",
            "Epoch 62/150, Train Loss: 3.1637, Val Loss: 3.0233, Test Loss: 3.1426\n",
            "Epoch 63/150, Train Acc: 23.36%, Val Acc: 26.39%, Test Acc: 23.11%\n",
            "Epoch 63/150, Train Loss: 3.1573, Val Loss: 3.0269, Test Loss: 3.1641\n",
            "Epoch 64/150, Train Acc: 22.92%, Val Acc: 26.49%, Test Acc: 23.76%\n",
            "Epoch 64/150, Train Loss: 3.1779, Val Loss: 3.0367, Test Loss: 3.1398\n",
            "Epoch 65/150, Train Acc: 23.77%, Val Acc: 26.58%, Test Acc: 23.89%\n",
            "Epoch 65/150, Train Loss: 3.1423, Val Loss: 3.0286, Test Loss: 3.1363\n",
            "Epoch 66/150, Train Acc: 23.86%, Val Acc: 27.03%, Test Acc: 23.28%\n",
            "Epoch 66/150, Train Loss: 3.1454, Val Loss: 3.0130, Test Loss: 3.1527\n",
            "Epoch 67/150, Train Acc: 23.52%, Val Acc: 26.65%, Test Acc: 24.57%\n",
            "Epoch 67/150, Train Loss: 3.1443, Val Loss: 3.0122, Test Loss: 3.1214\n",
            "Epoch 68/150, Train Acc: 23.70%, Val Acc: 27.04%, Test Acc: 22.93%\n",
            "Epoch 68/150, Train Loss: 3.1483, Val Loss: 2.9957, Test Loss: 3.1592\n",
            "Epoch 69/150, Train Acc: 24.50%, Val Acc: 26.83%, Test Acc: 24.47%\n",
            "Epoch 69/150, Train Loss: 3.1107, Val Loss: 2.9891, Test Loss: 3.1058\n",
            "Checkpoint saved at epoch 70: ./checkpoint_epoch_70.pth\n"
          ]
        },
        {
          "data": {
            "application/javascript": [
              "\n",
              "    async function download(id, filename, size) {\n",
              "      if (!google.colab.kernel.accessAllowed) {\n",
              "        return;\n",
              "      }\n",
              "      const div = document.createElement('div');\n",
              "      const label = document.createElement('label');\n",
              "      label.textContent = `Downloading \"${filename}\": `;\n",
              "      div.appendChild(label);\n",
              "      const progress = document.createElement('progress');\n",
              "      progress.max = size;\n",
              "      div.appendChild(progress);\n",
              "      document.body.appendChild(div);\n",
              "\n",
              "      const buffers = [];\n",
              "      let downloaded = 0;\n",
              "\n",
              "      const channel = await google.colab.kernel.comms.open(id);\n",
              "      // Send a message to notify the kernel that we're ready.\n",
              "      channel.send({})\n",
              "\n",
              "      for await (const message of channel.messages) {\n",
              "        // Send a message to notify the kernel that we're ready.\n",
              "        channel.send({})\n",
              "        if (message.buffers) {\n",
              "          for (const buffer of message.buffers) {\n",
              "            buffers.push(buffer);\n",
              "            downloaded += buffer.byteLength;\n",
              "            progress.value = downloaded;\n",
              "          }\n",
              "        }\n",
              "      }\n",
              "      const blob = new Blob(buffers, {type: 'application/binary'});\n",
              "      const a = document.createElement('a');\n",
              "      a.href = window.URL.createObjectURL(blob);\n",
              "      a.download = filename;\n",
              "      div.appendChild(a);\n",
              "      a.click();\n",
              "      div.remove();\n",
              "    }\n",
              "  "
            ],
            "text/plain": [
              "<IPython.core.display.Javascript object>"
            ]
          },
          "metadata": {},
          "output_type": "display_data"
        },
        {
          "data": {
            "application/javascript": [
              "download(\"download_23923ea1-b98e-4342-a478-f500cd0227ef\", \"checkpoint_epoch_70.pth\", 6530106)"
            ],
            "text/plain": [
              "<IPython.core.display.Javascript object>"
            ]
          },
          "metadata": {},
          "output_type": "display_data"
        },
        {
          "metadata": {
            "tags": null
          },
          "name": "stdout",
          "output_type": "stream",
          "text": [
            "Epoch 70/150, Train Acc: 23.88%, Val Acc: 27.12%, Test Acc: 24.52%\n",
            "Epoch 70/150, Train Loss: 3.1337, Val Loss: 2.9990, Test Loss: 3.1145\n",
            "Epoch 71/150, Train Acc: 24.51%, Val Acc: 27.21%, Test Acc: 23.60%\n",
            "Epoch 71/150, Train Loss: 3.1087, Val Loss: 2.9692, Test Loss: 3.1400\n",
            "Epoch 72/150, Train Acc: 24.70%, Val Acc: 27.40%, Test Acc: 24.72%\n",
            "Epoch 72/150, Train Loss: 3.1032, Val Loss: 2.9631, Test Loss: 3.0957\n",
            "Epoch 73/150, Train Acc: 24.60%, Val Acc: 27.70%, Test Acc: 23.57%\n",
            "Epoch 73/150, Train Loss: 3.0916, Val Loss: 2.9682, Test Loss: 3.1453\n",
            "Epoch 74/150, Train Acc: 24.59%, Val Acc: 27.89%, Test Acc: 23.77%\n",
            "Epoch 74/150, Train Loss: 3.0955, Val Loss: 2.9508, Test Loss: 3.1229\n",
            "Epoch 75/150, Train Acc: 25.23%, Val Acc: 27.85%, Test Acc: 25.79%\n",
            "Epoch 75/150, Train Loss: 3.0744, Val Loss: 2.9388, Test Loss: 3.0334\n",
            "Epoch 76/150, Train Acc: 25.39%, Val Acc: 28.36%, Test Acc: 24.77%\n",
            "Epoch 76/150, Train Loss: 3.0559, Val Loss: 2.9246, Test Loss: 3.0683\n",
            "Epoch 77/150, Train Acc: 25.07%, Val Acc: 28.12%, Test Acc: 25.43%\n",
            "Epoch 77/150, Train Loss: 3.0595, Val Loss: 2.9330, Test Loss: 3.0511\n",
            "Epoch 78/150, Train Acc: 25.05%, Val Acc: 27.55%, Test Acc: 24.62%\n",
            "Epoch 78/150, Train Loss: 3.0638, Val Loss: 2.9361, Test Loss: 3.0695\n",
            "Epoch 79/150, Train Acc: 25.23%, Val Acc: 28.44%, Test Acc: 23.62%\n",
            "Epoch 79/150, Train Loss: 3.0540, Val Loss: 2.9233, Test Loss: 3.1171\n",
            "Checkpoint saved at epoch 80: ./checkpoint_epoch_80.pth\n"
          ]
        },
        {
          "data": {
            "application/javascript": [
              "\n",
              "    async function download(id, filename, size) {\n",
              "      if (!google.colab.kernel.accessAllowed) {\n",
              "        return;\n",
              "      }\n",
              "      const div = document.createElement('div');\n",
              "      const label = document.createElement('label');\n",
              "      label.textContent = `Downloading \"${filename}\": `;\n",
              "      div.appendChild(label);\n",
              "      const progress = document.createElement('progress');\n",
              "      progress.max = size;\n",
              "      div.appendChild(progress);\n",
              "      document.body.appendChild(div);\n",
              "\n",
              "      const buffers = [];\n",
              "      let downloaded = 0;\n",
              "\n",
              "      const channel = await google.colab.kernel.comms.open(id);\n",
              "      // Send a message to notify the kernel that we're ready.\n",
              "      channel.send({})\n",
              "\n",
              "      for await (const message of channel.messages) {\n",
              "        // Send a message to notify the kernel that we're ready.\n",
              "        channel.send({})\n",
              "        if (message.buffers) {\n",
              "          for (const buffer of message.buffers) {\n",
              "            buffers.push(buffer);\n",
              "            downloaded += buffer.byteLength;\n",
              "            progress.value = downloaded;\n",
              "          }\n",
              "        }\n",
              "      }\n",
              "      const blob = new Blob(buffers, {type: 'application/binary'});\n",
              "      const a = document.createElement('a');\n",
              "      a.href = window.URL.createObjectURL(blob);\n",
              "      a.download = filename;\n",
              "      div.appendChild(a);\n",
              "      a.click();\n",
              "      div.remove();\n",
              "    }\n",
              "  "
            ],
            "text/plain": [
              "<IPython.core.display.Javascript object>"
            ]
          },
          "metadata": {},
          "output_type": "display_data"
        },
        {
          "data": {
            "application/javascript": [
              "download(\"download_b5d298b6-1181-4c06-abb8-6382ba95915e\", \"checkpoint_epoch_80.pth\", 6530106)"
            ],
            "text/plain": [
              "<IPython.core.display.Javascript object>"
            ]
          },
          "metadata": {},
          "output_type": "display_data"
        },
        {
          "metadata": {
            "tags": null
          },
          "name": "stdout",
          "output_type": "stream",
          "text": [
            "Epoch 80/150, Train Acc: 25.75%, Val Acc: 28.08%, Test Acc: 25.02%\n",
            "Epoch 80/150, Train Loss: 3.0421, Val Loss: 2.9090, Test Loss: 3.0746\n",
            "Epoch 81/150, Train Acc: 26.03%, Val Acc: 28.87%, Test Acc: 26.15%\n",
            "Epoch 81/150, Train Loss: 3.0370, Val Loss: 2.8973, Test Loss: 3.0214\n",
            "Epoch 82/150, Train Acc: 26.17%, Val Acc: 29.03%, Test Acc: 26.09%\n",
            "Epoch 82/150, Train Loss: 3.0163, Val Loss: 2.8945, Test Loss: 3.0128\n",
            "Epoch 83/150, Train Acc: 26.08%, Val Acc: 28.98%, Test Acc: 25.52%\n",
            "Epoch 83/150, Train Loss: 3.0193, Val Loss: 2.8969, Test Loss: 3.0477\n",
            "Epoch 84/150, Train Acc: 26.39%, Val Acc: 29.19%, Test Acc: 25.09%\n",
            "Epoch 84/150, Train Loss: 3.0076, Val Loss: 2.8818, Test Loss: 3.0562\n",
            "Epoch 85/150, Train Acc: 26.18%, Val Acc: 29.25%, Test Acc: 26.00%\n",
            "Epoch 85/150, Train Loss: 3.0154, Val Loss: 2.8681, Test Loss: 3.0028\n",
            "Epoch 86/150, Train Acc: 26.48%, Val Acc: 29.14%, Test Acc: 25.73%\n",
            "Epoch 86/150, Train Loss: 2.9999, Val Loss: 2.8778, Test Loss: 3.0228\n",
            "Epoch 87/150, Train Acc: 27.00%, Val Acc: 29.02%, Test Acc: 25.74%\n",
            "Epoch 87/150, Train Loss: 2.9915, Val Loss: 2.8833, Test Loss: 3.0356\n",
            "Epoch 88/150, Train Acc: 26.62%, Val Acc: 29.25%, Test Acc: 24.92%\n",
            "Epoch 88/150, Train Loss: 3.0031, Val Loss: 2.8672, Test Loss: 3.0544\n",
            "Epoch 89/150, Train Acc: 26.64%, Val Acc: 29.57%, Test Acc: 26.01%\n",
            "Epoch 89/150, Train Loss: 2.9816, Val Loss: 2.8501, Test Loss: 2.9940\n",
            "Checkpoint saved at epoch 90: ./checkpoint_epoch_90.pth\n"
          ]
        },
        {
          "data": {
            "application/javascript": [
              "\n",
              "    async function download(id, filename, size) {\n",
              "      if (!google.colab.kernel.accessAllowed) {\n",
              "        return;\n",
              "      }\n",
              "      const div = document.createElement('div');\n",
              "      const label = document.createElement('label');\n",
              "      label.textContent = `Downloading \"${filename}\": `;\n",
              "      div.appendChild(label);\n",
              "      const progress = document.createElement('progress');\n",
              "      progress.max = size;\n",
              "      div.appendChild(progress);\n",
              "      document.body.appendChild(div);\n",
              "\n",
              "      const buffers = [];\n",
              "      let downloaded = 0;\n",
              "\n",
              "      const channel = await google.colab.kernel.comms.open(id);\n",
              "      // Send a message to notify the kernel that we're ready.\n",
              "      channel.send({})\n",
              "\n",
              "      for await (const message of channel.messages) {\n",
              "        // Send a message to notify the kernel that we're ready.\n",
              "        channel.send({})\n",
              "        if (message.buffers) {\n",
              "          for (const buffer of message.buffers) {\n",
              "            buffers.push(buffer);\n",
              "            downloaded += buffer.byteLength;\n",
              "            progress.value = downloaded;\n",
              "          }\n",
              "        }\n",
              "      }\n",
              "      const blob = new Blob(buffers, {type: 'application/binary'});\n",
              "      const a = document.createElement('a');\n",
              "      a.href = window.URL.createObjectURL(blob);\n",
              "      a.download = filename;\n",
              "      div.appendChild(a);\n",
              "      a.click();\n",
              "      div.remove();\n",
              "    }\n",
              "  "
            ],
            "text/plain": [
              "<IPython.core.display.Javascript object>"
            ]
          },
          "metadata": {},
          "output_type": "display_data"
        },
        {
          "data": {
            "application/javascript": [
              "download(\"download_c3df0a7d-3c11-4397-a813-35b219d73ab5\", \"checkpoint_epoch_90.pth\", 6530106)"
            ],
            "text/plain": [
              "<IPython.core.display.Javascript object>"
            ]
          },
          "metadata": {},
          "output_type": "display_data"
        },
        {
          "metadata": {
            "tags": null
          },
          "name": "stdout",
          "output_type": "stream",
          "text": [
            "Epoch 90/150, Train Acc: 26.94%, Val Acc: 29.92%, Test Acc: 25.68%\n",
            "Epoch 90/150, Train Loss: 2.9757, Val Loss: 2.8519, Test Loss: 3.0306\n",
            "Epoch 91/150, Train Acc: 26.97%, Val Acc: 29.14%, Test Acc: 24.11%\n",
            "Epoch 91/150, Train Loss: 2.9665, Val Loss: 2.8793, Test Loss: 3.1135\n",
            "Epoch 92/150, Train Acc: 26.83%, Val Acc: 30.02%, Test Acc: 26.17%\n",
            "Epoch 92/150, Train Loss: 2.9785, Val Loss: 2.8339, Test Loss: 2.9937\n",
            "Epoch 93/150, Train Acc: 26.83%, Val Acc: 29.72%, Test Acc: 26.86%\n",
            "Epoch 93/150, Train Loss: 2.9642, Val Loss: 2.8367, Test Loss: 2.9770\n",
            "Epoch 94/150, Train Acc: 27.36%, Val Acc: 30.57%, Test Acc: 27.36%\n",
            "Epoch 94/150, Train Loss: 2.9590, Val Loss: 2.8165, Test Loss: 2.9468\n",
            "Epoch 95/150, Train Acc: 27.26%, Val Acc: 30.42%, Test Acc: 24.92%\n",
            "Epoch 95/150, Train Loss: 2.9335, Val Loss: 2.8345, Test Loss: 3.0568\n",
            "Epoch 96/150, Train Acc: 27.35%, Val Acc: 30.04%, Test Acc: 25.16%\n",
            "Epoch 96/150, Train Loss: 2.9488, Val Loss: 2.8345, Test Loss: 3.0445\n",
            "Epoch 97/150, Train Acc: 27.39%, Val Acc: 30.40%, Test Acc: 25.13%\n",
            "Epoch 97/150, Train Loss: 2.9464, Val Loss: 2.8208, Test Loss: 3.0386\n",
            "Epoch 98/150, Train Acc: 27.55%, Val Acc: 30.46%, Test Acc: 25.92%\n",
            "Epoch 98/150, Train Loss: 2.9313, Val Loss: 2.8136, Test Loss: 3.0135\n",
            "Epoch 99/150, Train Acc: 28.11%, Val Acc: 30.56%, Test Acc: 27.07%\n",
            "Epoch 99/150, Train Loss: 2.9196, Val Loss: 2.8028, Test Loss: 2.9372\n",
            "Checkpoint saved at epoch 100: ./checkpoint_epoch_100.pth\n"
          ]
        },
        {
          "data": {
            "application/javascript": [
              "\n",
              "    async function download(id, filename, size) {\n",
              "      if (!google.colab.kernel.accessAllowed) {\n",
              "        return;\n",
              "      }\n",
              "      const div = document.createElement('div');\n",
              "      const label = document.createElement('label');\n",
              "      label.textContent = `Downloading \"${filename}\": `;\n",
              "      div.appendChild(label);\n",
              "      const progress = document.createElement('progress');\n",
              "      progress.max = size;\n",
              "      div.appendChild(progress);\n",
              "      document.body.appendChild(div);\n",
              "\n",
              "      const buffers = [];\n",
              "      let downloaded = 0;\n",
              "\n",
              "      const channel = await google.colab.kernel.comms.open(id);\n",
              "      // Send a message to notify the kernel that we're ready.\n",
              "      channel.send({})\n",
              "\n",
              "      for await (const message of channel.messages) {\n",
              "        // Send a message to notify the kernel that we're ready.\n",
              "        channel.send({})\n",
              "        if (message.buffers) {\n",
              "          for (const buffer of message.buffers) {\n",
              "            buffers.push(buffer);\n",
              "            downloaded += buffer.byteLength;\n",
              "            progress.value = downloaded;\n",
              "          }\n",
              "        }\n",
              "      }\n",
              "      const blob = new Blob(buffers, {type: 'application/binary'});\n",
              "      const a = document.createElement('a');\n",
              "      a.href = window.URL.createObjectURL(blob);\n",
              "      a.download = filename;\n",
              "      div.appendChild(a);\n",
              "      a.click();\n",
              "      div.remove();\n",
              "    }\n",
              "  "
            ],
            "text/plain": [
              "<IPython.core.display.Javascript object>"
            ]
          },
          "metadata": {},
          "output_type": "display_data"
        },
        {
          "data": {
            "application/javascript": [
              "download(\"download_1f9b1341-50f5-4279-b841-fbc58bdaba5e\", \"checkpoint_epoch_100.pth\", 6530130)"
            ],
            "text/plain": [
              "<IPython.core.display.Javascript object>"
            ]
          },
          "metadata": {},
          "output_type": "display_data"
        },
        {
          "metadata": {
            "tags": null
          },
          "name": "stdout",
          "output_type": "stream",
          "text": [
            "Epoch 100/150, Train Acc: 28.44%, Val Acc: 31.02%, Test Acc: 27.44%\n",
            "Epoch 100/150, Train Loss: 2.9023, Val Loss: 2.7778, Test Loss: 2.9527\n",
            "Epoch 101/150, Train Acc: 28.11%, Val Acc: 31.08%, Test Acc: 25.77%\n",
            "Epoch 101/150, Train Loss: 2.9098, Val Loss: 2.8098, Test Loss: 3.0206\n",
            "Epoch 102/150, Train Acc: 28.24%, Val Acc: 30.84%, Test Acc: 26.05%\n",
            "Epoch 102/150, Train Loss: 2.9197, Val Loss: 2.7879, Test Loss: 2.9874\n",
            "Epoch 103/150, Train Acc: 28.05%, Val Acc: 30.43%, Test Acc: 25.36%\n",
            "Epoch 103/150, Train Loss: 2.9165, Val Loss: 2.8023, Test Loss: 3.0209\n",
            "Epoch 104/150, Train Acc: 28.66%, Val Acc: 31.31%, Test Acc: 26.72%\n",
            "Epoch 104/150, Train Loss: 2.8978, Val Loss: 2.7756, Test Loss: 2.9611\n",
            "Epoch 105/150, Train Acc: 28.55%, Val Acc: 31.15%, Test Acc: 27.12%\n",
            "Epoch 105/150, Train Loss: 2.8884, Val Loss: 2.7701, Test Loss: 2.9345\n",
            "Epoch 106/150, Train Acc: 28.65%, Val Acc: 31.77%, Test Acc: 27.92%\n",
            "Epoch 106/150, Train Loss: 2.8773, Val Loss: 2.7573, Test Loss: 2.9077\n",
            "Epoch 107/150, Train Acc: 29.03%, Val Acc: 30.78%, Test Acc: 26.33%\n",
            "Epoch 107/150, Train Loss: 2.8714, Val Loss: 2.7784, Test Loss: 2.9850\n",
            "Epoch 108/150, Train Acc: 28.77%, Val Acc: 31.00%, Test Acc: 26.33%\n",
            "Epoch 108/150, Train Loss: 2.8769, Val Loss: 2.7777, Test Loss: 2.9874\n",
            "Epoch 109/150, Train Acc: 28.70%, Val Acc: 31.35%, Test Acc: 26.30%\n",
            "Epoch 109/150, Train Loss: 2.8827, Val Loss: 2.7822, Test Loss: 2.9905\n",
            "Checkpoint saved at epoch 110: ./checkpoint_epoch_110.pth\n"
          ]
        },
        {
          "data": {
            "application/javascript": [
              "\n",
              "    async function download(id, filename, size) {\n",
              "      if (!google.colab.kernel.accessAllowed) {\n",
              "        return;\n",
              "      }\n",
              "      const div = document.createElement('div');\n",
              "      const label = document.createElement('label');\n",
              "      label.textContent = `Downloading \"${filename}\": `;\n",
              "      div.appendChild(label);\n",
              "      const progress = document.createElement('progress');\n",
              "      progress.max = size;\n",
              "      div.appendChild(progress);\n",
              "      document.body.appendChild(div);\n",
              "\n",
              "      const buffers = [];\n",
              "      let downloaded = 0;\n",
              "\n",
              "      const channel = await google.colab.kernel.comms.open(id);\n",
              "      // Send a message to notify the kernel that we're ready.\n",
              "      channel.send({})\n",
              "\n",
              "      for await (const message of channel.messages) {\n",
              "        // Send a message to notify the kernel that we're ready.\n",
              "        channel.send({})\n",
              "        if (message.buffers) {\n",
              "          for (const buffer of message.buffers) {\n",
              "            buffers.push(buffer);\n",
              "            downloaded += buffer.byteLength;\n",
              "            progress.value = downloaded;\n",
              "          }\n",
              "        }\n",
              "      }\n",
              "      const blob = new Blob(buffers, {type: 'application/binary'});\n",
              "      const a = document.createElement('a');\n",
              "      a.href = window.URL.createObjectURL(blob);\n",
              "      a.download = filename;\n",
              "      div.appendChild(a);\n",
              "      a.click();\n",
              "      div.remove();\n",
              "    }\n",
              "  "
            ],
            "text/plain": [
              "<IPython.core.display.Javascript object>"
            ]
          },
          "metadata": {},
          "output_type": "display_data"
        },
        {
          "data": {
            "application/javascript": [
              "download(\"download_5bac3266-7ef3-4784-af5c-6bf2cde1ba19\", \"checkpoint_epoch_110.pth\", 6530130)"
            ],
            "text/plain": [
              "<IPython.core.display.Javascript object>"
            ]
          },
          "metadata": {},
          "output_type": "display_data"
        },
        {
          "metadata": {
            "tags": null
          },
          "name": "stdout",
          "output_type": "stream",
          "text": [
            "Epoch 110/150, Train Acc: 28.70%, Val Acc: 31.47%, Test Acc: 27.10%\n",
            "Epoch 110/150, Train Loss: 2.8837, Val Loss: 2.7645, Test Loss: 2.9536\n",
            "Epoch 111/150, Train Acc: 29.27%, Val Acc: 31.66%, Test Acc: 26.23%\n",
            "Epoch 111/150, Train Loss: 2.8581, Val Loss: 2.7638, Test Loss: 2.9867\n",
            "Epoch 112/150, Train Acc: 29.06%, Val Acc: 31.97%, Test Acc: 27.95%\n",
            "Epoch 112/150, Train Loss: 2.8647, Val Loss: 2.7419, Test Loss: 2.9069\n",
            "Epoch 113/150, Train Acc: 29.26%, Val Acc: 31.59%, Test Acc: 27.72%\n",
            "Epoch 113/150, Train Loss: 2.8517, Val Loss: 2.7489, Test Loss: 2.9125\n",
            "Epoch 114/150, Train Acc: 29.68%, Val Acc: 31.98%, Test Acc: 27.92%\n",
            "Epoch 114/150, Train Loss: 2.8371, Val Loss: 2.7478, Test Loss: 2.8994\n",
            "Epoch 115/150, Train Acc: 29.45%, Val Acc: 32.06%, Test Acc: 27.64%\n",
            "Epoch 115/150, Train Loss: 2.8391, Val Loss: 2.7324, Test Loss: 2.9078\n",
            "Epoch 116/150, Train Acc: 29.80%, Val Acc: 32.23%, Test Acc: 27.52%\n",
            "Epoch 116/150, Train Loss: 2.8378, Val Loss: 2.7277, Test Loss: 2.9362\n",
            "Epoch 117/150, Train Acc: 29.93%, Val Acc: 32.08%, Test Acc: 27.84%\n",
            "Epoch 117/150, Train Loss: 2.8284, Val Loss: 2.7297, Test Loss: 2.9025\n",
            "Epoch 118/150, Train Acc: 29.87%, Val Acc: 31.83%, Test Acc: 28.15%\n",
            "Epoch 118/150, Train Loss: 2.8301, Val Loss: 2.7312, Test Loss: 2.8904\n",
            "Epoch 119/150, Train Acc: 29.74%, Val Acc: 32.41%, Test Acc: 27.97%\n",
            "Epoch 119/150, Train Loss: 2.8279, Val Loss: 2.7124, Test Loss: 2.9022\n",
            "Checkpoint saved at epoch 120: ./checkpoint_epoch_120.pth\n"
          ]
        },
        {
          "data": {
            "application/javascript": [
              "\n",
              "    async function download(id, filename, size) {\n",
              "      if (!google.colab.kernel.accessAllowed) {\n",
              "        return;\n",
              "      }\n",
              "      const div = document.createElement('div');\n",
              "      const label = document.createElement('label');\n",
              "      label.textContent = `Downloading \"${filename}\": `;\n",
              "      div.appendChild(label);\n",
              "      const progress = document.createElement('progress');\n",
              "      progress.max = size;\n",
              "      div.appendChild(progress);\n",
              "      document.body.appendChild(div);\n",
              "\n",
              "      const buffers = [];\n",
              "      let downloaded = 0;\n",
              "\n",
              "      const channel = await google.colab.kernel.comms.open(id);\n",
              "      // Send a message to notify the kernel that we're ready.\n",
              "      channel.send({})\n",
              "\n",
              "      for await (const message of channel.messages) {\n",
              "        // Send a message to notify the kernel that we're ready.\n",
              "        channel.send({})\n",
              "        if (message.buffers) {\n",
              "          for (const buffer of message.buffers) {\n",
              "            buffers.push(buffer);\n",
              "            downloaded += buffer.byteLength;\n",
              "            progress.value = downloaded;\n",
              "          }\n",
              "        }\n",
              "      }\n",
              "      const blob = new Blob(buffers, {type: 'application/binary'});\n",
              "      const a = document.createElement('a');\n",
              "      a.href = window.URL.createObjectURL(blob);\n",
              "      a.download = filename;\n",
              "      div.appendChild(a);\n",
              "      a.click();\n",
              "      div.remove();\n",
              "    }\n",
              "  "
            ],
            "text/plain": [
              "<IPython.core.display.Javascript object>"
            ]
          },
          "metadata": {},
          "output_type": "display_data"
        },
        {
          "data": {
            "application/javascript": [
              "download(\"download_7552eb86-f91d-466a-b4bd-4a6a78c3c0fb\", \"checkpoint_epoch_120.pth\", 6530130)"
            ],
            "text/plain": [
              "<IPython.core.display.Javascript object>"
            ]
          },
          "metadata": {},
          "output_type": "display_data"
        },
        {
          "output_type": "stream",
          "name": "stdout",
          "text": [
            "Epoch 120/150, Train Acc: 29.70%, Val Acc: 32.61%, Test Acc: 27.74%\n",
            "Epoch 120/150, Train Loss: 2.8255, Val Loss: 2.7101, Test Loss: 2.8920\n",
            "Epoch 121/150, Train Acc: 29.95%, Val Acc: 32.24%, Test Acc: 28.28%\n",
            "Epoch 121/150, Train Loss: 2.8207, Val Loss: 2.7192, Test Loss: 2.8893\n",
            "Epoch 122/150, Train Acc: 29.78%, Val Acc: 32.66%, Test Acc: 28.07%\n",
            "Epoch 122/150, Train Loss: 2.8210, Val Loss: 2.7173, Test Loss: 2.8960\n",
            "Epoch 123/150, Train Acc: 30.43%, Val Acc: 32.71%, Test Acc: 28.44%\n",
            "Epoch 123/150, Train Loss: 2.8127, Val Loss: 2.7024, Test Loss: 2.8763\n",
            "Epoch 124/150, Train Acc: 30.23%, Val Acc: 32.26%, Test Acc: 28.52%\n",
            "Epoch 124/150, Train Loss: 2.7997, Val Loss: 2.7047, Test Loss: 2.8509\n",
            "Epoch 125/150, Train Acc: 30.41%, Val Acc: 32.69%, Test Acc: 28.31%\n",
            "Epoch 125/150, Train Loss: 2.8075, Val Loss: 2.6984, Test Loss: 2.8859\n",
            "Epoch 126/150, Train Acc: 30.32%, Val Acc: 33.01%, Test Acc: 28.15%\n",
            "Epoch 126/150, Train Loss: 2.8035, Val Loss: 2.6953, Test Loss: 2.8832\n",
            "Epoch 127/150, Train Acc: 30.53%, Val Acc: 32.51%, Test Acc: 28.86%\n",
            "Epoch 127/150, Train Loss: 2.7916, Val Loss: 2.6898, Test Loss: 2.8603\n",
            "Epoch 128/150, Train Acc: 30.96%, Val Acc: 33.03%, Test Acc: 28.43%\n",
            "Epoch 128/150, Train Loss: 2.7838, Val Loss: 2.6812, Test Loss: 2.8601\n",
            "Epoch 129/150, Train Acc: 30.43%, Val Acc: 32.93%, Test Acc: 28.69%\n",
            "Epoch 129/150, Train Loss: 2.7879, Val Loss: 2.6894, Test Loss: 2.8521\n",
            "Checkpoint saved at epoch 130: ./checkpoint_epoch_130.pth\n"
          ]
        },
        {
          "output_type": "display_data",
          "data": {
            "text/plain": [
              "<IPython.core.display.Javascript object>"
            ],
            "application/javascript": [
              "\n",
              "    async function download(id, filename, size) {\n",
              "      if (!google.colab.kernel.accessAllowed) {\n",
              "        return;\n",
              "      }\n",
              "      const div = document.createElement('div');\n",
              "      const label = document.createElement('label');\n",
              "      label.textContent = `Downloading \"${filename}\": `;\n",
              "      div.appendChild(label);\n",
              "      const progress = document.createElement('progress');\n",
              "      progress.max = size;\n",
              "      div.appendChild(progress);\n",
              "      document.body.appendChild(div);\n",
              "\n",
              "      const buffers = [];\n",
              "      let downloaded = 0;\n",
              "\n",
              "      const channel = await google.colab.kernel.comms.open(id);\n",
              "      // Send a message to notify the kernel that we're ready.\n",
              "      channel.send({})\n",
              "\n",
              "      for await (const message of channel.messages) {\n",
              "        // Send a message to notify the kernel that we're ready.\n",
              "        channel.send({})\n",
              "        if (message.buffers) {\n",
              "          for (const buffer of message.buffers) {\n",
              "            buffers.push(buffer);\n",
              "            downloaded += buffer.byteLength;\n",
              "            progress.value = downloaded;\n",
              "          }\n",
              "        }\n",
              "      }\n",
              "      const blob = new Blob(buffers, {type: 'application/binary'});\n",
              "      const a = document.createElement('a');\n",
              "      a.href = window.URL.createObjectURL(blob);\n",
              "      a.download = filename;\n",
              "      div.appendChild(a);\n",
              "      a.click();\n",
              "      div.remove();\n",
              "    }\n",
              "  "
            ]
          },
          "metadata": {}
        },
        {
          "output_type": "display_data",
          "data": {
            "text/plain": [
              "<IPython.core.display.Javascript object>"
            ],
            "application/javascript": [
              "download(\"download_7051b14e-c603-45fc-997c-c4deb675a65e\", \"checkpoint_epoch_130.pth\", 6530130)"
            ]
          },
          "metadata": {}
        },
        {
          "output_type": "stream",
          "name": "stdout",
          "text": [
            "Epoch 130/150, Train Acc: 30.62%, Val Acc: 32.89%, Test Acc: 29.00%\n",
            "Epoch 130/150, Train Loss: 2.7854, Val Loss: 2.6837, Test Loss: 2.8503\n",
            "Epoch 131/150, Train Acc: 30.61%, Val Acc: 32.89%, Test Acc: 29.16%\n",
            "Epoch 131/150, Train Loss: 2.7855, Val Loss: 2.6830, Test Loss: 2.8472\n",
            "Epoch 132/150, Train Acc: 30.82%, Val Acc: 33.09%, Test Acc: 29.28%\n",
            "Epoch 132/150, Train Loss: 2.7746, Val Loss: 2.6762, Test Loss: 2.8382\n",
            "Epoch 133/150, Train Acc: 31.06%, Val Acc: 33.08%, Test Acc: 29.13%\n",
            "Epoch 133/150, Train Loss: 2.7684, Val Loss: 2.6776, Test Loss: 2.8403\n",
            "Epoch 134/150, Train Acc: 30.85%, Val Acc: 33.13%, Test Acc: 29.07%\n",
            "Epoch 134/150, Train Loss: 2.7783, Val Loss: 2.6745, Test Loss: 2.8331\n",
            "Epoch 135/150, Train Acc: 31.18%, Val Acc: 33.39%, Test Acc: 28.72%\n",
            "Epoch 135/150, Train Loss: 2.7595, Val Loss: 2.6709, Test Loss: 2.8561\n",
            "Epoch 136/150, Train Acc: 31.18%, Val Acc: 33.30%, Test Acc: 28.49%\n",
            "Epoch 136/150, Train Loss: 2.7605, Val Loss: 2.6770, Test Loss: 2.8628\n",
            "Epoch 137/150, Train Acc: 31.13%, Val Acc: 33.79%, Test Acc: 28.63%\n",
            "Epoch 137/150, Train Loss: 2.7702, Val Loss: 2.6642, Test Loss: 2.8545\n",
            "Epoch 138/150, Train Acc: 30.86%, Val Acc: 33.24%, Test Acc: 29.11%\n",
            "Epoch 138/150, Train Loss: 2.7625, Val Loss: 2.6720, Test Loss: 2.8436\n",
            "Epoch 139/150, Train Acc: 31.08%, Val Acc: 33.64%, Test Acc: 29.09%\n",
            "Epoch 139/150, Train Loss: 2.7646, Val Loss: 2.6670, Test Loss: 2.8446\n",
            "Checkpoint saved at epoch 140: ./checkpoint_epoch_140.pth\n"
          ]
        },
        {
          "output_type": "display_data",
          "data": {
            "text/plain": [
              "<IPython.core.display.Javascript object>"
            ],
            "application/javascript": [
              "\n",
              "    async function download(id, filename, size) {\n",
              "      if (!google.colab.kernel.accessAllowed) {\n",
              "        return;\n",
              "      }\n",
              "      const div = document.createElement('div');\n",
              "      const label = document.createElement('label');\n",
              "      label.textContent = `Downloading \"${filename}\": `;\n",
              "      div.appendChild(label);\n",
              "      const progress = document.createElement('progress');\n",
              "      progress.max = size;\n",
              "      div.appendChild(progress);\n",
              "      document.body.appendChild(div);\n",
              "\n",
              "      const buffers = [];\n",
              "      let downloaded = 0;\n",
              "\n",
              "      const channel = await google.colab.kernel.comms.open(id);\n",
              "      // Send a message to notify the kernel that we're ready.\n",
              "      channel.send({})\n",
              "\n",
              "      for await (const message of channel.messages) {\n",
              "        // Send a message to notify the kernel that we're ready.\n",
              "        channel.send({})\n",
              "        if (message.buffers) {\n",
              "          for (const buffer of message.buffers) {\n",
              "            buffers.push(buffer);\n",
              "            downloaded += buffer.byteLength;\n",
              "            progress.value = downloaded;\n",
              "          }\n",
              "        }\n",
              "      }\n",
              "      const blob = new Blob(buffers, {type: 'application/binary'});\n",
              "      const a = document.createElement('a');\n",
              "      a.href = window.URL.createObjectURL(blob);\n",
              "      a.download = filename;\n",
              "      div.appendChild(a);\n",
              "      a.click();\n",
              "      div.remove();\n",
              "    }\n",
              "  "
            ]
          },
          "metadata": {}
        },
        {
          "output_type": "display_data",
          "data": {
            "text/plain": [
              "<IPython.core.display.Javascript object>"
            ],
            "application/javascript": [
              "download(\"download_948c62ea-f034-4393-8111-590bce8be54d\", \"checkpoint_epoch_140.pth\", 6530130)"
            ]
          },
          "metadata": {}
        },
        {
          "output_type": "stream",
          "name": "stdout",
          "text": [
            "Epoch 140/150, Train Acc: 31.32%, Val Acc: 33.75%, Test Acc: 28.69%\n",
            "Epoch 140/150, Train Loss: 2.7616, Val Loss: 2.6671, Test Loss: 2.8588\n",
            "Epoch 141/150, Train Acc: 31.34%, Val Acc: 33.55%, Test Acc: 29.43%\n",
            "Epoch 141/150, Train Loss: 2.7582, Val Loss: 2.6682, Test Loss: 2.8303\n",
            "Epoch 142/150, Train Acc: 31.39%, Val Acc: 33.69%, Test Acc: 29.32%\n",
            "Epoch 142/150, Train Loss: 2.7565, Val Loss: 2.6587, Test Loss: 2.8328\n",
            "Epoch 143/150, Train Acc: 31.46%, Val Acc: 33.55%, Test Acc: 29.13%\n",
            "Epoch 143/150, Train Loss: 2.7493, Val Loss: 2.6615, Test Loss: 2.8445\n",
            "Epoch 144/150, Train Acc: 31.57%, Val Acc: 33.75%, Test Acc: 29.18%\n",
            "Epoch 144/150, Train Loss: 2.7398, Val Loss: 2.6574, Test Loss: 2.8410\n",
            "Epoch 145/150, Train Acc: 31.65%, Val Acc: 33.66%, Test Acc: 29.27%\n",
            "Epoch 145/150, Train Loss: 2.7475, Val Loss: 2.6554, Test Loss: 2.8255\n",
            "Epoch 146/150, Train Acc: 31.79%, Val Acc: 33.68%, Test Acc: 29.16%\n",
            "Epoch 146/150, Train Loss: 2.7396, Val Loss: 2.6543, Test Loss: 2.8384\n",
            "Epoch 147/150, Train Acc: 31.60%, Val Acc: 33.79%, Test Acc: 29.31%\n",
            "Epoch 147/150, Train Loss: 2.7378, Val Loss: 2.6542, Test Loss: 2.8328\n",
            "Epoch 148/150, Train Acc: 31.68%, Val Acc: 33.87%, Test Acc: 29.38%\n",
            "Epoch 148/150, Train Loss: 2.7427, Val Loss: 2.6525, Test Loss: 2.8290\n",
            "Epoch 149/150, Train Acc: 31.73%, Val Acc: 33.83%, Test Acc: 29.06%\n",
            "Epoch 149/150, Train Loss: 2.7380, Val Loss: 2.6515, Test Loss: 2.8363\n",
            "Checkpoint saved at epoch 150: ./checkpoint_epoch_150.pth\n"
          ]
        },
        {
          "output_type": "display_data",
          "data": {
            "text/plain": [
              "<IPython.core.display.Javascript object>"
            ],
            "application/javascript": [
              "\n",
              "    async function download(id, filename, size) {\n",
              "      if (!google.colab.kernel.accessAllowed) {\n",
              "        return;\n",
              "      }\n",
              "      const div = document.createElement('div');\n",
              "      const label = document.createElement('label');\n",
              "      label.textContent = `Downloading \"${filename}\": `;\n",
              "      div.appendChild(label);\n",
              "      const progress = document.createElement('progress');\n",
              "      progress.max = size;\n",
              "      div.appendChild(progress);\n",
              "      document.body.appendChild(div);\n",
              "\n",
              "      const buffers = [];\n",
              "      let downloaded = 0;\n",
              "\n",
              "      const channel = await google.colab.kernel.comms.open(id);\n",
              "      // Send a message to notify the kernel that we're ready.\n",
              "      channel.send({})\n",
              "\n",
              "      for await (const message of channel.messages) {\n",
              "        // Send a message to notify the kernel that we're ready.\n",
              "        channel.send({})\n",
              "        if (message.buffers) {\n",
              "          for (const buffer of message.buffers) {\n",
              "            buffers.push(buffer);\n",
              "            downloaded += buffer.byteLength;\n",
              "            progress.value = downloaded;\n",
              "          }\n",
              "        }\n",
              "      }\n",
              "      const blob = new Blob(buffers, {type: 'application/binary'});\n",
              "      const a = document.createElement('a');\n",
              "      a.href = window.URL.createObjectURL(blob);\n",
              "      a.download = filename;\n",
              "      div.appendChild(a);\n",
              "      a.click();\n",
              "      div.remove();\n",
              "    }\n",
              "  "
            ]
          },
          "metadata": {}
        },
        {
          "output_type": "display_data",
          "data": {
            "text/plain": [
              "<IPython.core.display.Javascript object>"
            ],
            "application/javascript": [
              "download(\"download_58c83b02-495c-4a45-ae80-6c6f18fbb974\", \"checkpoint_epoch_150.pth\", 6530130)"
            ]
          },
          "metadata": {}
        },
        {
          "output_type": "stream",
          "name": "stdout",
          "text": [
            "Epoch 150/150, Train Acc: 31.66%, Val Acc: 33.73%, Test Acc: 29.13%\n",
            "Epoch 150/150, Train Loss: 2.7385, Val Loss: 2.6512, Test Loss: 2.8328\n"
          ]
        },
        {
          "output_type": "display_data",
          "data": {
            "text/plain": [
              "<Figure size 600x400 with 1 Axes>"
            ],
            "image/png": "[encoded data removed]"
          },
          "metadata": {}
        },
        {
          "output_type": "display_data",
          "data": {
            "text/plain": [
              "<Figure size 600x400 with 1 Axes>"
            ],
            "image/png": "[encoded data removed]"
          },
          "metadata": {}
        },
        {
          "output_type": "display_data",
          "data": {
            "text/plain": [
              "<Figure size 600x400 with 1 Axes>"
            ],
            "image/png": "[encoded data removed]"
          },
          "metadata": {}
        },
        {
          "output_type": "display_data",
          "data": {
            "text/plain": [
              "<Figure size 600x400 with 1 Axes>"
            ],
            "image/png": "[encoded data removed]"
          },
          "metadata": {}
        },
        {
          "output_type": "display_data",
          "data": {
            "text/plain": [
              "<Figure size 600x400 with 1 Axes>"
            ],
            "image/png": "[encoded data removed]"
          },
          "metadata": {}
        },
        {
          "output_type": "display_data",
          "data": {
            "text/plain": [
              "<Figure size 600x400 with 1 Axes>"
            ],
            "image/png": "[encoded data removed]"
          },
          "metadata": {}
        },
        {
          "output_type": "display_data",
          "data": {
            "text/plain": [
              "<Figure size 640x480 with 0 Axes>"
            ]
          },
          "metadata": {}
        }
      ],
      "source": [
        "%run large_batch_training.py --optimizer LARS --batch-size 8192 --weight-decay 4e-4"
      ]
    }
  ],
  "metadata": {
    "accelerator": "GPU",
    "colab": {
      "gpuType": "T4",
      "provenance": []
    },
    "kernelspec": {
      "display_name": "Python 3",
      "name": "python3"
    },
    "language_info": {
      "name": "python"
    }
  },
  "nbformat": 4,
  "nbformat_minor": 0
}