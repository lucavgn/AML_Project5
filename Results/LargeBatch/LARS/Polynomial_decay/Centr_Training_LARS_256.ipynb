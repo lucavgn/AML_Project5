{
  "cells": [
    {
      "cell_type": "code",
      "execution_count": 1,
      "metadata": {
        "colab": {
          "base_uri": "https://localhost:8080/"
        },
        "id": "LtOx0ESVnO0u",
        "outputId": "4e433765-5a34-486b-80e8-608adaba3461"
      },
      "outputs": [
        {
          "output_type": "stream",
          "name": "stdout",
          "text": [
            "Writing large_batch_training.py\n"
          ]
        }
      ],
      "source": [
        "%%writefile large_batch_training.py\n",
        "\n",
        "import os\n",
        "import numpy as np\n",
        "import torch\n",
        "import torch.nn as nn\n",
        "import torch.optim as optim\n",
        "import torchvision\n",
        "import torchvision.transforms as transforms\n",
        "import matplotlib.pyplot as plt\n",
        "import argparse\n",
        "from torch.utils.data import random_split\n",
        "from google.colab import files\n",
        "\n",
        "def compute_mean_std(dataset):\n",
        "    \"\"\"Compute the mean and std of CIFAR-100 dataset.\n",
        "\n",
        "    Args:\n",
        "        dataset: A dataset derived from `torch.utils.data.Dataset`,\n",
        "                 such as `cifar100_training_dataset` or `cifar100_test_dataset`.\n",
        "\n",
        "    Returns:\n",
        "        A tuple containing (mean, std) for the entire dataset.\n",
        "    \"\"\"\n",
        "\n",
        "    # Extract images and labels\n",
        "    data_r = np.stack([np.array(dataset[i][0])[:, :, 0] for i in range(len(dataset))])\n",
        "    data_g = np.stack([np.array(dataset[i][0])[:, :, 1] for i in range(len(dataset))])\n",
        "    data_b = np.stack([np.array(dataset[i][0])[:, :, 2] for i in range(len(dataset))])\n",
        "\n",
        "    # Compute mean and std\n",
        "    mean = np.mean(data_r), np.mean(data_g), np.mean(data_b)\n",
        "    std = np.std(data_r), np.std(data_g), np.std(data_b)\n",
        "\n",
        "    return mean, std\n",
        "\n",
        "# Define LeNet-5 architecture\n",
        "class LeNet5(nn.Module):\n",
        "    def __init__(self):\n",
        "        super(LeNet5, self).__init__()\n",
        "        self.conv1 = nn.Conv2d(3, 64, 5)\n",
        "        self.relu1 = nn.ReLU()\n",
        "        self.pool1 = nn.MaxPool2d(2, 2)\n",
        "        self.conv2 = nn.Conv2d(64, 64, 5)\n",
        "        self.relu2 = nn.ReLU()\n",
        "        self.pool2 = nn.MaxPool2d(2, 2)\n",
        "        self.fc1 = nn.Linear(64 * 5 * 5, 384)\n",
        "        self.relu3 = nn.ReLU()\n",
        "        self.fc2 = nn.Linear(384, 192)\n",
        "        self.relu4 = nn.ReLU()\n",
        "        self.fc3 = nn.Linear(192, 100)\n",
        "\n",
        "    def forward(self, x):\n",
        "        x = self.pool1(self.relu1(self.conv1(x)))\n",
        "        x = self.pool2(self.relu2(self.conv2(x)))\n",
        "        x = x.view(-1, 64 * 5 * 5)\n",
        "        x = self.relu3(self.fc1(x))\n",
        "        x = self.relu4(self.fc2(x))\n",
        "        x = self.fc3(x)\n",
        "        return x\n",
        "\n",
        "# Device setup\n",
        "device = torch.device(\"cuda:0\" if torch.cuda.is_available() else \"cpu\")\n",
        "\n",
        "# Initialize model\n",
        "net = LeNet5().to(device)\n",
        "\n",
        "# Optimizer Subclasses\n",
        "class LARS(optim.Optimizer):\n",
        "    def __init__(self, params, lr, momentum=0.9, weight_decay=0, trust_coefficient=0.001):\n",
        "        # Initialize the optimizer with the learning rate, momentum, weight decay, and trust coefficient\n",
        "        defaults = dict(lr=lr, momentum=momentum, weight_decay=weight_decay, trust_coefficient=trust_coefficient)\n",
        "        super(LARS, self).__init__(params, defaults)\n",
        "\n",
        "    def step(self, closure=None):\n",
        "        loss = None\n",
        "        if closure is not None:\n",
        "            # If a closure is provided, evaluate it (commonly used for re-evaluating loss)\n",
        "            loss = closure()\n",
        "        for group in self.param_groups:\n",
        "            for p in group['params']:\n",
        "                if p.grad is None:\n",
        "                   # Skip parameters that have no gradient\n",
        "                    continue\n",
        "                grad = p.grad.data # Get the gradient of the parameter\n",
        "                # Retrieve or initialize the optimizer's internal state\n",
        "                state = self.state[p]\n",
        "                if len(state) == 0:\n",
        "                    state['momentum_buffer'] = torch.clone(grad).detach()\n",
        "                # Apply weight decay directly to the gradient\n",
        "                if group['weight_decay'] != 0:\n",
        "                    grad.add_(p.data, alpha=group['weight_decay'])\n",
        "                # Compute the norms of the parameter and its gradient\n",
        "                param_norm = torch.norm(p.data)\n",
        "                grad_norm = torch.norm(grad)\n",
        "                # Compute local learning rate based on the trust coefficient and norms\n",
        "                if param_norm > 0 and grad_norm > 0:\n",
        "                    local_lr = group['trust_coefficient'] * param_norm / (grad_norm + 1e-8)\n",
        "                    grad = grad.mul(local_lr) # Scale the gradient with the local learning rate\n",
        "                # Update the momentum buffer\n",
        "                momentum_buffer = state['momentum_buffer']\n",
        "                momentum_buffer.mul_(group['momentum']).add_(grad) #Momentum update\n",
        "                state['momentum_buffer'] = momentum_buffer\n",
        "                # Update the parameter\n",
        "                p.data.add_(momentum_buffer, alpha=-group['lr']) # Gradient descent step with learning rate\n",
        "        return loss\n",
        "\n",
        "class LAMB(optim.Optimizer):\n",
        "    def __init__(self, params, lr, weight_decay=0, betas=(0.9, 0.999), eps=1e-8):\n",
        "        # Initialize the optimizer with learning rate, weight decay, betas for moment updates, and epsilon for stability\n",
        "        defaults = dict(lr=lr, weight_decay=weight_decay, betas=betas, eps=eps)\n",
        "        super(LAMB, self).__init__(params, defaults)\n",
        "\n",
        "    def step(self, closure=None):\n",
        "        loss = None\n",
        "        if closure is not None:\n",
        "            # If a closure is provided, evaluate it\n",
        "            loss = closure()\n",
        "        for group in self.param_groups:\n",
        "            for p in group['params']:\n",
        "                if p.grad is None:\n",
        "                    # Skip parameters that have no gradient\n",
        "                    continue\n",
        "                grad = p.grad.data # Get the gradient of the parameter\n",
        "                # Retrieve or initialize the optimizer's internal state\n",
        "                state = self.state[p]\n",
        "                # Initialize state\n",
        "                if len(state) == 0:\n",
        "                    # Initialize the state (step counter, first moment, second moment)\n",
        "                    state['step'] = 0\n",
        "                    state['exp_avg'] = torch.zeros_like(p.data) # First moment (mean of gradients)\n",
        "                    state['exp_avg_sq'] = torch.zeros_like(p.data) # Second moment (mean of squared gradients)\n",
        "                exp_avg = state['exp_avg']\n",
        "                exp_avg_sq = state['exp_avg_sq']\n",
        "                beta1, beta2 = group['betas']  # Coefficients for moment updates\n",
        "                state['step'] += 1 # Increment step count\n",
        "                step = state['step']\n",
        "                # Decay the first and second moment running average coefficients\n",
        "                # Update first and second moments\n",
        "                exp_avg.mul_(beta1).add_(grad, alpha=1 - beta1) # Exponential moving average of gradients\n",
        "                exp_avg_sq.mul_(beta2).addcmul_(grad, grad, value=1 - beta2) # Exponential moving average of squared gradients\n",
        "                # Correct bias in the first and second moments\n",
        "                bias_correction1 = 1 - beta1 ** step\n",
        "                bias_correction2 = 1 - beta2 ** step\n",
        "                corrected_exp_avg = exp_avg / bias_correction1\n",
        "                corrected_exp_avg_sq = exp_avg_sq / bias_correction2\n",
        "                # Compute the denominator for scaling the update\n",
        "                denom = corrected_exp_avg_sq.sqrt().add_(group['eps']) # Stability epsilon\n",
        "                # Compute the step update\n",
        "                update = corrected_exp_avg / denom\n",
        "                # Apply weight decay directly to the parameters\n",
        "                if group['weight_decay'] != 0:\n",
        "                    update.add_(p.data, alpha=group['weight_decay'])\n",
        "                # Compute the trust ratio (norm of parameters vs norm of update)\n",
        "                param_norm = torch.norm(p.data)\n",
        "                update_norm = torch.norm(update)\n",
        "                trust_ratio = 1.0  # Default trust ratio\n",
        "                if param_norm > 0 and update_norm > 0:\n",
        "                    trust_ratio = param_norm / update_norm\n",
        "                # Update the parameters\n",
        "                p.data.add_(update, alpha=-group['lr'] * trust_ratio)\n",
        "        return loss\n",
        "\n",
        "class SqrtLRScheduler(torch.optim.lr_scheduler._LRScheduler):\n",
        "    def __init__(self, optimizer, base_lr, batch_size, warmup_epochs, total_epochs, reference_batch_size, verbose=False):\n",
        "        \"\"\"\n",
        "        Args:\n",
        "            optimizer: PyTorch optimizer (e.g., Adam, LAMB, LARS).\n",
        "            base_lr: Base learning rate for the reference batch size.\n",
        "            batch_size: Current batch size.\n",
        "            warmup_epochs: Number of warmup epochs.\n",
        "            total_epochs: Total number of epochs.\n",
        "            reference_batch_size: Batch size for which the base_lr is defined.\n",
        "            verbose: Whether to print LR updates.\n",
        "        \"\"\"\n",
        "        self.base_lr = base_lr\n",
        "        self.batch_size = batch_size\n",
        "        self.scaled_lr = base_lr * (batch_size / reference_batch_size) ** 0.5\n",
        "        self.warmup_epochs = warmup_epochs\n",
        "        self.total_epochs = total_epochs\n",
        "        self.verbose = verbose\n",
        "        super(SqrtLRScheduler, self).__init__(optimizer)\n",
        "\n",
        "    def get_lr(self):\n",
        "        epoch = self.last_epoch\n",
        "        if epoch < self.warmup_epochs:\n",
        "            # Linear warmup scaling\n",
        "            warmup_factor = (epoch + 1) / self.warmup_epochs\n",
        "            return [warmup_factor * self.scaled_lr for _ in self.optimizer.param_groups]\n",
        "        else:\n",
        "            # polynomially decaying learning rate of ηt = η0×(1−t/T)\n",
        "            if epoch == self.warmup_epochs:\n",
        "                print(f\"Warmup phase completed at epoch {epoch}. Switching to constant learning rate.\")\n",
        "            return [self.scaled_lr * ( 1 - ( (epoch - self.warmup_epochs) / (self.total_epochs - self.warmup_epochs))) for _ in self.optimizer.param_groups]\n",
        "\n",
        "# Command-line arguments\n",
        "parser = argparse.ArgumentParser(description='Train with Large-Batch Optimizers')\n",
        "parser.add_argument('--optimizer', type=str, default='SGDM', choices=['SGDM', 'AdamW', 'LARS', 'LAMB'],\n",
        "                    help='Choose optimizer')\n",
        "parser.add_argument('--batch-size', type=int, default=128, help='Batch size')\n",
        "parser.add_argument('--momentum', type=float, default=0.9, help='Momentum for SGDM and LARS')\n",
        "parser.add_argument('--weight-decay', type=float, default=1e-5, help='Weight decay')\n",
        "parser.add_argument('--b1', type=float, default=0.9, help='Beta1 for AdamW')\n",
        "parser.add_argument('--b2', type=float, default=0.999, help='Beta2 for AdamW')\n",
        "parser.add_argument('--trust-coefficient', type=float, default=0.001, help='Trust coefficient for LARS')\n",
        "parser.add_argument('--epochs', type=int, default=150, help='Number of epochs')\n",
        "parser.add_argument('--warmup-epochs', type=int, default=5, help='Number of epochs')\n",
        "args = parser.parse_args()\n",
        "\n",
        "\n",
        "torch.manual_seed(42) # Set the seed for reproducibility\n",
        "torch.cuda.manual_seed_all(42) # Set the seed for reproducibility on GPU\n",
        "\n",
        "# use the same mean and std to add consistency to all datasets\n",
        "data = torchvision.datasets.CIFAR100(root='./data', train=True, download=True, transform=transforms.ToTensor())\n",
        "mean, std = compute_mean_std(data)\n",
        "\n",
        "# Load and split CIFAR-100 dataset\n",
        "train_transform = transforms.Compose([\n",
        "  transforms.RandomHorizontalFlip(),\n",
        "  # transforms.RandomRotation(15),\n",
        "  transforms.RandomCrop(32, padding=4),\n",
        "  # transforms.RandomAffine(degrees=0, translate=(0.1, 0.1)),\n",
        "  transforms.RandomPerspective(distortion_scale=0.2, p=0.5),\n",
        "  transforms.ColorJitter(brightness=0.3, contrast=0.3, saturation=0.3, hue=0.2),\n",
        "  transforms.ToTensor(),\n",
        "  transforms.Normalize(mean, std)\n",
        "])\n",
        "\n",
        "val_transform = transforms.Compose([\n",
        "    transforms.ToTensor(), # Convert into tensor\n",
        "    transforms.Normalize(mean, std)  # Normalization\n",
        "])\n",
        "\n",
        "test_transform = transforms.Compose([\n",
        "    transforms.CenterCrop(24),\n",
        "    transforms.Pad(4),\n",
        "    transforms.ToTensor(),  # Convert to PyTorch tensor\n",
        "    transforms.Normalize(mean, std)\n",
        "])\n",
        "\n",
        "trainset = torchvision.datasets.CIFAR100(root='./data', train=True, download=True, transform=train_transform)\n",
        "valset = torchvision.datasets.CIFAR100(root='./data', train=True, download=True, transform=val_transform)\n",
        "indices = torch.randperm(len(trainset))\n",
        "val_size = int(0.2*len(trainset))\n",
        "trainset = torch.utils.data.Subset(trainset, indices[:-val_size])\n",
        "valset = torch.utils.data.Subset(valset, indices[-val_size:])\n",
        "\n",
        "trainloader = torch.utils.data.DataLoader(trainset, batch_size=args.batch_size, shuffle=True, num_workers=2)\n",
        "valloader = torch.utils.data.DataLoader(valset, batch_size=args.batch_size, shuffle=False, num_workers=2)\n",
        "\n",
        "testset = torchvision.datasets.CIFAR100(root='./data', train=False, download=True, transform=test_transform)\n",
        "testloader = torch.utils.data.DataLoader(testset, batch_size=args.batch_size, shuffle=False, num_workers=2)\n",
        "\n",
        "\n",
        "# Fixed parameter from paper [18] to calculate the square root LR scaling value\n",
        "# base_lr = 5 / (2**3 * 10**3)\n",
        "# reference_batch_size = 512\n",
        "#scaled_lr = base_lr * (args.batch_size / reference_batch_size) ** 0.5\n",
        "\n",
        "# Mapping optimizers\n",
        "if args.optimizer == 'SGDM':\n",
        "    base_lr = 1e-2\n",
        "    reference_batch_size = 64\n",
        "    scaled_lr = base_lr * (args.batch_size / reference_batch_size) ** 0.5\n",
        "    optimizer = optim.SGD(net.parameters(), lr=scaled_lr, momentum=args.momentum, weight_decay=args.weight_decay)\n",
        "elif args.optimizer == 'AdamW':\n",
        "    base_lr = 5e-4\n",
        "    reference_batch_size = 64\n",
        "    scaled_lr = base_lr * (args.batch_size / reference_batch_size) ** 0.5\n",
        "    optimizer = optim.AdamW(net.parameters(), lr=scaled_lr, betas=(args.b1, args.b2), weight_decay=args.weight_decay)\n",
        "elif args.optimizer == 'LARS':\n",
        "    base_lr = 5e-1\n",
        "    reference_batch_size = 64\n",
        "    scaled_lr = base_lr * (args.batch_size / reference_batch_size) ** 0.5\n",
        "    optimizer = LARS(net.parameters(), lr=scaled_lr, momentum=args.momentum, weight_decay=args.weight_decay, trust_coefficient=args.trust_coefficient)\n",
        "elif args.optimizer == 'LAMB':\n",
        "    base_lr = 5e-4\n",
        "    reference_batch_size = 64\n",
        "    scaled_lr = base_lr * (args.batch_size / reference_batch_size) ** 0.5\n",
        "    optimizer = LAMB(net.parameters(), lr=scaled_lr, weight_decay=args.weight_decay)\n",
        "\n",
        "criterion = nn.CrossEntropyLoss()\n",
        "\n",
        "# scheduler should be e square root LR scaling rule and linear-epoch warmup scheduling to automatically adjust learning rate\n",
        "scheduler = SqrtLRScheduler(\n",
        "    optimizer = optimizer,\n",
        "    base_lr = base_lr,\n",
        "    batch_size = args.batch_size,\n",
        "    warmup_epochs = args.warmup_epochs,\n",
        "    total_epochs = args.epochs,\n",
        "    reference_batch_size = reference_batch_size,\n",
        "    verbose = True)\n",
        "\n",
        "# Training Function\n",
        "def train_model(optimizer, scheduler, model, criterion, trainloader, valloader , testloader, device, epochs, save_checkpoint_interval=10):\n",
        "    train_losses, val_losses, test_losses = [], [], []\n",
        "    train_accuracies, val_accuracies, test_accuracies = [], [], []\n",
        "    for epoch in range(epochs):\n",
        "        model.train()\n",
        "        running_loss, correct_train, total_train = 0.0, 0, 0\n",
        "        for inputs, labels in trainloader:\n",
        "            inputs, labels = inputs.to(device), labels.to(device)\n",
        "            optimizer.zero_grad()\n",
        "            outputs = model(inputs)\n",
        "            loss = criterion(outputs, labels)\n",
        "            loss.backward()\n",
        "            optimizer.step()\n",
        "            running_loss += loss.item()\n",
        "            _, predicted = outputs.max(1)\n",
        "            total_train += labels.size(0)\n",
        "            correct_train += predicted.eq(labels).sum().item()\n",
        "        train_loss = running_loss / len(trainloader)\n",
        "        train_accuracy = 100. * correct_train / total_train\n",
        "        train_losses.append(train_loss)\n",
        "        train_accuracies.append(train_accuracy)\n",
        "\n",
        "        # Validation\n",
        "        model.eval()\n",
        "        correct_val, total_val, val_loss = 0, 0, 0.0\n",
        "        with torch.no_grad():\n",
        "            for inputs, labels in valloader:\n",
        "                inputs, labels = inputs.to(device), labels.to(device)\n",
        "                outputs = model(inputs)\n",
        "                loss = criterion(outputs, labels)\n",
        "                val_loss += loss.item()\n",
        "                _, predicted = outputs.max(1)\n",
        "                total_val += labels.size(0)\n",
        "                correct_val += predicted.eq(labels).sum().item()\n",
        "        val_loss /= len(valloader)\n",
        "        val_losses.append(val_loss)\n",
        "        val_accuracy = 100. * correct_val / total_val\n",
        "        val_accuracies.append(val_accuracy)\n",
        "\n",
        "        '''\n",
        "        # Early Stopping\n",
        "        if val_loss < best_val_loss:\n",
        "          best_val_loss = val_loss\n",
        "          epochs_no_improve = 0\n",
        "        else:\n",
        "          epochs_no_improve += 1\n",
        "\n",
        "        if epochs_no_improve == patience:\n",
        "          print(\"Early stopping!\")\n",
        "          break\n",
        "        '''\n",
        "\n",
        "        # Test\n",
        "        correct_test, total_test, test_loss = 0, 0, 0.0\n",
        "        with torch.no_grad():\n",
        "            for inputs, labels in testloader:\n",
        "                inputs, labels = inputs.to(device), labels.to(device)\n",
        "                outputs = model(inputs)\n",
        "                loss = criterion(outputs, labels)\n",
        "                test_loss += loss.item()\n",
        "                _, predicted = outputs.max(1)\n",
        "                total_test += labels.size(0)\n",
        "                correct_test += predicted.eq(labels).sum().item()\n",
        "        test_loss /= len(testloader)\n",
        "        test_losses.append(test_loss)\n",
        "        test_accuracy = 100. * correct_test / total_test\n",
        "        test_accuracies.append(test_accuracy)\n",
        "\n",
        "        scheduler.step()\n",
        "\n",
        "        # Checkpointing\n",
        "        if (epoch + 1) % save_checkpoint_interval == 0:\n",
        "            checkpoint_filename = f'checkpoint_epoch_{epoch + 1}.pth'\n",
        "            checkpoint = {\n",
        "                'epoch': epoch + 1,\n",
        "                'model_state_dict': model.state_dict(),\n",
        "                'optimizer_state_dict': optimizer.state_dict(),\n",
        "                'scheduler_state_dict': scheduler.state_dict(),\n",
        "                'loss': loss.item(),\n",
        "            }\n",
        "            checkpoint_path = os.path.join('./', checkpoint_filename)\n",
        "            torch.save(checkpoint, checkpoint_path)\n",
        "            print(f'Checkpoint saved at epoch {epoch + 1}: {checkpoint_path}')\n",
        "\n",
        "            # Download the checkpoint\n",
        "            files.download(checkpoint_filename)\n",
        "\n",
        "        print(f'Epoch {epoch+1}/{epochs}, Train Acc: {train_accuracy:.2f}%, Val Acc: {val_accuracy:.2f}%, Test Acc: {test_accuracy:.2f}%')\n",
        "        print(f'Epoch {epoch+1}/{epochs}, Train Loss: {train_loss:.4f}, Val Loss: {val_loss:.4f}, Test Loss: {test_loss:.4f}')\n",
        "\n",
        "    return train_losses, val_losses, test_losses, train_accuracies, val_accuracies, test_accuracies\n",
        "\n",
        "# Train the model\n",
        "print(f\"--- Train with {args.optimizer} ---\")\n",
        "train_loss, val_loss, test_loss, train_acc, val_acc, test_acc = train_model(optimizer, scheduler, net, criterion, trainloader, valloader, testloader, device, args.epochs)\n",
        "\n",
        "# Save model\n",
        "torch.save(net.state_dict(), f'net_{args.optimizer}.pth')\n",
        "\n",
        "# Plot results\n",
        "# Plot Training Loss\n",
        "plt.figure(figsize=(6, 4))\n",
        "plt.plot(train_loss, label='Train Loss')\n",
        "plt.title('Training Loss')\n",
        "plt.xlabel('Epoch')\n",
        "plt.ylabel('Loss')\n",
        "plt.legend()\n",
        "plt.tight_layout()\n",
        "plt.savefig('train_loss.png')\n",
        "plt.show()\n",
        "\n",
        "# Plot Training Accuracy\n",
        "plt.figure(figsize=(6, 4))\n",
        "plt.plot(train_acc, label='Train Accuracy')\n",
        "plt.title('Training Accuracy')\n",
        "plt.xlabel('Epoch')\n",
        "plt.ylabel('Accuracy (%)')\n",
        "plt.legend()\n",
        "plt.tight_layout()\n",
        "plt.savefig('train_accuracy.png')\n",
        "plt.show()\n",
        "\n",
        "# Plot Validation Loss\n",
        "plt.figure(figsize=(6, 4))\n",
        "plt.plot(val_loss, label='Validation Loss')\n",
        "plt.title('Validation Loss')\n",
        "plt.xlabel('Epoch')\n",
        "plt.ylabel('Loss')\n",
        "plt.legend()\n",
        "plt.tight_layout()\n",
        "plt.savefig('val_loss.png')\n",
        "plt.show()\n",
        "\n",
        "# Plot Validation Accuracy\n",
        "plt.figure(figsize=(6, 4))\n",
        "plt.plot(val_acc, label='Validation Accuracy')\n",
        "plt.title('Validation Accuracy')\n",
        "plt.xlabel('Epoch')\n",
        "plt.ylabel('Accuracy (%)')\n",
        "plt.legend()\n",
        "plt.tight_layout()\n",
        "plt.savefig('val_accuracy.png')\n",
        "plt.show()\n",
        "\n",
        "# Plot Test Loss\n",
        "plt.figure(figsize=(6, 4))\n",
        "plt.plot(test_loss, label='Test Loss')\n",
        "plt.title('Test Loss')\n",
        "plt.xlabel('Epoch')\n",
        "plt.ylabel('Loss')\n",
        "plt.legend()\n",
        "plt.tight_layout()\n",
        "plt.savefig('test_loss.png')\n",
        "plt.show()\n",
        "\n",
        "# Plot Test Accuracy\n",
        "plt.figure(figsize=(6, 4))\n",
        "plt.plot(test_acc, label='Test Accuracy')\n",
        "plt.title('Test Accuracy')\n",
        "plt.xlabel('Epoch')\n",
        "plt.ylabel('Accuracy (%)')\n",
        "plt.legend()\n",
        "plt.tight_layout()\n",
        "plt.savefig('test_accuracy.png')\n",
        "plt.show()\n"
      ]
    },
    {
      "cell_type": "code",
      "execution_count": null,
      "metadata": {
        "colab": {
          "base_uri": "https://localhost:8080/",
          "height": 460
        },
        "id": "_hEcpkQqYJmP",
        "outputId": "054cca2f-8701-4830-ae1c-4f1fc306c8c1"
      },
      "outputs": [
        {
          "output_type": "stream",
          "name": "stdout",
          "text": [
            "Files already downloaded and verified\n",
            "Files already downloaded and verified\n",
            "Files already downloaded and verified\n",
            "Files already downloaded and verified\n",
            "--- Train with SGDM ---\n"
          ]
        },
        {
          "output_type": "error",
          "ename": "KeyboardInterrupt",
          "evalue": "",
          "traceback": [
            "\u001b[0;31m---------------------------------------------------------------------------\u001b[0m",
            "\u001b[0;31mKeyboardInterrupt\u001b[0m                         Traceback (most recent call last)",
            "\u001b[0;32m/content/large_batch_training.py\u001b[0m in \u001b[0;36m<module>\u001b[0;34m\u001b[0m\n\u001b[1;32m    385\u001b[0m \u001b[0;31m# Train the model\u001b[0m\u001b[0;34m\u001b[0m\u001b[0;34m\u001b[0m\u001b[0m\n\u001b[1;32m    386\u001b[0m \u001b[0mprint\u001b[0m\u001b[0;34m(\u001b[0m\u001b[0;34mf\"--- Train with {args.optimizer} ---\"\u001b[0m\u001b[0;34m)\u001b[0m\u001b[0;34m\u001b[0m\u001b[0;34m\u001b[0m\u001b[0m\n\u001b[0;32m--> 387\u001b[0;31m \u001b[0mtrain_loss\u001b[0m\u001b[0;34m,\u001b[0m \u001b[0mval_loss\u001b[0m\u001b[0;34m,\u001b[0m \u001b[0mtest_loss\u001b[0m\u001b[0;34m,\u001b[0m \u001b[0mtrain_acc\u001b[0m\u001b[0;34m,\u001b[0m \u001b[0mval_acc\u001b[0m\u001b[0;34m,\u001b[0m \u001b[0mtest_acc\u001b[0m \u001b[0;34m=\u001b[0m \u001b[0mtrain_model\u001b[0m\u001b[0;34m(\u001b[0m\u001b[0moptimizer\u001b[0m\u001b[0;34m,\u001b[0m \u001b[0mscheduler\u001b[0m\u001b[0;34m,\u001b[0m \u001b[0mnet\u001b[0m\u001b[0;34m,\u001b[0m \u001b[0mcriterion\u001b[0m\u001b[0;34m,\u001b[0m \u001b[0mtrainloader\u001b[0m\u001b[0;34m,\u001b[0m \u001b[0mvalloader\u001b[0m\u001b[0;34m,\u001b[0m \u001b[0mtestloader\u001b[0m\u001b[0;34m,\u001b[0m \u001b[0mdevice\u001b[0m\u001b[0;34m,\u001b[0m \u001b[0margs\u001b[0m\u001b[0;34m.\u001b[0m\u001b[0mepochs\u001b[0m\u001b[0;34m)\u001b[0m\u001b[0;34m\u001b[0m\u001b[0;34m\u001b[0m\u001b[0m\n\u001b[0m\u001b[1;32m    388\u001b[0m \u001b[0;34m\u001b[0m\u001b[0m\n\u001b[1;32m    389\u001b[0m \u001b[0;31m# Save model\u001b[0m\u001b[0;34m\u001b[0m\u001b[0;34m\u001b[0m\u001b[0m\n",
            "\u001b[0;32m/content/large_batch_training.py\u001b[0m in \u001b[0;36mtrain_model\u001b[0;34m(optimizer, scheduler, model, criterion, trainloader, valloader, testloader, device, epochs, save_checkpoint_interval)\u001b[0m\n\u001b[1;32m    297\u001b[0m         \u001b[0mmodel\u001b[0m\u001b[0;34m.\u001b[0m\u001b[0mtrain\u001b[0m\u001b[0;34m(\u001b[0m\u001b[0;34m)\u001b[0m\u001b[0;34m\u001b[0m\u001b[0;34m\u001b[0m\u001b[0m\n\u001b[1;32m    298\u001b[0m         \u001b[0mrunning_loss\u001b[0m\u001b[0;34m,\u001b[0m \u001b[0mcorrect_train\u001b[0m\u001b[0;34m,\u001b[0m \u001b[0mtotal_train\u001b[0m \u001b[0;34m=\u001b[0m \u001b[0;36m0.0\u001b[0m\u001b[0;34m,\u001b[0m \u001b[0;36m0\u001b[0m\u001b[0;34m,\u001b[0m \u001b[0;36m0\u001b[0m\u001b[0;34m\u001b[0m\u001b[0;34m\u001b[0m\u001b[0m\n\u001b[0;32m--> 299\u001b[0;31m         \u001b[0;32mfor\u001b[0m \u001b[0minputs\u001b[0m\u001b[0;34m,\u001b[0m \u001b[0mlabels\u001b[0m \u001b[0;32min\u001b[0m \u001b[0mtrainloader\u001b[0m\u001b[0;34m:\u001b[0m\u001b[0;34m\u001b[0m\u001b[0;34m\u001b[0m\u001b[0m\n\u001b[0m\u001b[1;32m    300\u001b[0m             \u001b[0minputs\u001b[0m\u001b[0;34m,\u001b[0m \u001b[0mlabels\u001b[0m \u001b[0;34m=\u001b[0m \u001b[0minputs\u001b[0m\u001b[0;34m.\u001b[0m\u001b[0mto\u001b[0m\u001b[0;34m(\u001b[0m\u001b[0mdevice\u001b[0m\u001b[0;34m)\u001b[0m\u001b[0;34m,\u001b[0m \u001b[0mlabels\u001b[0m\u001b[0;34m.\u001b[0m\u001b[0mto\u001b[0m\u001b[0;34m(\u001b[0m\u001b[0mdevice\u001b[0m\u001b[0;34m)\u001b[0m\u001b[0;34m\u001b[0m\u001b[0;34m\u001b[0m\u001b[0m\n\u001b[1;32m    301\u001b[0m             \u001b[0moptimizer\u001b[0m\u001b[0;34m.\u001b[0m\u001b[0mzero_grad\u001b[0m\u001b[0;34m(\u001b[0m\u001b[0;34m)\u001b[0m\u001b[0;34m\u001b[0m\u001b[0;34m\u001b[0m\u001b[0m\n",
            "\u001b[0;32m/usr/local/lib/python3.10/dist-packages/torch/utils/data/dataloader.py\u001b[0m in \u001b[0;36m__next__\u001b[0;34m(self)\u001b[0m\n\u001b[1;32m    699\u001b[0m                 \u001b[0;31m# TODO(https://github.com/pytorch/pytorch/issues/76750)\u001b[0m\u001b[0;34m\u001b[0m\u001b[0;34m\u001b[0m\u001b[0m\n\u001b[1;32m    700\u001b[0m                 \u001b[0mself\u001b[0m\u001b[0;34m.\u001b[0m\u001b[0m_reset\u001b[0m\u001b[0;34m(\u001b[0m\u001b[0;34m)\u001b[0m  \u001b[0;31m# type: ignore[call-arg]\u001b[0m\u001b[0;34m\u001b[0m\u001b[0;34m\u001b[0m\u001b[0m\n\u001b[0;32m--> 701\u001b[0;31m             \u001b[0mdata\u001b[0m \u001b[0;34m=\u001b[0m \u001b[0mself\u001b[0m\u001b[0;34m.\u001b[0m\u001b[0m_next_data\u001b[0m\u001b[0;34m(\u001b[0m\u001b[0;34m)\u001b[0m\u001b[0;34m\u001b[0m\u001b[0;34m\u001b[0m\u001b[0m\n\u001b[0m\u001b[1;32m    702\u001b[0m             \u001b[0mself\u001b[0m\u001b[0;34m.\u001b[0m\u001b[0m_num_yielded\u001b[0m \u001b[0;34m+=\u001b[0m \u001b[0;36m1\u001b[0m\u001b[0;34m\u001b[0m\u001b[0;34m\u001b[0m\u001b[0m\n\u001b[1;32m    703\u001b[0m             if (\n",
            "\u001b[0;32m/usr/local/lib/python3.10/dist-packages/torch/utils/data/dataloader.py\u001b[0m in \u001b[0;36m_next_data\u001b[0;34m(self)\u001b[0m\n\u001b[1;32m   1446\u001b[0m \u001b[0;34m\u001b[0m\u001b[0m\n\u001b[1;32m   1447\u001b[0m             \u001b[0;32massert\u001b[0m \u001b[0;32mnot\u001b[0m \u001b[0mself\u001b[0m\u001b[0;34m.\u001b[0m\u001b[0m_shutdown\u001b[0m \u001b[0;32mand\u001b[0m \u001b[0mself\u001b[0m\u001b[0;34m.\u001b[0m\u001b[0m_tasks_outstanding\u001b[0m \u001b[0;34m>\u001b[0m \u001b[0;36m0\u001b[0m\u001b[0;34m\u001b[0m\u001b[0;34m\u001b[0m\u001b[0m\n\u001b[0;32m-> 1448\u001b[0;31m             \u001b[0midx\u001b[0m\u001b[0;34m,\u001b[0m \u001b[0mdata\u001b[0m \u001b[0;34m=\u001b[0m \u001b[0mself\u001b[0m\u001b[0;34m.\u001b[0m\u001b[0m_get_data\u001b[0m\u001b[0;34m(\u001b[0m\u001b[0;34m)\u001b[0m\u001b[0;34m\u001b[0m\u001b[0;34m\u001b[0m\u001b[0m\n\u001b[0m\u001b[1;32m   1449\u001b[0m             \u001b[0mself\u001b[0m\u001b[0;34m.\u001b[0m\u001b[0m_tasks_outstanding\u001b[0m \u001b[0;34m-=\u001b[0m \u001b[0;36m1\u001b[0m\u001b[0;34m\u001b[0m\u001b[0;34m\u001b[0m\u001b[0m\n\u001b[1;32m   1450\u001b[0m             \u001b[0;32mif\u001b[0m \u001b[0mself\u001b[0m\u001b[0;34m.\u001b[0m\u001b[0m_dataset_kind\u001b[0m \u001b[0;34m==\u001b[0m \u001b[0m_DatasetKind\u001b[0m\u001b[0;34m.\u001b[0m\u001b[0mIterable\u001b[0m\u001b[0;34m:\u001b[0m\u001b[0;34m\u001b[0m\u001b[0;34m\u001b[0m\u001b[0m\n",
            "\u001b[0;32m/usr/local/lib/python3.10/dist-packages/torch/utils/data/dataloader.py\u001b[0m in \u001b[0;36m_get_data\u001b[0;34m(self)\u001b[0m\n\u001b[1;32m   1410\u001b[0m         \u001b[0;32melse\u001b[0m\u001b[0;34m:\u001b[0m\u001b[0;34m\u001b[0m\u001b[0;34m\u001b[0m\u001b[0m\n\u001b[1;32m   1411\u001b[0m             \u001b[0;32mwhile\u001b[0m \u001b[0;32mTrue\u001b[0m\u001b[0;34m:\u001b[0m\u001b[0;34m\u001b[0m\u001b[0;34m\u001b[0m\u001b[0m\n\u001b[0;32m-> 1412\u001b[0;31m                 \u001b[0msuccess\u001b[0m\u001b[0;34m,\u001b[0m \u001b[0mdata\u001b[0m \u001b[0;34m=\u001b[0m \u001b[0mself\u001b[0m\u001b[0;34m.\u001b[0m\u001b[0m_try_get_data\u001b[0m\u001b[0;34m(\u001b[0m\u001b[0;34m)\u001b[0m\u001b[0;34m\u001b[0m\u001b[0;34m\u001b[0m\u001b[0m\n\u001b[0m\u001b[1;32m   1413\u001b[0m                 \u001b[0;32mif\u001b[0m \u001b[0msuccess\u001b[0m\u001b[0;34m:\u001b[0m\u001b[0;34m\u001b[0m\u001b[0;34m\u001b[0m\u001b[0m\n\u001b[1;32m   1414\u001b[0m                     \u001b[0;32mreturn\u001b[0m \u001b[0mdata\u001b[0m\u001b[0;34m\u001b[0m\u001b[0;34m\u001b[0m\u001b[0m\n",
            "\u001b[0;32m/usr/local/lib/python3.10/dist-packages/torch/utils/data/dataloader.py\u001b[0m in \u001b[0;36m_try_get_data\u001b[0;34m(self, timeout)\u001b[0m\n\u001b[1;32m   1241\u001b[0m         \u001b[0;31m#   (bool: whether successfully get data, any: data if successful else None)\u001b[0m\u001b[0;34m\u001b[0m\u001b[0;34m\u001b[0m\u001b[0m\n\u001b[1;32m   1242\u001b[0m         \u001b[0;32mtry\u001b[0m\u001b[0;34m:\u001b[0m\u001b[0;34m\u001b[0m\u001b[0;34m\u001b[0m\u001b[0m\n\u001b[0;32m-> 1243\u001b[0;31m             \u001b[0mdata\u001b[0m \u001b[0;34m=\u001b[0m \u001b[0mself\u001b[0m\u001b[0;34m.\u001b[0m\u001b[0m_data_queue\u001b[0m\u001b[0;34m.\u001b[0m\u001b[0mget\u001b[0m\u001b[0;34m(\u001b[0m\u001b[0mtimeout\u001b[0m\u001b[0;34m=\u001b[0m\u001b[0mtimeout\u001b[0m\u001b[0;34m)\u001b[0m\u001b[0;34m\u001b[0m\u001b[0;34m\u001b[0m\u001b[0m\n\u001b[0m\u001b[1;32m   1244\u001b[0m             \u001b[0;32mreturn\u001b[0m \u001b[0;34m(\u001b[0m\u001b[0;32mTrue\u001b[0m\u001b[0;34m,\u001b[0m \u001b[0mdata\u001b[0m\u001b[0;34m)\u001b[0m\u001b[0;34m\u001b[0m\u001b[0;34m\u001b[0m\u001b[0m\n\u001b[1;32m   1245\u001b[0m         \u001b[0;32mexcept\u001b[0m \u001b[0mException\u001b[0m \u001b[0;32mas\u001b[0m \u001b[0me\u001b[0m\u001b[0;34m:\u001b[0m\u001b[0;34m\u001b[0m\u001b[0;34m\u001b[0m\u001b[0m\n",
            "\u001b[0;32m/usr/lib/python3.10/multiprocessing/queues.py\u001b[0m in \u001b[0;36mget\u001b[0;34m(self, block, timeout)\u001b[0m\n\u001b[1;32m    111\u001b[0m                 \u001b[0;32mif\u001b[0m \u001b[0mblock\u001b[0m\u001b[0;34m:\u001b[0m\u001b[0;34m\u001b[0m\u001b[0;34m\u001b[0m\u001b[0m\n\u001b[1;32m    112\u001b[0m                     \u001b[0mtimeout\u001b[0m \u001b[0;34m=\u001b[0m \u001b[0mdeadline\u001b[0m \u001b[0;34m-\u001b[0m \u001b[0mtime\u001b[0m\u001b[0;34m.\u001b[0m\u001b[0mmonotonic\u001b[0m\u001b[0;34m(\u001b[0m\u001b[0;34m)\u001b[0m\u001b[0;34m\u001b[0m\u001b[0;34m\u001b[0m\u001b[0m\n\u001b[0;32m--> 113\u001b[0;31m                     \u001b[0;32mif\u001b[0m \u001b[0;32mnot\u001b[0m \u001b[0mself\u001b[0m\u001b[0;34m.\u001b[0m\u001b[0m_poll\u001b[0m\u001b[0;34m(\u001b[0m\u001b[0mtimeout\u001b[0m\u001b[0;34m)\u001b[0m\u001b[0;34m:\u001b[0m\u001b[0;34m\u001b[0m\u001b[0;34m\u001b[0m\u001b[0m\n\u001b[0m\u001b[1;32m    114\u001b[0m                         \u001b[0;32mraise\u001b[0m \u001b[0mEmpty\u001b[0m\u001b[0;34m\u001b[0m\u001b[0;34m\u001b[0m\u001b[0m\n\u001b[1;32m    115\u001b[0m                 \u001b[0;32melif\u001b[0m \u001b[0;32mnot\u001b[0m \u001b[0mself\u001b[0m\u001b[0;34m.\u001b[0m\u001b[0m_poll\u001b[0m\u001b[0;34m(\u001b[0m\u001b[0;34m)\u001b[0m\u001b[0;34m:\u001b[0m\u001b[0;34m\u001b[0m\u001b[0;34m\u001b[0m\u001b[0m\n",
            "\u001b[0;32m/usr/lib/python3.10/multiprocessing/connection.py\u001b[0m in \u001b[0;36mpoll\u001b[0;34m(self, timeout)\u001b[0m\n\u001b[1;32m    255\u001b[0m         \u001b[0mself\u001b[0m\u001b[0;34m.\u001b[0m\u001b[0m_check_closed\u001b[0m\u001b[0;34m(\u001b[0m\u001b[0;34m)\u001b[0m\u001b[0;34m\u001b[0m\u001b[0;34m\u001b[0m\u001b[0m\n\u001b[1;32m    256\u001b[0m         \u001b[0mself\u001b[0m\u001b[0;34m.\u001b[0m\u001b[0m_check_readable\u001b[0m\u001b[0;34m(\u001b[0m\u001b[0;34m)\u001b[0m\u001b[0;34m\u001b[0m\u001b[0;34m\u001b[0m\u001b[0m\n\u001b[0;32m--> 257\u001b[0;31m         \u001b[0;32mreturn\u001b[0m \u001b[0mself\u001b[0m\u001b[0;34m.\u001b[0m\u001b[0m_poll\u001b[0m\u001b[0;34m(\u001b[0m\u001b[0mtimeout\u001b[0m\u001b[0;34m)\u001b[0m\u001b[0;34m\u001b[0m\u001b[0;34m\u001b[0m\u001b[0m\n\u001b[0m\u001b[1;32m    258\u001b[0m \u001b[0;34m\u001b[0m\u001b[0m\n\u001b[1;32m    259\u001b[0m     \u001b[0;32mdef\u001b[0m \u001b[0m__enter__\u001b[0m\u001b[0;34m(\u001b[0m\u001b[0mself\u001b[0m\u001b[0;34m)\u001b[0m\u001b[0;34m:\u001b[0m\u001b[0;34m\u001b[0m\u001b[0;34m\u001b[0m\u001b[0m\n",
            "\u001b[0;32m/usr/lib/python3.10/multiprocessing/connection.py\u001b[0m in \u001b[0;36m_poll\u001b[0;34m(self, timeout)\u001b[0m\n\u001b[1;32m    422\u001b[0m \u001b[0;34m\u001b[0m\u001b[0m\n\u001b[1;32m    423\u001b[0m     \u001b[0;32mdef\u001b[0m \u001b[0m_poll\u001b[0m\u001b[0;34m(\u001b[0m\u001b[0mself\u001b[0m\u001b[0;34m,\u001b[0m \u001b[0mtimeout\u001b[0m\u001b[0;34m)\u001b[0m\u001b[0;34m:\u001b[0m\u001b[0;34m\u001b[0m\u001b[0;34m\u001b[0m\u001b[0m\n\u001b[0;32m--> 424\u001b[0;31m         \u001b[0mr\u001b[0m \u001b[0;34m=\u001b[0m \u001b[0mwait\u001b[0m\u001b[0;34m(\u001b[0m\u001b[0;34m[\u001b[0m\u001b[0mself\u001b[0m\u001b[0;34m]\u001b[0m\u001b[0;34m,\u001b[0m \u001b[0mtimeout\u001b[0m\u001b[0;34m)\u001b[0m\u001b[0;34m\u001b[0m\u001b[0;34m\u001b[0m\u001b[0m\n\u001b[0m\u001b[1;32m    425\u001b[0m         \u001b[0;32mreturn\u001b[0m \u001b[0mbool\u001b[0m\u001b[0;34m(\u001b[0m\u001b[0mr\u001b[0m\u001b[0;34m)\u001b[0m\u001b[0;34m\u001b[0m\u001b[0;34m\u001b[0m\u001b[0m\n\u001b[1;32m    426\u001b[0m \u001b[0;34m\u001b[0m\u001b[0m\n",
            "\u001b[0;32m/usr/lib/python3.10/multiprocessing/connection.py\u001b[0m in \u001b[0;36mwait\u001b[0;34m(object_list, timeout)\u001b[0m\n\u001b[1;32m    929\u001b[0m \u001b[0;34m\u001b[0m\u001b[0m\n\u001b[1;32m    930\u001b[0m             \u001b[0;32mwhile\u001b[0m \u001b[0;32mTrue\u001b[0m\u001b[0;34m:\u001b[0m\u001b[0;34m\u001b[0m\u001b[0;34m\u001b[0m\u001b[0m\n\u001b[0;32m--> 931\u001b[0;31m                 \u001b[0mready\u001b[0m \u001b[0;34m=\u001b[0m \u001b[0mselector\u001b[0m\u001b[0;34m.\u001b[0m\u001b[0mselect\u001b[0m\u001b[0;34m(\u001b[0m\u001b[0mtimeout\u001b[0m\u001b[0;34m)\u001b[0m\u001b[0;34m\u001b[0m\u001b[0;34m\u001b[0m\u001b[0m\n\u001b[0m\u001b[1;32m    932\u001b[0m                 \u001b[0;32mif\u001b[0m \u001b[0mready\u001b[0m\u001b[0;34m:\u001b[0m\u001b[0;34m\u001b[0m\u001b[0;34m\u001b[0m\u001b[0m\n\u001b[1;32m    933\u001b[0m                     \u001b[0;32mreturn\u001b[0m \u001b[0;34m[\u001b[0m\u001b[0mkey\u001b[0m\u001b[0;34m.\u001b[0m\u001b[0mfileobj\u001b[0m \u001b[0;32mfor\u001b[0m \u001b[0;34m(\u001b[0m\u001b[0mkey\u001b[0m\u001b[0;34m,\u001b[0m \u001b[0mevents\u001b[0m\u001b[0;34m)\u001b[0m \u001b[0;32min\u001b[0m \u001b[0mready\u001b[0m\u001b[0;34m]\u001b[0m\u001b[0;34m\u001b[0m\u001b[0;34m\u001b[0m\u001b[0m\n",
            "\u001b[0;32m/usr/lib/python3.10/selectors.py\u001b[0m in \u001b[0;36mselect\u001b[0;34m(self, timeout)\u001b[0m\n\u001b[1;32m    414\u001b[0m         \u001b[0mready\u001b[0m \u001b[0;34m=\u001b[0m \u001b[0;34m[\u001b[0m\u001b[0;34m]\u001b[0m\u001b[0;34m\u001b[0m\u001b[0;34m\u001b[0m\u001b[0m\n\u001b[1;32m    415\u001b[0m         \u001b[0;32mtry\u001b[0m\u001b[0;34m:\u001b[0m\u001b[0;34m\u001b[0m\u001b[0;34m\u001b[0m\u001b[0m\n\u001b[0;32m--> 416\u001b[0;31m             \u001b[0mfd_event_list\u001b[0m \u001b[0;34m=\u001b[0m \u001b[0mself\u001b[0m\u001b[0;34m.\u001b[0m\u001b[0m_selector\u001b[0m\u001b[0;34m.\u001b[0m\u001b[0mpoll\u001b[0m\u001b[0;34m(\u001b[0m\u001b[0mtimeout\u001b[0m\u001b[0;34m)\u001b[0m\u001b[0;34m\u001b[0m\u001b[0;34m\u001b[0m\u001b[0m\n\u001b[0m\u001b[1;32m    417\u001b[0m         \u001b[0;32mexcept\u001b[0m \u001b[0mInterruptedError\u001b[0m\u001b[0;34m:\u001b[0m\u001b[0;34m\u001b[0m\u001b[0;34m\u001b[0m\u001b[0m\n\u001b[1;32m    418\u001b[0m             \u001b[0;32mreturn\u001b[0m \u001b[0mready\u001b[0m\u001b[0;34m\u001b[0m\u001b[0;34m\u001b[0m\u001b[0m\n",
            "\u001b[0;31mKeyboardInterrupt\u001b[0m: "
          ]
        }
      ],
      "source": [
        "%run large_batch_training.py --optimizer SGDM --batch-size 128 --weight-decay 4e-4"
      ]
    },
    {
      "cell_type": "markdown",
      "metadata": {
        "id": "_2t__56QmDKL"
      },
      "source": []
    },
    {
      "cell_type": "code",
      "execution_count": null,
      "metadata": {
        "colab": {
          "base_uri": "https://localhost:8080/"
        },
        "id": "FqIzBQKfZFgB",
        "outputId": "beff2b9d-73ac-4a8d-ed6e-51a1140977bb"
      },
      "outputs": [
        {
          "output_type": "stream",
          "name": "stdout",
          "text": [
            "Files already downloaded and verified\n",
            "Files already downloaded and verified\n",
            "Files already downloaded and verified\n",
            "Files already downloaded and verified\n",
            "--- Train with AdamW ---\n"
          ]
        }
      ],
      "source": [
        "%run large_batch_training.py --optimizer AdamW --batch-size 128 --weight-decay 1e-2"
      ]
    },
    {
      "cell_type": "code",
      "execution_count": 2,
      "metadata": {
        "colab": {
          "base_uri": "https://localhost:8080/",
          "height": 1000
        },
        "id": "_Y8TL9oBZL18",
        "outputId": "cd6579c1-48cd-41ce-ba16-36185caed9d5"
      },
      "outputs": [
        {
          "output_type": "stream",
          "name": "stdout",
          "text": [
            "Downloading https://www.cs.toronto.edu/~kriz/cifar-100-python.tar.gz to ./data/cifar-100-python.tar.gz\n"
          ]
        },
        {
          "output_type": "stream",
          "name": "stderr",
          "text": [
            "100%|██████████| 169M/169M [00:13<00:00, 12.5MB/s]\n"
          ]
        },
        {
          "output_type": "stream",
          "name": "stdout",
          "text": [
            "Extracting ./data/cifar-100-python.tar.gz to ./data\n",
            "Files already downloaded and verified\n",
            "Files already downloaded and verified\n",
            "Files already downloaded and verified\n",
            "--- Train with LARS ---\n",
            "Epoch 1/150, Train Acc: 1.95%, Val Acc: 4.69%, Test Acc: 4.21%\n",
            "Epoch 1/150, Train Loss: 4.5629, Val Loss: 4.4249, Test Loss: 4.4459\n",
            "Epoch 2/150, Train Acc: 5.24%, Val Acc: 7.93%, Test Acc: 7.21%\n",
            "Epoch 2/150, Train Loss: 4.2916, Val Loss: 4.0741, Test Loss: 4.1317\n",
            "Epoch 3/150, Train Acc: 6.87%, Val Acc: 9.92%, Test Acc: 8.88%\n",
            "Epoch 3/150, Train Loss: 4.1440, Val Loss: 3.9552, Test Loss: 4.0420\n",
            "Epoch 4/150, Train Acc: 8.23%, Val Acc: 11.75%, Test Acc: 10.16%\n",
            "Epoch 4/150, Train Loss: 4.0447, Val Loss: 3.8348, Test Loss: 3.9149\n",
            "Warmup phase completed at epoch 5. Switching to constant learning rate.\n",
            "Epoch 5/150, Train Acc: 10.26%, Val Acc: 14.00%, Test Acc: 12.02%\n",
            "Epoch 5/150, Train Loss: 3.9257, Val Loss: 3.7157, Test Loss: 3.8062\n",
            "Epoch 6/150, Train Acc: 12.11%, Val Acc: 15.15%, Test Acc: 14.81%\n",
            "Epoch 6/150, Train Loss: 3.8011, Val Loss: 3.6000, Test Loss: 3.6565\n",
            "Epoch 7/150, Train Acc: 13.53%, Val Acc: 17.66%, Test Acc: 14.25%\n",
            "Epoch 7/150, Train Loss: 3.6952, Val Loss: 3.4805, Test Loss: 3.6366\n",
            "Epoch 8/150, Train Acc: 14.97%, Val Acc: 18.74%, Test Acc: 15.11%\n",
            "Epoch 8/150, Train Loss: 3.6134, Val Loss: 3.4400, Test Loss: 3.5759\n",
            "Epoch 9/150, Train Acc: 16.57%, Val Acc: 20.06%, Test Acc: 17.02%\n",
            "Epoch 9/150, Train Loss: 3.5481, Val Loss: 3.3617, Test Loss: 3.4929\n",
            "Checkpoint saved at epoch 10: ./checkpoint_epoch_10.pth\n"
          ]
        },
        {
          "output_type": "display_data",
          "data": {
            "text/plain": [
              "<IPython.core.display.Javascript object>"
            ],
            "application/javascript": [
              "\n",
              "    async function download(id, filename, size) {\n",
              "      if (!google.colab.kernel.accessAllowed) {\n",
              "        return;\n",
              "      }\n",
              "      const div = document.createElement('div');\n",
              "      const label = document.createElement('label');\n",
              "      label.textContent = `Downloading \"${filename}\": `;\n",
              "      div.appendChild(label);\n",
              "      const progress = document.createElement('progress');\n",
              "      progress.max = size;\n",
              "      div.appendChild(progress);\n",
              "      document.body.appendChild(div);\n",
              "\n",
              "      const buffers = [];\n",
              "      let downloaded = 0;\n",
              "\n",
              "      const channel = await google.colab.kernel.comms.open(id);\n",
              "      // Send a message to notify the kernel that we're ready.\n",
              "      channel.send({})\n",
              "\n",
              "      for await (const message of channel.messages) {\n",
              "        // Send a message to notify the kernel that we're ready.\n",
              "        channel.send({})\n",
              "        if (message.buffers) {\n",
              "          for (const buffer of message.buffers) {\n",
              "            buffers.push(buffer);\n",
              "            downloaded += buffer.byteLength;\n",
              "            progress.value = downloaded;\n",
              "          }\n",
              "        }\n",
              "      }\n",
              "      const blob = new Blob(buffers, {type: 'application/binary'});\n",
              "      const a = document.createElement('a');\n",
              "      a.href = window.URL.createObjectURL(blob);\n",
              "      a.download = filename;\n",
              "      div.appendChild(a);\n",
              "      a.click();\n",
              "      div.remove();\n",
              "    }\n",
              "  "
            ]
          },
          "metadata": {}
        },
        {
          "output_type": "display_data",
          "data": {
            "text/plain": [
              "<IPython.core.display.Javascript object>"
            ],
            "application/javascript": [
              "download(\"download_11020fa1-80d8-4c8c-9e5f-704a642c98de\", \"checkpoint_epoch_10.pth\", 6530106)"
            ]
          },
          "metadata": {}
        },
        {
          "output_type": "stream",
          "name": "stdout",
          "text": [
            "Epoch 10/150, Train Acc: 17.28%, Val Acc: 21.25%, Test Acc: 17.71%\n",
            "Epoch 10/150, Train Loss: 3.5047, Val Loss: 3.3095, Test Loss: 3.4720\n",
            "Epoch 11/150, Train Acc: 18.10%, Val Acc: 21.21%, Test Acc: 18.25%\n",
            "Epoch 11/150, Train Loss: 3.4495, Val Loss: 3.2925, Test Loss: 3.4518\n",
            "Epoch 12/150, Train Acc: 19.02%, Val Acc: 23.37%, Test Acc: 19.14%\n",
            "Epoch 12/150, Train Loss: 3.3949, Val Loss: 3.1952, Test Loss: 3.3817\n",
            "Epoch 13/150, Train Acc: 20.01%, Val Acc: 24.15%, Test Acc: 20.72%\n",
            "Epoch 13/150, Train Loss: 3.3478, Val Loss: 3.1575, Test Loss: 3.3006\n",
            "Epoch 14/150, Train Acc: 20.59%, Val Acc: 24.54%, Test Acc: 22.32%\n",
            "Epoch 14/150, Train Loss: 3.3009, Val Loss: 3.1213, Test Loss: 3.2390\n",
            "Epoch 15/150, Train Acc: 21.24%, Val Acc: 25.21%, Test Acc: 22.09%\n",
            "Epoch 15/150, Train Loss: 3.2712, Val Loss: 3.0914, Test Loss: 3.2416\n",
            "Epoch 16/150, Train Acc: 22.39%, Val Acc: 26.72%, Test Acc: 22.65%\n",
            "Epoch 16/150, Train Loss: 3.2141, Val Loss: 3.0147, Test Loss: 3.1879\n",
            "Epoch 17/150, Train Acc: 23.14%, Val Acc: 27.10%, Test Acc: 23.94%\n",
            "Epoch 17/150, Train Loss: 3.1711, Val Loss: 2.9737, Test Loss: 3.1471\n",
            "Epoch 18/150, Train Acc: 23.41%, Val Acc: 27.88%, Test Acc: 23.86%\n",
            "Epoch 18/150, Train Loss: 3.1453, Val Loss: 2.9417, Test Loss: 3.1165\n",
            "Epoch 19/150, Train Acc: 24.28%, Val Acc: 27.91%, Test Acc: 24.78%\n",
            "Epoch 19/150, Train Loss: 3.1014, Val Loss: 2.9197, Test Loss: 3.0762\n",
            "Checkpoint saved at epoch 20: ./checkpoint_epoch_20.pth\n"
          ]
        },
        {
          "output_type": "display_data",
          "data": {
            "text/plain": [
              "<IPython.core.display.Javascript object>"
            ],
            "application/javascript": [
              "\n",
              "    async function download(id, filename, size) {\n",
              "      if (!google.colab.kernel.accessAllowed) {\n",
              "        return;\n",
              "      }\n",
              "      const div = document.createElement('div');\n",
              "      const label = document.createElement('label');\n",
              "      label.textContent = `Downloading \"${filename}\": `;\n",
              "      div.appendChild(label);\n",
              "      const progress = document.createElement('progress');\n",
              "      progress.max = size;\n",
              "      div.appendChild(progress);\n",
              "      document.body.appendChild(div);\n",
              "\n",
              "      const buffers = [];\n",
              "      let downloaded = 0;\n",
              "\n",
              "      const channel = await google.colab.kernel.comms.open(id);\n",
              "      // Send a message to notify the kernel that we're ready.\n",
              "      channel.send({})\n",
              "\n",
              "      for await (const message of channel.messages) {\n",
              "        // Send a message to notify the kernel that we're ready.\n",
              "        channel.send({})\n",
              "        if (message.buffers) {\n",
              "          for (const buffer of message.buffers) {\n",
              "            buffers.push(buffer);\n",
              "            downloaded += buffer.byteLength;\n",
              "            progress.value = downloaded;\n",
              "          }\n",
              "        }\n",
              "      }\n",
              "      const blob = new Blob(buffers, {type: 'application/binary'});\n",
              "      const a = document.createElement('a');\n",
              "      a.href = window.URL.createObjectURL(blob);\n",
              "      a.download = filename;\n",
              "      div.appendChild(a);\n",
              "      a.click();\n",
              "      div.remove();\n",
              "    }\n",
              "  "
            ]
          },
          "metadata": {}
        },
        {
          "output_type": "display_data",
          "data": {
            "text/plain": [
              "<IPython.core.display.Javascript object>"
            ],
            "application/javascript": [
              "download(\"download_fb0f48f0-f74f-4e9f-bed1-d78770172adc\", \"checkpoint_epoch_20.pth\", 6530106)"
            ]
          },
          "metadata": {}
        },
        {
          "output_type": "stream",
          "name": "stdout",
          "text": [
            "Epoch 20/150, Train Acc: 25.02%, Val Acc: 28.91%, Test Acc: 24.18%\n",
            "Epoch 20/150, Train Loss: 3.0560, Val Loss: 2.9011, Test Loss: 3.1028\n",
            "Epoch 21/150, Train Acc: 25.73%, Val Acc: 29.83%, Test Acc: 25.35%\n",
            "Epoch 21/150, Train Loss: 3.0068, Val Loss: 2.8355, Test Loss: 3.0515\n",
            "Epoch 22/150, Train Acc: 26.88%, Val Acc: 31.15%, Test Acc: 25.81%\n",
            "Epoch 22/150, Train Loss: 2.9735, Val Loss: 2.7687, Test Loss: 3.0062\n",
            "Epoch 23/150, Train Acc: 27.26%, Val Acc: 30.83%, Test Acc: 27.03%\n",
            "Epoch 23/150, Train Loss: 2.9418, Val Loss: 2.7785, Test Loss: 2.9423\n",
            "Epoch 24/150, Train Acc: 27.81%, Val Acc: 32.45%, Test Acc: 27.30%\n",
            "Epoch 24/150, Train Loss: 2.9072, Val Loss: 2.7168, Test Loss: 2.9368\n",
            "Epoch 25/150, Train Acc: 28.64%, Val Acc: 32.41%, Test Acc: 27.58%\n",
            "Epoch 25/150, Train Loss: 2.8748, Val Loss: 2.7113, Test Loss: 2.9270\n",
            "Epoch 26/150, Train Acc: 29.06%, Val Acc: 32.43%, Test Acc: 26.83%\n",
            "Epoch 26/150, Train Loss: 2.8503, Val Loss: 2.7018, Test Loss: 2.9508\n",
            "Epoch 27/150, Train Acc: 29.59%, Val Acc: 33.63%, Test Acc: 27.83%\n",
            "Epoch 27/150, Train Loss: 2.8215, Val Loss: 2.6536, Test Loss: 2.8943\n",
            "Epoch 28/150, Train Acc: 30.20%, Val Acc: 34.49%, Test Acc: 28.72%\n",
            "Epoch 28/150, Train Loss: 2.7869, Val Loss: 2.6171, Test Loss: 2.8564\n",
            "Epoch 29/150, Train Acc: 30.62%, Val Acc: 33.82%, Test Acc: 28.94%\n",
            "Epoch 29/150, Train Loss: 2.7718, Val Loss: 2.6278, Test Loss: 2.8516\n",
            "Checkpoint saved at epoch 30: ./checkpoint_epoch_30.pth\n"
          ]
        },
        {
          "output_type": "display_data",
          "data": {
            "text/plain": [
              "<IPython.core.display.Javascript object>"
            ],
            "application/javascript": [
              "\n",
              "    async function download(id, filename, size) {\n",
              "      if (!google.colab.kernel.accessAllowed) {\n",
              "        return;\n",
              "      }\n",
              "      const div = document.createElement('div');\n",
              "      const label = document.createElement('label');\n",
              "      label.textContent = `Downloading \"${filename}\": `;\n",
              "      div.appendChild(label);\n",
              "      const progress = document.createElement('progress');\n",
              "      progress.max = size;\n",
              "      div.appendChild(progress);\n",
              "      document.body.appendChild(div);\n",
              "\n",
              "      const buffers = [];\n",
              "      let downloaded = 0;\n",
              "\n",
              "      const channel = await google.colab.kernel.comms.open(id);\n",
              "      // Send a message to notify the kernel that we're ready.\n",
              "      channel.send({})\n",
              "\n",
              "      for await (const message of channel.messages) {\n",
              "        // Send a message to notify the kernel that we're ready.\n",
              "        channel.send({})\n",
              "        if (message.buffers) {\n",
              "          for (const buffer of message.buffers) {\n",
              "            buffers.push(buffer);\n",
              "            downloaded += buffer.byteLength;\n",
              "            progress.value = downloaded;\n",
              "          }\n",
              "        }\n",
              "      }\n",
              "      const blob = new Blob(buffers, {type: 'application/binary'});\n",
              "      const a = document.createElement('a');\n",
              "      a.href = window.URL.createObjectURL(blob);\n",
              "      a.download = filename;\n",
              "      div.appendChild(a);\n",
              "      a.click();\n",
              "      div.remove();\n",
              "    }\n",
              "  "
            ]
          },
          "metadata": {}
        },
        {
          "output_type": "display_data",
          "data": {
            "text/plain": [
              "<IPython.core.display.Javascript object>"
            ],
            "application/javascript": [
              "download(\"download_118bce01-2b42-4ae8-baf6-271a5947bbde\", \"checkpoint_epoch_30.pth\", 6530106)"
            ]
          },
          "metadata": {}
        },
        {
          "output_type": "stream",
          "name": "stdout",
          "text": [
            "Epoch 30/150, Train Acc: 30.97%, Val Acc: 34.86%, Test Acc: 29.22%\n",
            "Epoch 30/150, Train Loss: 2.7458, Val Loss: 2.5974, Test Loss: 2.8313\n",
            "Epoch 31/150, Train Acc: 31.59%, Val Acc: 35.04%, Test Acc: 30.53%\n",
            "Epoch 31/150, Train Loss: 2.7113, Val Loss: 2.5628, Test Loss: 2.7891\n",
            "Epoch 32/150, Train Acc: 31.79%, Val Acc: 35.55%, Test Acc: 30.05%\n",
            "Epoch 32/150, Train Loss: 2.7052, Val Loss: 2.5444, Test Loss: 2.7848\n",
            "Epoch 33/150, Train Acc: 32.70%, Val Acc: 35.82%, Test Acc: 28.33%\n",
            "Epoch 33/150, Train Loss: 2.6692, Val Loss: 2.5418, Test Loss: 2.8783\n",
            "Epoch 34/150, Train Acc: 32.70%, Val Acc: 35.63%, Test Acc: 29.60%\n",
            "Epoch 34/150, Train Loss: 2.6500, Val Loss: 2.5525, Test Loss: 2.8417\n",
            "Epoch 35/150, Train Acc: 33.28%, Val Acc: 36.13%, Test Acc: 32.18%\n",
            "Epoch 35/150, Train Loss: 2.6300, Val Loss: 2.5235, Test Loss: 2.7236\n",
            "Epoch 36/150, Train Acc: 33.68%, Val Acc: 36.39%, Test Acc: 30.83%\n",
            "Epoch 36/150, Train Loss: 2.6096, Val Loss: 2.4957, Test Loss: 2.7756\n",
            "Epoch 37/150, Train Acc: 34.38%, Val Acc: 36.39%, Test Acc: 29.89%\n",
            "Epoch 37/150, Train Loss: 2.5842, Val Loss: 2.5230, Test Loss: 2.8120\n",
            "Epoch 38/150, Train Acc: 34.66%, Val Acc: 36.34%, Test Acc: 31.94%\n",
            "Epoch 38/150, Train Loss: 2.5680, Val Loss: 2.4785, Test Loss: 2.7161\n",
            "Epoch 39/150, Train Acc: 35.02%, Val Acc: 37.47%, Test Acc: 31.16%\n",
            "Epoch 39/150, Train Loss: 2.5540, Val Loss: 2.4552, Test Loss: 2.7404\n",
            "Checkpoint saved at epoch 40: ./checkpoint_epoch_40.pth\n"
          ]
        },
        {
          "output_type": "display_data",
          "data": {
            "text/plain": [
              "<IPython.core.display.Javascript object>"
            ],
            "application/javascript": [
              "\n",
              "    async function download(id, filename, size) {\n",
              "      if (!google.colab.kernel.accessAllowed) {\n",
              "        return;\n",
              "      }\n",
              "      const div = document.createElement('div');\n",
              "      const label = document.createElement('label');\n",
              "      label.textContent = `Downloading \"${filename}\": `;\n",
              "      div.appendChild(label);\n",
              "      const progress = document.createElement('progress');\n",
              "      progress.max = size;\n",
              "      div.appendChild(progress);\n",
              "      document.body.appendChild(div);\n",
              "\n",
              "      const buffers = [];\n",
              "      let downloaded = 0;\n",
              "\n",
              "      const channel = await google.colab.kernel.comms.open(id);\n",
              "      // Send a message to notify the kernel that we're ready.\n",
              "      channel.send({})\n",
              "\n",
              "      for await (const message of channel.messages) {\n",
              "        // Send a message to notify the kernel that we're ready.\n",
              "        channel.send({})\n",
              "        if (message.buffers) {\n",
              "          for (const buffer of message.buffers) {\n",
              "            buffers.push(buffer);\n",
              "            downloaded += buffer.byteLength;\n",
              "            progress.value = downloaded;\n",
              "          }\n",
              "        }\n",
              "      }\n",
              "      const blob = new Blob(buffers, {type: 'application/binary'});\n",
              "      const a = document.createElement('a');\n",
              "      a.href = window.URL.createObjectURL(blob);\n",
              "      a.download = filename;\n",
              "      div.appendChild(a);\n",
              "      a.click();\n",
              "      div.remove();\n",
              "    }\n",
              "  "
            ]
          },
          "metadata": {}
        },
        {
          "output_type": "display_data",
          "data": {
            "text/plain": [
              "<IPython.core.display.Javascript object>"
            ],
            "application/javascript": [
              "download(\"download_9882a17c-1dc8-4915-a2a0-951e8d137665\", \"checkpoint_epoch_40.pth\", 6530106)"
            ]
          },
          "metadata": {}
        },
        {
          "output_type": "stream",
          "name": "stdout",
          "text": [
            "Epoch 40/150, Train Acc: 35.23%, Val Acc: 38.02%, Test Acc: 32.73%\n",
            "Epoch 40/150, Train Loss: 2.5358, Val Loss: 2.4350, Test Loss: 2.6690\n",
            "Epoch 41/150, Train Acc: 35.49%, Val Acc: 37.76%, Test Acc: 31.93%\n",
            "Epoch 41/150, Train Loss: 2.5166, Val Loss: 2.4455, Test Loss: 2.7277\n",
            "Epoch 42/150, Train Acc: 36.09%, Val Acc: 37.84%, Test Acc: 31.66%\n",
            "Epoch 42/150, Train Loss: 2.5006, Val Loss: 2.4593, Test Loss: 2.7453\n",
            "Epoch 43/150, Train Acc: 36.34%, Val Acc: 38.54%, Test Acc: 31.33%\n",
            "Epoch 43/150, Train Loss: 2.4922, Val Loss: 2.4060, Test Loss: 2.7218\n",
            "Epoch 44/150, Train Acc: 36.64%, Val Acc: 38.34%, Test Acc: 33.59%\n",
            "Epoch 44/150, Train Loss: 2.4665, Val Loss: 2.4023, Test Loss: 2.6419\n",
            "Epoch 45/150, Train Acc: 37.03%, Val Acc: 38.78%, Test Acc: 32.80%\n",
            "Epoch 45/150, Train Loss: 2.4482, Val Loss: 2.3731, Test Loss: 2.6624\n",
            "Epoch 46/150, Train Acc: 37.32%, Val Acc: 39.30%, Test Acc: 34.46%\n",
            "Epoch 46/150, Train Loss: 2.4359, Val Loss: 2.3744, Test Loss: 2.6122\n",
            "Epoch 47/150, Train Acc: 37.74%, Val Acc: 38.88%, Test Acc: 32.54%\n",
            "Epoch 47/150, Train Loss: 2.4215, Val Loss: 2.3896, Test Loss: 2.6764\n",
            "Epoch 48/150, Train Acc: 37.93%, Val Acc: 39.86%, Test Acc: 34.53%\n",
            "Epoch 48/150, Train Loss: 2.4053, Val Loss: 2.3478, Test Loss: 2.6275\n",
            "Epoch 49/150, Train Acc: 38.40%, Val Acc: 39.89%, Test Acc: 34.85%\n",
            "Epoch 49/150, Train Loss: 2.4010, Val Loss: 2.3534, Test Loss: 2.5982\n",
            "Checkpoint saved at epoch 50: ./checkpoint_epoch_50.pth\n"
          ]
        },
        {
          "output_type": "display_data",
          "data": {
            "text/plain": [
              "<IPython.core.display.Javascript object>"
            ],
            "application/javascript": [
              "\n",
              "    async function download(id, filename, size) {\n",
              "      if (!google.colab.kernel.accessAllowed) {\n",
              "        return;\n",
              "      }\n",
              "      const div = document.createElement('div');\n",
              "      const label = document.createElement('label');\n",
              "      label.textContent = `Downloading \"${filename}\": `;\n",
              "      div.appendChild(label);\n",
              "      const progress = document.createElement('progress');\n",
              "      progress.max = size;\n",
              "      div.appendChild(progress);\n",
              "      document.body.appendChild(div);\n",
              "\n",
              "      const buffers = [];\n",
              "      let downloaded = 0;\n",
              "\n",
              "      const channel = await google.colab.kernel.comms.open(id);\n",
              "      // Send a message to notify the kernel that we're ready.\n",
              "      channel.send({})\n",
              "\n",
              "      for await (const message of channel.messages) {\n",
              "        // Send a message to notify the kernel that we're ready.\n",
              "        channel.send({})\n",
              "        if (message.buffers) {\n",
              "          for (const buffer of message.buffers) {\n",
              "            buffers.push(buffer);\n",
              "            downloaded += buffer.byteLength;\n",
              "            progress.value = downloaded;\n",
              "          }\n",
              "        }\n",
              "      }\n",
              "      const blob = new Blob(buffers, {type: 'application/binary'});\n",
              "      const a = document.createElement('a');\n",
              "      a.href = window.URL.createObjectURL(blob);\n",
              "      a.download = filename;\n",
              "      div.appendChild(a);\n",
              "      a.click();\n",
              "      div.remove();\n",
              "    }\n",
              "  "
            ]
          },
          "metadata": {}
        },
        {
          "output_type": "display_data",
          "data": {
            "text/plain": [
              "<IPython.core.display.Javascript object>"
            ],
            "application/javascript": [
              "download(\"download_8adbf860-c1f5-46e3-ac59-326695113417\", \"checkpoint_epoch_50.pth\", 6530106)"
            ]
          },
          "metadata": {}
        },
        {
          "output_type": "stream",
          "name": "stdout",
          "text": [
            "Epoch 50/150, Train Acc: 38.54%, Val Acc: 40.34%, Test Acc: 34.86%\n",
            "Epoch 50/150, Train Loss: 2.3749, Val Loss: 2.3294, Test Loss: 2.6036\n",
            "Epoch 51/150, Train Acc: 39.01%, Val Acc: 39.82%, Test Acc: 34.64%\n",
            "Epoch 51/150, Train Loss: 2.3616, Val Loss: 2.3404, Test Loss: 2.6141\n",
            "Epoch 52/150, Train Acc: 38.77%, Val Acc: 40.36%, Test Acc: 35.15%\n",
            "Epoch 52/150, Train Loss: 2.3510, Val Loss: 2.3271, Test Loss: 2.5952\n",
            "Epoch 53/150, Train Acc: 39.47%, Val Acc: 40.67%, Test Acc: 35.64%\n",
            "Epoch 53/150, Train Loss: 2.3343, Val Loss: 2.2968, Test Loss: 2.5697\n",
            "Epoch 54/150, Train Acc: 39.56%, Val Acc: 39.79%, Test Acc: 33.58%\n",
            "Epoch 54/150, Train Loss: 2.3265, Val Loss: 2.3237, Test Loss: 2.6518\n",
            "Epoch 55/150, Train Acc: 39.32%, Val Acc: 40.75%, Test Acc: 34.60%\n",
            "Epoch 55/150, Train Loss: 2.3196, Val Loss: 2.3055, Test Loss: 2.5904\n",
            "Epoch 56/150, Train Acc: 40.38%, Val Acc: 40.62%, Test Acc: 34.40%\n",
            "Epoch 56/150, Train Loss: 2.2908, Val Loss: 2.3029, Test Loss: 2.6199\n",
            "Epoch 57/150, Train Acc: 40.66%, Val Acc: 41.07%, Test Acc: 35.30%\n",
            "Epoch 57/150, Train Loss: 2.2870, Val Loss: 2.3068, Test Loss: 2.5957\n",
            "Epoch 58/150, Train Acc: 40.81%, Val Acc: 41.78%, Test Acc: 35.72%\n",
            "Epoch 58/150, Train Loss: 2.2698, Val Loss: 2.2725, Test Loss: 2.5558\n",
            "Epoch 59/150, Train Acc: 41.34%, Val Acc: 41.85%, Test Acc: 37.22%\n",
            "Epoch 59/150, Train Loss: 2.2557, Val Loss: 2.2535, Test Loss: 2.5002\n",
            "Checkpoint saved at epoch 60: ./checkpoint_epoch_60.pth\n"
          ]
        },
        {
          "output_type": "display_data",
          "data": {
            "text/plain": [
              "<IPython.core.display.Javascript object>"
            ],
            "application/javascript": [
              "\n",
              "    async function download(id, filename, size) {\n",
              "      if (!google.colab.kernel.accessAllowed) {\n",
              "        return;\n",
              "      }\n",
              "      const div = document.createElement('div');\n",
              "      const label = document.createElement('label');\n",
              "      label.textContent = `Downloading \"${filename}\": `;\n",
              "      div.appendChild(label);\n",
              "      const progress = document.createElement('progress');\n",
              "      progress.max = size;\n",
              "      div.appendChild(progress);\n",
              "      document.body.appendChild(div);\n",
              "\n",
              "      const buffers = [];\n",
              "      let downloaded = 0;\n",
              "\n",
              "      const channel = await google.colab.kernel.comms.open(id);\n",
              "      // Send a message to notify the kernel that we're ready.\n",
              "      channel.send({})\n",
              "\n",
              "      for await (const message of channel.messages) {\n",
              "        // Send a message to notify the kernel that we're ready.\n",
              "        channel.send({})\n",
              "        if (message.buffers) {\n",
              "          for (const buffer of message.buffers) {\n",
              "            buffers.push(buffer);\n",
              "            downloaded += buffer.byteLength;\n",
              "            progress.value = downloaded;\n",
              "          }\n",
              "        }\n",
              "      }\n",
              "      const blob = new Blob(buffers, {type: 'application/binary'});\n",
              "      const a = document.createElement('a');\n",
              "      a.href = window.URL.createObjectURL(blob);\n",
              "      a.download = filename;\n",
              "      div.appendChild(a);\n",
              "      a.click();\n",
              "      div.remove();\n",
              "    }\n",
              "  "
            ]
          },
          "metadata": {}
        },
        {
          "output_type": "display_data",
          "data": {
            "text/plain": [
              "<IPython.core.display.Javascript object>"
            ],
            "application/javascript": [
              "download(\"download_08839b20-758d-437d-8f49-d87bb59507fe\", \"checkpoint_epoch_60.pth\", 6530106)"
            ]
          },
          "metadata": {}
        },
        {
          "output_type": "stream",
          "name": "stdout",
          "text": [
            "Epoch 60/150, Train Acc: 41.15%, Val Acc: 42.07%, Test Acc: 36.67%\n",
            "Epoch 60/150, Train Loss: 2.2510, Val Loss: 2.2751, Test Loss: 2.5267\n",
            "Epoch 61/150, Train Acc: 41.59%, Val Acc: 41.51%, Test Acc: 36.23%\n",
            "Epoch 61/150, Train Loss: 2.2337, Val Loss: 2.2705, Test Loss: 2.5608\n",
            "Epoch 62/150, Train Acc: 42.03%, Val Acc: 41.86%, Test Acc: 36.06%\n",
            "Epoch 62/150, Train Loss: 2.2246, Val Loss: 2.2653, Test Loss: 2.5227\n",
            "Epoch 63/150, Train Acc: 41.91%, Val Acc: 41.25%, Test Acc: 36.24%\n",
            "Epoch 63/150, Train Loss: 2.2216, Val Loss: 2.2681, Test Loss: 2.5027\n",
            "Epoch 64/150, Train Acc: 41.97%, Val Acc: 41.46%, Test Acc: 36.42%\n",
            "Epoch 64/150, Train Loss: 2.2088, Val Loss: 2.2625, Test Loss: 2.5035\n",
            "Epoch 65/150, Train Acc: 42.48%, Val Acc: 41.68%, Test Acc: 36.68%\n",
            "Epoch 65/150, Train Loss: 2.1965, Val Loss: 2.2573, Test Loss: 2.5179\n",
            "Epoch 66/150, Train Acc: 42.52%, Val Acc: 42.43%, Test Acc: 37.50%\n",
            "Epoch 66/150, Train Loss: 2.1823, Val Loss: 2.2224, Test Loss: 2.4614\n",
            "Epoch 67/150, Train Acc: 43.03%, Val Acc: 42.48%, Test Acc: 37.01%\n",
            "Epoch 67/150, Train Loss: 2.1639, Val Loss: 2.2327, Test Loss: 2.4841\n",
            "Epoch 68/150, Train Acc: 43.45%, Val Acc: 42.36%, Test Acc: 35.84%\n",
            "Epoch 68/150, Train Loss: 2.1604, Val Loss: 2.2197, Test Loss: 2.5194\n",
            "Epoch 69/150, Train Acc: 43.73%, Val Acc: 42.36%, Test Acc: 36.65%\n",
            "Epoch 69/150, Train Loss: 2.1414, Val Loss: 2.2442, Test Loss: 2.5013\n",
            "Checkpoint saved at epoch 70: ./checkpoint_epoch_70.pth\n"
          ]
        },
        {
          "output_type": "display_data",
          "data": {
            "text/plain": [
              "<IPython.core.display.Javascript object>"
            ],
            "application/javascript": [
              "\n",
              "    async function download(id, filename, size) {\n",
              "      if (!google.colab.kernel.accessAllowed) {\n",
              "        return;\n",
              "      }\n",
              "      const div = document.createElement('div');\n",
              "      const label = document.createElement('label');\n",
              "      label.textContent = `Downloading \"${filename}\": `;\n",
              "      div.appendChild(label);\n",
              "      const progress = document.createElement('progress');\n",
              "      progress.max = size;\n",
              "      div.appendChild(progress);\n",
              "      document.body.appendChild(div);\n",
              "\n",
              "      const buffers = [];\n",
              "      let downloaded = 0;\n",
              "\n",
              "      const channel = await google.colab.kernel.comms.open(id);\n",
              "      // Send a message to notify the kernel that we're ready.\n",
              "      channel.send({})\n",
              "\n",
              "      for await (const message of channel.messages) {\n",
              "        // Send a message to notify the kernel that we're ready.\n",
              "        channel.send({})\n",
              "        if (message.buffers) {\n",
              "          for (const buffer of message.buffers) {\n",
              "            buffers.push(buffer);\n",
              "            downloaded += buffer.byteLength;\n",
              "            progress.value = downloaded;\n",
              "          }\n",
              "        }\n",
              "      }\n",
              "      const blob = new Blob(buffers, {type: 'application/binary'});\n",
              "      const a = document.createElement('a');\n",
              "      a.href = window.URL.createObjectURL(blob);\n",
              "      a.download = filename;\n",
              "      div.appendChild(a);\n",
              "      a.click();\n",
              "      div.remove();\n",
              "    }\n",
              "  "
            ]
          },
          "metadata": {}
        },
        {
          "output_type": "display_data",
          "data": {
            "text/plain": [
              "<IPython.core.display.Javascript object>"
            ],
            "application/javascript": [
              "download(\"download_71e3ca8f-cc5c-4c7b-8685-8612ff280f48\", \"checkpoint_epoch_70.pth\", 6530106)"
            ]
          },
          "metadata": {}
        },
        {
          "output_type": "stream",
          "name": "stdout",
          "text": [
            "Epoch 70/150, Train Acc: 43.76%, Val Acc: 42.80%, Test Acc: 36.98%\n",
            "Epoch 70/150, Train Loss: 2.1425, Val Loss: 2.2199, Test Loss: 2.5025\n",
            "Epoch 71/150, Train Acc: 43.85%, Val Acc: 42.11%, Test Acc: 37.42%\n",
            "Epoch 71/150, Train Loss: 2.1246, Val Loss: 2.2318, Test Loss: 2.4767\n",
            "Epoch 72/150, Train Acc: 44.03%, Val Acc: 42.72%, Test Acc: 37.43%\n",
            "Epoch 72/150, Train Loss: 2.1282, Val Loss: 2.2135, Test Loss: 2.4621\n",
            "Epoch 73/150, Train Acc: 44.20%, Val Acc: 42.86%, Test Acc: 37.27%\n",
            "Epoch 73/150, Train Loss: 2.1203, Val Loss: 2.2039, Test Loss: 2.4819\n",
            "Epoch 74/150, Train Acc: 44.46%, Val Acc: 43.17%, Test Acc: 37.64%\n",
            "Epoch 74/150, Train Loss: 2.1038, Val Loss: 2.1926, Test Loss: 2.4584\n",
            "Epoch 75/150, Train Acc: 44.66%, Val Acc: 43.23%, Test Acc: 37.41%\n",
            "Epoch 75/150, Train Loss: 2.0914, Val Loss: 2.2029, Test Loss: 2.4727\n",
            "Epoch 76/150, Train Acc: 44.69%, Val Acc: 43.58%, Test Acc: 39.04%\n",
            "Epoch 76/150, Train Loss: 2.0855, Val Loss: 2.1796, Test Loss: 2.4256\n",
            "Epoch 77/150, Train Acc: 44.97%, Val Acc: 43.94%, Test Acc: 38.16%\n",
            "Epoch 77/150, Train Loss: 2.0733, Val Loss: 2.1801, Test Loss: 2.4413\n",
            "Epoch 78/150, Train Acc: 45.18%, Val Acc: 43.26%, Test Acc: 38.17%\n",
            "Epoch 78/150, Train Loss: 2.0693, Val Loss: 2.2002, Test Loss: 2.4354\n",
            "Epoch 79/150, Train Acc: 45.09%, Val Acc: 43.53%, Test Acc: 37.84%\n",
            "Epoch 79/150, Train Loss: 2.0713, Val Loss: 2.1843, Test Loss: 2.4503\n",
            "Checkpoint saved at epoch 80: ./checkpoint_epoch_80.pth\n"
          ]
        },
        {
          "output_type": "display_data",
          "data": {
            "text/plain": [
              "<IPython.core.display.Javascript object>"
            ],
            "application/javascript": [
              "\n",
              "    async function download(id, filename, size) {\n",
              "      if (!google.colab.kernel.accessAllowed) {\n",
              "        return;\n",
              "      }\n",
              "      const div = document.createElement('div');\n",
              "      const label = document.createElement('label');\n",
              "      label.textContent = `Downloading \"${filename}\": `;\n",
              "      div.appendChild(label);\n",
              "      const progress = document.createElement('progress');\n",
              "      progress.max = size;\n",
              "      div.appendChild(progress);\n",
              "      document.body.appendChild(div);\n",
              "\n",
              "      const buffers = [];\n",
              "      let downloaded = 0;\n",
              "\n",
              "      const channel = await google.colab.kernel.comms.open(id);\n",
              "      // Send a message to notify the kernel that we're ready.\n",
              "      channel.send({})\n",
              "\n",
              "      for await (const message of channel.messages) {\n",
              "        // Send a message to notify the kernel that we're ready.\n",
              "        channel.send({})\n",
              "        if (message.buffers) {\n",
              "          for (const buffer of message.buffers) {\n",
              "            buffers.push(buffer);\n",
              "            downloaded += buffer.byteLength;\n",
              "            progress.value = downloaded;\n",
              "          }\n",
              "        }\n",
              "      }\n",
              "      const blob = new Blob(buffers, {type: 'application/binary'});\n",
              "      const a = document.createElement('a');\n",
              "      a.href = window.URL.createObjectURL(blob);\n",
              "      a.download = filename;\n",
              "      div.appendChild(a);\n",
              "      a.click();\n",
              "      div.remove();\n",
              "    }\n",
              "  "
            ]
          },
          "metadata": {}
        },
        {
          "output_type": "display_data",
          "data": {
            "text/plain": [
              "<IPython.core.display.Javascript object>"
            ],
            "application/javascript": [
              "download(\"download_a1e23fc5-24a3-48f8-bd1c-c277e246a66e\", \"checkpoint_epoch_80.pth\", 6530106)"
            ]
          },
          "metadata": {}
        },
        {
          "output_type": "stream",
          "name": "stdout",
          "text": [
            "Epoch 80/150, Train Acc: 45.50%, Val Acc: 44.44%, Test Acc: 38.82%\n",
            "Epoch 80/150, Train Loss: 2.0621, Val Loss: 2.1709, Test Loss: 2.4309\n",
            "Epoch 81/150, Train Acc: 45.84%, Val Acc: 43.72%, Test Acc: 38.65%\n",
            "Epoch 81/150, Train Loss: 2.0467, Val Loss: 2.1699, Test Loss: 2.4156\n",
            "Epoch 82/150, Train Acc: 45.80%, Val Acc: 43.72%, Test Acc: 37.71%\n",
            "Epoch 82/150, Train Loss: 2.0370, Val Loss: 2.1768, Test Loss: 2.4677\n",
            "Epoch 83/150, Train Acc: 45.77%, Val Acc: 43.77%, Test Acc: 36.89%\n",
            "Epoch 83/150, Train Loss: 2.0395, Val Loss: 2.1713, Test Loss: 2.4938\n",
            "Epoch 84/150, Train Acc: 46.27%, Val Acc: 44.37%, Test Acc: 38.33%\n",
            "Epoch 84/150, Train Loss: 2.0263, Val Loss: 2.1637, Test Loss: 2.4362\n",
            "Epoch 85/150, Train Acc: 46.31%, Val Acc: 44.51%, Test Acc: 39.05%\n",
            "Epoch 85/150, Train Loss: 2.0134, Val Loss: 2.1668, Test Loss: 2.4260\n",
            "Epoch 86/150, Train Acc: 46.65%, Val Acc: 44.12%, Test Acc: 39.09%\n",
            "Epoch 86/150, Train Loss: 1.9929, Val Loss: 2.1658, Test Loss: 2.4117\n",
            "Epoch 87/150, Train Acc: 46.82%, Val Acc: 45.13%, Test Acc: 39.63%\n",
            "Epoch 87/150, Train Loss: 2.0034, Val Loss: 2.1477, Test Loss: 2.4019\n",
            "Epoch 88/150, Train Acc: 47.00%, Val Acc: 44.11%, Test Acc: 38.48%\n",
            "Epoch 88/150, Train Loss: 1.9890, Val Loss: 2.1676, Test Loss: 2.4533\n",
            "Epoch 89/150, Train Acc: 47.37%, Val Acc: 44.40%, Test Acc: 38.44%\n",
            "Epoch 89/150, Train Loss: 1.9723, Val Loss: 2.1394, Test Loss: 2.4266\n",
            "Checkpoint saved at epoch 90: ./checkpoint_epoch_90.pth\n"
          ]
        },
        {
          "output_type": "display_data",
          "data": {
            "text/plain": [
              "<IPython.core.display.Javascript object>"
            ],
            "application/javascript": [
              "\n",
              "    async function download(id, filename, size) {\n",
              "      if (!google.colab.kernel.accessAllowed) {\n",
              "        return;\n",
              "      }\n",
              "      const div = document.createElement('div');\n",
              "      const label = document.createElement('label');\n",
              "      label.textContent = `Downloading \"${filename}\": `;\n",
              "      div.appendChild(label);\n",
              "      const progress = document.createElement('progress');\n",
              "      progress.max = size;\n",
              "      div.appendChild(progress);\n",
              "      document.body.appendChild(div);\n",
              "\n",
              "      const buffers = [];\n",
              "      let downloaded = 0;\n",
              "\n",
              "      const channel = await google.colab.kernel.comms.open(id);\n",
              "      // Send a message to notify the kernel that we're ready.\n",
              "      channel.send({})\n",
              "\n",
              "      for await (const message of channel.messages) {\n",
              "        // Send a message to notify the kernel that we're ready.\n",
              "        channel.send({})\n",
              "        if (message.buffers) {\n",
              "          for (const buffer of message.buffers) {\n",
              "            buffers.push(buffer);\n",
              "            downloaded += buffer.byteLength;\n",
              "            progress.value = downloaded;\n",
              "          }\n",
              "        }\n",
              "      }\n",
              "      const blob = new Blob(buffers, {type: 'application/binary'});\n",
              "      const a = document.createElement('a');\n",
              "      a.href = window.URL.createObjectURL(blob);\n",
              "      a.download = filename;\n",
              "      div.appendChild(a);\n",
              "      a.click();\n",
              "      div.remove();\n",
              "    }\n",
              "  "
            ]
          },
          "metadata": {}
        },
        {
          "output_type": "display_data",
          "data": {
            "text/plain": [
              "<IPython.core.display.Javascript object>"
            ],
            "application/javascript": [
              "download(\"download_15316d14-57bc-4400-a3d4-b20070477364\", \"checkpoint_epoch_90.pth\", 6530106)"
            ]
          },
          "metadata": {}
        },
        {
          "output_type": "stream",
          "name": "stdout",
          "text": [
            "Epoch 90/150, Train Acc: 47.36%, Val Acc: 45.18%, Test Acc: 38.83%\n",
            "Epoch 90/150, Train Loss: 1.9792, Val Loss: 2.1394, Test Loss: 2.4423\n",
            "Epoch 91/150, Train Acc: 47.20%, Val Acc: 44.22%, Test Acc: 39.38%\n",
            "Epoch 91/150, Train Loss: 1.9714, Val Loss: 2.1535, Test Loss: 2.4100\n",
            "Epoch 92/150, Train Acc: 47.31%, Val Acc: 44.72%, Test Acc: 39.70%\n",
            "Epoch 92/150, Train Loss: 1.9577, Val Loss: 2.1485, Test Loss: 2.3981\n",
            "Epoch 93/150, Train Acc: 47.77%, Val Acc: 44.81%, Test Acc: 39.38%\n",
            "Epoch 93/150, Train Loss: 1.9592, Val Loss: 2.1432, Test Loss: 2.3949\n",
            "Epoch 94/150, Train Acc: 48.22%, Val Acc: 44.32%, Test Acc: 39.12%\n",
            "Epoch 94/150, Train Loss: 1.9444, Val Loss: 2.1651, Test Loss: 2.3953\n",
            "Epoch 95/150, Train Acc: 47.94%, Val Acc: 44.87%, Test Acc: 38.20%\n",
            "Epoch 95/150, Train Loss: 1.9432, Val Loss: 2.1420, Test Loss: 2.4478\n",
            "Epoch 96/150, Train Acc: 47.96%, Val Acc: 45.06%, Test Acc: 39.67%\n",
            "Epoch 96/150, Train Loss: 1.9394, Val Loss: 2.1221, Test Loss: 2.3819\n",
            "Epoch 97/150, Train Acc: 48.48%, Val Acc: 44.80%, Test Acc: 38.82%\n",
            "Epoch 97/150, Train Loss: 1.9252, Val Loss: 2.1367, Test Loss: 2.4081\n",
            "Epoch 98/150, Train Acc: 48.34%, Val Acc: 44.72%, Test Acc: 38.48%\n",
            "Epoch 98/150, Train Loss: 1.9215, Val Loss: 2.1430, Test Loss: 2.4402\n",
            "Epoch 99/150, Train Acc: 48.31%, Val Acc: 45.68%, Test Acc: 39.70%\n",
            "Epoch 99/150, Train Loss: 1.9213, Val Loss: 2.1241, Test Loss: 2.3993\n",
            "Checkpoint saved at epoch 100: ./checkpoint_epoch_100.pth\n"
          ]
        },
        {
          "output_type": "display_data",
          "data": {
            "text/plain": [
              "<IPython.core.display.Javascript object>"
            ],
            "application/javascript": [
              "\n",
              "    async function download(id, filename, size) {\n",
              "      if (!google.colab.kernel.accessAllowed) {\n",
              "        return;\n",
              "      }\n",
              "      const div = document.createElement('div');\n",
              "      const label = document.createElement('label');\n",
              "      label.textContent = `Downloading \"${filename}\": `;\n",
              "      div.appendChild(label);\n",
              "      const progress = document.createElement('progress');\n",
              "      progress.max = size;\n",
              "      div.appendChild(progress);\n",
              "      document.body.appendChild(div);\n",
              "\n",
              "      const buffers = [];\n",
              "      let downloaded = 0;\n",
              "\n",
              "      const channel = await google.colab.kernel.comms.open(id);\n",
              "      // Send a message to notify the kernel that we're ready.\n",
              "      channel.send({})\n",
              "\n",
              "      for await (const message of channel.messages) {\n",
              "        // Send a message to notify the kernel that we're ready.\n",
              "        channel.send({})\n",
              "        if (message.buffers) {\n",
              "          for (const buffer of message.buffers) {\n",
              "            buffers.push(buffer);\n",
              "            downloaded += buffer.byteLength;\n",
              "            progress.value = downloaded;\n",
              "          }\n",
              "        }\n",
              "      }\n",
              "      const blob = new Blob(buffers, {type: 'application/binary'});\n",
              "      const a = document.createElement('a');\n",
              "      a.href = window.URL.createObjectURL(blob);\n",
              "      a.download = filename;\n",
              "      div.appendChild(a);\n",
              "      a.click();\n",
              "      div.remove();\n",
              "    }\n",
              "  "
            ]
          },
          "metadata": {}
        },
        {
          "output_type": "display_data",
          "data": {
            "text/plain": [
              "<IPython.core.display.Javascript object>"
            ],
            "application/javascript": [
              "download(\"download_b3f1f204-ec63-47fe-9a17-731044d51ca5\", \"checkpoint_epoch_100.pth\", 6530130)"
            ]
          },
          "metadata": {}
        },
        {
          "output_type": "stream",
          "name": "stdout",
          "text": [
            "Epoch 100/150, Train Acc: 48.99%, Val Acc: 45.71%, Test Acc: 40.11%\n",
            "Epoch 100/150, Train Loss: 1.9022, Val Loss: 2.1287, Test Loss: 2.3759\n",
            "Epoch 101/150, Train Acc: 49.39%, Val Acc: 45.49%, Test Acc: 40.16%\n",
            "Epoch 101/150, Train Loss: 1.8860, Val Loss: 2.1265, Test Loss: 2.3734\n",
            "Epoch 102/150, Train Acc: 49.06%, Val Acc: 45.82%, Test Acc: 40.22%\n",
            "Epoch 102/150, Train Loss: 1.8917, Val Loss: 2.1029, Test Loss: 2.3743\n",
            "Epoch 103/150, Train Acc: 49.51%, Val Acc: 45.58%, Test Acc: 39.81%\n",
            "Epoch 103/150, Train Loss: 1.8854, Val Loss: 2.1174, Test Loss: 2.3869\n",
            "Epoch 104/150, Train Acc: 49.39%, Val Acc: 45.49%, Test Acc: 39.74%\n",
            "Epoch 104/150, Train Loss: 1.8854, Val Loss: 2.1184, Test Loss: 2.3820\n",
            "Epoch 105/150, Train Acc: 49.66%, Val Acc: 45.41%, Test Acc: 40.08%\n",
            "Epoch 105/150, Train Loss: 1.8662, Val Loss: 2.1106, Test Loss: 2.3762\n",
            "Epoch 106/150, Train Acc: 49.65%, Val Acc: 45.79%, Test Acc: 40.24%\n",
            "Epoch 106/150, Train Loss: 1.8759, Val Loss: 2.1090, Test Loss: 2.3670\n",
            "Epoch 107/150, Train Acc: 49.81%, Val Acc: 45.47%, Test Acc: 40.48%\n",
            "Epoch 107/150, Train Loss: 1.8621, Val Loss: 2.1166, Test Loss: 2.3542\n",
            "Epoch 108/150, Train Acc: 49.62%, Val Acc: 45.87%, Test Acc: 40.47%\n",
            "Epoch 108/150, Train Loss: 1.8609, Val Loss: 2.1013, Test Loss: 2.3607\n",
            "Epoch 109/150, Train Acc: 50.03%, Val Acc: 45.65%, Test Acc: 40.18%\n",
            "Epoch 109/150, Train Loss: 1.8592, Val Loss: 2.1068, Test Loss: 2.3762\n",
            "Checkpoint saved at epoch 110: ./checkpoint_epoch_110.pth\n"
          ]
        },
        {
          "output_type": "display_data",
          "data": {
            "text/plain": [
              "<IPython.core.display.Javascript object>"
            ],
            "application/javascript": [
              "\n",
              "    async function download(id, filename, size) {\n",
              "      if (!google.colab.kernel.accessAllowed) {\n",
              "        return;\n",
              "      }\n",
              "      const div = document.createElement('div');\n",
              "      const label = document.createElement('label');\n",
              "      label.textContent = `Downloading \"${filename}\": `;\n",
              "      div.appendChild(label);\n",
              "      const progress = document.createElement('progress');\n",
              "      progress.max = size;\n",
              "      div.appendChild(progress);\n",
              "      document.body.appendChild(div);\n",
              "\n",
              "      const buffers = [];\n",
              "      let downloaded = 0;\n",
              "\n",
              "      const channel = await google.colab.kernel.comms.open(id);\n",
              "      // Send a message to notify the kernel that we're ready.\n",
              "      channel.send({})\n",
              "\n",
              "      for await (const message of channel.messages) {\n",
              "        // Send a message to notify the kernel that we're ready.\n",
              "        channel.send({})\n",
              "        if (message.buffers) {\n",
              "          for (const buffer of message.buffers) {\n",
              "            buffers.push(buffer);\n",
              "            downloaded += buffer.byteLength;\n",
              "            progress.value = downloaded;\n",
              "          }\n",
              "        }\n",
              "      }\n",
              "      const blob = new Blob(buffers, {type: 'application/binary'});\n",
              "      const a = document.createElement('a');\n",
              "      a.href = window.URL.createObjectURL(blob);\n",
              "      a.download = filename;\n",
              "      div.appendChild(a);\n",
              "      a.click();\n",
              "      div.remove();\n",
              "    }\n",
              "  "
            ]
          },
          "metadata": {}
        },
        {
          "output_type": "display_data",
          "data": {
            "text/plain": [
              "<IPython.core.display.Javascript object>"
            ],
            "application/javascript": [
              "download(\"download_473ab685-196d-485b-9413-2d78f957ce68\", \"checkpoint_epoch_110.pth\", 6530130)"
            ]
          },
          "metadata": {}
        },
        {
          "output_type": "stream",
          "name": "stdout",
          "text": [
            "Epoch 110/150, Train Acc: 50.17%, Val Acc: 46.04%, Test Acc: 40.14%\n",
            "Epoch 110/150, Train Loss: 1.8489, Val Loss: 2.0967, Test Loss: 2.3641\n",
            "Epoch 111/150, Train Acc: 50.50%, Val Acc: 46.06%, Test Acc: 40.43%\n",
            "Epoch 111/150, Train Loss: 1.8350, Val Loss: 2.1062, Test Loss: 2.3677\n",
            "Epoch 112/150, Train Acc: 50.37%, Val Acc: 45.88%, Test Acc: 40.33%\n",
            "Epoch 112/150, Train Loss: 1.8351, Val Loss: 2.0985, Test Loss: 2.3695\n",
            "Epoch 113/150, Train Acc: 50.58%, Val Acc: 45.92%, Test Acc: 40.57%\n",
            "Epoch 113/150, Train Loss: 1.8288, Val Loss: 2.1113, Test Loss: 2.3854\n",
            "Epoch 114/150, Train Acc: 50.81%, Val Acc: 46.15%, Test Acc: 40.15%\n",
            "Epoch 114/150, Train Loss: 1.8240, Val Loss: 2.1059, Test Loss: 2.3920\n",
            "Epoch 115/150, Train Acc: 51.09%, Val Acc: 45.98%, Test Acc: 40.61%\n",
            "Epoch 115/150, Train Loss: 1.8165, Val Loss: 2.1177, Test Loss: 2.3595\n",
            "Epoch 116/150, Train Acc: 50.87%, Val Acc: 46.20%, Test Acc: 40.65%\n",
            "Epoch 116/150, Train Loss: 1.8115, Val Loss: 2.0956, Test Loss: 2.3544\n",
            "Epoch 117/150, Train Acc: 50.86%, Val Acc: 46.43%, Test Acc: 40.43%\n",
            "Epoch 117/150, Train Loss: 1.8096, Val Loss: 2.0901, Test Loss: 2.3630\n",
            "Epoch 118/150, Train Acc: 51.09%, Val Acc: 46.68%, Test Acc: 40.88%\n",
            "Epoch 118/150, Train Loss: 1.8023, Val Loss: 2.0990, Test Loss: 2.3444\n",
            "Epoch 119/150, Train Acc: 51.42%, Val Acc: 46.17%, Test Acc: 40.11%\n",
            "Epoch 119/150, Train Loss: 1.7999, Val Loss: 2.0918, Test Loss: 2.3708\n",
            "Checkpoint saved at epoch 120: ./checkpoint_epoch_120.pth\n"
          ]
        },
        {
          "output_type": "display_data",
          "data": {
            "text/plain": [
              "<IPython.core.display.Javascript object>"
            ],
            "application/javascript": [
              "\n",
              "    async function download(id, filename, size) {\n",
              "      if (!google.colab.kernel.accessAllowed) {\n",
              "        return;\n",
              "      }\n",
              "      const div = document.createElement('div');\n",
              "      const label = document.createElement('label');\n",
              "      label.textContent = `Downloading \"${filename}\": `;\n",
              "      div.appendChild(label);\n",
              "      const progress = document.createElement('progress');\n",
              "      progress.max = size;\n",
              "      div.appendChild(progress);\n",
              "      document.body.appendChild(div);\n",
              "\n",
              "      const buffers = [];\n",
              "      let downloaded = 0;\n",
              "\n",
              "      const channel = await google.colab.kernel.comms.open(id);\n",
              "      // Send a message to notify the kernel that we're ready.\n",
              "      channel.send({})\n",
              "\n",
              "      for await (const message of channel.messages) {\n",
              "        // Send a message to notify the kernel that we're ready.\n",
              "        channel.send({})\n",
              "        if (message.buffers) {\n",
              "          for (const buffer of message.buffers) {\n",
              "            buffers.push(buffer);\n",
              "            downloaded += buffer.byteLength;\n",
              "            progress.value = downloaded;\n",
              "          }\n",
              "        }\n",
              "      }\n",
              "      const blob = new Blob(buffers, {type: 'application/binary'});\n",
              "      const a = document.createElement('a');\n",
              "      a.href = window.URL.createObjectURL(blob);\n",
              "      a.download = filename;\n",
              "      div.appendChild(a);\n",
              "      a.click();\n",
              "      div.remove();\n",
              "    }\n",
              "  "
            ]
          },
          "metadata": {}
        },
        {
          "output_type": "display_data",
          "data": {
            "text/plain": [
              "<IPython.core.display.Javascript object>"
            ],
            "application/javascript": [
              "download(\"download_960f7bda-3e91-4072-bd3b-aa6cb26afdee\", \"checkpoint_epoch_120.pth\", 6530130)"
            ]
          },
          "metadata": {}
        },
        {
          "output_type": "stream",
          "name": "stdout",
          "text": [
            "Epoch 120/150, Train Acc: 51.24%, Val Acc: 46.25%, Test Acc: 41.05%\n",
            "Epoch 120/150, Train Loss: 1.7956, Val Loss: 2.0912, Test Loss: 2.3359\n",
            "Epoch 121/150, Train Acc: 51.56%, Val Acc: 46.38%, Test Acc: 40.97%\n",
            "Epoch 121/150, Train Loss: 1.7850, Val Loss: 2.0941, Test Loss: 2.3508\n",
            "Epoch 122/150, Train Acc: 51.65%, Val Acc: 46.81%, Test Acc: 40.71%\n",
            "Epoch 122/150, Train Loss: 1.7818, Val Loss: 2.0813, Test Loss: 2.3464\n",
            "Epoch 123/150, Train Acc: 51.71%, Val Acc: 46.93%, Test Acc: 41.10%\n",
            "Epoch 123/150, Train Loss: 1.7848, Val Loss: 2.0752, Test Loss: 2.3345\n",
            "Epoch 124/150, Train Acc: 51.88%, Val Acc: 46.42%, Test Acc: 41.06%\n",
            "Epoch 124/150, Train Loss: 1.7753, Val Loss: 2.0980, Test Loss: 2.3594\n",
            "Epoch 125/150, Train Acc: 52.02%, Val Acc: 46.74%, Test Acc: 40.79%\n",
            "Epoch 125/150, Train Loss: 1.7757, Val Loss: 2.0793, Test Loss: 2.3647\n",
            "Epoch 126/150, Train Acc: 52.06%, Val Acc: 46.47%, Test Acc: 40.99%\n",
            "Epoch 126/150, Train Loss: 1.7687, Val Loss: 2.0831, Test Loss: 2.3429\n",
            "Epoch 127/150, Train Acc: 51.94%, Val Acc: 46.19%, Test Acc: 41.44%\n",
            "Epoch 127/150, Train Loss: 1.7625, Val Loss: 2.0897, Test Loss: 2.3282\n",
            "Epoch 128/150, Train Acc: 52.11%, Val Acc: 46.81%, Test Acc: 40.70%\n",
            "Epoch 128/150, Train Loss: 1.7632, Val Loss: 2.0883, Test Loss: 2.3617\n",
            "Epoch 129/150, Train Acc: 52.19%, Val Acc: 46.97%, Test Acc: 41.63%\n",
            "Epoch 129/150, Train Loss: 1.7524, Val Loss: 2.0731, Test Loss: 2.3289\n",
            "Checkpoint saved at epoch 130: ./checkpoint_epoch_130.pth\n"
          ]
        },
        {
          "output_type": "display_data",
          "data": {
            "text/plain": [
              "<IPython.core.display.Javascript object>"
            ],
            "application/javascript": [
              "\n",
              "    async function download(id, filename, size) {\n",
              "      if (!google.colab.kernel.accessAllowed) {\n",
              "        return;\n",
              "      }\n",
              "      const div = document.createElement('div');\n",
              "      const label = document.createElement('label');\n",
              "      label.textContent = `Downloading \"${filename}\": `;\n",
              "      div.appendChild(label);\n",
              "      const progress = document.createElement('progress');\n",
              "      progress.max = size;\n",
              "      div.appendChild(progress);\n",
              "      document.body.appendChild(div);\n",
              "\n",
              "      const buffers = [];\n",
              "      let downloaded = 0;\n",
              "\n",
              "      const channel = await google.colab.kernel.comms.open(id);\n",
              "      // Send a message to notify the kernel that we're ready.\n",
              "      channel.send({})\n",
              "\n",
              "      for await (const message of channel.messages) {\n",
              "        // Send a message to notify the kernel that we're ready.\n",
              "        channel.send({})\n",
              "        if (message.buffers) {\n",
              "          for (const buffer of message.buffers) {\n",
              "            buffers.push(buffer);\n",
              "            downloaded += buffer.byteLength;\n",
              "            progress.value = downloaded;\n",
              "          }\n",
              "        }\n",
              "      }\n",
              "      const blob = new Blob(buffers, {type: 'application/binary'});\n",
              "      const a = document.createElement('a');\n",
              "      a.href = window.URL.createObjectURL(blob);\n",
              "      a.download = filename;\n",
              "      div.appendChild(a);\n",
              "      a.click();\n",
              "      div.remove();\n",
              "    }\n",
              "  "
            ]
          },
          "metadata": {}
        },
        {
          "output_type": "display_data",
          "data": {
            "text/plain": [
              "<IPython.core.display.Javascript object>"
            ],
            "application/javascript": [
              "download(\"download_5f505795-1c93-4093-ad39-51ed6c4e4b34\", \"checkpoint_epoch_130.pth\", 6530130)"
            ]
          },
          "metadata": {}
        },
        {
          "output_type": "stream",
          "name": "stdout",
          "text": [
            "Epoch 130/150, Train Acc: 52.42%, Val Acc: 47.12%, Test Acc: 41.07%\n",
            "Epoch 130/150, Train Loss: 1.7427, Val Loss: 2.0743, Test Loss: 2.3427\n",
            "Epoch 131/150, Train Acc: 52.47%, Val Acc: 46.93%, Test Acc: 41.20%\n",
            "Epoch 131/150, Train Loss: 1.7518, Val Loss: 2.0756, Test Loss: 2.3367\n",
            "Epoch 132/150, Train Acc: 52.62%, Val Acc: 47.03%, Test Acc: 41.05%\n",
            "Epoch 132/150, Train Loss: 1.7404, Val Loss: 2.0757, Test Loss: 2.3318\n",
            "Epoch 133/150, Train Acc: 53.06%, Val Acc: 46.95%, Test Acc: 41.13%\n",
            "Epoch 133/150, Train Loss: 1.7337, Val Loss: 2.0791, Test Loss: 2.3292\n",
            "Epoch 134/150, Train Acc: 52.85%, Val Acc: 47.13%, Test Acc: 41.37%\n",
            "Epoch 134/150, Train Loss: 1.7305, Val Loss: 2.0692, Test Loss: 2.3332\n",
            "Epoch 135/150, Train Acc: 53.06%, Val Acc: 47.27%, Test Acc: 41.17%\n",
            "Epoch 135/150, Train Loss: 1.7251, Val Loss: 2.0681, Test Loss: 2.3331\n",
            "Epoch 136/150, Train Acc: 52.75%, Val Acc: 46.86%, Test Acc: 41.58%\n",
            "Epoch 136/150, Train Loss: 1.7299, Val Loss: 2.0771, Test Loss: 2.3206\n",
            "Epoch 137/150, Train Acc: 53.27%, Val Acc: 46.96%, Test Acc: 41.53%\n",
            "Epoch 137/150, Train Loss: 1.7197, Val Loss: 2.0777, Test Loss: 2.3348\n",
            "Epoch 138/150, Train Acc: 53.41%, Val Acc: 46.97%, Test Acc: 41.12%\n",
            "Epoch 138/150, Train Loss: 1.7114, Val Loss: 2.0745, Test Loss: 2.3331\n",
            "Epoch 139/150, Train Acc: 53.01%, Val Acc: 47.07%, Test Acc: 40.97%\n",
            "Epoch 139/150, Train Loss: 1.7176, Val Loss: 2.0725, Test Loss: 2.3552\n",
            "Checkpoint saved at epoch 140: ./checkpoint_epoch_140.pth\n"
          ]
        },
        {
          "output_type": "display_data",
          "data": {
            "text/plain": [
              "<IPython.core.display.Javascript object>"
            ],
            "application/javascript": [
              "\n",
              "    async function download(id, filename, size) {\n",
              "      if (!google.colab.kernel.accessAllowed) {\n",
              "        return;\n",
              "      }\n",
              "      const div = document.createElement('div');\n",
              "      const label = document.createElement('label');\n",
              "      label.textContent = `Downloading \"${filename}\": `;\n",
              "      div.appendChild(label);\n",
              "      const progress = document.createElement('progress');\n",
              "      progress.max = size;\n",
              "      div.appendChild(progress);\n",
              "      document.body.appendChild(div);\n",
              "\n",
              "      const buffers = [];\n",
              "      let downloaded = 0;\n",
              "\n",
              "      const channel = await google.colab.kernel.comms.open(id);\n",
              "      // Send a message to notify the kernel that we're ready.\n",
              "      channel.send({})\n",
              "\n",
              "      for await (const message of channel.messages) {\n",
              "        // Send a message to notify the kernel that we're ready.\n",
              "        channel.send({})\n",
              "        if (message.buffers) {\n",
              "          for (const buffer of message.buffers) {\n",
              "            buffers.push(buffer);\n",
              "            downloaded += buffer.byteLength;\n",
              "            progress.value = downloaded;\n",
              "          }\n",
              "        }\n",
              "      }\n",
              "      const blob = new Blob(buffers, {type: 'application/binary'});\n",
              "      const a = document.createElement('a');\n",
              "      a.href = window.URL.createObjectURL(blob);\n",
              "      a.download = filename;\n",
              "      div.appendChild(a);\n",
              "      a.click();\n",
              "      div.remove();\n",
              "    }\n",
              "  "
            ]
          },
          "metadata": {}
        },
        {
          "output_type": "display_data",
          "data": {
            "text/plain": [
              "<IPython.core.display.Javascript object>"
            ],
            "application/javascript": [
              "download(\"download_45619736-73d9-482e-ae95-83c61ced9c24\", \"checkpoint_epoch_140.pth\", 6530130)"
            ]
          },
          "metadata": {}
        },
        {
          "output_type": "stream",
          "name": "stdout",
          "text": [
            "Epoch 140/150, Train Acc: 53.43%, Val Acc: 47.04%, Test Acc: 41.26%\n",
            "Epoch 140/150, Train Loss: 1.7142, Val Loss: 2.0680, Test Loss: 2.3420\n",
            "Epoch 141/150, Train Acc: 53.32%, Val Acc: 47.09%, Test Acc: 41.17%\n",
            "Epoch 141/150, Train Loss: 1.7153, Val Loss: 2.0720, Test Loss: 2.3548\n",
            "Epoch 142/150, Train Acc: 53.56%, Val Acc: 47.35%, Test Acc: 41.38%\n",
            "Epoch 142/150, Train Loss: 1.7076, Val Loss: 2.0623, Test Loss: 2.3294\n",
            "Epoch 143/150, Train Acc: 53.79%, Val Acc: 47.44%, Test Acc: 41.46%\n",
            "Epoch 143/150, Train Loss: 1.7042, Val Loss: 2.0648, Test Loss: 2.3290\n",
            "Epoch 144/150, Train Acc: 53.69%, Val Acc: 47.30%, Test Acc: 41.31%\n",
            "Epoch 144/150, Train Loss: 1.7035, Val Loss: 2.0657, Test Loss: 2.3301\n",
            "Epoch 145/150, Train Acc: 53.72%, Val Acc: 47.57%, Test Acc: 41.63%\n",
            "Epoch 145/150, Train Loss: 1.7030, Val Loss: 2.0639, Test Loss: 2.3370\n",
            "Epoch 146/150, Train Acc: 53.89%, Val Acc: 47.21%, Test Acc: 41.68%\n",
            "Epoch 146/150, Train Loss: 1.6953, Val Loss: 2.0622, Test Loss: 2.3191\n",
            "Epoch 147/150, Train Acc: 54.18%, Val Acc: 47.70%, Test Acc: 41.70%\n",
            "Epoch 147/150, Train Loss: 1.6810, Val Loss: 2.0623, Test Loss: 2.3146\n",
            "Epoch 148/150, Train Acc: 53.91%, Val Acc: 47.62%, Test Acc: 41.70%\n",
            "Epoch 148/150, Train Loss: 1.6920, Val Loss: 2.0562, Test Loss: 2.3197\n",
            "Epoch 149/150, Train Acc: 54.13%, Val Acc: 47.63%, Test Acc: 41.63%\n",
            "Epoch 149/150, Train Loss: 1.6877, Val Loss: 2.0588, Test Loss: 2.3210\n",
            "Checkpoint saved at epoch 150: ./checkpoint_epoch_150.pth\n"
          ]
        },
        {
          "output_type": "display_data",
          "data": {
            "text/plain": [
              "<IPython.core.display.Javascript object>"
            ],
            "application/javascript": [
              "\n",
              "    async function download(id, filename, size) {\n",
              "      if (!google.colab.kernel.accessAllowed) {\n",
              "        return;\n",
              "      }\n",
              "      const div = document.createElement('div');\n",
              "      const label = document.createElement('label');\n",
              "      label.textContent = `Downloading \"${filename}\": `;\n",
              "      div.appendChild(label);\n",
              "      const progress = document.createElement('progress');\n",
              "      progress.max = size;\n",
              "      div.appendChild(progress);\n",
              "      document.body.appendChild(div);\n",
              "\n",
              "      const buffers = [];\n",
              "      let downloaded = 0;\n",
              "\n",
              "      const channel = await google.colab.kernel.comms.open(id);\n",
              "      // Send a message to notify the kernel that we're ready.\n",
              "      channel.send({})\n",
              "\n",
              "      for await (const message of channel.messages) {\n",
              "        // Send a message to notify the kernel that we're ready.\n",
              "        channel.send({})\n",
              "        if (message.buffers) {\n",
              "          for (const buffer of message.buffers) {\n",
              "            buffers.push(buffer);\n",
              "            downloaded += buffer.byteLength;\n",
              "            progress.value = downloaded;\n",
              "          }\n",
              "        }\n",
              "      }\n",
              "      const blob = new Blob(buffers, {type: 'application/binary'});\n",
              "      const a = document.createElement('a');\n",
              "      a.href = window.URL.createObjectURL(blob);\n",
              "      a.download = filename;\n",
              "      div.appendChild(a);\n",
              "      a.click();\n",
              "      div.remove();\n",
              "    }\n",
              "  "
            ]
          },
          "metadata": {}
        },
        {
          "output_type": "display_data",
          "data": {
            "text/plain": [
              "<IPython.core.display.Javascript object>"
            ],
            "application/javascript": [
              "download(\"download_191a2b18-2c5c-4f26-8d68-3665bd0ac232\", \"checkpoint_epoch_150.pth\", 6530130)"
            ]
          },
          "metadata": {}
        },
        {
          "output_type": "stream",
          "name": "stdout",
          "text": [
            "Epoch 150/150, Train Acc: 54.59%, Val Acc: 47.50%, Test Acc: 41.86%\n",
            "Epoch 150/150, Train Loss: 1.6702, Val Loss: 2.0577, Test Loss: 2.3184\n"
          ]
        },
        {
          "output_type": "display_data",
          "data": {
            "text/plain": [
              "<Figure size 600x400 with 1 Axes>"
            ],
            "image/png": "[encoded data removed]"
          },
          "metadata": {}
        },
        {
          "output_type": "display_data",
          "data": {
            "text/plain": [
              "<Figure size 600x400 with 1 Axes>"
            ],
            "image/png": "[encoded data removed]"
          },
          "metadata": {}
        },
        {
          "output_type": "display_data",
          "data": {
            "text/plain": [
              "<Figure size 600x400 with 1 Axes>"
            ],
            "image/png": "[encoded data removed]"
          },
          "metadata": {}
        },
        {
          "output_type": "display_data",
          "data": {
            "text/plain": [
              "<Figure size 600x400 with 1 Axes>"
            ],
            "image/png": "[encoded data removed]"
          },
          "metadata": {}
        },
        {
          "output_type": "display_data",
          "data": {
            "text/plain": [
              "<Figure size 600x400 with 1 Axes>"
            ],
            "image/png": "[encoded data removed]"
          },
          "metadata": {}
        },
        {
          "output_type": "display_data",
          "data": {
            "text/plain": [
              "<Figure size 600x400 with 1 Axes>"
            ],
            "image/png": "[encoded data removed]"
          },
          "metadata": {}
        },
        {
          "output_type": "display_data",
          "data": {
            "text/plain": [
              "<Figure size 640x480 with 0 Axes>"
            ]
          },
          "metadata": {}
        }
      ],
      "source": [
        "%run large_batch_training.py --optimizer LARS --batch-size 256 --weight-decay 4e-4"
      ]
    },
    {
      "cell_type": "code",
      "execution_count": null,
      "metadata": {
        "colab": {
          "base_uri": "https://localhost:8080/"
        },
        "id": "K_XY2BkhZOkY",
        "outputId": "544d096d-8fe3-4a77-f80b-1d489b5b49f3"
      },
      "outputs": [
        {
          "metadata": {
            "tags": null
          },
          "name": "stdout",
          "output_type": "stream",
          "text": [
            "Downloading https://www.cs.toronto.edu/~kriz/cifar-100-python.tar.gz to ./data/cifar-100-python.tar.gz\n"
          ]
        },
        {
          "metadata": {
            "tags": null
          },
          "name": "stderr",
          "output_type": "stream",
          "text": [
            "100%|██████████| 169M/169M [00:13<00:00, 12.9MB/s]\n"
          ]
        },
        {
          "metadata": {
            "tags": null
          },
          "name": "stdout",
          "output_type": "stream",
          "text": [
            "Extracting ./data/cifar-100-python.tar.gz to ./data\n",
            "Files already downloaded and verified\n",
            "Files already downloaded and verified\n",
            "Files already downloaded and verified\n",
            "--- Train with LAMB ---\n"
          ]
        },
        {
          "metadata": {
            "tags": null
          },
          "name": "stderr",
          "output_type": "stream",
          "text": [
            "/content/large_batch_training.py:160: UserWarning: This overload of add_ is deprecated:\n",
            "\tadd_(Number alpha, Tensor other)\n",
            "Consider using one of the following signatures instead:\n",
            "\tadd_(Tensor other, *, Number alpha = 1) (Triggered internally at ../torch/csrc/utils/python_arg_parser.cpp:1642.)\n",
            "  p.data.add_(-group['lr'] * trust_ratio, update)\n"
          ]
        },
        {
          "output_type": "stream",
          "name": "stdout",
          "text": [
            "Epoch 1/150, Train Acc: 1.37%, Val Acc: 2.22%, Test Acc: 1.85%\n",
            "Epoch 1/150, Train Loss: 4.6006, Val Loss: 4.5859, Test Loss: 4.5872\n",
            "Epoch 2/150, Train Acc: 2.80%, Val Acc: 4.85%, Test Acc: 3.54%\n",
            "Epoch 2/150, Train Loss: 4.5308, Val Loss: 4.3883, Test Loss: 4.4029\n",
            "Epoch 3/150, Train Acc: 5.07%, Val Acc: 7.16%, Test Acc: 6.44%\n",
            "Epoch 3/150, Train Loss: 4.3087, Val Loss: 4.1121, Test Loss: 4.1572\n",
            "Epoch 4/150, Train Acc: 6.55%, Val Acc: 8.58%, Test Acc: 8.44%\n",
            "Epoch 4/150, Train Loss: 4.1789, Val Loss: 4.0101, Test Loss: 4.0461\n",
            "Warmup phase completed at epoch 5. Switching to constant learning rate.\n",
            "Epoch 5/150, Train Acc: 7.71%, Val Acc: 10.98%, Test Acc: 10.01%\n",
            "Epoch 5/150, Train Loss: 4.1004, Val Loss: 3.9210, Test Loss: 3.9642\n"
          ]
        }
      ],
      "source": [
        "%run large_batch_training.py --optimizer LAMB --batch-size 128 --weight-decay 1e-2"
      ]
    }
  ],
  "metadata": {
    "accelerator": "GPU",
    "colab": {
      "gpuType": "T4",
      "provenance": [],
      "machine_shape": "hm"
    },
    "kernelspec": {
      "display_name": "Python 3",
      "name": "python3"
    },
    "language_info": {
      "name": "python"
    }
  },
  "nbformat": 4,
  "nbformat_minor": 0
}