{
  "nbformat": 4,
  "nbformat_minor": 0,
  "metadata": {
    "colab": {
      "provenance": [],
      "gpuType": "T4"
    },
    "kernelspec": {
      "name": "python3",
      "display_name": "Python 3"
    },
    "language_info": {
      "name": "python"
    },
    "accelerator": "GPU"
  },
  "cells": [
    {
      "cell_type": "code",
      "execution_count": 1,
      "metadata": {
        "colab": {
          "base_uri": "https://localhost:8080/"
        },
        "id": "OfQGCtv5hXiw",
        "outputId": "58f9a331-ac25-428d-d3ed-43afcb5ee11b"
      },
      "outputs": [
        {
          "output_type": "stream",
          "name": "stdout",
          "text": [
            "Writing large_batch_training.py\n"
          ]
        }
      ],
      "source": [
        "%%writefile large_batch_training.py\n",
        "\n",
        "import os\n",
        "import numpy as np\n",
        "import torch\n",
        "import torch.nn as nn\n",
        "import torch.optim as optim\n",
        "import torchvision\n",
        "import torchvision.transforms as transforms\n",
        "import matplotlib.pyplot as plt\n",
        "import argparse\n",
        "from torch.utils.data import random_split\n",
        "from google.colab import files\n",
        "\n",
        "def compute_mean_std(dataset):\n",
        "    \"\"\"Compute the mean and std of CIFAR-100 dataset.\n",
        "\n",
        "    Args:\n",
        "        dataset: A dataset derived from `torch.utils.data.Dataset`,\n",
        "                 such as `cifar100_training_dataset` or `cifar100_test_dataset`.\n",
        "\n",
        "    Returns:\n",
        "        A tuple containing (mean, std) for the entire dataset.\n",
        "    \"\"\"\n",
        "\n",
        "    # Extract images and labels\n",
        "    data_r = np.stack([np.array(dataset[i][0])[:, :, 0] for i in range(len(dataset))])\n",
        "    data_g = np.stack([np.array(dataset[i][0])[:, :, 1] for i in range(len(dataset))])\n",
        "    data_b = np.stack([np.array(dataset[i][0])[:, :, 2] for i in range(len(dataset))])\n",
        "\n",
        "    # Compute mean and std\n",
        "    mean = np.mean(data_r), np.mean(data_g), np.mean(data_b)\n",
        "    std = np.std(data_r), np.std(data_g), np.std(data_b)\n",
        "\n",
        "    return mean, std\n",
        "\n",
        "# Define LeNet-5 architecture\n",
        "class LeNet5(nn.Module):\n",
        "    def __init__(self):\n",
        "        super(LeNet5, self).__init__()\n",
        "        self.conv1 = nn.Conv2d(3, 64, 5)\n",
        "        self.relu1 = nn.ReLU()\n",
        "        self.pool1 = nn.MaxPool2d(2, 2)\n",
        "        self.conv2 = nn.Conv2d(64, 64, 5)\n",
        "        self.relu2 = nn.ReLU()\n",
        "        self.pool2 = nn.MaxPool2d(2, 2)\n",
        "        self.fc1 = nn.Linear(64 * 5 * 5, 384)\n",
        "        self.relu3 = nn.ReLU()\n",
        "        self.fc2 = nn.Linear(384, 192)\n",
        "        self.relu4 = nn.ReLU()\n",
        "        self.fc3 = nn.Linear(192, 100)\n",
        "\n",
        "    def forward(self, x):\n",
        "        x = self.pool1(self.relu1(self.conv1(x)))\n",
        "        x = self.pool2(self.relu2(self.conv2(x)))\n",
        "        x = x.view(-1, 64 * 5 * 5)\n",
        "        x = self.relu3(self.fc1(x))\n",
        "        x = self.relu4(self.fc2(x))\n",
        "        x = self.fc3(x)\n",
        "        return x\n",
        "\n",
        "# Device setup\n",
        "device = torch.device(\"cuda:0\" if torch.cuda.is_available() else \"cpu\")\n",
        "\n",
        "# Initialize model\n",
        "net = LeNet5().to(device)\n",
        "\n",
        "# Optimizer Subclasses\n",
        "class LARS(optim.Optimizer):\n",
        "    def __init__(self, params, lr, momentum=0.9, weight_decay=0, trust_coefficient=0.001):\n",
        "        # Initialize the optimizer with the learning rate, momentum, weight decay, and trust coefficient\n",
        "        defaults = dict(lr=lr, momentum=momentum, weight_decay=weight_decay, trust_coefficient=trust_coefficient)\n",
        "        super(LARS, self).__init__(params, defaults)\n",
        "\n",
        "    def step(self, closure=None):\n",
        "        loss = None\n",
        "        if closure is not None:\n",
        "            # If a closure is provided, evaluate it (commonly used for re-evaluating loss)\n",
        "            loss = closure()\n",
        "        for group in self.param_groups:\n",
        "            for p in group['params']:\n",
        "                if p.grad is None:\n",
        "                   # Skip parameters that have no gradient\n",
        "                    continue\n",
        "                grad = p.grad.data # Get the gradient of the parameter\n",
        "                # Retrieve or initialize the optimizer's internal state\n",
        "                state = self.state[p]\n",
        "                if len(state) == 0:\n",
        "                    state['momentum_buffer'] = torch.clone(grad).detach()\n",
        "                # Apply weight decay directly to the gradient\n",
        "                if group['weight_decay'] != 0:\n",
        "                    grad.add_(p.data, alpha=group['weight_decay'])\n",
        "                # Compute the norms of the parameter and its gradient\n",
        "                param_norm = torch.norm(p.data)\n",
        "                grad_norm = torch.norm(grad)\n",
        "                # Compute local learning rate based on the trust coefficient and norms\n",
        "                if param_norm > 0 and grad_norm > 0:\n",
        "                    local_lr = group['trust_coefficient'] * param_norm / (grad_norm + 1e-8)\n",
        "                    grad = grad.mul(local_lr) # Scale the gradient with the local learning rate\n",
        "                # Update the momentum buffer\n",
        "                momentum_buffer = state['momentum_buffer']\n",
        "                momentum_buffer.mul_(group['momentum']).add_(grad) #Momentum update\n",
        "                state['momentum_buffer'] = momentum_buffer\n",
        "                # Update the parameter\n",
        "                p.data.add_(momentum_buffer, alpha=-group['lr']) # Gradient descent step with learning rate\n",
        "        return loss\n",
        "\n",
        "class LAMB(optim.Optimizer):\n",
        "    def __init__(self, params, lr, weight_decay=0, betas=(0.9, 0.999), eps=1e-8):\n",
        "        # Initialize the optimizer with learning rate, weight decay, betas for moment updates, and epsilon for stability\n",
        "        defaults = dict(lr=lr, weight_decay=weight_decay, betas=betas, eps=eps)\n",
        "        super(LAMB, self).__init__(params, defaults)\n",
        "\n",
        "    def step(self, closure=None):\n",
        "        loss = None\n",
        "        if closure is not None:\n",
        "            # If a closure is provided, evaluate it\n",
        "            loss = closure()\n",
        "        for group in self.param_groups:\n",
        "            for p in group['params']:\n",
        "                if p.grad is None:\n",
        "                    # Skip parameters that have no gradient\n",
        "                    continue\n",
        "                grad = p.grad.data # Get the gradient of the parameter\n",
        "                # Retrieve or initialize the optimizer's internal state\n",
        "                state = self.state[p]\n",
        "                # Initialize state\n",
        "                if len(state) == 0:\n",
        "                    # Initialize the state (step counter, first moment, second moment)\n",
        "                    state['step'] = 0\n",
        "                    state['exp_avg'] = torch.zeros_like(p.data) # First moment (mean of gradients)\n",
        "                    state['exp_avg_sq'] = torch.zeros_like(p.data) # Second moment (mean of squared gradients)\n",
        "                exp_avg = state['exp_avg']\n",
        "                exp_avg_sq = state['exp_avg_sq']\n",
        "                beta1, beta2 = group['betas']  # Coefficients for moment updates\n",
        "                state['step'] += 1 # Increment step count\n",
        "                step = state['step']\n",
        "                # Decay the first and second moment running average coefficients\n",
        "                # Update first and second moments\n",
        "                exp_avg.mul_(beta1).add_(grad, alpha=1 - beta1) # Exponential moving average of gradients\n",
        "                exp_avg_sq.mul_(beta2).addcmul_(grad, grad, value=1 - beta2) # Exponential moving average of squared gradients\n",
        "                # Correct bias in the first and second moments\n",
        "                bias_correction1 = 1 - beta1 ** step\n",
        "                bias_correction2 = 1 - beta2 ** step\n",
        "                corrected_exp_avg = exp_avg / bias_correction1\n",
        "                corrected_exp_avg_sq = exp_avg_sq / bias_correction2\n",
        "                # Compute the denominator for scaling the update\n",
        "                denom = corrected_exp_avg_sq.sqrt().add_(group['eps']) # Stability epsilon\n",
        "                # Compute the step update\n",
        "                update = corrected_exp_avg / denom\n",
        "                # Apply weight decay directly to the parameters\n",
        "                if group['weight_decay'] != 0:\n",
        "                    update.add_(p.data, alpha=group['weight_decay'])\n",
        "                # Compute the trust ratio (norm of parameters vs norm of update)\n",
        "                param_norm = torch.norm(p.data)\n",
        "                update_norm = torch.norm(update)\n",
        "                trust_ratio = 1.0  # Default trust ratio\n",
        "                if param_norm > 0 and update_norm > 0:\n",
        "                    trust_ratio = param_norm / update_norm\n",
        "                # Update the parameters\n",
        "                p.data.add_(update, alpha=-group['lr'] * trust_ratio)\n",
        "        return loss\n",
        "\n",
        "class SqrtLRScheduler(torch.optim.lr_scheduler._LRScheduler):\n",
        "    def __init__(self, optimizer, base_lr, batch_size, warmup_epochs, total_epochs, reference_batch_size, verbose=False):\n",
        "        \"\"\"\n",
        "        Args:\n",
        "            optimizer: PyTorch optimizer (e.g., Adam, LAMB, LARS).\n",
        "            base_lr: Base learning rate for the reference batch size.\n",
        "            batch_size: Current batch size.\n",
        "            warmup_epochs: Number of warmup epochs.\n",
        "            total_epochs: Total number of epochs.\n",
        "            reference_batch_size: Batch size for which the base_lr is defined.\n",
        "            verbose: Whether to print LR updates.\n",
        "        \"\"\"\n",
        "        self.base_lr = base_lr\n",
        "        self.batch_size = batch_size\n",
        "        self.scaled_lr = base_lr * (batch_size / reference_batch_size) ** 0.5\n",
        "        self.warmup_epochs = warmup_epochs\n",
        "        self.total_epochs = total_epochs\n",
        "        self.verbose = verbose\n",
        "        super(SqrtLRScheduler, self).__init__(optimizer)\n",
        "\n",
        "    def get_lr(self):\n",
        "        epoch = self.last_epoch\n",
        "        if epoch < self.warmup_epochs:\n",
        "            # Linear warmup scaling\n",
        "            warmup_factor = (epoch + 1) / self.warmup_epochs\n",
        "            return [warmup_factor * self.scaled_lr for _ in self.optimizer.param_groups]\n",
        "        else:\n",
        "            # polynomially decaying learning rate of ηt = η0×(1−t/T)\n",
        "            if epoch == self.warmup_epochs:\n",
        "                print(f\"Warmup phase completed at epoch {epoch}. Switching to constant learning rate.\")\n",
        "            return [self.scaled_lr * ( 1 - ( (epoch - self.warmup_epochs) / (self.total_epochs - self.warmup_epochs))) for _ in self.optimizer.param_groups]\n",
        "\n",
        "# Command-line arguments\n",
        "parser = argparse.ArgumentParser(description='Train with Large-Batch Optimizers')\n",
        "parser.add_argument('--optimizer', type=str, default='SGDM', choices=['SGDM', 'AdamW', 'LARS', 'LAMB'],\n",
        "                    help='Choose optimizer')\n",
        "parser.add_argument('--batch-size', type=int, default=128, help='Batch size')\n",
        "parser.add_argument('--momentum', type=float, default=0.9, help='Momentum for SGDM and LARS')\n",
        "parser.add_argument('--weight-decay', type=float, default=1e-5, help='Weight decay')\n",
        "parser.add_argument('--b1', type=float, default=0.9, help='Beta1 for AdamW')\n",
        "parser.add_argument('--b2', type=float, default=0.999, help='Beta2 for AdamW')\n",
        "parser.add_argument('--trust-coefficient', type=float, default=0.001, help='Trust coefficient for LARS')\n",
        "parser.add_argument('--epochs', type=int, default=150, help='Number of epochs')\n",
        "parser.add_argument('--warmup-epochs', type=int, default=5, help='Number of epochs')\n",
        "args = parser.parse_args()\n",
        "\n",
        "\n",
        "torch.manual_seed(42) # Set the seed for reproducibility\n",
        "torch.cuda.manual_seed_all(42) # Set the seed for reproducibility on GPU\n",
        "\n",
        "# use the same mean and std to add consistency to all datasets\n",
        "data = torchvision.datasets.CIFAR100(root='./data', train=True, download=True, transform=transforms.ToTensor())\n",
        "mean, std = compute_mean_std(data)\n",
        "\n",
        "# Load and split CIFAR-100 dataset\n",
        "train_transform = transforms.Compose([\n",
        "  transforms.RandomHorizontalFlip(),\n",
        "  # transforms.RandomRotation(15),\n",
        "  transforms.RandomCrop(32, padding=4),\n",
        "  # transforms.RandomAffine(degrees=0, translate=(0.1, 0.1)),\n",
        "  transforms.RandomPerspective(distortion_scale=0.2, p=0.5),\n",
        "  transforms.ColorJitter(brightness=0.3, contrast=0.3, saturation=0.3, hue=0.2),\n",
        "  transforms.ToTensor(),\n",
        "  transforms.Normalize(mean, std)\n",
        "])\n",
        "\n",
        "val_transform = transforms.Compose([\n",
        "    transforms.ToTensor(), # Convert into tensor\n",
        "    transforms.Normalize(mean, std)  # Normalization\n",
        "])\n",
        "\n",
        "test_transform = transforms.Compose([\n",
        "    transforms.CenterCrop(24),\n",
        "    transforms.Pad(4),\n",
        "    transforms.ToTensor(),  # Convert to PyTorch tensor\n",
        "    transforms.Normalize(mean, std)\n",
        "])\n",
        "\n",
        "trainset = torchvision.datasets.CIFAR100(root='./data', train=True, download=True, transform=train_transform)\n",
        "valset = torchvision.datasets.CIFAR100(root='./data', train=True, download=True, transform=val_transform)\n",
        "indices = torch.randperm(len(trainset))\n",
        "val_size = int(0.2*len(trainset))\n",
        "trainset = torch.utils.data.Subset(trainset, indices[:-val_size])\n",
        "valset = torch.utils.data.Subset(valset, indices[-val_size:])\n",
        "\n",
        "trainloader = torch.utils.data.DataLoader(trainset, batch_size=args.batch_size, shuffle=True, num_workers=2)\n",
        "valloader = torch.utils.data.DataLoader(valset, batch_size=args.batch_size, shuffle=False, num_workers=2)\n",
        "\n",
        "testset = torchvision.datasets.CIFAR100(root='./data', train=False, download=True, transform=test_transform)\n",
        "testloader = torch.utils.data.DataLoader(testset, batch_size=args.batch_size, shuffle=False, num_workers=2)\n",
        "\n",
        "\n",
        "# Fixed parameter from paper [18] to calculate the square root LR scaling value\n",
        "# base_lr = 5 / (2**3 * 10**3)\n",
        "# reference_batch_size = 512\n",
        "#scaled_lr = base_lr * (args.batch_size / reference_batch_size) ** 0.5\n",
        "\n",
        "# Mapping optimizers\n",
        "if args.optimizer == 'SGDM':\n",
        "    base_lr = 1e-2\n",
        "    reference_batch_size = 64\n",
        "    scaled_lr = base_lr * (args.batch_size / reference_batch_size) ** 0.5\n",
        "    optimizer = optim.SGD(net.parameters(), lr=scaled_lr, momentum=args.momentum, weight_decay=args.weight_decay)\n",
        "elif args.optimizer == 'AdamW':\n",
        "    base_lr = 5e-4\n",
        "    reference_batch_size = 64\n",
        "    scaled_lr = base_lr * (args.batch_size / reference_batch_size) ** 0.5\n",
        "    optimizer = optim.AdamW(net.parameters(), lr=scaled_lr, betas=(args.b1, args.b2), weight_decay=args.weight_decay)\n",
        "elif args.optimizer == 'LARS':\n",
        "    base_lr = 5e-1\n",
        "    reference_batch_size = 64\n",
        "    scaled_lr = base_lr * (args.batch_size / reference_batch_size) ** 0.5\n",
        "    optimizer = LARS(net.parameters(), lr=scaled_lr, momentum=args.momentum, weight_decay=args.weight_decay, trust_coefficient=args.trust_coefficient)\n",
        "elif args.optimizer == 'LAMB':\n",
        "    base_lr = 5e-4\n",
        "    reference_batch_size = 64\n",
        "    scaled_lr = base_lr * (args.batch_size / reference_batch_size) ** 0.5\n",
        "    optimizer = LAMB(net.parameters(), lr=scaled_lr, weight_decay=args.weight_decay)\n",
        "\n",
        "criterion = nn.CrossEntropyLoss()\n",
        "\n",
        "# scheduler should be e square root LR scaling rule and linear-epoch warmup scheduling to automatically adjust learning rate\n",
        "scheduler = SqrtLRScheduler(\n",
        "    optimizer = optimizer,\n",
        "    base_lr = base_lr,\n",
        "    batch_size = args.batch_size,\n",
        "    warmup_epochs = args.warmup_epochs,\n",
        "    total_epochs = args.epochs,\n",
        "    reference_batch_size = reference_batch_size,\n",
        "    verbose = True)\n",
        "\n",
        "# Training Function\n",
        "def train_model(optimizer, scheduler, model, criterion, trainloader, valloader , testloader, device, epochs, save_checkpoint_interval=10):\n",
        "    train_losses, val_losses, test_losses = [], [], []\n",
        "    train_accuracies, val_accuracies, test_accuracies = [], [], []\n",
        "    for epoch in range(epochs):\n",
        "        model.train()\n",
        "        running_loss, correct_train, total_train = 0.0, 0, 0\n",
        "        for inputs, labels in trainloader:\n",
        "            inputs, labels = inputs.to(device), labels.to(device)\n",
        "            optimizer.zero_grad()\n",
        "            outputs = model(inputs)\n",
        "            loss = criterion(outputs, labels)\n",
        "            loss.backward()\n",
        "            optimizer.step()\n",
        "            running_loss += loss.item()\n",
        "            _, predicted = outputs.max(1)\n",
        "            total_train += labels.size(0)\n",
        "            correct_train += predicted.eq(labels).sum().item()\n",
        "        train_loss = running_loss / len(trainloader)\n",
        "        train_accuracy = 100. * correct_train / total_train\n",
        "        train_losses.append(train_loss)\n",
        "        train_accuracies.append(train_accuracy)\n",
        "\n",
        "        # Validation\n",
        "        model.eval()\n",
        "        correct_val, total_val, val_loss = 0, 0, 0.0\n",
        "        with torch.no_grad():\n",
        "            for inputs, labels in valloader:\n",
        "                inputs, labels = inputs.to(device), labels.to(device)\n",
        "                outputs = model(inputs)\n",
        "                loss = criterion(outputs, labels)\n",
        "                val_loss += loss.item()\n",
        "                _, predicted = outputs.max(1)\n",
        "                total_val += labels.size(0)\n",
        "                correct_val += predicted.eq(labels).sum().item()\n",
        "        val_loss /= len(valloader)\n",
        "        val_losses.append(val_loss)\n",
        "        val_accuracy = 100. * correct_val / total_val\n",
        "        val_accuracies.append(val_accuracy)\n",
        "\n",
        "        '''\n",
        "        # Early Stopping\n",
        "        if val_loss < best_val_loss:\n",
        "          best_val_loss = val_loss\n",
        "          epochs_no_improve = 0\n",
        "        else:\n",
        "          epochs_no_improve += 1\n",
        "\n",
        "        if epochs_no_improve == patience:\n",
        "          print(\"Early stopping!\")\n",
        "          break\n",
        "        '''\n",
        "\n",
        "        # Test\n",
        "        correct_test, total_test, test_loss = 0, 0, 0.0\n",
        "        with torch.no_grad():\n",
        "            for inputs, labels in testloader:\n",
        "                inputs, labels = inputs.to(device), labels.to(device)\n",
        "                outputs = model(inputs)\n",
        "                loss = criterion(outputs, labels)\n",
        "                test_loss += loss.item()\n",
        "                _, predicted = outputs.max(1)\n",
        "                total_test += labels.size(0)\n",
        "                correct_test += predicted.eq(labels).sum().item()\n",
        "        test_loss /= len(testloader)\n",
        "        test_losses.append(test_loss)\n",
        "        test_accuracy = 100. * correct_test / total_test\n",
        "        test_accuracies.append(test_accuracy)\n",
        "\n",
        "        scheduler.step()\n",
        "\n",
        "        # Checkpointing\n",
        "        if (epoch + 1) % save_checkpoint_interval == 0:\n",
        "            checkpoint_filename = f'checkpoint_epoch_{epoch + 1}.pth'\n",
        "            checkpoint = {\n",
        "                'epoch': epoch + 1,\n",
        "                'model_state_dict': model.state_dict(),\n",
        "                'optimizer_state_dict': optimizer.state_dict(),\n",
        "                'scheduler_state_dict': scheduler.state_dict(),\n",
        "                'loss': loss.item(),\n",
        "            }\n",
        "            checkpoint_path = os.path.join('./', checkpoint_filename)\n",
        "            torch.save(checkpoint, checkpoint_path)\n",
        "            print(f'Checkpoint saved at epoch {epoch + 1}: {checkpoint_path}')\n",
        "\n",
        "            # Download the checkpoint\n",
        "            files.download(checkpoint_filename)\n",
        "\n",
        "        print(f'Epoch {epoch+1}/{epochs}, Train Acc: {train_accuracy:.2f}%, Val Acc: {val_accuracy:.2f}%, Test Acc: {test_accuracy:.2f}%')\n",
        "        print(f'Epoch {epoch+1}/{epochs}, Train Loss: {train_loss:.4f}, Val Loss: {val_loss:.4f}, Test Loss: {test_loss:.4f}')\n",
        "\n",
        "    return train_losses, val_losses, test_losses, train_accuracies, val_accuracies, test_accuracies\n",
        "\n",
        "# Train the model\n",
        "print(f\"--- Train with {args.optimizer} ---\")\n",
        "train_loss, val_loss, test_loss, train_acc, val_acc, test_acc = train_model(optimizer, scheduler, net, criterion, trainloader, valloader, testloader, device, args.epochs)\n",
        "\n",
        "# Save model\n",
        "torch.save(net.state_dict(), f'net_{args.optimizer}.pth')\n",
        "\n",
        "# Plot results\n",
        "# Plot Training Loss\n",
        "plt.figure(figsize=(6, 4))\n",
        "plt.plot(train_loss, label='Train Loss')\n",
        "plt.title('Training Loss')\n",
        "plt.xlabel('Epoch')\n",
        "plt.ylabel('Loss')\n",
        "plt.legend()\n",
        "plt.tight_layout()\n",
        "plt.savefig('train_loss.png')\n",
        "plt.show()\n",
        "\n",
        "# Plot Training Accuracy\n",
        "plt.figure(figsize=(6, 4))\n",
        "plt.plot(train_acc, label='Train Accuracy')\n",
        "plt.title('Training Accuracy')\n",
        "plt.xlabel('Epoch')\n",
        "plt.ylabel('Accuracy (%)')\n",
        "plt.legend()\n",
        "plt.tight_layout()\n",
        "plt.savefig('train_accuracy.png')\n",
        "plt.show()\n",
        "\n",
        "# Plot Validation Loss\n",
        "plt.figure(figsize=(6, 4))\n",
        "plt.plot(val_loss, label='Validation Loss')\n",
        "plt.title('Validation Loss')\n",
        "plt.xlabel('Epoch')\n",
        "plt.ylabel('Loss')\n",
        "plt.legend()\n",
        "plt.tight_layout()\n",
        "plt.savefig('val_loss.png')\n",
        "plt.show()\n",
        "\n",
        "# Plot Validation Accuracy\n",
        "plt.figure(figsize=(6, 4))\n",
        "plt.plot(val_acc, label='Validation Accuracy')\n",
        "plt.title('Validation Accuracy')\n",
        "plt.xlabel('Epoch')\n",
        "plt.ylabel('Accuracy (%)')\n",
        "plt.legend()\n",
        "plt.tight_layout()\n",
        "plt.savefig('val_accuracy.png')\n",
        "plt.show()\n",
        "\n",
        "# Plot Test Loss\n",
        "plt.figure(figsize=(6, 4))\n",
        "plt.plot(test_loss, label='Test Loss')\n",
        "plt.title('Test Loss')\n",
        "plt.xlabel('Epoch')\n",
        "plt.ylabel('Loss')\n",
        "plt.legend()\n",
        "plt.tight_layout()\n",
        "plt.savefig('test_loss.png')\n",
        "plt.show()\n",
        "\n",
        "# Plot Test Accuracy\n",
        "plt.figure(figsize=(6, 4))\n",
        "plt.plot(test_acc, label='Test Accuracy')\n",
        "plt.title('Test Accuracy')\n",
        "plt.xlabel('Epoch')\n",
        "plt.ylabel('Accuracy (%)')\n",
        "plt.legend()\n",
        "plt.tight_layout()\n",
        "plt.savefig('test_accuracy.png')\n",
        "plt.show()"
      ]
    },
    {
      "cell_type": "code",
      "source": [
        "%run large_batch_training.py --optimizer LARS --batch-size 1024 --weight-decay 4e-4"
      ],
      "metadata": {
        "colab": {
          "base_uri": "https://localhost:8080/",
          "height": 1000
        },
        "id": "WQMa40BkVRyA",
        "outputId": "337c4cc9-0190-4882-8352-511c166dd33b"
      },
      "execution_count": 2,
      "outputs": [
        {
          "metadata": {
            "tags": null
          },
          "name": "stdout",
          "output_type": "stream",
          "text": [
            "Downloading https://www.cs.toronto.edu/~kriz/cifar-100-python.tar.gz to ./data/cifar-100-python.tar.gz\n"
          ]
        },
        {
          "metadata": {
            "tags": null
          },
          "name": "stderr",
          "output_type": "stream",
          "text": [
            "100%|██████████| 169M/169M [00:04<00:00, 35.3MB/s]\n"
          ]
        },
        {
          "metadata": {
            "tags": null
          },
          "name": "stdout",
          "output_type": "stream",
          "text": [
            "Extracting ./data/cifar-100-python.tar.gz to ./data\n",
            "Files already downloaded and verified\n",
            "Files already downloaded and verified\n",
            "Files already downloaded and verified\n",
            "--- Train with LARS ---\n",
            "Epoch 1/150, Train Acc: 1.66%, Val Acc: 3.05%, Test Acc: 2.92%\n",
            "Epoch 1/150, Train Loss: 4.5873, Val Loss: 4.5171, Test Loss: 4.5187\n",
            "Epoch 2/150, Train Acc: 4.34%, Val Acc: 6.51%, Test Acc: 6.26%\n",
            "Epoch 2/150, Train Loss: 4.3854, Val Loss: 4.1511, Test Loss: 4.2086\n",
            "Epoch 3/150, Train Acc: 6.10%, Val Acc: 8.53%, Test Acc: 7.49%\n",
            "Epoch 3/150, Train Loss: 4.1860, Val Loss: 4.0175, Test Loss: 4.0648\n",
            "Epoch 4/150, Train Acc: 7.56%, Val Acc: 9.08%, Test Acc: 9.67%\n",
            "Epoch 4/150, Train Loss: 4.0954, Val Loss: 3.9400, Test Loss: 3.9858\n",
            "Warmup phase completed at epoch 5. Switching to constant learning rate.\n",
            "Epoch 5/150, Train Acc: 8.84%, Val Acc: 11.70%, Test Acc: 10.85%\n",
            "Epoch 5/150, Train Loss: 4.0153, Val Loss: 3.8280, Test Loss: 3.8947\n",
            "Epoch 6/150, Train Acc: 10.42%, Val Acc: 12.80%, Test Acc: 12.58%\n",
            "Epoch 6/150, Train Loss: 3.9174, Val Loss: 3.7424, Test Loss: 3.7856\n",
            "Epoch 7/150, Train Acc: 11.56%, Val Acc: 14.98%, Test Acc: 13.43%\n",
            "Epoch 7/150, Train Loss: 3.8177, Val Loss: 3.6294, Test Loss: 3.7212\n",
            "Epoch 8/150, Train Acc: 12.99%, Val Acc: 16.20%, Test Acc: 13.68%\n",
            "Epoch 8/150, Train Loss: 3.7427, Val Loss: 3.5600, Test Loss: 3.6785\n",
            "Epoch 9/150, Train Acc: 14.52%, Val Acc: 17.16%, Test Acc: 16.15%\n",
            "Epoch 9/150, Train Loss: 3.6543, Val Loss: 3.4947, Test Loss: 3.5495\n",
            "Checkpoint saved at epoch 10: ./checkpoint_epoch_10.pth\n"
          ]
        },
        {
          "data": {
            "application/javascript": [
              "\n",
              "    async function download(id, filename, size) {\n",
              "      if (!google.colab.kernel.accessAllowed) {\n",
              "        return;\n",
              "      }\n",
              "      const div = document.createElement('div');\n",
              "      const label = document.createElement('label');\n",
              "      label.textContent = `Downloading \"${filename}\": `;\n",
              "      div.appendChild(label);\n",
              "      const progress = document.createElement('progress');\n",
              "      progress.max = size;\n",
              "      div.appendChild(progress);\n",
              "      document.body.appendChild(div);\n",
              "\n",
              "      const buffers = [];\n",
              "      let downloaded = 0;\n",
              "\n",
              "      const channel = await google.colab.kernel.comms.open(id);\n",
              "      // Send a message to notify the kernel that we're ready.\n",
              "      channel.send({})\n",
              "\n",
              "      for await (const message of channel.messages) {\n",
              "        // Send a message to notify the kernel that we're ready.\n",
              "        channel.send({})\n",
              "        if (message.buffers) {\n",
              "          for (const buffer of message.buffers) {\n",
              "            buffers.push(buffer);\n",
              "            downloaded += buffer.byteLength;\n",
              "            progress.value = downloaded;\n",
              "          }\n",
              "        }\n",
              "      }\n",
              "      const blob = new Blob(buffers, {type: 'application/binary'});\n",
              "      const a = document.createElement('a');\n",
              "      a.href = window.URL.createObjectURL(blob);\n",
              "      a.download = filename;\n",
              "      div.appendChild(a);\n",
              "      a.click();\n",
              "      div.remove();\n",
              "    }\n",
              "  "
            ],
            "text/plain": [
              "<IPython.core.display.Javascript object>"
            ]
          },
          "metadata": {},
          "output_type": "display_data"
        },
        {
          "data": {
            "application/javascript": [
              "download(\"download_ec5be3b1-b288-4ffa-9796-753867ac580a\", \"checkpoint_epoch_10.pth\", 6530106)"
            ],
            "text/plain": [
              "<IPython.core.display.Javascript object>"
            ]
          },
          "metadata": {},
          "output_type": "display_data"
        },
        {
          "metadata": {
            "tags": null
          },
          "name": "stdout",
          "output_type": "stream",
          "text": [
            "Epoch 10/150, Train Acc: 15.32%, Val Acc: 18.63%, Test Acc: 14.31%\n",
            "Epoch 10/150, Train Loss: 3.6129, Val Loss: 3.4563, Test Loss: 3.6401\n",
            "Epoch 11/150, Train Acc: 15.79%, Val Acc: 18.77%, Test Acc: 17.10%\n",
            "Epoch 11/150, Train Loss: 3.5688, Val Loss: 3.3987, Test Loss: 3.4926\n",
            "Epoch 12/150, Train Acc: 16.78%, Val Acc: 20.19%, Test Acc: 16.32%\n",
            "Epoch 12/150, Train Loss: 3.5131, Val Loss: 3.3389, Test Loss: 3.5467\n",
            "Epoch 13/150, Train Acc: 17.61%, Val Acc: 21.35%, Test Acc: 17.49%\n",
            "Epoch 13/150, Train Loss: 3.4742, Val Loss: 3.2961, Test Loss: 3.4798\n",
            "Epoch 14/150, Train Acc: 18.29%, Val Acc: 20.80%, Test Acc: 18.74%\n",
            "Epoch 14/150, Train Loss: 3.4399, Val Loss: 3.3056, Test Loss: 3.4035\n",
            "Epoch 15/150, Train Acc: 18.84%, Val Acc: 22.06%, Test Acc: 20.04%\n",
            "Epoch 15/150, Train Loss: 3.4146, Val Loss: 3.2389, Test Loss: 3.3416\n",
            "Epoch 16/150, Train Acc: 19.49%, Val Acc: 22.28%, Test Acc: 19.74%\n",
            "Epoch 16/150, Train Loss: 3.3761, Val Loss: 3.2246, Test Loss: 3.3439\n",
            "Epoch 17/150, Train Acc: 20.13%, Val Acc: 22.42%, Test Acc: 19.18%\n",
            "Epoch 17/150, Train Loss: 3.3428, Val Loss: 3.2105, Test Loss: 3.4157\n",
            "Epoch 18/150, Train Acc: 20.71%, Val Acc: 24.26%, Test Acc: 20.67%\n",
            "Epoch 18/150, Train Loss: 3.3133, Val Loss: 3.1259, Test Loss: 3.3071\n",
            "Epoch 19/150, Train Acc: 21.07%, Val Acc: 24.15%, Test Acc: 20.32%\n",
            "Epoch 19/150, Train Loss: 3.2803, Val Loss: 3.1267, Test Loss: 3.3217\n",
            "Checkpoint saved at epoch 20: ./checkpoint_epoch_20.pth\n"
          ]
        },
        {
          "data": {
            "application/javascript": [
              "\n",
              "    async function download(id, filename, size) {\n",
              "      if (!google.colab.kernel.accessAllowed) {\n",
              "        return;\n",
              "      }\n",
              "      const div = document.createElement('div');\n",
              "      const label = document.createElement('label');\n",
              "      label.textContent = `Downloading \"${filename}\": `;\n",
              "      div.appendChild(label);\n",
              "      const progress = document.createElement('progress');\n",
              "      progress.max = size;\n",
              "      div.appendChild(progress);\n",
              "      document.body.appendChild(div);\n",
              "\n",
              "      const buffers = [];\n",
              "      let downloaded = 0;\n",
              "\n",
              "      const channel = await google.colab.kernel.comms.open(id);\n",
              "      // Send a message to notify the kernel that we're ready.\n",
              "      channel.send({})\n",
              "\n",
              "      for await (const message of channel.messages) {\n",
              "        // Send a message to notify the kernel that we're ready.\n",
              "        channel.send({})\n",
              "        if (message.buffers) {\n",
              "          for (const buffer of message.buffers) {\n",
              "            buffers.push(buffer);\n",
              "            downloaded += buffer.byteLength;\n",
              "            progress.value = downloaded;\n",
              "          }\n",
              "        }\n",
              "      }\n",
              "      const blob = new Blob(buffers, {type: 'application/binary'});\n",
              "      const a = document.createElement('a');\n",
              "      a.href = window.URL.createObjectURL(blob);\n",
              "      a.download = filename;\n",
              "      div.appendChild(a);\n",
              "      a.click();\n",
              "      div.remove();\n",
              "    }\n",
              "  "
            ],
            "text/plain": [
              "<IPython.core.display.Javascript object>"
            ]
          },
          "metadata": {},
          "output_type": "display_data"
        },
        {
          "data": {
            "application/javascript": [
              "download(\"download_57aca33d-0126-429a-9ca9-648d70b9a2db\", \"checkpoint_epoch_20.pth\", 6530106)"
            ],
            "text/plain": [
              "<IPython.core.display.Javascript object>"
            ]
          },
          "metadata": {},
          "output_type": "display_data"
        },
        {
          "metadata": {
            "tags": null
          },
          "name": "stdout",
          "output_type": "stream",
          "text": [
            "Epoch 20/150, Train Acc: 21.53%, Val Acc: 25.02%, Test Acc: 21.72%\n",
            "Epoch 20/150, Train Loss: 3.2543, Val Loss: 3.0744, Test Loss: 3.2700\n",
            "Epoch 21/150, Train Acc: 21.99%, Val Acc: 25.71%, Test Acc: 21.64%\n",
            "Epoch 21/150, Train Loss: 3.2175, Val Loss: 3.0690, Test Loss: 3.2844\n",
            "Epoch 22/150, Train Acc: 22.43%, Val Acc: 26.04%, Test Acc: 21.87%\n",
            "Epoch 22/150, Train Loss: 3.1908, Val Loss: 3.0317, Test Loss: 3.2406\n",
            "Epoch 23/150, Train Acc: 23.28%, Val Acc: 26.74%, Test Acc: 22.90%\n",
            "Epoch 23/150, Train Loss: 3.1597, Val Loss: 3.0032, Test Loss: 3.2208\n",
            "Epoch 24/150, Train Acc: 24.16%, Val Acc: 27.56%, Test Acc: 23.95%\n",
            "Epoch 24/150, Train Loss: 3.1137, Val Loss: 2.9844, Test Loss: 3.1680\n",
            "Epoch 25/150, Train Acc: 24.50%, Val Acc: 27.47%, Test Acc: 23.96%\n",
            "Epoch 25/150, Train Loss: 3.0952, Val Loss: 2.9463, Test Loss: 3.1485\n",
            "Epoch 26/150, Train Acc: 25.12%, Val Acc: 28.14%, Test Acc: 23.32%\n",
            "Epoch 26/150, Train Loss: 3.0754, Val Loss: 2.9444, Test Loss: 3.1754\n",
            "Epoch 27/150, Train Acc: 25.57%, Val Acc: 28.31%, Test Acc: 23.83%\n",
            "Epoch 27/150, Train Loss: 3.0355, Val Loss: 2.9038, Test Loss: 3.1089\n",
            "Epoch 28/150, Train Acc: 25.75%, Val Acc: 29.18%, Test Acc: 24.68%\n",
            "Epoch 28/150, Train Loss: 3.0226, Val Loss: 2.8846, Test Loss: 3.0573\n",
            "Epoch 29/150, Train Acc: 26.50%, Val Acc: 29.51%, Test Acc: 25.32%\n",
            "Epoch 29/150, Train Loss: 2.9874, Val Loss: 2.8674, Test Loss: 3.0851\n",
            "Checkpoint saved at epoch 30: ./checkpoint_epoch_30.pth\n"
          ]
        },
        {
          "data": {
            "application/javascript": [
              "\n",
              "    async function download(id, filename, size) {\n",
              "      if (!google.colab.kernel.accessAllowed) {\n",
              "        return;\n",
              "      }\n",
              "      const div = document.createElement('div');\n",
              "      const label = document.createElement('label');\n",
              "      label.textContent = `Downloading \"${filename}\": `;\n",
              "      div.appendChild(label);\n",
              "      const progress = document.createElement('progress');\n",
              "      progress.max = size;\n",
              "      div.appendChild(progress);\n",
              "      document.body.appendChild(div);\n",
              "\n",
              "      const buffers = [];\n",
              "      let downloaded = 0;\n",
              "\n",
              "      const channel = await google.colab.kernel.comms.open(id);\n",
              "      // Send a message to notify the kernel that we're ready.\n",
              "      channel.send({})\n",
              "\n",
              "      for await (const message of channel.messages) {\n",
              "        // Send a message to notify the kernel that we're ready.\n",
              "        channel.send({})\n",
              "        if (message.buffers) {\n",
              "          for (const buffer of message.buffers) {\n",
              "            buffers.push(buffer);\n",
              "            downloaded += buffer.byteLength;\n",
              "            progress.value = downloaded;\n",
              "          }\n",
              "        }\n",
              "      }\n",
              "      const blob = new Blob(buffers, {type: 'application/binary'});\n",
              "      const a = document.createElement('a');\n",
              "      a.href = window.URL.createObjectURL(blob);\n",
              "      a.download = filename;\n",
              "      div.appendChild(a);\n",
              "      a.click();\n",
              "      div.remove();\n",
              "    }\n",
              "  "
            ],
            "text/plain": [
              "<IPython.core.display.Javascript object>"
            ]
          },
          "metadata": {},
          "output_type": "display_data"
        },
        {
          "data": {
            "application/javascript": [
              "download(\"download_971d7384-9bbc-490a-93e7-95692b8e67b3\", \"checkpoint_epoch_30.pth\", 6530106)"
            ],
            "text/plain": [
              "<IPython.core.display.Javascript object>"
            ]
          },
          "metadata": {},
          "output_type": "display_data"
        },
        {
          "metadata": {
            "tags": null
          },
          "name": "stdout",
          "output_type": "stream",
          "text": [
            "Epoch 30/150, Train Acc: 26.86%, Val Acc: 30.16%, Test Acc: 26.83%\n",
            "Epoch 30/150, Train Loss: 2.9640, Val Loss: 2.8136, Test Loss: 2.9789\n",
            "Epoch 31/150, Train Acc: 27.16%, Val Acc: 31.60%, Test Acc: 27.10%\n",
            "Epoch 31/150, Train Loss: 2.9329, Val Loss: 2.7555, Test Loss: 2.9635\n",
            "Epoch 32/150, Train Acc: 27.82%, Val Acc: 30.73%, Test Acc: 26.56%\n",
            "Epoch 32/150, Train Loss: 2.9114, Val Loss: 2.7955, Test Loss: 2.9882\n",
            "Epoch 33/150, Train Acc: 27.91%, Val Acc: 30.37%, Test Acc: 26.45%\n",
            "Epoch 33/150, Train Loss: 2.9075, Val Loss: 2.8309, Test Loss: 3.0322\n",
            "Epoch 34/150, Train Acc: 28.15%, Val Acc: 32.01%, Test Acc: 26.02%\n",
            "Epoch 34/150, Train Loss: 2.8968, Val Loss: 2.7248, Test Loss: 2.9885\n",
            "Epoch 35/150, Train Acc: 29.16%, Val Acc: 32.68%, Test Acc: 27.90%\n",
            "Epoch 35/150, Train Loss: 2.8456, Val Loss: 2.6915, Test Loss: 2.9191\n",
            "Epoch 36/150, Train Acc: 29.00%, Val Acc: 32.48%, Test Acc: 28.36%\n",
            "Epoch 36/150, Train Loss: 2.8376, Val Loss: 2.6863, Test Loss: 2.8916\n",
            "Epoch 37/150, Train Acc: 29.91%, Val Acc: 32.76%, Test Acc: 26.97%\n",
            "Epoch 37/150, Train Loss: 2.8154, Val Loss: 2.6840, Test Loss: 2.9750\n",
            "Epoch 38/150, Train Acc: 30.05%, Val Acc: 33.54%, Test Acc: 27.90%\n",
            "Epoch 38/150, Train Loss: 2.8024, Val Loss: 2.6739, Test Loss: 2.9165\n",
            "Epoch 39/150, Train Acc: 30.30%, Val Acc: 33.60%, Test Acc: 29.88%\n",
            "Epoch 39/150, Train Loss: 2.7927, Val Loss: 2.6353, Test Loss: 2.8322\n",
            "Checkpoint saved at epoch 40: ./checkpoint_epoch_40.pth\n"
          ]
        },
        {
          "data": {
            "application/javascript": [
              "\n",
              "    async function download(id, filename, size) {\n",
              "      if (!google.colab.kernel.accessAllowed) {\n",
              "        return;\n",
              "      }\n",
              "      const div = document.createElement('div');\n",
              "      const label = document.createElement('label');\n",
              "      label.textContent = `Downloading \"${filename}\": `;\n",
              "      div.appendChild(label);\n",
              "      const progress = document.createElement('progress');\n",
              "      progress.max = size;\n",
              "      div.appendChild(progress);\n",
              "      document.body.appendChild(div);\n",
              "\n",
              "      const buffers = [];\n",
              "      let downloaded = 0;\n",
              "\n",
              "      const channel = await google.colab.kernel.comms.open(id);\n",
              "      // Send a message to notify the kernel that we're ready.\n",
              "      channel.send({})\n",
              "\n",
              "      for await (const message of channel.messages) {\n",
              "        // Send a message to notify the kernel that we're ready.\n",
              "        channel.send({})\n",
              "        if (message.buffers) {\n",
              "          for (const buffer of message.buffers) {\n",
              "            buffers.push(buffer);\n",
              "            downloaded += buffer.byteLength;\n",
              "            progress.value = downloaded;\n",
              "          }\n",
              "        }\n",
              "      }\n",
              "      const blob = new Blob(buffers, {type: 'application/binary'});\n",
              "      const a = document.createElement('a');\n",
              "      a.href = window.URL.createObjectURL(blob);\n",
              "      a.download = filename;\n",
              "      div.appendChild(a);\n",
              "      a.click();\n",
              "      div.remove();\n",
              "    }\n",
              "  "
            ],
            "text/plain": [
              "<IPython.core.display.Javascript object>"
            ]
          },
          "metadata": {},
          "output_type": "display_data"
        },
        {
          "data": {
            "application/javascript": [
              "download(\"download_fe8b8063-953d-4e30-bb1c-3333923b628d\", \"checkpoint_epoch_40.pth\", 6530106)"
            ],
            "text/plain": [
              "<IPython.core.display.Javascript object>"
            ]
          },
          "metadata": {},
          "output_type": "display_data"
        },
        {
          "metadata": {
            "tags": null
          },
          "name": "stdout",
          "output_type": "stream",
          "text": [
            "Epoch 40/150, Train Acc: 30.61%, Val Acc: 34.36%, Test Acc: 30.18%\n",
            "Epoch 40/150, Train Loss: 2.7664, Val Loss: 2.6260, Test Loss: 2.8012\n",
            "Epoch 41/150, Train Acc: 30.99%, Val Acc: 34.12%, Test Acc: 28.46%\n",
            "Epoch 41/150, Train Loss: 2.7439, Val Loss: 2.6326, Test Loss: 2.9139\n",
            "Epoch 42/150, Train Acc: 31.21%, Val Acc: 33.42%, Test Acc: 28.56%\n",
            "Epoch 42/150, Train Loss: 2.7302, Val Loss: 2.6433, Test Loss: 2.8925\n",
            "Epoch 43/150, Train Acc: 31.40%, Val Acc: 33.80%, Test Acc: 29.52%\n",
            "Epoch 43/150, Train Loss: 2.7308, Val Loss: 2.6377, Test Loss: 2.8369\n",
            "Epoch 44/150, Train Acc: 31.46%, Val Acc: 34.98%, Test Acc: 29.47%\n",
            "Epoch 44/150, Train Loss: 2.7172, Val Loss: 2.5948, Test Loss: 2.8504\n",
            "Epoch 45/150, Train Acc: 31.85%, Val Acc: 34.89%, Test Acc: 29.26%\n",
            "Epoch 45/150, Train Loss: 2.7085, Val Loss: 2.5783, Test Loss: 2.8431\n",
            "Epoch 46/150, Train Acc: 32.81%, Val Acc: 34.92%, Test Acc: 30.11%\n",
            "Epoch 46/150, Train Loss: 2.6700, Val Loss: 2.5743, Test Loss: 2.8143\n",
            "Epoch 47/150, Train Acc: 32.58%, Val Acc: 35.46%, Test Acc: 30.81%\n",
            "Epoch 47/150, Train Loss: 2.6723, Val Loss: 2.5582, Test Loss: 2.7999\n",
            "Epoch 48/150, Train Acc: 32.85%, Val Acc: 35.78%, Test Acc: 29.70%\n",
            "Epoch 48/150, Train Loss: 2.6533, Val Loss: 2.5427, Test Loss: 2.8263\n",
            "Epoch 49/150, Train Acc: 33.54%, Val Acc: 35.82%, Test Acc: 29.14%\n",
            "Epoch 49/150, Train Loss: 2.6298, Val Loss: 2.5382, Test Loss: 2.8527\n",
            "Checkpoint saved at epoch 50: ./checkpoint_epoch_50.pth\n"
          ]
        },
        {
          "data": {
            "application/javascript": [
              "\n",
              "    async function download(id, filename, size) {\n",
              "      if (!google.colab.kernel.accessAllowed) {\n",
              "        return;\n",
              "      }\n",
              "      const div = document.createElement('div');\n",
              "      const label = document.createElement('label');\n",
              "      label.textContent = `Downloading \"${filename}\": `;\n",
              "      div.appendChild(label);\n",
              "      const progress = document.createElement('progress');\n",
              "      progress.max = size;\n",
              "      div.appendChild(progress);\n",
              "      document.body.appendChild(div);\n",
              "\n",
              "      const buffers = [];\n",
              "      let downloaded = 0;\n",
              "\n",
              "      const channel = await google.colab.kernel.comms.open(id);\n",
              "      // Send a message to notify the kernel that we're ready.\n",
              "      channel.send({})\n",
              "\n",
              "      for await (const message of channel.messages) {\n",
              "        // Send a message to notify the kernel that we're ready.\n",
              "        channel.send({})\n",
              "        if (message.buffers) {\n",
              "          for (const buffer of message.buffers) {\n",
              "            buffers.push(buffer);\n",
              "            downloaded += buffer.byteLength;\n",
              "            progress.value = downloaded;\n",
              "          }\n",
              "        }\n",
              "      }\n",
              "      const blob = new Blob(buffers, {type: 'application/binary'});\n",
              "      const a = document.createElement('a');\n",
              "      a.href = window.URL.createObjectURL(blob);\n",
              "      a.download = filename;\n",
              "      div.appendChild(a);\n",
              "      a.click();\n",
              "      div.remove();\n",
              "    }\n",
              "  "
            ],
            "text/plain": [
              "<IPython.core.display.Javascript object>"
            ]
          },
          "metadata": {},
          "output_type": "display_data"
        },
        {
          "data": {
            "application/javascript": [
              "download(\"download_b02f37ee-7fcc-4942-95dd-12baa3d08bea\", \"checkpoint_epoch_50.pth\", 6530106)"
            ],
            "text/plain": [
              "<IPython.core.display.Javascript object>"
            ]
          },
          "metadata": {},
          "output_type": "display_data"
        },
        {
          "metadata": {
            "tags": null
          },
          "name": "stdout",
          "output_type": "stream",
          "text": [
            "Epoch 50/150, Train Acc: 34.11%, Val Acc: 36.83%, Test Acc: 30.16%\n",
            "Epoch 50/150, Train Loss: 2.6118, Val Loss: 2.5135, Test Loss: 2.8217\n",
            "Epoch 51/150, Train Acc: 33.74%, Val Acc: 35.93%, Test Acc: 29.01%\n",
            "Epoch 51/150, Train Loss: 2.6000, Val Loss: 2.5371, Test Loss: 2.8781\n",
            "Epoch 52/150, Train Acc: 34.01%, Val Acc: 35.66%, Test Acc: 30.00%\n",
            "Epoch 52/150, Train Loss: 2.5896, Val Loss: 2.5255, Test Loss: 2.7943\n",
            "Epoch 53/150, Train Acc: 34.84%, Val Acc: 36.17%, Test Acc: 30.91%\n",
            "Epoch 53/150, Train Loss: 2.5678, Val Loss: 2.5097, Test Loss: 2.7651\n",
            "Epoch 54/150, Train Acc: 34.77%, Val Acc: 36.41%, Test Acc: 30.74%\n",
            "Epoch 54/150, Train Loss: 2.5715, Val Loss: 2.5122, Test Loss: 2.7659\n",
            "Epoch 55/150, Train Acc: 34.96%, Val Acc: 36.65%, Test Acc: 31.66%\n",
            "Epoch 55/150, Train Loss: 2.5615, Val Loss: 2.4876, Test Loss: 2.7524\n",
            "Epoch 56/150, Train Acc: 35.18%, Val Acc: 37.59%, Test Acc: 31.02%\n",
            "Epoch 56/150, Train Loss: 2.5504, Val Loss: 2.4610, Test Loss: 2.7842\n",
            "Epoch 57/150, Train Acc: 35.72%, Val Acc: 38.03%, Test Acc: 32.41%\n",
            "Epoch 57/150, Train Loss: 2.5226, Val Loss: 2.4355, Test Loss: 2.6974\n",
            "Epoch 58/150, Train Acc: 35.59%, Val Acc: 36.95%, Test Acc: 31.97%\n",
            "Epoch 58/150, Train Loss: 2.5021, Val Loss: 2.4698, Test Loss: 2.6973\n",
            "Epoch 59/150, Train Acc: 35.98%, Val Acc: 37.80%, Test Acc: 32.14%\n",
            "Epoch 59/150, Train Loss: 2.5066, Val Loss: 2.4537, Test Loss: 2.7195\n",
            "Checkpoint saved at epoch 60: ./checkpoint_epoch_60.pth\n"
          ]
        },
        {
          "data": {
            "application/javascript": [
              "\n",
              "    async function download(id, filename, size) {\n",
              "      if (!google.colab.kernel.accessAllowed) {\n",
              "        return;\n",
              "      }\n",
              "      const div = document.createElement('div');\n",
              "      const label = document.createElement('label');\n",
              "      label.textContent = `Downloading \"${filename}\": `;\n",
              "      div.appendChild(label);\n",
              "      const progress = document.createElement('progress');\n",
              "      progress.max = size;\n",
              "      div.appendChild(progress);\n",
              "      document.body.appendChild(div);\n",
              "\n",
              "      const buffers = [];\n",
              "      let downloaded = 0;\n",
              "\n",
              "      const channel = await google.colab.kernel.comms.open(id);\n",
              "      // Send a message to notify the kernel that we're ready.\n",
              "      channel.send({})\n",
              "\n",
              "      for await (const message of channel.messages) {\n",
              "        // Send a message to notify the kernel that we're ready.\n",
              "        channel.send({})\n",
              "        if (message.buffers) {\n",
              "          for (const buffer of message.buffers) {\n",
              "            buffers.push(buffer);\n",
              "            downloaded += buffer.byteLength;\n",
              "            progress.value = downloaded;\n",
              "          }\n",
              "        }\n",
              "      }\n",
              "      const blob = new Blob(buffers, {type: 'application/binary'});\n",
              "      const a = document.createElement('a');\n",
              "      a.href = window.URL.createObjectURL(blob);\n",
              "      a.download = filename;\n",
              "      div.appendChild(a);\n",
              "      a.click();\n",
              "      div.remove();\n",
              "    }\n",
              "  "
            ],
            "text/plain": [
              "<IPython.core.display.Javascript object>"
            ]
          },
          "metadata": {},
          "output_type": "display_data"
        },
        {
          "data": {
            "application/javascript": [
              "download(\"download_817b0a59-1ce0-4d9f-8169-9814e05217c9\", \"checkpoint_epoch_60.pth\", 6530106)"
            ],
            "text/plain": [
              "<IPython.core.display.Javascript object>"
            ]
          },
          "metadata": {},
          "output_type": "display_data"
        },
        {
          "metadata": {
            "tags": null
          },
          "name": "stdout",
          "output_type": "stream",
          "text": [
            "Epoch 60/150, Train Acc: 36.16%, Val Acc: 37.66%, Test Acc: 32.93%\n",
            "Epoch 60/150, Train Loss: 2.5095, Val Loss: 2.4556, Test Loss: 2.6651\n",
            "Epoch 61/150, Train Acc: 36.23%, Val Acc: 38.16%, Test Acc: 32.79%\n",
            "Epoch 61/150, Train Loss: 2.4844, Val Loss: 2.4328, Test Loss: 2.6901\n",
            "Epoch 62/150, Train Acc: 36.33%, Val Acc: 38.52%, Test Acc: 32.32%\n",
            "Epoch 62/150, Train Loss: 2.4763, Val Loss: 2.4068, Test Loss: 2.6846\n",
            "Epoch 63/150, Train Acc: 36.76%, Val Acc: 38.74%, Test Acc: 32.89%\n",
            "Epoch 63/150, Train Loss: 2.4717, Val Loss: 2.3990, Test Loss: 2.6745\n",
            "Epoch 64/150, Train Acc: 37.02%, Val Acc: 38.85%, Test Acc: 33.50%\n",
            "Epoch 64/150, Train Loss: 2.4476, Val Loss: 2.4077, Test Loss: 2.6603\n",
            "Epoch 65/150, Train Acc: 37.20%, Val Acc: 39.23%, Test Acc: 32.33%\n",
            "Epoch 65/150, Train Loss: 2.4476, Val Loss: 2.3908, Test Loss: 2.7382\n",
            "Epoch 66/150, Train Acc: 37.87%, Val Acc: 39.21%, Test Acc: 33.58%\n",
            "Epoch 66/150, Train Loss: 2.4156, Val Loss: 2.3697, Test Loss: 2.6574\n",
            "Epoch 67/150, Train Acc: 37.63%, Val Acc: 38.67%, Test Acc: 33.69%\n",
            "Epoch 67/150, Train Loss: 2.4142, Val Loss: 2.3855, Test Loss: 2.6554\n",
            "Epoch 68/150, Train Acc: 38.12%, Val Acc: 38.51%, Test Acc: 33.60%\n",
            "Epoch 68/150, Train Loss: 2.3970, Val Loss: 2.4137, Test Loss: 2.6515\n",
            "Epoch 69/150, Train Acc: 37.91%, Val Acc: 39.30%, Test Acc: 32.93%\n",
            "Epoch 69/150, Train Loss: 2.4151, Val Loss: 2.3702, Test Loss: 2.6681\n",
            "Checkpoint saved at epoch 70: ./checkpoint_epoch_70.pth\n"
          ]
        },
        {
          "data": {
            "application/javascript": [
              "\n",
              "    async function download(id, filename, size) {\n",
              "      if (!google.colab.kernel.accessAllowed) {\n",
              "        return;\n",
              "      }\n",
              "      const div = document.createElement('div');\n",
              "      const label = document.createElement('label');\n",
              "      label.textContent = `Downloading \"${filename}\": `;\n",
              "      div.appendChild(label);\n",
              "      const progress = document.createElement('progress');\n",
              "      progress.max = size;\n",
              "      div.appendChild(progress);\n",
              "      document.body.appendChild(div);\n",
              "\n",
              "      const buffers = [];\n",
              "      let downloaded = 0;\n",
              "\n",
              "      const channel = await google.colab.kernel.comms.open(id);\n",
              "      // Send a message to notify the kernel that we're ready.\n",
              "      channel.send({})\n",
              "\n",
              "      for await (const message of channel.messages) {\n",
              "        // Send a message to notify the kernel that we're ready.\n",
              "        channel.send({})\n",
              "        if (message.buffers) {\n",
              "          for (const buffer of message.buffers) {\n",
              "            buffers.push(buffer);\n",
              "            downloaded += buffer.byteLength;\n",
              "            progress.value = downloaded;\n",
              "          }\n",
              "        }\n",
              "      }\n",
              "      const blob = new Blob(buffers, {type: 'application/binary'});\n",
              "      const a = document.createElement('a');\n",
              "      a.href = window.URL.createObjectURL(blob);\n",
              "      a.download = filename;\n",
              "      div.appendChild(a);\n",
              "      a.click();\n",
              "      div.remove();\n",
              "    }\n",
              "  "
            ],
            "text/plain": [
              "<IPython.core.display.Javascript object>"
            ]
          },
          "metadata": {},
          "output_type": "display_data"
        },
        {
          "data": {
            "application/javascript": [
              "download(\"download_1861f15f-2f21-4d32-a119-b3299ccef9d6\", \"checkpoint_epoch_70.pth\", 6530106)"
            ],
            "text/plain": [
              "<IPython.core.display.Javascript object>"
            ]
          },
          "metadata": {},
          "output_type": "display_data"
        },
        {
          "metadata": {
            "tags": null
          },
          "name": "stdout",
          "output_type": "stream",
          "text": [
            "Epoch 70/150, Train Acc: 38.39%, Val Acc: 39.99%, Test Acc: 34.66%\n",
            "Epoch 70/150, Train Loss: 2.4100, Val Loss: 2.3583, Test Loss: 2.6098\n",
            "Epoch 71/150, Train Acc: 38.47%, Val Acc: 38.91%, Test Acc: 34.32%\n",
            "Epoch 71/150, Train Loss: 2.3881, Val Loss: 2.3792, Test Loss: 2.6178\n",
            "Epoch 72/150, Train Acc: 38.44%, Val Acc: 39.76%, Test Acc: 34.71%\n",
            "Epoch 72/150, Train Loss: 2.3814, Val Loss: 2.3484, Test Loss: 2.5954\n",
            "Epoch 73/150, Train Acc: 38.59%, Val Acc: 39.44%, Test Acc: 34.97%\n",
            "Epoch 73/150, Train Loss: 2.3701, Val Loss: 2.3470, Test Loss: 2.5947\n",
            "Epoch 74/150, Train Acc: 39.14%, Val Acc: 39.22%, Test Acc: 33.52%\n",
            "Epoch 74/150, Train Loss: 2.3532, Val Loss: 2.3590, Test Loss: 2.6446\n",
            "Epoch 75/150, Train Acc: 39.34%, Val Acc: 40.47%, Test Acc: 35.31%\n",
            "Epoch 75/150, Train Loss: 2.3442, Val Loss: 2.3434, Test Loss: 2.5742\n",
            "Epoch 76/150, Train Acc: 39.64%, Val Acc: 40.66%, Test Acc: 33.90%\n",
            "Epoch 76/150, Train Loss: 2.3388, Val Loss: 2.3296, Test Loss: 2.6288\n",
            "Epoch 77/150, Train Acc: 39.57%, Val Acc: 39.62%, Test Acc: 35.08%\n",
            "Epoch 77/150, Train Loss: 2.3260, Val Loss: 2.3484, Test Loss: 2.5617\n",
            "Epoch 78/150, Train Acc: 39.66%, Val Acc: 40.01%, Test Acc: 35.33%\n",
            "Epoch 78/150, Train Loss: 2.3300, Val Loss: 2.3430, Test Loss: 2.5718\n",
            "Epoch 79/150, Train Acc: 39.23%, Val Acc: 40.59%, Test Acc: 35.31%\n",
            "Epoch 79/150, Train Loss: 2.3354, Val Loss: 2.3196, Test Loss: 2.5887\n",
            "Checkpoint saved at epoch 80: ./checkpoint_epoch_80.pth\n"
          ]
        },
        {
          "data": {
            "application/javascript": [
              "\n",
              "    async function download(id, filename, size) {\n",
              "      if (!google.colab.kernel.accessAllowed) {\n",
              "        return;\n",
              "      }\n",
              "      const div = document.createElement('div');\n",
              "      const label = document.createElement('label');\n",
              "      label.textContent = `Downloading \"${filename}\": `;\n",
              "      div.appendChild(label);\n",
              "      const progress = document.createElement('progress');\n",
              "      progress.max = size;\n",
              "      div.appendChild(progress);\n",
              "      document.body.appendChild(div);\n",
              "\n",
              "      const buffers = [];\n",
              "      let downloaded = 0;\n",
              "\n",
              "      const channel = await google.colab.kernel.comms.open(id);\n",
              "      // Send a message to notify the kernel that we're ready.\n",
              "      channel.send({})\n",
              "\n",
              "      for await (const message of channel.messages) {\n",
              "        // Send a message to notify the kernel that we're ready.\n",
              "        channel.send({})\n",
              "        if (message.buffers) {\n",
              "          for (const buffer of message.buffers) {\n",
              "            buffers.push(buffer);\n",
              "            downloaded += buffer.byteLength;\n",
              "            progress.value = downloaded;\n",
              "          }\n",
              "        }\n",
              "      }\n",
              "      const blob = new Blob(buffers, {type: 'application/binary'});\n",
              "      const a = document.createElement('a');\n",
              "      a.href = window.URL.createObjectURL(blob);\n",
              "      a.download = filename;\n",
              "      div.appendChild(a);\n",
              "      a.click();\n",
              "      div.remove();\n",
              "    }\n",
              "  "
            ],
            "text/plain": [
              "<IPython.core.display.Javascript object>"
            ]
          },
          "metadata": {},
          "output_type": "display_data"
        },
        {
          "data": {
            "application/javascript": [
              "download(\"download_bad13966-5044-46e5-895c-c013f9a62a1f\", \"checkpoint_epoch_80.pth\", 6530106)"
            ],
            "text/plain": [
              "<IPython.core.display.Javascript object>"
            ]
          },
          "metadata": {},
          "output_type": "display_data"
        },
        {
          "metadata": {
            "tags": null
          },
          "name": "stdout",
          "output_type": "stream",
          "text": [
            "Epoch 80/150, Train Acc: 40.06%, Val Acc: 41.13%, Test Acc: 35.03%\n",
            "Epoch 80/150, Train Loss: 2.3149, Val Loss: 2.3079, Test Loss: 2.5948\n",
            "Epoch 81/150, Train Acc: 40.20%, Val Acc: 41.37%, Test Acc: 36.15%\n",
            "Epoch 81/150, Train Loss: 2.3066, Val Loss: 2.2985, Test Loss: 2.5517\n",
            "Epoch 82/150, Train Acc: 40.76%, Val Acc: 39.69%, Test Acc: 32.54%\n",
            "Epoch 82/150, Train Loss: 2.2718, Val Loss: 2.3509, Test Loss: 2.7236\n",
            "Epoch 83/150, Train Acc: 40.66%, Val Acc: 41.29%, Test Acc: 34.97%\n",
            "Epoch 83/150, Train Loss: 2.2791, Val Loss: 2.3011, Test Loss: 2.5791\n",
            "Epoch 84/150, Train Acc: 40.49%, Val Acc: 40.50%, Test Acc: 35.19%\n",
            "Epoch 84/150, Train Loss: 2.2823, Val Loss: 2.3038, Test Loss: 2.5663\n",
            "Epoch 85/150, Train Acc: 41.07%, Val Acc: 40.53%, Test Acc: 36.31%\n",
            "Epoch 85/150, Train Loss: 2.2566, Val Loss: 2.3112, Test Loss: 2.5335\n",
            "Epoch 86/150, Train Acc: 41.03%, Val Acc: 41.42%, Test Acc: 36.44%\n",
            "Epoch 86/150, Train Loss: 2.2523, Val Loss: 2.2819, Test Loss: 2.5171\n",
            "Epoch 87/150, Train Acc: 40.95%, Val Acc: 40.88%, Test Acc: 35.22%\n",
            "Epoch 87/150, Train Loss: 2.2524, Val Loss: 2.3053, Test Loss: 2.5824\n",
            "Epoch 88/150, Train Acc: 41.31%, Val Acc: 41.07%, Test Acc: 36.48%\n",
            "Epoch 88/150, Train Loss: 2.2463, Val Loss: 2.2727, Test Loss: 2.5258\n",
            "Epoch 89/150, Train Acc: 41.81%, Val Acc: 41.39%, Test Acc: 36.21%\n",
            "Epoch 89/150, Train Loss: 2.2300, Val Loss: 2.2754, Test Loss: 2.5513\n",
            "Checkpoint saved at epoch 90: ./checkpoint_epoch_90.pth\n"
          ]
        },
        {
          "data": {
            "application/javascript": [
              "\n",
              "    async function download(id, filename, size) {\n",
              "      if (!google.colab.kernel.accessAllowed) {\n",
              "        return;\n",
              "      }\n",
              "      const div = document.createElement('div');\n",
              "      const label = document.createElement('label');\n",
              "      label.textContent = `Downloading \"${filename}\": `;\n",
              "      div.appendChild(label);\n",
              "      const progress = document.createElement('progress');\n",
              "      progress.max = size;\n",
              "      div.appendChild(progress);\n",
              "      document.body.appendChild(div);\n",
              "\n",
              "      const buffers = [];\n",
              "      let downloaded = 0;\n",
              "\n",
              "      const channel = await google.colab.kernel.comms.open(id);\n",
              "      // Send a message to notify the kernel that we're ready.\n",
              "      channel.send({})\n",
              "\n",
              "      for await (const message of channel.messages) {\n",
              "        // Send a message to notify the kernel that we're ready.\n",
              "        channel.send({})\n",
              "        if (message.buffers) {\n",
              "          for (const buffer of message.buffers) {\n",
              "            buffers.push(buffer);\n",
              "            downloaded += buffer.byteLength;\n",
              "            progress.value = downloaded;\n",
              "          }\n",
              "        }\n",
              "      }\n",
              "      const blob = new Blob(buffers, {type: 'application/binary'});\n",
              "      const a = document.createElement('a');\n",
              "      a.href = window.URL.createObjectURL(blob);\n",
              "      a.download = filename;\n",
              "      div.appendChild(a);\n",
              "      a.click();\n",
              "      div.remove();\n",
              "    }\n",
              "  "
            ],
            "text/plain": [
              "<IPython.core.display.Javascript object>"
            ]
          },
          "metadata": {},
          "output_type": "display_data"
        },
        {
          "data": {
            "application/javascript": [
              "download(\"download_ae427638-a4d5-4382-947a-8297c5c60f63\", \"checkpoint_epoch_90.pth\", 6530106)"
            ],
            "text/plain": [
              "<IPython.core.display.Javascript object>"
            ]
          },
          "metadata": {},
          "output_type": "display_data"
        },
        {
          "metadata": {
            "tags": null
          },
          "name": "stdout",
          "output_type": "stream",
          "text": [
            "Epoch 90/150, Train Acc: 41.88%, Val Acc: 41.58%, Test Acc: 35.91%\n",
            "Epoch 90/150, Train Loss: 2.2171, Val Loss: 2.2757, Test Loss: 2.5589\n",
            "Epoch 91/150, Train Acc: 41.66%, Val Acc: 41.30%, Test Acc: 36.25%\n",
            "Epoch 91/150, Train Loss: 2.2268, Val Loss: 2.2763, Test Loss: 2.5471\n",
            "Epoch 92/150, Train Acc: 42.34%, Val Acc: 41.68%, Test Acc: 35.63%\n",
            "Epoch 92/150, Train Loss: 2.2153, Val Loss: 2.2701, Test Loss: 2.5796\n",
            "Epoch 93/150, Train Acc: 42.34%, Val Acc: 41.68%, Test Acc: 35.85%\n",
            "Epoch 93/150, Train Loss: 2.2096, Val Loss: 2.2689, Test Loss: 2.5653\n",
            "Epoch 94/150, Train Acc: 42.61%, Val Acc: 41.96%, Test Acc: 36.48%\n",
            "Epoch 94/150, Train Loss: 2.1981, Val Loss: 2.2562, Test Loss: 2.5302\n",
            "Epoch 95/150, Train Acc: 42.52%, Val Acc: 42.07%, Test Acc: 36.65%\n",
            "Epoch 95/150, Train Loss: 2.2043, Val Loss: 2.2493, Test Loss: 2.5205\n",
            "Epoch 96/150, Train Acc: 42.73%, Val Acc: 42.44%, Test Acc: 36.70%\n",
            "Epoch 96/150, Train Loss: 2.1878, Val Loss: 2.2393, Test Loss: 2.5293\n",
            "Epoch 97/150, Train Acc: 42.69%, Val Acc: 41.83%, Test Acc: 37.67%\n",
            "Epoch 97/150, Train Loss: 2.1748, Val Loss: 2.2477, Test Loss: 2.4842\n",
            "Epoch 98/150, Train Acc: 42.89%, Val Acc: 42.24%, Test Acc: 36.51%\n",
            "Epoch 98/150, Train Loss: 2.1747, Val Loss: 2.2375, Test Loss: 2.5541\n",
            "Epoch 99/150, Train Acc: 43.13%, Val Acc: 41.44%, Test Acc: 35.60%\n",
            "Epoch 99/150, Train Loss: 2.1666, Val Loss: 2.2976, Test Loss: 2.6200\n",
            "Checkpoint saved at epoch 100: ./checkpoint_epoch_100.pth\n"
          ]
        },
        {
          "data": {
            "application/javascript": [
              "\n",
              "    async function download(id, filename, size) {\n",
              "      if (!google.colab.kernel.accessAllowed) {\n",
              "        return;\n",
              "      }\n",
              "      const div = document.createElement('div');\n",
              "      const label = document.createElement('label');\n",
              "      label.textContent = `Downloading \"${filename}\": `;\n",
              "      div.appendChild(label);\n",
              "      const progress = document.createElement('progress');\n",
              "      progress.max = size;\n",
              "      div.appendChild(progress);\n",
              "      document.body.appendChild(div);\n",
              "\n",
              "      const buffers = [];\n",
              "      let downloaded = 0;\n",
              "\n",
              "      const channel = await google.colab.kernel.comms.open(id);\n",
              "      // Send a message to notify the kernel that we're ready.\n",
              "      channel.send({})\n",
              "\n",
              "      for await (const message of channel.messages) {\n",
              "        // Send a message to notify the kernel that we're ready.\n",
              "        channel.send({})\n",
              "        if (message.buffers) {\n",
              "          for (const buffer of message.buffers) {\n",
              "            buffers.push(buffer);\n",
              "            downloaded += buffer.byteLength;\n",
              "            progress.value = downloaded;\n",
              "          }\n",
              "        }\n",
              "      }\n",
              "      const blob = new Blob(buffers, {type: 'application/binary'});\n",
              "      const a = document.createElement('a');\n",
              "      a.href = window.URL.createObjectURL(blob);\n",
              "      a.download = filename;\n",
              "      div.appendChild(a);\n",
              "      a.click();\n",
              "      div.remove();\n",
              "    }\n",
              "  "
            ],
            "text/plain": [
              "<IPython.core.display.Javascript object>"
            ]
          },
          "metadata": {},
          "output_type": "display_data"
        },
        {
          "data": {
            "application/javascript": [
              "download(\"download_d25f6263-bea4-4fa5-8774-9f85ca7484a4\", \"checkpoint_epoch_100.pth\", 6530130)"
            ],
            "text/plain": [
              "<IPython.core.display.Javascript object>"
            ]
          },
          "metadata": {},
          "output_type": "display_data"
        },
        {
          "metadata": {
            "tags": null
          },
          "name": "stdout",
          "output_type": "stream",
          "text": [
            "Epoch 100/150, Train Acc: 43.22%, Val Acc: 42.15%, Test Acc: 38.15%\n",
            "Epoch 100/150, Train Loss: 2.1809, Val Loss: 2.2431, Test Loss: 2.4642\n",
            "Epoch 101/150, Train Acc: 43.42%, Val Acc: 42.55%, Test Acc: 37.23%\n",
            "Epoch 101/150, Train Loss: 2.1569, Val Loss: 2.2316, Test Loss: 2.4819\n",
            "Epoch 102/150, Train Acc: 43.83%, Val Acc: 42.16%, Test Acc: 37.08%\n",
            "Epoch 102/150, Train Loss: 2.1461, Val Loss: 2.2340, Test Loss: 2.5144\n",
            "Epoch 103/150, Train Acc: 43.76%, Val Acc: 42.59%, Test Acc: 36.75%\n",
            "Epoch 103/150, Train Loss: 2.1449, Val Loss: 2.2225, Test Loss: 2.5329\n",
            "Epoch 104/150, Train Acc: 43.95%, Val Acc: 42.73%, Test Acc: 37.99%\n",
            "Epoch 104/150, Train Loss: 2.1407, Val Loss: 2.2302, Test Loss: 2.4736\n",
            "Epoch 105/150, Train Acc: 44.06%, Val Acc: 42.59%, Test Acc: 37.35%\n",
            "Epoch 105/150, Train Loss: 2.1155, Val Loss: 2.2165, Test Loss: 2.5133\n",
            "Epoch 106/150, Train Acc: 44.12%, Val Acc: 42.82%, Test Acc: 36.18%\n",
            "Epoch 106/150, Train Loss: 2.1225, Val Loss: 2.2332, Test Loss: 2.5437\n",
            "Epoch 107/150, Train Acc: 44.52%, Val Acc: 42.23%, Test Acc: 36.81%\n",
            "Epoch 107/150, Train Loss: 2.1079, Val Loss: 2.2220, Test Loss: 2.5245\n",
            "Epoch 108/150, Train Acc: 44.02%, Val Acc: 43.10%, Test Acc: 37.94%\n",
            "Epoch 108/150, Train Loss: 2.1221, Val Loss: 2.2147, Test Loss: 2.4710\n",
            "Epoch 109/150, Train Acc: 44.22%, Val Acc: 43.46%, Test Acc: 37.47%\n",
            "Epoch 109/150, Train Loss: 2.1207, Val Loss: 2.2017, Test Loss: 2.5090\n",
            "Checkpoint saved at epoch 110: ./checkpoint_epoch_110.pth\n"
          ]
        },
        {
          "data": {
            "application/javascript": [
              "\n",
              "    async function download(id, filename, size) {\n",
              "      if (!google.colab.kernel.accessAllowed) {\n",
              "        return;\n",
              "      }\n",
              "      const div = document.createElement('div');\n",
              "      const label = document.createElement('label');\n",
              "      label.textContent = `Downloading \"${filename}\": `;\n",
              "      div.appendChild(label);\n",
              "      const progress = document.createElement('progress');\n",
              "      progress.max = size;\n",
              "      div.appendChild(progress);\n",
              "      document.body.appendChild(div);\n",
              "\n",
              "      const buffers = [];\n",
              "      let downloaded = 0;\n",
              "\n",
              "      const channel = await google.colab.kernel.comms.open(id);\n",
              "      // Send a message to notify the kernel that we're ready.\n",
              "      channel.send({})\n",
              "\n",
              "      for await (const message of channel.messages) {\n",
              "        // Send a message to notify the kernel that we're ready.\n",
              "        channel.send({})\n",
              "        if (message.buffers) {\n",
              "          for (const buffer of message.buffers) {\n",
              "            buffers.push(buffer);\n",
              "            downloaded += buffer.byteLength;\n",
              "            progress.value = downloaded;\n",
              "          }\n",
              "        }\n",
              "      }\n",
              "      const blob = new Blob(buffers, {type: 'application/binary'});\n",
              "      const a = document.createElement('a');\n",
              "      a.href = window.URL.createObjectURL(blob);\n",
              "      a.download = filename;\n",
              "      div.appendChild(a);\n",
              "      a.click();\n",
              "      div.remove();\n",
              "    }\n",
              "  "
            ],
            "text/plain": [
              "<IPython.core.display.Javascript object>"
            ]
          },
          "metadata": {},
          "output_type": "display_data"
        },
        {
          "data": {
            "application/javascript": [
              "download(\"download_c24371a1-1062-47b4-ae22-8926fed1357e\", \"checkpoint_epoch_110.pth\", 6530130)"
            ],
            "text/plain": [
              "<IPython.core.display.Javascript object>"
            ]
          },
          "metadata": {},
          "output_type": "display_data"
        },
        {
          "metadata": {
            "tags": null
          },
          "name": "stdout",
          "output_type": "stream",
          "text": [
            "Epoch 110/150, Train Acc: 44.67%, Val Acc: 43.23%, Test Acc: 37.72%\n",
            "Epoch 110/150, Train Loss: 2.1122, Val Loss: 2.2082, Test Loss: 2.4831\n",
            "Epoch 111/150, Train Acc: 45.04%, Val Acc: 42.93%, Test Acc: 37.52%\n",
            "Epoch 111/150, Train Loss: 2.0938, Val Loss: 2.2212, Test Loss: 2.4876\n",
            "Epoch 112/150, Train Acc: 44.56%, Val Acc: 43.30%, Test Acc: 36.52%\n",
            "Epoch 112/150, Train Loss: 2.1018, Val Loss: 2.2143, Test Loss: 2.5435\n",
            "Epoch 113/150, Train Acc: 44.93%, Val Acc: 43.38%, Test Acc: 37.10%\n",
            "Epoch 113/150, Train Loss: 2.0910, Val Loss: 2.1984, Test Loss: 2.5200\n",
            "Epoch 114/150, Train Acc: 45.02%, Val Acc: 43.22%, Test Acc: 37.62%\n",
            "Epoch 114/150, Train Loss: 2.0785, Val Loss: 2.1955, Test Loss: 2.4891\n",
            "Epoch 115/150, Train Acc: 45.25%, Val Acc: 43.16%, Test Acc: 37.61%\n",
            "Epoch 115/150, Train Loss: 2.0811, Val Loss: 2.2101, Test Loss: 2.5120\n",
            "Epoch 116/150, Train Acc: 45.40%, Val Acc: 43.04%, Test Acc: 37.50%\n",
            "Epoch 116/150, Train Loss: 2.0699, Val Loss: 2.1994, Test Loss: 2.4895\n",
            "Epoch 117/150, Train Acc: 45.36%, Val Acc: 43.60%, Test Acc: 37.79%\n",
            "Epoch 117/150, Train Loss: 2.0672, Val Loss: 2.1948, Test Loss: 2.4951\n",
            "Epoch 118/150, Train Acc: 45.59%, Val Acc: 43.63%, Test Acc: 38.21%\n",
            "Epoch 118/150, Train Loss: 2.0591, Val Loss: 2.1892, Test Loss: 2.4653\n",
            "Epoch 119/150, Train Acc: 45.81%, Val Acc: 44.05%, Test Acc: 38.15%\n",
            "Epoch 119/150, Train Loss: 2.0500, Val Loss: 2.1782, Test Loss: 2.4757\n",
            "Checkpoint saved at epoch 120: ./checkpoint_epoch_120.pth\n"
          ]
        },
        {
          "data": {
            "application/javascript": [
              "\n",
              "    async function download(id, filename, size) {\n",
              "      if (!google.colab.kernel.accessAllowed) {\n",
              "        return;\n",
              "      }\n",
              "      const div = document.createElement('div');\n",
              "      const label = document.createElement('label');\n",
              "      label.textContent = `Downloading \"${filename}\": `;\n",
              "      div.appendChild(label);\n",
              "      const progress = document.createElement('progress');\n",
              "      progress.max = size;\n",
              "      div.appendChild(progress);\n",
              "      document.body.appendChild(div);\n",
              "\n",
              "      const buffers = [];\n",
              "      let downloaded = 0;\n",
              "\n",
              "      const channel = await google.colab.kernel.comms.open(id);\n",
              "      // Send a message to notify the kernel that we're ready.\n",
              "      channel.send({})\n",
              "\n",
              "      for await (const message of channel.messages) {\n",
              "        // Send a message to notify the kernel that we're ready.\n",
              "        channel.send({})\n",
              "        if (message.buffers) {\n",
              "          for (const buffer of message.buffers) {\n",
              "            buffers.push(buffer);\n",
              "            downloaded += buffer.byteLength;\n",
              "            progress.value = downloaded;\n",
              "          }\n",
              "        }\n",
              "      }\n",
              "      const blob = new Blob(buffers, {type: 'application/binary'});\n",
              "      const a = document.createElement('a');\n",
              "      a.href = window.URL.createObjectURL(blob);\n",
              "      a.download = filename;\n",
              "      div.appendChild(a);\n",
              "      a.click();\n",
              "      div.remove();\n",
              "    }\n",
              "  "
            ],
            "text/plain": [
              "<IPython.core.display.Javascript object>"
            ]
          },
          "metadata": {},
          "output_type": "display_data"
        },
        {
          "data": {
            "application/javascript": [
              "download(\"download_561dc18b-e812-4b98-a7d0-e259865ff4cc\", \"checkpoint_epoch_120.pth\", 6530130)"
            ],
            "text/plain": [
              "<IPython.core.display.Javascript object>"
            ]
          },
          "metadata": {},
          "output_type": "display_data"
        },
        {
          "metadata": {
            "tags": null
          },
          "name": "stdout",
          "output_type": "stream",
          "text": [
            "Epoch 120/150, Train Acc: 45.75%, Val Acc: 43.61%, Test Acc: 38.01%\n",
            "Epoch 120/150, Train Loss: 2.0517, Val Loss: 2.1901, Test Loss: 2.4712\n",
            "Epoch 121/150, Train Acc: 45.84%, Val Acc: 43.32%, Test Acc: 38.27%\n",
            "Epoch 121/150, Train Loss: 2.0509, Val Loss: 2.2014, Test Loss: 2.4802\n",
            "Epoch 122/150, Train Acc: 45.86%, Val Acc: 44.06%, Test Acc: 38.07%\n",
            "Epoch 122/150, Train Loss: 2.0361, Val Loss: 2.1770, Test Loss: 2.4633\n",
            "Epoch 123/150, Train Acc: 46.03%, Val Acc: 43.76%, Test Acc: 38.06%\n",
            "Epoch 123/150, Train Loss: 2.0346, Val Loss: 2.1779, Test Loss: 2.4699\n",
            "Epoch 124/150, Train Acc: 46.24%, Val Acc: 43.47%, Test Acc: 38.38%\n",
            "Epoch 124/150, Train Loss: 2.0347, Val Loss: 2.1892, Test Loss: 2.4453\n",
            "Epoch 125/150, Train Acc: 46.24%, Val Acc: 44.10%, Test Acc: 37.27%\n",
            "Epoch 125/150, Train Loss: 2.0267, Val Loss: 2.1755, Test Loss: 2.5178\n",
            "Epoch 126/150, Train Acc: 46.30%, Val Acc: 44.02%, Test Acc: 38.79%\n",
            "Epoch 126/150, Train Loss: 2.0276, Val Loss: 2.1742, Test Loss: 2.4332\n",
            "Epoch 127/150, Train Acc: 46.24%, Val Acc: 43.76%, Test Acc: 38.25%\n",
            "Epoch 127/150, Train Loss: 2.0196, Val Loss: 2.1837, Test Loss: 2.4470\n",
            "Epoch 128/150, Train Acc: 46.69%, Val Acc: 44.32%, Test Acc: 38.34%\n",
            "Epoch 128/150, Train Loss: 2.0057, Val Loss: 2.1710, Test Loss: 2.4626\n",
            "Epoch 129/150, Train Acc: 46.62%, Val Acc: 43.69%, Test Acc: 38.32%\n",
            "Epoch 129/150, Train Loss: 2.0151, Val Loss: 2.1676, Test Loss: 2.4444\n",
            "Checkpoint saved at epoch 130: ./checkpoint_epoch_130.pth\n"
          ]
        },
        {
          "data": {
            "application/javascript": [
              "\n",
              "    async function download(id, filename, size) {\n",
              "      if (!google.colab.kernel.accessAllowed) {\n",
              "        return;\n",
              "      }\n",
              "      const div = document.createElement('div');\n",
              "      const label = document.createElement('label');\n",
              "      label.textContent = `Downloading \"${filename}\": `;\n",
              "      div.appendChild(label);\n",
              "      const progress = document.createElement('progress');\n",
              "      progress.max = size;\n",
              "      div.appendChild(progress);\n",
              "      document.body.appendChild(div);\n",
              "\n",
              "      const buffers = [];\n",
              "      let downloaded = 0;\n",
              "\n",
              "      const channel = await google.colab.kernel.comms.open(id);\n",
              "      // Send a message to notify the kernel that we're ready.\n",
              "      channel.send({})\n",
              "\n",
              "      for await (const message of channel.messages) {\n",
              "        // Send a message to notify the kernel that we're ready.\n",
              "        channel.send({})\n",
              "        if (message.buffers) {\n",
              "          for (const buffer of message.buffers) {\n",
              "            buffers.push(buffer);\n",
              "            downloaded += buffer.byteLength;\n",
              "            progress.value = downloaded;\n",
              "          }\n",
              "        }\n",
              "      }\n",
              "      const blob = new Blob(buffers, {type: 'application/binary'});\n",
              "      const a = document.createElement('a');\n",
              "      a.href = window.URL.createObjectURL(blob);\n",
              "      a.download = filename;\n",
              "      div.appendChild(a);\n",
              "      a.click();\n",
              "      div.remove();\n",
              "    }\n",
              "  "
            ],
            "text/plain": [
              "<IPython.core.display.Javascript object>"
            ]
          },
          "metadata": {},
          "output_type": "display_data"
        },
        {
          "data": {
            "application/javascript": [
              "download(\"download_2d0ff4bd-d71c-4ea3-896f-d68d97fdead7\", \"checkpoint_epoch_130.pth\", 6530130)"
            ],
            "text/plain": [
              "<IPython.core.display.Javascript object>"
            ]
          },
          "metadata": {},
          "output_type": "display_data"
        },
        {
          "metadata": {
            "tags": null
          },
          "name": "stdout",
          "output_type": "stream",
          "text": [
            "Epoch 130/150, Train Acc: 46.64%, Val Acc: 43.45%, Test Acc: 39.13%\n",
            "Epoch 130/150, Train Loss: 2.0063, Val Loss: 2.1731, Test Loss: 2.4273\n",
            "Epoch 131/150, Train Acc: 46.43%, Val Acc: 44.27%, Test Acc: 39.14%\n",
            "Epoch 131/150, Train Loss: 2.0065, Val Loss: 2.1633, Test Loss: 2.4238\n",
            "Epoch 132/150, Train Acc: 46.63%, Val Acc: 44.20%, Test Acc: 38.46%\n",
            "Epoch 132/150, Train Loss: 1.9948, Val Loss: 2.1620, Test Loss: 2.4454\n",
            "Epoch 133/150, Train Acc: 47.30%, Val Acc: 43.95%, Test Acc: 39.07%\n",
            "Epoch 133/150, Train Loss: 1.9977, Val Loss: 2.1656, Test Loss: 2.4284\n",
            "Epoch 134/150, Train Acc: 46.93%, Val Acc: 44.44%, Test Acc: 38.12%\n",
            "Epoch 134/150, Train Loss: 1.9906, Val Loss: 2.1593, Test Loss: 2.4766\n",
            "Epoch 135/150, Train Acc: 47.47%, Val Acc: 44.40%, Test Acc: 39.12%\n",
            "Epoch 135/150, Train Loss: 1.9927, Val Loss: 2.1517, Test Loss: 2.4342\n",
            "Epoch 136/150, Train Acc: 47.26%, Val Acc: 44.27%, Test Acc: 38.54%\n",
            "Epoch 136/150, Train Loss: 1.9857, Val Loss: 2.1613, Test Loss: 2.4473\n",
            "Epoch 137/150, Train Acc: 47.27%, Val Acc: 43.92%, Test Acc: 39.03%\n",
            "Epoch 137/150, Train Loss: 1.9809, Val Loss: 2.1619, Test Loss: 2.4361\n",
            "Epoch 138/150, Train Acc: 47.05%, Val Acc: 43.94%, Test Acc: 39.05%\n",
            "Epoch 138/150, Train Loss: 1.9826, Val Loss: 2.1614, Test Loss: 2.4352\n",
            "Epoch 139/150, Train Acc: 47.20%, Val Acc: 44.60%, Test Acc: 38.87%\n",
            "Epoch 139/150, Train Loss: 1.9786, Val Loss: 2.1509, Test Loss: 2.4394\n",
            "Checkpoint saved at epoch 140: ./checkpoint_epoch_140.pth\n"
          ]
        },
        {
          "data": {
            "application/javascript": [
              "\n",
              "    async function download(id, filename, size) {\n",
              "      if (!google.colab.kernel.accessAllowed) {\n",
              "        return;\n",
              "      }\n",
              "      const div = document.createElement('div');\n",
              "      const label = document.createElement('label');\n",
              "      label.textContent = `Downloading \"${filename}\": `;\n",
              "      div.appendChild(label);\n",
              "      const progress = document.createElement('progress');\n",
              "      progress.max = size;\n",
              "      div.appendChild(progress);\n",
              "      document.body.appendChild(div);\n",
              "\n",
              "      const buffers = [];\n",
              "      let downloaded = 0;\n",
              "\n",
              "      const channel = await google.colab.kernel.comms.open(id);\n",
              "      // Send a message to notify the kernel that we're ready.\n",
              "      channel.send({})\n",
              "\n",
              "      for await (const message of channel.messages) {\n",
              "        // Send a message to notify the kernel that we're ready.\n",
              "        channel.send({})\n",
              "        if (message.buffers) {\n",
              "          for (const buffer of message.buffers) {\n",
              "            buffers.push(buffer);\n",
              "            downloaded += buffer.byteLength;\n",
              "            progress.value = downloaded;\n",
              "          }\n",
              "        }\n",
              "      }\n",
              "      const blob = new Blob(buffers, {type: 'application/binary'});\n",
              "      const a = document.createElement('a');\n",
              "      a.href = window.URL.createObjectURL(blob);\n",
              "      a.download = filename;\n",
              "      div.appendChild(a);\n",
              "      a.click();\n",
              "      div.remove();\n",
              "    }\n",
              "  "
            ],
            "text/plain": [
              "<IPython.core.display.Javascript object>"
            ]
          },
          "metadata": {},
          "output_type": "display_data"
        },
        {
          "data": {
            "application/javascript": [
              "download(\"download_061ad794-8d1c-4066-8ad9-f15514a4a51e\", \"checkpoint_epoch_140.pth\", 6530130)"
            ],
            "text/plain": [
              "<IPython.core.display.Javascript object>"
            ]
          },
          "metadata": {},
          "output_type": "display_data"
        },
        {
          "output_type": "stream",
          "name": "stdout",
          "text": [
            "Epoch 140/150, Train Acc: 47.30%, Val Acc: 44.03%, Test Acc: 38.91%\n",
            "Epoch 140/150, Train Loss: 1.9901, Val Loss: 2.1586, Test Loss: 2.4540\n",
            "Epoch 141/150, Train Acc: 47.45%, Val Acc: 44.21%, Test Acc: 39.21%\n",
            "Epoch 141/150, Train Loss: 1.9661, Val Loss: 2.1607, Test Loss: 2.4425\n",
            "Epoch 142/150, Train Acc: 47.51%, Val Acc: 44.25%, Test Acc: 39.12%\n",
            "Epoch 142/150, Train Loss: 1.9692, Val Loss: 2.1612, Test Loss: 2.4389\n",
            "Epoch 143/150, Train Acc: 47.84%, Val Acc: 44.41%, Test Acc: 39.59%\n",
            "Epoch 143/150, Train Loss: 1.9748, Val Loss: 2.1507, Test Loss: 2.4181\n",
            "Epoch 144/150, Train Acc: 47.60%, Val Acc: 44.56%, Test Acc: 39.39%\n",
            "Epoch 144/150, Train Loss: 1.9720, Val Loss: 2.1458, Test Loss: 2.4147\n",
            "Epoch 145/150, Train Acc: 47.84%, Val Acc: 44.89%, Test Acc: 39.23%\n",
            "Epoch 145/150, Train Loss: 1.9637, Val Loss: 2.1486, Test Loss: 2.4254\n",
            "Epoch 146/150, Train Acc: 48.00%, Val Acc: 44.85%, Test Acc: 39.30%\n",
            "Epoch 146/150, Train Loss: 1.9621, Val Loss: 2.1437, Test Loss: 2.4265\n",
            "Epoch 147/150, Train Acc: 47.90%, Val Acc: 44.74%, Test Acc: 39.43%\n",
            "Epoch 147/150, Train Loss: 1.9552, Val Loss: 2.1446, Test Loss: 2.4030\n",
            "Epoch 148/150, Train Acc: 47.86%, Val Acc: 44.75%, Test Acc: 39.34%\n",
            "Epoch 148/150, Train Loss: 1.9519, Val Loss: 2.1421, Test Loss: 2.4183\n",
            "Epoch 149/150, Train Acc: 48.09%, Val Acc: 44.70%, Test Acc: 39.39%\n",
            "Epoch 149/150, Train Loss: 1.9420, Val Loss: 2.1415, Test Loss: 2.4195\n",
            "Checkpoint saved at epoch 150: ./checkpoint_epoch_150.pth\n"
          ]
        },
        {
          "output_type": "display_data",
          "data": {
            "text/plain": [
              "<IPython.core.display.Javascript object>"
            ],
            "application/javascript": [
              "\n",
              "    async function download(id, filename, size) {\n",
              "      if (!google.colab.kernel.accessAllowed) {\n",
              "        return;\n",
              "      }\n",
              "      const div = document.createElement('div');\n",
              "      const label = document.createElement('label');\n",
              "      label.textContent = `Downloading \"${filename}\": `;\n",
              "      div.appendChild(label);\n",
              "      const progress = document.createElement('progress');\n",
              "      progress.max = size;\n",
              "      div.appendChild(progress);\n",
              "      document.body.appendChild(div);\n",
              "\n",
              "      const buffers = [];\n",
              "      let downloaded = 0;\n",
              "\n",
              "      const channel = await google.colab.kernel.comms.open(id);\n",
              "      // Send a message to notify the kernel that we're ready.\n",
              "      channel.send({})\n",
              "\n",
              "      for await (const message of channel.messages) {\n",
              "        // Send a message to notify the kernel that we're ready.\n",
              "        channel.send({})\n",
              "        if (message.buffers) {\n",
              "          for (const buffer of message.buffers) {\n",
              "            buffers.push(buffer);\n",
              "            downloaded += buffer.byteLength;\n",
              "            progress.value = downloaded;\n",
              "          }\n",
              "        }\n",
              "      }\n",
              "      const blob = new Blob(buffers, {type: 'application/binary'});\n",
              "      const a = document.createElement('a');\n",
              "      a.href = window.URL.createObjectURL(blob);\n",
              "      a.download = filename;\n",
              "      div.appendChild(a);\n",
              "      a.click();\n",
              "      div.remove();\n",
              "    }\n",
              "  "
            ]
          },
          "metadata": {}
        },
        {
          "output_type": "display_data",
          "data": {
            "text/plain": [
              "<IPython.core.display.Javascript object>"
            ],
            "application/javascript": [
              "download(\"download_da983602-d096-45b1-8914-b5f612f63a02\", \"checkpoint_epoch_150.pth\", 6530130)"
            ]
          },
          "metadata": {}
        },
        {
          "output_type": "stream",
          "name": "stdout",
          "text": [
            "Epoch 150/150, Train Acc: 48.00%, Val Acc: 44.69%, Test Acc: 39.42%\n",
            "Epoch 150/150, Train Loss: 1.9362, Val Loss: 2.1415, Test Loss: 2.4149\n"
          ]
        },
        {
          "output_type": "display_data",
          "data": {
            "text/plain": [
              "<Figure size 600x400 with 1 Axes>"
            ],
            "image/png": "[encoded data removed]"
          },
          "metadata": {}
        },
        {
          "output_type": "display_data",
          "data": {
            "text/plain": [
              "<Figure size 600x400 with 1 Axes>"
            ],
            "image/png": "[encoded data removed]"
          },
          "metadata": {}
        },
        {
          "output_type": "display_data",
          "data": {
            "text/plain": [
              "<Figure size 600x400 with 1 Axes>"
            ],
            "image/png": "[encoded data removed]"
          },
          "metadata": {}
        },
        {
          "output_type": "display_data",
          "data": {
            "text/plain": [
              "<Figure size 600x400 with 1 Axes>"
            ],
            "image/png": "[encoded data removed]"
          },
          "metadata": {}
        },
        {
          "output_type": "display_data",
          "data": {
            "text/plain": [
              "<Figure size 600x400 with 1 Axes>"
            ],
            "image/png": "[encoded data removed]"
          },
          "metadata": {}
        },
        {
          "output_type": "display_data",
          "data": {
            "text/plain": [
              "<Figure size 600x400 with 1 Axes>"
            ],
            "image/png": "[encoded data removed]"
          },
          "metadata": {}
        },
        {
          "output_type": "display_data",
          "data": {
            "text/plain": [
              "<Figure size 640x480 with 0 Axes>"
            ]
          },
          "metadata": {}
        }
      ]
    }
  ]
}