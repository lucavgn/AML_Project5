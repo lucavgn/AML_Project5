{
  "nbformat": 4,
  "nbformat_minor": 0,
  "metadata": {
    "colab": {
      "provenance": [],
      "gpuType": "T4"
    },
    "kernelspec": {
      "name": "python3",
      "display_name": "Python 3"
    },
    "language_info": {
      "name": "python"
    },
    "accelerator": "GPU"
  },
  "cells": [
    {
      "cell_type": "code",
      "execution_count": 1,
      "metadata": {
        "colab": {
          "base_uri": "https://localhost:8080/"
        },
        "id": "hZzQjEFPe-KB",
        "outputId": "d867ca63-6410-4be4-aa64-6b52047a7300"
      },
      "outputs": [
        {
          "output_type": "stream",
          "name": "stdout",
          "text": [
            "Writing large_batch_training.py\n"
          ]
        }
      ],
      "source": [
        "%%writefile large_batch_training.py\n",
        "\n",
        "import os\n",
        "import numpy as np\n",
        "import torch\n",
        "import torch.nn as nn\n",
        "import torch.optim as optim\n",
        "import torchvision\n",
        "import torchvision.transforms as transforms\n",
        "import matplotlib.pyplot as plt\n",
        "import argparse\n",
        "from torch.utils.data import random_split\n",
        "from google.colab import files\n",
        "\n",
        "def compute_mean_std(dataset):\n",
        "    \"\"\"Compute the mean and std of CIFAR-100 dataset.\n",
        "\n",
        "    Args:\n",
        "        dataset: A dataset derived from `torch.utils.data.Dataset`,\n",
        "                 such as `cifar100_training_dataset` or `cifar100_test_dataset`.\n",
        "\n",
        "    Returns:\n",
        "        A tuple containing (mean, std) for the entire dataset.\n",
        "    \"\"\"\n",
        "\n",
        "    # Extract images and labels\n",
        "    data_r = np.stack([np.array(dataset[i][0])[:, :, 0] for i in range(len(dataset))])\n",
        "    data_g = np.stack([np.array(dataset[i][0])[:, :, 1] for i in range(len(dataset))])\n",
        "    data_b = np.stack([np.array(dataset[i][0])[:, :, 2] for i in range(len(dataset))])\n",
        "\n",
        "    # Compute mean and std\n",
        "    mean = np.mean(data_r), np.mean(data_g), np.mean(data_b)\n",
        "    std = np.std(data_r), np.std(data_g), np.std(data_b)\n",
        "\n",
        "    return mean, std\n",
        "\n",
        "# Define LeNet-5 architecture\n",
        "class LeNet5(nn.Module):\n",
        "    def __init__(self):\n",
        "        super(LeNet5, self).__init__()\n",
        "        self.conv1 = nn.Conv2d(3, 64, 5)\n",
        "        self.relu1 = nn.ReLU()\n",
        "        self.pool1 = nn.MaxPool2d(2, 2)\n",
        "        self.conv2 = nn.Conv2d(64, 64, 5)\n",
        "        self.relu2 = nn.ReLU()\n",
        "        self.pool2 = nn.MaxPool2d(2, 2)\n",
        "        self.fc1 = nn.Linear(64 * 5 * 5, 384)\n",
        "        self.relu3 = nn.ReLU()\n",
        "        self.fc2 = nn.Linear(384, 192)\n",
        "        self.relu4 = nn.ReLU()\n",
        "        self.fc3 = nn.Linear(192, 100)\n",
        "\n",
        "    def forward(self, x):\n",
        "        x = self.pool1(self.relu1(self.conv1(x)))\n",
        "        x = self.pool2(self.relu2(self.conv2(x)))\n",
        "        x = x.view(-1, 64 * 5 * 5)\n",
        "        x = self.relu3(self.fc1(x))\n",
        "        x = self.relu4(self.fc2(x))\n",
        "        x = self.fc3(x)\n",
        "        return x\n",
        "\n",
        "# Device setup\n",
        "device = torch.device(\"cuda:0\" if torch.cuda.is_available() else \"cpu\")\n",
        "\n",
        "# Initialize model\n",
        "net = LeNet5().to(device)\n",
        "\n",
        "# Optimizer Subclasses\n",
        "class LARS(optim.Optimizer):\n",
        "    def __init__(self, params, lr, momentum=0.9, weight_decay=0, trust_coefficient=0.001):\n",
        "        # Initialize the optimizer with the learning rate, momentum, weight decay, and trust coefficient\n",
        "        defaults = dict(lr=lr, momentum=momentum, weight_decay=weight_decay, trust_coefficient=trust_coefficient)\n",
        "        super(LARS, self).__init__(params, defaults)\n",
        "\n",
        "    def step(self, closure=None):\n",
        "        loss = None\n",
        "        if closure is not None:\n",
        "            # If a closure is provided, evaluate it (commonly used for re-evaluating loss)\n",
        "            loss = closure()\n",
        "        for group in self.param_groups:\n",
        "            for p in group['params']:\n",
        "                if p.grad is None:\n",
        "                   # Skip parameters that have no gradient\n",
        "                    continue\n",
        "                grad = p.grad.data # Get the gradient of the parameter\n",
        "                # Retrieve or initialize the optimizer's internal state\n",
        "                state = self.state[p]\n",
        "                if len(state) == 0:\n",
        "                    state['momentum_buffer'] = torch.clone(grad).detach()\n",
        "                # Apply weight decay directly to the gradient\n",
        "                if group['weight_decay'] != 0:\n",
        "                    grad.add_(p.data, alpha=group['weight_decay'])\n",
        "                # Compute the norms of the parameter and its gradient\n",
        "                param_norm = torch.norm(p.data)\n",
        "                grad_norm = torch.norm(grad)\n",
        "                # Compute local learning rate based on the trust coefficient and norms\n",
        "                if param_norm > 0 and grad_norm > 0:\n",
        "                    local_lr = group['trust_coefficient'] * param_norm / (grad_norm + 1e-8)\n",
        "                    grad = grad.mul(local_lr) # Scale the gradient with the local learning rate\n",
        "                # Update the momentum buffer\n",
        "                momentum_buffer = state['momentum_buffer']\n",
        "                momentum_buffer.mul_(group['momentum']).add_(grad) #Momentum update\n",
        "                state['momentum_buffer'] = momentum_buffer\n",
        "                # Update the parameter\n",
        "                p.data.add_(momentum_buffer, alpha=-group['lr']) # Gradient descent step with learning rate\n",
        "        return loss\n",
        "\n",
        "class LAMB(optim.Optimizer):\n",
        "    def __init__(self, params, lr, weight_decay=0, betas=(0.9, 0.999), eps=1e-8):\n",
        "        # Initialize the optimizer with learning rate, weight decay, betas for moment updates, and epsilon for stability\n",
        "        defaults = dict(lr=lr, weight_decay=weight_decay, betas=betas, eps=eps)\n",
        "        super(LAMB, self).__init__(params, defaults)\n",
        "\n",
        "    def step(self, closure=None):\n",
        "        loss = None\n",
        "        if closure is not None:\n",
        "            # If a closure is provided, evaluate it\n",
        "            loss = closure()\n",
        "        for group in self.param_groups:\n",
        "            for p in group['params']:\n",
        "                if p.grad is None:\n",
        "                    # Skip parameters that have no gradient\n",
        "                    continue\n",
        "                grad = p.grad.data # Get the gradient of the parameter\n",
        "                # Retrieve or initialize the optimizer's internal state\n",
        "                state = self.state[p]\n",
        "                # Initialize state\n",
        "                if len(state) == 0:\n",
        "                    # Initialize the state (step counter, first moment, second moment)\n",
        "                    state['step'] = 0\n",
        "                    state['exp_avg'] = torch.zeros_like(p.data) # First moment (mean of gradients)\n",
        "                    state['exp_avg_sq'] = torch.zeros_like(p.data) # Second moment (mean of squared gradients)\n",
        "                exp_avg = state['exp_avg']\n",
        "                exp_avg_sq = state['exp_avg_sq']\n",
        "                beta1, beta2 = group['betas']  # Coefficients for moment updates\n",
        "                state['step'] += 1 # Increment step count\n",
        "                step = state['step']\n",
        "                # Decay the first and second moment running average coefficients\n",
        "                # Update first and second moments\n",
        "                exp_avg.mul_(beta1).add_(grad, alpha=1 - beta1) # Exponential moving average of gradients\n",
        "                exp_avg_sq.mul_(beta2).addcmul_(grad, grad, value=1 - beta2) # Exponential moving average of squared gradients\n",
        "                # Correct bias in the first and second moments\n",
        "                bias_correction1 = 1 - beta1 ** step\n",
        "                bias_correction2 = 1 - beta2 ** step\n",
        "                corrected_exp_avg = exp_avg / bias_correction1\n",
        "                corrected_exp_avg_sq = exp_avg_sq / bias_correction2\n",
        "                # Compute the denominator for scaling the update\n",
        "                denom = corrected_exp_avg_sq.sqrt().add_(group['eps']) # Stability epsilon\n",
        "                # Compute the step update\n",
        "                update = corrected_exp_avg / denom\n",
        "                # Apply weight decay directly to the parameters\n",
        "                if group['weight_decay'] != 0:\n",
        "                    update.add_(p.data, alpha=group['weight_decay'])\n",
        "                # Compute the trust ratio (norm of parameters vs norm of update)\n",
        "                param_norm = torch.norm(p.data)\n",
        "                update_norm = torch.norm(update)\n",
        "                trust_ratio = 1.0  # Default trust ratio\n",
        "                if param_norm > 0 and update_norm > 0:\n",
        "                    trust_ratio = param_norm / update_norm\n",
        "                # Update the parameters\n",
        "                p.data.add_(update, alpha=-group['lr'] * trust_ratio)\n",
        "        return loss\n",
        "\n",
        "class SqrtLRScheduler(torch.optim.lr_scheduler._LRScheduler):\n",
        "    def __init__(self, optimizer, base_lr, batch_size, warmup_epochs, total_epochs, reference_batch_size, verbose=False):\n",
        "        \"\"\"\n",
        "        Args:\n",
        "            optimizer: PyTorch optimizer (e.g., Adam, LAMB, LARS).\n",
        "            base_lr: Base learning rate for the reference batch size.\n",
        "            batch_size: Current batch size.\n",
        "            warmup_epochs: Number of warmup epochs.\n",
        "            total_epochs: Total number of epochs.\n",
        "            reference_batch_size: Batch size for which the base_lr is defined.\n",
        "            verbose: Whether to print LR updates.\n",
        "        \"\"\"\n",
        "        self.base_lr = base_lr\n",
        "        self.batch_size = batch_size\n",
        "        self.scaled_lr = base_lr * (batch_size / reference_batch_size) ** 0.5\n",
        "        self.warmup_epochs = warmup_epochs\n",
        "        self.total_epochs = total_epochs\n",
        "        self.verbose = verbose\n",
        "        super(SqrtLRScheduler, self).__init__(optimizer)\n",
        "\n",
        "    def get_lr(self):\n",
        "        epoch = self.last_epoch\n",
        "        if epoch < self.warmup_epochs:\n",
        "            # Linear warmup scaling\n",
        "            warmup_factor = (epoch + 1) / self.warmup_epochs\n",
        "            return [warmup_factor * self.scaled_lr for _ in self.optimizer.param_groups]\n",
        "        else:\n",
        "            # polynomially decaying learning rate of ηt = η0×(1−t/T)\n",
        "            if epoch == self.warmup_epochs:\n",
        "                print(f\"Warmup phase completed at epoch {epoch}. Switching to constant learning rate.\")\n",
        "            return [self.scaled_lr * ( 1 - ( (epoch - self.warmup_epochs) / (self.total_epochs - self.warmup_epochs))) for _ in self.optimizer.param_groups]\n",
        "\n",
        "# Command-line arguments\n",
        "parser = argparse.ArgumentParser(description='Train with Large-Batch Optimizers')\n",
        "parser.add_argument('--optimizer', type=str, default='SGDM', choices=['SGDM', 'AdamW', 'LARS', 'LAMB'],\n",
        "                    help='Choose optimizer')\n",
        "parser.add_argument('--batch-size', type=int, default=128, help='Batch size')\n",
        "parser.add_argument('--momentum', type=float, default=0.9, help='Momentum for SGDM and LARS')\n",
        "parser.add_argument('--weight-decay', type=float, default=1e-5, help='Weight decay')\n",
        "parser.add_argument('--b1', type=float, default=0.9, help='Beta1 for AdamW')\n",
        "parser.add_argument('--b2', type=float, default=0.999, help='Beta2 for AdamW')\n",
        "parser.add_argument('--trust-coefficient', type=float, default=0.001, help='Trust coefficient for LARS')\n",
        "parser.add_argument('--epochs', type=int, default=150, help='Number of epochs')\n",
        "parser.add_argument('--warmup-epochs', type=int, default=5, help='Number of epochs')\n",
        "args = parser.parse_args()\n",
        "\n",
        "\n",
        "torch.manual_seed(42) # Set the seed for reproducibility\n",
        "torch.cuda.manual_seed_all(42) # Set the seed for reproducibility on GPU\n",
        "\n",
        "# use the same mean and std to add consistency to all datasets\n",
        "data = torchvision.datasets.CIFAR100(root='./data', train=True, download=True, transform=transforms.ToTensor())\n",
        "mean, std = compute_mean_std(data)\n",
        "\n",
        "# Load and split CIFAR-100 dataset\n",
        "train_transform = transforms.Compose([\n",
        "  transforms.RandomCrop(32, padding=4),\n",
        "  transforms.RandomHorizontalFlip(),\n",
        "  transforms.ToTensor(),\n",
        "  transforms.Normalize(mean, std)\n",
        "])\n",
        "\n",
        "test_transform = transforms.Compose([\n",
        "    transforms.ToTensor(),  # Convert to PyTorch tensor\n",
        "    transforms.Normalize(mean, std)\n",
        "])\n",
        "\n",
        "trainset = torchvision.datasets.CIFAR100(root='./data', train=True, download=True, transform=train_transform)\n",
        "trainloader = torch.utils.data.DataLoader(trainset, batch_size=args.batch_size, shuffle=True, num_workers=2)\n",
        "\n",
        "testset = torchvision.datasets.CIFAR100(root='./data', train=False, download=True, transform=test_transform)\n",
        "testloader = torch.utils.data.DataLoader(testset, batch_size=args.batch_size, shuffle=False, num_workers=2)\n",
        "\n",
        "\n",
        "# Fixed parameter from paper [18] to calculate the square root LR scaling value\n",
        "# base_lr = 5 / (2**3 * 10**3)\n",
        "# reference_batch_size = 512\n",
        "#scaled_lr = base_lr * (args.batch_size / reference_batch_size) ** 0.5\n",
        "\n",
        "# Mapping optimizers\n",
        "if args.optimizer == 'SGDM':\n",
        "    base_lr = 1e-3\n",
        "    reference_batch_size = 64\n",
        "    scaled_lr = base_lr * (args.batch_size / reference_batch_size) ** 0.5\n",
        "    optimizer = optim.SGD(net.parameters(), lr=scaled_lr, momentum=args.momentum, weight_decay=args.weight_decay)\n",
        "elif args.optimizer == 'AdamW':\n",
        "    base_lr = 5e-4\n",
        "    reference_batch_size = 64\n",
        "    scaled_lr = base_lr * (args.batch_size / reference_batch_size) ** 0.5\n",
        "    optimizer = optim.AdamW(net.parameters(), lr=scaled_lr, betas=(args.b1, args.b2), weight_decay=args.weight_decay)\n",
        "elif args.optimizer == 'LARS':\n",
        "    base_lr = 25e-2\n",
        "    reference_batch_size = 64\n",
        "    scaled_lr = base_lr * (args.batch_size / reference_batch_size) ** 0.5\n",
        "    optimizer = LARS(net.parameters(), lr=scaled_lr, momentum=args.momentum, weight_decay=args.weight_decay, trust_coefficient=args.trust_coefficient)\n",
        "elif args.optimizer == 'LAMB':\n",
        "    base_lr = 5e-4\n",
        "    reference_batch_size = 64\n",
        "    scaled_lr = base_lr * (args.batch_size / reference_batch_size) ** 0.5\n",
        "    optimizer = LAMB(net.parameters(), lr=scaled_lr, weight_decay=args.weight_decay)\n",
        "\n",
        "criterion = nn.CrossEntropyLoss()\n",
        "\n",
        "# scheduler should be e square root LR scaling rule and linear-epoch warmup scheduling to automatically adjust learning rate\n",
        "scheduler = SqrtLRScheduler(\n",
        "    optimizer = optimizer,\n",
        "    base_lr = base_lr,\n",
        "    batch_size = args.batch_size,\n",
        "    warmup_epochs = args.warmup_epochs,\n",
        "    total_epochs = args.epochs,\n",
        "    reference_batch_size = reference_batch_size,\n",
        "    verbose = True)\n",
        "\n",
        "# Training Function\n",
        "def train_model(optimizer, scheduler, model, criterion, trainloader , testloader, device, epochs, save_checkpoint_interval=10):\n",
        "    train_losses, test_losses = [], []\n",
        "    train_accuracies, test_accuracies = [], []\n",
        "    for epoch in range(epochs):\n",
        "        model.train()\n",
        "        running_loss, correct_train, total_train = 0.0, 0, 0\n",
        "        for inputs, labels in trainloader:\n",
        "            inputs, labels = inputs.to(device), labels.to(device)\n",
        "            optimizer.zero_grad()\n",
        "            outputs = model(inputs)\n",
        "            loss = criterion(outputs, labels)\n",
        "            loss.backward()\n",
        "            optimizer.step()\n",
        "            running_loss += loss.item()\n",
        "            _, predicted = outputs.max(1)\n",
        "            total_train += labels.size(0)\n",
        "            correct_train += predicted.eq(labels).sum().item()\n",
        "        train_loss = running_loss / len(trainloader)\n",
        "        train_accuracy = 100. * correct_train / total_train\n",
        "        train_losses.append(train_loss)\n",
        "        train_accuracies.append(train_accuracy)\n",
        "\n",
        "        '''\n",
        "        # Early Stopping\n",
        "        if val_loss < best_val_loss:\n",
        "          best_val_loss = val_loss\n",
        "          epochs_no_improve = 0\n",
        "        else:\n",
        "          epochs_no_improve += 1\n",
        "\n",
        "        if epochs_no_improve == patience:\n",
        "          print(\"Early stopping!\")\n",
        "          break\n",
        "        '''\n",
        "\n",
        "        # Test\n",
        "        correct_test, total_test, test_loss = 0, 0, 0.0\n",
        "        with torch.no_grad():\n",
        "            for inputs, labels in testloader:\n",
        "                inputs, labels = inputs.to(device), labels.to(device)\n",
        "                outputs = model(inputs)\n",
        "                loss = criterion(outputs, labels)\n",
        "                test_loss += loss.item()\n",
        "                _, predicted = outputs.max(1)\n",
        "                total_test += labels.size(0)\n",
        "                correct_test += predicted.eq(labels).sum().item()\n",
        "        test_loss /= len(testloader)\n",
        "        test_losses.append(test_loss)\n",
        "        test_accuracy = 100. * correct_test / total_test\n",
        "        test_accuracies.append(test_accuracy)\n",
        "\n",
        "        scheduler.step()\n",
        "\n",
        "        # Checkpointing\n",
        "        if (epoch + 1) % save_checkpoint_interval == 0:\n",
        "            checkpoint_filename = f'checkpoint_epoch_{epoch + 1}.pth'\n",
        "            checkpoint = {\n",
        "                'epoch': epoch + 1,\n",
        "                'model_state_dict': model.state_dict(),\n",
        "                'optimizer_state_dict': optimizer.state_dict(),\n",
        "                'scheduler_state_dict': scheduler.state_dict(),\n",
        "                'loss': loss.item(),\n",
        "            }\n",
        "            checkpoint_path = os.path.join('./', checkpoint_filename)\n",
        "            torch.save(checkpoint, checkpoint_path)\n",
        "            print(f'Checkpoint saved at epoch {epoch + 1}: {checkpoint_path}')\n",
        "\n",
        "            # Download the checkpoint\n",
        "            files.download(checkpoint_filename)\n",
        "\n",
        "        print(f'Epoch {epoch+1}/{epochs}, Train Acc: {train_accuracy:.2f}%, Test Acc: {test_accuracy:.2f}%')\n",
        "        print(f'Epoch {epoch+1}/{epochs}, Train Loss: {train_loss:.4f},  Test Loss: {test_loss:.4f}')\n",
        "\n",
        "    return train_losses, test_losses, train_accuracies, test_accuracies\n",
        "\n",
        "# Train the model\n",
        "print(f\"--- Train with {args.optimizer} ---\")\n",
        "train_loss, test_loss, train_acc, test_acc = train_model(optimizer, scheduler, net, criterion, trainloader, testloader, device, args.epochs)\n",
        "\n",
        "# Save model\n",
        "torch.save(net.state_dict(), f'net_{args.optimizer}.pth')\n",
        "\n",
        "# Plot results\n",
        "# Plot Training Loss\n",
        "plt.figure(figsize=(6, 4))\n",
        "plt.plot(train_loss, label='Train Loss')\n",
        "plt.title('Training Loss')\n",
        "plt.xlabel('Epoch')\n",
        "plt.ylabel('Loss')\n",
        "plt.legend()\n",
        "plt.tight_layout()\n",
        "plt.savefig('train_loss.png')\n",
        "plt.show()\n",
        "\n",
        "# Plot Training Accuracy\n",
        "plt.figure(figsize=(6, 4))\n",
        "plt.plot(train_acc, label='Train Accuracy')\n",
        "plt.title('Training Accuracy')\n",
        "plt.xlabel('Epoch')\n",
        "plt.ylabel('Accuracy (%)')\n",
        "plt.legend()\n",
        "plt.tight_layout()\n",
        "plt.savefig('train_accuracy.png')\n",
        "plt.show()\n",
        "\n",
        "# Plot Test Loss\n",
        "plt.figure(figsize=(6, 4))\n",
        "plt.plot(test_loss, label='Test Loss')\n",
        "plt.title('Test Loss')\n",
        "plt.xlabel('Epoch')\n",
        "plt.ylabel('Loss')\n",
        "plt.legend()\n",
        "plt.tight_layout()\n",
        "plt.savefig('test_loss.png')\n",
        "plt.show()\n",
        "\n",
        "# Plot Test Accuracy\n",
        "plt.figure(figsize=(6, 4))\n",
        "plt.plot(test_acc, label='Test Accuracy')\n",
        "plt.title('Test Accuracy')\n",
        "plt.xlabel('Epoch')\n",
        "plt.ylabel('Accuracy (%)')\n",
        "plt.legend()\n",
        "plt.tight_layout()\n",
        "plt.savefig('test_accuracy.png')\n",
        "plt.show()"
      ]
    },
    {
      "cell_type": "code",
      "source": [
        "%run large_batch_training.py --optimizer LARS --batch-size 4092 --weight-decay 4e-4"
      ],
      "metadata": {
        "colab": {
          "base_uri": "https://localhost:8080/",
          "height": 1000
        },
        "id": "Nbav9UMyfSCi",
        "outputId": "9d1567af-20d6-41ca-949e-dd3d7f296a3d"
      },
      "execution_count": 3,
      "outputs": [
        {
          "metadata": {
            "tags": null
          },
          "name": "stdout",
          "output_type": "stream",
          "text": [
            "Files already downloaded and verified\n",
            "Files already downloaded and verified\n",
            "Files already downloaded and verified\n",
            "--- Train with LARS ---\n",
            "Epoch 1/150, Train Acc: 0.94%, Test Acc: 1.75%\n",
            "Epoch 1/150, Train Loss: 4.6000,  Test Loss: 4.5868\n",
            "Epoch 2/150, Train Acc: 2.29%, Test Acc: 3.48%\n",
            "Epoch 2/150, Train Loss: 4.5316,  Test Loss: 4.4457\n",
            "Epoch 3/150, Train Acc: 4.57%, Test Acc: 6.16%\n",
            "Epoch 3/150, Train Loss: 4.3436,  Test Loss: 4.1977\n",
            "Epoch 4/150, Train Acc: 6.75%, Test Acc: 8.76%\n",
            "Epoch 4/150, Train Loss: 4.1451,  Test Loss: 4.0333\n",
            "Warmup phase completed at epoch 5. Switching to constant learning rate.\n",
            "Epoch 5/150, Train Acc: 8.63%, Test Acc: 10.27%\n",
            "Epoch 5/150, Train Loss: 4.0195,  Test Loss: 3.9215\n",
            "Epoch 6/150, Train Acc: 10.15%, Test Acc: 11.96%\n",
            "Epoch 6/150, Train Loss: 3.9207,  Test Loss: 3.8311\n",
            "Epoch 7/150, Train Acc: 11.32%, Test Acc: 12.85%\n",
            "Epoch 7/150, Train Loss: 3.8414,  Test Loss: 3.7671\n",
            "Epoch 8/150, Train Acc: 12.34%, Test Acc: 13.84%\n",
            "Epoch 8/150, Train Loss: 3.7747,  Test Loss: 3.7028\n",
            "Epoch 9/150, Train Acc: 13.62%, Test Acc: 15.52%\n",
            "Epoch 9/150, Train Loss: 3.7116,  Test Loss: 3.6284\n",
            "Checkpoint saved at epoch 10: ./checkpoint_epoch_10.pth\n"
          ]
        },
        {
          "data": {
            "application/javascript": [
              "\n",
              "    async function download(id, filename, size) {\n",
              "      if (!google.colab.kernel.accessAllowed) {\n",
              "        return;\n",
              "      }\n",
              "      const div = document.createElement('div');\n",
              "      const label = document.createElement('label');\n",
              "      label.textContent = `Downloading \"${filename}\": `;\n",
              "      div.appendChild(label);\n",
              "      const progress = document.createElement('progress');\n",
              "      progress.max = size;\n",
              "      div.appendChild(progress);\n",
              "      document.body.appendChild(div);\n",
              "\n",
              "      const buffers = [];\n",
              "      let downloaded = 0;\n",
              "\n",
              "      const channel = await google.colab.kernel.comms.open(id);\n",
              "      // Send a message to notify the kernel that we're ready.\n",
              "      channel.send({})\n",
              "\n",
              "      for await (const message of channel.messages) {\n",
              "        // Send a message to notify the kernel that we're ready.\n",
              "        channel.send({})\n",
              "        if (message.buffers) {\n",
              "          for (const buffer of message.buffers) {\n",
              "            buffers.push(buffer);\n",
              "            downloaded += buffer.byteLength;\n",
              "            progress.value = downloaded;\n",
              "          }\n",
              "        }\n",
              "      }\n",
              "      const blob = new Blob(buffers, {type: 'application/binary'});\n",
              "      const a = document.createElement('a');\n",
              "      a.href = window.URL.createObjectURL(blob);\n",
              "      a.download = filename;\n",
              "      div.appendChild(a);\n",
              "      a.click();\n",
              "      div.remove();\n",
              "    }\n",
              "  "
            ],
            "text/plain": [
              "<IPython.core.display.Javascript object>"
            ]
          },
          "metadata": {},
          "output_type": "display_data"
        },
        {
          "data": {
            "application/javascript": [
              "download(\"download_2df7abb9-559c-4599-a437-51cf6778811e\", \"checkpoint_epoch_10.pth\", 6530106)"
            ],
            "text/plain": [
              "<IPython.core.display.Javascript object>"
            ]
          },
          "metadata": {},
          "output_type": "display_data"
        },
        {
          "metadata": {
            "tags": null
          },
          "name": "stdout",
          "output_type": "stream",
          "text": [
            "Epoch 10/150, Train Acc: 14.55%, Test Acc: 16.61%\n",
            "Epoch 10/150, Train Loss: 3.6551,  Test Loss: 3.5682\n",
            "Epoch 11/150, Train Acc: 15.66%, Test Acc: 16.69%\n",
            "Epoch 11/150, Train Loss: 3.6032,  Test Loss: 3.5350\n",
            "Epoch 12/150, Train Acc: 16.27%, Test Acc: 17.70%\n",
            "Epoch 12/150, Train Loss: 3.5488,  Test Loss: 3.4762\n",
            "Epoch 13/150, Train Acc: 17.06%, Test Acc: 17.95%\n",
            "Epoch 13/150, Train Loss: 3.5029,  Test Loss: 3.4469\n",
            "Epoch 14/150, Train Acc: 17.79%, Test Acc: 19.12%\n",
            "Epoch 14/150, Train Loss: 3.4623,  Test Loss: 3.4124\n",
            "Epoch 15/150, Train Acc: 18.69%, Test Acc: 19.37%\n",
            "Epoch 15/150, Train Loss: 3.4205,  Test Loss: 3.3755\n",
            "Epoch 16/150, Train Acc: 19.14%, Test Acc: 20.06%\n",
            "Epoch 16/150, Train Loss: 3.3920,  Test Loss: 3.3376\n",
            "Epoch 17/150, Train Acc: 19.69%, Test Acc: 20.63%\n",
            "Epoch 17/150, Train Loss: 3.3568,  Test Loss: 3.2936\n",
            "Epoch 18/150, Train Acc: 20.28%, Test Acc: 21.40%\n",
            "Epoch 18/150, Train Loss: 3.3240,  Test Loss: 3.2685\n",
            "Epoch 19/150, Train Acc: 20.87%, Test Acc: 21.88%\n",
            "Epoch 19/150, Train Loss: 3.2975,  Test Loss: 3.2456\n",
            "Checkpoint saved at epoch 20: ./checkpoint_epoch_20.pth\n"
          ]
        },
        {
          "data": {
            "application/javascript": [
              "\n",
              "    async function download(id, filename, size) {\n",
              "      if (!google.colab.kernel.accessAllowed) {\n",
              "        return;\n",
              "      }\n",
              "      const div = document.createElement('div');\n",
              "      const label = document.createElement('label');\n",
              "      label.textContent = `Downloading \"${filename}\": `;\n",
              "      div.appendChild(label);\n",
              "      const progress = document.createElement('progress');\n",
              "      progress.max = size;\n",
              "      div.appendChild(progress);\n",
              "      document.body.appendChild(div);\n",
              "\n",
              "      const buffers = [];\n",
              "      let downloaded = 0;\n",
              "\n",
              "      const channel = await google.colab.kernel.comms.open(id);\n",
              "      // Send a message to notify the kernel that we're ready.\n",
              "      channel.send({})\n",
              "\n",
              "      for await (const message of channel.messages) {\n",
              "        // Send a message to notify the kernel that we're ready.\n",
              "        channel.send({})\n",
              "        if (message.buffers) {\n",
              "          for (const buffer of message.buffers) {\n",
              "            buffers.push(buffer);\n",
              "            downloaded += buffer.byteLength;\n",
              "            progress.value = downloaded;\n",
              "          }\n",
              "        }\n",
              "      }\n",
              "      const blob = new Blob(buffers, {type: 'application/binary'});\n",
              "      const a = document.createElement('a');\n",
              "      a.href = window.URL.createObjectURL(blob);\n",
              "      a.download = filename;\n",
              "      div.appendChild(a);\n",
              "      a.click();\n",
              "      div.remove();\n",
              "    }\n",
              "  "
            ],
            "text/plain": [
              "<IPython.core.display.Javascript object>"
            ]
          },
          "metadata": {},
          "output_type": "display_data"
        },
        {
          "data": {
            "application/javascript": [
              "download(\"download_09326e05-4985-4f62-81c5-a9ab924547ce\", \"checkpoint_epoch_20.pth\", 6530106)"
            ],
            "text/plain": [
              "<IPython.core.display.Javascript object>"
            ]
          },
          "metadata": {},
          "output_type": "display_data"
        },
        {
          "metadata": {
            "tags": null
          },
          "name": "stdout",
          "output_type": "stream",
          "text": [
            "Epoch 20/150, Train Acc: 21.38%, Test Acc: 23.08%\n",
            "Epoch 20/150, Train Loss: 3.2616,  Test Loss: 3.1910\n",
            "Epoch 21/150, Train Acc: 21.91%, Test Acc: 23.28%\n",
            "Epoch 21/150, Train Loss: 3.2390,  Test Loss: 3.1794\n",
            "Epoch 22/150, Train Acc: 22.23%, Test Acc: 23.41%\n",
            "Epoch 22/150, Train Loss: 3.2166,  Test Loss: 3.1676\n",
            "Epoch 23/150, Train Acc: 22.88%, Test Acc: 22.78%\n",
            "Epoch 23/150, Train Loss: 3.1933,  Test Loss: 3.1764\n",
            "Epoch 24/150, Train Acc: 22.99%, Test Acc: 23.74%\n",
            "Epoch 24/150, Train Loss: 3.1801,  Test Loss: 3.1425\n",
            "Epoch 25/150, Train Acc: 23.37%, Test Acc: 24.95%\n",
            "Epoch 25/150, Train Loss: 3.1505,  Test Loss: 3.0877\n",
            "Epoch 26/150, Train Acc: 23.89%, Test Acc: 24.56%\n",
            "Epoch 26/150, Train Loss: 3.1377,  Test Loss: 3.0906\n",
            "Epoch 27/150, Train Acc: 24.35%, Test Acc: 25.00%\n",
            "Epoch 27/150, Train Loss: 3.1097,  Test Loss: 3.0751\n",
            "Epoch 28/150, Train Acc: 24.65%, Test Acc: 25.60%\n",
            "Epoch 28/150, Train Loss: 3.0947,  Test Loss: 3.0526\n",
            "Epoch 29/150, Train Acc: 25.19%, Test Acc: 24.84%\n",
            "Epoch 29/150, Train Loss: 3.0706,  Test Loss: 3.0556\n",
            "Checkpoint saved at epoch 30: ./checkpoint_epoch_30.pth\n"
          ]
        },
        {
          "data": {
            "application/javascript": [
              "\n",
              "    async function download(id, filename, size) {\n",
              "      if (!google.colab.kernel.accessAllowed) {\n",
              "        return;\n",
              "      }\n",
              "      const div = document.createElement('div');\n",
              "      const label = document.createElement('label');\n",
              "      label.textContent = `Downloading \"${filename}\": `;\n",
              "      div.appendChild(label);\n",
              "      const progress = document.createElement('progress');\n",
              "      progress.max = size;\n",
              "      div.appendChild(progress);\n",
              "      document.body.appendChild(div);\n",
              "\n",
              "      const buffers = [];\n",
              "      let downloaded = 0;\n",
              "\n",
              "      const channel = await google.colab.kernel.comms.open(id);\n",
              "      // Send a message to notify the kernel that we're ready.\n",
              "      channel.send({})\n",
              "\n",
              "      for await (const message of channel.messages) {\n",
              "        // Send a message to notify the kernel that we're ready.\n",
              "        channel.send({})\n",
              "        if (message.buffers) {\n",
              "          for (const buffer of message.buffers) {\n",
              "            buffers.push(buffer);\n",
              "            downloaded += buffer.byteLength;\n",
              "            progress.value = downloaded;\n",
              "          }\n",
              "        }\n",
              "      }\n",
              "      const blob = new Blob(buffers, {type: 'application/binary'});\n",
              "      const a = document.createElement('a');\n",
              "      a.href = window.URL.createObjectURL(blob);\n",
              "      a.download = filename;\n",
              "      div.appendChild(a);\n",
              "      a.click();\n",
              "      div.remove();\n",
              "    }\n",
              "  "
            ],
            "text/plain": [
              "<IPython.core.display.Javascript object>"
            ]
          },
          "metadata": {},
          "output_type": "display_data"
        },
        {
          "data": {
            "application/javascript": [
              "download(\"download_310846ab-350d-476e-aaf2-58ff72227372\", \"checkpoint_epoch_30.pth\", 6530106)"
            ],
            "text/plain": [
              "<IPython.core.display.Javascript object>"
            ]
          },
          "metadata": {},
          "output_type": "display_data"
        },
        {
          "metadata": {
            "tags": null
          },
          "name": "stdout",
          "output_type": "stream",
          "text": [
            "Epoch 30/150, Train Acc: 25.31%, Test Acc: 26.77%\n",
            "Epoch 30/150, Train Loss: 3.0641,  Test Loss: 2.9992\n",
            "Epoch 31/150, Train Acc: 25.38%, Test Acc: 26.52%\n",
            "Epoch 31/150, Train Loss: 3.0498,  Test Loss: 2.9899\n",
            "Epoch 32/150, Train Acc: 25.76%, Test Acc: 25.76%\n",
            "Epoch 32/150, Train Loss: 3.0391,  Test Loss: 3.0140\n",
            "Epoch 33/150, Train Acc: 26.10%, Test Acc: 27.18%\n",
            "Epoch 33/150, Train Loss: 3.0105,  Test Loss: 2.9593\n",
            "Epoch 34/150, Train Acc: 26.32%, Test Acc: 27.83%\n",
            "Epoch 34/150, Train Loss: 2.9991,  Test Loss: 2.9451\n",
            "Epoch 35/150, Train Acc: 26.39%, Test Acc: 27.21%\n",
            "Epoch 35/150, Train Loss: 2.9920,  Test Loss: 2.9681\n",
            "Epoch 36/150, Train Acc: 26.69%, Test Acc: 27.48%\n",
            "Epoch 36/150, Train Loss: 2.9825,  Test Loss: 2.9526\n",
            "Epoch 37/150, Train Acc: 27.15%, Test Acc: 27.83%\n",
            "Epoch 37/150, Train Loss: 2.9512,  Test Loss: 2.9237\n",
            "Epoch 38/150, Train Acc: 27.49%, Test Acc: 27.58%\n",
            "Epoch 38/150, Train Loss: 2.9473,  Test Loss: 2.9421\n",
            "Epoch 39/150, Train Acc: 27.55%, Test Acc: 28.87%\n",
            "Epoch 39/150, Train Loss: 2.9389,  Test Loss: 2.8763\n",
            "Checkpoint saved at epoch 40: ./checkpoint_epoch_40.pth\n"
          ]
        },
        {
          "data": {
            "application/javascript": [
              "\n",
              "    async function download(id, filename, size) {\n",
              "      if (!google.colab.kernel.accessAllowed) {\n",
              "        return;\n",
              "      }\n",
              "      const div = document.createElement('div');\n",
              "      const label = document.createElement('label');\n",
              "      label.textContent = `Downloading \"${filename}\": `;\n",
              "      div.appendChild(label);\n",
              "      const progress = document.createElement('progress');\n",
              "      progress.max = size;\n",
              "      div.appendChild(progress);\n",
              "      document.body.appendChild(div);\n",
              "\n",
              "      const buffers = [];\n",
              "      let downloaded = 0;\n",
              "\n",
              "      const channel = await google.colab.kernel.comms.open(id);\n",
              "      // Send a message to notify the kernel that we're ready.\n",
              "      channel.send({})\n",
              "\n",
              "      for await (const message of channel.messages) {\n",
              "        // Send a message to notify the kernel that we're ready.\n",
              "        channel.send({})\n",
              "        if (message.buffers) {\n",
              "          for (const buffer of message.buffers) {\n",
              "            buffers.push(buffer);\n",
              "            downloaded += buffer.byteLength;\n",
              "            progress.value = downloaded;\n",
              "          }\n",
              "        }\n",
              "      }\n",
              "      const blob = new Blob(buffers, {type: 'application/binary'});\n",
              "      const a = document.createElement('a');\n",
              "      a.href = window.URL.createObjectURL(blob);\n",
              "      a.download = filename;\n",
              "      div.appendChild(a);\n",
              "      a.click();\n",
              "      div.remove();\n",
              "    }\n",
              "  "
            ],
            "text/plain": [
              "<IPython.core.display.Javascript object>"
            ]
          },
          "metadata": {},
          "output_type": "display_data"
        },
        {
          "data": {
            "application/javascript": [
              "download(\"download_ef783d69-f6db-461b-8a8b-bb5b555615dc\", \"checkpoint_epoch_40.pth\", 6530106)"
            ],
            "text/plain": [
              "<IPython.core.display.Javascript object>"
            ]
          },
          "metadata": {},
          "output_type": "display_data"
        },
        {
          "metadata": {
            "tags": null
          },
          "name": "stdout",
          "output_type": "stream",
          "text": [
            "Epoch 40/150, Train Acc: 27.70%, Test Acc: 29.00%\n",
            "Epoch 40/150, Train Loss: 2.9329,  Test Loss: 2.8736\n",
            "Epoch 41/150, Train Acc: 27.91%, Test Acc: 28.34%\n",
            "Epoch 41/150, Train Loss: 2.9157,  Test Loss: 2.9094\n",
            "Epoch 42/150, Train Acc: 28.35%, Test Acc: 28.00%\n",
            "Epoch 42/150, Train Loss: 2.9115,  Test Loss: 2.9301\n",
            "Epoch 43/150, Train Acc: 28.47%, Test Acc: 29.06%\n",
            "Epoch 43/150, Train Loss: 2.8928,  Test Loss: 2.8762\n",
            "Epoch 44/150, Train Acc: 28.75%, Test Acc: 29.54%\n",
            "Epoch 44/150, Train Loss: 2.8739,  Test Loss: 2.8488\n",
            "Epoch 45/150, Train Acc: 28.83%, Test Acc: 29.37%\n",
            "Epoch 45/150, Train Loss: 2.8694,  Test Loss: 2.8591\n",
            "Epoch 46/150, Train Acc: 28.92%, Test Acc: 30.11%\n",
            "Epoch 46/150, Train Loss: 2.8674,  Test Loss: 2.8063\n",
            "Epoch 47/150, Train Acc: 29.37%, Test Acc: 29.98%\n",
            "Epoch 47/150, Train Loss: 2.8507,  Test Loss: 2.8265\n",
            "Epoch 48/150, Train Acc: 29.56%, Test Acc: 29.75%\n",
            "Epoch 48/150, Train Loss: 2.8392,  Test Loss: 2.8384\n",
            "Epoch 49/150, Train Acc: 29.56%, Test Acc: 30.96%\n",
            "Epoch 49/150, Train Loss: 2.8296,  Test Loss: 2.7854\n",
            "Checkpoint saved at epoch 50: ./checkpoint_epoch_50.pth\n"
          ]
        },
        {
          "data": {
            "application/javascript": [
              "\n",
              "    async function download(id, filename, size) {\n",
              "      if (!google.colab.kernel.accessAllowed) {\n",
              "        return;\n",
              "      }\n",
              "      const div = document.createElement('div');\n",
              "      const label = document.createElement('label');\n",
              "      label.textContent = `Downloading \"${filename}\": `;\n",
              "      div.appendChild(label);\n",
              "      const progress = document.createElement('progress');\n",
              "      progress.max = size;\n",
              "      div.appendChild(progress);\n",
              "      document.body.appendChild(div);\n",
              "\n",
              "      const buffers = [];\n",
              "      let downloaded = 0;\n",
              "\n",
              "      const channel = await google.colab.kernel.comms.open(id);\n",
              "      // Send a message to notify the kernel that we're ready.\n",
              "      channel.send({})\n",
              "\n",
              "      for await (const message of channel.messages) {\n",
              "        // Send a message to notify the kernel that we're ready.\n",
              "        channel.send({})\n",
              "        if (message.buffers) {\n",
              "          for (const buffer of message.buffers) {\n",
              "            buffers.push(buffer);\n",
              "            downloaded += buffer.byteLength;\n",
              "            progress.value = downloaded;\n",
              "          }\n",
              "        }\n",
              "      }\n",
              "      const blob = new Blob(buffers, {type: 'application/binary'});\n",
              "      const a = document.createElement('a');\n",
              "      a.href = window.URL.createObjectURL(blob);\n",
              "      a.download = filename;\n",
              "      div.appendChild(a);\n",
              "      a.click();\n",
              "      div.remove();\n",
              "    }\n",
              "  "
            ],
            "text/plain": [
              "<IPython.core.display.Javascript object>"
            ]
          },
          "metadata": {},
          "output_type": "display_data"
        },
        {
          "data": {
            "application/javascript": [
              "download(\"download_62eee9b7-3fcd-45cb-b128-7a4809e328c4\", \"checkpoint_epoch_50.pth\", 6530106)"
            ],
            "text/plain": [
              "<IPython.core.display.Javascript object>"
            ]
          },
          "metadata": {},
          "output_type": "display_data"
        },
        {
          "metadata": {
            "tags": null
          },
          "name": "stdout",
          "output_type": "stream",
          "text": [
            "Epoch 50/150, Train Acc: 29.85%, Test Acc: 30.34%\n",
            "Epoch 50/150, Train Loss: 2.8138,  Test Loss: 2.8073\n",
            "Epoch 51/150, Train Acc: 30.03%, Test Acc: 31.19%\n",
            "Epoch 51/150, Train Loss: 2.8067,  Test Loss: 2.7895\n",
            "Epoch 52/150, Train Acc: 29.83%, Test Acc: 30.81%\n",
            "Epoch 52/150, Train Loss: 2.8094,  Test Loss: 2.7722\n",
            "Epoch 53/150, Train Acc: 30.28%, Test Acc: 31.39%\n",
            "Epoch 53/150, Train Loss: 2.8006,  Test Loss: 2.7385\n",
            "Epoch 54/150, Train Acc: 30.81%, Test Acc: 31.22%\n",
            "Epoch 54/150, Train Loss: 2.7734,  Test Loss: 2.7734\n",
            "Epoch 55/150, Train Acc: 30.62%, Test Acc: 31.06%\n",
            "Epoch 55/150, Train Loss: 2.7767,  Test Loss: 2.7697\n",
            "Epoch 56/150, Train Acc: 30.87%, Test Acc: 31.84%\n",
            "Epoch 56/150, Train Loss: 2.7772,  Test Loss: 2.7212\n",
            "Epoch 57/150, Train Acc: 31.01%, Test Acc: 31.42%\n",
            "Epoch 57/150, Train Loss: 2.7581,  Test Loss: 2.7446\n",
            "Epoch 58/150, Train Acc: 31.12%, Test Acc: 31.50%\n",
            "Epoch 58/150, Train Loss: 2.7428,  Test Loss: 2.7253\n",
            "Epoch 59/150, Train Acc: 31.42%, Test Acc: 32.77%\n",
            "Epoch 59/150, Train Loss: 2.7465,  Test Loss: 2.7114\n",
            "Checkpoint saved at epoch 60: ./checkpoint_epoch_60.pth\n"
          ]
        },
        {
          "data": {
            "application/javascript": [
              "\n",
              "    async function download(id, filename, size) {\n",
              "      if (!google.colab.kernel.accessAllowed) {\n",
              "        return;\n",
              "      }\n",
              "      const div = document.createElement('div');\n",
              "      const label = document.createElement('label');\n",
              "      label.textContent = `Downloading \"${filename}\": `;\n",
              "      div.appendChild(label);\n",
              "      const progress = document.createElement('progress');\n",
              "      progress.max = size;\n",
              "      div.appendChild(progress);\n",
              "      document.body.appendChild(div);\n",
              "\n",
              "      const buffers = [];\n",
              "      let downloaded = 0;\n",
              "\n",
              "      const channel = await google.colab.kernel.comms.open(id);\n",
              "      // Send a message to notify the kernel that we're ready.\n",
              "      channel.send({})\n",
              "\n",
              "      for await (const message of channel.messages) {\n",
              "        // Send a message to notify the kernel that we're ready.\n",
              "        channel.send({})\n",
              "        if (message.buffers) {\n",
              "          for (const buffer of message.buffers) {\n",
              "            buffers.push(buffer);\n",
              "            downloaded += buffer.byteLength;\n",
              "            progress.value = downloaded;\n",
              "          }\n",
              "        }\n",
              "      }\n",
              "      const blob = new Blob(buffers, {type: 'application/binary'});\n",
              "      const a = document.createElement('a');\n",
              "      a.href = window.URL.createObjectURL(blob);\n",
              "      a.download = filename;\n",
              "      div.appendChild(a);\n",
              "      a.click();\n",
              "      div.remove();\n",
              "    }\n",
              "  "
            ],
            "text/plain": [
              "<IPython.core.display.Javascript object>"
            ]
          },
          "metadata": {},
          "output_type": "display_data"
        },
        {
          "data": {
            "application/javascript": [
              "download(\"download_4c1d8847-cbf5-41bf-8fe9-965143a46947\", \"checkpoint_epoch_60.pth\", 6530106)"
            ],
            "text/plain": [
              "<IPython.core.display.Javascript object>"
            ]
          },
          "metadata": {},
          "output_type": "display_data"
        },
        {
          "metadata": {
            "tags": null
          },
          "name": "stdout",
          "output_type": "stream",
          "text": [
            "Epoch 60/150, Train Acc: 31.44%, Test Acc: 31.39%\n",
            "Epoch 60/150, Train Loss: 2.7311,  Test Loss: 2.7487\n",
            "Epoch 61/150, Train Acc: 31.62%, Test Acc: 31.85%\n",
            "Epoch 61/150, Train Loss: 2.7279,  Test Loss: 2.7399\n",
            "Epoch 62/150, Train Acc: 31.51%, Test Acc: 32.34%\n",
            "Epoch 62/150, Train Loss: 2.7246,  Test Loss: 2.7062\n",
            "Epoch 63/150, Train Acc: 32.15%, Test Acc: 33.12%\n",
            "Epoch 63/150, Train Loss: 2.7058,  Test Loss: 2.6801\n",
            "Epoch 64/150, Train Acc: 32.27%, Test Acc: 32.50%\n",
            "Epoch 64/150, Train Loss: 2.7000,  Test Loss: 2.7081\n",
            "Epoch 65/150, Train Acc: 32.51%, Test Acc: 33.06%\n",
            "Epoch 65/150, Train Loss: 2.6877,  Test Loss: 2.6789\n",
            "Epoch 66/150, Train Acc: 32.65%, Test Acc: 32.83%\n",
            "Epoch 66/150, Train Loss: 2.6751,  Test Loss: 2.6913\n",
            "Epoch 67/150, Train Acc: 32.47%, Test Acc: 32.53%\n",
            "Epoch 67/150, Train Loss: 2.6880,  Test Loss: 2.7104\n",
            "Epoch 68/150, Train Acc: 32.68%, Test Acc: 33.99%\n",
            "Epoch 68/150, Train Loss: 2.6831,  Test Loss: 2.6294\n",
            "Epoch 69/150, Train Acc: 33.28%, Test Acc: 34.43%\n",
            "Epoch 69/150, Train Loss: 2.6629,  Test Loss: 2.6253\n",
            "Checkpoint saved at epoch 70: ./checkpoint_epoch_70.pth\n"
          ]
        },
        {
          "data": {
            "application/javascript": [
              "\n",
              "    async function download(id, filename, size) {\n",
              "      if (!google.colab.kernel.accessAllowed) {\n",
              "        return;\n",
              "      }\n",
              "      const div = document.createElement('div');\n",
              "      const label = document.createElement('label');\n",
              "      label.textContent = `Downloading \"${filename}\": `;\n",
              "      div.appendChild(label);\n",
              "      const progress = document.createElement('progress');\n",
              "      progress.max = size;\n",
              "      div.appendChild(progress);\n",
              "      document.body.appendChild(div);\n",
              "\n",
              "      const buffers = [];\n",
              "      let downloaded = 0;\n",
              "\n",
              "      const channel = await google.colab.kernel.comms.open(id);\n",
              "      // Send a message to notify the kernel that we're ready.\n",
              "      channel.send({})\n",
              "\n",
              "      for await (const message of channel.messages) {\n",
              "        // Send a message to notify the kernel that we're ready.\n",
              "        channel.send({})\n",
              "        if (message.buffers) {\n",
              "          for (const buffer of message.buffers) {\n",
              "            buffers.push(buffer);\n",
              "            downloaded += buffer.byteLength;\n",
              "            progress.value = downloaded;\n",
              "          }\n",
              "        }\n",
              "      }\n",
              "      const blob = new Blob(buffers, {type: 'application/binary'});\n",
              "      const a = document.createElement('a');\n",
              "      a.href = window.URL.createObjectURL(blob);\n",
              "      a.download = filename;\n",
              "      div.appendChild(a);\n",
              "      a.click();\n",
              "      div.remove();\n",
              "    }\n",
              "  "
            ],
            "text/plain": [
              "<IPython.core.display.Javascript object>"
            ]
          },
          "metadata": {},
          "output_type": "display_data"
        },
        {
          "data": {
            "application/javascript": [
              "download(\"download_dfec9797-f2b3-47b1-87b7-b3a4dc491bcd\", \"checkpoint_epoch_70.pth\", 6530106)"
            ],
            "text/plain": [
              "<IPython.core.display.Javascript object>"
            ]
          },
          "metadata": {},
          "output_type": "display_data"
        },
        {
          "metadata": {
            "tags": null
          },
          "name": "stdout",
          "output_type": "stream",
          "text": [
            "Epoch 70/150, Train Acc: 33.56%, Test Acc: 34.31%\n",
            "Epoch 70/150, Train Loss: 2.6393,  Test Loss: 2.6140\n",
            "Epoch 71/150, Train Acc: 33.41%, Test Acc: 34.66%\n",
            "Epoch 71/150, Train Loss: 2.6402,  Test Loss: 2.6094\n",
            "Epoch 72/150, Train Acc: 33.65%, Test Acc: 34.23%\n",
            "Epoch 72/150, Train Loss: 2.6241,  Test Loss: 2.6142\n",
            "Epoch 73/150, Train Acc: 33.60%, Test Acc: 34.28%\n",
            "Epoch 73/150, Train Loss: 2.6268,  Test Loss: 2.6231\n",
            "Epoch 74/150, Train Acc: 33.99%, Test Acc: 34.84%\n",
            "Epoch 74/150, Train Loss: 2.6221,  Test Loss: 2.5872\n",
            "Epoch 75/150, Train Acc: 33.96%, Test Acc: 35.17%\n",
            "Epoch 75/150, Train Loss: 2.6111,  Test Loss: 2.5882\n",
            "Epoch 76/150, Train Acc: 34.33%, Test Acc: 35.14%\n",
            "Epoch 76/150, Train Loss: 2.6079,  Test Loss: 2.5939\n",
            "Epoch 77/150, Train Acc: 34.44%, Test Acc: 34.86%\n",
            "Epoch 77/150, Train Loss: 2.5961,  Test Loss: 2.5869\n",
            "Epoch 78/150, Train Acc: 34.80%, Test Acc: 35.29%\n",
            "Epoch 78/150, Train Loss: 2.5915,  Test Loss: 2.5800\n",
            "Epoch 79/150, Train Acc: 34.97%, Test Acc: 34.87%\n",
            "Epoch 79/150, Train Loss: 2.5756,  Test Loss: 2.5724\n",
            "Checkpoint saved at epoch 80: ./checkpoint_epoch_80.pth\n"
          ]
        },
        {
          "data": {
            "application/javascript": [
              "\n",
              "    async function download(id, filename, size) {\n",
              "      if (!google.colab.kernel.accessAllowed) {\n",
              "        return;\n",
              "      }\n",
              "      const div = document.createElement('div');\n",
              "      const label = document.createElement('label');\n",
              "      label.textContent = `Downloading \"${filename}\": `;\n",
              "      div.appendChild(label);\n",
              "      const progress = document.createElement('progress');\n",
              "      progress.max = size;\n",
              "      div.appendChild(progress);\n",
              "      document.body.appendChild(div);\n",
              "\n",
              "      const buffers = [];\n",
              "      let downloaded = 0;\n",
              "\n",
              "      const channel = await google.colab.kernel.comms.open(id);\n",
              "      // Send a message to notify the kernel that we're ready.\n",
              "      channel.send({})\n",
              "\n",
              "      for await (const message of channel.messages) {\n",
              "        // Send a message to notify the kernel that we're ready.\n",
              "        channel.send({})\n",
              "        if (message.buffers) {\n",
              "          for (const buffer of message.buffers) {\n",
              "            buffers.push(buffer);\n",
              "            downloaded += buffer.byteLength;\n",
              "            progress.value = downloaded;\n",
              "          }\n",
              "        }\n",
              "      }\n",
              "      const blob = new Blob(buffers, {type: 'application/binary'});\n",
              "      const a = document.createElement('a');\n",
              "      a.href = window.URL.createObjectURL(blob);\n",
              "      a.download = filename;\n",
              "      div.appendChild(a);\n",
              "      a.click();\n",
              "      div.remove();\n",
              "    }\n",
              "  "
            ],
            "text/plain": [
              "<IPython.core.display.Javascript object>"
            ]
          },
          "metadata": {},
          "output_type": "display_data"
        },
        {
          "data": {
            "application/javascript": [
              "download(\"download_73091807-4fda-4a0c-ab09-d16fc206b7c4\", \"checkpoint_epoch_80.pth\", 6530106)"
            ],
            "text/plain": [
              "<IPython.core.display.Javascript object>"
            ]
          },
          "metadata": {},
          "output_type": "display_data"
        },
        {
          "metadata": {
            "tags": null
          },
          "name": "stdout",
          "output_type": "stream",
          "text": [
            "Epoch 80/150, Train Acc: 34.79%, Test Acc: 35.53%\n",
            "Epoch 80/150, Train Loss: 2.5707,  Test Loss: 2.5860\n",
            "Epoch 81/150, Train Acc: 34.76%, Test Acc: 34.98%\n",
            "Epoch 81/150, Train Loss: 2.5767,  Test Loss: 2.5807\n",
            "Epoch 82/150, Train Acc: 34.76%, Test Acc: 35.60%\n",
            "Epoch 82/150, Train Loss: 2.5746,  Test Loss: 2.5680\n",
            "Epoch 83/150, Train Acc: 35.06%, Test Acc: 35.33%\n",
            "Epoch 83/150, Train Loss: 2.5638,  Test Loss: 2.5639\n",
            "Epoch 84/150, Train Acc: 35.45%, Test Acc: 35.82%\n",
            "Epoch 84/150, Train Loss: 2.5478,  Test Loss: 2.5489\n",
            "Epoch 85/150, Train Acc: 35.13%, Test Acc: 35.64%\n",
            "Epoch 85/150, Train Loss: 2.5414,  Test Loss: 2.5457\n",
            "Epoch 86/150, Train Acc: 35.35%, Test Acc: 35.76%\n",
            "Epoch 86/150, Train Loss: 2.5453,  Test Loss: 2.5589\n",
            "Epoch 87/150, Train Acc: 36.06%, Test Acc: 35.64%\n",
            "Epoch 87/150, Train Loss: 2.5192,  Test Loss: 2.5439\n",
            "Epoch 88/150, Train Acc: 35.70%, Test Acc: 35.38%\n",
            "Epoch 88/150, Train Loss: 2.5230,  Test Loss: 2.5697\n",
            "Epoch 89/150, Train Acc: 35.74%, Test Acc: 36.25%\n",
            "Epoch 89/150, Train Loss: 2.5361,  Test Loss: 2.5229\n",
            "Checkpoint saved at epoch 90: ./checkpoint_epoch_90.pth\n"
          ]
        },
        {
          "data": {
            "application/javascript": [
              "\n",
              "    async function download(id, filename, size) {\n",
              "      if (!google.colab.kernel.accessAllowed) {\n",
              "        return;\n",
              "      }\n",
              "      const div = document.createElement('div');\n",
              "      const label = document.createElement('label');\n",
              "      label.textContent = `Downloading \"${filename}\": `;\n",
              "      div.appendChild(label);\n",
              "      const progress = document.createElement('progress');\n",
              "      progress.max = size;\n",
              "      div.appendChild(progress);\n",
              "      document.body.appendChild(div);\n",
              "\n",
              "      const buffers = [];\n",
              "      let downloaded = 0;\n",
              "\n",
              "      const channel = await google.colab.kernel.comms.open(id);\n",
              "      // Send a message to notify the kernel that we're ready.\n",
              "      channel.send({})\n",
              "\n",
              "      for await (const message of channel.messages) {\n",
              "        // Send a message to notify the kernel that we're ready.\n",
              "        channel.send({})\n",
              "        if (message.buffers) {\n",
              "          for (const buffer of message.buffers) {\n",
              "            buffers.push(buffer);\n",
              "            downloaded += buffer.byteLength;\n",
              "            progress.value = downloaded;\n",
              "          }\n",
              "        }\n",
              "      }\n",
              "      const blob = new Blob(buffers, {type: 'application/binary'});\n",
              "      const a = document.createElement('a');\n",
              "      a.href = window.URL.createObjectURL(blob);\n",
              "      a.download = filename;\n",
              "      div.appendChild(a);\n",
              "      a.click();\n",
              "      div.remove();\n",
              "    }\n",
              "  "
            ],
            "text/plain": [
              "<IPython.core.display.Javascript object>"
            ]
          },
          "metadata": {},
          "output_type": "display_data"
        },
        {
          "data": {
            "application/javascript": [
              "download(\"download_05674537-5aa5-49c6-bcc2-66674e012897\", \"checkpoint_epoch_90.pth\", 6530106)"
            ],
            "text/plain": [
              "<IPython.core.display.Javascript object>"
            ]
          },
          "metadata": {},
          "output_type": "display_data"
        },
        {
          "metadata": {
            "tags": null
          },
          "name": "stdout",
          "output_type": "stream",
          "text": [
            "Epoch 90/150, Train Acc: 36.08%, Test Acc: 36.25%\n",
            "Epoch 90/150, Train Loss: 2.5110,  Test Loss: 2.5161\n",
            "Epoch 91/150, Train Acc: 36.25%, Test Acc: 35.90%\n",
            "Epoch 91/150, Train Loss: 2.5119,  Test Loss: 2.5257\n",
            "Epoch 92/150, Train Acc: 36.16%, Test Acc: 36.43%\n",
            "Epoch 92/150, Train Loss: 2.5151,  Test Loss: 2.5188\n",
            "Epoch 93/150, Train Acc: 36.30%, Test Acc: 36.93%\n",
            "Epoch 93/150, Train Loss: 2.5040,  Test Loss: 2.4997\n",
            "Epoch 94/150, Train Acc: 36.42%, Test Acc: 36.09%\n",
            "Epoch 94/150, Train Loss: 2.4963,  Test Loss: 2.5304\n",
            "Epoch 95/150, Train Acc: 36.39%, Test Acc: 36.81%\n",
            "Epoch 95/150, Train Loss: 2.4957,  Test Loss: 2.5005\n",
            "Epoch 96/150, Train Acc: 36.58%, Test Acc: 36.97%\n",
            "Epoch 96/150, Train Loss: 2.4849,  Test Loss: 2.4964\n",
            "Epoch 97/150, Train Acc: 36.58%, Test Acc: 37.31%\n",
            "Epoch 97/150, Train Loss: 2.4797,  Test Loss: 2.4888\n",
            "Epoch 98/150, Train Acc: 37.10%, Test Acc: 37.30%\n",
            "Epoch 98/150, Train Loss: 2.4732,  Test Loss: 2.4783\n",
            "Epoch 99/150, Train Acc: 37.02%, Test Acc: 36.19%\n",
            "Epoch 99/150, Train Loss: 2.4703,  Test Loss: 2.5210\n",
            "Checkpoint saved at epoch 100: ./checkpoint_epoch_100.pth\n"
          ]
        },
        {
          "data": {
            "application/javascript": [
              "\n",
              "    async function download(id, filename, size) {\n",
              "      if (!google.colab.kernel.accessAllowed) {\n",
              "        return;\n",
              "      }\n",
              "      const div = document.createElement('div');\n",
              "      const label = document.createElement('label');\n",
              "      label.textContent = `Downloading \"${filename}\": `;\n",
              "      div.appendChild(label);\n",
              "      const progress = document.createElement('progress');\n",
              "      progress.max = size;\n",
              "      div.appendChild(progress);\n",
              "      document.body.appendChild(div);\n",
              "\n",
              "      const buffers = [];\n",
              "      let downloaded = 0;\n",
              "\n",
              "      const channel = await google.colab.kernel.comms.open(id);\n",
              "      // Send a message to notify the kernel that we're ready.\n",
              "      channel.send({})\n",
              "\n",
              "      for await (const message of channel.messages) {\n",
              "        // Send a message to notify the kernel that we're ready.\n",
              "        channel.send({})\n",
              "        if (message.buffers) {\n",
              "          for (const buffer of message.buffers) {\n",
              "            buffers.push(buffer);\n",
              "            downloaded += buffer.byteLength;\n",
              "            progress.value = downloaded;\n",
              "          }\n",
              "        }\n",
              "      }\n",
              "      const blob = new Blob(buffers, {type: 'application/binary'});\n",
              "      const a = document.createElement('a');\n",
              "      a.href = window.URL.createObjectURL(blob);\n",
              "      a.download = filename;\n",
              "      div.appendChild(a);\n",
              "      a.click();\n",
              "      div.remove();\n",
              "    }\n",
              "  "
            ],
            "text/plain": [
              "<IPython.core.display.Javascript object>"
            ]
          },
          "metadata": {},
          "output_type": "display_data"
        },
        {
          "data": {
            "application/javascript": [
              "download(\"download_1d5775e8-6fee-4ba6-820b-66126558cff0\", \"checkpoint_epoch_100.pth\", 6530130)"
            ],
            "text/plain": [
              "<IPython.core.display.Javascript object>"
            ]
          },
          "metadata": {},
          "output_type": "display_data"
        },
        {
          "metadata": {
            "tags": null
          },
          "name": "stdout",
          "output_type": "stream",
          "text": [
            "Epoch 100/150, Train Acc: 36.95%, Test Acc: 37.37%\n",
            "Epoch 100/150, Train Loss: 2.4604,  Test Loss: 2.4686\n",
            "Epoch 101/150, Train Acc: 37.19%, Test Acc: 37.22%\n",
            "Epoch 101/150, Train Loss: 2.4600,  Test Loss: 2.4718\n",
            "Epoch 102/150, Train Acc: 37.55%, Test Acc: 37.65%\n",
            "Epoch 102/150, Train Loss: 2.4545,  Test Loss: 2.4658\n",
            "Epoch 103/150, Train Acc: 37.59%, Test Acc: 36.59%\n",
            "Epoch 103/150, Train Loss: 2.4464,  Test Loss: 2.4963\n",
            "Epoch 104/150, Train Acc: 37.51%, Test Acc: 36.99%\n",
            "Epoch 104/150, Train Loss: 2.4505,  Test Loss: 2.4776\n",
            "Epoch 105/150, Train Acc: 37.38%, Test Acc: 38.11%\n",
            "Epoch 105/150, Train Loss: 2.4457,  Test Loss: 2.4493\n",
            "Epoch 106/150, Train Acc: 37.47%, Test Acc: 37.64%\n",
            "Epoch 106/150, Train Loss: 2.4429,  Test Loss: 2.4573\n",
            "Epoch 107/150, Train Acc: 37.82%, Test Acc: 36.88%\n",
            "Epoch 107/150, Train Loss: 2.4241,  Test Loss: 2.4783\n",
            "Epoch 108/150, Train Acc: 37.83%, Test Acc: 38.24%\n",
            "Epoch 108/150, Train Loss: 2.4492,  Test Loss: 2.4447\n",
            "Epoch 109/150, Train Acc: 37.88%, Test Acc: 37.66%\n",
            "Epoch 109/150, Train Loss: 2.4235,  Test Loss: 2.4498\n",
            "Checkpoint saved at epoch 110: ./checkpoint_epoch_110.pth\n"
          ]
        },
        {
          "data": {
            "application/javascript": [
              "\n",
              "    async function download(id, filename, size) {\n",
              "      if (!google.colab.kernel.accessAllowed) {\n",
              "        return;\n",
              "      }\n",
              "      const div = document.createElement('div');\n",
              "      const label = document.createElement('label');\n",
              "      label.textContent = `Downloading \"${filename}\": `;\n",
              "      div.appendChild(label);\n",
              "      const progress = document.createElement('progress');\n",
              "      progress.max = size;\n",
              "      div.appendChild(progress);\n",
              "      document.body.appendChild(div);\n",
              "\n",
              "      const buffers = [];\n",
              "      let downloaded = 0;\n",
              "\n",
              "      const channel = await google.colab.kernel.comms.open(id);\n",
              "      // Send a message to notify the kernel that we're ready.\n",
              "      channel.send({})\n",
              "\n",
              "      for await (const message of channel.messages) {\n",
              "        // Send a message to notify the kernel that we're ready.\n",
              "        channel.send({})\n",
              "        if (message.buffers) {\n",
              "          for (const buffer of message.buffers) {\n",
              "            buffers.push(buffer);\n",
              "            downloaded += buffer.byteLength;\n",
              "            progress.value = downloaded;\n",
              "          }\n",
              "        }\n",
              "      }\n",
              "      const blob = new Blob(buffers, {type: 'application/binary'});\n",
              "      const a = document.createElement('a');\n",
              "      a.href = window.URL.createObjectURL(blob);\n",
              "      a.download = filename;\n",
              "      div.appendChild(a);\n",
              "      a.click();\n",
              "      div.remove();\n",
              "    }\n",
              "  "
            ],
            "text/plain": [
              "<IPython.core.display.Javascript object>"
            ]
          },
          "metadata": {},
          "output_type": "display_data"
        },
        {
          "data": {
            "application/javascript": [
              "download(\"download_13798ede-e8ba-41d5-adec-286c1f61a674\", \"checkpoint_epoch_110.pth\", 6530130)"
            ],
            "text/plain": [
              "<IPython.core.display.Javascript object>"
            ]
          },
          "metadata": {},
          "output_type": "display_data"
        },
        {
          "output_type": "stream",
          "name": "stdout",
          "text": [
            "Epoch 110/150, Train Acc: 38.28%, Test Acc: 37.88%\n",
            "Epoch 110/150, Train Loss: 2.4195,  Test Loss: 2.4332\n",
            "Epoch 111/150, Train Acc: 38.03%, Test Acc: 37.76%\n",
            "Epoch 111/150, Train Loss: 2.4180,  Test Loss: 2.4377\n",
            "Epoch 112/150, Train Acc: 38.25%, Test Acc: 38.03%\n",
            "Epoch 112/150, Train Loss: 2.4150,  Test Loss: 2.4394\n",
            "Epoch 113/150, Train Acc: 38.06%, Test Acc: 37.77%\n",
            "Epoch 113/150, Train Loss: 2.4165,  Test Loss: 2.4423\n",
            "Epoch 114/150, Train Acc: 38.33%, Test Acc: 38.33%\n",
            "Epoch 114/150, Train Loss: 2.4098,  Test Loss: 2.4304\n",
            "Epoch 115/150, Train Acc: 38.62%, Test Acc: 38.20%\n",
            "Epoch 115/150, Train Loss: 2.3967,  Test Loss: 2.4337\n",
            "Epoch 116/150, Train Acc: 38.42%, Test Acc: 38.32%\n",
            "Epoch 116/150, Train Loss: 2.4016,  Test Loss: 2.4339\n",
            "Epoch 117/150, Train Acc: 38.25%, Test Acc: 38.05%\n",
            "Epoch 117/150, Train Loss: 2.4002,  Test Loss: 2.4301\n",
            "Epoch 118/150, Train Acc: 38.49%, Test Acc: 38.12%\n",
            "Epoch 118/150, Train Loss: 2.3906,  Test Loss: 2.4172\n",
            "Epoch 119/150, Train Acc: 38.88%, Test Acc: 38.80%\n",
            "Epoch 119/150, Train Loss: 2.3976,  Test Loss: 2.4104\n",
            "Checkpoint saved at epoch 120: ./checkpoint_epoch_120.pth\n"
          ]
        },
        {
          "output_type": "display_data",
          "data": {
            "text/plain": [
              "<IPython.core.display.Javascript object>"
            ],
            "application/javascript": [
              "\n",
              "    async function download(id, filename, size) {\n",
              "      if (!google.colab.kernel.accessAllowed) {\n",
              "        return;\n",
              "      }\n",
              "      const div = document.createElement('div');\n",
              "      const label = document.createElement('label');\n",
              "      label.textContent = `Downloading \"${filename}\": `;\n",
              "      div.appendChild(label);\n",
              "      const progress = document.createElement('progress');\n",
              "      progress.max = size;\n",
              "      div.appendChild(progress);\n",
              "      document.body.appendChild(div);\n",
              "\n",
              "      const buffers = [];\n",
              "      let downloaded = 0;\n",
              "\n",
              "      const channel = await google.colab.kernel.comms.open(id);\n",
              "      // Send a message to notify the kernel that we're ready.\n",
              "      channel.send({})\n",
              "\n",
              "      for await (const message of channel.messages) {\n",
              "        // Send a message to notify the kernel that we're ready.\n",
              "        channel.send({})\n",
              "        if (message.buffers) {\n",
              "          for (const buffer of message.buffers) {\n",
              "            buffers.push(buffer);\n",
              "            downloaded += buffer.byteLength;\n",
              "            progress.value = downloaded;\n",
              "          }\n",
              "        }\n",
              "      }\n",
              "      const blob = new Blob(buffers, {type: 'application/binary'});\n",
              "      const a = document.createElement('a');\n",
              "      a.href = window.URL.createObjectURL(blob);\n",
              "      a.download = filename;\n",
              "      div.appendChild(a);\n",
              "      a.click();\n",
              "      div.remove();\n",
              "    }\n",
              "  "
            ]
          },
          "metadata": {}
        },
        {
          "output_type": "display_data",
          "data": {
            "text/plain": [
              "<IPython.core.display.Javascript object>"
            ],
            "application/javascript": [
              "download(\"download_6b51766a-e65b-4342-8183-6e93db4f11e5\", \"checkpoint_epoch_120.pth\", 6530130)"
            ]
          },
          "metadata": {}
        },
        {
          "output_type": "stream",
          "name": "stdout",
          "text": [
            "Epoch 120/150, Train Acc: 39.00%, Test Acc: 38.57%\n",
            "Epoch 120/150, Train Loss: 2.3854,  Test Loss: 2.4232\n",
            "Epoch 121/150, Train Acc: 38.60%, Test Acc: 38.19%\n",
            "Epoch 121/150, Train Loss: 2.3940,  Test Loss: 2.4163\n",
            "Epoch 122/150, Train Acc: 39.09%, Test Acc: 38.08%\n",
            "Epoch 122/150, Train Loss: 2.3791,  Test Loss: 2.4127\n",
            "Epoch 123/150, Train Acc: 39.13%, Test Acc: 38.80%\n",
            "Epoch 123/150, Train Loss: 2.3735,  Test Loss: 2.4072\n",
            "Epoch 124/150, Train Acc: 38.85%, Test Acc: 38.80%\n",
            "Epoch 124/150, Train Loss: 2.3757,  Test Loss: 2.4059\n",
            "Epoch 125/150, Train Acc: 39.14%, Test Acc: 38.56%\n",
            "Epoch 125/150, Train Loss: 2.3770,  Test Loss: 2.4067\n",
            "Epoch 126/150, Train Acc: 39.24%, Test Acc: 38.74%\n",
            "Epoch 126/150, Train Loss: 2.3615,  Test Loss: 2.3978\n",
            "Epoch 127/150, Train Acc: 39.30%, Test Acc: 38.77%\n",
            "Epoch 127/150, Train Loss: 2.3629,  Test Loss: 2.4106\n",
            "Epoch 128/150, Train Acc: 39.30%, Test Acc: 38.83%\n",
            "Epoch 128/150, Train Loss: 2.3689,  Test Loss: 2.4097\n",
            "Epoch 129/150, Train Acc: 39.33%, Test Acc: 39.05%\n",
            "Epoch 129/150, Train Loss: 2.3589,  Test Loss: 2.4074\n",
            "Checkpoint saved at epoch 130: ./checkpoint_epoch_130.pth\n"
          ]
        },
        {
          "output_type": "display_data",
          "data": {
            "text/plain": [
              "<IPython.core.display.Javascript object>"
            ],
            "application/javascript": [
              "\n",
              "    async function download(id, filename, size) {\n",
              "      if (!google.colab.kernel.accessAllowed) {\n",
              "        return;\n",
              "      }\n",
              "      const div = document.createElement('div');\n",
              "      const label = document.createElement('label');\n",
              "      label.textContent = `Downloading \"${filename}\": `;\n",
              "      div.appendChild(label);\n",
              "      const progress = document.createElement('progress');\n",
              "      progress.max = size;\n",
              "      div.appendChild(progress);\n",
              "      document.body.appendChild(div);\n",
              "\n",
              "      const buffers = [];\n",
              "      let downloaded = 0;\n",
              "\n",
              "      const channel = await google.colab.kernel.comms.open(id);\n",
              "      // Send a message to notify the kernel that we're ready.\n",
              "      channel.send({})\n",
              "\n",
              "      for await (const message of channel.messages) {\n",
              "        // Send a message to notify the kernel that we're ready.\n",
              "        channel.send({})\n",
              "        if (message.buffers) {\n",
              "          for (const buffer of message.buffers) {\n",
              "            buffers.push(buffer);\n",
              "            downloaded += buffer.byteLength;\n",
              "            progress.value = downloaded;\n",
              "          }\n",
              "        }\n",
              "      }\n",
              "      const blob = new Blob(buffers, {type: 'application/binary'});\n",
              "      const a = document.createElement('a');\n",
              "      a.href = window.URL.createObjectURL(blob);\n",
              "      a.download = filename;\n",
              "      div.appendChild(a);\n",
              "      a.click();\n",
              "      div.remove();\n",
              "    }\n",
              "  "
            ]
          },
          "metadata": {}
        },
        {
          "output_type": "display_data",
          "data": {
            "text/plain": [
              "<IPython.core.display.Javascript object>"
            ],
            "application/javascript": [
              "download(\"download_4c38f02c-4674-48c3-903b-53dbebfbef01\", \"checkpoint_epoch_130.pth\", 6530130)"
            ]
          },
          "metadata": {}
        },
        {
          "output_type": "stream",
          "name": "stdout",
          "text": [
            "Epoch 130/150, Train Acc: 39.31%, Test Acc: 38.44%\n",
            "Epoch 130/150, Train Loss: 2.3540,  Test Loss: 2.4033\n",
            "Epoch 131/150, Train Acc: 39.34%, Test Acc: 39.20%\n",
            "Epoch 131/150, Train Loss: 2.3579,  Test Loss: 2.3905\n",
            "Epoch 132/150, Train Acc: 39.69%, Test Acc: 38.96%\n",
            "Epoch 132/150, Train Loss: 2.3490,  Test Loss: 2.3970\n",
            "Epoch 133/150, Train Acc: 39.54%, Test Acc: 39.05%\n",
            "Epoch 133/150, Train Loss: 2.3535,  Test Loss: 2.3881\n",
            "Epoch 134/150, Train Acc: 39.61%, Test Acc: 38.84%\n",
            "Epoch 134/150, Train Loss: 2.3477,  Test Loss: 2.3872\n",
            "Epoch 135/150, Train Acc: 39.69%, Test Acc: 38.73%\n",
            "Epoch 135/150, Train Loss: 2.3456,  Test Loss: 2.3981\n",
            "Epoch 136/150, Train Acc: 39.80%, Test Acc: 39.22%\n",
            "Epoch 136/150, Train Loss: 2.3364,  Test Loss: 2.3817\n",
            "Epoch 137/150, Train Acc: 39.90%, Test Acc: 39.09%\n",
            "Epoch 137/150, Train Loss: 2.3389,  Test Loss: 2.3822\n",
            "Epoch 138/150, Train Acc: 39.84%, Test Acc: 39.15%\n",
            "Epoch 138/150, Train Loss: 2.3390,  Test Loss: 2.3800\n",
            "Epoch 139/150, Train Acc: 39.89%, Test Acc: 39.24%\n",
            "Epoch 139/150, Train Loss: 2.3403,  Test Loss: 2.3763\n",
            "Checkpoint saved at epoch 140: ./checkpoint_epoch_140.pth\n"
          ]
        },
        {
          "output_type": "display_data",
          "data": {
            "text/plain": [
              "<IPython.core.display.Javascript object>"
            ],
            "application/javascript": [
              "\n",
              "    async function download(id, filename, size) {\n",
              "      if (!google.colab.kernel.accessAllowed) {\n",
              "        return;\n",
              "      }\n",
              "      const div = document.createElement('div');\n",
              "      const label = document.createElement('label');\n",
              "      label.textContent = `Downloading \"${filename}\": `;\n",
              "      div.appendChild(label);\n",
              "      const progress = document.createElement('progress');\n",
              "      progress.max = size;\n",
              "      div.appendChild(progress);\n",
              "      document.body.appendChild(div);\n",
              "\n",
              "      const buffers = [];\n",
              "      let downloaded = 0;\n",
              "\n",
              "      const channel = await google.colab.kernel.comms.open(id);\n",
              "      // Send a message to notify the kernel that we're ready.\n",
              "      channel.send({})\n",
              "\n",
              "      for await (const message of channel.messages) {\n",
              "        // Send a message to notify the kernel that we're ready.\n",
              "        channel.send({})\n",
              "        if (message.buffers) {\n",
              "          for (const buffer of message.buffers) {\n",
              "            buffers.push(buffer);\n",
              "            downloaded += buffer.byteLength;\n",
              "            progress.value = downloaded;\n",
              "          }\n",
              "        }\n",
              "      }\n",
              "      const blob = new Blob(buffers, {type: 'application/binary'});\n",
              "      const a = document.createElement('a');\n",
              "      a.href = window.URL.createObjectURL(blob);\n",
              "      a.download = filename;\n",
              "      div.appendChild(a);\n",
              "      a.click();\n",
              "      div.remove();\n",
              "    }\n",
              "  "
            ]
          },
          "metadata": {}
        },
        {
          "output_type": "display_data",
          "data": {
            "text/plain": [
              "<IPython.core.display.Javascript object>"
            ],
            "application/javascript": [
              "download(\"download_6686f814-d508-45ca-b96e-d53471ee82b8\", \"checkpoint_epoch_140.pth\", 6530130)"
            ]
          },
          "metadata": {}
        },
        {
          "output_type": "stream",
          "name": "stdout",
          "text": [
            "Epoch 140/150, Train Acc: 39.82%, Test Acc: 39.39%\n",
            "Epoch 140/150, Train Loss: 2.3381,  Test Loss: 2.3749\n",
            "Epoch 141/150, Train Acc: 39.84%, Test Acc: 39.21%\n",
            "Epoch 141/150, Train Loss: 2.3269,  Test Loss: 2.3785\n",
            "Epoch 142/150, Train Acc: 40.19%, Test Acc: 39.43%\n",
            "Epoch 142/150, Train Loss: 2.3314,  Test Loss: 2.3773\n",
            "Epoch 143/150, Train Acc: 40.07%, Test Acc: 39.19%\n",
            "Epoch 143/150, Train Loss: 2.3266,  Test Loss: 2.3697\n",
            "Epoch 144/150, Train Acc: 40.22%, Test Acc: 39.51%\n",
            "Epoch 144/150, Train Loss: 2.3315,  Test Loss: 2.3729\n",
            "Epoch 145/150, Train Acc: 40.25%, Test Acc: 39.32%\n",
            "Epoch 145/150, Train Loss: 2.3262,  Test Loss: 2.3753\n",
            "Epoch 146/150, Train Acc: 40.29%, Test Acc: 39.22%\n",
            "Epoch 146/150, Train Loss: 2.3213,  Test Loss: 2.3758\n",
            "Epoch 147/150, Train Acc: 40.27%, Test Acc: 39.47%\n",
            "Epoch 147/150, Train Loss: 2.3220,  Test Loss: 2.3678\n",
            "Epoch 148/150, Train Acc: 40.32%, Test Acc: 39.45%\n",
            "Epoch 148/150, Train Loss: 2.3271,  Test Loss: 2.3676\n",
            "Epoch 149/150, Train Acc: 40.18%, Test Acc: 39.44%\n",
            "Epoch 149/150, Train Loss: 2.3169,  Test Loss: 2.3698\n",
            "Checkpoint saved at epoch 150: ./checkpoint_epoch_150.pth\n"
          ]
        },
        {
          "output_type": "display_data",
          "data": {
            "text/plain": [
              "<IPython.core.display.Javascript object>"
            ],
            "application/javascript": [
              "\n",
              "    async function download(id, filename, size) {\n",
              "      if (!google.colab.kernel.accessAllowed) {\n",
              "        return;\n",
              "      }\n",
              "      const div = document.createElement('div');\n",
              "      const label = document.createElement('label');\n",
              "      label.textContent = `Downloading \"${filename}\": `;\n",
              "      div.appendChild(label);\n",
              "      const progress = document.createElement('progress');\n",
              "      progress.max = size;\n",
              "      div.appendChild(progress);\n",
              "      document.body.appendChild(div);\n",
              "\n",
              "      const buffers = [];\n",
              "      let downloaded = 0;\n",
              "\n",
              "      const channel = await google.colab.kernel.comms.open(id);\n",
              "      // Send a message to notify the kernel that we're ready.\n",
              "      channel.send({})\n",
              "\n",
              "      for await (const message of channel.messages) {\n",
              "        // Send a message to notify the kernel that we're ready.\n",
              "        channel.send({})\n",
              "        if (message.buffers) {\n",
              "          for (const buffer of message.buffers) {\n",
              "            buffers.push(buffer);\n",
              "            downloaded += buffer.byteLength;\n",
              "            progress.value = downloaded;\n",
              "          }\n",
              "        }\n",
              "      }\n",
              "      const blob = new Blob(buffers, {type: 'application/binary'});\n",
              "      const a = document.createElement('a');\n",
              "      a.href = window.URL.createObjectURL(blob);\n",
              "      a.download = filename;\n",
              "      div.appendChild(a);\n",
              "      a.click();\n",
              "      div.remove();\n",
              "    }\n",
              "  "
            ]
          },
          "metadata": {}
        },
        {
          "output_type": "display_data",
          "data": {
            "text/plain": [
              "<IPython.core.display.Javascript object>"
            ],
            "application/javascript": [
              "download(\"download_72ec8770-a081-4971-b78d-14e885353ad7\", \"checkpoint_epoch_150.pth\", 6530130)"
            ]
          },
          "metadata": {}
        },
        {
          "output_type": "stream",
          "name": "stdout",
          "text": [
            "Epoch 150/150, Train Acc: 40.34%, Test Acc: 39.33%\n",
            "Epoch 150/150, Train Loss: 2.3201,  Test Loss: 2.3699\n"
          ]
        },
        {
          "output_type": "display_data",
          "data": {
            "text/plain": [
              "<Figure size 600x400 with 1 Axes>"
            ],
            "image/png": "[encoded data removed]"
          },
          "metadata": {}
        },
        {
          "output_type": "display_data",
          "data": {
            "text/plain": [
              "<Figure size 600x400 with 1 Axes>"
            ],
            "image/png": "[encoded data removed]"
          },
          "metadata": {}
        },
        {
          "output_type": "display_data",
          "data": {
            "text/plain": [
              "<Figure size 600x400 with 1 Axes>"
            ],
            "image/png": "[encoded data removed]"
          },
          "metadata": {}
        },
        {
          "output_type": "display_data",
          "data": {
            "text/plain": [
              "<Figure size 600x400 with 1 Axes>"
            ],
            "image/png": "[encoded data removed]"
          },
          "metadata": {}
        },
        {
          "output_type": "display_data",
          "data": {
            "text/plain": [
              "<Figure size 640x480 with 0 Axes>"
            ]
          },
          "metadata": {}
        }
      ]
    }
  ]
}