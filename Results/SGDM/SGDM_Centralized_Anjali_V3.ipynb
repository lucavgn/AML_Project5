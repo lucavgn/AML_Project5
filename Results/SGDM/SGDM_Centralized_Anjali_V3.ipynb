{
  "cells": [
    {
      "cell_type": "code",
      "execution_count": 1,
      "metadata": {
        "colab": {
          "base_uri": "https://localhost:8080/",
          "height": 1000
        },
        "id": "OXtKbnOAeMli",
        "outputId": "01868904-7517-472e-df24-4584b13197b0"
      },
      "outputs": [
        {
          "metadata": {
            "tags": null
          },
          "name": "stdout",
          "output_type": "stream",
          "text": [
            "Downloading https://www.cs.toronto.edu/~kriz/cifar-100-python.tar.gz to ./data/cifar-100-python.tar.gz\n"
          ]
        },
        {
          "metadata": {
            "tags": null
          },
          "name": "stderr",
          "output_type": "stream",
          "text": [
            "100%|██████████| 169M/169M [00:16<00:00, 10.2MB/s]\n"
          ]
        },
        {
          "metadata": {
            "tags": null
          },
          "name": "stdout",
          "output_type": "stream",
          "text": [
            "Extracting ./data/cifar-100-python.tar.gz to ./data\n",
            "Files already downloaded and verified\n",
            "Files already downloaded and verified\n",
            "Files already downloaded and verified\n",
            "--- Train with sgdm ---\n",
            "Epoch 1/150, Loss: 4.3401, Train Acc: 4.28%, Val Acc: 9.26%, Test Acc: 9.28%                        \n",
            "Epoch 2/150, Loss: 3.9484, Train Acc: 9.47%, Val Acc: 14.13%, Test Acc: 13.51%                        \n",
            "Epoch 3/150, Loss: 3.7086, Train Acc: 13.11%, Val Acc: 18.30%, Test Acc: 18.14%                        \n",
            "Epoch 4/150, Loss: 3.5163, Train Acc: 16.39%, Val Acc: 20.99%, Test Acc: 20.73%                        \n",
            "Epoch 5/150, Loss: 3.3625, Train Acc: 19.23%, Val Acc: 24.79%, Test Acc: 24.36%                        \n",
            "Epoch 6/150, Loss: 3.2249, Train Acc: 21.79%, Val Acc: 27.37%, Test Acc: 27.67%                        \n",
            "Epoch 7/150, Loss: 3.1173, Train Acc: 23.83%, Val Acc: 28.69%, Test Acc: 28.60%                        \n",
            "Epoch 8/150, Loss: 3.0177, Train Acc: 25.40%, Val Acc: 30.33%, Test Acc: 30.89%                        \n",
            "Epoch 9/150, Loss: 2.9462, Train Acc: 26.79%, Val Acc: 31.04%, Test Acc: 31.22%                        \n",
            "Checkpoint saved at epoch 10: ./checkpoint_epoch_10.pth\n"
          ]
        },
        {
          "data": {
            "application/javascript": [
              "\n",
              "    async function download(id, filename, size) {\n",
              "      if (!google.colab.kernel.accessAllowed) {\n",
              "        return;\n",
              "      }\n",
              "      const div = document.createElement('div');\n",
              "      const label = document.createElement('label');\n",
              "      label.textContent = `Downloading \"${filename}\": `;\n",
              "      div.appendChild(label);\n",
              "      const progress = document.createElement('progress');\n",
              "      progress.max = size;\n",
              "      div.appendChild(progress);\n",
              "      document.body.appendChild(div);\n",
              "\n",
              "      const buffers = [];\n",
              "      let downloaded = 0;\n",
              "\n",
              "      const channel = await google.colab.kernel.comms.open(id);\n",
              "      // Send a message to notify the kernel that we're ready.\n",
              "      channel.send({})\n",
              "\n",
              "      for await (const message of channel.messages) {\n",
              "        // Send a message to notify the kernel that we're ready.\n",
              "        channel.send({})\n",
              "        if (message.buffers) {\n",
              "          for (const buffer of message.buffers) {\n",
              "            buffers.push(buffer);\n",
              "            downloaded += buffer.byteLength;\n",
              "            progress.value = downloaded;\n",
              "          }\n",
              "        }\n",
              "      }\n",
              "      const blob = new Blob(buffers, {type: 'application/binary'});\n",
              "      const a = document.createElement('a');\n",
              "      a.href = window.URL.createObjectURL(blob);\n",
              "      a.download = filename;\n",
              "      div.appendChild(a);\n",
              "      a.click();\n",
              "      div.remove();\n",
              "    }\n",
              "  "
            ],
            "text/plain": [
              "<IPython.core.display.Javascript object>"
            ]
          },
          "metadata": {},
          "output_type": "display_data"
        },
        {
          "data": {
            "application/javascript": [
              "download(\"download_5f63176b-220c-45cd-b55b-c0375a606eff\", \"checkpoint_epoch_10.pth\", 6529850)"
            ],
            "text/plain": [
              "<IPython.core.display.Javascript object>"
            ]
          },
          "metadata": {},
          "output_type": "display_data"
        },
        {
          "metadata": {
            "tags": null
          },
          "name": "stdout",
          "output_type": "stream",
          "text": [
            "Epoch 10/150, Loss: 2.8802, Train Acc: 28.11%, Val Acc: 33.27%, Test Acc: 33.45%                        \n",
            "Epoch 11/150, Loss: 2.8108, Train Acc: 29.71%, Val Acc: 34.13%, Test Acc: 34.20%                        \n",
            "Epoch 12/150, Loss: 2.7693, Train Acc: 30.54%, Val Acc: 34.88%, Test Acc: 34.97%                        \n",
            "Epoch 13/150, Loss: 2.7218, Train Acc: 31.39%, Val Acc: 35.91%, Test Acc: 35.74%                        \n",
            "Epoch 14/150, Loss: 2.6647, Train Acc: 32.29%, Val Acc: 34.86%, Test Acc: 35.92%                        \n",
            "Epoch 15/150, Loss: 2.6247, Train Acc: 33.37%, Val Acc: 37.86%, Test Acc: 38.17%                        \n",
            "Epoch 16/150, Loss: 2.5973, Train Acc: 33.78%, Val Acc: 36.83%, Test Acc: 37.03%                        \n",
            "Epoch 17/150, Loss: 2.5635, Train Acc: 34.65%, Val Acc: 38.22%, Test Acc: 38.75%                        \n",
            "Epoch 18/150, Loss: 2.5164, Train Acc: 35.35%, Val Acc: 38.25%, Test Acc: 39.09%                        \n",
            "Epoch 19/150, Loss: 2.5003, Train Acc: 36.22%, Val Acc: 37.97%, Test Acc: 37.98%                        \n",
            "Checkpoint saved at epoch 20: ./checkpoint_epoch_20.pth\n"
          ]
        },
        {
          "data": {
            "application/javascript": [
              "\n",
              "    async function download(id, filename, size) {\n",
              "      if (!google.colab.kernel.accessAllowed) {\n",
              "        return;\n",
              "      }\n",
              "      const div = document.createElement('div');\n",
              "      const label = document.createElement('label');\n",
              "      label.textContent = `Downloading \"${filename}\": `;\n",
              "      div.appendChild(label);\n",
              "      const progress = document.createElement('progress');\n",
              "      progress.max = size;\n",
              "      div.appendChild(progress);\n",
              "      document.body.appendChild(div);\n",
              "\n",
              "      const buffers = [];\n",
              "      let downloaded = 0;\n",
              "\n",
              "      const channel = await google.colab.kernel.comms.open(id);\n",
              "      // Send a message to notify the kernel that we're ready.\n",
              "      channel.send({})\n",
              "\n",
              "      for await (const message of channel.messages) {\n",
              "        // Send a message to notify the kernel that we're ready.\n",
              "        channel.send({})\n",
              "        if (message.buffers) {\n",
              "          for (const buffer of message.buffers) {\n",
              "            buffers.push(buffer);\n",
              "            downloaded += buffer.byteLength;\n",
              "            progress.value = downloaded;\n",
              "          }\n",
              "        }\n",
              "      }\n",
              "      const blob = new Blob(buffers, {type: 'application/binary'});\n",
              "      const a = document.createElement('a');\n",
              "      a.href = window.URL.createObjectURL(blob);\n",
              "      a.download = filename;\n",
              "      div.appendChild(a);\n",
              "      a.click();\n",
              "      div.remove();\n",
              "    }\n",
              "  "
            ],
            "text/plain": [
              "<IPython.core.display.Javascript object>"
            ]
          },
          "metadata": {},
          "output_type": "display_data"
        },
        {
          "data": {
            "application/javascript": [
              "download(\"download_3f2f7b32-9bbc-495b-ac4c-6163d5d82166\", \"checkpoint_epoch_20.pth\", 6529850)"
            ],
            "text/plain": [
              "<IPython.core.display.Javascript object>"
            ]
          },
          "metadata": {},
          "output_type": "display_data"
        },
        {
          "metadata": {
            "tags": null
          },
          "name": "stdout",
          "output_type": "stream",
          "text": [
            "Epoch 20/150, Loss: 2.4676, Train Acc: 36.69%, Val Acc: 39.01%, Test Acc: 38.97%                        \n",
            "Epoch 21/150, Loss: 2.4380, Train Acc: 37.45%, Val Acc: 39.42%, Test Acc: 38.81%                        \n",
            "Epoch 22/150, Loss: 2.4165, Train Acc: 37.76%, Val Acc: 39.75%, Test Acc: 39.35%                        \n",
            "Epoch 23/150, Loss: 2.4024, Train Acc: 38.11%, Val Acc: 40.74%, Test Acc: 41.47%                        \n",
            "Epoch 24/150, Loss: 2.3682, Train Acc: 38.73%, Val Acc: 40.89%, Test Acc: 41.51%                        \n",
            "Epoch 25/150, Loss: 2.3410, Train Acc: 39.26%, Val Acc: 41.47%, Test Acc: 41.59%                        \n",
            "Epoch 26/150, Loss: 2.3314, Train Acc: 39.40%, Val Acc: 41.48%, Test Acc: 41.86%                        \n",
            "Epoch 27/150, Loss: 2.3125, Train Acc: 40.12%, Val Acc: 41.59%, Test Acc: 41.84%                        \n",
            "Epoch 28/150, Loss: 2.2954, Train Acc: 40.55%, Val Acc: 41.73%, Test Acc: 42.40%                        \n",
            "Epoch 29/150, Loss: 2.2664, Train Acc: 40.99%, Val Acc: 40.72%, Test Acc: 41.15%                        \n",
            "Checkpoint saved at epoch 30: ./checkpoint_epoch_30.pth\n"
          ]
        },
        {
          "data": {
            "application/javascript": [
              "\n",
              "    async function download(id, filename, size) {\n",
              "      if (!google.colab.kernel.accessAllowed) {\n",
              "        return;\n",
              "      }\n",
              "      const div = document.createElement('div');\n",
              "      const label = document.createElement('label');\n",
              "      label.textContent = `Downloading \"${filename}\": `;\n",
              "      div.appendChild(label);\n",
              "      const progress = document.createElement('progress');\n",
              "      progress.max = size;\n",
              "      div.appendChild(progress);\n",
              "      document.body.appendChild(div);\n",
              "\n",
              "      const buffers = [];\n",
              "      let downloaded = 0;\n",
              "\n",
              "      const channel = await google.colab.kernel.comms.open(id);\n",
              "      // Send a message to notify the kernel that we're ready.\n",
              "      channel.send({})\n",
              "\n",
              "      for await (const message of channel.messages) {\n",
              "        // Send a message to notify the kernel that we're ready.\n",
              "        channel.send({})\n",
              "        if (message.buffers) {\n",
              "          for (const buffer of message.buffers) {\n",
              "            buffers.push(buffer);\n",
              "            downloaded += buffer.byteLength;\n",
              "            progress.value = downloaded;\n",
              "          }\n",
              "        }\n",
              "      }\n",
              "      const blob = new Blob(buffers, {type: 'application/binary'});\n",
              "      const a = document.createElement('a');\n",
              "      a.href = window.URL.createObjectURL(blob);\n",
              "      a.download = filename;\n",
              "      div.appendChild(a);\n",
              "      a.click();\n",
              "      div.remove();\n",
              "    }\n",
              "  "
            ],
            "text/plain": [
              "<IPython.core.display.Javascript object>"
            ]
          },
          "metadata": {},
          "output_type": "display_data"
        },
        {
          "data": {
            "application/javascript": [
              "download(\"download_14fb8c07-9384-4525-b200-abd6cf272d88\", \"checkpoint_epoch_30.pth\", 6529850)"
            ],
            "text/plain": [
              "<IPython.core.display.Javascript object>"
            ]
          },
          "metadata": {},
          "output_type": "display_data"
        },
        {
          "metadata": {
            "tags": null
          },
          "name": "stdout",
          "output_type": "stream",
          "text": [
            "Epoch 30/150, Loss: 2.2651, Train Acc: 40.64%, Val Acc: 42.20%, Test Acc: 42.25%                        \n",
            "Epoch 31/150, Loss: 2.2431, Train Acc: 41.28%, Val Acc: 42.91%, Test Acc: 42.86%                        \n",
            "Epoch 32/150, Loss: 2.2204, Train Acc: 41.85%, Val Acc: 42.46%, Test Acc: 42.70%                        \n",
            "Epoch 33/150, Loss: 2.1931, Train Acc: 42.25%, Val Acc: 43.17%, Test Acc: 42.96%                        \n",
            "Epoch 34/150, Loss: 2.1970, Train Acc: 42.42%, Val Acc: 43.60%, Test Acc: 43.95%                        \n",
            "Epoch 35/150, Loss: 2.1690, Train Acc: 42.86%, Val Acc: 42.48%, Test Acc: 43.98%                        \n",
            "Epoch 36/150, Loss: 2.1571, Train Acc: 43.41%, Val Acc: 44.53%, Test Acc: 44.30%                        \n",
            "Epoch 37/150, Loss: 2.1415, Train Acc: 43.64%, Val Acc: 43.80%, Test Acc: 43.22%                        \n",
            "Epoch 38/150, Loss: 2.1502, Train Acc: 43.17%, Val Acc: 43.65%, Test Acc: 44.29%                        \n",
            "Epoch 39/150, Loss: 2.0986, Train Acc: 44.37%, Val Acc: 44.16%, Test Acc: 43.98%                        \n",
            "Checkpoint saved at epoch 40: ./checkpoint_epoch_40.pth\n"
          ]
        },
        {
          "data": {
            "application/javascript": [
              "\n",
              "    async function download(id, filename, size) {\n",
              "      if (!google.colab.kernel.accessAllowed) {\n",
              "        return;\n",
              "      }\n",
              "      const div = document.createElement('div');\n",
              "      const label = document.createElement('label');\n",
              "      label.textContent = `Downloading \"${filename}\": `;\n",
              "      div.appendChild(label);\n",
              "      const progress = document.createElement('progress');\n",
              "      progress.max = size;\n",
              "      div.appendChild(progress);\n",
              "      document.body.appendChild(div);\n",
              "\n",
              "      const buffers = [];\n",
              "      let downloaded = 0;\n",
              "\n",
              "      const channel = await google.colab.kernel.comms.open(id);\n",
              "      // Send a message to notify the kernel that we're ready.\n",
              "      channel.send({})\n",
              "\n",
              "      for await (const message of channel.messages) {\n",
              "        // Send a message to notify the kernel that we're ready.\n",
              "        channel.send({})\n",
              "        if (message.buffers) {\n",
              "          for (const buffer of message.buffers) {\n",
              "            buffers.push(buffer);\n",
              "            downloaded += buffer.byteLength;\n",
              "            progress.value = downloaded;\n",
              "          }\n",
              "        }\n",
              "      }\n",
              "      const blob = new Blob(buffers, {type: 'application/binary'});\n",
              "      const a = document.createElement('a');\n",
              "      a.href = window.URL.createObjectURL(blob);\n",
              "      a.download = filename;\n",
              "      div.appendChild(a);\n",
              "      a.click();\n",
              "      div.remove();\n",
              "    }\n",
              "  "
            ],
            "text/plain": [
              "<IPython.core.display.Javascript object>"
            ]
          },
          "metadata": {},
          "output_type": "display_data"
        },
        {
          "data": {
            "application/javascript": [
              "download(\"download_7d0af769-4565-4163-9138-0f1fe5edda70\", \"checkpoint_epoch_40.pth\", 6529850)"
            ],
            "text/plain": [
              "<IPython.core.display.Javascript object>"
            ]
          },
          "metadata": {},
          "output_type": "display_data"
        },
        {
          "metadata": {
            "tags": null
          },
          "name": "stdout",
          "output_type": "stream",
          "text": [
            "Epoch 40/150, Loss: 2.1037, Train Acc: 44.40%, Val Acc: 43.03%, Test Acc: 42.74%                        \n",
            "Epoch 41/150, Loss: 2.0775, Train Acc: 45.08%, Val Acc: 43.25%, Test Acc: 44.01%                        \n",
            "Epoch 42/150, Loss: 2.0636, Train Acc: 45.32%, Val Acc: 44.62%, Test Acc: 45.17%                        \n",
            "Epoch 43/150, Loss: 2.0739, Train Acc: 45.16%, Val Acc: 44.77%, Test Acc: 44.45%                        \n",
            "Epoch 44/150, Loss: 2.0396, Train Acc: 45.78%, Val Acc: 44.55%, Test Acc: 43.92%                        \n",
            "Epoch 45/150, Loss: 2.0278, Train Acc: 46.12%, Val Acc: 45.19%, Test Acc: 45.93%                        \n",
            "Epoch 46/150, Loss: 2.0088, Train Acc: 45.91%, Val Acc: 46.03%, Test Acc: 46.61%                        \n",
            "Epoch 47/150, Loss: 2.0012, Train Acc: 46.52%, Val Acc: 45.35%, Test Acc: 45.59%                        \n",
            "Epoch 48/150, Loss: 1.9896, Train Acc: 46.85%, Val Acc: 44.30%, Test Acc: 45.22%                        \n",
            "Epoch 49/150, Loss: 1.9840, Train Acc: 46.80%, Val Acc: 45.00%, Test Acc: 45.81%                        \n",
            "Checkpoint saved at epoch 50: ./checkpoint_epoch_50.pth\n"
          ]
        },
        {
          "data": {
            "application/javascript": [
              "\n",
              "    async function download(id, filename, size) {\n",
              "      if (!google.colab.kernel.accessAllowed) {\n",
              "        return;\n",
              "      }\n",
              "      const div = document.createElement('div');\n",
              "      const label = document.createElement('label');\n",
              "      label.textContent = `Downloading \"${filename}\": `;\n",
              "      div.appendChild(label);\n",
              "      const progress = document.createElement('progress');\n",
              "      progress.max = size;\n",
              "      div.appendChild(progress);\n",
              "      document.body.appendChild(div);\n",
              "\n",
              "      const buffers = [];\n",
              "      let downloaded = 0;\n",
              "\n",
              "      const channel = await google.colab.kernel.comms.open(id);\n",
              "      // Send a message to notify the kernel that we're ready.\n",
              "      channel.send({})\n",
              "\n",
              "      for await (const message of channel.messages) {\n",
              "        // Send a message to notify the kernel that we're ready.\n",
              "        channel.send({})\n",
              "        if (message.buffers) {\n",
              "          for (const buffer of message.buffers) {\n",
              "            buffers.push(buffer);\n",
              "            downloaded += buffer.byteLength;\n",
              "            progress.value = downloaded;\n",
              "          }\n",
              "        }\n",
              "      }\n",
              "      const blob = new Blob(buffers, {type: 'application/binary'});\n",
              "      const a = document.createElement('a');\n",
              "      a.href = window.URL.createObjectURL(blob);\n",
              "      a.download = filename;\n",
              "      div.appendChild(a);\n",
              "      a.click();\n",
              "      div.remove();\n",
              "    }\n",
              "  "
            ],
            "text/plain": [
              "<IPython.core.display.Javascript object>"
            ]
          },
          "metadata": {},
          "output_type": "display_data"
        },
        {
          "data": {
            "application/javascript": [
              "download(\"download_e46eaac7-1b30-45cb-892b-62cae1c158b8\", \"checkpoint_epoch_50.pth\", 6529850)"
            ],
            "text/plain": [
              "<IPython.core.display.Javascript object>"
            ]
          },
          "metadata": {},
          "output_type": "display_data"
        },
        {
          "metadata": {
            "tags": null
          },
          "name": "stdout",
          "output_type": "stream",
          "text": [
            "Epoch 50/150, Loss: 1.9639, Train Acc: 47.44%, Val Acc: 45.04%, Test Acc: 44.97%                        \n",
            "Epoch 51/150, Loss: 1.9565, Train Acc: 47.49%, Val Acc: 44.29%, Test Acc: 44.46%                        \n",
            "Epoch 52/150, Loss: 1.9471, Train Acc: 47.80%, Val Acc: 46.41%, Test Acc: 47.21%                        \n",
            "Epoch 53/150, Loss: 1.9351, Train Acc: 48.19%, Val Acc: 46.60%, Test Acc: 46.94%                        \n",
            "Epoch 54/150, Loss: 1.9272, Train Acc: 48.22%, Val Acc: 46.42%, Test Acc: 46.83%                        \n",
            "Epoch 55/150, Loss: 1.9047, Train Acc: 48.83%, Val Acc: 46.41%, Test Acc: 47.52%                        \n",
            "Epoch 56/150, Loss: 1.8946, Train Acc: 48.91%, Val Acc: 45.26%, Test Acc: 45.94%                        \n",
            "Epoch 57/150, Loss: 1.8721, Train Acc: 49.29%, Val Acc: 46.83%, Test Acc: 47.19%                        \n",
            "Epoch 58/150, Loss: 1.8598, Train Acc: 49.63%, Val Acc: 46.29%, Test Acc: 46.98%                        \n",
            "Epoch 59/150, Loss: 1.8483, Train Acc: 50.13%, Val Acc: 47.16%, Test Acc: 47.49%                        \n",
            "Checkpoint saved at epoch 60: ./checkpoint_epoch_60.pth\n"
          ]
        },
        {
          "data": {
            "application/javascript": [
              "\n",
              "    async function download(id, filename, size) {\n",
              "      if (!google.colab.kernel.accessAllowed) {\n",
              "        return;\n",
              "      }\n",
              "      const div = document.createElement('div');\n",
              "      const label = document.createElement('label');\n",
              "      label.textContent = `Downloading \"${filename}\": `;\n",
              "      div.appendChild(label);\n",
              "      const progress = document.createElement('progress');\n",
              "      progress.max = size;\n",
              "      div.appendChild(progress);\n",
              "      document.body.appendChild(div);\n",
              "\n",
              "      const buffers = [];\n",
              "      let downloaded = 0;\n",
              "\n",
              "      const channel = await google.colab.kernel.comms.open(id);\n",
              "      // Send a message to notify the kernel that we're ready.\n",
              "      channel.send({})\n",
              "\n",
              "      for await (const message of channel.messages) {\n",
              "        // Send a message to notify the kernel that we're ready.\n",
              "        channel.send({})\n",
              "        if (message.buffers) {\n",
              "          for (const buffer of message.buffers) {\n",
              "            buffers.push(buffer);\n",
              "            downloaded += buffer.byteLength;\n",
              "            progress.value = downloaded;\n",
              "          }\n",
              "        }\n",
              "      }\n",
              "      const blob = new Blob(buffers, {type: 'application/binary'});\n",
              "      const a = document.createElement('a');\n",
              "      a.href = window.URL.createObjectURL(blob);\n",
              "      a.download = filename;\n",
              "      div.appendChild(a);\n",
              "      a.click();\n",
              "      div.remove();\n",
              "    }\n",
              "  "
            ],
            "text/plain": [
              "<IPython.core.display.Javascript object>"
            ]
          },
          "metadata": {},
          "output_type": "display_data"
        },
        {
          "data": {
            "application/javascript": [
              "download(\"download_2ea14a59-df11-4e96-bf43-cc7783a7dfb5\", \"checkpoint_epoch_60.pth\", 6529850)"
            ],
            "text/plain": [
              "<IPython.core.display.Javascript object>"
            ]
          },
          "metadata": {},
          "output_type": "display_data"
        },
        {
          "metadata": {
            "tags": null
          },
          "name": "stdout",
          "output_type": "stream",
          "text": [
            "Epoch 60/150, Loss: 1.8548, Train Acc: 50.21%, Val Acc: 45.79%, Test Acc: 46.10%                        \n",
            "Epoch 61/150, Loss: 1.8336, Train Acc: 50.55%, Val Acc: 46.17%, Test Acc: 47.13%                        \n",
            "Epoch 62/150, Loss: 1.8013, Train Acc: 51.00%, Val Acc: 46.81%, Test Acc: 47.27%                        \n",
            "Epoch 63/150, Loss: 1.8081, Train Acc: 50.83%, Val Acc: 46.48%, Test Acc: 47.83%                        \n",
            "Epoch 64/150, Loss: 1.7976, Train Acc: 51.20%, Val Acc: 46.73%, Test Acc: 47.14%                        \n",
            "Epoch 65/150, Loss: 1.7762, Train Acc: 51.64%, Val Acc: 46.81%, Test Acc: 48.03%                        \n",
            "Epoch 66/150, Loss: 1.7666, Train Acc: 51.91%, Val Acc: 47.45%, Test Acc: 47.69%                        \n",
            "Epoch 67/150, Loss: 1.7616, Train Acc: 52.19%, Val Acc: 47.51%, Test Acc: 48.23%                        \n",
            "Epoch 68/150, Loss: 1.7438, Train Acc: 52.58%, Val Acc: 48.43%, Test Acc: 48.47%                        \n",
            "Epoch 69/150, Loss: 1.7294, Train Acc: 53.09%, Val Acc: 48.09%, Test Acc: 48.59%                        \n",
            "Checkpoint saved at epoch 70: ./checkpoint_epoch_70.pth\n"
          ]
        },
        {
          "data": {
            "application/javascript": [
              "\n",
              "    async function download(id, filename, size) {\n",
              "      if (!google.colab.kernel.accessAllowed) {\n",
              "        return;\n",
              "      }\n",
              "      const div = document.createElement('div');\n",
              "      const label = document.createElement('label');\n",
              "      label.textContent = `Downloading \"${filename}\": `;\n",
              "      div.appendChild(label);\n",
              "      const progress = document.createElement('progress');\n",
              "      progress.max = size;\n",
              "      div.appendChild(progress);\n",
              "      document.body.appendChild(div);\n",
              "\n",
              "      const buffers = [];\n",
              "      let downloaded = 0;\n",
              "\n",
              "      const channel = await google.colab.kernel.comms.open(id);\n",
              "      // Send a message to notify the kernel that we're ready.\n",
              "      channel.send({})\n",
              "\n",
              "      for await (const message of channel.messages) {\n",
              "        // Send a message to notify the kernel that we're ready.\n",
              "        channel.send({})\n",
              "        if (message.buffers) {\n",
              "          for (const buffer of message.buffers) {\n",
              "            buffers.push(buffer);\n",
              "            downloaded += buffer.byteLength;\n",
              "            progress.value = downloaded;\n",
              "          }\n",
              "        }\n",
              "      }\n",
              "      const blob = new Blob(buffers, {type: 'application/binary'});\n",
              "      const a = document.createElement('a');\n",
              "      a.href = window.URL.createObjectURL(blob);\n",
              "      a.download = filename;\n",
              "      div.appendChild(a);\n",
              "      a.click();\n",
              "      div.remove();\n",
              "    }\n",
              "  "
            ],
            "text/plain": [
              "<IPython.core.display.Javascript object>"
            ]
          },
          "metadata": {},
          "output_type": "display_data"
        },
        {
          "data": {
            "application/javascript": [
              "download(\"download_d56d7c6c-1356-4280-86f6-9d49c46b3812\", \"checkpoint_epoch_70.pth\", 6529850)"
            ],
            "text/plain": [
              "<IPython.core.display.Javascript object>"
            ]
          },
          "metadata": {},
          "output_type": "display_data"
        },
        {
          "metadata": {
            "tags": null
          },
          "name": "stdout",
          "output_type": "stream",
          "text": [
            "Epoch 70/150, Loss: 1.7201, Train Acc: 53.04%, Val Acc: 48.63%, Test Acc: 48.98%                        \n",
            "Epoch 71/150, Loss: 1.7016, Train Acc: 53.13%, Val Acc: 48.12%, Test Acc: 49.07%                        \n",
            "Epoch 72/150, Loss: 1.6931, Train Acc: 53.59%, Val Acc: 48.21%, Test Acc: 48.61%                        \n",
            "Epoch 73/150, Loss: 1.6791, Train Acc: 53.76%, Val Acc: 48.80%, Test Acc: 48.94%                        \n",
            "Epoch 74/150, Loss: 1.6728, Train Acc: 53.95%, Val Acc: 47.83%, Test Acc: 47.37%                        \n",
            "Epoch 75/150, Loss: 1.6550, Train Acc: 54.59%, Val Acc: 49.02%, Test Acc: 49.08%                        \n",
            "Epoch 76/150, Loss: 1.6385, Train Acc: 54.78%, Val Acc: 49.37%, Test Acc: 49.07%                        \n",
            "Epoch 77/150, Loss: 1.6298, Train Acc: 54.88%, Val Acc: 49.08%, Test Acc: 49.38%                        \n",
            "Epoch 78/150, Loss: 1.6072, Train Acc: 55.58%, Val Acc: 49.22%, Test Acc: 49.43%                        \n",
            "Epoch 79/150, Loss: 1.6051, Train Acc: 55.84%, Val Acc: 49.31%, Test Acc: 50.79%                        \n",
            "Checkpoint saved at epoch 80: ./checkpoint_epoch_80.pth\n"
          ]
        },
        {
          "data": {
            "application/javascript": [
              "\n",
              "    async function download(id, filename, size) {\n",
              "      if (!google.colab.kernel.accessAllowed) {\n",
              "        return;\n",
              "      }\n",
              "      const div = document.createElement('div');\n",
              "      const label = document.createElement('label');\n",
              "      label.textContent = `Downloading \"${filename}\": `;\n",
              "      div.appendChild(label);\n",
              "      const progress = document.createElement('progress');\n",
              "      progress.max = size;\n",
              "      div.appendChild(progress);\n",
              "      document.body.appendChild(div);\n",
              "\n",
              "      const buffers = [];\n",
              "      let downloaded = 0;\n",
              "\n",
              "      const channel = await google.colab.kernel.comms.open(id);\n",
              "      // Send a message to notify the kernel that we're ready.\n",
              "      channel.send({})\n",
              "\n",
              "      for await (const message of channel.messages) {\n",
              "        // Send a message to notify the kernel that we're ready.\n",
              "        channel.send({})\n",
              "        if (message.buffers) {\n",
              "          for (const buffer of message.buffers) {\n",
              "            buffers.push(buffer);\n",
              "            downloaded += buffer.byteLength;\n",
              "            progress.value = downloaded;\n",
              "          }\n",
              "        }\n",
              "      }\n",
              "      const blob = new Blob(buffers, {type: 'application/binary'});\n",
              "      const a = document.createElement('a');\n",
              "      a.href = window.URL.createObjectURL(blob);\n",
              "      a.download = filename;\n",
              "      div.appendChild(a);\n",
              "      a.click();\n",
              "      div.remove();\n",
              "    }\n",
              "  "
            ],
            "text/plain": [
              "<IPython.core.display.Javascript object>"
            ]
          },
          "metadata": {},
          "output_type": "display_data"
        },
        {
          "data": {
            "application/javascript": [
              "download(\"download_5c9e225d-57c7-4e3c-84af-1ccf7f0b813a\", \"checkpoint_epoch_80.pth\", 6529850)"
            ],
            "text/plain": [
              "<IPython.core.display.Javascript object>"
            ]
          },
          "metadata": {},
          "output_type": "display_data"
        },
        {
          "metadata": {
            "tags": null
          },
          "name": "stdout",
          "output_type": "stream",
          "text": [
            "Epoch 80/150, Loss: 1.5951, Train Acc: 55.96%, Val Acc: 49.97%, Test Acc: 50.43%                        \n",
            "Epoch 81/150, Loss: 1.5808, Train Acc: 56.00%, Val Acc: 48.87%, Test Acc: 50.03%                        \n",
            "Epoch 82/150, Loss: 1.5622, Train Acc: 56.74%, Val Acc: 49.21%, Test Acc: 49.04%                        \n",
            "Epoch 83/150, Loss: 1.5474, Train Acc: 56.88%, Val Acc: 49.50%, Test Acc: 50.40%                        \n",
            "Epoch 84/150, Loss: 1.5393, Train Acc: 57.15%, Val Acc: 50.68%, Test Acc: 50.62%                        \n",
            "Epoch 85/150, Loss: 1.5173, Train Acc: 57.64%, Val Acc: 49.80%, Test Acc: 49.80%                        \n",
            "Epoch 86/150, Loss: 1.5152, Train Acc: 57.61%, Val Acc: 50.48%, Test Acc: 50.98%                        \n",
            "Epoch 87/150, Loss: 1.4903, Train Acc: 58.30%, Val Acc: 49.53%, Test Acc: 49.76%                        \n",
            "Epoch 88/150, Loss: 1.4795, Train Acc: 58.31%, Val Acc: 50.17%, Test Acc: 50.91%                        \n",
            "Epoch 89/150, Loss: 1.4737, Train Acc: 58.89%, Val Acc: 50.39%, Test Acc: 50.49%                        \n",
            "Checkpoint saved at epoch 90: ./checkpoint_epoch_90.pth\n"
          ]
        },
        {
          "data": {
            "application/javascript": [
              "\n",
              "    async function download(id, filename, size) {\n",
              "      if (!google.colab.kernel.accessAllowed) {\n",
              "        return;\n",
              "      }\n",
              "      const div = document.createElement('div');\n",
              "      const label = document.createElement('label');\n",
              "      label.textContent = `Downloading \"${filename}\": `;\n",
              "      div.appendChild(label);\n",
              "      const progress = document.createElement('progress');\n",
              "      progress.max = size;\n",
              "      div.appendChild(progress);\n",
              "      document.body.appendChild(div);\n",
              "\n",
              "      const buffers = [];\n",
              "      let downloaded = 0;\n",
              "\n",
              "      const channel = await google.colab.kernel.comms.open(id);\n",
              "      // Send a message to notify the kernel that we're ready.\n",
              "      channel.send({})\n",
              "\n",
              "      for await (const message of channel.messages) {\n",
              "        // Send a message to notify the kernel that we're ready.\n",
              "        channel.send({})\n",
              "        if (message.buffers) {\n",
              "          for (const buffer of message.buffers) {\n",
              "            buffers.push(buffer);\n",
              "            downloaded += buffer.byteLength;\n",
              "            progress.value = downloaded;\n",
              "          }\n",
              "        }\n",
              "      }\n",
              "      const blob = new Blob(buffers, {type: 'application/binary'});\n",
              "      const a = document.createElement('a');\n",
              "      a.href = window.URL.createObjectURL(blob);\n",
              "      a.download = filename;\n",
              "      div.appendChild(a);\n",
              "      a.click();\n",
              "      div.remove();\n",
              "    }\n",
              "  "
            ],
            "text/plain": [
              "<IPython.core.display.Javascript object>"
            ]
          },
          "metadata": {},
          "output_type": "display_data"
        },
        {
          "data": {
            "application/javascript": [
              "download(\"download_6262e857-7f69-4b02-a043-85a865f646c2\", \"checkpoint_epoch_90.pth\", 6529850)"
            ],
            "text/plain": [
              "<IPython.core.display.Javascript object>"
            ]
          },
          "metadata": {},
          "output_type": "display_data"
        },
        {
          "metadata": {
            "tags": null
          },
          "name": "stdout",
          "output_type": "stream",
          "text": [
            "Epoch 90/150, Loss: 1.4542, Train Acc: 59.41%, Val Acc: 50.22%, Test Acc: 50.90%                        \n",
            "Epoch 91/150, Loss: 1.4416, Train Acc: 59.69%, Val Acc: 50.37%, Test Acc: 50.42%                        \n",
            "Epoch 92/150, Loss: 1.4314, Train Acc: 59.73%, Val Acc: 50.96%, Test Acc: 51.36%                        \n",
            "Epoch 93/150, Loss: 1.4212, Train Acc: 60.05%, Val Acc: 50.54%, Test Acc: 51.14%                        \n",
            "Epoch 94/150, Loss: 1.4013, Train Acc: 60.37%, Val Acc: 51.44%, Test Acc: 50.83%                        \n",
            "Epoch 95/150, Loss: 1.4002, Train Acc: 60.61%, Val Acc: 50.47%, Test Acc: 50.71%                        \n",
            "Epoch 96/150, Loss: 1.3839, Train Acc: 60.84%, Val Acc: 51.04%, Test Acc: 51.46%                        \n",
            "Epoch 97/150, Loss: 1.3682, Train Acc: 61.23%, Val Acc: 50.54%, Test Acc: 51.75%                        \n",
            "Epoch 98/150, Loss: 1.3484, Train Acc: 61.70%, Val Acc: 51.57%, Test Acc: 51.69%                        \n",
            "Epoch 99/150, Loss: 1.3491, Train Acc: 61.77%, Val Acc: 51.01%, Test Acc: 51.45%                        \n",
            "Checkpoint saved at epoch 100: ./checkpoint_epoch_100.pth\n"
          ]
        },
        {
          "data": {
            "application/javascript": [
              "\n",
              "    async function download(id, filename, size) {\n",
              "      if (!google.colab.kernel.accessAllowed) {\n",
              "        return;\n",
              "      }\n",
              "      const div = document.createElement('div');\n",
              "      const label = document.createElement('label');\n",
              "      label.textContent = `Downloading \"${filename}\": `;\n",
              "      div.appendChild(label);\n",
              "      const progress = document.createElement('progress');\n",
              "      progress.max = size;\n",
              "      div.appendChild(progress);\n",
              "      document.body.appendChild(div);\n",
              "\n",
              "      const buffers = [];\n",
              "      let downloaded = 0;\n",
              "\n",
              "      const channel = await google.colab.kernel.comms.open(id);\n",
              "      // Send a message to notify the kernel that we're ready.\n",
              "      channel.send({})\n",
              "\n",
              "      for await (const message of channel.messages) {\n",
              "        // Send a message to notify the kernel that we're ready.\n",
              "        channel.send({})\n",
              "        if (message.buffers) {\n",
              "          for (const buffer of message.buffers) {\n",
              "            buffers.push(buffer);\n",
              "            downloaded += buffer.byteLength;\n",
              "            progress.value = downloaded;\n",
              "          }\n",
              "        }\n",
              "      }\n",
              "      const blob = new Blob(buffers, {type: 'application/binary'});\n",
              "      const a = document.createElement('a');\n",
              "      a.href = window.URL.createObjectURL(blob);\n",
              "      a.download = filename;\n",
              "      div.appendChild(a);\n",
              "      a.click();\n",
              "      div.remove();\n",
              "    }\n",
              "  "
            ],
            "text/plain": [
              "<IPython.core.display.Javascript object>"
            ]
          },
          "metadata": {},
          "output_type": "display_data"
        },
        {
          "data": {
            "application/javascript": [
              "download(\"download_17316b6e-1427-46da-94e2-b086b9c07767\", \"checkpoint_epoch_100.pth\", 6529874)"
            ],
            "text/plain": [
              "<IPython.core.display.Javascript object>"
            ]
          },
          "metadata": {},
          "output_type": "display_data"
        },
        {
          "metadata": {
            "tags": null
          },
          "name": "stdout",
          "output_type": "stream",
          "text": [
            "Epoch 100/150, Loss: 1.3309, Train Acc: 62.40%, Val Acc: 51.59%, Test Acc: 51.64%                        \n",
            "Epoch 101/150, Loss: 1.3147, Train Acc: 62.28%, Val Acc: 51.69%, Test Acc: 51.73%                        \n",
            "Epoch 102/150, Loss: 1.3090, Train Acc: 62.79%, Val Acc: 51.05%, Test Acc: 51.81%                        \n",
            "Epoch 103/150, Loss: 1.2923, Train Acc: 63.20%, Val Acc: 51.53%, Test Acc: 52.38%                        \n",
            "Epoch 104/150, Loss: 1.2782, Train Acc: 63.53%, Val Acc: 51.55%, Test Acc: 52.45%                        \n",
            "Epoch 105/150, Loss: 1.2672, Train Acc: 64.17%, Val Acc: 51.57%, Test Acc: 52.48%                        \n",
            "Epoch 106/150, Loss: 1.2559, Train Acc: 64.13%, Val Acc: 52.52%, Test Acc: 51.65%                        \n",
            "Epoch 107/150, Loss: 1.2412, Train Acc: 64.60%, Val Acc: 52.36%, Test Acc: 52.51%                        \n",
            "Epoch 108/150, Loss: 1.2365, Train Acc: 64.51%, Val Acc: 52.53%, Test Acc: 52.71%                        \n",
            "Epoch 109/150, Loss: 1.2237, Train Acc: 64.86%, Val Acc: 52.22%, Test Acc: 52.42%                        \n",
            "Checkpoint saved at epoch 110: ./checkpoint_epoch_110.pth\n"
          ]
        },
        {
          "data": {
            "application/javascript": [
              "\n",
              "    async function download(id, filename, size) {\n",
              "      if (!google.colab.kernel.accessAllowed) {\n",
              "        return;\n",
              "      }\n",
              "      const div = document.createElement('div');\n",
              "      const label = document.createElement('label');\n",
              "      label.textContent = `Downloading \"${filename}\": `;\n",
              "      div.appendChild(label);\n",
              "      const progress = document.createElement('progress');\n",
              "      progress.max = size;\n",
              "      div.appendChild(progress);\n",
              "      document.body.appendChild(div);\n",
              "\n",
              "      const buffers = [];\n",
              "      let downloaded = 0;\n",
              "\n",
              "      const channel = await google.colab.kernel.comms.open(id);\n",
              "      // Send a message to notify the kernel that we're ready.\n",
              "      channel.send({})\n",
              "\n",
              "      for await (const message of channel.messages) {\n",
              "        // Send a message to notify the kernel that we're ready.\n",
              "        channel.send({})\n",
              "        if (message.buffers) {\n",
              "          for (const buffer of message.buffers) {\n",
              "            buffers.push(buffer);\n",
              "            downloaded += buffer.byteLength;\n",
              "            progress.value = downloaded;\n",
              "          }\n",
              "        }\n",
              "      }\n",
              "      const blob = new Blob(buffers, {type: 'application/binary'});\n",
              "      const a = document.createElement('a');\n",
              "      a.href = window.URL.createObjectURL(blob);\n",
              "      a.download = filename;\n",
              "      div.appendChild(a);\n",
              "      a.click();\n",
              "      div.remove();\n",
              "    }\n",
              "  "
            ],
            "text/plain": [
              "<IPython.core.display.Javascript object>"
            ]
          },
          "metadata": {},
          "output_type": "display_data"
        },
        {
          "data": {
            "application/javascript": [
              "download(\"download_77f74b98-9c86-4c3c-a310-b1d95a236d1a\", \"checkpoint_epoch_110.pth\", 6529874)"
            ],
            "text/plain": [
              "<IPython.core.display.Javascript object>"
            ]
          },
          "metadata": {},
          "output_type": "display_data"
        },
        {
          "metadata": {
            "tags": null
          },
          "name": "stdout",
          "output_type": "stream",
          "text": [
            "Epoch 110/150, Loss: 1.2015, Train Acc: 65.75%, Val Acc: 51.80%, Test Acc: 52.64%                        \n",
            "Epoch 111/150, Loss: 1.1951, Train Acc: 65.72%, Val Acc: 52.61%, Test Acc: 52.96%                        \n",
            "Epoch 112/150, Loss: 1.1820, Train Acc: 66.22%, Val Acc: 52.54%, Test Acc: 53.02%                        \n",
            "Epoch 113/150, Loss: 1.1692, Train Acc: 66.28%, Val Acc: 52.76%, Test Acc: 52.62%                        \n",
            "Epoch 114/150, Loss: 1.1576, Train Acc: 66.69%, Val Acc: 53.07%, Test Acc: 52.76%                        \n",
            "Epoch 115/150, Loss: 1.1417, Train Acc: 66.92%, Val Acc: 52.35%, Test Acc: 53.09%                        \n",
            "Epoch 116/150, Loss: 1.1391, Train Acc: 67.07%, Val Acc: 52.90%, Test Acc: 52.65%                        \n",
            "Epoch 117/150, Loss: 1.1247, Train Acc: 67.42%, Val Acc: 53.46%, Test Acc: 53.27%                        \n",
            "Epoch 118/150, Loss: 1.1142, Train Acc: 67.80%, Val Acc: 53.03%, Test Acc: 52.90%                        \n",
            "Epoch 119/150, Loss: 1.1050, Train Acc: 68.11%, Val Acc: 53.41%, Test Acc: 53.28%                        \n",
            "Checkpoint saved at epoch 120: ./checkpoint_epoch_120.pth\n"
          ]
        },
        {
          "data": {
            "application/javascript": [
              "\n",
              "    async function download(id, filename, size) {\n",
              "      if (!google.colab.kernel.accessAllowed) {\n",
              "        return;\n",
              "      }\n",
              "      const div = document.createElement('div');\n",
              "      const label = document.createElement('label');\n",
              "      label.textContent = `Downloading \"${filename}\": `;\n",
              "      div.appendChild(label);\n",
              "      const progress = document.createElement('progress');\n",
              "      progress.max = size;\n",
              "      div.appendChild(progress);\n",
              "      document.body.appendChild(div);\n",
              "\n",
              "      const buffers = [];\n",
              "      let downloaded = 0;\n",
              "\n",
              "      const channel = await google.colab.kernel.comms.open(id);\n",
              "      // Send a message to notify the kernel that we're ready.\n",
              "      channel.send({})\n",
              "\n",
              "      for await (const message of channel.messages) {\n",
              "        // Send a message to notify the kernel that we're ready.\n",
              "        channel.send({})\n",
              "        if (message.buffers) {\n",
              "          for (const buffer of message.buffers) {\n",
              "            buffers.push(buffer);\n",
              "            downloaded += buffer.byteLength;\n",
              "            progress.value = downloaded;\n",
              "          }\n",
              "        }\n",
              "      }\n",
              "      const blob = new Blob(buffers, {type: 'application/binary'});\n",
              "      const a = document.createElement('a');\n",
              "      a.href = window.URL.createObjectURL(blob);\n",
              "      a.download = filename;\n",
              "      div.appendChild(a);\n",
              "      a.click();\n",
              "      div.remove();\n",
              "    }\n",
              "  "
            ],
            "text/plain": [
              "<IPython.core.display.Javascript object>"
            ]
          },
          "metadata": {},
          "output_type": "display_data"
        },
        {
          "data": {
            "application/javascript": [
              "download(\"download_93a40c89-7a64-4f72-b894-77498786910a\", \"checkpoint_epoch_120.pth\", 6529874)"
            ],
            "text/plain": [
              "<IPython.core.display.Javascript object>"
            ]
          },
          "metadata": {},
          "output_type": "display_data"
        },
        {
          "metadata": {
            "tags": null
          },
          "name": "stdout",
          "output_type": "stream",
          "text": [
            "Epoch 120/150, Loss: 1.0917, Train Acc: 68.53%, Val Acc: 53.16%, Test Acc: 53.01%                        \n",
            "Epoch 121/150, Loss: 1.0798, Train Acc: 68.81%, Val Acc: 53.25%, Test Acc: 53.32%                        \n",
            "Epoch 122/150, Loss: 1.0796, Train Acc: 68.82%, Val Acc: 53.76%, Test Acc: 53.20%                        \n",
            "Epoch 123/150, Loss: 1.0675, Train Acc: 69.06%, Val Acc: 53.19%, Test Acc: 52.94%                        \n",
            "Epoch 124/150, Loss: 1.0596, Train Acc: 69.14%, Val Acc: 53.54%, Test Acc: 53.23%                        \n",
            "Epoch 125/150, Loss: 1.0523, Train Acc: 69.77%, Val Acc: 53.27%, Test Acc: 53.28%                        \n",
            "Epoch 126/150, Loss: 1.0409, Train Acc: 69.66%, Val Acc: 53.37%, Test Acc: 53.90%                        \n",
            "Epoch 127/150, Loss: 1.0397, Train Acc: 69.87%, Val Acc: 53.90%, Test Acc: 53.84%                        \n",
            "Epoch 128/150, Loss: 1.0220, Train Acc: 70.70%, Val Acc: 54.06%, Test Acc: 53.99%                        \n",
            "Epoch 129/150, Loss: 1.0198, Train Acc: 70.56%, Val Acc: 53.96%, Test Acc: 53.98%                        \n",
            "Checkpoint saved at epoch 130: ./checkpoint_epoch_130.pth\n"
          ]
        },
        {
          "data": {
            "application/javascript": [
              "\n",
              "    async function download(id, filename, size) {\n",
              "      if (!google.colab.kernel.accessAllowed) {\n",
              "        return;\n",
              "      }\n",
              "      const div = document.createElement('div');\n",
              "      const label = document.createElement('label');\n",
              "      label.textContent = `Downloading \"${filename}\": `;\n",
              "      div.appendChild(label);\n",
              "      const progress = document.createElement('progress');\n",
              "      progress.max = size;\n",
              "      div.appendChild(progress);\n",
              "      document.body.appendChild(div);\n",
              "\n",
              "      const buffers = [];\n",
              "      let downloaded = 0;\n",
              "\n",
              "      const channel = await google.colab.kernel.comms.open(id);\n",
              "      // Send a message to notify the kernel that we're ready.\n",
              "      channel.send({})\n",
              "\n",
              "      for await (const message of channel.messages) {\n",
              "        // Send a message to notify the kernel that we're ready.\n",
              "        channel.send({})\n",
              "        if (message.buffers) {\n",
              "          for (const buffer of message.buffers) {\n",
              "            buffers.push(buffer);\n",
              "            downloaded += buffer.byteLength;\n",
              "            progress.value = downloaded;\n",
              "          }\n",
              "        }\n",
              "      }\n",
              "      const blob = new Blob(buffers, {type: 'application/binary'});\n",
              "      const a = document.createElement('a');\n",
              "      a.href = window.URL.createObjectURL(blob);\n",
              "      a.download = filename;\n",
              "      div.appendChild(a);\n",
              "      a.click();\n",
              "      div.remove();\n",
              "    }\n",
              "  "
            ],
            "text/plain": [
              "<IPython.core.display.Javascript object>"
            ]
          },
          "metadata": {},
          "output_type": "display_data"
        },
        {
          "data": {
            "application/javascript": [
              "download(\"download_660f34d1-87e4-429b-885d-0d97e9fea166\", \"checkpoint_epoch_130.pth\", 6529874)"
            ],
            "text/plain": [
              "<IPython.core.display.Javascript object>"
            ]
          },
          "metadata": {},
          "output_type": "display_data"
        },
        {
          "output_type": "stream",
          "name": "stdout",
          "text": [
            "Epoch 130/150, Loss: 1.0101, Train Acc: 70.55%, Val Acc: 53.98%, Test Acc: 53.71%                        \n",
            "Epoch 131/150, Loss: 1.0100, Train Acc: 70.55%, Val Acc: 53.82%, Test Acc: 53.43%                        \n",
            "Epoch 132/150, Loss: 0.9958, Train Acc: 71.08%, Val Acc: 53.91%, Test Acc: 53.72%                        \n",
            "Epoch 133/150, Loss: 0.9847, Train Acc: 71.40%, Val Acc: 54.32%, Test Acc: 54.30%                        \n",
            "Epoch 134/150, Loss: 0.9884, Train Acc: 70.96%, Val Acc: 54.23%, Test Acc: 53.82%                        \n",
            "Epoch 135/150, Loss: 0.9799, Train Acc: 71.43%, Val Acc: 54.35%, Test Acc: 54.23%                        \n",
            "Epoch 136/150, Loss: 0.9766, Train Acc: 71.47%, Val Acc: 54.06%, Test Acc: 53.77%                        \n",
            "Epoch 137/150, Loss: 0.9704, Train Acc: 71.83%, Val Acc: 54.41%, Test Acc: 53.98%                        \n",
            "Epoch 138/150, Loss: 0.9641, Train Acc: 72.11%, Val Acc: 54.39%, Test Acc: 53.91%                        \n",
            "Epoch 139/150, Loss: 0.9590, Train Acc: 72.00%, Val Acc: 54.49%, Test Acc: 53.98%                        \n",
            "Checkpoint saved at epoch 140: ./checkpoint_epoch_140.pth\n"
          ]
        },
        {
          "output_type": "display_data",
          "data": {
            "text/plain": [
              "<IPython.core.display.Javascript object>"
            ],
            "application/javascript": [
              "\n",
              "    async function download(id, filename, size) {\n",
              "      if (!google.colab.kernel.accessAllowed) {\n",
              "        return;\n",
              "      }\n",
              "      const div = document.createElement('div');\n",
              "      const label = document.createElement('label');\n",
              "      label.textContent = `Downloading \"${filename}\": `;\n",
              "      div.appendChild(label);\n",
              "      const progress = document.createElement('progress');\n",
              "      progress.max = size;\n",
              "      div.appendChild(progress);\n",
              "      document.body.appendChild(div);\n",
              "\n",
              "      const buffers = [];\n",
              "      let downloaded = 0;\n",
              "\n",
              "      const channel = await google.colab.kernel.comms.open(id);\n",
              "      // Send a message to notify the kernel that we're ready.\n",
              "      channel.send({})\n",
              "\n",
              "      for await (const message of channel.messages) {\n",
              "        // Send a message to notify the kernel that we're ready.\n",
              "        channel.send({})\n",
              "        if (message.buffers) {\n",
              "          for (const buffer of message.buffers) {\n",
              "            buffers.push(buffer);\n",
              "            downloaded += buffer.byteLength;\n",
              "            progress.value = downloaded;\n",
              "          }\n",
              "        }\n",
              "      }\n",
              "      const blob = new Blob(buffers, {type: 'application/binary'});\n",
              "      const a = document.createElement('a');\n",
              "      a.href = window.URL.createObjectURL(blob);\n",
              "      a.download = filename;\n",
              "      div.appendChild(a);\n",
              "      a.click();\n",
              "      div.remove();\n",
              "    }\n",
              "  "
            ]
          },
          "metadata": {}
        },
        {
          "output_type": "display_data",
          "data": {
            "text/plain": [
              "<IPython.core.display.Javascript object>"
            ],
            "application/javascript": [
              "download(\"download_848ebb73-8981-4b97-8853-e12078e530fb\", \"checkpoint_epoch_140.pth\", 6529874)"
            ]
          },
          "metadata": {}
        },
        {
          "output_type": "stream",
          "name": "stdout",
          "text": [
            "Epoch 140/150, Loss: 0.9620, Train Acc: 71.95%, Val Acc: 54.44%, Test Acc: 53.82%                        \n",
            "Epoch 141/150, Loss: 0.9587, Train Acc: 71.94%, Val Acc: 54.26%, Test Acc: 54.01%                        \n",
            "Epoch 142/150, Loss: 0.9494, Train Acc: 72.23%, Val Acc: 54.52%, Test Acc: 54.03%                        \n",
            "Epoch 143/150, Loss: 0.9522, Train Acc: 72.30%, Val Acc: 54.52%, Test Acc: 54.09%                        \n",
            "Epoch 144/150, Loss: 0.9520, Train Acc: 72.27%, Val Acc: 54.59%, Test Acc: 54.10%                        \n",
            "Epoch 145/150, Loss: 0.9520, Train Acc: 72.17%, Val Acc: 54.58%, Test Acc: 53.93%                        \n",
            "Epoch 146/150, Loss: 0.9456, Train Acc: 72.34%, Val Acc: 54.56%, Test Acc: 54.14%                        \n",
            "Epoch 147/150, Loss: 0.9382, Train Acc: 72.63%, Val Acc: 54.59%, Test Acc: 54.17%                        \n",
            "Epoch 148/150, Loss: 0.9405, Train Acc: 72.53%, Val Acc: 54.62%, Test Acc: 54.06%                        \n",
            "Epoch 149/150, Loss: 0.9400, Train Acc: 72.63%, Val Acc: 54.64%, Test Acc: 54.13%                        \n",
            "Checkpoint saved at epoch 150: ./checkpoint_epoch_150.pth\n"
          ]
        },
        {
          "output_type": "display_data",
          "data": {
            "text/plain": [
              "<IPython.core.display.Javascript object>"
            ],
            "application/javascript": [
              "\n",
              "    async function download(id, filename, size) {\n",
              "      if (!google.colab.kernel.accessAllowed) {\n",
              "        return;\n",
              "      }\n",
              "      const div = document.createElement('div');\n",
              "      const label = document.createElement('label');\n",
              "      label.textContent = `Downloading \"${filename}\": `;\n",
              "      div.appendChild(label);\n",
              "      const progress = document.createElement('progress');\n",
              "      progress.max = size;\n",
              "      div.appendChild(progress);\n",
              "      document.body.appendChild(div);\n",
              "\n",
              "      const buffers = [];\n",
              "      let downloaded = 0;\n",
              "\n",
              "      const channel = await google.colab.kernel.comms.open(id);\n",
              "      // Send a message to notify the kernel that we're ready.\n",
              "      channel.send({})\n",
              "\n",
              "      for await (const message of channel.messages) {\n",
              "        // Send a message to notify the kernel that we're ready.\n",
              "        channel.send({})\n",
              "        if (message.buffers) {\n",
              "          for (const buffer of message.buffers) {\n",
              "            buffers.push(buffer);\n",
              "            downloaded += buffer.byteLength;\n",
              "            progress.value = downloaded;\n",
              "          }\n",
              "        }\n",
              "      }\n",
              "      const blob = new Blob(buffers, {type: 'application/binary'});\n",
              "      const a = document.createElement('a');\n",
              "      a.href = window.URL.createObjectURL(blob);\n",
              "      a.download = filename;\n",
              "      div.appendChild(a);\n",
              "      a.click();\n",
              "      div.remove();\n",
              "    }\n",
              "  "
            ]
          },
          "metadata": {}
        },
        {
          "output_type": "display_data",
          "data": {
            "text/plain": [
              "<IPython.core.display.Javascript object>"
            ],
            "application/javascript": [
              "download(\"download_a5edc98a-707b-4ebc-ab45-091a85dc2be3\", \"checkpoint_epoch_150.pth\", 6529874)"
            ]
          },
          "metadata": {}
        },
        {
          "output_type": "stream",
          "name": "stdout",
          "text": [
            "Epoch 150/150, Loss: 0.9407, Train Acc: 72.67%, Val Acc: 54.61%, Test Acc: 54.09%                        \n"
          ]
        },
        {
          "output_type": "display_data",
          "data": {
            "text/plain": [
              "<Figure size 600x400 with 1 Axes>"
            ],
            "image/png": "[encoded data removed]"
          },
          "metadata": {}
        },
        {
          "output_type": "display_data",
          "data": {
            "text/plain": [
              "<Figure size 600x400 with 1 Axes>"
            ],
            "image/png": "[encoded data removed]"
          },
          "metadata": {}
        },
        {
          "output_type": "display_data",
          "data": {
            "text/plain": [
              "<Figure size 600x400 with 1 Axes>"
            ],
            "image/png": "[encoded data removed]"
          },
          "metadata": {}
        },
        {
          "output_type": "display_data",
          "data": {
            "text/plain": [
              "<Figure size 600x400 with 1 Axes>"
            ],
            "image/png": "[encoded data removed]"
          },
          "metadata": {}
        },
        {
          "output_type": "display_data",
          "data": {
            "text/plain": [
              "<Figure size 600x400 with 1 Axes>"
            ],
            "image/png": "[encoded data removed]"
          },
          "metadata": {}
        },
        {
          "output_type": "display_data",
          "data": {
            "text/plain": [
              "<Figure size 600x400 with 1 Axes>"
            ],
            "image/png": "[encoded data removed]"
          },
          "metadata": {}
        }
      ],
      "source": [
        "import os\n",
        "import torch\n",
        "import numpy as np\n",
        "import torch.nn as nn\n",
        "import torch.optim as optim\n",
        "import torchvision\n",
        "import torchvision.transforms as transforms\n",
        "import matplotlib.pyplot as plt\n",
        "from torch.utils.data import random_split\n",
        "from google.colab import files\n",
        "\n",
        "# Training settings\n",
        "epochs = 150  # Adjust epochs based on computational resources\n",
        "batch_size = 64\n",
        "momentum = 0.9\n",
        "weight_decay = 4e-4\n",
        "lr = 1e-2\n",
        "def compute_mean_std(dataset):\n",
        "    \"\"\"Compute the mean and std of CIFAR-100 dataset.\n",
        "\n",
        "    Args:\n",
        "        dataset: A dataset derived from `torch.utils.data.Dataset`,\n",
        "                 such as `cifar100_training_dataset` or `cifar100_test_dataset`.\n",
        "\n",
        "    Returns:\n",
        "        A tuple containing (mean, std) for the entire dataset.\n",
        "    \"\"\"\n",
        "\n",
        "    # Extract images and labels\n",
        "    data_r = np.stack([np.array(dataset[i][0])[:, :, 0] for i in range(len(dataset))])\n",
        "    data_g = np.stack([np.array(dataset[i][0])[:, :, 1] for i in range(len(dataset))])\n",
        "    data_b = np.stack([np.array(dataset[i][0])[:, :, 2] for i in range(len(dataset))])\n",
        "\n",
        "    # Compute mean and std\n",
        "    mean = np.mean(data_r), np.mean(data_g), np.mean(data_b)\n",
        "    std = np.std(data_r), np.std(data_g), np.std(data_b)\n",
        "\n",
        "    return mean, std\n",
        "\n",
        "# Define LeNet-5 architecture\n",
        "class LeNet5(nn.Module):\n",
        "    def __init__(self):\n",
        "        super(LeNet5, self).__init__()\n",
        "        self.conv1 = nn.Conv2d(3, 64, 5)\n",
        "        # self.bn1 = nn.BatchNorm2d(64)  # Batch Normalization after conv1\n",
        "        self.relu1 = nn.ReLU()\n",
        "        self.pool1 = nn.MaxPool2d(2, 2)\n",
        "\n",
        "        self.conv2 = nn.Conv2d(64, 64, 5)\n",
        "        # self.bn2 = nn.BatchNorm2d(64)  # Batch Normalization after conv2\n",
        "        self.relu2 = nn.ReLU()\n",
        "        self.pool2 = nn.MaxPool2d(2, 2)\n",
        "\n",
        "        self.fc1 = nn.Linear(64 * 5 * 5, 384)\n",
        "        # self.bn3 = nn.BatchNorm1d(384)  # Batch Normalization for fully connected layers\n",
        "        self.relu3 = nn.ReLU()\n",
        "        # self.drop1 = nn.Dropout(p=0.3)\n",
        "\n",
        "        self.fc2 = nn.Linear(384, 192)\n",
        "        # self.bn4 = nn.BatchNorm1d(192)  # Batch Normalization for fully connected layers\n",
        "        self.relu4 = nn.ReLU()\n",
        "        # self.drop2 = nn.Dropout(p=0.3)\n",
        "\n",
        "        self.fc3 = nn.Linear(192, 100)\n",
        "\n",
        "    def forward(self, x):\n",
        "        x = self.pool1(self.relu1(self.conv1(x)))\n",
        "        x = self.pool2(self.relu2(self.conv2(x)))\n",
        "        x = x.view(-1, 64 * 5 * 5)\n",
        "        x = self.fc1(x)\n",
        "        # x = self.bn3(x)\n",
        "        x = self.relu3(x)\n",
        "        # x = self.drop1(x)  # Apply first dropout\n",
        "        x = self.fc2(x)\n",
        "        # x = self.bn4(x)\n",
        "        x = self.relu4(x)\n",
        "        # x = self.drop2(x)  # Apply second dropout\n",
        "        x = self.fc3(x)\n",
        "        return x\n",
        "torch.manual_seed(42) # Set the seed for reproducibility\n",
        "torch.cuda.manual_seed_all(42) # Set the seed for reproducibility on GPU\n",
        "\n",
        "data = torchvision.datasets.CIFAR100(root='./data', train=True, download=True, transform=transforms.ToTensor())\n",
        "\n",
        "mean, std = compute_mean_std(data)\n",
        "\n",
        "# Load and split CIFAR-100 dataset\n",
        "# train_transform = transforms.Compose([\n",
        "#     transforms.RandomCrop(24),              # Random crop to 24x24\n",
        "#     transforms.Pad(4, padding_mode='constant'),  # Pad to 32x32\n",
        "#     transforms.RandomHorizontalFlip(),   # Random horizontal flip\n",
        "#     transforms.ToTensor(),                  # Convert to tensor\n",
        "#     transforms.Normalize(mean, std)         # Normalize\n",
        "# ])\n",
        "\n",
        "# val_transform = transforms.Compose([\n",
        "#     transforms.ToTensor(), # Convert into tensor\n",
        "#     transforms.Normalize(mean, std)  # Normalization\n",
        "# ])\n",
        "\n",
        "# test_transform = transforms.Compose([\n",
        "#     transforms.CenterCrop(24),\n",
        "#     transforms.Pad(4),\n",
        "#     transforms.ToTensor(),  # Convert to PyTorch tensor\n",
        "#     transforms.Normalize(mean, std)])\n",
        "\n",
        "train_transform = transforms.Compose([\n",
        "  transforms.RandomHorizontalFlip(),\n",
        "  # transforms.RandomRotation(15),\n",
        "  transforms.RandomCrop(32, padding=4),\n",
        "  # transforms.RandomAffine(degrees=0, translate=(0.1, 0.1)),\n",
        "  transforms.RandomPerspective(distortion_scale=0.2, p=0.5),\n",
        "  transforms.ColorJitter(brightness=0.3, contrast=0.3, saturation=0.3, hue=0.2),\n",
        "  transforms.ToTensor(),\n",
        "  transforms.Normalize(mean, std)\n",
        "])\n",
        "\n",
        "val_transform = transforms.Compose([\n",
        "    transforms.ToTensor(),\n",
        "    transforms.Normalize(mean, std)  # Normalizzazione\n",
        "])\n",
        "\n",
        "test_transform = transforms.Compose([\n",
        "    transforms.ToTensor(),  # Converti in tensore\n",
        "    transforms.Normalize(mean, std)  # Normalizzazione\n",
        "])\n",
        "\n",
        "\n",
        "\n",
        "# dataset = torchvision.datasets.CIFAR100(root='./data', train=True, download=True, transform=transform)\n",
        "# train_size = int(0.8 * len(dataset))\n",
        "# val_size = len(dataset) - train_size\n",
        "# trainset, valset = random_split(dataset, [train_size, val_size])\n",
        "\n",
        "trainset = torchvision.datasets.CIFAR100(root='./data', train=True, download=True, transform=train_transform)\n",
        "valset = torchvision.datasets.CIFAR100(root='./data', train=True, download=True, transform=val_transform)\n",
        "indices = torch.randperm(len(trainset))\n",
        "val_size = int(0.2*len(trainset))\n",
        "trainset = torch.utils.data.Subset(trainset, indices[:-val_size])\n",
        "valset = torch.utils.data.Subset(valset, indices[-val_size:])\n",
        "\n",
        "trainloader = torch.utils.data.DataLoader(trainset, batch_size=batch_size, shuffle=True, num_workers=2)\n",
        "valloader = torch.utils.data.DataLoader(valset, batch_size=batch_size, shuffle=False, num_workers=2)\n",
        "\n",
        "testset = torchvision.datasets.CIFAR100(root='./data', train=False, download=True, transform=test_transform)\n",
        "testloader = torch.utils.data.DataLoader(testset, batch_size=batch_size, shuffle=False, num_workers=2)\n",
        "\n",
        "# Device setup\n",
        "device = torch.device(\"cuda:0\" if torch.cuda.is_available() else \"cpu\")\n",
        "\n",
        "# Initialize model\n",
        "net_sgdm = LeNet5().to(device)\n",
        "\n",
        "# Loss function\n",
        "criterion = nn.CrossEntropyLoss()\n",
        "\n",
        "# Optimizer and scheduler\n",
        "sgdm_optimizer = optim.SGD(net_sgdm.parameters(), lr=lr, momentum=momentum, weight_decay=weight_decay)\n",
        "scheduler_sgdm = optim.lr_scheduler.CosineAnnealingLR(sgdm_optimizer, T_max=150)\n",
        "\n",
        "# Training function\n",
        "def train_model(optimizer, scheduler, model, criterion, trainloader, valloader , testloader, device, epochs, save_checkpoint_interval=10):\n",
        "    train_losses, val_losses, test_losses = [], [], []\n",
        "    train_accuracies, val_accuracies, test_accuracies = [], [], []\n",
        "    for epoch in range(epochs):\n",
        "        model.train()\n",
        "        running_loss, correct_train, total_train = 0.0, 0, 0\n",
        "        for inputs, labels in trainloader:\n",
        "            inputs, labels = inputs.to(device), labels.to(device)\n",
        "            optimizer.zero_grad()\n",
        "            outputs = model(inputs)\n",
        "            loss = criterion(outputs, labels)\n",
        "            loss.backward()\n",
        "            optimizer.step()\n",
        "            running_loss += loss.item()\n",
        "            _, predicted = outputs.max(1)\n",
        "            total_train += labels.size(0)\n",
        "            correct_train += predicted.eq(labels).sum().item()\n",
        "        train_loss = running_loss / len(trainloader)\n",
        "        train_accuracy = 100. * correct_train / total_train\n",
        "        train_losses.append(train_loss)\n",
        "        train_accuracies.append(train_accuracy)\n",
        "\n",
        "        # Validation\n",
        "        model.eval()\n",
        "        correct_val, total_val, val_loss = 0, 0, 0.0\n",
        "        with torch.no_grad():\n",
        "            for inputs, labels in valloader:\n",
        "                inputs, labels = inputs.to(device), labels.to(device)\n",
        "                outputs = model(inputs)\n",
        "                loss = criterion(outputs, labels)\n",
        "                val_loss += loss.item()\n",
        "                _, predicted = outputs.max(1)\n",
        "                total_val += labels.size(0)\n",
        "                correct_val += predicted.eq(labels).sum().item()\n",
        "        val_loss /= len(valloader)\n",
        "        val_losses.append(val_loss)\n",
        "        val_accuracy = 100. * correct_val / total_val\n",
        "        val_accuracies.append(val_accuracy)\n",
        "\n",
        "        # Test\n",
        "        correct_test, total_test, test_loss = 0, 0, 0.0\n",
        "        with torch.no_grad():\n",
        "            for inputs, labels in testloader:\n",
        "                inputs, labels = inputs.to(device), labels.to(device)\n",
        "                outputs = model(inputs)\n",
        "                loss = criterion(outputs, labels)\n",
        "                test_loss += loss.item()\n",
        "                _, predicted = outputs.max(1)\n",
        "                total_test += labels.size(0)\n",
        "                correct_test += predicted.eq(labels).sum().item()\n",
        "        test_loss /= len(testloader)\n",
        "        test_losses.append(test_loss)\n",
        "        test_accuracy = 100. * correct_test / total_test\n",
        "        test_accuracies.append(test_accuracy)\n",
        "\n",
        "        scheduler.step()\n",
        "\n",
        "        # Checkpointing\n",
        "        if (epoch + 1) % save_checkpoint_interval == 0:\n",
        "            checkpoint_filename = f'checkpoint_epoch_{epoch + 1}.pth'\n",
        "            checkpoint = {\n",
        "                'epoch': epoch + 1,\n",
        "                'model_state_dict': model.state_dict(),\n",
        "                'optimizer_state_dict': optimizer.state_dict(),\n",
        "                'loss': loss.item(),\n",
        "            }\n",
        "            checkpoint_path = os.path.join('./', checkpoint_filename)\n",
        "            torch.save(checkpoint, checkpoint_path)\n",
        "            print(f'Checkpoint saved at epoch {epoch + 1}: {checkpoint_path}')\n",
        "\n",
        "            #Download the checkpoint\n",
        "            files.download(checkpoint_filename)\n",
        "\n",
        "        print(f'Epoch {epoch+1}/{epochs}, Loss: {train_loss:.4f}, Train Acc: {train_accuracy:.2f}%, Val Acc: {val_accuracy:.2f}%, Test Acc: {test_accuracy:.2f}%                        ')\n",
        "\n",
        "    return train_losses, val_losses, test_losses,  train_accuracies, val_accuracies, test_accuracies\n",
        "\n",
        "# Train model\n",
        "print(\"--- Train with sgdm ---\")\n",
        "sgdm_train_loss, sgdm_val_loss, sgdm_test_loss, sgdm_train_acc, sgdm_val_acc, sgdm_test_acc= train_model(sgdm_optimizer, scheduler_sgdm, net_sgdm, criterion, trainloader, valloader, testloader, device, epochs)\n",
        "\n",
        "# Save model\n",
        "torch.save(net_sgdm.state_dict(), 'net_sgdm.pth')\n",
        "\n",
        "# Plot results\n",
        "# Plot Training Loss\n",
        "plt.figure(figsize=(6, 4))\n",
        "plt.plot(sgdm_train_loss, label='Train Loss')\n",
        "plt.title('Training Loss')\n",
        "plt.xlabel('Epoch')\n",
        "plt.ylabel('Loss')\n",
        "plt.legend()\n",
        "plt.tight_layout()\n",
        "plt.savefig('train_loss.png')\n",
        "plt.show()\n",
        "\n",
        "# Plot Training Accuracy\n",
        "plt.figure(figsize=(6, 4))\n",
        "plt.plot(sgdm_train_acc, label='Train Accuracy')\n",
        "plt.title('Training Accuracy')\n",
        "plt.xlabel('Epoch')\n",
        "plt.ylabel('Accuracy (%)')\n",
        "plt.legend()\n",
        "plt.tight_layout()\n",
        "plt.savefig('train_accuracy.png')\n",
        "plt.show()\n",
        "\n",
        "# Plot Validation Loss\n",
        "plt.figure(figsize=(6, 4))\n",
        "plt.plot(sgdm_val_loss, label='Validation Loss')\n",
        "plt.title('Validation Loss')\n",
        "plt.xlabel('Epoch')\n",
        "plt.ylabel('Loss')\n",
        "plt.legend()\n",
        "plt.tight_layout()\n",
        "plt.savefig('val_loss.png')\n",
        "plt.show()\n",
        "\n",
        "# Plot Validation Accuracy\n",
        "plt.figure(figsize=(6, 4))\n",
        "plt.plot(sgdm_val_acc, label='Validation Accuracy')\n",
        "plt.title('Validation Accuracy')\n",
        "plt.xlabel('Epoch')\n",
        "plt.ylabel('Accuracy (%)')\n",
        "plt.legend()\n",
        "plt.tight_layout()\n",
        "plt.savefig('val_accuracy.png')\n",
        "plt.show()\n",
        "\n",
        "# Plot Test Loss\n",
        "plt.figure(figsize=(6, 4))\n",
        "plt.plot(sgdm_test_loss, label='Test Loss')\n",
        "plt.title('Test Loss')\n",
        "plt.xlabel('Epoch')\n",
        "plt.ylabel('Loss')\n",
        "plt.legend()\n",
        "plt.tight_layout()\n",
        "plt.savefig('test_loss.png')\n",
        "plt.show()\n",
        "\n",
        "# Plot Test Accuracy\n",
        "plt.figure(figsize=(6, 4))\n",
        "plt.plot(sgdm_test_acc, label='Test Accuracy')\n",
        "plt.title('Test Accuracy')\n",
        "plt.xlabel('Epoch')\n",
        "plt.ylabel('Accuracy (%)')\n",
        "plt.legend()\n",
        "plt.tight_layout()\n",
        "plt.savefig('test_accuracy.png')\n",
        "plt.show()"
      ]
    }
  ],
  "metadata": {
    "colab": {
      "machine_shape": "hm",
      "provenance": [],
      "gpuType": "T4"
    },
    "kernelspec": {
      "display_name": "Python 3",
      "name": "python3"
    },
    "language_info": {
      "name": "python"
    },
    "accelerator": "GPU"
  },
  "nbformat": 4,
  "nbformat_minor": 0
}