{
  "cells": [
    {
      "cell_type": "code",
      "execution_count": 1,
      "metadata": {
        "colab": {
          "base_uri": "https://localhost:8080/",
          "height": 1000
        },
        "id": "15282w8mac-O",
        "outputId": "3f960497-77cc-47a7-86be-b4186bd33b96"
      },
      "outputs": [
        {
          "output_type": "stream",
          "name": "stdout",
          "text": [
            "Downloading https://www.cs.toronto.edu/~kriz/cifar-100-python.tar.gz to ./data/cifar-100-python.tar.gz\n"
          ]
        },
        {
          "output_type": "stream",
          "name": "stderr",
          "text": [
            "100%|██████████| 169M/169M [00:04<00:00, 41.9MB/s]\n"
          ]
        },
        {
          "output_type": "stream",
          "name": "stdout",
          "text": [
            "Extracting ./data/cifar-100-python.tar.gz to ./data\n",
            "Files already downloaded and verified\n",
            "Files already downloaded and verified\n",
            "Files already downloaded and verified\n",
            "--- Train with sgdm ---\n",
            "Epoch 1/150, Train Acc: 4.35%, Val Acc: 9.63%, Test Acc: 9.46%\n",
            "Epoch 1/150, Train Loss: 4.2990, Val Loss: 3.8931, Test Loss: 3.9010\n",
            "Epoch 2/150, Train Acc: 9.76%, Val Acc: 14.93%, Test Acc: 14.91%\n",
            "Epoch 2/150, Train Loss: 3.8747, Val Loss: 3.5539, Test Loss: 3.5675\n",
            "Epoch 3/150, Train Acc: 13.65%, Val Acc: 18.82%, Test Acc: 18.86%\n",
            "Epoch 3/150, Train Loss: 3.6443, Val Loss: 3.3428, Test Loss: 3.3688\n",
            "Epoch 4/150, Train Acc: 16.68%, Val Acc: 22.24%, Test Acc: 21.97%\n",
            "Epoch 4/150, Train Loss: 3.4550, Val Loss: 3.1951, Test Loss: 3.2011\n",
            "Epoch 5/150, Train Acc: 19.47%, Val Acc: 25.29%, Test Acc: 24.67%\n",
            "Epoch 5/150, Train Loss: 3.3017, Val Loss: 3.0445, Test Loss: 3.0417\n",
            "Epoch 6/150, Train Acc: 22.00%, Val Acc: 28.66%, Test Acc: 28.48%\n",
            "Epoch 6/150, Train Loss: 3.1643, Val Loss: 2.8527, Test Loss: 2.8532\n",
            "Epoch 7/150, Train Acc: 24.49%, Val Acc: 29.84%, Test Acc: 29.31%\n",
            "Epoch 7/150, Train Loss: 3.0515, Val Loss: 2.8081, Test Loss: 2.8124\n",
            "Epoch 8/150, Train Acc: 25.46%, Val Acc: 31.83%, Test Acc: 31.45%\n",
            "Epoch 8/150, Train Loss: 2.9771, Val Loss: 2.7051, Test Loss: 2.6933\n",
            "Epoch 9/150, Train Acc: 26.75%, Val Acc: 34.42%, Test Acc: 33.61%\n",
            "Epoch 9/150, Train Loss: 2.9204, Val Loss: 2.5968, Test Loss: 2.5894\n",
            "Checkpoint saved at epoch 10: ./checkpoint_epoch_10.pth\n"
          ]
        },
        {
          "output_type": "display_data",
          "data": {
            "text/plain": [
              "<IPython.core.display.Javascript object>"
            ],
            "application/javascript": [
              "\n",
              "    async function download(id, filename, size) {\n",
              "      if (!google.colab.kernel.accessAllowed) {\n",
              "        return;\n",
              "      }\n",
              "      const div = document.createElement('div');\n",
              "      const label = document.createElement('label');\n",
              "      label.textContent = `Downloading \"${filename}\": `;\n",
              "      div.appendChild(label);\n",
              "      const progress = document.createElement('progress');\n",
              "      progress.max = size;\n",
              "      div.appendChild(progress);\n",
              "      document.body.appendChild(div);\n",
              "\n",
              "      const buffers = [];\n",
              "      let downloaded = 0;\n",
              "\n",
              "      const channel = await google.colab.kernel.comms.open(id);\n",
              "      // Send a message to notify the kernel that we're ready.\n",
              "      channel.send({})\n",
              "\n",
              "      for await (const message of channel.messages) {\n",
              "        // Send a message to notify the kernel that we're ready.\n",
              "        channel.send({})\n",
              "        if (message.buffers) {\n",
              "          for (const buffer of message.buffers) {\n",
              "            buffers.push(buffer);\n",
              "            downloaded += buffer.byteLength;\n",
              "            progress.value = downloaded;\n",
              "          }\n",
              "        }\n",
              "      }\n",
              "      const blob = new Blob(buffers, {type: 'application/binary'});\n",
              "      const a = document.createElement('a');\n",
              "      a.href = window.URL.createObjectURL(blob);\n",
              "      a.download = filename;\n",
              "      div.appendChild(a);\n",
              "      a.click();\n",
              "      div.remove();\n",
              "    }\n",
              "  "
            ]
          },
          "metadata": {}
        },
        {
          "output_type": "display_data",
          "data": {
            "text/plain": [
              "<IPython.core.display.Javascript object>"
            ],
            "application/javascript": [
              "download(\"download_10d855c5-97cc-4754-979e-62d81377f07c\", \"checkpoint_epoch_10.pth\", 6529914)"
            ]
          },
          "metadata": {}
        },
        {
          "output_type": "stream",
          "name": "stdout",
          "text": [
            "Epoch 10/150, Train Acc: 27.92%, Val Acc: 33.69%, Test Acc: 34.02%\n",
            "Epoch 10/150, Train Loss: 2.8535, Val Loss: 2.5776, Test Loss: 2.5683\n",
            "Epoch 11/150, Train Acc: 29.27%, Val Acc: 35.13%, Test Acc: 35.15%\n",
            "Epoch 11/150, Train Loss: 2.7977, Val Loss: 2.5580, Test Loss: 2.5521\n",
            "Epoch 12/150, Train Acc: 29.97%, Val Acc: 34.98%, Test Acc: 35.01%\n",
            "Epoch 12/150, Train Loss: 2.7609, Val Loss: 2.5167, Test Loss: 2.5046\n",
            "Epoch 13/150, Train Acc: 30.56%, Val Acc: 36.88%, Test Acc: 36.36%\n",
            "Epoch 13/150, Train Loss: 2.7198, Val Loss: 2.4808, Test Loss: 2.4763\n",
            "Epoch 14/150, Train Acc: 31.54%, Val Acc: 36.90%, Test Acc: 37.39%\n",
            "Epoch 14/150, Train Loss: 2.6874, Val Loss: 2.4614, Test Loss: 2.4394\n",
            "Epoch 15/150, Train Acc: 32.26%, Val Acc: 38.50%, Test Acc: 38.81%\n",
            "Epoch 15/150, Train Loss: 2.6445, Val Loss: 2.3835, Test Loss: 2.3779\n",
            "Epoch 16/150, Train Acc: 33.05%, Val Acc: 38.09%, Test Acc: 38.05%\n",
            "Epoch 16/150, Train Loss: 2.6074, Val Loss: 2.4044, Test Loss: 2.3838\n",
            "Epoch 17/150, Train Acc: 33.69%, Val Acc: 39.75%, Test Acc: 39.44%\n",
            "Epoch 17/150, Train Loss: 2.5838, Val Loss: 2.3574, Test Loss: 2.3661\n",
            "Epoch 18/150, Train Acc: 34.37%, Val Acc: 40.13%, Test Acc: 40.23%\n",
            "Epoch 18/150, Train Loss: 2.5542, Val Loss: 2.3188, Test Loss: 2.2859\n",
            "Epoch 19/150, Train Acc: 34.41%, Val Acc: 39.86%, Test Acc: 40.59%\n",
            "Epoch 19/150, Train Loss: 2.5396, Val Loss: 2.3395, Test Loss: 2.3077\n",
            "Checkpoint saved at epoch 20: ./checkpoint_epoch_20.pth\n"
          ]
        },
        {
          "output_type": "display_data",
          "data": {
            "text/plain": [
              "<IPython.core.display.Javascript object>"
            ],
            "application/javascript": [
              "\n",
              "    async function download(id, filename, size) {\n",
              "      if (!google.colab.kernel.accessAllowed) {\n",
              "        return;\n",
              "      }\n",
              "      const div = document.createElement('div');\n",
              "      const label = document.createElement('label');\n",
              "      label.textContent = `Downloading \"${filename}\": `;\n",
              "      div.appendChild(label);\n",
              "      const progress = document.createElement('progress');\n",
              "      progress.max = size;\n",
              "      div.appendChild(progress);\n",
              "      document.body.appendChild(div);\n",
              "\n",
              "      const buffers = [];\n",
              "      let downloaded = 0;\n",
              "\n",
              "      const channel = await google.colab.kernel.comms.open(id);\n",
              "      // Send a message to notify the kernel that we're ready.\n",
              "      channel.send({})\n",
              "\n",
              "      for await (const message of channel.messages) {\n",
              "        // Send a message to notify the kernel that we're ready.\n",
              "        channel.send({})\n",
              "        if (message.buffers) {\n",
              "          for (const buffer of message.buffers) {\n",
              "            buffers.push(buffer);\n",
              "            downloaded += buffer.byteLength;\n",
              "            progress.value = downloaded;\n",
              "          }\n",
              "        }\n",
              "      }\n",
              "      const blob = new Blob(buffers, {type: 'application/binary'});\n",
              "      const a = document.createElement('a');\n",
              "      a.href = window.URL.createObjectURL(blob);\n",
              "      a.download = filename;\n",
              "      div.appendChild(a);\n",
              "      a.click();\n",
              "      div.remove();\n",
              "    }\n",
              "  "
            ]
          },
          "metadata": {}
        },
        {
          "output_type": "display_data",
          "data": {
            "text/plain": [
              "<IPython.core.display.Javascript object>"
            ],
            "application/javascript": [
              "download(\"download_76943389-9e9f-4d7a-a623-8e7d78d87695\", \"checkpoint_epoch_20.pth\", 6529914)"
            ]
          },
          "metadata": {}
        },
        {
          "output_type": "stream",
          "name": "stdout",
          "text": [
            "Epoch 20/150, Train Acc: 35.20%, Val Acc: 41.58%, Test Acc: 41.68%\n",
            "Epoch 20/150, Train Loss: 2.5085, Val Loss: 2.2440, Test Loss: 2.2297\n",
            "Epoch 21/150, Train Acc: 35.60%, Val Acc: 40.85%, Test Acc: 41.11%\n",
            "Epoch 21/150, Train Loss: 2.4910, Val Loss: 2.2560, Test Loss: 2.2361\n",
            "Epoch 22/150, Train Acc: 36.11%, Val Acc: 40.84%, Test Acc: 41.00%\n",
            "Epoch 22/150, Train Loss: 2.4650, Val Loss: 2.2871, Test Loss: 2.2620\n",
            "Epoch 23/150, Train Acc: 36.47%, Val Acc: 39.88%, Test Acc: 40.12%\n",
            "Epoch 23/150, Train Loss: 2.4510, Val Loss: 2.2890, Test Loss: 2.2682\n",
            "Epoch 24/150, Train Acc: 36.78%, Val Acc: 42.04%, Test Acc: 42.13%\n",
            "Epoch 24/150, Train Loss: 2.4376, Val Loss: 2.2250, Test Loss: 2.2119\n",
            "Epoch 25/150, Train Acc: 36.94%, Val Acc: 41.40%, Test Acc: 42.39%\n",
            "Epoch 25/150, Train Loss: 2.4132, Val Loss: 2.2737, Test Loss: 2.2507\n",
            "Epoch 26/150, Train Acc: 37.32%, Val Acc: 42.45%, Test Acc: 42.78%\n",
            "Epoch 26/150, Train Loss: 2.4047, Val Loss: 2.2214, Test Loss: 2.2040\n",
            "Epoch 27/150, Train Acc: 38.02%, Val Acc: 42.48%, Test Acc: 42.80%\n",
            "Epoch 27/150, Train Loss: 2.3743, Val Loss: 2.1982, Test Loss: 2.1967\n",
            "Epoch 28/150, Train Acc: 38.08%, Val Acc: 43.53%, Test Acc: 43.17%\n",
            "Epoch 28/150, Train Loss: 2.3642, Val Loss: 2.1664, Test Loss: 2.1676\n",
            "Epoch 29/150, Train Acc: 38.65%, Val Acc: 43.07%, Test Acc: 42.83%\n",
            "Epoch 29/150, Train Loss: 2.3442, Val Loss: 2.1830, Test Loss: 2.1786\n",
            "Checkpoint saved at epoch 30: ./checkpoint_epoch_30.pth\n"
          ]
        },
        {
          "output_type": "display_data",
          "data": {
            "text/plain": [
              "<IPython.core.display.Javascript object>"
            ],
            "application/javascript": [
              "\n",
              "    async function download(id, filename, size) {\n",
              "      if (!google.colab.kernel.accessAllowed) {\n",
              "        return;\n",
              "      }\n",
              "      const div = document.createElement('div');\n",
              "      const label = document.createElement('label');\n",
              "      label.textContent = `Downloading \"${filename}\": `;\n",
              "      div.appendChild(label);\n",
              "      const progress = document.createElement('progress');\n",
              "      progress.max = size;\n",
              "      div.appendChild(progress);\n",
              "      document.body.appendChild(div);\n",
              "\n",
              "      const buffers = [];\n",
              "      let downloaded = 0;\n",
              "\n",
              "      const channel = await google.colab.kernel.comms.open(id);\n",
              "      // Send a message to notify the kernel that we're ready.\n",
              "      channel.send({})\n",
              "\n",
              "      for await (const message of channel.messages) {\n",
              "        // Send a message to notify the kernel that we're ready.\n",
              "        channel.send({})\n",
              "        if (message.buffers) {\n",
              "          for (const buffer of message.buffers) {\n",
              "            buffers.push(buffer);\n",
              "            downloaded += buffer.byteLength;\n",
              "            progress.value = downloaded;\n",
              "          }\n",
              "        }\n",
              "      }\n",
              "      const blob = new Blob(buffers, {type: 'application/binary'});\n",
              "      const a = document.createElement('a');\n",
              "      a.href = window.URL.createObjectURL(blob);\n",
              "      a.download = filename;\n",
              "      div.appendChild(a);\n",
              "      a.click();\n",
              "      div.remove();\n",
              "    }\n",
              "  "
            ]
          },
          "metadata": {}
        },
        {
          "output_type": "display_data",
          "data": {
            "text/plain": [
              "<IPython.core.display.Javascript object>"
            ],
            "application/javascript": [
              "download(\"download_419a9ede-f0c9-4c4b-96e7-a70d0b44598b\", \"checkpoint_epoch_30.pth\", 6529914)"
            ]
          },
          "metadata": {}
        },
        {
          "output_type": "stream",
          "name": "stdout",
          "text": [
            "Epoch 30/150, Train Acc: 38.93%, Val Acc: 43.96%, Test Acc: 43.92%\n",
            "Epoch 30/150, Train Loss: 2.3344, Val Loss: 2.1516, Test Loss: 2.1478\n",
            "Epoch 31/150, Train Acc: 39.20%, Val Acc: 43.92%, Test Acc: 44.06%\n",
            "Epoch 31/150, Train Loss: 2.3324, Val Loss: 2.1214, Test Loss: 2.1186\n",
            "Epoch 32/150, Train Acc: 39.48%, Val Acc: 43.40%, Test Acc: 43.86%\n",
            "Epoch 32/150, Train Loss: 2.3087, Val Loss: 2.1506, Test Loss: 2.1423\n",
            "Epoch 33/150, Train Acc: 39.89%, Val Acc: 43.86%, Test Acc: 43.68%\n",
            "Epoch 33/150, Train Loss: 2.2923, Val Loss: 2.1586, Test Loss: 2.1438\n",
            "Epoch 34/150, Train Acc: 39.84%, Val Acc: 43.89%, Test Acc: 44.32%\n",
            "Epoch 34/150, Train Loss: 2.2851, Val Loss: 2.1283, Test Loss: 2.1196\n",
            "Epoch 35/150, Train Acc: 39.98%, Val Acc: 44.96%, Test Acc: 44.75%\n",
            "Epoch 35/150, Train Loss: 2.2854, Val Loss: 2.1128, Test Loss: 2.0957\n",
            "Epoch 36/150, Train Acc: 40.90%, Val Acc: 44.20%, Test Acc: 44.81%\n",
            "Epoch 36/150, Train Loss: 2.2489, Val Loss: 2.1184, Test Loss: 2.0854\n",
            "Epoch 37/150, Train Acc: 40.84%, Val Acc: 45.00%, Test Acc: 44.43%\n",
            "Epoch 37/150, Train Loss: 2.2431, Val Loss: 2.0999, Test Loss: 2.0935\n",
            "Epoch 38/150, Train Acc: 40.98%, Val Acc: 44.87%, Test Acc: 45.25%\n",
            "Epoch 38/150, Train Loss: 2.2312, Val Loss: 2.1070, Test Loss: 2.0987\n",
            "Epoch 39/150, Train Acc: 41.53%, Val Acc: 45.44%, Test Acc: 45.49%\n",
            "Epoch 39/150, Train Loss: 2.2182, Val Loss: 2.0823, Test Loss: 2.0554\n",
            "Checkpoint saved at epoch 40: ./checkpoint_epoch_40.pth\n"
          ]
        },
        {
          "output_type": "display_data",
          "data": {
            "text/plain": [
              "<IPython.core.display.Javascript object>"
            ],
            "application/javascript": [
              "\n",
              "    async function download(id, filename, size) {\n",
              "      if (!google.colab.kernel.accessAllowed) {\n",
              "        return;\n",
              "      }\n",
              "      const div = document.createElement('div');\n",
              "      const label = document.createElement('label');\n",
              "      label.textContent = `Downloading \"${filename}\": `;\n",
              "      div.appendChild(label);\n",
              "      const progress = document.createElement('progress');\n",
              "      progress.max = size;\n",
              "      div.appendChild(progress);\n",
              "      document.body.appendChild(div);\n",
              "\n",
              "      const buffers = [];\n",
              "      let downloaded = 0;\n",
              "\n",
              "      const channel = await google.colab.kernel.comms.open(id);\n",
              "      // Send a message to notify the kernel that we're ready.\n",
              "      channel.send({})\n",
              "\n",
              "      for await (const message of channel.messages) {\n",
              "        // Send a message to notify the kernel that we're ready.\n",
              "        channel.send({})\n",
              "        if (message.buffers) {\n",
              "          for (const buffer of message.buffers) {\n",
              "            buffers.push(buffer);\n",
              "            downloaded += buffer.byteLength;\n",
              "            progress.value = downloaded;\n",
              "          }\n",
              "        }\n",
              "      }\n",
              "      const blob = new Blob(buffers, {type: 'application/binary'});\n",
              "      const a = document.createElement('a');\n",
              "      a.href = window.URL.createObjectURL(blob);\n",
              "      a.download = filename;\n",
              "      div.appendChild(a);\n",
              "      a.click();\n",
              "      div.remove();\n",
              "    }\n",
              "  "
            ]
          },
          "metadata": {}
        },
        {
          "output_type": "display_data",
          "data": {
            "text/plain": [
              "<IPython.core.display.Javascript object>"
            ],
            "application/javascript": [
              "download(\"download_0193d991-ff1c-4bb4-9c23-616c202a23d3\", \"checkpoint_epoch_40.pth\", 6529914)"
            ]
          },
          "metadata": {}
        },
        {
          "output_type": "stream",
          "name": "stdout",
          "text": [
            "Epoch 40/150, Train Acc: 41.60%, Val Acc: 44.96%, Test Acc: 45.79%\n",
            "Epoch 40/150, Train Loss: 2.2122, Val Loss: 2.1004, Test Loss: 2.0709\n",
            "Epoch 41/150, Train Acc: 42.09%, Val Acc: 46.17%, Test Acc: 45.98%\n",
            "Epoch 41/150, Train Loss: 2.1893, Val Loss: 2.0658, Test Loss: 2.0515\n",
            "Epoch 42/150, Train Acc: 42.22%, Val Acc: 45.64%, Test Acc: 45.37%\n",
            "Epoch 42/150, Train Loss: 2.1846, Val Loss: 2.0801, Test Loss: 2.0529\n",
            "Epoch 43/150, Train Acc: 42.60%, Val Acc: 46.12%, Test Acc: 46.34%\n",
            "Epoch 43/150, Train Loss: 2.1743, Val Loss: 2.0522, Test Loss: 2.0240\n",
            "Epoch 44/150, Train Acc: 42.36%, Val Acc: 45.99%, Test Acc: 46.46%\n",
            "Epoch 44/150, Train Loss: 2.1656, Val Loss: 2.0552, Test Loss: 2.0338\n",
            "Epoch 45/150, Train Acc: 42.65%, Val Acc: 45.95%, Test Acc: 46.06%\n",
            "Epoch 45/150, Train Loss: 2.1544, Val Loss: 2.0437, Test Loss: 2.0258\n",
            "Epoch 46/150, Train Acc: 42.77%, Val Acc: 46.59%, Test Acc: 47.12%\n",
            "Epoch 46/150, Train Loss: 2.1426, Val Loss: 2.0133, Test Loss: 1.9775\n",
            "Epoch 47/150, Train Acc: 43.26%, Val Acc: 47.11%, Test Acc: 47.95%\n",
            "Epoch 47/150, Train Loss: 2.1280, Val Loss: 2.0028, Test Loss: 1.9594\n",
            "Epoch 48/150, Train Acc: 43.23%, Val Acc: 46.54%, Test Acc: 47.20%\n",
            "Epoch 48/150, Train Loss: 2.1217, Val Loss: 2.0185, Test Loss: 1.9990\n",
            "Epoch 49/150, Train Acc: 43.47%, Val Acc: 46.86%, Test Acc: 47.59%\n",
            "Epoch 49/150, Train Loss: 2.1173, Val Loss: 2.0058, Test Loss: 1.9761\n",
            "Checkpoint saved at epoch 50: ./checkpoint_epoch_50.pth\n"
          ]
        },
        {
          "output_type": "display_data",
          "data": {
            "text/plain": [
              "<IPython.core.display.Javascript object>"
            ],
            "application/javascript": [
              "\n",
              "    async function download(id, filename, size) {\n",
              "      if (!google.colab.kernel.accessAllowed) {\n",
              "        return;\n",
              "      }\n",
              "      const div = document.createElement('div');\n",
              "      const label = document.createElement('label');\n",
              "      label.textContent = `Downloading \"${filename}\": `;\n",
              "      div.appendChild(label);\n",
              "      const progress = document.createElement('progress');\n",
              "      progress.max = size;\n",
              "      div.appendChild(progress);\n",
              "      document.body.appendChild(div);\n",
              "\n",
              "      const buffers = [];\n",
              "      let downloaded = 0;\n",
              "\n",
              "      const channel = await google.colab.kernel.comms.open(id);\n",
              "      // Send a message to notify the kernel that we're ready.\n",
              "      channel.send({})\n",
              "\n",
              "      for await (const message of channel.messages) {\n",
              "        // Send a message to notify the kernel that we're ready.\n",
              "        channel.send({})\n",
              "        if (message.buffers) {\n",
              "          for (const buffer of message.buffers) {\n",
              "            buffers.push(buffer);\n",
              "            downloaded += buffer.byteLength;\n",
              "            progress.value = downloaded;\n",
              "          }\n",
              "        }\n",
              "      }\n",
              "      const blob = new Blob(buffers, {type: 'application/binary'});\n",
              "      const a = document.createElement('a');\n",
              "      a.href = window.URL.createObjectURL(blob);\n",
              "      a.download = filename;\n",
              "      div.appendChild(a);\n",
              "      a.click();\n",
              "      div.remove();\n",
              "    }\n",
              "  "
            ]
          },
          "metadata": {}
        },
        {
          "output_type": "display_data",
          "data": {
            "text/plain": [
              "<IPython.core.display.Javascript object>"
            ],
            "application/javascript": [
              "download(\"download_b19cfbcb-66c8-4b4a-93d3-4c2f97da7be2\", \"checkpoint_epoch_50.pth\", 6529914)"
            ]
          },
          "metadata": {}
        },
        {
          "output_type": "stream",
          "name": "stdout",
          "text": [
            "Epoch 50/150, Train Acc: 43.90%, Val Acc: 46.93%, Test Acc: 47.43%\n",
            "Epoch 50/150, Train Loss: 2.0927, Val Loss: 1.9898, Test Loss: 1.9654\n",
            "Epoch 51/150, Train Acc: 43.69%, Val Acc: 47.23%, Test Acc: 47.47%\n",
            "Epoch 51/150, Train Loss: 2.1032, Val Loss: 1.9966, Test Loss: 1.9632\n",
            "Epoch 52/150, Train Acc: 44.40%, Val Acc: 47.28%, Test Acc: 47.37%\n",
            "Epoch 52/150, Train Loss: 2.0838, Val Loss: 2.0063, Test Loss: 1.9795\n",
            "Epoch 53/150, Train Acc: 44.45%, Val Acc: 46.89%, Test Acc: 47.53%\n",
            "Epoch 53/150, Train Loss: 2.0735, Val Loss: 2.0023, Test Loss: 1.9803\n",
            "Epoch 54/150, Train Acc: 44.65%, Val Acc: 47.75%, Test Acc: 48.22%\n",
            "Epoch 54/150, Train Loss: 2.0636, Val Loss: 1.9752, Test Loss: 1.9474\n",
            "Epoch 55/150, Train Acc: 44.96%, Val Acc: 48.12%, Test Acc: 48.73%\n",
            "Epoch 55/150, Train Loss: 2.0472, Val Loss: 1.9640, Test Loss: 1.9354\n",
            "Epoch 56/150, Train Acc: 45.48%, Val Acc: 48.01%, Test Acc: 49.14%\n",
            "Epoch 56/150, Train Loss: 2.0329, Val Loss: 1.9531, Test Loss: 1.9182\n",
            "Epoch 57/150, Train Acc: 45.67%, Val Acc: 48.07%, Test Acc: 48.05%\n",
            "Epoch 57/150, Train Loss: 2.0263, Val Loss: 1.9615, Test Loss: 1.9457\n",
            "Epoch 58/150, Train Acc: 45.57%, Val Acc: 48.94%, Test Acc: 49.16%\n",
            "Epoch 58/150, Train Loss: 2.0245, Val Loss: 1.9256, Test Loss: 1.8926\n",
            "Epoch 59/150, Train Acc: 45.73%, Val Acc: 49.00%, Test Acc: 49.38%\n",
            "Epoch 59/150, Train Loss: 2.0088, Val Loss: 1.9110, Test Loss: 1.8920\n",
            "Checkpoint saved at epoch 60: ./checkpoint_epoch_60.pth\n"
          ]
        },
        {
          "output_type": "display_data",
          "data": {
            "text/plain": [
              "<IPython.core.display.Javascript object>"
            ],
            "application/javascript": [
              "\n",
              "    async function download(id, filename, size) {\n",
              "      if (!google.colab.kernel.accessAllowed) {\n",
              "        return;\n",
              "      }\n",
              "      const div = document.createElement('div');\n",
              "      const label = document.createElement('label');\n",
              "      label.textContent = `Downloading \"${filename}\": `;\n",
              "      div.appendChild(label);\n",
              "      const progress = document.createElement('progress');\n",
              "      progress.max = size;\n",
              "      div.appendChild(progress);\n",
              "      document.body.appendChild(div);\n",
              "\n",
              "      const buffers = [];\n",
              "      let downloaded = 0;\n",
              "\n",
              "      const channel = await google.colab.kernel.comms.open(id);\n",
              "      // Send a message to notify the kernel that we're ready.\n",
              "      channel.send({})\n",
              "\n",
              "      for await (const message of channel.messages) {\n",
              "        // Send a message to notify the kernel that we're ready.\n",
              "        channel.send({})\n",
              "        if (message.buffers) {\n",
              "          for (const buffer of message.buffers) {\n",
              "            buffers.push(buffer);\n",
              "            downloaded += buffer.byteLength;\n",
              "            progress.value = downloaded;\n",
              "          }\n",
              "        }\n",
              "      }\n",
              "      const blob = new Blob(buffers, {type: 'application/binary'});\n",
              "      const a = document.createElement('a');\n",
              "      a.href = window.URL.createObjectURL(blob);\n",
              "      a.download = filename;\n",
              "      div.appendChild(a);\n",
              "      a.click();\n",
              "      div.remove();\n",
              "    }\n",
              "  "
            ]
          },
          "metadata": {}
        },
        {
          "output_type": "display_data",
          "data": {
            "text/plain": [
              "<IPython.core.display.Javascript object>"
            ],
            "application/javascript": [
              "download(\"download_1d70e9b1-1e21-4a84-99db-80b0578909ac\", \"checkpoint_epoch_60.pth\", 6529914)"
            ]
          },
          "metadata": {}
        },
        {
          "output_type": "stream",
          "name": "stdout",
          "text": [
            "Epoch 60/150, Train Acc: 45.93%, Val Acc: 48.95%, Test Acc: 48.93%\n",
            "Epoch 60/150, Train Loss: 2.0053, Val Loss: 1.9160, Test Loss: 1.8957\n",
            "Epoch 61/150, Train Acc: 46.31%, Val Acc: 49.62%, Test Acc: 50.16%\n",
            "Epoch 61/150, Train Loss: 1.9910, Val Loss: 1.9036, Test Loss: 1.8844\n",
            "Epoch 62/150, Train Acc: 46.34%, Val Acc: 49.88%, Test Acc: 50.21%\n",
            "Epoch 62/150, Train Loss: 1.9895, Val Loss: 1.8808, Test Loss: 1.8667\n",
            "Epoch 63/150, Train Acc: 46.65%, Val Acc: 49.15%, Test Acc: 50.29%\n",
            "Epoch 63/150, Train Loss: 1.9747, Val Loss: 1.9006, Test Loss: 1.8847\n",
            "Epoch 64/150, Train Acc: 46.94%, Val Acc: 48.38%, Test Acc: 49.31%\n",
            "Epoch 64/150, Train Loss: 1.9592, Val Loss: 1.9216, Test Loss: 1.9005\n",
            "Epoch 65/150, Train Acc: 46.69%, Val Acc: 49.21%, Test Acc: 49.77%\n",
            "Epoch 65/150, Train Loss: 1.9629, Val Loss: 1.9272, Test Loss: 1.8981\n",
            "Epoch 66/150, Train Acc: 47.23%, Val Acc: 50.22%, Test Acc: 50.24%\n",
            "Epoch 66/150, Train Loss: 1.9466, Val Loss: 1.8683, Test Loss: 1.8475\n",
            "Epoch 67/150, Train Acc: 47.40%, Val Acc: 49.46%, Test Acc: 49.86%\n",
            "Epoch 67/150, Train Loss: 1.9375, Val Loss: 1.8780, Test Loss: 1.8597\n",
            "Epoch 68/150, Train Acc: 47.42%, Val Acc: 49.66%, Test Acc: 49.81%\n",
            "Epoch 68/150, Train Loss: 1.9183, Val Loss: 1.9015, Test Loss: 1.8876\n",
            "Epoch 69/150, Train Acc: 47.90%, Val Acc: 49.91%, Test Acc: 50.05%\n",
            "Epoch 69/150, Train Loss: 1.9151, Val Loss: 1.8997, Test Loss: 1.8685\n",
            "Checkpoint saved at epoch 70: ./checkpoint_epoch_70.pth\n"
          ]
        },
        {
          "output_type": "display_data",
          "data": {
            "text/plain": [
              "<IPython.core.display.Javascript object>"
            ],
            "application/javascript": [
              "\n",
              "    async function download(id, filename, size) {\n",
              "      if (!google.colab.kernel.accessAllowed) {\n",
              "        return;\n",
              "      }\n",
              "      const div = document.createElement('div');\n",
              "      const label = document.createElement('label');\n",
              "      label.textContent = `Downloading \"${filename}\": `;\n",
              "      div.appendChild(label);\n",
              "      const progress = document.createElement('progress');\n",
              "      progress.max = size;\n",
              "      div.appendChild(progress);\n",
              "      document.body.appendChild(div);\n",
              "\n",
              "      const buffers = [];\n",
              "      let downloaded = 0;\n",
              "\n",
              "      const channel = await google.colab.kernel.comms.open(id);\n",
              "      // Send a message to notify the kernel that we're ready.\n",
              "      channel.send({})\n",
              "\n",
              "      for await (const message of channel.messages) {\n",
              "        // Send a message to notify the kernel that we're ready.\n",
              "        channel.send({})\n",
              "        if (message.buffers) {\n",
              "          for (const buffer of message.buffers) {\n",
              "            buffers.push(buffer);\n",
              "            downloaded += buffer.byteLength;\n",
              "            progress.value = downloaded;\n",
              "          }\n",
              "        }\n",
              "      }\n",
              "      const blob = new Blob(buffers, {type: 'application/binary'});\n",
              "      const a = document.createElement('a');\n",
              "      a.href = window.URL.createObjectURL(blob);\n",
              "      a.download = filename;\n",
              "      div.appendChild(a);\n",
              "      a.click();\n",
              "      div.remove();\n",
              "    }\n",
              "  "
            ]
          },
          "metadata": {}
        },
        {
          "output_type": "display_data",
          "data": {
            "text/plain": [
              "<IPython.core.display.Javascript object>"
            ],
            "application/javascript": [
              "download(\"download_525cd43a-84e3-4827-ac47-d1b6b7a805b3\", \"checkpoint_epoch_70.pth\", 6529914)"
            ]
          },
          "metadata": {}
        },
        {
          "output_type": "stream",
          "name": "stdout",
          "text": [
            "Epoch 70/150, Train Acc: 48.11%, Val Acc: 49.45%, Test Acc: 50.08%\n",
            "Epoch 70/150, Train Loss: 1.8998, Val Loss: 1.9085, Test Loss: 1.8848\n",
            "Epoch 71/150, Train Acc: 48.13%, Val Acc: 50.28%, Test Acc: 50.33%\n",
            "Epoch 71/150, Train Loss: 1.8980, Val Loss: 1.8601, Test Loss: 1.8378\n",
            "Epoch 72/150, Train Acc: 48.52%, Val Acc: 50.26%, Test Acc: 51.15%\n",
            "Epoch 72/150, Train Loss: 1.8833, Val Loss: 1.8498, Test Loss: 1.8171\n",
            "Epoch 73/150, Train Acc: 48.70%, Val Acc: 49.74%, Test Acc: 49.77%\n",
            "Epoch 73/150, Train Loss: 1.8795, Val Loss: 1.8855, Test Loss: 1.8623\n",
            "Epoch 74/150, Train Acc: 48.59%, Val Acc: 50.90%, Test Acc: 51.09%\n",
            "Epoch 74/150, Train Loss: 1.8787, Val Loss: 1.8340, Test Loss: 1.8176\n",
            "Epoch 75/150, Train Acc: 49.30%, Val Acc: 50.08%, Test Acc: 50.61%\n",
            "Epoch 75/150, Train Loss: 1.8565, Val Loss: 1.8685, Test Loss: 1.8552\n",
            "Epoch 76/150, Train Acc: 49.20%, Val Acc: 50.57%, Test Acc: 51.34%\n",
            "Epoch 76/150, Train Loss: 1.8497, Val Loss: 1.8512, Test Loss: 1.8289\n",
            "Epoch 77/150, Train Acc: 50.01%, Val Acc: 51.21%, Test Acc: 51.82%\n",
            "Epoch 77/150, Train Loss: 1.8358, Val Loss: 1.8177, Test Loss: 1.7914\n",
            "Epoch 78/150, Train Acc: 49.39%, Val Acc: 50.49%, Test Acc: 51.71%\n",
            "Epoch 78/150, Train Loss: 1.8309, Val Loss: 1.8444, Test Loss: 1.8121\n",
            "Epoch 79/150, Train Acc: 50.07%, Val Acc: 51.08%, Test Acc: 51.74%\n",
            "Epoch 79/150, Train Loss: 1.8242, Val Loss: 1.8321, Test Loss: 1.8125\n",
            "Checkpoint saved at epoch 80: ./checkpoint_epoch_80.pth\n"
          ]
        },
        {
          "output_type": "display_data",
          "data": {
            "text/plain": [
              "<IPython.core.display.Javascript object>"
            ],
            "application/javascript": [
              "\n",
              "    async function download(id, filename, size) {\n",
              "      if (!google.colab.kernel.accessAllowed) {\n",
              "        return;\n",
              "      }\n",
              "      const div = document.createElement('div');\n",
              "      const label = document.createElement('label');\n",
              "      label.textContent = `Downloading \"${filename}\": `;\n",
              "      div.appendChild(label);\n",
              "      const progress = document.createElement('progress');\n",
              "      progress.max = size;\n",
              "      div.appendChild(progress);\n",
              "      document.body.appendChild(div);\n",
              "\n",
              "      const buffers = [];\n",
              "      let downloaded = 0;\n",
              "\n",
              "      const channel = await google.colab.kernel.comms.open(id);\n",
              "      // Send a message to notify the kernel that we're ready.\n",
              "      channel.send({})\n",
              "\n",
              "      for await (const message of channel.messages) {\n",
              "        // Send a message to notify the kernel that we're ready.\n",
              "        channel.send({})\n",
              "        if (message.buffers) {\n",
              "          for (const buffer of message.buffers) {\n",
              "            buffers.push(buffer);\n",
              "            downloaded += buffer.byteLength;\n",
              "            progress.value = downloaded;\n",
              "          }\n",
              "        }\n",
              "      }\n",
              "      const blob = new Blob(buffers, {type: 'application/binary'});\n",
              "      const a = document.createElement('a');\n",
              "      a.href = window.URL.createObjectURL(blob);\n",
              "      a.download = filename;\n",
              "      div.appendChild(a);\n",
              "      a.click();\n",
              "      div.remove();\n",
              "    }\n",
              "  "
            ]
          },
          "metadata": {}
        },
        {
          "output_type": "display_data",
          "data": {
            "text/plain": [
              "<IPython.core.display.Javascript object>"
            ],
            "application/javascript": [
              "download(\"download_8faf5149-04b4-4a03-90e2-e56a23913141\", \"checkpoint_epoch_80.pth\", 6529914)"
            ]
          },
          "metadata": {}
        },
        {
          "output_type": "stream",
          "name": "stdout",
          "text": [
            "Epoch 80/150, Train Acc: 50.48%, Val Acc: 51.23%, Test Acc: 51.96%\n",
            "Epoch 80/150, Train Loss: 1.7978, Val Loss: 1.8267, Test Loss: 1.7904\n",
            "Epoch 81/150, Train Acc: 50.47%, Val Acc: 51.50%, Test Acc: 52.27%\n",
            "Epoch 81/150, Train Loss: 1.8012, Val Loss: 1.8026, Test Loss: 1.7731\n",
            "Epoch 82/150, Train Acc: 50.79%, Val Acc: 52.06%, Test Acc: 52.13%\n",
            "Epoch 82/150, Train Loss: 1.7771, Val Loss: 1.7959, Test Loss: 1.7654\n",
            "Epoch 83/150, Train Acc: 51.27%, Val Acc: 51.85%, Test Acc: 52.05%\n",
            "Epoch 83/150, Train Loss: 1.7746, Val Loss: 1.8064, Test Loss: 1.7819\n",
            "Epoch 84/150, Train Acc: 50.98%, Val Acc: 51.32%, Test Acc: 52.45%\n",
            "Epoch 84/150, Train Loss: 1.7715, Val Loss: 1.8060, Test Loss: 1.7748\n",
            "Epoch 85/150, Train Acc: 51.71%, Val Acc: 52.09%, Test Acc: 52.90%\n",
            "Epoch 85/150, Train Loss: 1.7598, Val Loss: 1.7834, Test Loss: 1.7532\n",
            "Epoch 86/150, Train Acc: 51.76%, Val Acc: 51.90%, Test Acc: 52.46%\n",
            "Epoch 86/150, Train Loss: 1.7518, Val Loss: 1.7865, Test Loss: 1.7586\n",
            "Epoch 87/150, Train Acc: 51.99%, Val Acc: 52.28%, Test Acc: 52.42%\n",
            "Epoch 87/150, Train Loss: 1.7363, Val Loss: 1.7725, Test Loss: 1.7459\n",
            "Epoch 88/150, Train Acc: 51.93%, Val Acc: 51.03%, Test Acc: 51.58%\n",
            "Epoch 88/150, Train Loss: 1.7362, Val Loss: 1.8256, Test Loss: 1.7997\n",
            "Epoch 89/150, Train Acc: 52.55%, Val Acc: 52.76%, Test Acc: 53.49%\n",
            "Epoch 89/150, Train Loss: 1.7092, Val Loss: 1.7482, Test Loss: 1.7295\n",
            "Checkpoint saved at epoch 90: ./checkpoint_epoch_90.pth\n"
          ]
        },
        {
          "output_type": "display_data",
          "data": {
            "text/plain": [
              "<IPython.core.display.Javascript object>"
            ],
            "application/javascript": [
              "\n",
              "    async function download(id, filename, size) {\n",
              "      if (!google.colab.kernel.accessAllowed) {\n",
              "        return;\n",
              "      }\n",
              "      const div = document.createElement('div');\n",
              "      const label = document.createElement('label');\n",
              "      label.textContent = `Downloading \"${filename}\": `;\n",
              "      div.appendChild(label);\n",
              "      const progress = document.createElement('progress');\n",
              "      progress.max = size;\n",
              "      div.appendChild(progress);\n",
              "      document.body.appendChild(div);\n",
              "\n",
              "      const buffers = [];\n",
              "      let downloaded = 0;\n",
              "\n",
              "      const channel = await google.colab.kernel.comms.open(id);\n",
              "      // Send a message to notify the kernel that we're ready.\n",
              "      channel.send({})\n",
              "\n",
              "      for await (const message of channel.messages) {\n",
              "        // Send a message to notify the kernel that we're ready.\n",
              "        channel.send({})\n",
              "        if (message.buffers) {\n",
              "          for (const buffer of message.buffers) {\n",
              "            buffers.push(buffer);\n",
              "            downloaded += buffer.byteLength;\n",
              "            progress.value = downloaded;\n",
              "          }\n",
              "        }\n",
              "      }\n",
              "      const blob = new Blob(buffers, {type: 'application/binary'});\n",
              "      const a = document.createElement('a');\n",
              "      a.href = window.URL.createObjectURL(blob);\n",
              "      a.download = filename;\n",
              "      div.appendChild(a);\n",
              "      a.click();\n",
              "      div.remove();\n",
              "    }\n",
              "  "
            ]
          },
          "metadata": {}
        },
        {
          "output_type": "display_data",
          "data": {
            "text/plain": [
              "<IPython.core.display.Javascript object>"
            ],
            "application/javascript": [
              "download(\"download_75283387-8af1-43b3-89d5-c7729728b9c5\", \"checkpoint_epoch_90.pth\", 6529914)"
            ]
          },
          "metadata": {}
        },
        {
          "output_type": "stream",
          "name": "stdout",
          "text": [
            "Epoch 90/150, Train Acc: 52.80%, Val Acc: 51.92%, Test Acc: 52.85%\n",
            "Epoch 90/150, Train Loss: 1.7055, Val Loss: 1.7758, Test Loss: 1.7468\n",
            "Epoch 91/150, Train Acc: 52.49%, Val Acc: 52.72%, Test Acc: 53.23%\n",
            "Epoch 91/150, Train Loss: 1.7060, Val Loss: 1.7668, Test Loss: 1.7402\n",
            "Epoch 92/150, Train Acc: 52.94%, Val Acc: 52.47%, Test Acc: 53.30%\n",
            "Epoch 92/150, Train Loss: 1.6946, Val Loss: 1.7583, Test Loss: 1.7423\n",
            "Epoch 93/150, Train Acc: 52.85%, Val Acc: 52.45%, Test Acc: 53.04%\n",
            "Epoch 93/150, Train Loss: 1.6832, Val Loss: 1.7685, Test Loss: 1.7527\n",
            "Epoch 94/150, Train Acc: 53.11%, Val Acc: 52.84%, Test Acc: 53.59%\n",
            "Epoch 94/150, Train Loss: 1.6727, Val Loss: 1.7443, Test Loss: 1.7279\n",
            "Epoch 95/150, Train Acc: 53.44%, Val Acc: 53.01%, Test Acc: 52.93%\n",
            "Epoch 95/150, Train Loss: 1.6765, Val Loss: 1.7577, Test Loss: 1.7305\n",
            "Epoch 96/150, Train Acc: 53.35%, Val Acc: 54.28%, Test Acc: 53.62%\n",
            "Epoch 96/150, Train Loss: 1.6647, Val Loss: 1.7107, Test Loss: 1.6961\n",
            "Epoch 97/150, Train Acc: 53.78%, Val Acc: 53.63%, Test Acc: 54.46%\n",
            "Epoch 97/150, Train Loss: 1.6518, Val Loss: 1.7061, Test Loss: 1.6893\n",
            "Epoch 98/150, Train Acc: 54.43%, Val Acc: 52.96%, Test Acc: 53.50%\n",
            "Epoch 98/150, Train Loss: 1.6280, Val Loss: 1.7324, Test Loss: 1.7119\n",
            "Epoch 99/150, Train Acc: 54.05%, Val Acc: 53.01%, Test Acc: 53.62%\n",
            "Epoch 99/150, Train Loss: 1.6439, Val Loss: 1.7355, Test Loss: 1.7201\n",
            "Checkpoint saved at epoch 100: ./checkpoint_epoch_100.pth\n"
          ]
        },
        {
          "output_type": "display_data",
          "data": {
            "text/plain": [
              "<IPython.core.display.Javascript object>"
            ],
            "application/javascript": [
              "\n",
              "    async function download(id, filename, size) {\n",
              "      if (!google.colab.kernel.accessAllowed) {\n",
              "        return;\n",
              "      }\n",
              "      const div = document.createElement('div');\n",
              "      const label = document.createElement('label');\n",
              "      label.textContent = `Downloading \"${filename}\": `;\n",
              "      div.appendChild(label);\n",
              "      const progress = document.createElement('progress');\n",
              "      progress.max = size;\n",
              "      div.appendChild(progress);\n",
              "      document.body.appendChild(div);\n",
              "\n",
              "      const buffers = [];\n",
              "      let downloaded = 0;\n",
              "\n",
              "      const channel = await google.colab.kernel.comms.open(id);\n",
              "      // Send a message to notify the kernel that we're ready.\n",
              "      channel.send({})\n",
              "\n",
              "      for await (const message of channel.messages) {\n",
              "        // Send a message to notify the kernel that we're ready.\n",
              "        channel.send({})\n",
              "        if (message.buffers) {\n",
              "          for (const buffer of message.buffers) {\n",
              "            buffers.push(buffer);\n",
              "            downloaded += buffer.byteLength;\n",
              "            progress.value = downloaded;\n",
              "          }\n",
              "        }\n",
              "      }\n",
              "      const blob = new Blob(buffers, {type: 'application/binary'});\n",
              "      const a = document.createElement('a');\n",
              "      a.href = window.URL.createObjectURL(blob);\n",
              "      a.download = filename;\n",
              "      div.appendChild(a);\n",
              "      a.click();\n",
              "      div.remove();\n",
              "    }\n",
              "  "
            ]
          },
          "metadata": {}
        },
        {
          "output_type": "display_data",
          "data": {
            "text/plain": [
              "<IPython.core.display.Javascript object>"
            ],
            "application/javascript": [
              "download(\"download_94248058-81e6-412c-92f1-b9f3d7fafb38\", \"checkpoint_epoch_100.pth\", 6529938)"
            ]
          },
          "metadata": {}
        },
        {
          "output_type": "stream",
          "name": "stdout",
          "text": [
            "Epoch 100/150, Train Acc: 54.38%, Val Acc: 54.01%, Test Acc: 54.52%\n",
            "Epoch 100/150, Train Loss: 1.6268, Val Loss: 1.7122, Test Loss: 1.6955\n",
            "Epoch 101/150, Train Acc: 54.72%, Val Acc: 53.65%, Test Acc: 54.42%\n",
            "Epoch 101/150, Train Loss: 1.6177, Val Loss: 1.6993, Test Loss: 1.6912\n",
            "Epoch 102/150, Train Acc: 54.85%, Val Acc: 54.08%, Test Acc: 54.09%\n",
            "Epoch 102/150, Train Loss: 1.6011, Val Loss: 1.6876, Test Loss: 1.6743\n",
            "Epoch 103/150, Train Acc: 55.32%, Val Acc: 54.57%, Test Acc: 55.00%\n",
            "Epoch 103/150, Train Loss: 1.5970, Val Loss: 1.6787, Test Loss: 1.6613\n",
            "Epoch 104/150, Train Acc: 55.53%, Val Acc: 53.99%, Test Acc: 54.82%\n",
            "Epoch 104/150, Train Loss: 1.5744, Val Loss: 1.6941, Test Loss: 1.6689\n",
            "Epoch 105/150, Train Acc: 55.28%, Val Acc: 54.09%, Test Acc: 54.62%\n",
            "Epoch 105/150, Train Loss: 1.5868, Val Loss: 1.6815, Test Loss: 1.6691\n",
            "Epoch 106/150, Train Acc: 55.87%, Val Acc: 54.45%, Test Acc: 55.08%\n",
            "Epoch 106/150, Train Loss: 1.5641, Val Loss: 1.6772, Test Loss: 1.6627\n",
            "Epoch 107/150, Train Acc: 55.72%, Val Acc: 54.70%, Test Acc: 55.26%\n",
            "Epoch 107/150, Train Loss: 1.5620, Val Loss: 1.6653, Test Loss: 1.6458\n",
            "Epoch 108/150, Train Acc: 55.81%, Val Acc: 54.23%, Test Acc: 54.96%\n",
            "Epoch 108/150, Train Loss: 1.5566, Val Loss: 1.6840, Test Loss: 1.6624\n",
            "Epoch 109/150, Train Acc: 56.41%, Val Acc: 54.98%, Test Acc: 55.10%\n",
            "Epoch 109/150, Train Loss: 1.5425, Val Loss: 1.6640, Test Loss: 1.6493\n",
            "Checkpoint saved at epoch 110: ./checkpoint_epoch_110.pth\n"
          ]
        },
        {
          "output_type": "display_data",
          "data": {
            "text/plain": [
              "<IPython.core.display.Javascript object>"
            ],
            "application/javascript": [
              "\n",
              "    async function download(id, filename, size) {\n",
              "      if (!google.colab.kernel.accessAllowed) {\n",
              "        return;\n",
              "      }\n",
              "      const div = document.createElement('div');\n",
              "      const label = document.createElement('label');\n",
              "      label.textContent = `Downloading \"${filename}\": `;\n",
              "      div.appendChild(label);\n",
              "      const progress = document.createElement('progress');\n",
              "      progress.max = size;\n",
              "      div.appendChild(progress);\n",
              "      document.body.appendChild(div);\n",
              "\n",
              "      const buffers = [];\n",
              "      let downloaded = 0;\n",
              "\n",
              "      const channel = await google.colab.kernel.comms.open(id);\n",
              "      // Send a message to notify the kernel that we're ready.\n",
              "      channel.send({})\n",
              "\n",
              "      for await (const message of channel.messages) {\n",
              "        // Send a message to notify the kernel that we're ready.\n",
              "        channel.send({})\n",
              "        if (message.buffers) {\n",
              "          for (const buffer of message.buffers) {\n",
              "            buffers.push(buffer);\n",
              "            downloaded += buffer.byteLength;\n",
              "            progress.value = downloaded;\n",
              "          }\n",
              "        }\n",
              "      }\n",
              "      const blob = new Blob(buffers, {type: 'application/binary'});\n",
              "      const a = document.createElement('a');\n",
              "      a.href = window.URL.createObjectURL(blob);\n",
              "      a.download = filename;\n",
              "      div.appendChild(a);\n",
              "      a.click();\n",
              "      div.remove();\n",
              "    }\n",
              "  "
            ]
          },
          "metadata": {}
        },
        {
          "output_type": "display_data",
          "data": {
            "text/plain": [
              "<IPython.core.display.Javascript object>"
            ],
            "application/javascript": [
              "download(\"download_2d6acff4-73c4-4735-9b27-846cfd64bc44\", \"checkpoint_epoch_110.pth\", 6529938)"
            ]
          },
          "metadata": {}
        },
        {
          "output_type": "stream",
          "name": "stdout",
          "text": [
            "Epoch 110/150, Train Acc: 56.55%, Val Acc: 54.30%, Test Acc: 55.19%\n",
            "Epoch 110/150, Train Loss: 1.5382, Val Loss: 1.6746, Test Loss: 1.6666\n",
            "Epoch 111/150, Train Acc: 56.80%, Val Acc: 55.57%, Test Acc: 55.51%\n",
            "Epoch 111/150, Train Loss: 1.5291, Val Loss: 1.6501, Test Loss: 1.6361\n",
            "Epoch 112/150, Train Acc: 56.61%, Val Acc: 55.05%, Test Acc: 55.36%\n",
            "Epoch 112/150, Train Loss: 1.5325, Val Loss: 1.6472, Test Loss: 1.6344\n",
            "Epoch 113/150, Train Acc: 56.96%, Val Acc: 55.13%, Test Acc: 55.77%\n",
            "Epoch 113/150, Train Loss: 1.5217, Val Loss: 1.6471, Test Loss: 1.6360\n",
            "Epoch 114/150, Train Acc: 57.06%, Val Acc: 55.45%, Test Acc: 55.63%\n",
            "Epoch 114/150, Train Loss: 1.5161, Val Loss: 1.6506, Test Loss: 1.6358\n",
            "Epoch 115/150, Train Acc: 57.26%, Val Acc: 54.67%, Test Acc: 55.24%\n",
            "Epoch 115/150, Train Loss: 1.5069, Val Loss: 1.6693, Test Loss: 1.6543\n",
            "Epoch 116/150, Train Acc: 57.44%, Val Acc: 55.34%, Test Acc: 55.44%\n",
            "Epoch 116/150, Train Loss: 1.4968, Val Loss: 1.6418, Test Loss: 1.6258\n",
            "Epoch 117/150, Train Acc: 57.66%, Val Acc: 55.98%, Test Acc: 56.08%\n",
            "Epoch 117/150, Train Loss: 1.4821, Val Loss: 1.6369, Test Loss: 1.6166\n",
            "Epoch 118/150, Train Acc: 57.74%, Val Acc: 55.48%, Test Acc: 55.30%\n",
            "Epoch 118/150, Train Loss: 1.4863, Val Loss: 1.6454, Test Loss: 1.6339\n",
            "Epoch 119/150, Train Acc: 58.17%, Val Acc: 55.56%, Test Acc: 55.65%\n",
            "Epoch 119/150, Train Loss: 1.4748, Val Loss: 1.6315, Test Loss: 1.6233\n",
            "Checkpoint saved at epoch 120: ./checkpoint_epoch_120.pth\n"
          ]
        },
        {
          "output_type": "display_data",
          "data": {
            "text/plain": [
              "<IPython.core.display.Javascript object>"
            ],
            "application/javascript": [
              "\n",
              "    async function download(id, filename, size) {\n",
              "      if (!google.colab.kernel.accessAllowed) {\n",
              "        return;\n",
              "      }\n",
              "      const div = document.createElement('div');\n",
              "      const label = document.createElement('label');\n",
              "      label.textContent = `Downloading \"${filename}\": `;\n",
              "      div.appendChild(label);\n",
              "      const progress = document.createElement('progress');\n",
              "      progress.max = size;\n",
              "      div.appendChild(progress);\n",
              "      document.body.appendChild(div);\n",
              "\n",
              "      const buffers = [];\n",
              "      let downloaded = 0;\n",
              "\n",
              "      const channel = await google.colab.kernel.comms.open(id);\n",
              "      // Send a message to notify the kernel that we're ready.\n",
              "      channel.send({})\n",
              "\n",
              "      for await (const message of channel.messages) {\n",
              "        // Send a message to notify the kernel that we're ready.\n",
              "        channel.send({})\n",
              "        if (message.buffers) {\n",
              "          for (const buffer of message.buffers) {\n",
              "            buffers.push(buffer);\n",
              "            downloaded += buffer.byteLength;\n",
              "            progress.value = downloaded;\n",
              "          }\n",
              "        }\n",
              "      }\n",
              "      const blob = new Blob(buffers, {type: 'application/binary'});\n",
              "      const a = document.createElement('a');\n",
              "      a.href = window.URL.createObjectURL(blob);\n",
              "      a.download = filename;\n",
              "      div.appendChild(a);\n",
              "      a.click();\n",
              "      div.remove();\n",
              "    }\n",
              "  "
            ]
          },
          "metadata": {}
        },
        {
          "output_type": "display_data",
          "data": {
            "text/plain": [
              "<IPython.core.display.Javascript object>"
            ],
            "application/javascript": [
              "download(\"download_d1937cef-6ef7-488a-bc9d-8c8dc285e8be\", \"checkpoint_epoch_120.pth\", 6529938)"
            ]
          },
          "metadata": {}
        },
        {
          "output_type": "stream",
          "name": "stdout",
          "text": [
            "Epoch 120/150, Train Acc: 58.16%, Val Acc: 54.59%, Test Acc: 55.58%\n",
            "Epoch 120/150, Train Loss: 1.4678, Val Loss: 1.6561, Test Loss: 1.6409\n",
            "Epoch 121/150, Train Acc: 58.72%, Val Acc: 55.78%, Test Acc: 56.10%\n",
            "Epoch 121/150, Train Loss: 1.4457, Val Loss: 1.6313, Test Loss: 1.6235\n",
            "Epoch 122/150, Train Acc: 58.59%, Val Acc: 55.66%, Test Acc: 56.40%\n",
            "Epoch 122/150, Train Loss: 1.4555, Val Loss: 1.6280, Test Loss: 1.6148\n",
            "Epoch 123/150, Train Acc: 58.56%, Val Acc: 56.33%, Test Acc: 56.36%\n",
            "Epoch 123/150, Train Loss: 1.4554, Val Loss: 1.6156, Test Loss: 1.6059\n",
            "Epoch 124/150, Train Acc: 58.61%, Val Acc: 55.52%, Test Acc: 56.29%\n",
            "Epoch 124/150, Train Loss: 1.4437, Val Loss: 1.6216, Test Loss: 1.6116\n",
            "Epoch 125/150, Train Acc: 58.86%, Val Acc: 55.79%, Test Acc: 56.50%\n",
            "Epoch 125/150, Train Loss: 1.4430, Val Loss: 1.6220, Test Loss: 1.6144\n",
            "Epoch 126/150, Train Acc: 58.78%, Val Acc: 55.65%, Test Acc: 56.48%\n",
            "Epoch 126/150, Train Loss: 1.4360, Val Loss: 1.6183, Test Loss: 1.6049\n",
            "Epoch 127/150, Train Acc: 58.84%, Val Acc: 55.95%, Test Acc: 56.67%\n",
            "Epoch 127/150, Train Loss: 1.4349, Val Loss: 1.6179, Test Loss: 1.6029\n",
            "Epoch 128/150, Train Acc: 59.30%, Val Acc: 55.96%, Test Acc: 56.75%\n",
            "Epoch 128/150, Train Loss: 1.4222, Val Loss: 1.6078, Test Loss: 1.5983\n",
            "Epoch 129/150, Train Acc: 59.32%, Val Acc: 56.47%, Test Acc: 56.78%\n",
            "Epoch 129/150, Train Loss: 1.4258, Val Loss: 1.6041, Test Loss: 1.5982\n",
            "Checkpoint saved at epoch 130: ./checkpoint_epoch_130.pth\n"
          ]
        },
        {
          "output_type": "display_data",
          "data": {
            "text/plain": [
              "<IPython.core.display.Javascript object>"
            ],
            "application/javascript": [
              "\n",
              "    async function download(id, filename, size) {\n",
              "      if (!google.colab.kernel.accessAllowed) {\n",
              "        return;\n",
              "      }\n",
              "      const div = document.createElement('div');\n",
              "      const label = document.createElement('label');\n",
              "      label.textContent = `Downloading \"${filename}\": `;\n",
              "      div.appendChild(label);\n",
              "      const progress = document.createElement('progress');\n",
              "      progress.max = size;\n",
              "      div.appendChild(progress);\n",
              "      document.body.appendChild(div);\n",
              "\n",
              "      const buffers = [];\n",
              "      let downloaded = 0;\n",
              "\n",
              "      const channel = await google.colab.kernel.comms.open(id);\n",
              "      // Send a message to notify the kernel that we're ready.\n",
              "      channel.send({})\n",
              "\n",
              "      for await (const message of channel.messages) {\n",
              "        // Send a message to notify the kernel that we're ready.\n",
              "        channel.send({})\n",
              "        if (message.buffers) {\n",
              "          for (const buffer of message.buffers) {\n",
              "            buffers.push(buffer);\n",
              "            downloaded += buffer.byteLength;\n",
              "            progress.value = downloaded;\n",
              "          }\n",
              "        }\n",
              "      }\n",
              "      const blob = new Blob(buffers, {type: 'application/binary'});\n",
              "      const a = document.createElement('a');\n",
              "      a.href = window.URL.createObjectURL(blob);\n",
              "      a.download = filename;\n",
              "      div.appendChild(a);\n",
              "      a.click();\n",
              "      div.remove();\n",
              "    }\n",
              "  "
            ]
          },
          "metadata": {}
        },
        {
          "output_type": "display_data",
          "data": {
            "text/plain": [
              "<IPython.core.display.Javascript object>"
            ],
            "application/javascript": [
              "download(\"download_d653b92f-8cce-473d-ad07-0e97df2f6bb8\", \"checkpoint_epoch_130.pth\", 6529938)"
            ]
          },
          "metadata": {}
        },
        {
          "output_type": "stream",
          "name": "stdout",
          "text": [
            "Epoch 130/150, Train Acc: 59.36%, Val Acc: 56.37%, Test Acc: 56.86%\n",
            "Epoch 130/150, Train Loss: 1.4173, Val Loss: 1.6002, Test Loss: 1.5952\n",
            "Epoch 131/150, Train Acc: 59.75%, Val Acc: 56.78%, Test Acc: 56.82%\n",
            "Epoch 131/150, Train Loss: 1.4096, Val Loss: 1.5999, Test Loss: 1.5905\n",
            "Epoch 132/150, Train Acc: 59.50%, Val Acc: 56.34%, Test Acc: 56.75%\n",
            "Epoch 132/150, Train Loss: 1.4103, Val Loss: 1.6087, Test Loss: 1.5980\n",
            "Epoch 133/150, Train Acc: 60.10%, Val Acc: 56.46%, Test Acc: 56.76%\n",
            "Epoch 133/150, Train Loss: 1.3965, Val Loss: 1.6009, Test Loss: 1.5890\n",
            "Epoch 134/150, Train Acc: 59.76%, Val Acc: 56.49%, Test Acc: 56.96%\n",
            "Epoch 134/150, Train Loss: 1.4041, Val Loss: 1.6023, Test Loss: 1.5891\n",
            "Epoch 135/150, Train Acc: 59.48%, Val Acc: 56.48%, Test Acc: 57.14%\n",
            "Epoch 135/150, Train Loss: 1.4025, Val Loss: 1.6018, Test Loss: 1.5873\n",
            "Epoch 136/150, Train Acc: 60.15%, Val Acc: 56.64%, Test Acc: 57.20%\n",
            "Epoch 136/150, Train Loss: 1.3889, Val Loss: 1.5933, Test Loss: 1.5844\n",
            "Epoch 137/150, Train Acc: 60.02%, Val Acc: 56.78%, Test Acc: 57.16%\n",
            "Epoch 137/150, Train Loss: 1.3886, Val Loss: 1.5942, Test Loss: 1.5825\n",
            "Epoch 138/150, Train Acc: 59.99%, Val Acc: 56.66%, Test Acc: 57.18%\n",
            "Epoch 138/150, Train Loss: 1.3897, Val Loss: 1.5931, Test Loss: 1.5831\n",
            "Epoch 139/150, Train Acc: 60.27%, Val Acc: 56.67%, Test Acc: 57.15%\n",
            "Epoch 139/150, Train Loss: 1.3876, Val Loss: 1.5944, Test Loss: 1.5831\n",
            "Checkpoint saved at epoch 140: ./checkpoint_epoch_140.pth\n"
          ]
        },
        {
          "output_type": "display_data",
          "data": {
            "text/plain": [
              "<IPython.core.display.Javascript object>"
            ],
            "application/javascript": [
              "\n",
              "    async function download(id, filename, size) {\n",
              "      if (!google.colab.kernel.accessAllowed) {\n",
              "        return;\n",
              "      }\n",
              "      const div = document.createElement('div');\n",
              "      const label = document.createElement('label');\n",
              "      label.textContent = `Downloading \"${filename}\": `;\n",
              "      div.appendChild(label);\n",
              "      const progress = document.createElement('progress');\n",
              "      progress.max = size;\n",
              "      div.appendChild(progress);\n",
              "      document.body.appendChild(div);\n",
              "\n",
              "      const buffers = [];\n",
              "      let downloaded = 0;\n",
              "\n",
              "      const channel = await google.colab.kernel.comms.open(id);\n",
              "      // Send a message to notify the kernel that we're ready.\n",
              "      channel.send({})\n",
              "\n",
              "      for await (const message of channel.messages) {\n",
              "        // Send a message to notify the kernel that we're ready.\n",
              "        channel.send({})\n",
              "        if (message.buffers) {\n",
              "          for (const buffer of message.buffers) {\n",
              "            buffers.push(buffer);\n",
              "            downloaded += buffer.byteLength;\n",
              "            progress.value = downloaded;\n",
              "          }\n",
              "        }\n",
              "      }\n",
              "      const blob = new Blob(buffers, {type: 'application/binary'});\n",
              "      const a = document.createElement('a');\n",
              "      a.href = window.URL.createObjectURL(blob);\n",
              "      a.download = filename;\n",
              "      div.appendChild(a);\n",
              "      a.click();\n",
              "      div.remove();\n",
              "    }\n",
              "  "
            ]
          },
          "metadata": {}
        },
        {
          "output_type": "display_data",
          "data": {
            "text/plain": [
              "<IPython.core.display.Javascript object>"
            ],
            "application/javascript": [
              "download(\"download_a08c55f0-6aa4-452c-a918-e046fef10dca\", \"checkpoint_epoch_140.pth\", 6529938)"
            ]
          },
          "metadata": {}
        },
        {
          "output_type": "stream",
          "name": "stdout",
          "text": [
            "Epoch 140/150, Train Acc: 60.15%, Val Acc: 56.66%, Test Acc: 57.07%\n",
            "Epoch 140/150, Train Loss: 1.3845, Val Loss: 1.5927, Test Loss: 1.5845\n",
            "Epoch 141/150, Train Acc: 60.04%, Val Acc: 56.53%, Test Acc: 57.16%\n",
            "Epoch 141/150, Train Loss: 1.3844, Val Loss: 1.5928, Test Loss: 1.5848\n",
            "Epoch 142/150, Train Acc: 60.36%, Val Acc: 56.47%, Test Acc: 57.24%\n",
            "Epoch 142/150, Train Loss: 1.3802, Val Loss: 1.5921, Test Loss: 1.5827\n",
            "Epoch 143/150, Train Acc: 60.68%, Val Acc: 56.77%, Test Acc: 57.20%\n",
            "Epoch 143/150, Train Loss: 1.3801, Val Loss: 1.5902, Test Loss: 1.5801\n",
            "Epoch 144/150, Train Acc: 60.27%, Val Acc: 56.53%, Test Acc: 57.21%\n",
            "Epoch 144/150, Train Loss: 1.3800, Val Loss: 1.5906, Test Loss: 1.5798\n",
            "Epoch 145/150, Train Acc: 60.33%, Val Acc: 56.49%, Test Acc: 57.35%\n",
            "Epoch 145/150, Train Loss: 1.3756, Val Loss: 1.5904, Test Loss: 1.5794\n",
            "Epoch 146/150, Train Acc: 60.66%, Val Acc: 56.64%, Test Acc: 57.35%\n",
            "Epoch 146/150, Train Loss: 1.3659, Val Loss: 1.5895, Test Loss: 1.5796\n",
            "Epoch 147/150, Train Acc: 60.59%, Val Acc: 56.54%, Test Acc: 57.32%\n",
            "Epoch 147/150, Train Loss: 1.3717, Val Loss: 1.5884, Test Loss: 1.5787\n",
            "Epoch 148/150, Train Acc: 60.56%, Val Acc: 56.60%, Test Acc: 57.27%\n",
            "Epoch 148/150, Train Loss: 1.3795, Val Loss: 1.5890, Test Loss: 1.5787\n",
            "Epoch 149/150, Train Acc: 60.62%, Val Acc: 56.57%, Test Acc: 57.25%\n",
            "Epoch 149/150, Train Loss: 1.3754, Val Loss: 1.5890, Test Loss: 1.5788\n",
            "Checkpoint saved at epoch 150: ./checkpoint_epoch_150.pth\n"
          ]
        },
        {
          "output_type": "display_data",
          "data": {
            "text/plain": [
              "<IPython.core.display.Javascript object>"
            ],
            "application/javascript": [
              "\n",
              "    async function download(id, filename, size) {\n",
              "      if (!google.colab.kernel.accessAllowed) {\n",
              "        return;\n",
              "      }\n",
              "      const div = document.createElement('div');\n",
              "      const label = document.createElement('label');\n",
              "      label.textContent = `Downloading \"${filename}\": `;\n",
              "      div.appendChild(label);\n",
              "      const progress = document.createElement('progress');\n",
              "      progress.max = size;\n",
              "      div.appendChild(progress);\n",
              "      document.body.appendChild(div);\n",
              "\n",
              "      const buffers = [];\n",
              "      let downloaded = 0;\n",
              "\n",
              "      const channel = await google.colab.kernel.comms.open(id);\n",
              "      // Send a message to notify the kernel that we're ready.\n",
              "      channel.send({})\n",
              "\n",
              "      for await (const message of channel.messages) {\n",
              "        // Send a message to notify the kernel that we're ready.\n",
              "        channel.send({})\n",
              "        if (message.buffers) {\n",
              "          for (const buffer of message.buffers) {\n",
              "            buffers.push(buffer);\n",
              "            downloaded += buffer.byteLength;\n",
              "            progress.value = downloaded;\n",
              "          }\n",
              "        }\n",
              "      }\n",
              "      const blob = new Blob(buffers, {type: 'application/binary'});\n",
              "      const a = document.createElement('a');\n",
              "      a.href = window.URL.createObjectURL(blob);\n",
              "      a.download = filename;\n",
              "      div.appendChild(a);\n",
              "      a.click();\n",
              "      div.remove();\n",
              "    }\n",
              "  "
            ]
          },
          "metadata": {}
        },
        {
          "output_type": "display_data",
          "data": {
            "text/plain": [
              "<IPython.core.display.Javascript object>"
            ],
            "application/javascript": [
              "download(\"download_652afef0-f89f-404b-a809-5d5048c2013a\", \"checkpoint_epoch_150.pth\", 6529938)"
            ]
          },
          "metadata": {}
        },
        {
          "output_type": "stream",
          "name": "stdout",
          "text": [
            "Epoch 150/150, Train Acc: 60.55%, Val Acc: 56.59%, Test Acc: 57.30%\n",
            "Epoch 150/150, Train Loss: 1.3713, Val Loss: 1.5891, Test Loss: 1.5788\n"
          ]
        },
        {
          "output_type": "display_data",
          "data": {
            "text/plain": [
              "<Figure size 600x400 with 1 Axes>"
            ],
            "image/png": "[encoded data removed]"
          },
          "metadata": {}
        },
        {
          "output_type": "display_data",
          "data": {
            "text/plain": [
              "<Figure size 600x400 with 1 Axes>"
            ],
            "image/png": "[encoded data removed]"
          },
          "metadata": {}
        },
        {
          "output_type": "display_data",
          "data": {
            "text/plain": [
              "<Figure size 600x400 with 1 Axes>"
            ],
            "image/png": "[encoded data removed]"
          },
          "metadata": {}
        },
        {
          "output_type": "display_data",
          "data": {
            "text/plain": [
              "<Figure size 600x400 with 1 Axes>"
            ],
            "image/png": "[encoded data removed]"
          },
          "metadata": {}
        },
        {
          "output_type": "display_data",
          "data": {
            "text/plain": [
              "<Figure size 600x400 with 1 Axes>"
            ],
            "image/png": "[encoded data removed]"
          },
          "metadata": {}
        },
        {
          "output_type": "display_data",
          "data": {
            "text/plain": [
              "<Figure size 600x400 with 1 Axes>"
            ],
            "image/png": "[encoded data removed]"
          },
          "metadata": {}
        }
      ],
      "source": [
        "import os\n",
        "import numpy as np\n",
        "import torch\n",
        "import torch.nn as nn\n",
        "import torch.optim as optim\n",
        "import torchvision\n",
        "import torchvision.transforms as transforms\n",
        "import matplotlib.pyplot as plt\n",
        "from torch.utils.data import random_split\n",
        "from google.colab import files\n",
        "\n",
        "\n",
        "# Training settings\n",
        "# epochs, batch sized and momentum are fixed values\n",
        "epochs = 150\n",
        "batch_size = 64\n",
        "momentum = 0.9\n",
        "# weight decay and learning rate are adjustable\n",
        "weight_decay = 4e-4\n",
        "lr = 1e-2\n",
        "\n",
        "def compute_mean_std(dataset):\n",
        "    \"\"\"Compute the mean and std of CIFAR-100 dataset.\n",
        "\n",
        "    Args:\n",
        "        dataset: A dataset derived from `torch.utils.data.Dataset`,\n",
        "                 such as `cifar100_training_dataset` or `cifar100_test_dataset`.\n",
        "\n",
        "    Returns:\n",
        "        A tuple containing (mean, std) for the entire dataset.\n",
        "    \"\"\"\n",
        "\n",
        "    # Extract images and labels\n",
        "    data_r = np.stack([np.array(dataset[i][0])[:, :, 0] for i in range(len(dataset))])\n",
        "    data_g = np.stack([np.array(dataset[i][0])[:, :, 1] for i in range(len(dataset))])\n",
        "    data_b = np.stack([np.array(dataset[i][0])[:, :, 2] for i in range(len(dataset))])\n",
        "\n",
        "    # Compute mean and std\n",
        "    mean = np.mean(data_r), np.mean(data_g), np.mean(data_b)\n",
        "    std = np.std(data_r), np.std(data_g), np.std(data_b)\n",
        "\n",
        "    return mean, std\n",
        "\n",
        "\n",
        "# Define LeNet-5 architecture\n",
        "class LeNet5(nn.Module):\n",
        "    def __init__(self):\n",
        "        super(LeNet5, self).__init__()\n",
        "        self.conv1 = nn.Conv2d(3, 64, 5)\n",
        "        self.relu1 = nn.ReLU()\n",
        "        self.pool1 = nn.MaxPool2d(2, 2)\n",
        "        self.conv2 = nn.Conv2d(64, 64, 5)\n",
        "        self.relu2 = nn.ReLU()\n",
        "        self.pool2 = nn.MaxPool2d(2, 2)\n",
        "        self.fc1 = nn.Linear(64 * 5 * 5, 384)\n",
        "        self.relu3 = nn.ReLU()\n",
        "        self.drop1 = nn.Dropout(p=0.3)\n",
        "        self.fc2 = nn.Linear(384, 192)\n",
        "        self.relu4 = nn.ReLU()\n",
        "        self.drop2 = nn.Dropout(p=0.3)\n",
        "        self.fc3 = nn.Linear(192, 100)\n",
        "\n",
        "    def forward(self, x):\n",
        "        x = self.pool1(self.relu1(self.conv1(x)))\n",
        "        x = self.pool2(self.relu2(self.conv2(x)))\n",
        "        x = x.view(-1, 64 * 5 * 5)\n",
        "        x = self.relu3(self.fc1(x))\n",
        "        x = self.drop1(x)  # Apply first dropout\n",
        "        x = self.relu4(self.fc2(x))\n",
        "        x = self.drop2(x)  # Apply first dropout\n",
        "        x = self.fc3(x)\n",
        "        return x\n",
        "\n",
        "torch.manual_seed(42) # Set the seed for reproducibility\n",
        "torch.cuda.manual_seed_all(42) # Set the seed for reproducibility on GPU\n",
        "\n",
        "# use the same mean and std to add consistency to all datasets\n",
        "data = torchvision.datasets.CIFAR100(root='./data', train=True, download=True, transform=transforms.ToTensor())\n",
        "mean, std = compute_mean_std(data)\n",
        "\n",
        "# Load and split CIFAR-100 dataset\n",
        "train_transform = transforms.Compose([\n",
        "  transforms.RandomCrop(32, padding=4),\n",
        "  transforms.RandomHorizontalFlip(),\n",
        "  transforms.ToTensor(),\n",
        "  transforms.Normalize(mean, std)\n",
        "])\n",
        "\n",
        "val_transform = transforms.Compose([\n",
        "    transforms.ToTensor(), # Convert into tensor\n",
        "    transforms.Normalize(mean, std)  # Normalization\n",
        "])\n",
        "\n",
        "test_transform = transforms.Compose([\n",
        "    transforms.ToTensor(),  # Convert to PyTorch tensor\n",
        "    transforms.Normalize(mean, std)\n",
        "])\n",
        "\n",
        "trainset = torchvision.datasets.CIFAR100(root='./data', train=True, download=True, transform=train_transform)\n",
        "valset = torchvision.datasets.CIFAR100(root='./data', train=True, download=True, transform=val_transform)\n",
        "indices = torch.randperm(len(trainset))\n",
        "val_size = int(0.2*len(trainset))\n",
        "trainset = torch.utils.data.Subset(trainset, indices[:-val_size])\n",
        "valset = torch.utils.data.Subset(valset, indices[-val_size:])\n",
        "\n",
        "trainloader = torch.utils.data.DataLoader(trainset, batch_size=batch_size, shuffle=True, num_workers=2)\n",
        "valloader = torch.utils.data.DataLoader(valset, batch_size=batch_size, shuffle=False, num_workers=2)\n",
        "\n",
        "testset = torchvision.datasets.CIFAR100(root='./data', train=False, download=True, transform=test_transform)\n",
        "testloader = torch.utils.data.DataLoader(testset, batch_size=batch_size, shuffle=False, num_workers=2)\n",
        "\n",
        "# Device setup\n",
        "device = torch.device(\"cuda:0\" if torch.cuda.is_available() else \"cpu\")\n",
        "\n",
        "# Initialize model\n",
        "net_sgdm = LeNet5().to(device)\n",
        "\n",
        "# Loss function\n",
        "criterion = nn.CrossEntropyLoss()\n",
        "\n",
        "# Optimizer and scheduler\n",
        "sgdm_optimizer = optim.SGD(net_sgdm.parameters(), lr=lr, momentum=momentum, weight_decay=weight_decay)\n",
        "scheduler_sgdm = optim.lr_scheduler.CosineAnnealingLR(sgdm_optimizer, T_max=150)\n",
        "\n",
        "# Training function\n",
        "def train_model(optimizer, scheduler, model, criterion, trainloader, valloader , testloader, device, epochs, save_checkpoint_interval=10):\n",
        "    train_losses, val_losses, test_losses = [], [], []\n",
        "    train_accuracies, val_accuracies, test_accuracies = [], [], []\n",
        "    for epoch in range(epochs):\n",
        "        model.train()\n",
        "        running_loss, correct_train, total_train = 0.0, 0, 0\n",
        "        for inputs, labels in trainloader:\n",
        "            inputs, labels = inputs.to(device), labels.to(device)\n",
        "            optimizer.zero_grad()\n",
        "            outputs = model(inputs)\n",
        "            loss = criterion(outputs, labels)\n",
        "            loss.backward()\n",
        "            optimizer.step()\n",
        "            running_loss += loss.item()\n",
        "            _, predicted = outputs.max(1)\n",
        "            total_train += labels.size(0)\n",
        "            correct_train += predicted.eq(labels).sum().item()\n",
        "        train_loss = running_loss / len(trainloader)\n",
        "        train_accuracy = 100. * correct_train / total_train\n",
        "        train_losses.append(train_loss)\n",
        "        train_accuracies.append(train_accuracy)\n",
        "\n",
        "        # Validation\n",
        "        model.eval()\n",
        "        correct_val, total_val, val_loss = 0, 0, 0.0\n",
        "        with torch.no_grad():\n",
        "            for inputs, labels in valloader:\n",
        "                inputs, labels = inputs.to(device), labels.to(device)\n",
        "                outputs = model(inputs)\n",
        "                loss = criterion(outputs, labels)\n",
        "                val_loss += loss.item()\n",
        "                _, predicted = outputs.max(1)\n",
        "                total_val += labels.size(0)\n",
        "                correct_val += predicted.eq(labels).sum().item()\n",
        "        val_loss /= len(valloader)\n",
        "        val_losses.append(val_loss)\n",
        "        val_accuracy = 100. * correct_val / total_val\n",
        "        val_accuracies.append(val_accuracy)\n",
        "\n",
        "        # Test\n",
        "        correct_test, total_test, test_loss = 0, 0, 0.0\n",
        "        with torch.no_grad():\n",
        "            for inputs, labels in testloader:\n",
        "                inputs, labels = inputs.to(device), labels.to(device)\n",
        "                outputs = model(inputs)\n",
        "                loss = criterion(outputs, labels)\n",
        "                test_loss += loss.item()\n",
        "                _, predicted = outputs.max(1)\n",
        "                total_test += labels.size(0)\n",
        "                correct_test += predicted.eq(labels).sum().item()\n",
        "        test_loss /= len(testloader)\n",
        "        test_losses.append(test_loss)\n",
        "        test_accuracy = 100. * correct_test / total_test\n",
        "        test_accuracies.append(test_accuracy)\n",
        "\n",
        "        scheduler.step()\n",
        "\n",
        "        # Checkpointing\n",
        "        if (epoch + 1) % save_checkpoint_interval == 0:\n",
        "            checkpoint_filename = f'checkpoint_epoch_{epoch + 1}.pth'\n",
        "            checkpoint = {\n",
        "                'epoch': epoch + 1,\n",
        "                'model_state_dict': model.state_dict(),\n",
        "                'optimizer_state_dict': optimizer.state_dict(),\n",
        "                'loss': loss.item(),\n",
        "            }\n",
        "            checkpoint_path = os.path.join('./', checkpoint_filename)\n",
        "            torch.save(checkpoint, checkpoint_path)\n",
        "            print(f'Checkpoint saved at epoch {epoch + 1}: {checkpoint_path}')\n",
        "\n",
        "            #Download the checkpoint\n",
        "            files.download(checkpoint_filename)\n",
        "\n",
        "        print(f'Epoch {epoch+1}/{epochs}, Train Acc: {train_accuracy:.2f}%, Val Acc: {val_accuracy:.2f}%, Test Acc: {test_accuracy:.2f}%')\n",
        "        print(f'Epoch {epoch+1}/{epochs}, Train Loss: {train_loss:.4f}, Val Loss: {val_loss:.4f}, Test Loss: {test_loss:.4f}')\n",
        "\n",
        "    return train_losses, val_losses, test_losses,  train_accuracies, val_accuracies, test_accuracies\n",
        "\n",
        "# Train model\n",
        "print(\"--- Train with sgdm ---\")\n",
        "sgdm_train_loss, sgdm_val_loss, sgdm_test_loss, sgdm_train_acc, sgdm_val_acc, sgdm_test_acc= train_model(sgdm_optimizer, scheduler_sgdm, net_sgdm, criterion, trainloader, valloader, testloader, device, epochs)\n",
        "\n",
        "# Save model\n",
        "torch.save(net_sgdm.state_dict(), 'net_sgdm.pth')\n",
        "\n",
        "# Plot results\n",
        "# Plot Training Loss\n",
        "plt.figure(figsize=(6, 4))\n",
        "plt.plot(sgdm_train_loss, label='Train Loss')\n",
        "plt.title('Training Loss')\n",
        "plt.xlabel('Epoch')\n",
        "plt.ylabel('Loss')\n",
        "plt.legend()\n",
        "plt.tight_layout()\n",
        "plt.savefig('train_loss.png')\n",
        "plt.show()\n",
        "\n",
        "# Plot Training Accuracy\n",
        "plt.figure(figsize=(6, 4))\n",
        "plt.plot(sgdm_train_acc, label='Train Accuracy')\n",
        "plt.title('Training Accuracy')\n",
        "plt.xlabel('Epoch')\n",
        "plt.ylabel('Accuracy (%)')\n",
        "plt.legend()\n",
        "plt.tight_layout()\n",
        "plt.savefig('train_accuracy.png')\n",
        "plt.show()\n",
        "\n",
        "# Plot Validation Loss\n",
        "plt.figure(figsize=(6, 4))\n",
        "plt.plot(sgdm_val_loss, label='Validation Loss')\n",
        "plt.title('Validation Loss')\n",
        "plt.xlabel('Epoch')\n",
        "plt.ylabel('Loss')\n",
        "plt.legend()\n",
        "plt.tight_layout()\n",
        "plt.savefig('val_loss.png')\n",
        "plt.show()\n",
        "\n",
        "# Plot Validation Accuracy\n",
        "plt.figure(figsize=(6, 4))\n",
        "plt.plot(sgdm_val_acc, label='Validation Accuracy')\n",
        "plt.title('Validation Accuracy')\n",
        "plt.xlabel('Epoch')\n",
        "plt.ylabel('Accuracy (%)')\n",
        "plt.legend()\n",
        "plt.tight_layout()\n",
        "plt.savefig('val_accuracy.png')\n",
        "plt.show()\n",
        "\n",
        "# Plot Test Loss\n",
        "plt.figure(figsize=(6, 4))\n",
        "plt.plot(sgdm_test_loss, label='Test Loss')\n",
        "plt.title('Test Loss')\n",
        "plt.xlabel('Epoch')\n",
        "plt.ylabel('Loss')\n",
        "plt.legend()\n",
        "plt.tight_layout()\n",
        "plt.savefig('test_loss.png')\n",
        "plt.show()\n",
        "\n",
        "# Plot Test Accuracy\n",
        "plt.figure(figsize=(6, 4))\n",
        "plt.plot(sgdm_test_acc, label='Test Accuracy')\n",
        "plt.title('Test Accuracy')\n",
        "plt.xlabel('Epoch')\n",
        "plt.ylabel('Accuracy (%)')\n",
        "plt.legend()\n",
        "plt.tight_layout()\n",
        "plt.savefig('test_accuracy.png')\n",
        "plt.show()\n",
        "\n",
        "\n",
        "\n",
        "\n",
        "\n"
      ]
    }
  ],
  "metadata": {
    "colab": {
      "provenance": [],
      "machine_shape": "hm",
      "gpuType": "L4"
    },
    "kernelspec": {
      "display_name": "Python 3",
      "name": "python3"
    },
    "language_info": {
      "name": "python"
    },
    "accelerator": "GPU"
  },
  "nbformat": 4,
  "nbformat_minor": 0
}