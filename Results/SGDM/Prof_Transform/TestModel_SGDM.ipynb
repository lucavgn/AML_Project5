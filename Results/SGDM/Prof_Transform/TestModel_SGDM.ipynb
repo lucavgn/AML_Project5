{
  "nbformat": 4,
  "nbformat_minor": 0,
  "metadata": {
    "colab": {
      "provenance": [],
      "gpuType": "T4"
    },
    "kernelspec": {
      "name": "python3",
      "display_name": "Python 3"
    },
    "language_info": {
      "name": "python"
    },
    "accelerator": "GPU"
  },
  "cells": [
    {
      "cell_type": "code",
      "execution_count": 1,
      "metadata": {
        "colab": {
          "base_uri": "https://localhost:8080/",
          "height": 1000
        },
        "id": "8ZgBDigN7DyW",
        "outputId": "64cc176e-5829-4d13-bd52-826e322ca136"
      },
      "outputs": [
        {
          "output_type": "stream",
          "name": "stdout",
          "text": [
            "Downloading https://www.cs.toronto.edu/~kriz/cifar-100-python.tar.gz to ./data/cifar-100-python.tar.gz\n"
          ]
        },
        {
          "output_type": "stream",
          "name": "stderr",
          "text": [
            "100%|██████████| 169M/169M [00:12<00:00, 13.0MB/s]\n"
          ]
        },
        {
          "output_type": "stream",
          "name": "stdout",
          "text": [
            "Extracting ./data/cifar-100-python.tar.gz to ./data\n",
            "Files already downloaded and verified\n",
            "Files already downloaded and verified\n",
            "--- Train with sgdm ---\n",
            "Epoch 1/150, Train Acc: 4.98%, Test Acc: 9.46%\n",
            "Epoch 1/150, Train Loss: 4.2583, Test Loss: 3.9015\n",
            "Epoch 2/150, Train Acc: 11.20%, Test Acc: 14.67%\n",
            "Epoch 2/150, Train Loss: 3.7778, Test Loss: 3.5886\n",
            "Epoch 3/150, Train Acc: 15.72%, Test Acc: 19.00%\n",
            "Epoch 3/150, Train Loss: 3.5200, Test Loss: 3.3543\n",
            "Epoch 4/150, Train Acc: 19.05%, Test Acc: 22.43%\n",
            "Epoch 4/150, Train Loss: 3.3251, Test Loss: 3.1407\n",
            "Epoch 5/150, Train Acc: 21.84%, Test Acc: 25.28%\n",
            "Epoch 5/150, Train Loss: 3.1722, Test Loss: 3.0069\n",
            "Epoch 6/150, Train Acc: 24.22%, Test Acc: 25.76%\n",
            "Epoch 6/150, Train Loss: 3.0590, Test Loss: 2.9923\n",
            "Epoch 7/150, Train Acc: 25.84%, Test Acc: 29.11%\n",
            "Epoch 7/150, Train Loss: 2.9701, Test Loss: 2.8144\n",
            "Epoch 8/150, Train Acc: 27.78%, Test Acc: 29.86%\n",
            "Epoch 8/150, Train Loss: 2.8812, Test Loss: 2.7655\n",
            "Epoch 9/150, Train Acc: 28.79%, Test Acc: 30.98%\n",
            "Epoch 9/150, Train Loss: 2.8325, Test Loss: 2.7215\n",
            "Checkpoint saved at epoch 10: ./checkpoint_epoch_10.pth\n"
          ]
        },
        {
          "output_type": "display_data",
          "data": {
            "text/plain": [
              "<IPython.core.display.Javascript object>"
            ],
            "application/javascript": [
              "\n",
              "    async function download(id, filename, size) {\n",
              "      if (!google.colab.kernel.accessAllowed) {\n",
              "        return;\n",
              "      }\n",
              "      const div = document.createElement('div');\n",
              "      const label = document.createElement('label');\n",
              "      label.textContent = `Downloading \"${filename}\": `;\n",
              "      div.appendChild(label);\n",
              "      const progress = document.createElement('progress');\n",
              "      progress.max = size;\n",
              "      div.appendChild(progress);\n",
              "      document.body.appendChild(div);\n",
              "\n",
              "      const buffers = [];\n",
              "      let downloaded = 0;\n",
              "\n",
              "      const channel = await google.colab.kernel.comms.open(id);\n",
              "      // Send a message to notify the kernel that we're ready.\n",
              "      channel.send({})\n",
              "\n",
              "      for await (const message of channel.messages) {\n",
              "        // Send a message to notify the kernel that we're ready.\n",
              "        channel.send({})\n",
              "        if (message.buffers) {\n",
              "          for (const buffer of message.buffers) {\n",
              "            buffers.push(buffer);\n",
              "            downloaded += buffer.byteLength;\n",
              "            progress.value = downloaded;\n",
              "          }\n",
              "        }\n",
              "      }\n",
              "      const blob = new Blob(buffers, {type: 'application/binary'});\n",
              "      const a = document.createElement('a');\n",
              "      a.href = window.URL.createObjectURL(blob);\n",
              "      a.download = filename;\n",
              "      div.appendChild(a);\n",
              "      a.click();\n",
              "      div.remove();\n",
              "    }\n",
              "  "
            ]
          },
          "metadata": {}
        },
        {
          "output_type": "display_data",
          "data": {
            "text/plain": [
              "<IPython.core.display.Javascript object>"
            ],
            "application/javascript": [
              "download(\"download_e38e7a81-5905-43f7-9d22-141ab2125afe\", \"checkpoint_epoch_10.pth\", 6529914)"
            ]
          },
          "metadata": {}
        },
        {
          "output_type": "stream",
          "name": "stdout",
          "text": [
            "Epoch 10/150, Train Acc: 29.88%, Test Acc: 31.48%\n",
            "Epoch 10/150, Train Loss: 2.7715, Test Loss: 2.7488\n",
            "Epoch 11/150, Train Acc: 30.91%, Test Acc: 33.04%\n",
            "Epoch 11/150, Train Loss: 2.7238, Test Loss: 2.6368\n",
            "Epoch 12/150, Train Acc: 31.56%, Test Acc: 34.57%\n",
            "Epoch 12/150, Train Loss: 2.6812, Test Loss: 2.5548\n",
            "Epoch 13/150, Train Acc: 32.55%, Test Acc: 35.01%\n",
            "Epoch 13/150, Train Loss: 2.6421, Test Loss: 2.5617\n",
            "Epoch 14/150, Train Acc: 33.55%, Test Acc: 34.98%\n",
            "Epoch 14/150, Train Loss: 2.5987, Test Loss: 2.5489\n",
            "Epoch 15/150, Train Acc: 33.95%, Test Acc: 36.47%\n",
            "Epoch 15/150, Train Loss: 2.5806, Test Loss: 2.4717\n",
            "Epoch 16/150, Train Acc: 34.39%, Test Acc: 35.96%\n",
            "Epoch 16/150, Train Loss: 2.5449, Test Loss: 2.5032\n",
            "Epoch 17/150, Train Acc: 35.13%, Test Acc: 36.28%\n",
            "Epoch 17/150, Train Loss: 2.5234, Test Loss: 2.4866\n",
            "Epoch 18/150, Train Acc: 35.59%, Test Acc: 36.88%\n",
            "Epoch 18/150, Train Loss: 2.4951, Test Loss: 2.4614\n",
            "Epoch 19/150, Train Acc: 35.77%, Test Acc: 38.13%\n",
            "Epoch 19/150, Train Loss: 2.4772, Test Loss: 2.4135\n",
            "Checkpoint saved at epoch 20: ./checkpoint_epoch_20.pth\n"
          ]
        },
        {
          "output_type": "display_data",
          "data": {
            "text/plain": [
              "<IPython.core.display.Javascript object>"
            ],
            "application/javascript": [
              "\n",
              "    async function download(id, filename, size) {\n",
              "      if (!google.colab.kernel.accessAllowed) {\n",
              "        return;\n",
              "      }\n",
              "      const div = document.createElement('div');\n",
              "      const label = document.createElement('label');\n",
              "      label.textContent = `Downloading \"${filename}\": `;\n",
              "      div.appendChild(label);\n",
              "      const progress = document.createElement('progress');\n",
              "      progress.max = size;\n",
              "      div.appendChild(progress);\n",
              "      document.body.appendChild(div);\n",
              "\n",
              "      const buffers = [];\n",
              "      let downloaded = 0;\n",
              "\n",
              "      const channel = await google.colab.kernel.comms.open(id);\n",
              "      // Send a message to notify the kernel that we're ready.\n",
              "      channel.send({})\n",
              "\n",
              "      for await (const message of channel.messages) {\n",
              "        // Send a message to notify the kernel that we're ready.\n",
              "        channel.send({})\n",
              "        if (message.buffers) {\n",
              "          for (const buffer of message.buffers) {\n",
              "            buffers.push(buffer);\n",
              "            downloaded += buffer.byteLength;\n",
              "            progress.value = downloaded;\n",
              "          }\n",
              "        }\n",
              "      }\n",
              "      const blob = new Blob(buffers, {type: 'application/binary'});\n",
              "      const a = document.createElement('a');\n",
              "      a.href = window.URL.createObjectURL(blob);\n",
              "      a.download = filename;\n",
              "      div.appendChild(a);\n",
              "      a.click();\n",
              "      div.remove();\n",
              "    }\n",
              "  "
            ]
          },
          "metadata": {}
        },
        {
          "output_type": "display_data",
          "data": {
            "text/plain": [
              "<IPython.core.display.Javascript object>"
            ],
            "application/javascript": [
              "download(\"download_fbc6b0cd-26b7-4c8e-af0a-fdf7cb76bc10\", \"checkpoint_epoch_20.pth\", 6529914)"
            ]
          },
          "metadata": {}
        },
        {
          "output_type": "stream",
          "name": "stdout",
          "text": [
            "Epoch 20/150, Train Acc: 36.42%, Test Acc: 37.57%\n",
            "Epoch 20/150, Train Loss: 2.4516, Test Loss: 2.4200\n",
            "Epoch 21/150, Train Acc: 36.79%, Test Acc: 37.24%\n",
            "Epoch 21/150, Train Loss: 2.4298, Test Loss: 2.4486\n",
            "Epoch 22/150, Train Acc: 37.25%, Test Acc: 37.93%\n",
            "Epoch 22/150, Train Loss: 2.4135, Test Loss: 2.4123\n",
            "Epoch 23/150, Train Acc: 37.89%, Test Acc: 38.51%\n",
            "Epoch 23/150, Train Loss: 2.4030, Test Loss: 2.3668\n",
            "Epoch 24/150, Train Acc: 37.97%, Test Acc: 38.94%\n",
            "Epoch 24/150, Train Loss: 2.3813, Test Loss: 2.3875\n",
            "Epoch 25/150, Train Acc: 38.28%, Test Acc: 39.67%\n",
            "Epoch 25/150, Train Loss: 2.3571, Test Loss: 2.3766\n",
            "Epoch 26/150, Train Acc: 38.84%, Test Acc: 39.51%\n",
            "Epoch 26/150, Train Loss: 2.3429, Test Loss: 2.3625\n",
            "Epoch 27/150, Train Acc: 38.96%, Test Acc: 40.65%\n",
            "Epoch 27/150, Train Loss: 2.3399, Test Loss: 2.3033\n",
            "Epoch 28/150, Train Acc: 39.20%, Test Acc: 40.63%\n",
            "Epoch 28/150, Train Loss: 2.3237, Test Loss: 2.3222\n",
            "Epoch 29/150, Train Acc: 39.61%, Test Acc: 39.54%\n",
            "Epoch 29/150, Train Loss: 2.3088, Test Loss: 2.3344\n",
            "Checkpoint saved at epoch 30: ./checkpoint_epoch_30.pth\n"
          ]
        },
        {
          "output_type": "display_data",
          "data": {
            "text/plain": [
              "<IPython.core.display.Javascript object>"
            ],
            "application/javascript": [
              "\n",
              "    async function download(id, filename, size) {\n",
              "      if (!google.colab.kernel.accessAllowed) {\n",
              "        return;\n",
              "      }\n",
              "      const div = document.createElement('div');\n",
              "      const label = document.createElement('label');\n",
              "      label.textContent = `Downloading \"${filename}\": `;\n",
              "      div.appendChild(label);\n",
              "      const progress = document.createElement('progress');\n",
              "      progress.max = size;\n",
              "      div.appendChild(progress);\n",
              "      document.body.appendChild(div);\n",
              "\n",
              "      const buffers = [];\n",
              "      let downloaded = 0;\n",
              "\n",
              "      const channel = await google.colab.kernel.comms.open(id);\n",
              "      // Send a message to notify the kernel that we're ready.\n",
              "      channel.send({})\n",
              "\n",
              "      for await (const message of channel.messages) {\n",
              "        // Send a message to notify the kernel that we're ready.\n",
              "        channel.send({})\n",
              "        if (message.buffers) {\n",
              "          for (const buffer of message.buffers) {\n",
              "            buffers.push(buffer);\n",
              "            downloaded += buffer.byteLength;\n",
              "            progress.value = downloaded;\n",
              "          }\n",
              "        }\n",
              "      }\n",
              "      const blob = new Blob(buffers, {type: 'application/binary'});\n",
              "      const a = document.createElement('a');\n",
              "      a.href = window.URL.createObjectURL(blob);\n",
              "      a.download = filename;\n",
              "      div.appendChild(a);\n",
              "      a.click();\n",
              "      div.remove();\n",
              "    }\n",
              "  "
            ]
          },
          "metadata": {}
        },
        {
          "output_type": "display_data",
          "data": {
            "text/plain": [
              "<IPython.core.display.Javascript object>"
            ],
            "application/javascript": [
              "download(\"download_a5da711e-c2f0-4033-943a-dc002593b738\", \"checkpoint_epoch_30.pth\", 6529914)"
            ]
          },
          "metadata": {}
        },
        {
          "output_type": "stream",
          "name": "stdout",
          "text": [
            "Epoch 30/150, Train Acc: 39.93%, Test Acc: 40.63%\n",
            "Epoch 30/150, Train Loss: 2.2918, Test Loss: 2.2978\n",
            "Epoch 31/150, Train Acc: 40.06%, Test Acc: 40.67%\n",
            "Epoch 31/150, Train Loss: 2.2835, Test Loss: 2.3053\n",
            "Epoch 32/150, Train Acc: 40.49%, Test Acc: 42.15%\n",
            "Epoch 32/150, Train Loss: 2.2661, Test Loss: 2.2557\n",
            "Epoch 33/150, Train Acc: 40.94%, Test Acc: 41.87%\n",
            "Epoch 33/150, Train Loss: 2.2489, Test Loss: 2.2622\n",
            "Epoch 34/150, Train Acc: 41.18%, Test Acc: 40.46%\n",
            "Epoch 34/150, Train Loss: 2.2435, Test Loss: 2.3183\n",
            "Epoch 35/150, Train Acc: 41.20%, Test Acc: 41.11%\n",
            "Epoch 35/150, Train Loss: 2.2293, Test Loss: 2.2764\n",
            "Epoch 36/150, Train Acc: 41.35%, Test Acc: 41.74%\n",
            "Epoch 36/150, Train Loss: 2.2132, Test Loss: 2.2630\n",
            "Epoch 37/150, Train Acc: 41.63%, Test Acc: 41.00%\n",
            "Epoch 37/150, Train Loss: 2.2078, Test Loss: 2.3127\n",
            "Epoch 38/150, Train Acc: 41.71%, Test Acc: 40.81%\n",
            "Epoch 38/150, Train Loss: 2.2064, Test Loss: 2.2986\n",
            "Epoch 39/150, Train Acc: 42.31%, Test Acc: 42.37%\n",
            "Epoch 39/150, Train Loss: 2.1841, Test Loss: 2.2382\n",
            "Checkpoint saved at epoch 40: ./checkpoint_epoch_40.pth\n"
          ]
        },
        {
          "output_type": "display_data",
          "data": {
            "text/plain": [
              "<IPython.core.display.Javascript object>"
            ],
            "application/javascript": [
              "\n",
              "    async function download(id, filename, size) {\n",
              "      if (!google.colab.kernel.accessAllowed) {\n",
              "        return;\n",
              "      }\n",
              "      const div = document.createElement('div');\n",
              "      const label = document.createElement('label');\n",
              "      label.textContent = `Downloading \"${filename}\": `;\n",
              "      div.appendChild(label);\n",
              "      const progress = document.createElement('progress');\n",
              "      progress.max = size;\n",
              "      div.appendChild(progress);\n",
              "      document.body.appendChild(div);\n",
              "\n",
              "      const buffers = [];\n",
              "      let downloaded = 0;\n",
              "\n",
              "      const channel = await google.colab.kernel.comms.open(id);\n",
              "      // Send a message to notify the kernel that we're ready.\n",
              "      channel.send({})\n",
              "\n",
              "      for await (const message of channel.messages) {\n",
              "        // Send a message to notify the kernel that we're ready.\n",
              "        channel.send({})\n",
              "        if (message.buffers) {\n",
              "          for (const buffer of message.buffers) {\n",
              "            buffers.push(buffer);\n",
              "            downloaded += buffer.byteLength;\n",
              "            progress.value = downloaded;\n",
              "          }\n",
              "        }\n",
              "      }\n",
              "      const blob = new Blob(buffers, {type: 'application/binary'});\n",
              "      const a = document.createElement('a');\n",
              "      a.href = window.URL.createObjectURL(blob);\n",
              "      a.download = filename;\n",
              "      div.appendChild(a);\n",
              "      a.click();\n",
              "      div.remove();\n",
              "    }\n",
              "  "
            ]
          },
          "metadata": {}
        },
        {
          "output_type": "display_data",
          "data": {
            "text/plain": [
              "<IPython.core.display.Javascript object>"
            ],
            "application/javascript": [
              "download(\"download_b7f55983-4417-4d89-8ac4-91f183f1b298\", \"checkpoint_epoch_40.pth\", 6529914)"
            ]
          },
          "metadata": {}
        },
        {
          "output_type": "stream",
          "name": "stdout",
          "text": [
            "Epoch 40/150, Train Acc: 42.53%, Test Acc: 41.87%\n",
            "Epoch 40/150, Train Loss: 2.1696, Test Loss: 2.2459\n",
            "Epoch 41/150, Train Acc: 42.34%, Test Acc: 43.78%\n",
            "Epoch 41/150, Train Loss: 2.1688, Test Loss: 2.1909\n",
            "Epoch 42/150, Train Acc: 42.82%, Test Acc: 43.57%\n",
            "Epoch 42/150, Train Loss: 2.1519, Test Loss: 2.2068\n",
            "Epoch 43/150, Train Acc: 43.44%, Test Acc: 41.99%\n",
            "Epoch 43/150, Train Loss: 2.1340, Test Loss: 2.2466\n",
            "Epoch 44/150, Train Acc: 43.21%, Test Acc: 42.45%\n",
            "Epoch 44/150, Train Loss: 2.1295, Test Loss: 2.2178\n",
            "Epoch 45/150, Train Acc: 43.25%, Test Acc: 42.05%\n",
            "Epoch 45/150, Train Loss: 2.1255, Test Loss: 2.2513\n",
            "Epoch 46/150, Train Acc: 43.81%, Test Acc: 43.49%\n",
            "Epoch 46/150, Train Loss: 2.1093, Test Loss: 2.1979\n",
            "Epoch 47/150, Train Acc: 44.05%, Test Acc: 42.78%\n",
            "Epoch 47/150, Train Loss: 2.1001, Test Loss: 2.2054\n",
            "Epoch 48/150, Train Acc: 44.24%, Test Acc: 44.18%\n",
            "Epoch 48/150, Train Loss: 2.0929, Test Loss: 2.1844\n",
            "Epoch 49/150, Train Acc: 44.16%, Test Acc: 44.37%\n",
            "Epoch 49/150, Train Loss: 2.0836, Test Loss: 2.1601\n",
            "Checkpoint saved at epoch 50: ./checkpoint_epoch_50.pth\n"
          ]
        },
        {
          "output_type": "display_data",
          "data": {
            "text/plain": [
              "<IPython.core.display.Javascript object>"
            ],
            "application/javascript": [
              "\n",
              "    async function download(id, filename, size) {\n",
              "      if (!google.colab.kernel.accessAllowed) {\n",
              "        return;\n",
              "      }\n",
              "      const div = document.createElement('div');\n",
              "      const label = document.createElement('label');\n",
              "      label.textContent = `Downloading \"${filename}\": `;\n",
              "      div.appendChild(label);\n",
              "      const progress = document.createElement('progress');\n",
              "      progress.max = size;\n",
              "      div.appendChild(progress);\n",
              "      document.body.appendChild(div);\n",
              "\n",
              "      const buffers = [];\n",
              "      let downloaded = 0;\n",
              "\n",
              "      const channel = await google.colab.kernel.comms.open(id);\n",
              "      // Send a message to notify the kernel that we're ready.\n",
              "      channel.send({})\n",
              "\n",
              "      for await (const message of channel.messages) {\n",
              "        // Send a message to notify the kernel that we're ready.\n",
              "        channel.send({})\n",
              "        if (message.buffers) {\n",
              "          for (const buffer of message.buffers) {\n",
              "            buffers.push(buffer);\n",
              "            downloaded += buffer.byteLength;\n",
              "            progress.value = downloaded;\n",
              "          }\n",
              "        }\n",
              "      }\n",
              "      const blob = new Blob(buffers, {type: 'application/binary'});\n",
              "      const a = document.createElement('a');\n",
              "      a.href = window.URL.createObjectURL(blob);\n",
              "      a.download = filename;\n",
              "      div.appendChild(a);\n",
              "      a.click();\n",
              "      div.remove();\n",
              "    }\n",
              "  "
            ]
          },
          "metadata": {}
        },
        {
          "output_type": "display_data",
          "data": {
            "text/plain": [
              "<IPython.core.display.Javascript object>"
            ],
            "application/javascript": [
              "download(\"download_1f0c9860-4e8b-47a8-b1c8-83c88075b1a0\", \"checkpoint_epoch_50.pth\", 6529914)"
            ]
          },
          "metadata": {}
        },
        {
          "output_type": "stream",
          "name": "stdout",
          "text": [
            "Epoch 50/150, Train Acc: 44.37%, Test Acc: 43.72%\n",
            "Epoch 50/150, Train Loss: 2.0696, Test Loss: 2.1663\n",
            "Epoch 51/150, Train Acc: 44.61%, Test Acc: 43.96%\n",
            "Epoch 51/150, Train Loss: 2.0705, Test Loss: 2.1959\n",
            "Epoch 52/150, Train Acc: 44.89%, Test Acc: 42.42%\n",
            "Epoch 52/150, Train Loss: 2.0654, Test Loss: 2.2452\n",
            "Epoch 53/150, Train Acc: 45.04%, Test Acc: 43.92%\n",
            "Epoch 53/150, Train Loss: 2.0632, Test Loss: 2.1581\n",
            "Epoch 54/150, Train Acc: 45.30%, Test Acc: 45.19%\n",
            "Epoch 54/150, Train Loss: 2.0473, Test Loss: 2.1235\n",
            "Epoch 55/150, Train Acc: 45.69%, Test Acc: 44.44%\n",
            "Epoch 55/150, Train Loss: 2.0264, Test Loss: 2.1458\n",
            "Epoch 56/150, Train Acc: 45.84%, Test Acc: 44.37%\n",
            "Epoch 56/150, Train Loss: 2.0195, Test Loss: 2.1425\n",
            "Epoch 57/150, Train Acc: 45.80%, Test Acc: 44.81%\n",
            "Epoch 57/150, Train Loss: 2.0118, Test Loss: 2.1200\n",
            "Epoch 58/150, Train Acc: 46.10%, Test Acc: 44.43%\n",
            "Epoch 58/150, Train Loss: 1.9954, Test Loss: 2.1768\n",
            "Epoch 59/150, Train Acc: 46.29%, Test Acc: 45.51%\n",
            "Epoch 59/150, Train Loss: 1.9946, Test Loss: 2.0936\n",
            "Checkpoint saved at epoch 60: ./checkpoint_epoch_60.pth\n"
          ]
        },
        {
          "output_type": "display_data",
          "data": {
            "text/plain": [
              "<IPython.core.display.Javascript object>"
            ],
            "application/javascript": [
              "\n",
              "    async function download(id, filename, size) {\n",
              "      if (!google.colab.kernel.accessAllowed) {\n",
              "        return;\n",
              "      }\n",
              "      const div = document.createElement('div');\n",
              "      const label = document.createElement('label');\n",
              "      label.textContent = `Downloading \"${filename}\": `;\n",
              "      div.appendChild(label);\n",
              "      const progress = document.createElement('progress');\n",
              "      progress.max = size;\n",
              "      div.appendChild(progress);\n",
              "      document.body.appendChild(div);\n",
              "\n",
              "      const buffers = [];\n",
              "      let downloaded = 0;\n",
              "\n",
              "      const channel = await google.colab.kernel.comms.open(id);\n",
              "      // Send a message to notify the kernel that we're ready.\n",
              "      channel.send({})\n",
              "\n",
              "      for await (const message of channel.messages) {\n",
              "        // Send a message to notify the kernel that we're ready.\n",
              "        channel.send({})\n",
              "        if (message.buffers) {\n",
              "          for (const buffer of message.buffers) {\n",
              "            buffers.push(buffer);\n",
              "            downloaded += buffer.byteLength;\n",
              "            progress.value = downloaded;\n",
              "          }\n",
              "        }\n",
              "      }\n",
              "      const blob = new Blob(buffers, {type: 'application/binary'});\n",
              "      const a = document.createElement('a');\n",
              "      a.href = window.URL.createObjectURL(blob);\n",
              "      a.download = filename;\n",
              "      div.appendChild(a);\n",
              "      a.click();\n",
              "      div.remove();\n",
              "    }\n",
              "  "
            ]
          },
          "metadata": {}
        },
        {
          "output_type": "display_data",
          "data": {
            "text/plain": [
              "<IPython.core.display.Javascript object>"
            ],
            "application/javascript": [
              "download(\"download_22c90c79-b27c-4af4-b62b-2c7322c5c6e1\", \"checkpoint_epoch_60.pth\", 6529914)"
            ]
          },
          "metadata": {}
        },
        {
          "output_type": "stream",
          "name": "stdout",
          "text": [
            "Epoch 60/150, Train Acc: 46.49%, Test Acc: 44.51%\n",
            "Epoch 60/150, Train Loss: 1.9826, Test Loss: 2.1526\n",
            "Epoch 61/150, Train Acc: 46.96%, Test Acc: 45.65%\n",
            "Epoch 61/150, Train Loss: 1.9685, Test Loss: 2.0793\n",
            "Epoch 62/150, Train Acc: 47.00%, Test Acc: 44.92%\n",
            "Epoch 62/150, Train Loss: 1.9677, Test Loss: 2.1336\n",
            "Epoch 63/150, Train Acc: 47.20%, Test Acc: 46.65%\n",
            "Epoch 63/150, Train Loss: 1.9548, Test Loss: 2.0554\n",
            "Epoch 64/150, Train Acc: 47.20%, Test Acc: 45.89%\n",
            "Epoch 64/150, Train Loss: 1.9516, Test Loss: 2.0782\n",
            "Epoch 65/150, Train Acc: 47.12%, Test Acc: 46.34%\n",
            "Epoch 65/150, Train Loss: 1.9417, Test Loss: 2.0779\n",
            "Epoch 66/150, Train Acc: 47.65%, Test Acc: 46.30%\n",
            "Epoch 66/150, Train Loss: 1.9322, Test Loss: 2.0915\n",
            "Epoch 67/150, Train Acc: 47.83%, Test Acc: 46.15%\n",
            "Epoch 67/150, Train Loss: 1.9244, Test Loss: 2.0884\n",
            "Epoch 68/150, Train Acc: 48.30%, Test Acc: 45.51%\n",
            "Epoch 68/150, Train Loss: 1.9085, Test Loss: 2.0896\n",
            "Epoch 69/150, Train Acc: 48.24%, Test Acc: 46.33%\n",
            "Epoch 69/150, Train Loss: 1.9002, Test Loss: 2.0557\n",
            "Checkpoint saved at epoch 70: ./checkpoint_epoch_70.pth\n"
          ]
        },
        {
          "output_type": "display_data",
          "data": {
            "text/plain": [
              "<IPython.core.display.Javascript object>"
            ],
            "application/javascript": [
              "\n",
              "    async function download(id, filename, size) {\n",
              "      if (!google.colab.kernel.accessAllowed) {\n",
              "        return;\n",
              "      }\n",
              "      const div = document.createElement('div');\n",
              "      const label = document.createElement('label');\n",
              "      label.textContent = `Downloading \"${filename}\": `;\n",
              "      div.appendChild(label);\n",
              "      const progress = document.createElement('progress');\n",
              "      progress.max = size;\n",
              "      div.appendChild(progress);\n",
              "      document.body.appendChild(div);\n",
              "\n",
              "      const buffers = [];\n",
              "      let downloaded = 0;\n",
              "\n",
              "      const channel = await google.colab.kernel.comms.open(id);\n",
              "      // Send a message to notify the kernel that we're ready.\n",
              "      channel.send({})\n",
              "\n",
              "      for await (const message of channel.messages) {\n",
              "        // Send a message to notify the kernel that we're ready.\n",
              "        channel.send({})\n",
              "        if (message.buffers) {\n",
              "          for (const buffer of message.buffers) {\n",
              "            buffers.push(buffer);\n",
              "            downloaded += buffer.byteLength;\n",
              "            progress.value = downloaded;\n",
              "          }\n",
              "        }\n",
              "      }\n",
              "      const blob = new Blob(buffers, {type: 'application/binary'});\n",
              "      const a = document.createElement('a');\n",
              "      a.href = window.URL.createObjectURL(blob);\n",
              "      a.download = filename;\n",
              "      div.appendChild(a);\n",
              "      a.click();\n",
              "      div.remove();\n",
              "    }\n",
              "  "
            ]
          },
          "metadata": {}
        },
        {
          "output_type": "display_data",
          "data": {
            "text/plain": [
              "<IPython.core.display.Javascript object>"
            ],
            "application/javascript": [
              "download(\"download_7213735f-986e-4e9e-8930-d33630e4d676\", \"checkpoint_epoch_70.pth\", 6529914)"
            ]
          },
          "metadata": {}
        },
        {
          "output_type": "stream",
          "name": "stdout",
          "text": [
            "Epoch 70/150, Train Acc: 48.73%, Test Acc: 46.66%\n",
            "Epoch 70/150, Train Loss: 1.8877, Test Loss: 2.0362\n",
            "Epoch 71/150, Train Acc: 48.83%, Test Acc: 46.88%\n",
            "Epoch 71/150, Train Loss: 1.8845, Test Loss: 2.0283\n",
            "Epoch 72/150, Train Acc: 49.00%, Test Acc: 45.43%\n",
            "Epoch 72/150, Train Loss: 1.8668, Test Loss: 2.0799\n",
            "Epoch 73/150, Train Acc: 49.01%, Test Acc: 46.25%\n",
            "Epoch 73/150, Train Loss: 1.8687, Test Loss: 2.0647\n",
            "Epoch 74/150, Train Acc: 49.63%, Test Acc: 47.27%\n",
            "Epoch 74/150, Train Loss: 1.8526, Test Loss: 2.0144\n",
            "Epoch 75/150, Train Acc: 49.54%, Test Acc: 46.78%\n",
            "Epoch 75/150, Train Loss: 1.8446, Test Loss: 2.0515\n",
            "Epoch 76/150, Train Acc: 50.03%, Test Acc: 46.46%\n",
            "Epoch 76/150, Train Loss: 1.8345, Test Loss: 2.0466\n",
            "Epoch 77/150, Train Acc: 50.02%, Test Acc: 47.62%\n",
            "Epoch 77/150, Train Loss: 1.8285, Test Loss: 2.0257\n",
            "Epoch 78/150, Train Acc: 50.25%, Test Acc: 47.22%\n",
            "Epoch 78/150, Train Loss: 1.8222, Test Loss: 2.0100\n",
            "Epoch 79/150, Train Acc: 50.40%, Test Acc: 47.17%\n",
            "Epoch 79/150, Train Loss: 1.8080, Test Loss: 2.0265\n",
            "Checkpoint saved at epoch 80: ./checkpoint_epoch_80.pth\n"
          ]
        },
        {
          "output_type": "display_data",
          "data": {
            "text/plain": [
              "<IPython.core.display.Javascript object>"
            ],
            "application/javascript": [
              "\n",
              "    async function download(id, filename, size) {\n",
              "      if (!google.colab.kernel.accessAllowed) {\n",
              "        return;\n",
              "      }\n",
              "      const div = document.createElement('div');\n",
              "      const label = document.createElement('label');\n",
              "      label.textContent = `Downloading \"${filename}\": `;\n",
              "      div.appendChild(label);\n",
              "      const progress = document.createElement('progress');\n",
              "      progress.max = size;\n",
              "      div.appendChild(progress);\n",
              "      document.body.appendChild(div);\n",
              "\n",
              "      const buffers = [];\n",
              "      let downloaded = 0;\n",
              "\n",
              "      const channel = await google.colab.kernel.comms.open(id);\n",
              "      // Send a message to notify the kernel that we're ready.\n",
              "      channel.send({})\n",
              "\n",
              "      for await (const message of channel.messages) {\n",
              "        // Send a message to notify the kernel that we're ready.\n",
              "        channel.send({})\n",
              "        if (message.buffers) {\n",
              "          for (const buffer of message.buffers) {\n",
              "            buffers.push(buffer);\n",
              "            downloaded += buffer.byteLength;\n",
              "            progress.value = downloaded;\n",
              "          }\n",
              "        }\n",
              "      }\n",
              "      const blob = new Blob(buffers, {type: 'application/binary'});\n",
              "      const a = document.createElement('a');\n",
              "      a.href = window.URL.createObjectURL(blob);\n",
              "      a.download = filename;\n",
              "      div.appendChild(a);\n",
              "      a.click();\n",
              "      div.remove();\n",
              "    }\n",
              "  "
            ]
          },
          "metadata": {}
        },
        {
          "output_type": "display_data",
          "data": {
            "text/plain": [
              "<IPython.core.display.Javascript object>"
            ],
            "application/javascript": [
              "download(\"download_c3d9add0-5260-4b96-8340-01bddde81290\", \"checkpoint_epoch_80.pth\", 6529914)"
            ]
          },
          "metadata": {}
        },
        {
          "output_type": "stream",
          "name": "stdout",
          "text": [
            "Epoch 80/150, Train Acc: 50.67%, Test Acc: 47.50%\n",
            "Epoch 80/150, Train Loss: 1.7949, Test Loss: 2.0090\n",
            "Epoch 81/150, Train Acc: 50.74%, Test Acc: 48.37%\n",
            "Epoch 81/150, Train Loss: 1.7870, Test Loss: 1.9928\n",
            "Epoch 82/150, Train Acc: 51.04%, Test Acc: 48.22%\n",
            "Epoch 82/150, Train Loss: 1.7830, Test Loss: 1.9897\n",
            "Epoch 83/150, Train Acc: 51.09%, Test Acc: 46.90%\n",
            "Epoch 83/150, Train Loss: 1.7780, Test Loss: 2.0178\n",
            "Epoch 84/150, Train Acc: 51.12%, Test Acc: 47.98%\n",
            "Epoch 84/150, Train Loss: 1.7721, Test Loss: 2.0072\n",
            "Epoch 85/150, Train Acc: 51.52%, Test Acc: 47.62%\n",
            "Epoch 85/150, Train Loss: 1.7621, Test Loss: 1.9882\n",
            "Epoch 86/150, Train Acc: 51.80%, Test Acc: 48.35%\n",
            "Epoch 86/150, Train Loss: 1.7499, Test Loss: 1.9765\n",
            "Epoch 87/150, Train Acc: 51.80%, Test Acc: 48.15%\n",
            "Epoch 87/150, Train Loss: 1.7500, Test Loss: 1.9902\n",
            "Epoch 88/150, Train Acc: 52.35%, Test Acc: 48.47%\n",
            "Epoch 88/150, Train Loss: 1.7260, Test Loss: 2.0035\n",
            "Epoch 89/150, Train Acc: 51.96%, Test Acc: 48.53%\n",
            "Epoch 89/150, Train Loss: 1.7301, Test Loss: 1.9870\n",
            "Checkpoint saved at epoch 90: ./checkpoint_epoch_90.pth\n"
          ]
        },
        {
          "output_type": "display_data",
          "data": {
            "text/plain": [
              "<IPython.core.display.Javascript object>"
            ],
            "application/javascript": [
              "\n",
              "    async function download(id, filename, size) {\n",
              "      if (!google.colab.kernel.accessAllowed) {\n",
              "        return;\n",
              "      }\n",
              "      const div = document.createElement('div');\n",
              "      const label = document.createElement('label');\n",
              "      label.textContent = `Downloading \"${filename}\": `;\n",
              "      div.appendChild(label);\n",
              "      const progress = document.createElement('progress');\n",
              "      progress.max = size;\n",
              "      div.appendChild(progress);\n",
              "      document.body.appendChild(div);\n",
              "\n",
              "      const buffers = [];\n",
              "      let downloaded = 0;\n",
              "\n",
              "      const channel = await google.colab.kernel.comms.open(id);\n",
              "      // Send a message to notify the kernel that we're ready.\n",
              "      channel.send({})\n",
              "\n",
              "      for await (const message of channel.messages) {\n",
              "        // Send a message to notify the kernel that we're ready.\n",
              "        channel.send({})\n",
              "        if (message.buffers) {\n",
              "          for (const buffer of message.buffers) {\n",
              "            buffers.push(buffer);\n",
              "            downloaded += buffer.byteLength;\n",
              "            progress.value = downloaded;\n",
              "          }\n",
              "        }\n",
              "      }\n",
              "      const blob = new Blob(buffers, {type: 'application/binary'});\n",
              "      const a = document.createElement('a');\n",
              "      a.href = window.URL.createObjectURL(blob);\n",
              "      a.download = filename;\n",
              "      div.appendChild(a);\n",
              "      a.click();\n",
              "      div.remove();\n",
              "    }\n",
              "  "
            ]
          },
          "metadata": {}
        },
        {
          "output_type": "display_data",
          "data": {
            "text/plain": [
              "<IPython.core.display.Javascript object>"
            ],
            "application/javascript": [
              "download(\"download_2f1cb648-1859-4557-8336-f7310694b226\", \"checkpoint_epoch_90.pth\", 6529914)"
            ]
          },
          "metadata": {}
        },
        {
          "output_type": "stream",
          "name": "stdout",
          "text": [
            "Epoch 90/150, Train Acc: 52.61%, Test Acc: 48.84%\n",
            "Epoch 90/150, Train Loss: 1.7067, Test Loss: 1.9709\n",
            "Epoch 91/150, Train Acc: 53.03%, Test Acc: 49.33%\n",
            "Epoch 91/150, Train Loss: 1.6996, Test Loss: 1.9708\n",
            "Epoch 92/150, Train Acc: 52.99%, Test Acc: 49.76%\n",
            "Epoch 92/150, Train Loss: 1.6928, Test Loss: 1.9282\n",
            "Epoch 93/150, Train Acc: 53.25%, Test Acc: 49.32%\n",
            "Epoch 93/150, Train Loss: 1.6812, Test Loss: 1.9345\n",
            "Epoch 94/150, Train Acc: 53.19%, Test Acc: 49.41%\n",
            "Epoch 94/150, Train Loss: 1.6765, Test Loss: 1.9292\n",
            "Epoch 95/150, Train Acc: 53.73%, Test Acc: 49.53%\n",
            "Epoch 95/150, Train Loss: 1.6664, Test Loss: 1.9434\n",
            "Epoch 96/150, Train Acc: 54.03%, Test Acc: 49.15%\n",
            "Epoch 96/150, Train Loss: 1.6556, Test Loss: 1.9222\n",
            "Epoch 97/150, Train Acc: 53.79%, Test Acc: 49.90%\n",
            "Epoch 97/150, Train Loss: 1.6574, Test Loss: 1.9397\n",
            "Epoch 98/150, Train Acc: 54.01%, Test Acc: 49.38%\n",
            "Epoch 98/150, Train Loss: 1.6456, Test Loss: 1.9008\n",
            "Epoch 99/150, Train Acc: 54.38%, Test Acc: 49.88%\n",
            "Epoch 99/150, Train Loss: 1.6348, Test Loss: 1.9226\n",
            "Checkpoint saved at epoch 100: ./checkpoint_epoch_100.pth\n"
          ]
        },
        {
          "output_type": "display_data",
          "data": {
            "text/plain": [
              "<IPython.core.display.Javascript object>"
            ],
            "application/javascript": [
              "\n",
              "    async function download(id, filename, size) {\n",
              "      if (!google.colab.kernel.accessAllowed) {\n",
              "        return;\n",
              "      }\n",
              "      const div = document.createElement('div');\n",
              "      const label = document.createElement('label');\n",
              "      label.textContent = `Downloading \"${filename}\": `;\n",
              "      div.appendChild(label);\n",
              "      const progress = document.createElement('progress');\n",
              "      progress.max = size;\n",
              "      div.appendChild(progress);\n",
              "      document.body.appendChild(div);\n",
              "\n",
              "      const buffers = [];\n",
              "      let downloaded = 0;\n",
              "\n",
              "      const channel = await google.colab.kernel.comms.open(id);\n",
              "      // Send a message to notify the kernel that we're ready.\n",
              "      channel.send({})\n",
              "\n",
              "      for await (const message of channel.messages) {\n",
              "        // Send a message to notify the kernel that we're ready.\n",
              "        channel.send({})\n",
              "        if (message.buffers) {\n",
              "          for (const buffer of message.buffers) {\n",
              "            buffers.push(buffer);\n",
              "            downloaded += buffer.byteLength;\n",
              "            progress.value = downloaded;\n",
              "          }\n",
              "        }\n",
              "      }\n",
              "      const blob = new Blob(buffers, {type: 'application/binary'});\n",
              "      const a = document.createElement('a');\n",
              "      a.href = window.URL.createObjectURL(blob);\n",
              "      a.download = filename;\n",
              "      div.appendChild(a);\n",
              "      a.click();\n",
              "      div.remove();\n",
              "    }\n",
              "  "
            ]
          },
          "metadata": {}
        },
        {
          "output_type": "display_data",
          "data": {
            "text/plain": [
              "<IPython.core.display.Javascript object>"
            ],
            "application/javascript": [
              "download(\"download_0affda20-a1af-44bb-9179-9f06f4f57657\", \"checkpoint_epoch_100.pth\", 6529938)"
            ]
          },
          "metadata": {}
        },
        {
          "output_type": "stream",
          "name": "stdout",
          "text": [
            "Epoch 100/150, Train Acc: 54.96%, Test Acc: 49.90%\n",
            "Epoch 100/150, Train Loss: 1.6197, Test Loss: 1.9160\n",
            "Epoch 101/150, Train Acc: 54.79%, Test Acc: 50.16%\n",
            "Epoch 101/150, Train Loss: 1.6187, Test Loss: 1.9088\n",
            "Epoch 102/150, Train Acc: 54.85%, Test Acc: 50.39%\n",
            "Epoch 102/150, Train Loss: 1.6130, Test Loss: 1.8971\n",
            "Epoch 103/150, Train Acc: 55.02%, Test Acc: 49.95%\n",
            "Epoch 103/150, Train Loss: 1.5955, Test Loss: 1.9140\n",
            "Epoch 104/150, Train Acc: 55.29%, Test Acc: 50.03%\n",
            "Epoch 104/150, Train Loss: 1.5921, Test Loss: 1.9098\n",
            "Epoch 105/150, Train Acc: 55.64%, Test Acc: 50.13%\n",
            "Epoch 105/150, Train Loss: 1.5834, Test Loss: 1.9192\n",
            "Epoch 106/150, Train Acc: 55.88%, Test Acc: 50.38%\n",
            "Epoch 106/150, Train Loss: 1.5750, Test Loss: 1.9066\n",
            "Epoch 107/150, Train Acc: 56.12%, Test Acc: 50.46%\n",
            "Epoch 107/150, Train Loss: 1.5674, Test Loss: 1.9048\n",
            "Epoch 108/150, Train Acc: 56.02%, Test Acc: 50.19%\n",
            "Epoch 108/150, Train Loss: 1.5513, Test Loss: 1.8944\n",
            "Epoch 109/150, Train Acc: 56.37%, Test Acc: 50.89%\n",
            "Epoch 109/150, Train Loss: 1.5507, Test Loss: 1.8715\n",
            "Checkpoint saved at epoch 110: ./checkpoint_epoch_110.pth\n"
          ]
        },
        {
          "output_type": "display_data",
          "data": {
            "text/plain": [
              "<IPython.core.display.Javascript object>"
            ],
            "application/javascript": [
              "\n",
              "    async function download(id, filename, size) {\n",
              "      if (!google.colab.kernel.accessAllowed) {\n",
              "        return;\n",
              "      }\n",
              "      const div = document.createElement('div');\n",
              "      const label = document.createElement('label');\n",
              "      label.textContent = `Downloading \"${filename}\": `;\n",
              "      div.appendChild(label);\n",
              "      const progress = document.createElement('progress');\n",
              "      progress.max = size;\n",
              "      div.appendChild(progress);\n",
              "      document.body.appendChild(div);\n",
              "\n",
              "      const buffers = [];\n",
              "      let downloaded = 0;\n",
              "\n",
              "      const channel = await google.colab.kernel.comms.open(id);\n",
              "      // Send a message to notify the kernel that we're ready.\n",
              "      channel.send({})\n",
              "\n",
              "      for await (const message of channel.messages) {\n",
              "        // Send a message to notify the kernel that we're ready.\n",
              "        channel.send({})\n",
              "        if (message.buffers) {\n",
              "          for (const buffer of message.buffers) {\n",
              "            buffers.push(buffer);\n",
              "            downloaded += buffer.byteLength;\n",
              "            progress.value = downloaded;\n",
              "          }\n",
              "        }\n",
              "      }\n",
              "      const blob = new Blob(buffers, {type: 'application/binary'});\n",
              "      const a = document.createElement('a');\n",
              "      a.href = window.URL.createObjectURL(blob);\n",
              "      a.download = filename;\n",
              "      div.appendChild(a);\n",
              "      a.click();\n",
              "      div.remove();\n",
              "    }\n",
              "  "
            ]
          },
          "metadata": {}
        },
        {
          "output_type": "display_data",
          "data": {
            "text/plain": [
              "<IPython.core.display.Javascript object>"
            ],
            "application/javascript": [
              "download(\"download_8cb6b42a-fbd9-4199-bc4f-9a1819ba637f\", \"checkpoint_epoch_110.pth\", 6529938)"
            ]
          },
          "metadata": {}
        },
        {
          "output_type": "stream",
          "name": "stdout",
          "text": [
            "Epoch 110/150, Train Acc: 56.54%, Test Acc: 51.36%\n",
            "Epoch 110/150, Train Loss: 1.5481, Test Loss: 1.8992\n",
            "Epoch 111/150, Train Acc: 56.69%, Test Acc: 51.49%\n",
            "Epoch 111/150, Train Loss: 1.5367, Test Loss: 1.8717\n",
            "Epoch 112/150, Train Acc: 56.61%, Test Acc: 51.04%\n",
            "Epoch 112/150, Train Loss: 1.5322, Test Loss: 1.8512\n",
            "Epoch 113/150, Train Acc: 56.96%, Test Acc: 51.83%\n",
            "Epoch 113/150, Train Loss: 1.5287, Test Loss: 1.8612\n",
            "Epoch 114/150, Train Acc: 57.24%, Test Acc: 52.26%\n",
            "Epoch 114/150, Train Loss: 1.5137, Test Loss: 1.8327\n",
            "Epoch 115/150, Train Acc: 57.23%, Test Acc: 51.63%\n",
            "Epoch 115/150, Train Loss: 1.5177, Test Loss: 1.8426\n",
            "Epoch 116/150, Train Acc: 57.40%, Test Acc: 50.97%\n",
            "Epoch 116/150, Train Loss: 1.5036, Test Loss: 1.8881\n",
            "Epoch 117/150, Train Acc: 57.45%, Test Acc: 52.03%\n",
            "Epoch 117/150, Train Loss: 1.4992, Test Loss: 1.8476\n",
            "Epoch 118/150, Train Acc: 57.71%, Test Acc: 51.98%\n",
            "Epoch 118/150, Train Loss: 1.4870, Test Loss: 1.8470\n",
            "Epoch 119/150, Train Acc: 57.74%, Test Acc: 51.78%\n",
            "Epoch 119/150, Train Loss: 1.4896, Test Loss: 1.8486\n",
            "Checkpoint saved at epoch 120: ./checkpoint_epoch_120.pth\n"
          ]
        },
        {
          "output_type": "display_data",
          "data": {
            "text/plain": [
              "<IPython.core.display.Javascript object>"
            ],
            "application/javascript": [
              "\n",
              "    async function download(id, filename, size) {\n",
              "      if (!google.colab.kernel.accessAllowed) {\n",
              "        return;\n",
              "      }\n",
              "      const div = document.createElement('div');\n",
              "      const label = document.createElement('label');\n",
              "      label.textContent = `Downloading \"${filename}\": `;\n",
              "      div.appendChild(label);\n",
              "      const progress = document.createElement('progress');\n",
              "      progress.max = size;\n",
              "      div.appendChild(progress);\n",
              "      document.body.appendChild(div);\n",
              "\n",
              "      const buffers = [];\n",
              "      let downloaded = 0;\n",
              "\n",
              "      const channel = await google.colab.kernel.comms.open(id);\n",
              "      // Send a message to notify the kernel that we're ready.\n",
              "      channel.send({})\n",
              "\n",
              "      for await (const message of channel.messages) {\n",
              "        // Send a message to notify the kernel that we're ready.\n",
              "        channel.send({})\n",
              "        if (message.buffers) {\n",
              "          for (const buffer of message.buffers) {\n",
              "            buffers.push(buffer);\n",
              "            downloaded += buffer.byteLength;\n",
              "            progress.value = downloaded;\n",
              "          }\n",
              "        }\n",
              "      }\n",
              "      const blob = new Blob(buffers, {type: 'application/binary'});\n",
              "      const a = document.createElement('a');\n",
              "      a.href = window.URL.createObjectURL(blob);\n",
              "      a.download = filename;\n",
              "      div.appendChild(a);\n",
              "      a.click();\n",
              "      div.remove();\n",
              "    }\n",
              "  "
            ]
          },
          "metadata": {}
        },
        {
          "output_type": "display_data",
          "data": {
            "text/plain": [
              "<IPython.core.display.Javascript object>"
            ],
            "application/javascript": [
              "download(\"download_efbcf74a-7f25-43bd-8180-1d32ffb29713\", \"checkpoint_epoch_120.pth\", 6529938)"
            ]
          },
          "metadata": {}
        },
        {
          "output_type": "stream",
          "name": "stdout",
          "text": [
            "Epoch 120/150, Train Acc: 58.02%, Test Acc: 52.63%\n",
            "Epoch 120/150, Train Loss: 1.4751, Test Loss: 1.8351\n",
            "Epoch 121/150, Train Acc: 58.56%, Test Acc: 52.33%\n",
            "Epoch 121/150, Train Loss: 1.4648, Test Loss: 1.8143\n",
            "Epoch 122/150, Train Acc: 58.28%, Test Acc: 52.08%\n",
            "Epoch 122/150, Train Loss: 1.4671, Test Loss: 1.8419\n",
            "Epoch 123/150, Train Acc: 58.50%, Test Acc: 52.41%\n",
            "Epoch 123/150, Train Loss: 1.4569, Test Loss: 1.8305\n",
            "Epoch 124/150, Train Acc: 58.90%, Test Acc: 52.55%\n",
            "Epoch 124/150, Train Loss: 1.4435, Test Loss: 1.8199\n",
            "Epoch 125/150, Train Acc: 58.67%, Test Acc: 52.18%\n",
            "Epoch 125/150, Train Loss: 1.4487, Test Loss: 1.8255\n",
            "Epoch 126/150, Train Acc: 59.00%, Test Acc: 52.34%\n",
            "Epoch 126/150, Train Loss: 1.4455, Test Loss: 1.8198\n",
            "Epoch 127/150, Train Acc: 59.16%, Test Acc: 52.57%\n",
            "Epoch 127/150, Train Loss: 1.4351, Test Loss: 1.8252\n",
            "Epoch 128/150, Train Acc: 59.15%, Test Acc: 52.39%\n",
            "Epoch 128/150, Train Loss: 1.4320, Test Loss: 1.8343\n",
            "Epoch 129/150, Train Acc: 59.44%, Test Acc: 51.89%\n",
            "Epoch 129/150, Train Loss: 1.4247, Test Loss: 1.8204\n",
            "Checkpoint saved at epoch 130: ./checkpoint_epoch_130.pth\n"
          ]
        },
        {
          "output_type": "display_data",
          "data": {
            "text/plain": [
              "<IPython.core.display.Javascript object>"
            ],
            "application/javascript": [
              "\n",
              "    async function download(id, filename, size) {\n",
              "      if (!google.colab.kernel.accessAllowed) {\n",
              "        return;\n",
              "      }\n",
              "      const div = document.createElement('div');\n",
              "      const label = document.createElement('label');\n",
              "      label.textContent = `Downloading \"${filename}\": `;\n",
              "      div.appendChild(label);\n",
              "      const progress = document.createElement('progress');\n",
              "      progress.max = size;\n",
              "      div.appendChild(progress);\n",
              "      document.body.appendChild(div);\n",
              "\n",
              "      const buffers = [];\n",
              "      let downloaded = 0;\n",
              "\n",
              "      const channel = await google.colab.kernel.comms.open(id);\n",
              "      // Send a message to notify the kernel that we're ready.\n",
              "      channel.send({})\n",
              "\n",
              "      for await (const message of channel.messages) {\n",
              "        // Send a message to notify the kernel that we're ready.\n",
              "        channel.send({})\n",
              "        if (message.buffers) {\n",
              "          for (const buffer of message.buffers) {\n",
              "            buffers.push(buffer);\n",
              "            downloaded += buffer.byteLength;\n",
              "            progress.value = downloaded;\n",
              "          }\n",
              "        }\n",
              "      }\n",
              "      const blob = new Blob(buffers, {type: 'application/binary'});\n",
              "      const a = document.createElement('a');\n",
              "      a.href = window.URL.createObjectURL(blob);\n",
              "      a.download = filename;\n",
              "      div.appendChild(a);\n",
              "      a.click();\n",
              "      div.remove();\n",
              "    }\n",
              "  "
            ]
          },
          "metadata": {}
        },
        {
          "output_type": "display_data",
          "data": {
            "text/plain": [
              "<IPython.core.display.Javascript object>"
            ],
            "application/javascript": [
              "download(\"download_c09e1454-3c34-4066-afc3-b8e7529345b7\", \"checkpoint_epoch_130.pth\", 6529938)"
            ]
          },
          "metadata": {}
        },
        {
          "output_type": "stream",
          "name": "stdout",
          "text": [
            "Epoch 130/150, Train Acc: 59.67%, Test Acc: 52.42%\n",
            "Epoch 130/150, Train Loss: 1.4211, Test Loss: 1.8084\n",
            "Epoch 131/150, Train Acc: 59.46%, Test Acc: 52.63%\n",
            "Epoch 131/150, Train Loss: 1.4133, Test Loss: 1.8139\n",
            "Epoch 132/150, Train Acc: 59.48%, Test Acc: 52.47%\n",
            "Epoch 132/150, Train Loss: 1.4219, Test Loss: 1.8161\n",
            "Epoch 133/150, Train Acc: 59.83%, Test Acc: 52.61%\n",
            "Epoch 133/150, Train Loss: 1.4082, Test Loss: 1.8214\n",
            "Epoch 134/150, Train Acc: 59.77%, Test Acc: 52.83%\n",
            "Epoch 134/150, Train Loss: 1.4128, Test Loss: 1.8115\n",
            "Epoch 135/150, Train Acc: 59.87%, Test Acc: 53.37%\n",
            "Epoch 135/150, Train Loss: 1.4013, Test Loss: 1.8075\n",
            "Epoch 136/150, Train Acc: 59.88%, Test Acc: 52.66%\n",
            "Epoch 136/150, Train Loss: 1.3988, Test Loss: 1.7947\n",
            "Epoch 137/150, Train Acc: 60.05%, Test Acc: 52.59%\n",
            "Epoch 137/150, Train Loss: 1.4011, Test Loss: 1.8072\n",
            "Epoch 138/150, Train Acc: 60.03%, Test Acc: 53.25%\n",
            "Epoch 138/150, Train Loss: 1.3875, Test Loss: 1.8037\n",
            "Epoch 139/150, Train Acc: 60.23%, Test Acc: 53.04%\n",
            "Epoch 139/150, Train Loss: 1.3962, Test Loss: 1.7916\n",
            "Checkpoint saved at epoch 140: ./checkpoint_epoch_140.pth\n"
          ]
        },
        {
          "output_type": "display_data",
          "data": {
            "text/plain": [
              "<IPython.core.display.Javascript object>"
            ],
            "application/javascript": [
              "\n",
              "    async function download(id, filename, size) {\n",
              "      if (!google.colab.kernel.accessAllowed) {\n",
              "        return;\n",
              "      }\n",
              "      const div = document.createElement('div');\n",
              "      const label = document.createElement('label');\n",
              "      label.textContent = `Downloading \"${filename}\": `;\n",
              "      div.appendChild(label);\n",
              "      const progress = document.createElement('progress');\n",
              "      progress.max = size;\n",
              "      div.appendChild(progress);\n",
              "      document.body.appendChild(div);\n",
              "\n",
              "      const buffers = [];\n",
              "      let downloaded = 0;\n",
              "\n",
              "      const channel = await google.colab.kernel.comms.open(id);\n",
              "      // Send a message to notify the kernel that we're ready.\n",
              "      channel.send({})\n",
              "\n",
              "      for await (const message of channel.messages) {\n",
              "        // Send a message to notify the kernel that we're ready.\n",
              "        channel.send({})\n",
              "        if (message.buffers) {\n",
              "          for (const buffer of message.buffers) {\n",
              "            buffers.push(buffer);\n",
              "            downloaded += buffer.byteLength;\n",
              "            progress.value = downloaded;\n",
              "          }\n",
              "        }\n",
              "      }\n",
              "      const blob = new Blob(buffers, {type: 'application/binary'});\n",
              "      const a = document.createElement('a');\n",
              "      a.href = window.URL.createObjectURL(blob);\n",
              "      a.download = filename;\n",
              "      div.appendChild(a);\n",
              "      a.click();\n",
              "      div.remove();\n",
              "    }\n",
              "  "
            ]
          },
          "metadata": {}
        },
        {
          "output_type": "display_data",
          "data": {
            "text/plain": [
              "<IPython.core.display.Javascript object>"
            ],
            "application/javascript": [
              "download(\"download_f158735a-7312-4038-a40d-2db9007e1e3e\", \"checkpoint_epoch_140.pth\", 6529938)"
            ]
          },
          "metadata": {}
        },
        {
          "output_type": "stream",
          "name": "stdout",
          "text": [
            "Epoch 140/150, Train Acc: 60.38%, Test Acc: 52.68%\n",
            "Epoch 140/150, Train Loss: 1.3812, Test Loss: 1.8047\n",
            "Epoch 141/150, Train Acc: 60.20%, Test Acc: 53.43%\n",
            "Epoch 141/150, Train Loss: 1.3906, Test Loss: 1.7899\n",
            "Epoch 142/150, Train Acc: 60.60%, Test Acc: 52.81%\n",
            "Epoch 142/150, Train Loss: 1.3789, Test Loss: 1.7996\n",
            "Epoch 143/150, Train Acc: 60.23%, Test Acc: 53.27%\n",
            "Epoch 143/150, Train Loss: 1.3804, Test Loss: 1.8000\n",
            "Epoch 144/150, Train Acc: 60.68%, Test Acc: 53.22%\n",
            "Epoch 144/150, Train Loss: 1.3809, Test Loss: 1.7873\n",
            "Epoch 145/150, Train Acc: 60.20%, Test Acc: 52.75%\n",
            "Epoch 145/150, Train Loss: 1.3841, Test Loss: 1.8101\n",
            "Epoch 146/150, Train Acc: 60.23%, Test Acc: 52.72%\n",
            "Epoch 146/150, Train Loss: 1.3819, Test Loss: 1.7994\n",
            "Epoch 147/150, Train Acc: 60.53%, Test Acc: 52.81%\n",
            "Epoch 147/150, Train Loss: 1.3761, Test Loss: 1.8102\n",
            "Epoch 148/150, Train Acc: 60.51%, Test Acc: 53.24%\n",
            "Epoch 148/150, Train Loss: 1.3819, Test Loss: 1.8008\n",
            "Epoch 149/150, Train Acc: 60.42%, Test Acc: 52.97%\n",
            "Epoch 149/150, Train Loss: 1.3854, Test Loss: 1.8130\n",
            "Checkpoint saved at epoch 150: ./checkpoint_epoch_150.pth\n"
          ]
        },
        {
          "output_type": "display_data",
          "data": {
            "text/plain": [
              "<IPython.core.display.Javascript object>"
            ],
            "application/javascript": [
              "\n",
              "    async function download(id, filename, size) {\n",
              "      if (!google.colab.kernel.accessAllowed) {\n",
              "        return;\n",
              "      }\n",
              "      const div = document.createElement('div');\n",
              "      const label = document.createElement('label');\n",
              "      label.textContent = `Downloading \"${filename}\": `;\n",
              "      div.appendChild(label);\n",
              "      const progress = document.createElement('progress');\n",
              "      progress.max = size;\n",
              "      div.appendChild(progress);\n",
              "      document.body.appendChild(div);\n",
              "\n",
              "      const buffers = [];\n",
              "      let downloaded = 0;\n",
              "\n",
              "      const channel = await google.colab.kernel.comms.open(id);\n",
              "      // Send a message to notify the kernel that we're ready.\n",
              "      channel.send({})\n",
              "\n",
              "      for await (const message of channel.messages) {\n",
              "        // Send a message to notify the kernel that we're ready.\n",
              "        channel.send({})\n",
              "        if (message.buffers) {\n",
              "          for (const buffer of message.buffers) {\n",
              "            buffers.push(buffer);\n",
              "            downloaded += buffer.byteLength;\n",
              "            progress.value = downloaded;\n",
              "          }\n",
              "        }\n",
              "      }\n",
              "      const blob = new Blob(buffers, {type: 'application/binary'});\n",
              "      const a = document.createElement('a');\n",
              "      a.href = window.URL.createObjectURL(blob);\n",
              "      a.download = filename;\n",
              "      div.appendChild(a);\n",
              "      a.click();\n",
              "      div.remove();\n",
              "    }\n",
              "  "
            ]
          },
          "metadata": {}
        },
        {
          "output_type": "display_data",
          "data": {
            "text/plain": [
              "<IPython.core.display.Javascript object>"
            ],
            "application/javascript": [
              "download(\"download_8ee06adc-21d2-4136-ac9f-3a8e2c60a79c\", \"checkpoint_epoch_150.pth\", 6529938)"
            ]
          },
          "metadata": {}
        },
        {
          "output_type": "stream",
          "name": "stdout",
          "text": [
            "Epoch 150/150, Train Acc: 60.34%, Test Acc: 53.20%\n",
            "Epoch 150/150, Train Loss: 1.3807, Test Loss: 1.8053\n"
          ]
        },
        {
          "output_type": "display_data",
          "data": {
            "text/plain": [
              "<Figure size 600x400 with 1 Axes>"
            ],
            "image/png": "[encoded data removed]"
          },
          "metadata": {}
        },
        {
          "output_type": "display_data",
          "data": {
            "text/plain": [
              "<Figure size 600x400 with 1 Axes>"
            ],
            "image/png": "[encoded data removed]"
          },
          "metadata": {}
        },
        {
          "output_type": "display_data",
          "data": {
            "text/plain": [
              "<Figure size 600x400 with 1 Axes>"
            ],
            "image/png": "[encoded data removed]"
          },
          "metadata": {}
        },
        {
          "output_type": "display_data",
          "data": {
            "text/plain": [
              "<Figure size 600x400 with 1 Axes>"
            ],
            "image/png": "[encoded data removed]"
          },
          "metadata": {}
        }
      ],
      "source": [
        "import os\n",
        "import numpy as np\n",
        "import torch\n",
        "import torch.nn as nn\n",
        "import torch.optim as optim\n",
        "import torchvision\n",
        "import torchvision.transforms as transforms\n",
        "import matplotlib.pyplot as plt\n",
        "from torch.utils.data import random_split\n",
        "from google.colab import files\n",
        "\n",
        "\n",
        "# Training settings\n",
        "# epochs, batch sized and momentum are fixed values\n",
        "epochs = 150\n",
        "batch_size = 64\n",
        "momentum = 0.9\n",
        "# weight decay and learning rate are adjustable\n",
        "weight_decay = 4e-4\n",
        "lr = 1e-2\n",
        "\n",
        "def compute_mean_std(dataset):\n",
        "    \"\"\"Compute the mean and std of CIFAR-100 dataset.\n",
        "\n",
        "    Args:\n",
        "        dataset: A dataset derived from `torch.utils.data.Dataset`,\n",
        "                 such as `cifar100_training_dataset` or `cifar100_test_dataset`.\n",
        "\n",
        "    Returns:\n",
        "        A tuple containing (mean, std) for the entire dataset.\n",
        "    \"\"\"\n",
        "\n",
        "    # Extract images and labels\n",
        "    data_r = np.stack([np.array(dataset[i][0])[:, :, 0] for i in range(len(dataset))])\n",
        "    data_g = np.stack([np.array(dataset[i][0])[:, :, 1] for i in range(len(dataset))])\n",
        "    data_b = np.stack([np.array(dataset[i][0])[:, :, 2] for i in range(len(dataset))])\n",
        "\n",
        "    # Compute mean and std\n",
        "    mean = np.mean(data_r), np.mean(data_g), np.mean(data_b)\n",
        "    std = np.std(data_r), np.std(data_g), np.std(data_b)\n",
        "\n",
        "    return mean, std\n",
        "\n",
        "\n",
        "# Define LeNet-5 architecture\n",
        "class LeNet5(nn.Module):\n",
        "    def __init__(self):\n",
        "        super(LeNet5, self).__init__()\n",
        "        self.conv1 = nn.Conv2d(3, 64, 5)\n",
        "        self.relu1 = nn.ReLU()\n",
        "        self.pool1 = nn.MaxPool2d(2, 2)\n",
        "        self.conv2 = nn.Conv2d(64, 64, 5)\n",
        "        self.relu2 = nn.ReLU()\n",
        "        self.pool2 = nn.MaxPool2d(2, 2)\n",
        "        self.fc1 = nn.Linear(64 * 5 * 5, 384)\n",
        "        self.relu3 = nn.ReLU()\n",
        "        self.drop1 = nn.Dropout(p=0.3)\n",
        "        self.fc2 = nn.Linear(384, 192)\n",
        "        self.relu4 = nn.ReLU()\n",
        "        self.drop2 = nn.Dropout(p=0.3)\n",
        "        self.fc3 = nn.Linear(192, 100)\n",
        "\n",
        "    def forward(self, x):\n",
        "        x = self.pool1(self.relu1(self.conv1(x)))\n",
        "        x = self.pool2(self.relu2(self.conv2(x)))\n",
        "        x = x.view(-1, 64 * 5 * 5)\n",
        "        x = self.relu3(self.fc1(x))\n",
        "        x = self.drop1(x)  # Apply first dropout\n",
        "        x = self.relu4(self.fc2(x))\n",
        "        x = self.drop2(x)  # Apply first dropout\n",
        "        x = self.fc3(x)\n",
        "        return x\n",
        "\n",
        "torch.manual_seed(42) # Set the seed for reproducibility\n",
        "torch.cuda.manual_seed_all(42) # Set the seed for reproducibility on GPU\n",
        "\n",
        "# use the same mean and std to add consistency to all datasets\n",
        "data = torchvision.datasets.CIFAR100(root='./data', train=True, download=True, transform=transforms.ToTensor())\n",
        "mean, std = compute_mean_std(data)\n",
        "\n",
        "# Load and split CIFAR-100 dataset\n",
        "train_transform = transforms.Compose([\n",
        "  transforms.RandomCrop(32, padding=4),\n",
        "  transforms.RandomHorizontalFlip(),\n",
        "  transforms.ToTensor(),\n",
        "  transforms.Normalize(mean, std)\n",
        "])\n",
        "\n",
        "test_transform = transforms.Compose([\n",
        "    transforms.ToTensor(),  # Convert to PyTorch tensor\n",
        "    transforms.Normalize(mean, std)\n",
        "])\n",
        "\n",
        "trainset = torchvision.datasets.CIFAR100(root='./data', train=True, download=True, transform=train_transform)\n",
        "trainloader = torch.utils.data.DataLoader(trainset, batch_size=batch_size, shuffle=True, num_workers=2)\n",
        "\n",
        "testset = torchvision.datasets.CIFAR100(root='./data', train=False, download=True, transform=test_transform)\n",
        "testloader = torch.utils.data.DataLoader(testset, batch_size=batch_size, shuffle=False, num_workers=2)\n",
        "\n",
        "# Device setup\n",
        "device = torch.device(\"cuda:0\" if torch.cuda.is_available() else \"cpu\")\n",
        "\n",
        "# Initialize model\n",
        "net_sgdm = LeNet5().to(device)\n",
        "\n",
        "# Loss function\n",
        "criterion = nn.CrossEntropyLoss()\n",
        "\n",
        "# Optimizer and scheduler\n",
        "sgdm_optimizer = optim.SGD(net_sgdm.parameters(), lr=lr, momentum=momentum, weight_decay=weight_decay)\n",
        "scheduler_sgdm = optim.lr_scheduler.CosineAnnealingLR(sgdm_optimizer, T_max=150)\n",
        "\n",
        "# Training function\n",
        "def train_model(optimizer, scheduler, model, criterion, trainloader , testloader, device, epochs, save_checkpoint_interval=10):\n",
        "    train_losses, test_losses = [], []\n",
        "    train_accuracies, test_accuracies = [], []\n",
        "    for epoch in range(epochs):\n",
        "        model.train()\n",
        "        running_loss, correct_train, total_train = 0.0, 0, 0\n",
        "        for inputs, labels in trainloader:\n",
        "            inputs, labels = inputs.to(device), labels.to(device)\n",
        "            optimizer.zero_grad()\n",
        "            outputs = model(inputs)\n",
        "            loss = criterion(outputs, labels)\n",
        "            loss.backward()\n",
        "            optimizer.step()\n",
        "            running_loss += loss.item()\n",
        "            _, predicted = outputs.max(1)\n",
        "            total_train += labels.size(0)\n",
        "            correct_train += predicted.eq(labels).sum().item()\n",
        "        train_loss = running_loss / len(trainloader)\n",
        "        train_accuracy = 100. * correct_train / total_train\n",
        "        train_losses.append(train_loss)\n",
        "        train_accuracies.append(train_accuracy)\n",
        "\n",
        "        # Test\n",
        "        correct_test, total_test, test_loss = 0, 0, 0.0\n",
        "        with torch.no_grad():\n",
        "            for inputs, labels in testloader:\n",
        "                inputs, labels = inputs.to(device), labels.to(device)\n",
        "                outputs = model(inputs)\n",
        "                loss = criterion(outputs, labels)\n",
        "                test_loss += loss.item()\n",
        "                _, predicted = outputs.max(1)\n",
        "                total_test += labels.size(0)\n",
        "                correct_test += predicted.eq(labels).sum().item()\n",
        "        test_loss /= len(testloader)\n",
        "        test_losses.append(test_loss)\n",
        "        test_accuracy = 100. * correct_test / total_test\n",
        "        test_accuracies.append(test_accuracy)\n",
        "\n",
        "        scheduler.step()\n",
        "\n",
        "        # Checkpointing\n",
        "        if (epoch + 1) % save_checkpoint_interval == 0:\n",
        "            checkpoint_filename = f'checkpoint_epoch_{epoch + 1}.pth'\n",
        "            checkpoint = {\n",
        "                'epoch': epoch + 1,\n",
        "                'model_state_dict': model.state_dict(),\n",
        "                'optimizer_state_dict': optimizer.state_dict(),\n",
        "                'loss': loss.item(),\n",
        "            }\n",
        "            checkpoint_path = os.path.join('./', checkpoint_filename)\n",
        "            torch.save(checkpoint, checkpoint_path)\n",
        "            print(f'Checkpoint saved at epoch {epoch + 1}: {checkpoint_path}')\n",
        "\n",
        "            #Download the checkpoint\n",
        "            files.download(checkpoint_filename)\n",
        "\n",
        "        print(f'Epoch {epoch+1}/{epochs}, Train Acc: {train_accuracy:.2f}%, Test Acc: {test_accuracy:.2f}%')\n",
        "        print(f'Epoch {epoch+1}/{epochs}, Train Loss: {train_loss:.4f}, Test Loss: {test_loss:.4f}')\n",
        "\n",
        "    return train_losses, test_losses,  train_accuracies, test_accuracies\n",
        "\n",
        "# Train model\n",
        "print(\"--- Train with sgdm ---\")\n",
        "sgdm_train_loss, sgdm_test_loss, sgdm_train_acc, sgdm_test_acc= train_model(sgdm_optimizer, scheduler_sgdm, net_sgdm, criterion, trainloader, testloader, device, epochs)\n",
        "\n",
        "# Save model\n",
        "torch.save(net_sgdm.state_dict(), 'net_sgdm.pth')\n",
        "\n",
        "# Plot results\n",
        "# Plot Training Loss\n",
        "plt.figure(figsize=(6, 4))\n",
        "plt.plot(sgdm_train_loss, label='Train Loss')\n",
        "plt.title('Training Loss')\n",
        "plt.xlabel('Epoch')\n",
        "plt.ylabel('Loss')\n",
        "plt.legend()\n",
        "plt.tight_layout()\n",
        "plt.savefig('train_loss.png')\n",
        "plt.show()\n",
        "\n",
        "# Plot Training Accuracy\n",
        "plt.figure(figsize=(6, 4))\n",
        "plt.plot(sgdm_train_acc, label='Train Accuracy')\n",
        "plt.title('Training Accuracy')\n",
        "plt.xlabel('Epoch')\n",
        "plt.ylabel('Accuracy (%)')\n",
        "plt.legend()\n",
        "plt.tight_layout()\n",
        "plt.savefig('train_accuracy.png')\n",
        "plt.show()\n",
        "\n",
        "# Plot Test Loss\n",
        "plt.figure(figsize=(6, 4))\n",
        "plt.plot(sgdm_test_loss, label='Test Loss')\n",
        "plt.title('Test Loss')\n",
        "plt.xlabel('Epoch')\n",
        "plt.ylabel('Loss')\n",
        "plt.legend()\n",
        "plt.tight_layout()\n",
        "plt.savefig('test_loss.png')\n",
        "plt.show()\n",
        "\n",
        "# Plot Test Accuracy\n",
        "plt.figure(figsize=(6, 4))\n",
        "plt.plot(sgdm_test_acc, label='Test Accuracy')\n",
        "plt.title('Test Accuracy')\n",
        "plt.xlabel('Epoch')\n",
        "plt.ylabel('Accuracy (%)')\n",
        "plt.legend()\n",
        "plt.tight_layout()\n",
        "plt.savefig('test_accuracy.png')\n",
        "plt.show()"
      ]
    }
  ]
}