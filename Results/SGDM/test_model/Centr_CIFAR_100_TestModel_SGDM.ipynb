{
  "cells": [
    {
      "cell_type": "code",
      "execution_count": 1,
      "metadata": {
        "colab": {
          "base_uri": "https://localhost:8080/",
          "height": 1000
        },
        "id": "15282w8mac-O",
        "outputId": "4eb897ec-ce50-4e4a-bd5c-97f962729a8f"
      },
      "outputs": [
        {
          "metadata": {
            "tags": null
          },
          "name": "stdout",
          "output_type": "stream",
          "text": [
            "Downloading https://www.cs.toronto.edu/~kriz/cifar-100-python.tar.gz to ./data/cifar-100-python.tar.gz\n"
          ]
        },
        {
          "metadata": {
            "tags": null
          },
          "name": "stderr",
          "output_type": "stream",
          "text": [
            "100%|██████████| 169M/169M [00:04<00:00, 42.2MB/s]\n"
          ]
        },
        {
          "metadata": {
            "tags": null
          },
          "name": "stdout",
          "output_type": "stream",
          "text": [
            "Extracting ./data/cifar-100-python.tar.gz to ./data\n",
            "Files already downloaded and verified\n",
            "Files already downloaded and verified\n",
            "--- Train with sgdm ---\n",
            "Epoch 1/150, Train Acc: 1.63%, Test Acc: 1.50%\n",
            "Epoch 1/150, Train Loss: 4.5965, Test Loss: 4.5719\n",
            "Epoch 2/150, Train Acc: 3.94%, Test Acc: 7.04%\n",
            "Epoch 2/150, Train Loss: 4.4052, Test Loss: 4.1310\n",
            "Epoch 3/150, Train Acc: 7.76%, Test Acc: 10.10%\n",
            "Epoch 3/150, Train Loss: 4.0580, Test Loss: 3.9352\n",
            "Epoch 4/150, Train Acc: 10.49%, Test Acc: 12.74%\n",
            "Epoch 4/150, Train Loss: 3.8965, Test Loss: 3.7842\n",
            "Epoch 5/150, Train Acc: 12.59%, Test Acc: 14.54%\n",
            "Epoch 5/150, Train Loss: 3.7642, Test Loss: 3.6449\n",
            "Epoch 6/150, Train Acc: 14.58%, Test Acc: 17.04%\n",
            "Epoch 6/150, Train Loss: 3.6431, Test Loss: 3.5172\n",
            "Epoch 7/150, Train Acc: 16.42%, Test Acc: 18.80%\n",
            "Epoch 7/150, Train Loss: 3.5239, Test Loss: 3.4085\n",
            "Epoch 8/150, Train Acc: 18.24%, Test Acc: 20.21%\n",
            "Epoch 8/150, Train Loss: 3.4184, Test Loss: 3.3189\n",
            "Epoch 9/150, Train Acc: 19.76%, Test Acc: 22.50%\n",
            "Epoch 9/150, Train Loss: 3.3306, Test Loss: 3.2173\n",
            "Checkpoint saved at epoch 10: ./checkpoint_epoch_10.pth\n"
          ]
        },
        {
          "data": {
            "application/javascript": [
              "\n",
              "    async function download(id, filename, size) {\n",
              "      if (!google.colab.kernel.accessAllowed) {\n",
              "        return;\n",
              "      }\n",
              "      const div = document.createElement('div');\n",
              "      const label = document.createElement('label');\n",
              "      label.textContent = `Downloading \"${filename}\": `;\n",
              "      div.appendChild(label);\n",
              "      const progress = document.createElement('progress');\n",
              "      progress.max = size;\n",
              "      div.appendChild(progress);\n",
              "      document.body.appendChild(div);\n",
              "\n",
              "      const buffers = [];\n",
              "      let downloaded = 0;\n",
              "\n",
              "      const channel = await google.colab.kernel.comms.open(id);\n",
              "      // Send a message to notify the kernel that we're ready.\n",
              "      channel.send({})\n",
              "\n",
              "      for await (const message of channel.messages) {\n",
              "        // Send a message to notify the kernel that we're ready.\n",
              "        channel.send({})\n",
              "        if (message.buffers) {\n",
              "          for (const buffer of message.buffers) {\n",
              "            buffers.push(buffer);\n",
              "            downloaded += buffer.byteLength;\n",
              "            progress.value = downloaded;\n",
              "          }\n",
              "        }\n",
              "      }\n",
              "      const blob = new Blob(buffers, {type: 'application/binary'});\n",
              "      const a = document.createElement('a');\n",
              "      a.href = window.URL.createObjectURL(blob);\n",
              "      a.download = filename;\n",
              "      div.appendChild(a);\n",
              "      a.click();\n",
              "      div.remove();\n",
              "    }\n",
              "  "
            ],
            "text/plain": [
              "<IPython.core.display.Javascript object>"
            ]
          },
          "metadata": {},
          "output_type": "display_data"
        },
        {
          "data": {
            "application/javascript": [
              "download(\"download_89dd562a-4f24-4979-ba64-0efce4d2688c\", \"checkpoint_epoch_10.pth\", 6529850)"
            ],
            "text/plain": [
              "<IPython.core.display.Javascript object>"
            ]
          },
          "metadata": {},
          "output_type": "display_data"
        },
        {
          "metadata": {
            "tags": null
          },
          "name": "stdout",
          "output_type": "stream",
          "text": [
            "Epoch 10/150, Train Acc: 21.15%, Test Acc: 23.77%\n",
            "Epoch 10/150, Train Loss: 3.2444, Test Loss: 3.1329\n",
            "Epoch 11/150, Train Acc: 22.40%, Test Acc: 24.20%\n",
            "Epoch 11/150, Train Loss: 3.1741, Test Loss: 3.1005\n",
            "Epoch 12/150, Train Acc: 23.68%, Test Acc: 25.52%\n",
            "Epoch 12/150, Train Loss: 3.1144, Test Loss: 3.0399\n",
            "Epoch 13/150, Train Acc: 24.89%, Test Acc: 27.92%\n",
            "Epoch 13/150, Train Loss: 3.0463, Test Loss: 2.9332\n",
            "Epoch 14/150, Train Acc: 25.98%, Test Acc: 27.80%\n",
            "Epoch 14/150, Train Loss: 2.9923, Test Loss: 2.9209\n",
            "Epoch 15/150, Train Acc: 27.01%, Test Acc: 29.79%\n",
            "Epoch 15/150, Train Loss: 2.9375, Test Loss: 2.8370\n",
            "Epoch 16/150, Train Acc: 28.03%, Test Acc: 30.45%\n",
            "Epoch 16/150, Train Loss: 2.8846, Test Loss: 2.7957\n",
            "Epoch 17/150, Train Acc: 29.30%, Test Acc: 31.32%\n",
            "Epoch 17/150, Train Loss: 2.8328, Test Loss: 2.7224\n",
            "Epoch 18/150, Train Acc: 30.28%, Test Acc: 31.87%\n",
            "Epoch 18/150, Train Loss: 2.7692, Test Loss: 2.6930\n",
            "Epoch 19/150, Train Acc: 31.33%, Test Acc: 33.53%\n",
            "Epoch 19/150, Train Loss: 2.7154, Test Loss: 2.6282\n",
            "Checkpoint saved at epoch 20: ./checkpoint_epoch_20.pth\n"
          ]
        },
        {
          "data": {
            "application/javascript": [
              "\n",
              "    async function download(id, filename, size) {\n",
              "      if (!google.colab.kernel.accessAllowed) {\n",
              "        return;\n",
              "      }\n",
              "      const div = document.createElement('div');\n",
              "      const label = document.createElement('label');\n",
              "      label.textContent = `Downloading \"${filename}\": `;\n",
              "      div.appendChild(label);\n",
              "      const progress = document.createElement('progress');\n",
              "      progress.max = size;\n",
              "      div.appendChild(progress);\n",
              "      document.body.appendChild(div);\n",
              "\n",
              "      const buffers = [];\n",
              "      let downloaded = 0;\n",
              "\n",
              "      const channel = await google.colab.kernel.comms.open(id);\n",
              "      // Send a message to notify the kernel that we're ready.\n",
              "      channel.send({})\n",
              "\n",
              "      for await (const message of channel.messages) {\n",
              "        // Send a message to notify the kernel that we're ready.\n",
              "        channel.send({})\n",
              "        if (message.buffers) {\n",
              "          for (const buffer of message.buffers) {\n",
              "            buffers.push(buffer);\n",
              "            downloaded += buffer.byteLength;\n",
              "            progress.value = downloaded;\n",
              "          }\n",
              "        }\n",
              "      }\n",
              "      const blob = new Blob(buffers, {type: 'application/binary'});\n",
              "      const a = document.createElement('a');\n",
              "      a.href = window.URL.createObjectURL(blob);\n",
              "      a.download = filename;\n",
              "      div.appendChild(a);\n",
              "      a.click();\n",
              "      div.remove();\n",
              "    }\n",
              "  "
            ],
            "text/plain": [
              "<IPython.core.display.Javascript object>"
            ]
          },
          "metadata": {},
          "output_type": "display_data"
        },
        {
          "data": {
            "application/javascript": [
              "download(\"download_2fb39d23-99f1-4b33-a115-2f6cc4e45fab\", \"checkpoint_epoch_20.pth\", 6529850)"
            ],
            "text/plain": [
              "<IPython.core.display.Javascript object>"
            ]
          },
          "metadata": {},
          "output_type": "display_data"
        },
        {
          "metadata": {
            "tags": null
          },
          "name": "stdout",
          "output_type": "stream",
          "text": [
            "Epoch 20/150, Train Acc: 32.06%, Test Acc: 33.79%\n",
            "Epoch 20/150, Train Loss: 2.6793, Test Loss: 2.6000\n",
            "Epoch 21/150, Train Acc: 33.07%, Test Acc: 33.92%\n",
            "Epoch 21/150, Train Loss: 2.6295, Test Loss: 2.5766\n",
            "Epoch 22/150, Train Acc: 33.92%, Test Acc: 35.64%\n",
            "Epoch 22/150, Train Loss: 2.5903, Test Loss: 2.5175\n",
            "Epoch 23/150, Train Acc: 34.51%, Test Acc: 35.91%\n",
            "Epoch 23/150, Train Loss: 2.5567, Test Loss: 2.5054\n",
            "Epoch 24/150, Train Acc: 35.46%, Test Acc: 36.15%\n",
            "Epoch 24/150, Train Loss: 2.5154, Test Loss: 2.5127\n",
            "Epoch 25/150, Train Acc: 35.96%, Test Acc: 37.70%\n",
            "Epoch 25/150, Train Loss: 2.4840, Test Loss: 2.4311\n",
            "Epoch 26/150, Train Acc: 36.65%, Test Acc: 38.03%\n",
            "Epoch 26/150, Train Loss: 2.4520, Test Loss: 2.3997\n",
            "Epoch 27/150, Train Acc: 37.75%, Test Acc: 38.37%\n",
            "Epoch 27/150, Train Loss: 2.4090, Test Loss: 2.3886\n",
            "Epoch 28/150, Train Acc: 37.84%, Test Acc: 38.20%\n",
            "Epoch 28/150, Train Loss: 2.3896, Test Loss: 2.3832\n",
            "Epoch 29/150, Train Acc: 38.69%, Test Acc: 39.27%\n",
            "Epoch 29/150, Train Loss: 2.3568, Test Loss: 2.3482\n",
            "Checkpoint saved at epoch 30: ./checkpoint_epoch_30.pth\n"
          ]
        },
        {
          "data": {
            "application/javascript": [
              "\n",
              "    async function download(id, filename, size) {\n",
              "      if (!google.colab.kernel.accessAllowed) {\n",
              "        return;\n",
              "      }\n",
              "      const div = document.createElement('div');\n",
              "      const label = document.createElement('label');\n",
              "      label.textContent = `Downloading \"${filename}\": `;\n",
              "      div.appendChild(label);\n",
              "      const progress = document.createElement('progress');\n",
              "      progress.max = size;\n",
              "      div.appendChild(progress);\n",
              "      document.body.appendChild(div);\n",
              "\n",
              "      const buffers = [];\n",
              "      let downloaded = 0;\n",
              "\n",
              "      const channel = await google.colab.kernel.comms.open(id);\n",
              "      // Send a message to notify the kernel that we're ready.\n",
              "      channel.send({})\n",
              "\n",
              "      for await (const message of channel.messages) {\n",
              "        // Send a message to notify the kernel that we're ready.\n",
              "        channel.send({})\n",
              "        if (message.buffers) {\n",
              "          for (const buffer of message.buffers) {\n",
              "            buffers.push(buffer);\n",
              "            downloaded += buffer.byteLength;\n",
              "            progress.value = downloaded;\n",
              "          }\n",
              "        }\n",
              "      }\n",
              "      const blob = new Blob(buffers, {type: 'application/binary'});\n",
              "      const a = document.createElement('a');\n",
              "      a.href = window.URL.createObjectURL(blob);\n",
              "      a.download = filename;\n",
              "      div.appendChild(a);\n",
              "      a.click();\n",
              "      div.remove();\n",
              "    }\n",
              "  "
            ],
            "text/plain": [
              "<IPython.core.display.Javascript object>"
            ]
          },
          "metadata": {},
          "output_type": "display_data"
        },
        {
          "data": {
            "application/javascript": [
              "download(\"download_ab5cd679-a701-4732-b226-7e1170cc6e21\", \"checkpoint_epoch_30.pth\", 6529850)"
            ],
            "text/plain": [
              "<IPython.core.display.Javascript object>"
            ]
          },
          "metadata": {},
          "output_type": "display_data"
        },
        {
          "metadata": {
            "tags": null
          },
          "name": "stdout",
          "output_type": "stream",
          "text": [
            "Epoch 30/150, Train Acc: 39.32%, Test Acc: 39.27%\n",
            "Epoch 30/150, Train Loss: 2.3284, Test Loss: 2.3312\n",
            "Epoch 31/150, Train Acc: 39.80%, Test Acc: 39.89%\n",
            "Epoch 31/150, Train Loss: 2.3015, Test Loss: 2.2978\n",
            "Epoch 32/150, Train Acc: 40.49%, Test Acc: 40.96%\n",
            "Epoch 32/150, Train Loss: 2.2755, Test Loss: 2.2877\n",
            "Epoch 33/150, Train Acc: 40.93%, Test Acc: 41.83%\n",
            "Epoch 33/150, Train Loss: 2.2527, Test Loss: 2.2607\n",
            "Epoch 34/150, Train Acc: 41.40%, Test Acc: 42.21%\n",
            "Epoch 34/150, Train Loss: 2.2296, Test Loss: 2.2324\n",
            "Epoch 35/150, Train Acc: 42.03%, Test Acc: 41.93%\n",
            "Epoch 35/150, Train Loss: 2.2010, Test Loss: 2.2250\n",
            "Epoch 36/150, Train Acc: 42.49%, Test Acc: 41.85%\n",
            "Epoch 36/150, Train Loss: 2.1844, Test Loss: 2.2408\n",
            "Epoch 37/150, Train Acc: 43.01%, Test Acc: 42.05%\n",
            "Epoch 37/150, Train Loss: 2.1578, Test Loss: 2.2206\n",
            "Epoch 38/150, Train Acc: 43.21%, Test Acc: 43.23%\n",
            "Epoch 38/150, Train Loss: 2.1434, Test Loss: 2.1786\n",
            "Epoch 39/150, Train Acc: 44.01%, Test Acc: 41.26%\n",
            "Epoch 39/150, Train Loss: 2.1138, Test Loss: 2.2823\n",
            "Checkpoint saved at epoch 40: ./checkpoint_epoch_40.pth\n"
          ]
        },
        {
          "data": {
            "application/javascript": [
              "\n",
              "    async function download(id, filename, size) {\n",
              "      if (!google.colab.kernel.accessAllowed) {\n",
              "        return;\n",
              "      }\n",
              "      const div = document.createElement('div');\n",
              "      const label = document.createElement('label');\n",
              "      label.textContent = `Downloading \"${filename}\": `;\n",
              "      div.appendChild(label);\n",
              "      const progress = document.createElement('progress');\n",
              "      progress.max = size;\n",
              "      div.appendChild(progress);\n",
              "      document.body.appendChild(div);\n",
              "\n",
              "      const buffers = [];\n",
              "      let downloaded = 0;\n",
              "\n",
              "      const channel = await google.colab.kernel.comms.open(id);\n",
              "      // Send a message to notify the kernel that we're ready.\n",
              "      channel.send({})\n",
              "\n",
              "      for await (const message of channel.messages) {\n",
              "        // Send a message to notify the kernel that we're ready.\n",
              "        channel.send({})\n",
              "        if (message.buffers) {\n",
              "          for (const buffer of message.buffers) {\n",
              "            buffers.push(buffer);\n",
              "            downloaded += buffer.byteLength;\n",
              "            progress.value = downloaded;\n",
              "          }\n",
              "        }\n",
              "      }\n",
              "      const blob = new Blob(buffers, {type: 'application/binary'});\n",
              "      const a = document.createElement('a');\n",
              "      a.href = window.URL.createObjectURL(blob);\n",
              "      a.download = filename;\n",
              "      div.appendChild(a);\n",
              "      a.click();\n",
              "      div.remove();\n",
              "    }\n",
              "  "
            ],
            "text/plain": [
              "<IPython.core.display.Javascript object>"
            ]
          },
          "metadata": {},
          "output_type": "display_data"
        },
        {
          "data": {
            "application/javascript": [
              "download(\"download_ece90179-cf66-4f60-877b-5a73c68d08a3\", \"checkpoint_epoch_40.pth\", 6529850)"
            ],
            "text/plain": [
              "<IPython.core.display.Javascript object>"
            ]
          },
          "metadata": {},
          "output_type": "display_data"
        },
        {
          "metadata": {
            "tags": null
          },
          "name": "stdout",
          "output_type": "stream",
          "text": [
            "Epoch 40/150, Train Acc: 44.21%, Test Acc: 43.32%\n",
            "Epoch 40/150, Train Loss: 2.1008, Test Loss: 2.1563\n",
            "Epoch 41/150, Train Acc: 44.72%, Test Acc: 43.92%\n",
            "Epoch 41/150, Train Loss: 2.0790, Test Loss: 2.1574\n",
            "Epoch 42/150, Train Acc: 45.13%, Test Acc: 43.98%\n",
            "Epoch 42/150, Train Loss: 2.0576, Test Loss: 2.1534\n",
            "Epoch 43/150, Train Acc: 45.77%, Test Acc: 44.54%\n",
            "Epoch 43/150, Train Loss: 2.0376, Test Loss: 2.1312\n",
            "Epoch 44/150, Train Acc: 45.65%, Test Acc: 44.36%\n",
            "Epoch 44/150, Train Loss: 2.0250, Test Loss: 2.1231\n",
            "Epoch 45/150, Train Acc: 46.35%, Test Acc: 44.47%\n",
            "Epoch 45/150, Train Loss: 2.0054, Test Loss: 2.1234\n",
            "Epoch 46/150, Train Acc: 46.93%, Test Acc: 43.97%\n",
            "Epoch 46/150, Train Loss: 1.9798, Test Loss: 2.1343\n",
            "Epoch 47/150, Train Acc: 47.08%, Test Acc: 45.53%\n",
            "Epoch 47/150, Train Loss: 1.9694, Test Loss: 2.0956\n",
            "Epoch 48/150, Train Acc: 47.35%, Test Acc: 45.48%\n",
            "Epoch 48/150, Train Loss: 1.9549, Test Loss: 2.0827\n",
            "Epoch 49/150, Train Acc: 47.92%, Test Acc: 46.02%\n",
            "Epoch 49/150, Train Loss: 1.9337, Test Loss: 2.0676\n",
            "Checkpoint saved at epoch 50: ./checkpoint_epoch_50.pth\n"
          ]
        },
        {
          "data": {
            "application/javascript": [
              "\n",
              "    async function download(id, filename, size) {\n",
              "      if (!google.colab.kernel.accessAllowed) {\n",
              "        return;\n",
              "      }\n",
              "      const div = document.createElement('div');\n",
              "      const label = document.createElement('label');\n",
              "      label.textContent = `Downloading \"${filename}\": `;\n",
              "      div.appendChild(label);\n",
              "      const progress = document.createElement('progress');\n",
              "      progress.max = size;\n",
              "      div.appendChild(progress);\n",
              "      document.body.appendChild(div);\n",
              "\n",
              "      const buffers = [];\n",
              "      let downloaded = 0;\n",
              "\n",
              "      const channel = await google.colab.kernel.comms.open(id);\n",
              "      // Send a message to notify the kernel that we're ready.\n",
              "      channel.send({})\n",
              "\n",
              "      for await (const message of channel.messages) {\n",
              "        // Send a message to notify the kernel that we're ready.\n",
              "        channel.send({})\n",
              "        if (message.buffers) {\n",
              "          for (const buffer of message.buffers) {\n",
              "            buffers.push(buffer);\n",
              "            downloaded += buffer.byteLength;\n",
              "            progress.value = downloaded;\n",
              "          }\n",
              "        }\n",
              "      }\n",
              "      const blob = new Blob(buffers, {type: 'application/binary'});\n",
              "      const a = document.createElement('a');\n",
              "      a.href = window.URL.createObjectURL(blob);\n",
              "      a.download = filename;\n",
              "      div.appendChild(a);\n",
              "      a.click();\n",
              "      div.remove();\n",
              "    }\n",
              "  "
            ],
            "text/plain": [
              "<IPython.core.display.Javascript object>"
            ]
          },
          "metadata": {},
          "output_type": "display_data"
        },
        {
          "data": {
            "application/javascript": [
              "download(\"download_98caa236-53d8-4be0-8c71-8a1057d1466a\", \"checkpoint_epoch_50.pth\", 6529850)"
            ],
            "text/plain": [
              "<IPython.core.display.Javascript object>"
            ]
          },
          "metadata": {},
          "output_type": "display_data"
        },
        {
          "output_type": "stream",
          "name": "stdout",
          "text": [
            "Epoch 50/150, Train Acc: 48.47%, Test Acc: 46.07%\n",
            "Epoch 50/150, Train Loss: 1.9167, Test Loss: 2.0721\n",
            "Epoch 51/150, Train Acc: 48.62%, Test Acc: 45.31%\n",
            "Epoch 51/150, Train Loss: 1.9065, Test Loss: 2.1164\n",
            "Epoch 52/150, Train Acc: 49.01%, Test Acc: 45.57%\n",
            "Epoch 52/150, Train Loss: 1.8923, Test Loss: 2.0847\n",
            "Epoch 53/150, Train Acc: 49.18%, Test Acc: 45.94%\n",
            "Epoch 53/150, Train Loss: 1.8788, Test Loss: 2.0668\n",
            "Epoch 54/150, Train Acc: 49.51%, Test Acc: 46.38%\n",
            "Epoch 54/150, Train Loss: 1.8566, Test Loss: 2.0584\n",
            "Epoch 55/150, Train Acc: 50.23%, Test Acc: 46.79%\n",
            "Epoch 55/150, Train Loss: 1.8401, Test Loss: 2.0459\n",
            "Epoch 56/150, Train Acc: 50.04%, Test Acc: 47.35%\n",
            "Epoch 56/150, Train Loss: 1.8295, Test Loss: 2.0361\n",
            "Epoch 57/150, Train Acc: 50.69%, Test Acc: 47.42%\n",
            "Epoch 57/150, Train Loss: 1.8114, Test Loss: 2.0288\n",
            "Epoch 58/150, Train Acc: 51.01%, Test Acc: 47.41%\n",
            "Epoch 58/150, Train Loss: 1.8014, Test Loss: 2.0365\n",
            "Epoch 59/150, Train Acc: 51.07%, Test Acc: 46.97%\n",
            "Epoch 59/150, Train Loss: 1.7894, Test Loss: 2.0240\n",
            "Checkpoint saved at epoch 60: ./checkpoint_epoch_60.pth\n"
          ]
        },
        {
          "output_type": "display_data",
          "data": {
            "text/plain": [
              "<IPython.core.display.Javascript object>"
            ],
            "application/javascript": [
              "\n",
              "    async function download(id, filename, size) {\n",
              "      if (!google.colab.kernel.accessAllowed) {\n",
              "        return;\n",
              "      }\n",
              "      const div = document.createElement('div');\n",
              "      const label = document.createElement('label');\n",
              "      label.textContent = `Downloading \"${filename}\": `;\n",
              "      div.appendChild(label);\n",
              "      const progress = document.createElement('progress');\n",
              "      progress.max = size;\n",
              "      div.appendChild(progress);\n",
              "      document.body.appendChild(div);\n",
              "\n",
              "      const buffers = [];\n",
              "      let downloaded = 0;\n",
              "\n",
              "      const channel = await google.colab.kernel.comms.open(id);\n",
              "      // Send a message to notify the kernel that we're ready.\n",
              "      channel.send({})\n",
              "\n",
              "      for await (const message of channel.messages) {\n",
              "        // Send a message to notify the kernel that we're ready.\n",
              "        channel.send({})\n",
              "        if (message.buffers) {\n",
              "          for (const buffer of message.buffers) {\n",
              "            buffers.push(buffer);\n",
              "            downloaded += buffer.byteLength;\n",
              "            progress.value = downloaded;\n",
              "          }\n",
              "        }\n",
              "      }\n",
              "      const blob = new Blob(buffers, {type: 'application/binary'});\n",
              "      const a = document.createElement('a');\n",
              "      a.href = window.URL.createObjectURL(blob);\n",
              "      a.download = filename;\n",
              "      div.appendChild(a);\n",
              "      a.click();\n",
              "      div.remove();\n",
              "    }\n",
              "  "
            ]
          },
          "metadata": {}
        },
        {
          "output_type": "display_data",
          "data": {
            "text/plain": [
              "<IPython.core.display.Javascript object>"
            ],
            "application/javascript": [
              "download(\"download_1c9851a9-dd8d-49e2-ab07-d046c9e77afe\", \"checkpoint_epoch_60.pth\", 6529850)"
            ]
          },
          "metadata": {}
        },
        {
          "output_type": "stream",
          "name": "stdout",
          "text": [
            "Epoch 60/150, Train Acc: 51.86%, Test Acc: 47.17%\n",
            "Epoch 60/150, Train Loss: 1.7699, Test Loss: 2.0447\n",
            "Epoch 61/150, Train Acc: 51.69%, Test Acc: 46.63%\n",
            "Epoch 61/150, Train Loss: 1.7634, Test Loss: 2.0407\n",
            "Epoch 62/150, Train Acc: 52.10%, Test Acc: 47.15%\n",
            "Epoch 62/150, Train Loss: 1.7428, Test Loss: 2.0223\n",
            "Epoch 63/150, Train Acc: 52.36%, Test Acc: 47.91%\n",
            "Epoch 63/150, Train Loss: 1.7390, Test Loss: 2.0135\n",
            "Epoch 64/150, Train Acc: 53.06%, Test Acc: 47.22%\n",
            "Epoch 64/150, Train Loss: 1.7176, Test Loss: 2.0323\n",
            "Epoch 65/150, Train Acc: 53.16%, Test Acc: 47.64%\n",
            "Epoch 65/150, Train Loss: 1.7143, Test Loss: 2.0060\n",
            "Epoch 66/150, Train Acc: 53.34%, Test Acc: 48.13%\n",
            "Epoch 66/150, Train Loss: 1.6980, Test Loss: 1.9932\n",
            "Epoch 67/150, Train Acc: 53.72%, Test Acc: 48.19%\n",
            "Epoch 67/150, Train Loss: 1.6836, Test Loss: 2.0081\n",
            "Epoch 68/150, Train Acc: 54.21%, Test Acc: 47.84%\n",
            "Epoch 68/150, Train Loss: 1.6727, Test Loss: 2.0070\n",
            "Epoch 69/150, Train Acc: 54.14%, Test Acc: 48.39%\n",
            "Epoch 69/150, Train Loss: 1.6590, Test Loss: 1.9827\n",
            "Checkpoint saved at epoch 70: ./checkpoint_epoch_70.pth\n"
          ]
        },
        {
          "output_type": "display_data",
          "data": {
            "text/plain": [
              "<IPython.core.display.Javascript object>"
            ],
            "application/javascript": [
              "\n",
              "    async function download(id, filename, size) {\n",
              "      if (!google.colab.kernel.accessAllowed) {\n",
              "        return;\n",
              "      }\n",
              "      const div = document.createElement('div');\n",
              "      const label = document.createElement('label');\n",
              "      label.textContent = `Downloading \"${filename}\": `;\n",
              "      div.appendChild(label);\n",
              "      const progress = document.createElement('progress');\n",
              "      progress.max = size;\n",
              "      div.appendChild(progress);\n",
              "      document.body.appendChild(div);\n",
              "\n",
              "      const buffers = [];\n",
              "      let downloaded = 0;\n",
              "\n",
              "      const channel = await google.colab.kernel.comms.open(id);\n",
              "      // Send a message to notify the kernel that we're ready.\n",
              "      channel.send({})\n",
              "\n",
              "      for await (const message of channel.messages) {\n",
              "        // Send a message to notify the kernel that we're ready.\n",
              "        channel.send({})\n",
              "        if (message.buffers) {\n",
              "          for (const buffer of message.buffers) {\n",
              "            buffers.push(buffer);\n",
              "            downloaded += buffer.byteLength;\n",
              "            progress.value = downloaded;\n",
              "          }\n",
              "        }\n",
              "      }\n",
              "      const blob = new Blob(buffers, {type: 'application/binary'});\n",
              "      const a = document.createElement('a');\n",
              "      a.href = window.URL.createObjectURL(blob);\n",
              "      a.download = filename;\n",
              "      div.appendChild(a);\n",
              "      a.click();\n",
              "      div.remove();\n",
              "    }\n",
              "  "
            ]
          },
          "metadata": {}
        },
        {
          "output_type": "display_data",
          "data": {
            "text/plain": [
              "<IPython.core.display.Javascript object>"
            ],
            "application/javascript": [
              "download(\"download_dfc209d3-a440-42a9-8114-606922eed188\", \"checkpoint_epoch_70.pth\", 6529850)"
            ]
          },
          "metadata": {}
        },
        {
          "output_type": "stream",
          "name": "stdout",
          "text": [
            "Epoch 70/150, Train Acc: 54.71%, Test Acc: 48.88%\n",
            "Epoch 70/150, Train Loss: 1.6497, Test Loss: 1.9773\n",
            "Epoch 71/150, Train Acc: 54.73%, Test Acc: 48.86%\n",
            "Epoch 71/150, Train Loss: 1.6416, Test Loss: 1.9897\n",
            "Epoch 72/150, Train Acc: 55.12%, Test Acc: 48.61%\n",
            "Epoch 72/150, Train Loss: 1.6213, Test Loss: 1.9707\n",
            "Epoch 73/150, Train Acc: 55.43%, Test Acc: 48.90%\n",
            "Epoch 73/150, Train Loss: 1.6159, Test Loss: 1.9748\n",
            "Epoch 74/150, Train Acc: 56.05%, Test Acc: 48.72%\n",
            "Epoch 74/150, Train Loss: 1.5960, Test Loss: 1.9866\n",
            "Epoch 75/150, Train Acc: 56.19%, Test Acc: 48.61%\n",
            "Epoch 75/150, Train Loss: 1.5883, Test Loss: 1.9704\n",
            "Epoch 76/150, Train Acc: 56.25%, Test Acc: 49.23%\n",
            "Epoch 76/150, Train Loss: 1.5782, Test Loss: 1.9689\n",
            "Epoch 77/150, Train Acc: 56.31%, Test Acc: 49.33%\n",
            "Epoch 77/150, Train Loss: 1.5753, Test Loss: 1.9740\n",
            "Epoch 78/150, Train Acc: 56.71%, Test Acc: 49.15%\n",
            "Epoch 78/150, Train Loss: 1.5609, Test Loss: 1.9798\n",
            "Epoch 79/150, Train Acc: 56.97%, Test Acc: 49.00%\n",
            "Epoch 79/150, Train Loss: 1.5455, Test Loss: 1.9675\n",
            "Checkpoint saved at epoch 80: ./checkpoint_epoch_80.pth\n"
          ]
        },
        {
          "output_type": "display_data",
          "data": {
            "text/plain": [
              "<IPython.core.display.Javascript object>"
            ],
            "application/javascript": [
              "\n",
              "    async function download(id, filename, size) {\n",
              "      if (!google.colab.kernel.accessAllowed) {\n",
              "        return;\n",
              "      }\n",
              "      const div = document.createElement('div');\n",
              "      const label = document.createElement('label');\n",
              "      label.textContent = `Downloading \"${filename}\": `;\n",
              "      div.appendChild(label);\n",
              "      const progress = document.createElement('progress');\n",
              "      progress.max = size;\n",
              "      div.appendChild(progress);\n",
              "      document.body.appendChild(div);\n",
              "\n",
              "      const buffers = [];\n",
              "      let downloaded = 0;\n",
              "\n",
              "      const channel = await google.colab.kernel.comms.open(id);\n",
              "      // Send a message to notify the kernel that we're ready.\n",
              "      channel.send({})\n",
              "\n",
              "      for await (const message of channel.messages) {\n",
              "        // Send a message to notify the kernel that we're ready.\n",
              "        channel.send({})\n",
              "        if (message.buffers) {\n",
              "          for (const buffer of message.buffers) {\n",
              "            buffers.push(buffer);\n",
              "            downloaded += buffer.byteLength;\n",
              "            progress.value = downloaded;\n",
              "          }\n",
              "        }\n",
              "      }\n",
              "      const blob = new Blob(buffers, {type: 'application/binary'});\n",
              "      const a = document.createElement('a');\n",
              "      a.href = window.URL.createObjectURL(blob);\n",
              "      a.download = filename;\n",
              "      div.appendChild(a);\n",
              "      a.click();\n",
              "      div.remove();\n",
              "    }\n",
              "  "
            ]
          },
          "metadata": {}
        },
        {
          "output_type": "display_data",
          "data": {
            "text/plain": [
              "<IPython.core.display.Javascript object>"
            ],
            "application/javascript": [
              "download(\"download_df809501-b375-4527-a6d1-9b469a773336\", \"checkpoint_epoch_80.pth\", 6529850)"
            ]
          },
          "metadata": {}
        },
        {
          "output_type": "stream",
          "name": "stdout",
          "text": [
            "Epoch 80/150, Train Acc: 56.97%, Test Acc: 49.74%\n",
            "Epoch 80/150, Train Loss: 1.5400, Test Loss: 1.9563\n",
            "Epoch 81/150, Train Acc: 57.39%, Test Acc: 49.59%\n",
            "Epoch 81/150, Train Loss: 1.5307, Test Loss: 1.9718\n",
            "Epoch 82/150, Train Acc: 57.75%, Test Acc: 50.19%\n",
            "Epoch 82/150, Train Loss: 1.5212, Test Loss: 1.9628\n",
            "Epoch 83/150, Train Acc: 57.84%, Test Acc: 49.63%\n",
            "Epoch 83/150, Train Loss: 1.5106, Test Loss: 1.9541\n",
            "Epoch 84/150, Train Acc: 58.19%, Test Acc: 49.35%\n",
            "Epoch 84/150, Train Loss: 1.5047, Test Loss: 1.9649\n",
            "Epoch 85/150, Train Acc: 58.32%, Test Acc: 49.73%\n",
            "Epoch 85/150, Train Loss: 1.4974, Test Loss: 1.9594\n",
            "Epoch 86/150, Train Acc: 58.71%, Test Acc: 49.91%\n",
            "Epoch 86/150, Train Loss: 1.4816, Test Loss: 1.9535\n",
            "Epoch 87/150, Train Acc: 58.60%, Test Acc: 49.87%\n",
            "Epoch 87/150, Train Loss: 1.4822, Test Loss: 1.9525\n",
            "Epoch 88/150, Train Acc: 58.91%, Test Acc: 49.74%\n",
            "Epoch 88/150, Train Loss: 1.4658, Test Loss: 1.9542\n",
            "Epoch 89/150, Train Acc: 59.18%, Test Acc: 49.87%\n",
            "Epoch 89/150, Train Loss: 1.4574, Test Loss: 1.9484\n",
            "Checkpoint saved at epoch 90: ./checkpoint_epoch_90.pth\n"
          ]
        },
        {
          "output_type": "display_data",
          "data": {
            "text/plain": [
              "<IPython.core.display.Javascript object>"
            ],
            "application/javascript": [
              "\n",
              "    async function download(id, filename, size) {\n",
              "      if (!google.colab.kernel.accessAllowed) {\n",
              "        return;\n",
              "      }\n",
              "      const div = document.createElement('div');\n",
              "      const label = document.createElement('label');\n",
              "      label.textContent = `Downloading \"${filename}\": `;\n",
              "      div.appendChild(label);\n",
              "      const progress = document.createElement('progress');\n",
              "      progress.max = size;\n",
              "      div.appendChild(progress);\n",
              "      document.body.appendChild(div);\n",
              "\n",
              "      const buffers = [];\n",
              "      let downloaded = 0;\n",
              "\n",
              "      const channel = await google.colab.kernel.comms.open(id);\n",
              "      // Send a message to notify the kernel that we're ready.\n",
              "      channel.send({})\n",
              "\n",
              "      for await (const message of channel.messages) {\n",
              "        // Send a message to notify the kernel that we're ready.\n",
              "        channel.send({})\n",
              "        if (message.buffers) {\n",
              "          for (const buffer of message.buffers) {\n",
              "            buffers.push(buffer);\n",
              "            downloaded += buffer.byteLength;\n",
              "            progress.value = downloaded;\n",
              "          }\n",
              "        }\n",
              "      }\n",
              "      const blob = new Blob(buffers, {type: 'application/binary'});\n",
              "      const a = document.createElement('a');\n",
              "      a.href = window.URL.createObjectURL(blob);\n",
              "      a.download = filename;\n",
              "      div.appendChild(a);\n",
              "      a.click();\n",
              "      div.remove();\n",
              "    }\n",
              "  "
            ]
          },
          "metadata": {}
        },
        {
          "output_type": "display_data",
          "data": {
            "text/plain": [
              "<IPython.core.display.Javascript object>"
            ],
            "application/javascript": [
              "download(\"download_83b5a7b2-214a-4fab-bd29-e8d22419d61d\", \"checkpoint_epoch_90.pth\", 6529850)"
            ]
          },
          "metadata": {}
        },
        {
          "output_type": "stream",
          "name": "stdout",
          "text": [
            "Epoch 90/150, Train Acc: 59.42%, Test Acc: 50.29%\n",
            "Epoch 90/150, Train Loss: 1.4502, Test Loss: 1.9475\n",
            "Epoch 91/150, Train Acc: 59.57%, Test Acc: 50.38%\n",
            "Epoch 91/150, Train Loss: 1.4445, Test Loss: 1.9466\n",
            "Epoch 92/150, Train Acc: 59.44%, Test Acc: 50.01%\n",
            "Epoch 92/150, Train Loss: 1.4379, Test Loss: 1.9540\n",
            "Epoch 93/150, Train Acc: 60.11%, Test Acc: 50.57%\n",
            "Epoch 93/150, Train Loss: 1.4254, Test Loss: 1.9421\n",
            "Epoch 94/150, Train Acc: 60.32%, Test Acc: 49.92%\n",
            "Epoch 94/150, Train Loss: 1.4172, Test Loss: 1.9497\n",
            "Epoch 95/150, Train Acc: 60.72%, Test Acc: 50.02%\n",
            "Epoch 95/150, Train Loss: 1.4057, Test Loss: 1.9605\n",
            "Epoch 96/150, Train Acc: 60.62%, Test Acc: 50.31%\n",
            "Epoch 96/150, Train Loss: 1.4011, Test Loss: 1.9519\n",
            "Epoch 97/150, Train Acc: 60.59%, Test Acc: 50.59%\n",
            "Epoch 97/150, Train Loss: 1.3988, Test Loss: 1.9604\n",
            "Epoch 98/150, Train Acc: 60.92%, Test Acc: 50.61%\n",
            "Epoch 98/150, Train Loss: 1.3895, Test Loss: 1.9324\n",
            "Epoch 99/150, Train Acc: 61.15%, Test Acc: 50.75%\n",
            "Epoch 99/150, Train Loss: 1.3816, Test Loss: 1.9415\n",
            "Checkpoint saved at epoch 100: ./checkpoint_epoch_100.pth\n"
          ]
        },
        {
          "output_type": "display_data",
          "data": {
            "text/plain": [
              "<IPython.core.display.Javascript object>"
            ],
            "application/javascript": [
              "\n",
              "    async function download(id, filename, size) {\n",
              "      if (!google.colab.kernel.accessAllowed) {\n",
              "        return;\n",
              "      }\n",
              "      const div = document.createElement('div');\n",
              "      const label = document.createElement('label');\n",
              "      label.textContent = `Downloading \"${filename}\": `;\n",
              "      div.appendChild(label);\n",
              "      const progress = document.createElement('progress');\n",
              "      progress.max = size;\n",
              "      div.appendChild(progress);\n",
              "      document.body.appendChild(div);\n",
              "\n",
              "      const buffers = [];\n",
              "      let downloaded = 0;\n",
              "\n",
              "      const channel = await google.colab.kernel.comms.open(id);\n",
              "      // Send a message to notify the kernel that we're ready.\n",
              "      channel.send({})\n",
              "\n",
              "      for await (const message of channel.messages) {\n",
              "        // Send a message to notify the kernel that we're ready.\n",
              "        channel.send({})\n",
              "        if (message.buffers) {\n",
              "          for (const buffer of message.buffers) {\n",
              "            buffers.push(buffer);\n",
              "            downloaded += buffer.byteLength;\n",
              "            progress.value = downloaded;\n",
              "          }\n",
              "        }\n",
              "      }\n",
              "      const blob = new Blob(buffers, {type: 'application/binary'});\n",
              "      const a = document.createElement('a');\n",
              "      a.href = window.URL.createObjectURL(blob);\n",
              "      a.download = filename;\n",
              "      div.appendChild(a);\n",
              "      a.click();\n",
              "      div.remove();\n",
              "    }\n",
              "  "
            ]
          },
          "metadata": {}
        },
        {
          "output_type": "display_data",
          "data": {
            "text/plain": [
              "<IPython.core.display.Javascript object>"
            ],
            "application/javascript": [
              "download(\"download_a257d656-4478-4640-b8af-8ad6dd1fa5f5\", \"checkpoint_epoch_100.pth\", 6529874)"
            ]
          },
          "metadata": {}
        },
        {
          "output_type": "stream",
          "name": "stdout",
          "text": [
            "Epoch 100/150, Train Acc: 61.49%, Test Acc: 50.37%\n",
            "Epoch 100/150, Train Loss: 1.3740, Test Loss: 1.9478\n",
            "Epoch 101/150, Train Acc: 61.58%, Test Acc: 50.34%\n",
            "Epoch 101/150, Train Loss: 1.3662, Test Loss: 1.9441\n",
            "Epoch 102/150, Train Acc: 61.68%, Test Acc: 50.40%\n",
            "Epoch 102/150, Train Loss: 1.3593, Test Loss: 1.9432\n",
            "Epoch 103/150, Train Acc: 61.75%, Test Acc: 50.81%\n",
            "Epoch 103/150, Train Loss: 1.3551, Test Loss: 1.9388\n",
            "Epoch 104/150, Train Acc: 62.14%, Test Acc: 50.06%\n",
            "Epoch 104/150, Train Loss: 1.3420, Test Loss: 1.9485\n",
            "Epoch 105/150, Train Acc: 62.26%, Test Acc: 50.71%\n",
            "Epoch 105/150, Train Loss: 1.3379, Test Loss: 1.9351\n",
            "Epoch 106/150, Train Acc: 62.44%, Test Acc: 50.58%\n",
            "Epoch 106/150, Train Loss: 1.3343, Test Loss: 1.9461\n",
            "Epoch 107/150, Train Acc: 62.59%, Test Acc: 50.92%\n",
            "Epoch 107/150, Train Loss: 1.3256, Test Loss: 1.9281\n",
            "Epoch 108/150, Train Acc: 62.47%, Test Acc: 50.61%\n",
            "Epoch 108/150, Train Loss: 1.3211, Test Loss: 1.9484\n",
            "Epoch 109/150, Train Acc: 62.80%, Test Acc: 50.89%\n",
            "Epoch 109/150, Train Loss: 1.3157, Test Loss: 1.9447\n",
            "Checkpoint saved at epoch 110: ./checkpoint_epoch_110.pth\n"
          ]
        },
        {
          "output_type": "display_data",
          "data": {
            "text/plain": [
              "<IPython.core.display.Javascript object>"
            ],
            "application/javascript": [
              "\n",
              "    async function download(id, filename, size) {\n",
              "      if (!google.colab.kernel.accessAllowed) {\n",
              "        return;\n",
              "      }\n",
              "      const div = document.createElement('div');\n",
              "      const label = document.createElement('label');\n",
              "      label.textContent = `Downloading \"${filename}\": `;\n",
              "      div.appendChild(label);\n",
              "      const progress = document.createElement('progress');\n",
              "      progress.max = size;\n",
              "      div.appendChild(progress);\n",
              "      document.body.appendChild(div);\n",
              "\n",
              "      const buffers = [];\n",
              "      let downloaded = 0;\n",
              "\n",
              "      const channel = await google.colab.kernel.comms.open(id);\n",
              "      // Send a message to notify the kernel that we're ready.\n",
              "      channel.send({})\n",
              "\n",
              "      for await (const message of channel.messages) {\n",
              "        // Send a message to notify the kernel that we're ready.\n",
              "        channel.send({})\n",
              "        if (message.buffers) {\n",
              "          for (const buffer of message.buffers) {\n",
              "            buffers.push(buffer);\n",
              "            downloaded += buffer.byteLength;\n",
              "            progress.value = downloaded;\n",
              "          }\n",
              "        }\n",
              "      }\n",
              "      const blob = new Blob(buffers, {type: 'application/binary'});\n",
              "      const a = document.createElement('a');\n",
              "      a.href = window.URL.createObjectURL(blob);\n",
              "      a.download = filename;\n",
              "      div.appendChild(a);\n",
              "      a.click();\n",
              "      div.remove();\n",
              "    }\n",
              "  "
            ]
          },
          "metadata": {}
        },
        {
          "output_type": "display_data",
          "data": {
            "text/plain": [
              "<IPython.core.display.Javascript object>"
            ],
            "application/javascript": [
              "download(\"download_40178bd1-9575-4d03-ab9b-142a54d510ce\", \"checkpoint_epoch_110.pth\", 6529874)"
            ]
          },
          "metadata": {}
        },
        {
          "output_type": "stream",
          "name": "stdout",
          "text": [
            "Epoch 110/150, Train Acc: 62.97%, Test Acc: 50.81%\n",
            "Epoch 110/150, Train Loss: 1.3100, Test Loss: 1.9469\n",
            "Epoch 111/150, Train Acc: 63.57%, Test Acc: 50.86%\n",
            "Epoch 111/150, Train Loss: 1.2962, Test Loss: 1.9364\n",
            "Epoch 112/150, Train Acc: 63.19%, Test Acc: 50.89%\n",
            "Epoch 112/150, Train Loss: 1.2997, Test Loss: 1.9404\n",
            "Epoch 113/150, Train Acc: 63.46%, Test Acc: 50.72%\n",
            "Epoch 113/150, Train Loss: 1.2975, Test Loss: 1.9457\n",
            "Epoch 114/150, Train Acc: 63.61%, Test Acc: 50.83%\n",
            "Epoch 114/150, Train Loss: 1.2886, Test Loss: 1.9340\n",
            "Epoch 115/150, Train Acc: 63.86%, Test Acc: 51.06%\n",
            "Epoch 115/150, Train Loss: 1.2859, Test Loss: 1.9390\n",
            "Epoch 116/150, Train Acc: 64.11%, Test Acc: 51.07%\n",
            "Epoch 116/150, Train Loss: 1.2804, Test Loss: 1.9468\n",
            "Epoch 117/150, Train Acc: 63.78%, Test Acc: 50.92%\n",
            "Epoch 117/150, Train Loss: 1.2799, Test Loss: 1.9416\n",
            "Epoch 118/150, Train Acc: 64.24%, Test Acc: 51.04%\n",
            "Epoch 118/150, Train Loss: 1.2652, Test Loss: 1.9384\n",
            "Epoch 119/150, Train Acc: 64.09%, Test Acc: 51.11%\n",
            "Epoch 119/150, Train Loss: 1.2709, Test Loss: 1.9431\n",
            "Checkpoint saved at epoch 120: ./checkpoint_epoch_120.pth\n"
          ]
        },
        {
          "output_type": "display_data",
          "data": {
            "text/plain": [
              "<IPython.core.display.Javascript object>"
            ],
            "application/javascript": [
              "\n",
              "    async function download(id, filename, size) {\n",
              "      if (!google.colab.kernel.accessAllowed) {\n",
              "        return;\n",
              "      }\n",
              "      const div = document.createElement('div');\n",
              "      const label = document.createElement('label');\n",
              "      label.textContent = `Downloading \"${filename}\": `;\n",
              "      div.appendChild(label);\n",
              "      const progress = document.createElement('progress');\n",
              "      progress.max = size;\n",
              "      div.appendChild(progress);\n",
              "      document.body.appendChild(div);\n",
              "\n",
              "      const buffers = [];\n",
              "      let downloaded = 0;\n",
              "\n",
              "      const channel = await google.colab.kernel.comms.open(id);\n",
              "      // Send a message to notify the kernel that we're ready.\n",
              "      channel.send({})\n",
              "\n",
              "      for await (const message of channel.messages) {\n",
              "        // Send a message to notify the kernel that we're ready.\n",
              "        channel.send({})\n",
              "        if (message.buffers) {\n",
              "          for (const buffer of message.buffers) {\n",
              "            buffers.push(buffer);\n",
              "            downloaded += buffer.byteLength;\n",
              "            progress.value = downloaded;\n",
              "          }\n",
              "        }\n",
              "      }\n",
              "      const blob = new Blob(buffers, {type: 'application/binary'});\n",
              "      const a = document.createElement('a');\n",
              "      a.href = window.URL.createObjectURL(blob);\n",
              "      a.download = filename;\n",
              "      div.appendChild(a);\n",
              "      a.click();\n",
              "      div.remove();\n",
              "    }\n",
              "  "
            ]
          },
          "metadata": {}
        },
        {
          "output_type": "display_data",
          "data": {
            "text/plain": [
              "<IPython.core.display.Javascript object>"
            ],
            "application/javascript": [
              "download(\"download_bde561c1-acc3-4fe2-ba1c-9d450b863331\", \"checkpoint_epoch_120.pth\", 6529874)"
            ]
          },
          "metadata": {}
        },
        {
          "output_type": "stream",
          "name": "stdout",
          "text": [
            "Epoch 120/150, Train Acc: 64.26%, Test Acc: 50.93%\n",
            "Epoch 120/150, Train Loss: 1.2616, Test Loss: 1.9447\n",
            "Epoch 121/150, Train Acc: 64.50%, Test Acc: 51.16%\n",
            "Epoch 121/150, Train Loss: 1.2621, Test Loss: 1.9383\n",
            "Epoch 122/150, Train Acc: 64.48%, Test Acc: 51.11%\n",
            "Epoch 122/150, Train Loss: 1.2545, Test Loss: 1.9429\n",
            "Epoch 123/150, Train Acc: 64.79%, Test Acc: 51.08%\n",
            "Epoch 123/150, Train Loss: 1.2468, Test Loss: 1.9428\n",
            "Epoch 124/150, Train Acc: 64.95%, Test Acc: 51.20%\n",
            "Epoch 124/150, Train Loss: 1.2476, Test Loss: 1.9390\n",
            "Epoch 125/150, Train Acc: 64.53%, Test Acc: 51.36%\n",
            "Epoch 125/150, Train Loss: 1.2453, Test Loss: 1.9402\n",
            "Epoch 126/150, Train Acc: 64.86%, Test Acc: 51.37%\n",
            "Epoch 126/150, Train Loss: 1.2448, Test Loss: 1.9360\n",
            "Epoch 127/150, Train Acc: 64.91%, Test Acc: 51.26%\n",
            "Epoch 127/150, Train Loss: 1.2382, Test Loss: 1.9383\n",
            "Epoch 128/150, Train Acc: 65.14%, Test Acc: 51.22%\n",
            "Epoch 128/150, Train Loss: 1.2366, Test Loss: 1.9370\n",
            "Epoch 129/150, Train Acc: 64.93%, Test Acc: 51.23%\n",
            "Epoch 129/150, Train Loss: 1.2369, Test Loss: 1.9379\n",
            "Checkpoint saved at epoch 130: ./checkpoint_epoch_130.pth\n"
          ]
        },
        {
          "output_type": "display_data",
          "data": {
            "text/plain": [
              "<IPython.core.display.Javascript object>"
            ],
            "application/javascript": [
              "\n",
              "    async function download(id, filename, size) {\n",
              "      if (!google.colab.kernel.accessAllowed) {\n",
              "        return;\n",
              "      }\n",
              "      const div = document.createElement('div');\n",
              "      const label = document.createElement('label');\n",
              "      label.textContent = `Downloading \"${filename}\": `;\n",
              "      div.appendChild(label);\n",
              "      const progress = document.createElement('progress');\n",
              "      progress.max = size;\n",
              "      div.appendChild(progress);\n",
              "      document.body.appendChild(div);\n",
              "\n",
              "      const buffers = [];\n",
              "      let downloaded = 0;\n",
              "\n",
              "      const channel = await google.colab.kernel.comms.open(id);\n",
              "      // Send a message to notify the kernel that we're ready.\n",
              "      channel.send({})\n",
              "\n",
              "      for await (const message of channel.messages) {\n",
              "        // Send a message to notify the kernel that we're ready.\n",
              "        channel.send({})\n",
              "        if (message.buffers) {\n",
              "          for (const buffer of message.buffers) {\n",
              "            buffers.push(buffer);\n",
              "            downloaded += buffer.byteLength;\n",
              "            progress.value = downloaded;\n",
              "          }\n",
              "        }\n",
              "      }\n",
              "      const blob = new Blob(buffers, {type: 'application/binary'});\n",
              "      const a = document.createElement('a');\n",
              "      a.href = window.URL.createObjectURL(blob);\n",
              "      a.download = filename;\n",
              "      div.appendChild(a);\n",
              "      a.click();\n",
              "      div.remove();\n",
              "    }\n",
              "  "
            ]
          },
          "metadata": {}
        },
        {
          "output_type": "display_data",
          "data": {
            "text/plain": [
              "<IPython.core.display.Javascript object>"
            ],
            "application/javascript": [
              "download(\"download_0c50a91b-17b8-4d5a-a6d9-7ab6cb442b96\", \"checkpoint_epoch_130.pth\", 6529874)"
            ]
          },
          "metadata": {}
        },
        {
          "output_type": "stream",
          "name": "stdout",
          "text": [
            "Epoch 130/150, Train Acc: 65.25%, Test Acc: 51.14%\n",
            "Epoch 130/150, Train Loss: 1.2277, Test Loss: 1.9370\n",
            "Epoch 131/150, Train Acc: 65.17%, Test Acc: 51.35%\n",
            "Epoch 131/150, Train Loss: 1.2276, Test Loss: 1.9371\n",
            "Epoch 132/150, Train Acc: 65.90%, Test Acc: 51.31%\n",
            "Epoch 132/150, Train Loss: 1.2191, Test Loss: 1.9382\n",
            "Epoch 133/150, Train Acc: 65.33%, Test Acc: 51.32%\n",
            "Epoch 133/150, Train Loss: 1.2220, Test Loss: 1.9375\n",
            "Epoch 134/150, Train Acc: 65.47%, Test Acc: 51.50%\n",
            "Epoch 134/150, Train Loss: 1.2180, Test Loss: 1.9344\n",
            "Epoch 135/150, Train Acc: 65.58%, Test Acc: 51.31%\n",
            "Epoch 135/150, Train Loss: 1.2126, Test Loss: 1.9375\n",
            "Epoch 136/150, Train Acc: 65.52%, Test Acc: 51.29%\n",
            "Epoch 136/150, Train Loss: 1.2153, Test Loss: 1.9367\n",
            "Epoch 137/150, Train Acc: 65.80%, Test Acc: 51.25%\n",
            "Epoch 137/150, Train Loss: 1.2099, Test Loss: 1.9366\n",
            "Epoch 138/150, Train Acc: 65.74%, Test Acc: 51.26%\n",
            "Epoch 138/150, Train Loss: 1.2140, Test Loss: 1.9382\n",
            "Epoch 139/150, Train Acc: 65.88%, Test Acc: 51.52%\n",
            "Epoch 139/150, Train Loss: 1.2084, Test Loss: 1.9377\n",
            "Checkpoint saved at epoch 140: ./checkpoint_epoch_140.pth\n"
          ]
        },
        {
          "output_type": "display_data",
          "data": {
            "text/plain": [
              "<IPython.core.display.Javascript object>"
            ],
            "application/javascript": [
              "\n",
              "    async function download(id, filename, size) {\n",
              "      if (!google.colab.kernel.accessAllowed) {\n",
              "        return;\n",
              "      }\n",
              "      const div = document.createElement('div');\n",
              "      const label = document.createElement('label');\n",
              "      label.textContent = `Downloading \"${filename}\": `;\n",
              "      div.appendChild(label);\n",
              "      const progress = document.createElement('progress');\n",
              "      progress.max = size;\n",
              "      div.appendChild(progress);\n",
              "      document.body.appendChild(div);\n",
              "\n",
              "      const buffers = [];\n",
              "      let downloaded = 0;\n",
              "\n",
              "      const channel = await google.colab.kernel.comms.open(id);\n",
              "      // Send a message to notify the kernel that we're ready.\n",
              "      channel.send({})\n",
              "\n",
              "      for await (const message of channel.messages) {\n",
              "        // Send a message to notify the kernel that we're ready.\n",
              "        channel.send({})\n",
              "        if (message.buffers) {\n",
              "          for (const buffer of message.buffers) {\n",
              "            buffers.push(buffer);\n",
              "            downloaded += buffer.byteLength;\n",
              "            progress.value = downloaded;\n",
              "          }\n",
              "        }\n",
              "      }\n",
              "      const blob = new Blob(buffers, {type: 'application/binary'});\n",
              "      const a = document.createElement('a');\n",
              "      a.href = window.URL.createObjectURL(blob);\n",
              "      a.download = filename;\n",
              "      div.appendChild(a);\n",
              "      a.click();\n",
              "      div.remove();\n",
              "    }\n",
              "  "
            ]
          },
          "metadata": {}
        },
        {
          "output_type": "display_data",
          "data": {
            "text/plain": [
              "<IPython.core.display.Javascript object>"
            ],
            "application/javascript": [
              "download(\"download_2d6ce634-8827-4bea-a927-994094bb4fdd\", \"checkpoint_epoch_140.pth\", 6529874)"
            ]
          },
          "metadata": {}
        },
        {
          "output_type": "stream",
          "name": "stdout",
          "text": [
            "Epoch 140/150, Train Acc: 65.99%, Test Acc: 51.47%\n",
            "Epoch 140/150, Train Loss: 1.2094, Test Loss: 1.9359\n",
            "Epoch 141/150, Train Acc: 65.83%, Test Acc: 51.48%\n",
            "Epoch 141/150, Train Loss: 1.2094, Test Loss: 1.9358\n",
            "Epoch 142/150, Train Acc: 65.84%, Test Acc: 51.45%\n",
            "Epoch 142/150, Train Loss: 1.2094, Test Loss: 1.9358\n",
            "Epoch 143/150, Train Acc: 65.98%, Test Acc: 51.43%\n",
            "Epoch 143/150, Train Loss: 1.2032, Test Loss: 1.9362\n",
            "Epoch 144/150, Train Acc: 65.92%, Test Acc: 51.52%\n",
            "Epoch 144/150, Train Loss: 1.2070, Test Loss: 1.9356\n",
            "Epoch 145/150, Train Acc: 65.95%, Test Acc: 51.42%\n",
            "Epoch 145/150, Train Loss: 1.2071, Test Loss: 1.9351\n",
            "Epoch 146/150, Train Acc: 65.96%, Test Acc: 51.43%\n",
            "Epoch 146/150, Train Loss: 1.2075, Test Loss: 1.9357\n",
            "Epoch 147/150, Train Acc: 66.19%, Test Acc: 51.41%\n",
            "Epoch 147/150, Train Loss: 1.1984, Test Loss: 1.9359\n",
            "Epoch 148/150, Train Acc: 65.99%, Test Acc: 51.46%\n",
            "Epoch 148/150, Train Loss: 1.2059, Test Loss: 1.9360\n",
            "Epoch 149/150, Train Acc: 66.17%, Test Acc: 51.49%\n",
            "Epoch 149/150, Train Loss: 1.1969, Test Loss: 1.9360\n",
            "Checkpoint saved at epoch 150: ./checkpoint_epoch_150.pth\n"
          ]
        },
        {
          "output_type": "display_data",
          "data": {
            "text/plain": [
              "<IPython.core.display.Javascript object>"
            ],
            "application/javascript": [
              "\n",
              "    async function download(id, filename, size) {\n",
              "      if (!google.colab.kernel.accessAllowed) {\n",
              "        return;\n",
              "      }\n",
              "      const div = document.createElement('div');\n",
              "      const label = document.createElement('label');\n",
              "      label.textContent = `Downloading \"${filename}\": `;\n",
              "      div.appendChild(label);\n",
              "      const progress = document.createElement('progress');\n",
              "      progress.max = size;\n",
              "      div.appendChild(progress);\n",
              "      document.body.appendChild(div);\n",
              "\n",
              "      const buffers = [];\n",
              "      let downloaded = 0;\n",
              "\n",
              "      const channel = await google.colab.kernel.comms.open(id);\n",
              "      // Send a message to notify the kernel that we're ready.\n",
              "      channel.send({})\n",
              "\n",
              "      for await (const message of channel.messages) {\n",
              "        // Send a message to notify the kernel that we're ready.\n",
              "        channel.send({})\n",
              "        if (message.buffers) {\n",
              "          for (const buffer of message.buffers) {\n",
              "            buffers.push(buffer);\n",
              "            downloaded += buffer.byteLength;\n",
              "            progress.value = downloaded;\n",
              "          }\n",
              "        }\n",
              "      }\n",
              "      const blob = new Blob(buffers, {type: 'application/binary'});\n",
              "      const a = document.createElement('a');\n",
              "      a.href = window.URL.createObjectURL(blob);\n",
              "      a.download = filename;\n",
              "      div.appendChild(a);\n",
              "      a.click();\n",
              "      div.remove();\n",
              "    }\n",
              "  "
            ]
          },
          "metadata": {}
        },
        {
          "output_type": "display_data",
          "data": {
            "text/plain": [
              "<IPython.core.display.Javascript object>"
            ],
            "application/javascript": [
              "download(\"download_85d13f17-b384-4d01-b586-b803f7c2506f\", \"checkpoint_epoch_150.pth\", 6529874)"
            ]
          },
          "metadata": {}
        },
        {
          "output_type": "stream",
          "name": "stdout",
          "text": [
            "Epoch 150/150, Train Acc: 66.08%, Test Acc: 51.47%\n",
            "Epoch 150/150, Train Loss: 1.2047, Test Loss: 1.9361\n"
          ]
        },
        {
          "output_type": "display_data",
          "data": {
            "text/plain": [
              "<Figure size 600x400 with 1 Axes>"
            ],
            "image/png": "[encoded data removed]"
          },
          "metadata": {}
        },
        {
          "output_type": "display_data",
          "data": {
            "text/plain": [
              "<Figure size 600x400 with 1 Axes>"
            ],
            "image/png": "[encoded data removed]"
          },
          "metadata": {}
        },
        {
          "output_type": "display_data",
          "data": {
            "text/plain": [
              "<Figure size 600x400 with 1 Axes>"
            ],
            "image/png": "[encoded data removed]"
          },
          "metadata": {}
        },
        {
          "output_type": "display_data",
          "data": {
            "text/plain": [
              "<Figure size 600x400 with 1 Axes>"
            ],
            "image/png": "[encoded data removed]"
          },
          "metadata": {}
        }
      ],
      "source": [
        "import os\n",
        "import numpy as np\n",
        "import torch\n",
        "import torch.nn as nn\n",
        "import torch.optim as optim\n",
        "import torchvision\n",
        "import torchvision.transforms as transforms\n",
        "import matplotlib.pyplot as plt\n",
        "from torch.utils.data import random_split\n",
        "from google.colab import files\n",
        "\n",
        "\n",
        "# Training settings\n",
        "# epochs, batch sized and momentum are fixed values\n",
        "epochs = 150\n",
        "batch_size = 64\n",
        "momentum = 0.9\n",
        "# weight decay and learning rate are adjustable\n",
        "weight_decay = 4e-4\n",
        "lr = 1e-3\n",
        "\n",
        "def compute_mean_std(dataset):\n",
        "    \"\"\"Compute the mean and std of CIFAR-100 dataset.\n",
        "\n",
        "    Args:\n",
        "        dataset: A dataset derived from `torch.utils.data.Dataset`,\n",
        "                 such as `cifar100_training_dataset` or `cifar100_test_dataset`.\n",
        "\n",
        "    Returns:\n",
        "        A tuple containing (mean, std) for the entire dataset.\n",
        "    \"\"\"\n",
        "\n",
        "    # Extract images and labels\n",
        "    data_r = np.stack([np.array(dataset[i][0])[:, :, 0] for i in range(len(dataset))])\n",
        "    data_g = np.stack([np.array(dataset[i][0])[:, :, 1] for i in range(len(dataset))])\n",
        "    data_b = np.stack([np.array(dataset[i][0])[:, :, 2] for i in range(len(dataset))])\n",
        "\n",
        "    # Compute mean and std\n",
        "    mean = np.mean(data_r), np.mean(data_g), np.mean(data_b)\n",
        "    std = np.std(data_r), np.std(data_g), np.std(data_b)\n",
        "\n",
        "    return mean, std\n",
        "\n",
        "\n",
        "# Define LeNet-5 architecture\n",
        "class LeNet5(nn.Module):\n",
        "    def __init__(self):\n",
        "        super(LeNet5, self).__init__()\n",
        "        self.conv1 = nn.Conv2d(3, 64, 5)\n",
        "        self.relu1 = nn.ReLU()\n",
        "        self.pool1 = nn.MaxPool2d(2, 2)\n",
        "        self.conv2 = nn.Conv2d(64, 64, 5)\n",
        "        self.relu2 = nn.ReLU()\n",
        "        self.pool2 = nn.MaxPool2d(2, 2)\n",
        "        self.fc1 = nn.Linear(64 * 5 * 5, 384)\n",
        "        self.relu3 = nn.ReLU()\n",
        "        self.fc2 = nn.Linear(384, 192)\n",
        "        self.relu4 = nn.ReLU()\n",
        "        self.fc3 = nn.Linear(192, 100)\n",
        "\n",
        "    def forward(self, x):\n",
        "        x = self.pool1(self.relu1(self.conv1(x)))\n",
        "        x = self.pool2(self.relu2(self.conv2(x)))\n",
        "        x = x.view(-1, 64 * 5 * 5)\n",
        "        x = self.relu3(self.fc1(x))\n",
        "        x = self.relu4(self.fc2(x))\n",
        "        x = self.fc3(x)\n",
        "        return x\n",
        "\n",
        "torch.manual_seed(42) # Set the seed for reproducibility\n",
        "torch.cuda.manual_seed_all(42) # Set the seed for reproducibility on GPU\n",
        "\n",
        "# use the same mean and std to add consistency to all datasets\n",
        "data = torchvision.datasets.CIFAR100(root='./data', train=True, download=True, transform=transforms.ToTensor())\n",
        "mean, std = compute_mean_std(data)\n",
        "\n",
        "# Load and split CIFAR-100 dataset\n",
        "train_transform = transforms.Compose([\n",
        "  transforms.RandomCrop(32, padding=4),\n",
        "  transforms.RandomHorizontalFlip(),\n",
        "  transforms.ToTensor(),\n",
        "  transforms.Normalize(mean, std)\n",
        "])\n",
        "\n",
        "test_transform = transforms.Compose([\n",
        "    transforms.ToTensor(),  # Convert to PyTorch tensor\n",
        "    transforms.Normalize(mean, std)\n",
        "])\n",
        "\n",
        "trainset = torchvision.datasets.CIFAR100(root='./data', train=True, download=True, transform=train_transform)\n",
        "trainloader = torch.utils.data.DataLoader(trainset, batch_size=batch_size, shuffle=True, num_workers=2)\n",
        "\n",
        "testset = torchvision.datasets.CIFAR100(root='./data', train=False, download=True, transform=test_transform)\n",
        "testloader = torch.utils.data.DataLoader(testset, batch_size=batch_size, shuffle=False, num_workers=2)\n",
        "\n",
        "# Device setup\n",
        "device = torch.device(\"cuda:0\" if torch.cuda.is_available() else \"cpu\")\n",
        "\n",
        "# Initialize model\n",
        "net_sgdm = LeNet5().to(device)\n",
        "\n",
        "# Loss function\n",
        "criterion = nn.CrossEntropyLoss()\n",
        "\n",
        "# Optimizer and scheduler\n",
        "sgdm_optimizer = optim.SGD(net_sgdm.parameters(), lr=lr, momentum=momentum, weight_decay=weight_decay)\n",
        "scheduler_sgdm = optim.lr_scheduler.CosineAnnealingLR(sgdm_optimizer, T_max=150)\n",
        "\n",
        "# Training function\n",
        "def train_model(optimizer, scheduler, model, criterion, trainloader , testloader, device, epochs, save_checkpoint_interval=10):\n",
        "    train_losses, test_losses = [], []\n",
        "    train_accuracies, test_accuracies = [], []\n",
        "    for epoch in range(epochs):\n",
        "        model.train()\n",
        "        running_loss, correct_train, total_train = 0.0, 0, 0\n",
        "        for inputs, labels in trainloader:\n",
        "            inputs, labels = inputs.to(device), labels.to(device)\n",
        "            optimizer.zero_grad()\n",
        "            outputs = model(inputs)\n",
        "            loss = criterion(outputs, labels)\n",
        "            loss.backward()\n",
        "            optimizer.step()\n",
        "            running_loss += loss.item()\n",
        "            _, predicted = outputs.max(1)\n",
        "            total_train += labels.size(0)\n",
        "            correct_train += predicted.eq(labels).sum().item()\n",
        "        train_loss = running_loss / len(trainloader)\n",
        "        train_accuracy = 100. * correct_train / total_train\n",
        "        train_losses.append(train_loss)\n",
        "        train_accuracies.append(train_accuracy)\n",
        "\n",
        "        # Test\n",
        "        correct_test, total_test, test_loss = 0, 0, 0.0\n",
        "        with torch.no_grad():\n",
        "            for inputs, labels in testloader:\n",
        "                inputs, labels = inputs.to(device), labels.to(device)\n",
        "                outputs = model(inputs)\n",
        "                loss = criterion(outputs, labels)\n",
        "                test_loss += loss.item()\n",
        "                _, predicted = outputs.max(1)\n",
        "                total_test += labels.size(0)\n",
        "                correct_test += predicted.eq(labels).sum().item()\n",
        "        test_loss /= len(testloader)\n",
        "        test_losses.append(test_loss)\n",
        "        test_accuracy = 100. * correct_test / total_test\n",
        "        test_accuracies.append(test_accuracy)\n",
        "\n",
        "        scheduler.step()\n",
        "\n",
        "        # Checkpointing\n",
        "        if (epoch + 1) % save_checkpoint_interval == 0:\n",
        "            checkpoint_filename = f'checkpoint_epoch_{epoch + 1}.pth'\n",
        "            checkpoint = {\n",
        "                'epoch': epoch + 1,\n",
        "                'model_state_dict': model.state_dict(),\n",
        "                'optimizer_state_dict': optimizer.state_dict(),\n",
        "                'loss': loss.item(),\n",
        "            }\n",
        "            checkpoint_path = os.path.join('./', checkpoint_filename)\n",
        "            torch.save(checkpoint, checkpoint_path)\n",
        "            print(f'Checkpoint saved at epoch {epoch + 1}: {checkpoint_path}')\n",
        "\n",
        "            #Download the checkpoint\n",
        "            files.download(checkpoint_filename)\n",
        "\n",
        "        print(f'Epoch {epoch+1}/{epochs}, Train Acc: {train_accuracy:.2f}%, Test Acc: {test_accuracy:.2f}%')\n",
        "        print(f'Epoch {epoch+1}/{epochs}, Train Loss: {train_loss:.4f}, Test Loss: {test_loss:.4f}')\n",
        "\n",
        "    return train_losses, test_losses,  train_accuracies, test_accuracies\n",
        "\n",
        "# Train model\n",
        "print(\"--- Train with sgdm ---\")\n",
        "sgdm_train_loss, sgdm_test_loss, sgdm_train_acc, sgdm_test_acc= train_model(sgdm_optimizer, scheduler_sgdm, net_sgdm, criterion, trainloader, testloader, device, epochs)\n",
        "\n",
        "# Save model\n",
        "torch.save(net_sgdm.state_dict(), 'net_sgdm.pth')\n",
        "\n",
        "# Plot results\n",
        "# Plot Training Loss\n",
        "plt.figure(figsize=(6, 4))\n",
        "plt.plot(sgdm_train_loss, label='Train Loss')\n",
        "plt.title('Training Loss')\n",
        "plt.xlabel('Epoch')\n",
        "plt.ylabel('Loss')\n",
        "plt.legend()\n",
        "plt.tight_layout()\n",
        "plt.savefig('train_loss.png')\n",
        "plt.show()\n",
        "\n",
        "# Plot Training Accuracy\n",
        "plt.figure(figsize=(6, 4))\n",
        "plt.plot(sgdm_train_acc, label='Train Accuracy')\n",
        "plt.title('Training Accuracy')\n",
        "plt.xlabel('Epoch')\n",
        "plt.ylabel('Accuracy (%)')\n",
        "plt.legend()\n",
        "plt.tight_layout()\n",
        "plt.savefig('train_accuracy.png')\n",
        "plt.show()\n",
        "\n",
        "# Plot Test Loss\n",
        "plt.figure(figsize=(6, 4))\n",
        "plt.plot(sgdm_test_loss, label='Test Loss')\n",
        "plt.title('Test Loss')\n",
        "plt.xlabel('Epoch')\n",
        "plt.ylabel('Loss')\n",
        "plt.legend()\n",
        "plt.tight_layout()\n",
        "plt.savefig('test_loss.png')\n",
        "plt.show()\n",
        "\n",
        "# Plot Test Accuracy\n",
        "plt.figure(figsize=(6, 4))\n",
        "plt.plot(sgdm_test_acc, label='Test Accuracy')\n",
        "plt.title('Test Accuracy')\n",
        "plt.xlabel('Epoch')\n",
        "plt.ylabel('Accuracy (%)')\n",
        "plt.legend()\n",
        "plt.tight_layout()\n",
        "plt.savefig('test_accuracy.png')\n",
        "plt.show()\n",
        "\n",
        "\n",
        "\n",
        "\n",
        "\n"
      ]
    }
  ],
  "metadata": {
    "colab": {
      "provenance": [],
      "gpuType": "T4"
    },
    "kernelspec": {
      "display_name": "Python 3",
      "name": "python3"
    },
    "language_info": {
      "name": "python"
    },
    "accelerator": "GPU"
  },
  "nbformat": 4,
  "nbformat_minor": 0
}