{
  "cells": [
    {
      "cell_type": "code",
      "execution_count": 1,
      "metadata": {
        "colab": {
          "base_uri": "https://localhost:8080/",
          "height": 1000
        },
        "id": "OXtKbnOAeMli",
        "outputId": "eecca267-f093-48f4-8795-44c7b5b9bc6c"
      },
      "outputs": [
        {
          "output_type": "stream",
          "name": "stdout",
          "text": [
            "Downloading https://www.cs.toronto.edu/~kriz/cifar-100-python.tar.gz to ./data/cifar-100-python.tar.gz\n"
          ]
        },
        {
          "output_type": "stream",
          "name": "stderr",
          "text": [
            "100%|██████████| 169M/169M [00:11<00:00, 14.6MB/s]\n"
          ]
        },
        {
          "output_type": "stream",
          "name": "stdout",
          "text": [
            "Extracting ./data/cifar-100-python.tar.gz to ./data\n",
            "Files already downloaded and verified\n",
            "Files already downloaded and verified\n",
            "Files already downloaded and verified\n",
            "--- Train with sgdm ---\n",
            "Epoch 1/150, Train Acc: 4.36%, Val Acc: 9.52%, Test Acc: 7.70%\n",
            "Epoch 1/150, Train Loss: 4.2997, Val Loss: 3.8913, Test Loss: 4.0193\n",
            "Epoch 2/150, Train Acc: 9.97%, Val Acc: 15.20%, Test Acc: 12.56%\n",
            "Epoch 2/150, Train Loss: 3.8751, Val Loss: 3.5653, Test Loss: 3.6964\n",
            "Epoch 3/150, Train Acc: 13.64%, Val Acc: 18.84%, Test Acc: 17.15%\n",
            "Epoch 3/150, Train Loss: 3.6513, Val Loss: 3.3641, Test Loss: 3.5032\n",
            "Epoch 4/150, Train Acc: 16.68%, Val Acc: 22.56%, Test Acc: 19.44%\n",
            "Epoch 4/150, Train Loss: 3.4617, Val Loss: 3.1573, Test Loss: 3.3126\n",
            "Epoch 5/150, Train Acc: 19.45%, Val Acc: 26.54%, Test Acc: 23.45%\n",
            "Epoch 5/150, Train Loss: 3.3131, Val Loss: 2.9831, Test Loss: 3.1467\n",
            "Epoch 6/150, Train Acc: 22.25%, Val Acc: 27.41%, Test Acc: 23.74%\n",
            "Epoch 6/150, Train Loss: 3.1756, Val Loss: 2.9172, Test Loss: 3.1165\n",
            "Epoch 7/150, Train Acc: 24.16%, Val Acc: 30.26%, Test Acc: 25.56%\n",
            "Epoch 7/150, Train Loss: 3.0596, Val Loss: 2.8199, Test Loss: 3.0389\n",
            "Epoch 8/150, Train Acc: 25.52%, Val Acc: 31.14%, Test Acc: 27.27%\n",
            "Epoch 8/150, Train Loss: 2.9840, Val Loss: 2.7424, Test Loss: 2.9644\n",
            "Epoch 9/150, Train Acc: 26.93%, Val Acc: 33.03%, Test Acc: 27.79%\n",
            "Epoch 9/150, Train Loss: 2.9296, Val Loss: 2.6295, Test Loss: 2.8675\n",
            "Checkpoint saved at epoch 10: ./checkpoint_epoch_10.pth\n"
          ]
        },
        {
          "output_type": "display_data",
          "data": {
            "text/plain": [
              "<IPython.core.display.Javascript object>"
            ],
            "application/javascript": [
              "\n",
              "    async function download(id, filename, size) {\n",
              "      if (!google.colab.kernel.accessAllowed) {\n",
              "        return;\n",
              "      }\n",
              "      const div = document.createElement('div');\n",
              "      const label = document.createElement('label');\n",
              "      label.textContent = `Downloading \"${filename}\": `;\n",
              "      div.appendChild(label);\n",
              "      const progress = document.createElement('progress');\n",
              "      progress.max = size;\n",
              "      div.appendChild(progress);\n",
              "      document.body.appendChild(div);\n",
              "\n",
              "      const buffers = [];\n",
              "      let downloaded = 0;\n",
              "\n",
              "      const channel = await google.colab.kernel.comms.open(id);\n",
              "      // Send a message to notify the kernel that we're ready.\n",
              "      channel.send({})\n",
              "\n",
              "      for await (const message of channel.messages) {\n",
              "        // Send a message to notify the kernel that we're ready.\n",
              "        channel.send({})\n",
              "        if (message.buffers) {\n",
              "          for (const buffer of message.buffers) {\n",
              "            buffers.push(buffer);\n",
              "            downloaded += buffer.byteLength;\n",
              "            progress.value = downloaded;\n",
              "          }\n",
              "        }\n",
              "      }\n",
              "      const blob = new Blob(buffers, {type: 'application/binary'});\n",
              "      const a = document.createElement('a');\n",
              "      a.href = window.URL.createObjectURL(blob);\n",
              "      a.download = filename;\n",
              "      div.appendChild(a);\n",
              "      a.click();\n",
              "      div.remove();\n",
              "    }\n",
              "  "
            ]
          },
          "metadata": {}
        },
        {
          "output_type": "display_data",
          "data": {
            "text/plain": [
              "<IPython.core.display.Javascript object>"
            ],
            "application/javascript": [
              "download(\"download_d71dd0be-5011-4988-839d-f90a2ea377f0\", \"checkpoint_epoch_10.pth\", 6529914)"
            ]
          },
          "metadata": {}
        },
        {
          "output_type": "stream",
          "name": "stdout",
          "text": [
            "Epoch 10/150, Train Acc: 28.06%, Val Acc: 34.26%, Test Acc: 29.10%\n",
            "Epoch 10/150, Train Loss: 2.8611, Val Loss: 2.5637, Test Loss: 2.8199\n",
            "Epoch 11/150, Train Acc: 28.97%, Val Acc: 34.56%, Test Acc: 28.54%\n",
            "Epoch 11/150, Train Loss: 2.8145, Val Loss: 2.5695, Test Loss: 2.8580\n",
            "Epoch 12/150, Train Acc: 29.46%, Val Acc: 36.12%, Test Acc: 30.48%\n",
            "Epoch 12/150, Train Loss: 2.7765, Val Loss: 2.4908, Test Loss: 2.7320\n",
            "Epoch 13/150, Train Acc: 30.48%, Val Acc: 36.25%, Test Acc: 30.50%\n",
            "Epoch 13/150, Train Loss: 2.7354, Val Loss: 2.5010, Test Loss: 2.7896\n",
            "Epoch 14/150, Train Acc: 31.55%, Val Acc: 36.46%, Test Acc: 31.99%\n",
            "Epoch 14/150, Train Loss: 2.6913, Val Loss: 2.4874, Test Loss: 2.7125\n",
            "Epoch 15/150, Train Acc: 31.89%, Val Acc: 37.59%, Test Acc: 31.25%\n",
            "Epoch 15/150, Train Loss: 2.6649, Val Loss: 2.4308, Test Loss: 2.7437\n",
            "Epoch 16/150, Train Acc: 33.04%, Val Acc: 38.29%, Test Acc: 32.25%\n",
            "Epoch 16/150, Train Loss: 2.6228, Val Loss: 2.4000, Test Loss: 2.6604\n",
            "Epoch 17/150, Train Acc: 33.20%, Val Acc: 38.48%, Test Acc: 33.14%\n",
            "Epoch 17/150, Train Loss: 2.6138, Val Loss: 2.3678, Test Loss: 2.6500\n",
            "Epoch 18/150, Train Acc: 33.97%, Val Acc: 40.60%, Test Acc: 32.75%\n",
            "Epoch 18/150, Train Loss: 2.5715, Val Loss: 2.3043, Test Loss: 2.6651\n",
            "Epoch 19/150, Train Acc: 34.41%, Val Acc: 39.13%, Test Acc: 31.94%\n",
            "Epoch 19/150, Train Loss: 2.5457, Val Loss: 2.3657, Test Loss: 2.7139\n",
            "Checkpoint saved at epoch 20: ./checkpoint_epoch_20.pth\n"
          ]
        },
        {
          "output_type": "display_data",
          "data": {
            "text/plain": [
              "<IPython.core.display.Javascript object>"
            ],
            "application/javascript": [
              "\n",
              "    async function download(id, filename, size) {\n",
              "      if (!google.colab.kernel.accessAllowed) {\n",
              "        return;\n",
              "      }\n",
              "      const div = document.createElement('div');\n",
              "      const label = document.createElement('label');\n",
              "      label.textContent = `Downloading \"${filename}\": `;\n",
              "      div.appendChild(label);\n",
              "      const progress = document.createElement('progress');\n",
              "      progress.max = size;\n",
              "      div.appendChild(progress);\n",
              "      document.body.appendChild(div);\n",
              "\n",
              "      const buffers = [];\n",
              "      let downloaded = 0;\n",
              "\n",
              "      const channel = await google.colab.kernel.comms.open(id);\n",
              "      // Send a message to notify the kernel that we're ready.\n",
              "      channel.send({})\n",
              "\n",
              "      for await (const message of channel.messages) {\n",
              "        // Send a message to notify the kernel that we're ready.\n",
              "        channel.send({})\n",
              "        if (message.buffers) {\n",
              "          for (const buffer of message.buffers) {\n",
              "            buffers.push(buffer);\n",
              "            downloaded += buffer.byteLength;\n",
              "            progress.value = downloaded;\n",
              "          }\n",
              "        }\n",
              "      }\n",
              "      const blob = new Blob(buffers, {type: 'application/binary'});\n",
              "      const a = document.createElement('a');\n",
              "      a.href = window.URL.createObjectURL(blob);\n",
              "      a.download = filename;\n",
              "      div.appendChild(a);\n",
              "      a.click();\n",
              "      div.remove();\n",
              "    }\n",
              "  "
            ]
          },
          "metadata": {}
        },
        {
          "output_type": "display_data",
          "data": {
            "text/plain": [
              "<IPython.core.display.Javascript object>"
            ],
            "application/javascript": [
              "download(\"download_42cd4a2e-8c1d-4514-8046-6c77b72a2216\", \"checkpoint_epoch_20.pth\", 6529914)"
            ]
          },
          "metadata": {}
        },
        {
          "output_type": "stream",
          "name": "stdout",
          "text": [
            "Epoch 20/150, Train Acc: 34.77%, Val Acc: 41.01%, Test Acc: 34.41%\n",
            "Epoch 20/150, Train Loss: 2.5306, Val Loss: 2.2664, Test Loss: 2.5931\n",
            "Epoch 21/150, Train Acc: 35.21%, Val Acc: 39.36%, Test Acc: 33.68%\n",
            "Epoch 21/150, Train Loss: 2.5110, Val Loss: 2.3298, Test Loss: 2.6606\n",
            "Epoch 22/150, Train Acc: 36.02%, Val Acc: 41.31%, Test Acc: 36.17%\n",
            "Epoch 22/150, Train Loss: 2.4702, Val Loss: 2.2381, Test Loss: 2.5330\n",
            "Epoch 23/150, Train Acc: 36.23%, Val Acc: 41.36%, Test Acc: 33.58%\n",
            "Epoch 23/150, Train Loss: 2.4689, Val Loss: 2.2400, Test Loss: 2.6030\n",
            "Epoch 24/150, Train Acc: 36.51%, Val Acc: 42.07%, Test Acc: 35.38%\n",
            "Epoch 24/150, Train Loss: 2.4415, Val Loss: 2.2293, Test Loss: 2.5615\n",
            "Epoch 25/150, Train Acc: 37.20%, Val Acc: 41.30%, Test Acc: 35.39%\n",
            "Epoch 25/150, Train Loss: 2.4232, Val Loss: 2.2380, Test Loss: 2.6057\n",
            "Epoch 26/150, Train Acc: 36.83%, Val Acc: 42.63%, Test Acc: 36.70%\n",
            "Epoch 26/150, Train Loss: 2.4197, Val Loss: 2.2096, Test Loss: 2.5302\n",
            "Epoch 27/150, Train Acc: 37.52%, Val Acc: 42.61%, Test Acc: 36.05%\n",
            "Epoch 27/150, Train Loss: 2.3902, Val Loss: 2.1956, Test Loss: 2.5254\n",
            "Epoch 28/150, Train Acc: 38.35%, Val Acc: 42.13%, Test Acc: 36.05%\n",
            "Epoch 28/150, Train Loss: 2.3758, Val Loss: 2.2134, Test Loss: 2.5416\n",
            "Epoch 29/150, Train Acc: 38.34%, Val Acc: 42.34%, Test Acc: 35.34%\n",
            "Epoch 29/150, Train Loss: 2.3641, Val Loss: 2.2248, Test Loss: 2.5477\n",
            "Checkpoint saved at epoch 30: ./checkpoint_epoch_30.pth\n"
          ]
        },
        {
          "output_type": "display_data",
          "data": {
            "text/plain": [
              "<IPython.core.display.Javascript object>"
            ],
            "application/javascript": [
              "\n",
              "    async function download(id, filename, size) {\n",
              "      if (!google.colab.kernel.accessAllowed) {\n",
              "        return;\n",
              "      }\n",
              "      const div = document.createElement('div');\n",
              "      const label = document.createElement('label');\n",
              "      label.textContent = `Downloading \"${filename}\": `;\n",
              "      div.appendChild(label);\n",
              "      const progress = document.createElement('progress');\n",
              "      progress.max = size;\n",
              "      div.appendChild(progress);\n",
              "      document.body.appendChild(div);\n",
              "\n",
              "      const buffers = [];\n",
              "      let downloaded = 0;\n",
              "\n",
              "      const channel = await google.colab.kernel.comms.open(id);\n",
              "      // Send a message to notify the kernel that we're ready.\n",
              "      channel.send({})\n",
              "\n",
              "      for await (const message of channel.messages) {\n",
              "        // Send a message to notify the kernel that we're ready.\n",
              "        channel.send({})\n",
              "        if (message.buffers) {\n",
              "          for (const buffer of message.buffers) {\n",
              "            buffers.push(buffer);\n",
              "            downloaded += buffer.byteLength;\n",
              "            progress.value = downloaded;\n",
              "          }\n",
              "        }\n",
              "      }\n",
              "      const blob = new Blob(buffers, {type: 'application/binary'});\n",
              "      const a = document.createElement('a');\n",
              "      a.href = window.URL.createObjectURL(blob);\n",
              "      a.download = filename;\n",
              "      div.appendChild(a);\n",
              "      a.click();\n",
              "      div.remove();\n",
              "    }\n",
              "  "
            ]
          },
          "metadata": {}
        },
        {
          "output_type": "display_data",
          "data": {
            "text/plain": [
              "<IPython.core.display.Javascript object>"
            ],
            "application/javascript": [
              "download(\"download_4148ef89-2b73-44b2-b490-30e66482ee79\", \"checkpoint_epoch_30.pth\", 6529914)"
            ]
          },
          "metadata": {}
        },
        {
          "output_type": "stream",
          "name": "stdout",
          "text": [
            "Epoch 30/150, Train Acc: 38.62%, Val Acc: 44.27%, Test Acc: 37.21%\n",
            "Epoch 30/150, Train Loss: 2.3526, Val Loss: 2.1444, Test Loss: 2.5119\n",
            "Epoch 31/150, Train Acc: 39.13%, Val Acc: 43.21%, Test Acc: 37.04%\n",
            "Epoch 31/150, Train Loss: 2.3317, Val Loss: 2.1612, Test Loss: 2.4840\n",
            "Epoch 32/150, Train Acc: 39.40%, Val Acc: 43.74%, Test Acc: 38.03%\n",
            "Epoch 32/150, Train Loss: 2.3102, Val Loss: 2.1551, Test Loss: 2.4633\n",
            "Epoch 33/150, Train Acc: 39.59%, Val Acc: 43.91%, Test Acc: 37.86%\n",
            "Epoch 33/150, Train Loss: 2.3047, Val Loss: 2.1372, Test Loss: 2.4638\n",
            "Epoch 34/150, Train Acc: 39.82%, Val Acc: 44.00%, Test Acc: 37.64%\n",
            "Epoch 34/150, Train Loss: 2.2966, Val Loss: 2.1447, Test Loss: 2.4294\n",
            "Epoch 35/150, Train Acc: 39.67%, Val Acc: 43.88%, Test Acc: 37.22%\n",
            "Epoch 35/150, Train Loss: 2.2981, Val Loss: 2.1470, Test Loss: 2.4872\n",
            "Epoch 36/150, Train Acc: 40.09%, Val Acc: 44.05%, Test Acc: 37.04%\n",
            "Epoch 36/150, Train Loss: 2.2672, Val Loss: 2.1374, Test Loss: 2.4964\n",
            "Epoch 37/150, Train Acc: 40.50%, Val Acc: 43.92%, Test Acc: 37.62%\n",
            "Epoch 37/150, Train Loss: 2.2513, Val Loss: 2.1461, Test Loss: 2.4450\n",
            "Epoch 38/150, Train Acc: 40.57%, Val Acc: 45.07%, Test Acc: 38.65%\n",
            "Epoch 38/150, Train Loss: 2.2442, Val Loss: 2.0749, Test Loss: 2.3977\n",
            "Epoch 39/150, Train Acc: 40.89%, Val Acc: 44.34%, Test Acc: 37.67%\n",
            "Epoch 39/150, Train Loss: 2.2320, Val Loss: 2.1178, Test Loss: 2.4506\n",
            "Checkpoint saved at epoch 40: ./checkpoint_epoch_40.pth\n"
          ]
        },
        {
          "output_type": "display_data",
          "data": {
            "text/plain": [
              "<IPython.core.display.Javascript object>"
            ],
            "application/javascript": [
              "\n",
              "    async function download(id, filename, size) {\n",
              "      if (!google.colab.kernel.accessAllowed) {\n",
              "        return;\n",
              "      }\n",
              "      const div = document.createElement('div');\n",
              "      const label = document.createElement('label');\n",
              "      label.textContent = `Downloading \"${filename}\": `;\n",
              "      div.appendChild(label);\n",
              "      const progress = document.createElement('progress');\n",
              "      progress.max = size;\n",
              "      div.appendChild(progress);\n",
              "      document.body.appendChild(div);\n",
              "\n",
              "      const buffers = [];\n",
              "      let downloaded = 0;\n",
              "\n",
              "      const channel = await google.colab.kernel.comms.open(id);\n",
              "      // Send a message to notify the kernel that we're ready.\n",
              "      channel.send({})\n",
              "\n",
              "      for await (const message of channel.messages) {\n",
              "        // Send a message to notify the kernel that we're ready.\n",
              "        channel.send({})\n",
              "        if (message.buffers) {\n",
              "          for (const buffer of message.buffers) {\n",
              "            buffers.push(buffer);\n",
              "            downloaded += buffer.byteLength;\n",
              "            progress.value = downloaded;\n",
              "          }\n",
              "        }\n",
              "      }\n",
              "      const blob = new Blob(buffers, {type: 'application/binary'});\n",
              "      const a = document.createElement('a');\n",
              "      a.href = window.URL.createObjectURL(blob);\n",
              "      a.download = filename;\n",
              "      div.appendChild(a);\n",
              "      a.click();\n",
              "      div.remove();\n",
              "    }\n",
              "  "
            ]
          },
          "metadata": {}
        },
        {
          "output_type": "display_data",
          "data": {
            "text/plain": [
              "<IPython.core.display.Javascript object>"
            ],
            "application/javascript": [
              "download(\"download_c82face5-59a7-48d6-8032-eabd9b686246\", \"checkpoint_epoch_40.pth\", 6529914)"
            ]
          },
          "metadata": {}
        },
        {
          "output_type": "stream",
          "name": "stdout",
          "text": [
            "Epoch 40/150, Train Acc: 41.35%, Val Acc: 45.53%, Test Acc: 38.75%\n",
            "Epoch 40/150, Train Loss: 2.2149, Val Loss: 2.0809, Test Loss: 2.4112\n",
            "Epoch 41/150, Train Acc: 41.42%, Val Acc: 45.26%, Test Acc: 37.75%\n",
            "Epoch 41/150, Train Loss: 2.2099, Val Loss: 2.1011, Test Loss: 2.4406\n",
            "Epoch 42/150, Train Acc: 41.81%, Val Acc: 45.22%, Test Acc: 37.94%\n",
            "Epoch 42/150, Train Loss: 2.1906, Val Loss: 2.0939, Test Loss: 2.4324\n",
            "Epoch 43/150, Train Acc: 42.42%, Val Acc: 46.56%, Test Acc: 39.16%\n",
            "Epoch 43/150, Train Loss: 2.1675, Val Loss: 2.0223, Test Loss: 2.3704\n",
            "Epoch 44/150, Train Acc: 42.26%, Val Acc: 46.09%, Test Acc: 39.69%\n",
            "Epoch 44/150, Train Loss: 2.1804, Val Loss: 2.0221, Test Loss: 2.3253\n",
            "Epoch 45/150, Train Acc: 42.50%, Val Acc: 46.58%, Test Acc: 39.73%\n",
            "Epoch 45/150, Train Loss: 2.1616, Val Loss: 2.0158, Test Loss: 2.3345\n",
            "Epoch 46/150, Train Acc: 42.82%, Val Acc: 46.45%, Test Acc: 39.01%\n",
            "Epoch 46/150, Train Loss: 2.1437, Val Loss: 2.0132, Test Loss: 2.3561\n",
            "Epoch 47/150, Train Acc: 43.14%, Val Acc: 47.22%, Test Acc: 39.88%\n",
            "Epoch 47/150, Train Loss: 2.1420, Val Loss: 2.0054, Test Loss: 2.3685\n",
            "Epoch 48/150, Train Acc: 43.35%, Val Acc: 46.69%, Test Acc: 38.46%\n",
            "Epoch 48/150, Train Loss: 2.1256, Val Loss: 2.0369, Test Loss: 2.4031\n",
            "Epoch 49/150, Train Acc: 43.61%, Val Acc: 46.01%, Test Acc: 38.72%\n",
            "Epoch 49/150, Train Loss: 2.1234, Val Loss: 2.0508, Test Loss: 2.4010\n",
            "Checkpoint saved at epoch 50: ./checkpoint_epoch_50.pth\n"
          ]
        },
        {
          "output_type": "display_data",
          "data": {
            "text/plain": [
              "<IPython.core.display.Javascript object>"
            ],
            "application/javascript": [
              "\n",
              "    async function download(id, filename, size) {\n",
              "      if (!google.colab.kernel.accessAllowed) {\n",
              "        return;\n",
              "      }\n",
              "      const div = document.createElement('div');\n",
              "      const label = document.createElement('label');\n",
              "      label.textContent = `Downloading \"${filename}\": `;\n",
              "      div.appendChild(label);\n",
              "      const progress = document.createElement('progress');\n",
              "      progress.max = size;\n",
              "      div.appendChild(progress);\n",
              "      document.body.appendChild(div);\n",
              "\n",
              "      const buffers = [];\n",
              "      let downloaded = 0;\n",
              "\n",
              "      const channel = await google.colab.kernel.comms.open(id);\n",
              "      // Send a message to notify the kernel that we're ready.\n",
              "      channel.send({})\n",
              "\n",
              "      for await (const message of channel.messages) {\n",
              "        // Send a message to notify the kernel that we're ready.\n",
              "        channel.send({})\n",
              "        if (message.buffers) {\n",
              "          for (const buffer of message.buffers) {\n",
              "            buffers.push(buffer);\n",
              "            downloaded += buffer.byteLength;\n",
              "            progress.value = downloaded;\n",
              "          }\n",
              "        }\n",
              "      }\n",
              "      const blob = new Blob(buffers, {type: 'application/binary'});\n",
              "      const a = document.createElement('a');\n",
              "      a.href = window.URL.createObjectURL(blob);\n",
              "      a.download = filename;\n",
              "      div.appendChild(a);\n",
              "      a.click();\n",
              "      div.remove();\n",
              "    }\n",
              "  "
            ]
          },
          "metadata": {}
        },
        {
          "output_type": "display_data",
          "data": {
            "text/plain": [
              "<IPython.core.display.Javascript object>"
            ],
            "application/javascript": [
              "download(\"download_238deb22-2a96-45d1-99c2-2837439639a7\", \"checkpoint_epoch_50.pth\", 6529914)"
            ]
          },
          "metadata": {}
        },
        {
          "output_type": "stream",
          "name": "stdout",
          "text": [
            "Epoch 50/150, Train Acc: 43.52%, Val Acc: 47.16%, Test Acc: 41.60%\n",
            "Epoch 50/150, Train Loss: 2.1063, Val Loss: 1.9931, Test Loss: 2.2781\n",
            "Epoch 51/150, Train Acc: 43.73%, Val Acc: 47.72%, Test Acc: 40.93%\n",
            "Epoch 51/150, Train Loss: 2.0985, Val Loss: 1.9689, Test Loss: 2.2836\n",
            "Epoch 52/150, Train Acc: 44.16%, Val Acc: 46.64%, Test Acc: 39.46%\n",
            "Epoch 52/150, Train Loss: 2.0858, Val Loss: 2.0152, Test Loss: 2.3896\n",
            "Epoch 53/150, Train Acc: 44.34%, Val Acc: 48.21%, Test Acc: 40.99%\n",
            "Epoch 53/150, Train Loss: 2.0839, Val Loss: 1.9626, Test Loss: 2.3092\n",
            "Epoch 54/150, Train Acc: 44.90%, Val Acc: 48.78%, Test Acc: 41.59%\n",
            "Epoch 54/150, Train Loss: 2.0579, Val Loss: 1.9573, Test Loss: 2.2834\n",
            "Epoch 55/150, Train Acc: 45.14%, Val Acc: 47.43%, Test Acc: 41.01%\n",
            "Epoch 55/150, Train Loss: 2.0502, Val Loss: 1.9733, Test Loss: 2.2904\n",
            "Epoch 56/150, Train Acc: 45.37%, Val Acc: 48.29%, Test Acc: 41.80%\n",
            "Epoch 56/150, Train Loss: 2.0376, Val Loss: 1.9363, Test Loss: 2.2684\n",
            "Epoch 57/150, Train Acc: 45.34%, Val Acc: 48.52%, Test Acc: 40.69%\n",
            "Epoch 57/150, Train Loss: 2.0292, Val Loss: 1.9238, Test Loss: 2.2822\n",
            "Epoch 58/150, Train Acc: 45.52%, Val Acc: 48.16%, Test Acc: 41.40%\n",
            "Epoch 58/150, Train Loss: 2.0206, Val Loss: 1.9378, Test Loss: 2.2507\n",
            "Epoch 59/150, Train Acc: 45.83%, Val Acc: 47.77%, Test Acc: 41.79%\n",
            "Epoch 59/150, Train Loss: 2.0112, Val Loss: 1.9537, Test Loss: 2.2581\n",
            "Checkpoint saved at epoch 60: ./checkpoint_epoch_60.pth\n"
          ]
        },
        {
          "output_type": "display_data",
          "data": {
            "text/plain": [
              "<IPython.core.display.Javascript object>"
            ],
            "application/javascript": [
              "\n",
              "    async function download(id, filename, size) {\n",
              "      if (!google.colab.kernel.accessAllowed) {\n",
              "        return;\n",
              "      }\n",
              "      const div = document.createElement('div');\n",
              "      const label = document.createElement('label');\n",
              "      label.textContent = `Downloading \"${filename}\": `;\n",
              "      div.appendChild(label);\n",
              "      const progress = document.createElement('progress');\n",
              "      progress.max = size;\n",
              "      div.appendChild(progress);\n",
              "      document.body.appendChild(div);\n",
              "\n",
              "      const buffers = [];\n",
              "      let downloaded = 0;\n",
              "\n",
              "      const channel = await google.colab.kernel.comms.open(id);\n",
              "      // Send a message to notify the kernel that we're ready.\n",
              "      channel.send({})\n",
              "\n",
              "      for await (const message of channel.messages) {\n",
              "        // Send a message to notify the kernel that we're ready.\n",
              "        channel.send({})\n",
              "        if (message.buffers) {\n",
              "          for (const buffer of message.buffers) {\n",
              "            buffers.push(buffer);\n",
              "            downloaded += buffer.byteLength;\n",
              "            progress.value = downloaded;\n",
              "          }\n",
              "        }\n",
              "      }\n",
              "      const blob = new Blob(buffers, {type: 'application/binary'});\n",
              "      const a = document.createElement('a');\n",
              "      a.href = window.URL.createObjectURL(blob);\n",
              "      a.download = filename;\n",
              "      div.appendChild(a);\n",
              "      a.click();\n",
              "      div.remove();\n",
              "    }\n",
              "  "
            ]
          },
          "metadata": {}
        },
        {
          "output_type": "display_data",
          "data": {
            "text/plain": [
              "<IPython.core.display.Javascript object>"
            ],
            "application/javascript": [
              "download(\"download_ca912fd4-21b8-4df3-bb77-c0845c3d5c91\", \"checkpoint_epoch_60.pth\", 6529914)"
            ]
          },
          "metadata": {}
        },
        {
          "output_type": "stream",
          "name": "stdout",
          "text": [
            "Epoch 60/150, Train Acc: 46.21%, Val Acc: 47.72%, Test Acc: 41.18%\n",
            "Epoch 60/150, Train Loss: 1.9951, Val Loss: 1.9756, Test Loss: 2.2800\n",
            "Epoch 61/150, Train Acc: 46.19%, Val Acc: 47.88%, Test Acc: 41.45%\n",
            "Epoch 61/150, Train Loss: 1.9984, Val Loss: 1.9641, Test Loss: 2.2921\n",
            "Epoch 62/150, Train Acc: 46.57%, Val Acc: 50.02%, Test Acc: 42.69%\n",
            "Epoch 62/150, Train Loss: 1.9891, Val Loss: 1.8852, Test Loss: 2.2069\n",
            "Epoch 63/150, Train Acc: 46.46%, Val Acc: 48.03%, Test Acc: 41.42%\n",
            "Epoch 63/150, Train Loss: 1.9724, Val Loss: 1.9696, Test Loss: 2.2946\n",
            "Epoch 64/150, Train Acc: 46.58%, Val Acc: 49.52%, Test Acc: 42.67%\n",
            "Epoch 64/150, Train Loss: 1.9640, Val Loss: 1.9054, Test Loss: 2.2264\n",
            "Epoch 65/150, Train Acc: 47.46%, Val Acc: 48.99%, Test Acc: 42.73%\n",
            "Epoch 65/150, Train Loss: 1.9471, Val Loss: 1.9142, Test Loss: 2.2296\n",
            "Epoch 66/150, Train Acc: 47.55%, Val Acc: 49.24%, Test Acc: 43.36%\n",
            "Epoch 66/150, Train Loss: 1.9383, Val Loss: 1.9011, Test Loss: 2.1809\n",
            "Epoch 67/150, Train Acc: 47.47%, Val Acc: 49.60%, Test Acc: 43.69%\n",
            "Epoch 67/150, Train Loss: 1.9379, Val Loss: 1.8895, Test Loss: 2.2087\n",
            "Epoch 68/150, Train Acc: 47.73%, Val Acc: 49.23%, Test Acc: 42.25%\n",
            "Epoch 68/150, Train Loss: 1.9232, Val Loss: 1.8990, Test Loss: 2.2790\n",
            "Epoch 69/150, Train Acc: 47.77%, Val Acc: 49.94%, Test Acc: 42.12%\n",
            "Epoch 69/150, Train Loss: 1.9152, Val Loss: 1.8837, Test Loss: 2.2393\n",
            "Checkpoint saved at epoch 70: ./checkpoint_epoch_70.pth\n"
          ]
        },
        {
          "output_type": "display_data",
          "data": {
            "text/plain": [
              "<IPython.core.display.Javascript object>"
            ],
            "application/javascript": [
              "\n",
              "    async function download(id, filename, size) {\n",
              "      if (!google.colab.kernel.accessAllowed) {\n",
              "        return;\n",
              "      }\n",
              "      const div = document.createElement('div');\n",
              "      const label = document.createElement('label');\n",
              "      label.textContent = `Downloading \"${filename}\": `;\n",
              "      div.appendChild(label);\n",
              "      const progress = document.createElement('progress');\n",
              "      progress.max = size;\n",
              "      div.appendChild(progress);\n",
              "      document.body.appendChild(div);\n",
              "\n",
              "      const buffers = [];\n",
              "      let downloaded = 0;\n",
              "\n",
              "      const channel = await google.colab.kernel.comms.open(id);\n",
              "      // Send a message to notify the kernel that we're ready.\n",
              "      channel.send({})\n",
              "\n",
              "      for await (const message of channel.messages) {\n",
              "        // Send a message to notify the kernel that we're ready.\n",
              "        channel.send({})\n",
              "        if (message.buffers) {\n",
              "          for (const buffer of message.buffers) {\n",
              "            buffers.push(buffer);\n",
              "            downloaded += buffer.byteLength;\n",
              "            progress.value = downloaded;\n",
              "          }\n",
              "        }\n",
              "      }\n",
              "      const blob = new Blob(buffers, {type: 'application/binary'});\n",
              "      const a = document.createElement('a');\n",
              "      a.href = window.URL.createObjectURL(blob);\n",
              "      a.download = filename;\n",
              "      div.appendChild(a);\n",
              "      a.click();\n",
              "      div.remove();\n",
              "    }\n",
              "  "
            ]
          },
          "metadata": {}
        },
        {
          "output_type": "display_data",
          "data": {
            "text/plain": [
              "<IPython.core.display.Javascript object>"
            ],
            "application/javascript": [
              "download(\"download_9a946ecc-5d98-42fc-8c5b-ba68fd342537\", \"checkpoint_epoch_70.pth\", 6529914)"
            ]
          },
          "metadata": {}
        },
        {
          "output_type": "stream",
          "name": "stdout",
          "text": [
            "Epoch 70/150, Train Acc: 48.35%, Val Acc: 50.07%, Test Acc: 43.20%\n",
            "Epoch 70/150, Train Loss: 1.8978, Val Loss: 1.8757, Test Loss: 2.1851\n",
            "Epoch 71/150, Train Acc: 48.34%, Val Acc: 50.74%, Test Acc: 43.49%\n",
            "Epoch 71/150, Train Loss: 1.8941, Val Loss: 1.8635, Test Loss: 2.1761\n",
            "Epoch 72/150, Train Acc: 48.81%, Val Acc: 50.24%, Test Acc: 42.08%\n",
            "Epoch 72/150, Train Loss: 1.8842, Val Loss: 1.8680, Test Loss: 2.2497\n",
            "Epoch 73/150, Train Acc: 48.53%, Val Acc: 50.82%, Test Acc: 43.20%\n",
            "Epoch 73/150, Train Loss: 1.8777, Val Loss: 1.8669, Test Loss: 2.1706\n",
            "Epoch 74/150, Train Acc: 48.84%, Val Acc: 50.50%, Test Acc: 43.45%\n",
            "Epoch 74/150, Train Loss: 1.8755, Val Loss: 1.8485, Test Loss: 2.1625\n",
            "Epoch 75/150, Train Acc: 49.41%, Val Acc: 51.06%, Test Acc: 43.78%\n",
            "Epoch 75/150, Train Loss: 1.8564, Val Loss: 1.8280, Test Loss: 2.1633\n",
            "Epoch 76/150, Train Acc: 49.49%, Val Acc: 50.98%, Test Acc: 44.13%\n",
            "Epoch 76/150, Train Loss: 1.8452, Val Loss: 1.8362, Test Loss: 2.1728\n",
            "Epoch 77/150, Train Acc: 49.59%, Val Acc: 51.07%, Test Acc: 43.55%\n",
            "Epoch 77/150, Train Loss: 1.8350, Val Loss: 1.8221, Test Loss: 2.1810\n",
            "Epoch 78/150, Train Acc: 49.48%, Val Acc: 51.06%, Test Acc: 44.55%\n",
            "Epoch 78/150, Train Loss: 1.8422, Val Loss: 1.8353, Test Loss: 2.1376\n",
            "Epoch 79/150, Train Acc: 50.15%, Val Acc: 50.66%, Test Acc: 44.51%\n",
            "Epoch 79/150, Train Loss: 1.8157, Val Loss: 1.8377, Test Loss: 2.1412\n",
            "Checkpoint saved at epoch 80: ./checkpoint_epoch_80.pth\n"
          ]
        },
        {
          "output_type": "display_data",
          "data": {
            "text/plain": [
              "<IPython.core.display.Javascript object>"
            ],
            "application/javascript": [
              "\n",
              "    async function download(id, filename, size) {\n",
              "      if (!google.colab.kernel.accessAllowed) {\n",
              "        return;\n",
              "      }\n",
              "      const div = document.createElement('div');\n",
              "      const label = document.createElement('label');\n",
              "      label.textContent = `Downloading \"${filename}\": `;\n",
              "      div.appendChild(label);\n",
              "      const progress = document.createElement('progress');\n",
              "      progress.max = size;\n",
              "      div.appendChild(progress);\n",
              "      document.body.appendChild(div);\n",
              "\n",
              "      const buffers = [];\n",
              "      let downloaded = 0;\n",
              "\n",
              "      const channel = await google.colab.kernel.comms.open(id);\n",
              "      // Send a message to notify the kernel that we're ready.\n",
              "      channel.send({})\n",
              "\n",
              "      for await (const message of channel.messages) {\n",
              "        // Send a message to notify the kernel that we're ready.\n",
              "        channel.send({})\n",
              "        if (message.buffers) {\n",
              "          for (const buffer of message.buffers) {\n",
              "            buffers.push(buffer);\n",
              "            downloaded += buffer.byteLength;\n",
              "            progress.value = downloaded;\n",
              "          }\n",
              "        }\n",
              "      }\n",
              "      const blob = new Blob(buffers, {type: 'application/binary'});\n",
              "      const a = document.createElement('a');\n",
              "      a.href = window.URL.createObjectURL(blob);\n",
              "      a.download = filename;\n",
              "      div.appendChild(a);\n",
              "      a.click();\n",
              "      div.remove();\n",
              "    }\n",
              "  "
            ]
          },
          "metadata": {}
        },
        {
          "output_type": "display_data",
          "data": {
            "text/plain": [
              "<IPython.core.display.Javascript object>"
            ],
            "application/javascript": [
              "download(\"download_6781ef6a-d82e-4e42-81f4-93d17549b581\", \"checkpoint_epoch_80.pth\", 6529914)"
            ]
          },
          "metadata": {}
        },
        {
          "output_type": "stream",
          "name": "stdout",
          "text": [
            "Epoch 80/150, Train Acc: 50.37%, Val Acc: 51.41%, Test Acc: 44.59%\n",
            "Epoch 80/150, Train Loss: 1.8012, Val Loss: 1.8194, Test Loss: 2.1454\n",
            "Epoch 81/150, Train Acc: 50.52%, Val Acc: 51.97%, Test Acc: 44.20%\n",
            "Epoch 81/150, Train Loss: 1.8041, Val Loss: 1.8026, Test Loss: 2.1596\n",
            "Epoch 82/150, Train Acc: 50.78%, Val Acc: 51.66%, Test Acc: 45.32%\n",
            "Epoch 82/150, Train Loss: 1.7878, Val Loss: 1.7934, Test Loss: 2.0974\n",
            "Epoch 83/150, Train Acc: 50.95%, Val Acc: 51.88%, Test Acc: 44.89%\n",
            "Epoch 83/150, Train Loss: 1.7801, Val Loss: 1.7978, Test Loss: 2.1082\n",
            "Epoch 84/150, Train Acc: 50.90%, Val Acc: 52.21%, Test Acc: 44.19%\n",
            "Epoch 84/150, Train Loss: 1.7739, Val Loss: 1.7868, Test Loss: 2.1509\n",
            "Epoch 85/150, Train Acc: 51.22%, Val Acc: 52.44%, Test Acc: 45.78%\n",
            "Epoch 85/150, Train Loss: 1.7648, Val Loss: 1.7768, Test Loss: 2.0785\n",
            "Epoch 86/150, Train Acc: 51.45%, Val Acc: 51.47%, Test Acc: 45.46%\n",
            "Epoch 86/150, Train Loss: 1.7613, Val Loss: 1.7991, Test Loss: 2.1111\n",
            "Epoch 87/150, Train Acc: 51.74%, Val Acc: 51.89%, Test Acc: 44.88%\n",
            "Epoch 87/150, Train Loss: 1.7436, Val Loss: 1.7990, Test Loss: 2.1228\n",
            "Epoch 88/150, Train Acc: 51.90%, Val Acc: 52.04%, Test Acc: 45.84%\n",
            "Epoch 88/150, Train Loss: 1.7322, Val Loss: 1.7779, Test Loss: 2.0800\n",
            "Epoch 89/150, Train Acc: 52.20%, Val Acc: 52.89%, Test Acc: 46.14%\n",
            "Epoch 89/150, Train Loss: 1.7198, Val Loss: 1.7532, Test Loss: 2.0729\n",
            "Checkpoint saved at epoch 90: ./checkpoint_epoch_90.pth\n"
          ]
        },
        {
          "output_type": "display_data",
          "data": {
            "text/plain": [
              "<IPython.core.display.Javascript object>"
            ],
            "application/javascript": [
              "\n",
              "    async function download(id, filename, size) {\n",
              "      if (!google.colab.kernel.accessAllowed) {\n",
              "        return;\n",
              "      }\n",
              "      const div = document.createElement('div');\n",
              "      const label = document.createElement('label');\n",
              "      label.textContent = `Downloading \"${filename}\": `;\n",
              "      div.appendChild(label);\n",
              "      const progress = document.createElement('progress');\n",
              "      progress.max = size;\n",
              "      div.appendChild(progress);\n",
              "      document.body.appendChild(div);\n",
              "\n",
              "      const buffers = [];\n",
              "      let downloaded = 0;\n",
              "\n",
              "      const channel = await google.colab.kernel.comms.open(id);\n",
              "      // Send a message to notify the kernel that we're ready.\n",
              "      channel.send({})\n",
              "\n",
              "      for await (const message of channel.messages) {\n",
              "        // Send a message to notify the kernel that we're ready.\n",
              "        channel.send({})\n",
              "        if (message.buffers) {\n",
              "          for (const buffer of message.buffers) {\n",
              "            buffers.push(buffer);\n",
              "            downloaded += buffer.byteLength;\n",
              "            progress.value = downloaded;\n",
              "          }\n",
              "        }\n",
              "      }\n",
              "      const blob = new Blob(buffers, {type: 'application/binary'});\n",
              "      const a = document.createElement('a');\n",
              "      a.href = window.URL.createObjectURL(blob);\n",
              "      a.download = filename;\n",
              "      div.appendChild(a);\n",
              "      a.click();\n",
              "      div.remove();\n",
              "    }\n",
              "  "
            ]
          },
          "metadata": {}
        },
        {
          "output_type": "display_data",
          "data": {
            "text/plain": [
              "<IPython.core.display.Javascript object>"
            ],
            "application/javascript": [
              "download(\"download_e69508ec-e3ad-4e04-86fa-4a5175f1575a\", \"checkpoint_epoch_90.pth\", 6529914)"
            ]
          },
          "metadata": {}
        },
        {
          "output_type": "stream",
          "name": "stdout",
          "text": [
            "Epoch 90/150, Train Acc: 52.42%, Val Acc: 52.81%, Test Acc: 45.91%\n",
            "Epoch 90/150, Train Loss: 1.7150, Val Loss: 1.7579, Test Loss: 2.0522\n",
            "Epoch 91/150, Train Acc: 52.62%, Val Acc: 52.33%, Test Acc: 44.99%\n",
            "Epoch 91/150, Train Loss: 1.7103, Val Loss: 1.7852, Test Loss: 2.1115\n",
            "Epoch 92/150, Train Acc: 52.82%, Val Acc: 52.53%, Test Acc: 45.91%\n",
            "Epoch 92/150, Train Loss: 1.6967, Val Loss: 1.7564, Test Loss: 2.0786\n",
            "Epoch 93/150, Train Acc: 52.55%, Val Acc: 53.20%, Test Acc: 46.41%\n",
            "Epoch 93/150, Train Loss: 1.6911, Val Loss: 1.7519, Test Loss: 2.0701\n",
            "Epoch 94/150, Train Acc: 53.25%, Val Acc: 52.40%, Test Acc: 45.98%\n",
            "Epoch 94/150, Train Loss: 1.6764, Val Loss: 1.7639, Test Loss: 2.0677\n",
            "Epoch 95/150, Train Acc: 53.29%, Val Acc: 52.71%, Test Acc: 45.33%\n",
            "Epoch 95/150, Train Loss: 1.6778, Val Loss: 1.7709, Test Loss: 2.0927\n",
            "Epoch 96/150, Train Acc: 53.79%, Val Acc: 53.42%, Test Acc: 46.24%\n",
            "Epoch 96/150, Train Loss: 1.6589, Val Loss: 1.7327, Test Loss: 2.0658\n",
            "Epoch 97/150, Train Acc: 53.60%, Val Acc: 53.32%, Test Acc: 46.15%\n",
            "Epoch 97/150, Train Loss: 1.6576, Val Loss: 1.7339, Test Loss: 2.0695\n",
            "Epoch 98/150, Train Acc: 54.42%, Val Acc: 53.55%, Test Acc: 45.47%\n",
            "Epoch 98/150, Train Loss: 1.6340, Val Loss: 1.7246, Test Loss: 2.0704\n",
            "Epoch 99/150, Train Acc: 54.31%, Val Acc: 53.29%, Test Acc: 46.16%\n",
            "Epoch 99/150, Train Loss: 1.6365, Val Loss: 1.7369, Test Loss: 2.0773\n",
            "Checkpoint saved at epoch 100: ./checkpoint_epoch_100.pth\n"
          ]
        },
        {
          "output_type": "display_data",
          "data": {
            "text/plain": [
              "<IPython.core.display.Javascript object>"
            ],
            "application/javascript": [
              "\n",
              "    async function download(id, filename, size) {\n",
              "      if (!google.colab.kernel.accessAllowed) {\n",
              "        return;\n",
              "      }\n",
              "      const div = document.createElement('div');\n",
              "      const label = document.createElement('label');\n",
              "      label.textContent = `Downloading \"${filename}\": `;\n",
              "      div.appendChild(label);\n",
              "      const progress = document.createElement('progress');\n",
              "      progress.max = size;\n",
              "      div.appendChild(progress);\n",
              "      document.body.appendChild(div);\n",
              "\n",
              "      const buffers = [];\n",
              "      let downloaded = 0;\n",
              "\n",
              "      const channel = await google.colab.kernel.comms.open(id);\n",
              "      // Send a message to notify the kernel that we're ready.\n",
              "      channel.send({})\n",
              "\n",
              "      for await (const message of channel.messages) {\n",
              "        // Send a message to notify the kernel that we're ready.\n",
              "        channel.send({})\n",
              "        if (message.buffers) {\n",
              "          for (const buffer of message.buffers) {\n",
              "            buffers.push(buffer);\n",
              "            downloaded += buffer.byteLength;\n",
              "            progress.value = downloaded;\n",
              "          }\n",
              "        }\n",
              "      }\n",
              "      const blob = new Blob(buffers, {type: 'application/binary'});\n",
              "      const a = document.createElement('a');\n",
              "      a.href = window.URL.createObjectURL(blob);\n",
              "      a.download = filename;\n",
              "      div.appendChild(a);\n",
              "      a.click();\n",
              "      div.remove();\n",
              "    }\n",
              "  "
            ]
          },
          "metadata": {}
        },
        {
          "output_type": "display_data",
          "data": {
            "text/plain": [
              "<IPython.core.display.Javascript object>"
            ],
            "application/javascript": [
              "download(\"download_6dea1680-b73d-45a8-a461-a42c65b6c579\", \"checkpoint_epoch_100.pth\", 6529938)"
            ]
          },
          "metadata": {}
        },
        {
          "output_type": "stream",
          "name": "stdout",
          "text": [
            "Epoch 100/150, Train Acc: 54.44%, Val Acc: 53.98%, Test Acc: 46.32%\n",
            "Epoch 100/150, Train Loss: 1.6311, Val Loss: 1.7202, Test Loss: 2.0485\n",
            "Epoch 101/150, Train Acc: 54.98%, Val Acc: 53.46%, Test Acc: 46.82%\n",
            "Epoch 101/150, Train Loss: 1.6093, Val Loss: 1.7211, Test Loss: 2.0300\n",
            "Epoch 102/150, Train Acc: 54.88%, Val Acc: 54.12%, Test Acc: 46.84%\n",
            "Epoch 102/150, Train Loss: 1.6011, Val Loss: 1.7017, Test Loss: 2.0313\n",
            "Epoch 103/150, Train Acc: 55.12%, Val Acc: 54.36%, Test Acc: 47.39%\n",
            "Epoch 103/150, Train Loss: 1.5977, Val Loss: 1.7032, Test Loss: 2.0126\n",
            "Epoch 104/150, Train Acc: 55.40%, Val Acc: 53.86%, Test Acc: 47.35%\n",
            "Epoch 104/150, Train Loss: 1.5893, Val Loss: 1.7201, Test Loss: 2.0078\n",
            "Epoch 105/150, Train Acc: 55.51%, Val Acc: 54.63%, Test Acc: 47.73%\n",
            "Epoch 105/150, Train Loss: 1.5831, Val Loss: 1.6867, Test Loss: 1.9781\n",
            "Epoch 106/150, Train Acc: 55.51%, Val Acc: 54.37%, Test Acc: 47.44%\n",
            "Epoch 106/150, Train Loss: 1.5695, Val Loss: 1.6829, Test Loss: 2.0176\n",
            "Epoch 107/150, Train Acc: 55.87%, Val Acc: 54.68%, Test Acc: 47.16%\n",
            "Epoch 107/150, Train Loss: 1.5687, Val Loss: 1.7006, Test Loss: 2.0208\n",
            "Epoch 108/150, Train Acc: 56.19%, Val Acc: 54.87%, Test Acc: 47.13%\n",
            "Epoch 108/150, Train Loss: 1.5570, Val Loss: 1.6919, Test Loss: 2.0055\n",
            "Epoch 109/150, Train Acc: 56.41%, Val Acc: 54.75%, Test Acc: 47.47%\n",
            "Epoch 109/150, Train Loss: 1.5404, Val Loss: 1.6956, Test Loss: 1.9960\n",
            "Checkpoint saved at epoch 110: ./checkpoint_epoch_110.pth\n"
          ]
        },
        {
          "output_type": "display_data",
          "data": {
            "text/plain": [
              "<IPython.core.display.Javascript object>"
            ],
            "application/javascript": [
              "\n",
              "    async function download(id, filename, size) {\n",
              "      if (!google.colab.kernel.accessAllowed) {\n",
              "        return;\n",
              "      }\n",
              "      const div = document.createElement('div');\n",
              "      const label = document.createElement('label');\n",
              "      label.textContent = `Downloading \"${filename}\": `;\n",
              "      div.appendChild(label);\n",
              "      const progress = document.createElement('progress');\n",
              "      progress.max = size;\n",
              "      div.appendChild(progress);\n",
              "      document.body.appendChild(div);\n",
              "\n",
              "      const buffers = [];\n",
              "      let downloaded = 0;\n",
              "\n",
              "      const channel = await google.colab.kernel.comms.open(id);\n",
              "      // Send a message to notify the kernel that we're ready.\n",
              "      channel.send({})\n",
              "\n",
              "      for await (const message of channel.messages) {\n",
              "        // Send a message to notify the kernel that we're ready.\n",
              "        channel.send({})\n",
              "        if (message.buffers) {\n",
              "          for (const buffer of message.buffers) {\n",
              "            buffers.push(buffer);\n",
              "            downloaded += buffer.byteLength;\n",
              "            progress.value = downloaded;\n",
              "          }\n",
              "        }\n",
              "      }\n",
              "      const blob = new Blob(buffers, {type: 'application/binary'});\n",
              "      const a = document.createElement('a');\n",
              "      a.href = window.URL.createObjectURL(blob);\n",
              "      a.download = filename;\n",
              "      div.appendChild(a);\n",
              "      a.click();\n",
              "      div.remove();\n",
              "    }\n",
              "  "
            ]
          },
          "metadata": {}
        },
        {
          "output_type": "display_data",
          "data": {
            "text/plain": [
              "<IPython.core.display.Javascript object>"
            ],
            "application/javascript": [
              "download(\"download_aafbe7b8-5a6b-44af-bd6a-082eeccfc234\", \"checkpoint_epoch_110.pth\", 6529938)"
            ]
          },
          "metadata": {}
        },
        {
          "output_type": "stream",
          "name": "stdout",
          "text": [
            "Epoch 110/150, Train Acc: 56.41%, Val Acc: 54.76%, Test Acc: 46.71%\n",
            "Epoch 110/150, Train Loss: 1.5434, Val Loss: 1.6802, Test Loss: 2.0271\n",
            "Epoch 111/150, Train Acc: 56.72%, Val Acc: 55.36%, Test Acc: 48.28%\n",
            "Epoch 111/150, Train Loss: 1.5287, Val Loss: 1.6684, Test Loss: 1.9528\n",
            "Epoch 112/150, Train Acc: 56.63%, Val Acc: 55.49%, Test Acc: 48.07%\n",
            "Epoch 112/150, Train Loss: 1.5250, Val Loss: 1.6732, Test Loss: 1.9653\n",
            "Epoch 113/150, Train Acc: 56.77%, Val Acc: 54.55%, Test Acc: 48.27%\n",
            "Epoch 113/150, Train Loss: 1.5177, Val Loss: 1.6756, Test Loss: 1.9648\n",
            "Epoch 114/150, Train Acc: 56.99%, Val Acc: 55.29%, Test Acc: 48.20%\n",
            "Epoch 114/150, Train Loss: 1.5154, Val Loss: 1.6599, Test Loss: 1.9687\n",
            "Epoch 115/150, Train Acc: 57.23%, Val Acc: 55.26%, Test Acc: 47.44%\n",
            "Epoch 115/150, Train Loss: 1.4994, Val Loss: 1.6715, Test Loss: 1.9861\n",
            "Epoch 116/150, Train Acc: 57.58%, Val Acc: 55.35%, Test Acc: 48.68%\n",
            "Epoch 116/150, Train Loss: 1.5041, Val Loss: 1.6558, Test Loss: 1.9487\n",
            "Epoch 117/150, Train Acc: 58.13%, Val Acc: 55.34%, Test Acc: 47.59%\n",
            "Epoch 117/150, Train Loss: 1.4845, Val Loss: 1.6491, Test Loss: 1.9835\n",
            "Epoch 118/150, Train Acc: 57.77%, Val Acc: 55.37%, Test Acc: 48.69%\n",
            "Epoch 118/150, Train Loss: 1.4837, Val Loss: 1.6518, Test Loss: 1.9568\n",
            "Epoch 119/150, Train Acc: 58.02%, Val Acc: 55.73%, Test Acc: 47.88%\n",
            "Epoch 119/150, Train Loss: 1.4806, Val Loss: 1.6496, Test Loss: 1.9844\n",
            "Checkpoint saved at epoch 120: ./checkpoint_epoch_120.pth\n"
          ]
        },
        {
          "output_type": "display_data",
          "data": {
            "text/plain": [
              "<IPython.core.display.Javascript object>"
            ],
            "application/javascript": [
              "\n",
              "    async function download(id, filename, size) {\n",
              "      if (!google.colab.kernel.accessAllowed) {\n",
              "        return;\n",
              "      }\n",
              "      const div = document.createElement('div');\n",
              "      const label = document.createElement('label');\n",
              "      label.textContent = `Downloading \"${filename}\": `;\n",
              "      div.appendChild(label);\n",
              "      const progress = document.createElement('progress');\n",
              "      progress.max = size;\n",
              "      div.appendChild(progress);\n",
              "      document.body.appendChild(div);\n",
              "\n",
              "      const buffers = [];\n",
              "      let downloaded = 0;\n",
              "\n",
              "      const channel = await google.colab.kernel.comms.open(id);\n",
              "      // Send a message to notify the kernel that we're ready.\n",
              "      channel.send({})\n",
              "\n",
              "      for await (const message of channel.messages) {\n",
              "        // Send a message to notify the kernel that we're ready.\n",
              "        channel.send({})\n",
              "        if (message.buffers) {\n",
              "          for (const buffer of message.buffers) {\n",
              "            buffers.push(buffer);\n",
              "            downloaded += buffer.byteLength;\n",
              "            progress.value = downloaded;\n",
              "          }\n",
              "        }\n",
              "      }\n",
              "      const blob = new Blob(buffers, {type: 'application/binary'});\n",
              "      const a = document.createElement('a');\n",
              "      a.href = window.URL.createObjectURL(blob);\n",
              "      a.download = filename;\n",
              "      div.appendChild(a);\n",
              "      a.click();\n",
              "      div.remove();\n",
              "    }\n",
              "  "
            ]
          },
          "metadata": {}
        },
        {
          "output_type": "display_data",
          "data": {
            "text/plain": [
              "<IPython.core.display.Javascript object>"
            ],
            "application/javascript": [
              "download(\"download_fa685a06-a220-483c-b3fc-e7f0daab3dda\", \"checkpoint_epoch_120.pth\", 6529938)"
            ]
          },
          "metadata": {}
        },
        {
          "output_type": "stream",
          "name": "stdout",
          "text": [
            "Epoch 120/150, Train Acc: 58.09%, Val Acc: 55.49%, Test Acc: 48.49%\n",
            "Epoch 120/150, Train Loss: 1.4692, Val Loss: 1.6515, Test Loss: 1.9388\n",
            "Epoch 121/150, Train Acc: 58.21%, Val Acc: 55.50%, Test Acc: 48.59%\n",
            "Epoch 121/150, Train Loss: 1.4658, Val Loss: 1.6387, Test Loss: 1.9377\n",
            "Epoch 122/150, Train Acc: 58.79%, Val Acc: 56.19%, Test Acc: 48.66%\n",
            "Epoch 122/150, Train Loss: 1.4511, Val Loss: 1.6361, Test Loss: 1.9409\n",
            "Epoch 123/150, Train Acc: 58.63%, Val Acc: 55.48%, Test Acc: 48.55%\n",
            "Epoch 123/150, Train Loss: 1.4537, Val Loss: 1.6426, Test Loss: 1.9406\n",
            "Epoch 124/150, Train Acc: 58.65%, Val Acc: 55.66%, Test Acc: 48.73%\n",
            "Epoch 124/150, Train Loss: 1.4421, Val Loss: 1.6438, Test Loss: 1.9350\n",
            "Epoch 125/150, Train Acc: 58.89%, Val Acc: 55.98%, Test Acc: 48.55%\n",
            "Epoch 125/150, Train Loss: 1.4391, Val Loss: 1.6270, Test Loss: 1.9338\n",
            "Epoch 126/150, Train Acc: 58.94%, Val Acc: 55.77%, Test Acc: 48.97%\n",
            "Epoch 126/150, Train Loss: 1.4372, Val Loss: 1.6306, Test Loss: 1.9218\n",
            "Epoch 127/150, Train Acc: 59.20%, Val Acc: 56.19%, Test Acc: 48.89%\n",
            "Epoch 127/150, Train Loss: 1.4263, Val Loss: 1.6340, Test Loss: 1.9243\n",
            "Epoch 128/150, Train Acc: 59.69%, Val Acc: 56.29%, Test Acc: 49.13%\n",
            "Epoch 128/150, Train Loss: 1.4191, Val Loss: 1.6268, Test Loss: 1.9183\n",
            "Epoch 129/150, Train Acc: 59.12%, Val Acc: 55.85%, Test Acc: 49.17%\n",
            "Epoch 129/150, Train Loss: 1.4252, Val Loss: 1.6224, Test Loss: 1.9065\n",
            "Checkpoint saved at epoch 130: ./checkpoint_epoch_130.pth\n"
          ]
        },
        {
          "output_type": "display_data",
          "data": {
            "text/plain": [
              "<IPython.core.display.Javascript object>"
            ],
            "application/javascript": [
              "\n",
              "    async function download(id, filename, size) {\n",
              "      if (!google.colab.kernel.accessAllowed) {\n",
              "        return;\n",
              "      }\n",
              "      const div = document.createElement('div');\n",
              "      const label = document.createElement('label');\n",
              "      label.textContent = `Downloading \"${filename}\": `;\n",
              "      div.appendChild(label);\n",
              "      const progress = document.createElement('progress');\n",
              "      progress.max = size;\n",
              "      div.appendChild(progress);\n",
              "      document.body.appendChild(div);\n",
              "\n",
              "      const buffers = [];\n",
              "      let downloaded = 0;\n",
              "\n",
              "      const channel = await google.colab.kernel.comms.open(id);\n",
              "      // Send a message to notify the kernel that we're ready.\n",
              "      channel.send({})\n",
              "\n",
              "      for await (const message of channel.messages) {\n",
              "        // Send a message to notify the kernel that we're ready.\n",
              "        channel.send({})\n",
              "        if (message.buffers) {\n",
              "          for (const buffer of message.buffers) {\n",
              "            buffers.push(buffer);\n",
              "            downloaded += buffer.byteLength;\n",
              "            progress.value = downloaded;\n",
              "          }\n",
              "        }\n",
              "      }\n",
              "      const blob = new Blob(buffers, {type: 'application/binary'});\n",
              "      const a = document.createElement('a');\n",
              "      a.href = window.URL.createObjectURL(blob);\n",
              "      a.download = filename;\n",
              "      div.appendChild(a);\n",
              "      a.click();\n",
              "      div.remove();\n",
              "    }\n",
              "  "
            ]
          },
          "metadata": {}
        },
        {
          "output_type": "display_data",
          "data": {
            "text/plain": [
              "<IPython.core.display.Javascript object>"
            ],
            "application/javascript": [
              "download(\"download_435a8c63-0b38-400b-95e1-771f2f700a16\", \"checkpoint_epoch_130.pth\", 6529938)"
            ]
          },
          "metadata": {}
        },
        {
          "output_type": "stream",
          "name": "stdout",
          "text": [
            "Epoch 130/150, Train Acc: 59.55%, Val Acc: 56.16%, Test Acc: 48.95%\n",
            "Epoch 130/150, Train Loss: 1.4122, Val Loss: 1.6222, Test Loss: 1.9184\n",
            "Epoch 131/150, Train Acc: 59.61%, Val Acc: 56.35%, Test Acc: 48.93%\n",
            "Epoch 131/150, Train Loss: 1.4081, Val Loss: 1.6234, Test Loss: 1.9232\n",
            "Epoch 132/150, Train Acc: 59.55%, Val Acc: 56.14%, Test Acc: 49.52%\n",
            "Epoch 132/150, Train Loss: 1.4144, Val Loss: 1.6248, Test Loss: 1.8993\n",
            "Epoch 133/150, Train Acc: 59.90%, Val Acc: 56.21%, Test Acc: 49.10%\n",
            "Epoch 133/150, Train Loss: 1.3976, Val Loss: 1.6170, Test Loss: 1.9077\n",
            "Epoch 134/150, Train Acc: 59.70%, Val Acc: 56.32%, Test Acc: 49.23%\n",
            "Epoch 134/150, Train Loss: 1.4057, Val Loss: 1.6157, Test Loss: 1.9182\n",
            "Epoch 135/150, Train Acc: 59.95%, Val Acc: 56.26%, Test Acc: 49.04%\n",
            "Epoch 135/150, Train Loss: 1.3996, Val Loss: 1.6225, Test Loss: 1.9112\n",
            "Epoch 136/150, Train Acc: 59.86%, Val Acc: 56.66%, Test Acc: 48.93%\n",
            "Epoch 136/150, Train Loss: 1.3983, Val Loss: 1.6158, Test Loss: 1.9104\n",
            "Epoch 137/150, Train Acc: 60.20%, Val Acc: 56.63%, Test Acc: 49.27%\n",
            "Epoch 137/150, Train Loss: 1.3877, Val Loss: 1.6149, Test Loss: 1.9059\n",
            "Epoch 138/150, Train Acc: 60.29%, Val Acc: 56.48%, Test Acc: 49.32%\n",
            "Epoch 138/150, Train Loss: 1.3786, Val Loss: 1.6153, Test Loss: 1.9042\n",
            "Epoch 139/150, Train Acc: 60.15%, Val Acc: 56.66%, Test Acc: 49.49%\n",
            "Epoch 139/150, Train Loss: 1.3926, Val Loss: 1.6133, Test Loss: 1.9016\n",
            "Checkpoint saved at epoch 140: ./checkpoint_epoch_140.pth\n"
          ]
        },
        {
          "output_type": "display_data",
          "data": {
            "text/plain": [
              "<IPython.core.display.Javascript object>"
            ],
            "application/javascript": [
              "\n",
              "    async function download(id, filename, size) {\n",
              "      if (!google.colab.kernel.accessAllowed) {\n",
              "        return;\n",
              "      }\n",
              "      const div = document.createElement('div');\n",
              "      const label = document.createElement('label');\n",
              "      label.textContent = `Downloading \"${filename}\": `;\n",
              "      div.appendChild(label);\n",
              "      const progress = document.createElement('progress');\n",
              "      progress.max = size;\n",
              "      div.appendChild(progress);\n",
              "      document.body.appendChild(div);\n",
              "\n",
              "      const buffers = [];\n",
              "      let downloaded = 0;\n",
              "\n",
              "      const channel = await google.colab.kernel.comms.open(id);\n",
              "      // Send a message to notify the kernel that we're ready.\n",
              "      channel.send({})\n",
              "\n",
              "      for await (const message of channel.messages) {\n",
              "        // Send a message to notify the kernel that we're ready.\n",
              "        channel.send({})\n",
              "        if (message.buffers) {\n",
              "          for (const buffer of message.buffers) {\n",
              "            buffers.push(buffer);\n",
              "            downloaded += buffer.byteLength;\n",
              "            progress.value = downloaded;\n",
              "          }\n",
              "        }\n",
              "      }\n",
              "      const blob = new Blob(buffers, {type: 'application/binary'});\n",
              "      const a = document.createElement('a');\n",
              "      a.href = window.URL.createObjectURL(blob);\n",
              "      a.download = filename;\n",
              "      div.appendChild(a);\n",
              "      a.click();\n",
              "      div.remove();\n",
              "    }\n",
              "  "
            ]
          },
          "metadata": {}
        },
        {
          "output_type": "display_data",
          "data": {
            "text/plain": [
              "<IPython.core.display.Javascript object>"
            ],
            "application/javascript": [
              "download(\"download_3c43732b-8b24-45ee-ad85-4be16937f1d0\", \"checkpoint_epoch_140.pth\", 6529938)"
            ]
          },
          "metadata": {}
        },
        {
          "output_type": "stream",
          "name": "stdout",
          "text": [
            "Epoch 140/150, Train Acc: 60.12%, Val Acc: 56.55%, Test Acc: 49.44%\n",
            "Epoch 140/150, Train Loss: 1.3830, Val Loss: 1.6134, Test Loss: 1.9034\n",
            "Epoch 141/150, Train Acc: 60.25%, Val Acc: 56.50%, Test Acc: 49.56%\n",
            "Epoch 141/150, Train Loss: 1.3806, Val Loss: 1.6099, Test Loss: 1.8999\n",
            "Epoch 142/150, Train Acc: 60.35%, Val Acc: 56.66%, Test Acc: 49.29%\n",
            "Epoch 142/150, Train Loss: 1.3865, Val Loss: 1.6105, Test Loss: 1.9009\n",
            "Epoch 143/150, Train Acc: 60.54%, Val Acc: 56.62%, Test Acc: 49.44%\n",
            "Epoch 143/150, Train Loss: 1.3779, Val Loss: 1.6104, Test Loss: 1.8972\n",
            "Epoch 144/150, Train Acc: 60.31%, Val Acc: 56.71%, Test Acc: 49.41%\n",
            "Epoch 144/150, Train Loss: 1.3900, Val Loss: 1.6092, Test Loss: 1.8969\n",
            "Epoch 145/150, Train Acc: 60.42%, Val Acc: 56.79%, Test Acc: 49.58%\n",
            "Epoch 145/150, Train Loss: 1.3759, Val Loss: 1.6088, Test Loss: 1.8973\n",
            "Epoch 146/150, Train Acc: 60.48%, Val Acc: 56.86%, Test Acc: 49.51%\n",
            "Epoch 146/150, Train Loss: 1.3728, Val Loss: 1.6084, Test Loss: 1.8964\n",
            "Epoch 147/150, Train Acc: 60.39%, Val Acc: 56.86%, Test Acc: 49.53%\n",
            "Epoch 147/150, Train Loss: 1.3807, Val Loss: 1.6083, Test Loss: 1.8940\n",
            "Epoch 148/150, Train Acc: 60.49%, Val Acc: 56.76%, Test Acc: 49.61%\n",
            "Epoch 148/150, Train Loss: 1.3807, Val Loss: 1.6084, Test Loss: 1.8947\n",
            "Epoch 149/150, Train Acc: 60.39%, Val Acc: 56.78%, Test Acc: 49.56%\n",
            "Epoch 149/150, Train Loss: 1.3761, Val Loss: 1.6083, Test Loss: 1.8958\n",
            "Checkpoint saved at epoch 150: ./checkpoint_epoch_150.pth\n"
          ]
        },
        {
          "output_type": "display_data",
          "data": {
            "text/plain": [
              "<IPython.core.display.Javascript object>"
            ],
            "application/javascript": [
              "\n",
              "    async function download(id, filename, size) {\n",
              "      if (!google.colab.kernel.accessAllowed) {\n",
              "        return;\n",
              "      }\n",
              "      const div = document.createElement('div');\n",
              "      const label = document.createElement('label');\n",
              "      label.textContent = `Downloading \"${filename}\": `;\n",
              "      div.appendChild(label);\n",
              "      const progress = document.createElement('progress');\n",
              "      progress.max = size;\n",
              "      div.appendChild(progress);\n",
              "      document.body.appendChild(div);\n",
              "\n",
              "      const buffers = [];\n",
              "      let downloaded = 0;\n",
              "\n",
              "      const channel = await google.colab.kernel.comms.open(id);\n",
              "      // Send a message to notify the kernel that we're ready.\n",
              "      channel.send({})\n",
              "\n",
              "      for await (const message of channel.messages) {\n",
              "        // Send a message to notify the kernel that we're ready.\n",
              "        channel.send({})\n",
              "        if (message.buffers) {\n",
              "          for (const buffer of message.buffers) {\n",
              "            buffers.push(buffer);\n",
              "            downloaded += buffer.byteLength;\n",
              "            progress.value = downloaded;\n",
              "          }\n",
              "        }\n",
              "      }\n",
              "      const blob = new Blob(buffers, {type: 'application/binary'});\n",
              "      const a = document.createElement('a');\n",
              "      a.href = window.URL.createObjectURL(blob);\n",
              "      a.download = filename;\n",
              "      div.appendChild(a);\n",
              "      a.click();\n",
              "      div.remove();\n",
              "    }\n",
              "  "
            ]
          },
          "metadata": {}
        },
        {
          "output_type": "display_data",
          "data": {
            "text/plain": [
              "<IPython.core.display.Javascript object>"
            ],
            "application/javascript": [
              "download(\"download_54305670-b88b-4c2e-85b4-b49b498052b3\", \"checkpoint_epoch_150.pth\", 6529938)"
            ]
          },
          "metadata": {}
        },
        {
          "output_type": "stream",
          "name": "stdout",
          "text": [
            "Epoch 150/150, Train Acc: 60.24%, Val Acc: 56.78%, Test Acc: 49.55%\n",
            "Epoch 150/150, Train Loss: 1.3797, Val Loss: 1.6082, Test Loss: 1.8958\n"
          ]
        },
        {
          "output_type": "display_data",
          "data": {
            "text/plain": [
              "<Figure size 600x400 with 1 Axes>"
            ],
            "image/png": "[encoded data removed]"
          },
          "metadata": {}
        },
        {
          "output_type": "display_data",
          "data": {
            "text/plain": [
              "<Figure size 600x400 with 1 Axes>"
            ],
            "image/png": "[encoded data removed]"
          },
          "metadata": {}
        },
        {
          "output_type": "display_data",
          "data": {
            "text/plain": [
              "<Figure size 600x400 with 1 Axes>"
            ],
            "image/png": "[encoded data removed]"
          },
          "metadata": {}
        },
        {
          "output_type": "display_data",
          "data": {
            "text/plain": [
              "<Figure size 600x400 with 1 Axes>"
            ],
            "image/png": "[encoded data removed]"
          },
          "metadata": {}
        },
        {
          "output_type": "display_data",
          "data": {
            "text/plain": [
              "<Figure size 600x400 with 1 Axes>"
            ],
            "image/png": "[encoded data removed]"
          },
          "metadata": {}
        },
        {
          "output_type": "display_data",
          "data": {
            "text/plain": [
              "<Figure size 600x400 with 1 Axes>"
            ],
            "image/png": "[encoded data removed]"
          },
          "metadata": {}
        }
      ],
      "source": [
        "import os\n",
        "import numpy as np\n",
        "import torch\n",
        "import torch.nn as nn\n",
        "import torch.optim as optim\n",
        "import torchvision\n",
        "import torchvision.transforms as transforms\n",
        "import matplotlib.pyplot as plt\n",
        "from torch.utils.data import random_split\n",
        "from google.colab import files\n",
        "\n",
        "\n",
        "# Training settings\n",
        "# epochs, batch sized and momentum are fixed values\n",
        "epochs = 150\n",
        "batch_size = 64\n",
        "momentum = 0.9\n",
        "# weight decay and learning rate are adjustable\n",
        "weight_decay = 4e-4\n",
        "lr = 1e-2\n",
        "\n",
        "def compute_mean_std(dataset):\n",
        "    \"\"\"Compute the mean and std of CIFAR-100 dataset.\n",
        "\n",
        "    Args:\n",
        "        dataset: A dataset derived from `torch.utils.data.Dataset`,\n",
        "                 such as `cifar100_training_dataset` or `cifar100_test_dataset`.\n",
        "\n",
        "    Returns:\n",
        "        A tuple containing (mean, std) for the entire dataset.\n",
        "    \"\"\"\n",
        "\n",
        "    # Extract images and labels\n",
        "    data_r = np.stack([np.array(dataset[i][0])[:, :, 0] for i in range(len(dataset))])\n",
        "    data_g = np.stack([np.array(dataset[i][0])[:, :, 1] for i in range(len(dataset))])\n",
        "    data_b = np.stack([np.array(dataset[i][0])[:, :, 2] for i in range(len(dataset))])\n",
        "\n",
        "    # Compute mean and std\n",
        "    mean = np.mean(data_r), np.mean(data_g), np.mean(data_b)\n",
        "    std = np.std(data_r), np.std(data_g), np.std(data_b)\n",
        "\n",
        "    return mean, std\n",
        "\n",
        "\n",
        "# Define LeNet-5 architecture\n",
        "class LeNet5(nn.Module):\n",
        "    def __init__(self):\n",
        "        super(LeNet5, self).__init__()\n",
        "        self.conv1 = nn.Conv2d(3, 64, 5)\n",
        "        self.relu1 = nn.ReLU()\n",
        "        self.pool1 = nn.MaxPool2d(2, 2)\n",
        "        self.conv2 = nn.Conv2d(64, 64, 5)\n",
        "        self.relu2 = nn.ReLU()\n",
        "        self.pool2 = nn.MaxPool2d(2, 2)\n",
        "        self.fc1 = nn.Linear(64 * 5 * 5, 384)\n",
        "        self.relu3 = nn.ReLU()\n",
        "        self.drop1 = nn.Dropout(p=0.3)\n",
        "        self.fc2 = nn.Linear(384, 192)\n",
        "        self.relu4 = nn.ReLU()\n",
        "        self.drop2 = nn.Dropout(p=0.3)\n",
        "        self.fc3 = nn.Linear(192, 100)\n",
        "\n",
        "    def forward(self, x):\n",
        "        x = self.pool1(self.relu1(self.conv1(x)))\n",
        "        x = self.pool2(self.relu2(self.conv2(x)))\n",
        "        x = x.view(-1, 64 * 5 * 5)\n",
        "        x = self.relu3(self.fc1(x))\n",
        "        x = self.drop1(x)  # Apply first dropout\n",
        "        x = self.relu4(self.fc2(x))\n",
        "        x = self.drop2(x)  # Apply first dropout\n",
        "        x = self.fc3(x)\n",
        "        return x\n",
        "\n",
        "torch.manual_seed(42) # Set the seed for reproducibility\n",
        "torch.cuda.manual_seed_all(42) # Set the seed for reproducibility on GPU\n",
        "\n",
        "# use the same mean and std to add consistency to all datasets\n",
        "data = torchvision.datasets.CIFAR100(root='./data', train=True, download=True, transform=transforms.ToTensor())\n",
        "mean, std = compute_mean_std(data)\n",
        "\n",
        "# Load and split CIFAR-100 dataset\n",
        "train_transform = transforms.Compose([\n",
        "  transforms.RandomCrop(32, padding=4),\n",
        "  transforms.RandomHorizontalFlip(),\n",
        "  transforms.ToTensor(),\n",
        "  transforms.Normalize(mean, std)\n",
        "])\n",
        "\n",
        "val_transform = transforms.Compose([\n",
        "    transforms.ToTensor(), # Convert into tensor\n",
        "    transforms.Normalize(mean, std)  # Normalization\n",
        "])\n",
        "\n",
        "test_transform = transforms.Compose([\n",
        "    transforms.CenterCrop(24),\n",
        "    transforms.Pad(4),\n",
        "    transforms.ToTensor(),  # Convert to PyTorch tensor\n",
        "    transforms.Normalize(mean, std)\n",
        "])\n",
        "\n",
        "trainset = torchvision.datasets.CIFAR100(root='./data', train=True, download=True, transform=train_transform)\n",
        "valset = torchvision.datasets.CIFAR100(root='./data', train=True, download=True, transform=val_transform)\n",
        "indices = torch.randperm(len(trainset))\n",
        "val_size = int(0.2*len(trainset))\n",
        "trainset = torch.utils.data.Subset(trainset, indices[:-val_size])\n",
        "valset = torch.utils.data.Subset(valset, indices[-val_size:])\n",
        "\n",
        "trainloader = torch.utils.data.DataLoader(trainset, batch_size=batch_size, shuffle=True, num_workers=2)\n",
        "valloader = torch.utils.data.DataLoader(valset, batch_size=batch_size, shuffle=False, num_workers=2)\n",
        "\n",
        "testset = torchvision.datasets.CIFAR100(root='./data', train=False, download=True, transform=test_transform)\n",
        "testloader = torch.utils.data.DataLoader(testset, batch_size=batch_size, shuffle=False, num_workers=2)\n",
        "\n",
        "# Device setup\n",
        "device = torch.device(\"cuda:0\" if torch.cuda.is_available() else \"cpu\")\n",
        "\n",
        "# Initialize model\n",
        "net_sgdm = LeNet5().to(device)\n",
        "\n",
        "# Loss function\n",
        "criterion = nn.CrossEntropyLoss()\n",
        "\n",
        "# Optimizer and scheduler\n",
        "sgdm_optimizer = optim.SGD(net_sgdm.parameters(), lr=lr, momentum=momentum, weight_decay=weight_decay)\n",
        "scheduler_sgdm = optim.lr_scheduler.CosineAnnealingLR(sgdm_optimizer, T_max=150)\n",
        "\n",
        "# Training function\n",
        "def train_model(optimizer, scheduler, model, criterion, trainloader, valloader , testloader, device, epochs, save_checkpoint_interval=10):\n",
        "    train_losses, val_losses, test_losses = [], [], []\n",
        "    train_accuracies, val_accuracies, test_accuracies = [], [], []\n",
        "    for epoch in range(epochs):\n",
        "        model.train()\n",
        "        running_loss, correct_train, total_train = 0.0, 0, 0\n",
        "        for inputs, labels in trainloader:\n",
        "            inputs, labels = inputs.to(device), labels.to(device)\n",
        "            optimizer.zero_grad()\n",
        "            outputs = model(inputs)\n",
        "            loss = criterion(outputs, labels)\n",
        "            loss.backward()\n",
        "            optimizer.step()\n",
        "            running_loss += loss.item()\n",
        "            _, predicted = outputs.max(1)\n",
        "            total_train += labels.size(0)\n",
        "            correct_train += predicted.eq(labels).sum().item()\n",
        "        train_loss = running_loss / len(trainloader)\n",
        "        train_accuracy = 100. * correct_train / total_train\n",
        "        train_losses.append(train_loss)\n",
        "        train_accuracies.append(train_accuracy)\n",
        "\n",
        "        # Validation\n",
        "        model.eval()\n",
        "        correct_val, total_val, val_loss = 0, 0, 0.0\n",
        "        with torch.no_grad():\n",
        "            for inputs, labels in valloader:\n",
        "                inputs, labels = inputs.to(device), labels.to(device)\n",
        "                outputs = model(inputs)\n",
        "                loss = criterion(outputs, labels)\n",
        "                val_loss += loss.item()\n",
        "                _, predicted = outputs.max(1)\n",
        "                total_val += labels.size(0)\n",
        "                correct_val += predicted.eq(labels).sum().item()\n",
        "        val_loss /= len(valloader)\n",
        "        val_losses.append(val_loss)\n",
        "        val_accuracy = 100. * correct_val / total_val\n",
        "        val_accuracies.append(val_accuracy)\n",
        "\n",
        "        # Test\n",
        "        correct_test, total_test, test_loss = 0, 0, 0.0\n",
        "        with torch.no_grad():\n",
        "            for inputs, labels in testloader:\n",
        "                inputs, labels = inputs.to(device), labels.to(device)\n",
        "                outputs = model(inputs)\n",
        "                loss = criterion(outputs, labels)\n",
        "                test_loss += loss.item()\n",
        "                _, predicted = outputs.max(1)\n",
        "                total_test += labels.size(0)\n",
        "                correct_test += predicted.eq(labels).sum().item()\n",
        "        test_loss /= len(testloader)\n",
        "        test_losses.append(test_loss)\n",
        "        test_accuracy = 100. * correct_test / total_test\n",
        "        test_accuracies.append(test_accuracy)\n",
        "\n",
        "        scheduler.step()\n",
        "\n",
        "        # Checkpointing\n",
        "        if (epoch + 1) % save_checkpoint_interval == 0:\n",
        "            checkpoint_filename = f'checkpoint_epoch_{epoch + 1}.pth'\n",
        "            checkpoint = {\n",
        "                'epoch': epoch + 1,\n",
        "                'model_state_dict': model.state_dict(),\n",
        "                'optimizer_state_dict': optimizer.state_dict(),\n",
        "                'loss': loss.item(),\n",
        "            }\n",
        "            checkpoint_path = os.path.join('./', checkpoint_filename)\n",
        "            torch.save(checkpoint, checkpoint_path)\n",
        "            print(f'Checkpoint saved at epoch {epoch + 1}: {checkpoint_path}')\n",
        "\n",
        "            #Download the checkpoint\n",
        "            files.download(checkpoint_filename)\n",
        "\n",
        "        print(f'Epoch {epoch+1}/{epochs}, Train Acc: {train_accuracy:.2f}%, Val Acc: {val_accuracy:.2f}%, Test Acc: {test_accuracy:.2f}%')\n",
        "        print(f'Epoch {epoch+1}/{epochs}, Train Loss: {train_loss:.4f}, Val Loss: {val_loss:.4f}, Test Loss: {test_loss:.4f}')\n",
        "\n",
        "    return train_losses, val_losses, test_losses,  train_accuracies, val_accuracies, test_accuracies\n",
        "\n",
        "# Train model\n",
        "print(\"--- Train with sgdm ---\")\n",
        "sgdm_train_loss, sgdm_val_loss, sgdm_test_loss, sgdm_train_acc, sgdm_val_acc, sgdm_test_acc= train_model(sgdm_optimizer, scheduler_sgdm, net_sgdm, criterion, trainloader, valloader, testloader, device, epochs)\n",
        "\n",
        "# Save model\n",
        "torch.save(net_sgdm.state_dict(), 'net_sgdm.pth')\n",
        "\n",
        "# Plot results\n",
        "# Plot Training Loss\n",
        "plt.figure(figsize=(6, 4))\n",
        "plt.plot(sgdm_train_loss, label='Train Loss')\n",
        "plt.title('Training Loss')\n",
        "plt.xlabel('Epoch')\n",
        "plt.ylabel('Loss')\n",
        "plt.legend()\n",
        "plt.tight_layout()\n",
        "plt.savefig('train_loss.png')\n",
        "plt.show()\n",
        "\n",
        "# Plot Training Accuracy\n",
        "plt.figure(figsize=(6, 4))\n",
        "plt.plot(sgdm_train_acc, label='Train Accuracy')\n",
        "plt.title('Training Accuracy')\n",
        "plt.xlabel('Epoch')\n",
        "plt.ylabel('Accuracy (%)')\n",
        "plt.legend()\n",
        "plt.tight_layout()\n",
        "plt.savefig('train_accuracy.png')\n",
        "plt.show()\n",
        "\n",
        "# Plot Validation Loss\n",
        "plt.figure(figsize=(6, 4))\n",
        "plt.plot(sgdm_val_loss, label='Validation Loss')\n",
        "plt.title('Validation Loss')\n",
        "plt.xlabel('Epoch')\n",
        "plt.ylabel('Loss')\n",
        "plt.legend()\n",
        "plt.tight_layout()\n",
        "plt.savefig('val_loss.png')\n",
        "plt.show()\n",
        "\n",
        "# Plot Validation Accuracy\n",
        "plt.figure(figsize=(6, 4))\n",
        "plt.plot(sgdm_val_acc, label='Validation Accuracy')\n",
        "plt.title('Validation Accuracy')\n",
        "plt.xlabel('Epoch')\n",
        "plt.ylabel('Accuracy (%)')\n",
        "plt.legend()\n",
        "plt.tight_layout()\n",
        "plt.savefig('val_accuracy.png')\n",
        "plt.show()\n",
        "\n",
        "# Plot Test Loss\n",
        "plt.figure(figsize=(6, 4))\n",
        "plt.plot(sgdm_test_loss, label='Test Loss')\n",
        "plt.title('Test Loss')\n",
        "plt.xlabel('Epoch')\n",
        "plt.ylabel('Loss')\n",
        "plt.legend()\n",
        "plt.tight_layout()\n",
        "plt.savefig('test_loss.png')\n",
        "plt.show()\n",
        "\n",
        "# Plot Test Accuracy\n",
        "plt.figure(figsize=(6, 4))\n",
        "plt.plot(sgdm_test_acc, label='Test Accuracy')\n",
        "plt.title('Test Accuracy')\n",
        "plt.xlabel('Epoch')\n",
        "plt.ylabel('Accuracy (%)')\n",
        "plt.legend()\n",
        "plt.tight_layout()\n",
        "plt.savefig('test_accuracy.png')\n",
        "plt.show()"
      ]
    }
  ],
  "metadata": {
    "colab": {
      "provenance": [],
      "gpuType": "T4"
    },
    "kernelspec": {
      "display_name": "Python 3",
      "name": "python3"
    },
    "language_info": {
      "name": "python"
    },
    "accelerator": "GPU"
  },
  "nbformat": 4,
  "nbformat_minor": 0
}