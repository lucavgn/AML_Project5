{
  "cells": [
    {
      "cell_type": "code",
      "execution_count": 2,
      "metadata": {
        "colab": {
          "base_uri": "https://localhost:8080/",
          "height": 1000
        },
        "id": "OXtKbnOAeMli",
        "outputId": "bb7fe24d-07e3-499e-fb3c-6dda0dbdfc68"
      },
      "outputs": [
        {
          "output_type": "stream",
          "name": "stdout",
          "text": [
            "Files already downloaded and verified\n",
            "Files already downloaded and verified\n",
            "Files already downloaded and verified\n",
            "--- Train with sgdm ---\n",
            "Epoch 1/150, Loss: 4.4219, Train Acc: 3.22%, Val Acc: 7.36%, Test Acc: 7.02%                        \n",
            "Epoch 2/150, Loss: 4.0804, Train Acc: 7.47%, Val Acc: 11.20%, Test Acc: 11.26%                        \n",
            "Epoch 3/150, Loss: 3.8614, Train Acc: 10.51%, Val Acc: 14.36%, Test Acc: 14.75%                        \n",
            "Epoch 4/150, Loss: 3.6687, Train Acc: 13.75%, Val Acc: 18.16%, Test Acc: 17.71%                        \n",
            "Epoch 5/150, Loss: 3.5367, Train Acc: 15.87%, Val Acc: 21.11%, Test Acc: 21.06%                        \n",
            "Epoch 6/150, Loss: 3.4164, Train Acc: 18.23%, Val Acc: 22.87%, Test Acc: 21.92%                        \n",
            "Epoch 7/150, Loss: 3.3246, Train Acc: 19.61%, Val Acc: 24.23%, Test Acc: 23.88%                        \n",
            "Epoch 8/150, Loss: 3.2379, Train Acc: 21.49%, Val Acc: 25.54%, Test Acc: 25.13%                        \n",
            "Epoch 9/150, Loss: 3.1476, Train Acc: 23.02%, Val Acc: 27.84%, Test Acc: 27.35%                        \n",
            "Checkpoint saved at epoch 10: ./checkpoint_epoch_10.pth\n"
          ]
        },
        {
          "output_type": "display_data",
          "data": {
            "text/plain": [
              "<IPython.core.display.Javascript object>"
            ],
            "application/javascript": [
              "\n",
              "    async function download(id, filename, size) {\n",
              "      if (!google.colab.kernel.accessAllowed) {\n",
              "        return;\n",
              "      }\n",
              "      const div = document.createElement('div');\n",
              "      const label = document.createElement('label');\n",
              "      label.textContent = `Downloading \"${filename}\": `;\n",
              "      div.appendChild(label);\n",
              "      const progress = document.createElement('progress');\n",
              "      progress.max = size;\n",
              "      div.appendChild(progress);\n",
              "      document.body.appendChild(div);\n",
              "\n",
              "      const buffers = [];\n",
              "      let downloaded = 0;\n",
              "\n",
              "      const channel = await google.colab.kernel.comms.open(id);\n",
              "      // Send a message to notify the kernel that we're ready.\n",
              "      channel.send({})\n",
              "\n",
              "      for await (const message of channel.messages) {\n",
              "        // Send a message to notify the kernel that we're ready.\n",
              "        channel.send({})\n",
              "        if (message.buffers) {\n",
              "          for (const buffer of message.buffers) {\n",
              "            buffers.push(buffer);\n",
              "            downloaded += buffer.byteLength;\n",
              "            progress.value = downloaded;\n",
              "          }\n",
              "        }\n",
              "      }\n",
              "      const blob = new Blob(buffers, {type: 'application/binary'});\n",
              "      const a = document.createElement('a');\n",
              "      a.href = window.URL.createObjectURL(blob);\n",
              "      a.download = filename;\n",
              "      div.appendChild(a);\n",
              "      a.click();\n",
              "      div.remove();\n",
              "    }\n",
              "  "
            ]
          },
          "metadata": {}
        },
        {
          "output_type": "display_data",
          "data": {
            "text/plain": [
              "<IPython.core.display.Javascript object>"
            ],
            "application/javascript": [
              "download(\"download_9110e411-c19b-4529-814d-a38f773690cb\", \"checkpoint_epoch_10.pth\", 6529850)"
            ]
          },
          "metadata": {}
        },
        {
          "output_type": "stream",
          "name": "stdout",
          "text": [
            "Epoch 10/150, Loss: 3.0818, Train Acc: 24.39%, Val Acc: 29.97%, Test Acc: 30.39%                        \n",
            "Epoch 11/150, Loss: 3.0188, Train Acc: 25.73%, Val Acc: 30.80%, Test Acc: 30.35%                        \n",
            "Epoch 12/150, Loss: 2.9523, Train Acc: 26.77%, Val Acc: 31.86%, Test Acc: 31.52%                        \n",
            "Epoch 13/150, Loss: 2.9094, Train Acc: 27.71%, Val Acc: 33.28%, Test Acc: 32.57%                        \n",
            "Epoch 14/150, Loss: 2.8718, Train Acc: 28.31%, Val Acc: 33.03%, Test Acc: 33.27%                        \n",
            "Epoch 15/150, Loss: 2.8110, Train Acc: 29.78%, Val Acc: 34.85%, Test Acc: 34.17%                        \n",
            "Epoch 16/150, Loss: 2.7695, Train Acc: 30.44%, Val Acc: 36.02%, Test Acc: 35.64%                        \n",
            "Epoch 17/150, Loss: 2.7351, Train Acc: 31.02%, Val Acc: 34.89%, Test Acc: 33.94%                        \n",
            "Epoch 18/150, Loss: 2.7143, Train Acc: 31.68%, Val Acc: 36.36%, Test Acc: 36.49%                        \n",
            "Epoch 19/150, Loss: 2.6827, Train Acc: 32.28%, Val Acc: 35.61%, Test Acc: 36.05%                        \n",
            "Checkpoint saved at epoch 20: ./checkpoint_epoch_20.pth\n"
          ]
        },
        {
          "output_type": "display_data",
          "data": {
            "text/plain": [
              "<IPython.core.display.Javascript object>"
            ],
            "application/javascript": [
              "\n",
              "    async function download(id, filename, size) {\n",
              "      if (!google.colab.kernel.accessAllowed) {\n",
              "        return;\n",
              "      }\n",
              "      const div = document.createElement('div');\n",
              "      const label = document.createElement('label');\n",
              "      label.textContent = `Downloading \"${filename}\": `;\n",
              "      div.appendChild(label);\n",
              "      const progress = document.createElement('progress');\n",
              "      progress.max = size;\n",
              "      div.appendChild(progress);\n",
              "      document.body.appendChild(div);\n",
              "\n",
              "      const buffers = [];\n",
              "      let downloaded = 0;\n",
              "\n",
              "      const channel = await google.colab.kernel.comms.open(id);\n",
              "      // Send a message to notify the kernel that we're ready.\n",
              "      channel.send({})\n",
              "\n",
              "      for await (const message of channel.messages) {\n",
              "        // Send a message to notify the kernel that we're ready.\n",
              "        channel.send({})\n",
              "        if (message.buffers) {\n",
              "          for (const buffer of message.buffers) {\n",
              "            buffers.push(buffer);\n",
              "            downloaded += buffer.byteLength;\n",
              "            progress.value = downloaded;\n",
              "          }\n",
              "        }\n",
              "      }\n",
              "      const blob = new Blob(buffers, {type: 'application/binary'});\n",
              "      const a = document.createElement('a');\n",
              "      a.href = window.URL.createObjectURL(blob);\n",
              "      a.download = filename;\n",
              "      div.appendChild(a);\n",
              "      a.click();\n",
              "      div.remove();\n",
              "    }\n",
              "  "
            ]
          },
          "metadata": {}
        },
        {
          "output_type": "display_data",
          "data": {
            "text/plain": [
              "<IPython.core.display.Javascript object>"
            ],
            "application/javascript": [
              "download(\"download_9ab0d5bd-af8e-40a9-b82b-a347a541855d\", \"checkpoint_epoch_20.pth\", 6529850)"
            ]
          },
          "metadata": {}
        },
        {
          "output_type": "stream",
          "name": "stdout",
          "text": [
            "Epoch 20/150, Loss: 2.6595, Train Acc: 32.59%, Val Acc: 37.71%, Test Acc: 36.82%                        \n",
            "Epoch 21/150, Loss: 2.6221, Train Acc: 33.40%, Val Acc: 37.74%, Test Acc: 37.93%                        \n",
            "Epoch 22/150, Loss: 2.5997, Train Acc: 34.13%, Val Acc: 38.35%, Test Acc: 38.23%                        \n",
            "Epoch 23/150, Loss: 2.5696, Train Acc: 34.05%, Val Acc: 38.46%, Test Acc: 38.40%                        \n",
            "Epoch 24/150, Loss: 2.5410, Train Acc: 35.16%, Val Acc: 38.73%, Test Acc: 38.76%                        \n",
            "Epoch 25/150, Loss: 2.5156, Train Acc: 35.87%, Val Acc: 39.52%, Test Acc: 39.31%                        \n",
            "Epoch 26/150, Loss: 2.4969, Train Acc: 35.71%, Val Acc: 40.38%, Test Acc: 40.24%                        \n",
            "Epoch 27/150, Loss: 2.4709, Train Acc: 36.26%, Val Acc: 40.15%, Test Acc: 40.69%                        \n",
            "Epoch 28/150, Loss: 2.4566, Train Acc: 36.93%, Val Acc: 41.08%, Test Acc: 41.02%                        \n",
            "Epoch 29/150, Loss: 2.4391, Train Acc: 37.24%, Val Acc: 40.72%, Test Acc: 40.95%                        \n",
            "Checkpoint saved at epoch 30: ./checkpoint_epoch_30.pth\n"
          ]
        },
        {
          "output_type": "display_data",
          "data": {
            "text/plain": [
              "<IPython.core.display.Javascript object>"
            ],
            "application/javascript": [
              "\n",
              "    async function download(id, filename, size) {\n",
              "      if (!google.colab.kernel.accessAllowed) {\n",
              "        return;\n",
              "      }\n",
              "      const div = document.createElement('div');\n",
              "      const label = document.createElement('label');\n",
              "      label.textContent = `Downloading \"${filename}\": `;\n",
              "      div.appendChild(label);\n",
              "      const progress = document.createElement('progress');\n",
              "      progress.max = size;\n",
              "      div.appendChild(progress);\n",
              "      document.body.appendChild(div);\n",
              "\n",
              "      const buffers = [];\n",
              "      let downloaded = 0;\n",
              "\n",
              "      const channel = await google.colab.kernel.comms.open(id);\n",
              "      // Send a message to notify the kernel that we're ready.\n",
              "      channel.send({})\n",
              "\n",
              "      for await (const message of channel.messages) {\n",
              "        // Send a message to notify the kernel that we're ready.\n",
              "        channel.send({})\n",
              "        if (message.buffers) {\n",
              "          for (const buffer of message.buffers) {\n",
              "            buffers.push(buffer);\n",
              "            downloaded += buffer.byteLength;\n",
              "            progress.value = downloaded;\n",
              "          }\n",
              "        }\n",
              "      }\n",
              "      const blob = new Blob(buffers, {type: 'application/binary'});\n",
              "      const a = document.createElement('a');\n",
              "      a.href = window.URL.createObjectURL(blob);\n",
              "      a.download = filename;\n",
              "      div.appendChild(a);\n",
              "      a.click();\n",
              "      div.remove();\n",
              "    }\n",
              "  "
            ]
          },
          "metadata": {}
        },
        {
          "output_type": "display_data",
          "data": {
            "text/plain": [
              "<IPython.core.display.Javascript object>"
            ],
            "application/javascript": [
              "download(\"download_f7999132-3564-4efb-a6e8-4df9f7addcba\", \"checkpoint_epoch_30.pth\", 6529850)"
            ]
          },
          "metadata": {}
        },
        {
          "output_type": "stream",
          "name": "stdout",
          "text": [
            "Epoch 30/150, Loss: 2.4327, Train Acc: 37.65%, Val Acc: 40.64%, Test Acc: 40.80%                        \n",
            "Epoch 31/150, Loss: 2.4059, Train Acc: 38.08%, Val Acc: 40.97%, Test Acc: 41.32%                        \n",
            "Epoch 32/150, Loss: 2.3900, Train Acc: 38.04%, Val Acc: 41.45%, Test Acc: 41.32%                        \n",
            "Epoch 33/150, Loss: 2.3749, Train Acc: 38.62%, Val Acc: 41.09%, Test Acc: 41.25%                        \n",
            "Epoch 34/150, Loss: 2.3482, Train Acc: 38.95%, Val Acc: 41.52%, Test Acc: 41.76%                        \n",
            "Epoch 35/150, Loss: 2.3445, Train Acc: 39.14%, Val Acc: 41.67%, Test Acc: 43.28%                        \n",
            "Epoch 36/150, Loss: 2.3233, Train Acc: 39.55%, Val Acc: 42.16%, Test Acc: 42.77%                        \n",
            "Epoch 37/150, Loss: 2.3080, Train Acc: 40.03%, Val Acc: 42.71%, Test Acc: 41.99%                        \n",
            "Epoch 38/150, Loss: 2.3032, Train Acc: 40.27%, Val Acc: 42.23%, Test Acc: 42.42%                        \n",
            "Epoch 39/150, Loss: 2.2820, Train Acc: 40.62%, Val Acc: 42.20%, Test Acc: 42.25%                        \n",
            "Checkpoint saved at epoch 40: ./checkpoint_epoch_40.pth\n"
          ]
        },
        {
          "output_type": "display_data",
          "data": {
            "text/plain": [
              "<IPython.core.display.Javascript object>"
            ],
            "application/javascript": [
              "\n",
              "    async function download(id, filename, size) {\n",
              "      if (!google.colab.kernel.accessAllowed) {\n",
              "        return;\n",
              "      }\n",
              "      const div = document.createElement('div');\n",
              "      const label = document.createElement('label');\n",
              "      label.textContent = `Downloading \"${filename}\": `;\n",
              "      div.appendChild(label);\n",
              "      const progress = document.createElement('progress');\n",
              "      progress.max = size;\n",
              "      div.appendChild(progress);\n",
              "      document.body.appendChild(div);\n",
              "\n",
              "      const buffers = [];\n",
              "      let downloaded = 0;\n",
              "\n",
              "      const channel = await google.colab.kernel.comms.open(id);\n",
              "      // Send a message to notify the kernel that we're ready.\n",
              "      channel.send({})\n",
              "\n",
              "      for await (const message of channel.messages) {\n",
              "        // Send a message to notify the kernel that we're ready.\n",
              "        channel.send({})\n",
              "        if (message.buffers) {\n",
              "          for (const buffer of message.buffers) {\n",
              "            buffers.push(buffer);\n",
              "            downloaded += buffer.byteLength;\n",
              "            progress.value = downloaded;\n",
              "          }\n",
              "        }\n",
              "      }\n",
              "      const blob = new Blob(buffers, {type: 'application/binary'});\n",
              "      const a = document.createElement('a');\n",
              "      a.href = window.URL.createObjectURL(blob);\n",
              "      a.download = filename;\n",
              "      div.appendChild(a);\n",
              "      a.click();\n",
              "      div.remove();\n",
              "    }\n",
              "  "
            ]
          },
          "metadata": {}
        },
        {
          "output_type": "display_data",
          "data": {
            "text/plain": [
              "<IPython.core.display.Javascript object>"
            ],
            "application/javascript": [
              "download(\"download_40f6429d-2a6a-4e2f-923d-bfcd7171c160\", \"checkpoint_epoch_40.pth\", 6529850)"
            ]
          },
          "metadata": {}
        },
        {
          "output_type": "stream",
          "name": "stdout",
          "text": [
            "Epoch 40/150, Loss: 2.2777, Train Acc: 40.82%, Val Acc: 42.34%, Test Acc: 43.32%                        \n",
            "Epoch 41/150, Loss: 2.2629, Train Acc: 41.04%, Val Acc: 43.88%, Test Acc: 44.42%                        \n",
            "Epoch 42/150, Loss: 2.2379, Train Acc: 41.65%, Val Acc: 43.95%, Test Acc: 43.97%                        \n",
            "Epoch 43/150, Loss: 2.2310, Train Acc: 41.52%, Val Acc: 42.40%, Test Acc: 43.93%                        \n",
            "Epoch 44/150, Loss: 2.2204, Train Acc: 41.73%, Val Acc: 43.05%, Test Acc: 43.95%                        \n",
            "Epoch 45/150, Loss: 2.2035, Train Acc: 42.19%, Val Acc: 43.22%, Test Acc: 43.20%                        \n",
            "Epoch 46/150, Loss: 2.1932, Train Acc: 42.62%, Val Acc: 44.93%, Test Acc: 45.53%                        \n",
            "Epoch 47/150, Loss: 2.1816, Train Acc: 42.61%, Val Acc: 44.00%, Test Acc: 44.95%                        \n",
            "Epoch 48/150, Loss: 2.1670, Train Acc: 42.81%, Val Acc: 43.41%, Test Acc: 44.57%                        \n",
            "Epoch 49/150, Loss: 2.1560, Train Acc: 43.45%, Val Acc: 44.51%, Test Acc: 45.32%                        \n",
            "Checkpoint saved at epoch 50: ./checkpoint_epoch_50.pth\n"
          ]
        },
        {
          "output_type": "display_data",
          "data": {
            "text/plain": [
              "<IPython.core.display.Javascript object>"
            ],
            "application/javascript": [
              "\n",
              "    async function download(id, filename, size) {\n",
              "      if (!google.colab.kernel.accessAllowed) {\n",
              "        return;\n",
              "      }\n",
              "      const div = document.createElement('div');\n",
              "      const label = document.createElement('label');\n",
              "      label.textContent = `Downloading \"${filename}\": `;\n",
              "      div.appendChild(label);\n",
              "      const progress = document.createElement('progress');\n",
              "      progress.max = size;\n",
              "      div.appendChild(progress);\n",
              "      document.body.appendChild(div);\n",
              "\n",
              "      const buffers = [];\n",
              "      let downloaded = 0;\n",
              "\n",
              "      const channel = await google.colab.kernel.comms.open(id);\n",
              "      // Send a message to notify the kernel that we're ready.\n",
              "      channel.send({})\n",
              "\n",
              "      for await (const message of channel.messages) {\n",
              "        // Send a message to notify the kernel that we're ready.\n",
              "        channel.send({})\n",
              "        if (message.buffers) {\n",
              "          for (const buffer of message.buffers) {\n",
              "            buffers.push(buffer);\n",
              "            downloaded += buffer.byteLength;\n",
              "            progress.value = downloaded;\n",
              "          }\n",
              "        }\n",
              "      }\n",
              "      const blob = new Blob(buffers, {type: 'application/binary'});\n",
              "      const a = document.createElement('a');\n",
              "      a.href = window.URL.createObjectURL(blob);\n",
              "      a.download = filename;\n",
              "      div.appendChild(a);\n",
              "      a.click();\n",
              "      div.remove();\n",
              "    }\n",
              "  "
            ]
          },
          "metadata": {}
        },
        {
          "output_type": "display_data",
          "data": {
            "text/plain": [
              "<IPython.core.display.Javascript object>"
            ],
            "application/javascript": [
              "download(\"download_8bb0b0e4-7d3c-4245-8e44-29ffb41fa295\", \"checkpoint_epoch_50.pth\", 6529850)"
            ]
          },
          "metadata": {}
        },
        {
          "output_type": "stream",
          "name": "stdout",
          "text": [
            "Epoch 50/150, Loss: 2.1407, Train Acc: 43.68%, Val Acc: 44.44%, Test Acc: 44.37%                        \n",
            "Epoch 51/150, Loss: 2.1231, Train Acc: 43.83%, Val Acc: 43.81%, Test Acc: 45.21%                        \n",
            "Epoch 52/150, Loss: 2.1208, Train Acc: 43.92%, Val Acc: 44.63%, Test Acc: 45.94%                        \n",
            "Epoch 53/150, Loss: 2.1175, Train Acc: 44.19%, Val Acc: 44.17%, Test Acc: 43.56%                        \n",
            "Epoch 54/150, Loss: 2.0975, Train Acc: 44.40%, Val Acc: 44.27%, Test Acc: 45.07%                        \n",
            "Epoch 55/150, Loss: 2.1015, Train Acc: 44.17%, Val Acc: 45.56%, Test Acc: 46.47%                        \n",
            "Epoch 56/150, Loss: 2.0666, Train Acc: 45.15%, Val Acc: 45.84%, Test Acc: 45.92%                        \n",
            "Epoch 57/150, Loss: 2.0661, Train Acc: 45.30%, Val Acc: 45.81%, Test Acc: 45.48%                        \n",
            "Epoch 58/150, Loss: 2.0400, Train Acc: 45.68%, Val Acc: 44.49%, Test Acc: 44.70%                        \n",
            "Epoch 59/150, Loss: 2.0397, Train Acc: 45.72%, Val Acc: 46.64%, Test Acc: 46.66%                        \n",
            "Checkpoint saved at epoch 60: ./checkpoint_epoch_60.pth\n"
          ]
        },
        {
          "output_type": "display_data",
          "data": {
            "text/plain": [
              "<IPython.core.display.Javascript object>"
            ],
            "application/javascript": [
              "\n",
              "    async function download(id, filename, size) {\n",
              "      if (!google.colab.kernel.accessAllowed) {\n",
              "        return;\n",
              "      }\n",
              "      const div = document.createElement('div');\n",
              "      const label = document.createElement('label');\n",
              "      label.textContent = `Downloading \"${filename}\": `;\n",
              "      div.appendChild(label);\n",
              "      const progress = document.createElement('progress');\n",
              "      progress.max = size;\n",
              "      div.appendChild(progress);\n",
              "      document.body.appendChild(div);\n",
              "\n",
              "      const buffers = [];\n",
              "      let downloaded = 0;\n",
              "\n",
              "      const channel = await google.colab.kernel.comms.open(id);\n",
              "      // Send a message to notify the kernel that we're ready.\n",
              "      channel.send({})\n",
              "\n",
              "      for await (const message of channel.messages) {\n",
              "        // Send a message to notify the kernel that we're ready.\n",
              "        channel.send({})\n",
              "        if (message.buffers) {\n",
              "          for (const buffer of message.buffers) {\n",
              "            buffers.push(buffer);\n",
              "            downloaded += buffer.byteLength;\n",
              "            progress.value = downloaded;\n",
              "          }\n",
              "        }\n",
              "      }\n",
              "      const blob = new Blob(buffers, {type: 'application/binary'});\n",
              "      const a = document.createElement('a');\n",
              "      a.href = window.URL.createObjectURL(blob);\n",
              "      a.download = filename;\n",
              "      div.appendChild(a);\n",
              "      a.click();\n",
              "      div.remove();\n",
              "    }\n",
              "  "
            ]
          },
          "metadata": {}
        },
        {
          "output_type": "display_data",
          "data": {
            "text/plain": [
              "<IPython.core.display.Javascript object>"
            ],
            "application/javascript": [
              "download(\"download_77241f96-a484-414a-98ba-c05fd2fc0899\", \"checkpoint_epoch_60.pth\", 6529850)"
            ]
          },
          "metadata": {}
        },
        {
          "output_type": "stream",
          "name": "stdout",
          "text": [
            "Epoch 60/150, Loss: 2.0347, Train Acc: 45.84%, Val Acc: 45.52%, Test Acc: 45.67%                        \n",
            "Epoch 61/150, Loss: 2.0157, Train Acc: 46.04%, Val Acc: 45.98%, Test Acc: 45.70%                        \n",
            "Epoch 62/150, Loss: 2.0015, Train Acc: 46.67%, Val Acc: 45.65%, Test Acc: 46.44%                        \n",
            "Epoch 63/150, Loss: 2.0027, Train Acc: 46.52%, Val Acc: 47.58%, Test Acc: 47.35%                        \n",
            "Epoch 64/150, Loss: 1.9816, Train Acc: 46.94%, Val Acc: 45.96%, Test Acc: 46.38%                        \n",
            "Epoch 65/150, Loss: 1.9753, Train Acc: 47.39%, Val Acc: 47.38%, Test Acc: 47.35%                        \n",
            "Epoch 66/150, Loss: 1.9674, Train Acc: 47.26%, Val Acc: 46.08%, Test Acc: 45.82%                        \n",
            "Epoch 67/150, Loss: 1.9624, Train Acc: 47.62%, Val Acc: 47.18%, Test Acc: 47.01%                        \n",
            "Epoch 68/150, Loss: 1.9351, Train Acc: 48.13%, Val Acc: 46.44%, Test Acc: 46.49%                        \n",
            "Epoch 69/150, Loss: 1.9223, Train Acc: 48.62%, Val Acc: 46.17%, Test Acc: 46.94%                        \n",
            "Checkpoint saved at epoch 70: ./checkpoint_epoch_70.pth\n"
          ]
        },
        {
          "output_type": "display_data",
          "data": {
            "text/plain": [
              "<IPython.core.display.Javascript object>"
            ],
            "application/javascript": [
              "\n",
              "    async function download(id, filename, size) {\n",
              "      if (!google.colab.kernel.accessAllowed) {\n",
              "        return;\n",
              "      }\n",
              "      const div = document.createElement('div');\n",
              "      const label = document.createElement('label');\n",
              "      label.textContent = `Downloading \"${filename}\": `;\n",
              "      div.appendChild(label);\n",
              "      const progress = document.createElement('progress');\n",
              "      progress.max = size;\n",
              "      div.appendChild(progress);\n",
              "      document.body.appendChild(div);\n",
              "\n",
              "      const buffers = [];\n",
              "      let downloaded = 0;\n",
              "\n",
              "      const channel = await google.colab.kernel.comms.open(id);\n",
              "      // Send a message to notify the kernel that we're ready.\n",
              "      channel.send({})\n",
              "\n",
              "      for await (const message of channel.messages) {\n",
              "        // Send a message to notify the kernel that we're ready.\n",
              "        channel.send({})\n",
              "        if (message.buffers) {\n",
              "          for (const buffer of message.buffers) {\n",
              "            buffers.push(buffer);\n",
              "            downloaded += buffer.byteLength;\n",
              "            progress.value = downloaded;\n",
              "          }\n",
              "        }\n",
              "      }\n",
              "      const blob = new Blob(buffers, {type: 'application/binary'});\n",
              "      const a = document.createElement('a');\n",
              "      a.href = window.URL.createObjectURL(blob);\n",
              "      a.download = filename;\n",
              "      div.appendChild(a);\n",
              "      a.click();\n",
              "      div.remove();\n",
              "    }\n",
              "  "
            ]
          },
          "metadata": {}
        },
        {
          "output_type": "display_data",
          "data": {
            "text/plain": [
              "<IPython.core.display.Javascript object>"
            ],
            "application/javascript": [
              "download(\"download_36572ccc-b42a-45ba-9505-3c97ab00d03e\", \"checkpoint_epoch_70.pth\", 6529850)"
            ]
          },
          "metadata": {}
        },
        {
          "output_type": "stream",
          "name": "stdout",
          "text": [
            "Epoch 70/150, Loss: 1.9200, Train Acc: 48.34%, Val Acc: 46.83%, Test Acc: 47.63%                        \n",
            "Epoch 71/150, Loss: 1.8999, Train Acc: 49.01%, Val Acc: 47.62%, Test Acc: 48.51%                        \n",
            "Epoch 72/150, Loss: 1.9109, Train Acc: 48.68%, Val Acc: 47.40%, Test Acc: 47.60%                        \n",
            "Epoch 73/150, Loss: 1.8889, Train Acc: 48.91%, Val Acc: 47.69%, Test Acc: 48.83%                        \n",
            "Epoch 74/150, Loss: 1.8712, Train Acc: 49.40%, Val Acc: 46.98%, Test Acc: 47.09%                        \n",
            "Epoch 75/150, Loss: 1.8511, Train Acc: 49.88%, Val Acc: 48.31%, Test Acc: 48.19%                        \n",
            "Epoch 76/150, Loss: 1.8484, Train Acc: 49.94%, Val Acc: 48.11%, Test Acc: 48.78%                        \n",
            "Epoch 77/150, Loss: 1.8320, Train Acc: 50.47%, Val Acc: 48.09%, Test Acc: 48.92%                        \n",
            "Epoch 78/150, Loss: 1.8245, Train Acc: 50.59%, Val Acc: 48.26%, Test Acc: 48.43%                        \n",
            "Epoch 79/150, Loss: 1.8176, Train Acc: 50.59%, Val Acc: 47.29%, Test Acc: 48.19%                        \n",
            "Checkpoint saved at epoch 80: ./checkpoint_epoch_80.pth\n"
          ]
        },
        {
          "output_type": "display_data",
          "data": {
            "text/plain": [
              "<IPython.core.display.Javascript object>"
            ],
            "application/javascript": [
              "\n",
              "    async function download(id, filename, size) {\n",
              "      if (!google.colab.kernel.accessAllowed) {\n",
              "        return;\n",
              "      }\n",
              "      const div = document.createElement('div');\n",
              "      const label = document.createElement('label');\n",
              "      label.textContent = `Downloading \"${filename}\": `;\n",
              "      div.appendChild(label);\n",
              "      const progress = document.createElement('progress');\n",
              "      progress.max = size;\n",
              "      div.appendChild(progress);\n",
              "      document.body.appendChild(div);\n",
              "\n",
              "      const buffers = [];\n",
              "      let downloaded = 0;\n",
              "\n",
              "      const channel = await google.colab.kernel.comms.open(id);\n",
              "      // Send a message to notify the kernel that we're ready.\n",
              "      channel.send({})\n",
              "\n",
              "      for await (const message of channel.messages) {\n",
              "        // Send a message to notify the kernel that we're ready.\n",
              "        channel.send({})\n",
              "        if (message.buffers) {\n",
              "          for (const buffer of message.buffers) {\n",
              "            buffers.push(buffer);\n",
              "            downloaded += buffer.byteLength;\n",
              "            progress.value = downloaded;\n",
              "          }\n",
              "        }\n",
              "      }\n",
              "      const blob = new Blob(buffers, {type: 'application/binary'});\n",
              "      const a = document.createElement('a');\n",
              "      a.href = window.URL.createObjectURL(blob);\n",
              "      a.download = filename;\n",
              "      div.appendChild(a);\n",
              "      a.click();\n",
              "      div.remove();\n",
              "    }\n",
              "  "
            ]
          },
          "metadata": {}
        },
        {
          "output_type": "display_data",
          "data": {
            "text/plain": [
              "<IPython.core.display.Javascript object>"
            ],
            "application/javascript": [
              "download(\"download_cdb538b3-0327-4f89-80d8-01b4d4e0a2a2\", \"checkpoint_epoch_80.pth\", 6529850)"
            ]
          },
          "metadata": {}
        },
        {
          "output_type": "stream",
          "name": "stdout",
          "text": [
            "Epoch 80/150, Loss: 1.7992, Train Acc: 51.17%, Val Acc: 48.24%, Test Acc: 49.28%                        \n",
            "Epoch 81/150, Loss: 1.7872, Train Acc: 51.54%, Val Acc: 48.96%, Test Acc: 49.31%                        \n",
            "Epoch 82/150, Loss: 1.7903, Train Acc: 51.28%, Val Acc: 48.76%, Test Acc: 48.35%                        \n",
            "Epoch 83/150, Loss: 1.7634, Train Acc: 51.93%, Val Acc: 48.43%, Test Acc: 48.73%                        \n",
            "Epoch 84/150, Loss: 1.7628, Train Acc: 51.92%, Val Acc: 48.46%, Test Acc: 48.71%                        \n",
            "Epoch 85/150, Loss: 1.7470, Train Acc: 52.19%, Val Acc: 49.22%, Test Acc: 49.27%                        \n",
            "Epoch 86/150, Loss: 1.7406, Train Acc: 52.52%, Val Acc: 48.64%, Test Acc: 49.57%                        \n",
            "Epoch 87/150, Loss: 1.7147, Train Acc: 52.93%, Val Acc: 48.36%, Test Acc: 49.12%                        \n",
            "Epoch 88/150, Loss: 1.7243, Train Acc: 53.05%, Val Acc: 48.95%, Test Acc: 50.02%                        \n",
            "Epoch 89/150, Loss: 1.6925, Train Acc: 53.60%, Val Acc: 48.94%, Test Acc: 50.32%                        \n",
            "Checkpoint saved at epoch 90: ./checkpoint_epoch_90.pth\n"
          ]
        },
        {
          "output_type": "display_data",
          "data": {
            "text/plain": [
              "<IPython.core.display.Javascript object>"
            ],
            "application/javascript": [
              "\n",
              "    async function download(id, filename, size) {\n",
              "      if (!google.colab.kernel.accessAllowed) {\n",
              "        return;\n",
              "      }\n",
              "      const div = document.createElement('div');\n",
              "      const label = document.createElement('label');\n",
              "      label.textContent = `Downloading \"${filename}\": `;\n",
              "      div.appendChild(label);\n",
              "      const progress = document.createElement('progress');\n",
              "      progress.max = size;\n",
              "      div.appendChild(progress);\n",
              "      document.body.appendChild(div);\n",
              "\n",
              "      const buffers = [];\n",
              "      let downloaded = 0;\n",
              "\n",
              "      const channel = await google.colab.kernel.comms.open(id);\n",
              "      // Send a message to notify the kernel that we're ready.\n",
              "      channel.send({})\n",
              "\n",
              "      for await (const message of channel.messages) {\n",
              "        // Send a message to notify the kernel that we're ready.\n",
              "        channel.send({})\n",
              "        if (message.buffers) {\n",
              "          for (const buffer of message.buffers) {\n",
              "            buffers.push(buffer);\n",
              "            downloaded += buffer.byteLength;\n",
              "            progress.value = downloaded;\n",
              "          }\n",
              "        }\n",
              "      }\n",
              "      const blob = new Blob(buffers, {type: 'application/binary'});\n",
              "      const a = document.createElement('a');\n",
              "      a.href = window.URL.createObjectURL(blob);\n",
              "      a.download = filename;\n",
              "      div.appendChild(a);\n",
              "      a.click();\n",
              "      div.remove();\n",
              "    }\n",
              "  "
            ]
          },
          "metadata": {}
        },
        {
          "output_type": "display_data",
          "data": {
            "text/plain": [
              "<IPython.core.display.Javascript object>"
            ],
            "application/javascript": [
              "download(\"download_12e8e72d-ba84-4d0e-8d77-2f78f5285da3\", \"checkpoint_epoch_90.pth\", 6529850)"
            ]
          },
          "metadata": {}
        },
        {
          "output_type": "stream",
          "name": "stdout",
          "text": [
            "Epoch 90/150, Loss: 1.6902, Train Acc: 53.63%, Val Acc: 49.19%, Test Acc: 49.35%                        \n",
            "Epoch 91/150, Loss: 1.6777, Train Acc: 53.96%, Val Acc: 47.92%, Test Acc: 48.52%                        \n",
            "Epoch 92/150, Loss: 1.6688, Train Acc: 54.21%, Val Acc: 49.61%, Test Acc: 50.39%                        \n",
            "Epoch 93/150, Loss: 1.6595, Train Acc: 54.48%, Val Acc: 49.63%, Test Acc: 50.21%                        \n",
            "Epoch 94/150, Loss: 1.6546, Train Acc: 54.62%, Val Acc: 49.52%, Test Acc: 50.07%                        \n",
            "Epoch 95/150, Loss: 1.6317, Train Acc: 54.84%, Val Acc: 50.31%, Test Acc: 50.22%                        \n",
            "Epoch 96/150, Loss: 1.6244, Train Acc: 55.17%, Val Acc: 49.70%, Test Acc: 50.12%                        \n",
            "Epoch 97/150, Loss: 1.6085, Train Acc: 55.65%, Val Acc: 49.32%, Test Acc: 50.39%                        \n",
            "Epoch 98/150, Loss: 1.5971, Train Acc: 55.70%, Val Acc: 50.49%, Test Acc: 50.91%                        \n",
            "Epoch 99/150, Loss: 1.5905, Train Acc: 56.03%, Val Acc: 50.15%, Test Acc: 50.62%                        \n",
            "Checkpoint saved at epoch 100: ./checkpoint_epoch_100.pth\n"
          ]
        },
        {
          "output_type": "display_data",
          "data": {
            "text/plain": [
              "<IPython.core.display.Javascript object>"
            ],
            "application/javascript": [
              "\n",
              "    async function download(id, filename, size) {\n",
              "      if (!google.colab.kernel.accessAllowed) {\n",
              "        return;\n",
              "      }\n",
              "      const div = document.createElement('div');\n",
              "      const label = document.createElement('label');\n",
              "      label.textContent = `Downloading \"${filename}\": `;\n",
              "      div.appendChild(label);\n",
              "      const progress = document.createElement('progress');\n",
              "      progress.max = size;\n",
              "      div.appendChild(progress);\n",
              "      document.body.appendChild(div);\n",
              "\n",
              "      const buffers = [];\n",
              "      let downloaded = 0;\n",
              "\n",
              "      const channel = await google.colab.kernel.comms.open(id);\n",
              "      // Send a message to notify the kernel that we're ready.\n",
              "      channel.send({})\n",
              "\n",
              "      for await (const message of channel.messages) {\n",
              "        // Send a message to notify the kernel that we're ready.\n",
              "        channel.send({})\n",
              "        if (message.buffers) {\n",
              "          for (const buffer of message.buffers) {\n",
              "            buffers.push(buffer);\n",
              "            downloaded += buffer.byteLength;\n",
              "            progress.value = downloaded;\n",
              "          }\n",
              "        }\n",
              "      }\n",
              "      const blob = new Blob(buffers, {type: 'application/binary'});\n",
              "      const a = document.createElement('a');\n",
              "      a.href = window.URL.createObjectURL(blob);\n",
              "      a.download = filename;\n",
              "      div.appendChild(a);\n",
              "      a.click();\n",
              "      div.remove();\n",
              "    }\n",
              "  "
            ]
          },
          "metadata": {}
        },
        {
          "output_type": "display_data",
          "data": {
            "text/plain": [
              "<IPython.core.display.Javascript object>"
            ],
            "application/javascript": [
              "download(\"download_98e3e832-a463-4eab-b06c-aa9916e656b1\", \"checkpoint_epoch_100.pth\", 6529874)"
            ]
          },
          "metadata": {}
        },
        {
          "output_type": "stream",
          "name": "stdout",
          "text": [
            "Epoch 100/150, Loss: 1.5726, Train Acc: 56.70%, Val Acc: 50.41%, Test Acc: 50.79%                        \n",
            "Epoch 101/150, Loss: 1.5633, Train Acc: 56.58%, Val Acc: 49.65%, Test Acc: 49.75%                        \n",
            "Epoch 102/150, Loss: 1.5590, Train Acc: 56.57%, Val Acc: 50.06%, Test Acc: 50.93%                        \n",
            "Epoch 103/150, Loss: 1.5476, Train Acc: 57.40%, Val Acc: 50.82%, Test Acc: 51.31%                        \n",
            "Epoch 104/150, Loss: 1.5428, Train Acc: 57.15%, Val Acc: 51.14%, Test Acc: 51.53%                        \n",
            "Epoch 105/150, Loss: 1.5260, Train Acc: 57.55%, Val Acc: 51.17%, Test Acc: 51.48%                        \n",
            "Epoch 106/150, Loss: 1.5146, Train Acc: 57.95%, Val Acc: 51.08%, Test Acc: 50.93%                        \n",
            "Epoch 107/150, Loss: 1.5028, Train Acc: 57.93%, Val Acc: 50.30%, Test Acc: 50.93%                        \n",
            "Epoch 108/150, Loss: 1.4962, Train Acc: 58.20%, Val Acc: 50.87%, Test Acc: 51.26%                        \n",
            "Epoch 109/150, Loss: 1.4861, Train Acc: 58.67%, Val Acc: 51.09%, Test Acc: 51.68%                        \n",
            "Checkpoint saved at epoch 110: ./checkpoint_epoch_110.pth\n"
          ]
        },
        {
          "output_type": "display_data",
          "data": {
            "text/plain": [
              "<IPython.core.display.Javascript object>"
            ],
            "application/javascript": [
              "\n",
              "    async function download(id, filename, size) {\n",
              "      if (!google.colab.kernel.accessAllowed) {\n",
              "        return;\n",
              "      }\n",
              "      const div = document.createElement('div');\n",
              "      const label = document.createElement('label');\n",
              "      label.textContent = `Downloading \"${filename}\": `;\n",
              "      div.appendChild(label);\n",
              "      const progress = document.createElement('progress');\n",
              "      progress.max = size;\n",
              "      div.appendChild(progress);\n",
              "      document.body.appendChild(div);\n",
              "\n",
              "      const buffers = [];\n",
              "      let downloaded = 0;\n",
              "\n",
              "      const channel = await google.colab.kernel.comms.open(id);\n",
              "      // Send a message to notify the kernel that we're ready.\n",
              "      channel.send({})\n",
              "\n",
              "      for await (const message of channel.messages) {\n",
              "        // Send a message to notify the kernel that we're ready.\n",
              "        channel.send({})\n",
              "        if (message.buffers) {\n",
              "          for (const buffer of message.buffers) {\n",
              "            buffers.push(buffer);\n",
              "            downloaded += buffer.byteLength;\n",
              "            progress.value = downloaded;\n",
              "          }\n",
              "        }\n",
              "      }\n",
              "      const blob = new Blob(buffers, {type: 'application/binary'});\n",
              "      const a = document.createElement('a');\n",
              "      a.href = window.URL.createObjectURL(blob);\n",
              "      a.download = filename;\n",
              "      div.appendChild(a);\n",
              "      a.click();\n",
              "      div.remove();\n",
              "    }\n",
              "  "
            ]
          },
          "metadata": {}
        },
        {
          "output_type": "display_data",
          "data": {
            "text/plain": [
              "<IPython.core.display.Javascript object>"
            ],
            "application/javascript": [
              "download(\"download_0cdd3053-88b0-4891-8d78-205207abe7a4\", \"checkpoint_epoch_110.pth\", 6529874)"
            ]
          },
          "metadata": {}
        },
        {
          "output_type": "stream",
          "name": "stdout",
          "text": [
            "Epoch 110/150, Loss: 1.4723, Train Acc: 58.91%, Val Acc: 51.07%, Test Acc: 51.82%                        \n",
            "Epoch 111/150, Loss: 1.4621, Train Acc: 59.23%, Val Acc: 51.05%, Test Acc: 51.86%                        \n",
            "Epoch 112/150, Loss: 1.4591, Train Acc: 59.20%, Val Acc: 51.33%, Test Acc: 51.67%                        \n",
            "Epoch 113/150, Loss: 1.4416, Train Acc: 59.76%, Val Acc: 51.44%, Test Acc: 52.05%                        \n",
            "Epoch 114/150, Loss: 1.4345, Train Acc: 59.80%, Val Acc: 52.04%, Test Acc: 52.11%                        \n",
            "Epoch 115/150, Loss: 1.4344, Train Acc: 59.80%, Val Acc: 51.62%, Test Acc: 51.47%                        \n",
            "Epoch 116/150, Loss: 1.4245, Train Acc: 60.32%, Val Acc: 51.61%, Test Acc: 52.07%                        \n",
            "Epoch 117/150, Loss: 1.4015, Train Acc: 60.85%, Val Acc: 51.30%, Test Acc: 51.94%                        \n",
            "Epoch 118/150, Loss: 1.3941, Train Acc: 60.82%, Val Acc: 51.55%, Test Acc: 51.98%                        \n",
            "Epoch 119/150, Loss: 1.3872, Train Acc: 61.01%, Val Acc: 51.41%, Test Acc: 52.32%                        \n",
            "Checkpoint saved at epoch 120: ./checkpoint_epoch_120.pth\n"
          ]
        },
        {
          "output_type": "display_data",
          "data": {
            "text/plain": [
              "<IPython.core.display.Javascript object>"
            ],
            "application/javascript": [
              "\n",
              "    async function download(id, filename, size) {\n",
              "      if (!google.colab.kernel.accessAllowed) {\n",
              "        return;\n",
              "      }\n",
              "      const div = document.createElement('div');\n",
              "      const label = document.createElement('label');\n",
              "      label.textContent = `Downloading \"${filename}\": `;\n",
              "      div.appendChild(label);\n",
              "      const progress = document.createElement('progress');\n",
              "      progress.max = size;\n",
              "      div.appendChild(progress);\n",
              "      document.body.appendChild(div);\n",
              "\n",
              "      const buffers = [];\n",
              "      let downloaded = 0;\n",
              "\n",
              "      const channel = await google.colab.kernel.comms.open(id);\n",
              "      // Send a message to notify the kernel that we're ready.\n",
              "      channel.send({})\n",
              "\n",
              "      for await (const message of channel.messages) {\n",
              "        // Send a message to notify the kernel that we're ready.\n",
              "        channel.send({})\n",
              "        if (message.buffers) {\n",
              "          for (const buffer of message.buffers) {\n",
              "            buffers.push(buffer);\n",
              "            downloaded += buffer.byteLength;\n",
              "            progress.value = downloaded;\n",
              "          }\n",
              "        }\n",
              "      }\n",
              "      const blob = new Blob(buffers, {type: 'application/binary'});\n",
              "      const a = document.createElement('a');\n",
              "      a.href = window.URL.createObjectURL(blob);\n",
              "      a.download = filename;\n",
              "      div.appendChild(a);\n",
              "      a.click();\n",
              "      div.remove();\n",
              "    }\n",
              "  "
            ]
          },
          "metadata": {}
        },
        {
          "output_type": "display_data",
          "data": {
            "text/plain": [
              "<IPython.core.display.Javascript object>"
            ],
            "application/javascript": [
              "download(\"download_31ae1347-db0f-4906-a413-fcd40aa441d3\", \"checkpoint_epoch_120.pth\", 6529874)"
            ]
          },
          "metadata": {}
        },
        {
          "output_type": "stream",
          "name": "stdout",
          "text": [
            "Epoch 120/150, Loss: 1.3806, Train Acc: 61.17%, Val Acc: 52.03%, Test Acc: 52.43%                        \n",
            "Epoch 121/150, Loss: 1.3717, Train Acc: 61.47%, Val Acc: 51.60%, Test Acc: 52.08%                        \n",
            "Epoch 122/150, Loss: 1.3566, Train Acc: 62.00%, Val Acc: 51.85%, Test Acc: 52.10%                        \n",
            "Epoch 123/150, Loss: 1.3505, Train Acc: 62.19%, Val Acc: 51.98%, Test Acc: 52.32%                        \n",
            "Epoch 124/150, Loss: 1.3542, Train Acc: 61.97%, Val Acc: 52.16%, Test Acc: 52.48%                        \n",
            "Epoch 125/150, Loss: 1.3341, Train Acc: 62.38%, Val Acc: 52.21%, Test Acc: 52.45%                        \n",
            "Epoch 126/150, Loss: 1.3352, Train Acc: 62.42%, Val Acc: 52.36%, Test Acc: 52.40%                        \n",
            "Epoch 127/150, Loss: 1.3234, Train Acc: 62.82%, Val Acc: 52.78%, Test Acc: 52.87%                        \n",
            "Epoch 128/150, Loss: 1.3145, Train Acc: 62.81%, Val Acc: 52.51%, Test Acc: 52.99%                        \n",
            "Epoch 129/150, Loss: 1.3039, Train Acc: 63.23%, Val Acc: 52.67%, Test Acc: 52.90%                        \n",
            "Checkpoint saved at epoch 130: ./checkpoint_epoch_130.pth\n"
          ]
        },
        {
          "output_type": "display_data",
          "data": {
            "text/plain": [
              "<IPython.core.display.Javascript object>"
            ],
            "application/javascript": [
              "\n",
              "    async function download(id, filename, size) {\n",
              "      if (!google.colab.kernel.accessAllowed) {\n",
              "        return;\n",
              "      }\n",
              "      const div = document.createElement('div');\n",
              "      const label = document.createElement('label');\n",
              "      label.textContent = `Downloading \"${filename}\": `;\n",
              "      div.appendChild(label);\n",
              "      const progress = document.createElement('progress');\n",
              "      progress.max = size;\n",
              "      div.appendChild(progress);\n",
              "      document.body.appendChild(div);\n",
              "\n",
              "      const buffers = [];\n",
              "      let downloaded = 0;\n",
              "\n",
              "      const channel = await google.colab.kernel.comms.open(id);\n",
              "      // Send a message to notify the kernel that we're ready.\n",
              "      channel.send({})\n",
              "\n",
              "      for await (const message of channel.messages) {\n",
              "        // Send a message to notify the kernel that we're ready.\n",
              "        channel.send({})\n",
              "        if (message.buffers) {\n",
              "          for (const buffer of message.buffers) {\n",
              "            buffers.push(buffer);\n",
              "            downloaded += buffer.byteLength;\n",
              "            progress.value = downloaded;\n",
              "          }\n",
              "        }\n",
              "      }\n",
              "      const blob = new Blob(buffers, {type: 'application/binary'});\n",
              "      const a = document.createElement('a');\n",
              "      a.href = window.URL.createObjectURL(blob);\n",
              "      a.download = filename;\n",
              "      div.appendChild(a);\n",
              "      a.click();\n",
              "      div.remove();\n",
              "    }\n",
              "  "
            ]
          },
          "metadata": {}
        },
        {
          "output_type": "display_data",
          "data": {
            "text/plain": [
              "<IPython.core.display.Javascript object>"
            ],
            "application/javascript": [
              "download(\"download_c381eae8-35ec-46fc-ac6d-26da1fd8f045\", \"checkpoint_epoch_130.pth\", 6529874)"
            ]
          },
          "metadata": {}
        },
        {
          "output_type": "stream",
          "name": "stdout",
          "text": [
            "Epoch 130/150, Loss: 1.3039, Train Acc: 63.19%, Val Acc: 52.90%, Test Acc: 52.74%                        \n",
            "Epoch 131/150, Loss: 1.2970, Train Acc: 63.23%, Val Acc: 52.70%, Test Acc: 52.65%                        \n",
            "Epoch 132/150, Loss: 1.2865, Train Acc: 63.52%, Val Acc: 53.15%, Test Acc: 53.29%                        \n",
            "Epoch 133/150, Loss: 1.2799, Train Acc: 63.82%, Val Acc: 52.66%, Test Acc: 53.15%                        \n",
            "Epoch 134/150, Loss: 1.2799, Train Acc: 63.66%, Val Acc: 52.85%, Test Acc: 53.00%                        \n",
            "Epoch 135/150, Loss: 1.2851, Train Acc: 63.52%, Val Acc: 52.95%, Test Acc: 53.18%                        \n",
            "Epoch 136/150, Loss: 1.2743, Train Acc: 64.03%, Val Acc: 52.70%, Test Acc: 53.13%                        \n",
            "Epoch 137/150, Loss: 1.2626, Train Acc: 64.18%, Val Acc: 52.87%, Test Acc: 53.13%                        \n",
            "Epoch 138/150, Loss: 1.2630, Train Acc: 64.32%, Val Acc: 53.00%, Test Acc: 53.13%                        \n",
            "Epoch 139/150, Loss: 1.2649, Train Acc: 64.14%, Val Acc: 52.74%, Test Acc: 53.32%                        \n",
            "Checkpoint saved at epoch 140: ./checkpoint_epoch_140.pth\n"
          ]
        },
        {
          "output_type": "display_data",
          "data": {
            "text/plain": [
              "<IPython.core.display.Javascript object>"
            ],
            "application/javascript": [
              "\n",
              "    async function download(id, filename, size) {\n",
              "      if (!google.colab.kernel.accessAllowed) {\n",
              "        return;\n",
              "      }\n",
              "      const div = document.createElement('div');\n",
              "      const label = document.createElement('label');\n",
              "      label.textContent = `Downloading \"${filename}\": `;\n",
              "      div.appendChild(label);\n",
              "      const progress = document.createElement('progress');\n",
              "      progress.max = size;\n",
              "      div.appendChild(progress);\n",
              "      document.body.appendChild(div);\n",
              "\n",
              "      const buffers = [];\n",
              "      let downloaded = 0;\n",
              "\n",
              "      const channel = await google.colab.kernel.comms.open(id);\n",
              "      // Send a message to notify the kernel that we're ready.\n",
              "      channel.send({})\n",
              "\n",
              "      for await (const message of channel.messages) {\n",
              "        // Send a message to notify the kernel that we're ready.\n",
              "        channel.send({})\n",
              "        if (message.buffers) {\n",
              "          for (const buffer of message.buffers) {\n",
              "            buffers.push(buffer);\n",
              "            downloaded += buffer.byteLength;\n",
              "            progress.value = downloaded;\n",
              "          }\n",
              "        }\n",
              "      }\n",
              "      const blob = new Blob(buffers, {type: 'application/binary'});\n",
              "      const a = document.createElement('a');\n",
              "      a.href = window.URL.createObjectURL(blob);\n",
              "      a.download = filename;\n",
              "      div.appendChild(a);\n",
              "      a.click();\n",
              "      div.remove();\n",
              "    }\n",
              "  "
            ]
          },
          "metadata": {}
        },
        {
          "output_type": "display_data",
          "data": {
            "text/plain": [
              "<IPython.core.display.Javascript object>"
            ],
            "application/javascript": [
              "download(\"download_93787b8b-9d31-4b5e-a9f0-eefce7ec7d80\", \"checkpoint_epoch_140.pth\", 6529874)"
            ]
          },
          "metadata": {}
        },
        {
          "output_type": "stream",
          "name": "stdout",
          "text": [
            "Epoch 140/150, Loss: 1.2475, Train Acc: 64.40%, Val Acc: 52.75%, Test Acc: 53.38%                        \n",
            "Epoch 141/150, Loss: 1.2450, Train Acc: 64.67%, Val Acc: 52.95%, Test Acc: 53.30%                        \n",
            "Epoch 142/150, Loss: 1.2585, Train Acc: 64.42%, Val Acc: 52.92%, Test Acc: 53.37%                        \n",
            "Epoch 143/150, Loss: 1.2453, Train Acc: 64.60%, Val Acc: 52.86%, Test Acc: 53.35%                        \n",
            "Epoch 144/150, Loss: 1.2481, Train Acc: 64.78%, Val Acc: 53.05%, Test Acc: 53.36%                        \n",
            "Epoch 145/150, Loss: 1.2462, Train Acc: 64.83%, Val Acc: 53.01%, Test Acc: 53.35%                        \n",
            "Epoch 146/150, Loss: 1.2360, Train Acc: 64.97%, Val Acc: 52.96%, Test Acc: 53.34%                        \n",
            "Epoch 147/150, Loss: 1.2470, Train Acc: 64.60%, Val Acc: 53.01%, Test Acc: 53.50%                        \n",
            "Epoch 148/150, Loss: 1.2355, Train Acc: 65.19%, Val Acc: 53.00%, Test Acc: 53.41%                        \n",
            "Epoch 149/150, Loss: 1.2333, Train Acc: 65.08%, Val Acc: 53.02%, Test Acc: 53.41%                        \n",
            "Checkpoint saved at epoch 150: ./checkpoint_epoch_150.pth\n"
          ]
        },
        {
          "output_type": "display_data",
          "data": {
            "text/plain": [
              "<IPython.core.display.Javascript object>"
            ],
            "application/javascript": [
              "\n",
              "    async function download(id, filename, size) {\n",
              "      if (!google.colab.kernel.accessAllowed) {\n",
              "        return;\n",
              "      }\n",
              "      const div = document.createElement('div');\n",
              "      const label = document.createElement('label');\n",
              "      label.textContent = `Downloading \"${filename}\": `;\n",
              "      div.appendChild(label);\n",
              "      const progress = document.createElement('progress');\n",
              "      progress.max = size;\n",
              "      div.appendChild(progress);\n",
              "      document.body.appendChild(div);\n",
              "\n",
              "      const buffers = [];\n",
              "      let downloaded = 0;\n",
              "\n",
              "      const channel = await google.colab.kernel.comms.open(id);\n",
              "      // Send a message to notify the kernel that we're ready.\n",
              "      channel.send({})\n",
              "\n",
              "      for await (const message of channel.messages) {\n",
              "        // Send a message to notify the kernel that we're ready.\n",
              "        channel.send({})\n",
              "        if (message.buffers) {\n",
              "          for (const buffer of message.buffers) {\n",
              "            buffers.push(buffer);\n",
              "            downloaded += buffer.byteLength;\n",
              "            progress.value = downloaded;\n",
              "          }\n",
              "        }\n",
              "      }\n",
              "      const blob = new Blob(buffers, {type: 'application/binary'});\n",
              "      const a = document.createElement('a');\n",
              "      a.href = window.URL.createObjectURL(blob);\n",
              "      a.download = filename;\n",
              "      div.appendChild(a);\n",
              "      a.click();\n",
              "      div.remove();\n",
              "    }\n",
              "  "
            ]
          },
          "metadata": {}
        },
        {
          "output_type": "display_data",
          "data": {
            "text/plain": [
              "<IPython.core.display.Javascript object>"
            ],
            "application/javascript": [
              "download(\"download_3f90b583-0f69-4a90-b89a-7607f542665f\", \"checkpoint_epoch_150.pth\", 6529874)"
            ]
          },
          "metadata": {}
        },
        {
          "output_type": "stream",
          "name": "stdout",
          "text": [
            "Epoch 150/150, Loss: 1.2397, Train Acc: 64.88%, Val Acc: 53.03%, Test Acc: 53.38%                        \n"
          ]
        },
        {
          "output_type": "display_data",
          "data": {
            "text/plain": [
              "<Figure size 600x400 with 1 Axes>"
            ],
            "image/png": "[encoded data removed]"
          },
          "metadata": {}
        },
        {
          "output_type": "display_data",
          "data": {
            "text/plain": [
              "<Figure size 600x400 with 1 Axes>"
            ],
            "image/png": "[encoded data removed]"
          },
          "metadata": {}
        },
        {
          "output_type": "display_data",
          "data": {
            "text/plain": [
              "<Figure size 600x400 with 1 Axes>"
            ],
            "image/png": "[encoded data removed]"
          },
          "metadata": {}
        },
        {
          "output_type": "display_data",
          "data": {
            "text/plain": [
              "<Figure size 600x400 with 1 Axes>"
            ],
            "image/png": "[encoded data removed]"
          },
          "metadata": {}
        },
        {
          "output_type": "display_data",
          "data": {
            "text/plain": [
              "<Figure size 600x400 with 1 Axes>"
            ],
            "image/png": "[encoded data removed]"
          },
          "metadata": {}
        },
        {
          "output_type": "display_data",
          "data": {
            "text/plain": [
              "<Figure size 600x400 with 1 Axes>"
            ],
            "image/png": "[encoded data removed]"
          },
          "metadata": {}
        }
      ],
      "source": [
        "import os\n",
        "import torch\n",
        "import torch.nn as nn\n",
        "import torch.optim as optim\n",
        "import torchvision\n",
        "import torchvision.transforms as transforms\n",
        "import matplotlib.pyplot as plt\n",
        "from torch.utils.data import random_split\n",
        "from google.colab import files\n",
        "\n",
        "# Training settings\n",
        "epochs = 150  # Adjust epochs based on computational resources\n",
        "batch_size = 64\n",
        "momentum = 0.9\n",
        "weight_decay = 4e-4\n",
        "lr = 1e-2\n",
        "\n",
        "# Define LeNet-5 architecture\n",
        "class LeNet5(nn.Module):\n",
        "    def __init__(self):\n",
        "        super(LeNet5, self).__init__()\n",
        "        self.conv1 = nn.Conv2d(3, 64, 5)\n",
        "        # self.bn1 = nn.BatchNorm2d(64)  # Batch Normalization after conv1\n",
        "        self.relu1 = nn.ReLU()\n",
        "        self.pool1 = nn.MaxPool2d(2, 2)\n",
        "\n",
        "        self.conv2 = nn.Conv2d(64, 64, 5)\n",
        "        # self.bn2 = nn.BatchNorm2d(64)  # Batch Normalization after conv2\n",
        "        self.relu2 = nn.ReLU()\n",
        "        self.pool2 = nn.MaxPool2d(2, 2)\n",
        "\n",
        "        self.fc1 = nn.Linear(64 * 5 * 5, 384)\n",
        "        # self.bn3 = nn.BatchNorm1d(384)  # Batch Normalization for fully connected layers\n",
        "        self.relu3 = nn.ReLU()\n",
        "        # self.drop1 = nn.Dropout(p=0.3)\n",
        "\n",
        "        self.fc2 = nn.Linear(384, 192)\n",
        "        # self.bn4 = nn.BatchNorm1d(192)  # Batch Normalization for fully connected layers\n",
        "        self.relu4 = nn.ReLU()\n",
        "        # self.drop2 = nn.Dropout(p=0.3)\n",
        "\n",
        "        self.fc3 = nn.Linear(192, 100)\n",
        "\n",
        "    def forward(self, x):\n",
        "        x = self.pool1(self.relu1(self.conv1(x)))\n",
        "        x = self.pool2(self.relu2(self.conv2(x)))\n",
        "        x = x.view(-1, 64 * 5 * 5)\n",
        "        x = self.fc1(x)\n",
        "        # x = self.bn3(x)\n",
        "        x = self.relu3(x)\n",
        "        # x = self.drop1(x)  # Apply first dropout\n",
        "        x = self.fc2(x)\n",
        "        # x = self.bn4(x)\n",
        "        x = self.relu4(x)\n",
        "        # x = self.drop2(x)  # Apply second dropout\n",
        "        x = self.fc3(x)\n",
        "        return x\n",
        "\n",
        "# Load and split CIFAR-100 dataset\n",
        "# transform = transforms.Compose([\n",
        "#     transforms.RandomHorizontalFlip(),\n",
        "#     transforms.RandomCrop(32, padding=4),\n",
        "#     transforms.ColorJitter(brightness=0.2, contrast=0.2, saturation=0.2, hue=0.1),\n",
        "#     transforms.ToTensor(),\n",
        "#     transforms.Normalize((0.5, 0.5, 0.5), (0.5, 0.5, 0.5))\n",
        "# ])\n",
        "\n",
        "# train_transform = transforms.Compose([\n",
        "#     transforms.RandomHorizontalFlip(0.5),\n",
        "#     transforms.RandomCrop(32,4),\n",
        "#     transforms.ColorJitter(\n",
        "#     brightness=0.2,\n",
        "#     contrast=0.2,\n",
        "#     saturation=0.2,\n",
        "#     hue=0.1\n",
        "#     ),\n",
        "#     transforms.ToTensor(),  # Converti in tensore\n",
        "#     transforms.Normalize((0.5, 0.5, 0.5), (0.5, 0.5, 0.5))  # Normalizzazione\n",
        "# ])\n",
        "\n",
        "train_transform = transforms.Compose([\n",
        "    transforms.RandomHorizontalFlip(),  # Flip orizzontale casuale\n",
        "    transforms.RandomRotation(15),  # Rotazione casuale fino a ±15 gradi\n",
        "    transforms.RandomCrop(32, padding=4),  # Ritaglio casuale con padding\n",
        "    # transforms.RandomAffine(degrees=0, translate=(0.1, 0.1)),  # Traslazione casuale\n",
        "    transforms.RandomPerspective(distortion_scale=0.2, p=0.5),  # Prospettiva casuale\n",
        "    transforms.ColorJitter(\n",
        "        brightness=0.3,  # Regolazione della luminosità\n",
        "        contrast=0.3,    # Regolazione del contrasto\n",
        "        saturation=0.3,  # Regolazione della saturazione\n",
        "        hue=0.2          # Regolazione della tonalità\n",
        "    ),\n",
        "    transforms.ToTensor(),  # Converti in tensore\n",
        "    transforms.Normalize((0.5, 0.5, 0.5), (0.5, 0.5, 0.5))  # Normalizzazione\n",
        "])\n",
        "\n",
        "val_transform = transforms.Compose([\n",
        "    transforms.ToTensor(),\n",
        "    transforms.Normalize((0.5, 0.5, 0.5), (0.5, 0.5, 0.5))  # Normalizzazione\n",
        "])\n",
        "\n",
        "test_transform = transforms.Compose([\n",
        "    transforms.ToTensor(),  # Converti in tensore\n",
        "    transforms.Normalize((0.5, 0.5, 0.5), (0.5, 0.5, 0.5))  # Normalizzazione\n",
        "])\n",
        "\n",
        "torch.manual_seed(42) # Set the seed for reproducibility\n",
        "torch.cuda.manual_seed_all(42) # Set the seed for reproducibility on GPU\n",
        "\n",
        "# dataset = torchvision.datasets.CIFAR100(root='./data', train=True, download=True, transform=transform)\n",
        "# train_size = int(0.8 * len(dataset))\n",
        "# val_size = len(dataset) - train_size\n",
        "# trainset, valset = random_split(dataset, [train_size, val_size])\n",
        "\n",
        "trainset = torchvision.datasets.CIFAR100(root='./data', train=True, download=True, transform=train_transform)\n",
        "valset = torchvision.datasets.CIFAR100(root='./data', train=True, download=True, transform=val_transform)\n",
        "indices = torch.randperm(len(trainset))\n",
        "val_size = int(0.2*len(trainset))\n",
        "trainset = torch.utils.data.Subset(trainset, indices[:-val_size])\n",
        "valset = torch.utils.data.Subset(valset, indices[-val_size:])\n",
        "\n",
        "trainloader = torch.utils.data.DataLoader(trainset, batch_size=batch_size, shuffle=True, num_workers=2)\n",
        "valloader = torch.utils.data.DataLoader(valset, batch_size=batch_size, shuffle=False, num_workers=2)\n",
        "\n",
        "testset = torchvision.datasets.CIFAR100(root='./data', train=False, download=True, transform=test_transform)\n",
        "testloader = torch.utils.data.DataLoader(testset, batch_size=batch_size, shuffle=False, num_workers=2)\n",
        "\n",
        "# Device setup\n",
        "device = torch.device(\"cuda:0\" if torch.cuda.is_available() else \"cpu\")\n",
        "\n",
        "# Initialize model\n",
        "net_sgdm = LeNet5().to(device)\n",
        "\n",
        "# Loss function\n",
        "criterion = nn.CrossEntropyLoss()\n",
        "\n",
        "# Optimizer and scheduler\n",
        "sgdm_optimizer = optim.SGD(net_sgdm.parameters(), lr=lr, momentum=momentum, weight_decay=weight_decay)\n",
        "scheduler_sgdm = optim.lr_scheduler.CosineAnnealingLR(sgdm_optimizer, T_max=150)\n",
        "\n",
        "# Training function\n",
        "def train_model(optimizer, scheduler, model, criterion, trainloader, valloader , testloader, device, epochs, save_checkpoint_interval=10):\n",
        "    train_losses, val_losses, test_losses = [], [], []\n",
        "    train_accuracies, val_accuracies, test_accuracies = [], [], []\n",
        "    for epoch in range(epochs):\n",
        "        model.train()\n",
        "        running_loss, correct_train, total_train = 0.0, 0, 0\n",
        "        for inputs, labels in trainloader:\n",
        "            inputs, labels = inputs.to(device), labels.to(device)\n",
        "            optimizer.zero_grad()\n",
        "            outputs = model(inputs)\n",
        "            loss = criterion(outputs, labels)\n",
        "            loss.backward()\n",
        "            optimizer.step()\n",
        "            running_loss += loss.item()\n",
        "            _, predicted = outputs.max(1)\n",
        "            total_train += labels.size(0)\n",
        "            correct_train += predicted.eq(labels).sum().item()\n",
        "        train_loss = running_loss / len(trainloader)\n",
        "        train_accuracy = 100. * correct_train / total_train\n",
        "        train_losses.append(train_loss)\n",
        "        train_accuracies.append(train_accuracy)\n",
        "\n",
        "        # Validation\n",
        "        model.eval()\n",
        "        correct_val, total_val, val_loss = 0, 0, 0.0\n",
        "        with torch.no_grad():\n",
        "            for inputs, labels in valloader:\n",
        "                inputs, labels = inputs.to(device), labels.to(device)\n",
        "                outputs = model(inputs)\n",
        "                loss = criterion(outputs, labels)\n",
        "                val_loss += loss.item()\n",
        "                _, predicted = outputs.max(1)\n",
        "                total_val += labels.size(0)\n",
        "                correct_val += predicted.eq(labels).sum().item()\n",
        "        val_loss /= len(valloader)\n",
        "        val_losses.append(val_loss)\n",
        "        val_accuracy = 100. * correct_val / total_val\n",
        "        val_accuracies.append(val_accuracy)\n",
        "\n",
        "        # Test\n",
        "        correct_test, total_test, test_loss = 0, 0, 0.0\n",
        "        with torch.no_grad():\n",
        "            for inputs, labels in testloader:\n",
        "                inputs, labels = inputs.to(device), labels.to(device)\n",
        "                outputs = model(inputs)\n",
        "                loss = criterion(outputs, labels)\n",
        "                test_loss += loss.item()\n",
        "                _, predicted = outputs.max(1)\n",
        "                total_test += labels.size(0)\n",
        "                correct_test += predicted.eq(labels).sum().item()\n",
        "        test_loss /= len(testloader)\n",
        "        test_losses.append(test_loss)\n",
        "        test_accuracy = 100. * correct_test / total_test\n",
        "        test_accuracies.append(test_accuracy)\n",
        "\n",
        "        scheduler.step()\n",
        "\n",
        "        # Checkpointing\n",
        "        if (epoch + 1) % save_checkpoint_interval == 0:\n",
        "            checkpoint_filename = f'checkpoint_epoch_{epoch + 1}.pth'\n",
        "            checkpoint = {\n",
        "                'epoch': epoch + 1,\n",
        "                'model_state_dict': model.state_dict(),\n",
        "                'optimizer_state_dict': optimizer.state_dict(),\n",
        "                'loss': loss.item(),\n",
        "            }\n",
        "            checkpoint_path = os.path.join('./', checkpoint_filename)\n",
        "            torch.save(checkpoint, checkpoint_path)\n",
        "            print(f'Checkpoint saved at epoch {epoch + 1}: {checkpoint_path}')\n",
        "\n",
        "            #Download the checkpoint\n",
        "            files.download(checkpoint_filename)\n",
        "\n",
        "        print(f'Epoch {epoch+1}/{epochs}, Loss: {train_loss:.4f}, Train Acc: {train_accuracy:.2f}%, Val Acc: {val_accuracy:.2f}%, Test Acc: {test_accuracy:.2f}%                        ')\n",
        "\n",
        "    return train_losses, val_losses, test_losses,  train_accuracies, val_accuracies, test_accuracies\n",
        "\n",
        "# Train model\n",
        "print(\"--- Train with sgdm ---\")\n",
        "sgdm_train_loss, sgdm_val_loss, sgdm_test_loss, sgdm_train_acc, sgdm_val_acc, sgdm_test_acc= train_model(sgdm_optimizer, scheduler_sgdm, net_sgdm, criterion, trainloader, valloader, testloader, device, epochs)\n",
        "\n",
        "# Save model\n",
        "torch.save(net_sgdm.state_dict(), 'net_sgdm.pth')\n",
        "\n",
        "# Plot results\n",
        "# Plot Training Loss\n",
        "plt.figure(figsize=(6, 4))\n",
        "plt.plot(sgdm_train_loss, label='Train Loss')\n",
        "plt.title('Training Loss')\n",
        "plt.xlabel('Epoch')\n",
        "plt.ylabel('Loss')\n",
        "plt.legend()\n",
        "plt.tight_layout()\n",
        "plt.savefig('train_loss.png')\n",
        "plt.show()\n",
        "\n",
        "# Plot Training Accuracy\n",
        "plt.figure(figsize=(6, 4))\n",
        "plt.plot(sgdm_train_acc, label='Train Accuracy')\n",
        "plt.title('Training Accuracy')\n",
        "plt.xlabel('Epoch')\n",
        "plt.ylabel('Accuracy (%)')\n",
        "plt.legend()\n",
        "plt.tight_layout()\n",
        "plt.savefig('train_accuracy.png')\n",
        "plt.show()\n",
        "\n",
        "# Plot Validation Loss\n",
        "plt.figure(figsize=(6, 4))\n",
        "plt.plot(sgdm_val_loss, label='Validation Loss')\n",
        "plt.title('Validation Loss')\n",
        "plt.xlabel('Epoch')\n",
        "plt.ylabel('Loss')\n",
        "plt.legend()\n",
        "plt.tight_layout()\n",
        "plt.savefig('val_loss.png')\n",
        "plt.show()\n",
        "\n",
        "# Plot Validation Accuracy\n",
        "plt.figure(figsize=(6, 4))\n",
        "plt.plot(sgdm_val_acc, label='Validation Accuracy')\n",
        "plt.title('Validation Accuracy')\n",
        "plt.xlabel('Epoch')\n",
        "plt.ylabel('Accuracy (%)')\n",
        "plt.legend()\n",
        "plt.tight_layout()\n",
        "plt.savefig('val_accuracy.png')\n",
        "plt.show()\n",
        "\n",
        "# Plot Test Loss\n",
        "plt.figure(figsize=(6, 4))\n",
        "plt.plot(sgdm_test_loss, label='Test Loss')\n",
        "plt.title('Test Loss')\n",
        "plt.xlabel('Epoch')\n",
        "plt.ylabel('Loss')\n",
        "plt.legend()\n",
        "plt.tight_layout()\n",
        "plt.savefig('test_loss.png')\n",
        "plt.show()\n",
        "\n",
        "# Plot Test Accuracy\n",
        "plt.figure(figsize=(6, 4))\n",
        "plt.plot(sgdm_test_acc, label='Test Accuracy')\n",
        "plt.title('Test Accuracy')\n",
        "plt.xlabel('Epoch')\n",
        "plt.ylabel('Accuracy (%)')\n",
        "plt.legend()\n",
        "plt.tight_layout()\n",
        "plt.savefig('test_accuracy.png')\n",
        "plt.show()"
      ]
    }
  ],
  "metadata": {
    "colab": {
      "machine_shape": "hm",
      "provenance": [],
      "gpuType": "T4"
    },
    "kernelspec": {
      "display_name": "Python 3",
      "name": "python3"
    },
    "language_info": {
      "name": "python"
    },
    "accelerator": "GPU"
  },
  "nbformat": 4,
  "nbformat_minor": 0
}