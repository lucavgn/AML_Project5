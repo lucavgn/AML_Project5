{
  "cells": [
    {
      "cell_type": "code",
      "execution_count": null,
      "metadata": {
        "colab": {
          "base_uri": "https://localhost:8080/",
          "height": 1000
        },
        "id": "OXtKbnOAeMli",
        "outputId": "56c64c91-f52c-411d-bca7-94f06e90ed72"
      },
      "outputs": [
        {
          "output_type": "stream",
          "name": "stdout",
          "text": [
            "Files already downloaded and verified\n",
            "Files already downloaded and verified\n",
            "Files already downloaded and verified\n",
            "Files already downloaded and verified\n",
            "--- Train with sgdm ---\n",
            "Epoch 1/150, Loss: 4.3509, Train Acc: 4.05%, Val Acc: 8.54%, Test Acc: 8.09%                        \n",
            "Epoch 2/150, Loss: 3.9820, Train Acc: 8.89%, Val Acc: 13.85%, Test Acc: 13.06%                        \n",
            "Epoch 3/150, Loss: 3.7476, Train Acc: 12.56%, Val Acc: 16.78%, Test Acc: 16.62%                        \n",
            "Epoch 4/150, Loss: 3.5701, Train Acc: 15.60%, Val Acc: 20.06%, Test Acc: 19.58%                        \n",
            "Epoch 5/150, Loss: 3.4441, Train Acc: 17.70%, Val Acc: 22.87%, Test Acc: 22.96%                        \n",
            "Epoch 6/150, Loss: 3.3218, Train Acc: 20.07%, Val Acc: 25.84%, Test Acc: 25.31%                        \n",
            "Epoch 7/150, Loss: 3.2368, Train Acc: 21.58%, Val Acc: 26.97%, Test Acc: 26.81%                        \n",
            "Epoch 8/150, Loss: 3.1580, Train Acc: 23.02%, Val Acc: 27.86%, Test Acc: 27.75%                        \n",
            "Epoch 9/150, Loss: 3.0814, Train Acc: 24.42%, Val Acc: 29.90%, Test Acc: 29.45%                        \n",
            "Checkpoint saved at epoch 10: ./checkpoint_epoch_10.pth\n"
          ]
        },
        {
          "output_type": "display_data",
          "data": {
            "text/plain": [
              "<IPython.core.display.Javascript object>"
            ],
            "application/javascript": [
              "\n",
              "    async function download(id, filename, size) {\n",
              "      if (!google.colab.kernel.accessAllowed) {\n",
              "        return;\n",
              "      }\n",
              "      const div = document.createElement('div');\n",
              "      const label = document.createElement('label');\n",
              "      label.textContent = `Downloading \"${filename}\": `;\n",
              "      div.appendChild(label);\n",
              "      const progress = document.createElement('progress');\n",
              "      progress.max = size;\n",
              "      div.appendChild(progress);\n",
              "      document.body.appendChild(div);\n",
              "\n",
              "      const buffers = [];\n",
              "      let downloaded = 0;\n",
              "\n",
              "      const channel = await google.colab.kernel.comms.open(id);\n",
              "      // Send a message to notify the kernel that we're ready.\n",
              "      channel.send({})\n",
              "\n",
              "      for await (const message of channel.messages) {\n",
              "        // Send a message to notify the kernel that we're ready.\n",
              "        channel.send({})\n",
              "        if (message.buffers) {\n",
              "          for (const buffer of message.buffers) {\n",
              "            buffers.push(buffer);\n",
              "            downloaded += buffer.byteLength;\n",
              "            progress.value = downloaded;\n",
              "          }\n",
              "        }\n",
              "      }\n",
              "      const blob = new Blob(buffers, {type: 'application/binary'});\n",
              "      const a = document.createElement('a');\n",
              "      a.href = window.URL.createObjectURL(blob);\n",
              "      a.download = filename;\n",
              "      div.appendChild(a);\n",
              "      a.click();\n",
              "      div.remove();\n",
              "    }\n",
              "  "
            ]
          },
          "metadata": {}
        },
        {
          "output_type": "display_data",
          "data": {
            "text/plain": [
              "<IPython.core.display.Javascript object>"
            ],
            "application/javascript": [
              "download(\"download_fb9fed79-ba34-4b89-a5c9-a41fea173feb\", \"checkpoint_epoch_10.pth\", 6529850)"
            ]
          },
          "metadata": {}
        },
        {
          "output_type": "stream",
          "name": "stdout",
          "text": [
            "Epoch 10/150, Loss: 3.0219, Train Acc: 25.73%, Val Acc: 31.30%, Test Acc: 31.47%                        \n",
            "Epoch 11/150, Loss: 2.9798, Train Acc: 26.45%, Val Acc: 31.63%, Test Acc: 31.20%                        \n",
            "Epoch 12/150, Loss: 2.9203, Train Acc: 27.66%, Val Acc: 33.29%, Test Acc: 32.98%                        \n",
            "Epoch 13/150, Loss: 2.8838, Train Acc: 28.42%, Val Acc: 33.68%, Test Acc: 33.54%                        \n",
            "Epoch 14/150, Loss: 2.8511, Train Acc: 29.00%, Val Acc: 33.41%, Test Acc: 33.96%                        \n",
            "Epoch 15/150, Loss: 2.8028, Train Acc: 29.73%, Val Acc: 34.62%, Test Acc: 34.56%                        \n",
            "Epoch 16/150, Loss: 2.7608, Train Acc: 30.89%, Val Acc: 34.30%, Test Acc: 34.35%                        \n",
            "Epoch 17/150, Loss: 2.7419, Train Acc: 31.17%, Val Acc: 34.63%, Test Acc: 34.69%                        \n",
            "Epoch 18/150, Loss: 2.7197, Train Acc: 31.88%, Val Acc: 36.74%, Test Acc: 36.17%                        \n",
            "Epoch 19/150, Loss: 2.6875, Train Acc: 32.51%, Val Acc: 35.80%, Test Acc: 35.21%                        \n",
            "Checkpoint saved at epoch 20: ./checkpoint_epoch_20.pth\n"
          ]
        },
        {
          "output_type": "display_data",
          "data": {
            "text/plain": [
              "<IPython.core.display.Javascript object>"
            ],
            "application/javascript": [
              "\n",
              "    async function download(id, filename, size) {\n",
              "      if (!google.colab.kernel.accessAllowed) {\n",
              "        return;\n",
              "      }\n",
              "      const div = document.createElement('div');\n",
              "      const label = document.createElement('label');\n",
              "      label.textContent = `Downloading \"${filename}\": `;\n",
              "      div.appendChild(label);\n",
              "      const progress = document.createElement('progress');\n",
              "      progress.max = size;\n",
              "      div.appendChild(progress);\n",
              "      document.body.appendChild(div);\n",
              "\n",
              "      const buffers = [];\n",
              "      let downloaded = 0;\n",
              "\n",
              "      const channel = await google.colab.kernel.comms.open(id);\n",
              "      // Send a message to notify the kernel that we're ready.\n",
              "      channel.send({})\n",
              "\n",
              "      for await (const message of channel.messages) {\n",
              "        // Send a message to notify the kernel that we're ready.\n",
              "        channel.send({})\n",
              "        if (message.buffers) {\n",
              "          for (const buffer of message.buffers) {\n",
              "            buffers.push(buffer);\n",
              "            downloaded += buffer.byteLength;\n",
              "            progress.value = downloaded;\n",
              "          }\n",
              "        }\n",
              "      }\n",
              "      const blob = new Blob(buffers, {type: 'application/binary'});\n",
              "      const a = document.createElement('a');\n",
              "      a.href = window.URL.createObjectURL(blob);\n",
              "      a.download = filename;\n",
              "      div.appendChild(a);\n",
              "      a.click();\n",
              "      div.remove();\n",
              "    }\n",
              "  "
            ]
          },
          "metadata": {}
        },
        {
          "output_type": "display_data",
          "data": {
            "text/plain": [
              "<IPython.core.display.Javascript object>"
            ],
            "application/javascript": [
              "download(\"download_4d0c88de-1cdc-4d31-857a-ee027b1be5ca\", \"checkpoint_epoch_20.pth\", 6529850)"
            ]
          },
          "metadata": {}
        },
        {
          "output_type": "stream",
          "name": "stdout",
          "text": [
            "Epoch 20/150, Loss: 2.6709, Train Acc: 32.55%, Val Acc: 37.48%, Test Acc: 37.34%                        \n",
            "Epoch 21/150, Loss: 2.6465, Train Acc: 33.12%, Val Acc: 38.06%, Test Acc: 38.30%                        \n",
            "Epoch 22/150, Loss: 2.6142, Train Acc: 33.66%, Val Acc: 38.10%, Test Acc: 37.57%                        \n",
            "Epoch 23/150, Loss: 2.5981, Train Acc: 33.96%, Val Acc: 37.92%, Test Acc: 37.85%                        \n",
            "Epoch 24/150, Loss: 2.5693, Train Acc: 34.76%, Val Acc: 37.93%, Test Acc: 38.11%                        \n",
            "Epoch 25/150, Loss: 2.5474, Train Acc: 35.24%, Val Acc: 37.66%, Test Acc: 37.95%                        \n",
            "Epoch 26/150, Loss: 2.5381, Train Acc: 35.38%, Val Acc: 39.00%, Test Acc: 39.50%                        \n",
            "Epoch 27/150, Loss: 2.5058, Train Acc: 35.90%, Val Acc: 40.09%, Test Acc: 40.11%                        \n",
            "Epoch 28/150, Loss: 2.4956, Train Acc: 36.15%, Val Acc: 40.49%, Test Acc: 40.13%                        \n",
            "Epoch 29/150, Loss: 2.4810, Train Acc: 36.49%, Val Acc: 39.57%, Test Acc: 39.71%                        \n",
            "Checkpoint saved at epoch 30: ./checkpoint_epoch_30.pth\n"
          ]
        },
        {
          "output_type": "display_data",
          "data": {
            "text/plain": [
              "<IPython.core.display.Javascript object>"
            ],
            "application/javascript": [
              "\n",
              "    async function download(id, filename, size) {\n",
              "      if (!google.colab.kernel.accessAllowed) {\n",
              "        return;\n",
              "      }\n",
              "      const div = document.createElement('div');\n",
              "      const label = document.createElement('label');\n",
              "      label.textContent = `Downloading \"${filename}\": `;\n",
              "      div.appendChild(label);\n",
              "      const progress = document.createElement('progress');\n",
              "      progress.max = size;\n",
              "      div.appendChild(progress);\n",
              "      document.body.appendChild(div);\n",
              "\n",
              "      const buffers = [];\n",
              "      let downloaded = 0;\n",
              "\n",
              "      const channel = await google.colab.kernel.comms.open(id);\n",
              "      // Send a message to notify the kernel that we're ready.\n",
              "      channel.send({})\n",
              "\n",
              "      for await (const message of channel.messages) {\n",
              "        // Send a message to notify the kernel that we're ready.\n",
              "        channel.send({})\n",
              "        if (message.buffers) {\n",
              "          for (const buffer of message.buffers) {\n",
              "            buffers.push(buffer);\n",
              "            downloaded += buffer.byteLength;\n",
              "            progress.value = downloaded;\n",
              "          }\n",
              "        }\n",
              "      }\n",
              "      const blob = new Blob(buffers, {type: 'application/binary'});\n",
              "      const a = document.createElement('a');\n",
              "      a.href = window.URL.createObjectURL(blob);\n",
              "      a.download = filename;\n",
              "      div.appendChild(a);\n",
              "      a.click();\n",
              "      div.remove();\n",
              "    }\n",
              "  "
            ]
          },
          "metadata": {}
        },
        {
          "output_type": "display_data",
          "data": {
            "text/plain": [
              "<IPython.core.display.Javascript object>"
            ],
            "application/javascript": [
              "download(\"download_69cce9a1-5aef-4cb7-ab63-be10e7fc00fc\", \"checkpoint_epoch_30.pth\", 6529850)"
            ]
          },
          "metadata": {}
        },
        {
          "output_type": "stream",
          "name": "stdout",
          "text": [
            "Epoch 30/150, Loss: 2.4717, Train Acc: 36.69%, Val Acc: 40.54%, Test Acc: 40.13%                        \n",
            "Epoch 31/150, Loss: 2.4445, Train Acc: 37.33%, Val Acc: 40.67%, Test Acc: 40.50%                        \n",
            "Epoch 32/150, Loss: 2.4336, Train Acc: 37.23%, Val Acc: 41.08%, Test Acc: 41.16%                        \n",
            "Epoch 33/150, Loss: 2.4201, Train Acc: 37.95%, Val Acc: 39.87%, Test Acc: 40.62%                        \n",
            "Epoch 34/150, Loss: 2.4097, Train Acc: 37.91%, Val Acc: 41.90%, Test Acc: 41.55%                        \n",
            "Epoch 35/150, Loss: 2.3880, Train Acc: 38.56%, Val Acc: 41.49%, Test Acc: 41.99%                        \n",
            "Epoch 36/150, Loss: 2.3677, Train Acc: 38.64%, Val Acc: 41.85%, Test Acc: 41.57%                        \n",
            "Epoch 37/150, Loss: 2.3610, Train Acc: 39.20%, Val Acc: 40.91%, Test Acc: 39.96%                        \n",
            "Epoch 38/150, Loss: 2.3558, Train Acc: 39.32%, Val Acc: 42.73%, Test Acc: 41.85%                        \n",
            "Epoch 39/150, Loss: 2.3319, Train Acc: 39.34%, Val Acc: 42.43%, Test Acc: 42.03%                        \n",
            "Checkpoint saved at epoch 40: ./checkpoint_epoch_40.pth\n"
          ]
        },
        {
          "output_type": "display_data",
          "data": {
            "text/plain": [
              "<IPython.core.display.Javascript object>"
            ],
            "application/javascript": [
              "\n",
              "    async function download(id, filename, size) {\n",
              "      if (!google.colab.kernel.accessAllowed) {\n",
              "        return;\n",
              "      }\n",
              "      const div = document.createElement('div');\n",
              "      const label = document.createElement('label');\n",
              "      label.textContent = `Downloading \"${filename}\": `;\n",
              "      div.appendChild(label);\n",
              "      const progress = document.createElement('progress');\n",
              "      progress.max = size;\n",
              "      div.appendChild(progress);\n",
              "      document.body.appendChild(div);\n",
              "\n",
              "      const buffers = [];\n",
              "      let downloaded = 0;\n",
              "\n",
              "      const channel = await google.colab.kernel.comms.open(id);\n",
              "      // Send a message to notify the kernel that we're ready.\n",
              "      channel.send({})\n",
              "\n",
              "      for await (const message of channel.messages) {\n",
              "        // Send a message to notify the kernel that we're ready.\n",
              "        channel.send({})\n",
              "        if (message.buffers) {\n",
              "          for (const buffer of message.buffers) {\n",
              "            buffers.push(buffer);\n",
              "            downloaded += buffer.byteLength;\n",
              "            progress.value = downloaded;\n",
              "          }\n",
              "        }\n",
              "      }\n",
              "      const blob = new Blob(buffers, {type: 'application/binary'});\n",
              "      const a = document.createElement('a');\n",
              "      a.href = window.URL.createObjectURL(blob);\n",
              "      a.download = filename;\n",
              "      div.appendChild(a);\n",
              "      a.click();\n",
              "      div.remove();\n",
              "    }\n",
              "  "
            ]
          },
          "metadata": {}
        },
        {
          "output_type": "display_data",
          "data": {
            "text/plain": [
              "<IPython.core.display.Javascript object>"
            ],
            "application/javascript": [
              "download(\"download_d7e739b7-1cb4-4ad2-b488-9c7567f89ed1\", \"checkpoint_epoch_40.pth\", 6529850)"
            ]
          },
          "metadata": {}
        },
        {
          "output_type": "stream",
          "name": "stdout",
          "text": [
            "Epoch 40/150, Loss: 2.3252, Train Acc: 39.62%, Val Acc: 42.44%, Test Acc: 42.94%                        \n",
            "Epoch 41/150, Loss: 2.3203, Train Acc: 39.66%, Val Acc: 42.17%, Test Acc: 42.38%                        \n",
            "Epoch 42/150, Loss: 2.2957, Train Acc: 40.17%, Val Acc: 42.70%, Test Acc: 42.45%                        \n",
            "Epoch 43/150, Loss: 2.2881, Train Acc: 40.54%, Val Acc: 42.09%, Test Acc: 41.59%                        \n",
            "Epoch 44/150, Loss: 2.2794, Train Acc: 40.75%, Val Acc: 42.10%, Test Acc: 42.16%                        \n",
            "Epoch 45/150, Loss: 2.2577, Train Acc: 41.15%, Val Acc: 43.60%, Test Acc: 43.46%                        \n",
            "Epoch 46/150, Loss: 2.2472, Train Acc: 41.31%, Val Acc: 44.33%, Test Acc: 44.45%                        \n",
            "Epoch 47/150, Loss: 2.2400, Train Acc: 41.47%, Val Acc: 44.07%, Test Acc: 44.04%                        \n",
            "Epoch 48/150, Loss: 2.2306, Train Acc: 41.66%, Val Acc: 43.45%, Test Acc: 43.93%                        \n",
            "Epoch 49/150, Loss: 2.2244, Train Acc: 41.89%, Val Acc: 43.76%, Test Acc: 44.00%                        \n",
            "Checkpoint saved at epoch 50: ./checkpoint_epoch_50.pth\n"
          ]
        },
        {
          "output_type": "display_data",
          "data": {
            "text/plain": [
              "<IPython.core.display.Javascript object>"
            ],
            "application/javascript": [
              "\n",
              "    async function download(id, filename, size) {\n",
              "      if (!google.colab.kernel.accessAllowed) {\n",
              "        return;\n",
              "      }\n",
              "      const div = document.createElement('div');\n",
              "      const label = document.createElement('label');\n",
              "      label.textContent = `Downloading \"${filename}\": `;\n",
              "      div.appendChild(label);\n",
              "      const progress = document.createElement('progress');\n",
              "      progress.max = size;\n",
              "      div.appendChild(progress);\n",
              "      document.body.appendChild(div);\n",
              "\n",
              "      const buffers = [];\n",
              "      let downloaded = 0;\n",
              "\n",
              "      const channel = await google.colab.kernel.comms.open(id);\n",
              "      // Send a message to notify the kernel that we're ready.\n",
              "      channel.send({})\n",
              "\n",
              "      for await (const message of channel.messages) {\n",
              "        // Send a message to notify the kernel that we're ready.\n",
              "        channel.send({})\n",
              "        if (message.buffers) {\n",
              "          for (const buffer of message.buffers) {\n",
              "            buffers.push(buffer);\n",
              "            downloaded += buffer.byteLength;\n",
              "            progress.value = downloaded;\n",
              "          }\n",
              "        }\n",
              "      }\n",
              "      const blob = new Blob(buffers, {type: 'application/binary'});\n",
              "      const a = document.createElement('a');\n",
              "      a.href = window.URL.createObjectURL(blob);\n",
              "      a.download = filename;\n",
              "      div.appendChild(a);\n",
              "      a.click();\n",
              "      div.remove();\n",
              "    }\n",
              "  "
            ]
          },
          "metadata": {}
        },
        {
          "output_type": "display_data",
          "data": {
            "text/plain": [
              "<IPython.core.display.Javascript object>"
            ],
            "application/javascript": [
              "download(\"download_89b35537-90d9-4cd6-84c7-ffd80546080c\", \"checkpoint_epoch_50.pth\", 6529850)"
            ]
          },
          "metadata": {}
        },
        {
          "output_type": "stream",
          "name": "stdout",
          "text": [
            "Epoch 50/150, Loss: 2.2059, Train Acc: 42.39%, Val Acc: 44.29%, Test Acc: 44.41%                        \n",
            "Epoch 51/150, Loss: 2.1936, Train Acc: 42.59%, Val Acc: 42.96%, Test Acc: 43.64%                        \n",
            "Epoch 52/150, Loss: 2.1886, Train Acc: 42.63%, Val Acc: 44.13%, Test Acc: 44.15%                        \n",
            "Epoch 53/150, Loss: 2.1828, Train Acc: 42.75%, Val Acc: 44.08%, Test Acc: 44.24%                        \n",
            "Epoch 54/150, Loss: 2.1590, Train Acc: 43.24%, Val Acc: 44.95%, Test Acc: 44.93%                        \n",
            "Epoch 55/150, Loss: 2.1612, Train Acc: 43.12%, Val Acc: 45.14%, Test Acc: 44.76%                        \n",
            "Epoch 56/150, Loss: 2.1318, Train Acc: 44.04%, Val Acc: 44.97%, Test Acc: 44.50%                        \n",
            "Epoch 57/150, Loss: 2.1297, Train Acc: 43.85%, Val Acc: 44.41%, Test Acc: 44.88%                        \n",
            "Epoch 58/150, Loss: 2.1098, Train Acc: 44.16%, Val Acc: 45.32%, Test Acc: 44.98%                        \n",
            "Epoch 59/150, Loss: 2.0991, Train Acc: 44.44%, Val Acc: 45.98%, Test Acc: 46.26%                        \n",
            "Checkpoint saved at epoch 60: ./checkpoint_epoch_60.pth\n"
          ]
        },
        {
          "output_type": "display_data",
          "data": {
            "text/plain": [
              "<IPython.core.display.Javascript object>"
            ],
            "application/javascript": [
              "\n",
              "    async function download(id, filename, size) {\n",
              "      if (!google.colab.kernel.accessAllowed) {\n",
              "        return;\n",
              "      }\n",
              "      const div = document.createElement('div');\n",
              "      const label = document.createElement('label');\n",
              "      label.textContent = `Downloading \"${filename}\": `;\n",
              "      div.appendChild(label);\n",
              "      const progress = document.createElement('progress');\n",
              "      progress.max = size;\n",
              "      div.appendChild(progress);\n",
              "      document.body.appendChild(div);\n",
              "\n",
              "      const buffers = [];\n",
              "      let downloaded = 0;\n",
              "\n",
              "      const channel = await google.colab.kernel.comms.open(id);\n",
              "      // Send a message to notify the kernel that we're ready.\n",
              "      channel.send({})\n",
              "\n",
              "      for await (const message of channel.messages) {\n",
              "        // Send a message to notify the kernel that we're ready.\n",
              "        channel.send({})\n",
              "        if (message.buffers) {\n",
              "          for (const buffer of message.buffers) {\n",
              "            buffers.push(buffer);\n",
              "            downloaded += buffer.byteLength;\n",
              "            progress.value = downloaded;\n",
              "          }\n",
              "        }\n",
              "      }\n",
              "      const blob = new Blob(buffers, {type: 'application/binary'});\n",
              "      const a = document.createElement('a');\n",
              "      a.href = window.URL.createObjectURL(blob);\n",
              "      a.download = filename;\n",
              "      div.appendChild(a);\n",
              "      a.click();\n",
              "      div.remove();\n",
              "    }\n",
              "  "
            ]
          },
          "metadata": {}
        },
        {
          "output_type": "display_data",
          "data": {
            "text/plain": [
              "<IPython.core.display.Javascript object>"
            ],
            "application/javascript": [
              "download(\"download_fc8e8eff-a717-4682-b1f8-039fa609429a\", \"checkpoint_epoch_60.pth\", 6529850)"
            ]
          },
          "metadata": {}
        },
        {
          "output_type": "stream",
          "name": "stdout",
          "text": [
            "Epoch 60/150, Loss: 2.0818, Train Acc: 44.92%, Val Acc: 44.93%, Test Acc: 44.32%                        \n",
            "Epoch 61/150, Loss: 2.0674, Train Acc: 45.23%, Val Acc: 45.48%, Test Acc: 45.32%                        \n",
            "Epoch 62/150, Loss: 2.0542, Train Acc: 45.19%, Val Acc: 45.38%, Test Acc: 44.90%                        \n",
            "Epoch 63/150, Loss: 2.0668, Train Acc: 45.17%, Val Acc: 46.23%, Test Acc: 45.88%                        \n",
            "Epoch 64/150, Loss: 2.0449, Train Acc: 45.55%, Val Acc: 45.81%, Test Acc: 45.24%                        \n",
            "Epoch 65/150, Loss: 2.0290, Train Acc: 46.26%, Val Acc: 46.19%, Test Acc: 46.14%                        \n",
            "Epoch 66/150, Loss: 2.0232, Train Acc: 46.20%, Val Acc: 46.42%, Test Acc: 45.66%                        \n",
            "Epoch 67/150, Loss: 2.0115, Train Acc: 46.66%, Val Acc: 46.53%, Test Acc: 46.57%                        \n",
            "Epoch 68/150, Loss: 1.9979, Train Acc: 46.39%, Val Acc: 46.41%, Test Acc: 46.52%                        \n",
            "Epoch 69/150, Loss: 1.9959, Train Acc: 46.89%, Val Acc: 45.96%, Test Acc: 45.65%                        \n",
            "Checkpoint saved at epoch 70: ./checkpoint_epoch_70.pth\n"
          ]
        },
        {
          "output_type": "display_data",
          "data": {
            "text/plain": [
              "<IPython.core.display.Javascript object>"
            ],
            "application/javascript": [
              "\n",
              "    async function download(id, filename, size) {\n",
              "      if (!google.colab.kernel.accessAllowed) {\n",
              "        return;\n",
              "      }\n",
              "      const div = document.createElement('div');\n",
              "      const label = document.createElement('label');\n",
              "      label.textContent = `Downloading \"${filename}\": `;\n",
              "      div.appendChild(label);\n",
              "      const progress = document.createElement('progress');\n",
              "      progress.max = size;\n",
              "      div.appendChild(progress);\n",
              "      document.body.appendChild(div);\n",
              "\n",
              "      const buffers = [];\n",
              "      let downloaded = 0;\n",
              "\n",
              "      const channel = await google.colab.kernel.comms.open(id);\n",
              "      // Send a message to notify the kernel that we're ready.\n",
              "      channel.send({})\n",
              "\n",
              "      for await (const message of channel.messages) {\n",
              "        // Send a message to notify the kernel that we're ready.\n",
              "        channel.send({})\n",
              "        if (message.buffers) {\n",
              "          for (const buffer of message.buffers) {\n",
              "            buffers.push(buffer);\n",
              "            downloaded += buffer.byteLength;\n",
              "            progress.value = downloaded;\n",
              "          }\n",
              "        }\n",
              "      }\n",
              "      const blob = new Blob(buffers, {type: 'application/binary'});\n",
              "      const a = document.createElement('a');\n",
              "      a.href = window.URL.createObjectURL(blob);\n",
              "      a.download = filename;\n",
              "      div.appendChild(a);\n",
              "      a.click();\n",
              "      div.remove();\n",
              "    }\n",
              "  "
            ]
          },
          "metadata": {}
        },
        {
          "output_type": "display_data",
          "data": {
            "text/plain": [
              "<IPython.core.display.Javascript object>"
            ],
            "application/javascript": [
              "download(\"download_5d1ea5a5-d9d4-48c1-ab29-d7d54f19427b\", \"checkpoint_epoch_70.pth\", 6529850)"
            ]
          },
          "metadata": {}
        },
        {
          "output_type": "stream",
          "name": "stdout",
          "text": [
            "Epoch 70/150, Loss: 1.9768, Train Acc: 47.05%, Val Acc: 47.80%, Test Acc: 47.39%                        \n",
            "Epoch 71/150, Loss: 1.9592, Train Acc: 47.70%, Val Acc: 47.44%, Test Acc: 47.22%                        \n",
            "Epoch 72/150, Loss: 1.9710, Train Acc: 47.53%, Val Acc: 47.58%, Test Acc: 47.63%                        \n",
            "Epoch 73/150, Loss: 1.9428, Train Acc: 48.05%, Val Acc: 47.11%, Test Acc: 47.31%                        \n",
            "Epoch 74/150, Loss: 1.9342, Train Acc: 48.23%, Val Acc: 47.19%, Test Acc: 47.31%                        \n",
            "Epoch 75/150, Loss: 1.9062, Train Acc: 48.71%, Val Acc: 47.25%, Test Acc: 47.10%                        \n",
            "Epoch 76/150, Loss: 1.9001, Train Acc: 48.79%, Val Acc: 46.64%, Test Acc: 47.61%                        \n",
            "Epoch 77/150, Loss: 1.8961, Train Acc: 49.00%, Val Acc: 47.93%, Test Acc: 48.25%                        \n",
            "Epoch 78/150, Loss: 1.8802, Train Acc: 49.29%, Val Acc: 48.03%, Test Acc: 48.04%                        \n",
            "Epoch 79/150, Loss: 1.8625, Train Acc: 49.84%, Val Acc: 47.72%, Test Acc: 47.86%                        \n",
            "Checkpoint saved at epoch 80: ./checkpoint_epoch_80.pth\n"
          ]
        },
        {
          "output_type": "display_data",
          "data": {
            "text/plain": [
              "<IPython.core.display.Javascript object>"
            ],
            "application/javascript": [
              "\n",
              "    async function download(id, filename, size) {\n",
              "      if (!google.colab.kernel.accessAllowed) {\n",
              "        return;\n",
              "      }\n",
              "      const div = document.createElement('div');\n",
              "      const label = document.createElement('label');\n",
              "      label.textContent = `Downloading \"${filename}\": `;\n",
              "      div.appendChild(label);\n",
              "      const progress = document.createElement('progress');\n",
              "      progress.max = size;\n",
              "      div.appendChild(progress);\n",
              "      document.body.appendChild(div);\n",
              "\n",
              "      const buffers = [];\n",
              "      let downloaded = 0;\n",
              "\n",
              "      const channel = await google.colab.kernel.comms.open(id);\n",
              "      // Send a message to notify the kernel that we're ready.\n",
              "      channel.send({})\n",
              "\n",
              "      for await (const message of channel.messages) {\n",
              "        // Send a message to notify the kernel that we're ready.\n",
              "        channel.send({})\n",
              "        if (message.buffers) {\n",
              "          for (const buffer of message.buffers) {\n",
              "            buffers.push(buffer);\n",
              "            downloaded += buffer.byteLength;\n",
              "            progress.value = downloaded;\n",
              "          }\n",
              "        }\n",
              "      }\n",
              "      const blob = new Blob(buffers, {type: 'application/binary'});\n",
              "      const a = document.createElement('a');\n",
              "      a.href = window.URL.createObjectURL(blob);\n",
              "      a.download = filename;\n",
              "      div.appendChild(a);\n",
              "      a.click();\n",
              "      div.remove();\n",
              "    }\n",
              "  "
            ]
          },
          "metadata": {}
        },
        {
          "output_type": "display_data",
          "data": {
            "text/plain": [
              "<IPython.core.display.Javascript object>"
            ],
            "application/javascript": [
              "download(\"download_93625e0d-428a-41e1-8f14-1f31972477aa\", \"checkpoint_epoch_80.pth\", 6529850)"
            ]
          },
          "metadata": {}
        },
        {
          "output_type": "stream",
          "name": "stdout",
          "text": [
            "Epoch 80/150, Loss: 1.8580, Train Acc: 49.74%, Val Acc: 47.66%, Test Acc: 48.28%                        \n",
            "Epoch 81/150, Loss: 1.8529, Train Acc: 49.67%, Val Acc: 47.95%, Test Acc: 48.01%                        \n",
            "Epoch 82/150, Loss: 1.8402, Train Acc: 50.13%, Val Acc: 48.17%, Test Acc: 48.40%                        \n",
            "Epoch 83/150, Loss: 1.8201, Train Acc: 50.67%, Val Acc: 47.91%, Test Acc: 48.42%                        \n",
            "Epoch 84/150, Loss: 1.8116, Train Acc: 50.70%, Val Acc: 47.67%, Test Acc: 48.01%                        \n",
            "Epoch 85/150, Loss: 1.8043, Train Acc: 50.92%, Val Acc: 49.49%, Test Acc: 48.67%                        \n",
            "Epoch 86/150, Loss: 1.7935, Train Acc: 51.18%, Val Acc: 48.36%, Test Acc: 48.78%                        \n",
            "Epoch 87/150, Loss: 1.7665, Train Acc: 51.66%, Val Acc: 48.48%, Test Acc: 48.43%                        \n",
            "Epoch 88/150, Loss: 1.7704, Train Acc: 51.86%, Val Acc: 48.89%, Test Acc: 49.43%                        \n",
            "Epoch 89/150, Loss: 1.7463, Train Acc: 52.45%, Val Acc: 49.39%, Test Acc: 49.23%                        \n",
            "Checkpoint saved at epoch 90: ./checkpoint_epoch_90.pth\n"
          ]
        },
        {
          "output_type": "display_data",
          "data": {
            "text/plain": [
              "<IPython.core.display.Javascript object>"
            ],
            "application/javascript": [
              "\n",
              "    async function download(id, filename, size) {\n",
              "      if (!google.colab.kernel.accessAllowed) {\n",
              "        return;\n",
              "      }\n",
              "      const div = document.createElement('div');\n",
              "      const label = document.createElement('label');\n",
              "      label.textContent = `Downloading \"${filename}\": `;\n",
              "      div.appendChild(label);\n",
              "      const progress = document.createElement('progress');\n",
              "      progress.max = size;\n",
              "      div.appendChild(progress);\n",
              "      document.body.appendChild(div);\n",
              "\n",
              "      const buffers = [];\n",
              "      let downloaded = 0;\n",
              "\n",
              "      const channel = await google.colab.kernel.comms.open(id);\n",
              "      // Send a message to notify the kernel that we're ready.\n",
              "      channel.send({})\n",
              "\n",
              "      for await (const message of channel.messages) {\n",
              "        // Send a message to notify the kernel that we're ready.\n",
              "        channel.send({})\n",
              "        if (message.buffers) {\n",
              "          for (const buffer of message.buffers) {\n",
              "            buffers.push(buffer);\n",
              "            downloaded += buffer.byteLength;\n",
              "            progress.value = downloaded;\n",
              "          }\n",
              "        }\n",
              "      }\n",
              "      const blob = new Blob(buffers, {type: 'application/binary'});\n",
              "      const a = document.createElement('a');\n",
              "      a.href = window.URL.createObjectURL(blob);\n",
              "      a.download = filename;\n",
              "      div.appendChild(a);\n",
              "      a.click();\n",
              "      div.remove();\n",
              "    }\n",
              "  "
            ]
          },
          "metadata": {}
        },
        {
          "output_type": "display_data",
          "data": {
            "text/plain": [
              "<IPython.core.display.Javascript object>"
            ],
            "application/javascript": [
              "download(\"download_b2584659-f326-4a87-9f8b-e74f9fbb7579\", \"checkpoint_epoch_90.pth\", 6529850)"
            ]
          },
          "metadata": {}
        },
        {
          "output_type": "stream",
          "name": "stdout",
          "text": [
            "Epoch 90/150, Loss: 1.7286, Train Acc: 52.74%, Val Acc: 49.46%, Test Acc: 49.84%                        \n",
            "Epoch 91/150, Loss: 1.7225, Train Acc: 52.64%, Val Acc: 48.85%, Test Acc: 49.36%                        \n",
            "Epoch 92/150, Loss: 1.7125, Train Acc: 53.20%, Val Acc: 49.44%, Test Acc: 49.74%                        \n",
            "Epoch 93/150, Loss: 1.7092, Train Acc: 53.31%, Val Acc: 49.50%, Test Acc: 49.33%                        \n",
            "Epoch 94/150, Loss: 1.6923, Train Acc: 53.20%, Val Acc: 48.90%, Test Acc: 49.12%                        \n",
            "Epoch 95/150, Loss: 1.6825, Train Acc: 53.79%, Val Acc: 49.66%, Test Acc: 49.76%                        \n",
            "Epoch 96/150, Loss: 1.6635, Train Acc: 54.16%, Val Acc: 50.14%, Test Acc: 50.34%                        \n",
            "Epoch 97/150, Loss: 1.6487, Train Acc: 54.53%, Val Acc: 50.24%, Test Acc: 50.56%                        \n",
            "Epoch 98/150, Loss: 1.6455, Train Acc: 54.66%, Val Acc: 50.25%, Test Acc: 50.41%                        \n",
            "Epoch 99/150, Loss: 1.6310, Train Acc: 54.80%, Val Acc: 50.52%, Test Acc: 49.86%                        \n",
            "Checkpoint saved at epoch 100: ./checkpoint_epoch_100.pth\n"
          ]
        },
        {
          "output_type": "display_data",
          "data": {
            "text/plain": [
              "<IPython.core.display.Javascript object>"
            ],
            "application/javascript": [
              "\n",
              "    async function download(id, filename, size) {\n",
              "      if (!google.colab.kernel.accessAllowed) {\n",
              "        return;\n",
              "      }\n",
              "      const div = document.createElement('div');\n",
              "      const label = document.createElement('label');\n",
              "      label.textContent = `Downloading \"${filename}\": `;\n",
              "      div.appendChild(label);\n",
              "      const progress = document.createElement('progress');\n",
              "      progress.max = size;\n",
              "      div.appendChild(progress);\n",
              "      document.body.appendChild(div);\n",
              "\n",
              "      const buffers = [];\n",
              "      let downloaded = 0;\n",
              "\n",
              "      const channel = await google.colab.kernel.comms.open(id);\n",
              "      // Send a message to notify the kernel that we're ready.\n",
              "      channel.send({})\n",
              "\n",
              "      for await (const message of channel.messages) {\n",
              "        // Send a message to notify the kernel that we're ready.\n",
              "        channel.send({})\n",
              "        if (message.buffers) {\n",
              "          for (const buffer of message.buffers) {\n",
              "            buffers.push(buffer);\n",
              "            downloaded += buffer.byteLength;\n",
              "            progress.value = downloaded;\n",
              "          }\n",
              "        }\n",
              "      }\n",
              "      const blob = new Blob(buffers, {type: 'application/binary'});\n",
              "      const a = document.createElement('a');\n",
              "      a.href = window.URL.createObjectURL(blob);\n",
              "      a.download = filename;\n",
              "      div.appendChild(a);\n",
              "      a.click();\n",
              "      div.remove();\n",
              "    }\n",
              "  "
            ]
          },
          "metadata": {}
        },
        {
          "output_type": "display_data",
          "data": {
            "text/plain": [
              "<IPython.core.display.Javascript object>"
            ],
            "application/javascript": [
              "download(\"download_085df116-9cef-443d-95ef-47f641454e75\", \"checkpoint_epoch_100.pth\", 6529874)"
            ]
          },
          "metadata": {}
        },
        {
          "output_type": "stream",
          "name": "stdout",
          "text": [
            "Epoch 100/150, Loss: 1.6126, Train Acc: 55.33%, Val Acc: 50.90%, Test Acc: 50.79%                        \n",
            "Epoch 101/150, Loss: 1.6041, Train Acc: 55.59%, Val Acc: 51.23%, Test Acc: 50.99%                        \n",
            "Epoch 102/150, Loss: 1.5913, Train Acc: 55.87%, Val Acc: 50.35%, Test Acc: 50.77%                        \n",
            "Epoch 103/150, Loss: 1.5732, Train Acc: 56.53%, Val Acc: 49.73%, Test Acc: 50.09%                        \n",
            "Epoch 104/150, Loss: 1.5787, Train Acc: 56.16%, Val Acc: 50.38%, Test Acc: 50.96%                        \n",
            "Epoch 105/150, Loss: 1.5528, Train Acc: 56.56%, Val Acc: 51.05%, Test Acc: 51.04%                        \n",
            "Epoch 106/150, Loss: 1.5560, Train Acc: 56.93%, Val Acc: 51.08%, Test Acc: 51.48%                        \n",
            "Epoch 107/150, Loss: 1.5403, Train Acc: 56.96%, Val Acc: 50.76%, Test Acc: 51.18%                        \n",
            "Epoch 108/150, Loss: 1.5229, Train Acc: 57.26%, Val Acc: 51.33%, Test Acc: 51.50%                        \n",
            "Epoch 109/150, Loss: 1.5168, Train Acc: 57.55%, Val Acc: 51.10%, Test Acc: 51.71%                        \n",
            "Checkpoint saved at epoch 110: ./checkpoint_epoch_110.pth\n"
          ]
        },
        {
          "output_type": "display_data",
          "data": {
            "text/plain": [
              "<IPython.core.display.Javascript object>"
            ],
            "application/javascript": [
              "\n",
              "    async function download(id, filename, size) {\n",
              "      if (!google.colab.kernel.accessAllowed) {\n",
              "        return;\n",
              "      }\n",
              "      const div = document.createElement('div');\n",
              "      const label = document.createElement('label');\n",
              "      label.textContent = `Downloading \"${filename}\": `;\n",
              "      div.appendChild(label);\n",
              "      const progress = document.createElement('progress');\n",
              "      progress.max = size;\n",
              "      div.appendChild(progress);\n",
              "      document.body.appendChild(div);\n",
              "\n",
              "      const buffers = [];\n",
              "      let downloaded = 0;\n",
              "\n",
              "      const channel = await google.colab.kernel.comms.open(id);\n",
              "      // Send a message to notify the kernel that we're ready.\n",
              "      channel.send({})\n",
              "\n",
              "      for await (const message of channel.messages) {\n",
              "        // Send a message to notify the kernel that we're ready.\n",
              "        channel.send({})\n",
              "        if (message.buffers) {\n",
              "          for (const buffer of message.buffers) {\n",
              "            buffers.push(buffer);\n",
              "            downloaded += buffer.byteLength;\n",
              "            progress.value = downloaded;\n",
              "          }\n",
              "        }\n",
              "      }\n",
              "      const blob = new Blob(buffers, {type: 'application/binary'});\n",
              "      const a = document.createElement('a');\n",
              "      a.href = window.URL.createObjectURL(blob);\n",
              "      a.download = filename;\n",
              "      div.appendChild(a);\n",
              "      a.click();\n",
              "      div.remove();\n",
              "    }\n",
              "  "
            ]
          },
          "metadata": {}
        },
        {
          "output_type": "display_data",
          "data": {
            "text/plain": [
              "<IPython.core.display.Javascript object>"
            ],
            "application/javascript": [
              "download(\"download_a30c3d4b-b4fe-448a-849b-d6df5fc9ecae\", \"checkpoint_epoch_110.pth\", 6529874)"
            ]
          },
          "metadata": {}
        },
        {
          "output_type": "stream",
          "name": "stdout",
          "text": [
            "Epoch 110/150, Loss: 1.5012, Train Acc: 58.02%, Val Acc: 51.44%, Test Acc: 51.78%                        \n",
            "Epoch 111/150, Loss: 1.4899, Train Acc: 58.36%, Val Acc: 51.11%, Test Acc: 50.77%                        \n",
            "Epoch 112/150, Loss: 1.4790, Train Acc: 58.41%, Val Acc: 51.36%, Test Acc: 50.77%                        \n",
            "Epoch 113/150, Loss: 1.4711, Train Acc: 58.80%, Val Acc: 51.56%, Test Acc: 51.55%                        \n",
            "Epoch 114/150, Loss: 1.4511, Train Acc: 59.42%, Val Acc: 51.69%, Test Acc: 51.65%                        \n",
            "Epoch 115/150, Loss: 1.4595, Train Acc: 58.98%, Val Acc: 51.63%, Test Acc: 51.81%                        \n",
            "Epoch 116/150, Loss: 1.4376, Train Acc: 59.65%, Val Acc: 51.80%, Test Acc: 51.50%                        \n",
            "Epoch 117/150, Loss: 1.4325, Train Acc: 59.71%, Val Acc: 52.05%, Test Acc: 51.65%                        \n",
            "Epoch 118/150, Loss: 1.4053, Train Acc: 60.52%, Val Acc: 51.90%, Test Acc: 52.02%                        \n",
            "Epoch 119/150, Loss: 1.4067, Train Acc: 60.52%, Val Acc: 51.80%, Test Acc: 52.55%                        \n",
            "Checkpoint saved at epoch 120: ./checkpoint_epoch_120.pth\n"
          ]
        },
        {
          "output_type": "display_data",
          "data": {
            "text/plain": [
              "<IPython.core.display.Javascript object>"
            ],
            "application/javascript": [
              "\n",
              "    async function download(id, filename, size) {\n",
              "      if (!google.colab.kernel.accessAllowed) {\n",
              "        return;\n",
              "      }\n",
              "      const div = document.createElement('div');\n",
              "      const label = document.createElement('label');\n",
              "      label.textContent = `Downloading \"${filename}\": `;\n",
              "      div.appendChild(label);\n",
              "      const progress = document.createElement('progress');\n",
              "      progress.max = size;\n",
              "      div.appendChild(progress);\n",
              "      document.body.appendChild(div);\n",
              "\n",
              "      const buffers = [];\n",
              "      let downloaded = 0;\n",
              "\n",
              "      const channel = await google.colab.kernel.comms.open(id);\n",
              "      // Send a message to notify the kernel that we're ready.\n",
              "      channel.send({})\n",
              "\n",
              "      for await (const message of channel.messages) {\n",
              "        // Send a message to notify the kernel that we're ready.\n",
              "        channel.send({})\n",
              "        if (message.buffers) {\n",
              "          for (const buffer of message.buffers) {\n",
              "            buffers.push(buffer);\n",
              "            downloaded += buffer.byteLength;\n",
              "            progress.value = downloaded;\n",
              "          }\n",
              "        }\n",
              "      }\n",
              "      const blob = new Blob(buffers, {type: 'application/binary'});\n",
              "      const a = document.createElement('a');\n",
              "      a.href = window.URL.createObjectURL(blob);\n",
              "      a.download = filename;\n",
              "      div.appendChild(a);\n",
              "      a.click();\n",
              "      div.remove();\n",
              "    }\n",
              "  "
            ]
          },
          "metadata": {}
        },
        {
          "output_type": "display_data",
          "data": {
            "text/plain": [
              "<IPython.core.display.Javascript object>"
            ],
            "application/javascript": [
              "download(\"download_c59d1b6e-484f-41d1-96ab-6b31a6991d03\", \"checkpoint_epoch_120.pth\", 6529874)"
            ]
          },
          "metadata": {}
        },
        {
          "output_type": "stream",
          "name": "stdout",
          "text": [
            "Epoch 120/150, Loss: 1.3960, Train Acc: 60.84%, Val Acc: 51.91%, Test Acc: 51.88%                        \n",
            "Epoch 121/150, Loss: 1.3819, Train Acc: 61.20%, Val Acc: 52.03%, Test Acc: 51.82%                        \n",
            "Epoch 122/150, Loss: 1.3775, Train Acc: 61.01%, Val Acc: 52.11%, Test Acc: 52.18%                        \n",
            "Epoch 123/150, Loss: 1.3769, Train Acc: 61.24%, Val Acc: 52.25%, Test Acc: 51.84%                        \n",
            "Epoch 124/150, Loss: 1.3729, Train Acc: 61.43%, Val Acc: 52.30%, Test Acc: 52.52%                        \n",
            "Epoch 125/150, Loss: 1.3531, Train Acc: 62.06%, Val Acc: 52.15%, Test Acc: 52.21%                        \n",
            "Epoch 126/150, Loss: 1.3471, Train Acc: 61.72%, Val Acc: 53.05%, Test Acc: 52.84%                        \n",
            "Epoch 127/150, Loss: 1.3404, Train Acc: 62.23%, Val Acc: 53.25%, Test Acc: 53.11%                        \n",
            "Epoch 128/150, Loss: 1.3291, Train Acc: 62.51%, Val Acc: 52.82%, Test Acc: 52.47%                        \n",
            "Epoch 129/150, Loss: 1.3171, Train Acc: 62.91%, Val Acc: 53.04%, Test Acc: 52.50%                        \n",
            "Checkpoint saved at epoch 130: ./checkpoint_epoch_130.pth\n"
          ]
        },
        {
          "output_type": "display_data",
          "data": {
            "text/plain": [
              "<IPython.core.display.Javascript object>"
            ],
            "application/javascript": [
              "\n",
              "    async function download(id, filename, size) {\n",
              "      if (!google.colab.kernel.accessAllowed) {\n",
              "        return;\n",
              "      }\n",
              "      const div = document.createElement('div');\n",
              "      const label = document.createElement('label');\n",
              "      label.textContent = `Downloading \"${filename}\": `;\n",
              "      div.appendChild(label);\n",
              "      const progress = document.createElement('progress');\n",
              "      progress.max = size;\n",
              "      div.appendChild(progress);\n",
              "      document.body.appendChild(div);\n",
              "\n",
              "      const buffers = [];\n",
              "      let downloaded = 0;\n",
              "\n",
              "      const channel = await google.colab.kernel.comms.open(id);\n",
              "      // Send a message to notify the kernel that we're ready.\n",
              "      channel.send({})\n",
              "\n",
              "      for await (const message of channel.messages) {\n",
              "        // Send a message to notify the kernel that we're ready.\n",
              "        channel.send({})\n",
              "        if (message.buffers) {\n",
              "          for (const buffer of message.buffers) {\n",
              "            buffers.push(buffer);\n",
              "            downloaded += buffer.byteLength;\n",
              "            progress.value = downloaded;\n",
              "          }\n",
              "        }\n",
              "      }\n",
              "      const blob = new Blob(buffers, {type: 'application/binary'});\n",
              "      const a = document.createElement('a');\n",
              "      a.href = window.URL.createObjectURL(blob);\n",
              "      a.download = filename;\n",
              "      div.appendChild(a);\n",
              "      a.click();\n",
              "      div.remove();\n",
              "    }\n",
              "  "
            ]
          },
          "metadata": {}
        },
        {
          "output_type": "display_data",
          "data": {
            "text/plain": [
              "<IPython.core.display.Javascript object>"
            ],
            "application/javascript": [
              "download(\"download_9492eb65-2282-492d-8e0e-cd854f637230\", \"checkpoint_epoch_130.pth\", 6529874)"
            ]
          },
          "metadata": {}
        },
        {
          "output_type": "stream",
          "name": "stdout",
          "text": [
            "Epoch 130/150, Loss: 1.3174, Train Acc: 62.62%, Val Acc: 52.88%, Test Acc: 52.45%                        \n",
            "Epoch 131/150, Loss: 1.3071, Train Acc: 63.08%, Val Acc: 53.17%, Test Acc: 52.95%                        \n",
            "Epoch 132/150, Loss: 1.3082, Train Acc: 63.04%, Val Acc: 53.30%, Test Acc: 52.81%                        \n",
            "Epoch 133/150, Loss: 1.2919, Train Acc: 63.48%, Val Acc: 53.06%, Test Acc: 53.02%                        \n",
            "Epoch 134/150, Loss: 1.2912, Train Acc: 63.41%, Val Acc: 53.19%, Test Acc: 53.04%                        \n",
            "Epoch 135/150, Loss: 1.2911, Train Acc: 63.33%, Val Acc: 53.07%, Test Acc: 52.88%                        \n",
            "Epoch 136/150, Loss: 1.2837, Train Acc: 63.64%, Val Acc: 53.00%, Test Acc: 53.06%                        \n",
            "Epoch 137/150, Loss: 1.2790, Train Acc: 63.91%, Val Acc: 52.85%, Test Acc: 52.95%                        \n",
            "Epoch 138/150, Loss: 1.2711, Train Acc: 64.08%, Val Acc: 52.96%, Test Acc: 53.27%                        \n",
            "Epoch 139/150, Loss: 1.2744, Train Acc: 63.59%, Val Acc: 53.19%, Test Acc: 53.20%                        \n",
            "Checkpoint saved at epoch 140: ./checkpoint_epoch_140.pth\n"
          ]
        },
        {
          "output_type": "display_data",
          "data": {
            "text/plain": [
              "<IPython.core.display.Javascript object>"
            ],
            "application/javascript": [
              "\n",
              "    async function download(id, filename, size) {\n",
              "      if (!google.colab.kernel.accessAllowed) {\n",
              "        return;\n",
              "      }\n",
              "      const div = document.createElement('div');\n",
              "      const label = document.createElement('label');\n",
              "      label.textContent = `Downloading \"${filename}\": `;\n",
              "      div.appendChild(label);\n",
              "      const progress = document.createElement('progress');\n",
              "      progress.max = size;\n",
              "      div.appendChild(progress);\n",
              "      document.body.appendChild(div);\n",
              "\n",
              "      const buffers = [];\n",
              "      let downloaded = 0;\n",
              "\n",
              "      const channel = await google.colab.kernel.comms.open(id);\n",
              "      // Send a message to notify the kernel that we're ready.\n",
              "      channel.send({})\n",
              "\n",
              "      for await (const message of channel.messages) {\n",
              "        // Send a message to notify the kernel that we're ready.\n",
              "        channel.send({})\n",
              "        if (message.buffers) {\n",
              "          for (const buffer of message.buffers) {\n",
              "            buffers.push(buffer);\n",
              "            downloaded += buffer.byteLength;\n",
              "            progress.value = downloaded;\n",
              "          }\n",
              "        }\n",
              "      }\n",
              "      const blob = new Blob(buffers, {type: 'application/binary'});\n",
              "      const a = document.createElement('a');\n",
              "      a.href = window.URL.createObjectURL(blob);\n",
              "      a.download = filename;\n",
              "      div.appendChild(a);\n",
              "      a.click();\n",
              "      div.remove();\n",
              "    }\n",
              "  "
            ]
          },
          "metadata": {}
        },
        {
          "output_type": "display_data",
          "data": {
            "text/plain": [
              "<IPython.core.display.Javascript object>"
            ],
            "application/javascript": [
              "download(\"download_ceb7dfe0-25d7-49e3-bb09-327332b81b2b\", \"checkpoint_epoch_140.pth\", 6529874)"
            ]
          },
          "metadata": {}
        },
        {
          "output_type": "stream",
          "name": "stdout",
          "text": [
            "Epoch 140/150, Loss: 1.2668, Train Acc: 63.89%, Val Acc: 53.33%, Test Acc: 53.28%                        \n",
            "Epoch 141/150, Loss: 1.2635, Train Acc: 63.94%, Val Acc: 53.17%, Test Acc: 53.33%                        \n",
            "Epoch 142/150, Loss: 1.2738, Train Acc: 63.99%, Val Acc: 53.49%, Test Acc: 53.46%                        \n",
            "Epoch 143/150, Loss: 1.2560, Train Acc: 64.25%, Val Acc: 53.32%, Test Acc: 53.50%                        \n",
            "Epoch 144/150, Loss: 1.2559, Train Acc: 64.37%, Val Acc: 53.24%, Test Acc: 53.42%                        \n",
            "Epoch 145/150, Loss: 1.2512, Train Acc: 64.28%, Val Acc: 53.46%, Test Acc: 53.31%                        \n",
            "Epoch 146/150, Loss: 1.2412, Train Acc: 64.85%, Val Acc: 53.29%, Test Acc: 53.17%                        \n",
            "Epoch 147/150, Loss: 1.2534, Train Acc: 64.28%, Val Acc: 53.43%, Test Acc: 53.39%                        \n",
            "Epoch 148/150, Loss: 1.2421, Train Acc: 64.27%, Val Acc: 53.30%, Test Acc: 53.23%                        \n",
            "Epoch 149/150, Loss: 1.2400, Train Acc: 64.38%, Val Acc: 53.23%, Test Acc: 53.19%                        \n",
            "Checkpoint saved at epoch 150: ./checkpoint_epoch_150.pth\n"
          ]
        },
        {
          "output_type": "display_data",
          "data": {
            "text/plain": [
              "<IPython.core.display.Javascript object>"
            ],
            "application/javascript": [
              "\n",
              "    async function download(id, filename, size) {\n",
              "      if (!google.colab.kernel.accessAllowed) {\n",
              "        return;\n",
              "      }\n",
              "      const div = document.createElement('div');\n",
              "      const label = document.createElement('label');\n",
              "      label.textContent = `Downloading \"${filename}\": `;\n",
              "      div.appendChild(label);\n",
              "      const progress = document.createElement('progress');\n",
              "      progress.max = size;\n",
              "      div.appendChild(progress);\n",
              "      document.body.appendChild(div);\n",
              "\n",
              "      const buffers = [];\n",
              "      let downloaded = 0;\n",
              "\n",
              "      const channel = await google.colab.kernel.comms.open(id);\n",
              "      // Send a message to notify the kernel that we're ready.\n",
              "      channel.send({})\n",
              "\n",
              "      for await (const message of channel.messages) {\n",
              "        // Send a message to notify the kernel that we're ready.\n",
              "        channel.send({})\n",
              "        if (message.buffers) {\n",
              "          for (const buffer of message.buffers) {\n",
              "            buffers.push(buffer);\n",
              "            downloaded += buffer.byteLength;\n",
              "            progress.value = downloaded;\n",
              "          }\n",
              "        }\n",
              "      }\n",
              "      const blob = new Blob(buffers, {type: 'application/binary'});\n",
              "      const a = document.createElement('a');\n",
              "      a.href = window.URL.createObjectURL(blob);\n",
              "      a.download = filename;\n",
              "      div.appendChild(a);\n",
              "      a.click();\n",
              "      div.remove();\n",
              "    }\n",
              "  "
            ]
          },
          "metadata": {}
        },
        {
          "output_type": "display_data",
          "data": {
            "text/plain": [
              "<IPython.core.display.Javascript object>"
            ],
            "application/javascript": [
              "download(\"download_48aaae01-695e-4891-b9ee-d309785add2e\", \"checkpoint_epoch_150.pth\", 6529874)"
            ]
          },
          "metadata": {}
        },
        {
          "output_type": "stream",
          "name": "stdout",
          "text": [
            "Epoch 150/150, Loss: 1.2415, Train Acc: 64.34%, Val Acc: 53.21%, Test Acc: 53.20%                        \n"
          ]
        },
        {
          "output_type": "display_data",
          "data": {
            "text/plain": [
              "<Figure size 600x400 with 1 Axes>"
            ],
            "image/png": "[encoded data removed]"
          },
          "metadata": {}
        },
        {
          "output_type": "display_data",
          "data": {
            "text/plain": [
              "<Figure size 600x400 with 1 Axes>"
            ],
            "image/png": "[encoded data removed]"
          },
          "metadata": {}
        },
        {
          "output_type": "display_data",
          "data": {
            "text/plain": [
              "<Figure size 600x400 with 1 Axes>"
            ],
            "image/png": "[encoded data removed]"
          },
          "metadata": {}
        },
        {
          "output_type": "display_data",
          "data": {
            "text/plain": [
              "<Figure size 600x400 with 1 Axes>"
            ],
            "image/png": "[encoded data removed]"
          },
          "metadata": {}
        },
        {
          "output_type": "display_data",
          "data": {
            "text/plain": [
              "<Figure size 600x400 with 1 Axes>"
            ],
            "image/png": "[encoded data removed]"
          },
          "metadata": {}
        },
        {
          "output_type": "display_data",
          "data": {
            "text/plain": [
              "<Figure size 600x400 with 1 Axes>"
            ],
            "image/png": "[encoded data removed]"
          },
          "metadata": {}
        }
      ],
      "source": [
        "import os\n",
        "import torch\n",
        "import numpy as np\n",
        "import torch.nn as nn\n",
        "import torch.optim as optim\n",
        "import torchvision\n",
        "import torchvision.transforms as transforms\n",
        "import matplotlib.pyplot as plt\n",
        "from torch.utils.data import random_split\n",
        "from google.colab import files\n",
        "\n",
        "# Training settings\n",
        "epochs = 150  # Adjust epochs based on computational resources\n",
        "batch_size = 64\n",
        "momentum = 0.9\n",
        "weight_decay = 4e-4\n",
        "lr = 1e-2\n",
        "def compute_mean_std(dataset):\n",
        "    \"\"\"Compute the mean and std of CIFAR-100 dataset.\n",
        "\n",
        "    Args:\n",
        "        dataset: A dataset derived from `torch.utils.data.Dataset`,\n",
        "                 such as `cifar100_training_dataset` or `cifar100_test_dataset`.\n",
        "\n",
        "    Returns:\n",
        "        A tuple containing (mean, std) for the entire dataset.\n",
        "    \"\"\"\n",
        "\n",
        "    # Extract images and labels\n",
        "    data_r = np.stack([np.array(dataset[i][0])[:, :, 0] for i in range(len(dataset))])\n",
        "    data_g = np.stack([np.array(dataset[i][0])[:, :, 1] for i in range(len(dataset))])\n",
        "    data_b = np.stack([np.array(dataset[i][0])[:, :, 2] for i in range(len(dataset))])\n",
        "\n",
        "    # Compute mean and std\n",
        "    mean = np.mean(data_r), np.mean(data_g), np.mean(data_b)\n",
        "    std = np.std(data_r), np.std(data_g), np.std(data_b)\n",
        "\n",
        "    return mean, std\n",
        "\n",
        "# Define LeNet-5 architecture\n",
        "class LeNet5(nn.Module):\n",
        "    def __init__(self):\n",
        "        super(LeNet5, self).__init__()\n",
        "        self.conv1 = nn.Conv2d(3, 64, 5)\n",
        "        # self.bn1 = nn.BatchNorm2d(64)  # Batch Normalization after conv1\n",
        "        self.relu1 = nn.ReLU()\n",
        "        self.pool1 = nn.MaxPool2d(2, 2)\n",
        "\n",
        "        self.conv2 = nn.Conv2d(64, 64, 5)\n",
        "        # self.bn2 = nn.BatchNorm2d(64)  # Batch Normalization after conv2\n",
        "        self.relu2 = nn.ReLU()\n",
        "        self.pool2 = nn.MaxPool2d(2, 2)\n",
        "\n",
        "        self.fc1 = nn.Linear(64 * 5 * 5, 384)\n",
        "        # self.bn3 = nn.BatchNorm1d(384)  # Batch Normalization for fully connected layers\n",
        "        self.relu3 = nn.ReLU()\n",
        "        # self.drop1 = nn.Dropout(p=0.3)\n",
        "\n",
        "        self.fc2 = nn.Linear(384, 192)\n",
        "        # self.bn4 = nn.BatchNorm1d(192)  # Batch Normalization for fully connected layers\n",
        "        self.relu4 = nn.ReLU()\n",
        "        # self.drop2 = nn.Dropout(p=0.3)\n",
        "\n",
        "        self.fc3 = nn.Linear(192, 100)\n",
        "\n",
        "    def forward(self, x):\n",
        "        x = self.pool1(self.relu1(self.conv1(x)))\n",
        "        x = self.pool2(self.relu2(self.conv2(x)))\n",
        "        x = x.view(-1, 64 * 5 * 5)\n",
        "        x = self.fc1(x)\n",
        "        # x = self.bn3(x)\n",
        "        x = self.relu3(x)\n",
        "        # x = self.drop1(x)  # Apply first dropout\n",
        "        x = self.fc2(x)\n",
        "        # x = self.bn4(x)\n",
        "        x = self.relu4(x)\n",
        "        # x = self.drop2(x)  # Apply second dropout\n",
        "        x = self.fc3(x)\n",
        "        return x\n",
        "torch.manual_seed(42) # Set the seed for reproducibility\n",
        "torch.cuda.manual_seed_all(42) # Set the seed for reproducibility on GPU\n",
        "\n",
        "data = torchvision.datasets.CIFAR100(root='./data', train=True, download=True, transform=transforms.ToTensor())\n",
        "\n",
        "mean, std = compute_mean_std(data)\n",
        "\n",
        "# Load and split CIFAR-100 dataset\n",
        "# train_transform = transforms.Compose([\n",
        "#     transforms.RandomCrop(24),              # Random crop to 24x24\n",
        "#     transforms.Pad(4, padding_mode='constant'),  # Pad to 32x32\n",
        "#     transforms.RandomHorizontalFlip(),   # Random horizontal flip\n",
        "#     transforms.ToTensor(),                  # Convert to tensor\n",
        "#     transforms.Normalize(mean, std)         # Normalize\n",
        "# ])\n",
        "\n",
        "# val_transform = transforms.Compose([\n",
        "#     transforms.ToTensor(), # Convert into tensor\n",
        "#     transforms.Normalize(mean, std)  # Normalization\n",
        "# ])\n",
        "\n",
        "# test_transform = transforms.Compose([\n",
        "#     transforms.CenterCrop(24),\n",
        "#     transforms.Pad(4),\n",
        "#     transforms.ToTensor(),  # Convert to PyTorch tensor\n",
        "#     transforms.Normalize(mean, std)])\n",
        "\n",
        "train_transform = transforms.Compose([\n",
        "    transforms.RandomHorizontalFlip(),  # Flip orizzontale casuale\n",
        "    transforms.RandomRotation(15),  # Rotazione casuale fino a ±15 gradi\n",
        "    transforms.RandomCrop(32, padding=4),  # Ritaglio casuale con padding\n",
        "    # transforms.RandomAffine(degrees=0, translate=(0.1, 0.1)),  # Traslazione casuale\n",
        "    transforms.RandomPerspective(distortion_scale=0.2, p=0.5),  # Prospettiva casuale\n",
        "    transforms.ColorJitter(\n",
        "        brightness=0.3,  # Regolazione della luminosità\n",
        "        contrast=0.3,    # Regolazione del contrasto\n",
        "        saturation=0.3,  # Regolazione della saturazione\n",
        "        hue=0.2          # Regolazione della tonalità\n",
        "    ),\n",
        "    transforms.ToTensor(),  # Converti in tensore\n",
        "    transforms.Normalize(mean, std)  # Normalizzazione\n",
        "])\n",
        "\n",
        "val_transform = transforms.Compose([\n",
        "    transforms.ToTensor(),\n",
        "    transforms.Normalize(mean, std)  # Normalizzazione\n",
        "])\n",
        "\n",
        "test_transform = transforms.Compose([\n",
        "    transforms.ToTensor(),  # Converti in tensore\n",
        "    transforms.Normalize(mean, std)  # Normalizzazione\n",
        "])\n",
        "\n",
        "\n",
        "\n",
        "# dataset = torchvision.datasets.CIFAR100(root='./data', train=True, download=True, transform=transform)\n",
        "# train_size = int(0.8 * len(dataset))\n",
        "# val_size = len(dataset) - train_size\n",
        "# trainset, valset = random_split(dataset, [train_size, val_size])\n",
        "\n",
        "trainset = torchvision.datasets.CIFAR100(root='./data', train=True, download=True, transform=train_transform)\n",
        "valset = torchvision.datasets.CIFAR100(root='./data', train=True, download=True, transform=val_transform)\n",
        "indices = torch.randperm(len(trainset))\n",
        "val_size = int(0.2*len(trainset))\n",
        "trainset = torch.utils.data.Subset(trainset, indices[:-val_size])\n",
        "valset = torch.utils.data.Subset(valset, indices[-val_size:])\n",
        "\n",
        "trainloader = torch.utils.data.DataLoader(trainset, batch_size=batch_size, shuffle=True, num_workers=2)\n",
        "valloader = torch.utils.data.DataLoader(valset, batch_size=batch_size, shuffle=False, num_workers=2)\n",
        "\n",
        "testset = torchvision.datasets.CIFAR100(root='./data', train=False, download=True, transform=test_transform)\n",
        "testloader = torch.utils.data.DataLoader(testset, batch_size=batch_size, shuffle=False, num_workers=2)\n",
        "\n",
        "# Device setup\n",
        "device = torch.device(\"cuda:0\" if torch.cuda.is_available() else \"cpu\")\n",
        "\n",
        "# Initialize model\n",
        "net_sgdm = LeNet5().to(device)\n",
        "\n",
        "# Loss function\n",
        "criterion = nn.CrossEntropyLoss()\n",
        "\n",
        "# Optimizer and scheduler\n",
        "sgdm_optimizer = optim.SGD(net_sgdm.parameters(), lr=lr, momentum=momentum, weight_decay=weight_decay)\n",
        "scheduler_sgdm = optim.lr_scheduler.CosineAnnealingLR(sgdm_optimizer, T_max=150)\n",
        "\n",
        "# Training function\n",
        "def train_model(optimizer, scheduler, model, criterion, trainloader, valloader , testloader, device, epochs, save_checkpoint_interval=10):\n",
        "    train_losses, val_losses, test_losses = [], [], []\n",
        "    train_accuracies, val_accuracies, test_accuracies = [], [], []\n",
        "    for epoch in range(epochs):\n",
        "        model.train()\n",
        "        running_loss, correct_train, total_train = 0.0, 0, 0\n",
        "        for inputs, labels in trainloader:\n",
        "            inputs, labels = inputs.to(device), labels.to(device)\n",
        "            optimizer.zero_grad()\n",
        "            outputs = model(inputs)\n",
        "            loss = criterion(outputs, labels)\n",
        "            loss.backward()\n",
        "            optimizer.step()\n",
        "            running_loss += loss.item()\n",
        "            _, predicted = outputs.max(1)\n",
        "            total_train += labels.size(0)\n",
        "            correct_train += predicted.eq(labels).sum().item()\n",
        "        train_loss = running_loss / len(trainloader)\n",
        "        train_accuracy = 100. * correct_train / total_train\n",
        "        train_losses.append(train_loss)\n",
        "        train_accuracies.append(train_accuracy)\n",
        "\n",
        "        # Validation\n",
        "        model.eval()\n",
        "        correct_val, total_val, val_loss = 0, 0, 0.0\n",
        "        with torch.no_grad():\n",
        "            for inputs, labels in valloader:\n",
        "                inputs, labels = inputs.to(device), labels.to(device)\n",
        "                outputs = model(inputs)\n",
        "                loss = criterion(outputs, labels)\n",
        "                val_loss += loss.item()\n",
        "                _, predicted = outputs.max(1)\n",
        "                total_val += labels.size(0)\n",
        "                correct_val += predicted.eq(labels).sum().item()\n",
        "        val_loss /= len(valloader)\n",
        "        val_losses.append(val_loss)\n",
        "        val_accuracy = 100. * correct_val / total_val\n",
        "        val_accuracies.append(val_accuracy)\n",
        "\n",
        "        # Test\n",
        "        correct_test, total_test, test_loss = 0, 0, 0.0\n",
        "        with torch.no_grad():\n",
        "            for inputs, labels in testloader:\n",
        "                inputs, labels = inputs.to(device), labels.to(device)\n",
        "                outputs = model(inputs)\n",
        "                loss = criterion(outputs, labels)\n",
        "                test_loss += loss.item()\n",
        "                _, predicted = outputs.max(1)\n",
        "                total_test += labels.size(0)\n",
        "                correct_test += predicted.eq(labels).sum().item()\n",
        "        test_loss /= len(testloader)\n",
        "        test_losses.append(test_loss)\n",
        "        test_accuracy = 100. * correct_test / total_test\n",
        "        test_accuracies.append(test_accuracy)\n",
        "\n",
        "        scheduler.step()\n",
        "\n",
        "        # Checkpointing\n",
        "        if (epoch + 1) % save_checkpoint_interval == 0:\n",
        "            checkpoint_filename = f'checkpoint_epoch_{epoch + 1}.pth'\n",
        "            checkpoint = {\n",
        "                'epoch': epoch + 1,\n",
        "                'model_state_dict': model.state_dict(),\n",
        "                'optimizer_state_dict': optimizer.state_dict(),\n",
        "                'loss': loss.item(),\n",
        "            }\n",
        "            checkpoint_path = os.path.join('./', checkpoint_filename)\n",
        "            torch.save(checkpoint, checkpoint_path)\n",
        "            print(f'Checkpoint saved at epoch {epoch + 1}: {checkpoint_path}')\n",
        "\n",
        "            #Download the checkpoint\n",
        "            files.download(checkpoint_filename)\n",
        "\n",
        "        print(f'Epoch {epoch+1}/{epochs}, Loss: {train_loss:.4f}, Train Acc: {train_accuracy:.2f}%, Val Acc: {val_accuracy:.2f}%, Test Acc: {test_accuracy:.2f}%                        ')\n",
        "\n",
        "    return train_losses, val_losses, test_losses,  train_accuracies, val_accuracies, test_accuracies\n",
        "\n",
        "# Train model\n",
        "print(\"--- Train with sgdm ---\")\n",
        "sgdm_train_loss, sgdm_val_loss, sgdm_test_loss, sgdm_train_acc, sgdm_val_acc, sgdm_test_acc= train_model(sgdm_optimizer, scheduler_sgdm, net_sgdm, criterion, trainloader, valloader, testloader, device, epochs)\n",
        "\n",
        "# Save model\n",
        "torch.save(net_sgdm.state_dict(), 'net_sgdm.pth')\n",
        "\n",
        "# Plot results\n",
        "# Plot Training Loss\n",
        "plt.figure(figsize=(6, 4))\n",
        "plt.plot(sgdm_train_loss, label='Train Loss')\n",
        "plt.title('Training Loss')\n",
        "plt.xlabel('Epoch')\n",
        "plt.ylabel('Loss')\n",
        "plt.legend()\n",
        "plt.tight_layout()\n",
        "plt.savefig('train_loss.png')\n",
        "plt.show()\n",
        "\n",
        "# Plot Training Accuracy\n",
        "plt.figure(figsize=(6, 4))\n",
        "plt.plot(sgdm_train_acc, label='Train Accuracy')\n",
        "plt.title('Training Accuracy')\n",
        "plt.xlabel('Epoch')\n",
        "plt.ylabel('Accuracy (%)')\n",
        "plt.legend()\n",
        "plt.tight_layout()\n",
        "plt.savefig('train_accuracy.png')\n",
        "plt.show()\n",
        "\n",
        "# Plot Validation Loss\n",
        "plt.figure(figsize=(6, 4))\n",
        "plt.plot(sgdm_val_loss, label='Validation Loss')\n",
        "plt.title('Validation Loss')\n",
        "plt.xlabel('Epoch')\n",
        "plt.ylabel('Loss')\n",
        "plt.legend()\n",
        "plt.tight_layout()\n",
        "plt.savefig('val_loss.png')\n",
        "plt.show()\n",
        "\n",
        "# Plot Validation Accuracy\n",
        "plt.figure(figsize=(6, 4))\n",
        "plt.plot(sgdm_val_acc, label='Validation Accuracy')\n",
        "plt.title('Validation Accuracy')\n",
        "plt.xlabel('Epoch')\n",
        "plt.ylabel('Accuracy (%)')\n",
        "plt.legend()\n",
        "plt.tight_layout()\n",
        "plt.savefig('val_accuracy.png')\n",
        "plt.show()\n",
        "\n",
        "# Plot Test Loss\n",
        "plt.figure(figsize=(6, 4))\n",
        "plt.plot(sgdm_test_loss, label='Test Loss')\n",
        "plt.title('Test Loss')\n",
        "plt.xlabel('Epoch')\n",
        "plt.ylabel('Loss')\n",
        "plt.legend()\n",
        "plt.tight_layout()\n",
        "plt.savefig('test_loss.png')\n",
        "plt.show()\n",
        "\n",
        "# Plot Test Accuracy\n",
        "plt.figure(figsize=(6, 4))\n",
        "plt.plot(sgdm_test_acc, label='Test Accuracy')\n",
        "plt.title('Test Accuracy')\n",
        "plt.xlabel('Epoch')\n",
        "plt.ylabel('Accuracy (%)')\n",
        "plt.legend()\n",
        "plt.tight_layout()\n",
        "plt.savefig('test_accuracy.png')\n",
        "plt.show()"
      ]
    }
  ],
  "metadata": {
    "colab": {
      "machine_shape": "hm",
      "provenance": [],
      "gpuType": "T4"
    },
    "kernelspec": {
      "display_name": "Python 3",
      "name": "python3"
    },
    "language_info": {
      "name": "python"
    },
    "accelerator": "GPU"
  },
  "nbformat": 4,
  "nbformat_minor": 0
}